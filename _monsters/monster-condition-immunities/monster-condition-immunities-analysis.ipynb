{
 "cells": [
  {
   "cell_type": "code",
   "execution_count": 413,
   "metadata": {},
   "outputs": [
    {
     "name": "stdout",
     "output_type": "stream",
     "text": [
      "Includes 1419 monsters in database\n"
     ]
    }
   ],
   "source": [
    "# Initialize notebook\n",
    "import pandas as pd\n",
    "import numpy as np\n",
    "from bs4 import BeautifulSoup\n",
    "from matplotlib import pyplot as plt\n",
    "from matplotlib.ticker import (MultipleLocator, FormatStrFormatter, AutoMinorLocator)\n",
    "\n",
    "METADATA = {'Contributor': 'T. Dunn'}\n",
    "FSIZE = [5,4]\n",
    "FDPI = 100\n",
    "SAVEFIGS = True\n",
    "\n",
    "df0 = pd.read_csv('monster-immunities.csv')\n",
    "df0 = df0.astype({'Book': 'category', 'Category': 'category', 'Legendary': 'category', 'Type': 'category', 'Size': 'category'})\n",
    "df0['All Conditions'] = df0['Blinded'] + df0['Charmed'] + df0['Deafened'] + df0['Exhaustion'] + df0['Frightened'] + df0['Grappled'] + df0['Incapacitated'] + df0['Invisible'] + df0['Paralyzed'] + df0['Petrified'] + df0['Poisoned'] + df0['Prone'] + df0['Restrained'] + df0['Stunned'] + df0['Unconscious']\n",
    "df0.drop_duplicates(inplace=True)\n",
    "print('Includes {} monsters in database'.format(len(df0.index.to_list())))\n",
    "\n",
    "CONDITIONS = ['Blinded','Charmed','Deafened','Exhaustion','Frightened',\n",
    "    'Grappled','Incapacitated','Invisible','Paralyzed','Petrified',\n",
    "    'Poisoned','Prone','Restrained','Stunned','Unconscious']\n",
    "CONDITION_COLORS = ['gold', 'red', 'green', 'orange', 'teal',\n",
    "    'purple', 'navy', 'maroon', 'olivedrab', 'orangered',\n",
    "    'blue', 'darkviolet', 'dodgerblue', 'brown', 'darkgreen']"
   ]
  },
  {
   "cell_type": "code",
   "execution_count": 134,
   "metadata": {},
   "outputs": [],
   "source": [
    "# Setup template and html config for plotly figures.\n",
    "import plotly.graph_objects as go\n",
    "\n",
    "TFB_TEMPLATE = dict(\n",
    "    layout=go.Layout(\n",
    "        template='plotly_white',\n",
    "        autosize=True, # must be True to auto-scale when resizing\n",
    "        margin=dict(l=50, r=25, b=40, t=20, pad=4),\n",
    "        font=dict(\n",
    "            family='sans-serif',\n",
    "            size=14\n",
    "        ),\n",
    "        hovermode='closest',\n",
    "        xaxis=dict(\n",
    "            autorange=False,\n",
    "            automargin=True,\n",
    "            fixedrange=True,\n",
    "            showline=True,\n",
    "            linecolor='#444',\n",
    "            linewidth=2,\n",
    "            mirror=True,\n",
    "            tickmode='linear',\n",
    "            ticks='outside',\n",
    "            minor=dict(\n",
    "                #showgrid=True,\n",
    "                tickmode='linear',\n",
    "                ticks='outside',\n",
    "            ),\n",
    "            zeroline=False,\n",
    "        ),\n",
    "        yaxis=dict(\n",
    "            autorange=False,\n",
    "            automargin=True,\n",
    "            fixedrange=True,\n",
    "            showline=True,\n",
    "            linecolor='#444',\n",
    "            linewidth=2,\n",
    "            mirror=True,\n",
    "            tickmode='linear',\n",
    "            ticks='outside',\n",
    "            minor=dict(\n",
    "                #showgrid=True,\n",
    "                tickmode='linear',\n",
    "                ticks='outside',\n",
    "            ),\n",
    "            zeroline=False,\n",
    "        ),\n",
    "        legend=dict(\n",
    "            #bordercolor='Black',\n",
    "            #borderwidth=1,\n",
    "            font_size=10,\n",
    "            #tracegroupgap=5,\n",
    "            #orientation='h',\n",
    "        )\n",
    "    )\n",
    ")\n",
    "\n",
    "TFB_CONFIG = {\n",
    "    'responsive': True, # must be True to auto-scale when resizing\n",
    "    'autosizable': True, # doesn't impact auto rescaling\n",
    "    'showAxisDragHandles': False,\n",
    "    'displaylogo': False,\n",
    "    'displayModeBar': 'hover',\n",
    "    'modeBarButtonsToRemove': [\n",
    "        'select2d',\n",
    "        'lasso2d',\n",
    "        'zoom2d',\n",
    "        'zoomIn2d',\n",
    "        'zoomOut2d',\n",
    "        'pan2d',\n",
    "        'autoScale2d',\n",
    "        'hoverClosestCartesian',\n",
    "        'hoverCompareCartesian',\n",
    "        'toggleSpikelines',\n",
    "        'resetScale2d',\n",
    "    ],\n",
    "    'toImageButtonOptions': {\n",
    "        'format': 'png', # one of png, svg, jpeg, webp\n",
    "        'filename': 'tfb-plot',\n",
    "        'height': 450,\n",
    "        'width': 600,\n",
    "        'scale': 2\n",
    "    },\n",
    "}\n"
   ]
  },
  {
   "cell_type": "code",
   "execution_count": 383,
   "metadata": {},
   "outputs": [
    {
     "data": {
      "application/vnd.plotly.v1+json": {
       "config": {
        "autosizable": true,
        "displayModeBar": "hover",
        "displaylogo": false,
        "modeBarButtonsToRemove": [
         "select2d",
         "lasso2d",
         "zoom2d",
         "zoomIn2d",
         "zoomOut2d",
         "pan2d",
         "autoScale2d",
         "hoverClosestCartesian",
         "hoverCompareCartesian",
         "toggleSpikelines",
         "resetScale2d"
        ],
        "plotlyServerURL": "https://plot.ly",
        "responsive": true,
        "showAxisDragHandles": false,
        "toImageButtonOptions": {
         "filename": "tfb-plot",
         "format": "png",
         "height": 450,
         "scale": 2,
         "width": 600
        }
       },
       "data": [
        {
         "hovertemplate": "<b>Condition:</b> %{x}<br><b>Immune:</b> %{text}<extra></extra>",
         "marker": {
          "line": {
           "color": "Black",
           "width": 1
          },
          "size": 12
         },
         "mode": "markers",
         "text": [
          "7% (82 out of 1182)",
          "23% (270 out of 1182)",
          "6% (66 out of 1182)",
          "18% (210 out of 1182)",
          "23% (276 out of 1182)",
          "5% (54 out of 1182)",
          "0% (1 out of 1182)",
          "0% (0 out of 1182)",
          "15% (173 out of 1182)",
          "11% (125 out of 1182)",
          "27% (323 out of 1182)",
          "9% (107 out of 1182)",
          "5% (55 out of 1182)",
          "3% (39 out of 1182)",
          "2% (21 out of 1182)"
         ],
         "type": "scatter",
         "unselected": {
          "marker": {
           "opacity": 0
          }
         },
         "x": [
          "Blinded",
          "Charmed",
          "Deafened",
          "Exhaustion",
          "Frightened",
          "Grappled",
          "Incapacitated",
          "Invisible",
          "Paralyzed",
          "Petrified",
          "Poisoned",
          "Prone",
          "Restrained",
          "Stunned",
          "Unconscious"
         ],
         "y": [
          6.937394247038917,
          22.84263959390863,
          5.583756345177665,
          17.766497461928935,
          23.3502538071066,
          4.568527918781726,
          0.08460236886632826,
          0,
          14.636209813874789,
          10.575296108291033,
          27.326565143824027,
          9.052453468697124,
          4.653130287648055,
          3.2994923857868024,
          1.7766497461928936
         ]
        }
       ],
       "layout": {
        "template": {
         "data": {
          "bar": [
           {
            "error_x": {
             "color": "#2a3f5f"
            },
            "error_y": {
             "color": "#2a3f5f"
            },
            "marker": {
             "line": {
              "color": "#E5ECF6",
              "width": 0.5
             },
             "pattern": {
              "fillmode": "overlay",
              "size": 10,
              "solidity": 0.2
             }
            },
            "type": "bar"
           }
          ],
          "barpolar": [
           {
            "marker": {
             "line": {
              "color": "#E5ECF6",
              "width": 0.5
             },
             "pattern": {
              "fillmode": "overlay",
              "size": 10,
              "solidity": 0.2
             }
            },
            "type": "barpolar"
           }
          ],
          "carpet": [
           {
            "aaxis": {
             "endlinecolor": "#2a3f5f",
             "gridcolor": "white",
             "linecolor": "white",
             "minorgridcolor": "white",
             "startlinecolor": "#2a3f5f"
            },
            "baxis": {
             "endlinecolor": "#2a3f5f",
             "gridcolor": "white",
             "linecolor": "white",
             "minorgridcolor": "white",
             "startlinecolor": "#2a3f5f"
            },
            "type": "carpet"
           }
          ],
          "choropleth": [
           {
            "colorbar": {
             "outlinewidth": 0,
             "ticks": ""
            },
            "type": "choropleth"
           }
          ],
          "contour": [
           {
            "colorbar": {
             "outlinewidth": 0,
             "ticks": ""
            },
            "colorscale": [
             [
              0,
              "#0d0887"
             ],
             [
              0.1111111111111111,
              "#46039f"
             ],
             [
              0.2222222222222222,
              "#7201a8"
             ],
             [
              0.3333333333333333,
              "#9c179e"
             ],
             [
              0.4444444444444444,
              "#bd3786"
             ],
             [
              0.5555555555555556,
              "#d8576b"
             ],
             [
              0.6666666666666666,
              "#ed7953"
             ],
             [
              0.7777777777777778,
              "#fb9f3a"
             ],
             [
              0.8888888888888888,
              "#fdca26"
             ],
             [
              1,
              "#f0f921"
             ]
            ],
            "type": "contour"
           }
          ],
          "contourcarpet": [
           {
            "colorbar": {
             "outlinewidth": 0,
             "ticks": ""
            },
            "type": "contourcarpet"
           }
          ],
          "heatmap": [
           {
            "colorbar": {
             "outlinewidth": 0,
             "ticks": ""
            },
            "colorscale": [
             [
              0,
              "#0d0887"
             ],
             [
              0.1111111111111111,
              "#46039f"
             ],
             [
              0.2222222222222222,
              "#7201a8"
             ],
             [
              0.3333333333333333,
              "#9c179e"
             ],
             [
              0.4444444444444444,
              "#bd3786"
             ],
             [
              0.5555555555555556,
              "#d8576b"
             ],
             [
              0.6666666666666666,
              "#ed7953"
             ],
             [
              0.7777777777777778,
              "#fb9f3a"
             ],
             [
              0.8888888888888888,
              "#fdca26"
             ],
             [
              1,
              "#f0f921"
             ]
            ],
            "type": "heatmap"
           }
          ],
          "heatmapgl": [
           {
            "colorbar": {
             "outlinewidth": 0,
             "ticks": ""
            },
            "colorscale": [
             [
              0,
              "#0d0887"
             ],
             [
              0.1111111111111111,
              "#46039f"
             ],
             [
              0.2222222222222222,
              "#7201a8"
             ],
             [
              0.3333333333333333,
              "#9c179e"
             ],
             [
              0.4444444444444444,
              "#bd3786"
             ],
             [
              0.5555555555555556,
              "#d8576b"
             ],
             [
              0.6666666666666666,
              "#ed7953"
             ],
             [
              0.7777777777777778,
              "#fb9f3a"
             ],
             [
              0.8888888888888888,
              "#fdca26"
             ],
             [
              1,
              "#f0f921"
             ]
            ],
            "type": "heatmapgl"
           }
          ],
          "histogram": [
           {
            "marker": {
             "pattern": {
              "fillmode": "overlay",
              "size": 10,
              "solidity": 0.2
             }
            },
            "type": "histogram"
           }
          ],
          "histogram2d": [
           {
            "colorbar": {
             "outlinewidth": 0,
             "ticks": ""
            },
            "colorscale": [
             [
              0,
              "#0d0887"
             ],
             [
              0.1111111111111111,
              "#46039f"
             ],
             [
              0.2222222222222222,
              "#7201a8"
             ],
             [
              0.3333333333333333,
              "#9c179e"
             ],
             [
              0.4444444444444444,
              "#bd3786"
             ],
             [
              0.5555555555555556,
              "#d8576b"
             ],
             [
              0.6666666666666666,
              "#ed7953"
             ],
             [
              0.7777777777777778,
              "#fb9f3a"
             ],
             [
              0.8888888888888888,
              "#fdca26"
             ],
             [
              1,
              "#f0f921"
             ]
            ],
            "type": "histogram2d"
           }
          ],
          "histogram2dcontour": [
           {
            "colorbar": {
             "outlinewidth": 0,
             "ticks": ""
            },
            "colorscale": [
             [
              0,
              "#0d0887"
             ],
             [
              0.1111111111111111,
              "#46039f"
             ],
             [
              0.2222222222222222,
              "#7201a8"
             ],
             [
              0.3333333333333333,
              "#9c179e"
             ],
             [
              0.4444444444444444,
              "#bd3786"
             ],
             [
              0.5555555555555556,
              "#d8576b"
             ],
             [
              0.6666666666666666,
              "#ed7953"
             ],
             [
              0.7777777777777778,
              "#fb9f3a"
             ],
             [
              0.8888888888888888,
              "#fdca26"
             ],
             [
              1,
              "#f0f921"
             ]
            ],
            "type": "histogram2dcontour"
           }
          ],
          "mesh3d": [
           {
            "colorbar": {
             "outlinewidth": 0,
             "ticks": ""
            },
            "type": "mesh3d"
           }
          ],
          "parcoords": [
           {
            "line": {
             "colorbar": {
              "outlinewidth": 0,
              "ticks": ""
             }
            },
            "type": "parcoords"
           }
          ],
          "pie": [
           {
            "automargin": true,
            "type": "pie"
           }
          ],
          "scatter": [
           {
            "fillpattern": {
             "fillmode": "overlay",
             "size": 10,
             "solidity": 0.2
            },
            "type": "scatter"
           }
          ],
          "scatter3d": [
           {
            "line": {
             "colorbar": {
              "outlinewidth": 0,
              "ticks": ""
             }
            },
            "marker": {
             "colorbar": {
              "outlinewidth": 0,
              "ticks": ""
             }
            },
            "type": "scatter3d"
           }
          ],
          "scattercarpet": [
           {
            "marker": {
             "colorbar": {
              "outlinewidth": 0,
              "ticks": ""
             }
            },
            "type": "scattercarpet"
           }
          ],
          "scattergeo": [
           {
            "marker": {
             "colorbar": {
              "outlinewidth": 0,
              "ticks": ""
             }
            },
            "type": "scattergeo"
           }
          ],
          "scattergl": [
           {
            "marker": {
             "colorbar": {
              "outlinewidth": 0,
              "ticks": ""
             }
            },
            "type": "scattergl"
           }
          ],
          "scattermapbox": [
           {
            "marker": {
             "colorbar": {
              "outlinewidth": 0,
              "ticks": ""
             }
            },
            "type": "scattermapbox"
           }
          ],
          "scatterpolar": [
           {
            "marker": {
             "colorbar": {
              "outlinewidth": 0,
              "ticks": ""
             }
            },
            "type": "scatterpolar"
           }
          ],
          "scatterpolargl": [
           {
            "marker": {
             "colorbar": {
              "outlinewidth": 0,
              "ticks": ""
             }
            },
            "type": "scatterpolargl"
           }
          ],
          "scatterternary": [
           {
            "marker": {
             "colorbar": {
              "outlinewidth": 0,
              "ticks": ""
             }
            },
            "type": "scatterternary"
           }
          ],
          "surface": [
           {
            "colorbar": {
             "outlinewidth": 0,
             "ticks": ""
            },
            "colorscale": [
             [
              0,
              "#0d0887"
             ],
             [
              0.1111111111111111,
              "#46039f"
             ],
             [
              0.2222222222222222,
              "#7201a8"
             ],
             [
              0.3333333333333333,
              "#9c179e"
             ],
             [
              0.4444444444444444,
              "#bd3786"
             ],
             [
              0.5555555555555556,
              "#d8576b"
             ],
             [
              0.6666666666666666,
              "#ed7953"
             ],
             [
              0.7777777777777778,
              "#fb9f3a"
             ],
             [
              0.8888888888888888,
              "#fdca26"
             ],
             [
              1,
              "#f0f921"
             ]
            ],
            "type": "surface"
           }
          ],
          "table": [
           {
            "cells": {
             "fill": {
              "color": "#EBF0F8"
             },
             "line": {
              "color": "white"
             }
            },
            "header": {
             "fill": {
              "color": "#C8D4E3"
             },
             "line": {
              "color": "white"
             }
            },
            "type": "table"
           }
          ]
         },
         "layout": {
          "autosize": true,
          "font": {
           "family": "sans-serif",
           "size": 14
          },
          "hovermode": "closest",
          "legend": {
           "font": {
            "size": 10
           }
          },
          "margin": {
           "b": 40,
           "l": 50,
           "pad": 4,
           "r": 25,
           "t": 20
          },
          "template": {
           "data": {
            "bar": [
             {
              "error_x": {
               "color": "#2a3f5f"
              },
              "error_y": {
               "color": "#2a3f5f"
              },
              "marker": {
               "line": {
                "color": "white",
                "width": 0.5
               },
               "pattern": {
                "fillmode": "overlay",
                "size": 10,
                "solidity": 0.2
               }
              },
              "type": "bar"
             }
            ],
            "barpolar": [
             {
              "marker": {
               "line": {
                "color": "white",
                "width": 0.5
               },
               "pattern": {
                "fillmode": "overlay",
                "size": 10,
                "solidity": 0.2
               }
              },
              "type": "barpolar"
             }
            ],
            "carpet": [
             {
              "aaxis": {
               "endlinecolor": "#2a3f5f",
               "gridcolor": "#C8D4E3",
               "linecolor": "#C8D4E3",
               "minorgridcolor": "#C8D4E3",
               "startlinecolor": "#2a3f5f"
              },
              "baxis": {
               "endlinecolor": "#2a3f5f",
               "gridcolor": "#C8D4E3",
               "linecolor": "#C8D4E3",
               "minorgridcolor": "#C8D4E3",
               "startlinecolor": "#2a3f5f"
              },
              "type": "carpet"
             }
            ],
            "choropleth": [
             {
              "colorbar": {
               "outlinewidth": 0,
               "ticks": ""
              },
              "type": "choropleth"
             }
            ],
            "contour": [
             {
              "colorbar": {
               "outlinewidth": 0,
               "ticks": ""
              },
              "colorscale": [
               [
                0,
                "#0d0887"
               ],
               [
                0.1111111111111111,
                "#46039f"
               ],
               [
                0.2222222222222222,
                "#7201a8"
               ],
               [
                0.3333333333333333,
                "#9c179e"
               ],
               [
                0.4444444444444444,
                "#bd3786"
               ],
               [
                0.5555555555555556,
                "#d8576b"
               ],
               [
                0.6666666666666666,
                "#ed7953"
               ],
               [
                0.7777777777777778,
                "#fb9f3a"
               ],
               [
                0.8888888888888888,
                "#fdca26"
               ],
               [
                1,
                "#f0f921"
               ]
              ],
              "type": "contour"
             }
            ],
            "contourcarpet": [
             {
              "colorbar": {
               "outlinewidth": 0,
               "ticks": ""
              },
              "type": "contourcarpet"
             }
            ],
            "heatmap": [
             {
              "colorbar": {
               "outlinewidth": 0,
               "ticks": ""
              },
              "colorscale": [
               [
                0,
                "#0d0887"
               ],
               [
                0.1111111111111111,
                "#46039f"
               ],
               [
                0.2222222222222222,
                "#7201a8"
               ],
               [
                0.3333333333333333,
                "#9c179e"
               ],
               [
                0.4444444444444444,
                "#bd3786"
               ],
               [
                0.5555555555555556,
                "#d8576b"
               ],
               [
                0.6666666666666666,
                "#ed7953"
               ],
               [
                0.7777777777777778,
                "#fb9f3a"
               ],
               [
                0.8888888888888888,
                "#fdca26"
               ],
               [
                1,
                "#f0f921"
               ]
              ],
              "type": "heatmap"
             }
            ],
            "heatmapgl": [
             {
              "colorbar": {
               "outlinewidth": 0,
               "ticks": ""
              },
              "colorscale": [
               [
                0,
                "#0d0887"
               ],
               [
                0.1111111111111111,
                "#46039f"
               ],
               [
                0.2222222222222222,
                "#7201a8"
               ],
               [
                0.3333333333333333,
                "#9c179e"
               ],
               [
                0.4444444444444444,
                "#bd3786"
               ],
               [
                0.5555555555555556,
                "#d8576b"
               ],
               [
                0.6666666666666666,
                "#ed7953"
               ],
               [
                0.7777777777777778,
                "#fb9f3a"
               ],
               [
                0.8888888888888888,
                "#fdca26"
               ],
               [
                1,
                "#f0f921"
               ]
              ],
              "type": "heatmapgl"
             }
            ],
            "histogram": [
             {
              "marker": {
               "pattern": {
                "fillmode": "overlay",
                "size": 10,
                "solidity": 0.2
               }
              },
              "type": "histogram"
             }
            ],
            "histogram2d": [
             {
              "colorbar": {
               "outlinewidth": 0,
               "ticks": ""
              },
              "colorscale": [
               [
                0,
                "#0d0887"
               ],
               [
                0.1111111111111111,
                "#46039f"
               ],
               [
                0.2222222222222222,
                "#7201a8"
               ],
               [
                0.3333333333333333,
                "#9c179e"
               ],
               [
                0.4444444444444444,
                "#bd3786"
               ],
               [
                0.5555555555555556,
                "#d8576b"
               ],
               [
                0.6666666666666666,
                "#ed7953"
               ],
               [
                0.7777777777777778,
                "#fb9f3a"
               ],
               [
                0.8888888888888888,
                "#fdca26"
               ],
               [
                1,
                "#f0f921"
               ]
              ],
              "type": "histogram2d"
             }
            ],
            "histogram2dcontour": [
             {
              "colorbar": {
               "outlinewidth": 0,
               "ticks": ""
              },
              "colorscale": [
               [
                0,
                "#0d0887"
               ],
               [
                0.1111111111111111,
                "#46039f"
               ],
               [
                0.2222222222222222,
                "#7201a8"
               ],
               [
                0.3333333333333333,
                "#9c179e"
               ],
               [
                0.4444444444444444,
                "#bd3786"
               ],
               [
                0.5555555555555556,
                "#d8576b"
               ],
               [
                0.6666666666666666,
                "#ed7953"
               ],
               [
                0.7777777777777778,
                "#fb9f3a"
               ],
               [
                0.8888888888888888,
                "#fdca26"
               ],
               [
                1,
                "#f0f921"
               ]
              ],
              "type": "histogram2dcontour"
             }
            ],
            "mesh3d": [
             {
              "colorbar": {
               "outlinewidth": 0,
               "ticks": ""
              },
              "type": "mesh3d"
             }
            ],
            "parcoords": [
             {
              "line": {
               "colorbar": {
                "outlinewidth": 0,
                "ticks": ""
               }
              },
              "type": "parcoords"
             }
            ],
            "pie": [
             {
              "automargin": true,
              "type": "pie"
             }
            ],
            "scatter": [
             {
              "fillpattern": {
               "fillmode": "overlay",
               "size": 10,
               "solidity": 0.2
              },
              "type": "scatter"
             }
            ],
            "scatter3d": [
             {
              "line": {
               "colorbar": {
                "outlinewidth": 0,
                "ticks": ""
               }
              },
              "marker": {
               "colorbar": {
                "outlinewidth": 0,
                "ticks": ""
               }
              },
              "type": "scatter3d"
             }
            ],
            "scattercarpet": [
             {
              "marker": {
               "colorbar": {
                "outlinewidth": 0,
                "ticks": ""
               }
              },
              "type": "scattercarpet"
             }
            ],
            "scattergeo": [
             {
              "marker": {
               "colorbar": {
                "outlinewidth": 0,
                "ticks": ""
               }
              },
              "type": "scattergeo"
             }
            ],
            "scattergl": [
             {
              "marker": {
               "colorbar": {
                "outlinewidth": 0,
                "ticks": ""
               }
              },
              "type": "scattergl"
             }
            ],
            "scattermapbox": [
             {
              "marker": {
               "colorbar": {
                "outlinewidth": 0,
                "ticks": ""
               }
              },
              "type": "scattermapbox"
             }
            ],
            "scatterpolar": [
             {
              "marker": {
               "colorbar": {
                "outlinewidth": 0,
                "ticks": ""
               }
              },
              "type": "scatterpolar"
             }
            ],
            "scatterpolargl": [
             {
              "marker": {
               "colorbar": {
                "outlinewidth": 0,
                "ticks": ""
               }
              },
              "type": "scatterpolargl"
             }
            ],
            "scatterternary": [
             {
              "marker": {
               "colorbar": {
                "outlinewidth": 0,
                "ticks": ""
               }
              },
              "type": "scatterternary"
             }
            ],
            "surface": [
             {
              "colorbar": {
               "outlinewidth": 0,
               "ticks": ""
              },
              "colorscale": [
               [
                0,
                "#0d0887"
               ],
               [
                0.1111111111111111,
                "#46039f"
               ],
               [
                0.2222222222222222,
                "#7201a8"
               ],
               [
                0.3333333333333333,
                "#9c179e"
               ],
               [
                0.4444444444444444,
                "#bd3786"
               ],
               [
                0.5555555555555556,
                "#d8576b"
               ],
               [
                0.6666666666666666,
                "#ed7953"
               ],
               [
                0.7777777777777778,
                "#fb9f3a"
               ],
               [
                0.8888888888888888,
                "#fdca26"
               ],
               [
                1,
                "#f0f921"
               ]
              ],
              "type": "surface"
             }
            ],
            "table": [
             {
              "cells": {
               "fill": {
                "color": "#EBF0F8"
               },
               "line": {
                "color": "white"
               }
              },
              "header": {
               "fill": {
                "color": "#C8D4E3"
               },
               "line": {
                "color": "white"
               }
              },
              "type": "table"
             }
            ]
           },
           "layout": {
            "annotationdefaults": {
             "arrowcolor": "#2a3f5f",
             "arrowhead": 0,
             "arrowwidth": 1
            },
            "autotypenumbers": "strict",
            "coloraxis": {
             "colorbar": {
              "outlinewidth": 0,
              "ticks": ""
             }
            },
            "colorscale": {
             "diverging": [
              [
               0,
               "#8e0152"
              ],
              [
               0.1,
               "#c51b7d"
              ],
              [
               0.2,
               "#de77ae"
              ],
              [
               0.3,
               "#f1b6da"
              ],
              [
               0.4,
               "#fde0ef"
              ],
              [
               0.5,
               "#f7f7f7"
              ],
              [
               0.6,
               "#e6f5d0"
              ],
              [
               0.7,
               "#b8e186"
              ],
              [
               0.8,
               "#7fbc41"
              ],
              [
               0.9,
               "#4d9221"
              ],
              [
               1,
               "#276419"
              ]
             ],
             "sequential": [
              [
               0,
               "#0d0887"
              ],
              [
               0.1111111111111111,
               "#46039f"
              ],
              [
               0.2222222222222222,
               "#7201a8"
              ],
              [
               0.3333333333333333,
               "#9c179e"
              ],
              [
               0.4444444444444444,
               "#bd3786"
              ],
              [
               0.5555555555555556,
               "#d8576b"
              ],
              [
               0.6666666666666666,
               "#ed7953"
              ],
              [
               0.7777777777777778,
               "#fb9f3a"
              ],
              [
               0.8888888888888888,
               "#fdca26"
              ],
              [
               1,
               "#f0f921"
              ]
             ],
             "sequentialminus": [
              [
               0,
               "#0d0887"
              ],
              [
               0.1111111111111111,
               "#46039f"
              ],
              [
               0.2222222222222222,
               "#7201a8"
              ],
              [
               0.3333333333333333,
               "#9c179e"
              ],
              [
               0.4444444444444444,
               "#bd3786"
              ],
              [
               0.5555555555555556,
               "#d8576b"
              ],
              [
               0.6666666666666666,
               "#ed7953"
              ],
              [
               0.7777777777777778,
               "#fb9f3a"
              ],
              [
               0.8888888888888888,
               "#fdca26"
              ],
              [
               1,
               "#f0f921"
              ]
             ]
            },
            "colorway": [
             "#636efa",
             "#EF553B",
             "#00cc96",
             "#ab63fa",
             "#FFA15A",
             "#19d3f3",
             "#FF6692",
             "#B6E880",
             "#FF97FF",
             "#FECB52"
            ],
            "font": {
             "color": "#2a3f5f"
            },
            "geo": {
             "bgcolor": "white",
             "lakecolor": "white",
             "landcolor": "white",
             "showlakes": true,
             "showland": true,
             "subunitcolor": "#C8D4E3"
            },
            "hoverlabel": {
             "align": "left"
            },
            "hovermode": "closest",
            "mapbox": {
             "style": "light"
            },
            "paper_bgcolor": "white",
            "plot_bgcolor": "white",
            "polar": {
             "angularaxis": {
              "gridcolor": "#EBF0F8",
              "linecolor": "#EBF0F8",
              "ticks": ""
             },
             "bgcolor": "white",
             "radialaxis": {
              "gridcolor": "#EBF0F8",
              "linecolor": "#EBF0F8",
              "ticks": ""
             }
            },
            "scene": {
             "xaxis": {
              "backgroundcolor": "white",
              "gridcolor": "#DFE8F3",
              "gridwidth": 2,
              "linecolor": "#EBF0F8",
              "showbackground": true,
              "ticks": "",
              "zerolinecolor": "#EBF0F8"
             },
             "yaxis": {
              "backgroundcolor": "white",
              "gridcolor": "#DFE8F3",
              "gridwidth": 2,
              "linecolor": "#EBF0F8",
              "showbackground": true,
              "ticks": "",
              "zerolinecolor": "#EBF0F8"
             },
             "zaxis": {
              "backgroundcolor": "white",
              "gridcolor": "#DFE8F3",
              "gridwidth": 2,
              "linecolor": "#EBF0F8",
              "showbackground": true,
              "ticks": "",
              "zerolinecolor": "#EBF0F8"
             }
            },
            "shapedefaults": {
             "line": {
              "color": "#2a3f5f"
             }
            },
            "ternary": {
             "aaxis": {
              "gridcolor": "#DFE8F3",
              "linecolor": "#A2B1C6",
              "ticks": ""
             },
             "baxis": {
              "gridcolor": "#DFE8F3",
              "linecolor": "#A2B1C6",
              "ticks": ""
             },
             "bgcolor": "white",
             "caxis": {
              "gridcolor": "#DFE8F3",
              "linecolor": "#A2B1C6",
              "ticks": ""
             }
            },
            "title": {
             "x": 0.05
            },
            "xaxis": {
             "automargin": true,
             "gridcolor": "#EBF0F8",
             "linecolor": "#EBF0F8",
             "ticks": "",
             "title": {
              "standoff": 15
             },
             "zerolinecolor": "#EBF0F8",
             "zerolinewidth": 2
            },
            "yaxis": {
             "automargin": true,
             "gridcolor": "#EBF0F8",
             "linecolor": "#EBF0F8",
             "ticks": "",
             "title": {
              "standoff": 15
             },
             "zerolinecolor": "#EBF0F8",
             "zerolinewidth": 2
            }
           }
          },
          "xaxis": {
           "automargin": true,
           "autorange": false,
           "fixedrange": true,
           "linecolor": "#444",
           "linewidth": 2,
           "minor": {
            "tickmode": "linear",
            "ticks": "outside"
           },
           "mirror": true,
           "showline": true,
           "tickmode": "linear",
           "ticks": "outside",
           "zeroline": false
          },
          "yaxis": {
           "automargin": true,
           "autorange": false,
           "fixedrange": true,
           "linecolor": "#444",
           "linewidth": 2,
           "minor": {
            "tickmode": "linear",
            "ticks": "outside"
           },
           "mirror": true,
           "showline": true,
           "tickmode": "linear",
           "ticks": "outside",
           "zeroline": false
          }
         }
        },
        "xaxis": {
         "range": [
          -0.5,
          14.5
         ]
        },
        "yaxis": {
         "dtick": 5,
         "minor": {
          "dtick": 2.5,
          "tick0": 0
         },
         "range": [
          -1,
          30
         ],
         "tick0": 0,
         "title": {
          "text": "percent immune"
         }
        }
       }
      }
     },
     "metadata": {},
     "output_type": "display_data"
    }
   ],
   "source": [
    "# Plots the average probability that a monster is immune to each condition\n",
    "df1 = df0[df0['Category'].isin(['generic','legendary','unique']) & df0['CR'].between(1/8, 30)]\n",
    "\n",
    "conditions = CONDITIONS.copy()\n",
    "\n",
    "# create custom text\n",
    "total_monsters = df1.shape[0]\n",
    "total_immune = [int(df1[c].sum().tolist()) for c in conditions]\n",
    "pct_immune = [100*df1[c].mean().tolist() for c in conditions]\n",
    "custom_text = [f'{p:.0f}% ({i} out of {total_monsters})' for p, i in zip(pct_immune, total_immune)]\n",
    "\n",
    "fig = go.Figure()\n",
    "\n",
    "fig.add_trace(go.Scatter(\n",
    "    x=conditions,\n",
    "    y=pct_immune,\n",
    "    mode='markers', \n",
    "    marker=dict(size=12, line=dict(width=1, color='Black')),\n",
    "    text=custom_text,\n",
    "    unselected=dict(marker=dict(opacity=0.0)),\n",
    "    hovertemplate=\n",
    "        '<b>Condition:</b> %{x}<br>'+\n",
    "        '<b>Immune:</b> %{text}'+\n",
    "        '<extra></extra>'\n",
    "))\n",
    "\n",
    "fig.update_layout(\n",
    "    template=TFB_TEMPLATE,\n",
    "    #width=500,\n",
    "    #height=400,\n",
    "    xaxis=dict(\n",
    "        #title_text='condition',\n",
    "        range=[-0.5, len(conditions)-0.5],\n",
    "        #tick0=0, dtick=1,\n",
    "        #minor=dict(tick0=0, dtick=1),\n",
    "    ),\n",
    "    yaxis=dict(\n",
    "        title_text='percent immune',\n",
    "        range=[-1, 30],\n",
    "        tick0=0, dtick=5,\n",
    "        minor=dict(tick0=0, dtick=2.5),\n",
    "    )\n",
    ")\n",
    "\n",
    "fig.show(config=TFB_CONFIG)\n",
    "if SAVEFIGS:\n",
    "    fig.write_html(\n",
    "        f'./fig-condition-immunity-probability.html', \n",
    "        include_plotlyjs=False, \n",
    "        full_html=False, \n",
    "        config=TFB_CONFIG\n",
    "    )"
   ]
  },
  {
   "cell_type": "code",
   "execution_count": 346,
   "metadata": {},
   "outputs": [
    {
     "name": "stdout",
     "output_type": "stream",
     "text": [
      "Total number of monsters: 1182\n"
     ]
    },
    {
     "data": {
      "application/vnd.plotly.v1+json": {
       "config": {
        "autosizable": true,
        "displayModeBar": "hover",
        "displaylogo": false,
        "modeBarButtonsToRemove": [
         "select2d",
         "lasso2d",
         "zoom2d",
         "zoomIn2d",
         "zoomOut2d",
         "pan2d",
         "autoScale2d",
         "hoverClosestCartesian",
         "hoverCompareCartesian",
         "toggleSpikelines",
         "resetScale2d"
        ],
        "plotlyServerURL": "https://plot.ly",
        "responsive": true,
        "showAxisDragHandles": false,
        "toImageButtonOptions": {
         "filename": "tfb-plot",
         "format": "png",
         "height": 450,
         "scale": 2,
         "width": 600
        }
       },
       "data": [
        {
         "colorscale": [
          [
           0,
           "rgb(247,251,255)"
          ],
          [
           0.125,
           "rgb(222,235,247)"
          ],
          [
           0.25,
           "rgb(198,219,239)"
          ],
          [
           0.375,
           "rgb(158,202,225)"
          ],
          [
           0.5,
           "rgb(107,174,214)"
          ],
          [
           0.625,
           "rgb(66,146,198)"
          ],
          [
           0.75,
           "rgb(33,113,181)"
          ],
          [
           0.875,
           "rgb(8,81,156)"
          ],
          [
           1,
           "rgb(8,48,107)"
          ]
         ],
         "hoverongaps": false,
         "hovertemplate": "<b>Type:</b> %{x}<br><b>Condition:</b> %{y}<br><b>Immune:</b> %{z:.0f}% (%{text})<extra></extra>",
         "showscale": false,
         "text": [
          [
           "9 out of 46",
           "0 out of 92",
           "0 out of 19",
           "28 out of 84",
           "1 out of 111",
           "0 out of 38",
           "1 out of 30",
           "4 out of 69",
           "0 out of 32",
           "3 out of 358",
           "4 out of 153",
           "9 out of 9",
           "17 out of 29",
           "6 out of 112"
          ],
          [
           "10 out of 46",
           "8 out of 92",
           "13 out of 19",
           "63 out of 84",
           "21 out of 111",
           "7 out of 38",
           "8 out of 30",
           "23 out of 69",
           "2 out of 32",
           "15 out of 358",
           "23 out of 153",
           "9 out of 9",
           "6 out of 29",
           "62 out of 112"
          ],
          [
           "0 out of 46",
           "0 out of 92",
           "0 out of 19",
           "28 out of 84",
           "2 out of 111",
           "0 out of 38",
           "0 out of 30",
           "2 out of 69",
           "0 out of 32",
           "1 out of 358",
           "3 out of 153",
           "9 out of 9",
           "13 out of 29",
           "8 out of 112"
          ],
          [
           "4 out of 46",
           "0 out of 92",
           "12 out of 19",
           "63 out of 84",
           "0 out of 111",
           "16 out of 38",
           "2 out of 30",
           "13 out of 69",
           "1 out of 32",
           "3 out of 358",
           "3 out of 153",
           "9 out of 9",
           "6 out of 29",
           "78 out of 112"
          ],
          [
           "13 out of 46",
           "8 out of 92",
           "12 out of 19",
           "58 out of 84",
           "26 out of 111",
           "7 out of 38",
           "6 out of 30",
           "23 out of 69",
           "4 out of 32",
           "26 out of 358",
           "24 out of 153",
           "8 out of 9",
           "8 out of 29",
           "53 out of 112"
          ],
          [
           "1 out of 46",
           "7 out of 92",
           "0 out of 19",
           "6 out of 84",
           "0 out of 111",
           "10 out of 38",
           "1 out of 30",
           "3 out of 69",
           "0 out of 32",
           "0 out of 358",
           "2 out of 153",
           "1 out of 9",
           "1 out of 29",
           "22 out of 112"
          ],
          [
           "0 out of 46",
           "0 out of 92",
           "0 out of 19",
           "1 out of 84",
           "0 out of 111",
           "0 out of 38",
           "0 out of 30",
           "0 out of 69",
           "0 out of 32",
           "0 out of 358",
           "0 out of 153",
           "0 out of 9",
           "0 out of 29",
           "0 out of 112"
          ],
          [
           "0 out of 46",
           "0 out of 92",
           "0 out of 19",
           "0 out of 84",
           "0 out of 111",
           "0 out of 38",
           "0 out of 30",
           "0 out of 69",
           "0 out of 32",
           "0 out of 358",
           "0 out of 153",
           "0 out of 9",
           "0 out of 29",
           "0 out of 112"
          ],
          [
           "1 out of 46",
           "8 out of 92",
           "3 out of 19",
           "62 out of 84",
           "1 out of 111",
           "21 out of 38",
           "2 out of 30",
           "4 out of 69",
           "1 out of 32",
           "1 out of 358",
           "10 out of 153",
           "0 out of 9",
           "5 out of 29",
           "54 out of 112"
          ],
          [
           "1 out of 46",
           "7 out of 92",
           "1 out of 19",
           "56 out of 84",
           "0 out of 111",
           "22 out of 38",
           "0 out of 30",
           "3 out of 69",
           "1 out of 32",
           "1 out of 358",
           "4 out of 153",
           "0 out of 9",
           "1 out of 29",
           "28 out of 112"
          ],
          [
           "5 out of 46",
           "0 out of 92",
           "5 out of 19",
           "74 out of 84",
           "18 out of 111",
           "29 out of 38",
           "6 out of 30",
           "53 out of 69",
           "2 out of 32",
           "14 out of 358",
           "18 out of 153",
           "1 out of 9",
           "3 out of 29",
           "95 out of 112"
          ],
          [
           "10 out of 46",
           "7 out of 92",
           "0 out of 19",
           "11 out of 84",
           "7 out of 111",
           "16 out of 38",
           "0 out of 30",
           "2 out of 69",
           "0 out of 32",
           "0 out of 358",
           "7 out of 153",
           "9 out of 9",
           "7 out of 29",
           "31 out of 112"
          ],
          [
           "1 out of 46",
           "7 out of 92",
           "0 out of 19",
           "3 out of 84",
           "0 out of 111",
           "14 out of 38",
           "0 out of 30",
           "3 out of 69",
           "0 out of 32",
           "0 out of 358",
           "3 out of 153",
           "1 out of 9",
           "1 out of 29",
           "22 out of 112"
          ],
          [
           "0 out of 46",
           "7 out of 92",
           "1 out of 19",
           "5 out of 84",
           "2 out of 111",
           "2 out of 38",
           "1 out of 30",
           "3 out of 69",
           "0 out of 32",
           "1 out of 358",
           "5 out of 153",
           "0 out of 9",
           "1 out of 29",
           "11 out of 112"
          ],
          [
           "0 out of 46",
           "0 out of 92",
           "0 out of 19",
           "6 out of 84",
           "0 out of 111",
           "11 out of 38",
           "0 out of 30",
           "1 out of 69",
           "0 out of 32",
           "0 out of 358",
           "0 out of 153",
           "0 out of 9",
           "0 out of 29",
           "3 out of 112"
          ]
         ],
         "texttemplate": "%{z:.0f}",
         "type": "heatmap",
         "x": [
          "aberration",
          "beast",
          "celestial",
          "construct",
          "dragon",
          "elemental",
          "fey",
          "fiend",
          "giant",
          "humanoid",
          "monstrosity",
          "ooze",
          "plant",
          "undead"
         ],
         "y": [
          "blinded",
          "charmed",
          "deafened",
          "exhaustion",
          "frightened",
          "grappled",
          "incapacitated",
          "invisible",
          "paralyzed",
          "petrified",
          "poisoned",
          "prone",
          "restrained",
          "stunned",
          "unconscious"
         ],
         "z": [
          [
           19,
           0,
           0,
           33,
           0,
           0,
           3,
           5,
           0,
           0,
           2,
           100,
           58,
           5
          ],
          [
           21,
           8,
           68,
           75,
           18,
           18,
           26,
           33,
           6,
           4,
           15,
           100,
           20,
           55
          ],
          [
           0,
           0,
           0,
           33,
           1,
           0,
           0,
           2,
           0,
           0,
           1,
           100,
           44,
           7
          ],
          [
           8,
           0,
           63,
           75,
           0,
           42,
           6,
           18,
           3,
           0,
           1,
           100,
           20,
           69
          ],
          [
           28,
           8,
           63,
           69,
           23,
           18,
           20,
           33,
           12,
           7,
           15,
           88,
           27,
           47
          ],
          [
           2,
           7,
           0,
           7,
           0,
           26,
           3,
           4,
           0,
           0,
           1,
           11,
           3,
           19
          ],
          [
           0,
           0,
           0,
           1,
           0,
           0,
           0,
           0,
           0,
           0,
           0,
           0,
           0,
           0
          ],
          [
           0,
           0,
           0,
           0,
           0,
           0,
           0,
           0,
           0,
           0,
           0,
           0,
           0,
           0
          ],
          [
           2,
           8,
           15,
           73,
           0,
           55,
           6,
           5,
           3,
           0,
           6,
           0,
           17,
           48
          ],
          [
           2,
           7,
           5,
           66,
           0,
           57,
           0,
           4,
           3,
           0,
           2,
           0,
           3,
           25
          ],
          [
           10,
           0,
           26,
           88,
           16,
           76,
           20,
           76,
           6,
           3,
           11,
           11,
           10,
           84
          ],
          [
           21,
           7,
           0,
           13,
           6,
           42,
           0,
           2,
           0,
           0,
           4,
           100,
           24,
           27
          ],
          [
           2,
           7,
           0,
           3,
           0,
           36,
           0,
           4,
           0,
           0,
           1,
           11,
           3,
           19
          ],
          [
           0,
           7,
           5,
           5,
           1,
           5,
           3,
           4,
           0,
           0,
           3,
           0,
           3,
           9
          ],
          [
           0,
           0,
           0,
           7,
           0,
           28,
           0,
           1,
           0,
           0,
           0,
           0,
           0,
           2
          ]
         ],
         "zmax": 120,
         "zmin": 0
        }
       ],
       "layout": {
        "font": {
         "family": "sans-serif",
         "size": 12
        },
        "template": {
         "data": {
          "bar": [
           {
            "error_x": {
             "color": "#2a3f5f"
            },
            "error_y": {
             "color": "#2a3f5f"
            },
            "marker": {
             "line": {
              "color": "#E5ECF6",
              "width": 0.5
             },
             "pattern": {
              "fillmode": "overlay",
              "size": 10,
              "solidity": 0.2
             }
            },
            "type": "bar"
           }
          ],
          "barpolar": [
           {
            "marker": {
             "line": {
              "color": "#E5ECF6",
              "width": 0.5
             },
             "pattern": {
              "fillmode": "overlay",
              "size": 10,
              "solidity": 0.2
             }
            },
            "type": "barpolar"
           }
          ],
          "carpet": [
           {
            "aaxis": {
             "endlinecolor": "#2a3f5f",
             "gridcolor": "white",
             "linecolor": "white",
             "minorgridcolor": "white",
             "startlinecolor": "#2a3f5f"
            },
            "baxis": {
             "endlinecolor": "#2a3f5f",
             "gridcolor": "white",
             "linecolor": "white",
             "minorgridcolor": "white",
             "startlinecolor": "#2a3f5f"
            },
            "type": "carpet"
           }
          ],
          "choropleth": [
           {
            "colorbar": {
             "outlinewidth": 0,
             "ticks": ""
            },
            "type": "choropleth"
           }
          ],
          "contour": [
           {
            "colorbar": {
             "outlinewidth": 0,
             "ticks": ""
            },
            "colorscale": [
             [
              0,
              "#0d0887"
             ],
             [
              0.1111111111111111,
              "#46039f"
             ],
             [
              0.2222222222222222,
              "#7201a8"
             ],
             [
              0.3333333333333333,
              "#9c179e"
             ],
             [
              0.4444444444444444,
              "#bd3786"
             ],
             [
              0.5555555555555556,
              "#d8576b"
             ],
             [
              0.6666666666666666,
              "#ed7953"
             ],
             [
              0.7777777777777778,
              "#fb9f3a"
             ],
             [
              0.8888888888888888,
              "#fdca26"
             ],
             [
              1,
              "#f0f921"
             ]
            ],
            "type": "contour"
           }
          ],
          "contourcarpet": [
           {
            "colorbar": {
             "outlinewidth": 0,
             "ticks": ""
            },
            "type": "contourcarpet"
           }
          ],
          "heatmap": [
           {
            "colorbar": {
             "outlinewidth": 0,
             "ticks": ""
            },
            "colorscale": [
             [
              0,
              "#0d0887"
             ],
             [
              0.1111111111111111,
              "#46039f"
             ],
             [
              0.2222222222222222,
              "#7201a8"
             ],
             [
              0.3333333333333333,
              "#9c179e"
             ],
             [
              0.4444444444444444,
              "#bd3786"
             ],
             [
              0.5555555555555556,
              "#d8576b"
             ],
             [
              0.6666666666666666,
              "#ed7953"
             ],
             [
              0.7777777777777778,
              "#fb9f3a"
             ],
             [
              0.8888888888888888,
              "#fdca26"
             ],
             [
              1,
              "#f0f921"
             ]
            ],
            "type": "heatmap"
           }
          ],
          "heatmapgl": [
           {
            "colorbar": {
             "outlinewidth": 0,
             "ticks": ""
            },
            "colorscale": [
             [
              0,
              "#0d0887"
             ],
             [
              0.1111111111111111,
              "#46039f"
             ],
             [
              0.2222222222222222,
              "#7201a8"
             ],
             [
              0.3333333333333333,
              "#9c179e"
             ],
             [
              0.4444444444444444,
              "#bd3786"
             ],
             [
              0.5555555555555556,
              "#d8576b"
             ],
             [
              0.6666666666666666,
              "#ed7953"
             ],
             [
              0.7777777777777778,
              "#fb9f3a"
             ],
             [
              0.8888888888888888,
              "#fdca26"
             ],
             [
              1,
              "#f0f921"
             ]
            ],
            "type": "heatmapgl"
           }
          ],
          "histogram": [
           {
            "marker": {
             "pattern": {
              "fillmode": "overlay",
              "size": 10,
              "solidity": 0.2
             }
            },
            "type": "histogram"
           }
          ],
          "histogram2d": [
           {
            "colorbar": {
             "outlinewidth": 0,
             "ticks": ""
            },
            "colorscale": [
             [
              0,
              "#0d0887"
             ],
             [
              0.1111111111111111,
              "#46039f"
             ],
             [
              0.2222222222222222,
              "#7201a8"
             ],
             [
              0.3333333333333333,
              "#9c179e"
             ],
             [
              0.4444444444444444,
              "#bd3786"
             ],
             [
              0.5555555555555556,
              "#d8576b"
             ],
             [
              0.6666666666666666,
              "#ed7953"
             ],
             [
              0.7777777777777778,
              "#fb9f3a"
             ],
             [
              0.8888888888888888,
              "#fdca26"
             ],
             [
              1,
              "#f0f921"
             ]
            ],
            "type": "histogram2d"
           }
          ],
          "histogram2dcontour": [
           {
            "colorbar": {
             "outlinewidth": 0,
             "ticks": ""
            },
            "colorscale": [
             [
              0,
              "#0d0887"
             ],
             [
              0.1111111111111111,
              "#46039f"
             ],
             [
              0.2222222222222222,
              "#7201a8"
             ],
             [
              0.3333333333333333,
              "#9c179e"
             ],
             [
              0.4444444444444444,
              "#bd3786"
             ],
             [
              0.5555555555555556,
              "#d8576b"
             ],
             [
              0.6666666666666666,
              "#ed7953"
             ],
             [
              0.7777777777777778,
              "#fb9f3a"
             ],
             [
              0.8888888888888888,
              "#fdca26"
             ],
             [
              1,
              "#f0f921"
             ]
            ],
            "type": "histogram2dcontour"
           }
          ],
          "mesh3d": [
           {
            "colorbar": {
             "outlinewidth": 0,
             "ticks": ""
            },
            "type": "mesh3d"
           }
          ],
          "parcoords": [
           {
            "line": {
             "colorbar": {
              "outlinewidth": 0,
              "ticks": ""
             }
            },
            "type": "parcoords"
           }
          ],
          "pie": [
           {
            "automargin": true,
            "type": "pie"
           }
          ],
          "scatter": [
           {
            "fillpattern": {
             "fillmode": "overlay",
             "size": 10,
             "solidity": 0.2
            },
            "type": "scatter"
           }
          ],
          "scatter3d": [
           {
            "line": {
             "colorbar": {
              "outlinewidth": 0,
              "ticks": ""
             }
            },
            "marker": {
             "colorbar": {
              "outlinewidth": 0,
              "ticks": ""
             }
            },
            "type": "scatter3d"
           }
          ],
          "scattercarpet": [
           {
            "marker": {
             "colorbar": {
              "outlinewidth": 0,
              "ticks": ""
             }
            },
            "type": "scattercarpet"
           }
          ],
          "scattergeo": [
           {
            "marker": {
             "colorbar": {
              "outlinewidth": 0,
              "ticks": ""
             }
            },
            "type": "scattergeo"
           }
          ],
          "scattergl": [
           {
            "marker": {
             "colorbar": {
              "outlinewidth": 0,
              "ticks": ""
             }
            },
            "type": "scattergl"
           }
          ],
          "scattermapbox": [
           {
            "marker": {
             "colorbar": {
              "outlinewidth": 0,
              "ticks": ""
             }
            },
            "type": "scattermapbox"
           }
          ],
          "scatterpolar": [
           {
            "marker": {
             "colorbar": {
              "outlinewidth": 0,
              "ticks": ""
             }
            },
            "type": "scatterpolar"
           }
          ],
          "scatterpolargl": [
           {
            "marker": {
             "colorbar": {
              "outlinewidth": 0,
              "ticks": ""
             }
            },
            "type": "scatterpolargl"
           }
          ],
          "scatterternary": [
           {
            "marker": {
             "colorbar": {
              "outlinewidth": 0,
              "ticks": ""
             }
            },
            "type": "scatterternary"
           }
          ],
          "surface": [
           {
            "colorbar": {
             "outlinewidth": 0,
             "ticks": ""
            },
            "colorscale": [
             [
              0,
              "#0d0887"
             ],
             [
              0.1111111111111111,
              "#46039f"
             ],
             [
              0.2222222222222222,
              "#7201a8"
             ],
             [
              0.3333333333333333,
              "#9c179e"
             ],
             [
              0.4444444444444444,
              "#bd3786"
             ],
             [
              0.5555555555555556,
              "#d8576b"
             ],
             [
              0.6666666666666666,
              "#ed7953"
             ],
             [
              0.7777777777777778,
              "#fb9f3a"
             ],
             [
              0.8888888888888888,
              "#fdca26"
             ],
             [
              1,
              "#f0f921"
             ]
            ],
            "type": "surface"
           }
          ],
          "table": [
           {
            "cells": {
             "fill": {
              "color": "#EBF0F8"
             },
             "line": {
              "color": "white"
             }
            },
            "header": {
             "fill": {
              "color": "#C8D4E3"
             },
             "line": {
              "color": "white"
             }
            },
            "type": "table"
           }
          ]
         },
         "layout": {
          "autosize": true,
          "font": {
           "family": "sans-serif",
           "size": 14
          },
          "hovermode": "closest",
          "legend": {
           "font": {
            "size": 10
           }
          },
          "margin": {
           "b": 40,
           "l": 50,
           "pad": 4,
           "r": 25,
           "t": 20
          },
          "template": {
           "data": {
            "bar": [
             {
              "error_x": {
               "color": "#2a3f5f"
              },
              "error_y": {
               "color": "#2a3f5f"
              },
              "marker": {
               "line": {
                "color": "white",
                "width": 0.5
               },
               "pattern": {
                "fillmode": "overlay",
                "size": 10,
                "solidity": 0.2
               }
              },
              "type": "bar"
             }
            ],
            "barpolar": [
             {
              "marker": {
               "line": {
                "color": "white",
                "width": 0.5
               },
               "pattern": {
                "fillmode": "overlay",
                "size": 10,
                "solidity": 0.2
               }
              },
              "type": "barpolar"
             }
            ],
            "carpet": [
             {
              "aaxis": {
               "endlinecolor": "#2a3f5f",
               "gridcolor": "#C8D4E3",
               "linecolor": "#C8D4E3",
               "minorgridcolor": "#C8D4E3",
               "startlinecolor": "#2a3f5f"
              },
              "baxis": {
               "endlinecolor": "#2a3f5f",
               "gridcolor": "#C8D4E3",
               "linecolor": "#C8D4E3",
               "minorgridcolor": "#C8D4E3",
               "startlinecolor": "#2a3f5f"
              },
              "type": "carpet"
             }
            ],
            "choropleth": [
             {
              "colorbar": {
               "outlinewidth": 0,
               "ticks": ""
              },
              "type": "choropleth"
             }
            ],
            "contour": [
             {
              "colorbar": {
               "outlinewidth": 0,
               "ticks": ""
              },
              "colorscale": [
               [
                0,
                "#0d0887"
               ],
               [
                0.1111111111111111,
                "#46039f"
               ],
               [
                0.2222222222222222,
                "#7201a8"
               ],
               [
                0.3333333333333333,
                "#9c179e"
               ],
               [
                0.4444444444444444,
                "#bd3786"
               ],
               [
                0.5555555555555556,
                "#d8576b"
               ],
               [
                0.6666666666666666,
                "#ed7953"
               ],
               [
                0.7777777777777778,
                "#fb9f3a"
               ],
               [
                0.8888888888888888,
                "#fdca26"
               ],
               [
                1,
                "#f0f921"
               ]
              ],
              "type": "contour"
             }
            ],
            "contourcarpet": [
             {
              "colorbar": {
               "outlinewidth": 0,
               "ticks": ""
              },
              "type": "contourcarpet"
             }
            ],
            "heatmap": [
             {
              "colorbar": {
               "outlinewidth": 0,
               "ticks": ""
              },
              "colorscale": [
               [
                0,
                "#0d0887"
               ],
               [
                0.1111111111111111,
                "#46039f"
               ],
               [
                0.2222222222222222,
                "#7201a8"
               ],
               [
                0.3333333333333333,
                "#9c179e"
               ],
               [
                0.4444444444444444,
                "#bd3786"
               ],
               [
                0.5555555555555556,
                "#d8576b"
               ],
               [
                0.6666666666666666,
                "#ed7953"
               ],
               [
                0.7777777777777778,
                "#fb9f3a"
               ],
               [
                0.8888888888888888,
                "#fdca26"
               ],
               [
                1,
                "#f0f921"
               ]
              ],
              "type": "heatmap"
             }
            ],
            "heatmapgl": [
             {
              "colorbar": {
               "outlinewidth": 0,
               "ticks": ""
              },
              "colorscale": [
               [
                0,
                "#0d0887"
               ],
               [
                0.1111111111111111,
                "#46039f"
               ],
               [
                0.2222222222222222,
                "#7201a8"
               ],
               [
                0.3333333333333333,
                "#9c179e"
               ],
               [
                0.4444444444444444,
                "#bd3786"
               ],
               [
                0.5555555555555556,
                "#d8576b"
               ],
               [
                0.6666666666666666,
                "#ed7953"
               ],
               [
                0.7777777777777778,
                "#fb9f3a"
               ],
               [
                0.8888888888888888,
                "#fdca26"
               ],
               [
                1,
                "#f0f921"
               ]
              ],
              "type": "heatmapgl"
             }
            ],
            "histogram": [
             {
              "marker": {
               "pattern": {
                "fillmode": "overlay",
                "size": 10,
                "solidity": 0.2
               }
              },
              "type": "histogram"
             }
            ],
            "histogram2d": [
             {
              "colorbar": {
               "outlinewidth": 0,
               "ticks": ""
              },
              "colorscale": [
               [
                0,
                "#0d0887"
               ],
               [
                0.1111111111111111,
                "#46039f"
               ],
               [
                0.2222222222222222,
                "#7201a8"
               ],
               [
                0.3333333333333333,
                "#9c179e"
               ],
               [
                0.4444444444444444,
                "#bd3786"
               ],
               [
                0.5555555555555556,
                "#d8576b"
               ],
               [
                0.6666666666666666,
                "#ed7953"
               ],
               [
                0.7777777777777778,
                "#fb9f3a"
               ],
               [
                0.8888888888888888,
                "#fdca26"
               ],
               [
                1,
                "#f0f921"
               ]
              ],
              "type": "histogram2d"
             }
            ],
            "histogram2dcontour": [
             {
              "colorbar": {
               "outlinewidth": 0,
               "ticks": ""
              },
              "colorscale": [
               [
                0,
                "#0d0887"
               ],
               [
                0.1111111111111111,
                "#46039f"
               ],
               [
                0.2222222222222222,
                "#7201a8"
               ],
               [
                0.3333333333333333,
                "#9c179e"
               ],
               [
                0.4444444444444444,
                "#bd3786"
               ],
               [
                0.5555555555555556,
                "#d8576b"
               ],
               [
                0.6666666666666666,
                "#ed7953"
               ],
               [
                0.7777777777777778,
                "#fb9f3a"
               ],
               [
                0.8888888888888888,
                "#fdca26"
               ],
               [
                1,
                "#f0f921"
               ]
              ],
              "type": "histogram2dcontour"
             }
            ],
            "mesh3d": [
             {
              "colorbar": {
               "outlinewidth": 0,
               "ticks": ""
              },
              "type": "mesh3d"
             }
            ],
            "parcoords": [
             {
              "line": {
               "colorbar": {
                "outlinewidth": 0,
                "ticks": ""
               }
              },
              "type": "parcoords"
             }
            ],
            "pie": [
             {
              "automargin": true,
              "type": "pie"
             }
            ],
            "scatter": [
             {
              "fillpattern": {
               "fillmode": "overlay",
               "size": 10,
               "solidity": 0.2
              },
              "type": "scatter"
             }
            ],
            "scatter3d": [
             {
              "line": {
               "colorbar": {
                "outlinewidth": 0,
                "ticks": ""
               }
              },
              "marker": {
               "colorbar": {
                "outlinewidth": 0,
                "ticks": ""
               }
              },
              "type": "scatter3d"
             }
            ],
            "scattercarpet": [
             {
              "marker": {
               "colorbar": {
                "outlinewidth": 0,
                "ticks": ""
               }
              },
              "type": "scattercarpet"
             }
            ],
            "scattergeo": [
             {
              "marker": {
               "colorbar": {
                "outlinewidth": 0,
                "ticks": ""
               }
              },
              "type": "scattergeo"
             }
            ],
            "scattergl": [
             {
              "marker": {
               "colorbar": {
                "outlinewidth": 0,
                "ticks": ""
               }
              },
              "type": "scattergl"
             }
            ],
            "scattermapbox": [
             {
              "marker": {
               "colorbar": {
                "outlinewidth": 0,
                "ticks": ""
               }
              },
              "type": "scattermapbox"
             }
            ],
            "scatterpolar": [
             {
              "marker": {
               "colorbar": {
                "outlinewidth": 0,
                "ticks": ""
               }
              },
              "type": "scatterpolar"
             }
            ],
            "scatterpolargl": [
             {
              "marker": {
               "colorbar": {
                "outlinewidth": 0,
                "ticks": ""
               }
              },
              "type": "scatterpolargl"
             }
            ],
            "scatterternary": [
             {
              "marker": {
               "colorbar": {
                "outlinewidth": 0,
                "ticks": ""
               }
              },
              "type": "scatterternary"
             }
            ],
            "surface": [
             {
              "colorbar": {
               "outlinewidth": 0,
               "ticks": ""
              },
              "colorscale": [
               [
                0,
                "#0d0887"
               ],
               [
                0.1111111111111111,
                "#46039f"
               ],
               [
                0.2222222222222222,
                "#7201a8"
               ],
               [
                0.3333333333333333,
                "#9c179e"
               ],
               [
                0.4444444444444444,
                "#bd3786"
               ],
               [
                0.5555555555555556,
                "#d8576b"
               ],
               [
                0.6666666666666666,
                "#ed7953"
               ],
               [
                0.7777777777777778,
                "#fb9f3a"
               ],
               [
                0.8888888888888888,
                "#fdca26"
               ],
               [
                1,
                "#f0f921"
               ]
              ],
              "type": "surface"
             }
            ],
            "table": [
             {
              "cells": {
               "fill": {
                "color": "#EBF0F8"
               },
               "line": {
                "color": "white"
               }
              },
              "header": {
               "fill": {
                "color": "#C8D4E3"
               },
               "line": {
                "color": "white"
               }
              },
              "type": "table"
             }
            ]
           },
           "layout": {
            "annotationdefaults": {
             "arrowcolor": "#2a3f5f",
             "arrowhead": 0,
             "arrowwidth": 1
            },
            "autotypenumbers": "strict",
            "coloraxis": {
             "colorbar": {
              "outlinewidth": 0,
              "ticks": ""
             }
            },
            "colorscale": {
             "diverging": [
              [
               0,
               "#8e0152"
              ],
              [
               0.1,
               "#c51b7d"
              ],
              [
               0.2,
               "#de77ae"
              ],
              [
               0.3,
               "#f1b6da"
              ],
              [
               0.4,
               "#fde0ef"
              ],
              [
               0.5,
               "#f7f7f7"
              ],
              [
               0.6,
               "#e6f5d0"
              ],
              [
               0.7,
               "#b8e186"
              ],
              [
               0.8,
               "#7fbc41"
              ],
              [
               0.9,
               "#4d9221"
              ],
              [
               1,
               "#276419"
              ]
             ],
             "sequential": [
              [
               0,
               "#0d0887"
              ],
              [
               0.1111111111111111,
               "#46039f"
              ],
              [
               0.2222222222222222,
               "#7201a8"
              ],
              [
               0.3333333333333333,
               "#9c179e"
              ],
              [
               0.4444444444444444,
               "#bd3786"
              ],
              [
               0.5555555555555556,
               "#d8576b"
              ],
              [
               0.6666666666666666,
               "#ed7953"
              ],
              [
               0.7777777777777778,
               "#fb9f3a"
              ],
              [
               0.8888888888888888,
               "#fdca26"
              ],
              [
               1,
               "#f0f921"
              ]
             ],
             "sequentialminus": [
              [
               0,
               "#0d0887"
              ],
              [
               0.1111111111111111,
               "#46039f"
              ],
              [
               0.2222222222222222,
               "#7201a8"
              ],
              [
               0.3333333333333333,
               "#9c179e"
              ],
              [
               0.4444444444444444,
               "#bd3786"
              ],
              [
               0.5555555555555556,
               "#d8576b"
              ],
              [
               0.6666666666666666,
               "#ed7953"
              ],
              [
               0.7777777777777778,
               "#fb9f3a"
              ],
              [
               0.8888888888888888,
               "#fdca26"
              ],
              [
               1,
               "#f0f921"
              ]
             ]
            },
            "colorway": [
             "#636efa",
             "#EF553B",
             "#00cc96",
             "#ab63fa",
             "#FFA15A",
             "#19d3f3",
             "#FF6692",
             "#B6E880",
             "#FF97FF",
             "#FECB52"
            ],
            "font": {
             "color": "#2a3f5f"
            },
            "geo": {
             "bgcolor": "white",
             "lakecolor": "white",
             "landcolor": "white",
             "showlakes": true,
             "showland": true,
             "subunitcolor": "#C8D4E3"
            },
            "hoverlabel": {
             "align": "left"
            },
            "hovermode": "closest",
            "mapbox": {
             "style": "light"
            },
            "paper_bgcolor": "white",
            "plot_bgcolor": "white",
            "polar": {
             "angularaxis": {
              "gridcolor": "#EBF0F8",
              "linecolor": "#EBF0F8",
              "ticks": ""
             },
             "bgcolor": "white",
             "radialaxis": {
              "gridcolor": "#EBF0F8",
              "linecolor": "#EBF0F8",
              "ticks": ""
             }
            },
            "scene": {
             "xaxis": {
              "backgroundcolor": "white",
              "gridcolor": "#DFE8F3",
              "gridwidth": 2,
              "linecolor": "#EBF0F8",
              "showbackground": true,
              "ticks": "",
              "zerolinecolor": "#EBF0F8"
             },
             "yaxis": {
              "backgroundcolor": "white",
              "gridcolor": "#DFE8F3",
              "gridwidth": 2,
              "linecolor": "#EBF0F8",
              "showbackground": true,
              "ticks": "",
              "zerolinecolor": "#EBF0F8"
             },
             "zaxis": {
              "backgroundcolor": "white",
              "gridcolor": "#DFE8F3",
              "gridwidth": 2,
              "linecolor": "#EBF0F8",
              "showbackground": true,
              "ticks": "",
              "zerolinecolor": "#EBF0F8"
             }
            },
            "shapedefaults": {
             "line": {
              "color": "#2a3f5f"
             }
            },
            "ternary": {
             "aaxis": {
              "gridcolor": "#DFE8F3",
              "linecolor": "#A2B1C6",
              "ticks": ""
             },
             "baxis": {
              "gridcolor": "#DFE8F3",
              "linecolor": "#A2B1C6",
              "ticks": ""
             },
             "bgcolor": "white",
             "caxis": {
              "gridcolor": "#DFE8F3",
              "linecolor": "#A2B1C6",
              "ticks": ""
             }
            },
            "title": {
             "x": 0.05
            },
            "xaxis": {
             "automargin": true,
             "gridcolor": "#EBF0F8",
             "linecolor": "#EBF0F8",
             "ticks": "",
             "title": {
              "standoff": 15
             },
             "zerolinecolor": "#EBF0F8",
             "zerolinewidth": 2
            },
            "yaxis": {
             "automargin": true,
             "gridcolor": "#EBF0F8",
             "linecolor": "#EBF0F8",
             "ticks": "",
             "title": {
              "standoff": 15
             },
             "zerolinecolor": "#EBF0F8",
             "zerolinewidth": 2
            }
           }
          },
          "xaxis": {
           "automargin": true,
           "autorange": false,
           "fixedrange": true,
           "linecolor": "#444",
           "linewidth": 2,
           "minor": {
            "tickmode": "linear",
            "ticks": "outside"
           },
           "mirror": true,
           "showline": true,
           "tickmode": "linear",
           "ticks": "outside",
           "zeroline": false
          },
          "yaxis": {
           "automargin": true,
           "autorange": false,
           "fixedrange": true,
           "linecolor": "#444",
           "linewidth": 2,
           "minor": {
            "tickmode": "linear",
            "ticks": "outside"
           },
           "mirror": true,
           "showline": true,
           "tickmode": "linear",
           "ticks": "outside",
           "zeroline": false
          }
         }
        },
        "xaxis": {
         "autorange": true,
         "showgrid": false,
         "title": {
          "text": ""
         }
        },
        "yaxis": {
         "autorange": true,
         "showgrid": false,
         "title": {
          "text": ""
         }
        }
       }
      }
     },
     "metadata": {},
     "output_type": "display_data"
    }
   ],
   "source": [
    "# Calculates the probability of a monster for each being immune to each condition.\n",
    "df1 = df0[df0['Category'].isin(['generic','legendary','unique']) & df0['CR'].between(1/8, 30)]\n",
    "\n",
    "# get the total number of monsters from each type\n",
    "dfG = df1.groupby(['Type']).count().reset_index()\n",
    "type_totals = dfG['Book'].to_list()\n",
    "print('Total number of monsters:', np.sum(type_totals))\n",
    "\n",
    "# get the number of monsters immune to each condition for each type\n",
    "dfG = df1.groupby(['Type']).sum().reset_index()\n",
    "\n",
    "# construct custom text for each cell\n",
    "custom_texts = []\n",
    "for c in CONDITIONS:\n",
    "    type_immune = dfG[c].to_list()\n",
    "    custom_texts.append([f'{i:.0f} out of {t}' for i, t in zip(type_immune, type_totals)])\n",
    "\n",
    "# get percent of each type immune to each condition\n",
    "dfG = df1.groupby(['Type']).mean().reset_index()\n",
    "z = []\n",
    "conditions = CONDITIONS.copy()\n",
    "for condition in conditions:\n",
    "    row = dfG[condition].tolist()\n",
    "    row = [int(100*v) for v in row]\n",
    "    z.append(row)\n",
    "\n",
    "x = [x.lower() for x in dfG['Type'].tolist()]\n",
    "y = [x.lower() for x in conditions]\n",
    "\n",
    "fig = go.Figure()\n",
    "fig.add_trace(go.Heatmap(\n",
    "    z=z, x=x, y=y,\n",
    "    zmin=0, zmax=120,\n",
    "    hoverongaps=False,\n",
    "    colorscale='blues',\n",
    "    text=custom_texts,\n",
    "    texttemplate='%{z:.0f}',\n",
    "    hovertemplate='<b>Type:</b> %{x}<br>'+\n",
    "                  '<b>Condition:</b> %{y}<br>'+\n",
    "                  '<b>Immune:</b> %{z:.0f}% (%{text})'+\n",
    "                  '<extra></extra>'\n",
    "))\n",
    "\n",
    "fig.update_traces(showscale=False)\n",
    "\n",
    "fig.update_layout(\n",
    "    template=TFB_TEMPLATE,\n",
    "    font=dict(\n",
    "        family='sans-serif',\n",
    "        size=12\n",
    "    ),\n",
    "    xaxis=dict(\n",
    "        title_text='',\n",
    "        autorange=True,\n",
    "        showgrid=False,\n",
    "    ),\n",
    "    yaxis=dict(\n",
    "        title_text='',\n",
    "        autorange=True,\n",
    "        showgrid=False,\n",
    "    ),\n",
    ")\n",
    "\n",
    "fig.show(config=TFB_CONFIG)\n",
    "if SAVEFIGS:\n",
    "    file_name = f'./fig-condition-immunity-probability-heat-map.html'\n",
    "    fig.write_html(\n",
    "        file_name, \n",
    "        include_plotlyjs=False, \n",
    "        full_html=False, \n",
    "        config=TFB_CONFIG\n",
    "    )\n",
    "    # add style to figure\n",
    "    with open(file_name, 'r') as fin:\n",
    "        fig_soup = BeautifulSoup(fin, 'html.parser')\n",
    "\n",
    "    fig_soup.div['style'] = 'width:1000px; min-width:50%; max-width:100%; max-height:500px'\n",
    "    with open(file_name, 'wb') as fout:\n",
    "        fout.write(fig_soup.prettify('utf-8'))"
   ]
  },
  {
   "cell_type": "code",
   "execution_count": 411,
   "metadata": {},
   "outputs": [
    {
     "data": {
      "application/vnd.plotly.v1+json": {
       "config": {
        "autosizable": true,
        "displayModeBar": "hover",
        "displaylogo": false,
        "modeBarButtonsToRemove": [
         "select2d",
         "lasso2d",
         "zoom2d",
         "zoomIn2d",
         "zoomOut2d",
         "pan2d",
         "autoScale2d",
         "hoverClosestCartesian",
         "hoverCompareCartesian",
         "toggleSpikelines",
         "resetScale2d"
        ],
        "plotlyServerURL": "https://plot.ly",
        "responsive": true,
        "showAxisDragHandles": false,
        "toImageButtonOptions": {
         "filename": "tfb-plot",
         "format": "png",
         "height": 450,
         "scale": 2,
         "width": 600
        }
       },
       "data": [
        {
         "hovertemplate": "<b>CR:</b> %{x}<br><b>Condition:</b> Blinded<br><b>Immune:</b> %{y:.0f}% %{text}<extra></extra>",
         "legendgroup": "Blinded",
         "line": {
          "color": "gold",
          "dash": "solid",
          "shape": "spline"
         },
         "mode": "markers",
         "name": "Blinded",
         "showlegend": true,
         "text": [
          "(5 out of 45)",
          "(8 out of 80)",
          "(8 out of 85)",
          "(8 out of 89)",
          "(8 out of 142)",
          "(6 out of 107)",
          "(5 out of 80)",
          "(7 out of 99)",
          "(4 out of 53)",
          "(4 out of 52)",
          "(2 out of 62)",
          "(1 out of 33)",
          "(2 out of 24)",
          "(1 out of 29)",
          "(1 out of 14)",
          "(1 out of 24)",
          "(1 out of 17)",
          "(0 out of 17)",
          "(1 out of 18)",
          "(0 out of 14)",
          "(0 out of 11)",
          "(1 out of 7)",
          "(0 out of 8)",
          "(0 out of 11)",
          "(2 out of 14)",
          "(3 out of 17)",
          "(1 out of 10)",
          "(0 out of 7)",
          "(0 out of 5)",
          "(0 out of 1)",
          "(0 out of 3)",
          "(2 out of 4)"
         ],
         "type": "scatter",
         "unselected": {
          "marker": {
           "opacity": 0
          }
         },
         "x": [
          0.125,
          0.25,
          0.5,
          1,
          2,
          3,
          4,
          5,
          6,
          7,
          8,
          9,
          10,
          11,
          12,
          13,
          14,
          15,
          16,
          17,
          18,
          19,
          20,
          21,
          22,
          23,
          24,
          25,
          26,
          27,
          28,
          30
         ],
         "y": [
          11.11111111111111,
          10,
          9.411764705882353,
          8.98876404494382,
          5.633802816901409,
          5.607476635514018,
          6.25,
          7.07070707070707,
          7.547169811320755,
          7.6923076923076925,
          3.225806451612903,
          3.0303030303030303,
          8.333333333333332,
          3.4482758620689653,
          7.142857142857142,
          4.166666666666666,
          5.88235294117647,
          0,
          5.555555555555555,
          0,
          0,
          14.285714285714285,
          0,
          0,
          14.285714285714285,
          17.647058823529413,
          10,
          0,
          0,
          0,
          0,
          50
         ]
        },
        {
         "hoverinfo": "skip",
         "legendgroup": "Blinded",
         "legendgrouptitle": {
          "text": "fit"
         },
         "line": {
          "color": "gold",
          "dash": "solid"
         },
         "mode": "lines",
         "showlegend": false,
         "type": "scatter",
         "unselected": {
          "marker": {
           "opacity": 0
          }
         },
         "x": [
          0.125,
          0.25,
          0.5,
          1,
          2,
          3,
          4,
          5,
          6,
          7,
          8,
          9,
          10,
          11,
          12,
          13,
          14,
          15,
          16,
          17,
          18,
          19,
          20,
          21,
          22,
          23,
          24,
          25,
          26,
          27,
          28,
          30
         ],
         "y": [
          5.375251283744728,
          5.390933842562917,
          5.422298960199295,
          5.485029195472052,
          5.610489666017565,
          5.735950136563078,
          5.861410607108591,
          5.986871077654104,
          6.112331548199617,
          6.237792018745131,
          6.363252489290644,
          6.488712959836157,
          6.61417343038167,
          6.739633900927183,
          6.865094371472695,
          6.990554842018209,
          7.1160153125637216,
          7.241475783109236,
          7.366936253654748,
          7.492396724200262,
          7.617857194745774,
          7.743317665291288,
          7.8687781358368,
          7.994238606382314,
          8.119699076927827,
          8.24515954747334,
          8.370620018018853,
          8.496080488564367,
          8.621540959109879,
          8.747001429655391,
          8.872461900200905,
          9.123382841291932
         ]
        },
        {
         "hovertemplate": "<b>CR:</b> %{x}<br><b>Condition:</b> Charmed<br><b>Immune:</b> %{y:.0f}% %{text}<extra></extra>",
         "legendgroup": "Charmed",
         "line": {
          "color": "red",
          "dash": "solid",
          "shape": "spline"
         },
         "mode": "markers",
         "name": "Charmed",
         "showlegend": true,
         "text": [
          "(5 out of 45)",
          "(10 out of 80)",
          "(7 out of 85)",
          "(19 out of 89)",
          "(20 out of 142)",
          "(12 out of 107)",
          "(15 out of 80)",
          "(19 out of 99)",
          "(11 out of 53)",
          "(8 out of 52)",
          "(17 out of 62)",
          "(7 out of 33)",
          "(9 out of 24)",
          "(10 out of 29)",
          "(6 out of 14)",
          "(7 out of 24)",
          "(6 out of 17)",
          "(5 out of 17)",
          "(9 out of 18)",
          "(6 out of 14)",
          "(11 out of 11)",
          "(4 out of 7)",
          "(3 out of 8)",
          "(6 out of 11)",
          "(8 out of 14)",
          "(9 out of 17)",
          "(5 out of 10)",
          "(3 out of 7)",
          "(5 out of 5)",
          "(1 out of 1)",
          "(3 out of 3)",
          "(4 out of 4)"
         ],
         "type": "scatter",
         "unselected": {
          "marker": {
           "opacity": 0
          }
         },
         "x": [
          0.125,
          0.25,
          0.5,
          1,
          2,
          3,
          4,
          5,
          6,
          7,
          8,
          9,
          10,
          11,
          12,
          13,
          14,
          15,
          16,
          17,
          18,
          19,
          20,
          21,
          22,
          23,
          24,
          25,
          26,
          27,
          28,
          30
         ],
         "y": [
          11.11111111111111,
          12.5,
          8.235294117647058,
          21.34831460674157,
          14.084507042253522,
          11.214953271028037,
          18.75,
          19.19191919191919,
          20.754716981132077,
          15.384615384615385,
          27.419354838709676,
          21.21212121212121,
          37.5,
          34.48275862068966,
          42.857142857142854,
          29.166666666666668,
          35.294117647058826,
          29.411764705882355,
          50,
          42.857142857142854,
          100,
          57.14285714285714,
          37.5,
          54.54545454545454,
          57.14285714285714,
          52.94117647058824,
          50,
          42.857142857142854,
          100,
          100,
          100,
          100
         ]
        },
        {
         "hoverinfo": "skip",
         "legendgroup": "Charmed",
         "legendgrouptitle": {
          "text": "fit"
         },
         "line": {
          "color": "red",
          "dash": "solid"
         },
         "mode": "lines",
         "showlegend": false,
         "type": "scatter",
         "unselected": {
          "marker": {
           "opacity": 0
          }
         },
         "x": [
          0.125,
          0.25,
          0.5,
          1,
          2,
          3,
          4,
          5,
          6,
          7,
          8,
          9,
          10,
          11,
          12,
          13,
          14,
          15,
          16,
          17,
          18,
          19,
          20,
          21,
          22,
          23,
          24,
          25,
          26,
          27,
          28,
          30
         ],
         "y": [
          5.85926184237514,
          6.196371172526673,
          6.870589832829738,
          8.219027153435869,
          10.915901794648132,
          13.612776435860393,
          16.309651077072655,
          19.006525718284916,
          21.70340035949718,
          24.400275000709442,
          27.097149641921703,
          29.794024283133965,
          32.490898924346226,
          35.18777356555849,
          37.88464820677075,
          40.58152284798301,
          43.27839748919527,
          45.97527213040753,
          48.67214677161979,
          51.369021412832055,
          54.065896054044316,
          56.76277069525658,
          59.45964533646884,
          62.1565199776811,
          64.85339461889336,
          67.55026926010562,
          70.2471439013179,
          72.94401854253016,
          75.64089318374242,
          78.33776782495468,
          81.03464246616694,
          86.42839174859147
         ]
        },
        {
         "hovertemplate": "<b>CR:</b> %{x}<br><b>Condition:</b> Deafened<br><b>Immune:</b> %{y:.0f}% %{text}<extra></extra>",
         "legendgroup": "Deafened",
         "line": {
          "color": "green",
          "dash": "solid",
          "shape": "spline"
         },
         "mode": "markers",
         "name": "Deafened",
         "showlegend": true,
         "text": [
          "(5 out of 45)",
          "(6 out of 80)",
          "(7 out of 85)",
          "(6 out of 89)",
          "(7 out of 142)",
          "(2 out of 107)",
          "(4 out of 80)",
          "(5 out of 99)",
          "(2 out of 53)",
          "(3 out of 52)",
          "(2 out of 62)",
          "(1 out of 33)",
          "(2 out of 24)",
          "(1 out of 29)",
          "(1 out of 14)",
          "(1 out of 24)",
          "(1 out of 17)",
          "(0 out of 17)",
          "(1 out of 18)",
          "(0 out of 14)",
          "(2 out of 11)",
          "(0 out of 7)",
          "(1 out of 8)",
          "(0 out of 11)",
          "(1 out of 14)",
          "(2 out of 17)",
          "(0 out of 10)",
          "(0 out of 7)",
          "(0 out of 5)",
          "(0 out of 1)",
          "(0 out of 3)",
          "(3 out of 4)"
         ],
         "type": "scatter",
         "unselected": {
          "marker": {
           "opacity": 0
          }
         },
         "x": [
          0.125,
          0.25,
          0.5,
          1,
          2,
          3,
          4,
          5,
          6,
          7,
          8,
          9,
          10,
          11,
          12,
          13,
          14,
          15,
          16,
          17,
          18,
          19,
          20,
          21,
          22,
          23,
          24,
          25,
          26,
          27,
          28,
          30
         ],
         "y": [
          11.11111111111111,
          7.5,
          8.235294117647058,
          6.741573033707865,
          4.929577464788732,
          1.8691588785046727,
          5,
          5.05050505050505,
          3.7735849056603774,
          5.769230769230769,
          3.225806451612903,
          3.0303030303030303,
          8.333333333333332,
          3.4482758620689653,
          7.142857142857142,
          4.166666666666666,
          5.88235294117647,
          0,
          5.555555555555555,
          0,
          18.181818181818183,
          0,
          12.5,
          0,
          7.142857142857142,
          11.76470588235294,
          0,
          0,
          0,
          0,
          0,
          75
         ]
        },
        {
         "hoverinfo": "skip",
         "legendgroup": "Deafened",
         "legendgrouptitle": {
          "text": "fit"
         },
         "line": {
          "color": "green",
          "dash": "solid"
         },
         "mode": "lines",
         "showlegend": false,
         "type": "scatter",
         "unselected": {
          "marker": {
           "opacity": 0
          }
         },
         "x": [
          0.125,
          0.25,
          0.5,
          1,
          2,
          3,
          4,
          5,
          6,
          7,
          8,
          9,
          10,
          11,
          12,
          13,
          14,
          15,
          16,
          17,
          18,
          19,
          20,
          21,
          22,
          23,
          24,
          25,
          26,
          27,
          28,
          30
         ],
         "y": [
          2.949760082887325,
          2.987577652875591,
          3.063212792852122,
          3.214483072805184,
          3.5170236327113087,
          3.8195641926174333,
          4.122104752523558,
          4.424645312429682,
          4.727185872335808,
          5.029726432241931,
          5.332266992148057,
          5.6348075520541805,
          5.937348111960306,
          6.23988867186643,
          6.542429231772555,
          6.844969791678679,
          7.147510351584804,
          7.450050911490928,
          7.752591471397054,
          8.055132031303177,
          8.357672591209303,
          8.660213151115427,
          8.962753711021552,
          9.265294270927676,
          9.567834830833801,
          9.870375390739925,
          10.17291595064605,
          10.475456510552174,
          10.7779970704583,
          11.080537630364425,
          11.383078190270549,
          11.988159310082798
         ]
        },
        {
         "hovertemplate": "<b>CR:</b> %{x}<br><b>Condition:</b> Exhaustion<br><b>Immune:</b> %{y:.0f}% %{text}<extra></extra>",
         "legendgroup": "Exhaustion",
         "line": {
          "color": "orange",
          "dash": "solid",
          "shape": "spline"
         },
         "mode": "markers",
         "name": "Exhaustion",
         "showlegend": true,
         "text": [
          "(4 out of 45)",
          "(9 out of 80)",
          "(10 out of 85)",
          "(19 out of 89)",
          "(15 out of 142)",
          "(11 out of 107)",
          "(14 out of 80)",
          "(20 out of 99)",
          "(13 out of 53)",
          "(6 out of 52)",
          "(8 out of 62)",
          "(8 out of 33)",
          "(7 out of 24)",
          "(7 out of 29)",
          "(5 out of 14)",
          "(3 out of 24)",
          "(4 out of 17)",
          "(2 out of 17)",
          "(7 out of 18)",
          "(4 out of 14)",
          "(6 out of 11)",
          "(1 out of 7)",
          "(1 out of 8)",
          "(3 out of 11)",
          "(6 out of 14)",
          "(8 out of 17)",
          "(4 out of 10)",
          "(1 out of 7)",
          "(2 out of 5)",
          "(0 out of 1)",
          "(2 out of 3)",
          "(0 out of 4)"
         ],
         "type": "scatter",
         "unselected": {
          "marker": {
           "opacity": 0
          }
         },
         "x": [
          0.125,
          0.25,
          0.5,
          1,
          2,
          3,
          4,
          5,
          6,
          7,
          8,
          9,
          10,
          11,
          12,
          13,
          14,
          15,
          16,
          17,
          18,
          19,
          20,
          21,
          22,
          23,
          24,
          25,
          26,
          27,
          28,
          30
         ],
         "y": [
          8.88888888888889,
          11.25,
          11.76470588235294,
          21.34831460674157,
          10.56338028169014,
          10.2803738317757,
          17.5,
          20.2020202020202,
          24.528301886792452,
          11.538461538461538,
          12.903225806451612,
          24.242424242424242,
          29.166666666666668,
          24.137931034482758,
          35.714285714285715,
          12.5,
          23.52941176470588,
          11.76470588235294,
          38.88888888888889,
          28.57142857142857,
          54.54545454545454,
          14.285714285714285,
          12.5,
          27.27272727272727,
          42.857142857142854,
          47.05882352941176,
          40,
          14.285714285714285,
          40,
          0,
          66.66666666666666,
          0
         ]
        },
        {
         "hoverinfo": "skip",
         "legendgroup": "Exhaustion",
         "legendgrouptitle": {
          "text": "fit"
         },
         "line": {
          "color": "orange",
          "dash": "solid"
         },
         "mode": "lines",
         "showlegend": false,
         "type": "scatter",
         "unselected": {
          "marker": {
           "opacity": 0
          }
         },
         "x": [
          0.125,
          0.25,
          0.5,
          1,
          2,
          3,
          4,
          5,
          6,
          7,
          8,
          9,
          10,
          11,
          12,
          13,
          14,
          15,
          16,
          17,
          18,
          19,
          20,
          21,
          22,
          23,
          24,
          25,
          26,
          27,
          28,
          30
         ],
         "y": [
          14.882503085928807,
          14.961196577232164,
          15.118583559838875,
          15.433357525052298,
          16.062905455479143,
          16.69245338590599,
          17.322001316332834,
          17.951549246759676,
          18.58109717718652,
          19.210645107613367,
          19.840193038040212,
          20.469740968467057,
          21.099288898893903,
          21.72883682932075,
          22.358384759747594,
          22.98793269017444,
          23.617480620601285,
          24.24702855102813,
          24.876576481454975,
          25.50612441188182,
          26.135672342308666,
          26.765220272735508,
          27.394768203162354,
          28.0243161335892,
          28.653864064016044,
          29.28341199444289,
          29.912959924869735,
          30.542507855296577,
          31.172055785723426,
          31.801603716150268,
          32.43115164657711,
          33.690247507430804
         ]
        },
        {
         "hovertemplate": "<b>CR:</b> %{x}<br><b>Condition:</b> Frightened<br><b>Immune:</b> %{y:.0f}% %{text}<extra></extra>",
         "legendgroup": "Frightened",
         "line": {
          "color": "teal",
          "dash": "solid",
          "shape": "spline"
         },
         "mode": "markers",
         "name": "Frightened",
         "showlegend": true,
         "text": [
          "(5 out of 45)",
          "(9 out of 80)",
          "(10 out of 85)",
          "(15 out of 89)",
          "(17 out of 142)",
          "(13 out of 107)",
          "(17 out of 80)",
          "(15 out of 99)",
          "(13 out of 53)",
          "(11 out of 52)",
          "(13 out of 62)",
          "(9 out of 33)",
          "(10 out of 24)",
          "(11 out of 29)",
          "(5 out of 14)",
          "(8 out of 24)",
          "(6 out of 17)",
          "(6 out of 17)",
          "(11 out of 18)",
          "(8 out of 14)",
          "(10 out of 11)",
          "(4 out of 7)",
          "(3 out of 8)",
          "(5 out of 11)",
          "(8 out of 14)",
          "(12 out of 17)",
          "(6 out of 10)",
          "(4 out of 7)",
          "(4 out of 5)",
          "(1 out of 1)",
          "(3 out of 3)",
          "(4 out of 4)"
         ],
         "type": "scatter",
         "unselected": {
          "marker": {
           "opacity": 0
          }
         },
         "x": [
          0.125,
          0.25,
          0.5,
          1,
          2,
          3,
          4,
          5,
          6,
          7,
          8,
          9,
          10,
          11,
          12,
          13,
          14,
          15,
          16,
          17,
          18,
          19,
          20,
          21,
          22,
          23,
          24,
          25,
          26,
          27,
          28,
          30
         ],
         "y": [
          11.11111111111111,
          11.25,
          11.76470588235294,
          16.853932584269664,
          11.971830985915492,
          12.149532710280374,
          21.25,
          15.151515151515152,
          24.528301886792452,
          21.153846153846153,
          20.967741935483872,
          27.27272727272727,
          41.66666666666667,
          37.93103448275862,
          35.714285714285715,
          33.33333333333333,
          35.294117647058826,
          35.294117647058826,
          61.111111111111114,
          57.14285714285714,
          90.9090909090909,
          57.14285714285714,
          37.5,
          45.45454545454545,
          57.14285714285714,
          70.58823529411765,
          60,
          57.14285714285714,
          80,
          100,
          100,
          100
         ]
        },
        {
         "hoverinfo": "skip",
         "legendgroup": "Frightened",
         "legendgrouptitle": {
          "text": "fit"
         },
         "line": {
          "color": "teal",
          "dash": "solid"
         },
         "mode": "lines",
         "showlegend": false,
         "type": "scatter",
         "unselected": {
          "marker": {
           "opacity": 0
          }
         },
         "x": [
          0.125,
          0.25,
          0.5,
          1,
          2,
          3,
          4,
          5,
          6,
          7,
          8,
          9,
          10,
          11,
          12,
          13,
          14,
          15,
          16,
          17,
          18,
          19,
          20,
          21,
          22,
          23,
          24,
          25,
          26,
          27,
          28,
          30
         ],
         "y": [
          6.528686226813188,
          6.872282892492579,
          7.55947622385136,
          8.933862886568921,
          11.682636212004045,
          14.431409537439169,
          17.180182862874293,
          19.928956188309417,
          22.677729513744538,
          25.426502839179662,
          28.175276164614786,
          30.92404949004991,
          33.672822815485034,
          36.42159614092016,
          39.17036946635528,
          41.91914279179041,
          44.66791611722553,
          47.416689442660655,
          50.16546276809578,
          52.9142360935309,
          55.66300941896603,
          58.41178274440115,
          61.160556069836275,
          63.9093293952714,
          66.65810272070652,
          69.40687604614165,
          72.15564937157676,
          74.90442269701188,
          77.653196022447,
          80.40196934788213,
          83.15074267331725,
          88.6482893241875
         ]
        },
        {
         "hovertemplate": "<b>CR:</b> %{x}<br><b>Condition:</b> Grappled<br><b>Immune:</b> %{y:.0f}% %{text}<extra></extra>",
         "legendgroup": "Grappled",
         "line": {
          "color": "purple",
          "dash": "solid",
          "shape": "spline"
         },
         "mode": "markers",
         "name": "Grappled",
         "showlegend": true,
         "text": [
          "(0 out of 45)",
          "(3 out of 80)",
          "(2 out of 85)",
          "(7 out of 89)",
          "(6 out of 142)",
          "(5 out of 107)",
          "(6 out of 80)",
          "(6 out of 99)",
          "(3 out of 53)",
          "(3 out of 52)",
          "(2 out of 62)",
          "(2 out of 33)",
          "(0 out of 24)",
          "(0 out of 29)",
          "(1 out of 14)",
          "(0 out of 24)",
          "(0 out of 17)",
          "(0 out of 17)",
          "(1 out of 18)",
          "(2 out of 14)",
          "(1 out of 11)",
          "(1 out of 7)",
          "(0 out of 8)",
          "(0 out of 11)",
          "(1 out of 14)",
          "(2 out of 17)",
          "(0 out of 10)",
          "(0 out of 7)",
          "(0 out of 5)",
          "(0 out of 1)",
          "(0 out of 3)",
          "(0 out of 4)"
         ],
         "type": "scatter",
         "unselected": {
          "marker": {
           "opacity": 0
          }
         },
         "x": [
          0.125,
          0.25,
          0.5,
          1,
          2,
          3,
          4,
          5,
          6,
          7,
          8,
          9,
          10,
          11,
          12,
          13,
          14,
          15,
          16,
          17,
          18,
          19,
          20,
          21,
          22,
          23,
          24,
          25,
          26,
          27,
          28,
          30
         ],
         "y": [
          0,
          3.75,
          2.3529411764705883,
          7.865168539325842,
          4.225352112676056,
          4.672897196261682,
          7.5,
          6.0606060606060606,
          5.660377358490567,
          5.769230769230769,
          3.225806451612903,
          6.0606060606060606,
          0,
          0,
          7.142857142857142,
          0,
          0,
          0,
          5.555555555555555,
          14.285714285714285,
          9.090909090909092,
          14.285714285714285,
          0,
          0,
          7.142857142857142,
          11.76470588235294,
          0,
          0,
          0,
          0,
          0,
          0
         ]
        },
        {
         "hoverinfo": "skip",
         "legendgroup": "Grappled",
         "legendgrouptitle": {
          "text": "fit"
         },
         "line": {
          "color": "purple",
          "dash": "solid"
         },
         "mode": "lines",
         "showlegend": false,
         "type": "scatter",
         "unselected": {
          "marker": {
           "opacity": 0
          }
         },
         "x": [
          0.125,
          0.25,
          0.5,
          1,
          2,
          3,
          4,
          5,
          6,
          7,
          8,
          9,
          10,
          11,
          12,
          13,
          14,
          15,
          16,
          17,
          18,
          19,
          20,
          21,
          22,
          23,
          24,
          25,
          26,
          27,
          28,
          30
         ],
         "y": [
          4.961620410107182,
          4.9522757511374484,
          4.933586433197981,
          4.896207797319044,
          4.821450525561172,
          4.7466932538033,
          4.671935982045428,
          4.597178710287555,
          4.522421438529683,
          4.447664166771812,
          4.372906895013939,
          4.298149623256068,
          4.2233923514981955,
          4.148635079740323,
          4.073877807982451,
          3.999120536224579,
          3.924363264466707,
          3.8496059927088346,
          3.7748487209509625,
          3.7000914491930903,
          3.625334177435218,
          3.550576905677346,
          3.475819633919474,
          3.4010623621616016,
          3.32630509040373,
          3.2515478186458577,
          3.1767905468879856,
          3.1020332751301134,
          3.0272760033722412,
          2.952518731614369,
          2.8777614598564973,
          2.728246916340753
         ]
        },
        {
         "hovertemplate": "<b>CR:</b> %{x}<br><b>Condition:</b> Paralyzed<br><b>Immune:</b> %{y:.0f}% %{text}<extra></extra>",
         "legendgroup": "Paralyzed",
         "line": {
          "color": "olivedrab",
          "dash": "solid",
          "shape": "spline"
         },
         "mode": "markers",
         "name": "Paralyzed",
         "showlegend": true,
         "text": [
          "(4 out of 45)",
          "(9 out of 80)",
          "(6 out of 85)",
          "(15 out of 89)",
          "(13 out of 142)",
          "(10 out of 107)",
          "(12 out of 80)",
          "(12 out of 99)",
          "(11 out of 53)",
          "(6 out of 52)",
          "(9 out of 62)",
          "(5 out of 33)",
          "(5 out of 24)",
          "(5 out of 29)",
          "(3 out of 14)",
          "(4 out of 24)",
          "(5 out of 17)",
          "(2 out of 17)",
          "(3 out of 18)",
          "(3 out of 14)",
          "(7 out of 11)",
          "(2 out of 7)",
          "(2 out of 8)",
          "(2 out of 11)",
          "(5 out of 14)",
          "(6 out of 17)",
          "(0 out of 10)",
          "(2 out of 7)",
          "(1 out of 5)",
          "(0 out of 1)",
          "(2 out of 3)",
          "(2 out of 4)"
         ],
         "type": "scatter",
         "unselected": {
          "marker": {
           "opacity": 0
          }
         },
         "x": [
          0.125,
          0.25,
          0.5,
          1,
          2,
          3,
          4,
          5,
          6,
          7,
          8,
          9,
          10,
          11,
          12,
          13,
          14,
          15,
          16,
          17,
          18,
          19,
          20,
          21,
          22,
          23,
          24,
          25,
          26,
          27,
          28,
          30
         ],
         "y": [
          8.88888888888889,
          11.25,
          7.0588235294117645,
          16.853932584269664,
          9.15492957746479,
          9.345794392523365,
          15,
          12.121212121212121,
          20.754716981132077,
          11.538461538461538,
          14.516129032258066,
          15.151515151515152,
          20.833333333333336,
          17.24137931034483,
          21.428571428571427,
          16.666666666666664,
          29.411764705882355,
          11.76470588235294,
          16.666666666666664,
          21.428571428571427,
          63.63636363636363,
          28.57142857142857,
          25,
          18.181818181818183,
          35.714285714285715,
          35.294117647058826,
          0,
          28.57142857142857,
          20,
          0,
          66.66666666666666,
          50
         ]
        },
        {
         "hoverinfo": "skip",
         "legendgroup": "Paralyzed",
         "legendgrouptitle": {
          "text": "fit"
         },
         "line": {
          "color": "olivedrab",
          "dash": "solid"
         },
         "mode": "lines",
         "showlegend": false,
         "type": "scatter",
         "unselected": {
          "marker": {
           "opacity": 0
          }
         },
         "x": [
          0.125,
          0.25,
          0.5,
          1,
          2,
          3,
          4,
          5,
          6,
          7,
          8,
          9,
          10,
          11,
          12,
          13,
          14,
          15,
          16,
          17,
          18,
          19,
          20,
          21,
          22,
          23,
          24,
          25,
          26,
          27,
          28,
          30
         ],
         "y": [
          9.76195234352141,
          9.867736258397496,
          10.079304088149673,
          10.502439747654025,
          11.348711066662727,
          12.19498238567143,
          13.041253704680134,
          13.887525023688838,
          14.73379634269754,
          15.580067661706243,
          16.426338980714945,
          17.27261029972365,
          18.118881618732352,
          18.965152937741056,
          19.81142425674976,
          20.65769557575846,
          21.503966894767167,
          22.350238213775867,
          23.19650953278457,
          24.042780851793275,
          24.889052170801975,
          25.735323489810682,
          26.581594808819382,
          27.42786612782809,
          28.27413744683679,
          29.12040876584549,
          29.966680084854197,
          30.812951403862897,
          31.659222722871604,
          32.505494041880304,
          33.35176536088901,
          35.04430799890641
         ]
        },
        {
         "hovertemplate": "<b>CR:</b> %{x}<br><b>Condition:</b> Petrified<br><b>Immune:</b> %{y:.0f}% %{text}<extra></extra>",
         "legendgroup": "Petrified",
         "line": {
          "color": "orangered",
          "dash": "solid",
          "shape": "spline"
         },
         "mode": "markers",
         "name": "Petrified",
         "showlegend": true,
         "text": [
          "(4 out of 45)",
          "(8 out of 80)",
          "(4 out of 85)",
          "(12 out of 89)",
          "(12 out of 142)",
          "(6 out of 107)",
          "(10 out of 80)",
          "(12 out of 99)",
          "(8 out of 53)",
          "(3 out of 52)",
          "(6 out of 62)",
          "(4 out of 33)",
          "(4 out of 24)",
          "(6 out of 29)",
          "(2 out of 14)",
          "(1 out of 24)",
          "(1 out of 17)",
          "(1 out of 17)",
          "(2 out of 18)",
          "(2 out of 14)",
          "(5 out of 11)",
          "(2 out of 7)",
          "(2 out of 8)",
          "(0 out of 11)",
          "(2 out of 14)",
          "(4 out of 17)",
          "(0 out of 10)",
          "(1 out of 7)",
          "(0 out of 5)",
          "(0 out of 1)",
          "(1 out of 3)",
          "(0 out of 4)"
         ],
         "type": "scatter",
         "unselected": {
          "marker": {
           "opacity": 0
          }
         },
         "x": [
          0.125,
          0.25,
          0.5,
          1,
          2,
          3,
          4,
          5,
          6,
          7,
          8,
          9,
          10,
          11,
          12,
          13,
          14,
          15,
          16,
          17,
          18,
          19,
          20,
          21,
          22,
          23,
          24,
          25,
          26,
          27,
          28,
          30
         ],
         "y": [
          8.88888888888889,
          10,
          4.705882352941177,
          13.48314606741573,
          8.450704225352112,
          5.607476635514018,
          12.5,
          12.121212121212121,
          15.09433962264151,
          5.769230769230769,
          9.67741935483871,
          12.121212121212121,
          16.666666666666664,
          20.689655172413794,
          14.285714285714285,
          4.166666666666666,
          5.88235294117647,
          5.88235294117647,
          11.11111111111111,
          14.285714285714285,
          45.45454545454545,
          28.57142857142857,
          25,
          0,
          14.285714285714285,
          23.52941176470588,
          0,
          14.285714285714285,
          0,
          0,
          33.33333333333333,
          0
         ]
        },
        {
         "hoverinfo": "skip",
         "legendgroup": "Petrified",
         "legendgrouptitle": {
          "text": "fit"
         },
         "line": {
          "color": "orangered",
          "dash": "solid"
         },
         "mode": "lines",
         "showlegend": false,
         "type": "scatter",
         "unselected": {
          "marker": {
           "opacity": 0
          }
         },
         "x": [
          0.125,
          0.25,
          0.5,
          1,
          2,
          3,
          4,
          5,
          6,
          7,
          8,
          9,
          10,
          11,
          12,
          13,
          14,
          15,
          16,
          17,
          18,
          19,
          20,
          21,
          22,
          23,
          24,
          25,
          26,
          27,
          28,
          30
         ],
         "y": [
          10.864372812781882,
          10.878288482408307,
          10.906119821661155,
          10.961782500166855,
          11.073107857178252,
          11.18443321418965,
          11.295758571201047,
          11.407083928212444,
          11.51840928522384,
          11.629734642235237,
          11.741059999246634,
          11.852385356258031,
          11.963710713269428,
          12.075036070280825,
          12.186361427292223,
          12.29768678430362,
          12.409012141315017,
          12.520337498326414,
          12.631662855337812,
          12.742988212349207,
          12.854313569360606,
          12.965638926372002,
          13.076964283383399,
          13.188289640394796,
          13.299614997406193,
          13.41094035441759,
          13.522265711428988,
          13.633591068440385,
          13.744916425451782,
          13.85624178246318,
          13.967567139474575,
          14.19021785349737
         ]
        },
        {
         "hovertemplate": "<b>CR:</b> %{x}<br><b>Condition:</b> Poisoned<br><b>Immune:</b> %{y:.0f}% %{text}<extra></extra>",
         "legendgroup": "Poisoned",
         "line": {
          "color": "blue",
          "dash": "solid",
          "shape": "spline"
         },
         "mode": "markers",
         "name": "Poisoned",
         "showlegend": true,
         "text": [
          "(7 out of 45)",
          "(18 out of 80)",
          "(12 out of 85)",
          "(28 out of 89)",
          "(22 out of 142)",
          "(21 out of 107)",
          "(23 out of 80)",
          "(25 out of 99)",
          "(16 out of 53)",
          "(12 out of 52)",
          "(15 out of 62)",
          "(13 out of 33)",
          "(10 out of 24)",
          "(10 out of 29)",
          "(7 out of 14)",
          "(6 out of 24)",
          "(6 out of 17)",
          "(3 out of 17)",
          "(7 out of 18)",
          "(8 out of 14)",
          "(8 out of 11)",
          "(3 out of 7)",
          "(3 out of 8)",
          "(4 out of 11)",
          "(7 out of 14)",
          "(9 out of 17)",
          "(6 out of 10)",
          "(4 out of 7)",
          "(3 out of 5)",
          "(1 out of 1)",
          "(3 out of 3)",
          "(3 out of 4)"
         ],
         "type": "scatter",
         "unselected": {
          "marker": {
           "opacity": 0
          }
         },
         "x": [
          0.125,
          0.25,
          0.5,
          1,
          2,
          3,
          4,
          5,
          6,
          7,
          8,
          9,
          10,
          11,
          12,
          13,
          14,
          15,
          16,
          17,
          18,
          19,
          20,
          21,
          22,
          23,
          24,
          25,
          26,
          27,
          28,
          30
         ],
         "y": [
          15.555555555555555,
          22.5,
          14.117647058823529,
          31.46067415730337,
          15.492957746478872,
          19.626168224299064,
          28.749999999999996,
          25.252525252525253,
          30.18867924528302,
          23.076923076923077,
          24.193548387096776,
          39.39393939393939,
          41.66666666666667,
          34.48275862068966,
          50,
          25,
          35.294117647058826,
          17.647058823529413,
          38.88888888888889,
          57.14285714285714,
          72.72727272727273,
          42.857142857142854,
          37.5,
          36.36363636363637,
          50,
          52.94117647058824,
          60,
          57.14285714285714,
          60,
          100,
          100,
          75
         ]
        },
        {
         "hoverinfo": "skip",
         "legendgroup": "Poisoned",
         "legendgrouptitle": {
          "text": "fit"
         },
         "line": {
          "color": "blue",
          "dash": "solid"
         },
         "mode": "lines",
         "showlegend": false,
         "type": "scatter",
         "unselected": {
          "marker": {
           "opacity": 0
          }
         },
         "x": [
          0.125,
          0.25,
          0.5,
          1,
          2,
          3,
          4,
          5,
          6,
          7,
          8,
          9,
          10,
          11,
          12,
          13,
          14,
          15,
          16,
          17,
          18,
          19,
          20,
          21,
          22,
          23,
          24,
          25,
          26,
          27,
          28,
          30
         ],
         "y": [
          14.85071264114905,
          15.098775086119494,
          15.59489997606038,
          16.587149755942157,
          18.571649315705706,
          20.556148875469255,
          22.540648435232804,
          24.525147994996352,
          26.5096475547599,
          28.49414711452345,
          30.478646674287,
          32.46314623405055,
          34.4476457938141,
          36.432145353577646,
          38.4166449133412,
          40.40114447310475,
          42.3856440328683,
          44.37014359263185,
          46.3546431523954,
          48.339142712158946,
          50.323642271922495,
          52.308141831686044,
          54.29264139144959,
          56.27714095121314,
          58.26164051097669,
          60.24614007074024,
          62.230639630503795,
          64.21513919026734,
          66.19963875003089,
          68.18413830979443,
          70.16863786955798,
          74.13763698908508
         ]
        },
        {
         "hovertemplate": "<b>CR:</b> %{x}<br><b>Condition:</b> Prone<br><b>Immune:</b> %{y:.0f}% %{text}<extra></extra>",
         "legendgroup": "Prone",
         "line": {
          "color": "darkviolet",
          "dash": "solid",
          "shape": "spline"
         },
         "mode": "markers",
         "name": "Prone",
         "showlegend": true,
         "text": [
          "(0 out of 45)",
          "(6 out of 80)",
          "(6 out of 85)",
          "(9 out of 89)",
          "(12 out of 142)",
          "(10 out of 107)",
          "(9 out of 80)",
          "(8 out of 99)",
          "(3 out of 53)",
          "(6 out of 52)",
          "(4 out of 62)",
          "(3 out of 33)",
          "(2 out of 24)",
          "(2 out of 29)",
          "(1 out of 14)",
          "(2 out of 24)",
          "(2 out of 17)",
          "(1 out of 17)",
          "(2 out of 18)",
          "(3 out of 14)",
          "(3 out of 11)",
          "(2 out of 7)",
          "(2 out of 8)",
          "(0 out of 11)",
          "(2 out of 14)",
          "(4 out of 17)",
          "(2 out of 10)",
          "(0 out of 7)",
          "(1 out of 5)",
          "(0 out of 1)",
          "(0 out of 3)",
          "(0 out of 4)"
         ],
         "type": "scatter",
         "unselected": {
          "marker": {
           "opacity": 0
          }
         },
         "x": [
          0.125,
          0.25,
          0.5,
          1,
          2,
          3,
          4,
          5,
          6,
          7,
          8,
          9,
          10,
          11,
          12,
          13,
          14,
          15,
          16,
          17,
          18,
          19,
          20,
          21,
          22,
          23,
          24,
          25,
          26,
          27,
          28,
          30
         ],
         "y": [
          0,
          7.5,
          7.0588235294117645,
          10.112359550561797,
          8.450704225352112,
          9.345794392523365,
          11.25,
          8.080808080808081,
          5.660377358490567,
          11.538461538461538,
          6.451612903225806,
          9.090909090909092,
          8.333333333333332,
          6.896551724137931,
          7.142857142857142,
          8.333333333333332,
          11.76470588235294,
          5.88235294117647,
          11.11111111111111,
          21.428571428571427,
          27.27272727272727,
          28.57142857142857,
          25,
          0,
          14.285714285714285,
          23.52941176470588,
          20,
          0,
          20,
          0,
          0,
          0
         ]
        },
        {
         "hoverinfo": "skip",
         "legendgroup": "Prone",
         "legendgrouptitle": {
          "text": "fit"
         },
         "line": {
          "color": "darkviolet",
          "dash": "solid"
         },
         "mode": "lines",
         "showlegend": false,
         "type": "scatter",
         "unselected": {
          "marker": {
           "opacity": 0
          }
         },
         "x": [
          0.125,
          0.25,
          0.5,
          1,
          2,
          3,
          4,
          5,
          6,
          7,
          8,
          9,
          10,
          11,
          12,
          13,
          14,
          15,
          16,
          17,
          18,
          19,
          20,
          21,
          22,
          23,
          24,
          25,
          26,
          27,
          28,
          30
         ],
         "y": [
          8.54978327558381,
          8.567253354891493,
          8.602193513506863,
          8.672073830737602,
          8.811834465199079,
          8.951595099660556,
          9.091355734122033,
          9.23111636858351,
          9.370877003044987,
          9.510637637506465,
          9.65039827196794,
          9.790158906429419,
          9.929919540890895,
          10.069680175352373,
          10.209440809813849,
          10.349201444275327,
          10.488962078736803,
          10.62872271319828,
          10.768483347659757,
          10.908243982121235,
          11.04800461658271,
          11.187765251044189,
          11.327525885505665,
          11.467286519967143,
          11.607047154428619,
          11.746807788890097,
          11.886568423351573,
          12.02632905781305,
          12.166089692274529,
          12.305850326736005,
          12.445610961197481,
          12.725132230120437
         ]
        },
        {
         "hovertemplate": "<b>CR:</b> %{x}<br><b>Condition:</b> Restrained<br><b>Immune:</b> %{y:.0f}% %{text}<extra></extra>",
         "legendgroup": "Restrained",
         "line": {
          "color": "dodgerblue",
          "dash": "solid",
          "shape": "spline"
         },
         "mode": "markers",
         "name": "Restrained",
         "showlegend": true,
         "text": [
          "(0 out of 45)",
          "(3 out of 80)",
          "(2 out of 85)",
          "(6 out of 89)",
          "(7 out of 142)",
          "(5 out of 107)",
          "(6 out of 80)",
          "(5 out of 99)",
          "(4 out of 53)",
          "(2 out of 52)",
          "(2 out of 62)",
          "(2 out of 33)",
          "(0 out of 24)",
          "(0 out of 29)",
          "(1 out of 14)",
          "(0 out of 24)",
          "(0 out of 17)",
          "(0 out of 17)",
          "(1 out of 18)",
          "(1 out of 14)",
          "(2 out of 11)",
          "(2 out of 7)",
          "(0 out of 8)",
          "(0 out of 11)",
          "(1 out of 14)",
          "(2 out of 17)",
          "(0 out of 10)",
          "(0 out of 7)",
          "(1 out of 5)",
          "(0 out of 1)",
          "(0 out of 3)",
          "(0 out of 4)"
         ],
         "type": "scatter",
         "unselected": {
          "marker": {
           "opacity": 0
          }
         },
         "x": [
          0.125,
          0.25,
          0.5,
          1,
          2,
          3,
          4,
          5,
          6,
          7,
          8,
          9,
          10,
          11,
          12,
          13,
          14,
          15,
          16,
          17,
          18,
          19,
          20,
          21,
          22,
          23,
          24,
          25,
          26,
          27,
          28,
          30
         ],
         "y": [
          0,
          3.75,
          2.3529411764705883,
          6.741573033707865,
          4.929577464788732,
          4.672897196261682,
          7.5,
          5.05050505050505,
          7.547169811320755,
          3.8461538461538463,
          3.225806451612903,
          6.0606060606060606,
          0,
          0,
          7.142857142857142,
          0,
          0,
          0,
          5.555555555555555,
          7.142857142857142,
          18.181818181818183,
          28.57142857142857,
          0,
          0,
          7.142857142857142,
          11.76470588235294,
          0,
          0,
          20,
          0,
          0,
          0
         ]
        },
        {
         "hoverinfo": "skip",
         "legendgroup": "Restrained",
         "legendgrouptitle": {
          "text": "fit"
         },
         "line": {
          "color": "dodgerblue",
          "dash": "solid"
         },
         "mode": "lines",
         "showlegend": false,
         "type": "scatter",
         "unselected": {
          "marker": {
           "opacity": 0
          }
         },
         "x": [
          0.125,
          0.25,
          0.5,
          1,
          2,
          3,
          4,
          5,
          6,
          7,
          8,
          9,
          10,
          11,
          12,
          13,
          14,
          15,
          16,
          17,
          18,
          19,
          20,
          21,
          22,
          23,
          24,
          25,
          26,
          27,
          28,
          30
         ],
         "y": [
          4.250921993698773,
          4.258184426824038,
          4.272709293074569,
          4.301759025575629,
          4.359858490577751,
          4.4179579555798725,
          4.476057420581994,
          4.534156885584116,
          4.592256350586237,
          4.650355815588359,
          4.7084552805904805,
          4.766554745592602,
          4.8246542105947245,
          4.882753675596846,
          4.940853140598968,
          4.998952605601089,
          5.057052070603211,
          5.1151515356053325,
          5.173251000607454,
          5.231350465609576,
          5.289449930611697,
          5.347549395613819,
          5.4056488606159405,
          5.463748325618062,
          5.521847790620184,
          5.579947255622305,
          5.638046720624427,
          5.6961461856265485,
          5.75424565062867,
          5.812345115630793,
          5.870444580632913,
          5.986643510637157
         ]
        },
        {
         "hovertemplate": "<b>CR:</b> %{x}<br><b>Condition:</b> Stunned<br><b>Immune:</b> %{y:.0f}% %{text}<extra></extra>",
         "legendgroup": "Stunned",
         "line": {
          "color": "brown",
          "dash": "solid",
          "shape": "spline"
         },
         "mode": "markers",
         "name": "Stunned",
         "showlegend": true,
         "text": [
          "(0 out of 45)",
          "(3 out of 80)",
          "(1 out of 85)",
          "(2 out of 89)",
          "(6 out of 142)",
          "(3 out of 107)",
          "(1 out of 80)",
          "(1 out of 99)",
          "(3 out of 53)",
          "(1 out of 52)",
          "(0 out of 62)",
          "(1 out of 33)",
          "(1 out of 24)",
          "(1 out of 29)",
          "(0 out of 14)",
          "(0 out of 24)",
          "(0 out of 17)",
          "(0 out of 17)",
          "(1 out of 18)",
          "(0 out of 14)",
          "(4 out of 11)",
          "(0 out of 7)",
          "(1 out of 8)",
          "(0 out of 11)",
          "(1 out of 14)",
          "(3 out of 17)",
          "(0 out of 10)",
          "(1 out of 7)",
          "(0 out of 5)",
          "(0 out of 1)",
          "(1 out of 3)",
          "(3 out of 4)"
         ],
         "type": "scatter",
         "unselected": {
          "marker": {
           "opacity": 0
          }
         },
         "x": [
          0.125,
          0.25,
          0.5,
          1,
          2,
          3,
          4,
          5,
          6,
          7,
          8,
          9,
          10,
          11,
          12,
          13,
          14,
          15,
          16,
          17,
          18,
          19,
          20,
          21,
          22,
          23,
          24,
          25,
          26,
          27,
          28,
          30
         ],
         "y": [
          0,
          3.75,
          1.1764705882352942,
          2.247191011235955,
          4.225352112676056,
          2.803738317757009,
          1.25,
          1.0101010101010102,
          5.660377358490567,
          1.9230769230769231,
          0,
          3.0303030303030303,
          4.166666666666666,
          3.4482758620689653,
          0,
          0,
          0,
          0,
          5.555555555555555,
          0,
          36.36363636363637,
          0,
          12.5,
          0,
          7.142857142857142,
          17.647058823529413,
          0,
          14.285714285714285,
          0,
          0,
          33.33333333333333,
          75
         ]
        },
        {
         "hoverinfo": "skip",
         "legendgroup": "Stunned",
         "legendgrouptitle": {
          "text": "fit"
         },
         "line": {
          "color": "brown",
          "dash": "solid"
         },
         "mode": "lines",
         "showlegend": false,
         "type": "scatter",
         "unselected": {
          "marker": {
           "opacity": 0
          }
         },
         "x": [
          0.125,
          0.25,
          0.5,
          1,
          2,
          3,
          4,
          5,
          6,
          7,
          8,
          9,
          10,
          11,
          12,
          13,
          14,
          15,
          16,
          17,
          18,
          19,
          20,
          21,
          22,
          23,
          24,
          25,
          26,
          27,
          28,
          30
         ],
         "y": [
          -3.088099319804609,
          -2.9912645272493146,
          -2.7975949421387254,
          -2.410255771917547,
          -1.6355774314751905,
          -0.860899091032834,
          -0.08622075059047729,
          0.6884575898518794,
          1.4631359302942357,
          2.2378142707365924,
          3.012492611178949,
          3.787170951621306,
          4.561849292063663,
          5.3365276325060185,
          6.111205972948375,
          6.885884313390732,
          7.660562653833089,
          8.435240994275446,
          9.209919334717803,
          9.98459767516016,
          10.759276015602516,
          11.533954356044873,
          12.30863269648723,
          13.083311036929583,
          13.85798937737194,
          14.632667717814297,
          15.407346058256653,
          16.18202439869901,
          16.956702739141367,
          17.731381079583723,
          18.50605942002608,
          20.055416100910794
         ]
        },
        {
         "hovertemplate": "<b>CR:</b> %{x}<br><b>Condition:</b> Unconscious<br><b>Immune:</b> %{y:.0f}% %{text}<extra></extra>",
         "legendgroup": "Unconscious",
         "line": {
          "color": "darkgreen",
          "dash": "solid",
          "shape": "spline"
         },
         "mode": "markers",
         "name": "Unconscious",
         "showlegend": true,
         "text": [
          "(0 out of 45)",
          "(1 out of 80)",
          "(1 out of 85)",
          "(3 out of 89)",
          "(2 out of 142)",
          "(1 out of 107)",
          "(3 out of 80)",
          "(3 out of 99)",
          "(2 out of 53)",
          "(1 out of 52)",
          "(1 out of 62)",
          "(0 out of 33)",
          "(0 out of 24)",
          "(0 out of 29)",
          "(1 out of 14)",
          "(0 out of 24)",
          "(0 out of 17)",
          "(0 out of 17)",
          "(0 out of 18)",
          "(0 out of 14)",
          "(0 out of 11)",
          "(0 out of 7)",
          "(0 out of 8)",
          "(0 out of 11)",
          "(0 out of 14)",
          "(2 out of 17)",
          "(0 out of 10)",
          "(0 out of 7)",
          "(0 out of 5)",
          "(0 out of 1)",
          "(0 out of 3)",
          "(0 out of 4)"
         ],
         "type": "scatter",
         "unselected": {
          "marker": {
           "opacity": 0
          }
         },
         "x": [
          0.125,
          0.25,
          0.5,
          1,
          2,
          3,
          4,
          5,
          6,
          7,
          8,
          9,
          10,
          11,
          12,
          13,
          14,
          15,
          16,
          17,
          18,
          19,
          20,
          21,
          22,
          23,
          24,
          25,
          26,
          27,
          28,
          30
         ],
         "y": [
          0,
          1.25,
          1.1764705882352942,
          3.3707865168539324,
          1.4084507042253522,
          0.9345794392523363,
          3.75,
          3.0303030303030303,
          3.7735849056603774,
          1.9230769230769231,
          1.6129032258064515,
          0,
          0,
          0,
          7.142857142857142,
          0,
          0,
          0,
          0,
          0,
          0,
          0,
          0,
          0,
          0,
          11.76470588235294,
          0,
          0,
          0,
          0,
          0,
          0
         ]
        },
        {
         "hoverinfo": "skip",
         "legendgroup": "Unconscious",
         "legendgrouptitle": {
          "text": "fit"
         },
         "line": {
          "color": "darkgreen",
          "dash": "solid"
         },
         "mode": "lines",
         "showlegend": false,
         "type": "scatter",
         "unselected": {
          "marker": {
           "opacity": 0
          }
         },
         "x": [
          0.125,
          0.25,
          0.5,
          1,
          2,
          3,
          4,
          5,
          6,
          7,
          8,
          9,
          10,
          11,
          12,
          13,
          14,
          15,
          16,
          17,
          18,
          19,
          20,
          21,
          22,
          23,
          24,
          25,
          26,
          27,
          28,
          30
         ],
         "y": [
          1.8791005465365151,
          1.8736158514367334,
          1.8626464612371696,
          1.8407076808380418,
          1.7968301200397867,
          1.7529525592415314,
          1.7090749984432763,
          1.665197437645021,
          1.6213198768467658,
          1.5774423160485105,
          1.5335647552502554,
          1.489687194452,
          1.445809633653745,
          1.4019320728554896,
          1.3580545120572345,
          1.3141769512589792,
          1.2702993904607238,
          1.2264218296624687,
          1.1825442688642136,
          1.1386667080659583,
          1.094789147267703,
          1.0509115864694478,
          1.0070340256711927,
          0.9631564648729374,
          0.9192789040746822,
          0.8754013432764269,
          0.8315237824781716,
          0.7876462216799165,
          0.7437686608816612,
          0.699891100083406,
          0.6560135392851507,
          0.5682584176886403
         ]
        }
       ],
       "layout": {
        "legend": {
         "orientation": "v",
         "tracegroupgap": 0,
         "x": 0.01,
         "xanchor": "left",
         "y": 0.99,
         "yanchor": "top"
        },
        "template": {
         "data": {
          "bar": [
           {
            "error_x": {
             "color": "#2a3f5f"
            },
            "error_y": {
             "color": "#2a3f5f"
            },
            "marker": {
             "line": {
              "color": "#E5ECF6",
              "width": 0.5
             },
             "pattern": {
              "fillmode": "overlay",
              "size": 10,
              "solidity": 0.2
             }
            },
            "type": "bar"
           }
          ],
          "barpolar": [
           {
            "marker": {
             "line": {
              "color": "#E5ECF6",
              "width": 0.5
             },
             "pattern": {
              "fillmode": "overlay",
              "size": 10,
              "solidity": 0.2
             }
            },
            "type": "barpolar"
           }
          ],
          "carpet": [
           {
            "aaxis": {
             "endlinecolor": "#2a3f5f",
             "gridcolor": "white",
             "linecolor": "white",
             "minorgridcolor": "white",
             "startlinecolor": "#2a3f5f"
            },
            "baxis": {
             "endlinecolor": "#2a3f5f",
             "gridcolor": "white",
             "linecolor": "white",
             "minorgridcolor": "white",
             "startlinecolor": "#2a3f5f"
            },
            "type": "carpet"
           }
          ],
          "choropleth": [
           {
            "colorbar": {
             "outlinewidth": 0,
             "ticks": ""
            },
            "type": "choropleth"
           }
          ],
          "contour": [
           {
            "colorbar": {
             "outlinewidth": 0,
             "ticks": ""
            },
            "colorscale": [
             [
              0,
              "#0d0887"
             ],
             [
              0.1111111111111111,
              "#46039f"
             ],
             [
              0.2222222222222222,
              "#7201a8"
             ],
             [
              0.3333333333333333,
              "#9c179e"
             ],
             [
              0.4444444444444444,
              "#bd3786"
             ],
             [
              0.5555555555555556,
              "#d8576b"
             ],
             [
              0.6666666666666666,
              "#ed7953"
             ],
             [
              0.7777777777777778,
              "#fb9f3a"
             ],
             [
              0.8888888888888888,
              "#fdca26"
             ],
             [
              1,
              "#f0f921"
             ]
            ],
            "type": "contour"
           }
          ],
          "contourcarpet": [
           {
            "colorbar": {
             "outlinewidth": 0,
             "ticks": ""
            },
            "type": "contourcarpet"
           }
          ],
          "heatmap": [
           {
            "colorbar": {
             "outlinewidth": 0,
             "ticks": ""
            },
            "colorscale": [
             [
              0,
              "#0d0887"
             ],
             [
              0.1111111111111111,
              "#46039f"
             ],
             [
              0.2222222222222222,
              "#7201a8"
             ],
             [
              0.3333333333333333,
              "#9c179e"
             ],
             [
              0.4444444444444444,
              "#bd3786"
             ],
             [
              0.5555555555555556,
              "#d8576b"
             ],
             [
              0.6666666666666666,
              "#ed7953"
             ],
             [
              0.7777777777777778,
              "#fb9f3a"
             ],
             [
              0.8888888888888888,
              "#fdca26"
             ],
             [
              1,
              "#f0f921"
             ]
            ],
            "type": "heatmap"
           }
          ],
          "heatmapgl": [
           {
            "colorbar": {
             "outlinewidth": 0,
             "ticks": ""
            },
            "colorscale": [
             [
              0,
              "#0d0887"
             ],
             [
              0.1111111111111111,
              "#46039f"
             ],
             [
              0.2222222222222222,
              "#7201a8"
             ],
             [
              0.3333333333333333,
              "#9c179e"
             ],
             [
              0.4444444444444444,
              "#bd3786"
             ],
             [
              0.5555555555555556,
              "#d8576b"
             ],
             [
              0.6666666666666666,
              "#ed7953"
             ],
             [
              0.7777777777777778,
              "#fb9f3a"
             ],
             [
              0.8888888888888888,
              "#fdca26"
             ],
             [
              1,
              "#f0f921"
             ]
            ],
            "type": "heatmapgl"
           }
          ],
          "histogram": [
           {
            "marker": {
             "pattern": {
              "fillmode": "overlay",
              "size": 10,
              "solidity": 0.2
             }
            },
            "type": "histogram"
           }
          ],
          "histogram2d": [
           {
            "colorbar": {
             "outlinewidth": 0,
             "ticks": ""
            },
            "colorscale": [
             [
              0,
              "#0d0887"
             ],
             [
              0.1111111111111111,
              "#46039f"
             ],
             [
              0.2222222222222222,
              "#7201a8"
             ],
             [
              0.3333333333333333,
              "#9c179e"
             ],
             [
              0.4444444444444444,
              "#bd3786"
             ],
             [
              0.5555555555555556,
              "#d8576b"
             ],
             [
              0.6666666666666666,
              "#ed7953"
             ],
             [
              0.7777777777777778,
              "#fb9f3a"
             ],
             [
              0.8888888888888888,
              "#fdca26"
             ],
             [
              1,
              "#f0f921"
             ]
            ],
            "type": "histogram2d"
           }
          ],
          "histogram2dcontour": [
           {
            "colorbar": {
             "outlinewidth": 0,
             "ticks": ""
            },
            "colorscale": [
             [
              0,
              "#0d0887"
             ],
             [
              0.1111111111111111,
              "#46039f"
             ],
             [
              0.2222222222222222,
              "#7201a8"
             ],
             [
              0.3333333333333333,
              "#9c179e"
             ],
             [
              0.4444444444444444,
              "#bd3786"
             ],
             [
              0.5555555555555556,
              "#d8576b"
             ],
             [
              0.6666666666666666,
              "#ed7953"
             ],
             [
              0.7777777777777778,
              "#fb9f3a"
             ],
             [
              0.8888888888888888,
              "#fdca26"
             ],
             [
              1,
              "#f0f921"
             ]
            ],
            "type": "histogram2dcontour"
           }
          ],
          "mesh3d": [
           {
            "colorbar": {
             "outlinewidth": 0,
             "ticks": ""
            },
            "type": "mesh3d"
           }
          ],
          "parcoords": [
           {
            "line": {
             "colorbar": {
              "outlinewidth": 0,
              "ticks": ""
             }
            },
            "type": "parcoords"
           }
          ],
          "pie": [
           {
            "automargin": true,
            "type": "pie"
           }
          ],
          "scatter": [
           {
            "fillpattern": {
             "fillmode": "overlay",
             "size": 10,
             "solidity": 0.2
            },
            "type": "scatter"
           }
          ],
          "scatter3d": [
           {
            "line": {
             "colorbar": {
              "outlinewidth": 0,
              "ticks": ""
             }
            },
            "marker": {
             "colorbar": {
              "outlinewidth": 0,
              "ticks": ""
             }
            },
            "type": "scatter3d"
           }
          ],
          "scattercarpet": [
           {
            "marker": {
             "colorbar": {
              "outlinewidth": 0,
              "ticks": ""
             }
            },
            "type": "scattercarpet"
           }
          ],
          "scattergeo": [
           {
            "marker": {
             "colorbar": {
              "outlinewidth": 0,
              "ticks": ""
             }
            },
            "type": "scattergeo"
           }
          ],
          "scattergl": [
           {
            "marker": {
             "colorbar": {
              "outlinewidth": 0,
              "ticks": ""
             }
            },
            "type": "scattergl"
           }
          ],
          "scattermapbox": [
           {
            "marker": {
             "colorbar": {
              "outlinewidth": 0,
              "ticks": ""
             }
            },
            "type": "scattermapbox"
           }
          ],
          "scatterpolar": [
           {
            "marker": {
             "colorbar": {
              "outlinewidth": 0,
              "ticks": ""
             }
            },
            "type": "scatterpolar"
           }
          ],
          "scatterpolargl": [
           {
            "marker": {
             "colorbar": {
              "outlinewidth": 0,
              "ticks": ""
             }
            },
            "type": "scatterpolargl"
           }
          ],
          "scatterternary": [
           {
            "marker": {
             "colorbar": {
              "outlinewidth": 0,
              "ticks": ""
             }
            },
            "type": "scatterternary"
           }
          ],
          "surface": [
           {
            "colorbar": {
             "outlinewidth": 0,
             "ticks": ""
            },
            "colorscale": [
             [
              0,
              "#0d0887"
             ],
             [
              0.1111111111111111,
              "#46039f"
             ],
             [
              0.2222222222222222,
              "#7201a8"
             ],
             [
              0.3333333333333333,
              "#9c179e"
             ],
             [
              0.4444444444444444,
              "#bd3786"
             ],
             [
              0.5555555555555556,
              "#d8576b"
             ],
             [
              0.6666666666666666,
              "#ed7953"
             ],
             [
              0.7777777777777778,
              "#fb9f3a"
             ],
             [
              0.8888888888888888,
              "#fdca26"
             ],
             [
              1,
              "#f0f921"
             ]
            ],
            "type": "surface"
           }
          ],
          "table": [
           {
            "cells": {
             "fill": {
              "color": "#EBF0F8"
             },
             "line": {
              "color": "white"
             }
            },
            "header": {
             "fill": {
              "color": "#C8D4E3"
             },
             "line": {
              "color": "white"
             }
            },
            "type": "table"
           }
          ]
         },
         "layout": {
          "autosize": true,
          "font": {
           "family": "sans-serif",
           "size": 14
          },
          "hovermode": "closest",
          "legend": {
           "font": {
            "size": 10
           }
          },
          "margin": {
           "b": 40,
           "l": 50,
           "pad": 4,
           "r": 25,
           "t": 20
          },
          "template": {
           "data": {
            "bar": [
             {
              "error_x": {
               "color": "#2a3f5f"
              },
              "error_y": {
               "color": "#2a3f5f"
              },
              "marker": {
               "line": {
                "color": "white",
                "width": 0.5
               },
               "pattern": {
                "fillmode": "overlay",
                "size": 10,
                "solidity": 0.2
               }
              },
              "type": "bar"
             }
            ],
            "barpolar": [
             {
              "marker": {
               "line": {
                "color": "white",
                "width": 0.5
               },
               "pattern": {
                "fillmode": "overlay",
                "size": 10,
                "solidity": 0.2
               }
              },
              "type": "barpolar"
             }
            ],
            "carpet": [
             {
              "aaxis": {
               "endlinecolor": "#2a3f5f",
               "gridcolor": "#C8D4E3",
               "linecolor": "#C8D4E3",
               "minorgridcolor": "#C8D4E3",
               "startlinecolor": "#2a3f5f"
              },
              "baxis": {
               "endlinecolor": "#2a3f5f",
               "gridcolor": "#C8D4E3",
               "linecolor": "#C8D4E3",
               "minorgridcolor": "#C8D4E3",
               "startlinecolor": "#2a3f5f"
              },
              "type": "carpet"
             }
            ],
            "choropleth": [
             {
              "colorbar": {
               "outlinewidth": 0,
               "ticks": ""
              },
              "type": "choropleth"
             }
            ],
            "contour": [
             {
              "colorbar": {
               "outlinewidth": 0,
               "ticks": ""
              },
              "colorscale": [
               [
                0,
                "#0d0887"
               ],
               [
                0.1111111111111111,
                "#46039f"
               ],
               [
                0.2222222222222222,
                "#7201a8"
               ],
               [
                0.3333333333333333,
                "#9c179e"
               ],
               [
                0.4444444444444444,
                "#bd3786"
               ],
               [
                0.5555555555555556,
                "#d8576b"
               ],
               [
                0.6666666666666666,
                "#ed7953"
               ],
               [
                0.7777777777777778,
                "#fb9f3a"
               ],
               [
                0.8888888888888888,
                "#fdca26"
               ],
               [
                1,
                "#f0f921"
               ]
              ],
              "type": "contour"
             }
            ],
            "contourcarpet": [
             {
              "colorbar": {
               "outlinewidth": 0,
               "ticks": ""
              },
              "type": "contourcarpet"
             }
            ],
            "heatmap": [
             {
              "colorbar": {
               "outlinewidth": 0,
               "ticks": ""
              },
              "colorscale": [
               [
                0,
                "#0d0887"
               ],
               [
                0.1111111111111111,
                "#46039f"
               ],
               [
                0.2222222222222222,
                "#7201a8"
               ],
               [
                0.3333333333333333,
                "#9c179e"
               ],
               [
                0.4444444444444444,
                "#bd3786"
               ],
               [
                0.5555555555555556,
                "#d8576b"
               ],
               [
                0.6666666666666666,
                "#ed7953"
               ],
               [
                0.7777777777777778,
                "#fb9f3a"
               ],
               [
                0.8888888888888888,
                "#fdca26"
               ],
               [
                1,
                "#f0f921"
               ]
              ],
              "type": "heatmap"
             }
            ],
            "heatmapgl": [
             {
              "colorbar": {
               "outlinewidth": 0,
               "ticks": ""
              },
              "colorscale": [
               [
                0,
                "#0d0887"
               ],
               [
                0.1111111111111111,
                "#46039f"
               ],
               [
                0.2222222222222222,
                "#7201a8"
               ],
               [
                0.3333333333333333,
                "#9c179e"
               ],
               [
                0.4444444444444444,
                "#bd3786"
               ],
               [
                0.5555555555555556,
                "#d8576b"
               ],
               [
                0.6666666666666666,
                "#ed7953"
               ],
               [
                0.7777777777777778,
                "#fb9f3a"
               ],
               [
                0.8888888888888888,
                "#fdca26"
               ],
               [
                1,
                "#f0f921"
               ]
              ],
              "type": "heatmapgl"
             }
            ],
            "histogram": [
             {
              "marker": {
               "pattern": {
                "fillmode": "overlay",
                "size": 10,
                "solidity": 0.2
               }
              },
              "type": "histogram"
             }
            ],
            "histogram2d": [
             {
              "colorbar": {
               "outlinewidth": 0,
               "ticks": ""
              },
              "colorscale": [
               [
                0,
                "#0d0887"
               ],
               [
                0.1111111111111111,
                "#46039f"
               ],
               [
                0.2222222222222222,
                "#7201a8"
               ],
               [
                0.3333333333333333,
                "#9c179e"
               ],
               [
                0.4444444444444444,
                "#bd3786"
               ],
               [
                0.5555555555555556,
                "#d8576b"
               ],
               [
                0.6666666666666666,
                "#ed7953"
               ],
               [
                0.7777777777777778,
                "#fb9f3a"
               ],
               [
                0.8888888888888888,
                "#fdca26"
               ],
               [
                1,
                "#f0f921"
               ]
              ],
              "type": "histogram2d"
             }
            ],
            "histogram2dcontour": [
             {
              "colorbar": {
               "outlinewidth": 0,
               "ticks": ""
              },
              "colorscale": [
               [
                0,
                "#0d0887"
               ],
               [
                0.1111111111111111,
                "#46039f"
               ],
               [
                0.2222222222222222,
                "#7201a8"
               ],
               [
                0.3333333333333333,
                "#9c179e"
               ],
               [
                0.4444444444444444,
                "#bd3786"
               ],
               [
                0.5555555555555556,
                "#d8576b"
               ],
               [
                0.6666666666666666,
                "#ed7953"
               ],
               [
                0.7777777777777778,
                "#fb9f3a"
               ],
               [
                0.8888888888888888,
                "#fdca26"
               ],
               [
                1,
                "#f0f921"
               ]
              ],
              "type": "histogram2dcontour"
             }
            ],
            "mesh3d": [
             {
              "colorbar": {
               "outlinewidth": 0,
               "ticks": ""
              },
              "type": "mesh3d"
             }
            ],
            "parcoords": [
             {
              "line": {
               "colorbar": {
                "outlinewidth": 0,
                "ticks": ""
               }
              },
              "type": "parcoords"
             }
            ],
            "pie": [
             {
              "automargin": true,
              "type": "pie"
             }
            ],
            "scatter": [
             {
              "fillpattern": {
               "fillmode": "overlay",
               "size": 10,
               "solidity": 0.2
              },
              "type": "scatter"
             }
            ],
            "scatter3d": [
             {
              "line": {
               "colorbar": {
                "outlinewidth": 0,
                "ticks": ""
               }
              },
              "marker": {
               "colorbar": {
                "outlinewidth": 0,
                "ticks": ""
               }
              },
              "type": "scatter3d"
             }
            ],
            "scattercarpet": [
             {
              "marker": {
               "colorbar": {
                "outlinewidth": 0,
                "ticks": ""
               }
              },
              "type": "scattercarpet"
             }
            ],
            "scattergeo": [
             {
              "marker": {
               "colorbar": {
                "outlinewidth": 0,
                "ticks": ""
               }
              },
              "type": "scattergeo"
             }
            ],
            "scattergl": [
             {
              "marker": {
               "colorbar": {
                "outlinewidth": 0,
                "ticks": ""
               }
              },
              "type": "scattergl"
             }
            ],
            "scattermapbox": [
             {
              "marker": {
               "colorbar": {
                "outlinewidth": 0,
                "ticks": ""
               }
              },
              "type": "scattermapbox"
             }
            ],
            "scatterpolar": [
             {
              "marker": {
               "colorbar": {
                "outlinewidth": 0,
                "ticks": ""
               }
              },
              "type": "scatterpolar"
             }
            ],
            "scatterpolargl": [
             {
              "marker": {
               "colorbar": {
                "outlinewidth": 0,
                "ticks": ""
               }
              },
              "type": "scatterpolargl"
             }
            ],
            "scatterternary": [
             {
              "marker": {
               "colorbar": {
                "outlinewidth": 0,
                "ticks": ""
               }
              },
              "type": "scatterternary"
             }
            ],
            "surface": [
             {
              "colorbar": {
               "outlinewidth": 0,
               "ticks": ""
              },
              "colorscale": [
               [
                0,
                "#0d0887"
               ],
               [
                0.1111111111111111,
                "#46039f"
               ],
               [
                0.2222222222222222,
                "#7201a8"
               ],
               [
                0.3333333333333333,
                "#9c179e"
               ],
               [
                0.4444444444444444,
                "#bd3786"
               ],
               [
                0.5555555555555556,
                "#d8576b"
               ],
               [
                0.6666666666666666,
                "#ed7953"
               ],
               [
                0.7777777777777778,
                "#fb9f3a"
               ],
               [
                0.8888888888888888,
                "#fdca26"
               ],
               [
                1,
                "#f0f921"
               ]
              ],
              "type": "surface"
             }
            ],
            "table": [
             {
              "cells": {
               "fill": {
                "color": "#EBF0F8"
               },
               "line": {
                "color": "white"
               }
              },
              "header": {
               "fill": {
                "color": "#C8D4E3"
               },
               "line": {
                "color": "white"
               }
              },
              "type": "table"
             }
            ]
           },
           "layout": {
            "annotationdefaults": {
             "arrowcolor": "#2a3f5f",
             "arrowhead": 0,
             "arrowwidth": 1
            },
            "autotypenumbers": "strict",
            "coloraxis": {
             "colorbar": {
              "outlinewidth": 0,
              "ticks": ""
             }
            },
            "colorscale": {
             "diverging": [
              [
               0,
               "#8e0152"
              ],
              [
               0.1,
               "#c51b7d"
              ],
              [
               0.2,
               "#de77ae"
              ],
              [
               0.3,
               "#f1b6da"
              ],
              [
               0.4,
               "#fde0ef"
              ],
              [
               0.5,
               "#f7f7f7"
              ],
              [
               0.6,
               "#e6f5d0"
              ],
              [
               0.7,
               "#b8e186"
              ],
              [
               0.8,
               "#7fbc41"
              ],
              [
               0.9,
               "#4d9221"
              ],
              [
               1,
               "#276419"
              ]
             ],
             "sequential": [
              [
               0,
               "#0d0887"
              ],
              [
               0.1111111111111111,
               "#46039f"
              ],
              [
               0.2222222222222222,
               "#7201a8"
              ],
              [
               0.3333333333333333,
               "#9c179e"
              ],
              [
               0.4444444444444444,
               "#bd3786"
              ],
              [
               0.5555555555555556,
               "#d8576b"
              ],
              [
               0.6666666666666666,
               "#ed7953"
              ],
              [
               0.7777777777777778,
               "#fb9f3a"
              ],
              [
               0.8888888888888888,
               "#fdca26"
              ],
              [
               1,
               "#f0f921"
              ]
             ],
             "sequentialminus": [
              [
               0,
               "#0d0887"
              ],
              [
               0.1111111111111111,
               "#46039f"
              ],
              [
               0.2222222222222222,
               "#7201a8"
              ],
              [
               0.3333333333333333,
               "#9c179e"
              ],
              [
               0.4444444444444444,
               "#bd3786"
              ],
              [
               0.5555555555555556,
               "#d8576b"
              ],
              [
               0.6666666666666666,
               "#ed7953"
              ],
              [
               0.7777777777777778,
               "#fb9f3a"
              ],
              [
               0.8888888888888888,
               "#fdca26"
              ],
              [
               1,
               "#f0f921"
              ]
             ]
            },
            "colorway": [
             "#636efa",
             "#EF553B",
             "#00cc96",
             "#ab63fa",
             "#FFA15A",
             "#19d3f3",
             "#FF6692",
             "#B6E880",
             "#FF97FF",
             "#FECB52"
            ],
            "font": {
             "color": "#2a3f5f"
            },
            "geo": {
             "bgcolor": "white",
             "lakecolor": "white",
             "landcolor": "white",
             "showlakes": true,
             "showland": true,
             "subunitcolor": "#C8D4E3"
            },
            "hoverlabel": {
             "align": "left"
            },
            "hovermode": "closest",
            "mapbox": {
             "style": "light"
            },
            "paper_bgcolor": "white",
            "plot_bgcolor": "white",
            "polar": {
             "angularaxis": {
              "gridcolor": "#EBF0F8",
              "linecolor": "#EBF0F8",
              "ticks": ""
             },
             "bgcolor": "white",
             "radialaxis": {
              "gridcolor": "#EBF0F8",
              "linecolor": "#EBF0F8",
              "ticks": ""
             }
            },
            "scene": {
             "xaxis": {
              "backgroundcolor": "white",
              "gridcolor": "#DFE8F3",
              "gridwidth": 2,
              "linecolor": "#EBF0F8",
              "showbackground": true,
              "ticks": "",
              "zerolinecolor": "#EBF0F8"
             },
             "yaxis": {
              "backgroundcolor": "white",
              "gridcolor": "#DFE8F3",
              "gridwidth": 2,
              "linecolor": "#EBF0F8",
              "showbackground": true,
              "ticks": "",
              "zerolinecolor": "#EBF0F8"
             },
             "zaxis": {
              "backgroundcolor": "white",
              "gridcolor": "#DFE8F3",
              "gridwidth": 2,
              "linecolor": "#EBF0F8",
              "showbackground": true,
              "ticks": "",
              "zerolinecolor": "#EBF0F8"
             }
            },
            "shapedefaults": {
             "line": {
              "color": "#2a3f5f"
             }
            },
            "ternary": {
             "aaxis": {
              "gridcolor": "#DFE8F3",
              "linecolor": "#A2B1C6",
              "ticks": ""
             },
             "baxis": {
              "gridcolor": "#DFE8F3",
              "linecolor": "#A2B1C6",
              "ticks": ""
             },
             "bgcolor": "white",
             "caxis": {
              "gridcolor": "#DFE8F3",
              "linecolor": "#A2B1C6",
              "ticks": ""
             }
            },
            "title": {
             "x": 0.05
            },
            "xaxis": {
             "automargin": true,
             "gridcolor": "#EBF0F8",
             "linecolor": "#EBF0F8",
             "ticks": "",
             "title": {
              "standoff": 15
             },
             "zerolinecolor": "#EBF0F8",
             "zerolinewidth": 2
            },
            "yaxis": {
             "automargin": true,
             "gridcolor": "#EBF0F8",
             "linecolor": "#EBF0F8",
             "ticks": "",
             "title": {
              "standoff": 15
             },
             "zerolinecolor": "#EBF0F8",
             "zerolinewidth": 2
            }
           }
          },
          "xaxis": {
           "automargin": true,
           "autorange": false,
           "fixedrange": true,
           "linecolor": "#444",
           "linewidth": 2,
           "minor": {
            "tickmode": "linear",
            "ticks": "outside"
           },
           "mirror": true,
           "showline": true,
           "tickmode": "linear",
           "ticks": "outside",
           "zeroline": false
          },
          "yaxis": {
           "automargin": true,
           "autorange": false,
           "fixedrange": true,
           "linecolor": "#444",
           "linewidth": 2,
           "minor": {
            "tickmode": "linear",
            "ticks": "outside"
           },
           "mirror": true,
           "showline": true,
           "tickmode": "linear",
           "ticks": "outside",
           "zeroline": false
          }
         }
        },
        "xaxis": {
         "dtick": 5,
         "minor": {
          "dtick": 1,
          "tick0": 0
         },
         "range": [
          0,
          30.2
         ],
         "tick0": 0,
         "title": {
          "text": "challenge rating"
         }
        },
        "yaxis": {
         "dtick": 20,
         "minor": {
          "dtick": 10,
          "tick0": 0
         },
         "range": [
          -5,
          115
         ],
         "tick0": 0,
         "title": {
          "text": "percent immune"
         }
        }
       }
      }
     },
     "metadata": {},
     "output_type": "display_data"
    }
   ],
   "source": [
    "# Plots the percent of monsters immune to each condition as a function of their CR.\n",
    "df1 = df0[df0['Category'].isin(['generic','legendary','unique']) & df0['CR'].between(1/8, 30)]\n",
    "dfG = df1.groupby('CR').mean().reset_index()\n",
    "\n",
    "conditions = CONDITIONS.copy()\n",
    "colors = CONDITION_COLORS.copy()\n",
    "i = conditions.index('Invisible')\n",
    "conditions.pop(i); colors.pop(i)\n",
    "i = conditions.index('Incapacitated')\n",
    "conditions.pop(i); colors.pop(i)\n",
    "\n",
    "fig = go.Figure()\n",
    "\n",
    "for condition, color in zip(conditions, colors):\n",
    "    # generate custom text\n",
    "    cr_totals = df1.groupby('CR').count()['Book'].to_list()\n",
    "    condition_totals = [int(x) for x in df1.groupby('CR').sum()[condition].to_list()]\n",
    "    custom_text = [f'({i} out of {t})' for i, t in zip(condition_totals, cr_totals)]\n",
    "\n",
    "    # plot data\n",
    "    fig.add_trace(go.Scatter(\n",
    "        x=dfG['CR'],\n",
    "        y=100*dfG[condition],\n",
    "        mode='markers', \n",
    "        line=dict(color=color, dash='solid'),\n",
    "        line_shape='spline',\n",
    "        unselected=dict(marker=dict(opacity=0.0)),\n",
    "        showlegend=True,\n",
    "        name=condition,\n",
    "        legendgroup=condition,\n",
    "        text=custom_text,\n",
    "        hovertemplate=\n",
    "            '<b>CR:</b> %{x}<br>'+\n",
    "            '<b>Condition:</b> ' + condition + '<br>'+\n",
    "            '<b>Immune:</b> %{y:.0f}% %{text}'+\n",
    "            '<extra></extra>'\n",
    "    ))\n",
    "\n",
    "    # add fit line\n",
    "    coefs = np.polyfit(dfG['CR'], 100*dfG[condition], 1)\n",
    "    poly = np.poly1d(coefs)\n",
    "    fig.add_trace(go.Scatter(\n",
    "        x=dfG['CR'],\n",
    "        y=poly(dfG['CR']),\n",
    "        mode='lines', \n",
    "        line=dict(color=color, dash='solid'),\n",
    "        unselected=dict(marker=dict(opacity=0.0)),\n",
    "        showlegend=False,\n",
    "        legendgroup=condition,\n",
    "        legendgrouptitle_text='fit',\n",
    "        hoverinfo='skip',\n",
    "    ))\n",
    "\n",
    "fig.update_layout(\n",
    "    template=TFB_TEMPLATE,\n",
    "    xaxis=dict(\n",
    "        title_text='challenge rating',\n",
    "        range=[0.0, 30.2],\n",
    "        tick0=0, dtick=5,\n",
    "        minor=dict(tick0=0, dtick=1),\n",
    "    ),\n",
    "    yaxis=dict(\n",
    "        title_text='percent immune',\n",
    "        range=[-5, 115],\n",
    "        tick0=0, dtick=20,\n",
    "        minor=dict(tick0=0, dtick=10),\n",
    "    ),\n",
    "    legend=dict(\n",
    "        yanchor='top',  y=0.99,\n",
    "        xanchor='left', x=0.01,\n",
    "        orientation='v',\n",
    "        tracegroupgap=0,\n",
    "    )\n",
    ")\n",
    "\n",
    "fig.show(config=TFB_CONFIG)\n",
    "if SAVEFIGS:\n",
    "    file_name = f'./fig-condition-immunity-prob-vs-cr.html'\n",
    "    fig.write_html(\n",
    "        file_name, \n",
    "        include_plotlyjs=False, \n",
    "        full_html=False, \n",
    "        config=TFB_CONFIG\n",
    "    )\n",
    "    # add style to figure\n",
    "    with open(file_name, 'r') as fin:\n",
    "        fig_soup = BeautifulSoup(fin, 'html.parser')\n",
    "\n",
    "    fig_soup.div['style'] = 'width:700px; min-width:50%; max-width:100%'\n",
    "    with open(file_name, 'wb') as fout:\n",
    "        fout.write(fig_soup.prettify('utf-8'))"
   ]
  },
  {
   "cell_type": "code",
   "execution_count": 412,
   "metadata": {},
   "outputs": [
    {
     "data": {
      "application/vnd.plotly.v1+json": {
       "config": {
        "autosizable": true,
        "displayModeBar": "hover",
        "displaylogo": false,
        "modeBarButtonsToRemove": [
         "select2d",
         "lasso2d",
         "zoom2d",
         "zoomIn2d",
         "zoomOut2d",
         "pan2d",
         "autoScale2d",
         "hoverClosestCartesian",
         "hoverCompareCartesian",
         "toggleSpikelines",
         "resetScale2d"
        ],
        "plotlyServerURL": "https://plot.ly",
        "responsive": true,
        "showAxisDragHandles": false,
        "toImageButtonOptions": {
         "filename": "tfb-plot",
         "format": "png",
         "height": 450,
         "scale": 2,
         "width": 600
        }
       },
       "data": [
        {
         "hovertemplate": "CR %{x}<br>immunities %{y:.2f}<extra></extra>",
         "line": {
          "color": "black",
          "dash": "solid"
         },
         "mode": "lines+markers",
         "name": "All Conditions",
         "type": "scatter",
         "unselected": {
          "marker": {
           "opacity": 0
          }
         },
         "x": [
          0.125,
          0.25,
          0.5,
          1,
          2,
          3,
          4,
          5,
          6,
          7,
          8,
          9,
          10,
          11,
          12,
          13,
          14,
          15,
          16,
          17,
          18,
          19,
          20,
          21,
          22,
          23,
          24,
          25,
          26,
          27,
          28,
          30
         ],
         "y": [
          0.8666666666666667,
          1.1625,
          0.8941176470588236,
          1.6741573033707866,
          1.0352112676056338,
          0.9813084112149533,
          1.5625,
          1.393939393939394,
          1.7547169811320755,
          1.2692307692307692,
          1.3064516129032258,
          1.696969696969697,
          2.1666666666666665,
          1.8620689655172413,
          2.4285714285714284,
          1.375,
          1.8823529411764706,
          1.1764705882352942,
          2.5555555555555554,
          2.642857142857143,
          5.363636363636363,
          3.142857142857143,
          2.25,
          1.8181818181818181,
          3.142857142857143,
          3.8823529411764706,
          2.4,
          2.4285714285714284,
          3.4,
          3,
          5,
          5.25
         ]
        }
       ],
       "layout": {
        "legend": {
         "orientation": "v",
         "x": 0.01,
         "xanchor": "left",
         "y": 0.99,
         "yanchor": "top"
        },
        "template": {
         "data": {
          "bar": [
           {
            "error_x": {
             "color": "#2a3f5f"
            },
            "error_y": {
             "color": "#2a3f5f"
            },
            "marker": {
             "line": {
              "color": "#E5ECF6",
              "width": 0.5
             },
             "pattern": {
              "fillmode": "overlay",
              "size": 10,
              "solidity": 0.2
             }
            },
            "type": "bar"
           }
          ],
          "barpolar": [
           {
            "marker": {
             "line": {
              "color": "#E5ECF6",
              "width": 0.5
             },
             "pattern": {
              "fillmode": "overlay",
              "size": 10,
              "solidity": 0.2
             }
            },
            "type": "barpolar"
           }
          ],
          "carpet": [
           {
            "aaxis": {
             "endlinecolor": "#2a3f5f",
             "gridcolor": "white",
             "linecolor": "white",
             "minorgridcolor": "white",
             "startlinecolor": "#2a3f5f"
            },
            "baxis": {
             "endlinecolor": "#2a3f5f",
             "gridcolor": "white",
             "linecolor": "white",
             "minorgridcolor": "white",
             "startlinecolor": "#2a3f5f"
            },
            "type": "carpet"
           }
          ],
          "choropleth": [
           {
            "colorbar": {
             "outlinewidth": 0,
             "ticks": ""
            },
            "type": "choropleth"
           }
          ],
          "contour": [
           {
            "colorbar": {
             "outlinewidth": 0,
             "ticks": ""
            },
            "colorscale": [
             [
              0,
              "#0d0887"
             ],
             [
              0.1111111111111111,
              "#46039f"
             ],
             [
              0.2222222222222222,
              "#7201a8"
             ],
             [
              0.3333333333333333,
              "#9c179e"
             ],
             [
              0.4444444444444444,
              "#bd3786"
             ],
             [
              0.5555555555555556,
              "#d8576b"
             ],
             [
              0.6666666666666666,
              "#ed7953"
             ],
             [
              0.7777777777777778,
              "#fb9f3a"
             ],
             [
              0.8888888888888888,
              "#fdca26"
             ],
             [
              1,
              "#f0f921"
             ]
            ],
            "type": "contour"
           }
          ],
          "contourcarpet": [
           {
            "colorbar": {
             "outlinewidth": 0,
             "ticks": ""
            },
            "type": "contourcarpet"
           }
          ],
          "heatmap": [
           {
            "colorbar": {
             "outlinewidth": 0,
             "ticks": ""
            },
            "colorscale": [
             [
              0,
              "#0d0887"
             ],
             [
              0.1111111111111111,
              "#46039f"
             ],
             [
              0.2222222222222222,
              "#7201a8"
             ],
             [
              0.3333333333333333,
              "#9c179e"
             ],
             [
              0.4444444444444444,
              "#bd3786"
             ],
             [
              0.5555555555555556,
              "#d8576b"
             ],
             [
              0.6666666666666666,
              "#ed7953"
             ],
             [
              0.7777777777777778,
              "#fb9f3a"
             ],
             [
              0.8888888888888888,
              "#fdca26"
             ],
             [
              1,
              "#f0f921"
             ]
            ],
            "type": "heatmap"
           }
          ],
          "heatmapgl": [
           {
            "colorbar": {
             "outlinewidth": 0,
             "ticks": ""
            },
            "colorscale": [
             [
              0,
              "#0d0887"
             ],
             [
              0.1111111111111111,
              "#46039f"
             ],
             [
              0.2222222222222222,
              "#7201a8"
             ],
             [
              0.3333333333333333,
              "#9c179e"
             ],
             [
              0.4444444444444444,
              "#bd3786"
             ],
             [
              0.5555555555555556,
              "#d8576b"
             ],
             [
              0.6666666666666666,
              "#ed7953"
             ],
             [
              0.7777777777777778,
              "#fb9f3a"
             ],
             [
              0.8888888888888888,
              "#fdca26"
             ],
             [
              1,
              "#f0f921"
             ]
            ],
            "type": "heatmapgl"
           }
          ],
          "histogram": [
           {
            "marker": {
             "pattern": {
              "fillmode": "overlay",
              "size": 10,
              "solidity": 0.2
             }
            },
            "type": "histogram"
           }
          ],
          "histogram2d": [
           {
            "colorbar": {
             "outlinewidth": 0,
             "ticks": ""
            },
            "colorscale": [
             [
              0,
              "#0d0887"
             ],
             [
              0.1111111111111111,
              "#46039f"
             ],
             [
              0.2222222222222222,
              "#7201a8"
             ],
             [
              0.3333333333333333,
              "#9c179e"
             ],
             [
              0.4444444444444444,
              "#bd3786"
             ],
             [
              0.5555555555555556,
              "#d8576b"
             ],
             [
              0.6666666666666666,
              "#ed7953"
             ],
             [
              0.7777777777777778,
              "#fb9f3a"
             ],
             [
              0.8888888888888888,
              "#fdca26"
             ],
             [
              1,
              "#f0f921"
             ]
            ],
            "type": "histogram2d"
           }
          ],
          "histogram2dcontour": [
           {
            "colorbar": {
             "outlinewidth": 0,
             "ticks": ""
            },
            "colorscale": [
             [
              0,
              "#0d0887"
             ],
             [
              0.1111111111111111,
              "#46039f"
             ],
             [
              0.2222222222222222,
              "#7201a8"
             ],
             [
              0.3333333333333333,
              "#9c179e"
             ],
             [
              0.4444444444444444,
              "#bd3786"
             ],
             [
              0.5555555555555556,
              "#d8576b"
             ],
             [
              0.6666666666666666,
              "#ed7953"
             ],
             [
              0.7777777777777778,
              "#fb9f3a"
             ],
             [
              0.8888888888888888,
              "#fdca26"
             ],
             [
              1,
              "#f0f921"
             ]
            ],
            "type": "histogram2dcontour"
           }
          ],
          "mesh3d": [
           {
            "colorbar": {
             "outlinewidth": 0,
             "ticks": ""
            },
            "type": "mesh3d"
           }
          ],
          "parcoords": [
           {
            "line": {
             "colorbar": {
              "outlinewidth": 0,
              "ticks": ""
             }
            },
            "type": "parcoords"
           }
          ],
          "pie": [
           {
            "automargin": true,
            "type": "pie"
           }
          ],
          "scatter": [
           {
            "fillpattern": {
             "fillmode": "overlay",
             "size": 10,
             "solidity": 0.2
            },
            "type": "scatter"
           }
          ],
          "scatter3d": [
           {
            "line": {
             "colorbar": {
              "outlinewidth": 0,
              "ticks": ""
             }
            },
            "marker": {
             "colorbar": {
              "outlinewidth": 0,
              "ticks": ""
             }
            },
            "type": "scatter3d"
           }
          ],
          "scattercarpet": [
           {
            "marker": {
             "colorbar": {
              "outlinewidth": 0,
              "ticks": ""
             }
            },
            "type": "scattercarpet"
           }
          ],
          "scattergeo": [
           {
            "marker": {
             "colorbar": {
              "outlinewidth": 0,
              "ticks": ""
             }
            },
            "type": "scattergeo"
           }
          ],
          "scattergl": [
           {
            "marker": {
             "colorbar": {
              "outlinewidth": 0,
              "ticks": ""
             }
            },
            "type": "scattergl"
           }
          ],
          "scattermapbox": [
           {
            "marker": {
             "colorbar": {
              "outlinewidth": 0,
              "ticks": ""
             }
            },
            "type": "scattermapbox"
           }
          ],
          "scatterpolar": [
           {
            "marker": {
             "colorbar": {
              "outlinewidth": 0,
              "ticks": ""
             }
            },
            "type": "scatterpolar"
           }
          ],
          "scatterpolargl": [
           {
            "marker": {
             "colorbar": {
              "outlinewidth": 0,
              "ticks": ""
             }
            },
            "type": "scatterpolargl"
           }
          ],
          "scatterternary": [
           {
            "marker": {
             "colorbar": {
              "outlinewidth": 0,
              "ticks": ""
             }
            },
            "type": "scatterternary"
           }
          ],
          "surface": [
           {
            "colorbar": {
             "outlinewidth": 0,
             "ticks": ""
            },
            "colorscale": [
             [
              0,
              "#0d0887"
             ],
             [
              0.1111111111111111,
              "#46039f"
             ],
             [
              0.2222222222222222,
              "#7201a8"
             ],
             [
              0.3333333333333333,
              "#9c179e"
             ],
             [
              0.4444444444444444,
              "#bd3786"
             ],
             [
              0.5555555555555556,
              "#d8576b"
             ],
             [
              0.6666666666666666,
              "#ed7953"
             ],
             [
              0.7777777777777778,
              "#fb9f3a"
             ],
             [
              0.8888888888888888,
              "#fdca26"
             ],
             [
              1,
              "#f0f921"
             ]
            ],
            "type": "surface"
           }
          ],
          "table": [
           {
            "cells": {
             "fill": {
              "color": "#EBF0F8"
             },
             "line": {
              "color": "white"
             }
            },
            "header": {
             "fill": {
              "color": "#C8D4E3"
             },
             "line": {
              "color": "white"
             }
            },
            "type": "table"
           }
          ]
         },
         "layout": {
          "autosize": true,
          "font": {
           "family": "sans-serif",
           "size": 14
          },
          "hovermode": "closest",
          "legend": {
           "font": {
            "size": 10
           }
          },
          "margin": {
           "b": 40,
           "l": 50,
           "pad": 4,
           "r": 25,
           "t": 20
          },
          "template": {
           "data": {
            "bar": [
             {
              "error_x": {
               "color": "#2a3f5f"
              },
              "error_y": {
               "color": "#2a3f5f"
              },
              "marker": {
               "line": {
                "color": "white",
                "width": 0.5
               },
               "pattern": {
                "fillmode": "overlay",
                "size": 10,
                "solidity": 0.2
               }
              },
              "type": "bar"
             }
            ],
            "barpolar": [
             {
              "marker": {
               "line": {
                "color": "white",
                "width": 0.5
               },
               "pattern": {
                "fillmode": "overlay",
                "size": 10,
                "solidity": 0.2
               }
              },
              "type": "barpolar"
             }
            ],
            "carpet": [
             {
              "aaxis": {
               "endlinecolor": "#2a3f5f",
               "gridcolor": "#C8D4E3",
               "linecolor": "#C8D4E3",
               "minorgridcolor": "#C8D4E3",
               "startlinecolor": "#2a3f5f"
              },
              "baxis": {
               "endlinecolor": "#2a3f5f",
               "gridcolor": "#C8D4E3",
               "linecolor": "#C8D4E3",
               "minorgridcolor": "#C8D4E3",
               "startlinecolor": "#2a3f5f"
              },
              "type": "carpet"
             }
            ],
            "choropleth": [
             {
              "colorbar": {
               "outlinewidth": 0,
               "ticks": ""
              },
              "type": "choropleth"
             }
            ],
            "contour": [
             {
              "colorbar": {
               "outlinewidth": 0,
               "ticks": ""
              },
              "colorscale": [
               [
                0,
                "#0d0887"
               ],
               [
                0.1111111111111111,
                "#46039f"
               ],
               [
                0.2222222222222222,
                "#7201a8"
               ],
               [
                0.3333333333333333,
                "#9c179e"
               ],
               [
                0.4444444444444444,
                "#bd3786"
               ],
               [
                0.5555555555555556,
                "#d8576b"
               ],
               [
                0.6666666666666666,
                "#ed7953"
               ],
               [
                0.7777777777777778,
                "#fb9f3a"
               ],
               [
                0.8888888888888888,
                "#fdca26"
               ],
               [
                1,
                "#f0f921"
               ]
              ],
              "type": "contour"
             }
            ],
            "contourcarpet": [
             {
              "colorbar": {
               "outlinewidth": 0,
               "ticks": ""
              },
              "type": "contourcarpet"
             }
            ],
            "heatmap": [
             {
              "colorbar": {
               "outlinewidth": 0,
               "ticks": ""
              },
              "colorscale": [
               [
                0,
                "#0d0887"
               ],
               [
                0.1111111111111111,
                "#46039f"
               ],
               [
                0.2222222222222222,
                "#7201a8"
               ],
               [
                0.3333333333333333,
                "#9c179e"
               ],
               [
                0.4444444444444444,
                "#bd3786"
               ],
               [
                0.5555555555555556,
                "#d8576b"
               ],
               [
                0.6666666666666666,
                "#ed7953"
               ],
               [
                0.7777777777777778,
                "#fb9f3a"
               ],
               [
                0.8888888888888888,
                "#fdca26"
               ],
               [
                1,
                "#f0f921"
               ]
              ],
              "type": "heatmap"
             }
            ],
            "heatmapgl": [
             {
              "colorbar": {
               "outlinewidth": 0,
               "ticks": ""
              },
              "colorscale": [
               [
                0,
                "#0d0887"
               ],
               [
                0.1111111111111111,
                "#46039f"
               ],
               [
                0.2222222222222222,
                "#7201a8"
               ],
               [
                0.3333333333333333,
                "#9c179e"
               ],
               [
                0.4444444444444444,
                "#bd3786"
               ],
               [
                0.5555555555555556,
                "#d8576b"
               ],
               [
                0.6666666666666666,
                "#ed7953"
               ],
               [
                0.7777777777777778,
                "#fb9f3a"
               ],
               [
                0.8888888888888888,
                "#fdca26"
               ],
               [
                1,
                "#f0f921"
               ]
              ],
              "type": "heatmapgl"
             }
            ],
            "histogram": [
             {
              "marker": {
               "pattern": {
                "fillmode": "overlay",
                "size": 10,
                "solidity": 0.2
               }
              },
              "type": "histogram"
             }
            ],
            "histogram2d": [
             {
              "colorbar": {
               "outlinewidth": 0,
               "ticks": ""
              },
              "colorscale": [
               [
                0,
                "#0d0887"
               ],
               [
                0.1111111111111111,
                "#46039f"
               ],
               [
                0.2222222222222222,
                "#7201a8"
               ],
               [
                0.3333333333333333,
                "#9c179e"
               ],
               [
                0.4444444444444444,
                "#bd3786"
               ],
               [
                0.5555555555555556,
                "#d8576b"
               ],
               [
                0.6666666666666666,
                "#ed7953"
               ],
               [
                0.7777777777777778,
                "#fb9f3a"
               ],
               [
                0.8888888888888888,
                "#fdca26"
               ],
               [
                1,
                "#f0f921"
               ]
              ],
              "type": "histogram2d"
             }
            ],
            "histogram2dcontour": [
             {
              "colorbar": {
               "outlinewidth": 0,
               "ticks": ""
              },
              "colorscale": [
               [
                0,
                "#0d0887"
               ],
               [
                0.1111111111111111,
                "#46039f"
               ],
               [
                0.2222222222222222,
                "#7201a8"
               ],
               [
                0.3333333333333333,
                "#9c179e"
               ],
               [
                0.4444444444444444,
                "#bd3786"
               ],
               [
                0.5555555555555556,
                "#d8576b"
               ],
               [
                0.6666666666666666,
                "#ed7953"
               ],
               [
                0.7777777777777778,
                "#fb9f3a"
               ],
               [
                0.8888888888888888,
                "#fdca26"
               ],
               [
                1,
                "#f0f921"
               ]
              ],
              "type": "histogram2dcontour"
             }
            ],
            "mesh3d": [
             {
              "colorbar": {
               "outlinewidth": 0,
               "ticks": ""
              },
              "type": "mesh3d"
             }
            ],
            "parcoords": [
             {
              "line": {
               "colorbar": {
                "outlinewidth": 0,
                "ticks": ""
               }
              },
              "type": "parcoords"
             }
            ],
            "pie": [
             {
              "automargin": true,
              "type": "pie"
             }
            ],
            "scatter": [
             {
              "fillpattern": {
               "fillmode": "overlay",
               "size": 10,
               "solidity": 0.2
              },
              "type": "scatter"
             }
            ],
            "scatter3d": [
             {
              "line": {
               "colorbar": {
                "outlinewidth": 0,
                "ticks": ""
               }
              },
              "marker": {
               "colorbar": {
                "outlinewidth": 0,
                "ticks": ""
               }
              },
              "type": "scatter3d"
             }
            ],
            "scattercarpet": [
             {
              "marker": {
               "colorbar": {
                "outlinewidth": 0,
                "ticks": ""
               }
              },
              "type": "scattercarpet"
             }
            ],
            "scattergeo": [
             {
              "marker": {
               "colorbar": {
                "outlinewidth": 0,
                "ticks": ""
               }
              },
              "type": "scattergeo"
             }
            ],
            "scattergl": [
             {
              "marker": {
               "colorbar": {
                "outlinewidth": 0,
                "ticks": ""
               }
              },
              "type": "scattergl"
             }
            ],
            "scattermapbox": [
             {
              "marker": {
               "colorbar": {
                "outlinewidth": 0,
                "ticks": ""
               }
              },
              "type": "scattermapbox"
             }
            ],
            "scatterpolar": [
             {
              "marker": {
               "colorbar": {
                "outlinewidth": 0,
                "ticks": ""
               }
              },
              "type": "scatterpolar"
             }
            ],
            "scatterpolargl": [
             {
              "marker": {
               "colorbar": {
                "outlinewidth": 0,
                "ticks": ""
               }
              },
              "type": "scatterpolargl"
             }
            ],
            "scatterternary": [
             {
              "marker": {
               "colorbar": {
                "outlinewidth": 0,
                "ticks": ""
               }
              },
              "type": "scatterternary"
             }
            ],
            "surface": [
             {
              "colorbar": {
               "outlinewidth": 0,
               "ticks": ""
              },
              "colorscale": [
               [
                0,
                "#0d0887"
               ],
               [
                0.1111111111111111,
                "#46039f"
               ],
               [
                0.2222222222222222,
                "#7201a8"
               ],
               [
                0.3333333333333333,
                "#9c179e"
               ],
               [
                0.4444444444444444,
                "#bd3786"
               ],
               [
                0.5555555555555556,
                "#d8576b"
               ],
               [
                0.6666666666666666,
                "#ed7953"
               ],
               [
                0.7777777777777778,
                "#fb9f3a"
               ],
               [
                0.8888888888888888,
                "#fdca26"
               ],
               [
                1,
                "#f0f921"
               ]
              ],
              "type": "surface"
             }
            ],
            "table": [
             {
              "cells": {
               "fill": {
                "color": "#EBF0F8"
               },
               "line": {
                "color": "white"
               }
              },
              "header": {
               "fill": {
                "color": "#C8D4E3"
               },
               "line": {
                "color": "white"
               }
              },
              "type": "table"
             }
            ]
           },
           "layout": {
            "annotationdefaults": {
             "arrowcolor": "#2a3f5f",
             "arrowhead": 0,
             "arrowwidth": 1
            },
            "autotypenumbers": "strict",
            "coloraxis": {
             "colorbar": {
              "outlinewidth": 0,
              "ticks": ""
             }
            },
            "colorscale": {
             "diverging": [
              [
               0,
               "#8e0152"
              ],
              [
               0.1,
               "#c51b7d"
              ],
              [
               0.2,
               "#de77ae"
              ],
              [
               0.3,
               "#f1b6da"
              ],
              [
               0.4,
               "#fde0ef"
              ],
              [
               0.5,
               "#f7f7f7"
              ],
              [
               0.6,
               "#e6f5d0"
              ],
              [
               0.7,
               "#b8e186"
              ],
              [
               0.8,
               "#7fbc41"
              ],
              [
               0.9,
               "#4d9221"
              ],
              [
               1,
               "#276419"
              ]
             ],
             "sequential": [
              [
               0,
               "#0d0887"
              ],
              [
               0.1111111111111111,
               "#46039f"
              ],
              [
               0.2222222222222222,
               "#7201a8"
              ],
              [
               0.3333333333333333,
               "#9c179e"
              ],
              [
               0.4444444444444444,
               "#bd3786"
              ],
              [
               0.5555555555555556,
               "#d8576b"
              ],
              [
               0.6666666666666666,
               "#ed7953"
              ],
              [
               0.7777777777777778,
               "#fb9f3a"
              ],
              [
               0.8888888888888888,
               "#fdca26"
              ],
              [
               1,
               "#f0f921"
              ]
             ],
             "sequentialminus": [
              [
               0,
               "#0d0887"
              ],
              [
               0.1111111111111111,
               "#46039f"
              ],
              [
               0.2222222222222222,
               "#7201a8"
              ],
              [
               0.3333333333333333,
               "#9c179e"
              ],
              [
               0.4444444444444444,
               "#bd3786"
              ],
              [
               0.5555555555555556,
               "#d8576b"
              ],
              [
               0.6666666666666666,
               "#ed7953"
              ],
              [
               0.7777777777777778,
               "#fb9f3a"
              ],
              [
               0.8888888888888888,
               "#fdca26"
              ],
              [
               1,
               "#f0f921"
              ]
             ]
            },
            "colorway": [
             "#636efa",
             "#EF553B",
             "#00cc96",
             "#ab63fa",
             "#FFA15A",
             "#19d3f3",
             "#FF6692",
             "#B6E880",
             "#FF97FF",
             "#FECB52"
            ],
            "font": {
             "color": "#2a3f5f"
            },
            "geo": {
             "bgcolor": "white",
             "lakecolor": "white",
             "landcolor": "white",
             "showlakes": true,
             "showland": true,
             "subunitcolor": "#C8D4E3"
            },
            "hoverlabel": {
             "align": "left"
            },
            "hovermode": "closest",
            "mapbox": {
             "style": "light"
            },
            "paper_bgcolor": "white",
            "plot_bgcolor": "white",
            "polar": {
             "angularaxis": {
              "gridcolor": "#EBF0F8",
              "linecolor": "#EBF0F8",
              "ticks": ""
             },
             "bgcolor": "white",
             "radialaxis": {
              "gridcolor": "#EBF0F8",
              "linecolor": "#EBF0F8",
              "ticks": ""
             }
            },
            "scene": {
             "xaxis": {
              "backgroundcolor": "white",
              "gridcolor": "#DFE8F3",
              "gridwidth": 2,
              "linecolor": "#EBF0F8",
              "showbackground": true,
              "ticks": "",
              "zerolinecolor": "#EBF0F8"
             },
             "yaxis": {
              "backgroundcolor": "white",
              "gridcolor": "#DFE8F3",
              "gridwidth": 2,
              "linecolor": "#EBF0F8",
              "showbackground": true,
              "ticks": "",
              "zerolinecolor": "#EBF0F8"
             },
             "zaxis": {
              "backgroundcolor": "white",
              "gridcolor": "#DFE8F3",
              "gridwidth": 2,
              "linecolor": "#EBF0F8",
              "showbackground": true,
              "ticks": "",
              "zerolinecolor": "#EBF0F8"
             }
            },
            "shapedefaults": {
             "line": {
              "color": "#2a3f5f"
             }
            },
            "ternary": {
             "aaxis": {
              "gridcolor": "#DFE8F3",
              "linecolor": "#A2B1C6",
              "ticks": ""
             },
             "baxis": {
              "gridcolor": "#DFE8F3",
              "linecolor": "#A2B1C6",
              "ticks": ""
             },
             "bgcolor": "white",
             "caxis": {
              "gridcolor": "#DFE8F3",
              "linecolor": "#A2B1C6",
              "ticks": ""
             }
            },
            "title": {
             "x": 0.05
            },
            "xaxis": {
             "automargin": true,
             "gridcolor": "#EBF0F8",
             "linecolor": "#EBF0F8",
             "ticks": "",
             "title": {
              "standoff": 15
             },
             "zerolinecolor": "#EBF0F8",
             "zerolinewidth": 2
            },
            "yaxis": {
             "automargin": true,
             "gridcolor": "#EBF0F8",
             "linecolor": "#EBF0F8",
             "ticks": "",
             "title": {
              "standoff": 15
             },
             "zerolinecolor": "#EBF0F8",
             "zerolinewidth": 2
            }
           }
          },
          "xaxis": {
           "automargin": true,
           "autorange": false,
           "fixedrange": true,
           "linecolor": "#444",
           "linewidth": 2,
           "minor": {
            "tickmode": "linear",
            "ticks": "outside"
           },
           "mirror": true,
           "showline": true,
           "tickmode": "linear",
           "ticks": "outside",
           "zeroline": false
          },
          "yaxis": {
           "automargin": true,
           "autorange": false,
           "fixedrange": true,
           "linecolor": "#444",
           "linewidth": 2,
           "minor": {
            "tickmode": "linear",
            "ticks": "outside"
           },
           "mirror": true,
           "showline": true,
           "tickmode": "linear",
           "ticks": "outside",
           "zeroline": false
          }
         }
        },
        "xaxis": {
         "dtick": 5,
         "minor": {
          "dtick": 1,
          "tick0": 0
         },
         "range": [
          0,
          30.2
         ],
         "tick0": 0,
         "title": {
          "text": "challenge rating"
         }
        },
        "yaxis": {
         "dtick": 1,
         "minor": {
          "dtick": 0.25,
          "tick0": 0
         },
         "range": [
          -0.05,
          6
         ],
         "tick0": 0,
         "title": {
          "text": "condition immunities"
         }
        }
       }
      }
     },
     "metadata": {},
     "output_type": "display_data"
    }
   ],
   "source": [
    "# Plots average number of conditional immunities for monsters at each CR.\n",
    "df1 = df0[df0['Category'].isin(['generic','legendary','unique']) & df0['CR'].between(1/8, 30)]\n",
    "dfG = df1.groupby('CR').mean()\n",
    "\n",
    "conditions = ['All Conditions']\n",
    "colors = ['black']\n",
    "\n",
    "fig = go.Figure()\n",
    "\n",
    "for condition, color in zip(conditions, colors):\n",
    "    dfR = dfG[condition].rolling(1, center=True).mean()\n",
    "    fig.add_trace(go.Scatter(\n",
    "        x=dfR.index.to_series(),\n",
    "        y=dfR,\n",
    "        mode='lines+markers', \n",
    "        line=dict(color=color, dash='solid'),\n",
    "        unselected=dict(marker=dict(opacity=0.0)),\n",
    "        name=condition,\n",
    "        hovertemplate=\n",
    "            'CR %{x}<br>'+\n",
    "            'immunities %{y:.2f}'+\n",
    "            '<extra></extra>'\n",
    "    ))\n",
    "\n",
    "fig.update_layout(\n",
    "    template=TFB_TEMPLATE,\n",
    "    xaxis=dict(\n",
    "        title_text='challenge rating',\n",
    "        range=[0.0, 30.2],\n",
    "        tick0=0, dtick=5,\n",
    "        minor=dict(tick0=0, dtick=1),\n",
    "    ),\n",
    "    yaxis=dict(\n",
    "        title_text='condition immunities',\n",
    "        range=[-0.05, 6],\n",
    "        tick0=0, dtick=1.0,\n",
    "        minor=dict(tick0=0, dtick=0.25),\n",
    "    ),\n",
    "    legend=dict(\n",
    "        yanchor='top',  y=0.99,\n",
    "        xanchor='left', x=0.01,\n",
    "        orientation='v',\n",
    "    )\n",
    ")\n",
    "\n",
    "fig.show(config=TFB_CONFIG)"
   ]
  },
  {
   "cell_type": "code",
   "execution_count": 239,
   "metadata": {},
   "outputs": [
    {
     "data": {
      "application/vnd.plotly.v1+json": {
       "config": {
        "autosizable": true,
        "displayModeBar": "hover",
        "displaylogo": false,
        "modeBarButtonsToRemove": [
         "select2d",
         "lasso2d",
         "zoom2d",
         "zoomIn2d",
         "zoomOut2d",
         "pan2d",
         "autoScale2d",
         "hoverClosestCartesian",
         "hoverCompareCartesian",
         "toggleSpikelines",
         "resetScale2d"
        ],
        "plotlyServerURL": "https://plot.ly",
        "responsive": true,
        "showAxisDragHandles": false,
        "toImageButtonOptions": {
         "filename": "tfb-plot",
         "format": "png",
         "height": 450,
         "scale": 2,
         "width": 600
        }
       },
       "data": [
        {
         "histfunc": "avg",
         "hovertemplate": "<b>%{x}:</b> %{y:.2f}<br><extra></extra>",
         "name": "All Conditions",
         "type": "histogram",
         "x": [
          "aberration",
          "beast",
          "celestial",
          "construct",
          "dragon",
          "elemental",
          "fey",
          "fiend",
          "giant",
          "humanoid",
          "monstrosity",
          "ooze",
          "plant",
          "undead"
         ],
         "y": [
          1.3414634146341464,
          0.7954545454545454,
          2.473684210526316,
          5.838709677419355,
          0.7155963302752294,
          4.6875,
          1.1818181818181819,
          1.9523809523809523,
          0.34375,
          0.22183098591549297,
          0.7794117647058824,
          6.5,
          2.3684210526315788,
          4.407766990291262
         ]
        }
       ],
       "layout": {
        "template": {
         "data": {
          "bar": [
           {
            "error_x": {
             "color": "#2a3f5f"
            },
            "error_y": {
             "color": "#2a3f5f"
            },
            "marker": {
             "line": {
              "color": "#E5ECF6",
              "width": 0.5
             },
             "pattern": {
              "fillmode": "overlay",
              "size": 10,
              "solidity": 0.2
             }
            },
            "type": "bar"
           }
          ],
          "barpolar": [
           {
            "marker": {
             "line": {
              "color": "#E5ECF6",
              "width": 0.5
             },
             "pattern": {
              "fillmode": "overlay",
              "size": 10,
              "solidity": 0.2
             }
            },
            "type": "barpolar"
           }
          ],
          "carpet": [
           {
            "aaxis": {
             "endlinecolor": "#2a3f5f",
             "gridcolor": "white",
             "linecolor": "white",
             "minorgridcolor": "white",
             "startlinecolor": "#2a3f5f"
            },
            "baxis": {
             "endlinecolor": "#2a3f5f",
             "gridcolor": "white",
             "linecolor": "white",
             "minorgridcolor": "white",
             "startlinecolor": "#2a3f5f"
            },
            "type": "carpet"
           }
          ],
          "choropleth": [
           {
            "colorbar": {
             "outlinewidth": 0,
             "ticks": ""
            },
            "type": "choropleth"
           }
          ],
          "contour": [
           {
            "colorbar": {
             "outlinewidth": 0,
             "ticks": ""
            },
            "colorscale": [
             [
              0,
              "#0d0887"
             ],
             [
              0.1111111111111111,
              "#46039f"
             ],
             [
              0.2222222222222222,
              "#7201a8"
             ],
             [
              0.3333333333333333,
              "#9c179e"
             ],
             [
              0.4444444444444444,
              "#bd3786"
             ],
             [
              0.5555555555555556,
              "#d8576b"
             ],
             [
              0.6666666666666666,
              "#ed7953"
             ],
             [
              0.7777777777777778,
              "#fb9f3a"
             ],
             [
              0.8888888888888888,
              "#fdca26"
             ],
             [
              1,
              "#f0f921"
             ]
            ],
            "type": "contour"
           }
          ],
          "contourcarpet": [
           {
            "colorbar": {
             "outlinewidth": 0,
             "ticks": ""
            },
            "type": "contourcarpet"
           }
          ],
          "heatmap": [
           {
            "colorbar": {
             "outlinewidth": 0,
             "ticks": ""
            },
            "colorscale": [
             [
              0,
              "#0d0887"
             ],
             [
              0.1111111111111111,
              "#46039f"
             ],
             [
              0.2222222222222222,
              "#7201a8"
             ],
             [
              0.3333333333333333,
              "#9c179e"
             ],
             [
              0.4444444444444444,
              "#bd3786"
             ],
             [
              0.5555555555555556,
              "#d8576b"
             ],
             [
              0.6666666666666666,
              "#ed7953"
             ],
             [
              0.7777777777777778,
              "#fb9f3a"
             ],
             [
              0.8888888888888888,
              "#fdca26"
             ],
             [
              1,
              "#f0f921"
             ]
            ],
            "type": "heatmap"
           }
          ],
          "heatmapgl": [
           {
            "colorbar": {
             "outlinewidth": 0,
             "ticks": ""
            },
            "colorscale": [
             [
              0,
              "#0d0887"
             ],
             [
              0.1111111111111111,
              "#46039f"
             ],
             [
              0.2222222222222222,
              "#7201a8"
             ],
             [
              0.3333333333333333,
              "#9c179e"
             ],
             [
              0.4444444444444444,
              "#bd3786"
             ],
             [
              0.5555555555555556,
              "#d8576b"
             ],
             [
              0.6666666666666666,
              "#ed7953"
             ],
             [
              0.7777777777777778,
              "#fb9f3a"
             ],
             [
              0.8888888888888888,
              "#fdca26"
             ],
             [
              1,
              "#f0f921"
             ]
            ],
            "type": "heatmapgl"
           }
          ],
          "histogram": [
           {
            "marker": {
             "pattern": {
              "fillmode": "overlay",
              "size": 10,
              "solidity": 0.2
             }
            },
            "type": "histogram"
           }
          ],
          "histogram2d": [
           {
            "colorbar": {
             "outlinewidth": 0,
             "ticks": ""
            },
            "colorscale": [
             [
              0,
              "#0d0887"
             ],
             [
              0.1111111111111111,
              "#46039f"
             ],
             [
              0.2222222222222222,
              "#7201a8"
             ],
             [
              0.3333333333333333,
              "#9c179e"
             ],
             [
              0.4444444444444444,
              "#bd3786"
             ],
             [
              0.5555555555555556,
              "#d8576b"
             ],
             [
              0.6666666666666666,
              "#ed7953"
             ],
             [
              0.7777777777777778,
              "#fb9f3a"
             ],
             [
              0.8888888888888888,
              "#fdca26"
             ],
             [
              1,
              "#f0f921"
             ]
            ],
            "type": "histogram2d"
           }
          ],
          "histogram2dcontour": [
           {
            "colorbar": {
             "outlinewidth": 0,
             "ticks": ""
            },
            "colorscale": [
             [
              0,
              "#0d0887"
             ],
             [
              0.1111111111111111,
              "#46039f"
             ],
             [
              0.2222222222222222,
              "#7201a8"
             ],
             [
              0.3333333333333333,
              "#9c179e"
             ],
             [
              0.4444444444444444,
              "#bd3786"
             ],
             [
              0.5555555555555556,
              "#d8576b"
             ],
             [
              0.6666666666666666,
              "#ed7953"
             ],
             [
              0.7777777777777778,
              "#fb9f3a"
             ],
             [
              0.8888888888888888,
              "#fdca26"
             ],
             [
              1,
              "#f0f921"
             ]
            ],
            "type": "histogram2dcontour"
           }
          ],
          "mesh3d": [
           {
            "colorbar": {
             "outlinewidth": 0,
             "ticks": ""
            },
            "type": "mesh3d"
           }
          ],
          "parcoords": [
           {
            "line": {
             "colorbar": {
              "outlinewidth": 0,
              "ticks": ""
             }
            },
            "type": "parcoords"
           }
          ],
          "pie": [
           {
            "automargin": true,
            "type": "pie"
           }
          ],
          "scatter": [
           {
            "fillpattern": {
             "fillmode": "overlay",
             "size": 10,
             "solidity": 0.2
            },
            "type": "scatter"
           }
          ],
          "scatter3d": [
           {
            "line": {
             "colorbar": {
              "outlinewidth": 0,
              "ticks": ""
             }
            },
            "marker": {
             "colorbar": {
              "outlinewidth": 0,
              "ticks": ""
             }
            },
            "type": "scatter3d"
           }
          ],
          "scattercarpet": [
           {
            "marker": {
             "colorbar": {
              "outlinewidth": 0,
              "ticks": ""
             }
            },
            "type": "scattercarpet"
           }
          ],
          "scattergeo": [
           {
            "marker": {
             "colorbar": {
              "outlinewidth": 0,
              "ticks": ""
             }
            },
            "type": "scattergeo"
           }
          ],
          "scattergl": [
           {
            "marker": {
             "colorbar": {
              "outlinewidth": 0,
              "ticks": ""
             }
            },
            "type": "scattergl"
           }
          ],
          "scattermapbox": [
           {
            "marker": {
             "colorbar": {
              "outlinewidth": 0,
              "ticks": ""
             }
            },
            "type": "scattermapbox"
           }
          ],
          "scatterpolar": [
           {
            "marker": {
             "colorbar": {
              "outlinewidth": 0,
              "ticks": ""
             }
            },
            "type": "scatterpolar"
           }
          ],
          "scatterpolargl": [
           {
            "marker": {
             "colorbar": {
              "outlinewidth": 0,
              "ticks": ""
             }
            },
            "type": "scatterpolargl"
           }
          ],
          "scatterternary": [
           {
            "marker": {
             "colorbar": {
              "outlinewidth": 0,
              "ticks": ""
             }
            },
            "type": "scatterternary"
           }
          ],
          "surface": [
           {
            "colorbar": {
             "outlinewidth": 0,
             "ticks": ""
            },
            "colorscale": [
             [
              0,
              "#0d0887"
             ],
             [
              0.1111111111111111,
              "#46039f"
             ],
             [
              0.2222222222222222,
              "#7201a8"
             ],
             [
              0.3333333333333333,
              "#9c179e"
             ],
             [
              0.4444444444444444,
              "#bd3786"
             ],
             [
              0.5555555555555556,
              "#d8576b"
             ],
             [
              0.6666666666666666,
              "#ed7953"
             ],
             [
              0.7777777777777778,
              "#fb9f3a"
             ],
             [
              0.8888888888888888,
              "#fdca26"
             ],
             [
              1,
              "#f0f921"
             ]
            ],
            "type": "surface"
           }
          ],
          "table": [
           {
            "cells": {
             "fill": {
              "color": "#EBF0F8"
             },
             "line": {
              "color": "white"
             }
            },
            "header": {
             "fill": {
              "color": "#C8D4E3"
             },
             "line": {
              "color": "white"
             }
            },
            "type": "table"
           }
          ]
         },
         "layout": {
          "autosize": true,
          "font": {
           "family": "sans-serif",
           "size": 14
          },
          "hovermode": "closest",
          "legend": {
           "font": {
            "size": 10
           }
          },
          "margin": {
           "b": 40,
           "l": 50,
           "pad": 4,
           "r": 25,
           "t": 20
          },
          "template": {
           "data": {
            "bar": [
             {
              "error_x": {
               "color": "#2a3f5f"
              },
              "error_y": {
               "color": "#2a3f5f"
              },
              "marker": {
               "line": {
                "color": "white",
                "width": 0.5
               },
               "pattern": {
                "fillmode": "overlay",
                "size": 10,
                "solidity": 0.2
               }
              },
              "type": "bar"
             }
            ],
            "barpolar": [
             {
              "marker": {
               "line": {
                "color": "white",
                "width": 0.5
               },
               "pattern": {
                "fillmode": "overlay",
                "size": 10,
                "solidity": 0.2
               }
              },
              "type": "barpolar"
             }
            ],
            "carpet": [
             {
              "aaxis": {
               "endlinecolor": "#2a3f5f",
               "gridcolor": "#C8D4E3",
               "linecolor": "#C8D4E3",
               "minorgridcolor": "#C8D4E3",
               "startlinecolor": "#2a3f5f"
              },
              "baxis": {
               "endlinecolor": "#2a3f5f",
               "gridcolor": "#C8D4E3",
               "linecolor": "#C8D4E3",
               "minorgridcolor": "#C8D4E3",
               "startlinecolor": "#2a3f5f"
              },
              "type": "carpet"
             }
            ],
            "choropleth": [
             {
              "colorbar": {
               "outlinewidth": 0,
               "ticks": ""
              },
              "type": "choropleth"
             }
            ],
            "contour": [
             {
              "colorbar": {
               "outlinewidth": 0,
               "ticks": ""
              },
              "colorscale": [
               [
                0,
                "#0d0887"
               ],
               [
                0.1111111111111111,
                "#46039f"
               ],
               [
                0.2222222222222222,
                "#7201a8"
               ],
               [
                0.3333333333333333,
                "#9c179e"
               ],
               [
                0.4444444444444444,
                "#bd3786"
               ],
               [
                0.5555555555555556,
                "#d8576b"
               ],
               [
                0.6666666666666666,
                "#ed7953"
               ],
               [
                0.7777777777777778,
                "#fb9f3a"
               ],
               [
                0.8888888888888888,
                "#fdca26"
               ],
               [
                1,
                "#f0f921"
               ]
              ],
              "type": "contour"
             }
            ],
            "contourcarpet": [
             {
              "colorbar": {
               "outlinewidth": 0,
               "ticks": ""
              },
              "type": "contourcarpet"
             }
            ],
            "heatmap": [
             {
              "colorbar": {
               "outlinewidth": 0,
               "ticks": ""
              },
              "colorscale": [
               [
                0,
                "#0d0887"
               ],
               [
                0.1111111111111111,
                "#46039f"
               ],
               [
                0.2222222222222222,
                "#7201a8"
               ],
               [
                0.3333333333333333,
                "#9c179e"
               ],
               [
                0.4444444444444444,
                "#bd3786"
               ],
               [
                0.5555555555555556,
                "#d8576b"
               ],
               [
                0.6666666666666666,
                "#ed7953"
               ],
               [
                0.7777777777777778,
                "#fb9f3a"
               ],
               [
                0.8888888888888888,
                "#fdca26"
               ],
               [
                1,
                "#f0f921"
               ]
              ],
              "type": "heatmap"
             }
            ],
            "heatmapgl": [
             {
              "colorbar": {
               "outlinewidth": 0,
               "ticks": ""
              },
              "colorscale": [
               [
                0,
                "#0d0887"
               ],
               [
                0.1111111111111111,
                "#46039f"
               ],
               [
                0.2222222222222222,
                "#7201a8"
               ],
               [
                0.3333333333333333,
                "#9c179e"
               ],
               [
                0.4444444444444444,
                "#bd3786"
               ],
               [
                0.5555555555555556,
                "#d8576b"
               ],
               [
                0.6666666666666666,
                "#ed7953"
               ],
               [
                0.7777777777777778,
                "#fb9f3a"
               ],
               [
                0.8888888888888888,
                "#fdca26"
               ],
               [
                1,
                "#f0f921"
               ]
              ],
              "type": "heatmapgl"
             }
            ],
            "histogram": [
             {
              "marker": {
               "pattern": {
                "fillmode": "overlay",
                "size": 10,
                "solidity": 0.2
               }
              },
              "type": "histogram"
             }
            ],
            "histogram2d": [
             {
              "colorbar": {
               "outlinewidth": 0,
               "ticks": ""
              },
              "colorscale": [
               [
                0,
                "#0d0887"
               ],
               [
                0.1111111111111111,
                "#46039f"
               ],
               [
                0.2222222222222222,
                "#7201a8"
               ],
               [
                0.3333333333333333,
                "#9c179e"
               ],
               [
                0.4444444444444444,
                "#bd3786"
               ],
               [
                0.5555555555555556,
                "#d8576b"
               ],
               [
                0.6666666666666666,
                "#ed7953"
               ],
               [
                0.7777777777777778,
                "#fb9f3a"
               ],
               [
                0.8888888888888888,
                "#fdca26"
               ],
               [
                1,
                "#f0f921"
               ]
              ],
              "type": "histogram2d"
             }
            ],
            "histogram2dcontour": [
             {
              "colorbar": {
               "outlinewidth": 0,
               "ticks": ""
              },
              "colorscale": [
               [
                0,
                "#0d0887"
               ],
               [
                0.1111111111111111,
                "#46039f"
               ],
               [
                0.2222222222222222,
                "#7201a8"
               ],
               [
                0.3333333333333333,
                "#9c179e"
               ],
               [
                0.4444444444444444,
                "#bd3786"
               ],
               [
                0.5555555555555556,
                "#d8576b"
               ],
               [
                0.6666666666666666,
                "#ed7953"
               ],
               [
                0.7777777777777778,
                "#fb9f3a"
               ],
               [
                0.8888888888888888,
                "#fdca26"
               ],
               [
                1,
                "#f0f921"
               ]
              ],
              "type": "histogram2dcontour"
             }
            ],
            "mesh3d": [
             {
              "colorbar": {
               "outlinewidth": 0,
               "ticks": ""
              },
              "type": "mesh3d"
             }
            ],
            "parcoords": [
             {
              "line": {
               "colorbar": {
                "outlinewidth": 0,
                "ticks": ""
               }
              },
              "type": "parcoords"
             }
            ],
            "pie": [
             {
              "automargin": true,
              "type": "pie"
             }
            ],
            "scatter": [
             {
              "fillpattern": {
               "fillmode": "overlay",
               "size": 10,
               "solidity": 0.2
              },
              "type": "scatter"
             }
            ],
            "scatter3d": [
             {
              "line": {
               "colorbar": {
                "outlinewidth": 0,
                "ticks": ""
               }
              },
              "marker": {
               "colorbar": {
                "outlinewidth": 0,
                "ticks": ""
               }
              },
              "type": "scatter3d"
             }
            ],
            "scattercarpet": [
             {
              "marker": {
               "colorbar": {
                "outlinewidth": 0,
                "ticks": ""
               }
              },
              "type": "scattercarpet"
             }
            ],
            "scattergeo": [
             {
              "marker": {
               "colorbar": {
                "outlinewidth": 0,
                "ticks": ""
               }
              },
              "type": "scattergeo"
             }
            ],
            "scattergl": [
             {
              "marker": {
               "colorbar": {
                "outlinewidth": 0,
                "ticks": ""
               }
              },
              "type": "scattergl"
             }
            ],
            "scattermapbox": [
             {
              "marker": {
               "colorbar": {
                "outlinewidth": 0,
                "ticks": ""
               }
              },
              "type": "scattermapbox"
             }
            ],
            "scatterpolar": [
             {
              "marker": {
               "colorbar": {
                "outlinewidth": 0,
                "ticks": ""
               }
              },
              "type": "scatterpolar"
             }
            ],
            "scatterpolargl": [
             {
              "marker": {
               "colorbar": {
                "outlinewidth": 0,
                "ticks": ""
               }
              },
              "type": "scatterpolargl"
             }
            ],
            "scatterternary": [
             {
              "marker": {
               "colorbar": {
                "outlinewidth": 0,
                "ticks": ""
               }
              },
              "type": "scatterternary"
             }
            ],
            "surface": [
             {
              "colorbar": {
               "outlinewidth": 0,
               "ticks": ""
              },
              "colorscale": [
               [
                0,
                "#0d0887"
               ],
               [
                0.1111111111111111,
                "#46039f"
               ],
               [
                0.2222222222222222,
                "#7201a8"
               ],
               [
                0.3333333333333333,
                "#9c179e"
               ],
               [
                0.4444444444444444,
                "#bd3786"
               ],
               [
                0.5555555555555556,
                "#d8576b"
               ],
               [
                0.6666666666666666,
                "#ed7953"
               ],
               [
                0.7777777777777778,
                "#fb9f3a"
               ],
               [
                0.8888888888888888,
                "#fdca26"
               ],
               [
                1,
                "#f0f921"
               ]
              ],
              "type": "surface"
             }
            ],
            "table": [
             {
              "cells": {
               "fill": {
                "color": "#EBF0F8"
               },
               "line": {
                "color": "white"
               }
              },
              "header": {
               "fill": {
                "color": "#C8D4E3"
               },
               "line": {
                "color": "white"
               }
              },
              "type": "table"
             }
            ]
           },
           "layout": {
            "annotationdefaults": {
             "arrowcolor": "#2a3f5f",
             "arrowhead": 0,
             "arrowwidth": 1
            },
            "autotypenumbers": "strict",
            "coloraxis": {
             "colorbar": {
              "outlinewidth": 0,
              "ticks": ""
             }
            },
            "colorscale": {
             "diverging": [
              [
               0,
               "#8e0152"
              ],
              [
               0.1,
               "#c51b7d"
              ],
              [
               0.2,
               "#de77ae"
              ],
              [
               0.3,
               "#f1b6da"
              ],
              [
               0.4,
               "#fde0ef"
              ],
              [
               0.5,
               "#f7f7f7"
              ],
              [
               0.6,
               "#e6f5d0"
              ],
              [
               0.7,
               "#b8e186"
              ],
              [
               0.8,
               "#7fbc41"
              ],
              [
               0.9,
               "#4d9221"
              ],
              [
               1,
               "#276419"
              ]
             ],
             "sequential": [
              [
               0,
               "#0d0887"
              ],
              [
               0.1111111111111111,
               "#46039f"
              ],
              [
               0.2222222222222222,
               "#7201a8"
              ],
              [
               0.3333333333333333,
               "#9c179e"
              ],
              [
               0.4444444444444444,
               "#bd3786"
              ],
              [
               0.5555555555555556,
               "#d8576b"
              ],
              [
               0.6666666666666666,
               "#ed7953"
              ],
              [
               0.7777777777777778,
               "#fb9f3a"
              ],
              [
               0.8888888888888888,
               "#fdca26"
              ],
              [
               1,
               "#f0f921"
              ]
             ],
             "sequentialminus": [
              [
               0,
               "#0d0887"
              ],
              [
               0.1111111111111111,
               "#46039f"
              ],
              [
               0.2222222222222222,
               "#7201a8"
              ],
              [
               0.3333333333333333,
               "#9c179e"
              ],
              [
               0.4444444444444444,
               "#bd3786"
              ],
              [
               0.5555555555555556,
               "#d8576b"
              ],
              [
               0.6666666666666666,
               "#ed7953"
              ],
              [
               0.7777777777777778,
               "#fb9f3a"
              ],
              [
               0.8888888888888888,
               "#fdca26"
              ],
              [
               1,
               "#f0f921"
              ]
             ]
            },
            "colorway": [
             "#636efa",
             "#EF553B",
             "#00cc96",
             "#ab63fa",
             "#FFA15A",
             "#19d3f3",
             "#FF6692",
             "#B6E880",
             "#FF97FF",
             "#FECB52"
            ],
            "font": {
             "color": "#2a3f5f"
            },
            "geo": {
             "bgcolor": "white",
             "lakecolor": "white",
             "landcolor": "white",
             "showlakes": true,
             "showland": true,
             "subunitcolor": "#C8D4E3"
            },
            "hoverlabel": {
             "align": "left"
            },
            "hovermode": "closest",
            "mapbox": {
             "style": "light"
            },
            "paper_bgcolor": "white",
            "plot_bgcolor": "white",
            "polar": {
             "angularaxis": {
              "gridcolor": "#EBF0F8",
              "linecolor": "#EBF0F8",
              "ticks": ""
             },
             "bgcolor": "white",
             "radialaxis": {
              "gridcolor": "#EBF0F8",
              "linecolor": "#EBF0F8",
              "ticks": ""
             }
            },
            "scene": {
             "xaxis": {
              "backgroundcolor": "white",
              "gridcolor": "#DFE8F3",
              "gridwidth": 2,
              "linecolor": "#EBF0F8",
              "showbackground": true,
              "ticks": "",
              "zerolinecolor": "#EBF0F8"
             },
             "yaxis": {
              "backgroundcolor": "white",
              "gridcolor": "#DFE8F3",
              "gridwidth": 2,
              "linecolor": "#EBF0F8",
              "showbackground": true,
              "ticks": "",
              "zerolinecolor": "#EBF0F8"
             },
             "zaxis": {
              "backgroundcolor": "white",
              "gridcolor": "#DFE8F3",
              "gridwidth": 2,
              "linecolor": "#EBF0F8",
              "showbackground": true,
              "ticks": "",
              "zerolinecolor": "#EBF0F8"
             }
            },
            "shapedefaults": {
             "line": {
              "color": "#2a3f5f"
             }
            },
            "ternary": {
             "aaxis": {
              "gridcolor": "#DFE8F3",
              "linecolor": "#A2B1C6",
              "ticks": ""
             },
             "baxis": {
              "gridcolor": "#DFE8F3",
              "linecolor": "#A2B1C6",
              "ticks": ""
             },
             "bgcolor": "white",
             "caxis": {
              "gridcolor": "#DFE8F3",
              "linecolor": "#A2B1C6",
              "ticks": ""
             }
            },
            "title": {
             "x": 0.05
            },
            "xaxis": {
             "automargin": true,
             "gridcolor": "#EBF0F8",
             "linecolor": "#EBF0F8",
             "ticks": "",
             "title": {
              "standoff": 15
             },
             "zerolinecolor": "#EBF0F8",
             "zerolinewidth": 2
            },
            "yaxis": {
             "automargin": true,
             "gridcolor": "#EBF0F8",
             "linecolor": "#EBF0F8",
             "ticks": "",
             "title": {
              "standoff": 15
             },
             "zerolinecolor": "#EBF0F8",
             "zerolinewidth": 2
            }
           }
          },
          "xaxis": {
           "automargin": true,
           "autorange": false,
           "fixedrange": true,
           "linecolor": "#444",
           "linewidth": 2,
           "minor": {
            "tickmode": "linear",
            "ticks": "outside"
           },
           "mirror": true,
           "showline": true,
           "tickmode": "linear",
           "ticks": "outside",
           "zeroline": false
          },
          "yaxis": {
           "automargin": true,
           "autorange": false,
           "fixedrange": true,
           "linecolor": "#444",
           "linewidth": 2,
           "minor": {
            "tickmode": "linear",
            "ticks": "outside"
           },
           "mirror": true,
           "showline": true,
           "tickmode": "linear",
           "ticks": "outside",
           "zeroline": false
          }
         }
        },
        "xaxis": {
         "range": [
          -0.5,
          13.5
         ],
         "title": {
          "text": ""
         }
        },
        "yaxis": {
         "dtick": 1,
         "minor": {
          "dtick": 0.5,
          "tick0": 0
         },
         "range": [
          0,
          7
         ],
         "tick0": 0,
         "title": {
          "text": "condition immunities"
         }
        }
       }
      }
     },
     "metadata": {},
     "output_type": "display_data"
    }
   ],
   "source": [
    "# Plots the average number of condition immunities for monsters of each type.\n",
    "condition = 'All Conditions'\n",
    "\n",
    "df1 = df0[df0['Category'].isin(['generic','legendary','unique']) & df0['CR'].between(1, 30)]\n",
    "dfG = df1.groupby(['Type']).mean().reset_index()\n",
    "\n",
    "fig = go.Figure()\n",
    "\n",
    "fig.add_trace(go.Histogram(\n",
    "    histfunc='avg', \n",
    "    x=dfG['Type'], \n",
    "    y=dfG[condition], \n",
    "    name=condition,\n",
    "    hovertemplate=\n",
    "        '<b>%{x}:</b> %{y:.2f}<br>'+\n",
    "        '<extra></extra>',\n",
    "))\n",
    "\n",
    "fig.update_layout(\n",
    "    template=TFB_TEMPLATE,\n",
    "    xaxis=dict(\n",
    "        title_text='',\n",
    "        range=[-0.5, 14-0.5],\n",
    "    ),\n",
    "    yaxis=dict(\n",
    "        title_text=f'condition immunities',\n",
    "        range=[0.0, 7.0],\n",
    "        tick0=0, dtick=1.0,\n",
    "        minor=dict(tick0=0, dtick=0.5),\n",
    "    )\n",
    ")\n",
    "\n",
    "fig.show(config=TFB_CONFIG)"
   ]
  },
  {
   "cell_type": "code",
   "execution_count": 124,
   "metadata": {},
   "outputs": [
    {
     "name": "stdout",
     "output_type": "stream",
     "text": [
      "                            OLS Regression Results                            \n",
      "==============================================================================\n",
      "Dep. Variable:               Poisoned   R-squared:                       0.576\n",
      "Model:                            OLS   Adj. R-squared:                  0.572\n",
      "Method:                 Least Squares   F-statistic:                     142.1\n",
      "Date:                Sat, 17 Dec 2022   Prob (F-statistic):          1.42e-260\n",
      "Time:                        23:25:13   Log-Likelihood:                -305.16\n",
      "No. Observations:                1478   AIC:                             640.3\n",
      "Df Residuals:                    1463   BIC:                             719.8\n",
      "Df Model:                          14                                         \n",
      "Covariance Type:            nonrobust                                         \n",
      "====================================================================================\n",
      "                       coef    std err          t      P>|t|      [0.025      0.975]\n",
      "------------------------------------------------------------------------------------\n",
      "const                0.2296      0.014     16.535      0.000       0.202       0.257\n",
      "CR                   0.0115      0.001      8.457      0.000       0.009       0.014\n",
      "Type_aberration     -0.2283      0.036     -6.259      0.000      -0.300      -0.157\n",
      "Type_beast          -0.2476      0.029     -8.456      0.000      -0.305      -0.190\n",
      "Type_celestial      -0.0736      0.062     -1.187      0.235      -0.195       0.048\n",
      "Type_construct       0.6018      0.031     19.613      0.000       0.542       0.662\n",
      "Type_dragon         -0.1596      0.029     -5.527      0.000      -0.216      -0.103\n",
      "Type_elemental       0.4918      0.040     12.371      0.000       0.414       0.570\n",
      "Type_fey            -0.1497      0.043     -3.451      0.001      -0.235      -0.065\n",
      "Type_fiend           0.4733      0.029     16.570      0.000       0.417       0.529\n",
      "Type_giant          -0.2378      0.042     -5.655      0.000      -0.320      -0.155\n",
      "Type_humanoid       -0.2314      0.017    -13.288      0.000      -0.266      -0.197\n",
      "Type_monstrosity    -0.1655      0.023     -7.100      0.000      -0.211      -0.120\n",
      "Type_ooze           -0.1852      0.081     -2.282      0.023      -0.344      -0.026\n",
      "Type_plant          -0.1724      0.049     -3.504      0.000      -0.269      -0.076\n",
      "Type_undead          0.5139      0.026     19.438      0.000       0.462       0.566\n",
      "==============================================================================\n",
      "Omnibus:                      193.523   Durbin-Watson:                   1.511\n",
      "Prob(Omnibus):                  0.000   Jarque-Bera (JB):              884.307\n",
      "Skew:                           0.536   Prob(JB):                    9.44e-193\n",
      "Kurtosis:                       6.635   Cond. No.                     4.87e+16\n",
      "==============================================================================\n",
      "\n",
      "Notes:\n",
      "[1] Standard Errors assume that the covariance matrix of the errors is correctly specified.\n",
      "[2] The smallest eigenvalue is 5.5e-29. This might indicate that there are\n",
      "strong multicollinearity problems or that the design matrix is singular.\n"
     ]
    }
   ],
   "source": [
    "# Runs a linear regression fit for immunity to one condition based on monster CR and type.\n",
    "import warnings\n",
    "warnings.filterwarnings('ignore')\n",
    "import statsmodels.api as sm\n",
    "from sklearn.linear_model import LinearRegression\n",
    "\n",
    "yCol = 'Poisoned'\n",
    "xCols = ['CR','Type']\n",
    "aCols = [yCol] + xCols\n",
    "df1 = df0[aCols]\n",
    "X = pd.get_dummies(data=df1[xCols], drop_first=False)\n",
    "Y = df1[yCol]\n",
    "\n",
    "model = LinearRegression()\n",
    "model.fit(X, Y)\n",
    "\n",
    "coeff_parameter = pd.DataFrame(model.coef_, X.columns, columns=['Coefficient'])\n",
    "\n",
    "# generate report\n",
    "X_Sm = sm.add_constant(X)\n",
    "ls = sm.OLS(Y, X_Sm).fit()\n",
    "print(ls.summary())"
   ]
  }
 ],
 "metadata": {
  "kernelspec": {
   "display_name": "thefinishedbook",
   "language": "python",
   "name": "python3"
  },
  "language_info": {
   "codemirror_mode": {
    "name": "ipython",
    "version": 3
   },
   "file_extension": ".py",
   "mimetype": "text/x-python",
   "name": "python",
   "nbconvert_exporter": "python",
   "pygments_lexer": "ipython3",
   "version": "3.10.5"
  },
  "orig_nbformat": 4,
  "vscode": {
   "interpreter": {
    "hash": "e4b90a08ac11b7f80ea6e39e6f46c6e22a0b6d86a47874aaa13784019f162251"
   }
  }
 },
 "nbformat": 4,
 "nbformat_minor": 2
}
