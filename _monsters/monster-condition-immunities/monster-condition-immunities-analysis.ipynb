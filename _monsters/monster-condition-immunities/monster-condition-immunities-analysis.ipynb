{
 "cells": [
  {
   "cell_type": "code",
   "execution_count": 8,
   "metadata": {},
   "outputs": [
    {
     "name": "stdout",
     "output_type": "stream",
     "text": [
      "Includes 1474 monsters in database\n"
     ]
    }
   ],
   "source": [
    "# Initialize notebook\n",
    "import pandas as pd\n",
    "import numpy as np\n",
    "from bs4 import BeautifulSoup\n",
    "from matplotlib import pyplot as plt\n",
    "from matplotlib.ticker import (MultipleLocator, FormatStrFormatter, AutoMinorLocator)\n",
    "\n",
    "METADATA = {'Contributor': 'T. Dunn'}\n",
    "FSIZE = [5,4]\n",
    "FDPI = 100\n",
    "SAVEFIGS = True\n",
    "\n",
    "df0 = pd.read_csv('monster-immunities.csv')\n",
    "df0 = df0.astype({'Book': 'category', 'Category': 'category', 'Legendary': 'category', 'Type': 'category', 'Size': 'category'})\n",
    "df0['All Conditions'] = df0['Blinded'] + df0['Charmed'] + df0['Deafened'] + df0['Exhaustion'] + df0['Frightened'] + df0['Grappled'] + df0['Incapacitated'] + df0['Invisible'] + df0['Paralyzed'] + df0['Petrified'] + df0['Poisoned'] + df0['Prone'] + df0['Restrained'] + df0['Stunned'] + df0['Unconscious']\n",
    "df0 = df0[df0['Category'].isin(['generic','legendary','unique'])]\n",
    "df0.drop_duplicates(inplace=True)\n",
    "print('Includes {} monsters in database'.format(len(df0.index.to_list())))\n",
    "\n",
    "CONDITIONS = ['Blinded','Charmed','Deafened','Exhaustion','Frightened',\n",
    "    'Grappled','Incapacitated','Invisible','Paralyzed','Petrified',\n",
    "    'Poisoned','Prone','Restrained','Stunned','Unconscious']\n",
    "CONDITION_COLORS = ['gold', 'red', 'green', 'orange', 'teal',\n",
    "    'purple', 'navy', 'maroon', 'olivedrab', 'orangered',\n",
    "    'blue', 'darkviolet', 'dodgerblue', 'brown', 'darkgreen']"
   ]
  },
  {
   "cell_type": "code",
   "execution_count": 9,
   "metadata": {},
   "outputs": [],
   "source": [
    "# Setup template and html config for plotly figures.\n",
    "import plotly.graph_objects as go\n",
    "\n",
    "TFB_TEMPLATE = dict(\n",
    "    layout=go.Layout(\n",
    "        template='plotly_white',\n",
    "        autosize=True, # must be True to auto-scale when resizing\n",
    "        margin=dict(l=50, r=25, b=40, t=20, pad=4),\n",
    "        font=dict(\n",
    "            family='sans-serif',\n",
    "            size=14\n",
    "        ),\n",
    "        hovermode='closest',\n",
    "        xaxis=dict(\n",
    "            autorange=False,\n",
    "            automargin=True,\n",
    "            fixedrange=True,\n",
    "            showline=True,\n",
    "            linecolor='#444',\n",
    "            linewidth=2,\n",
    "            mirror=True,\n",
    "            tickmode='linear',\n",
    "            ticks='outside',\n",
    "            minor=dict(\n",
    "                #showgrid=True,\n",
    "                tickmode='linear',\n",
    "                ticks='outside',\n",
    "            ),\n",
    "            zeroline=False,\n",
    "        ),\n",
    "        yaxis=dict(\n",
    "            autorange=False,\n",
    "            automargin=True,\n",
    "            fixedrange=True,\n",
    "            showline=True,\n",
    "            linecolor='#444',\n",
    "            linewidth=2,\n",
    "            mirror=True,\n",
    "            tickmode='linear',\n",
    "            ticks='outside',\n",
    "            minor=dict(\n",
    "                #showgrid=True,\n",
    "                tickmode='linear',\n",
    "                ticks='outside',\n",
    "            ),\n",
    "            zeroline=False,\n",
    "        ),\n",
    "        #legend=dict(font_size=10),\n",
    "    )\n",
    ")\n",
    "\n",
    "TFB_CONFIG = {\n",
    "    'responsive': True, # must be True to auto-scale when resizing\n",
    "    'autosizable': True, # doesn't impact auto rescaling\n",
    "    'showAxisDragHandles': False,\n",
    "    'displaylogo': False,\n",
    "    'displayModeBar': 'hover',\n",
    "    'modeBarButtonsToRemove': [\n",
    "        'select2d',\n",
    "        'lasso2d',\n",
    "        'zoom2d',\n",
    "        'zoomIn2d',\n",
    "        'zoomOut2d',\n",
    "        'pan2d',\n",
    "        'autoScale2d',\n",
    "        'hoverClosestCartesian',\n",
    "        'hoverCompareCartesian',\n",
    "        'toggleSpikelines',\n",
    "        'resetScale2d',\n",
    "    ],\n",
    "    'toImageButtonOptions': {\n",
    "        'format': 'png', # one of png, svg, jpeg, webp\n",
    "        'filename': 'tfb-plot',\n",
    "        'height': 450,\n",
    "        'width': 600,\n",
    "        'scale': 2\n",
    "    },\n",
    "}\n"
   ]
  },
  {
   "cell_type": "code",
   "execution_count": 10,
   "metadata": {},
   "outputs": [
    {
     "data": {
      "application/vnd.plotly.v1+json": {
       "config": {
        "autosizable": true,
        "displayModeBar": "hover",
        "displaylogo": false,
        "modeBarButtonsToRemove": [
         "select2d",
         "lasso2d",
         "zoom2d",
         "zoomIn2d",
         "zoomOut2d",
         "pan2d",
         "autoScale2d",
         "hoverClosestCartesian",
         "hoverCompareCartesian",
         "toggleSpikelines",
         "resetScale2d"
        ],
        "plotlyServerURL": "https://plot.ly",
        "responsive": true,
        "showAxisDragHandles": false,
        "toImageButtonOptions": {
         "filename": "tfb-plot",
         "format": "png",
         "height": 450,
         "scale": 2,
         "width": 600
        }
       },
       "data": [
        {
         "hovertemplate": "<b>Condition:</b> %{x}<br><b>Immune:</b> %{text}<extra></extra>",
         "marker": {
          "line": {
           "color": "Black",
           "width": 1
          },
          "size": 12
         },
         "mode": "markers",
         "text": [
          "6% (94 out of 1474)",
          "23% (346 out of 1474)",
          "5% (76 out of 1474)",
          "19% (274 out of 1474)",
          "24% (351 out of 1474)",
          "5% (70 out of 1474)",
          "0% (1 out of 1474)",
          "0% (0 out of 1474)",
          "14% (212 out of 1474)",
          "11% (158 out of 1474)",
          "29% (424 out of 1474)",
          "9% (134 out of 1474)",
          "5% (72 out of 1474)",
          "4% (54 out of 1474)",
          "2% (30 out of 1474)"
         ],
         "type": "scatter",
         "unselected": {
          "marker": {
           "opacity": 0
          }
         },
         "x": [
          "Blinded",
          "Charmed",
          "Deafened",
          "Exhaustion",
          "Frightened",
          "Grappled",
          "Incapacitated",
          "Invisible",
          "Paralyzed",
          "Petrified",
          "Poisoned",
          "Prone",
          "Restrained",
          "Stunned",
          "Unconscious"
         ],
         "y": [
          6.377204884667571,
          23.473541383989144,
          5.156037991858888,
          18.588873812754407,
          23.812754409769337,
          4.74898236092266,
          0.06784260515603799,
          0,
          14.382632293080055,
          10.719131614654003,
          28.76526458616011,
          9.090909090909092,
          4.884667571234735,
          3.6635006784260513,
          2.03527815468114
         ]
        }
       ],
       "layout": {
        "template": {
         "data": {
          "bar": [
           {
            "error_x": {
             "color": "#2a3f5f"
            },
            "error_y": {
             "color": "#2a3f5f"
            },
            "marker": {
             "line": {
              "color": "#E5ECF6",
              "width": 0.5
             },
             "pattern": {
              "fillmode": "overlay",
              "size": 10,
              "solidity": 0.2
             }
            },
            "type": "bar"
           }
          ],
          "barpolar": [
           {
            "marker": {
             "line": {
              "color": "#E5ECF6",
              "width": 0.5
             },
             "pattern": {
              "fillmode": "overlay",
              "size": 10,
              "solidity": 0.2
             }
            },
            "type": "barpolar"
           }
          ],
          "carpet": [
           {
            "aaxis": {
             "endlinecolor": "#2a3f5f",
             "gridcolor": "white",
             "linecolor": "white",
             "minorgridcolor": "white",
             "startlinecolor": "#2a3f5f"
            },
            "baxis": {
             "endlinecolor": "#2a3f5f",
             "gridcolor": "white",
             "linecolor": "white",
             "minorgridcolor": "white",
             "startlinecolor": "#2a3f5f"
            },
            "type": "carpet"
           }
          ],
          "choropleth": [
           {
            "colorbar": {
             "outlinewidth": 0,
             "ticks": ""
            },
            "type": "choropleth"
           }
          ],
          "contour": [
           {
            "colorbar": {
             "outlinewidth": 0,
             "ticks": ""
            },
            "colorscale": [
             [
              0,
              "#0d0887"
             ],
             [
              0.1111111111111111,
              "#46039f"
             ],
             [
              0.2222222222222222,
              "#7201a8"
             ],
             [
              0.3333333333333333,
              "#9c179e"
             ],
             [
              0.4444444444444444,
              "#bd3786"
             ],
             [
              0.5555555555555556,
              "#d8576b"
             ],
             [
              0.6666666666666666,
              "#ed7953"
             ],
             [
              0.7777777777777778,
              "#fb9f3a"
             ],
             [
              0.8888888888888888,
              "#fdca26"
             ],
             [
              1,
              "#f0f921"
             ]
            ],
            "type": "contour"
           }
          ],
          "contourcarpet": [
           {
            "colorbar": {
             "outlinewidth": 0,
             "ticks": ""
            },
            "type": "contourcarpet"
           }
          ],
          "heatmap": [
           {
            "colorbar": {
             "outlinewidth": 0,
             "ticks": ""
            },
            "colorscale": [
             [
              0,
              "#0d0887"
             ],
             [
              0.1111111111111111,
              "#46039f"
             ],
             [
              0.2222222222222222,
              "#7201a8"
             ],
             [
              0.3333333333333333,
              "#9c179e"
             ],
             [
              0.4444444444444444,
              "#bd3786"
             ],
             [
              0.5555555555555556,
              "#d8576b"
             ],
             [
              0.6666666666666666,
              "#ed7953"
             ],
             [
              0.7777777777777778,
              "#fb9f3a"
             ],
             [
              0.8888888888888888,
              "#fdca26"
             ],
             [
              1,
              "#f0f921"
             ]
            ],
            "type": "heatmap"
           }
          ],
          "heatmapgl": [
           {
            "colorbar": {
             "outlinewidth": 0,
             "ticks": ""
            },
            "colorscale": [
             [
              0,
              "#0d0887"
             ],
             [
              0.1111111111111111,
              "#46039f"
             ],
             [
              0.2222222222222222,
              "#7201a8"
             ],
             [
              0.3333333333333333,
              "#9c179e"
             ],
             [
              0.4444444444444444,
              "#bd3786"
             ],
             [
              0.5555555555555556,
              "#d8576b"
             ],
             [
              0.6666666666666666,
              "#ed7953"
             ],
             [
              0.7777777777777778,
              "#fb9f3a"
             ],
             [
              0.8888888888888888,
              "#fdca26"
             ],
             [
              1,
              "#f0f921"
             ]
            ],
            "type": "heatmapgl"
           }
          ],
          "histogram": [
           {
            "marker": {
             "pattern": {
              "fillmode": "overlay",
              "size": 10,
              "solidity": 0.2
             }
            },
            "type": "histogram"
           }
          ],
          "histogram2d": [
           {
            "colorbar": {
             "outlinewidth": 0,
             "ticks": ""
            },
            "colorscale": [
             [
              0,
              "#0d0887"
             ],
             [
              0.1111111111111111,
              "#46039f"
             ],
             [
              0.2222222222222222,
              "#7201a8"
             ],
             [
              0.3333333333333333,
              "#9c179e"
             ],
             [
              0.4444444444444444,
              "#bd3786"
             ],
             [
              0.5555555555555556,
              "#d8576b"
             ],
             [
              0.6666666666666666,
              "#ed7953"
             ],
             [
              0.7777777777777778,
              "#fb9f3a"
             ],
             [
              0.8888888888888888,
              "#fdca26"
             ],
             [
              1,
              "#f0f921"
             ]
            ],
            "type": "histogram2d"
           }
          ],
          "histogram2dcontour": [
           {
            "colorbar": {
             "outlinewidth": 0,
             "ticks": ""
            },
            "colorscale": [
             [
              0,
              "#0d0887"
             ],
             [
              0.1111111111111111,
              "#46039f"
             ],
             [
              0.2222222222222222,
              "#7201a8"
             ],
             [
              0.3333333333333333,
              "#9c179e"
             ],
             [
              0.4444444444444444,
              "#bd3786"
             ],
             [
              0.5555555555555556,
              "#d8576b"
             ],
             [
              0.6666666666666666,
              "#ed7953"
             ],
             [
              0.7777777777777778,
              "#fb9f3a"
             ],
             [
              0.8888888888888888,
              "#fdca26"
             ],
             [
              1,
              "#f0f921"
             ]
            ],
            "type": "histogram2dcontour"
           }
          ],
          "mesh3d": [
           {
            "colorbar": {
             "outlinewidth": 0,
             "ticks": ""
            },
            "type": "mesh3d"
           }
          ],
          "parcoords": [
           {
            "line": {
             "colorbar": {
              "outlinewidth": 0,
              "ticks": ""
             }
            },
            "type": "parcoords"
           }
          ],
          "pie": [
           {
            "automargin": true,
            "type": "pie"
           }
          ],
          "scatter": [
           {
            "fillpattern": {
             "fillmode": "overlay",
             "size": 10,
             "solidity": 0.2
            },
            "type": "scatter"
           }
          ],
          "scatter3d": [
           {
            "line": {
             "colorbar": {
              "outlinewidth": 0,
              "ticks": ""
             }
            },
            "marker": {
             "colorbar": {
              "outlinewidth": 0,
              "ticks": ""
             }
            },
            "type": "scatter3d"
           }
          ],
          "scattercarpet": [
           {
            "marker": {
             "colorbar": {
              "outlinewidth": 0,
              "ticks": ""
             }
            },
            "type": "scattercarpet"
           }
          ],
          "scattergeo": [
           {
            "marker": {
             "colorbar": {
              "outlinewidth": 0,
              "ticks": ""
             }
            },
            "type": "scattergeo"
           }
          ],
          "scattergl": [
           {
            "marker": {
             "colorbar": {
              "outlinewidth": 0,
              "ticks": ""
             }
            },
            "type": "scattergl"
           }
          ],
          "scattermapbox": [
           {
            "marker": {
             "colorbar": {
              "outlinewidth": 0,
              "ticks": ""
             }
            },
            "type": "scattermapbox"
           }
          ],
          "scatterpolar": [
           {
            "marker": {
             "colorbar": {
              "outlinewidth": 0,
              "ticks": ""
             }
            },
            "type": "scatterpolar"
           }
          ],
          "scatterpolargl": [
           {
            "marker": {
             "colorbar": {
              "outlinewidth": 0,
              "ticks": ""
             }
            },
            "type": "scatterpolargl"
           }
          ],
          "scatterternary": [
           {
            "marker": {
             "colorbar": {
              "outlinewidth": 0,
              "ticks": ""
             }
            },
            "type": "scatterternary"
           }
          ],
          "surface": [
           {
            "colorbar": {
             "outlinewidth": 0,
             "ticks": ""
            },
            "colorscale": [
             [
              0,
              "#0d0887"
             ],
             [
              0.1111111111111111,
              "#46039f"
             ],
             [
              0.2222222222222222,
              "#7201a8"
             ],
             [
              0.3333333333333333,
              "#9c179e"
             ],
             [
              0.4444444444444444,
              "#bd3786"
             ],
             [
              0.5555555555555556,
              "#d8576b"
             ],
             [
              0.6666666666666666,
              "#ed7953"
             ],
             [
              0.7777777777777778,
              "#fb9f3a"
             ],
             [
              0.8888888888888888,
              "#fdca26"
             ],
             [
              1,
              "#f0f921"
             ]
            ],
            "type": "surface"
           }
          ],
          "table": [
           {
            "cells": {
             "fill": {
              "color": "#EBF0F8"
             },
             "line": {
              "color": "white"
             }
            },
            "header": {
             "fill": {
              "color": "#C8D4E3"
             },
             "line": {
              "color": "white"
             }
            },
            "type": "table"
           }
          ]
         },
         "layout": {
          "autosize": true,
          "font": {
           "family": "sans-serif",
           "size": 14
          },
          "hovermode": "closest",
          "margin": {
           "b": 40,
           "l": 50,
           "pad": 4,
           "r": 25,
           "t": 20
          },
          "template": {
           "data": {
            "bar": [
             {
              "error_x": {
               "color": "#2a3f5f"
              },
              "error_y": {
               "color": "#2a3f5f"
              },
              "marker": {
               "line": {
                "color": "white",
                "width": 0.5
               },
               "pattern": {
                "fillmode": "overlay",
                "size": 10,
                "solidity": 0.2
               }
              },
              "type": "bar"
             }
            ],
            "barpolar": [
             {
              "marker": {
               "line": {
                "color": "white",
                "width": 0.5
               },
               "pattern": {
                "fillmode": "overlay",
                "size": 10,
                "solidity": 0.2
               }
              },
              "type": "barpolar"
             }
            ],
            "carpet": [
             {
              "aaxis": {
               "endlinecolor": "#2a3f5f",
               "gridcolor": "#C8D4E3",
               "linecolor": "#C8D4E3",
               "minorgridcolor": "#C8D4E3",
               "startlinecolor": "#2a3f5f"
              },
              "baxis": {
               "endlinecolor": "#2a3f5f",
               "gridcolor": "#C8D4E3",
               "linecolor": "#C8D4E3",
               "minorgridcolor": "#C8D4E3",
               "startlinecolor": "#2a3f5f"
              },
              "type": "carpet"
             }
            ],
            "choropleth": [
             {
              "colorbar": {
               "outlinewidth": 0,
               "ticks": ""
              },
              "type": "choropleth"
             }
            ],
            "contour": [
             {
              "colorbar": {
               "outlinewidth": 0,
               "ticks": ""
              },
              "colorscale": [
               [
                0,
                "#0d0887"
               ],
               [
                0.1111111111111111,
                "#46039f"
               ],
               [
                0.2222222222222222,
                "#7201a8"
               ],
               [
                0.3333333333333333,
                "#9c179e"
               ],
               [
                0.4444444444444444,
                "#bd3786"
               ],
               [
                0.5555555555555556,
                "#d8576b"
               ],
               [
                0.6666666666666666,
                "#ed7953"
               ],
               [
                0.7777777777777778,
                "#fb9f3a"
               ],
               [
                0.8888888888888888,
                "#fdca26"
               ],
               [
                1,
                "#f0f921"
               ]
              ],
              "type": "contour"
             }
            ],
            "contourcarpet": [
             {
              "colorbar": {
               "outlinewidth": 0,
               "ticks": ""
              },
              "type": "contourcarpet"
             }
            ],
            "heatmap": [
             {
              "colorbar": {
               "outlinewidth": 0,
               "ticks": ""
              },
              "colorscale": [
               [
                0,
                "#0d0887"
               ],
               [
                0.1111111111111111,
                "#46039f"
               ],
               [
                0.2222222222222222,
                "#7201a8"
               ],
               [
                0.3333333333333333,
                "#9c179e"
               ],
               [
                0.4444444444444444,
                "#bd3786"
               ],
               [
                0.5555555555555556,
                "#d8576b"
               ],
               [
                0.6666666666666666,
                "#ed7953"
               ],
               [
                0.7777777777777778,
                "#fb9f3a"
               ],
               [
                0.8888888888888888,
                "#fdca26"
               ],
               [
                1,
                "#f0f921"
               ]
              ],
              "type": "heatmap"
             }
            ],
            "heatmapgl": [
             {
              "colorbar": {
               "outlinewidth": 0,
               "ticks": ""
              },
              "colorscale": [
               [
                0,
                "#0d0887"
               ],
               [
                0.1111111111111111,
                "#46039f"
               ],
               [
                0.2222222222222222,
                "#7201a8"
               ],
               [
                0.3333333333333333,
                "#9c179e"
               ],
               [
                0.4444444444444444,
                "#bd3786"
               ],
               [
                0.5555555555555556,
                "#d8576b"
               ],
               [
                0.6666666666666666,
                "#ed7953"
               ],
               [
                0.7777777777777778,
                "#fb9f3a"
               ],
               [
                0.8888888888888888,
                "#fdca26"
               ],
               [
                1,
                "#f0f921"
               ]
              ],
              "type": "heatmapgl"
             }
            ],
            "histogram": [
             {
              "marker": {
               "pattern": {
                "fillmode": "overlay",
                "size": 10,
                "solidity": 0.2
               }
              },
              "type": "histogram"
             }
            ],
            "histogram2d": [
             {
              "colorbar": {
               "outlinewidth": 0,
               "ticks": ""
              },
              "colorscale": [
               [
                0,
                "#0d0887"
               ],
               [
                0.1111111111111111,
                "#46039f"
               ],
               [
                0.2222222222222222,
                "#7201a8"
               ],
               [
                0.3333333333333333,
                "#9c179e"
               ],
               [
                0.4444444444444444,
                "#bd3786"
               ],
               [
                0.5555555555555556,
                "#d8576b"
               ],
               [
                0.6666666666666666,
                "#ed7953"
               ],
               [
                0.7777777777777778,
                "#fb9f3a"
               ],
               [
                0.8888888888888888,
                "#fdca26"
               ],
               [
                1,
                "#f0f921"
               ]
              ],
              "type": "histogram2d"
             }
            ],
            "histogram2dcontour": [
             {
              "colorbar": {
               "outlinewidth": 0,
               "ticks": ""
              },
              "colorscale": [
               [
                0,
                "#0d0887"
               ],
               [
                0.1111111111111111,
                "#46039f"
               ],
               [
                0.2222222222222222,
                "#7201a8"
               ],
               [
                0.3333333333333333,
                "#9c179e"
               ],
               [
                0.4444444444444444,
                "#bd3786"
               ],
               [
                0.5555555555555556,
                "#d8576b"
               ],
               [
                0.6666666666666666,
                "#ed7953"
               ],
               [
                0.7777777777777778,
                "#fb9f3a"
               ],
               [
                0.8888888888888888,
                "#fdca26"
               ],
               [
                1,
                "#f0f921"
               ]
              ],
              "type": "histogram2dcontour"
             }
            ],
            "mesh3d": [
             {
              "colorbar": {
               "outlinewidth": 0,
               "ticks": ""
              },
              "type": "mesh3d"
             }
            ],
            "parcoords": [
             {
              "line": {
               "colorbar": {
                "outlinewidth": 0,
                "ticks": ""
               }
              },
              "type": "parcoords"
             }
            ],
            "pie": [
             {
              "automargin": true,
              "type": "pie"
             }
            ],
            "scatter": [
             {
              "fillpattern": {
               "fillmode": "overlay",
               "size": 10,
               "solidity": 0.2
              },
              "type": "scatter"
             }
            ],
            "scatter3d": [
             {
              "line": {
               "colorbar": {
                "outlinewidth": 0,
                "ticks": ""
               }
              },
              "marker": {
               "colorbar": {
                "outlinewidth": 0,
                "ticks": ""
               }
              },
              "type": "scatter3d"
             }
            ],
            "scattercarpet": [
             {
              "marker": {
               "colorbar": {
                "outlinewidth": 0,
                "ticks": ""
               }
              },
              "type": "scattercarpet"
             }
            ],
            "scattergeo": [
             {
              "marker": {
               "colorbar": {
                "outlinewidth": 0,
                "ticks": ""
               }
              },
              "type": "scattergeo"
             }
            ],
            "scattergl": [
             {
              "marker": {
               "colorbar": {
                "outlinewidth": 0,
                "ticks": ""
               }
              },
              "type": "scattergl"
             }
            ],
            "scattermapbox": [
             {
              "marker": {
               "colorbar": {
                "outlinewidth": 0,
                "ticks": ""
               }
              },
              "type": "scattermapbox"
             }
            ],
            "scatterpolar": [
             {
              "marker": {
               "colorbar": {
                "outlinewidth": 0,
                "ticks": ""
               }
              },
              "type": "scatterpolar"
             }
            ],
            "scatterpolargl": [
             {
              "marker": {
               "colorbar": {
                "outlinewidth": 0,
                "ticks": ""
               }
              },
              "type": "scatterpolargl"
             }
            ],
            "scatterternary": [
             {
              "marker": {
               "colorbar": {
                "outlinewidth": 0,
                "ticks": ""
               }
              },
              "type": "scatterternary"
             }
            ],
            "surface": [
             {
              "colorbar": {
               "outlinewidth": 0,
               "ticks": ""
              },
              "colorscale": [
               [
                0,
                "#0d0887"
               ],
               [
                0.1111111111111111,
                "#46039f"
               ],
               [
                0.2222222222222222,
                "#7201a8"
               ],
               [
                0.3333333333333333,
                "#9c179e"
               ],
               [
                0.4444444444444444,
                "#bd3786"
               ],
               [
                0.5555555555555556,
                "#d8576b"
               ],
               [
                0.6666666666666666,
                "#ed7953"
               ],
               [
                0.7777777777777778,
                "#fb9f3a"
               ],
               [
                0.8888888888888888,
                "#fdca26"
               ],
               [
                1,
                "#f0f921"
               ]
              ],
              "type": "surface"
             }
            ],
            "table": [
             {
              "cells": {
               "fill": {
                "color": "#EBF0F8"
               },
               "line": {
                "color": "white"
               }
              },
              "header": {
               "fill": {
                "color": "#C8D4E3"
               },
               "line": {
                "color": "white"
               }
              },
              "type": "table"
             }
            ]
           },
           "layout": {
            "annotationdefaults": {
             "arrowcolor": "#2a3f5f",
             "arrowhead": 0,
             "arrowwidth": 1
            },
            "autotypenumbers": "strict",
            "coloraxis": {
             "colorbar": {
              "outlinewidth": 0,
              "ticks": ""
             }
            },
            "colorscale": {
             "diverging": [
              [
               0,
               "#8e0152"
              ],
              [
               0.1,
               "#c51b7d"
              ],
              [
               0.2,
               "#de77ae"
              ],
              [
               0.3,
               "#f1b6da"
              ],
              [
               0.4,
               "#fde0ef"
              ],
              [
               0.5,
               "#f7f7f7"
              ],
              [
               0.6,
               "#e6f5d0"
              ],
              [
               0.7,
               "#b8e186"
              ],
              [
               0.8,
               "#7fbc41"
              ],
              [
               0.9,
               "#4d9221"
              ],
              [
               1,
               "#276419"
              ]
             ],
             "sequential": [
              [
               0,
               "#0d0887"
              ],
              [
               0.1111111111111111,
               "#46039f"
              ],
              [
               0.2222222222222222,
               "#7201a8"
              ],
              [
               0.3333333333333333,
               "#9c179e"
              ],
              [
               0.4444444444444444,
               "#bd3786"
              ],
              [
               0.5555555555555556,
               "#d8576b"
              ],
              [
               0.6666666666666666,
               "#ed7953"
              ],
              [
               0.7777777777777778,
               "#fb9f3a"
              ],
              [
               0.8888888888888888,
               "#fdca26"
              ],
              [
               1,
               "#f0f921"
              ]
             ],
             "sequentialminus": [
              [
               0,
               "#0d0887"
              ],
              [
               0.1111111111111111,
               "#46039f"
              ],
              [
               0.2222222222222222,
               "#7201a8"
              ],
              [
               0.3333333333333333,
               "#9c179e"
              ],
              [
               0.4444444444444444,
               "#bd3786"
              ],
              [
               0.5555555555555556,
               "#d8576b"
              ],
              [
               0.6666666666666666,
               "#ed7953"
              ],
              [
               0.7777777777777778,
               "#fb9f3a"
              ],
              [
               0.8888888888888888,
               "#fdca26"
              ],
              [
               1,
               "#f0f921"
              ]
             ]
            },
            "colorway": [
             "#636efa",
             "#EF553B",
             "#00cc96",
             "#ab63fa",
             "#FFA15A",
             "#19d3f3",
             "#FF6692",
             "#B6E880",
             "#FF97FF",
             "#FECB52"
            ],
            "font": {
             "color": "#2a3f5f"
            },
            "geo": {
             "bgcolor": "white",
             "lakecolor": "white",
             "landcolor": "white",
             "showlakes": true,
             "showland": true,
             "subunitcolor": "#C8D4E3"
            },
            "hoverlabel": {
             "align": "left"
            },
            "hovermode": "closest",
            "mapbox": {
             "style": "light"
            },
            "paper_bgcolor": "white",
            "plot_bgcolor": "white",
            "polar": {
             "angularaxis": {
              "gridcolor": "#EBF0F8",
              "linecolor": "#EBF0F8",
              "ticks": ""
             },
             "bgcolor": "white",
             "radialaxis": {
              "gridcolor": "#EBF0F8",
              "linecolor": "#EBF0F8",
              "ticks": ""
             }
            },
            "scene": {
             "xaxis": {
              "backgroundcolor": "white",
              "gridcolor": "#DFE8F3",
              "gridwidth": 2,
              "linecolor": "#EBF0F8",
              "showbackground": true,
              "ticks": "",
              "zerolinecolor": "#EBF0F8"
             },
             "yaxis": {
              "backgroundcolor": "white",
              "gridcolor": "#DFE8F3",
              "gridwidth": 2,
              "linecolor": "#EBF0F8",
              "showbackground": true,
              "ticks": "",
              "zerolinecolor": "#EBF0F8"
             },
             "zaxis": {
              "backgroundcolor": "white",
              "gridcolor": "#DFE8F3",
              "gridwidth": 2,
              "linecolor": "#EBF0F8",
              "showbackground": true,
              "ticks": "",
              "zerolinecolor": "#EBF0F8"
             }
            },
            "shapedefaults": {
             "line": {
              "color": "#2a3f5f"
             }
            },
            "ternary": {
             "aaxis": {
              "gridcolor": "#DFE8F3",
              "linecolor": "#A2B1C6",
              "ticks": ""
             },
             "baxis": {
              "gridcolor": "#DFE8F3",
              "linecolor": "#A2B1C6",
              "ticks": ""
             },
             "bgcolor": "white",
             "caxis": {
              "gridcolor": "#DFE8F3",
              "linecolor": "#A2B1C6",
              "ticks": ""
             }
            },
            "title": {
             "x": 0.05
            },
            "xaxis": {
             "automargin": true,
             "gridcolor": "#EBF0F8",
             "linecolor": "#EBF0F8",
             "ticks": "",
             "title": {
              "standoff": 15
             },
             "zerolinecolor": "#EBF0F8",
             "zerolinewidth": 2
            },
            "yaxis": {
             "automargin": true,
             "gridcolor": "#EBF0F8",
             "linecolor": "#EBF0F8",
             "ticks": "",
             "title": {
              "standoff": 15
             },
             "zerolinecolor": "#EBF0F8",
             "zerolinewidth": 2
            }
           }
          },
          "xaxis": {
           "automargin": true,
           "autorange": false,
           "fixedrange": true,
           "linecolor": "#444",
           "linewidth": 2,
           "minor": {
            "tickmode": "linear",
            "ticks": "outside"
           },
           "mirror": true,
           "showline": true,
           "tickmode": "linear",
           "ticks": "outside",
           "zeroline": false
          },
          "yaxis": {
           "automargin": true,
           "autorange": false,
           "fixedrange": true,
           "linecolor": "#444",
           "linewidth": 2,
           "minor": {
            "tickmode": "linear",
            "ticks": "outside"
           },
           "mirror": true,
           "showline": true,
           "tickmode": "linear",
           "ticks": "outside",
           "zeroline": false
          }
         }
        },
        "xaxis": {
         "range": [
          -0.5,
          14.5
         ]
        },
        "yaxis": {
         "dtick": 5,
         "minor": {
          "dtick": 2.5,
          "tick0": 0
         },
         "range": [
          -1,
          30
         ],
         "tick0": 0,
         "title": {
          "text": "percent immune"
         }
        }
       }
      }
     },
     "metadata": {},
     "output_type": "display_data"
    },
    {
     "data": {
      "application/vnd.plotly.v1+json": {
       "config": {
        "autosizable": true,
        "displayModeBar": "hover",
        "displaylogo": false,
        "modeBarButtonsToRemove": [
         "select2d",
         "lasso2d",
         "zoom2d",
         "zoomIn2d",
         "zoomOut2d",
         "pan2d",
         "autoScale2d",
         "hoverClosestCartesian",
         "hoverCompareCartesian",
         "toggleSpikelines",
         "resetScale2d"
        ],
        "plotlyServerURL": "https://plot.ly",
        "responsive": true,
        "showAxisDragHandles": false,
        "toImageButtonOptions": {
         "filename": "tfb-plot",
         "format": "png",
         "height": 450,
         "scale": 2,
         "width": 600
        }
       },
       "data": [
        {
         "hovertemplate": "<b>Condition:</b> %{x}<br><b>Immune:</b> %{text}<extra></extra>",
         "marker": {
          "line": {
           "color": "Black",
           "width": 1
          },
          "size": 8
         },
         "mode": "markers",
         "text": [
          "6% (94 out of 1474)",
          "23% (346 out of 1474)",
          "5% (76 out of 1474)",
          "19% (274 out of 1474)",
          "24% (351 out of 1474)",
          "5% (70 out of 1474)",
          "0% (1 out of 1474)",
          "0% (0 out of 1474)",
          "14% (212 out of 1474)",
          "11% (158 out of 1474)",
          "29% (424 out of 1474)",
          "9% (134 out of 1474)",
          "5% (72 out of 1474)",
          "4% (54 out of 1474)",
          "2% (30 out of 1474)"
         ],
         "type": "scatter",
         "unselected": {
          "marker": {
           "opacity": 0
          }
         },
         "x": [
          "Blinded",
          "Charmed",
          "Deafened",
          "Exhaustion",
          "Frightened",
          "Grappled",
          "Incapacitated",
          "Invisible",
          "Paralyzed",
          "Petrified",
          "Poisoned",
          "Prone",
          "Restrained",
          "Stunned",
          "Unconscious"
         ],
         "y": [
          6.377204884667571,
          23.473541383989144,
          5.156037991858888,
          18.588873812754407,
          23.812754409769337,
          4.74898236092266,
          0.06784260515603799,
          0,
          14.382632293080055,
          10.719131614654003,
          28.76526458616011,
          9.090909090909092,
          4.884667571234735,
          3.6635006784260513,
          2.03527815468114
         ]
        }
       ],
       "layout": {
        "font": {
         "size": 10
        },
        "template": {
         "data": {
          "bar": [
           {
            "error_x": {
             "color": "#2a3f5f"
            },
            "error_y": {
             "color": "#2a3f5f"
            },
            "marker": {
             "line": {
              "color": "#E5ECF6",
              "width": 0.5
             },
             "pattern": {
              "fillmode": "overlay",
              "size": 10,
              "solidity": 0.2
             }
            },
            "type": "bar"
           }
          ],
          "barpolar": [
           {
            "marker": {
             "line": {
              "color": "#E5ECF6",
              "width": 0.5
             },
             "pattern": {
              "fillmode": "overlay",
              "size": 10,
              "solidity": 0.2
             }
            },
            "type": "barpolar"
           }
          ],
          "carpet": [
           {
            "aaxis": {
             "endlinecolor": "#2a3f5f",
             "gridcolor": "white",
             "linecolor": "white",
             "minorgridcolor": "white",
             "startlinecolor": "#2a3f5f"
            },
            "baxis": {
             "endlinecolor": "#2a3f5f",
             "gridcolor": "white",
             "linecolor": "white",
             "minorgridcolor": "white",
             "startlinecolor": "#2a3f5f"
            },
            "type": "carpet"
           }
          ],
          "choropleth": [
           {
            "colorbar": {
             "outlinewidth": 0,
             "ticks": ""
            },
            "type": "choropleth"
           }
          ],
          "contour": [
           {
            "colorbar": {
             "outlinewidth": 0,
             "ticks": ""
            },
            "colorscale": [
             [
              0,
              "#0d0887"
             ],
             [
              0.1111111111111111,
              "#46039f"
             ],
             [
              0.2222222222222222,
              "#7201a8"
             ],
             [
              0.3333333333333333,
              "#9c179e"
             ],
             [
              0.4444444444444444,
              "#bd3786"
             ],
             [
              0.5555555555555556,
              "#d8576b"
             ],
             [
              0.6666666666666666,
              "#ed7953"
             ],
             [
              0.7777777777777778,
              "#fb9f3a"
             ],
             [
              0.8888888888888888,
              "#fdca26"
             ],
             [
              1,
              "#f0f921"
             ]
            ],
            "type": "contour"
           }
          ],
          "contourcarpet": [
           {
            "colorbar": {
             "outlinewidth": 0,
             "ticks": ""
            },
            "type": "contourcarpet"
           }
          ],
          "heatmap": [
           {
            "colorbar": {
             "outlinewidth": 0,
             "ticks": ""
            },
            "colorscale": [
             [
              0,
              "#0d0887"
             ],
             [
              0.1111111111111111,
              "#46039f"
             ],
             [
              0.2222222222222222,
              "#7201a8"
             ],
             [
              0.3333333333333333,
              "#9c179e"
             ],
             [
              0.4444444444444444,
              "#bd3786"
             ],
             [
              0.5555555555555556,
              "#d8576b"
             ],
             [
              0.6666666666666666,
              "#ed7953"
             ],
             [
              0.7777777777777778,
              "#fb9f3a"
             ],
             [
              0.8888888888888888,
              "#fdca26"
             ],
             [
              1,
              "#f0f921"
             ]
            ],
            "type": "heatmap"
           }
          ],
          "heatmapgl": [
           {
            "colorbar": {
             "outlinewidth": 0,
             "ticks": ""
            },
            "colorscale": [
             [
              0,
              "#0d0887"
             ],
             [
              0.1111111111111111,
              "#46039f"
             ],
             [
              0.2222222222222222,
              "#7201a8"
             ],
             [
              0.3333333333333333,
              "#9c179e"
             ],
             [
              0.4444444444444444,
              "#bd3786"
             ],
             [
              0.5555555555555556,
              "#d8576b"
             ],
             [
              0.6666666666666666,
              "#ed7953"
             ],
             [
              0.7777777777777778,
              "#fb9f3a"
             ],
             [
              0.8888888888888888,
              "#fdca26"
             ],
             [
              1,
              "#f0f921"
             ]
            ],
            "type": "heatmapgl"
           }
          ],
          "histogram": [
           {
            "marker": {
             "pattern": {
              "fillmode": "overlay",
              "size": 10,
              "solidity": 0.2
             }
            },
            "type": "histogram"
           }
          ],
          "histogram2d": [
           {
            "colorbar": {
             "outlinewidth": 0,
             "ticks": ""
            },
            "colorscale": [
             [
              0,
              "#0d0887"
             ],
             [
              0.1111111111111111,
              "#46039f"
             ],
             [
              0.2222222222222222,
              "#7201a8"
             ],
             [
              0.3333333333333333,
              "#9c179e"
             ],
             [
              0.4444444444444444,
              "#bd3786"
             ],
             [
              0.5555555555555556,
              "#d8576b"
             ],
             [
              0.6666666666666666,
              "#ed7953"
             ],
             [
              0.7777777777777778,
              "#fb9f3a"
             ],
             [
              0.8888888888888888,
              "#fdca26"
             ],
             [
              1,
              "#f0f921"
             ]
            ],
            "type": "histogram2d"
           }
          ],
          "histogram2dcontour": [
           {
            "colorbar": {
             "outlinewidth": 0,
             "ticks": ""
            },
            "colorscale": [
             [
              0,
              "#0d0887"
             ],
             [
              0.1111111111111111,
              "#46039f"
             ],
             [
              0.2222222222222222,
              "#7201a8"
             ],
             [
              0.3333333333333333,
              "#9c179e"
             ],
             [
              0.4444444444444444,
              "#bd3786"
             ],
             [
              0.5555555555555556,
              "#d8576b"
             ],
             [
              0.6666666666666666,
              "#ed7953"
             ],
             [
              0.7777777777777778,
              "#fb9f3a"
             ],
             [
              0.8888888888888888,
              "#fdca26"
             ],
             [
              1,
              "#f0f921"
             ]
            ],
            "type": "histogram2dcontour"
           }
          ],
          "mesh3d": [
           {
            "colorbar": {
             "outlinewidth": 0,
             "ticks": ""
            },
            "type": "mesh3d"
           }
          ],
          "parcoords": [
           {
            "line": {
             "colorbar": {
              "outlinewidth": 0,
              "ticks": ""
             }
            },
            "type": "parcoords"
           }
          ],
          "pie": [
           {
            "automargin": true,
            "type": "pie"
           }
          ],
          "scatter": [
           {
            "fillpattern": {
             "fillmode": "overlay",
             "size": 10,
             "solidity": 0.2
            },
            "type": "scatter"
           }
          ],
          "scatter3d": [
           {
            "line": {
             "colorbar": {
              "outlinewidth": 0,
              "ticks": ""
             }
            },
            "marker": {
             "colorbar": {
              "outlinewidth": 0,
              "ticks": ""
             }
            },
            "type": "scatter3d"
           }
          ],
          "scattercarpet": [
           {
            "marker": {
             "colorbar": {
              "outlinewidth": 0,
              "ticks": ""
             }
            },
            "type": "scattercarpet"
           }
          ],
          "scattergeo": [
           {
            "marker": {
             "colorbar": {
              "outlinewidth": 0,
              "ticks": ""
             }
            },
            "type": "scattergeo"
           }
          ],
          "scattergl": [
           {
            "marker": {
             "colorbar": {
              "outlinewidth": 0,
              "ticks": ""
             }
            },
            "type": "scattergl"
           }
          ],
          "scattermapbox": [
           {
            "marker": {
             "colorbar": {
              "outlinewidth": 0,
              "ticks": ""
             }
            },
            "type": "scattermapbox"
           }
          ],
          "scatterpolar": [
           {
            "marker": {
             "colorbar": {
              "outlinewidth": 0,
              "ticks": ""
             }
            },
            "type": "scatterpolar"
           }
          ],
          "scatterpolargl": [
           {
            "marker": {
             "colorbar": {
              "outlinewidth": 0,
              "ticks": ""
             }
            },
            "type": "scatterpolargl"
           }
          ],
          "scatterternary": [
           {
            "marker": {
             "colorbar": {
              "outlinewidth": 0,
              "ticks": ""
             }
            },
            "type": "scatterternary"
           }
          ],
          "surface": [
           {
            "colorbar": {
             "outlinewidth": 0,
             "ticks": ""
            },
            "colorscale": [
             [
              0,
              "#0d0887"
             ],
             [
              0.1111111111111111,
              "#46039f"
             ],
             [
              0.2222222222222222,
              "#7201a8"
             ],
             [
              0.3333333333333333,
              "#9c179e"
             ],
             [
              0.4444444444444444,
              "#bd3786"
             ],
             [
              0.5555555555555556,
              "#d8576b"
             ],
             [
              0.6666666666666666,
              "#ed7953"
             ],
             [
              0.7777777777777778,
              "#fb9f3a"
             ],
             [
              0.8888888888888888,
              "#fdca26"
             ],
             [
              1,
              "#f0f921"
             ]
            ],
            "type": "surface"
           }
          ],
          "table": [
           {
            "cells": {
             "fill": {
              "color": "#EBF0F8"
             },
             "line": {
              "color": "white"
             }
            },
            "header": {
             "fill": {
              "color": "#C8D4E3"
             },
             "line": {
              "color": "white"
             }
            },
            "type": "table"
           }
          ]
         },
         "layout": {
          "autosize": true,
          "font": {
           "family": "sans-serif",
           "size": 14
          },
          "hovermode": "closest",
          "margin": {
           "b": 40,
           "l": 50,
           "pad": 4,
           "r": 25,
           "t": 20
          },
          "template": {
           "data": {
            "bar": [
             {
              "error_x": {
               "color": "#2a3f5f"
              },
              "error_y": {
               "color": "#2a3f5f"
              },
              "marker": {
               "line": {
                "color": "white",
                "width": 0.5
               },
               "pattern": {
                "fillmode": "overlay",
                "size": 10,
                "solidity": 0.2
               }
              },
              "type": "bar"
             }
            ],
            "barpolar": [
             {
              "marker": {
               "line": {
                "color": "white",
                "width": 0.5
               },
               "pattern": {
                "fillmode": "overlay",
                "size": 10,
                "solidity": 0.2
               }
              },
              "type": "barpolar"
             }
            ],
            "carpet": [
             {
              "aaxis": {
               "endlinecolor": "#2a3f5f",
               "gridcolor": "#C8D4E3",
               "linecolor": "#C8D4E3",
               "minorgridcolor": "#C8D4E3",
               "startlinecolor": "#2a3f5f"
              },
              "baxis": {
               "endlinecolor": "#2a3f5f",
               "gridcolor": "#C8D4E3",
               "linecolor": "#C8D4E3",
               "minorgridcolor": "#C8D4E3",
               "startlinecolor": "#2a3f5f"
              },
              "type": "carpet"
             }
            ],
            "choropleth": [
             {
              "colorbar": {
               "outlinewidth": 0,
               "ticks": ""
              },
              "type": "choropleth"
             }
            ],
            "contour": [
             {
              "colorbar": {
               "outlinewidth": 0,
               "ticks": ""
              },
              "colorscale": [
               [
                0,
                "#0d0887"
               ],
               [
                0.1111111111111111,
                "#46039f"
               ],
               [
                0.2222222222222222,
                "#7201a8"
               ],
               [
                0.3333333333333333,
                "#9c179e"
               ],
               [
                0.4444444444444444,
                "#bd3786"
               ],
               [
                0.5555555555555556,
                "#d8576b"
               ],
               [
                0.6666666666666666,
                "#ed7953"
               ],
               [
                0.7777777777777778,
                "#fb9f3a"
               ],
               [
                0.8888888888888888,
                "#fdca26"
               ],
               [
                1,
                "#f0f921"
               ]
              ],
              "type": "contour"
             }
            ],
            "contourcarpet": [
             {
              "colorbar": {
               "outlinewidth": 0,
               "ticks": ""
              },
              "type": "contourcarpet"
             }
            ],
            "heatmap": [
             {
              "colorbar": {
               "outlinewidth": 0,
               "ticks": ""
              },
              "colorscale": [
               [
                0,
                "#0d0887"
               ],
               [
                0.1111111111111111,
                "#46039f"
               ],
               [
                0.2222222222222222,
                "#7201a8"
               ],
               [
                0.3333333333333333,
                "#9c179e"
               ],
               [
                0.4444444444444444,
                "#bd3786"
               ],
               [
                0.5555555555555556,
                "#d8576b"
               ],
               [
                0.6666666666666666,
                "#ed7953"
               ],
               [
                0.7777777777777778,
                "#fb9f3a"
               ],
               [
                0.8888888888888888,
                "#fdca26"
               ],
               [
                1,
                "#f0f921"
               ]
              ],
              "type": "heatmap"
             }
            ],
            "heatmapgl": [
             {
              "colorbar": {
               "outlinewidth": 0,
               "ticks": ""
              },
              "colorscale": [
               [
                0,
                "#0d0887"
               ],
               [
                0.1111111111111111,
                "#46039f"
               ],
               [
                0.2222222222222222,
                "#7201a8"
               ],
               [
                0.3333333333333333,
                "#9c179e"
               ],
               [
                0.4444444444444444,
                "#bd3786"
               ],
               [
                0.5555555555555556,
                "#d8576b"
               ],
               [
                0.6666666666666666,
                "#ed7953"
               ],
               [
                0.7777777777777778,
                "#fb9f3a"
               ],
               [
                0.8888888888888888,
                "#fdca26"
               ],
               [
                1,
                "#f0f921"
               ]
              ],
              "type": "heatmapgl"
             }
            ],
            "histogram": [
             {
              "marker": {
               "pattern": {
                "fillmode": "overlay",
                "size": 10,
                "solidity": 0.2
               }
              },
              "type": "histogram"
             }
            ],
            "histogram2d": [
             {
              "colorbar": {
               "outlinewidth": 0,
               "ticks": ""
              },
              "colorscale": [
               [
                0,
                "#0d0887"
               ],
               [
                0.1111111111111111,
                "#46039f"
               ],
               [
                0.2222222222222222,
                "#7201a8"
               ],
               [
                0.3333333333333333,
                "#9c179e"
               ],
               [
                0.4444444444444444,
                "#bd3786"
               ],
               [
                0.5555555555555556,
                "#d8576b"
               ],
               [
                0.6666666666666666,
                "#ed7953"
               ],
               [
                0.7777777777777778,
                "#fb9f3a"
               ],
               [
                0.8888888888888888,
                "#fdca26"
               ],
               [
                1,
                "#f0f921"
               ]
              ],
              "type": "histogram2d"
             }
            ],
            "histogram2dcontour": [
             {
              "colorbar": {
               "outlinewidth": 0,
               "ticks": ""
              },
              "colorscale": [
               [
                0,
                "#0d0887"
               ],
               [
                0.1111111111111111,
                "#46039f"
               ],
               [
                0.2222222222222222,
                "#7201a8"
               ],
               [
                0.3333333333333333,
                "#9c179e"
               ],
               [
                0.4444444444444444,
                "#bd3786"
               ],
               [
                0.5555555555555556,
                "#d8576b"
               ],
               [
                0.6666666666666666,
                "#ed7953"
               ],
               [
                0.7777777777777778,
                "#fb9f3a"
               ],
               [
                0.8888888888888888,
                "#fdca26"
               ],
               [
                1,
                "#f0f921"
               ]
              ],
              "type": "histogram2dcontour"
             }
            ],
            "mesh3d": [
             {
              "colorbar": {
               "outlinewidth": 0,
               "ticks": ""
              },
              "type": "mesh3d"
             }
            ],
            "parcoords": [
             {
              "line": {
               "colorbar": {
                "outlinewidth": 0,
                "ticks": ""
               }
              },
              "type": "parcoords"
             }
            ],
            "pie": [
             {
              "automargin": true,
              "type": "pie"
             }
            ],
            "scatter": [
             {
              "fillpattern": {
               "fillmode": "overlay",
               "size": 10,
               "solidity": 0.2
              },
              "type": "scatter"
             }
            ],
            "scatter3d": [
             {
              "line": {
               "colorbar": {
                "outlinewidth": 0,
                "ticks": ""
               }
              },
              "marker": {
               "colorbar": {
                "outlinewidth": 0,
                "ticks": ""
               }
              },
              "type": "scatter3d"
             }
            ],
            "scattercarpet": [
             {
              "marker": {
               "colorbar": {
                "outlinewidth": 0,
                "ticks": ""
               }
              },
              "type": "scattercarpet"
             }
            ],
            "scattergeo": [
             {
              "marker": {
               "colorbar": {
                "outlinewidth": 0,
                "ticks": ""
               }
              },
              "type": "scattergeo"
             }
            ],
            "scattergl": [
             {
              "marker": {
               "colorbar": {
                "outlinewidth": 0,
                "ticks": ""
               }
              },
              "type": "scattergl"
             }
            ],
            "scattermapbox": [
             {
              "marker": {
               "colorbar": {
                "outlinewidth": 0,
                "ticks": ""
               }
              },
              "type": "scattermapbox"
             }
            ],
            "scatterpolar": [
             {
              "marker": {
               "colorbar": {
                "outlinewidth": 0,
                "ticks": ""
               }
              },
              "type": "scatterpolar"
             }
            ],
            "scatterpolargl": [
             {
              "marker": {
               "colorbar": {
                "outlinewidth": 0,
                "ticks": ""
               }
              },
              "type": "scatterpolargl"
             }
            ],
            "scatterternary": [
             {
              "marker": {
               "colorbar": {
                "outlinewidth": 0,
                "ticks": ""
               }
              },
              "type": "scatterternary"
             }
            ],
            "surface": [
             {
              "colorbar": {
               "outlinewidth": 0,
               "ticks": ""
              },
              "colorscale": [
               [
                0,
                "#0d0887"
               ],
               [
                0.1111111111111111,
                "#46039f"
               ],
               [
                0.2222222222222222,
                "#7201a8"
               ],
               [
                0.3333333333333333,
                "#9c179e"
               ],
               [
                0.4444444444444444,
                "#bd3786"
               ],
               [
                0.5555555555555556,
                "#d8576b"
               ],
               [
                0.6666666666666666,
                "#ed7953"
               ],
               [
                0.7777777777777778,
                "#fb9f3a"
               ],
               [
                0.8888888888888888,
                "#fdca26"
               ],
               [
                1,
                "#f0f921"
               ]
              ],
              "type": "surface"
             }
            ],
            "table": [
             {
              "cells": {
               "fill": {
                "color": "#EBF0F8"
               },
               "line": {
                "color": "white"
               }
              },
              "header": {
               "fill": {
                "color": "#C8D4E3"
               },
               "line": {
                "color": "white"
               }
              },
              "type": "table"
             }
            ]
           },
           "layout": {
            "annotationdefaults": {
             "arrowcolor": "#2a3f5f",
             "arrowhead": 0,
             "arrowwidth": 1
            },
            "autotypenumbers": "strict",
            "coloraxis": {
             "colorbar": {
              "outlinewidth": 0,
              "ticks": ""
             }
            },
            "colorscale": {
             "diverging": [
              [
               0,
               "#8e0152"
              ],
              [
               0.1,
               "#c51b7d"
              ],
              [
               0.2,
               "#de77ae"
              ],
              [
               0.3,
               "#f1b6da"
              ],
              [
               0.4,
               "#fde0ef"
              ],
              [
               0.5,
               "#f7f7f7"
              ],
              [
               0.6,
               "#e6f5d0"
              ],
              [
               0.7,
               "#b8e186"
              ],
              [
               0.8,
               "#7fbc41"
              ],
              [
               0.9,
               "#4d9221"
              ],
              [
               1,
               "#276419"
              ]
             ],
             "sequential": [
              [
               0,
               "#0d0887"
              ],
              [
               0.1111111111111111,
               "#46039f"
              ],
              [
               0.2222222222222222,
               "#7201a8"
              ],
              [
               0.3333333333333333,
               "#9c179e"
              ],
              [
               0.4444444444444444,
               "#bd3786"
              ],
              [
               0.5555555555555556,
               "#d8576b"
              ],
              [
               0.6666666666666666,
               "#ed7953"
              ],
              [
               0.7777777777777778,
               "#fb9f3a"
              ],
              [
               0.8888888888888888,
               "#fdca26"
              ],
              [
               1,
               "#f0f921"
              ]
             ],
             "sequentialminus": [
              [
               0,
               "#0d0887"
              ],
              [
               0.1111111111111111,
               "#46039f"
              ],
              [
               0.2222222222222222,
               "#7201a8"
              ],
              [
               0.3333333333333333,
               "#9c179e"
              ],
              [
               0.4444444444444444,
               "#bd3786"
              ],
              [
               0.5555555555555556,
               "#d8576b"
              ],
              [
               0.6666666666666666,
               "#ed7953"
              ],
              [
               0.7777777777777778,
               "#fb9f3a"
              ],
              [
               0.8888888888888888,
               "#fdca26"
              ],
              [
               1,
               "#f0f921"
              ]
             ]
            },
            "colorway": [
             "#636efa",
             "#EF553B",
             "#00cc96",
             "#ab63fa",
             "#FFA15A",
             "#19d3f3",
             "#FF6692",
             "#B6E880",
             "#FF97FF",
             "#FECB52"
            ],
            "font": {
             "color": "#2a3f5f"
            },
            "geo": {
             "bgcolor": "white",
             "lakecolor": "white",
             "landcolor": "white",
             "showlakes": true,
             "showland": true,
             "subunitcolor": "#C8D4E3"
            },
            "hoverlabel": {
             "align": "left"
            },
            "hovermode": "closest",
            "mapbox": {
             "style": "light"
            },
            "paper_bgcolor": "white",
            "plot_bgcolor": "white",
            "polar": {
             "angularaxis": {
              "gridcolor": "#EBF0F8",
              "linecolor": "#EBF0F8",
              "ticks": ""
             },
             "bgcolor": "white",
             "radialaxis": {
              "gridcolor": "#EBF0F8",
              "linecolor": "#EBF0F8",
              "ticks": ""
             }
            },
            "scene": {
             "xaxis": {
              "backgroundcolor": "white",
              "gridcolor": "#DFE8F3",
              "gridwidth": 2,
              "linecolor": "#EBF0F8",
              "showbackground": true,
              "ticks": "",
              "zerolinecolor": "#EBF0F8"
             },
             "yaxis": {
              "backgroundcolor": "white",
              "gridcolor": "#DFE8F3",
              "gridwidth": 2,
              "linecolor": "#EBF0F8",
              "showbackground": true,
              "ticks": "",
              "zerolinecolor": "#EBF0F8"
             },
             "zaxis": {
              "backgroundcolor": "white",
              "gridcolor": "#DFE8F3",
              "gridwidth": 2,
              "linecolor": "#EBF0F8",
              "showbackground": true,
              "ticks": "",
              "zerolinecolor": "#EBF0F8"
             }
            },
            "shapedefaults": {
             "line": {
              "color": "#2a3f5f"
             }
            },
            "ternary": {
             "aaxis": {
              "gridcolor": "#DFE8F3",
              "linecolor": "#A2B1C6",
              "ticks": ""
             },
             "baxis": {
              "gridcolor": "#DFE8F3",
              "linecolor": "#A2B1C6",
              "ticks": ""
             },
             "bgcolor": "white",
             "caxis": {
              "gridcolor": "#DFE8F3",
              "linecolor": "#A2B1C6",
              "ticks": ""
             }
            },
            "title": {
             "x": 0.05
            },
            "xaxis": {
             "automargin": true,
             "gridcolor": "#EBF0F8",
             "linecolor": "#EBF0F8",
             "ticks": "",
             "title": {
              "standoff": 15
             },
             "zerolinecolor": "#EBF0F8",
             "zerolinewidth": 2
            },
            "yaxis": {
             "automargin": true,
             "gridcolor": "#EBF0F8",
             "linecolor": "#EBF0F8",
             "ticks": "",
             "title": {
              "standoff": 15
             },
             "zerolinecolor": "#EBF0F8",
             "zerolinewidth": 2
            }
           }
          },
          "xaxis": {
           "automargin": true,
           "autorange": false,
           "fixedrange": true,
           "linecolor": "#444",
           "linewidth": 2,
           "minor": {
            "tickmode": "linear",
            "ticks": "outside"
           },
           "mirror": true,
           "showline": true,
           "tickmode": "linear",
           "ticks": "outside",
           "zeroline": false
          },
          "yaxis": {
           "automargin": true,
           "autorange": false,
           "fixedrange": true,
           "linecolor": "#444",
           "linewidth": 2,
           "minor": {
            "tickmode": "linear",
            "ticks": "outside"
           },
           "mirror": true,
           "showline": true,
           "tickmode": "linear",
           "ticks": "outside",
           "zeroline": false
          }
         }
        },
        "xaxis": {
         "range": [
          -0.5,
          14.5
         ]
        },
        "yaxis": {
         "dtick": 5,
         "minor": {
          "dtick": 2.5,
          "tick0": 0
         },
         "range": [
          -1,
          30
         ],
         "tick0": 0,
         "title": {
          "text": "percent immune"
         }
        }
       }
      }
     },
     "metadata": {},
     "output_type": "display_data"
    }
   ],
   "source": [
    "# Plots the average probability that a monster is immune to each condition\n",
    "df1 = df0[df0['Category'].isin(['generic','legendary','unique']) & df0['CR'].between(1/8, 30)]\n",
    "\n",
    "conditions = CONDITIONS.copy()\n",
    "\n",
    "# create custom text\n",
    "total_monsters = df1.shape[0]\n",
    "total_immune = [int(df1[c].sum().tolist()) for c in conditions]\n",
    "pct_immune = [100*df1[c].mean().tolist() for c in conditions]\n",
    "custom_text = [f'{p:.0f}% ({i} out of {total_monsters})' for p, i in zip(pct_immune, total_immune)]\n",
    "\n",
    "fig = go.Figure()\n",
    "\n",
    "fig.add_trace(go.Scatter(\n",
    "    x=conditions,\n",
    "    y=pct_immune,\n",
    "    mode='markers', \n",
    "    marker=dict(size=12, line=dict(width=1, color='Black')),\n",
    "    text=custom_text,\n",
    "    unselected=dict(marker=dict(opacity=0.0)),\n",
    "    hovertemplate=\n",
    "        '<b>Condition:</b> %{x}<br>'+\n",
    "        '<b>Immune:</b> %{text}'+\n",
    "        '<extra></extra>'\n",
    "))\n",
    "\n",
    "# save large format figure\n",
    "fig.update_layout(\n",
    "    template=TFB_TEMPLATE,\n",
    "    xaxis=dict(\n",
    "        range=[-0.5, len(conditions)-0.5],\n",
    "    ),\n",
    "    yaxis=dict(\n",
    "        title_text='percent immune',\n",
    "        range=[-1, 30],\n",
    "        tick0=0, dtick=5,\n",
    "        minor=dict(tick0=0, dtick=2.5),\n",
    "    )\n",
    ")\n",
    "\n",
    "fig.show(config=TFB_CONFIG)\n",
    "if SAVEFIGS:\n",
    "    file_name = f'./fig-condition-immunity-probability-large.html'\n",
    "    fig.write_html(\n",
    "        file_name, \n",
    "        include_plotlyjs=False, \n",
    "        full_html=False, \n",
    "        config=TFB_CONFIG\n",
    "    )\n",
    "    # add style to figure\n",
    "    with open(file_name, 'r') as fin:\n",
    "        fig_soup = BeautifulSoup(fin, 'html.parser')\n",
    "\n",
    "    fig_soup.div['class'] = 'plotly-div-large'\n",
    "    fig_soup.div['style'] = 'aspect-ratio: 600/500;'\n",
    "    with open(file_name, 'wb') as fout:\n",
    "        fout.write(fig_soup.prettify('utf-8'))\n",
    "\n",
    "# save small format figure\n",
    "fig.update_traces(marker=dict(size=8))\n",
    "fig.update_layout(\n",
    "    template=TFB_TEMPLATE,\n",
    "    font=dict(size=10),\n",
    "    xaxis=dict(\n",
    "        range=[-0.5, len(conditions)-0.5],\n",
    "    ),\n",
    "    yaxis=dict(\n",
    "        title_text='percent immune',\n",
    "        range=[-1, 30],\n",
    "        tick0=0, dtick=5,\n",
    "        minor=dict(tick0=0, dtick=2.5),\n",
    "    )\n",
    ")\n",
    "\n",
    "fig.show(config=TFB_CONFIG)\n",
    "if SAVEFIGS:\n",
    "    file_name = f'./fig-condition-immunity-probability-small.html'\n",
    "    fig.write_html(\n",
    "        file_name, \n",
    "        include_plotlyjs=False, \n",
    "        full_html=False, \n",
    "        config=TFB_CONFIG\n",
    "    )\n",
    "    # add style to figure\n",
    "    with open(file_name, 'r') as fin:\n",
    "        fig_soup = BeautifulSoup(fin, 'html.parser')\n",
    "\n",
    "    fig_soup.div['class'] = 'plotly-div-small'\n",
    "    fig_soup.div['style'] = 'aspect-ratio: 600/500;'\n",
    "    with open(file_name, 'wb') as fout:\n",
    "        fout.write(fig_soup.prettify('utf-8'))"
   ]
  },
  {
   "cell_type": "code",
   "execution_count": 11,
   "metadata": {},
   "outputs": [
    {
     "name": "stdout",
     "output_type": "stream",
     "text": [
      "Total number of monsters: 1474\n"
     ]
    },
    {
     "data": {
      "application/vnd.plotly.v1+json": {
       "config": {
        "autosizable": true,
        "displayModeBar": "hover",
        "displaylogo": false,
        "modeBarButtonsToRemove": [
         "select2d",
         "lasso2d",
         "zoom2d",
         "zoomIn2d",
         "zoomOut2d",
         "pan2d",
         "autoScale2d",
         "hoverClosestCartesian",
         "hoverCompareCartesian",
         "toggleSpikelines",
         "resetScale2d"
        ],
        "plotlyServerURL": "https://plot.ly",
        "responsive": true,
        "showAxisDragHandles": false,
        "toImageButtonOptions": {
         "filename": "tfb-plot",
         "format": "png",
         "height": 450,
         "scale": 2,
         "width": 600
        }
       },
       "data": [
        {
         "colorscale": [
          [
           0,
           "rgb(247,251,255)"
          ],
          [
           0.125,
           "rgb(222,235,247)"
          ],
          [
           0.25,
           "rgb(198,219,239)"
          ],
          [
           0.375,
           "rgb(158,202,225)"
          ],
          [
           0.5,
           "rgb(107,174,214)"
          ],
          [
           0.625,
           "rgb(66,146,198)"
          ],
          [
           0.75,
           "rgb(33,113,181)"
          ],
          [
           0.875,
           "rgb(8,81,156)"
          ],
          [
           1,
           "rgb(8,48,107)"
          ]
         ],
         "hoverongaps": false,
         "hovertemplate": "<b>Type:</b> %{x}<br><b>Condition:</b> %{y}<br><b>Immune:</b> %{z:.0f}% (%{text})<extra></extra>",
         "showscale": false,
         "text": [
          [
           "10 out of 76",
           "0 out of 104",
           "0 out of 21",
           "28 out of 96",
           "1 out of 113",
           "0 out of 49",
           "1 out of 47",
           "8 out of 122",
           "0 out of 49",
           "3 out of 430",
           "5 out of 192",
           "13 out of 13",
           "18 out of 34",
           "7 out of 128"
          ],
          [
           "17 out of 76",
           "9 out of 104",
           "14 out of 21",
           "75 out of 96",
           "21 out of 113",
           "7 out of 49",
           "9 out of 47",
           "52 out of 122",
           "4 out of 49",
           "24 out of 430",
           "26 out of 192",
           "12 out of 13",
           "7 out of 34",
           "69 out of 128"
          ],
          [
           "0 out of 76",
           "0 out of 104",
           "0 out of 21",
           "29 out of 96",
           "2 out of 113",
           "0 out of 49",
           "0 out of 47",
           "5 out of 122",
           "0 out of 49",
           "1 out of 430",
           "3 out of 192",
           "13 out of 13",
           "14 out of 34",
           "9 out of 128"
          ],
          [
           "6 out of 76",
           "0 out of 104",
           "13 out of 21",
           "74 out of 96",
           "0 out of 113",
           "20 out of 49",
           "3 out of 47",
           "33 out of 122",
           "2 out of 49",
           "8 out of 430",
           "4 out of 192",
           "13 out of 13",
           "6 out of 34",
           "92 out of 128"
          ],
          [
           "20 out of 76",
           "9 out of 104",
           "13 out of 21",
           "70 out of 96",
           "26 out of 113",
           "7 out of 49",
           "8 out of 47",
           "52 out of 122",
           "9 out of 49",
           "32 out of 430",
           "26 out of 192",
           "8 out of 13",
           "9 out of 34",
           "62 out of 128"
          ],
          [
           "3 out of 76",
           "8 out of 104",
           "1 out of 21",
           "6 out of 96",
           "0 out of 113",
           "13 out of 49",
           "1 out of 47",
           "6 out of 122",
           "1 out of 49",
           "0 out of 430",
           "2 out of 192",
           "2 out of 13",
           "1 out of 34",
           "26 out of 128"
          ],
          [
           "0 out of 76",
           "0 out of 104",
           "0 out of 21",
           "1 out of 96",
           "0 out of 113",
           "0 out of 49",
           "0 out of 47",
           "0 out of 122",
           "0 out of 49",
           "0 out of 430",
           "0 out of 192",
           "0 out of 13",
           "0 out of 34",
           "0 out of 128"
          ],
          [
           "0 out of 76",
           "0 out of 104",
           "0 out of 21",
           "0 out of 96",
           "0 out of 113",
           "0 out of 49",
           "0 out of 47",
           "0 out of 122",
           "0 out of 49",
           "0 out of 430",
           "0 out of 192",
           "0 out of 13",
           "0 out of 34",
           "0 out of 128"
          ],
          [
           "6 out of 76",
           "9 out of 104",
           "4 out of 21",
           "73 out of 96",
           "1 out of 113",
           "27 out of 49",
           "2 out of 47",
           "7 out of 122",
           "2 out of 49",
           "3 out of 430",
           "12 out of 192",
           "1 out of 13",
           "5 out of 34",
           "60 out of 128"
          ],
          [
           "6 out of 76",
           "8 out of 104",
           "2 out of 21",
           "65 out of 96",
           "0 out of 113",
           "28 out of 49",
           "0 out of 47",
           "6 out of 122",
           "2 out of 49",
           "2 out of 430",
           "5 out of 192",
           "1 out of 13",
           "1 out of 34",
           "32 out of 128"
          ],
          [
           "7 out of 76",
           "0 out of 104",
           "6 out of 21",
           "86 out of 96",
           "18 out of 113",
           "36 out of 49",
           "6 out of 47",
           "102 out of 122",
           "4 out of 49",
           "19 out of 430",
           "24 out of 192",
           "1 out of 13",
           "4 out of 34",
           "111 out of 128"
          ],
          [
           "18 out of 76",
           "8 out of 104",
           "0 out of 21",
           "11 out of 96",
           "7 out of 113",
           "21 out of 49",
           "0 out of 47",
           "5 out of 122",
           "1 out of 49",
           "0 out of 430",
           "8 out of 192",
           "13 out of 13",
           "7 out of 34",
           "35 out of 128"
          ],
          [
           "4 out of 76",
           "8 out of 104",
           "1 out of 21",
           "3 out of 96",
           "0 out of 113",
           "17 out of 49",
           "0 out of 47",
           "6 out of 122",
           "1 out of 49",
           "0 out of 430",
           "3 out of 192",
           "2 out of 13",
           "1 out of 34",
           "26 out of 128"
          ],
          [
           "3 out of 76",
           "7 out of 104",
           "2 out of 21",
           "6 out of 96",
           "2 out of 113",
           "6 out of 49",
           "1 out of 47",
           "6 out of 122",
           "0 out of 49",
           "2 out of 430",
           "6 out of 192",
           "0 out of 13",
           "1 out of 34",
           "12 out of 128"
          ],
          [
           "0 out of 76",
           "0 out of 104",
           "0 out of 21",
           "8 out of 96",
           "0 out of 113",
           "11 out of 49",
           "0 out of 47",
           "3 out of 122",
           "1 out of 49",
           "0 out of 430",
           "0 out of 192",
           "1 out of 13",
           "0 out of 34",
           "6 out of 128"
          ]
         ],
         "texttemplate": "%{z:.0f}",
         "type": "heatmap",
         "x": [
          "aberration",
          "beast",
          "celestial",
          "construct",
          "dragon",
          "elemental",
          "fey",
          "fiend",
          "giant",
          "humanoid",
          "monstrosity",
          "ooze",
          "plant",
          "undead"
         ],
         "y": [
          "blinded",
          "charmed",
          "deafened",
          "exhaustion",
          "frightened",
          "grappled",
          "incapacitated",
          "invisible",
          "paralyzed",
          "petrified",
          "poisoned",
          "prone",
          "restrained",
          "stunned",
          "unconscious"
         ],
         "z": [
          [
           13,
           0,
           0,
           29,
           0,
           0,
           2,
           6,
           0,
           0,
           2,
           100,
           52,
           5
          ],
          [
           22,
           8,
           66,
           78,
           18,
           14,
           19,
           42,
           8,
           5,
           13,
           92,
           20,
           53
          ],
          [
           0,
           0,
           0,
           30,
           1,
           0,
           0,
           4,
           0,
           0,
           1,
           100,
           41,
           7
          ],
          [
           7,
           0,
           61,
           77,
           0,
           40,
           6,
           27,
           4,
           1,
           2,
           100,
           17,
           71
          ],
          [
           26,
           8,
           61,
           72,
           23,
           14,
           17,
           42,
           18,
           7,
           13,
           61,
           26,
           48
          ],
          [
           3,
           7,
           4,
           6,
           0,
           26,
           2,
           4,
           2,
           0,
           1,
           15,
           2,
           20
          ],
          [
           0,
           0,
           0,
           1,
           0,
           0,
           0,
           0,
           0,
           0,
           0,
           0,
           0,
           0
          ],
          [
           0,
           0,
           0,
           0,
           0,
           0,
           0,
           0,
           0,
           0,
           0,
           0,
           0,
           0
          ],
          [
           7,
           8,
           19,
           76,
           0,
           55,
           4,
           5,
           4,
           0,
           6,
           7,
           14,
           46
          ],
          [
           7,
           7,
           9,
           67,
           0,
           57,
           0,
           4,
           4,
           0,
           2,
           7,
           2,
           25
          ],
          [
           9,
           0,
           28,
           89,
           15,
           73,
           12,
           83,
           8,
           4,
           12,
           7,
           11,
           86
          ],
          [
           23,
           7,
           0,
           11,
           6,
           42,
           0,
           4,
           2,
           0,
           4,
           100,
           20,
           27
          ],
          [
           5,
           7,
           4,
           3,
           0,
           34,
           0,
           4,
           2,
           0,
           1,
           15,
           2,
           20
          ],
          [
           3,
           6,
           9,
           6,
           1,
           12,
           2,
           4,
           0,
           0,
           3,
           0,
           2,
           9
          ],
          [
           0,
           0,
           0,
           8,
           0,
           22,
           0,
           2,
           2,
           0,
           0,
           7,
           0,
           4
          ]
         ],
         "zmax": 120,
         "zmin": 0
        }
       ],
       "layout": {
        "font": {
         "size": 12
        },
        "template": {
         "data": {
          "bar": [
           {
            "error_x": {
             "color": "#2a3f5f"
            },
            "error_y": {
             "color": "#2a3f5f"
            },
            "marker": {
             "line": {
              "color": "#E5ECF6",
              "width": 0.5
             },
             "pattern": {
              "fillmode": "overlay",
              "size": 10,
              "solidity": 0.2
             }
            },
            "type": "bar"
           }
          ],
          "barpolar": [
           {
            "marker": {
             "line": {
              "color": "#E5ECF6",
              "width": 0.5
             },
             "pattern": {
              "fillmode": "overlay",
              "size": 10,
              "solidity": 0.2
             }
            },
            "type": "barpolar"
           }
          ],
          "carpet": [
           {
            "aaxis": {
             "endlinecolor": "#2a3f5f",
             "gridcolor": "white",
             "linecolor": "white",
             "minorgridcolor": "white",
             "startlinecolor": "#2a3f5f"
            },
            "baxis": {
             "endlinecolor": "#2a3f5f",
             "gridcolor": "white",
             "linecolor": "white",
             "minorgridcolor": "white",
             "startlinecolor": "#2a3f5f"
            },
            "type": "carpet"
           }
          ],
          "choropleth": [
           {
            "colorbar": {
             "outlinewidth": 0,
             "ticks": ""
            },
            "type": "choropleth"
           }
          ],
          "contour": [
           {
            "colorbar": {
             "outlinewidth": 0,
             "ticks": ""
            },
            "colorscale": [
             [
              0,
              "#0d0887"
             ],
             [
              0.1111111111111111,
              "#46039f"
             ],
             [
              0.2222222222222222,
              "#7201a8"
             ],
             [
              0.3333333333333333,
              "#9c179e"
             ],
             [
              0.4444444444444444,
              "#bd3786"
             ],
             [
              0.5555555555555556,
              "#d8576b"
             ],
             [
              0.6666666666666666,
              "#ed7953"
             ],
             [
              0.7777777777777778,
              "#fb9f3a"
             ],
             [
              0.8888888888888888,
              "#fdca26"
             ],
             [
              1,
              "#f0f921"
             ]
            ],
            "type": "contour"
           }
          ],
          "contourcarpet": [
           {
            "colorbar": {
             "outlinewidth": 0,
             "ticks": ""
            },
            "type": "contourcarpet"
           }
          ],
          "heatmap": [
           {
            "colorbar": {
             "outlinewidth": 0,
             "ticks": ""
            },
            "colorscale": [
             [
              0,
              "#0d0887"
             ],
             [
              0.1111111111111111,
              "#46039f"
             ],
             [
              0.2222222222222222,
              "#7201a8"
             ],
             [
              0.3333333333333333,
              "#9c179e"
             ],
             [
              0.4444444444444444,
              "#bd3786"
             ],
             [
              0.5555555555555556,
              "#d8576b"
             ],
             [
              0.6666666666666666,
              "#ed7953"
             ],
             [
              0.7777777777777778,
              "#fb9f3a"
             ],
             [
              0.8888888888888888,
              "#fdca26"
             ],
             [
              1,
              "#f0f921"
             ]
            ],
            "type": "heatmap"
           }
          ],
          "heatmapgl": [
           {
            "colorbar": {
             "outlinewidth": 0,
             "ticks": ""
            },
            "colorscale": [
             [
              0,
              "#0d0887"
             ],
             [
              0.1111111111111111,
              "#46039f"
             ],
             [
              0.2222222222222222,
              "#7201a8"
             ],
             [
              0.3333333333333333,
              "#9c179e"
             ],
             [
              0.4444444444444444,
              "#bd3786"
             ],
             [
              0.5555555555555556,
              "#d8576b"
             ],
             [
              0.6666666666666666,
              "#ed7953"
             ],
             [
              0.7777777777777778,
              "#fb9f3a"
             ],
             [
              0.8888888888888888,
              "#fdca26"
             ],
             [
              1,
              "#f0f921"
             ]
            ],
            "type": "heatmapgl"
           }
          ],
          "histogram": [
           {
            "marker": {
             "pattern": {
              "fillmode": "overlay",
              "size": 10,
              "solidity": 0.2
             }
            },
            "type": "histogram"
           }
          ],
          "histogram2d": [
           {
            "colorbar": {
             "outlinewidth": 0,
             "ticks": ""
            },
            "colorscale": [
             [
              0,
              "#0d0887"
             ],
             [
              0.1111111111111111,
              "#46039f"
             ],
             [
              0.2222222222222222,
              "#7201a8"
             ],
             [
              0.3333333333333333,
              "#9c179e"
             ],
             [
              0.4444444444444444,
              "#bd3786"
             ],
             [
              0.5555555555555556,
              "#d8576b"
             ],
             [
              0.6666666666666666,
              "#ed7953"
             ],
             [
              0.7777777777777778,
              "#fb9f3a"
             ],
             [
              0.8888888888888888,
              "#fdca26"
             ],
             [
              1,
              "#f0f921"
             ]
            ],
            "type": "histogram2d"
           }
          ],
          "histogram2dcontour": [
           {
            "colorbar": {
             "outlinewidth": 0,
             "ticks": ""
            },
            "colorscale": [
             [
              0,
              "#0d0887"
             ],
             [
              0.1111111111111111,
              "#46039f"
             ],
             [
              0.2222222222222222,
              "#7201a8"
             ],
             [
              0.3333333333333333,
              "#9c179e"
             ],
             [
              0.4444444444444444,
              "#bd3786"
             ],
             [
              0.5555555555555556,
              "#d8576b"
             ],
             [
              0.6666666666666666,
              "#ed7953"
             ],
             [
              0.7777777777777778,
              "#fb9f3a"
             ],
             [
              0.8888888888888888,
              "#fdca26"
             ],
             [
              1,
              "#f0f921"
             ]
            ],
            "type": "histogram2dcontour"
           }
          ],
          "mesh3d": [
           {
            "colorbar": {
             "outlinewidth": 0,
             "ticks": ""
            },
            "type": "mesh3d"
           }
          ],
          "parcoords": [
           {
            "line": {
             "colorbar": {
              "outlinewidth": 0,
              "ticks": ""
             }
            },
            "type": "parcoords"
           }
          ],
          "pie": [
           {
            "automargin": true,
            "type": "pie"
           }
          ],
          "scatter": [
           {
            "fillpattern": {
             "fillmode": "overlay",
             "size": 10,
             "solidity": 0.2
            },
            "type": "scatter"
           }
          ],
          "scatter3d": [
           {
            "line": {
             "colorbar": {
              "outlinewidth": 0,
              "ticks": ""
             }
            },
            "marker": {
             "colorbar": {
              "outlinewidth": 0,
              "ticks": ""
             }
            },
            "type": "scatter3d"
           }
          ],
          "scattercarpet": [
           {
            "marker": {
             "colorbar": {
              "outlinewidth": 0,
              "ticks": ""
             }
            },
            "type": "scattercarpet"
           }
          ],
          "scattergeo": [
           {
            "marker": {
             "colorbar": {
              "outlinewidth": 0,
              "ticks": ""
             }
            },
            "type": "scattergeo"
           }
          ],
          "scattergl": [
           {
            "marker": {
             "colorbar": {
              "outlinewidth": 0,
              "ticks": ""
             }
            },
            "type": "scattergl"
           }
          ],
          "scattermapbox": [
           {
            "marker": {
             "colorbar": {
              "outlinewidth": 0,
              "ticks": ""
             }
            },
            "type": "scattermapbox"
           }
          ],
          "scatterpolar": [
           {
            "marker": {
             "colorbar": {
              "outlinewidth": 0,
              "ticks": ""
             }
            },
            "type": "scatterpolar"
           }
          ],
          "scatterpolargl": [
           {
            "marker": {
             "colorbar": {
              "outlinewidth": 0,
              "ticks": ""
             }
            },
            "type": "scatterpolargl"
           }
          ],
          "scatterternary": [
           {
            "marker": {
             "colorbar": {
              "outlinewidth": 0,
              "ticks": ""
             }
            },
            "type": "scatterternary"
           }
          ],
          "surface": [
           {
            "colorbar": {
             "outlinewidth": 0,
             "ticks": ""
            },
            "colorscale": [
             [
              0,
              "#0d0887"
             ],
             [
              0.1111111111111111,
              "#46039f"
             ],
             [
              0.2222222222222222,
              "#7201a8"
             ],
             [
              0.3333333333333333,
              "#9c179e"
             ],
             [
              0.4444444444444444,
              "#bd3786"
             ],
             [
              0.5555555555555556,
              "#d8576b"
             ],
             [
              0.6666666666666666,
              "#ed7953"
             ],
             [
              0.7777777777777778,
              "#fb9f3a"
             ],
             [
              0.8888888888888888,
              "#fdca26"
             ],
             [
              1,
              "#f0f921"
             ]
            ],
            "type": "surface"
           }
          ],
          "table": [
           {
            "cells": {
             "fill": {
              "color": "#EBF0F8"
             },
             "line": {
              "color": "white"
             }
            },
            "header": {
             "fill": {
              "color": "#C8D4E3"
             },
             "line": {
              "color": "white"
             }
            },
            "type": "table"
           }
          ]
         },
         "layout": {
          "autosize": true,
          "font": {
           "family": "sans-serif",
           "size": 14
          },
          "hovermode": "closest",
          "margin": {
           "b": 40,
           "l": 50,
           "pad": 4,
           "r": 25,
           "t": 20
          },
          "template": {
           "data": {
            "bar": [
             {
              "error_x": {
               "color": "#2a3f5f"
              },
              "error_y": {
               "color": "#2a3f5f"
              },
              "marker": {
               "line": {
                "color": "white",
                "width": 0.5
               },
               "pattern": {
                "fillmode": "overlay",
                "size": 10,
                "solidity": 0.2
               }
              },
              "type": "bar"
             }
            ],
            "barpolar": [
             {
              "marker": {
               "line": {
                "color": "white",
                "width": 0.5
               },
               "pattern": {
                "fillmode": "overlay",
                "size": 10,
                "solidity": 0.2
               }
              },
              "type": "barpolar"
             }
            ],
            "carpet": [
             {
              "aaxis": {
               "endlinecolor": "#2a3f5f",
               "gridcolor": "#C8D4E3",
               "linecolor": "#C8D4E3",
               "minorgridcolor": "#C8D4E3",
               "startlinecolor": "#2a3f5f"
              },
              "baxis": {
               "endlinecolor": "#2a3f5f",
               "gridcolor": "#C8D4E3",
               "linecolor": "#C8D4E3",
               "minorgridcolor": "#C8D4E3",
               "startlinecolor": "#2a3f5f"
              },
              "type": "carpet"
             }
            ],
            "choropleth": [
             {
              "colorbar": {
               "outlinewidth": 0,
               "ticks": ""
              },
              "type": "choropleth"
             }
            ],
            "contour": [
             {
              "colorbar": {
               "outlinewidth": 0,
               "ticks": ""
              },
              "colorscale": [
               [
                0,
                "#0d0887"
               ],
               [
                0.1111111111111111,
                "#46039f"
               ],
               [
                0.2222222222222222,
                "#7201a8"
               ],
               [
                0.3333333333333333,
                "#9c179e"
               ],
               [
                0.4444444444444444,
                "#bd3786"
               ],
               [
                0.5555555555555556,
                "#d8576b"
               ],
               [
                0.6666666666666666,
                "#ed7953"
               ],
               [
                0.7777777777777778,
                "#fb9f3a"
               ],
               [
                0.8888888888888888,
                "#fdca26"
               ],
               [
                1,
                "#f0f921"
               ]
              ],
              "type": "contour"
             }
            ],
            "contourcarpet": [
             {
              "colorbar": {
               "outlinewidth": 0,
               "ticks": ""
              },
              "type": "contourcarpet"
             }
            ],
            "heatmap": [
             {
              "colorbar": {
               "outlinewidth": 0,
               "ticks": ""
              },
              "colorscale": [
               [
                0,
                "#0d0887"
               ],
               [
                0.1111111111111111,
                "#46039f"
               ],
               [
                0.2222222222222222,
                "#7201a8"
               ],
               [
                0.3333333333333333,
                "#9c179e"
               ],
               [
                0.4444444444444444,
                "#bd3786"
               ],
               [
                0.5555555555555556,
                "#d8576b"
               ],
               [
                0.6666666666666666,
                "#ed7953"
               ],
               [
                0.7777777777777778,
                "#fb9f3a"
               ],
               [
                0.8888888888888888,
                "#fdca26"
               ],
               [
                1,
                "#f0f921"
               ]
              ],
              "type": "heatmap"
             }
            ],
            "heatmapgl": [
             {
              "colorbar": {
               "outlinewidth": 0,
               "ticks": ""
              },
              "colorscale": [
               [
                0,
                "#0d0887"
               ],
               [
                0.1111111111111111,
                "#46039f"
               ],
               [
                0.2222222222222222,
                "#7201a8"
               ],
               [
                0.3333333333333333,
                "#9c179e"
               ],
               [
                0.4444444444444444,
                "#bd3786"
               ],
               [
                0.5555555555555556,
                "#d8576b"
               ],
               [
                0.6666666666666666,
                "#ed7953"
               ],
               [
                0.7777777777777778,
                "#fb9f3a"
               ],
               [
                0.8888888888888888,
                "#fdca26"
               ],
               [
                1,
                "#f0f921"
               ]
              ],
              "type": "heatmapgl"
             }
            ],
            "histogram": [
             {
              "marker": {
               "pattern": {
                "fillmode": "overlay",
                "size": 10,
                "solidity": 0.2
               }
              },
              "type": "histogram"
             }
            ],
            "histogram2d": [
             {
              "colorbar": {
               "outlinewidth": 0,
               "ticks": ""
              },
              "colorscale": [
               [
                0,
                "#0d0887"
               ],
               [
                0.1111111111111111,
                "#46039f"
               ],
               [
                0.2222222222222222,
                "#7201a8"
               ],
               [
                0.3333333333333333,
                "#9c179e"
               ],
               [
                0.4444444444444444,
                "#bd3786"
               ],
               [
                0.5555555555555556,
                "#d8576b"
               ],
               [
                0.6666666666666666,
                "#ed7953"
               ],
               [
                0.7777777777777778,
                "#fb9f3a"
               ],
               [
                0.8888888888888888,
                "#fdca26"
               ],
               [
                1,
                "#f0f921"
               ]
              ],
              "type": "histogram2d"
             }
            ],
            "histogram2dcontour": [
             {
              "colorbar": {
               "outlinewidth": 0,
               "ticks": ""
              },
              "colorscale": [
               [
                0,
                "#0d0887"
               ],
               [
                0.1111111111111111,
                "#46039f"
               ],
               [
                0.2222222222222222,
                "#7201a8"
               ],
               [
                0.3333333333333333,
                "#9c179e"
               ],
               [
                0.4444444444444444,
                "#bd3786"
               ],
               [
                0.5555555555555556,
                "#d8576b"
               ],
               [
                0.6666666666666666,
                "#ed7953"
               ],
               [
                0.7777777777777778,
                "#fb9f3a"
               ],
               [
                0.8888888888888888,
                "#fdca26"
               ],
               [
                1,
                "#f0f921"
               ]
              ],
              "type": "histogram2dcontour"
             }
            ],
            "mesh3d": [
             {
              "colorbar": {
               "outlinewidth": 0,
               "ticks": ""
              },
              "type": "mesh3d"
             }
            ],
            "parcoords": [
             {
              "line": {
               "colorbar": {
                "outlinewidth": 0,
                "ticks": ""
               }
              },
              "type": "parcoords"
             }
            ],
            "pie": [
             {
              "automargin": true,
              "type": "pie"
             }
            ],
            "scatter": [
             {
              "fillpattern": {
               "fillmode": "overlay",
               "size": 10,
               "solidity": 0.2
              },
              "type": "scatter"
             }
            ],
            "scatter3d": [
             {
              "line": {
               "colorbar": {
                "outlinewidth": 0,
                "ticks": ""
               }
              },
              "marker": {
               "colorbar": {
                "outlinewidth": 0,
                "ticks": ""
               }
              },
              "type": "scatter3d"
             }
            ],
            "scattercarpet": [
             {
              "marker": {
               "colorbar": {
                "outlinewidth": 0,
                "ticks": ""
               }
              },
              "type": "scattercarpet"
             }
            ],
            "scattergeo": [
             {
              "marker": {
               "colorbar": {
                "outlinewidth": 0,
                "ticks": ""
               }
              },
              "type": "scattergeo"
             }
            ],
            "scattergl": [
             {
              "marker": {
               "colorbar": {
                "outlinewidth": 0,
                "ticks": ""
               }
              },
              "type": "scattergl"
             }
            ],
            "scattermapbox": [
             {
              "marker": {
               "colorbar": {
                "outlinewidth": 0,
                "ticks": ""
               }
              },
              "type": "scattermapbox"
             }
            ],
            "scatterpolar": [
             {
              "marker": {
               "colorbar": {
                "outlinewidth": 0,
                "ticks": ""
               }
              },
              "type": "scatterpolar"
             }
            ],
            "scatterpolargl": [
             {
              "marker": {
               "colorbar": {
                "outlinewidth": 0,
                "ticks": ""
               }
              },
              "type": "scatterpolargl"
             }
            ],
            "scatterternary": [
             {
              "marker": {
               "colorbar": {
                "outlinewidth": 0,
                "ticks": ""
               }
              },
              "type": "scatterternary"
             }
            ],
            "surface": [
             {
              "colorbar": {
               "outlinewidth": 0,
               "ticks": ""
              },
              "colorscale": [
               [
                0,
                "#0d0887"
               ],
               [
                0.1111111111111111,
                "#46039f"
               ],
               [
                0.2222222222222222,
                "#7201a8"
               ],
               [
                0.3333333333333333,
                "#9c179e"
               ],
               [
                0.4444444444444444,
                "#bd3786"
               ],
               [
                0.5555555555555556,
                "#d8576b"
               ],
               [
                0.6666666666666666,
                "#ed7953"
               ],
               [
                0.7777777777777778,
                "#fb9f3a"
               ],
               [
                0.8888888888888888,
                "#fdca26"
               ],
               [
                1,
                "#f0f921"
               ]
              ],
              "type": "surface"
             }
            ],
            "table": [
             {
              "cells": {
               "fill": {
                "color": "#EBF0F8"
               },
               "line": {
                "color": "white"
               }
              },
              "header": {
               "fill": {
                "color": "#C8D4E3"
               },
               "line": {
                "color": "white"
               }
              },
              "type": "table"
             }
            ]
           },
           "layout": {
            "annotationdefaults": {
             "arrowcolor": "#2a3f5f",
             "arrowhead": 0,
             "arrowwidth": 1
            },
            "autotypenumbers": "strict",
            "coloraxis": {
             "colorbar": {
              "outlinewidth": 0,
              "ticks": ""
             }
            },
            "colorscale": {
             "diverging": [
              [
               0,
               "#8e0152"
              ],
              [
               0.1,
               "#c51b7d"
              ],
              [
               0.2,
               "#de77ae"
              ],
              [
               0.3,
               "#f1b6da"
              ],
              [
               0.4,
               "#fde0ef"
              ],
              [
               0.5,
               "#f7f7f7"
              ],
              [
               0.6,
               "#e6f5d0"
              ],
              [
               0.7,
               "#b8e186"
              ],
              [
               0.8,
               "#7fbc41"
              ],
              [
               0.9,
               "#4d9221"
              ],
              [
               1,
               "#276419"
              ]
             ],
             "sequential": [
              [
               0,
               "#0d0887"
              ],
              [
               0.1111111111111111,
               "#46039f"
              ],
              [
               0.2222222222222222,
               "#7201a8"
              ],
              [
               0.3333333333333333,
               "#9c179e"
              ],
              [
               0.4444444444444444,
               "#bd3786"
              ],
              [
               0.5555555555555556,
               "#d8576b"
              ],
              [
               0.6666666666666666,
               "#ed7953"
              ],
              [
               0.7777777777777778,
               "#fb9f3a"
              ],
              [
               0.8888888888888888,
               "#fdca26"
              ],
              [
               1,
               "#f0f921"
              ]
             ],
             "sequentialminus": [
              [
               0,
               "#0d0887"
              ],
              [
               0.1111111111111111,
               "#46039f"
              ],
              [
               0.2222222222222222,
               "#7201a8"
              ],
              [
               0.3333333333333333,
               "#9c179e"
              ],
              [
               0.4444444444444444,
               "#bd3786"
              ],
              [
               0.5555555555555556,
               "#d8576b"
              ],
              [
               0.6666666666666666,
               "#ed7953"
              ],
              [
               0.7777777777777778,
               "#fb9f3a"
              ],
              [
               0.8888888888888888,
               "#fdca26"
              ],
              [
               1,
               "#f0f921"
              ]
             ]
            },
            "colorway": [
             "#636efa",
             "#EF553B",
             "#00cc96",
             "#ab63fa",
             "#FFA15A",
             "#19d3f3",
             "#FF6692",
             "#B6E880",
             "#FF97FF",
             "#FECB52"
            ],
            "font": {
             "color": "#2a3f5f"
            },
            "geo": {
             "bgcolor": "white",
             "lakecolor": "white",
             "landcolor": "white",
             "showlakes": true,
             "showland": true,
             "subunitcolor": "#C8D4E3"
            },
            "hoverlabel": {
             "align": "left"
            },
            "hovermode": "closest",
            "mapbox": {
             "style": "light"
            },
            "paper_bgcolor": "white",
            "plot_bgcolor": "white",
            "polar": {
             "angularaxis": {
              "gridcolor": "#EBF0F8",
              "linecolor": "#EBF0F8",
              "ticks": ""
             },
             "bgcolor": "white",
             "radialaxis": {
              "gridcolor": "#EBF0F8",
              "linecolor": "#EBF0F8",
              "ticks": ""
             }
            },
            "scene": {
             "xaxis": {
              "backgroundcolor": "white",
              "gridcolor": "#DFE8F3",
              "gridwidth": 2,
              "linecolor": "#EBF0F8",
              "showbackground": true,
              "ticks": "",
              "zerolinecolor": "#EBF0F8"
             },
             "yaxis": {
              "backgroundcolor": "white",
              "gridcolor": "#DFE8F3",
              "gridwidth": 2,
              "linecolor": "#EBF0F8",
              "showbackground": true,
              "ticks": "",
              "zerolinecolor": "#EBF0F8"
             },
             "zaxis": {
              "backgroundcolor": "white",
              "gridcolor": "#DFE8F3",
              "gridwidth": 2,
              "linecolor": "#EBF0F8",
              "showbackground": true,
              "ticks": "",
              "zerolinecolor": "#EBF0F8"
             }
            },
            "shapedefaults": {
             "line": {
              "color": "#2a3f5f"
             }
            },
            "ternary": {
             "aaxis": {
              "gridcolor": "#DFE8F3",
              "linecolor": "#A2B1C6",
              "ticks": ""
             },
             "baxis": {
              "gridcolor": "#DFE8F3",
              "linecolor": "#A2B1C6",
              "ticks": ""
             },
             "bgcolor": "white",
             "caxis": {
              "gridcolor": "#DFE8F3",
              "linecolor": "#A2B1C6",
              "ticks": ""
             }
            },
            "title": {
             "x": 0.05
            },
            "xaxis": {
             "automargin": true,
             "gridcolor": "#EBF0F8",
             "linecolor": "#EBF0F8",
             "ticks": "",
             "title": {
              "standoff": 15
             },
             "zerolinecolor": "#EBF0F8",
             "zerolinewidth": 2
            },
            "yaxis": {
             "automargin": true,
             "gridcolor": "#EBF0F8",
             "linecolor": "#EBF0F8",
             "ticks": "",
             "title": {
              "standoff": 15
             },
             "zerolinecolor": "#EBF0F8",
             "zerolinewidth": 2
            }
           }
          },
          "xaxis": {
           "automargin": true,
           "autorange": false,
           "fixedrange": true,
           "linecolor": "#444",
           "linewidth": 2,
           "minor": {
            "tickmode": "linear",
            "ticks": "outside"
           },
           "mirror": true,
           "showline": true,
           "tickmode": "linear",
           "ticks": "outside",
           "zeroline": false
          },
          "yaxis": {
           "automargin": true,
           "autorange": false,
           "fixedrange": true,
           "linecolor": "#444",
           "linewidth": 2,
           "minor": {
            "tickmode": "linear",
            "ticks": "outside"
           },
           "mirror": true,
           "showline": true,
           "tickmode": "linear",
           "ticks": "outside",
           "zeroline": false
          }
         }
        },
        "xaxis": {
         "autorange": true,
         "showgrid": false,
         "title": {
          "text": ""
         }
        },
        "yaxis": {
         "autorange": true,
         "showgrid": false,
         "title": {
          "text": ""
         }
        }
       }
      }
     },
     "metadata": {},
     "output_type": "display_data"
    },
    {
     "data": {
      "application/vnd.plotly.v1+json": {
       "config": {
        "autosizable": true,
        "displayModeBar": "hover",
        "displaylogo": false,
        "modeBarButtonsToRemove": [
         "select2d",
         "lasso2d",
         "zoom2d",
         "zoomIn2d",
         "zoomOut2d",
         "pan2d",
         "autoScale2d",
         "hoverClosestCartesian",
         "hoverCompareCartesian",
         "toggleSpikelines",
         "resetScale2d"
        ],
        "plotlyServerURL": "https://plot.ly",
        "responsive": true,
        "showAxisDragHandles": false,
        "toImageButtonOptions": {
         "filename": "tfb-plot",
         "format": "png",
         "height": 450,
         "scale": 2,
         "width": 600
        }
       },
       "data": [
        {
         "colorscale": [
          [
           0,
           "rgb(247,251,255)"
          ],
          [
           0.125,
           "rgb(222,235,247)"
          ],
          [
           0.25,
           "rgb(198,219,239)"
          ],
          [
           0.375,
           "rgb(158,202,225)"
          ],
          [
           0.5,
           "rgb(107,174,214)"
          ],
          [
           0.625,
           "rgb(66,146,198)"
          ],
          [
           0.75,
           "rgb(33,113,181)"
          ],
          [
           0.875,
           "rgb(8,81,156)"
          ],
          [
           1,
           "rgb(8,48,107)"
          ]
         ],
         "hoverongaps": false,
         "hovertemplate": "<b>Type:</b> %{x}<br><b>Condition:</b> %{y}<br><b>Immune:</b> %{z:.0f}% (%{text})<extra></extra>",
         "showscale": false,
         "text": [
          [
           "10 out of 76",
           "0 out of 104",
           "0 out of 21",
           "28 out of 96",
           "1 out of 113",
           "0 out of 49",
           "1 out of 47",
           "8 out of 122",
           "0 out of 49",
           "3 out of 430",
           "5 out of 192",
           "13 out of 13",
           "18 out of 34",
           "7 out of 128"
          ],
          [
           "17 out of 76",
           "9 out of 104",
           "14 out of 21",
           "75 out of 96",
           "21 out of 113",
           "7 out of 49",
           "9 out of 47",
           "52 out of 122",
           "4 out of 49",
           "24 out of 430",
           "26 out of 192",
           "12 out of 13",
           "7 out of 34",
           "69 out of 128"
          ],
          [
           "0 out of 76",
           "0 out of 104",
           "0 out of 21",
           "29 out of 96",
           "2 out of 113",
           "0 out of 49",
           "0 out of 47",
           "5 out of 122",
           "0 out of 49",
           "1 out of 430",
           "3 out of 192",
           "13 out of 13",
           "14 out of 34",
           "9 out of 128"
          ],
          [
           "6 out of 76",
           "0 out of 104",
           "13 out of 21",
           "74 out of 96",
           "0 out of 113",
           "20 out of 49",
           "3 out of 47",
           "33 out of 122",
           "2 out of 49",
           "8 out of 430",
           "4 out of 192",
           "13 out of 13",
           "6 out of 34",
           "92 out of 128"
          ],
          [
           "20 out of 76",
           "9 out of 104",
           "13 out of 21",
           "70 out of 96",
           "26 out of 113",
           "7 out of 49",
           "8 out of 47",
           "52 out of 122",
           "9 out of 49",
           "32 out of 430",
           "26 out of 192",
           "8 out of 13",
           "9 out of 34",
           "62 out of 128"
          ],
          [
           "3 out of 76",
           "8 out of 104",
           "1 out of 21",
           "6 out of 96",
           "0 out of 113",
           "13 out of 49",
           "1 out of 47",
           "6 out of 122",
           "1 out of 49",
           "0 out of 430",
           "2 out of 192",
           "2 out of 13",
           "1 out of 34",
           "26 out of 128"
          ],
          [
           "0 out of 76",
           "0 out of 104",
           "0 out of 21",
           "1 out of 96",
           "0 out of 113",
           "0 out of 49",
           "0 out of 47",
           "0 out of 122",
           "0 out of 49",
           "0 out of 430",
           "0 out of 192",
           "0 out of 13",
           "0 out of 34",
           "0 out of 128"
          ],
          [
           "0 out of 76",
           "0 out of 104",
           "0 out of 21",
           "0 out of 96",
           "0 out of 113",
           "0 out of 49",
           "0 out of 47",
           "0 out of 122",
           "0 out of 49",
           "0 out of 430",
           "0 out of 192",
           "0 out of 13",
           "0 out of 34",
           "0 out of 128"
          ],
          [
           "6 out of 76",
           "9 out of 104",
           "4 out of 21",
           "73 out of 96",
           "1 out of 113",
           "27 out of 49",
           "2 out of 47",
           "7 out of 122",
           "2 out of 49",
           "3 out of 430",
           "12 out of 192",
           "1 out of 13",
           "5 out of 34",
           "60 out of 128"
          ],
          [
           "6 out of 76",
           "8 out of 104",
           "2 out of 21",
           "65 out of 96",
           "0 out of 113",
           "28 out of 49",
           "0 out of 47",
           "6 out of 122",
           "2 out of 49",
           "2 out of 430",
           "5 out of 192",
           "1 out of 13",
           "1 out of 34",
           "32 out of 128"
          ],
          [
           "7 out of 76",
           "0 out of 104",
           "6 out of 21",
           "86 out of 96",
           "18 out of 113",
           "36 out of 49",
           "6 out of 47",
           "102 out of 122",
           "4 out of 49",
           "19 out of 430",
           "24 out of 192",
           "1 out of 13",
           "4 out of 34",
           "111 out of 128"
          ],
          [
           "18 out of 76",
           "8 out of 104",
           "0 out of 21",
           "11 out of 96",
           "7 out of 113",
           "21 out of 49",
           "0 out of 47",
           "5 out of 122",
           "1 out of 49",
           "0 out of 430",
           "8 out of 192",
           "13 out of 13",
           "7 out of 34",
           "35 out of 128"
          ],
          [
           "4 out of 76",
           "8 out of 104",
           "1 out of 21",
           "3 out of 96",
           "0 out of 113",
           "17 out of 49",
           "0 out of 47",
           "6 out of 122",
           "1 out of 49",
           "0 out of 430",
           "3 out of 192",
           "2 out of 13",
           "1 out of 34",
           "26 out of 128"
          ],
          [
           "3 out of 76",
           "7 out of 104",
           "2 out of 21",
           "6 out of 96",
           "2 out of 113",
           "6 out of 49",
           "1 out of 47",
           "6 out of 122",
           "0 out of 49",
           "2 out of 430",
           "6 out of 192",
           "0 out of 13",
           "1 out of 34",
           "12 out of 128"
          ],
          [
           "0 out of 76",
           "0 out of 104",
           "0 out of 21",
           "8 out of 96",
           "0 out of 113",
           "11 out of 49",
           "0 out of 47",
           "3 out of 122",
           "1 out of 49",
           "0 out of 430",
           "0 out of 192",
           "1 out of 13",
           "0 out of 34",
           "6 out of 128"
          ]
         ],
         "texttemplate": "%{z:.0f}",
         "type": "heatmap",
         "x": [
          "aberration",
          "beast",
          "celestial",
          "construct",
          "dragon",
          "elemental",
          "fey",
          "fiend",
          "giant",
          "humanoid",
          "monstrosity",
          "ooze",
          "plant",
          "undead"
         ],
         "y": [
          "blinded",
          "charmed",
          "deafened",
          "exhaustion",
          "frightened",
          "grappled",
          "incapacitated",
          "invisible",
          "paralyzed",
          "petrified",
          "poisoned",
          "prone",
          "restrained",
          "stunned",
          "unconscious"
         ],
         "z": [
          [
           13,
           0,
           0,
           29,
           0,
           0,
           2,
           6,
           0,
           0,
           2,
           100,
           52,
           5
          ],
          [
           22,
           8,
           66,
           78,
           18,
           14,
           19,
           42,
           8,
           5,
           13,
           92,
           20,
           53
          ],
          [
           0,
           0,
           0,
           30,
           1,
           0,
           0,
           4,
           0,
           0,
           1,
           100,
           41,
           7
          ],
          [
           7,
           0,
           61,
           77,
           0,
           40,
           6,
           27,
           4,
           1,
           2,
           100,
           17,
           71
          ],
          [
           26,
           8,
           61,
           72,
           23,
           14,
           17,
           42,
           18,
           7,
           13,
           61,
           26,
           48
          ],
          [
           3,
           7,
           4,
           6,
           0,
           26,
           2,
           4,
           2,
           0,
           1,
           15,
           2,
           20
          ],
          [
           0,
           0,
           0,
           1,
           0,
           0,
           0,
           0,
           0,
           0,
           0,
           0,
           0,
           0
          ],
          [
           0,
           0,
           0,
           0,
           0,
           0,
           0,
           0,
           0,
           0,
           0,
           0,
           0,
           0
          ],
          [
           7,
           8,
           19,
           76,
           0,
           55,
           4,
           5,
           4,
           0,
           6,
           7,
           14,
           46
          ],
          [
           7,
           7,
           9,
           67,
           0,
           57,
           0,
           4,
           4,
           0,
           2,
           7,
           2,
           25
          ],
          [
           9,
           0,
           28,
           89,
           15,
           73,
           12,
           83,
           8,
           4,
           12,
           7,
           11,
           86
          ],
          [
           23,
           7,
           0,
           11,
           6,
           42,
           0,
           4,
           2,
           0,
           4,
           100,
           20,
           27
          ],
          [
           5,
           7,
           4,
           3,
           0,
           34,
           0,
           4,
           2,
           0,
           1,
           15,
           2,
           20
          ],
          [
           3,
           6,
           9,
           6,
           1,
           12,
           2,
           4,
           0,
           0,
           3,
           0,
           2,
           9
          ],
          [
           0,
           0,
           0,
           8,
           0,
           22,
           0,
           2,
           2,
           0,
           0,
           7,
           0,
           4
          ]
         ],
         "zmax": 120,
         "zmin": 0
        }
       ],
       "layout": {
        "font": {
         "family": "sans-serif",
         "size": 10
        },
        "template": {
         "data": {
          "bar": [
           {
            "error_x": {
             "color": "#2a3f5f"
            },
            "error_y": {
             "color": "#2a3f5f"
            },
            "marker": {
             "line": {
              "color": "#E5ECF6",
              "width": 0.5
             },
             "pattern": {
              "fillmode": "overlay",
              "size": 10,
              "solidity": 0.2
             }
            },
            "type": "bar"
           }
          ],
          "barpolar": [
           {
            "marker": {
             "line": {
              "color": "#E5ECF6",
              "width": 0.5
             },
             "pattern": {
              "fillmode": "overlay",
              "size": 10,
              "solidity": 0.2
             }
            },
            "type": "barpolar"
           }
          ],
          "carpet": [
           {
            "aaxis": {
             "endlinecolor": "#2a3f5f",
             "gridcolor": "white",
             "linecolor": "white",
             "minorgridcolor": "white",
             "startlinecolor": "#2a3f5f"
            },
            "baxis": {
             "endlinecolor": "#2a3f5f",
             "gridcolor": "white",
             "linecolor": "white",
             "minorgridcolor": "white",
             "startlinecolor": "#2a3f5f"
            },
            "type": "carpet"
           }
          ],
          "choropleth": [
           {
            "colorbar": {
             "outlinewidth": 0,
             "ticks": ""
            },
            "type": "choropleth"
           }
          ],
          "contour": [
           {
            "colorbar": {
             "outlinewidth": 0,
             "ticks": ""
            },
            "colorscale": [
             [
              0,
              "#0d0887"
             ],
             [
              0.1111111111111111,
              "#46039f"
             ],
             [
              0.2222222222222222,
              "#7201a8"
             ],
             [
              0.3333333333333333,
              "#9c179e"
             ],
             [
              0.4444444444444444,
              "#bd3786"
             ],
             [
              0.5555555555555556,
              "#d8576b"
             ],
             [
              0.6666666666666666,
              "#ed7953"
             ],
             [
              0.7777777777777778,
              "#fb9f3a"
             ],
             [
              0.8888888888888888,
              "#fdca26"
             ],
             [
              1,
              "#f0f921"
             ]
            ],
            "type": "contour"
           }
          ],
          "contourcarpet": [
           {
            "colorbar": {
             "outlinewidth": 0,
             "ticks": ""
            },
            "type": "contourcarpet"
           }
          ],
          "heatmap": [
           {
            "colorbar": {
             "outlinewidth": 0,
             "ticks": ""
            },
            "colorscale": [
             [
              0,
              "#0d0887"
             ],
             [
              0.1111111111111111,
              "#46039f"
             ],
             [
              0.2222222222222222,
              "#7201a8"
             ],
             [
              0.3333333333333333,
              "#9c179e"
             ],
             [
              0.4444444444444444,
              "#bd3786"
             ],
             [
              0.5555555555555556,
              "#d8576b"
             ],
             [
              0.6666666666666666,
              "#ed7953"
             ],
             [
              0.7777777777777778,
              "#fb9f3a"
             ],
             [
              0.8888888888888888,
              "#fdca26"
             ],
             [
              1,
              "#f0f921"
             ]
            ],
            "type": "heatmap"
           }
          ],
          "heatmapgl": [
           {
            "colorbar": {
             "outlinewidth": 0,
             "ticks": ""
            },
            "colorscale": [
             [
              0,
              "#0d0887"
             ],
             [
              0.1111111111111111,
              "#46039f"
             ],
             [
              0.2222222222222222,
              "#7201a8"
             ],
             [
              0.3333333333333333,
              "#9c179e"
             ],
             [
              0.4444444444444444,
              "#bd3786"
             ],
             [
              0.5555555555555556,
              "#d8576b"
             ],
             [
              0.6666666666666666,
              "#ed7953"
             ],
             [
              0.7777777777777778,
              "#fb9f3a"
             ],
             [
              0.8888888888888888,
              "#fdca26"
             ],
             [
              1,
              "#f0f921"
             ]
            ],
            "type": "heatmapgl"
           }
          ],
          "histogram": [
           {
            "marker": {
             "pattern": {
              "fillmode": "overlay",
              "size": 10,
              "solidity": 0.2
             }
            },
            "type": "histogram"
           }
          ],
          "histogram2d": [
           {
            "colorbar": {
             "outlinewidth": 0,
             "ticks": ""
            },
            "colorscale": [
             [
              0,
              "#0d0887"
             ],
             [
              0.1111111111111111,
              "#46039f"
             ],
             [
              0.2222222222222222,
              "#7201a8"
             ],
             [
              0.3333333333333333,
              "#9c179e"
             ],
             [
              0.4444444444444444,
              "#bd3786"
             ],
             [
              0.5555555555555556,
              "#d8576b"
             ],
             [
              0.6666666666666666,
              "#ed7953"
             ],
             [
              0.7777777777777778,
              "#fb9f3a"
             ],
             [
              0.8888888888888888,
              "#fdca26"
             ],
             [
              1,
              "#f0f921"
             ]
            ],
            "type": "histogram2d"
           }
          ],
          "histogram2dcontour": [
           {
            "colorbar": {
             "outlinewidth": 0,
             "ticks": ""
            },
            "colorscale": [
             [
              0,
              "#0d0887"
             ],
             [
              0.1111111111111111,
              "#46039f"
             ],
             [
              0.2222222222222222,
              "#7201a8"
             ],
             [
              0.3333333333333333,
              "#9c179e"
             ],
             [
              0.4444444444444444,
              "#bd3786"
             ],
             [
              0.5555555555555556,
              "#d8576b"
             ],
             [
              0.6666666666666666,
              "#ed7953"
             ],
             [
              0.7777777777777778,
              "#fb9f3a"
             ],
             [
              0.8888888888888888,
              "#fdca26"
             ],
             [
              1,
              "#f0f921"
             ]
            ],
            "type": "histogram2dcontour"
           }
          ],
          "mesh3d": [
           {
            "colorbar": {
             "outlinewidth": 0,
             "ticks": ""
            },
            "type": "mesh3d"
           }
          ],
          "parcoords": [
           {
            "line": {
             "colorbar": {
              "outlinewidth": 0,
              "ticks": ""
             }
            },
            "type": "parcoords"
           }
          ],
          "pie": [
           {
            "automargin": true,
            "type": "pie"
           }
          ],
          "scatter": [
           {
            "fillpattern": {
             "fillmode": "overlay",
             "size": 10,
             "solidity": 0.2
            },
            "type": "scatter"
           }
          ],
          "scatter3d": [
           {
            "line": {
             "colorbar": {
              "outlinewidth": 0,
              "ticks": ""
             }
            },
            "marker": {
             "colorbar": {
              "outlinewidth": 0,
              "ticks": ""
             }
            },
            "type": "scatter3d"
           }
          ],
          "scattercarpet": [
           {
            "marker": {
             "colorbar": {
              "outlinewidth": 0,
              "ticks": ""
             }
            },
            "type": "scattercarpet"
           }
          ],
          "scattergeo": [
           {
            "marker": {
             "colorbar": {
              "outlinewidth": 0,
              "ticks": ""
             }
            },
            "type": "scattergeo"
           }
          ],
          "scattergl": [
           {
            "marker": {
             "colorbar": {
              "outlinewidth": 0,
              "ticks": ""
             }
            },
            "type": "scattergl"
           }
          ],
          "scattermapbox": [
           {
            "marker": {
             "colorbar": {
              "outlinewidth": 0,
              "ticks": ""
             }
            },
            "type": "scattermapbox"
           }
          ],
          "scatterpolar": [
           {
            "marker": {
             "colorbar": {
              "outlinewidth": 0,
              "ticks": ""
             }
            },
            "type": "scatterpolar"
           }
          ],
          "scatterpolargl": [
           {
            "marker": {
             "colorbar": {
              "outlinewidth": 0,
              "ticks": ""
             }
            },
            "type": "scatterpolargl"
           }
          ],
          "scatterternary": [
           {
            "marker": {
             "colorbar": {
              "outlinewidth": 0,
              "ticks": ""
             }
            },
            "type": "scatterternary"
           }
          ],
          "surface": [
           {
            "colorbar": {
             "outlinewidth": 0,
             "ticks": ""
            },
            "colorscale": [
             [
              0,
              "#0d0887"
             ],
             [
              0.1111111111111111,
              "#46039f"
             ],
             [
              0.2222222222222222,
              "#7201a8"
             ],
             [
              0.3333333333333333,
              "#9c179e"
             ],
             [
              0.4444444444444444,
              "#bd3786"
             ],
             [
              0.5555555555555556,
              "#d8576b"
             ],
             [
              0.6666666666666666,
              "#ed7953"
             ],
             [
              0.7777777777777778,
              "#fb9f3a"
             ],
             [
              0.8888888888888888,
              "#fdca26"
             ],
             [
              1,
              "#f0f921"
             ]
            ],
            "type": "surface"
           }
          ],
          "table": [
           {
            "cells": {
             "fill": {
              "color": "#EBF0F8"
             },
             "line": {
              "color": "white"
             }
            },
            "header": {
             "fill": {
              "color": "#C8D4E3"
             },
             "line": {
              "color": "white"
             }
            },
            "type": "table"
           }
          ]
         },
         "layout": {
          "autosize": true,
          "font": {
           "family": "sans-serif",
           "size": 14
          },
          "hovermode": "closest",
          "margin": {
           "b": 40,
           "l": 50,
           "pad": 4,
           "r": 25,
           "t": 20
          },
          "template": {
           "data": {
            "bar": [
             {
              "error_x": {
               "color": "#2a3f5f"
              },
              "error_y": {
               "color": "#2a3f5f"
              },
              "marker": {
               "line": {
                "color": "white",
                "width": 0.5
               },
               "pattern": {
                "fillmode": "overlay",
                "size": 10,
                "solidity": 0.2
               }
              },
              "type": "bar"
             }
            ],
            "barpolar": [
             {
              "marker": {
               "line": {
                "color": "white",
                "width": 0.5
               },
               "pattern": {
                "fillmode": "overlay",
                "size": 10,
                "solidity": 0.2
               }
              },
              "type": "barpolar"
             }
            ],
            "carpet": [
             {
              "aaxis": {
               "endlinecolor": "#2a3f5f",
               "gridcolor": "#C8D4E3",
               "linecolor": "#C8D4E3",
               "minorgridcolor": "#C8D4E3",
               "startlinecolor": "#2a3f5f"
              },
              "baxis": {
               "endlinecolor": "#2a3f5f",
               "gridcolor": "#C8D4E3",
               "linecolor": "#C8D4E3",
               "minorgridcolor": "#C8D4E3",
               "startlinecolor": "#2a3f5f"
              },
              "type": "carpet"
             }
            ],
            "choropleth": [
             {
              "colorbar": {
               "outlinewidth": 0,
               "ticks": ""
              },
              "type": "choropleth"
             }
            ],
            "contour": [
             {
              "colorbar": {
               "outlinewidth": 0,
               "ticks": ""
              },
              "colorscale": [
               [
                0,
                "#0d0887"
               ],
               [
                0.1111111111111111,
                "#46039f"
               ],
               [
                0.2222222222222222,
                "#7201a8"
               ],
               [
                0.3333333333333333,
                "#9c179e"
               ],
               [
                0.4444444444444444,
                "#bd3786"
               ],
               [
                0.5555555555555556,
                "#d8576b"
               ],
               [
                0.6666666666666666,
                "#ed7953"
               ],
               [
                0.7777777777777778,
                "#fb9f3a"
               ],
               [
                0.8888888888888888,
                "#fdca26"
               ],
               [
                1,
                "#f0f921"
               ]
              ],
              "type": "contour"
             }
            ],
            "contourcarpet": [
             {
              "colorbar": {
               "outlinewidth": 0,
               "ticks": ""
              },
              "type": "contourcarpet"
             }
            ],
            "heatmap": [
             {
              "colorbar": {
               "outlinewidth": 0,
               "ticks": ""
              },
              "colorscale": [
               [
                0,
                "#0d0887"
               ],
               [
                0.1111111111111111,
                "#46039f"
               ],
               [
                0.2222222222222222,
                "#7201a8"
               ],
               [
                0.3333333333333333,
                "#9c179e"
               ],
               [
                0.4444444444444444,
                "#bd3786"
               ],
               [
                0.5555555555555556,
                "#d8576b"
               ],
               [
                0.6666666666666666,
                "#ed7953"
               ],
               [
                0.7777777777777778,
                "#fb9f3a"
               ],
               [
                0.8888888888888888,
                "#fdca26"
               ],
               [
                1,
                "#f0f921"
               ]
              ],
              "type": "heatmap"
             }
            ],
            "heatmapgl": [
             {
              "colorbar": {
               "outlinewidth": 0,
               "ticks": ""
              },
              "colorscale": [
               [
                0,
                "#0d0887"
               ],
               [
                0.1111111111111111,
                "#46039f"
               ],
               [
                0.2222222222222222,
                "#7201a8"
               ],
               [
                0.3333333333333333,
                "#9c179e"
               ],
               [
                0.4444444444444444,
                "#bd3786"
               ],
               [
                0.5555555555555556,
                "#d8576b"
               ],
               [
                0.6666666666666666,
                "#ed7953"
               ],
               [
                0.7777777777777778,
                "#fb9f3a"
               ],
               [
                0.8888888888888888,
                "#fdca26"
               ],
               [
                1,
                "#f0f921"
               ]
              ],
              "type": "heatmapgl"
             }
            ],
            "histogram": [
             {
              "marker": {
               "pattern": {
                "fillmode": "overlay",
                "size": 10,
                "solidity": 0.2
               }
              },
              "type": "histogram"
             }
            ],
            "histogram2d": [
             {
              "colorbar": {
               "outlinewidth": 0,
               "ticks": ""
              },
              "colorscale": [
               [
                0,
                "#0d0887"
               ],
               [
                0.1111111111111111,
                "#46039f"
               ],
               [
                0.2222222222222222,
                "#7201a8"
               ],
               [
                0.3333333333333333,
                "#9c179e"
               ],
               [
                0.4444444444444444,
                "#bd3786"
               ],
               [
                0.5555555555555556,
                "#d8576b"
               ],
               [
                0.6666666666666666,
                "#ed7953"
               ],
               [
                0.7777777777777778,
                "#fb9f3a"
               ],
               [
                0.8888888888888888,
                "#fdca26"
               ],
               [
                1,
                "#f0f921"
               ]
              ],
              "type": "histogram2d"
             }
            ],
            "histogram2dcontour": [
             {
              "colorbar": {
               "outlinewidth": 0,
               "ticks": ""
              },
              "colorscale": [
               [
                0,
                "#0d0887"
               ],
               [
                0.1111111111111111,
                "#46039f"
               ],
               [
                0.2222222222222222,
                "#7201a8"
               ],
               [
                0.3333333333333333,
                "#9c179e"
               ],
               [
                0.4444444444444444,
                "#bd3786"
               ],
               [
                0.5555555555555556,
                "#d8576b"
               ],
               [
                0.6666666666666666,
                "#ed7953"
               ],
               [
                0.7777777777777778,
                "#fb9f3a"
               ],
               [
                0.8888888888888888,
                "#fdca26"
               ],
               [
                1,
                "#f0f921"
               ]
              ],
              "type": "histogram2dcontour"
             }
            ],
            "mesh3d": [
             {
              "colorbar": {
               "outlinewidth": 0,
               "ticks": ""
              },
              "type": "mesh3d"
             }
            ],
            "parcoords": [
             {
              "line": {
               "colorbar": {
                "outlinewidth": 0,
                "ticks": ""
               }
              },
              "type": "parcoords"
             }
            ],
            "pie": [
             {
              "automargin": true,
              "type": "pie"
             }
            ],
            "scatter": [
             {
              "fillpattern": {
               "fillmode": "overlay",
               "size": 10,
               "solidity": 0.2
              },
              "type": "scatter"
             }
            ],
            "scatter3d": [
             {
              "line": {
               "colorbar": {
                "outlinewidth": 0,
                "ticks": ""
               }
              },
              "marker": {
               "colorbar": {
                "outlinewidth": 0,
                "ticks": ""
               }
              },
              "type": "scatter3d"
             }
            ],
            "scattercarpet": [
             {
              "marker": {
               "colorbar": {
                "outlinewidth": 0,
                "ticks": ""
               }
              },
              "type": "scattercarpet"
             }
            ],
            "scattergeo": [
             {
              "marker": {
               "colorbar": {
                "outlinewidth": 0,
                "ticks": ""
               }
              },
              "type": "scattergeo"
             }
            ],
            "scattergl": [
             {
              "marker": {
               "colorbar": {
                "outlinewidth": 0,
                "ticks": ""
               }
              },
              "type": "scattergl"
             }
            ],
            "scattermapbox": [
             {
              "marker": {
               "colorbar": {
                "outlinewidth": 0,
                "ticks": ""
               }
              },
              "type": "scattermapbox"
             }
            ],
            "scatterpolar": [
             {
              "marker": {
               "colorbar": {
                "outlinewidth": 0,
                "ticks": ""
               }
              },
              "type": "scatterpolar"
             }
            ],
            "scatterpolargl": [
             {
              "marker": {
               "colorbar": {
                "outlinewidth": 0,
                "ticks": ""
               }
              },
              "type": "scatterpolargl"
             }
            ],
            "scatterternary": [
             {
              "marker": {
               "colorbar": {
                "outlinewidth": 0,
                "ticks": ""
               }
              },
              "type": "scatterternary"
             }
            ],
            "surface": [
             {
              "colorbar": {
               "outlinewidth": 0,
               "ticks": ""
              },
              "colorscale": [
               [
                0,
                "#0d0887"
               ],
               [
                0.1111111111111111,
                "#46039f"
               ],
               [
                0.2222222222222222,
                "#7201a8"
               ],
               [
                0.3333333333333333,
                "#9c179e"
               ],
               [
                0.4444444444444444,
                "#bd3786"
               ],
               [
                0.5555555555555556,
                "#d8576b"
               ],
               [
                0.6666666666666666,
                "#ed7953"
               ],
               [
                0.7777777777777778,
                "#fb9f3a"
               ],
               [
                0.8888888888888888,
                "#fdca26"
               ],
               [
                1,
                "#f0f921"
               ]
              ],
              "type": "surface"
             }
            ],
            "table": [
             {
              "cells": {
               "fill": {
                "color": "#EBF0F8"
               },
               "line": {
                "color": "white"
               }
              },
              "header": {
               "fill": {
                "color": "#C8D4E3"
               },
               "line": {
                "color": "white"
               }
              },
              "type": "table"
             }
            ]
           },
           "layout": {
            "annotationdefaults": {
             "arrowcolor": "#2a3f5f",
             "arrowhead": 0,
             "arrowwidth": 1
            },
            "autotypenumbers": "strict",
            "coloraxis": {
             "colorbar": {
              "outlinewidth": 0,
              "ticks": ""
             }
            },
            "colorscale": {
             "diverging": [
              [
               0,
               "#8e0152"
              ],
              [
               0.1,
               "#c51b7d"
              ],
              [
               0.2,
               "#de77ae"
              ],
              [
               0.3,
               "#f1b6da"
              ],
              [
               0.4,
               "#fde0ef"
              ],
              [
               0.5,
               "#f7f7f7"
              ],
              [
               0.6,
               "#e6f5d0"
              ],
              [
               0.7,
               "#b8e186"
              ],
              [
               0.8,
               "#7fbc41"
              ],
              [
               0.9,
               "#4d9221"
              ],
              [
               1,
               "#276419"
              ]
             ],
             "sequential": [
              [
               0,
               "#0d0887"
              ],
              [
               0.1111111111111111,
               "#46039f"
              ],
              [
               0.2222222222222222,
               "#7201a8"
              ],
              [
               0.3333333333333333,
               "#9c179e"
              ],
              [
               0.4444444444444444,
               "#bd3786"
              ],
              [
               0.5555555555555556,
               "#d8576b"
              ],
              [
               0.6666666666666666,
               "#ed7953"
              ],
              [
               0.7777777777777778,
               "#fb9f3a"
              ],
              [
               0.8888888888888888,
               "#fdca26"
              ],
              [
               1,
               "#f0f921"
              ]
             ],
             "sequentialminus": [
              [
               0,
               "#0d0887"
              ],
              [
               0.1111111111111111,
               "#46039f"
              ],
              [
               0.2222222222222222,
               "#7201a8"
              ],
              [
               0.3333333333333333,
               "#9c179e"
              ],
              [
               0.4444444444444444,
               "#bd3786"
              ],
              [
               0.5555555555555556,
               "#d8576b"
              ],
              [
               0.6666666666666666,
               "#ed7953"
              ],
              [
               0.7777777777777778,
               "#fb9f3a"
              ],
              [
               0.8888888888888888,
               "#fdca26"
              ],
              [
               1,
               "#f0f921"
              ]
             ]
            },
            "colorway": [
             "#636efa",
             "#EF553B",
             "#00cc96",
             "#ab63fa",
             "#FFA15A",
             "#19d3f3",
             "#FF6692",
             "#B6E880",
             "#FF97FF",
             "#FECB52"
            ],
            "font": {
             "color": "#2a3f5f"
            },
            "geo": {
             "bgcolor": "white",
             "lakecolor": "white",
             "landcolor": "white",
             "showlakes": true,
             "showland": true,
             "subunitcolor": "#C8D4E3"
            },
            "hoverlabel": {
             "align": "left"
            },
            "hovermode": "closest",
            "mapbox": {
             "style": "light"
            },
            "paper_bgcolor": "white",
            "plot_bgcolor": "white",
            "polar": {
             "angularaxis": {
              "gridcolor": "#EBF0F8",
              "linecolor": "#EBF0F8",
              "ticks": ""
             },
             "bgcolor": "white",
             "radialaxis": {
              "gridcolor": "#EBF0F8",
              "linecolor": "#EBF0F8",
              "ticks": ""
             }
            },
            "scene": {
             "xaxis": {
              "backgroundcolor": "white",
              "gridcolor": "#DFE8F3",
              "gridwidth": 2,
              "linecolor": "#EBF0F8",
              "showbackground": true,
              "ticks": "",
              "zerolinecolor": "#EBF0F8"
             },
             "yaxis": {
              "backgroundcolor": "white",
              "gridcolor": "#DFE8F3",
              "gridwidth": 2,
              "linecolor": "#EBF0F8",
              "showbackground": true,
              "ticks": "",
              "zerolinecolor": "#EBF0F8"
             },
             "zaxis": {
              "backgroundcolor": "white",
              "gridcolor": "#DFE8F3",
              "gridwidth": 2,
              "linecolor": "#EBF0F8",
              "showbackground": true,
              "ticks": "",
              "zerolinecolor": "#EBF0F8"
             }
            },
            "shapedefaults": {
             "line": {
              "color": "#2a3f5f"
             }
            },
            "ternary": {
             "aaxis": {
              "gridcolor": "#DFE8F3",
              "linecolor": "#A2B1C6",
              "ticks": ""
             },
             "baxis": {
              "gridcolor": "#DFE8F3",
              "linecolor": "#A2B1C6",
              "ticks": ""
             },
             "bgcolor": "white",
             "caxis": {
              "gridcolor": "#DFE8F3",
              "linecolor": "#A2B1C6",
              "ticks": ""
             }
            },
            "title": {
             "x": 0.05
            },
            "xaxis": {
             "automargin": true,
             "gridcolor": "#EBF0F8",
             "linecolor": "#EBF0F8",
             "ticks": "",
             "title": {
              "standoff": 15
             },
             "zerolinecolor": "#EBF0F8",
             "zerolinewidth": 2
            },
            "yaxis": {
             "automargin": true,
             "gridcolor": "#EBF0F8",
             "linecolor": "#EBF0F8",
             "ticks": "",
             "title": {
              "standoff": 15
             },
             "zerolinecolor": "#EBF0F8",
             "zerolinewidth": 2
            }
           }
          },
          "xaxis": {
           "automargin": true,
           "autorange": false,
           "fixedrange": true,
           "linecolor": "#444",
           "linewidth": 2,
           "minor": {
            "tickmode": "linear",
            "ticks": "outside"
           },
           "mirror": true,
           "showline": true,
           "tickmode": "linear",
           "ticks": "outside",
           "zeroline": false
          },
          "yaxis": {
           "automargin": true,
           "autorange": false,
           "fixedrange": true,
           "linecolor": "#444",
           "linewidth": 2,
           "minor": {
            "tickmode": "linear",
            "ticks": "outside"
           },
           "mirror": true,
           "showline": true,
           "tickmode": "linear",
           "ticks": "outside",
           "zeroline": false
          }
         }
        },
        "xaxis": {
         "autorange": true,
         "showgrid": false,
         "title": {
          "text": ""
         }
        },
        "yaxis": {
         "autorange": true,
         "showgrid": false,
         "title": {
          "text": ""
         }
        }
       }
      }
     },
     "metadata": {},
     "output_type": "display_data"
    }
   ],
   "source": [
    "# Calculates the probability of a monster for each being immune to each condition.\n",
    "df1 = df0[df0['Category'].isin(['generic','legendary','unique']) & df0['CR'].between(1/8, 30)]\n",
    "\n",
    "# get the total number of monsters from each type\n",
    "dfG = df1.groupby(['Type']).count().reset_index()\n",
    "type_totals = dfG['Book'].to_list()\n",
    "print('Total number of monsters:', np.sum(type_totals))\n",
    "\n",
    "# get the number of monsters immune to each condition for each type\n",
    "dfG = df1.groupby(['Type']).sum().reset_index()\n",
    "\n",
    "# construct custom text for each cell\n",
    "custom_texts = []\n",
    "for c in CONDITIONS:\n",
    "    type_immune = dfG[c].to_list()\n",
    "    custom_texts.append([f'{i:.0f} out of {t}' for i, t in zip(type_immune, type_totals)])\n",
    "\n",
    "# get percent of each type immune to each condition\n",
    "dfG = df1.groupby(['Type']).mean().reset_index()\n",
    "z = []\n",
    "conditions = CONDITIONS.copy()\n",
    "for condition in conditions:\n",
    "    row = dfG[condition].tolist()\n",
    "    row = [int(100*v) for v in row]\n",
    "    z.append(row)\n",
    "\n",
    "x = [x.lower() for x in dfG['Type'].tolist()]\n",
    "y = [x.lower() for x in conditions]\n",
    "\n",
    "fig = go.Figure()\n",
    "fig.add_trace(go.Heatmap(\n",
    "    z=z, x=x, y=y,\n",
    "    zmin=0, zmax=120,\n",
    "    hoverongaps=False,\n",
    "    colorscale='blues',\n",
    "    text=custom_texts,\n",
    "    texttemplate='%{z:.0f}',\n",
    "    hovertemplate='<b>Type:</b> %{x}<br>'+\n",
    "                  '<b>Condition:</b> %{y}<br>'+\n",
    "                  '<b>Immune:</b> %{z:.0f}% (%{text})'+\n",
    "                  '<extra></extra>'\n",
    "))\n",
    "\n",
    "fig.update_traces(showscale=False)\n",
    "\n",
    "# save large format figure\n",
    "fig.update_layout(\n",
    "    template=TFB_TEMPLATE,\n",
    "    font=dict(size=12),\n",
    "    xaxis=dict(\n",
    "        title_text='',\n",
    "        autorange=True,\n",
    "        showgrid=False,\n",
    "    ),\n",
    "    yaxis=dict(\n",
    "        title_text='',\n",
    "        autorange=True,\n",
    "        showgrid=False,\n",
    "    ),\n",
    ")\n",
    "\n",
    "fig.show(config=TFB_CONFIG)\n",
    "if SAVEFIGS:\n",
    "    file_name = f'./fig-condition-immunity-probability-heat-map-large.html'\n",
    "    fig.write_html(\n",
    "        file_name, \n",
    "        include_plotlyjs=False, \n",
    "        full_html=False, \n",
    "        config=TFB_CONFIG\n",
    "    )\n",
    "    # add style to figure\n",
    "    with open(file_name, 'r') as fin:\n",
    "        fig_soup = BeautifulSoup(fin, 'html.parser')\n",
    "\n",
    "    fig_soup.div['class'] = 'plotly-div-large'\n",
    "    fig_soup.div['style'] = 'width:1000px; min-width:50%; max-width:100%; max-height:500px'\n",
    "    with open(file_name, 'wb') as fout:\n",
    "        fout.write(fig_soup.prettify('utf-8'))\n",
    "\n",
    "# save small format figure\n",
    "fig.update_layout(\n",
    "    template=TFB_TEMPLATE,\n",
    "    font=dict(\n",
    "        family='sans-serif',\n",
    "        size=10\n",
    "    ),\n",
    "    xaxis=dict(\n",
    "        title_text='',\n",
    "        autorange=True,\n",
    "        showgrid=False,\n",
    "    ),\n",
    "    yaxis=dict(\n",
    "        title_text='',\n",
    "        autorange=True,\n",
    "        showgrid=False,\n",
    "    ),\n",
    ")\n",
    "\n",
    "fig.show(config=TFB_CONFIG)\n",
    "if SAVEFIGS:\n",
    "    file_name = f'./fig-condition-immunity-probability-heat-map-small.html'\n",
    "    fig.write_html(\n",
    "        file_name, \n",
    "        include_plotlyjs=False, \n",
    "        full_html=False, \n",
    "        config=TFB_CONFIG\n",
    "    )\n",
    "    # add style to figure\n",
    "    with open(file_name, 'r') as fin:\n",
    "        fig_soup = BeautifulSoup(fin, 'html.parser')\n",
    "\n",
    "    fig_soup.div['class'] = 'plotly-div-small'\n",
    "    fig_soup.div['style'] = 'width:1000px; min-width:50%; max-width:100%; max-height:500px'\n",
    "    with open(file_name, 'wb') as fout:\n",
    "        fout.write(fig_soup.prettify('utf-8'))"
   ]
  },
  {
   "cell_type": "code",
   "execution_count": 12,
   "metadata": {},
   "outputs": [
    {
     "data": {
      "application/vnd.plotly.v1+json": {
       "config": {
        "autosizable": true,
        "displayModeBar": "hover",
        "displaylogo": false,
        "modeBarButtonsToRemove": [
         "select2d",
         "lasso2d",
         "zoom2d",
         "zoomIn2d",
         "zoomOut2d",
         "pan2d",
         "autoScale2d",
         "hoverClosestCartesian",
         "hoverCompareCartesian",
         "toggleSpikelines",
         "resetScale2d"
        ],
        "plotlyServerURL": "https://plot.ly",
        "responsive": true,
        "showAxisDragHandles": false,
        "toImageButtonOptions": {
         "filename": "tfb-plot",
         "format": "png",
         "height": 450,
         "scale": 2,
         "width": 600
        }
       },
       "data": [
        {
         "hovertemplate": "<b>CR:</b> %{x}<br><b>Condition:</b> Blinded<br><b>Immune:</b> %{y:.0f}% %{text}<extra></extra>",
         "legendgroup": "Blinded",
         "line": {
          "shape": "spline"
         },
         "marker": {
          "color": "gold",
          "size": 4
         },
         "mode": "markers",
         "name": "Blinded",
         "showlegend": true,
         "text": [
          "(5 out of 50)",
          "(9 out of 97)",
          "(10 out of 93)",
          "(8 out of 110)",
          "(8 out of 165)",
          "(7 out of 136)",
          "(5 out of 97)",
          "(8 out of 124)",
          "(4 out of 65)",
          "(4 out of 65)",
          "(3 out of 76)",
          "(1 out of 48)",
          "(3 out of 37)",
          "(2 out of 40)",
          "(1 out of 27)",
          "(1 out of 33)",
          "(1 out of 24)",
          "(1 out of 20)",
          "(1 out of 25)",
          "(0 out of 16)",
          "(0 out of 14)",
          "(1 out of 9)",
          "(0 out of 11)",
          "(1 out of 15)",
          "(2 out of 16)",
          "(4 out of 22)",
          "(2 out of 14)",
          "(0 out of 9)",
          "(0 out of 8)",
          "(0 out of 1)",
          "(0 out of 3)",
          "(2 out of 4)"
         ],
         "type": "scatter",
         "unselected": {
          "marker": {
           "opacity": 0
          }
         },
         "x": [
          0.125,
          0.25,
          0.5,
          1,
          2,
          3,
          4,
          5,
          6,
          7,
          8,
          9,
          10,
          11,
          12,
          13,
          14,
          15,
          16,
          17,
          18,
          19,
          20,
          21,
          22,
          23,
          24,
          25,
          26,
          27,
          28,
          30
         ],
         "y": [
          10,
          9.278350515463918,
          10.75268817204301,
          7.2727272727272725,
          4.848484848484849,
          5.147058823529411,
          5.154639175257731,
          6.451612903225806,
          6.153846153846154,
          6.153846153846154,
          3.9473684210526314,
          2.083333333333333,
          8.108108108108109,
          5,
          3.7037037037037033,
          3.0303030303030303,
          4.166666666666666,
          5,
          4,
          0,
          0,
          11.11111111111111,
          0,
          6.666666666666667,
          12.5,
          18.181818181818183,
          14.285714285714285,
          0,
          0,
          0,
          0,
          50
         ]
        },
        {
         "hoverinfo": "skip",
         "legendgroup": "Blinded",
         "legendgrouptitle": {
          "text": "fit"
         },
         "line": {
          "color": "gold",
          "dash": "solid"
         },
         "mode": "lines",
         "showlegend": false,
         "type": "scatter",
         "unselected": {
          "marker": {
           "opacity": 0
          }
         },
         "x": [
          0.125,
          0.25,
          0.5,
          1,
          2,
          3,
          4,
          5,
          6,
          7,
          8,
          9,
          10,
          11,
          12,
          13,
          14,
          15,
          16,
          17,
          18,
          19,
          20,
          21,
          22,
          23,
          24,
          25,
          26,
          27,
          28,
          30
         ],
         "y": [
          4.495347028234974,
          4.518202050650043,
          4.56391209548018,
          4.6553321851404545,
          4.838172364461005,
          5.021012543781554,
          5.203852723102104,
          5.386692902422653,
          5.569533081743202,
          5.752373261063752,
          5.9352134403843015,
          6.118053619704851,
          6.300893799025401,
          6.48373397834595,
          6.666574157666499,
          6.849414336987049,
          7.0322545163075985,
          7.215094695628148,
          7.397934874948698,
          7.580775054269248,
          7.763615233589797,
          7.946455412910346,
          8.129295592230896,
          8.312135771551446,
          8.494975950871995,
          8.677816130192545,
          8.860656309513093,
          9.043496488833643,
          9.226336668154193,
          9.409176847474743,
          9.592017026795292,
          9.95769738543639
         ]
        },
        {
         "hovertemplate": "<b>CR:</b> %{x}<br><b>Condition:</b> Charmed<br><b>Immune:</b> %{y:.0f}% %{text}<extra></extra>",
         "legendgroup": "Charmed",
         "line": {
          "shape": "spline"
         },
         "marker": {
          "color": "red",
          "size": 4
         },
         "mode": "markers",
         "name": "Charmed",
         "showlegend": true,
         "text": [
          "(5 out of 50)",
          "(11 out of 97)",
          "(9 out of 93)",
          "(22 out of 110)",
          "(23 out of 165)",
          "(15 out of 136)",
          "(20 out of 97)",
          "(26 out of 124)",
          "(14 out of 65)",
          "(10 out of 65)",
          "(19 out of 76)",
          "(8 out of 48)",
          "(15 out of 37)",
          "(13 out of 40)",
          "(10 out of 27)",
          "(10 out of 33)",
          "(8 out of 24)",
          "(6 out of 20)",
          "(13 out of 25)",
          "(6 out of 16)",
          "(12 out of 14)",
          "(5 out of 9)",
          "(4 out of 11)",
          "(10 out of 15)",
          "(9 out of 16)",
          "(13 out of 22)",
          "(9 out of 14)",
          "(5 out of 9)",
          "(8 out of 8)",
          "(1 out of 1)",
          "(3 out of 3)",
          "(4 out of 4)"
         ],
         "type": "scatter",
         "unselected": {
          "marker": {
           "opacity": 0
          }
         },
         "x": [
          0.125,
          0.25,
          0.5,
          1,
          2,
          3,
          4,
          5,
          6,
          7,
          8,
          9,
          10,
          11,
          12,
          13,
          14,
          15,
          16,
          17,
          18,
          19,
          20,
          21,
          22,
          23,
          24,
          25,
          26,
          27,
          28,
          30
         ],
         "y": [
          10,
          11.34020618556701,
          9.67741935483871,
          20,
          13.939393939393941,
          11.029411764705882,
          20.618556701030926,
          20.967741935483872,
          21.53846153846154,
          15.384615384615385,
          25,
          16.666666666666664,
          40.54054054054054,
          32.5,
          37.03703703703704,
          30.303030303030305,
          33.33333333333333,
          30,
          52,
          37.5,
          85.71428571428571,
          55.55555555555556,
          36.36363636363637,
          66.66666666666666,
          56.25,
          59.09090909090909,
          64.28571428571429,
          55.55555555555556,
          100,
          100,
          100,
          100
         ]
        },
        {
         "hoverinfo": "skip",
         "legendgroup": "Charmed",
         "legendgrouptitle": {
          "text": "fit"
         },
         "line": {
          "color": "red",
          "dash": "solid"
         },
         "mode": "lines",
         "showlegend": false,
         "type": "scatter",
         "unselected": {
          "marker": {
           "opacity": 0
          }
         },
         "x": [
          0.125,
          0.25,
          0.5,
          1,
          2,
          3,
          4,
          5,
          6,
          7,
          8,
          9,
          10,
          11,
          12,
          13,
          14,
          15,
          16,
          17,
          18,
          19,
          20,
          21,
          22,
          23,
          24,
          25,
          26,
          27,
          28,
          30
         ],
         "y": [
          4.402123581865059,
          4.7567267534785005,
          5.465933096705383,
          6.884345783159147,
          9.721171156066676,
          12.557996528974204,
          15.394821901881734,
          18.231647274789264,
          21.06847264769679,
          23.90529802060432,
          26.74212339351185,
          29.57894876641938,
          32.41577413932691,
          35.25259951223444,
          38.089424885141966,
          40.92625025804949,
          43.76307563095702,
          46.59990100386456,
          49.436726376772086,
          52.27355174967961,
          55.11037712258714,
          57.947202495494665,
          60.784027868402205,
          63.62085324130973,
          66.45767861421726,
          69.29450398712478,
          72.13132936003231,
          74.96815473293985,
          77.80498010584738,
          80.6418054787549,
          83.47863085166243,
          89.1522815974775
         ]
        },
        {
         "hovertemplate": "<b>CR:</b> %{x}<br><b>Condition:</b> Deafened<br><b>Immune:</b> %{y:.0f}% %{text}<extra></extra>",
         "legendgroup": "Deafened",
         "line": {
          "shape": "spline"
         },
         "marker": {
          "color": "green",
          "size": 4
         },
         "mode": "markers",
         "name": "Deafened",
         "showlegend": true,
         "text": [
          "(5 out of 50)",
          "(7 out of 97)",
          "(7 out of 93)",
          "(6 out of 110)",
          "(7 out of 165)",
          "(3 out of 136)",
          "(4 out of 97)",
          "(6 out of 124)",
          "(2 out of 65)",
          "(3 out of 65)",
          "(3 out of 76)",
          "(1 out of 48)",
          "(3 out of 37)",
          "(1 out of 40)",
          "(1 out of 27)",
          "(1 out of 33)",
          "(1 out of 24)",
          "(1 out of 20)",
          "(2 out of 25)",
          "(0 out of 16)",
          "(2 out of 14)",
          "(0 out of 9)",
          "(1 out of 11)",
          "(1 out of 15)",
          "(1 out of 16)",
          "(3 out of 22)",
          "(1 out of 14)",
          "(0 out of 9)",
          "(0 out of 8)",
          "(0 out of 1)",
          "(0 out of 3)",
          "(3 out of 4)"
         ],
         "type": "scatter",
         "unselected": {
          "marker": {
           "opacity": 0
          }
         },
         "x": [
          0.125,
          0.25,
          0.5,
          1,
          2,
          3,
          4,
          5,
          6,
          7,
          8,
          9,
          10,
          11,
          12,
          13,
          14,
          15,
          16,
          17,
          18,
          19,
          20,
          21,
          22,
          23,
          24,
          25,
          26,
          27,
          28,
          30
         ],
         "y": [
          10,
          7.216494845360824,
          7.526881720430108,
          5.454545454545454,
          4.242424242424243,
          2.2058823529411766,
          4.123711340206185,
          4.838709677419355,
          3.076923076923077,
          4.615384615384616,
          3.9473684210526314,
          2.083333333333333,
          8.108108108108109,
          2.5,
          3.7037037037037033,
          3.0303030303030303,
          4.166666666666666,
          5,
          8,
          0,
          14.285714285714285,
          0,
          9.090909090909092,
          6.666666666666667,
          6.25,
          13.636363636363635,
          7.142857142857142,
          0,
          0,
          0,
          0,
          75
         ]
        },
        {
         "hoverinfo": "skip",
         "legendgroup": "Deafened",
         "legendgrouptitle": {
          "text": "fit"
         },
         "line": {
          "color": "green",
          "dash": "solid"
         },
         "mode": "lines",
         "showlegend": false,
         "type": "scatter",
         "unselected": {
          "marker": {
           "opacity": 0
          }
         },
         "x": [
          0.125,
          0.25,
          0.5,
          1,
          2,
          3,
          4,
          5,
          6,
          7,
          8,
          9,
          10,
          11,
          12,
          13,
          14,
          15,
          16,
          17,
          18,
          19,
          20,
          21,
          22,
          23,
          24,
          25,
          26,
          27,
          28,
          30
         ],
         "y": [
          2.005078661554039,
          2.051786843546988,
          2.1452032075328873,
          2.3320359355046856,
          2.7057013914482817,
          3.079366847391878,
          3.453032303335474,
          3.82669775927907,
          4.200363215222667,
          4.574028671166262,
          4.947694127109859,
          5.321359583053455,
          5.695025038997051,
          6.068690494940647,
          6.442355950884243,
          6.816021406827839,
          7.189686862771436,
          7.563352318715031,
          7.937017774658628,
          8.310683230602224,
          8.684348686545821,
          9.058014142489418,
          9.431679598433012,
          9.805345054376609,
          10.179010510320206,
          10.552675966263802,
          10.926341422207399,
          11.300006878150995,
          11.67367233409459,
          12.047337790038187,
          12.421003245981783,
          13.168334157868975
         ]
        },
        {
         "hovertemplate": "<b>CR:</b> %{x}<br><b>Condition:</b> Exhaustion<br><b>Immune:</b> %{y:.0f}% %{text}<extra></extra>",
         "legendgroup": "Exhaustion",
         "line": {
          "shape": "spline"
         },
         "marker": {
          "color": "orange",
          "size": 4
         },
         "mode": "markers",
         "name": "Exhaustion",
         "showlegend": true,
         "text": [
          "(4 out of 50)",
          "(11 out of 97)",
          "(10 out of 93)",
          "(21 out of 110)",
          "(16 out of 165)",
          "(16 out of 136)",
          "(19 out of 97)",
          "(24 out of 124)",
          "(13 out of 65)",
          "(8 out of 65)",
          "(10 out of 76)",
          "(9 out of 48)",
          "(10 out of 37)",
          "(11 out of 40)",
          "(9 out of 27)",
          "(4 out of 33)",
          "(6 out of 24)",
          "(3 out of 20)",
          "(11 out of 25)",
          "(4 out of 16)",
          "(6 out of 14)",
          "(2 out of 9)",
          "(3 out of 11)",
          "(6 out of 15)",
          "(8 out of 16)",
          "(13 out of 22)",
          "(8 out of 14)",
          "(2 out of 9)",
          "(5 out of 8)",
          "(0 out of 1)",
          "(2 out of 3)",
          "(0 out of 4)"
         ],
         "type": "scatter",
         "unselected": {
          "marker": {
           "opacity": 0
          }
         },
         "x": [
          0.125,
          0.25,
          0.5,
          1,
          2,
          3,
          4,
          5,
          6,
          7,
          8,
          9,
          10,
          11,
          12,
          13,
          14,
          15,
          16,
          17,
          18,
          19,
          20,
          21,
          22,
          23,
          24,
          25,
          26,
          27,
          28,
          30
         ],
         "y": [
          8,
          11.34020618556701,
          10.75268817204301,
          19.090909090909093,
          9.696969696969697,
          11.76470588235294,
          19.587628865979383,
          19.35483870967742,
          20,
          12.307692307692308,
          13.157894736842104,
          18.75,
          27.027027027027028,
          27.500000000000004,
          33.33333333333333,
          12.121212121212121,
          25,
          15,
          44,
          25,
          42.857142857142854,
          22.22222222222222,
          27.27272727272727,
          40,
          50,
          59.09090909090909,
          57.14285714285714,
          22.22222222222222,
          62.5,
          0,
          66.66666666666666,
          0
         ]
        },
        {
         "hoverinfo": "skip",
         "legendgroup": "Exhaustion",
         "legendgrouptitle": {
          "text": "fit"
         },
         "line": {
          "color": "orange",
          "dash": "solid"
         },
         "mode": "lines",
         "showlegend": false,
         "type": "scatter",
         "unselected": {
          "marker": {
           "opacity": 0
          }
         },
         "x": [
          0.125,
          0.25,
          0.5,
          1,
          2,
          3,
          4,
          5,
          6,
          7,
          8,
          9,
          10,
          11,
          12,
          13,
          14,
          15,
          16,
          17,
          18,
          19,
          20,
          21,
          22,
          23,
          24,
          25,
          26,
          27,
          28,
          30
         ],
         "y": [
          12.443358827678082,
          12.568848972384595,
          12.819829261797622,
          13.321789840623673,
          14.325710998275778,
          15.32963215592788,
          16.333553313579984,
          17.337474471232085,
          18.34139562888419,
          19.345316786536294,
          20.349237944188395,
          21.3531591018405,
          22.357080259492605,
          23.361001417144706,
          24.36492257479681,
          25.368843732448916,
          26.372764890101017,
          27.37668604775312,
          28.380607205405227,
          29.384528363057328,
          30.38844952070943,
          31.392370678361537,
          32.39629183601364,
          33.40021299366574,
          34.40413415131785,
          35.40805530896995,
          36.41197646662205,
          37.41589762427416,
          38.41981878192626,
          39.42373993957836,
          40.42766109723047,
          42.43550341253467
         ]
        },
        {
         "hovertemplate": "<b>CR:</b> %{x}<br><b>Condition:</b> Frightened<br><b>Immune:</b> %{y:.0f}% %{text}<extra></extra>",
         "legendgroup": "Frightened",
         "line": {
          "shape": "spline"
         },
         "marker": {
          "color": "teal",
          "size": 4
         },
         "mode": "markers",
         "name": "Frightened",
         "showlegend": true,
         "text": [
          "(5 out of 50)",
          "(9 out of 97)",
          "(12 out of 93)",
          "(18 out of 110)",
          "(20 out of 165)",
          "(16 out of 136)",
          "(22 out of 97)",
          "(22 out of 124)",
          "(16 out of 65)",
          "(11 out of 65)",
          "(18 out of 76)",
          "(9 out of 48)",
          "(13 out of 37)",
          "(14 out of 40)",
          "(9 out of 27)",
          "(12 out of 33)",
          "(9 out of 24)",
          "(7 out of 20)",
          "(15 out of 25)",
          "(8 out of 16)",
          "(10 out of 14)",
          "(6 out of 9)",
          "(5 out of 11)",
          "(9 out of 15)",
          "(9 out of 16)",
          "(16 out of 22)",
          "(10 out of 14)",
          "(6 out of 9)",
          "(7 out of 8)",
          "(1 out of 1)",
          "(3 out of 3)",
          "(4 out of 4)"
         ],
         "type": "scatter",
         "unselected": {
          "marker": {
           "opacity": 0
          }
         },
         "x": [
          0.125,
          0.25,
          0.5,
          1,
          2,
          3,
          4,
          5,
          6,
          7,
          8,
          9,
          10,
          11,
          12,
          13,
          14,
          15,
          16,
          17,
          18,
          19,
          20,
          21,
          22,
          23,
          24,
          25,
          26,
          27,
          28,
          30
         ],
         "y": [
          10,
          9.278350515463918,
          12.903225806451612,
          16.363636363636363,
          12.121212121212121,
          11.76470588235294,
          22.68041237113402,
          17.741935483870968,
          24.615384615384617,
          16.923076923076923,
          23.684210526315788,
          18.75,
          35.13513513513514,
          35,
          33.33333333333333,
          36.36363636363637,
          37.5,
          35,
          60,
          50,
          71.42857142857143,
          66.66666666666666,
          45.45454545454545,
          60,
          56.25,
          72.72727272727273,
          71.42857142857143,
          66.66666666666666,
          87.5,
          100,
          100,
          100
         ]
        },
        {
         "hoverinfo": "skip",
         "legendgroup": "Frightened",
         "legendgrouptitle": {
          "text": "fit"
         },
         "line": {
          "color": "teal",
          "dash": "solid"
         },
         "mode": "lines",
         "showlegend": false,
         "type": "scatter",
         "unselected": {
          "marker": {
           "opacity": 0
          }
         },
         "x": [
          0.125,
          0.25,
          0.5,
          1,
          2,
          3,
          4,
          5,
          6,
          7,
          8,
          9,
          10,
          11,
          12,
          13,
          14,
          15,
          16,
          17,
          18,
          19,
          20,
          21,
          22,
          23,
          24,
          25,
          26,
          27,
          28,
          30
         ],
         "y": [
          4.487081842679992,
          4.854882573505155,
          5.590484035155481,
          7.061686958456133,
          10.004092805057436,
          12.94649865165874,
          15.888904498260043,
          18.831310344861347,
          21.77371619146265,
          24.716122038063954,
          27.658527884665258,
          30.60093373126656,
          33.54333957786787,
          36.48574542446917,
          39.428151271070476,
          42.37055711767178,
          45.31296296427308,
          48.25536881087439,
          51.19777465747569,
          54.140180504076994,
          57.0825863506783,
          60.0249921972796,
          62.967398043880905,
          65.90980389048221,
          68.85220973708351,
          71.79461558368482,
          74.73702143028612,
          77.67942727688742,
          80.62183312348873,
          83.56423897009003,
          86.50664481669133,
          92.39145650989394
         ]
        },
        {
         "hovertemplate": "<b>CR:</b> %{x}<br><b>Condition:</b> Grappled<br><b>Immune:</b> %{y:.0f}% %{text}<extra></extra>",
         "legendgroup": "Grappled",
         "line": {
          "shape": "spline"
         },
         "marker": {
          "color": "purple",
          "size": 4
         },
         "mode": "markers",
         "name": "Grappled",
         "showlegend": true,
         "text": [
          "(0 out of 50)",
          "(3 out of 97)",
          "(3 out of 93)",
          "(7 out of 110)",
          "(6 out of 165)",
          "(7 out of 136)",
          "(7 out of 97)",
          "(8 out of 124)",
          "(4 out of 65)",
          "(3 out of 65)",
          "(2 out of 76)",
          "(2 out of 48)",
          "(0 out of 37)",
          "(1 out of 40)",
          "(3 out of 27)",
          "(0 out of 33)",
          "(0 out of 24)",
          "(0 out of 20)",
          "(2 out of 25)",
          "(2 out of 16)",
          "(1 out of 14)",
          "(1 out of 9)",
          "(2 out of 11)",
          "(0 out of 15)",
          "(1 out of 16)",
          "(4 out of 22)",
          "(1 out of 14)",
          "(0 out of 9)",
          "(0 out of 8)",
          "(0 out of 1)",
          "(0 out of 3)",
          "(0 out of 4)"
         ],
         "type": "scatter",
         "unselected": {
          "marker": {
           "opacity": 0
          }
         },
         "x": [
          0.125,
          0.25,
          0.5,
          1,
          2,
          3,
          4,
          5,
          6,
          7,
          8,
          9,
          10,
          11,
          12,
          13,
          14,
          15,
          16,
          17,
          18,
          19,
          20,
          21,
          22,
          23,
          24,
          25,
          26,
          27,
          28,
          30
         ],
         "y": [
          0,
          3.0927835051546393,
          3.225806451612903,
          6.363636363636363,
          3.6363636363636362,
          5.147058823529411,
          7.216494845360824,
          6.451612903225806,
          6.153846153846154,
          4.615384615384616,
          2.631578947368421,
          4.166666666666666,
          0,
          2.5,
          11.11111111111111,
          0,
          0,
          0,
          8,
          12.5,
          7.142857142857142,
          11.11111111111111,
          18.181818181818183,
          0,
          6.25,
          18.181818181818183,
          7.142857142857142,
          0,
          0,
          0,
          0,
          0
         ]
        },
        {
         "hoverinfo": "skip",
         "legendgroup": "Grappled",
         "legendgrouptitle": {
          "text": "fit"
         },
         "line": {
          "color": "purple",
          "dash": "solid"
         },
         "mode": "lines",
         "showlegend": false,
         "type": "scatter",
         "unselected": {
          "marker": {
           "opacity": 0
          }
         },
         "x": [
          0.125,
          0.25,
          0.5,
          1,
          2,
          3,
          4,
          5,
          6,
          7,
          8,
          9,
          10,
          11,
          12,
          13,
          14,
          15,
          16,
          17,
          18,
          19,
          20,
          21,
          22,
          23,
          24,
          25,
          26,
          27,
          28,
          30
         ],
         "y": [
          4.641989019082195,
          4.643802232242198,
          4.647428658562205,
          4.654681511202219,
          4.669187216482247,
          4.683692921762275,
          4.698198627042303,
          4.71270433232233,
          4.727210037602358,
          4.741715742882386,
          4.756221448162414,
          4.770727153442442,
          4.78523285872247,
          4.799738564002498,
          4.814244269282526,
          4.8287499745625535,
          4.8432556798425805,
          4.8577613851226085,
          4.872267090402636,
          4.886772795682664,
          4.901278500962692,
          4.91578420624272,
          4.930289911522748,
          4.944795616802776,
          4.959301322082804,
          4.973807027362831,
          4.988312732642859,
          5.002818437922887,
          5.017324143202915,
          5.031829848482943,
          5.046335553762971,
          5.0753469643230265
         ]
        },
        {
         "hovertemplate": "<b>CR:</b> %{x}<br><b>Condition:</b> Paralyzed<br><b>Immune:</b> %{y:.0f}% %{text}<extra></extra>",
         "legendgroup": "Paralyzed",
         "line": {
          "shape": "spline"
         },
         "marker": {
          "color": "olivedrab",
          "size": 4
         },
         "mode": "markers",
         "name": "Paralyzed",
         "showlegend": true,
         "text": [
          "(4 out of 50)",
          "(9 out of 97)",
          "(7 out of 93)",
          "(16 out of 110)",
          "(15 out of 165)",
          "(13 out of 136)",
          "(15 out of 97)",
          "(15 out of 124)",
          "(12 out of 65)",
          "(8 out of 65)",
          "(9 out of 76)",
          "(5 out of 48)",
          "(6 out of 37)",
          "(8 out of 40)",
          "(7 out of 27)",
          "(5 out of 33)",
          "(7 out of 24)",
          "(2 out of 20)",
          "(7 out of 25)",
          "(3 out of 16)",
          "(7 out of 14)",
          "(2 out of 9)",
          "(4 out of 11)",
          "(3 out of 15)",
          "(6 out of 16)",
          "(8 out of 22)",
          "(1 out of 14)",
          "(3 out of 9)",
          "(1 out of 8)",
          "(0 out of 1)",
          "(2 out of 3)",
          "(2 out of 4)"
         ],
         "type": "scatter",
         "unselected": {
          "marker": {
           "opacity": 0
          }
         },
         "x": [
          0.125,
          0.25,
          0.5,
          1,
          2,
          3,
          4,
          5,
          6,
          7,
          8,
          9,
          10,
          11,
          12,
          13,
          14,
          15,
          16,
          17,
          18,
          19,
          20,
          21,
          22,
          23,
          24,
          25,
          26,
          27,
          28,
          30
         ],
         "y": [
          8,
          9.278350515463918,
          7.526881720430108,
          14.545454545454545,
          9.090909090909092,
          9.558823529411764,
          15.463917525773196,
          12.096774193548388,
          18.461538461538463,
          12.307692307692308,
          11.842105263157894,
          10.416666666666668,
          16.216216216216218,
          20,
          25.925925925925924,
          15.151515151515152,
          29.166666666666668,
          10,
          28.000000000000004,
          18.75,
          50,
          22.22222222222222,
          36.36363636363637,
          20,
          37.5,
          36.36363636363637,
          7.142857142857142,
          33.33333333333333,
          12.5,
          0,
          66.66666666666666,
          50
         ]
        },
        {
         "hoverinfo": "skip",
         "legendgroup": "Paralyzed",
         "legendgrouptitle": {
          "text": "fit"
         },
         "line": {
          "color": "olivedrab",
          "dash": "solid"
         },
         "mode": "lines",
         "showlegend": false,
         "type": "scatter",
         "unselected": {
          "marker": {
           "opacity": 0
          }
         },
         "x": [
          0.125,
          0.25,
          0.5,
          1,
          2,
          3,
          4,
          5,
          6,
          7,
          8,
          9,
          10,
          11,
          12,
          13,
          14,
          15,
          16,
          17,
          18,
          19,
          20,
          21,
          22,
          23,
          24,
          25,
          26,
          27,
          28,
          30
         ],
         "y": [
          8.712566690214706,
          8.82665553104227,
          9.054833212697396,
          9.51118857600765,
          10.423899302628156,
          11.336610029248664,
          12.24932075586917,
          13.162031482489677,
          14.074742209110184,
          14.98745293573069,
          15.900163662351197,
          16.812874388971707,
          17.72558511559221,
          18.63829584221272,
          19.551006568833223,
          20.463717295453733,
          21.37642802207424,
          22.289138748694747,
          23.201849475315253,
          24.11456020193576,
          25.02727092855627,
          25.939981655176773,
          26.852692381797283,
          27.765403108417786,
          28.678113835038296,
          29.5908245616588,
          30.50353528827931,
          31.416246014899812,
          32.32895674152032,
          33.24166746814083,
          34.154378194761335,
          35.97979964800235
         ]
        },
        {
         "hovertemplate": "<b>CR:</b> %{x}<br><b>Condition:</b> Petrified<br><b>Immune:</b> %{y:.0f}% %{text}<extra></extra>",
         "legendgroup": "Petrified",
         "line": {
          "shape": "spline"
         },
         "marker": {
          "color": "orangered",
          "size": 4
         },
         "mode": "markers",
         "name": "Petrified",
         "showlegend": true,
         "text": [
          "(4 out of 50)",
          "(8 out of 97)",
          "(5 out of 93)",
          "(14 out of 110)",
          "(13 out of 165)",
          "(9 out of 136)",
          "(13 out of 97)",
          "(15 out of 124)",
          "(9 out of 65)",
          "(5 out of 65)",
          "(6 out of 76)",
          "(4 out of 48)",
          "(4 out of 37)",
          "(9 out of 40)",
          "(4 out of 27)",
          "(2 out of 33)",
          "(2 out of 24)",
          "(1 out of 20)",
          "(5 out of 25)",
          "(2 out of 16)",
          "(5 out of 14)",
          "(2 out of 9)",
          "(4 out of 11)",
          "(1 out of 15)",
          "(3 out of 16)",
          "(6 out of 22)",
          "(1 out of 14)",
          "(1 out of 9)",
          "(0 out of 8)",
          "(0 out of 1)",
          "(1 out of 3)",
          "(0 out of 4)"
         ],
         "type": "scatter",
         "unselected": {
          "marker": {
           "opacity": 0
          }
         },
         "x": [
          0.125,
          0.25,
          0.5,
          1,
          2,
          3,
          4,
          5,
          6,
          7,
          8,
          9,
          10,
          11,
          12,
          13,
          14,
          15,
          16,
          17,
          18,
          19,
          20,
          21,
          22,
          23,
          24,
          25,
          26,
          27,
          28,
          30
         ],
         "y": [
          8,
          8.24742268041237,
          5.376344086021505,
          12.727272727272727,
          7.878787878787878,
          6.61764705882353,
          13.402061855670103,
          12.096774193548388,
          13.846153846153847,
          7.6923076923076925,
          7.894736842105263,
          8.333333333333332,
          10.81081081081081,
          22.5,
          14.814814814814813,
          6.0606060606060606,
          8.333333333333332,
          5,
          20,
          12.5,
          35.714285714285715,
          22.22222222222222,
          36.36363636363637,
          6.666666666666667,
          18.75,
          27.27272727272727,
          7.142857142857142,
          11.11111111111111,
          0,
          0,
          33.33333333333333,
          0
         ]
        },
        {
         "hoverinfo": "skip",
         "legendgroup": "Petrified",
         "legendgrouptitle": {
          "text": "fit"
         },
         "line": {
          "color": "orangered",
          "dash": "solid"
         },
         "mode": "lines",
         "showlegend": false,
         "type": "scatter",
         "unselected": {
          "marker": {
           "opacity": 0
          }
         },
         "x": [
          0.125,
          0.25,
          0.5,
          1,
          2,
          3,
          4,
          5,
          6,
          7,
          8,
          9,
          10,
          11,
          12,
          13,
          14,
          15,
          16,
          17,
          18,
          19,
          20,
          21,
          22,
          23,
          24,
          25,
          26,
          27,
          28,
          30
         ],
         "y": [
          10.143846168711466,
          10.16871078599188,
          10.218440020552709,
          10.317898489674365,
          10.51681542791768,
          10.715732366160992,
          10.914649304404307,
          11.11356624264762,
          11.312483180890935,
          11.511400119134247,
          11.710317057377562,
          11.909233995620875,
          12.10815093386419,
          12.307067872107503,
          12.505984810350817,
          12.70490174859413,
          12.903818686837445,
          13.102735625080758,
          13.301652563324073,
          13.500569501567385,
          13.6994864398107,
          13.898403378054013,
          14.097320316297328,
          14.29623725454064,
          14.495154192783954,
          14.694071131027268,
          14.892988069270583,
          15.091905007513896,
          15.290821945757209,
          15.489738884000523,
          15.688655822243838,
          16.086489698730464
         ]
        },
        {
         "hovertemplate": "<b>CR:</b> %{x}<br><b>Condition:</b> Poisoned<br><b>Immune:</b> %{y:.0f}% %{text}<extra></extra>",
         "legendgroup": "Poisoned",
         "line": {
          "shape": "spline"
         },
         "marker": {
          "color": "blue",
          "size": 4
         },
         "mode": "markers",
         "name": "Poisoned",
         "showlegend": true,
         "text": [
          "(7 out of 50)",
          "(20 out of 97)",
          "(13 out of 93)",
          "(33 out of 110)",
          "(26 out of 165)",
          "(28 out of 136)",
          "(32 out of 97)",
          "(29 out of 124)",
          "(18 out of 65)",
          "(20 out of 65)",
          "(20 out of 76)",
          "(15 out of 48)",
          "(12 out of 37)",
          "(12 out of 40)",
          "(13 out of 27)",
          "(10 out of 33)",
          "(8 out of 24)",
          "(6 out of 20)",
          "(12 out of 25)",
          "(9 out of 16)",
          "(10 out of 14)",
          "(5 out of 9)",
          "(6 out of 11)",
          "(8 out of 15)",
          "(9 out of 16)",
          "(14 out of 22)",
          "(10 out of 14)",
          "(6 out of 9)",
          "(6 out of 8)",
          "(1 out of 1)",
          "(3 out of 3)",
          "(3 out of 4)"
         ],
         "type": "scatter",
         "unselected": {
          "marker": {
           "opacity": 0
          }
         },
         "x": [
          0.125,
          0.25,
          0.5,
          1,
          2,
          3,
          4,
          5,
          6,
          7,
          8,
          9,
          10,
          11,
          12,
          13,
          14,
          15,
          16,
          17,
          18,
          19,
          20,
          21,
          22,
          23,
          24,
          25,
          26,
          27,
          28,
          30
         ],
         "y": [
          14.000000000000002,
          20.618556701030926,
          13.978494623655912,
          30,
          15.757575757575756,
          20.588235294117645,
          32.98969072164948,
          23.387096774193548,
          27.692307692307693,
          30.76923076923077,
          26.31578947368421,
          31.25,
          32.432432432432435,
          30,
          48.148148148148145,
          30.303030303030305,
          33.33333333333333,
          30,
          48,
          56.25,
          71.42857142857143,
          55.55555555555556,
          54.54545454545454,
          53.333333333333336,
          56.25,
          63.63636363636363,
          71.42857142857143,
          66.66666666666666,
          75,
          100,
          100,
          75
         ]
        },
        {
         "hoverinfo": "skip",
         "legendgroup": "Poisoned",
         "legendgrouptitle": {
          "text": "fit"
         },
         "line": {
          "color": "blue",
          "dash": "solid"
         },
         "mode": "lines",
         "showlegend": false,
         "type": "scatter",
         "unselected": {
          "marker": {
           "opacity": 0
          }
         },
         "x": [
          0.125,
          0.25,
          0.5,
          1,
          2,
          3,
          4,
          5,
          6,
          7,
          8,
          9,
          10,
          11,
          12,
          13,
          14,
          15,
          16,
          17,
          18,
          19,
          20,
          21,
          22,
          23,
          24,
          25,
          26,
          27,
          28,
          30
         ],
         "y": [
          13.208931350207116,
          13.502310684718314,
          14.08906935374071,
          15.262586691785504,
          17.60962136787509,
          19.956656043964674,
          22.303690720054263,
          24.650725396143848,
          26.997760072233433,
          29.344794748323018,
          31.691829424412603,
          34.03886410050219,
          36.38589877659177,
          38.732933452681365,
          41.07996812877095,
          43.427002804860535,
          45.77403748095012,
          48.121072157039706,
          50.46810683312929,
          52.815141509218876,
          55.16217618530846,
          57.509210861398046,
          59.85624553748763,
          62.20328021357722,
          64.55031488966681,
          66.8973495657564,
          69.24438424184598,
          71.59141891793557,
          73.93845359402515,
          76.28548827011474,
          78.63252294620433,
          83.3265922983835
         ]
        },
        {
         "hovertemplate": "<b>CR:</b> %{x}<br><b>Condition:</b> Prone<br><b>Immune:</b> %{y:.0f}% %{text}<extra></extra>",
         "legendgroup": "Prone",
         "line": {
          "shape": "spline"
         },
         "marker": {
          "color": "darkviolet",
          "size": 4
         },
         "mode": "markers",
         "name": "Prone",
         "showlegend": true,
         "text": [
          "(0 out of 50)",
          "(7 out of 97)",
          "(8 out of 93)",
          "(9 out of 110)",
          "(12 out of 165)",
          "(12 out of 136)",
          "(10 out of 97)",
          "(13 out of 124)",
          "(5 out of 65)",
          "(8 out of 65)",
          "(4 out of 76)",
          "(3 out of 48)",
          "(4 out of 37)",
          "(4 out of 40)",
          "(2 out of 27)",
          "(2 out of 33)",
          "(2 out of 24)",
          "(1 out of 20)",
          "(3 out of 25)",
          "(3 out of 16)",
          "(3 out of 14)",
          "(2 out of 9)",
          "(4 out of 11)",
          "(1 out of 15)",
          "(2 out of 16)",
          "(6 out of 22)",
          "(3 out of 14)",
          "(0 out of 9)",
          "(1 out of 8)",
          "(0 out of 1)",
          "(0 out of 3)",
          "(0 out of 4)"
         ],
         "type": "scatter",
         "unselected": {
          "marker": {
           "opacity": 0
          }
         },
         "x": [
          0.125,
          0.25,
          0.5,
          1,
          2,
          3,
          4,
          5,
          6,
          7,
          8,
          9,
          10,
          11,
          12,
          13,
          14,
          15,
          16,
          17,
          18,
          19,
          20,
          21,
          22,
          23,
          24,
          25,
          26,
          27,
          28,
          30
         ],
         "y": [
          0,
          7.216494845360824,
          8.60215053763441,
          8.181818181818182,
          7.2727272727272725,
          8.823529411764707,
          10.309278350515463,
          10.483870967741936,
          7.6923076923076925,
          12.307692307692308,
          5.263157894736842,
          6.25,
          10.81081081081081,
          10,
          7.4074074074074066,
          6.0606060606060606,
          8.333333333333332,
          5,
          12,
          18.75,
          21.428571428571427,
          22.22222222222222,
          36.36363636363637,
          6.666666666666667,
          12.5,
          27.27272727272727,
          21.428571428571427,
          0,
          12.5,
          0,
          0,
          0
         ]
        },
        {
         "hoverinfo": "skip",
         "legendgroup": "Prone",
         "legendgrouptitle": {
          "text": "fit"
         },
         "line": {
          "color": "darkviolet",
          "dash": "solid"
         },
         "mode": "lines",
         "showlegend": false,
         "type": "scatter",
         "unselected": {
          "marker": {
           "opacity": 0
          }
         },
         "x": [
          0.125,
          0.25,
          0.5,
          1,
          2,
          3,
          4,
          5,
          6,
          7,
          8,
          9,
          10,
          11,
          12,
          13,
          14,
          15,
          16,
          17,
          18,
          19,
          20,
          21,
          22,
          23,
          24,
          25,
          26,
          27,
          28,
          30
         ],
         "y": [
          8.492019667298703,
          8.50917327720436,
          8.543480497015675,
          8.612094936638309,
          8.749323815883574,
          8.88655269512884,
          9.023781574374105,
          9.161010453619369,
          9.298239332864634,
          9.4354682121099,
          9.572697091355165,
          9.70992597060043,
          9.847154849845696,
          9.984383729090961,
          10.121612608336225,
          10.25884148758149,
          10.396070366826756,
          10.533299246072021,
          10.670528125317286,
          10.807757004562552,
          10.944985883807817,
          11.08221476305308,
          11.219443642298348,
          11.356672521543612,
          11.493901400788877,
          11.631130280034142,
          11.768359159279408,
          11.905588038524673,
          12.042816917769938,
          12.180045797015204,
          12.317274676260467,
          12.591732434750998
         ]
        },
        {
         "hovertemplate": "<b>CR:</b> %{x}<br><b>Condition:</b> Restrained<br><b>Immune:</b> %{y:.0f}% %{text}<extra></extra>",
         "legendgroup": "Restrained",
         "line": {
          "shape": "spline"
         },
         "marker": {
          "color": "dodgerblue",
          "size": 4
         },
         "mode": "markers",
         "name": "Restrained",
         "showlegend": true,
         "text": [
          "(0 out of 50)",
          "(3 out of 97)",
          "(3 out of 93)",
          "(6 out of 110)",
          "(7 out of 165)",
          "(7 out of 136)",
          "(7 out of 97)",
          "(7 out of 124)",
          "(5 out of 65)",
          "(2 out of 65)",
          "(2 out of 76)",
          "(2 out of 48)",
          "(0 out of 37)",
          "(1 out of 40)",
          "(3 out of 27)",
          "(0 out of 33)",
          "(0 out of 24)",
          "(0 out of 20)",
          "(3 out of 25)",
          "(1 out of 16)",
          "(2 out of 14)",
          "(2 out of 9)",
          "(2 out of 11)",
          "(0 out of 15)",
          "(1 out of 16)",
          "(4 out of 22)",
          "(1 out of 14)",
          "(0 out of 9)",
          "(1 out of 8)",
          "(0 out of 1)",
          "(0 out of 3)",
          "(0 out of 4)"
         ],
         "type": "scatter",
         "unselected": {
          "marker": {
           "opacity": 0
          }
         },
         "x": [
          0.125,
          0.25,
          0.5,
          1,
          2,
          3,
          4,
          5,
          6,
          7,
          8,
          9,
          10,
          11,
          12,
          13,
          14,
          15,
          16,
          17,
          18,
          19,
          20,
          21,
          22,
          23,
          24,
          25,
          26,
          27,
          28,
          30
         ],
         "y": [
          0,
          3.0927835051546393,
          3.225806451612903,
          5.454545454545454,
          4.242424242424243,
          5.147058823529411,
          7.216494845360824,
          5.64516129032258,
          7.6923076923076925,
          3.076923076923077,
          2.631578947368421,
          4.166666666666666,
          0,
          2.5,
          11.11111111111111,
          0,
          0,
          0,
          12,
          6.25,
          14.285714285714285,
          22.22222222222222,
          18.181818181818183,
          0,
          6.25,
          18.181818181818183,
          7.142857142857142,
          0,
          12.5,
          0,
          0,
          0
         ]
        },
        {
         "hoverinfo": "skip",
         "legendgroup": "Restrained",
         "legendgrouptitle": {
          "text": "fit"
         },
         "line": {
          "color": "dodgerblue",
          "dash": "solid"
         },
         "mode": "lines",
         "showlegend": false,
         "type": "scatter",
         "unselected": {
          "marker": {
           "opacity": 0
          }
         },
         "x": [
          0.125,
          0.25,
          0.5,
          1,
          2,
          3,
          4,
          5,
          6,
          7,
          8,
          9,
          10,
          11,
          12,
          13,
          14,
          15,
          16,
          17,
          18,
          19,
          20,
          21,
          22,
          23,
          24,
          25,
          26,
          27,
          28,
          30
         ],
         "y": [
          4.2567693988150745,
          4.2700528730742935,
          4.2966198215927305,
          4.349753718629606,
          4.456021512703356,
          4.562289306777107,
          4.668557100850856,
          4.774824894924607,
          4.881092688998358,
          4.987360483072107,
          5.093628277145858,
          5.199896071219608,
          5.3061638652933585,
          5.412431659367108,
          5.518699453440859,
          5.6249672475146095,
          5.731235041588359,
          5.83750283566211,
          5.943770629735861,
          6.05003842380961,
          6.156306217883361,
          6.262574011957112,
          6.368841806030861,
          6.475109600104611,
          6.581377394178362,
          6.687645188252112,
          6.793912982325862,
          6.900180776399613,
          7.0064485704733634,
          7.112716364547113,
          7.218984158620863,
          7.431519746768364
         ]
        },
        {
         "hovertemplate": "<b>CR:</b> %{x}<br><b>Condition:</b> Stunned<br><b>Immune:</b> %{y:.0f}% %{text}<extra></extra>",
         "legendgroup": "Stunned",
         "line": {
          "shape": "spline"
         },
         "marker": {
          "color": "brown",
          "size": 4
         },
         "mode": "markers",
         "name": "Stunned",
         "showlegend": true,
         "text": [
          "(0 out of 50)",
          "(3 out of 97)",
          "(1 out of 93)",
          "(2 out of 110)",
          "(6 out of 165)",
          "(3 out of 136)",
          "(1 out of 97)",
          "(2 out of 124)",
          "(4 out of 65)",
          "(1 out of 65)",
          "(0 out of 76)",
          "(1 out of 48)",
          "(1 out of 37)",
          "(2 out of 40)",
          "(1 out of 27)",
          "(1 out of 33)",
          "(0 out of 24)",
          "(1 out of 20)",
          "(3 out of 25)",
          "(0 out of 16)",
          "(4 out of 14)",
          "(0 out of 9)",
          "(2 out of 11)",
          "(2 out of 15)",
          "(2 out of 16)",
          "(5 out of 22)",
          "(1 out of 14)",
          "(1 out of 9)",
          "(0 out of 8)",
          "(0 out of 1)",
          "(1 out of 3)",
          "(3 out of 4)"
         ],
         "type": "scatter",
         "unselected": {
          "marker": {
           "opacity": 0
          }
         },
         "x": [
          0.125,
          0.25,
          0.5,
          1,
          2,
          3,
          4,
          5,
          6,
          7,
          8,
          9,
          10,
          11,
          12,
          13,
          14,
          15,
          16,
          17,
          18,
          19,
          20,
          21,
          22,
          23,
          24,
          25,
          26,
          27,
          28,
          30
         ],
         "y": [
          0,
          3.0927835051546393,
          1.0752688172043012,
          1.8181818181818181,
          3.6363636363636362,
          2.2058823529411766,
          1.0309278350515463,
          1.6129032258064515,
          6.153846153846154,
          1.5384615384615385,
          0,
          2.083333333333333,
          2.7027027027027026,
          5,
          3.7037037037037033,
          3.0303030303030303,
          0,
          5,
          12,
          0,
          28.57142857142857,
          0,
          18.181818181818183,
          13.333333333333334,
          12.5,
          22.727272727272727,
          7.142857142857142,
          11.11111111111111,
          0,
          0,
          33.33333333333333,
          75
         ]
        },
        {
         "hoverinfo": "skip",
         "legendgroup": "Stunned",
         "legendgrouptitle": {
          "text": "fit"
         },
         "line": {
          "color": "brown",
          "dash": "solid"
         },
         "mode": "lines",
         "showlegend": false,
         "type": "scatter",
         "unselected": {
          "marker": {
           "opacity": 0
          }
         },
         "x": [
          0.125,
          0.25,
          0.5,
          1,
          2,
          3,
          4,
          5,
          6,
          7,
          8,
          9,
          10,
          11,
          12,
          13,
          14,
          15,
          16,
          17,
          18,
          19,
          20,
          21,
          22,
          23,
          24,
          25,
          26,
          27,
          28,
          30
         ],
         "y": [
          -3.20419744316202,
          -3.094431305640971,
          -2.874899030598873,
          -2.4358344805146763,
          -1.557705380346283,
          -0.6795762801778897,
          0.19855281999050334,
          1.0766819201588969,
          1.95481102032729,
          2.832940120495683,
          3.711069220664076,
          4.58919832083247,
          5.4673274210008636,
          6.345456521169256,
          7.22358562133765,
          8.101714721506042,
          8.979843821674436,
          9.857972921842828,
          10.736102022011222,
          11.614231122179616,
          12.492360222348008,
          13.370489322516402,
          14.248618422684796,
          15.126747522853186,
          16.00487662302158,
          16.883005723189974,
          17.76113482335837,
          18.639263923526762,
          19.517393023695153,
          20.395522123863547,
          21.27365122403194,
          23.029909424368725
         ]
        },
        {
         "hovertemplate": "<b>CR:</b> %{x}<br><b>Condition:</b> Unconscious<br><b>Immune:</b> %{y:.0f}% %{text}<extra></extra>",
         "legendgroup": "Unconscious",
         "line": {
          "shape": "spline"
         },
         "marker": {
          "color": "darkgreen",
          "size": 4
         },
         "mode": "markers",
         "name": "Unconscious",
         "showlegend": true,
         "text": [
          "(0 out of 50)",
          "(1 out of 97)",
          "(1 out of 93)",
          "(3 out of 110)",
          "(2 out of 165)",
          "(3 out of 136)",
          "(3 out of 97)",
          "(3 out of 124)",
          "(2 out of 65)",
          "(1 out of 65)",
          "(2 out of 76)",
          "(0 out of 48)",
          "(0 out of 37)",
          "(1 out of 40)",
          "(1 out of 27)",
          "(0 out of 33)",
          "(0 out of 24)",
          "(1 out of 20)",
          "(1 out of 25)",
          "(0 out of 16)",
          "(0 out of 14)",
          "(0 out of 9)",
          "(0 out of 11)",
          "(0 out of 15)",
          "(0 out of 16)",
          "(3 out of 22)",
          "(1 out of 14)",
          "(1 out of 9)",
          "(0 out of 8)",
          "(0 out of 1)",
          "(0 out of 3)",
          "(0 out of 4)"
         ],
         "type": "scatter",
         "unselected": {
          "marker": {
           "opacity": 0
          }
         },
         "x": [
          0.125,
          0.25,
          0.5,
          1,
          2,
          3,
          4,
          5,
          6,
          7,
          8,
          9,
          10,
          11,
          12,
          13,
          14,
          15,
          16,
          17,
          18,
          19,
          20,
          21,
          22,
          23,
          24,
          25,
          26,
          27,
          28,
          30
         ],
         "y": [
          0,
          1.0309278350515463,
          1.0752688172043012,
          2.727272727272727,
          1.2121212121212122,
          2.2058823529411766,
          3.0927835051546393,
          2.4193548387096775,
          3.076923076923077,
          1.5384615384615385,
          2.631578947368421,
          0,
          0,
          2.5,
          3.7037037037037033,
          0,
          0,
          5,
          4,
          0,
          0,
          0,
          0,
          0,
          0,
          13.636363636363635,
          7.142857142857142,
          11.11111111111111,
          0,
          0,
          0,
          0
         ]
        },
        {
         "hoverinfo": "skip",
         "legendgroup": "Unconscious",
         "legendgrouptitle": {
          "text": "fit"
         },
         "line": {
          "color": "darkgreen",
          "dash": "solid"
         },
         "mode": "lines",
         "showlegend": false,
         "type": "scatter",
         "unselected": {
          "marker": {
           "opacity": 0
          }
         },
         "x": [
          0.125,
          0.25,
          0.5,
          1,
          2,
          3,
          4,
          5,
          6,
          7,
          8,
          9,
          10,
          11,
          12,
          13,
          14,
          15,
          16,
          17,
          18,
          19,
          20,
          21,
          22,
          23,
          24,
          25,
          26,
          27,
          28,
          30
         ],
         "y": [
          1.4579386471784808,
          1.464132864254869,
          1.4765212984076455,
          1.5012981667131986,
          1.5508519033243044,
          1.6004056399354105,
          1.6499593765465166,
          1.6995131131576227,
          1.7490668497687287,
          1.7986205863798346,
          1.8481743229909406,
          1.8977280596020467,
          1.9472817962131526,
          1.9968355328242586,
          2.0463892694353647,
          2.095943006046471,
          2.145496742657577,
          2.1950504792686827,
          2.2446042158797885,
          2.294157952490895,
          2.3437116891020007,
          2.393265425713107,
          2.442819162324213,
          2.4923728989353187,
          2.5419266355464245,
          2.591480372157531,
          2.641034108768637,
          2.690587845379743,
          2.740141581990849,
          2.7896953186019546,
          2.839249055213061,
          2.938356528435273
         ]
        }
       ],
       "layout": {
        "legend": {
         "orientation": "v",
         "tracegroupgap": 0,
         "x": 0.01,
         "xanchor": "left",
         "y": 0.99,
         "yanchor": "top"
        },
        "template": {
         "data": {
          "bar": [
           {
            "error_x": {
             "color": "#2a3f5f"
            },
            "error_y": {
             "color": "#2a3f5f"
            },
            "marker": {
             "line": {
              "color": "#E5ECF6",
              "width": 0.5
             },
             "pattern": {
              "fillmode": "overlay",
              "size": 10,
              "solidity": 0.2
             }
            },
            "type": "bar"
           }
          ],
          "barpolar": [
           {
            "marker": {
             "line": {
              "color": "#E5ECF6",
              "width": 0.5
             },
             "pattern": {
              "fillmode": "overlay",
              "size": 10,
              "solidity": 0.2
             }
            },
            "type": "barpolar"
           }
          ],
          "carpet": [
           {
            "aaxis": {
             "endlinecolor": "#2a3f5f",
             "gridcolor": "white",
             "linecolor": "white",
             "minorgridcolor": "white",
             "startlinecolor": "#2a3f5f"
            },
            "baxis": {
             "endlinecolor": "#2a3f5f",
             "gridcolor": "white",
             "linecolor": "white",
             "minorgridcolor": "white",
             "startlinecolor": "#2a3f5f"
            },
            "type": "carpet"
           }
          ],
          "choropleth": [
           {
            "colorbar": {
             "outlinewidth": 0,
             "ticks": ""
            },
            "type": "choropleth"
           }
          ],
          "contour": [
           {
            "colorbar": {
             "outlinewidth": 0,
             "ticks": ""
            },
            "colorscale": [
             [
              0,
              "#0d0887"
             ],
             [
              0.1111111111111111,
              "#46039f"
             ],
             [
              0.2222222222222222,
              "#7201a8"
             ],
             [
              0.3333333333333333,
              "#9c179e"
             ],
             [
              0.4444444444444444,
              "#bd3786"
             ],
             [
              0.5555555555555556,
              "#d8576b"
             ],
             [
              0.6666666666666666,
              "#ed7953"
             ],
             [
              0.7777777777777778,
              "#fb9f3a"
             ],
             [
              0.8888888888888888,
              "#fdca26"
             ],
             [
              1,
              "#f0f921"
             ]
            ],
            "type": "contour"
           }
          ],
          "contourcarpet": [
           {
            "colorbar": {
             "outlinewidth": 0,
             "ticks": ""
            },
            "type": "contourcarpet"
           }
          ],
          "heatmap": [
           {
            "colorbar": {
             "outlinewidth": 0,
             "ticks": ""
            },
            "colorscale": [
             [
              0,
              "#0d0887"
             ],
             [
              0.1111111111111111,
              "#46039f"
             ],
             [
              0.2222222222222222,
              "#7201a8"
             ],
             [
              0.3333333333333333,
              "#9c179e"
             ],
             [
              0.4444444444444444,
              "#bd3786"
             ],
             [
              0.5555555555555556,
              "#d8576b"
             ],
             [
              0.6666666666666666,
              "#ed7953"
             ],
             [
              0.7777777777777778,
              "#fb9f3a"
             ],
             [
              0.8888888888888888,
              "#fdca26"
             ],
             [
              1,
              "#f0f921"
             ]
            ],
            "type": "heatmap"
           }
          ],
          "heatmapgl": [
           {
            "colorbar": {
             "outlinewidth": 0,
             "ticks": ""
            },
            "colorscale": [
             [
              0,
              "#0d0887"
             ],
             [
              0.1111111111111111,
              "#46039f"
             ],
             [
              0.2222222222222222,
              "#7201a8"
             ],
             [
              0.3333333333333333,
              "#9c179e"
             ],
             [
              0.4444444444444444,
              "#bd3786"
             ],
             [
              0.5555555555555556,
              "#d8576b"
             ],
             [
              0.6666666666666666,
              "#ed7953"
             ],
             [
              0.7777777777777778,
              "#fb9f3a"
             ],
             [
              0.8888888888888888,
              "#fdca26"
             ],
             [
              1,
              "#f0f921"
             ]
            ],
            "type": "heatmapgl"
           }
          ],
          "histogram": [
           {
            "marker": {
             "pattern": {
              "fillmode": "overlay",
              "size": 10,
              "solidity": 0.2
             }
            },
            "type": "histogram"
           }
          ],
          "histogram2d": [
           {
            "colorbar": {
             "outlinewidth": 0,
             "ticks": ""
            },
            "colorscale": [
             [
              0,
              "#0d0887"
             ],
             [
              0.1111111111111111,
              "#46039f"
             ],
             [
              0.2222222222222222,
              "#7201a8"
             ],
             [
              0.3333333333333333,
              "#9c179e"
             ],
             [
              0.4444444444444444,
              "#bd3786"
             ],
             [
              0.5555555555555556,
              "#d8576b"
             ],
             [
              0.6666666666666666,
              "#ed7953"
             ],
             [
              0.7777777777777778,
              "#fb9f3a"
             ],
             [
              0.8888888888888888,
              "#fdca26"
             ],
             [
              1,
              "#f0f921"
             ]
            ],
            "type": "histogram2d"
           }
          ],
          "histogram2dcontour": [
           {
            "colorbar": {
             "outlinewidth": 0,
             "ticks": ""
            },
            "colorscale": [
             [
              0,
              "#0d0887"
             ],
             [
              0.1111111111111111,
              "#46039f"
             ],
             [
              0.2222222222222222,
              "#7201a8"
             ],
             [
              0.3333333333333333,
              "#9c179e"
             ],
             [
              0.4444444444444444,
              "#bd3786"
             ],
             [
              0.5555555555555556,
              "#d8576b"
             ],
             [
              0.6666666666666666,
              "#ed7953"
             ],
             [
              0.7777777777777778,
              "#fb9f3a"
             ],
             [
              0.8888888888888888,
              "#fdca26"
             ],
             [
              1,
              "#f0f921"
             ]
            ],
            "type": "histogram2dcontour"
           }
          ],
          "mesh3d": [
           {
            "colorbar": {
             "outlinewidth": 0,
             "ticks": ""
            },
            "type": "mesh3d"
           }
          ],
          "parcoords": [
           {
            "line": {
             "colorbar": {
              "outlinewidth": 0,
              "ticks": ""
             }
            },
            "type": "parcoords"
           }
          ],
          "pie": [
           {
            "automargin": true,
            "type": "pie"
           }
          ],
          "scatter": [
           {
            "fillpattern": {
             "fillmode": "overlay",
             "size": 10,
             "solidity": 0.2
            },
            "type": "scatter"
           }
          ],
          "scatter3d": [
           {
            "line": {
             "colorbar": {
              "outlinewidth": 0,
              "ticks": ""
             }
            },
            "marker": {
             "colorbar": {
              "outlinewidth": 0,
              "ticks": ""
             }
            },
            "type": "scatter3d"
           }
          ],
          "scattercarpet": [
           {
            "marker": {
             "colorbar": {
              "outlinewidth": 0,
              "ticks": ""
             }
            },
            "type": "scattercarpet"
           }
          ],
          "scattergeo": [
           {
            "marker": {
             "colorbar": {
              "outlinewidth": 0,
              "ticks": ""
             }
            },
            "type": "scattergeo"
           }
          ],
          "scattergl": [
           {
            "marker": {
             "colorbar": {
              "outlinewidth": 0,
              "ticks": ""
             }
            },
            "type": "scattergl"
           }
          ],
          "scattermapbox": [
           {
            "marker": {
             "colorbar": {
              "outlinewidth": 0,
              "ticks": ""
             }
            },
            "type": "scattermapbox"
           }
          ],
          "scatterpolar": [
           {
            "marker": {
             "colorbar": {
              "outlinewidth": 0,
              "ticks": ""
             }
            },
            "type": "scatterpolar"
           }
          ],
          "scatterpolargl": [
           {
            "marker": {
             "colorbar": {
              "outlinewidth": 0,
              "ticks": ""
             }
            },
            "type": "scatterpolargl"
           }
          ],
          "scatterternary": [
           {
            "marker": {
             "colorbar": {
              "outlinewidth": 0,
              "ticks": ""
             }
            },
            "type": "scatterternary"
           }
          ],
          "surface": [
           {
            "colorbar": {
             "outlinewidth": 0,
             "ticks": ""
            },
            "colorscale": [
             [
              0,
              "#0d0887"
             ],
             [
              0.1111111111111111,
              "#46039f"
             ],
             [
              0.2222222222222222,
              "#7201a8"
             ],
             [
              0.3333333333333333,
              "#9c179e"
             ],
             [
              0.4444444444444444,
              "#bd3786"
             ],
             [
              0.5555555555555556,
              "#d8576b"
             ],
             [
              0.6666666666666666,
              "#ed7953"
             ],
             [
              0.7777777777777778,
              "#fb9f3a"
             ],
             [
              0.8888888888888888,
              "#fdca26"
             ],
             [
              1,
              "#f0f921"
             ]
            ],
            "type": "surface"
           }
          ],
          "table": [
           {
            "cells": {
             "fill": {
              "color": "#EBF0F8"
             },
             "line": {
              "color": "white"
             }
            },
            "header": {
             "fill": {
              "color": "#C8D4E3"
             },
             "line": {
              "color": "white"
             }
            },
            "type": "table"
           }
          ]
         },
         "layout": {
          "autosize": true,
          "font": {
           "family": "sans-serif",
           "size": 14
          },
          "hovermode": "closest",
          "margin": {
           "b": 40,
           "l": 50,
           "pad": 4,
           "r": 25,
           "t": 20
          },
          "template": {
           "data": {
            "bar": [
             {
              "error_x": {
               "color": "#2a3f5f"
              },
              "error_y": {
               "color": "#2a3f5f"
              },
              "marker": {
               "line": {
                "color": "white",
                "width": 0.5
               },
               "pattern": {
                "fillmode": "overlay",
                "size": 10,
                "solidity": 0.2
               }
              },
              "type": "bar"
             }
            ],
            "barpolar": [
             {
              "marker": {
               "line": {
                "color": "white",
                "width": 0.5
               },
               "pattern": {
                "fillmode": "overlay",
                "size": 10,
                "solidity": 0.2
               }
              },
              "type": "barpolar"
             }
            ],
            "carpet": [
             {
              "aaxis": {
               "endlinecolor": "#2a3f5f",
               "gridcolor": "#C8D4E3",
               "linecolor": "#C8D4E3",
               "minorgridcolor": "#C8D4E3",
               "startlinecolor": "#2a3f5f"
              },
              "baxis": {
               "endlinecolor": "#2a3f5f",
               "gridcolor": "#C8D4E3",
               "linecolor": "#C8D4E3",
               "minorgridcolor": "#C8D4E3",
               "startlinecolor": "#2a3f5f"
              },
              "type": "carpet"
             }
            ],
            "choropleth": [
             {
              "colorbar": {
               "outlinewidth": 0,
               "ticks": ""
              },
              "type": "choropleth"
             }
            ],
            "contour": [
             {
              "colorbar": {
               "outlinewidth": 0,
               "ticks": ""
              },
              "colorscale": [
               [
                0,
                "#0d0887"
               ],
               [
                0.1111111111111111,
                "#46039f"
               ],
               [
                0.2222222222222222,
                "#7201a8"
               ],
               [
                0.3333333333333333,
                "#9c179e"
               ],
               [
                0.4444444444444444,
                "#bd3786"
               ],
               [
                0.5555555555555556,
                "#d8576b"
               ],
               [
                0.6666666666666666,
                "#ed7953"
               ],
               [
                0.7777777777777778,
                "#fb9f3a"
               ],
               [
                0.8888888888888888,
                "#fdca26"
               ],
               [
                1,
                "#f0f921"
               ]
              ],
              "type": "contour"
             }
            ],
            "contourcarpet": [
             {
              "colorbar": {
               "outlinewidth": 0,
               "ticks": ""
              },
              "type": "contourcarpet"
             }
            ],
            "heatmap": [
             {
              "colorbar": {
               "outlinewidth": 0,
               "ticks": ""
              },
              "colorscale": [
               [
                0,
                "#0d0887"
               ],
               [
                0.1111111111111111,
                "#46039f"
               ],
               [
                0.2222222222222222,
                "#7201a8"
               ],
               [
                0.3333333333333333,
                "#9c179e"
               ],
               [
                0.4444444444444444,
                "#bd3786"
               ],
               [
                0.5555555555555556,
                "#d8576b"
               ],
               [
                0.6666666666666666,
                "#ed7953"
               ],
               [
                0.7777777777777778,
                "#fb9f3a"
               ],
               [
                0.8888888888888888,
                "#fdca26"
               ],
               [
                1,
                "#f0f921"
               ]
              ],
              "type": "heatmap"
             }
            ],
            "heatmapgl": [
             {
              "colorbar": {
               "outlinewidth": 0,
               "ticks": ""
              },
              "colorscale": [
               [
                0,
                "#0d0887"
               ],
               [
                0.1111111111111111,
                "#46039f"
               ],
               [
                0.2222222222222222,
                "#7201a8"
               ],
               [
                0.3333333333333333,
                "#9c179e"
               ],
               [
                0.4444444444444444,
                "#bd3786"
               ],
               [
                0.5555555555555556,
                "#d8576b"
               ],
               [
                0.6666666666666666,
                "#ed7953"
               ],
               [
                0.7777777777777778,
                "#fb9f3a"
               ],
               [
                0.8888888888888888,
                "#fdca26"
               ],
               [
                1,
                "#f0f921"
               ]
              ],
              "type": "heatmapgl"
             }
            ],
            "histogram": [
             {
              "marker": {
               "pattern": {
                "fillmode": "overlay",
                "size": 10,
                "solidity": 0.2
               }
              },
              "type": "histogram"
             }
            ],
            "histogram2d": [
             {
              "colorbar": {
               "outlinewidth": 0,
               "ticks": ""
              },
              "colorscale": [
               [
                0,
                "#0d0887"
               ],
               [
                0.1111111111111111,
                "#46039f"
               ],
               [
                0.2222222222222222,
                "#7201a8"
               ],
               [
                0.3333333333333333,
                "#9c179e"
               ],
               [
                0.4444444444444444,
                "#bd3786"
               ],
               [
                0.5555555555555556,
                "#d8576b"
               ],
               [
                0.6666666666666666,
                "#ed7953"
               ],
               [
                0.7777777777777778,
                "#fb9f3a"
               ],
               [
                0.8888888888888888,
                "#fdca26"
               ],
               [
                1,
                "#f0f921"
               ]
              ],
              "type": "histogram2d"
             }
            ],
            "histogram2dcontour": [
             {
              "colorbar": {
               "outlinewidth": 0,
               "ticks": ""
              },
              "colorscale": [
               [
                0,
                "#0d0887"
               ],
               [
                0.1111111111111111,
                "#46039f"
               ],
               [
                0.2222222222222222,
                "#7201a8"
               ],
               [
                0.3333333333333333,
                "#9c179e"
               ],
               [
                0.4444444444444444,
                "#bd3786"
               ],
               [
                0.5555555555555556,
                "#d8576b"
               ],
               [
                0.6666666666666666,
                "#ed7953"
               ],
               [
                0.7777777777777778,
                "#fb9f3a"
               ],
               [
                0.8888888888888888,
                "#fdca26"
               ],
               [
                1,
                "#f0f921"
               ]
              ],
              "type": "histogram2dcontour"
             }
            ],
            "mesh3d": [
             {
              "colorbar": {
               "outlinewidth": 0,
               "ticks": ""
              },
              "type": "mesh3d"
             }
            ],
            "parcoords": [
             {
              "line": {
               "colorbar": {
                "outlinewidth": 0,
                "ticks": ""
               }
              },
              "type": "parcoords"
             }
            ],
            "pie": [
             {
              "automargin": true,
              "type": "pie"
             }
            ],
            "scatter": [
             {
              "fillpattern": {
               "fillmode": "overlay",
               "size": 10,
               "solidity": 0.2
              },
              "type": "scatter"
             }
            ],
            "scatter3d": [
             {
              "line": {
               "colorbar": {
                "outlinewidth": 0,
                "ticks": ""
               }
              },
              "marker": {
               "colorbar": {
                "outlinewidth": 0,
                "ticks": ""
               }
              },
              "type": "scatter3d"
             }
            ],
            "scattercarpet": [
             {
              "marker": {
               "colorbar": {
                "outlinewidth": 0,
                "ticks": ""
               }
              },
              "type": "scattercarpet"
             }
            ],
            "scattergeo": [
             {
              "marker": {
               "colorbar": {
                "outlinewidth": 0,
                "ticks": ""
               }
              },
              "type": "scattergeo"
             }
            ],
            "scattergl": [
             {
              "marker": {
               "colorbar": {
                "outlinewidth": 0,
                "ticks": ""
               }
              },
              "type": "scattergl"
             }
            ],
            "scattermapbox": [
             {
              "marker": {
               "colorbar": {
                "outlinewidth": 0,
                "ticks": ""
               }
              },
              "type": "scattermapbox"
             }
            ],
            "scatterpolar": [
             {
              "marker": {
               "colorbar": {
                "outlinewidth": 0,
                "ticks": ""
               }
              },
              "type": "scatterpolar"
             }
            ],
            "scatterpolargl": [
             {
              "marker": {
               "colorbar": {
                "outlinewidth": 0,
                "ticks": ""
               }
              },
              "type": "scatterpolargl"
             }
            ],
            "scatterternary": [
             {
              "marker": {
               "colorbar": {
                "outlinewidth": 0,
                "ticks": ""
               }
              },
              "type": "scatterternary"
             }
            ],
            "surface": [
             {
              "colorbar": {
               "outlinewidth": 0,
               "ticks": ""
              },
              "colorscale": [
               [
                0,
                "#0d0887"
               ],
               [
                0.1111111111111111,
                "#46039f"
               ],
               [
                0.2222222222222222,
                "#7201a8"
               ],
               [
                0.3333333333333333,
                "#9c179e"
               ],
               [
                0.4444444444444444,
                "#bd3786"
               ],
               [
                0.5555555555555556,
                "#d8576b"
               ],
               [
                0.6666666666666666,
                "#ed7953"
               ],
               [
                0.7777777777777778,
                "#fb9f3a"
               ],
               [
                0.8888888888888888,
                "#fdca26"
               ],
               [
                1,
                "#f0f921"
               ]
              ],
              "type": "surface"
             }
            ],
            "table": [
             {
              "cells": {
               "fill": {
                "color": "#EBF0F8"
               },
               "line": {
                "color": "white"
               }
              },
              "header": {
               "fill": {
                "color": "#C8D4E3"
               },
               "line": {
                "color": "white"
               }
              },
              "type": "table"
             }
            ]
           },
           "layout": {
            "annotationdefaults": {
             "arrowcolor": "#2a3f5f",
             "arrowhead": 0,
             "arrowwidth": 1
            },
            "autotypenumbers": "strict",
            "coloraxis": {
             "colorbar": {
              "outlinewidth": 0,
              "ticks": ""
             }
            },
            "colorscale": {
             "diverging": [
              [
               0,
               "#8e0152"
              ],
              [
               0.1,
               "#c51b7d"
              ],
              [
               0.2,
               "#de77ae"
              ],
              [
               0.3,
               "#f1b6da"
              ],
              [
               0.4,
               "#fde0ef"
              ],
              [
               0.5,
               "#f7f7f7"
              ],
              [
               0.6,
               "#e6f5d0"
              ],
              [
               0.7,
               "#b8e186"
              ],
              [
               0.8,
               "#7fbc41"
              ],
              [
               0.9,
               "#4d9221"
              ],
              [
               1,
               "#276419"
              ]
             ],
             "sequential": [
              [
               0,
               "#0d0887"
              ],
              [
               0.1111111111111111,
               "#46039f"
              ],
              [
               0.2222222222222222,
               "#7201a8"
              ],
              [
               0.3333333333333333,
               "#9c179e"
              ],
              [
               0.4444444444444444,
               "#bd3786"
              ],
              [
               0.5555555555555556,
               "#d8576b"
              ],
              [
               0.6666666666666666,
               "#ed7953"
              ],
              [
               0.7777777777777778,
               "#fb9f3a"
              ],
              [
               0.8888888888888888,
               "#fdca26"
              ],
              [
               1,
               "#f0f921"
              ]
             ],
             "sequentialminus": [
              [
               0,
               "#0d0887"
              ],
              [
               0.1111111111111111,
               "#46039f"
              ],
              [
               0.2222222222222222,
               "#7201a8"
              ],
              [
               0.3333333333333333,
               "#9c179e"
              ],
              [
               0.4444444444444444,
               "#bd3786"
              ],
              [
               0.5555555555555556,
               "#d8576b"
              ],
              [
               0.6666666666666666,
               "#ed7953"
              ],
              [
               0.7777777777777778,
               "#fb9f3a"
              ],
              [
               0.8888888888888888,
               "#fdca26"
              ],
              [
               1,
               "#f0f921"
              ]
             ]
            },
            "colorway": [
             "#636efa",
             "#EF553B",
             "#00cc96",
             "#ab63fa",
             "#FFA15A",
             "#19d3f3",
             "#FF6692",
             "#B6E880",
             "#FF97FF",
             "#FECB52"
            ],
            "font": {
             "color": "#2a3f5f"
            },
            "geo": {
             "bgcolor": "white",
             "lakecolor": "white",
             "landcolor": "white",
             "showlakes": true,
             "showland": true,
             "subunitcolor": "#C8D4E3"
            },
            "hoverlabel": {
             "align": "left"
            },
            "hovermode": "closest",
            "mapbox": {
             "style": "light"
            },
            "paper_bgcolor": "white",
            "plot_bgcolor": "white",
            "polar": {
             "angularaxis": {
              "gridcolor": "#EBF0F8",
              "linecolor": "#EBF0F8",
              "ticks": ""
             },
             "bgcolor": "white",
             "radialaxis": {
              "gridcolor": "#EBF0F8",
              "linecolor": "#EBF0F8",
              "ticks": ""
             }
            },
            "scene": {
             "xaxis": {
              "backgroundcolor": "white",
              "gridcolor": "#DFE8F3",
              "gridwidth": 2,
              "linecolor": "#EBF0F8",
              "showbackground": true,
              "ticks": "",
              "zerolinecolor": "#EBF0F8"
             },
             "yaxis": {
              "backgroundcolor": "white",
              "gridcolor": "#DFE8F3",
              "gridwidth": 2,
              "linecolor": "#EBF0F8",
              "showbackground": true,
              "ticks": "",
              "zerolinecolor": "#EBF0F8"
             },
             "zaxis": {
              "backgroundcolor": "white",
              "gridcolor": "#DFE8F3",
              "gridwidth": 2,
              "linecolor": "#EBF0F8",
              "showbackground": true,
              "ticks": "",
              "zerolinecolor": "#EBF0F8"
             }
            },
            "shapedefaults": {
             "line": {
              "color": "#2a3f5f"
             }
            },
            "ternary": {
             "aaxis": {
              "gridcolor": "#DFE8F3",
              "linecolor": "#A2B1C6",
              "ticks": ""
             },
             "baxis": {
              "gridcolor": "#DFE8F3",
              "linecolor": "#A2B1C6",
              "ticks": ""
             },
             "bgcolor": "white",
             "caxis": {
              "gridcolor": "#DFE8F3",
              "linecolor": "#A2B1C6",
              "ticks": ""
             }
            },
            "title": {
             "x": 0.05
            },
            "xaxis": {
             "automargin": true,
             "gridcolor": "#EBF0F8",
             "linecolor": "#EBF0F8",
             "ticks": "",
             "title": {
              "standoff": 15
             },
             "zerolinecolor": "#EBF0F8",
             "zerolinewidth": 2
            },
            "yaxis": {
             "automargin": true,
             "gridcolor": "#EBF0F8",
             "linecolor": "#EBF0F8",
             "ticks": "",
             "title": {
              "standoff": 15
             },
             "zerolinecolor": "#EBF0F8",
             "zerolinewidth": 2
            }
           }
          },
          "xaxis": {
           "automargin": true,
           "autorange": false,
           "fixedrange": true,
           "linecolor": "#444",
           "linewidth": 2,
           "minor": {
            "tickmode": "linear",
            "ticks": "outside"
           },
           "mirror": true,
           "showline": true,
           "tickmode": "linear",
           "ticks": "outside",
           "zeroline": false
          },
          "yaxis": {
           "automargin": true,
           "autorange": false,
           "fixedrange": true,
           "linecolor": "#444",
           "linewidth": 2,
           "minor": {
            "tickmode": "linear",
            "ticks": "outside"
           },
           "mirror": true,
           "showline": true,
           "tickmode": "linear",
           "ticks": "outside",
           "zeroline": false
          }
         }
        },
        "xaxis": {
         "dtick": 5,
         "minor": {
          "dtick": 1,
          "tick0": 0
         },
         "range": [
          0,
          30.2
         ],
         "tick0": 0,
         "title": {
          "text": "challenge rating"
         }
        },
        "yaxis": {
         "dtick": 20,
         "minor": {
          "dtick": 10,
          "tick0": 0
         },
         "range": [
          -5,
          115
         ],
         "tick0": 0,
         "title": {
          "text": "percent immune"
         }
        }
       }
      }
     },
     "metadata": {},
     "output_type": "display_data"
    },
    {
     "data": {
      "application/vnd.plotly.v1+json": {
       "config": {
        "autosizable": true,
        "displayModeBar": "hover",
        "displaylogo": false,
        "modeBarButtonsToRemove": [
         "select2d",
         "lasso2d",
         "zoom2d",
         "zoomIn2d",
         "zoomOut2d",
         "pan2d",
         "autoScale2d",
         "hoverClosestCartesian",
         "hoverCompareCartesian",
         "toggleSpikelines",
         "resetScale2d"
        ],
        "plotlyServerURL": "https://plot.ly",
        "responsive": true,
        "showAxisDragHandles": false,
        "toImageButtonOptions": {
         "filename": "tfb-plot",
         "format": "png",
         "height": 450,
         "scale": 2,
         "width": 600
        }
       },
       "data": [
        {
         "hovertemplate": "<b>CR:</b> %{x}<br><b>Condition:</b> Blinded<br><b>Immune:</b> %{y:.0f}% %{text}<extra></extra>",
         "legendgroup": "Blinded",
         "line": {
          "shape": "spline"
         },
         "marker": {
          "color": "gold",
          "size": 4
         },
         "mode": "markers",
         "name": "Blinded",
         "showlegend": true,
         "text": [
          "(5 out of 50)",
          "(9 out of 97)",
          "(10 out of 93)",
          "(8 out of 110)",
          "(8 out of 165)",
          "(7 out of 136)",
          "(5 out of 97)",
          "(8 out of 124)",
          "(4 out of 65)",
          "(4 out of 65)",
          "(3 out of 76)",
          "(1 out of 48)",
          "(3 out of 37)",
          "(2 out of 40)",
          "(1 out of 27)",
          "(1 out of 33)",
          "(1 out of 24)",
          "(1 out of 20)",
          "(1 out of 25)",
          "(0 out of 16)",
          "(0 out of 14)",
          "(1 out of 9)",
          "(0 out of 11)",
          "(1 out of 15)",
          "(2 out of 16)",
          "(4 out of 22)",
          "(2 out of 14)",
          "(0 out of 9)",
          "(0 out of 8)",
          "(0 out of 1)",
          "(0 out of 3)",
          "(2 out of 4)"
         ],
         "type": "scatter",
         "unselected": {
          "marker": {
           "opacity": 0
          }
         },
         "x": [
          0.125,
          0.25,
          0.5,
          1,
          2,
          3,
          4,
          5,
          6,
          7,
          8,
          9,
          10,
          11,
          12,
          13,
          14,
          15,
          16,
          17,
          18,
          19,
          20,
          21,
          22,
          23,
          24,
          25,
          26,
          27,
          28,
          30
         ],
         "y": [
          10,
          9.278350515463918,
          10.75268817204301,
          7.2727272727272725,
          4.848484848484849,
          5.147058823529411,
          5.154639175257731,
          6.451612903225806,
          6.153846153846154,
          6.153846153846154,
          3.9473684210526314,
          2.083333333333333,
          8.108108108108109,
          5,
          3.7037037037037033,
          3.0303030303030303,
          4.166666666666666,
          5,
          4,
          0,
          0,
          11.11111111111111,
          0,
          6.666666666666667,
          12.5,
          18.181818181818183,
          14.285714285714285,
          0,
          0,
          0,
          0,
          50
         ]
        },
        {
         "hoverinfo": "skip",
         "legendgroup": "Blinded",
         "legendgrouptitle": {
          "text": "fit"
         },
         "line": {
          "color": "gold",
          "dash": "solid"
         },
         "mode": "lines",
         "showlegend": false,
         "type": "scatter",
         "unselected": {
          "marker": {
           "opacity": 0
          }
         },
         "x": [
          0.125,
          0.25,
          0.5,
          1,
          2,
          3,
          4,
          5,
          6,
          7,
          8,
          9,
          10,
          11,
          12,
          13,
          14,
          15,
          16,
          17,
          18,
          19,
          20,
          21,
          22,
          23,
          24,
          25,
          26,
          27,
          28,
          30
         ],
         "y": [
          4.495347028234974,
          4.518202050650043,
          4.56391209548018,
          4.6553321851404545,
          4.838172364461005,
          5.021012543781554,
          5.203852723102104,
          5.386692902422653,
          5.569533081743202,
          5.752373261063752,
          5.9352134403843015,
          6.118053619704851,
          6.300893799025401,
          6.48373397834595,
          6.666574157666499,
          6.849414336987049,
          7.0322545163075985,
          7.215094695628148,
          7.397934874948698,
          7.580775054269248,
          7.763615233589797,
          7.946455412910346,
          8.129295592230896,
          8.312135771551446,
          8.494975950871995,
          8.677816130192545,
          8.860656309513093,
          9.043496488833643,
          9.226336668154193,
          9.409176847474743,
          9.592017026795292,
          9.95769738543639
         ]
        },
        {
         "hovertemplate": "<b>CR:</b> %{x}<br><b>Condition:</b> Charmed<br><b>Immune:</b> %{y:.0f}% %{text}<extra></extra>",
         "legendgroup": "Charmed",
         "line": {
          "shape": "spline"
         },
         "marker": {
          "color": "red",
          "size": 4
         },
         "mode": "markers",
         "name": "Charmed",
         "showlegend": true,
         "text": [
          "(5 out of 50)",
          "(11 out of 97)",
          "(9 out of 93)",
          "(22 out of 110)",
          "(23 out of 165)",
          "(15 out of 136)",
          "(20 out of 97)",
          "(26 out of 124)",
          "(14 out of 65)",
          "(10 out of 65)",
          "(19 out of 76)",
          "(8 out of 48)",
          "(15 out of 37)",
          "(13 out of 40)",
          "(10 out of 27)",
          "(10 out of 33)",
          "(8 out of 24)",
          "(6 out of 20)",
          "(13 out of 25)",
          "(6 out of 16)",
          "(12 out of 14)",
          "(5 out of 9)",
          "(4 out of 11)",
          "(10 out of 15)",
          "(9 out of 16)",
          "(13 out of 22)",
          "(9 out of 14)",
          "(5 out of 9)",
          "(8 out of 8)",
          "(1 out of 1)",
          "(3 out of 3)",
          "(4 out of 4)"
         ],
         "type": "scatter",
         "unselected": {
          "marker": {
           "opacity": 0
          }
         },
         "x": [
          0.125,
          0.25,
          0.5,
          1,
          2,
          3,
          4,
          5,
          6,
          7,
          8,
          9,
          10,
          11,
          12,
          13,
          14,
          15,
          16,
          17,
          18,
          19,
          20,
          21,
          22,
          23,
          24,
          25,
          26,
          27,
          28,
          30
         ],
         "y": [
          10,
          11.34020618556701,
          9.67741935483871,
          20,
          13.939393939393941,
          11.029411764705882,
          20.618556701030926,
          20.967741935483872,
          21.53846153846154,
          15.384615384615385,
          25,
          16.666666666666664,
          40.54054054054054,
          32.5,
          37.03703703703704,
          30.303030303030305,
          33.33333333333333,
          30,
          52,
          37.5,
          85.71428571428571,
          55.55555555555556,
          36.36363636363637,
          66.66666666666666,
          56.25,
          59.09090909090909,
          64.28571428571429,
          55.55555555555556,
          100,
          100,
          100,
          100
         ]
        },
        {
         "hoverinfo": "skip",
         "legendgroup": "Charmed",
         "legendgrouptitle": {
          "text": "fit"
         },
         "line": {
          "color": "red",
          "dash": "solid"
         },
         "mode": "lines",
         "showlegend": false,
         "type": "scatter",
         "unselected": {
          "marker": {
           "opacity": 0
          }
         },
         "x": [
          0.125,
          0.25,
          0.5,
          1,
          2,
          3,
          4,
          5,
          6,
          7,
          8,
          9,
          10,
          11,
          12,
          13,
          14,
          15,
          16,
          17,
          18,
          19,
          20,
          21,
          22,
          23,
          24,
          25,
          26,
          27,
          28,
          30
         ],
         "y": [
          4.402123581865059,
          4.7567267534785005,
          5.465933096705383,
          6.884345783159147,
          9.721171156066676,
          12.557996528974204,
          15.394821901881734,
          18.231647274789264,
          21.06847264769679,
          23.90529802060432,
          26.74212339351185,
          29.57894876641938,
          32.41577413932691,
          35.25259951223444,
          38.089424885141966,
          40.92625025804949,
          43.76307563095702,
          46.59990100386456,
          49.436726376772086,
          52.27355174967961,
          55.11037712258714,
          57.947202495494665,
          60.784027868402205,
          63.62085324130973,
          66.45767861421726,
          69.29450398712478,
          72.13132936003231,
          74.96815473293985,
          77.80498010584738,
          80.6418054787549,
          83.47863085166243,
          89.1522815974775
         ]
        },
        {
         "hovertemplate": "<b>CR:</b> %{x}<br><b>Condition:</b> Deafened<br><b>Immune:</b> %{y:.0f}% %{text}<extra></extra>",
         "legendgroup": "Deafened",
         "line": {
          "shape": "spline"
         },
         "marker": {
          "color": "green",
          "size": 4
         },
         "mode": "markers",
         "name": "Deafened",
         "showlegend": true,
         "text": [
          "(5 out of 50)",
          "(7 out of 97)",
          "(7 out of 93)",
          "(6 out of 110)",
          "(7 out of 165)",
          "(3 out of 136)",
          "(4 out of 97)",
          "(6 out of 124)",
          "(2 out of 65)",
          "(3 out of 65)",
          "(3 out of 76)",
          "(1 out of 48)",
          "(3 out of 37)",
          "(1 out of 40)",
          "(1 out of 27)",
          "(1 out of 33)",
          "(1 out of 24)",
          "(1 out of 20)",
          "(2 out of 25)",
          "(0 out of 16)",
          "(2 out of 14)",
          "(0 out of 9)",
          "(1 out of 11)",
          "(1 out of 15)",
          "(1 out of 16)",
          "(3 out of 22)",
          "(1 out of 14)",
          "(0 out of 9)",
          "(0 out of 8)",
          "(0 out of 1)",
          "(0 out of 3)",
          "(3 out of 4)"
         ],
         "type": "scatter",
         "unselected": {
          "marker": {
           "opacity": 0
          }
         },
         "x": [
          0.125,
          0.25,
          0.5,
          1,
          2,
          3,
          4,
          5,
          6,
          7,
          8,
          9,
          10,
          11,
          12,
          13,
          14,
          15,
          16,
          17,
          18,
          19,
          20,
          21,
          22,
          23,
          24,
          25,
          26,
          27,
          28,
          30
         ],
         "y": [
          10,
          7.216494845360824,
          7.526881720430108,
          5.454545454545454,
          4.242424242424243,
          2.2058823529411766,
          4.123711340206185,
          4.838709677419355,
          3.076923076923077,
          4.615384615384616,
          3.9473684210526314,
          2.083333333333333,
          8.108108108108109,
          2.5,
          3.7037037037037033,
          3.0303030303030303,
          4.166666666666666,
          5,
          8,
          0,
          14.285714285714285,
          0,
          9.090909090909092,
          6.666666666666667,
          6.25,
          13.636363636363635,
          7.142857142857142,
          0,
          0,
          0,
          0,
          75
         ]
        },
        {
         "hoverinfo": "skip",
         "legendgroup": "Deafened",
         "legendgrouptitle": {
          "text": "fit"
         },
         "line": {
          "color": "green",
          "dash": "solid"
         },
         "mode": "lines",
         "showlegend": false,
         "type": "scatter",
         "unselected": {
          "marker": {
           "opacity": 0
          }
         },
         "x": [
          0.125,
          0.25,
          0.5,
          1,
          2,
          3,
          4,
          5,
          6,
          7,
          8,
          9,
          10,
          11,
          12,
          13,
          14,
          15,
          16,
          17,
          18,
          19,
          20,
          21,
          22,
          23,
          24,
          25,
          26,
          27,
          28,
          30
         ],
         "y": [
          2.005078661554039,
          2.051786843546988,
          2.1452032075328873,
          2.3320359355046856,
          2.7057013914482817,
          3.079366847391878,
          3.453032303335474,
          3.82669775927907,
          4.200363215222667,
          4.574028671166262,
          4.947694127109859,
          5.321359583053455,
          5.695025038997051,
          6.068690494940647,
          6.442355950884243,
          6.816021406827839,
          7.189686862771436,
          7.563352318715031,
          7.937017774658628,
          8.310683230602224,
          8.684348686545821,
          9.058014142489418,
          9.431679598433012,
          9.805345054376609,
          10.179010510320206,
          10.552675966263802,
          10.926341422207399,
          11.300006878150995,
          11.67367233409459,
          12.047337790038187,
          12.421003245981783,
          13.168334157868975
         ]
        },
        {
         "hovertemplate": "<b>CR:</b> %{x}<br><b>Condition:</b> Exhaustion<br><b>Immune:</b> %{y:.0f}% %{text}<extra></extra>",
         "legendgroup": "Exhaustion",
         "line": {
          "shape": "spline"
         },
         "marker": {
          "color": "orange",
          "size": 4
         },
         "mode": "markers",
         "name": "Exhaustion",
         "showlegend": true,
         "text": [
          "(4 out of 50)",
          "(11 out of 97)",
          "(10 out of 93)",
          "(21 out of 110)",
          "(16 out of 165)",
          "(16 out of 136)",
          "(19 out of 97)",
          "(24 out of 124)",
          "(13 out of 65)",
          "(8 out of 65)",
          "(10 out of 76)",
          "(9 out of 48)",
          "(10 out of 37)",
          "(11 out of 40)",
          "(9 out of 27)",
          "(4 out of 33)",
          "(6 out of 24)",
          "(3 out of 20)",
          "(11 out of 25)",
          "(4 out of 16)",
          "(6 out of 14)",
          "(2 out of 9)",
          "(3 out of 11)",
          "(6 out of 15)",
          "(8 out of 16)",
          "(13 out of 22)",
          "(8 out of 14)",
          "(2 out of 9)",
          "(5 out of 8)",
          "(0 out of 1)",
          "(2 out of 3)",
          "(0 out of 4)"
         ],
         "type": "scatter",
         "unselected": {
          "marker": {
           "opacity": 0
          }
         },
         "x": [
          0.125,
          0.25,
          0.5,
          1,
          2,
          3,
          4,
          5,
          6,
          7,
          8,
          9,
          10,
          11,
          12,
          13,
          14,
          15,
          16,
          17,
          18,
          19,
          20,
          21,
          22,
          23,
          24,
          25,
          26,
          27,
          28,
          30
         ],
         "y": [
          8,
          11.34020618556701,
          10.75268817204301,
          19.090909090909093,
          9.696969696969697,
          11.76470588235294,
          19.587628865979383,
          19.35483870967742,
          20,
          12.307692307692308,
          13.157894736842104,
          18.75,
          27.027027027027028,
          27.500000000000004,
          33.33333333333333,
          12.121212121212121,
          25,
          15,
          44,
          25,
          42.857142857142854,
          22.22222222222222,
          27.27272727272727,
          40,
          50,
          59.09090909090909,
          57.14285714285714,
          22.22222222222222,
          62.5,
          0,
          66.66666666666666,
          0
         ]
        },
        {
         "hoverinfo": "skip",
         "legendgroup": "Exhaustion",
         "legendgrouptitle": {
          "text": "fit"
         },
         "line": {
          "color": "orange",
          "dash": "solid"
         },
         "mode": "lines",
         "showlegend": false,
         "type": "scatter",
         "unselected": {
          "marker": {
           "opacity": 0
          }
         },
         "x": [
          0.125,
          0.25,
          0.5,
          1,
          2,
          3,
          4,
          5,
          6,
          7,
          8,
          9,
          10,
          11,
          12,
          13,
          14,
          15,
          16,
          17,
          18,
          19,
          20,
          21,
          22,
          23,
          24,
          25,
          26,
          27,
          28,
          30
         ],
         "y": [
          12.443358827678082,
          12.568848972384595,
          12.819829261797622,
          13.321789840623673,
          14.325710998275778,
          15.32963215592788,
          16.333553313579984,
          17.337474471232085,
          18.34139562888419,
          19.345316786536294,
          20.349237944188395,
          21.3531591018405,
          22.357080259492605,
          23.361001417144706,
          24.36492257479681,
          25.368843732448916,
          26.372764890101017,
          27.37668604775312,
          28.380607205405227,
          29.384528363057328,
          30.38844952070943,
          31.392370678361537,
          32.39629183601364,
          33.40021299366574,
          34.40413415131785,
          35.40805530896995,
          36.41197646662205,
          37.41589762427416,
          38.41981878192626,
          39.42373993957836,
          40.42766109723047,
          42.43550341253467
         ]
        },
        {
         "hovertemplate": "<b>CR:</b> %{x}<br><b>Condition:</b> Frightened<br><b>Immune:</b> %{y:.0f}% %{text}<extra></extra>",
         "legendgroup": "Frightened",
         "line": {
          "shape": "spline"
         },
         "marker": {
          "color": "teal",
          "size": 4
         },
         "mode": "markers",
         "name": "Frightened",
         "showlegend": true,
         "text": [
          "(5 out of 50)",
          "(9 out of 97)",
          "(12 out of 93)",
          "(18 out of 110)",
          "(20 out of 165)",
          "(16 out of 136)",
          "(22 out of 97)",
          "(22 out of 124)",
          "(16 out of 65)",
          "(11 out of 65)",
          "(18 out of 76)",
          "(9 out of 48)",
          "(13 out of 37)",
          "(14 out of 40)",
          "(9 out of 27)",
          "(12 out of 33)",
          "(9 out of 24)",
          "(7 out of 20)",
          "(15 out of 25)",
          "(8 out of 16)",
          "(10 out of 14)",
          "(6 out of 9)",
          "(5 out of 11)",
          "(9 out of 15)",
          "(9 out of 16)",
          "(16 out of 22)",
          "(10 out of 14)",
          "(6 out of 9)",
          "(7 out of 8)",
          "(1 out of 1)",
          "(3 out of 3)",
          "(4 out of 4)"
         ],
         "type": "scatter",
         "unselected": {
          "marker": {
           "opacity": 0
          }
         },
         "x": [
          0.125,
          0.25,
          0.5,
          1,
          2,
          3,
          4,
          5,
          6,
          7,
          8,
          9,
          10,
          11,
          12,
          13,
          14,
          15,
          16,
          17,
          18,
          19,
          20,
          21,
          22,
          23,
          24,
          25,
          26,
          27,
          28,
          30
         ],
         "y": [
          10,
          9.278350515463918,
          12.903225806451612,
          16.363636363636363,
          12.121212121212121,
          11.76470588235294,
          22.68041237113402,
          17.741935483870968,
          24.615384615384617,
          16.923076923076923,
          23.684210526315788,
          18.75,
          35.13513513513514,
          35,
          33.33333333333333,
          36.36363636363637,
          37.5,
          35,
          60,
          50,
          71.42857142857143,
          66.66666666666666,
          45.45454545454545,
          60,
          56.25,
          72.72727272727273,
          71.42857142857143,
          66.66666666666666,
          87.5,
          100,
          100,
          100
         ]
        },
        {
         "hoverinfo": "skip",
         "legendgroup": "Frightened",
         "legendgrouptitle": {
          "text": "fit"
         },
         "line": {
          "color": "teal",
          "dash": "solid"
         },
         "mode": "lines",
         "showlegend": false,
         "type": "scatter",
         "unselected": {
          "marker": {
           "opacity": 0
          }
         },
         "x": [
          0.125,
          0.25,
          0.5,
          1,
          2,
          3,
          4,
          5,
          6,
          7,
          8,
          9,
          10,
          11,
          12,
          13,
          14,
          15,
          16,
          17,
          18,
          19,
          20,
          21,
          22,
          23,
          24,
          25,
          26,
          27,
          28,
          30
         ],
         "y": [
          4.487081842679992,
          4.854882573505155,
          5.590484035155481,
          7.061686958456133,
          10.004092805057436,
          12.94649865165874,
          15.888904498260043,
          18.831310344861347,
          21.77371619146265,
          24.716122038063954,
          27.658527884665258,
          30.60093373126656,
          33.54333957786787,
          36.48574542446917,
          39.428151271070476,
          42.37055711767178,
          45.31296296427308,
          48.25536881087439,
          51.19777465747569,
          54.140180504076994,
          57.0825863506783,
          60.0249921972796,
          62.967398043880905,
          65.90980389048221,
          68.85220973708351,
          71.79461558368482,
          74.73702143028612,
          77.67942727688742,
          80.62183312348873,
          83.56423897009003,
          86.50664481669133,
          92.39145650989394
         ]
        },
        {
         "hovertemplate": "<b>CR:</b> %{x}<br><b>Condition:</b> Grappled<br><b>Immune:</b> %{y:.0f}% %{text}<extra></extra>",
         "legendgroup": "Grappled",
         "line": {
          "shape": "spline"
         },
         "marker": {
          "color": "purple",
          "size": 4
         },
         "mode": "markers",
         "name": "Grappled",
         "showlegend": true,
         "text": [
          "(0 out of 50)",
          "(3 out of 97)",
          "(3 out of 93)",
          "(7 out of 110)",
          "(6 out of 165)",
          "(7 out of 136)",
          "(7 out of 97)",
          "(8 out of 124)",
          "(4 out of 65)",
          "(3 out of 65)",
          "(2 out of 76)",
          "(2 out of 48)",
          "(0 out of 37)",
          "(1 out of 40)",
          "(3 out of 27)",
          "(0 out of 33)",
          "(0 out of 24)",
          "(0 out of 20)",
          "(2 out of 25)",
          "(2 out of 16)",
          "(1 out of 14)",
          "(1 out of 9)",
          "(2 out of 11)",
          "(0 out of 15)",
          "(1 out of 16)",
          "(4 out of 22)",
          "(1 out of 14)",
          "(0 out of 9)",
          "(0 out of 8)",
          "(0 out of 1)",
          "(0 out of 3)",
          "(0 out of 4)"
         ],
         "type": "scatter",
         "unselected": {
          "marker": {
           "opacity": 0
          }
         },
         "x": [
          0.125,
          0.25,
          0.5,
          1,
          2,
          3,
          4,
          5,
          6,
          7,
          8,
          9,
          10,
          11,
          12,
          13,
          14,
          15,
          16,
          17,
          18,
          19,
          20,
          21,
          22,
          23,
          24,
          25,
          26,
          27,
          28,
          30
         ],
         "y": [
          0,
          3.0927835051546393,
          3.225806451612903,
          6.363636363636363,
          3.6363636363636362,
          5.147058823529411,
          7.216494845360824,
          6.451612903225806,
          6.153846153846154,
          4.615384615384616,
          2.631578947368421,
          4.166666666666666,
          0,
          2.5,
          11.11111111111111,
          0,
          0,
          0,
          8,
          12.5,
          7.142857142857142,
          11.11111111111111,
          18.181818181818183,
          0,
          6.25,
          18.181818181818183,
          7.142857142857142,
          0,
          0,
          0,
          0,
          0
         ]
        },
        {
         "hoverinfo": "skip",
         "legendgroup": "Grappled",
         "legendgrouptitle": {
          "text": "fit"
         },
         "line": {
          "color": "purple",
          "dash": "solid"
         },
         "mode": "lines",
         "showlegend": false,
         "type": "scatter",
         "unselected": {
          "marker": {
           "opacity": 0
          }
         },
         "x": [
          0.125,
          0.25,
          0.5,
          1,
          2,
          3,
          4,
          5,
          6,
          7,
          8,
          9,
          10,
          11,
          12,
          13,
          14,
          15,
          16,
          17,
          18,
          19,
          20,
          21,
          22,
          23,
          24,
          25,
          26,
          27,
          28,
          30
         ],
         "y": [
          4.641989019082195,
          4.643802232242198,
          4.647428658562205,
          4.654681511202219,
          4.669187216482247,
          4.683692921762275,
          4.698198627042303,
          4.71270433232233,
          4.727210037602358,
          4.741715742882386,
          4.756221448162414,
          4.770727153442442,
          4.78523285872247,
          4.799738564002498,
          4.814244269282526,
          4.8287499745625535,
          4.8432556798425805,
          4.8577613851226085,
          4.872267090402636,
          4.886772795682664,
          4.901278500962692,
          4.91578420624272,
          4.930289911522748,
          4.944795616802776,
          4.959301322082804,
          4.973807027362831,
          4.988312732642859,
          5.002818437922887,
          5.017324143202915,
          5.031829848482943,
          5.046335553762971,
          5.0753469643230265
         ]
        },
        {
         "hovertemplate": "<b>CR:</b> %{x}<br><b>Condition:</b> Paralyzed<br><b>Immune:</b> %{y:.0f}% %{text}<extra></extra>",
         "legendgroup": "Paralyzed",
         "line": {
          "shape": "spline"
         },
         "marker": {
          "color": "olivedrab",
          "size": 4
         },
         "mode": "markers",
         "name": "Paralyzed",
         "showlegend": true,
         "text": [
          "(4 out of 50)",
          "(9 out of 97)",
          "(7 out of 93)",
          "(16 out of 110)",
          "(15 out of 165)",
          "(13 out of 136)",
          "(15 out of 97)",
          "(15 out of 124)",
          "(12 out of 65)",
          "(8 out of 65)",
          "(9 out of 76)",
          "(5 out of 48)",
          "(6 out of 37)",
          "(8 out of 40)",
          "(7 out of 27)",
          "(5 out of 33)",
          "(7 out of 24)",
          "(2 out of 20)",
          "(7 out of 25)",
          "(3 out of 16)",
          "(7 out of 14)",
          "(2 out of 9)",
          "(4 out of 11)",
          "(3 out of 15)",
          "(6 out of 16)",
          "(8 out of 22)",
          "(1 out of 14)",
          "(3 out of 9)",
          "(1 out of 8)",
          "(0 out of 1)",
          "(2 out of 3)",
          "(2 out of 4)"
         ],
         "type": "scatter",
         "unselected": {
          "marker": {
           "opacity": 0
          }
         },
         "x": [
          0.125,
          0.25,
          0.5,
          1,
          2,
          3,
          4,
          5,
          6,
          7,
          8,
          9,
          10,
          11,
          12,
          13,
          14,
          15,
          16,
          17,
          18,
          19,
          20,
          21,
          22,
          23,
          24,
          25,
          26,
          27,
          28,
          30
         ],
         "y": [
          8,
          9.278350515463918,
          7.526881720430108,
          14.545454545454545,
          9.090909090909092,
          9.558823529411764,
          15.463917525773196,
          12.096774193548388,
          18.461538461538463,
          12.307692307692308,
          11.842105263157894,
          10.416666666666668,
          16.216216216216218,
          20,
          25.925925925925924,
          15.151515151515152,
          29.166666666666668,
          10,
          28.000000000000004,
          18.75,
          50,
          22.22222222222222,
          36.36363636363637,
          20,
          37.5,
          36.36363636363637,
          7.142857142857142,
          33.33333333333333,
          12.5,
          0,
          66.66666666666666,
          50
         ]
        },
        {
         "hoverinfo": "skip",
         "legendgroup": "Paralyzed",
         "legendgrouptitle": {
          "text": "fit"
         },
         "line": {
          "color": "olivedrab",
          "dash": "solid"
         },
         "mode": "lines",
         "showlegend": false,
         "type": "scatter",
         "unselected": {
          "marker": {
           "opacity": 0
          }
         },
         "x": [
          0.125,
          0.25,
          0.5,
          1,
          2,
          3,
          4,
          5,
          6,
          7,
          8,
          9,
          10,
          11,
          12,
          13,
          14,
          15,
          16,
          17,
          18,
          19,
          20,
          21,
          22,
          23,
          24,
          25,
          26,
          27,
          28,
          30
         ],
         "y": [
          8.712566690214706,
          8.82665553104227,
          9.054833212697396,
          9.51118857600765,
          10.423899302628156,
          11.336610029248664,
          12.24932075586917,
          13.162031482489677,
          14.074742209110184,
          14.98745293573069,
          15.900163662351197,
          16.812874388971707,
          17.72558511559221,
          18.63829584221272,
          19.551006568833223,
          20.463717295453733,
          21.37642802207424,
          22.289138748694747,
          23.201849475315253,
          24.11456020193576,
          25.02727092855627,
          25.939981655176773,
          26.852692381797283,
          27.765403108417786,
          28.678113835038296,
          29.5908245616588,
          30.50353528827931,
          31.416246014899812,
          32.32895674152032,
          33.24166746814083,
          34.154378194761335,
          35.97979964800235
         ]
        },
        {
         "hovertemplate": "<b>CR:</b> %{x}<br><b>Condition:</b> Petrified<br><b>Immune:</b> %{y:.0f}% %{text}<extra></extra>",
         "legendgroup": "Petrified",
         "line": {
          "shape": "spline"
         },
         "marker": {
          "color": "orangered",
          "size": 4
         },
         "mode": "markers",
         "name": "Petrified",
         "showlegend": true,
         "text": [
          "(4 out of 50)",
          "(8 out of 97)",
          "(5 out of 93)",
          "(14 out of 110)",
          "(13 out of 165)",
          "(9 out of 136)",
          "(13 out of 97)",
          "(15 out of 124)",
          "(9 out of 65)",
          "(5 out of 65)",
          "(6 out of 76)",
          "(4 out of 48)",
          "(4 out of 37)",
          "(9 out of 40)",
          "(4 out of 27)",
          "(2 out of 33)",
          "(2 out of 24)",
          "(1 out of 20)",
          "(5 out of 25)",
          "(2 out of 16)",
          "(5 out of 14)",
          "(2 out of 9)",
          "(4 out of 11)",
          "(1 out of 15)",
          "(3 out of 16)",
          "(6 out of 22)",
          "(1 out of 14)",
          "(1 out of 9)",
          "(0 out of 8)",
          "(0 out of 1)",
          "(1 out of 3)",
          "(0 out of 4)"
         ],
         "type": "scatter",
         "unselected": {
          "marker": {
           "opacity": 0
          }
         },
         "x": [
          0.125,
          0.25,
          0.5,
          1,
          2,
          3,
          4,
          5,
          6,
          7,
          8,
          9,
          10,
          11,
          12,
          13,
          14,
          15,
          16,
          17,
          18,
          19,
          20,
          21,
          22,
          23,
          24,
          25,
          26,
          27,
          28,
          30
         ],
         "y": [
          8,
          8.24742268041237,
          5.376344086021505,
          12.727272727272727,
          7.878787878787878,
          6.61764705882353,
          13.402061855670103,
          12.096774193548388,
          13.846153846153847,
          7.6923076923076925,
          7.894736842105263,
          8.333333333333332,
          10.81081081081081,
          22.5,
          14.814814814814813,
          6.0606060606060606,
          8.333333333333332,
          5,
          20,
          12.5,
          35.714285714285715,
          22.22222222222222,
          36.36363636363637,
          6.666666666666667,
          18.75,
          27.27272727272727,
          7.142857142857142,
          11.11111111111111,
          0,
          0,
          33.33333333333333,
          0
         ]
        },
        {
         "hoverinfo": "skip",
         "legendgroup": "Petrified",
         "legendgrouptitle": {
          "text": "fit"
         },
         "line": {
          "color": "orangered",
          "dash": "solid"
         },
         "mode": "lines",
         "showlegend": false,
         "type": "scatter",
         "unselected": {
          "marker": {
           "opacity": 0
          }
         },
         "x": [
          0.125,
          0.25,
          0.5,
          1,
          2,
          3,
          4,
          5,
          6,
          7,
          8,
          9,
          10,
          11,
          12,
          13,
          14,
          15,
          16,
          17,
          18,
          19,
          20,
          21,
          22,
          23,
          24,
          25,
          26,
          27,
          28,
          30
         ],
         "y": [
          10.143846168711466,
          10.16871078599188,
          10.218440020552709,
          10.317898489674365,
          10.51681542791768,
          10.715732366160992,
          10.914649304404307,
          11.11356624264762,
          11.312483180890935,
          11.511400119134247,
          11.710317057377562,
          11.909233995620875,
          12.10815093386419,
          12.307067872107503,
          12.505984810350817,
          12.70490174859413,
          12.903818686837445,
          13.102735625080758,
          13.301652563324073,
          13.500569501567385,
          13.6994864398107,
          13.898403378054013,
          14.097320316297328,
          14.29623725454064,
          14.495154192783954,
          14.694071131027268,
          14.892988069270583,
          15.091905007513896,
          15.290821945757209,
          15.489738884000523,
          15.688655822243838,
          16.086489698730464
         ]
        },
        {
         "hovertemplate": "<b>CR:</b> %{x}<br><b>Condition:</b> Poisoned<br><b>Immune:</b> %{y:.0f}% %{text}<extra></extra>",
         "legendgroup": "Poisoned",
         "line": {
          "shape": "spline"
         },
         "marker": {
          "color": "blue",
          "size": 4
         },
         "mode": "markers",
         "name": "Poisoned",
         "showlegend": true,
         "text": [
          "(7 out of 50)",
          "(20 out of 97)",
          "(13 out of 93)",
          "(33 out of 110)",
          "(26 out of 165)",
          "(28 out of 136)",
          "(32 out of 97)",
          "(29 out of 124)",
          "(18 out of 65)",
          "(20 out of 65)",
          "(20 out of 76)",
          "(15 out of 48)",
          "(12 out of 37)",
          "(12 out of 40)",
          "(13 out of 27)",
          "(10 out of 33)",
          "(8 out of 24)",
          "(6 out of 20)",
          "(12 out of 25)",
          "(9 out of 16)",
          "(10 out of 14)",
          "(5 out of 9)",
          "(6 out of 11)",
          "(8 out of 15)",
          "(9 out of 16)",
          "(14 out of 22)",
          "(10 out of 14)",
          "(6 out of 9)",
          "(6 out of 8)",
          "(1 out of 1)",
          "(3 out of 3)",
          "(3 out of 4)"
         ],
         "type": "scatter",
         "unselected": {
          "marker": {
           "opacity": 0
          }
         },
         "x": [
          0.125,
          0.25,
          0.5,
          1,
          2,
          3,
          4,
          5,
          6,
          7,
          8,
          9,
          10,
          11,
          12,
          13,
          14,
          15,
          16,
          17,
          18,
          19,
          20,
          21,
          22,
          23,
          24,
          25,
          26,
          27,
          28,
          30
         ],
         "y": [
          14.000000000000002,
          20.618556701030926,
          13.978494623655912,
          30,
          15.757575757575756,
          20.588235294117645,
          32.98969072164948,
          23.387096774193548,
          27.692307692307693,
          30.76923076923077,
          26.31578947368421,
          31.25,
          32.432432432432435,
          30,
          48.148148148148145,
          30.303030303030305,
          33.33333333333333,
          30,
          48,
          56.25,
          71.42857142857143,
          55.55555555555556,
          54.54545454545454,
          53.333333333333336,
          56.25,
          63.63636363636363,
          71.42857142857143,
          66.66666666666666,
          75,
          100,
          100,
          75
         ]
        },
        {
         "hoverinfo": "skip",
         "legendgroup": "Poisoned",
         "legendgrouptitle": {
          "text": "fit"
         },
         "line": {
          "color": "blue",
          "dash": "solid"
         },
         "mode": "lines",
         "showlegend": false,
         "type": "scatter",
         "unselected": {
          "marker": {
           "opacity": 0
          }
         },
         "x": [
          0.125,
          0.25,
          0.5,
          1,
          2,
          3,
          4,
          5,
          6,
          7,
          8,
          9,
          10,
          11,
          12,
          13,
          14,
          15,
          16,
          17,
          18,
          19,
          20,
          21,
          22,
          23,
          24,
          25,
          26,
          27,
          28,
          30
         ],
         "y": [
          13.208931350207116,
          13.502310684718314,
          14.08906935374071,
          15.262586691785504,
          17.60962136787509,
          19.956656043964674,
          22.303690720054263,
          24.650725396143848,
          26.997760072233433,
          29.344794748323018,
          31.691829424412603,
          34.03886410050219,
          36.38589877659177,
          38.732933452681365,
          41.07996812877095,
          43.427002804860535,
          45.77403748095012,
          48.121072157039706,
          50.46810683312929,
          52.815141509218876,
          55.16217618530846,
          57.509210861398046,
          59.85624553748763,
          62.20328021357722,
          64.55031488966681,
          66.8973495657564,
          69.24438424184598,
          71.59141891793557,
          73.93845359402515,
          76.28548827011474,
          78.63252294620433,
          83.3265922983835
         ]
        },
        {
         "hovertemplate": "<b>CR:</b> %{x}<br><b>Condition:</b> Prone<br><b>Immune:</b> %{y:.0f}% %{text}<extra></extra>",
         "legendgroup": "Prone",
         "line": {
          "shape": "spline"
         },
         "marker": {
          "color": "darkviolet",
          "size": 4
         },
         "mode": "markers",
         "name": "Prone",
         "showlegend": true,
         "text": [
          "(0 out of 50)",
          "(7 out of 97)",
          "(8 out of 93)",
          "(9 out of 110)",
          "(12 out of 165)",
          "(12 out of 136)",
          "(10 out of 97)",
          "(13 out of 124)",
          "(5 out of 65)",
          "(8 out of 65)",
          "(4 out of 76)",
          "(3 out of 48)",
          "(4 out of 37)",
          "(4 out of 40)",
          "(2 out of 27)",
          "(2 out of 33)",
          "(2 out of 24)",
          "(1 out of 20)",
          "(3 out of 25)",
          "(3 out of 16)",
          "(3 out of 14)",
          "(2 out of 9)",
          "(4 out of 11)",
          "(1 out of 15)",
          "(2 out of 16)",
          "(6 out of 22)",
          "(3 out of 14)",
          "(0 out of 9)",
          "(1 out of 8)",
          "(0 out of 1)",
          "(0 out of 3)",
          "(0 out of 4)"
         ],
         "type": "scatter",
         "unselected": {
          "marker": {
           "opacity": 0
          }
         },
         "x": [
          0.125,
          0.25,
          0.5,
          1,
          2,
          3,
          4,
          5,
          6,
          7,
          8,
          9,
          10,
          11,
          12,
          13,
          14,
          15,
          16,
          17,
          18,
          19,
          20,
          21,
          22,
          23,
          24,
          25,
          26,
          27,
          28,
          30
         ],
         "y": [
          0,
          7.216494845360824,
          8.60215053763441,
          8.181818181818182,
          7.2727272727272725,
          8.823529411764707,
          10.309278350515463,
          10.483870967741936,
          7.6923076923076925,
          12.307692307692308,
          5.263157894736842,
          6.25,
          10.81081081081081,
          10,
          7.4074074074074066,
          6.0606060606060606,
          8.333333333333332,
          5,
          12,
          18.75,
          21.428571428571427,
          22.22222222222222,
          36.36363636363637,
          6.666666666666667,
          12.5,
          27.27272727272727,
          21.428571428571427,
          0,
          12.5,
          0,
          0,
          0
         ]
        },
        {
         "hoverinfo": "skip",
         "legendgroup": "Prone",
         "legendgrouptitle": {
          "text": "fit"
         },
         "line": {
          "color": "darkviolet",
          "dash": "solid"
         },
         "mode": "lines",
         "showlegend": false,
         "type": "scatter",
         "unselected": {
          "marker": {
           "opacity": 0
          }
         },
         "x": [
          0.125,
          0.25,
          0.5,
          1,
          2,
          3,
          4,
          5,
          6,
          7,
          8,
          9,
          10,
          11,
          12,
          13,
          14,
          15,
          16,
          17,
          18,
          19,
          20,
          21,
          22,
          23,
          24,
          25,
          26,
          27,
          28,
          30
         ],
         "y": [
          8.492019667298703,
          8.50917327720436,
          8.543480497015675,
          8.612094936638309,
          8.749323815883574,
          8.88655269512884,
          9.023781574374105,
          9.161010453619369,
          9.298239332864634,
          9.4354682121099,
          9.572697091355165,
          9.70992597060043,
          9.847154849845696,
          9.984383729090961,
          10.121612608336225,
          10.25884148758149,
          10.396070366826756,
          10.533299246072021,
          10.670528125317286,
          10.807757004562552,
          10.944985883807817,
          11.08221476305308,
          11.219443642298348,
          11.356672521543612,
          11.493901400788877,
          11.631130280034142,
          11.768359159279408,
          11.905588038524673,
          12.042816917769938,
          12.180045797015204,
          12.317274676260467,
          12.591732434750998
         ]
        },
        {
         "hovertemplate": "<b>CR:</b> %{x}<br><b>Condition:</b> Restrained<br><b>Immune:</b> %{y:.0f}% %{text}<extra></extra>",
         "legendgroup": "Restrained",
         "line": {
          "shape": "spline"
         },
         "marker": {
          "color": "dodgerblue",
          "size": 4
         },
         "mode": "markers",
         "name": "Restrained",
         "showlegend": true,
         "text": [
          "(0 out of 50)",
          "(3 out of 97)",
          "(3 out of 93)",
          "(6 out of 110)",
          "(7 out of 165)",
          "(7 out of 136)",
          "(7 out of 97)",
          "(7 out of 124)",
          "(5 out of 65)",
          "(2 out of 65)",
          "(2 out of 76)",
          "(2 out of 48)",
          "(0 out of 37)",
          "(1 out of 40)",
          "(3 out of 27)",
          "(0 out of 33)",
          "(0 out of 24)",
          "(0 out of 20)",
          "(3 out of 25)",
          "(1 out of 16)",
          "(2 out of 14)",
          "(2 out of 9)",
          "(2 out of 11)",
          "(0 out of 15)",
          "(1 out of 16)",
          "(4 out of 22)",
          "(1 out of 14)",
          "(0 out of 9)",
          "(1 out of 8)",
          "(0 out of 1)",
          "(0 out of 3)",
          "(0 out of 4)"
         ],
         "type": "scatter",
         "unselected": {
          "marker": {
           "opacity": 0
          }
         },
         "x": [
          0.125,
          0.25,
          0.5,
          1,
          2,
          3,
          4,
          5,
          6,
          7,
          8,
          9,
          10,
          11,
          12,
          13,
          14,
          15,
          16,
          17,
          18,
          19,
          20,
          21,
          22,
          23,
          24,
          25,
          26,
          27,
          28,
          30
         ],
         "y": [
          0,
          3.0927835051546393,
          3.225806451612903,
          5.454545454545454,
          4.242424242424243,
          5.147058823529411,
          7.216494845360824,
          5.64516129032258,
          7.6923076923076925,
          3.076923076923077,
          2.631578947368421,
          4.166666666666666,
          0,
          2.5,
          11.11111111111111,
          0,
          0,
          0,
          12,
          6.25,
          14.285714285714285,
          22.22222222222222,
          18.181818181818183,
          0,
          6.25,
          18.181818181818183,
          7.142857142857142,
          0,
          12.5,
          0,
          0,
          0
         ]
        },
        {
         "hoverinfo": "skip",
         "legendgroup": "Restrained",
         "legendgrouptitle": {
          "text": "fit"
         },
         "line": {
          "color": "dodgerblue",
          "dash": "solid"
         },
         "mode": "lines",
         "showlegend": false,
         "type": "scatter",
         "unselected": {
          "marker": {
           "opacity": 0
          }
         },
         "x": [
          0.125,
          0.25,
          0.5,
          1,
          2,
          3,
          4,
          5,
          6,
          7,
          8,
          9,
          10,
          11,
          12,
          13,
          14,
          15,
          16,
          17,
          18,
          19,
          20,
          21,
          22,
          23,
          24,
          25,
          26,
          27,
          28,
          30
         ],
         "y": [
          4.2567693988150745,
          4.2700528730742935,
          4.2966198215927305,
          4.349753718629606,
          4.456021512703356,
          4.562289306777107,
          4.668557100850856,
          4.774824894924607,
          4.881092688998358,
          4.987360483072107,
          5.093628277145858,
          5.199896071219608,
          5.3061638652933585,
          5.412431659367108,
          5.518699453440859,
          5.6249672475146095,
          5.731235041588359,
          5.83750283566211,
          5.943770629735861,
          6.05003842380961,
          6.156306217883361,
          6.262574011957112,
          6.368841806030861,
          6.475109600104611,
          6.581377394178362,
          6.687645188252112,
          6.793912982325862,
          6.900180776399613,
          7.0064485704733634,
          7.112716364547113,
          7.218984158620863,
          7.431519746768364
         ]
        },
        {
         "hovertemplate": "<b>CR:</b> %{x}<br><b>Condition:</b> Stunned<br><b>Immune:</b> %{y:.0f}% %{text}<extra></extra>",
         "legendgroup": "Stunned",
         "line": {
          "shape": "spline"
         },
         "marker": {
          "color": "brown",
          "size": 4
         },
         "mode": "markers",
         "name": "Stunned",
         "showlegend": true,
         "text": [
          "(0 out of 50)",
          "(3 out of 97)",
          "(1 out of 93)",
          "(2 out of 110)",
          "(6 out of 165)",
          "(3 out of 136)",
          "(1 out of 97)",
          "(2 out of 124)",
          "(4 out of 65)",
          "(1 out of 65)",
          "(0 out of 76)",
          "(1 out of 48)",
          "(1 out of 37)",
          "(2 out of 40)",
          "(1 out of 27)",
          "(1 out of 33)",
          "(0 out of 24)",
          "(1 out of 20)",
          "(3 out of 25)",
          "(0 out of 16)",
          "(4 out of 14)",
          "(0 out of 9)",
          "(2 out of 11)",
          "(2 out of 15)",
          "(2 out of 16)",
          "(5 out of 22)",
          "(1 out of 14)",
          "(1 out of 9)",
          "(0 out of 8)",
          "(0 out of 1)",
          "(1 out of 3)",
          "(3 out of 4)"
         ],
         "type": "scatter",
         "unselected": {
          "marker": {
           "opacity": 0
          }
         },
         "x": [
          0.125,
          0.25,
          0.5,
          1,
          2,
          3,
          4,
          5,
          6,
          7,
          8,
          9,
          10,
          11,
          12,
          13,
          14,
          15,
          16,
          17,
          18,
          19,
          20,
          21,
          22,
          23,
          24,
          25,
          26,
          27,
          28,
          30
         ],
         "y": [
          0,
          3.0927835051546393,
          1.0752688172043012,
          1.8181818181818181,
          3.6363636363636362,
          2.2058823529411766,
          1.0309278350515463,
          1.6129032258064515,
          6.153846153846154,
          1.5384615384615385,
          0,
          2.083333333333333,
          2.7027027027027026,
          5,
          3.7037037037037033,
          3.0303030303030303,
          0,
          5,
          12,
          0,
          28.57142857142857,
          0,
          18.181818181818183,
          13.333333333333334,
          12.5,
          22.727272727272727,
          7.142857142857142,
          11.11111111111111,
          0,
          0,
          33.33333333333333,
          75
         ]
        },
        {
         "hoverinfo": "skip",
         "legendgroup": "Stunned",
         "legendgrouptitle": {
          "text": "fit"
         },
         "line": {
          "color": "brown",
          "dash": "solid"
         },
         "mode": "lines",
         "showlegend": false,
         "type": "scatter",
         "unselected": {
          "marker": {
           "opacity": 0
          }
         },
         "x": [
          0.125,
          0.25,
          0.5,
          1,
          2,
          3,
          4,
          5,
          6,
          7,
          8,
          9,
          10,
          11,
          12,
          13,
          14,
          15,
          16,
          17,
          18,
          19,
          20,
          21,
          22,
          23,
          24,
          25,
          26,
          27,
          28,
          30
         ],
         "y": [
          -3.20419744316202,
          -3.094431305640971,
          -2.874899030598873,
          -2.4358344805146763,
          -1.557705380346283,
          -0.6795762801778897,
          0.19855281999050334,
          1.0766819201588969,
          1.95481102032729,
          2.832940120495683,
          3.711069220664076,
          4.58919832083247,
          5.4673274210008636,
          6.345456521169256,
          7.22358562133765,
          8.101714721506042,
          8.979843821674436,
          9.857972921842828,
          10.736102022011222,
          11.614231122179616,
          12.492360222348008,
          13.370489322516402,
          14.248618422684796,
          15.126747522853186,
          16.00487662302158,
          16.883005723189974,
          17.76113482335837,
          18.639263923526762,
          19.517393023695153,
          20.395522123863547,
          21.27365122403194,
          23.029909424368725
         ]
        },
        {
         "hovertemplate": "<b>CR:</b> %{x}<br><b>Condition:</b> Unconscious<br><b>Immune:</b> %{y:.0f}% %{text}<extra></extra>",
         "legendgroup": "Unconscious",
         "line": {
          "shape": "spline"
         },
         "marker": {
          "color": "darkgreen",
          "size": 4
         },
         "mode": "markers",
         "name": "Unconscious",
         "showlegend": true,
         "text": [
          "(0 out of 50)",
          "(1 out of 97)",
          "(1 out of 93)",
          "(3 out of 110)",
          "(2 out of 165)",
          "(3 out of 136)",
          "(3 out of 97)",
          "(3 out of 124)",
          "(2 out of 65)",
          "(1 out of 65)",
          "(2 out of 76)",
          "(0 out of 48)",
          "(0 out of 37)",
          "(1 out of 40)",
          "(1 out of 27)",
          "(0 out of 33)",
          "(0 out of 24)",
          "(1 out of 20)",
          "(1 out of 25)",
          "(0 out of 16)",
          "(0 out of 14)",
          "(0 out of 9)",
          "(0 out of 11)",
          "(0 out of 15)",
          "(0 out of 16)",
          "(3 out of 22)",
          "(1 out of 14)",
          "(1 out of 9)",
          "(0 out of 8)",
          "(0 out of 1)",
          "(0 out of 3)",
          "(0 out of 4)"
         ],
         "type": "scatter",
         "unselected": {
          "marker": {
           "opacity": 0
          }
         },
         "x": [
          0.125,
          0.25,
          0.5,
          1,
          2,
          3,
          4,
          5,
          6,
          7,
          8,
          9,
          10,
          11,
          12,
          13,
          14,
          15,
          16,
          17,
          18,
          19,
          20,
          21,
          22,
          23,
          24,
          25,
          26,
          27,
          28,
          30
         ],
         "y": [
          0,
          1.0309278350515463,
          1.0752688172043012,
          2.727272727272727,
          1.2121212121212122,
          2.2058823529411766,
          3.0927835051546393,
          2.4193548387096775,
          3.076923076923077,
          1.5384615384615385,
          2.631578947368421,
          0,
          0,
          2.5,
          3.7037037037037033,
          0,
          0,
          5,
          4,
          0,
          0,
          0,
          0,
          0,
          0,
          13.636363636363635,
          7.142857142857142,
          11.11111111111111,
          0,
          0,
          0,
          0
         ]
        },
        {
         "hoverinfo": "skip",
         "legendgroup": "Unconscious",
         "legendgrouptitle": {
          "text": "fit"
         },
         "line": {
          "color": "darkgreen",
          "dash": "solid"
         },
         "mode": "lines",
         "showlegend": false,
         "type": "scatter",
         "unselected": {
          "marker": {
           "opacity": 0
          }
         },
         "x": [
          0.125,
          0.25,
          0.5,
          1,
          2,
          3,
          4,
          5,
          6,
          7,
          8,
          9,
          10,
          11,
          12,
          13,
          14,
          15,
          16,
          17,
          18,
          19,
          20,
          21,
          22,
          23,
          24,
          25,
          26,
          27,
          28,
          30
         ],
         "y": [
          1.4579386471784808,
          1.464132864254869,
          1.4765212984076455,
          1.5012981667131986,
          1.5508519033243044,
          1.6004056399354105,
          1.6499593765465166,
          1.6995131131576227,
          1.7490668497687287,
          1.7986205863798346,
          1.8481743229909406,
          1.8977280596020467,
          1.9472817962131526,
          1.9968355328242586,
          2.0463892694353647,
          2.095943006046471,
          2.145496742657577,
          2.1950504792686827,
          2.2446042158797885,
          2.294157952490895,
          2.3437116891020007,
          2.393265425713107,
          2.442819162324213,
          2.4923728989353187,
          2.5419266355464245,
          2.591480372157531,
          2.641034108768637,
          2.690587845379743,
          2.740141581990849,
          2.7896953186019546,
          2.839249055213061,
          2.938356528435273
         ]
        }
       ],
       "layout": {
        "font": {
         "size": 10
        },
        "legend": {
         "font": {
          "size": 10
         },
         "orientation": "h",
         "tracegroupgap": 0,
         "x": 0.01,
         "xanchor": "left",
         "y": 1.04,
         "yanchor": "bottom"
        },
        "template": {
         "data": {
          "bar": [
           {
            "error_x": {
             "color": "#2a3f5f"
            },
            "error_y": {
             "color": "#2a3f5f"
            },
            "marker": {
             "line": {
              "color": "#E5ECF6",
              "width": 0.5
             },
             "pattern": {
              "fillmode": "overlay",
              "size": 10,
              "solidity": 0.2
             }
            },
            "type": "bar"
           }
          ],
          "barpolar": [
           {
            "marker": {
             "line": {
              "color": "#E5ECF6",
              "width": 0.5
             },
             "pattern": {
              "fillmode": "overlay",
              "size": 10,
              "solidity": 0.2
             }
            },
            "type": "barpolar"
           }
          ],
          "carpet": [
           {
            "aaxis": {
             "endlinecolor": "#2a3f5f",
             "gridcolor": "white",
             "linecolor": "white",
             "minorgridcolor": "white",
             "startlinecolor": "#2a3f5f"
            },
            "baxis": {
             "endlinecolor": "#2a3f5f",
             "gridcolor": "white",
             "linecolor": "white",
             "minorgridcolor": "white",
             "startlinecolor": "#2a3f5f"
            },
            "type": "carpet"
           }
          ],
          "choropleth": [
           {
            "colorbar": {
             "outlinewidth": 0,
             "ticks": ""
            },
            "type": "choropleth"
           }
          ],
          "contour": [
           {
            "colorbar": {
             "outlinewidth": 0,
             "ticks": ""
            },
            "colorscale": [
             [
              0,
              "#0d0887"
             ],
             [
              0.1111111111111111,
              "#46039f"
             ],
             [
              0.2222222222222222,
              "#7201a8"
             ],
             [
              0.3333333333333333,
              "#9c179e"
             ],
             [
              0.4444444444444444,
              "#bd3786"
             ],
             [
              0.5555555555555556,
              "#d8576b"
             ],
             [
              0.6666666666666666,
              "#ed7953"
             ],
             [
              0.7777777777777778,
              "#fb9f3a"
             ],
             [
              0.8888888888888888,
              "#fdca26"
             ],
             [
              1,
              "#f0f921"
             ]
            ],
            "type": "contour"
           }
          ],
          "contourcarpet": [
           {
            "colorbar": {
             "outlinewidth": 0,
             "ticks": ""
            },
            "type": "contourcarpet"
           }
          ],
          "heatmap": [
           {
            "colorbar": {
             "outlinewidth": 0,
             "ticks": ""
            },
            "colorscale": [
             [
              0,
              "#0d0887"
             ],
             [
              0.1111111111111111,
              "#46039f"
             ],
             [
              0.2222222222222222,
              "#7201a8"
             ],
             [
              0.3333333333333333,
              "#9c179e"
             ],
             [
              0.4444444444444444,
              "#bd3786"
             ],
             [
              0.5555555555555556,
              "#d8576b"
             ],
             [
              0.6666666666666666,
              "#ed7953"
             ],
             [
              0.7777777777777778,
              "#fb9f3a"
             ],
             [
              0.8888888888888888,
              "#fdca26"
             ],
             [
              1,
              "#f0f921"
             ]
            ],
            "type": "heatmap"
           }
          ],
          "heatmapgl": [
           {
            "colorbar": {
             "outlinewidth": 0,
             "ticks": ""
            },
            "colorscale": [
             [
              0,
              "#0d0887"
             ],
             [
              0.1111111111111111,
              "#46039f"
             ],
             [
              0.2222222222222222,
              "#7201a8"
             ],
             [
              0.3333333333333333,
              "#9c179e"
             ],
             [
              0.4444444444444444,
              "#bd3786"
             ],
             [
              0.5555555555555556,
              "#d8576b"
             ],
             [
              0.6666666666666666,
              "#ed7953"
             ],
             [
              0.7777777777777778,
              "#fb9f3a"
             ],
             [
              0.8888888888888888,
              "#fdca26"
             ],
             [
              1,
              "#f0f921"
             ]
            ],
            "type": "heatmapgl"
           }
          ],
          "histogram": [
           {
            "marker": {
             "pattern": {
              "fillmode": "overlay",
              "size": 10,
              "solidity": 0.2
             }
            },
            "type": "histogram"
           }
          ],
          "histogram2d": [
           {
            "colorbar": {
             "outlinewidth": 0,
             "ticks": ""
            },
            "colorscale": [
             [
              0,
              "#0d0887"
             ],
             [
              0.1111111111111111,
              "#46039f"
             ],
             [
              0.2222222222222222,
              "#7201a8"
             ],
             [
              0.3333333333333333,
              "#9c179e"
             ],
             [
              0.4444444444444444,
              "#bd3786"
             ],
             [
              0.5555555555555556,
              "#d8576b"
             ],
             [
              0.6666666666666666,
              "#ed7953"
             ],
             [
              0.7777777777777778,
              "#fb9f3a"
             ],
             [
              0.8888888888888888,
              "#fdca26"
             ],
             [
              1,
              "#f0f921"
             ]
            ],
            "type": "histogram2d"
           }
          ],
          "histogram2dcontour": [
           {
            "colorbar": {
             "outlinewidth": 0,
             "ticks": ""
            },
            "colorscale": [
             [
              0,
              "#0d0887"
             ],
             [
              0.1111111111111111,
              "#46039f"
             ],
             [
              0.2222222222222222,
              "#7201a8"
             ],
             [
              0.3333333333333333,
              "#9c179e"
             ],
             [
              0.4444444444444444,
              "#bd3786"
             ],
             [
              0.5555555555555556,
              "#d8576b"
             ],
             [
              0.6666666666666666,
              "#ed7953"
             ],
             [
              0.7777777777777778,
              "#fb9f3a"
             ],
             [
              0.8888888888888888,
              "#fdca26"
             ],
             [
              1,
              "#f0f921"
             ]
            ],
            "type": "histogram2dcontour"
           }
          ],
          "mesh3d": [
           {
            "colorbar": {
             "outlinewidth": 0,
             "ticks": ""
            },
            "type": "mesh3d"
           }
          ],
          "parcoords": [
           {
            "line": {
             "colorbar": {
              "outlinewidth": 0,
              "ticks": ""
             }
            },
            "type": "parcoords"
           }
          ],
          "pie": [
           {
            "automargin": true,
            "type": "pie"
           }
          ],
          "scatter": [
           {
            "fillpattern": {
             "fillmode": "overlay",
             "size": 10,
             "solidity": 0.2
            },
            "type": "scatter"
           }
          ],
          "scatter3d": [
           {
            "line": {
             "colorbar": {
              "outlinewidth": 0,
              "ticks": ""
             }
            },
            "marker": {
             "colorbar": {
              "outlinewidth": 0,
              "ticks": ""
             }
            },
            "type": "scatter3d"
           }
          ],
          "scattercarpet": [
           {
            "marker": {
             "colorbar": {
              "outlinewidth": 0,
              "ticks": ""
             }
            },
            "type": "scattercarpet"
           }
          ],
          "scattergeo": [
           {
            "marker": {
             "colorbar": {
              "outlinewidth": 0,
              "ticks": ""
             }
            },
            "type": "scattergeo"
           }
          ],
          "scattergl": [
           {
            "marker": {
             "colorbar": {
              "outlinewidth": 0,
              "ticks": ""
             }
            },
            "type": "scattergl"
           }
          ],
          "scattermapbox": [
           {
            "marker": {
             "colorbar": {
              "outlinewidth": 0,
              "ticks": ""
             }
            },
            "type": "scattermapbox"
           }
          ],
          "scatterpolar": [
           {
            "marker": {
             "colorbar": {
              "outlinewidth": 0,
              "ticks": ""
             }
            },
            "type": "scatterpolar"
           }
          ],
          "scatterpolargl": [
           {
            "marker": {
             "colorbar": {
              "outlinewidth": 0,
              "ticks": ""
             }
            },
            "type": "scatterpolargl"
           }
          ],
          "scatterternary": [
           {
            "marker": {
             "colorbar": {
              "outlinewidth": 0,
              "ticks": ""
             }
            },
            "type": "scatterternary"
           }
          ],
          "surface": [
           {
            "colorbar": {
             "outlinewidth": 0,
             "ticks": ""
            },
            "colorscale": [
             [
              0,
              "#0d0887"
             ],
             [
              0.1111111111111111,
              "#46039f"
             ],
             [
              0.2222222222222222,
              "#7201a8"
             ],
             [
              0.3333333333333333,
              "#9c179e"
             ],
             [
              0.4444444444444444,
              "#bd3786"
             ],
             [
              0.5555555555555556,
              "#d8576b"
             ],
             [
              0.6666666666666666,
              "#ed7953"
             ],
             [
              0.7777777777777778,
              "#fb9f3a"
             ],
             [
              0.8888888888888888,
              "#fdca26"
             ],
             [
              1,
              "#f0f921"
             ]
            ],
            "type": "surface"
           }
          ],
          "table": [
           {
            "cells": {
             "fill": {
              "color": "#EBF0F8"
             },
             "line": {
              "color": "white"
             }
            },
            "header": {
             "fill": {
              "color": "#C8D4E3"
             },
             "line": {
              "color": "white"
             }
            },
            "type": "table"
           }
          ]
         },
         "layout": {
          "autosize": true,
          "font": {
           "family": "sans-serif",
           "size": 14
          },
          "hovermode": "closest",
          "margin": {
           "b": 40,
           "l": 50,
           "pad": 4,
           "r": 25,
           "t": 20
          },
          "template": {
           "data": {
            "bar": [
             {
              "error_x": {
               "color": "#2a3f5f"
              },
              "error_y": {
               "color": "#2a3f5f"
              },
              "marker": {
               "line": {
                "color": "white",
                "width": 0.5
               },
               "pattern": {
                "fillmode": "overlay",
                "size": 10,
                "solidity": 0.2
               }
              },
              "type": "bar"
             }
            ],
            "barpolar": [
             {
              "marker": {
               "line": {
                "color": "white",
                "width": 0.5
               },
               "pattern": {
                "fillmode": "overlay",
                "size": 10,
                "solidity": 0.2
               }
              },
              "type": "barpolar"
             }
            ],
            "carpet": [
             {
              "aaxis": {
               "endlinecolor": "#2a3f5f",
               "gridcolor": "#C8D4E3",
               "linecolor": "#C8D4E3",
               "minorgridcolor": "#C8D4E3",
               "startlinecolor": "#2a3f5f"
              },
              "baxis": {
               "endlinecolor": "#2a3f5f",
               "gridcolor": "#C8D4E3",
               "linecolor": "#C8D4E3",
               "minorgridcolor": "#C8D4E3",
               "startlinecolor": "#2a3f5f"
              },
              "type": "carpet"
             }
            ],
            "choropleth": [
             {
              "colorbar": {
               "outlinewidth": 0,
               "ticks": ""
              },
              "type": "choropleth"
             }
            ],
            "contour": [
             {
              "colorbar": {
               "outlinewidth": 0,
               "ticks": ""
              },
              "colorscale": [
               [
                0,
                "#0d0887"
               ],
               [
                0.1111111111111111,
                "#46039f"
               ],
               [
                0.2222222222222222,
                "#7201a8"
               ],
               [
                0.3333333333333333,
                "#9c179e"
               ],
               [
                0.4444444444444444,
                "#bd3786"
               ],
               [
                0.5555555555555556,
                "#d8576b"
               ],
               [
                0.6666666666666666,
                "#ed7953"
               ],
               [
                0.7777777777777778,
                "#fb9f3a"
               ],
               [
                0.8888888888888888,
                "#fdca26"
               ],
               [
                1,
                "#f0f921"
               ]
              ],
              "type": "contour"
             }
            ],
            "contourcarpet": [
             {
              "colorbar": {
               "outlinewidth": 0,
               "ticks": ""
              },
              "type": "contourcarpet"
             }
            ],
            "heatmap": [
             {
              "colorbar": {
               "outlinewidth": 0,
               "ticks": ""
              },
              "colorscale": [
               [
                0,
                "#0d0887"
               ],
               [
                0.1111111111111111,
                "#46039f"
               ],
               [
                0.2222222222222222,
                "#7201a8"
               ],
               [
                0.3333333333333333,
                "#9c179e"
               ],
               [
                0.4444444444444444,
                "#bd3786"
               ],
               [
                0.5555555555555556,
                "#d8576b"
               ],
               [
                0.6666666666666666,
                "#ed7953"
               ],
               [
                0.7777777777777778,
                "#fb9f3a"
               ],
               [
                0.8888888888888888,
                "#fdca26"
               ],
               [
                1,
                "#f0f921"
               ]
              ],
              "type": "heatmap"
             }
            ],
            "heatmapgl": [
             {
              "colorbar": {
               "outlinewidth": 0,
               "ticks": ""
              },
              "colorscale": [
               [
                0,
                "#0d0887"
               ],
               [
                0.1111111111111111,
                "#46039f"
               ],
               [
                0.2222222222222222,
                "#7201a8"
               ],
               [
                0.3333333333333333,
                "#9c179e"
               ],
               [
                0.4444444444444444,
                "#bd3786"
               ],
               [
                0.5555555555555556,
                "#d8576b"
               ],
               [
                0.6666666666666666,
                "#ed7953"
               ],
               [
                0.7777777777777778,
                "#fb9f3a"
               ],
               [
                0.8888888888888888,
                "#fdca26"
               ],
               [
                1,
                "#f0f921"
               ]
              ],
              "type": "heatmapgl"
             }
            ],
            "histogram": [
             {
              "marker": {
               "pattern": {
                "fillmode": "overlay",
                "size": 10,
                "solidity": 0.2
               }
              },
              "type": "histogram"
             }
            ],
            "histogram2d": [
             {
              "colorbar": {
               "outlinewidth": 0,
               "ticks": ""
              },
              "colorscale": [
               [
                0,
                "#0d0887"
               ],
               [
                0.1111111111111111,
                "#46039f"
               ],
               [
                0.2222222222222222,
                "#7201a8"
               ],
               [
                0.3333333333333333,
                "#9c179e"
               ],
               [
                0.4444444444444444,
                "#bd3786"
               ],
               [
                0.5555555555555556,
                "#d8576b"
               ],
               [
                0.6666666666666666,
                "#ed7953"
               ],
               [
                0.7777777777777778,
                "#fb9f3a"
               ],
               [
                0.8888888888888888,
                "#fdca26"
               ],
               [
                1,
                "#f0f921"
               ]
              ],
              "type": "histogram2d"
             }
            ],
            "histogram2dcontour": [
             {
              "colorbar": {
               "outlinewidth": 0,
               "ticks": ""
              },
              "colorscale": [
               [
                0,
                "#0d0887"
               ],
               [
                0.1111111111111111,
                "#46039f"
               ],
               [
                0.2222222222222222,
                "#7201a8"
               ],
               [
                0.3333333333333333,
                "#9c179e"
               ],
               [
                0.4444444444444444,
                "#bd3786"
               ],
               [
                0.5555555555555556,
                "#d8576b"
               ],
               [
                0.6666666666666666,
                "#ed7953"
               ],
               [
                0.7777777777777778,
                "#fb9f3a"
               ],
               [
                0.8888888888888888,
                "#fdca26"
               ],
               [
                1,
                "#f0f921"
               ]
              ],
              "type": "histogram2dcontour"
             }
            ],
            "mesh3d": [
             {
              "colorbar": {
               "outlinewidth": 0,
               "ticks": ""
              },
              "type": "mesh3d"
             }
            ],
            "parcoords": [
             {
              "line": {
               "colorbar": {
                "outlinewidth": 0,
                "ticks": ""
               }
              },
              "type": "parcoords"
             }
            ],
            "pie": [
             {
              "automargin": true,
              "type": "pie"
             }
            ],
            "scatter": [
             {
              "fillpattern": {
               "fillmode": "overlay",
               "size": 10,
               "solidity": 0.2
              },
              "type": "scatter"
             }
            ],
            "scatter3d": [
             {
              "line": {
               "colorbar": {
                "outlinewidth": 0,
                "ticks": ""
               }
              },
              "marker": {
               "colorbar": {
                "outlinewidth": 0,
                "ticks": ""
               }
              },
              "type": "scatter3d"
             }
            ],
            "scattercarpet": [
             {
              "marker": {
               "colorbar": {
                "outlinewidth": 0,
                "ticks": ""
               }
              },
              "type": "scattercarpet"
             }
            ],
            "scattergeo": [
             {
              "marker": {
               "colorbar": {
                "outlinewidth": 0,
                "ticks": ""
               }
              },
              "type": "scattergeo"
             }
            ],
            "scattergl": [
             {
              "marker": {
               "colorbar": {
                "outlinewidth": 0,
                "ticks": ""
               }
              },
              "type": "scattergl"
             }
            ],
            "scattermapbox": [
             {
              "marker": {
               "colorbar": {
                "outlinewidth": 0,
                "ticks": ""
               }
              },
              "type": "scattermapbox"
             }
            ],
            "scatterpolar": [
             {
              "marker": {
               "colorbar": {
                "outlinewidth": 0,
                "ticks": ""
               }
              },
              "type": "scatterpolar"
             }
            ],
            "scatterpolargl": [
             {
              "marker": {
               "colorbar": {
                "outlinewidth": 0,
                "ticks": ""
               }
              },
              "type": "scatterpolargl"
             }
            ],
            "scatterternary": [
             {
              "marker": {
               "colorbar": {
                "outlinewidth": 0,
                "ticks": ""
               }
              },
              "type": "scatterternary"
             }
            ],
            "surface": [
             {
              "colorbar": {
               "outlinewidth": 0,
               "ticks": ""
              },
              "colorscale": [
               [
                0,
                "#0d0887"
               ],
               [
                0.1111111111111111,
                "#46039f"
               ],
               [
                0.2222222222222222,
                "#7201a8"
               ],
               [
                0.3333333333333333,
                "#9c179e"
               ],
               [
                0.4444444444444444,
                "#bd3786"
               ],
               [
                0.5555555555555556,
                "#d8576b"
               ],
               [
                0.6666666666666666,
                "#ed7953"
               ],
               [
                0.7777777777777778,
                "#fb9f3a"
               ],
               [
                0.8888888888888888,
                "#fdca26"
               ],
               [
                1,
                "#f0f921"
               ]
              ],
              "type": "surface"
             }
            ],
            "table": [
             {
              "cells": {
               "fill": {
                "color": "#EBF0F8"
               },
               "line": {
                "color": "white"
               }
              },
              "header": {
               "fill": {
                "color": "#C8D4E3"
               },
               "line": {
                "color": "white"
               }
              },
              "type": "table"
             }
            ]
           },
           "layout": {
            "annotationdefaults": {
             "arrowcolor": "#2a3f5f",
             "arrowhead": 0,
             "arrowwidth": 1
            },
            "autotypenumbers": "strict",
            "coloraxis": {
             "colorbar": {
              "outlinewidth": 0,
              "ticks": ""
             }
            },
            "colorscale": {
             "diverging": [
              [
               0,
               "#8e0152"
              ],
              [
               0.1,
               "#c51b7d"
              ],
              [
               0.2,
               "#de77ae"
              ],
              [
               0.3,
               "#f1b6da"
              ],
              [
               0.4,
               "#fde0ef"
              ],
              [
               0.5,
               "#f7f7f7"
              ],
              [
               0.6,
               "#e6f5d0"
              ],
              [
               0.7,
               "#b8e186"
              ],
              [
               0.8,
               "#7fbc41"
              ],
              [
               0.9,
               "#4d9221"
              ],
              [
               1,
               "#276419"
              ]
             ],
             "sequential": [
              [
               0,
               "#0d0887"
              ],
              [
               0.1111111111111111,
               "#46039f"
              ],
              [
               0.2222222222222222,
               "#7201a8"
              ],
              [
               0.3333333333333333,
               "#9c179e"
              ],
              [
               0.4444444444444444,
               "#bd3786"
              ],
              [
               0.5555555555555556,
               "#d8576b"
              ],
              [
               0.6666666666666666,
               "#ed7953"
              ],
              [
               0.7777777777777778,
               "#fb9f3a"
              ],
              [
               0.8888888888888888,
               "#fdca26"
              ],
              [
               1,
               "#f0f921"
              ]
             ],
             "sequentialminus": [
              [
               0,
               "#0d0887"
              ],
              [
               0.1111111111111111,
               "#46039f"
              ],
              [
               0.2222222222222222,
               "#7201a8"
              ],
              [
               0.3333333333333333,
               "#9c179e"
              ],
              [
               0.4444444444444444,
               "#bd3786"
              ],
              [
               0.5555555555555556,
               "#d8576b"
              ],
              [
               0.6666666666666666,
               "#ed7953"
              ],
              [
               0.7777777777777778,
               "#fb9f3a"
              ],
              [
               0.8888888888888888,
               "#fdca26"
              ],
              [
               1,
               "#f0f921"
              ]
             ]
            },
            "colorway": [
             "#636efa",
             "#EF553B",
             "#00cc96",
             "#ab63fa",
             "#FFA15A",
             "#19d3f3",
             "#FF6692",
             "#B6E880",
             "#FF97FF",
             "#FECB52"
            ],
            "font": {
             "color": "#2a3f5f"
            },
            "geo": {
             "bgcolor": "white",
             "lakecolor": "white",
             "landcolor": "white",
             "showlakes": true,
             "showland": true,
             "subunitcolor": "#C8D4E3"
            },
            "hoverlabel": {
             "align": "left"
            },
            "hovermode": "closest",
            "mapbox": {
             "style": "light"
            },
            "paper_bgcolor": "white",
            "plot_bgcolor": "white",
            "polar": {
             "angularaxis": {
              "gridcolor": "#EBF0F8",
              "linecolor": "#EBF0F8",
              "ticks": ""
             },
             "bgcolor": "white",
             "radialaxis": {
              "gridcolor": "#EBF0F8",
              "linecolor": "#EBF0F8",
              "ticks": ""
             }
            },
            "scene": {
             "xaxis": {
              "backgroundcolor": "white",
              "gridcolor": "#DFE8F3",
              "gridwidth": 2,
              "linecolor": "#EBF0F8",
              "showbackground": true,
              "ticks": "",
              "zerolinecolor": "#EBF0F8"
             },
             "yaxis": {
              "backgroundcolor": "white",
              "gridcolor": "#DFE8F3",
              "gridwidth": 2,
              "linecolor": "#EBF0F8",
              "showbackground": true,
              "ticks": "",
              "zerolinecolor": "#EBF0F8"
             },
             "zaxis": {
              "backgroundcolor": "white",
              "gridcolor": "#DFE8F3",
              "gridwidth": 2,
              "linecolor": "#EBF0F8",
              "showbackground": true,
              "ticks": "",
              "zerolinecolor": "#EBF0F8"
             }
            },
            "shapedefaults": {
             "line": {
              "color": "#2a3f5f"
             }
            },
            "ternary": {
             "aaxis": {
              "gridcolor": "#DFE8F3",
              "linecolor": "#A2B1C6",
              "ticks": ""
             },
             "baxis": {
              "gridcolor": "#DFE8F3",
              "linecolor": "#A2B1C6",
              "ticks": ""
             },
             "bgcolor": "white",
             "caxis": {
              "gridcolor": "#DFE8F3",
              "linecolor": "#A2B1C6",
              "ticks": ""
             }
            },
            "title": {
             "x": 0.05
            },
            "xaxis": {
             "automargin": true,
             "gridcolor": "#EBF0F8",
             "linecolor": "#EBF0F8",
             "ticks": "",
             "title": {
              "standoff": 15
             },
             "zerolinecolor": "#EBF0F8",
             "zerolinewidth": 2
            },
            "yaxis": {
             "automargin": true,
             "gridcolor": "#EBF0F8",
             "linecolor": "#EBF0F8",
             "ticks": "",
             "title": {
              "standoff": 15
             },
             "zerolinecolor": "#EBF0F8",
             "zerolinewidth": 2
            }
           }
          },
          "xaxis": {
           "automargin": true,
           "autorange": false,
           "fixedrange": true,
           "linecolor": "#444",
           "linewidth": 2,
           "minor": {
            "tickmode": "linear",
            "ticks": "outside"
           },
           "mirror": true,
           "showline": true,
           "tickmode": "linear",
           "ticks": "outside",
           "zeroline": false
          },
          "yaxis": {
           "automargin": true,
           "autorange": false,
           "fixedrange": true,
           "linecolor": "#444",
           "linewidth": 2,
           "minor": {
            "tickmode": "linear",
            "ticks": "outside"
           },
           "mirror": true,
           "showline": true,
           "tickmode": "linear",
           "ticks": "outside",
           "zeroline": false
          }
         }
        },
        "xaxis": {
         "dtick": 5,
         "minor": {
          "dtick": 1,
          "tick0": 0
         },
         "range": [
          0,
          30.2
         ],
         "tick0": 0,
         "title": {
          "text": "challenge rating"
         }
        },
        "yaxis": {
         "dtick": 20,
         "minor": {
          "dtick": 10,
          "tick0": 0
         },
         "range": [
          -5,
          105
         ],
         "tick0": 0,
         "title": {
          "text": "percent immune"
         }
        }
       }
      }
     },
     "metadata": {},
     "output_type": "display_data"
    }
   ],
   "source": [
    "# Plots the percent of monsters immune to each condition as a function of their CR.\n",
    "df1 = df0[df0['Category'].isin(['generic','legendary','unique']) & df0['CR'].between(1/8, 30)]\n",
    "dfG = df1.groupby('CR').mean().reset_index()\n",
    "\n",
    "conditions = CONDITIONS.copy()\n",
    "colors = CONDITION_COLORS.copy()\n",
    "i = conditions.index('Invisible')\n",
    "conditions.pop(i); colors.pop(i)\n",
    "i = conditions.index('Incapacitated')\n",
    "conditions.pop(i); colors.pop(i)\n",
    "\n",
    "fig = go.Figure()\n",
    "\n",
    "for condition, color in zip(conditions, colors):\n",
    "    # generate custom text\n",
    "    cr_totals = df1.groupby('CR').count()['Book'].to_list()\n",
    "    condition_totals = [int(x) for x in df1.groupby('CR').sum()[condition].to_list()]\n",
    "    custom_text = [f'({i} out of {t})' for i, t in zip(condition_totals, cr_totals)]\n",
    "\n",
    "    # plot data\n",
    "    fig.add_trace(go.Scatter(\n",
    "        x=dfG['CR'],\n",
    "        y=100*dfG[condition],\n",
    "        mode='markers', \n",
    "        #line=dict(color=color, dash='solid'),\n",
    "        #marker=dict(size=12, line=dict(width=1, color='Black')),\n",
    "        marker=dict(size=4, color=color),\n",
    "        line_shape='spline',\n",
    "        unselected=dict(marker=dict(opacity=0.0)),\n",
    "        showlegend=True,\n",
    "        name=condition,\n",
    "        legendgroup=condition,\n",
    "        text=custom_text,\n",
    "        hovertemplate=\n",
    "            '<b>CR:</b> %{x}<br>'+\n",
    "            '<b>Condition:</b> ' + condition + '<br>'+\n",
    "            '<b>Immune:</b> %{y:.0f}% %{text}'+\n",
    "            '<extra></extra>'\n",
    "    ))\n",
    "\n",
    "    # add fit line\n",
    "    coefs = np.polyfit(dfG['CR'], 100*dfG[condition], 1)\n",
    "    poly = np.poly1d(coefs)\n",
    "    fig.add_trace(go.Scatter(\n",
    "        x=dfG['CR'],\n",
    "        y=poly(dfG['CR']),\n",
    "        mode='lines', \n",
    "        line=dict(color=color, dash='solid'),\n",
    "        unselected=dict(marker=dict(opacity=0.0)),\n",
    "        showlegend=False,\n",
    "        legendgroup=condition,\n",
    "        legendgrouptitle_text='fit',\n",
    "        hoverinfo='skip',\n",
    "    ))\n",
    "\n",
    "# save large format figure\n",
    "fig.update_layout(\n",
    "    template=TFB_TEMPLATE,\n",
    "    xaxis=dict(\n",
    "        title_text='challenge rating',\n",
    "        range=[0.0, 30.2],\n",
    "        tick0=0, dtick=5,\n",
    "        minor=dict(tick0=0, dtick=1),\n",
    "    ),\n",
    "    yaxis=dict(\n",
    "        title_text='percent immune',\n",
    "        range=[-5, 115],\n",
    "        tick0=0, dtick=20,\n",
    "        minor=dict(tick0=0, dtick=10),\n",
    "    ),\n",
    "    legend=dict(\n",
    "        xanchor='left', yanchor='top',\n",
    "        x=0.01, y=0.99,\n",
    "        orientation='v',\n",
    "        tracegroupgap=0,\n",
    "    )\n",
    ")\n",
    "\n",
    "fig.show(config=TFB_CONFIG)\n",
    "if SAVEFIGS:\n",
    "    file_name = f'./fig-condition-immunity-prob-vs-cr-large.html'\n",
    "    fig.write_html(\n",
    "        file_name, \n",
    "        include_plotlyjs=False, \n",
    "        full_html=False, \n",
    "        config=TFB_CONFIG\n",
    "    )\n",
    "    # add style to figure\n",
    "    with open(file_name, 'r') as fin:\n",
    "        fig_soup = BeautifulSoup(fin, 'html.parser')\n",
    "\n",
    "    fig_soup.div['class'] = 'plotly-div-large'\n",
    "    fig_soup.div['style'] = 'width:700px; min-width:50%; max-width:100%'\n",
    "    with open(file_name, 'wb') as fout:\n",
    "        fout.write(fig_soup.prettify('utf-8'))\n",
    "    \n",
    "# save small format figure\n",
    "fig.update_layout(\n",
    "    template=TFB_TEMPLATE,\n",
    "    font=dict(size=10),\n",
    "    xaxis=dict(\n",
    "        title_text='challenge rating',\n",
    "        range=[0.0, 30.2],\n",
    "        tick0=0, dtick=5,\n",
    "        minor=dict(tick0=0, dtick=1),\n",
    "    ),\n",
    "    yaxis=dict(\n",
    "        title_text='percent immune',\n",
    "        range=[-5, 105],\n",
    "        tick0=0, dtick=20,\n",
    "        minor=dict(tick0=0, dtick=10),\n",
    "    ),\n",
    "    legend=dict(\n",
    "        xanchor='left', yanchor='bottom',\n",
    "        x=0.01, y=1.04,\n",
    "        orientation='h',\n",
    "        tracegroupgap=0,\n",
    "        font=dict(size=10),\n",
    "    ),\n",
    ")\n",
    "\n",
    "fig.show(config=TFB_CONFIG)\n",
    "if SAVEFIGS:\n",
    "    file_name = f'./fig-condition-immunity-prob-vs-cr-small.html'\n",
    "    fig.write_html(\n",
    "        file_name, \n",
    "        include_plotlyjs=False, \n",
    "        full_html=False, \n",
    "        config=TFB_CONFIG\n",
    "    )\n",
    "    # add style to figure\n",
    "    with open(file_name, 'r') as fin:\n",
    "        fig_soup = BeautifulSoup(fin, 'html.parser')\n",
    "\n",
    "    fig_soup.div['class'] = 'plotly-div-small'\n",
    "    fig_soup.div['style'] = 'width:700px; min-width:50%; max-width:100%; aspect-ratio: 600/550;'\n",
    "    with open(file_name, 'wb') as fout:\n",
    "        fout.write(fig_soup.prettify('utf-8'))"
   ]
  },
  {
   "cell_type": "code",
   "execution_count": 13,
   "metadata": {},
   "outputs": [
    {
     "data": {
      "application/vnd.plotly.v1+json": {
       "config": {
        "autosizable": true,
        "displayModeBar": "hover",
        "displaylogo": false,
        "modeBarButtonsToRemove": [
         "select2d",
         "lasso2d",
         "zoom2d",
         "zoomIn2d",
         "zoomOut2d",
         "pan2d",
         "autoScale2d",
         "hoverClosestCartesian",
         "hoverCompareCartesian",
         "toggleSpikelines",
         "resetScale2d"
        ],
        "plotlyServerURL": "https://plot.ly",
        "responsive": true,
        "showAxisDragHandles": false,
        "toImageButtonOptions": {
         "filename": "tfb-plot",
         "format": "png",
         "height": 450,
         "scale": 2,
         "width": 600
        }
       },
       "data": [
        {
         "hovertemplate": "CR %{x}<br>immunities %{y:.2f}<extra></extra>",
         "line": {
          "color": "black",
          "dash": "solid"
         },
         "mode": "lines+markers",
         "name": "All Conditions",
         "type": "scatter",
         "unselected": {
          "marker": {
           "opacity": 0
          }
         },
         "x": [
          0.125,
          0.25,
          0.5,
          1,
          2,
          3,
          4,
          5,
          6,
          7,
          8,
          9,
          10,
          11,
          12,
          13,
          14,
          15,
          16,
          17,
          18,
          19,
          20,
          21,
          22,
          23,
          24,
          25,
          26,
          27,
          28,
          30
         ],
         "y": [
          0.78,
          1.041237113402062,
          0.956989247311828,
          1.5,
          0.9757575757575757,
          1.0220588235294117,
          1.6288659793814433,
          1.435483870967742,
          1.6615384615384616,
          1.2923076923076924,
          1.2894736842105263,
          1.25,
          1.9189189189189189,
          1.975,
          2.3703703703703702,
          1.4545454545454546,
          1.8333333333333333,
          1.5,
          3.12,
          2.375,
          4.428571428571429,
          3.111111111111111,
          3.3636363636363638,
          2.8,
          3.3125,
          4.5,
          3.5,
          2.888888888888889,
          3.625,
          3,
          5,
          5.25
         ]
        }
       ],
       "layout": {
        "legend": {
         "orientation": "v",
         "x": 0.01,
         "xanchor": "left",
         "y": 0.99,
         "yanchor": "top"
        },
        "template": {
         "data": {
          "bar": [
           {
            "error_x": {
             "color": "#2a3f5f"
            },
            "error_y": {
             "color": "#2a3f5f"
            },
            "marker": {
             "line": {
              "color": "#E5ECF6",
              "width": 0.5
             },
             "pattern": {
              "fillmode": "overlay",
              "size": 10,
              "solidity": 0.2
             }
            },
            "type": "bar"
           }
          ],
          "barpolar": [
           {
            "marker": {
             "line": {
              "color": "#E5ECF6",
              "width": 0.5
             },
             "pattern": {
              "fillmode": "overlay",
              "size": 10,
              "solidity": 0.2
             }
            },
            "type": "barpolar"
           }
          ],
          "carpet": [
           {
            "aaxis": {
             "endlinecolor": "#2a3f5f",
             "gridcolor": "white",
             "linecolor": "white",
             "minorgridcolor": "white",
             "startlinecolor": "#2a3f5f"
            },
            "baxis": {
             "endlinecolor": "#2a3f5f",
             "gridcolor": "white",
             "linecolor": "white",
             "minorgridcolor": "white",
             "startlinecolor": "#2a3f5f"
            },
            "type": "carpet"
           }
          ],
          "choropleth": [
           {
            "colorbar": {
             "outlinewidth": 0,
             "ticks": ""
            },
            "type": "choropleth"
           }
          ],
          "contour": [
           {
            "colorbar": {
             "outlinewidth": 0,
             "ticks": ""
            },
            "colorscale": [
             [
              0,
              "#0d0887"
             ],
             [
              0.1111111111111111,
              "#46039f"
             ],
             [
              0.2222222222222222,
              "#7201a8"
             ],
             [
              0.3333333333333333,
              "#9c179e"
             ],
             [
              0.4444444444444444,
              "#bd3786"
             ],
             [
              0.5555555555555556,
              "#d8576b"
             ],
             [
              0.6666666666666666,
              "#ed7953"
             ],
             [
              0.7777777777777778,
              "#fb9f3a"
             ],
             [
              0.8888888888888888,
              "#fdca26"
             ],
             [
              1,
              "#f0f921"
             ]
            ],
            "type": "contour"
           }
          ],
          "contourcarpet": [
           {
            "colorbar": {
             "outlinewidth": 0,
             "ticks": ""
            },
            "type": "contourcarpet"
           }
          ],
          "heatmap": [
           {
            "colorbar": {
             "outlinewidth": 0,
             "ticks": ""
            },
            "colorscale": [
             [
              0,
              "#0d0887"
             ],
             [
              0.1111111111111111,
              "#46039f"
             ],
             [
              0.2222222222222222,
              "#7201a8"
             ],
             [
              0.3333333333333333,
              "#9c179e"
             ],
             [
              0.4444444444444444,
              "#bd3786"
             ],
             [
              0.5555555555555556,
              "#d8576b"
             ],
             [
              0.6666666666666666,
              "#ed7953"
             ],
             [
              0.7777777777777778,
              "#fb9f3a"
             ],
             [
              0.8888888888888888,
              "#fdca26"
             ],
             [
              1,
              "#f0f921"
             ]
            ],
            "type": "heatmap"
           }
          ],
          "heatmapgl": [
           {
            "colorbar": {
             "outlinewidth": 0,
             "ticks": ""
            },
            "colorscale": [
             [
              0,
              "#0d0887"
             ],
             [
              0.1111111111111111,
              "#46039f"
             ],
             [
              0.2222222222222222,
              "#7201a8"
             ],
             [
              0.3333333333333333,
              "#9c179e"
             ],
             [
              0.4444444444444444,
              "#bd3786"
             ],
             [
              0.5555555555555556,
              "#d8576b"
             ],
             [
              0.6666666666666666,
              "#ed7953"
             ],
             [
              0.7777777777777778,
              "#fb9f3a"
             ],
             [
              0.8888888888888888,
              "#fdca26"
             ],
             [
              1,
              "#f0f921"
             ]
            ],
            "type": "heatmapgl"
           }
          ],
          "histogram": [
           {
            "marker": {
             "pattern": {
              "fillmode": "overlay",
              "size": 10,
              "solidity": 0.2
             }
            },
            "type": "histogram"
           }
          ],
          "histogram2d": [
           {
            "colorbar": {
             "outlinewidth": 0,
             "ticks": ""
            },
            "colorscale": [
             [
              0,
              "#0d0887"
             ],
             [
              0.1111111111111111,
              "#46039f"
             ],
             [
              0.2222222222222222,
              "#7201a8"
             ],
             [
              0.3333333333333333,
              "#9c179e"
             ],
             [
              0.4444444444444444,
              "#bd3786"
             ],
             [
              0.5555555555555556,
              "#d8576b"
             ],
             [
              0.6666666666666666,
              "#ed7953"
             ],
             [
              0.7777777777777778,
              "#fb9f3a"
             ],
             [
              0.8888888888888888,
              "#fdca26"
             ],
             [
              1,
              "#f0f921"
             ]
            ],
            "type": "histogram2d"
           }
          ],
          "histogram2dcontour": [
           {
            "colorbar": {
             "outlinewidth": 0,
             "ticks": ""
            },
            "colorscale": [
             [
              0,
              "#0d0887"
             ],
             [
              0.1111111111111111,
              "#46039f"
             ],
             [
              0.2222222222222222,
              "#7201a8"
             ],
             [
              0.3333333333333333,
              "#9c179e"
             ],
             [
              0.4444444444444444,
              "#bd3786"
             ],
             [
              0.5555555555555556,
              "#d8576b"
             ],
             [
              0.6666666666666666,
              "#ed7953"
             ],
             [
              0.7777777777777778,
              "#fb9f3a"
             ],
             [
              0.8888888888888888,
              "#fdca26"
             ],
             [
              1,
              "#f0f921"
             ]
            ],
            "type": "histogram2dcontour"
           }
          ],
          "mesh3d": [
           {
            "colorbar": {
             "outlinewidth": 0,
             "ticks": ""
            },
            "type": "mesh3d"
           }
          ],
          "parcoords": [
           {
            "line": {
             "colorbar": {
              "outlinewidth": 0,
              "ticks": ""
             }
            },
            "type": "parcoords"
           }
          ],
          "pie": [
           {
            "automargin": true,
            "type": "pie"
           }
          ],
          "scatter": [
           {
            "fillpattern": {
             "fillmode": "overlay",
             "size": 10,
             "solidity": 0.2
            },
            "type": "scatter"
           }
          ],
          "scatter3d": [
           {
            "line": {
             "colorbar": {
              "outlinewidth": 0,
              "ticks": ""
             }
            },
            "marker": {
             "colorbar": {
              "outlinewidth": 0,
              "ticks": ""
             }
            },
            "type": "scatter3d"
           }
          ],
          "scattercarpet": [
           {
            "marker": {
             "colorbar": {
              "outlinewidth": 0,
              "ticks": ""
             }
            },
            "type": "scattercarpet"
           }
          ],
          "scattergeo": [
           {
            "marker": {
             "colorbar": {
              "outlinewidth": 0,
              "ticks": ""
             }
            },
            "type": "scattergeo"
           }
          ],
          "scattergl": [
           {
            "marker": {
             "colorbar": {
              "outlinewidth": 0,
              "ticks": ""
             }
            },
            "type": "scattergl"
           }
          ],
          "scattermapbox": [
           {
            "marker": {
             "colorbar": {
              "outlinewidth": 0,
              "ticks": ""
             }
            },
            "type": "scattermapbox"
           }
          ],
          "scatterpolar": [
           {
            "marker": {
             "colorbar": {
              "outlinewidth": 0,
              "ticks": ""
             }
            },
            "type": "scatterpolar"
           }
          ],
          "scatterpolargl": [
           {
            "marker": {
             "colorbar": {
              "outlinewidth": 0,
              "ticks": ""
             }
            },
            "type": "scatterpolargl"
           }
          ],
          "scatterternary": [
           {
            "marker": {
             "colorbar": {
              "outlinewidth": 0,
              "ticks": ""
             }
            },
            "type": "scatterternary"
           }
          ],
          "surface": [
           {
            "colorbar": {
             "outlinewidth": 0,
             "ticks": ""
            },
            "colorscale": [
             [
              0,
              "#0d0887"
             ],
             [
              0.1111111111111111,
              "#46039f"
             ],
             [
              0.2222222222222222,
              "#7201a8"
             ],
             [
              0.3333333333333333,
              "#9c179e"
             ],
             [
              0.4444444444444444,
              "#bd3786"
             ],
             [
              0.5555555555555556,
              "#d8576b"
             ],
             [
              0.6666666666666666,
              "#ed7953"
             ],
             [
              0.7777777777777778,
              "#fb9f3a"
             ],
             [
              0.8888888888888888,
              "#fdca26"
             ],
             [
              1,
              "#f0f921"
             ]
            ],
            "type": "surface"
           }
          ],
          "table": [
           {
            "cells": {
             "fill": {
              "color": "#EBF0F8"
             },
             "line": {
              "color": "white"
             }
            },
            "header": {
             "fill": {
              "color": "#C8D4E3"
             },
             "line": {
              "color": "white"
             }
            },
            "type": "table"
           }
          ]
         },
         "layout": {
          "autosize": true,
          "font": {
           "family": "sans-serif",
           "size": 14
          },
          "hovermode": "closest",
          "margin": {
           "b": 40,
           "l": 50,
           "pad": 4,
           "r": 25,
           "t": 20
          },
          "template": {
           "data": {
            "bar": [
             {
              "error_x": {
               "color": "#2a3f5f"
              },
              "error_y": {
               "color": "#2a3f5f"
              },
              "marker": {
               "line": {
                "color": "white",
                "width": 0.5
               },
               "pattern": {
                "fillmode": "overlay",
                "size": 10,
                "solidity": 0.2
               }
              },
              "type": "bar"
             }
            ],
            "barpolar": [
             {
              "marker": {
               "line": {
                "color": "white",
                "width": 0.5
               },
               "pattern": {
                "fillmode": "overlay",
                "size": 10,
                "solidity": 0.2
               }
              },
              "type": "barpolar"
             }
            ],
            "carpet": [
             {
              "aaxis": {
               "endlinecolor": "#2a3f5f",
               "gridcolor": "#C8D4E3",
               "linecolor": "#C8D4E3",
               "minorgridcolor": "#C8D4E3",
               "startlinecolor": "#2a3f5f"
              },
              "baxis": {
               "endlinecolor": "#2a3f5f",
               "gridcolor": "#C8D4E3",
               "linecolor": "#C8D4E3",
               "minorgridcolor": "#C8D4E3",
               "startlinecolor": "#2a3f5f"
              },
              "type": "carpet"
             }
            ],
            "choropleth": [
             {
              "colorbar": {
               "outlinewidth": 0,
               "ticks": ""
              },
              "type": "choropleth"
             }
            ],
            "contour": [
             {
              "colorbar": {
               "outlinewidth": 0,
               "ticks": ""
              },
              "colorscale": [
               [
                0,
                "#0d0887"
               ],
               [
                0.1111111111111111,
                "#46039f"
               ],
               [
                0.2222222222222222,
                "#7201a8"
               ],
               [
                0.3333333333333333,
                "#9c179e"
               ],
               [
                0.4444444444444444,
                "#bd3786"
               ],
               [
                0.5555555555555556,
                "#d8576b"
               ],
               [
                0.6666666666666666,
                "#ed7953"
               ],
               [
                0.7777777777777778,
                "#fb9f3a"
               ],
               [
                0.8888888888888888,
                "#fdca26"
               ],
               [
                1,
                "#f0f921"
               ]
              ],
              "type": "contour"
             }
            ],
            "contourcarpet": [
             {
              "colorbar": {
               "outlinewidth": 0,
               "ticks": ""
              },
              "type": "contourcarpet"
             }
            ],
            "heatmap": [
             {
              "colorbar": {
               "outlinewidth": 0,
               "ticks": ""
              },
              "colorscale": [
               [
                0,
                "#0d0887"
               ],
               [
                0.1111111111111111,
                "#46039f"
               ],
               [
                0.2222222222222222,
                "#7201a8"
               ],
               [
                0.3333333333333333,
                "#9c179e"
               ],
               [
                0.4444444444444444,
                "#bd3786"
               ],
               [
                0.5555555555555556,
                "#d8576b"
               ],
               [
                0.6666666666666666,
                "#ed7953"
               ],
               [
                0.7777777777777778,
                "#fb9f3a"
               ],
               [
                0.8888888888888888,
                "#fdca26"
               ],
               [
                1,
                "#f0f921"
               ]
              ],
              "type": "heatmap"
             }
            ],
            "heatmapgl": [
             {
              "colorbar": {
               "outlinewidth": 0,
               "ticks": ""
              },
              "colorscale": [
               [
                0,
                "#0d0887"
               ],
               [
                0.1111111111111111,
                "#46039f"
               ],
               [
                0.2222222222222222,
                "#7201a8"
               ],
               [
                0.3333333333333333,
                "#9c179e"
               ],
               [
                0.4444444444444444,
                "#bd3786"
               ],
               [
                0.5555555555555556,
                "#d8576b"
               ],
               [
                0.6666666666666666,
                "#ed7953"
               ],
               [
                0.7777777777777778,
                "#fb9f3a"
               ],
               [
                0.8888888888888888,
                "#fdca26"
               ],
               [
                1,
                "#f0f921"
               ]
              ],
              "type": "heatmapgl"
             }
            ],
            "histogram": [
             {
              "marker": {
               "pattern": {
                "fillmode": "overlay",
                "size": 10,
                "solidity": 0.2
               }
              },
              "type": "histogram"
             }
            ],
            "histogram2d": [
             {
              "colorbar": {
               "outlinewidth": 0,
               "ticks": ""
              },
              "colorscale": [
               [
                0,
                "#0d0887"
               ],
               [
                0.1111111111111111,
                "#46039f"
               ],
               [
                0.2222222222222222,
                "#7201a8"
               ],
               [
                0.3333333333333333,
                "#9c179e"
               ],
               [
                0.4444444444444444,
                "#bd3786"
               ],
               [
                0.5555555555555556,
                "#d8576b"
               ],
               [
                0.6666666666666666,
                "#ed7953"
               ],
               [
                0.7777777777777778,
                "#fb9f3a"
               ],
               [
                0.8888888888888888,
                "#fdca26"
               ],
               [
                1,
                "#f0f921"
               ]
              ],
              "type": "histogram2d"
             }
            ],
            "histogram2dcontour": [
             {
              "colorbar": {
               "outlinewidth": 0,
               "ticks": ""
              },
              "colorscale": [
               [
                0,
                "#0d0887"
               ],
               [
                0.1111111111111111,
                "#46039f"
               ],
               [
                0.2222222222222222,
                "#7201a8"
               ],
               [
                0.3333333333333333,
                "#9c179e"
               ],
               [
                0.4444444444444444,
                "#bd3786"
               ],
               [
                0.5555555555555556,
                "#d8576b"
               ],
               [
                0.6666666666666666,
                "#ed7953"
               ],
               [
                0.7777777777777778,
                "#fb9f3a"
               ],
               [
                0.8888888888888888,
                "#fdca26"
               ],
               [
                1,
                "#f0f921"
               ]
              ],
              "type": "histogram2dcontour"
             }
            ],
            "mesh3d": [
             {
              "colorbar": {
               "outlinewidth": 0,
               "ticks": ""
              },
              "type": "mesh3d"
             }
            ],
            "parcoords": [
             {
              "line": {
               "colorbar": {
                "outlinewidth": 0,
                "ticks": ""
               }
              },
              "type": "parcoords"
             }
            ],
            "pie": [
             {
              "automargin": true,
              "type": "pie"
             }
            ],
            "scatter": [
             {
              "fillpattern": {
               "fillmode": "overlay",
               "size": 10,
               "solidity": 0.2
              },
              "type": "scatter"
             }
            ],
            "scatter3d": [
             {
              "line": {
               "colorbar": {
                "outlinewidth": 0,
                "ticks": ""
               }
              },
              "marker": {
               "colorbar": {
                "outlinewidth": 0,
                "ticks": ""
               }
              },
              "type": "scatter3d"
             }
            ],
            "scattercarpet": [
             {
              "marker": {
               "colorbar": {
                "outlinewidth": 0,
                "ticks": ""
               }
              },
              "type": "scattercarpet"
             }
            ],
            "scattergeo": [
             {
              "marker": {
               "colorbar": {
                "outlinewidth": 0,
                "ticks": ""
               }
              },
              "type": "scattergeo"
             }
            ],
            "scattergl": [
             {
              "marker": {
               "colorbar": {
                "outlinewidth": 0,
                "ticks": ""
               }
              },
              "type": "scattergl"
             }
            ],
            "scattermapbox": [
             {
              "marker": {
               "colorbar": {
                "outlinewidth": 0,
                "ticks": ""
               }
              },
              "type": "scattermapbox"
             }
            ],
            "scatterpolar": [
             {
              "marker": {
               "colorbar": {
                "outlinewidth": 0,
                "ticks": ""
               }
              },
              "type": "scatterpolar"
             }
            ],
            "scatterpolargl": [
             {
              "marker": {
               "colorbar": {
                "outlinewidth": 0,
                "ticks": ""
               }
              },
              "type": "scatterpolargl"
             }
            ],
            "scatterternary": [
             {
              "marker": {
               "colorbar": {
                "outlinewidth": 0,
                "ticks": ""
               }
              },
              "type": "scatterternary"
             }
            ],
            "surface": [
             {
              "colorbar": {
               "outlinewidth": 0,
               "ticks": ""
              },
              "colorscale": [
               [
                0,
                "#0d0887"
               ],
               [
                0.1111111111111111,
                "#46039f"
               ],
               [
                0.2222222222222222,
                "#7201a8"
               ],
               [
                0.3333333333333333,
                "#9c179e"
               ],
               [
                0.4444444444444444,
                "#bd3786"
               ],
               [
                0.5555555555555556,
                "#d8576b"
               ],
               [
                0.6666666666666666,
                "#ed7953"
               ],
               [
                0.7777777777777778,
                "#fb9f3a"
               ],
               [
                0.8888888888888888,
                "#fdca26"
               ],
               [
                1,
                "#f0f921"
               ]
              ],
              "type": "surface"
             }
            ],
            "table": [
             {
              "cells": {
               "fill": {
                "color": "#EBF0F8"
               },
               "line": {
                "color": "white"
               }
              },
              "header": {
               "fill": {
                "color": "#C8D4E3"
               },
               "line": {
                "color": "white"
               }
              },
              "type": "table"
             }
            ]
           },
           "layout": {
            "annotationdefaults": {
             "arrowcolor": "#2a3f5f",
             "arrowhead": 0,
             "arrowwidth": 1
            },
            "autotypenumbers": "strict",
            "coloraxis": {
             "colorbar": {
              "outlinewidth": 0,
              "ticks": ""
             }
            },
            "colorscale": {
             "diverging": [
              [
               0,
               "#8e0152"
              ],
              [
               0.1,
               "#c51b7d"
              ],
              [
               0.2,
               "#de77ae"
              ],
              [
               0.3,
               "#f1b6da"
              ],
              [
               0.4,
               "#fde0ef"
              ],
              [
               0.5,
               "#f7f7f7"
              ],
              [
               0.6,
               "#e6f5d0"
              ],
              [
               0.7,
               "#b8e186"
              ],
              [
               0.8,
               "#7fbc41"
              ],
              [
               0.9,
               "#4d9221"
              ],
              [
               1,
               "#276419"
              ]
             ],
             "sequential": [
              [
               0,
               "#0d0887"
              ],
              [
               0.1111111111111111,
               "#46039f"
              ],
              [
               0.2222222222222222,
               "#7201a8"
              ],
              [
               0.3333333333333333,
               "#9c179e"
              ],
              [
               0.4444444444444444,
               "#bd3786"
              ],
              [
               0.5555555555555556,
               "#d8576b"
              ],
              [
               0.6666666666666666,
               "#ed7953"
              ],
              [
               0.7777777777777778,
               "#fb9f3a"
              ],
              [
               0.8888888888888888,
               "#fdca26"
              ],
              [
               1,
               "#f0f921"
              ]
             ],
             "sequentialminus": [
              [
               0,
               "#0d0887"
              ],
              [
               0.1111111111111111,
               "#46039f"
              ],
              [
               0.2222222222222222,
               "#7201a8"
              ],
              [
               0.3333333333333333,
               "#9c179e"
              ],
              [
               0.4444444444444444,
               "#bd3786"
              ],
              [
               0.5555555555555556,
               "#d8576b"
              ],
              [
               0.6666666666666666,
               "#ed7953"
              ],
              [
               0.7777777777777778,
               "#fb9f3a"
              ],
              [
               0.8888888888888888,
               "#fdca26"
              ],
              [
               1,
               "#f0f921"
              ]
             ]
            },
            "colorway": [
             "#636efa",
             "#EF553B",
             "#00cc96",
             "#ab63fa",
             "#FFA15A",
             "#19d3f3",
             "#FF6692",
             "#B6E880",
             "#FF97FF",
             "#FECB52"
            ],
            "font": {
             "color": "#2a3f5f"
            },
            "geo": {
             "bgcolor": "white",
             "lakecolor": "white",
             "landcolor": "white",
             "showlakes": true,
             "showland": true,
             "subunitcolor": "#C8D4E3"
            },
            "hoverlabel": {
             "align": "left"
            },
            "hovermode": "closest",
            "mapbox": {
             "style": "light"
            },
            "paper_bgcolor": "white",
            "plot_bgcolor": "white",
            "polar": {
             "angularaxis": {
              "gridcolor": "#EBF0F8",
              "linecolor": "#EBF0F8",
              "ticks": ""
             },
             "bgcolor": "white",
             "radialaxis": {
              "gridcolor": "#EBF0F8",
              "linecolor": "#EBF0F8",
              "ticks": ""
             }
            },
            "scene": {
             "xaxis": {
              "backgroundcolor": "white",
              "gridcolor": "#DFE8F3",
              "gridwidth": 2,
              "linecolor": "#EBF0F8",
              "showbackground": true,
              "ticks": "",
              "zerolinecolor": "#EBF0F8"
             },
             "yaxis": {
              "backgroundcolor": "white",
              "gridcolor": "#DFE8F3",
              "gridwidth": 2,
              "linecolor": "#EBF0F8",
              "showbackground": true,
              "ticks": "",
              "zerolinecolor": "#EBF0F8"
             },
             "zaxis": {
              "backgroundcolor": "white",
              "gridcolor": "#DFE8F3",
              "gridwidth": 2,
              "linecolor": "#EBF0F8",
              "showbackground": true,
              "ticks": "",
              "zerolinecolor": "#EBF0F8"
             }
            },
            "shapedefaults": {
             "line": {
              "color": "#2a3f5f"
             }
            },
            "ternary": {
             "aaxis": {
              "gridcolor": "#DFE8F3",
              "linecolor": "#A2B1C6",
              "ticks": ""
             },
             "baxis": {
              "gridcolor": "#DFE8F3",
              "linecolor": "#A2B1C6",
              "ticks": ""
             },
             "bgcolor": "white",
             "caxis": {
              "gridcolor": "#DFE8F3",
              "linecolor": "#A2B1C6",
              "ticks": ""
             }
            },
            "title": {
             "x": 0.05
            },
            "xaxis": {
             "automargin": true,
             "gridcolor": "#EBF0F8",
             "linecolor": "#EBF0F8",
             "ticks": "",
             "title": {
              "standoff": 15
             },
             "zerolinecolor": "#EBF0F8",
             "zerolinewidth": 2
            },
            "yaxis": {
             "automargin": true,
             "gridcolor": "#EBF0F8",
             "linecolor": "#EBF0F8",
             "ticks": "",
             "title": {
              "standoff": 15
             },
             "zerolinecolor": "#EBF0F8",
             "zerolinewidth": 2
            }
           }
          },
          "xaxis": {
           "automargin": true,
           "autorange": false,
           "fixedrange": true,
           "linecolor": "#444",
           "linewidth": 2,
           "minor": {
            "tickmode": "linear",
            "ticks": "outside"
           },
           "mirror": true,
           "showline": true,
           "tickmode": "linear",
           "ticks": "outside",
           "zeroline": false
          },
          "yaxis": {
           "automargin": true,
           "autorange": false,
           "fixedrange": true,
           "linecolor": "#444",
           "linewidth": 2,
           "minor": {
            "tickmode": "linear",
            "ticks": "outside"
           },
           "mirror": true,
           "showline": true,
           "tickmode": "linear",
           "ticks": "outside",
           "zeroline": false
          }
         }
        },
        "xaxis": {
         "dtick": 5,
         "minor": {
          "dtick": 1,
          "tick0": 0
         },
         "range": [
          0,
          30.2
         ],
         "tick0": 0,
         "title": {
          "text": "challenge rating"
         }
        },
        "yaxis": {
         "dtick": 1,
         "minor": {
          "dtick": 0.25,
          "tick0": 0
         },
         "range": [
          -0.05,
          6
         ],
         "tick0": 0,
         "title": {
          "text": "condition immunities"
         }
        }
       }
      }
     },
     "metadata": {},
     "output_type": "display_data"
    }
   ],
   "source": [
    "# Plots average number of conditional immunities for monsters at each CR.\n",
    "df1 = df0[df0['Category'].isin(['generic','legendary','unique']) & df0['CR'].between(1/8, 30)]\n",
    "dfG = df1.groupby('CR').mean()\n",
    "\n",
    "conditions = ['All Conditions']\n",
    "colors = ['black']\n",
    "\n",
    "fig = go.Figure()\n",
    "\n",
    "for condition, color in zip(conditions, colors):\n",
    "    dfR = dfG[condition].rolling(1, center=True).mean()\n",
    "    fig.add_trace(go.Scatter(\n",
    "        x=dfR.index.to_series(),\n",
    "        y=dfR,\n",
    "        mode='lines+markers', \n",
    "        line=dict(color=color, dash='solid'),\n",
    "        unselected=dict(marker=dict(opacity=0.0)),\n",
    "        name=condition,\n",
    "        hovertemplate=\n",
    "            'CR %{x}<br>'+\n",
    "            'immunities %{y:.2f}'+\n",
    "            '<extra></extra>'\n",
    "    ))\n",
    "\n",
    "fig.update_layout(\n",
    "    template=TFB_TEMPLATE,\n",
    "    xaxis=dict(\n",
    "        title_text='challenge rating',\n",
    "        range=[0.0, 30.2],\n",
    "        tick0=0, dtick=5,\n",
    "        minor=dict(tick0=0, dtick=1),\n",
    "    ),\n",
    "    yaxis=dict(\n",
    "        title_text='condition immunities',\n",
    "        range=[-0.05, 6],\n",
    "        tick0=0, dtick=1.0,\n",
    "        minor=dict(tick0=0, dtick=0.25),\n",
    "    ),\n",
    "    legend=dict(\n",
    "        yanchor='top',  y=0.99,\n",
    "        xanchor='left', x=0.01,\n",
    "        orientation='v',\n",
    "    )\n",
    ")\n",
    "\n",
    "fig.show(config=TFB_CONFIG)"
   ]
  },
  {
   "cell_type": "code",
   "execution_count": 14,
   "metadata": {},
   "outputs": [
    {
     "data": {
      "application/vnd.plotly.v1+json": {
       "config": {
        "autosizable": true,
        "displayModeBar": "hover",
        "displaylogo": false,
        "modeBarButtonsToRemove": [
         "select2d",
         "lasso2d",
         "zoom2d",
         "zoomIn2d",
         "zoomOut2d",
         "pan2d",
         "autoScale2d",
         "hoverClosestCartesian",
         "hoverCompareCartesian",
         "toggleSpikelines",
         "resetScale2d"
        ],
        "plotlyServerURL": "https://plot.ly",
        "responsive": true,
        "showAxisDragHandles": false,
        "toImageButtonOptions": {
         "filename": "tfb-plot",
         "format": "png",
         "height": 450,
         "scale": 2,
         "width": 600
        }
       },
       "data": [
        {
         "histfunc": "avg",
         "hovertemplate": "<b>%{x}:</b> %{y:.2f}<br><extra></extra>",
         "name": "All Conditions",
         "type": "histogram",
         "x": [
          "aberration",
          "beast",
          "celestial",
          "construct",
          "dragon",
          "elemental",
          "fey",
          "fiend",
          "giant",
          "humanoid",
          "monstrosity",
          "ooze",
          "plant",
          "undead"
         ],
         "y": [
          1.4776119402985075,
          0.7142857142857143,
          2.6666666666666665,
          5.851351351351352,
          0.7027027027027027,
          4.476190476190476,
          0.8108108108108109,
          2.3947368421052633,
          0.5510204081632653,
          0.2585227272727273,
          0.7321428571428571,
          6.444444444444445,
          2.1739130434782608,
          4.4576271186440675
         ]
        }
       ],
       "layout": {
        "template": {
         "data": {
          "bar": [
           {
            "error_x": {
             "color": "#2a3f5f"
            },
            "error_y": {
             "color": "#2a3f5f"
            },
            "marker": {
             "line": {
              "color": "#E5ECF6",
              "width": 0.5
             },
             "pattern": {
              "fillmode": "overlay",
              "size": 10,
              "solidity": 0.2
             }
            },
            "type": "bar"
           }
          ],
          "barpolar": [
           {
            "marker": {
             "line": {
              "color": "#E5ECF6",
              "width": 0.5
             },
             "pattern": {
              "fillmode": "overlay",
              "size": 10,
              "solidity": 0.2
             }
            },
            "type": "barpolar"
           }
          ],
          "carpet": [
           {
            "aaxis": {
             "endlinecolor": "#2a3f5f",
             "gridcolor": "white",
             "linecolor": "white",
             "minorgridcolor": "white",
             "startlinecolor": "#2a3f5f"
            },
            "baxis": {
             "endlinecolor": "#2a3f5f",
             "gridcolor": "white",
             "linecolor": "white",
             "minorgridcolor": "white",
             "startlinecolor": "#2a3f5f"
            },
            "type": "carpet"
           }
          ],
          "choropleth": [
           {
            "colorbar": {
             "outlinewidth": 0,
             "ticks": ""
            },
            "type": "choropleth"
           }
          ],
          "contour": [
           {
            "colorbar": {
             "outlinewidth": 0,
             "ticks": ""
            },
            "colorscale": [
             [
              0,
              "#0d0887"
             ],
             [
              0.1111111111111111,
              "#46039f"
             ],
             [
              0.2222222222222222,
              "#7201a8"
             ],
             [
              0.3333333333333333,
              "#9c179e"
             ],
             [
              0.4444444444444444,
              "#bd3786"
             ],
             [
              0.5555555555555556,
              "#d8576b"
             ],
             [
              0.6666666666666666,
              "#ed7953"
             ],
             [
              0.7777777777777778,
              "#fb9f3a"
             ],
             [
              0.8888888888888888,
              "#fdca26"
             ],
             [
              1,
              "#f0f921"
             ]
            ],
            "type": "contour"
           }
          ],
          "contourcarpet": [
           {
            "colorbar": {
             "outlinewidth": 0,
             "ticks": ""
            },
            "type": "contourcarpet"
           }
          ],
          "heatmap": [
           {
            "colorbar": {
             "outlinewidth": 0,
             "ticks": ""
            },
            "colorscale": [
             [
              0,
              "#0d0887"
             ],
             [
              0.1111111111111111,
              "#46039f"
             ],
             [
              0.2222222222222222,
              "#7201a8"
             ],
             [
              0.3333333333333333,
              "#9c179e"
             ],
             [
              0.4444444444444444,
              "#bd3786"
             ],
             [
              0.5555555555555556,
              "#d8576b"
             ],
             [
              0.6666666666666666,
              "#ed7953"
             ],
             [
              0.7777777777777778,
              "#fb9f3a"
             ],
             [
              0.8888888888888888,
              "#fdca26"
             ],
             [
              1,
              "#f0f921"
             ]
            ],
            "type": "heatmap"
           }
          ],
          "heatmapgl": [
           {
            "colorbar": {
             "outlinewidth": 0,
             "ticks": ""
            },
            "colorscale": [
             [
              0,
              "#0d0887"
             ],
             [
              0.1111111111111111,
              "#46039f"
             ],
             [
              0.2222222222222222,
              "#7201a8"
             ],
             [
              0.3333333333333333,
              "#9c179e"
             ],
             [
              0.4444444444444444,
              "#bd3786"
             ],
             [
              0.5555555555555556,
              "#d8576b"
             ],
             [
              0.6666666666666666,
              "#ed7953"
             ],
             [
              0.7777777777777778,
              "#fb9f3a"
             ],
             [
              0.8888888888888888,
              "#fdca26"
             ],
             [
              1,
              "#f0f921"
             ]
            ],
            "type": "heatmapgl"
           }
          ],
          "histogram": [
           {
            "marker": {
             "pattern": {
              "fillmode": "overlay",
              "size": 10,
              "solidity": 0.2
             }
            },
            "type": "histogram"
           }
          ],
          "histogram2d": [
           {
            "colorbar": {
             "outlinewidth": 0,
             "ticks": ""
            },
            "colorscale": [
             [
              0,
              "#0d0887"
             ],
             [
              0.1111111111111111,
              "#46039f"
             ],
             [
              0.2222222222222222,
              "#7201a8"
             ],
             [
              0.3333333333333333,
              "#9c179e"
             ],
             [
              0.4444444444444444,
              "#bd3786"
             ],
             [
              0.5555555555555556,
              "#d8576b"
             ],
             [
              0.6666666666666666,
              "#ed7953"
             ],
             [
              0.7777777777777778,
              "#fb9f3a"
             ],
             [
              0.8888888888888888,
              "#fdca26"
             ],
             [
              1,
              "#f0f921"
             ]
            ],
            "type": "histogram2d"
           }
          ],
          "histogram2dcontour": [
           {
            "colorbar": {
             "outlinewidth": 0,
             "ticks": ""
            },
            "colorscale": [
             [
              0,
              "#0d0887"
             ],
             [
              0.1111111111111111,
              "#46039f"
             ],
             [
              0.2222222222222222,
              "#7201a8"
             ],
             [
              0.3333333333333333,
              "#9c179e"
             ],
             [
              0.4444444444444444,
              "#bd3786"
             ],
             [
              0.5555555555555556,
              "#d8576b"
             ],
             [
              0.6666666666666666,
              "#ed7953"
             ],
             [
              0.7777777777777778,
              "#fb9f3a"
             ],
             [
              0.8888888888888888,
              "#fdca26"
             ],
             [
              1,
              "#f0f921"
             ]
            ],
            "type": "histogram2dcontour"
           }
          ],
          "mesh3d": [
           {
            "colorbar": {
             "outlinewidth": 0,
             "ticks": ""
            },
            "type": "mesh3d"
           }
          ],
          "parcoords": [
           {
            "line": {
             "colorbar": {
              "outlinewidth": 0,
              "ticks": ""
             }
            },
            "type": "parcoords"
           }
          ],
          "pie": [
           {
            "automargin": true,
            "type": "pie"
           }
          ],
          "scatter": [
           {
            "fillpattern": {
             "fillmode": "overlay",
             "size": 10,
             "solidity": 0.2
            },
            "type": "scatter"
           }
          ],
          "scatter3d": [
           {
            "line": {
             "colorbar": {
              "outlinewidth": 0,
              "ticks": ""
             }
            },
            "marker": {
             "colorbar": {
              "outlinewidth": 0,
              "ticks": ""
             }
            },
            "type": "scatter3d"
           }
          ],
          "scattercarpet": [
           {
            "marker": {
             "colorbar": {
              "outlinewidth": 0,
              "ticks": ""
             }
            },
            "type": "scattercarpet"
           }
          ],
          "scattergeo": [
           {
            "marker": {
             "colorbar": {
              "outlinewidth": 0,
              "ticks": ""
             }
            },
            "type": "scattergeo"
           }
          ],
          "scattergl": [
           {
            "marker": {
             "colorbar": {
              "outlinewidth": 0,
              "ticks": ""
             }
            },
            "type": "scattergl"
           }
          ],
          "scattermapbox": [
           {
            "marker": {
             "colorbar": {
              "outlinewidth": 0,
              "ticks": ""
             }
            },
            "type": "scattermapbox"
           }
          ],
          "scatterpolar": [
           {
            "marker": {
             "colorbar": {
              "outlinewidth": 0,
              "ticks": ""
             }
            },
            "type": "scatterpolar"
           }
          ],
          "scatterpolargl": [
           {
            "marker": {
             "colorbar": {
              "outlinewidth": 0,
              "ticks": ""
             }
            },
            "type": "scatterpolargl"
           }
          ],
          "scatterternary": [
           {
            "marker": {
             "colorbar": {
              "outlinewidth": 0,
              "ticks": ""
             }
            },
            "type": "scatterternary"
           }
          ],
          "surface": [
           {
            "colorbar": {
             "outlinewidth": 0,
             "ticks": ""
            },
            "colorscale": [
             [
              0,
              "#0d0887"
             ],
             [
              0.1111111111111111,
              "#46039f"
             ],
             [
              0.2222222222222222,
              "#7201a8"
             ],
             [
              0.3333333333333333,
              "#9c179e"
             ],
             [
              0.4444444444444444,
              "#bd3786"
             ],
             [
              0.5555555555555556,
              "#d8576b"
             ],
             [
              0.6666666666666666,
              "#ed7953"
             ],
             [
              0.7777777777777778,
              "#fb9f3a"
             ],
             [
              0.8888888888888888,
              "#fdca26"
             ],
             [
              1,
              "#f0f921"
             ]
            ],
            "type": "surface"
           }
          ],
          "table": [
           {
            "cells": {
             "fill": {
              "color": "#EBF0F8"
             },
             "line": {
              "color": "white"
             }
            },
            "header": {
             "fill": {
              "color": "#C8D4E3"
             },
             "line": {
              "color": "white"
             }
            },
            "type": "table"
           }
          ]
         },
         "layout": {
          "autosize": true,
          "font": {
           "family": "sans-serif",
           "size": 14
          },
          "hovermode": "closest",
          "margin": {
           "b": 40,
           "l": 50,
           "pad": 4,
           "r": 25,
           "t": 20
          },
          "template": {
           "data": {
            "bar": [
             {
              "error_x": {
               "color": "#2a3f5f"
              },
              "error_y": {
               "color": "#2a3f5f"
              },
              "marker": {
               "line": {
                "color": "white",
                "width": 0.5
               },
               "pattern": {
                "fillmode": "overlay",
                "size": 10,
                "solidity": 0.2
               }
              },
              "type": "bar"
             }
            ],
            "barpolar": [
             {
              "marker": {
               "line": {
                "color": "white",
                "width": 0.5
               },
               "pattern": {
                "fillmode": "overlay",
                "size": 10,
                "solidity": 0.2
               }
              },
              "type": "barpolar"
             }
            ],
            "carpet": [
             {
              "aaxis": {
               "endlinecolor": "#2a3f5f",
               "gridcolor": "#C8D4E3",
               "linecolor": "#C8D4E3",
               "minorgridcolor": "#C8D4E3",
               "startlinecolor": "#2a3f5f"
              },
              "baxis": {
               "endlinecolor": "#2a3f5f",
               "gridcolor": "#C8D4E3",
               "linecolor": "#C8D4E3",
               "minorgridcolor": "#C8D4E3",
               "startlinecolor": "#2a3f5f"
              },
              "type": "carpet"
             }
            ],
            "choropleth": [
             {
              "colorbar": {
               "outlinewidth": 0,
               "ticks": ""
              },
              "type": "choropleth"
             }
            ],
            "contour": [
             {
              "colorbar": {
               "outlinewidth": 0,
               "ticks": ""
              },
              "colorscale": [
               [
                0,
                "#0d0887"
               ],
               [
                0.1111111111111111,
                "#46039f"
               ],
               [
                0.2222222222222222,
                "#7201a8"
               ],
               [
                0.3333333333333333,
                "#9c179e"
               ],
               [
                0.4444444444444444,
                "#bd3786"
               ],
               [
                0.5555555555555556,
                "#d8576b"
               ],
               [
                0.6666666666666666,
                "#ed7953"
               ],
               [
                0.7777777777777778,
                "#fb9f3a"
               ],
               [
                0.8888888888888888,
                "#fdca26"
               ],
               [
                1,
                "#f0f921"
               ]
              ],
              "type": "contour"
             }
            ],
            "contourcarpet": [
             {
              "colorbar": {
               "outlinewidth": 0,
               "ticks": ""
              },
              "type": "contourcarpet"
             }
            ],
            "heatmap": [
             {
              "colorbar": {
               "outlinewidth": 0,
               "ticks": ""
              },
              "colorscale": [
               [
                0,
                "#0d0887"
               ],
               [
                0.1111111111111111,
                "#46039f"
               ],
               [
                0.2222222222222222,
                "#7201a8"
               ],
               [
                0.3333333333333333,
                "#9c179e"
               ],
               [
                0.4444444444444444,
                "#bd3786"
               ],
               [
                0.5555555555555556,
                "#d8576b"
               ],
               [
                0.6666666666666666,
                "#ed7953"
               ],
               [
                0.7777777777777778,
                "#fb9f3a"
               ],
               [
                0.8888888888888888,
                "#fdca26"
               ],
               [
                1,
                "#f0f921"
               ]
              ],
              "type": "heatmap"
             }
            ],
            "heatmapgl": [
             {
              "colorbar": {
               "outlinewidth": 0,
               "ticks": ""
              },
              "colorscale": [
               [
                0,
                "#0d0887"
               ],
               [
                0.1111111111111111,
                "#46039f"
               ],
               [
                0.2222222222222222,
                "#7201a8"
               ],
               [
                0.3333333333333333,
                "#9c179e"
               ],
               [
                0.4444444444444444,
                "#bd3786"
               ],
               [
                0.5555555555555556,
                "#d8576b"
               ],
               [
                0.6666666666666666,
                "#ed7953"
               ],
               [
                0.7777777777777778,
                "#fb9f3a"
               ],
               [
                0.8888888888888888,
                "#fdca26"
               ],
               [
                1,
                "#f0f921"
               ]
              ],
              "type": "heatmapgl"
             }
            ],
            "histogram": [
             {
              "marker": {
               "pattern": {
                "fillmode": "overlay",
                "size": 10,
                "solidity": 0.2
               }
              },
              "type": "histogram"
             }
            ],
            "histogram2d": [
             {
              "colorbar": {
               "outlinewidth": 0,
               "ticks": ""
              },
              "colorscale": [
               [
                0,
                "#0d0887"
               ],
               [
                0.1111111111111111,
                "#46039f"
               ],
               [
                0.2222222222222222,
                "#7201a8"
               ],
               [
                0.3333333333333333,
                "#9c179e"
               ],
               [
                0.4444444444444444,
                "#bd3786"
               ],
               [
                0.5555555555555556,
                "#d8576b"
               ],
               [
                0.6666666666666666,
                "#ed7953"
               ],
               [
                0.7777777777777778,
                "#fb9f3a"
               ],
               [
                0.8888888888888888,
                "#fdca26"
               ],
               [
                1,
                "#f0f921"
               ]
              ],
              "type": "histogram2d"
             }
            ],
            "histogram2dcontour": [
             {
              "colorbar": {
               "outlinewidth": 0,
               "ticks": ""
              },
              "colorscale": [
               [
                0,
                "#0d0887"
               ],
               [
                0.1111111111111111,
                "#46039f"
               ],
               [
                0.2222222222222222,
                "#7201a8"
               ],
               [
                0.3333333333333333,
                "#9c179e"
               ],
               [
                0.4444444444444444,
                "#bd3786"
               ],
               [
                0.5555555555555556,
                "#d8576b"
               ],
               [
                0.6666666666666666,
                "#ed7953"
               ],
               [
                0.7777777777777778,
                "#fb9f3a"
               ],
               [
                0.8888888888888888,
                "#fdca26"
               ],
               [
                1,
                "#f0f921"
               ]
              ],
              "type": "histogram2dcontour"
             }
            ],
            "mesh3d": [
             {
              "colorbar": {
               "outlinewidth": 0,
               "ticks": ""
              },
              "type": "mesh3d"
             }
            ],
            "parcoords": [
             {
              "line": {
               "colorbar": {
                "outlinewidth": 0,
                "ticks": ""
               }
              },
              "type": "parcoords"
             }
            ],
            "pie": [
             {
              "automargin": true,
              "type": "pie"
             }
            ],
            "scatter": [
             {
              "fillpattern": {
               "fillmode": "overlay",
               "size": 10,
               "solidity": 0.2
              },
              "type": "scatter"
             }
            ],
            "scatter3d": [
             {
              "line": {
               "colorbar": {
                "outlinewidth": 0,
                "ticks": ""
               }
              },
              "marker": {
               "colorbar": {
                "outlinewidth": 0,
                "ticks": ""
               }
              },
              "type": "scatter3d"
             }
            ],
            "scattercarpet": [
             {
              "marker": {
               "colorbar": {
                "outlinewidth": 0,
                "ticks": ""
               }
              },
              "type": "scattercarpet"
             }
            ],
            "scattergeo": [
             {
              "marker": {
               "colorbar": {
                "outlinewidth": 0,
                "ticks": ""
               }
              },
              "type": "scattergeo"
             }
            ],
            "scattergl": [
             {
              "marker": {
               "colorbar": {
                "outlinewidth": 0,
                "ticks": ""
               }
              },
              "type": "scattergl"
             }
            ],
            "scattermapbox": [
             {
              "marker": {
               "colorbar": {
                "outlinewidth": 0,
                "ticks": ""
               }
              },
              "type": "scattermapbox"
             }
            ],
            "scatterpolar": [
             {
              "marker": {
               "colorbar": {
                "outlinewidth": 0,
                "ticks": ""
               }
              },
              "type": "scatterpolar"
             }
            ],
            "scatterpolargl": [
             {
              "marker": {
               "colorbar": {
                "outlinewidth": 0,
                "ticks": ""
               }
              },
              "type": "scatterpolargl"
             }
            ],
            "scatterternary": [
             {
              "marker": {
               "colorbar": {
                "outlinewidth": 0,
                "ticks": ""
               }
              },
              "type": "scatterternary"
             }
            ],
            "surface": [
             {
              "colorbar": {
               "outlinewidth": 0,
               "ticks": ""
              },
              "colorscale": [
               [
                0,
                "#0d0887"
               ],
               [
                0.1111111111111111,
                "#46039f"
               ],
               [
                0.2222222222222222,
                "#7201a8"
               ],
               [
                0.3333333333333333,
                "#9c179e"
               ],
               [
                0.4444444444444444,
                "#bd3786"
               ],
               [
                0.5555555555555556,
                "#d8576b"
               ],
               [
                0.6666666666666666,
                "#ed7953"
               ],
               [
                0.7777777777777778,
                "#fb9f3a"
               ],
               [
                0.8888888888888888,
                "#fdca26"
               ],
               [
                1,
                "#f0f921"
               ]
              ],
              "type": "surface"
             }
            ],
            "table": [
             {
              "cells": {
               "fill": {
                "color": "#EBF0F8"
               },
               "line": {
                "color": "white"
               }
              },
              "header": {
               "fill": {
                "color": "#C8D4E3"
               },
               "line": {
                "color": "white"
               }
              },
              "type": "table"
             }
            ]
           },
           "layout": {
            "annotationdefaults": {
             "arrowcolor": "#2a3f5f",
             "arrowhead": 0,
             "arrowwidth": 1
            },
            "autotypenumbers": "strict",
            "coloraxis": {
             "colorbar": {
              "outlinewidth": 0,
              "ticks": ""
             }
            },
            "colorscale": {
             "diverging": [
              [
               0,
               "#8e0152"
              ],
              [
               0.1,
               "#c51b7d"
              ],
              [
               0.2,
               "#de77ae"
              ],
              [
               0.3,
               "#f1b6da"
              ],
              [
               0.4,
               "#fde0ef"
              ],
              [
               0.5,
               "#f7f7f7"
              ],
              [
               0.6,
               "#e6f5d0"
              ],
              [
               0.7,
               "#b8e186"
              ],
              [
               0.8,
               "#7fbc41"
              ],
              [
               0.9,
               "#4d9221"
              ],
              [
               1,
               "#276419"
              ]
             ],
             "sequential": [
              [
               0,
               "#0d0887"
              ],
              [
               0.1111111111111111,
               "#46039f"
              ],
              [
               0.2222222222222222,
               "#7201a8"
              ],
              [
               0.3333333333333333,
               "#9c179e"
              ],
              [
               0.4444444444444444,
               "#bd3786"
              ],
              [
               0.5555555555555556,
               "#d8576b"
              ],
              [
               0.6666666666666666,
               "#ed7953"
              ],
              [
               0.7777777777777778,
               "#fb9f3a"
              ],
              [
               0.8888888888888888,
               "#fdca26"
              ],
              [
               1,
               "#f0f921"
              ]
             ],
             "sequentialminus": [
              [
               0,
               "#0d0887"
              ],
              [
               0.1111111111111111,
               "#46039f"
              ],
              [
               0.2222222222222222,
               "#7201a8"
              ],
              [
               0.3333333333333333,
               "#9c179e"
              ],
              [
               0.4444444444444444,
               "#bd3786"
              ],
              [
               0.5555555555555556,
               "#d8576b"
              ],
              [
               0.6666666666666666,
               "#ed7953"
              ],
              [
               0.7777777777777778,
               "#fb9f3a"
              ],
              [
               0.8888888888888888,
               "#fdca26"
              ],
              [
               1,
               "#f0f921"
              ]
             ]
            },
            "colorway": [
             "#636efa",
             "#EF553B",
             "#00cc96",
             "#ab63fa",
             "#FFA15A",
             "#19d3f3",
             "#FF6692",
             "#B6E880",
             "#FF97FF",
             "#FECB52"
            ],
            "font": {
             "color": "#2a3f5f"
            },
            "geo": {
             "bgcolor": "white",
             "lakecolor": "white",
             "landcolor": "white",
             "showlakes": true,
             "showland": true,
             "subunitcolor": "#C8D4E3"
            },
            "hoverlabel": {
             "align": "left"
            },
            "hovermode": "closest",
            "mapbox": {
             "style": "light"
            },
            "paper_bgcolor": "white",
            "plot_bgcolor": "white",
            "polar": {
             "angularaxis": {
              "gridcolor": "#EBF0F8",
              "linecolor": "#EBF0F8",
              "ticks": ""
             },
             "bgcolor": "white",
             "radialaxis": {
              "gridcolor": "#EBF0F8",
              "linecolor": "#EBF0F8",
              "ticks": ""
             }
            },
            "scene": {
             "xaxis": {
              "backgroundcolor": "white",
              "gridcolor": "#DFE8F3",
              "gridwidth": 2,
              "linecolor": "#EBF0F8",
              "showbackground": true,
              "ticks": "",
              "zerolinecolor": "#EBF0F8"
             },
             "yaxis": {
              "backgroundcolor": "white",
              "gridcolor": "#DFE8F3",
              "gridwidth": 2,
              "linecolor": "#EBF0F8",
              "showbackground": true,
              "ticks": "",
              "zerolinecolor": "#EBF0F8"
             },
             "zaxis": {
              "backgroundcolor": "white",
              "gridcolor": "#DFE8F3",
              "gridwidth": 2,
              "linecolor": "#EBF0F8",
              "showbackground": true,
              "ticks": "",
              "zerolinecolor": "#EBF0F8"
             }
            },
            "shapedefaults": {
             "line": {
              "color": "#2a3f5f"
             }
            },
            "ternary": {
             "aaxis": {
              "gridcolor": "#DFE8F3",
              "linecolor": "#A2B1C6",
              "ticks": ""
             },
             "baxis": {
              "gridcolor": "#DFE8F3",
              "linecolor": "#A2B1C6",
              "ticks": ""
             },
             "bgcolor": "white",
             "caxis": {
              "gridcolor": "#DFE8F3",
              "linecolor": "#A2B1C6",
              "ticks": ""
             }
            },
            "title": {
             "x": 0.05
            },
            "xaxis": {
             "automargin": true,
             "gridcolor": "#EBF0F8",
             "linecolor": "#EBF0F8",
             "ticks": "",
             "title": {
              "standoff": 15
             },
             "zerolinecolor": "#EBF0F8",
             "zerolinewidth": 2
            },
            "yaxis": {
             "automargin": true,
             "gridcolor": "#EBF0F8",
             "linecolor": "#EBF0F8",
             "ticks": "",
             "title": {
              "standoff": 15
             },
             "zerolinecolor": "#EBF0F8",
             "zerolinewidth": 2
            }
           }
          },
          "xaxis": {
           "automargin": true,
           "autorange": false,
           "fixedrange": true,
           "linecolor": "#444",
           "linewidth": 2,
           "minor": {
            "tickmode": "linear",
            "ticks": "outside"
           },
           "mirror": true,
           "showline": true,
           "tickmode": "linear",
           "ticks": "outside",
           "zeroline": false
          },
          "yaxis": {
           "automargin": true,
           "autorange": false,
           "fixedrange": true,
           "linecolor": "#444",
           "linewidth": 2,
           "minor": {
            "tickmode": "linear",
            "ticks": "outside"
           },
           "mirror": true,
           "showline": true,
           "tickmode": "linear",
           "ticks": "outside",
           "zeroline": false
          }
         }
        },
        "xaxis": {
         "range": [
          -0.5,
          13.5
         ],
         "title": {
          "text": ""
         }
        },
        "yaxis": {
         "dtick": 1,
         "minor": {
          "dtick": 0.5,
          "tick0": 0
         },
         "range": [
          0,
          7
         ],
         "tick0": 0,
         "title": {
          "text": "condition immunities"
         }
        }
       }
      }
     },
     "metadata": {},
     "output_type": "display_data"
    }
   ],
   "source": [
    "# Plots the average number of condition immunities for monsters of each type.\n",
    "condition = 'All Conditions'\n",
    "\n",
    "df1 = df0[df0['Category'].isin(['generic','legendary','unique']) & df0['CR'].between(1, 30)]\n",
    "dfG = df1.groupby(['Type']).mean().reset_index()\n",
    "\n",
    "fig = go.Figure()\n",
    "\n",
    "fig.add_trace(go.Histogram(\n",
    "    histfunc='avg', \n",
    "    x=dfG['Type'], \n",
    "    y=dfG[condition], \n",
    "    name=condition,\n",
    "    hovertemplate=\n",
    "        '<b>%{x}:</b> %{y:.2f}<br>'+\n",
    "        '<extra></extra>',\n",
    "))\n",
    "\n",
    "fig.update_layout(\n",
    "    template=TFB_TEMPLATE,\n",
    "    xaxis=dict(\n",
    "        title_text='',\n",
    "        range=[-0.5, 14-0.5],\n",
    "    ),\n",
    "    yaxis=dict(\n",
    "        title_text=f'condition immunities',\n",
    "        range=[0.0, 7.0],\n",
    "        tick0=0, dtick=1.0,\n",
    "        minor=dict(tick0=0, dtick=0.5),\n",
    "    )\n",
    ")\n",
    "\n",
    "fig.show(config=TFB_CONFIG)"
   ]
  },
  {
   "cell_type": "code",
   "execution_count": 124,
   "metadata": {},
   "outputs": [
    {
     "name": "stdout",
     "output_type": "stream",
     "text": [
      "                            OLS Regression Results                            \n",
      "==============================================================================\n",
      "Dep. Variable:               Poisoned   R-squared:                       0.576\n",
      "Model:                            OLS   Adj. R-squared:                  0.572\n",
      "Method:                 Least Squares   F-statistic:                     142.1\n",
      "Date:                Sat, 17 Dec 2022   Prob (F-statistic):          1.42e-260\n",
      "Time:                        23:25:13   Log-Likelihood:                -305.16\n",
      "No. Observations:                1478   AIC:                             640.3\n",
      "Df Residuals:                    1463   BIC:                             719.8\n",
      "Df Model:                          14                                         \n",
      "Covariance Type:            nonrobust                                         \n",
      "====================================================================================\n",
      "                       coef    std err          t      P>|t|      [0.025      0.975]\n",
      "------------------------------------------------------------------------------------\n",
      "const                0.2296      0.014     16.535      0.000       0.202       0.257\n",
      "CR                   0.0115      0.001      8.457      0.000       0.009       0.014\n",
      "Type_aberration     -0.2283      0.036     -6.259      0.000      -0.300      -0.157\n",
      "Type_beast          -0.2476      0.029     -8.456      0.000      -0.305      -0.190\n",
      "Type_celestial      -0.0736      0.062     -1.187      0.235      -0.195       0.048\n",
      "Type_construct       0.6018      0.031     19.613      0.000       0.542       0.662\n",
      "Type_dragon         -0.1596      0.029     -5.527      0.000      -0.216      -0.103\n",
      "Type_elemental       0.4918      0.040     12.371      0.000       0.414       0.570\n",
      "Type_fey            -0.1497      0.043     -3.451      0.001      -0.235      -0.065\n",
      "Type_fiend           0.4733      0.029     16.570      0.000       0.417       0.529\n",
      "Type_giant          -0.2378      0.042     -5.655      0.000      -0.320      -0.155\n",
      "Type_humanoid       -0.2314      0.017    -13.288      0.000      -0.266      -0.197\n",
      "Type_monstrosity    -0.1655      0.023     -7.100      0.000      -0.211      -0.120\n",
      "Type_ooze           -0.1852      0.081     -2.282      0.023      -0.344      -0.026\n",
      "Type_plant          -0.1724      0.049     -3.504      0.000      -0.269      -0.076\n",
      "Type_undead          0.5139      0.026     19.438      0.000       0.462       0.566\n",
      "==============================================================================\n",
      "Omnibus:                      193.523   Durbin-Watson:                   1.511\n",
      "Prob(Omnibus):                  0.000   Jarque-Bera (JB):              884.307\n",
      "Skew:                           0.536   Prob(JB):                    9.44e-193\n",
      "Kurtosis:                       6.635   Cond. No.                     4.87e+16\n",
      "==============================================================================\n",
      "\n",
      "Notes:\n",
      "[1] Standard Errors assume that the covariance matrix of the errors is correctly specified.\n",
      "[2] The smallest eigenvalue is 5.5e-29. This might indicate that there are\n",
      "strong multicollinearity problems or that the design matrix is singular.\n"
     ]
    }
   ],
   "source": [
    "# Runs a linear regression fit for immunity to one condition based on monster CR and type.\n",
    "import warnings\n",
    "warnings.filterwarnings('ignore')\n",
    "import statsmodels.api as sm\n",
    "from sklearn.linear_model import LinearRegression\n",
    "\n",
    "yCol = 'Poisoned'\n",
    "xCols = ['CR','Type']\n",
    "aCols = [yCol] + xCols\n",
    "df1 = df0[aCols]\n",
    "X = pd.get_dummies(data=df1[xCols], drop_first=False)\n",
    "Y = df1[yCol]\n",
    "\n",
    "model = LinearRegression()\n",
    "model.fit(X, Y)\n",
    "\n",
    "coeff_parameter = pd.DataFrame(model.coef_, X.columns, columns=['Coefficient'])\n",
    "\n",
    "# generate report\n",
    "X_Sm = sm.add_constant(X)\n",
    "ls = sm.OLS(Y, X_Sm).fit()\n",
    "print(ls.summary())"
   ]
  }
 ],
 "metadata": {
  "kernelspec": {
   "display_name": "thefinishedbook",
   "language": "python",
   "name": "python3"
  },
  "language_info": {
   "codemirror_mode": {
    "name": "ipython",
    "version": 3
   },
   "file_extension": ".py",
   "mimetype": "text/x-python",
   "name": "python",
   "nbconvert_exporter": "python",
   "pygments_lexer": "ipython3",
   "version": "3.10.5"
  },
  "orig_nbformat": 4,
  "vscode": {
   "interpreter": {
    "hash": "e4b90a08ac11b7f80ea6e39e6f46c6e22a0b6d86a47874aaa13784019f162251"
   }
  }
 },
 "nbformat": 4,
 "nbformat_minor": 2
}
