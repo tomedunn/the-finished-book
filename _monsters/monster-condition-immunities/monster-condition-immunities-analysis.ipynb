{
 "cells": [
  {
   "cell_type": "code",
   "execution_count": null,
   "metadata": {},
   "outputs": [
    {
     "name": "stdout",
     "output_type": "stream",
     "text": [
      "Includes 2117 monsters in database\n"
     ]
    }
   ],
   "source": [
    "# Initialize notebook\n",
    "import pandas as pd\n",
    "import numpy as np\n",
    "import plotly.graph_objects as go\n",
    "import sys\n",
    "sys.path.append('../../assets/python/')\n",
    "import tfb\n",
    "\n",
    "METADATA = {'Contributor': 'T. Dunn'}\n",
    "SAVEFIGS = False\n",
    "\n",
    "df0 = pd.read_csv('../../assets/data/monsters.csv')\n",
    "df0 = df0.astype({'Book': 'category', 'Type': 'category', 'Size': 'category'})\n",
    "df0['All Conditions'] = df0['Blinded'] + df0['Charmed'] + df0['Deafened'] + df0['Exhaustion'] + df0['Frightened'] + df0['Grappled'] + df0['Incapacitated'] + df0['Invisible'] + df0['Paralyzed'] + df0['Petrified'] + df0['Poisoned'] + df0['Prone'] + df0['Restrained'] + df0['Stunned'] + df0['Unconscious']\n",
    "df0.drop_duplicates(inplace=True)\n",
    "print('Includes {} monsters in database'.format(len(df0.index.to_list())))\n",
    "\n",
    "CONDITIONS = ['Blinded','Charmed','Deafened','Exhaustion','Frightened',\n",
    "    'Grappled','Incapacitated','Invisible','Paralyzed','Petrified',\n",
    "    'Poisoned','Prone','Restrained','Stunned','Unconscious']\n",
    "CONDITION_COLORS = ['gold', 'red', 'green', 'orange', 'teal',\n",
    "    'purple', 'navy', 'maroon', 'olivedrab', 'orangered',\n",
    "    'blue', 'darkviolet', 'dodgerblue', 'brown', 'darkgreen']"
   ]
  },
  {
   "cell_type": "code",
   "execution_count": null,
   "metadata": {},
   "outputs": [
    {
     "data": {
      "application/vnd.plotly.v1+json": {
       "config": {
        "autosizable": true,
        "displayModeBar": "hover",
        "displaylogo": false,
        "doubleClick": "reset",
        "modeBarButtonsToRemove": [
         "select2d",
         "lasso2d",
         "zoom2d",
         "zoomIn2d",
         "zoomOut2d",
         "pan2d",
         "autoScale2d",
         "hoverClosestCartesian",
         "hoverCompareCartesian",
         "toggleSpikelines",
         "resetScale2d"
        ],
        "plotlyServerURL": "https://plot.ly",
        "responsive": true,
        "showAxisDragHandles": false,
        "toImageButtonOptions": {
         "filename": "tfb-plot",
         "format": "png",
         "height": 450,
         "scale": 2,
         "width": 600
        }
       },
       "data": [
        {
         "hovertemplate": "<b>Condition:</b> %{x}<br><b>Immune:</b> %{text}<extra></extra>",
         "marker": {
          "line": {
           "color": "Black",
           "width": 1
          },
          "size": 10
         },
         "mode": "markers",
         "text": [
          "6% (131 out of 2117)",
          "25% (520 out of 2117)",
          "4% (94 out of 2117)",
          "20% (425 out of 2117)",
          "25% (528 out of 2117)",
          "5% (105 out of 2117)",
          "0% (1 out of 2117)",
          "0% (0 out of 2117)",
          "15% (307 out of 2117)",
          "11% (242 out of 2117)",
          "30% (638 out of 2117)",
          "9% (192 out of 2117)",
          "5% (115 out of 2117)",
          "4% (77 out of 2117)",
          "3% (54 out of 2117)"
         ],
         "type": "scatter",
         "unselected": {
          "marker": {
           "opacity": 0
          }
         },
         "x": [
          "Blinded",
          "Charmed",
          "Deafened",
          "Exhaustion",
          "Frightened",
          "Grappled",
          "Incapacitated",
          "Invisible",
          "Paralyzed",
          "Petrified",
          "Poisoned",
          "Prone",
          "Restrained",
          "Stunned",
          "Unconscious"
         ],
         "y": [
          6.188001889466226,
          24.563060935285783,
          4.440245630609352,
          20.075578649031648,
          24.940954180444024,
          4.959848842701937,
          0.04723665564478035,
          0,
          14.501653282947569,
          11.431270666036845,
          30.136986301369863,
          9.069437883797828,
          5.43221539914974,
          3.6372224846480865,
          2.550779404818139
         ]
        }
       ],
       "layout": {
        "height": 450,
        "template": {
         "layout": {
          "autosize": false,
          "font": {
           "family": "sans-serif",
           "size": 14
          },
          "hoverlabel": {
           "align": "left"
          },
          "hovermode": "closest",
          "margin": {
           "b": 55,
           "l": 60,
           "pad": 4,
           "r": 25,
           "t": 20
          },
          "template": {
           "data": {
            "bar": [
             {
              "error_x": {
               "color": "#2a3f5f"
              },
              "error_y": {
               "color": "#2a3f5f"
              },
              "marker": {
               "line": {
                "color": "white",
                "width": 0.5
               },
               "pattern": {
                "fillmode": "overlay",
                "size": 10,
                "solidity": 0.2
               }
              },
              "type": "bar"
             }
            ],
            "barpolar": [
             {
              "marker": {
               "line": {
                "color": "white",
                "width": 0.5
               },
               "pattern": {
                "fillmode": "overlay",
                "size": 10,
                "solidity": 0.2
               }
              },
              "type": "barpolar"
             }
            ],
            "carpet": [
             {
              "aaxis": {
               "endlinecolor": "#2a3f5f",
               "gridcolor": "#C8D4E3",
               "linecolor": "#C8D4E3",
               "minorgridcolor": "#C8D4E3",
               "startlinecolor": "#2a3f5f"
              },
              "baxis": {
               "endlinecolor": "#2a3f5f",
               "gridcolor": "#C8D4E3",
               "linecolor": "#C8D4E3",
               "minorgridcolor": "#C8D4E3",
               "startlinecolor": "#2a3f5f"
              },
              "type": "carpet"
             }
            ],
            "choropleth": [
             {
              "colorbar": {
               "outlinewidth": 0,
               "ticks": ""
              },
              "type": "choropleth"
             }
            ],
            "contour": [
             {
              "colorbar": {
               "outlinewidth": 0,
               "ticks": ""
              },
              "colorscale": [
               [
                0,
                "#0d0887"
               ],
               [
                0.1111111111111111,
                "#46039f"
               ],
               [
                0.2222222222222222,
                "#7201a8"
               ],
               [
                0.3333333333333333,
                "#9c179e"
               ],
               [
                0.4444444444444444,
                "#bd3786"
               ],
               [
                0.5555555555555556,
                "#d8576b"
               ],
               [
                0.6666666666666666,
                "#ed7953"
               ],
               [
                0.7777777777777778,
                "#fb9f3a"
               ],
               [
                0.8888888888888888,
                "#fdca26"
               ],
               [
                1,
                "#f0f921"
               ]
              ],
              "type": "contour"
             }
            ],
            "contourcarpet": [
             {
              "colorbar": {
               "outlinewidth": 0,
               "ticks": ""
              },
              "type": "contourcarpet"
             }
            ],
            "heatmap": [
             {
              "colorbar": {
               "outlinewidth": 0,
               "ticks": ""
              },
              "colorscale": [
               [
                0,
                "#0d0887"
               ],
               [
                0.1111111111111111,
                "#46039f"
               ],
               [
                0.2222222222222222,
                "#7201a8"
               ],
               [
                0.3333333333333333,
                "#9c179e"
               ],
               [
                0.4444444444444444,
                "#bd3786"
               ],
               [
                0.5555555555555556,
                "#d8576b"
               ],
               [
                0.6666666666666666,
                "#ed7953"
               ],
               [
                0.7777777777777778,
                "#fb9f3a"
               ],
               [
                0.8888888888888888,
                "#fdca26"
               ],
               [
                1,
                "#f0f921"
               ]
              ],
              "type": "heatmap"
             }
            ],
            "heatmapgl": [
             {
              "colorbar": {
               "outlinewidth": 0,
               "ticks": ""
              },
              "colorscale": [
               [
                0,
                "#0d0887"
               ],
               [
                0.1111111111111111,
                "#46039f"
               ],
               [
                0.2222222222222222,
                "#7201a8"
               ],
               [
                0.3333333333333333,
                "#9c179e"
               ],
               [
                0.4444444444444444,
                "#bd3786"
               ],
               [
                0.5555555555555556,
                "#d8576b"
               ],
               [
                0.6666666666666666,
                "#ed7953"
               ],
               [
                0.7777777777777778,
                "#fb9f3a"
               ],
               [
                0.8888888888888888,
                "#fdca26"
               ],
               [
                1,
                "#f0f921"
               ]
              ],
              "type": "heatmapgl"
             }
            ],
            "histogram": [
             {
              "marker": {
               "pattern": {
                "fillmode": "overlay",
                "size": 10,
                "solidity": 0.2
               }
              },
              "type": "histogram"
             }
            ],
            "histogram2d": [
             {
              "colorbar": {
               "outlinewidth": 0,
               "ticks": ""
              },
              "colorscale": [
               [
                0,
                "#0d0887"
               ],
               [
                0.1111111111111111,
                "#46039f"
               ],
               [
                0.2222222222222222,
                "#7201a8"
               ],
               [
                0.3333333333333333,
                "#9c179e"
               ],
               [
                0.4444444444444444,
                "#bd3786"
               ],
               [
                0.5555555555555556,
                "#d8576b"
               ],
               [
                0.6666666666666666,
                "#ed7953"
               ],
               [
                0.7777777777777778,
                "#fb9f3a"
               ],
               [
                0.8888888888888888,
                "#fdca26"
               ],
               [
                1,
                "#f0f921"
               ]
              ],
              "type": "histogram2d"
             }
            ],
            "histogram2dcontour": [
             {
              "colorbar": {
               "outlinewidth": 0,
               "ticks": ""
              },
              "colorscale": [
               [
                0,
                "#0d0887"
               ],
               [
                0.1111111111111111,
                "#46039f"
               ],
               [
                0.2222222222222222,
                "#7201a8"
               ],
               [
                0.3333333333333333,
                "#9c179e"
               ],
               [
                0.4444444444444444,
                "#bd3786"
               ],
               [
                0.5555555555555556,
                "#d8576b"
               ],
               [
                0.6666666666666666,
                "#ed7953"
               ],
               [
                0.7777777777777778,
                "#fb9f3a"
               ],
               [
                0.8888888888888888,
                "#fdca26"
               ],
               [
                1,
                "#f0f921"
               ]
              ],
              "type": "histogram2dcontour"
             }
            ],
            "mesh3d": [
             {
              "colorbar": {
               "outlinewidth": 0,
               "ticks": ""
              },
              "type": "mesh3d"
             }
            ],
            "parcoords": [
             {
              "line": {
               "colorbar": {
                "outlinewidth": 0,
                "ticks": ""
               }
              },
              "type": "parcoords"
             }
            ],
            "pie": [
             {
              "automargin": true,
              "type": "pie"
             }
            ],
            "scatter": [
             {
              "fillpattern": {
               "fillmode": "overlay",
               "size": 10,
               "solidity": 0.2
              },
              "type": "scatter"
             }
            ],
            "scatter3d": [
             {
              "line": {
               "colorbar": {
                "outlinewidth": 0,
                "ticks": ""
               }
              },
              "marker": {
               "colorbar": {
                "outlinewidth": 0,
                "ticks": ""
               }
              },
              "type": "scatter3d"
             }
            ],
            "scattercarpet": [
             {
              "marker": {
               "colorbar": {
                "outlinewidth": 0,
                "ticks": ""
               }
              },
              "type": "scattercarpet"
             }
            ],
            "scattergeo": [
             {
              "marker": {
               "colorbar": {
                "outlinewidth": 0,
                "ticks": ""
               }
              },
              "type": "scattergeo"
             }
            ],
            "scattergl": [
             {
              "marker": {
               "colorbar": {
                "outlinewidth": 0,
                "ticks": ""
               }
              },
              "type": "scattergl"
             }
            ],
            "scattermapbox": [
             {
              "marker": {
               "colorbar": {
                "outlinewidth": 0,
                "ticks": ""
               }
              },
              "type": "scattermapbox"
             }
            ],
            "scatterpolar": [
             {
              "marker": {
               "colorbar": {
                "outlinewidth": 0,
                "ticks": ""
               }
              },
              "type": "scatterpolar"
             }
            ],
            "scatterpolargl": [
             {
              "marker": {
               "colorbar": {
                "outlinewidth": 0,
                "ticks": ""
               }
              },
              "type": "scatterpolargl"
             }
            ],
            "scatterternary": [
             {
              "marker": {
               "colorbar": {
                "outlinewidth": 0,
                "ticks": ""
               }
              },
              "type": "scatterternary"
             }
            ],
            "surface": [
             {
              "colorbar": {
               "outlinewidth": 0,
               "ticks": ""
              },
              "colorscale": [
               [
                0,
                "#0d0887"
               ],
               [
                0.1111111111111111,
                "#46039f"
               ],
               [
                0.2222222222222222,
                "#7201a8"
               ],
               [
                0.3333333333333333,
                "#9c179e"
               ],
               [
                0.4444444444444444,
                "#bd3786"
               ],
               [
                0.5555555555555556,
                "#d8576b"
               ],
               [
                0.6666666666666666,
                "#ed7953"
               ],
               [
                0.7777777777777778,
                "#fb9f3a"
               ],
               [
                0.8888888888888888,
                "#fdca26"
               ],
               [
                1,
                "#f0f921"
               ]
              ],
              "type": "surface"
             }
            ],
            "table": [
             {
              "cells": {
               "fill": {
                "color": "#EBF0F8"
               },
               "line": {
                "color": "white"
               }
              },
              "header": {
               "fill": {
                "color": "#C8D4E3"
               },
               "line": {
                "color": "white"
               }
              },
              "type": "table"
             }
            ]
           },
           "layout": {
            "annotationdefaults": {
             "arrowcolor": "#2a3f5f",
             "arrowhead": 0,
             "arrowwidth": 1
            },
            "autotypenumbers": "strict",
            "coloraxis": {
             "colorbar": {
              "outlinewidth": 0,
              "ticks": ""
             }
            },
            "colorscale": {
             "diverging": [
              [
               0,
               "#8e0152"
              ],
              [
               0.1,
               "#c51b7d"
              ],
              [
               0.2,
               "#de77ae"
              ],
              [
               0.3,
               "#f1b6da"
              ],
              [
               0.4,
               "#fde0ef"
              ],
              [
               0.5,
               "#f7f7f7"
              ],
              [
               0.6,
               "#e6f5d0"
              ],
              [
               0.7,
               "#b8e186"
              ],
              [
               0.8,
               "#7fbc41"
              ],
              [
               0.9,
               "#4d9221"
              ],
              [
               1,
               "#276419"
              ]
             ],
             "sequential": [
              [
               0,
               "#0d0887"
              ],
              [
               0.1111111111111111,
               "#46039f"
              ],
              [
               0.2222222222222222,
               "#7201a8"
              ],
              [
               0.3333333333333333,
               "#9c179e"
              ],
              [
               0.4444444444444444,
               "#bd3786"
              ],
              [
               0.5555555555555556,
               "#d8576b"
              ],
              [
               0.6666666666666666,
               "#ed7953"
              ],
              [
               0.7777777777777778,
               "#fb9f3a"
              ],
              [
               0.8888888888888888,
               "#fdca26"
              ],
              [
               1,
               "#f0f921"
              ]
             ],
             "sequentialminus": [
              [
               0,
               "#0d0887"
              ],
              [
               0.1111111111111111,
               "#46039f"
              ],
              [
               0.2222222222222222,
               "#7201a8"
              ],
              [
               0.3333333333333333,
               "#9c179e"
              ],
              [
               0.4444444444444444,
               "#bd3786"
              ],
              [
               0.5555555555555556,
               "#d8576b"
              ],
              [
               0.6666666666666666,
               "#ed7953"
              ],
              [
               0.7777777777777778,
               "#fb9f3a"
              ],
              [
               0.8888888888888888,
               "#fdca26"
              ],
              [
               1,
               "#f0f921"
              ]
             ]
            },
            "colorway": [
             "#636efa",
             "#EF553B",
             "#00cc96",
             "#ab63fa",
             "#FFA15A",
             "#19d3f3",
             "#FF6692",
             "#B6E880",
             "#FF97FF",
             "#FECB52"
            ],
            "font": {
             "color": "#2a3f5f"
            },
            "geo": {
             "bgcolor": "white",
             "lakecolor": "white",
             "landcolor": "white",
             "showlakes": true,
             "showland": true,
             "subunitcolor": "#C8D4E3"
            },
            "hoverlabel": {
             "align": "left"
            },
            "hovermode": "closest",
            "mapbox": {
             "style": "light"
            },
            "paper_bgcolor": "white",
            "plot_bgcolor": "white",
            "polar": {
             "angularaxis": {
              "gridcolor": "#EBF0F8",
              "linecolor": "#EBF0F8",
              "ticks": ""
             },
             "bgcolor": "white",
             "radialaxis": {
              "gridcolor": "#EBF0F8",
              "linecolor": "#EBF0F8",
              "ticks": ""
             }
            },
            "scene": {
             "xaxis": {
              "backgroundcolor": "white",
              "gridcolor": "#DFE8F3",
              "gridwidth": 2,
              "linecolor": "#EBF0F8",
              "showbackground": true,
              "ticks": "",
              "zerolinecolor": "#EBF0F8"
             },
             "yaxis": {
              "backgroundcolor": "white",
              "gridcolor": "#DFE8F3",
              "gridwidth": 2,
              "linecolor": "#EBF0F8",
              "showbackground": true,
              "ticks": "",
              "zerolinecolor": "#EBF0F8"
             },
             "zaxis": {
              "backgroundcolor": "white",
              "gridcolor": "#DFE8F3",
              "gridwidth": 2,
              "linecolor": "#EBF0F8",
              "showbackground": true,
              "ticks": "",
              "zerolinecolor": "#EBF0F8"
             }
            },
            "shapedefaults": {
             "line": {
              "color": "#2a3f5f"
             }
            },
            "ternary": {
             "aaxis": {
              "gridcolor": "#DFE8F3",
              "linecolor": "#A2B1C6",
              "ticks": ""
             },
             "baxis": {
              "gridcolor": "#DFE8F3",
              "linecolor": "#A2B1C6",
              "ticks": ""
             },
             "bgcolor": "white",
             "caxis": {
              "gridcolor": "#DFE8F3",
              "linecolor": "#A2B1C6",
              "ticks": ""
             }
            },
            "title": {
             "x": 0.05
            },
            "xaxis": {
             "automargin": true,
             "gridcolor": "#EBF0F8",
             "linecolor": "#EBF0F8",
             "ticks": "",
             "title": {
              "standoff": 15
             },
             "zerolinecolor": "#EBF0F8",
             "zerolinewidth": 2
            },
            "yaxis": {
             "automargin": true,
             "gridcolor": "#EBF0F8",
             "linecolor": "#EBF0F8",
             "ticks": "",
             "title": {
              "standoff": 15
             },
             "zerolinecolor": "#EBF0F8",
             "zerolinewidth": 2
            }
           }
          },
          "xaxis": {
           "automargin": false,
           "linecolor": "#444",
           "linewidth": 2,
           "minor": {
            "tickmode": "linear",
            "ticks": "outside"
           },
           "mirror": true,
           "showline": true,
           "tickmode": "linear",
           "ticks": "outside",
           "zeroline": false
          },
          "yaxis": {
           "automargin": true,
           "linecolor": "#444",
           "linewidth": 2,
           "minor": {
            "tickmode": "linear",
            "ticks": "outside"
           },
           "mirror": true,
           "showline": true,
           "ticks": "outside",
           "zeroline": false
          }
         }
        },
        "width": 600,
        "xaxis": {
         "automargin": true,
         "range": [
          -0.5,
          14.5
         ]
        },
        "yaxis": {
         "automargin": true,
         "dtick": 5,
         "minor": {
          "dtick": 2.5,
          "tick0": 0
         },
         "range": [
          -1,
          35
         ],
         "tick0": 0,
         "title": {
          "text": "percent immune"
         }
        }
       }
      }
     },
     "metadata": {},
     "output_type": "display_data"
    }
   ],
   "source": [
    "# Fig. 1: Plots the average probability that a monster is immune to each condition\n",
    "#df1 = df0[df0['Category'].isin(['generic','legendary','unique']) & df0['CR'].between(1/8, 30)]\n",
    "df1 = df0[df0['CR'].between(1/8, 30)]\n",
    "\n",
    "conditions = CONDITIONS.copy()\n",
    "\n",
    "# create custom text\n",
    "total_monsters = df1.shape[0]\n",
    "total_immune = [int(df1[c].sum().tolist()) for c in conditions]\n",
    "pct_immune = [100*df1[c].mean().tolist() for c in conditions]\n",
    "custom_text = [f'{p:.0f}% ({i} out of {total_monsters})' for p, i in zip(pct_immune, total_immune)]\n",
    "\n",
    "# create figure\n",
    "fig = go.Figure(\n",
    "    layout=go.Layout(\n",
    "        template=tfb.FIG_TEMPLATE,\n",
    "        xaxis=dict(\n",
    "            range=[-0.5, len(conditions)-0.5],\n",
    "            automargin=True,\n",
    "        ),\n",
    "        yaxis=dict(\n",
    "            title_text='percent immune',\n",
    "            automargin=True,\n",
    "            range=[-1, 35],\n",
    "            tick0=0, dtick=5,\n",
    "            minor=dict(tick0=0, dtick=2.5),\n",
    "        )\n",
    "    )\n",
    ")\n",
    "\n",
    "fig.add_trace(go.Scatter(\n",
    "    x=conditions,\n",
    "    y=pct_immune,\n",
    "    mode='markers', \n",
    "    marker=dict(size=10, line=dict(width=1, color='Black')),\n",
    "    text=custom_text,\n",
    "    unselected=dict(marker=dict(opacity=0.0)),\n",
    "    hovertemplate=\n",
    "        '<b>Condition:</b> %{x}<br>'+\n",
    "        '<b>Immune:</b> %{text}'+\n",
    "        '<extra></extra>'\n",
    "))\n",
    "\n",
    "# show figure\n",
    "fig.update_layout(width=600, height=450)\n",
    "fig.show(config=tfb.FIG_CONFIG)\n",
    "\n",
    "# save figures\n",
    "if SAVEFIGS:\n",
    "    fig.update_layout(autosize=True, width=None, height=None)\n",
    "    tfb.save_fig_html(fig, format='large', name=f'./fig-condition-immunity-probability-large', style='aspect-ratio:600/450')\n",
    "    tfb.save_fig_html(fig, format='small', name=f'./fig-condition-immunity-probability-small', style='aspect-ratio:600/500')"
   ]
  },
  {
   "cell_type": "code",
   "execution_count": 5,
   "metadata": {},
   "outputs": [
    {
     "name": "stdout",
     "output_type": "stream",
     "text": [
      "Total number of monsters: 2117\n"
     ]
    },
    {
     "data": {
      "application/vnd.plotly.v1+json": {
       "config": {
        "autosizable": true,
        "displayModeBar": "hover",
        "displaylogo": false,
        "doubleClick": "reset",
        "modeBarButtonsToRemove": [
         "select2d",
         "lasso2d",
         "zoom2d",
         "zoomIn2d",
         "zoomOut2d",
         "pan2d",
         "autoScale2d",
         "hoverClosestCartesian",
         "hoverCompareCartesian",
         "toggleSpikelines",
         "resetScale2d"
        ],
        "plotlyServerURL": "https://plot.ly",
        "responsive": true,
        "showAxisDragHandles": false,
        "toImageButtonOptions": {
         "filename": "tfb-plot",
         "format": "png",
         "height": 450,
         "scale": 2,
         "width": 600
        }
       },
       "data": [
        {
         "colorscale": [
          [
           0,
           "rgb(247,251,255)"
          ],
          [
           0.125,
           "rgb(222,235,247)"
          ],
          [
           0.25,
           "rgb(198,219,239)"
          ],
          [
           0.375,
           "rgb(158,202,225)"
          ],
          [
           0.5,
           "rgb(107,174,214)"
          ],
          [
           0.625,
           "rgb(66,146,198)"
          ],
          [
           0.75,
           "rgb(33,113,181)"
          ],
          [
           0.875,
           "rgb(8,81,156)"
          ],
          [
           1,
           "rgb(8,48,107)"
          ]
         ],
         "hoverongaps": false,
         "hovertemplate": "<b>Type:</b> %{x}<br><b>Condition:</b> %{y}<br><b>Immune:</b> %{z:.0f}% (%{text})<extra></extra>",
         "showscale": false,
         "text": [
          [
           "23 out of 137",
           "0 out of 126",
           "1 out of 45",
           "30 out of 130",
           "5 out of 135",
           "0 out of 86",
           "1 out of 78",
           "10 out of 204",
           "0 out of 91",
           "6 out of 573",
           "5 out of 258",
           "16 out of 20",
           "22 out of 51",
           "12 out of 183"
          ],
          [
           "39 out of 137",
           "12 out of 126",
           "21 out of 45",
           "99 out of 130",
           "23 out of 135",
           "10 out of 86",
           "15 out of 78",
           "98 out of 204",
           "13 out of 91",
           "37 out of 573",
           "32 out of 258",
           "14 out of 20",
           "10 out of 51",
           "97 out of 183"
          ],
          [
           "3 out of 137",
           "0 out of 126",
           "0 out of 45",
           "32 out of 130",
           "2 out of 135",
           "0 out of 86",
           "0 out of 78",
           "6 out of 204",
           "0 out of 91",
           "1 out of 573",
           "3 out of 258",
           "16 out of 20",
           "18 out of 51",
           "13 out of 183"
          ],
          [
           "11 out of 137",
           "0 out of 126",
           "21 out of 45",
           "100 out of 130",
           "0 out of 135",
           "41 out of 86",
           "4 out of 78",
           "61 out of 204",
           "7 out of 91",
           "12 out of 573",
           "6 out of 258",
           "17 out of 20",
           "6 out of 51",
           "139 out of 183"
          ],
          [
           "41 out of 137",
           "12 out of 126",
           "22 out of 45",
           "94 out of 130",
           "26 out of 135",
           "10 out of 86",
           "13 out of 78",
           "96 out of 204",
           "21 out of 91",
           "45 out of 573",
           "33 out of 258",
           "8 out of 20",
           "12 out of 51",
           "95 out of 183"
          ],
          [
           "6 out of 137",
           "11 out of 126",
           "4 out of 45",
           "6 out of 130",
           "0 out of 135",
           "21 out of 86",
           "1 out of 78",
           "10 out of 204",
           "2 out of 91",
           "0 out of 573",
           "2 out of 258",
           "3 out of 20",
           "1 out of 51",
           "38 out of 183"
          ],
          [
           "0 out of 137",
           "0 out of 126",
           "0 out of 45",
           "1 out of 130",
           "0 out of 135",
           "0 out of 86",
           "0 out of 78",
           "0 out of 204",
           "0 out of 91",
           "0 out of 573",
           "0 out of 258",
           "0 out of 20",
           "0 out of 51",
           "0 out of 183"
          ],
          [
           "0 out of 137",
           "0 out of 126",
           "0 out of 45",
           "0 out of 130",
           "0 out of 135",
           "0 out of 86",
           "0 out of 78",
           "0 out of 204",
           "0 out of 91",
           "0 out of 573",
           "0 out of 258",
           "0 out of 20",
           "0 out of 51",
           "0 out of 183"
          ],
          [
           "9 out of 137",
           "12 out of 126",
           "9 out of 45",
           "95 out of 130",
           "1 out of 135",
           "54 out of 86",
           "2 out of 78",
           "14 out of 204",
           "9 out of 91",
           "4 out of 573",
           "13 out of 258",
           "2 out of 20",
           "5 out of 51",
           "78 out of 183"
          ],
          [
           "11 out of 137",
           "11 out of 126",
           "4 out of 45",
           "82 out of 130",
           "0 out of 135",
           "55 out of 86",
           "0 out of 78",
           "10 out of 204",
           "8 out of 91",
           "2 out of 573",
           "10 out of 258",
           "2 out of 20",
           "1 out of 51",
           "46 out of 183"
          ],
          [
           "13 out of 137",
           "0 out of 126",
           "9 out of 45",
           "115 out of 130",
           "18 out of 135",
           "69 out of 86",
           "8 out of 78",
           "174 out of 204",
           "8 out of 91",
           "27 out of 573",
           "34 out of 258",
           "1 out of 20",
           "4 out of 51",
           "158 out of 183"
          ],
          [
           "29 out of 137",
           "11 out of 126",
           "2 out of 45",
           "12 out of 130",
           "7 out of 135",
           "39 out of 86",
           "0 out of 78",
           "8 out of 204",
           "3 out of 91",
           "0 out of 573",
           "9 out of 258",
           "16 out of 20",
           "9 out of 51",
           "47 out of 183"
          ],
          [
           "8 out of 137",
           "11 out of 126",
           "4 out of 45",
           "3 out of 130",
           "0 out of 135",
           "29 out of 86",
           "0 out of 78",
           "13 out of 204",
           "2 out of 91",
           "0 out of 573",
           "3 out of 258",
           "3 out of 20",
           "1 out of 51",
           "38 out of 183"
          ],
          [
           "6 out of 137",
           "9 out of 126",
           "3 out of 45",
           "7 out of 130",
           "2 out of 135",
           "12 out of 86",
           "1 out of 78",
           "10 out of 204",
           "0 out of 91",
           "2 out of 573",
           "7 out of 258",
           "0 out of 20",
           "1 out of 51",
           "17 out of 183"
          ],
          [
           "1 out of 137",
           "0 out of 126",
           "1 out of 45",
           "13 out of 130",
           "0 out of 135",
           "16 out of 86",
           "0 out of 78",
           "5 out of 204",
           "2 out of 91",
           "0 out of 573",
           "0 out of 258",
           "2 out of 20",
           "0 out of 51",
           "14 out of 183"
          ]
         ],
         "texttemplate": "%{z:.0f}",
         "type": "heatmap",
         "x": [
          "aberration",
          "beast",
          "celestial",
          "construct",
          "dragon",
          "elemental",
          "fey",
          "fiend",
          "giant",
          "humanoid",
          "monstrosity",
          "ooze",
          "plant",
          "undead"
         ],
         "y": [
          "blinded",
          "charmed",
          "deafened",
          "exhaustion",
          "frightened",
          "grappled",
          "incapacitated",
          "invisible",
          "paralyzed",
          "petrified",
          "poisoned",
          "prone",
          "restrained",
          "stunned",
          "unconscious"
         ],
         "z": [
          [
           16,
           0,
           2,
           23,
           3,
           0,
           1,
           4,
           0,
           1,
           1,
           80,
           43,
           6
          ],
          [
           28,
           9,
           46,
           76,
           17,
           11,
           19,
           48,
           14,
           6,
           12,
           70,
           19,
           53
          ],
          [
           2,
           0,
           0,
           24,
           1,
           0,
           0,
           2,
           0,
           0,
           1,
           80,
           35,
           7
          ],
          [
           8,
           0,
           46,
           76,
           0,
           47,
           5,
           29,
           7,
           2,
           2,
           85,
           11,
           75
          ],
          [
           29,
           9,
           48,
           72,
           19,
           11,
           16,
           47,
           23,
           7,
           12,
           40,
           23,
           51
          ],
          [
           4,
           8,
           8,
           4,
           0,
           24,
           1,
           4,
           2,
           0,
           0,
           15,
           1,
           20
          ],
          [
           0,
           0,
           0,
           0,
           0,
           0,
           0,
           0,
           0,
           0,
           0,
           0,
           0,
           0
          ],
          [
           0,
           0,
           0,
           0,
           0,
           0,
           0,
           0,
           0,
           0,
           0,
           0,
           0,
           0
          ],
          [
           6,
           9,
           20,
           73,
           0,
           62,
           2,
           6,
           9,
           0,
           5,
           10,
           9,
           42
          ],
          [
           8,
           8,
           8,
           63,
           0,
           63,
           0,
           4,
           8,
           0,
           3,
           10,
           1,
           25
          ],
          [
           9,
           0,
           20,
           88,
           13,
           80,
           10,
           85,
           8,
           4,
           13,
           5,
           7,
           86
          ],
          [
           21,
           8,
           4,
           9,
           5,
           45,
           0,
           3,
           3,
           0,
           3,
           80,
           17,
           25
          ],
          [
           5,
           8,
           8,
           2,
           0,
           33,
           0,
           6,
           2,
           0,
           1,
           15,
           1,
           20
          ],
          [
           4,
           7,
           6,
           5,
           1,
           13,
           1,
           4,
           0,
           0,
           2,
           0,
           1,
           9
          ],
          [
           0,
           0,
           2,
           10,
           0,
           18,
           0,
           2,
           2,
           0,
           0,
           10,
           0,
           7
          ]
         ],
         "zmax": 120,
         "zmin": 0
        }
       ],
       "layout": {
        "font": {
         "size": 12
        },
        "height": 500,
        "template": {
         "layout": {
          "autosize": false,
          "font": {
           "family": "sans-serif",
           "size": 14
          },
          "hoverlabel": {
           "align": "left"
          },
          "hovermode": "closest",
          "margin": {
           "b": 55,
           "l": 60,
           "pad": 4,
           "r": 25,
           "t": 20
          },
          "template": {
           "data": {
            "bar": [
             {
              "error_x": {
               "color": "#2a3f5f"
              },
              "error_y": {
               "color": "#2a3f5f"
              },
              "marker": {
               "line": {
                "color": "white",
                "width": 0.5
               },
               "pattern": {
                "fillmode": "overlay",
                "size": 10,
                "solidity": 0.2
               }
              },
              "type": "bar"
             }
            ],
            "barpolar": [
             {
              "marker": {
               "line": {
                "color": "white",
                "width": 0.5
               },
               "pattern": {
                "fillmode": "overlay",
                "size": 10,
                "solidity": 0.2
               }
              },
              "type": "barpolar"
             }
            ],
            "carpet": [
             {
              "aaxis": {
               "endlinecolor": "#2a3f5f",
               "gridcolor": "#C8D4E3",
               "linecolor": "#C8D4E3",
               "minorgridcolor": "#C8D4E3",
               "startlinecolor": "#2a3f5f"
              },
              "baxis": {
               "endlinecolor": "#2a3f5f",
               "gridcolor": "#C8D4E3",
               "linecolor": "#C8D4E3",
               "minorgridcolor": "#C8D4E3",
               "startlinecolor": "#2a3f5f"
              },
              "type": "carpet"
             }
            ],
            "choropleth": [
             {
              "colorbar": {
               "outlinewidth": 0,
               "ticks": ""
              },
              "type": "choropleth"
             }
            ],
            "contour": [
             {
              "colorbar": {
               "outlinewidth": 0,
               "ticks": ""
              },
              "colorscale": [
               [
                0,
                "#0d0887"
               ],
               [
                0.1111111111111111,
                "#46039f"
               ],
               [
                0.2222222222222222,
                "#7201a8"
               ],
               [
                0.3333333333333333,
                "#9c179e"
               ],
               [
                0.4444444444444444,
                "#bd3786"
               ],
               [
                0.5555555555555556,
                "#d8576b"
               ],
               [
                0.6666666666666666,
                "#ed7953"
               ],
               [
                0.7777777777777778,
                "#fb9f3a"
               ],
               [
                0.8888888888888888,
                "#fdca26"
               ],
               [
                1,
                "#f0f921"
               ]
              ],
              "type": "contour"
             }
            ],
            "contourcarpet": [
             {
              "colorbar": {
               "outlinewidth": 0,
               "ticks": ""
              },
              "type": "contourcarpet"
             }
            ],
            "heatmap": [
             {
              "colorbar": {
               "outlinewidth": 0,
               "ticks": ""
              },
              "colorscale": [
               [
                0,
                "#0d0887"
               ],
               [
                0.1111111111111111,
                "#46039f"
               ],
               [
                0.2222222222222222,
                "#7201a8"
               ],
               [
                0.3333333333333333,
                "#9c179e"
               ],
               [
                0.4444444444444444,
                "#bd3786"
               ],
               [
                0.5555555555555556,
                "#d8576b"
               ],
               [
                0.6666666666666666,
                "#ed7953"
               ],
               [
                0.7777777777777778,
                "#fb9f3a"
               ],
               [
                0.8888888888888888,
                "#fdca26"
               ],
               [
                1,
                "#f0f921"
               ]
              ],
              "type": "heatmap"
             }
            ],
            "heatmapgl": [
             {
              "colorbar": {
               "outlinewidth": 0,
               "ticks": ""
              },
              "colorscale": [
               [
                0,
                "#0d0887"
               ],
               [
                0.1111111111111111,
                "#46039f"
               ],
               [
                0.2222222222222222,
                "#7201a8"
               ],
               [
                0.3333333333333333,
                "#9c179e"
               ],
               [
                0.4444444444444444,
                "#bd3786"
               ],
               [
                0.5555555555555556,
                "#d8576b"
               ],
               [
                0.6666666666666666,
                "#ed7953"
               ],
               [
                0.7777777777777778,
                "#fb9f3a"
               ],
               [
                0.8888888888888888,
                "#fdca26"
               ],
               [
                1,
                "#f0f921"
               ]
              ],
              "type": "heatmapgl"
             }
            ],
            "histogram": [
             {
              "marker": {
               "pattern": {
                "fillmode": "overlay",
                "size": 10,
                "solidity": 0.2
               }
              },
              "type": "histogram"
             }
            ],
            "histogram2d": [
             {
              "colorbar": {
               "outlinewidth": 0,
               "ticks": ""
              },
              "colorscale": [
               [
                0,
                "#0d0887"
               ],
               [
                0.1111111111111111,
                "#46039f"
               ],
               [
                0.2222222222222222,
                "#7201a8"
               ],
               [
                0.3333333333333333,
                "#9c179e"
               ],
               [
                0.4444444444444444,
                "#bd3786"
               ],
               [
                0.5555555555555556,
                "#d8576b"
               ],
               [
                0.6666666666666666,
                "#ed7953"
               ],
               [
                0.7777777777777778,
                "#fb9f3a"
               ],
               [
                0.8888888888888888,
                "#fdca26"
               ],
               [
                1,
                "#f0f921"
               ]
              ],
              "type": "histogram2d"
             }
            ],
            "histogram2dcontour": [
             {
              "colorbar": {
               "outlinewidth": 0,
               "ticks": ""
              },
              "colorscale": [
               [
                0,
                "#0d0887"
               ],
               [
                0.1111111111111111,
                "#46039f"
               ],
               [
                0.2222222222222222,
                "#7201a8"
               ],
               [
                0.3333333333333333,
                "#9c179e"
               ],
               [
                0.4444444444444444,
                "#bd3786"
               ],
               [
                0.5555555555555556,
                "#d8576b"
               ],
               [
                0.6666666666666666,
                "#ed7953"
               ],
               [
                0.7777777777777778,
                "#fb9f3a"
               ],
               [
                0.8888888888888888,
                "#fdca26"
               ],
               [
                1,
                "#f0f921"
               ]
              ],
              "type": "histogram2dcontour"
             }
            ],
            "mesh3d": [
             {
              "colorbar": {
               "outlinewidth": 0,
               "ticks": ""
              },
              "type": "mesh3d"
             }
            ],
            "parcoords": [
             {
              "line": {
               "colorbar": {
                "outlinewidth": 0,
                "ticks": ""
               }
              },
              "type": "parcoords"
             }
            ],
            "pie": [
             {
              "automargin": true,
              "type": "pie"
             }
            ],
            "scatter": [
             {
              "fillpattern": {
               "fillmode": "overlay",
               "size": 10,
               "solidity": 0.2
              },
              "type": "scatter"
             }
            ],
            "scatter3d": [
             {
              "line": {
               "colorbar": {
                "outlinewidth": 0,
                "ticks": ""
               }
              },
              "marker": {
               "colorbar": {
                "outlinewidth": 0,
                "ticks": ""
               }
              },
              "type": "scatter3d"
             }
            ],
            "scattercarpet": [
             {
              "marker": {
               "colorbar": {
                "outlinewidth": 0,
                "ticks": ""
               }
              },
              "type": "scattercarpet"
             }
            ],
            "scattergeo": [
             {
              "marker": {
               "colorbar": {
                "outlinewidth": 0,
                "ticks": ""
               }
              },
              "type": "scattergeo"
             }
            ],
            "scattergl": [
             {
              "marker": {
               "colorbar": {
                "outlinewidth": 0,
                "ticks": ""
               }
              },
              "type": "scattergl"
             }
            ],
            "scattermapbox": [
             {
              "marker": {
               "colorbar": {
                "outlinewidth": 0,
                "ticks": ""
               }
              },
              "type": "scattermapbox"
             }
            ],
            "scatterpolar": [
             {
              "marker": {
               "colorbar": {
                "outlinewidth": 0,
                "ticks": ""
               }
              },
              "type": "scatterpolar"
             }
            ],
            "scatterpolargl": [
             {
              "marker": {
               "colorbar": {
                "outlinewidth": 0,
                "ticks": ""
               }
              },
              "type": "scatterpolargl"
             }
            ],
            "scatterternary": [
             {
              "marker": {
               "colorbar": {
                "outlinewidth": 0,
                "ticks": ""
               }
              },
              "type": "scatterternary"
             }
            ],
            "surface": [
             {
              "colorbar": {
               "outlinewidth": 0,
               "ticks": ""
              },
              "colorscale": [
               [
                0,
                "#0d0887"
               ],
               [
                0.1111111111111111,
                "#46039f"
               ],
               [
                0.2222222222222222,
                "#7201a8"
               ],
               [
                0.3333333333333333,
                "#9c179e"
               ],
               [
                0.4444444444444444,
                "#bd3786"
               ],
               [
                0.5555555555555556,
                "#d8576b"
               ],
               [
                0.6666666666666666,
                "#ed7953"
               ],
               [
                0.7777777777777778,
                "#fb9f3a"
               ],
               [
                0.8888888888888888,
                "#fdca26"
               ],
               [
                1,
                "#f0f921"
               ]
              ],
              "type": "surface"
             }
            ],
            "table": [
             {
              "cells": {
               "fill": {
                "color": "#EBF0F8"
               },
               "line": {
                "color": "white"
               }
              },
              "header": {
               "fill": {
                "color": "#C8D4E3"
               },
               "line": {
                "color": "white"
               }
              },
              "type": "table"
             }
            ]
           },
           "layout": {
            "annotationdefaults": {
             "arrowcolor": "#2a3f5f",
             "arrowhead": 0,
             "arrowwidth": 1
            },
            "autotypenumbers": "strict",
            "coloraxis": {
             "colorbar": {
              "outlinewidth": 0,
              "ticks": ""
             }
            },
            "colorscale": {
             "diverging": [
              [
               0,
               "#8e0152"
              ],
              [
               0.1,
               "#c51b7d"
              ],
              [
               0.2,
               "#de77ae"
              ],
              [
               0.3,
               "#f1b6da"
              ],
              [
               0.4,
               "#fde0ef"
              ],
              [
               0.5,
               "#f7f7f7"
              ],
              [
               0.6,
               "#e6f5d0"
              ],
              [
               0.7,
               "#b8e186"
              ],
              [
               0.8,
               "#7fbc41"
              ],
              [
               0.9,
               "#4d9221"
              ],
              [
               1,
               "#276419"
              ]
             ],
             "sequential": [
              [
               0,
               "#0d0887"
              ],
              [
               0.1111111111111111,
               "#46039f"
              ],
              [
               0.2222222222222222,
               "#7201a8"
              ],
              [
               0.3333333333333333,
               "#9c179e"
              ],
              [
               0.4444444444444444,
               "#bd3786"
              ],
              [
               0.5555555555555556,
               "#d8576b"
              ],
              [
               0.6666666666666666,
               "#ed7953"
              ],
              [
               0.7777777777777778,
               "#fb9f3a"
              ],
              [
               0.8888888888888888,
               "#fdca26"
              ],
              [
               1,
               "#f0f921"
              ]
             ],
             "sequentialminus": [
              [
               0,
               "#0d0887"
              ],
              [
               0.1111111111111111,
               "#46039f"
              ],
              [
               0.2222222222222222,
               "#7201a8"
              ],
              [
               0.3333333333333333,
               "#9c179e"
              ],
              [
               0.4444444444444444,
               "#bd3786"
              ],
              [
               0.5555555555555556,
               "#d8576b"
              ],
              [
               0.6666666666666666,
               "#ed7953"
              ],
              [
               0.7777777777777778,
               "#fb9f3a"
              ],
              [
               0.8888888888888888,
               "#fdca26"
              ],
              [
               1,
               "#f0f921"
              ]
             ]
            },
            "colorway": [
             "#636efa",
             "#EF553B",
             "#00cc96",
             "#ab63fa",
             "#FFA15A",
             "#19d3f3",
             "#FF6692",
             "#B6E880",
             "#FF97FF",
             "#FECB52"
            ],
            "font": {
             "color": "#2a3f5f"
            },
            "geo": {
             "bgcolor": "white",
             "lakecolor": "white",
             "landcolor": "white",
             "showlakes": true,
             "showland": true,
             "subunitcolor": "#C8D4E3"
            },
            "hoverlabel": {
             "align": "left"
            },
            "hovermode": "closest",
            "mapbox": {
             "style": "light"
            },
            "paper_bgcolor": "white",
            "plot_bgcolor": "white",
            "polar": {
             "angularaxis": {
              "gridcolor": "#EBF0F8",
              "linecolor": "#EBF0F8",
              "ticks": ""
             },
             "bgcolor": "white",
             "radialaxis": {
              "gridcolor": "#EBF0F8",
              "linecolor": "#EBF0F8",
              "ticks": ""
             }
            },
            "scene": {
             "xaxis": {
              "backgroundcolor": "white",
              "gridcolor": "#DFE8F3",
              "gridwidth": 2,
              "linecolor": "#EBF0F8",
              "showbackground": true,
              "ticks": "",
              "zerolinecolor": "#EBF0F8"
             },
             "yaxis": {
              "backgroundcolor": "white",
              "gridcolor": "#DFE8F3",
              "gridwidth": 2,
              "linecolor": "#EBF0F8",
              "showbackground": true,
              "ticks": "",
              "zerolinecolor": "#EBF0F8"
             },
             "zaxis": {
              "backgroundcolor": "white",
              "gridcolor": "#DFE8F3",
              "gridwidth": 2,
              "linecolor": "#EBF0F8",
              "showbackground": true,
              "ticks": "",
              "zerolinecolor": "#EBF0F8"
             }
            },
            "shapedefaults": {
             "line": {
              "color": "#2a3f5f"
             }
            },
            "ternary": {
             "aaxis": {
              "gridcolor": "#DFE8F3",
              "linecolor": "#A2B1C6",
              "ticks": ""
             },
             "baxis": {
              "gridcolor": "#DFE8F3",
              "linecolor": "#A2B1C6",
              "ticks": ""
             },
             "bgcolor": "white",
             "caxis": {
              "gridcolor": "#DFE8F3",
              "linecolor": "#A2B1C6",
              "ticks": ""
             }
            },
            "title": {
             "x": 0.05
            },
            "xaxis": {
             "automargin": true,
             "gridcolor": "#EBF0F8",
             "linecolor": "#EBF0F8",
             "ticks": "",
             "title": {
              "standoff": 15
             },
             "zerolinecolor": "#EBF0F8",
             "zerolinewidth": 2
            },
            "yaxis": {
             "automargin": true,
             "gridcolor": "#EBF0F8",
             "linecolor": "#EBF0F8",
             "ticks": "",
             "title": {
              "standoff": 15
             },
             "zerolinecolor": "#EBF0F8",
             "zerolinewidth": 2
            }
           }
          },
          "xaxis": {
           "automargin": false,
           "linecolor": "#444",
           "linewidth": 2,
           "minor": {
            "tickmode": "linear",
            "ticks": "outside"
           },
           "mirror": true,
           "showline": true,
           "tickmode": "linear",
           "ticks": "outside",
           "zeroline": false
          },
          "yaxis": {
           "automargin": true,
           "linecolor": "#444",
           "linewidth": 2,
           "minor": {
            "tickmode": "linear",
            "ticks": "outside"
           },
           "mirror": true,
           "showline": true,
           "ticks": "outside",
           "zeroline": false
          }
         }
        },
        "width": 1000,
        "xaxis": {
         "automargin": true,
         "autorange": true,
         "showgrid": false,
         "title": {
          "text": ""
         }
        },
        "yaxis": {
         "automargin": true,
         "autorange": true,
         "showgrid": false,
         "title": {
          "text": ""
         }
        }
       }
      }
     },
     "metadata": {},
     "output_type": "display_data"
    }
   ],
   "source": [
    "# Fig. 2: Calculates the probability of a monster for each being immune to each condition.\n",
    "#df1 = df0[df0['Category'].isin(['generic','legendary','unique']) & df0['CR'].between(1/8, 30)]\n",
    "df1 = df0[df0['CR'].between(1/8, 30)]\n",
    "\n",
    "# get the total number of monsters from each type\n",
    "dfG = df1.groupby(['Type'], observed=False).count().reset_index()\n",
    "type_totals = dfG['Book'].to_list()\n",
    "print('Total number of monsters:', np.sum(type_totals))\n",
    "\n",
    "# get the number of monsters immune to each condition for each type\n",
    "dfG = df1[['Type'] + CONDITIONS].groupby(['Type'], observed=False).sum().reset_index()\n",
    "\n",
    "# construct custom text for each cell\n",
    "custom_texts = []\n",
    "for c in CONDITIONS:\n",
    "    type_immune = dfG[c].to_list()\n",
    "    custom_texts.append([f'{i:.0f} out of {t}' for i, t in zip(type_immune, type_totals)])\n",
    "\n",
    "# get percent of each type immune to each condition\n",
    "dfG = df1[['Type'] + CONDITIONS].groupby(['Type'], observed=False).mean().reset_index()\n",
    "z = []\n",
    "conditions = CONDITIONS.copy()\n",
    "for condition in conditions:\n",
    "    row = dfG[condition].tolist()\n",
    "    row = [int(100*v) for v in row]\n",
    "    z.append(row)\n",
    "\n",
    "x = [x.lower() for x in dfG['Type'].tolist()]\n",
    "y = [x.lower() for x in conditions]\n",
    "\n",
    "# create figure\n",
    "fig = go.Figure(\n",
    "    layout=go.Layout(\n",
    "        template=tfb.FIG_TEMPLATE,\n",
    "        font=dict(size=12),\n",
    "        xaxis=dict(\n",
    "            title_text='',\n",
    "            automargin=True,\n",
    "            autorange=True,\n",
    "            showgrid=False,\n",
    "        ),\n",
    "        yaxis=dict(\n",
    "            title_text='',\n",
    "            automargin=True,\n",
    "            autorange=True,\n",
    "            showgrid=False,\n",
    "        ),\n",
    "    )\n",
    ")\n",
    "\n",
    "\n",
    "fig.add_trace(go.Heatmap(\n",
    "    z=z, x=x, y=y,\n",
    "    zmin=0, zmax=120,\n",
    "    hoverongaps=False,\n",
    "    colorscale='blues',\n",
    "    text=custom_texts,\n",
    "    texttemplate='%{z:.0f}',\n",
    "    hovertemplate='<b>Type:</b> %{x}<br>'+\n",
    "                  '<b>Condition:</b> %{y}<br>'+\n",
    "                  '<b>Immune:</b> %{z:.0f}% (%{text})'+\n",
    "                  '<extra></extra>'\n",
    "))\n",
    "fig.update_traces(showscale=False)\n",
    "\n",
    "# show figure\n",
    "fig.update_layout(width=1000, height=500)\n",
    "fig.show(config=tfb.FIG_CONFIG)\n",
    "\n",
    "# save figures\n",
    "if SAVEFIGS:\n",
    "    fig.update_layout(autosize=True, width=None, height=None)\n",
    "    tfb.save_fig_html(fig, format='large', name=f'./fig-condition-immunity-probability-heat-map-large', style='width:1000px; min-width:50%; max-width:100%; max-height:500px; min-height:300px;')\n",
    "    tfb.save_fig_html(fig, format='small', name=f'./fig-condition-immunity-probability-heat-map-small', style='width:1000px; min-width:50%; max-width:100%; max-height:500px; min-height:300px;')"
   ]
  },
  {
   "cell_type": "code",
   "execution_count": 4,
   "metadata": {},
   "outputs": [
    {
     "data": {
      "application/vnd.plotly.v1+json": {
       "config": {
        "autosizable": true,
        "displayModeBar": "hover",
        "displaylogo": false,
        "doubleClick": "reset",
        "modeBarButtonsToRemove": [
         "select2d",
         "lasso2d",
         "zoom2d",
         "zoomIn2d",
         "zoomOut2d",
         "pan2d",
         "autoScale2d",
         "hoverClosestCartesian",
         "hoverCompareCartesian",
         "toggleSpikelines",
         "resetScale2d"
        ],
        "plotlyServerURL": "https://plot.ly",
        "responsive": true,
        "showAxisDragHandles": false,
        "toImageButtonOptions": {
         "filename": "tfb-plot",
         "format": "png",
         "height": 450,
         "scale": 2,
         "width": 600
        }
       },
       "data": [
        {
         "hovertemplate": "<b>CR:</b> %{x}<br><b>Condition:</b> Blinded<br><b>Immune:</b> %{y:.0f}% %{text}<extra></extra>",
         "legendgroup": "Blinded",
         "line": {
          "shape": "spline"
         },
         "marker": {
          "color": "gold",
          "size": 4
         },
         "mode": "markers",
         "name": "Blinded",
         "showlegend": true,
         "text": [
          "(5 out of 59)",
          "(10 out of 123)",
          "(12 out of 114)",
          "(9 out of 145)",
          "(9 out of 217)",
          "(11 out of 194)",
          "(7 out of 136)",
          "(12 out of 175)",
          "(5 out of 96)",
          "(6 out of 107)",
          "(6 out of 100)",
          "(4 out of 80)",
          "(5 out of 67)",
          "(4 out of 65)",
          "(2 out of 54)",
          "(1 out of 51)",
          "(2 out of 38)",
          "(3 out of 33)",
          "(2 out of 35)",
          "(0 out of 28)",
          "(0 out of 26)",
          "(1 out of 17)",
          "(1 out of 19)",
          "(2 out of 26)",
          "(2 out of 24)",
          "(5 out of 31)",
          "(2 out of 19)",
          "(1 out of 13)",
          "(0 out of 14)",
          "(0 out of 4)",
          "(0 out of 3)",
          "(2 out of 4)"
         ],
         "type": "scatter",
         "unselected": {
          "marker": {
           "opacity": 0
          }
         },
         "x": [
          0.125,
          0.25,
          0.5,
          1,
          2,
          3,
          4,
          5,
          6,
          7,
          8,
          9,
          10,
          11,
          12,
          13,
          14,
          15,
          16,
          17,
          18,
          19,
          20,
          21,
          22,
          23,
          24,
          25,
          26,
          27,
          28,
          30
         ],
         "y": [
          8.47457627118644,
          8.130081300813007,
          10.526315789473683,
          6.206896551724138,
          4.147465437788019,
          5.670103092783505,
          5.147058823529411,
          6.857142857142858,
          5.208333333333334,
          5.607476635514018,
          6,
          5,
          7.462686567164178,
          6.153846153846154,
          3.7037037037037033,
          1.9607843137254901,
          5.263157894736842,
          9.090909090909092,
          5.714285714285714,
          0,
          0,
          5.88235294117647,
          5.263157894736842,
          7.6923076923076925,
          8.333333333333332,
          16.129032258064516,
          10.526315789473683,
          7.6923076923076925,
          0,
          0,
          0,
          50
         ]
        },
        {
         "hoverinfo": "skip",
         "legendgroup": "Blinded",
         "legendgrouptitle": {
          "text": "fit"
         },
         "line": {
          "color": "gold",
          "dash": "solid"
         },
         "mode": "lines",
         "showlegend": false,
         "type": "scatter",
         "unselected": {
          "marker": {
           "opacity": 0
          }
         },
         "x": [
          0.125,
          0.25,
          0.5,
          1,
          2,
          3,
          4,
          5,
          6,
          7,
          8,
          9,
          10,
          11,
          12,
          13,
          14,
          15,
          16,
          17,
          18,
          19,
          20,
          21,
          22,
          23,
          24,
          25,
          26,
          27,
          28,
          30
         ],
         "y": [
          4.367739036947828,
          4.393172470950349,
          4.444039338955391,
          4.5457730749654734,
          4.749240546985639,
          4.952708019005806,
          5.156175491025972,
          5.359642963046138,
          5.563110435066304,
          5.76657790708647,
          5.970045379106636,
          6.173512851126802,
          6.376980323146968,
          6.580447795167133,
          6.7839152671873,
          6.987382739207466,
          7.190850211227632,
          7.394317683247799,
          7.597785155267964,
          7.801252627288131,
          8.004720099308297,
          8.208187571328462,
          8.411655043348627,
          8.615122515368794,
          8.818589987388961,
          9.022057459409126,
          9.225524931429293,
          9.42899240344946,
          9.632459875469625,
          9.83592734748979,
          10.039394819509956,
          10.446329763550288
         ]
        },
        {
         "hovertemplate": "<b>CR:</b> %{x}<br><b>Condition:</b> Charmed<br><b>Immune:</b> %{y:.0f}% %{text}<extra></extra>",
         "legendgroup": "Charmed",
         "line": {
          "shape": "spline"
         },
         "marker": {
          "color": "red",
          "size": 4
         },
         "mode": "markers",
         "name": "Charmed",
         "showlegend": true,
         "text": [
          "(5 out of 59)",
          "(13 out of 123)",
          "(11 out of 114)",
          "(28 out of 145)",
          "(28 out of 217)",
          "(21 out of 194)",
          "(28 out of 136)",
          "(41 out of 175)",
          "(26 out of 96)",
          "(15 out of 107)",
          "(29 out of 100)",
          "(14 out of 80)",
          "(20 out of 67)",
          "(20 out of 65)",
          "(18 out of 54)",
          "(16 out of 51)",
          "(13 out of 38)",
          "(12 out of 33)",
          "(19 out of 35)",
          "(11 out of 28)",
          "(20 out of 26)",
          "(7 out of 17)",
          "(8 out of 19)",
          "(19 out of 26)",
          "(14 out of 24)",
          "(21 out of 31)",
          "(14 out of 19)",
          "(8 out of 13)",
          "(12 out of 14)",
          "(2 out of 4)",
          "(3 out of 3)",
          "(4 out of 4)"
         ],
         "type": "scatter",
         "unselected": {
          "marker": {
           "opacity": 0
          }
         },
         "x": [
          0.125,
          0.25,
          0.5,
          1,
          2,
          3,
          4,
          5,
          6,
          7,
          8,
          9,
          10,
          11,
          12,
          13,
          14,
          15,
          16,
          17,
          18,
          19,
          20,
          21,
          22,
          23,
          24,
          25,
          26,
          27,
          28,
          30
         ],
         "y": [
          8.47457627118644,
          10.569105691056912,
          9.649122807017543,
          19.310344827586206,
          12.903225806451612,
          10.824742268041238,
          20.588235294117645,
          23.42857142857143,
          27.083333333333332,
          14.018691588785046,
          28.999999999999996,
          17.5,
          29.850746268656714,
          30.76923076923077,
          33.33333333333333,
          31.372549019607842,
          34.21052631578947,
          36.36363636363637,
          54.285714285714285,
          39.285714285714285,
          76.92307692307693,
          41.17647058823529,
          42.10526315789473,
          73.07692307692307,
          58.333333333333336,
          67.74193548387096,
          73.68421052631578,
          61.53846153846154,
          85.71428571428571,
          50,
          100,
          100
         ]
        },
        {
         "hoverinfo": "skip",
         "legendgroup": "Charmed",
         "legendgrouptitle": {
          "text": "fit"
         },
         "line": {
          "color": "red",
          "dash": "solid"
         },
         "mode": "lines",
         "showlegend": false,
         "type": "scatter",
         "unselected": {
          "marker": {
           "opacity": 0
          }
         },
         "x": [
          0.125,
          0.25,
          0.5,
          1,
          2,
          3,
          4,
          5,
          6,
          7,
          8,
          9,
          10,
          11,
          12,
          13,
          14,
          15,
          16,
          17,
          18,
          19,
          20,
          21,
          22,
          23,
          24,
          25,
          26,
          27,
          28,
          30
         ],
         "y": [
          5.878122314521547,
          6.205877280226294,
          6.861387211635788,
          8.172407074454775,
          10.79444680009275,
          13.416486525730726,
          16.0385262513687,
          18.660565977006677,
          21.282605702644652,
          23.904645428282628,
          26.526685153920603,
          29.14872487955858,
          31.770764605196554,
          34.39280433083453,
          37.014844056472505,
          39.63688378211048,
          42.258923507748456,
          44.88096323338643,
          47.50300295902441,
          50.12504268466238,
          52.74708241030036,
          55.36912213593833,
          57.99116186157631,
          60.613201587214284,
          63.23524131285226,
          65.85728103849024,
          68.47932076412822,
          71.1013604897662,
          73.72340021540417,
          76.34543994104214,
          78.96747966668012,
          84.21155911795607
         ]
        },
        {
         "hovertemplate": "<b>CR:</b> %{x}<br><b>Condition:</b> Deafened<br><b>Immune:</b> %{y:.0f}% %{text}<extra></extra>",
         "legendgroup": "Deafened",
         "line": {
          "shape": "spline"
         },
         "marker": {
          "color": "green",
          "size": 4
         },
         "mode": "markers",
         "name": "Deafened",
         "showlegend": true,
         "text": [
          "(5 out of 59)",
          "(8 out of 123)",
          "(7 out of 114)",
          "(7 out of 145)",
          "(7 out of 217)",
          "(5 out of 194)",
          "(6 out of 136)",
          "(7 out of 175)",
          "(2 out of 96)",
          "(4 out of 107)",
          "(5 out of 100)",
          "(1 out of 80)",
          "(3 out of 67)",
          "(1 out of 65)",
          "(2 out of 54)",
          "(1 out of 51)",
          "(1 out of 38)",
          "(3 out of 33)",
          "(4 out of 35)",
          "(0 out of 28)",
          "(2 out of 26)",
          "(0 out of 17)",
          "(2 out of 19)",
          "(1 out of 26)",
          "(1 out of 24)",
          "(4 out of 31)",
          "(1 out of 19)",
          "(1 out of 13)",
          "(0 out of 14)",
          "(0 out of 4)",
          "(0 out of 3)",
          "(3 out of 4)"
         ],
         "type": "scatter",
         "unselected": {
          "marker": {
           "opacity": 0
          }
         },
         "x": [
          0.125,
          0.25,
          0.5,
          1,
          2,
          3,
          4,
          5,
          6,
          7,
          8,
          9,
          10,
          11,
          12,
          13,
          14,
          15,
          16,
          17,
          18,
          19,
          20,
          21,
          22,
          23,
          24,
          25,
          26,
          27,
          28,
          30
         ],
         "y": [
          8.47457627118644,
          6.504065040650407,
          6.140350877192982,
          4.827586206896552,
          3.225806451612903,
          2.5773195876288657,
          4.411764705882353,
          4,
          2.083333333333333,
          3.7383177570093453,
          5,
          1.25,
          4.477611940298507,
          1.5384615384615385,
          3.7037037037037033,
          1.9607843137254901,
          2.631578947368421,
          9.090909090909092,
          11.428571428571429,
          0,
          7.6923076923076925,
          0,
          10.526315789473683,
          3.8461538461538463,
          4.166666666666666,
          12.903225806451612,
          5.263157894736842,
          7.6923076923076925,
          0,
          0,
          0,
          75
         ]
        },
        {
         "hoverinfo": "skip",
         "legendgroup": "Deafened",
         "legendgrouptitle": {
          "text": "fit"
         },
         "line": {
          "color": "green",
          "dash": "solid"
         },
         "mode": "lines",
         "showlegend": false,
         "type": "scatter",
         "unselected": {
          "marker": {
           "opacity": 0
          }
         },
         "x": [
          0.125,
          0.25,
          0.5,
          1,
          2,
          3,
          4,
          5,
          6,
          7,
          8,
          9,
          10,
          11,
          12,
          13,
          14,
          15,
          16,
          17,
          18,
          19,
          20,
          21,
          22,
          23,
          24,
          25,
          26,
          27,
          28,
          30
         ],
         "y": [
          1.0611334565405317,
          1.1131688610953203,
          1.217239670204897,
          1.4253812884240509,
          1.8416645248623587,
          2.257947761300666,
          2.6742309977389738,
          3.0905142341772818,
          3.506797470615589,
          3.923080707053897,
          4.339363943492204,
          4.755647179930512,
          5.17193041636882,
          5.588213652807127,
          6.004496889245435,
          6.420780125683742,
          6.83706336212205,
          7.253346598560357,
          7.669629834998665,
          8.085913071436973,
          8.50219630787528,
          8.918479544313588,
          9.334762780751896,
          9.751046017190204,
          10.16732925362851,
          10.583612490066818,
          10.999895726505127,
          11.416178962943434,
          11.832462199381741,
          12.24874543582005,
          12.665028672258357,
          13.497595145134971
         ]
        },
        {
         "hovertemplate": "<b>CR:</b> %{x}<br><b>Condition:</b> Exhaustion<br><b>Immune:</b> %{y:.0f}% %{text}<extra></extra>",
         "legendgroup": "Exhaustion",
         "line": {
          "shape": "spline"
         },
         "marker": {
          "color": "orange",
          "size": 4
         },
         "mode": "markers",
         "name": "Exhaustion",
         "showlegend": true,
         "text": [
          "(4 out of 59)",
          "(13 out of 123)",
          "(10 out of 114)",
          "(26 out of 145)",
          "(20 out of 217)",
          "(25 out of 194)",
          "(26 out of 136)",
          "(37 out of 175)",
          "(23 out of 96)",
          "(17 out of 107)",
          "(16 out of 100)",
          "(15 out of 80)",
          "(16 out of 67)",
          "(16 out of 65)",
          "(14 out of 54)",
          "(6 out of 51)",
          "(11 out of 38)",
          "(9 out of 33)",
          "(16 out of 35)",
          "(5 out of 28)",
          "(9 out of 26)",
          "(5 out of 17)",
          "(8 out of 19)",
          "(12 out of 26)",
          "(15 out of 24)",
          "(20 out of 31)",
          "(13 out of 19)",
          "(5 out of 13)",
          "(9 out of 14)",
          "(2 out of 4)",
          "(2 out of 3)",
          "(0 out of 4)"
         ],
         "type": "scatter",
         "unselected": {
          "marker": {
           "opacity": 0
          }
         },
         "x": [
          0.125,
          0.25,
          0.5,
          1,
          2,
          3,
          4,
          5,
          6,
          7,
          8,
          9,
          10,
          11,
          12,
          13,
          14,
          15,
          16,
          17,
          18,
          19,
          20,
          21,
          22,
          23,
          24,
          25,
          26,
          27,
          28,
          30
         ],
         "y": [
          6.779661016949152,
          10.569105691056912,
          8.771929824561402,
          17.93103448275862,
          9.216589861751153,
          12.886597938144329,
          19.11764705882353,
          21.142857142857142,
          23.958333333333336,
          15.887850467289718,
          16,
          18.75,
          23.88059701492537,
          24.615384615384617,
          25.925925925925924,
          11.76470588235294,
          28.947368421052634,
          27.27272727272727,
          45.714285714285715,
          17.857142857142858,
          34.61538461538461,
          29.411764705882355,
          42.10526315789473,
          46.15384615384615,
          62.5,
          64.51612903225806,
          68.42105263157895,
          38.46153846153847,
          64.28571428571429,
          50,
          66.66666666666666,
          0
         ]
        },
        {
         "hoverinfo": "skip",
         "legendgroup": "Exhaustion",
         "legendgrouptitle": {
          "text": "fit"
         },
         "line": {
          "color": "orange",
          "dash": "solid"
         },
         "mode": "lines",
         "showlegend": false,
         "type": "scatter",
         "unselected": {
          "marker": {
           "opacity": 0
          }
         },
         "x": [
          0.125,
          0.25,
          0.5,
          1,
          2,
          3,
          4,
          5,
          6,
          7,
          8,
          9,
          10,
          11,
          12,
          13,
          14,
          15,
          16,
          17,
          18,
          19,
          20,
          21,
          22,
          23,
          24,
          25,
          26,
          27,
          28,
          30
         ],
         "y": [
          9.614199005648306,
          9.800878975631369,
          10.17423891559749,
          10.920958795529735,
          12.414398555394227,
          13.907838315258719,
          15.401278075123209,
          16.8947178349877,
          18.38815759485219,
          19.881597354716682,
          21.375037114581172,
          22.868476874445662,
          24.361916634310155,
          25.855356394174645,
          27.348796154039135,
          28.842235913903625,
          30.33567567376812,
          31.82911543363261,
          33.322555193497095,
          34.81599495336159,
          36.30943471322608,
          37.80287447309057,
          39.29631423295506,
          40.789753992819556,
          42.28319375268404,
          43.77663351254853,
          45.27007327241303,
          46.763513032277515,
          48.256952792142,
          49.7503925520065,
          51.24383231187099,
          54.230711831599976
         ]
        },
        {
         "hovertemplate": "<b>CR:</b> %{x}<br><b>Condition:</b> Frightened<br><b>Immune:</b> %{y:.0f}% %{text}<extra></extra>",
         "legendgroup": "Frightened",
         "line": {
          "shape": "spline"
         },
         "marker": {
          "color": "teal",
          "size": 4
         },
         "mode": "markers",
         "name": "Frightened",
         "showlegend": true,
         "text": [
          "(5 out of 59)",
          "(11 out of 123)",
          "(14 out of 114)",
          "(23 out of 145)",
          "(24 out of 217)",
          "(22 out of 194)",
          "(29 out of 136)",
          "(36 out of 175)",
          "(28 out of 96)",
          "(17 out of 107)",
          "(30 out of 100)",
          "(16 out of 80)",
          "(19 out of 67)",
          "(21 out of 65)",
          "(18 out of 54)",
          "(19 out of 51)",
          "(14 out of 38)",
          "(13 out of 33)",
          "(21 out of 35)",
          "(13 out of 28)",
          "(17 out of 26)",
          "(9 out of 17)",
          "(10 out of 19)",
          "(18 out of 26)",
          "(13 out of 24)",
          "(24 out of 31)",
          "(15 out of 19)",
          "(9 out of 13)",
          "(11 out of 14)",
          "(2 out of 4)",
          "(3 out of 3)",
          "(4 out of 4)"
         ],
         "type": "scatter",
         "unselected": {
          "marker": {
           "opacity": 0
          }
         },
         "x": [
          0.125,
          0.25,
          0.5,
          1,
          2,
          3,
          4,
          5,
          6,
          7,
          8,
          9,
          10,
          11,
          12,
          13,
          14,
          15,
          16,
          17,
          18,
          19,
          20,
          21,
          22,
          23,
          24,
          25,
          26,
          27,
          28,
          30
         ],
         "y": [
          8.47457627118644,
          8.94308943089431,
          12.280701754385964,
          15.862068965517242,
          11.059907834101383,
          11.34020618556701,
          21.323529411764707,
          20.57142857142857,
          29.166666666666668,
          15.887850467289718,
          30,
          20,
          28.35820895522388,
          32.30769230769231,
          33.33333333333333,
          37.254901960784316,
          36.84210526315789,
          39.39393939393939,
          60,
          46.42857142857143,
          65.38461538461539,
          52.94117647058824,
          52.63157894736842,
          69.23076923076923,
          54.166666666666664,
          77.41935483870968,
          78.94736842105263,
          69.23076923076923,
          78.57142857142857,
          50,
          100,
          100
         ]
        },
        {
         "hoverinfo": "skip",
         "legendgroup": "Frightened",
         "legendgrouptitle": {
          "text": "fit"
         },
         "line": {
          "color": "teal",
          "dash": "solid"
         },
         "mode": "lines",
         "showlegend": false,
         "type": "scatter",
         "unselected": {
          "marker": {
           "opacity": 0
          }
         },
         "x": [
          0.125,
          0.25,
          0.5,
          1,
          2,
          3,
          4,
          5,
          6,
          7,
          8,
          9,
          10,
          11,
          12,
          13,
          14,
          15,
          16,
          17,
          18,
          19,
          20,
          21,
          22,
          23,
          24,
          25,
          26,
          27,
          28,
          30
         ],
         "y": [
          6.141784316161472,
          6.479877128129796,
          7.156062752066443,
          8.50843399993974,
          11.213176495686332,
          13.917918991432924,
          16.622661487179517,
          19.327403982926107,
          22.0321464786727,
          24.73688897441929,
          27.441631470165884,
          30.146373965912478,
          32.85111646165907,
          35.55585895740566,
          38.260601453152255,
          40.96534394889885,
          43.670086444645435,
          46.37482894039203,
          49.07957143613862,
          51.784313931885215,
          54.48905642763181,
          57.193798923378395,
          59.89854141912499,
          62.60328391487158,
          65.30802641061818,
          68.01276890636477,
          70.71751140211137,
          73.42225389785796,
          76.12699639360456,
          78.83173888935114,
          81.53648138509773,
          86.94596637659092
         ]
        },
        {
         "hovertemplate": "<b>CR:</b> %{x}<br><b>Condition:</b> Grappled<br><b>Immune:</b> %{y:.0f}% %{text}<extra></extra>",
         "legendgroup": "Grappled",
         "line": {
          "shape": "spline"
         },
         "marker": {
          "color": "purple",
          "size": 4
         },
         "mode": "markers",
         "name": "Grappled",
         "showlegend": true,
         "text": [
          "(0 out of 59)",
          "(4 out of 123)",
          "(4 out of 114)",
          "(7 out of 145)",
          "(7 out of 217)",
          "(11 out of 194)",
          "(9 out of 136)",
          "(14 out of 175)",
          "(4 out of 96)",
          "(4 out of 107)",
          "(4 out of 100)",
          "(4 out of 80)",
          "(2 out of 67)",
          "(2 out of 65)",
          "(4 out of 54)",
          "(1 out of 51)",
          "(0 out of 38)",
          "(1 out of 33)",
          "(3 out of 35)",
          "(2 out of 28)",
          "(1 out of 26)",
          "(1 out of 17)",
          "(4 out of 19)",
          "(0 out of 26)",
          "(3 out of 24)",
          "(6 out of 31)",
          "(1 out of 19)",
          "(0 out of 13)",
          "(1 out of 14)",
          "(1 out of 4)",
          "(0 out of 3)",
          "(0 out of 4)"
         ],
         "type": "scatter",
         "unselected": {
          "marker": {
           "opacity": 0
          }
         },
         "x": [
          0.125,
          0.25,
          0.5,
          1,
          2,
          3,
          4,
          5,
          6,
          7,
          8,
          9,
          10,
          11,
          12,
          13,
          14,
          15,
          16,
          17,
          18,
          19,
          20,
          21,
          22,
          23,
          24,
          25,
          26,
          27,
          28,
          30
         ],
         "y": [
          0,
          3.2520325203252036,
          3.508771929824561,
          4.827586206896552,
          3.225806451612903,
          5.670103092783505,
          6.61764705882353,
          8,
          4.166666666666666,
          3.7383177570093453,
          4,
          5,
          2.9850746268656714,
          3.076923076923077,
          7.4074074074074066,
          1.9607843137254901,
          0,
          3.0303030303030303,
          8.571428571428571,
          7.142857142857142,
          3.8461538461538463,
          5.88235294117647,
          21.052631578947366,
          0,
          12.5,
          19.35483870967742,
          5.263157894736842,
          0,
          7.142857142857142,
          25,
          0,
          0
         ]
        },
        {
         "hoverinfo": "skip",
         "legendgroup": "Grappled",
         "legendgrouptitle": {
          "text": "fit"
         },
         "line": {
          "color": "purple",
          "dash": "solid"
         },
         "mode": "lines",
         "showlegend": false,
         "type": "scatter",
         "unselected": {
          "marker": {
           "opacity": 0
          }
         },
         "x": [
          0.125,
          0.25,
          0.5,
          1,
          2,
          3,
          4,
          5,
          6,
          7,
          8,
          9,
          10,
          11,
          12,
          13,
          14,
          15,
          16,
          17,
          18,
          19,
          20,
          21,
          22,
          23,
          24,
          25,
          26,
          27,
          28,
          30
         ],
         "y": [
          3.397564077198353,
          3.4199439938881175,
          3.4647038272676465,
          3.554223494026705,
          3.7332628275448205,
          3.9123021610629367,
          4.0913414945810525,
          4.270380828099169,
          4.449420161617285,
          4.628459495135401,
          4.807498828653516,
          4.986538162171633,
          5.165577495689749,
          5.344616829207865,
          5.523656162725981,
          5.702695496244097,
          5.8817348297622125,
          6.060774163280328,
          6.239813496798445,
          6.4188528303165615,
          6.597892163834677,
          6.776931497352793,
          6.955970830870909,
          7.1350101643890245,
          7.314049497907141,
          7.493088831425257,
          7.6721281649433735,
          7.851167498461489,
          8.030206831979605,
          8.20924616549772,
          8.388285499015836,
          8.746364166052068
         ]
        },
        {
         "hovertemplate": "<b>CR:</b> %{x}<br><b>Condition:</b> Paralyzed<br><b>Immune:</b> %{y:.0f}% %{text}<extra></extra>",
         "legendgroup": "Paralyzed",
         "line": {
          "shape": "spline"
         },
         "marker": {
          "color": "olivedrab",
          "size": 4
         },
         "mode": "markers",
         "name": "Paralyzed",
         "showlegend": true,
         "text": [
          "(4 out of 59)",
          "(10 out of 123)",
          "(8 out of 114)",
          "(18 out of 145)",
          "(18 out of 217)",
          "(19 out of 194)",
          "(20 out of 136)",
          "(25 out of 175)",
          "(19 out of 96)",
          "(19 out of 107)",
          "(12 out of 100)",
          "(7 out of 80)",
          "(10 out of 67)",
          "(10 out of 65)",
          "(11 out of 54)",
          "(7 out of 51)",
          "(9 out of 38)",
          "(3 out of 33)",
          "(12 out of 35)",
          "(3 out of 28)",
          "(7 out of 26)",
          "(2 out of 17)",
          "(8 out of 19)",
          "(6 out of 26)",
          "(11 out of 24)",
          "(12 out of 31)",
          "(3 out of 19)",
          "(5 out of 13)",
          "(3 out of 14)",
          "(2 out of 4)",
          "(2 out of 3)",
          "(2 out of 4)"
         ],
         "type": "scatter",
         "unselected": {
          "marker": {
           "opacity": 0
          }
         },
         "x": [
          0.125,
          0.25,
          0.5,
          1,
          2,
          3,
          4,
          5,
          6,
          7,
          8,
          9,
          10,
          11,
          12,
          13,
          14,
          15,
          16,
          17,
          18,
          19,
          20,
          21,
          22,
          23,
          24,
          25,
          26,
          27,
          28,
          30
         ],
         "y": [
          6.779661016949152,
          8.130081300813007,
          7.017543859649122,
          12.413793103448276,
          8.294930875576037,
          9.793814432989691,
          14.705882352941178,
          14.285714285714285,
          19.791666666666664,
          17.75700934579439,
          12,
          8.75,
          14.925373134328357,
          15.384615384615385,
          20.37037037037037,
          13.725490196078432,
          23.684210526315788,
          9.090909090909092,
          34.285714285714285,
          10.714285714285714,
          26.923076923076923,
          11.76470588235294,
          42.10526315789473,
          23.076923076923077,
          45.83333333333333,
          38.70967741935484,
          15.789473684210526,
          38.46153846153847,
          21.428571428571427,
          50,
          66.66666666666666,
          50
         ]
        },
        {
         "hoverinfo": "skip",
         "legendgroup": "Paralyzed",
         "legendgrouptitle": {
          "text": "fit"
         },
         "line": {
          "color": "olivedrab",
          "dash": "solid"
         },
         "mode": "lines",
         "showlegend": false,
         "type": "scatter",
         "unselected": {
          "marker": {
           "opacity": 0
          }
         },
         "x": [
          0.125,
          0.25,
          0.5,
          1,
          2,
          3,
          4,
          5,
          6,
          7,
          8,
          9,
          10,
          11,
          12,
          13,
          14,
          15,
          16,
          17,
          18,
          19,
          20,
          21,
          22,
          23,
          24,
          25,
          26,
          27,
          28,
          30
         ],
         "y": [
          5.061678973899256,
          5.220699063074048,
          5.538739241423633,
          6.174819598122802,
          7.446980311521141,
          8.71914102491948,
          9.99130173831782,
          11.263462451716158,
          12.5356231651145,
          13.807783878512838,
          15.079944591911177,
          16.352105305309514,
          17.624266018707857,
          18.896426732106193,
          20.168587445504535,
          21.440748158902874,
          22.712908872301213,
          23.985069585699552,
          25.25723029909789,
          26.52939101249623,
          27.80155172589457,
          29.07371243929291,
          30.345873152691247,
          31.618033866089586,
          32.890194579487925,
          34.16235529288626,
          35.43451600628461,
          36.706676719682946,
          37.97883743308128,
          39.25099814647962,
          40.52315885987797,
          43.06748028667464
         ]
        },
        {
         "hovertemplate": "<b>CR:</b> %{x}<br><b>Condition:</b> Petrified<br><b>Immune:</b> %{y:.0f}% %{text}<extra></extra>",
         "legendgroup": "Petrified",
         "line": {
          "shape": "spline"
         },
         "marker": {
          "color": "orangered",
          "size": 4
         },
         "mode": "markers",
         "name": "Petrified",
         "showlegend": true,
         "text": [
          "(4 out of 59)",
          "(9 out of 123)",
          "(6 out of 114)",
          "(17 out of 145)",
          "(16 out of 217)",
          "(14 out of 194)",
          "(19 out of 136)",
          "(24 out of 175)",
          "(13 out of 96)",
          "(15 out of 107)",
          "(7 out of 100)",
          "(7 out of 80)",
          "(7 out of 67)",
          "(11 out of 65)",
          "(7 out of 54)",
          "(3 out of 51)",
          "(3 out of 38)",
          "(2 out of 33)",
          "(9 out of 35)",
          "(3 out of 28)",
          "(6 out of 26)",
          "(2 out of 17)",
          "(7 out of 19)",
          "(3 out of 26)",
          "(7 out of 24)",
          "(10 out of 31)",
          "(3 out of 19)",
          "(3 out of 13)",
          "(2 out of 14)",
          "(2 out of 4)",
          "(1 out of 3)",
          "(0 out of 4)"
         ],
         "type": "scatter",
         "unselected": {
          "marker": {
           "opacity": 0
          }
         },
         "x": [
          0.125,
          0.25,
          0.5,
          1,
          2,
          3,
          4,
          5,
          6,
          7,
          8,
          9,
          10,
          11,
          12,
          13,
          14,
          15,
          16,
          17,
          18,
          19,
          20,
          21,
          22,
          23,
          24,
          25,
          26,
          27,
          28,
          30
         ],
         "y": [
          6.779661016949152,
          7.317073170731707,
          5.263157894736842,
          11.724137931034482,
          7.373271889400922,
          7.216494845360824,
          13.970588235294118,
          13.714285714285715,
          13.541666666666666,
          14.018691588785046,
          7.000000000000001,
          8.75,
          10.44776119402985,
          16.923076923076923,
          12.962962962962962,
          5.88235294117647,
          7.894736842105263,
          6.0606060606060606,
          25.71428571428571,
          10.714285714285714,
          23.076923076923077,
          11.76470588235294,
          36.84210526315789,
          11.538461538461538,
          29.166666666666668,
          32.25806451612903,
          15.789473684210526,
          23.076923076923077,
          14.285714285714285,
          50,
          33.33333333333333,
          0
         ]
        },
        {
         "hoverinfo": "skip",
         "legendgroup": "Petrified",
         "legendgrouptitle": {
          "text": "fit"
         },
         "line": {
          "color": "orangered",
          "dash": "solid"
         },
         "mode": "lines",
         "showlegend": false,
         "type": "scatter",
         "unselected": {
          "marker": {
           "opacity": 0
          }
         },
         "x": [
          0.125,
          0.25,
          0.5,
          1,
          2,
          3,
          4,
          5,
          6,
          7,
          8,
          9,
          10,
          11,
          12,
          13,
          14,
          15,
          16,
          17,
          18,
          19,
          20,
          21,
          22,
          23,
          24,
          25,
          26,
          27,
          28,
          30
         ],
         "y": [
          6.91372019401761,
          6.992600477708365,
          7.150361045089874,
          7.465882179852893,
          8.09692444937893,
          8.727966718904968,
          9.359008988431006,
          9.990051257957044,
          10.621093527483081,
          11.252135797009117,
          11.883178066535155,
          12.514220336061193,
          13.14526260558723,
          13.776304875113269,
          14.407347144639306,
          15.038389414165344,
          15.669431683691382,
          16.30047395321742,
          16.931516222743458,
          17.562558492269496,
          18.193600761795533,
          18.82464303132157,
          19.45568530084761,
          20.086727570373643,
          20.71776983989968,
          21.34881210942572,
          21.979854378951757,
          22.610896648477794,
          23.241938918003832,
          23.87298118752987,
          24.504023457055908,
          25.766107996107984
         ]
        },
        {
         "hovertemplate": "<b>CR:</b> %{x}<br><b>Condition:</b> Poisoned<br><b>Immune:</b> %{y:.0f}% %{text}<extra></extra>",
         "legendgroup": "Poisoned",
         "line": {
          "shape": "spline"
         },
         "marker": {
          "color": "blue",
          "size": 4
         },
         "mode": "markers",
         "name": "Poisoned",
         "showlegend": true,
         "text": [
          "(7 out of 59)",
          "(23 out of 123)",
          "(15 out of 114)",
          "(43 out of 145)",
          "(32 out of 217)",
          "(39 out of 194)",
          "(42 out of 136)",
          "(44 out of 175)",
          "(31 out of 96)",
          "(41 out of 107)",
          "(27 out of 100)",
          "(20 out of 80)",
          "(20 out of 67)",
          "(18 out of 65)",
          "(22 out of 54)",
          "(19 out of 51)",
          "(16 out of 38)",
          "(12 out of 33)",
          "(19 out of 35)",
          "(16 out of 28)",
          "(17 out of 26)",
          "(10 out of 17)",
          "(12 out of 19)",
          "(14 out of 26)",
          "(16 out of 24)",
          "(22 out of 31)",
          "(14 out of 19)",
          "(9 out of 13)",
          "(10 out of 14)",
          "(2 out of 4)",
          "(3 out of 3)",
          "(3 out of 4)"
         ],
         "type": "scatter",
         "unselected": {
          "marker": {
           "opacity": 0
          }
         },
         "x": [
          0.125,
          0.25,
          0.5,
          1,
          2,
          3,
          4,
          5,
          6,
          7,
          8,
          9,
          10,
          11,
          12,
          13,
          14,
          15,
          16,
          17,
          18,
          19,
          20,
          21,
          22,
          23,
          24,
          25,
          26,
          27,
          28,
          30
         ],
         "y": [
          11.864406779661017,
          18.69918699186992,
          13.157894736842104,
          29.655172413793103,
          14.746543778801843,
          20.103092783505154,
          30.88235294117647,
          25.142857142857146,
          32.29166666666667,
          38.31775700934579,
          27,
          25,
          29.850746268656714,
          27.692307692307693,
          40.74074074074074,
          37.254901960784316,
          42.10526315789473,
          36.36363636363637,
          54.285714285714285,
          57.14285714285714,
          65.38461538461539,
          58.82352941176471,
          63.1578947368421,
          53.84615384615385,
          66.66666666666666,
          70.96774193548387,
          73.68421052631578,
          69.23076923076923,
          71.42857142857143,
          50,
          100,
          75
         ]
        },
        {
         "hoverinfo": "skip",
         "legendgroup": "Poisoned",
         "legendgrouptitle": {
          "text": "fit"
         },
         "line": {
          "color": "blue",
          "dash": "solid"
         },
         "mode": "lines",
         "showlegend": false,
         "type": "scatter",
         "unselected": {
          "marker": {
           "opacity": 0
          }
         },
         "x": [
          0.125,
          0.25,
          0.5,
          1,
          2,
          3,
          4,
          5,
          6,
          7,
          8,
          9,
          10,
          11,
          12,
          13,
          14,
          15,
          16,
          17,
          18,
          19,
          20,
          21,
          22,
          23,
          24,
          25,
          26,
          27,
          28,
          30
         ],
         "y": [
          14.840452867116266,
          15.116396488333873,
          15.668283730769089,
          16.772058215639518,
          18.979607185380377,
          21.187156155121237,
          23.394705124862096,
          25.602254094602955,
          27.809803064343814,
          30.017352034084674,
          32.224901003825536,
          34.43244997356639,
          36.63999894330725,
          38.84754791304811,
          41.05509688278897,
          43.26264585252983,
          45.470194822270685,
          47.677743792011555,
          49.88529276175241,
          52.092841731493266,
          54.30039070123412,
          56.50793967097499,
          58.71548864071585,
          60.9230376104567,
          63.13058658019756,
          65.33813554993843,
          67.54568451967928,
          69.75323348942014,
          71.960782459161,
          74.16833142890187,
          76.37588039864272,
          80.79097833812445
         ]
        },
        {
         "hovertemplate": "<b>CR:</b> %{x}<br><b>Condition:</b> Prone<br><b>Immune:</b> %{y:.0f}% %{text}<extra></extra>",
         "legendgroup": "Prone",
         "line": {
          "shape": "spline"
         },
         "marker": {
          "color": "darkviolet",
          "size": 4
         },
         "mode": "markers",
         "name": "Prone",
         "showlegend": true,
         "text": [
          "(0 out of 59)",
          "(9 out of 123)",
          "(10 out of 114)",
          "(10 out of 145)",
          "(13 out of 217)",
          "(16 out of 194)",
          "(12 out of 136)",
          "(22 out of 175)",
          "(6 out of 96)",
          "(19 out of 107)",
          "(6 out of 100)",
          "(6 out of 80)",
          "(7 out of 67)",
          "(5 out of 65)",
          "(5 out of 54)",
          "(3 out of 51)",
          "(2 out of 38)",
          "(2 out of 33)",
          "(4 out of 35)",
          "(3 out of 28)",
          "(3 out of 26)",
          "(2 out of 17)",
          "(6 out of 19)",
          "(2 out of 26)",
          "(3 out of 24)",
          "(9 out of 31)",
          "(3 out of 19)",
          "(0 out of 13)",
          "(2 out of 14)",
          "(2 out of 4)",
          "(0 out of 3)",
          "(0 out of 4)"
         ],
         "type": "scatter",
         "unselected": {
          "marker": {
           "opacity": 0
          }
         },
         "x": [
          0.125,
          0.25,
          0.5,
          1,
          2,
          3,
          4,
          5,
          6,
          7,
          8,
          9,
          10,
          11,
          12,
          13,
          14,
          15,
          16,
          17,
          18,
          19,
          20,
          21,
          22,
          23,
          24,
          25,
          26,
          27,
          28,
          30
         ],
         "y": [
          0,
          7.317073170731707,
          8.771929824561402,
          6.896551724137931,
          5.990783410138248,
          8.24742268041237,
          8.823529411764707,
          12.571428571428573,
          6.25,
          17.75700934579439,
          6,
          7.5,
          10.44776119402985,
          7.6923076923076925,
          9.25925925925926,
          5.88235294117647,
          5.263157894736842,
          6.0606060606060606,
          11.428571428571429,
          10.714285714285714,
          11.538461538461538,
          11.76470588235294,
          31.57894736842105,
          7.6923076923076925,
          12.5,
          29.03225806451613,
          15.789473684210526,
          0,
          14.285714285714285,
          50,
          0,
          0
         ]
        },
        {
         "hoverinfo": "skip",
         "legendgroup": "Prone",
         "legendgrouptitle": {
          "text": "fit"
         },
         "line": {
          "color": "darkviolet",
          "dash": "solid"
         },
         "mode": "lines",
         "showlegend": false,
         "type": "scatter",
         "unselected": {
          "marker": {
           "opacity": 0
          }
         },
         "x": [
          0.125,
          0.25,
          0.5,
          1,
          2,
          3,
          4,
          5,
          6,
          7,
          8,
          9,
          10,
          11,
          12,
          13,
          14,
          15,
          16,
          17,
          18,
          19,
          20,
          21,
          22,
          23,
          24,
          25,
          26,
          27,
          28,
          30
         ],
         "y": [
          6.4509102058600645,
          6.491518572089462,
          6.572735304548258,
          6.735168769465849,
          7.060035699301032,
          7.3849026291362145,
          7.709769558971398,
          8.03463648880658,
          8.359503418641763,
          8.684370348476946,
          9.009237278312128,
          9.334104208147311,
          9.658971137982494,
          9.983838067817675,
          10.308704997652859,
          10.633571927488042,
          10.958438857323223,
          11.283305787158408,
          11.60817271699359,
          11.933039646828771,
          12.257906576663956,
          12.582773506499137,
          12.90764043633432,
          13.232507366169504,
          13.557374296004685,
          13.882241225839868,
          14.207108155675051,
          14.531975085510233,
          14.856842015345418,
          15.181708945180599,
          15.50657587501578,
          16.156309734686147
         ]
        },
        {
         "hovertemplate": "<b>CR:</b> %{x}<br><b>Condition:</b> Restrained<br><b>Immune:</b> %{y:.0f}% %{text}<extra></extra>",
         "legendgroup": "Restrained",
         "line": {
          "shape": "spline"
         },
         "marker": {
          "color": "dodgerblue",
          "size": 4
         },
         "mode": "markers",
         "name": "Restrained",
         "showlegend": true,
         "text": [
          "(0 out of 59)",
          "(4 out of 123)",
          "(4 out of 114)",
          "(6 out of 145)",
          "(8 out of 217)",
          "(11 out of 194)",
          "(9 out of 136)",
          "(13 out of 175)",
          "(9 out of 96)",
          "(3 out of 107)",
          "(4 out of 100)",
          "(4 out of 80)",
          "(2 out of 67)",
          "(3 out of 65)",
          "(4 out of 54)",
          "(2 out of 51)",
          "(0 out of 38)",
          "(1 out of 33)",
          "(6 out of 35)",
          "(1 out of 28)",
          "(2 out of 26)",
          "(2 out of 17)",
          "(4 out of 19)",
          "(0 out of 26)",
          "(3 out of 24)",
          "(6 out of 31)",
          "(1 out of 19)",
          "(0 out of 13)",
          "(2 out of 14)",
          "(1 out of 4)",
          "(0 out of 3)",
          "(0 out of 4)"
         ],
         "type": "scatter",
         "unselected": {
          "marker": {
           "opacity": 0
          }
         },
         "x": [
          0.125,
          0.25,
          0.5,
          1,
          2,
          3,
          4,
          5,
          6,
          7,
          8,
          9,
          10,
          11,
          12,
          13,
          14,
          15,
          16,
          17,
          18,
          19,
          20,
          21,
          22,
          23,
          24,
          25,
          26,
          27,
          28,
          30
         ],
         "y": [
          0,
          3.2520325203252036,
          3.508771929824561,
          4.137931034482759,
          3.686635944700461,
          5.670103092783505,
          6.61764705882353,
          7.428571428571429,
          9.375,
          2.803738317757009,
          4,
          5,
          2.9850746268656714,
          4.615384615384616,
          7.4074074074074066,
          3.9215686274509802,
          0,
          3.0303030303030303,
          17.142857142857142,
          3.571428571428571,
          7.6923076923076925,
          11.76470588235294,
          21.052631578947366,
          0,
          12.5,
          19.35483870967742,
          5.263157894736842,
          0,
          14.285714285714285,
          25,
          0,
          0
         ]
        },
        {
         "hoverinfo": "skip",
         "legendgroup": "Restrained",
         "legendgrouptitle": {
          "text": "fit"
         },
         "line": {
          "color": "dodgerblue",
          "dash": "solid"
         },
         "mode": "lines",
         "showlegend": false,
         "type": "scatter",
         "unselected": {
          "marker": {
           "opacity": 0
          }
         },
         "x": [
          0.125,
          0.25,
          0.5,
          1,
          2,
          3,
          4,
          5,
          6,
          7,
          8,
          9,
          10,
          11,
          12,
          13,
          14,
          15,
          16,
          17,
          18,
          19,
          20,
          21,
          22,
          23,
          24,
          25,
          26,
          27,
          28,
          30
         ],
         "y": [
          3.7177954956186845,
          3.745545526093101,
          3.8010455870419344,
          3.9120457089396004,
          4.134045952734933,
          4.356046196530265,
          4.578046440325598,
          4.80004668412093,
          5.0220469279162625,
          5.244047171711594,
          5.466047415506927,
          5.688047659302259,
          5.910047903097592,
          6.132048146892924,
          6.3540483906882566,
          6.576048634483589,
          6.798048878278921,
          7.020049122074253,
          7.242049365869586,
          7.464049609664919,
          7.686049853460251,
          7.9080500972555825,
          8.130050341050916,
          8.352050584846248,
          8.57405082864158,
          8.796051072436912,
          9.018051316232246,
          9.240051560027577,
          9.46205180382291,
          9.684052047618241,
          9.906052291413575,
          10.350052779004239
         ]
        },
        {
         "hovertemplate": "<b>CR:</b> %{x}<br><b>Condition:</b> Stunned<br><b>Immune:</b> %{y:.0f}% %{text}<extra></extra>",
         "legendgroup": "Stunned",
         "line": {
          "shape": "spline"
         },
         "marker": {
          "color": "brown",
          "size": 4
         },
         "mode": "markers",
         "name": "Stunned",
         "showlegend": true,
         "text": [
          "(0 out of 59)",
          "(4 out of 123)",
          "(1 out of 114)",
          "(2 out of 145)",
          "(6 out of 217)",
          "(5 out of 194)",
          "(1 out of 136)",
          "(4 out of 175)",
          "(4 out of 96)",
          "(1 out of 107)",
          "(1 out of 100)",
          "(1 out of 80)",
          "(1 out of 67)",
          "(2 out of 65)",
          "(1 out of 54)",
          "(1 out of 51)",
          "(0 out of 38)",
          "(3 out of 33)",
          "(5 out of 35)",
          "(0 out of 28)",
          "(4 out of 26)",
          "(0 out of 17)",
          "(4 out of 19)",
          "(5 out of 26)",
          "(5 out of 24)",
          "(7 out of 31)",
          "(1 out of 19)",
          "(2 out of 13)",
          "(1 out of 14)",
          "(1 out of 4)",
          "(1 out of 3)",
          "(3 out of 4)"
         ],
         "type": "scatter",
         "unselected": {
          "marker": {
           "opacity": 0
          }
         },
         "x": [
          0.125,
          0.25,
          0.5,
          1,
          2,
          3,
          4,
          5,
          6,
          7,
          8,
          9,
          10,
          11,
          12,
          13,
          14,
          15,
          16,
          17,
          18,
          19,
          20,
          21,
          22,
          23,
          24,
          25,
          26,
          27,
          28,
          30
         ],
         "y": [
          0,
          3.2520325203252036,
          0.8771929824561403,
          1.3793103448275863,
          2.7649769585253456,
          2.5773195876288657,
          0.7352941176470588,
          2.2857142857142856,
          4.166666666666666,
          0.9345794392523363,
          1,
          1.25,
          1.4925373134328357,
          3.076923076923077,
          1.8518518518518516,
          1.9607843137254901,
          0,
          9.090909090909092,
          14.285714285714285,
          0,
          15.384615384615385,
          0,
          21.052631578947366,
          19.230769230769234,
          20.833333333333336,
          22.58064516129032,
          5.263157894736842,
          15.384615384615385,
          7.142857142857142,
          25,
          33.33333333333333,
          75
         ]
        },
        {
         "hoverinfo": "skip",
         "legendgroup": "Stunned",
         "legendgrouptitle": {
          "text": "fit"
         },
         "line": {
          "color": "brown",
          "dash": "solid"
         },
         "mode": "lines",
         "showlegend": false,
         "type": "scatter",
         "unselected": {
          "marker": {
           "opacity": 0
          }
         },
         "x": [
          0.125,
          0.25,
          0.5,
          1,
          2,
          3,
          4,
          5,
          6,
          7,
          8,
          9,
          10,
          11,
          12,
          13,
          14,
          15,
          16,
          17,
          18,
          19,
          20,
          21,
          22,
          23,
          24,
          25,
          26,
          27,
          28,
          30
         ],
         "y": [
          -5.022816028170432,
          -4.885964200800651,
          -4.612260546061089,
          -4.064853236581964,
          -2.9700386176237137,
          -1.8752239986654637,
          -0.7804093797072138,
          0.3144052392510357,
          1.409219858209286,
          2.5040344771675365,
          3.598849096125786,
          4.6936637150840355,
          5.788478334042285,
          6.883292953000536,
          7.978107571958786,
          9.072922190917035,
          10.167736809875286,
          11.262551428833536,
          12.357366047791785,
          13.452180666750035,
          14.546995285708284,
          15.641809904666534,
          16.736624523624783,
          17.831439142583037,
          18.926253761541286,
          20.021068380499536,
          21.115882999457785,
          22.210697618416035,
          23.305512237374284,
          24.400326856332534,
          25.495141475290787,
          27.684770713207286
         ]
        },
        {
         "hovertemplate": "<b>CR:</b> %{x}<br><b>Condition:</b> Unconscious<br><b>Immune:</b> %{y:.0f}% %{text}<extra></extra>",
         "legendgroup": "Unconscious",
         "line": {
          "shape": "spline"
         },
         "marker": {
          "color": "darkgreen",
          "size": 4
         },
         "mode": "markers",
         "name": "Unconscious",
         "showlegend": true,
         "text": [
          "(0 out of 59)",
          "(1 out of 123)",
          "(1 out of 114)",
          "(3 out of 145)",
          "(2 out of 217)",
          "(5 out of 194)",
          "(3 out of 136)",
          "(7 out of 175)",
          "(5 out of 96)",
          "(2 out of 107)",
          "(5 out of 100)",
          "(0 out of 80)",
          "(0 out of 67)",
          "(2 out of 65)",
          "(1 out of 54)",
          "(0 out of 51)",
          "(0 out of 38)",
          "(3 out of 33)",
          "(2 out of 35)",
          "(0 out of 28)",
          "(0 out of 26)",
          "(0 out of 17)",
          "(2 out of 19)",
          "(0 out of 26)",
          "(2 out of 24)",
          "(4 out of 31)",
          "(1 out of 19)",
          "(3 out of 13)",
          "(0 out of 14)",
          "(0 out of 4)",
          "(0 out of 3)",
          "(0 out of 4)"
         ],
         "type": "scatter",
         "unselected": {
          "marker": {
           "opacity": 0
          }
         },
         "x": [
          0.125,
          0.25,
          0.5,
          1,
          2,
          3,
          4,
          5,
          6,
          7,
          8,
          9,
          10,
          11,
          12,
          13,
          14,
          15,
          16,
          17,
          18,
          19,
          20,
          21,
          22,
          23,
          24,
          25,
          26,
          27,
          28,
          30
         ],
         "y": [
          0,
          0.8130081300813009,
          0.8771929824561403,
          2.0689655172413794,
          0.9216589861751152,
          2.5773195876288657,
          2.2058823529411766,
          4,
          5.208333333333334,
          1.8691588785046727,
          5,
          0,
          0,
          3.076923076923077,
          1.8518518518518516,
          0,
          0,
          9.090909090909092,
          5.714285714285714,
          0,
          0,
          0,
          10.526315789473683,
          0,
          8.333333333333332,
          12.903225806451612,
          5.263157894736842,
          23.076923076923077,
          0,
          0,
          0,
          0
         ]
        },
        {
         "hoverinfo": "skip",
         "legendgroup": "Unconscious",
         "legendgrouptitle": {
          "text": "fit"
         },
         "line": {
          "color": "darkgreen",
          "dash": "solid"
         },
         "mode": "lines",
         "showlegend": false,
         "type": "scatter",
         "unselected": {
          "marker": {
           "opacity": 0
          }
         },
         "x": [
          0.125,
          0.25,
          0.5,
          1,
          2,
          3,
          4,
          5,
          6,
          7,
          8,
          9,
          10,
          11,
          12,
          13,
          14,
          15,
          16,
          17,
          18,
          19,
          20,
          21,
          22,
          23,
          24,
          25,
          26,
          27,
          28,
          30
         ],
         "y": [
          1.4323279828078868,
          1.4495223085235662,
          1.4839109599549252,
          1.5526882628176428,
          1.6902428685430784,
          1.8277974742685141,
          1.9653520799939495,
          2.102906685719385,
          2.240461291444821,
          2.3780158971702563,
          2.5155705028956916,
          2.6531251086211274,
          2.790679714346563,
          2.9282343200719985,
          3.0657889257974342,
          3.2033435315228695,
          3.3408981372483053,
          3.4784527429737406,
          3.6160073486991764,
          3.753561954424612,
          3.8911165601500475,
          4.028671165875483,
          4.166225771600919,
          4.303780377326355,
          4.44133498305179,
          4.578889588777225,
          4.716444194502661,
          4.853998800228096,
          4.991553405953532,
          5.129108011678968,
          5.266662617404403,
          5.541771828855274
         ]
        }
       ],
       "layout": {
        "height": 550,
        "legend": {
         "font": {
          "size": 12
         },
         "orientation": "h",
         "tracegroupgap": 0,
         "x": 0.01,
         "xanchor": "left",
         "y": 1.04,
         "yanchor": "bottom"
        },
        "template": {
         "layout": {
          "autosize": false,
          "font": {
           "family": "sans-serif",
           "size": 14
          },
          "hoverlabel": {
           "align": "left"
          },
          "hovermode": "closest",
          "margin": {
           "b": 55,
           "l": 60,
           "pad": 4,
           "r": 25,
           "t": 20
          },
          "template": {
           "data": {
            "bar": [
             {
              "error_x": {
               "color": "#2a3f5f"
              },
              "error_y": {
               "color": "#2a3f5f"
              },
              "marker": {
               "line": {
                "color": "white",
                "width": 0.5
               },
               "pattern": {
                "fillmode": "overlay",
                "size": 10,
                "solidity": 0.2
               }
              },
              "type": "bar"
             }
            ],
            "barpolar": [
             {
              "marker": {
               "line": {
                "color": "white",
                "width": 0.5
               },
               "pattern": {
                "fillmode": "overlay",
                "size": 10,
                "solidity": 0.2
               }
              },
              "type": "barpolar"
             }
            ],
            "carpet": [
             {
              "aaxis": {
               "endlinecolor": "#2a3f5f",
               "gridcolor": "#C8D4E3",
               "linecolor": "#C8D4E3",
               "minorgridcolor": "#C8D4E3",
               "startlinecolor": "#2a3f5f"
              },
              "baxis": {
               "endlinecolor": "#2a3f5f",
               "gridcolor": "#C8D4E3",
               "linecolor": "#C8D4E3",
               "minorgridcolor": "#C8D4E3",
               "startlinecolor": "#2a3f5f"
              },
              "type": "carpet"
             }
            ],
            "choropleth": [
             {
              "colorbar": {
               "outlinewidth": 0,
               "ticks": ""
              },
              "type": "choropleth"
             }
            ],
            "contour": [
             {
              "colorbar": {
               "outlinewidth": 0,
               "ticks": ""
              },
              "colorscale": [
               [
                0,
                "#0d0887"
               ],
               [
                0.1111111111111111,
                "#46039f"
               ],
               [
                0.2222222222222222,
                "#7201a8"
               ],
               [
                0.3333333333333333,
                "#9c179e"
               ],
               [
                0.4444444444444444,
                "#bd3786"
               ],
               [
                0.5555555555555556,
                "#d8576b"
               ],
               [
                0.6666666666666666,
                "#ed7953"
               ],
               [
                0.7777777777777778,
                "#fb9f3a"
               ],
               [
                0.8888888888888888,
                "#fdca26"
               ],
               [
                1,
                "#f0f921"
               ]
              ],
              "type": "contour"
             }
            ],
            "contourcarpet": [
             {
              "colorbar": {
               "outlinewidth": 0,
               "ticks": ""
              },
              "type": "contourcarpet"
             }
            ],
            "heatmap": [
             {
              "colorbar": {
               "outlinewidth": 0,
               "ticks": ""
              },
              "colorscale": [
               [
                0,
                "#0d0887"
               ],
               [
                0.1111111111111111,
                "#46039f"
               ],
               [
                0.2222222222222222,
                "#7201a8"
               ],
               [
                0.3333333333333333,
                "#9c179e"
               ],
               [
                0.4444444444444444,
                "#bd3786"
               ],
               [
                0.5555555555555556,
                "#d8576b"
               ],
               [
                0.6666666666666666,
                "#ed7953"
               ],
               [
                0.7777777777777778,
                "#fb9f3a"
               ],
               [
                0.8888888888888888,
                "#fdca26"
               ],
               [
                1,
                "#f0f921"
               ]
              ],
              "type": "heatmap"
             }
            ],
            "heatmapgl": [
             {
              "colorbar": {
               "outlinewidth": 0,
               "ticks": ""
              },
              "colorscale": [
               [
                0,
                "#0d0887"
               ],
               [
                0.1111111111111111,
                "#46039f"
               ],
               [
                0.2222222222222222,
                "#7201a8"
               ],
               [
                0.3333333333333333,
                "#9c179e"
               ],
               [
                0.4444444444444444,
                "#bd3786"
               ],
               [
                0.5555555555555556,
                "#d8576b"
               ],
               [
                0.6666666666666666,
                "#ed7953"
               ],
               [
                0.7777777777777778,
                "#fb9f3a"
               ],
               [
                0.8888888888888888,
                "#fdca26"
               ],
               [
                1,
                "#f0f921"
               ]
              ],
              "type": "heatmapgl"
             }
            ],
            "histogram": [
             {
              "marker": {
               "pattern": {
                "fillmode": "overlay",
                "size": 10,
                "solidity": 0.2
               }
              },
              "type": "histogram"
             }
            ],
            "histogram2d": [
             {
              "colorbar": {
               "outlinewidth": 0,
               "ticks": ""
              },
              "colorscale": [
               [
                0,
                "#0d0887"
               ],
               [
                0.1111111111111111,
                "#46039f"
               ],
               [
                0.2222222222222222,
                "#7201a8"
               ],
               [
                0.3333333333333333,
                "#9c179e"
               ],
               [
                0.4444444444444444,
                "#bd3786"
               ],
               [
                0.5555555555555556,
                "#d8576b"
               ],
               [
                0.6666666666666666,
                "#ed7953"
               ],
               [
                0.7777777777777778,
                "#fb9f3a"
               ],
               [
                0.8888888888888888,
                "#fdca26"
               ],
               [
                1,
                "#f0f921"
               ]
              ],
              "type": "histogram2d"
             }
            ],
            "histogram2dcontour": [
             {
              "colorbar": {
               "outlinewidth": 0,
               "ticks": ""
              },
              "colorscale": [
               [
                0,
                "#0d0887"
               ],
               [
                0.1111111111111111,
                "#46039f"
               ],
               [
                0.2222222222222222,
                "#7201a8"
               ],
               [
                0.3333333333333333,
                "#9c179e"
               ],
               [
                0.4444444444444444,
                "#bd3786"
               ],
               [
                0.5555555555555556,
                "#d8576b"
               ],
               [
                0.6666666666666666,
                "#ed7953"
               ],
               [
                0.7777777777777778,
                "#fb9f3a"
               ],
               [
                0.8888888888888888,
                "#fdca26"
               ],
               [
                1,
                "#f0f921"
               ]
              ],
              "type": "histogram2dcontour"
             }
            ],
            "mesh3d": [
             {
              "colorbar": {
               "outlinewidth": 0,
               "ticks": ""
              },
              "type": "mesh3d"
             }
            ],
            "parcoords": [
             {
              "line": {
               "colorbar": {
                "outlinewidth": 0,
                "ticks": ""
               }
              },
              "type": "parcoords"
             }
            ],
            "pie": [
             {
              "automargin": true,
              "type": "pie"
             }
            ],
            "scatter": [
             {
              "fillpattern": {
               "fillmode": "overlay",
               "size": 10,
               "solidity": 0.2
              },
              "type": "scatter"
             }
            ],
            "scatter3d": [
             {
              "line": {
               "colorbar": {
                "outlinewidth": 0,
                "ticks": ""
               }
              },
              "marker": {
               "colorbar": {
                "outlinewidth": 0,
                "ticks": ""
               }
              },
              "type": "scatter3d"
             }
            ],
            "scattercarpet": [
             {
              "marker": {
               "colorbar": {
                "outlinewidth": 0,
                "ticks": ""
               }
              },
              "type": "scattercarpet"
             }
            ],
            "scattergeo": [
             {
              "marker": {
               "colorbar": {
                "outlinewidth": 0,
                "ticks": ""
               }
              },
              "type": "scattergeo"
             }
            ],
            "scattergl": [
             {
              "marker": {
               "colorbar": {
                "outlinewidth": 0,
                "ticks": ""
               }
              },
              "type": "scattergl"
             }
            ],
            "scattermapbox": [
             {
              "marker": {
               "colorbar": {
                "outlinewidth": 0,
                "ticks": ""
               }
              },
              "type": "scattermapbox"
             }
            ],
            "scatterpolar": [
             {
              "marker": {
               "colorbar": {
                "outlinewidth": 0,
                "ticks": ""
               }
              },
              "type": "scatterpolar"
             }
            ],
            "scatterpolargl": [
             {
              "marker": {
               "colorbar": {
                "outlinewidth": 0,
                "ticks": ""
               }
              },
              "type": "scatterpolargl"
             }
            ],
            "scatterternary": [
             {
              "marker": {
               "colorbar": {
                "outlinewidth": 0,
                "ticks": ""
               }
              },
              "type": "scatterternary"
             }
            ],
            "surface": [
             {
              "colorbar": {
               "outlinewidth": 0,
               "ticks": ""
              },
              "colorscale": [
               [
                0,
                "#0d0887"
               ],
               [
                0.1111111111111111,
                "#46039f"
               ],
               [
                0.2222222222222222,
                "#7201a8"
               ],
               [
                0.3333333333333333,
                "#9c179e"
               ],
               [
                0.4444444444444444,
                "#bd3786"
               ],
               [
                0.5555555555555556,
                "#d8576b"
               ],
               [
                0.6666666666666666,
                "#ed7953"
               ],
               [
                0.7777777777777778,
                "#fb9f3a"
               ],
               [
                0.8888888888888888,
                "#fdca26"
               ],
               [
                1,
                "#f0f921"
               ]
              ],
              "type": "surface"
             }
            ],
            "table": [
             {
              "cells": {
               "fill": {
                "color": "#EBF0F8"
               },
               "line": {
                "color": "white"
               }
              },
              "header": {
               "fill": {
                "color": "#C8D4E3"
               },
               "line": {
                "color": "white"
               }
              },
              "type": "table"
             }
            ]
           },
           "layout": {
            "annotationdefaults": {
             "arrowcolor": "#2a3f5f",
             "arrowhead": 0,
             "arrowwidth": 1
            },
            "autotypenumbers": "strict",
            "coloraxis": {
             "colorbar": {
              "outlinewidth": 0,
              "ticks": ""
             }
            },
            "colorscale": {
             "diverging": [
              [
               0,
               "#8e0152"
              ],
              [
               0.1,
               "#c51b7d"
              ],
              [
               0.2,
               "#de77ae"
              ],
              [
               0.3,
               "#f1b6da"
              ],
              [
               0.4,
               "#fde0ef"
              ],
              [
               0.5,
               "#f7f7f7"
              ],
              [
               0.6,
               "#e6f5d0"
              ],
              [
               0.7,
               "#b8e186"
              ],
              [
               0.8,
               "#7fbc41"
              ],
              [
               0.9,
               "#4d9221"
              ],
              [
               1,
               "#276419"
              ]
             ],
             "sequential": [
              [
               0,
               "#0d0887"
              ],
              [
               0.1111111111111111,
               "#46039f"
              ],
              [
               0.2222222222222222,
               "#7201a8"
              ],
              [
               0.3333333333333333,
               "#9c179e"
              ],
              [
               0.4444444444444444,
               "#bd3786"
              ],
              [
               0.5555555555555556,
               "#d8576b"
              ],
              [
               0.6666666666666666,
               "#ed7953"
              ],
              [
               0.7777777777777778,
               "#fb9f3a"
              ],
              [
               0.8888888888888888,
               "#fdca26"
              ],
              [
               1,
               "#f0f921"
              ]
             ],
             "sequentialminus": [
              [
               0,
               "#0d0887"
              ],
              [
               0.1111111111111111,
               "#46039f"
              ],
              [
               0.2222222222222222,
               "#7201a8"
              ],
              [
               0.3333333333333333,
               "#9c179e"
              ],
              [
               0.4444444444444444,
               "#bd3786"
              ],
              [
               0.5555555555555556,
               "#d8576b"
              ],
              [
               0.6666666666666666,
               "#ed7953"
              ],
              [
               0.7777777777777778,
               "#fb9f3a"
              ],
              [
               0.8888888888888888,
               "#fdca26"
              ],
              [
               1,
               "#f0f921"
              ]
             ]
            },
            "colorway": [
             "#636efa",
             "#EF553B",
             "#00cc96",
             "#ab63fa",
             "#FFA15A",
             "#19d3f3",
             "#FF6692",
             "#B6E880",
             "#FF97FF",
             "#FECB52"
            ],
            "font": {
             "color": "#2a3f5f"
            },
            "geo": {
             "bgcolor": "white",
             "lakecolor": "white",
             "landcolor": "white",
             "showlakes": true,
             "showland": true,
             "subunitcolor": "#C8D4E3"
            },
            "hoverlabel": {
             "align": "left"
            },
            "hovermode": "closest",
            "mapbox": {
             "style": "light"
            },
            "paper_bgcolor": "white",
            "plot_bgcolor": "white",
            "polar": {
             "angularaxis": {
              "gridcolor": "#EBF0F8",
              "linecolor": "#EBF0F8",
              "ticks": ""
             },
             "bgcolor": "white",
             "radialaxis": {
              "gridcolor": "#EBF0F8",
              "linecolor": "#EBF0F8",
              "ticks": ""
             }
            },
            "scene": {
             "xaxis": {
              "backgroundcolor": "white",
              "gridcolor": "#DFE8F3",
              "gridwidth": 2,
              "linecolor": "#EBF0F8",
              "showbackground": true,
              "ticks": "",
              "zerolinecolor": "#EBF0F8"
             },
             "yaxis": {
              "backgroundcolor": "white",
              "gridcolor": "#DFE8F3",
              "gridwidth": 2,
              "linecolor": "#EBF0F8",
              "showbackground": true,
              "ticks": "",
              "zerolinecolor": "#EBF0F8"
             },
             "zaxis": {
              "backgroundcolor": "white",
              "gridcolor": "#DFE8F3",
              "gridwidth": 2,
              "linecolor": "#EBF0F8",
              "showbackground": true,
              "ticks": "",
              "zerolinecolor": "#EBF0F8"
             }
            },
            "shapedefaults": {
             "line": {
              "color": "#2a3f5f"
             }
            },
            "ternary": {
             "aaxis": {
              "gridcolor": "#DFE8F3",
              "linecolor": "#A2B1C6",
              "ticks": ""
             },
             "baxis": {
              "gridcolor": "#DFE8F3",
              "linecolor": "#A2B1C6",
              "ticks": ""
             },
             "bgcolor": "white",
             "caxis": {
              "gridcolor": "#DFE8F3",
              "linecolor": "#A2B1C6",
              "ticks": ""
             }
            },
            "title": {
             "x": 0.05
            },
            "xaxis": {
             "automargin": true,
             "gridcolor": "#EBF0F8",
             "linecolor": "#EBF0F8",
             "ticks": "",
             "title": {
              "standoff": 15
             },
             "zerolinecolor": "#EBF0F8",
             "zerolinewidth": 2
            },
            "yaxis": {
             "automargin": true,
             "gridcolor": "#EBF0F8",
             "linecolor": "#EBF0F8",
             "ticks": "",
             "title": {
              "standoff": 15
             },
             "zerolinecolor": "#EBF0F8",
             "zerolinewidth": 2
            }
           }
          },
          "xaxis": {
           "automargin": false,
           "linecolor": "#444",
           "linewidth": 2,
           "minor": {
            "tickmode": "linear",
            "ticks": "outside"
           },
           "mirror": true,
           "showline": true,
           "tickmode": "linear",
           "ticks": "outside",
           "zeroline": false
          },
          "yaxis": {
           "automargin": true,
           "linecolor": "#444",
           "linewidth": 2,
           "minor": {
            "tickmode": "linear",
            "ticks": "outside"
           },
           "mirror": true,
           "showline": true,
           "ticks": "outside",
           "zeroline": false
          }
         }
        },
        "width": 600,
        "xaxis": {
         "dtick": 5,
         "minor": {
          "dtick": 1,
          "tick0": 0
         },
         "range": [
          0,
          30.2
         ],
         "tick0": 0,
         "title": {
          "text": "challenge rating"
         }
        },
        "yaxis": {
         "dtick": 20,
         "minor": {
          "dtick": 10,
          "tick0": 0
         },
         "range": [
          -5,
          105
         ],
         "tick0": 0,
         "title": {
          "text": "percent immune"
         }
        }
       }
      }
     },
     "metadata": {},
     "output_type": "display_data"
    }
   ],
   "source": [
    "# Fig. 3: Plots the percent of monsters immune to each condition as a function of their CR.\n",
    "conditions = CONDITIONS.copy()\n",
    "colors = CONDITION_COLORS.copy()\n",
    "i = conditions.index('Invisible')\n",
    "conditions.pop(i); colors.pop(i)\n",
    "i = conditions.index('Incapacitated')\n",
    "conditions.pop(i); colors.pop(i)\n",
    "\n",
    "# create figure\n",
    "fig = go.Figure(\n",
    "    layout=go.Layout(\n",
    "        template=tfb.FIG_TEMPLATE,\n",
    "        xaxis=dict(\n",
    "            title_text='challenge rating',\n",
    "            range=[0.0, 30.2],\n",
    "            tick0=0, dtick=5,\n",
    "            minor=dict(tick0=0, dtick=1),\n",
    "        ),\n",
    "        yaxis=dict(\n",
    "            title_text='percent immune',\n",
    "            range=[-5, 105],\n",
    "            tick0=0, dtick=20,\n",
    "            minor=dict(tick0=0, dtick=10),\n",
    "        ),\n",
    "        legend=dict(\n",
    "            orientation='h',\n",
    "            yanchor='bottom',  y=1.04,\n",
    "            xanchor='left',    x=0.01,\n",
    "            font_size=12,\n",
    "            #xanchor='left', yanchor='top',\n",
    "            #x=0.01, y=0.99,\n",
    "            #orientation='v',\n",
    "            tracegroupgap=0,\n",
    "        ),\n",
    "    )\n",
    ")\n",
    "\n",
    "#df1 = df0[df0['Category'].isin(['generic','legendary','unique']) & df0['CR'].between(1/8, 30)]\n",
    "df1 = df0[df0['CR'].between(1/8, 30)]\n",
    "dfG = df1[['CR'] + conditions].groupby('CR').mean().reset_index()\n",
    "for condition, color in zip(conditions, colors):\n",
    "    # generate custom text\n",
    "    cr_totals = df1[['CR','Book']].groupby('CR').count()['Book'].to_list()\n",
    "    condition_totals = [int(x) for x in df1[['CR',condition]].groupby('CR').sum()[condition].to_list()]\n",
    "    custom_text = [f'({i} out of {t})' for i, t in zip(condition_totals, cr_totals)]\n",
    "\n",
    "    # plot data\n",
    "    fig.add_trace(go.Scatter(\n",
    "        x=dfG['CR'],\n",
    "        y=100*dfG[condition],\n",
    "        mode='markers', \n",
    "        #line=dict(color=color, dash='solid'),\n",
    "        #marker=dict(size=12, line=dict(width=1, color='Black')),\n",
    "        marker=dict(size=4, color=color),\n",
    "        line_shape='spline',\n",
    "        unselected=dict(marker=dict(opacity=0.0)),\n",
    "        showlegend=True,\n",
    "        name=condition,\n",
    "        legendgroup=condition,\n",
    "        text=custom_text,\n",
    "        hovertemplate=\n",
    "            '<b>CR:</b> %{x}<br>'+\n",
    "            '<b>Condition:</b> ' + condition + '<br>'+\n",
    "            '<b>Immune:</b> %{y:.0f}% %{text}'+\n",
    "            '<extra></extra>'\n",
    "    ))\n",
    "\n",
    "    # add fit line\n",
    "    coefs = np.polyfit(dfG['CR'], 100*dfG[condition], 1)\n",
    "    poly = np.poly1d(coefs)\n",
    "    fig.add_trace(go.Scatter(\n",
    "        x=dfG['CR'],\n",
    "        y=poly(dfG['CR']),\n",
    "        mode='lines', \n",
    "        line=dict(color=color, dash='solid'),\n",
    "        unselected=dict(marker=dict(opacity=0.0)),\n",
    "        showlegend=False,\n",
    "        legendgroup=condition,\n",
    "        legendgrouptitle_text='fit',\n",
    "        hoverinfo='skip',\n",
    "    ))\n",
    "\n",
    "# show figure\n",
    "fig.update_layout(width=600, height=550)\n",
    "fig.show(config=tfb.FIG_CONFIG)\n",
    "\n",
    "# save figures\n",
    "if SAVEFIGS:\n",
    "    fig.update_layout(autosize=True, width=None, height=None)\n",
    "    tfb.save_fig_html(fig, format='large', name=f'./fig-condition-immunity-prob-vs-cr-large', style='aspect-ratio:600/550', marker_size=4)\n",
    "    tfb.save_fig_html(fig, legend_font_size=8, format='small', name=f'./fig-condition-immunity-prob-vs-cr-small', style='aspect-ratio:600/600', marker_size=3)"
   ]
  },
  {
   "cell_type": "code",
   "execution_count": 7,
   "metadata": {},
   "outputs": [
    {
     "data": {
      "application/vnd.plotly.v1+json": {
       "config": {
        "autosizable": true,
        "displayModeBar": "hover",
        "displaylogo": false,
        "doubleClick": "reset",
        "modeBarButtonsToRemove": [
         "select2d",
         "lasso2d",
         "zoom2d",
         "zoomIn2d",
         "zoomOut2d",
         "pan2d",
         "autoScale2d",
         "hoverClosestCartesian",
         "hoverCompareCartesian",
         "toggleSpikelines",
         "resetScale2d"
        ],
        "plotlyServerURL": "https://plot.ly",
        "responsive": true,
        "showAxisDragHandles": false,
        "toImageButtonOptions": {
         "filename": "tfb-plot",
         "format": "png",
         "height": 450,
         "scale": 2,
         "width": 600
        }
       },
       "data": [
        {
         "hovertemplate": "CR %{x}<br>immunities %{y:.2f}<extra></extra>",
         "line": {
          "color": "black",
          "dash": "solid"
         },
         "mode": "lines+markers",
         "name": "All Conditions",
         "type": "scatter",
         "unselected": {
          "marker": {
           "opacity": 0
          }
         },
         "x": [
          0.125,
          0.25,
          0.5,
          1,
          2,
          3,
          4,
          5,
          6,
          7,
          8,
          9,
          10,
          11,
          12,
          13,
          14,
          15,
          16,
          17,
          18,
          19,
          20,
          21,
          22,
          23,
          24,
          25,
          26,
          27,
          28,
          30
         ],
         "y": [
          0.6610169491525424,
          0.967479674796748,
          0.9035087719298246,
          1.3724137931034484,
          0.8755760368663594,
          1.0515463917525774,
          1.5514705882352942,
          1.6342857142857143,
          1.8229166666666667,
          1.5233644859813085,
          1.52,
          1.2375,
          1.671641791044776,
          1.7692307692307692,
          2.0185185185185186,
          1.5490196078431373,
          1.868421052631579,
          2.0303030303030303,
          3.4857142857142858,
          2.0357142857142856,
          3.3846153846153846,
          2.411764705882353,
          4,
          3.1538461538461537,
          3.9583333333333335,
          4.838709677419355,
          3.789473684210526,
          3.6153846153846154,
          3.7857142857142856,
          4.25,
          5,
          5.25
         ]
        }
       ],
       "layout": {
        "height": 500,
        "legend": {
         "orientation": "v",
         "x": 0.01,
         "xanchor": "left",
         "y": 0.99,
         "yanchor": "top"
        },
        "template": {
         "layout": {
          "autosize": false,
          "font": {
           "family": "sans-serif",
           "size": 14
          },
          "hoverlabel": {
           "align": "left"
          },
          "hovermode": "closest",
          "margin": {
           "b": 55,
           "l": 60,
           "pad": 4,
           "r": 25,
           "t": 20
          },
          "template": {
           "data": {
            "bar": [
             {
              "error_x": {
               "color": "#2a3f5f"
              },
              "error_y": {
               "color": "#2a3f5f"
              },
              "marker": {
               "line": {
                "color": "white",
                "width": 0.5
               },
               "pattern": {
                "fillmode": "overlay",
                "size": 10,
                "solidity": 0.2
               }
              },
              "type": "bar"
             }
            ],
            "barpolar": [
             {
              "marker": {
               "line": {
                "color": "white",
                "width": 0.5
               },
               "pattern": {
                "fillmode": "overlay",
                "size": 10,
                "solidity": 0.2
               }
              },
              "type": "barpolar"
             }
            ],
            "carpet": [
             {
              "aaxis": {
               "endlinecolor": "#2a3f5f",
               "gridcolor": "#C8D4E3",
               "linecolor": "#C8D4E3",
               "minorgridcolor": "#C8D4E3",
               "startlinecolor": "#2a3f5f"
              },
              "baxis": {
               "endlinecolor": "#2a3f5f",
               "gridcolor": "#C8D4E3",
               "linecolor": "#C8D4E3",
               "minorgridcolor": "#C8D4E3",
               "startlinecolor": "#2a3f5f"
              },
              "type": "carpet"
             }
            ],
            "choropleth": [
             {
              "colorbar": {
               "outlinewidth": 0,
               "ticks": ""
              },
              "type": "choropleth"
             }
            ],
            "contour": [
             {
              "colorbar": {
               "outlinewidth": 0,
               "ticks": ""
              },
              "colorscale": [
               [
                0,
                "#0d0887"
               ],
               [
                0.1111111111111111,
                "#46039f"
               ],
               [
                0.2222222222222222,
                "#7201a8"
               ],
               [
                0.3333333333333333,
                "#9c179e"
               ],
               [
                0.4444444444444444,
                "#bd3786"
               ],
               [
                0.5555555555555556,
                "#d8576b"
               ],
               [
                0.6666666666666666,
                "#ed7953"
               ],
               [
                0.7777777777777778,
                "#fb9f3a"
               ],
               [
                0.8888888888888888,
                "#fdca26"
               ],
               [
                1,
                "#f0f921"
               ]
              ],
              "type": "contour"
             }
            ],
            "contourcarpet": [
             {
              "colorbar": {
               "outlinewidth": 0,
               "ticks": ""
              },
              "type": "contourcarpet"
             }
            ],
            "heatmap": [
             {
              "colorbar": {
               "outlinewidth": 0,
               "ticks": ""
              },
              "colorscale": [
               [
                0,
                "#0d0887"
               ],
               [
                0.1111111111111111,
                "#46039f"
               ],
               [
                0.2222222222222222,
                "#7201a8"
               ],
               [
                0.3333333333333333,
                "#9c179e"
               ],
               [
                0.4444444444444444,
                "#bd3786"
               ],
               [
                0.5555555555555556,
                "#d8576b"
               ],
               [
                0.6666666666666666,
                "#ed7953"
               ],
               [
                0.7777777777777778,
                "#fb9f3a"
               ],
               [
                0.8888888888888888,
                "#fdca26"
               ],
               [
                1,
                "#f0f921"
               ]
              ],
              "type": "heatmap"
             }
            ],
            "heatmapgl": [
             {
              "colorbar": {
               "outlinewidth": 0,
               "ticks": ""
              },
              "colorscale": [
               [
                0,
                "#0d0887"
               ],
               [
                0.1111111111111111,
                "#46039f"
               ],
               [
                0.2222222222222222,
                "#7201a8"
               ],
               [
                0.3333333333333333,
                "#9c179e"
               ],
               [
                0.4444444444444444,
                "#bd3786"
               ],
               [
                0.5555555555555556,
                "#d8576b"
               ],
               [
                0.6666666666666666,
                "#ed7953"
               ],
               [
                0.7777777777777778,
                "#fb9f3a"
               ],
               [
                0.8888888888888888,
                "#fdca26"
               ],
               [
                1,
                "#f0f921"
               ]
              ],
              "type": "heatmapgl"
             }
            ],
            "histogram": [
             {
              "marker": {
               "pattern": {
                "fillmode": "overlay",
                "size": 10,
                "solidity": 0.2
               }
              },
              "type": "histogram"
             }
            ],
            "histogram2d": [
             {
              "colorbar": {
               "outlinewidth": 0,
               "ticks": ""
              },
              "colorscale": [
               [
                0,
                "#0d0887"
               ],
               [
                0.1111111111111111,
                "#46039f"
               ],
               [
                0.2222222222222222,
                "#7201a8"
               ],
               [
                0.3333333333333333,
                "#9c179e"
               ],
               [
                0.4444444444444444,
                "#bd3786"
               ],
               [
                0.5555555555555556,
                "#d8576b"
               ],
               [
                0.6666666666666666,
                "#ed7953"
               ],
               [
                0.7777777777777778,
                "#fb9f3a"
               ],
               [
                0.8888888888888888,
                "#fdca26"
               ],
               [
                1,
                "#f0f921"
               ]
              ],
              "type": "histogram2d"
             }
            ],
            "histogram2dcontour": [
             {
              "colorbar": {
               "outlinewidth": 0,
               "ticks": ""
              },
              "colorscale": [
               [
                0,
                "#0d0887"
               ],
               [
                0.1111111111111111,
                "#46039f"
               ],
               [
                0.2222222222222222,
                "#7201a8"
               ],
               [
                0.3333333333333333,
                "#9c179e"
               ],
               [
                0.4444444444444444,
                "#bd3786"
               ],
               [
                0.5555555555555556,
                "#d8576b"
               ],
               [
                0.6666666666666666,
                "#ed7953"
               ],
               [
                0.7777777777777778,
                "#fb9f3a"
               ],
               [
                0.8888888888888888,
                "#fdca26"
               ],
               [
                1,
                "#f0f921"
               ]
              ],
              "type": "histogram2dcontour"
             }
            ],
            "mesh3d": [
             {
              "colorbar": {
               "outlinewidth": 0,
               "ticks": ""
              },
              "type": "mesh3d"
             }
            ],
            "parcoords": [
             {
              "line": {
               "colorbar": {
                "outlinewidth": 0,
                "ticks": ""
               }
              },
              "type": "parcoords"
             }
            ],
            "pie": [
             {
              "automargin": true,
              "type": "pie"
             }
            ],
            "scatter": [
             {
              "fillpattern": {
               "fillmode": "overlay",
               "size": 10,
               "solidity": 0.2
              },
              "type": "scatter"
             }
            ],
            "scatter3d": [
             {
              "line": {
               "colorbar": {
                "outlinewidth": 0,
                "ticks": ""
               }
              },
              "marker": {
               "colorbar": {
                "outlinewidth": 0,
                "ticks": ""
               }
              },
              "type": "scatter3d"
             }
            ],
            "scattercarpet": [
             {
              "marker": {
               "colorbar": {
                "outlinewidth": 0,
                "ticks": ""
               }
              },
              "type": "scattercarpet"
             }
            ],
            "scattergeo": [
             {
              "marker": {
               "colorbar": {
                "outlinewidth": 0,
                "ticks": ""
               }
              },
              "type": "scattergeo"
             }
            ],
            "scattergl": [
             {
              "marker": {
               "colorbar": {
                "outlinewidth": 0,
                "ticks": ""
               }
              },
              "type": "scattergl"
             }
            ],
            "scattermapbox": [
             {
              "marker": {
               "colorbar": {
                "outlinewidth": 0,
                "ticks": ""
               }
              },
              "type": "scattermapbox"
             }
            ],
            "scatterpolar": [
             {
              "marker": {
               "colorbar": {
                "outlinewidth": 0,
                "ticks": ""
               }
              },
              "type": "scatterpolar"
             }
            ],
            "scatterpolargl": [
             {
              "marker": {
               "colorbar": {
                "outlinewidth": 0,
                "ticks": ""
               }
              },
              "type": "scatterpolargl"
             }
            ],
            "scatterternary": [
             {
              "marker": {
               "colorbar": {
                "outlinewidth": 0,
                "ticks": ""
               }
              },
              "type": "scatterternary"
             }
            ],
            "surface": [
             {
              "colorbar": {
               "outlinewidth": 0,
               "ticks": ""
              },
              "colorscale": [
               [
                0,
                "#0d0887"
               ],
               [
                0.1111111111111111,
                "#46039f"
               ],
               [
                0.2222222222222222,
                "#7201a8"
               ],
               [
                0.3333333333333333,
                "#9c179e"
               ],
               [
                0.4444444444444444,
                "#bd3786"
               ],
               [
                0.5555555555555556,
                "#d8576b"
               ],
               [
                0.6666666666666666,
                "#ed7953"
               ],
               [
                0.7777777777777778,
                "#fb9f3a"
               ],
               [
                0.8888888888888888,
                "#fdca26"
               ],
               [
                1,
                "#f0f921"
               ]
              ],
              "type": "surface"
             }
            ],
            "table": [
             {
              "cells": {
               "fill": {
                "color": "#EBF0F8"
               },
               "line": {
                "color": "white"
               }
              },
              "header": {
               "fill": {
                "color": "#C8D4E3"
               },
               "line": {
                "color": "white"
               }
              },
              "type": "table"
             }
            ]
           },
           "layout": {
            "annotationdefaults": {
             "arrowcolor": "#2a3f5f",
             "arrowhead": 0,
             "arrowwidth": 1
            },
            "autotypenumbers": "strict",
            "coloraxis": {
             "colorbar": {
              "outlinewidth": 0,
              "ticks": ""
             }
            },
            "colorscale": {
             "diverging": [
              [
               0,
               "#8e0152"
              ],
              [
               0.1,
               "#c51b7d"
              ],
              [
               0.2,
               "#de77ae"
              ],
              [
               0.3,
               "#f1b6da"
              ],
              [
               0.4,
               "#fde0ef"
              ],
              [
               0.5,
               "#f7f7f7"
              ],
              [
               0.6,
               "#e6f5d0"
              ],
              [
               0.7,
               "#b8e186"
              ],
              [
               0.8,
               "#7fbc41"
              ],
              [
               0.9,
               "#4d9221"
              ],
              [
               1,
               "#276419"
              ]
             ],
             "sequential": [
              [
               0,
               "#0d0887"
              ],
              [
               0.1111111111111111,
               "#46039f"
              ],
              [
               0.2222222222222222,
               "#7201a8"
              ],
              [
               0.3333333333333333,
               "#9c179e"
              ],
              [
               0.4444444444444444,
               "#bd3786"
              ],
              [
               0.5555555555555556,
               "#d8576b"
              ],
              [
               0.6666666666666666,
               "#ed7953"
              ],
              [
               0.7777777777777778,
               "#fb9f3a"
              ],
              [
               0.8888888888888888,
               "#fdca26"
              ],
              [
               1,
               "#f0f921"
              ]
             ],
             "sequentialminus": [
              [
               0,
               "#0d0887"
              ],
              [
               0.1111111111111111,
               "#46039f"
              ],
              [
               0.2222222222222222,
               "#7201a8"
              ],
              [
               0.3333333333333333,
               "#9c179e"
              ],
              [
               0.4444444444444444,
               "#bd3786"
              ],
              [
               0.5555555555555556,
               "#d8576b"
              ],
              [
               0.6666666666666666,
               "#ed7953"
              ],
              [
               0.7777777777777778,
               "#fb9f3a"
              ],
              [
               0.8888888888888888,
               "#fdca26"
              ],
              [
               1,
               "#f0f921"
              ]
             ]
            },
            "colorway": [
             "#636efa",
             "#EF553B",
             "#00cc96",
             "#ab63fa",
             "#FFA15A",
             "#19d3f3",
             "#FF6692",
             "#B6E880",
             "#FF97FF",
             "#FECB52"
            ],
            "font": {
             "color": "#2a3f5f"
            },
            "geo": {
             "bgcolor": "white",
             "lakecolor": "white",
             "landcolor": "white",
             "showlakes": true,
             "showland": true,
             "subunitcolor": "#C8D4E3"
            },
            "hoverlabel": {
             "align": "left"
            },
            "hovermode": "closest",
            "mapbox": {
             "style": "light"
            },
            "paper_bgcolor": "white",
            "plot_bgcolor": "white",
            "polar": {
             "angularaxis": {
              "gridcolor": "#EBF0F8",
              "linecolor": "#EBF0F8",
              "ticks": ""
             },
             "bgcolor": "white",
             "radialaxis": {
              "gridcolor": "#EBF0F8",
              "linecolor": "#EBF0F8",
              "ticks": ""
             }
            },
            "scene": {
             "xaxis": {
              "backgroundcolor": "white",
              "gridcolor": "#DFE8F3",
              "gridwidth": 2,
              "linecolor": "#EBF0F8",
              "showbackground": true,
              "ticks": "",
              "zerolinecolor": "#EBF0F8"
             },
             "yaxis": {
              "backgroundcolor": "white",
              "gridcolor": "#DFE8F3",
              "gridwidth": 2,
              "linecolor": "#EBF0F8",
              "showbackground": true,
              "ticks": "",
              "zerolinecolor": "#EBF0F8"
             },
             "zaxis": {
              "backgroundcolor": "white",
              "gridcolor": "#DFE8F3",
              "gridwidth": 2,
              "linecolor": "#EBF0F8",
              "showbackground": true,
              "ticks": "",
              "zerolinecolor": "#EBF0F8"
             }
            },
            "shapedefaults": {
             "line": {
              "color": "#2a3f5f"
             }
            },
            "ternary": {
             "aaxis": {
              "gridcolor": "#DFE8F3",
              "linecolor": "#A2B1C6",
              "ticks": ""
             },
             "baxis": {
              "gridcolor": "#DFE8F3",
              "linecolor": "#A2B1C6",
              "ticks": ""
             },
             "bgcolor": "white",
             "caxis": {
              "gridcolor": "#DFE8F3",
              "linecolor": "#A2B1C6",
              "ticks": ""
             }
            },
            "title": {
             "x": 0.05
            },
            "xaxis": {
             "automargin": true,
             "gridcolor": "#EBF0F8",
             "linecolor": "#EBF0F8",
             "ticks": "",
             "title": {
              "standoff": 15
             },
             "zerolinecolor": "#EBF0F8",
             "zerolinewidth": 2
            },
            "yaxis": {
             "automargin": true,
             "gridcolor": "#EBF0F8",
             "linecolor": "#EBF0F8",
             "ticks": "",
             "title": {
              "standoff": 15
             },
             "zerolinecolor": "#EBF0F8",
             "zerolinewidth": 2
            }
           }
          },
          "xaxis": {
           "automargin": false,
           "linecolor": "#444",
           "linewidth": 2,
           "minor": {
            "tickmode": "linear",
            "ticks": "outside"
           },
           "mirror": true,
           "showline": true,
           "tickmode": "linear",
           "ticks": "outside",
           "zeroline": false
          },
          "yaxis": {
           "automargin": true,
           "linecolor": "#444",
           "linewidth": 2,
           "minor": {
            "tickmode": "linear",
            "ticks": "outside"
           },
           "mirror": true,
           "showline": true,
           "ticks": "outside",
           "zeroline": false
          }
         }
        },
        "width": 600,
        "xaxis": {
         "dtick": 5,
         "minor": {
          "dtick": 1,
          "tick0": 0
         },
         "range": [
          0,
          30.2
         ],
         "tick0": 0,
         "title": {
          "text": "challenge rating"
         }
        },
        "yaxis": {
         "dtick": 1,
         "minor": {
          "dtick": 0.25,
          "tick0": 0
         },
         "range": [
          -0.05,
          6
         ],
         "tick0": 0,
         "title": {
          "text": "condition immunities"
         }
        }
       }
      }
     },
     "metadata": {},
     "output_type": "display_data"
    }
   ],
   "source": [
    "# Plots average number of conditional immunities for monsters at each CR.\n",
    "conditions = ['All Conditions']\n",
    "colors = ['black']\n",
    "\n",
    "# create figure\n",
    "fig = go.Figure(\n",
    "    layout=go.Layout(\n",
    "        template=tfb.FIG_TEMPLATE,\n",
    "        xaxis=dict(\n",
    "            title_text='challenge rating',\n",
    "            range=[0.0, 30.2],\n",
    "            tick0=0, dtick=5,\n",
    "            minor=dict(tick0=0, dtick=1),\n",
    "        ),\n",
    "        yaxis=dict(\n",
    "            title_text='condition immunities',\n",
    "            range=[-0.05, 6],\n",
    "            tick0=0, dtick=1.0,\n",
    "            minor=dict(tick0=0, dtick=0.25),\n",
    "        ),\n",
    "        legend=dict(\n",
    "            yanchor='top',  y=0.99,\n",
    "            xanchor='left', x=0.01,\n",
    "            orientation='v',\n",
    "        )\n",
    "    )\n",
    ")\n",
    "\n",
    "#df1 = df0[df0['Category'].isin(['generic','legendary','unique']) & df0['CR'].between(1/8, 30)]\n",
    "df1 = df0[df0['CR'].between(1/8, 30)]\n",
    "dfG = df1[['CR'] + conditions].groupby('CR').mean()\n",
    "for condition, color in zip(conditions, colors):\n",
    "    dfR = dfG[condition].rolling(1, center=True).mean()\n",
    "    fig.add_trace(go.Scatter(\n",
    "        x=dfR.index.to_series(),\n",
    "        y=dfR,\n",
    "        mode='lines+markers', \n",
    "        line=dict(color=color, dash='solid'),\n",
    "        unselected=dict(marker=dict(opacity=0.0)),\n",
    "        name=condition,\n",
    "        hovertemplate=\n",
    "            'CR %{x}<br>'+\n",
    "            'immunities %{y:.2f}'+\n",
    "            '<extra></extra>'\n",
    "    ))\n",
    "\n",
    "\n",
    "# show figure\n",
    "fig.update_layout(width=600, height=500)\n",
    "fig.show(config=tfb.FIG_CONFIG)\n",
    "\n",
    "# save figures\n",
    "if SAVEFIGS:\n",
    "    \"\"\"fig.update_layout(autosize=True, width=None, height=None)\n",
    "    tfb.save_fig_html(fig, format='large', name=f'./fig-condition-immunity-prob-vs-cr-large', style='aspect-ratio:600/500')\n",
    "    tfb.save_fig_html(fig, format='small', name=f'./fig-condition-immunity-prob-vs-cr-small', style='aspect-ratio:600/500')\"\"\"\n",
    "    pass"
   ]
  },
  {
   "cell_type": "code",
   "execution_count": 10,
   "metadata": {},
   "outputs": [
    {
     "data": {
      "application/vnd.plotly.v1+json": {
       "config": {
        "autosizable": true,
        "displayModeBar": "hover",
        "displaylogo": false,
        "doubleClick": "reset",
        "modeBarButtonsToRemove": [
         "select2d",
         "lasso2d",
         "zoom2d",
         "zoomIn2d",
         "zoomOut2d",
         "pan2d",
         "autoScale2d",
         "hoverClosestCartesian",
         "hoverCompareCartesian",
         "toggleSpikelines",
         "resetScale2d"
        ],
        "plotlyServerURL": "https://plot.ly",
        "responsive": true,
        "showAxisDragHandles": false,
        "toImageButtonOptions": {
         "filename": "tfb-plot",
         "format": "png",
         "height": 450,
         "scale": 2,
         "width": 600
        }
       },
       "data": [
        {
         "histfunc": "avg",
         "hovertemplate": "<b>%{x}:</b> %{y:.2f}<br><extra></extra>",
         "name": "All Conditions",
         "type": "histogram",
         "x": [
          "aberration",
          "beast",
          "celestial",
          "construct",
          "dragon",
          "elemental",
          "fey",
          "fiend",
          "giant",
          "humanoid",
          "monstrosity",
          "ooze",
          "plant",
          "undead"
         ],
         "y": [
          1.4598540145985401,
          0.7063492063492064,
          2.2444444444444445,
          5.3,
          0.6222222222222222,
          4.1395348837209305,
          0.5769230769230769,
          2.5245098039215685,
          0.8241758241758241,
          0.23734729493891799,
          0.6085271317829457,
          5,
          1.7647058823529411,
          4.327868852459017
         ]
        }
       ],
       "layout": {
        "height": 500,
        "template": {
         "layout": {
          "autosize": false,
          "font": {
           "family": "sans-serif",
           "size": 14
          },
          "hoverlabel": {
           "align": "left"
          },
          "hovermode": "closest",
          "margin": {
           "b": 55,
           "l": 60,
           "pad": 4,
           "r": 25,
           "t": 20
          },
          "template": {
           "data": {
            "bar": [
             {
              "error_x": {
               "color": "#2a3f5f"
              },
              "error_y": {
               "color": "#2a3f5f"
              },
              "marker": {
               "line": {
                "color": "white",
                "width": 0.5
               },
               "pattern": {
                "fillmode": "overlay",
                "size": 10,
                "solidity": 0.2
               }
              },
              "type": "bar"
             }
            ],
            "barpolar": [
             {
              "marker": {
               "line": {
                "color": "white",
                "width": 0.5
               },
               "pattern": {
                "fillmode": "overlay",
                "size": 10,
                "solidity": 0.2
               }
              },
              "type": "barpolar"
             }
            ],
            "carpet": [
             {
              "aaxis": {
               "endlinecolor": "#2a3f5f",
               "gridcolor": "#C8D4E3",
               "linecolor": "#C8D4E3",
               "minorgridcolor": "#C8D4E3",
               "startlinecolor": "#2a3f5f"
              },
              "baxis": {
               "endlinecolor": "#2a3f5f",
               "gridcolor": "#C8D4E3",
               "linecolor": "#C8D4E3",
               "minorgridcolor": "#C8D4E3",
               "startlinecolor": "#2a3f5f"
              },
              "type": "carpet"
             }
            ],
            "choropleth": [
             {
              "colorbar": {
               "outlinewidth": 0,
               "ticks": ""
              },
              "type": "choropleth"
             }
            ],
            "contour": [
             {
              "colorbar": {
               "outlinewidth": 0,
               "ticks": ""
              },
              "colorscale": [
               [
                0,
                "#0d0887"
               ],
               [
                0.1111111111111111,
                "#46039f"
               ],
               [
                0.2222222222222222,
                "#7201a8"
               ],
               [
                0.3333333333333333,
                "#9c179e"
               ],
               [
                0.4444444444444444,
                "#bd3786"
               ],
               [
                0.5555555555555556,
                "#d8576b"
               ],
               [
                0.6666666666666666,
                "#ed7953"
               ],
               [
                0.7777777777777778,
                "#fb9f3a"
               ],
               [
                0.8888888888888888,
                "#fdca26"
               ],
               [
                1,
                "#f0f921"
               ]
              ],
              "type": "contour"
             }
            ],
            "contourcarpet": [
             {
              "colorbar": {
               "outlinewidth": 0,
               "ticks": ""
              },
              "type": "contourcarpet"
             }
            ],
            "heatmap": [
             {
              "colorbar": {
               "outlinewidth": 0,
               "ticks": ""
              },
              "colorscale": [
               [
                0,
                "#0d0887"
               ],
               [
                0.1111111111111111,
                "#46039f"
               ],
               [
                0.2222222222222222,
                "#7201a8"
               ],
               [
                0.3333333333333333,
                "#9c179e"
               ],
               [
                0.4444444444444444,
                "#bd3786"
               ],
               [
                0.5555555555555556,
                "#d8576b"
               ],
               [
                0.6666666666666666,
                "#ed7953"
               ],
               [
                0.7777777777777778,
                "#fb9f3a"
               ],
               [
                0.8888888888888888,
                "#fdca26"
               ],
               [
                1,
                "#f0f921"
               ]
              ],
              "type": "heatmap"
             }
            ],
            "heatmapgl": [
             {
              "colorbar": {
               "outlinewidth": 0,
               "ticks": ""
              },
              "colorscale": [
               [
                0,
                "#0d0887"
               ],
               [
                0.1111111111111111,
                "#46039f"
               ],
               [
                0.2222222222222222,
                "#7201a8"
               ],
               [
                0.3333333333333333,
                "#9c179e"
               ],
               [
                0.4444444444444444,
                "#bd3786"
               ],
               [
                0.5555555555555556,
                "#d8576b"
               ],
               [
                0.6666666666666666,
                "#ed7953"
               ],
               [
                0.7777777777777778,
                "#fb9f3a"
               ],
               [
                0.8888888888888888,
                "#fdca26"
               ],
               [
                1,
                "#f0f921"
               ]
              ],
              "type": "heatmapgl"
             }
            ],
            "histogram": [
             {
              "marker": {
               "pattern": {
                "fillmode": "overlay",
                "size": 10,
                "solidity": 0.2
               }
              },
              "type": "histogram"
             }
            ],
            "histogram2d": [
             {
              "colorbar": {
               "outlinewidth": 0,
               "ticks": ""
              },
              "colorscale": [
               [
                0,
                "#0d0887"
               ],
               [
                0.1111111111111111,
                "#46039f"
               ],
               [
                0.2222222222222222,
                "#7201a8"
               ],
               [
                0.3333333333333333,
                "#9c179e"
               ],
               [
                0.4444444444444444,
                "#bd3786"
               ],
               [
                0.5555555555555556,
                "#d8576b"
               ],
               [
                0.6666666666666666,
                "#ed7953"
               ],
               [
                0.7777777777777778,
                "#fb9f3a"
               ],
               [
                0.8888888888888888,
                "#fdca26"
               ],
               [
                1,
                "#f0f921"
               ]
              ],
              "type": "histogram2d"
             }
            ],
            "histogram2dcontour": [
             {
              "colorbar": {
               "outlinewidth": 0,
               "ticks": ""
              },
              "colorscale": [
               [
                0,
                "#0d0887"
               ],
               [
                0.1111111111111111,
                "#46039f"
               ],
               [
                0.2222222222222222,
                "#7201a8"
               ],
               [
                0.3333333333333333,
                "#9c179e"
               ],
               [
                0.4444444444444444,
                "#bd3786"
               ],
               [
                0.5555555555555556,
                "#d8576b"
               ],
               [
                0.6666666666666666,
                "#ed7953"
               ],
               [
                0.7777777777777778,
                "#fb9f3a"
               ],
               [
                0.8888888888888888,
                "#fdca26"
               ],
               [
                1,
                "#f0f921"
               ]
              ],
              "type": "histogram2dcontour"
             }
            ],
            "mesh3d": [
             {
              "colorbar": {
               "outlinewidth": 0,
               "ticks": ""
              },
              "type": "mesh3d"
             }
            ],
            "parcoords": [
             {
              "line": {
               "colorbar": {
                "outlinewidth": 0,
                "ticks": ""
               }
              },
              "type": "parcoords"
             }
            ],
            "pie": [
             {
              "automargin": true,
              "type": "pie"
             }
            ],
            "scatter": [
             {
              "fillpattern": {
               "fillmode": "overlay",
               "size": 10,
               "solidity": 0.2
              },
              "type": "scatter"
             }
            ],
            "scatter3d": [
             {
              "line": {
               "colorbar": {
                "outlinewidth": 0,
                "ticks": ""
               }
              },
              "marker": {
               "colorbar": {
                "outlinewidth": 0,
                "ticks": ""
               }
              },
              "type": "scatter3d"
             }
            ],
            "scattercarpet": [
             {
              "marker": {
               "colorbar": {
                "outlinewidth": 0,
                "ticks": ""
               }
              },
              "type": "scattercarpet"
             }
            ],
            "scattergeo": [
             {
              "marker": {
               "colorbar": {
                "outlinewidth": 0,
                "ticks": ""
               }
              },
              "type": "scattergeo"
             }
            ],
            "scattergl": [
             {
              "marker": {
               "colorbar": {
                "outlinewidth": 0,
                "ticks": ""
               }
              },
              "type": "scattergl"
             }
            ],
            "scattermapbox": [
             {
              "marker": {
               "colorbar": {
                "outlinewidth": 0,
                "ticks": ""
               }
              },
              "type": "scattermapbox"
             }
            ],
            "scatterpolar": [
             {
              "marker": {
               "colorbar": {
                "outlinewidth": 0,
                "ticks": ""
               }
              },
              "type": "scatterpolar"
             }
            ],
            "scatterpolargl": [
             {
              "marker": {
               "colorbar": {
                "outlinewidth": 0,
                "ticks": ""
               }
              },
              "type": "scatterpolargl"
             }
            ],
            "scatterternary": [
             {
              "marker": {
               "colorbar": {
                "outlinewidth": 0,
                "ticks": ""
               }
              },
              "type": "scatterternary"
             }
            ],
            "surface": [
             {
              "colorbar": {
               "outlinewidth": 0,
               "ticks": ""
              },
              "colorscale": [
               [
                0,
                "#0d0887"
               ],
               [
                0.1111111111111111,
                "#46039f"
               ],
               [
                0.2222222222222222,
                "#7201a8"
               ],
               [
                0.3333333333333333,
                "#9c179e"
               ],
               [
                0.4444444444444444,
                "#bd3786"
               ],
               [
                0.5555555555555556,
                "#d8576b"
               ],
               [
                0.6666666666666666,
                "#ed7953"
               ],
               [
                0.7777777777777778,
                "#fb9f3a"
               ],
               [
                0.8888888888888888,
                "#fdca26"
               ],
               [
                1,
                "#f0f921"
               ]
              ],
              "type": "surface"
             }
            ],
            "table": [
             {
              "cells": {
               "fill": {
                "color": "#EBF0F8"
               },
               "line": {
                "color": "white"
               }
              },
              "header": {
               "fill": {
                "color": "#C8D4E3"
               },
               "line": {
                "color": "white"
               }
              },
              "type": "table"
             }
            ]
           },
           "layout": {
            "annotationdefaults": {
             "arrowcolor": "#2a3f5f",
             "arrowhead": 0,
             "arrowwidth": 1
            },
            "autotypenumbers": "strict",
            "coloraxis": {
             "colorbar": {
              "outlinewidth": 0,
              "ticks": ""
             }
            },
            "colorscale": {
             "diverging": [
              [
               0,
               "#8e0152"
              ],
              [
               0.1,
               "#c51b7d"
              ],
              [
               0.2,
               "#de77ae"
              ],
              [
               0.3,
               "#f1b6da"
              ],
              [
               0.4,
               "#fde0ef"
              ],
              [
               0.5,
               "#f7f7f7"
              ],
              [
               0.6,
               "#e6f5d0"
              ],
              [
               0.7,
               "#b8e186"
              ],
              [
               0.8,
               "#7fbc41"
              ],
              [
               0.9,
               "#4d9221"
              ],
              [
               1,
               "#276419"
              ]
             ],
             "sequential": [
              [
               0,
               "#0d0887"
              ],
              [
               0.1111111111111111,
               "#46039f"
              ],
              [
               0.2222222222222222,
               "#7201a8"
              ],
              [
               0.3333333333333333,
               "#9c179e"
              ],
              [
               0.4444444444444444,
               "#bd3786"
              ],
              [
               0.5555555555555556,
               "#d8576b"
              ],
              [
               0.6666666666666666,
               "#ed7953"
              ],
              [
               0.7777777777777778,
               "#fb9f3a"
              ],
              [
               0.8888888888888888,
               "#fdca26"
              ],
              [
               1,
               "#f0f921"
              ]
             ],
             "sequentialminus": [
              [
               0,
               "#0d0887"
              ],
              [
               0.1111111111111111,
               "#46039f"
              ],
              [
               0.2222222222222222,
               "#7201a8"
              ],
              [
               0.3333333333333333,
               "#9c179e"
              ],
              [
               0.4444444444444444,
               "#bd3786"
              ],
              [
               0.5555555555555556,
               "#d8576b"
              ],
              [
               0.6666666666666666,
               "#ed7953"
              ],
              [
               0.7777777777777778,
               "#fb9f3a"
              ],
              [
               0.8888888888888888,
               "#fdca26"
              ],
              [
               1,
               "#f0f921"
              ]
             ]
            },
            "colorway": [
             "#636efa",
             "#EF553B",
             "#00cc96",
             "#ab63fa",
             "#FFA15A",
             "#19d3f3",
             "#FF6692",
             "#B6E880",
             "#FF97FF",
             "#FECB52"
            ],
            "font": {
             "color": "#2a3f5f"
            },
            "geo": {
             "bgcolor": "white",
             "lakecolor": "white",
             "landcolor": "white",
             "showlakes": true,
             "showland": true,
             "subunitcolor": "#C8D4E3"
            },
            "hoverlabel": {
             "align": "left"
            },
            "hovermode": "closest",
            "mapbox": {
             "style": "light"
            },
            "paper_bgcolor": "white",
            "plot_bgcolor": "white",
            "polar": {
             "angularaxis": {
              "gridcolor": "#EBF0F8",
              "linecolor": "#EBF0F8",
              "ticks": ""
             },
             "bgcolor": "white",
             "radialaxis": {
              "gridcolor": "#EBF0F8",
              "linecolor": "#EBF0F8",
              "ticks": ""
             }
            },
            "scene": {
             "xaxis": {
              "backgroundcolor": "white",
              "gridcolor": "#DFE8F3",
              "gridwidth": 2,
              "linecolor": "#EBF0F8",
              "showbackground": true,
              "ticks": "",
              "zerolinecolor": "#EBF0F8"
             },
             "yaxis": {
              "backgroundcolor": "white",
              "gridcolor": "#DFE8F3",
              "gridwidth": 2,
              "linecolor": "#EBF0F8",
              "showbackground": true,
              "ticks": "",
              "zerolinecolor": "#EBF0F8"
             },
             "zaxis": {
              "backgroundcolor": "white",
              "gridcolor": "#DFE8F3",
              "gridwidth": 2,
              "linecolor": "#EBF0F8",
              "showbackground": true,
              "ticks": "",
              "zerolinecolor": "#EBF0F8"
             }
            },
            "shapedefaults": {
             "line": {
              "color": "#2a3f5f"
             }
            },
            "ternary": {
             "aaxis": {
              "gridcolor": "#DFE8F3",
              "linecolor": "#A2B1C6",
              "ticks": ""
             },
             "baxis": {
              "gridcolor": "#DFE8F3",
              "linecolor": "#A2B1C6",
              "ticks": ""
             },
             "bgcolor": "white",
             "caxis": {
              "gridcolor": "#DFE8F3",
              "linecolor": "#A2B1C6",
              "ticks": ""
             }
            },
            "title": {
             "x": 0.05
            },
            "xaxis": {
             "automargin": true,
             "gridcolor": "#EBF0F8",
             "linecolor": "#EBF0F8",
             "ticks": "",
             "title": {
              "standoff": 15
             },
             "zerolinecolor": "#EBF0F8",
             "zerolinewidth": 2
            },
            "yaxis": {
             "automargin": true,
             "gridcolor": "#EBF0F8",
             "linecolor": "#EBF0F8",
             "ticks": "",
             "title": {
              "standoff": 15
             },
             "zerolinecolor": "#EBF0F8",
             "zerolinewidth": 2
            }
           }
          },
          "xaxis": {
           "automargin": false,
           "linecolor": "#444",
           "linewidth": 2,
           "minor": {
            "tickmode": "linear",
            "ticks": "outside"
           },
           "mirror": true,
           "showline": true,
           "tickmode": "linear",
           "ticks": "outside",
           "zeroline": false
          },
          "yaxis": {
           "automargin": true,
           "linecolor": "#444",
           "linewidth": 2,
           "minor": {
            "tickmode": "linear",
            "ticks": "outside"
           },
           "mirror": true,
           "showline": true,
           "ticks": "outside",
           "zeroline": false
          }
         }
        },
        "width": 600,
        "xaxis": {
         "automargin": true,
         "range": [
          -0.5,
          13.5
         ],
         "title": {
          "text": ""
         }
        },
        "yaxis": {
         "dtick": 1,
         "minor": {
          "dtick": 0.5,
          "tick0": 0
         },
         "range": [
          0,
          6
         ],
         "tick0": 0,
         "title": {
          "text": "condition immunities"
         }
        }
       }
      }
     },
     "metadata": {},
     "output_type": "display_data"
    }
   ],
   "source": [
    "# Plots the average number of condition immunities for monsters of each type.\n",
    "condition = 'All Conditions'\n",
    "\n",
    "#df1 = df0[df0['Category'].isin(['generic','legendary','unique']) & df0['CR'].between(1/8, 30)]\n",
    "df1 = df0[df0['CR'].between(1/8, 30)]\n",
    "dfG = df1[['Type',condition]].groupby(['Type'], observed=False).mean().reset_index()\n",
    "\n",
    "fig = go.Figure(\n",
    "    layout=go.Layout(\n",
    "        template=tfb.FIG_TEMPLATE,\n",
    "        xaxis=dict(\n",
    "            title_text='',\n",
    "            automargin=True,\n",
    "            range=[-0.5, 14-0.5],\n",
    "        ),\n",
    "        yaxis=dict(\n",
    "            title_text=f'condition immunities',\n",
    "            range=[0.0, 6.0],\n",
    "            tick0=0, dtick=1.0,\n",
    "            minor=dict(tick0=0, dtick=0.5),\n",
    "        )\n",
    "    )\n",
    ")\n",
    "\n",
    "fig.add_trace(go.Histogram(\n",
    "    histfunc='avg', \n",
    "    x=dfG['Type'], \n",
    "    y=dfG[condition], \n",
    "    name=condition,\n",
    "    hovertemplate=\n",
    "        '<b>%{x}:</b> %{y:.2f}<br>'+\n",
    "        '<extra></extra>',\n",
    "))\n",
    "\n",
    "# show figure\n",
    "fig.update_layout(width=600, height=500)\n",
    "fig.show(config=tfb.FIG_CONFIG)\n",
    "\n",
    "# save figures\n",
    "if SAVEFIGS:\n",
    "    \"\"\"fig.update_layout(autosize=True, width=None, height=None)\n",
    "    tfb.save_fig_html(fig, format='large', name=f'./fig-condition-immunity-prob-vs-cr-large', style='aspect-ratio:600/550')\n",
    "    tfb.save_fig_html(fig, format='small', name=f'./fig-condition-immunity-prob-vs-cr-small', style='aspect-ratio:600/550')\"\"\"\n",
    "    pass"
   ]
  },
  {
   "cell_type": "code",
   "execution_count": null,
   "metadata": {},
   "outputs": [],
   "source": [
    "# Runs a linear regression fit for immunity to one condition based on monster CR and type.\n",
    "import warnings\n",
    "warnings.filterwarnings('ignore')\n",
    "import statsmodels.api as sm\n",
    "from sklearn.linear_model import LinearRegression\n",
    "\n",
    "yCol = 'Poisoned'\n",
    "xCols = ['CR','Type']\n",
    "aCols = [yCol] + xCols\n",
    "df1 = df0[aCols]\n",
    "X = pd.get_dummies(data=df1[xCols], drop_first=False)\n",
    "Y = df1[yCol]\n",
    "\n",
    "model = LinearRegression()\n",
    "model.fit(X, Y)\n",
    "\n",
    "coeff_parameter = pd.DataFrame(model.coef_, X.columns, columns=['Coefficient'])\n",
    "\n",
    "# generate report\n",
    "X_Sm = sm.add_constant(X)\n",
    "ls = sm.OLS(Y, X_Sm).fit()\n",
    "print(ls.summary())"
   ]
  }
 ],
 "metadata": {
  "kernelspec": {
   "display_name": "thefinishedbook",
   "language": "python",
   "name": "python3"
  },
  "language_info": {
   "codemirror_mode": {
    "name": "ipython",
    "version": 3
   },
   "file_extension": ".py",
   "mimetype": "text/x-python",
   "name": "python",
   "nbconvert_exporter": "python",
   "pygments_lexer": "ipython3",
   "version": "3.10.5"
  },
  "orig_nbformat": 4,
  "vscode": {
   "interpreter": {
    "hash": "e4b90a08ac11b7f80ea6e39e6f46c6e22a0b6d86a47874aaa13784019f162251"
   }
  }
 },
 "nbformat": 4,
 "nbformat_minor": 2
}
