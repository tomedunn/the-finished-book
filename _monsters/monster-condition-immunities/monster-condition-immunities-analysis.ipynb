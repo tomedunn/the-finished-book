{
 "cells": [
  {
   "cell_type": "code",
   "execution_count": 1,
   "metadata": {},
   "outputs": [
    {
     "name": "stdout",
     "output_type": "stream",
     "text": [
      "Includes 1875 monsters in database\n"
     ]
    }
   ],
   "source": [
    "# Initialize notebook\n",
    "import pandas as pd\n",
    "import numpy as np\n",
    "import plotly.graph_objects as go\n",
    "import sys\n",
    "sys.path.append('../../assets/python/')\n",
    "import tfb\n",
    "\n",
    "METADATA = {'Contributor': 'T. Dunn'}\n",
    "SAVEFIGS = False\n",
    "\n",
    "df0 = pd.read_csv('../../assets/data/monsters.csv')\n",
    "df0 = df0.astype({'Book': 'category', 'Type': 'category', 'Size': 'category'})\n",
    "df0['All Conditions'] = df0['Blinded'] + df0['Charmed'] + df0['Deafened'] + df0['Exhaustion'] + df0['Frightened'] + df0['Grappled'] + df0['Incapacitated'] + df0['Invisible'] + df0['Paralyzed'] + df0['Petrified'] + df0['Poisoned'] + df0['Prone'] + df0['Restrained'] + df0['Stunned'] + df0['Unconscious']\n",
    "df0.drop_duplicates(inplace=True)\n",
    "print('Includes {} monsters in database'.format(len(df0.index.to_list())))\n",
    "\n",
    "CONDITIONS = ['Blinded','Charmed','Deafened','Exhaustion','Frightened',\n",
    "    'Grappled','Incapacitated','Invisible','Paralyzed','Petrified',\n",
    "    'Poisoned','Prone','Restrained','Stunned','Unconscious']\n",
    "CONDITION_COLORS = ['gold', 'red', 'green', 'orange', 'teal',\n",
    "    'purple', 'navy', 'maroon', 'olivedrab', 'orangered',\n",
    "    'blue', 'darkviolet', 'dodgerblue', 'brown', 'darkgreen']"
   ]
  },
  {
   "cell_type": "code",
   "execution_count": 5,
   "metadata": {},
   "outputs": [
    {
     "data": {
      "application/vnd.plotly.v1+json": {
       "config": {
        "autosizable": true,
        "displayModeBar": "hover",
        "displaylogo": false,
        "modeBarButtonsToRemove": [
         "select2d",
         "lasso2d",
         "zoom2d",
         "zoomIn2d",
         "zoomOut2d",
         "pan2d",
         "autoScale2d",
         "hoverClosestCartesian",
         "hoverCompareCartesian",
         "toggleSpikelines",
         "resetScale2d"
        ],
        "plotlyServerURL": "https://plot.ly",
        "responsive": true,
        "showAxisDragHandles": false,
        "toImageButtonOptions": {
         "filename": "tfb-plot",
         "format": "png",
         "height": 450,
         "scale": 2,
         "width": 600
        }
       },
       "data": [
        {
         "hovertemplate": "<b>Condition:</b> %{x}<br><b>Immune:</b> %{text}<extra></extra>",
         "marker": {
          "line": {
           "color": "Black",
           "width": 1
          },
          "size": 10
         },
         "mode": "markers",
         "text": [
          "6% (112 out of 1875)",
          "23% (439 out of 1875)",
          "5% (85 out of 1875)",
          "19% (358 out of 1875)",
          "24% (446 out of 1875)",
          "5% (91 out of 1875)",
          "0% (1 out of 1875)",
          "0% (0 out of 1875)",
          "14% (268 out of 1875)",
          "11% (212 out of 1875)",
          "30% (559 out of 1875)",
          "9% (173 out of 1875)",
          "5% (97 out of 1875)",
          "4% (69 out of 1875)",
          "2% (43 out of 1875)"
         ],
         "type": "scatter",
         "unselected": {
          "marker": {
           "opacity": 0
          }
         },
         "x": [
          "Blinded",
          "Charmed",
          "Deafened",
          "Exhaustion",
          "Frightened",
          "Grappled",
          "Incapacitated",
          "Invisible",
          "Paralyzed",
          "Petrified",
          "Poisoned",
          "Prone",
          "Restrained",
          "Stunned",
          "Unconscious"
         ],
         "y": [
          5.973333333333334,
          23.413333333333334,
          4.533333333333333,
          19.093333333333334,
          23.78666666666667,
          4.8533333333333335,
          0.05333333333333334,
          0,
          14.293333333333333,
          11.306666666666667,
          29.81333333333333,
          9.226666666666667,
          5.173333333333333,
          3.6799999999999997,
          2.2933333333333334
         ]
        }
       ],
       "layout": {
        "height": 500,
        "template": {
         "layout": {
          "autosize": false,
          "font": {
           "family": "sans-serif",
           "size": 14
          },
          "hoverlabel": {
           "align": "left"
          },
          "hovermode": "closest",
          "margin": {
           "b": 55,
           "l": 60,
           "pad": 4,
           "r": 25,
           "t": 20
          },
          "template": {
           "data": {
            "bar": [
             {
              "error_x": {
               "color": "#2a3f5f"
              },
              "error_y": {
               "color": "#2a3f5f"
              },
              "marker": {
               "line": {
                "color": "white",
                "width": 0.5
               },
               "pattern": {
                "fillmode": "overlay",
                "size": 10,
                "solidity": 0.2
               }
              },
              "type": "bar"
             }
            ],
            "barpolar": [
             {
              "marker": {
               "line": {
                "color": "white",
                "width": 0.5
               },
               "pattern": {
                "fillmode": "overlay",
                "size": 10,
                "solidity": 0.2
               }
              },
              "type": "barpolar"
             }
            ],
            "carpet": [
             {
              "aaxis": {
               "endlinecolor": "#2a3f5f",
               "gridcolor": "#C8D4E3",
               "linecolor": "#C8D4E3",
               "minorgridcolor": "#C8D4E3",
               "startlinecolor": "#2a3f5f"
              },
              "baxis": {
               "endlinecolor": "#2a3f5f",
               "gridcolor": "#C8D4E3",
               "linecolor": "#C8D4E3",
               "minorgridcolor": "#C8D4E3",
               "startlinecolor": "#2a3f5f"
              },
              "type": "carpet"
             }
            ],
            "choropleth": [
             {
              "colorbar": {
               "outlinewidth": 0,
               "ticks": ""
              },
              "type": "choropleth"
             }
            ],
            "contour": [
             {
              "colorbar": {
               "outlinewidth": 0,
               "ticks": ""
              },
              "colorscale": [
               [
                0,
                "#0d0887"
               ],
               [
                0.1111111111111111,
                "#46039f"
               ],
               [
                0.2222222222222222,
                "#7201a8"
               ],
               [
                0.3333333333333333,
                "#9c179e"
               ],
               [
                0.4444444444444444,
                "#bd3786"
               ],
               [
                0.5555555555555556,
                "#d8576b"
               ],
               [
                0.6666666666666666,
                "#ed7953"
               ],
               [
                0.7777777777777778,
                "#fb9f3a"
               ],
               [
                0.8888888888888888,
                "#fdca26"
               ],
               [
                1,
                "#f0f921"
               ]
              ],
              "type": "contour"
             }
            ],
            "contourcarpet": [
             {
              "colorbar": {
               "outlinewidth": 0,
               "ticks": ""
              },
              "type": "contourcarpet"
             }
            ],
            "heatmap": [
             {
              "colorbar": {
               "outlinewidth": 0,
               "ticks": ""
              },
              "colorscale": [
               [
                0,
                "#0d0887"
               ],
               [
                0.1111111111111111,
                "#46039f"
               ],
               [
                0.2222222222222222,
                "#7201a8"
               ],
               [
                0.3333333333333333,
                "#9c179e"
               ],
               [
                0.4444444444444444,
                "#bd3786"
               ],
               [
                0.5555555555555556,
                "#d8576b"
               ],
               [
                0.6666666666666666,
                "#ed7953"
               ],
               [
                0.7777777777777778,
                "#fb9f3a"
               ],
               [
                0.8888888888888888,
                "#fdca26"
               ],
               [
                1,
                "#f0f921"
               ]
              ],
              "type": "heatmap"
             }
            ],
            "heatmapgl": [
             {
              "colorbar": {
               "outlinewidth": 0,
               "ticks": ""
              },
              "colorscale": [
               [
                0,
                "#0d0887"
               ],
               [
                0.1111111111111111,
                "#46039f"
               ],
               [
                0.2222222222222222,
                "#7201a8"
               ],
               [
                0.3333333333333333,
                "#9c179e"
               ],
               [
                0.4444444444444444,
                "#bd3786"
               ],
               [
                0.5555555555555556,
                "#d8576b"
               ],
               [
                0.6666666666666666,
                "#ed7953"
               ],
               [
                0.7777777777777778,
                "#fb9f3a"
               ],
               [
                0.8888888888888888,
                "#fdca26"
               ],
               [
                1,
                "#f0f921"
               ]
              ],
              "type": "heatmapgl"
             }
            ],
            "histogram": [
             {
              "marker": {
               "pattern": {
                "fillmode": "overlay",
                "size": 10,
                "solidity": 0.2
               }
              },
              "type": "histogram"
             }
            ],
            "histogram2d": [
             {
              "colorbar": {
               "outlinewidth": 0,
               "ticks": ""
              },
              "colorscale": [
               [
                0,
                "#0d0887"
               ],
               [
                0.1111111111111111,
                "#46039f"
               ],
               [
                0.2222222222222222,
                "#7201a8"
               ],
               [
                0.3333333333333333,
                "#9c179e"
               ],
               [
                0.4444444444444444,
                "#bd3786"
               ],
               [
                0.5555555555555556,
                "#d8576b"
               ],
               [
                0.6666666666666666,
                "#ed7953"
               ],
               [
                0.7777777777777778,
                "#fb9f3a"
               ],
               [
                0.8888888888888888,
                "#fdca26"
               ],
               [
                1,
                "#f0f921"
               ]
              ],
              "type": "histogram2d"
             }
            ],
            "histogram2dcontour": [
             {
              "colorbar": {
               "outlinewidth": 0,
               "ticks": ""
              },
              "colorscale": [
               [
                0,
                "#0d0887"
               ],
               [
                0.1111111111111111,
                "#46039f"
               ],
               [
                0.2222222222222222,
                "#7201a8"
               ],
               [
                0.3333333333333333,
                "#9c179e"
               ],
               [
                0.4444444444444444,
                "#bd3786"
               ],
               [
                0.5555555555555556,
                "#d8576b"
               ],
               [
                0.6666666666666666,
                "#ed7953"
               ],
               [
                0.7777777777777778,
                "#fb9f3a"
               ],
               [
                0.8888888888888888,
                "#fdca26"
               ],
               [
                1,
                "#f0f921"
               ]
              ],
              "type": "histogram2dcontour"
             }
            ],
            "mesh3d": [
             {
              "colorbar": {
               "outlinewidth": 0,
               "ticks": ""
              },
              "type": "mesh3d"
             }
            ],
            "parcoords": [
             {
              "line": {
               "colorbar": {
                "outlinewidth": 0,
                "ticks": ""
               }
              },
              "type": "parcoords"
             }
            ],
            "pie": [
             {
              "automargin": true,
              "type": "pie"
             }
            ],
            "scatter": [
             {
              "fillpattern": {
               "fillmode": "overlay",
               "size": 10,
               "solidity": 0.2
              },
              "type": "scatter"
             }
            ],
            "scatter3d": [
             {
              "line": {
               "colorbar": {
                "outlinewidth": 0,
                "ticks": ""
               }
              },
              "marker": {
               "colorbar": {
                "outlinewidth": 0,
                "ticks": ""
               }
              },
              "type": "scatter3d"
             }
            ],
            "scattercarpet": [
             {
              "marker": {
               "colorbar": {
                "outlinewidth": 0,
                "ticks": ""
               }
              },
              "type": "scattercarpet"
             }
            ],
            "scattergeo": [
             {
              "marker": {
               "colorbar": {
                "outlinewidth": 0,
                "ticks": ""
               }
              },
              "type": "scattergeo"
             }
            ],
            "scattergl": [
             {
              "marker": {
               "colorbar": {
                "outlinewidth": 0,
                "ticks": ""
               }
              },
              "type": "scattergl"
             }
            ],
            "scattermapbox": [
             {
              "marker": {
               "colorbar": {
                "outlinewidth": 0,
                "ticks": ""
               }
              },
              "type": "scattermapbox"
             }
            ],
            "scatterpolar": [
             {
              "marker": {
               "colorbar": {
                "outlinewidth": 0,
                "ticks": ""
               }
              },
              "type": "scatterpolar"
             }
            ],
            "scatterpolargl": [
             {
              "marker": {
               "colorbar": {
                "outlinewidth": 0,
                "ticks": ""
               }
              },
              "type": "scatterpolargl"
             }
            ],
            "scatterternary": [
             {
              "marker": {
               "colorbar": {
                "outlinewidth": 0,
                "ticks": ""
               }
              },
              "type": "scatterternary"
             }
            ],
            "surface": [
             {
              "colorbar": {
               "outlinewidth": 0,
               "ticks": ""
              },
              "colorscale": [
               [
                0,
                "#0d0887"
               ],
               [
                0.1111111111111111,
                "#46039f"
               ],
               [
                0.2222222222222222,
                "#7201a8"
               ],
               [
                0.3333333333333333,
                "#9c179e"
               ],
               [
                0.4444444444444444,
                "#bd3786"
               ],
               [
                0.5555555555555556,
                "#d8576b"
               ],
               [
                0.6666666666666666,
                "#ed7953"
               ],
               [
                0.7777777777777778,
                "#fb9f3a"
               ],
               [
                0.8888888888888888,
                "#fdca26"
               ],
               [
                1,
                "#f0f921"
               ]
              ],
              "type": "surface"
             }
            ],
            "table": [
             {
              "cells": {
               "fill": {
                "color": "#EBF0F8"
               },
               "line": {
                "color": "white"
               }
              },
              "header": {
               "fill": {
                "color": "#C8D4E3"
               },
               "line": {
                "color": "white"
               }
              },
              "type": "table"
             }
            ]
           },
           "layout": {
            "annotationdefaults": {
             "arrowcolor": "#2a3f5f",
             "arrowhead": 0,
             "arrowwidth": 1
            },
            "autotypenumbers": "strict",
            "coloraxis": {
             "colorbar": {
              "outlinewidth": 0,
              "ticks": ""
             }
            },
            "colorscale": {
             "diverging": [
              [
               0,
               "#8e0152"
              ],
              [
               0.1,
               "#c51b7d"
              ],
              [
               0.2,
               "#de77ae"
              ],
              [
               0.3,
               "#f1b6da"
              ],
              [
               0.4,
               "#fde0ef"
              ],
              [
               0.5,
               "#f7f7f7"
              ],
              [
               0.6,
               "#e6f5d0"
              ],
              [
               0.7,
               "#b8e186"
              ],
              [
               0.8,
               "#7fbc41"
              ],
              [
               0.9,
               "#4d9221"
              ],
              [
               1,
               "#276419"
              ]
             ],
             "sequential": [
              [
               0,
               "#0d0887"
              ],
              [
               0.1111111111111111,
               "#46039f"
              ],
              [
               0.2222222222222222,
               "#7201a8"
              ],
              [
               0.3333333333333333,
               "#9c179e"
              ],
              [
               0.4444444444444444,
               "#bd3786"
              ],
              [
               0.5555555555555556,
               "#d8576b"
              ],
              [
               0.6666666666666666,
               "#ed7953"
              ],
              [
               0.7777777777777778,
               "#fb9f3a"
              ],
              [
               0.8888888888888888,
               "#fdca26"
              ],
              [
               1,
               "#f0f921"
              ]
             ],
             "sequentialminus": [
              [
               0,
               "#0d0887"
              ],
              [
               0.1111111111111111,
               "#46039f"
              ],
              [
               0.2222222222222222,
               "#7201a8"
              ],
              [
               0.3333333333333333,
               "#9c179e"
              ],
              [
               0.4444444444444444,
               "#bd3786"
              ],
              [
               0.5555555555555556,
               "#d8576b"
              ],
              [
               0.6666666666666666,
               "#ed7953"
              ],
              [
               0.7777777777777778,
               "#fb9f3a"
              ],
              [
               0.8888888888888888,
               "#fdca26"
              ],
              [
               1,
               "#f0f921"
              ]
             ]
            },
            "colorway": [
             "#636efa",
             "#EF553B",
             "#00cc96",
             "#ab63fa",
             "#FFA15A",
             "#19d3f3",
             "#FF6692",
             "#B6E880",
             "#FF97FF",
             "#FECB52"
            ],
            "font": {
             "color": "#2a3f5f"
            },
            "geo": {
             "bgcolor": "white",
             "lakecolor": "white",
             "landcolor": "white",
             "showlakes": true,
             "showland": true,
             "subunitcolor": "#C8D4E3"
            },
            "hoverlabel": {
             "align": "left"
            },
            "hovermode": "closest",
            "mapbox": {
             "style": "light"
            },
            "paper_bgcolor": "white",
            "plot_bgcolor": "white",
            "polar": {
             "angularaxis": {
              "gridcolor": "#EBF0F8",
              "linecolor": "#EBF0F8",
              "ticks": ""
             },
             "bgcolor": "white",
             "radialaxis": {
              "gridcolor": "#EBF0F8",
              "linecolor": "#EBF0F8",
              "ticks": ""
             }
            },
            "scene": {
             "xaxis": {
              "backgroundcolor": "white",
              "gridcolor": "#DFE8F3",
              "gridwidth": 2,
              "linecolor": "#EBF0F8",
              "showbackground": true,
              "ticks": "",
              "zerolinecolor": "#EBF0F8"
             },
             "yaxis": {
              "backgroundcolor": "white",
              "gridcolor": "#DFE8F3",
              "gridwidth": 2,
              "linecolor": "#EBF0F8",
              "showbackground": true,
              "ticks": "",
              "zerolinecolor": "#EBF0F8"
             },
             "zaxis": {
              "backgroundcolor": "white",
              "gridcolor": "#DFE8F3",
              "gridwidth": 2,
              "linecolor": "#EBF0F8",
              "showbackground": true,
              "ticks": "",
              "zerolinecolor": "#EBF0F8"
             }
            },
            "shapedefaults": {
             "line": {
              "color": "#2a3f5f"
             }
            },
            "ternary": {
             "aaxis": {
              "gridcolor": "#DFE8F3",
              "linecolor": "#A2B1C6",
              "ticks": ""
             },
             "baxis": {
              "gridcolor": "#DFE8F3",
              "linecolor": "#A2B1C6",
              "ticks": ""
             },
             "bgcolor": "white",
             "caxis": {
              "gridcolor": "#DFE8F3",
              "linecolor": "#A2B1C6",
              "ticks": ""
             }
            },
            "title": {
             "x": 0.05
            },
            "xaxis": {
             "automargin": true,
             "gridcolor": "#EBF0F8",
             "linecolor": "#EBF0F8",
             "ticks": "",
             "title": {
              "standoff": 15
             },
             "zerolinecolor": "#EBF0F8",
             "zerolinewidth": 2
            },
            "yaxis": {
             "automargin": true,
             "gridcolor": "#EBF0F8",
             "linecolor": "#EBF0F8",
             "ticks": "",
             "title": {
              "standoff": 15
             },
             "zerolinecolor": "#EBF0F8",
             "zerolinewidth": 2
            }
           }
          },
          "xaxis": {
           "automargin": false,
           "linecolor": "#444",
           "linewidth": 2,
           "minor": {
            "tickmode": "linear",
            "ticks": "outside"
           },
           "mirror": true,
           "showline": true,
           "tickmode": "linear",
           "ticks": "outside",
           "zeroline": false
          },
          "yaxis": {
           "automargin": false,
           "linecolor": "#444",
           "linewidth": 2,
           "minor": {
            "tickmode": "linear",
            "ticks": "outside"
           },
           "mirror": true,
           "showline": true,
           "ticks": "outside",
           "zeroline": false
          }
         }
        },
        "width": 600,
        "xaxis": {
         "automargin": true,
         "range": [
          -0.5,
          14.5
         ]
        },
        "yaxis": {
         "automargin": true,
         "dtick": 5,
         "minor": {
          "dtick": 2.5,
          "tick0": 0
         },
         "range": [
          -1,
          35
         ],
         "tick0": 0,
         "title": {
          "text": "percent immune"
         }
        }
       }
      }
     },
     "metadata": {},
     "output_type": "display_data"
    }
   ],
   "source": [
    "# Plots the average probability that a monster is immune to each condition\n",
    "#df1 = df0[df0['Category'].isin(['generic','legendary','unique']) & df0['CR'].between(1/8, 30)]\n",
    "df1 = df0[df0['CR'].between(1/8, 30)]\n",
    "\n",
    "conditions = CONDITIONS.copy()\n",
    "\n",
    "# create custom text\n",
    "total_monsters = df1.shape[0]\n",
    "total_immune = [int(df1[c].sum().tolist()) for c in conditions]\n",
    "pct_immune = [100*df1[c].mean().tolist() for c in conditions]\n",
    "custom_text = [f'{p:.0f}% ({i} out of {total_monsters})' for p, i in zip(pct_immune, total_immune)]\n",
    "\n",
    "# create figure\n",
    "fig = go.Figure(\n",
    "    layout=go.Layout(\n",
    "        template=tfb.FIG_TEMPLATE,\n",
    "        xaxis=dict(\n",
    "            range=[-0.5, len(conditions)-0.5],\n",
    "            automargin=True,\n",
    "        ),\n",
    "        yaxis=dict(\n",
    "            title_text='percent immune',\n",
    "            automargin=True,\n",
    "            range=[-1, 35],\n",
    "            tick0=0, dtick=5,\n",
    "            minor=dict(tick0=0, dtick=2.5),\n",
    "        )\n",
    "    )\n",
    ")\n",
    "\n",
    "fig.add_trace(go.Scatter(\n",
    "    x=conditions,\n",
    "    y=pct_immune,\n",
    "    mode='markers', \n",
    "    marker=dict(size=10, line=dict(width=1, color='Black')),\n",
    "    text=custom_text,\n",
    "    unselected=dict(marker=dict(opacity=0.0)),\n",
    "    hovertemplate=\n",
    "        '<b>Condition:</b> %{x}<br>'+\n",
    "        '<b>Immune:</b> %{text}'+\n",
    "        '<extra></extra>'\n",
    "))\n",
    "\n",
    "# show figure\n",
    "fig.update_layout(width=600, height=500)\n",
    "fig.show(config=tfb.FIG_CONFIG)\n",
    "\n",
    "# save figures\n",
    "if SAVEFIGS:\n",
    "    fig.update_layout(autosize=True, width=None, height=None)\n",
    "    tfb.save_fig_html(fig, format='large', name=f'./fig-condition-immunity-probability-large', style='aspect-ratio:600/500')\n",
    "    tfb.save_fig_html(fig, format='small', name=f'./fig-condition-immunity-probability-small', style='aspect-ratio:600/500')"
   ]
  },
  {
   "cell_type": "code",
   "execution_count": 10,
   "metadata": {},
   "outputs": [
    {
     "name": "stdout",
     "output_type": "stream",
     "text": [
      "Total number of monsters: 1875\n"
     ]
    },
    {
     "data": {
      "application/vnd.plotly.v1+json": {
       "config": {
        "autosizable": true,
        "displayModeBar": "hover",
        "displaylogo": false,
        "modeBarButtonsToRemove": [
         "select2d",
         "lasso2d",
         "zoom2d",
         "zoomIn2d",
         "zoomOut2d",
         "pan2d",
         "autoScale2d",
         "hoverClosestCartesian",
         "hoverCompareCartesian",
         "toggleSpikelines",
         "resetScale2d"
        ],
        "plotlyServerURL": "https://plot.ly",
        "responsive": true,
        "showAxisDragHandles": false,
        "toImageButtonOptions": {
         "filename": "tfb-plot",
         "format": "png",
         "height": 450,
         "scale": 2,
         "width": 600
        }
       },
       "data": [
        {
         "colorscale": [
          [
           0,
           "rgb(247,251,255)"
          ],
          [
           0.125,
           "rgb(222,235,247)"
          ],
          [
           0.25,
           "rgb(198,219,239)"
          ],
          [
           0.375,
           "rgb(158,202,225)"
          ],
          [
           0.5,
           "rgb(107,174,214)"
          ],
          [
           0.625,
           "rgb(66,146,198)"
          ],
          [
           0.75,
           "rgb(33,113,181)"
          ],
          [
           0.875,
           "rgb(8,81,156)"
          ],
          [
           1,
           "rgb(8,48,107)"
          ]
         ],
         "hoverongaps": false,
         "hovertemplate": "<b>Type:</b> %{x}<br><b>Condition:</b> %{y}<br><b>Immune:</b> %{z:.0f}% (%{text})<extra></extra>",
         "showscale": false,
         "text": [
          [
           "15 out of 110",
           "0 out of 124",
           "1 out of 29",
           "28 out of 111",
           "5 out of 125",
           "0 out of 72",
           "1 out of 65",
           "10 out of 175",
           "0 out of 66",
           "4 out of 535",
           "5 out of 238",
           "16 out of 19",
           "19 out of 44",
           "8 out of 162"
          ],
          [
           "30 out of 110",
           "12 out of 124",
           "17 out of 29",
           "89 out of 111",
           "21 out of 125",
           "7 out of 72",
           "10 out of 65",
           "80 out of 175",
           "6 out of 66",
           "32 out of 535",
           "29 out of 238",
           "14 out of 19",
           "9 out of 44",
           "83 out of 162"
          ],
          [
           "2 out of 110",
           "0 out of 124",
           "0 out of 29",
           "30 out of 111",
           "2 out of 125",
           "0 out of 72",
           "0 out of 65",
           "6 out of 175",
           "0 out of 66",
           "1 out of 535",
           "3 out of 238",
           "16 out of 19",
           "15 out of 44",
           "10 out of 162"
          ],
          [
           "10 out of 110",
           "0 out of 124",
           "16 out of 29",
           "87 out of 111",
           "0 out of 125",
           "29 out of 72",
           "4 out of 65",
           "52 out of 175",
           "3 out of 66",
           "12 out of 535",
           "5 out of 238",
           "16 out of 19",
           "6 out of 44",
           "118 out of 162"
          ],
          [
           "31 out of 110",
           "12 out of 124",
           "16 out of 29",
           "84 out of 111",
           "26 out of 125",
           "7 out of 72",
           "10 out of 65",
           "79 out of 175",
           "13 out of 66",
           "40 out of 535",
           "29 out of 238",
           "8 out of 19",
           "11 out of 44",
           "80 out of 162"
          ],
          [
           "4 out of 110",
           "11 out of 124",
           "3 out of 29",
           "6 out of 111",
           "0 out of 125",
           "17 out of 72",
           "1 out of 65",
           "8 out of 175",
           "2 out of 66",
           "0 out of 535",
           "2 out of 238",
           "3 out of 19",
           "1 out of 44",
           "33 out of 162"
          ],
          [
           "0 out of 110",
           "0 out of 124",
           "0 out of 29",
           "1 out of 111",
           "0 out of 125",
           "0 out of 72",
           "0 out of 65",
           "0 out of 175",
           "0 out of 66",
           "0 out of 535",
           "0 out of 238",
           "0 out of 19",
           "0 out of 44",
           "0 out of 162"
          ],
          [
           "0 out of 110",
           "0 out of 124",
           "0 out of 29",
           "0 out of 111",
           "0 out of 125",
           "0 out of 72",
           "0 out of 65",
           "0 out of 175",
           "0 out of 66",
           "0 out of 535",
           "0 out of 238",
           "0 out of 19",
           "0 out of 44",
           "0 out of 162"
          ],
          [
           "9 out of 110",
           "12 out of 124",
           "6 out of 29",
           "87 out of 111",
           "1 out of 125",
           "45 out of 72",
           "2 out of 65",
           "9 out of 175",
           "3 out of 66",
           "5 out of 535",
           "13 out of 238",
           "2 out of 19",
           "5 out of 44",
           "69 out of 162"
          ],
          [
           "11 out of 110",
           "11 out of 124",
           "4 out of 29",
           "76 out of 111",
           "0 out of 125",
           "46 out of 72",
           "0 out of 65",
           "8 out of 175",
           "3 out of 66",
           "3 out of 535",
           "8 out of 238",
           "2 out of 19",
           "1 out of 44",
           "39 out of 162"
          ],
          [
           "10 out of 110",
           "0 out of 124",
           "8 out of 29",
           "101 out of 111",
           "18 out of 125",
           "57 out of 72",
           "6 out of 65",
           "152 out of 175",
           "6 out of 66",
           "26 out of 535",
           "31 out of 238",
           "1 out of 19",
           "4 out of 44",
           "139 out of 162"
          ],
          [
           "25 out of 110",
           "11 out of 124",
           "1 out of 29",
           "11 out of 111",
           "7 out of 125",
           "34 out of 72",
           "0 out of 65",
           "7 out of 175",
           "2 out of 66",
           "0 out of 535",
           "9 out of 238",
           "16 out of 19",
           "8 out of 44",
           "42 out of 162"
          ],
          [
           "6 out of 110",
           "11 out of 124",
           "3 out of 29",
           "3 out of 111",
           "0 out of 125",
           "24 out of 72",
           "0 out of 65",
           "8 out of 175",
           "2 out of 66",
           "0 out of 535",
           "3 out of 238",
           "3 out of 19",
           "1 out of 44",
           "33 out of 162"
          ],
          [
           "5 out of 110",
           "9 out of 124",
           "3 out of 29",
           "7 out of 111",
           "2 out of 125",
           "10 out of 72",
           "1 out of 65",
           "8 out of 175",
           "0 out of 66",
           "3 out of 535",
           "7 out of 238",
           "0 out of 19",
           "1 out of 44",
           "13 out of 162"
          ],
          [
           "0 out of 110",
           "0 out of 124",
           "0 out of 29",
           "10 out of 111",
           "0 out of 125",
           "16 out of 72",
           "0 out of 65",
           "4 out of 175",
           "2 out of 66",
           "0 out of 535",
           "0 out of 238",
           "2 out of 19",
           "0 out of 44",
           "9 out of 162"
          ]
         ],
         "texttemplate": "%{z:.0f}",
         "type": "heatmap",
         "x": [
          "aberration",
          "beast",
          "celestial",
          "construct",
          "dragon",
          "elemental",
          "fey",
          "fiend",
          "giant",
          "humanoid",
          "monstrosity",
          "ooze",
          "plant",
          "undead"
         ],
         "y": [
          "blinded",
          "charmed",
          "deafened",
          "exhaustion",
          "frightened",
          "grappled",
          "incapacitated",
          "invisible",
          "paralyzed",
          "petrified",
          "poisoned",
          "prone",
          "restrained",
          "stunned",
          "unconscious"
         ],
         "z": [
          [
           13,
           0,
           3,
           25,
           4,
           0,
           1,
           5,
           0,
           0,
           2,
           84,
           43,
           4
          ],
          [
           27,
           9,
           58,
           80,
           16,
           9,
           15,
           45,
           9,
           5,
           12,
           73,
           20,
           51
          ],
          [
           1,
           0,
           0,
           27,
           1,
           0,
           0,
           3,
           0,
           0,
           1,
           84,
           34,
           6
          ],
          [
           9,
           0,
           55,
           78,
           0,
           40,
           6,
           29,
           4,
           2,
           2,
           84,
           13,
           72
          ],
          [
           28,
           9,
           55,
           75,
           20,
           9,
           15,
           45,
           19,
           7,
           12,
           42,
           25,
           49
          ],
          [
           3,
           8,
           10,
           5,
           0,
           23,
           1,
           4,
           3,
           0,
           0,
           15,
           2,
           20
          ],
          [
           0,
           0,
           0,
           0,
           0,
           0,
           0,
           0,
           0,
           0,
           0,
           0,
           0,
           0
          ],
          [
           0,
           0,
           0,
           0,
           0,
           0,
           0,
           0,
           0,
           0,
           0,
           0,
           0,
           0
          ],
          [
           8,
           9,
           20,
           78,
           0,
           62,
           3,
           5,
           4,
           0,
           5,
           10,
           11,
           42
          ],
          [
           10,
           8,
           13,
           68,
           0,
           63,
           0,
           4,
           4,
           0,
           3,
           10,
           2,
           24
          ],
          [
           9,
           0,
           27,
           90,
           14,
           79,
           9,
           86,
           9,
           4,
           13,
           5,
           9,
           85
          ],
          [
           22,
           8,
           3,
           9,
           5,
           47,
           0,
           4,
           3,
           0,
           3,
           84,
           18,
           25
          ],
          [
           5,
           8,
           10,
           2,
           0,
           33,
           0,
           4,
           3,
           0,
           1,
           15,
           2,
           20
          ],
          [
           4,
           7,
           10,
           6,
           1,
           13,
           1,
           4,
           0,
           0,
           2,
           0,
           2,
           8
          ],
          [
           0,
           0,
           0,
           9,
           0,
           22,
           0,
           2,
           3,
           0,
           0,
           10,
           0,
           5
          ]
         ],
         "zmax": 120,
         "zmin": 0
        }
       ],
       "layout": {
        "font": {
         "size": 12
        },
        "height": 500,
        "template": {
         "layout": {
          "autosize": false,
          "font": {
           "family": "sans-serif",
           "size": 14
          },
          "hoverlabel": {
           "align": "left"
          },
          "hovermode": "closest",
          "margin": {
           "b": 55,
           "l": 60,
           "pad": 4,
           "r": 25,
           "t": 20
          },
          "template": {
           "data": {
            "bar": [
             {
              "error_x": {
               "color": "#2a3f5f"
              },
              "error_y": {
               "color": "#2a3f5f"
              },
              "marker": {
               "line": {
                "color": "white",
                "width": 0.5
               },
               "pattern": {
                "fillmode": "overlay",
                "size": 10,
                "solidity": 0.2
               }
              },
              "type": "bar"
             }
            ],
            "barpolar": [
             {
              "marker": {
               "line": {
                "color": "white",
                "width": 0.5
               },
               "pattern": {
                "fillmode": "overlay",
                "size": 10,
                "solidity": 0.2
               }
              },
              "type": "barpolar"
             }
            ],
            "carpet": [
             {
              "aaxis": {
               "endlinecolor": "#2a3f5f",
               "gridcolor": "#C8D4E3",
               "linecolor": "#C8D4E3",
               "minorgridcolor": "#C8D4E3",
               "startlinecolor": "#2a3f5f"
              },
              "baxis": {
               "endlinecolor": "#2a3f5f",
               "gridcolor": "#C8D4E3",
               "linecolor": "#C8D4E3",
               "minorgridcolor": "#C8D4E3",
               "startlinecolor": "#2a3f5f"
              },
              "type": "carpet"
             }
            ],
            "choropleth": [
             {
              "colorbar": {
               "outlinewidth": 0,
               "ticks": ""
              },
              "type": "choropleth"
             }
            ],
            "contour": [
             {
              "colorbar": {
               "outlinewidth": 0,
               "ticks": ""
              },
              "colorscale": [
               [
                0,
                "#0d0887"
               ],
               [
                0.1111111111111111,
                "#46039f"
               ],
               [
                0.2222222222222222,
                "#7201a8"
               ],
               [
                0.3333333333333333,
                "#9c179e"
               ],
               [
                0.4444444444444444,
                "#bd3786"
               ],
               [
                0.5555555555555556,
                "#d8576b"
               ],
               [
                0.6666666666666666,
                "#ed7953"
               ],
               [
                0.7777777777777778,
                "#fb9f3a"
               ],
               [
                0.8888888888888888,
                "#fdca26"
               ],
               [
                1,
                "#f0f921"
               ]
              ],
              "type": "contour"
             }
            ],
            "contourcarpet": [
             {
              "colorbar": {
               "outlinewidth": 0,
               "ticks": ""
              },
              "type": "contourcarpet"
             }
            ],
            "heatmap": [
             {
              "colorbar": {
               "outlinewidth": 0,
               "ticks": ""
              },
              "colorscale": [
               [
                0,
                "#0d0887"
               ],
               [
                0.1111111111111111,
                "#46039f"
               ],
               [
                0.2222222222222222,
                "#7201a8"
               ],
               [
                0.3333333333333333,
                "#9c179e"
               ],
               [
                0.4444444444444444,
                "#bd3786"
               ],
               [
                0.5555555555555556,
                "#d8576b"
               ],
               [
                0.6666666666666666,
                "#ed7953"
               ],
               [
                0.7777777777777778,
                "#fb9f3a"
               ],
               [
                0.8888888888888888,
                "#fdca26"
               ],
               [
                1,
                "#f0f921"
               ]
              ],
              "type": "heatmap"
             }
            ],
            "heatmapgl": [
             {
              "colorbar": {
               "outlinewidth": 0,
               "ticks": ""
              },
              "colorscale": [
               [
                0,
                "#0d0887"
               ],
               [
                0.1111111111111111,
                "#46039f"
               ],
               [
                0.2222222222222222,
                "#7201a8"
               ],
               [
                0.3333333333333333,
                "#9c179e"
               ],
               [
                0.4444444444444444,
                "#bd3786"
               ],
               [
                0.5555555555555556,
                "#d8576b"
               ],
               [
                0.6666666666666666,
                "#ed7953"
               ],
               [
                0.7777777777777778,
                "#fb9f3a"
               ],
               [
                0.8888888888888888,
                "#fdca26"
               ],
               [
                1,
                "#f0f921"
               ]
              ],
              "type": "heatmapgl"
             }
            ],
            "histogram": [
             {
              "marker": {
               "pattern": {
                "fillmode": "overlay",
                "size": 10,
                "solidity": 0.2
               }
              },
              "type": "histogram"
             }
            ],
            "histogram2d": [
             {
              "colorbar": {
               "outlinewidth": 0,
               "ticks": ""
              },
              "colorscale": [
               [
                0,
                "#0d0887"
               ],
               [
                0.1111111111111111,
                "#46039f"
               ],
               [
                0.2222222222222222,
                "#7201a8"
               ],
               [
                0.3333333333333333,
                "#9c179e"
               ],
               [
                0.4444444444444444,
                "#bd3786"
               ],
               [
                0.5555555555555556,
                "#d8576b"
               ],
               [
                0.6666666666666666,
                "#ed7953"
               ],
               [
                0.7777777777777778,
                "#fb9f3a"
               ],
               [
                0.8888888888888888,
                "#fdca26"
               ],
               [
                1,
                "#f0f921"
               ]
              ],
              "type": "histogram2d"
             }
            ],
            "histogram2dcontour": [
             {
              "colorbar": {
               "outlinewidth": 0,
               "ticks": ""
              },
              "colorscale": [
               [
                0,
                "#0d0887"
               ],
               [
                0.1111111111111111,
                "#46039f"
               ],
               [
                0.2222222222222222,
                "#7201a8"
               ],
               [
                0.3333333333333333,
                "#9c179e"
               ],
               [
                0.4444444444444444,
                "#bd3786"
               ],
               [
                0.5555555555555556,
                "#d8576b"
               ],
               [
                0.6666666666666666,
                "#ed7953"
               ],
               [
                0.7777777777777778,
                "#fb9f3a"
               ],
               [
                0.8888888888888888,
                "#fdca26"
               ],
               [
                1,
                "#f0f921"
               ]
              ],
              "type": "histogram2dcontour"
             }
            ],
            "mesh3d": [
             {
              "colorbar": {
               "outlinewidth": 0,
               "ticks": ""
              },
              "type": "mesh3d"
             }
            ],
            "parcoords": [
             {
              "line": {
               "colorbar": {
                "outlinewidth": 0,
                "ticks": ""
               }
              },
              "type": "parcoords"
             }
            ],
            "pie": [
             {
              "automargin": true,
              "type": "pie"
             }
            ],
            "scatter": [
             {
              "fillpattern": {
               "fillmode": "overlay",
               "size": 10,
               "solidity": 0.2
              },
              "type": "scatter"
             }
            ],
            "scatter3d": [
             {
              "line": {
               "colorbar": {
                "outlinewidth": 0,
                "ticks": ""
               }
              },
              "marker": {
               "colorbar": {
                "outlinewidth": 0,
                "ticks": ""
               }
              },
              "type": "scatter3d"
             }
            ],
            "scattercarpet": [
             {
              "marker": {
               "colorbar": {
                "outlinewidth": 0,
                "ticks": ""
               }
              },
              "type": "scattercarpet"
             }
            ],
            "scattergeo": [
             {
              "marker": {
               "colorbar": {
                "outlinewidth": 0,
                "ticks": ""
               }
              },
              "type": "scattergeo"
             }
            ],
            "scattergl": [
             {
              "marker": {
               "colorbar": {
                "outlinewidth": 0,
                "ticks": ""
               }
              },
              "type": "scattergl"
             }
            ],
            "scattermapbox": [
             {
              "marker": {
               "colorbar": {
                "outlinewidth": 0,
                "ticks": ""
               }
              },
              "type": "scattermapbox"
             }
            ],
            "scatterpolar": [
             {
              "marker": {
               "colorbar": {
                "outlinewidth": 0,
                "ticks": ""
               }
              },
              "type": "scatterpolar"
             }
            ],
            "scatterpolargl": [
             {
              "marker": {
               "colorbar": {
                "outlinewidth": 0,
                "ticks": ""
               }
              },
              "type": "scatterpolargl"
             }
            ],
            "scatterternary": [
             {
              "marker": {
               "colorbar": {
                "outlinewidth": 0,
                "ticks": ""
               }
              },
              "type": "scatterternary"
             }
            ],
            "surface": [
             {
              "colorbar": {
               "outlinewidth": 0,
               "ticks": ""
              },
              "colorscale": [
               [
                0,
                "#0d0887"
               ],
               [
                0.1111111111111111,
                "#46039f"
               ],
               [
                0.2222222222222222,
                "#7201a8"
               ],
               [
                0.3333333333333333,
                "#9c179e"
               ],
               [
                0.4444444444444444,
                "#bd3786"
               ],
               [
                0.5555555555555556,
                "#d8576b"
               ],
               [
                0.6666666666666666,
                "#ed7953"
               ],
               [
                0.7777777777777778,
                "#fb9f3a"
               ],
               [
                0.8888888888888888,
                "#fdca26"
               ],
               [
                1,
                "#f0f921"
               ]
              ],
              "type": "surface"
             }
            ],
            "table": [
             {
              "cells": {
               "fill": {
                "color": "#EBF0F8"
               },
               "line": {
                "color": "white"
               }
              },
              "header": {
               "fill": {
                "color": "#C8D4E3"
               },
               "line": {
                "color": "white"
               }
              },
              "type": "table"
             }
            ]
           },
           "layout": {
            "annotationdefaults": {
             "arrowcolor": "#2a3f5f",
             "arrowhead": 0,
             "arrowwidth": 1
            },
            "autotypenumbers": "strict",
            "coloraxis": {
             "colorbar": {
              "outlinewidth": 0,
              "ticks": ""
             }
            },
            "colorscale": {
             "diverging": [
              [
               0,
               "#8e0152"
              ],
              [
               0.1,
               "#c51b7d"
              ],
              [
               0.2,
               "#de77ae"
              ],
              [
               0.3,
               "#f1b6da"
              ],
              [
               0.4,
               "#fde0ef"
              ],
              [
               0.5,
               "#f7f7f7"
              ],
              [
               0.6,
               "#e6f5d0"
              ],
              [
               0.7,
               "#b8e186"
              ],
              [
               0.8,
               "#7fbc41"
              ],
              [
               0.9,
               "#4d9221"
              ],
              [
               1,
               "#276419"
              ]
             ],
             "sequential": [
              [
               0,
               "#0d0887"
              ],
              [
               0.1111111111111111,
               "#46039f"
              ],
              [
               0.2222222222222222,
               "#7201a8"
              ],
              [
               0.3333333333333333,
               "#9c179e"
              ],
              [
               0.4444444444444444,
               "#bd3786"
              ],
              [
               0.5555555555555556,
               "#d8576b"
              ],
              [
               0.6666666666666666,
               "#ed7953"
              ],
              [
               0.7777777777777778,
               "#fb9f3a"
              ],
              [
               0.8888888888888888,
               "#fdca26"
              ],
              [
               1,
               "#f0f921"
              ]
             ],
             "sequentialminus": [
              [
               0,
               "#0d0887"
              ],
              [
               0.1111111111111111,
               "#46039f"
              ],
              [
               0.2222222222222222,
               "#7201a8"
              ],
              [
               0.3333333333333333,
               "#9c179e"
              ],
              [
               0.4444444444444444,
               "#bd3786"
              ],
              [
               0.5555555555555556,
               "#d8576b"
              ],
              [
               0.6666666666666666,
               "#ed7953"
              ],
              [
               0.7777777777777778,
               "#fb9f3a"
              ],
              [
               0.8888888888888888,
               "#fdca26"
              ],
              [
               1,
               "#f0f921"
              ]
             ]
            },
            "colorway": [
             "#636efa",
             "#EF553B",
             "#00cc96",
             "#ab63fa",
             "#FFA15A",
             "#19d3f3",
             "#FF6692",
             "#B6E880",
             "#FF97FF",
             "#FECB52"
            ],
            "font": {
             "color": "#2a3f5f"
            },
            "geo": {
             "bgcolor": "white",
             "lakecolor": "white",
             "landcolor": "white",
             "showlakes": true,
             "showland": true,
             "subunitcolor": "#C8D4E3"
            },
            "hoverlabel": {
             "align": "left"
            },
            "hovermode": "closest",
            "mapbox": {
             "style": "light"
            },
            "paper_bgcolor": "white",
            "plot_bgcolor": "white",
            "polar": {
             "angularaxis": {
              "gridcolor": "#EBF0F8",
              "linecolor": "#EBF0F8",
              "ticks": ""
             },
             "bgcolor": "white",
             "radialaxis": {
              "gridcolor": "#EBF0F8",
              "linecolor": "#EBF0F8",
              "ticks": ""
             }
            },
            "scene": {
             "xaxis": {
              "backgroundcolor": "white",
              "gridcolor": "#DFE8F3",
              "gridwidth": 2,
              "linecolor": "#EBF0F8",
              "showbackground": true,
              "ticks": "",
              "zerolinecolor": "#EBF0F8"
             },
             "yaxis": {
              "backgroundcolor": "white",
              "gridcolor": "#DFE8F3",
              "gridwidth": 2,
              "linecolor": "#EBF0F8",
              "showbackground": true,
              "ticks": "",
              "zerolinecolor": "#EBF0F8"
             },
             "zaxis": {
              "backgroundcolor": "white",
              "gridcolor": "#DFE8F3",
              "gridwidth": 2,
              "linecolor": "#EBF0F8",
              "showbackground": true,
              "ticks": "",
              "zerolinecolor": "#EBF0F8"
             }
            },
            "shapedefaults": {
             "line": {
              "color": "#2a3f5f"
             }
            },
            "ternary": {
             "aaxis": {
              "gridcolor": "#DFE8F3",
              "linecolor": "#A2B1C6",
              "ticks": ""
             },
             "baxis": {
              "gridcolor": "#DFE8F3",
              "linecolor": "#A2B1C6",
              "ticks": ""
             },
             "bgcolor": "white",
             "caxis": {
              "gridcolor": "#DFE8F3",
              "linecolor": "#A2B1C6",
              "ticks": ""
             }
            },
            "title": {
             "x": 0.05
            },
            "xaxis": {
             "automargin": true,
             "gridcolor": "#EBF0F8",
             "linecolor": "#EBF0F8",
             "ticks": "",
             "title": {
              "standoff": 15
             },
             "zerolinecolor": "#EBF0F8",
             "zerolinewidth": 2
            },
            "yaxis": {
             "automargin": true,
             "gridcolor": "#EBF0F8",
             "linecolor": "#EBF0F8",
             "ticks": "",
             "title": {
              "standoff": 15
             },
             "zerolinecolor": "#EBF0F8",
             "zerolinewidth": 2
            }
           }
          },
          "xaxis": {
           "automargin": false,
           "linecolor": "#444",
           "linewidth": 2,
           "minor": {
            "tickmode": "linear",
            "ticks": "outside"
           },
           "mirror": true,
           "showline": true,
           "tickmode": "linear",
           "ticks": "outside",
           "zeroline": false
          },
          "yaxis": {
           "automargin": false,
           "linecolor": "#444",
           "linewidth": 2,
           "minor": {
            "tickmode": "linear",
            "ticks": "outside"
           },
           "mirror": true,
           "showline": true,
           "ticks": "outside",
           "zeroline": false
          }
         }
        },
        "width": 1000,
        "xaxis": {
         "automargin": true,
         "autorange": true,
         "showgrid": false,
         "title": {
          "text": ""
         }
        },
        "yaxis": {
         "automargin": true,
         "autorange": true,
         "showgrid": false,
         "title": {
          "text": ""
         }
        }
       }
      }
     },
     "metadata": {},
     "output_type": "display_data"
    }
   ],
   "source": [
    "# Calculates the probability of a monster for each being immune to each condition.\n",
    "#df1 = df0[df0['Category'].isin(['generic','legendary','unique']) & df0['CR'].between(1/8, 30)]\n",
    "df1 = df0[df0['CR'].between(1/8, 30)]\n",
    "\n",
    "# get the total number of monsters from each type\n",
    "dfG = df1.groupby(['Type']).count().reset_index()\n",
    "type_totals = dfG['Book'].to_list()\n",
    "print('Total number of monsters:', np.sum(type_totals))\n",
    "\n",
    "# get the number of monsters immune to each condition for each type\n",
    "dfG = df1[['Type'] + CONDITIONS].groupby(['Type']).sum().reset_index()\n",
    "\n",
    "# construct custom text for each cell\n",
    "custom_texts = []\n",
    "for c in CONDITIONS:\n",
    "    type_immune = dfG[c].to_list()\n",
    "    custom_texts.append([f'{i:.0f} out of {t}' for i, t in zip(type_immune, type_totals)])\n",
    "\n",
    "# get percent of each type immune to each condition\n",
    "dfG = df1[['Type'] + CONDITIONS].groupby(['Type']).mean().reset_index()\n",
    "z = []\n",
    "conditions = CONDITIONS.copy()\n",
    "for condition in conditions:\n",
    "    row = dfG[condition].tolist()\n",
    "    row = [int(100*v) for v in row]\n",
    "    z.append(row)\n",
    "\n",
    "x = [x.lower() for x in dfG['Type'].tolist()]\n",
    "y = [x.lower() for x in conditions]\n",
    "\n",
    "# create figure\n",
    "fig = go.Figure(\n",
    "    layout=go.Layout(\n",
    "        template=tfb.FIG_TEMPLATE,\n",
    "        font=dict(size=12),\n",
    "        xaxis=dict(\n",
    "            title_text='',\n",
    "            automargin=True,\n",
    "            autorange=True,\n",
    "            showgrid=False,\n",
    "        ),\n",
    "        yaxis=dict(\n",
    "            title_text='',\n",
    "            automargin=True,\n",
    "            autorange=True,\n",
    "            showgrid=False,\n",
    "        ),\n",
    "    )\n",
    ")\n",
    "\n",
    "\n",
    "fig.add_trace(go.Heatmap(\n",
    "    z=z, x=x, y=y,\n",
    "    zmin=0, zmax=120,\n",
    "    hoverongaps=False,\n",
    "    colorscale='blues',\n",
    "    text=custom_texts,\n",
    "    texttemplate='%{z:.0f}',\n",
    "    hovertemplate='<b>Type:</b> %{x}<br>'+\n",
    "                  '<b>Condition:</b> %{y}<br>'+\n",
    "                  '<b>Immune:</b> %{z:.0f}% (%{text})'+\n",
    "                  '<extra></extra>'\n",
    "))\n",
    "fig.update_traces(showscale=False)\n",
    "\n",
    "# show figure\n",
    "fig.update_layout(width=1000, height=500)\n",
    "fig.show(config=tfb.FIG_CONFIG)\n",
    "\n",
    "# save figures\n",
    "if SAVEFIGS:\n",
    "    fig.update_layout(autosize=True, width=None, height=None)\n",
    "    tfb.save_fig_html(fig, format='large', name=f'./fig-condition-immunity-probability-heat-map-large', style='width:1000px; min-width:50%; max-width:100%; max-height:500px; min-height:300px;')\n",
    "    tfb.save_fig_html(fig, format='small', name=f'./fig-condition-immunity-probability-heat-map-small', style='width:1000px; min-width:50%; max-width:100%; max-height:500px; min-height:300px;')"
   ]
  },
  {
   "cell_type": "code",
   "execution_count": 4,
   "metadata": {},
   "outputs": [
    {
     "data": {
      "application/vnd.plotly.v1+json": {
       "config": {
        "autosizable": true,
        "displayModeBar": "hover",
        "displaylogo": false,
        "modeBarButtonsToRemove": [
         "select2d",
         "lasso2d",
         "zoom2d",
         "zoomIn2d",
         "zoomOut2d",
         "pan2d",
         "autoScale2d",
         "hoverClosestCartesian",
         "hoverCompareCartesian",
         "toggleSpikelines",
         "resetScale2d"
        ],
        "plotlyServerURL": "https://plot.ly",
        "responsive": true,
        "showAxisDragHandles": false,
        "toImageButtonOptions": {
         "filename": "tfb-plot",
         "format": "png",
         "height": 450,
         "scale": 2,
         "width": 600
        }
       },
       "data": [
        {
         "hovertemplate": "<b>CR:</b> %{x}<br><b>Condition:</b> Blinded<br><b>Immune:</b> %{y:.0f}% %{text}<extra></extra>",
         "legendgroup": "Blinded",
         "line": {
          "shape": "spline"
         },
         "marker": {
          "color": "gold",
          "size": 4
         },
         "mode": "markers",
         "name": "Blinded",
         "showlegend": true,
         "text": [
          "(5 out of 56)",
          "(10 out of 120)",
          "(12 out of 110)",
          "(8 out of 135)",
          "(9 out of 202)",
          "(9 out of 175)",
          "(5 out of 122)",
          "(10 out of 159)",
          "(5 out of 84)",
          "(4 out of 96)",
          "(4 out of 88)",
          "(2 out of 66)",
          "(3 out of 56)",
          "(3 out of 53)",
          "(2 out of 43)",
          "(1 out of 46)",
          "(2 out of 33)",
          "(2 out of 24)",
          "(2 out of 33)",
          "(0 out of 18)",
          "(0 out of 18)",
          "(1 out of 13)",
          "(0 out of 14)",
          "(2 out of 20)",
          "(2 out of 18)",
          "(5 out of 27)",
          "(2 out of 17)",
          "(0 out of 10)",
          "(0 out of 11)",
          "(0 out of 1)",
          "(0 out of 3)",
          "(2 out of 4)"
         ],
         "type": "scatter",
         "unselected": {
          "marker": {
           "opacity": 0
          }
         },
         "x": [
          0.125,
          0.25,
          0.5,
          1,
          2,
          3,
          4,
          5,
          6,
          7,
          8,
          9,
          10,
          11,
          12,
          13,
          14,
          15,
          16,
          17,
          18,
          19,
          20,
          21,
          22,
          23,
          24,
          25,
          26,
          27,
          28,
          30
         ],
         "y": [
          8.928571428571429,
          8.333333333333332,
          10.909090909090908,
          5.9259259259259265,
          4.455445544554455,
          5.142857142857142,
          4.098360655737705,
          6.289308176100629,
          5.952380952380952,
          4.166666666666666,
          4.545454545454546,
          3.0303030303030303,
          5.357142857142857,
          5.660377358490567,
          4.651162790697675,
          2.1739130434782608,
          6.0606060606060606,
          8.333333333333332,
          6.0606060606060606,
          0,
          0,
          7.6923076923076925,
          0,
          10,
          11.11111111111111,
          18.51851851851852,
          11.76470588235294,
          0,
          0,
          0,
          0,
          50
         ]
        },
        {
         "hoverinfo": "skip",
         "legendgroup": "Blinded",
         "legendgrouptitle": {
          "text": "fit"
         },
         "line": {
          "color": "gold",
          "dash": "solid"
         },
         "mode": "lines",
         "showlegend": false,
         "type": "scatter",
         "unselected": {
          "marker": {
           "opacity": 0
          }
         },
         "x": [
          0.125,
          0.25,
          0.5,
          1,
          2,
          3,
          4,
          5,
          6,
          7,
          8,
          9,
          10,
          11,
          12,
          13,
          14,
          15,
          16,
          17,
          18,
          19,
          20,
          21,
          22,
          23,
          24,
          25,
          26,
          27,
          28,
          30
         ],
         "y": [
          4.098291651210807,
          4.123707807774733,
          4.174540120902585,
          4.276204747158289,
          4.479533999669697,
          4.682863252181106,
          4.886192504692515,
          5.089521757203923,
          5.292851009715331,
          5.496180262226741,
          5.699509514738149,
          5.902838767249557,
          6.106168019760966,
          6.309497272272374,
          6.512826524783783,
          6.716155777295191,
          6.9194850298066,
          7.122814282318009,
          7.326143534829416,
          7.529472787340826,
          7.732802039852234,
          7.936131292363642,
          8.13946054487505,
          8.342789797386459,
          8.546119049897868,
          8.749448302409277,
          8.952777554920685,
          9.156106807432092,
          9.359436059943501,
          9.56276531245491,
          9.76609456496632,
          10.172753069989136
         ]
        },
        {
         "hovertemplate": "<b>CR:</b> %{x}<br><b>Condition:</b> Charmed<br><b>Immune:</b> %{y:.0f}% %{text}<extra></extra>",
         "legendgroup": "Charmed",
         "line": {
          "shape": "spline"
         },
         "marker": {
          "color": "red",
          "size": 4
         },
         "mode": "markers",
         "name": "Charmed",
         "showlegend": true,
         "text": [
          "(5 out of 56)",
          "(13 out of 120)",
          "(11 out of 110)",
          "(28 out of 135)",
          "(27 out of 202)",
          "(19 out of 175)",
          "(26 out of 122)",
          "(36 out of 159)",
          "(19 out of 84)",
          "(13 out of 96)",
          "(22 out of 88)",
          "(11 out of 66)",
          "(19 out of 56)",
          "(16 out of 53)",
          "(15 out of 43)",
          "(15 out of 46)",
          "(10 out of 33)",
          "(7 out of 24)",
          "(18 out of 33)",
          "(6 out of 18)",
          "(14 out of 18)",
          "(6 out of 13)",
          "(5 out of 14)",
          "(14 out of 20)",
          "(10 out of 18)",
          "(17 out of 27)",
          "(12 out of 17)",
          "(6 out of 10)",
          "(11 out of 11)",
          "(1 out of 1)",
          "(3 out of 3)",
          "(4 out of 4)"
         ],
         "type": "scatter",
         "unselected": {
          "marker": {
           "opacity": 0
          }
         },
         "x": [
          0.125,
          0.25,
          0.5,
          1,
          2,
          3,
          4,
          5,
          6,
          7,
          8,
          9,
          10,
          11,
          12,
          13,
          14,
          15,
          16,
          17,
          18,
          19,
          20,
          21,
          22,
          23,
          24,
          25,
          26,
          27,
          28,
          30
         ],
         "y": [
          8.928571428571429,
          10.833333333333334,
          10,
          20.74074074074074,
          13.366336633663368,
          10.857142857142858,
          21.311475409836063,
          22.641509433962266,
          22.61904761904762,
          13.541666666666666,
          25,
          16.666666666666664,
          33.92857142857143,
          30.18867924528302,
          34.883720930232556,
          32.608695652173914,
          30.303030303030305,
          29.166666666666668,
          54.54545454545454,
          33.33333333333333,
          77.77777777777779,
          46.15384615384615,
          35.714285714285715,
          70,
          55.55555555555556,
          62.96296296296296,
          70.58823529411765,
          60,
          100,
          100,
          100,
          100
         ]
        },
        {
         "hoverinfo": "skip",
         "legendgroup": "Charmed",
         "legendgrouptitle": {
          "text": "fit"
         },
         "line": {
          "color": "red",
          "dash": "solid"
         },
         "mode": "lines",
         "showlegend": false,
         "type": "scatter",
         "unselected": {
          "marker": {
           "opacity": 0
          }
         },
         "x": [
          0.125,
          0.25,
          0.5,
          1,
          2,
          3,
          4,
          5,
          6,
          7,
          8,
          9,
          10,
          11,
          12,
          13,
          14,
          15,
          16,
          17,
          18,
          19,
          20,
          21,
          22,
          23,
          24,
          25,
          26,
          27,
          28,
          30
         ],
         "y": [
          3.4196820833362334,
          3.779135585988894,
          4.498042591294215,
          5.935856601904857,
          8.811484623126141,
          11.687112644347424,
          14.56274066556871,
          17.438368686789993,
          20.313996708011274,
          23.189624729232563,
          26.065252750453844,
          28.940880771675133,
          31.816508792896414,
          34.692136814117696,
          37.56776483533898,
          40.443392856560266,
          43.31902087778155,
          46.194648899002836,
          49.07027692022412,
          51.9459049414454,
          54.82153296266669,
          57.69716098388797,
          60.57278900510926,
          63.44841702633054,
          66.32404504755182,
          69.19967306877311,
          72.07530108999438,
          74.95092911121567,
          77.82655713243696,
          80.70218515365825,
          83.57781317487952,
          89.3290692173221
         ]
        },
        {
         "hovertemplate": "<b>CR:</b> %{x}<br><b>Condition:</b> Deafened<br><b>Immune:</b> %{y:.0f}% %{text}<extra></extra>",
         "legendgroup": "Deafened",
         "line": {
          "shape": "spline"
         },
         "marker": {
          "color": "green",
          "size": 4
         },
         "mode": "markers",
         "name": "Deafened",
         "showlegend": true,
         "text": [
          "(5 out of 56)",
          "(8 out of 120)",
          "(7 out of 110)",
          "(6 out of 135)",
          "(7 out of 202)",
          "(4 out of 175)",
          "(4 out of 122)",
          "(7 out of 159)",
          "(2 out of 84)",
          "(3 out of 96)",
          "(4 out of 88)",
          "(1 out of 66)",
          "(3 out of 56)",
          "(1 out of 53)",
          "(2 out of 43)",
          "(1 out of 46)",
          "(1 out of 33)",
          "(2 out of 24)",
          "(4 out of 33)",
          "(0 out of 18)",
          "(2 out of 18)",
          "(0 out of 13)",
          "(1 out of 14)",
          "(1 out of 20)",
          "(1 out of 18)",
          "(4 out of 27)",
          "(1 out of 17)",
          "(0 out of 10)",
          "(0 out of 11)",
          "(0 out of 1)",
          "(0 out of 3)",
          "(3 out of 4)"
         ],
         "type": "scatter",
         "unselected": {
          "marker": {
           "opacity": 0
          }
         },
         "x": [
          0.125,
          0.25,
          0.5,
          1,
          2,
          3,
          4,
          5,
          6,
          7,
          8,
          9,
          10,
          11,
          12,
          13,
          14,
          15,
          16,
          17,
          18,
          19,
          20,
          21,
          22,
          23,
          24,
          25,
          26,
          27,
          28,
          30
         ],
         "y": [
          8.928571428571429,
          6.666666666666667,
          6.363636363636363,
          4.444444444444445,
          3.4653465346534658,
          2.2857142857142856,
          3.278688524590164,
          4.40251572327044,
          2.380952380952381,
          3.125,
          4.545454545454546,
          1.5151515151515151,
          5.357142857142857,
          1.8867924528301887,
          4.651162790697675,
          2.1739130434782608,
          3.0303030303030303,
          8.333333333333332,
          12.121212121212121,
          0,
          11.11111111111111,
          0,
          7.142857142857142,
          5,
          5.555555555555555,
          14.814814814814813,
          5.88235294117647,
          0,
          0,
          0,
          0,
          75
         ]
        },
        {
         "hoverinfo": "skip",
         "legendgroup": "Deafened",
         "legendgrouptitle": {
          "text": "fit"
         },
         "line": {
          "color": "green",
          "dash": "solid"
         },
         "mode": "lines",
         "showlegend": false,
         "type": "scatter",
         "unselected": {
          "marker": {
           "opacity": 0
          }
         },
         "x": [
          0.125,
          0.25,
          0.5,
          1,
          2,
          3,
          4,
          5,
          6,
          7,
          8,
          9,
          10,
          11,
          12,
          13,
          14,
          15,
          16,
          17,
          18,
          19,
          20,
          21,
          22,
          23,
          24,
          25,
          26,
          27,
          28,
          30
         ],
         "y": [
          1.2955261810213434,
          1.345195789977432,
          1.4445350078896095,
          1.6432134437139647,
          2.040570315362675,
          2.4379271870113848,
          2.835284058660095,
          3.232640930308805,
          3.629997801957515,
          4.027354673606226,
          4.424711545254935,
          4.822068416903646,
          5.2194252885523555,
          5.6167821602010655,
          6.014139031849775,
          6.411495903498485,
          6.808852775147196,
          7.206209646795906,
          7.603566518444616,
          8.000923390093327,
          8.398280261742036,
          8.795637133390747,
          9.192994005039456,
          9.590350876688166,
          9.987707748336877,
          10.385064619985588,
          10.782421491634295,
          11.179778363283006,
          11.577135234931717,
          11.974492106580428,
          12.371848978229139,
          13.166562721526557
         ]
        },
        {
         "hovertemplate": "<b>CR:</b> %{x}<br><b>Condition:</b> Exhaustion<br><b>Immune:</b> %{y:.0f}% %{text}<extra></extra>",
         "legendgroup": "Exhaustion",
         "line": {
          "shape": "spline"
         },
         "marker": {
          "color": "orange",
          "size": 4
         },
         "mode": "markers",
         "name": "Exhaustion",
         "showlegend": true,
         "text": [
          "(4 out of 56)",
          "(13 out of 120)",
          "(10 out of 110)",
          "(24 out of 135)",
          "(18 out of 202)",
          "(21 out of 175)",
          "(25 out of 122)",
          "(32 out of 159)",
          "(18 out of 84)",
          "(12 out of 96)",
          "(13 out of 88)",
          "(11 out of 66)",
          "(13 out of 56)",
          "(14 out of 53)",
          "(14 out of 43)",
          "(6 out of 46)",
          "(10 out of 33)",
          "(4 out of 24)",
          "(16 out of 33)",
          "(4 out of 18)",
          "(6 out of 18)",
          "(4 out of 13)",
          "(5 out of 14)",
          "(10 out of 20)",
          "(10 out of 18)",
          "(18 out of 27)",
          "(11 out of 17)",
          "(2 out of 10)",
          "(8 out of 11)",
          "(0 out of 1)",
          "(2 out of 3)",
          "(0 out of 4)"
         ],
         "type": "scatter",
         "unselected": {
          "marker": {
           "opacity": 0
          }
         },
         "x": [
          0.125,
          0.25,
          0.5,
          1,
          2,
          3,
          4,
          5,
          6,
          7,
          8,
          9,
          10,
          11,
          12,
          13,
          14,
          15,
          16,
          17,
          18,
          19,
          20,
          21,
          22,
          23,
          24,
          25,
          26,
          27,
          28,
          30
         ],
         "y": [
          7.142857142857142,
          10.833333333333334,
          9.090909090909092,
          17.77777777777778,
          8.91089108910891,
          12,
          20.491803278688526,
          20.125786163522015,
          21.428571428571427,
          12.5,
          14.772727272727273,
          16.666666666666664,
          23.214285714285715,
          26.41509433962264,
          32.55813953488372,
          13.043478260869565,
          30.303030303030305,
          16.666666666666664,
          48.484848484848484,
          22.22222222222222,
          33.33333333333333,
          30.76923076923077,
          35.714285714285715,
          50,
          55.55555555555556,
          66.66666666666666,
          64.70588235294117,
          20,
          72.72727272727273,
          0,
          66.66666666666666,
          0
         ]
        },
        {
         "hoverinfo": "skip",
         "legendgroup": "Exhaustion",
         "legendgrouptitle": {
          "text": "fit"
         },
         "line": {
          "color": "orange",
          "dash": "solid"
         },
         "mode": "lines",
         "showlegend": false,
         "type": "scatter",
         "unselected": {
          "marker": {
           "opacity": 0
          }
         },
         "x": [
          0.125,
          0.25,
          0.5,
          1,
          2,
          3,
          4,
          5,
          6,
          7,
          8,
          9,
          10,
          11,
          12,
          13,
          14,
          15,
          16,
          17,
          18,
          19,
          20,
          21,
          22,
          23,
          24,
          25,
          26,
          27,
          28,
          30
         ],
         "y": [
          11.457481505007038,
          11.605950628424976,
          11.902888875260853,
          12.496765368932603,
          13.684518356276108,
          14.872271343619612,
          16.060024330963117,
          17.247777318306618,
          18.435530305650122,
          19.623283292993627,
          20.811036280337127,
          21.998789267680635,
          23.186542255024136,
          24.374295242367637,
          25.562048229711145,
          26.749801217054646,
          27.937554204398147,
          29.125307191741655,
          30.313060179085156,
          31.500813166428664,
          32.688566153772165,
          33.876319141115665,
          35.06407212845917,
          36.251825115802674,
          37.439578103146175,
          38.62733109048968,
          39.815084077833184,
          41.00283706517669,
          42.19059005252019,
          43.378343039863694,
          44.566096027207195,
          46.9416020018942
         ]
        },
        {
         "hovertemplate": "<b>CR:</b> %{x}<br><b>Condition:</b> Frightened<br><b>Immune:</b> %{y:.0f}% %{text}<extra></extra>",
         "legendgroup": "Frightened",
         "line": {
          "shape": "spline"
         },
         "marker": {
          "color": "teal",
          "size": 4
         },
         "mode": "markers",
         "name": "Frightened",
         "showlegend": true,
         "text": [
          "(5 out of 56)",
          "(11 out of 120)",
          "(14 out of 110)",
          "(23 out of 135)",
          "(23 out of 202)",
          "(20 out of 175)",
          "(28 out of 122)",
          "(31 out of 159)",
          "(21 out of 84)",
          "(14 out of 96)",
          "(23 out of 88)",
          "(12 out of 66)",
          "(16 out of 56)",
          "(17 out of 53)",
          "(14 out of 43)",
          "(18 out of 46)",
          "(13 out of 33)",
          "(8 out of 24)",
          "(20 out of 33)",
          "(8 out of 18)",
          "(11 out of 18)",
          "(8 out of 13)",
          "(7 out of 14)",
          "(13 out of 20)",
          "(10 out of 18)",
          "(20 out of 27)",
          "(13 out of 17)",
          "(7 out of 10)",
          "(10 out of 11)",
          "(1 out of 1)",
          "(3 out of 3)",
          "(4 out of 4)"
         ],
         "type": "scatter",
         "unselected": {
          "marker": {
           "opacity": 0
          }
         },
         "x": [
          0.125,
          0.25,
          0.5,
          1,
          2,
          3,
          4,
          5,
          6,
          7,
          8,
          9,
          10,
          11,
          12,
          13,
          14,
          15,
          16,
          17,
          18,
          19,
          20,
          21,
          22,
          23,
          24,
          25,
          26,
          27,
          28,
          30
         ],
         "y": [
          8.928571428571429,
          9.166666666666666,
          12.727272727272727,
          17.037037037037038,
          11.386138613861387,
          11.428571428571429,
          22.950819672131146,
          19.49685534591195,
          25,
          14.583333333333334,
          26.136363636363637,
          18.181818181818183,
          28.57142857142857,
          32.075471698113205,
          32.55813953488372,
          39.130434782608695,
          39.39393939393939,
          33.33333333333333,
          60.60606060606061,
          44.44444444444444,
          61.111111111111114,
          61.53846153846154,
          50,
          65,
          55.55555555555556,
          74.07407407407408,
          76.47058823529412,
          70,
          90.9090909090909,
          100,
          100,
          100
         ]
        },
        {
         "hoverinfo": "skip",
         "legendgroup": "Frightened",
         "legendgrouptitle": {
          "text": "fit"
         },
         "line": {
          "color": "teal",
          "dash": "solid"
         },
         "mode": "lines",
         "showlegend": false,
         "type": "scatter",
         "unselected": {
          "marker": {
           "opacity": 0
          }
         },
         "x": [
          0.125,
          0.25,
          0.5,
          1,
          2,
          3,
          4,
          5,
          6,
          7,
          8,
          9,
          10,
          11,
          12,
          13,
          14,
          15,
          16,
          17,
          18,
          19,
          20,
          21,
          22,
          23,
          24,
          25,
          26,
          27,
          28,
          30
         ],
         "y": [
          3.5490501054633694,
          3.9239348812315216,
          4.673704432767826,
          6.1732435358404345,
          9.172321741985652,
          12.171399948130869,
          15.170478154276086,
          18.169556360421304,
          21.16863456656652,
          24.167712772711738,
          27.166790978856955,
          30.165869185002173,
          33.16494739114739,
          36.16402559729261,
          39.16310380343782,
          42.162182009583034,
          45.16126021572826,
          48.160338421873476,
          51.15941662801869,
          54.1584948341639,
          57.15757304030913,
          60.156651246454345,
          63.15572945259956,
          66.15480765874477,
          69.15388586489,
          72.15296407103521,
          75.15204227718043,
          78.15112048332564,
          81.15019868947086,
          84.14927689561608,
          87.1483551017613,
          93.14651151405174
         ]
        },
        {
         "hovertemplate": "<b>CR:</b> %{x}<br><b>Condition:</b> Grappled<br><b>Immune:</b> %{y:.0f}% %{text}<extra></extra>",
         "legendgroup": "Grappled",
         "line": {
          "shape": "spline"
         },
         "marker": {
          "color": "purple",
          "size": 4
         },
         "mode": "markers",
         "name": "Grappled",
         "showlegend": true,
         "text": [
          "(0 out of 56)",
          "(4 out of 120)",
          "(4 out of 110)",
          "(7 out of 135)",
          "(6 out of 202)",
          "(10 out of 175)",
          "(9 out of 122)",
          "(12 out of 159)",
          "(4 out of 84)",
          "(4 out of 96)",
          "(3 out of 88)",
          "(2 out of 66)",
          "(0 out of 56)",
          "(2 out of 53)",
          "(5 out of 43)",
          "(0 out of 46)",
          "(0 out of 33)",
          "(0 out of 24)",
          "(3 out of 33)",
          "(2 out of 18)",
          "(1 out of 18)",
          "(1 out of 13)",
          "(4 out of 14)",
          "(0 out of 20)",
          "(1 out of 18)",
          "(6 out of 27)",
          "(1 out of 17)",
          "(0 out of 10)",
          "(0 out of 11)",
          "(0 out of 1)",
          "(0 out of 3)",
          "(0 out of 4)"
         ],
         "type": "scatter",
         "unselected": {
          "marker": {
           "opacity": 0
          }
         },
         "x": [
          0.125,
          0.25,
          0.5,
          1,
          2,
          3,
          4,
          5,
          6,
          7,
          8,
          9,
          10,
          11,
          12,
          13,
          14,
          15,
          16,
          17,
          18,
          19,
          20,
          21,
          22,
          23,
          24,
          25,
          26,
          27,
          28,
          30
         ],
         "y": [
          0,
          3.3333333333333335,
          3.6363636363636362,
          5.185185185185185,
          2.9702970297029703,
          5.714285714285714,
          7.377049180327869,
          7.547169811320755,
          4.761904761904762,
          4.166666666666666,
          3.4090909090909087,
          3.0303030303030303,
          0,
          3.7735849056603774,
          11.627906976744185,
          0,
          0,
          0,
          9.090909090909092,
          11.11111111111111,
          5.555555555555555,
          7.6923076923076925,
          28.57142857142857,
          0,
          5.555555555555555,
          22.22222222222222,
          5.88235294117647,
          0,
          0,
          0,
          0,
          0
         ]
        },
        {
         "hoverinfo": "skip",
         "legendgroup": "Grappled",
         "legendgrouptitle": {
          "text": "fit"
         },
         "line": {
          "color": "purple",
          "dash": "solid"
         },
         "mode": "lines",
         "showlegend": false,
         "type": "scatter",
         "unselected": {
          "marker": {
           "opacity": 0
          }
         },
         "x": [
          0.125,
          0.25,
          0.5,
          1,
          2,
          3,
          4,
          5,
          6,
          7,
          8,
          9,
          10,
          11,
          12,
          13,
          14,
          15,
          16,
          17,
          18,
          19,
          20,
          21,
          22,
          23,
          24,
          25,
          26,
          27,
          28,
          30
         ],
         "y": [
          4.541792468265396,
          4.546666053277427,
          4.556413223301489,
          4.575907563349613,
          4.61489624344586,
          4.653884923542107,
          4.692873603638354,
          4.731862283734602,
          4.770850963830848,
          4.809839643927096,
          4.8488283240233425,
          4.88781700411959,
          4.926805684215837,
          4.965794364312084,
          5.004783044408331,
          5.043771724504579,
          5.082760404600826,
          5.121749084697073,
          5.1607377647933195,
          5.199726444889567,
          5.238715124985815,
          5.277703805082061,
          5.316692485178309,
          5.3556811652745555,
          5.394669845370803,
          5.43365852546705,
          5.472647205563297,
          5.511635885659544,
          5.5506245657557916,
          5.589613245852038,
          5.628601925948286,
          5.70657928614078
         ]
        },
        {
         "hovertemplate": "<b>CR:</b> %{x}<br><b>Condition:</b> Paralyzed<br><b>Immune:</b> %{y:.0f}% %{text}<extra></extra>",
         "legendgroup": "Paralyzed",
         "line": {
          "shape": "spline"
         },
         "marker": {
          "color": "olivedrab",
          "size": 4
         },
         "mode": "markers",
         "name": "Paralyzed",
         "showlegend": true,
         "text": [
          "(4 out of 56)",
          "(10 out of 120)",
          "(8 out of 110)",
          "(18 out of 135)",
          "(17 out of 202)",
          "(17 out of 175)",
          "(19 out of 122)",
          "(21 out of 159)",
          "(16 out of 84)",
          "(17 out of 96)",
          "(10 out of 88)",
          "(5 out of 66)",
          "(8 out of 56)",
          "(10 out of 53)",
          "(11 out of 43)",
          "(6 out of 46)",
          "(9 out of 33)",
          "(2 out of 24)",
          "(11 out of 33)",
          "(3 out of 18)",
          "(7 out of 18)",
          "(2 out of 13)",
          "(6 out of 14)",
          "(4 out of 20)",
          "(7 out of 18)",
          "(10 out of 27)",
          "(1 out of 17)",
          "(4 out of 10)",
          "(1 out of 11)",
          "(0 out of 1)",
          "(2 out of 3)",
          "(2 out of 4)"
         ],
         "type": "scatter",
         "unselected": {
          "marker": {
           "opacity": 0
          }
         },
         "x": [
          0.125,
          0.25,
          0.5,
          1,
          2,
          3,
          4,
          5,
          6,
          7,
          8,
          9,
          10,
          11,
          12,
          13,
          14,
          15,
          16,
          17,
          18,
          19,
          20,
          21,
          22,
          23,
          24,
          25,
          26,
          27,
          28,
          30
         ],
         "y": [
          7.142857142857142,
          8.333333333333332,
          7.2727272727272725,
          13.333333333333334,
          8.415841584158416,
          9.714285714285714,
          15.573770491803279,
          13.20754716981132,
          19.047619047619047,
          17.708333333333336,
          11.363636363636363,
          7.575757575757576,
          14.285714285714285,
          18.867924528301888,
          25.581395348837212,
          13.043478260869565,
          27.27272727272727,
          8.333333333333332,
          33.33333333333333,
          16.666666666666664,
          38.88888888888889,
          15.384615384615385,
          42.857142857142854,
          20,
          38.88888888888889,
          37.03703703703704,
          5.88235294117647,
          40,
          9.090909090909092,
          0,
          66.66666666666666,
          50
         ]
        },
        {
         "hoverinfo": "skip",
         "legendgroup": "Paralyzed",
         "legendgrouptitle": {
          "text": "fit"
         },
         "line": {
          "color": "olivedrab",
          "dash": "solid"
         },
         "mode": "lines",
         "showlegend": false,
         "type": "scatter",
         "unselected": {
          "marker": {
           "opacity": 0
          }
         },
         "x": [
          0.125,
          0.25,
          0.5,
          1,
          2,
          3,
          4,
          5,
          6,
          7,
          8,
          9,
          10,
          11,
          12,
          13,
          14,
          15,
          16,
          17,
          18,
          19,
          20,
          21,
          22,
          23,
          24,
          25,
          26,
          27,
          28,
          30
         ],
         "y": [
          8.183186409366659,
          8.298377905770943,
          8.528760898579508,
          8.989526884196641,
          9.911058855430904,
          10.832590826665168,
          11.75412279789943,
          12.675654769133695,
          13.59718674036796,
          14.518718711602222,
          15.440250682836485,
          16.36178265407075,
          17.283314625305014,
          18.204846596539277,
          19.126378567773543,
          20.047910539007802,
          20.969442510242068,
          21.89097448147633,
          22.812506452710593,
          23.73403842394486,
          24.655570395179122,
          25.577102366413385,
          26.49863433764765,
          27.420166308881914,
          28.341698280116177,
          29.26323025135044,
          30.184762222584705,
          31.106294193818968,
          32.02782616505323,
          32.9493581362875,
          33.87089010752176,
          35.713954049990285
         ]
        },
        {
         "hovertemplate": "<b>CR:</b> %{x}<br><b>Condition:</b> Petrified<br><b>Immune:</b> %{y:.0f}% %{text}<extra></extra>",
         "legendgroup": "Petrified",
         "line": {
          "shape": "spline"
         },
         "marker": {
          "color": "orangered",
          "size": 4
         },
         "mode": "markers",
         "name": "Petrified",
         "showlegend": true,
         "text": [
          "(4 out of 56)",
          "(9 out of 120)",
          "(6 out of 110)",
          "(17 out of 135)",
          "(16 out of 202)",
          "(13 out of 175)",
          "(18 out of 122)",
          "(21 out of 159)",
          "(12 out of 84)",
          "(14 out of 96)",
          "(7 out of 88)",
          "(4 out of 66)",
          "(5 out of 56)",
          "(11 out of 53)",
          "(7 out of 43)",
          "(3 out of 46)",
          "(3 out of 33)",
          "(1 out of 24)",
          "(9 out of 33)",
          "(2 out of 18)",
          "(5 out of 18)",
          "(2 out of 13)",
          "(6 out of 14)",
          "(2 out of 20)",
          "(4 out of 18)",
          "(8 out of 27)",
          "(1 out of 17)",
          "(1 out of 10)",
          "(0 out of 11)",
          "(0 out of 1)",
          "(1 out of 3)",
          "(0 out of 4)"
         ],
         "type": "scatter",
         "unselected": {
          "marker": {
           "opacity": 0
          }
         },
         "x": [
          0.125,
          0.25,
          0.5,
          1,
          2,
          3,
          4,
          5,
          6,
          7,
          8,
          9,
          10,
          11,
          12,
          13,
          14,
          15,
          16,
          17,
          18,
          19,
          20,
          21,
          22,
          23,
          24,
          25,
          26,
          27,
          28,
          30
         ],
         "y": [
          7.142857142857142,
          7.5,
          5.454545454545454,
          12.592592592592592,
          7.920792079207921,
          7.428571428571429,
          14.754098360655737,
          13.20754716981132,
          14.285714285714285,
          14.583333333333334,
          7.954545454545454,
          6.0606060606060606,
          8.928571428571429,
          20.754716981132077,
          16.27906976744186,
          6.521739130434782,
          9.090909090909092,
          4.166666666666666,
          27.27272727272727,
          11.11111111111111,
          27.77777777777778,
          15.384615384615385,
          42.857142857142854,
          10,
          22.22222222222222,
          29.629629629629626,
          5.88235294117647,
          10,
          0,
          0,
          33.33333333333333,
          0
         ]
        },
        {
         "hoverinfo": "skip",
         "legendgroup": "Petrified",
         "legendgrouptitle": {
          "text": "fit"
         },
         "line": {
          "color": "orangered",
          "dash": "solid"
         },
         "mode": "lines",
         "showlegend": false,
         "type": "scatter",
         "unselected": {
          "marker": {
           "opacity": 0
          }
         },
         "x": [
          0.125,
          0.25,
          0.5,
          1,
          2,
          3,
          4,
          5,
          6,
          7,
          8,
          9,
          10,
          11,
          12,
          13,
          14,
          15,
          16,
          17,
          18,
          19,
          20,
          21,
          22,
          23,
          24,
          25,
          26,
          27,
          28,
          30
         ],
         "y": [
          10.47867747730196,
          10.503159172272701,
          10.55212256221418,
          10.650049342097136,
          10.84590290186305,
          11.041756461628964,
          11.237610021394877,
          11.433463581160792,
          11.629317140926705,
          11.825170700692619,
          12.021024260458534,
          12.216877820224447,
          12.412731379990362,
          12.608584939756275,
          12.804438499522188,
          13.000292059288103,
          13.196145619054017,
          13.39199917881993,
          13.587852738585845,
          13.783706298351758,
          13.979559858117671,
          14.175413417883586,
          14.3712669776495,
          14.567120537415413,
          14.762974097181328,
          14.958827656947241,
          15.154681216713154,
          15.35053477647907,
          15.546388336244982,
          15.742241896010896,
          15.93809545577681,
          16.329802575308637
         ]
        },
        {
         "hovertemplate": "<b>CR:</b> %{x}<br><b>Condition:</b> Poisoned<br><b>Immune:</b> %{y:.0f}% %{text}<extra></extra>",
         "legendgroup": "Poisoned",
         "line": {
          "shape": "spline"
         },
         "marker": {
          "color": "blue",
          "size": 4
         },
         "mode": "markers",
         "name": "Poisoned",
         "showlegend": true,
         "text": [
          "(7 out of 56)",
          "(23 out of 120)",
          "(15 out of 110)",
          "(40 out of 135)",
          "(32 out of 202)",
          "(37 out of 175)",
          "(42 out of 122)",
          "(38 out of 159)",
          "(25 out of 84)",
          "(36 out of 96)",
          "(25 out of 88)",
          "(17 out of 66)",
          "(16 out of 56)",
          "(14 out of 53)",
          "(20 out of 43)",
          "(15 out of 46)",
          "(12 out of 33)",
          "(9 out of 24)",
          "(18 out of 33)",
          "(10 out of 18)",
          "(13 out of 18)",
          "(8 out of 13)",
          "(9 out of 14)",
          "(12 out of 20)",
          "(11 out of 18)",
          "(19 out of 27)",
          "(13 out of 17)",
          "(7 out of 10)",
          "(9 out of 11)",
          "(1 out of 1)",
          "(3 out of 3)",
          "(3 out of 4)"
         ],
         "type": "scatter",
         "unselected": {
          "marker": {
           "opacity": 0
          }
         },
         "x": [
          0.125,
          0.25,
          0.5,
          1,
          2,
          3,
          4,
          5,
          6,
          7,
          8,
          9,
          10,
          11,
          12,
          13,
          14,
          15,
          16,
          17,
          18,
          19,
          20,
          21,
          22,
          23,
          24,
          25,
          26,
          27,
          28,
          30
         ],
         "y": [
          12.5,
          19.166666666666668,
          13.636363636363635,
          29.629629629629626,
          15.841584158415841,
          21.142857142857142,
          34.42622950819672,
          23.89937106918239,
          29.761904761904763,
          37.5,
          28.40909090909091,
          25.757575757575758,
          28.57142857142857,
          26.41509433962264,
          46.51162790697674,
          32.608695652173914,
          36.36363636363637,
          37.5,
          54.54545454545454,
          55.55555555555556,
          72.22222222222221,
          61.53846153846154,
          64.28571428571429,
          60,
          61.111111111111114,
          70.37037037037037,
          76.47058823529412,
          70,
          81.81818181818183,
          100,
          100,
          75
         ]
        },
        {
         "hoverinfo": "skip",
         "legendgroup": "Poisoned",
         "legendgrouptitle": {
          "text": "fit"
         },
         "line": {
          "color": "blue",
          "dash": "solid"
         },
         "mode": "lines",
         "showlegend": false,
         "type": "scatter",
         "unselected": {
          "marker": {
           "opacity": 0
          }
         },
         "x": [
          0.125,
          0.25,
          0.5,
          1,
          2,
          3,
          4,
          5,
          6,
          7,
          8,
          9,
          10,
          11,
          12,
          13,
          14,
          15,
          16,
          17,
          18,
          19,
          20,
          21,
          22,
          23,
          24,
          25,
          26,
          27,
          28,
          30
         ],
         "y": [
          12.909515560078201,
          13.224114150269823,
          13.853311330653066,
          15.111705691419552,
          17.628494412952524,
          20.145283134485496,
          22.662071856018468,
          25.17886057755144,
          27.695649299084412,
          30.212438020617384,
          32.72922674215036,
          35.24601546368333,
          37.7628041852163,
          40.27959290674927,
          42.79638162828225,
          45.31317034981522,
          47.829959071348185,
          50.34674779288116,
          52.863536514414136,
          55.38032523594711,
          57.89711395748007,
          60.41390267901305,
          62.930691400546024,
          65.447480122079,
          67.96426884361196,
          70.48105756514494,
          72.99784628667791,
          75.51463500821089,
          78.03142372974386,
          80.54821245127683,
          83.0650011728098,
          88.09857861587574
         ]
        },
        {
         "hovertemplate": "<b>CR:</b> %{x}<br><b>Condition:</b> Prone<br><b>Immune:</b> %{y:.0f}% %{text}<extra></extra>",
         "legendgroup": "Prone",
         "line": {
          "shape": "spline"
         },
         "marker": {
          "color": "darkviolet",
          "size": 4
         },
         "mode": "markers",
         "name": "Prone",
         "showlegend": true,
         "text": [
          "(0 out of 56)",
          "(9 out of 120)",
          "(10 out of 110)",
          "(10 out of 135)",
          "(12 out of 202)",
          "(15 out of 175)",
          "(12 out of 122)",
          "(21 out of 159)",
          "(6 out of 84)",
          "(17 out of 96)",
          "(5 out of 88)",
          "(3 out of 66)",
          "(5 out of 56)",
          "(5 out of 53)",
          "(4 out of 43)",
          "(2 out of 46)",
          "(2 out of 33)",
          "(1 out of 24)",
          "(4 out of 33)",
          "(3 out of 18)",
          "(3 out of 18)",
          "(2 out of 13)",
          "(6 out of 14)",
          "(2 out of 20)",
          "(2 out of 18)",
          "(8 out of 27)",
          "(3 out of 17)",
          "(0 out of 10)",
          "(1 out of 11)",
          "(0 out of 1)",
          "(0 out of 3)",
          "(0 out of 4)"
         ],
         "type": "scatter",
         "unselected": {
          "marker": {
           "opacity": 0
          }
         },
         "x": [
          0.125,
          0.25,
          0.5,
          1,
          2,
          3,
          4,
          5,
          6,
          7,
          8,
          9,
          10,
          11,
          12,
          13,
          14,
          15,
          16,
          17,
          18,
          19,
          20,
          21,
          22,
          23,
          24,
          25,
          26,
          27,
          28,
          30
         ],
         "y": [
          0,
          7.5,
          9.090909090909092,
          7.4074074074074066,
          5.9405940594059405,
          8.571428571428571,
          9.836065573770492,
          13.20754716981132,
          7.142857142857142,
          17.708333333333336,
          5.681818181818182,
          4.545454545454546,
          8.928571428571429,
          9.433962264150944,
          9.30232558139535,
          4.3478260869565215,
          6.0606060606060606,
          4.166666666666666,
          12.121212121212121,
          16.666666666666664,
          16.666666666666664,
          15.384615384615385,
          42.857142857142854,
          10,
          11.11111111111111,
          29.629629629629626,
          17.647058823529413,
          0,
          9.090909090909092,
          0,
          0,
          0
         ]
        },
        {
         "hoverinfo": "skip",
         "legendgroup": "Prone",
         "legendgrouptitle": {
          "text": "fit"
         },
         "line": {
          "color": "darkviolet",
          "dash": "solid"
         },
         "mode": "lines",
         "showlegend": false,
         "type": "scatter",
         "unselected": {
          "marker": {
           "opacity": 0
          }
         },
         "x": [
          0.125,
          0.25,
          0.5,
          1,
          2,
          3,
          4,
          5,
          6,
          7,
          8,
          9,
          10,
          11,
          12,
          13,
          14,
          15,
          16,
          17,
          18,
          19,
          20,
          21,
          22,
          23,
          24,
          25,
          26,
          27,
          28,
          30
         ],
         "y": [
          8.614589833469124,
          8.627405458893616,
          8.653036709742599,
          8.704299211440565,
          8.806824214836496,
          8.909349218232428,
          9.01187422162836,
          9.114399225024291,
          9.216924228420224,
          9.319449231816154,
          9.421974235212087,
          9.52449923860802,
          9.62702424200395,
          9.729549245399882,
          9.832074248795815,
          9.934599252191745,
          10.037124255587678,
          10.13964925898361,
          10.24217426237954,
          10.344699265775473,
          10.447224269171404,
          10.549749272567336,
          10.652274275963268,
          10.7547992793592,
          10.857324282755132,
          10.959849286151064,
          11.062374289546995,
          11.164899292942927,
          11.26742429633886,
          11.36994929973479,
          11.472474303130722,
          11.677524309922585
         ]
        },
        {
         "hovertemplate": "<b>CR:</b> %{x}<br><b>Condition:</b> Restrained<br><b>Immune:</b> %{y:.0f}% %{text}<extra></extra>",
         "legendgroup": "Restrained",
         "line": {
          "shape": "spline"
         },
         "marker": {
          "color": "dodgerblue",
          "size": 4
         },
         "mode": "markers",
         "name": "Restrained",
         "showlegend": true,
         "text": [
          "(0 out of 56)",
          "(4 out of 120)",
          "(4 out of 110)",
          "(6 out of 135)",
          "(7 out of 202)",
          "(10 out of 175)",
          "(9 out of 122)",
          "(11 out of 159)",
          "(8 out of 84)",
          "(3 out of 96)",
          "(3 out of 88)",
          "(2 out of 66)",
          "(0 out of 56)",
          "(2 out of 53)",
          "(5 out of 43)",
          "(0 out of 46)",
          "(0 out of 33)",
          "(0 out of 24)",
          "(5 out of 33)",
          "(1 out of 18)",
          "(2 out of 18)",
          "(2 out of 13)",
          "(4 out of 14)",
          "(0 out of 20)",
          "(1 out of 18)",
          "(6 out of 27)",
          "(1 out of 17)",
          "(0 out of 10)",
          "(1 out of 11)",
          "(0 out of 1)",
          "(0 out of 3)",
          "(0 out of 4)"
         ],
         "type": "scatter",
         "unselected": {
          "marker": {
           "opacity": 0
          }
         },
         "x": [
          0.125,
          0.25,
          0.5,
          1,
          2,
          3,
          4,
          5,
          6,
          7,
          8,
          9,
          10,
          11,
          12,
          13,
          14,
          15,
          16,
          17,
          18,
          19,
          20,
          21,
          22,
          23,
          24,
          25,
          26,
          27,
          28,
          30
         ],
         "y": [
          0,
          3.3333333333333335,
          3.6363636363636362,
          4.444444444444445,
          3.4653465346534658,
          5.714285714285714,
          7.377049180327869,
          6.918238993710692,
          9.523809523809524,
          3.125,
          3.4090909090909087,
          3.0303030303030303,
          0,
          3.7735849056603774,
          11.627906976744185,
          0,
          0,
          0,
          15.151515151515152,
          5.555555555555555,
          11.11111111111111,
          15.384615384615385,
          28.57142857142857,
          0,
          5.555555555555555,
          22.22222222222222,
          5.88235294117647,
          0,
          9.090909090909092,
          0,
          0,
          0
         ]
        },
        {
         "hoverinfo": "skip",
         "legendgroup": "Restrained",
         "legendgrouptitle": {
          "text": "fit"
         },
         "line": {
          "color": "dodgerblue",
          "dash": "solid"
         },
         "mode": "lines",
         "showlegend": false,
         "type": "scatter",
         "unselected": {
          "marker": {
           "opacity": 0
          }
         },
         "x": [
          0.125,
          0.25,
          0.5,
          1,
          2,
          3,
          4,
          5,
          6,
          7,
          8,
          9,
          10,
          11,
          12,
          13,
          14,
          15,
          16,
          17,
          18,
          19,
          20,
          21,
          22,
          23,
          24,
          25,
          26,
          27,
          28,
          30
         ],
         "y": [
          4.565063122392098,
          4.577139935227867,
          4.601293560899406,
          4.6496008122424834,
          4.746215314928638,
          4.842829817614792,
          4.939444320300947,
          5.036058822987101,
          5.132673325673256,
          5.229287828359411,
          5.325902331045565,
          5.42251683373172,
          5.519131336417874,
          5.6157458391040285,
          5.712360341790183,
          5.808974844476338,
          5.905589347162492,
          6.002203849848646,
          6.098818352534801,
          6.195432855220956,
          6.29204735790711,
          6.388661860593265,
          6.48527636327942,
          6.581890865965574,
          6.678505368651728,
          6.775119871337883,
          6.8717343740240375,
          6.968348876710191,
          7.064963379396346,
          7.161577882082501,
          7.258192384768655,
          7.451421390140965
         ]
        },
        {
         "hovertemplate": "<b>CR:</b> %{x}<br><b>Condition:</b> Stunned<br><b>Immune:</b> %{y:.0f}% %{text}<extra></extra>",
         "legendgroup": "Stunned",
         "line": {
          "shape": "spline"
         },
         "marker": {
          "color": "brown",
          "size": 4
         },
         "mode": "markers",
         "name": "Stunned",
         "showlegend": true,
         "text": [
          "(0 out of 56)",
          "(4 out of 120)",
          "(1 out of 110)",
          "(2 out of 135)",
          "(6 out of 202)",
          "(4 out of 175)",
          "(1 out of 122)",
          "(3 out of 159)",
          "(4 out of 84)",
          "(1 out of 96)",
          "(0 out of 88)",
          "(1 out of 66)",
          "(1 out of 56)",
          "(3 out of 53)",
          "(2 out of 43)",
          "(2 out of 46)",
          "(0 out of 33)",
          "(2 out of 24)",
          "(5 out of 33)",
          "(0 out of 18)",
          "(4 out of 18)",
          "(0 out of 13)",
          "(3 out of 14)",
          "(4 out of 20)",
          "(3 out of 18)",
          "(7 out of 27)",
          "(1 out of 17)",
          "(1 out of 10)",
          "(0 out of 11)",
          "(0 out of 1)",
          "(1 out of 3)",
          "(3 out of 4)"
         ],
         "type": "scatter",
         "unselected": {
          "marker": {
           "opacity": 0
          }
         },
         "x": [
          0.125,
          0.25,
          0.5,
          1,
          2,
          3,
          4,
          5,
          6,
          7,
          8,
          9,
          10,
          11,
          12,
          13,
          14,
          15,
          16,
          17,
          18,
          19,
          20,
          21,
          22,
          23,
          24,
          25,
          26,
          27,
          28,
          30
         ],
         "y": [
          0,
          3.3333333333333335,
          0.9090909090909091,
          1.4814814814814816,
          2.9702970297029703,
          2.2857142857142856,
          0.819672131147541,
          1.8867924528301887,
          4.761904761904762,
          1.0416666666666665,
          0,
          1.5151515151515151,
          1.7857142857142856,
          5.660377358490567,
          4.651162790697675,
          4.3478260869565215,
          0,
          8.333333333333332,
          15.151515151515152,
          0,
          22.22222222222222,
          0,
          21.428571428571427,
          20,
          16.666666666666664,
          25.925925925925924,
          5.88235294117647,
          10,
          0,
          0,
          33.33333333333333,
          75
         ]
        },
        {
         "hoverinfo": "skip",
         "legendgroup": "Stunned",
         "legendgrouptitle": {
          "text": "fit"
         },
         "line": {
          "color": "brown",
          "dash": "solid"
         },
         "mode": "lines",
         "showlegend": false,
         "type": "scatter",
         "unselected": {
          "marker": {
           "opacity": 0
          }
         },
         "x": [
          0.125,
          0.25,
          0.5,
          1,
          2,
          3,
          4,
          5,
          6,
          7,
          8,
          9,
          10,
          11,
          12,
          13,
          14,
          15,
          16,
          17,
          18,
          19,
          20,
          21,
          22,
          23,
          24,
          25,
          26,
          27,
          28,
          30
         ],
         "y": [
          -3.37752150155819,
          -3.262166377636304,
          -3.031456129792533,
          -2.5700356341049915,
          -1.6471946427299076,
          -0.7243536513548237,
          0.19848734002026003,
          1.1213283313953437,
          2.044169322770428,
          2.967010314145511,
          3.889851305520595,
          4.812692296895678,
          5.735533288270762,
          6.658374279645846,
          7.58121527102093,
          8.504056262396015,
          9.426897253771097,
          10.349738245146181,
          11.272579236521265,
          12.19542022789635,
          13.118261219271432,
          14.041102210646518,
          14.9639432020216,
          15.886784193396686,
          16.809625184771768,
          17.73246617614685,
          18.655307167521936,
          19.57814815889702,
          20.500989150272105,
          21.423830141647187,
          22.34667113302227,
          24.192353115772438
         ]
        },
        {
         "hovertemplate": "<b>CR:</b> %{x}<br><b>Condition:</b> Unconscious<br><b>Immune:</b> %{y:.0f}% %{text}<extra></extra>",
         "legendgroup": "Unconscious",
         "line": {
          "shape": "spline"
         },
         "marker": {
          "color": "darkgreen",
          "size": 4
         },
         "mode": "markers",
         "name": "Unconscious",
         "showlegend": true,
         "text": [
          "(0 out of 56)",
          "(1 out of 120)",
          "(1 out of 110)",
          "(3 out of 135)",
          "(2 out of 202)",
          "(5 out of 175)",
          "(3 out of 122)",
          "(5 out of 159)",
          "(5 out of 84)",
          "(1 out of 96)",
          "(3 out of 88)",
          "(0 out of 66)",
          "(0 out of 56)",
          "(2 out of 53)",
          "(1 out of 43)",
          "(0 out of 46)",
          "(0 out of 33)",
          "(2 out of 24)",
          "(2 out of 33)",
          "(0 out of 18)",
          "(0 out of 18)",
          "(0 out of 13)",
          "(0 out of 14)",
          "(0 out of 20)",
          "(0 out of 18)",
          "(4 out of 27)",
          "(1 out of 17)",
          "(2 out of 10)",
          "(0 out of 11)",
          "(0 out of 1)",
          "(0 out of 3)",
          "(0 out of 4)"
         ],
         "type": "scatter",
         "unselected": {
          "marker": {
           "opacity": 0
          }
         },
         "x": [
          0.125,
          0.25,
          0.5,
          1,
          2,
          3,
          4,
          5,
          6,
          7,
          8,
          9,
          10,
          11,
          12,
          13,
          14,
          15,
          16,
          17,
          18,
          19,
          20,
          21,
          22,
          23,
          24,
          25,
          26,
          27,
          28,
          30
         ],
         "y": [
          0,
          0.8333333333333334,
          0.9090909090909091,
          2.2222222222222223,
          0.9900990099009901,
          2.857142857142857,
          2.459016393442623,
          3.1446540880503147,
          5.952380952380952,
          1.0416666666666665,
          3.4090909090909087,
          0,
          0,
          3.7735849056603774,
          2.3255813953488373,
          0,
          0,
          8.333333333333332,
          6.0606060606060606,
          0,
          0,
          0,
          0,
          0,
          0,
          14.814814814814813,
          5.88235294117647,
          20,
          0,
          0,
          0,
          0
         ]
        },
        {
         "hoverinfo": "skip",
         "legendgroup": "Unconscious",
         "legendgrouptitle": {
          "text": "fit"
         },
         "line": {
          "color": "darkgreen",
          "dash": "solid"
         },
         "mode": "lines",
         "showlegend": false,
         "type": "scatter",
         "unselected": {
          "marker": {
           "opacity": 0
          }
         },
         "x": [
          0.125,
          0.25,
          0.5,
          1,
          2,
          3,
          4,
          5,
          6,
          7,
          8,
          9,
          10,
          11,
          12,
          13,
          14,
          15,
          16,
          17,
          18,
          19,
          20,
          21,
          22,
          23,
          24,
          25,
          26,
          27,
          28,
          30
         ],
         "y": [
          1.5232468202954716,
          1.5337189752313094,
          1.5546632851029851,
          1.5965519048463368,
          1.6803291443330397,
          1.7641063838197428,
          1.847883623306446,
          1.931660862793149,
          2.015438102279852,
          2.099215341766555,
          2.1829925812532585,
          2.2667698207399614,
          2.3505470602266643,
          2.434324299713367,
          2.5181015392000705,
          2.601878778686774,
          2.6856560181734768,
          2.7694332576601797,
          2.8532104971468826,
          2.936987736633586,
          3.0207649761202893,
          3.104542215606992,
          3.188319455093695,
          3.272096694580398,
          3.355873934067101,
          3.4396511735538042,
          3.5234284130405076,
          3.6072056525272105,
          3.6909828920139134,
          3.7747601315006163,
          3.858537370987319,
          4.026091849960726
         ]
        }
       ],
       "layout": {
        "height": 550,
        "legend": {
         "font": {
          "size": 12
         },
         "orientation": "h",
         "tracegroupgap": 0,
         "x": 0.01,
         "xanchor": "left",
         "y": 1.04,
         "yanchor": "bottom"
        },
        "template": {
         "layout": {
          "autosize": false,
          "font": {
           "family": "sans-serif",
           "size": 14
          },
          "hoverlabel": {
           "align": "left"
          },
          "hovermode": "closest",
          "margin": {
           "b": 55,
           "l": 60,
           "pad": 4,
           "r": 25,
           "t": 20
          },
          "template": {
           "data": {
            "bar": [
             {
              "error_x": {
               "color": "#2a3f5f"
              },
              "error_y": {
               "color": "#2a3f5f"
              },
              "marker": {
               "line": {
                "color": "white",
                "width": 0.5
               },
               "pattern": {
                "fillmode": "overlay",
                "size": 10,
                "solidity": 0.2
               }
              },
              "type": "bar"
             }
            ],
            "barpolar": [
             {
              "marker": {
               "line": {
                "color": "white",
                "width": 0.5
               },
               "pattern": {
                "fillmode": "overlay",
                "size": 10,
                "solidity": 0.2
               }
              },
              "type": "barpolar"
             }
            ],
            "carpet": [
             {
              "aaxis": {
               "endlinecolor": "#2a3f5f",
               "gridcolor": "#C8D4E3",
               "linecolor": "#C8D4E3",
               "minorgridcolor": "#C8D4E3",
               "startlinecolor": "#2a3f5f"
              },
              "baxis": {
               "endlinecolor": "#2a3f5f",
               "gridcolor": "#C8D4E3",
               "linecolor": "#C8D4E3",
               "minorgridcolor": "#C8D4E3",
               "startlinecolor": "#2a3f5f"
              },
              "type": "carpet"
             }
            ],
            "choropleth": [
             {
              "colorbar": {
               "outlinewidth": 0,
               "ticks": ""
              },
              "type": "choropleth"
             }
            ],
            "contour": [
             {
              "colorbar": {
               "outlinewidth": 0,
               "ticks": ""
              },
              "colorscale": [
               [
                0,
                "#0d0887"
               ],
               [
                0.1111111111111111,
                "#46039f"
               ],
               [
                0.2222222222222222,
                "#7201a8"
               ],
               [
                0.3333333333333333,
                "#9c179e"
               ],
               [
                0.4444444444444444,
                "#bd3786"
               ],
               [
                0.5555555555555556,
                "#d8576b"
               ],
               [
                0.6666666666666666,
                "#ed7953"
               ],
               [
                0.7777777777777778,
                "#fb9f3a"
               ],
               [
                0.8888888888888888,
                "#fdca26"
               ],
               [
                1,
                "#f0f921"
               ]
              ],
              "type": "contour"
             }
            ],
            "contourcarpet": [
             {
              "colorbar": {
               "outlinewidth": 0,
               "ticks": ""
              },
              "type": "contourcarpet"
             }
            ],
            "heatmap": [
             {
              "colorbar": {
               "outlinewidth": 0,
               "ticks": ""
              },
              "colorscale": [
               [
                0,
                "#0d0887"
               ],
               [
                0.1111111111111111,
                "#46039f"
               ],
               [
                0.2222222222222222,
                "#7201a8"
               ],
               [
                0.3333333333333333,
                "#9c179e"
               ],
               [
                0.4444444444444444,
                "#bd3786"
               ],
               [
                0.5555555555555556,
                "#d8576b"
               ],
               [
                0.6666666666666666,
                "#ed7953"
               ],
               [
                0.7777777777777778,
                "#fb9f3a"
               ],
               [
                0.8888888888888888,
                "#fdca26"
               ],
               [
                1,
                "#f0f921"
               ]
              ],
              "type": "heatmap"
             }
            ],
            "heatmapgl": [
             {
              "colorbar": {
               "outlinewidth": 0,
               "ticks": ""
              },
              "colorscale": [
               [
                0,
                "#0d0887"
               ],
               [
                0.1111111111111111,
                "#46039f"
               ],
               [
                0.2222222222222222,
                "#7201a8"
               ],
               [
                0.3333333333333333,
                "#9c179e"
               ],
               [
                0.4444444444444444,
                "#bd3786"
               ],
               [
                0.5555555555555556,
                "#d8576b"
               ],
               [
                0.6666666666666666,
                "#ed7953"
               ],
               [
                0.7777777777777778,
                "#fb9f3a"
               ],
               [
                0.8888888888888888,
                "#fdca26"
               ],
               [
                1,
                "#f0f921"
               ]
              ],
              "type": "heatmapgl"
             }
            ],
            "histogram": [
             {
              "marker": {
               "pattern": {
                "fillmode": "overlay",
                "size": 10,
                "solidity": 0.2
               }
              },
              "type": "histogram"
             }
            ],
            "histogram2d": [
             {
              "colorbar": {
               "outlinewidth": 0,
               "ticks": ""
              },
              "colorscale": [
               [
                0,
                "#0d0887"
               ],
               [
                0.1111111111111111,
                "#46039f"
               ],
               [
                0.2222222222222222,
                "#7201a8"
               ],
               [
                0.3333333333333333,
                "#9c179e"
               ],
               [
                0.4444444444444444,
                "#bd3786"
               ],
               [
                0.5555555555555556,
                "#d8576b"
               ],
               [
                0.6666666666666666,
                "#ed7953"
               ],
               [
                0.7777777777777778,
                "#fb9f3a"
               ],
               [
                0.8888888888888888,
                "#fdca26"
               ],
               [
                1,
                "#f0f921"
               ]
              ],
              "type": "histogram2d"
             }
            ],
            "histogram2dcontour": [
             {
              "colorbar": {
               "outlinewidth": 0,
               "ticks": ""
              },
              "colorscale": [
               [
                0,
                "#0d0887"
               ],
               [
                0.1111111111111111,
                "#46039f"
               ],
               [
                0.2222222222222222,
                "#7201a8"
               ],
               [
                0.3333333333333333,
                "#9c179e"
               ],
               [
                0.4444444444444444,
                "#bd3786"
               ],
               [
                0.5555555555555556,
                "#d8576b"
               ],
               [
                0.6666666666666666,
                "#ed7953"
               ],
               [
                0.7777777777777778,
                "#fb9f3a"
               ],
               [
                0.8888888888888888,
                "#fdca26"
               ],
               [
                1,
                "#f0f921"
               ]
              ],
              "type": "histogram2dcontour"
             }
            ],
            "mesh3d": [
             {
              "colorbar": {
               "outlinewidth": 0,
               "ticks": ""
              },
              "type": "mesh3d"
             }
            ],
            "parcoords": [
             {
              "line": {
               "colorbar": {
                "outlinewidth": 0,
                "ticks": ""
               }
              },
              "type": "parcoords"
             }
            ],
            "pie": [
             {
              "automargin": true,
              "type": "pie"
             }
            ],
            "scatter": [
             {
              "fillpattern": {
               "fillmode": "overlay",
               "size": 10,
               "solidity": 0.2
              },
              "type": "scatter"
             }
            ],
            "scatter3d": [
             {
              "line": {
               "colorbar": {
                "outlinewidth": 0,
                "ticks": ""
               }
              },
              "marker": {
               "colorbar": {
                "outlinewidth": 0,
                "ticks": ""
               }
              },
              "type": "scatter3d"
             }
            ],
            "scattercarpet": [
             {
              "marker": {
               "colorbar": {
                "outlinewidth": 0,
                "ticks": ""
               }
              },
              "type": "scattercarpet"
             }
            ],
            "scattergeo": [
             {
              "marker": {
               "colorbar": {
                "outlinewidth": 0,
                "ticks": ""
               }
              },
              "type": "scattergeo"
             }
            ],
            "scattergl": [
             {
              "marker": {
               "colorbar": {
                "outlinewidth": 0,
                "ticks": ""
               }
              },
              "type": "scattergl"
             }
            ],
            "scattermapbox": [
             {
              "marker": {
               "colorbar": {
                "outlinewidth": 0,
                "ticks": ""
               }
              },
              "type": "scattermapbox"
             }
            ],
            "scatterpolar": [
             {
              "marker": {
               "colorbar": {
                "outlinewidth": 0,
                "ticks": ""
               }
              },
              "type": "scatterpolar"
             }
            ],
            "scatterpolargl": [
             {
              "marker": {
               "colorbar": {
                "outlinewidth": 0,
                "ticks": ""
               }
              },
              "type": "scatterpolargl"
             }
            ],
            "scatterternary": [
             {
              "marker": {
               "colorbar": {
                "outlinewidth": 0,
                "ticks": ""
               }
              },
              "type": "scatterternary"
             }
            ],
            "surface": [
             {
              "colorbar": {
               "outlinewidth": 0,
               "ticks": ""
              },
              "colorscale": [
               [
                0,
                "#0d0887"
               ],
               [
                0.1111111111111111,
                "#46039f"
               ],
               [
                0.2222222222222222,
                "#7201a8"
               ],
               [
                0.3333333333333333,
                "#9c179e"
               ],
               [
                0.4444444444444444,
                "#bd3786"
               ],
               [
                0.5555555555555556,
                "#d8576b"
               ],
               [
                0.6666666666666666,
                "#ed7953"
               ],
               [
                0.7777777777777778,
                "#fb9f3a"
               ],
               [
                0.8888888888888888,
                "#fdca26"
               ],
               [
                1,
                "#f0f921"
               ]
              ],
              "type": "surface"
             }
            ],
            "table": [
             {
              "cells": {
               "fill": {
                "color": "#EBF0F8"
               },
               "line": {
                "color": "white"
               }
              },
              "header": {
               "fill": {
                "color": "#C8D4E3"
               },
               "line": {
                "color": "white"
               }
              },
              "type": "table"
             }
            ]
           },
           "layout": {
            "annotationdefaults": {
             "arrowcolor": "#2a3f5f",
             "arrowhead": 0,
             "arrowwidth": 1
            },
            "autotypenumbers": "strict",
            "coloraxis": {
             "colorbar": {
              "outlinewidth": 0,
              "ticks": ""
             }
            },
            "colorscale": {
             "diverging": [
              [
               0,
               "#8e0152"
              ],
              [
               0.1,
               "#c51b7d"
              ],
              [
               0.2,
               "#de77ae"
              ],
              [
               0.3,
               "#f1b6da"
              ],
              [
               0.4,
               "#fde0ef"
              ],
              [
               0.5,
               "#f7f7f7"
              ],
              [
               0.6,
               "#e6f5d0"
              ],
              [
               0.7,
               "#b8e186"
              ],
              [
               0.8,
               "#7fbc41"
              ],
              [
               0.9,
               "#4d9221"
              ],
              [
               1,
               "#276419"
              ]
             ],
             "sequential": [
              [
               0,
               "#0d0887"
              ],
              [
               0.1111111111111111,
               "#46039f"
              ],
              [
               0.2222222222222222,
               "#7201a8"
              ],
              [
               0.3333333333333333,
               "#9c179e"
              ],
              [
               0.4444444444444444,
               "#bd3786"
              ],
              [
               0.5555555555555556,
               "#d8576b"
              ],
              [
               0.6666666666666666,
               "#ed7953"
              ],
              [
               0.7777777777777778,
               "#fb9f3a"
              ],
              [
               0.8888888888888888,
               "#fdca26"
              ],
              [
               1,
               "#f0f921"
              ]
             ],
             "sequentialminus": [
              [
               0,
               "#0d0887"
              ],
              [
               0.1111111111111111,
               "#46039f"
              ],
              [
               0.2222222222222222,
               "#7201a8"
              ],
              [
               0.3333333333333333,
               "#9c179e"
              ],
              [
               0.4444444444444444,
               "#bd3786"
              ],
              [
               0.5555555555555556,
               "#d8576b"
              ],
              [
               0.6666666666666666,
               "#ed7953"
              ],
              [
               0.7777777777777778,
               "#fb9f3a"
              ],
              [
               0.8888888888888888,
               "#fdca26"
              ],
              [
               1,
               "#f0f921"
              ]
             ]
            },
            "colorway": [
             "#636efa",
             "#EF553B",
             "#00cc96",
             "#ab63fa",
             "#FFA15A",
             "#19d3f3",
             "#FF6692",
             "#B6E880",
             "#FF97FF",
             "#FECB52"
            ],
            "font": {
             "color": "#2a3f5f"
            },
            "geo": {
             "bgcolor": "white",
             "lakecolor": "white",
             "landcolor": "white",
             "showlakes": true,
             "showland": true,
             "subunitcolor": "#C8D4E3"
            },
            "hoverlabel": {
             "align": "left"
            },
            "hovermode": "closest",
            "mapbox": {
             "style": "light"
            },
            "paper_bgcolor": "white",
            "plot_bgcolor": "white",
            "polar": {
             "angularaxis": {
              "gridcolor": "#EBF0F8",
              "linecolor": "#EBF0F8",
              "ticks": ""
             },
             "bgcolor": "white",
             "radialaxis": {
              "gridcolor": "#EBF0F8",
              "linecolor": "#EBF0F8",
              "ticks": ""
             }
            },
            "scene": {
             "xaxis": {
              "backgroundcolor": "white",
              "gridcolor": "#DFE8F3",
              "gridwidth": 2,
              "linecolor": "#EBF0F8",
              "showbackground": true,
              "ticks": "",
              "zerolinecolor": "#EBF0F8"
             },
             "yaxis": {
              "backgroundcolor": "white",
              "gridcolor": "#DFE8F3",
              "gridwidth": 2,
              "linecolor": "#EBF0F8",
              "showbackground": true,
              "ticks": "",
              "zerolinecolor": "#EBF0F8"
             },
             "zaxis": {
              "backgroundcolor": "white",
              "gridcolor": "#DFE8F3",
              "gridwidth": 2,
              "linecolor": "#EBF0F8",
              "showbackground": true,
              "ticks": "",
              "zerolinecolor": "#EBF0F8"
             }
            },
            "shapedefaults": {
             "line": {
              "color": "#2a3f5f"
             }
            },
            "ternary": {
             "aaxis": {
              "gridcolor": "#DFE8F3",
              "linecolor": "#A2B1C6",
              "ticks": ""
             },
             "baxis": {
              "gridcolor": "#DFE8F3",
              "linecolor": "#A2B1C6",
              "ticks": ""
             },
             "bgcolor": "white",
             "caxis": {
              "gridcolor": "#DFE8F3",
              "linecolor": "#A2B1C6",
              "ticks": ""
             }
            },
            "title": {
             "x": 0.05
            },
            "xaxis": {
             "automargin": true,
             "gridcolor": "#EBF0F8",
             "linecolor": "#EBF0F8",
             "ticks": "",
             "title": {
              "standoff": 15
             },
             "zerolinecolor": "#EBF0F8",
             "zerolinewidth": 2
            },
            "yaxis": {
             "automargin": true,
             "gridcolor": "#EBF0F8",
             "linecolor": "#EBF0F8",
             "ticks": "",
             "title": {
              "standoff": 15
             },
             "zerolinecolor": "#EBF0F8",
             "zerolinewidth": 2
            }
           }
          },
          "xaxis": {
           "automargin": false,
           "linecolor": "#444",
           "linewidth": 2,
           "minor": {
            "tickmode": "linear",
            "ticks": "outside"
           },
           "mirror": true,
           "showline": true,
           "tickmode": "linear",
           "ticks": "outside",
           "zeroline": false
          },
          "yaxis": {
           "automargin": false,
           "linecolor": "#444",
           "linewidth": 2,
           "minor": {
            "tickmode": "linear",
            "ticks": "outside"
           },
           "mirror": true,
           "showline": true,
           "ticks": "outside",
           "zeroline": false
          }
         }
        },
        "width": 600,
        "xaxis": {
         "dtick": 5,
         "minor": {
          "dtick": 1,
          "tick0": 0
         },
         "range": [
          0,
          30.2
         ],
         "tick0": 0,
         "title": {
          "text": "challenge rating"
         }
        },
        "yaxis": {
         "dtick": 20,
         "minor": {
          "dtick": 10,
          "tick0": 0
         },
         "range": [
          -5,
          105
         ],
         "tick0": 0,
         "title": {
          "text": "percent immune"
         }
        }
       }
      }
     },
     "metadata": {},
     "output_type": "display_data"
    }
   ],
   "source": [
    "# Plots the percent of monsters immune to each condition as a function of their CR.\n",
    "conditions = CONDITIONS.copy()\n",
    "colors = CONDITION_COLORS.copy()\n",
    "i = conditions.index('Invisible')\n",
    "conditions.pop(i); colors.pop(i)\n",
    "i = conditions.index('Incapacitated')\n",
    "conditions.pop(i); colors.pop(i)\n",
    "\n",
    "# create figure\n",
    "fig = go.Figure(\n",
    "    layout=go.Layout(\n",
    "        template=tfb.FIG_TEMPLATE,\n",
    "        xaxis=dict(\n",
    "            title_text='challenge rating',\n",
    "            range=[0.0, 30.2],\n",
    "            tick0=0, dtick=5,\n",
    "            minor=dict(tick0=0, dtick=1),\n",
    "        ),\n",
    "        yaxis=dict(\n",
    "            title_text='percent immune',\n",
    "            range=[-5, 105],\n",
    "            tick0=0, dtick=20,\n",
    "            minor=dict(tick0=0, dtick=10),\n",
    "        ),\n",
    "        legend=dict(\n",
    "            orientation='h',\n",
    "            yanchor='bottom',  y=1.04,\n",
    "            xanchor='left',    x=0.01,\n",
    "            font_size=12,\n",
    "            #xanchor='left', yanchor='top',\n",
    "            #x=0.01, y=0.99,\n",
    "            #orientation='v',\n",
    "            tracegroupgap=0,\n",
    "        ),\n",
    "    )\n",
    ")\n",
    "\n",
    "#df1 = df0[df0['Category'].isin(['generic','legendary','unique']) & df0['CR'].between(1/8, 30)]\n",
    "df1 = df0[df0['CR'].between(1/8, 30)]\n",
    "dfG = df1[['CR'] + conditions].groupby('CR').mean().reset_index()\n",
    "for condition, color in zip(conditions, colors):\n",
    "    # generate custom text\n",
    "    cr_totals = df1[['CR','Book']].groupby('CR').count()['Book'].to_list()\n",
    "    condition_totals = [int(x) for x in df1[['CR',condition]].groupby('CR').sum()[condition].to_list()]\n",
    "    custom_text = [f'({i} out of {t})' for i, t in zip(condition_totals, cr_totals)]\n",
    "\n",
    "    # plot data\n",
    "    fig.add_trace(go.Scatter(\n",
    "        x=dfG['CR'],\n",
    "        y=100*dfG[condition],\n",
    "        mode='markers', \n",
    "        #line=dict(color=color, dash='solid'),\n",
    "        #marker=dict(size=12, line=dict(width=1, color='Black')),\n",
    "        marker=dict(size=4, color=color),\n",
    "        line_shape='spline',\n",
    "        unselected=dict(marker=dict(opacity=0.0)),\n",
    "        showlegend=True,\n",
    "        name=condition,\n",
    "        legendgroup=condition,\n",
    "        text=custom_text,\n",
    "        hovertemplate=\n",
    "            '<b>CR:</b> %{x}<br>'+\n",
    "            '<b>Condition:</b> ' + condition + '<br>'+\n",
    "            '<b>Immune:</b> %{y:.0f}% %{text}'+\n",
    "            '<extra></extra>'\n",
    "    ))\n",
    "\n",
    "    # add fit line\n",
    "    coefs = np.polyfit(dfG['CR'], 100*dfG[condition], 1)\n",
    "    poly = np.poly1d(coefs)\n",
    "    fig.add_trace(go.Scatter(\n",
    "        x=dfG['CR'],\n",
    "        y=poly(dfG['CR']),\n",
    "        mode='lines', \n",
    "        line=dict(color=color, dash='solid'),\n",
    "        unselected=dict(marker=dict(opacity=0.0)),\n",
    "        showlegend=False,\n",
    "        legendgroup=condition,\n",
    "        legendgrouptitle_text='fit',\n",
    "        hoverinfo='skip',\n",
    "    ))\n",
    "\n",
    "# show figure\n",
    "fig.update_layout(width=600, height=550)\n",
    "fig.show(config=tfb.FIG_CONFIG)\n",
    "\n",
    "# save figures\n",
    "if SAVEFIGS:\n",
    "    fig.update_layout(autosize=True, width=None, height=None)\n",
    "    tfb.save_fig_html(fig, format='large', name=f'./fig-condition-immunity-prob-vs-cr-large', style='aspect-ratio:600/550')\n",
    "    tfb.save_fig_html(fig, legend_font_size=8, format='small', name=f'./fig-condition-immunity-prob-vs-cr-small', style='aspect-ratio:600/600')"
   ]
  },
  {
   "cell_type": "code",
   "execution_count": 21,
   "metadata": {},
   "outputs": [
    {
     "data": {
      "application/vnd.plotly.v1+json": {
       "config": {
        "autosizable": true,
        "displayModeBar": "hover",
        "displaylogo": false,
        "modeBarButtonsToRemove": [
         "select2d",
         "lasso2d",
         "zoom2d",
         "zoomIn2d",
         "zoomOut2d",
         "pan2d",
         "autoScale2d",
         "hoverClosestCartesian",
         "hoverCompareCartesian",
         "toggleSpikelines",
         "resetScale2d"
        ],
        "plotlyServerURL": "https://plot.ly",
        "responsive": true,
        "showAxisDragHandles": false,
        "toImageButtonOptions": {
         "filename": "tfb-plot",
         "format": "png",
         "height": 450,
         "scale": 2,
         "width": 600
        }
       },
       "data": [
        {
         "hovertemplate": "CR %{x}<br>immunities %{y:.2f}<extra></extra>",
         "line": {
          "color": "black",
          "dash": "solid"
         },
         "mode": "lines+markers",
         "name": "All Conditions",
         "type": "scatter",
         "unselected": {
          "marker": {
           "opacity": 0
          }
         },
         "x": [
          0.125,
          0.25,
          0.5,
          1,
          2,
          3,
          4,
          5,
          6,
          7,
          8,
          9,
          10,
          11,
          12,
          13,
          14,
          15,
          16,
          17,
          18,
          19,
          20,
          21,
          22,
          23,
          24,
          25,
          26,
          27,
          28,
          30
         ],
         "y": [
          0.6964285714285714,
          0.9916666666666667,
          0.9363636363636364,
          1.4222222222222223,
          0.900990099009901,
          1.0514285714285714,
          1.6475409836065573,
          1.559748427672956,
          1.7261904761904763,
          1.4479166666666667,
          1.3863636363636365,
          1.0757575757575757,
          1.5892857142857142,
          1.8867924528301887,
          2.372093023255814,
          1.5,
          1.878787878787879,
          1.6666666666666667,
          3.5454545454545454,
          2.1666666666666665,
          3.7777777777777777,
          2.769230769230769,
          4,
          3.2,
          3.4444444444444446,
          4.888888888888889,
          3.588235294117647,
          3.1,
          3.727272727272727,
          3,
          5,
          5.25
         ]
        }
       ],
       "layout": {
        "height": 500,
        "legend": {
         "orientation": "v",
         "x": 0.01,
         "xanchor": "left",
         "y": 0.99,
         "yanchor": "top"
        },
        "template": {
         "layout": {
          "autosize": false,
          "font": {
           "family": "sans-serif",
           "size": 14
          },
          "hoverlabel": {
           "align": "left"
          },
          "hovermode": "closest",
          "margin": {
           "b": 55,
           "l": 60,
           "pad": 4,
           "r": 25,
           "t": 20
          },
          "template": {
           "data": {
            "bar": [
             {
              "error_x": {
               "color": "#2a3f5f"
              },
              "error_y": {
               "color": "#2a3f5f"
              },
              "marker": {
               "line": {
                "color": "white",
                "width": 0.5
               },
               "pattern": {
                "fillmode": "overlay",
                "size": 10,
                "solidity": 0.2
               }
              },
              "type": "bar"
             }
            ],
            "barpolar": [
             {
              "marker": {
               "line": {
                "color": "white",
                "width": 0.5
               },
               "pattern": {
                "fillmode": "overlay",
                "size": 10,
                "solidity": 0.2
               }
              },
              "type": "barpolar"
             }
            ],
            "carpet": [
             {
              "aaxis": {
               "endlinecolor": "#2a3f5f",
               "gridcolor": "#C8D4E3",
               "linecolor": "#C8D4E3",
               "minorgridcolor": "#C8D4E3",
               "startlinecolor": "#2a3f5f"
              },
              "baxis": {
               "endlinecolor": "#2a3f5f",
               "gridcolor": "#C8D4E3",
               "linecolor": "#C8D4E3",
               "minorgridcolor": "#C8D4E3",
               "startlinecolor": "#2a3f5f"
              },
              "type": "carpet"
             }
            ],
            "choropleth": [
             {
              "colorbar": {
               "outlinewidth": 0,
               "ticks": ""
              },
              "type": "choropleth"
             }
            ],
            "contour": [
             {
              "colorbar": {
               "outlinewidth": 0,
               "ticks": ""
              },
              "colorscale": [
               [
                0,
                "#0d0887"
               ],
               [
                0.1111111111111111,
                "#46039f"
               ],
               [
                0.2222222222222222,
                "#7201a8"
               ],
               [
                0.3333333333333333,
                "#9c179e"
               ],
               [
                0.4444444444444444,
                "#bd3786"
               ],
               [
                0.5555555555555556,
                "#d8576b"
               ],
               [
                0.6666666666666666,
                "#ed7953"
               ],
               [
                0.7777777777777778,
                "#fb9f3a"
               ],
               [
                0.8888888888888888,
                "#fdca26"
               ],
               [
                1,
                "#f0f921"
               ]
              ],
              "type": "contour"
             }
            ],
            "contourcarpet": [
             {
              "colorbar": {
               "outlinewidth": 0,
               "ticks": ""
              },
              "type": "contourcarpet"
             }
            ],
            "heatmap": [
             {
              "colorbar": {
               "outlinewidth": 0,
               "ticks": ""
              },
              "colorscale": [
               [
                0,
                "#0d0887"
               ],
               [
                0.1111111111111111,
                "#46039f"
               ],
               [
                0.2222222222222222,
                "#7201a8"
               ],
               [
                0.3333333333333333,
                "#9c179e"
               ],
               [
                0.4444444444444444,
                "#bd3786"
               ],
               [
                0.5555555555555556,
                "#d8576b"
               ],
               [
                0.6666666666666666,
                "#ed7953"
               ],
               [
                0.7777777777777778,
                "#fb9f3a"
               ],
               [
                0.8888888888888888,
                "#fdca26"
               ],
               [
                1,
                "#f0f921"
               ]
              ],
              "type": "heatmap"
             }
            ],
            "heatmapgl": [
             {
              "colorbar": {
               "outlinewidth": 0,
               "ticks": ""
              },
              "colorscale": [
               [
                0,
                "#0d0887"
               ],
               [
                0.1111111111111111,
                "#46039f"
               ],
               [
                0.2222222222222222,
                "#7201a8"
               ],
               [
                0.3333333333333333,
                "#9c179e"
               ],
               [
                0.4444444444444444,
                "#bd3786"
               ],
               [
                0.5555555555555556,
                "#d8576b"
               ],
               [
                0.6666666666666666,
                "#ed7953"
               ],
               [
                0.7777777777777778,
                "#fb9f3a"
               ],
               [
                0.8888888888888888,
                "#fdca26"
               ],
               [
                1,
                "#f0f921"
               ]
              ],
              "type": "heatmapgl"
             }
            ],
            "histogram": [
             {
              "marker": {
               "pattern": {
                "fillmode": "overlay",
                "size": 10,
                "solidity": 0.2
               }
              },
              "type": "histogram"
             }
            ],
            "histogram2d": [
             {
              "colorbar": {
               "outlinewidth": 0,
               "ticks": ""
              },
              "colorscale": [
               [
                0,
                "#0d0887"
               ],
               [
                0.1111111111111111,
                "#46039f"
               ],
               [
                0.2222222222222222,
                "#7201a8"
               ],
               [
                0.3333333333333333,
                "#9c179e"
               ],
               [
                0.4444444444444444,
                "#bd3786"
               ],
               [
                0.5555555555555556,
                "#d8576b"
               ],
               [
                0.6666666666666666,
                "#ed7953"
               ],
               [
                0.7777777777777778,
                "#fb9f3a"
               ],
               [
                0.8888888888888888,
                "#fdca26"
               ],
               [
                1,
                "#f0f921"
               ]
              ],
              "type": "histogram2d"
             }
            ],
            "histogram2dcontour": [
             {
              "colorbar": {
               "outlinewidth": 0,
               "ticks": ""
              },
              "colorscale": [
               [
                0,
                "#0d0887"
               ],
               [
                0.1111111111111111,
                "#46039f"
               ],
               [
                0.2222222222222222,
                "#7201a8"
               ],
               [
                0.3333333333333333,
                "#9c179e"
               ],
               [
                0.4444444444444444,
                "#bd3786"
               ],
               [
                0.5555555555555556,
                "#d8576b"
               ],
               [
                0.6666666666666666,
                "#ed7953"
               ],
               [
                0.7777777777777778,
                "#fb9f3a"
               ],
               [
                0.8888888888888888,
                "#fdca26"
               ],
               [
                1,
                "#f0f921"
               ]
              ],
              "type": "histogram2dcontour"
             }
            ],
            "mesh3d": [
             {
              "colorbar": {
               "outlinewidth": 0,
               "ticks": ""
              },
              "type": "mesh3d"
             }
            ],
            "parcoords": [
             {
              "line": {
               "colorbar": {
                "outlinewidth": 0,
                "ticks": ""
               }
              },
              "type": "parcoords"
             }
            ],
            "pie": [
             {
              "automargin": true,
              "type": "pie"
             }
            ],
            "scatter": [
             {
              "fillpattern": {
               "fillmode": "overlay",
               "size": 10,
               "solidity": 0.2
              },
              "type": "scatter"
             }
            ],
            "scatter3d": [
             {
              "line": {
               "colorbar": {
                "outlinewidth": 0,
                "ticks": ""
               }
              },
              "marker": {
               "colorbar": {
                "outlinewidth": 0,
                "ticks": ""
               }
              },
              "type": "scatter3d"
             }
            ],
            "scattercarpet": [
             {
              "marker": {
               "colorbar": {
                "outlinewidth": 0,
                "ticks": ""
               }
              },
              "type": "scattercarpet"
             }
            ],
            "scattergeo": [
             {
              "marker": {
               "colorbar": {
                "outlinewidth": 0,
                "ticks": ""
               }
              },
              "type": "scattergeo"
             }
            ],
            "scattergl": [
             {
              "marker": {
               "colorbar": {
                "outlinewidth": 0,
                "ticks": ""
               }
              },
              "type": "scattergl"
             }
            ],
            "scattermapbox": [
             {
              "marker": {
               "colorbar": {
                "outlinewidth": 0,
                "ticks": ""
               }
              },
              "type": "scattermapbox"
             }
            ],
            "scatterpolar": [
             {
              "marker": {
               "colorbar": {
                "outlinewidth": 0,
                "ticks": ""
               }
              },
              "type": "scatterpolar"
             }
            ],
            "scatterpolargl": [
             {
              "marker": {
               "colorbar": {
                "outlinewidth": 0,
                "ticks": ""
               }
              },
              "type": "scatterpolargl"
             }
            ],
            "scatterternary": [
             {
              "marker": {
               "colorbar": {
                "outlinewidth": 0,
                "ticks": ""
               }
              },
              "type": "scatterternary"
             }
            ],
            "surface": [
             {
              "colorbar": {
               "outlinewidth": 0,
               "ticks": ""
              },
              "colorscale": [
               [
                0,
                "#0d0887"
               ],
               [
                0.1111111111111111,
                "#46039f"
               ],
               [
                0.2222222222222222,
                "#7201a8"
               ],
               [
                0.3333333333333333,
                "#9c179e"
               ],
               [
                0.4444444444444444,
                "#bd3786"
               ],
               [
                0.5555555555555556,
                "#d8576b"
               ],
               [
                0.6666666666666666,
                "#ed7953"
               ],
               [
                0.7777777777777778,
                "#fb9f3a"
               ],
               [
                0.8888888888888888,
                "#fdca26"
               ],
               [
                1,
                "#f0f921"
               ]
              ],
              "type": "surface"
             }
            ],
            "table": [
             {
              "cells": {
               "fill": {
                "color": "#EBF0F8"
               },
               "line": {
                "color": "white"
               }
              },
              "header": {
               "fill": {
                "color": "#C8D4E3"
               },
               "line": {
                "color": "white"
               }
              },
              "type": "table"
             }
            ]
           },
           "layout": {
            "annotationdefaults": {
             "arrowcolor": "#2a3f5f",
             "arrowhead": 0,
             "arrowwidth": 1
            },
            "autotypenumbers": "strict",
            "coloraxis": {
             "colorbar": {
              "outlinewidth": 0,
              "ticks": ""
             }
            },
            "colorscale": {
             "diverging": [
              [
               0,
               "#8e0152"
              ],
              [
               0.1,
               "#c51b7d"
              ],
              [
               0.2,
               "#de77ae"
              ],
              [
               0.3,
               "#f1b6da"
              ],
              [
               0.4,
               "#fde0ef"
              ],
              [
               0.5,
               "#f7f7f7"
              ],
              [
               0.6,
               "#e6f5d0"
              ],
              [
               0.7,
               "#b8e186"
              ],
              [
               0.8,
               "#7fbc41"
              ],
              [
               0.9,
               "#4d9221"
              ],
              [
               1,
               "#276419"
              ]
             ],
             "sequential": [
              [
               0,
               "#0d0887"
              ],
              [
               0.1111111111111111,
               "#46039f"
              ],
              [
               0.2222222222222222,
               "#7201a8"
              ],
              [
               0.3333333333333333,
               "#9c179e"
              ],
              [
               0.4444444444444444,
               "#bd3786"
              ],
              [
               0.5555555555555556,
               "#d8576b"
              ],
              [
               0.6666666666666666,
               "#ed7953"
              ],
              [
               0.7777777777777778,
               "#fb9f3a"
              ],
              [
               0.8888888888888888,
               "#fdca26"
              ],
              [
               1,
               "#f0f921"
              ]
             ],
             "sequentialminus": [
              [
               0,
               "#0d0887"
              ],
              [
               0.1111111111111111,
               "#46039f"
              ],
              [
               0.2222222222222222,
               "#7201a8"
              ],
              [
               0.3333333333333333,
               "#9c179e"
              ],
              [
               0.4444444444444444,
               "#bd3786"
              ],
              [
               0.5555555555555556,
               "#d8576b"
              ],
              [
               0.6666666666666666,
               "#ed7953"
              ],
              [
               0.7777777777777778,
               "#fb9f3a"
              ],
              [
               0.8888888888888888,
               "#fdca26"
              ],
              [
               1,
               "#f0f921"
              ]
             ]
            },
            "colorway": [
             "#636efa",
             "#EF553B",
             "#00cc96",
             "#ab63fa",
             "#FFA15A",
             "#19d3f3",
             "#FF6692",
             "#B6E880",
             "#FF97FF",
             "#FECB52"
            ],
            "font": {
             "color": "#2a3f5f"
            },
            "geo": {
             "bgcolor": "white",
             "lakecolor": "white",
             "landcolor": "white",
             "showlakes": true,
             "showland": true,
             "subunitcolor": "#C8D4E3"
            },
            "hoverlabel": {
             "align": "left"
            },
            "hovermode": "closest",
            "mapbox": {
             "style": "light"
            },
            "paper_bgcolor": "white",
            "plot_bgcolor": "white",
            "polar": {
             "angularaxis": {
              "gridcolor": "#EBF0F8",
              "linecolor": "#EBF0F8",
              "ticks": ""
             },
             "bgcolor": "white",
             "radialaxis": {
              "gridcolor": "#EBF0F8",
              "linecolor": "#EBF0F8",
              "ticks": ""
             }
            },
            "scene": {
             "xaxis": {
              "backgroundcolor": "white",
              "gridcolor": "#DFE8F3",
              "gridwidth": 2,
              "linecolor": "#EBF0F8",
              "showbackground": true,
              "ticks": "",
              "zerolinecolor": "#EBF0F8"
             },
             "yaxis": {
              "backgroundcolor": "white",
              "gridcolor": "#DFE8F3",
              "gridwidth": 2,
              "linecolor": "#EBF0F8",
              "showbackground": true,
              "ticks": "",
              "zerolinecolor": "#EBF0F8"
             },
             "zaxis": {
              "backgroundcolor": "white",
              "gridcolor": "#DFE8F3",
              "gridwidth": 2,
              "linecolor": "#EBF0F8",
              "showbackground": true,
              "ticks": "",
              "zerolinecolor": "#EBF0F8"
             }
            },
            "shapedefaults": {
             "line": {
              "color": "#2a3f5f"
             }
            },
            "ternary": {
             "aaxis": {
              "gridcolor": "#DFE8F3",
              "linecolor": "#A2B1C6",
              "ticks": ""
             },
             "baxis": {
              "gridcolor": "#DFE8F3",
              "linecolor": "#A2B1C6",
              "ticks": ""
             },
             "bgcolor": "white",
             "caxis": {
              "gridcolor": "#DFE8F3",
              "linecolor": "#A2B1C6",
              "ticks": ""
             }
            },
            "title": {
             "x": 0.05
            },
            "xaxis": {
             "automargin": true,
             "gridcolor": "#EBF0F8",
             "linecolor": "#EBF0F8",
             "ticks": "",
             "title": {
              "standoff": 15
             },
             "zerolinecolor": "#EBF0F8",
             "zerolinewidth": 2
            },
            "yaxis": {
             "automargin": true,
             "gridcolor": "#EBF0F8",
             "linecolor": "#EBF0F8",
             "ticks": "",
             "title": {
              "standoff": 15
             },
             "zerolinecolor": "#EBF0F8",
             "zerolinewidth": 2
            }
           }
          },
          "xaxis": {
           "automargin": false,
           "linecolor": "#444",
           "linewidth": 2,
           "minor": {
            "tickmode": "linear",
            "ticks": "outside"
           },
           "mirror": true,
           "showline": true,
           "tickmode": "linear",
           "ticks": "outside",
           "zeroline": false
          },
          "yaxis": {
           "automargin": false,
           "linecolor": "#444",
           "linewidth": 2,
           "minor": {
            "tickmode": "linear",
            "ticks": "outside"
           },
           "mirror": true,
           "showline": true,
           "ticks": "outside",
           "zeroline": false
          }
         }
        },
        "width": 600,
        "xaxis": {
         "dtick": 5,
         "minor": {
          "dtick": 1,
          "tick0": 0
         },
         "range": [
          0,
          30.2
         ],
         "tick0": 0,
         "title": {
          "text": "challenge rating"
         }
        },
        "yaxis": {
         "dtick": 1,
         "minor": {
          "dtick": 0.25,
          "tick0": 0
         },
         "range": [
          -0.05,
          6
         ],
         "tick0": 0,
         "title": {
          "text": "condition immunities"
         }
        }
       }
      }
     },
     "metadata": {},
     "output_type": "display_data"
    }
   ],
   "source": [
    "# Plots average number of conditional immunities for monsters at each CR.\n",
    "conditions = ['All Conditions']\n",
    "colors = ['black']\n",
    "\n",
    "# create figure\n",
    "fig = go.Figure(\n",
    "    layout=go.Layout(\n",
    "        template=tfb.FIG_TEMPLATE,\n",
    "        xaxis=dict(\n",
    "            title_text='challenge rating',\n",
    "            range=[0.0, 30.2],\n",
    "            tick0=0, dtick=5,\n",
    "            minor=dict(tick0=0, dtick=1),\n",
    "        ),\n",
    "        yaxis=dict(\n",
    "            title_text='condition immunities',\n",
    "            range=[-0.05, 6],\n",
    "            tick0=0, dtick=1.0,\n",
    "            minor=dict(tick0=0, dtick=0.25),\n",
    "        ),\n",
    "        legend=dict(\n",
    "            yanchor='top',  y=0.99,\n",
    "            xanchor='left', x=0.01,\n",
    "            orientation='v',\n",
    "        )\n",
    "    )\n",
    ")\n",
    "\n",
    "#df1 = df0[df0['Category'].isin(['generic','legendary','unique']) & df0['CR'].between(1/8, 30)]\n",
    "df1 = df0[df0['CR'].between(1/8, 30)]\n",
    "dfG = df1[['CR'] + conditions].groupby('CR').mean()\n",
    "for condition, color in zip(conditions, colors):\n",
    "    dfR = dfG[condition].rolling(1, center=True).mean()\n",
    "    fig.add_trace(go.Scatter(\n",
    "        x=dfR.index.to_series(),\n",
    "        y=dfR,\n",
    "        mode='lines+markers', \n",
    "        line=dict(color=color, dash='solid'),\n",
    "        unselected=dict(marker=dict(opacity=0.0)),\n",
    "        name=condition,\n",
    "        hovertemplate=\n",
    "            'CR %{x}<br>'+\n",
    "            'immunities %{y:.2f}'+\n",
    "            '<extra></extra>'\n",
    "    ))\n",
    "\n",
    "\n",
    "# show figure\n",
    "fig.update_layout(width=600, height=500)\n",
    "fig.show(config=tfb.FIG_CONFIG)\n",
    "\n",
    "# save figures\n",
    "if SAVEFIGS:\n",
    "    \"\"\"fig.update_layout(autosize=True, width=None, height=None)\n",
    "    tfb.save_fig_html(fig, format='large', name=f'./fig-condition-immunity-prob-vs-cr-large', style='aspect-ratio:600/500')\n",
    "    tfb.save_fig_html(fig, format='small', name=f'./fig-condition-immunity-prob-vs-cr-small', style='aspect-ratio:600/500')\"\"\"\n",
    "    pass"
   ]
  },
  {
   "cell_type": "code",
   "execution_count": 24,
   "metadata": {},
   "outputs": [
    {
     "data": {
      "application/vnd.plotly.v1+json": {
       "config": {
        "autosizable": true,
        "displayModeBar": "hover",
        "displaylogo": false,
        "modeBarButtonsToRemove": [
         "select2d",
         "lasso2d",
         "zoom2d",
         "zoomIn2d",
         "zoomOut2d",
         "pan2d",
         "autoScale2d",
         "hoverClosestCartesian",
         "hoverCompareCartesian",
         "toggleSpikelines",
         "resetScale2d"
        ],
        "plotlyServerURL": "https://plot.ly",
        "responsive": true,
        "showAxisDragHandles": false,
        "toImageButtonOptions": {
         "filename": "tfb-plot",
         "format": "png",
         "height": 450,
         "scale": 2,
         "width": 600
        }
       },
       "data": [
        {
         "histfunc": "avg",
         "hovertemplate": "<b>%{x}:</b> %{y:.2f}<br><extra></extra>",
         "name": "All Conditions",
         "type": "histogram",
         "x": [
          "aberration",
          "beast",
          "celestial",
          "construct",
          "dragon",
          "elemental",
          "fey",
          "fiend",
          "giant",
          "humanoid",
          "monstrosity",
          "ooze",
          "plant",
          "undead"
         ],
         "y": [
          1.4363636363636363,
          0.717741935483871,
          2.689655172413793,
          5.585585585585585,
          0.656,
          4.055555555555555,
          0.5384615384615384,
          2.462857142857143,
          0.6363636363636364,
          0.23551401869158878,
          0.6050420168067226,
          5.2105263157894735,
          1.8409090909090908,
          4.172839506172839
         ]
        }
       ],
       "layout": {
        "height": 500,
        "template": {
         "layout": {
          "autosize": false,
          "font": {
           "family": "sans-serif",
           "size": 14
          },
          "hoverlabel": {
           "align": "left"
          },
          "hovermode": "closest",
          "margin": {
           "b": 55,
           "l": 60,
           "pad": 4,
           "r": 25,
           "t": 20
          },
          "template": {
           "data": {
            "bar": [
             {
              "error_x": {
               "color": "#2a3f5f"
              },
              "error_y": {
               "color": "#2a3f5f"
              },
              "marker": {
               "line": {
                "color": "white",
                "width": 0.5
               },
               "pattern": {
                "fillmode": "overlay",
                "size": 10,
                "solidity": 0.2
               }
              },
              "type": "bar"
             }
            ],
            "barpolar": [
             {
              "marker": {
               "line": {
                "color": "white",
                "width": 0.5
               },
               "pattern": {
                "fillmode": "overlay",
                "size": 10,
                "solidity": 0.2
               }
              },
              "type": "barpolar"
             }
            ],
            "carpet": [
             {
              "aaxis": {
               "endlinecolor": "#2a3f5f",
               "gridcolor": "#C8D4E3",
               "linecolor": "#C8D4E3",
               "minorgridcolor": "#C8D4E3",
               "startlinecolor": "#2a3f5f"
              },
              "baxis": {
               "endlinecolor": "#2a3f5f",
               "gridcolor": "#C8D4E3",
               "linecolor": "#C8D4E3",
               "minorgridcolor": "#C8D4E3",
               "startlinecolor": "#2a3f5f"
              },
              "type": "carpet"
             }
            ],
            "choropleth": [
             {
              "colorbar": {
               "outlinewidth": 0,
               "ticks": ""
              },
              "type": "choropleth"
             }
            ],
            "contour": [
             {
              "colorbar": {
               "outlinewidth": 0,
               "ticks": ""
              },
              "colorscale": [
               [
                0,
                "#0d0887"
               ],
               [
                0.1111111111111111,
                "#46039f"
               ],
               [
                0.2222222222222222,
                "#7201a8"
               ],
               [
                0.3333333333333333,
                "#9c179e"
               ],
               [
                0.4444444444444444,
                "#bd3786"
               ],
               [
                0.5555555555555556,
                "#d8576b"
               ],
               [
                0.6666666666666666,
                "#ed7953"
               ],
               [
                0.7777777777777778,
                "#fb9f3a"
               ],
               [
                0.8888888888888888,
                "#fdca26"
               ],
               [
                1,
                "#f0f921"
               ]
              ],
              "type": "contour"
             }
            ],
            "contourcarpet": [
             {
              "colorbar": {
               "outlinewidth": 0,
               "ticks": ""
              },
              "type": "contourcarpet"
             }
            ],
            "heatmap": [
             {
              "colorbar": {
               "outlinewidth": 0,
               "ticks": ""
              },
              "colorscale": [
               [
                0,
                "#0d0887"
               ],
               [
                0.1111111111111111,
                "#46039f"
               ],
               [
                0.2222222222222222,
                "#7201a8"
               ],
               [
                0.3333333333333333,
                "#9c179e"
               ],
               [
                0.4444444444444444,
                "#bd3786"
               ],
               [
                0.5555555555555556,
                "#d8576b"
               ],
               [
                0.6666666666666666,
                "#ed7953"
               ],
               [
                0.7777777777777778,
                "#fb9f3a"
               ],
               [
                0.8888888888888888,
                "#fdca26"
               ],
               [
                1,
                "#f0f921"
               ]
              ],
              "type": "heatmap"
             }
            ],
            "heatmapgl": [
             {
              "colorbar": {
               "outlinewidth": 0,
               "ticks": ""
              },
              "colorscale": [
               [
                0,
                "#0d0887"
               ],
               [
                0.1111111111111111,
                "#46039f"
               ],
               [
                0.2222222222222222,
                "#7201a8"
               ],
               [
                0.3333333333333333,
                "#9c179e"
               ],
               [
                0.4444444444444444,
                "#bd3786"
               ],
               [
                0.5555555555555556,
                "#d8576b"
               ],
               [
                0.6666666666666666,
                "#ed7953"
               ],
               [
                0.7777777777777778,
                "#fb9f3a"
               ],
               [
                0.8888888888888888,
                "#fdca26"
               ],
               [
                1,
                "#f0f921"
               ]
              ],
              "type": "heatmapgl"
             }
            ],
            "histogram": [
             {
              "marker": {
               "pattern": {
                "fillmode": "overlay",
                "size": 10,
                "solidity": 0.2
               }
              },
              "type": "histogram"
             }
            ],
            "histogram2d": [
             {
              "colorbar": {
               "outlinewidth": 0,
               "ticks": ""
              },
              "colorscale": [
               [
                0,
                "#0d0887"
               ],
               [
                0.1111111111111111,
                "#46039f"
               ],
               [
                0.2222222222222222,
                "#7201a8"
               ],
               [
                0.3333333333333333,
                "#9c179e"
               ],
               [
                0.4444444444444444,
                "#bd3786"
               ],
               [
                0.5555555555555556,
                "#d8576b"
               ],
               [
                0.6666666666666666,
                "#ed7953"
               ],
               [
                0.7777777777777778,
                "#fb9f3a"
               ],
               [
                0.8888888888888888,
                "#fdca26"
               ],
               [
                1,
                "#f0f921"
               ]
              ],
              "type": "histogram2d"
             }
            ],
            "histogram2dcontour": [
             {
              "colorbar": {
               "outlinewidth": 0,
               "ticks": ""
              },
              "colorscale": [
               [
                0,
                "#0d0887"
               ],
               [
                0.1111111111111111,
                "#46039f"
               ],
               [
                0.2222222222222222,
                "#7201a8"
               ],
               [
                0.3333333333333333,
                "#9c179e"
               ],
               [
                0.4444444444444444,
                "#bd3786"
               ],
               [
                0.5555555555555556,
                "#d8576b"
               ],
               [
                0.6666666666666666,
                "#ed7953"
               ],
               [
                0.7777777777777778,
                "#fb9f3a"
               ],
               [
                0.8888888888888888,
                "#fdca26"
               ],
               [
                1,
                "#f0f921"
               ]
              ],
              "type": "histogram2dcontour"
             }
            ],
            "mesh3d": [
             {
              "colorbar": {
               "outlinewidth": 0,
               "ticks": ""
              },
              "type": "mesh3d"
             }
            ],
            "parcoords": [
             {
              "line": {
               "colorbar": {
                "outlinewidth": 0,
                "ticks": ""
               }
              },
              "type": "parcoords"
             }
            ],
            "pie": [
             {
              "automargin": true,
              "type": "pie"
             }
            ],
            "scatter": [
             {
              "fillpattern": {
               "fillmode": "overlay",
               "size": 10,
               "solidity": 0.2
              },
              "type": "scatter"
             }
            ],
            "scatter3d": [
             {
              "line": {
               "colorbar": {
                "outlinewidth": 0,
                "ticks": ""
               }
              },
              "marker": {
               "colorbar": {
                "outlinewidth": 0,
                "ticks": ""
               }
              },
              "type": "scatter3d"
             }
            ],
            "scattercarpet": [
             {
              "marker": {
               "colorbar": {
                "outlinewidth": 0,
                "ticks": ""
               }
              },
              "type": "scattercarpet"
             }
            ],
            "scattergeo": [
             {
              "marker": {
               "colorbar": {
                "outlinewidth": 0,
                "ticks": ""
               }
              },
              "type": "scattergeo"
             }
            ],
            "scattergl": [
             {
              "marker": {
               "colorbar": {
                "outlinewidth": 0,
                "ticks": ""
               }
              },
              "type": "scattergl"
             }
            ],
            "scattermapbox": [
             {
              "marker": {
               "colorbar": {
                "outlinewidth": 0,
                "ticks": ""
               }
              },
              "type": "scattermapbox"
             }
            ],
            "scatterpolar": [
             {
              "marker": {
               "colorbar": {
                "outlinewidth": 0,
                "ticks": ""
               }
              },
              "type": "scatterpolar"
             }
            ],
            "scatterpolargl": [
             {
              "marker": {
               "colorbar": {
                "outlinewidth": 0,
                "ticks": ""
               }
              },
              "type": "scatterpolargl"
             }
            ],
            "scatterternary": [
             {
              "marker": {
               "colorbar": {
                "outlinewidth": 0,
                "ticks": ""
               }
              },
              "type": "scatterternary"
             }
            ],
            "surface": [
             {
              "colorbar": {
               "outlinewidth": 0,
               "ticks": ""
              },
              "colorscale": [
               [
                0,
                "#0d0887"
               ],
               [
                0.1111111111111111,
                "#46039f"
               ],
               [
                0.2222222222222222,
                "#7201a8"
               ],
               [
                0.3333333333333333,
                "#9c179e"
               ],
               [
                0.4444444444444444,
                "#bd3786"
               ],
               [
                0.5555555555555556,
                "#d8576b"
               ],
               [
                0.6666666666666666,
                "#ed7953"
               ],
               [
                0.7777777777777778,
                "#fb9f3a"
               ],
               [
                0.8888888888888888,
                "#fdca26"
               ],
               [
                1,
                "#f0f921"
               ]
              ],
              "type": "surface"
             }
            ],
            "table": [
             {
              "cells": {
               "fill": {
                "color": "#EBF0F8"
               },
               "line": {
                "color": "white"
               }
              },
              "header": {
               "fill": {
                "color": "#C8D4E3"
               },
               "line": {
                "color": "white"
               }
              },
              "type": "table"
             }
            ]
           },
           "layout": {
            "annotationdefaults": {
             "arrowcolor": "#2a3f5f",
             "arrowhead": 0,
             "arrowwidth": 1
            },
            "autotypenumbers": "strict",
            "coloraxis": {
             "colorbar": {
              "outlinewidth": 0,
              "ticks": ""
             }
            },
            "colorscale": {
             "diverging": [
              [
               0,
               "#8e0152"
              ],
              [
               0.1,
               "#c51b7d"
              ],
              [
               0.2,
               "#de77ae"
              ],
              [
               0.3,
               "#f1b6da"
              ],
              [
               0.4,
               "#fde0ef"
              ],
              [
               0.5,
               "#f7f7f7"
              ],
              [
               0.6,
               "#e6f5d0"
              ],
              [
               0.7,
               "#b8e186"
              ],
              [
               0.8,
               "#7fbc41"
              ],
              [
               0.9,
               "#4d9221"
              ],
              [
               1,
               "#276419"
              ]
             ],
             "sequential": [
              [
               0,
               "#0d0887"
              ],
              [
               0.1111111111111111,
               "#46039f"
              ],
              [
               0.2222222222222222,
               "#7201a8"
              ],
              [
               0.3333333333333333,
               "#9c179e"
              ],
              [
               0.4444444444444444,
               "#bd3786"
              ],
              [
               0.5555555555555556,
               "#d8576b"
              ],
              [
               0.6666666666666666,
               "#ed7953"
              ],
              [
               0.7777777777777778,
               "#fb9f3a"
              ],
              [
               0.8888888888888888,
               "#fdca26"
              ],
              [
               1,
               "#f0f921"
              ]
             ],
             "sequentialminus": [
              [
               0,
               "#0d0887"
              ],
              [
               0.1111111111111111,
               "#46039f"
              ],
              [
               0.2222222222222222,
               "#7201a8"
              ],
              [
               0.3333333333333333,
               "#9c179e"
              ],
              [
               0.4444444444444444,
               "#bd3786"
              ],
              [
               0.5555555555555556,
               "#d8576b"
              ],
              [
               0.6666666666666666,
               "#ed7953"
              ],
              [
               0.7777777777777778,
               "#fb9f3a"
              ],
              [
               0.8888888888888888,
               "#fdca26"
              ],
              [
               1,
               "#f0f921"
              ]
             ]
            },
            "colorway": [
             "#636efa",
             "#EF553B",
             "#00cc96",
             "#ab63fa",
             "#FFA15A",
             "#19d3f3",
             "#FF6692",
             "#B6E880",
             "#FF97FF",
             "#FECB52"
            ],
            "font": {
             "color": "#2a3f5f"
            },
            "geo": {
             "bgcolor": "white",
             "lakecolor": "white",
             "landcolor": "white",
             "showlakes": true,
             "showland": true,
             "subunitcolor": "#C8D4E3"
            },
            "hoverlabel": {
             "align": "left"
            },
            "hovermode": "closest",
            "mapbox": {
             "style": "light"
            },
            "paper_bgcolor": "white",
            "plot_bgcolor": "white",
            "polar": {
             "angularaxis": {
              "gridcolor": "#EBF0F8",
              "linecolor": "#EBF0F8",
              "ticks": ""
             },
             "bgcolor": "white",
             "radialaxis": {
              "gridcolor": "#EBF0F8",
              "linecolor": "#EBF0F8",
              "ticks": ""
             }
            },
            "scene": {
             "xaxis": {
              "backgroundcolor": "white",
              "gridcolor": "#DFE8F3",
              "gridwidth": 2,
              "linecolor": "#EBF0F8",
              "showbackground": true,
              "ticks": "",
              "zerolinecolor": "#EBF0F8"
             },
             "yaxis": {
              "backgroundcolor": "white",
              "gridcolor": "#DFE8F3",
              "gridwidth": 2,
              "linecolor": "#EBF0F8",
              "showbackground": true,
              "ticks": "",
              "zerolinecolor": "#EBF0F8"
             },
             "zaxis": {
              "backgroundcolor": "white",
              "gridcolor": "#DFE8F3",
              "gridwidth": 2,
              "linecolor": "#EBF0F8",
              "showbackground": true,
              "ticks": "",
              "zerolinecolor": "#EBF0F8"
             }
            },
            "shapedefaults": {
             "line": {
              "color": "#2a3f5f"
             }
            },
            "ternary": {
             "aaxis": {
              "gridcolor": "#DFE8F3",
              "linecolor": "#A2B1C6",
              "ticks": ""
             },
             "baxis": {
              "gridcolor": "#DFE8F3",
              "linecolor": "#A2B1C6",
              "ticks": ""
             },
             "bgcolor": "white",
             "caxis": {
              "gridcolor": "#DFE8F3",
              "linecolor": "#A2B1C6",
              "ticks": ""
             }
            },
            "title": {
             "x": 0.05
            },
            "xaxis": {
             "automargin": true,
             "gridcolor": "#EBF0F8",
             "linecolor": "#EBF0F8",
             "ticks": "",
             "title": {
              "standoff": 15
             },
             "zerolinecolor": "#EBF0F8",
             "zerolinewidth": 2
            },
            "yaxis": {
             "automargin": true,
             "gridcolor": "#EBF0F8",
             "linecolor": "#EBF0F8",
             "ticks": "",
             "title": {
              "standoff": 15
             },
             "zerolinecolor": "#EBF0F8",
             "zerolinewidth": 2
            }
           }
          },
          "xaxis": {
           "automargin": false,
           "linecolor": "#444",
           "linewidth": 2,
           "minor": {
            "tickmode": "linear",
            "ticks": "outside"
           },
           "mirror": true,
           "showline": true,
           "tickmode": "linear",
           "ticks": "outside",
           "zeroline": false
          },
          "yaxis": {
           "automargin": false,
           "linecolor": "#444",
           "linewidth": 2,
           "minor": {
            "tickmode": "linear",
            "ticks": "outside"
           },
           "mirror": true,
           "showline": true,
           "ticks": "outside",
           "zeroline": false
          }
         }
        },
        "width": 600,
        "xaxis": {
         "automargin": true,
         "range": [
          -0.5,
          13.5
         ],
         "title": {
          "text": ""
         }
        },
        "yaxis": {
         "dtick": 1,
         "minor": {
          "dtick": 0.5,
          "tick0": 0
         },
         "range": [
          0,
          7
         ],
         "tick0": 0,
         "title": {
          "text": "condition immunities"
         }
        }
       }
      }
     },
     "metadata": {},
     "output_type": "display_data"
    }
   ],
   "source": [
    "# Plots the average number of condition immunities for monsters of each type.\n",
    "condition = 'All Conditions'\n",
    "\n",
    "#df1 = df0[df0['Category'].isin(['generic','legendary','unique']) & df0['CR'].between(1/8, 30)]\n",
    "df1 = df0[df0['CR'].between(1/8, 30)]\n",
    "dfG = df1[['Type',condition]].groupby(['Type']).mean().reset_index()\n",
    "\n",
    "fig = go.Figure(\n",
    "    layout=go.Layout(\n",
    "        template=tfb.FIG_TEMPLATE,\n",
    "        xaxis=dict(\n",
    "            title_text='',\n",
    "            automargin=True,\n",
    "            range=[-0.5, 14-0.5],\n",
    "        ),\n",
    "        yaxis=dict(\n",
    "            title_text=f'condition immunities',\n",
    "            range=[0.0, 7.0],\n",
    "            tick0=0, dtick=1.0,\n",
    "            minor=dict(tick0=0, dtick=0.5),\n",
    "        )\n",
    "    )\n",
    ")\n",
    "\n",
    "fig.add_trace(go.Histogram(\n",
    "    histfunc='avg', \n",
    "    x=dfG['Type'], \n",
    "    y=dfG[condition], \n",
    "    name=condition,\n",
    "    hovertemplate=\n",
    "        '<b>%{x}:</b> %{y:.2f}<br>'+\n",
    "        '<extra></extra>',\n",
    "))\n",
    "\n",
    "# show figure\n",
    "fig.update_layout(width=600, height=500)\n",
    "fig.show(config=tfb.FIG_CONFIG)\n",
    "\n",
    "# save figures\n",
    "if SAVEFIGS:\n",
    "    \"\"\"fig.update_layout(autosize=True, width=None, height=None)\n",
    "    tfb.save_fig_html(fig, format='large', name=f'./fig-condition-immunity-prob-vs-cr-large', style='aspect-ratio:600/550')\n",
    "    tfb.save_fig_html(fig, format='small', name=f'./fig-condition-immunity-prob-vs-cr-small', style='aspect-ratio:600/550')\"\"\"\n",
    "    pass"
   ]
  },
  {
   "cell_type": "code",
   "execution_count": null,
   "metadata": {},
   "outputs": [],
   "source": [
    "# Runs a linear regression fit for immunity to one condition based on monster CR and type.\n",
    "import warnings\n",
    "warnings.filterwarnings('ignore')\n",
    "import statsmodels.api as sm\n",
    "from sklearn.linear_model import LinearRegression\n",
    "\n",
    "yCol = 'Poisoned'\n",
    "xCols = ['CR','Type']\n",
    "aCols = [yCol] + xCols\n",
    "df1 = df0[aCols]\n",
    "X = pd.get_dummies(data=df1[xCols], drop_first=False)\n",
    "Y = df1[yCol]\n",
    "\n",
    "model = LinearRegression()\n",
    "model.fit(X, Y)\n",
    "\n",
    "coeff_parameter = pd.DataFrame(model.coef_, X.columns, columns=['Coefficient'])\n",
    "\n",
    "# generate report\n",
    "X_Sm = sm.add_constant(X)\n",
    "ls = sm.OLS(Y, X_Sm).fit()\n",
    "print(ls.summary())"
   ]
  }
 ],
 "metadata": {
  "kernelspec": {
   "display_name": "thefinishedbook",
   "language": "python",
   "name": "python3"
  },
  "language_info": {
   "codemirror_mode": {
    "name": "ipython",
    "version": 3
   },
   "file_extension": ".py",
   "mimetype": "text/x-python",
   "name": "python",
   "nbconvert_exporter": "python",
   "pygments_lexer": "ipython3",
   "version": "3.10.5"
  },
  "orig_nbformat": 4,
  "vscode": {
   "interpreter": {
    "hash": "e4b90a08ac11b7f80ea6e39e6f46c6e22a0b6d86a47874aaa13784019f162251"
   }
  }
 },
 "nbformat": 4,
 "nbformat_minor": 2
}
