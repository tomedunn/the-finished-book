{
 "cells": [
  {
   "cell_type": "code",
   "execution_count": 1,
   "metadata": {},
   "outputs": [
    {
     "name": "stdout",
     "output_type": "stream",
     "text": [
      "Includes 1920 monsters in database\n"
     ]
    }
   ],
   "source": [
    "from matplotlib import pyplot as plt\n",
    "from matplotlib.ticker import (MultipleLocator, FormatStrFormatter, AutoMinorLocator)\n",
    "import numpy as np\n",
    "import pandas as pd\n",
    "pd.options.mode.chained_assignment = None  # default='warn'\n",
    "\n",
    "METADATA = {'Contributor': 'T. Dunn'}\n",
    "FSIZE = [5,4]\n",
    "FDPI = 100\n",
    "SAVEFIGS = False\n",
    "\n",
    "df0 = pd.read_csv('saving-throws.csv')\n",
    "df0 = df0.astype({'Book': 'category', 'Type': 'category', 'Size': 'category'})\n",
    "df0['Ave Mod'] = (df0['Str Mod'] + df0['Dex Mod'] + df0['Con Mod'] + df0['Int Mod'] + df0['Wis Mod'] + df0['Cha Mod'])/6\n",
    "print('Includes {} monsters in database'.format(len(df0.index.to_list())))\n",
    "\n",
    "dfD = pd.read_csv('../../assets/data/dmg-targets.csv') # 'CR','PB','AC','AB'"
   ]
  },
  {
   "cell_type": "code",
   "execution_count": 4,
   "metadata": {},
   "outputs": [],
   "source": [
    "# Setup template and html config for plotly figures.\n",
    "import plotly.graph_objects as go\n",
    "\n",
    "TFB_TEMPLATE = dict(\n",
    "    layout=go.Layout(\n",
    "        template='plotly_white',\n",
    "        autosize=True, # must be True to auto-scale when resizing\n",
    "        margin=dict(l=50, r=25, b=40, t=20, pad=4),\n",
    "        font=dict(\n",
    "            family='sans-serif',\n",
    "            size=14\n",
    "        ),\n",
    "        hovermode='closest',\n",
    "        xaxis=dict(\n",
    "            autorange=False,\n",
    "            automargin=True,\n",
    "            fixedrange=True,\n",
    "            showline=True,\n",
    "            linecolor='#444',\n",
    "            linewidth=2,\n",
    "            mirror=True,\n",
    "            tickmode='linear',\n",
    "            ticks='outside',\n",
    "            minor=dict(\n",
    "                #showgrid=True,\n",
    "                tickmode='linear',\n",
    "                ticks='outside',\n",
    "            ),\n",
    "            zeroline=False,\n",
    "        ),\n",
    "        yaxis=dict(\n",
    "            autorange=False,\n",
    "            automargin=True,\n",
    "            fixedrange=True,\n",
    "            showline=True,\n",
    "            linecolor='#444',\n",
    "            linewidth=2,\n",
    "            mirror=True,\n",
    "            tickmode='linear',\n",
    "            ticks='outside',\n",
    "            minor=dict(\n",
    "                #showgrid=True,\n",
    "                tickmode='linear',\n",
    "                ticks='outside',\n",
    "            ),\n",
    "            zeroline=False,\n",
    "        ),\n",
    "        #legend=dict(font_size=10),\n",
    "    )\n",
    ")\n",
    "\n",
    "TFB_CONFIG = {\n",
    "    'responsive': True, # must be True to auto-scale when resizing\n",
    "    'autosizable': True, # doesn't impact auto rescaling\n",
    "    'showAxisDragHandles': False,\n",
    "    'displaylogo': False,\n",
    "    'displayModeBar': 'hover',\n",
    "    'modeBarButtonsToRemove': [\n",
    "        'select2d',\n",
    "        'lasso2d',\n",
    "        'zoom2d',\n",
    "        'zoomIn2d',\n",
    "        'zoomOut2d',\n",
    "        'pan2d',\n",
    "        'autoScale2d',\n",
    "        'hoverClosestCartesian',\n",
    "        'hoverCompareCartesian',\n",
    "        'toggleSpikelines',\n",
    "        'resetScale2d',\n",
    "    ],\n",
    "    'toImageButtonOptions': {\n",
    "        'format': 'png', # one of png, svg, jpeg, webp\n",
    "        'filename': 'tfb-plot',\n",
    "        'height': 450,\n",
    "        'width': 600,\n",
    "        'scale': 2\n",
    "    },\n",
    "}\n"
   ]
  },
  {
   "cell_type": "code",
   "execution_count": 9,
   "metadata": {},
   "outputs": [
    {
     "data": {
      "application/vnd.plotly.v1+json": {
       "config": {
        "autosizable": true,
        "displayModeBar": "hover",
        "displaylogo": false,
        "modeBarButtonsToRemove": [
         "select2d",
         "lasso2d",
         "zoom2d",
         "zoomIn2d",
         "zoomOut2d",
         "pan2d",
         "autoScale2d",
         "hoverClosestCartesian",
         "hoverCompareCartesian",
         "toggleSpikelines",
         "resetScale2d"
        ],
        "plotlyServerURL": "https://plot.ly",
        "responsive": true,
        "showAxisDragHandles": false,
        "toImageButtonOptions": {
         "filename": "tfb-plot",
         "format": "png",
         "height": 450,
         "scale": 2,
         "width": 600
        }
       },
       "data": [
        {
         "hovertemplate": "<b>CR:</b> %{x}<br><b>Ability:</b> Str<br><b>Bonus:</b> %{y:.1f}<extra></extra>",
         "legendgroup": "Str Save",
         "marker": {
          "color": "#d62728",
          "size": 4
         },
         "mode": "markers",
         "name": "Str Save",
         "showlegend": true,
         "type": "scatter",
         "unselected": {
          "marker": {
           "opacity": 0
          }
         },
         "x": [
          0.125,
          0.25,
          0.5,
          1,
          2,
          3,
          4,
          5,
          6,
          7,
          8,
          9,
          10,
          11,
          12,
          13,
          14,
          15,
          16,
          17,
          18,
          19,
          20,
          21,
          22,
          23,
          24,
          25,
          26,
          28,
          30
         ],
         "y": [
          -0.576271186440678,
          0.1452991452991453,
          0.45689655172413796,
          1.0211267605633803,
          1.7053140096618358,
          2.1123595505617976,
          2.352,
          2.622754491017964,
          3.05,
          2.811111111111111,
          3.607142857142857,
          3.638888888888889,
          3.967741935483871,
          4.4375,
          4.790697674418604,
          4.75,
          5.838709677419355,
          5.291666666666667,
          7.161290322580645,
          4.777777777777778,
          4.388888888888889,
          7.5,
          6.333333333333333,
          8.117647058823529,
          7.333333333333333,
          8.590909090909092,
          9.090909090909092,
          9.5,
          7.9,
          10.5,
          12.25
         ]
        },
        {
         "hoverinfo": "skip",
         "legendgroup": "Str Save",
         "legendgrouptitle": {
          "text": "fit"
         },
         "line": {
          "color": "#d62728",
          "dash": "solid"
         },
         "mode": "lines",
         "showlegend": false,
         "type": "scatter",
         "unselected": {
          "marker": {
           "opacity": 0
          }
         },
         "x": [
          0.125,
          0.25,
          0.5,
          1,
          2,
          3,
          4,
          5,
          6,
          7,
          8,
          9,
          10,
          11,
          12,
          13,
          14,
          15,
          16,
          17,
          18,
          19,
          20,
          21,
          22,
          23,
          24,
          25,
          26,
          28,
          30
         ],
         "y": [
          0.5417070785717347,
          0.5844023087424093,
          0.6697927690837583,
          0.8405736897664564,
          1.1821355311318527,
          1.523697372497249,
          1.8652592138626451,
          2.2068210552280414,
          2.548382896593438,
          2.8899447379588334,
          3.23150657932423,
          3.5730684206896264,
          3.914630262055023,
          4.256192103420418,
          4.597753944785815,
          4.939315786151211,
          5.280877627516607,
          5.622439468882003,
          5.9640013102474,
          6.305563151612796,
          6.647124992978193,
          6.988686834343588,
          7.330248675708985,
          7.671810517074381,
          8.013372358439778,
          8.354934199805173,
          8.69649604117057,
          9.038057882535966,
          9.379619723901364,
          10.062743406632155,
          10.745867089362948
         ]
        },
        {
         "hovertemplate": "<b>CR:</b> %{x}<br><b>Ability:</b> Dex<br><b>Bonus:</b> %{y:.1f}<extra></extra>",
         "legendgroup": "Dex Save",
         "marker": {
          "color": "#9467bd",
          "size": 4
         },
         "mode": "markers",
         "name": "Dex Save",
         "showlegend": true,
         "type": "scatter",
         "unselected": {
          "marker": {
           "opacity": 0
          }
         },
         "x": [
          0.125,
          0.25,
          0.5,
          1,
          2,
          3,
          4,
          5,
          6,
          7,
          8,
          9,
          10,
          11,
          12,
          13,
          14,
          15,
          16,
          17,
          18,
          19,
          20,
          21,
          22,
          23,
          24,
          25,
          26,
          28,
          30
         ],
         "y": [
          1.576271186440678,
          1.3076923076923077,
          1.353448275862069,
          1.5633802816901408,
          1.6618357487922706,
          1.8820224719101124,
          1.832,
          2.179640718562874,
          1.8625,
          2.466666666666667,
          2.142857142857143,
          2.4583333333333335,
          2.8548387096774195,
          3.1875,
          2.186046511627907,
          3.125,
          3.5483870967741935,
          3.4583333333333335,
          5.064516129032258,
          4.333333333333333,
          4.111111111111111,
          5.416666666666667,
          5.083333333333333,
          7.294117647058823,
          5.8,
          7.2272727272727275,
          7.909090909090909,
          5,
          6.6,
          4.5,
          6
         ]
        },
        {
         "hoverinfo": "skip",
         "legendgroup": "Dex Save",
         "legendgrouptitle": {
          "text": "fit"
         },
         "line": {
          "color": "#9467bd",
          "dash": "solid"
         },
         "mode": "lines",
         "showlegend": false,
         "type": "scatter",
         "unselected": {
          "marker": {
           "opacity": 0
          }
         },
         "x": [
          0.125,
          0.25,
          0.5,
          1,
          2,
          3,
          4,
          5,
          6,
          7,
          8,
          9,
          10,
          11,
          12,
          13,
          14,
          15,
          16,
          17,
          18,
          19,
          20,
          21,
          22,
          23,
          24,
          25,
          26,
          28,
          30
         ],
         "y": [
          1.1490272334315663,
          1.1734626864505753,
          1.2223335924885932,
          1.320075404564629,
          1.5155590287167005,
          1.711042652868772,
          1.9065262770208435,
          2.102009901172915,
          2.297493525324987,
          2.492977149477058,
          2.6884607736291297,
          2.8839443977812014,
          3.079428021933273,
          3.2749116460853447,
          3.4703952702374163,
          3.665878894389488,
          3.861362518541559,
          4.056846142693631,
          4.252329766845703,
          4.447813390997775,
          4.643297015149846,
          4.838780639301917,
          5.034264263453989,
          5.22974788760606,
          5.425231511758132,
          5.620715135910204,
          5.816198760062275,
          6.011682384214347,
          6.207166008366419,
          6.598133256670561,
          6.989100504974704
         ]
        },
        {
         "hovertemplate": "<b>CR:</b> %{x}<br><b>Ability:</b> Con<br><b>Bonus:</b> %{y:.1f}<extra></extra>",
         "legendgroup": "Con Save",
         "marker": {
          "color": "#8c564b",
          "size": 4
         },
         "mode": "markers",
         "name": "Con Save",
         "showlegend": true,
         "type": "scatter",
         "unselected": {
          "marker": {
           "opacity": 0
          }
         },
         "x": [
          0.125,
          0.25,
          0.5,
          1,
          2,
          3,
          4,
          5,
          6,
          7,
          8,
          9,
          10,
          11,
          12,
          13,
          14,
          15,
          16,
          17,
          18,
          19,
          20,
          21,
          22,
          23,
          24,
          25,
          26,
          28,
          30
         ],
         "y": [
          0.711864406779661,
          0.8547008547008547,
          1.1982758620689655,
          1.3591549295774648,
          1.8792270531400965,
          2.3202247191011236,
          2.608,
          3.155688622754491,
          3.55,
          3.688888888888889,
          4.190476190476191,
          5.263888888888889,
          5.548387096774194,
          5.75,
          5.534883720930233,
          6.975,
          8.35483870967742,
          6.791666666666667,
          7.290322580645161,
          7.555555555555555,
          9.277777777777779,
          9.583333333333334,
          11.25,
          12.294117647058824,
          12.266666666666667,
          12.363636363636363,
          13.727272727272727,
          12.333333333333334,
          12.7,
          14,
          14.25
         ]
        },
        {
         "hoverinfo": "skip",
         "legendgroup": "Con Save",
         "legendgrouptitle": {
          "text": "fit"
         },
         "line": {
          "color": "#8c564b",
          "dash": "solid"
         },
         "mode": "lines",
         "showlegend": false,
         "type": "scatter",
         "unselected": {
          "marker": {
           "opacity": 0
          }
         },
         "x": [
          0.125,
          0.25,
          0.5,
          1,
          2,
          3,
          4,
          5,
          6,
          7,
          8,
          9,
          10,
          11,
          12,
          13,
          14,
          15,
          16,
          17,
          18,
          19,
          20,
          21,
          22,
          23,
          24,
          25,
          26,
          28,
          30
         ],
         "y": [
          0.7309629359956266,
          0.7912977055707007,
          0.9119672447208487,
          1.1533063230211447,
          1.635984479621737,
          2.118662636222329,
          2.6013407928229215,
          3.0840189494235135,
          3.566697106024106,
          4.049375262624698,
          4.53205341922529,
          5.014731575825882,
          5.497409732426474,
          5.980087889027067,
          6.462766045627659,
          6.945444202228251,
          7.428122358828844,
          7.910800515429436,
          8.393478672030028,
          8.87615682863062,
          9.358834985231212,
          9.841513141831804,
          10.324191298432396,
          10.80686945503299,
          11.289547611633582,
          11.772225768234174,
          12.254903924834766,
          12.737582081435358,
          13.22026023803595,
          14.185616551237135,
          15.15097286443832
         ]
        },
        {
         "hovertemplate": "<b>CR:</b> %{x}<br><b>Ability:</b> Int<br><b>Bonus:</b> %{y:.1f}<extra></extra>",
         "legendgroup": "Int Save",
         "marker": {
          "color": "#1f77b4",
          "size": 4
         },
         "mode": "markers",
         "name": "Int Save",
         "showlegend": true,
         "type": "scatter",
         "unselected": {
          "marker": {
           "opacity": 0
          }
         },
         "x": [
          0.125,
          0.25,
          0.5,
          1,
          2,
          3,
          4,
          5,
          6,
          7,
          8,
          9,
          10,
          11,
          12,
          13,
          14,
          15,
          16,
          17,
          18,
          19,
          20,
          21,
          22,
          23,
          24,
          25,
          26,
          28,
          30
         ],
         "y": [
          -1.9661016949152543,
          -1.829059829059829,
          -1.5603448275862069,
          -1.1971830985915493,
          -0.5507246376811594,
          -0.25280898876404495,
          0.168,
          0.6467065868263473,
          0.8375,
          1.1222222222222222,
          0.7380952380952381,
          2.0277777777777777,
          2.435483870967742,
          1.4375,
          2.3488372093023258,
          4.175,
          3.129032258064516,
          3.2083333333333335,
          1.967741935483871,
          5.722222222222222,
          6.444444444444445,
          5.166666666666667,
          1.8333333333333333,
          6.647058823529412,
          6,
          5.818181818181818,
          5.2727272727272725,
          8.166666666666666,
          11.4,
          11.5,
          8.5
         ]
        },
        {
         "hoverinfo": "skip",
         "legendgroup": "Int Save",
         "legendgrouptitle": {
          "text": "fit"
         },
         "line": {
          "color": "#1f77b4",
          "dash": "solid"
         },
         "mode": "lines",
         "showlegend": false,
         "type": "scatter",
         "unselected": {
          "marker": {
           "opacity": 0
          }
         },
         "x": [
          0.125,
          0.25,
          0.5,
          1,
          2,
          3,
          4,
          5,
          6,
          7,
          8,
          9,
          10,
          11,
          12,
          13,
          14,
          15,
          16,
          17,
          18,
          19,
          20,
          21,
          22,
          23,
          24,
          25,
          26,
          28,
          30
         ],
         "y": [
          -1.7148407035335105,
          -1.6678833850566677,
          -1.5739687481029816,
          -1.3861394741956097,
          -1.010480926380866,
          -0.6348223785661222,
          -0.2591638307513784,
          0.11649471706336545,
          0.49215326487810906,
          0.8678118126928529,
          1.2434703605075967,
          1.6191289083223406,
          1.9947874561370844,
          2.3704460039518285,
          2.746104551766572,
          3.121763099581316,
          3.4974216473960595,
          3.873080195210804,
          4.248738743025547,
          4.624397290840291,
          5.000055838655035,
          5.375714386469778,
          5.751372934284523,
          6.127031482099266,
          6.50269002991401,
          6.8783485777287545,
          7.254007125543497,
          7.629665673358241,
          8.005324221172986,
          8.756641316802472,
          9.507958412431961
         ]
        },
        {
         "hovertemplate": "<b>CR:</b> %{x}<br><b>Ability:</b> Wis<br><b>Bonus:</b> %{y:.1f}<extra></extra>",
         "legendgroup": "Wis Save",
         "marker": {
          "color": "#2ca02c",
          "size": 4
         },
         "mode": "markers",
         "name": "Wis Save",
         "showlegend": true,
         "type": "scatter",
         "unselected": {
          "marker": {
           "opacity": 0
          }
         },
         "x": [
          0.125,
          0.25,
          0.5,
          1,
          2,
          3,
          4,
          5,
          6,
          7,
          8,
          9,
          10,
          11,
          12,
          13,
          14,
          15,
          16,
          17,
          18,
          19,
          20,
          21,
          22,
          23,
          24,
          25,
          26,
          28,
          30
         ],
         "y": [
          0,
          -0.08547008547008547,
          0.12931034482758622,
          0.4507042253521127,
          0.9468599033816425,
          1.1292134831460674,
          1.536,
          2.269461077844311,
          2.3625,
          2.477777777777778,
          3.1666666666666665,
          4,
          4.516129032258065,
          4.1875,
          5.046511627906977,
          5,
          6.451612903225806,
          5.333333333333333,
          6.483870967741935,
          8.666666666666666,
          8.055555555555555,
          7.833333333333333,
          7.5,
          11.705882352941176,
          10.666666666666666,
          10.545454545454545,
          12.090909090909092,
          11,
          13,
          14,
          14.5
         ]
        },
        {
         "hoverinfo": "skip",
         "legendgroup": "Wis Save",
         "legendgrouptitle": {
          "text": "fit"
         },
         "line": {
          "color": "#2ca02c",
          "dash": "solid"
         },
         "mode": "lines",
         "showlegend": false,
         "type": "scatter",
         "unselected": {
          "marker": {
           "opacity": 0
          }
         },
         "x": [
          0.125,
          0.25,
          0.5,
          1,
          2,
          3,
          4,
          5,
          6,
          7,
          8,
          9,
          10,
          11,
          12,
          13,
          14,
          15,
          16,
          17,
          18,
          19,
          20,
          21,
          22,
          23,
          24,
          25,
          26,
          28,
          30
         ],
         "y": [
          -0.4369473531778296,
          -0.3758291827905045,
          -0.25359284201585425,
          -0.009120160466553784,
          0.47982520263204714,
          0.968770565730648,
          1.457715928829249,
          1.94666129192785,
          2.435606655026451,
          2.9245520181250515,
          3.4134973812236526,
          3.902442744322254,
          4.391388107420855,
          4.880333470519456,
          5.369278833618057,
          5.858224196716658,
          6.347169559815258,
          6.836114922913859,
          7.3250602860124605,
          7.814005649111062,
          8.302951012209663,
          8.791896375308264,
          9.280841738406865,
          9.769787101505464,
          10.258732464604066,
          10.747677827702667,
          11.236623190801268,
          11.725568553899869,
          12.21451391699847,
          13.19240464319567,
          14.170295369392873
         ]
        },
        {
         "hovertemplate": "<b>CR:</b> %{x}<br><b>Ability:</b> Cha<br><b>Bonus:</b> %{y:.1f}<extra></extra>",
         "legendgroup": "Cha Save",
         "marker": {
          "color": "#ff7f0e",
          "size": 4
         },
         "mode": "markers",
         "name": "Cha Save",
         "showlegend": true,
         "type": "scatter",
         "unselected": {
          "marker": {
           "opacity": 0
          }
         },
         "x": [
          0.125,
          0.25,
          0.5,
          1,
          2,
          3,
          4,
          5,
          6,
          7,
          8,
          9,
          10,
          11,
          12,
          13,
          14,
          15,
          16,
          17,
          18,
          19,
          20,
          21,
          22,
          23,
          24,
          25,
          26,
          28,
          30
         ],
         "y": [
          -1.6610169491525424,
          -1.623931623931624,
          -1.5,
          -0.6338028169014085,
          -0.1111111111111111,
          0.15168539325842698,
          0.696,
          0.8562874251497006,
          1.4875,
          1.7666666666666666,
          1.7380952380952381,
          2.486111111111111,
          2.3870967741935485,
          2.9791666666666665,
          3.13953488372093,
          5.35,
          4.870967741935484,
          5.041666666666667,
          5.451612903225806,
          7.611111111111111,
          9.166666666666666,
          9.083333333333334,
          7.833333333333333,
          10.176470588235293,
          11.4,
          8.363636363636363,
          9.272727272727273,
          9.166666666666666,
          10.8,
          15.5,
          13.5
         ]
        },
        {
         "hoverinfo": "skip",
         "legendgroup": "Cha Save",
         "legendgrouptitle": {
          "text": "fit"
         },
         "line": {
          "color": "#ff7f0e",
          "dash": "solid"
         },
         "mode": "lines",
         "showlegend": false,
         "type": "scatter",
         "unselected": {
          "marker": {
           "opacity": 0
          }
         },
         "x": [
          0.125,
          0.25,
          0.5,
          1,
          2,
          3,
          4,
          5,
          6,
          7,
          8,
          9,
          10,
          11,
          12,
          13,
          14,
          15,
          16,
          17,
          18,
          19,
          20,
          21,
          22,
          23,
          24,
          25,
          26,
          28,
          30
         ],
         "y": [
          -1.7198930047113077,
          -1.6558341508161862,
          -1.5277164430259436,
          -1.2714810274454582,
          -0.7590101962844875,
          -0.24653936512351682,
          0.2659314660374539,
          0.7784022971984246,
          1.2908731283593953,
          1.803343959520366,
          2.315814790681337,
          2.8282856218423076,
          3.3407564530032783,
          3.853227284164249,
          4.36569811532522,
          4.87816894648619,
          5.390639777647161,
          5.903110608808132,
          6.4155814399691025,
          6.928052271130074,
          7.440523102291044,
          7.952993933452014,
          8.465464764612985,
          8.977935595773957,
          9.490406426934927,
          10.002877258095896,
          10.515348089256868,
          11.02781892041784,
          11.54028975157881,
          12.56523141390075,
          13.590173076222692
         ]
        }
       ],
       "layout": {
        "legend": {
         "orientation": "v",
         "tracegroupgap": 0,
         "x": 0.01,
         "xanchor": "left",
         "y": 0.99,
         "yanchor": "top"
        },
        "template": {
         "data": {
          "bar": [
           {
            "error_x": {
             "color": "#2a3f5f"
            },
            "error_y": {
             "color": "#2a3f5f"
            },
            "marker": {
             "line": {
              "color": "#E5ECF6",
              "width": 0.5
             },
             "pattern": {
              "fillmode": "overlay",
              "size": 10,
              "solidity": 0.2
             }
            },
            "type": "bar"
           }
          ],
          "barpolar": [
           {
            "marker": {
             "line": {
              "color": "#E5ECF6",
              "width": 0.5
             },
             "pattern": {
              "fillmode": "overlay",
              "size": 10,
              "solidity": 0.2
             }
            },
            "type": "barpolar"
           }
          ],
          "carpet": [
           {
            "aaxis": {
             "endlinecolor": "#2a3f5f",
             "gridcolor": "white",
             "linecolor": "white",
             "minorgridcolor": "white",
             "startlinecolor": "#2a3f5f"
            },
            "baxis": {
             "endlinecolor": "#2a3f5f",
             "gridcolor": "white",
             "linecolor": "white",
             "minorgridcolor": "white",
             "startlinecolor": "#2a3f5f"
            },
            "type": "carpet"
           }
          ],
          "choropleth": [
           {
            "colorbar": {
             "outlinewidth": 0,
             "ticks": ""
            },
            "type": "choropleth"
           }
          ],
          "contour": [
           {
            "colorbar": {
             "outlinewidth": 0,
             "ticks": ""
            },
            "colorscale": [
             [
              0,
              "#0d0887"
             ],
             [
              0.1111111111111111,
              "#46039f"
             ],
             [
              0.2222222222222222,
              "#7201a8"
             ],
             [
              0.3333333333333333,
              "#9c179e"
             ],
             [
              0.4444444444444444,
              "#bd3786"
             ],
             [
              0.5555555555555556,
              "#d8576b"
             ],
             [
              0.6666666666666666,
              "#ed7953"
             ],
             [
              0.7777777777777778,
              "#fb9f3a"
             ],
             [
              0.8888888888888888,
              "#fdca26"
             ],
             [
              1,
              "#f0f921"
             ]
            ],
            "type": "contour"
           }
          ],
          "contourcarpet": [
           {
            "colorbar": {
             "outlinewidth": 0,
             "ticks": ""
            },
            "type": "contourcarpet"
           }
          ],
          "heatmap": [
           {
            "colorbar": {
             "outlinewidth": 0,
             "ticks": ""
            },
            "colorscale": [
             [
              0,
              "#0d0887"
             ],
             [
              0.1111111111111111,
              "#46039f"
             ],
             [
              0.2222222222222222,
              "#7201a8"
             ],
             [
              0.3333333333333333,
              "#9c179e"
             ],
             [
              0.4444444444444444,
              "#bd3786"
             ],
             [
              0.5555555555555556,
              "#d8576b"
             ],
             [
              0.6666666666666666,
              "#ed7953"
             ],
             [
              0.7777777777777778,
              "#fb9f3a"
             ],
             [
              0.8888888888888888,
              "#fdca26"
             ],
             [
              1,
              "#f0f921"
             ]
            ],
            "type": "heatmap"
           }
          ],
          "heatmapgl": [
           {
            "colorbar": {
             "outlinewidth": 0,
             "ticks": ""
            },
            "colorscale": [
             [
              0,
              "#0d0887"
             ],
             [
              0.1111111111111111,
              "#46039f"
             ],
             [
              0.2222222222222222,
              "#7201a8"
             ],
             [
              0.3333333333333333,
              "#9c179e"
             ],
             [
              0.4444444444444444,
              "#bd3786"
             ],
             [
              0.5555555555555556,
              "#d8576b"
             ],
             [
              0.6666666666666666,
              "#ed7953"
             ],
             [
              0.7777777777777778,
              "#fb9f3a"
             ],
             [
              0.8888888888888888,
              "#fdca26"
             ],
             [
              1,
              "#f0f921"
             ]
            ],
            "type": "heatmapgl"
           }
          ],
          "histogram": [
           {
            "marker": {
             "pattern": {
              "fillmode": "overlay",
              "size": 10,
              "solidity": 0.2
             }
            },
            "type": "histogram"
           }
          ],
          "histogram2d": [
           {
            "colorbar": {
             "outlinewidth": 0,
             "ticks": ""
            },
            "colorscale": [
             [
              0,
              "#0d0887"
             ],
             [
              0.1111111111111111,
              "#46039f"
             ],
             [
              0.2222222222222222,
              "#7201a8"
             ],
             [
              0.3333333333333333,
              "#9c179e"
             ],
             [
              0.4444444444444444,
              "#bd3786"
             ],
             [
              0.5555555555555556,
              "#d8576b"
             ],
             [
              0.6666666666666666,
              "#ed7953"
             ],
             [
              0.7777777777777778,
              "#fb9f3a"
             ],
             [
              0.8888888888888888,
              "#fdca26"
             ],
             [
              1,
              "#f0f921"
             ]
            ],
            "type": "histogram2d"
           }
          ],
          "histogram2dcontour": [
           {
            "colorbar": {
             "outlinewidth": 0,
             "ticks": ""
            },
            "colorscale": [
             [
              0,
              "#0d0887"
             ],
             [
              0.1111111111111111,
              "#46039f"
             ],
             [
              0.2222222222222222,
              "#7201a8"
             ],
             [
              0.3333333333333333,
              "#9c179e"
             ],
             [
              0.4444444444444444,
              "#bd3786"
             ],
             [
              0.5555555555555556,
              "#d8576b"
             ],
             [
              0.6666666666666666,
              "#ed7953"
             ],
             [
              0.7777777777777778,
              "#fb9f3a"
             ],
             [
              0.8888888888888888,
              "#fdca26"
             ],
             [
              1,
              "#f0f921"
             ]
            ],
            "type": "histogram2dcontour"
           }
          ],
          "mesh3d": [
           {
            "colorbar": {
             "outlinewidth": 0,
             "ticks": ""
            },
            "type": "mesh3d"
           }
          ],
          "parcoords": [
           {
            "line": {
             "colorbar": {
              "outlinewidth": 0,
              "ticks": ""
             }
            },
            "type": "parcoords"
           }
          ],
          "pie": [
           {
            "automargin": true,
            "type": "pie"
           }
          ],
          "scatter": [
           {
            "fillpattern": {
             "fillmode": "overlay",
             "size": 10,
             "solidity": 0.2
            },
            "type": "scatter"
           }
          ],
          "scatter3d": [
           {
            "line": {
             "colorbar": {
              "outlinewidth": 0,
              "ticks": ""
             }
            },
            "marker": {
             "colorbar": {
              "outlinewidth": 0,
              "ticks": ""
             }
            },
            "type": "scatter3d"
           }
          ],
          "scattercarpet": [
           {
            "marker": {
             "colorbar": {
              "outlinewidth": 0,
              "ticks": ""
             }
            },
            "type": "scattercarpet"
           }
          ],
          "scattergeo": [
           {
            "marker": {
             "colorbar": {
              "outlinewidth": 0,
              "ticks": ""
             }
            },
            "type": "scattergeo"
           }
          ],
          "scattergl": [
           {
            "marker": {
             "colorbar": {
              "outlinewidth": 0,
              "ticks": ""
             }
            },
            "type": "scattergl"
           }
          ],
          "scattermapbox": [
           {
            "marker": {
             "colorbar": {
              "outlinewidth": 0,
              "ticks": ""
             }
            },
            "type": "scattermapbox"
           }
          ],
          "scatterpolar": [
           {
            "marker": {
             "colorbar": {
              "outlinewidth": 0,
              "ticks": ""
             }
            },
            "type": "scatterpolar"
           }
          ],
          "scatterpolargl": [
           {
            "marker": {
             "colorbar": {
              "outlinewidth": 0,
              "ticks": ""
             }
            },
            "type": "scatterpolargl"
           }
          ],
          "scatterternary": [
           {
            "marker": {
             "colorbar": {
              "outlinewidth": 0,
              "ticks": ""
             }
            },
            "type": "scatterternary"
           }
          ],
          "surface": [
           {
            "colorbar": {
             "outlinewidth": 0,
             "ticks": ""
            },
            "colorscale": [
             [
              0,
              "#0d0887"
             ],
             [
              0.1111111111111111,
              "#46039f"
             ],
             [
              0.2222222222222222,
              "#7201a8"
             ],
             [
              0.3333333333333333,
              "#9c179e"
             ],
             [
              0.4444444444444444,
              "#bd3786"
             ],
             [
              0.5555555555555556,
              "#d8576b"
             ],
             [
              0.6666666666666666,
              "#ed7953"
             ],
             [
              0.7777777777777778,
              "#fb9f3a"
             ],
             [
              0.8888888888888888,
              "#fdca26"
             ],
             [
              1,
              "#f0f921"
             ]
            ],
            "type": "surface"
           }
          ],
          "table": [
           {
            "cells": {
             "fill": {
              "color": "#EBF0F8"
             },
             "line": {
              "color": "white"
             }
            },
            "header": {
             "fill": {
              "color": "#C8D4E3"
             },
             "line": {
              "color": "white"
             }
            },
            "type": "table"
           }
          ]
         },
         "layout": {
          "autosize": true,
          "font": {
           "family": "sans-serif",
           "size": 14
          },
          "hovermode": "closest",
          "margin": {
           "b": 40,
           "l": 50,
           "pad": 4,
           "r": 25,
           "t": 20
          },
          "template": {
           "data": {
            "bar": [
             {
              "error_x": {
               "color": "#2a3f5f"
              },
              "error_y": {
               "color": "#2a3f5f"
              },
              "marker": {
               "line": {
                "color": "white",
                "width": 0.5
               },
               "pattern": {
                "fillmode": "overlay",
                "size": 10,
                "solidity": 0.2
               }
              },
              "type": "bar"
             }
            ],
            "barpolar": [
             {
              "marker": {
               "line": {
                "color": "white",
                "width": 0.5
               },
               "pattern": {
                "fillmode": "overlay",
                "size": 10,
                "solidity": 0.2
               }
              },
              "type": "barpolar"
             }
            ],
            "carpet": [
             {
              "aaxis": {
               "endlinecolor": "#2a3f5f",
               "gridcolor": "#C8D4E3",
               "linecolor": "#C8D4E3",
               "minorgridcolor": "#C8D4E3",
               "startlinecolor": "#2a3f5f"
              },
              "baxis": {
               "endlinecolor": "#2a3f5f",
               "gridcolor": "#C8D4E3",
               "linecolor": "#C8D4E3",
               "minorgridcolor": "#C8D4E3",
               "startlinecolor": "#2a3f5f"
              },
              "type": "carpet"
             }
            ],
            "choropleth": [
             {
              "colorbar": {
               "outlinewidth": 0,
               "ticks": ""
              },
              "type": "choropleth"
             }
            ],
            "contour": [
             {
              "colorbar": {
               "outlinewidth": 0,
               "ticks": ""
              },
              "colorscale": [
               [
                0,
                "#0d0887"
               ],
               [
                0.1111111111111111,
                "#46039f"
               ],
               [
                0.2222222222222222,
                "#7201a8"
               ],
               [
                0.3333333333333333,
                "#9c179e"
               ],
               [
                0.4444444444444444,
                "#bd3786"
               ],
               [
                0.5555555555555556,
                "#d8576b"
               ],
               [
                0.6666666666666666,
                "#ed7953"
               ],
               [
                0.7777777777777778,
                "#fb9f3a"
               ],
               [
                0.8888888888888888,
                "#fdca26"
               ],
               [
                1,
                "#f0f921"
               ]
              ],
              "type": "contour"
             }
            ],
            "contourcarpet": [
             {
              "colorbar": {
               "outlinewidth": 0,
               "ticks": ""
              },
              "type": "contourcarpet"
             }
            ],
            "heatmap": [
             {
              "colorbar": {
               "outlinewidth": 0,
               "ticks": ""
              },
              "colorscale": [
               [
                0,
                "#0d0887"
               ],
               [
                0.1111111111111111,
                "#46039f"
               ],
               [
                0.2222222222222222,
                "#7201a8"
               ],
               [
                0.3333333333333333,
                "#9c179e"
               ],
               [
                0.4444444444444444,
                "#bd3786"
               ],
               [
                0.5555555555555556,
                "#d8576b"
               ],
               [
                0.6666666666666666,
                "#ed7953"
               ],
               [
                0.7777777777777778,
                "#fb9f3a"
               ],
               [
                0.8888888888888888,
                "#fdca26"
               ],
               [
                1,
                "#f0f921"
               ]
              ],
              "type": "heatmap"
             }
            ],
            "heatmapgl": [
             {
              "colorbar": {
               "outlinewidth": 0,
               "ticks": ""
              },
              "colorscale": [
               [
                0,
                "#0d0887"
               ],
               [
                0.1111111111111111,
                "#46039f"
               ],
               [
                0.2222222222222222,
                "#7201a8"
               ],
               [
                0.3333333333333333,
                "#9c179e"
               ],
               [
                0.4444444444444444,
                "#bd3786"
               ],
               [
                0.5555555555555556,
                "#d8576b"
               ],
               [
                0.6666666666666666,
                "#ed7953"
               ],
               [
                0.7777777777777778,
                "#fb9f3a"
               ],
               [
                0.8888888888888888,
                "#fdca26"
               ],
               [
                1,
                "#f0f921"
               ]
              ],
              "type": "heatmapgl"
             }
            ],
            "histogram": [
             {
              "marker": {
               "pattern": {
                "fillmode": "overlay",
                "size": 10,
                "solidity": 0.2
               }
              },
              "type": "histogram"
             }
            ],
            "histogram2d": [
             {
              "colorbar": {
               "outlinewidth": 0,
               "ticks": ""
              },
              "colorscale": [
               [
                0,
                "#0d0887"
               ],
               [
                0.1111111111111111,
                "#46039f"
               ],
               [
                0.2222222222222222,
                "#7201a8"
               ],
               [
                0.3333333333333333,
                "#9c179e"
               ],
               [
                0.4444444444444444,
                "#bd3786"
               ],
               [
                0.5555555555555556,
                "#d8576b"
               ],
               [
                0.6666666666666666,
                "#ed7953"
               ],
               [
                0.7777777777777778,
                "#fb9f3a"
               ],
               [
                0.8888888888888888,
                "#fdca26"
               ],
               [
                1,
                "#f0f921"
               ]
              ],
              "type": "histogram2d"
             }
            ],
            "histogram2dcontour": [
             {
              "colorbar": {
               "outlinewidth": 0,
               "ticks": ""
              },
              "colorscale": [
               [
                0,
                "#0d0887"
               ],
               [
                0.1111111111111111,
                "#46039f"
               ],
               [
                0.2222222222222222,
                "#7201a8"
               ],
               [
                0.3333333333333333,
                "#9c179e"
               ],
               [
                0.4444444444444444,
                "#bd3786"
               ],
               [
                0.5555555555555556,
                "#d8576b"
               ],
               [
                0.6666666666666666,
                "#ed7953"
               ],
               [
                0.7777777777777778,
                "#fb9f3a"
               ],
               [
                0.8888888888888888,
                "#fdca26"
               ],
               [
                1,
                "#f0f921"
               ]
              ],
              "type": "histogram2dcontour"
             }
            ],
            "mesh3d": [
             {
              "colorbar": {
               "outlinewidth": 0,
               "ticks": ""
              },
              "type": "mesh3d"
             }
            ],
            "parcoords": [
             {
              "line": {
               "colorbar": {
                "outlinewidth": 0,
                "ticks": ""
               }
              },
              "type": "parcoords"
             }
            ],
            "pie": [
             {
              "automargin": true,
              "type": "pie"
             }
            ],
            "scatter": [
             {
              "fillpattern": {
               "fillmode": "overlay",
               "size": 10,
               "solidity": 0.2
              },
              "type": "scatter"
             }
            ],
            "scatter3d": [
             {
              "line": {
               "colorbar": {
                "outlinewidth": 0,
                "ticks": ""
               }
              },
              "marker": {
               "colorbar": {
                "outlinewidth": 0,
                "ticks": ""
               }
              },
              "type": "scatter3d"
             }
            ],
            "scattercarpet": [
             {
              "marker": {
               "colorbar": {
                "outlinewidth": 0,
                "ticks": ""
               }
              },
              "type": "scattercarpet"
             }
            ],
            "scattergeo": [
             {
              "marker": {
               "colorbar": {
                "outlinewidth": 0,
                "ticks": ""
               }
              },
              "type": "scattergeo"
             }
            ],
            "scattergl": [
             {
              "marker": {
               "colorbar": {
                "outlinewidth": 0,
                "ticks": ""
               }
              },
              "type": "scattergl"
             }
            ],
            "scattermapbox": [
             {
              "marker": {
               "colorbar": {
                "outlinewidth": 0,
                "ticks": ""
               }
              },
              "type": "scattermapbox"
             }
            ],
            "scatterpolar": [
             {
              "marker": {
               "colorbar": {
                "outlinewidth": 0,
                "ticks": ""
               }
              },
              "type": "scatterpolar"
             }
            ],
            "scatterpolargl": [
             {
              "marker": {
               "colorbar": {
                "outlinewidth": 0,
                "ticks": ""
               }
              },
              "type": "scatterpolargl"
             }
            ],
            "scatterternary": [
             {
              "marker": {
               "colorbar": {
                "outlinewidth": 0,
                "ticks": ""
               }
              },
              "type": "scatterternary"
             }
            ],
            "surface": [
             {
              "colorbar": {
               "outlinewidth": 0,
               "ticks": ""
              },
              "colorscale": [
               [
                0,
                "#0d0887"
               ],
               [
                0.1111111111111111,
                "#46039f"
               ],
               [
                0.2222222222222222,
                "#7201a8"
               ],
               [
                0.3333333333333333,
                "#9c179e"
               ],
               [
                0.4444444444444444,
                "#bd3786"
               ],
               [
                0.5555555555555556,
                "#d8576b"
               ],
               [
                0.6666666666666666,
                "#ed7953"
               ],
               [
                0.7777777777777778,
                "#fb9f3a"
               ],
               [
                0.8888888888888888,
                "#fdca26"
               ],
               [
                1,
                "#f0f921"
               ]
              ],
              "type": "surface"
             }
            ],
            "table": [
             {
              "cells": {
               "fill": {
                "color": "#EBF0F8"
               },
               "line": {
                "color": "white"
               }
              },
              "header": {
               "fill": {
                "color": "#C8D4E3"
               },
               "line": {
                "color": "white"
               }
              },
              "type": "table"
             }
            ]
           },
           "layout": {
            "annotationdefaults": {
             "arrowcolor": "#2a3f5f",
             "arrowhead": 0,
             "arrowwidth": 1
            },
            "autotypenumbers": "strict",
            "coloraxis": {
             "colorbar": {
              "outlinewidth": 0,
              "ticks": ""
             }
            },
            "colorscale": {
             "diverging": [
              [
               0,
               "#8e0152"
              ],
              [
               0.1,
               "#c51b7d"
              ],
              [
               0.2,
               "#de77ae"
              ],
              [
               0.3,
               "#f1b6da"
              ],
              [
               0.4,
               "#fde0ef"
              ],
              [
               0.5,
               "#f7f7f7"
              ],
              [
               0.6,
               "#e6f5d0"
              ],
              [
               0.7,
               "#b8e186"
              ],
              [
               0.8,
               "#7fbc41"
              ],
              [
               0.9,
               "#4d9221"
              ],
              [
               1,
               "#276419"
              ]
             ],
             "sequential": [
              [
               0,
               "#0d0887"
              ],
              [
               0.1111111111111111,
               "#46039f"
              ],
              [
               0.2222222222222222,
               "#7201a8"
              ],
              [
               0.3333333333333333,
               "#9c179e"
              ],
              [
               0.4444444444444444,
               "#bd3786"
              ],
              [
               0.5555555555555556,
               "#d8576b"
              ],
              [
               0.6666666666666666,
               "#ed7953"
              ],
              [
               0.7777777777777778,
               "#fb9f3a"
              ],
              [
               0.8888888888888888,
               "#fdca26"
              ],
              [
               1,
               "#f0f921"
              ]
             ],
             "sequentialminus": [
              [
               0,
               "#0d0887"
              ],
              [
               0.1111111111111111,
               "#46039f"
              ],
              [
               0.2222222222222222,
               "#7201a8"
              ],
              [
               0.3333333333333333,
               "#9c179e"
              ],
              [
               0.4444444444444444,
               "#bd3786"
              ],
              [
               0.5555555555555556,
               "#d8576b"
              ],
              [
               0.6666666666666666,
               "#ed7953"
              ],
              [
               0.7777777777777778,
               "#fb9f3a"
              ],
              [
               0.8888888888888888,
               "#fdca26"
              ],
              [
               1,
               "#f0f921"
              ]
             ]
            },
            "colorway": [
             "#636efa",
             "#EF553B",
             "#00cc96",
             "#ab63fa",
             "#FFA15A",
             "#19d3f3",
             "#FF6692",
             "#B6E880",
             "#FF97FF",
             "#FECB52"
            ],
            "font": {
             "color": "#2a3f5f"
            },
            "geo": {
             "bgcolor": "white",
             "lakecolor": "white",
             "landcolor": "white",
             "showlakes": true,
             "showland": true,
             "subunitcolor": "#C8D4E3"
            },
            "hoverlabel": {
             "align": "left"
            },
            "hovermode": "closest",
            "mapbox": {
             "style": "light"
            },
            "paper_bgcolor": "white",
            "plot_bgcolor": "white",
            "polar": {
             "angularaxis": {
              "gridcolor": "#EBF0F8",
              "linecolor": "#EBF0F8",
              "ticks": ""
             },
             "bgcolor": "white",
             "radialaxis": {
              "gridcolor": "#EBF0F8",
              "linecolor": "#EBF0F8",
              "ticks": ""
             }
            },
            "scene": {
             "xaxis": {
              "backgroundcolor": "white",
              "gridcolor": "#DFE8F3",
              "gridwidth": 2,
              "linecolor": "#EBF0F8",
              "showbackground": true,
              "ticks": "",
              "zerolinecolor": "#EBF0F8"
             },
             "yaxis": {
              "backgroundcolor": "white",
              "gridcolor": "#DFE8F3",
              "gridwidth": 2,
              "linecolor": "#EBF0F8",
              "showbackground": true,
              "ticks": "",
              "zerolinecolor": "#EBF0F8"
             },
             "zaxis": {
              "backgroundcolor": "white",
              "gridcolor": "#DFE8F3",
              "gridwidth": 2,
              "linecolor": "#EBF0F8",
              "showbackground": true,
              "ticks": "",
              "zerolinecolor": "#EBF0F8"
             }
            },
            "shapedefaults": {
             "line": {
              "color": "#2a3f5f"
             }
            },
            "ternary": {
             "aaxis": {
              "gridcolor": "#DFE8F3",
              "linecolor": "#A2B1C6",
              "ticks": ""
             },
             "baxis": {
              "gridcolor": "#DFE8F3",
              "linecolor": "#A2B1C6",
              "ticks": ""
             },
             "bgcolor": "white",
             "caxis": {
              "gridcolor": "#DFE8F3",
              "linecolor": "#A2B1C6",
              "ticks": ""
             }
            },
            "title": {
             "x": 0.05
            },
            "xaxis": {
             "automargin": true,
             "gridcolor": "#EBF0F8",
             "linecolor": "#EBF0F8",
             "ticks": "",
             "title": {
              "standoff": 15
             },
             "zerolinecolor": "#EBF0F8",
             "zerolinewidth": 2
            },
            "yaxis": {
             "automargin": true,
             "gridcolor": "#EBF0F8",
             "linecolor": "#EBF0F8",
             "ticks": "",
             "title": {
              "standoff": 15
             },
             "zerolinecolor": "#EBF0F8",
             "zerolinewidth": 2
            }
           }
          },
          "xaxis": {
           "automargin": true,
           "autorange": false,
           "fixedrange": true,
           "linecolor": "#444",
           "linewidth": 2,
           "minor": {
            "tickmode": "linear",
            "ticks": "outside"
           },
           "mirror": true,
           "showline": true,
           "tickmode": "linear",
           "ticks": "outside",
           "zeroline": false
          },
          "yaxis": {
           "automargin": true,
           "autorange": false,
           "fixedrange": true,
           "linecolor": "#444",
           "linewidth": 2,
           "minor": {
            "tickmode": "linear",
            "ticks": "outside"
           },
           "mirror": true,
           "showline": true,
           "tickmode": "linear",
           "ticks": "outside",
           "zeroline": false
          }
         }
        },
        "xaxis": {
         "dtick": 5,
         "minor": {
          "dtick": 1,
          "tick0": 0
         },
         "range": [
          0,
          30.2
         ],
         "tick0": 0,
         "title": {
          "text": "challenge rating"
         }
        },
        "yaxis": {
         "dtick": 5,
         "minor": {
          "dtick": 1,
          "tick0": 0
         },
         "range": [
          -3,
          15
         ],
         "tick0": 0,
         "title": {
          "text": "save bonus"
         }
        }
       }
      }
     },
     "metadata": {},
     "output_type": "display_data"
    }
   ],
   "source": [
    "# Ability score modifier\n",
    "columns = ['Str Save','Dex Save','Con Save','Int Save','Wis Save','Cha Save']\n",
    "colors = ['#d62728','#9467bd','#8c564b','#1f77b4','#2ca02c','#ff7f0e']\n",
    "\n",
    "#df1 = df0[df0['Category'].isin(['generic','legendary','unique']) & df0['CR'].between(1/8, 30)]\n",
    "df1 = df0[df0['CR'].between(1/8, 30)]\n",
    "dfG = df1.groupby('CR').mean().reset_index()\n",
    "\n",
    "fig = go.Figure()\n",
    "\n",
    "for column, color in zip(columns, colors):\n",
    "    # generate custom text\n",
    "    cr_totals = df1.groupby('CR').count()['Book'].to_list()\n",
    "\n",
    "    # plot data\n",
    "    fig.add_trace(go.Scatter(\n",
    "        x=dfG['CR'],\n",
    "        y=dfG[column],\n",
    "        mode='markers', \n",
    "        marker=dict(size=4, color=color),\n",
    "        unselected=dict(marker=dict(opacity=0.0)),\n",
    "        showlegend=True,\n",
    "        name=column,\n",
    "        legendgroup=column,\n",
    "        hovertemplate=\n",
    "            '<b>CR:</b> %{x}<br>'+\n",
    "            '<b>Ability:</b> ' + column[0:3] + '<br>'+\n",
    "            '<b>Bonus:</b> %{y:.1f}'+\n",
    "            '<extra></extra>'\n",
    "    ))\n",
    "\n",
    "    # add fit line\n",
    "    coefs = np.polyfit(dfG['CR'], dfG[column], 1)\n",
    "    poly = np.poly1d(coefs)\n",
    "    fig.add_trace(go.Scatter(\n",
    "        x=dfG['CR'],\n",
    "        y=poly(dfG['CR']),\n",
    "        mode='lines', \n",
    "        line=dict(color=color, dash='solid'),\n",
    "        unselected=dict(marker=dict(opacity=0.0)),\n",
    "        showlegend=False,\n",
    "        legendgroup=column,\n",
    "        legendgrouptitle_text='fit',\n",
    "        hoverinfo='skip',\n",
    "    ))\n",
    "\n",
    "# save large format figure\n",
    "fig.update_layout(\n",
    "    template=TFB_TEMPLATE,\n",
    "    xaxis=dict(\n",
    "        title_text='challenge rating',\n",
    "        range=[0.0, 30.2],\n",
    "        tick0=0, dtick=5,\n",
    "        minor=dict(tick0=0, dtick=1),\n",
    "    ),\n",
    "    yaxis=dict(\n",
    "        title_text='save bonus',\n",
    "        range=[-3, 15],\n",
    "        tick0=0, dtick=5,\n",
    "        minor=dict(tick0=0, dtick=1),\n",
    "    ),\n",
    "    legend=dict(\n",
    "        xanchor='left', yanchor='top',\n",
    "        x=0.01, y=0.99,\n",
    "        orientation='v',\n",
    "        tracegroupgap=0,\n",
    "    )\n",
    ")\n",
    "\n",
    "fig.show(config=TFB_CONFIG)"
   ]
  },
  {
   "cell_type": "code",
   "execution_count": 10,
   "metadata": {},
   "outputs": [
    {
     "data": {
      "application/vnd.plotly.v1+json": {
       "config": {
        "autosizable": true,
        "displayModeBar": "hover",
        "displaylogo": false,
        "modeBarButtonsToRemove": [
         "select2d",
         "lasso2d",
         "zoom2d",
         "zoomIn2d",
         "zoomOut2d",
         "pan2d",
         "autoScale2d",
         "hoverClosestCartesian",
         "hoverCompareCartesian",
         "toggleSpikelines",
         "resetScale2d"
        ],
        "plotlyServerURL": "https://plot.ly",
        "responsive": true,
        "showAxisDragHandles": false,
        "toImageButtonOptions": {
         "filename": "tfb-plot",
         "format": "png",
         "height": 450,
         "scale": 2,
         "width": 600
        }
       },
       "data": [
        {
         "hovertemplate": "<b>CR:</b> %{x}<br><b>Ability:</b> Str<br><b>Modifier:</b> %{y:.1f}<extra></extra>",
         "legendgroup": "Str Mod",
         "line": {
          "shape": "spline"
         },
         "marker": {
          "color": "#d62728",
          "size": 4
         },
         "mode": "markers",
         "name": "Str Mod",
         "showlegend": true,
         "type": "scatter",
         "unselected": {
          "marker": {
           "opacity": 0
          }
         },
         "x": [
          0.125,
          0.25,
          0.5,
          1,
          2,
          3,
          4,
          5,
          6,
          7,
          8,
          9,
          10,
          11,
          12,
          13,
          14,
          15,
          16,
          17,
          18,
          19,
          20,
          21,
          22,
          23,
          24,
          25,
          26,
          28,
          30
         ],
         "y": [
          -0.576271186440678,
          0.1452991452991453,
          0.4396551724137931,
          0.9929577464788732,
          1.6135265700483092,
          1.9831460674157304,
          2.224,
          2.3353293413173652,
          2.675,
          2.6444444444444444,
          3.3214285714285716,
          3.1944444444444446,
          3.629032258064516,
          3.9166666666666665,
          3.953488372093023,
          3.9,
          4.870967741935484,
          4.666666666666667,
          5.548387096774194,
          4.111111111111111,
          3.388888888888889,
          6,
          5.833333333333333,
          7.294117647058823,
          7.333333333333333,
          7.318181818181818,
          8.454545454545455,
          9.5,
          7.9,
          6.5,
          10
         ]
        },
        {
         "hoverinfo": "skip",
         "legendgroup": "Str Mod",
         "legendgrouptitle": {
          "text": "fit"
         },
         "line": {
          "color": "#d62728",
          "dash": "solid"
         },
         "mode": "lines",
         "showlegend": false,
         "type": "scatter",
         "unselected": {
          "marker": {
           "opacity": 0
          }
         },
         "x": [
          0.125,
          0.25,
          0.5,
          1,
          2,
          3,
          4,
          5,
          6,
          7,
          8,
          9,
          10,
          11,
          12,
          13,
          14,
          15,
          16,
          17,
          18,
          19,
          20,
          21,
          22,
          23,
          24,
          25,
          26,
          28,
          30
         ],
         "y": [
          0.5820820401108326,
          0.6181248779994002,
          0.6902105537765354,
          0.8343819053308057,
          1.1227246084393463,
          1.411067311547887,
          1.6994100146564275,
          1.987752717764968,
          2.2760954208735087,
          2.5644381239820495,
          2.85278082709059,
          3.1411235301991303,
          3.429466233307671,
          3.717808936416212,
          4.006151639524752,
          4.294494342633293,
          4.582837045741834,
          4.871179748850374,
          5.159522451958915,
          5.447865155067455,
          5.736207858175995,
          6.024550561284537,
          6.312893264393077,
          6.6012359675016175,
          6.889578670610159,
          7.177921373718699,
          7.4662640768272395,
          7.75460677993578,
          8.042949483044321,
          8.619634889261402,
          9.196320295478483
         ]
        },
        {
         "hovertemplate": "<b>CR:</b> %{x}<br><b>Ability:</b> Dex<br><b>Modifier:</b> %{y:.1f}<extra></extra>",
         "legendgroup": "Dex Mod",
         "line": {
          "shape": "spline"
         },
         "marker": {
          "color": "#9467bd",
          "size": 4
         },
         "mode": "markers",
         "name": "Dex Mod",
         "showlegend": true,
         "type": "scatter",
         "unselected": {
          "marker": {
           "opacity": 0
          }
         },
         "x": [
          0.125,
          0.25,
          0.5,
          1,
          2,
          3,
          4,
          5,
          6,
          7,
          8,
          9,
          10,
          11,
          12,
          13,
          14,
          15,
          16,
          17,
          18,
          19,
          20,
          21,
          22,
          23,
          24,
          25,
          26,
          28,
          30
         ],
         "y": [
          1.4406779661016949,
          1.2222222222222223,
          1.2327586206896552,
          1.380281690140845,
          1.328502415458937,
          1.6179775280898876,
          1.56,
          1.5808383233532934,
          1.45,
          1.8333333333333333,
          1.5,
          1.6805555555555556,
          1.6129032258064515,
          1.6875,
          1.255813953488372,
          1.425,
          1.4516129032258065,
          2,
          2.967741935483871,
          1.3333333333333333,
          1.7777777777777777,
          2.8333333333333335,
          3.0833333333333335,
          2.764705882352941,
          1.6,
          2.772727272727273,
          2.1818181818181817,
          1.1666666666666667,
          3.4,
          4.5,
          1.5
         ]
        },
        {
         "hoverinfo": "skip",
         "legendgroup": "Dex Mod",
         "legendgrouptitle": {
          "text": "fit"
         },
         "line": {
          "color": "#9467bd",
          "dash": "solid"
         },
         "mode": "lines",
         "showlegend": false,
         "type": "scatter",
         "unselected": {
          "marker": {
           "opacity": 0
          }
         },
         "x": [
          0.125,
          0.25,
          0.5,
          1,
          2,
          3,
          4,
          5,
          6,
          7,
          8,
          9,
          10,
          11,
          12,
          13,
          14,
          15,
          16,
          17,
          18,
          19,
          20,
          21,
          22,
          23,
          24,
          25,
          26,
          28,
          30
         ],
         "y": [
          1.243602242837143,
          1.24994145032678,
          1.2626198653060543,
          1.2879766952646028,
          1.3386903551816995,
          1.3894040150987965,
          1.4401176750158933,
          1.4908313349329902,
          1.5415449948500872,
          1.592258654767184,
          1.642972314684281,
          1.6936859746013777,
          1.7443996345184747,
          1.7951132944355717,
          1.8458269543526684,
          1.8965406142697652,
          1.9472542741868621,
          1.9979679341039591,
          2.048681594021056,
          2.0993952539381526,
          2.1501089138552496,
          2.2008225737723466,
          2.2515362336894436,
          2.3022498936065405,
          2.3529635535236375,
          2.4036772134407345,
          2.454390873357831,
          2.505104533274928,
          2.5558181931920245,
          2.6572455130262185,
          2.7586728328604124
         ]
        },
        {
         "hovertemplate": "<b>CR:</b> %{x}<br><b>Ability:</b> Con<br><b>Modifier:</b> %{y:.1f}<extra></extra>",
         "legendgroup": "Con Mod",
         "line": {
          "shape": "spline"
         },
         "marker": {
          "color": "#8c564b",
          "size": 4
         },
         "mode": "markers",
         "name": "Con Mod",
         "showlegend": true,
         "type": "scatter",
         "unselected": {
          "marker": {
           "opacity": 0
          }
         },
         "x": [
          0.125,
          0.25,
          0.5,
          1,
          2,
          3,
          4,
          5,
          6,
          7,
          8,
          9,
          10,
          11,
          12,
          13,
          14,
          15,
          16,
          17,
          18,
          19,
          20,
          21,
          22,
          23,
          24,
          25,
          26,
          28,
          30
         ],
         "y": [
          0.576271186440678,
          0.8376068376068376,
          1.0948275862068966,
          1.2605633802816902,
          1.681159420289855,
          2.101123595505618,
          2.264,
          2.532934131736527,
          2.875,
          2.8222222222222224,
          3.130952380952381,
          3.263888888888889,
          3.7903225806451615,
          4.166666666666667,
          3.302325581395349,
          4.15,
          4.483870967741935,
          4.291666666666667,
          5.193548387096774,
          4.555555555555555,
          4.944444444444445,
          5.5,
          6.75,
          6.529411764705882,
          6.666666666666667,
          6.636363636363637,
          7.363636363636363,
          8.5,
          7.9,
          6,
          9.75
         ]
        },
        {
         "hoverinfo": "skip",
         "legendgroup": "Con Mod",
         "legendgrouptitle": {
          "text": "fit"
         },
         "line": {
          "color": "#8c564b",
          "dash": "solid"
         },
         "mode": "lines",
         "showlegend": false,
         "type": "scatter",
         "unselected": {
          "marker": {
           "opacity": 0
          }
         },
         "x": [
          0.125,
          0.25,
          0.5,
          1,
          2,
          3,
          4,
          5,
          6,
          7,
          8,
          9,
          10,
          11,
          12,
          13,
          14,
          15,
          16,
          17,
          18,
          19,
          20,
          21,
          22,
          23,
          24,
          25,
          26,
          28,
          30
         ],
         "y": [
          1.0267748881725078,
          1.0585128830550106,
          1.121988872820016,
          1.2489408523500272,
          1.502844811410049,
          1.7567487704700713,
          2.010652729530093,
          2.2645566885901154,
          2.518460647650137,
          2.7723646067101595,
          3.0262685657701813,
          3.280172524830203,
          3.5340764838902254,
          3.7879804429502477,
          4.04188440201027,
          4.295788361070292,
          4.549692320130314,
          4.803596279190336,
          5.057500238250358,
          5.31140419731038,
          5.565308156370402,
          5.819212115430425,
          6.073116074490446,
          6.327020033550468,
          6.580923992610491,
          6.834827951670513,
          7.088731910730535,
          7.3426358697905565,
          7.596539828850578,
          8.104347746970623,
          8.612155665090667
         ]
        },
        {
         "hovertemplate": "<b>CR:</b> %{x}<br><b>Ability:</b> Int<br><b>Modifier:</b> %{y:.1f}<extra></extra>",
         "legendgroup": "Int Mod",
         "line": {
          "shape": "spline"
         },
         "marker": {
          "color": "#1f77b4",
          "size": 4
         },
         "mode": "markers",
         "name": "Int Mod",
         "showlegend": true,
         "type": "scatter",
         "unselected": {
          "marker": {
           "opacity": 0
          }
         },
         "x": [
          0.125,
          0.25,
          0.5,
          1,
          2,
          3,
          4,
          5,
          6,
          7,
          8,
          9,
          10,
          11,
          12,
          13,
          14,
          15,
          16,
          17,
          18,
          19,
          20,
          21,
          22,
          23,
          24,
          25,
          26,
          28,
          30
         ],
         "y": [
          -1.9661016949152543,
          -1.8632478632478633,
          -1.5603448275862069,
          -1.2535211267605635,
          -0.7004830917874396,
          -0.42696629213483145,
          -0.008,
          0.017964071856287425,
          0.2,
          0.5222222222222223,
          0.023809523809523808,
          1.1944444444444444,
          1.3225806451612903,
          0.6875,
          1.3255813953488371,
          2.075,
          1.5161290322580645,
          1.9583333333333333,
          1.1612903225806452,
          3.0555555555555554,
          3.7777777777777777,
          3.1666666666666665,
          1.3333333333333333,
          4.588235294117647,
          3.6666666666666665,
          3.909090909090909,
          4.636363636363637,
          4.166666666666667,
          6.6,
          7.5,
          4
         ]
        },
        {
         "hoverinfo": "skip",
         "legendgroup": "Int Mod",
         "legendgrouptitle": {
          "text": "fit"
         },
         "line": {
          "color": "#1f77b4",
          "dash": "solid"
         },
         "mode": "lines",
         "showlegend": false,
         "type": "scatter",
         "unselected": {
          "marker": {
           "opacity": 0
          }
         },
         "x": [
          0.125,
          0.25,
          0.5,
          1,
          2,
          3,
          4,
          5,
          6,
          7,
          8,
          9,
          10,
          11,
          12,
          13,
          14,
          15,
          16,
          17,
          18,
          19,
          20,
          21,
          22,
          23,
          24,
          25,
          26,
          28,
          30
         ],
         "y": [
          -1.4868263312799117,
          -1.455817044681852,
          -1.393798471485732,
          -1.2697613250934925,
          -1.021687032309013,
          -0.7736127395245338,
          -0.5255384467400545,
          -0.2774641539555751,
          -0.029389861171095877,
          0.21868443161338358,
          0.4667587243978628,
          0.7148330171823423,
          0.9629073099668215,
          1.2109816027513007,
          1.45905589553578,
          1.7071301883202592,
          1.9552044811047389,
          2.203278773889218,
          2.4513530666736973,
          2.699427359458177,
          2.9475016522426563,
          3.1955759450271355,
          3.4436502378116147,
          3.691724530596094,
          3.939798823380573,
          4.187873116165052,
          4.435947408949532,
          4.684021701734011,
          4.93209599451849,
          5.4282445800874495,
          5.924393165656408
         ]
        },
        {
         "hovertemplate": "<b>CR:</b> %{x}<br><b>Ability:</b> Wis<br><b>Modifier:</b> %{y:.1f}<extra></extra>",
         "legendgroup": "Wis Mod",
         "line": {
          "shape": "spline"
         },
         "marker": {
          "color": "#2ca02c",
          "size": 4
         },
         "mode": "markers",
         "name": "Wis Mod",
         "showlegend": true,
         "type": "scatter",
         "unselected": {
          "marker": {
           "opacity": 0
          }
         },
         "x": [
          0.125,
          0.25,
          0.5,
          1,
          2,
          3,
          4,
          5,
          6,
          7,
          8,
          9,
          10,
          11,
          12,
          13,
          14,
          15,
          16,
          17,
          18,
          19,
          20,
          21,
          22,
          23,
          24,
          25,
          26,
          28,
          30
         ],
         "y": [
          -0.06779661016949153,
          -0.11965811965811966,
          0.07758620689655173,
          0.29577464788732394,
          0.4975845410628019,
          0.7415730337078652,
          0.864,
          1.2035928143712575,
          1.0125,
          1.0777777777777777,
          1.630952380952381,
          1.6666666666666667,
          1.8548387096774193,
          1.6875,
          2.255813953488372,
          1.8,
          2.2580645161290325,
          2.2083333333333335,
          2.774193548387097,
          3,
          3.7222222222222223,
          3.8333333333333335,
          2.5,
          4.705882352941177,
          3.6666666666666665,
          4.5,
          5.090909090909091,
          3.1666666666666665,
          5,
          6,
          5.5
         ]
        },
        {
         "hoverinfo": "skip",
         "legendgroup": "Wis Mod",
         "legendgrouptitle": {
          "text": "fit"
         },
         "line": {
          "color": "#2ca02c",
          "dash": "solid"
         },
         "mode": "lines",
         "showlegend": false,
         "type": "scatter",
         "unselected": {
          "marker": {
           "opacity": 0
          }
         },
         "x": [
          0.125,
          0.25,
          0.5,
          1,
          2,
          3,
          4,
          5,
          6,
          7,
          8,
          9,
          10,
          11,
          12,
          13,
          14,
          15,
          16,
          17,
          18,
          19,
          20,
          21,
          22,
          23,
          24,
          25,
          26,
          28,
          30
         ],
         "y": [
          -0.020347815786569724,
          0.0027543270775414394,
          0.04895861280576377,
          0.14136718426220843,
          0.3261843271750977,
          0.511001470087987,
          0.6958186130008763,
          0.8806357559137656,
          1.065452898826655,
          1.2502700417395443,
          1.4350871846524336,
          1.6199043275653229,
          1.8047214704782122,
          1.9895386133911015,
          2.174355756303991,
          2.35917289921688,
          2.5439900421297694,
          2.7288071850426587,
          2.913624327955548,
          3.0984414708684374,
          3.2832586137813267,
          3.468075756694216,
          3.6528928996071053,
          3.8377100425199946,
          4.022527185432884,
          4.207344328345774,
          4.392161471258663,
          4.576978614171552,
          4.761795757084442,
          5.13143004291022,
          5.501064328735999
         ]
        },
        {
         "hovertemplate": "<b>CR:</b> %{x}<br><b>Ability:</b> Cha<br><b>Modifier:</b> %{y:.1f}<extra></extra>",
         "legendgroup": "Cha Mod",
         "line": {
          "shape": "spline"
         },
         "marker": {
          "color": "#ff7f0e",
          "size": 4
         },
         "mode": "markers",
         "name": "Cha Mod",
         "showlegend": true,
         "type": "scatter",
         "unselected": {
          "marker": {
           "opacity": 0
          }
         },
         "x": [
          0.125,
          0.25,
          0.5,
          1,
          2,
          3,
          4,
          5,
          6,
          7,
          8,
          9,
          10,
          11,
          12,
          13,
          14,
          15,
          16,
          17,
          18,
          19,
          20,
          21,
          22,
          23,
          24,
          25,
          26,
          28,
          30
         ],
         "y": [
          -1.6610169491525424,
          -1.6581196581196582,
          -1.5,
          -0.7183098591549296,
          -0.34782608695652173,
          -0.011235955056179775,
          0.336,
          0.32335329341317365,
          0.7,
          0.9333333333333333,
          0.8452380952380952,
          1.3194444444444444,
          1.596774193548387,
          1.4791666666666667,
          2.302325581395349,
          2.275,
          2.4516129032258065,
          2.9583333333333335,
          2.3870967741935485,
          3.9444444444444446,
          4.5,
          5,
          3.8333333333333335,
          5.647058823529412,
          5.333333333333333,
          5.181818181818182,
          5.454545454545454,
          3.8333333333333335,
          6.8,
          7.5,
          6.75
         ]
        },
        {
         "hoverinfo": "skip",
         "legendgroup": "Cha Mod",
         "legendgrouptitle": {
          "text": "fit"
         },
         "line": {
          "color": "#ff7f0e",
          "dash": "solid"
         },
         "mode": "lines",
         "showlegend": false,
         "type": "scatter",
         "unselected": {
          "marker": {
           "opacity": 0
          }
         },
         "x": [
          0.125,
          0.25,
          0.5,
          1,
          2,
          3,
          4,
          5,
          6,
          7,
          8,
          9,
          10,
          11,
          12,
          13,
          14,
          15,
          16,
          17,
          18,
          19,
          20,
          21,
          22,
          23,
          24,
          25,
          26,
          28,
          30
         ],
         "y": [
          -1.1987076596720028,
          -1.1633169655634679,
          -1.0925355773463976,
          -0.9509728009122574,
          -0.667847248043977,
          -0.38472169517569654,
          -0.10159614230741609,
          0.18152941056086447,
          0.4646549634291448,
          0.7477805162974251,
          1.0309060691657057,
          1.3140316220339863,
          1.5971571749022668,
          1.880282727770547,
          2.1634082806388273,
          2.4465338335071083,
          2.7296593863753884,
          3.0127849392436694,
          3.2959104921119495,
          3.5790360449802296,
          3.8621615978485107,
          4.145287150716791,
          4.428412703585072,
          4.711538256453352,
          4.994663809321632,
          5.277789362189913,
          5.560914915058193,
          5.844040467926473,
          6.127166020794754,
          6.6934171265313145,
          7.2596682322678765
         ]
        }
       ],
       "layout": {
        "legend": {
         "orientation": "v",
         "tracegroupgap": 0,
         "x": 0.01,
         "xanchor": "left",
         "y": 0.99,
         "yanchor": "top"
        },
        "template": {
         "data": {
          "bar": [
           {
            "error_x": {
             "color": "#2a3f5f"
            },
            "error_y": {
             "color": "#2a3f5f"
            },
            "marker": {
             "line": {
              "color": "#E5ECF6",
              "width": 0.5
             },
             "pattern": {
              "fillmode": "overlay",
              "size": 10,
              "solidity": 0.2
             }
            },
            "type": "bar"
           }
          ],
          "barpolar": [
           {
            "marker": {
             "line": {
              "color": "#E5ECF6",
              "width": 0.5
             },
             "pattern": {
              "fillmode": "overlay",
              "size": 10,
              "solidity": 0.2
             }
            },
            "type": "barpolar"
           }
          ],
          "carpet": [
           {
            "aaxis": {
             "endlinecolor": "#2a3f5f",
             "gridcolor": "white",
             "linecolor": "white",
             "minorgridcolor": "white",
             "startlinecolor": "#2a3f5f"
            },
            "baxis": {
             "endlinecolor": "#2a3f5f",
             "gridcolor": "white",
             "linecolor": "white",
             "minorgridcolor": "white",
             "startlinecolor": "#2a3f5f"
            },
            "type": "carpet"
           }
          ],
          "choropleth": [
           {
            "colorbar": {
             "outlinewidth": 0,
             "ticks": ""
            },
            "type": "choropleth"
           }
          ],
          "contour": [
           {
            "colorbar": {
             "outlinewidth": 0,
             "ticks": ""
            },
            "colorscale": [
             [
              0,
              "#0d0887"
             ],
             [
              0.1111111111111111,
              "#46039f"
             ],
             [
              0.2222222222222222,
              "#7201a8"
             ],
             [
              0.3333333333333333,
              "#9c179e"
             ],
             [
              0.4444444444444444,
              "#bd3786"
             ],
             [
              0.5555555555555556,
              "#d8576b"
             ],
             [
              0.6666666666666666,
              "#ed7953"
             ],
             [
              0.7777777777777778,
              "#fb9f3a"
             ],
             [
              0.8888888888888888,
              "#fdca26"
             ],
             [
              1,
              "#f0f921"
             ]
            ],
            "type": "contour"
           }
          ],
          "contourcarpet": [
           {
            "colorbar": {
             "outlinewidth": 0,
             "ticks": ""
            },
            "type": "contourcarpet"
           }
          ],
          "heatmap": [
           {
            "colorbar": {
             "outlinewidth": 0,
             "ticks": ""
            },
            "colorscale": [
             [
              0,
              "#0d0887"
             ],
             [
              0.1111111111111111,
              "#46039f"
             ],
             [
              0.2222222222222222,
              "#7201a8"
             ],
             [
              0.3333333333333333,
              "#9c179e"
             ],
             [
              0.4444444444444444,
              "#bd3786"
             ],
             [
              0.5555555555555556,
              "#d8576b"
             ],
             [
              0.6666666666666666,
              "#ed7953"
             ],
             [
              0.7777777777777778,
              "#fb9f3a"
             ],
             [
              0.8888888888888888,
              "#fdca26"
             ],
             [
              1,
              "#f0f921"
             ]
            ],
            "type": "heatmap"
           }
          ],
          "heatmapgl": [
           {
            "colorbar": {
             "outlinewidth": 0,
             "ticks": ""
            },
            "colorscale": [
             [
              0,
              "#0d0887"
             ],
             [
              0.1111111111111111,
              "#46039f"
             ],
             [
              0.2222222222222222,
              "#7201a8"
             ],
             [
              0.3333333333333333,
              "#9c179e"
             ],
             [
              0.4444444444444444,
              "#bd3786"
             ],
             [
              0.5555555555555556,
              "#d8576b"
             ],
             [
              0.6666666666666666,
              "#ed7953"
             ],
             [
              0.7777777777777778,
              "#fb9f3a"
             ],
             [
              0.8888888888888888,
              "#fdca26"
             ],
             [
              1,
              "#f0f921"
             ]
            ],
            "type": "heatmapgl"
           }
          ],
          "histogram": [
           {
            "marker": {
             "pattern": {
              "fillmode": "overlay",
              "size": 10,
              "solidity": 0.2
             }
            },
            "type": "histogram"
           }
          ],
          "histogram2d": [
           {
            "colorbar": {
             "outlinewidth": 0,
             "ticks": ""
            },
            "colorscale": [
             [
              0,
              "#0d0887"
             ],
             [
              0.1111111111111111,
              "#46039f"
             ],
             [
              0.2222222222222222,
              "#7201a8"
             ],
             [
              0.3333333333333333,
              "#9c179e"
             ],
             [
              0.4444444444444444,
              "#bd3786"
             ],
             [
              0.5555555555555556,
              "#d8576b"
             ],
             [
              0.6666666666666666,
              "#ed7953"
             ],
             [
              0.7777777777777778,
              "#fb9f3a"
             ],
             [
              0.8888888888888888,
              "#fdca26"
             ],
             [
              1,
              "#f0f921"
             ]
            ],
            "type": "histogram2d"
           }
          ],
          "histogram2dcontour": [
           {
            "colorbar": {
             "outlinewidth": 0,
             "ticks": ""
            },
            "colorscale": [
             [
              0,
              "#0d0887"
             ],
             [
              0.1111111111111111,
              "#46039f"
             ],
             [
              0.2222222222222222,
              "#7201a8"
             ],
             [
              0.3333333333333333,
              "#9c179e"
             ],
             [
              0.4444444444444444,
              "#bd3786"
             ],
             [
              0.5555555555555556,
              "#d8576b"
             ],
             [
              0.6666666666666666,
              "#ed7953"
             ],
             [
              0.7777777777777778,
              "#fb9f3a"
             ],
             [
              0.8888888888888888,
              "#fdca26"
             ],
             [
              1,
              "#f0f921"
             ]
            ],
            "type": "histogram2dcontour"
           }
          ],
          "mesh3d": [
           {
            "colorbar": {
             "outlinewidth": 0,
             "ticks": ""
            },
            "type": "mesh3d"
           }
          ],
          "parcoords": [
           {
            "line": {
             "colorbar": {
              "outlinewidth": 0,
              "ticks": ""
             }
            },
            "type": "parcoords"
           }
          ],
          "pie": [
           {
            "automargin": true,
            "type": "pie"
           }
          ],
          "scatter": [
           {
            "fillpattern": {
             "fillmode": "overlay",
             "size": 10,
             "solidity": 0.2
            },
            "type": "scatter"
           }
          ],
          "scatter3d": [
           {
            "line": {
             "colorbar": {
              "outlinewidth": 0,
              "ticks": ""
             }
            },
            "marker": {
             "colorbar": {
              "outlinewidth": 0,
              "ticks": ""
             }
            },
            "type": "scatter3d"
           }
          ],
          "scattercarpet": [
           {
            "marker": {
             "colorbar": {
              "outlinewidth": 0,
              "ticks": ""
             }
            },
            "type": "scattercarpet"
           }
          ],
          "scattergeo": [
           {
            "marker": {
             "colorbar": {
              "outlinewidth": 0,
              "ticks": ""
             }
            },
            "type": "scattergeo"
           }
          ],
          "scattergl": [
           {
            "marker": {
             "colorbar": {
              "outlinewidth": 0,
              "ticks": ""
             }
            },
            "type": "scattergl"
           }
          ],
          "scattermapbox": [
           {
            "marker": {
             "colorbar": {
              "outlinewidth": 0,
              "ticks": ""
             }
            },
            "type": "scattermapbox"
           }
          ],
          "scatterpolar": [
           {
            "marker": {
             "colorbar": {
              "outlinewidth": 0,
              "ticks": ""
             }
            },
            "type": "scatterpolar"
           }
          ],
          "scatterpolargl": [
           {
            "marker": {
             "colorbar": {
              "outlinewidth": 0,
              "ticks": ""
             }
            },
            "type": "scatterpolargl"
           }
          ],
          "scatterternary": [
           {
            "marker": {
             "colorbar": {
              "outlinewidth": 0,
              "ticks": ""
             }
            },
            "type": "scatterternary"
           }
          ],
          "surface": [
           {
            "colorbar": {
             "outlinewidth": 0,
             "ticks": ""
            },
            "colorscale": [
             [
              0,
              "#0d0887"
             ],
             [
              0.1111111111111111,
              "#46039f"
             ],
             [
              0.2222222222222222,
              "#7201a8"
             ],
             [
              0.3333333333333333,
              "#9c179e"
             ],
             [
              0.4444444444444444,
              "#bd3786"
             ],
             [
              0.5555555555555556,
              "#d8576b"
             ],
             [
              0.6666666666666666,
              "#ed7953"
             ],
             [
              0.7777777777777778,
              "#fb9f3a"
             ],
             [
              0.8888888888888888,
              "#fdca26"
             ],
             [
              1,
              "#f0f921"
             ]
            ],
            "type": "surface"
           }
          ],
          "table": [
           {
            "cells": {
             "fill": {
              "color": "#EBF0F8"
             },
             "line": {
              "color": "white"
             }
            },
            "header": {
             "fill": {
              "color": "#C8D4E3"
             },
             "line": {
              "color": "white"
             }
            },
            "type": "table"
           }
          ]
         },
         "layout": {
          "autosize": true,
          "font": {
           "family": "sans-serif",
           "size": 14
          },
          "hovermode": "closest",
          "margin": {
           "b": 40,
           "l": 50,
           "pad": 4,
           "r": 25,
           "t": 20
          },
          "template": {
           "data": {
            "bar": [
             {
              "error_x": {
               "color": "#2a3f5f"
              },
              "error_y": {
               "color": "#2a3f5f"
              },
              "marker": {
               "line": {
                "color": "white",
                "width": 0.5
               },
               "pattern": {
                "fillmode": "overlay",
                "size": 10,
                "solidity": 0.2
               }
              },
              "type": "bar"
             }
            ],
            "barpolar": [
             {
              "marker": {
               "line": {
                "color": "white",
                "width": 0.5
               },
               "pattern": {
                "fillmode": "overlay",
                "size": 10,
                "solidity": 0.2
               }
              },
              "type": "barpolar"
             }
            ],
            "carpet": [
             {
              "aaxis": {
               "endlinecolor": "#2a3f5f",
               "gridcolor": "#C8D4E3",
               "linecolor": "#C8D4E3",
               "minorgridcolor": "#C8D4E3",
               "startlinecolor": "#2a3f5f"
              },
              "baxis": {
               "endlinecolor": "#2a3f5f",
               "gridcolor": "#C8D4E3",
               "linecolor": "#C8D4E3",
               "minorgridcolor": "#C8D4E3",
               "startlinecolor": "#2a3f5f"
              },
              "type": "carpet"
             }
            ],
            "choropleth": [
             {
              "colorbar": {
               "outlinewidth": 0,
               "ticks": ""
              },
              "type": "choropleth"
             }
            ],
            "contour": [
             {
              "colorbar": {
               "outlinewidth": 0,
               "ticks": ""
              },
              "colorscale": [
               [
                0,
                "#0d0887"
               ],
               [
                0.1111111111111111,
                "#46039f"
               ],
               [
                0.2222222222222222,
                "#7201a8"
               ],
               [
                0.3333333333333333,
                "#9c179e"
               ],
               [
                0.4444444444444444,
                "#bd3786"
               ],
               [
                0.5555555555555556,
                "#d8576b"
               ],
               [
                0.6666666666666666,
                "#ed7953"
               ],
               [
                0.7777777777777778,
                "#fb9f3a"
               ],
               [
                0.8888888888888888,
                "#fdca26"
               ],
               [
                1,
                "#f0f921"
               ]
              ],
              "type": "contour"
             }
            ],
            "contourcarpet": [
             {
              "colorbar": {
               "outlinewidth": 0,
               "ticks": ""
              },
              "type": "contourcarpet"
             }
            ],
            "heatmap": [
             {
              "colorbar": {
               "outlinewidth": 0,
               "ticks": ""
              },
              "colorscale": [
               [
                0,
                "#0d0887"
               ],
               [
                0.1111111111111111,
                "#46039f"
               ],
               [
                0.2222222222222222,
                "#7201a8"
               ],
               [
                0.3333333333333333,
                "#9c179e"
               ],
               [
                0.4444444444444444,
                "#bd3786"
               ],
               [
                0.5555555555555556,
                "#d8576b"
               ],
               [
                0.6666666666666666,
                "#ed7953"
               ],
               [
                0.7777777777777778,
                "#fb9f3a"
               ],
               [
                0.8888888888888888,
                "#fdca26"
               ],
               [
                1,
                "#f0f921"
               ]
              ],
              "type": "heatmap"
             }
            ],
            "heatmapgl": [
             {
              "colorbar": {
               "outlinewidth": 0,
               "ticks": ""
              },
              "colorscale": [
               [
                0,
                "#0d0887"
               ],
               [
                0.1111111111111111,
                "#46039f"
               ],
               [
                0.2222222222222222,
                "#7201a8"
               ],
               [
                0.3333333333333333,
                "#9c179e"
               ],
               [
                0.4444444444444444,
                "#bd3786"
               ],
               [
                0.5555555555555556,
                "#d8576b"
               ],
               [
                0.6666666666666666,
                "#ed7953"
               ],
               [
                0.7777777777777778,
                "#fb9f3a"
               ],
               [
                0.8888888888888888,
                "#fdca26"
               ],
               [
                1,
                "#f0f921"
               ]
              ],
              "type": "heatmapgl"
             }
            ],
            "histogram": [
             {
              "marker": {
               "pattern": {
                "fillmode": "overlay",
                "size": 10,
                "solidity": 0.2
               }
              },
              "type": "histogram"
             }
            ],
            "histogram2d": [
             {
              "colorbar": {
               "outlinewidth": 0,
               "ticks": ""
              },
              "colorscale": [
               [
                0,
                "#0d0887"
               ],
               [
                0.1111111111111111,
                "#46039f"
               ],
               [
                0.2222222222222222,
                "#7201a8"
               ],
               [
                0.3333333333333333,
                "#9c179e"
               ],
               [
                0.4444444444444444,
                "#bd3786"
               ],
               [
                0.5555555555555556,
                "#d8576b"
               ],
               [
                0.6666666666666666,
                "#ed7953"
               ],
               [
                0.7777777777777778,
                "#fb9f3a"
               ],
               [
                0.8888888888888888,
                "#fdca26"
               ],
               [
                1,
                "#f0f921"
               ]
              ],
              "type": "histogram2d"
             }
            ],
            "histogram2dcontour": [
             {
              "colorbar": {
               "outlinewidth": 0,
               "ticks": ""
              },
              "colorscale": [
               [
                0,
                "#0d0887"
               ],
               [
                0.1111111111111111,
                "#46039f"
               ],
               [
                0.2222222222222222,
                "#7201a8"
               ],
               [
                0.3333333333333333,
                "#9c179e"
               ],
               [
                0.4444444444444444,
                "#bd3786"
               ],
               [
                0.5555555555555556,
                "#d8576b"
               ],
               [
                0.6666666666666666,
                "#ed7953"
               ],
               [
                0.7777777777777778,
                "#fb9f3a"
               ],
               [
                0.8888888888888888,
                "#fdca26"
               ],
               [
                1,
                "#f0f921"
               ]
              ],
              "type": "histogram2dcontour"
             }
            ],
            "mesh3d": [
             {
              "colorbar": {
               "outlinewidth": 0,
               "ticks": ""
              },
              "type": "mesh3d"
             }
            ],
            "parcoords": [
             {
              "line": {
               "colorbar": {
                "outlinewidth": 0,
                "ticks": ""
               }
              },
              "type": "parcoords"
             }
            ],
            "pie": [
             {
              "automargin": true,
              "type": "pie"
             }
            ],
            "scatter": [
             {
              "fillpattern": {
               "fillmode": "overlay",
               "size": 10,
               "solidity": 0.2
              },
              "type": "scatter"
             }
            ],
            "scatter3d": [
             {
              "line": {
               "colorbar": {
                "outlinewidth": 0,
                "ticks": ""
               }
              },
              "marker": {
               "colorbar": {
                "outlinewidth": 0,
                "ticks": ""
               }
              },
              "type": "scatter3d"
             }
            ],
            "scattercarpet": [
             {
              "marker": {
               "colorbar": {
                "outlinewidth": 0,
                "ticks": ""
               }
              },
              "type": "scattercarpet"
             }
            ],
            "scattergeo": [
             {
              "marker": {
               "colorbar": {
                "outlinewidth": 0,
                "ticks": ""
               }
              },
              "type": "scattergeo"
             }
            ],
            "scattergl": [
             {
              "marker": {
               "colorbar": {
                "outlinewidth": 0,
                "ticks": ""
               }
              },
              "type": "scattergl"
             }
            ],
            "scattermapbox": [
             {
              "marker": {
               "colorbar": {
                "outlinewidth": 0,
                "ticks": ""
               }
              },
              "type": "scattermapbox"
             }
            ],
            "scatterpolar": [
             {
              "marker": {
               "colorbar": {
                "outlinewidth": 0,
                "ticks": ""
               }
              },
              "type": "scatterpolar"
             }
            ],
            "scatterpolargl": [
             {
              "marker": {
               "colorbar": {
                "outlinewidth": 0,
                "ticks": ""
               }
              },
              "type": "scatterpolargl"
             }
            ],
            "scatterternary": [
             {
              "marker": {
               "colorbar": {
                "outlinewidth": 0,
                "ticks": ""
               }
              },
              "type": "scatterternary"
             }
            ],
            "surface": [
             {
              "colorbar": {
               "outlinewidth": 0,
               "ticks": ""
              },
              "colorscale": [
               [
                0,
                "#0d0887"
               ],
               [
                0.1111111111111111,
                "#46039f"
               ],
               [
                0.2222222222222222,
                "#7201a8"
               ],
               [
                0.3333333333333333,
                "#9c179e"
               ],
               [
                0.4444444444444444,
                "#bd3786"
               ],
               [
                0.5555555555555556,
                "#d8576b"
               ],
               [
                0.6666666666666666,
                "#ed7953"
               ],
               [
                0.7777777777777778,
                "#fb9f3a"
               ],
               [
                0.8888888888888888,
                "#fdca26"
               ],
               [
                1,
                "#f0f921"
               ]
              ],
              "type": "surface"
             }
            ],
            "table": [
             {
              "cells": {
               "fill": {
                "color": "#EBF0F8"
               },
               "line": {
                "color": "white"
               }
              },
              "header": {
               "fill": {
                "color": "#C8D4E3"
               },
               "line": {
                "color": "white"
               }
              },
              "type": "table"
             }
            ]
           },
           "layout": {
            "annotationdefaults": {
             "arrowcolor": "#2a3f5f",
             "arrowhead": 0,
             "arrowwidth": 1
            },
            "autotypenumbers": "strict",
            "coloraxis": {
             "colorbar": {
              "outlinewidth": 0,
              "ticks": ""
             }
            },
            "colorscale": {
             "diverging": [
              [
               0,
               "#8e0152"
              ],
              [
               0.1,
               "#c51b7d"
              ],
              [
               0.2,
               "#de77ae"
              ],
              [
               0.3,
               "#f1b6da"
              ],
              [
               0.4,
               "#fde0ef"
              ],
              [
               0.5,
               "#f7f7f7"
              ],
              [
               0.6,
               "#e6f5d0"
              ],
              [
               0.7,
               "#b8e186"
              ],
              [
               0.8,
               "#7fbc41"
              ],
              [
               0.9,
               "#4d9221"
              ],
              [
               1,
               "#276419"
              ]
             ],
             "sequential": [
              [
               0,
               "#0d0887"
              ],
              [
               0.1111111111111111,
               "#46039f"
              ],
              [
               0.2222222222222222,
               "#7201a8"
              ],
              [
               0.3333333333333333,
               "#9c179e"
              ],
              [
               0.4444444444444444,
               "#bd3786"
              ],
              [
               0.5555555555555556,
               "#d8576b"
              ],
              [
               0.6666666666666666,
               "#ed7953"
              ],
              [
               0.7777777777777778,
               "#fb9f3a"
              ],
              [
               0.8888888888888888,
               "#fdca26"
              ],
              [
               1,
               "#f0f921"
              ]
             ],
             "sequentialminus": [
              [
               0,
               "#0d0887"
              ],
              [
               0.1111111111111111,
               "#46039f"
              ],
              [
               0.2222222222222222,
               "#7201a8"
              ],
              [
               0.3333333333333333,
               "#9c179e"
              ],
              [
               0.4444444444444444,
               "#bd3786"
              ],
              [
               0.5555555555555556,
               "#d8576b"
              ],
              [
               0.6666666666666666,
               "#ed7953"
              ],
              [
               0.7777777777777778,
               "#fb9f3a"
              ],
              [
               0.8888888888888888,
               "#fdca26"
              ],
              [
               1,
               "#f0f921"
              ]
             ]
            },
            "colorway": [
             "#636efa",
             "#EF553B",
             "#00cc96",
             "#ab63fa",
             "#FFA15A",
             "#19d3f3",
             "#FF6692",
             "#B6E880",
             "#FF97FF",
             "#FECB52"
            ],
            "font": {
             "color": "#2a3f5f"
            },
            "geo": {
             "bgcolor": "white",
             "lakecolor": "white",
             "landcolor": "white",
             "showlakes": true,
             "showland": true,
             "subunitcolor": "#C8D4E3"
            },
            "hoverlabel": {
             "align": "left"
            },
            "hovermode": "closest",
            "mapbox": {
             "style": "light"
            },
            "paper_bgcolor": "white",
            "plot_bgcolor": "white",
            "polar": {
             "angularaxis": {
              "gridcolor": "#EBF0F8",
              "linecolor": "#EBF0F8",
              "ticks": ""
             },
             "bgcolor": "white",
             "radialaxis": {
              "gridcolor": "#EBF0F8",
              "linecolor": "#EBF0F8",
              "ticks": ""
             }
            },
            "scene": {
             "xaxis": {
              "backgroundcolor": "white",
              "gridcolor": "#DFE8F3",
              "gridwidth": 2,
              "linecolor": "#EBF0F8",
              "showbackground": true,
              "ticks": "",
              "zerolinecolor": "#EBF0F8"
             },
             "yaxis": {
              "backgroundcolor": "white",
              "gridcolor": "#DFE8F3",
              "gridwidth": 2,
              "linecolor": "#EBF0F8",
              "showbackground": true,
              "ticks": "",
              "zerolinecolor": "#EBF0F8"
             },
             "zaxis": {
              "backgroundcolor": "white",
              "gridcolor": "#DFE8F3",
              "gridwidth": 2,
              "linecolor": "#EBF0F8",
              "showbackground": true,
              "ticks": "",
              "zerolinecolor": "#EBF0F8"
             }
            },
            "shapedefaults": {
             "line": {
              "color": "#2a3f5f"
             }
            },
            "ternary": {
             "aaxis": {
              "gridcolor": "#DFE8F3",
              "linecolor": "#A2B1C6",
              "ticks": ""
             },
             "baxis": {
              "gridcolor": "#DFE8F3",
              "linecolor": "#A2B1C6",
              "ticks": ""
             },
             "bgcolor": "white",
             "caxis": {
              "gridcolor": "#DFE8F3",
              "linecolor": "#A2B1C6",
              "ticks": ""
             }
            },
            "title": {
             "x": 0.05
            },
            "xaxis": {
             "automargin": true,
             "gridcolor": "#EBF0F8",
             "linecolor": "#EBF0F8",
             "ticks": "",
             "title": {
              "standoff": 15
             },
             "zerolinecolor": "#EBF0F8",
             "zerolinewidth": 2
            },
            "yaxis": {
             "automargin": true,
             "gridcolor": "#EBF0F8",
             "linecolor": "#EBF0F8",
             "ticks": "",
             "title": {
              "standoff": 15
             },
             "zerolinecolor": "#EBF0F8",
             "zerolinewidth": 2
            }
           }
          },
          "xaxis": {
           "automargin": true,
           "autorange": false,
           "fixedrange": true,
           "linecolor": "#444",
           "linewidth": 2,
           "minor": {
            "tickmode": "linear",
            "ticks": "outside"
           },
           "mirror": true,
           "showline": true,
           "tickmode": "linear",
           "ticks": "outside",
           "zeroline": false
          },
          "yaxis": {
           "automargin": true,
           "autorange": false,
           "fixedrange": true,
           "linecolor": "#444",
           "linewidth": 2,
           "minor": {
            "tickmode": "linear",
            "ticks": "outside"
           },
           "mirror": true,
           "showline": true,
           "tickmode": "linear",
           "ticks": "outside",
           "zeroline": false
          }
         }
        },
        "xaxis": {
         "dtick": 5,
         "minor": {
          "dtick": 1,
          "tick0": 0
         },
         "range": [
          0,
          30.2
         ],
         "tick0": 0,
         "title": {
          "text": "challenge rating"
         }
        },
        "yaxis": {
         "dtick": 5,
         "minor": {
          "dtick": 1,
          "tick0": 0
         },
         "range": [
          -3,
          10
         ],
         "tick0": 0,
         "title": {
          "text": "ability modifier"
         }
        }
       }
      }
     },
     "metadata": {},
     "output_type": "display_data"
    }
   ],
   "source": [
    "# Ability score modifier\n",
    "columns = ['Str Mod','Dex Mod','Con Mod','Int Mod','Wis Mod','Cha Mod']\n",
    "colors = ['#d62728','#9467bd','#8c564b','#1f77b4','#2ca02c','#ff7f0e']\n",
    "\n",
    "#df1 = df0[df0['Category'].isin(['generic','legendary','unique']) & df0['CR'].between(1/8, 30)]\n",
    "df1 = df0[df0['CR'].between(1/8, 30)]\n",
    "dfG = df1.groupby('CR').mean().reset_index()\n",
    "\n",
    "fig = go.Figure()\n",
    "\n",
    "for column, color in zip(columns, colors):\n",
    "    # generate custom text\n",
    "    cr_totals = df1.groupby('CR').count()['Book'].to_list()\n",
    "\n",
    "    # plot data\n",
    "    fig.add_trace(go.Scatter(\n",
    "        x=dfG['CR'],\n",
    "        y=dfG[column],\n",
    "        mode='markers', \n",
    "        marker=dict(size=4, color=color),\n",
    "        line_shape='spline',\n",
    "        unselected=dict(marker=dict(opacity=0.0)),\n",
    "        showlegend=True,\n",
    "        name=column,\n",
    "        legendgroup=column,\n",
    "        hovertemplate=\n",
    "            '<b>CR:</b> %{x}<br>'+\n",
    "            '<b>Ability:</b> ' + column[0:3] + '<br>'+\n",
    "            '<b>Modifier:</b> %{y:.1f}'+\n",
    "            '<extra></extra>'\n",
    "    ))\n",
    "\n",
    "    # add fit line\n",
    "    coefs = np.polyfit(dfG['CR'], dfG[column], 1)\n",
    "    poly = np.poly1d(coefs)\n",
    "    fig.add_trace(go.Scatter(\n",
    "        x=dfG['CR'],\n",
    "        y=poly(dfG['CR']),\n",
    "        mode='lines', \n",
    "        line=dict(color=color, dash='solid'),\n",
    "        unselected=dict(marker=dict(opacity=0.0)),\n",
    "        showlegend=False,\n",
    "        legendgroup=column,\n",
    "        legendgrouptitle_text='fit',\n",
    "        hoverinfo='skip',\n",
    "    ))\n",
    "\n",
    "# save large format figure\n",
    "fig.update_layout(\n",
    "    template=TFB_TEMPLATE,\n",
    "    xaxis=dict(\n",
    "        title_text='challenge rating',\n",
    "        range=[0.0, 30.2],\n",
    "        tick0=0, dtick=5,\n",
    "        minor=dict(tick0=0, dtick=1),\n",
    "    ),\n",
    "    yaxis=dict(\n",
    "        title_text='ability modifier',\n",
    "        range=[-3, 10],\n",
    "        tick0=0, dtick=5,\n",
    "        minor=dict(tick0=0, dtick=1),\n",
    "    ),\n",
    "    legend=dict(\n",
    "        xanchor='left', yanchor='top',\n",
    "        x=0.01, y=0.99,\n",
    "        orientation='v',\n",
    "        tracegroupgap=0,\n",
    "    )\n",
    ")\n",
    "\n",
    "fig.show(config=TFB_CONFIG)"
   ]
  },
  {
   "cell_type": "code",
   "execution_count": 11,
   "metadata": {},
   "outputs": [
    {
     "data": {
      "application/vnd.plotly.v1+json": {
       "config": {
        "autosizable": true,
        "displayModeBar": "hover",
        "displaylogo": false,
        "modeBarButtonsToRemove": [
         "select2d",
         "lasso2d",
         "zoom2d",
         "zoomIn2d",
         "zoomOut2d",
         "pan2d",
         "autoScale2d",
         "hoverClosestCartesian",
         "hoverCompareCartesian",
         "toggleSpikelines",
         "resetScale2d"
        ],
        "plotlyServerURL": "https://plot.ly",
        "responsive": true,
        "showAxisDragHandles": false,
        "toImageButtonOptions": {
         "filename": "tfb-plot",
         "format": "png",
         "height": 450,
         "scale": 2,
         "width": 600
        }
       },
       "data": [
        {
         "hovertemplate": "<b>CR:</b> %{x}<br><b>Ability:</b> Str<br><b>Modifier:</b> %{y:.1f}<extra></extra>",
         "legendgroup": "Str",
         "line": {
          "shape": "spline"
         },
         "marker": {
          "color": "#d62728",
          "size": 4
         },
         "mode": "markers",
         "name": "Str",
         "showlegend": true,
         "type": "scatter",
         "unselected": {
          "marker": {
           "opacity": 0
          }
         },
         "x": [
          0.125,
          0.25,
          0.5,
          1,
          2,
          3,
          4,
          5,
          6,
          7,
          8,
          9,
          10,
          11,
          12,
          13,
          14,
          15,
          16,
          17,
          18,
          19,
          20,
          21,
          22,
          23,
          24,
          25,
          26,
          28,
          30
         ],
         "y": [
          0,
          0,
          0.017241379310344862,
          0.028169014084507005,
          0.09178743961352653,
          0.12921348314606718,
          0.12799999999999967,
          0.28742514970059885,
          0.375,
          0.16666666666666652,
          0.2857142857142856,
          0.4444444444444442,
          0.338709677419355,
          0.5208333333333335,
          0.8372093023255811,
          0.8500000000000001,
          0.967741935483871,
          0.625,
          1.612903225806451,
          0.666666666666667,
          1.0000000000000004,
          1.5,
          0.5,
          0.8235294117647056,
          0,
          1.2727272727272734,
          0.6363636363636367,
          0,
          0,
          4,
          2.25
         ]
        },
        {
         "hoverinfo": "skip",
         "legendgroup": "Str",
         "legendgrouptitle": {
          "text": "fit"
         },
         "line": {
          "color": "#d62728",
          "dash": "solid"
         },
         "mode": "lines",
         "showlegend": false,
         "type": "scatter",
         "unselected": {
          "marker": {
           "opacity": 0
          }
         },
         "x": [
          0.125,
          0.25,
          0.5,
          1,
          2,
          3,
          4,
          5,
          6,
          7,
          8,
          9,
          10,
          11,
          12,
          13,
          14,
          15,
          16,
          17,
          18,
          19,
          20,
          21,
          22,
          23,
          24,
          25,
          26,
          28,
          30
         ],
         "y": [
          -0.04037496153909834,
          -0.0337225692569914,
          -0.020417784692777507,
          0.0061917844356502785,
          0.05941092269250585,
          0.11263006094936143,
          0.165849199206217,
          0.21906833746307255,
          0.2722874757199282,
          0.3255066139767837,
          0.37872575223363925,
          0.4319448904904949,
          0.48516402874735043,
          0.538383167004206,
          0.5916023052610616,
          0.6448214435179171,
          0.6980405817747727,
          0.7512597200316283,
          0.8044788582884839,
          0.8576979965453394,
          0.910917134802195,
          0.9641362730590505,
          1.017355411315906,
          1.0705745495727617,
          1.123793687829617,
          1.1770128260864727,
          1.2302319643433284,
          1.2834511026001838,
          1.3366702408570394,
          1.4431085173707505,
          1.5495467938844618
         ]
        },
        {
         "hovertemplate": "<b>CR:</b> %{x}<br><b>Ability:</b> Dex<br><b>Modifier:</b> %{y:.1f}<extra></extra>",
         "legendgroup": "Dex",
         "line": {
          "shape": "spline"
         },
         "marker": {
          "color": "#9467bd",
          "size": 4
         },
         "mode": "markers",
         "name": "Dex",
         "showlegend": true,
         "type": "scatter",
         "unselected": {
          "marker": {
           "opacity": 0
          }
         },
         "x": [
          0.125,
          0.25,
          0.5,
          1,
          2,
          3,
          4,
          5,
          6,
          7,
          8,
          9,
          10,
          11,
          12,
          13,
          14,
          15,
          16,
          17,
          18,
          19,
          20,
          21,
          22,
          23,
          24,
          25,
          26,
          28,
          30
         ],
         "y": [
          0.13559322033898313,
          0.08547008547008539,
          0.1206896551724137,
          0.18309859154929575,
          0.3333333333333335,
          0.2640449438202248,
          0.272,
          0.5988023952095807,
          0.4125000000000001,
          0.6333333333333335,
          0.6428571428571428,
          0.7777777777777779,
          1.241935483870968,
          1.5,
          0.9302325581395348,
          1.7,
          2.096774193548387,
          1.4583333333333335,
          2.096774193548387,
          3,
          2.333333333333333,
          2.5833333333333335,
          1.9999999999999996,
          4.529411764705882,
          4.199999999999999,
          4.454545454545455,
          5.7272727272727275,
          3.833333333333333,
          3.1999999999999997,
          0,
          4.5
         ]
        },
        {
         "hoverinfo": "skip",
         "legendgroup": "Dex",
         "legendgrouptitle": {
          "text": "fit"
         },
         "line": {
          "color": "#9467bd",
          "dash": "solid"
         },
         "mode": "lines",
         "showlegend": false,
         "type": "scatter",
         "unselected": {
          "marker": {
           "opacity": 0
          }
         },
         "x": [
          0.125,
          0.25,
          0.5,
          1,
          2,
          3,
          4,
          5,
          6,
          7,
          8,
          9,
          10,
          11,
          12,
          13,
          14,
          15,
          16,
          17,
          18,
          19,
          20,
          21,
          22,
          23,
          24,
          25,
          26,
          28,
          30
         ],
         "y": [
          -0.09457500940557646,
          -0.07647876387620464,
          -0.04028627281746097,
          0.032098709300026354,
          0.17686867353500102,
          0.32163863776997564,
          0.4664086020049503,
          0.611178566239925,
          0.7559485304748995,
          0.9007184947098742,
          1.045488458944849,
          1.1902584231798237,
          1.3350283874147983,
          1.479798351649773,
          1.6245683158847475,
          1.7693382801197222,
          1.9141082443546968,
          2.0588782085896713,
          2.203648172824646,
          2.3484181370596207,
          2.4931881012945953,
          2.63795806552957,
          2.7827280297645447,
          2.9274979939995194,
          3.072267958234494,
          3.2170379224694687,
          3.361807886704443,
          3.5065778509394177,
          3.6513478151743923,
          3.9408877436443417,
          4.230427672114291
         ]
        },
        {
         "hovertemplate": "<b>CR:</b> %{x}<br><b>Ability:</b> Con<br><b>Modifier:</b> %{y:.1f}<extra></extra>",
         "legendgroup": "Con",
         "line": {
          "shape": "spline"
         },
         "marker": {
          "color": "#8c564b",
          "size": 4
         },
         "mode": "markers",
         "name": "Con",
         "showlegend": true,
         "type": "scatter",
         "unselected": {
          "marker": {
           "opacity": 0
          }
         },
         "x": [
          0.125,
          0.25,
          0.5,
          1,
          2,
          3,
          4,
          5,
          6,
          7,
          8,
          9,
          10,
          11,
          12,
          13,
          14,
          15,
          16,
          17,
          18,
          19,
          20,
          21,
          22,
          23,
          24,
          25,
          26,
          28,
          30
         ],
         "y": [
          0.13559322033898302,
          0.017094017094017033,
          0.10344827586206895,
          0.09859154929577452,
          0.19806763285024154,
          0.2191011235955056,
          0.3440000000000003,
          0.6227544910179641,
          0.6749999999999998,
          0.8666666666666667,
          1.0595238095238098,
          2.0000000000000004,
          1.7580645161290325,
          1.583333333333333,
          2.2325581395348837,
          2.8249999999999993,
          3.870967741935485,
          2.5,
          2.096774193548387,
          3,
          4.333333333333334,
          4.083333333333334,
          4.5,
          5.764705882352942,
          5.6000000000000005,
          5.727272727272727,
          6.363636363636363,
          3.833333333333334,
          4.799999999999999,
          8,
          4.5
         ]
        },
        {
         "hoverinfo": "skip",
         "legendgroup": "Con",
         "legendgrouptitle": {
          "text": "fit"
         },
         "line": {
          "color": "#8c564b",
          "dash": "solid"
         },
         "mode": "lines",
         "showlegend": false,
         "type": "scatter",
         "unselected": {
          "marker": {
           "opacity": 0
          }
         },
         "x": [
          0.125,
          0.25,
          0.5,
          1,
          2,
          3,
          4,
          5,
          6,
          7,
          8,
          9,
          10,
          11,
          12,
          13,
          14,
          15,
          16,
          17,
          18,
          19,
          20,
          21,
          22,
          23,
          24,
          25,
          26,
          28,
          30
         ],
         "y": [
          -0.2958119521768813,
          -0.26721517748431,
          -0.21002162809916744,
          -0.09563452932888233,
          0.13313966821168788,
          0.36191386575225815,
          0.5906880632928283,
          0.8194622608333985,
          1.0482364583739687,
          1.2770106559145389,
          1.505784853455109,
          1.7345590509956792,
          1.9633332485362494,
          2.1921074460768195,
          2.42088164361739,
          2.6496558411579603,
          2.8784300386985304,
          3.1072042362391006,
          3.3359784337796707,
          3.564752631320241,
          3.793526828860811,
          4.022301026401381,
          4.251075223941951,
          4.4798494214825215,
          4.708623619023092,
          4.937397816563662,
          5.166172014104233,
          5.394946211644803,
          5.623720409185373,
          6.0812688042665135,
          6.538817199347654
         ]
        },
        {
         "hovertemplate": "<b>CR:</b> %{x}<br><b>Ability:</b> Int<br><b>Modifier:</b> %{y:.1f}<extra></extra>",
         "legendgroup": "Int",
         "line": {
          "shape": "spline"
         },
         "marker": {
          "color": "#1f77b4",
          "size": 4
         },
         "mode": "markers",
         "name": "Int",
         "showlegend": true,
         "type": "scatter",
         "unselected": {
          "marker": {
           "opacity": 0
          }
         },
         "x": [
          0.125,
          0.25,
          0.5,
          1,
          2,
          3,
          4,
          5,
          6,
          7,
          8,
          9,
          10,
          11,
          12,
          13,
          14,
          15,
          16,
          17,
          18,
          19,
          20,
          21,
          22,
          23,
          24,
          25,
          26,
          28,
          30
         ],
         "y": [
          0,
          0.03418803418803429,
          0,
          0.05633802816901423,
          0.1497584541062802,
          0.1741573033707865,
          0.17600000000000002,
          0.6287425149700598,
          0.6375,
          0.6,
          0.7142857142857143,
          0.8333333333333333,
          1.1129032258064517,
          0.75,
          1.0232558139534886,
          2.0999999999999996,
          1.6129032258064515,
          1.2500000000000002,
          0.8064516129032258,
          2.666666666666667,
          2.666666666666667,
          2.0000000000000004,
          0.5,
          2.0588235294117654,
          2.3333333333333335,
          1.9090909090909092,
          0.6363636363636358,
          3.999999999999999,
          4.800000000000001,
          4,
          4.5
         ]
        },
        {
         "hoverinfo": "skip",
         "legendgroup": "Int",
         "legendgrouptitle": {
          "text": "fit"
         },
         "line": {
          "color": "#1f77b4",
          "dash": "solid"
         },
         "mode": "lines",
         "showlegend": false,
         "type": "scatter",
         "unselected": {
          "marker": {
           "opacity": 0
          }
         },
         "x": [
          0.125,
          0.25,
          0.5,
          1,
          2,
          3,
          4,
          5,
          6,
          7,
          8,
          9,
          10,
          11,
          12,
          13,
          14,
          15,
          16,
          17,
          18,
          19,
          20,
          21,
          22,
          23,
          24,
          25,
          26,
          28,
          30
         ],
         "y": [
          -0.22801437225359894,
          -0.21206634037481586,
          -0.18017027661724977,
          -0.11637814910211755,
          0.011206105928146887,
          0.13879036095841132,
          0.26637461598867573,
          0.3939588710189401,
          0.5215431260492046,
          0.6491273810794691,
          0.7767116361097335,
          0.9042958911399979,
          1.0318801461702622,
          1.1594644012005269,
          1.2870486562307912,
          1.4146329112610556,
          1.5422171662913202,
          1.6698014213215846,
          1.797385676351849,
          1.9249699313821136,
          2.0525541864123777,
          2.1801384414426423,
          2.3077226964729065,
          2.435306951503171,
          2.5628912065334357,
          2.6904754615637,
          2.8180597165939645,
          2.945643971624229,
          3.0732282266544932,
          3.3283967367150225,
          3.583565246775551
         ]
        },
        {
         "hovertemplate": "<b>CR:</b> %{x}<br><b>Ability:</b> Wis<br><b>Modifier:</b> %{y:.1f}<extra></extra>",
         "legendgroup": "Wis",
         "line": {
          "shape": "spline"
         },
         "marker": {
          "color": "#2ca02c",
          "size": 4
         },
         "mode": "markers",
         "name": "Wis",
         "showlegend": true,
         "type": "scatter",
         "unselected": {
          "marker": {
           "opacity": 0
          }
         },
         "x": [
          0.125,
          0.25,
          0.5,
          1,
          2,
          3,
          4,
          5,
          6,
          7,
          8,
          9,
          10,
          11,
          12,
          13,
          14,
          15,
          16,
          17,
          18,
          19,
          20,
          21,
          22,
          23,
          24,
          25,
          26,
          28,
          30
         ],
         "y": [
          0.06779661016949153,
          0.03418803418803419,
          0.05172413793103449,
          0.15492957746478875,
          0.4492753623188406,
          0.3876404494382022,
          0.672,
          1.0658682634730536,
          1.3499999999999999,
          1.4000000000000001,
          1.5357142857142856,
          2.333333333333333,
          2.661290322580646,
          2.5,
          2.7906976744186047,
          3.2,
          4.193548387096774,
          3.1249999999999996,
          3.709677419354838,
          5.666666666666666,
          4.333333333333333,
          3.9999999999999996,
          5,
          6.999999999999999,
          7,
          6.045454545454545,
          7.000000000000001,
          7.833333333333334,
          8,
          8,
          9
         ]
        },
        {
         "hoverinfo": "skip",
         "legendgroup": "Wis",
         "legendgrouptitle": {
          "text": "fit"
         },
         "line": {
          "color": "#2ca02c",
          "dash": "solid"
         },
         "mode": "lines",
         "showlegend": false,
         "type": "scatter",
         "unselected": {
          "marker": {
           "opacity": 0
          }
         },
         "x": [
          0.125,
          0.25,
          0.5,
          1,
          2,
          3,
          4,
          5,
          6,
          7,
          8,
          9,
          10,
          11,
          12,
          13,
          14,
          15,
          16,
          17,
          18,
          19,
          20,
          21,
          22,
          23,
          24,
          25,
          26,
          28,
          30
         ],
         "y": [
          -0.4165995373912595,
          -0.37858350986804556,
          -0.30255145482161766,
          -0.1504873447287619,
          0.1536408754569496,
          0.4577690956426611,
          0.7618973158283726,
          1.066025536014084,
          1.3701537561997956,
          1.6742819763855072,
          1.9784101965712186,
          2.28253841675693,
          2.5866666369426414,
          2.8907948571283533,
          3.1949230773140647,
          3.499051297499776,
          3.803179517685488,
          4.107307737871199,
          4.411435958056911,
          4.715564178242623,
          5.019692398428333,
          5.323820618614045,
          5.627948838799757,
          5.9320770589854686,
          6.23620527917118,
          6.5403334993568905,
          6.844461719542602,
          7.148589939728314,
          7.452718159914026,
          8.06097460028545,
          8.669231040656872
         ]
        },
        {
         "hovertemplate": "<b>CR:</b> %{x}<br><b>Ability:</b> Cha<br><b>Modifier:</b> %{y:.1f}<extra></extra>",
         "legendgroup": "Cha",
         "line": {
          "shape": "spline"
         },
         "marker": {
          "color": "#ff7f0e",
          "size": 4
         },
         "mode": "markers",
         "name": "Cha",
         "showlegend": true,
         "type": "scatter",
         "unselected": {
          "marker": {
           "opacity": 0
          }
         },
         "x": [
          0.125,
          0.25,
          0.5,
          1,
          2,
          3,
          4,
          5,
          6,
          7,
          8,
          9,
          10,
          11,
          12,
          13,
          14,
          15,
          16,
          17,
          18,
          19,
          20,
          21,
          22,
          23,
          24,
          25,
          26,
          28,
          30
         ],
         "y": [
          0,
          0.03418803418803429,
          0,
          0.08450704225352113,
          0.23671497584541062,
          0.16292134831460675,
          0.35999999999999993,
          0.5329341317365269,
          0.7875000000000001,
          0.8333333333333333,
          0.8928571428571429,
          1.1666666666666667,
          0.7903225806451615,
          1.4999999999999998,
          0.8372093023255811,
          3.0749999999999997,
          2.4193548387096775,
          2.0833333333333335,
          3.0645161290322576,
          3.666666666666666,
          4.666666666666666,
          4.083333333333334,
          3.9999999999999996,
          4.529411764705881,
          6.066666666666667,
          3.1818181818181817,
          3.8181818181818192,
          5.333333333333332,
          4.000000000000001,
          8,
          6.75
         ]
        },
        {
         "hoverinfo": "skip",
         "legendgroup": "Cha",
         "legendgrouptitle": {
          "text": "fit"
         },
         "line": {
          "color": "#ff7f0e",
          "dash": "solid"
         },
         "mode": "lines",
         "showlegend": false,
         "type": "scatter",
         "unselected": {
          "marker": {
           "opacity": 0
          }
         },
         "x": [
          0.125,
          0.25,
          0.5,
          1,
          2,
          3,
          4,
          5,
          6,
          7,
          8,
          9,
          10,
          11,
          12,
          13,
          14,
          15,
          16,
          17,
          18,
          19,
          20,
          21,
          22,
          23,
          24,
          25,
          26,
          28,
          30
         ],
         "y": [
          -0.521185345039306,
          -0.4925171852527198,
          -0.4351808656795472,
          -0.3205082265332021,
          -0.09116294824051185,
          0.1381823300521784,
          0.36752760834486864,
          0.5968728866375588,
          0.8262181649302491,
          1.0555634432229395,
          1.2849087215156296,
          1.5142539998083198,
          1.74359927810101,
          1.9729445563937005,
          2.2022898346863906,
          2.4316351129790807,
          2.6609803912717713,
          2.8903256695644615,
          3.1196709478571516,
          3.3490162261498417,
          3.578361504442532,
          3.8077067827352225,
          4.037052061027913,
          4.266397339320603,
          4.495742617613294,
          4.7250878959059825,
          4.954433174198673,
          5.183778452491364,
          5.413123730784054,
          5.8718142873694354,
          6.330504843954815
         ]
        }
       ],
       "layout": {
        "legend": {
         "orientation": "v",
         "tracegroupgap": 0,
         "x": 0.01,
         "xanchor": "left",
         "y": 0.99,
         "yanchor": "top"
        },
        "template": {
         "data": {
          "bar": [
           {
            "error_x": {
             "color": "#2a3f5f"
            },
            "error_y": {
             "color": "#2a3f5f"
            },
            "marker": {
             "line": {
              "color": "#E5ECF6",
              "width": 0.5
             },
             "pattern": {
              "fillmode": "overlay",
              "size": 10,
              "solidity": 0.2
             }
            },
            "type": "bar"
           }
          ],
          "barpolar": [
           {
            "marker": {
             "line": {
              "color": "#E5ECF6",
              "width": 0.5
             },
             "pattern": {
              "fillmode": "overlay",
              "size": 10,
              "solidity": 0.2
             }
            },
            "type": "barpolar"
           }
          ],
          "carpet": [
           {
            "aaxis": {
             "endlinecolor": "#2a3f5f",
             "gridcolor": "white",
             "linecolor": "white",
             "minorgridcolor": "white",
             "startlinecolor": "#2a3f5f"
            },
            "baxis": {
             "endlinecolor": "#2a3f5f",
             "gridcolor": "white",
             "linecolor": "white",
             "minorgridcolor": "white",
             "startlinecolor": "#2a3f5f"
            },
            "type": "carpet"
           }
          ],
          "choropleth": [
           {
            "colorbar": {
             "outlinewidth": 0,
             "ticks": ""
            },
            "type": "choropleth"
           }
          ],
          "contour": [
           {
            "colorbar": {
             "outlinewidth": 0,
             "ticks": ""
            },
            "colorscale": [
             [
              0,
              "#0d0887"
             ],
             [
              0.1111111111111111,
              "#46039f"
             ],
             [
              0.2222222222222222,
              "#7201a8"
             ],
             [
              0.3333333333333333,
              "#9c179e"
             ],
             [
              0.4444444444444444,
              "#bd3786"
             ],
             [
              0.5555555555555556,
              "#d8576b"
             ],
             [
              0.6666666666666666,
              "#ed7953"
             ],
             [
              0.7777777777777778,
              "#fb9f3a"
             ],
             [
              0.8888888888888888,
              "#fdca26"
             ],
             [
              1,
              "#f0f921"
             ]
            ],
            "type": "contour"
           }
          ],
          "contourcarpet": [
           {
            "colorbar": {
             "outlinewidth": 0,
             "ticks": ""
            },
            "type": "contourcarpet"
           }
          ],
          "heatmap": [
           {
            "colorbar": {
             "outlinewidth": 0,
             "ticks": ""
            },
            "colorscale": [
             [
              0,
              "#0d0887"
             ],
             [
              0.1111111111111111,
              "#46039f"
             ],
             [
              0.2222222222222222,
              "#7201a8"
             ],
             [
              0.3333333333333333,
              "#9c179e"
             ],
             [
              0.4444444444444444,
              "#bd3786"
             ],
             [
              0.5555555555555556,
              "#d8576b"
             ],
             [
              0.6666666666666666,
              "#ed7953"
             ],
             [
              0.7777777777777778,
              "#fb9f3a"
             ],
             [
              0.8888888888888888,
              "#fdca26"
             ],
             [
              1,
              "#f0f921"
             ]
            ],
            "type": "heatmap"
           }
          ],
          "heatmapgl": [
           {
            "colorbar": {
             "outlinewidth": 0,
             "ticks": ""
            },
            "colorscale": [
             [
              0,
              "#0d0887"
             ],
             [
              0.1111111111111111,
              "#46039f"
             ],
             [
              0.2222222222222222,
              "#7201a8"
             ],
             [
              0.3333333333333333,
              "#9c179e"
             ],
             [
              0.4444444444444444,
              "#bd3786"
             ],
             [
              0.5555555555555556,
              "#d8576b"
             ],
             [
              0.6666666666666666,
              "#ed7953"
             ],
             [
              0.7777777777777778,
              "#fb9f3a"
             ],
             [
              0.8888888888888888,
              "#fdca26"
             ],
             [
              1,
              "#f0f921"
             ]
            ],
            "type": "heatmapgl"
           }
          ],
          "histogram": [
           {
            "marker": {
             "pattern": {
              "fillmode": "overlay",
              "size": 10,
              "solidity": 0.2
             }
            },
            "type": "histogram"
           }
          ],
          "histogram2d": [
           {
            "colorbar": {
             "outlinewidth": 0,
             "ticks": ""
            },
            "colorscale": [
             [
              0,
              "#0d0887"
             ],
             [
              0.1111111111111111,
              "#46039f"
             ],
             [
              0.2222222222222222,
              "#7201a8"
             ],
             [
              0.3333333333333333,
              "#9c179e"
             ],
             [
              0.4444444444444444,
              "#bd3786"
             ],
             [
              0.5555555555555556,
              "#d8576b"
             ],
             [
              0.6666666666666666,
              "#ed7953"
             ],
             [
              0.7777777777777778,
              "#fb9f3a"
             ],
             [
              0.8888888888888888,
              "#fdca26"
             ],
             [
              1,
              "#f0f921"
             ]
            ],
            "type": "histogram2d"
           }
          ],
          "histogram2dcontour": [
           {
            "colorbar": {
             "outlinewidth": 0,
             "ticks": ""
            },
            "colorscale": [
             [
              0,
              "#0d0887"
             ],
             [
              0.1111111111111111,
              "#46039f"
             ],
             [
              0.2222222222222222,
              "#7201a8"
             ],
             [
              0.3333333333333333,
              "#9c179e"
             ],
             [
              0.4444444444444444,
              "#bd3786"
             ],
             [
              0.5555555555555556,
              "#d8576b"
             ],
             [
              0.6666666666666666,
              "#ed7953"
             ],
             [
              0.7777777777777778,
              "#fb9f3a"
             ],
             [
              0.8888888888888888,
              "#fdca26"
             ],
             [
              1,
              "#f0f921"
             ]
            ],
            "type": "histogram2dcontour"
           }
          ],
          "mesh3d": [
           {
            "colorbar": {
             "outlinewidth": 0,
             "ticks": ""
            },
            "type": "mesh3d"
           }
          ],
          "parcoords": [
           {
            "line": {
             "colorbar": {
              "outlinewidth": 0,
              "ticks": ""
             }
            },
            "type": "parcoords"
           }
          ],
          "pie": [
           {
            "automargin": true,
            "type": "pie"
           }
          ],
          "scatter": [
           {
            "fillpattern": {
             "fillmode": "overlay",
             "size": 10,
             "solidity": 0.2
            },
            "type": "scatter"
           }
          ],
          "scatter3d": [
           {
            "line": {
             "colorbar": {
              "outlinewidth": 0,
              "ticks": ""
             }
            },
            "marker": {
             "colorbar": {
              "outlinewidth": 0,
              "ticks": ""
             }
            },
            "type": "scatter3d"
           }
          ],
          "scattercarpet": [
           {
            "marker": {
             "colorbar": {
              "outlinewidth": 0,
              "ticks": ""
             }
            },
            "type": "scattercarpet"
           }
          ],
          "scattergeo": [
           {
            "marker": {
             "colorbar": {
              "outlinewidth": 0,
              "ticks": ""
             }
            },
            "type": "scattergeo"
           }
          ],
          "scattergl": [
           {
            "marker": {
             "colorbar": {
              "outlinewidth": 0,
              "ticks": ""
             }
            },
            "type": "scattergl"
           }
          ],
          "scattermapbox": [
           {
            "marker": {
             "colorbar": {
              "outlinewidth": 0,
              "ticks": ""
             }
            },
            "type": "scattermapbox"
           }
          ],
          "scatterpolar": [
           {
            "marker": {
             "colorbar": {
              "outlinewidth": 0,
              "ticks": ""
             }
            },
            "type": "scatterpolar"
           }
          ],
          "scatterpolargl": [
           {
            "marker": {
             "colorbar": {
              "outlinewidth": 0,
              "ticks": ""
             }
            },
            "type": "scatterpolargl"
           }
          ],
          "scatterternary": [
           {
            "marker": {
             "colorbar": {
              "outlinewidth": 0,
              "ticks": ""
             }
            },
            "type": "scatterternary"
           }
          ],
          "surface": [
           {
            "colorbar": {
             "outlinewidth": 0,
             "ticks": ""
            },
            "colorscale": [
             [
              0,
              "#0d0887"
             ],
             [
              0.1111111111111111,
              "#46039f"
             ],
             [
              0.2222222222222222,
              "#7201a8"
             ],
             [
              0.3333333333333333,
              "#9c179e"
             ],
             [
              0.4444444444444444,
              "#bd3786"
             ],
             [
              0.5555555555555556,
              "#d8576b"
             ],
             [
              0.6666666666666666,
              "#ed7953"
             ],
             [
              0.7777777777777778,
              "#fb9f3a"
             ],
             [
              0.8888888888888888,
              "#fdca26"
             ],
             [
              1,
              "#f0f921"
             ]
            ],
            "type": "surface"
           }
          ],
          "table": [
           {
            "cells": {
             "fill": {
              "color": "#EBF0F8"
             },
             "line": {
              "color": "white"
             }
            },
            "header": {
             "fill": {
              "color": "#C8D4E3"
             },
             "line": {
              "color": "white"
             }
            },
            "type": "table"
           }
          ]
         },
         "layout": {
          "autosize": true,
          "font": {
           "family": "sans-serif",
           "size": 14
          },
          "hovermode": "closest",
          "margin": {
           "b": 40,
           "l": 50,
           "pad": 4,
           "r": 25,
           "t": 20
          },
          "template": {
           "data": {
            "bar": [
             {
              "error_x": {
               "color": "#2a3f5f"
              },
              "error_y": {
               "color": "#2a3f5f"
              },
              "marker": {
               "line": {
                "color": "white",
                "width": 0.5
               },
               "pattern": {
                "fillmode": "overlay",
                "size": 10,
                "solidity": 0.2
               }
              },
              "type": "bar"
             }
            ],
            "barpolar": [
             {
              "marker": {
               "line": {
                "color": "white",
                "width": 0.5
               },
               "pattern": {
                "fillmode": "overlay",
                "size": 10,
                "solidity": 0.2
               }
              },
              "type": "barpolar"
             }
            ],
            "carpet": [
             {
              "aaxis": {
               "endlinecolor": "#2a3f5f",
               "gridcolor": "#C8D4E3",
               "linecolor": "#C8D4E3",
               "minorgridcolor": "#C8D4E3",
               "startlinecolor": "#2a3f5f"
              },
              "baxis": {
               "endlinecolor": "#2a3f5f",
               "gridcolor": "#C8D4E3",
               "linecolor": "#C8D4E3",
               "minorgridcolor": "#C8D4E3",
               "startlinecolor": "#2a3f5f"
              },
              "type": "carpet"
             }
            ],
            "choropleth": [
             {
              "colorbar": {
               "outlinewidth": 0,
               "ticks": ""
              },
              "type": "choropleth"
             }
            ],
            "contour": [
             {
              "colorbar": {
               "outlinewidth": 0,
               "ticks": ""
              },
              "colorscale": [
               [
                0,
                "#0d0887"
               ],
               [
                0.1111111111111111,
                "#46039f"
               ],
               [
                0.2222222222222222,
                "#7201a8"
               ],
               [
                0.3333333333333333,
                "#9c179e"
               ],
               [
                0.4444444444444444,
                "#bd3786"
               ],
               [
                0.5555555555555556,
                "#d8576b"
               ],
               [
                0.6666666666666666,
                "#ed7953"
               ],
               [
                0.7777777777777778,
                "#fb9f3a"
               ],
               [
                0.8888888888888888,
                "#fdca26"
               ],
               [
                1,
                "#f0f921"
               ]
              ],
              "type": "contour"
             }
            ],
            "contourcarpet": [
             {
              "colorbar": {
               "outlinewidth": 0,
               "ticks": ""
              },
              "type": "contourcarpet"
             }
            ],
            "heatmap": [
             {
              "colorbar": {
               "outlinewidth": 0,
               "ticks": ""
              },
              "colorscale": [
               [
                0,
                "#0d0887"
               ],
               [
                0.1111111111111111,
                "#46039f"
               ],
               [
                0.2222222222222222,
                "#7201a8"
               ],
               [
                0.3333333333333333,
                "#9c179e"
               ],
               [
                0.4444444444444444,
                "#bd3786"
               ],
               [
                0.5555555555555556,
                "#d8576b"
               ],
               [
                0.6666666666666666,
                "#ed7953"
               ],
               [
                0.7777777777777778,
                "#fb9f3a"
               ],
               [
                0.8888888888888888,
                "#fdca26"
               ],
               [
                1,
                "#f0f921"
               ]
              ],
              "type": "heatmap"
             }
            ],
            "heatmapgl": [
             {
              "colorbar": {
               "outlinewidth": 0,
               "ticks": ""
              },
              "colorscale": [
               [
                0,
                "#0d0887"
               ],
               [
                0.1111111111111111,
                "#46039f"
               ],
               [
                0.2222222222222222,
                "#7201a8"
               ],
               [
                0.3333333333333333,
                "#9c179e"
               ],
               [
                0.4444444444444444,
                "#bd3786"
               ],
               [
                0.5555555555555556,
                "#d8576b"
               ],
               [
                0.6666666666666666,
                "#ed7953"
               ],
               [
                0.7777777777777778,
                "#fb9f3a"
               ],
               [
                0.8888888888888888,
                "#fdca26"
               ],
               [
                1,
                "#f0f921"
               ]
              ],
              "type": "heatmapgl"
             }
            ],
            "histogram": [
             {
              "marker": {
               "pattern": {
                "fillmode": "overlay",
                "size": 10,
                "solidity": 0.2
               }
              },
              "type": "histogram"
             }
            ],
            "histogram2d": [
             {
              "colorbar": {
               "outlinewidth": 0,
               "ticks": ""
              },
              "colorscale": [
               [
                0,
                "#0d0887"
               ],
               [
                0.1111111111111111,
                "#46039f"
               ],
               [
                0.2222222222222222,
                "#7201a8"
               ],
               [
                0.3333333333333333,
                "#9c179e"
               ],
               [
                0.4444444444444444,
                "#bd3786"
               ],
               [
                0.5555555555555556,
                "#d8576b"
               ],
               [
                0.6666666666666666,
                "#ed7953"
               ],
               [
                0.7777777777777778,
                "#fb9f3a"
               ],
               [
                0.8888888888888888,
                "#fdca26"
               ],
               [
                1,
                "#f0f921"
               ]
              ],
              "type": "histogram2d"
             }
            ],
            "histogram2dcontour": [
             {
              "colorbar": {
               "outlinewidth": 0,
               "ticks": ""
              },
              "colorscale": [
               [
                0,
                "#0d0887"
               ],
               [
                0.1111111111111111,
                "#46039f"
               ],
               [
                0.2222222222222222,
                "#7201a8"
               ],
               [
                0.3333333333333333,
                "#9c179e"
               ],
               [
                0.4444444444444444,
                "#bd3786"
               ],
               [
                0.5555555555555556,
                "#d8576b"
               ],
               [
                0.6666666666666666,
                "#ed7953"
               ],
               [
                0.7777777777777778,
                "#fb9f3a"
               ],
               [
                0.8888888888888888,
                "#fdca26"
               ],
               [
                1,
                "#f0f921"
               ]
              ],
              "type": "histogram2dcontour"
             }
            ],
            "mesh3d": [
             {
              "colorbar": {
               "outlinewidth": 0,
               "ticks": ""
              },
              "type": "mesh3d"
             }
            ],
            "parcoords": [
             {
              "line": {
               "colorbar": {
                "outlinewidth": 0,
                "ticks": ""
               }
              },
              "type": "parcoords"
             }
            ],
            "pie": [
             {
              "automargin": true,
              "type": "pie"
             }
            ],
            "scatter": [
             {
              "fillpattern": {
               "fillmode": "overlay",
               "size": 10,
               "solidity": 0.2
              },
              "type": "scatter"
             }
            ],
            "scatter3d": [
             {
              "line": {
               "colorbar": {
                "outlinewidth": 0,
                "ticks": ""
               }
              },
              "marker": {
               "colorbar": {
                "outlinewidth": 0,
                "ticks": ""
               }
              },
              "type": "scatter3d"
             }
            ],
            "scattercarpet": [
             {
              "marker": {
               "colorbar": {
                "outlinewidth": 0,
                "ticks": ""
               }
              },
              "type": "scattercarpet"
             }
            ],
            "scattergeo": [
             {
              "marker": {
               "colorbar": {
                "outlinewidth": 0,
                "ticks": ""
               }
              },
              "type": "scattergeo"
             }
            ],
            "scattergl": [
             {
              "marker": {
               "colorbar": {
                "outlinewidth": 0,
                "ticks": ""
               }
              },
              "type": "scattergl"
             }
            ],
            "scattermapbox": [
             {
              "marker": {
               "colorbar": {
                "outlinewidth": 0,
                "ticks": ""
               }
              },
              "type": "scattermapbox"
             }
            ],
            "scatterpolar": [
             {
              "marker": {
               "colorbar": {
                "outlinewidth": 0,
                "ticks": ""
               }
              },
              "type": "scatterpolar"
             }
            ],
            "scatterpolargl": [
             {
              "marker": {
               "colorbar": {
                "outlinewidth": 0,
                "ticks": ""
               }
              },
              "type": "scatterpolargl"
             }
            ],
            "scatterternary": [
             {
              "marker": {
               "colorbar": {
                "outlinewidth": 0,
                "ticks": ""
               }
              },
              "type": "scatterternary"
             }
            ],
            "surface": [
             {
              "colorbar": {
               "outlinewidth": 0,
               "ticks": ""
              },
              "colorscale": [
               [
                0,
                "#0d0887"
               ],
               [
                0.1111111111111111,
                "#46039f"
               ],
               [
                0.2222222222222222,
                "#7201a8"
               ],
               [
                0.3333333333333333,
                "#9c179e"
               ],
               [
                0.4444444444444444,
                "#bd3786"
               ],
               [
                0.5555555555555556,
                "#d8576b"
               ],
               [
                0.6666666666666666,
                "#ed7953"
               ],
               [
                0.7777777777777778,
                "#fb9f3a"
               ],
               [
                0.8888888888888888,
                "#fdca26"
               ],
               [
                1,
                "#f0f921"
               ]
              ],
              "type": "surface"
             }
            ],
            "table": [
             {
              "cells": {
               "fill": {
                "color": "#EBF0F8"
               },
               "line": {
                "color": "white"
               }
              },
              "header": {
               "fill": {
                "color": "#C8D4E3"
               },
               "line": {
                "color": "white"
               }
              },
              "type": "table"
             }
            ]
           },
           "layout": {
            "annotationdefaults": {
             "arrowcolor": "#2a3f5f",
             "arrowhead": 0,
             "arrowwidth": 1
            },
            "autotypenumbers": "strict",
            "coloraxis": {
             "colorbar": {
              "outlinewidth": 0,
              "ticks": ""
             }
            },
            "colorscale": {
             "diverging": [
              [
               0,
               "#8e0152"
              ],
              [
               0.1,
               "#c51b7d"
              ],
              [
               0.2,
               "#de77ae"
              ],
              [
               0.3,
               "#f1b6da"
              ],
              [
               0.4,
               "#fde0ef"
              ],
              [
               0.5,
               "#f7f7f7"
              ],
              [
               0.6,
               "#e6f5d0"
              ],
              [
               0.7,
               "#b8e186"
              ],
              [
               0.8,
               "#7fbc41"
              ],
              [
               0.9,
               "#4d9221"
              ],
              [
               1,
               "#276419"
              ]
             ],
             "sequential": [
              [
               0,
               "#0d0887"
              ],
              [
               0.1111111111111111,
               "#46039f"
              ],
              [
               0.2222222222222222,
               "#7201a8"
              ],
              [
               0.3333333333333333,
               "#9c179e"
              ],
              [
               0.4444444444444444,
               "#bd3786"
              ],
              [
               0.5555555555555556,
               "#d8576b"
              ],
              [
               0.6666666666666666,
               "#ed7953"
              ],
              [
               0.7777777777777778,
               "#fb9f3a"
              ],
              [
               0.8888888888888888,
               "#fdca26"
              ],
              [
               1,
               "#f0f921"
              ]
             ],
             "sequentialminus": [
              [
               0,
               "#0d0887"
              ],
              [
               0.1111111111111111,
               "#46039f"
              ],
              [
               0.2222222222222222,
               "#7201a8"
              ],
              [
               0.3333333333333333,
               "#9c179e"
              ],
              [
               0.4444444444444444,
               "#bd3786"
              ],
              [
               0.5555555555555556,
               "#d8576b"
              ],
              [
               0.6666666666666666,
               "#ed7953"
              ],
              [
               0.7777777777777778,
               "#fb9f3a"
              ],
              [
               0.8888888888888888,
               "#fdca26"
              ],
              [
               1,
               "#f0f921"
              ]
             ]
            },
            "colorway": [
             "#636efa",
             "#EF553B",
             "#00cc96",
             "#ab63fa",
             "#FFA15A",
             "#19d3f3",
             "#FF6692",
             "#B6E880",
             "#FF97FF",
             "#FECB52"
            ],
            "font": {
             "color": "#2a3f5f"
            },
            "geo": {
             "bgcolor": "white",
             "lakecolor": "white",
             "landcolor": "white",
             "showlakes": true,
             "showland": true,
             "subunitcolor": "#C8D4E3"
            },
            "hoverlabel": {
             "align": "left"
            },
            "hovermode": "closest",
            "mapbox": {
             "style": "light"
            },
            "paper_bgcolor": "white",
            "plot_bgcolor": "white",
            "polar": {
             "angularaxis": {
              "gridcolor": "#EBF0F8",
              "linecolor": "#EBF0F8",
              "ticks": ""
             },
             "bgcolor": "white",
             "radialaxis": {
              "gridcolor": "#EBF0F8",
              "linecolor": "#EBF0F8",
              "ticks": ""
             }
            },
            "scene": {
             "xaxis": {
              "backgroundcolor": "white",
              "gridcolor": "#DFE8F3",
              "gridwidth": 2,
              "linecolor": "#EBF0F8",
              "showbackground": true,
              "ticks": "",
              "zerolinecolor": "#EBF0F8"
             },
             "yaxis": {
              "backgroundcolor": "white",
              "gridcolor": "#DFE8F3",
              "gridwidth": 2,
              "linecolor": "#EBF0F8",
              "showbackground": true,
              "ticks": "",
              "zerolinecolor": "#EBF0F8"
             },
             "zaxis": {
              "backgroundcolor": "white",
              "gridcolor": "#DFE8F3",
              "gridwidth": 2,
              "linecolor": "#EBF0F8",
              "showbackground": true,
              "ticks": "",
              "zerolinecolor": "#EBF0F8"
             }
            },
            "shapedefaults": {
             "line": {
              "color": "#2a3f5f"
             }
            },
            "ternary": {
             "aaxis": {
              "gridcolor": "#DFE8F3",
              "linecolor": "#A2B1C6",
              "ticks": ""
             },
             "baxis": {
              "gridcolor": "#DFE8F3",
              "linecolor": "#A2B1C6",
              "ticks": ""
             },
             "bgcolor": "white",
             "caxis": {
              "gridcolor": "#DFE8F3",
              "linecolor": "#A2B1C6",
              "ticks": ""
             }
            },
            "title": {
             "x": 0.05
            },
            "xaxis": {
             "automargin": true,
             "gridcolor": "#EBF0F8",
             "linecolor": "#EBF0F8",
             "ticks": "",
             "title": {
              "standoff": 15
             },
             "zerolinecolor": "#EBF0F8",
             "zerolinewidth": 2
            },
            "yaxis": {
             "automargin": true,
             "gridcolor": "#EBF0F8",
             "linecolor": "#EBF0F8",
             "ticks": "",
             "title": {
              "standoff": 15
             },
             "zerolinecolor": "#EBF0F8",
             "zerolinewidth": 2
            }
           }
          },
          "xaxis": {
           "automargin": true,
           "autorange": false,
           "fixedrange": true,
           "linecolor": "#444",
           "linewidth": 2,
           "minor": {
            "tickmode": "linear",
            "ticks": "outside"
           },
           "mirror": true,
           "showline": true,
           "tickmode": "linear",
           "ticks": "outside",
           "zeroline": false
          },
          "yaxis": {
           "automargin": true,
           "autorange": false,
           "fixedrange": true,
           "linecolor": "#444",
           "linewidth": 2,
           "minor": {
            "tickmode": "linear",
            "ticks": "outside"
           },
           "mirror": true,
           "showline": true,
           "tickmode": "linear",
           "ticks": "outside",
           "zeroline": false
          }
         }
        },
        "xaxis": {
         "dtick": 5,
         "minor": {
          "dtick": 1,
          "tick0": 0
         },
         "range": [
          0,
          30.2
         ],
         "tick0": 0,
         "title": {
          "text": "challenge rating"
         }
        },
        "yaxis": {
         "dtick": 5,
         "minor": {
          "dtick": 1,
          "tick0": 0
         },
         "range": [
          -3,
          10
         ],
         "tick0": 0,
         "title": {
          "text": "proficiency bonus"
         }
        }
       }
      }
     },
     "metadata": {},
     "output_type": "display_data"
    }
   ],
   "source": [
    "# Ability score modifier\n",
    "columns = ['Str','Dex','Con','Int','Wis','Cha']\n",
    "colors = ['#d62728','#9467bd','#8c564b','#1f77b4','#2ca02c','#ff7f0e']\n",
    "\n",
    "#df1 = df0[df0['Category'].isin(['generic','legendary','unique']) & df0['CR'].between(1/8, 30)]\n",
    "df1 = df0[df0['CR'].between(1/8, 30)]\n",
    "dfG = df1.groupby('CR').mean().reset_index()\n",
    "\n",
    "fig = go.Figure()\n",
    "\n",
    "for column, color in zip(columns, colors):\n",
    "    # generate custom text\n",
    "    cr_totals = df1.groupby('CR').count()['Book'].to_list()\n",
    "\n",
    "    # plot data\n",
    "    fig.add_trace(go.Scatter(\n",
    "        x=dfG['CR'],\n",
    "        y=dfG[f'{column} Save'] - dfG[f'{column} Mod'],\n",
    "        mode='markers', \n",
    "        marker=dict(size=4, color=color),\n",
    "        line_shape='spline',\n",
    "        unselected=dict(marker=dict(opacity=0.0)),\n",
    "        showlegend=True,\n",
    "        name=column,\n",
    "        legendgroup=column,\n",
    "        hovertemplate=\n",
    "            '<b>CR:</b> %{x}<br>'+\n",
    "            '<b>Ability:</b> ' + column[0:3] + '<br>'+\n",
    "            '<b>Modifier:</b> %{y:.1f}'+\n",
    "            '<extra></extra>'\n",
    "    ))\n",
    "\n",
    "    # add fit line\n",
    "    coefs = np.polyfit(dfG['CR'], dfG[f'{column} Save'] - dfG[f'{column} Mod'], 1)\n",
    "    poly = np.poly1d(coefs)\n",
    "    fig.add_trace(go.Scatter(\n",
    "        x=dfG['CR'],\n",
    "        y=poly(dfG['CR']),\n",
    "        mode='lines', \n",
    "        line=dict(color=color, dash='solid'),\n",
    "        unselected=dict(marker=dict(opacity=0.0)),\n",
    "        showlegend=False,\n",
    "        legendgroup=column,\n",
    "        legendgrouptitle_text='fit',\n",
    "        hoverinfo='skip',\n",
    "    ))\n",
    "\n",
    "# save large format figure\n",
    "fig.update_layout(\n",
    "    template=TFB_TEMPLATE,\n",
    "    xaxis=dict(\n",
    "        title_text='challenge rating',\n",
    "        range=[0.0, 30.2],\n",
    "        tick0=0, dtick=5,\n",
    "        minor=dict(tick0=0, dtick=1),\n",
    "    ),\n",
    "    yaxis=dict(\n",
    "        title_text='proficiency bonus',\n",
    "        range=[-3, 10],\n",
    "        tick0=0, dtick=5,\n",
    "        minor=dict(tick0=0, dtick=1),\n",
    "    ),\n",
    "    legend=dict(\n",
    "        xanchor='left', yanchor='top',\n",
    "        x=0.01, y=0.99,\n",
    "        orientation='v',\n",
    "        tracegroupgap=0,\n",
    "    )\n",
    ")\n",
    "\n",
    "fig.show(config=TFB_CONFIG)"
   ]
  },
  {
   "cell_type": "code",
   "execution_count": 16,
   "metadata": {},
   "outputs": [
    {
     "data": {
      "application/vnd.plotly.v1+json": {
       "config": {
        "autosizable": true,
        "displayModeBar": "hover",
        "displaylogo": false,
        "modeBarButtonsToRemove": [
         "select2d",
         "lasso2d",
         "zoom2d",
         "zoomIn2d",
         "zoomOut2d",
         "pan2d",
         "autoScale2d",
         "hoverClosestCartesian",
         "hoverCompareCartesian",
         "toggleSpikelines",
         "resetScale2d"
        ],
        "plotlyServerURL": "https://plot.ly",
        "responsive": true,
        "showAxisDragHandles": false,
        "toImageButtonOptions": {
         "filename": "tfb-plot",
         "format": "png",
         "height": 450,
         "scale": 2,
         "width": 600
        }
       },
       "data": [
        {
         "hovertemplate": "<b>CR:</b> %{x}<br><b>Ability:</b> Str<br><b>Probability:</b> %{y:.2f} (out of %{text})<extra></extra>",
         "legendgroup": "Str",
         "line": {
          "shape": "spline"
         },
         "marker": {
          "color": "#d62728",
          "size": 4
         },
         "mode": "markers",
         "name": "Str",
         "showlegend": true,
         "text": [
          "55",
          "106",
          "100",
          "121",
          "177",
          "155",
          "106",
          "148",
          "70",
          "83",
          "78",
          "62",
          "54",
          "45",
          "42",
          "36",
          "28",
          "22",
          "30",
          "17",
          "17",
          "12",
          "12",
          "17",
          "15",
          "15",
          "9",
          "6",
          "7",
          "2",
          "3"
         ],
         "type": "scatter",
         "unselected": {
          "marker": {
           "opacity": 0
          }
         },
         "x": [
          0.125,
          0.25,
          0.5,
          1,
          2,
          3,
          4,
          5,
          6,
          7,
          8,
          9,
          10,
          11,
          12,
          13,
          14,
          15,
          16,
          17,
          18,
          19,
          20,
          21,
          22,
          23,
          24,
          25,
          26,
          28,
          30
         ],
         "y": [
          0,
          0,
          0.008620689655172431,
          0.014084507042253502,
          0.04589371980676327,
          0.06460674157303359,
          0.06399999999999983,
          0.09580838323353295,
          0.125,
          0.055555555555555504,
          0.09523809523809519,
          0.11111111111111105,
          0.08467741935483875,
          0.13020833333333337,
          0.20930232558139528,
          0.17,
          0.1935483870967742,
          0.125,
          0.3225806451612902,
          0.11111111111111116,
          0.16666666666666674,
          0.25,
          0.08333333333333333,
          0.11764705882352937,
          0,
          0.1818181818181819,
          0.09090909090909095,
          0,
          0,
          0.5,
          0.25
         ]
        },
        {
         "hoverinfo": "skip",
         "legendgroup": "Str",
         "legendgrouptitle": {
          "text": "fit"
         },
         "line": {
          "color": "#d62728",
          "dash": "solid"
         },
         "mode": "lines",
         "showlegend": false,
         "type": "scatter",
         "unselected": {
          "marker": {
           "opacity": 0
          }
         },
         "x": [
          0.125,
          0.25,
          0.5,
          1,
          2,
          3,
          4,
          5,
          6,
          7,
          8,
          9,
          10,
          11,
          12,
          13,
          14,
          15,
          16,
          17,
          18,
          19,
          20,
          21,
          22,
          23,
          24,
          25,
          26,
          28,
          30
         ],
         "y": [
          0.0447491715485119,
          0.04545098713915266,
          0.04685461832043419,
          0.049661880682997234,
          0.05527640540812332,
          0.06089093013324941,
          0.0665054548583755,
          0.0721199795835016,
          0.07773450430862769,
          0.08334902903375377,
          0.08896355375887986,
          0.09457807848400596,
          0.10019260320913204,
          0.10580712793425813,
          0.11142165265938422,
          0.11703617738451032,
          0.1226507021096364,
          0.1282652268347625,
          0.13387975155988857,
          0.13949427628501468,
          0.1451088010101408,
          0.15072332573526687,
          0.15633785046039295,
          0.16195237518551903,
          0.1675668999106451,
          0.17318142463577124,
          0.17879594936089732,
          0.1844104740860234,
          0.19002499881114948,
          0.20125404826140164,
          0.21248309771165386
         ]
        },
        {
         "hovertemplate": "<b>CR:</b> %{x}<br><b>Ability:</b> Dex<br><b>Probability:</b> %{y:.2f} (out of %{text})<extra></extra>",
         "legendgroup": "Dex",
         "line": {
          "shape": "spline"
         },
         "marker": {
          "color": "#9467bd",
          "size": 4
         },
         "mode": "markers",
         "name": "Dex",
         "showlegend": true,
         "text": [
          "55",
          "106",
          "100",
          "121",
          "177",
          "155",
          "106",
          "148",
          "70",
          "83",
          "78",
          "62",
          "54",
          "45",
          "42",
          "36",
          "28",
          "22",
          "30",
          "17",
          "17",
          "12",
          "12",
          "17",
          "15",
          "15",
          "9",
          "6",
          "7",
          "2",
          "3"
         ],
         "type": "scatter",
         "unselected": {
          "marker": {
           "opacity": 0
          }
         },
         "x": [
          0.125,
          0.25,
          0.5,
          1,
          2,
          3,
          4,
          5,
          6,
          7,
          8,
          9,
          10,
          11,
          12,
          13,
          14,
          15,
          16,
          17,
          18,
          19,
          20,
          21,
          22,
          23,
          24,
          25,
          26,
          28,
          30
         ],
         "y": [
          0.06779661016949157,
          0.042735042735042694,
          0.06034482758620685,
          0.09154929577464788,
          0.16666666666666674,
          0.1320224719101124,
          0.136,
          0.19960079840319356,
          0.13750000000000004,
          0.21111111111111117,
          0.21428571428571427,
          0.19444444444444448,
          0.310483870967742,
          0.375,
          0.2325581395348837,
          0.33999999999999997,
          0.4193548387096774,
          0.2916666666666667,
          0.4193548387096774,
          0.5,
          0.38888888888888884,
          0.4305555555555556,
          0.33333333333333326,
          0.6470588235294118,
          0.5999999999999999,
          0.6363636363636365,
          0.8181818181818182,
          0.47916666666666663,
          0.39999999999999997,
          0,
          0.5
         ]
        },
        {
         "hoverinfo": "skip",
         "legendgroup": "Dex",
         "legendgrouptitle": {
          "text": "fit"
         },
         "line": {
          "color": "#9467bd",
          "dash": "solid"
         },
         "mode": "lines",
         "showlegend": false,
         "type": "scatter",
         "unselected": {
          "marker": {
           "opacity": 0
          }
         },
         "x": [
          0.125,
          0.25,
          0.5,
          1,
          2,
          3,
          4,
          5,
          6,
          7,
          8,
          9,
          10,
          11,
          12,
          13,
          14,
          15,
          16,
          17,
          18,
          19,
          20,
          21,
          22,
          23,
          24,
          25,
          26,
          28,
          30
         ],
         "y": [
          0.10766790760600918,
          0.10965014865416445,
          0.11361463075047498,
          0.12154359494309604,
          0.13740152332833816,
          0.1532594517135803,
          0.16911738009882243,
          0.18497530848406454,
          0.20083323686930668,
          0.2166911652545488,
          0.23254909363979093,
          0.24840702202503306,
          0.2642649504102752,
          0.28012287879551734,
          0.2959808071807595,
          0.31183873556600156,
          0.3276966639512437,
          0.3435545923364858,
          0.3594125207217279,
          0.37527044910697005,
          0.3911283774922122,
          0.4069863058774543,
          0.42284423426269646,
          0.4387021626479386,
          0.45456009103318074,
          0.4704180194184229,
          0.486275947803665,
          0.502133876188907,
          0.5179918045741492,
          0.5497076613446334,
          0.5814235181151177
         ]
        },
        {
         "hovertemplate": "<b>CR:</b> %{x}<br><b>Ability:</b> Con<br><b>Probability:</b> %{y:.2f} (out of %{text})<extra></extra>",
         "legendgroup": "Con",
         "line": {
          "shape": "spline"
         },
         "marker": {
          "color": "#8c564b",
          "size": 4
         },
         "mode": "markers",
         "name": "Con",
         "showlegend": true,
         "text": [
          "55",
          "106",
          "100",
          "121",
          "177",
          "155",
          "106",
          "148",
          "70",
          "83",
          "78",
          "62",
          "54",
          "45",
          "42",
          "36",
          "28",
          "22",
          "30",
          "17",
          "17",
          "12",
          "12",
          "17",
          "15",
          "15",
          "9",
          "6",
          "7",
          "2",
          "3"
         ],
         "type": "scatter",
         "unselected": {
          "marker": {
           "opacity": 0
          }
         },
         "x": [
          0.125,
          0.25,
          0.5,
          1,
          2,
          3,
          4,
          5,
          6,
          7,
          8,
          9,
          10,
          11,
          12,
          13,
          14,
          15,
          16,
          17,
          18,
          19,
          20,
          21,
          22,
          23,
          24,
          25,
          26,
          28,
          30
         ],
         "y": [
          0.06779661016949151,
          0.008547008547008517,
          0.051724137931034475,
          0.04929577464788726,
          0.09903381642512077,
          0.1095505617977528,
          0.17200000000000015,
          0.20758483033932137,
          0.22499999999999995,
          0.2888888888888889,
          0.35317460317460325,
          0.5000000000000001,
          0.4395161290322581,
          0.39583333333333326,
          0.5581395348837209,
          0.5649999999999998,
          0.774193548387097,
          0.5,
          0.4193548387096774,
          0.5,
          0.7222222222222223,
          0.6805555555555557,
          0.75,
          0.823529411764706,
          0.8,
          0.8181818181818181,
          0.9090909090909091,
          0.47916666666666674,
          0.5999999999999999,
          1,
          0.5
         ]
        },
        {
         "hoverinfo": "skip",
         "legendgroup": "Con",
         "legendgrouptitle": {
          "text": "fit"
         },
         "line": {
          "color": "#8c564b",
          "dash": "solid"
         },
         "mode": "lines",
         "showlegend": false,
         "type": "scatter",
         "unselected": {
          "marker": {
           "opacity": 0
          }
         },
         "x": [
          0.125,
          0.25,
          0.5,
          1,
          2,
          3,
          4,
          5,
          6,
          7,
          8,
          9,
          10,
          11,
          12,
          13,
          14,
          15,
          16,
          17,
          18,
          19,
          20,
          21,
          22,
          23,
          24,
          25,
          26,
          28,
          30
         ],
         "y": [
          0.11053646673026804,
          0.11390492415979721,
          0.12064183901885556,
          0.13411566873697225,
          0.16106332817320568,
          0.18801098760943907,
          0.21495864704567247,
          0.2419063064819059,
          0.26885396591813926,
          0.2958016253543727,
          0.3227492847906061,
          0.3496969442268395,
          0.37664460366307295,
          0.4035922630993063,
          0.43053992253553974,
          0.4574875819717731,
          0.48443524140800653,
          0.51138290084424,
          0.5383305602804733,
          0.5652782197167068,
          0.5922258791529401,
          0.6191735385891736,
          0.646121198025407,
          0.6730688574616404,
          0.7000165168978738,
          0.7269641763341073,
          0.7539118357703406,
          0.780859495206574,
          0.8078071546428074,
          0.8617024735152743,
          0.9155977923877411
         ]
        },
        {
         "hovertemplate": "<b>CR:</b> %{x}<br><b>Ability:</b> Int<br><b>Probability:</b> %{y:.2f} (out of %{text})<extra></extra>",
         "legendgroup": "Int",
         "line": {
          "shape": "spline"
         },
         "marker": {
          "color": "#1f77b4",
          "size": 4
         },
         "mode": "markers",
         "name": "Int",
         "showlegend": true,
         "text": [
          "55",
          "106",
          "100",
          "121",
          "177",
          "155",
          "106",
          "148",
          "70",
          "83",
          "78",
          "62",
          "54",
          "45",
          "42",
          "36",
          "28",
          "22",
          "30",
          "17",
          "17",
          "12",
          "12",
          "17",
          "15",
          "15",
          "9",
          "6",
          "7",
          "2",
          "3"
         ],
         "type": "scatter",
         "unselected": {
          "marker": {
           "opacity": 0
          }
         },
         "x": [
          0.125,
          0.25,
          0.5,
          1,
          2,
          3,
          4,
          5,
          6,
          7,
          8,
          9,
          10,
          11,
          12,
          13,
          14,
          15,
          16,
          17,
          18,
          19,
          20,
          21,
          22,
          23,
          24,
          25,
          26,
          28,
          30
         ],
         "y": [
          0,
          0.017094017094017144,
          0,
          0.028169014084507116,
          0.0748792270531401,
          0.08707865168539325,
          0.08800000000000001,
          0.20958083832335328,
          0.2125,
          0.19999999999999998,
          0.2380952380952381,
          0.20833333333333331,
          0.27822580645161293,
          0.1875,
          0.25581395348837216,
          0.41999999999999993,
          0.3225806451612903,
          0.25000000000000006,
          0.16129032258064516,
          0.4444444444444445,
          0.4444444444444445,
          0.3333333333333334,
          0.08333333333333333,
          0.29411764705882365,
          0.33333333333333337,
          0.27272727272727276,
          0.09090909090909083,
          0.4999999999999999,
          0.6000000000000001,
          0.5,
          0.5
         ]
        },
        {
         "hoverinfo": "skip",
         "legendgroup": "Int",
         "legendgrouptitle": {
          "text": "fit"
         },
         "line": {
          "color": "#1f77b4",
          "dash": "solid"
         },
         "mode": "lines",
         "showlegend": false,
         "type": "scatter",
         "unselected": {
          "marker": {
           "opacity": 0
          }
         },
         "x": [
          0.125,
          0.25,
          0.5,
          1,
          2,
          3,
          4,
          5,
          6,
          7,
          8,
          9,
          10,
          11,
          12,
          13,
          14,
          15,
          16,
          17,
          18,
          19,
          20,
          21,
          22,
          23,
          24,
          25,
          26,
          28,
          30
         ],
         "y": [
          0.06478796904781735,
          0.06652052967172517,
          0.06998565091954084,
          0.07691589341517217,
          0.09077637840643484,
          0.10463686339769748,
          0.11849734838896014,
          0.1323578333802228,
          0.14621831837148547,
          0.16007880336274813,
          0.1739392883540108,
          0.18779977334527345,
          0.2016602583365361,
          0.21552074332779875,
          0.22938122831906144,
          0.24324171331032407,
          0.25710219830158676,
          0.2709626832928494,
          0.2848231682841121,
          0.2986836532753747,
          0.3125441382666374,
          0.32640462325790004,
          0.3402651082491627,
          0.35412559324042536,
          0.367986078231688,
          0.3818465632229507,
          0.3957070482142133,
          0.409567533205476,
          0.42342801819673864,
          0.45114898817926397,
          0.4788699581617893
         ]
        },
        {
         "hovertemplate": "<b>CR:</b> %{x}<br><b>Ability:</b> Wis<br><b>Probability:</b> %{y:.2f} (out of %{text})<extra></extra>",
         "legendgroup": "Wis",
         "line": {
          "shape": "spline"
         },
         "marker": {
          "color": "#2ca02c",
          "size": 4
         },
         "mode": "markers",
         "name": "Wis",
         "showlegend": true,
         "text": [
          "55",
          "106",
          "100",
          "121",
          "177",
          "155",
          "106",
          "148",
          "70",
          "83",
          "78",
          "62",
          "54",
          "45",
          "42",
          "36",
          "28",
          "22",
          "30",
          "17",
          "17",
          "12",
          "12",
          "17",
          "15",
          "15",
          "9",
          "6",
          "7",
          "2",
          "3"
         ],
         "type": "scatter",
         "unselected": {
          "marker": {
           "opacity": 0
          }
         },
         "x": [
          0.125,
          0.25,
          0.5,
          1,
          2,
          3,
          4,
          5,
          6,
          7,
          8,
          9,
          10,
          11,
          12,
          13,
          14,
          15,
          16,
          17,
          18,
          19,
          20,
          21,
          22,
          23,
          24,
          25,
          26,
          28,
          30
         ],
         "y": [
          0.03389830508474576,
          0.017094017094017096,
          0.025862068965517244,
          0.07746478873239437,
          0.2246376811594203,
          0.1938202247191011,
          0.336,
          0.3552894211576845,
          0.44999999999999996,
          0.46666666666666673,
          0.5119047619047619,
          0.5833333333333333,
          0.6653225806451615,
          0.625,
          0.6976744186046512,
          0.64,
          0.8387096774193548,
          0.6249999999999999,
          0.7419354838709676,
          0.9444444444444443,
          0.7222222222222222,
          0.6666666666666666,
          0.8333333333333334,
          0.9999999999999999,
          1,
          0.8636363636363635,
          1.0000000000000002,
          0.9791666666666667,
          1,
          1,
          1
         ]
        },
        {
         "hoverinfo": "skip",
         "legendgroup": "Wis",
         "legendgrouptitle": {
          "text": "fit"
         },
         "line": {
          "color": "#2ca02c",
          "dash": "solid"
         },
         "mode": "lines",
         "showlegend": false,
         "type": "scatter",
         "unselected": {
          "marker": {
           "opacity": 0
          }
         },
         "x": [
          0.125,
          0.25,
          0.5,
          1,
          2,
          3,
          4,
          5,
          6,
          7,
          8,
          9,
          10,
          11,
          12,
          13,
          14,
          15,
          16,
          17,
          18,
          19,
          20,
          21,
          22,
          23,
          24,
          25,
          26,
          28,
          30
         ],
         "y": [
          0.17215589623685523,
          0.17639919991388264,
          0.1848858072679374,
          0.20185902197604697,
          0.23580545139226608,
          0.2697518808084852,
          0.3036983102247043,
          0.33764473964092345,
          0.3715911690571425,
          0.4055375984733617,
          0.43948402788958074,
          0.4734304573057999,
          0.507376886722019,
          0.5413233161382381,
          0.5752697455544572,
          0.6092161749706764,
          0.6431626043868954,
          0.6771090338031146,
          0.7110554632193337,
          0.7450018926355527,
          0.7789483220517719,
          0.8128947514679911,
          0.8468411808842101,
          0.8807876103004292,
          0.9147340397166484,
          0.9486804691328675,
          0.9826268985490866,
          1.0165733279653058,
          1.0505197573815248,
          1.1184126162139632,
          1.1863054750464015
         ]
        },
        {
         "hovertemplate": "<b>CR:</b> %{x}<br><b>Ability:</b> Cha<br><b>Probability:</b> %{y:.2f} (out of %{text})<extra></extra>",
         "legendgroup": "Cha",
         "line": {
          "shape": "spline"
         },
         "marker": {
          "color": "#ff7f0e",
          "size": 4
         },
         "mode": "markers",
         "name": "Cha",
         "showlegend": true,
         "text": [
          "55",
          "106",
          "100",
          "121",
          "177",
          "155",
          "106",
          "148",
          "70",
          "83",
          "78",
          "62",
          "54",
          "45",
          "42",
          "36",
          "28",
          "22",
          "30",
          "17",
          "17",
          "12",
          "12",
          "17",
          "15",
          "15",
          "9",
          "6",
          "7",
          "2",
          "3"
         ],
         "type": "scatter",
         "unselected": {
          "marker": {
           "opacity": 0
          }
         },
         "x": [
          0.125,
          0.25,
          0.5,
          1,
          2,
          3,
          4,
          5,
          6,
          7,
          8,
          9,
          10,
          11,
          12,
          13,
          14,
          15,
          16,
          17,
          18,
          19,
          20,
          21,
          22,
          23,
          24,
          25,
          26,
          28,
          30
         ],
         "y": [
          0,
          0.017094017094017144,
          0,
          0.04225352112676056,
          0.11835748792270531,
          0.08146067415730338,
          0.17999999999999997,
          0.17764471057884232,
          0.2625,
          0.27777777777777773,
          0.2976190476190476,
          0.2916666666666667,
          0.19758064516129037,
          0.37499999999999994,
          0.20930232558139528,
          0.615,
          0.4838709677419355,
          0.4166666666666667,
          0.6129032258064515,
          0.611111111111111,
          0.7777777777777777,
          0.6805555555555557,
          0.6666666666666666,
          0.6470588235294116,
          0.8666666666666668,
          0.45454545454545453,
          0.5454545454545456,
          0.6666666666666665,
          0.5000000000000001,
          1,
          0.75
         ]
        },
        {
         "hoverinfo": "skip",
         "legendgroup": "Cha",
         "legendgrouptitle": {
          "text": "fit"
         },
         "line": {
          "color": "#ff7f0e",
          "dash": "solid"
         },
         "mode": "lines",
         "showlegend": false,
         "type": "scatter",
         "unselected": {
          "marker": {
           "opacity": 0
          }
         },
         "x": [
          0.125,
          0.25,
          0.5,
          1,
          2,
          3,
          4,
          5,
          6,
          7,
          8,
          9,
          10,
          11,
          12,
          13,
          14,
          15,
          16,
          17,
          18,
          19,
          20,
          21,
          22,
          23,
          24,
          25,
          26,
          28,
          30
         ],
         "y": [
          0.05477988902395243,
          0.058205081278303476,
          0.06505546578700556,
          0.07875623480440974,
          0.1061577728392181,
          0.13355931087402645,
          0.16096084890883477,
          0.18836238694364313,
          0.21576392497845148,
          0.24316546301325984,
          0.2705670010480682,
          0.29796853908287657,
          0.32537007711768484,
          0.3527716151524932,
          0.3801731531873016,
          0.40757469122211,
          0.43497622925691826,
          0.46237776729172664,
          0.489779305326535,
          0.5171808433613433,
          0.5445823813961517,
          0.57198391943096,
          0.5993854574657683,
          0.6267869955005767,
          0.6541885335353851,
          0.6815900715701935,
          0.7089916096050017,
          0.7363931476398101,
          0.7637946856746185,
          0.8185977617442352,
          0.8734008378138519
         ]
        }
       ],
       "layout": {
        "legend": {
         "orientation": "v",
         "tracegroupgap": 0,
         "x": 0.01,
         "xanchor": "left",
         "y": 0.99,
         "yanchor": "top"
        },
        "template": {
         "data": {
          "bar": [
           {
            "error_x": {
             "color": "#2a3f5f"
            },
            "error_y": {
             "color": "#2a3f5f"
            },
            "marker": {
             "line": {
              "color": "#E5ECF6",
              "width": 0.5
             },
             "pattern": {
              "fillmode": "overlay",
              "size": 10,
              "solidity": 0.2
             }
            },
            "type": "bar"
           }
          ],
          "barpolar": [
           {
            "marker": {
             "line": {
              "color": "#E5ECF6",
              "width": 0.5
             },
             "pattern": {
              "fillmode": "overlay",
              "size": 10,
              "solidity": 0.2
             }
            },
            "type": "barpolar"
           }
          ],
          "carpet": [
           {
            "aaxis": {
             "endlinecolor": "#2a3f5f",
             "gridcolor": "white",
             "linecolor": "white",
             "minorgridcolor": "white",
             "startlinecolor": "#2a3f5f"
            },
            "baxis": {
             "endlinecolor": "#2a3f5f",
             "gridcolor": "white",
             "linecolor": "white",
             "minorgridcolor": "white",
             "startlinecolor": "#2a3f5f"
            },
            "type": "carpet"
           }
          ],
          "choropleth": [
           {
            "colorbar": {
             "outlinewidth": 0,
             "ticks": ""
            },
            "type": "choropleth"
           }
          ],
          "contour": [
           {
            "colorbar": {
             "outlinewidth": 0,
             "ticks": ""
            },
            "colorscale": [
             [
              0,
              "#0d0887"
             ],
             [
              0.1111111111111111,
              "#46039f"
             ],
             [
              0.2222222222222222,
              "#7201a8"
             ],
             [
              0.3333333333333333,
              "#9c179e"
             ],
             [
              0.4444444444444444,
              "#bd3786"
             ],
             [
              0.5555555555555556,
              "#d8576b"
             ],
             [
              0.6666666666666666,
              "#ed7953"
             ],
             [
              0.7777777777777778,
              "#fb9f3a"
             ],
             [
              0.8888888888888888,
              "#fdca26"
             ],
             [
              1,
              "#f0f921"
             ]
            ],
            "type": "contour"
           }
          ],
          "contourcarpet": [
           {
            "colorbar": {
             "outlinewidth": 0,
             "ticks": ""
            },
            "type": "contourcarpet"
           }
          ],
          "heatmap": [
           {
            "colorbar": {
             "outlinewidth": 0,
             "ticks": ""
            },
            "colorscale": [
             [
              0,
              "#0d0887"
             ],
             [
              0.1111111111111111,
              "#46039f"
             ],
             [
              0.2222222222222222,
              "#7201a8"
             ],
             [
              0.3333333333333333,
              "#9c179e"
             ],
             [
              0.4444444444444444,
              "#bd3786"
             ],
             [
              0.5555555555555556,
              "#d8576b"
             ],
             [
              0.6666666666666666,
              "#ed7953"
             ],
             [
              0.7777777777777778,
              "#fb9f3a"
             ],
             [
              0.8888888888888888,
              "#fdca26"
             ],
             [
              1,
              "#f0f921"
             ]
            ],
            "type": "heatmap"
           }
          ],
          "heatmapgl": [
           {
            "colorbar": {
             "outlinewidth": 0,
             "ticks": ""
            },
            "colorscale": [
             [
              0,
              "#0d0887"
             ],
             [
              0.1111111111111111,
              "#46039f"
             ],
             [
              0.2222222222222222,
              "#7201a8"
             ],
             [
              0.3333333333333333,
              "#9c179e"
             ],
             [
              0.4444444444444444,
              "#bd3786"
             ],
             [
              0.5555555555555556,
              "#d8576b"
             ],
             [
              0.6666666666666666,
              "#ed7953"
             ],
             [
              0.7777777777777778,
              "#fb9f3a"
             ],
             [
              0.8888888888888888,
              "#fdca26"
             ],
             [
              1,
              "#f0f921"
             ]
            ],
            "type": "heatmapgl"
           }
          ],
          "histogram": [
           {
            "marker": {
             "pattern": {
              "fillmode": "overlay",
              "size": 10,
              "solidity": 0.2
             }
            },
            "type": "histogram"
           }
          ],
          "histogram2d": [
           {
            "colorbar": {
             "outlinewidth": 0,
             "ticks": ""
            },
            "colorscale": [
             [
              0,
              "#0d0887"
             ],
             [
              0.1111111111111111,
              "#46039f"
             ],
             [
              0.2222222222222222,
              "#7201a8"
             ],
             [
              0.3333333333333333,
              "#9c179e"
             ],
             [
              0.4444444444444444,
              "#bd3786"
             ],
             [
              0.5555555555555556,
              "#d8576b"
             ],
             [
              0.6666666666666666,
              "#ed7953"
             ],
             [
              0.7777777777777778,
              "#fb9f3a"
             ],
             [
              0.8888888888888888,
              "#fdca26"
             ],
             [
              1,
              "#f0f921"
             ]
            ],
            "type": "histogram2d"
           }
          ],
          "histogram2dcontour": [
           {
            "colorbar": {
             "outlinewidth": 0,
             "ticks": ""
            },
            "colorscale": [
             [
              0,
              "#0d0887"
             ],
             [
              0.1111111111111111,
              "#46039f"
             ],
             [
              0.2222222222222222,
              "#7201a8"
             ],
             [
              0.3333333333333333,
              "#9c179e"
             ],
             [
              0.4444444444444444,
              "#bd3786"
             ],
             [
              0.5555555555555556,
              "#d8576b"
             ],
             [
              0.6666666666666666,
              "#ed7953"
             ],
             [
              0.7777777777777778,
              "#fb9f3a"
             ],
             [
              0.8888888888888888,
              "#fdca26"
             ],
             [
              1,
              "#f0f921"
             ]
            ],
            "type": "histogram2dcontour"
           }
          ],
          "mesh3d": [
           {
            "colorbar": {
             "outlinewidth": 0,
             "ticks": ""
            },
            "type": "mesh3d"
           }
          ],
          "parcoords": [
           {
            "line": {
             "colorbar": {
              "outlinewidth": 0,
              "ticks": ""
             }
            },
            "type": "parcoords"
           }
          ],
          "pie": [
           {
            "automargin": true,
            "type": "pie"
           }
          ],
          "scatter": [
           {
            "fillpattern": {
             "fillmode": "overlay",
             "size": 10,
             "solidity": 0.2
            },
            "type": "scatter"
           }
          ],
          "scatter3d": [
           {
            "line": {
             "colorbar": {
              "outlinewidth": 0,
              "ticks": ""
             }
            },
            "marker": {
             "colorbar": {
              "outlinewidth": 0,
              "ticks": ""
             }
            },
            "type": "scatter3d"
           }
          ],
          "scattercarpet": [
           {
            "marker": {
             "colorbar": {
              "outlinewidth": 0,
              "ticks": ""
             }
            },
            "type": "scattercarpet"
           }
          ],
          "scattergeo": [
           {
            "marker": {
             "colorbar": {
              "outlinewidth": 0,
              "ticks": ""
             }
            },
            "type": "scattergeo"
           }
          ],
          "scattergl": [
           {
            "marker": {
             "colorbar": {
              "outlinewidth": 0,
              "ticks": ""
             }
            },
            "type": "scattergl"
           }
          ],
          "scattermapbox": [
           {
            "marker": {
             "colorbar": {
              "outlinewidth": 0,
              "ticks": ""
             }
            },
            "type": "scattermapbox"
           }
          ],
          "scatterpolar": [
           {
            "marker": {
             "colorbar": {
              "outlinewidth": 0,
              "ticks": ""
             }
            },
            "type": "scatterpolar"
           }
          ],
          "scatterpolargl": [
           {
            "marker": {
             "colorbar": {
              "outlinewidth": 0,
              "ticks": ""
             }
            },
            "type": "scatterpolargl"
           }
          ],
          "scatterternary": [
           {
            "marker": {
             "colorbar": {
              "outlinewidth": 0,
              "ticks": ""
             }
            },
            "type": "scatterternary"
           }
          ],
          "surface": [
           {
            "colorbar": {
             "outlinewidth": 0,
             "ticks": ""
            },
            "colorscale": [
             [
              0,
              "#0d0887"
             ],
             [
              0.1111111111111111,
              "#46039f"
             ],
             [
              0.2222222222222222,
              "#7201a8"
             ],
             [
              0.3333333333333333,
              "#9c179e"
             ],
             [
              0.4444444444444444,
              "#bd3786"
             ],
             [
              0.5555555555555556,
              "#d8576b"
             ],
             [
              0.6666666666666666,
              "#ed7953"
             ],
             [
              0.7777777777777778,
              "#fb9f3a"
             ],
             [
              0.8888888888888888,
              "#fdca26"
             ],
             [
              1,
              "#f0f921"
             ]
            ],
            "type": "surface"
           }
          ],
          "table": [
           {
            "cells": {
             "fill": {
              "color": "#EBF0F8"
             },
             "line": {
              "color": "white"
             }
            },
            "header": {
             "fill": {
              "color": "#C8D4E3"
             },
             "line": {
              "color": "white"
             }
            },
            "type": "table"
           }
          ]
         },
         "layout": {
          "autosize": true,
          "font": {
           "family": "sans-serif",
           "size": 14
          },
          "hovermode": "closest",
          "margin": {
           "b": 40,
           "l": 50,
           "pad": 4,
           "r": 25,
           "t": 20
          },
          "template": {
           "data": {
            "bar": [
             {
              "error_x": {
               "color": "#2a3f5f"
              },
              "error_y": {
               "color": "#2a3f5f"
              },
              "marker": {
               "line": {
                "color": "white",
                "width": 0.5
               },
               "pattern": {
                "fillmode": "overlay",
                "size": 10,
                "solidity": 0.2
               }
              },
              "type": "bar"
             }
            ],
            "barpolar": [
             {
              "marker": {
               "line": {
                "color": "white",
                "width": 0.5
               },
               "pattern": {
                "fillmode": "overlay",
                "size": 10,
                "solidity": 0.2
               }
              },
              "type": "barpolar"
             }
            ],
            "carpet": [
             {
              "aaxis": {
               "endlinecolor": "#2a3f5f",
               "gridcolor": "#C8D4E3",
               "linecolor": "#C8D4E3",
               "minorgridcolor": "#C8D4E3",
               "startlinecolor": "#2a3f5f"
              },
              "baxis": {
               "endlinecolor": "#2a3f5f",
               "gridcolor": "#C8D4E3",
               "linecolor": "#C8D4E3",
               "minorgridcolor": "#C8D4E3",
               "startlinecolor": "#2a3f5f"
              },
              "type": "carpet"
             }
            ],
            "choropleth": [
             {
              "colorbar": {
               "outlinewidth": 0,
               "ticks": ""
              },
              "type": "choropleth"
             }
            ],
            "contour": [
             {
              "colorbar": {
               "outlinewidth": 0,
               "ticks": ""
              },
              "colorscale": [
               [
                0,
                "#0d0887"
               ],
               [
                0.1111111111111111,
                "#46039f"
               ],
               [
                0.2222222222222222,
                "#7201a8"
               ],
               [
                0.3333333333333333,
                "#9c179e"
               ],
               [
                0.4444444444444444,
                "#bd3786"
               ],
               [
                0.5555555555555556,
                "#d8576b"
               ],
               [
                0.6666666666666666,
                "#ed7953"
               ],
               [
                0.7777777777777778,
                "#fb9f3a"
               ],
               [
                0.8888888888888888,
                "#fdca26"
               ],
               [
                1,
                "#f0f921"
               ]
              ],
              "type": "contour"
             }
            ],
            "contourcarpet": [
             {
              "colorbar": {
               "outlinewidth": 0,
               "ticks": ""
              },
              "type": "contourcarpet"
             }
            ],
            "heatmap": [
             {
              "colorbar": {
               "outlinewidth": 0,
               "ticks": ""
              },
              "colorscale": [
               [
                0,
                "#0d0887"
               ],
               [
                0.1111111111111111,
                "#46039f"
               ],
               [
                0.2222222222222222,
                "#7201a8"
               ],
               [
                0.3333333333333333,
                "#9c179e"
               ],
               [
                0.4444444444444444,
                "#bd3786"
               ],
               [
                0.5555555555555556,
                "#d8576b"
               ],
               [
                0.6666666666666666,
                "#ed7953"
               ],
               [
                0.7777777777777778,
                "#fb9f3a"
               ],
               [
                0.8888888888888888,
                "#fdca26"
               ],
               [
                1,
                "#f0f921"
               ]
              ],
              "type": "heatmap"
             }
            ],
            "heatmapgl": [
             {
              "colorbar": {
               "outlinewidth": 0,
               "ticks": ""
              },
              "colorscale": [
               [
                0,
                "#0d0887"
               ],
               [
                0.1111111111111111,
                "#46039f"
               ],
               [
                0.2222222222222222,
                "#7201a8"
               ],
               [
                0.3333333333333333,
                "#9c179e"
               ],
               [
                0.4444444444444444,
                "#bd3786"
               ],
               [
                0.5555555555555556,
                "#d8576b"
               ],
               [
                0.6666666666666666,
                "#ed7953"
               ],
               [
                0.7777777777777778,
                "#fb9f3a"
               ],
               [
                0.8888888888888888,
                "#fdca26"
               ],
               [
                1,
                "#f0f921"
               ]
              ],
              "type": "heatmapgl"
             }
            ],
            "histogram": [
             {
              "marker": {
               "pattern": {
                "fillmode": "overlay",
                "size": 10,
                "solidity": 0.2
               }
              },
              "type": "histogram"
             }
            ],
            "histogram2d": [
             {
              "colorbar": {
               "outlinewidth": 0,
               "ticks": ""
              },
              "colorscale": [
               [
                0,
                "#0d0887"
               ],
               [
                0.1111111111111111,
                "#46039f"
               ],
               [
                0.2222222222222222,
                "#7201a8"
               ],
               [
                0.3333333333333333,
                "#9c179e"
               ],
               [
                0.4444444444444444,
                "#bd3786"
               ],
               [
                0.5555555555555556,
                "#d8576b"
               ],
               [
                0.6666666666666666,
                "#ed7953"
               ],
               [
                0.7777777777777778,
                "#fb9f3a"
               ],
               [
                0.8888888888888888,
                "#fdca26"
               ],
               [
                1,
                "#f0f921"
               ]
              ],
              "type": "histogram2d"
             }
            ],
            "histogram2dcontour": [
             {
              "colorbar": {
               "outlinewidth": 0,
               "ticks": ""
              },
              "colorscale": [
               [
                0,
                "#0d0887"
               ],
               [
                0.1111111111111111,
                "#46039f"
               ],
               [
                0.2222222222222222,
                "#7201a8"
               ],
               [
                0.3333333333333333,
                "#9c179e"
               ],
               [
                0.4444444444444444,
                "#bd3786"
               ],
               [
                0.5555555555555556,
                "#d8576b"
               ],
               [
                0.6666666666666666,
                "#ed7953"
               ],
               [
                0.7777777777777778,
                "#fb9f3a"
               ],
               [
                0.8888888888888888,
                "#fdca26"
               ],
               [
                1,
                "#f0f921"
               ]
              ],
              "type": "histogram2dcontour"
             }
            ],
            "mesh3d": [
             {
              "colorbar": {
               "outlinewidth": 0,
               "ticks": ""
              },
              "type": "mesh3d"
             }
            ],
            "parcoords": [
             {
              "line": {
               "colorbar": {
                "outlinewidth": 0,
                "ticks": ""
               }
              },
              "type": "parcoords"
             }
            ],
            "pie": [
             {
              "automargin": true,
              "type": "pie"
             }
            ],
            "scatter": [
             {
              "fillpattern": {
               "fillmode": "overlay",
               "size": 10,
               "solidity": 0.2
              },
              "type": "scatter"
             }
            ],
            "scatter3d": [
             {
              "line": {
               "colorbar": {
                "outlinewidth": 0,
                "ticks": ""
               }
              },
              "marker": {
               "colorbar": {
                "outlinewidth": 0,
                "ticks": ""
               }
              },
              "type": "scatter3d"
             }
            ],
            "scattercarpet": [
             {
              "marker": {
               "colorbar": {
                "outlinewidth": 0,
                "ticks": ""
               }
              },
              "type": "scattercarpet"
             }
            ],
            "scattergeo": [
             {
              "marker": {
               "colorbar": {
                "outlinewidth": 0,
                "ticks": ""
               }
              },
              "type": "scattergeo"
             }
            ],
            "scattergl": [
             {
              "marker": {
               "colorbar": {
                "outlinewidth": 0,
                "ticks": ""
               }
              },
              "type": "scattergl"
             }
            ],
            "scattermapbox": [
             {
              "marker": {
               "colorbar": {
                "outlinewidth": 0,
                "ticks": ""
               }
              },
              "type": "scattermapbox"
             }
            ],
            "scatterpolar": [
             {
              "marker": {
               "colorbar": {
                "outlinewidth": 0,
                "ticks": ""
               }
              },
              "type": "scatterpolar"
             }
            ],
            "scatterpolargl": [
             {
              "marker": {
               "colorbar": {
                "outlinewidth": 0,
                "ticks": ""
               }
              },
              "type": "scatterpolargl"
             }
            ],
            "scatterternary": [
             {
              "marker": {
               "colorbar": {
                "outlinewidth": 0,
                "ticks": ""
               }
              },
              "type": "scatterternary"
             }
            ],
            "surface": [
             {
              "colorbar": {
               "outlinewidth": 0,
               "ticks": ""
              },
              "colorscale": [
               [
                0,
                "#0d0887"
               ],
               [
                0.1111111111111111,
                "#46039f"
               ],
               [
                0.2222222222222222,
                "#7201a8"
               ],
               [
                0.3333333333333333,
                "#9c179e"
               ],
               [
                0.4444444444444444,
                "#bd3786"
               ],
               [
                0.5555555555555556,
                "#d8576b"
               ],
               [
                0.6666666666666666,
                "#ed7953"
               ],
               [
                0.7777777777777778,
                "#fb9f3a"
               ],
               [
                0.8888888888888888,
                "#fdca26"
               ],
               [
                1,
                "#f0f921"
               ]
              ],
              "type": "surface"
             }
            ],
            "table": [
             {
              "cells": {
               "fill": {
                "color": "#EBF0F8"
               },
               "line": {
                "color": "white"
               }
              },
              "header": {
               "fill": {
                "color": "#C8D4E3"
               },
               "line": {
                "color": "white"
               }
              },
              "type": "table"
             }
            ]
           },
           "layout": {
            "annotationdefaults": {
             "arrowcolor": "#2a3f5f",
             "arrowhead": 0,
             "arrowwidth": 1
            },
            "autotypenumbers": "strict",
            "coloraxis": {
             "colorbar": {
              "outlinewidth": 0,
              "ticks": ""
             }
            },
            "colorscale": {
             "diverging": [
              [
               0,
               "#8e0152"
              ],
              [
               0.1,
               "#c51b7d"
              ],
              [
               0.2,
               "#de77ae"
              ],
              [
               0.3,
               "#f1b6da"
              ],
              [
               0.4,
               "#fde0ef"
              ],
              [
               0.5,
               "#f7f7f7"
              ],
              [
               0.6,
               "#e6f5d0"
              ],
              [
               0.7,
               "#b8e186"
              ],
              [
               0.8,
               "#7fbc41"
              ],
              [
               0.9,
               "#4d9221"
              ],
              [
               1,
               "#276419"
              ]
             ],
             "sequential": [
              [
               0,
               "#0d0887"
              ],
              [
               0.1111111111111111,
               "#46039f"
              ],
              [
               0.2222222222222222,
               "#7201a8"
              ],
              [
               0.3333333333333333,
               "#9c179e"
              ],
              [
               0.4444444444444444,
               "#bd3786"
              ],
              [
               0.5555555555555556,
               "#d8576b"
              ],
              [
               0.6666666666666666,
               "#ed7953"
              ],
              [
               0.7777777777777778,
               "#fb9f3a"
              ],
              [
               0.8888888888888888,
               "#fdca26"
              ],
              [
               1,
               "#f0f921"
              ]
             ],
             "sequentialminus": [
              [
               0,
               "#0d0887"
              ],
              [
               0.1111111111111111,
               "#46039f"
              ],
              [
               0.2222222222222222,
               "#7201a8"
              ],
              [
               0.3333333333333333,
               "#9c179e"
              ],
              [
               0.4444444444444444,
               "#bd3786"
              ],
              [
               0.5555555555555556,
               "#d8576b"
              ],
              [
               0.6666666666666666,
               "#ed7953"
              ],
              [
               0.7777777777777778,
               "#fb9f3a"
              ],
              [
               0.8888888888888888,
               "#fdca26"
              ],
              [
               1,
               "#f0f921"
              ]
             ]
            },
            "colorway": [
             "#636efa",
             "#EF553B",
             "#00cc96",
             "#ab63fa",
             "#FFA15A",
             "#19d3f3",
             "#FF6692",
             "#B6E880",
             "#FF97FF",
             "#FECB52"
            ],
            "font": {
             "color": "#2a3f5f"
            },
            "geo": {
             "bgcolor": "white",
             "lakecolor": "white",
             "landcolor": "white",
             "showlakes": true,
             "showland": true,
             "subunitcolor": "#C8D4E3"
            },
            "hoverlabel": {
             "align": "left"
            },
            "hovermode": "closest",
            "mapbox": {
             "style": "light"
            },
            "paper_bgcolor": "white",
            "plot_bgcolor": "white",
            "polar": {
             "angularaxis": {
              "gridcolor": "#EBF0F8",
              "linecolor": "#EBF0F8",
              "ticks": ""
             },
             "bgcolor": "white",
             "radialaxis": {
              "gridcolor": "#EBF0F8",
              "linecolor": "#EBF0F8",
              "ticks": ""
             }
            },
            "scene": {
             "xaxis": {
              "backgroundcolor": "white",
              "gridcolor": "#DFE8F3",
              "gridwidth": 2,
              "linecolor": "#EBF0F8",
              "showbackground": true,
              "ticks": "",
              "zerolinecolor": "#EBF0F8"
             },
             "yaxis": {
              "backgroundcolor": "white",
              "gridcolor": "#DFE8F3",
              "gridwidth": 2,
              "linecolor": "#EBF0F8",
              "showbackground": true,
              "ticks": "",
              "zerolinecolor": "#EBF0F8"
             },
             "zaxis": {
              "backgroundcolor": "white",
              "gridcolor": "#DFE8F3",
              "gridwidth": 2,
              "linecolor": "#EBF0F8",
              "showbackground": true,
              "ticks": "",
              "zerolinecolor": "#EBF0F8"
             }
            },
            "shapedefaults": {
             "line": {
              "color": "#2a3f5f"
             }
            },
            "ternary": {
             "aaxis": {
              "gridcolor": "#DFE8F3",
              "linecolor": "#A2B1C6",
              "ticks": ""
             },
             "baxis": {
              "gridcolor": "#DFE8F3",
              "linecolor": "#A2B1C6",
              "ticks": ""
             },
             "bgcolor": "white",
             "caxis": {
              "gridcolor": "#DFE8F3",
              "linecolor": "#A2B1C6",
              "ticks": ""
             }
            },
            "title": {
             "x": 0.05
            },
            "xaxis": {
             "automargin": true,
             "gridcolor": "#EBF0F8",
             "linecolor": "#EBF0F8",
             "ticks": "",
             "title": {
              "standoff": 15
             },
             "zerolinecolor": "#EBF0F8",
             "zerolinewidth": 2
            },
            "yaxis": {
             "automargin": true,
             "gridcolor": "#EBF0F8",
             "linecolor": "#EBF0F8",
             "ticks": "",
             "title": {
              "standoff": 15
             },
             "zerolinecolor": "#EBF0F8",
             "zerolinewidth": 2
            }
           }
          },
          "xaxis": {
           "automargin": true,
           "autorange": false,
           "fixedrange": true,
           "linecolor": "#444",
           "linewidth": 2,
           "minor": {
            "tickmode": "linear",
            "ticks": "outside"
           },
           "mirror": true,
           "showline": true,
           "tickmode": "linear",
           "ticks": "outside",
           "zeroline": false
          },
          "yaxis": {
           "automargin": true,
           "autorange": false,
           "fixedrange": true,
           "linecolor": "#444",
           "linewidth": 2,
           "minor": {
            "tickmode": "linear",
            "ticks": "outside"
           },
           "mirror": true,
           "showline": true,
           "tickmode": "linear",
           "ticks": "outside",
           "zeroline": false
          }
         }
        },
        "xaxis": {
         "dtick": 5,
         "minor": {
          "dtick": 1,
          "tick0": 0
         },
         "range": [
          0,
          30.2
         ],
         "tick0": 0,
         "title": {
          "text": "challenge rating"
         }
        },
        "yaxis": {
         "dtick": 0.2,
         "minor": {
          "dtick": 0.1,
          "tick0": 0
         },
         "range": [
          -0.05,
          1.05
         ],
         "tick0": 0,
         "title": {
          "text": "proficiency probability"
         }
        }
       }
      }
     },
     "metadata": {},
     "output_type": "display_data"
    }
   ],
   "source": [
    "# Ability score modifier\n",
    "columns = ['Str','Dex','Con','Int','Wis','Cha']\n",
    "colors = ['#d62728','#9467bd','#8c564b','#1f77b4','#2ca02c','#ff7f0e']\n",
    "\n",
    "#df1 = df0[df0['Category'].isin(['generic','legendary','unique']) & df0['CR'].between(1/8, 30)]\n",
    "df1 = df0[df0['CR'].between(1/8, 30)]\n",
    "dfG = df1.groupby('CR').mean().reset_index()\n",
    "\n",
    "fig = go.Figure()\n",
    "\n",
    "for column, color in zip(columns, colors):\n",
    "    # generate custom text\n",
    "    cr_totals = df1.groupby('CR').count()['Book'].to_list()\n",
    "    custom_text = [f'{t}' for t in cr_totals]\n",
    "\n",
    "    # plot data\n",
    "    fig.add_trace(go.Scatter(\n",
    "        x=dfG['CR'],\n",
    "        y=(dfG[f'{column} Save'] - dfG[f'{column} Mod'])/dfG['PB'],\n",
    "        mode='markers', \n",
    "        marker=dict(size=4, color=color),\n",
    "        line_shape='spline',\n",
    "        unselected=dict(marker=dict(opacity=0.0)),\n",
    "        text=custom_text,\n",
    "        showlegend=True,\n",
    "        name=column,\n",
    "        legendgroup=column,\n",
    "        hovertemplate=\n",
    "            '<b>CR:</b> %{x}<br>'+\n",
    "            '<b>Ability:</b> ' + column[0:3] + '<br>'+\n",
    "            '<b>Probability:</b> %{y:.2f} (out of %{text})'+\n",
    "            '<extra></extra>'\n",
    "    ))\n",
    "\n",
    "    # add fit line\n",
    "    coefs = np.polyfit(dfG['CR'], (dfG[f'{column} Save'] - dfG[f'{column} Mod'])/dfG['PB'], 1)\n",
    "    poly = np.poly1d(coefs)\n",
    "    fig.add_trace(go.Scatter(\n",
    "        x=dfG['CR'],\n",
    "        y=poly(dfG['CR']),\n",
    "        mode='lines', \n",
    "        line=dict(color=color, dash='solid'),\n",
    "        unselected=dict(marker=dict(opacity=0.0)),\n",
    "        showlegend=False,\n",
    "        legendgroup=column,\n",
    "        legendgrouptitle_text='fit',\n",
    "        hoverinfo='skip',\n",
    "    ))\n",
    "\n",
    "# save large format figure\n",
    "fig.update_layout(\n",
    "    template=TFB_TEMPLATE,\n",
    "    xaxis=dict(\n",
    "        title_text='challenge rating',\n",
    "        range=[0.0, 30.2],\n",
    "        tick0=0, dtick=5,\n",
    "        minor=dict(tick0=0, dtick=1),\n",
    "    ),\n",
    "    yaxis=dict(\n",
    "        title_text='proficiency probability',\n",
    "        range=[-0.05, 1.05],\n",
    "        tick0=0, dtick=0.2,\n",
    "        minor=dict(tick0=0, dtick=0.1),\n",
    "    ),\n",
    "    legend=dict(\n",
    "        xanchor='left', yanchor='top',\n",
    "        x=0.01, y=0.99,\n",
    "        orientation='v',\n",
    "        tracegroupgap=0,\n",
    "    )\n",
    ")\n",
    "\n",
    "fig.show(config=TFB_CONFIG)"
   ]
  },
  {
   "cell_type": "code",
   "execution_count": 3,
   "metadata": {},
   "outputs": [
    {
     "data": {
      "text/plain": [
       "<matplotlib.legend.Legend at 0x1301755a0>"
      ]
     },
     "execution_count": 3,
     "metadata": {},
     "output_type": "execute_result"
    },
    {
     "data": {
      "image/png": "[encoded data removed]",
      "text/plain": [
       "<Figure size 500x400 with 1 Axes>"
      ]
     },
     "metadata": {
      "needs_background": "light"
     },
     "output_type": "display_data"
    }
   ],
   "source": [
    "# Ability score modifier\n",
    "columns = ['Str Mod','Dex Mod','Con Mod','Int Mod','Wis Mod','Cha Mod']\n",
    "colors = ['#d62728','#9467bd','#8c564b','#1f77b4','#2ca02c','#ff7f0e']\n",
    "\n",
    "\n",
    "df1 = df0[df0['CR'].between(1, 30)]\n",
    "df1.loc[:,'CR'] = 2 + 3*np.floor((df1['CR'] - 1)/3.0)\n",
    "dfG = df1.groupby('CR').mean()\n",
    "\n",
    "fig = plt.figure(figsize=FSIZE, dpi=FDPI, tight_layout=True)\n",
    "ax = plt.axes()\n",
    "\n",
    "x = dfG.index.to_series()\n",
    "for column, c in zip(columns, colors):\n",
    "    coefs = np.polyfit(x, dfG[column], 1)\n",
    "    #print(column, coefs)\n",
    "    poly = np.poly1d(coefs)\n",
    "    ax.scatter(dfG.index.to_series(), dfG[column], color=c)\n",
    "    ax.plot(x, poly(x), '-', label=column, color=c)\n",
    "\n",
    "column = 'Ave Mod'\n",
    "coefs = np.polyfit(x, dfG[column], 1)\n",
    "poly = np.poly1d(coefs)\n",
    "ax.scatter(dfG.index.to_series(), dfG[column], color='black')\n",
    "ax.plot(x, poly(x), '-', label=column, color='black')\n",
    "\n",
    "column = 'AC - 13'\n",
    "ax.plot(dfD['CR'], dfD['AC'] - 13, '--', label=column, color='black')\n",
    "\n",
    "ax.set(xlim=[-1,31], ylim=[-3,10], xlabel='CR', ylabel='Ability Score Modifier')\n",
    "ax.xaxis.set_major_locator(MultipleLocator(5))\n",
    "ax.xaxis.set_major_formatter(FormatStrFormatter('%d'))\n",
    "ax.xaxis.set_minor_locator(MultipleLocator(1))\n",
    "\n",
    "ax.yaxis.set_major_locator(MultipleLocator(5))\n",
    "ax.yaxis.set_major_formatter(FormatStrFormatter('%d'))\n",
    "ax.yaxis.set_minor_locator(MultipleLocator(1))\n",
    "ax.grid(which='major', axis='both', alpha=0.4)\n",
    "ax.label_outer()\n",
    "ax.legend()\n",
    "\n",
    "#if SAVEFIGS: plt.savefig('./monster-ability-score-modifier-trends.svg', metadata=METADATA)"
   ]
  },
  {
   "cell_type": "code",
   "execution_count": 3,
   "metadata": {},
   "outputs": [
    {
     "data": {
      "text/plain": [
       "<matplotlib.legend.Legend at 0x13046b1c0>"
      ]
     },
     "execution_count": 3,
     "metadata": {},
     "output_type": "execute_result"
    },
    {
     "data": {
      "image/png": "[encoded data removed]",
      "text/plain": [
       "<Figure size 500x400 with 1 Axes>"
      ]
     },
     "metadata": {
      "needs_background": "light"
     },
     "output_type": "display_data"
    }
   ],
   "source": [
    "# Saving throw modifier\n",
    "columns = ['Str Save','Dex Save','Con Save','Int Save','Wis Save','Cha Save']\n",
    "colors = ['#d62728','#9467bd','#8c564b','#1f77b4','#2ca02c','#ff7f0e']\n",
    "\n",
    "\n",
    "df1 = df0[df0['Category'].isin(['generic','legendary','unique']) & df0['CR'].between(1, 27)]\n",
    "df1['CR'] = 2 + 3*np.floor((df1['CR'] - 1)/3.0)\n",
    "dfG = df1.groupby('CR').mean()\n",
    "\n",
    "fig = plt.figure(figsize=FSIZE, dpi=FDPI, tight_layout=True)\n",
    "ax = plt.axes()\n",
    "\n",
    "x = dfG.index.to_series()\n",
    "for column, c in zip(columns, colors):\n",
    "    coefs = np.polyfit(x, dfG[column], 1)\n",
    "    #print(column, coefs)\n",
    "    poly = np.poly1d(coefs)\n",
    "    ax.scatter(dfG.index.to_series(), dfG[column], color=c)\n",
    "    ax.plot(x, poly(x), '-', label=column, color=c)\n",
    "\n",
    "ax.set(xlim=[-1,31], ylim=[-3,15], xlabel='CR', ylabel='Saving Throw Modifier')\n",
    "ax.xaxis.set_major_locator(MultipleLocator(5))\n",
    "ax.xaxis.set_major_formatter(FormatStrFormatter('%d'))\n",
    "ax.xaxis.set_minor_locator(MultipleLocator(1))\n",
    "\n",
    "ax.yaxis.set_major_locator(MultipleLocator(5))\n",
    "ax.yaxis.set_major_formatter(FormatStrFormatter('%d'))\n",
    "ax.yaxis.set_minor_locator(MultipleLocator(1))\n",
    "ax.grid(which='major', axis='both', alpha=0.4)\n",
    "ax.label_outer()\n",
    "ax.legend()\n",
    "\n",
    "#if SAVEFIGS: plt.savefig('./monster-saving-throw-modifier-trends.svg', metadata=METADATA)"
   ]
  },
  {
   "cell_type": "code",
   "execution_count": 4,
   "metadata": {},
   "outputs": [
    {
     "data": {
      "text/plain": [
       "<matplotlib.legend.Legend at 0x13058ecb0>"
      ]
     },
     "execution_count": 4,
     "metadata": {},
     "output_type": "execute_result"
    },
    {
     "data": {
      "image/png": "[encoded data removed]",
      "text/plain": [
       "<Figure size 500x400 with 1 Axes>"
      ]
     },
     "metadata": {
      "needs_background": "light"
     },
     "output_type": "display_data"
    }
   ],
   "source": [
    "# Saving throw proficiency\n",
    "columns = ['Str Prof','Dex Prof','Con Prof','Int Prof','Wis Prof','Cha Prof']\n",
    "colors = ['#d62728','#9467bd','#8c564b','#1f77b4','#2ca02c','#ff7f0e']\n",
    "\n",
    "\n",
    "df1 = df0[df0['Category'].isin(['generic','legendary','unique']) & df0['CR'].between(1, 27)]\n",
    "df1['CR'] = 2 + 3*np.floor((df1['CR'] - 1)/3.0)\n",
    "dfG = df1.groupby('CR').mean()\n",
    "\n",
    "fig = plt.figure(figsize=FSIZE, dpi=FDPI, tight_layout=True)\n",
    "ax = plt.axes()\n",
    "\n",
    "\n",
    "x = dfG.index.to_series()\n",
    "for column, c in zip(columns, colors):\n",
    "    coefs = np.polyfit(x, dfG[column], 1)\n",
    "    #print(column, coefs)\n",
    "    poly = np.poly1d(coefs)\n",
    "    ax.scatter(dfG.index.to_series(), dfG[column], color=c)\n",
    "    ax.plot(x, poly(x), '-', label=column, color=c)\n",
    "\n",
    "ax.set(xlim=[-1,31], ylim=[0,1], xlabel='CR', ylabel='Saving Throw Proficient Probability')\n",
    "ax.xaxis.set_major_locator(MultipleLocator(5))\n",
    "ax.xaxis.set_major_formatter(FormatStrFormatter('%d'))\n",
    "ax.xaxis.set_minor_locator(MultipleLocator(1))\n",
    "\n",
    "ax.yaxis.set_major_locator(MultipleLocator(0.2))\n",
    "ax.yaxis.set_major_formatter(FormatStrFormatter('%.1f'))\n",
    "ax.yaxis.set_minor_locator(MultipleLocator(0.1))\n",
    "ax.grid(which='major', axis='both', alpha=0.4)\n",
    "ax.label_outer()\n",
    "ax.legend()\n",
    "\n",
    "#if SAVEFIGS: plt.savefig('./monster-saving-throw-proficiency-trends.svg', metadata=METADATA)"
   ]
  },
  {
   "cell_type": "code",
   "execution_count": 6,
   "metadata": {},
   "outputs": [
    {
     "data": {
      "text/plain": [
       "<matplotlib.legend.Legend at 0x1307a1900>"
      ]
     },
     "execution_count": 6,
     "metadata": {},
     "output_type": "execute_result"
    },
    {
     "data": {
      "image/png": "[encoded data removed]",
      "text/plain": [
       "<Figure size 500x400 with 1 Axes>"
      ]
     },
     "metadata": {
      "needs_background": "light"
     },
     "output_type": "display_data"
    }
   ],
   "source": [
    "# Saving throw proficiency bonus\n",
    "columns = ['Str Prof','Dex Prof','Con Prof','Int Prof','Wis Prof','Cha Prof']\n",
    "colors = ['#d62728','#9467bd','#8c564b','#1f77b4','#2ca02c','#ff7f0e']\n",
    "\n",
    "\n",
    "df1 = df0[df0['Category'].isin(['generic','legendary','unique']) & df0['CR'].between(1, 27)]\n",
    "df1['CR'] = 2 + 3*np.floor((df1['CR'] - 1)/3.0)\n",
    "dfG = df1.groupby('CR').mean()\n",
    "\n",
    "fig = plt.figure(figsize=FSIZE, dpi=FDPI, tight_layout=True)\n",
    "ax = plt.axes()\n",
    "\n",
    "\n",
    "x = dfG.index.to_series()\n",
    "for column, c in zip(columns, colors):\n",
    "    coefs = np.polyfit(x, dfG[column]*dfG['PB'], 1)\n",
    "    #print(column, coefs)\n",
    "    poly = np.poly1d(coefs)\n",
    "    ax.scatter(dfG.index.to_series(), dfG[column]*dfG['PB'], color=c)\n",
    "    ax.plot(x, poly(x), '-', label=column, color=c)\n",
    "\n",
    "ax.set(xlim=[-1,31], ylim=[-3,10], xlabel='CR', ylabel='Saving Throw Proficiency Bonus')\n",
    "ax.xaxis.set_major_locator(MultipleLocator(5))\n",
    "ax.xaxis.set_major_formatter(FormatStrFormatter('%d'))\n",
    "ax.xaxis.set_minor_locator(MultipleLocator(1))\n",
    "\n",
    "ax.yaxis.set_major_locator(MultipleLocator(5))\n",
    "ax.yaxis.set_major_formatter(FormatStrFormatter('%d'))\n",
    "ax.yaxis.set_minor_locator(MultipleLocator(1))\n",
    "ax.grid(which='major', axis='both', alpha=0.4)\n",
    "ax.label_outer()\n",
    "ax.legend()\n",
    "\n",
    "#if SAVEFIGS: plt.savefig('./monster-saving-throw-proficiency-bonus-trends.svg', metadata=METADATA)"
   ]
  },
  {
   "cell_type": "code",
   "execution_count": 7,
   "metadata": {},
   "outputs": [
    {
     "data": {
      "image/png": "[encoded data removed]",
      "text/plain": [
       "<Figure size 1000x400 with 2 Axes>"
      ]
     },
     "metadata": {
      "needs_background": "light"
     },
     "output_type": "display_data"
    }
   ],
   "source": [
    "# Saving throw bonuses breakdown - horizontal\n",
    "df1 = df0[df0['Category'].isin(['generic','legendary','unique']) & df0['CR'].between(1, 27)]\n",
    "df1['CR'] = 2 + 3*np.floor((df1['CR'] - 1)/3.0)\n",
    "dfG = df1.groupby('CR').mean()\n",
    "\n",
    "rSub = 1; cSub = 2\n",
    "fig = plt.figure(figsize=[FSIZE[0]*cSub,FSIZE[1]*rSub], dpi=FDPI, tight_layout=True)\n",
    "gs = fig.add_gridspec(rSub, cSub, hspace=0.0, wspace=0.0)\n",
    "axs = gs.subplots(sharex=True, sharey=True)\n",
    "\n",
    "colors = ['#d62728','#9467bd','#8c564b','#1f77b4','#2ca02c','#ff7f0e']\n",
    "\n",
    "columns = ['Str Mod','Dex Mod','Con Mod','Int Mod','Wis Mod','Cha Mod']\n",
    "# trends\n",
    "ax = axs[0]\n",
    "x = dfG.index.to_series()\n",
    "for column, c in zip(columns, colors):\n",
    "    coefs = np.polyfit(x, dfG[column], 1)\n",
    "    #print(column, coefs)\n",
    "    poly = np.poly1d(coefs)\n",
    "    ax.scatter(dfG.index.to_series(), dfG[column], color=c)\n",
    "    ax.plot(x, poly(x), '-', label=column, color=c)\n",
    "\n",
    "ax.set(ylabel='Saving Throw Bonus', title='Saving Throw Ability Score Modifier')\n",
    "\n",
    "columns = ['Str Prof','Dex Prof','Con Prof','Int Prof','Wis Prof','Cha Prof']\n",
    "# trends\n",
    "ax = axs[1]\n",
    "x = dfG.index.to_series()\n",
    "for column, c in zip(columns, colors):\n",
    "    coefs = np.polyfit(x, dfG[column]*dfG['PB'], 1)\n",
    "    #print(column, coefs)\n",
    "    poly = np.poly1d(coefs)\n",
    "    ax.scatter(dfG.index.to_series(), dfG[column]*dfG['PB'], color=c)\n",
    "    ax.plot(x, poly(x), '-', label=column, color=c)\n",
    "\n",
    "ax.set(ylabel='Saving Throw Bonus', title='Saving Throw Proficiency Bonus')\n",
    "\n",
    "for ax in axs:\n",
    "    ax.set(xlim=[-1,31], ylim=[-2,10], xlabel='CR')\n",
    "    ax.xaxis.set_major_locator(MultipleLocator(5))\n",
    "    ax.xaxis.set_major_formatter(FormatStrFormatter('%d'))\n",
    "    ax.xaxis.set_minor_locator(MultipleLocator(1))\n",
    "\n",
    "    ax.yaxis.set_major_locator(MultipleLocator(5))\n",
    "    ax.yaxis.set_major_formatter(FormatStrFormatter('%d'))\n",
    "    ax.yaxis.set_minor_locator(MultipleLocator(1))\n",
    "    ax.grid(which='major', axis='both', alpha=0.4)\n",
    "    ax.label_outer()\n",
    "    ax.legend()\n",
    "\n",
    "#if SAVEFIGS: plt.savefig('./monster-saving-throw-bonuses-trends-horizontal.svg', metadata=METADATA)"
   ]
  },
  {
   "cell_type": "code",
   "execution_count": 8,
   "metadata": {},
   "outputs": [
    {
     "data": {
      "image/png": "[encoded data removed]",
      "text/plain": [
       "<Figure size 500x800 with 2 Axes>"
      ]
     },
     "metadata": {
      "needs_background": "light"
     },
     "output_type": "display_data"
    }
   ],
   "source": [
    "# Saving throw bonuses breakdown - vertical\n",
    "df1 = df0[df0['Category'].isin(['generic','legendary','unique']) & df0['CR'].between(1, 27)]\n",
    "df1['CR'] = 2 + 3*np.floor((df1['CR'] - 1)/3.0)\n",
    "dfG = df1.groupby('CR').mean()\n",
    "\n",
    "rSub = 2; cSub = 1\n",
    "fig = plt.figure(figsize=[FSIZE[0]*cSub,FSIZE[1]*rSub], dpi=FDPI, tight_layout=True)\n",
    "gs = fig.add_gridspec(rSub, cSub, hspace=0.0, wspace=0.0)\n",
    "axs = gs.subplots(sharex=True, sharey=True)\n",
    "\n",
    "colors = ['#d62728','#9467bd','#8c564b','#1f77b4','#2ca02c','#ff7f0e']\n",
    "\n",
    "columns = ['Str Mod','Dex Mod','Con Mod','Int Mod','Wis Mod','Cha Mod']\n",
    "# trends\n",
    "ax = axs[0]\n",
    "x = dfG.index.to_series()\n",
    "for column, c in zip(columns, colors):\n",
    "    coefs = np.polyfit(x, dfG[column], 1)\n",
    "    #print(column, coefs)\n",
    "    poly = np.poly1d(coefs)\n",
    "    ax.scatter(dfG.index.to_series(), dfG[column], color=c)\n",
    "    ax.plot(x, poly(x), '-', label=column, color=c)\n",
    "\n",
    "ax.set(title='Saving Throw Bonus', ylabel='Saving Throw Ability Score Modifier')\n",
    "\n",
    "columns = ['Str Prof','Dex Prof','Con Prof','Int Prof','Wis Prof','Cha Prof']\n",
    "# trends\n",
    "ax = axs[1]\n",
    "x = dfG.index.to_series()\n",
    "for column, c in zip(columns, colors):\n",
    "    coefs = np.polyfit(x, dfG[column]*dfG['PB'], 1)\n",
    "    #print(column, coefs)\n",
    "    poly = np.poly1d(coefs)\n",
    "    ax.scatter(dfG.index.to_series(), dfG[column]*dfG['PB'], color=c)\n",
    "    ax.plot(x, poly(x), '-', label=column, color=c)\n",
    "\n",
    "ax.set(ylabel='Saving Throw Proficiency Bonus')\n",
    "\n",
    "for ax in axs:\n",
    "    ax.set(xlim=[-1,31], ylim=[-2,10], xlabel='CR')\n",
    "    ax.xaxis.set_major_locator(MultipleLocator(5))\n",
    "    ax.xaxis.set_major_formatter(FormatStrFormatter('%d'))\n",
    "    ax.xaxis.set_minor_locator(MultipleLocator(1))\n",
    "\n",
    "    ax.yaxis.set_major_locator(MultipleLocator(5))\n",
    "    ax.yaxis.set_major_formatter(FormatStrFormatter('%d'))\n",
    "    ax.yaxis.set_minor_locator(MultipleLocator(1))\n",
    "    ax.grid(which='major', axis='both', alpha=0.4)\n",
    "    ax.label_outer()\n",
    "    ax.legend()\n",
    "\n",
    "#if SAVEFIGS: plt.savefig('./monster-saving-throw-bonuses-trends-vertical.svg', metadata=METADATA)"
   ]
  },
  {
   "cell_type": "code",
   "execution_count": 17,
   "metadata": {},
   "outputs": [
    {
     "data": {
      "image/png": "[encoded data removed]",
      "text/plain": [
       "<Figure size 500x400 with 1 Axes>"
      ]
     },
     "metadata": {
      "needs_background": "light"
     },
     "output_type": "display_data"
    }
   ],
   "source": [
    "# Saving throw modifier by type\n",
    "\n",
    "group = 'Type'\n",
    "column = 'Con Save'\n",
    "\n",
    "df1 = df0[df0['CR'].between(1, 30)]\n",
    "#df1['CR'] = 2 + 3*np.floor((df1['CR'] - 1)/3.0)\n",
    "\n",
    "dfG = df1.groupby('CR').mean()\n",
    "df1[column+' Delta'] =  df1.apply(lambda row: row[column] - dfG.loc[row['CR'], column], axis=1)\n",
    "\n",
    "groups = df1[group].sort_values(ascending=False).unique()\n",
    "\n",
    "fig = plt.figure(figsize=FSIZE, dpi=FDPI, tight_layout=True)\n",
    "ax = plt.axes()\n",
    "bp = ax.boxplot(tuple(df1[df1[group].isin([g])][column+' Delta'] for g in groups), \n",
    "    labels=groups, showmeans=True, vert=False, showfliers=False, patch_artist=False)"
   ]
  },
  {
   "cell_type": "code",
   "execution_count": 18,
   "metadata": {},
   "outputs": [
    {
     "data": {
      "text/plain": [
       "[Text(0.5, 0, 'Con Save Delta')]"
      ]
     },
     "execution_count": 18,
     "metadata": {},
     "output_type": "execute_result"
    },
    {
     "data": {
      "image/png": "[encoded data removed]",
      "text/plain": [
       "<Figure size 500x400 with 1 Axes>"
      ]
     },
     "metadata": {
      "needs_background": "light"
     },
     "output_type": "display_data"
    }
   ],
   "source": [
    "# Saving throw modifier by type\n",
    "group = 'Size'\n",
    "column = 'Con Save'\n",
    "\n",
    "df1 = df0[df0['CR'].between(1, 30)]\n",
    "#df1['CR'] = 2 + 3*np.floor((df1['CR'] - 1)/3.0)\n",
    "\n",
    "dfG = df1.groupby('CR').mean()\n",
    "df1[column+' Delta'] =  df1.apply(lambda row: row[column] - dfG.loc[row['CR'], column], axis=1)\n",
    "\n",
    "groups = df1[group].sort_values(ascending=False).unique()\n",
    "\n",
    "fig = plt.figure(figsize=FSIZE, dpi=FDPI, tight_layout=True)\n",
    "ax = plt.axes()\n",
    "bp = ax.boxplot(tuple(df1[df1[group].isin([g])][column+' Delta'] for g in groups), \n",
    "    labels=groups, showmeans=True, vert=False, showfliers=False, patch_artist=False)\n",
    "ax.set(xlabel=column+' Delta')"
   ]
  },
  {
   "cell_type": "code",
   "execution_count": 19,
   "metadata": {},
   "outputs": [
    {
     "name": "stdout",
     "output_type": "stream",
     "text": [
      "                            OLS Regression Results                            \n",
      "==============================================================================\n",
      "Dep. Variable:                    Con   R-squared:                       0.709\n",
      "Model:                            OLS   Adj. R-squared:                  0.705\n",
      "Method:                 Least Squares   F-statistic:                     219.8\n",
      "Date:                Fri, 30 Dec 2022   Prob (F-statistic):               0.00\n",
      "Time:                        23:32:15   Log-Likelihood:                -4221.7\n",
      "No. Observations:                1920   AIC:                             8487.\n",
      "Df Residuals:                    1898   BIC:                             8610.\n",
      "Df Model:                          21                                         \n",
      "Covariance Type:            nonrobust                                         \n",
      "========================================================================================\n",
      "                           coef    std err          t      P>|t|      [0.025      0.975]\n",
      "----------------------------------------------------------------------------------------\n",
      "const                   11.6219      0.250     46.558      0.000      11.132      12.111\n",
      "CR                       0.3491      0.012     29.662      0.000       0.326       0.372\n",
      "Size_Gargantuan          4.7129      0.379     12.448      0.000       3.970       5.455\n",
      "Size_Huge                3.8362      0.312     12.297      0.000       3.224       4.448\n",
      "Size_Large               2.1273      0.277      7.687      0.000       1.585       2.670\n",
      "Size_Medium              0.6754      0.264      2.561      0.011       0.158       1.193\n",
      "Size_Medium or Small     0.5839      0.436      1.340      0.180      -0.271       1.438\n",
      "Size_Small               0.1269      0.305      0.416      0.677      -0.471       0.724\n",
      "Size_Small or Medium     0.3828      1.952      0.196      0.845      -3.446       4.212\n",
      "Size_Tiny               -0.8234      0.346     -2.380      0.017      -1.502      -0.145\n",
      "Type_Aberration          0.4589      0.204      2.254      0.024       0.060       0.858\n",
      "Type_Beast              -0.7071      0.185     -3.825      0.000      -1.070      -0.345\n",
      "Type_Celestial           0.9771      0.389      2.513      0.012       0.215       1.740\n",
      "Type_Construct           1.2771      0.204      6.270      0.000       0.878       1.677\n",
      "Type_Dragon              1.4873      0.225      6.609      0.000       1.046       1.929\n",
      "Type_Elemental           1.7771      0.261      6.820      0.000       1.266       2.288\n",
      "Type_Fey                 0.4022      0.258      1.560      0.119      -0.103       0.908\n",
      "Type_Fiend               1.2167      0.184      6.621      0.000       0.856       1.577\n",
      "Type_Giant               1.8981      0.279      6.808      0.000       1.351       2.445\n",
      "Type_Humanoid           -0.0920      0.128     -0.718      0.473      -0.343       0.159\n",
      "Type_Monstrosity         0.4217      0.150      2.819      0.005       0.128       0.715\n",
      "Type_Ooze                2.1312      0.475      4.487      0.000       1.200       3.063\n",
      "Type_Plant               0.1173      0.289      0.406      0.685      -0.449       0.684\n",
      "Type_Undead              0.2563      0.185      1.388      0.165      -0.106       0.618\n",
      "==============================================================================\n",
      "Omnibus:                       21.969   Durbin-Watson:                   1.638\n",
      "Prob(Omnibus):                  0.000   Jarque-Bera (JB):               28.167\n",
      "Skew:                          -0.161   Prob(JB):                     7.65e-07\n",
      "Kurtosis:                       3.499   Cond. No.                     4.65e+16\n",
      "==============================================================================\n",
      "\n",
      "Notes:\n",
      "[1] Standard Errors assume that the covariance matrix of the errors is correctly specified.\n",
      "[2] The smallest eigenvalue is 6.54e-29. This might indicate that there are\n",
      "strong multicollinearity problems or that the design matrix is singular.\n"
     ]
    }
   ],
   "source": [
    "import warnings\n",
    "warnings.filterwarnings('ignore')\n",
    "import pandas as pd\n",
    "import numpy as np\n",
    "import seaborn as sns\n",
    "import matplotlib.pyplot as plt\n",
    "import statsmodels.api as sm\n",
    "from sklearn.model_selection import train_test_split\n",
    "from sklearn.linear_model import LinearRegression\n",
    "\n",
    "yCol = 'Con'\n",
    "xCols = ['CR','Size','Type']\n",
    "aCols = [yCol] + xCols\n",
    "df1 = df0[aCols]\n",
    "X = pd.get_dummies(data=df1[xCols], drop_first=False)\n",
    "Y = df1[yCol]\n",
    "\n",
    "model = LinearRegression()\n",
    "model.fit(X, Y)\n",
    "\n",
    "coeff_parameter = pd.DataFrame(model.coef_, X.columns, columns=['Coefficient'])\n",
    "\n",
    "# generate report\n",
    "X_Sm = sm.add_constant(X)\n",
    "ls = sm.OLS(Y, X_Sm).fit()\n",
    "print(ls.summary())\n"
   ]
  },
  {
   "cell_type": "code",
   "execution_count": 20,
   "metadata": {},
   "outputs": [
    {
     "name": "stdout",
     "output_type": "stream",
     "text": [
      "13.904780048754116\n"
     ]
    },
    {
     "data": {
      "text/html": [
       "<div>\n",
       "<style scoped>\n",
       "    .dataframe tbody tr th:only-of-type {\n",
       "        vertical-align: middle;\n",
       "    }\n",
       "\n",
       "    .dataframe tbody tr th {\n",
       "        vertical-align: top;\n",
       "    }\n",
       "\n",
       "    .dataframe thead th {\n",
       "        text-align: right;\n",
       "    }\n",
       "</style>\n",
       "<table border=\"1\" class=\"dataframe\">\n",
       "  <thead>\n",
       "    <tr style=\"text-align: right;\">\n",
       "      <th></th>\n",
       "      <th>Coefficient</th>\n",
       "    </tr>\n",
       "  </thead>\n",
       "  <tbody>\n",
       "    <tr>\n",
       "      <th>CR</th>\n",
       "      <td>0.349077</td>\n",
       "    </tr>\n",
       "    <tr>\n",
       "      <th>Size_Gargantuan</th>\n",
       "      <td>3.260112</td>\n",
       "    </tr>\n",
       "    <tr>\n",
       "      <th>Size_Huge</th>\n",
       "      <td>2.383425</td>\n",
       "    </tr>\n",
       "    <tr>\n",
       "      <th>Size_Large</th>\n",
       "      <td>0.674584</td>\n",
       "    </tr>\n",
       "    <tr>\n",
       "      <th>Size_Medium</th>\n",
       "      <td>-0.777350</td>\n",
       "    </tr>\n",
       "    <tr>\n",
       "      <th>Size_Medium or Small</th>\n",
       "      <td>-0.868838</td>\n",
       "    </tr>\n",
       "    <tr>\n",
       "      <th>Size_Small</th>\n",
       "      <td>-1.325864</td>\n",
       "    </tr>\n",
       "    <tr>\n",
       "      <th>Size_Small or Medium</th>\n",
       "      <td>-1.069923</td>\n",
       "    </tr>\n",
       "    <tr>\n",
       "      <th>Size_Tiny</th>\n",
       "      <td>-2.276145</td>\n",
       "    </tr>\n",
       "    <tr>\n",
       "      <th>Type_Aberration</th>\n",
       "      <td>-0.371206</td>\n",
       "    </tr>\n",
       "    <tr>\n",
       "      <th>Type_Beast</th>\n",
       "      <td>-1.537215</td>\n",
       "    </tr>\n",
       "    <tr>\n",
       "      <th>Type_Celestial</th>\n",
       "      <td>0.147004</td>\n",
       "    </tr>\n",
       "    <tr>\n",
       "      <th>Type_Construct</th>\n",
       "      <td>0.446984</td>\n",
       "    </tr>\n",
       "    <tr>\n",
       "      <th>Type_Dragon</th>\n",
       "      <td>0.657125</td>\n",
       "    </tr>\n",
       "    <tr>\n",
       "      <th>Type_Elemental</th>\n",
       "      <td>0.946995</td>\n",
       "    </tr>\n",
       "    <tr>\n",
       "      <th>Type_Fey</th>\n",
       "      <td>-0.427893</td>\n",
       "    </tr>\n",
       "    <tr>\n",
       "      <th>Type_Fiend</th>\n",
       "      <td>0.386581</td>\n",
       "    </tr>\n",
       "    <tr>\n",
       "      <th>Type_Giant</th>\n",
       "      <td>1.067948</td>\n",
       "    </tr>\n",
       "    <tr>\n",
       "      <th>Type_Humanoid</th>\n",
       "      <td>-0.922127</td>\n",
       "    </tr>\n",
       "    <tr>\n",
       "      <th>Type_Monstrosity</th>\n",
       "      <td>-0.408467</td>\n",
       "    </tr>\n",
       "    <tr>\n",
       "      <th>Type_Ooze</th>\n",
       "      <td>1.301017</td>\n",
       "    </tr>\n",
       "    <tr>\n",
       "      <th>Type_Plant</th>\n",
       "      <td>-0.712874</td>\n",
       "    </tr>\n",
       "    <tr>\n",
       "      <th>Type_Undead</th>\n",
       "      <td>-0.573874</td>\n",
       "    </tr>\n",
       "  </tbody>\n",
       "</table>\n",
       "</div>"
      ],
      "text/plain": [
       "                      Coefficient\n",
       "CR                       0.349077\n",
       "Size_Gargantuan          3.260112\n",
       "Size_Huge                2.383425\n",
       "Size_Large               0.674584\n",
       "Size_Medium             -0.777350\n",
       "Size_Medium or Small    -0.868838\n",
       "Size_Small              -1.325864\n",
       "Size_Small or Medium    -1.069923\n",
       "Size_Tiny               -2.276145\n",
       "Type_Aberration         -0.371206\n",
       "Type_Beast              -1.537215\n",
       "Type_Celestial           0.147004\n",
       "Type_Construct           0.446984\n",
       "Type_Dragon              0.657125\n",
       "Type_Elemental           0.946995\n",
       "Type_Fey                -0.427893\n",
       "Type_Fiend               0.386581\n",
       "Type_Giant               1.067948\n",
       "Type_Humanoid           -0.922127\n",
       "Type_Monstrosity        -0.408467\n",
       "Type_Ooze                1.301017\n",
       "Type_Plant              -0.712874\n",
       "Type_Undead             -0.573874"
      ]
     },
     "execution_count": 20,
     "metadata": {},
     "output_type": "execute_result"
    }
   ],
   "source": [
    "# print the intercept\n",
    "print(model.intercept_)\n",
    "coeff_parameter = pd.DataFrame(model.coef_, X.columns, columns=['Coefficient'])\n",
    "coeff_parameter"
   ]
  },
  {
   "cell_type": "code",
   "execution_count": 21,
   "metadata": {},
   "outputs": [
    {
     "ename": "TypeError",
     "evalue": "regplot() takes from 0 to 1 positional arguments but 2 were given",
     "output_type": "error",
     "traceback": [
      "\u001b[0;31m---------------------------------------------------------------------------\u001b[0m",
      "\u001b[0;31mTypeError\u001b[0m                                 Traceback (most recent call last)",
      "\u001b[1;32m/Users/tom/Desktop/the-finished-book/_monsters/monster-saving-throws/monster-saving-throws-2-analysis.ipynb Cell 17\u001b[0m in \u001b[0;36m<cell line: 1>\u001b[0;34m()\u001b[0m\n\u001b[0;32m----> <a href='vscode-notebook-cell:/Users/tom/Desktop/the-finished-book/_monsters/monster-saving-throws/monster-saving-throws-2-analysis.ipynb#X14sZmlsZQ%3D%3D?line=0'>1</a>\u001b[0m sns\u001b[39m.\u001b[39;49mregplot(Y, model\u001b[39m.\u001b[39;49mpredict(X))\n",
      "\u001b[0;31mTypeError\u001b[0m: regplot() takes from 0 to 1 positional arguments but 2 were given"
     ]
    }
   ],
   "source": [
    "sns.regplot(Y, model.predict(X))"
   ]
  },
  {
   "cell_type": "code",
   "execution_count": 36,
   "metadata": {},
   "outputs": [
    {
     "data": {
      "text/html": [
       "<div>\n",
       "<style scoped>\n",
       "    .dataframe tbody tr th:only-of-type {\n",
       "        vertical-align: middle;\n",
       "    }\n",
       "\n",
       "    .dataframe tbody tr th {\n",
       "        vertical-align: top;\n",
       "    }\n",
       "\n",
       "    .dataframe thead th {\n",
       "        text-align: right;\n",
       "    }\n",
       "</style>\n",
       "<table border=\"1\" class=\"dataframe\">\n",
       "  <thead>\n",
       "    <tr style=\"text-align: right;\">\n",
       "      <th></th>\n",
       "      <th>Coefficient</th>\n",
       "    </tr>\n",
       "  </thead>\n",
       "  <tbody>\n",
       "    <tr>\n",
       "      <th>CR</th>\n",
       "      <td>0.335530</td>\n",
       "    </tr>\n",
       "    <tr>\n",
       "      <th>Size_gargantuan</th>\n",
       "      <td>3.443030</td>\n",
       "    </tr>\n",
       "    <tr>\n",
       "      <th>Size_huge</th>\n",
       "      <td>1.844385</td>\n",
       "    </tr>\n",
       "    <tr>\n",
       "      <th>Size_large</th>\n",
       "      <td>0.226880</td>\n",
       "    </tr>\n",
       "    <tr>\n",
       "      <th>Size_medium</th>\n",
       "      <td>-1.006390</td>\n",
       "    </tr>\n",
       "    <tr>\n",
       "      <th>Size_small</th>\n",
       "      <td>-1.877611</td>\n",
       "    </tr>\n",
       "    <tr>\n",
       "      <th>Size_tiny</th>\n",
       "      <td>-2.630295</td>\n",
       "    </tr>\n",
       "    <tr>\n",
       "      <th>Type_aberration</th>\n",
       "      <td>-0.591746</td>\n",
       "    </tr>\n",
       "    <tr>\n",
       "      <th>Type_beast</th>\n",
       "      <td>-1.464212</td>\n",
       "    </tr>\n",
       "    <tr>\n",
       "      <th>Type_celestial</th>\n",
       "      <td>0.779782</td>\n",
       "    </tr>\n",
       "    <tr>\n",
       "      <th>Type_construct</th>\n",
       "      <td>0.408617</td>\n",
       "    </tr>\n",
       "    <tr>\n",
       "      <th>Type_dragon</th>\n",
       "      <td>0.798558</td>\n",
       "    </tr>\n",
       "    <tr>\n",
       "      <th>Type_elemental</th>\n",
       "      <td>0.987496</td>\n",
       "    </tr>\n",
       "    <tr>\n",
       "      <th>Type_fey</th>\n",
       "      <td>-1.000877</td>\n",
       "    </tr>\n",
       "    <tr>\n",
       "      <th>Type_fiend</th>\n",
       "      <td>0.349102</td>\n",
       "    </tr>\n",
       "    <tr>\n",
       "      <th>Type_giant</th>\n",
       "      <td>1.567721</td>\n",
       "    </tr>\n",
       "    <tr>\n",
       "      <th>Type_humanoid</th>\n",
       "      <td>-0.970070</td>\n",
       "    </tr>\n",
       "    <tr>\n",
       "      <th>Type_monstrosity</th>\n",
       "      <td>-0.448458</td>\n",
       "    </tr>\n",
       "    <tr>\n",
       "      <th>Type_ooze</th>\n",
       "      <td>0.973862</td>\n",
       "    </tr>\n",
       "    <tr>\n",
       "      <th>Type_plant</th>\n",
       "      <td>-0.578513</td>\n",
       "    </tr>\n",
       "    <tr>\n",
       "      <th>Type_undead</th>\n",
       "      <td>-0.811263</td>\n",
       "    </tr>\n",
       "  </tbody>\n",
       "</table>\n",
       "</div>"
      ],
      "text/plain": [
       "                  Coefficient\n",
       "CR                   0.335530\n",
       "Size_gargantuan      3.443030\n",
       "Size_huge            1.844385\n",
       "Size_large           0.226880\n",
       "Size_medium         -1.006390\n",
       "Size_small          -1.877611\n",
       "Size_tiny           -2.630295\n",
       "Type_aberration     -0.591746\n",
       "Type_beast          -1.464212\n",
       "Type_celestial       0.779782\n",
       "Type_construct       0.408617\n",
       "Type_dragon          0.798558\n",
       "Type_elemental       0.987496\n",
       "Type_fey            -1.000877\n",
       "Type_fiend           0.349102\n",
       "Type_giant           1.567721\n",
       "Type_humanoid       -0.970070\n",
       "Type_monstrosity    -0.448458\n",
       "Type_ooze            0.973862\n",
       "Type_plant          -0.578513\n",
       "Type_undead         -0.811263"
      ]
     },
     "execution_count": 36,
     "metadata": {},
     "output_type": "execute_result"
    }
   ],
   "source": [
    "coeff_parameter = pd.DataFrame(model.coef_, X.columns, columns=['Coefficient'])\n",
    "coeff_parameter"
   ]
  },
  {
   "cell_type": "code",
   "execution_count": 66,
   "metadata": {},
   "outputs": [
    {
     "name": "stdout",
     "output_type": "stream",
     "text": [
      "Str: R-squared 0.6962\n",
      "Dex: R-squared 0.2388\n",
      "Con: R-squared 0.7511\n",
      "Int: R-squared 0.5973\n",
      "Wis: R-squared 0.5098\n",
      "Cha: R-squared 0.6383\n"
     ]
    },
    {
     "data": {
      "text/html": [
       "<div>\n",
       "<style scoped>\n",
       "    .dataframe tbody tr th:only-of-type {\n",
       "        vertical-align: middle;\n",
       "    }\n",
       "\n",
       "    .dataframe tbody tr th {\n",
       "        vertical-align: top;\n",
       "    }\n",
       "\n",
       "    .dataframe thead th {\n",
       "        text-align: right;\n",
       "    }\n",
       "</style>\n",
       "<table border=\"1\" class=\"dataframe\">\n",
       "  <thead>\n",
       "    <tr style=\"text-align: right;\">\n",
       "      <th></th>\n",
       "      <th>parameter</th>\n",
       "      <th>Category</th>\n",
       "      <th>Group</th>\n",
       "      <th>Str</th>\n",
       "      <th>Dex</th>\n",
       "      <th>Con</th>\n",
       "      <th>Int</th>\n",
       "      <th>Wis</th>\n",
       "      <th>Cha</th>\n",
       "    </tr>\n",
       "  </thead>\n",
       "  <tbody>\n",
       "    <tr>\n",
       "      <th>0</th>\n",
       "      <td>CR</td>\n",
       "      <td>CR</td>\n",
       "      <td>CR</td>\n",
       "      <td>0.221359</td>\n",
       "      <td>0.211044</td>\n",
       "      <td>0.335530</td>\n",
       "      <td>0.624860</td>\n",
       "      <td>0.423492</td>\n",
       "      <td>0.620412</td>\n",
       "    </tr>\n",
       "    <tr>\n",
       "      <th>1</th>\n",
       "      <td>Size_gargantuan</td>\n",
       "      <td>Size</td>\n",
       "      <td>gargantuan</td>\n",
       "      <td>7.454979</td>\n",
       "      <td>-3.878039</td>\n",
       "      <td>3.443030</td>\n",
       "      <td>-4.841907</td>\n",
       "      <td>-2.234137</td>\n",
       "      <td>-3.763384</td>\n",
       "    </tr>\n",
       "    <tr>\n",
       "      <th>2</th>\n",
       "      <td>Size_huge</td>\n",
       "      <td>Size</td>\n",
       "      <td>huge</td>\n",
       "      <td>5.513188</td>\n",
       "      <td>-2.319997</td>\n",
       "      <td>1.844385</td>\n",
       "      <td>-1.455725</td>\n",
       "      <td>-0.405715</td>\n",
       "      <td>-0.739860</td>\n",
       "    </tr>\n",
       "    <tr>\n",
       "      <th>3</th>\n",
       "      <td>Size_large</td>\n",
       "      <td>Size</td>\n",
       "      <td>large</td>\n",
       "      <td>2.311297</td>\n",
       "      <td>-0.555137</td>\n",
       "      <td>0.226880</td>\n",
       "      <td>0.255062</td>\n",
       "      <td>0.219249</td>\n",
       "      <td>0.213376</td>\n",
       "    </tr>\n",
       "    <tr>\n",
       "      <th>4</th>\n",
       "      <td>Size_medium</td>\n",
       "      <td>Size</td>\n",
       "      <td>medium</td>\n",
       "      <td>-1.184877</td>\n",
       "      <td>0.739394</td>\n",
       "      <td>-1.006390</td>\n",
       "      <td>2.118677</td>\n",
       "      <td>0.904319</td>\n",
       "      <td>1.688216</td>\n",
       "    </tr>\n",
       "    <tr>\n",
       "      <th>5</th>\n",
       "      <td>Size_small</td>\n",
       "      <td>Size</td>\n",
       "      <td>small</td>\n",
       "      <td>-5.325880</td>\n",
       "      <td>1.730754</td>\n",
       "      <td>-1.877611</td>\n",
       "      <td>2.239620</td>\n",
       "      <td>0.174637</td>\n",
       "      <td>1.715319</td>\n",
       "    </tr>\n",
       "    <tr>\n",
       "      <th>6</th>\n",
       "      <td>Size_tiny</td>\n",
       "      <td>Size</td>\n",
       "      <td>tiny</td>\n",
       "      <td>-8.768707</td>\n",
       "      <td>4.283025</td>\n",
       "      <td>-2.630295</td>\n",
       "      <td>1.684274</td>\n",
       "      <td>1.341646</td>\n",
       "      <td>0.886333</td>\n",
       "    </tr>\n",
       "    <tr>\n",
       "      <th>7</th>\n",
       "      <td>Type_aberration</td>\n",
       "      <td>Type</td>\n",
       "      <td>aberration</td>\n",
       "      <td>-1.144502</td>\n",
       "      <td>0.078313</td>\n",
       "      <td>-0.591746</td>\n",
       "      <td>1.721547</td>\n",
       "      <td>0.404819</td>\n",
       "      <td>0.589617</td>\n",
       "    </tr>\n",
       "    <tr>\n",
       "      <th>8</th>\n",
       "      <td>Type_beast</td>\n",
       "      <td>Type</td>\n",
       "      <td>beast</td>\n",
       "      <td>-1.153106</td>\n",
       "      <td>0.785464</td>\n",
       "      <td>-1.464212</td>\n",
       "      <td>-4.086487</td>\n",
       "      <td>0.255827</td>\n",
       "      <td>-2.873522</td>\n",
       "    </tr>\n",
       "    <tr>\n",
       "      <th>9</th>\n",
       "      <td>Type_celestial</td>\n",
       "      <td>Type</td>\n",
       "      <td>celestial</td>\n",
       "      <td>2.682985</td>\n",
       "      <td>2.550160</td>\n",
       "      <td>0.779782</td>\n",
       "      <td>2.564832</td>\n",
       "      <td>4.617474</td>\n",
       "      <td>4.850590</td>\n",
       "    </tr>\n",
       "    <tr>\n",
       "      <th>10</th>\n",
       "      <td>Type_construct</td>\n",
       "      <td>Type</td>\n",
       "      <td>construct</td>\n",
       "      <td>0.715093</td>\n",
       "      <td>-1.060140</td>\n",
       "      <td>0.408617</td>\n",
       "      <td>-3.752025</td>\n",
       "      <td>-2.559075</td>\n",
       "      <td>-5.772802</td>\n",
       "    </tr>\n",
       "    <tr>\n",
       "      <th>11</th>\n",
       "      <td>Type_dragon</td>\n",
       "      <td>Type</td>\n",
       "      <td>dragon</td>\n",
       "      <td>0.823091</td>\n",
       "      <td>-0.053770</td>\n",
       "      <td>0.798558</td>\n",
       "      <td>4.136365</td>\n",
       "      <td>0.797571</td>\n",
       "      <td>4.222859</td>\n",
       "    </tr>\n",
       "    <tr>\n",
       "      <th>12</th>\n",
       "      <td>Type_elemental</td>\n",
       "      <td>Type</td>\n",
       "      <td>elemental</td>\n",
       "      <td>-0.445227</td>\n",
       "      <td>1.545938</td>\n",
       "      <td>0.987496</td>\n",
       "      <td>-1.368628</td>\n",
       "      <td>-0.164860</td>\n",
       "      <td>0.222752</td>\n",
       "    </tr>\n",
       "    <tr>\n",
       "      <th>13</th>\n",
       "      <td>Type_fey</td>\n",
       "      <td>Type</td>\n",
       "      <td>fey</td>\n",
       "      <td>-0.145095</td>\n",
       "      <td>2.121183</td>\n",
       "      <td>-1.000877</td>\n",
       "      <td>2.397066</td>\n",
       "      <td>1.370890</td>\n",
       "      <td>3.764477</td>\n",
       "    </tr>\n",
       "    <tr>\n",
       "      <th>14</th>\n",
       "      <td>Type_fiend</td>\n",
       "      <td>Type</td>\n",
       "      <td>fiend</td>\n",
       "      <td>1.050170</td>\n",
       "      <td>0.543644</td>\n",
       "      <td>0.349102</td>\n",
       "      <td>0.924653</td>\n",
       "      <td>0.138099</td>\n",
       "      <td>1.314880</td>\n",
       "    </tr>\n",
       "    <tr>\n",
       "      <th>15</th>\n",
       "      <td>Type_giant</td>\n",
       "      <td>Type</td>\n",
       "      <td>giant</td>\n",
       "      <td>1.737755</td>\n",
       "      <td>-0.659104</td>\n",
       "      <td>1.567721</td>\n",
       "      <td>0.071134</td>\n",
       "      <td>-1.329822</td>\n",
       "      <td>-0.584910</td>\n",
       "    </tr>\n",
       "    <tr>\n",
       "      <th>16</th>\n",
       "      <td>Type_humanoid</td>\n",
       "      <td>Type</td>\n",
       "      <td>humanoid</td>\n",
       "      <td>-0.798107</td>\n",
       "      <td>0.257375</td>\n",
       "      <td>-0.970070</td>\n",
       "      <td>2.684730</td>\n",
       "      <td>0.575303</td>\n",
       "      <td>1.984860</td>\n",
       "    </tr>\n",
       "    <tr>\n",
       "      <th>17</th>\n",
       "      <td>Type_monstrosity</td>\n",
       "      <td>Type</td>\n",
       "      <td>monstrosity</td>\n",
       "      <td>0.466077</td>\n",
       "      <td>0.495917</td>\n",
       "      <td>-0.448458</td>\n",
       "      <td>-1.454130</td>\n",
       "      <td>0.437079</td>\n",
       "      <td>-0.709384</td>\n",
       "    </tr>\n",
       "    <tr>\n",
       "      <th>18</th>\n",
       "      <td>Type_ooze</td>\n",
       "      <td>Type</td>\n",
       "      <td>ooze</td>\n",
       "      <td>-1.202965</td>\n",
       "      <td>-3.659795</td>\n",
       "      <td>0.973862</td>\n",
       "      <td>-1.600184</td>\n",
       "      <td>-2.834425</td>\n",
       "      <td>-3.290548</td>\n",
       "    </tr>\n",
       "    <tr>\n",
       "      <th>19</th>\n",
       "      <td>Type_plant</td>\n",
       "      <td>Type</td>\n",
       "      <td>plant</td>\n",
       "      <td>-0.993303</td>\n",
       "      <td>-2.510940</td>\n",
       "      <td>-0.578513</td>\n",
       "      <td>-2.180565</td>\n",
       "      <td>-0.784199</td>\n",
       "      <td>-3.526506</td>\n",
       "    </tr>\n",
       "    <tr>\n",
       "      <th>20</th>\n",
       "      <td>Type_undead</td>\n",
       "      <td>Type</td>\n",
       "      <td>undead</td>\n",
       "      <td>-1.592865</td>\n",
       "      <td>-0.434245</td>\n",
       "      <td>-0.811263</td>\n",
       "      <td>-0.058307</td>\n",
       "      <td>-0.924680</td>\n",
       "      <td>-0.192362</td>\n",
       "    </tr>\n",
       "  </tbody>\n",
       "</table>\n",
       "</div>"
      ],
      "text/plain": [
       "           parameter Category        Group       Str       Dex       Con  \\\n",
       "0                 CR       CR           CR  0.221359  0.211044  0.335530   \n",
       "1    Size_gargantuan     Size   gargantuan  7.454979 -3.878039  3.443030   \n",
       "2          Size_huge     Size         huge  5.513188 -2.319997  1.844385   \n",
       "3         Size_large     Size        large  2.311297 -0.555137  0.226880   \n",
       "4        Size_medium     Size       medium -1.184877  0.739394 -1.006390   \n",
       "5         Size_small     Size        small -5.325880  1.730754 -1.877611   \n",
       "6          Size_tiny     Size         tiny -8.768707  4.283025 -2.630295   \n",
       "7    Type_aberration     Type   aberration -1.144502  0.078313 -0.591746   \n",
       "8         Type_beast     Type        beast -1.153106  0.785464 -1.464212   \n",
       "9     Type_celestial     Type    celestial  2.682985  2.550160  0.779782   \n",
       "10    Type_construct     Type    construct  0.715093 -1.060140  0.408617   \n",
       "11       Type_dragon     Type       dragon  0.823091 -0.053770  0.798558   \n",
       "12    Type_elemental     Type    elemental -0.445227  1.545938  0.987496   \n",
       "13          Type_fey     Type          fey -0.145095  2.121183 -1.000877   \n",
       "14        Type_fiend     Type        fiend  1.050170  0.543644  0.349102   \n",
       "15        Type_giant     Type        giant  1.737755 -0.659104  1.567721   \n",
       "16     Type_humanoid     Type     humanoid -0.798107  0.257375 -0.970070   \n",
       "17  Type_monstrosity     Type  monstrosity  0.466077  0.495917 -0.448458   \n",
       "18         Type_ooze     Type         ooze -1.202965 -3.659795  0.973862   \n",
       "19        Type_plant     Type        plant -0.993303 -2.510940 -0.578513   \n",
       "20       Type_undead     Type       undead -1.592865 -0.434245 -0.811263   \n",
       "\n",
       "         Int       Wis       Cha  \n",
       "0   0.624860  0.423492  0.620412  \n",
       "1  -4.841907 -2.234137 -3.763384  \n",
       "2  -1.455725 -0.405715 -0.739860  \n",
       "3   0.255062  0.219249  0.213376  \n",
       "4   2.118677  0.904319  1.688216  \n",
       "5   2.239620  0.174637  1.715319  \n",
       "6   1.684274  1.341646  0.886333  \n",
       "7   1.721547  0.404819  0.589617  \n",
       "8  -4.086487  0.255827 -2.873522  \n",
       "9   2.564832  4.617474  4.850590  \n",
       "10 -3.752025 -2.559075 -5.772802  \n",
       "11  4.136365  0.797571  4.222859  \n",
       "12 -1.368628 -0.164860  0.222752  \n",
       "13  2.397066  1.370890  3.764477  \n",
       "14  0.924653  0.138099  1.314880  \n",
       "15  0.071134 -1.329822 -0.584910  \n",
       "16  2.684730  0.575303  1.984860  \n",
       "17 -1.454130  0.437079 -0.709384  \n",
       "18 -1.600184 -2.834425 -3.290548  \n",
       "19 -2.180565 -0.784199 -3.526506  \n",
       "20 -0.058307 -0.924680 -0.192362  "
      ]
     },
     "execution_count": 66,
     "metadata": {},
     "output_type": "execute_result"
    }
   ],
   "source": [
    "import seaborn as sns\n",
    "import statsmodels.api as sm\n",
    "from sklearn.model_selection import train_test_split\n",
    "from sklearn.linear_model import LinearRegression\n",
    "\n",
    "yCols = ['Str','Dex','Con','Int','Wis','Cha']\n",
    "xCols = ['CR','Size','Type']\n",
    "\n",
    "dfC = pd.DataFrame({'parameter': pd.get_dummies(data=df0[xCols], drop_first=False).columns})\n",
    "dfC['Category'] = dfC['parameter'].str.extract(r'(?i)^([a-z]+)')\n",
    "dfC['Group']    = dfC['parameter'].str.extract(r'(?i)([a-z]+)$')\n",
    "model = LinearRegression()\n",
    "\n",
    "for yCol in yCols:\n",
    "    aCols = [yCol] + xCols\n",
    "    df1 = df0[aCols]\n",
    "    X = pd.get_dummies(data=df1[xCols], drop_first=False)\n",
    "    Y = df1[yCol]\n",
    "\n",
    "    model.fit(X, Y)\n",
    "    X_Sm = sm.add_constant(X)\n",
    "    ls = sm.OLS(Y, X_Sm).fit()\n",
    "    print('{:}: R-squared {:.4f}'.format(yCol, ls.rsquared))\n",
    "    dfC[yCol] = model.coef_\n",
    "\n",
    "dfC1 = dfC[dfC['Category'].eq('Size')]\n",
    "dfC1 = dfC1[['Group'] + yCols]\n",
    "dfC1.rename(inplace=True, columns={'Group': 'Size'})\n",
    "#dfC1.to_html('./ability-score-modifier-by-size-table.html', index=False, float_format='{:.2f}'.format)\n",
    "\n",
    "dfC1 = dfC[dfC['Category'].eq('Type')]\n",
    "dfC1 = dfC1[['Group'] + yCols]\n",
    "dfC1.rename(inplace=True, columns={'Group': 'Type'})\n",
    "#dfC1.to_html('./ability-score-modifier-by-type-table.html', index=False, float_format='{:.2f}'.format)\n",
    "\n",
    "dfC\n"
   ]
  },
  {
   "cell_type": "code",
   "execution_count": 67,
   "metadata": {},
   "outputs": [
    {
     "name": "stdout",
     "output_type": "stream",
     "text": [
      "Str Save: R-squared 0.6338\n",
      "Dex Save: R-squared 0.4260\n",
      "Con Save: R-squared 0.8045\n",
      "Int Save: R-squared 0.5690\n",
      "Wis Save: R-squared 0.7259\n",
      "Cha Save: R-squared 0.6773\n"
     ]
    },
    {
     "data": {
      "text/html": [
       "<div>\n",
       "<style scoped>\n",
       "    .dataframe tbody tr th:only-of-type {\n",
       "        vertical-align: middle;\n",
       "    }\n",
       "\n",
       "    .dataframe tbody tr th {\n",
       "        vertical-align: top;\n",
       "    }\n",
       "\n",
       "    .dataframe thead th {\n",
       "        text-align: right;\n",
       "    }\n",
       "</style>\n",
       "<table border=\"1\" class=\"dataframe\">\n",
       "  <thead>\n",
       "    <tr style=\"text-align: right;\">\n",
       "      <th></th>\n",
       "      <th>parameter</th>\n",
       "      <th>Category</th>\n",
       "      <th>Group</th>\n",
       "      <th>Str Save</th>\n",
       "      <th>Dex Save</th>\n",
       "      <th>Con Save</th>\n",
       "      <th>Int Save</th>\n",
       "      <th>Wis Save</th>\n",
       "      <th>Cha Save</th>\n",
       "    </tr>\n",
       "  </thead>\n",
       "  <tbody>\n",
       "    <tr>\n",
       "      <th>0</th>\n",
       "      <td>CR</td>\n",
       "      <td>CR</td>\n",
       "      <td>CR</td>\n",
       "      <td>0.150834</td>\n",
       "      <td>0.257573</td>\n",
       "      <td>0.380863</td>\n",
       "      <td>0.483578</td>\n",
       "      <td>0.498673</td>\n",
       "      <td>0.499317</td>\n",
       "    </tr>\n",
       "    <tr>\n",
       "      <th>1</th>\n",
       "      <td>Size_gargantuan</td>\n",
       "      <td>Size</td>\n",
       "      <td>gargantuan</td>\n",
       "      <td>3.810413</td>\n",
       "      <td>-1.894569</td>\n",
       "      <td>1.803948</td>\n",
       "      <td>-3.484232</td>\n",
       "      <td>-1.298764</td>\n",
       "      <td>-2.006359</td>\n",
       "    </tr>\n",
       "    <tr>\n",
       "      <th>2</th>\n",
       "      <td>Size_huge</td>\n",
       "      <td>Size</td>\n",
       "      <td>huge</td>\n",
       "      <td>2.875114</td>\n",
       "      <td>-1.411854</td>\n",
       "      <td>0.987455</td>\n",
       "      <td>-1.450346</td>\n",
       "      <td>-0.510052</td>\n",
       "      <td>-0.695972</td>\n",
       "    </tr>\n",
       "    <tr>\n",
       "      <th>3</th>\n",
       "      <td>Size_large</td>\n",
       "      <td>Size</td>\n",
       "      <td>large</td>\n",
       "      <td>1.055993</td>\n",
       "      <td>-0.387241</td>\n",
       "      <td>-0.079390</td>\n",
       "      <td>0.235085</td>\n",
       "      <td>-0.050739</td>\n",
       "      <td>-0.112616</td>\n",
       "    </tr>\n",
       "    <tr>\n",
       "      <th>4</th>\n",
       "      <td>Size_medium</td>\n",
       "      <td>Size</td>\n",
       "      <td>medium</td>\n",
       "      <td>-0.616214</td>\n",
       "      <td>0.222282</td>\n",
       "      <td>-0.769010</td>\n",
       "      <td>1.443556</td>\n",
       "      <td>0.512290</td>\n",
       "      <td>0.896794</td>\n",
       "    </tr>\n",
       "    <tr>\n",
       "      <th>5</th>\n",
       "      <td>Size_small</td>\n",
       "      <td>Size</td>\n",
       "      <td>small</td>\n",
       "      <td>-2.752094</td>\n",
       "      <td>1.270410</td>\n",
       "      <td>-0.731347</td>\n",
       "      <td>1.674795</td>\n",
       "      <td>0.300999</td>\n",
       "      <td>1.190594</td>\n",
       "    </tr>\n",
       "    <tr>\n",
       "      <th>6</th>\n",
       "      <td>Size_tiny</td>\n",
       "      <td>Size</td>\n",
       "      <td>tiny</td>\n",
       "      <td>-4.373212</td>\n",
       "      <td>2.200972</td>\n",
       "      <td>-1.211655</td>\n",
       "      <td>1.581142</td>\n",
       "      <td>1.046266</td>\n",
       "      <td>0.727560</td>\n",
       "    </tr>\n",
       "    <tr>\n",
       "      <th>7</th>\n",
       "      <td>Type_aberration</td>\n",
       "      <td>Type</td>\n",
       "      <td>aberration</td>\n",
       "      <td>-0.868512</td>\n",
       "      <td>-0.528034</td>\n",
       "      <td>-0.911180</td>\n",
       "      <td>1.615273</td>\n",
       "      <td>0.445087</td>\n",
       "      <td>0.518405</td>\n",
       "    </tr>\n",
       "    <tr>\n",
       "      <th>8</th>\n",
       "      <td>Type_beast</td>\n",
       "      <td>Type</td>\n",
       "      <td>beast</td>\n",
       "      <td>-0.668438</td>\n",
       "      <td>0.399368</td>\n",
       "      <td>-0.752481</td>\n",
       "      <td>-1.598879</td>\n",
       "      <td>0.209428</td>\n",
       "      <td>-1.624843</td>\n",
       "    </tr>\n",
       "    <tr>\n",
       "      <th>9</th>\n",
       "      <td>Type_celestial</td>\n",
       "      <td>Type</td>\n",
       "      <td>celestial</td>\n",
       "      <td>1.979190</td>\n",
       "      <td>0.851003</td>\n",
       "      <td>-0.209179</td>\n",
       "      <td>1.060849</td>\n",
       "      <td>2.627486</td>\n",
       "      <td>4.108995</td>\n",
       "    </tr>\n",
       "    <tr>\n",
       "      <th>10</th>\n",
       "      <td>Type_construct</td>\n",
       "      <td>Type</td>\n",
       "      <td>construct</td>\n",
       "      <td>0.356625</td>\n",
       "      <td>-0.969933</td>\n",
       "      <td>-0.302992</td>\n",
       "      <td>-2.099263</td>\n",
       "      <td>-2.020686</td>\n",
       "      <td>-3.650461</td>\n",
       "    </tr>\n",
       "    <tr>\n",
       "      <th>11</th>\n",
       "      <td>Type_dragon</td>\n",
       "      <td>Type</td>\n",
       "      <td>dragon</td>\n",
       "      <td>-0.230754</td>\n",
       "      <td>2.509055</td>\n",
       "      <td>1.936704</td>\n",
       "      <td>1.593976</td>\n",
       "      <td>1.403255</td>\n",
       "      <td>3.976110</td>\n",
       "    </tr>\n",
       "    <tr>\n",
       "      <th>12</th>\n",
       "      <td>Type_elemental</td>\n",
       "      <td>Type</td>\n",
       "      <td>elemental</td>\n",
       "      <td>-0.327039</td>\n",
       "      <td>0.234820</td>\n",
       "      <td>-0.090060</td>\n",
       "      <td>-1.201791</td>\n",
       "      <td>-0.309230</td>\n",
       "      <td>-0.106662</td>\n",
       "    </tr>\n",
       "    <tr>\n",
       "      <th>13</th>\n",
       "      <td>Type_fey</td>\n",
       "      <td>Type</td>\n",
       "      <td>fey</td>\n",
       "      <td>-0.073590</td>\n",
       "      <td>0.700873</td>\n",
       "      <td>-0.761737</td>\n",
       "      <td>0.868264</td>\n",
       "      <td>0.140815</td>\n",
       "      <td>1.217556</td>\n",
       "    </tr>\n",
       "    <tr>\n",
       "      <th>14</th>\n",
       "      <td>Type_fiend</td>\n",
       "      <td>Type</td>\n",
       "      <td>fiend</td>\n",
       "      <td>0.937024</td>\n",
       "      <td>0.861179</td>\n",
       "      <td>0.717729</td>\n",
       "      <td>-0.172222</td>\n",
       "      <td>0.120335</td>\n",
       "      <td>0.281557</td>\n",
       "    </tr>\n",
       "    <tr>\n",
       "      <th>15</th>\n",
       "      <td>Type_giant</td>\n",
       "      <td>Type</td>\n",
       "      <td>giant</td>\n",
       "      <td>0.857492</td>\n",
       "      <td>-0.480690</td>\n",
       "      <td>1.490304</td>\n",
       "      <td>-0.184804</td>\n",
       "      <td>-0.469973</td>\n",
       "      <td>-0.227096</td>\n",
       "    </tr>\n",
       "    <tr>\n",
       "      <th>16</th>\n",
       "      <td>Type_humanoid</td>\n",
       "      <td>Type</td>\n",
       "      <td>humanoid</td>\n",
       "      <td>-0.307594</td>\n",
       "      <td>0.205517</td>\n",
       "      <td>-0.279004</td>\n",
       "      <td>1.624612</td>\n",
       "      <td>0.468398</td>\n",
       "      <td>0.674917</td>\n",
       "    </tr>\n",
       "    <tr>\n",
       "      <th>17</th>\n",
       "      <td>Type_monstrosity</td>\n",
       "      <td>Type</td>\n",
       "      <td>monstrosity</td>\n",
       "      <td>0.409666</td>\n",
       "      <td>0.079617</td>\n",
       "      <td>-0.381541</td>\n",
       "      <td>-0.629911</td>\n",
       "      <td>-0.045088</td>\n",
       "      <td>-0.821364</td>\n",
       "    </tr>\n",
       "    <tr>\n",
       "      <th>18</th>\n",
       "      <td>Type_ooze</td>\n",
       "      <td>Type</td>\n",
       "      <td>ooze</td>\n",
       "      <td>-0.561515</td>\n",
       "      <td>-2.138329</td>\n",
       "      <td>0.156342</td>\n",
       "      <td>-0.350367</td>\n",
       "      <td>-1.881899</td>\n",
       "      <td>-1.790736</td>\n",
       "    </tr>\n",
       "    <tr>\n",
       "      <th>19</th>\n",
       "      <td>Type_plant</td>\n",
       "      <td>Type</td>\n",
       "      <td>plant</td>\n",
       "      <td>-0.639809</td>\n",
       "      <td>-1.365851</td>\n",
       "      <td>-0.523602</td>\n",
       "      <td>-0.968016</td>\n",
       "      <td>-0.696534</td>\n",
       "      <td>-2.222022</td>\n",
       "    </tr>\n",
       "    <tr>\n",
       "      <th>20</th>\n",
       "      <td>Type_undead</td>\n",
       "      <td>Type</td>\n",
       "      <td>undead</td>\n",
       "      <td>-0.862745</td>\n",
       "      <td>-0.358596</td>\n",
       "      <td>-0.089302</td>\n",
       "      <td>0.442280</td>\n",
       "      <td>0.008604</td>\n",
       "      <td>-0.334358</td>\n",
       "    </tr>\n",
       "  </tbody>\n",
       "</table>\n",
       "</div>"
      ],
      "text/plain": [
       "           parameter Category        Group  Str Save  Dex Save  Con Save  \\\n",
       "0                 CR       CR           CR  0.150834  0.257573  0.380863   \n",
       "1    Size_gargantuan     Size   gargantuan  3.810413 -1.894569  1.803948   \n",
       "2          Size_huge     Size         huge  2.875114 -1.411854  0.987455   \n",
       "3         Size_large     Size        large  1.055993 -0.387241 -0.079390   \n",
       "4        Size_medium     Size       medium -0.616214  0.222282 -0.769010   \n",
       "5         Size_small     Size        small -2.752094  1.270410 -0.731347   \n",
       "6          Size_tiny     Size         tiny -4.373212  2.200972 -1.211655   \n",
       "7    Type_aberration     Type   aberration -0.868512 -0.528034 -0.911180   \n",
       "8         Type_beast     Type        beast -0.668438  0.399368 -0.752481   \n",
       "9     Type_celestial     Type    celestial  1.979190  0.851003 -0.209179   \n",
       "10    Type_construct     Type    construct  0.356625 -0.969933 -0.302992   \n",
       "11       Type_dragon     Type       dragon -0.230754  2.509055  1.936704   \n",
       "12    Type_elemental     Type    elemental -0.327039  0.234820 -0.090060   \n",
       "13          Type_fey     Type          fey -0.073590  0.700873 -0.761737   \n",
       "14        Type_fiend     Type        fiend  0.937024  0.861179  0.717729   \n",
       "15        Type_giant     Type        giant  0.857492 -0.480690  1.490304   \n",
       "16     Type_humanoid     Type     humanoid -0.307594  0.205517 -0.279004   \n",
       "17  Type_monstrosity     Type  monstrosity  0.409666  0.079617 -0.381541   \n",
       "18         Type_ooze     Type         ooze -0.561515 -2.138329  0.156342   \n",
       "19        Type_plant     Type        plant -0.639809 -1.365851 -0.523602   \n",
       "20       Type_undead     Type       undead -0.862745 -0.358596 -0.089302   \n",
       "\n",
       "    Int Save  Wis Save  Cha Save  \n",
       "0   0.483578  0.498673  0.499317  \n",
       "1  -3.484232 -1.298764 -2.006359  \n",
       "2  -1.450346 -0.510052 -0.695972  \n",
       "3   0.235085 -0.050739 -0.112616  \n",
       "4   1.443556  0.512290  0.896794  \n",
       "5   1.674795  0.300999  1.190594  \n",
       "6   1.581142  1.046266  0.727560  \n",
       "7   1.615273  0.445087  0.518405  \n",
       "8  -1.598879  0.209428 -1.624843  \n",
       "9   1.060849  2.627486  4.108995  \n",
       "10 -2.099263 -2.020686 -3.650461  \n",
       "11  1.593976  1.403255  3.976110  \n",
       "12 -1.201791 -0.309230 -0.106662  \n",
       "13  0.868264  0.140815  1.217556  \n",
       "14 -0.172222  0.120335  0.281557  \n",
       "15 -0.184804 -0.469973 -0.227096  \n",
       "16  1.624612  0.468398  0.674917  \n",
       "17 -0.629911 -0.045088 -0.821364  \n",
       "18 -0.350367 -1.881899 -1.790736  \n",
       "19 -0.968016 -0.696534 -2.222022  \n",
       "20  0.442280  0.008604 -0.334358  "
      ]
     },
     "execution_count": 67,
     "metadata": {},
     "output_type": "execute_result"
    }
   ],
   "source": [
    "import seaborn as sns\n",
    "import statsmodels.api as sm\n",
    "from sklearn.model_selection import train_test_split\n",
    "from sklearn.linear_model import LinearRegression\n",
    "\n",
    "yCols = ['Str Save','Dex Save','Con Save','Int Save','Wis Save','Cha Save']\n",
    "xCols = ['CR','Size','Type']\n",
    "\n",
    "dfC = pd.DataFrame({'parameter': pd.get_dummies(data=df0[xCols], drop_first=False).columns})\n",
    "dfC['Category'] = dfC['parameter'].str.extract(r'(?i)^([a-z]+)')\n",
    "dfC['Group']    = dfC['parameter'].str.extract(r'(?i)([a-z]+)$')\n",
    "model = LinearRegression()\n",
    "\n",
    "for yCol in yCols:\n",
    "    aCols = [yCol] + xCols\n",
    "    df1 = df0[aCols]\n",
    "    X = pd.get_dummies(data=df1[xCols], drop_first=False)\n",
    "    Y = df1[yCol]\n",
    "\n",
    "    model.fit(X, Y)\n",
    "    X_Sm = sm.add_constant(X)\n",
    "    ls = sm.OLS(Y, X_Sm).fit()\n",
    "    print('{:}: R-squared {:.4f}'.format(yCol, ls.rsquared))\n",
    "    dfC[yCol] = model.coef_\n",
    "\n",
    "dfC1 = dfC[dfC['Category'].eq('Size')]\n",
    "dfC1 = dfC1[['Group'] + yCols]\n",
    "dfC1.rename(inplace=True, columns={'Group': 'Size'})\n",
    "#dfC1.to_html('./save-modifier-by-size-table.html', index=False, float_format='{:.2f}'.format)\n",
    "\n",
    "dfC1 = dfC[dfC['Category'].eq('Type')]\n",
    "dfC1 = dfC1[['Group'] + yCols]\n",
    "dfC1.rename(inplace=True, columns={'Group': 'Type'})\n",
    "#dfC1.to_html('./save-modifier-by-type-table.html', index=False, float_format='{:.2f}'.format)\n",
    "\n",
    "dfC\n"
   ]
  }
 ],
 "metadata": {
  "kernelspec": {
   "display_name": "Python 3.10.5 ('thefinishedbook': venv)",
   "language": "python",
   "name": "python3"
  },
  "language_info": {
   "codemirror_mode": {
    "name": "ipython",
    "version": 3
   },
   "file_extension": ".py",
   "mimetype": "text/x-python",
   "name": "python",
   "nbconvert_exporter": "python",
   "pygments_lexer": "ipython3",
   "version": "3.10.5"
  },
  "metadata": {
   "interpreter": {
    "hash": "aee8b7b246df8f9039afb4144a1f6fd8d2ca17a180786b69acc140d282b71a49"
   }
  },
  "orig_nbformat": 2,
  "vscode": {
   "interpreter": {
    "hash": "e4b90a08ac11b7f80ea6e39e6f46c6e22a0b6d86a47874aaa13784019f162251"
   }
  }
 },
 "nbformat": 4,
 "nbformat_minor": 2
}
