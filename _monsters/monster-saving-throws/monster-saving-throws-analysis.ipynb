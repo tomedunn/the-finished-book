{
 "cells": [
  {
   "cell_type": "code",
   "execution_count": 24,
   "metadata": {},
   "outputs": [
    {
     "name": "stdout",
     "output_type": "stream",
     "text": [
      "Includes 1781 monsters in database\n"
     ]
    }
   ],
   "source": [
    "import pandas as pd\n",
    "import numpy as np\n",
    "from bs4 import BeautifulSoup\n",
    "pd.options.mode.chained_assignment = None  # default='warn'\n",
    "\n",
    "METADATA = {'Contributor': 'T. Dunn'}\n",
    "SAVEFIGS = False\n",
    "\n",
    "df0 = pd.read_csv('monster-saves.csv')\n",
    "df0 = df0.astype({'Book': 'category', 'Category': 'category', 'Legendary': 'category', 'Type': 'category', 'Size': 'category'})\n",
    "df0['Str PB'] = df0['Str Prof']*df0['PB']\n",
    "df0['Dex PB'] = df0['Dex Prof']*df0['PB']\n",
    "df0['Con PB'] = df0['Con Prof']*df0['PB']\n",
    "df0['Wis PB'] = df0['Wis Prof']*df0['PB']\n",
    "df0['Int PB'] = df0['Int Prof']*df0['PB']\n",
    "df0['Cha PB'] = df0['Cha Prof']*df0['PB']\n",
    "print('Includes {} monsters in database'.format(len(df0.index.to_list())))"
   ]
  },
  {
   "cell_type": "code",
   "execution_count": 25,
   "metadata": {},
   "outputs": [],
   "source": [
    "# Setup template and html config for plotly figures.\n",
    "import plotly.graph_objects as go\n",
    "\n",
    "TFB_TEMPLATE = dict(\n",
    "    layout=go.Layout(\n",
    "        template='plotly_white',\n",
    "        autosize=False,\n",
    "        margin=dict(l=50, r=25, b=40, t=20, pad=4),\n",
    "        font=dict(family='sans-serif', size=14),\n",
    "        hovermode='closest',\n",
    "        xaxis=dict(\n",
    "            automargin=False,\n",
    "            showline=True,\n",
    "            linecolor='#444',\n",
    "            linewidth=2,\n",
    "            mirror=True,\n",
    "            tickmode='linear',\n",
    "            ticks='outside',\n",
    "            minor=dict(\n",
    "                tickmode='linear',\n",
    "                ticks='outside',\n",
    "            ),\n",
    "            zeroline=False,\n",
    "        ),\n",
    "        yaxis=dict(\n",
    "            automargin=False,\n",
    "            showline=True,\n",
    "            linecolor='#444',\n",
    "            linewidth=2,\n",
    "            mirror=True,\n",
    "            ticks='outside',\n",
    "            minor=dict(\n",
    "                ticks='outside',\n",
    "            ),\n",
    "            zeroline=False,\n",
    "        ),\n",
    "        hoverlabel=dict(align='left'),\n",
    "    )\n",
    ")\n",
    "\n",
    "TFB_CONFIG = {\n",
    "    'responsive': True, \n",
    "    'showAxisDragHandles': False,\n",
    "    'displaylogo': False,\n",
    "    'displayModeBar': 'hover',\n",
    "    'modeBarButtonsToRemove': [\n",
    "        'select2d',\n",
    "        'lasso2d',\n",
    "        'zoom2d',\n",
    "        'zoomIn2d',\n",
    "        'zoomOut2d',\n",
    "        'pan2d',\n",
    "        'autoScale2d',\n",
    "        'hoverClosestCartesian',\n",
    "        'hoverCompareCartesian',\n",
    "        'toggleSpikelines',\n",
    "        'resetScale2d',\n",
    "    ],\n",
    "    'toImageButtonOptions': {\n",
    "        'format': 'png', # one of png, svg, jpeg, webp\n",
    "        'filename': 'tfb-plot',\n",
    "        'height': 450,\n",
    "        'width': 600,\n",
    "        'scale': 2\n",
    "    },\n",
    "}\n",
    "\n",
    "def plot_mean_fit(fig, df0, xCol, yCol, name, line_color):\n",
    "    # plot mean\n",
    "    dfM = df0[[xCol, yCol]].groupby(xCol).mean().reset_index()\n",
    "    fig.add_trace(go.Scatter(\n",
    "        x=dfM[xCol], y=dfM[yCol],\n",
    "        mode='markers', \n",
    "        name=f'{name}',\n",
    "        legendgroup=name, \n",
    "        line_color=line_color,\n",
    "        hovertemplate='<b>' + name + '</b><br>' + 'CR %{x:,.0f}<br>' + 'Mean %{y:,.1f}<br>' + '<extra></extra>'\n",
    "    ))\n",
    "    coefs = np.polyfit(dfM[xCol], dfM[yCol], 1)\n",
    "    poly = np.poly1d(coefs)\n",
    "    fig.add_trace(go.Scatter(\n",
    "        x=dfM[xCol], y=poly(dfM[xCol]),\n",
    "        mode='lines', \n",
    "        name=f'{name}',\n",
    "        legendgroup=name, \n",
    "        line_color=line_color,\n",
    "        hoverinfo='skip',\n",
    "        showlegend=False,\n",
    "    ))\n",
    "    \n",
    "def save_fig_html(fig, format, name):\n",
    "    file_name = f'./{name}.html'\n",
    "\n",
    "    match format:\n",
    "        case 'large':\n",
    "            fig.update_traces(marker=dict(size=6))\n",
    "            fig.update_layout(font=dict(size=14))\n",
    "        case 'small':\n",
    "            fig.update_traces(marker=dict(size=4))\n",
    "            fig.update_layout(font=dict(size=10))\n",
    "\n",
    "    fig_html = fig.to_html(\n",
    "        config=TFB_CONFIG,\n",
    "        include_plotlyjs=False, \n",
    "        full_html=False, \n",
    "    )\n",
    "    fig_soup = BeautifulSoup(fig_html, 'html.parser')\n",
    "    fig_soup.div['class'] = f'plotly-div-{format}'\n",
    "    with open(file_name, 'wb') as fout:\n",
    "        fout.write(fig_soup.prettify('utf-8'))"
   ]
  },
  {
   "cell_type": "code",
   "execution_count": null,
   "metadata": {},
   "outputs": [
    {
     "data": {
      "application/vnd.plotly.v1+json": {
       "config": {
        "displayModeBar": "hover",
        "displaylogo": false,
        "modeBarButtonsToRemove": [
         "select2d",
         "lasso2d",
         "zoom2d",
         "zoomIn2d",
         "zoomOut2d",
         "pan2d",
         "autoScale2d",
         "hoverClosestCartesian",
         "hoverCompareCartesian",
         "toggleSpikelines",
         "resetScale2d"
        ],
        "plotlyServerURL": "https://plot.ly",
        "responsive": true,
        "showAxisDragHandles": false,
        "toImageButtonOptions": {
         "filename": "tfb-plot",
         "format": "png",
         "height": 450,
         "scale": 2,
         "width": 600
        }
       },
       "data": [
        {
         "hovertemplate": "<b>Str Save</b><br>CR %{x:,.0f}<br>Mean %{y:,.1f}<br><extra></extra>",
         "legendgroup": "Str Save",
         "line": {
          "color": "#d62728"
         },
         "mode": "markers",
         "name": "Str Save",
         "type": "scatter",
         "x": [
          1,
          2,
          3,
          4,
          5,
          6,
          7,
          8,
          9,
          10,
          11,
          12,
          13,
          14,
          15,
          16,
          17,
          18,
          19,
          20,
          21,
          22,
          23,
          24,
          25,
          26,
          27,
          28,
          30
         ],
         "y": [
          1.0701754385964912,
          1.6551724137931034,
          2.2949640287769784,
          2.2626262626262625,
          2.7674418604651163,
          3.0704225352112675,
          2.780821917808219,
          3.74025974025974,
          4.1020408163265305,
          3.9210526315789473,
          5.073170731707317,
          5.392857142857143,
          4.9411764705882355,
          5.25,
          5.476190476190476,
          7.08,
          5.375,
          4.928571428571429,
          7,
          5.545454545454546,
          6.866666666666666,
          5.875,
          8.363636363636363,
          8.857142857142858,
          10.444444444444445,
          8.833333333333334,
          10,
          10.142857142857142,
          12.25
         ]
        },
        {
         "hoverinfo": "skip",
         "legendgroup": "Str Save",
         "line": {
          "color": "#d62728"
         },
         "mode": "lines",
         "name": "Str Save",
         "showlegend": false,
         "type": "scatter",
         "x": [
          1,
          2,
          3,
          4,
          5,
          6,
          7,
          8,
          9,
          10,
          11,
          12,
          13,
          14,
          15,
          16,
          17,
          18,
          19,
          20,
          21,
          22,
          23,
          24,
          25,
          26,
          27,
          28,
          30
         ],
         "y": [
          1.2011491263456127,
          1.5218546658661771,
          1.8425602053867418,
          2.1632657449073065,
          2.483971284427871,
          2.8046768239484354,
          3.125382363469001,
          3.4460879029895652,
          3.7667934425101297,
          4.087498982030694,
          4.408204521551259,
          4.728910061071823,
          5.049615600592388,
          5.370321140112953,
          5.691026679633517,
          6.011732219154082,
          6.332437758674646,
          6.653143298195211,
          6.973848837715776,
          7.294554377236341,
          7.615259916756905,
          7.9359654562774695,
          8.256670995798034,
          8.5773765353186,
          8.898082074839165,
          9.218787614359728,
          9.539493153880294,
          9.860198693400859,
          10.501609772441988
         ]
        },
        {
         "hovertemplate": "<b>Dex Save</b><br>CR %{x:,.0f}<br>Mean %{y:,.1f}<br><extra></extra>",
         "legendgroup": "Dex Save",
         "line": {
          "color": "#9467bd"
         },
         "mode": "markers",
         "name": "Dex Save",
         "type": "scatter",
         "x": [
          1,
          2,
          3,
          4,
          5,
          6,
          7,
          8,
          9,
          10,
          11,
          12,
          13,
          14,
          15,
          16,
          17,
          18,
          19,
          20,
          21,
          22,
          23,
          24,
          25,
          26,
          27,
          28,
          30
         ],
         "y": [
          1.587719298245614,
          1.5574712643678161,
          1.79136690647482,
          1.8383838383838385,
          2.10077519379845,
          1.943661971830986,
          2.589041095890411,
          2.0259740259740258,
          2.306122448979592,
          2.6842105263157894,
          2.8780487804878048,
          2.5,
          3,
          3.2916666666666665,
          4.095238095238095,
          4.68,
          5,
          4.285714285714286,
          6,
          5.2727272727272725,
          6.6,
          4.875,
          7.2727272727272725,
          7.928571428571429,
          7.111111111111111,
          8.25,
          10,
          9.142857142857142,
          6
         ]
        },
        {
         "hoverinfo": "skip",
         "legendgroup": "Dex Save",
         "line": {
          "color": "#9467bd"
         },
         "mode": "lines",
         "name": "Dex Save",
         "showlegend": false,
         "type": "scatter",
         "x": [
          1,
          2,
          3,
          4,
          5,
          6,
          7,
          8,
          9,
          10,
          11,
          12,
          13,
          14,
          15,
          16,
          17,
          18,
          19,
          20,
          21,
          22,
          23,
          24,
          25,
          26,
          27,
          28,
          30
         ],
         "y": [
          0.6565230991077,
          0.9257349387937911,
          1.1949467784798822,
          1.4641586181659734,
          1.7333704578520646,
          2.0025822975381553,
          2.271794137224247,
          2.5410059769103377,
          2.8102178165964293,
          3.07942965628252,
          3.3486414959686117,
          3.6178533356547025,
          3.887065175340793,
          4.156277015026885,
          4.4254888547129765,
          4.694700694399067,
          4.963912534085158,
          5.23312437377125,
          5.50233621345734,
          5.771548053143432,
          6.040759892829523,
          6.309971732515614,
          6.579183572201705,
          6.848395411887796,
          7.1176072515738875,
          7.386819091259978,
          7.65603093094607,
          7.925242770632161,
          8.463666450004343
         ]
        },
        {
         "hovertemplate": "<b>Con Save</b><br>CR %{x:,.0f}<br>Mean %{y:,.1f}<br><extra></extra>",
         "legendgroup": "Con Save",
         "line": {
          "color": "#8c564b"
         },
         "mode": "markers",
         "name": "Con Save",
         "type": "scatter",
         "x": [
          1,
          2,
          3,
          4,
          5,
          6,
          7,
          8,
          9,
          10,
          11,
          12,
          13,
          14,
          15,
          16,
          17,
          18,
          19,
          20,
          21,
          22,
          23,
          24,
          25,
          26,
          27,
          28,
          30
         ],
         "y": [
          1.4736842105263157,
          1.8563218390804597,
          2.273381294964029,
          2.585858585858586,
          3.248062015503876,
          3.591549295774648,
          3.8493150684931505,
          4.35064935064935,
          5.571428571428571,
          5.7894736842105265,
          5.975609756097561,
          5.785714285714286,
          7.294117647058823,
          7.833333333333333,
          7.142857142857143,
          7.6,
          8.875,
          9.714285714285714,
          9.555555555555555,
          11.181818181818182,
          11.666666666666666,
          11,
          12.409090909090908,
          13.785714285714286,
          14.444444444444445,
          15.166666666666666,
          18,
          16.142857142857142,
          14.25
         ]
        },
        {
         "hoverinfo": "skip",
         "legendgroup": "Con Save",
         "line": {
          "color": "#8c564b"
         },
         "mode": "lines",
         "name": "Con Save",
         "showlegend": false,
         "type": "scatter",
         "x": [
          1,
          2,
          3,
          4,
          5,
          6,
          7,
          8,
          9,
          10,
          11,
          12,
          13,
          14,
          15,
          16,
          17,
          18,
          19,
          20,
          21,
          22,
          23,
          24,
          25,
          26,
          27,
          28,
          30
         ],
         "y": [
          0.800549654316159,
          1.339118488894738,
          1.8776873234733171,
          2.4162561580518958,
          2.9548249926304746,
          3.493393827209054,
          4.031962661787633,
          4.570531496366212,
          5.109100330944791,
          5.64766916552337,
          6.186238000101949,
          6.724806834680528,
          7.263375669259107,
          7.801944503837686,
          8.340513338416265,
          8.879082172994844,
          9.417651007573422,
          9.956219842152002,
          10.49478867673058,
          11.033357511309159,
          11.57192634588774,
          12.110495180466318,
          12.649064015044896,
          13.187632849623476,
          13.726201684202055,
          14.264770518780633,
          14.803339353359211,
          15.341908187937792,
          16.41904585709495
         ]
        },
        {
         "hovertemplate": "<b>Int Save</b><br>CR %{x:,.0f}<br>Mean %{y:,.1f}<br><extra></extra>",
         "legendgroup": "Int Save",
         "line": {
          "color": "#1f77b4"
         },
         "mode": "markers",
         "name": "Int Save",
         "type": "scatter",
         "x": [
          1,
          2,
          3,
          4,
          5,
          6,
          7,
          8,
          9,
          10,
          11,
          12,
          13,
          14,
          15,
          16,
          17,
          18,
          19,
          20,
          21,
          22,
          23,
          24,
          25,
          26,
          27,
          28,
          30
         ],
         "y": [
          -1.1491228070175439,
          -0.7011494252873564,
          -0.4460431654676259,
          0.3838383838383838,
          0.4186046511627907,
          0.7887323943661971,
          1.4383561643835616,
          0.7012987012987013,
          1.8571428571428572,
          2.789473684210526,
          1.3658536585365855,
          2.107142857142857,
          3.9705882352941178,
          2.9583333333333335,
          3.3333333333333335,
          2.52,
          5.0625,
          5.785714285714286,
          5.666666666666667,
          3.727272727272727,
          7.4,
          7.5,
          6.636363636363637,
          6.142857142857143,
          6.666666666666667,
          9.833333333333334,
          5,
          12.571428571428571,
          8.5
         ]
        },
        {
         "hoverinfo": "skip",
         "legendgroup": "Int Save",
         "line": {
          "color": "#1f77b4"
         },
         "mode": "lines",
         "name": "Int Save",
         "showlegend": false,
         "type": "scatter",
         "x": [
          1,
          2,
          3,
          4,
          5,
          6,
          7,
          8,
          9,
          10,
          11,
          12,
          13,
          14,
          15,
          16,
          17,
          18,
          19,
          20,
          21,
          22,
          23,
          24,
          25,
          26,
          27,
          28,
          30
         ],
         "y": [
          -1.216849924360738,
          -0.8529240430510693,
          -0.48899816174140054,
          -0.1250722804317319,
          0.23885360087793672,
          0.6027794821876056,
          0.966705363497274,
          1.3306312448069428,
          1.6945571261166117,
          2.05848300742628,
          2.4224088887359487,
          2.7863347700456176,
          3.1502606513552864,
          3.5141865326649544,
          3.8781124139746233,
          4.242038295284292,
          4.605964176593961,
          4.96989005790363,
          5.333815939213298,
          5.697741820522967,
          6.0616677018326355,
          6.425593583142304,
          6.789519464451973,
          7.153445345761642,
          7.517371227071311,
          7.88129710838098,
          8.245222989690648,
          8.609148871000317,
          9.337000633619654
         ]
        },
        {
         "hovertemplate": "<b>Wis Save</b><br>CR %{x:,.0f}<br>Mean %{y:,.1f}<br><extra></extra>",
         "legendgroup": "Wis Save",
         "line": {
          "color": "#2ca02c"
         },
         "mode": "markers",
         "name": "Wis Save",
         "type": "scatter",
         "x": [
          1,
          2,
          3,
          4,
          5,
          6,
          7,
          8,
          9,
          10,
          11,
          12,
          13,
          14,
          15,
          16,
          17,
          18,
          19,
          20,
          21,
          22,
          23,
          24,
          25,
          26,
          27,
          28,
          30
         ],
         "y": [
          0.5175438596491229,
          0.8390804597701149,
          1.0431654676258992,
          1.5555555555555556,
          2.2248062015503876,
          2.4507042253521125,
          2.6575342465753424,
          3.012987012987013,
          3.63265306122449,
          4.7368421052631575,
          4.2682926829268295,
          5.142857142857143,
          5.205882352941177,
          5.958333333333333,
          6.0476190476190474,
          6.76,
          8.25,
          8.642857142857142,
          8,
          8,
          11.4,
          10.25,
          10.954545454545455,
          12.142857142857142,
          11.555555555555555,
          13.166666666666666,
          13,
          14,
          14.5
         ]
        },
        {
         "hoverinfo": "skip",
         "legendgroup": "Wis Save",
         "line": {
          "color": "#2ca02c"
         },
         "mode": "lines",
         "name": "Wis Save",
         "showlegend": false,
         "type": "scatter",
         "x": [
          1,
          2,
          3,
          4,
          5,
          6,
          7,
          8,
          9,
          10,
          11,
          12,
          13,
          14,
          15,
          16,
          17,
          18,
          19,
          20,
          21,
          22,
          23,
          24,
          25,
          26,
          27,
          28,
          30
         ],
         "y": [
          -0.18480382122095074,
          0.3195589540447009,
          0.8239217293103526,
          1.328284504576004,
          1.8326472798416558,
          2.3370100551073074,
          2.841372830372959,
          3.3457356056386107,
          3.850098380904262,
          4.354461156169914,
          4.858823931435566,
          5.363186706701217,
          5.8675494819668685,
          6.371912257232521,
          6.876275032498173,
          7.380637807763824,
          7.885000583029475,
          8.389363358295126,
          8.89372613356078,
          9.39808890882643,
          9.902451684092082,
          10.406814459357735,
          10.911177234623386,
          11.415540009889037,
          11.919902785154688,
          12.42426556042034,
          12.928628335685993,
          13.432991110951644,
          14.441716661482948
         ]
        },
        {
         "hovertemplate": "<b>Cha Save</b><br>CR %{x:,.0f}<br>Mean %{y:,.1f}<br><extra></extra>",
         "legendgroup": "Cha Save",
         "line": {
          "color": "#ff7f0e"
         },
         "mode": "markers",
         "name": "Cha Save",
         "type": "scatter",
         "x": [
          1,
          2,
          3,
          4,
          5,
          6,
          7,
          8,
          9,
          10,
          11,
          12,
          13,
          14,
          15,
          16,
          17,
          18,
          19,
          20,
          21,
          22,
          23,
          24,
          25,
          26,
          27,
          28,
          30
         ],
         "y": [
          -0.5526315789473685,
          -0.11494252873563218,
          0.09352517985611511,
          0.8080808080808081,
          0.7596899224806202,
          1.2535211267605635,
          2.0136986301369864,
          1.6493506493506493,
          2.5306122448979593,
          3.210526315789474,
          3.1707317073170733,
          3.9642857142857144,
          5.294117647058823,
          5.166666666666667,
          6.285714285714286,
          5.8,
          7.6875,
          8.5,
          9.777777777777779,
          8.727272727272727,
          9.533333333333333,
          9.9375,
          8.318181818181818,
          9,
          7.333333333333333,
          12,
          16,
          17.285714285714285,
          13.5
         ]
        },
        {
         "hoverinfo": "skip",
         "legendgroup": "Cha Save",
         "line": {
          "color": "#ff7f0e"
         },
         "mode": "lines",
         "name": "Cha Save",
         "showlegend": false,
         "type": "scatter",
         "x": [
          1,
          2,
          3,
          4,
          5,
          6,
          7,
          8,
          9,
          10,
          11,
          12,
          13,
          14,
          15,
          16,
          17,
          18,
          19,
          20,
          21,
          22,
          23,
          24,
          25,
          26,
          27,
          28,
          30
         ],
         "y": [
          -1.349781319986332,
          -0.8139650586941216,
          -0.27814879740191123,
          0.25766746389029915,
          0.7934837251825098,
          1.32929998647472,
          1.86511624776693,
          2.4009325090591407,
          2.9367487703513513,
          3.472565031643562,
          4.008381292935772,
          4.544197554227982,
          5.080013815520193,
          5.6158300768124025,
          6.151646338104614,
          6.687462599396824,
          7.2232788606890335,
          7.759095121981245,
          8.294911383273455,
          8.830727644565666,
          9.366543905857876,
          9.902360167150086,
          10.438176428442297,
          10.973992689734507,
          11.509808951026717,
          12.045625212318928,
          12.581441473611138,
          13.117257734903347,
          14.18889025748777
         ]
        }
       ],
       "layout": {
        "legend": {
         "orientation": "v",
         "tracegroupgap": 0,
         "x": 0,
         "xanchor": "left",
         "y": 1,
         "yanchor": "top"
        },
        "margin": {
         "b": 55,
         "l": 70,
         "pad": 4,
         "r": 25,
         "t": 20
        },
        "template": {
         "layout": {
          "autosize": false,
          "font": {
           "family": "sans-serif",
           "size": 14
          },
          "hoverlabel": {
           "align": "left"
          },
          "hovermode": "closest",
          "margin": {
           "b": 40,
           "l": 50,
           "pad": 4,
           "r": 25,
           "t": 20
          },
          "template": {
           "data": {
            "bar": [
             {
              "error_x": {
               "color": "#2a3f5f"
              },
              "error_y": {
               "color": "#2a3f5f"
              },
              "marker": {
               "line": {
                "color": "white",
                "width": 0.5
               },
               "pattern": {
                "fillmode": "overlay",
                "size": 10,
                "solidity": 0.2
               }
              },
              "type": "bar"
             }
            ],
            "barpolar": [
             {
              "marker": {
               "line": {
                "color": "white",
                "width": 0.5
               },
               "pattern": {
                "fillmode": "overlay",
                "size": 10,
                "solidity": 0.2
               }
              },
              "type": "barpolar"
             }
            ],
            "carpet": [
             {
              "aaxis": {
               "endlinecolor": "#2a3f5f",
               "gridcolor": "#C8D4E3",
               "linecolor": "#C8D4E3",
               "minorgridcolor": "#C8D4E3",
               "startlinecolor": "#2a3f5f"
              },
              "baxis": {
               "endlinecolor": "#2a3f5f",
               "gridcolor": "#C8D4E3",
               "linecolor": "#C8D4E3",
               "minorgridcolor": "#C8D4E3",
               "startlinecolor": "#2a3f5f"
              },
              "type": "carpet"
             }
            ],
            "choropleth": [
             {
              "colorbar": {
               "outlinewidth": 0,
               "ticks": ""
              },
              "type": "choropleth"
             }
            ],
            "contour": [
             {
              "colorbar": {
               "outlinewidth": 0,
               "ticks": ""
              },
              "colorscale": [
               [
                0,
                "#0d0887"
               ],
               [
                0.1111111111111111,
                "#46039f"
               ],
               [
                0.2222222222222222,
                "#7201a8"
               ],
               [
                0.3333333333333333,
                "#9c179e"
               ],
               [
                0.4444444444444444,
                "#bd3786"
               ],
               [
                0.5555555555555556,
                "#d8576b"
               ],
               [
                0.6666666666666666,
                "#ed7953"
               ],
               [
                0.7777777777777778,
                "#fb9f3a"
               ],
               [
                0.8888888888888888,
                "#fdca26"
               ],
               [
                1,
                "#f0f921"
               ]
              ],
              "type": "contour"
             }
            ],
            "contourcarpet": [
             {
              "colorbar": {
               "outlinewidth": 0,
               "ticks": ""
              },
              "type": "contourcarpet"
             }
            ],
            "heatmap": [
             {
              "colorbar": {
               "outlinewidth": 0,
               "ticks": ""
              },
              "colorscale": [
               [
                0,
                "#0d0887"
               ],
               [
                0.1111111111111111,
                "#46039f"
               ],
               [
                0.2222222222222222,
                "#7201a8"
               ],
               [
                0.3333333333333333,
                "#9c179e"
               ],
               [
                0.4444444444444444,
                "#bd3786"
               ],
               [
                0.5555555555555556,
                "#d8576b"
               ],
               [
                0.6666666666666666,
                "#ed7953"
               ],
               [
                0.7777777777777778,
                "#fb9f3a"
               ],
               [
                0.8888888888888888,
                "#fdca26"
               ],
               [
                1,
                "#f0f921"
               ]
              ],
              "type": "heatmap"
             }
            ],
            "heatmapgl": [
             {
              "colorbar": {
               "outlinewidth": 0,
               "ticks": ""
              },
              "colorscale": [
               [
                0,
                "#0d0887"
               ],
               [
                0.1111111111111111,
                "#46039f"
               ],
               [
                0.2222222222222222,
                "#7201a8"
               ],
               [
                0.3333333333333333,
                "#9c179e"
               ],
               [
                0.4444444444444444,
                "#bd3786"
               ],
               [
                0.5555555555555556,
                "#d8576b"
               ],
               [
                0.6666666666666666,
                "#ed7953"
               ],
               [
                0.7777777777777778,
                "#fb9f3a"
               ],
               [
                0.8888888888888888,
                "#fdca26"
               ],
               [
                1,
                "#f0f921"
               ]
              ],
              "type": "heatmapgl"
             }
            ],
            "histogram": [
             {
              "marker": {
               "pattern": {
                "fillmode": "overlay",
                "size": 10,
                "solidity": 0.2
               }
              },
              "type": "histogram"
             }
            ],
            "histogram2d": [
             {
              "colorbar": {
               "outlinewidth": 0,
               "ticks": ""
              },
              "colorscale": [
               [
                0,
                "#0d0887"
               ],
               [
                0.1111111111111111,
                "#46039f"
               ],
               [
                0.2222222222222222,
                "#7201a8"
               ],
               [
                0.3333333333333333,
                "#9c179e"
               ],
               [
                0.4444444444444444,
                "#bd3786"
               ],
               [
                0.5555555555555556,
                "#d8576b"
               ],
               [
                0.6666666666666666,
                "#ed7953"
               ],
               [
                0.7777777777777778,
                "#fb9f3a"
               ],
               [
                0.8888888888888888,
                "#fdca26"
               ],
               [
                1,
                "#f0f921"
               ]
              ],
              "type": "histogram2d"
             }
            ],
            "histogram2dcontour": [
             {
              "colorbar": {
               "outlinewidth": 0,
               "ticks": ""
              },
              "colorscale": [
               [
                0,
                "#0d0887"
               ],
               [
                0.1111111111111111,
                "#46039f"
               ],
               [
                0.2222222222222222,
                "#7201a8"
               ],
               [
                0.3333333333333333,
                "#9c179e"
               ],
               [
                0.4444444444444444,
                "#bd3786"
               ],
               [
                0.5555555555555556,
                "#d8576b"
               ],
               [
                0.6666666666666666,
                "#ed7953"
               ],
               [
                0.7777777777777778,
                "#fb9f3a"
               ],
               [
                0.8888888888888888,
                "#fdca26"
               ],
               [
                1,
                "#f0f921"
               ]
              ],
              "type": "histogram2dcontour"
             }
            ],
            "mesh3d": [
             {
              "colorbar": {
               "outlinewidth": 0,
               "ticks": ""
              },
              "type": "mesh3d"
             }
            ],
            "parcoords": [
             {
              "line": {
               "colorbar": {
                "outlinewidth": 0,
                "ticks": ""
               }
              },
              "type": "parcoords"
             }
            ],
            "pie": [
             {
              "automargin": true,
              "type": "pie"
             }
            ],
            "scatter": [
             {
              "fillpattern": {
               "fillmode": "overlay",
               "size": 10,
               "solidity": 0.2
              },
              "type": "scatter"
             }
            ],
            "scatter3d": [
             {
              "line": {
               "colorbar": {
                "outlinewidth": 0,
                "ticks": ""
               }
              },
              "marker": {
               "colorbar": {
                "outlinewidth": 0,
                "ticks": ""
               }
              },
              "type": "scatter3d"
             }
            ],
            "scattercarpet": [
             {
              "marker": {
               "colorbar": {
                "outlinewidth": 0,
                "ticks": ""
               }
              },
              "type": "scattercarpet"
             }
            ],
            "scattergeo": [
             {
              "marker": {
               "colorbar": {
                "outlinewidth": 0,
                "ticks": ""
               }
              },
              "type": "scattergeo"
             }
            ],
            "scattergl": [
             {
              "marker": {
               "colorbar": {
                "outlinewidth": 0,
                "ticks": ""
               }
              },
              "type": "scattergl"
             }
            ],
            "scattermapbox": [
             {
              "marker": {
               "colorbar": {
                "outlinewidth": 0,
                "ticks": ""
               }
              },
              "type": "scattermapbox"
             }
            ],
            "scatterpolar": [
             {
              "marker": {
               "colorbar": {
                "outlinewidth": 0,
                "ticks": ""
               }
              },
              "type": "scatterpolar"
             }
            ],
            "scatterpolargl": [
             {
              "marker": {
               "colorbar": {
                "outlinewidth": 0,
                "ticks": ""
               }
              },
              "type": "scatterpolargl"
             }
            ],
            "scatterternary": [
             {
              "marker": {
               "colorbar": {
                "outlinewidth": 0,
                "ticks": ""
               }
              },
              "type": "scatterternary"
             }
            ],
            "surface": [
             {
              "colorbar": {
               "outlinewidth": 0,
               "ticks": ""
              },
              "colorscale": [
               [
                0,
                "#0d0887"
               ],
               [
                0.1111111111111111,
                "#46039f"
               ],
               [
                0.2222222222222222,
                "#7201a8"
               ],
               [
                0.3333333333333333,
                "#9c179e"
               ],
               [
                0.4444444444444444,
                "#bd3786"
               ],
               [
                0.5555555555555556,
                "#d8576b"
               ],
               [
                0.6666666666666666,
                "#ed7953"
               ],
               [
                0.7777777777777778,
                "#fb9f3a"
               ],
               [
                0.8888888888888888,
                "#fdca26"
               ],
               [
                1,
                "#f0f921"
               ]
              ],
              "type": "surface"
             }
            ],
            "table": [
             {
              "cells": {
               "fill": {
                "color": "#EBF0F8"
               },
               "line": {
                "color": "white"
               }
              },
              "header": {
               "fill": {
                "color": "#C8D4E3"
               },
               "line": {
                "color": "white"
               }
              },
              "type": "table"
             }
            ]
           },
           "layout": {
            "annotationdefaults": {
             "arrowcolor": "#2a3f5f",
             "arrowhead": 0,
             "arrowwidth": 1
            },
            "autotypenumbers": "strict",
            "coloraxis": {
             "colorbar": {
              "outlinewidth": 0,
              "ticks": ""
             }
            },
            "colorscale": {
             "diverging": [
              [
               0,
               "#8e0152"
              ],
              [
               0.1,
               "#c51b7d"
              ],
              [
               0.2,
               "#de77ae"
              ],
              [
               0.3,
               "#f1b6da"
              ],
              [
               0.4,
               "#fde0ef"
              ],
              [
               0.5,
               "#f7f7f7"
              ],
              [
               0.6,
               "#e6f5d0"
              ],
              [
               0.7,
               "#b8e186"
              ],
              [
               0.8,
               "#7fbc41"
              ],
              [
               0.9,
               "#4d9221"
              ],
              [
               1,
               "#276419"
              ]
             ],
             "sequential": [
              [
               0,
               "#0d0887"
              ],
              [
               0.1111111111111111,
               "#46039f"
              ],
              [
               0.2222222222222222,
               "#7201a8"
              ],
              [
               0.3333333333333333,
               "#9c179e"
              ],
              [
               0.4444444444444444,
               "#bd3786"
              ],
              [
               0.5555555555555556,
               "#d8576b"
              ],
              [
               0.6666666666666666,
               "#ed7953"
              ],
              [
               0.7777777777777778,
               "#fb9f3a"
              ],
              [
               0.8888888888888888,
               "#fdca26"
              ],
              [
               1,
               "#f0f921"
              ]
             ],
             "sequentialminus": [
              [
               0,
               "#0d0887"
              ],
              [
               0.1111111111111111,
               "#46039f"
              ],
              [
               0.2222222222222222,
               "#7201a8"
              ],
              [
               0.3333333333333333,
               "#9c179e"
              ],
              [
               0.4444444444444444,
               "#bd3786"
              ],
              [
               0.5555555555555556,
               "#d8576b"
              ],
              [
               0.6666666666666666,
               "#ed7953"
              ],
              [
               0.7777777777777778,
               "#fb9f3a"
              ],
              [
               0.8888888888888888,
               "#fdca26"
              ],
              [
               1,
               "#f0f921"
              ]
             ]
            },
            "colorway": [
             "#636efa",
             "#EF553B",
             "#00cc96",
             "#ab63fa",
             "#FFA15A",
             "#19d3f3",
             "#FF6692",
             "#B6E880",
             "#FF97FF",
             "#FECB52"
            ],
            "font": {
             "color": "#2a3f5f"
            },
            "geo": {
             "bgcolor": "white",
             "lakecolor": "white",
             "landcolor": "white",
             "showlakes": true,
             "showland": true,
             "subunitcolor": "#C8D4E3"
            },
            "hoverlabel": {
             "align": "left"
            },
            "hovermode": "closest",
            "mapbox": {
             "style": "light"
            },
            "paper_bgcolor": "white",
            "plot_bgcolor": "white",
            "polar": {
             "angularaxis": {
              "gridcolor": "#EBF0F8",
              "linecolor": "#EBF0F8",
              "ticks": ""
             },
             "bgcolor": "white",
             "radialaxis": {
              "gridcolor": "#EBF0F8",
              "linecolor": "#EBF0F8",
              "ticks": ""
             }
            },
            "scene": {
             "xaxis": {
              "backgroundcolor": "white",
              "gridcolor": "#DFE8F3",
              "gridwidth": 2,
              "linecolor": "#EBF0F8",
              "showbackground": true,
              "ticks": "",
              "zerolinecolor": "#EBF0F8"
             },
             "yaxis": {
              "backgroundcolor": "white",
              "gridcolor": "#DFE8F3",
              "gridwidth": 2,
              "linecolor": "#EBF0F8",
              "showbackground": true,
              "ticks": "",
              "zerolinecolor": "#EBF0F8"
             },
             "zaxis": {
              "backgroundcolor": "white",
              "gridcolor": "#DFE8F3",
              "gridwidth": 2,
              "linecolor": "#EBF0F8",
              "showbackground": true,
              "ticks": "",
              "zerolinecolor": "#EBF0F8"
             }
            },
            "shapedefaults": {
             "line": {
              "color": "#2a3f5f"
             }
            },
            "ternary": {
             "aaxis": {
              "gridcolor": "#DFE8F3",
              "linecolor": "#A2B1C6",
              "ticks": ""
             },
             "baxis": {
              "gridcolor": "#DFE8F3",
              "linecolor": "#A2B1C6",
              "ticks": ""
             },
             "bgcolor": "white",
             "caxis": {
              "gridcolor": "#DFE8F3",
              "linecolor": "#A2B1C6",
              "ticks": ""
             }
            },
            "title": {
             "x": 0.05
            },
            "xaxis": {
             "automargin": true,
             "gridcolor": "#EBF0F8",
             "linecolor": "#EBF0F8",
             "ticks": "",
             "title": {
              "standoff": 15
             },
             "zerolinecolor": "#EBF0F8",
             "zerolinewidth": 2
            },
            "yaxis": {
             "automargin": true,
             "gridcolor": "#EBF0F8",
             "linecolor": "#EBF0F8",
             "ticks": "",
             "title": {
              "standoff": 15
             },
             "zerolinecolor": "#EBF0F8",
             "zerolinewidth": 2
            }
           }
          },
          "xaxis": {
           "automargin": false,
           "linecolor": "#444",
           "linewidth": 2,
           "minor": {
            "tickmode": "linear",
            "ticks": "outside"
           },
           "mirror": true,
           "showline": true,
           "tickmode": "linear",
           "ticks": "outside",
           "zeroline": false
          },
          "yaxis": {
           "automargin": false,
           "linecolor": "#444",
           "linewidth": 2,
           "minor": {
            "ticks": "outside"
           },
           "mirror": true,
           "showline": true,
           "ticks": "outside",
           "zeroline": false
          }
         }
        },
        "xaxis": {
         "dtick": 5,
         "minor": {
          "dtick": 1,
          "tick0": 0
         },
         "range": [
          0,
          31
         ],
         "tick0": 0,
         "title": {
          "text": "CR"
         }
        },
        "yaxis": {
         "dtick": 5,
         "minor": {
          "dtick": 1,
          "tick0": 0
         },
         "range": [
          -2,
          19
         ],
         "tick0": 0,
         "title": {
          "text": "saving throw bonus"
         }
        }
       }
      }
     },
     "metadata": {},
     "output_type": "display_data"
    }
   ],
   "source": [
    "# Saving throw modifier\n",
    "columns = ['Str Save','Dex Save','Con Save','Int Save','Wis Save','Cha Save']\n",
    "colors = ['#d62728','#9467bd','#8c564b','#1f77b4','#2ca02c','#ff7f0e']\n",
    "\n",
    "df1 = df0[df0['Category'].isin(['generic','legendary','unique']) & df0['CR'].between(1, 30)]\n",
    "\n",
    "# create figure\n",
    "fig = go.Figure(\n",
    "    layout=go.Layout(\n",
    "        template=TFB_TEMPLATE,\n",
    "        margin=dict(l=70, r=25, b=55, t=20, pad=4),\n",
    "        xaxis=dict(\n",
    "            title_text='CR',\n",
    "            range=[0,31],\n",
    "            tick0=0, dtick=5,\n",
    "            minor=dict(tick0=0, dtick=1),\n",
    "        ),\n",
    "        yaxis=dict(\n",
    "            title_text='saving throw bonus',\n",
    "            range=[-2,19],\n",
    "            tick0=0, dtick=5,\n",
    "            minor=dict(tick0=0, dtick=1),\n",
    "        ),\n",
    "        legend=dict(\n",
    "            xanchor='left', yanchor='top',\n",
    "            x=0.00, y=1.00,\n",
    "            orientation='v',\n",
    "            tracegroupgap=0,\n",
    "        )\n",
    "    )\n",
    ")\n",
    "\n",
    "for column, color in zip(columns, colors):\n",
    "    plot_mean_fit(fig, df1, 'CR', column, column, color)\n",
    "\n",
    "# show figure\n",
    "fig.show(config=TFB_CONFIG, width=600, height=450)\n",
    "fig.update_layout(autosize=True)\n",
    "\n",
    "# save figures\n",
    "if SAVEFIGS:\n",
    "    save_fig_html(fig, format='large', name='fig-saving-throw-modifier-vs-cr-large')\n",
    "    save_fig_html(fig, format='small', name='fig-saving-throw-modifier-vs-cr-small')"
   ]
  },
  {
   "cell_type": "code",
   "execution_count": 26,
   "metadata": {},
   "outputs": [
    {
     "data": {
      "application/vnd.plotly.v1+json": {
       "config": {
        "displayModeBar": "hover",
        "displaylogo": false,
        "modeBarButtonsToRemove": [
         "select2d",
         "lasso2d",
         "zoom2d",
         "zoomIn2d",
         "zoomOut2d",
         "pan2d",
         "autoScale2d",
         "hoverClosestCartesian",
         "hoverCompareCartesian",
         "toggleSpikelines",
         "resetScale2d"
        ],
        "plotlyServerURL": "https://plot.ly",
        "responsive": true,
        "showAxisDragHandles": false,
        "toImageButtonOptions": {
         "filename": "tfb-plot",
         "format": "png",
         "height": 450,
         "scale": 2,
         "width": 600
        }
       },
       "data": [
        {
         "hovertemplate": "<b>Str Mod</b><br>CR %{x:,.0f}<br>Mean %{y:,.1f}<br><extra></extra>",
         "legendgroup": "Str Mod",
         "line": {
          "color": "#d62728"
         },
         "mode": "markers",
         "name": "Str Mod",
         "type": "scatter",
         "x": [
          1,
          2,
          3,
          4,
          5,
          6,
          7,
          8,
          9,
          10,
          11,
          12,
          13,
          14,
          15,
          16,
          17,
          18,
          19,
          20,
          21,
          22,
          23,
          24,
          25,
          26,
          27,
          28,
          30
         ],
         "y": [
          1.0701754385964912,
          1.5977011494252873,
          2.1510791366906474,
          2.1616161616161618,
          2.511627906976744,
          2.732394366197183,
          2.6164383561643834,
          3.4285714285714284,
          3.6122448979591835,
          3.710526315789474,
          4.390243902439025,
          4.392857142857143,
          4.0588235294117645,
          4.416666666666667,
          4.761904761904762,
          5.48,
          4.625,
          3.642857142857143,
          5.666666666666667,
          5,
          6.4,
          5.875,
          7.409090909090909,
          8.357142857142858,
          9.555555555555555,
          8.833333333333334,
          10,
          9,
          10
         ]
        },
        {
         "hoverinfo": "skip",
         "legendgroup": "Str Mod",
         "line": {
          "color": "#d62728"
         },
         "mode": "lines",
         "name": "Str Mod",
         "showlegend": false,
         "type": "scatter",
         "x": [
          1,
          2,
          3,
          4,
          5,
          6,
          7,
          8,
          9,
          10,
          11,
          12,
          13,
          14,
          15,
          16,
          17,
          18,
          19,
          20,
          21,
          22,
          23,
          24,
          25,
          26,
          27,
          28,
          30
         ],
         "y": [
          1.0052528010425372,
          1.2959289346928546,
          1.5866050683431723,
          1.87728120199349,
          2.1679573356438073,
          2.458633469294125,
          2.749309602944443,
          3.03998573659476,
          3.330661870245078,
          3.6213380038953957,
          3.9120141375457127,
          4.202690271196031,
          4.493366404846348,
          4.784042538496666,
          5.074718672146983,
          5.365394805797301,
          5.656070939447619,
          5.946747073097936,
          6.237423206748254,
          6.528099340398572,
          6.818775474048889,
          7.1094516076992065,
          7.400127741349524,
          7.690803874999841,
          7.981480008650159,
          8.272156142300476,
          8.562832275950795,
          8.853508409601112,
          9.434860676901746
         ]
        },
        {
         "hovertemplate": "<b>Dex Mod</b><br>CR %{x:,.0f}<br>Mean %{y:,.1f}<br><extra></extra>",
         "legendgroup": "Dex Mod",
         "line": {
          "color": "#9467bd"
         },
         "mode": "markers",
         "name": "Dex Mod",
         "type": "scatter",
         "x": [
          1,
          2,
          3,
          4,
          5,
          6,
          7,
          8,
          9,
          10,
          11,
          12,
          13,
          14,
          15,
          16,
          17,
          18,
          19,
          20,
          21,
          22,
          23,
          24,
          25,
          26,
          27,
          28,
          30
         ],
         "y": [
          1.412280701754386,
          1.235632183908046,
          1.5611510791366907,
          1.5353535353535352,
          1.4728682170542635,
          1.4788732394366197,
          1.8904109589041096,
          1.4025974025974026,
          1.489795918367347,
          1.631578947368421,
          1.5121951219512195,
          1.3571428571428572,
          1.2647058823529411,
          1.625,
          1.9523809523809523,
          2.68,
          1.3125,
          2.142857142857143,
          3.3333333333333335,
          2.5454545454545454,
          2.466666666666667,
          1.8125,
          2.5,
          1.9285714285714286,
          1.1111111111111112,
          2.25,
          2,
          3.4285714285714284,
          1.5
         ]
        },
        {
         "hoverinfo": "skip",
         "legendgroup": "Dex Mod",
         "line": {
          "color": "#9467bd"
         },
         "mode": "lines",
         "name": "Dex Mod",
         "showlegend": false,
         "type": "scatter",
         "x": [
          1,
          2,
          3,
          4,
          5,
          6,
          7,
          8,
          9,
          10,
          11,
          12,
          13,
          14,
          15,
          16,
          17,
          18,
          19,
          20,
          21,
          22,
          23,
          24,
          25,
          26,
          27,
          28,
          30
         ],
         "y": [
          1.3661981996323953,
          1.401121503968845,
          1.4360448083052944,
          1.470968112641744,
          1.5058914169781936,
          1.5408147213146433,
          1.5757380256510929,
          1.6106613299875425,
          1.645584634323992,
          1.6805079386604416,
          1.7154312429968912,
          1.7503545473333408,
          1.7852778516697905,
          1.8202011560062399,
          1.8551244603426895,
          1.8900477646791392,
          1.9249710690155888,
          1.9598943733520384,
          1.9948176776884878,
          2.0297409820249372,
          2.064664286361387,
          2.099587590697837,
          2.1345108950342864,
          2.169434199370736,
          2.2043575037071856,
          2.239280808043635,
          2.274204112380085,
          2.3091274167165343,
          2.378974025389433
         ]
        },
        {
         "hovertemplate": "<b>Con Mod</b><br>CR %{x:,.0f}<br>Mean %{y:,.1f}<br><extra></extra>",
         "legendgroup": "Con Mod",
         "line": {
          "color": "#8c564b"
         },
         "mode": "markers",
         "name": "Con Mod",
         "type": "scatter",
         "x": [
          1,
          2,
          3,
          4,
          5,
          6,
          7,
          8,
          9,
          10,
          11,
          12,
          13,
          14,
          15,
          16,
          17,
          18,
          19,
          20,
          21,
          22,
          23,
          24,
          25,
          26,
          27,
          28,
          30
         ],
         "y": [
          1.368421052631579,
          1.6954022988505748,
          2.0575539568345325,
          2.202020202020202,
          2.62015503875969,
          2.9577464788732395,
          2.904109589041096,
          3.25974025974026,
          3.4489795918367347,
          3.8947368421052633,
          4.414634146341464,
          3.642857142857143,
          4.235294117647059,
          4.291666666666667,
          4.285714285714286,
          5,
          5.1875,
          5,
          5.555555555555555,
          6.2727272727272725,
          6.133333333333334,
          5.75,
          6.636363636363637,
          7.285714285714286,
          8.444444444444445,
          8.5,
          10,
          8.142857142857142,
          9.75
         ]
        },
        {
         "hoverinfo": "skip",
         "legendgroup": "Con Mod",
         "line": {
          "color": "#8c564b"
         },
         "mode": "lines",
         "name": "Con Mod",
         "showlegend": false,
         "type": "scatter",
         "x": [
          1,
          2,
          3,
          4,
          5,
          6,
          7,
          8,
          9,
          10,
          11,
          12,
          13,
          14,
          15,
          16,
          17,
          18,
          19,
          20,
          21,
          22,
          23,
          24,
          25,
          26,
          27,
          28,
          30
         ],
         "y": [
          1.2200821887321345,
          1.4892594463922908,
          1.758436704052447,
          2.027613961712603,
          2.296791219372759,
          2.565968477032915,
          2.8351457346930715,
          3.104322992353228,
          3.373500250013384,
          3.6426775076735396,
          3.911854765333696,
          4.181032022993852,
          4.450209280654009,
          4.719386538314165,
          4.98856379597432,
          5.257741053634477,
          5.526918311294633,
          5.796095568954789,
          6.065272826614945,
          6.334450084275101,
          6.603627341935257,
          6.872804599595414,
          7.14198185725557,
          7.411159114915726,
          7.680336372575882,
          7.949513630236038,
          8.218690887896194,
          8.487868145556352,
          9.026222660876662
         ]
        },
        {
         "hovertemplate": "<b>Int Mod</b><br>CR %{x:,.0f}<br>Mean %{y:,.1f}<br><extra></extra>",
         "legendgroup": "Int Mod",
         "line": {
          "color": "#1f77b4"
         },
         "mode": "markers",
         "name": "Int Mod",
         "type": "scatter",
         "x": [
          1,
          2,
          3,
          4,
          5,
          6,
          7,
          8,
          9,
          10,
          11,
          12,
          13,
          14,
          15,
          16,
          17,
          18,
          19,
          20,
          21,
          22,
          23,
          24,
          25,
          26,
          27,
          28,
          30
         ],
         "y": [
          -1.2017543859649122,
          -0.8160919540229885,
          -0.5899280575539568,
          0.20202020202020202,
          -0.11627906976744186,
          0.11267605633802817,
          0.6986301369863014,
          0,
          1.1224489795918366,
          1.736842105263158,
          0.7804878048780488,
          1.25,
          2.0588235294117645,
          1.5,
          2.142857142857143,
          1.52,
          2.8125,
          3.2142857142857144,
          3.6666666666666665,
          2.6363636363636362,
          4.6,
          4.4375,
          4.409090909090909,
          5.142857142857143,
          4,
          7.833333333333333,
          5,
          5.714285714285714,
          4
         ]
        },
        {
         "hoverinfo": "skip",
         "legendgroup": "Int Mod",
         "line": {
          "color": "#1f77b4"
         },
         "mode": "lines",
         "name": "Int Mod",
         "showlegend": false,
         "type": "scatter",
         "x": [
          1,
          2,
          3,
          4,
          5,
          6,
          7,
          8,
          9,
          10,
          11,
          12,
          13,
          14,
          15,
          16,
          17,
          18,
          19,
          20,
          21,
          22,
          23,
          24,
          25,
          26,
          27,
          28,
          30
         ],
         "y": [
          -1.0809042473580872,
          -0.8371356017062327,
          -0.5933669560543782,
          -0.34959831040252354,
          -0.1058296647506689,
          0.1379389809011855,
          0.38170762655304014,
          0.6254762722048948,
          0.8692449178567492,
          1.113013563508604,
          1.3567822091604584,
          1.6005508548123129,
          1.8443195004641677,
          2.0880881461160223,
          2.331856791767877,
          2.575625437419731,
          2.819394083071586,
          3.06316272872344,
          3.306931374375295,
          3.5507000200271497,
          3.7944686656790036,
          4.0382373113308585,
          4.282005956982713,
          4.525774602634567,
          4.769543248286422,
          5.013311893938277,
          5.257080539590132,
          5.500849185241986,
          5.988386476545696
         ]
        },
        {
         "hovertemplate": "<b>Wis Mod</b><br>CR %{x:,.0f}<br>Mean %{y:,.1f}<br><extra></extra>",
         "legendgroup": "Wis Mod",
         "line": {
          "color": "#2ca02c"
         },
         "mode": "markers",
         "name": "Wis Mod",
         "type": "scatter",
         "x": [
          1,
          2,
          3,
          4,
          5,
          6,
          7,
          8,
          9,
          10,
          11,
          12,
          13,
          14,
          15,
          16,
          17,
          18,
          19,
          20,
          21,
          22,
          23,
          24,
          25,
          26,
          27,
          28,
          30
         ],
         "y": [
          0.32456140350877194,
          0.4367816091954023,
          0.697841726618705,
          0.8888888888888888,
          1.1550387596899225,
          1.0985915492957747,
          1.095890410958904,
          1.4935064935064934,
          1.510204081632653,
          2,
          1.829268292682927,
          2.2857142857142856,
          1.7058823529411764,
          2,
          2.238095238095238,
          2.76,
          2.6875,
          3.9285714285714284,
          4,
          2.5454545454545454,
          4.466666666666667,
          3.6875,
          4.590909090909091,
          5.142857142857143,
          3.7777777777777777,
          5.166666666666667,
          5,
          6,
          5.5
         ]
        },
        {
         "hoverinfo": "skip",
         "legendgroup": "Wis Mod",
         "line": {
          "color": "#2ca02c"
         },
         "mode": "lines",
         "name": "Wis Mod",
         "showlegend": false,
         "type": "scatter",
         "x": [
          1,
          2,
          3,
          4,
          5,
          6,
          7,
          8,
          9,
          10,
          11,
          12,
          13,
          14,
          15,
          16,
          17,
          18,
          19,
          20,
          21,
          22,
          23,
          24,
          25,
          26,
          27,
          28,
          30
         ],
         "y": [
          0.10795180350702066,
          0.2968549143422267,
          0.4857580251774328,
          0.6746611360126389,
          0.8635642468478448,
          1.052467357683051,
          1.241370468518257,
          1.430273579353463,
          1.6191766901886693,
          1.8080798010238752,
          1.9969829118590812,
          2.1858860226942873,
          2.3747891335294935,
          2.5636922443646992,
          2.7525953551999054,
          2.9414984660351116,
          3.1304015768703177,
          3.319304687705524,
          3.5082077985407296,
          3.697110909375936,
          3.886014020211142,
          4.074917131046347,
          4.263820241881554,
          4.45272335271676,
          4.641626463551965,
          4.830529574387172,
          5.019432685222378,
          5.208335796057583,
          5.586142017727996
         ]
        },
        {
         "hovertemplate": "<b>Cha Mod</b><br>CR %{x:,.0f}<br>Mean %{y:,.1f}<br><extra></extra>",
         "legendgroup": "Cha Mod",
         "line": {
          "color": "#ff7f0e"
         },
         "mode": "markers",
         "name": "Cha Mod",
         "type": "scatter",
         "x": [
          1,
          2,
          3,
          4,
          5,
          6,
          7,
          8,
          9,
          10,
          11,
          12,
          13,
          14,
          15,
          16,
          17,
          18,
          19,
          20,
          21,
          22,
          23,
          24,
          25,
          26,
          27,
          28,
          30
         ],
         "y": [
          -0.6403508771929824,
          -0.3563218390804598,
          -0.050359712230215826,
          0.48484848484848486,
          0.24806201550387597,
          0.4507042253521127,
          0.9863013698630136,
          0.7532467532467533,
          1.3877551020408163,
          2.0526315789473686,
          1.7073170731707317,
          2.6785714285714284,
          2.3823529411764706,
          2.4583333333333335,
          3.1904761904761907,
          2.6,
          4,
          4.214285714285714,
          5.111111111111111,
          4.363636363636363,
          5.4,
          4.6875,
          5.136363636363637,
          5.5,
          3.7777777777777777,
          6.666666666666667,
          8,
          9.285714285714286,
          6.75
         ]
        },
        {
         "hoverinfo": "skip",
         "legendgroup": "Cha Mod",
         "line": {
          "color": "#ff7f0e"
         },
         "mode": "lines",
         "name": "Cha Mod",
         "showlegend": false,
         "type": "scatter",
         "x": [
          1,
          2,
          3,
          4,
          5,
          6,
          7,
          8,
          9,
          10,
          11,
          12,
          13,
          14,
          15,
          16,
          17,
          18,
          19,
          20,
          21,
          22,
          23,
          24,
          25,
          26,
          27,
          28,
          30
         ],
         "y": [
          -0.8454723826091907,
          -0.5561718353874487,
          -0.2668712881657068,
          0.0224292590560351,
          0.31172980627777713,
          0.6010303534995189,
          0.8903309007212608,
          1.1796314479430028,
          1.4689319951647448,
          1.7582325423864869,
          2.0475330896082284,
          2.3368336368299705,
          2.6261341840517125,
          2.915434731273454,
          3.2047352784951966,
          3.494035825716938,
          3.7833363729386797,
          4.072636920160422,
          4.361937467382164,
          4.651238014603907,
          4.940538561825647,
          5.22983910904739,
          5.519139656269132,
          5.808440203490873,
          6.097740750712616,
          6.387041297934358,
          6.676341845156099,
          6.965642392377841,
          7.544243486821326
         ]
        }
       ],
       "layout": {
        "legend": {
         "orientation": "v",
         "tracegroupgap": 0,
         "x": 0,
         "xanchor": "left",
         "y": 1,
         "yanchor": "top"
        },
        "margin": {
         "b": 55,
         "l": 70,
         "pad": 4,
         "r": 25,
         "t": 20
        },
        "template": {
         "layout": {
          "autosize": false,
          "font": {
           "family": "sans-serif",
           "size": 14
          },
          "hoverlabel": {
           "align": "left"
          },
          "hovermode": "closest",
          "margin": {
           "b": 40,
           "l": 50,
           "pad": 4,
           "r": 25,
           "t": 20
          },
          "template": {
           "data": {
            "bar": [
             {
              "error_x": {
               "color": "#2a3f5f"
              },
              "error_y": {
               "color": "#2a3f5f"
              },
              "marker": {
               "line": {
                "color": "white",
                "width": 0.5
               },
               "pattern": {
                "fillmode": "overlay",
                "size": 10,
                "solidity": 0.2
               }
              },
              "type": "bar"
             }
            ],
            "barpolar": [
             {
              "marker": {
               "line": {
                "color": "white",
                "width": 0.5
               },
               "pattern": {
                "fillmode": "overlay",
                "size": 10,
                "solidity": 0.2
               }
              },
              "type": "barpolar"
             }
            ],
            "carpet": [
             {
              "aaxis": {
               "endlinecolor": "#2a3f5f",
               "gridcolor": "#C8D4E3",
               "linecolor": "#C8D4E3",
               "minorgridcolor": "#C8D4E3",
               "startlinecolor": "#2a3f5f"
              },
              "baxis": {
               "endlinecolor": "#2a3f5f",
               "gridcolor": "#C8D4E3",
               "linecolor": "#C8D4E3",
               "minorgridcolor": "#C8D4E3",
               "startlinecolor": "#2a3f5f"
              },
              "type": "carpet"
             }
            ],
            "choropleth": [
             {
              "colorbar": {
               "outlinewidth": 0,
               "ticks": ""
              },
              "type": "choropleth"
             }
            ],
            "contour": [
             {
              "colorbar": {
               "outlinewidth": 0,
               "ticks": ""
              },
              "colorscale": [
               [
                0,
                "#0d0887"
               ],
               [
                0.1111111111111111,
                "#46039f"
               ],
               [
                0.2222222222222222,
                "#7201a8"
               ],
               [
                0.3333333333333333,
                "#9c179e"
               ],
               [
                0.4444444444444444,
                "#bd3786"
               ],
               [
                0.5555555555555556,
                "#d8576b"
               ],
               [
                0.6666666666666666,
                "#ed7953"
               ],
               [
                0.7777777777777778,
                "#fb9f3a"
               ],
               [
                0.8888888888888888,
                "#fdca26"
               ],
               [
                1,
                "#f0f921"
               ]
              ],
              "type": "contour"
             }
            ],
            "contourcarpet": [
             {
              "colorbar": {
               "outlinewidth": 0,
               "ticks": ""
              },
              "type": "contourcarpet"
             }
            ],
            "heatmap": [
             {
              "colorbar": {
               "outlinewidth": 0,
               "ticks": ""
              },
              "colorscale": [
               [
                0,
                "#0d0887"
               ],
               [
                0.1111111111111111,
                "#46039f"
               ],
               [
                0.2222222222222222,
                "#7201a8"
               ],
               [
                0.3333333333333333,
                "#9c179e"
               ],
               [
                0.4444444444444444,
                "#bd3786"
               ],
               [
                0.5555555555555556,
                "#d8576b"
               ],
               [
                0.6666666666666666,
                "#ed7953"
               ],
               [
                0.7777777777777778,
                "#fb9f3a"
               ],
               [
                0.8888888888888888,
                "#fdca26"
               ],
               [
                1,
                "#f0f921"
               ]
              ],
              "type": "heatmap"
             }
            ],
            "heatmapgl": [
             {
              "colorbar": {
               "outlinewidth": 0,
               "ticks": ""
              },
              "colorscale": [
               [
                0,
                "#0d0887"
               ],
               [
                0.1111111111111111,
                "#46039f"
               ],
               [
                0.2222222222222222,
                "#7201a8"
               ],
               [
                0.3333333333333333,
                "#9c179e"
               ],
               [
                0.4444444444444444,
                "#bd3786"
               ],
               [
                0.5555555555555556,
                "#d8576b"
               ],
               [
                0.6666666666666666,
                "#ed7953"
               ],
               [
                0.7777777777777778,
                "#fb9f3a"
               ],
               [
                0.8888888888888888,
                "#fdca26"
               ],
               [
                1,
                "#f0f921"
               ]
              ],
              "type": "heatmapgl"
             }
            ],
            "histogram": [
             {
              "marker": {
               "pattern": {
                "fillmode": "overlay",
                "size": 10,
                "solidity": 0.2
               }
              },
              "type": "histogram"
             }
            ],
            "histogram2d": [
             {
              "colorbar": {
               "outlinewidth": 0,
               "ticks": ""
              },
              "colorscale": [
               [
                0,
                "#0d0887"
               ],
               [
                0.1111111111111111,
                "#46039f"
               ],
               [
                0.2222222222222222,
                "#7201a8"
               ],
               [
                0.3333333333333333,
                "#9c179e"
               ],
               [
                0.4444444444444444,
                "#bd3786"
               ],
               [
                0.5555555555555556,
                "#d8576b"
               ],
               [
                0.6666666666666666,
                "#ed7953"
               ],
               [
                0.7777777777777778,
                "#fb9f3a"
               ],
               [
                0.8888888888888888,
                "#fdca26"
               ],
               [
                1,
                "#f0f921"
               ]
              ],
              "type": "histogram2d"
             }
            ],
            "histogram2dcontour": [
             {
              "colorbar": {
               "outlinewidth": 0,
               "ticks": ""
              },
              "colorscale": [
               [
                0,
                "#0d0887"
               ],
               [
                0.1111111111111111,
                "#46039f"
               ],
               [
                0.2222222222222222,
                "#7201a8"
               ],
               [
                0.3333333333333333,
                "#9c179e"
               ],
               [
                0.4444444444444444,
                "#bd3786"
               ],
               [
                0.5555555555555556,
                "#d8576b"
               ],
               [
                0.6666666666666666,
                "#ed7953"
               ],
               [
                0.7777777777777778,
                "#fb9f3a"
               ],
               [
                0.8888888888888888,
                "#fdca26"
               ],
               [
                1,
                "#f0f921"
               ]
              ],
              "type": "histogram2dcontour"
             }
            ],
            "mesh3d": [
             {
              "colorbar": {
               "outlinewidth": 0,
               "ticks": ""
              },
              "type": "mesh3d"
             }
            ],
            "parcoords": [
             {
              "line": {
               "colorbar": {
                "outlinewidth": 0,
                "ticks": ""
               }
              },
              "type": "parcoords"
             }
            ],
            "pie": [
             {
              "automargin": true,
              "type": "pie"
             }
            ],
            "scatter": [
             {
              "fillpattern": {
               "fillmode": "overlay",
               "size": 10,
               "solidity": 0.2
              },
              "type": "scatter"
             }
            ],
            "scatter3d": [
             {
              "line": {
               "colorbar": {
                "outlinewidth": 0,
                "ticks": ""
               }
              },
              "marker": {
               "colorbar": {
                "outlinewidth": 0,
                "ticks": ""
               }
              },
              "type": "scatter3d"
             }
            ],
            "scattercarpet": [
             {
              "marker": {
               "colorbar": {
                "outlinewidth": 0,
                "ticks": ""
               }
              },
              "type": "scattercarpet"
             }
            ],
            "scattergeo": [
             {
              "marker": {
               "colorbar": {
                "outlinewidth": 0,
                "ticks": ""
               }
              },
              "type": "scattergeo"
             }
            ],
            "scattergl": [
             {
              "marker": {
               "colorbar": {
                "outlinewidth": 0,
                "ticks": ""
               }
              },
              "type": "scattergl"
             }
            ],
            "scattermapbox": [
             {
              "marker": {
               "colorbar": {
                "outlinewidth": 0,
                "ticks": ""
               }
              },
              "type": "scattermapbox"
             }
            ],
            "scatterpolar": [
             {
              "marker": {
               "colorbar": {
                "outlinewidth": 0,
                "ticks": ""
               }
              },
              "type": "scatterpolar"
             }
            ],
            "scatterpolargl": [
             {
              "marker": {
               "colorbar": {
                "outlinewidth": 0,
                "ticks": ""
               }
              },
              "type": "scatterpolargl"
             }
            ],
            "scatterternary": [
             {
              "marker": {
               "colorbar": {
                "outlinewidth": 0,
                "ticks": ""
               }
              },
              "type": "scatterternary"
             }
            ],
            "surface": [
             {
              "colorbar": {
               "outlinewidth": 0,
               "ticks": ""
              },
              "colorscale": [
               [
                0,
                "#0d0887"
               ],
               [
                0.1111111111111111,
                "#46039f"
               ],
               [
                0.2222222222222222,
                "#7201a8"
               ],
               [
                0.3333333333333333,
                "#9c179e"
               ],
               [
                0.4444444444444444,
                "#bd3786"
               ],
               [
                0.5555555555555556,
                "#d8576b"
               ],
               [
                0.6666666666666666,
                "#ed7953"
               ],
               [
                0.7777777777777778,
                "#fb9f3a"
               ],
               [
                0.8888888888888888,
                "#fdca26"
               ],
               [
                1,
                "#f0f921"
               ]
              ],
              "type": "surface"
             }
            ],
            "table": [
             {
              "cells": {
               "fill": {
                "color": "#EBF0F8"
               },
               "line": {
                "color": "white"
               }
              },
              "header": {
               "fill": {
                "color": "#C8D4E3"
               },
               "line": {
                "color": "white"
               }
              },
              "type": "table"
             }
            ]
           },
           "layout": {
            "annotationdefaults": {
             "arrowcolor": "#2a3f5f",
             "arrowhead": 0,
             "arrowwidth": 1
            },
            "autotypenumbers": "strict",
            "coloraxis": {
             "colorbar": {
              "outlinewidth": 0,
              "ticks": ""
             }
            },
            "colorscale": {
             "diverging": [
              [
               0,
               "#8e0152"
              ],
              [
               0.1,
               "#c51b7d"
              ],
              [
               0.2,
               "#de77ae"
              ],
              [
               0.3,
               "#f1b6da"
              ],
              [
               0.4,
               "#fde0ef"
              ],
              [
               0.5,
               "#f7f7f7"
              ],
              [
               0.6,
               "#e6f5d0"
              ],
              [
               0.7,
               "#b8e186"
              ],
              [
               0.8,
               "#7fbc41"
              ],
              [
               0.9,
               "#4d9221"
              ],
              [
               1,
               "#276419"
              ]
             ],
             "sequential": [
              [
               0,
               "#0d0887"
              ],
              [
               0.1111111111111111,
               "#46039f"
              ],
              [
               0.2222222222222222,
               "#7201a8"
              ],
              [
               0.3333333333333333,
               "#9c179e"
              ],
              [
               0.4444444444444444,
               "#bd3786"
              ],
              [
               0.5555555555555556,
               "#d8576b"
              ],
              [
               0.6666666666666666,
               "#ed7953"
              ],
              [
               0.7777777777777778,
               "#fb9f3a"
              ],
              [
               0.8888888888888888,
               "#fdca26"
              ],
              [
               1,
               "#f0f921"
              ]
             ],
             "sequentialminus": [
              [
               0,
               "#0d0887"
              ],
              [
               0.1111111111111111,
               "#46039f"
              ],
              [
               0.2222222222222222,
               "#7201a8"
              ],
              [
               0.3333333333333333,
               "#9c179e"
              ],
              [
               0.4444444444444444,
               "#bd3786"
              ],
              [
               0.5555555555555556,
               "#d8576b"
              ],
              [
               0.6666666666666666,
               "#ed7953"
              ],
              [
               0.7777777777777778,
               "#fb9f3a"
              ],
              [
               0.8888888888888888,
               "#fdca26"
              ],
              [
               1,
               "#f0f921"
              ]
             ]
            },
            "colorway": [
             "#636efa",
             "#EF553B",
             "#00cc96",
             "#ab63fa",
             "#FFA15A",
             "#19d3f3",
             "#FF6692",
             "#B6E880",
             "#FF97FF",
             "#FECB52"
            ],
            "font": {
             "color": "#2a3f5f"
            },
            "geo": {
             "bgcolor": "white",
             "lakecolor": "white",
             "landcolor": "white",
             "showlakes": true,
             "showland": true,
             "subunitcolor": "#C8D4E3"
            },
            "hoverlabel": {
             "align": "left"
            },
            "hovermode": "closest",
            "mapbox": {
             "style": "light"
            },
            "paper_bgcolor": "white",
            "plot_bgcolor": "white",
            "polar": {
             "angularaxis": {
              "gridcolor": "#EBF0F8",
              "linecolor": "#EBF0F8",
              "ticks": ""
             },
             "bgcolor": "white",
             "radialaxis": {
              "gridcolor": "#EBF0F8",
              "linecolor": "#EBF0F8",
              "ticks": ""
             }
            },
            "scene": {
             "xaxis": {
              "backgroundcolor": "white",
              "gridcolor": "#DFE8F3",
              "gridwidth": 2,
              "linecolor": "#EBF0F8",
              "showbackground": true,
              "ticks": "",
              "zerolinecolor": "#EBF0F8"
             },
             "yaxis": {
              "backgroundcolor": "white",
              "gridcolor": "#DFE8F3",
              "gridwidth": 2,
              "linecolor": "#EBF0F8",
              "showbackground": true,
              "ticks": "",
              "zerolinecolor": "#EBF0F8"
             },
             "zaxis": {
              "backgroundcolor": "white",
              "gridcolor": "#DFE8F3",
              "gridwidth": 2,
              "linecolor": "#EBF0F8",
              "showbackground": true,
              "ticks": "",
              "zerolinecolor": "#EBF0F8"
             }
            },
            "shapedefaults": {
             "line": {
              "color": "#2a3f5f"
             }
            },
            "ternary": {
             "aaxis": {
              "gridcolor": "#DFE8F3",
              "linecolor": "#A2B1C6",
              "ticks": ""
             },
             "baxis": {
              "gridcolor": "#DFE8F3",
              "linecolor": "#A2B1C6",
              "ticks": ""
             },
             "bgcolor": "white",
             "caxis": {
              "gridcolor": "#DFE8F3",
              "linecolor": "#A2B1C6",
              "ticks": ""
             }
            },
            "title": {
             "x": 0.05
            },
            "xaxis": {
             "automargin": true,
             "gridcolor": "#EBF0F8",
             "linecolor": "#EBF0F8",
             "ticks": "",
             "title": {
              "standoff": 15
             },
             "zerolinecolor": "#EBF0F8",
             "zerolinewidth": 2
            },
            "yaxis": {
             "automargin": true,
             "gridcolor": "#EBF0F8",
             "linecolor": "#EBF0F8",
             "ticks": "",
             "title": {
              "standoff": 15
             },
             "zerolinecolor": "#EBF0F8",
             "zerolinewidth": 2
            }
           }
          },
          "xaxis": {
           "automargin": false,
           "linecolor": "#444",
           "linewidth": 2,
           "minor": {
            "tickmode": "linear",
            "ticks": "outside"
           },
           "mirror": true,
           "showline": true,
           "tickmode": "linear",
           "ticks": "outside",
           "zeroline": false
          },
          "yaxis": {
           "automargin": false,
           "linecolor": "#444",
           "linewidth": 2,
           "minor": {
            "ticks": "outside"
           },
           "mirror": true,
           "showline": true,
           "ticks": "outside",
           "zeroline": false
          }
         }
        },
        "xaxis": {
         "dtick": 5,
         "minor": {
          "dtick": 1,
          "tick0": 0
         },
         "range": [
          0,
          31
         ],
         "tick0": 0,
         "title": {
          "text": "CR"
         }
        },
        "yaxis": {
         "dtick": 2,
         "minor": {
          "dtick": 1,
          "tick0": 0
         },
         "range": [
          -2,
          11
         ],
         "tick0": 0,
         "title": {
          "text": "ability score modifier"
         }
        }
       }
      }
     },
     "metadata": {},
     "output_type": "display_data"
    }
   ],
   "source": [
    "# Ability score modifier\n",
    "columns = ['Str Mod','Dex Mod','Con Mod','Int Mod','Wis Mod','Cha Mod']\n",
    "colors = ['#d62728','#9467bd','#8c564b','#1f77b4','#2ca02c','#ff7f0e']\n",
    "\n",
    "df1 = df0[df0['Category'].isin(['generic','legendary','unique']) & df0['CR'].between(1, 30)]\n",
    "\n",
    "# create figure\n",
    "fig = go.Figure(\n",
    "    layout=go.Layout(\n",
    "        template=TFB_TEMPLATE,\n",
    "        margin=dict(l=70, r=25, b=55, t=20, pad=4),\n",
    "        xaxis=dict(\n",
    "            title_text='CR',\n",
    "            range=[0,31],\n",
    "            tick0=0, dtick=5,\n",
    "            minor=dict(tick0=0, dtick=1),\n",
    "        ),\n",
    "        yaxis=dict(\n",
    "            title_text='ability score modifier',\n",
    "            range=[-2,11],\n",
    "            tick0=0, dtick=2,\n",
    "            minor=dict(tick0=0, dtick=1),\n",
    "        ),\n",
    "        legend=dict(\n",
    "            xanchor='left', yanchor='top',\n",
    "            x=0.00, y=1.00,\n",
    "            orientation='v',\n",
    "            tracegroupgap=0,\n",
    "        )\n",
    "    )\n",
    ")\n",
    "\n",
    "for column, color in zip(columns, colors):\n",
    "    plot_mean_fit(fig, df1, 'CR', column, column, color)\n",
    "\n",
    "# show figure\n",
    "fig.show(config=TFB_CONFIG, width=600, height=450)\n",
    "fig.update_layout(autosize=True)\n",
    "\n",
    "# save figures\n",
    "if SAVEFIGS:\n",
    "    save_fig_html(fig, format='large', name='fig-ability-score-modifier-vs-cr-large')\n",
    "    save_fig_html(fig, format='small', name='fig-ability-score-modifier-vs-cr-small')"
   ]
  },
  {
   "cell_type": "code",
   "execution_count": 28,
   "metadata": {},
   "outputs": [
    {
     "data": {
      "application/vnd.plotly.v1+json": {
       "config": {
        "displayModeBar": "hover",
        "displaylogo": false,
        "modeBarButtonsToRemove": [
         "select2d",
         "lasso2d",
         "zoom2d",
         "zoomIn2d",
         "zoomOut2d",
         "pan2d",
         "autoScale2d",
         "hoverClosestCartesian",
         "hoverCompareCartesian",
         "toggleSpikelines",
         "resetScale2d"
        ],
        "plotlyServerURL": "https://plot.ly",
        "responsive": true,
        "showAxisDragHandles": false,
        "toImageButtonOptions": {
         "filename": "tfb-plot",
         "format": "png",
         "height": 450,
         "scale": 2,
         "width": 600
        }
       },
       "data": [
        {
         "hovertemplate": "<b>Str Prof</b><br>CR %{x:,.0f}<br>Mean %{y:,.1f}<br><extra></extra>",
         "legendgroup": "Str Prof",
         "line": {
          "color": "#d62728"
         },
         "mode": "markers",
         "name": "Str Prof",
         "type": "scatter",
         "x": [
          1,
          2,
          3,
          4,
          5,
          6,
          7,
          8,
          9,
          10,
          11,
          12,
          13,
          14,
          15,
          16,
          17,
          18,
          19,
          20,
          21,
          22,
          23,
          24,
          25,
          26,
          27,
          28,
          30
         ],
         "y": [
          0,
          0.028735632183908046,
          0.07194244604316546,
          0.050505050505050504,
          0.08527131782945736,
          0.11267605633802817,
          0.0547945205479452,
          0.1038961038961039,
          0.12244897959183673,
          0.05263157894736842,
          0.17073170731707318,
          0.25,
          0.17647058823529413,
          0.16666666666666666,
          0.14285714285714285,
          0.32,
          0.125,
          0.21428571428571427,
          0.2222222222222222,
          0.09090909090909091,
          0.06666666666666667,
          0,
          0.13636363636363635,
          0.07142857142857142,
          0.1111111111111111,
          0,
          0,
          0.14285714285714285,
          0.25
         ]
        },
        {
         "hoverinfo": "skip",
         "legendgroup": "Str Prof",
         "line": {
          "color": "#d62728"
         },
         "mode": "lines",
         "name": "Str Prof",
         "showlegend": false,
         "type": "scatter",
         "x": [
          1,
          2,
          3,
          4,
          5,
          6,
          7,
          8,
          9,
          10,
          11,
          12,
          13,
          14,
          15,
          16,
          17,
          18,
          19,
          20,
          21,
          22,
          23,
          24,
          25,
          26,
          27,
          28,
          30
         ],
         "y": [
          0.09120982475092235,
          0.09291839238980797,
          0.0946269600286936,
          0.09633552766757922,
          0.09804409530646484,
          0.09975266294535046,
          0.10146123058423609,
          0.10316979822312171,
          0.10487836586200733,
          0.10658693350089295,
          0.10829550113977857,
          0.1100040687786642,
          0.11171263641754982,
          0.11342120405643544,
          0.11512977169532107,
          0.11683833933420669,
          0.11854690697309231,
          0.12025547461197793,
          0.12196404225086355,
          0.12367260988974918,
          0.1253811775286348,
          0.12708974516752042,
          0.12879831280640605,
          0.13050688044529166,
          0.1322154480841773,
          0.1339240157230629,
          0.13563258336194853,
          0.13734115100083416,
          0.1407582862786054
         ]
        },
        {
         "hovertemplate": "<b>Dex Prof</b><br>CR %{x:,.0f}<br>Mean %{y:,.1f}<br><extra></extra>",
         "legendgroup": "Dex Prof",
         "line": {
          "color": "#9467bd"
         },
         "mode": "markers",
         "name": "Dex Prof",
         "type": "scatter",
         "x": [
          1,
          2,
          3,
          4,
          5,
          6,
          7,
          8,
          9,
          10,
          11,
          12,
          13,
          14,
          15,
          16,
          17,
          18,
          19,
          20,
          21,
          22,
          23,
          24,
          25,
          26,
          27,
          28,
          30
         ],
         "y": [
          0.08771929824561403,
          0.16091954022988506,
          0.11510791366906475,
          0.15151515151515152,
          0.20930232558139536,
          0.15492957746478872,
          0.2328767123287671,
          0.2077922077922078,
          0.20408163265306123,
          0.2631578947368421,
          0.34146341463414637,
          0.2857142857142857,
          0.35294117647058826,
          0.3333333333333333,
          0.42857142857142855,
          0.4,
          0.625,
          0.35714285714285715,
          0.4444444444444444,
          0.45454545454545453,
          0.6,
          0.4375,
          0.6818181818181818,
          0.8571428571428571,
          0.7777777777777778,
          0.75,
          1,
          0.7142857142857143,
          0.5
         ]
        },
        {
         "hoverinfo": "skip",
         "legendgroup": "Dex Prof",
         "line": {
          "color": "#9467bd"
         },
         "mode": "lines",
         "name": "Dex Prof",
         "showlegend": false,
         "type": "scatter",
         "x": [
          1,
          2,
          3,
          4,
          5,
          6,
          7,
          8,
          9,
          10,
          11,
          12,
          13,
          14,
          15,
          16,
          17,
          18,
          19,
          20,
          21,
          22,
          23,
          24,
          25,
          26,
          27,
          28,
          30
         ],
         "y": [
          0.06364039083485096,
          0.08890700470680962,
          0.11417361857876826,
          0.13944023245072693,
          0.1647068463226856,
          0.18997346019464423,
          0.21524007406660287,
          0.24050668793856153,
          0.26577330181052017,
          0.29103991568247883,
          0.31630652955443744,
          0.3415731434263961,
          0.3668397572983548,
          0.3921063711703134,
          0.41737298504227205,
          0.4426395989142307,
          0.4679062127861894,
          0.49317282665814804,
          0.5184394405301067,
          0.5437060544020654,
          0.568972668274024,
          0.5942392821459827,
          0.6195058960179414,
          0.6447725098899,
          0.6700391237618586,
          0.6953057376338173,
          0.7205723515057759,
          0.7458389653777345,
          0.7963721931216519
         ]
        },
        {
         "hovertemplate": "<b>Con Prof</b><br>CR %{x:,.0f}<br>Mean %{y:,.1f}<br><extra></extra>",
         "legendgroup": "Con Prof",
         "line": {
          "color": "#8c564b"
         },
         "mode": "markers",
         "name": "Con Prof",
         "type": "scatter",
         "x": [
          1,
          2,
          3,
          4,
          5,
          6,
          7,
          8,
          9,
          10,
          11,
          12,
          13,
          14,
          15,
          16,
          17,
          18,
          19,
          20,
          21,
          22,
          23,
          24,
          25,
          26,
          27,
          28,
          30
         ],
         "y": [
          0.05263157894736842,
          0.08045977011494253,
          0.1079136690647482,
          0.1919191919191919,
          0.20930232558139536,
          0.2112676056338028,
          0.3150684931506849,
          0.36363636363636365,
          0.5306122448979592,
          0.47368421052631576,
          0.3902439024390244,
          0.5357142857142857,
          0.6176470588235294,
          0.7083333333333334,
          0.5714285714285714,
          0.52,
          0.625,
          0.7857142857142857,
          0.6666666666666666,
          0.8181818181818182,
          0.8,
          0.75,
          0.8181818181818182,
          0.9285714285714286,
          0.7777777777777778,
          0.8333333333333334,
          1,
          1,
          0.5
         ]
        },
        {
         "hoverinfo": "skip",
         "legendgroup": "Con Prof",
         "line": {
          "color": "#8c564b"
         },
         "mode": "lines",
         "name": "Con Prof",
         "showlegend": false,
         "type": "scatter",
         "x": [
          1,
          2,
          3,
          4,
          5,
          6,
          7,
          8,
          9,
          10,
          11,
          12,
          13,
          14,
          15,
          16,
          17,
          18,
          19,
          20,
          21,
          22,
          23,
          24,
          25,
          26,
          27,
          28,
          30
         ],
         "y": [
          0.15035911655738426,
          0.17940795034970491,
          0.20845678414202556,
          0.23750561793434619,
          0.2665544517266668,
          0.29560328551898746,
          0.3246521193113081,
          0.3537009531036287,
          0.3827497868959494,
          0.41179862068827,
          0.4408474544805906,
          0.4698962882729113,
          0.4989451220652319,
          0.5279939558575525,
          0.5570427896498732,
          0.5860916234421938,
          0.6151404572345145,
          0.6441892910268351,
          0.6732381248191557,
          0.7022869586114764,
          0.731335792403797,
          0.7603846261961176,
          0.7894334599884383,
          0.8184822937807589,
          0.8475311275730795,
          0.8765799613654002,
          0.9056287951577208,
          0.9346776289500414,
          0.9927752965346827
         ]
        },
        {
         "hovertemplate": "<b>Int Prof</b><br>CR %{x:,.0f}<br>Mean %{y:,.1f}<br><extra></extra>",
         "legendgroup": "Int Prof",
         "line": {
          "color": "#1f77b4"
         },
         "mode": "markers",
         "name": "Int Prof",
         "type": "scatter",
         "x": [
          1,
          2,
          3,
          4,
          5,
          6,
          7,
          8,
          9,
          10,
          11,
          12,
          13,
          14,
          15,
          16,
          17,
          18,
          19,
          20,
          21,
          22,
          23,
          24,
          25,
          26,
          27,
          28,
          30
         ],
         "y": [
          0.02631578947368421,
          0.05747126436781609,
          0.07194244604316546,
          0.09090909090909091,
          0.17829457364341086,
          0.22535211267605634,
          0.2465753424657534,
          0.23376623376623376,
          0.1836734693877551,
          0.2631578947368421,
          0.14634146341463414,
          0.21428571428571427,
          0.38235294117647056,
          0.2916666666666667,
          0.23809523809523808,
          0.2,
          0.375,
          0.42857142857142855,
          0.3333333333333333,
          0.18181818181818182,
          0.4,
          0.4375,
          0.3181818181818182,
          0.14285714285714285,
          0.3333333333333333,
          0.25,
          0,
          0.8571428571428571,
          0.5
         ]
        },
        {
         "hoverinfo": "skip",
         "legendgroup": "Int Prof",
         "line": {
          "color": "#1f77b4"
         },
         "mode": "lines",
         "name": "Int Prof",
         "showlegend": false,
         "type": "scatter",
         "x": [
          1,
          2,
          3,
          4,
          5,
          6,
          7,
          8,
          9,
          10,
          11,
          12,
          13,
          14,
          15,
          16,
          17,
          18,
          19,
          20,
          21,
          22,
          23,
          24,
          25,
          26,
          27,
          28,
          30
         ],
         "y": [
          0.10465292447599617,
          0.11588880537659257,
          0.12712468627718898,
          0.1383605671777854,
          0.1495964480783818,
          0.1608323289789782,
          0.1720682098795746,
          0.18330409078017101,
          0.19453997168076742,
          0.20577585258136383,
          0.21701173348196023,
          0.22824761438255664,
          0.23948349528315305,
          0.25071937618374945,
          0.26195525708434586,
          0.27319113798494227,
          0.2844270188855387,
          0.2956628997861351,
          0.3068987806867315,
          0.3181346615873279,
          0.3293705424879243,
          0.3406064233885207,
          0.3518423042891171,
          0.3630781851897135,
          0.3743140660903099,
          0.38554994699090633,
          0.39678582789150274,
          0.40802170879209915,
          0.43049347059329196
         ]
        },
        {
         "hovertemplate": "<b>Wis Prof</b><br>CR %{x:,.0f}<br>Mean %{y:,.1f}<br><extra></extra>",
         "legendgroup": "Wis Prof",
         "line": {
          "color": "#2ca02c"
         },
         "mode": "markers",
         "name": "Wis Prof",
         "type": "scatter",
         "x": [
          1,
          2,
          3,
          4,
          5,
          6,
          7,
          8,
          9,
          10,
          11,
          12,
          13,
          14,
          15,
          16,
          17,
          18,
          19,
          20,
          21,
          22,
          23,
          24,
          25,
          26,
          27,
          28,
          30
         ],
         "y": [
          0.09649122807017543,
          0.20114942528735633,
          0.17266187050359713,
          0.3333333333333333,
          0.35658914728682173,
          0.4507042253521127,
          0.5205479452054794,
          0.5064935064935064,
          0.5306122448979592,
          0.6842105263157895,
          0.6097560975609756,
          0.7142857142857143,
          0.7058823529411765,
          0.7916666666666666,
          0.7619047619047619,
          0.8,
          0.9375,
          0.7857142857142857,
          0.6666666666666666,
          0.9090909090909091,
          1,
          0.9375,
          0.9090909090909091,
          1,
          1,
          1,
          1,
          1,
          1
         ]
        },
        {
         "hoverinfo": "skip",
         "legendgroup": "Wis Prof",
         "line": {
          "color": "#2ca02c"
         },
         "mode": "lines",
         "name": "Wis Prof",
         "showlegend": false,
         "type": "scatter",
         "x": [
          1,
          2,
          3,
          4,
          5,
          6,
          7,
          8,
          9,
          10,
          11,
          12,
          13,
          14,
          15,
          16,
          17,
          18,
          19,
          20,
          21,
          22,
          23,
          24,
          25,
          26,
          27,
          28,
          30
         ],
         "y": [
          0.27373682410951394,
          0.30431049466846305,
          0.33488416522741216,
          0.36545783578636126,
          0.39603150634531037,
          0.4266051769042595,
          0.4571788474632086,
          0.4877525180221577,
          0.5183261885811068,
          0.5488998591400559,
          0.579473529699005,
          0.6100472002579542,
          0.6406208708169033,
          0.6711945413758524,
          0.7017682119348015,
          0.7323418824937507,
          0.7629155530526998,
          0.7934892236116489,
          0.824062894170598,
          0.8546365647295471,
          0.8852102352884962,
          0.9157839058474453,
          0.9463575764063944,
          0.9769312469653436,
          1.0075049175242927,
          1.0380785880832417,
          1.068652258642191,
          1.09922592920114,
          1.1603732703190381
         ]
        },
        {
         "hovertemplate": "<b>Cha Prof</b><br>CR %{x:,.0f}<br>Mean %{y:,.1f}<br><extra></extra>",
         "legendgroup": "Cha Prof",
         "line": {
          "color": "#ff7f0e"
         },
         "mode": "markers",
         "name": "Cha Prof",
         "type": "scatter",
         "x": [
          1,
          2,
          3,
          4,
          5,
          6,
          7,
          8,
          9,
          10,
          11,
          12,
          13,
          14,
          15,
          16,
          17,
          18,
          19,
          20,
          21,
          22,
          23,
          24,
          25,
          26,
          27,
          28,
          30
         ],
         "y": [
          0.043859649122807015,
          0.1206896551724138,
          0.07194244604316546,
          0.16161616161616163,
          0.17054263565891473,
          0.2676056338028169,
          0.3424657534246575,
          0.2987012987012987,
          0.2857142857142857,
          0.2894736842105263,
          0.36585365853658536,
          0.32142857142857145,
          0.5882352941176471,
          0.5416666666666666,
          0.6190476190476191,
          0.64,
          0.625,
          0.7142857142857143,
          0.7777777777777778,
          0.7272727272727273,
          0.6,
          0.75,
          0.45454545454545453,
          0.5,
          0.4444444444444444,
          0.6666666666666666,
          1,
          1,
          0.75
         ]
        },
        {
         "hoverinfo": "skip",
         "legendgroup": "Cha Prof",
         "line": {
          "color": "#ff7f0e"
         },
         "mode": "lines",
         "name": "Cha Prof",
         "showlegend": false,
         "type": "scatter",
         "x": [
          1,
          2,
          3,
          4,
          5,
          6,
          7,
          8,
          9,
          10,
          11,
          12,
          13,
          14,
          15,
          16,
          17,
          18,
          19,
          20,
          21,
          22,
          23,
          24,
          25,
          26,
          27,
          28,
          30
         ],
         "y": [
          0.11789357356652444,
          0.14423244866438123,
          0.170571323762238,
          0.1969101988600948,
          0.22324907395795157,
          0.24958794905580836,
          0.27592682415366515,
          0.3022656992515219,
          0.32860457434937873,
          0.3549434494472355,
          0.3812823245450923,
          0.4076211996429491,
          0.4339600747408059,
          0.46029894983866265,
          0.48663782493651947,
          0.5129767000343762,
          0.5393155751322329,
          0.5656544502300898,
          0.5919933253279466,
          0.6183322004258034,
          0.6446710755236602,
          0.671009950621517,
          0.6973488257193738,
          0.7236877008172304,
          0.7500265759150873,
          0.7763654510129441,
          0.8027043261108009,
          0.8290432012086577,
          0.8817209514043713
         ]
        }
       ],
       "layout": {
        "legend": {
         "orientation": "v",
         "tracegroupgap": 0,
         "x": 0,
         "xanchor": "left",
         "y": 1,
         "yanchor": "top"
        },
        "margin": {
         "b": 55,
         "l": 70,
         "pad": 4,
         "r": 25,
         "t": 20
        },
        "template": {
         "layout": {
          "autosize": false,
          "font": {
           "family": "sans-serif",
           "size": 14
          },
          "hoverlabel": {
           "align": "left"
          },
          "hovermode": "closest",
          "margin": {
           "b": 40,
           "l": 50,
           "pad": 4,
           "r": 25,
           "t": 20
          },
          "template": {
           "data": {
            "bar": [
             {
              "error_x": {
               "color": "#2a3f5f"
              },
              "error_y": {
               "color": "#2a3f5f"
              },
              "marker": {
               "line": {
                "color": "white",
                "width": 0.5
               },
               "pattern": {
                "fillmode": "overlay",
                "size": 10,
                "solidity": 0.2
               }
              },
              "type": "bar"
             }
            ],
            "barpolar": [
             {
              "marker": {
               "line": {
                "color": "white",
                "width": 0.5
               },
               "pattern": {
                "fillmode": "overlay",
                "size": 10,
                "solidity": 0.2
               }
              },
              "type": "barpolar"
             }
            ],
            "carpet": [
             {
              "aaxis": {
               "endlinecolor": "#2a3f5f",
               "gridcolor": "#C8D4E3",
               "linecolor": "#C8D4E3",
               "minorgridcolor": "#C8D4E3",
               "startlinecolor": "#2a3f5f"
              },
              "baxis": {
               "endlinecolor": "#2a3f5f",
               "gridcolor": "#C8D4E3",
               "linecolor": "#C8D4E3",
               "minorgridcolor": "#C8D4E3",
               "startlinecolor": "#2a3f5f"
              },
              "type": "carpet"
             }
            ],
            "choropleth": [
             {
              "colorbar": {
               "outlinewidth": 0,
               "ticks": ""
              },
              "type": "choropleth"
             }
            ],
            "contour": [
             {
              "colorbar": {
               "outlinewidth": 0,
               "ticks": ""
              },
              "colorscale": [
               [
                0,
                "#0d0887"
               ],
               [
                0.1111111111111111,
                "#46039f"
               ],
               [
                0.2222222222222222,
                "#7201a8"
               ],
               [
                0.3333333333333333,
                "#9c179e"
               ],
               [
                0.4444444444444444,
                "#bd3786"
               ],
               [
                0.5555555555555556,
                "#d8576b"
               ],
               [
                0.6666666666666666,
                "#ed7953"
               ],
               [
                0.7777777777777778,
                "#fb9f3a"
               ],
               [
                0.8888888888888888,
                "#fdca26"
               ],
               [
                1,
                "#f0f921"
               ]
              ],
              "type": "contour"
             }
            ],
            "contourcarpet": [
             {
              "colorbar": {
               "outlinewidth": 0,
               "ticks": ""
              },
              "type": "contourcarpet"
             }
            ],
            "heatmap": [
             {
              "colorbar": {
               "outlinewidth": 0,
               "ticks": ""
              },
              "colorscale": [
               [
                0,
                "#0d0887"
               ],
               [
                0.1111111111111111,
                "#46039f"
               ],
               [
                0.2222222222222222,
                "#7201a8"
               ],
               [
                0.3333333333333333,
                "#9c179e"
               ],
               [
                0.4444444444444444,
                "#bd3786"
               ],
               [
                0.5555555555555556,
                "#d8576b"
               ],
               [
                0.6666666666666666,
                "#ed7953"
               ],
               [
                0.7777777777777778,
                "#fb9f3a"
               ],
               [
                0.8888888888888888,
                "#fdca26"
               ],
               [
                1,
                "#f0f921"
               ]
              ],
              "type": "heatmap"
             }
            ],
            "heatmapgl": [
             {
              "colorbar": {
               "outlinewidth": 0,
               "ticks": ""
              },
              "colorscale": [
               [
                0,
                "#0d0887"
               ],
               [
                0.1111111111111111,
                "#46039f"
               ],
               [
                0.2222222222222222,
                "#7201a8"
               ],
               [
                0.3333333333333333,
                "#9c179e"
               ],
               [
                0.4444444444444444,
                "#bd3786"
               ],
               [
                0.5555555555555556,
                "#d8576b"
               ],
               [
                0.6666666666666666,
                "#ed7953"
               ],
               [
                0.7777777777777778,
                "#fb9f3a"
               ],
               [
                0.8888888888888888,
                "#fdca26"
               ],
               [
                1,
                "#f0f921"
               ]
              ],
              "type": "heatmapgl"
             }
            ],
            "histogram": [
             {
              "marker": {
               "pattern": {
                "fillmode": "overlay",
                "size": 10,
                "solidity": 0.2
               }
              },
              "type": "histogram"
             }
            ],
            "histogram2d": [
             {
              "colorbar": {
               "outlinewidth": 0,
               "ticks": ""
              },
              "colorscale": [
               [
                0,
                "#0d0887"
               ],
               [
                0.1111111111111111,
                "#46039f"
               ],
               [
                0.2222222222222222,
                "#7201a8"
               ],
               [
                0.3333333333333333,
                "#9c179e"
               ],
               [
                0.4444444444444444,
                "#bd3786"
               ],
               [
                0.5555555555555556,
                "#d8576b"
               ],
               [
                0.6666666666666666,
                "#ed7953"
               ],
               [
                0.7777777777777778,
                "#fb9f3a"
               ],
               [
                0.8888888888888888,
                "#fdca26"
               ],
               [
                1,
                "#f0f921"
               ]
              ],
              "type": "histogram2d"
             }
            ],
            "histogram2dcontour": [
             {
              "colorbar": {
               "outlinewidth": 0,
               "ticks": ""
              },
              "colorscale": [
               [
                0,
                "#0d0887"
               ],
               [
                0.1111111111111111,
                "#46039f"
               ],
               [
                0.2222222222222222,
                "#7201a8"
               ],
               [
                0.3333333333333333,
                "#9c179e"
               ],
               [
                0.4444444444444444,
                "#bd3786"
               ],
               [
                0.5555555555555556,
                "#d8576b"
               ],
               [
                0.6666666666666666,
                "#ed7953"
               ],
               [
                0.7777777777777778,
                "#fb9f3a"
               ],
               [
                0.8888888888888888,
                "#fdca26"
               ],
               [
                1,
                "#f0f921"
               ]
              ],
              "type": "histogram2dcontour"
             }
            ],
            "mesh3d": [
             {
              "colorbar": {
               "outlinewidth": 0,
               "ticks": ""
              },
              "type": "mesh3d"
             }
            ],
            "parcoords": [
             {
              "line": {
               "colorbar": {
                "outlinewidth": 0,
                "ticks": ""
               }
              },
              "type": "parcoords"
             }
            ],
            "pie": [
             {
              "automargin": true,
              "type": "pie"
             }
            ],
            "scatter": [
             {
              "fillpattern": {
               "fillmode": "overlay",
               "size": 10,
               "solidity": 0.2
              },
              "type": "scatter"
             }
            ],
            "scatter3d": [
             {
              "line": {
               "colorbar": {
                "outlinewidth": 0,
                "ticks": ""
               }
              },
              "marker": {
               "colorbar": {
                "outlinewidth": 0,
                "ticks": ""
               }
              },
              "type": "scatter3d"
             }
            ],
            "scattercarpet": [
             {
              "marker": {
               "colorbar": {
                "outlinewidth": 0,
                "ticks": ""
               }
              },
              "type": "scattercarpet"
             }
            ],
            "scattergeo": [
             {
              "marker": {
               "colorbar": {
                "outlinewidth": 0,
                "ticks": ""
               }
              },
              "type": "scattergeo"
             }
            ],
            "scattergl": [
             {
              "marker": {
               "colorbar": {
                "outlinewidth": 0,
                "ticks": ""
               }
              },
              "type": "scattergl"
             }
            ],
            "scattermapbox": [
             {
              "marker": {
               "colorbar": {
                "outlinewidth": 0,
                "ticks": ""
               }
              },
              "type": "scattermapbox"
             }
            ],
            "scatterpolar": [
             {
              "marker": {
               "colorbar": {
                "outlinewidth": 0,
                "ticks": ""
               }
              },
              "type": "scatterpolar"
             }
            ],
            "scatterpolargl": [
             {
              "marker": {
               "colorbar": {
                "outlinewidth": 0,
                "ticks": ""
               }
              },
              "type": "scatterpolargl"
             }
            ],
            "scatterternary": [
             {
              "marker": {
               "colorbar": {
                "outlinewidth": 0,
                "ticks": ""
               }
              },
              "type": "scatterternary"
             }
            ],
            "surface": [
             {
              "colorbar": {
               "outlinewidth": 0,
               "ticks": ""
              },
              "colorscale": [
               [
                0,
                "#0d0887"
               ],
               [
                0.1111111111111111,
                "#46039f"
               ],
               [
                0.2222222222222222,
                "#7201a8"
               ],
               [
                0.3333333333333333,
                "#9c179e"
               ],
               [
                0.4444444444444444,
                "#bd3786"
               ],
               [
                0.5555555555555556,
                "#d8576b"
               ],
               [
                0.6666666666666666,
                "#ed7953"
               ],
               [
                0.7777777777777778,
                "#fb9f3a"
               ],
               [
                0.8888888888888888,
                "#fdca26"
               ],
               [
                1,
                "#f0f921"
               ]
              ],
              "type": "surface"
             }
            ],
            "table": [
             {
              "cells": {
               "fill": {
                "color": "#EBF0F8"
               },
               "line": {
                "color": "white"
               }
              },
              "header": {
               "fill": {
                "color": "#C8D4E3"
               },
               "line": {
                "color": "white"
               }
              },
              "type": "table"
             }
            ]
           },
           "layout": {
            "annotationdefaults": {
             "arrowcolor": "#2a3f5f",
             "arrowhead": 0,
             "arrowwidth": 1
            },
            "autotypenumbers": "strict",
            "coloraxis": {
             "colorbar": {
              "outlinewidth": 0,
              "ticks": ""
             }
            },
            "colorscale": {
             "diverging": [
              [
               0,
               "#8e0152"
              ],
              [
               0.1,
               "#c51b7d"
              ],
              [
               0.2,
               "#de77ae"
              ],
              [
               0.3,
               "#f1b6da"
              ],
              [
               0.4,
               "#fde0ef"
              ],
              [
               0.5,
               "#f7f7f7"
              ],
              [
               0.6,
               "#e6f5d0"
              ],
              [
               0.7,
               "#b8e186"
              ],
              [
               0.8,
               "#7fbc41"
              ],
              [
               0.9,
               "#4d9221"
              ],
              [
               1,
               "#276419"
              ]
             ],
             "sequential": [
              [
               0,
               "#0d0887"
              ],
              [
               0.1111111111111111,
               "#46039f"
              ],
              [
               0.2222222222222222,
               "#7201a8"
              ],
              [
               0.3333333333333333,
               "#9c179e"
              ],
              [
               0.4444444444444444,
               "#bd3786"
              ],
              [
               0.5555555555555556,
               "#d8576b"
              ],
              [
               0.6666666666666666,
               "#ed7953"
              ],
              [
               0.7777777777777778,
               "#fb9f3a"
              ],
              [
               0.8888888888888888,
               "#fdca26"
              ],
              [
               1,
               "#f0f921"
              ]
             ],
             "sequentialminus": [
              [
               0,
               "#0d0887"
              ],
              [
               0.1111111111111111,
               "#46039f"
              ],
              [
               0.2222222222222222,
               "#7201a8"
              ],
              [
               0.3333333333333333,
               "#9c179e"
              ],
              [
               0.4444444444444444,
               "#bd3786"
              ],
              [
               0.5555555555555556,
               "#d8576b"
              ],
              [
               0.6666666666666666,
               "#ed7953"
              ],
              [
               0.7777777777777778,
               "#fb9f3a"
              ],
              [
               0.8888888888888888,
               "#fdca26"
              ],
              [
               1,
               "#f0f921"
              ]
             ]
            },
            "colorway": [
             "#636efa",
             "#EF553B",
             "#00cc96",
             "#ab63fa",
             "#FFA15A",
             "#19d3f3",
             "#FF6692",
             "#B6E880",
             "#FF97FF",
             "#FECB52"
            ],
            "font": {
             "color": "#2a3f5f"
            },
            "geo": {
             "bgcolor": "white",
             "lakecolor": "white",
             "landcolor": "white",
             "showlakes": true,
             "showland": true,
             "subunitcolor": "#C8D4E3"
            },
            "hoverlabel": {
             "align": "left"
            },
            "hovermode": "closest",
            "mapbox": {
             "style": "light"
            },
            "paper_bgcolor": "white",
            "plot_bgcolor": "white",
            "polar": {
             "angularaxis": {
              "gridcolor": "#EBF0F8",
              "linecolor": "#EBF0F8",
              "ticks": ""
             },
             "bgcolor": "white",
             "radialaxis": {
              "gridcolor": "#EBF0F8",
              "linecolor": "#EBF0F8",
              "ticks": ""
             }
            },
            "scene": {
             "xaxis": {
              "backgroundcolor": "white",
              "gridcolor": "#DFE8F3",
              "gridwidth": 2,
              "linecolor": "#EBF0F8",
              "showbackground": true,
              "ticks": "",
              "zerolinecolor": "#EBF0F8"
             },
             "yaxis": {
              "backgroundcolor": "white",
              "gridcolor": "#DFE8F3",
              "gridwidth": 2,
              "linecolor": "#EBF0F8",
              "showbackground": true,
              "ticks": "",
              "zerolinecolor": "#EBF0F8"
             },
             "zaxis": {
              "backgroundcolor": "white",
              "gridcolor": "#DFE8F3",
              "gridwidth": 2,
              "linecolor": "#EBF0F8",
              "showbackground": true,
              "ticks": "",
              "zerolinecolor": "#EBF0F8"
             }
            },
            "shapedefaults": {
             "line": {
              "color": "#2a3f5f"
             }
            },
            "ternary": {
             "aaxis": {
              "gridcolor": "#DFE8F3",
              "linecolor": "#A2B1C6",
              "ticks": ""
             },
             "baxis": {
              "gridcolor": "#DFE8F3",
              "linecolor": "#A2B1C6",
              "ticks": ""
             },
             "bgcolor": "white",
             "caxis": {
              "gridcolor": "#DFE8F3",
              "linecolor": "#A2B1C6",
              "ticks": ""
             }
            },
            "title": {
             "x": 0.05
            },
            "xaxis": {
             "automargin": true,
             "gridcolor": "#EBF0F8",
             "linecolor": "#EBF0F8",
             "ticks": "",
             "title": {
              "standoff": 15
             },
             "zerolinecolor": "#EBF0F8",
             "zerolinewidth": 2
            },
            "yaxis": {
             "automargin": true,
             "gridcolor": "#EBF0F8",
             "linecolor": "#EBF0F8",
             "ticks": "",
             "title": {
              "standoff": 15
             },
             "zerolinecolor": "#EBF0F8",
             "zerolinewidth": 2
            }
           }
          },
          "xaxis": {
           "automargin": false,
           "linecolor": "#444",
           "linewidth": 2,
           "minor": {
            "tickmode": "linear",
            "ticks": "outside"
           },
           "mirror": true,
           "showline": true,
           "tickmode": "linear",
           "ticks": "outside",
           "zeroline": false
          },
          "yaxis": {
           "automargin": false,
           "linecolor": "#444",
           "linewidth": 2,
           "minor": {
            "ticks": "outside"
           },
           "mirror": true,
           "showline": true,
           "ticks": "outside",
           "zeroline": false
          }
         }
        },
        "xaxis": {
         "dtick": 5,
         "minor": {
          "dtick": 1,
          "tick0": 0
         },
         "range": [
          0,
          31
         ],
         "tick0": 0,
         "title": {
          "text": "CR"
         }
        },
        "yaxis": {
         "dtick": 0.2,
         "minor": {
          "dtick": 0.1,
          "tick0": 0
         },
         "range": [
          -0.01,
          1.01
         ],
         "tick0": 0,
         "title": {
          "text": "saving throw proficiency probability"
         }
        }
       }
      }
     },
     "metadata": {},
     "output_type": "display_data"
    }
   ],
   "source": [
    "# Saving throw proficiency\n",
    "columns = ['Str Prof','Dex Prof','Con Prof','Int Prof','Wis Prof','Cha Prof']\n",
    "colors = ['#d62728','#9467bd','#8c564b','#1f77b4','#2ca02c','#ff7f0e']\n",
    "\n",
    "df1 = df0[df0['Category'].isin(['generic','legendary','unique']) & df0['CR'].between(1, 30)]\n",
    "\n",
    "# create figure\n",
    "fig = go.Figure(\n",
    "    layout=go.Layout(\n",
    "        template=TFB_TEMPLATE,\n",
    "        margin=dict(l=70, r=25, b=55, t=20, pad=4),\n",
    "        xaxis=dict(\n",
    "            title_text='CR',\n",
    "            range=[0,31],\n",
    "            tick0=0, dtick=5,\n",
    "            minor=dict(tick0=0, dtick=1),\n",
    "        ),\n",
    "        yaxis=dict(\n",
    "            title_text='saving throw proficiency probability',\n",
    "            range=[-0.01,1.01],\n",
    "            tick0=0, dtick=0.2,\n",
    "            minor=dict(tick0=0, dtick=0.1),\n",
    "        ),\n",
    "        legend=dict(\n",
    "            xanchor='left', yanchor='top',\n",
    "            x=0.00, y=1.00,\n",
    "            orientation='v',\n",
    "            tracegroupgap=0,\n",
    "        )\n",
    "    )\n",
    ")\n",
    "\n",
    "for column, color in zip(columns, colors):\n",
    "    plot_mean_fit(fig, df1, 'CR', column, column, color)\n",
    "\n",
    "# show figure\n",
    "fig.show(config=TFB_CONFIG, width=600, height=450)\n",
    "fig.update_layout(autosize=True)\n",
    "\n",
    "# save figures\n",
    "if SAVEFIGS:\n",
    "    save_fig_html(fig, format='large', name='fig-saving-throw-proficiency-vs-cr-large')\n",
    "    save_fig_html(fig, format='small', name='fig-saving-throw-proficiency-vs-cr-small')"
   ]
  },
  {
   "cell_type": "code",
   "execution_count": 29,
   "metadata": {},
   "outputs": [
    {
     "data": {
      "application/vnd.plotly.v1+json": {
       "config": {
        "displayModeBar": "hover",
        "displaylogo": false,
        "modeBarButtonsToRemove": [
         "select2d",
         "lasso2d",
         "zoom2d",
         "zoomIn2d",
         "zoomOut2d",
         "pan2d",
         "autoScale2d",
         "hoverClosestCartesian",
         "hoverCompareCartesian",
         "toggleSpikelines",
         "resetScale2d"
        ],
        "plotlyServerURL": "https://plot.ly",
        "responsive": true,
        "showAxisDragHandles": false,
        "toImageButtonOptions": {
         "filename": "tfb-plot",
         "format": "png",
         "height": 450,
         "scale": 2,
         "width": 600
        }
       },
       "data": [
        {
         "hovertemplate": "<b>Str PB</b><br>CR %{x:,.0f}<br>Mean %{y:,.1f}<br><extra></extra>",
         "legendgroup": "Str PB",
         "line": {
          "color": "#d62728"
         },
         "mode": "markers",
         "name": "Str PB",
         "type": "scatter",
         "x": [
          1,
          2,
          3,
          4,
          5,
          6,
          7,
          8,
          9,
          10,
          11,
          12,
          13,
          14,
          15,
          16,
          17,
          18,
          19,
          20,
          21,
          22,
          23,
          24,
          25,
          26,
          27,
          28,
          30
         ],
         "y": [
          0,
          0.05747126436781609,
          0.14388489208633093,
          0.10101010101010101,
          0.2558139534883721,
          0.3380281690140845,
          0.1643835616438356,
          0.3116883116883117,
          0.4897959183673469,
          0.21052631578947367,
          0.6829268292682927,
          1,
          0.8823529411764706,
          0.8333333333333334,
          0.7142857142857143,
          1.6,
          0.75,
          1.2857142857142858,
          1.3333333333333333,
          0.5454545454545454,
          0.4666666666666667,
          0,
          0.9545454545454546,
          0.5,
          0.8888888888888888,
          0,
          0,
          1.1428571428571428,
          2.25
         ]
        },
        {
         "hoverinfo": "skip",
         "legendgroup": "Str PB",
         "line": {
          "color": "#d62728"
         },
         "mode": "lines",
         "name": "Str PB",
         "showlegend": false,
         "type": "scatter",
         "x": [
          1,
          2,
          3,
          4,
          5,
          6,
          7,
          8,
          9,
          10,
          11,
          12,
          13,
          14,
          15,
          16,
          17,
          18,
          19,
          20,
          21,
          22,
          23,
          24,
          25,
          26,
          27,
          28,
          30
         ],
         "y": [
          0.1958963253030767,
          0.22592573117332382,
          0.255955137043571,
          0.2859845429138181,
          0.3160139487840652,
          0.34604335465431235,
          0.37607276052455946,
          0.40610216639480656,
          0.4361315722650537,
          0.4661609781353009,
          0.49619038400554794,
          0.5262197898757951,
          0.5562491957460423,
          0.5862786016162893,
          0.6163080074865365,
          0.6463374133567836,
          0.6763668192270308,
          0.7063962250972778,
          0.736425630967525,
          0.7664550368377722,
          0.7964844427080192,
          0.8265138485782664,
          0.8565432544485135,
          0.8865726603187606,
          0.9166020661890077,
          0.9466314720592549,
          0.9766608779295021,
          1.0066902837997491,
          1.0667490955402434
         ]
        },
        {
         "hovertemplate": "<b>Dex PB</b><br>CR %{x:,.0f}<br>Mean %{y:,.1f}<br><extra></extra>",
         "legendgroup": "Dex PB",
         "line": {
          "color": "#9467bd"
         },
         "mode": "markers",
         "name": "Dex PB",
         "type": "scatter",
         "x": [
          1,
          2,
          3,
          4,
          5,
          6,
          7,
          8,
          9,
          10,
          11,
          12,
          13,
          14,
          15,
          16,
          17,
          18,
          19,
          20,
          21,
          22,
          23,
          24,
          25,
          26,
          27,
          28,
          30
         ],
         "y": [
          0.17543859649122806,
          0.3218390804597701,
          0.2302158273381295,
          0.30303030303030304,
          0.627906976744186,
          0.4647887323943662,
          0.6986301369863014,
          0.6233766233766234,
          0.8163265306122449,
          1.0526315789473684,
          1.3658536585365855,
          1.1428571428571428,
          1.7647058823529411,
          1.6666666666666667,
          2.142857142857143,
          2,
          3.75,
          2.142857142857143,
          2.6666666666666665,
          2.727272727272727,
          4.2,
          3.0625,
          4.7727272727272725,
          6,
          6.222222222222222,
          6,
          8,
          5.714285714285714,
          4.5
         ]
        },
        {
         "hoverinfo": "skip",
         "legendgroup": "Dex PB",
         "line": {
          "color": "#9467bd"
         },
         "mode": "lines",
         "name": "Dex PB",
         "showlegend": false,
         "type": "scatter",
         "x": [
          1,
          2,
          3,
          4,
          5,
          6,
          7,
          8,
          9,
          10,
          11,
          12,
          13,
          14,
          15,
          16,
          17,
          18,
          19,
          20,
          21,
          22,
          23,
          24,
          25,
          26,
          27,
          28,
          30
         ],
         "y": [
          -0.714779413254085,
          -0.4791915518043277,
          -0.24360369035457052,
          -0.008015828904813227,
          0.22757203254494407,
          0.46315989399470114,
          0.6987477554444584,
          0.9343356168942157,
          1.1699234783439727,
          1.4055113397937302,
          1.6410992012434873,
          1.8766870626932444,
          2.112274924143002,
          2.347862785592759,
          2.5834506470425165,
          2.8190385084922736,
          3.054626369942031,
          3.2902142313917877,
          3.525802092841545,
          3.7613899542913027,
          3.9969778157410594,
          4.232565677190817,
          4.468153538640575,
          4.7037414000903315,
          4.939329261540089,
          5.1749171229898465,
          5.410504984439604,
          5.646092845889361,
          6.117268568788876
         ]
        },
        {
         "hovertemplate": "<b>Con PB</b><br>CR %{x:,.0f}<br>Mean %{y:,.1f}<br><extra></extra>",
         "legendgroup": "Con PB",
         "line": {
          "color": "#8c564b"
         },
         "mode": "markers",
         "name": "Con PB",
         "type": "scatter",
         "x": [
          1,
          2,
          3,
          4,
          5,
          6,
          7,
          8,
          9,
          10,
          11,
          12,
          13,
          14,
          15,
          16,
          17,
          18,
          19,
          20,
          21,
          22,
          23,
          24,
          25,
          26,
          27,
          28,
          30
         ],
         "y": [
          0.10526315789473684,
          0.16091954022988506,
          0.2158273381294964,
          0.3838383838383838,
          0.627906976744186,
          0.6338028169014085,
          0.9452054794520548,
          1.0909090909090908,
          2.122448979591837,
          1.894736842105263,
          1.5609756097560976,
          2.142857142857143,
          3.088235294117647,
          3.5416666666666665,
          2.857142857142857,
          2.6,
          3.75,
          4.714285714285714,
          4,
          4.909090909090909,
          5.6,
          5.25,
          5.7272727272727275,
          6.5,
          6.222222222222222,
          6.666666666666667,
          8,
          8,
          4.5
         ]
        },
        {
         "hoverinfo": "skip",
         "legendgroup": "Con PB",
         "line": {
          "color": "#8c564b"
         },
         "mode": "lines",
         "name": "Con PB",
         "showlegend": false,
         "type": "scatter",
         "x": [
          1,
          2,
          3,
          4,
          5,
          6,
          7,
          8,
          9,
          10,
          11,
          12,
          13,
          14,
          15,
          16,
          17,
          18,
          19,
          20,
          21,
          22,
          23,
          24,
          25,
          26,
          27,
          28,
          30
         ],
         "y": [
          -0.42373628229403754,
          -0.15322122921688253,
          0.11729382386027254,
          0.3878088769374275,
          0.6583239300145824,
          0.9288389830917376,
          1.1993540361688926,
          1.4698690892460475,
          1.7403841423232027,
          2.0108991954003574,
          2.2814142484775126,
          2.551929301554668,
          2.8224443546318225,
          3.0929594077089777,
          3.363474460786133,
          3.6339895138632876,
          3.9045045669404423,
          4.175019620017598,
          4.445534673094753,
          4.716049726171907,
          4.986564779249063,
          5.257079832326218,
          5.5275948854033725,
          5.798109938480528,
          6.068624991557683,
          6.339140044634838,
          6.609655097711992,
          6.880170150789148,
          7.421200256943458
         ]
        },
        {
         "hovertemplate": "<b>Int PB</b><br>CR %{x:,.0f}<br>Mean %{y:,.1f}<br><extra></extra>",
         "legendgroup": "Int PB",
         "line": {
          "color": "#1f77b4"
         },
         "mode": "markers",
         "name": "Int PB",
         "type": "scatter",
         "x": [
          1,
          2,
          3,
          4,
          5,
          6,
          7,
          8,
          9,
          10,
          11,
          12,
          13,
          14,
          15,
          16,
          17,
          18,
          19,
          20,
          21,
          22,
          23,
          24,
          25,
          26,
          27,
          28,
          30
         ],
         "y": [
          0.05263157894736842,
          0.11494252873563218,
          0.14388489208633093,
          0.18181818181818182,
          0.5348837209302325,
          0.676056338028169,
          0.7397260273972602,
          0.7012987012987013,
          0.7346938775510204,
          1.0526315789473684,
          0.5853658536585366,
          0.8571428571428571,
          1.911764705882353,
          1.4583333333333333,
          1.1904761904761905,
          1,
          2.25,
          2.5714285714285716,
          2,
          1.0909090909090908,
          2.8,
          3.0625,
          2.227272727272727,
          1,
          2.6666666666666665,
          2,
          0,
          6.857142857142857,
          4.5
         ]
        },
        {
         "hoverinfo": "skip",
         "legendgroup": "Int PB",
         "line": {
          "color": "#1f77b4"
         },
         "mode": "lines",
         "name": "Int PB",
         "showlegend": false,
         "type": "scatter",
         "x": [
          1,
          2,
          3,
          4,
          5,
          6,
          7,
          8,
          9,
          10,
          11,
          12,
          13,
          14,
          15,
          16,
          17,
          18,
          19,
          20,
          21,
          22,
          23,
          24,
          25,
          26,
          27,
          28,
          30
         ],
         "y": [
          -0.13594567700265098,
          -0.015788441344836923,
          0.10436879431297713,
          0.22452602997079119,
          0.3446832656286052,
          0.4648405012864193,
          0.5849977369442334,
          0.7051549726020474,
          0.8253122082598614,
          0.9454694439176754,
          1.0656266795754896,
          1.1857839152333036,
          1.3059411508911176,
          1.4260983865489318,
          1.5462556222067458,
          1.6664128578645598,
          1.7865700935223738,
          1.9067273291801878,
          2.026884564838002,
          2.147041800495816,
          2.26719903615363,
          2.387356271811444,
          2.507513507469258,
          2.627670743127072,
          2.747827978784886,
          2.8679852144427,
          2.988142450100514,
          3.108299685758329,
          3.348614157073957
         ]
        },
        {
         "hovertemplate": "<b>Wis PB</b><br>CR %{x:,.0f}<br>Mean %{y:,.1f}<br><extra></extra>",
         "legendgroup": "Wis PB",
         "line": {
          "color": "#2ca02c"
         },
         "mode": "markers",
         "name": "Wis PB",
         "type": "scatter",
         "x": [
          1,
          2,
          3,
          4,
          5,
          6,
          7,
          8,
          9,
          10,
          11,
          12,
          13,
          14,
          15,
          16,
          17,
          18,
          19,
          20,
          21,
          22,
          23,
          24,
          25,
          26,
          27,
          28,
          30
         ],
         "y": [
          0.19298245614035087,
          0.40229885057471265,
          0.34532374100719426,
          0.6666666666666666,
          1.069767441860465,
          1.352112676056338,
          1.5616438356164384,
          1.5194805194805194,
          2.122448979591837,
          2.736842105263158,
          2.4390243902439024,
          2.857142857142857,
          3.5294117647058822,
          3.9583333333333335,
          3.8095238095238093,
          4,
          5.625,
          4.714285714285714,
          4,
          5.454545454545454,
          7,
          6.5625,
          6.363636363636363,
          7,
          8,
          8,
          8,
          8,
          9
         ]
        },
        {
         "hoverinfo": "skip",
         "legendgroup": "Wis PB",
         "line": {
          "color": "#2ca02c"
         },
         "mode": "lines",
         "name": "Wis PB",
         "showlegend": false,
         "type": "scatter",
         "x": [
          1,
          2,
          3,
          4,
          5,
          6,
          7,
          8,
          9,
          10,
          11,
          12,
          13,
          14,
          15,
          16,
          17,
          18,
          19,
          20,
          21,
          22,
          23,
          24,
          25,
          26,
          27,
          28,
          30
         ],
         "y": [
          -0.29785993745736244,
          0.018899053073199057,
          0.3356580436037606,
          0.6524170341343221,
          0.9691760246648835,
          1.2859350151954452,
          1.6026940057260064,
          1.919452996256568,
          2.2362119867871297,
          2.552970977317691,
          2.8697299678482526,
          3.1864889583788143,
          3.503247948909376,
          3.8200069394399367,
          4.136765929970498,
          4.45352492050106,
          4.770283911031622,
          5.087042901562183,
          5.403801892092744,
          5.720560882623306,
          6.0373198731538675,
          6.354078863684429,
          6.670837854214991,
          6.9875968447455525,
          7.304355835276113,
          7.621114825806676,
          7.937873816337237,
          8.254632806867797,
          8.888150787928922
         ]
        },
        {
         "hovertemplate": "<b>Cha PB</b><br>CR %{x:,.0f}<br>Mean %{y:,.1f}<br><extra></extra>",
         "legendgroup": "Cha PB",
         "line": {
          "color": "#ff7f0e"
         },
         "mode": "markers",
         "name": "Cha PB",
         "type": "scatter",
         "x": [
          1,
          2,
          3,
          4,
          5,
          6,
          7,
          8,
          9,
          10,
          11,
          12,
          13,
          14,
          15,
          16,
          17,
          18,
          19,
          20,
          21,
          22,
          23,
          24,
          25,
          26,
          27,
          28,
          30
         ],
         "y": [
          0.08771929824561403,
          0.2413793103448276,
          0.14388489208633093,
          0.32323232323232326,
          0.5116279069767442,
          0.8028169014084507,
          1.0273972602739727,
          0.8961038961038961,
          1.1428571428571428,
          1.1578947368421053,
          1.4634146341463414,
          1.2857142857142858,
          2.9411764705882355,
          2.7083333333333335,
          3.0952380952380953,
          3.2,
          3.75,
          4.285714285714286,
          4.666666666666667,
          4.363636363636363,
          4.2,
          5.25,
          3.1818181818181817,
          3.5,
          3.5555555555555554,
          5.333333333333333,
          8,
          8,
          6.75
         ]
        },
        {
         "hoverinfo": "skip",
         "legendgroup": "Cha PB",
         "line": {
          "color": "#ff7f0e"
         },
         "mode": "lines",
         "name": "Cha PB",
         "showlegend": false,
         "type": "scatter",
         "x": [
          1,
          2,
          3,
          4,
          5,
          6,
          7,
          8,
          9,
          10,
          11,
          12,
          13,
          14,
          15,
          16,
          17,
          18,
          19,
          20,
          21,
          22,
          23,
          24,
          25,
          26,
          27,
          28,
          30
         ],
         "y": [
          -0.5019810314199173,
          -0.25524156020297956,
          -0.008502088986041767,
          0.23823738223089608,
          0.4849768534478339,
          0.7317163246647717,
          0.9784557958817096,
          1.2251952670986475,
          1.4719347383155852,
          1.718674209532523,
          1.9654136807494607,
          2.2121531519663984,
          2.458892623183336,
          2.7056320944002743,
          2.952371565617212,
          3.1991110368341498,
          3.4458505080510875,
          3.6925899792680257,
          3.939329450484963,
          4.186068921701901,
          4.432808392918838,
          4.679547864135777,
          4.926287335352715,
          5.173026806569652,
          5.41976627778659,
          5.6665057490035275,
          5.913245220220466,
          6.159984691437404,
          6.653463633871279
         ]
        }
       ],
       "layout": {
        "legend": {
         "orientation": "v",
         "tracegroupgap": 0,
         "x": 0,
         "xanchor": "left",
         "y": 1,
         "yanchor": "top"
        },
        "margin": {
         "b": 55,
         "l": 70,
         "pad": 4,
         "r": 25,
         "t": 20
        },
        "template": {
         "layout": {
          "autosize": false,
          "font": {
           "family": "sans-serif",
           "size": 14
          },
          "hoverlabel": {
           "align": "left"
          },
          "hovermode": "closest",
          "margin": {
           "b": 40,
           "l": 50,
           "pad": 4,
           "r": 25,
           "t": 20
          },
          "template": {
           "data": {
            "bar": [
             {
              "error_x": {
               "color": "#2a3f5f"
              },
              "error_y": {
               "color": "#2a3f5f"
              },
              "marker": {
               "line": {
                "color": "white",
                "width": 0.5
               },
               "pattern": {
                "fillmode": "overlay",
                "size": 10,
                "solidity": 0.2
               }
              },
              "type": "bar"
             }
            ],
            "barpolar": [
             {
              "marker": {
               "line": {
                "color": "white",
                "width": 0.5
               },
               "pattern": {
                "fillmode": "overlay",
                "size": 10,
                "solidity": 0.2
               }
              },
              "type": "barpolar"
             }
            ],
            "carpet": [
             {
              "aaxis": {
               "endlinecolor": "#2a3f5f",
               "gridcolor": "#C8D4E3",
               "linecolor": "#C8D4E3",
               "minorgridcolor": "#C8D4E3",
               "startlinecolor": "#2a3f5f"
              },
              "baxis": {
               "endlinecolor": "#2a3f5f",
               "gridcolor": "#C8D4E3",
               "linecolor": "#C8D4E3",
               "minorgridcolor": "#C8D4E3",
               "startlinecolor": "#2a3f5f"
              },
              "type": "carpet"
             }
            ],
            "choropleth": [
             {
              "colorbar": {
               "outlinewidth": 0,
               "ticks": ""
              },
              "type": "choropleth"
             }
            ],
            "contour": [
             {
              "colorbar": {
               "outlinewidth": 0,
               "ticks": ""
              },
              "colorscale": [
               [
                0,
                "#0d0887"
               ],
               [
                0.1111111111111111,
                "#46039f"
               ],
               [
                0.2222222222222222,
                "#7201a8"
               ],
               [
                0.3333333333333333,
                "#9c179e"
               ],
               [
                0.4444444444444444,
                "#bd3786"
               ],
               [
                0.5555555555555556,
                "#d8576b"
               ],
               [
                0.6666666666666666,
                "#ed7953"
               ],
               [
                0.7777777777777778,
                "#fb9f3a"
               ],
               [
                0.8888888888888888,
                "#fdca26"
               ],
               [
                1,
                "#f0f921"
               ]
              ],
              "type": "contour"
             }
            ],
            "contourcarpet": [
             {
              "colorbar": {
               "outlinewidth": 0,
               "ticks": ""
              },
              "type": "contourcarpet"
             }
            ],
            "heatmap": [
             {
              "colorbar": {
               "outlinewidth": 0,
               "ticks": ""
              },
              "colorscale": [
               [
                0,
                "#0d0887"
               ],
               [
                0.1111111111111111,
                "#46039f"
               ],
               [
                0.2222222222222222,
                "#7201a8"
               ],
               [
                0.3333333333333333,
                "#9c179e"
               ],
               [
                0.4444444444444444,
                "#bd3786"
               ],
               [
                0.5555555555555556,
                "#d8576b"
               ],
               [
                0.6666666666666666,
                "#ed7953"
               ],
               [
                0.7777777777777778,
                "#fb9f3a"
               ],
               [
                0.8888888888888888,
                "#fdca26"
               ],
               [
                1,
                "#f0f921"
               ]
              ],
              "type": "heatmap"
             }
            ],
            "heatmapgl": [
             {
              "colorbar": {
               "outlinewidth": 0,
               "ticks": ""
              },
              "colorscale": [
               [
                0,
                "#0d0887"
               ],
               [
                0.1111111111111111,
                "#46039f"
               ],
               [
                0.2222222222222222,
                "#7201a8"
               ],
               [
                0.3333333333333333,
                "#9c179e"
               ],
               [
                0.4444444444444444,
                "#bd3786"
               ],
               [
                0.5555555555555556,
                "#d8576b"
               ],
               [
                0.6666666666666666,
                "#ed7953"
               ],
               [
                0.7777777777777778,
                "#fb9f3a"
               ],
               [
                0.8888888888888888,
                "#fdca26"
               ],
               [
                1,
                "#f0f921"
               ]
              ],
              "type": "heatmapgl"
             }
            ],
            "histogram": [
             {
              "marker": {
               "pattern": {
                "fillmode": "overlay",
                "size": 10,
                "solidity": 0.2
               }
              },
              "type": "histogram"
             }
            ],
            "histogram2d": [
             {
              "colorbar": {
               "outlinewidth": 0,
               "ticks": ""
              },
              "colorscale": [
               [
                0,
                "#0d0887"
               ],
               [
                0.1111111111111111,
                "#46039f"
               ],
               [
                0.2222222222222222,
                "#7201a8"
               ],
               [
                0.3333333333333333,
                "#9c179e"
               ],
               [
                0.4444444444444444,
                "#bd3786"
               ],
               [
                0.5555555555555556,
                "#d8576b"
               ],
               [
                0.6666666666666666,
                "#ed7953"
               ],
               [
                0.7777777777777778,
                "#fb9f3a"
               ],
               [
                0.8888888888888888,
                "#fdca26"
               ],
               [
                1,
                "#f0f921"
               ]
              ],
              "type": "histogram2d"
             }
            ],
            "histogram2dcontour": [
             {
              "colorbar": {
               "outlinewidth": 0,
               "ticks": ""
              },
              "colorscale": [
               [
                0,
                "#0d0887"
               ],
               [
                0.1111111111111111,
                "#46039f"
               ],
               [
                0.2222222222222222,
                "#7201a8"
               ],
               [
                0.3333333333333333,
                "#9c179e"
               ],
               [
                0.4444444444444444,
                "#bd3786"
               ],
               [
                0.5555555555555556,
                "#d8576b"
               ],
               [
                0.6666666666666666,
                "#ed7953"
               ],
               [
                0.7777777777777778,
                "#fb9f3a"
               ],
               [
                0.8888888888888888,
                "#fdca26"
               ],
               [
                1,
                "#f0f921"
               ]
              ],
              "type": "histogram2dcontour"
             }
            ],
            "mesh3d": [
             {
              "colorbar": {
               "outlinewidth": 0,
               "ticks": ""
              },
              "type": "mesh3d"
             }
            ],
            "parcoords": [
             {
              "line": {
               "colorbar": {
                "outlinewidth": 0,
                "ticks": ""
               }
              },
              "type": "parcoords"
             }
            ],
            "pie": [
             {
              "automargin": true,
              "type": "pie"
             }
            ],
            "scatter": [
             {
              "fillpattern": {
               "fillmode": "overlay",
               "size": 10,
               "solidity": 0.2
              },
              "type": "scatter"
             }
            ],
            "scatter3d": [
             {
              "line": {
               "colorbar": {
                "outlinewidth": 0,
                "ticks": ""
               }
              },
              "marker": {
               "colorbar": {
                "outlinewidth": 0,
                "ticks": ""
               }
              },
              "type": "scatter3d"
             }
            ],
            "scattercarpet": [
             {
              "marker": {
               "colorbar": {
                "outlinewidth": 0,
                "ticks": ""
               }
              },
              "type": "scattercarpet"
             }
            ],
            "scattergeo": [
             {
              "marker": {
               "colorbar": {
                "outlinewidth": 0,
                "ticks": ""
               }
              },
              "type": "scattergeo"
             }
            ],
            "scattergl": [
             {
              "marker": {
               "colorbar": {
                "outlinewidth": 0,
                "ticks": ""
               }
              },
              "type": "scattergl"
             }
            ],
            "scattermapbox": [
             {
              "marker": {
               "colorbar": {
                "outlinewidth": 0,
                "ticks": ""
               }
              },
              "type": "scattermapbox"
             }
            ],
            "scatterpolar": [
             {
              "marker": {
               "colorbar": {
                "outlinewidth": 0,
                "ticks": ""
               }
              },
              "type": "scatterpolar"
             }
            ],
            "scatterpolargl": [
             {
              "marker": {
               "colorbar": {
                "outlinewidth": 0,
                "ticks": ""
               }
              },
              "type": "scatterpolargl"
             }
            ],
            "scatterternary": [
             {
              "marker": {
               "colorbar": {
                "outlinewidth": 0,
                "ticks": ""
               }
              },
              "type": "scatterternary"
             }
            ],
            "surface": [
             {
              "colorbar": {
               "outlinewidth": 0,
               "ticks": ""
              },
              "colorscale": [
               [
                0,
                "#0d0887"
               ],
               [
                0.1111111111111111,
                "#46039f"
               ],
               [
                0.2222222222222222,
                "#7201a8"
               ],
               [
                0.3333333333333333,
                "#9c179e"
               ],
               [
                0.4444444444444444,
                "#bd3786"
               ],
               [
                0.5555555555555556,
                "#d8576b"
               ],
               [
                0.6666666666666666,
                "#ed7953"
               ],
               [
                0.7777777777777778,
                "#fb9f3a"
               ],
               [
                0.8888888888888888,
                "#fdca26"
               ],
               [
                1,
                "#f0f921"
               ]
              ],
              "type": "surface"
             }
            ],
            "table": [
             {
              "cells": {
               "fill": {
                "color": "#EBF0F8"
               },
               "line": {
                "color": "white"
               }
              },
              "header": {
               "fill": {
                "color": "#C8D4E3"
               },
               "line": {
                "color": "white"
               }
              },
              "type": "table"
             }
            ]
           },
           "layout": {
            "annotationdefaults": {
             "arrowcolor": "#2a3f5f",
             "arrowhead": 0,
             "arrowwidth": 1
            },
            "autotypenumbers": "strict",
            "coloraxis": {
             "colorbar": {
              "outlinewidth": 0,
              "ticks": ""
             }
            },
            "colorscale": {
             "diverging": [
              [
               0,
               "#8e0152"
              ],
              [
               0.1,
               "#c51b7d"
              ],
              [
               0.2,
               "#de77ae"
              ],
              [
               0.3,
               "#f1b6da"
              ],
              [
               0.4,
               "#fde0ef"
              ],
              [
               0.5,
               "#f7f7f7"
              ],
              [
               0.6,
               "#e6f5d0"
              ],
              [
               0.7,
               "#b8e186"
              ],
              [
               0.8,
               "#7fbc41"
              ],
              [
               0.9,
               "#4d9221"
              ],
              [
               1,
               "#276419"
              ]
             ],
             "sequential": [
              [
               0,
               "#0d0887"
              ],
              [
               0.1111111111111111,
               "#46039f"
              ],
              [
               0.2222222222222222,
               "#7201a8"
              ],
              [
               0.3333333333333333,
               "#9c179e"
              ],
              [
               0.4444444444444444,
               "#bd3786"
              ],
              [
               0.5555555555555556,
               "#d8576b"
              ],
              [
               0.6666666666666666,
               "#ed7953"
              ],
              [
               0.7777777777777778,
               "#fb9f3a"
              ],
              [
               0.8888888888888888,
               "#fdca26"
              ],
              [
               1,
               "#f0f921"
              ]
             ],
             "sequentialminus": [
              [
               0,
               "#0d0887"
              ],
              [
               0.1111111111111111,
               "#46039f"
              ],
              [
               0.2222222222222222,
               "#7201a8"
              ],
              [
               0.3333333333333333,
               "#9c179e"
              ],
              [
               0.4444444444444444,
               "#bd3786"
              ],
              [
               0.5555555555555556,
               "#d8576b"
              ],
              [
               0.6666666666666666,
               "#ed7953"
              ],
              [
               0.7777777777777778,
               "#fb9f3a"
              ],
              [
               0.8888888888888888,
               "#fdca26"
              ],
              [
               1,
               "#f0f921"
              ]
             ]
            },
            "colorway": [
             "#636efa",
             "#EF553B",
             "#00cc96",
             "#ab63fa",
             "#FFA15A",
             "#19d3f3",
             "#FF6692",
             "#B6E880",
             "#FF97FF",
             "#FECB52"
            ],
            "font": {
             "color": "#2a3f5f"
            },
            "geo": {
             "bgcolor": "white",
             "lakecolor": "white",
             "landcolor": "white",
             "showlakes": true,
             "showland": true,
             "subunitcolor": "#C8D4E3"
            },
            "hoverlabel": {
             "align": "left"
            },
            "hovermode": "closest",
            "mapbox": {
             "style": "light"
            },
            "paper_bgcolor": "white",
            "plot_bgcolor": "white",
            "polar": {
             "angularaxis": {
              "gridcolor": "#EBF0F8",
              "linecolor": "#EBF0F8",
              "ticks": ""
             },
             "bgcolor": "white",
             "radialaxis": {
              "gridcolor": "#EBF0F8",
              "linecolor": "#EBF0F8",
              "ticks": ""
             }
            },
            "scene": {
             "xaxis": {
              "backgroundcolor": "white",
              "gridcolor": "#DFE8F3",
              "gridwidth": 2,
              "linecolor": "#EBF0F8",
              "showbackground": true,
              "ticks": "",
              "zerolinecolor": "#EBF0F8"
             },
             "yaxis": {
              "backgroundcolor": "white",
              "gridcolor": "#DFE8F3",
              "gridwidth": 2,
              "linecolor": "#EBF0F8",
              "showbackground": true,
              "ticks": "",
              "zerolinecolor": "#EBF0F8"
             },
             "zaxis": {
              "backgroundcolor": "white",
              "gridcolor": "#DFE8F3",
              "gridwidth": 2,
              "linecolor": "#EBF0F8",
              "showbackground": true,
              "ticks": "",
              "zerolinecolor": "#EBF0F8"
             }
            },
            "shapedefaults": {
             "line": {
              "color": "#2a3f5f"
             }
            },
            "ternary": {
             "aaxis": {
              "gridcolor": "#DFE8F3",
              "linecolor": "#A2B1C6",
              "ticks": ""
             },
             "baxis": {
              "gridcolor": "#DFE8F3",
              "linecolor": "#A2B1C6",
              "ticks": ""
             },
             "bgcolor": "white",
             "caxis": {
              "gridcolor": "#DFE8F3",
              "linecolor": "#A2B1C6",
              "ticks": ""
             }
            },
            "title": {
             "x": 0.05
            },
            "xaxis": {
             "automargin": true,
             "gridcolor": "#EBF0F8",
             "linecolor": "#EBF0F8",
             "ticks": "",
             "title": {
              "standoff": 15
             },
             "zerolinecolor": "#EBF0F8",
             "zerolinewidth": 2
            },
            "yaxis": {
             "automargin": true,
             "gridcolor": "#EBF0F8",
             "linecolor": "#EBF0F8",
             "ticks": "",
             "title": {
              "standoff": 15
             },
             "zerolinecolor": "#EBF0F8",
             "zerolinewidth": 2
            }
           }
          },
          "xaxis": {
           "automargin": false,
           "linecolor": "#444",
           "linewidth": 2,
           "minor": {
            "tickmode": "linear",
            "ticks": "outside"
           },
           "mirror": true,
           "showline": true,
           "tickmode": "linear",
           "ticks": "outside",
           "zeroline": false
          },
          "yaxis": {
           "automargin": false,
           "linecolor": "#444",
           "linewidth": 2,
           "minor": {
            "ticks": "outside"
           },
           "mirror": true,
           "showline": true,
           "ticks": "outside",
           "zeroline": false
          }
         }
        },
        "xaxis": {
         "dtick": 5,
         "minor": {
          "dtick": 1,
          "tick0": 0
         },
         "range": [
          0,
          31
         ],
         "tick0": 0,
         "title": {
          "text": "CR"
         }
        },
        "yaxis": {
         "dtick": 2,
         "minor": {
          "dtick": 1,
          "tick0": 0
         },
         "range": [
          -2,
          11
         ],
         "tick0": 0,
         "title": {
          "text": "saving throw bonus"
         }
        }
       }
      }
     },
     "metadata": {},
     "output_type": "display_data"
    }
   ],
   "source": [
    "# Saving throw proficiency bonus\n",
    "columns = ['Str PB','Dex PB','Con PB','Int PB','Wis PB','Cha PB']\n",
    "colors = ['#d62728','#9467bd','#8c564b','#1f77b4','#2ca02c','#ff7f0e']\n",
    "\n",
    "df1 = df0[df0['Category'].isin(['generic','legendary','unique']) & df0['CR'].between(1, 30)]\n",
    "\n",
    "# create figure\n",
    "fig = go.Figure(\n",
    "    layout=go.Layout(\n",
    "        template=TFB_TEMPLATE,\n",
    "        margin=dict(l=70, r=25, b=55, t=20, pad=4),\n",
    "        xaxis=dict(\n",
    "            title_text='CR',\n",
    "            range=[0,31],\n",
    "            tick0=0, dtick=5,\n",
    "            minor=dict(tick0=0, dtick=1),\n",
    "        ),\n",
    "        yaxis=dict(\n",
    "            title_text='saving throw bonus',\n",
    "            range=[-2,11],\n",
    "            tick0=0, dtick=2,\n",
    "            minor=dict(tick0=0, dtick=1),\n",
    "        ),\n",
    "        legend=dict(\n",
    "            xanchor='left', yanchor='top',\n",
    "            x=0.00, y=1.00,\n",
    "            orientation='v',\n",
    "            tracegroupgap=0,\n",
    "        )\n",
    "    )\n",
    ")\n",
    "\n",
    "for column, color in zip(columns, colors):\n",
    "    plot_mean_fit(fig, df1, 'CR', column, column, color)\n",
    "\n",
    "# show figure\n",
    "fig.show(config=TFB_CONFIG, width=600, height=450)\n",
    "fig.update_layout(autosize=True)\n",
    "\n",
    "# save figures\n",
    "if SAVEFIGS:\n",
    "    save_fig_html(fig, format='large', name='fig-saving-throw-proficiency-bonus-vs-cr-large')\n",
    "    save_fig_html(fig, format='small', name='fig-saving-throw-proficiency-bonus-vs-cr-small')"
   ]
  }
 ],
 "metadata": {
  "kernelspec": {
   "display_name": "thefinishedbook",
   "language": "python",
   "name": "python3"
  },
  "language_info": {
   "codemirror_mode": {
    "name": "ipython",
    "version": 3
   },
   "file_extension": ".py",
   "mimetype": "text/x-python",
   "name": "python",
   "nbconvert_exporter": "python",
   "pygments_lexer": "ipython3",
   "version": "3.10.5"
  },
  "metadata": {
   "interpreter": {
    "hash": "aee8b7b246df8f9039afb4144a1f6fd8d2ca17a180786b69acc140d282b71a49"
   }
  },
  "orig_nbformat": 2,
  "vscode": {
   "interpreter": {
    "hash": "e4b90a08ac11b7f80ea6e39e6f46c6e22a0b6d86a47874aaa13784019f162251"
   }
  }
 },
 "nbformat": 4,
 "nbformat_minor": 2
}
