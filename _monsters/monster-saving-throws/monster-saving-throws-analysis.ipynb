{
 "cells": [
  {
   "cell_type": "code",
   "execution_count": 7,
   "metadata": {},
   "outputs": [
    {
     "name": "stdout",
     "output_type": "stream",
     "text": [
      "Includes 1816 monsters in database\n"
     ]
    }
   ],
   "source": [
    "import pandas as pd\n",
    "import numpy as np\n",
    "from bs4 import BeautifulSoup\n",
    "pd.options.mode.chained_assignment = None  # default='warn'\n",
    "\n",
    "METADATA = {'Contributor': 'T. Dunn'}\n",
    "SAVEFIGS = False\n",
    "\n",
    "df0 = pd.read_csv('../../assets/data/monsters.csv')\n",
    "df0 = df0.astype({'Book': 'category', 'Category': 'category', 'Legendary': 'category', 'Type': 'category', 'Size': 'category'})\n",
    "df0['Str PB'] = df0['Str Prof']*df0['PB']\n",
    "df0['Dex PB'] = df0['Dex Prof']*df0['PB']\n",
    "df0['Con PB'] = df0['Con Prof']*df0['PB']\n",
    "df0['Wis PB'] = df0['Wis Prof']*df0['PB']\n",
    "df0['Int PB'] = df0['Int Prof']*df0['PB']\n",
    "df0['Cha PB'] = df0['Cha Prof']*df0['PB']\n",
    "print('Includes {} monsters in database'.format(len(df0.index.to_list())))"
   ]
  },
  {
   "cell_type": "code",
   "execution_count": 8,
   "metadata": {},
   "outputs": [],
   "source": [
    "# Setup template and html config for plotly figures.\n",
    "import plotly.graph_objects as go\n",
    "\n",
    "TFB_TEMPLATE = dict(\n",
    "    layout=go.Layout(\n",
    "        template='plotly_white',\n",
    "        autosize=False,\n",
    "        margin=dict(l=50, r=25, b=40, t=20, pad=4),\n",
    "        font=dict(family='sans-serif', size=14),\n",
    "        hovermode='closest',\n",
    "        xaxis=dict(\n",
    "            automargin=False,\n",
    "            showline=True,\n",
    "            linecolor='#444',\n",
    "            linewidth=2,\n",
    "            mirror=True,\n",
    "            tickmode='linear',\n",
    "            ticks='outside',\n",
    "            minor=dict(\n",
    "                tickmode='linear',\n",
    "                ticks='outside',\n",
    "            ),\n",
    "            zeroline=False,\n",
    "        ),\n",
    "        yaxis=dict(\n",
    "            automargin=False,\n",
    "            showline=True,\n",
    "            linecolor='#444',\n",
    "            linewidth=2,\n",
    "            mirror=True,\n",
    "            ticks='outside',\n",
    "            minor=dict(\n",
    "                ticks='outside',\n",
    "            ),\n",
    "            zeroline=False,\n",
    "        ),\n",
    "        hoverlabel=dict(align='left'),\n",
    "    )\n",
    ")\n",
    "\n",
    "TFB_CONFIG = {\n",
    "    'responsive': True, \n",
    "    'showAxisDragHandles': False,\n",
    "    'displaylogo': False,\n",
    "    'displayModeBar': 'hover',\n",
    "    'modeBarButtonsToRemove': [\n",
    "        'select2d',\n",
    "        'lasso2d',\n",
    "        'zoom2d',\n",
    "        'zoomIn2d',\n",
    "        'zoomOut2d',\n",
    "        'pan2d',\n",
    "        'autoScale2d',\n",
    "        'hoverClosestCartesian',\n",
    "        'hoverCompareCartesian',\n",
    "        'toggleSpikelines',\n",
    "        'resetScale2d',\n",
    "    ],\n",
    "    'toImageButtonOptions': {\n",
    "        'format': 'png', # one of png, svg, jpeg, webp\n",
    "        'filename': 'tfb-plot',\n",
    "        'height': 450,\n",
    "        'width': 600,\n",
    "        'scale': 2\n",
    "    },\n",
    "}\n",
    "\n",
    "def plot_mean_fit(fig, df0, xCol, yCol, name, line_color):\n",
    "    # plot mean\n",
    "    dfM = df0[[xCol, yCol]].groupby(xCol).mean().reset_index()\n",
    "    fig.add_trace(go.Scatter(\n",
    "        x=dfM[xCol], y=dfM[yCol],\n",
    "        mode='markers', \n",
    "        name=f'{name}',\n",
    "        legendgroup=name, \n",
    "        line_color=line_color,\n",
    "        hovertemplate='<b>' + name + '</b><br>' + 'CR %{x:,.0f}<br>' + 'Mean %{y:,.1f}<br>' + '<extra></extra>'\n",
    "    ))\n",
    "    coefs = np.polyfit(dfM[xCol], dfM[yCol], 1)\n",
    "    poly = np.poly1d(coefs)\n",
    "    fig.add_trace(go.Scatter(\n",
    "        x=dfM[xCol], y=poly(dfM[xCol]),\n",
    "        mode='lines', \n",
    "        name=f'{name}',\n",
    "        legendgroup=name, \n",
    "        line_color=line_color,\n",
    "        hoverinfo='skip',\n",
    "        showlegend=False,\n",
    "    ))\n",
    "    \n",
    "def save_fig_html(fig, format, name):\n",
    "    file_name = f'./{name}.html'\n",
    "\n",
    "    match format:\n",
    "        case 'large':\n",
    "            fig.update_traces(marker=dict(size=6))\n",
    "            fig.update_layout(font=dict(size=14))\n",
    "        case 'small':\n",
    "            fig.update_traces(marker=dict(size=4))\n",
    "            fig.update_layout(font=dict(size=10))\n",
    "\n",
    "    fig_html = fig.to_html(\n",
    "        config=TFB_CONFIG,\n",
    "        include_plotlyjs=False, \n",
    "        full_html=False, \n",
    "    )\n",
    "    fig_soup = BeautifulSoup(fig_html, 'html.parser')\n",
    "    fig_soup.div['class'] = f'plotly-div-{format}'\n",
    "    with open(file_name, 'wb') as fout:\n",
    "        fout.write(fig_soup.prettify('utf-8'))"
   ]
  },
  {
   "cell_type": "code",
   "execution_count": 9,
   "metadata": {},
   "outputs": [
    {
     "data": {
      "application/vnd.plotly.v1+json": {
       "config": {
        "displayModeBar": "hover",
        "displaylogo": false,
        "modeBarButtonsToRemove": [
         "select2d",
         "lasso2d",
         "zoom2d",
         "zoomIn2d",
         "zoomOut2d",
         "pan2d",
         "autoScale2d",
         "hoverClosestCartesian",
         "hoverCompareCartesian",
         "toggleSpikelines",
         "resetScale2d"
        ],
        "plotlyServerURL": "https://plot.ly",
        "responsive": true,
        "showAxisDragHandles": false,
        "toImageButtonOptions": {
         "filename": "tfb-plot",
         "format": "png",
         "height": 450,
         "scale": 2,
         "width": 600
        }
       },
       "data": [
        {
         "hovertemplate": "<b>Str Save</b><br>CR %{x:,.0f}<br>Mean %{y:,.1f}<br><extra></extra>",
         "legendgroup": "Str Save",
         "line": {
          "color": "#d62728"
         },
         "mode": "markers",
         "name": "Str Save",
         "type": "scatter",
         "x": [
          1,
          2,
          3,
          4,
          5,
          6,
          7,
          8,
          9,
          10,
          11,
          12,
          13,
          14,
          15,
          16,
          17,
          18,
          19,
          20,
          21,
          22,
          23,
          24,
          25,
          26,
          27,
          28,
          30
         ],
         "y": [
          1.0701754385964912,
          1.6358381502890174,
          2.3049645390070923,
          2.3,
          2.7674418604651163,
          3.0684931506849313,
          2.7857142857142856,
          3.628205128205128,
          4.224489795918367,
          4.05,
          5.0476190476190474,
          5.172413793103448,
          4.9411764705882355,
          5.269230769230769,
          5.476190476190476,
          7.08,
          5.375,
          4.928571428571429,
          6.9,
          5.545454545454546,
          6.866666666666666,
          5.875,
          8.363636363636363,
          8.857142857142858,
          10.444444444444445,
          8.833333333333334,
          10,
          10.142857142857142,
          12.25
         ]
        },
        {
         "hoverinfo": "skip",
         "legendgroup": "Str Save",
         "line": {
          "color": "#d62728"
         },
         "mode": "lines",
         "name": "Str Save",
         "showlegend": false,
         "type": "scatter",
         "x": [
          1,
          2,
          3,
          4,
          5,
          6,
          7,
          8,
          9,
          10,
          11,
          12,
          13,
          14,
          15,
          16,
          17,
          18,
          19,
          20,
          21,
          22,
          23,
          24,
          25,
          26,
          27,
          28,
          30
         ],
         "y": [
          1.199483136637761,
          1.5199230597955595,
          1.8403629829533585,
          2.160802906111157,
          2.481242829268956,
          2.8016827524267547,
          3.1221226755845537,
          3.4425625987423523,
          3.763002521900151,
          4.08344244505795,
          4.403882368215749,
          4.724322291373547,
          5.044762214531346,
          5.3652021376891454,
          5.685642060846944,
          6.006081984004743,
          6.326521907162541,
          6.64696183032034,
          6.967401753478139,
          7.287841676635938,
          7.608281599793736,
          7.928721522951536,
          8.249161446109335,
          8.569601369267133,
          8.890041292424932,
          9.21048121558273,
          9.53092113874053,
          9.851361061898329,
          10.492240908213926
         ]
        },
        {
         "hovertemplate": "<b>Dex Save</b><br>CR %{x:,.0f}<br>Mean %{y:,.1f}<br><extra></extra>",
         "legendgroup": "Dex Save",
         "line": {
          "color": "#9467bd"
         },
         "mode": "markers",
         "name": "Dex Save",
         "type": "scatter",
         "x": [
          1,
          2,
          3,
          4,
          5,
          6,
          7,
          8,
          9,
          10,
          11,
          12,
          13,
          14,
          15,
          16,
          17,
          18,
          19,
          20,
          21,
          22,
          23,
          24,
          25,
          26,
          27,
          28,
          30
         ],
         "y": [
          1.5701754385964912,
          1.5664739884393064,
          1.8581560283687943,
          1.82,
          2.10077519379845,
          1.917808219178082,
          2.585714285714286,
          2.051282051282051,
          2.142857142857143,
          2.775,
          2.8095238095238093,
          2.4827586206896552,
          3,
          3.230769230769231,
          4.095238095238095,
          4.68,
          5,
          4.285714285714286,
          6,
          5.2727272727272725,
          6.6,
          4.875,
          7.2727272727272725,
          7.928571428571429,
          7.111111111111111,
          8.25,
          10,
          9.142857142857142,
          6
         ]
        },
        {
         "hoverinfo": "skip",
         "legendgroup": "Dex Save",
         "line": {
          "color": "#9467bd"
         },
         "mode": "lines",
         "name": "Dex Save",
         "showlegend": false,
         "type": "scatter",
         "x": [
          1,
          2,
          3,
          4,
          5,
          6,
          7,
          8,
          9,
          10,
          11,
          12,
          13,
          14,
          15,
          16,
          17,
          18,
          19,
          20,
          21,
          22,
          23,
          24,
          25,
          26,
          27,
          28,
          30
         ],
         "y": [
          0.6465939674545773,
          0.9160632931596908,
          1.185532618864804,
          1.4550019445699176,
          1.724471270275031,
          1.9939405959801444,
          2.2634099216852577,
          2.532879247390371,
          2.8023485730954847,
          3.071817898800598,
          3.3412872245057113,
          3.6107565502108248,
          3.8802258759159383,
          4.149695201621051,
          4.419164527326164,
          4.688633853031278,
          4.958103178736391,
          5.227572504441505,
          5.497041830146618,
          5.766511155851732,
          6.0359804815568445,
          6.305449807261958,
          6.5749191329670715,
          6.844388458672185,
          7.1138577843772985,
          7.383327110082412,
          7.6527964357875256,
          7.922265761492638,
          8.461204412902866
         ]
        },
        {
         "hovertemplate": "<b>Con Save</b><br>CR %{x:,.0f}<br>Mean %{y:,.1f}<br><extra></extra>",
         "legendgroup": "Con Save",
         "line": {
          "color": "#8c564b"
         },
         "mode": "markers",
         "name": "Con Save",
         "type": "scatter",
         "x": [
          1,
          2,
          3,
          4,
          5,
          6,
          7,
          8,
          9,
          10,
          11,
          12,
          13,
          14,
          15,
          16,
          17,
          18,
          19,
          20,
          21,
          22,
          23,
          24,
          25,
          26,
          27,
          28,
          30
         ],
         "y": [
          1.4649122807017543,
          1.8439306358381502,
          2.25531914893617,
          2.6,
          3.248062015503876,
          3.589041095890411,
          3.9571428571428573,
          4.3076923076923075,
          5.530612244897959,
          5.675,
          5.904761904761905,
          5.758620689655173,
          7.294117647058823,
          7.769230769230769,
          7.142857142857143,
          7.6,
          8.875,
          9.714285714285714,
          9.1,
          11.181818181818182,
          11.666666666666666,
          11,
          12.409090909090908,
          13.785714285714286,
          14.444444444444445,
          15.166666666666666,
          18,
          16.142857142857142,
          14.25
         ]
        },
        {
         "hoverinfo": "skip",
         "legendgroup": "Con Save",
         "line": {
          "color": "#8c564b"
         },
         "mode": "lines",
         "name": "Con Save",
         "showlegend": false,
         "type": "scatter",
         "x": [
          1,
          2,
          3,
          4,
          5,
          6,
          7,
          8,
          9,
          10,
          11,
          12,
          13,
          14,
          15,
          16,
          17,
          18,
          19,
          20,
          21,
          22,
          23,
          24,
          25,
          26,
          27,
          28,
          30
         ],
         "y": [
          0.7802624447646611,
          1.318469407549762,
          1.856676370334863,
          2.394883333119964,
          2.9330902959050653,
          3.471297258690166,
          4.009504221475267,
          4.547711184260368,
          5.0859181470454695,
          5.624125109830571,
          6.162332072615672,
          6.700539035400772,
          7.238745998185873,
          7.776952960970974,
          8.315159923756077,
          8.853366886541178,
          9.391573849326278,
          9.92978081211138,
          10.46798777489648,
          11.006194737681582,
          11.544401700466683,
          12.082608663251785,
          12.620815626036885,
          13.159022588821985,
          13.697229551607087,
          14.235436514392187,
          14.77364347717729,
          15.31185043996239,
          16.388264365532592
         ]
        },
        {
         "hovertemplate": "<b>Int Save</b><br>CR %{x:,.0f}<br>Mean %{y:,.1f}<br><extra></extra>",
         "legendgroup": "Int Save",
         "line": {
          "color": "#1f77b4"
         },
         "mode": "markers",
         "name": "Int Save",
         "type": "scatter",
         "x": [
          1,
          2,
          3,
          4,
          5,
          6,
          7,
          8,
          9,
          10,
          11,
          12,
          13,
          14,
          15,
          16,
          17,
          18,
          19,
          20,
          21,
          22,
          23,
          24,
          25,
          26,
          27,
          28,
          30
         ],
         "y": [
          -1.1140350877192982,
          -0.6936416184971098,
          -0.4326241134751773,
          0.39,
          0.4186046511627907,
          0.8082191780821918,
          1.5714285714285714,
          0.7564102564102564,
          1.7551020408163265,
          2.6,
          1.4047619047619047,
          2.206896551724138,
          3.9705882352941178,
          2.769230769230769,
          3.3333333333333335,
          2.52,
          5.0625,
          5.785714285714286,
          5.2,
          3.727272727272727,
          7.4,
          7.5,
          6.636363636363637,
          6.142857142857143,
          6.666666666666667,
          9.833333333333334,
          5,
          12.571428571428571,
          8.5
         ]
        },
        {
         "hoverinfo": "skip",
         "legendgroup": "Int Save",
         "line": {
          "color": "#1f77b4"
         },
         "mode": "lines",
         "name": "Int Save",
         "showlegend": false,
         "type": "scatter",
         "x": [
          1,
          2,
          3,
          4,
          5,
          6,
          7,
          8,
          9,
          10,
          11,
          12,
          13,
          14,
          15,
          16,
          17,
          18,
          19,
          20,
          21,
          22,
          23,
          24,
          25,
          26,
          27,
          28,
          30
         ],
         "y": [
          -1.2149955935555896,
          -0.8525256101420728,
          -0.4900556267285563,
          -0.12758564331503952,
          0.23488434009847725,
          0.5973543235119936,
          0.9598243069255104,
          1.3222942903390271,
          1.684764273752544,
          2.0472342571660604,
          2.409704240579577,
          2.772174223993093,
          3.13464420740661,
          3.4971141908201266,
          3.8595841742336434,
          4.22205415764716,
          4.584524141060677,
          4.946994124474194,
          5.3094641078877105,
          5.671934091301227,
          6.034404074714743,
          6.39687405812826,
          6.759344041541778,
          7.121814024955293,
          7.484284008368809,
          7.846753991782326,
          8.209223975195844,
          8.57169395860936,
          9.296633925436394
         ]
        },
        {
         "hovertemplate": "<b>Wis Save</b><br>CR %{x:,.0f}<br>Mean %{y:,.1f}<br><extra></extra>",
         "legendgroup": "Wis Save",
         "line": {
          "color": "#2ca02c"
         },
         "mode": "markers",
         "name": "Wis Save",
         "type": "scatter",
         "x": [
          1,
          2,
          3,
          4,
          5,
          6,
          7,
          8,
          9,
          10,
          11,
          12,
          13,
          14,
          15,
          16,
          17,
          18,
          19,
          20,
          21,
          22,
          23,
          24,
          25,
          26,
          27,
          28,
          30
         ],
         "y": [
          0.5175438596491229,
          0.8554913294797688,
          1.070921985815603,
          1.56,
          2.2248062015503876,
          2.4246575342465753,
          2.842857142857143,
          3.0256410256410255,
          3.7346938775510203,
          4.65,
          4.357142857142857,
          5.172413793103448,
          5.205882352941177,
          6.038461538461538,
          6.0476190476190474,
          6.76,
          8.25,
          8.642857142857142,
          8.1,
          8,
          11.4,
          10.25,
          10.954545454545455,
          12.142857142857142,
          11.555555555555555,
          13.166666666666666,
          13,
          14,
          14.5
         ]
        },
        {
         "hoverinfo": "skip",
         "legendgroup": "Wis Save",
         "line": {
          "color": "#2ca02c"
         },
         "mode": "lines",
         "name": "Wis Save",
         "showlegend": false,
         "type": "scatter",
         "x": [
          1,
          2,
          3,
          4,
          5,
          6,
          7,
          8,
          9,
          10,
          11,
          12,
          13,
          14,
          15,
          16,
          17,
          18,
          19,
          20,
          21,
          22,
          23,
          24,
          25,
          26,
          27,
          28,
          30
         ],
         "y": [
          -0.15102544634601855,
          0.352243232898638,
          0.8555119121432946,
          1.3587805913879512,
          1.8620492706326075,
          2.365317949877264,
          2.8685866291219213,
          3.3718553083665777,
          3.875123987611234,
          4.37839266685589,
          4.881661346100548,
          5.384930025345204,
          5.88819870458986,
          6.3914673838345175,
          6.894736063079174,
          7.39800474232383,
          7.901273421568487,
          8.404542100813142,
          8.9078107800578,
          9.411079459302455,
          9.914348138547112,
          10.41761681779177,
          10.920885497036425,
          11.424154176281082,
          11.927422855525739,
          12.430691534770395,
          12.933960214015052,
          13.437228893259709,
          14.443766251749022
         ]
        },
        {
         "hovertemplate": "<b>Cha Save</b><br>CR %{x:,.0f}<br>Mean %{y:,.1f}<br><extra></extra>",
         "legendgroup": "Cha Save",
         "line": {
          "color": "#ff7f0e"
         },
         "mode": "markers",
         "name": "Cha Save",
         "type": "scatter",
         "x": [
          1,
          2,
          3,
          4,
          5,
          6,
          7,
          8,
          9,
          10,
          11,
          12,
          13,
          14,
          15,
          16,
          17,
          18,
          19,
          20,
          21,
          22,
          23,
          24,
          25,
          26,
          27,
          28,
          30
         ],
         "y": [
          -0.5175438596491229,
          -0.08092485549132948,
          0.07801418439716312,
          0.8,
          0.7596899224806202,
          1.2602739726027397,
          2.1,
          1.6794871794871795,
          2.36734693877551,
          3.025,
          3.261904761904762,
          3.8275862068965516,
          5.294117647058823,
          4.884615384615385,
          6.285714285714286,
          5.8,
          7.6875,
          8.5,
          9.9,
          8.727272727272727,
          9.533333333333333,
          9.9375,
          8.318181818181818,
          9,
          7.333333333333333,
          12,
          16,
          17.285714285714285,
          13.5
         ]
        },
        {
         "hoverinfo": "skip",
         "legendgroup": "Cha Save",
         "line": {
          "color": "#ff7f0e"
         },
         "mode": "lines",
         "name": "Cha Save",
         "showlegend": false,
         "type": "scatter",
         "x": [
          1,
          2,
          3,
          4,
          5,
          6,
          7,
          8,
          9,
          10,
          11,
          12,
          13,
          14,
          15,
          16,
          17,
          18,
          19,
          20,
          21,
          22,
          23,
          24,
          25,
          26,
          27,
          28,
          30
         ],
         "y": [
          -1.3706813385114045,
          -0.8343229206159286,
          -0.2979645027204527,
          0.23839391517502317,
          0.7747523330704991,
          1.311110750965975,
          1.8474691688614509,
          2.3838275867569267,
          2.920186004652403,
          3.4565444225478785,
          3.992902840443354,
          4.52926125833883,
          5.065619676234307,
          5.601978094129782,
          6.1383365120252575,
          6.674694929920734,
          7.21105334781621,
          7.7474117657116865,
          8.28377018360716,
          8.820128601502638,
          9.356487019398113,
          9.892845437293587,
          10.429203855189066,
          10.96556227308454,
          11.501920690980018,
          12.038279108875493,
          12.574637526770967,
          13.110995944666445,
          14.183712780457395
         ]
        }
       ],
       "layout": {
        "legend": {
         "orientation": "v",
         "tracegroupgap": 0,
         "x": 0,
         "xanchor": "left",
         "y": 1,
         "yanchor": "top"
        },
        "margin": {
         "b": 55,
         "l": 70,
         "pad": 4,
         "r": 25,
         "t": 20
        },
        "template": {
         "layout": {
          "autosize": false,
          "font": {
           "family": "sans-serif",
           "size": 14
          },
          "hoverlabel": {
           "align": "left"
          },
          "hovermode": "closest",
          "margin": {
           "b": 40,
           "l": 50,
           "pad": 4,
           "r": 25,
           "t": 20
          },
          "template": {
           "data": {
            "bar": [
             {
              "error_x": {
               "color": "#2a3f5f"
              },
              "error_y": {
               "color": "#2a3f5f"
              },
              "marker": {
               "line": {
                "color": "white",
                "width": 0.5
               },
               "pattern": {
                "fillmode": "overlay",
                "size": 10,
                "solidity": 0.2
               }
              },
              "type": "bar"
             }
            ],
            "barpolar": [
             {
              "marker": {
               "line": {
                "color": "white",
                "width": 0.5
               },
               "pattern": {
                "fillmode": "overlay",
                "size": 10,
                "solidity": 0.2
               }
              },
              "type": "barpolar"
             }
            ],
            "carpet": [
             {
              "aaxis": {
               "endlinecolor": "#2a3f5f",
               "gridcolor": "#C8D4E3",
               "linecolor": "#C8D4E3",
               "minorgridcolor": "#C8D4E3",
               "startlinecolor": "#2a3f5f"
              },
              "baxis": {
               "endlinecolor": "#2a3f5f",
               "gridcolor": "#C8D4E3",
               "linecolor": "#C8D4E3",
               "minorgridcolor": "#C8D4E3",
               "startlinecolor": "#2a3f5f"
              },
              "type": "carpet"
             }
            ],
            "choropleth": [
             {
              "colorbar": {
               "outlinewidth": 0,
               "ticks": ""
              },
              "type": "choropleth"
             }
            ],
            "contour": [
             {
              "colorbar": {
               "outlinewidth": 0,
               "ticks": ""
              },
              "colorscale": [
               [
                0,
                "#0d0887"
               ],
               [
                0.1111111111111111,
                "#46039f"
               ],
               [
                0.2222222222222222,
                "#7201a8"
               ],
               [
                0.3333333333333333,
                "#9c179e"
               ],
               [
                0.4444444444444444,
                "#bd3786"
               ],
               [
                0.5555555555555556,
                "#d8576b"
               ],
               [
                0.6666666666666666,
                "#ed7953"
               ],
               [
                0.7777777777777778,
                "#fb9f3a"
               ],
               [
                0.8888888888888888,
                "#fdca26"
               ],
               [
                1,
                "#f0f921"
               ]
              ],
              "type": "contour"
             }
            ],
            "contourcarpet": [
             {
              "colorbar": {
               "outlinewidth": 0,
               "ticks": ""
              },
              "type": "contourcarpet"
             }
            ],
            "heatmap": [
             {
              "colorbar": {
               "outlinewidth": 0,
               "ticks": ""
              },
              "colorscale": [
               [
                0,
                "#0d0887"
               ],
               [
                0.1111111111111111,
                "#46039f"
               ],
               [
                0.2222222222222222,
                "#7201a8"
               ],
               [
                0.3333333333333333,
                "#9c179e"
               ],
               [
                0.4444444444444444,
                "#bd3786"
               ],
               [
                0.5555555555555556,
                "#d8576b"
               ],
               [
                0.6666666666666666,
                "#ed7953"
               ],
               [
                0.7777777777777778,
                "#fb9f3a"
               ],
               [
                0.8888888888888888,
                "#fdca26"
               ],
               [
                1,
                "#f0f921"
               ]
              ],
              "type": "heatmap"
             }
            ],
            "heatmapgl": [
             {
              "colorbar": {
               "outlinewidth": 0,
               "ticks": ""
              },
              "colorscale": [
               [
                0,
                "#0d0887"
               ],
               [
                0.1111111111111111,
                "#46039f"
               ],
               [
                0.2222222222222222,
                "#7201a8"
               ],
               [
                0.3333333333333333,
                "#9c179e"
               ],
               [
                0.4444444444444444,
                "#bd3786"
               ],
               [
                0.5555555555555556,
                "#d8576b"
               ],
               [
                0.6666666666666666,
                "#ed7953"
               ],
               [
                0.7777777777777778,
                "#fb9f3a"
               ],
               [
                0.8888888888888888,
                "#fdca26"
               ],
               [
                1,
                "#f0f921"
               ]
              ],
              "type": "heatmapgl"
             }
            ],
            "histogram": [
             {
              "marker": {
               "pattern": {
                "fillmode": "overlay",
                "size": 10,
                "solidity": 0.2
               }
              },
              "type": "histogram"
             }
            ],
            "histogram2d": [
             {
              "colorbar": {
               "outlinewidth": 0,
               "ticks": ""
              },
              "colorscale": [
               [
                0,
                "#0d0887"
               ],
               [
                0.1111111111111111,
                "#46039f"
               ],
               [
                0.2222222222222222,
                "#7201a8"
               ],
               [
                0.3333333333333333,
                "#9c179e"
               ],
               [
                0.4444444444444444,
                "#bd3786"
               ],
               [
                0.5555555555555556,
                "#d8576b"
               ],
               [
                0.6666666666666666,
                "#ed7953"
               ],
               [
                0.7777777777777778,
                "#fb9f3a"
               ],
               [
                0.8888888888888888,
                "#fdca26"
               ],
               [
                1,
                "#f0f921"
               ]
              ],
              "type": "histogram2d"
             }
            ],
            "histogram2dcontour": [
             {
              "colorbar": {
               "outlinewidth": 0,
               "ticks": ""
              },
              "colorscale": [
               [
                0,
                "#0d0887"
               ],
               [
                0.1111111111111111,
                "#46039f"
               ],
               [
                0.2222222222222222,
                "#7201a8"
               ],
               [
                0.3333333333333333,
                "#9c179e"
               ],
               [
                0.4444444444444444,
                "#bd3786"
               ],
               [
                0.5555555555555556,
                "#d8576b"
               ],
               [
                0.6666666666666666,
                "#ed7953"
               ],
               [
                0.7777777777777778,
                "#fb9f3a"
               ],
               [
                0.8888888888888888,
                "#fdca26"
               ],
               [
                1,
                "#f0f921"
               ]
              ],
              "type": "histogram2dcontour"
             }
            ],
            "mesh3d": [
             {
              "colorbar": {
               "outlinewidth": 0,
               "ticks": ""
              },
              "type": "mesh3d"
             }
            ],
            "parcoords": [
             {
              "line": {
               "colorbar": {
                "outlinewidth": 0,
                "ticks": ""
               }
              },
              "type": "parcoords"
             }
            ],
            "pie": [
             {
              "automargin": true,
              "type": "pie"
             }
            ],
            "scatter": [
             {
              "fillpattern": {
               "fillmode": "overlay",
               "size": 10,
               "solidity": 0.2
              },
              "type": "scatter"
             }
            ],
            "scatter3d": [
             {
              "line": {
               "colorbar": {
                "outlinewidth": 0,
                "ticks": ""
               }
              },
              "marker": {
               "colorbar": {
                "outlinewidth": 0,
                "ticks": ""
               }
              },
              "type": "scatter3d"
             }
            ],
            "scattercarpet": [
             {
              "marker": {
               "colorbar": {
                "outlinewidth": 0,
                "ticks": ""
               }
              },
              "type": "scattercarpet"
             }
            ],
            "scattergeo": [
             {
              "marker": {
               "colorbar": {
                "outlinewidth": 0,
                "ticks": ""
               }
              },
              "type": "scattergeo"
             }
            ],
            "scattergl": [
             {
              "marker": {
               "colorbar": {
                "outlinewidth": 0,
                "ticks": ""
               }
              },
              "type": "scattergl"
             }
            ],
            "scattermapbox": [
             {
              "marker": {
               "colorbar": {
                "outlinewidth": 0,
                "ticks": ""
               }
              },
              "type": "scattermapbox"
             }
            ],
            "scatterpolar": [
             {
              "marker": {
               "colorbar": {
                "outlinewidth": 0,
                "ticks": ""
               }
              },
              "type": "scatterpolar"
             }
            ],
            "scatterpolargl": [
             {
              "marker": {
               "colorbar": {
                "outlinewidth": 0,
                "ticks": ""
               }
              },
              "type": "scatterpolargl"
             }
            ],
            "scatterternary": [
             {
              "marker": {
               "colorbar": {
                "outlinewidth": 0,
                "ticks": ""
               }
              },
              "type": "scatterternary"
             }
            ],
            "surface": [
             {
              "colorbar": {
               "outlinewidth": 0,
               "ticks": ""
              },
              "colorscale": [
               [
                0,
                "#0d0887"
               ],
               [
                0.1111111111111111,
                "#46039f"
               ],
               [
                0.2222222222222222,
                "#7201a8"
               ],
               [
                0.3333333333333333,
                "#9c179e"
               ],
               [
                0.4444444444444444,
                "#bd3786"
               ],
               [
                0.5555555555555556,
                "#d8576b"
               ],
               [
                0.6666666666666666,
                "#ed7953"
               ],
               [
                0.7777777777777778,
                "#fb9f3a"
               ],
               [
                0.8888888888888888,
                "#fdca26"
               ],
               [
                1,
                "#f0f921"
               ]
              ],
              "type": "surface"
             }
            ],
            "table": [
             {
              "cells": {
               "fill": {
                "color": "#EBF0F8"
               },
               "line": {
                "color": "white"
               }
              },
              "header": {
               "fill": {
                "color": "#C8D4E3"
               },
               "line": {
                "color": "white"
               }
              },
              "type": "table"
             }
            ]
           },
           "layout": {
            "annotationdefaults": {
             "arrowcolor": "#2a3f5f",
             "arrowhead": 0,
             "arrowwidth": 1
            },
            "autotypenumbers": "strict",
            "coloraxis": {
             "colorbar": {
              "outlinewidth": 0,
              "ticks": ""
             }
            },
            "colorscale": {
             "diverging": [
              [
               0,
               "#8e0152"
              ],
              [
               0.1,
               "#c51b7d"
              ],
              [
               0.2,
               "#de77ae"
              ],
              [
               0.3,
               "#f1b6da"
              ],
              [
               0.4,
               "#fde0ef"
              ],
              [
               0.5,
               "#f7f7f7"
              ],
              [
               0.6,
               "#e6f5d0"
              ],
              [
               0.7,
               "#b8e186"
              ],
              [
               0.8,
               "#7fbc41"
              ],
              [
               0.9,
               "#4d9221"
              ],
              [
               1,
               "#276419"
              ]
             ],
             "sequential": [
              [
               0,
               "#0d0887"
              ],
              [
               0.1111111111111111,
               "#46039f"
              ],
              [
               0.2222222222222222,
               "#7201a8"
              ],
              [
               0.3333333333333333,
               "#9c179e"
              ],
              [
               0.4444444444444444,
               "#bd3786"
              ],
              [
               0.5555555555555556,
               "#d8576b"
              ],
              [
               0.6666666666666666,
               "#ed7953"
              ],
              [
               0.7777777777777778,
               "#fb9f3a"
              ],
              [
               0.8888888888888888,
               "#fdca26"
              ],
              [
               1,
               "#f0f921"
              ]
             ],
             "sequentialminus": [
              [
               0,
               "#0d0887"
              ],
              [
               0.1111111111111111,
               "#46039f"
              ],
              [
               0.2222222222222222,
               "#7201a8"
              ],
              [
               0.3333333333333333,
               "#9c179e"
              ],
              [
               0.4444444444444444,
               "#bd3786"
              ],
              [
               0.5555555555555556,
               "#d8576b"
              ],
              [
               0.6666666666666666,
               "#ed7953"
              ],
              [
               0.7777777777777778,
               "#fb9f3a"
              ],
              [
               0.8888888888888888,
               "#fdca26"
              ],
              [
               1,
               "#f0f921"
              ]
             ]
            },
            "colorway": [
             "#636efa",
             "#EF553B",
             "#00cc96",
             "#ab63fa",
             "#FFA15A",
             "#19d3f3",
             "#FF6692",
             "#B6E880",
             "#FF97FF",
             "#FECB52"
            ],
            "font": {
             "color": "#2a3f5f"
            },
            "geo": {
             "bgcolor": "white",
             "lakecolor": "white",
             "landcolor": "white",
             "showlakes": true,
             "showland": true,
             "subunitcolor": "#C8D4E3"
            },
            "hoverlabel": {
             "align": "left"
            },
            "hovermode": "closest",
            "mapbox": {
             "style": "light"
            },
            "paper_bgcolor": "white",
            "plot_bgcolor": "white",
            "polar": {
             "angularaxis": {
              "gridcolor": "#EBF0F8",
              "linecolor": "#EBF0F8",
              "ticks": ""
             },
             "bgcolor": "white",
             "radialaxis": {
              "gridcolor": "#EBF0F8",
              "linecolor": "#EBF0F8",
              "ticks": ""
             }
            },
            "scene": {
             "xaxis": {
              "backgroundcolor": "white",
              "gridcolor": "#DFE8F3",
              "gridwidth": 2,
              "linecolor": "#EBF0F8",
              "showbackground": true,
              "ticks": "",
              "zerolinecolor": "#EBF0F8"
             },
             "yaxis": {
              "backgroundcolor": "white",
              "gridcolor": "#DFE8F3",
              "gridwidth": 2,
              "linecolor": "#EBF0F8",
              "showbackground": true,
              "ticks": "",
              "zerolinecolor": "#EBF0F8"
             },
             "zaxis": {
              "backgroundcolor": "white",
              "gridcolor": "#DFE8F3",
              "gridwidth": 2,
              "linecolor": "#EBF0F8",
              "showbackground": true,
              "ticks": "",
              "zerolinecolor": "#EBF0F8"
             }
            },
            "shapedefaults": {
             "line": {
              "color": "#2a3f5f"
             }
            },
            "ternary": {
             "aaxis": {
              "gridcolor": "#DFE8F3",
              "linecolor": "#A2B1C6",
              "ticks": ""
             },
             "baxis": {
              "gridcolor": "#DFE8F3",
              "linecolor": "#A2B1C6",
              "ticks": ""
             },
             "bgcolor": "white",
             "caxis": {
              "gridcolor": "#DFE8F3",
              "linecolor": "#A2B1C6",
              "ticks": ""
             }
            },
            "title": {
             "x": 0.05
            },
            "xaxis": {
             "automargin": true,
             "gridcolor": "#EBF0F8",
             "linecolor": "#EBF0F8",
             "ticks": "",
             "title": {
              "standoff": 15
             },
             "zerolinecolor": "#EBF0F8",
             "zerolinewidth": 2
            },
            "yaxis": {
             "automargin": true,
             "gridcolor": "#EBF0F8",
             "linecolor": "#EBF0F8",
             "ticks": "",
             "title": {
              "standoff": 15
             },
             "zerolinecolor": "#EBF0F8",
             "zerolinewidth": 2
            }
           }
          },
          "xaxis": {
           "automargin": false,
           "linecolor": "#444",
           "linewidth": 2,
           "minor": {
            "tickmode": "linear",
            "ticks": "outside"
           },
           "mirror": true,
           "showline": true,
           "tickmode": "linear",
           "ticks": "outside",
           "zeroline": false
          },
          "yaxis": {
           "automargin": false,
           "linecolor": "#444",
           "linewidth": 2,
           "minor": {
            "ticks": "outside"
           },
           "mirror": true,
           "showline": true,
           "ticks": "outside",
           "zeroline": false
          }
         }
        },
        "xaxis": {
         "dtick": 5,
         "minor": {
          "dtick": 1,
          "tick0": 0
         },
         "range": [
          0,
          31
         ],
         "tick0": 0,
         "title": {
          "text": "CR"
         }
        },
        "yaxis": {
         "dtick": 5,
         "minor": {
          "dtick": 1,
          "tick0": 0
         },
         "range": [
          -2,
          19
         ],
         "tick0": 0,
         "title": {
          "text": "saving throw bonus"
         }
        }
       }
      }
     },
     "metadata": {},
     "output_type": "display_data"
    }
   ],
   "source": [
    "# Saving throw modifier\n",
    "columns = ['Str Save','Dex Save','Con Save','Int Save','Wis Save','Cha Save']\n",
    "colors = ['#d62728','#9467bd','#8c564b','#1f77b4','#2ca02c','#ff7f0e']\n",
    "\n",
    "df1 = df0[df0['Category'].isin(['generic','legendary','unique']) & df0['CR'].between(1, 30)]\n",
    "\n",
    "# create figure\n",
    "fig = go.Figure(\n",
    "    layout=go.Layout(\n",
    "        template=TFB_TEMPLATE,\n",
    "        margin=dict(l=70, r=25, b=55, t=20, pad=4),\n",
    "        xaxis=dict(\n",
    "            title_text='CR',\n",
    "            range=[0,31],\n",
    "            tick0=0, dtick=5,\n",
    "            minor=dict(tick0=0, dtick=1),\n",
    "        ),\n",
    "        yaxis=dict(\n",
    "            title_text='saving throw bonus',\n",
    "            range=[-2,19],\n",
    "            tick0=0, dtick=5,\n",
    "            minor=dict(tick0=0, dtick=1),\n",
    "        ),\n",
    "        legend=dict(\n",
    "            xanchor='left', yanchor='top',\n",
    "            x=0.00, y=1.00,\n",
    "            orientation='v',\n",
    "            tracegroupgap=0,\n",
    "        )\n",
    "    )\n",
    ")\n",
    "\n",
    "for column, color in zip(columns, colors):\n",
    "    plot_mean_fit(fig, df1, 'CR', column, column, color)\n",
    "\n",
    "# show figure\n",
    "fig.show(config=TFB_CONFIG, width=600, height=450)\n",
    "fig.update_layout(autosize=True)\n",
    "\n",
    "# save figures\n",
    "if SAVEFIGS:\n",
    "    save_fig_html(fig, format='large', name='fig-saving-throw-modifier-vs-cr-large')\n",
    "    save_fig_html(fig, format='small', name='fig-saving-throw-modifier-vs-cr-small')"
   ]
  },
  {
   "cell_type": "code",
   "execution_count": 10,
   "metadata": {},
   "outputs": [
    {
     "data": {
      "application/vnd.plotly.v1+json": {
       "config": {
        "displayModeBar": "hover",
        "displaylogo": false,
        "modeBarButtonsToRemove": [
         "select2d",
         "lasso2d",
         "zoom2d",
         "zoomIn2d",
         "zoomOut2d",
         "pan2d",
         "autoScale2d",
         "hoverClosestCartesian",
         "hoverCompareCartesian",
         "toggleSpikelines",
         "resetScale2d"
        ],
        "plotlyServerURL": "https://plot.ly",
        "responsive": true,
        "showAxisDragHandles": false,
        "toImageButtonOptions": {
         "filename": "tfb-plot",
         "format": "png",
         "height": 450,
         "scale": 2,
         "width": 600
        }
       },
       "data": [
        {
         "hovertemplate": "<b>Str Mod</b><br>CR %{x:,.0f}<br>Mean %{y:,.1f}<br><extra></extra>",
         "legendgroup": "Str Mod",
         "line": {
          "color": "#d62728"
         },
         "mode": "markers",
         "name": "Str Mod",
         "type": "scatter",
         "x": [
          1,
          2,
          3,
          4,
          5,
          6,
          7,
          8,
          9,
          10,
          11,
          12,
          13,
          14,
          15,
          16,
          17,
          18,
          19,
          20,
          21,
          22,
          23,
          24,
          25,
          26,
          27,
          28,
          30
         ],
         "y": [
          1.0701754385964912,
          1.5780346820809248,
          2.1631205673758864,
          2.18,
          2.511627906976744,
          2.73972602739726,
          2.6142857142857143,
          3.3205128205128207,
          3.7346938775510203,
          3.75,
          4.380952380952381,
          4.206896551724138,
          4.0588235294117645,
          4.5,
          4.761904761904762,
          5.48,
          4.625,
          3.642857142857143,
          5.7,
          5,
          6.4,
          5.875,
          7.409090909090909,
          8.357142857142858,
          9.555555555555555,
          8.833333333333334,
          10,
          9,
          10
         ]
        },
        {
         "hoverinfo": "skip",
         "legendgroup": "Str Mod",
         "line": {
          "color": "#d62728"
         },
         "mode": "lines",
         "name": "Str Mod",
         "showlegend": false,
         "type": "scatter",
         "x": [
          1,
          2,
          3,
          4,
          5,
          6,
          7,
          8,
          9,
          10,
          11,
          12,
          13,
          14,
          15,
          16,
          17,
          18,
          19,
          20,
          21,
          22,
          23,
          24,
          25,
          26,
          27,
          28,
          30
         ],
         "y": [
          1.0027013682801016,
          1.2935377180998233,
          1.584374067919545,
          1.8752104177392668,
          2.1660467675589885,
          2.4568831173787107,
          2.7477194671984324,
          3.038555817018154,
          3.329392166837876,
          3.6202285166575976,
          3.9110648664773193,
          4.201901216297041,
          4.492737566116763,
          4.7835739159364845,
          5.074410265756206,
          5.365246615575928,
          5.65608296539565,
          5.946919315215371,
          6.237755665035094,
          6.528592014854815,
          6.819428364674537,
          7.110264714494258,
          7.4011010643139805,
          7.691937414133703,
          7.982773763953424,
          8.273610113773147,
          8.564446463592867,
          8.85528281341259,
          9.436955513052032
         ]
        },
        {
         "hovertemplate": "<b>Dex Mod</b><br>CR %{x:,.0f}<br>Mean %{y:,.1f}<br><extra></extra>",
         "legendgroup": "Dex Mod",
         "line": {
          "color": "#9467bd"
         },
         "mode": "markers",
         "name": "Dex Mod",
         "type": "scatter",
         "x": [
          1,
          2,
          3,
          4,
          5,
          6,
          7,
          8,
          9,
          10,
          11,
          12,
          13,
          14,
          15,
          16,
          17,
          18,
          19,
          20,
          21,
          22,
          23,
          24,
          25,
          26,
          27,
          28,
          30
         ],
         "y": [
          1.394736842105263,
          1.2427745664739884,
          1.5886524822695036,
          1.52,
          1.4728682170542635,
          1.4657534246575343,
          1.8571428571428572,
          1.435897435897436,
          1.4081632653061225,
          1.575,
          1.4761904761904763,
          1.3793103448275863,
          1.2647058823529411,
          1.5,
          1.9523809523809523,
          2.68,
          1.3125,
          2.142857142857143,
          3,
          2.5454545454545454,
          2.466666666666667,
          1.8125,
          2.5,
          1.9285714285714286,
          1.1111111111111112,
          2.25,
          2,
          3.4285714285714284,
          1.5
         ]
        },
        {
         "hoverinfo": "skip",
         "legendgroup": "Dex Mod",
         "line": {
          "color": "#9467bd"
         },
         "mode": "lines",
         "name": "Dex Mod",
         "showlegend": false,
         "type": "scatter",
         "x": [
          1,
          2,
          3,
          4,
          5,
          6,
          7,
          8,
          9,
          10,
          11,
          12,
          13,
          14,
          15,
          16,
          17,
          18,
          19,
          20,
          21,
          22,
          23,
          24,
          25,
          26,
          27,
          28,
          30
         ],
         "y": [
          1.3460813348146858,
          1.380910451178974,
          1.4157395675432625,
          1.450568683907551,
          1.485397800271839,
          1.5202269166361275,
          1.555056033000416,
          1.5898851493647042,
          1.6247142657289926,
          1.6595433820932808,
          1.6943724984575692,
          1.7292016148218576,
          1.7640307311861458,
          1.7988598475504343,
          1.8336889639147227,
          1.868518080279011,
          1.9033471966432993,
          1.9381763130075877,
          1.973005429371876,
          2.0078345457361646,
          2.042663662100453,
          2.077492778464741,
          2.112321894829029,
          2.147151011193318,
          2.181980127557606,
          2.2168092439218947,
          2.251638360286183,
          2.286467476650471,
          2.356125709379048
         ]
        },
        {
         "hovertemplate": "<b>Con Mod</b><br>CR %{x:,.0f}<br>Mean %{y:,.1f}<br><extra></extra>",
         "legendgroup": "Con Mod",
         "line": {
          "color": "#8c564b"
         },
         "mode": "markers",
         "name": "Con Mod",
         "type": "scatter",
         "x": [
          1,
          2,
          3,
          4,
          5,
          6,
          7,
          8,
          9,
          10,
          11,
          12,
          13,
          14,
          15,
          16,
          17,
          18,
          19,
          20,
          21,
          22,
          23,
          24,
          25,
          26,
          27,
          28,
          30
         ],
         "y": [
          1.3596491228070176,
          1.6820809248554913,
          2.0425531914893615,
          2.22,
          2.62015503875969,
          2.9726027397260273,
          2.9285714285714284,
          3.230769230769231,
          3.489795918367347,
          3.875,
          4.380952380952381,
          3.5517241379310347,
          4.235294117647059,
          4.3076923076923075,
          4.285714285714286,
          5,
          5.1875,
          5,
          5.5,
          6.2727272727272725,
          6.133333333333334,
          5.75,
          6.636363636363637,
          7.285714285714286,
          8.444444444444445,
          8.5,
          10,
          8.142857142857142,
          9.75
         ]
        },
        {
         "hoverinfo": "skip",
         "legendgroup": "Con Mod",
         "line": {
          "color": "#8c564b"
         },
         "mode": "lines",
         "name": "Con Mod",
         "showlegend": false,
         "type": "scatter",
         "x": [
          1,
          2,
          3,
          4,
          5,
          6,
          7,
          8,
          9,
          10,
          11,
          12,
          13,
          14,
          15,
          16,
          17,
          18,
          19,
          20,
          21,
          22,
          23,
          24,
          25,
          26,
          27,
          28,
          30
         ],
         "y": [
          1.2136092217335621,
          1.4828741541916688,
          1.7521390866497755,
          2.0214040191078824,
          2.2906689515659893,
          2.5599338840240957,
          2.8291988164822026,
          3.0984637489403095,
          3.3677286813984164,
          3.6369936138565233,
          3.9062585463146298,
          4.175523478772737,
          4.444788411230844,
          4.71405334368895,
          4.983318276147057,
          5.252583208605164,
          5.521848141063271,
          5.791113073521378,
          6.0603780059794845,
          6.329642938437591,
          6.598907870895697,
          6.868172803353804,
          7.137437735811911,
          7.406702668270018,
          7.675967600728125,
          7.945232533186232,
          8.214497465644339,
          8.483762398102446,
          9.02229226301866
         ]
        },
        {
         "hovertemplate": "<b>Int Mod</b><br>CR %{x:,.0f}<br>Mean %{y:,.1f}<br><extra></extra>",
         "legendgroup": "Int Mod",
         "line": {
          "color": "#1f77b4"
         },
         "mode": "markers",
         "name": "Int Mod",
         "type": "scatter",
         "x": [
          1,
          2,
          3,
          4,
          5,
          6,
          7,
          8,
          9,
          10,
          11,
          12,
          13,
          14,
          15,
          16,
          17,
          18,
          19,
          20,
          21,
          22,
          23,
          24,
          25,
          26,
          27,
          28,
          30
         ],
         "y": [
          -1.1666666666666667,
          -0.8208092485549133,
          -0.574468085106383,
          0.21,
          -0.11627906976744186,
          0.1095890410958904,
          0.8,
          0.02564102564102564,
          1.0204081632653061,
          1.6,
          0.8333333333333334,
          1.3793103448275863,
          2.0588235294117645,
          1.4230769230769231,
          2.142857142857143,
          1.52,
          2.8125,
          3.2142857142857144,
          3.4,
          2.6363636363636362,
          4.6,
          4.4375,
          4.409090909090909,
          5.142857142857143,
          4,
          7.833333333333333,
          5,
          5.714285714285714,
          4
         ]
        },
        {
         "hoverinfo": "skip",
         "legendgroup": "Int Mod",
         "line": {
          "color": "#1f77b4"
         },
         "mode": "lines",
         "name": "Int Mod",
         "showlegend": false,
         "type": "scatter",
         "x": [
          1,
          2,
          3,
          4,
          5,
          6,
          7,
          8,
          9,
          10,
          11,
          12,
          13,
          14,
          15,
          16,
          17,
          18,
          19,
          20,
          21,
          22,
          23,
          24,
          25,
          26,
          27,
          28,
          30
         ],
         "y": [
          -1.0752823875573996,
          -0.8324612029805086,
          -0.5896400184036177,
          -0.34681883382672685,
          -0.10399764924983601,
          0.13882353532705505,
          0.3816447199039459,
          0.6244659044808367,
          0.8672870890577276,
          1.1101082736346184,
          1.3529294582115092,
          1.5957506427884005,
          1.8385718273652913,
          2.081393011942182,
          2.324214196519073,
          2.567035381095964,
          2.8098565656728547,
          3.0526777502497455,
          3.2954989348266364,
          3.538320119403527,
          3.781141303980418,
          4.023962488557309,
          4.266783673134199,
          4.509604857711091,
          4.752426042287983,
          4.995247226864873,
          5.238068411441764,
          5.480889596018654,
          5.966531965172436
         ]
        },
        {
         "hovertemplate": "<b>Wis Mod</b><br>CR %{x:,.0f}<br>Mean %{y:,.1f}<br><extra></extra>",
         "legendgroup": "Wis Mod",
         "line": {
          "color": "#2ca02c"
         },
         "mode": "markers",
         "name": "Wis Mod",
         "type": "scatter",
         "x": [
          1,
          2,
          3,
          4,
          5,
          6,
          7,
          8,
          9,
          10,
          11,
          12,
          13,
          14,
          15,
          16,
          17,
          18,
          19,
          20,
          21,
          22,
          23,
          24,
          25,
          26,
          27,
          28,
          30
         ],
         "y": [
          0.32456140350877194,
          0.4393063583815029,
          0.7304964539007093,
          0.88,
          1.1550387596899225,
          1.0684931506849316,
          1.1714285714285715,
          1.4871794871794872,
          1.530612244897959,
          1.95,
          1.880952380952381,
          2.2758620689655173,
          1.7058823529411764,
          2,
          2.238095238095238,
          2.76,
          2.6875,
          3.9285714285714284,
          3.9,
          2.5454545454545454,
          4.466666666666667,
          3.6875,
          4.590909090909091,
          5.142857142857143,
          3.7777777777777777,
          5.166666666666667,
          5,
          6,
          5.5
         ]
        },
        {
         "hoverinfo": "skip",
         "legendgroup": "Wis Mod",
         "line": {
          "color": "#2ca02c"
         },
         "mode": "lines",
         "name": "Wis Mod",
         "showlegend": false,
         "type": "scatter",
         "x": [
          1,
          2,
          3,
          4,
          5,
          6,
          7,
          8,
          9,
          10,
          11,
          12,
          13,
          14,
          15,
          16,
          17,
          18,
          19,
          20,
          21,
          22,
          23,
          24,
          25,
          26,
          27,
          28,
          30
         ],
         "y": [
          0.11443946640958892,
          0.3028253810622951,
          0.4912112957150013,
          0.6795972103677076,
          0.8679831250204139,
          1.0563690396731198,
          1.244754954325826,
          1.4331408689785323,
          1.6215267836312386,
          1.8099126982839449,
          1.9982986129366511,
          2.186684527589357,
          2.3750704422420634,
          2.5634563568947697,
          2.751842271547476,
          2.9402281862001822,
          3.1286141008528885,
          3.3170000155055948,
          3.505385930158301,
          3.6937718448110073,
          3.882157759463713,
          4.070543674116419,
          4.258929588769125,
          4.447315503421831,
          4.635701418074538,
          4.8240873327272435,
          5.01247324737995,
          5.200859162032656,
          5.577630991338069
         ]
        },
        {
         "hovertemplate": "<b>Cha Mod</b><br>CR %{x:,.0f}<br>Mean %{y:,.1f}<br><extra></extra>",
         "legendgroup": "Cha Mod",
         "line": {
          "color": "#ff7f0e"
         },
         "mode": "markers",
         "name": "Cha Mod",
         "type": "scatter",
         "x": [
          1,
          2,
          3,
          4,
          5,
          6,
          7,
          8,
          9,
          10,
          11,
          12,
          13,
          14,
          15,
          16,
          17,
          18,
          19,
          20,
          21,
          22,
          23,
          24,
          25,
          26,
          27,
          28,
          30
         ],
         "y": [
          -0.6052631578947368,
          -0.3352601156069364,
          -0.06382978723404255,
          0.48,
          0.24806201550387597,
          0.4383561643835616,
          1.0285714285714285,
          0.7948717948717948,
          1.2244897959183674,
          1.925,
          1.7380952380952381,
          2.586206896551724,
          2.3823529411764706,
          2.3846153846153846,
          3.1904761904761907,
          2.6,
          4,
          4.214285714285714,
          5.1,
          4.363636363636363,
          5.4,
          4.6875,
          5.136363636363637,
          5.5,
          3.7777777777777777,
          6.666666666666667,
          8,
          9.285714285714286,
          6.75
         ]
        },
        {
         "hoverinfo": "skip",
         "legendgroup": "Cha Mod",
         "line": {
          "color": "#ff7f0e"
         },
         "mode": "lines",
         "name": "Cha Mod",
         "showlegend": false,
         "type": "scatter",
         "x": [
          1,
          2,
          3,
          4,
          5,
          6,
          7,
          8,
          9,
          10,
          11,
          12,
          13,
          14,
          15,
          16,
          17,
          18,
          19,
          20,
          21,
          22,
          23,
          24,
          25,
          26,
          27,
          28,
          30
         ],
         "y": [
          -0.8618507729964688,
          -0.5721889507587038,
          -0.28252712852093875,
          0.007134693716826179,
          0.2967965159545911,
          0.5864583381923563,
          0.876120160430121,
          1.1657819826678861,
          1.4554438049056513,
          1.745105627143416,
          2.034767449381181,
          2.3244292716189463,
          2.614091093856711,
          2.9037529160944757,
          3.1934147383322413,
          3.483076560570006,
          3.7727383828077707,
          4.062400205045536,
          4.352062027283301,
          4.641723849521066,
          4.931385671758831,
          5.221047493996596,
          5.510709316234361,
          5.800371138472126,
          6.090032960709891,
          6.379694782947656,
          6.6693566051854205,
          6.959018427423185,
          7.538342071898716
         ]
        }
       ],
       "layout": {
        "legend": {
         "orientation": "v",
         "tracegroupgap": 0,
         "x": 0,
         "xanchor": "left",
         "y": 1,
         "yanchor": "top"
        },
        "margin": {
         "b": 55,
         "l": 70,
         "pad": 4,
         "r": 25,
         "t": 20
        },
        "template": {
         "layout": {
          "autosize": false,
          "font": {
           "family": "sans-serif",
           "size": 14
          },
          "hoverlabel": {
           "align": "left"
          },
          "hovermode": "closest",
          "margin": {
           "b": 40,
           "l": 50,
           "pad": 4,
           "r": 25,
           "t": 20
          },
          "template": {
           "data": {
            "bar": [
             {
              "error_x": {
               "color": "#2a3f5f"
              },
              "error_y": {
               "color": "#2a3f5f"
              },
              "marker": {
               "line": {
                "color": "white",
                "width": 0.5
               },
               "pattern": {
                "fillmode": "overlay",
                "size": 10,
                "solidity": 0.2
               }
              },
              "type": "bar"
             }
            ],
            "barpolar": [
             {
              "marker": {
               "line": {
                "color": "white",
                "width": 0.5
               },
               "pattern": {
                "fillmode": "overlay",
                "size": 10,
                "solidity": 0.2
               }
              },
              "type": "barpolar"
             }
            ],
            "carpet": [
             {
              "aaxis": {
               "endlinecolor": "#2a3f5f",
               "gridcolor": "#C8D4E3",
               "linecolor": "#C8D4E3",
               "minorgridcolor": "#C8D4E3",
               "startlinecolor": "#2a3f5f"
              },
              "baxis": {
               "endlinecolor": "#2a3f5f",
               "gridcolor": "#C8D4E3",
               "linecolor": "#C8D4E3",
               "minorgridcolor": "#C8D4E3",
               "startlinecolor": "#2a3f5f"
              },
              "type": "carpet"
             }
            ],
            "choropleth": [
             {
              "colorbar": {
               "outlinewidth": 0,
               "ticks": ""
              },
              "type": "choropleth"
             }
            ],
            "contour": [
             {
              "colorbar": {
               "outlinewidth": 0,
               "ticks": ""
              },
              "colorscale": [
               [
                0,
                "#0d0887"
               ],
               [
                0.1111111111111111,
                "#46039f"
               ],
               [
                0.2222222222222222,
                "#7201a8"
               ],
               [
                0.3333333333333333,
                "#9c179e"
               ],
               [
                0.4444444444444444,
                "#bd3786"
               ],
               [
                0.5555555555555556,
                "#d8576b"
               ],
               [
                0.6666666666666666,
                "#ed7953"
               ],
               [
                0.7777777777777778,
                "#fb9f3a"
               ],
               [
                0.8888888888888888,
                "#fdca26"
               ],
               [
                1,
                "#f0f921"
               ]
              ],
              "type": "contour"
             }
            ],
            "contourcarpet": [
             {
              "colorbar": {
               "outlinewidth": 0,
               "ticks": ""
              },
              "type": "contourcarpet"
             }
            ],
            "heatmap": [
             {
              "colorbar": {
               "outlinewidth": 0,
               "ticks": ""
              },
              "colorscale": [
               [
                0,
                "#0d0887"
               ],
               [
                0.1111111111111111,
                "#46039f"
               ],
               [
                0.2222222222222222,
                "#7201a8"
               ],
               [
                0.3333333333333333,
                "#9c179e"
               ],
               [
                0.4444444444444444,
                "#bd3786"
               ],
               [
                0.5555555555555556,
                "#d8576b"
               ],
               [
                0.6666666666666666,
                "#ed7953"
               ],
               [
                0.7777777777777778,
                "#fb9f3a"
               ],
               [
                0.8888888888888888,
                "#fdca26"
               ],
               [
                1,
                "#f0f921"
               ]
              ],
              "type": "heatmap"
             }
            ],
            "heatmapgl": [
             {
              "colorbar": {
               "outlinewidth": 0,
               "ticks": ""
              },
              "colorscale": [
               [
                0,
                "#0d0887"
               ],
               [
                0.1111111111111111,
                "#46039f"
               ],
               [
                0.2222222222222222,
                "#7201a8"
               ],
               [
                0.3333333333333333,
                "#9c179e"
               ],
               [
                0.4444444444444444,
                "#bd3786"
               ],
               [
                0.5555555555555556,
                "#d8576b"
               ],
               [
                0.6666666666666666,
                "#ed7953"
               ],
               [
                0.7777777777777778,
                "#fb9f3a"
               ],
               [
                0.8888888888888888,
                "#fdca26"
               ],
               [
                1,
                "#f0f921"
               ]
              ],
              "type": "heatmapgl"
             }
            ],
            "histogram": [
             {
              "marker": {
               "pattern": {
                "fillmode": "overlay",
                "size": 10,
                "solidity": 0.2
               }
              },
              "type": "histogram"
             }
            ],
            "histogram2d": [
             {
              "colorbar": {
               "outlinewidth": 0,
               "ticks": ""
              },
              "colorscale": [
               [
                0,
                "#0d0887"
               ],
               [
                0.1111111111111111,
                "#46039f"
               ],
               [
                0.2222222222222222,
                "#7201a8"
               ],
               [
                0.3333333333333333,
                "#9c179e"
               ],
               [
                0.4444444444444444,
                "#bd3786"
               ],
               [
                0.5555555555555556,
                "#d8576b"
               ],
               [
                0.6666666666666666,
                "#ed7953"
               ],
               [
                0.7777777777777778,
                "#fb9f3a"
               ],
               [
                0.8888888888888888,
                "#fdca26"
               ],
               [
                1,
                "#f0f921"
               ]
              ],
              "type": "histogram2d"
             }
            ],
            "histogram2dcontour": [
             {
              "colorbar": {
               "outlinewidth": 0,
               "ticks": ""
              },
              "colorscale": [
               [
                0,
                "#0d0887"
               ],
               [
                0.1111111111111111,
                "#46039f"
               ],
               [
                0.2222222222222222,
                "#7201a8"
               ],
               [
                0.3333333333333333,
                "#9c179e"
               ],
               [
                0.4444444444444444,
                "#bd3786"
               ],
               [
                0.5555555555555556,
                "#d8576b"
               ],
               [
                0.6666666666666666,
                "#ed7953"
               ],
               [
                0.7777777777777778,
                "#fb9f3a"
               ],
               [
                0.8888888888888888,
                "#fdca26"
               ],
               [
                1,
                "#f0f921"
               ]
              ],
              "type": "histogram2dcontour"
             }
            ],
            "mesh3d": [
             {
              "colorbar": {
               "outlinewidth": 0,
               "ticks": ""
              },
              "type": "mesh3d"
             }
            ],
            "parcoords": [
             {
              "line": {
               "colorbar": {
                "outlinewidth": 0,
                "ticks": ""
               }
              },
              "type": "parcoords"
             }
            ],
            "pie": [
             {
              "automargin": true,
              "type": "pie"
             }
            ],
            "scatter": [
             {
              "fillpattern": {
               "fillmode": "overlay",
               "size": 10,
               "solidity": 0.2
              },
              "type": "scatter"
             }
            ],
            "scatter3d": [
             {
              "line": {
               "colorbar": {
                "outlinewidth": 0,
                "ticks": ""
               }
              },
              "marker": {
               "colorbar": {
                "outlinewidth": 0,
                "ticks": ""
               }
              },
              "type": "scatter3d"
             }
            ],
            "scattercarpet": [
             {
              "marker": {
               "colorbar": {
                "outlinewidth": 0,
                "ticks": ""
               }
              },
              "type": "scattercarpet"
             }
            ],
            "scattergeo": [
             {
              "marker": {
               "colorbar": {
                "outlinewidth": 0,
                "ticks": ""
               }
              },
              "type": "scattergeo"
             }
            ],
            "scattergl": [
             {
              "marker": {
               "colorbar": {
                "outlinewidth": 0,
                "ticks": ""
               }
              },
              "type": "scattergl"
             }
            ],
            "scattermapbox": [
             {
              "marker": {
               "colorbar": {
                "outlinewidth": 0,
                "ticks": ""
               }
              },
              "type": "scattermapbox"
             }
            ],
            "scatterpolar": [
             {
              "marker": {
               "colorbar": {
                "outlinewidth": 0,
                "ticks": ""
               }
              },
              "type": "scatterpolar"
             }
            ],
            "scatterpolargl": [
             {
              "marker": {
               "colorbar": {
                "outlinewidth": 0,
                "ticks": ""
               }
              },
              "type": "scatterpolargl"
             }
            ],
            "scatterternary": [
             {
              "marker": {
               "colorbar": {
                "outlinewidth": 0,
                "ticks": ""
               }
              },
              "type": "scatterternary"
             }
            ],
            "surface": [
             {
              "colorbar": {
               "outlinewidth": 0,
               "ticks": ""
              },
              "colorscale": [
               [
                0,
                "#0d0887"
               ],
               [
                0.1111111111111111,
                "#46039f"
               ],
               [
                0.2222222222222222,
                "#7201a8"
               ],
               [
                0.3333333333333333,
                "#9c179e"
               ],
               [
                0.4444444444444444,
                "#bd3786"
               ],
               [
                0.5555555555555556,
                "#d8576b"
               ],
               [
                0.6666666666666666,
                "#ed7953"
               ],
               [
                0.7777777777777778,
                "#fb9f3a"
               ],
               [
                0.8888888888888888,
                "#fdca26"
               ],
               [
                1,
                "#f0f921"
               ]
              ],
              "type": "surface"
             }
            ],
            "table": [
             {
              "cells": {
               "fill": {
                "color": "#EBF0F8"
               },
               "line": {
                "color": "white"
               }
              },
              "header": {
               "fill": {
                "color": "#C8D4E3"
               },
               "line": {
                "color": "white"
               }
              },
              "type": "table"
             }
            ]
           },
           "layout": {
            "annotationdefaults": {
             "arrowcolor": "#2a3f5f",
             "arrowhead": 0,
             "arrowwidth": 1
            },
            "autotypenumbers": "strict",
            "coloraxis": {
             "colorbar": {
              "outlinewidth": 0,
              "ticks": ""
             }
            },
            "colorscale": {
             "diverging": [
              [
               0,
               "#8e0152"
              ],
              [
               0.1,
               "#c51b7d"
              ],
              [
               0.2,
               "#de77ae"
              ],
              [
               0.3,
               "#f1b6da"
              ],
              [
               0.4,
               "#fde0ef"
              ],
              [
               0.5,
               "#f7f7f7"
              ],
              [
               0.6,
               "#e6f5d0"
              ],
              [
               0.7,
               "#b8e186"
              ],
              [
               0.8,
               "#7fbc41"
              ],
              [
               0.9,
               "#4d9221"
              ],
              [
               1,
               "#276419"
              ]
             ],
             "sequential": [
              [
               0,
               "#0d0887"
              ],
              [
               0.1111111111111111,
               "#46039f"
              ],
              [
               0.2222222222222222,
               "#7201a8"
              ],
              [
               0.3333333333333333,
               "#9c179e"
              ],
              [
               0.4444444444444444,
               "#bd3786"
              ],
              [
               0.5555555555555556,
               "#d8576b"
              ],
              [
               0.6666666666666666,
               "#ed7953"
              ],
              [
               0.7777777777777778,
               "#fb9f3a"
              ],
              [
               0.8888888888888888,
               "#fdca26"
              ],
              [
               1,
               "#f0f921"
              ]
             ],
             "sequentialminus": [
              [
               0,
               "#0d0887"
              ],
              [
               0.1111111111111111,
               "#46039f"
              ],
              [
               0.2222222222222222,
               "#7201a8"
              ],
              [
               0.3333333333333333,
               "#9c179e"
              ],
              [
               0.4444444444444444,
               "#bd3786"
              ],
              [
               0.5555555555555556,
               "#d8576b"
              ],
              [
               0.6666666666666666,
               "#ed7953"
              ],
              [
               0.7777777777777778,
               "#fb9f3a"
              ],
              [
               0.8888888888888888,
               "#fdca26"
              ],
              [
               1,
               "#f0f921"
              ]
             ]
            },
            "colorway": [
             "#636efa",
             "#EF553B",
             "#00cc96",
             "#ab63fa",
             "#FFA15A",
             "#19d3f3",
             "#FF6692",
             "#B6E880",
             "#FF97FF",
             "#FECB52"
            ],
            "font": {
             "color": "#2a3f5f"
            },
            "geo": {
             "bgcolor": "white",
             "lakecolor": "white",
             "landcolor": "white",
             "showlakes": true,
             "showland": true,
             "subunitcolor": "#C8D4E3"
            },
            "hoverlabel": {
             "align": "left"
            },
            "hovermode": "closest",
            "mapbox": {
             "style": "light"
            },
            "paper_bgcolor": "white",
            "plot_bgcolor": "white",
            "polar": {
             "angularaxis": {
              "gridcolor": "#EBF0F8",
              "linecolor": "#EBF0F8",
              "ticks": ""
             },
             "bgcolor": "white",
             "radialaxis": {
              "gridcolor": "#EBF0F8",
              "linecolor": "#EBF0F8",
              "ticks": ""
             }
            },
            "scene": {
             "xaxis": {
              "backgroundcolor": "white",
              "gridcolor": "#DFE8F3",
              "gridwidth": 2,
              "linecolor": "#EBF0F8",
              "showbackground": true,
              "ticks": "",
              "zerolinecolor": "#EBF0F8"
             },
             "yaxis": {
              "backgroundcolor": "white",
              "gridcolor": "#DFE8F3",
              "gridwidth": 2,
              "linecolor": "#EBF0F8",
              "showbackground": true,
              "ticks": "",
              "zerolinecolor": "#EBF0F8"
             },
             "zaxis": {
              "backgroundcolor": "white",
              "gridcolor": "#DFE8F3",
              "gridwidth": 2,
              "linecolor": "#EBF0F8",
              "showbackground": true,
              "ticks": "",
              "zerolinecolor": "#EBF0F8"
             }
            },
            "shapedefaults": {
             "line": {
              "color": "#2a3f5f"
             }
            },
            "ternary": {
             "aaxis": {
              "gridcolor": "#DFE8F3",
              "linecolor": "#A2B1C6",
              "ticks": ""
             },
             "baxis": {
              "gridcolor": "#DFE8F3",
              "linecolor": "#A2B1C6",
              "ticks": ""
             },
             "bgcolor": "white",
             "caxis": {
              "gridcolor": "#DFE8F3",
              "linecolor": "#A2B1C6",
              "ticks": ""
             }
            },
            "title": {
             "x": 0.05
            },
            "xaxis": {
             "automargin": true,
             "gridcolor": "#EBF0F8",
             "linecolor": "#EBF0F8",
             "ticks": "",
             "title": {
              "standoff": 15
             },
             "zerolinecolor": "#EBF0F8",
             "zerolinewidth": 2
            },
            "yaxis": {
             "automargin": true,
             "gridcolor": "#EBF0F8",
             "linecolor": "#EBF0F8",
             "ticks": "",
             "title": {
              "standoff": 15
             },
             "zerolinecolor": "#EBF0F8",
             "zerolinewidth": 2
            }
           }
          },
          "xaxis": {
           "automargin": false,
           "linecolor": "#444",
           "linewidth": 2,
           "minor": {
            "tickmode": "linear",
            "ticks": "outside"
           },
           "mirror": true,
           "showline": true,
           "tickmode": "linear",
           "ticks": "outside",
           "zeroline": false
          },
          "yaxis": {
           "automargin": false,
           "linecolor": "#444",
           "linewidth": 2,
           "minor": {
            "ticks": "outside"
           },
           "mirror": true,
           "showline": true,
           "ticks": "outside",
           "zeroline": false
          }
         }
        },
        "xaxis": {
         "dtick": 5,
         "minor": {
          "dtick": 1,
          "tick0": 0
         },
         "range": [
          0,
          31
         ],
         "tick0": 0,
         "title": {
          "text": "CR"
         }
        },
        "yaxis": {
         "dtick": 2,
         "minor": {
          "dtick": 1,
          "tick0": 0
         },
         "range": [
          -2,
          11
         ],
         "tick0": 0,
         "title": {
          "text": "ability score modifier"
         }
        }
       }
      }
     },
     "metadata": {},
     "output_type": "display_data"
    }
   ],
   "source": [
    "# Ability score modifier\n",
    "columns = ['Str Mod','Dex Mod','Con Mod','Int Mod','Wis Mod','Cha Mod']\n",
    "colors = ['#d62728','#9467bd','#8c564b','#1f77b4','#2ca02c','#ff7f0e']\n",
    "\n",
    "df1 = df0[df0['Category'].isin(['generic','legendary','unique']) & df0['CR'].between(1, 30)]\n",
    "\n",
    "# create figure\n",
    "fig = go.Figure(\n",
    "    layout=go.Layout(\n",
    "        template=TFB_TEMPLATE,\n",
    "        margin=dict(l=70, r=25, b=55, t=20, pad=4),\n",
    "        xaxis=dict(\n",
    "            title_text='CR',\n",
    "            range=[0,31],\n",
    "            tick0=0, dtick=5,\n",
    "            minor=dict(tick0=0, dtick=1),\n",
    "        ),\n",
    "        yaxis=dict(\n",
    "            title_text='ability score modifier',\n",
    "            range=[-2,11],\n",
    "            tick0=0, dtick=2,\n",
    "            minor=dict(tick0=0, dtick=1),\n",
    "        ),\n",
    "        legend=dict(\n",
    "            xanchor='left', yanchor='top',\n",
    "            x=0.00, y=1.00,\n",
    "            orientation='v',\n",
    "            tracegroupgap=0,\n",
    "        )\n",
    "    )\n",
    ")\n",
    "\n",
    "for column, color in zip(columns, colors):\n",
    "    plot_mean_fit(fig, df1, 'CR', column, column, color)\n",
    "\n",
    "# show figure\n",
    "fig.show(config=TFB_CONFIG, width=600, height=450)\n",
    "fig.update_layout(autosize=True)\n",
    "\n",
    "# save figures\n",
    "if SAVEFIGS:\n",
    "    save_fig_html(fig, format='large', name='fig-ability-score-modifier-vs-cr-large')\n",
    "    save_fig_html(fig, format='small', name='fig-ability-score-modifier-vs-cr-small')"
   ]
  },
  {
   "cell_type": "code",
   "execution_count": 11,
   "metadata": {},
   "outputs": [
    {
     "data": {
      "application/vnd.plotly.v1+json": {
       "config": {
        "displayModeBar": "hover",
        "displaylogo": false,
        "modeBarButtonsToRemove": [
         "select2d",
         "lasso2d",
         "zoom2d",
         "zoomIn2d",
         "zoomOut2d",
         "pan2d",
         "autoScale2d",
         "hoverClosestCartesian",
         "hoverCompareCartesian",
         "toggleSpikelines",
         "resetScale2d"
        ],
        "plotlyServerURL": "https://plot.ly",
        "responsive": true,
        "showAxisDragHandles": false,
        "toImageButtonOptions": {
         "filename": "tfb-plot",
         "format": "png",
         "height": 450,
         "scale": 2,
         "width": 600
        }
       },
       "data": [
        {
         "hovertemplate": "<b>Str Prof</b><br>CR %{x:,.0f}<br>Mean %{y:,.1f}<br><extra></extra>",
         "legendgroup": "Str Prof",
         "line": {
          "color": "#d62728"
         },
         "mode": "markers",
         "name": "Str Prof",
         "type": "scatter",
         "x": [
          1,
          2,
          3,
          4,
          5,
          6,
          7,
          8,
          9,
          10,
          11,
          12,
          13,
          14,
          15,
          16,
          17,
          18,
          19,
          20,
          21,
          22,
          23,
          24,
          25,
          26,
          27,
          28,
          30
         ],
         "y": [
          0,
          0.028901734104046242,
          0.07092198581560284,
          0.06,
          0.08527131782945736,
          0.1095890410958904,
          0.05714285714285714,
          0.10256410256410256,
          0.12244897959183673,
          0.075,
          0.16666666666666666,
          0.2413793103448276,
          0.17647058823529413,
          0.15384615384615385,
          0.14285714285714285,
          0.32,
          0.125,
          0.21428571428571427,
          0.2,
          0.09090909090909091,
          0.06666666666666667,
          0,
          0.13636363636363635,
          0.07142857142857142,
          0.1111111111111111,
          0,
          0,
          0.14285714285714285,
          0.25
         ]
        },
        {
         "hoverinfo": "skip",
         "legendgroup": "Str Prof",
         "line": {
          "color": "#d62728"
         },
         "mode": "lines",
         "name": "Str Prof",
         "showlegend": false,
         "type": "scatter",
         "x": [
          1,
          2,
          3,
          4,
          5,
          6,
          7,
          8,
          9,
          10,
          11,
          12,
          13,
          14,
          15,
          16,
          17,
          18,
          19,
          20,
          21,
          22,
          23,
          24,
          25,
          26,
          27,
          28,
          30
         ],
         "y": [
          0.09206950074300234,
          0.09367064642400662,
          0.09527179210501091,
          0.09687293778601519,
          0.09847408346701948,
          0.10007522914802378,
          0.10167637482902805,
          0.10327752051003235,
          0.10487866619103664,
          0.10647981187204092,
          0.10808095755304521,
          0.10968210323404949,
          0.11128324891505378,
          0.11288439459605806,
          0.11448554027706236,
          0.11608668595806665,
          0.11768783163907093,
          0.11928897732007522,
          0.12089012300107951,
          0.12249126868208379,
          0.12409241436308809,
          0.12569356004409238,
          0.12729470572509666,
          0.12889585140610094,
          0.13049699708710522,
          0.13209814276810952,
          0.1336992884491138,
          0.1353004341301181,
          0.13850272549212667
         ]
        },
        {
         "hovertemplate": "<b>Dex Prof</b><br>CR %{x:,.0f}<br>Mean %{y:,.1f}<br><extra></extra>",
         "legendgroup": "Dex Prof",
         "line": {
          "color": "#9467bd"
         },
         "mode": "markers",
         "name": "Dex Prof",
         "type": "scatter",
         "x": [
          1,
          2,
          3,
          4,
          5,
          6,
          7,
          8,
          9,
          10,
          11,
          12,
          13,
          14,
          15,
          16,
          17,
          18,
          19,
          20,
          21,
          22,
          23,
          24,
          25,
          26,
          27,
          28,
          30
         ],
         "y": [
          0.08771929824561403,
          0.16184971098265896,
          0.1347517730496454,
          0.15,
          0.20930232558139536,
          0.1506849315068493,
          0.24285714285714285,
          0.20512820512820512,
          0.1836734693877551,
          0.3,
          0.3333333333333333,
          0.27586206896551724,
          0.35294117647058826,
          0.34615384615384615,
          0.42857142857142855,
          0.4,
          0.625,
          0.35714285714285715,
          0.5,
          0.45454545454545453,
          0.6,
          0.4375,
          0.6818181818181818,
          0.8571428571428571,
          0.7777777777777778,
          0.75,
          1,
          0.7142857142857143,
          0.5
         ]
        },
        {
         "hoverinfo": "skip",
         "legendgroup": "Dex Prof",
         "line": {
          "color": "#9467bd"
         },
         "mode": "lines",
         "name": "Dex Prof",
         "showlegend": false,
         "type": "scatter",
         "x": [
          1,
          2,
          3,
          4,
          5,
          6,
          7,
          8,
          9,
          10,
          11,
          12,
          13,
          14,
          15,
          16,
          17,
          18,
          19,
          20,
          21,
          22,
          23,
          24,
          25,
          26,
          27,
          28,
          30
         ],
         "y": [
          0.06703166601654857,
          0.09227521205700781,
          0.11751875809746704,
          0.1427623041379263,
          0.1680058501783855,
          0.19324939621884474,
          0.218492942259304,
          0.24373648829976322,
          0.26898003434022244,
          0.2942235803806817,
          0.31946712642114095,
          0.34471067246160014,
          0.3699542185020594,
          0.39519776454251865,
          0.42044131058297785,
          0.4456848566234371,
          0.47092840266389635,
          0.49617194870435555,
          0.5214154947448149,
          0.546659040785274,
          0.5719025868257333,
          0.5971461328661926,
          0.6223896789066518,
          0.647633224947111,
          0.6728767709875703,
          0.6981203170280295,
          0.7233638630684887,
          0.748607409108948,
          0.7990945011898664
         ]
        },
        {
         "hovertemplate": "<b>Con Prof</b><br>CR %{x:,.0f}<br>Mean %{y:,.1f}<br><extra></extra>",
         "legendgroup": "Con Prof",
         "line": {
          "color": "#8c564b"
         },
         "mode": "markers",
         "name": "Con Prof",
         "type": "scatter",
         "x": [
          1,
          2,
          3,
          4,
          5,
          6,
          7,
          8,
          9,
          10,
          11,
          12,
          13,
          14,
          15,
          16,
          17,
          18,
          19,
          20,
          21,
          22,
          23,
          24,
          25,
          26,
          27,
          28,
          30
         ],
         "y": [
          0.05263157894736842,
          0.08092485549132948,
          0.10638297872340426,
          0.19,
          0.20930232558139536,
          0.2054794520547945,
          0.34285714285714286,
          0.358974358974359,
          0.5102040816326531,
          0.45,
          0.38095238095238093,
          0.5517241379310345,
          0.6176470588235294,
          0.6923076923076923,
          0.5714285714285714,
          0.52,
          0.625,
          0.7857142857142857,
          0.6,
          0.8181818181818182,
          0.8,
          0.75,
          0.8181818181818182,
          0.9285714285714286,
          0.7777777777777778,
          0.8333333333333334,
          1,
          1,
          0.5
         ]
        },
        {
         "hoverinfo": "skip",
         "legendgroup": "Con Prof",
         "line": {
          "color": "#8c564b"
         },
         "mode": "lines",
         "name": "Con Prof",
         "showlegend": false,
         "type": "scatter",
         "x": [
          1,
          2,
          3,
          4,
          5,
          6,
          7,
          8,
          9,
          10,
          11,
          12,
          13,
          14,
          15,
          16,
          17,
          18,
          19,
          20,
          21,
          22,
          23,
          24,
          25,
          26,
          27,
          28,
          30
         ],
         "y": [
          0.14753956085701742,
          0.17652956039660614,
          0.20551955993619486,
          0.23450955947578356,
          0.2634995590153723,
          0.292489558554961,
          0.3214795580945497,
          0.35046955763413845,
          0.37945955717372715,
          0.4084495567133159,
          0.4374395562529046,
          0.4664295557924933,
          0.49541955533208204,
          0.5244095548716707,
          0.5533995544112594,
          0.5823895539508481,
          0.6113795534904368,
          0.6403695530300255,
          0.6693595525696143,
          0.698349552109203,
          0.7273395516487917,
          0.7563295511883804,
          0.7853195507279691,
          0.8143095502675578,
          0.8432995498071466,
          0.8722895493467353,
          0.901279548886324,
          0.9302695484259127,
          0.9882495475050902
         ]
        },
        {
         "hovertemplate": "<b>Int Prof</b><br>CR %{x:,.0f}<br>Mean %{y:,.1f}<br><extra></extra>",
         "legendgroup": "Int Prof",
         "line": {
          "color": "#1f77b4"
         },
         "mode": "markers",
         "name": "Int Prof",
         "type": "scatter",
         "x": [
          1,
          2,
          3,
          4,
          5,
          6,
          7,
          8,
          9,
          10,
          11,
          12,
          13,
          14,
          15,
          16,
          17,
          18,
          19,
          20,
          21,
          22,
          23,
          24,
          25,
          26,
          27,
          28,
          30
         ],
         "y": [
          0.02631578947368421,
          0.06358381502890173,
          0.07092198581560284,
          0.09,
          0.17829457364341086,
          0.2328767123287671,
          0.2571428571428571,
          0.24358974358974358,
          0.1836734693877551,
          0.25,
          0.14285714285714285,
          0.20689655172413793,
          0.38235294117647056,
          0.2692307692307692,
          0.23809523809523808,
          0.2,
          0.375,
          0.42857142857142855,
          0.3,
          0.18181818181818182,
          0.4,
          0.4375,
          0.3181818181818182,
          0.14285714285714285,
          0.3333333333333333,
          0.25,
          0,
          0.8571428571428571,
          0.5
         ]
        },
        {
         "hoverinfo": "skip",
         "legendgroup": "Int Prof",
         "line": {
          "color": "#1f77b4"
         },
         "mode": "lines",
         "name": "Int Prof",
         "showlegend": false,
         "type": "scatter",
         "x": [
          1,
          2,
          3,
          4,
          5,
          6,
          7,
          8,
          9,
          10,
          11,
          12,
          13,
          14,
          15,
          16,
          17,
          18,
          19,
          20,
          21,
          22,
          23,
          24,
          25,
          26,
          27,
          28,
          30
         ],
         "y": [
          0.10495477137048069,
          0.11605194085857726,
          0.1271491103466738,
          0.1382462798347704,
          0.14934344932286697,
          0.16044061881096353,
          0.17153778829906008,
          0.18263495778715666,
          0.19373212727525324,
          0.2048292967633498,
          0.21592646625144635,
          0.22702363573954293,
          0.2381208052276395,
          0.24921797471573606,
          0.2603151442038326,
          0.2714123136919292,
          0.2825094831800258,
          0.29360665266812236,
          0.3047038221562189,
          0.31580099164431547,
          0.32689816113241205,
          0.33799533062050857,
          0.34909250010860515,
          0.36018966959670173,
          0.3712868390847983,
          0.3823840085728949,
          0.3934811780609914,
          0.404578347549088,
          0.4267726865252811
         ]
        },
        {
         "hovertemplate": "<b>Wis Prof</b><br>CR %{x:,.0f}<br>Mean %{y:,.1f}<br><extra></extra>",
         "legendgroup": "Wis Prof",
         "line": {
          "color": "#2ca02c"
         },
         "mode": "markers",
         "name": "Wis Prof",
         "type": "scatter",
         "x": [
          1,
          2,
          3,
          4,
          5,
          6,
          7,
          8,
          9,
          10,
          11,
          12,
          13,
          14,
          15,
          16,
          17,
          18,
          19,
          20,
          21,
          22,
          23,
          24,
          25,
          26,
          27,
          28,
          30
         ],
         "y": [
          0.09649122807017543,
          0.20809248554913296,
          0.1702127659574468,
          0.34,
          0.35658914728682173,
          0.4520547945205479,
          0.5571428571428572,
          0.5128205128205128,
          0.5510204081632653,
          0.675,
          0.6190476190476191,
          0.7241379310344828,
          0.7058823529411765,
          0.8076923076923077,
          0.7619047619047619,
          0.8,
          0.9375,
          0.7857142857142857,
          0.7,
          0.9090909090909091,
          1,
          0.9375,
          0.9090909090909091,
          1,
          1,
          1,
          1,
          1,
          1
         ]
        },
        {
         "hoverinfo": "skip",
         "legendgroup": "Wis Prof",
         "line": {
          "color": "#2ca02c"
         },
         "mode": "lines",
         "name": "Wis Prof",
         "showlegend": false,
         "type": "scatter",
         "x": [
          1,
          2,
          3,
          4,
          5,
          6,
          7,
          8,
          9,
          10,
          11,
          12,
          13,
          14,
          15,
          16,
          17,
          18,
          19,
          20,
          21,
          22,
          23,
          24,
          25,
          26,
          27,
          28,
          30
         ],
         "y": [
          0.28189933757157726,
          0.3122234272188782,
          0.34254751686617907,
          0.37287160651347995,
          0.4031956961607809,
          0.43351978580808176,
          0.46384387545538264,
          0.49416796510268357,
          0.5244920547499845,
          0.5548161443972853,
          0.5851402340445861,
          0.6154643236918871,
          0.645788413339188,
          0.676112502986489,
          0.7064365926337899,
          0.7367606822810907,
          0.7670847719283915,
          0.7974088615756925,
          0.8277329512229934,
          0.8580570408702943,
          0.8883811305175953,
          0.918705220164896,
          0.9490293098121969,
          0.9793533994594978,
          1.0096774891067988,
          1.0400015787540997,
          1.0703256684014006,
          1.1006497580487014,
          1.1612979373433032
         ]
        },
        {
         "hovertemplate": "<b>Cha Prof</b><br>CR %{x:,.0f}<br>Mean %{y:,.1f}<br><extra></extra>",
         "legendgroup": "Cha Prof",
         "line": {
          "color": "#ff7f0e"
         },
         "mode": "markers",
         "name": "Cha Prof",
         "type": "scatter",
         "x": [
          1,
          2,
          3,
          4,
          5,
          6,
          7,
          8,
          9,
          10,
          11,
          12,
          13,
          14,
          15,
          16,
          17,
          18,
          19,
          20,
          21,
          22,
          23,
          24,
          25,
          26,
          27,
          28,
          30
         ],
         "y": [
          0.043859649122807015,
          0.12716763005780346,
          0.07092198581560284,
          0.16,
          0.17054263565891473,
          0.273972602739726,
          0.35714285714285715,
          0.2948717948717949,
          0.2857142857142857,
          0.275,
          0.38095238095238093,
          0.3103448275862069,
          0.5882352941176471,
          0.5,
          0.6190476190476191,
          0.64,
          0.625,
          0.7142857142857143,
          0.8,
          0.7272727272727273,
          0.6,
          0.75,
          0.45454545454545453,
          0.5,
          0.4444444444444444,
          0.6666666666666666,
          1,
          1,
          0.75
         ]
        },
        {
         "hoverinfo": "skip",
         "legendgroup": "Cha Prof",
         "line": {
          "color": "#ff7f0e"
         },
         "mode": "lines",
         "name": "Cha Prof",
         "showlegend": false,
         "type": "scatter",
         "x": [
          1,
          2,
          3,
          4,
          5,
          6,
          7,
          8,
          9,
          10,
          11,
          12,
          13,
          14,
          15,
          16,
          17,
          18,
          19,
          20,
          21,
          22,
          23,
          24,
          25,
          26,
          27,
          28,
          30
         ],
         "y": [
          0.11776584267751761,
          0.1440920813320499,
          0.1704183199865822,
          0.19674455864111448,
          0.22307079729564677,
          0.24939703595017906,
          0.27572327460471135,
          0.3020495132592437,
          0.32837575191377594,
          0.3547019905683082,
          0.3810282292228405,
          0.40735446787737284,
          0.43368070653190516,
          0.46000694518643737,
          0.4863331838409697,
          0.512659422495502,
          0.5389856611500343,
          0.5653118998045665,
          0.5916381384590989,
          0.6179643771136312,
          0.6442906157681635,
          0.6706168544226957,
          0.696943093077228,
          0.7232693317317603,
          0.7495955703862927,
          0.775921809040825,
          0.8022480476953572,
          0.8285742863498895,
          0.881226763658954
         ]
        }
       ],
       "layout": {
        "legend": {
         "orientation": "v",
         "tracegroupgap": 0,
         "x": 0,
         "xanchor": "left",
         "y": 1,
         "yanchor": "top"
        },
        "margin": {
         "b": 55,
         "l": 70,
         "pad": 4,
         "r": 25,
         "t": 20
        },
        "template": {
         "layout": {
          "autosize": false,
          "font": {
           "family": "sans-serif",
           "size": 14
          },
          "hoverlabel": {
           "align": "left"
          },
          "hovermode": "closest",
          "margin": {
           "b": 40,
           "l": 50,
           "pad": 4,
           "r": 25,
           "t": 20
          },
          "template": {
           "data": {
            "bar": [
             {
              "error_x": {
               "color": "#2a3f5f"
              },
              "error_y": {
               "color": "#2a3f5f"
              },
              "marker": {
               "line": {
                "color": "white",
                "width": 0.5
               },
               "pattern": {
                "fillmode": "overlay",
                "size": 10,
                "solidity": 0.2
               }
              },
              "type": "bar"
             }
            ],
            "barpolar": [
             {
              "marker": {
               "line": {
                "color": "white",
                "width": 0.5
               },
               "pattern": {
                "fillmode": "overlay",
                "size": 10,
                "solidity": 0.2
               }
              },
              "type": "barpolar"
             }
            ],
            "carpet": [
             {
              "aaxis": {
               "endlinecolor": "#2a3f5f",
               "gridcolor": "#C8D4E3",
               "linecolor": "#C8D4E3",
               "minorgridcolor": "#C8D4E3",
               "startlinecolor": "#2a3f5f"
              },
              "baxis": {
               "endlinecolor": "#2a3f5f",
               "gridcolor": "#C8D4E3",
               "linecolor": "#C8D4E3",
               "minorgridcolor": "#C8D4E3",
               "startlinecolor": "#2a3f5f"
              },
              "type": "carpet"
             }
            ],
            "choropleth": [
             {
              "colorbar": {
               "outlinewidth": 0,
               "ticks": ""
              },
              "type": "choropleth"
             }
            ],
            "contour": [
             {
              "colorbar": {
               "outlinewidth": 0,
               "ticks": ""
              },
              "colorscale": [
               [
                0,
                "#0d0887"
               ],
               [
                0.1111111111111111,
                "#46039f"
               ],
               [
                0.2222222222222222,
                "#7201a8"
               ],
               [
                0.3333333333333333,
                "#9c179e"
               ],
               [
                0.4444444444444444,
                "#bd3786"
               ],
               [
                0.5555555555555556,
                "#d8576b"
               ],
               [
                0.6666666666666666,
                "#ed7953"
               ],
               [
                0.7777777777777778,
                "#fb9f3a"
               ],
               [
                0.8888888888888888,
                "#fdca26"
               ],
               [
                1,
                "#f0f921"
               ]
              ],
              "type": "contour"
             }
            ],
            "contourcarpet": [
             {
              "colorbar": {
               "outlinewidth": 0,
               "ticks": ""
              },
              "type": "contourcarpet"
             }
            ],
            "heatmap": [
             {
              "colorbar": {
               "outlinewidth": 0,
               "ticks": ""
              },
              "colorscale": [
               [
                0,
                "#0d0887"
               ],
               [
                0.1111111111111111,
                "#46039f"
               ],
               [
                0.2222222222222222,
                "#7201a8"
               ],
               [
                0.3333333333333333,
                "#9c179e"
               ],
               [
                0.4444444444444444,
                "#bd3786"
               ],
               [
                0.5555555555555556,
                "#d8576b"
               ],
               [
                0.6666666666666666,
                "#ed7953"
               ],
               [
                0.7777777777777778,
                "#fb9f3a"
               ],
               [
                0.8888888888888888,
                "#fdca26"
               ],
               [
                1,
                "#f0f921"
               ]
              ],
              "type": "heatmap"
             }
            ],
            "heatmapgl": [
             {
              "colorbar": {
               "outlinewidth": 0,
               "ticks": ""
              },
              "colorscale": [
               [
                0,
                "#0d0887"
               ],
               [
                0.1111111111111111,
                "#46039f"
               ],
               [
                0.2222222222222222,
                "#7201a8"
               ],
               [
                0.3333333333333333,
                "#9c179e"
               ],
               [
                0.4444444444444444,
                "#bd3786"
               ],
               [
                0.5555555555555556,
                "#d8576b"
               ],
               [
                0.6666666666666666,
                "#ed7953"
               ],
               [
                0.7777777777777778,
                "#fb9f3a"
               ],
               [
                0.8888888888888888,
                "#fdca26"
               ],
               [
                1,
                "#f0f921"
               ]
              ],
              "type": "heatmapgl"
             }
            ],
            "histogram": [
             {
              "marker": {
               "pattern": {
                "fillmode": "overlay",
                "size": 10,
                "solidity": 0.2
               }
              },
              "type": "histogram"
             }
            ],
            "histogram2d": [
             {
              "colorbar": {
               "outlinewidth": 0,
               "ticks": ""
              },
              "colorscale": [
               [
                0,
                "#0d0887"
               ],
               [
                0.1111111111111111,
                "#46039f"
               ],
               [
                0.2222222222222222,
                "#7201a8"
               ],
               [
                0.3333333333333333,
                "#9c179e"
               ],
               [
                0.4444444444444444,
                "#bd3786"
               ],
               [
                0.5555555555555556,
                "#d8576b"
               ],
               [
                0.6666666666666666,
                "#ed7953"
               ],
               [
                0.7777777777777778,
                "#fb9f3a"
               ],
               [
                0.8888888888888888,
                "#fdca26"
               ],
               [
                1,
                "#f0f921"
               ]
              ],
              "type": "histogram2d"
             }
            ],
            "histogram2dcontour": [
             {
              "colorbar": {
               "outlinewidth": 0,
               "ticks": ""
              },
              "colorscale": [
               [
                0,
                "#0d0887"
               ],
               [
                0.1111111111111111,
                "#46039f"
               ],
               [
                0.2222222222222222,
                "#7201a8"
               ],
               [
                0.3333333333333333,
                "#9c179e"
               ],
               [
                0.4444444444444444,
                "#bd3786"
               ],
               [
                0.5555555555555556,
                "#d8576b"
               ],
               [
                0.6666666666666666,
                "#ed7953"
               ],
               [
                0.7777777777777778,
                "#fb9f3a"
               ],
               [
                0.8888888888888888,
                "#fdca26"
               ],
               [
                1,
                "#f0f921"
               ]
              ],
              "type": "histogram2dcontour"
             }
            ],
            "mesh3d": [
             {
              "colorbar": {
               "outlinewidth": 0,
               "ticks": ""
              },
              "type": "mesh3d"
             }
            ],
            "parcoords": [
             {
              "line": {
               "colorbar": {
                "outlinewidth": 0,
                "ticks": ""
               }
              },
              "type": "parcoords"
             }
            ],
            "pie": [
             {
              "automargin": true,
              "type": "pie"
             }
            ],
            "scatter": [
             {
              "fillpattern": {
               "fillmode": "overlay",
               "size": 10,
               "solidity": 0.2
              },
              "type": "scatter"
             }
            ],
            "scatter3d": [
             {
              "line": {
               "colorbar": {
                "outlinewidth": 0,
                "ticks": ""
               }
              },
              "marker": {
               "colorbar": {
                "outlinewidth": 0,
                "ticks": ""
               }
              },
              "type": "scatter3d"
             }
            ],
            "scattercarpet": [
             {
              "marker": {
               "colorbar": {
                "outlinewidth": 0,
                "ticks": ""
               }
              },
              "type": "scattercarpet"
             }
            ],
            "scattergeo": [
             {
              "marker": {
               "colorbar": {
                "outlinewidth": 0,
                "ticks": ""
               }
              },
              "type": "scattergeo"
             }
            ],
            "scattergl": [
             {
              "marker": {
               "colorbar": {
                "outlinewidth": 0,
                "ticks": ""
               }
              },
              "type": "scattergl"
             }
            ],
            "scattermapbox": [
             {
              "marker": {
               "colorbar": {
                "outlinewidth": 0,
                "ticks": ""
               }
              },
              "type": "scattermapbox"
             }
            ],
            "scatterpolar": [
             {
              "marker": {
               "colorbar": {
                "outlinewidth": 0,
                "ticks": ""
               }
              },
              "type": "scatterpolar"
             }
            ],
            "scatterpolargl": [
             {
              "marker": {
               "colorbar": {
                "outlinewidth": 0,
                "ticks": ""
               }
              },
              "type": "scatterpolargl"
             }
            ],
            "scatterternary": [
             {
              "marker": {
               "colorbar": {
                "outlinewidth": 0,
                "ticks": ""
               }
              },
              "type": "scatterternary"
             }
            ],
            "surface": [
             {
              "colorbar": {
               "outlinewidth": 0,
               "ticks": ""
              },
              "colorscale": [
               [
                0,
                "#0d0887"
               ],
               [
                0.1111111111111111,
                "#46039f"
               ],
               [
                0.2222222222222222,
                "#7201a8"
               ],
               [
                0.3333333333333333,
                "#9c179e"
               ],
               [
                0.4444444444444444,
                "#bd3786"
               ],
               [
                0.5555555555555556,
                "#d8576b"
               ],
               [
                0.6666666666666666,
                "#ed7953"
               ],
               [
                0.7777777777777778,
                "#fb9f3a"
               ],
               [
                0.8888888888888888,
                "#fdca26"
               ],
               [
                1,
                "#f0f921"
               ]
              ],
              "type": "surface"
             }
            ],
            "table": [
             {
              "cells": {
               "fill": {
                "color": "#EBF0F8"
               },
               "line": {
                "color": "white"
               }
              },
              "header": {
               "fill": {
                "color": "#C8D4E3"
               },
               "line": {
                "color": "white"
               }
              },
              "type": "table"
             }
            ]
           },
           "layout": {
            "annotationdefaults": {
             "arrowcolor": "#2a3f5f",
             "arrowhead": 0,
             "arrowwidth": 1
            },
            "autotypenumbers": "strict",
            "coloraxis": {
             "colorbar": {
              "outlinewidth": 0,
              "ticks": ""
             }
            },
            "colorscale": {
             "diverging": [
              [
               0,
               "#8e0152"
              ],
              [
               0.1,
               "#c51b7d"
              ],
              [
               0.2,
               "#de77ae"
              ],
              [
               0.3,
               "#f1b6da"
              ],
              [
               0.4,
               "#fde0ef"
              ],
              [
               0.5,
               "#f7f7f7"
              ],
              [
               0.6,
               "#e6f5d0"
              ],
              [
               0.7,
               "#b8e186"
              ],
              [
               0.8,
               "#7fbc41"
              ],
              [
               0.9,
               "#4d9221"
              ],
              [
               1,
               "#276419"
              ]
             ],
             "sequential": [
              [
               0,
               "#0d0887"
              ],
              [
               0.1111111111111111,
               "#46039f"
              ],
              [
               0.2222222222222222,
               "#7201a8"
              ],
              [
               0.3333333333333333,
               "#9c179e"
              ],
              [
               0.4444444444444444,
               "#bd3786"
              ],
              [
               0.5555555555555556,
               "#d8576b"
              ],
              [
               0.6666666666666666,
               "#ed7953"
              ],
              [
               0.7777777777777778,
               "#fb9f3a"
              ],
              [
               0.8888888888888888,
               "#fdca26"
              ],
              [
               1,
               "#f0f921"
              ]
             ],
             "sequentialminus": [
              [
               0,
               "#0d0887"
              ],
              [
               0.1111111111111111,
               "#46039f"
              ],
              [
               0.2222222222222222,
               "#7201a8"
              ],
              [
               0.3333333333333333,
               "#9c179e"
              ],
              [
               0.4444444444444444,
               "#bd3786"
              ],
              [
               0.5555555555555556,
               "#d8576b"
              ],
              [
               0.6666666666666666,
               "#ed7953"
              ],
              [
               0.7777777777777778,
               "#fb9f3a"
              ],
              [
               0.8888888888888888,
               "#fdca26"
              ],
              [
               1,
               "#f0f921"
              ]
             ]
            },
            "colorway": [
             "#636efa",
             "#EF553B",
             "#00cc96",
             "#ab63fa",
             "#FFA15A",
             "#19d3f3",
             "#FF6692",
             "#B6E880",
             "#FF97FF",
             "#FECB52"
            ],
            "font": {
             "color": "#2a3f5f"
            },
            "geo": {
             "bgcolor": "white",
             "lakecolor": "white",
             "landcolor": "white",
             "showlakes": true,
             "showland": true,
             "subunitcolor": "#C8D4E3"
            },
            "hoverlabel": {
             "align": "left"
            },
            "hovermode": "closest",
            "mapbox": {
             "style": "light"
            },
            "paper_bgcolor": "white",
            "plot_bgcolor": "white",
            "polar": {
             "angularaxis": {
              "gridcolor": "#EBF0F8",
              "linecolor": "#EBF0F8",
              "ticks": ""
             },
             "bgcolor": "white",
             "radialaxis": {
              "gridcolor": "#EBF0F8",
              "linecolor": "#EBF0F8",
              "ticks": ""
             }
            },
            "scene": {
             "xaxis": {
              "backgroundcolor": "white",
              "gridcolor": "#DFE8F3",
              "gridwidth": 2,
              "linecolor": "#EBF0F8",
              "showbackground": true,
              "ticks": "",
              "zerolinecolor": "#EBF0F8"
             },
             "yaxis": {
              "backgroundcolor": "white",
              "gridcolor": "#DFE8F3",
              "gridwidth": 2,
              "linecolor": "#EBF0F8",
              "showbackground": true,
              "ticks": "",
              "zerolinecolor": "#EBF0F8"
             },
             "zaxis": {
              "backgroundcolor": "white",
              "gridcolor": "#DFE8F3",
              "gridwidth": 2,
              "linecolor": "#EBF0F8",
              "showbackground": true,
              "ticks": "",
              "zerolinecolor": "#EBF0F8"
             }
            },
            "shapedefaults": {
             "line": {
              "color": "#2a3f5f"
             }
            },
            "ternary": {
             "aaxis": {
              "gridcolor": "#DFE8F3",
              "linecolor": "#A2B1C6",
              "ticks": ""
             },
             "baxis": {
              "gridcolor": "#DFE8F3",
              "linecolor": "#A2B1C6",
              "ticks": ""
             },
             "bgcolor": "white",
             "caxis": {
              "gridcolor": "#DFE8F3",
              "linecolor": "#A2B1C6",
              "ticks": ""
             }
            },
            "title": {
             "x": 0.05
            },
            "xaxis": {
             "automargin": true,
             "gridcolor": "#EBF0F8",
             "linecolor": "#EBF0F8",
             "ticks": "",
             "title": {
              "standoff": 15
             },
             "zerolinecolor": "#EBF0F8",
             "zerolinewidth": 2
            },
            "yaxis": {
             "automargin": true,
             "gridcolor": "#EBF0F8",
             "linecolor": "#EBF0F8",
             "ticks": "",
             "title": {
              "standoff": 15
             },
             "zerolinecolor": "#EBF0F8",
             "zerolinewidth": 2
            }
           }
          },
          "xaxis": {
           "automargin": false,
           "linecolor": "#444",
           "linewidth": 2,
           "minor": {
            "tickmode": "linear",
            "ticks": "outside"
           },
           "mirror": true,
           "showline": true,
           "tickmode": "linear",
           "ticks": "outside",
           "zeroline": false
          },
          "yaxis": {
           "automargin": false,
           "linecolor": "#444",
           "linewidth": 2,
           "minor": {
            "ticks": "outside"
           },
           "mirror": true,
           "showline": true,
           "ticks": "outside",
           "zeroline": false
          }
         }
        },
        "xaxis": {
         "dtick": 5,
         "minor": {
          "dtick": 1,
          "tick0": 0
         },
         "range": [
          0,
          31
         ],
         "tick0": 0,
         "title": {
          "text": "CR"
         }
        },
        "yaxis": {
         "dtick": 0.2,
         "minor": {
          "dtick": 0.1,
          "tick0": 0
         },
         "range": [
          -0.01,
          1.01
         ],
         "tick0": 0,
         "title": {
          "text": "saving throw proficiency probability"
         }
        }
       }
      }
     },
     "metadata": {},
     "output_type": "display_data"
    }
   ],
   "source": [
    "# Saving throw proficiency\n",
    "columns = ['Str Prof','Dex Prof','Con Prof','Int Prof','Wis Prof','Cha Prof']\n",
    "colors = ['#d62728','#9467bd','#8c564b','#1f77b4','#2ca02c','#ff7f0e']\n",
    "\n",
    "df1 = df0[df0['Category'].isin(['generic','legendary','unique']) & df0['CR'].between(1, 30)]\n",
    "\n",
    "# create figure\n",
    "fig = go.Figure(\n",
    "    layout=go.Layout(\n",
    "        template=TFB_TEMPLATE,\n",
    "        margin=dict(l=70, r=25, b=55, t=20, pad=4),\n",
    "        xaxis=dict(\n",
    "            title_text='CR',\n",
    "            range=[0,31],\n",
    "            tick0=0, dtick=5,\n",
    "            minor=dict(tick0=0, dtick=1),\n",
    "        ),\n",
    "        yaxis=dict(\n",
    "            title_text='saving throw proficiency probability',\n",
    "            range=[-0.01,1.01],\n",
    "            tick0=0, dtick=0.2,\n",
    "            minor=dict(tick0=0, dtick=0.1),\n",
    "        ),\n",
    "        legend=dict(\n",
    "            xanchor='left', yanchor='top',\n",
    "            x=0.00, y=1.00,\n",
    "            orientation='v',\n",
    "            tracegroupgap=0,\n",
    "        )\n",
    "    )\n",
    ")\n",
    "\n",
    "for column, color in zip(columns, colors):\n",
    "    plot_mean_fit(fig, df1, 'CR', column, column, color)\n",
    "\n",
    "# show figure\n",
    "fig.show(config=TFB_CONFIG, width=600, height=450)\n",
    "fig.update_layout(autosize=True)\n",
    "\n",
    "# save figures\n",
    "if SAVEFIGS:\n",
    "    save_fig_html(fig, format='large', name='fig-saving-throw-proficiency-vs-cr-large')\n",
    "    save_fig_html(fig, format='small', name='fig-saving-throw-proficiency-vs-cr-small')"
   ]
  },
  {
   "cell_type": "code",
   "execution_count": 12,
   "metadata": {},
   "outputs": [
    {
     "data": {
      "application/vnd.plotly.v1+json": {
       "config": {
        "displayModeBar": "hover",
        "displaylogo": false,
        "modeBarButtonsToRemove": [
         "select2d",
         "lasso2d",
         "zoom2d",
         "zoomIn2d",
         "zoomOut2d",
         "pan2d",
         "autoScale2d",
         "hoverClosestCartesian",
         "hoverCompareCartesian",
         "toggleSpikelines",
         "resetScale2d"
        ],
        "plotlyServerURL": "https://plot.ly",
        "responsive": true,
        "showAxisDragHandles": false,
        "toImageButtonOptions": {
         "filename": "tfb-plot",
         "format": "png",
         "height": 450,
         "scale": 2,
         "width": 600
        }
       },
       "data": [
        {
         "hovertemplate": "<b>Str PB</b><br>CR %{x:,.0f}<br>Mean %{y:,.1f}<br><extra></extra>",
         "legendgroup": "Str PB",
         "line": {
          "color": "#d62728"
         },
         "mode": "markers",
         "name": "Str PB",
         "type": "scatter",
         "x": [
          1,
          2,
          3,
          4,
          5,
          6,
          7,
          8,
          9,
          10,
          11,
          12,
          13,
          14,
          15,
          16,
          17,
          18,
          19,
          20,
          21,
          22,
          23,
          24,
          25,
          26,
          27,
          28,
          30
         ],
         "y": [
          0,
          0.057803468208092484,
          0.14184397163120568,
          0.12,
          0.2558139534883721,
          0.3287671232876712,
          0.17142857142857143,
          0.3076923076923077,
          0.4897959183673469,
          0.3,
          0.6666666666666666,
          0.9655172413793104,
          0.8823529411764706,
          0.7692307692307693,
          0.7142857142857143,
          1.6,
          0.75,
          1.2857142857142858,
          1.2,
          0.5454545454545454,
          0.4666666666666667,
          0,
          0.9545454545454546,
          0.5,
          0.8888888888888888,
          0,
          0,
          1.1428571428571428,
          2.25
         ]
        },
        {
         "hoverinfo": "skip",
         "legendgroup": "Str PB",
         "line": {
          "color": "#d62728"
         },
         "mode": "lines",
         "name": "Str PB",
         "showlegend": false,
         "type": "scatter",
         "x": [
          1,
          2,
          3,
          4,
          5,
          6,
          7,
          8,
          9,
          10,
          11,
          12,
          13,
          14,
          15,
          16,
          17,
          18,
          19,
          20,
          21,
          22,
          23,
          24,
          25,
          26,
          27,
          28,
          30
         ],
         "y": [
          0.19678176835765912,
          0.22638534169573618,
          0.25598891503381327,
          0.28559248837189033,
          0.3151960617099674,
          0.34479963504804445,
          0.3744032083861215,
          0.40400678172419857,
          0.43361035506227563,
          0.4632139284003527,
          0.49281750173842975,
          0.5224210750765068,
          0.5520246484145839,
          0.5816282217526609,
          0.611231795090738,
          0.640835368428815,
          0.6704389417668922,
          0.7000425151049693,
          0.7296460884430463,
          0.7592496617811234,
          0.7888532351192005,
          0.8184568084572775,
          0.8480603817953546,
          0.8776639551334317,
          0.9072675284715087,
          0.9368711018095858,
          0.9664746751476628,
          0.9960782484857399,
          1.055285395161894
         ]
        },
        {
         "hovertemplate": "<b>Dex PB</b><br>CR %{x:,.0f}<br>Mean %{y:,.1f}<br><extra></extra>",
         "legendgroup": "Dex PB",
         "line": {
          "color": "#9467bd"
         },
         "mode": "markers",
         "name": "Dex PB",
         "type": "scatter",
         "x": [
          1,
          2,
          3,
          4,
          5,
          6,
          7,
          8,
          9,
          10,
          11,
          12,
          13,
          14,
          15,
          16,
          17,
          18,
          19,
          20,
          21,
          22,
          23,
          24,
          25,
          26,
          27,
          28,
          30
         ],
         "y": [
          0.17543859649122806,
          0.3236994219653179,
          0.2695035460992908,
          0.3,
          0.627906976744186,
          0.4520547945205479,
          0.7285714285714285,
          0.6153846153846154,
          0.7346938775510204,
          1.2,
          1.3333333333333333,
          1.103448275862069,
          1.7647058823529411,
          1.7307692307692308,
          2.142857142857143,
          2,
          3.75,
          2.142857142857143,
          3,
          2.727272727272727,
          4.2,
          3.0625,
          4.7727272727272725,
          6,
          6.222222222222222,
          6,
          8,
          5.714285714285714,
          4.5
         ]
        },
        {
         "hoverinfo": "skip",
         "legendgroup": "Dex PB",
         "line": {
          "color": "#9467bd"
         },
         "mode": "lines",
         "name": "Dex PB",
         "showlegend": false,
         "type": "scatter",
         "x": [
          1,
          2,
          3,
          4,
          5,
          6,
          7,
          8,
          9,
          10,
          11,
          12,
          13,
          14,
          15,
          16,
          17,
          18,
          19,
          20,
          21,
          22,
          23,
          24,
          25,
          26,
          27,
          28,
          30
         ],
         "y": [
          -0.7045916800894981,
          -0.4686521446485575,
          -0.23271260920761683,
          0.003226926233323879,
          0.23916646167426459,
          0.4751059971152052,
          0.711045532556146,
          0.9469850679970866,
          1.1829246034380274,
          1.418864138878968,
          1.6548036743199086,
          1.8907432097608492,
          2.12668274520179,
          2.362622280642731,
          2.5985618160836714,
          2.834501351524612,
          3.070440886965553,
          3.3063804224064937,
          3.5423199578474343,
          3.778259493288375,
          4.014199028729315,
          4.250138564170256,
          4.486078099611197,
          4.722017635052137,
          4.957957170493078,
          5.193896705934018,
          5.42983624137496,
          5.6657757768159005,
          6.137654847697782
         ]
        },
        {
         "hovertemplate": "<b>Con PB</b><br>CR %{x:,.0f}<br>Mean %{y:,.1f}<br><extra></extra>",
         "legendgroup": "Con PB",
         "line": {
          "color": "#8c564b"
         },
         "mode": "markers",
         "name": "Con PB",
         "type": "scatter",
         "x": [
          1,
          2,
          3,
          4,
          5,
          6,
          7,
          8,
          9,
          10,
          11,
          12,
          13,
          14,
          15,
          16,
          17,
          18,
          19,
          20,
          21,
          22,
          23,
          24,
          25,
          26,
          27,
          28,
          30
         ],
         "y": [
          0.10526315789473684,
          0.16184971098265896,
          0.2127659574468085,
          0.38,
          0.627906976744186,
          0.6164383561643836,
          1.0285714285714285,
          1.0769230769230769,
          2.0408163265306123,
          1.8,
          1.5238095238095237,
          2.206896551724138,
          3.088235294117647,
          3.4615384615384617,
          2.857142857142857,
          2.6,
          3.75,
          4.714285714285714,
          3.6,
          4.909090909090909,
          5.6,
          5.25,
          5.7272727272727275,
          6.5,
          6.222222222222222,
          6.666666666666667,
          8,
          8,
          4.5
         ]
        },
        {
         "hoverinfo": "skip",
         "legendgroup": "Con PB",
         "line": {
          "color": "#8c564b"
         },
         "mode": "lines",
         "name": "Con PB",
         "showlegend": false,
         "type": "scatter",
         "x": [
          1,
          2,
          3,
          4,
          5,
          6,
          7,
          8,
          9,
          10,
          11,
          12,
          13,
          14,
          15,
          16,
          17,
          18,
          19,
          20,
          21,
          22,
          23,
          24,
          25,
          26,
          27,
          28,
          30
         ],
         "y": [
          -0.4375505248469643,
          -0.16748501836123775,
          0.10258048812448883,
          0.3726459946102153,
          0.6427115010959418,
          0.9127770075816685,
          1.1828425140673948,
          1.4529080205531213,
          1.7229735270388478,
          1.9930390335245742,
          2.2631045400103007,
          2.5331700464960276,
          2.803235552981754,
          3.0733010594674806,
          3.3433665659532066,
          3.6134320724389335,
          3.8834975789246604,
          4.153563085410386,
          4.423628591896113,
          4.693694098381839,
          4.963759604867566,
          5.233825111353292,
          5.503890617839019,
          5.773956124324746,
          6.044021630810472,
          6.314087137296199,
          6.584152643781925,
          6.854218150267652,
          7.394349163239104
         ]
        },
        {
         "hovertemplate": "<b>Int PB</b><br>CR %{x:,.0f}<br>Mean %{y:,.1f}<br><extra></extra>",
         "legendgroup": "Int PB",
         "line": {
          "color": "#1f77b4"
         },
         "mode": "markers",
         "name": "Int PB",
         "type": "scatter",
         "x": [
          1,
          2,
          3,
          4,
          5,
          6,
          7,
          8,
          9,
          10,
          11,
          12,
          13,
          14,
          15,
          16,
          17,
          18,
          19,
          20,
          21,
          22,
          23,
          24,
          25,
          26,
          27,
          28,
          30
         ],
         "y": [
          0.05263157894736842,
          0.12716763005780346,
          0.14184397163120568,
          0.18,
          0.5348837209302325,
          0.6986301369863014,
          0.7714285714285715,
          0.7307692307692307,
          0.7346938775510204,
          1,
          0.5714285714285714,
          0.8275862068965517,
          1.911764705882353,
          1.3461538461538463,
          1.1904761904761905,
          1,
          2.25,
          2.5714285714285716,
          1.8,
          1.0909090909090908,
          2.8,
          3.0625,
          2.227272727272727,
          1,
          2.6666666666666665,
          2,
          0,
          6.857142857142857,
          4.5
         ]
        },
        {
         "hoverinfo": "skip",
         "legendgroup": "Int PB",
         "line": {
          "color": "#1f77b4"
         },
         "mode": "lines",
         "name": "Int PB",
         "showlegend": false,
         "type": "scatter",
         "x": [
          1,
          2,
          3,
          4,
          5,
          6,
          7,
          8,
          9,
          10,
          11,
          12,
          13,
          14,
          15,
          16,
          17,
          18,
          19,
          20,
          21,
          22,
          23,
          24,
          25,
          26,
          27,
          28,
          30
         ],
         "y": [
          -0.13971320599818934,
          -0.020064407161563658,
          0.099584391675062,
          0.21923319051168771,
          0.33888198934831343,
          0.45853078818493903,
          0.5781795870215647,
          0.6978283858581904,
          0.8174771846948161,
          0.9371259835314418,
          1.0567747823680675,
          1.176423581204693,
          1.2960723800413188,
          1.4157211788779445,
          1.5353699777145702,
          1.655018776551196,
          1.7746675753878214,
          1.8943163742244473,
          2.013965173061073,
          2.1336139718976987,
          2.2532627707343242,
          2.37291156957095,
          2.4925603684075757,
          2.612209167244201,
          2.731857966080827,
          2.8515067649174526,
          2.9711555637540785,
          3.090804362590704,
          3.3301019602639554
         ]
        },
        {
         "hovertemplate": "<b>Wis PB</b><br>CR %{x:,.0f}<br>Mean %{y:,.1f}<br><extra></extra>",
         "legendgroup": "Wis PB",
         "line": {
          "color": "#2ca02c"
         },
         "mode": "markers",
         "name": "Wis PB",
         "type": "scatter",
         "x": [
          1,
          2,
          3,
          4,
          5,
          6,
          7,
          8,
          9,
          10,
          11,
          12,
          13,
          14,
          15,
          16,
          17,
          18,
          19,
          20,
          21,
          22,
          23,
          24,
          25,
          26,
          27,
          28,
          30
         ],
         "y": [
          0.19298245614035087,
          0.4161849710982659,
          0.3404255319148936,
          0.68,
          1.069767441860465,
          1.356164383561644,
          1.6714285714285715,
          1.5384615384615385,
          2.204081632653061,
          2.7,
          2.4761904761904763,
          2.896551724137931,
          3.5294117647058822,
          4.038461538461538,
          3.8095238095238093,
          4,
          5.625,
          4.714285714285714,
          4.2,
          5.454545454545454,
          7,
          6.5625,
          6.363636363636363,
          7,
          8,
          8,
          8,
          8,
          9
         ]
        },
        {
         "hoverinfo": "skip",
         "legendgroup": "Wis PB",
         "line": {
          "color": "#2ca02c"
         },
         "mode": "lines",
         "name": "Wis PB",
         "showlegend": false,
         "type": "scatter",
         "x": [
          1,
          2,
          3,
          4,
          5,
          6,
          7,
          8,
          9,
          10,
          11,
          12,
          13,
          14,
          15,
          16,
          17,
          18,
          19,
          20,
          21,
          22,
          23,
          24,
          25,
          26,
          27,
          28,
          30
         ],
         "y": [
          -0.27056922548499873,
          0.04561286520706742,
          0.3617949558991336,
          0.6779770465911997,
          0.994159137283266,
          1.3103412279753321,
          1.626523318667398,
          1.9427054093594642,
          2.2588875000515305,
          2.5750695907435968,
          2.8912516814356626,
          3.207433772127729,
          3.523615862819795,
          3.839797953511861,
          4.155980044203928,
          4.472162134895994,
          4.78834422558806,
          5.104526316280126,
          5.420708406972192,
          5.736890497664259,
          6.053072588356325,
          6.369254679048391,
          6.685436769740457,
          7.001618860432523,
          7.317800951124589,
          7.633983041816656,
          7.950165132508722,
          8.266347223200787,
          8.89871140458492
         ]
        },
        {
         "hovertemplate": "<b>Cha PB</b><br>CR %{x:,.0f}<br>Mean %{y:,.1f}<br><extra></extra>",
         "legendgroup": "Cha PB",
         "line": {
          "color": "#ff7f0e"
         },
         "mode": "markers",
         "name": "Cha PB",
         "type": "scatter",
         "x": [
          1,
          2,
          3,
          4,
          5,
          6,
          7,
          8,
          9,
          10,
          11,
          12,
          13,
          14,
          15,
          16,
          17,
          18,
          19,
          20,
          21,
          22,
          23,
          24,
          25,
          26,
          27,
          28,
          30
         ],
         "y": [
          0.08771929824561403,
          0.2543352601156069,
          0.14184397163120568,
          0.32,
          0.5116279069767442,
          0.821917808219178,
          1.0714285714285714,
          0.8846153846153846,
          1.1428571428571428,
          1.1,
          1.5238095238095237,
          1.2413793103448276,
          2.9411764705882355,
          2.5,
          3.0952380952380953,
          3.2,
          3.75,
          4.285714285714286,
          4.8,
          4.363636363636363,
          4.2,
          5.25,
          3.1818181818181817,
          3.5,
          3.5555555555555554,
          5.333333333333333,
          8,
          8,
          6.75
         ]
        },
        {
         "hoverinfo": "skip",
         "legendgroup": "Cha PB",
         "line": {
          "color": "#ff7f0e"
         },
         "mode": "lines",
         "name": "Cha PB",
         "showlegend": false,
         "type": "scatter",
         "x": [
          1,
          2,
          3,
          4,
          5,
          6,
          7,
          8,
          9,
          10,
          11,
          12,
          13,
          14,
          15,
          16,
          17,
          18,
          19,
          20,
          21,
          22,
          23,
          24,
          25,
          26,
          27,
          28,
          30
         ],
         "y": [
          -0.5065026595577088,
          -0.25958230675352845,
          -0.012661953949348104,
          0.23425839885483224,
          0.4811787516590126,
          0.7280991044631929,
          0.9750194572673733,
          1.2219398100715537,
          1.468860162875734,
          1.7157805156799144,
          1.9627008684840948,
          2.209621221288275,
          2.4565415740924554,
          2.703461926896636,
          2.950382279700816,
          3.1973026325049965,
          3.4442229853091764,
          3.691143338113357,
          3.938063690917538,
          4.184984043721718,
          4.431904396525898,
          4.6788247493300785,
          4.925745102134259,
          5.172665454938439,
          5.419585807742619,
          5.6665061605468,
          5.913426513350981,
          6.160346866155161,
          6.654187571763521
         ]
        }
       ],
       "layout": {
        "legend": {
         "orientation": "v",
         "tracegroupgap": 0,
         "x": 0,
         "xanchor": "left",
         "y": 1,
         "yanchor": "top"
        },
        "margin": {
         "b": 55,
         "l": 70,
         "pad": 4,
         "r": 25,
         "t": 20
        },
        "template": {
         "layout": {
          "autosize": false,
          "font": {
           "family": "sans-serif",
           "size": 14
          },
          "hoverlabel": {
           "align": "left"
          },
          "hovermode": "closest",
          "margin": {
           "b": 40,
           "l": 50,
           "pad": 4,
           "r": 25,
           "t": 20
          },
          "template": {
           "data": {
            "bar": [
             {
              "error_x": {
               "color": "#2a3f5f"
              },
              "error_y": {
               "color": "#2a3f5f"
              },
              "marker": {
               "line": {
                "color": "white",
                "width": 0.5
               },
               "pattern": {
                "fillmode": "overlay",
                "size": 10,
                "solidity": 0.2
               }
              },
              "type": "bar"
             }
            ],
            "barpolar": [
             {
              "marker": {
               "line": {
                "color": "white",
                "width": 0.5
               },
               "pattern": {
                "fillmode": "overlay",
                "size": 10,
                "solidity": 0.2
               }
              },
              "type": "barpolar"
             }
            ],
            "carpet": [
             {
              "aaxis": {
               "endlinecolor": "#2a3f5f",
               "gridcolor": "#C8D4E3",
               "linecolor": "#C8D4E3",
               "minorgridcolor": "#C8D4E3",
               "startlinecolor": "#2a3f5f"
              },
              "baxis": {
               "endlinecolor": "#2a3f5f",
               "gridcolor": "#C8D4E3",
               "linecolor": "#C8D4E3",
               "minorgridcolor": "#C8D4E3",
               "startlinecolor": "#2a3f5f"
              },
              "type": "carpet"
             }
            ],
            "choropleth": [
             {
              "colorbar": {
               "outlinewidth": 0,
               "ticks": ""
              },
              "type": "choropleth"
             }
            ],
            "contour": [
             {
              "colorbar": {
               "outlinewidth": 0,
               "ticks": ""
              },
              "colorscale": [
               [
                0,
                "#0d0887"
               ],
               [
                0.1111111111111111,
                "#46039f"
               ],
               [
                0.2222222222222222,
                "#7201a8"
               ],
               [
                0.3333333333333333,
                "#9c179e"
               ],
               [
                0.4444444444444444,
                "#bd3786"
               ],
               [
                0.5555555555555556,
                "#d8576b"
               ],
               [
                0.6666666666666666,
                "#ed7953"
               ],
               [
                0.7777777777777778,
                "#fb9f3a"
               ],
               [
                0.8888888888888888,
                "#fdca26"
               ],
               [
                1,
                "#f0f921"
               ]
              ],
              "type": "contour"
             }
            ],
            "contourcarpet": [
             {
              "colorbar": {
               "outlinewidth": 0,
               "ticks": ""
              },
              "type": "contourcarpet"
             }
            ],
            "heatmap": [
             {
              "colorbar": {
               "outlinewidth": 0,
               "ticks": ""
              },
              "colorscale": [
               [
                0,
                "#0d0887"
               ],
               [
                0.1111111111111111,
                "#46039f"
               ],
               [
                0.2222222222222222,
                "#7201a8"
               ],
               [
                0.3333333333333333,
                "#9c179e"
               ],
               [
                0.4444444444444444,
                "#bd3786"
               ],
               [
                0.5555555555555556,
                "#d8576b"
               ],
               [
                0.6666666666666666,
                "#ed7953"
               ],
               [
                0.7777777777777778,
                "#fb9f3a"
               ],
               [
                0.8888888888888888,
                "#fdca26"
               ],
               [
                1,
                "#f0f921"
               ]
              ],
              "type": "heatmap"
             }
            ],
            "heatmapgl": [
             {
              "colorbar": {
               "outlinewidth": 0,
               "ticks": ""
              },
              "colorscale": [
               [
                0,
                "#0d0887"
               ],
               [
                0.1111111111111111,
                "#46039f"
               ],
               [
                0.2222222222222222,
                "#7201a8"
               ],
               [
                0.3333333333333333,
                "#9c179e"
               ],
               [
                0.4444444444444444,
                "#bd3786"
               ],
               [
                0.5555555555555556,
                "#d8576b"
               ],
               [
                0.6666666666666666,
                "#ed7953"
               ],
               [
                0.7777777777777778,
                "#fb9f3a"
               ],
               [
                0.8888888888888888,
                "#fdca26"
               ],
               [
                1,
                "#f0f921"
               ]
              ],
              "type": "heatmapgl"
             }
            ],
            "histogram": [
             {
              "marker": {
               "pattern": {
                "fillmode": "overlay",
                "size": 10,
                "solidity": 0.2
               }
              },
              "type": "histogram"
             }
            ],
            "histogram2d": [
             {
              "colorbar": {
               "outlinewidth": 0,
               "ticks": ""
              },
              "colorscale": [
               [
                0,
                "#0d0887"
               ],
               [
                0.1111111111111111,
                "#46039f"
               ],
               [
                0.2222222222222222,
                "#7201a8"
               ],
               [
                0.3333333333333333,
                "#9c179e"
               ],
               [
                0.4444444444444444,
                "#bd3786"
               ],
               [
                0.5555555555555556,
                "#d8576b"
               ],
               [
                0.6666666666666666,
                "#ed7953"
               ],
               [
                0.7777777777777778,
                "#fb9f3a"
               ],
               [
                0.8888888888888888,
                "#fdca26"
               ],
               [
                1,
                "#f0f921"
               ]
              ],
              "type": "histogram2d"
             }
            ],
            "histogram2dcontour": [
             {
              "colorbar": {
               "outlinewidth": 0,
               "ticks": ""
              },
              "colorscale": [
               [
                0,
                "#0d0887"
               ],
               [
                0.1111111111111111,
                "#46039f"
               ],
               [
                0.2222222222222222,
                "#7201a8"
               ],
               [
                0.3333333333333333,
                "#9c179e"
               ],
               [
                0.4444444444444444,
                "#bd3786"
               ],
               [
                0.5555555555555556,
                "#d8576b"
               ],
               [
                0.6666666666666666,
                "#ed7953"
               ],
               [
                0.7777777777777778,
                "#fb9f3a"
               ],
               [
                0.8888888888888888,
                "#fdca26"
               ],
               [
                1,
                "#f0f921"
               ]
              ],
              "type": "histogram2dcontour"
             }
            ],
            "mesh3d": [
             {
              "colorbar": {
               "outlinewidth": 0,
               "ticks": ""
              },
              "type": "mesh3d"
             }
            ],
            "parcoords": [
             {
              "line": {
               "colorbar": {
                "outlinewidth": 0,
                "ticks": ""
               }
              },
              "type": "parcoords"
             }
            ],
            "pie": [
             {
              "automargin": true,
              "type": "pie"
             }
            ],
            "scatter": [
             {
              "fillpattern": {
               "fillmode": "overlay",
               "size": 10,
               "solidity": 0.2
              },
              "type": "scatter"
             }
            ],
            "scatter3d": [
             {
              "line": {
               "colorbar": {
                "outlinewidth": 0,
                "ticks": ""
               }
              },
              "marker": {
               "colorbar": {
                "outlinewidth": 0,
                "ticks": ""
               }
              },
              "type": "scatter3d"
             }
            ],
            "scattercarpet": [
             {
              "marker": {
               "colorbar": {
                "outlinewidth": 0,
                "ticks": ""
               }
              },
              "type": "scattercarpet"
             }
            ],
            "scattergeo": [
             {
              "marker": {
               "colorbar": {
                "outlinewidth": 0,
                "ticks": ""
               }
              },
              "type": "scattergeo"
             }
            ],
            "scattergl": [
             {
              "marker": {
               "colorbar": {
                "outlinewidth": 0,
                "ticks": ""
               }
              },
              "type": "scattergl"
             }
            ],
            "scattermapbox": [
             {
              "marker": {
               "colorbar": {
                "outlinewidth": 0,
                "ticks": ""
               }
              },
              "type": "scattermapbox"
             }
            ],
            "scatterpolar": [
             {
              "marker": {
               "colorbar": {
                "outlinewidth": 0,
                "ticks": ""
               }
              },
              "type": "scatterpolar"
             }
            ],
            "scatterpolargl": [
             {
              "marker": {
               "colorbar": {
                "outlinewidth": 0,
                "ticks": ""
               }
              },
              "type": "scatterpolargl"
             }
            ],
            "scatterternary": [
             {
              "marker": {
               "colorbar": {
                "outlinewidth": 0,
                "ticks": ""
               }
              },
              "type": "scatterternary"
             }
            ],
            "surface": [
             {
              "colorbar": {
               "outlinewidth": 0,
               "ticks": ""
              },
              "colorscale": [
               [
                0,
                "#0d0887"
               ],
               [
                0.1111111111111111,
                "#46039f"
               ],
               [
                0.2222222222222222,
                "#7201a8"
               ],
               [
                0.3333333333333333,
                "#9c179e"
               ],
               [
                0.4444444444444444,
                "#bd3786"
               ],
               [
                0.5555555555555556,
                "#d8576b"
               ],
               [
                0.6666666666666666,
                "#ed7953"
               ],
               [
                0.7777777777777778,
                "#fb9f3a"
               ],
               [
                0.8888888888888888,
                "#fdca26"
               ],
               [
                1,
                "#f0f921"
               ]
              ],
              "type": "surface"
             }
            ],
            "table": [
             {
              "cells": {
               "fill": {
                "color": "#EBF0F8"
               },
               "line": {
                "color": "white"
               }
              },
              "header": {
               "fill": {
                "color": "#C8D4E3"
               },
               "line": {
                "color": "white"
               }
              },
              "type": "table"
             }
            ]
           },
           "layout": {
            "annotationdefaults": {
             "arrowcolor": "#2a3f5f",
             "arrowhead": 0,
             "arrowwidth": 1
            },
            "autotypenumbers": "strict",
            "coloraxis": {
             "colorbar": {
              "outlinewidth": 0,
              "ticks": ""
             }
            },
            "colorscale": {
             "diverging": [
              [
               0,
               "#8e0152"
              ],
              [
               0.1,
               "#c51b7d"
              ],
              [
               0.2,
               "#de77ae"
              ],
              [
               0.3,
               "#f1b6da"
              ],
              [
               0.4,
               "#fde0ef"
              ],
              [
               0.5,
               "#f7f7f7"
              ],
              [
               0.6,
               "#e6f5d0"
              ],
              [
               0.7,
               "#b8e186"
              ],
              [
               0.8,
               "#7fbc41"
              ],
              [
               0.9,
               "#4d9221"
              ],
              [
               1,
               "#276419"
              ]
             ],
             "sequential": [
              [
               0,
               "#0d0887"
              ],
              [
               0.1111111111111111,
               "#46039f"
              ],
              [
               0.2222222222222222,
               "#7201a8"
              ],
              [
               0.3333333333333333,
               "#9c179e"
              ],
              [
               0.4444444444444444,
               "#bd3786"
              ],
              [
               0.5555555555555556,
               "#d8576b"
              ],
              [
               0.6666666666666666,
               "#ed7953"
              ],
              [
               0.7777777777777778,
               "#fb9f3a"
              ],
              [
               0.8888888888888888,
               "#fdca26"
              ],
              [
               1,
               "#f0f921"
              ]
             ],
             "sequentialminus": [
              [
               0,
               "#0d0887"
              ],
              [
               0.1111111111111111,
               "#46039f"
              ],
              [
               0.2222222222222222,
               "#7201a8"
              ],
              [
               0.3333333333333333,
               "#9c179e"
              ],
              [
               0.4444444444444444,
               "#bd3786"
              ],
              [
               0.5555555555555556,
               "#d8576b"
              ],
              [
               0.6666666666666666,
               "#ed7953"
              ],
              [
               0.7777777777777778,
               "#fb9f3a"
              ],
              [
               0.8888888888888888,
               "#fdca26"
              ],
              [
               1,
               "#f0f921"
              ]
             ]
            },
            "colorway": [
             "#636efa",
             "#EF553B",
             "#00cc96",
             "#ab63fa",
             "#FFA15A",
             "#19d3f3",
             "#FF6692",
             "#B6E880",
             "#FF97FF",
             "#FECB52"
            ],
            "font": {
             "color": "#2a3f5f"
            },
            "geo": {
             "bgcolor": "white",
             "lakecolor": "white",
             "landcolor": "white",
             "showlakes": true,
             "showland": true,
             "subunitcolor": "#C8D4E3"
            },
            "hoverlabel": {
             "align": "left"
            },
            "hovermode": "closest",
            "mapbox": {
             "style": "light"
            },
            "paper_bgcolor": "white",
            "plot_bgcolor": "white",
            "polar": {
             "angularaxis": {
              "gridcolor": "#EBF0F8",
              "linecolor": "#EBF0F8",
              "ticks": ""
             },
             "bgcolor": "white",
             "radialaxis": {
              "gridcolor": "#EBF0F8",
              "linecolor": "#EBF0F8",
              "ticks": ""
             }
            },
            "scene": {
             "xaxis": {
              "backgroundcolor": "white",
              "gridcolor": "#DFE8F3",
              "gridwidth": 2,
              "linecolor": "#EBF0F8",
              "showbackground": true,
              "ticks": "",
              "zerolinecolor": "#EBF0F8"
             },
             "yaxis": {
              "backgroundcolor": "white",
              "gridcolor": "#DFE8F3",
              "gridwidth": 2,
              "linecolor": "#EBF0F8",
              "showbackground": true,
              "ticks": "",
              "zerolinecolor": "#EBF0F8"
             },
             "zaxis": {
              "backgroundcolor": "white",
              "gridcolor": "#DFE8F3",
              "gridwidth": 2,
              "linecolor": "#EBF0F8",
              "showbackground": true,
              "ticks": "",
              "zerolinecolor": "#EBF0F8"
             }
            },
            "shapedefaults": {
             "line": {
              "color": "#2a3f5f"
             }
            },
            "ternary": {
             "aaxis": {
              "gridcolor": "#DFE8F3",
              "linecolor": "#A2B1C6",
              "ticks": ""
             },
             "baxis": {
              "gridcolor": "#DFE8F3",
              "linecolor": "#A2B1C6",
              "ticks": ""
             },
             "bgcolor": "white",
             "caxis": {
              "gridcolor": "#DFE8F3",
              "linecolor": "#A2B1C6",
              "ticks": ""
             }
            },
            "title": {
             "x": 0.05
            },
            "xaxis": {
             "automargin": true,
             "gridcolor": "#EBF0F8",
             "linecolor": "#EBF0F8",
             "ticks": "",
             "title": {
              "standoff": 15
             },
             "zerolinecolor": "#EBF0F8",
             "zerolinewidth": 2
            },
            "yaxis": {
             "automargin": true,
             "gridcolor": "#EBF0F8",
             "linecolor": "#EBF0F8",
             "ticks": "",
             "title": {
              "standoff": 15
             },
             "zerolinecolor": "#EBF0F8",
             "zerolinewidth": 2
            }
           }
          },
          "xaxis": {
           "automargin": false,
           "linecolor": "#444",
           "linewidth": 2,
           "minor": {
            "tickmode": "linear",
            "ticks": "outside"
           },
           "mirror": true,
           "showline": true,
           "tickmode": "linear",
           "ticks": "outside",
           "zeroline": false
          },
          "yaxis": {
           "automargin": false,
           "linecolor": "#444",
           "linewidth": 2,
           "minor": {
            "ticks": "outside"
           },
           "mirror": true,
           "showline": true,
           "ticks": "outside",
           "zeroline": false
          }
         }
        },
        "xaxis": {
         "dtick": 5,
         "minor": {
          "dtick": 1,
          "tick0": 0
         },
         "range": [
          0,
          31
         ],
         "tick0": 0,
         "title": {
          "text": "CR"
         }
        },
        "yaxis": {
         "dtick": 2,
         "minor": {
          "dtick": 1,
          "tick0": 0
         },
         "range": [
          -2,
          11
         ],
         "tick0": 0,
         "title": {
          "text": "saving throw bonus"
         }
        }
       }
      }
     },
     "metadata": {},
     "output_type": "display_data"
    }
   ],
   "source": [
    "# Saving throw proficiency bonus\n",
    "columns = ['Str PB','Dex PB','Con PB','Int PB','Wis PB','Cha PB']\n",
    "colors = ['#d62728','#9467bd','#8c564b','#1f77b4','#2ca02c','#ff7f0e']\n",
    "\n",
    "df1 = df0[df0['Category'].isin(['generic','legendary','unique']) & df0['CR'].between(1, 30)]\n",
    "\n",
    "# create figure\n",
    "fig = go.Figure(\n",
    "    layout=go.Layout(\n",
    "        template=TFB_TEMPLATE,\n",
    "        margin=dict(l=70, r=25, b=55, t=20, pad=4),\n",
    "        xaxis=dict(\n",
    "            title_text='CR',\n",
    "            range=[0,31],\n",
    "            tick0=0, dtick=5,\n",
    "            minor=dict(tick0=0, dtick=1),\n",
    "        ),\n",
    "        yaxis=dict(\n",
    "            title_text='saving throw bonus',\n",
    "            range=[-2,11],\n",
    "            tick0=0, dtick=2,\n",
    "            minor=dict(tick0=0, dtick=1),\n",
    "        ),\n",
    "        legend=dict(\n",
    "            xanchor='left', yanchor='top',\n",
    "            x=0.00, y=1.00,\n",
    "            orientation='v',\n",
    "            tracegroupgap=0,\n",
    "        )\n",
    "    )\n",
    ")\n",
    "\n",
    "for column, color in zip(columns, colors):\n",
    "    plot_mean_fit(fig, df1, 'CR', column, column, color)\n",
    "\n",
    "# show figure\n",
    "fig.show(config=TFB_CONFIG, width=600, height=450)\n",
    "fig.update_layout(autosize=True)\n",
    "\n",
    "# save figures\n",
    "if SAVEFIGS:\n",
    "    save_fig_html(fig, format='large', name='fig-saving-throw-proficiency-bonus-vs-cr-large')\n",
    "    save_fig_html(fig, format='small', name='fig-saving-throw-proficiency-bonus-vs-cr-small')"
   ]
  }
 ],
 "metadata": {
  "kernelspec": {
   "display_name": "thefinishedbook",
   "language": "python",
   "name": "python3"
  },
  "language_info": {
   "codemirror_mode": {
    "name": "ipython",
    "version": 3
   },
   "file_extension": ".py",
   "mimetype": "text/x-python",
   "name": "python",
   "nbconvert_exporter": "python",
   "pygments_lexer": "ipython3",
   "version": "3.10.5"
  },
  "metadata": {
   "interpreter": {
    "hash": "aee8b7b246df8f9039afb4144a1f6fd8d2ca17a180786b69acc140d282b71a49"
   }
  },
  "orig_nbformat": 2,
  "vscode": {
   "interpreter": {
    "hash": "e4b90a08ac11b7f80ea6e39e6f46c6e22a0b6d86a47874aaa13784019f162251"
   }
  }
 },
 "nbformat": 4,
 "nbformat_minor": 2
}
