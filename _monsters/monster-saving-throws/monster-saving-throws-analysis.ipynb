{
 "cells": [
  {
   "cell_type": "code",
   "execution_count": 7,
   "metadata": {},
   "outputs": [
    {
     "name": "stdout",
     "output_type": "stream",
     "text": [
      "Includes 1904 monsters in database\n"
     ]
    }
   ],
   "source": [
    "import numpy as np\n",
    "import pandas as pd\n",
    "pd.options.mode.chained_assignment = None  # default='warn'\n",
    "import plotly.graph_objects as go\n",
    "import sys\n",
    "sys.path.append('../../assets/python/')\n",
    "import tfb\n",
    "\n",
    "METADATA = {'Contributor': 'T. Dunn'}\n",
    "SAVEFIGS = False\n",
    "\n",
    "df0 = pd.read_csv('../../assets/data/monsters.csv')\n",
    "df0 = df0.astype({'Book': 'category', 'Category': 'category', 'Legendary': 'category', 'Type': 'category', 'Size': 'category'})\n",
    "df0['Str PB'] = df0['Str Prof']*df0['PB']\n",
    "df0['Dex PB'] = df0['Dex Prof']*df0['PB']\n",
    "df0['Con PB'] = df0['Con Prof']*df0['PB']\n",
    "df0['Wis PB'] = df0['Wis Prof']*df0['PB']\n",
    "df0['Int PB'] = df0['Int Prof']*df0['PB']\n",
    "df0['Cha PB'] = df0['Cha Prof']*df0['PB']\n",
    "print('Includes {} monsters in database'.format(len(df0.index.to_list())))"
   ]
  },
  {
   "cell_type": "code",
   "execution_count": 8,
   "metadata": {},
   "outputs": [],
   "source": [
    "def plot_mean_fit(fig, df0, xCol, yCol, name, line_color):\n",
    "    # plot mean\n",
    "    dfM = df0[[xCol, yCol]].groupby(xCol).mean().reset_index()\n",
    "    fig.add_trace(go.Scatter(\n",
    "        x=dfM[xCol], y=dfM[yCol],\n",
    "        mode='markers', \n",
    "        name=f'{name}',\n",
    "        legendgroup=name, \n",
    "        line_color=line_color,\n",
    "        hovertemplate='<b>' + name + '</b><br>' + 'CR %{x:,.0f}<br>' + 'Mean %{y:,.1f}<br>' + '<extra></extra>'\n",
    "    ))\n",
    "    coefs = np.polyfit(dfM[xCol], dfM[yCol], 1)\n",
    "    poly = np.poly1d(coefs)\n",
    "    fig.add_trace(go.Scatter(\n",
    "        x=dfM[xCol], y=poly(dfM[xCol]),\n",
    "        mode='lines', \n",
    "        name=f'{name}',\n",
    "        legendgroup=name, \n",
    "        line_color=line_color,\n",
    "        hoverinfo='skip',\n",
    "        showlegend=False,\n",
    "    ))"
   ]
  },
  {
   "cell_type": "code",
   "execution_count": 9,
   "metadata": {},
   "outputs": [
    {
     "data": {
      "application/vnd.plotly.v1+json": {
       "config": {
        "autosizable": true,
        "displayModeBar": "hover",
        "displaylogo": false,
        "modeBarButtonsToRemove": [
         "select2d",
         "lasso2d",
         "zoom2d",
         "zoomIn2d",
         "zoomOut2d",
         "pan2d",
         "autoScale2d",
         "hoverClosestCartesian",
         "hoverCompareCartesian",
         "toggleSpikelines",
         "resetScale2d"
        ],
        "plotlyServerURL": "https://plot.ly",
        "responsive": true,
        "showAxisDragHandles": false,
        "toImageButtonOptions": {
         "filename": "tfb-plot",
         "format": "png",
         "height": 450,
         "scale": 2,
         "width": 600
        }
       },
       "data": [
        {
         "hovertemplate": "<b>Str Save</b><br>CR %{x:,.0f}<br>Mean %{y:,.1f}<br><extra></extra>",
         "legendgroup": "Str Save",
         "line": {
          "color": "#d62728"
         },
         "mode": "markers",
         "name": "Str Save",
         "type": "scatter",
         "x": [
          1,
          2,
          3,
          4,
          5,
          6,
          7,
          8,
          9,
          10,
          11,
          12,
          13,
          14,
          15,
          16,
          17,
          18,
          19,
          20,
          21,
          22,
          23,
          24,
          25,
          26,
          27,
          28,
          30
         ],
         "y": [
          1.0847457627118644,
          1.644808743169399,
          2.2649006622516556,
          2.3551401869158877,
          2.657142857142857,
          3.142857142857143,
          2.7564102564102564,
          3.5875,
          4.2075471698113205,
          4.159090909090909,
          5.090909090909091,
          5.21875,
          4.921052631578948,
          5.333333333333333,
          5.476190476190476,
          7.1923076923076925,
          5.375,
          5.133333333333334,
          7,
          5.545454545454546,
          7,
          5.875,
          8.363636363636363,
          8.857142857142858,
          10.444444444444445,
          8.833333333333334,
          10,
          10.142857142857142,
          12.25
         ]
        },
        {
         "hoverinfo": "skip",
         "legendgroup": "Str Save",
         "line": {
          "color": "#d62728"
         },
         "mode": "lines",
         "name": "Str Save",
         "showlegend": false,
         "type": "scatter",
         "x": [
          1,
          2,
          3,
          4,
          5,
          6,
          7,
          8,
          9,
          10,
          11,
          12,
          13,
          14,
          15,
          16,
          17,
          18,
          19,
          20,
          21,
          22,
          23,
          24,
          25,
          26,
          27,
          28,
          30
         ],
         "y": [
          1.2128215815262162,
          1.534052694721849,
          1.8552838079174818,
          2.1765149211131147,
          2.4977460343087476,
          2.8189771475043806,
          3.140208260700013,
          3.4614393738956464,
          3.782670487091279,
          4.103901600286912,
          4.425132713482545,
          4.746363826678177,
          5.0675949398738105,
          5.388826053069443,
          5.710057166265076,
          6.031288279460709,
          6.352519392656341,
          6.673750505851975,
          6.994981619047607,
          7.31621273224324,
          7.637443845438873,
          7.958674958634506,
          8.279906071830139,
          8.601137185025772,
          8.922368298221405,
          9.243599411417039,
          9.56483052461267,
          9.886061637808304,
          10.52852386419957
         ]
        },
        {
         "hovertemplate": "<b>Dex Save</b><br>CR %{x:,.0f}<br>Mean %{y:,.1f}<br><extra></extra>",
         "legendgroup": "Dex Save",
         "line": {
          "color": "#9467bd"
         },
         "mode": "markers",
         "name": "Dex Save",
         "type": "scatter",
         "x": [
          1,
          2,
          3,
          4,
          5,
          6,
          7,
          8,
          9,
          10,
          11,
          12,
          13,
          14,
          15,
          16,
          17,
          18,
          19,
          20,
          21,
          22,
          23,
          24,
          25,
          26,
          27,
          28,
          30
         ],
         "y": [
          1.4830508474576272,
          1.5573770491803278,
          1.8675496688741722,
          1.7570093457943925,
          2.092857142857143,
          1.9350649350649352,
          2.5641025641025643,
          2.0875,
          2.358490566037736,
          2.659090909090909,
          2.75,
          2.5,
          3.026315789473684,
          3.3703703703703702,
          4.095238095238095,
          4.5,
          5,
          4,
          5.545454545454546,
          5.2727272727272725,
          6.75,
          4.875,
          7.2727272727272725,
          7.928571428571429,
          7.111111111111111,
          8.25,
          10,
          9.142857142857142,
          6
         ]
        },
        {
         "hoverinfo": "skip",
         "legendgroup": "Dex Save",
         "line": {
          "color": "#9467bd"
         },
         "mode": "lines",
         "name": "Dex Save",
         "showlegend": false,
         "type": "scatter",
         "x": [
          1,
          2,
          3,
          4,
          5,
          6,
          7,
          8,
          9,
          10,
          11,
          12,
          13,
          14,
          15,
          16,
          17,
          18,
          19,
          20,
          21,
          22,
          23,
          24,
          25,
          26,
          27,
          28,
          30
         ],
         "y": [
          0.629466963340492,
          0.8985036319402868,
          1.1675403005400815,
          1.4365769691398764,
          1.7056136377396713,
          1.974650306339466,
          2.2436869749392607,
          2.5127236435390556,
          2.7817603121388506,
          3.0507969807386455,
          3.31983364933844,
          3.588870317938235,
          3.8579069865380298,
          4.126943655137824,
          4.39598032373762,
          4.665016992337414,
          4.934053660937209,
          5.2030903295370035,
          5.472126998136799,
          5.741163666736593,
          6.010200335336387,
          6.279237003936183,
          6.548273672535977,
          6.817310341135773,
          7.086347009735567,
          7.355383678335363,
          7.624420346935157,
          7.893457015534951,
          8.43153035273454
         ]
        },
        {
         "hovertemplate": "<b>Con Save</b><br>CR %{x:,.0f}<br>Mean %{y:,.1f}<br><extra></extra>",
         "legendgroup": "Con Save",
         "line": {
          "color": "#8c564b"
         },
         "mode": "markers",
         "name": "Con Save",
         "type": "scatter",
         "x": [
          1,
          2,
          3,
          4,
          5,
          6,
          7,
          8,
          9,
          10,
          11,
          12,
          13,
          14,
          15,
          16,
          17,
          18,
          19,
          20,
          21,
          22,
          23,
          24,
          25,
          26,
          27,
          28,
          30
         ],
         "y": [
          1.4915254237288136,
          1.8961748633879782,
          2.2847682119205297,
          2.6448598130841123,
          3.192857142857143,
          3.688311688311688,
          3.9358974358974357,
          4.25,
          5.566037735849057,
          5.590909090909091,
          5.886363636363637,
          5.65625,
          7.2368421052631575,
          7.888888888888889,
          7.142857142857143,
          7.8076923076923075,
          8.875,
          9.533333333333333,
          9.454545454545455,
          11.181818181818182,
          11.875,
          11,
          12.409090909090908,
          13.785714285714286,
          14.444444444444445,
          15.166666666666666,
          18,
          16.142857142857142,
          14.25
         ]
        },
        {
         "hoverinfo": "skip",
         "legendgroup": "Con Save",
         "line": {
          "color": "#8c564b"
         },
         "mode": "lines",
         "name": "Con Save",
         "showlegend": false,
         "type": "scatter",
         "x": [
          1,
          2,
          3,
          4,
          5,
          6,
          7,
          8,
          9,
          10,
          11,
          12,
          13,
          14,
          15,
          16,
          17,
          18,
          19,
          20,
          21,
          22,
          23,
          24,
          25,
          26,
          27,
          28,
          30
         ],
         "y": [
          0.7926003991297896,
          1.3314045621045254,
          1.8702087250792612,
          2.4090128880539967,
          2.9478170510287325,
          3.4866212140034682,
          4.0254253769782045,
          4.56422953995294,
          5.103033702927676,
          5.641837865902412,
          6.1806420288771475,
          6.719446191851883,
          7.258250354826619,
          7.797054517801355,
          8.335858680776091,
          8.874662843750826,
          9.413467006725561,
          9.952271169700298,
          10.491075332675035,
          11.02987949564977,
          11.568683658624504,
          12.107487821599241,
          12.646291984573978,
          13.185096147548713,
          13.723900310523447,
          14.262704473498184,
          14.80150863647292,
          15.340312799447656,
          16.41792112539713
         ]
        },
        {
         "hovertemplate": "<b>Int Save</b><br>CR %{x:,.0f}<br>Mean %{y:,.1f}<br><extra></extra>",
         "legendgroup": "Int Save",
         "line": {
          "color": "#1f77b4"
         },
         "mode": "markers",
         "name": "Int Save",
         "type": "scatter",
         "x": [
          1,
          2,
          3,
          4,
          5,
          6,
          7,
          8,
          9,
          10,
          11,
          12,
          13,
          14,
          15,
          16,
          17,
          18,
          19,
          20,
          21,
          22,
          23,
          24,
          25,
          26,
          27,
          28,
          30
         ],
         "y": [
          -1.1440677966101696,
          -0.6775956284153005,
          -0.304635761589404,
          0.3364485981308411,
          0.55,
          0.8051948051948052,
          1.6153846153846154,
          0.8875,
          1.7547169811320755,
          2.522727272727273,
          1.1590909090909092,
          2.0625,
          3.9210526315789473,
          2.740740740740741,
          3.3333333333333335,
          2.6538461538461537,
          5.0625,
          6.266666666666667,
          4.818181818181818,
          3.727272727272727,
          7.125,
          7.5,
          6.636363636363637,
          6.142857142857143,
          6.666666666666667,
          9.833333333333334,
          5,
          12.571428571428571,
          8.5
         ]
        },
        {
         "hoverinfo": "skip",
         "legendgroup": "Int Save",
         "line": {
          "color": "#1f77b4"
         },
         "mode": "lines",
         "name": "Int Save",
         "showlegend": false,
         "type": "scatter",
         "x": [
          1,
          2,
          3,
          4,
          5,
          6,
          7,
          8,
          9,
          10,
          11,
          12,
          13,
          14,
          15,
          16,
          17,
          18,
          19,
          20,
          21,
          22,
          23,
          24,
          25,
          26,
          27,
          28,
          30
         ],
         "y": [
          -1.2025968991972922,
          -0.841560492578037,
          -0.4805240859587818,
          -0.11948767933952653,
          0.24154872727972876,
          0.6025851338989838,
          0.9636215405182393,
          1.3246579471374944,
          1.6856943537567495,
          2.046730760376005,
          2.40776716699526,
          2.768803573614515,
          3.12983998023377,
          3.490876386853026,
          3.851912793472281,
          4.212949200091536,
          4.573985606710791,
          4.935022013330046,
          5.296058419949302,
          5.6570948265685574,
          6.0181312331878125,
          6.379167639807068,
          6.7402040464263235,
          7.101240453045578,
          7.462276859664834,
          7.823313266284088,
          8.184349672903345,
          8.5453860795226,
          9.267458892761109
         ]
        },
        {
         "hovertemplate": "<b>Wis Save</b><br>CR %{x:,.0f}<br>Mean %{y:,.1f}<br><extra></extra>",
         "legendgroup": "Wis Save",
         "line": {
          "color": "#2ca02c"
         },
         "mode": "markers",
         "name": "Wis Save",
         "type": "scatter",
         "x": [
          1,
          2,
          3,
          4,
          5,
          6,
          7,
          8,
          9,
          10,
          11,
          12,
          13,
          14,
          15,
          16,
          17,
          18,
          19,
          20,
          21,
          22,
          23,
          24,
          25,
          26,
          27,
          28,
          30
         ],
         "y": [
          0.5169491525423728,
          0.8961748633879781,
          1.1324503311258278,
          1.5420560747663552,
          2.357142857142857,
          2.4415584415584415,
          2.923076923076923,
          3.1125,
          3.792452830188679,
          4.545454545454546,
          4.2727272727272725,
          5.125,
          5.342105263157895,
          6.111111111111111,
          6.0476190476190474,
          6.769230769230769,
          8.25,
          8.6,
          8.090909090909092,
          8,
          11.375,
          10.25,
          10.954545454545455,
          12.142857142857142,
          11.555555555555555,
          13.166666666666666,
          13,
          14,
          14.5
         ]
        },
        {
         "hoverinfo": "skip",
         "legendgroup": "Wis Save",
         "line": {
          "color": "#2ca02c"
         },
         "mode": "lines",
         "name": "Wis Save",
         "showlegend": false,
         "type": "scatter",
         "x": [
          1,
          2,
          3,
          4,
          5,
          6,
          7,
          8,
          9,
          10,
          11,
          12,
          13,
          14,
          15,
          16,
          17,
          18,
          19,
          20,
          21,
          22,
          23,
          24,
          25,
          26,
          27,
          28,
          30
         ],
         "y": [
          -0.11266358304381474,
          0.3887624299829533,
          0.8901884430097213,
          1.3916144560364894,
          1.8930404690632574,
          2.394466482090025,
          2.8958924951167937,
          3.3973185081435613,
          3.898744521170329,
          4.400170534197097,
          4.901596547223866,
          5.403022560250633,
          5.904448573277401,
          6.4058745863041695,
          6.907300599330938,
          7.408726612357706,
          7.910152625384473,
          8.41157863841124,
          8.91300465143801,
          9.414430664464778,
          9.915856677491545,
          10.417282690518315,
          10.918708703545082,
          11.42013471657185,
          11.921560729598617,
          12.422986742625385,
          12.924412755652154,
          13.425838768678922,
          14.428690794732459
         ]
        },
        {
         "hovertemplate": "<b>Cha Save</b><br>CR %{x:,.0f}<br>Mean %{y:,.1f}<br><extra></extra>",
         "legendgroup": "Cha Save",
         "line": {
          "color": "#ff7f0e"
         },
         "mode": "markers",
         "name": "Cha Save",
         "type": "scatter",
         "x": [
          1,
          2,
          3,
          4,
          5,
          6,
          7,
          8,
          9,
          10,
          11,
          12,
          13,
          14,
          15,
          16,
          17,
          18,
          19,
          20,
          21,
          22,
          23,
          24,
          25,
          26,
          27,
          28,
          30
         ],
         "y": [
          -0.635593220338983,
          -0.07650273224043716,
          0.1456953642384106,
          0.7476635514018691,
          0.85,
          1.2727272727272727,
          2.0641025641025643,
          1.85,
          2.4150943396226414,
          2.9318181818181817,
          2.9545454545454546,
          3.6875,
          5.421052631578948,
          4.962962962962963,
          6.285714285714286,
          5.923076923076923,
          7.6875,
          8.8,
          9.272727272727273,
          8.727272727272727,
          9.5625,
          9.9375,
          8.318181818181818,
          9,
          7.333333333333333,
          12,
          16,
          17.285714285714285,
          13.5
         ]
        },
        {
         "hoverinfo": "skip",
         "legendgroup": "Cha Save",
         "line": {
          "color": "#ff7f0e"
         },
         "mode": "lines",
         "name": "Cha Save",
         "showlegend": false,
         "type": "scatter",
         "x": [
          1,
          2,
          3,
          4,
          5,
          6,
          7,
          8,
          9,
          10,
          11,
          12,
          13,
          14,
          15,
          16,
          17,
          18,
          19,
          20,
          21,
          22,
          23,
          24,
          25,
          26,
          27,
          28,
          30
         ],
         "y": [
          -1.3793440550677554,
          -0.8431633066318724,
          -0.3069825581959893,
          0.22919819023989363,
          0.7653789386757766,
          1.30155968711166,
          1.8377404355475428,
          2.373921183983426,
          2.910101932419309,
          3.446282680855192,
          3.9824634292910748,
          4.518644177726959,
          5.0548249261628415,
          5.591005674598724,
          6.1271864230346065,
          6.66336717147049,
          7.199547919906374,
          7.735728668342256,
          8.27190941677814,
          8.808090165214022,
          9.344270913649906,
          9.880451662085788,
          10.416632410521672,
          10.952813158957555,
          11.488993907393438,
          12.025174655829321,
          12.561355404265203,
          13.097536152701087,
          14.169897649572851
         ]
        }
       ],
       "layout": {
        "height": 500,
        "legend": {
         "orientation": "v",
         "tracegroupgap": 0,
         "x": 0,
         "xanchor": "left",
         "y": 1,
         "yanchor": "top"
        },
        "margin": {
         "b": 55,
         "l": 70,
         "pad": 4,
         "r": 25,
         "t": 20
        },
        "template": {
         "layout": {
          "autosize": false,
          "font": {
           "family": "sans-serif",
           "size": 14
          },
          "hoverlabel": {
           "align": "left"
          },
          "hovermode": "closest",
          "margin": {
           "b": 55,
           "l": 60,
           "pad": 4,
           "r": 25,
           "t": 20
          },
          "template": {
           "data": {
            "bar": [
             {
              "error_x": {
               "color": "#2a3f5f"
              },
              "error_y": {
               "color": "#2a3f5f"
              },
              "marker": {
               "line": {
                "color": "white",
                "width": 0.5
               },
               "pattern": {
                "fillmode": "overlay",
                "size": 10,
                "solidity": 0.2
               }
              },
              "type": "bar"
             }
            ],
            "barpolar": [
             {
              "marker": {
               "line": {
                "color": "white",
                "width": 0.5
               },
               "pattern": {
                "fillmode": "overlay",
                "size": 10,
                "solidity": 0.2
               }
              },
              "type": "barpolar"
             }
            ],
            "carpet": [
             {
              "aaxis": {
               "endlinecolor": "#2a3f5f",
               "gridcolor": "#C8D4E3",
               "linecolor": "#C8D4E3",
               "minorgridcolor": "#C8D4E3",
               "startlinecolor": "#2a3f5f"
              },
              "baxis": {
               "endlinecolor": "#2a3f5f",
               "gridcolor": "#C8D4E3",
               "linecolor": "#C8D4E3",
               "minorgridcolor": "#C8D4E3",
               "startlinecolor": "#2a3f5f"
              },
              "type": "carpet"
             }
            ],
            "choropleth": [
             {
              "colorbar": {
               "outlinewidth": 0,
               "ticks": ""
              },
              "type": "choropleth"
             }
            ],
            "contour": [
             {
              "colorbar": {
               "outlinewidth": 0,
               "ticks": ""
              },
              "colorscale": [
               [
                0,
                "#0d0887"
               ],
               [
                0.1111111111111111,
                "#46039f"
               ],
               [
                0.2222222222222222,
                "#7201a8"
               ],
               [
                0.3333333333333333,
                "#9c179e"
               ],
               [
                0.4444444444444444,
                "#bd3786"
               ],
               [
                0.5555555555555556,
                "#d8576b"
               ],
               [
                0.6666666666666666,
                "#ed7953"
               ],
               [
                0.7777777777777778,
                "#fb9f3a"
               ],
               [
                0.8888888888888888,
                "#fdca26"
               ],
               [
                1,
                "#f0f921"
               ]
              ],
              "type": "contour"
             }
            ],
            "contourcarpet": [
             {
              "colorbar": {
               "outlinewidth": 0,
               "ticks": ""
              },
              "type": "contourcarpet"
             }
            ],
            "heatmap": [
             {
              "colorbar": {
               "outlinewidth": 0,
               "ticks": ""
              },
              "colorscale": [
               [
                0,
                "#0d0887"
               ],
               [
                0.1111111111111111,
                "#46039f"
               ],
               [
                0.2222222222222222,
                "#7201a8"
               ],
               [
                0.3333333333333333,
                "#9c179e"
               ],
               [
                0.4444444444444444,
                "#bd3786"
               ],
               [
                0.5555555555555556,
                "#d8576b"
               ],
               [
                0.6666666666666666,
                "#ed7953"
               ],
               [
                0.7777777777777778,
                "#fb9f3a"
               ],
               [
                0.8888888888888888,
                "#fdca26"
               ],
               [
                1,
                "#f0f921"
               ]
              ],
              "type": "heatmap"
             }
            ],
            "heatmapgl": [
             {
              "colorbar": {
               "outlinewidth": 0,
               "ticks": ""
              },
              "colorscale": [
               [
                0,
                "#0d0887"
               ],
               [
                0.1111111111111111,
                "#46039f"
               ],
               [
                0.2222222222222222,
                "#7201a8"
               ],
               [
                0.3333333333333333,
                "#9c179e"
               ],
               [
                0.4444444444444444,
                "#bd3786"
               ],
               [
                0.5555555555555556,
                "#d8576b"
               ],
               [
                0.6666666666666666,
                "#ed7953"
               ],
               [
                0.7777777777777778,
                "#fb9f3a"
               ],
               [
                0.8888888888888888,
                "#fdca26"
               ],
               [
                1,
                "#f0f921"
               ]
              ],
              "type": "heatmapgl"
             }
            ],
            "histogram": [
             {
              "marker": {
               "pattern": {
                "fillmode": "overlay",
                "size": 10,
                "solidity": 0.2
               }
              },
              "type": "histogram"
             }
            ],
            "histogram2d": [
             {
              "colorbar": {
               "outlinewidth": 0,
               "ticks": ""
              },
              "colorscale": [
               [
                0,
                "#0d0887"
               ],
               [
                0.1111111111111111,
                "#46039f"
               ],
               [
                0.2222222222222222,
                "#7201a8"
               ],
               [
                0.3333333333333333,
                "#9c179e"
               ],
               [
                0.4444444444444444,
                "#bd3786"
               ],
               [
                0.5555555555555556,
                "#d8576b"
               ],
               [
                0.6666666666666666,
                "#ed7953"
               ],
               [
                0.7777777777777778,
                "#fb9f3a"
               ],
               [
                0.8888888888888888,
                "#fdca26"
               ],
               [
                1,
                "#f0f921"
               ]
              ],
              "type": "histogram2d"
             }
            ],
            "histogram2dcontour": [
             {
              "colorbar": {
               "outlinewidth": 0,
               "ticks": ""
              },
              "colorscale": [
               [
                0,
                "#0d0887"
               ],
               [
                0.1111111111111111,
                "#46039f"
               ],
               [
                0.2222222222222222,
                "#7201a8"
               ],
               [
                0.3333333333333333,
                "#9c179e"
               ],
               [
                0.4444444444444444,
                "#bd3786"
               ],
               [
                0.5555555555555556,
                "#d8576b"
               ],
               [
                0.6666666666666666,
                "#ed7953"
               ],
               [
                0.7777777777777778,
                "#fb9f3a"
               ],
               [
                0.8888888888888888,
                "#fdca26"
               ],
               [
                1,
                "#f0f921"
               ]
              ],
              "type": "histogram2dcontour"
             }
            ],
            "mesh3d": [
             {
              "colorbar": {
               "outlinewidth": 0,
               "ticks": ""
              },
              "type": "mesh3d"
             }
            ],
            "parcoords": [
             {
              "line": {
               "colorbar": {
                "outlinewidth": 0,
                "ticks": ""
               }
              },
              "type": "parcoords"
             }
            ],
            "pie": [
             {
              "automargin": true,
              "type": "pie"
             }
            ],
            "scatter": [
             {
              "fillpattern": {
               "fillmode": "overlay",
               "size": 10,
               "solidity": 0.2
              },
              "type": "scatter"
             }
            ],
            "scatter3d": [
             {
              "line": {
               "colorbar": {
                "outlinewidth": 0,
                "ticks": ""
               }
              },
              "marker": {
               "colorbar": {
                "outlinewidth": 0,
                "ticks": ""
               }
              },
              "type": "scatter3d"
             }
            ],
            "scattercarpet": [
             {
              "marker": {
               "colorbar": {
                "outlinewidth": 0,
                "ticks": ""
               }
              },
              "type": "scattercarpet"
             }
            ],
            "scattergeo": [
             {
              "marker": {
               "colorbar": {
                "outlinewidth": 0,
                "ticks": ""
               }
              },
              "type": "scattergeo"
             }
            ],
            "scattergl": [
             {
              "marker": {
               "colorbar": {
                "outlinewidth": 0,
                "ticks": ""
               }
              },
              "type": "scattergl"
             }
            ],
            "scattermapbox": [
             {
              "marker": {
               "colorbar": {
                "outlinewidth": 0,
                "ticks": ""
               }
              },
              "type": "scattermapbox"
             }
            ],
            "scatterpolar": [
             {
              "marker": {
               "colorbar": {
                "outlinewidth": 0,
                "ticks": ""
               }
              },
              "type": "scatterpolar"
             }
            ],
            "scatterpolargl": [
             {
              "marker": {
               "colorbar": {
                "outlinewidth": 0,
                "ticks": ""
               }
              },
              "type": "scatterpolargl"
             }
            ],
            "scatterternary": [
             {
              "marker": {
               "colorbar": {
                "outlinewidth": 0,
                "ticks": ""
               }
              },
              "type": "scatterternary"
             }
            ],
            "surface": [
             {
              "colorbar": {
               "outlinewidth": 0,
               "ticks": ""
              },
              "colorscale": [
               [
                0,
                "#0d0887"
               ],
               [
                0.1111111111111111,
                "#46039f"
               ],
               [
                0.2222222222222222,
                "#7201a8"
               ],
               [
                0.3333333333333333,
                "#9c179e"
               ],
               [
                0.4444444444444444,
                "#bd3786"
               ],
               [
                0.5555555555555556,
                "#d8576b"
               ],
               [
                0.6666666666666666,
                "#ed7953"
               ],
               [
                0.7777777777777778,
                "#fb9f3a"
               ],
               [
                0.8888888888888888,
                "#fdca26"
               ],
               [
                1,
                "#f0f921"
               ]
              ],
              "type": "surface"
             }
            ],
            "table": [
             {
              "cells": {
               "fill": {
                "color": "#EBF0F8"
               },
               "line": {
                "color": "white"
               }
              },
              "header": {
               "fill": {
                "color": "#C8D4E3"
               },
               "line": {
                "color": "white"
               }
              },
              "type": "table"
             }
            ]
           },
           "layout": {
            "annotationdefaults": {
             "arrowcolor": "#2a3f5f",
             "arrowhead": 0,
             "arrowwidth": 1
            },
            "autotypenumbers": "strict",
            "coloraxis": {
             "colorbar": {
              "outlinewidth": 0,
              "ticks": ""
             }
            },
            "colorscale": {
             "diverging": [
              [
               0,
               "#8e0152"
              ],
              [
               0.1,
               "#c51b7d"
              ],
              [
               0.2,
               "#de77ae"
              ],
              [
               0.3,
               "#f1b6da"
              ],
              [
               0.4,
               "#fde0ef"
              ],
              [
               0.5,
               "#f7f7f7"
              ],
              [
               0.6,
               "#e6f5d0"
              ],
              [
               0.7,
               "#b8e186"
              ],
              [
               0.8,
               "#7fbc41"
              ],
              [
               0.9,
               "#4d9221"
              ],
              [
               1,
               "#276419"
              ]
             ],
             "sequential": [
              [
               0,
               "#0d0887"
              ],
              [
               0.1111111111111111,
               "#46039f"
              ],
              [
               0.2222222222222222,
               "#7201a8"
              ],
              [
               0.3333333333333333,
               "#9c179e"
              ],
              [
               0.4444444444444444,
               "#bd3786"
              ],
              [
               0.5555555555555556,
               "#d8576b"
              ],
              [
               0.6666666666666666,
               "#ed7953"
              ],
              [
               0.7777777777777778,
               "#fb9f3a"
              ],
              [
               0.8888888888888888,
               "#fdca26"
              ],
              [
               1,
               "#f0f921"
              ]
             ],
             "sequentialminus": [
              [
               0,
               "#0d0887"
              ],
              [
               0.1111111111111111,
               "#46039f"
              ],
              [
               0.2222222222222222,
               "#7201a8"
              ],
              [
               0.3333333333333333,
               "#9c179e"
              ],
              [
               0.4444444444444444,
               "#bd3786"
              ],
              [
               0.5555555555555556,
               "#d8576b"
              ],
              [
               0.6666666666666666,
               "#ed7953"
              ],
              [
               0.7777777777777778,
               "#fb9f3a"
              ],
              [
               0.8888888888888888,
               "#fdca26"
              ],
              [
               1,
               "#f0f921"
              ]
             ]
            },
            "colorway": [
             "#636efa",
             "#EF553B",
             "#00cc96",
             "#ab63fa",
             "#FFA15A",
             "#19d3f3",
             "#FF6692",
             "#B6E880",
             "#FF97FF",
             "#FECB52"
            ],
            "font": {
             "color": "#2a3f5f"
            },
            "geo": {
             "bgcolor": "white",
             "lakecolor": "white",
             "landcolor": "white",
             "showlakes": true,
             "showland": true,
             "subunitcolor": "#C8D4E3"
            },
            "hoverlabel": {
             "align": "left"
            },
            "hovermode": "closest",
            "mapbox": {
             "style": "light"
            },
            "paper_bgcolor": "white",
            "plot_bgcolor": "white",
            "polar": {
             "angularaxis": {
              "gridcolor": "#EBF0F8",
              "linecolor": "#EBF0F8",
              "ticks": ""
             },
             "bgcolor": "white",
             "radialaxis": {
              "gridcolor": "#EBF0F8",
              "linecolor": "#EBF0F8",
              "ticks": ""
             }
            },
            "scene": {
             "xaxis": {
              "backgroundcolor": "white",
              "gridcolor": "#DFE8F3",
              "gridwidth": 2,
              "linecolor": "#EBF0F8",
              "showbackground": true,
              "ticks": "",
              "zerolinecolor": "#EBF0F8"
             },
             "yaxis": {
              "backgroundcolor": "white",
              "gridcolor": "#DFE8F3",
              "gridwidth": 2,
              "linecolor": "#EBF0F8",
              "showbackground": true,
              "ticks": "",
              "zerolinecolor": "#EBF0F8"
             },
             "zaxis": {
              "backgroundcolor": "white",
              "gridcolor": "#DFE8F3",
              "gridwidth": 2,
              "linecolor": "#EBF0F8",
              "showbackground": true,
              "ticks": "",
              "zerolinecolor": "#EBF0F8"
             }
            },
            "shapedefaults": {
             "line": {
              "color": "#2a3f5f"
             }
            },
            "ternary": {
             "aaxis": {
              "gridcolor": "#DFE8F3",
              "linecolor": "#A2B1C6",
              "ticks": ""
             },
             "baxis": {
              "gridcolor": "#DFE8F3",
              "linecolor": "#A2B1C6",
              "ticks": ""
             },
             "bgcolor": "white",
             "caxis": {
              "gridcolor": "#DFE8F3",
              "linecolor": "#A2B1C6",
              "ticks": ""
             }
            },
            "title": {
             "x": 0.05
            },
            "xaxis": {
             "automargin": true,
             "gridcolor": "#EBF0F8",
             "linecolor": "#EBF0F8",
             "ticks": "",
             "title": {
              "standoff": 15
             },
             "zerolinecolor": "#EBF0F8",
             "zerolinewidth": 2
            },
            "yaxis": {
             "automargin": true,
             "gridcolor": "#EBF0F8",
             "linecolor": "#EBF0F8",
             "ticks": "",
             "title": {
              "standoff": 15
             },
             "zerolinecolor": "#EBF0F8",
             "zerolinewidth": 2
            }
           }
          },
          "xaxis": {
           "automargin": false,
           "linecolor": "#444",
           "linewidth": 2,
           "minor": {
            "tickmode": "linear",
            "ticks": "outside"
           },
           "mirror": true,
           "showline": true,
           "tickmode": "linear",
           "ticks": "outside",
           "zeroline": false
          },
          "yaxis": {
           "automargin": false,
           "linecolor": "#444",
           "linewidth": 2,
           "minor": {
            "tickmode": "linear",
            "ticks": "outside"
           },
           "mirror": true,
           "showline": true,
           "ticks": "outside",
           "zeroline": false
          }
         }
        },
        "width": 600,
        "xaxis": {
         "dtick": 5,
         "minor": {
          "dtick": 1,
          "tick0": 0
         },
         "range": [
          0,
          31
         ],
         "tick0": 0,
         "title": {
          "text": "CR"
         }
        },
        "yaxis": {
         "dtick": 5,
         "minor": {
          "dtick": 1,
          "tick0": 0
         },
         "range": [
          -2,
          19
         ],
         "tick0": 0,
         "title": {
          "text": "saving throw bonus"
         }
        }
       }
      }
     },
     "metadata": {},
     "output_type": "display_data"
    }
   ],
   "source": [
    "# Saving throw modifier\n",
    "columns = ['Str Save','Dex Save','Con Save','Int Save','Wis Save','Cha Save']\n",
    "colors = ['#d62728','#9467bd','#8c564b','#1f77b4','#2ca02c','#ff7f0e']\n",
    "\n",
    "df1 = df0[df0['Category'].isin(['generic','legendary','unique']) & df0['CR'].between(1, 30)]\n",
    "\n",
    "# create figure\n",
    "fig = go.Figure(\n",
    "    layout=go.Layout(\n",
    "        template=tfb.FIG_TEMPLATE,\n",
    "        margin=dict(l=70, r=25, b=55, t=20, pad=4),\n",
    "        xaxis=dict(\n",
    "            title_text='CR',\n",
    "            range=[0,31],\n",
    "            tick0=0, dtick=5,\n",
    "            minor=dict(tick0=0, dtick=1),\n",
    "        ),\n",
    "        yaxis=dict(\n",
    "            title_text='saving throw bonus',\n",
    "            range=[-2,19],\n",
    "            tick0=0, dtick=5,\n",
    "            minor=dict(tick0=0, dtick=1),\n",
    "        ),\n",
    "        legend=dict(\n",
    "            xanchor='left', yanchor='top',\n",
    "            x=0.00, y=1.00,\n",
    "            orientation='v',\n",
    "            tracegroupgap=0,\n",
    "        )\n",
    "    )\n",
    ")\n",
    "\n",
    "for column, color in zip(columns, colors):\n",
    "    plot_mean_fit(fig, df1, 'CR', column, column, color)\n",
    "\n",
    "# show figure\n",
    "fig.update_layout(width=600, height=500)\n",
    "fig.show(config=tfb.FIG_CONFIG)\n",
    "\n",
    "# save figures\n",
    "if SAVEFIGS:\n",
    "    fig.update_layout(autosize=True, width=None, height=None)\n",
    "    tfb.save_fig_html(fig, format='large', name='fig-saving-throw-modifier-vs-cr-large')\n",
    "    tfb.save_fig_html(fig, format='small', name='fig-saving-throw-modifier-vs-cr-small')"
   ]
  },
  {
   "cell_type": "code",
   "execution_count": 10,
   "metadata": {},
   "outputs": [
    {
     "data": {
      "application/vnd.plotly.v1+json": {
       "config": {
        "autosizable": true,
        "displayModeBar": "hover",
        "displaylogo": false,
        "modeBarButtonsToRemove": [
         "select2d",
         "lasso2d",
         "zoom2d",
         "zoomIn2d",
         "zoomOut2d",
         "pan2d",
         "autoScale2d",
         "hoverClosestCartesian",
         "hoverCompareCartesian",
         "toggleSpikelines",
         "resetScale2d"
        ],
        "plotlyServerURL": "https://plot.ly",
        "responsive": true,
        "showAxisDragHandles": false,
        "toImageButtonOptions": {
         "filename": "tfb-plot",
         "format": "png",
         "height": 450,
         "scale": 2,
         "width": 600
        }
       },
       "data": [
        {
         "hovertemplate": "<b>Str Mod</b><br>CR %{x:,.0f}<br>Mean %{y:,.1f}<br><extra></extra>",
         "legendgroup": "Str Mod",
         "line": {
          "color": "#d62728"
         },
         "mode": "markers",
         "name": "Str Mod",
         "type": "scatter",
         "x": [
          1,
          2,
          3,
          4,
          5,
          6,
          7,
          8,
          9,
          10,
          11,
          12,
          13,
          14,
          15,
          16,
          17,
          18,
          19,
          20,
          21,
          22,
          23,
          24,
          25,
          26,
          27,
          28,
          30
         ],
         "y": [
          1.0847457627118644,
          1.5792349726775956,
          2.1324503311258276,
          2.2242990654205608,
          2.4214285714285713,
          2.792207792207792,
          2.5641025641025643,
          3.2875,
          3.7547169811320753,
          3.7954545454545454,
          4.454545454545454,
          4.34375,
          4.131578947368421,
          4.592592592592593,
          4.761904761904762,
          5.653846153846154,
          4.625,
          3.933333333333333,
          5.909090909090909,
          5,
          6.5625,
          5.875,
          7.409090909090909,
          8.357142857142858,
          9.555555555555555,
          8.833333333333334,
          10,
          9,
          10
         ]
        },
        {
         "hoverinfo": "skip",
         "legendgroup": "Str Mod",
         "line": {
          "color": "#d62728"
         },
         "mode": "lines",
         "name": "Str Mod",
         "showlegend": false,
         "type": "scatter",
         "x": [
          1,
          2,
          3,
          4,
          5,
          6,
          7,
          8,
          9,
          10,
          11,
          12,
          13,
          14,
          15,
          16,
          17,
          18,
          19,
          20,
          21,
          22,
          23,
          24,
          25,
          26,
          27,
          28,
          30
         ],
         "y": [
          1.0282589371990754,
          1.320187429128541,
          1.6121159210580065,
          1.904044412987472,
          2.1959729049169376,
          2.487901396846403,
          2.779829888775869,
          3.0717583807053344,
          3.3636868726348,
          3.6556153645642655,
          3.947543856493731,
          4.239472348423196,
          4.531400840352662,
          4.823329332282127,
          5.115257824211593,
          5.4071863161410585,
          5.699114808070524,
          5.99104329999999,
          6.282971791929455,
          6.574900283858921,
          6.866828775788386,
          7.158757267717852,
          7.4506857596473175,
          7.742614251576783,
          8.034542743506249,
          8.326471235435715,
          8.61839972736518,
          8.910328219294646,
          9.494185203153577
         ]
        },
        {
         "hovertemplate": "<b>Dex Mod</b><br>CR %{x:,.0f}<br>Mean %{y:,.1f}<br><extra></extra>",
         "legendgroup": "Dex Mod",
         "line": {
          "color": "#9467bd"
         },
         "mode": "markers",
         "name": "Dex Mod",
         "type": "scatter",
         "x": [
          1,
          2,
          3,
          4,
          5,
          6,
          7,
          8,
          9,
          10,
          11,
          12,
          13,
          14,
          15,
          16,
          17,
          18,
          19,
          20,
          21,
          22,
          23,
          24,
          25,
          26,
          27,
          28,
          30
         ],
         "y": [
          1.3135593220338984,
          1.2513661202185793,
          1.5894039735099337,
          1.4766355140186915,
          1.4928571428571429,
          1.5064935064935066,
          1.794871794871795,
          1.45,
          1.4528301886792452,
          1.4772727272727273,
          1.4772727272727273,
          1.375,
          1.4736842105263157,
          1.5185185185185186,
          1.9523809523809523,
          2.576923076923077,
          1.3125,
          2,
          2.8181818181818183,
          2.5454545454545454,
          2.4375,
          1.8125,
          2.5,
          1.9285714285714286,
          1.1111111111111112,
          2.25,
          2,
          3.4285714285714284,
          1.5
         ]
        },
        {
         "hoverinfo": "skip",
         "legendgroup": "Dex Mod",
         "line": {
          "color": "#9467bd"
         },
         "mode": "lines",
         "name": "Dex Mod",
         "showlegend": false,
         "type": "scatter",
         "x": [
          1,
          2,
          3,
          4,
          5,
          6,
          7,
          8,
          9,
          10,
          11,
          12,
          13,
          14,
          15,
          16,
          17,
          18,
          19,
          20,
          21,
          22,
          23,
          24,
          25,
          26,
          27,
          28,
          30
         ],
         "y": [
          1.334749059348659,
          1.369431460789338,
          1.4041138622300169,
          1.438796263670696,
          1.473478665111375,
          1.508161066552054,
          1.542843467992733,
          1.5775258694334118,
          1.6122082708740908,
          1.6468906723147698,
          1.6815730737554486,
          1.7162554751961276,
          1.7509378766368067,
          1.7856202780774857,
          1.8203026795181647,
          1.8549850809588437,
          1.8896674823995228,
          1.9243498838402016,
          1.9590322852808806,
          1.9937146867215594,
          2.0283970881622384,
          2.0630794896029174,
          2.0977618910435964,
          2.1324442924842755,
          2.1671266939249545,
          2.2018090953656335,
          2.2364914968063125,
          2.2711738982469916,
          2.340538701128349
         ]
        },
        {
         "hovertemplate": "<b>Con Mod</b><br>CR %{x:,.0f}<br>Mean %{y:,.1f}<br><extra></extra>",
         "legendgroup": "Con Mod",
         "line": {
          "color": "#8c564b"
         },
         "mode": "markers",
         "name": "Con Mod",
         "type": "scatter",
         "x": [
          1,
          2,
          3,
          4,
          5,
          6,
          7,
          8,
          9,
          10,
          11,
          12,
          13,
          14,
          15,
          16,
          17,
          18,
          19,
          20,
          21,
          22,
          23,
          24,
          25,
          26,
          27,
          28,
          30
         ],
         "y": [
          1.3898305084745763,
          1.6994535519125684,
          2.0463576158940397,
          2.2523364485981308,
          2.5714285714285716,
          3.0259740259740258,
          2.8974358974358974,
          3.1625,
          3.5283018867924527,
          3.8636363636363638,
          4.340909090909091,
          3.53125,
          4.2368421052631575,
          4.37037037037037,
          4.285714285714286,
          5.115384615384615,
          5.1875,
          5.133333333333334,
          5.636363636363637,
          6.2727272727272725,
          6.25,
          5.75,
          6.636363636363637,
          7.285714285714286,
          8.444444444444445,
          8.5,
          10,
          8.142857142857142,
          9.75
         ]
        },
        {
         "hoverinfo": "skip",
         "legendgroup": "Con Mod",
         "line": {
          "color": "#8c564b"
         },
         "mode": "lines",
         "name": "Con Mod",
         "showlegend": false,
         "type": "scatter",
         "x": [
          1,
          2,
          3,
          4,
          5,
          6,
          7,
          8,
          9,
          10,
          11,
          12,
          13,
          14,
          15,
          16,
          17,
          18,
          19,
          20,
          21,
          22,
          23,
          24,
          25,
          26,
          27,
          28,
          30
         ],
         "y": [
          1.2219916556302706,
          1.4919407246138432,
          1.7618897935974158,
          2.0318388625809884,
          2.301787931564561,
          2.5717370005481337,
          2.8416860695317063,
          3.111635138515279,
          3.3815842074988516,
          3.651533276482424,
          3.921482345465997,
          4.1914314144495695,
          4.461380483433142,
          4.731329552416715,
          5.001278621400287,
          5.27122769038386,
          5.541176759367433,
          5.811125828351005,
          6.081074897334577,
          6.3510239663181505,
          6.6209730353017235,
          6.890922104285296,
          7.160871173268868,
          7.430820242252441,
          7.700769311236014,
          7.970718380219586,
          8.240667449203158,
          8.510616518186731,
          9.050514656153876
         ]
        },
        {
         "hovertemplate": "<b>Int Mod</b><br>CR %{x:,.0f}<br>Mean %{y:,.1f}<br><extra></extra>",
         "legendgroup": "Int Mod",
         "line": {
          "color": "#1f77b4"
         },
         "mode": "markers",
         "name": "Int Mod",
         "type": "scatter",
         "x": [
          1,
          2,
          3,
          4,
          5,
          6,
          7,
          8,
          9,
          10,
          11,
          12,
          13,
          14,
          15,
          16,
          17,
          18,
          19,
          20,
          21,
          22,
          23,
          24,
          25,
          26,
          27,
          28,
          30
         ],
         "y": [
          -1.194915254237288,
          -0.7978142076502732,
          -0.46357615894039733,
          0.16822429906542055,
          -0.007142857142857143,
          0.14285714285714285,
          0.8461538461538461,
          0.1375,
          1.0754716981132075,
          1.5227272727272727,
          0.6136363636363636,
          1.1875,
          2.1052631578947367,
          1.4444444444444444,
          2.142857142857143,
          1.5,
          2.8125,
          3.466666666666667,
          3.1818181818181817,
          2.6363636363636362,
          4.5,
          4.4375,
          4.409090909090909,
          5.142857142857143,
          4,
          7.833333333333333,
          5,
          5.714285714285714,
          4
         ]
        },
        {
         "hoverinfo": "skip",
         "legendgroup": "Int Mod",
         "line": {
          "color": "#1f77b4"
         },
         "mode": "lines",
         "name": "Int Mod",
         "showlegend": false,
         "type": "scatter",
         "x": [
          1,
          2,
          3,
          4,
          5,
          6,
          7,
          8,
          9,
          10,
          11,
          12,
          13,
          14,
          15,
          16,
          17,
          18,
          19,
          20,
          21,
          22,
          23,
          24,
          25,
          26,
          27,
          28,
          30
         ],
         "y": [
          -1.0602050578223359,
          -0.8186729960261637,
          -0.5771409342299916,
          -0.3356088724338193,
          -0.09407681063764706,
          0.14745525115852498,
          0.38898731295469724,
          0.6305193747508695,
          0.8720514365470415,
          1.113583498343214,
          1.355115560139386,
          1.596647621935558,
          1.8381796837317306,
          2.0797117455279026,
          2.321243807324075,
          2.562775869120247,
          2.804307930916419,
          3.045839992712591,
          3.287372054508764,
          3.528904116304936,
          3.770436178101108,
          4.01196823989728,
          4.253500301693452,
          4.495032363489624,
          4.736564425285797,
          4.978096487081969,
          5.219628548878141,
          5.461160610674313,
          5.944224734266658
         ]
        },
        {
         "hovertemplate": "<b>Wis Mod</b><br>CR %{x:,.0f}<br>Mean %{y:,.1f}<br><extra></extra>",
         "legendgroup": "Wis Mod",
         "line": {
          "color": "#2ca02c"
         },
         "mode": "markers",
         "name": "Wis Mod",
         "type": "scatter",
         "x": [
          1,
          2,
          3,
          4,
          5,
          6,
          7,
          8,
          9,
          10,
          11,
          12,
          13,
          14,
          15,
          16,
          17,
          18,
          19,
          20,
          21,
          22,
          23,
          24,
          25,
          26,
          27,
          28,
          30
         ],
         "y": [
          0.3305084745762712,
          0.46994535519125685,
          0.7615894039735099,
          0.8691588785046729,
          1.2428571428571429,
          1.0389610389610389,
          1.1923076923076923,
          1.5375,
          1.6037735849056605,
          1.9090909090909092,
          1.8181818181818181,
          2.25,
          1.8421052631578947,
          2.037037037037037,
          2.238095238095238,
          2.730769230769231,
          2.6875,
          3.8,
          3.727272727272727,
          2.5454545454545454,
          4.4375,
          3.6875,
          4.590909090909091,
          5.142857142857143,
          3.7777777777777777,
          5.166666666666667,
          5,
          6,
          5.5
         ]
        },
        {
         "hoverinfo": "skip",
         "legendgroup": "Wis Mod",
         "line": {
          "color": "#2ca02c"
         },
         "mode": "lines",
         "name": "Wis Mod",
         "showlegend": false,
         "type": "scatter",
         "x": [
          1,
          2,
          3,
          4,
          5,
          6,
          7,
          8,
          9,
          10,
          11,
          12,
          13,
          14,
          15,
          16,
          17,
          18,
          19,
          20,
          21,
          22,
          23,
          24,
          25,
          26,
          27,
          28,
          30
         ],
         "y": [
          0.13540261226700806,
          0.3221560355171409,
          0.5089094587672737,
          0.6956628820174066,
          0.8824163052675394,
          1.0691697285176722,
          1.2559231517678051,
          1.442676575017938,
          1.629429998268071,
          1.8161834215182038,
          2.002936844768336,
          2.189690268018469,
          2.376443691268602,
          2.5631971145187347,
          2.7499505377688678,
          2.9367039610190004,
          3.123457384269133,
          3.310210807519266,
          3.496964230769399,
          3.683717654019532,
          3.8704710772696647,
          4.057224500519798,
          4.243977923769931,
          4.430731347020063,
          4.617484770270196,
          4.804238193520329,
          4.990991616770462,
          5.177745040020595,
          5.551251886520861
         ]
        },
        {
         "hovertemplate": "<b>Cha Mod</b><br>CR %{x:,.0f}<br>Mean %{y:,.1f}<br><extra></extra>",
         "legendgroup": "Cha Mod",
         "line": {
          "color": "#ff7f0e"
         },
         "mode": "markers",
         "name": "Cha Mod",
         "type": "scatter",
         "x": [
          1,
          2,
          3,
          4,
          5,
          6,
          7,
          8,
          9,
          10,
          11,
          12,
          13,
          14,
          15,
          16,
          17,
          18,
          19,
          20,
          21,
          22,
          23,
          24,
          25,
          26,
          27,
          28,
          30
         ],
         "y": [
          -0.7203389830508474,
          -0.32786885245901637,
          -0.013245033112582781,
          0.42990654205607476,
          0.29285714285714287,
          0.4155844155844156,
          1.064102564102564,
          0.9125,
          1.2075471698113207,
          1.8409090909090908,
          1.5,
          2.4375,
          2.5789473684210527,
          2.3703703703703702,
          3.1904761904761907,
          2.6538461538461537,
          4,
          4.4,
          4.909090909090909,
          4.363636363636363,
          5.25,
          4.6875,
          5.136363636363637,
          5.5,
          3.7777777777777777,
          6.666666666666667,
          8,
          9.285714285714286,
          6.75
         ]
        },
        {
         "hoverinfo": "skip",
         "legendgroup": "Cha Mod",
         "line": {
          "color": "#ff7f0e"
         },
         "mode": "lines",
         "name": "Cha Mod",
         "showlegend": false,
         "type": "scatter",
         "x": [
          1,
          2,
          3,
          4,
          5,
          6,
          7,
          8,
          9,
          10,
          11,
          12,
          13,
          14,
          15,
          16,
          17,
          18,
          19,
          20,
          21,
          22,
          23,
          24,
          25,
          26,
          27,
          28,
          30
         ],
         "y": [
          -0.8776864795433181,
          -0.587728858693643,
          -0.29777123784396786,
          -0.007813616994292838,
          0.2821440038553822,
          0.5721016247050574,
          0.8620592455547325,
          1.1520168664044075,
          1.4419744872540825,
          1.7319321081037575,
          2.0218897289534326,
          2.311847349803108,
          2.601804970652783,
          2.891762591502458,
          3.181720212352133,
          3.471677833201808,
          3.761635454051483,
          4.051593074901158,
          4.341550695750833,
          4.631508316600508,
          4.921465937450183,
          5.211423558299858,
          5.501381179149533,
          5.79133879999921,
          6.081296420848885,
          6.37125404169856,
          6.661211662548235,
          6.95116928339791,
          7.53108452509726
         ]
        }
       ],
       "layout": {
        "height": 500,
        "legend": {
         "orientation": "v",
         "tracegroupgap": 0,
         "x": 0,
         "xanchor": "left",
         "y": 1,
         "yanchor": "top"
        },
        "margin": {
         "b": 55,
         "l": 70,
         "pad": 4,
         "r": 25,
         "t": 20
        },
        "template": {
         "layout": {
          "autosize": false,
          "font": {
           "family": "sans-serif",
           "size": 14
          },
          "hoverlabel": {
           "align": "left"
          },
          "hovermode": "closest",
          "margin": {
           "b": 55,
           "l": 60,
           "pad": 4,
           "r": 25,
           "t": 20
          },
          "template": {
           "data": {
            "bar": [
             {
              "error_x": {
               "color": "#2a3f5f"
              },
              "error_y": {
               "color": "#2a3f5f"
              },
              "marker": {
               "line": {
                "color": "white",
                "width": 0.5
               },
               "pattern": {
                "fillmode": "overlay",
                "size": 10,
                "solidity": 0.2
               }
              },
              "type": "bar"
             }
            ],
            "barpolar": [
             {
              "marker": {
               "line": {
                "color": "white",
                "width": 0.5
               },
               "pattern": {
                "fillmode": "overlay",
                "size": 10,
                "solidity": 0.2
               }
              },
              "type": "barpolar"
             }
            ],
            "carpet": [
             {
              "aaxis": {
               "endlinecolor": "#2a3f5f",
               "gridcolor": "#C8D4E3",
               "linecolor": "#C8D4E3",
               "minorgridcolor": "#C8D4E3",
               "startlinecolor": "#2a3f5f"
              },
              "baxis": {
               "endlinecolor": "#2a3f5f",
               "gridcolor": "#C8D4E3",
               "linecolor": "#C8D4E3",
               "minorgridcolor": "#C8D4E3",
               "startlinecolor": "#2a3f5f"
              },
              "type": "carpet"
             }
            ],
            "choropleth": [
             {
              "colorbar": {
               "outlinewidth": 0,
               "ticks": ""
              },
              "type": "choropleth"
             }
            ],
            "contour": [
             {
              "colorbar": {
               "outlinewidth": 0,
               "ticks": ""
              },
              "colorscale": [
               [
                0,
                "#0d0887"
               ],
               [
                0.1111111111111111,
                "#46039f"
               ],
               [
                0.2222222222222222,
                "#7201a8"
               ],
               [
                0.3333333333333333,
                "#9c179e"
               ],
               [
                0.4444444444444444,
                "#bd3786"
               ],
               [
                0.5555555555555556,
                "#d8576b"
               ],
               [
                0.6666666666666666,
                "#ed7953"
               ],
               [
                0.7777777777777778,
                "#fb9f3a"
               ],
               [
                0.8888888888888888,
                "#fdca26"
               ],
               [
                1,
                "#f0f921"
               ]
              ],
              "type": "contour"
             }
            ],
            "contourcarpet": [
             {
              "colorbar": {
               "outlinewidth": 0,
               "ticks": ""
              },
              "type": "contourcarpet"
             }
            ],
            "heatmap": [
             {
              "colorbar": {
               "outlinewidth": 0,
               "ticks": ""
              },
              "colorscale": [
               [
                0,
                "#0d0887"
               ],
               [
                0.1111111111111111,
                "#46039f"
               ],
               [
                0.2222222222222222,
                "#7201a8"
               ],
               [
                0.3333333333333333,
                "#9c179e"
               ],
               [
                0.4444444444444444,
                "#bd3786"
               ],
               [
                0.5555555555555556,
                "#d8576b"
               ],
               [
                0.6666666666666666,
                "#ed7953"
               ],
               [
                0.7777777777777778,
                "#fb9f3a"
               ],
               [
                0.8888888888888888,
                "#fdca26"
               ],
               [
                1,
                "#f0f921"
               ]
              ],
              "type": "heatmap"
             }
            ],
            "heatmapgl": [
             {
              "colorbar": {
               "outlinewidth": 0,
               "ticks": ""
              },
              "colorscale": [
               [
                0,
                "#0d0887"
               ],
               [
                0.1111111111111111,
                "#46039f"
               ],
               [
                0.2222222222222222,
                "#7201a8"
               ],
               [
                0.3333333333333333,
                "#9c179e"
               ],
               [
                0.4444444444444444,
                "#bd3786"
               ],
               [
                0.5555555555555556,
                "#d8576b"
               ],
               [
                0.6666666666666666,
                "#ed7953"
               ],
               [
                0.7777777777777778,
                "#fb9f3a"
               ],
               [
                0.8888888888888888,
                "#fdca26"
               ],
               [
                1,
                "#f0f921"
               ]
              ],
              "type": "heatmapgl"
             }
            ],
            "histogram": [
             {
              "marker": {
               "pattern": {
                "fillmode": "overlay",
                "size": 10,
                "solidity": 0.2
               }
              },
              "type": "histogram"
             }
            ],
            "histogram2d": [
             {
              "colorbar": {
               "outlinewidth": 0,
               "ticks": ""
              },
              "colorscale": [
               [
                0,
                "#0d0887"
               ],
               [
                0.1111111111111111,
                "#46039f"
               ],
               [
                0.2222222222222222,
                "#7201a8"
               ],
               [
                0.3333333333333333,
                "#9c179e"
               ],
               [
                0.4444444444444444,
                "#bd3786"
               ],
               [
                0.5555555555555556,
                "#d8576b"
               ],
               [
                0.6666666666666666,
                "#ed7953"
               ],
               [
                0.7777777777777778,
                "#fb9f3a"
               ],
               [
                0.8888888888888888,
                "#fdca26"
               ],
               [
                1,
                "#f0f921"
               ]
              ],
              "type": "histogram2d"
             }
            ],
            "histogram2dcontour": [
             {
              "colorbar": {
               "outlinewidth": 0,
               "ticks": ""
              },
              "colorscale": [
               [
                0,
                "#0d0887"
               ],
               [
                0.1111111111111111,
                "#46039f"
               ],
               [
                0.2222222222222222,
                "#7201a8"
               ],
               [
                0.3333333333333333,
                "#9c179e"
               ],
               [
                0.4444444444444444,
                "#bd3786"
               ],
               [
                0.5555555555555556,
                "#d8576b"
               ],
               [
                0.6666666666666666,
                "#ed7953"
               ],
               [
                0.7777777777777778,
                "#fb9f3a"
               ],
               [
                0.8888888888888888,
                "#fdca26"
               ],
               [
                1,
                "#f0f921"
               ]
              ],
              "type": "histogram2dcontour"
             }
            ],
            "mesh3d": [
             {
              "colorbar": {
               "outlinewidth": 0,
               "ticks": ""
              },
              "type": "mesh3d"
             }
            ],
            "parcoords": [
             {
              "line": {
               "colorbar": {
                "outlinewidth": 0,
                "ticks": ""
               }
              },
              "type": "parcoords"
             }
            ],
            "pie": [
             {
              "automargin": true,
              "type": "pie"
             }
            ],
            "scatter": [
             {
              "fillpattern": {
               "fillmode": "overlay",
               "size": 10,
               "solidity": 0.2
              },
              "type": "scatter"
             }
            ],
            "scatter3d": [
             {
              "line": {
               "colorbar": {
                "outlinewidth": 0,
                "ticks": ""
               }
              },
              "marker": {
               "colorbar": {
                "outlinewidth": 0,
                "ticks": ""
               }
              },
              "type": "scatter3d"
             }
            ],
            "scattercarpet": [
             {
              "marker": {
               "colorbar": {
                "outlinewidth": 0,
                "ticks": ""
               }
              },
              "type": "scattercarpet"
             }
            ],
            "scattergeo": [
             {
              "marker": {
               "colorbar": {
                "outlinewidth": 0,
                "ticks": ""
               }
              },
              "type": "scattergeo"
             }
            ],
            "scattergl": [
             {
              "marker": {
               "colorbar": {
                "outlinewidth": 0,
                "ticks": ""
               }
              },
              "type": "scattergl"
             }
            ],
            "scattermapbox": [
             {
              "marker": {
               "colorbar": {
                "outlinewidth": 0,
                "ticks": ""
               }
              },
              "type": "scattermapbox"
             }
            ],
            "scatterpolar": [
             {
              "marker": {
               "colorbar": {
                "outlinewidth": 0,
                "ticks": ""
               }
              },
              "type": "scatterpolar"
             }
            ],
            "scatterpolargl": [
             {
              "marker": {
               "colorbar": {
                "outlinewidth": 0,
                "ticks": ""
               }
              },
              "type": "scatterpolargl"
             }
            ],
            "scatterternary": [
             {
              "marker": {
               "colorbar": {
                "outlinewidth": 0,
                "ticks": ""
               }
              },
              "type": "scatterternary"
             }
            ],
            "surface": [
             {
              "colorbar": {
               "outlinewidth": 0,
               "ticks": ""
              },
              "colorscale": [
               [
                0,
                "#0d0887"
               ],
               [
                0.1111111111111111,
                "#46039f"
               ],
               [
                0.2222222222222222,
                "#7201a8"
               ],
               [
                0.3333333333333333,
                "#9c179e"
               ],
               [
                0.4444444444444444,
                "#bd3786"
               ],
               [
                0.5555555555555556,
                "#d8576b"
               ],
               [
                0.6666666666666666,
                "#ed7953"
               ],
               [
                0.7777777777777778,
                "#fb9f3a"
               ],
               [
                0.8888888888888888,
                "#fdca26"
               ],
               [
                1,
                "#f0f921"
               ]
              ],
              "type": "surface"
             }
            ],
            "table": [
             {
              "cells": {
               "fill": {
                "color": "#EBF0F8"
               },
               "line": {
                "color": "white"
               }
              },
              "header": {
               "fill": {
                "color": "#C8D4E3"
               },
               "line": {
                "color": "white"
               }
              },
              "type": "table"
             }
            ]
           },
           "layout": {
            "annotationdefaults": {
             "arrowcolor": "#2a3f5f",
             "arrowhead": 0,
             "arrowwidth": 1
            },
            "autotypenumbers": "strict",
            "coloraxis": {
             "colorbar": {
              "outlinewidth": 0,
              "ticks": ""
             }
            },
            "colorscale": {
             "diverging": [
              [
               0,
               "#8e0152"
              ],
              [
               0.1,
               "#c51b7d"
              ],
              [
               0.2,
               "#de77ae"
              ],
              [
               0.3,
               "#f1b6da"
              ],
              [
               0.4,
               "#fde0ef"
              ],
              [
               0.5,
               "#f7f7f7"
              ],
              [
               0.6,
               "#e6f5d0"
              ],
              [
               0.7,
               "#b8e186"
              ],
              [
               0.8,
               "#7fbc41"
              ],
              [
               0.9,
               "#4d9221"
              ],
              [
               1,
               "#276419"
              ]
             ],
             "sequential": [
              [
               0,
               "#0d0887"
              ],
              [
               0.1111111111111111,
               "#46039f"
              ],
              [
               0.2222222222222222,
               "#7201a8"
              ],
              [
               0.3333333333333333,
               "#9c179e"
              ],
              [
               0.4444444444444444,
               "#bd3786"
              ],
              [
               0.5555555555555556,
               "#d8576b"
              ],
              [
               0.6666666666666666,
               "#ed7953"
              ],
              [
               0.7777777777777778,
               "#fb9f3a"
              ],
              [
               0.8888888888888888,
               "#fdca26"
              ],
              [
               1,
               "#f0f921"
              ]
             ],
             "sequentialminus": [
              [
               0,
               "#0d0887"
              ],
              [
               0.1111111111111111,
               "#46039f"
              ],
              [
               0.2222222222222222,
               "#7201a8"
              ],
              [
               0.3333333333333333,
               "#9c179e"
              ],
              [
               0.4444444444444444,
               "#bd3786"
              ],
              [
               0.5555555555555556,
               "#d8576b"
              ],
              [
               0.6666666666666666,
               "#ed7953"
              ],
              [
               0.7777777777777778,
               "#fb9f3a"
              ],
              [
               0.8888888888888888,
               "#fdca26"
              ],
              [
               1,
               "#f0f921"
              ]
             ]
            },
            "colorway": [
             "#636efa",
             "#EF553B",
             "#00cc96",
             "#ab63fa",
             "#FFA15A",
             "#19d3f3",
             "#FF6692",
             "#B6E880",
             "#FF97FF",
             "#FECB52"
            ],
            "font": {
             "color": "#2a3f5f"
            },
            "geo": {
             "bgcolor": "white",
             "lakecolor": "white",
             "landcolor": "white",
             "showlakes": true,
             "showland": true,
             "subunitcolor": "#C8D4E3"
            },
            "hoverlabel": {
             "align": "left"
            },
            "hovermode": "closest",
            "mapbox": {
             "style": "light"
            },
            "paper_bgcolor": "white",
            "plot_bgcolor": "white",
            "polar": {
             "angularaxis": {
              "gridcolor": "#EBF0F8",
              "linecolor": "#EBF0F8",
              "ticks": ""
             },
             "bgcolor": "white",
             "radialaxis": {
              "gridcolor": "#EBF0F8",
              "linecolor": "#EBF0F8",
              "ticks": ""
             }
            },
            "scene": {
             "xaxis": {
              "backgroundcolor": "white",
              "gridcolor": "#DFE8F3",
              "gridwidth": 2,
              "linecolor": "#EBF0F8",
              "showbackground": true,
              "ticks": "",
              "zerolinecolor": "#EBF0F8"
             },
             "yaxis": {
              "backgroundcolor": "white",
              "gridcolor": "#DFE8F3",
              "gridwidth": 2,
              "linecolor": "#EBF0F8",
              "showbackground": true,
              "ticks": "",
              "zerolinecolor": "#EBF0F8"
             },
             "zaxis": {
              "backgroundcolor": "white",
              "gridcolor": "#DFE8F3",
              "gridwidth": 2,
              "linecolor": "#EBF0F8",
              "showbackground": true,
              "ticks": "",
              "zerolinecolor": "#EBF0F8"
             }
            },
            "shapedefaults": {
             "line": {
              "color": "#2a3f5f"
             }
            },
            "ternary": {
             "aaxis": {
              "gridcolor": "#DFE8F3",
              "linecolor": "#A2B1C6",
              "ticks": ""
             },
             "baxis": {
              "gridcolor": "#DFE8F3",
              "linecolor": "#A2B1C6",
              "ticks": ""
             },
             "bgcolor": "white",
             "caxis": {
              "gridcolor": "#DFE8F3",
              "linecolor": "#A2B1C6",
              "ticks": ""
             }
            },
            "title": {
             "x": 0.05
            },
            "xaxis": {
             "automargin": true,
             "gridcolor": "#EBF0F8",
             "linecolor": "#EBF0F8",
             "ticks": "",
             "title": {
              "standoff": 15
             },
             "zerolinecolor": "#EBF0F8",
             "zerolinewidth": 2
            },
            "yaxis": {
             "automargin": true,
             "gridcolor": "#EBF0F8",
             "linecolor": "#EBF0F8",
             "ticks": "",
             "title": {
              "standoff": 15
             },
             "zerolinecolor": "#EBF0F8",
             "zerolinewidth": 2
            }
           }
          },
          "xaxis": {
           "automargin": false,
           "linecolor": "#444",
           "linewidth": 2,
           "minor": {
            "tickmode": "linear",
            "ticks": "outside"
           },
           "mirror": true,
           "showline": true,
           "tickmode": "linear",
           "ticks": "outside",
           "zeroline": false
          },
          "yaxis": {
           "automargin": false,
           "linecolor": "#444",
           "linewidth": 2,
           "minor": {
            "tickmode": "linear",
            "ticks": "outside"
           },
           "mirror": true,
           "showline": true,
           "ticks": "outside",
           "zeroline": false
          }
         }
        },
        "width": 600,
        "xaxis": {
         "dtick": 5,
         "minor": {
          "dtick": 1,
          "tick0": 0
         },
         "range": [
          0,
          31
         ],
         "tick0": 0,
         "title": {
          "text": "CR"
         }
        },
        "yaxis": {
         "dtick": 2,
         "minor": {
          "dtick": 1,
          "tick0": 0
         },
         "range": [
          -2,
          11
         ],
         "tick0": 0,
         "title": {
          "text": "ability score modifier"
         }
        }
       }
      }
     },
     "metadata": {},
     "output_type": "display_data"
    }
   ],
   "source": [
    "# Ability score modifier\n",
    "columns = ['Str Mod','Dex Mod','Con Mod','Int Mod','Wis Mod','Cha Mod']\n",
    "colors = ['#d62728','#9467bd','#8c564b','#1f77b4','#2ca02c','#ff7f0e']\n",
    "\n",
    "df1 = df0[df0['Category'].isin(['generic','legendary','unique']) & df0['CR'].between(1, 30)]\n",
    "\n",
    "# create figure\n",
    "fig = go.Figure(\n",
    "    layout=go.Layout(\n",
    "        template=tfb.FIG_TEMPLATE,\n",
    "        margin=dict(l=70, r=25, b=55, t=20, pad=4),\n",
    "        xaxis=dict(\n",
    "            title_text='CR',\n",
    "            range=[0,31],\n",
    "            tick0=0, dtick=5,\n",
    "            minor=dict(tick0=0, dtick=1),\n",
    "        ),\n",
    "        yaxis=dict(\n",
    "            title_text='ability score modifier',\n",
    "            range=[-2,11],\n",
    "            tick0=0, dtick=2,\n",
    "            minor=dict(tick0=0, dtick=1),\n",
    "        ),\n",
    "        legend=dict(\n",
    "            xanchor='left', yanchor='top',\n",
    "            x=0.00, y=1.00,\n",
    "            orientation='v',\n",
    "            tracegroupgap=0,\n",
    "        )\n",
    "    )\n",
    ")\n",
    "\n",
    "for column, color in zip(columns, colors):\n",
    "    plot_mean_fit(fig, df1, 'CR', column, column, color)\n",
    "\n",
    "# show figure\n",
    "fig.update_layout(width=600, height=500)\n",
    "fig.show(config=tfb.FIG_CONFIG)\n",
    "\n",
    "# save figures\n",
    "if SAVEFIGS:\n",
    "    fig.update_layout(autosize=True, width=None, height=None)\n",
    "    tfb.save_fig_html(fig, format='large', name='fig-ability-score-modifier-vs-cr-large')\n",
    "    tfb.save_fig_html(fig, format='small', name='fig-ability-score-modifier-vs-cr-small')"
   ]
  },
  {
   "cell_type": "code",
   "execution_count": 11,
   "metadata": {},
   "outputs": [
    {
     "data": {
      "application/vnd.plotly.v1+json": {
       "config": {
        "autosizable": true,
        "displayModeBar": "hover",
        "displaylogo": false,
        "modeBarButtonsToRemove": [
         "select2d",
         "lasso2d",
         "zoom2d",
         "zoomIn2d",
         "zoomOut2d",
         "pan2d",
         "autoScale2d",
         "hoverClosestCartesian",
         "hoverCompareCartesian",
         "toggleSpikelines",
         "resetScale2d"
        ],
        "plotlyServerURL": "https://plot.ly",
        "responsive": true,
        "showAxisDragHandles": false,
        "toImageButtonOptions": {
         "filename": "tfb-plot",
         "format": "png",
         "height": 450,
         "scale": 2,
         "width": 600
        }
       },
       "data": [
        {
         "hovertemplate": "<b>Str Prof</b><br>CR %{x:,.0f}<br>Mean %{y:,.1f}<br><extra></extra>",
         "legendgroup": "Str Prof",
         "line": {
          "color": "#d62728"
         },
         "mode": "markers",
         "name": "Str Prof",
         "type": "scatter",
         "x": [
          1,
          2,
          3,
          4,
          5,
          6,
          7,
          8,
          9,
          10,
          11,
          12,
          13,
          14,
          15,
          16,
          17,
          18,
          19,
          20,
          21,
          22,
          23,
          24,
          25,
          26,
          27,
          28,
          30
         ],
         "y": [
          0,
          0.03278688524590164,
          0.06622516556291391,
          0.06542056074766354,
          0.07857142857142857,
          0.11688311688311688,
          0.0641025641025641,
          0.1,
          0.11320754716981132,
          0.09090909090909091,
          0.1590909090909091,
          0.21875,
          0.15789473684210525,
          0.14814814814814814,
          0.14285714285714285,
          0.3076923076923077,
          0.125,
          0.2,
          0.18181818181818182,
          0.09090909090909091,
          0.0625,
          0,
          0.13636363636363635,
          0.07142857142857142,
          0.1111111111111111,
          0,
          0,
          0.14285714285714285,
          0.25
         ]
        },
        {
         "hoverinfo": "skip",
         "legendgroup": "Str Prof",
         "line": {
          "color": "#d62728"
         },
         "mode": "lines",
         "name": "Str Prof",
         "showlegend": false,
         "type": "scatter",
         "x": [
          1,
          2,
          3,
          4,
          5,
          6,
          7,
          8,
          9,
          10,
          11,
          12,
          13,
          14,
          15,
          16,
          17,
          18,
          19,
          20,
          21,
          22,
          23,
          24,
          25,
          26,
          27,
          28,
          30
         ],
         "y": [
          0.08990319648633352,
          0.09144455923868527,
          0.09298592199103704,
          0.09452728474338881,
          0.09606864749574057,
          0.09761001024809234,
          0.0991513730004441,
          0.10069273575279586,
          0.10223409850514763,
          0.10377546125749938,
          0.10531682400985115,
          0.10685818676220292,
          0.10839954951455467,
          0.10994091226690644,
          0.1114822750192582,
          0.11302363777160997,
          0.11456500052396174,
          0.11610636327631349,
          0.11764772602866526,
          0.11918908878101703,
          0.12073045153336878,
          0.12227181428572055,
          0.12381317703807232,
          0.12535453979042407,
          0.12689590254277583,
          0.1284372652951276,
          0.12997862804747937,
          0.13151999079983112,
          0.13460271630453466
         ]
        },
        {
         "hovertemplate": "<b>Dex Prof</b><br>CR %{x:,.0f}<br>Mean %{y:,.1f}<br><extra></extra>",
         "legendgroup": "Dex Prof",
         "line": {
          "color": "#9467bd"
         },
         "mode": "markers",
         "name": "Dex Prof",
         "type": "scatter",
         "x": [
          1,
          2,
          3,
          4,
          5,
          6,
          7,
          8,
          9,
          10,
          11,
          12,
          13,
          14,
          15,
          16,
          17,
          18,
          19,
          20,
          21,
          22,
          23,
          24,
          25,
          26,
          27,
          28,
          30
         ],
         "y": [
          0.0847457627118644,
          0.15300546448087432,
          0.1390728476821192,
          0.14018691588785046,
          0.2,
          0.14285714285714285,
          0.2564102564102564,
          0.2125,
          0.22641509433962265,
          0.29545454545454547,
          0.3181818181818182,
          0.28125,
          0.3157894736842105,
          0.37037037037037035,
          0.42857142857142855,
          0.38461538461538464,
          0.625,
          0.3333333333333333,
          0.45454545454545453,
          0.45454545454545453,
          0.625,
          0.4375,
          0.6818181818181818,
          0.8571428571428571,
          0.7777777777777778,
          0.75,
          1,
          0.7142857142857143,
          0.5
         ]
        },
        {
         "hoverinfo": "skip",
         "legendgroup": "Dex Prof",
         "line": {
          "color": "#9467bd"
         },
         "mode": "lines",
         "name": "Dex Prof",
         "showlegend": false,
         "type": "scatter",
         "x": [
          1,
          2,
          3,
          4,
          5,
          6,
          7,
          8,
          9,
          10,
          11,
          12,
          13,
          14,
          15,
          16,
          17,
          18,
          19,
          20,
          21,
          22,
          23,
          24,
          25,
          26,
          27,
          28,
          30
         ],
         "y": [
          0.06531374320059923,
          0.09053801034035078,
          0.11576227748010234,
          0.14098654461985388,
          0.16621081175960545,
          0.19143507889935701,
          0.21665934603910855,
          0.24188361317886012,
          0.26710788031861166,
          0.2923321474583632,
          0.3175564145981148,
          0.34278068173786636,
          0.3680049488776179,
          0.39322921601736943,
          0.418453483157121,
          0.44367775029687256,
          0.46890201743662413,
          0.4941262845763757,
          0.5193505517161272,
          0.5445748188558788,
          0.5697990859956303,
          0.5950233531353819,
          0.6202476202751335,
          0.645471887414885,
          0.6706961545546366,
          0.6959204216943882,
          0.7211446888341396,
          0.7463689559738912,
          0.7968174902533943
         ]
        },
        {
         "hovertemplate": "<b>Con Prof</b><br>CR %{x:,.0f}<br>Mean %{y:,.1f}<br><extra></extra>",
         "legendgroup": "Con Prof",
         "line": {
          "color": "#8c564b"
         },
         "mode": "markers",
         "name": "Con Prof",
         "type": "scatter",
         "x": [
          1,
          2,
          3,
          4,
          5,
          6,
          7,
          8,
          9,
          10,
          11,
          12,
          13,
          14,
          15,
          16,
          17,
          18,
          19,
          20,
          21,
          22,
          23,
          24,
          25,
          26,
          27,
          28,
          30
         ],
         "y": [
          0.05084745762711865,
          0.09836065573770492,
          0.11920529801324503,
          0.19626168224299065,
          0.20714285714285716,
          0.22077922077922077,
          0.34615384615384615,
          0.3625,
          0.5094339622641509,
          0.4318181818181818,
          0.38636363636363635,
          0.53125,
          0.6052631578947368,
          0.7037037037037037,
          0.5714285714285714,
          0.5384615384615384,
          0.625,
          0.7333333333333333,
          0.6363636363636364,
          0.8181818181818182,
          0.8125,
          0.75,
          0.8181818181818182,
          0.9285714285714286,
          0.7777777777777778,
          0.8333333333333334,
          1,
          1,
          0.5
         ]
        },
        {
         "hoverinfo": "skip",
         "legendgroup": "Con Prof",
         "line": {
          "color": "#8c564b"
         },
         "mode": "lines",
         "name": "Con Prof",
         "showlegend": false,
         "type": "scatter",
         "x": [
          1,
          2,
          3,
          4,
          5,
          6,
          7,
          8,
          9,
          10,
          11,
          12,
          13,
          14,
          15,
          16,
          17,
          18,
          19,
          20,
          21,
          22,
          23,
          24,
          25,
          26,
          27,
          28,
          30
         ],
         "y": [
          0.1512037983383564,
          0.1800178198704505,
          0.20883184140254463,
          0.23764586293463877,
          0.26645988446673285,
          0.295273905998827,
          0.3240879275309212,
          0.3529019490630153,
          0.3817159705951094,
          0.41052999212720354,
          0.43934401365929765,
          0.46815803519139176,
          0.4969720567234859,
          0.5257860782555801,
          0.5546000997876742,
          0.5834141213197683,
          0.6122281428518624,
          0.6410421643839566,
          0.6698561859160507,
          0.6986702074481448,
          0.727484228980239,
          0.7562982505123331,
          0.7851122720444272,
          0.8139262935765214,
          0.8427403151086155,
          0.8715543366407096,
          0.9003683581728037,
          0.9291823797048979,
          0.9868104227690861
         ]
        },
        {
         "hovertemplate": "<b>Int Prof</b><br>CR %{x:,.0f}<br>Mean %{y:,.1f}<br><extra></extra>",
         "legendgroup": "Int Prof",
         "line": {
          "color": "#1f77b4"
         },
         "mode": "markers",
         "name": "Int Prof",
         "type": "scatter",
         "x": [
          1,
          2,
          3,
          4,
          5,
          6,
          7,
          8,
          9,
          10,
          11,
          12,
          13,
          14,
          15,
          16,
          17,
          18,
          19,
          20,
          21,
          22,
          23,
          24,
          25,
          26,
          27,
          28,
          30
         ],
         "y": [
          0.025423728813559324,
          0.060109289617486336,
          0.07947019867549669,
          0.08411214953271028,
          0.18571428571428572,
          0.22077922077922077,
          0.2564102564102564,
          0.25,
          0.16981132075471697,
          0.25,
          0.13636363636363635,
          0.21875,
          0.3684210526315789,
          0.25925925925925924,
          0.23809523809523808,
          0.23076923076923078,
          0.375,
          0.4666666666666667,
          0.2727272727272727,
          0.18181818181818182,
          0.375,
          0.4375,
          0.3181818181818182,
          0.14285714285714285,
          0.3333333333333333,
          0.25,
          0,
          0.8571428571428571,
          0.5
         ]
        },
        {
         "hoverinfo": "skip",
         "legendgroup": "Int Prof",
         "line": {
          "color": "#1f77b4"
         },
         "mode": "lines",
         "name": "Int Prof",
         "showlegend": false,
         "type": "scatter",
         "x": [
          1,
          2,
          3,
          4,
          5,
          6,
          7,
          8,
          9,
          10,
          11,
          12,
          13,
          14,
          15,
          16,
          17,
          18,
          19,
          20,
          21,
          22,
          23,
          24,
          25,
          26,
          27,
          28,
          30
         ],
         "y": [
          0.10429329123298958,
          0.11539700301281083,
          0.12650071479263209,
          0.13760442657245334,
          0.1487081383522746,
          0.15981185013209587,
          0.1709155619119171,
          0.18201927369173837,
          0.1931229854715596,
          0.20422669725138087,
          0.2153304090312021,
          0.22643412081102338,
          0.23753783259084463,
          0.24864154437066588,
          0.25974525615048716,
          0.2708489679303084,
          0.2819526797101296,
          0.2930563914899509,
          0.30416010326977216,
          0.3152638150495934,
          0.3263675268294146,
          0.3374712386092359,
          0.34857495038905717,
          0.35967866216887845,
          0.3707823739486996,
          0.3818860857285209,
          0.3929897975083422,
          0.40409350928816345,
          0.4263009328478059
         ]
        },
        {
         "hovertemplate": "<b>Wis Prof</b><br>CR %{x:,.0f}<br>Mean %{y:,.1f}<br><extra></extra>",
         "legendgroup": "Wis Prof",
         "line": {
          "color": "#2ca02c"
         },
         "mode": "markers",
         "name": "Wis Prof",
         "type": "scatter",
         "x": [
          1,
          2,
          3,
          4,
          5,
          6,
          7,
          8,
          9,
          10,
          11,
          12,
          13,
          14,
          15,
          16,
          17,
          18,
          19,
          20,
          21,
          22,
          23,
          24,
          25,
          26,
          27,
          28,
          30
         ],
         "y": [
          0.09322033898305085,
          0.21311475409836064,
          0.18543046357615894,
          0.3364485981308411,
          0.37142857142857144,
          0.4675324675324675,
          0.5769230769230769,
          0.525,
          0.5471698113207547,
          0.6590909090909091,
          0.6136363636363636,
          0.71875,
          0.7105263157894737,
          0.8148148148148148,
          0.7619047619047619,
          0.8076923076923077,
          0.9375,
          0.8,
          0.7272727272727273,
          0.9090909090909091,
          1,
          0.9375,
          0.9090909090909091,
          1,
          1,
          1,
          1,
          1,
          1
         ]
        },
        {
         "hoverinfo": "skip",
         "legendgroup": "Wis Prof",
         "line": {
          "color": "#2ca02c"
         },
         "mode": "lines",
         "name": "Wis Prof",
         "showlegend": false,
         "type": "scatter",
         "x": [
          1,
          2,
          3,
          4,
          5,
          6,
          7,
          8,
          9,
          10,
          11,
          12,
          13,
          14,
          15,
          16,
          17,
          18,
          19,
          20,
          21,
          22,
          23,
          24,
          25,
          26,
          27,
          28,
          30
         ],
         "y": [
          0.288383137814805,
          0.31850605453162834,
          0.3486289712484517,
          0.3787518879652751,
          0.40887480468209847,
          0.4389977213989218,
          0.46912063811574517,
          0.49924355483256855,
          0.5293664715493919,
          0.5594893882662153,
          0.5896123049830386,
          0.619735221699862,
          0.6498581384166853,
          0.6799810551335087,
          0.710103971850332,
          0.7402268885671555,
          0.7703498052839788,
          0.8004727220008021,
          0.8305956387176255,
          0.8607185554344489,
          0.8908414721512722,
          0.9209643888680956,
          0.9510873055849189,
          0.9812102223017423,
          1.0113331390185656,
          1.041456055735389,
          1.0715789724522122,
          1.1017018891690358,
          1.1619477226026824
         ]
        },
        {
         "hovertemplate": "<b>Cha Prof</b><br>CR %{x:,.0f}<br>Mean %{y:,.1f}<br><extra></extra>",
         "legendgroup": "Cha Prof",
         "line": {
          "color": "#ff7f0e"
         },
         "mode": "markers",
         "name": "Cha Prof",
         "type": "scatter",
         "x": [
          1,
          2,
          3,
          4,
          5,
          6,
          7,
          8,
          9,
          10,
          11,
          12,
          13,
          14,
          15,
          16,
          17,
          18,
          19,
          20,
          21,
          22,
          23,
          24,
          25,
          26,
          27,
          28,
          30
         ],
         "y": [
          0.0423728813559322,
          0.12568306010928962,
          0.07947019867549669,
          0.1588785046728972,
          0.18571428571428572,
          0.2857142857142857,
          0.3333333333333333,
          0.3125,
          0.3018867924528302,
          0.2727272727272727,
          0.36363636363636365,
          0.3125,
          0.5789473684210527,
          0.5185185185185185,
          0.6190476190476191,
          0.6538461538461539,
          0.625,
          0.7333333333333333,
          0.7272727272727273,
          0.7272727272727273,
          0.625,
          0.75,
          0.45454545454545453,
          0.5,
          0.4444444444444444,
          0.6666666666666666,
          1,
          1,
          0.75
         ]
        },
        {
         "hoverinfo": "skip",
         "legendgroup": "Cha Prof",
         "line": {
          "color": "#ff7f0e"
         },
         "mode": "lines",
         "name": "Cha Prof",
         "showlegend": false,
         "type": "scatter",
         "x": [
          1,
          2,
          3,
          4,
          5,
          6,
          7,
          8,
          9,
          10,
          11,
          12,
          13,
          14,
          15,
          16,
          17,
          18,
          19,
          20,
          21,
          22,
          23,
          24,
          25,
          26,
          27,
          28,
          30
         ],
         "y": [
          0.1206730150790234,
          0.1468371294634681,
          0.17300124384791285,
          0.1991653582323576,
          0.2253294726168023,
          0.251493587001247,
          0.2776577013856918,
          0.3038218157701365,
          0.3299859301545812,
          0.35615004453902593,
          0.3823141589234707,
          0.4084782733079154,
          0.43464238769236013,
          0.4608065020768049,
          0.4869706164612496,
          0.5131347308456943,
          0.539298845230139,
          0.5654629596145837,
          0.5916270739990285,
          0.6177911883834731,
          0.6439553027679179,
          0.6701194171523627,
          0.6962835315368073,
          0.7224476459212521,
          0.7486117603056969,
          0.7747758746901415,
          0.8009399890745863,
          0.8271041034590311,
          0.8794323322279205
         ]
        }
       ],
       "layout": {
        "height": 500,
        "legend": {
         "orientation": "v",
         "tracegroupgap": 0,
         "x": 0,
         "xanchor": "left",
         "y": 1,
         "yanchor": "top"
        },
        "margin": {
         "b": 55,
         "l": 70,
         "pad": 4,
         "r": 25,
         "t": 20
        },
        "template": {
         "layout": {
          "autosize": false,
          "font": {
           "family": "sans-serif",
           "size": 14
          },
          "hoverlabel": {
           "align": "left"
          },
          "hovermode": "closest",
          "margin": {
           "b": 55,
           "l": 60,
           "pad": 4,
           "r": 25,
           "t": 20
          },
          "template": {
           "data": {
            "bar": [
             {
              "error_x": {
               "color": "#2a3f5f"
              },
              "error_y": {
               "color": "#2a3f5f"
              },
              "marker": {
               "line": {
                "color": "white",
                "width": 0.5
               },
               "pattern": {
                "fillmode": "overlay",
                "size": 10,
                "solidity": 0.2
               }
              },
              "type": "bar"
             }
            ],
            "barpolar": [
             {
              "marker": {
               "line": {
                "color": "white",
                "width": 0.5
               },
               "pattern": {
                "fillmode": "overlay",
                "size": 10,
                "solidity": 0.2
               }
              },
              "type": "barpolar"
             }
            ],
            "carpet": [
             {
              "aaxis": {
               "endlinecolor": "#2a3f5f",
               "gridcolor": "#C8D4E3",
               "linecolor": "#C8D4E3",
               "minorgridcolor": "#C8D4E3",
               "startlinecolor": "#2a3f5f"
              },
              "baxis": {
               "endlinecolor": "#2a3f5f",
               "gridcolor": "#C8D4E3",
               "linecolor": "#C8D4E3",
               "minorgridcolor": "#C8D4E3",
               "startlinecolor": "#2a3f5f"
              },
              "type": "carpet"
             }
            ],
            "choropleth": [
             {
              "colorbar": {
               "outlinewidth": 0,
               "ticks": ""
              },
              "type": "choropleth"
             }
            ],
            "contour": [
             {
              "colorbar": {
               "outlinewidth": 0,
               "ticks": ""
              },
              "colorscale": [
               [
                0,
                "#0d0887"
               ],
               [
                0.1111111111111111,
                "#46039f"
               ],
               [
                0.2222222222222222,
                "#7201a8"
               ],
               [
                0.3333333333333333,
                "#9c179e"
               ],
               [
                0.4444444444444444,
                "#bd3786"
               ],
               [
                0.5555555555555556,
                "#d8576b"
               ],
               [
                0.6666666666666666,
                "#ed7953"
               ],
               [
                0.7777777777777778,
                "#fb9f3a"
               ],
               [
                0.8888888888888888,
                "#fdca26"
               ],
               [
                1,
                "#f0f921"
               ]
              ],
              "type": "contour"
             }
            ],
            "contourcarpet": [
             {
              "colorbar": {
               "outlinewidth": 0,
               "ticks": ""
              },
              "type": "contourcarpet"
             }
            ],
            "heatmap": [
             {
              "colorbar": {
               "outlinewidth": 0,
               "ticks": ""
              },
              "colorscale": [
               [
                0,
                "#0d0887"
               ],
               [
                0.1111111111111111,
                "#46039f"
               ],
               [
                0.2222222222222222,
                "#7201a8"
               ],
               [
                0.3333333333333333,
                "#9c179e"
               ],
               [
                0.4444444444444444,
                "#bd3786"
               ],
               [
                0.5555555555555556,
                "#d8576b"
               ],
               [
                0.6666666666666666,
                "#ed7953"
               ],
               [
                0.7777777777777778,
                "#fb9f3a"
               ],
               [
                0.8888888888888888,
                "#fdca26"
               ],
               [
                1,
                "#f0f921"
               ]
              ],
              "type": "heatmap"
             }
            ],
            "heatmapgl": [
             {
              "colorbar": {
               "outlinewidth": 0,
               "ticks": ""
              },
              "colorscale": [
               [
                0,
                "#0d0887"
               ],
               [
                0.1111111111111111,
                "#46039f"
               ],
               [
                0.2222222222222222,
                "#7201a8"
               ],
               [
                0.3333333333333333,
                "#9c179e"
               ],
               [
                0.4444444444444444,
                "#bd3786"
               ],
               [
                0.5555555555555556,
                "#d8576b"
               ],
               [
                0.6666666666666666,
                "#ed7953"
               ],
               [
                0.7777777777777778,
                "#fb9f3a"
               ],
               [
                0.8888888888888888,
                "#fdca26"
               ],
               [
                1,
                "#f0f921"
               ]
              ],
              "type": "heatmapgl"
             }
            ],
            "histogram": [
             {
              "marker": {
               "pattern": {
                "fillmode": "overlay",
                "size": 10,
                "solidity": 0.2
               }
              },
              "type": "histogram"
             }
            ],
            "histogram2d": [
             {
              "colorbar": {
               "outlinewidth": 0,
               "ticks": ""
              },
              "colorscale": [
               [
                0,
                "#0d0887"
               ],
               [
                0.1111111111111111,
                "#46039f"
               ],
               [
                0.2222222222222222,
                "#7201a8"
               ],
               [
                0.3333333333333333,
                "#9c179e"
               ],
               [
                0.4444444444444444,
                "#bd3786"
               ],
               [
                0.5555555555555556,
                "#d8576b"
               ],
               [
                0.6666666666666666,
                "#ed7953"
               ],
               [
                0.7777777777777778,
                "#fb9f3a"
               ],
               [
                0.8888888888888888,
                "#fdca26"
               ],
               [
                1,
                "#f0f921"
               ]
              ],
              "type": "histogram2d"
             }
            ],
            "histogram2dcontour": [
             {
              "colorbar": {
               "outlinewidth": 0,
               "ticks": ""
              },
              "colorscale": [
               [
                0,
                "#0d0887"
               ],
               [
                0.1111111111111111,
                "#46039f"
               ],
               [
                0.2222222222222222,
                "#7201a8"
               ],
               [
                0.3333333333333333,
                "#9c179e"
               ],
               [
                0.4444444444444444,
                "#bd3786"
               ],
               [
                0.5555555555555556,
                "#d8576b"
               ],
               [
                0.6666666666666666,
                "#ed7953"
               ],
               [
                0.7777777777777778,
                "#fb9f3a"
               ],
               [
                0.8888888888888888,
                "#fdca26"
               ],
               [
                1,
                "#f0f921"
               ]
              ],
              "type": "histogram2dcontour"
             }
            ],
            "mesh3d": [
             {
              "colorbar": {
               "outlinewidth": 0,
               "ticks": ""
              },
              "type": "mesh3d"
             }
            ],
            "parcoords": [
             {
              "line": {
               "colorbar": {
                "outlinewidth": 0,
                "ticks": ""
               }
              },
              "type": "parcoords"
             }
            ],
            "pie": [
             {
              "automargin": true,
              "type": "pie"
             }
            ],
            "scatter": [
             {
              "fillpattern": {
               "fillmode": "overlay",
               "size": 10,
               "solidity": 0.2
              },
              "type": "scatter"
             }
            ],
            "scatter3d": [
             {
              "line": {
               "colorbar": {
                "outlinewidth": 0,
                "ticks": ""
               }
              },
              "marker": {
               "colorbar": {
                "outlinewidth": 0,
                "ticks": ""
               }
              },
              "type": "scatter3d"
             }
            ],
            "scattercarpet": [
             {
              "marker": {
               "colorbar": {
                "outlinewidth": 0,
                "ticks": ""
               }
              },
              "type": "scattercarpet"
             }
            ],
            "scattergeo": [
             {
              "marker": {
               "colorbar": {
                "outlinewidth": 0,
                "ticks": ""
               }
              },
              "type": "scattergeo"
             }
            ],
            "scattergl": [
             {
              "marker": {
               "colorbar": {
                "outlinewidth": 0,
                "ticks": ""
               }
              },
              "type": "scattergl"
             }
            ],
            "scattermapbox": [
             {
              "marker": {
               "colorbar": {
                "outlinewidth": 0,
                "ticks": ""
               }
              },
              "type": "scattermapbox"
             }
            ],
            "scatterpolar": [
             {
              "marker": {
               "colorbar": {
                "outlinewidth": 0,
                "ticks": ""
               }
              },
              "type": "scatterpolar"
             }
            ],
            "scatterpolargl": [
             {
              "marker": {
               "colorbar": {
                "outlinewidth": 0,
                "ticks": ""
               }
              },
              "type": "scatterpolargl"
             }
            ],
            "scatterternary": [
             {
              "marker": {
               "colorbar": {
                "outlinewidth": 0,
                "ticks": ""
               }
              },
              "type": "scatterternary"
             }
            ],
            "surface": [
             {
              "colorbar": {
               "outlinewidth": 0,
               "ticks": ""
              },
              "colorscale": [
               [
                0,
                "#0d0887"
               ],
               [
                0.1111111111111111,
                "#46039f"
               ],
               [
                0.2222222222222222,
                "#7201a8"
               ],
               [
                0.3333333333333333,
                "#9c179e"
               ],
               [
                0.4444444444444444,
                "#bd3786"
               ],
               [
                0.5555555555555556,
                "#d8576b"
               ],
               [
                0.6666666666666666,
                "#ed7953"
               ],
               [
                0.7777777777777778,
                "#fb9f3a"
               ],
               [
                0.8888888888888888,
                "#fdca26"
               ],
               [
                1,
                "#f0f921"
               ]
              ],
              "type": "surface"
             }
            ],
            "table": [
             {
              "cells": {
               "fill": {
                "color": "#EBF0F8"
               },
               "line": {
                "color": "white"
               }
              },
              "header": {
               "fill": {
                "color": "#C8D4E3"
               },
               "line": {
                "color": "white"
               }
              },
              "type": "table"
             }
            ]
           },
           "layout": {
            "annotationdefaults": {
             "arrowcolor": "#2a3f5f",
             "arrowhead": 0,
             "arrowwidth": 1
            },
            "autotypenumbers": "strict",
            "coloraxis": {
             "colorbar": {
              "outlinewidth": 0,
              "ticks": ""
             }
            },
            "colorscale": {
             "diverging": [
              [
               0,
               "#8e0152"
              ],
              [
               0.1,
               "#c51b7d"
              ],
              [
               0.2,
               "#de77ae"
              ],
              [
               0.3,
               "#f1b6da"
              ],
              [
               0.4,
               "#fde0ef"
              ],
              [
               0.5,
               "#f7f7f7"
              ],
              [
               0.6,
               "#e6f5d0"
              ],
              [
               0.7,
               "#b8e186"
              ],
              [
               0.8,
               "#7fbc41"
              ],
              [
               0.9,
               "#4d9221"
              ],
              [
               1,
               "#276419"
              ]
             ],
             "sequential": [
              [
               0,
               "#0d0887"
              ],
              [
               0.1111111111111111,
               "#46039f"
              ],
              [
               0.2222222222222222,
               "#7201a8"
              ],
              [
               0.3333333333333333,
               "#9c179e"
              ],
              [
               0.4444444444444444,
               "#bd3786"
              ],
              [
               0.5555555555555556,
               "#d8576b"
              ],
              [
               0.6666666666666666,
               "#ed7953"
              ],
              [
               0.7777777777777778,
               "#fb9f3a"
              ],
              [
               0.8888888888888888,
               "#fdca26"
              ],
              [
               1,
               "#f0f921"
              ]
             ],
             "sequentialminus": [
              [
               0,
               "#0d0887"
              ],
              [
               0.1111111111111111,
               "#46039f"
              ],
              [
               0.2222222222222222,
               "#7201a8"
              ],
              [
               0.3333333333333333,
               "#9c179e"
              ],
              [
               0.4444444444444444,
               "#bd3786"
              ],
              [
               0.5555555555555556,
               "#d8576b"
              ],
              [
               0.6666666666666666,
               "#ed7953"
              ],
              [
               0.7777777777777778,
               "#fb9f3a"
              ],
              [
               0.8888888888888888,
               "#fdca26"
              ],
              [
               1,
               "#f0f921"
              ]
             ]
            },
            "colorway": [
             "#636efa",
             "#EF553B",
             "#00cc96",
             "#ab63fa",
             "#FFA15A",
             "#19d3f3",
             "#FF6692",
             "#B6E880",
             "#FF97FF",
             "#FECB52"
            ],
            "font": {
             "color": "#2a3f5f"
            },
            "geo": {
             "bgcolor": "white",
             "lakecolor": "white",
             "landcolor": "white",
             "showlakes": true,
             "showland": true,
             "subunitcolor": "#C8D4E3"
            },
            "hoverlabel": {
             "align": "left"
            },
            "hovermode": "closest",
            "mapbox": {
             "style": "light"
            },
            "paper_bgcolor": "white",
            "plot_bgcolor": "white",
            "polar": {
             "angularaxis": {
              "gridcolor": "#EBF0F8",
              "linecolor": "#EBF0F8",
              "ticks": ""
             },
             "bgcolor": "white",
             "radialaxis": {
              "gridcolor": "#EBF0F8",
              "linecolor": "#EBF0F8",
              "ticks": ""
             }
            },
            "scene": {
             "xaxis": {
              "backgroundcolor": "white",
              "gridcolor": "#DFE8F3",
              "gridwidth": 2,
              "linecolor": "#EBF0F8",
              "showbackground": true,
              "ticks": "",
              "zerolinecolor": "#EBF0F8"
             },
             "yaxis": {
              "backgroundcolor": "white",
              "gridcolor": "#DFE8F3",
              "gridwidth": 2,
              "linecolor": "#EBF0F8",
              "showbackground": true,
              "ticks": "",
              "zerolinecolor": "#EBF0F8"
             },
             "zaxis": {
              "backgroundcolor": "white",
              "gridcolor": "#DFE8F3",
              "gridwidth": 2,
              "linecolor": "#EBF0F8",
              "showbackground": true,
              "ticks": "",
              "zerolinecolor": "#EBF0F8"
             }
            },
            "shapedefaults": {
             "line": {
              "color": "#2a3f5f"
             }
            },
            "ternary": {
             "aaxis": {
              "gridcolor": "#DFE8F3",
              "linecolor": "#A2B1C6",
              "ticks": ""
             },
             "baxis": {
              "gridcolor": "#DFE8F3",
              "linecolor": "#A2B1C6",
              "ticks": ""
             },
             "bgcolor": "white",
             "caxis": {
              "gridcolor": "#DFE8F3",
              "linecolor": "#A2B1C6",
              "ticks": ""
             }
            },
            "title": {
             "x": 0.05
            },
            "xaxis": {
             "automargin": true,
             "gridcolor": "#EBF0F8",
             "linecolor": "#EBF0F8",
             "ticks": "",
             "title": {
              "standoff": 15
             },
             "zerolinecolor": "#EBF0F8",
             "zerolinewidth": 2
            },
            "yaxis": {
             "automargin": true,
             "gridcolor": "#EBF0F8",
             "linecolor": "#EBF0F8",
             "ticks": "",
             "title": {
              "standoff": 15
             },
             "zerolinecolor": "#EBF0F8",
             "zerolinewidth": 2
            }
           }
          },
          "xaxis": {
           "automargin": false,
           "linecolor": "#444",
           "linewidth": 2,
           "minor": {
            "tickmode": "linear",
            "ticks": "outside"
           },
           "mirror": true,
           "showline": true,
           "tickmode": "linear",
           "ticks": "outside",
           "zeroline": false
          },
          "yaxis": {
           "automargin": false,
           "linecolor": "#444",
           "linewidth": 2,
           "minor": {
            "tickmode": "linear",
            "ticks": "outside"
           },
           "mirror": true,
           "showline": true,
           "ticks": "outside",
           "zeroline": false
          }
         }
        },
        "width": 600,
        "xaxis": {
         "dtick": 5,
         "minor": {
          "dtick": 1,
          "tick0": 0
         },
         "range": [
          0,
          31
         ],
         "tick0": 0,
         "title": {
          "text": "CR"
         }
        },
        "yaxis": {
         "dtick": 0.2,
         "minor": {
          "dtick": 0.1,
          "tick0": 0
         },
         "range": [
          -0.01,
          1.01
         ],
         "tick0": 0,
         "title": {
          "text": "saving throw proficiency probability"
         }
        }
       }
      }
     },
     "metadata": {},
     "output_type": "display_data"
    }
   ],
   "source": [
    "# Saving throw proficiency\n",
    "columns = ['Str Prof','Dex Prof','Con Prof','Int Prof','Wis Prof','Cha Prof']\n",
    "colors = ['#d62728','#9467bd','#8c564b','#1f77b4','#2ca02c','#ff7f0e']\n",
    "\n",
    "df1 = df0[df0['Category'].isin(['generic','legendary','unique']) & df0['CR'].between(1, 30)]\n",
    "\n",
    "# create figure\n",
    "fig = go.Figure(\n",
    "    layout=go.Layout(\n",
    "        template=tfb.FIG_TEMPLATE,\n",
    "        margin=dict(l=70, r=25, b=55, t=20, pad=4),\n",
    "        xaxis=dict(\n",
    "            title_text='CR',\n",
    "            range=[0,31],\n",
    "            tick0=0, dtick=5,\n",
    "            minor=dict(tick0=0, dtick=1),\n",
    "        ),\n",
    "        yaxis=dict(\n",
    "            title_text='saving throw proficiency probability',\n",
    "            range=[-0.01,1.01],\n",
    "            tick0=0, dtick=0.2,\n",
    "            minor=dict(tick0=0, dtick=0.1),\n",
    "        ),\n",
    "        legend=dict(\n",
    "            xanchor='left', yanchor='top',\n",
    "            x=0.00, y=1.00,\n",
    "            orientation='v',\n",
    "            tracegroupgap=0,\n",
    "        )\n",
    "    )\n",
    ")\n",
    "\n",
    "for column, color in zip(columns, colors):\n",
    "    plot_mean_fit(fig, df1, 'CR', column, column, color)\n",
    "\n",
    "# show figure\n",
    "fig.update_layout(width=600, height=500)\n",
    "fig.show(config=tfb.FIG_CONFIG)\n",
    "\n",
    "# save figures\n",
    "if SAVEFIGS:\n",
    "    fig.update_layout(autosize=True, width=None, height=None)\n",
    "    tfb.save_fig_html(fig, format='large', name='fig-saving-throw-proficiency-vs-cr-large')\n",
    "    tfb.save_fig_html(fig, format='small', name='fig-saving-throw-proficiency-vs-cr-small')"
   ]
  },
  {
   "cell_type": "code",
   "execution_count": 12,
   "metadata": {},
   "outputs": [
    {
     "data": {
      "application/vnd.plotly.v1+json": {
       "config": {
        "autosizable": true,
        "displayModeBar": "hover",
        "displaylogo": false,
        "modeBarButtonsToRemove": [
         "select2d",
         "lasso2d",
         "zoom2d",
         "zoomIn2d",
         "zoomOut2d",
         "pan2d",
         "autoScale2d",
         "hoverClosestCartesian",
         "hoverCompareCartesian",
         "toggleSpikelines",
         "resetScale2d"
        ],
        "plotlyServerURL": "https://plot.ly",
        "responsive": true,
        "showAxisDragHandles": false,
        "toImageButtonOptions": {
         "filename": "tfb-plot",
         "format": "png",
         "height": 450,
         "scale": 2,
         "width": 600
        }
       },
       "data": [
        {
         "hovertemplate": "<b>Str PB</b><br>CR %{x:,.0f}<br>Mean %{y:,.1f}<br><extra></extra>",
         "legendgroup": "Str PB",
         "line": {
          "color": "#d62728"
         },
         "mode": "markers",
         "name": "Str PB",
         "type": "scatter",
         "x": [
          1,
          2,
          3,
          4,
          5,
          6,
          7,
          8,
          9,
          10,
          11,
          12,
          13,
          14,
          15,
          16,
          17,
          18,
          19,
          20,
          21,
          22,
          23,
          24,
          25,
          26,
          27,
          28,
          30
         ],
         "y": [
          0,
          0.06557377049180328,
          0.13245033112582782,
          0.1308411214953271,
          0.2357142857142857,
          0.35064935064935066,
          0.19230769230769232,
          0.3,
          0.4528301886792453,
          0.36363636363636365,
          0.6363636363636364,
          0.875,
          0.7894736842105263,
          0.7407407407407407,
          0.7142857142857143,
          1.5384615384615385,
          0.75,
          1.2,
          1.0909090909090908,
          0.5454545454545454,
          0.4375,
          0,
          0.9545454545454546,
          0.5,
          0.8888888888888888,
          0,
          0,
          1.1428571428571428,
          2.25
         ]
        },
        {
         "hoverinfo": "skip",
         "legendgroup": "Str PB",
         "line": {
          "color": "#d62728"
         },
         "mode": "lines",
         "name": "Str PB",
         "showlegend": false,
         "type": "scatter",
         "x": [
          1,
          2,
          3,
          4,
          5,
          6,
          7,
          8,
          9,
          10,
          11,
          12,
          13,
          14,
          15,
          16,
          17,
          18,
          19,
          20,
          21,
          22,
          23,
          24,
          25,
          26,
          27,
          28,
          30
         ],
         "y": [
          0.1845626443271415,
          0.21386526559330876,
          0.243167886859476,
          0.2724705081256433,
          0.3017731293918105,
          0.3310757506579778,
          0.360378371924145,
          0.38968099319031224,
          0.4189836144564795,
          0.44828623572264675,
          0.47758885698881404,
          0.5068914782549813,
          0.5361940995211485,
          0.5654967207873158,
          0.5947993420534831,
          0.6241019633196503,
          0.6534045845858175,
          0.6827072058519847,
          0.7120098271181521,
          0.7413124483843192,
          0.7706150696504865,
          0.7999176909166539,
          0.829220312182821,
          0.8585229334489883,
          0.8878255547151555,
          0.9171281759813228,
          0.9464307972474901,
          0.9757334185136572,
          1.034338661045992
         ]
        },
        {
         "hovertemplate": "<b>Dex PB</b><br>CR %{x:,.0f}<br>Mean %{y:,.1f}<br><extra></extra>",
         "legendgroup": "Dex PB",
         "line": {
          "color": "#9467bd"
         },
         "mode": "markers",
         "name": "Dex PB",
         "type": "scatter",
         "x": [
          1,
          2,
          3,
          4,
          5,
          6,
          7,
          8,
          9,
          10,
          11,
          12,
          13,
          14,
          15,
          16,
          17,
          18,
          19,
          20,
          21,
          22,
          23,
          24,
          25,
          26,
          27,
          28,
          30
         ],
         "y": [
          0.1694915254237288,
          0.30601092896174864,
          0.2781456953642384,
          0.2803738317757009,
          0.6,
          0.42857142857142855,
          0.7692307692307693,
          0.6375,
          0.9056603773584906,
          1.1818181818181819,
          1.2727272727272727,
          1.125,
          1.5789473684210527,
          1.8518518518518519,
          2.142857142857143,
          1.9230769230769231,
          3.75,
          2,
          2.727272727272727,
          2.727272727272727,
          4.375,
          3.0625,
          4.7727272727272725,
          6,
          6.222222222222222,
          6,
          8,
          5.714285714285714,
          4.5
         ]
        },
        {
         "hoverinfo": "skip",
         "legendgroup": "Dex PB",
         "line": {
          "color": "#9467bd"
         },
         "mode": "lines",
         "name": "Dex PB",
         "showlegend": false,
         "type": "scatter",
         "x": [
          1,
          2,
          3,
          4,
          5,
          6,
          7,
          8,
          9,
          10,
          11,
          12,
          13,
          14,
          15,
          16,
          17,
          18,
          19,
          20,
          21,
          22,
          23,
          24,
          25,
          26,
          27,
          28,
          30
         ],
         "y": [
          -0.7105103507991115,
          -0.47486577061632684,
          -0.23922119043354206,
          -0.003576610250757395,
          0.23206796993202727,
          0.46771255011481216,
          0.7033571302975968,
          0.9390017104803815,
          1.174646290663166,
          1.4102908708459507,
          1.6459354510287354,
          1.8815800312115205,
          2.117224611394305,
          2.35286919157709,
          2.5885137717598745,
          2.824158351942659,
          3.0598029321254443,
          3.2954475123082285,
          3.5310920924910136,
          3.766736672673798,
          4.002381252856583,
          4.238025833039368,
          4.473670413222153,
          4.709314993404938,
          4.944959573587722,
          5.180604153770507,
          5.416248733953291,
          5.6518933141360765,
          6.123182474501646
         ]
        },
        {
         "hovertemplate": "<b>Con PB</b><br>CR %{x:,.0f}<br>Mean %{y:,.1f}<br><extra></extra>",
         "legendgroup": "Con PB",
         "line": {
          "color": "#8c564b"
         },
         "mode": "markers",
         "name": "Con PB",
         "type": "scatter",
         "x": [
          1,
          2,
          3,
          4,
          5,
          6,
          7,
          8,
          9,
          10,
          11,
          12,
          13,
          14,
          15,
          16,
          17,
          18,
          19,
          20,
          21,
          22,
          23,
          24,
          25,
          26,
          27,
          28,
          30
         ],
         "y": [
          0.1016949152542373,
          0.19672131147540983,
          0.23841059602649006,
          0.3925233644859813,
          0.6214285714285714,
          0.6623376623376623,
          1.0384615384615385,
          1.0875,
          2.0377358490566038,
          1.7272727272727273,
          1.5454545454545454,
          2.125,
          3.026315789473684,
          3.5185185185185186,
          2.857142857142857,
          2.6923076923076925,
          3.75,
          4.4,
          3.8181818181818183,
          4.909090909090909,
          5.6875,
          5.25,
          5.7272727272727275,
          6.5,
          6.222222222222222,
          6.666666666666667,
          8,
          8,
          4.5
         ]
        },
        {
         "hoverinfo": "skip",
         "legendgroup": "Con PB",
         "line": {
          "color": "#8c564b"
         },
         "mode": "lines",
         "name": "Con PB",
         "showlegend": false,
         "type": "scatter",
         "x": [
          1,
          2,
          3,
          4,
          5,
          6,
          7,
          8,
          9,
          10,
          11,
          12,
          13,
          14,
          15,
          16,
          17,
          18,
          19,
          20,
          21,
          22,
          23,
          24,
          25,
          26,
          27,
          28,
          30
         ],
         "y": [
          -0.4337189464400963,
          -0.1637493893666475,
          0.1062201677068012,
          0.37618972478025003,
          0.6461592818536989,
          0.9161288389271475,
          1.1860983960005962,
          1.456067953074045,
          1.7260375101474938,
          1.9960070672209427,
          2.2659766242943915,
          2.53594618136784,
          2.8059157384412887,
          3.0758852955147375,
          3.345854852588187,
          3.615824409661635,
          3.8857939667350836,
          4.155763523808533,
          4.425733080881981,
          4.6957026379554305,
          4.965672195028879,
          5.235641752102328,
          5.505611309175777,
          5.775580866249225,
          6.045550423322674,
          6.315519980396123,
          6.585489537469572,
          6.85545909454302,
          7.395398208689919
         ]
        },
        {
         "hovertemplate": "<b>Int PB</b><br>CR %{x:,.0f}<br>Mean %{y:,.1f}<br><extra></extra>",
         "legendgroup": "Int PB",
         "line": {
          "color": "#1f77b4"
         },
         "mode": "markers",
         "name": "Int PB",
         "type": "scatter",
         "x": [
          1,
          2,
          3,
          4,
          5,
          6,
          7,
          8,
          9,
          10,
          11,
          12,
          13,
          14,
          15,
          16,
          17,
          18,
          19,
          20,
          21,
          22,
          23,
          24,
          25,
          26,
          27,
          28,
          30
         ],
         "y": [
          0.05084745762711865,
          0.12021857923497267,
          0.15894039735099338,
          0.16822429906542055,
          0.5571428571428572,
          0.6623376623376623,
          0.7692307692307693,
          0.75,
          0.6792452830188679,
          1,
          0.5454545454545454,
          0.875,
          1.8421052631578947,
          1.2962962962962963,
          1.1904761904761905,
          1.1538461538461537,
          2.25,
          2.8,
          1.6363636363636365,
          1.0909090909090908,
          2.625,
          3.0625,
          2.227272727272727,
          1,
          2.6666666666666665,
          2,
          0,
          6.857142857142857,
          4.5
         ]
        },
        {
         "hoverinfo": "skip",
         "legendgroup": "Int PB",
         "line": {
          "color": "#1f77b4"
         },
         "mode": "lines",
         "name": "Int PB",
         "showlegend": false,
         "type": "scatter",
         "x": [
          1,
          2,
          3,
          4,
          5,
          6,
          7,
          8,
          9,
          10,
          11,
          12,
          13,
          14,
          15,
          16,
          17,
          18,
          19,
          20,
          21,
          22,
          23,
          24,
          25,
          26,
          27,
          28,
          30
         ],
         "y": [
          -0.14111946347828086,
          -0.021641121528735735,
          0.09783722042080939,
          0.2173155623703545,
          0.33679390431989964,
          0.45627224626944474,
          0.5757505882189898,
          0.6952289301685349,
          0.8147072721180801,
          0.9341856140676252,
          1.0536639560171703,
          1.1731422979667154,
          1.2926206399162605,
          1.4120989818658056,
          1.5315773238153507,
          1.6510556657648958,
          1.7705340077144411,
          1.8900123496639862,
          2.0094906916135313,
          2.1289690335630764,
          2.2484473755126215,
          2.3679257174621666,
          2.4874040594117117,
          2.606882401361257,
          2.726360743310802,
          2.845839085260347,
          2.965317427209892,
          3.084795769159437,
          3.3237524530585274
         ]
        },
        {
         "hovertemplate": "<b>Wis PB</b><br>CR %{x:,.0f}<br>Mean %{y:,.1f}<br><extra></extra>",
         "legendgroup": "Wis PB",
         "line": {
          "color": "#2ca02c"
         },
         "mode": "markers",
         "name": "Wis PB",
         "type": "scatter",
         "x": [
          1,
          2,
          3,
          4,
          5,
          6,
          7,
          8,
          9,
          10,
          11,
          12,
          13,
          14,
          15,
          16,
          17,
          18,
          19,
          20,
          21,
          22,
          23,
          24,
          25,
          26,
          27,
          28,
          30
         ],
         "y": [
          0.1864406779661017,
          0.4262295081967213,
          0.3708609271523179,
          0.6728971962616822,
          1.1142857142857143,
          1.4025974025974026,
          1.7307692307692308,
          1.575,
          2.188679245283019,
          2.6363636363636362,
          2.4545454545454546,
          2.875,
          3.5526315789473686,
          4.074074074074074,
          3.8095238095238093,
          4.038461538461538,
          5.625,
          4.8,
          4.363636363636363,
          5.454545454545454,
          7,
          6.5625,
          6.363636363636363,
          7,
          8,
          8,
          8,
          8,
          9
         ]
        },
        {
         "hoverinfo": "skip",
         "legendgroup": "Wis PB",
         "line": {
          "color": "#2ca02c"
         },
         "mode": "lines",
         "name": "Wis PB",
         "showlegend": false,
         "type": "scatter",
         "x": [
          1,
          2,
          3,
          4,
          5,
          6,
          7,
          8,
          9,
          10,
          11,
          12,
          13,
          14,
          15,
          16,
          17,
          18,
          19,
          20,
          21,
          22,
          23,
          24,
          25,
          26,
          27,
          28,
          30
         ],
         "y": [
          -0.2520220722050913,
          0.063914827721675,
          0.37985172764844133,
          0.6957886275752077,
          1.0117255275019739,
          1.3276624274287403,
          1.6435993273555067,
          1.959536227282273,
          2.275473127209039,
          2.5914100271358054,
          2.907346927062572,
          3.2232838269893382,
          3.5392207269161045,
          3.855157626842871,
          4.171094526769637,
          4.4870314266964035,
          4.80296832662317,
          5.118905226549936,
          5.434842126476703,
          5.750779026403468,
          6.066715926330235,
          6.382652826257002,
          6.6985897261837675,
          7.014526626110534,
          7.330463526037301,
          7.6464004259640665,
          7.962337325890833,
          8.2782742258176,
          8.91014802567113
         ]
        },
        {
         "hovertemplate": "<b>Cha PB</b><br>CR %{x:,.0f}<br>Mean %{y:,.1f}<br><extra></extra>",
         "legendgroup": "Cha PB",
         "line": {
          "color": "#ff7f0e"
         },
         "mode": "markers",
         "name": "Cha PB",
         "type": "scatter",
         "x": [
          1,
          2,
          3,
          4,
          5,
          6,
          7,
          8,
          9,
          10,
          11,
          12,
          13,
          14,
          15,
          16,
          17,
          18,
          19,
          20,
          21,
          22,
          23,
          24,
          25,
          26,
          27,
          28,
          30
         ],
         "y": [
          0.0847457627118644,
          0.25136612021857924,
          0.15894039735099338,
          0.3177570093457944,
          0.5571428571428572,
          0.8571428571428571,
          1,
          0.9375,
          1.2075471698113207,
          1.0909090909090908,
          1.4545454545454546,
          1.25,
          2.8947368421052633,
          2.5925925925925926,
          3.0952380952380953,
          3.269230769230769,
          3.75,
          4.4,
          4.363636363636363,
          4.363636363636363,
          4.375,
          5.25,
          3.1818181818181817,
          3.5,
          3.5555555555555554,
          5.333333333333333,
          8,
          8,
          6.75
         ]
        },
        {
         "hoverinfo": "skip",
         "legendgroup": "Cha PB",
         "line": {
          "color": "#ff7f0e"
         },
         "mode": "lines",
         "name": "Cha PB",
         "showlegend": false,
         "type": "scatter",
         "x": [
          1,
          2,
          3,
          4,
          5,
          6,
          7,
          8,
          9,
          10,
          11,
          12,
          13,
          14,
          15,
          16,
          17,
          18,
          19,
          20,
          21,
          22,
          23,
          24,
          25,
          26,
          27,
          28,
          30
         ],
         "y": [
          -0.4981812337320891,
          -0.2517693649493965,
          -0.00535749616670389,
          0.24105437261598872,
          0.48746624139868133,
          0.7338781101813739,
          0.9802899789640666,
          1.2267018477467593,
          1.4731137165294519,
          1.7195255853121445,
          1.9659374540948371,
          2.2123493228775297,
          2.4587611916602223,
          2.705173060442915,
          2.9515849292256076,
          3.1979967980083,
          3.4444086667909923,
          3.6908205355736854,
          3.9372324043563784,
          4.183644273139071,
          4.430056141921763,
          4.676468010704456,
          4.922879879487149,
          5.169291748269841,
          5.415703617052533,
          5.662115485835226,
          5.908527354617919,
          6.1549392234006115,
          6.647762960965997
         ]
        }
       ],
       "layout": {
        "height": 500,
        "legend": {
         "orientation": "v",
         "tracegroupgap": 0,
         "x": 0,
         "xanchor": "left",
         "y": 1,
         "yanchor": "top"
        },
        "margin": {
         "b": 55,
         "l": 70,
         "pad": 4,
         "r": 25,
         "t": 20
        },
        "template": {
         "layout": {
          "autosize": false,
          "font": {
           "family": "sans-serif",
           "size": 14
          },
          "hoverlabel": {
           "align": "left"
          },
          "hovermode": "closest",
          "margin": {
           "b": 55,
           "l": 60,
           "pad": 4,
           "r": 25,
           "t": 20
          },
          "template": {
           "data": {
            "bar": [
             {
              "error_x": {
               "color": "#2a3f5f"
              },
              "error_y": {
               "color": "#2a3f5f"
              },
              "marker": {
               "line": {
                "color": "white",
                "width": 0.5
               },
               "pattern": {
                "fillmode": "overlay",
                "size": 10,
                "solidity": 0.2
               }
              },
              "type": "bar"
             }
            ],
            "barpolar": [
             {
              "marker": {
               "line": {
                "color": "white",
                "width": 0.5
               },
               "pattern": {
                "fillmode": "overlay",
                "size": 10,
                "solidity": 0.2
               }
              },
              "type": "barpolar"
             }
            ],
            "carpet": [
             {
              "aaxis": {
               "endlinecolor": "#2a3f5f",
               "gridcolor": "#C8D4E3",
               "linecolor": "#C8D4E3",
               "minorgridcolor": "#C8D4E3",
               "startlinecolor": "#2a3f5f"
              },
              "baxis": {
               "endlinecolor": "#2a3f5f",
               "gridcolor": "#C8D4E3",
               "linecolor": "#C8D4E3",
               "minorgridcolor": "#C8D4E3",
               "startlinecolor": "#2a3f5f"
              },
              "type": "carpet"
             }
            ],
            "choropleth": [
             {
              "colorbar": {
               "outlinewidth": 0,
               "ticks": ""
              },
              "type": "choropleth"
             }
            ],
            "contour": [
             {
              "colorbar": {
               "outlinewidth": 0,
               "ticks": ""
              },
              "colorscale": [
               [
                0,
                "#0d0887"
               ],
               [
                0.1111111111111111,
                "#46039f"
               ],
               [
                0.2222222222222222,
                "#7201a8"
               ],
               [
                0.3333333333333333,
                "#9c179e"
               ],
               [
                0.4444444444444444,
                "#bd3786"
               ],
               [
                0.5555555555555556,
                "#d8576b"
               ],
               [
                0.6666666666666666,
                "#ed7953"
               ],
               [
                0.7777777777777778,
                "#fb9f3a"
               ],
               [
                0.8888888888888888,
                "#fdca26"
               ],
               [
                1,
                "#f0f921"
               ]
              ],
              "type": "contour"
             }
            ],
            "contourcarpet": [
             {
              "colorbar": {
               "outlinewidth": 0,
               "ticks": ""
              },
              "type": "contourcarpet"
             }
            ],
            "heatmap": [
             {
              "colorbar": {
               "outlinewidth": 0,
               "ticks": ""
              },
              "colorscale": [
               [
                0,
                "#0d0887"
               ],
               [
                0.1111111111111111,
                "#46039f"
               ],
               [
                0.2222222222222222,
                "#7201a8"
               ],
               [
                0.3333333333333333,
                "#9c179e"
               ],
               [
                0.4444444444444444,
                "#bd3786"
               ],
               [
                0.5555555555555556,
                "#d8576b"
               ],
               [
                0.6666666666666666,
                "#ed7953"
               ],
               [
                0.7777777777777778,
                "#fb9f3a"
               ],
               [
                0.8888888888888888,
                "#fdca26"
               ],
               [
                1,
                "#f0f921"
               ]
              ],
              "type": "heatmap"
             }
            ],
            "heatmapgl": [
             {
              "colorbar": {
               "outlinewidth": 0,
               "ticks": ""
              },
              "colorscale": [
               [
                0,
                "#0d0887"
               ],
               [
                0.1111111111111111,
                "#46039f"
               ],
               [
                0.2222222222222222,
                "#7201a8"
               ],
               [
                0.3333333333333333,
                "#9c179e"
               ],
               [
                0.4444444444444444,
                "#bd3786"
               ],
               [
                0.5555555555555556,
                "#d8576b"
               ],
               [
                0.6666666666666666,
                "#ed7953"
               ],
               [
                0.7777777777777778,
                "#fb9f3a"
               ],
               [
                0.8888888888888888,
                "#fdca26"
               ],
               [
                1,
                "#f0f921"
               ]
              ],
              "type": "heatmapgl"
             }
            ],
            "histogram": [
             {
              "marker": {
               "pattern": {
                "fillmode": "overlay",
                "size": 10,
                "solidity": 0.2
               }
              },
              "type": "histogram"
             }
            ],
            "histogram2d": [
             {
              "colorbar": {
               "outlinewidth": 0,
               "ticks": ""
              },
              "colorscale": [
               [
                0,
                "#0d0887"
               ],
               [
                0.1111111111111111,
                "#46039f"
               ],
               [
                0.2222222222222222,
                "#7201a8"
               ],
               [
                0.3333333333333333,
                "#9c179e"
               ],
               [
                0.4444444444444444,
                "#bd3786"
               ],
               [
                0.5555555555555556,
                "#d8576b"
               ],
               [
                0.6666666666666666,
                "#ed7953"
               ],
               [
                0.7777777777777778,
                "#fb9f3a"
               ],
               [
                0.8888888888888888,
                "#fdca26"
               ],
               [
                1,
                "#f0f921"
               ]
              ],
              "type": "histogram2d"
             }
            ],
            "histogram2dcontour": [
             {
              "colorbar": {
               "outlinewidth": 0,
               "ticks": ""
              },
              "colorscale": [
               [
                0,
                "#0d0887"
               ],
               [
                0.1111111111111111,
                "#46039f"
               ],
               [
                0.2222222222222222,
                "#7201a8"
               ],
               [
                0.3333333333333333,
                "#9c179e"
               ],
               [
                0.4444444444444444,
                "#bd3786"
               ],
               [
                0.5555555555555556,
                "#d8576b"
               ],
               [
                0.6666666666666666,
                "#ed7953"
               ],
               [
                0.7777777777777778,
                "#fb9f3a"
               ],
               [
                0.8888888888888888,
                "#fdca26"
               ],
               [
                1,
                "#f0f921"
               ]
              ],
              "type": "histogram2dcontour"
             }
            ],
            "mesh3d": [
             {
              "colorbar": {
               "outlinewidth": 0,
               "ticks": ""
              },
              "type": "mesh3d"
             }
            ],
            "parcoords": [
             {
              "line": {
               "colorbar": {
                "outlinewidth": 0,
                "ticks": ""
               }
              },
              "type": "parcoords"
             }
            ],
            "pie": [
             {
              "automargin": true,
              "type": "pie"
             }
            ],
            "scatter": [
             {
              "fillpattern": {
               "fillmode": "overlay",
               "size": 10,
               "solidity": 0.2
              },
              "type": "scatter"
             }
            ],
            "scatter3d": [
             {
              "line": {
               "colorbar": {
                "outlinewidth": 0,
                "ticks": ""
               }
              },
              "marker": {
               "colorbar": {
                "outlinewidth": 0,
                "ticks": ""
               }
              },
              "type": "scatter3d"
             }
            ],
            "scattercarpet": [
             {
              "marker": {
               "colorbar": {
                "outlinewidth": 0,
                "ticks": ""
               }
              },
              "type": "scattercarpet"
             }
            ],
            "scattergeo": [
             {
              "marker": {
               "colorbar": {
                "outlinewidth": 0,
                "ticks": ""
               }
              },
              "type": "scattergeo"
             }
            ],
            "scattergl": [
             {
              "marker": {
               "colorbar": {
                "outlinewidth": 0,
                "ticks": ""
               }
              },
              "type": "scattergl"
             }
            ],
            "scattermapbox": [
             {
              "marker": {
               "colorbar": {
                "outlinewidth": 0,
                "ticks": ""
               }
              },
              "type": "scattermapbox"
             }
            ],
            "scatterpolar": [
             {
              "marker": {
               "colorbar": {
                "outlinewidth": 0,
                "ticks": ""
               }
              },
              "type": "scatterpolar"
             }
            ],
            "scatterpolargl": [
             {
              "marker": {
               "colorbar": {
                "outlinewidth": 0,
                "ticks": ""
               }
              },
              "type": "scatterpolargl"
             }
            ],
            "scatterternary": [
             {
              "marker": {
               "colorbar": {
                "outlinewidth": 0,
                "ticks": ""
               }
              },
              "type": "scatterternary"
             }
            ],
            "surface": [
             {
              "colorbar": {
               "outlinewidth": 0,
               "ticks": ""
              },
              "colorscale": [
               [
                0,
                "#0d0887"
               ],
               [
                0.1111111111111111,
                "#46039f"
               ],
               [
                0.2222222222222222,
                "#7201a8"
               ],
               [
                0.3333333333333333,
                "#9c179e"
               ],
               [
                0.4444444444444444,
                "#bd3786"
               ],
               [
                0.5555555555555556,
                "#d8576b"
               ],
               [
                0.6666666666666666,
                "#ed7953"
               ],
               [
                0.7777777777777778,
                "#fb9f3a"
               ],
               [
                0.8888888888888888,
                "#fdca26"
               ],
               [
                1,
                "#f0f921"
               ]
              ],
              "type": "surface"
             }
            ],
            "table": [
             {
              "cells": {
               "fill": {
                "color": "#EBF0F8"
               },
               "line": {
                "color": "white"
               }
              },
              "header": {
               "fill": {
                "color": "#C8D4E3"
               },
               "line": {
                "color": "white"
               }
              },
              "type": "table"
             }
            ]
           },
           "layout": {
            "annotationdefaults": {
             "arrowcolor": "#2a3f5f",
             "arrowhead": 0,
             "arrowwidth": 1
            },
            "autotypenumbers": "strict",
            "coloraxis": {
             "colorbar": {
              "outlinewidth": 0,
              "ticks": ""
             }
            },
            "colorscale": {
             "diverging": [
              [
               0,
               "#8e0152"
              ],
              [
               0.1,
               "#c51b7d"
              ],
              [
               0.2,
               "#de77ae"
              ],
              [
               0.3,
               "#f1b6da"
              ],
              [
               0.4,
               "#fde0ef"
              ],
              [
               0.5,
               "#f7f7f7"
              ],
              [
               0.6,
               "#e6f5d0"
              ],
              [
               0.7,
               "#b8e186"
              ],
              [
               0.8,
               "#7fbc41"
              ],
              [
               0.9,
               "#4d9221"
              ],
              [
               1,
               "#276419"
              ]
             ],
             "sequential": [
              [
               0,
               "#0d0887"
              ],
              [
               0.1111111111111111,
               "#46039f"
              ],
              [
               0.2222222222222222,
               "#7201a8"
              ],
              [
               0.3333333333333333,
               "#9c179e"
              ],
              [
               0.4444444444444444,
               "#bd3786"
              ],
              [
               0.5555555555555556,
               "#d8576b"
              ],
              [
               0.6666666666666666,
               "#ed7953"
              ],
              [
               0.7777777777777778,
               "#fb9f3a"
              ],
              [
               0.8888888888888888,
               "#fdca26"
              ],
              [
               1,
               "#f0f921"
              ]
             ],
             "sequentialminus": [
              [
               0,
               "#0d0887"
              ],
              [
               0.1111111111111111,
               "#46039f"
              ],
              [
               0.2222222222222222,
               "#7201a8"
              ],
              [
               0.3333333333333333,
               "#9c179e"
              ],
              [
               0.4444444444444444,
               "#bd3786"
              ],
              [
               0.5555555555555556,
               "#d8576b"
              ],
              [
               0.6666666666666666,
               "#ed7953"
              ],
              [
               0.7777777777777778,
               "#fb9f3a"
              ],
              [
               0.8888888888888888,
               "#fdca26"
              ],
              [
               1,
               "#f0f921"
              ]
             ]
            },
            "colorway": [
             "#636efa",
             "#EF553B",
             "#00cc96",
             "#ab63fa",
             "#FFA15A",
             "#19d3f3",
             "#FF6692",
             "#B6E880",
             "#FF97FF",
             "#FECB52"
            ],
            "font": {
             "color": "#2a3f5f"
            },
            "geo": {
             "bgcolor": "white",
             "lakecolor": "white",
             "landcolor": "white",
             "showlakes": true,
             "showland": true,
             "subunitcolor": "#C8D4E3"
            },
            "hoverlabel": {
             "align": "left"
            },
            "hovermode": "closest",
            "mapbox": {
             "style": "light"
            },
            "paper_bgcolor": "white",
            "plot_bgcolor": "white",
            "polar": {
             "angularaxis": {
              "gridcolor": "#EBF0F8",
              "linecolor": "#EBF0F8",
              "ticks": ""
             },
             "bgcolor": "white",
             "radialaxis": {
              "gridcolor": "#EBF0F8",
              "linecolor": "#EBF0F8",
              "ticks": ""
             }
            },
            "scene": {
             "xaxis": {
              "backgroundcolor": "white",
              "gridcolor": "#DFE8F3",
              "gridwidth": 2,
              "linecolor": "#EBF0F8",
              "showbackground": true,
              "ticks": "",
              "zerolinecolor": "#EBF0F8"
             },
             "yaxis": {
              "backgroundcolor": "white",
              "gridcolor": "#DFE8F3",
              "gridwidth": 2,
              "linecolor": "#EBF0F8",
              "showbackground": true,
              "ticks": "",
              "zerolinecolor": "#EBF0F8"
             },
             "zaxis": {
              "backgroundcolor": "white",
              "gridcolor": "#DFE8F3",
              "gridwidth": 2,
              "linecolor": "#EBF0F8",
              "showbackground": true,
              "ticks": "",
              "zerolinecolor": "#EBF0F8"
             }
            },
            "shapedefaults": {
             "line": {
              "color": "#2a3f5f"
             }
            },
            "ternary": {
             "aaxis": {
              "gridcolor": "#DFE8F3",
              "linecolor": "#A2B1C6",
              "ticks": ""
             },
             "baxis": {
              "gridcolor": "#DFE8F3",
              "linecolor": "#A2B1C6",
              "ticks": ""
             },
             "bgcolor": "white",
             "caxis": {
              "gridcolor": "#DFE8F3",
              "linecolor": "#A2B1C6",
              "ticks": ""
             }
            },
            "title": {
             "x": 0.05
            },
            "xaxis": {
             "automargin": true,
             "gridcolor": "#EBF0F8",
             "linecolor": "#EBF0F8",
             "ticks": "",
             "title": {
              "standoff": 15
             },
             "zerolinecolor": "#EBF0F8",
             "zerolinewidth": 2
            },
            "yaxis": {
             "automargin": true,
             "gridcolor": "#EBF0F8",
             "linecolor": "#EBF0F8",
             "ticks": "",
             "title": {
              "standoff": 15
             },
             "zerolinecolor": "#EBF0F8",
             "zerolinewidth": 2
            }
           }
          },
          "xaxis": {
           "automargin": false,
           "linecolor": "#444",
           "linewidth": 2,
           "minor": {
            "tickmode": "linear",
            "ticks": "outside"
           },
           "mirror": true,
           "showline": true,
           "tickmode": "linear",
           "ticks": "outside",
           "zeroline": false
          },
          "yaxis": {
           "automargin": false,
           "linecolor": "#444",
           "linewidth": 2,
           "minor": {
            "tickmode": "linear",
            "ticks": "outside"
           },
           "mirror": true,
           "showline": true,
           "ticks": "outside",
           "zeroline": false
          }
         }
        },
        "width": 600,
        "xaxis": {
         "dtick": 5,
         "minor": {
          "dtick": 1,
          "tick0": 0
         },
         "range": [
          0,
          31
         ],
         "tick0": 0,
         "title": {
          "text": "CR"
         }
        },
        "yaxis": {
         "dtick": 2,
         "minor": {
          "dtick": 1,
          "tick0": 0
         },
         "range": [
          -2,
          11
         ],
         "tick0": 0,
         "title": {
          "text": "saving throw bonus"
         }
        }
       }
      }
     },
     "metadata": {},
     "output_type": "display_data"
    }
   ],
   "source": [
    "# Saving throw proficiency bonus\n",
    "columns = ['Str PB','Dex PB','Con PB','Int PB','Wis PB','Cha PB']\n",
    "colors = ['#d62728','#9467bd','#8c564b','#1f77b4','#2ca02c','#ff7f0e']\n",
    "\n",
    "df1 = df0[df0['Category'].isin(['generic','legendary','unique']) & df0['CR'].between(1, 30)]\n",
    "\n",
    "# create figure\n",
    "fig = go.Figure(\n",
    "    layout=go.Layout(\n",
    "        template=tfb.FIG_TEMPLATE,\n",
    "        margin=dict(l=70, r=25, b=55, t=20, pad=4),\n",
    "        xaxis=dict(\n",
    "            title_text='CR',\n",
    "            range=[0,31],\n",
    "            tick0=0, dtick=5,\n",
    "            minor=dict(tick0=0, dtick=1),\n",
    "        ),\n",
    "        yaxis=dict(\n",
    "            title_text='saving throw bonus',\n",
    "            range=[-2,11],\n",
    "            tick0=0, dtick=2,\n",
    "            minor=dict(tick0=0, dtick=1),\n",
    "        ),\n",
    "        legend=dict(\n",
    "            xanchor='left', yanchor='top',\n",
    "            x=0.00, y=1.00,\n",
    "            orientation='v',\n",
    "            tracegroupgap=0,\n",
    "        )\n",
    "    )\n",
    ")\n",
    "\n",
    "for column, color in zip(columns, colors):\n",
    "    plot_mean_fit(fig, df1, 'CR', column, column, color)\n",
    "\n",
    "# show figure\n",
    "fig.update_layout(width=600, height=500)\n",
    "fig.show(config=tfb.FIG_CONFIG)\n",
    "\n",
    "# save figures\n",
    "if SAVEFIGS:\n",
    "    fig.update_layout(autosize=True, width=None, height=None)\n",
    "    tfb.save_fig_html(fig, format='large', name='fig-saving-throw-proficiency-bonus-vs-cr-large')\n",
    "    tfb.save_fig_html(fig, format='small', name='fig-saving-throw-proficiency-bonus-vs-cr-small')"
   ]
  }
 ],
 "metadata": {
  "kernelspec": {
   "display_name": "thefinishedbook",
   "language": "python",
   "name": "python3"
  },
  "language_info": {
   "codemirror_mode": {
    "name": "ipython",
    "version": 3
   },
   "file_extension": ".py",
   "mimetype": "text/x-python",
   "name": "python",
   "nbconvert_exporter": "python",
   "pygments_lexer": "ipython3",
   "version": "3.10.5"
  },
  "metadata": {
   "interpreter": {
    "hash": "aee8b7b246df8f9039afb4144a1f6fd8d2ca17a180786b69acc140d282b71a49"
   }
  },
  "orig_nbformat": 2,
  "vscode": {
   "interpreter": {
    "hash": "e4b90a08ac11b7f80ea6e39e6f46c6e22a0b6d86a47874aaa13784019f162251"
   }
  }
 },
 "nbformat": 4,
 "nbformat_minor": 2
}
