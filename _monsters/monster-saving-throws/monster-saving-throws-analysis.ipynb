{
 "cells": [
  {
   "cell_type": "code",
   "execution_count": 1,
   "metadata": {},
   "outputs": [
    {
     "name": "stdout",
     "output_type": "stream",
     "text": [
      "Includes 2144 monsters in database\n"
     ]
    }
   ],
   "source": [
    "import numpy as np\n",
    "import pandas as pd\n",
    "pd.options.mode.chained_assignment = None  # default='warn'\n",
    "import plotly.graph_objects as go\n",
    "import sys\n",
    "sys.path.append('../../assets/python/')\n",
    "import tfb\n",
    "\n",
    "METADATA = {'Contributor': 'T. Dunn'}\n",
    "SAVEFIGS = False\n",
    "\n",
    "df0 = pd.read_csv('../../assets/data/monsters.csv')\n",
    "df0 = df0.astype({'Book': 'category', 'Category': 'category', 'Legendary': 'category', 'Type': 'category', 'Size': 'category'})\n",
    "df0['Str PB'] = df0['Str Prof']*df0['PB']\n",
    "df0['Dex PB'] = df0['Dex Prof']*df0['PB']\n",
    "df0['Con PB'] = df0['Con Prof']*df0['PB']\n",
    "df0['Wis PB'] = df0['Wis Prof']*df0['PB']\n",
    "df0['Int PB'] = df0['Int Prof']*df0['PB']\n",
    "df0['Cha PB'] = df0['Cha Prof']*df0['PB']\n",
    "print('Includes {} monsters in database'.format(len(df0.index.to_list())))"
   ]
  },
  {
   "cell_type": "code",
   "execution_count": 2,
   "metadata": {},
   "outputs": [],
   "source": [
    "def plot_mean_fit(fig, df0, xCol, yCol, name, line_color):\n",
    "    # plot mean\n",
    "    dfM = df0[[xCol, yCol]].groupby(xCol).mean().reset_index()\n",
    "    fig.add_trace(go.Scatter(\n",
    "        x=dfM[xCol], y=dfM[yCol],\n",
    "        mode='markers', \n",
    "        name=f'{name}',\n",
    "        legendgroup=name, \n",
    "        line_color=line_color,\n",
    "        hovertemplate='<b>' + name + '</b><br>' + 'CR %{x:,.0f}<br>' + 'Mean %{y:,.1f}<br>' + '<extra></extra>'\n",
    "    ))\n",
    "    coefs = np.polyfit(dfM[xCol], dfM[yCol], 1)\n",
    "    poly = np.poly1d(coefs)\n",
    "    fig.add_trace(go.Scatter(\n",
    "        x=dfM[xCol], y=poly(dfM[xCol]),\n",
    "        mode='lines', \n",
    "        name=f'{name}',\n",
    "        legendgroup=name, \n",
    "        line_color=line_color,\n",
    "        hoverinfo='skip',\n",
    "        showlegend=False,\n",
    "    ))"
   ]
  },
  {
   "cell_type": "code",
   "execution_count": 3,
   "metadata": {},
   "outputs": [],
   "source": [
    "def plot_data_and_fit(fig, x, y, **kwargs):\n",
    "    print_coefficients = kwargs.pop('print_coefficients', False)\n",
    "    # plot data\n",
    "    fig.add_trace(go.Scatter(\n",
    "        x=x, y=y,\n",
    "        mode='markers', \n",
    "        **kwargs,\n",
    "    ))\n",
    "\n",
    "    # plot fit\n",
    "    kwargs['hoverinfo'] = 'skip'\n",
    "    kwargs['showlegend'] = False\n",
    "    if kwargs.get('line', None):\n",
    "        kwargs['line']['dash'] = 'solid'\n",
    "\n",
    "    coefs = np.polyfit(x, y, 1)\n",
    "    poly = np.poly1d(coefs)\n",
    "    fig.add_trace(go.Scatter(\n",
    "        x=x, y=poly(x),\n",
    "        mode='lines', \n",
    "        **kwargs,\n",
    "    ))\n",
    "    if print_coefficients: \n",
    "        print(f'CR >= 1: {coefs[1]:.2f} + {coefs[0]:.2f}*CR')\n",
    "    return fig"
   ]
  },
  {
   "cell_type": "code",
   "execution_count": 4,
   "metadata": {},
   "outputs": [
    {
     "name": "stdout",
     "output_type": "stream",
     "text": [
      "CR >= 1: 1.01 + 0.32*CR\n",
      "CR >= 1: 0.47 + 0.26*CR\n",
      "CR >= 1: 0.45 + 0.50*CR\n",
      "CR >= 1: -1.53 + 0.35*CR\n",
      "CR >= 1: -0.44 + 0.47*CR\n",
      "CR >= 1: -1.84 + 0.51*CR\n"
     ]
    },
    {
     "data": {
      "application/vnd.plotly.v1+json": {
       "config": {
        "autosizable": true,
        "displayModeBar": "hover",
        "displaylogo": false,
        "doubleClick": "reset",
        "modeBarButtonsToRemove": [
         "select2d",
         "lasso2d",
         "zoom2d",
         "zoomIn2d",
         "zoomOut2d",
         "pan2d",
         "autoScale2d",
         "hoverClosestCartesian",
         "hoverCompareCartesian",
         "toggleSpikelines",
         "resetScale2d"
        ],
        "plotlyServerURL": "https://plot.ly",
        "responsive": true,
        "showAxisDragHandles": false,
        "toImageButtonOptions": {
         "filename": "tfb-plot",
         "format": "png",
         "height": 450,
         "scale": 2,
         "width": 600
        }
       },
       "data": [
        {
         "hovertemplate": "<b>Str Save</b><br>CR %{x}<br>mean %{y:,.1f}<extra></extra>",
         "line": {
          "color": "#d62728"
         },
         "mode": "markers",
         "name": "Str Save",
         "type": "scatter",
         "x": [
          1,
          2,
          3,
          4,
          5,
          6,
          7,
          8,
          9,
          10,
          11,
          12,
          13,
          14,
          15,
          16,
          17,
          18,
          19,
          20,
          21,
          22,
          23,
          24,
          25,
          26,
          27,
          28,
          30
         ],
         "y": [
          1.015625,
          1.6326530612244898,
          2.3117647058823527,
          2.3057851239669422,
          2.698717948717949,
          3.4269662921348316,
          3.0112359550561796,
          3.5869565217391304,
          4.208955223880597,
          4.3090909090909095,
          5.142857142857143,
          5.372093023255814,
          4.906976744186046,
          5.40625,
          6.166666666666667,
          7.142857142857143,
          5.8076923076923075,
          5.304347826086956,
          7.133333333333334,
          6.8125,
          6.2272727272727275,
          6.636363636363637,
          8.538461538461538,
          8.875,
          9.916666666666666,
          8.933333333333334,
          9.875,
          10.142857142857142,
          12.25
         ]
        },
        {
         "hoverinfo": "skip",
         "hovertemplate": "<b>Str Save</b><br>CR %{x}<br>mean %{y:,.1f}<extra></extra>",
         "line": {
          "color": "#d62728",
          "dash": "solid"
         },
         "mode": "lines",
         "name": "Str Save",
         "showlegend": false,
         "type": "scatter",
         "x": [
          1,
          2,
          3,
          4,
          5,
          6,
          7,
          8,
          9,
          10,
          11,
          12,
          13,
          14,
          15,
          16,
          17,
          18,
          19,
          20,
          21,
          22,
          23,
          24,
          25,
          26,
          27,
          28,
          30
         ],
         "y": [
          1.3275015313171987,
          1.648387859487678,
          1.969274187658157,
          2.290160515828636,
          2.6110468439991155,
          2.9319331721695945,
          3.252819500340074,
          3.573705828510553,
          3.894592156681032,
          4.215478484851511,
          4.53636481302199,
          4.857251141192469,
          5.178137469362948,
          5.499023797533429,
          5.819910125703908,
          6.140796453874387,
          6.461682782044866,
          6.782569110215345,
          7.103455438385824,
          7.424341766556303,
          7.745228094726782,
          8.066114422897261,
          8.38700075106774,
          8.707887079238219,
          9.028773407408698,
          9.349659735579177,
          9.670546063749658,
          9.991432391920137,
          10.633205048261095
         ]
        },
        {
         "hovertemplate": "<b>Dex Save</b><br>CR %{x}<br>mean %{y:,.1f}<extra></extra>",
         "line": {
          "color": "#9467bd"
         },
         "mode": "markers",
         "name": "Dex Save",
         "type": "scatter",
         "x": [
          1,
          2,
          3,
          4,
          5,
          6,
          7,
          8,
          9,
          10,
          11,
          12,
          13,
          14,
          15,
          16,
          17,
          18,
          19,
          20,
          21,
          22,
          23,
          24,
          25,
          26,
          27,
          28,
          30
         ],
         "y": [
          1.4765625,
          1.5714285714285714,
          1.8764705882352941,
          1.7685950413223142,
          2.2051282051282053,
          1.8651685393258426,
          2.561797752808989,
          2.1739130434782608,
          2.5522388059701493,
          2.4363636363636365,
          2.9285714285714284,
          2.5813953488372094,
          3.1627906976744184,
          3.1875,
          4.4,
          4.678571428571429,
          5.346153846153846,
          4.826086956521739,
          5.6,
          4.6875,
          6.7727272727272725,
          4.045454545454546,
          7.3076923076923075,
          7.25,
          7.5,
          8.4,
          9.375,
          9.142857142857142,
          6
         ]
        },
        {
         "hoverinfo": "skip",
         "hovertemplate": "<b>Dex Save</b><br>CR %{x}<br>mean %{y:,.1f}<extra></extra>",
         "line": {
          "color": "#9467bd",
          "dash": "solid"
         },
         "mode": "lines",
         "name": "Dex Save",
         "showlegend": false,
         "type": "scatter",
         "x": [
          1,
          2,
          3,
          4,
          5,
          6,
          7,
          8,
          9,
          10,
          11,
          12,
          13,
          14,
          15,
          16,
          17,
          18,
          19,
          20,
          21,
          22,
          23,
          24,
          25,
          26,
          27,
          28,
          30
         ],
         "y": [
          0.7313864751479707,
          0.9929829367691783,
          1.2545793983903857,
          1.516175860011593,
          1.7777723216328005,
          2.0393687832540084,
          2.300965244875216,
          2.5625617064964232,
          2.8241581681176307,
          3.085754629738838,
          3.3473510913600455,
          3.6089475529812534,
          3.870544014602461,
          4.132140476223668,
          4.393736937844875,
          4.655333399466083,
          4.916929861087291,
          5.178526322708498,
          5.440122784329706,
          5.701719245950913,
          5.963315707572121,
          6.224912169193328,
          6.486508630814535,
          6.748105092435743,
          7.00970155405695,
          7.271298015678158,
          7.532894477299365,
          7.794490938920573,
          8.317683862162987
         ]
        },
        {
         "hovertemplate": "<b>Con Save</b><br>CR %{x}<br>mean %{y:,.1f}<extra></extra>",
         "line": {
          "color": "#8c564b"
         },
         "mode": "markers",
         "name": "Con Save",
         "type": "scatter",
         "x": [
          1,
          2,
          3,
          4,
          5,
          6,
          7,
          8,
          9,
          10,
          11,
          12,
          13,
          14,
          15,
          16,
          17,
          18,
          19,
          20,
          21,
          22,
          23,
          24,
          25,
          26,
          27,
          28,
          30
         ],
         "y": [
          1.5,
          1.8673469387755102,
          2.2823529411764705,
          2.6611570247933884,
          3.1923076923076925,
          3.8202247191011236,
          3.955056179775281,
          4.108695652173913,
          5.373134328358209,
          5.472727272727273,
          5.785714285714286,
          5.674418604651163,
          6.976744186046512,
          7.65625,
          7.1,
          7.714285714285714,
          8.346153846153847,
          9.130434782608695,
          9.866666666666667,
          10,
          10.409090909090908,
          10.318181818181818,
          11.923076923076923,
          13.0625,
          13.25,
          14.466666666666667,
          15.625,
          16.142857142857142,
          14.25
         ]
        },
        {
         "hoverinfo": "skip",
         "hovertemplate": "<b>Con Save</b><br>CR %{x}<br>mean %{y:,.1f}<extra></extra>",
         "line": {
          "color": "#8c564b",
          "dash": "solid"
         },
         "mode": "lines",
         "name": "Con Save",
         "showlegend": false,
         "type": "scatter",
         "x": [
          1,
          2,
          3,
          4,
          5,
          6,
          7,
          8,
          9,
          10,
          11,
          12,
          13,
          14,
          15,
          16,
          17,
          18,
          19,
          20,
          21,
          22,
          23,
          24,
          25,
          26,
          27,
          28,
          30
         ],
         "y": [
          0.952213189752404,
          1.454220221183287,
          1.9562272526141702,
          2.4582342840450533,
          2.9602413154759364,
          3.4622483469068195,
          3.9642553783377026,
          4.466262409768586,
          4.968269441199469,
          5.470276472630352,
          5.9722835040612345,
          6.474290535492118,
          6.976297566923002,
          7.478304598353884,
          7.980311629784767,
          8.48231866121565,
          8.984325692646534,
          9.486332724077418,
          9.9883397555083,
          10.490346786939183,
          10.992353818370066,
          11.494360849800948,
          11.996367881231832,
          12.498374912662715,
          13.000381944093599,
          13.502388975524482,
          14.004396006955364,
          14.506403038386248,
          15.510417101248013
         ]
        },
        {
         "hovertemplate": "<b>Int Save</b><br>CR %{x}<br>mean %{y:,.1f}<extra></extra>",
         "line": {
          "color": "#1f77b4"
         },
         "mode": "markers",
         "name": "Int Save",
         "type": "scatter",
         "x": [
          1,
          2,
          3,
          4,
          5,
          6,
          7,
          8,
          9,
          10,
          11,
          12,
          13,
          14,
          15,
          16,
          17,
          18,
          19,
          20,
          21,
          22,
          23,
          24,
          25,
          26,
          27,
          28,
          30
         ],
         "y": [
          -1.171875,
          -0.6020408163265306,
          -0.32941176470588235,
          0.4297520661157025,
          0.5384615384615384,
          0.9101123595505618,
          1.4382022471910112,
          1,
          2.074626865671642,
          2.090909090909091,
          1.3035714285714286,
          2.0697674418604652,
          3.627906976744186,
          2.625,
          3.433333333333333,
          2.9642857142857144,
          4.576923076923077,
          6.086956521739131,
          5.266666666666667,
          3.3125,
          7.7272727272727275,
          6.136363636363637,
          5.769230769230769,
          5.5625,
          5.583333333333333,
          9.533333333333333,
          6.5,
          12.571428571428571,
          8.5
         ]
        },
        {
         "hoverinfo": "skip",
         "hovertemplate": "<b>Int Save</b><br>CR %{x}<br>mean %{y:,.1f}<extra></extra>",
         "line": {
          "color": "#1f77b4",
          "dash": "solid"
         },
         "mode": "lines",
         "name": "Int Save",
         "showlegend": false,
         "type": "scatter",
         "x": [
          1,
          2,
          3,
          4,
          5,
          6,
          7,
          8,
          9,
          10,
          11,
          12,
          13,
          14,
          15,
          16,
          17,
          18,
          19,
          20,
          21,
          22,
          23,
          24,
          25,
          26,
          27,
          28,
          30
         ],
         "y": [
          -1.1756029542379514,
          -0.8227243405012091,
          -0.4698457267644669,
          -0.11696711302772456,
          0.23591150070901779,
          0.5887901144457599,
          0.9416687281825022,
          1.2945473419192446,
          1.647425955655987,
          2.0003045693927293,
          2.3531831831294716,
          2.7060617968662135,
          3.0589404106029563,
          3.411819024339698,
          3.764697638076441,
          4.117576251813183,
          4.470454865549925,
          4.823333479286667,
          5.176212093023409,
          5.529090706760153,
          5.881969320496895,
          6.2348479342336365,
          6.587726547970378,
          6.94060516170712,
          7.293483775443862,
          7.646362389180606,
          7.999241002917348,
          8.35211961665409,
          9.057876844127575
         ]
        },
        {
         "hovertemplate": "<b>Wis Save</b><br>CR %{x}<br>mean %{y:,.1f}<extra></extra>",
         "line": {
          "color": "#2ca02c"
         },
         "mode": "markers",
         "name": "Wis Save",
         "type": "scatter",
         "x": [
          1,
          2,
          3,
          4,
          5,
          6,
          7,
          8,
          9,
          10,
          11,
          12,
          13,
          14,
          15,
          16,
          17,
          18,
          19,
          20,
          21,
          22,
          23,
          24,
          25,
          26,
          27,
          28,
          30
         ],
         "y": [
          0.515625,
          0.9591836734693877,
          1.2529411764705882,
          1.7024793388429753,
          2.3461538461538463,
          2.404494382022472,
          2.8202247191011236,
          3.260869565217391,
          3.8208955223880596,
          4.4,
          4.160714285714286,
          5.023255813953488,
          5.232558139534884,
          6.0625,
          5.8,
          6.821428571428571,
          7.846153846153846,
          8.043478260869565,
          8.066666666666666,
          7.5625,
          10.272727272727273,
          9.727272727272727,
          10.846153846153847,
          12.0625,
          10.75,
          12.133333333333333,
          11.5,
          14,
          14.5
         ]
        },
        {
         "hoverinfo": "skip",
         "hovertemplate": "<b>Wis Save</b><br>CR %{x}<br>mean %{y:,.1f}<extra></extra>",
         "line": {
          "color": "#2ca02c",
          "dash": "solid"
         },
         "mode": "lines",
         "name": "Wis Save",
         "showlegend": false,
         "type": "scatter",
         "x": [
          1,
          2,
          3,
          4,
          5,
          6,
          7,
          8,
          9,
          10,
          11,
          12,
          13,
          14,
          15,
          16,
          17,
          18,
          19,
          20,
          21,
          22,
          23,
          24,
          25,
          26,
          27,
          28,
          30
         ],
         "y": [
          0.030202036840770163,
          0.5044483535952959,
          0.9786946703498218,
          1.4529409871043475,
          1.9271873038588732,
          2.4014336206133993,
          2.875679937367925,
          3.3499262541224506,
          3.8241725708769763,
          4.298418887631502,
          4.772665204386028,
          5.246911521140554,
          5.721157837895079,
          6.195404154649605,
          6.669650471404131,
          7.143896788158656,
          7.618143104913182,
          8.092389421667708,
          8.566635738422233,
          9.040882055176759,
          9.515128371931285,
          9.98937468868581,
          10.463621005440336,
          10.937867322194863,
          11.41211363894939,
          11.886359955703915,
          12.36060627245844,
          12.834852589212966,
          13.783345222722017
         ]
        },
        {
         "hovertemplate": "<b>Cha Save</b><br>CR %{x}<br>mean %{y:,.1f}<extra></extra>",
         "line": {
          "color": "#ff7f0e"
         },
         "mode": "markers",
         "name": "Cha Save",
         "type": "scatter",
         "x": [
          1,
          2,
          3,
          4,
          5,
          6,
          7,
          8,
          9,
          10,
          11,
          12,
          13,
          14,
          15,
          16,
          17,
          18,
          19,
          20,
          21,
          22,
          23,
          24,
          25,
          26,
          27,
          28,
          30
         ],
         "y": [
          -0.65625,
          0.00510204081632653,
          0.15294117647058825,
          0.743801652892562,
          0.8589743589743589,
          1.303370786516854,
          1.6404494382022472,
          1.8478260869565217,
          2.537313432835821,
          2.618181818181818,
          3.107142857142857,
          3.813953488372093,
          5.186046511627907,
          4.71875,
          6.666666666666667,
          5.678571428571429,
          6.5,
          7.521739130434782,
          9,
          7.5625,
          8.545454545454545,
          9.363636363636363,
          8.038461538461538,
          9.25,
          7.166666666666667,
          12.4,
          13.125,
          17.285714285714285,
          13.5
         ]
        },
        {
         "hoverinfo": "skip",
         "hovertemplate": "<b>Cha Save</b><br>CR %{x}<br>mean %{y:,.1f}<extra></extra>",
         "line": {
          "color": "#ff7f0e",
          "dash": "solid"
         },
         "mode": "lines",
         "name": "Cha Save",
         "showlegend": false,
         "type": "scatter",
         "x": [
          1,
          2,
          3,
          4,
          5,
          6,
          7,
          8,
          9,
          10,
          11,
          12,
          13,
          14,
          15,
          16,
          17,
          18,
          19,
          20,
          21,
          22,
          23,
          24,
          25,
          26,
          27,
          28,
          30
         ],
         "y": [
          -1.3252802583176142,
          -0.8144322441510121,
          -0.30358422998441004,
          0.20726378418219182,
          0.7181117983487937,
          1.228959812515396,
          1.7398078266819978,
          2.2506558408485997,
          2.761503855015202,
          3.2723518691818034,
          3.7831998833484057,
          4.294047897515008,
          4.8048959116816095,
          5.315743925848212,
          5.826591940014813,
          6.3374399541814155,
          6.848287968348017,
          7.35913598251462,
          7.8699839966812215,
          8.380832010847822,
          8.891680025014427,
          9.402528039181028,
          9.91337605334763,
          10.424224067514231,
          10.935072081680833,
          11.445920095847434,
          11.956768110014035,
          12.46761612418064,
          13.489312152513843
         ]
        }
       ],
       "layout": {
        "height": 450,
        "legend": {
         "orientation": "v",
         "tracegroupgap": 0,
         "x": 0,
         "xanchor": "left",
         "y": 1,
         "yanchor": "top"
        },
        "margin": {
         "b": 55,
         "l": 70,
         "pad": 4,
         "r": 25,
         "t": 20
        },
        "template": {
         "layout": {
          "autosize": false,
          "font": {
           "family": "sans-serif",
           "size": 14
          },
          "hoverlabel": {
           "align": "left"
          },
          "hovermode": "closest",
          "margin": {
           "b": 55,
           "l": 60,
           "pad": 4,
           "r": 25,
           "t": 20
          },
          "template": {
           "data": {
            "bar": [
             {
              "error_x": {
               "color": "#2a3f5f"
              },
              "error_y": {
               "color": "#2a3f5f"
              },
              "marker": {
               "line": {
                "color": "white",
                "width": 0.5
               },
               "pattern": {
                "fillmode": "overlay",
                "size": 10,
                "solidity": 0.2
               }
              },
              "type": "bar"
             }
            ],
            "barpolar": [
             {
              "marker": {
               "line": {
                "color": "white",
                "width": 0.5
               },
               "pattern": {
                "fillmode": "overlay",
                "size": 10,
                "solidity": 0.2
               }
              },
              "type": "barpolar"
             }
            ],
            "carpet": [
             {
              "aaxis": {
               "endlinecolor": "#2a3f5f",
               "gridcolor": "#C8D4E3",
               "linecolor": "#C8D4E3",
               "minorgridcolor": "#C8D4E3",
               "startlinecolor": "#2a3f5f"
              },
              "baxis": {
               "endlinecolor": "#2a3f5f",
               "gridcolor": "#C8D4E3",
               "linecolor": "#C8D4E3",
               "minorgridcolor": "#C8D4E3",
               "startlinecolor": "#2a3f5f"
              },
              "type": "carpet"
             }
            ],
            "choropleth": [
             {
              "colorbar": {
               "outlinewidth": 0,
               "ticks": ""
              },
              "type": "choropleth"
             }
            ],
            "contour": [
             {
              "colorbar": {
               "outlinewidth": 0,
               "ticks": ""
              },
              "colorscale": [
               [
                0,
                "#0d0887"
               ],
               [
                0.1111111111111111,
                "#46039f"
               ],
               [
                0.2222222222222222,
                "#7201a8"
               ],
               [
                0.3333333333333333,
                "#9c179e"
               ],
               [
                0.4444444444444444,
                "#bd3786"
               ],
               [
                0.5555555555555556,
                "#d8576b"
               ],
               [
                0.6666666666666666,
                "#ed7953"
               ],
               [
                0.7777777777777778,
                "#fb9f3a"
               ],
               [
                0.8888888888888888,
                "#fdca26"
               ],
               [
                1,
                "#f0f921"
               ]
              ],
              "type": "contour"
             }
            ],
            "contourcarpet": [
             {
              "colorbar": {
               "outlinewidth": 0,
               "ticks": ""
              },
              "type": "contourcarpet"
             }
            ],
            "heatmap": [
             {
              "colorbar": {
               "outlinewidth": 0,
               "ticks": ""
              },
              "colorscale": [
               [
                0,
                "#0d0887"
               ],
               [
                0.1111111111111111,
                "#46039f"
               ],
               [
                0.2222222222222222,
                "#7201a8"
               ],
               [
                0.3333333333333333,
                "#9c179e"
               ],
               [
                0.4444444444444444,
                "#bd3786"
               ],
               [
                0.5555555555555556,
                "#d8576b"
               ],
               [
                0.6666666666666666,
                "#ed7953"
               ],
               [
                0.7777777777777778,
                "#fb9f3a"
               ],
               [
                0.8888888888888888,
                "#fdca26"
               ],
               [
                1,
                "#f0f921"
               ]
              ],
              "type": "heatmap"
             }
            ],
            "heatmapgl": [
             {
              "colorbar": {
               "outlinewidth": 0,
               "ticks": ""
              },
              "colorscale": [
               [
                0,
                "#0d0887"
               ],
               [
                0.1111111111111111,
                "#46039f"
               ],
               [
                0.2222222222222222,
                "#7201a8"
               ],
               [
                0.3333333333333333,
                "#9c179e"
               ],
               [
                0.4444444444444444,
                "#bd3786"
               ],
               [
                0.5555555555555556,
                "#d8576b"
               ],
               [
                0.6666666666666666,
                "#ed7953"
               ],
               [
                0.7777777777777778,
                "#fb9f3a"
               ],
               [
                0.8888888888888888,
                "#fdca26"
               ],
               [
                1,
                "#f0f921"
               ]
              ],
              "type": "heatmapgl"
             }
            ],
            "histogram": [
             {
              "marker": {
               "pattern": {
                "fillmode": "overlay",
                "size": 10,
                "solidity": 0.2
               }
              },
              "type": "histogram"
             }
            ],
            "histogram2d": [
             {
              "colorbar": {
               "outlinewidth": 0,
               "ticks": ""
              },
              "colorscale": [
               [
                0,
                "#0d0887"
               ],
               [
                0.1111111111111111,
                "#46039f"
               ],
               [
                0.2222222222222222,
                "#7201a8"
               ],
               [
                0.3333333333333333,
                "#9c179e"
               ],
               [
                0.4444444444444444,
                "#bd3786"
               ],
               [
                0.5555555555555556,
                "#d8576b"
               ],
               [
                0.6666666666666666,
                "#ed7953"
               ],
               [
                0.7777777777777778,
                "#fb9f3a"
               ],
               [
                0.8888888888888888,
                "#fdca26"
               ],
               [
                1,
                "#f0f921"
               ]
              ],
              "type": "histogram2d"
             }
            ],
            "histogram2dcontour": [
             {
              "colorbar": {
               "outlinewidth": 0,
               "ticks": ""
              },
              "colorscale": [
               [
                0,
                "#0d0887"
               ],
               [
                0.1111111111111111,
                "#46039f"
               ],
               [
                0.2222222222222222,
                "#7201a8"
               ],
               [
                0.3333333333333333,
                "#9c179e"
               ],
               [
                0.4444444444444444,
                "#bd3786"
               ],
               [
                0.5555555555555556,
                "#d8576b"
               ],
               [
                0.6666666666666666,
                "#ed7953"
               ],
               [
                0.7777777777777778,
                "#fb9f3a"
               ],
               [
                0.8888888888888888,
                "#fdca26"
               ],
               [
                1,
                "#f0f921"
               ]
              ],
              "type": "histogram2dcontour"
             }
            ],
            "mesh3d": [
             {
              "colorbar": {
               "outlinewidth": 0,
               "ticks": ""
              },
              "type": "mesh3d"
             }
            ],
            "parcoords": [
             {
              "line": {
               "colorbar": {
                "outlinewidth": 0,
                "ticks": ""
               }
              },
              "type": "parcoords"
             }
            ],
            "pie": [
             {
              "automargin": true,
              "type": "pie"
             }
            ],
            "scatter": [
             {
              "fillpattern": {
               "fillmode": "overlay",
               "size": 10,
               "solidity": 0.2
              },
              "type": "scatter"
             }
            ],
            "scatter3d": [
             {
              "line": {
               "colorbar": {
                "outlinewidth": 0,
                "ticks": ""
               }
              },
              "marker": {
               "colorbar": {
                "outlinewidth": 0,
                "ticks": ""
               }
              },
              "type": "scatter3d"
             }
            ],
            "scattercarpet": [
             {
              "marker": {
               "colorbar": {
                "outlinewidth": 0,
                "ticks": ""
               }
              },
              "type": "scattercarpet"
             }
            ],
            "scattergeo": [
             {
              "marker": {
               "colorbar": {
                "outlinewidth": 0,
                "ticks": ""
               }
              },
              "type": "scattergeo"
             }
            ],
            "scattergl": [
             {
              "marker": {
               "colorbar": {
                "outlinewidth": 0,
                "ticks": ""
               }
              },
              "type": "scattergl"
             }
            ],
            "scattermapbox": [
             {
              "marker": {
               "colorbar": {
                "outlinewidth": 0,
                "ticks": ""
               }
              },
              "type": "scattermapbox"
             }
            ],
            "scatterpolar": [
             {
              "marker": {
               "colorbar": {
                "outlinewidth": 0,
                "ticks": ""
               }
              },
              "type": "scatterpolar"
             }
            ],
            "scatterpolargl": [
             {
              "marker": {
               "colorbar": {
                "outlinewidth": 0,
                "ticks": ""
               }
              },
              "type": "scatterpolargl"
             }
            ],
            "scatterternary": [
             {
              "marker": {
               "colorbar": {
                "outlinewidth": 0,
                "ticks": ""
               }
              },
              "type": "scatterternary"
             }
            ],
            "surface": [
             {
              "colorbar": {
               "outlinewidth": 0,
               "ticks": ""
              },
              "colorscale": [
               [
                0,
                "#0d0887"
               ],
               [
                0.1111111111111111,
                "#46039f"
               ],
               [
                0.2222222222222222,
                "#7201a8"
               ],
               [
                0.3333333333333333,
                "#9c179e"
               ],
               [
                0.4444444444444444,
                "#bd3786"
               ],
               [
                0.5555555555555556,
                "#d8576b"
               ],
               [
                0.6666666666666666,
                "#ed7953"
               ],
               [
                0.7777777777777778,
                "#fb9f3a"
               ],
               [
                0.8888888888888888,
                "#fdca26"
               ],
               [
                1,
                "#f0f921"
               ]
              ],
              "type": "surface"
             }
            ],
            "table": [
             {
              "cells": {
               "fill": {
                "color": "#EBF0F8"
               },
               "line": {
                "color": "white"
               }
              },
              "header": {
               "fill": {
                "color": "#C8D4E3"
               },
               "line": {
                "color": "white"
               }
              },
              "type": "table"
             }
            ]
           },
           "layout": {
            "annotationdefaults": {
             "arrowcolor": "#2a3f5f",
             "arrowhead": 0,
             "arrowwidth": 1
            },
            "autotypenumbers": "strict",
            "coloraxis": {
             "colorbar": {
              "outlinewidth": 0,
              "ticks": ""
             }
            },
            "colorscale": {
             "diverging": [
              [
               0,
               "#8e0152"
              ],
              [
               0.1,
               "#c51b7d"
              ],
              [
               0.2,
               "#de77ae"
              ],
              [
               0.3,
               "#f1b6da"
              ],
              [
               0.4,
               "#fde0ef"
              ],
              [
               0.5,
               "#f7f7f7"
              ],
              [
               0.6,
               "#e6f5d0"
              ],
              [
               0.7,
               "#b8e186"
              ],
              [
               0.8,
               "#7fbc41"
              ],
              [
               0.9,
               "#4d9221"
              ],
              [
               1,
               "#276419"
              ]
             ],
             "sequential": [
              [
               0,
               "#0d0887"
              ],
              [
               0.1111111111111111,
               "#46039f"
              ],
              [
               0.2222222222222222,
               "#7201a8"
              ],
              [
               0.3333333333333333,
               "#9c179e"
              ],
              [
               0.4444444444444444,
               "#bd3786"
              ],
              [
               0.5555555555555556,
               "#d8576b"
              ],
              [
               0.6666666666666666,
               "#ed7953"
              ],
              [
               0.7777777777777778,
               "#fb9f3a"
              ],
              [
               0.8888888888888888,
               "#fdca26"
              ],
              [
               1,
               "#f0f921"
              ]
             ],
             "sequentialminus": [
              [
               0,
               "#0d0887"
              ],
              [
               0.1111111111111111,
               "#46039f"
              ],
              [
               0.2222222222222222,
               "#7201a8"
              ],
              [
               0.3333333333333333,
               "#9c179e"
              ],
              [
               0.4444444444444444,
               "#bd3786"
              ],
              [
               0.5555555555555556,
               "#d8576b"
              ],
              [
               0.6666666666666666,
               "#ed7953"
              ],
              [
               0.7777777777777778,
               "#fb9f3a"
              ],
              [
               0.8888888888888888,
               "#fdca26"
              ],
              [
               1,
               "#f0f921"
              ]
             ]
            },
            "colorway": [
             "#636efa",
             "#EF553B",
             "#00cc96",
             "#ab63fa",
             "#FFA15A",
             "#19d3f3",
             "#FF6692",
             "#B6E880",
             "#FF97FF",
             "#FECB52"
            ],
            "font": {
             "color": "#2a3f5f"
            },
            "geo": {
             "bgcolor": "white",
             "lakecolor": "white",
             "landcolor": "white",
             "showlakes": true,
             "showland": true,
             "subunitcolor": "#C8D4E3"
            },
            "hoverlabel": {
             "align": "left"
            },
            "hovermode": "closest",
            "mapbox": {
             "style": "light"
            },
            "paper_bgcolor": "white",
            "plot_bgcolor": "white",
            "polar": {
             "angularaxis": {
              "gridcolor": "#EBF0F8",
              "linecolor": "#EBF0F8",
              "ticks": ""
             },
             "bgcolor": "white",
             "radialaxis": {
              "gridcolor": "#EBF0F8",
              "linecolor": "#EBF0F8",
              "ticks": ""
             }
            },
            "scene": {
             "xaxis": {
              "backgroundcolor": "white",
              "gridcolor": "#DFE8F3",
              "gridwidth": 2,
              "linecolor": "#EBF0F8",
              "showbackground": true,
              "ticks": "",
              "zerolinecolor": "#EBF0F8"
             },
             "yaxis": {
              "backgroundcolor": "white",
              "gridcolor": "#DFE8F3",
              "gridwidth": 2,
              "linecolor": "#EBF0F8",
              "showbackground": true,
              "ticks": "",
              "zerolinecolor": "#EBF0F8"
             },
             "zaxis": {
              "backgroundcolor": "white",
              "gridcolor": "#DFE8F3",
              "gridwidth": 2,
              "linecolor": "#EBF0F8",
              "showbackground": true,
              "ticks": "",
              "zerolinecolor": "#EBF0F8"
             }
            },
            "shapedefaults": {
             "line": {
              "color": "#2a3f5f"
             }
            },
            "ternary": {
             "aaxis": {
              "gridcolor": "#DFE8F3",
              "linecolor": "#A2B1C6",
              "ticks": ""
             },
             "baxis": {
              "gridcolor": "#DFE8F3",
              "linecolor": "#A2B1C6",
              "ticks": ""
             },
             "bgcolor": "white",
             "caxis": {
              "gridcolor": "#DFE8F3",
              "linecolor": "#A2B1C6",
              "ticks": ""
             }
            },
            "title": {
             "x": 0.05
            },
            "xaxis": {
             "automargin": true,
             "gridcolor": "#EBF0F8",
             "linecolor": "#EBF0F8",
             "ticks": "",
             "title": {
              "standoff": 15
             },
             "zerolinecolor": "#EBF0F8",
             "zerolinewidth": 2
            },
            "yaxis": {
             "automargin": true,
             "gridcolor": "#EBF0F8",
             "linecolor": "#EBF0F8",
             "ticks": "",
             "title": {
              "standoff": 15
             },
             "zerolinecolor": "#EBF0F8",
             "zerolinewidth": 2
            }
           }
          },
          "xaxis": {
           "automargin": false,
           "linecolor": "#444",
           "linewidth": 2,
           "minor": {
            "tickmode": "linear",
            "ticks": "outside"
           },
           "mirror": true,
           "showline": true,
           "tickmode": "linear",
           "ticks": "outside",
           "zeroline": false
          },
          "yaxis": {
           "automargin": true,
           "linecolor": "#444",
           "linewidth": 2,
           "minor": {
            "tickmode": "linear",
            "ticks": "outside"
           },
           "mirror": true,
           "showline": true,
           "ticks": "outside",
           "zeroline": false
          }
         }
        },
        "width": 600,
        "xaxis": {
         "dtick": 5,
         "minor": {
          "dtick": 1,
          "tick0": 0
         },
         "range": [
          0,
          31
         ],
         "tick0": 0,
         "title": {
          "text": "CR"
         }
        },
        "yaxis": {
         "dtick": 5,
         "minor": {
          "dtick": 1,
          "tick0": 0
         },
         "range": [
          -2,
          19
         ],
         "tick0": 0,
         "title": {
          "text": "saving throw bonus"
         }
        }
       }
      }
     },
     "metadata": {},
     "output_type": "display_data"
    }
   ],
   "source": [
    "# Fig. 1: Saving throw modifier\n",
    "columns = ['Str Save','Dex Save','Con Save','Int Save','Wis Save','Cha Save']\n",
    "colors = ['#d62728','#9467bd','#8c564b','#1f77b4','#2ca02c','#ff7f0e']\n",
    "\n",
    "df1 = df0[df0['Category'].isin(['generic','legendary','unique']) & df0['CR'].between(1, 30)]\n",
    "dfM = df1[['CR'] + columns].groupby(['CR']).mean().reset_index()\n",
    "\n",
    "# create figure\n",
    "fig = go.Figure(\n",
    "    layout=go.Layout(\n",
    "        template=tfb.FIG_TEMPLATE,\n",
    "        margin=dict(l=70, r=25, b=55, t=20, pad=4),\n",
    "        xaxis=dict(\n",
    "            title_text='CR',\n",
    "            range=[0,31],\n",
    "            tick0=0, dtick=5,\n",
    "            minor=dict(tick0=0, dtick=1),\n",
    "        ),\n",
    "        yaxis=dict(\n",
    "            title_text='saving throw bonus',\n",
    "            range=[-2,19],\n",
    "            tick0=0, dtick=5,\n",
    "            minor=dict(tick0=0, dtick=1),\n",
    "        ),\n",
    "        legend=dict(\n",
    "            xanchor='left', yanchor='top',\n",
    "            x=0.00, y=1.00,\n",
    "            orientation='v',\n",
    "            tracegroupgap=0,\n",
    "        )\n",
    "    )\n",
    ")\n",
    "\n",
    "for column, color in zip(columns, colors):\n",
    "    #plot_mean_fit(fig, df1, 'CR', column, column, color)\n",
    "    plot_data_and_fit(\n",
    "        fig, \n",
    "        dfM['CR'], dfM[column],\n",
    "        print_coefficients=True,\n",
    "        name=column,\n",
    "        line=dict(color=color),\n",
    "        hovertemplate=\n",
    "            f'<b>{column}</b><br>'+\n",
    "            'CR %{x}<br>'+\n",
    "            'mean %{y:,.1f}' + \n",
    "            '<extra></extra>'\n",
    "    )\n",
    "\n",
    "# show figure\n",
    "fig.update_layout(width=600, height=450)\n",
    "fig.show(config=tfb.FIG_CONFIG)\n",
    "\n",
    "# save figures\n",
    "if SAVEFIGS:\n",
    "    fig.update_layout(autosize=True, width=None, height=None)\n",
    "    tfb.save_fig_html(fig, format='large', name='fig-saving-throw-modifier-vs-cr-large')\n",
    "    tfb.save_fig_html(fig, format='small', name='fig-saving-throw-modifier-vs-cr-small')"
   ]
  },
  {
   "cell_type": "code",
   "execution_count": 5,
   "metadata": {},
   "outputs": [
    {
     "name": "stdout",
     "output_type": "stream",
     "text": [
      "CR >= 1: 0.81 + 0.29*CR\n",
      "CR >= 1: 1.27 + 0.04*CR\n",
      "CR >= 1: 0.96 + 0.27*CR\n",
      "CR >= 1: -1.27 + 0.23*CR\n",
      "CR >= 1: -0.04 + 0.19*CR\n",
      "CR >= 1: -1.15 + 0.28*CR\n"
     ]
    },
    {
     "data": {
      "application/vnd.plotly.v1+json": {
       "config": {
        "autosizable": true,
        "displayModeBar": "hover",
        "displaylogo": false,
        "doubleClick": "reset",
        "modeBarButtonsToRemove": [
         "select2d",
         "lasso2d",
         "zoom2d",
         "zoomIn2d",
         "zoomOut2d",
         "pan2d",
         "autoScale2d",
         "hoverClosestCartesian",
         "hoverCompareCartesian",
         "toggleSpikelines",
         "resetScale2d"
        ],
        "plotlyServerURL": "https://plot.ly",
        "responsive": true,
        "showAxisDragHandles": false,
        "toImageButtonOptions": {
         "filename": "tfb-plot",
         "format": "png",
         "height": 450,
         "scale": 2,
         "width": 600
        }
       },
       "data": [
        {
         "hovertemplate": "<b>Str Mod</b><br>CR %{x}<br>mean %{y:,.1f}<extra></extra>",
         "line": {
          "color": "#d62728"
         },
         "mode": "markers",
         "name": "Str Mod",
         "type": "scatter",
         "x": [
          1,
          2,
          3,
          4,
          5,
          6,
          7,
          8,
          9,
          10,
          11,
          12,
          13,
          14,
          15,
          16,
          17,
          18,
          19,
          20,
          21,
          22,
          23,
          24,
          25,
          26,
          27,
          28,
          30
         ],
         "y": [
          1.015625,
          1.5510204081632653,
          2.1705882352941175,
          2.1735537190082646,
          2.448717948717949,
          2.955056179775281,
          2.741573033707865,
          3.2934782608695654,
          3.611940298507463,
          3.9454545454545453,
          4.428571428571429,
          4.534883720930233,
          4.325581395348837,
          4.78125,
          5,
          5.714285714285714,
          4.884615384615385,
          4.260869565217392,
          5.933333333333334,
          5.6875,
          5.909090909090909,
          6.318181818181818,
          7.461538461538462,
          8.4375,
          9.25,
          8.933333333333334,
          9.875,
          9,
          10
         ]
        },
        {
         "hoverinfo": "skip",
         "hovertemplate": "<b>Str Mod</b><br>CR %{x}<br>mean %{y:,.1f}<extra></extra>",
         "line": {
          "color": "#d62728",
          "dash": "solid"
         },
         "mode": "lines",
         "name": "Str Mod",
         "showlegend": false,
         "type": "scatter",
         "x": [
          1,
          2,
          3,
          4,
          5,
          6,
          7,
          8,
          9,
          10,
          11,
          12,
          13,
          14,
          15,
          16,
          17,
          18,
          19,
          20,
          21,
          22,
          23,
          24,
          25,
          26,
          27,
          28,
          30
         ],
         "y": [
          1.1030130417205521,
          1.3945490723938916,
          1.686085103067231,
          1.9776211337405707,
          2.26915716441391,
          2.5606931950872496,
          2.852229225760589,
          3.1437652564339285,
          3.435301287107268,
          3.7268373177806073,
          4.018373348453947,
          4.309909379127287,
          4.601445409800626,
          4.8929814404739655,
          5.184517471147306,
          5.476053501820645,
          5.767589532493984,
          6.059125563167324,
          6.350661593840663,
          6.642197624514003,
          6.933733655187343,
          7.225269685860682,
          7.516805716534021,
          7.808341747207361,
          8.0998777778807,
          8.39141380855404,
          8.682949839227378,
          8.974485869900718,
          9.557557931247398
         ]
        },
        {
         "hovertemplate": "<b>Dex Mod</b><br>CR %{x}<br>mean %{y:,.1f}<extra></extra>",
         "line": {
          "color": "#9467bd"
         },
         "mode": "markers",
         "name": "Dex Mod",
         "type": "scatter",
         "x": [
          1,
          2,
          3,
          4,
          5,
          6,
          7,
          8,
          9,
          10,
          11,
          12,
          13,
          14,
          15,
          16,
          17,
          18,
          19,
          20,
          21,
          22,
          23,
          24,
          25,
          26,
          27,
          28,
          30
         ],
         "y": [
          1.3203125,
          1.2653061224489797,
          1.5823529411764705,
          1.5206611570247934,
          1.5512820512820513,
          1.4606741573033708,
          1.752808988764045,
          1.5543478260869565,
          1.537313432835821,
          1.3454545454545455,
          1.5,
          1.372093023255814,
          1.441860465116279,
          1.46875,
          2.2333333333333334,
          2.5357142857142856,
          1.9230769230769231,
          2.217391304347826,
          2.8,
          2.0625,
          2.6818181818181817,
          1.8181818181818181,
          2.730769230769231,
          2,
          1.6666666666666667,
          2.533333333333333,
          2.375,
          3.4285714285714284,
          1.5
         ]
        },
        {
         "hoverinfo": "skip",
         "hovertemplate": "<b>Dex Mod</b><br>CR %{x}<br>mean %{y:,.1f}<extra></extra>",
         "line": {
          "color": "#9467bd",
          "dash": "solid"
         },
         "mode": "lines",
         "name": "Dex Mod",
         "showlegend": false,
         "type": "scatter",
         "x": [
          1,
          2,
          3,
          4,
          5,
          6,
          7,
          8,
          9,
          10,
          11,
          12,
          13,
          14,
          15,
          16,
          17,
          18,
          19,
          20,
          21,
          22,
          23,
          24,
          25,
          26,
          27,
          28,
          30
         ],
         "y": [
          1.3112113404615275,
          1.3533598535897287,
          1.3955083667179298,
          1.4376568798461309,
          1.479805392974332,
          1.5219539061025333,
          1.5641024192307342,
          1.6062509323589356,
          1.6483994454871365,
          1.6905479586153378,
          1.732696471743539,
          1.77484498487174,
          1.8169934979999411,
          1.8591420111281423,
          1.9012905242563434,
          1.9434390373845445,
          1.9855875505127456,
          2.0277360636409467,
          2.069884576769148,
          2.112033089897349,
          2.1541816030255503,
          2.196330116153751,
          2.2384786292819525,
          2.280627142410154,
          2.3227756555383547,
          2.3649241686665556,
          2.407072681794757,
          2.4492211949229583,
          2.53351822117936
         ]
        },
        {
         "hovertemplate": "<b>Con Mod</b><br>CR %{x}<br>mean %{y:,.1f}<extra></extra>",
         "line": {
          "color": "#8c564b"
         },
         "mode": "markers",
         "name": "Con Mod",
         "type": "scatter",
         "x": [
          1,
          2,
          3,
          4,
          5,
          6,
          7,
          8,
          9,
          10,
          11,
          12,
          13,
          14,
          15,
          16,
          17,
          18,
          19,
          20,
          21,
          22,
          23,
          24,
          25,
          26,
          27,
          28,
          30
         ],
         "y": [
          1.40625,
          1.6734693877551021,
          2.0588235294117645,
          2.2479338842975207,
          2.5384615384615383,
          3.0786516853932584,
          2.943820224719101,
          3.130434782608696,
          3.462686567164179,
          3.8,
          4.214285714285714,
          3.7209302325581395,
          4.209302325581396,
          4.375,
          4.433333333333334,
          5.035714285714286,
          4.923076923076923,
          4.956521739130435,
          5.466666666666667,
          5.875,
          6,
          6.181818181818182,
          6.769230769230769,
          7.375,
          8.083333333333334,
          8.6,
          9.625,
          8.142857142857142,
          9.75
         ]
        },
        {
         "hoverinfo": "skip",
         "hovertemplate": "<b>Con Mod</b><br>CR %{x}<br>mean %{y:,.1f}<extra></extra>",
         "line": {
          "color": "#8c564b",
          "dash": "solid"
         },
         "mode": "lines",
         "name": "Con Mod",
         "showlegend": false,
         "type": "scatter",
         "x": [
          1,
          2,
          3,
          4,
          5,
          6,
          7,
          8,
          9,
          10,
          11,
          12,
          13,
          14,
          15,
          16,
          17,
          18,
          19,
          20,
          21,
          22,
          23,
          24,
          25,
          26,
          27,
          28,
          30
         ],
         "y": [
          1.2271096011692095,
          1.4936732960426502,
          1.760236990916091,
          2.0268006857895315,
          2.2933643806629727,
          2.5599280755364133,
          2.826491770409854,
          3.0930554652832947,
          3.3596191601567353,
          3.626182855030176,
          3.8927465499036167,
          4.159310244777058,
          4.425873939650499,
          4.692437634523939,
          4.959001329397379,
          5.2255650242708205,
          5.492128719144262,
          5.758692414017702,
          6.025256108891143,
          6.291819803764583,
          6.558383498638024,
          6.8249471935114645,
          7.091510888384906,
          7.358074583258347,
          7.624638278131787,
          7.891201973005228,
          8.157765667878667,
          8.42432936275211,
          8.957456752498992
         ]
        },
        {
         "hovertemplate": "<b>Int Mod</b><br>CR %{x}<br>mean %{y:,.1f}<extra></extra>",
         "line": {
          "color": "#1f77b4"
         },
         "mode": "markers",
         "name": "Int Mod",
         "type": "scatter",
         "x": [
          1,
          2,
          3,
          4,
          5,
          6,
          7,
          8,
          9,
          10,
          11,
          12,
          13,
          14,
          15,
          16,
          17,
          18,
          19,
          20,
          21,
          22,
          23,
          24,
          25,
          26,
          27,
          28,
          30
         ],
         "y": [
          -1.21875,
          -0.7448979591836735,
          -0.49411764705882355,
          0.21487603305785125,
          0,
          0.20224719101123595,
          0.6629213483146067,
          0.21739130434782608,
          1.2388059701492538,
          1.2181818181818183,
          0.6607142857142857,
          1.1395348837209303,
          1.9069767441860466,
          1.375,
          1.9333333333333333,
          1.7142857142857142,
          2.730769230769231,
          3.4782608695652173,
          3.6666666666666665,
          2.1875,
          4.2272727272727275,
          3.590909090909091,
          3.8846153846153846,
          4.6875,
          3.5833333333333335,
          7.4,
          5.5,
          5.714285714285714,
          4
         ]
        },
        {
         "hoverinfo": "skip",
         "hovertemplate": "<b>Int Mod</b><br>CR %{x}<br>mean %{y:,.1f}<extra></extra>",
         "line": {
          "color": "#1f77b4",
          "dash": "solid"
         },
         "mode": "lines",
         "name": "Int Mod",
         "showlegend": false,
         "type": "scatter",
         "x": [
          1,
          2,
          3,
          4,
          5,
          6,
          7,
          8,
          9,
          10,
          11,
          12,
          13,
          14,
          15,
          16,
          17,
          18,
          19,
          20,
          21,
          22,
          23,
          24,
          25,
          26,
          27,
          28,
          30
         ],
         "y": [
          -1.0358284393998687,
          -0.8031094202842077,
          -0.570390401168547,
          -0.33767138205288616,
          -0.10495236293722532,
          0.1277666561784354,
          0.36048567529409636,
          0.5932046944097571,
          0.8259237135254178,
          1.0586427326410788,
          1.2913617517567397,
          1.5240807708724002,
          1.7567997899880612,
          1.9895188091037221,
          2.2222378282193826,
          2.4549568473350436,
          2.6876758664507046,
          2.920394885566365,
          3.1531139046820265,
          3.385832923797687,
          3.6185519429133475,
          3.851270962029009,
          4.083989981144669,
          4.31670900026033,
          4.549428019375991,
          4.782147038491652,
          5.014866057607312,
          5.247585076722974,
          5.713023114954295
         ]
        },
        {
         "hovertemplate": "<b>Wis Mod</b><br>CR %{x}<br>mean %{y:,.1f}<extra></extra>",
         "line": {
          "color": "#2ca02c"
         },
         "mode": "markers",
         "name": "Wis Mod",
         "type": "scatter",
         "x": [
          1,
          2,
          3,
          4,
          5,
          6,
          7,
          8,
          9,
          10,
          11,
          12,
          13,
          14,
          15,
          16,
          17,
          18,
          19,
          20,
          21,
          22,
          23,
          24,
          25,
          26,
          27,
          28,
          30
         ],
         "y": [
          0.34375,
          0.5306122448979592,
          0.8529411764705882,
          0.9917355371900827,
          1.25,
          1.0898876404494382,
          1.1685393258426966,
          1.6304347826086956,
          1.671641791044776,
          1.9272727272727272,
          1.8035714285714286,
          2.3255813953488373,
          1.9069767441860466,
          2,
          2.3,
          2.7142857142857144,
          3.0384615384615383,
          3.608695652173913,
          3.6666666666666665,
          2.6875,
          4.2727272727272725,
          4,
          4.653846153846154,
          5.0625,
          4.25,
          5.2,
          5.5,
          6,
          5.5
         ]
        },
        {
         "hoverinfo": "skip",
         "hovertemplate": "<b>Wis Mod</b><br>CR %{x}<br>mean %{y:,.1f}<extra></extra>",
         "line": {
          "color": "#2ca02c",
          "dash": "solid"
         },
         "mode": "lines",
         "name": "Wis Mod",
         "showlegend": false,
         "type": "scatter",
         "x": [
          1,
          2,
          3,
          4,
          5,
          6,
          7,
          8,
          9,
          10,
          11,
          12,
          13,
          14,
          15,
          16,
          17,
          18,
          19,
          20,
          21,
          22,
          23,
          24,
          25,
          26,
          27,
          28,
          30
         ],
         "y": [
          0.15428348496833563,
          0.34463583565129086,
          0.5349881863342462,
          0.7253405370172014,
          0.9156928877001566,
          1.106045238383112,
          1.2963975890660673,
          1.4867499397490225,
          1.6771022904319777,
          1.8674546411149329,
          2.057806991797888,
          2.2481593424808435,
          2.4385116931637985,
          2.628864043846754,
          2.819216394529709,
          3.0095687452126643,
          3.1999210958956197,
          3.3902734465785747,
          3.58062579726153,
          3.770978147944485,
          3.9613304986274405,
          4.151682849310396,
          4.342035199993352,
          4.532387550676307,
          4.722739901359262,
          4.913092252042217,
          5.1034446027251725,
          5.293796953408128,
          5.674501654774038
         ]
        },
        {
         "hovertemplate": "<b>Cha Mod</b><br>CR %{x}<br>mean %{y:,.1f}<extra></extra>",
         "line": {
          "color": "#ff7f0e"
         },
         "mode": "markers",
         "name": "Cha Mod",
         "type": "scatter",
         "x": [
          1,
          2,
          3,
          4,
          5,
          6,
          7,
          8,
          9,
          10,
          11,
          12,
          13,
          14,
          15,
          16,
          17,
          18,
          19,
          20,
          21,
          22,
          23,
          24,
          25,
          26,
          27,
          28,
          30
         ],
         "y": [
          -0.734375,
          -0.2602040816326531,
          -0.023529411764705882,
          0.4297520661157025,
          0.30128205128205127,
          0.4606741573033708,
          0.7640449438202247,
          0.9021739130434783,
          1.2835820895522387,
          1.6,
          1.6071428571428572,
          2.3255813953488373,
          2.441860465116279,
          2.21875,
          3.1666666666666665,
          2.642857142857143,
          3.5384615384615383,
          4.130434782608695,
          5,
          3.8125,
          4.7727272727272725,
          4.590909090909091,
          4.8076923076923075,
          5.3125,
          3.8333333333333335,
          6.533333333333333,
          7.125,
          9.285714285714286,
          6.75
         ]
        },
        {
         "hoverinfo": "skip",
         "hovertemplate": "<b>Cha Mod</b><br>CR %{x}<br>mean %{y:,.1f}<extra></extra>",
         "line": {
          "color": "#ff7f0e",
          "dash": "solid"
         },
         "mode": "lines",
         "name": "Cha Mod",
         "showlegend": false,
         "type": "scatter",
         "x": [
          1,
          2,
          3,
          4,
          5,
          6,
          7,
          8,
          9,
          10,
          11,
          12,
          13,
          14,
          15,
          16,
          17,
          18,
          19,
          20,
          21,
          22,
          23,
          24,
          25,
          26,
          27,
          28,
          30
         ],
         "y": [
          -0.8720716413333975,
          -0.5921970890034224,
          -0.3123225366734472,
          -0.03244798434347218,
          0.24742656798650287,
          0.5273011203164781,
          0.8071756726464532,
          1.0870502249764282,
          1.3669247773064033,
          1.6467993296363783,
          1.9266738819663534,
          2.206548434296329,
          2.486422986626304,
          2.766297538956279,
          3.046172091286254,
          3.326046643616229,
          3.605921195946204,
          3.885795748276179,
          4.165670300606154,
          4.445544852936129,
          4.725419405266104,
          5.005293957596079,
          5.285168509926054,
          5.565043062256031,
          5.844917614586006,
          6.124792166915981,
          6.404666719245956,
          6.684541271575931,
          7.244290376235881
         ]
        }
       ],
       "layout": {
        "height": 450,
        "legend": {
         "orientation": "v",
         "tracegroupgap": 0,
         "x": 0,
         "xanchor": "left",
         "y": 1,
         "yanchor": "top"
        },
        "margin": {
         "b": 55,
         "l": 70,
         "pad": 4,
         "r": 25,
         "t": 20
        },
        "template": {
         "layout": {
          "autosize": false,
          "font": {
           "family": "sans-serif",
           "size": 14
          },
          "hoverlabel": {
           "align": "left"
          },
          "hovermode": "closest",
          "margin": {
           "b": 55,
           "l": 60,
           "pad": 4,
           "r": 25,
           "t": 20
          },
          "template": {
           "data": {
            "bar": [
             {
              "error_x": {
               "color": "#2a3f5f"
              },
              "error_y": {
               "color": "#2a3f5f"
              },
              "marker": {
               "line": {
                "color": "white",
                "width": 0.5
               },
               "pattern": {
                "fillmode": "overlay",
                "size": 10,
                "solidity": 0.2
               }
              },
              "type": "bar"
             }
            ],
            "barpolar": [
             {
              "marker": {
               "line": {
                "color": "white",
                "width": 0.5
               },
               "pattern": {
                "fillmode": "overlay",
                "size": 10,
                "solidity": 0.2
               }
              },
              "type": "barpolar"
             }
            ],
            "carpet": [
             {
              "aaxis": {
               "endlinecolor": "#2a3f5f",
               "gridcolor": "#C8D4E3",
               "linecolor": "#C8D4E3",
               "minorgridcolor": "#C8D4E3",
               "startlinecolor": "#2a3f5f"
              },
              "baxis": {
               "endlinecolor": "#2a3f5f",
               "gridcolor": "#C8D4E3",
               "linecolor": "#C8D4E3",
               "minorgridcolor": "#C8D4E3",
               "startlinecolor": "#2a3f5f"
              },
              "type": "carpet"
             }
            ],
            "choropleth": [
             {
              "colorbar": {
               "outlinewidth": 0,
               "ticks": ""
              },
              "type": "choropleth"
             }
            ],
            "contour": [
             {
              "colorbar": {
               "outlinewidth": 0,
               "ticks": ""
              },
              "colorscale": [
               [
                0,
                "#0d0887"
               ],
               [
                0.1111111111111111,
                "#46039f"
               ],
               [
                0.2222222222222222,
                "#7201a8"
               ],
               [
                0.3333333333333333,
                "#9c179e"
               ],
               [
                0.4444444444444444,
                "#bd3786"
               ],
               [
                0.5555555555555556,
                "#d8576b"
               ],
               [
                0.6666666666666666,
                "#ed7953"
               ],
               [
                0.7777777777777778,
                "#fb9f3a"
               ],
               [
                0.8888888888888888,
                "#fdca26"
               ],
               [
                1,
                "#f0f921"
               ]
              ],
              "type": "contour"
             }
            ],
            "contourcarpet": [
             {
              "colorbar": {
               "outlinewidth": 0,
               "ticks": ""
              },
              "type": "contourcarpet"
             }
            ],
            "heatmap": [
             {
              "colorbar": {
               "outlinewidth": 0,
               "ticks": ""
              },
              "colorscale": [
               [
                0,
                "#0d0887"
               ],
               [
                0.1111111111111111,
                "#46039f"
               ],
               [
                0.2222222222222222,
                "#7201a8"
               ],
               [
                0.3333333333333333,
                "#9c179e"
               ],
               [
                0.4444444444444444,
                "#bd3786"
               ],
               [
                0.5555555555555556,
                "#d8576b"
               ],
               [
                0.6666666666666666,
                "#ed7953"
               ],
               [
                0.7777777777777778,
                "#fb9f3a"
               ],
               [
                0.8888888888888888,
                "#fdca26"
               ],
               [
                1,
                "#f0f921"
               ]
              ],
              "type": "heatmap"
             }
            ],
            "heatmapgl": [
             {
              "colorbar": {
               "outlinewidth": 0,
               "ticks": ""
              },
              "colorscale": [
               [
                0,
                "#0d0887"
               ],
               [
                0.1111111111111111,
                "#46039f"
               ],
               [
                0.2222222222222222,
                "#7201a8"
               ],
               [
                0.3333333333333333,
                "#9c179e"
               ],
               [
                0.4444444444444444,
                "#bd3786"
               ],
               [
                0.5555555555555556,
                "#d8576b"
               ],
               [
                0.6666666666666666,
                "#ed7953"
               ],
               [
                0.7777777777777778,
                "#fb9f3a"
               ],
               [
                0.8888888888888888,
                "#fdca26"
               ],
               [
                1,
                "#f0f921"
               ]
              ],
              "type": "heatmapgl"
             }
            ],
            "histogram": [
             {
              "marker": {
               "pattern": {
                "fillmode": "overlay",
                "size": 10,
                "solidity": 0.2
               }
              },
              "type": "histogram"
             }
            ],
            "histogram2d": [
             {
              "colorbar": {
               "outlinewidth": 0,
               "ticks": ""
              },
              "colorscale": [
               [
                0,
                "#0d0887"
               ],
               [
                0.1111111111111111,
                "#46039f"
               ],
               [
                0.2222222222222222,
                "#7201a8"
               ],
               [
                0.3333333333333333,
                "#9c179e"
               ],
               [
                0.4444444444444444,
                "#bd3786"
               ],
               [
                0.5555555555555556,
                "#d8576b"
               ],
               [
                0.6666666666666666,
                "#ed7953"
               ],
               [
                0.7777777777777778,
                "#fb9f3a"
               ],
               [
                0.8888888888888888,
                "#fdca26"
               ],
               [
                1,
                "#f0f921"
               ]
              ],
              "type": "histogram2d"
             }
            ],
            "histogram2dcontour": [
             {
              "colorbar": {
               "outlinewidth": 0,
               "ticks": ""
              },
              "colorscale": [
               [
                0,
                "#0d0887"
               ],
               [
                0.1111111111111111,
                "#46039f"
               ],
               [
                0.2222222222222222,
                "#7201a8"
               ],
               [
                0.3333333333333333,
                "#9c179e"
               ],
               [
                0.4444444444444444,
                "#bd3786"
               ],
               [
                0.5555555555555556,
                "#d8576b"
               ],
               [
                0.6666666666666666,
                "#ed7953"
               ],
               [
                0.7777777777777778,
                "#fb9f3a"
               ],
               [
                0.8888888888888888,
                "#fdca26"
               ],
               [
                1,
                "#f0f921"
               ]
              ],
              "type": "histogram2dcontour"
             }
            ],
            "mesh3d": [
             {
              "colorbar": {
               "outlinewidth": 0,
               "ticks": ""
              },
              "type": "mesh3d"
             }
            ],
            "parcoords": [
             {
              "line": {
               "colorbar": {
                "outlinewidth": 0,
                "ticks": ""
               }
              },
              "type": "parcoords"
             }
            ],
            "pie": [
             {
              "automargin": true,
              "type": "pie"
             }
            ],
            "scatter": [
             {
              "fillpattern": {
               "fillmode": "overlay",
               "size": 10,
               "solidity": 0.2
              },
              "type": "scatter"
             }
            ],
            "scatter3d": [
             {
              "line": {
               "colorbar": {
                "outlinewidth": 0,
                "ticks": ""
               }
              },
              "marker": {
               "colorbar": {
                "outlinewidth": 0,
                "ticks": ""
               }
              },
              "type": "scatter3d"
             }
            ],
            "scattercarpet": [
             {
              "marker": {
               "colorbar": {
                "outlinewidth": 0,
                "ticks": ""
               }
              },
              "type": "scattercarpet"
             }
            ],
            "scattergeo": [
             {
              "marker": {
               "colorbar": {
                "outlinewidth": 0,
                "ticks": ""
               }
              },
              "type": "scattergeo"
             }
            ],
            "scattergl": [
             {
              "marker": {
               "colorbar": {
                "outlinewidth": 0,
                "ticks": ""
               }
              },
              "type": "scattergl"
             }
            ],
            "scattermapbox": [
             {
              "marker": {
               "colorbar": {
                "outlinewidth": 0,
                "ticks": ""
               }
              },
              "type": "scattermapbox"
             }
            ],
            "scatterpolar": [
             {
              "marker": {
               "colorbar": {
                "outlinewidth": 0,
                "ticks": ""
               }
              },
              "type": "scatterpolar"
             }
            ],
            "scatterpolargl": [
             {
              "marker": {
               "colorbar": {
                "outlinewidth": 0,
                "ticks": ""
               }
              },
              "type": "scatterpolargl"
             }
            ],
            "scatterternary": [
             {
              "marker": {
               "colorbar": {
                "outlinewidth": 0,
                "ticks": ""
               }
              },
              "type": "scatterternary"
             }
            ],
            "surface": [
             {
              "colorbar": {
               "outlinewidth": 0,
               "ticks": ""
              },
              "colorscale": [
               [
                0,
                "#0d0887"
               ],
               [
                0.1111111111111111,
                "#46039f"
               ],
               [
                0.2222222222222222,
                "#7201a8"
               ],
               [
                0.3333333333333333,
                "#9c179e"
               ],
               [
                0.4444444444444444,
                "#bd3786"
               ],
               [
                0.5555555555555556,
                "#d8576b"
               ],
               [
                0.6666666666666666,
                "#ed7953"
               ],
               [
                0.7777777777777778,
                "#fb9f3a"
               ],
               [
                0.8888888888888888,
                "#fdca26"
               ],
               [
                1,
                "#f0f921"
               ]
              ],
              "type": "surface"
             }
            ],
            "table": [
             {
              "cells": {
               "fill": {
                "color": "#EBF0F8"
               },
               "line": {
                "color": "white"
               }
              },
              "header": {
               "fill": {
                "color": "#C8D4E3"
               },
               "line": {
                "color": "white"
               }
              },
              "type": "table"
             }
            ]
           },
           "layout": {
            "annotationdefaults": {
             "arrowcolor": "#2a3f5f",
             "arrowhead": 0,
             "arrowwidth": 1
            },
            "autotypenumbers": "strict",
            "coloraxis": {
             "colorbar": {
              "outlinewidth": 0,
              "ticks": ""
             }
            },
            "colorscale": {
             "diverging": [
              [
               0,
               "#8e0152"
              ],
              [
               0.1,
               "#c51b7d"
              ],
              [
               0.2,
               "#de77ae"
              ],
              [
               0.3,
               "#f1b6da"
              ],
              [
               0.4,
               "#fde0ef"
              ],
              [
               0.5,
               "#f7f7f7"
              ],
              [
               0.6,
               "#e6f5d0"
              ],
              [
               0.7,
               "#b8e186"
              ],
              [
               0.8,
               "#7fbc41"
              ],
              [
               0.9,
               "#4d9221"
              ],
              [
               1,
               "#276419"
              ]
             ],
             "sequential": [
              [
               0,
               "#0d0887"
              ],
              [
               0.1111111111111111,
               "#46039f"
              ],
              [
               0.2222222222222222,
               "#7201a8"
              ],
              [
               0.3333333333333333,
               "#9c179e"
              ],
              [
               0.4444444444444444,
               "#bd3786"
              ],
              [
               0.5555555555555556,
               "#d8576b"
              ],
              [
               0.6666666666666666,
               "#ed7953"
              ],
              [
               0.7777777777777778,
               "#fb9f3a"
              ],
              [
               0.8888888888888888,
               "#fdca26"
              ],
              [
               1,
               "#f0f921"
              ]
             ],
             "sequentialminus": [
              [
               0,
               "#0d0887"
              ],
              [
               0.1111111111111111,
               "#46039f"
              ],
              [
               0.2222222222222222,
               "#7201a8"
              ],
              [
               0.3333333333333333,
               "#9c179e"
              ],
              [
               0.4444444444444444,
               "#bd3786"
              ],
              [
               0.5555555555555556,
               "#d8576b"
              ],
              [
               0.6666666666666666,
               "#ed7953"
              ],
              [
               0.7777777777777778,
               "#fb9f3a"
              ],
              [
               0.8888888888888888,
               "#fdca26"
              ],
              [
               1,
               "#f0f921"
              ]
             ]
            },
            "colorway": [
             "#636efa",
             "#EF553B",
             "#00cc96",
             "#ab63fa",
             "#FFA15A",
             "#19d3f3",
             "#FF6692",
             "#B6E880",
             "#FF97FF",
             "#FECB52"
            ],
            "font": {
             "color": "#2a3f5f"
            },
            "geo": {
             "bgcolor": "white",
             "lakecolor": "white",
             "landcolor": "white",
             "showlakes": true,
             "showland": true,
             "subunitcolor": "#C8D4E3"
            },
            "hoverlabel": {
             "align": "left"
            },
            "hovermode": "closest",
            "mapbox": {
             "style": "light"
            },
            "paper_bgcolor": "white",
            "plot_bgcolor": "white",
            "polar": {
             "angularaxis": {
              "gridcolor": "#EBF0F8",
              "linecolor": "#EBF0F8",
              "ticks": ""
             },
             "bgcolor": "white",
             "radialaxis": {
              "gridcolor": "#EBF0F8",
              "linecolor": "#EBF0F8",
              "ticks": ""
             }
            },
            "scene": {
             "xaxis": {
              "backgroundcolor": "white",
              "gridcolor": "#DFE8F3",
              "gridwidth": 2,
              "linecolor": "#EBF0F8",
              "showbackground": true,
              "ticks": "",
              "zerolinecolor": "#EBF0F8"
             },
             "yaxis": {
              "backgroundcolor": "white",
              "gridcolor": "#DFE8F3",
              "gridwidth": 2,
              "linecolor": "#EBF0F8",
              "showbackground": true,
              "ticks": "",
              "zerolinecolor": "#EBF0F8"
             },
             "zaxis": {
              "backgroundcolor": "white",
              "gridcolor": "#DFE8F3",
              "gridwidth": 2,
              "linecolor": "#EBF0F8",
              "showbackground": true,
              "ticks": "",
              "zerolinecolor": "#EBF0F8"
             }
            },
            "shapedefaults": {
             "line": {
              "color": "#2a3f5f"
             }
            },
            "ternary": {
             "aaxis": {
              "gridcolor": "#DFE8F3",
              "linecolor": "#A2B1C6",
              "ticks": ""
             },
             "baxis": {
              "gridcolor": "#DFE8F3",
              "linecolor": "#A2B1C6",
              "ticks": ""
             },
             "bgcolor": "white",
             "caxis": {
              "gridcolor": "#DFE8F3",
              "linecolor": "#A2B1C6",
              "ticks": ""
             }
            },
            "title": {
             "x": 0.05
            },
            "xaxis": {
             "automargin": true,
             "gridcolor": "#EBF0F8",
             "linecolor": "#EBF0F8",
             "ticks": "",
             "title": {
              "standoff": 15
             },
             "zerolinecolor": "#EBF0F8",
             "zerolinewidth": 2
            },
            "yaxis": {
             "automargin": true,
             "gridcolor": "#EBF0F8",
             "linecolor": "#EBF0F8",
             "ticks": "",
             "title": {
              "standoff": 15
             },
             "zerolinecolor": "#EBF0F8",
             "zerolinewidth": 2
            }
           }
          },
          "xaxis": {
           "automargin": false,
           "linecolor": "#444",
           "linewidth": 2,
           "minor": {
            "tickmode": "linear",
            "ticks": "outside"
           },
           "mirror": true,
           "showline": true,
           "tickmode": "linear",
           "ticks": "outside",
           "zeroline": false
          },
          "yaxis": {
           "automargin": true,
           "linecolor": "#444",
           "linewidth": 2,
           "minor": {
            "tickmode": "linear",
            "ticks": "outside"
           },
           "mirror": true,
           "showline": true,
           "ticks": "outside",
           "zeroline": false
          }
         }
        },
        "width": 600,
        "xaxis": {
         "dtick": 5,
         "minor": {
          "dtick": 1,
          "tick0": 0
         },
         "range": [
          0,
          31
         ],
         "tick0": 0,
         "title": {
          "text": "CR"
         }
        },
        "yaxis": {
         "dtick": 2,
         "minor": {
          "dtick": 1,
          "tick0": 0
         },
         "range": [
          -2,
          11
         ],
         "tick0": 0,
         "title": {
          "text": "ability score modifier"
         }
        }
       }
      }
     },
     "metadata": {},
     "output_type": "display_data"
    }
   ],
   "source": [
    "# Fig. 2: Ability score modifier\n",
    "columns = ['Str Mod','Dex Mod','Con Mod','Int Mod','Wis Mod','Cha Mod']\n",
    "colors = ['#d62728','#9467bd','#8c564b','#1f77b4','#2ca02c','#ff7f0e']\n",
    "\n",
    "df1 = df0[df0['Category'].isin(['generic','legendary','unique']) & df0['CR'].between(1, 30)]\n",
    "dfM = df1[['CR'] + columns].groupby(['CR']).mean().reset_index()\n",
    "\n",
    "# create figure\n",
    "fig = go.Figure(\n",
    "    layout=go.Layout(\n",
    "        template=tfb.FIG_TEMPLATE,\n",
    "        margin=dict(l=70, r=25, b=55, t=20, pad=4),\n",
    "        xaxis=dict(\n",
    "            title_text='CR',\n",
    "            range=[0,31],\n",
    "            tick0=0, dtick=5,\n",
    "            minor=dict(tick0=0, dtick=1),\n",
    "        ),\n",
    "        yaxis=dict(\n",
    "            title_text='ability score modifier',\n",
    "            range=[-2,11],\n",
    "            tick0=0, dtick=2,\n",
    "            minor=dict(tick0=0, dtick=1),\n",
    "        ),\n",
    "        legend=dict(\n",
    "            xanchor='left', yanchor='top',\n",
    "            x=0.00, y=1.00,\n",
    "            orientation='v',\n",
    "            tracegroupgap=0,\n",
    "        )\n",
    "    )\n",
    ")\n",
    "\n",
    "for column, color in zip(columns, colors):\n",
    "    #plot_mean_fit(fig, df1, 'CR', column, column, color)\n",
    "    plot_data_and_fit(\n",
    "        fig, \n",
    "        dfM['CR'], dfM[column],\n",
    "        print_coefficients=True,\n",
    "        name=column,\n",
    "        line=dict(color=color),\n",
    "        hovertemplate=\n",
    "            f'<b>{column}</b><br>'+\n",
    "            'CR %{x}<br>'+\n",
    "            'mean %{y:,.1f}' + \n",
    "            '<extra></extra>'\n",
    "    )\n",
    "\n",
    "# show figure\n",
    "fig.update_layout(width=600, height=450)\n",
    "fig.show(config=tfb.FIG_CONFIG)\n",
    "\n",
    "# save figures\n",
    "if SAVEFIGS:\n",
    "    fig.update_layout(autosize=True, width=None, height=None)\n",
    "    tfb.save_fig_html(fig, format='large', name='fig-ability-score-modifier-vs-cr-large')\n",
    "    tfb.save_fig_html(fig, format='small', name='fig-ability-score-modifier-vs-cr-small')"
   ]
  },
  {
   "cell_type": "code",
   "execution_count": 7,
   "metadata": {},
   "outputs": [
    {
     "data": {
      "application/vnd.plotly.v1+json": {
       "config": {
        "autosizable": true,
        "displayModeBar": "hover",
        "displaylogo": false,
        "doubleClick": "reset",
        "modeBarButtonsToRemove": [
         "select2d",
         "lasso2d",
         "zoom2d",
         "zoomIn2d",
         "zoomOut2d",
         "pan2d",
         "autoScale2d",
         "hoverClosestCartesian",
         "hoverCompareCartesian",
         "toggleSpikelines",
         "resetScale2d"
        ],
        "plotlyServerURL": "https://plot.ly",
        "responsive": true,
        "showAxisDragHandles": false,
        "toImageButtonOptions": {
         "filename": "tfb-plot",
         "format": "png",
         "height": 450,
         "scale": 2,
         "width": 600
        }
       },
       "data": [
        {
         "hovertemplate": "<b>Str Prof</b><br>CR %{x:,.0f}<br>Mean %{y:,.1f}<br><extra></extra>",
         "legendgroup": "Str Prof",
         "line": {
          "color": "#d62728"
         },
         "mode": "markers",
         "name": "Str Prof",
         "type": "scatter",
         "x": [
          1,
          2,
          3,
          4,
          5,
          6,
          7,
          8,
          9,
          10,
          11,
          12,
          13,
          14,
          15,
          16,
          17,
          18,
          19,
          20,
          21,
          22,
          23,
          24,
          25,
          26,
          27,
          28,
          30
         ],
         "y": [
          0,
          0.04081632653061224,
          0.07058823529411765,
          0.06611570247933884,
          0.08333333333333333,
          0.15730337078651685,
          0.0898876404494382,
          0.09782608695652174,
          0.14925373134328357,
          0.09090909090909091,
          0.17857142857142858,
          0.20930232558139536,
          0.11627906976744186,
          0.125,
          0.23333333333333334,
          0.2857142857142857,
          0.15384615384615385,
          0.17391304347826086,
          0.2,
          0.1875,
          0.045454545454545456,
          0.045454545454545456,
          0.15384615384615385,
          0.0625,
          0.08333333333333333,
          0,
          0,
          0.14285714285714285,
          0.25
         ]
        },
        {
         "hoverinfo": "skip",
         "legendgroup": "Str Prof",
         "line": {
          "color": "#d62728"
         },
         "mode": "lines",
         "name": "Str Prof",
         "showlegend": false,
         "type": "scatter",
         "x": [
          1,
          2,
          3,
          4,
          5,
          6,
          7,
          8,
          9,
          10,
          11,
          12,
          13,
          14,
          15,
          16,
          17,
          18,
          19,
          20,
          21,
          22,
          23,
          24,
          25,
          26,
          27,
          28,
          30
         ],
         "y": [
          0.10170723527903008,
          0.1030424418053898,
          0.10437764833174949,
          0.1057128548581092,
          0.10704806138446891,
          0.10838326791082863,
          0.10971847443718832,
          0.11105368096354803,
          0.11238888748990775,
          0.11372409401626746,
          0.11505930054262715,
          0.11639450706898687,
          0.11772971359534658,
          0.11906492012170629,
          0.12040012664806599,
          0.1217353331744257,
          0.12307053970078541,
          0.12440574622714512,
          0.12574095275350483,
          0.12707615927986454,
          0.12841136580622425,
          0.12974657233258394,
          0.13108177885894365,
          0.13241698538530336,
          0.13375219191166307,
          0.13508739843802278,
          0.1364226049643825,
          0.1377578114907422,
          0.1404282245434616
         ]
        },
        {
         "hovertemplate": "<b>Dex Prof</b><br>CR %{x:,.0f}<br>Mean %{y:,.1f}<br><extra></extra>",
         "legendgroup": "Dex Prof",
         "line": {
          "color": "#9467bd"
         },
         "mode": "markers",
         "name": "Dex Prof",
         "type": "scatter",
         "x": [
          1,
          2,
          3,
          4,
          5,
          6,
          7,
          8,
          9,
          10,
          11,
          12,
          13,
          14,
          15,
          16,
          17,
          18,
          19,
          20,
          21,
          22,
          23,
          24,
          25,
          26,
          27,
          28,
          30
         ],
         "y": [
          0.078125,
          0.15306122448979592,
          0.14705882352941177,
          0.12396694214876033,
          0.21794871794871795,
          0.1348314606741573,
          0.2696629213483146,
          0.20652173913043478,
          0.2537313432835821,
          0.2727272727272727,
          0.35714285714285715,
          0.3023255813953488,
          0.3488372093023256,
          0.34375,
          0.43333333333333335,
          0.42857142857142855,
          0.5769230769230769,
          0.43478260869565216,
          0.4666666666666667,
          0.4375,
          0.5909090909090909,
          0.3181818181818182,
          0.6538461538461539,
          0.75,
          0.75,
          0.7333333333333333,
          0.875,
          0.7142857142857143,
          0.5
         ]
        },
        {
         "hoverinfo": "skip",
         "legendgroup": "Dex Prof",
         "line": {
          "color": "#9467bd"
         },
         "mode": "lines",
         "name": "Dex Prof",
         "showlegend": false,
         "type": "scatter",
         "x": [
          1,
          2,
          3,
          4,
          5,
          6,
          7,
          8,
          9,
          10,
          11,
          12,
          13,
          14,
          15,
          16,
          17,
          18,
          19,
          20,
          21,
          22,
          23,
          24,
          25,
          26,
          27,
          28,
          30
         ],
         "y": [
          0.08450591239108175,
          0.10765665651522396,
          0.13080740063936616,
          0.15395814476350836,
          0.17710888888765056,
          0.20025963301179278,
          0.22341037713593498,
          0.24656112126007718,
          0.2697118653842194,
          0.29286260950836157,
          0.31601335363250377,
          0.339164097756646,
          0.3623148418807882,
          0.3854655860049304,
          0.4086163301290726,
          0.4317670742532148,
          0.454917818377357,
          0.4780685625014992,
          0.5012193066256414,
          0.5243700507497836,
          0.5475207948739259,
          0.570671538998068,
          0.5938222831222102,
          0.6169730272463525,
          0.6401237713704947,
          0.6632745154946369,
          0.6864252596187791,
          0.7095760037429213,
          0.7558774919912057
         ]
        },
        {
         "hovertemplate": "<b>Con Prof</b><br>CR %{x:,.0f}<br>Mean %{y:,.1f}<br><extra></extra>",
         "legendgroup": "Con Prof",
         "line": {
          "color": "#8c564b"
         },
         "mode": "markers",
         "name": "Con Prof",
         "type": "scatter",
         "x": [
          1,
          2,
          3,
          4,
          5,
          6,
          7,
          8,
          9,
          10,
          11,
          12,
          13,
          14,
          15,
          16,
          17,
          18,
          19,
          20,
          21,
          22,
          23,
          24,
          25,
          26,
          27,
          28,
          30
         ],
         "y": [
          0.046875,
          0.09693877551020408,
          0.11176470588235295,
          0.2066115702479339,
          0.21794871794871795,
          0.24719101123595505,
          0.33707865168539325,
          0.32608695652173914,
          0.47761194029850745,
          0.41818181818181815,
          0.39285714285714285,
          0.4883720930232558,
          0.5581395348837209,
          0.65625,
          0.5333333333333333,
          0.5357142857142857,
          0.5769230769230769,
          0.6956521739130435,
          0.7333333333333333,
          0.6875,
          0.6363636363636364,
          0.5909090909090909,
          0.7307692307692307,
          0.8125,
          0.6666666666666666,
          0.7333333333333333,
          0.75,
          1,
          0.5
         ]
        },
        {
         "hoverinfo": "skip",
         "legendgroup": "Con Prof",
         "line": {
          "color": "#8c564b"
         },
         "mode": "lines",
         "name": "Con Prof",
         "showlegend": false,
         "type": "scatter",
         "x": [
          1,
          2,
          3,
          4,
          5,
          6,
          7,
          8,
          9,
          10,
          11,
          12,
          13,
          14,
          15,
          16,
          17,
          18,
          19,
          20,
          21,
          22,
          23,
          24,
          25,
          26,
          27,
          28,
          30
         ],
         "y": [
          0.16623980597301083,
          0.19067211974774906,
          0.2151044335224873,
          0.23953674729722552,
          0.2639690610719637,
          0.288401374846702,
          0.31283368862144023,
          0.33726600239617843,
          0.36169831617091663,
          0.3861306299456549,
          0.41056294372039315,
          0.43499525749513135,
          0.45942757126986955,
          0.4838598850446078,
          0.5082921988193461,
          0.5327245125940843,
          0.5571568263688225,
          0.5815891401435607,
          0.606021453918299,
          0.6304537676930372,
          0.6548860814677754,
          0.6793183952425137,
          0.7037507090172519,
          0.7281830227919901,
          0.7526153365667283,
          0.7770476503414665,
          0.8014799641162048,
          0.825912277890943,
          0.8747769054404195
         ]
        },
        {
         "hovertemplate": "<b>Int Prof</b><br>CR %{x:,.0f}<br>Mean %{y:,.1f}<br><extra></extra>",
         "legendgroup": "Int Prof",
         "line": {
          "color": "#1f77b4"
         },
         "mode": "markers",
         "name": "Int Prof",
         "type": "scatter",
         "x": [
          1,
          2,
          3,
          4,
          5,
          6,
          7,
          8,
          9,
          10,
          11,
          12,
          13,
          14,
          15,
          16,
          17,
          18,
          19,
          20,
          21,
          22,
          23,
          24,
          25,
          26,
          27,
          28,
          30
         ],
         "y": [
          0.0234375,
          0.07142857142857142,
          0.08235294117647059,
          0.10743801652892562,
          0.1794871794871795,
          0.23595505617977527,
          0.25842696629213485,
          0.2608695652173913,
          0.208955223880597,
          0.21818181818181817,
          0.16071428571428573,
          0.23255813953488372,
          0.3488372093023256,
          0.25,
          0.3,
          0.25,
          0.3076923076923077,
          0.43478260869565216,
          0.26666666666666666,
          0.1875,
          0.5,
          0.36363636363636365,
          0.2692307692307692,
          0.125,
          0.25,
          0.26666666666666666,
          0.125,
          0.8571428571428571,
          0.5
         ]
        },
        {
         "hoverinfo": "skip",
         "legendgroup": "Int Prof",
         "line": {
          "color": "#1f77b4"
         },
         "mode": "lines",
         "name": "Int Prof",
         "showlegend": false,
         "type": "scatter",
         "x": [
          1,
          2,
          3,
          4,
          5,
          6,
          7,
          8,
          9,
          10,
          11,
          12,
          13,
          14,
          15,
          16,
          17,
          18,
          19,
          20,
          21,
          22,
          23,
          24,
          25,
          26,
          27,
          28,
          30
         ],
         "y": [
          0.11056330930307767,
          0.12146165019464128,
          0.1323599910862049,
          0.1432583319777685,
          0.1541566728693321,
          0.16505501376089574,
          0.17595335465245934,
          0.18685169554402295,
          0.19775003643558656,
          0.20864837732715016,
          0.2195467182187138,
          0.2304450591102774,
          0.241343400001841,
          0.2522417408934046,
          0.2631400817849682,
          0.27403842267653183,
          0.28493676356809544,
          0.29583510445965905,
          0.30673344535122266,
          0.31763178624278626,
          0.3285301271343499,
          0.33942846802591353,
          0.3503268089174771,
          0.36122514980904075,
          0.37212349070060435,
          0.38302183159216796,
          0.39392017248373157,
          0.4048185133752952,
          0.4266151951584224
         ]
        },
        {
         "hovertemplate": "<b>Wis Prof</b><br>CR %{x:,.0f}<br>Mean %{y:,.1f}<br><extra></extra>",
         "legendgroup": "Wis Prof",
         "line": {
          "color": "#2ca02c"
         },
         "mode": "markers",
         "name": "Wis Prof",
         "type": "scatter",
         "x": [
          1,
          2,
          3,
          4,
          5,
          6,
          7,
          8,
          9,
          10,
          11,
          12,
          13,
          14,
          15,
          16,
          17,
          18,
          19,
          20,
          21,
          22,
          23,
          24,
          25,
          26,
          27,
          28,
          30
         ],
         "y": [
          0.0859375,
          0.21428571428571427,
          0.2,
          0.35537190082644626,
          0.36538461538461536,
          0.43820224719101125,
          0.550561797752809,
          0.5434782608695652,
          0.5373134328358209,
          0.6181818181818182,
          0.5892857142857143,
          0.6744186046511628,
          0.6744186046511628,
          0.8125,
          0.7,
          0.8214285714285714,
          0.8076923076923077,
          0.7391304347826086,
          0.7333333333333333,
          0.8125,
          0.8636363636363636,
          0.8181818181818182,
          0.8846153846153846,
          1,
          0.8333333333333334,
          0.8666666666666667,
          0.75,
          1,
          1
         ]
        },
        {
         "hoverinfo": "skip",
         "legendgroup": "Wis Prof",
         "line": {
          "color": "#2ca02c"
         },
         "mode": "lines",
         "name": "Wis Prof",
         "showlegend": false,
         "type": "scatter",
         "x": [
          1,
          2,
          3,
          4,
          5,
          6,
          7,
          8,
          9,
          10,
          11,
          12,
          13,
          14,
          15,
          16,
          17,
          18,
          19,
          20,
          21,
          22,
          23,
          24,
          25,
          26,
          27,
          28,
          30
         ],
         "y": [
          0.2979297033047509,
          0.324096526471209,
          0.35026334963766714,
          0.3764301728041253,
          0.4025969959705834,
          0.4287638191370415,
          0.4549306423034996,
          0.48109746546995774,
          0.5072642886364158,
          0.5334311118028741,
          0.5595979349693321,
          0.5857647581357902,
          0.6119315813022483,
          0.6380984044687065,
          0.6642652276351646,
          0.6904320508016227,
          0.7165988739680809,
          0.742765697134539,
          0.7689325203009971,
          0.7950993434674553,
          0.8212661666339134,
          0.8474329898003715,
          0.8735998129668296,
          0.8997666361332877,
          0.9259334592997458,
          0.9521002824662039,
          0.9782671056326621,
          1.0044339287991202,
          1.0567675751320365
         ]
        },
        {
         "hovertemplate": "<b>Cha Prof</b><br>CR %{x:,.0f}<br>Mean %{y:,.1f}<br><extra></extra>",
         "legendgroup": "Cha Prof",
         "line": {
          "color": "#ff7f0e"
         },
         "mode": "markers",
         "name": "Cha Prof",
         "type": "scatter",
         "x": [
          1,
          2,
          3,
          4,
          5,
          6,
          7,
          8,
          9,
          10,
          11,
          12,
          13,
          14,
          15,
          16,
          17,
          18,
          19,
          20,
          21,
          22,
          23,
          24,
          25,
          26,
          27,
          28,
          30
         ],
         "y": [
          0.0390625,
          0.1326530612244898,
          0.08823529411764706,
          0.15702479338842976,
          0.1858974358974359,
          0.2808988764044944,
          0.29213483146067415,
          0.31521739130434784,
          0.31343283582089554,
          0.2545454545454545,
          0.375,
          0.37209302325581395,
          0.5581395348837209,
          0.5,
          0.7,
          0.6071428571428571,
          0.5,
          0.5652173913043478,
          0.6666666666666666,
          0.625,
          0.5454545454545454,
          0.6818181818181818,
          0.46153846153846156,
          0.5625,
          0.4166666666666667,
          0.7333333333333333,
          0.75,
          1,
          0.75
         ]
        },
        {
         "hoverinfo": "skip",
         "legendgroup": "Cha Prof",
         "line": {
          "color": "#ff7f0e"
         },
         "mode": "lines",
         "name": "Cha Prof",
         "showlegend": false,
         "type": "scatter",
         "x": [
          1,
          2,
          3,
          4,
          5,
          6,
          7,
          8,
          9,
          10,
          11,
          12,
          13,
          14,
          15,
          16,
          17,
          18,
          19,
          20,
          21,
          22,
          23,
          24,
          25,
          26,
          27,
          28,
          30
         ],
         "y": [
          0.12540720828507082,
          0.14946829942993914,
          0.17352939057480748,
          0.1975904817196758,
          0.22165157286454412,
          0.24571266400941244,
          0.26977375515428076,
          0.2938348462991491,
          0.3178959374440174,
          0.3419570285888857,
          0.3660181197337541,
          0.3900792108786224,
          0.4141403020234907,
          0.43820139316835904,
          0.46226248431322736,
          0.4863235754580957,
          0.510384666602964,
          0.5344457577478323,
          0.5585068488927006,
          0.582567940037569,
          0.6066290311824373,
          0.6306901223273056,
          0.6547512134721739,
          0.6788123046170422,
          0.7028733957619105,
          0.7269344869067789,
          0.7509955780516472,
          0.7750566691965155,
          0.8231788514862521
         ]
        }
       ],
       "layout": {
        "height": 450,
        "legend": {
         "orientation": "v",
         "tracegroupgap": 0,
         "x": 0,
         "xanchor": "left",
         "y": 1,
         "yanchor": "top"
        },
        "margin": {
         "b": 55,
         "l": 70,
         "pad": 4,
         "r": 25,
         "t": 20
        },
        "template": {
         "layout": {
          "autosize": false,
          "font": {
           "family": "sans-serif",
           "size": 14
          },
          "hoverlabel": {
           "align": "left"
          },
          "hovermode": "closest",
          "margin": {
           "b": 55,
           "l": 60,
           "pad": 4,
           "r": 25,
           "t": 20
          },
          "template": {
           "data": {
            "bar": [
             {
              "error_x": {
               "color": "#2a3f5f"
              },
              "error_y": {
               "color": "#2a3f5f"
              },
              "marker": {
               "line": {
                "color": "white",
                "width": 0.5
               },
               "pattern": {
                "fillmode": "overlay",
                "size": 10,
                "solidity": 0.2
               }
              },
              "type": "bar"
             }
            ],
            "barpolar": [
             {
              "marker": {
               "line": {
                "color": "white",
                "width": 0.5
               },
               "pattern": {
                "fillmode": "overlay",
                "size": 10,
                "solidity": 0.2
               }
              },
              "type": "barpolar"
             }
            ],
            "carpet": [
             {
              "aaxis": {
               "endlinecolor": "#2a3f5f",
               "gridcolor": "#C8D4E3",
               "linecolor": "#C8D4E3",
               "minorgridcolor": "#C8D4E3",
               "startlinecolor": "#2a3f5f"
              },
              "baxis": {
               "endlinecolor": "#2a3f5f",
               "gridcolor": "#C8D4E3",
               "linecolor": "#C8D4E3",
               "minorgridcolor": "#C8D4E3",
               "startlinecolor": "#2a3f5f"
              },
              "type": "carpet"
             }
            ],
            "choropleth": [
             {
              "colorbar": {
               "outlinewidth": 0,
               "ticks": ""
              },
              "type": "choropleth"
             }
            ],
            "contour": [
             {
              "colorbar": {
               "outlinewidth": 0,
               "ticks": ""
              },
              "colorscale": [
               [
                0,
                "#0d0887"
               ],
               [
                0.1111111111111111,
                "#46039f"
               ],
               [
                0.2222222222222222,
                "#7201a8"
               ],
               [
                0.3333333333333333,
                "#9c179e"
               ],
               [
                0.4444444444444444,
                "#bd3786"
               ],
               [
                0.5555555555555556,
                "#d8576b"
               ],
               [
                0.6666666666666666,
                "#ed7953"
               ],
               [
                0.7777777777777778,
                "#fb9f3a"
               ],
               [
                0.8888888888888888,
                "#fdca26"
               ],
               [
                1,
                "#f0f921"
               ]
              ],
              "type": "contour"
             }
            ],
            "contourcarpet": [
             {
              "colorbar": {
               "outlinewidth": 0,
               "ticks": ""
              },
              "type": "contourcarpet"
             }
            ],
            "heatmap": [
             {
              "colorbar": {
               "outlinewidth": 0,
               "ticks": ""
              },
              "colorscale": [
               [
                0,
                "#0d0887"
               ],
               [
                0.1111111111111111,
                "#46039f"
               ],
               [
                0.2222222222222222,
                "#7201a8"
               ],
               [
                0.3333333333333333,
                "#9c179e"
               ],
               [
                0.4444444444444444,
                "#bd3786"
               ],
               [
                0.5555555555555556,
                "#d8576b"
               ],
               [
                0.6666666666666666,
                "#ed7953"
               ],
               [
                0.7777777777777778,
                "#fb9f3a"
               ],
               [
                0.8888888888888888,
                "#fdca26"
               ],
               [
                1,
                "#f0f921"
               ]
              ],
              "type": "heatmap"
             }
            ],
            "heatmapgl": [
             {
              "colorbar": {
               "outlinewidth": 0,
               "ticks": ""
              },
              "colorscale": [
               [
                0,
                "#0d0887"
               ],
               [
                0.1111111111111111,
                "#46039f"
               ],
               [
                0.2222222222222222,
                "#7201a8"
               ],
               [
                0.3333333333333333,
                "#9c179e"
               ],
               [
                0.4444444444444444,
                "#bd3786"
               ],
               [
                0.5555555555555556,
                "#d8576b"
               ],
               [
                0.6666666666666666,
                "#ed7953"
               ],
               [
                0.7777777777777778,
                "#fb9f3a"
               ],
               [
                0.8888888888888888,
                "#fdca26"
               ],
               [
                1,
                "#f0f921"
               ]
              ],
              "type": "heatmapgl"
             }
            ],
            "histogram": [
             {
              "marker": {
               "pattern": {
                "fillmode": "overlay",
                "size": 10,
                "solidity": 0.2
               }
              },
              "type": "histogram"
             }
            ],
            "histogram2d": [
             {
              "colorbar": {
               "outlinewidth": 0,
               "ticks": ""
              },
              "colorscale": [
               [
                0,
                "#0d0887"
               ],
               [
                0.1111111111111111,
                "#46039f"
               ],
               [
                0.2222222222222222,
                "#7201a8"
               ],
               [
                0.3333333333333333,
                "#9c179e"
               ],
               [
                0.4444444444444444,
                "#bd3786"
               ],
               [
                0.5555555555555556,
                "#d8576b"
               ],
               [
                0.6666666666666666,
                "#ed7953"
               ],
               [
                0.7777777777777778,
                "#fb9f3a"
               ],
               [
                0.8888888888888888,
                "#fdca26"
               ],
               [
                1,
                "#f0f921"
               ]
              ],
              "type": "histogram2d"
             }
            ],
            "histogram2dcontour": [
             {
              "colorbar": {
               "outlinewidth": 0,
               "ticks": ""
              },
              "colorscale": [
               [
                0,
                "#0d0887"
               ],
               [
                0.1111111111111111,
                "#46039f"
               ],
               [
                0.2222222222222222,
                "#7201a8"
               ],
               [
                0.3333333333333333,
                "#9c179e"
               ],
               [
                0.4444444444444444,
                "#bd3786"
               ],
               [
                0.5555555555555556,
                "#d8576b"
               ],
               [
                0.6666666666666666,
                "#ed7953"
               ],
               [
                0.7777777777777778,
                "#fb9f3a"
               ],
               [
                0.8888888888888888,
                "#fdca26"
               ],
               [
                1,
                "#f0f921"
               ]
              ],
              "type": "histogram2dcontour"
             }
            ],
            "mesh3d": [
             {
              "colorbar": {
               "outlinewidth": 0,
               "ticks": ""
              },
              "type": "mesh3d"
             }
            ],
            "parcoords": [
             {
              "line": {
               "colorbar": {
                "outlinewidth": 0,
                "ticks": ""
               }
              },
              "type": "parcoords"
             }
            ],
            "pie": [
             {
              "automargin": true,
              "type": "pie"
             }
            ],
            "scatter": [
             {
              "fillpattern": {
               "fillmode": "overlay",
               "size": 10,
               "solidity": 0.2
              },
              "type": "scatter"
             }
            ],
            "scatter3d": [
             {
              "line": {
               "colorbar": {
                "outlinewidth": 0,
                "ticks": ""
               }
              },
              "marker": {
               "colorbar": {
                "outlinewidth": 0,
                "ticks": ""
               }
              },
              "type": "scatter3d"
             }
            ],
            "scattercarpet": [
             {
              "marker": {
               "colorbar": {
                "outlinewidth": 0,
                "ticks": ""
               }
              },
              "type": "scattercarpet"
             }
            ],
            "scattergeo": [
             {
              "marker": {
               "colorbar": {
                "outlinewidth": 0,
                "ticks": ""
               }
              },
              "type": "scattergeo"
             }
            ],
            "scattergl": [
             {
              "marker": {
               "colorbar": {
                "outlinewidth": 0,
                "ticks": ""
               }
              },
              "type": "scattergl"
             }
            ],
            "scattermapbox": [
             {
              "marker": {
               "colorbar": {
                "outlinewidth": 0,
                "ticks": ""
               }
              },
              "type": "scattermapbox"
             }
            ],
            "scatterpolar": [
             {
              "marker": {
               "colorbar": {
                "outlinewidth": 0,
                "ticks": ""
               }
              },
              "type": "scatterpolar"
             }
            ],
            "scatterpolargl": [
             {
              "marker": {
               "colorbar": {
                "outlinewidth": 0,
                "ticks": ""
               }
              },
              "type": "scatterpolargl"
             }
            ],
            "scatterternary": [
             {
              "marker": {
               "colorbar": {
                "outlinewidth": 0,
                "ticks": ""
               }
              },
              "type": "scatterternary"
             }
            ],
            "surface": [
             {
              "colorbar": {
               "outlinewidth": 0,
               "ticks": ""
              },
              "colorscale": [
               [
                0,
                "#0d0887"
               ],
               [
                0.1111111111111111,
                "#46039f"
               ],
               [
                0.2222222222222222,
                "#7201a8"
               ],
               [
                0.3333333333333333,
                "#9c179e"
               ],
               [
                0.4444444444444444,
                "#bd3786"
               ],
               [
                0.5555555555555556,
                "#d8576b"
               ],
               [
                0.6666666666666666,
                "#ed7953"
               ],
               [
                0.7777777777777778,
                "#fb9f3a"
               ],
               [
                0.8888888888888888,
                "#fdca26"
               ],
               [
                1,
                "#f0f921"
               ]
              ],
              "type": "surface"
             }
            ],
            "table": [
             {
              "cells": {
               "fill": {
                "color": "#EBF0F8"
               },
               "line": {
                "color": "white"
               }
              },
              "header": {
               "fill": {
                "color": "#C8D4E3"
               },
               "line": {
                "color": "white"
               }
              },
              "type": "table"
             }
            ]
           },
           "layout": {
            "annotationdefaults": {
             "arrowcolor": "#2a3f5f",
             "arrowhead": 0,
             "arrowwidth": 1
            },
            "autotypenumbers": "strict",
            "coloraxis": {
             "colorbar": {
              "outlinewidth": 0,
              "ticks": ""
             }
            },
            "colorscale": {
             "diverging": [
              [
               0,
               "#8e0152"
              ],
              [
               0.1,
               "#c51b7d"
              ],
              [
               0.2,
               "#de77ae"
              ],
              [
               0.3,
               "#f1b6da"
              ],
              [
               0.4,
               "#fde0ef"
              ],
              [
               0.5,
               "#f7f7f7"
              ],
              [
               0.6,
               "#e6f5d0"
              ],
              [
               0.7,
               "#b8e186"
              ],
              [
               0.8,
               "#7fbc41"
              ],
              [
               0.9,
               "#4d9221"
              ],
              [
               1,
               "#276419"
              ]
             ],
             "sequential": [
              [
               0,
               "#0d0887"
              ],
              [
               0.1111111111111111,
               "#46039f"
              ],
              [
               0.2222222222222222,
               "#7201a8"
              ],
              [
               0.3333333333333333,
               "#9c179e"
              ],
              [
               0.4444444444444444,
               "#bd3786"
              ],
              [
               0.5555555555555556,
               "#d8576b"
              ],
              [
               0.6666666666666666,
               "#ed7953"
              ],
              [
               0.7777777777777778,
               "#fb9f3a"
              ],
              [
               0.8888888888888888,
               "#fdca26"
              ],
              [
               1,
               "#f0f921"
              ]
             ],
             "sequentialminus": [
              [
               0,
               "#0d0887"
              ],
              [
               0.1111111111111111,
               "#46039f"
              ],
              [
               0.2222222222222222,
               "#7201a8"
              ],
              [
               0.3333333333333333,
               "#9c179e"
              ],
              [
               0.4444444444444444,
               "#bd3786"
              ],
              [
               0.5555555555555556,
               "#d8576b"
              ],
              [
               0.6666666666666666,
               "#ed7953"
              ],
              [
               0.7777777777777778,
               "#fb9f3a"
              ],
              [
               0.8888888888888888,
               "#fdca26"
              ],
              [
               1,
               "#f0f921"
              ]
             ]
            },
            "colorway": [
             "#636efa",
             "#EF553B",
             "#00cc96",
             "#ab63fa",
             "#FFA15A",
             "#19d3f3",
             "#FF6692",
             "#B6E880",
             "#FF97FF",
             "#FECB52"
            ],
            "font": {
             "color": "#2a3f5f"
            },
            "geo": {
             "bgcolor": "white",
             "lakecolor": "white",
             "landcolor": "white",
             "showlakes": true,
             "showland": true,
             "subunitcolor": "#C8D4E3"
            },
            "hoverlabel": {
             "align": "left"
            },
            "hovermode": "closest",
            "mapbox": {
             "style": "light"
            },
            "paper_bgcolor": "white",
            "plot_bgcolor": "white",
            "polar": {
             "angularaxis": {
              "gridcolor": "#EBF0F8",
              "linecolor": "#EBF0F8",
              "ticks": ""
             },
             "bgcolor": "white",
             "radialaxis": {
              "gridcolor": "#EBF0F8",
              "linecolor": "#EBF0F8",
              "ticks": ""
             }
            },
            "scene": {
             "xaxis": {
              "backgroundcolor": "white",
              "gridcolor": "#DFE8F3",
              "gridwidth": 2,
              "linecolor": "#EBF0F8",
              "showbackground": true,
              "ticks": "",
              "zerolinecolor": "#EBF0F8"
             },
             "yaxis": {
              "backgroundcolor": "white",
              "gridcolor": "#DFE8F3",
              "gridwidth": 2,
              "linecolor": "#EBF0F8",
              "showbackground": true,
              "ticks": "",
              "zerolinecolor": "#EBF0F8"
             },
             "zaxis": {
              "backgroundcolor": "white",
              "gridcolor": "#DFE8F3",
              "gridwidth": 2,
              "linecolor": "#EBF0F8",
              "showbackground": true,
              "ticks": "",
              "zerolinecolor": "#EBF0F8"
             }
            },
            "shapedefaults": {
             "line": {
              "color": "#2a3f5f"
             }
            },
            "ternary": {
             "aaxis": {
              "gridcolor": "#DFE8F3",
              "linecolor": "#A2B1C6",
              "ticks": ""
             },
             "baxis": {
              "gridcolor": "#DFE8F3",
              "linecolor": "#A2B1C6",
              "ticks": ""
             },
             "bgcolor": "white",
             "caxis": {
              "gridcolor": "#DFE8F3",
              "linecolor": "#A2B1C6",
              "ticks": ""
             }
            },
            "title": {
             "x": 0.05
            },
            "xaxis": {
             "automargin": true,
             "gridcolor": "#EBF0F8",
             "linecolor": "#EBF0F8",
             "ticks": "",
             "title": {
              "standoff": 15
             },
             "zerolinecolor": "#EBF0F8",
             "zerolinewidth": 2
            },
            "yaxis": {
             "automargin": true,
             "gridcolor": "#EBF0F8",
             "linecolor": "#EBF0F8",
             "ticks": "",
             "title": {
              "standoff": 15
             },
             "zerolinecolor": "#EBF0F8",
             "zerolinewidth": 2
            }
           }
          },
          "xaxis": {
           "automargin": false,
           "linecolor": "#444",
           "linewidth": 2,
           "minor": {
            "tickmode": "linear",
            "ticks": "outside"
           },
           "mirror": true,
           "showline": true,
           "tickmode": "linear",
           "ticks": "outside",
           "zeroline": false
          },
          "yaxis": {
           "automargin": true,
           "linecolor": "#444",
           "linewidth": 2,
           "minor": {
            "tickmode": "linear",
            "ticks": "outside"
           },
           "mirror": true,
           "showline": true,
           "ticks": "outside",
           "zeroline": false
          }
         }
        },
        "width": 600,
        "xaxis": {
         "dtick": 5,
         "minor": {
          "dtick": 1,
          "tick0": 0
         },
         "range": [
          0,
          31
         ],
         "tick0": 0,
         "title": {
          "text": "CR"
         }
        },
        "yaxis": {
         "dtick": 0.2,
         "minor": {
          "dtick": 0.1,
          "tick0": 0
         },
         "range": [
          -0.01,
          1.01
         ],
         "tick0": 0,
         "title": {
          "text": "saving throw proficiency probability"
         }
        }
       }
      }
     },
     "metadata": {},
     "output_type": "display_data"
    }
   ],
   "source": [
    "# Fig. 3: Saving throw proficiency\n",
    "columns = ['Str Prof','Dex Prof','Con Prof','Int Prof','Wis Prof','Cha Prof']\n",
    "colors = ['#d62728','#9467bd','#8c564b','#1f77b4','#2ca02c','#ff7f0e']\n",
    "\n",
    "df1 = df0[df0['Category'].isin(['generic','legendary','unique']) & df0['CR'].between(1, 30)]\n",
    "\n",
    "# create figure\n",
    "fig = go.Figure(\n",
    "    layout=go.Layout(\n",
    "        template=tfb.FIG_TEMPLATE,\n",
    "        margin=dict(l=70, r=25, b=55, t=20, pad=4),\n",
    "        xaxis=dict(\n",
    "            title_text='CR',\n",
    "            range=[0,31],\n",
    "            tick0=0, dtick=5,\n",
    "            minor=dict(tick0=0, dtick=1),\n",
    "        ),\n",
    "        yaxis=dict(\n",
    "            title_text='saving throw proficiency probability',\n",
    "            range=[-0.01,1.01],\n",
    "            tick0=0, dtick=0.2,\n",
    "            minor=dict(tick0=0, dtick=0.1),\n",
    "        ),\n",
    "        legend=dict(\n",
    "            xanchor='left', yanchor='top',\n",
    "            x=0.00, y=1.00,\n",
    "            orientation='v',\n",
    "            tracegroupgap=0,\n",
    "        )\n",
    "    )\n",
    ")\n",
    "\n",
    "for column, color in zip(columns, colors):\n",
    "    plot_mean_fit(fig, df1, 'CR', column, column, color)\n",
    "\n",
    "# show figure\n",
    "fig.update_layout(width=600, height=450)\n",
    "fig.show(config=tfb.FIG_CONFIG)\n",
    "\n",
    "# save figures\n",
    "if SAVEFIGS:\n",
    "    fig.update_layout(autosize=True, width=None, height=None)\n",
    "    tfb.save_fig_html(fig, format='large', name='fig-saving-throw-proficiency-vs-cr-large')\n",
    "    tfb.save_fig_html(fig, format='small', name='fig-saving-throw-proficiency-vs-cr-small')"
   ]
  },
  {
   "cell_type": "code",
   "execution_count": 8,
   "metadata": {},
   "outputs": [
    {
     "data": {
      "application/vnd.plotly.v1+json": {
       "config": {
        "autosizable": true,
        "displayModeBar": "hover",
        "displaylogo": false,
        "doubleClick": "reset",
        "modeBarButtonsToRemove": [
         "select2d",
         "lasso2d",
         "zoom2d",
         "zoomIn2d",
         "zoomOut2d",
         "pan2d",
         "autoScale2d",
         "hoverClosestCartesian",
         "hoverCompareCartesian",
         "toggleSpikelines",
         "resetScale2d"
        ],
        "plotlyServerURL": "https://plot.ly",
        "responsive": true,
        "showAxisDragHandles": false,
        "toImageButtonOptions": {
         "filename": "tfb-plot",
         "format": "png",
         "height": 450,
         "scale": 2,
         "width": 600
        }
       },
       "data": [
        {
         "hovertemplate": "<b>Str PB</b><br>CR %{x:,.0f}<br>Mean %{y:,.1f}<br><extra></extra>",
         "legendgroup": "Str PB",
         "line": {
          "color": "#d62728"
         },
         "mode": "markers",
         "name": "Str PB",
         "type": "scatter",
         "x": [
          1,
          2,
          3,
          4,
          5,
          6,
          7,
          8,
          9,
          10,
          11,
          12,
          13,
          14,
          15,
          16,
          17,
          18,
          19,
          20,
          21,
          22,
          23,
          24,
          25,
          26,
          27,
          28,
          30
         ],
         "y": [
          0,
          0.08163265306122448,
          0.1411764705882353,
          0.1322314049586777,
          0.25,
          0.47191011235955055,
          0.2696629213483146,
          0.29347826086956524,
          0.5970149253731343,
          0.36363636363636365,
          0.7142857142857143,
          0.8372093023255814,
          0.5813953488372093,
          0.625,
          1.1666666666666667,
          1.4285714285714286,
          0.9230769230769231,
          1.0434782608695652,
          1.2,
          1.125,
          0.3181818181818182,
          0.3181818181818182,
          1.0769230769230769,
          0.4375,
          0.6666666666666666,
          0,
          0,
          1.1428571428571428,
          2.25
         ]
        },
        {
         "hoverinfo": "skip",
         "legendgroup": "Str PB",
         "line": {
          "color": "#d62728"
         },
         "mode": "lines",
         "name": "Str PB",
         "showlegend": false,
         "type": "scatter",
         "x": [
          1,
          2,
          3,
          4,
          5,
          6,
          7,
          8,
          9,
          10,
          11,
          12,
          13,
          14,
          15,
          16,
          17,
          18,
          19,
          20,
          21,
          22,
          23,
          24,
          25,
          26,
          27,
          28,
          30
         ],
         "y": [
          0.2244884895966474,
          0.2538387870937872,
          0.283189084590927,
          0.31253938208806686,
          0.34188967958520666,
          0.37123997708234646,
          0.40059027457948626,
          0.42994057207662606,
          0.45929086957376586,
          0.48864116707090566,
          0.5179914645680456,
          0.5473417620651854,
          0.5766920595623252,
          0.606042357059465,
          0.6353926545566048,
          0.6647429520537446,
          0.6940932495508844,
          0.7234435470480242,
          0.752793844545164,
          0.7821441420423038,
          0.8114944395394437,
          0.8408447370365835,
          0.8701950345337233,
          0.8995453320308631,
          0.9288956295280029,
          0.9582459270251427,
          0.9875962245222825,
          1.0169465220194225,
          1.075647117013702
         ]
        },
        {
         "hovertemplate": "<b>Dex PB</b><br>CR %{x:,.0f}<br>Mean %{y:,.1f}<br><extra></extra>",
         "legendgroup": "Dex PB",
         "line": {
          "color": "#9467bd"
         },
         "mode": "markers",
         "name": "Dex PB",
         "type": "scatter",
         "x": [
          1,
          2,
          3,
          4,
          5,
          6,
          7,
          8,
          9,
          10,
          11,
          12,
          13,
          14,
          15,
          16,
          17,
          18,
          19,
          20,
          21,
          22,
          23,
          24,
          25,
          26,
          27,
          28,
          30
         ],
         "y": [
          0.15625,
          0.30612244897959184,
          0.29411764705882354,
          0.24793388429752067,
          0.6538461538461539,
          0.4044943820224719,
          0.8089887640449438,
          0.6195652173913043,
          1.0149253731343284,
          1.0909090909090908,
          1.4285714285714286,
          1.2093023255813953,
          1.744186046511628,
          1.71875,
          2.1666666666666665,
          2.142857142857143,
          3.4615384615384617,
          2.608695652173913,
          2.8,
          2.625,
          4.136363636363637,
          2.227272727272727,
          4.576923076923077,
          5.25,
          6,
          5.866666666666666,
          7,
          5.714285714285714,
          4.5
         ]
        },
        {
         "hoverinfo": "skip",
         "legendgroup": "Dex PB",
         "line": {
          "color": "#9467bd"
         },
         "mode": "lines",
         "name": "Dex PB",
         "showlegend": false,
         "type": "scatter",
         "x": [
          1,
          2,
          3,
          4,
          5,
          6,
          7,
          8,
          9,
          10,
          11,
          12,
          13,
          14,
          15,
          16,
          17,
          18,
          19,
          20,
          21,
          22,
          23,
          24,
          25,
          26,
          27,
          28,
          30
         ],
         "y": [
          -0.5837445345280815,
          -0.36334447553935667,
          -0.14294441655063184,
          0.077455642438093,
          0.2978557014268177,
          0.5182557604155427,
          0.7386558194042676,
          0.9590558783929923,
          1.179455937381717,
          1.3998559963704418,
          1.620256055359167,
          1.8406561143478917,
          2.0610561733366164,
          2.2814562323253416,
          2.5018562913140663,
          2.722256350302791,
          2.9426564092915157,
          3.1630564682802405,
          3.383456527268965,
          3.60385658625769,
          3.8242566452464155,
          4.04465670423514,
          4.265056763223865,
          4.48545682221259,
          4.705856881201314,
          4.926256940190039,
          5.146656999178764,
          5.3670570581674895,
          5.807857176144939
         ]
        },
        {
         "hovertemplate": "<b>Con PB</b><br>CR %{x:,.0f}<br>Mean %{y:,.1f}<br><extra></extra>",
         "legendgroup": "Con PB",
         "line": {
          "color": "#8c564b"
         },
         "mode": "markers",
         "name": "Con PB",
         "type": "scatter",
         "x": [
          1,
          2,
          3,
          4,
          5,
          6,
          7,
          8,
          9,
          10,
          11,
          12,
          13,
          14,
          15,
          16,
          17,
          18,
          19,
          20,
          21,
          22,
          23,
          24,
          25,
          26,
          27,
          28,
          30
         ],
         "y": [
          0.09375,
          0.19387755102040816,
          0.2235294117647059,
          0.4132231404958678,
          0.6538461538461539,
          0.7415730337078652,
          1.0112359550561798,
          0.9782608695652174,
          1.9104477611940298,
          1.6727272727272726,
          1.5714285714285714,
          1.9534883720930232,
          2.7906976744186047,
          3.28125,
          2.6666666666666665,
          2.6785714285714284,
          3.4615384615384617,
          4.173913043478261,
          4.4,
          4.125,
          4.454545454545454,
          4.136363636363637,
          5.115384615384615,
          5.6875,
          5.333333333333333,
          5.866666666666666,
          6,
          8,
          4.5
         ]
        },
        {
         "hoverinfo": "skip",
         "legendgroup": "Con PB",
         "line": {
          "color": "#8c564b"
         },
         "mode": "lines",
         "name": "Con PB",
         "showlegend": false,
         "type": "scatter",
         "x": [
          1,
          2,
          3,
          4,
          5,
          6,
          7,
          8,
          9,
          10,
          11,
          12,
          13,
          14,
          15,
          16,
          17,
          18,
          19,
          20,
          21,
          22,
          23,
          24,
          25,
          26,
          27,
          28,
          30
         ],
         "y": [
          -0.2780540642186692,
          -0.04180741326975562,
          0.19443923767915794,
          0.43068588862807156,
          0.6669325395769851,
          0.9031791905258987,
          1.1394258414748122,
          1.375672492423726,
          1.6119191433726394,
          1.8481657943215528,
          2.0844124452704667,
          2.32065909621938,
          2.556905747168294,
          2.7931523981172073,
          3.029399049066121,
          3.2656457000150345,
          3.501892350963948,
          3.7381390019128617,
          3.9743856528617756,
          4.210632303810689,
          4.446878954759603,
          4.683125605708517,
          4.9193722566574305,
          5.1556189076063434,
          5.391865558555257,
          5.628112209504171,
          5.864358860453084,
          6.100605511401998,
          6.573098813299826
         ]
        },
        {
         "hovertemplate": "<b>Int PB</b><br>CR %{x:,.0f}<br>Mean %{y:,.1f}<br><extra></extra>",
         "legendgroup": "Int PB",
         "line": {
          "color": "#1f77b4"
         },
         "mode": "markers",
         "name": "Int PB",
         "type": "scatter",
         "x": [
          1,
          2,
          3,
          4,
          5,
          6,
          7,
          8,
          9,
          10,
          11,
          12,
          13,
          14,
          15,
          16,
          17,
          18,
          19,
          20,
          21,
          22,
          23,
          24,
          25,
          26,
          27,
          28,
          30
         ],
         "y": [
          0.046875,
          0.14285714285714285,
          0.16470588235294117,
          0.21487603305785125,
          0.5384615384615384,
          0.7078651685393258,
          0.7752808988764045,
          0.782608695652174,
          0.835820895522388,
          0.8727272727272727,
          0.6428571428571429,
          0.9302325581395349,
          1.744186046511628,
          1.25,
          1.5,
          1.25,
          1.8461538461538463,
          2.608695652173913,
          1.6,
          1.125,
          3.5,
          2.5454545454545454,
          1.8846153846153846,
          0.875,
          2,
          2.1333333333333333,
          1,
          6.857142857142857,
          4.5
         ]
        },
        {
         "hoverinfo": "skip",
         "legendgroup": "Int PB",
         "line": {
          "color": "#1f77b4"
         },
         "mode": "lines",
         "name": "Int PB",
         "showlegend": false,
         "type": "scatter",
         "x": [
          1,
          2,
          3,
          4,
          5,
          6,
          7,
          8,
          9,
          10,
          11,
          12,
          13,
          14,
          15,
          16,
          17,
          18,
          19,
          20,
          21,
          22,
          23,
          24,
          25,
          26,
          27,
          28,
          30
         ],
         "y": [
          -0.138650087859625,
          -0.0185134725221352,
          0.10162314281535462,
          0.22175975815284438,
          0.34189637349033414,
          0.462032988827824,
          0.5821696041653137,
          0.7023062195028036,
          0.8224428348402935,
          0.9425794501777831,
          1.062716065515273,
          1.1828526808527628,
          1.3029892961902525,
          1.4231259115277424,
          1.543262526865232,
          1.663399142202722,
          1.7835357575402118,
          1.9036723728777016,
          2.023808988215191,
          2.1439456035526807,
          2.2640822188901706,
          2.3842188342276605,
          2.5043554495651503,
          2.62449206490264,
          2.7446286802401296,
          2.8647652955776195,
          2.9849019109151094,
          3.1050385262525992,
          3.3453117569275785
         ]
        },
        {
         "hovertemplate": "<b>Wis PB</b><br>CR %{x:,.0f}<br>Mean %{y:,.1f}<br><extra></extra>",
         "legendgroup": "Wis PB",
         "line": {
          "color": "#2ca02c"
         },
         "mode": "markers",
         "name": "Wis PB",
         "type": "scatter",
         "x": [
          1,
          2,
          3,
          4,
          5,
          6,
          7,
          8,
          9,
          10,
          11,
          12,
          13,
          14,
          15,
          16,
          17,
          18,
          19,
          20,
          21,
          22,
          23,
          24,
          25,
          26,
          27,
          28,
          30
         ],
         "y": [
          0.171875,
          0.42857142857142855,
          0.4,
          0.7107438016528925,
          1.0961538461538463,
          1.3146067415730338,
          1.651685393258427,
          1.6304347826086956,
          2.1492537313432836,
          2.4727272727272727,
          2.357142857142857,
          2.697674418604651,
          3.372093023255814,
          4.0625,
          3.5,
          4.107142857142857,
          4.846153846153846,
          4.434782608695652,
          4.4,
          4.875,
          6.045454545454546,
          5.7272727272727275,
          6.1923076923076925,
          7,
          6.666666666666667,
          6.933333333333334,
          6,
          8,
          9
         ]
        },
        {
         "hoverinfo": "skip",
         "legendgroup": "Wis PB",
         "line": {
          "color": "#2ca02c"
         },
         "mode": "lines",
         "name": "Wis PB",
         "showlegend": false,
         "type": "scatter",
         "x": [
          1,
          2,
          3,
          4,
          5,
          6,
          7,
          8,
          9,
          10,
          11,
          12,
          13,
          14,
          15,
          16,
          17,
          18,
          19,
          20,
          21,
          22,
          23,
          24,
          25,
          26,
          27,
          28,
          30
         ],
         "y": [
          -0.12687669036363258,
          0.1579464069200649,
          0.4427695042037624,
          0.7275926014874599,
          1.0124156987711572,
          1.2972387960548548,
          1.5820618933385524,
          1.8668849906222498,
          2.151708087905947,
          2.4365311851896445,
          2.7213542824733423,
          3.0061773797570397,
          3.291000477040737,
          3.575823574324435,
          3.860646671608132,
          4.14546976889183,
          4.430292866175527,
          4.715115963459224,
          4.999939060742922,
          5.284762158026619,
          5.569585255310317,
          5.854408352594015,
          6.139231449877712,
          6.4240545471614094,
          6.708877644445107,
          6.993700741728804,
          7.278523839012502,
          7.5633469362962,
          8.132993130863593
         ]
        },
        {
         "hovertemplate": "<b>Cha PB</b><br>CR %{x:,.0f}<br>Mean %{y:,.1f}<br><extra></extra>",
         "legendgroup": "Cha PB",
         "line": {
          "color": "#ff7f0e"
         },
         "mode": "markers",
         "name": "Cha PB",
         "type": "scatter",
         "x": [
          1,
          2,
          3,
          4,
          5,
          6,
          7,
          8,
          9,
          10,
          11,
          12,
          13,
          14,
          15,
          16,
          17,
          18,
          19,
          20,
          21,
          22,
          23,
          24,
          25,
          26,
          27,
          28,
          30
         ],
         "y": [
          0.078125,
          0.2653061224489796,
          0.17647058823529413,
          0.3140495867768595,
          0.5576923076923077,
          0.8426966292134831,
          0.8764044943820225,
          0.9456521739130435,
          1.2537313432835822,
          1.018181818181818,
          1.5,
          1.4883720930232558,
          2.7906976744186047,
          2.5,
          3.5,
          3.0357142857142856,
          3,
          3.391304347826087,
          4,
          3.75,
          3.8181818181818183,
          4.7727272727272725,
          3.230769230769231,
          3.9375,
          3.3333333333333335,
          5.866666666666666,
          6,
          8,
          6.75
         ]
        },
        {
         "hoverinfo": "skip",
         "legendgroup": "Cha PB",
         "line": {
          "color": "#ff7f0e"
         },
         "mode": "lines",
         "name": "Cha PB",
         "showlegend": false,
         "type": "scatter",
         "x": [
          1,
          2,
          3,
          4,
          5,
          6,
          7,
          8,
          9,
          10,
          11,
          12,
          13,
          14,
          15,
          16,
          17,
          18,
          19,
          20,
          21,
          22,
          23,
          24,
          25,
          26,
          27,
          28,
          30
         ],
         "y": [
          -0.45042969520532117,
          -0.2193337788718021,
          0.011762137461716948,
          0.24285805379523595,
          0.47395397012875495,
          0.7050498864622741,
          0.936145802795793,
          1.167241719129312,
          1.398337635462831,
          1.62943355179635,
          1.8605294681298692,
          2.0916253844633883,
          2.3227213007969074,
          2.553817217130426,
          2.784913133463945,
          3.0160090497974643,
          3.2471049661309834,
          3.478200882464502,
          3.709296798798021,
          3.9403927151315403,
          4.17148863146506,
          4.402584547798579,
          4.633680464132098,
          4.864776380465617,
          5.095872296799136,
          5.3269682131326554,
          5.558064129466173,
          5.789160045799692,
          6.25135187846673
         ]
        }
       ],
       "layout": {
        "height": 450,
        "legend": {
         "orientation": "v",
         "tracegroupgap": 0,
         "x": 0,
         "xanchor": "left",
         "y": 1,
         "yanchor": "top"
        },
        "margin": {
         "b": 55,
         "l": 70,
         "pad": 4,
         "r": 25,
         "t": 20
        },
        "template": {
         "layout": {
          "autosize": false,
          "font": {
           "family": "sans-serif",
           "size": 14
          },
          "hoverlabel": {
           "align": "left"
          },
          "hovermode": "closest",
          "margin": {
           "b": 55,
           "l": 60,
           "pad": 4,
           "r": 25,
           "t": 20
          },
          "template": {
           "data": {
            "bar": [
             {
              "error_x": {
               "color": "#2a3f5f"
              },
              "error_y": {
               "color": "#2a3f5f"
              },
              "marker": {
               "line": {
                "color": "white",
                "width": 0.5
               },
               "pattern": {
                "fillmode": "overlay",
                "size": 10,
                "solidity": 0.2
               }
              },
              "type": "bar"
             }
            ],
            "barpolar": [
             {
              "marker": {
               "line": {
                "color": "white",
                "width": 0.5
               },
               "pattern": {
                "fillmode": "overlay",
                "size": 10,
                "solidity": 0.2
               }
              },
              "type": "barpolar"
             }
            ],
            "carpet": [
             {
              "aaxis": {
               "endlinecolor": "#2a3f5f",
               "gridcolor": "#C8D4E3",
               "linecolor": "#C8D4E3",
               "minorgridcolor": "#C8D4E3",
               "startlinecolor": "#2a3f5f"
              },
              "baxis": {
               "endlinecolor": "#2a3f5f",
               "gridcolor": "#C8D4E3",
               "linecolor": "#C8D4E3",
               "minorgridcolor": "#C8D4E3",
               "startlinecolor": "#2a3f5f"
              },
              "type": "carpet"
             }
            ],
            "choropleth": [
             {
              "colorbar": {
               "outlinewidth": 0,
               "ticks": ""
              },
              "type": "choropleth"
             }
            ],
            "contour": [
             {
              "colorbar": {
               "outlinewidth": 0,
               "ticks": ""
              },
              "colorscale": [
               [
                0,
                "#0d0887"
               ],
               [
                0.1111111111111111,
                "#46039f"
               ],
               [
                0.2222222222222222,
                "#7201a8"
               ],
               [
                0.3333333333333333,
                "#9c179e"
               ],
               [
                0.4444444444444444,
                "#bd3786"
               ],
               [
                0.5555555555555556,
                "#d8576b"
               ],
               [
                0.6666666666666666,
                "#ed7953"
               ],
               [
                0.7777777777777778,
                "#fb9f3a"
               ],
               [
                0.8888888888888888,
                "#fdca26"
               ],
               [
                1,
                "#f0f921"
               ]
              ],
              "type": "contour"
             }
            ],
            "contourcarpet": [
             {
              "colorbar": {
               "outlinewidth": 0,
               "ticks": ""
              },
              "type": "contourcarpet"
             }
            ],
            "heatmap": [
             {
              "colorbar": {
               "outlinewidth": 0,
               "ticks": ""
              },
              "colorscale": [
               [
                0,
                "#0d0887"
               ],
               [
                0.1111111111111111,
                "#46039f"
               ],
               [
                0.2222222222222222,
                "#7201a8"
               ],
               [
                0.3333333333333333,
                "#9c179e"
               ],
               [
                0.4444444444444444,
                "#bd3786"
               ],
               [
                0.5555555555555556,
                "#d8576b"
               ],
               [
                0.6666666666666666,
                "#ed7953"
               ],
               [
                0.7777777777777778,
                "#fb9f3a"
               ],
               [
                0.8888888888888888,
                "#fdca26"
               ],
               [
                1,
                "#f0f921"
               ]
              ],
              "type": "heatmap"
             }
            ],
            "heatmapgl": [
             {
              "colorbar": {
               "outlinewidth": 0,
               "ticks": ""
              },
              "colorscale": [
               [
                0,
                "#0d0887"
               ],
               [
                0.1111111111111111,
                "#46039f"
               ],
               [
                0.2222222222222222,
                "#7201a8"
               ],
               [
                0.3333333333333333,
                "#9c179e"
               ],
               [
                0.4444444444444444,
                "#bd3786"
               ],
               [
                0.5555555555555556,
                "#d8576b"
               ],
               [
                0.6666666666666666,
                "#ed7953"
               ],
               [
                0.7777777777777778,
                "#fb9f3a"
               ],
               [
                0.8888888888888888,
                "#fdca26"
               ],
               [
                1,
                "#f0f921"
               ]
              ],
              "type": "heatmapgl"
             }
            ],
            "histogram": [
             {
              "marker": {
               "pattern": {
                "fillmode": "overlay",
                "size": 10,
                "solidity": 0.2
               }
              },
              "type": "histogram"
             }
            ],
            "histogram2d": [
             {
              "colorbar": {
               "outlinewidth": 0,
               "ticks": ""
              },
              "colorscale": [
               [
                0,
                "#0d0887"
               ],
               [
                0.1111111111111111,
                "#46039f"
               ],
               [
                0.2222222222222222,
                "#7201a8"
               ],
               [
                0.3333333333333333,
                "#9c179e"
               ],
               [
                0.4444444444444444,
                "#bd3786"
               ],
               [
                0.5555555555555556,
                "#d8576b"
               ],
               [
                0.6666666666666666,
                "#ed7953"
               ],
               [
                0.7777777777777778,
                "#fb9f3a"
               ],
               [
                0.8888888888888888,
                "#fdca26"
               ],
               [
                1,
                "#f0f921"
               ]
              ],
              "type": "histogram2d"
             }
            ],
            "histogram2dcontour": [
             {
              "colorbar": {
               "outlinewidth": 0,
               "ticks": ""
              },
              "colorscale": [
               [
                0,
                "#0d0887"
               ],
               [
                0.1111111111111111,
                "#46039f"
               ],
               [
                0.2222222222222222,
                "#7201a8"
               ],
               [
                0.3333333333333333,
                "#9c179e"
               ],
               [
                0.4444444444444444,
                "#bd3786"
               ],
               [
                0.5555555555555556,
                "#d8576b"
               ],
               [
                0.6666666666666666,
                "#ed7953"
               ],
               [
                0.7777777777777778,
                "#fb9f3a"
               ],
               [
                0.8888888888888888,
                "#fdca26"
               ],
               [
                1,
                "#f0f921"
               ]
              ],
              "type": "histogram2dcontour"
             }
            ],
            "mesh3d": [
             {
              "colorbar": {
               "outlinewidth": 0,
               "ticks": ""
              },
              "type": "mesh3d"
             }
            ],
            "parcoords": [
             {
              "line": {
               "colorbar": {
                "outlinewidth": 0,
                "ticks": ""
               }
              },
              "type": "parcoords"
             }
            ],
            "pie": [
             {
              "automargin": true,
              "type": "pie"
             }
            ],
            "scatter": [
             {
              "fillpattern": {
               "fillmode": "overlay",
               "size": 10,
               "solidity": 0.2
              },
              "type": "scatter"
             }
            ],
            "scatter3d": [
             {
              "line": {
               "colorbar": {
                "outlinewidth": 0,
                "ticks": ""
               }
              },
              "marker": {
               "colorbar": {
                "outlinewidth": 0,
                "ticks": ""
               }
              },
              "type": "scatter3d"
             }
            ],
            "scattercarpet": [
             {
              "marker": {
               "colorbar": {
                "outlinewidth": 0,
                "ticks": ""
               }
              },
              "type": "scattercarpet"
             }
            ],
            "scattergeo": [
             {
              "marker": {
               "colorbar": {
                "outlinewidth": 0,
                "ticks": ""
               }
              },
              "type": "scattergeo"
             }
            ],
            "scattergl": [
             {
              "marker": {
               "colorbar": {
                "outlinewidth": 0,
                "ticks": ""
               }
              },
              "type": "scattergl"
             }
            ],
            "scattermapbox": [
             {
              "marker": {
               "colorbar": {
                "outlinewidth": 0,
                "ticks": ""
               }
              },
              "type": "scattermapbox"
             }
            ],
            "scatterpolar": [
             {
              "marker": {
               "colorbar": {
                "outlinewidth": 0,
                "ticks": ""
               }
              },
              "type": "scatterpolar"
             }
            ],
            "scatterpolargl": [
             {
              "marker": {
               "colorbar": {
                "outlinewidth": 0,
                "ticks": ""
               }
              },
              "type": "scatterpolargl"
             }
            ],
            "scatterternary": [
             {
              "marker": {
               "colorbar": {
                "outlinewidth": 0,
                "ticks": ""
               }
              },
              "type": "scatterternary"
             }
            ],
            "surface": [
             {
              "colorbar": {
               "outlinewidth": 0,
               "ticks": ""
              },
              "colorscale": [
               [
                0,
                "#0d0887"
               ],
               [
                0.1111111111111111,
                "#46039f"
               ],
               [
                0.2222222222222222,
                "#7201a8"
               ],
               [
                0.3333333333333333,
                "#9c179e"
               ],
               [
                0.4444444444444444,
                "#bd3786"
               ],
               [
                0.5555555555555556,
                "#d8576b"
               ],
               [
                0.6666666666666666,
                "#ed7953"
               ],
               [
                0.7777777777777778,
                "#fb9f3a"
               ],
               [
                0.8888888888888888,
                "#fdca26"
               ],
               [
                1,
                "#f0f921"
               ]
              ],
              "type": "surface"
             }
            ],
            "table": [
             {
              "cells": {
               "fill": {
                "color": "#EBF0F8"
               },
               "line": {
                "color": "white"
               }
              },
              "header": {
               "fill": {
                "color": "#C8D4E3"
               },
               "line": {
                "color": "white"
               }
              },
              "type": "table"
             }
            ]
           },
           "layout": {
            "annotationdefaults": {
             "arrowcolor": "#2a3f5f",
             "arrowhead": 0,
             "arrowwidth": 1
            },
            "autotypenumbers": "strict",
            "coloraxis": {
             "colorbar": {
              "outlinewidth": 0,
              "ticks": ""
             }
            },
            "colorscale": {
             "diverging": [
              [
               0,
               "#8e0152"
              ],
              [
               0.1,
               "#c51b7d"
              ],
              [
               0.2,
               "#de77ae"
              ],
              [
               0.3,
               "#f1b6da"
              ],
              [
               0.4,
               "#fde0ef"
              ],
              [
               0.5,
               "#f7f7f7"
              ],
              [
               0.6,
               "#e6f5d0"
              ],
              [
               0.7,
               "#b8e186"
              ],
              [
               0.8,
               "#7fbc41"
              ],
              [
               0.9,
               "#4d9221"
              ],
              [
               1,
               "#276419"
              ]
             ],
             "sequential": [
              [
               0,
               "#0d0887"
              ],
              [
               0.1111111111111111,
               "#46039f"
              ],
              [
               0.2222222222222222,
               "#7201a8"
              ],
              [
               0.3333333333333333,
               "#9c179e"
              ],
              [
               0.4444444444444444,
               "#bd3786"
              ],
              [
               0.5555555555555556,
               "#d8576b"
              ],
              [
               0.6666666666666666,
               "#ed7953"
              ],
              [
               0.7777777777777778,
               "#fb9f3a"
              ],
              [
               0.8888888888888888,
               "#fdca26"
              ],
              [
               1,
               "#f0f921"
              ]
             ],
             "sequentialminus": [
              [
               0,
               "#0d0887"
              ],
              [
               0.1111111111111111,
               "#46039f"
              ],
              [
               0.2222222222222222,
               "#7201a8"
              ],
              [
               0.3333333333333333,
               "#9c179e"
              ],
              [
               0.4444444444444444,
               "#bd3786"
              ],
              [
               0.5555555555555556,
               "#d8576b"
              ],
              [
               0.6666666666666666,
               "#ed7953"
              ],
              [
               0.7777777777777778,
               "#fb9f3a"
              ],
              [
               0.8888888888888888,
               "#fdca26"
              ],
              [
               1,
               "#f0f921"
              ]
             ]
            },
            "colorway": [
             "#636efa",
             "#EF553B",
             "#00cc96",
             "#ab63fa",
             "#FFA15A",
             "#19d3f3",
             "#FF6692",
             "#B6E880",
             "#FF97FF",
             "#FECB52"
            ],
            "font": {
             "color": "#2a3f5f"
            },
            "geo": {
             "bgcolor": "white",
             "lakecolor": "white",
             "landcolor": "white",
             "showlakes": true,
             "showland": true,
             "subunitcolor": "#C8D4E3"
            },
            "hoverlabel": {
             "align": "left"
            },
            "hovermode": "closest",
            "mapbox": {
             "style": "light"
            },
            "paper_bgcolor": "white",
            "plot_bgcolor": "white",
            "polar": {
             "angularaxis": {
              "gridcolor": "#EBF0F8",
              "linecolor": "#EBF0F8",
              "ticks": ""
             },
             "bgcolor": "white",
             "radialaxis": {
              "gridcolor": "#EBF0F8",
              "linecolor": "#EBF0F8",
              "ticks": ""
             }
            },
            "scene": {
             "xaxis": {
              "backgroundcolor": "white",
              "gridcolor": "#DFE8F3",
              "gridwidth": 2,
              "linecolor": "#EBF0F8",
              "showbackground": true,
              "ticks": "",
              "zerolinecolor": "#EBF0F8"
             },
             "yaxis": {
              "backgroundcolor": "white",
              "gridcolor": "#DFE8F3",
              "gridwidth": 2,
              "linecolor": "#EBF0F8",
              "showbackground": true,
              "ticks": "",
              "zerolinecolor": "#EBF0F8"
             },
             "zaxis": {
              "backgroundcolor": "white",
              "gridcolor": "#DFE8F3",
              "gridwidth": 2,
              "linecolor": "#EBF0F8",
              "showbackground": true,
              "ticks": "",
              "zerolinecolor": "#EBF0F8"
             }
            },
            "shapedefaults": {
             "line": {
              "color": "#2a3f5f"
             }
            },
            "ternary": {
             "aaxis": {
              "gridcolor": "#DFE8F3",
              "linecolor": "#A2B1C6",
              "ticks": ""
             },
             "baxis": {
              "gridcolor": "#DFE8F3",
              "linecolor": "#A2B1C6",
              "ticks": ""
             },
             "bgcolor": "white",
             "caxis": {
              "gridcolor": "#DFE8F3",
              "linecolor": "#A2B1C6",
              "ticks": ""
             }
            },
            "title": {
             "x": 0.05
            },
            "xaxis": {
             "automargin": true,
             "gridcolor": "#EBF0F8",
             "linecolor": "#EBF0F8",
             "ticks": "",
             "title": {
              "standoff": 15
             },
             "zerolinecolor": "#EBF0F8",
             "zerolinewidth": 2
            },
            "yaxis": {
             "automargin": true,
             "gridcolor": "#EBF0F8",
             "linecolor": "#EBF0F8",
             "ticks": "",
             "title": {
              "standoff": 15
             },
             "zerolinecolor": "#EBF0F8",
             "zerolinewidth": 2
            }
           }
          },
          "xaxis": {
           "automargin": false,
           "linecolor": "#444",
           "linewidth": 2,
           "minor": {
            "tickmode": "linear",
            "ticks": "outside"
           },
           "mirror": true,
           "showline": true,
           "tickmode": "linear",
           "ticks": "outside",
           "zeroline": false
          },
          "yaxis": {
           "automargin": true,
           "linecolor": "#444",
           "linewidth": 2,
           "minor": {
            "tickmode": "linear",
            "ticks": "outside"
           },
           "mirror": true,
           "showline": true,
           "ticks": "outside",
           "zeroline": false
          }
         }
        },
        "width": 600,
        "xaxis": {
         "dtick": 5,
         "minor": {
          "dtick": 1,
          "tick0": 0
         },
         "range": [
          0,
          31
         ],
         "tick0": 0,
         "title": {
          "text": "CR"
         }
        },
        "yaxis": {
         "dtick": 2,
         "minor": {
          "dtick": 1,
          "tick0": 0
         },
         "range": [
          -2,
          11
         ],
         "tick0": 0,
         "title": {
          "text": "saving throw bonus"
         }
        }
       }
      }
     },
     "metadata": {},
     "output_type": "display_data"
    }
   ],
   "source": [
    "# Fig. 4: Saving throw proficiency bonus\n",
    "columns = ['Str PB','Dex PB','Con PB','Int PB','Wis PB','Cha PB']\n",
    "colors = ['#d62728','#9467bd','#8c564b','#1f77b4','#2ca02c','#ff7f0e']\n",
    "\n",
    "df1 = df0[df0['Category'].isin(['generic','legendary','unique']) & df0['CR'].between(1, 30)]\n",
    "\n",
    "# create figure\n",
    "fig = go.Figure(\n",
    "    layout=go.Layout(\n",
    "        template=tfb.FIG_TEMPLATE,\n",
    "        margin=dict(l=70, r=25, b=55, t=20, pad=4),\n",
    "        xaxis=dict(\n",
    "            title_text='CR',\n",
    "            range=[0,31],\n",
    "            tick0=0, dtick=5,\n",
    "            minor=dict(tick0=0, dtick=1),\n",
    "        ),\n",
    "        yaxis=dict(\n",
    "            title_text='saving throw bonus',\n",
    "            range=[-2,11],\n",
    "            tick0=0, dtick=2,\n",
    "            minor=dict(tick0=0, dtick=1),\n",
    "        ),\n",
    "        legend=dict(\n",
    "            xanchor='left', yanchor='top',\n",
    "            x=0.00, y=1.00,\n",
    "            orientation='v',\n",
    "            tracegroupgap=0,\n",
    "        )\n",
    "    )\n",
    ")\n",
    "\n",
    "for column, color in zip(columns, colors):\n",
    "    plot_mean_fit(fig, df1, 'CR', column, column, color)\n",
    "\n",
    "# show figure\n",
    "fig.update_layout(width=600, height=450)\n",
    "fig.show(config=tfb.FIG_CONFIG)\n",
    "\n",
    "# save figures\n",
    "if SAVEFIGS:\n",
    "    fig.update_layout(autosize=True, width=None, height=None)\n",
    "    tfb.save_fig_html(fig, format='large', name='fig-saving-throw-proficiency-bonus-vs-cr-large')\n",
    "    tfb.save_fig_html(fig, format='small', name='fig-saving-throw-proficiency-bonus-vs-cr-small')"
   ]
  }
 ],
 "metadata": {
  "kernelspec": {
   "display_name": "thefinishedbook",
   "language": "python",
   "name": "python3"
  },
  "language_info": {
   "codemirror_mode": {
    "name": "ipython",
    "version": 3
   },
   "file_extension": ".py",
   "mimetype": "text/x-python",
   "name": "python",
   "nbconvert_exporter": "python",
   "pygments_lexer": "ipython3",
   "version": "3.10.5"
  },
  "metadata": {
   "interpreter": {
    "hash": "aee8b7b246df8f9039afb4144a1f6fd8d2ca17a180786b69acc140d282b71a49"
   }
  },
  "orig_nbformat": 2,
  "vscode": {
   "interpreter": {
    "hash": "e4b90a08ac11b7f80ea6e39e6f46c6e22a0b6d86a47874aaa13784019f162251"
   }
  }
 },
 "nbformat": 4,
 "nbformat_minor": 2
}
