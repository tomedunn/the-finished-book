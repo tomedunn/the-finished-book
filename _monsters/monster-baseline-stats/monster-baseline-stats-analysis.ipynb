{
 "cells": [
  {
   "cell_type": "code",
   "execution_count": null,
   "metadata": {},
   "outputs": [
    {
     "name": "stdout",
     "output_type": "stream",
     "text": [
      "Includes 2144 monsters in database\n"
     ]
    }
   ],
   "source": [
    "import numpy as np\n",
    "import pandas as pd\n",
    "import plotly.graph_objects as go\n",
    "import sys\n",
    "sys.path.append('../../assets/python/')\n",
    "import tfb\n",
    "\n",
    "pd.options.mode.chained_assignment = None  # default='warn'\n",
    "\n",
    "METADATA = {'Contributor': 'T. Dunn'}\n",
    "SAVEFIGS = False\n",
    "\n",
    "df0 = pd.read_csv('../../assets/data/monsters.csv')\n",
    "print('Includes {} monsters in database'.format(len(df0.index.to_list())))"
   ]
  },
  {
   "cell_type": "code",
   "execution_count": 34,
   "metadata": {},
   "outputs": [],
   "source": [
    "# functions\n",
    "import json\n",
    "import pandas as pd\n",
    "import numpy as np\n",
    "from scipy import optimize\n",
    "\n",
    "def adjusted_armor_class_target(row, **kwargs):\n",
    "    \"\"\"The fitted baseline value for a creature's adjusted AC based on their CR\n",
    "    \"\"\"\n",
    "    return np.round(14.01 + 0.41*row['CR'], 0)\n",
    "\n",
    "def unadjusted_armor_class_delta(row, **kwargs):\n",
    "    \"\"\"How much a creature's unadjusted AC differs from the baseline adjusted AC for their CR\n",
    "    \"\"\"\n",
    "    return unadjusted_armor_class(row) - adjusted_armor_class_target(row, **kwargs)\n",
    "\n",
    "def average_save_bonus_delta(row, **kwargs):\n",
    "    \"\"\"How much a creature's average effective save bonus differs from the baseline adjusted AC for their CR\n",
    "    \"\"\"\n",
    "    return average_effective_save_bonus(row, **kwargs) - (adjusted_armor_class_target(row, **kwargs) - 14)\n",
    "\n",
    "\n",
    "def average_save_bonus(row, **kwargs):\n",
    "    saves = kwargs.get('saves', ['Str Save','Dex Save','Con Save','Int Save','Wis Save','Cha Save'])\n",
    "    ave = np.mean([row[s] for s in saves])\n",
    "    return ave\n",
    "\n",
    "def average_save_mod(row, **kwargs):\n",
    "    saves = kwargs.get('saves', ['Str Mod','Dex Mod','Con Mod','Int Mod','Wis Mod','Cha Mod'])\n",
    "    ave = np.mean([row[s] for s in saves])\n",
    "    return ave\n",
    "\n",
    "def average_effective_save_bonus(row, **kwargs):\n",
    "    ave = average_save_bonus(row, **kwargs)\n",
    "    ave += 4 if 'magic resistance' in row['AC adjustments'] else 0\n",
    "    return ave\n",
    "\n",
    "def average_effective_save_mod(row, **kwargs):\n",
    "    ave = average_save_mod(row, **kwargs)\n",
    "    ave += 4 if 'magic resistance' in row['AC adjustments'] else 0\n",
    "    return ave\n",
    "\n",
    "\n",
    "def count_save_proficiencies(row):\n",
    "    return row['Str Prof'] + row['Dex Prof'] + row['Con Prof'] + row['Int Prof'] + row['Wis Prof'] + row['Cha Prof']\n",
    "\n",
    "def adjust_armor_class(row):\n",
    "    n_saves = count_save_proficiencies(row)\n",
    "    if n_saves >= 5:\n",
    "        return 4\n",
    "    elif n_saves >= 3:\n",
    "        return 2\n",
    "    else:\n",
    "        return 0\n",
    "    \n",
    "def adjusted_armor_class(row):\n",
    "    ac = row['AC']\n",
    "    ac += 2 if 'magic resistance' in row['AC adjustments'] else 0\n",
    "    match count_save_proficiencies(row):\n",
    "        case 3:\n",
    "            ac += 2\n",
    "        case 4:\n",
    "            ac += 2\n",
    "        case 5:\n",
    "            ac += 4\n",
    "        case 6:\n",
    "            ac += 4\n",
    "        case _:\n",
    "            ac += 0\n",
    "    return ac\n",
    "\n",
    "def unadjusted_armor_class(row):\n",
    "    ac = row['adj AC']\n",
    "    ac -= 2 if 'magic resistance' in row['AC adjustments'] else 0\n",
    "    match count_save_proficiencies(row):\n",
    "        case 3:\n",
    "            ac -= 2\n",
    "        case 4:\n",
    "            ac -= 2\n",
    "        case 5:\n",
    "            ac -= 4\n",
    "        case 6:\n",
    "            ac -= 4\n",
    "        case _:\n",
    "            ac += 0\n",
    "    return ac\n",
    "\n",
    "\n",
    "def load_pc_data(file, columns):\n",
    "    \"\"\"Loads PC data from file and puts it into a pandas dataframe\n",
    "    \"\"\"\n",
    "    with open(file, 'r') as fin:\n",
    "        pc_data = json.load(fin)\n",
    "\n",
    "    pc_dict = {}\n",
    "    for c in columns:\n",
    "        d = []\n",
    "        for pc in pc_data:\n",
    "            d += [x[c] for x in pc_data[pc]]\n",
    "        pc_dict[c] = d\n",
    "\n",
    "    return pd.DataFrame(pc_dict)\n",
    "\n",
    "\n",
    "def plot_data_and_fit(fig, x, y, **kwargs):\n",
    "    print_coefficients = kwargs.pop('print_coefficients', False)\n",
    "    # plot data\n",
    "    fig.add_trace(go.Scatter(\n",
    "        x=x, y=y,\n",
    "        mode='markers', \n",
    "        **kwargs,\n",
    "    ))\n",
    "\n",
    "    # plot fit\n",
    "    kwargs['hoverinfo'] = 'skip'\n",
    "    kwargs['showlegend'] = False\n",
    "    if kwargs.get('line', None):\n",
    "        kwargs['line']['dash'] = 'solid'\n",
    "\n",
    "    coefs = np.polyfit(x, y, 1)\n",
    "    poly = np.poly1d(coefs)\n",
    "    fig.add_trace(go.Scatter(\n",
    "        x=x, y=poly(x),\n",
    "        mode='lines', \n",
    "        **kwargs,\n",
    "    ))\n",
    "    if print_coefficients: \n",
    "        print(f'CR >= 1: {coefs[1]:.2f} + {coefs[0]:.2f}*CR')\n",
    "    return fig\n",
    "\n",
    "def piecewise_linear(x, x0, y0, k1, k2):\n",
    "    #return np.piecewise(x, [x < x0], [lambda x:k1*x + y0-k1*x0, lambda x:k2*x + y0-k2*x0])\n",
    "    return np.piecewise(x, [x < 20], [lambda x:k1*x + y0-k1*20, lambda x:k2*x + y0-k2*20])\n",
    "\n",
    "def plot_data_and_piecewise_fit(fig, x, y, **kwargs):\n",
    "    print_coefficients = kwargs.pop('print_coefficients', False)\n",
    "    # plot data\n",
    "    fig.add_trace(go.Scatter(\n",
    "        x=x, y=y,\n",
    "        mode='markers', \n",
    "        **kwargs,\n",
    "    ))\n",
    "\n",
    "    # plot fit\n",
    "    kwargs['hoverinfo'] = 'skip'\n",
    "    kwargs['showlegend'] = False\n",
    "    kwargs['line_dash'] = 'solid'\n",
    "    p, e = optimize.curve_fit(piecewise_linear, x, y)\n",
    "    fig.add_trace(go.Scatter(\n",
    "        x=x, \n",
    "        y=piecewise_linear(x, *p),\n",
    "        mode='lines', \n",
    "        **kwargs,\n",
    "    ))\n",
    "    if print_coefficients: \n",
    "        print(f'CR <  20: {(p[1] - 20*p[2]):.1f} + {p[2]:.1f}*CR')\n",
    "        print(f'CR >= 20: {p[1]:.1f} + {p[3]:.1f}*(CR - 20)')\n",
    "    return fig, piecewise_linear(np.linspace(1,30,30), *p)\n",
    "\n",
    "def attack_hit_crit_prob(AC, AB):\n",
    "    return max(0.05, min(0.95, 0.05*(21 + AB - AC)))\n",
    "\n",
    "def save_fail_prob(SB, DC):\n",
    "    return max(0.0, min(1.0, 0.05*(DC - SB - 1)))\n",
    "\n",
    "COLOR_LIST = [\n",
    "    '#1f77b4',  # muted blue\n",
    "    '#ff7f0e',  # safety orange\n",
    "    '#2ca02c',  # cooked asparagus green\n",
    "    '#d62728',  # brick red\n",
    "    '#9467bd',  # muted purple\n",
    "    '#8c564b',  # chestnut brown\n",
    "    '#e377c2',  # raspberry yogurt pink\n",
    "    '#7f7f7f',  # middle gray\n",
    "    '#bcbd22',  # curry yellow-green\n",
    "    '#17becf'   # blue-teal\n",
    "]"
   ]
  },
  {
   "cell_type": "code",
   "execution_count": 76,
   "metadata": {},
   "outputs": [],
   "source": [
    "# load PC data\n",
    "PC_DATA = {\n",
    "    'level':      np.array([ 1, 2, 3, 4, 5, 6, 7, 8, 9,10,11,12,13,14,15,16,17,18,19,20]),\n",
    "    'attack mod': np.array([ 3, 3, 3, 4, 4, 4, 4, 5, 5, 5, 5, 5, 5, 5, 5, 5, 5, 5, 5, 5]),\n",
    "    'prof bonus': np.array([ 2, 2, 2, 2, 3, 3, 3, 3, 4, 4, 4, 4, 5, 5, 5, 5, 6, 6, 6, 6]),\n",
    "    \"armor class\": {\n",
    "        \"Barbarian\": np.array([15, 15, 15, 15, 15, 15, 15, 15, 15, 15, 15, 16, 16, 16, 16, 17, 17, 17, 18, 20]),\n",
    "        \"Bard\":      np.array([14, 14, 14, 14, 15, 15, 15, 15, 15, 15, 15, 15, 15, 15, 15, 15, 15, 15, 15, 15]),\n",
    "        \"Cleric\":    np.array([18, 18, 18, 18, 18, 18, 19, 19, 19, 19, 19, 19, 19, 19, 19, 19, 19, 19, 19, 19]),\n",
    "        \"Druid\":     np.array([15, 15, 15, 16, 16, 16, 18, 18, 18, 18, 18, 18, 18, 18, 18, 18, 18, 18, 18, 18]),\n",
    "        \"Fighter\":   np.array([17, 17, 17, 17, 17, 17, 17, 19, 19, 19, 19, 19, 19, 19, 19, 19, 19, 19, 19, 19]),\n",
    "        \"Monk\":      np.array([16, 16, 16, 17, 17, 17, 17, 18, 18, 18, 18, 19, 19, 19, 19, 20, 20, 24, 24, 24]),\n",
    "        \"Paladin\":   np.array([16, 16, 16, 16, 16, 16, 16, 18, 18, 18, 18, 18, 18, 18, 18, 18, 18, 18, 18, 18]),\n",
    "        \"Ranger\":    np.array([14, 14, 14, 15, 16, 16, 16, 17, 17, 17, 17, 17, 17, 17, 17, 17, 17, 17, 17, 17]),\n",
    "        \"Rogue\":     np.array([14, 14, 14, 15, 16, 16, 16, 17, 17, 17, 17, 17, 17, 17, 17, 17, 17, 17, 17, 17]),\n",
    "        \"Sorcerer\":  np.array([12, 12, 12, 12, 15, 15, 15, 15, 15, 15, 16, 16, 16, 16, 16, 16, 16, 16, 16, 16]),\n",
    "        \"Warlock\":   np.array([13, 13, 13, 13, 15, 15, 15, 15, 15, 15, 15, 15, 15, 15, 15, 15, 15, 15, 15, 15]),\n",
    "        \"Wizard\":    np.array([12, 12, 12, 12, 15, 15, 15, 15, 15, 15, 16, 16, 16, 16, 16, 16, 16, 16, 16, 16]),\n",
    "    },\n",
    "    'ability mod': {\n",
    "        'ability 1': np.array([ 3, 3, 3, 4, 4, 4, 4, 5, 5, 5, 5, 5, 5, 5, 5, 5, 5, 5, 5, 5]),\n",
    "        'ability 2': np.array([ 3, 3, 3, 3, 3, 3, 3, 3, 3, 3, 3, 3, 3, 3, 3, 3, 3, 3, 3, 3]),\n",
    "        'ability 3': np.array([ 3, 3, 3, 3, 3, 3, 3, 3, 3, 3, 3, 3, 3, 3, 3, 3, 3, 3, 3, 3]),\n",
    "        'ability 4': np.array([-1,-1,-1,-1,-1,-1,-1,-1,-1,-1,-1,-1,-1,-1,-1,-1,-1,-1,-1,-1]),\n",
    "        'ability 5': np.array([-1,-1,-1,-1,-1,-1,-1,-1,-1,-1,-1,-1,-1,-1,-1,-1,-1,-1,-1,-1]),\n",
    "        'ability 6': np.array([-1,-1,-1,-1,-1,-1,-1,-1,-1,-1,-1,-1,-1,-1,-1,-1,-1,-1,-1,-1]),\n",
    "    },\n",
    "    'proficiencies': {\n",
    "        \"Barbarian\": np.array([2, 2, 2, 2, 2, 2, 2, 2, 2, 2, 2, 2, 2, 2, 2, 2, 2, 2, 2, 2]),\n",
    "        \"Bard\":      np.array([2, 2, 2, 2, 3, 3, 3, 3, 3, 3, 3, 3, 3, 3, 3, 3, 3, 3, 3, 3]),\n",
    "        \"Cleric\":    np.array([2, 2, 2, 2, 2, 2, 2, 2, 2, 2, 2, 2, 2, 2, 2, 2, 2, 2, 2, 2]),\n",
    "        \"Druid\":     np.array([2, 2, 2, 2, 2, 2, 2, 2, 2, 2, 2, 2, 2, 2, 2, 2, 2, 2, 2, 2]),\n",
    "        \"Fighter\":   np.array([2, 2, 2, 2, 2, 2, 2, 2, 3, 3, 3, 3, 3, 3, 3, 3, 3, 3, 3, 3]),\n",
    "        \"Monk\":      np.array([2, 2, 2, 2, 2, 2, 3, 3, 3, 3, 3, 3, 3, 7, 7, 7, 7, 7, 7, 7]),\n",
    "        \"Paladin\":   np.array([2, 2, 2, 2, 2, 8, 8, 8, 8, 8, 8, 8, 8, 8, 8, 8, 8, 8, 8, 8]),\n",
    "        \"Ranger\":    np.array([2, 2, 2, 2, 2, 2, 2, 2, 2, 2, 2, 2, 2, 2, 2, 2, 2, 2, 2, 2]),\n",
    "        \"Rogue\":     np.array([2, 2, 2, 2, 2, 2, 3, 3, 3, 3, 3, 3, 3, 3, 4, 4, 4, 4, 4, 4]),\n",
    "        \"Sorcerer\":  np.array([2, 2, 2, 2, 2, 2, 2, 2, 2, 2, 3, 3, 3, 3, 3, 3, 3, 3, 3, 3]),\n",
    "        \"Warlock\":   np.array([2, 2, 2, 2, 2, 2, 2, 2, 2, 2, 2, 2, 2, 2, 2, 2, 2, 2, 2, 2]),\n",
    "        \"Wizard\":    np.array([2, 2, 2, 2, 2, 2, 2, 2, 2, 2, 3, 3, 3, 3, 3, 3, 3, 3, 3, 3]),\n",
    "    }\n",
    "}\n",
    "PC_DATA['attack bonus'] = PC_DATA['attack mod'] + PC_DATA['prof bonus']\n",
    "PC_DATA['save dc'] = 8 + PC_DATA['attack bonus']\n",
    "\n",
    "ac_mean = np.zeros(20)\n",
    "for c in PC_DATA['armor class']:\n",
    "    ac_mean += PC_DATA['armor class'][c]\n",
    "ac_mean /= len(PC_DATA['armor class'])\n",
    "PC_DATA['armor class'] = ac_mean\n",
    "\n",
    "ave_mod = np.zeros(20)\n",
    "for ab in PC_DATA['ability mod']:\n",
    "    ave_mod += PC_DATA['ability mod'][ab]\n",
    "ave_mod = ave_mod/6\n",
    "ave_prof = np.zeros(20)\n",
    "for c in PC_DATA['proficiencies']:\n",
    "    ave_prof += PC_DATA['proficiencies'][c]\n",
    "ave_prof /= len(PC_DATA['proficiencies'])\n",
    "\n",
    "PC_DATA['save mod'] = list(ave_mod)\n",
    "PC_DATA['save bonus'] = ave_mod + PC_DATA['prof bonus']*ave_prof/6\n",
    "PC_DATA['save AC'] = PC_DATA['save bonus'] + 13\n",
    "PC_DATA['eAC'] = 0.5*(PC_DATA['armor class'] + PC_DATA['save AC'])"
   ]
  },
  {
   "cell_type": "code",
   "execution_count": null,
   "metadata": {},
   "outputs": [
    {
     "name": "stdout",
     "output_type": "stream",
     "text": [
      "CR <  20: 9.1 + 5.6*CR\n",
      "CR >= 20: 121.8 + 12.2*(CR - 20)\n"
     ]
    },
    {
     "name": "stderr",
     "output_type": "stream",
     "text": [
      "/Users/tom/Development/python-venv/thefinishedbook/lib/python3.10/site-packages/scipy/optimize/_minpack_py.py:1010: OptimizeWarning:\n",
      "\n",
      "Covariance of the parameters could not be estimated\n",
      "\n"
     ]
    },
    {
     "data": {
      "application/vnd.plotly.v1+json": {
       "config": {
        "autosizable": true,
        "displayModeBar": "hover",
        "displaylogo": false,
        "doubleClick": "reset",
        "modeBarButtonsToRemove": [
         "select2d",
         "lasso2d",
         "zoom2d",
         "zoomIn2d",
         "zoomOut2d",
         "pan2d",
         "autoScale2d",
         "hoverClosestCartesian",
         "hoverCompareCartesian",
         "toggleSpikelines",
         "resetScale2d"
        ],
        "plotlyServerURL": "https://plot.ly",
        "responsive": true,
        "showAxisDragHandles": false,
        "toImageButtonOptions": {
         "filename": "tfb-plot",
         "format": "png",
         "height": 450,
         "scale": 2,
         "width": 600
        }
       },
       "data": [
        {
         "hovertemplate": "<b>monsters (adj)</b><br>CR %{x}<br>DPR %{y:,.1f}<extra></extra>",
         "legendgroup": "monsters (adj)",
         "line": {
          "color": "#1f77b4"
         },
         "marker": {
          "color": "#1f77b4"
         },
         "mode": "markers",
         "name": "monsters (adj)",
         "type": "scatter",
         "x": [
          1,
          2,
          3,
          4,
          5,
          6,
          7,
          8,
          9,
          10,
          11,
          12,
          13,
          14,
          15,
          16,
          17,
          18,
          19,
          20,
          21,
          22,
          23,
          24,
          25,
          26,
          27,
          28,
          30
         ],
         "y": [
          13.814942510344828,
          18.41740410176991,
          23.304273548717948,
          30.04866183941606,
          36.72952386285714,
          45.727491268041234,
          47.45987638888889,
          53.028333339999996,
          59.306249975,
          63.39303498507462,
          69.23846123076922,
          85.35802477777779,
          80.98039223529413,
          91.26754378947368,
          99.98989927272727,
          103.30476211428572,
          107.91071450000001,
          121.83333300000001,
          121.67647011764706,
          111.71754368421053,
          137.57820603846156,
          134.4513883333333,
          164.4408603870968,
          160.9122807368421,
          191.70512923076924,
          175.62036944444446,
          190.5625,
          203.42857142857142,
          278.91666499999997
         ]
        },
        {
         "hoverinfo": "skip",
         "hovertemplate": "<b>monsters (adj)</b><br>CR %{x}<br>DPR %{y:,.1f}<extra></extra>",
         "legendgroup": "monsters (adj)",
         "line": {
          "color": "#1f77b4",
          "dash": "solid"
         },
         "marker": {
          "color": "#1f77b4"
         },
         "mode": "lines",
         "name": "monsters (adj)",
         "showlegend": false,
         "type": "scatter",
         "x": [
          1,
          2,
          3,
          4,
          5,
          6,
          7,
          8,
          9,
          10,
          11,
          12,
          13,
          14,
          15,
          16,
          17,
          18,
          19,
          20,
          21,
          22,
          23,
          24,
          25,
          26,
          27,
          28,
          30
         ],
         "y": [
          14.734301293614493,
          20.3701772573898,
          26.006053221165104,
          31.64192918494041,
          37.277805148715714,
          42.91368111249105,
          48.549557076266325,
          54.18543304004166,
          59.821309003816936,
          65.45718496759227,
          71.09306093136757,
          76.72893689514288,
          82.36481285891819,
          88.00068882269349,
          93.6365647864688,
          99.2724407502441,
          104.9083167140194,
          110.54419267779471,
          116.18006864157002,
          121.81594460534532,
          133.99587822934765,
          146.17581185335004,
          158.35574547735243,
          170.53567910135482,
          182.7156127253572,
          194.89554634935948,
          207.07547997336187,
          219.25541359736425,
          243.61528084536903
         ]
        },
        {
         "hovertemplate": "<b>monsters (unadj)</b><br>CR %{x}<br>DPR %{y:,.1f}<extra></extra>",
         "legendgroup": "monsters (unadj)",
         "line": {
          "color": "#ff7f0e"
         },
         "marker": {
          "color": "#ff7f0e"
         },
         "mode": "markers",
         "name": "monsters (unadj)",
         "type": "scatter",
         "x": [
          1,
          2,
          3,
          4,
          5,
          6,
          7,
          8,
          9,
          10,
          11,
          12,
          13,
          14,
          15,
          16,
          17,
          18,
          19,
          20,
          21,
          22,
          23,
          24,
          25,
          26,
          27,
          28,
          30
         ],
         "y": [
          13.663218386206896,
          17.865781694690266,
          22.83504275897436,
          29.21167890510949,
          35.53428580571428,
          43.85257715463917,
          45.680555425925924,
          51.365000030000004,
          57.510416675,
          61.14676626865672,
          67.08974344615385,
          79.7808642962963,
          76.92483662745097,
          87.32894736842105,
          96.85353581818183,
          98.63809537142856,
          104.30357142857143,
          118.49999961538461,
          119.0098037647059,
          103.26315747368422,
          132.96794930769232,
          132.35416633333332,
          164.4408603870968,
          159.96491231578946,
          187.50000076923078,
          168.50925866666665,
          187.22916625,
          203.42857142857142,
          278.91666499999997
         ]
        },
        {
         "hoverinfo": "skip",
         "hovertemplate": "<b>monsters (unadj)</b><br>CR %{x}<br>DPR %{y:,.1f}<extra></extra>",
         "legendgroup": "monsters (unadj)",
         "line": {
          "color": "#ff7f0e",
          "dash": "solid"
         },
         "marker": {
          "color": "#ff7f0e"
         },
         "mode": "lines",
         "name": "monsters (unadj)",
         "showlegend": false,
         "type": "scatter",
         "x": [
          1,
          2,
          3,
          4,
          5,
          6,
          7,
          8,
          9,
          10,
          11,
          12,
          13,
          14,
          15,
          16,
          17,
          18,
          19,
          20,
          21,
          22,
          23,
          24,
          25,
          26,
          27,
          28,
          30
         ],
         "y": [
          14.38184149650803,
          19.783350692139635,
          25.184859887771253,
          30.586369083402857,
          35.98787827903446,
          41.389387474666066,
          46.79089667029767,
          52.192405865929274,
          57.59391506156088,
          62.99542425719248,
          68.39693345282409,
          73.79844264845569,
          79.1999518440873,
          84.6014610397189,
          90.0029702353505,
          95.40447943098211,
          100.80598862661371,
          106.20749782224532,
          111.60900701787692,
          117.01051621350854,
          129.58989025173702,
          142.1692642899655,
          154.74863832819398,
          167.32801236642246,
          179.90738640465094,
          192.48676044287942,
          205.06613448110795,
          217.64550851933643,
          242.8042565957934
         ]
        },
        {
         "hovertemplate": "<b>DMG</b><br>CR %{x}<br>DPR %{y:,.1f}<extra></extra>",
         "line": {
          "color": "black",
          "dash": "dash"
         },
         "mode": "markers+lines",
         "name": "DMG",
         "type": "scatter",
         "x": [
          1,
          2,
          3,
          4,
          5,
          6,
          7,
          8,
          9,
          10,
          11,
          12,
          13,
          14,
          15,
          16,
          17,
          18,
          19,
          20,
          21,
          22,
          23,
          24,
          25,
          26,
          27,
          28,
          29,
          30
         ],
         "y": [
          11.5,
          17.5,
          23.5,
          29.5,
          35.5,
          41.5,
          47.5,
          53.5,
          59.5,
          65.5,
          71.5,
          77.5,
          83.5,
          89.5,
          95.5,
          101.5,
          107.5,
          113.5,
          119.5,
          131.5,
          149.5,
          167.5,
          185.5,
          203.5,
          221.5,
          239.5,
          257.5,
          275.5,
          293.5,
          311.5
         ]
        }
       ],
       "layout": {
        "height": 450,
        "legend": {
         "orientation": "v",
         "tracegroupgap": 0,
         "x": 0,
         "xanchor": "left",
         "y": 1,
         "yanchor": "top"
        },
        "margin": {
         "b": 55,
         "l": 70,
         "pad": 4,
         "r": 25,
         "t": 20
        },
        "template": {
         "layout": {
          "autosize": false,
          "font": {
           "family": "sans-serif",
           "size": 14
          },
          "hoverlabel": {
           "align": "left"
          },
          "hovermode": "closest",
          "margin": {
           "b": 55,
           "l": 60,
           "pad": 4,
           "r": 25,
           "t": 20
          },
          "template": {
           "data": {
            "bar": [
             {
              "error_x": {
               "color": "#2a3f5f"
              },
              "error_y": {
               "color": "#2a3f5f"
              },
              "marker": {
               "line": {
                "color": "white",
                "width": 0.5
               },
               "pattern": {
                "fillmode": "overlay",
                "size": 10,
                "solidity": 0.2
               }
              },
              "type": "bar"
             }
            ],
            "barpolar": [
             {
              "marker": {
               "line": {
                "color": "white",
                "width": 0.5
               },
               "pattern": {
                "fillmode": "overlay",
                "size": 10,
                "solidity": 0.2
               }
              },
              "type": "barpolar"
             }
            ],
            "carpet": [
             {
              "aaxis": {
               "endlinecolor": "#2a3f5f",
               "gridcolor": "#C8D4E3",
               "linecolor": "#C8D4E3",
               "minorgridcolor": "#C8D4E3",
               "startlinecolor": "#2a3f5f"
              },
              "baxis": {
               "endlinecolor": "#2a3f5f",
               "gridcolor": "#C8D4E3",
               "linecolor": "#C8D4E3",
               "minorgridcolor": "#C8D4E3",
               "startlinecolor": "#2a3f5f"
              },
              "type": "carpet"
             }
            ],
            "choropleth": [
             {
              "colorbar": {
               "outlinewidth": 0,
               "ticks": ""
              },
              "type": "choropleth"
             }
            ],
            "contour": [
             {
              "colorbar": {
               "outlinewidth": 0,
               "ticks": ""
              },
              "colorscale": [
               [
                0,
                "#0d0887"
               ],
               [
                0.1111111111111111,
                "#46039f"
               ],
               [
                0.2222222222222222,
                "#7201a8"
               ],
               [
                0.3333333333333333,
                "#9c179e"
               ],
               [
                0.4444444444444444,
                "#bd3786"
               ],
               [
                0.5555555555555556,
                "#d8576b"
               ],
               [
                0.6666666666666666,
                "#ed7953"
               ],
               [
                0.7777777777777778,
                "#fb9f3a"
               ],
               [
                0.8888888888888888,
                "#fdca26"
               ],
               [
                1,
                "#f0f921"
               ]
              ],
              "type": "contour"
             }
            ],
            "contourcarpet": [
             {
              "colorbar": {
               "outlinewidth": 0,
               "ticks": ""
              },
              "type": "contourcarpet"
             }
            ],
            "heatmap": [
             {
              "colorbar": {
               "outlinewidth": 0,
               "ticks": ""
              },
              "colorscale": [
               [
                0,
                "#0d0887"
               ],
               [
                0.1111111111111111,
                "#46039f"
               ],
               [
                0.2222222222222222,
                "#7201a8"
               ],
               [
                0.3333333333333333,
                "#9c179e"
               ],
               [
                0.4444444444444444,
                "#bd3786"
               ],
               [
                0.5555555555555556,
                "#d8576b"
               ],
               [
                0.6666666666666666,
                "#ed7953"
               ],
               [
                0.7777777777777778,
                "#fb9f3a"
               ],
               [
                0.8888888888888888,
                "#fdca26"
               ],
               [
                1,
                "#f0f921"
               ]
              ],
              "type": "heatmap"
             }
            ],
            "heatmapgl": [
             {
              "colorbar": {
               "outlinewidth": 0,
               "ticks": ""
              },
              "colorscale": [
               [
                0,
                "#0d0887"
               ],
               [
                0.1111111111111111,
                "#46039f"
               ],
               [
                0.2222222222222222,
                "#7201a8"
               ],
               [
                0.3333333333333333,
                "#9c179e"
               ],
               [
                0.4444444444444444,
                "#bd3786"
               ],
               [
                0.5555555555555556,
                "#d8576b"
               ],
               [
                0.6666666666666666,
                "#ed7953"
               ],
               [
                0.7777777777777778,
                "#fb9f3a"
               ],
               [
                0.8888888888888888,
                "#fdca26"
               ],
               [
                1,
                "#f0f921"
               ]
              ],
              "type": "heatmapgl"
             }
            ],
            "histogram": [
             {
              "marker": {
               "pattern": {
                "fillmode": "overlay",
                "size": 10,
                "solidity": 0.2
               }
              },
              "type": "histogram"
             }
            ],
            "histogram2d": [
             {
              "colorbar": {
               "outlinewidth": 0,
               "ticks": ""
              },
              "colorscale": [
               [
                0,
                "#0d0887"
               ],
               [
                0.1111111111111111,
                "#46039f"
               ],
               [
                0.2222222222222222,
                "#7201a8"
               ],
               [
                0.3333333333333333,
                "#9c179e"
               ],
               [
                0.4444444444444444,
                "#bd3786"
               ],
               [
                0.5555555555555556,
                "#d8576b"
               ],
               [
                0.6666666666666666,
                "#ed7953"
               ],
               [
                0.7777777777777778,
                "#fb9f3a"
               ],
               [
                0.8888888888888888,
                "#fdca26"
               ],
               [
                1,
                "#f0f921"
               ]
              ],
              "type": "histogram2d"
             }
            ],
            "histogram2dcontour": [
             {
              "colorbar": {
               "outlinewidth": 0,
               "ticks": ""
              },
              "colorscale": [
               [
                0,
                "#0d0887"
               ],
               [
                0.1111111111111111,
                "#46039f"
               ],
               [
                0.2222222222222222,
                "#7201a8"
               ],
               [
                0.3333333333333333,
                "#9c179e"
               ],
               [
                0.4444444444444444,
                "#bd3786"
               ],
               [
                0.5555555555555556,
                "#d8576b"
               ],
               [
                0.6666666666666666,
                "#ed7953"
               ],
               [
                0.7777777777777778,
                "#fb9f3a"
               ],
               [
                0.8888888888888888,
                "#fdca26"
               ],
               [
                1,
                "#f0f921"
               ]
              ],
              "type": "histogram2dcontour"
             }
            ],
            "mesh3d": [
             {
              "colorbar": {
               "outlinewidth": 0,
               "ticks": ""
              },
              "type": "mesh3d"
             }
            ],
            "parcoords": [
             {
              "line": {
               "colorbar": {
                "outlinewidth": 0,
                "ticks": ""
               }
              },
              "type": "parcoords"
             }
            ],
            "pie": [
             {
              "automargin": true,
              "type": "pie"
             }
            ],
            "scatter": [
             {
              "fillpattern": {
               "fillmode": "overlay",
               "size": 10,
               "solidity": 0.2
              },
              "type": "scatter"
             }
            ],
            "scatter3d": [
             {
              "line": {
               "colorbar": {
                "outlinewidth": 0,
                "ticks": ""
               }
              },
              "marker": {
               "colorbar": {
                "outlinewidth": 0,
                "ticks": ""
               }
              },
              "type": "scatter3d"
             }
            ],
            "scattercarpet": [
             {
              "marker": {
               "colorbar": {
                "outlinewidth": 0,
                "ticks": ""
               }
              },
              "type": "scattercarpet"
             }
            ],
            "scattergeo": [
             {
              "marker": {
               "colorbar": {
                "outlinewidth": 0,
                "ticks": ""
               }
              },
              "type": "scattergeo"
             }
            ],
            "scattergl": [
             {
              "marker": {
               "colorbar": {
                "outlinewidth": 0,
                "ticks": ""
               }
              },
              "type": "scattergl"
             }
            ],
            "scattermapbox": [
             {
              "marker": {
               "colorbar": {
                "outlinewidth": 0,
                "ticks": ""
               }
              },
              "type": "scattermapbox"
             }
            ],
            "scatterpolar": [
             {
              "marker": {
               "colorbar": {
                "outlinewidth": 0,
                "ticks": ""
               }
              },
              "type": "scatterpolar"
             }
            ],
            "scatterpolargl": [
             {
              "marker": {
               "colorbar": {
                "outlinewidth": 0,
                "ticks": ""
               }
              },
              "type": "scatterpolargl"
             }
            ],
            "scatterternary": [
             {
              "marker": {
               "colorbar": {
                "outlinewidth": 0,
                "ticks": ""
               }
              },
              "type": "scatterternary"
             }
            ],
            "surface": [
             {
              "colorbar": {
               "outlinewidth": 0,
               "ticks": ""
              },
              "colorscale": [
               [
                0,
                "#0d0887"
               ],
               [
                0.1111111111111111,
                "#46039f"
               ],
               [
                0.2222222222222222,
                "#7201a8"
               ],
               [
                0.3333333333333333,
                "#9c179e"
               ],
               [
                0.4444444444444444,
                "#bd3786"
               ],
               [
                0.5555555555555556,
                "#d8576b"
               ],
               [
                0.6666666666666666,
                "#ed7953"
               ],
               [
                0.7777777777777778,
                "#fb9f3a"
               ],
               [
                0.8888888888888888,
                "#fdca26"
               ],
               [
                1,
                "#f0f921"
               ]
              ],
              "type": "surface"
             }
            ],
            "table": [
             {
              "cells": {
               "fill": {
                "color": "#EBF0F8"
               },
               "line": {
                "color": "white"
               }
              },
              "header": {
               "fill": {
                "color": "#C8D4E3"
               },
               "line": {
                "color": "white"
               }
              },
              "type": "table"
             }
            ]
           },
           "layout": {
            "annotationdefaults": {
             "arrowcolor": "#2a3f5f",
             "arrowhead": 0,
             "arrowwidth": 1
            },
            "autotypenumbers": "strict",
            "coloraxis": {
             "colorbar": {
              "outlinewidth": 0,
              "ticks": ""
             }
            },
            "colorscale": {
             "diverging": [
              [
               0,
               "#8e0152"
              ],
              [
               0.1,
               "#c51b7d"
              ],
              [
               0.2,
               "#de77ae"
              ],
              [
               0.3,
               "#f1b6da"
              ],
              [
               0.4,
               "#fde0ef"
              ],
              [
               0.5,
               "#f7f7f7"
              ],
              [
               0.6,
               "#e6f5d0"
              ],
              [
               0.7,
               "#b8e186"
              ],
              [
               0.8,
               "#7fbc41"
              ],
              [
               0.9,
               "#4d9221"
              ],
              [
               1,
               "#276419"
              ]
             ],
             "sequential": [
              [
               0,
               "#0d0887"
              ],
              [
               0.1111111111111111,
               "#46039f"
              ],
              [
               0.2222222222222222,
               "#7201a8"
              ],
              [
               0.3333333333333333,
               "#9c179e"
              ],
              [
               0.4444444444444444,
               "#bd3786"
              ],
              [
               0.5555555555555556,
               "#d8576b"
              ],
              [
               0.6666666666666666,
               "#ed7953"
              ],
              [
               0.7777777777777778,
               "#fb9f3a"
              ],
              [
               0.8888888888888888,
               "#fdca26"
              ],
              [
               1,
               "#f0f921"
              ]
             ],
             "sequentialminus": [
              [
               0,
               "#0d0887"
              ],
              [
               0.1111111111111111,
               "#46039f"
              ],
              [
               0.2222222222222222,
               "#7201a8"
              ],
              [
               0.3333333333333333,
               "#9c179e"
              ],
              [
               0.4444444444444444,
               "#bd3786"
              ],
              [
               0.5555555555555556,
               "#d8576b"
              ],
              [
               0.6666666666666666,
               "#ed7953"
              ],
              [
               0.7777777777777778,
               "#fb9f3a"
              ],
              [
               0.8888888888888888,
               "#fdca26"
              ],
              [
               1,
               "#f0f921"
              ]
             ]
            },
            "colorway": [
             "#636efa",
             "#EF553B",
             "#00cc96",
             "#ab63fa",
             "#FFA15A",
             "#19d3f3",
             "#FF6692",
             "#B6E880",
             "#FF97FF",
             "#FECB52"
            ],
            "font": {
             "color": "#2a3f5f"
            },
            "geo": {
             "bgcolor": "white",
             "lakecolor": "white",
             "landcolor": "white",
             "showlakes": true,
             "showland": true,
             "subunitcolor": "#C8D4E3"
            },
            "hoverlabel": {
             "align": "left"
            },
            "hovermode": "closest",
            "mapbox": {
             "style": "light"
            },
            "paper_bgcolor": "white",
            "plot_bgcolor": "white",
            "polar": {
             "angularaxis": {
              "gridcolor": "#EBF0F8",
              "linecolor": "#EBF0F8",
              "ticks": ""
             },
             "bgcolor": "white",
             "radialaxis": {
              "gridcolor": "#EBF0F8",
              "linecolor": "#EBF0F8",
              "ticks": ""
             }
            },
            "scene": {
             "xaxis": {
              "backgroundcolor": "white",
              "gridcolor": "#DFE8F3",
              "gridwidth": 2,
              "linecolor": "#EBF0F8",
              "showbackground": true,
              "ticks": "",
              "zerolinecolor": "#EBF0F8"
             },
             "yaxis": {
              "backgroundcolor": "white",
              "gridcolor": "#DFE8F3",
              "gridwidth": 2,
              "linecolor": "#EBF0F8",
              "showbackground": true,
              "ticks": "",
              "zerolinecolor": "#EBF0F8"
             },
             "zaxis": {
              "backgroundcolor": "white",
              "gridcolor": "#DFE8F3",
              "gridwidth": 2,
              "linecolor": "#EBF0F8",
              "showbackground": true,
              "ticks": "",
              "zerolinecolor": "#EBF0F8"
             }
            },
            "shapedefaults": {
             "line": {
              "color": "#2a3f5f"
             }
            },
            "ternary": {
             "aaxis": {
              "gridcolor": "#DFE8F3",
              "linecolor": "#A2B1C6",
              "ticks": ""
             },
             "baxis": {
              "gridcolor": "#DFE8F3",
              "linecolor": "#A2B1C6",
              "ticks": ""
             },
             "bgcolor": "white",
             "caxis": {
              "gridcolor": "#DFE8F3",
              "linecolor": "#A2B1C6",
              "ticks": ""
             }
            },
            "title": {
             "x": 0.05
            },
            "xaxis": {
             "automargin": true,
             "gridcolor": "#EBF0F8",
             "linecolor": "#EBF0F8",
             "ticks": "",
             "title": {
              "standoff": 15
             },
             "zerolinecolor": "#EBF0F8",
             "zerolinewidth": 2
            },
            "yaxis": {
             "automargin": true,
             "gridcolor": "#EBF0F8",
             "linecolor": "#EBF0F8",
             "ticks": "",
             "title": {
              "standoff": 15
             },
             "zerolinecolor": "#EBF0F8",
             "zerolinewidth": 2
            }
           }
          },
          "xaxis": {
           "automargin": false,
           "linecolor": "#444",
           "linewidth": 2,
           "minor": {
            "tickmode": "linear",
            "ticks": "outside"
           },
           "mirror": true,
           "showline": true,
           "tickmode": "linear",
           "ticks": "outside",
           "zeroline": false
          },
          "yaxis": {
           "automargin": true,
           "linecolor": "#444",
           "linewidth": 2,
           "minor": {
            "tickmode": "linear",
            "ticks": "outside"
           },
           "mirror": true,
           "showline": true,
           "ticks": "outside",
           "zeroline": false
          }
         }
        },
        "width": 600,
        "xaxis": {
         "dtick": 5,
         "minor": {
          "dtick": 1,
          "tick0": 0
         },
         "range": [
          0,
          31
         ],
         "tick0": 0,
         "title": {
          "text": "challenge rating"
         }
        },
        "yaxis": {
         "dtick": 50,
         "minor": {
          "dtick": 10,
          "tick0": 0
         },
         "range": [
          0,
          320
         ],
         "tick0": 0,
         "title": {
          "text": "damage per round"
         }
        }
       }
      }
     },
     "metadata": {},
     "output_type": "display_data"
    }
   ],
   "source": [
    "# Fig. 1: plots monster DPR vs CR\n",
    "\n",
    "# create figure\n",
    "fig = go.Figure(\n",
    "    layout=go.Layout(\n",
    "        template=tfb.FIG_TEMPLATE,\n",
    "        margin=dict(l=70, r=25, b=55, t=20, pad=4),\n",
    "        xaxis=dict(\n",
    "            title_text='challenge rating',\n",
    "            range=[0,31],\n",
    "            tick0=0, dtick=5,\n",
    "            minor=dict(tick0=0, dtick=1),\n",
    "        ),\n",
    "        yaxis=dict(\n",
    "            title_text='damage per round',\n",
    "            range=[0,320],\n",
    "            tick0=0, dtick=50,\n",
    "            minor=dict(tick0=0, dtick=10),\n",
    "        ),\n",
    "        legend=dict(\n",
    "            xanchor='left', yanchor='top',\n",
    "            x=0.00, y=1.00,\n",
    "            orientation='v',\n",
    "            tracegroupgap=0,\n",
    "        )\n",
    "    )\n",
    ")\n",
    "\n",
    "# get monster data\n",
    "dfM = pd.read_csv('../../assets/data/monsters.csv')\n",
    "dfM = dfM[['CR','DPR','adj DPR']].groupby(['CR']).mean().reset_index()\n",
    "dfM = dfM[dfM['CR'].between(1, 30)]\n",
    "\n",
    "# plot adjusted damage per round\n",
    "name = 'adj DPR'\n",
    "fig, y = plot_data_and_piecewise_fit(\n",
    "    fig, dfM['CR'].to_numpy(), \n",
    "    dfM[name].to_numpy(), \n",
    "    name='monsters (adj)', legendgroup='monsters (adj)', \n",
    "    line_color=COLOR_LIST[0],\n",
    "    marker_color=COLOR_LIST[0],\n",
    "    hovertemplate=\n",
    "        '<b>monsters (adj)</b><br>'+\n",
    "        'CR %{x}<br>'+\n",
    "        'DPR %{y:,.1f}' + \n",
    "        '<extra></extra>',\n",
    "    print_coefficients=True,\n",
    ")\n",
    "\n",
    "# plot unadjusted damage per round\n",
    "name = 'DPR'\n",
    "fig, y = plot_data_and_piecewise_fit(\n",
    "    fig, dfM['CR'].to_numpy(), \n",
    "    dfM[name].to_numpy(), \n",
    "    name='monsters (unadj)', legendgroup='monsters (unadj)', \n",
    "    line_color=COLOR_LIST[1],\n",
    "    marker_color=COLOR_LIST[1],\n",
    "    hovertemplate=\n",
    "        '<b>monsters (unadj)</b><br>'+\n",
    "        'CR %{x}<br>'+\n",
    "        'DPR %{y:,.1f}' + \n",
    "        '<extra></extra>'\n",
    ")\n",
    "\n",
    "# plot reference line\n",
    "dfD0 = pd.read_csv('../../assets/data/dmg-targets.csv') # 'CR','XP','HP Mean','AC','DPR Mean','AB'\n",
    "dfD0 = dfD0[dfD0['CR'].between(1,30)]\n",
    "fig.add_trace(go.Scatter(\n",
    "    x=dfD0['CR'], y=dfD0['DPR Mean'],\n",
    "    mode='markers+lines', \n",
    "    name='DMG',\n",
    "    line=dict(color='black', dash='dash'),\n",
    "    hovertemplate=\n",
    "        '<b>DMG</b><br>'+\n",
    "        'CR %{x}<br>'+\n",
    "        'DPR %{y:,.1f}' + \n",
    "        '<extra></extra>'\n",
    "))\n",
    "\n",
    "# show figure\n",
    "fig.update_layout(width=600, height=450)\n",
    "fig.show(config=tfb.FIG_CONFIG)\n",
    "\n",
    "# save figures\n",
    "if SAVEFIGS:\n",
    "    fig.update_layout(autosize=True, width=None, height=None)\n",
    "    tfb.save_fig_html(fig, format='large', name='fig-dpr-vs-cr-large')\n",
    "    tfb.save_fig_html(fig, format='small', name='fig-dpr-vs-cr-small')"
   ]
  },
  {
   "cell_type": "code",
   "execution_count": null,
   "metadata": {},
   "outputs": [
    {
     "name": "stdout",
     "output_type": "stream",
     "text": [
      "CR >= 1: 4.07 + 0.49*CR\n"
     ]
    },
    {
     "data": {
      "application/vnd.plotly.v1+json": {
       "config": {
        "autosizable": true,
        "displayModeBar": "hover",
        "displaylogo": false,
        "doubleClick": "reset",
        "modeBarButtonsToRemove": [
         "select2d",
         "lasso2d",
         "zoom2d",
         "zoomIn2d",
         "zoomOut2d",
         "pan2d",
         "autoScale2d",
         "hoverClosestCartesian",
         "hoverCompareCartesian",
         "toggleSpikelines",
         "resetScale2d"
        ],
        "plotlyServerURL": "https://plot.ly",
        "responsive": true,
        "showAxisDragHandles": false,
        "toImageButtonOptions": {
         "filename": "tfb-plot",
         "format": "png",
         "height": 450,
         "scale": 2,
         "width": 600
        }
       },
       "data": [
        {
         "hovertemplate": "<b>monsters (adj)</b><br>CR %{x}<br>AB %{y:,.1f}<extra></extra>",
         "legendgroup": "monsters (adj)",
         "line": {
          "color": "#1f77b4"
         },
         "mode": "markers",
         "name": "monsters (adj)",
         "type": "scatter",
         "x": [
          1,
          2,
          3,
          4,
          5,
          6,
          7,
          8,
          9,
          10,
          11,
          12,
          13,
          14,
          15,
          16,
          17,
          18,
          19,
          20,
          21,
          22,
          23,
          24,
          25,
          26,
          27,
          28,
          30
         ],
         "y": [
          4.827586206896552,
          5.101769911504425,
          5.5487179487179485,
          5.9416058394160585,
          6.954285714285715,
          7.092783505154639,
          7.453703703703703,
          7.71,
          9.075,
          8.970149253731343,
          9.6,
          9.481481481481481,
          10.372549019607844,
          10.342105263157896,
          11,
          11.428571428571429,
          12.392857142857142,
          12.26923076923077,
          12.705882352941176,
          14.052631578947368,
          14.461538461538462,
          14.375,
          15.064516129032258,
          15.789473684210526,
          17.46153846153846,
          17.27777777777778,
          18.125,
          17.857142857142858,
          17.75
         ]
        },
        {
         "hoverinfo": "skip",
         "hovertemplate": "<b>monsters (adj)</b><br>CR %{x}<br>AB %{y:,.1f}<extra></extra>",
         "legendgroup": "monsters (adj)",
         "line": {
          "color": "#1f77b4",
          "dash": "solid"
         },
         "mode": "lines",
         "name": "monsters (adj)",
         "showlegend": false,
         "type": "scatter",
         "x": [
          1,
          2,
          3,
          4,
          5,
          6,
          7,
          8,
          9,
          10,
          11,
          12,
          13,
          14,
          15,
          16,
          17,
          18,
          19,
          20,
          21,
          22,
          23,
          24,
          25,
          26,
          27,
          28,
          30
         ],
         "y": [
          4.5576620131677075,
          5.044911890586829,
          5.53216176800595,
          6.019411645425071,
          6.506661522844192,
          6.993911400263313,
          7.481161277682434,
          7.968411155101554,
          8.455661032520677,
          8.942910909939798,
          9.430160787358918,
          9.91741066477804,
          10.40466054219716,
          10.89191041961628,
          11.379160297035401,
          11.866410174454522,
          12.353660051873645,
          12.840909929292765,
          13.328159806711886,
          13.815409684131007,
          14.302659561550128,
          14.789909438969248,
          15.27715931638837,
          15.764409193807492,
          16.251659071226612,
          16.738908948645733,
          17.226158826064854,
          17.713408703483974,
          18.68790845832222
         ]
        },
        {
         "hovertemplate": "<b>monsters (unadj)</b><br>CR %{x}<br>AB %{y:,.1f}<extra></extra>",
         "legendgroup": "monsters (unadj)",
         "line": {
          "color": "#ff7f0e"
         },
         "mode": "markers",
         "name": "monsters (unadj)",
         "type": "scatter",
         "x": [
          1,
          2,
          3,
          4,
          5,
          6,
          7,
          8,
          9,
          10,
          11,
          12,
          13,
          14,
          15,
          16,
          17,
          18,
          19,
          20,
          21,
          22,
          23,
          24,
          25,
          26,
          27,
          28,
          30
         ],
         "y": [
          4.4206896551724135,
          4.756637168141593,
          5.271794871794872,
          5.569343065693431,
          6.605714285714286,
          6.948453608247423,
          7.12037037037037,
          7.45,
          8.675,
          8.776119402985074,
          9.276923076923078,
          9.222222222222221,
          10.03921568627451,
          10.31578947368421,
          10.757575757575758,
          11.428571428571429,
          12.25,
          12.115384615384615,
          12.588235294117647,
          13.105263157894736,
          14.307692307692308,
          14.25,
          15.064516129032258,
          15.368421052631579,
          17.307692307692307,
          17.166666666666668,
          17.875,
          17.857142857142858,
          19
         ]
        },
        {
         "hoverinfo": "skip",
         "hovertemplate": "<b>monsters (unadj)</b><br>CR %{x}<br>AB %{y:,.1f}<extra></extra>",
         "legendgroup": "monsters (unadj)",
         "line": {
          "color": "#ff7f0e",
          "dash": "solid"
         },
         "mode": "lines",
         "name": "monsters (unadj)",
         "showlegend": false,
         "type": "scatter",
         "x": [
          1,
          2,
          3,
          4,
          5,
          6,
          7,
          8,
          9,
          10,
          11,
          12,
          13,
          14,
          15,
          16,
          17,
          18,
          19,
          20,
          21,
          22,
          23,
          24,
          25,
          26,
          27,
          28,
          30
         ],
         "y": [
          4.128663419564417,
          4.632740066479055,
          5.136816713393693,
          5.640893360308331,
          6.144970007222969,
          6.6490466541376065,
          7.1531233010522435,
          7.657199947966882,
          8.16127659488152,
          8.665353241796158,
          9.169429888710795,
          9.673506535625432,
          10.17758318254007,
          10.681659829454707,
          11.185736476369346,
          11.689813123283983,
          12.19388977019862,
          12.697966417113259,
          13.202043064027896,
          13.706119710942534,
          14.210196357857171,
          14.71427300477181,
          15.218349651686447,
          15.722426298601084,
          16.226502945515723,
          16.73057959243036,
          17.234656239345,
          17.738732886259637,
          18.74688618008891
         ]
        },
        {
         "hovertemplate": "<b>DMG</b><br>CR %{x}<br>AB %{y:,.1f}<extra></extra>",
         "legendgroup": "DMG",
         "line": {
          "color": "black",
          "dash": "dash"
         },
         "mode": "markers+lines",
         "name": "DMG",
         "type": "scatter",
         "x": [
          1,
          2,
          3,
          4,
          5,
          6,
          7,
          8,
          9,
          10,
          11,
          12,
          13,
          14,
          15,
          16,
          17,
          18,
          19,
          20,
          21,
          22,
          23,
          24,
          25,
          26,
          27,
          28,
          29,
          30
         ],
         "y": [
          3,
          3,
          4,
          5,
          6,
          6,
          6,
          7,
          7,
          7,
          8,
          8,
          8,
          8,
          8,
          9,
          10,
          10,
          10,
          10,
          11,
          11,
          11,
          12,
          12,
          12,
          13,
          13,
          13,
          14
         ]
        }
       ],
       "layout": {
        "height": 450,
        "legend": {
         "orientation": "v",
         "tracegroupgap": 0,
         "x": 0,
         "xanchor": "left",
         "y": 1,
         "yanchor": "top"
        },
        "margin": {
         "b": 55,
         "l": 60,
         "pad": 4,
         "r": 25,
         "t": 20
        },
        "template": {
         "layout": {
          "autosize": false,
          "font": {
           "family": "sans-serif",
           "size": 14
          },
          "hoverlabel": {
           "align": "left"
          },
          "hovermode": "closest",
          "margin": {
           "b": 55,
           "l": 60,
           "pad": 4,
           "r": 25,
           "t": 20
          },
          "template": {
           "data": {
            "bar": [
             {
              "error_x": {
               "color": "#2a3f5f"
              },
              "error_y": {
               "color": "#2a3f5f"
              },
              "marker": {
               "line": {
                "color": "white",
                "width": 0.5
               },
               "pattern": {
                "fillmode": "overlay",
                "size": 10,
                "solidity": 0.2
               }
              },
              "type": "bar"
             }
            ],
            "barpolar": [
             {
              "marker": {
               "line": {
                "color": "white",
                "width": 0.5
               },
               "pattern": {
                "fillmode": "overlay",
                "size": 10,
                "solidity": 0.2
               }
              },
              "type": "barpolar"
             }
            ],
            "carpet": [
             {
              "aaxis": {
               "endlinecolor": "#2a3f5f",
               "gridcolor": "#C8D4E3",
               "linecolor": "#C8D4E3",
               "minorgridcolor": "#C8D4E3",
               "startlinecolor": "#2a3f5f"
              },
              "baxis": {
               "endlinecolor": "#2a3f5f",
               "gridcolor": "#C8D4E3",
               "linecolor": "#C8D4E3",
               "minorgridcolor": "#C8D4E3",
               "startlinecolor": "#2a3f5f"
              },
              "type": "carpet"
             }
            ],
            "choropleth": [
             {
              "colorbar": {
               "outlinewidth": 0,
               "ticks": ""
              },
              "type": "choropleth"
             }
            ],
            "contour": [
             {
              "colorbar": {
               "outlinewidth": 0,
               "ticks": ""
              },
              "colorscale": [
               [
                0,
                "#0d0887"
               ],
               [
                0.1111111111111111,
                "#46039f"
               ],
               [
                0.2222222222222222,
                "#7201a8"
               ],
               [
                0.3333333333333333,
                "#9c179e"
               ],
               [
                0.4444444444444444,
                "#bd3786"
               ],
               [
                0.5555555555555556,
                "#d8576b"
               ],
               [
                0.6666666666666666,
                "#ed7953"
               ],
               [
                0.7777777777777778,
                "#fb9f3a"
               ],
               [
                0.8888888888888888,
                "#fdca26"
               ],
               [
                1,
                "#f0f921"
               ]
              ],
              "type": "contour"
             }
            ],
            "contourcarpet": [
             {
              "colorbar": {
               "outlinewidth": 0,
               "ticks": ""
              },
              "type": "contourcarpet"
             }
            ],
            "heatmap": [
             {
              "colorbar": {
               "outlinewidth": 0,
               "ticks": ""
              },
              "colorscale": [
               [
                0,
                "#0d0887"
               ],
               [
                0.1111111111111111,
                "#46039f"
               ],
               [
                0.2222222222222222,
                "#7201a8"
               ],
               [
                0.3333333333333333,
                "#9c179e"
               ],
               [
                0.4444444444444444,
                "#bd3786"
               ],
               [
                0.5555555555555556,
                "#d8576b"
               ],
               [
                0.6666666666666666,
                "#ed7953"
               ],
               [
                0.7777777777777778,
                "#fb9f3a"
               ],
               [
                0.8888888888888888,
                "#fdca26"
               ],
               [
                1,
                "#f0f921"
               ]
              ],
              "type": "heatmap"
             }
            ],
            "heatmapgl": [
             {
              "colorbar": {
               "outlinewidth": 0,
               "ticks": ""
              },
              "colorscale": [
               [
                0,
                "#0d0887"
               ],
               [
                0.1111111111111111,
                "#46039f"
               ],
               [
                0.2222222222222222,
                "#7201a8"
               ],
               [
                0.3333333333333333,
                "#9c179e"
               ],
               [
                0.4444444444444444,
                "#bd3786"
               ],
               [
                0.5555555555555556,
                "#d8576b"
               ],
               [
                0.6666666666666666,
                "#ed7953"
               ],
               [
                0.7777777777777778,
                "#fb9f3a"
               ],
               [
                0.8888888888888888,
                "#fdca26"
               ],
               [
                1,
                "#f0f921"
               ]
              ],
              "type": "heatmapgl"
             }
            ],
            "histogram": [
             {
              "marker": {
               "pattern": {
                "fillmode": "overlay",
                "size": 10,
                "solidity": 0.2
               }
              },
              "type": "histogram"
             }
            ],
            "histogram2d": [
             {
              "colorbar": {
               "outlinewidth": 0,
               "ticks": ""
              },
              "colorscale": [
               [
                0,
                "#0d0887"
               ],
               [
                0.1111111111111111,
                "#46039f"
               ],
               [
                0.2222222222222222,
                "#7201a8"
               ],
               [
                0.3333333333333333,
                "#9c179e"
               ],
               [
                0.4444444444444444,
                "#bd3786"
               ],
               [
                0.5555555555555556,
                "#d8576b"
               ],
               [
                0.6666666666666666,
                "#ed7953"
               ],
               [
                0.7777777777777778,
                "#fb9f3a"
               ],
               [
                0.8888888888888888,
                "#fdca26"
               ],
               [
                1,
                "#f0f921"
               ]
              ],
              "type": "histogram2d"
             }
            ],
            "histogram2dcontour": [
             {
              "colorbar": {
               "outlinewidth": 0,
               "ticks": ""
              },
              "colorscale": [
               [
                0,
                "#0d0887"
               ],
               [
                0.1111111111111111,
                "#46039f"
               ],
               [
                0.2222222222222222,
                "#7201a8"
               ],
               [
                0.3333333333333333,
                "#9c179e"
               ],
               [
                0.4444444444444444,
                "#bd3786"
               ],
               [
                0.5555555555555556,
                "#d8576b"
               ],
               [
                0.6666666666666666,
                "#ed7953"
               ],
               [
                0.7777777777777778,
                "#fb9f3a"
               ],
               [
                0.8888888888888888,
                "#fdca26"
               ],
               [
                1,
                "#f0f921"
               ]
              ],
              "type": "histogram2dcontour"
             }
            ],
            "mesh3d": [
             {
              "colorbar": {
               "outlinewidth": 0,
               "ticks": ""
              },
              "type": "mesh3d"
             }
            ],
            "parcoords": [
             {
              "line": {
               "colorbar": {
                "outlinewidth": 0,
                "ticks": ""
               }
              },
              "type": "parcoords"
             }
            ],
            "pie": [
             {
              "automargin": true,
              "type": "pie"
             }
            ],
            "scatter": [
             {
              "fillpattern": {
               "fillmode": "overlay",
               "size": 10,
               "solidity": 0.2
              },
              "type": "scatter"
             }
            ],
            "scatter3d": [
             {
              "line": {
               "colorbar": {
                "outlinewidth": 0,
                "ticks": ""
               }
              },
              "marker": {
               "colorbar": {
                "outlinewidth": 0,
                "ticks": ""
               }
              },
              "type": "scatter3d"
             }
            ],
            "scattercarpet": [
             {
              "marker": {
               "colorbar": {
                "outlinewidth": 0,
                "ticks": ""
               }
              },
              "type": "scattercarpet"
             }
            ],
            "scattergeo": [
             {
              "marker": {
               "colorbar": {
                "outlinewidth": 0,
                "ticks": ""
               }
              },
              "type": "scattergeo"
             }
            ],
            "scattergl": [
             {
              "marker": {
               "colorbar": {
                "outlinewidth": 0,
                "ticks": ""
               }
              },
              "type": "scattergl"
             }
            ],
            "scattermapbox": [
             {
              "marker": {
               "colorbar": {
                "outlinewidth": 0,
                "ticks": ""
               }
              },
              "type": "scattermapbox"
             }
            ],
            "scatterpolar": [
             {
              "marker": {
               "colorbar": {
                "outlinewidth": 0,
                "ticks": ""
               }
              },
              "type": "scatterpolar"
             }
            ],
            "scatterpolargl": [
             {
              "marker": {
               "colorbar": {
                "outlinewidth": 0,
                "ticks": ""
               }
              },
              "type": "scatterpolargl"
             }
            ],
            "scatterternary": [
             {
              "marker": {
               "colorbar": {
                "outlinewidth": 0,
                "ticks": ""
               }
              },
              "type": "scatterternary"
             }
            ],
            "surface": [
             {
              "colorbar": {
               "outlinewidth": 0,
               "ticks": ""
              },
              "colorscale": [
               [
                0,
                "#0d0887"
               ],
               [
                0.1111111111111111,
                "#46039f"
               ],
               [
                0.2222222222222222,
                "#7201a8"
               ],
               [
                0.3333333333333333,
                "#9c179e"
               ],
               [
                0.4444444444444444,
                "#bd3786"
               ],
               [
                0.5555555555555556,
                "#d8576b"
               ],
               [
                0.6666666666666666,
                "#ed7953"
               ],
               [
                0.7777777777777778,
                "#fb9f3a"
               ],
               [
                0.8888888888888888,
                "#fdca26"
               ],
               [
                1,
                "#f0f921"
               ]
              ],
              "type": "surface"
             }
            ],
            "table": [
             {
              "cells": {
               "fill": {
                "color": "#EBF0F8"
               },
               "line": {
                "color": "white"
               }
              },
              "header": {
               "fill": {
                "color": "#C8D4E3"
               },
               "line": {
                "color": "white"
               }
              },
              "type": "table"
             }
            ]
           },
           "layout": {
            "annotationdefaults": {
             "arrowcolor": "#2a3f5f",
             "arrowhead": 0,
             "arrowwidth": 1
            },
            "autotypenumbers": "strict",
            "coloraxis": {
             "colorbar": {
              "outlinewidth": 0,
              "ticks": ""
             }
            },
            "colorscale": {
             "diverging": [
              [
               0,
               "#8e0152"
              ],
              [
               0.1,
               "#c51b7d"
              ],
              [
               0.2,
               "#de77ae"
              ],
              [
               0.3,
               "#f1b6da"
              ],
              [
               0.4,
               "#fde0ef"
              ],
              [
               0.5,
               "#f7f7f7"
              ],
              [
               0.6,
               "#e6f5d0"
              ],
              [
               0.7,
               "#b8e186"
              ],
              [
               0.8,
               "#7fbc41"
              ],
              [
               0.9,
               "#4d9221"
              ],
              [
               1,
               "#276419"
              ]
             ],
             "sequential": [
              [
               0,
               "#0d0887"
              ],
              [
               0.1111111111111111,
               "#46039f"
              ],
              [
               0.2222222222222222,
               "#7201a8"
              ],
              [
               0.3333333333333333,
               "#9c179e"
              ],
              [
               0.4444444444444444,
               "#bd3786"
              ],
              [
               0.5555555555555556,
               "#d8576b"
              ],
              [
               0.6666666666666666,
               "#ed7953"
              ],
              [
               0.7777777777777778,
               "#fb9f3a"
              ],
              [
               0.8888888888888888,
               "#fdca26"
              ],
              [
               1,
               "#f0f921"
              ]
             ],
             "sequentialminus": [
              [
               0,
               "#0d0887"
              ],
              [
               0.1111111111111111,
               "#46039f"
              ],
              [
               0.2222222222222222,
               "#7201a8"
              ],
              [
               0.3333333333333333,
               "#9c179e"
              ],
              [
               0.4444444444444444,
               "#bd3786"
              ],
              [
               0.5555555555555556,
               "#d8576b"
              ],
              [
               0.6666666666666666,
               "#ed7953"
              ],
              [
               0.7777777777777778,
               "#fb9f3a"
              ],
              [
               0.8888888888888888,
               "#fdca26"
              ],
              [
               1,
               "#f0f921"
              ]
             ]
            },
            "colorway": [
             "#636efa",
             "#EF553B",
             "#00cc96",
             "#ab63fa",
             "#FFA15A",
             "#19d3f3",
             "#FF6692",
             "#B6E880",
             "#FF97FF",
             "#FECB52"
            ],
            "font": {
             "color": "#2a3f5f"
            },
            "geo": {
             "bgcolor": "white",
             "lakecolor": "white",
             "landcolor": "white",
             "showlakes": true,
             "showland": true,
             "subunitcolor": "#C8D4E3"
            },
            "hoverlabel": {
             "align": "left"
            },
            "hovermode": "closest",
            "mapbox": {
             "style": "light"
            },
            "paper_bgcolor": "white",
            "plot_bgcolor": "white",
            "polar": {
             "angularaxis": {
              "gridcolor": "#EBF0F8",
              "linecolor": "#EBF0F8",
              "ticks": ""
             },
             "bgcolor": "white",
             "radialaxis": {
              "gridcolor": "#EBF0F8",
              "linecolor": "#EBF0F8",
              "ticks": ""
             }
            },
            "scene": {
             "xaxis": {
              "backgroundcolor": "white",
              "gridcolor": "#DFE8F3",
              "gridwidth": 2,
              "linecolor": "#EBF0F8",
              "showbackground": true,
              "ticks": "",
              "zerolinecolor": "#EBF0F8"
             },
             "yaxis": {
              "backgroundcolor": "white",
              "gridcolor": "#DFE8F3",
              "gridwidth": 2,
              "linecolor": "#EBF0F8",
              "showbackground": true,
              "ticks": "",
              "zerolinecolor": "#EBF0F8"
             },
             "zaxis": {
              "backgroundcolor": "white",
              "gridcolor": "#DFE8F3",
              "gridwidth": 2,
              "linecolor": "#EBF0F8",
              "showbackground": true,
              "ticks": "",
              "zerolinecolor": "#EBF0F8"
             }
            },
            "shapedefaults": {
             "line": {
              "color": "#2a3f5f"
             }
            },
            "ternary": {
             "aaxis": {
              "gridcolor": "#DFE8F3",
              "linecolor": "#A2B1C6",
              "ticks": ""
             },
             "baxis": {
              "gridcolor": "#DFE8F3",
              "linecolor": "#A2B1C6",
              "ticks": ""
             },
             "bgcolor": "white",
             "caxis": {
              "gridcolor": "#DFE8F3",
              "linecolor": "#A2B1C6",
              "ticks": ""
             }
            },
            "title": {
             "x": 0.05
            },
            "xaxis": {
             "automargin": true,
             "gridcolor": "#EBF0F8",
             "linecolor": "#EBF0F8",
             "ticks": "",
             "title": {
              "standoff": 15
             },
             "zerolinecolor": "#EBF0F8",
             "zerolinewidth": 2
            },
            "yaxis": {
             "automargin": true,
             "gridcolor": "#EBF0F8",
             "linecolor": "#EBF0F8",
             "ticks": "",
             "title": {
              "standoff": 15
             },
             "zerolinecolor": "#EBF0F8",
             "zerolinewidth": 2
            }
           }
          },
          "xaxis": {
           "automargin": false,
           "linecolor": "#444",
           "linewidth": 2,
           "minor": {
            "tickmode": "linear",
            "ticks": "outside"
           },
           "mirror": true,
           "showline": true,
           "tickmode": "linear",
           "ticks": "outside",
           "zeroline": false
          },
          "yaxis": {
           "automargin": true,
           "linecolor": "#444",
           "linewidth": 2,
           "minor": {
            "tickmode": "linear",
            "ticks": "outside"
           },
           "mirror": true,
           "showline": true,
           "ticks": "outside",
           "zeroline": false
          }
         }
        },
        "width": 600,
        "xaxis": {
         "dtick": 5,
         "minor": {
          "dtick": 1,
          "tick0": 0
         },
         "range": [
          0,
          31
         ],
         "tick0": 0,
         "title": {
          "text": "challenge rating"
         }
        },
        "yaxis": {
         "dtick": 2,
         "minor": {
          "dtick": 1,
          "tick0": 0
         },
         "range": [
          2,
          20
         ],
         "tick0": 0,
         "title": {
          "text": "attack bonus"
         }
        }
       }
      }
     },
     "metadata": {},
     "output_type": "display_data"
    }
   ],
   "source": [
    "# Fig. 2: plots average attack bonus\n",
    "# create figure\n",
    "fig = go.Figure(\n",
    "    layout=go.Layout(\n",
    "        template=tfb.FIG_TEMPLATE,\n",
    "        margin=dict(l=60, r=25, b=55, t=20, pad=4),\n",
    "        xaxis=dict(\n",
    "            title_text='challenge rating',\n",
    "            range=[0,31],\n",
    "            tick0=0, dtick=5,\n",
    "            minor=dict(tick0=0, dtick=1),\n",
    "        ),\n",
    "        yaxis=dict(\n",
    "            title_text='attack bonus',\n",
    "            range=[2,20],\n",
    "            tick0=0, dtick=2,\n",
    "            minor=dict(tick0=0, dtick=1),\n",
    "        ),\n",
    "        legend=dict(\n",
    "            xanchor='left', yanchor='top',\n",
    "            x=0.00, y=1.00,\n",
    "            orientation='v',\n",
    "            tracegroupgap=0,\n",
    "        )\n",
    "    )\n",
    ")\n",
    "\n",
    "\n",
    "# plot monster adjusted average\n",
    "dfM = pd.read_csv('../../assets/data/monsters.csv')\n",
    "dfM = dfM[['CR','AC','AB','adj AB','Save DC']].groupby(['CR']).mean().reset_index()\n",
    "dfM = dfM[dfM['CR'].between(1, 30)]\n",
    "plot_data_and_fit(\n",
    "    fig, \n",
    "    dfM['CR'], dfM['adj AB'], \n",
    "    name='monsters (adj)',\n",
    "    legendgroup='monsters (adj)',\n",
    "    line=dict(color=COLOR_LIST[0]),\n",
    "    hovertemplate=\n",
    "        '<b>monsters (adj)</b><br>'+\n",
    "        'CR %{x}<br>'+\n",
    "        'AB %{y:,.1f}' + \n",
    "        '<extra></extra>',\n",
    "    print_coefficients=True,\n",
    ")\n",
    "\n",
    "# plot monster unadjusted average\n",
    "plot_data_and_fit(\n",
    "    fig, \n",
    "    dfM['CR'], dfM['AB'], \n",
    "    name='monsters (unadj)',\n",
    "    legendgroup='monsters (unadj)',\n",
    "    line=dict(color=COLOR_LIST[1]),\n",
    "    hovertemplate=\n",
    "        '<b>monsters (unadj)</b><br>'+\n",
    "        'CR %{x}<br>'+\n",
    "        'AB %{y:,.1f}' + \n",
    "        '<extra></extra>'\n",
    ")\n",
    "\n",
    "# plot monster DMG targets\n",
    "dfD = pd.read_csv('../../assets/data/dmg-targets.csv') # 'CR','PB','AC','AB','DC'\n",
    "dfD = dfD[dfD['CR'].between(1, 30)]\n",
    "fig.add_trace(go.Scatter(\n",
    "    x=np.array(dfD['CR']), \n",
    "    y=np.array(dfD['AB']),\n",
    "    mode='markers+lines', \n",
    "    name='DMG',\n",
    "    legendgroup='DMG',\n",
    "    line=dict(color='black', dash='dash'),\n",
    "    hovertemplate=\n",
    "        '<b>DMG</b><br>'+\n",
    "        'CR %{x}<br>'+\n",
    "        'AB %{y:,.1f}' + \n",
    "        '<extra></extra>'\n",
    "))\n",
    "\n",
    "# show figure\n",
    "fig.update_layout(width=600, height=450)\n",
    "fig.show(config=tfb.FIG_CONFIG)\n",
    "\n",
    "# save figures\n",
    "if SAVEFIGS:\n",
    "    fig.update_layout(autosize=True, width=None, height=None)\n",
    "    tfb.save_fig_html(fig, format='large', name=f'./fig-ab-vs-cr-large')\n",
    "    tfb.save_fig_html(fig, format='small', name=f'./fig-ab-vs-cr-small')"
   ]
  },
  {
   "cell_type": "code",
   "execution_count": null,
   "metadata": {},
   "outputs": [
    {
     "name": "stdout",
     "output_type": "stream",
     "text": [
      "CR >= 1: 11.54 + 0.46*CR\n"
     ]
    },
    {
     "data": {
      "application/vnd.plotly.v1+json": {
       "config": {
        "autosizable": true,
        "displayModeBar": "hover",
        "displaylogo": false,
        "doubleClick": "reset",
        "modeBarButtonsToRemove": [
         "select2d",
         "lasso2d",
         "zoom2d",
         "zoomIn2d",
         "zoomOut2d",
         "pan2d",
         "autoScale2d",
         "hoverClosestCartesian",
         "hoverCompareCartesian",
         "toggleSpikelines",
         "resetScale2d"
        ],
        "plotlyServerURL": "https://plot.ly",
        "responsive": true,
        "showAxisDragHandles": false,
        "toImageButtonOptions": {
         "filename": "tfb-plot",
         "format": "png",
         "height": 450,
         "scale": 2,
         "width": 600
        }
       },
       "data": [
        {
         "hovertemplate": "<b>monsters (adj)</b><br>CR %{x}<br>Save DC %{y:,.1f}<extra></extra>",
         "legendgroup": "monsters (adj)",
         "line": {
          "color": "#1f77b4"
         },
         "mode": "markers",
         "name": "monsters (adj)",
         "type": "scatter",
         "x": [
          1,
          2,
          3,
          4,
          5,
          6,
          7,
          8,
          9,
          10,
          11,
          12,
          13,
          14,
          15,
          16,
          17,
          18,
          19,
          20,
          21,
          22,
          23,
          24,
          25,
          26,
          27,
          28,
          30
         ],
         "y": [
          12.142857142857142,
          12.144578313253012,
          12.91304347826087,
          13.12280701754386,
          14.202898550724637,
          14.50909090909091,
          14.425925925925926,
          14.615384615384615,
          15.979591836734693,
          16.145833333333332,
          16.6875,
          16.545454545454547,
          17.75,
          17.642857142857142,
          17.857142857142858,
          19.25,
          19.5,
          19.869565217391305,
          20.357142857142858,
          20.875,
          21.48,
          21.652173913043477,
          21.73913043478261,
          22.357142857142858,
          22.5,
          24.642857142857142,
          25.125,
          25.166666666666668,
          22.5
         ]
        },
        {
         "hoverinfo": "skip",
         "hovertemplate": "<b>monsters (adj)</b><br>CR %{x}<br>Save DC %{y:,.1f}<extra></extra>",
         "legendgroup": "monsters (adj)",
         "line": {
          "color": "#1f77b4",
          "dash": "solid"
         },
         "mode": "lines",
         "name": "monsters (adj)",
         "showlegend": false,
         "type": "scatter",
         "x": [
          1,
          2,
          3,
          4,
          5,
          6,
          7,
          8,
          9,
          10,
          11,
          12,
          13,
          14,
          15,
          16,
          17,
          18,
          19,
          20,
          21,
          22,
          23,
          24,
          25,
          26,
          27,
          28,
          30
         ],
         "y": [
          12.000082641452998,
          12.456341236429543,
          12.912599831406087,
          13.368858426382632,
          13.825117021359176,
          14.281375616335719,
          14.737634211312265,
          15.193892806288808,
          15.650151401265354,
          16.106409996241897,
          16.562668591218443,
          17.018927186194986,
          17.475185781171533,
          17.931444376148075,
          18.387702971124618,
          18.843961566101164,
          19.30022016107771,
          19.756478756054253,
          20.212737351030796,
          20.668995946007342,
          21.12525454098389,
          21.58151313596043,
          22.037771730936974,
          22.49403032591352,
          22.950288920890063,
          23.406547515866606,
          23.862806110843152,
          24.3190647058197,
          25.231581895772784
         ]
        },
        {
         "hovertemplate": "<b>monsters (unadj)</b><br>CR %{x}<br>Save DC %{y:,.1f}<extra></extra>",
         "legendgroup": "monsters (unadj)",
         "line": {
          "color": "#ff7f0e"
         },
         "mode": "markers",
         "name": "monsters (unadj)",
         "type": "scatter",
         "x": [
          1,
          2,
          3,
          4,
          5,
          6,
          7,
          8,
          9,
          10,
          11,
          12,
          13,
          14,
          15,
          16,
          17,
          18,
          19,
          20,
          21,
          22,
          23,
          24,
          25,
          26,
          27,
          28,
          30
         ],
         "y": [
          12.142857142857142,
          12.144578313253012,
          12.91304347826087,
          13.12280701754386,
          14.202898550724637,
          14.50909090909091,
          14.425925925925926,
          14.615384615384615,
          15.979591836734693,
          16.145833333333332,
          16.6875,
          16.545454545454547,
          17.75,
          17.642857142857142,
          17.857142857142858,
          19.25,
          19.5,
          19.869565217391305,
          20.357142857142858,
          20.875,
          21.48,
          21.652173913043477,
          21.73913043478261,
          22.357142857142858,
          22.5,
          24.642857142857142,
          25.125,
          25.166666666666668,
          22.5
         ]
        },
        {
         "hoverinfo": "skip",
         "hovertemplate": "<b>monsters (unadj)</b><br>CR %{x}<br>Save DC %{y:,.1f}<extra></extra>",
         "legendgroup": "monsters (unadj)",
         "line": {
          "color": "#ff7f0e",
          "dash": "solid"
         },
         "mode": "lines",
         "name": "monsters (unadj)",
         "showlegend": false,
         "type": "scatter",
         "x": [
          1,
          2,
          3,
          4,
          5,
          6,
          7,
          8,
          9,
          10,
          11,
          12,
          13,
          14,
          15,
          16,
          17,
          18,
          19,
          20,
          21,
          22,
          23,
          24,
          25,
          26,
          27,
          28,
          30
         ],
         "y": [
          12.000082641452998,
          12.456341236429543,
          12.912599831406087,
          13.368858426382632,
          13.825117021359176,
          14.281375616335719,
          14.737634211312265,
          15.193892806288808,
          15.650151401265354,
          16.106409996241897,
          16.562668591218443,
          17.018927186194986,
          17.475185781171533,
          17.931444376148075,
          18.387702971124618,
          18.843961566101164,
          19.30022016107771,
          19.756478756054253,
          20.212737351030796,
          20.668995946007342,
          21.12525454098389,
          21.58151313596043,
          22.037771730936974,
          22.49403032591352,
          22.950288920890063,
          23.406547515866606,
          23.862806110843152,
          24.3190647058197,
          25.231581895772784
         ]
        },
        {
         "hovertemplate": "<b>DMG</b><br>CR %{x}<br>Save DC %{y:,.1f}<extra></extra>",
         "legendgroup": "DMG",
         "line": {
          "color": "black",
          "dash": "dash"
         },
         "mode": "markers+lines",
         "name": "DMG",
         "type": "scatter",
         "x": [
          1,
          2,
          3,
          4,
          5,
          6,
          7,
          8,
          9,
          10,
          11,
          12,
          13,
          14,
          15,
          16,
          17,
          18,
          19,
          20,
          21,
          22,
          23,
          24,
          25,
          26,
          27,
          28,
          29,
          30
         ],
         "y": [
          13,
          13,
          13,
          14,
          15,
          15,
          15,
          16,
          16,
          16,
          17,
          17,
          18,
          18,
          18,
          18,
          19,
          19,
          19,
          19,
          20,
          20,
          20,
          21,
          21,
          21,
          22,
          22,
          22,
          23
         ]
        }
       ],
       "layout": {
        "height": 450,
        "legend": {
         "orientation": "v",
         "tracegroupgap": 0,
         "x": 0,
         "xanchor": "left",
         "y": 1,
         "yanchor": "top"
        },
        "margin": {
         "b": 55,
         "l": 60,
         "pad": 4,
         "r": 25,
         "t": 20
        },
        "template": {
         "layout": {
          "autosize": false,
          "font": {
           "family": "sans-serif",
           "size": 14
          },
          "hoverlabel": {
           "align": "left"
          },
          "hovermode": "closest",
          "margin": {
           "b": 55,
           "l": 60,
           "pad": 4,
           "r": 25,
           "t": 20
          },
          "template": {
           "data": {
            "bar": [
             {
              "error_x": {
               "color": "#2a3f5f"
              },
              "error_y": {
               "color": "#2a3f5f"
              },
              "marker": {
               "line": {
                "color": "white",
                "width": 0.5
               },
               "pattern": {
                "fillmode": "overlay",
                "size": 10,
                "solidity": 0.2
               }
              },
              "type": "bar"
             }
            ],
            "barpolar": [
             {
              "marker": {
               "line": {
                "color": "white",
                "width": 0.5
               },
               "pattern": {
                "fillmode": "overlay",
                "size": 10,
                "solidity": 0.2
               }
              },
              "type": "barpolar"
             }
            ],
            "carpet": [
             {
              "aaxis": {
               "endlinecolor": "#2a3f5f",
               "gridcolor": "#C8D4E3",
               "linecolor": "#C8D4E3",
               "minorgridcolor": "#C8D4E3",
               "startlinecolor": "#2a3f5f"
              },
              "baxis": {
               "endlinecolor": "#2a3f5f",
               "gridcolor": "#C8D4E3",
               "linecolor": "#C8D4E3",
               "minorgridcolor": "#C8D4E3",
               "startlinecolor": "#2a3f5f"
              },
              "type": "carpet"
             }
            ],
            "choropleth": [
             {
              "colorbar": {
               "outlinewidth": 0,
               "ticks": ""
              },
              "type": "choropleth"
             }
            ],
            "contour": [
             {
              "colorbar": {
               "outlinewidth": 0,
               "ticks": ""
              },
              "colorscale": [
               [
                0,
                "#0d0887"
               ],
               [
                0.1111111111111111,
                "#46039f"
               ],
               [
                0.2222222222222222,
                "#7201a8"
               ],
               [
                0.3333333333333333,
                "#9c179e"
               ],
               [
                0.4444444444444444,
                "#bd3786"
               ],
               [
                0.5555555555555556,
                "#d8576b"
               ],
               [
                0.6666666666666666,
                "#ed7953"
               ],
               [
                0.7777777777777778,
                "#fb9f3a"
               ],
               [
                0.8888888888888888,
                "#fdca26"
               ],
               [
                1,
                "#f0f921"
               ]
              ],
              "type": "contour"
             }
            ],
            "contourcarpet": [
             {
              "colorbar": {
               "outlinewidth": 0,
               "ticks": ""
              },
              "type": "contourcarpet"
             }
            ],
            "heatmap": [
             {
              "colorbar": {
               "outlinewidth": 0,
               "ticks": ""
              },
              "colorscale": [
               [
                0,
                "#0d0887"
               ],
               [
                0.1111111111111111,
                "#46039f"
               ],
               [
                0.2222222222222222,
                "#7201a8"
               ],
               [
                0.3333333333333333,
                "#9c179e"
               ],
               [
                0.4444444444444444,
                "#bd3786"
               ],
               [
                0.5555555555555556,
                "#d8576b"
               ],
               [
                0.6666666666666666,
                "#ed7953"
               ],
               [
                0.7777777777777778,
                "#fb9f3a"
               ],
               [
                0.8888888888888888,
                "#fdca26"
               ],
               [
                1,
                "#f0f921"
               ]
              ],
              "type": "heatmap"
             }
            ],
            "heatmapgl": [
             {
              "colorbar": {
               "outlinewidth": 0,
               "ticks": ""
              },
              "colorscale": [
               [
                0,
                "#0d0887"
               ],
               [
                0.1111111111111111,
                "#46039f"
               ],
               [
                0.2222222222222222,
                "#7201a8"
               ],
               [
                0.3333333333333333,
                "#9c179e"
               ],
               [
                0.4444444444444444,
                "#bd3786"
               ],
               [
                0.5555555555555556,
                "#d8576b"
               ],
               [
                0.6666666666666666,
                "#ed7953"
               ],
               [
                0.7777777777777778,
                "#fb9f3a"
               ],
               [
                0.8888888888888888,
                "#fdca26"
               ],
               [
                1,
                "#f0f921"
               ]
              ],
              "type": "heatmapgl"
             }
            ],
            "histogram": [
             {
              "marker": {
               "pattern": {
                "fillmode": "overlay",
                "size": 10,
                "solidity": 0.2
               }
              },
              "type": "histogram"
             }
            ],
            "histogram2d": [
             {
              "colorbar": {
               "outlinewidth": 0,
               "ticks": ""
              },
              "colorscale": [
               [
                0,
                "#0d0887"
               ],
               [
                0.1111111111111111,
                "#46039f"
               ],
               [
                0.2222222222222222,
                "#7201a8"
               ],
               [
                0.3333333333333333,
                "#9c179e"
               ],
               [
                0.4444444444444444,
                "#bd3786"
               ],
               [
                0.5555555555555556,
                "#d8576b"
               ],
               [
                0.6666666666666666,
                "#ed7953"
               ],
               [
                0.7777777777777778,
                "#fb9f3a"
               ],
               [
                0.8888888888888888,
                "#fdca26"
               ],
               [
                1,
                "#f0f921"
               ]
              ],
              "type": "histogram2d"
             }
            ],
            "histogram2dcontour": [
             {
              "colorbar": {
               "outlinewidth": 0,
               "ticks": ""
              },
              "colorscale": [
               [
                0,
                "#0d0887"
               ],
               [
                0.1111111111111111,
                "#46039f"
               ],
               [
                0.2222222222222222,
                "#7201a8"
               ],
               [
                0.3333333333333333,
                "#9c179e"
               ],
               [
                0.4444444444444444,
                "#bd3786"
               ],
               [
                0.5555555555555556,
                "#d8576b"
               ],
               [
                0.6666666666666666,
                "#ed7953"
               ],
               [
                0.7777777777777778,
                "#fb9f3a"
               ],
               [
                0.8888888888888888,
                "#fdca26"
               ],
               [
                1,
                "#f0f921"
               ]
              ],
              "type": "histogram2dcontour"
             }
            ],
            "mesh3d": [
             {
              "colorbar": {
               "outlinewidth": 0,
               "ticks": ""
              },
              "type": "mesh3d"
             }
            ],
            "parcoords": [
             {
              "line": {
               "colorbar": {
                "outlinewidth": 0,
                "ticks": ""
               }
              },
              "type": "parcoords"
             }
            ],
            "pie": [
             {
              "automargin": true,
              "type": "pie"
             }
            ],
            "scatter": [
             {
              "fillpattern": {
               "fillmode": "overlay",
               "size": 10,
               "solidity": 0.2
              },
              "type": "scatter"
             }
            ],
            "scatter3d": [
             {
              "line": {
               "colorbar": {
                "outlinewidth": 0,
                "ticks": ""
               }
              },
              "marker": {
               "colorbar": {
                "outlinewidth": 0,
                "ticks": ""
               }
              },
              "type": "scatter3d"
             }
            ],
            "scattercarpet": [
             {
              "marker": {
               "colorbar": {
                "outlinewidth": 0,
                "ticks": ""
               }
              },
              "type": "scattercarpet"
             }
            ],
            "scattergeo": [
             {
              "marker": {
               "colorbar": {
                "outlinewidth": 0,
                "ticks": ""
               }
              },
              "type": "scattergeo"
             }
            ],
            "scattergl": [
             {
              "marker": {
               "colorbar": {
                "outlinewidth": 0,
                "ticks": ""
               }
              },
              "type": "scattergl"
             }
            ],
            "scattermapbox": [
             {
              "marker": {
               "colorbar": {
                "outlinewidth": 0,
                "ticks": ""
               }
              },
              "type": "scattermapbox"
             }
            ],
            "scatterpolar": [
             {
              "marker": {
               "colorbar": {
                "outlinewidth": 0,
                "ticks": ""
               }
              },
              "type": "scatterpolar"
             }
            ],
            "scatterpolargl": [
             {
              "marker": {
               "colorbar": {
                "outlinewidth": 0,
                "ticks": ""
               }
              },
              "type": "scatterpolargl"
             }
            ],
            "scatterternary": [
             {
              "marker": {
               "colorbar": {
                "outlinewidth": 0,
                "ticks": ""
               }
              },
              "type": "scatterternary"
             }
            ],
            "surface": [
             {
              "colorbar": {
               "outlinewidth": 0,
               "ticks": ""
              },
              "colorscale": [
               [
                0,
                "#0d0887"
               ],
               [
                0.1111111111111111,
                "#46039f"
               ],
               [
                0.2222222222222222,
                "#7201a8"
               ],
               [
                0.3333333333333333,
                "#9c179e"
               ],
               [
                0.4444444444444444,
                "#bd3786"
               ],
               [
                0.5555555555555556,
                "#d8576b"
               ],
               [
                0.6666666666666666,
                "#ed7953"
               ],
               [
                0.7777777777777778,
                "#fb9f3a"
               ],
               [
                0.8888888888888888,
                "#fdca26"
               ],
               [
                1,
                "#f0f921"
               ]
              ],
              "type": "surface"
             }
            ],
            "table": [
             {
              "cells": {
               "fill": {
                "color": "#EBF0F8"
               },
               "line": {
                "color": "white"
               }
              },
              "header": {
               "fill": {
                "color": "#C8D4E3"
               },
               "line": {
                "color": "white"
               }
              },
              "type": "table"
             }
            ]
           },
           "layout": {
            "annotationdefaults": {
             "arrowcolor": "#2a3f5f",
             "arrowhead": 0,
             "arrowwidth": 1
            },
            "autotypenumbers": "strict",
            "coloraxis": {
             "colorbar": {
              "outlinewidth": 0,
              "ticks": ""
             }
            },
            "colorscale": {
             "diverging": [
              [
               0,
               "#8e0152"
              ],
              [
               0.1,
               "#c51b7d"
              ],
              [
               0.2,
               "#de77ae"
              ],
              [
               0.3,
               "#f1b6da"
              ],
              [
               0.4,
               "#fde0ef"
              ],
              [
               0.5,
               "#f7f7f7"
              ],
              [
               0.6,
               "#e6f5d0"
              ],
              [
               0.7,
               "#b8e186"
              ],
              [
               0.8,
               "#7fbc41"
              ],
              [
               0.9,
               "#4d9221"
              ],
              [
               1,
               "#276419"
              ]
             ],
             "sequential": [
              [
               0,
               "#0d0887"
              ],
              [
               0.1111111111111111,
               "#46039f"
              ],
              [
               0.2222222222222222,
               "#7201a8"
              ],
              [
               0.3333333333333333,
               "#9c179e"
              ],
              [
               0.4444444444444444,
               "#bd3786"
              ],
              [
               0.5555555555555556,
               "#d8576b"
              ],
              [
               0.6666666666666666,
               "#ed7953"
              ],
              [
               0.7777777777777778,
               "#fb9f3a"
              ],
              [
               0.8888888888888888,
               "#fdca26"
              ],
              [
               1,
               "#f0f921"
              ]
             ],
             "sequentialminus": [
              [
               0,
               "#0d0887"
              ],
              [
               0.1111111111111111,
               "#46039f"
              ],
              [
               0.2222222222222222,
               "#7201a8"
              ],
              [
               0.3333333333333333,
               "#9c179e"
              ],
              [
               0.4444444444444444,
               "#bd3786"
              ],
              [
               0.5555555555555556,
               "#d8576b"
              ],
              [
               0.6666666666666666,
               "#ed7953"
              ],
              [
               0.7777777777777778,
               "#fb9f3a"
              ],
              [
               0.8888888888888888,
               "#fdca26"
              ],
              [
               1,
               "#f0f921"
              ]
             ]
            },
            "colorway": [
             "#636efa",
             "#EF553B",
             "#00cc96",
             "#ab63fa",
             "#FFA15A",
             "#19d3f3",
             "#FF6692",
             "#B6E880",
             "#FF97FF",
             "#FECB52"
            ],
            "font": {
             "color": "#2a3f5f"
            },
            "geo": {
             "bgcolor": "white",
             "lakecolor": "white",
             "landcolor": "white",
             "showlakes": true,
             "showland": true,
             "subunitcolor": "#C8D4E3"
            },
            "hoverlabel": {
             "align": "left"
            },
            "hovermode": "closest",
            "mapbox": {
             "style": "light"
            },
            "paper_bgcolor": "white",
            "plot_bgcolor": "white",
            "polar": {
             "angularaxis": {
              "gridcolor": "#EBF0F8",
              "linecolor": "#EBF0F8",
              "ticks": ""
             },
             "bgcolor": "white",
             "radialaxis": {
              "gridcolor": "#EBF0F8",
              "linecolor": "#EBF0F8",
              "ticks": ""
             }
            },
            "scene": {
             "xaxis": {
              "backgroundcolor": "white",
              "gridcolor": "#DFE8F3",
              "gridwidth": 2,
              "linecolor": "#EBF0F8",
              "showbackground": true,
              "ticks": "",
              "zerolinecolor": "#EBF0F8"
             },
             "yaxis": {
              "backgroundcolor": "white",
              "gridcolor": "#DFE8F3",
              "gridwidth": 2,
              "linecolor": "#EBF0F8",
              "showbackground": true,
              "ticks": "",
              "zerolinecolor": "#EBF0F8"
             },
             "zaxis": {
              "backgroundcolor": "white",
              "gridcolor": "#DFE8F3",
              "gridwidth": 2,
              "linecolor": "#EBF0F8",
              "showbackground": true,
              "ticks": "",
              "zerolinecolor": "#EBF0F8"
             }
            },
            "shapedefaults": {
             "line": {
              "color": "#2a3f5f"
             }
            },
            "ternary": {
             "aaxis": {
              "gridcolor": "#DFE8F3",
              "linecolor": "#A2B1C6",
              "ticks": ""
             },
             "baxis": {
              "gridcolor": "#DFE8F3",
              "linecolor": "#A2B1C6",
              "ticks": ""
             },
             "bgcolor": "white",
             "caxis": {
              "gridcolor": "#DFE8F3",
              "linecolor": "#A2B1C6",
              "ticks": ""
             }
            },
            "title": {
             "x": 0.05
            },
            "xaxis": {
             "automargin": true,
             "gridcolor": "#EBF0F8",
             "linecolor": "#EBF0F8",
             "ticks": "",
             "title": {
              "standoff": 15
             },
             "zerolinecolor": "#EBF0F8",
             "zerolinewidth": 2
            },
            "yaxis": {
             "automargin": true,
             "gridcolor": "#EBF0F8",
             "linecolor": "#EBF0F8",
             "ticks": "",
             "title": {
              "standoff": 15
             },
             "zerolinecolor": "#EBF0F8",
             "zerolinewidth": 2
            }
           }
          },
          "xaxis": {
           "automargin": false,
           "linecolor": "#444",
           "linewidth": 2,
           "minor": {
            "tickmode": "linear",
            "ticks": "outside"
           },
           "mirror": true,
           "showline": true,
           "tickmode": "linear",
           "ticks": "outside",
           "zeroline": false
          },
          "yaxis": {
           "automargin": true,
           "linecolor": "#444",
           "linewidth": 2,
           "minor": {
            "tickmode": "linear",
            "ticks": "outside"
           },
           "mirror": true,
           "showline": true,
           "ticks": "outside",
           "zeroline": false
          }
         }
        },
        "width": 600,
        "xaxis": {
         "dtick": 5,
         "minor": {
          "dtick": 1,
          "tick0": 0
         },
         "range": [
          0,
          31
         ],
         "tick0": 0,
         "title": {
          "text": "challenge rating"
         }
        },
        "yaxis": {
         "dtick": 2,
         "minor": {
          "dtick": 1,
          "tick0": 0
         },
         "range": [
          10,
          28
         ],
         "tick0": 0,
         "title": {
          "text": "save difficulty class"
         }
        }
       }
      }
     },
     "metadata": {},
     "output_type": "display_data"
    }
   ],
   "source": [
    "# Fig. 3: plots average save difficulty class\n",
    "# create figure\n",
    "fig = go.Figure(\n",
    "    layout=go.Layout(\n",
    "        template=tfb.FIG_TEMPLATE,\n",
    "        margin=dict(l=60, r=25, b=55, t=20, pad=4),\n",
    "        xaxis=dict(\n",
    "            title_text='challenge rating',\n",
    "            range=[0,31],\n",
    "            tick0=0, dtick=5,\n",
    "            minor=dict(tick0=0, dtick=1),\n",
    "        ),\n",
    "        yaxis=dict(\n",
    "            title_text='save difficulty class',\n",
    "            range=[10,28],\n",
    "            tick0=0, dtick=2,\n",
    "            minor=dict(tick0=0, dtick=1),\n",
    "        ),\n",
    "        legend=dict(\n",
    "            xanchor='left', yanchor='top',\n",
    "            x=0.00, y=1.00,\n",
    "            orientation='v',\n",
    "            tracegroupgap=0,\n",
    "        )\n",
    "    )\n",
    ")\n",
    "\n",
    "\n",
    "# plot monster average\n",
    "dfM = pd.read_csv('../../assets/data/monsters.csv')\n",
    "dfM = dfM[['CR','AC','AB','adj AB','Save DC']].groupby(['CR']).mean().reset_index()\n",
    "dfM = dfM[dfM['CR'].between(1, 30)]\n",
    "\n",
    "\n",
    "plot_data_and_fit(\n",
    "    fig, \n",
    "    dfM['CR'], dfM['Save DC'], \n",
    "    name='monsters (adj)',\n",
    "    legendgroup='monsters (adj)',\n",
    "    line=dict(color=COLOR_LIST[0]),\n",
    "    hovertemplate=\n",
    "        '<b>monsters (adj)</b><br>'\n",
    "        'CR %{x}<br>'+\n",
    "        'Save DC %{y:,.1f}' + \n",
    "        '<extra></extra>',\n",
    "        print_coefficients=True,\n",
    ")\n",
    "\n",
    "plot_data_and_fit(\n",
    "    fig, \n",
    "    dfM['CR'], dfM['Save DC'], \n",
    "    name='monsters (unadj)',\n",
    "    legendgroup='monsters (unadj)',\n",
    "    line=dict(color=COLOR_LIST[1]),\n",
    "    hovertemplate=\n",
    "        '<b>monsters (unadj)</b><br>'\n",
    "        'CR %{x}<br>'+\n",
    "        'Save DC %{y:,.1f}' + \n",
    "        '<extra></extra>'\n",
    ")\n",
    "\n",
    "\n",
    "# plot monster DMG targets\n",
    "dfD = pd.read_csv('../../assets/data/dmg-targets.csv') # 'CR','PB','AC','AB','DC'\n",
    "dfD = dfD[dfD['CR'].between(1, 30)]\n",
    "fig.add_trace(go.Scatter(\n",
    "    x=np.array(dfD['CR']), \n",
    "    y=np.array(dfD['DC']),\n",
    "    mode='markers+lines', \n",
    "    name='DMG',\n",
    "    legendgroup='DMG',\n",
    "    line=dict(color='black', dash='dash'),\n",
    "    hovertemplate=\n",
    "        '<b>DMG</b><br>'\n",
    "        'CR %{x}<br>'+\n",
    "        'Save DC %{y:,.1f}' + \n",
    "        '<extra></extra>'\n",
    "))\n",
    "\n",
    "# show figure\n",
    "fig.update_layout(width=600, height=450)\n",
    "fig.show(config=tfb.FIG_CONFIG)\n",
    "\n",
    "# save figures\n",
    "if SAVEFIGS:\n",
    "    fig.update_layout(autosize=True, width=None, height=None)\n",
    "    tfb.save_fig_html(fig, format='large', name=f'./fig-dc-vs-cr-large')\n",
    "    tfb.save_fig_html(fig, format='small', name=f'./fig-dc-vs-cr-small')"
   ]
  },
  {
   "cell_type": "code",
   "execution_count": null,
   "metadata": {},
   "outputs": [
    {
     "data": {
      "application/vnd.plotly.v1+json": {
       "config": {
        "autosizable": true,
        "displayModeBar": "hover",
        "displaylogo": false,
        "doubleClick": "reset",
        "modeBarButtonsToRemove": [
         "select2d",
         "lasso2d",
         "zoom2d",
         "zoomIn2d",
         "zoomOut2d",
         "pan2d",
         "autoScale2d",
         "hoverClosestCartesian",
         "hoverCompareCartesian",
         "toggleSpikelines",
         "resetScale2d"
        ],
        "plotlyServerURL": "https://plot.ly",
        "responsive": true,
        "showAxisDragHandles": false,
        "toImageButtonOptions": {
         "filename": "tfb-plot",
         "format": "png",
         "height": 450,
         "scale": 2,
         "width": 600
        }
       },
       "data": [
        {
         "hovertemplate": "<b>monsters (adj)</b><br>AB %{x:,.1f}<br>Save DC %{y:,.1f}<extra></extra>",
         "legendgroup": "monsters (adj)",
         "line": {
          "color": "#1f77b4"
         },
         "mode": "markers",
         "name": "monsters (adj)",
         "type": "scatter",
         "x": [
          4.827586206896552,
          5.101769911504425,
          5.5487179487179485,
          5.9416058394160585,
          6.954285714285715,
          7.092783505154639,
          7.453703703703703,
          7.71,
          9.075,
          8.970149253731343,
          9.6,
          9.481481481481481,
          10.372549019607844,
          10.342105263157896,
          11,
          11.428571428571429,
          12.392857142857142,
          12.26923076923077,
          12.705882352941176,
          14.052631578947368,
          14.461538461538462,
          14.375,
          15.064516129032258,
          15.789473684210526,
          17.46153846153846,
          17.27777777777778,
          18.125,
          17.857142857142858,
          17.75
         ],
         "y": [
          12.142857142857142,
          12.144578313253012,
          12.91304347826087,
          13.12280701754386,
          14.202898550724637,
          14.50909090909091,
          14.425925925925926,
          14.615384615384615,
          15.979591836734693,
          16.145833333333332,
          16.6875,
          16.545454545454547,
          17.75,
          17.642857142857142,
          17.857142857142858,
          19.25,
          19.5,
          19.869565217391305,
          20.357142857142858,
          20.875,
          21.48,
          21.652173913043477,
          21.73913043478261,
          22.357142857142858,
          22.5,
          24.642857142857142,
          25.125,
          25.166666666666668,
          22.5
         ]
        },
        {
         "hoverinfo": "skip",
         "hovertemplate": "<b>monsters (adj)</b><br>AB %{x:,.1f}<br>Save DC %{y:,.1f}<extra></extra>",
         "legendgroup": "monsters (adj)",
         "line": {
          "color": "#1f77b4",
          "dash": "solid"
         },
         "mode": "lines",
         "name": "monsters (adj)",
         "showlegend": false,
         "type": "scatter",
         "x": [
          4.827586206896552,
          5.101769911504425,
          5.5487179487179485,
          5.9416058394160585,
          6.954285714285715,
          7.092783505154639,
          7.453703703703703,
          7.71,
          9.075,
          8.970149253731343,
          9.6,
          9.481481481481481,
          10.372549019607844,
          10.342105263157896,
          11,
          11.428571428571429,
          12.392857142857142,
          12.26923076923077,
          12.705882352941176,
          14.052631578947368,
          14.461538461538462,
          14.375,
          15.064516129032258,
          15.789473684210526,
          17.46153846153846,
          17.27777777777778,
          18.125,
          17.857142857142858,
          17.75
         ],
         "y": [
          12.263035430176203,
          12.519354165866895,
          12.937180440341695,
          13.30446896157583,
          14.251165722994326,
          14.380639422761591,
          14.718043168580968,
          14.957639984601913,
          16.23370077281751,
          16.13568177946324,
          16.724493383669664,
          16.61369716816865,
          17.446705479564148,
          17.41824534487421,
          18.033273679275403,
          18.433920708542466,
          19.335376524393357,
          19.21980526595094,
          19.62800597224038,
          20.887005150896943,
          21.269268915663222,
          21.188369034753528,
          21.832958408453358,
          22.510679953716092,
          24.073798120532665,
          23.902010719094797,
          24.694030540840334,
          24.443626147548418,
          24.343464390231652
         ]
        },
        {
         "hovertemplate": "<b>DMG</b><br>AB %{x:,.1f}<br>Save DC %{y:,.1f}<extra></extra>",
         "legendgroup": "DMG",
         "line": {
          "color": "black",
          "dash": "dash"
         },
         "mode": "markers+lines",
         "name": "DMG",
         "type": "scatter",
         "x": [
          3,
          3,
          4,
          5,
          6,
          6,
          6,
          7,
          7,
          7,
          8,
          8,
          8,
          8,
          8,
          9,
          10,
          10,
          10,
          10,
          11,
          11,
          11,
          12,
          12,
          12,
          13,
          13,
          13,
          14
         ],
         "y": [
          13,
          13,
          13,
          14,
          15,
          15,
          15,
          16,
          16,
          16,
          17,
          17,
          18,
          18,
          18,
          18,
          19,
          19,
          19,
          19,
          20,
          20,
          20,
          21,
          21,
          21,
          22,
          22,
          22,
          23
         ]
        }
       ],
       "layout": {
        "height": 450,
        "legend": {
         "orientation": "v",
         "tracegroupgap": 0,
         "x": 0,
         "xanchor": "left",
         "y": 1,
         "yanchor": "top"
        },
        "margin": {
         "b": 55,
         "l": 60,
         "pad": 4,
         "r": 25,
         "t": 20
        },
        "template": {
         "layout": {
          "autosize": false,
          "font": {
           "family": "sans-serif",
           "size": 14
          },
          "hoverlabel": {
           "align": "left"
          },
          "hovermode": "closest",
          "margin": {
           "b": 55,
           "l": 60,
           "pad": 4,
           "r": 25,
           "t": 20
          },
          "template": {
           "data": {
            "bar": [
             {
              "error_x": {
               "color": "#2a3f5f"
              },
              "error_y": {
               "color": "#2a3f5f"
              },
              "marker": {
               "line": {
                "color": "white",
                "width": 0.5
               },
               "pattern": {
                "fillmode": "overlay",
                "size": 10,
                "solidity": 0.2
               }
              },
              "type": "bar"
             }
            ],
            "barpolar": [
             {
              "marker": {
               "line": {
                "color": "white",
                "width": 0.5
               },
               "pattern": {
                "fillmode": "overlay",
                "size": 10,
                "solidity": 0.2
               }
              },
              "type": "barpolar"
             }
            ],
            "carpet": [
             {
              "aaxis": {
               "endlinecolor": "#2a3f5f",
               "gridcolor": "#C8D4E3",
               "linecolor": "#C8D4E3",
               "minorgridcolor": "#C8D4E3",
               "startlinecolor": "#2a3f5f"
              },
              "baxis": {
               "endlinecolor": "#2a3f5f",
               "gridcolor": "#C8D4E3",
               "linecolor": "#C8D4E3",
               "minorgridcolor": "#C8D4E3",
               "startlinecolor": "#2a3f5f"
              },
              "type": "carpet"
             }
            ],
            "choropleth": [
             {
              "colorbar": {
               "outlinewidth": 0,
               "ticks": ""
              },
              "type": "choropleth"
             }
            ],
            "contour": [
             {
              "colorbar": {
               "outlinewidth": 0,
               "ticks": ""
              },
              "colorscale": [
               [
                0,
                "#0d0887"
               ],
               [
                0.1111111111111111,
                "#46039f"
               ],
               [
                0.2222222222222222,
                "#7201a8"
               ],
               [
                0.3333333333333333,
                "#9c179e"
               ],
               [
                0.4444444444444444,
                "#bd3786"
               ],
               [
                0.5555555555555556,
                "#d8576b"
               ],
               [
                0.6666666666666666,
                "#ed7953"
               ],
               [
                0.7777777777777778,
                "#fb9f3a"
               ],
               [
                0.8888888888888888,
                "#fdca26"
               ],
               [
                1,
                "#f0f921"
               ]
              ],
              "type": "contour"
             }
            ],
            "contourcarpet": [
             {
              "colorbar": {
               "outlinewidth": 0,
               "ticks": ""
              },
              "type": "contourcarpet"
             }
            ],
            "heatmap": [
             {
              "colorbar": {
               "outlinewidth": 0,
               "ticks": ""
              },
              "colorscale": [
               [
                0,
                "#0d0887"
               ],
               [
                0.1111111111111111,
                "#46039f"
               ],
               [
                0.2222222222222222,
                "#7201a8"
               ],
               [
                0.3333333333333333,
                "#9c179e"
               ],
               [
                0.4444444444444444,
                "#bd3786"
               ],
               [
                0.5555555555555556,
                "#d8576b"
               ],
               [
                0.6666666666666666,
                "#ed7953"
               ],
               [
                0.7777777777777778,
                "#fb9f3a"
               ],
               [
                0.8888888888888888,
                "#fdca26"
               ],
               [
                1,
                "#f0f921"
               ]
              ],
              "type": "heatmap"
             }
            ],
            "heatmapgl": [
             {
              "colorbar": {
               "outlinewidth": 0,
               "ticks": ""
              },
              "colorscale": [
               [
                0,
                "#0d0887"
               ],
               [
                0.1111111111111111,
                "#46039f"
               ],
               [
                0.2222222222222222,
                "#7201a8"
               ],
               [
                0.3333333333333333,
                "#9c179e"
               ],
               [
                0.4444444444444444,
                "#bd3786"
               ],
               [
                0.5555555555555556,
                "#d8576b"
               ],
               [
                0.6666666666666666,
                "#ed7953"
               ],
               [
                0.7777777777777778,
                "#fb9f3a"
               ],
               [
                0.8888888888888888,
                "#fdca26"
               ],
               [
                1,
                "#f0f921"
               ]
              ],
              "type": "heatmapgl"
             }
            ],
            "histogram": [
             {
              "marker": {
               "pattern": {
                "fillmode": "overlay",
                "size": 10,
                "solidity": 0.2
               }
              },
              "type": "histogram"
             }
            ],
            "histogram2d": [
             {
              "colorbar": {
               "outlinewidth": 0,
               "ticks": ""
              },
              "colorscale": [
               [
                0,
                "#0d0887"
               ],
               [
                0.1111111111111111,
                "#46039f"
               ],
               [
                0.2222222222222222,
                "#7201a8"
               ],
               [
                0.3333333333333333,
                "#9c179e"
               ],
               [
                0.4444444444444444,
                "#bd3786"
               ],
               [
                0.5555555555555556,
                "#d8576b"
               ],
               [
                0.6666666666666666,
                "#ed7953"
               ],
               [
                0.7777777777777778,
                "#fb9f3a"
               ],
               [
                0.8888888888888888,
                "#fdca26"
               ],
               [
                1,
                "#f0f921"
               ]
              ],
              "type": "histogram2d"
             }
            ],
            "histogram2dcontour": [
             {
              "colorbar": {
               "outlinewidth": 0,
               "ticks": ""
              },
              "colorscale": [
               [
                0,
                "#0d0887"
               ],
               [
                0.1111111111111111,
                "#46039f"
               ],
               [
                0.2222222222222222,
                "#7201a8"
               ],
               [
                0.3333333333333333,
                "#9c179e"
               ],
               [
                0.4444444444444444,
                "#bd3786"
               ],
               [
                0.5555555555555556,
                "#d8576b"
               ],
               [
                0.6666666666666666,
                "#ed7953"
               ],
               [
                0.7777777777777778,
                "#fb9f3a"
               ],
               [
                0.8888888888888888,
                "#fdca26"
               ],
               [
                1,
                "#f0f921"
               ]
              ],
              "type": "histogram2dcontour"
             }
            ],
            "mesh3d": [
             {
              "colorbar": {
               "outlinewidth": 0,
               "ticks": ""
              },
              "type": "mesh3d"
             }
            ],
            "parcoords": [
             {
              "line": {
               "colorbar": {
                "outlinewidth": 0,
                "ticks": ""
               }
              },
              "type": "parcoords"
             }
            ],
            "pie": [
             {
              "automargin": true,
              "type": "pie"
             }
            ],
            "scatter": [
             {
              "fillpattern": {
               "fillmode": "overlay",
               "size": 10,
               "solidity": 0.2
              },
              "type": "scatter"
             }
            ],
            "scatter3d": [
             {
              "line": {
               "colorbar": {
                "outlinewidth": 0,
                "ticks": ""
               }
              },
              "marker": {
               "colorbar": {
                "outlinewidth": 0,
                "ticks": ""
               }
              },
              "type": "scatter3d"
             }
            ],
            "scattercarpet": [
             {
              "marker": {
               "colorbar": {
                "outlinewidth": 0,
                "ticks": ""
               }
              },
              "type": "scattercarpet"
             }
            ],
            "scattergeo": [
             {
              "marker": {
               "colorbar": {
                "outlinewidth": 0,
                "ticks": ""
               }
              },
              "type": "scattergeo"
             }
            ],
            "scattergl": [
             {
              "marker": {
               "colorbar": {
                "outlinewidth": 0,
                "ticks": ""
               }
              },
              "type": "scattergl"
             }
            ],
            "scattermapbox": [
             {
              "marker": {
               "colorbar": {
                "outlinewidth": 0,
                "ticks": ""
               }
              },
              "type": "scattermapbox"
             }
            ],
            "scatterpolar": [
             {
              "marker": {
               "colorbar": {
                "outlinewidth": 0,
                "ticks": ""
               }
              },
              "type": "scatterpolar"
             }
            ],
            "scatterpolargl": [
             {
              "marker": {
               "colorbar": {
                "outlinewidth": 0,
                "ticks": ""
               }
              },
              "type": "scatterpolargl"
             }
            ],
            "scatterternary": [
             {
              "marker": {
               "colorbar": {
                "outlinewidth": 0,
                "ticks": ""
               }
              },
              "type": "scatterternary"
             }
            ],
            "surface": [
             {
              "colorbar": {
               "outlinewidth": 0,
               "ticks": ""
              },
              "colorscale": [
               [
                0,
                "#0d0887"
               ],
               [
                0.1111111111111111,
                "#46039f"
               ],
               [
                0.2222222222222222,
                "#7201a8"
               ],
               [
                0.3333333333333333,
                "#9c179e"
               ],
               [
                0.4444444444444444,
                "#bd3786"
               ],
               [
                0.5555555555555556,
                "#d8576b"
               ],
               [
                0.6666666666666666,
                "#ed7953"
               ],
               [
                0.7777777777777778,
                "#fb9f3a"
               ],
               [
                0.8888888888888888,
                "#fdca26"
               ],
               [
                1,
                "#f0f921"
               ]
              ],
              "type": "surface"
             }
            ],
            "table": [
             {
              "cells": {
               "fill": {
                "color": "#EBF0F8"
               },
               "line": {
                "color": "white"
               }
              },
              "header": {
               "fill": {
                "color": "#C8D4E3"
               },
               "line": {
                "color": "white"
               }
              },
              "type": "table"
             }
            ]
           },
           "layout": {
            "annotationdefaults": {
             "arrowcolor": "#2a3f5f",
             "arrowhead": 0,
             "arrowwidth": 1
            },
            "autotypenumbers": "strict",
            "coloraxis": {
             "colorbar": {
              "outlinewidth": 0,
              "ticks": ""
             }
            },
            "colorscale": {
             "diverging": [
              [
               0,
               "#8e0152"
              ],
              [
               0.1,
               "#c51b7d"
              ],
              [
               0.2,
               "#de77ae"
              ],
              [
               0.3,
               "#f1b6da"
              ],
              [
               0.4,
               "#fde0ef"
              ],
              [
               0.5,
               "#f7f7f7"
              ],
              [
               0.6,
               "#e6f5d0"
              ],
              [
               0.7,
               "#b8e186"
              ],
              [
               0.8,
               "#7fbc41"
              ],
              [
               0.9,
               "#4d9221"
              ],
              [
               1,
               "#276419"
              ]
             ],
             "sequential": [
              [
               0,
               "#0d0887"
              ],
              [
               0.1111111111111111,
               "#46039f"
              ],
              [
               0.2222222222222222,
               "#7201a8"
              ],
              [
               0.3333333333333333,
               "#9c179e"
              ],
              [
               0.4444444444444444,
               "#bd3786"
              ],
              [
               0.5555555555555556,
               "#d8576b"
              ],
              [
               0.6666666666666666,
               "#ed7953"
              ],
              [
               0.7777777777777778,
               "#fb9f3a"
              ],
              [
               0.8888888888888888,
               "#fdca26"
              ],
              [
               1,
               "#f0f921"
              ]
             ],
             "sequentialminus": [
              [
               0,
               "#0d0887"
              ],
              [
               0.1111111111111111,
               "#46039f"
              ],
              [
               0.2222222222222222,
               "#7201a8"
              ],
              [
               0.3333333333333333,
               "#9c179e"
              ],
              [
               0.4444444444444444,
               "#bd3786"
              ],
              [
               0.5555555555555556,
               "#d8576b"
              ],
              [
               0.6666666666666666,
               "#ed7953"
              ],
              [
               0.7777777777777778,
               "#fb9f3a"
              ],
              [
               0.8888888888888888,
               "#fdca26"
              ],
              [
               1,
               "#f0f921"
              ]
             ]
            },
            "colorway": [
             "#636efa",
             "#EF553B",
             "#00cc96",
             "#ab63fa",
             "#FFA15A",
             "#19d3f3",
             "#FF6692",
             "#B6E880",
             "#FF97FF",
             "#FECB52"
            ],
            "font": {
             "color": "#2a3f5f"
            },
            "geo": {
             "bgcolor": "white",
             "lakecolor": "white",
             "landcolor": "white",
             "showlakes": true,
             "showland": true,
             "subunitcolor": "#C8D4E3"
            },
            "hoverlabel": {
             "align": "left"
            },
            "hovermode": "closest",
            "mapbox": {
             "style": "light"
            },
            "paper_bgcolor": "white",
            "plot_bgcolor": "white",
            "polar": {
             "angularaxis": {
              "gridcolor": "#EBF0F8",
              "linecolor": "#EBF0F8",
              "ticks": ""
             },
             "bgcolor": "white",
             "radialaxis": {
              "gridcolor": "#EBF0F8",
              "linecolor": "#EBF0F8",
              "ticks": ""
             }
            },
            "scene": {
             "xaxis": {
              "backgroundcolor": "white",
              "gridcolor": "#DFE8F3",
              "gridwidth": 2,
              "linecolor": "#EBF0F8",
              "showbackground": true,
              "ticks": "",
              "zerolinecolor": "#EBF0F8"
             },
             "yaxis": {
              "backgroundcolor": "white",
              "gridcolor": "#DFE8F3",
              "gridwidth": 2,
              "linecolor": "#EBF0F8",
              "showbackground": true,
              "ticks": "",
              "zerolinecolor": "#EBF0F8"
             },
             "zaxis": {
              "backgroundcolor": "white",
              "gridcolor": "#DFE8F3",
              "gridwidth": 2,
              "linecolor": "#EBF0F8",
              "showbackground": true,
              "ticks": "",
              "zerolinecolor": "#EBF0F8"
             }
            },
            "shapedefaults": {
             "line": {
              "color": "#2a3f5f"
             }
            },
            "ternary": {
             "aaxis": {
              "gridcolor": "#DFE8F3",
              "linecolor": "#A2B1C6",
              "ticks": ""
             },
             "baxis": {
              "gridcolor": "#DFE8F3",
              "linecolor": "#A2B1C6",
              "ticks": ""
             },
             "bgcolor": "white",
             "caxis": {
              "gridcolor": "#DFE8F3",
              "linecolor": "#A2B1C6",
              "ticks": ""
             }
            },
            "title": {
             "x": 0.05
            },
            "xaxis": {
             "automargin": true,
             "gridcolor": "#EBF0F8",
             "linecolor": "#EBF0F8",
             "ticks": "",
             "title": {
              "standoff": 15
             },
             "zerolinecolor": "#EBF0F8",
             "zerolinewidth": 2
            },
            "yaxis": {
             "automargin": true,
             "gridcolor": "#EBF0F8",
             "linecolor": "#EBF0F8",
             "ticks": "",
             "title": {
              "standoff": 15
             },
             "zerolinecolor": "#EBF0F8",
             "zerolinewidth": 2
            }
           }
          },
          "xaxis": {
           "automargin": false,
           "linecolor": "#444",
           "linewidth": 2,
           "minor": {
            "tickmode": "linear",
            "ticks": "outside"
           },
           "mirror": true,
           "showline": true,
           "tickmode": "linear",
           "ticks": "outside",
           "zeroline": false
          },
          "yaxis": {
           "automargin": true,
           "linecolor": "#444",
           "linewidth": 2,
           "minor": {
            "tickmode": "linear",
            "ticks": "outside"
           },
           "mirror": true,
           "showline": true,
           "ticks": "outside",
           "zeroline": false
          }
         }
        },
        "width": 600,
        "xaxis": {
         "dtick": 2,
         "minor": {
          "dtick": 1,
          "tick0": 0
         },
         "range": [
          2,
          20
         ],
         "tick0": 0,
         "title": {
          "text": "attack bonus"
         }
        },
        "yaxis": {
         "dtick": 2,
         "minor": {
          "dtick": 1,
          "tick0": 0
         },
         "range": [
          10,
          28
         ],
         "tick0": 0,
         "title": {
          "text": "save difficulty class"
         }
        }
       }
      }
     },
     "metadata": {},
     "output_type": "display_data"
    }
   ],
   "source": [
    "# Fig. 4: plots average save DC vs AB for monsters and the DMG\n",
    "# create figure\n",
    "fig = go.Figure(\n",
    "    layout=go.Layout(\n",
    "        template=tfb.FIG_TEMPLATE,\n",
    "        margin=dict(l=60, r=25, b=55, t=20, pad=4),\n",
    "        xaxis=dict(\n",
    "            title_text='attack bonus',\n",
    "            range=[2,20],\n",
    "            tick0=0, dtick=2,\n",
    "            minor=dict(tick0=0, dtick=1),\n",
    "        ),\n",
    "        yaxis=dict(\n",
    "            title_text='save difficulty class',\n",
    "            range=[10,28],\n",
    "            tick0=0, dtick=2,\n",
    "            minor=dict(tick0=0, dtick=1),\n",
    "        ),\n",
    "        legend=dict(\n",
    "            xanchor='left', yanchor='top',\n",
    "            x=0.00, y=1.00,\n",
    "            orientation='v',\n",
    "            tracegroupgap=0,\n",
    "        )\n",
    "    )\n",
    ")\n",
    "\n",
    "\n",
    "# plot monster average\n",
    "dfM = pd.read_csv('../../assets/data/monsters.csv')\n",
    "dfM = dfM[['CR','AC','AB','adj AB','Save DC']].groupby(['CR']).mean().reset_index()\n",
    "dfM = dfM[dfM['CR'].between(1, 30)]\n",
    "\n",
    "\n",
    "plot_data_and_fit(\n",
    "    fig, \n",
    "    dfM['adj AB'], dfM['Save DC'], \n",
    "    name='monsters (adj)',\n",
    "    legendgroup='monsters (adj)',\n",
    "    line=dict(color=COLOR_LIST[0]),\n",
    "    hovertemplate=\n",
    "        '<b>monsters (adj)</b><br>'\n",
    "        'AB %{x:,.1f}<br>'+\n",
    "        'Save DC %{y:,.1f}' + \n",
    "        '<extra></extra>'\n",
    ")\n",
    "\n",
    "\n",
    "# plot monster DMG targets\n",
    "dfD = pd.read_csv('../../assets/data/dmg-targets.csv') # 'CR','PB','AC','AB','DC'\n",
    "dfD = dfD[dfD['CR'].between(1, 30)]\n",
    "fig.add_trace(go.Scatter(\n",
    "    x=np.array(dfD['AB']), \n",
    "    y=np.array(dfD['DC']),\n",
    "    mode='markers+lines', \n",
    "    name='DMG',\n",
    "    legendgroup='DMG',\n",
    "    line=dict(color='black', dash='dash'),\n",
    "    hovertemplate=\n",
    "        '<b>DMG</b><br>'\n",
    "        'AB %{x:,.1f}<br>'+\n",
    "        'Save DC %{y:,.1f}' + \n",
    "        '<extra></extra>'\n",
    "))\n",
    "\n",
    "# show figure\n",
    "fig.update_layout(width=600, height=450)\n",
    "fig.show(config=tfb.FIG_CONFIG)\n",
    "\n",
    "# save figures\n",
    "if SAVEFIGS:\n",
    "    fig.update_layout(autosize=True, width=None, height=None)\n",
    "    tfb.save_fig_html(fig, format='large', name=f'./fig-dc-vs-ab-large')\n",
    "    tfb.save_fig_html(fig, format='small', name=f'./fig-dc-vs-ab-small')"
   ]
  },
  {
   "cell_type": "code",
   "execution_count": 44,
   "metadata": {},
   "outputs": [
    {
     "name": "stdout",
     "output_type": "stream",
     "text": [
      "CR >= 1: 4.07 + 0.49*CR\n"
     ]
    },
    {
     "data": {
      "application/vnd.plotly.v1+json": {
       "config": {
        "autosizable": true,
        "displayModeBar": "hover",
        "displaylogo": false,
        "doubleClick": "reset",
        "modeBarButtonsToRemove": [
         "select2d",
         "lasso2d",
         "zoom2d",
         "zoomIn2d",
         "zoomOut2d",
         "pan2d",
         "autoScale2d",
         "hoverClosestCartesian",
         "hoverCompareCartesian",
         "toggleSpikelines",
         "resetScale2d"
        ],
        "plotlyServerURL": "https://plot.ly",
        "responsive": true,
        "showAxisDragHandles": false,
        "toImageButtonOptions": {
         "filename": "tfb-plot",
         "format": "png",
         "height": 450,
         "scale": 2,
         "width": 600
        }
       },
       "data": [
        {
         "hovertemplate": "<b>monsters (adj)</b><br>CR %{x}<br>AB %{y:,.0f}<extra></extra>",
         "legendgroup": "monsters (adj)",
         "line": {
          "color": "#1f77b4"
         },
         "mode": "markers",
         "name": "monsters (adj)",
         "type": "scatter",
         "x": [
          1,
          2,
          3,
          4,
          5,
          6,
          7,
          8,
          9,
          10,
          11,
          12,
          13,
          14,
          15,
          16,
          17,
          18,
          19,
          20,
          21,
          22,
          23,
          24,
          25,
          26,
          27,
          28,
          30
         ],
         "y": [
          4.827586206896552,
          5.101769911504425,
          5.5487179487179485,
          5.9416058394160585,
          6.954285714285715,
          7.092783505154639,
          7.453703703703703,
          7.71,
          9.075,
          8.970149253731343,
          9.6,
          9.481481481481481,
          10.372549019607844,
          10.342105263157896,
          11,
          11.428571428571429,
          12.392857142857142,
          12.26923076923077,
          12.705882352941176,
          14.052631578947368,
          14.461538461538462,
          14.375,
          15.064516129032258,
          15.789473684210526,
          17.46153846153846,
          17.27777777777778,
          18.125,
          17.857142857142858,
          17.75
         ]
        },
        {
         "hoverinfo": "skip",
         "hovertemplate": "<b>monsters (adj)</b><br>CR %{x}<br>AB %{y:,.0f}<extra></extra>",
         "legendgroup": "monsters (adj)",
         "line": {
          "color": "#1f77b4",
          "dash": "solid"
         },
         "mode": "lines",
         "name": "monsters (adj)",
         "showlegend": false,
         "type": "scatter",
         "x": [
          1,
          2,
          3,
          4,
          5,
          6,
          7,
          8,
          9,
          10,
          11,
          12,
          13,
          14,
          15,
          16,
          17,
          18,
          19,
          20,
          21,
          22,
          23,
          24,
          25,
          26,
          27,
          28,
          30
         ],
         "y": [
          4.5576620131677075,
          5.044911890586829,
          5.53216176800595,
          6.019411645425071,
          6.506661522844192,
          6.993911400263313,
          7.481161277682434,
          7.968411155101554,
          8.455661032520677,
          8.942910909939798,
          9.430160787358918,
          9.91741066477804,
          10.40466054219716,
          10.89191041961628,
          11.379160297035401,
          11.866410174454522,
          12.353660051873645,
          12.840909929292765,
          13.328159806711886,
          13.815409684131007,
          14.302659561550128,
          14.789909438969248,
          15.27715931638837,
          15.764409193807492,
          16.251659071226612,
          16.738908948645733,
          17.226158826064854,
          17.713408703483974,
          18.68790845832222
         ]
        },
        {
         "hovertemplate": "<b>player characters</b><br>Level %{x}<br>AB %{y:,.0f}<extra></extra>",
         "line": {
          "color": "#8c564b"
         },
         "marker": {
          "color": "#8c564b"
         },
         "mode": "markers+lines",
         "name": "player characters",
         "type": "scatter",
         "x": [
          1,
          2,
          3,
          4,
          5,
          6,
          7,
          8,
          9,
          10,
          11,
          12,
          13,
          14,
          15,
          16,
          17,
          18,
          19,
          20
         ],
         "y": [
          5,
          5,
          5,
          6,
          7,
          7,
          7,
          8,
          9,
          9,
          9,
          9,
          10,
          10,
          10,
          10,
          11,
          11,
          11,
          11
         ]
        },
        {
         "hovertemplate": "<b>DMG</b><br>CR %{x}<br>AB %{y:,.0f}<extra></extra>",
         "legendgroup": "DMG",
         "line": {
          "color": "black",
          "dash": "dash"
         },
         "mode": "markers+lines",
         "name": "DMG",
         "type": "scatter",
         "x": [
          1,
          2,
          3,
          4,
          5,
          6,
          7,
          8,
          9,
          10,
          11,
          12,
          13,
          14,
          15,
          16,
          17,
          18,
          19,
          20,
          21,
          22,
          23,
          24,
          25,
          26,
          27,
          28,
          29,
          30
         ],
         "y": [
          3,
          3,
          4,
          5,
          6,
          6,
          6,
          7,
          7,
          7,
          8,
          8,
          8,
          8,
          8,
          9,
          10,
          10,
          10,
          10,
          11,
          11,
          11,
          12,
          12,
          12,
          13,
          13,
          13,
          14
         ]
        }
       ],
       "layout": {
        "height": 450,
        "legend": {
         "orientation": "v",
         "tracegroupgap": 0,
         "x": 0,
         "xanchor": "left",
         "y": 1,
         "yanchor": "top"
        },
        "margin": {
         "b": 55,
         "l": 60,
         "pad": 4,
         "r": 25,
         "t": 20
        },
        "template": {
         "layout": {
          "autosize": false,
          "font": {
           "family": "sans-serif",
           "size": 14
          },
          "hoverlabel": {
           "align": "left"
          },
          "hovermode": "closest",
          "margin": {
           "b": 55,
           "l": 60,
           "pad": 4,
           "r": 25,
           "t": 20
          },
          "template": {
           "data": {
            "bar": [
             {
              "error_x": {
               "color": "#2a3f5f"
              },
              "error_y": {
               "color": "#2a3f5f"
              },
              "marker": {
               "line": {
                "color": "white",
                "width": 0.5
               },
               "pattern": {
                "fillmode": "overlay",
                "size": 10,
                "solidity": 0.2
               }
              },
              "type": "bar"
             }
            ],
            "barpolar": [
             {
              "marker": {
               "line": {
                "color": "white",
                "width": 0.5
               },
               "pattern": {
                "fillmode": "overlay",
                "size": 10,
                "solidity": 0.2
               }
              },
              "type": "barpolar"
             }
            ],
            "carpet": [
             {
              "aaxis": {
               "endlinecolor": "#2a3f5f",
               "gridcolor": "#C8D4E3",
               "linecolor": "#C8D4E3",
               "minorgridcolor": "#C8D4E3",
               "startlinecolor": "#2a3f5f"
              },
              "baxis": {
               "endlinecolor": "#2a3f5f",
               "gridcolor": "#C8D4E3",
               "linecolor": "#C8D4E3",
               "minorgridcolor": "#C8D4E3",
               "startlinecolor": "#2a3f5f"
              },
              "type": "carpet"
             }
            ],
            "choropleth": [
             {
              "colorbar": {
               "outlinewidth": 0,
               "ticks": ""
              },
              "type": "choropleth"
             }
            ],
            "contour": [
             {
              "colorbar": {
               "outlinewidth": 0,
               "ticks": ""
              },
              "colorscale": [
               [
                0,
                "#0d0887"
               ],
               [
                0.1111111111111111,
                "#46039f"
               ],
               [
                0.2222222222222222,
                "#7201a8"
               ],
               [
                0.3333333333333333,
                "#9c179e"
               ],
               [
                0.4444444444444444,
                "#bd3786"
               ],
               [
                0.5555555555555556,
                "#d8576b"
               ],
               [
                0.6666666666666666,
                "#ed7953"
               ],
               [
                0.7777777777777778,
                "#fb9f3a"
               ],
               [
                0.8888888888888888,
                "#fdca26"
               ],
               [
                1,
                "#f0f921"
               ]
              ],
              "type": "contour"
             }
            ],
            "contourcarpet": [
             {
              "colorbar": {
               "outlinewidth": 0,
               "ticks": ""
              },
              "type": "contourcarpet"
             }
            ],
            "heatmap": [
             {
              "colorbar": {
               "outlinewidth": 0,
               "ticks": ""
              },
              "colorscale": [
               [
                0,
                "#0d0887"
               ],
               [
                0.1111111111111111,
                "#46039f"
               ],
               [
                0.2222222222222222,
                "#7201a8"
               ],
               [
                0.3333333333333333,
                "#9c179e"
               ],
               [
                0.4444444444444444,
                "#bd3786"
               ],
               [
                0.5555555555555556,
                "#d8576b"
               ],
               [
                0.6666666666666666,
                "#ed7953"
               ],
               [
                0.7777777777777778,
                "#fb9f3a"
               ],
               [
                0.8888888888888888,
                "#fdca26"
               ],
               [
                1,
                "#f0f921"
               ]
              ],
              "type": "heatmap"
             }
            ],
            "heatmapgl": [
             {
              "colorbar": {
               "outlinewidth": 0,
               "ticks": ""
              },
              "colorscale": [
               [
                0,
                "#0d0887"
               ],
               [
                0.1111111111111111,
                "#46039f"
               ],
               [
                0.2222222222222222,
                "#7201a8"
               ],
               [
                0.3333333333333333,
                "#9c179e"
               ],
               [
                0.4444444444444444,
                "#bd3786"
               ],
               [
                0.5555555555555556,
                "#d8576b"
               ],
               [
                0.6666666666666666,
                "#ed7953"
               ],
               [
                0.7777777777777778,
                "#fb9f3a"
               ],
               [
                0.8888888888888888,
                "#fdca26"
               ],
               [
                1,
                "#f0f921"
               ]
              ],
              "type": "heatmapgl"
             }
            ],
            "histogram": [
             {
              "marker": {
               "pattern": {
                "fillmode": "overlay",
                "size": 10,
                "solidity": 0.2
               }
              },
              "type": "histogram"
             }
            ],
            "histogram2d": [
             {
              "colorbar": {
               "outlinewidth": 0,
               "ticks": ""
              },
              "colorscale": [
               [
                0,
                "#0d0887"
               ],
               [
                0.1111111111111111,
                "#46039f"
               ],
               [
                0.2222222222222222,
                "#7201a8"
               ],
               [
                0.3333333333333333,
                "#9c179e"
               ],
               [
                0.4444444444444444,
                "#bd3786"
               ],
               [
                0.5555555555555556,
                "#d8576b"
               ],
               [
                0.6666666666666666,
                "#ed7953"
               ],
               [
                0.7777777777777778,
                "#fb9f3a"
               ],
               [
                0.8888888888888888,
                "#fdca26"
               ],
               [
                1,
                "#f0f921"
               ]
              ],
              "type": "histogram2d"
             }
            ],
            "histogram2dcontour": [
             {
              "colorbar": {
               "outlinewidth": 0,
               "ticks": ""
              },
              "colorscale": [
               [
                0,
                "#0d0887"
               ],
               [
                0.1111111111111111,
                "#46039f"
               ],
               [
                0.2222222222222222,
                "#7201a8"
               ],
               [
                0.3333333333333333,
                "#9c179e"
               ],
               [
                0.4444444444444444,
                "#bd3786"
               ],
               [
                0.5555555555555556,
                "#d8576b"
               ],
               [
                0.6666666666666666,
                "#ed7953"
               ],
               [
                0.7777777777777778,
                "#fb9f3a"
               ],
               [
                0.8888888888888888,
                "#fdca26"
               ],
               [
                1,
                "#f0f921"
               ]
              ],
              "type": "histogram2dcontour"
             }
            ],
            "mesh3d": [
             {
              "colorbar": {
               "outlinewidth": 0,
               "ticks": ""
              },
              "type": "mesh3d"
             }
            ],
            "parcoords": [
             {
              "line": {
               "colorbar": {
                "outlinewidth": 0,
                "ticks": ""
               }
              },
              "type": "parcoords"
             }
            ],
            "pie": [
             {
              "automargin": true,
              "type": "pie"
             }
            ],
            "scatter": [
             {
              "fillpattern": {
               "fillmode": "overlay",
               "size": 10,
               "solidity": 0.2
              },
              "type": "scatter"
             }
            ],
            "scatter3d": [
             {
              "line": {
               "colorbar": {
                "outlinewidth": 0,
                "ticks": ""
               }
              },
              "marker": {
               "colorbar": {
                "outlinewidth": 0,
                "ticks": ""
               }
              },
              "type": "scatter3d"
             }
            ],
            "scattercarpet": [
             {
              "marker": {
               "colorbar": {
                "outlinewidth": 0,
                "ticks": ""
               }
              },
              "type": "scattercarpet"
             }
            ],
            "scattergeo": [
             {
              "marker": {
               "colorbar": {
                "outlinewidth": 0,
                "ticks": ""
               }
              },
              "type": "scattergeo"
             }
            ],
            "scattergl": [
             {
              "marker": {
               "colorbar": {
                "outlinewidth": 0,
                "ticks": ""
               }
              },
              "type": "scattergl"
             }
            ],
            "scattermapbox": [
             {
              "marker": {
               "colorbar": {
                "outlinewidth": 0,
                "ticks": ""
               }
              },
              "type": "scattermapbox"
             }
            ],
            "scatterpolar": [
             {
              "marker": {
               "colorbar": {
                "outlinewidth": 0,
                "ticks": ""
               }
              },
              "type": "scatterpolar"
             }
            ],
            "scatterpolargl": [
             {
              "marker": {
               "colorbar": {
                "outlinewidth": 0,
                "ticks": ""
               }
              },
              "type": "scatterpolargl"
             }
            ],
            "scatterternary": [
             {
              "marker": {
               "colorbar": {
                "outlinewidth": 0,
                "ticks": ""
               }
              },
              "type": "scatterternary"
             }
            ],
            "surface": [
             {
              "colorbar": {
               "outlinewidth": 0,
               "ticks": ""
              },
              "colorscale": [
               [
                0,
                "#0d0887"
               ],
               [
                0.1111111111111111,
                "#46039f"
               ],
               [
                0.2222222222222222,
                "#7201a8"
               ],
               [
                0.3333333333333333,
                "#9c179e"
               ],
               [
                0.4444444444444444,
                "#bd3786"
               ],
               [
                0.5555555555555556,
                "#d8576b"
               ],
               [
                0.6666666666666666,
                "#ed7953"
               ],
               [
                0.7777777777777778,
                "#fb9f3a"
               ],
               [
                0.8888888888888888,
                "#fdca26"
               ],
               [
                1,
                "#f0f921"
               ]
              ],
              "type": "surface"
             }
            ],
            "table": [
             {
              "cells": {
               "fill": {
                "color": "#EBF0F8"
               },
               "line": {
                "color": "white"
               }
              },
              "header": {
               "fill": {
                "color": "#C8D4E3"
               },
               "line": {
                "color": "white"
               }
              },
              "type": "table"
             }
            ]
           },
           "layout": {
            "annotationdefaults": {
             "arrowcolor": "#2a3f5f",
             "arrowhead": 0,
             "arrowwidth": 1
            },
            "autotypenumbers": "strict",
            "coloraxis": {
             "colorbar": {
              "outlinewidth": 0,
              "ticks": ""
             }
            },
            "colorscale": {
             "diverging": [
              [
               0,
               "#8e0152"
              ],
              [
               0.1,
               "#c51b7d"
              ],
              [
               0.2,
               "#de77ae"
              ],
              [
               0.3,
               "#f1b6da"
              ],
              [
               0.4,
               "#fde0ef"
              ],
              [
               0.5,
               "#f7f7f7"
              ],
              [
               0.6,
               "#e6f5d0"
              ],
              [
               0.7,
               "#b8e186"
              ],
              [
               0.8,
               "#7fbc41"
              ],
              [
               0.9,
               "#4d9221"
              ],
              [
               1,
               "#276419"
              ]
             ],
             "sequential": [
              [
               0,
               "#0d0887"
              ],
              [
               0.1111111111111111,
               "#46039f"
              ],
              [
               0.2222222222222222,
               "#7201a8"
              ],
              [
               0.3333333333333333,
               "#9c179e"
              ],
              [
               0.4444444444444444,
               "#bd3786"
              ],
              [
               0.5555555555555556,
               "#d8576b"
              ],
              [
               0.6666666666666666,
               "#ed7953"
              ],
              [
               0.7777777777777778,
               "#fb9f3a"
              ],
              [
               0.8888888888888888,
               "#fdca26"
              ],
              [
               1,
               "#f0f921"
              ]
             ],
             "sequentialminus": [
              [
               0,
               "#0d0887"
              ],
              [
               0.1111111111111111,
               "#46039f"
              ],
              [
               0.2222222222222222,
               "#7201a8"
              ],
              [
               0.3333333333333333,
               "#9c179e"
              ],
              [
               0.4444444444444444,
               "#bd3786"
              ],
              [
               0.5555555555555556,
               "#d8576b"
              ],
              [
               0.6666666666666666,
               "#ed7953"
              ],
              [
               0.7777777777777778,
               "#fb9f3a"
              ],
              [
               0.8888888888888888,
               "#fdca26"
              ],
              [
               1,
               "#f0f921"
              ]
             ]
            },
            "colorway": [
             "#636efa",
             "#EF553B",
             "#00cc96",
             "#ab63fa",
             "#FFA15A",
             "#19d3f3",
             "#FF6692",
             "#B6E880",
             "#FF97FF",
             "#FECB52"
            ],
            "font": {
             "color": "#2a3f5f"
            },
            "geo": {
             "bgcolor": "white",
             "lakecolor": "white",
             "landcolor": "white",
             "showlakes": true,
             "showland": true,
             "subunitcolor": "#C8D4E3"
            },
            "hoverlabel": {
             "align": "left"
            },
            "hovermode": "closest",
            "mapbox": {
             "style": "light"
            },
            "paper_bgcolor": "white",
            "plot_bgcolor": "white",
            "polar": {
             "angularaxis": {
              "gridcolor": "#EBF0F8",
              "linecolor": "#EBF0F8",
              "ticks": ""
             },
             "bgcolor": "white",
             "radialaxis": {
              "gridcolor": "#EBF0F8",
              "linecolor": "#EBF0F8",
              "ticks": ""
             }
            },
            "scene": {
             "xaxis": {
              "backgroundcolor": "white",
              "gridcolor": "#DFE8F3",
              "gridwidth": 2,
              "linecolor": "#EBF0F8",
              "showbackground": true,
              "ticks": "",
              "zerolinecolor": "#EBF0F8"
             },
             "yaxis": {
              "backgroundcolor": "white",
              "gridcolor": "#DFE8F3",
              "gridwidth": 2,
              "linecolor": "#EBF0F8",
              "showbackground": true,
              "ticks": "",
              "zerolinecolor": "#EBF0F8"
             },
             "zaxis": {
              "backgroundcolor": "white",
              "gridcolor": "#DFE8F3",
              "gridwidth": 2,
              "linecolor": "#EBF0F8",
              "showbackground": true,
              "ticks": "",
              "zerolinecolor": "#EBF0F8"
             }
            },
            "shapedefaults": {
             "line": {
              "color": "#2a3f5f"
             }
            },
            "ternary": {
             "aaxis": {
              "gridcolor": "#DFE8F3",
              "linecolor": "#A2B1C6",
              "ticks": ""
             },
             "baxis": {
              "gridcolor": "#DFE8F3",
              "linecolor": "#A2B1C6",
              "ticks": ""
             },
             "bgcolor": "white",
             "caxis": {
              "gridcolor": "#DFE8F3",
              "linecolor": "#A2B1C6",
              "ticks": ""
             }
            },
            "title": {
             "x": 0.05
            },
            "xaxis": {
             "automargin": true,
             "gridcolor": "#EBF0F8",
             "linecolor": "#EBF0F8",
             "ticks": "",
             "title": {
              "standoff": 15
             },
             "zerolinecolor": "#EBF0F8",
             "zerolinewidth": 2
            },
            "yaxis": {
             "automargin": true,
             "gridcolor": "#EBF0F8",
             "linecolor": "#EBF0F8",
             "ticks": "",
             "title": {
              "standoff": 15
             },
             "zerolinecolor": "#EBF0F8",
             "zerolinewidth": 2
            }
           }
          },
          "xaxis": {
           "automargin": false,
           "linecolor": "#444",
           "linewidth": 2,
           "minor": {
            "tickmode": "linear",
            "ticks": "outside"
           },
           "mirror": true,
           "showline": true,
           "tickmode": "linear",
           "ticks": "outside",
           "zeroline": false
          },
          "yaxis": {
           "automargin": true,
           "linecolor": "#444",
           "linewidth": 2,
           "minor": {
            "tickmode": "linear",
            "ticks": "outside"
           },
           "mirror": true,
           "showline": true,
           "ticks": "outside",
           "zeroline": false
          }
         }
        },
        "width": 600,
        "xaxis": {
         "dtick": 5,
         "minor": {
          "dtick": 1,
          "tick0": 0
         },
         "range": [
          0,
          21
         ],
         "tick0": 0,
         "title": {
          "text": "level"
         }
        },
        "yaxis": {
         "dtick": 2,
         "minor": {
          "dtick": 1,
          "tick0": 0
         },
         "range": [
          2,
          20
         ],
         "tick0": 0,
         "title": {
          "text": "attack bonus"
         }
        }
       }
      }
     },
     "metadata": {},
     "output_type": "display_data"
    }
   ],
   "source": [
    "# Fig. 5: plots average attack bonus for both monster and player characters\n",
    "# create figure\n",
    "fig = go.Figure(\n",
    "    layout=go.Layout(\n",
    "        template=tfb.FIG_TEMPLATE,\n",
    "        margin=dict(l=60, r=25, b=55, t=20, pad=4),\n",
    "        xaxis=dict(\n",
    "            title_text='level',\n",
    "            range=[0,21],\n",
    "            tick0=0, dtick=5,\n",
    "            minor=dict(tick0=0, dtick=1),\n",
    "        ),\n",
    "        yaxis=dict(\n",
    "            title_text='attack bonus',\n",
    "            range=[2,20],\n",
    "            tick0=0, dtick=2,\n",
    "            minor=dict(tick0=0, dtick=1),\n",
    "        ),\n",
    "        legend=dict(\n",
    "            xanchor='left', yanchor='top',\n",
    "            x=0.00, y=1.00,\n",
    "            orientation='v',\n",
    "            tracegroupgap=0,\n",
    "        )\n",
    "    )\n",
    ")\n",
    "\n",
    "# plot monster average\n",
    "dfM = pd.read_csv('../../assets/data/monsters.csv')\n",
    "dfM = dfM[['CR','adj AB']].groupby(['CR']).mean().reset_index()\n",
    "dfM = dfM[dfM['CR'].between(1, 30)]\n",
    "plot_data_and_fit(\n",
    "    fig, \n",
    "    #dfM['CR'], dfM['AB'] + 8, \n",
    "    dfM['CR'], dfM['adj AB'], \n",
    "    name='monsters (adj)',\n",
    "    legendgroup='monsters (adj)',\n",
    "    line=dict(color=COLOR_LIST[0]),\n",
    "    hovertemplate=\n",
    "        '<b>monsters (adj)</b><br>'+\n",
    "        'CR %{x}<br>'+\n",
    "        'AB %{y:,.0f}' + \n",
    "        '<extra></extra>',\n",
    "    print_coefficients=True,\n",
    ")\n",
    "\n",
    "# plot player character save DCs\n",
    "pc = {\n",
    "    'level':      [ 1, 2, 3, 4, 5, 6, 7, 8, 9,10,11,12,13,14,15,16,17,18,19,20],\n",
    "    'attack mod': [ 3, 3, 3, 4, 4, 4, 4, 5, 5, 5, 5, 5, 5, 5, 5, 5, 5, 5, 5, 5],\n",
    "    'prof bonus': [ 2, 2, 2, 2, 3, 3, 3, 3, 4, 4, 4, 4, 5, 5, 5, 5, 6, 6, 6, 6],\n",
    "}\n",
    "pc['attack bonus'] = [pc['attack mod'][i] + pc['prof bonus'][i] for i in range(20)]\n",
    "pc['save dc'] = [pc['attack bonus'][i] + 8 for i in range(20)]\n",
    "fig.add_trace(go.Scatter(\n",
    "    x=np.array(pc['level']), \n",
    "    y=np.array(pc['attack bonus']),\n",
    "    mode='markers+lines', \n",
    "    name='player characters',\n",
    "    line_color=COLOR_LIST[5],\n",
    "    marker_color=COLOR_LIST[5],\n",
    "    hovertemplate=\n",
    "        '<b>player characters</b><br>'+\n",
    "        'Level %{x}<br>'+\n",
    "        'AB %{y:,.0f}' + \n",
    "        '<extra></extra>'\n",
    "))\n",
    "\n",
    "# plot monster save DCs\n",
    "dfD = pd.read_csv('../../assets/data/dmg-targets.csv') # 'CR','PB','AC','AB','DC'\n",
    "dfD = dfD[dfD['CR'].between(1, 30)]\n",
    "fig.add_trace(go.Scatter(\n",
    "    x=np.array(dfD['CR']), \n",
    "    y=np.array(dfD['AB']),\n",
    "    mode='markers+lines', \n",
    "    name='DMG',\n",
    "    legendgroup='DMG',\n",
    "    line=dict(color='black', dash='dash'),\n",
    "    hovertemplate=\n",
    "        '<b>DMG</b><br>'+\n",
    "        'CR %{x}<br>'+\n",
    "        'AB %{y:,.0f}' + \n",
    "        '<extra></extra>'\n",
    "))\n",
    "\n",
    "# show figure\n",
    "fig.update_layout(width=600, height=450)\n",
    "fig.show(config=tfb.FIG_CONFIG)\n",
    "\n",
    "# save figures\n",
    "if SAVEFIGS:\n",
    "    fig.update_layout(autosize=True, width=None, height=None)\n",
    "    tfb.save_fig_html(fig, format='large', name=f'./fig-ab-vs-level-large')\n",
    "    tfb.save_fig_html(fig, format='small', name=f'./fig-ab-vs-level-small')"
   ]
  },
  {
   "cell_type": "code",
   "execution_count": null,
   "metadata": {},
   "outputs": [
    {
     "name": "stderr",
     "output_type": "stream",
     "text": [
      "/Users/tom/Development/python-venv/thefinishedbook/lib/python3.10/site-packages/scipy/optimize/_minpack_py.py:1010: OptimizeWarning:\n",
      "\n",
      "Covariance of the parameters could not be estimated\n",
      "\n"
     ]
    },
    {
     "data": {
      "application/vnd.plotly.v1+json": {
       "config": {
        "autosizable": true,
        "displayModeBar": "hover",
        "displaylogo": false,
        "doubleClick": "reset",
        "modeBarButtonsToRemove": [
         "select2d",
         "lasso2d",
         "zoom2d",
         "zoomIn2d",
         "zoomOut2d",
         "pan2d",
         "autoScale2d",
         "hoverClosestCartesian",
         "hoverCompareCartesian",
         "toggleSpikelines",
         "resetScale2d"
        ],
        "plotlyServerURL": "https://plot.ly",
        "responsive": true,
        "showAxisDragHandles": false,
        "toImageButtonOptions": {
         "filename": "tfb-plot",
         "format": "png",
         "height": 450,
         "scale": 2,
         "width": 600
        }
       },
       "data": [
        {
         "hovertemplate": "<b>monsters</b><br>CR %{x}<br>eff DPR %{y:,.1f}<extra></extra>",
         "legendgroup": "monsters",
         "line": {
          "color": "#1f77b4"
         },
         "marker": {
          "color": "#1f77b4"
         },
         "mode": "markers",
         "name": "monsters",
         "type": "scatter",
         "x": [
          1,
          2,
          3,
          4,
          5,
          6,
          7,
          8,
          9,
          10,
          11,
          12,
          13,
          14,
          15,
          16,
          17,
          18,
          19,
          20,
          21,
          22,
          23,
          24,
          25,
          26,
          27,
          28,
          30
         ],
         "y": [
          12.84075783146679,
          17.351509912605533,
          22.593155859231565,
          30.121079273808046,
          39.65203640362398,
          50.109852437994896,
          52.768911317232444,
          60.63063423417988,
          74.79478923717168,
          79.69260489221897,
          90.44102477456696,
          110.86345204548249,
          113.72358218577321,
          126.15647024823133,
          145.8166477120047,
          154.8987931337766,
          174.78835546887635,
          194.69265674668773,
          201.1990951126464,
          203.03435990133883,
          261.282106836663,
          254.24736031514,
          322.64562919660716,
          336.31702201634295,
          443.59922843881395,
          408.96239991726935,
          472.6845677663477,
          493.21909500849915,
          692.3000255260425
         ]
        },
        {
         "hoverinfo": "skip",
         "hovertemplate": "<b>monsters</b><br>CR %{x}<br>eff DPR %{y:,.1f}<extra></extra>",
         "legendgroup": "monsters",
         "line": {
          "color": "#1f77b4",
          "dash": "solid"
         },
         "marker": {
          "color": "#1f77b4"
         },
         "mode": "lines",
         "name": "monsters",
         "showlegend": false,
         "type": "scatter",
         "x": [
          1,
          2,
          3,
          4,
          5,
          6,
          7,
          8,
          9,
          10,
          11,
          12,
          13,
          14,
          15,
          16,
          17,
          18,
          19,
          20,
          21,
          22,
          23,
          24,
          25,
          26,
          27,
          28,
          30
         ],
         "y": [
          -1.3243156647309604,
          8.95726482862483,
          19.23884532198062,
          29.52042581533641,
          39.80200630869223,
          50.08358680204802,
          60.36516729540381,
          70.64674778875957,
          80.92832828211539,
          91.2099087754712,
          101.49148926882697,
          111.77306976218279,
          122.05465025553855,
          132.33623074889437,
          142.61781124225018,
          152.89939173560595,
          163.1809722289617,
          173.46255272231753,
          183.74413321567334,
          194.025713709029,
          236.8122745772672,
          279.5988354455054,
          322.3853963137436,
          365.17195718198184,
          407.95851805022005,
          450.74507891845826,
          493.5316397866965,
          536.3182006549345,
          621.8913223914109
         ]
        },
        {
         "hovertemplate": "<b>DMG</b><br>CR %{x}<br>eff DPR %{y:,.1f}<extra></extra>",
         "line": {
          "color": "black",
          "dash": "dash"
         },
         "mode": "markers+lines",
         "name": "DMG",
         "type": "scatter",
         "x": [
          1,
          2,
          3,
          4,
          5,
          6,
          7,
          8,
          9,
          10,
          11,
          12,
          13,
          14,
          15,
          16,
          17,
          18,
          19,
          20,
          21,
          22,
          23,
          24,
          25,
          26,
          27,
          28,
          29,
          30
         ],
         "y": [
          9.271596410543333,
          14.108951059522463,
          20.40371383992479,
          27.583416745953972,
          35.74695729527802,
          41.78869655645178,
          47.83043581762553,
          58.01618854639923,
          64.52267698150942,
          71.02916541661962,
          83.49993491724747,
          90.50692246275075,
          97.51391000825404,
          104.52089755375732,
          111.5278850992606,
          127.65293977128418,
          145.59884377096074,
          153.72529086515388,
          161.85173795934705,
          178.10463214773338,
          218.05966369418306,
          244.3143389215763,
          270.5690141489696,
          319.65628086685234,
          347.9305464963528,
          376.2048121258532,
          435.59285296730394,
          466.04206210676597,
          496.491271246228,
          567.4743634922816
         ]
        }
       ],
       "layout": {
        "height": 450,
        "legend": {
         "orientation": "v",
         "tracegroupgap": 0,
         "x": 0,
         "xanchor": "left",
         "y": 1,
         "yanchor": "top"
        },
        "margin": {
         "b": 55,
         "l": 70,
         "pad": 4,
         "r": 25,
         "t": 20
        },
        "template": {
         "layout": {
          "autosize": false,
          "font": {
           "family": "sans-serif",
           "size": 14
          },
          "hoverlabel": {
           "align": "left"
          },
          "hovermode": "closest",
          "margin": {
           "b": 55,
           "l": 60,
           "pad": 4,
           "r": 25,
           "t": 20
          },
          "template": {
           "data": {
            "bar": [
             {
              "error_x": {
               "color": "#2a3f5f"
              },
              "error_y": {
               "color": "#2a3f5f"
              },
              "marker": {
               "line": {
                "color": "white",
                "width": 0.5
               },
               "pattern": {
                "fillmode": "overlay",
                "size": 10,
                "solidity": 0.2
               }
              },
              "type": "bar"
             }
            ],
            "barpolar": [
             {
              "marker": {
               "line": {
                "color": "white",
                "width": 0.5
               },
               "pattern": {
                "fillmode": "overlay",
                "size": 10,
                "solidity": 0.2
               }
              },
              "type": "barpolar"
             }
            ],
            "carpet": [
             {
              "aaxis": {
               "endlinecolor": "#2a3f5f",
               "gridcolor": "#C8D4E3",
               "linecolor": "#C8D4E3",
               "minorgridcolor": "#C8D4E3",
               "startlinecolor": "#2a3f5f"
              },
              "baxis": {
               "endlinecolor": "#2a3f5f",
               "gridcolor": "#C8D4E3",
               "linecolor": "#C8D4E3",
               "minorgridcolor": "#C8D4E3",
               "startlinecolor": "#2a3f5f"
              },
              "type": "carpet"
             }
            ],
            "choropleth": [
             {
              "colorbar": {
               "outlinewidth": 0,
               "ticks": ""
              },
              "type": "choropleth"
             }
            ],
            "contour": [
             {
              "colorbar": {
               "outlinewidth": 0,
               "ticks": ""
              },
              "colorscale": [
               [
                0,
                "#0d0887"
               ],
               [
                0.1111111111111111,
                "#46039f"
               ],
               [
                0.2222222222222222,
                "#7201a8"
               ],
               [
                0.3333333333333333,
                "#9c179e"
               ],
               [
                0.4444444444444444,
                "#bd3786"
               ],
               [
                0.5555555555555556,
                "#d8576b"
               ],
               [
                0.6666666666666666,
                "#ed7953"
               ],
               [
                0.7777777777777778,
                "#fb9f3a"
               ],
               [
                0.8888888888888888,
                "#fdca26"
               ],
               [
                1,
                "#f0f921"
               ]
              ],
              "type": "contour"
             }
            ],
            "contourcarpet": [
             {
              "colorbar": {
               "outlinewidth": 0,
               "ticks": ""
              },
              "type": "contourcarpet"
             }
            ],
            "heatmap": [
             {
              "colorbar": {
               "outlinewidth": 0,
               "ticks": ""
              },
              "colorscale": [
               [
                0,
                "#0d0887"
               ],
               [
                0.1111111111111111,
                "#46039f"
               ],
               [
                0.2222222222222222,
                "#7201a8"
               ],
               [
                0.3333333333333333,
                "#9c179e"
               ],
               [
                0.4444444444444444,
                "#bd3786"
               ],
               [
                0.5555555555555556,
                "#d8576b"
               ],
               [
                0.6666666666666666,
                "#ed7953"
               ],
               [
                0.7777777777777778,
                "#fb9f3a"
               ],
               [
                0.8888888888888888,
                "#fdca26"
               ],
               [
                1,
                "#f0f921"
               ]
              ],
              "type": "heatmap"
             }
            ],
            "heatmapgl": [
             {
              "colorbar": {
               "outlinewidth": 0,
               "ticks": ""
              },
              "colorscale": [
               [
                0,
                "#0d0887"
               ],
               [
                0.1111111111111111,
                "#46039f"
               ],
               [
                0.2222222222222222,
                "#7201a8"
               ],
               [
                0.3333333333333333,
                "#9c179e"
               ],
               [
                0.4444444444444444,
                "#bd3786"
               ],
               [
                0.5555555555555556,
                "#d8576b"
               ],
               [
                0.6666666666666666,
                "#ed7953"
               ],
               [
                0.7777777777777778,
                "#fb9f3a"
               ],
               [
                0.8888888888888888,
                "#fdca26"
               ],
               [
                1,
                "#f0f921"
               ]
              ],
              "type": "heatmapgl"
             }
            ],
            "histogram": [
             {
              "marker": {
               "pattern": {
                "fillmode": "overlay",
                "size": 10,
                "solidity": 0.2
               }
              },
              "type": "histogram"
             }
            ],
            "histogram2d": [
             {
              "colorbar": {
               "outlinewidth": 0,
               "ticks": ""
              },
              "colorscale": [
               [
                0,
                "#0d0887"
               ],
               [
                0.1111111111111111,
                "#46039f"
               ],
               [
                0.2222222222222222,
                "#7201a8"
               ],
               [
                0.3333333333333333,
                "#9c179e"
               ],
               [
                0.4444444444444444,
                "#bd3786"
               ],
               [
                0.5555555555555556,
                "#d8576b"
               ],
               [
                0.6666666666666666,
                "#ed7953"
               ],
               [
                0.7777777777777778,
                "#fb9f3a"
               ],
               [
                0.8888888888888888,
                "#fdca26"
               ],
               [
                1,
                "#f0f921"
               ]
              ],
              "type": "histogram2d"
             }
            ],
            "histogram2dcontour": [
             {
              "colorbar": {
               "outlinewidth": 0,
               "ticks": ""
              },
              "colorscale": [
               [
                0,
                "#0d0887"
               ],
               [
                0.1111111111111111,
                "#46039f"
               ],
               [
                0.2222222222222222,
                "#7201a8"
               ],
               [
                0.3333333333333333,
                "#9c179e"
               ],
               [
                0.4444444444444444,
                "#bd3786"
               ],
               [
                0.5555555555555556,
                "#d8576b"
               ],
               [
                0.6666666666666666,
                "#ed7953"
               ],
               [
                0.7777777777777778,
                "#fb9f3a"
               ],
               [
                0.8888888888888888,
                "#fdca26"
               ],
               [
                1,
                "#f0f921"
               ]
              ],
              "type": "histogram2dcontour"
             }
            ],
            "mesh3d": [
             {
              "colorbar": {
               "outlinewidth": 0,
               "ticks": ""
              },
              "type": "mesh3d"
             }
            ],
            "parcoords": [
             {
              "line": {
               "colorbar": {
                "outlinewidth": 0,
                "ticks": ""
               }
              },
              "type": "parcoords"
             }
            ],
            "pie": [
             {
              "automargin": true,
              "type": "pie"
             }
            ],
            "scatter": [
             {
              "fillpattern": {
               "fillmode": "overlay",
               "size": 10,
               "solidity": 0.2
              },
              "type": "scatter"
             }
            ],
            "scatter3d": [
             {
              "line": {
               "colorbar": {
                "outlinewidth": 0,
                "ticks": ""
               }
              },
              "marker": {
               "colorbar": {
                "outlinewidth": 0,
                "ticks": ""
               }
              },
              "type": "scatter3d"
             }
            ],
            "scattercarpet": [
             {
              "marker": {
               "colorbar": {
                "outlinewidth": 0,
                "ticks": ""
               }
              },
              "type": "scattercarpet"
             }
            ],
            "scattergeo": [
             {
              "marker": {
               "colorbar": {
                "outlinewidth": 0,
                "ticks": ""
               }
              },
              "type": "scattergeo"
             }
            ],
            "scattergl": [
             {
              "marker": {
               "colorbar": {
                "outlinewidth": 0,
                "ticks": ""
               }
              },
              "type": "scattergl"
             }
            ],
            "scattermapbox": [
             {
              "marker": {
               "colorbar": {
                "outlinewidth": 0,
                "ticks": ""
               }
              },
              "type": "scattermapbox"
             }
            ],
            "scatterpolar": [
             {
              "marker": {
               "colorbar": {
                "outlinewidth": 0,
                "ticks": ""
               }
              },
              "type": "scatterpolar"
             }
            ],
            "scatterpolargl": [
             {
              "marker": {
               "colorbar": {
                "outlinewidth": 0,
                "ticks": ""
               }
              },
              "type": "scatterpolargl"
             }
            ],
            "scatterternary": [
             {
              "marker": {
               "colorbar": {
                "outlinewidth": 0,
                "ticks": ""
               }
              },
              "type": "scatterternary"
             }
            ],
            "surface": [
             {
              "colorbar": {
               "outlinewidth": 0,
               "ticks": ""
              },
              "colorscale": [
               [
                0,
                "#0d0887"
               ],
               [
                0.1111111111111111,
                "#46039f"
               ],
               [
                0.2222222222222222,
                "#7201a8"
               ],
               [
                0.3333333333333333,
                "#9c179e"
               ],
               [
                0.4444444444444444,
                "#bd3786"
               ],
               [
                0.5555555555555556,
                "#d8576b"
               ],
               [
                0.6666666666666666,
                "#ed7953"
               ],
               [
                0.7777777777777778,
                "#fb9f3a"
               ],
               [
                0.8888888888888888,
                "#fdca26"
               ],
               [
                1,
                "#f0f921"
               ]
              ],
              "type": "surface"
             }
            ],
            "table": [
             {
              "cells": {
               "fill": {
                "color": "#EBF0F8"
               },
               "line": {
                "color": "white"
               }
              },
              "header": {
               "fill": {
                "color": "#C8D4E3"
               },
               "line": {
                "color": "white"
               }
              },
              "type": "table"
             }
            ]
           },
           "layout": {
            "annotationdefaults": {
             "arrowcolor": "#2a3f5f",
             "arrowhead": 0,
             "arrowwidth": 1
            },
            "autotypenumbers": "strict",
            "coloraxis": {
             "colorbar": {
              "outlinewidth": 0,
              "ticks": ""
             }
            },
            "colorscale": {
             "diverging": [
              [
               0,
               "#8e0152"
              ],
              [
               0.1,
               "#c51b7d"
              ],
              [
               0.2,
               "#de77ae"
              ],
              [
               0.3,
               "#f1b6da"
              ],
              [
               0.4,
               "#fde0ef"
              ],
              [
               0.5,
               "#f7f7f7"
              ],
              [
               0.6,
               "#e6f5d0"
              ],
              [
               0.7,
               "#b8e186"
              ],
              [
               0.8,
               "#7fbc41"
              ],
              [
               0.9,
               "#4d9221"
              ],
              [
               1,
               "#276419"
              ]
             ],
             "sequential": [
              [
               0,
               "#0d0887"
              ],
              [
               0.1111111111111111,
               "#46039f"
              ],
              [
               0.2222222222222222,
               "#7201a8"
              ],
              [
               0.3333333333333333,
               "#9c179e"
              ],
              [
               0.4444444444444444,
               "#bd3786"
              ],
              [
               0.5555555555555556,
               "#d8576b"
              ],
              [
               0.6666666666666666,
               "#ed7953"
              ],
              [
               0.7777777777777778,
               "#fb9f3a"
              ],
              [
               0.8888888888888888,
               "#fdca26"
              ],
              [
               1,
               "#f0f921"
              ]
             ],
             "sequentialminus": [
              [
               0,
               "#0d0887"
              ],
              [
               0.1111111111111111,
               "#46039f"
              ],
              [
               0.2222222222222222,
               "#7201a8"
              ],
              [
               0.3333333333333333,
               "#9c179e"
              ],
              [
               0.4444444444444444,
               "#bd3786"
              ],
              [
               0.5555555555555556,
               "#d8576b"
              ],
              [
               0.6666666666666666,
               "#ed7953"
              ],
              [
               0.7777777777777778,
               "#fb9f3a"
              ],
              [
               0.8888888888888888,
               "#fdca26"
              ],
              [
               1,
               "#f0f921"
              ]
             ]
            },
            "colorway": [
             "#636efa",
             "#EF553B",
             "#00cc96",
             "#ab63fa",
             "#FFA15A",
             "#19d3f3",
             "#FF6692",
             "#B6E880",
             "#FF97FF",
             "#FECB52"
            ],
            "font": {
             "color": "#2a3f5f"
            },
            "geo": {
             "bgcolor": "white",
             "lakecolor": "white",
             "landcolor": "white",
             "showlakes": true,
             "showland": true,
             "subunitcolor": "#C8D4E3"
            },
            "hoverlabel": {
             "align": "left"
            },
            "hovermode": "closest",
            "mapbox": {
             "style": "light"
            },
            "paper_bgcolor": "white",
            "plot_bgcolor": "white",
            "polar": {
             "angularaxis": {
              "gridcolor": "#EBF0F8",
              "linecolor": "#EBF0F8",
              "ticks": ""
             },
             "bgcolor": "white",
             "radialaxis": {
              "gridcolor": "#EBF0F8",
              "linecolor": "#EBF0F8",
              "ticks": ""
             }
            },
            "scene": {
             "xaxis": {
              "backgroundcolor": "white",
              "gridcolor": "#DFE8F3",
              "gridwidth": 2,
              "linecolor": "#EBF0F8",
              "showbackground": true,
              "ticks": "",
              "zerolinecolor": "#EBF0F8"
             },
             "yaxis": {
              "backgroundcolor": "white",
              "gridcolor": "#DFE8F3",
              "gridwidth": 2,
              "linecolor": "#EBF0F8",
              "showbackground": true,
              "ticks": "",
              "zerolinecolor": "#EBF0F8"
             },
             "zaxis": {
              "backgroundcolor": "white",
              "gridcolor": "#DFE8F3",
              "gridwidth": 2,
              "linecolor": "#EBF0F8",
              "showbackground": true,
              "ticks": "",
              "zerolinecolor": "#EBF0F8"
             }
            },
            "shapedefaults": {
             "line": {
              "color": "#2a3f5f"
             }
            },
            "ternary": {
             "aaxis": {
              "gridcolor": "#DFE8F3",
              "linecolor": "#A2B1C6",
              "ticks": ""
             },
             "baxis": {
              "gridcolor": "#DFE8F3",
              "linecolor": "#A2B1C6",
              "ticks": ""
             },
             "bgcolor": "white",
             "caxis": {
              "gridcolor": "#DFE8F3",
              "linecolor": "#A2B1C6",
              "ticks": ""
             }
            },
            "title": {
             "x": 0.05
            },
            "xaxis": {
             "automargin": true,
             "gridcolor": "#EBF0F8",
             "linecolor": "#EBF0F8",
             "ticks": "",
             "title": {
              "standoff": 15
             },
             "zerolinecolor": "#EBF0F8",
             "zerolinewidth": 2
            },
            "yaxis": {
             "automargin": true,
             "gridcolor": "#EBF0F8",
             "linecolor": "#EBF0F8",
             "ticks": "",
             "title": {
              "standoff": 15
             },
             "zerolinecolor": "#EBF0F8",
             "zerolinewidth": 2
            }
           }
          },
          "xaxis": {
           "automargin": false,
           "linecolor": "#444",
           "linewidth": 2,
           "minor": {
            "tickmode": "linear",
            "ticks": "outside"
           },
           "mirror": true,
           "showline": true,
           "tickmode": "linear",
           "ticks": "outside",
           "zeroline": false
          },
          "yaxis": {
           "automargin": true,
           "linecolor": "#444",
           "linewidth": 2,
           "minor": {
            "tickmode": "linear",
            "ticks": "outside"
           },
           "mirror": true,
           "showline": true,
           "ticks": "outside",
           "zeroline": false
          }
         }
        },
        "width": 600,
        "xaxis": {
         "dtick": 5,
         "minor": {
          "dtick": 1,
          "tick0": 0
         },
         "range": [
          0,
          31
         ],
         "tick0": 0,
         "title": {
          "text": "challenge rating"
         }
        },
        "yaxis": {
         "dtick": 100,
         "minor": {
          "dtick": 50,
          "tick0": 0
         },
         "range": [
          0,
          700
         ],
         "tick0": 0,
         "title": {
          "text": "effective damage per round"
         }
        }
       }
      }
     },
     "metadata": {},
     "output_type": "display_data"
    }
   ],
   "source": [
    "# Fig. 6: plots monster effective DPR vs CR\n",
    "import sys\n",
    "sys.path.append('../../assets/python/')\n",
    "import estats5e as e5\n",
    "\n",
    "# create figure\n",
    "fig = go.Figure(\n",
    "    layout=go.Layout(\n",
    "        template=tfb.FIG_TEMPLATE,\n",
    "        margin=dict(l=70, r=25, b=55, t=20, pad=4),\n",
    "        xaxis=dict(\n",
    "            title_text='challenge rating',\n",
    "            range=[0,31],\n",
    "            tick0=0, dtick=5,\n",
    "            minor=dict(tick0=0, dtick=1),\n",
    "        ),\n",
    "        yaxis=dict(\n",
    "            title_text='effective damage per round',\n",
    "            range=[0,700],\n",
    "            tick0=0, dtick=100,\n",
    "            minor=dict(tick0=0, dtick=50),\n",
    "        ),\n",
    "        legend=dict(\n",
    "            xanchor='left', yanchor='top',\n",
    "            x=0.00, y=1.00,\n",
    "            orientation='v',\n",
    "            tracegroupgap=0,\n",
    "        )\n",
    "    )\n",
    ")\n",
    "\n",
    "# get monster data\n",
    "dfM = pd.read_csv('../../assets/data/monsters.csv')\n",
    "dfM['eDPR'] = dfM.apply(lambda row: e5.effDPR(row['adj DPR'], row['adj AB'], 'exp'), axis=1)\n",
    "dfM = dfM[['CR','eDPR']].groupby(['CR']).mean().reset_index()\n",
    "dfM = dfM[dfM['CR'].between(1, 30)]\n",
    "\n",
    "# plot adjusted damage per round\n",
    "fig, y = plot_data_and_piecewise_fit(\n",
    "    fig, dfM['CR'].to_numpy(), \n",
    "    dfM['eDPR'].to_numpy(), \n",
    "    name='monsters', legendgroup='monsters', \n",
    "    line_color=COLOR_LIST[0],\n",
    "    marker_color=COLOR_LIST[0],\n",
    "    hovertemplate=\n",
    "        '<b>monsters</b><br>'\n",
    "        'CR %{x}<br>'+\n",
    "        'eff DPR %{y:,.1f}' + \n",
    "        '<extra></extra>'\n",
    ")\n",
    "\n",
    "# plot reference line\n",
    "dfD0 = pd.read_csv('../../assets/data/dmg-targets.csv') # 'CR','XP','HP Mean','AC','DPR Mean','AB'\n",
    "dfD0['eDPR'] = dfD0.apply(lambda row: e5.effDPR(row['DPR Mean'], row['AB'], 'exp'), axis=1)\n",
    "dfD0 = dfD0[dfD0['CR'].between(1,30)]\n",
    "fig.add_trace(go.Scatter(\n",
    "    x=dfD0['CR'], y=dfD0['eDPR'],\n",
    "    mode='markers+lines', \n",
    "    name='DMG',\n",
    "    line=dict(color='black', dash='dash'),\n",
    "    #hoverinfo='skip', \n",
    "    hovertemplate=\n",
    "        '<b>DMG</b><br>'\n",
    "        'CR %{x}<br>'+\n",
    "        'eff DPR %{y:,.1f}' + \n",
    "        '<extra></extra>'\n",
    "))\n",
    "\n",
    "# show figure\n",
    "fig.update_layout(width=600, height=450)\n",
    "fig.show(config=tfb.FIG_CONFIG)\n",
    "\n",
    "# save figures\n",
    "if SAVEFIGS:\n",
    "    fig.update_layout(autosize=True, width=None, height=None)\n",
    "    tfb.save_fig_html(fig, format='large', name='fig-eff-dpr-vs-cr-large')\n",
    "    tfb.save_fig_html(fig, format='small', name='fig-eff-dpr-vs-cr-small')"
   ]
  },
  {
   "cell_type": "code",
   "execution_count": 49,
   "metadata": {},
   "outputs": [],
   "source": [
    "def legendary_resistance(cr):\n",
    "    if cr <= 4:\n",
    "        return 10\n",
    "    elif cr <= 10:\n",
    "        return 20\n",
    "    else:\n",
    "        return 30\n",
    "    \n",
    "def multiple_resistances(cr):\n",
    "    if cr <= 4:\n",
    "        return 2.00\n",
    "    elif cr <= 10:\n",
    "        return 1.50\n",
    "    elif cr <= 16:\n",
    "        return 1.25\n",
    "    else:\n",
    "        return 1.00\n",
    "    \n",
    "def multiple_immunities(cr):\n",
    "    if cr <= 4:\n",
    "        return 2.00\n",
    "    elif cr <= 10:\n",
    "        return 2.00\n",
    "    elif cr <= 16:\n",
    "        return 1.50\n",
    "    else:\n",
    "        return 1.25\n",
    "    \n",
    "def hit_points_adjustments(row, **kwargs):\n",
    "    hp = 0\n",
    "    include_list = kwargs.get('include', ['legendary resistance','regeneration'])\n",
    "    if row['HP adjustments']:\n",
    "        for adj in row['HP adjustments'][2:-2].split(\"', '\"):\n",
    "            if adj.startswith('regeneration') and 'regeneration' in include_list:\n",
    "                hp += 3*float(adj[12:])\n",
    "            elif adj.startswith('legendary resistance') and 'legendary resistance' in include_list:\n",
    "                hp += float(adj[20:])*legendary_resistance(row['CR'])\n",
    "\n",
    "    return hp\n",
    "\n",
    "def hit_points_multiplier(row, **kwargs):\n",
    "    hp_mult = 1.0\n",
    "    n_resistances = 0\n",
    "    n_immunities = 0\n",
    "    if row['HP adjustments']:\n",
    "        for adj in row['HP adjustments'][2:-2].split(\"', '\"):\n",
    "            if adj == 'immunities attacks nonmagical':\n",
    "                n_immunities += kwargs.get('immunities_attacks_nonmagical', 13)\n",
    "            elif adj == 'immunities attacks shadows':\n",
    "                n_immunities += kwargs.get('immunities_attacks_shadows', 13)\n",
    "            elif adj.startswith('immunities'):\n",
    "                n_immunities += int(adj[10:])\n",
    "            elif adj == 'resistances attacks nonmagical':\n",
    "                n_resistances += kwargs.get('resistances_attacks_nonmagical', 13)\n",
    "            elif adj == 'resistances attacks shadows':\n",
    "                n_resistances += kwargs.get('resistances_attacks_shadows', 13)\n",
    "            elif adj.startswith('resistances'):\n",
    "                n_resistances += int(adj[11:])\n",
    "    \n",
    "    if n_immunities >= 4:\n",
    "        hp_mult = max(hp_mult, multiple_immunities(row['CR']))\n",
    "\n",
    "    if (n_resistances + n_immunities) >= 4:\n",
    "        hp_mult = max(hp_mult, multiple_resistances(row['CR']))\n",
    "\n",
    "    return hp_mult"
   ]
  },
  {
   "cell_type": "code",
   "execution_count": null,
   "metadata": {},
   "outputs": [
    {
     "name": "stdout",
     "output_type": "stream",
     "text": [
      "CR <  20: 10.1 + 17.9*CR\n",
      "CR >= 20: 368.6 + 48.9*(CR - 20)\n"
     ]
    },
    {
     "name": "stderr",
     "output_type": "stream",
     "text": [
      "/Users/tom/Development/python-venv/thefinishedbook/lib/python3.10/site-packages/scipy/optimize/_minpack_py.py:1010: OptimizeWarning:\n",
      "\n",
      "Covariance of the parameters could not be estimated\n",
      "\n"
     ]
    },
    {
     "data": {
      "application/vnd.plotly.v1+json": {
       "config": {
        "autosizable": true,
        "displayModeBar": "hover",
        "displaylogo": false,
        "doubleClick": "reset",
        "modeBarButtonsToRemove": [
         "select2d",
         "lasso2d",
         "zoom2d",
         "zoomIn2d",
         "zoomOut2d",
         "pan2d",
         "autoScale2d",
         "hoverClosestCartesian",
         "hoverCompareCartesian",
         "toggleSpikelines",
         "resetScale2d"
        ],
        "plotlyServerURL": "https://plot.ly",
        "responsive": true,
        "showAxisDragHandles": false,
        "toImageButtonOptions": {
         "filename": "tfb-plot",
         "format": "png",
         "height": 450,
         "scale": 2,
         "width": 600
        }
       },
       "data": [
        {
         "hovertemplate": "<b>monsters (adjusted)</b><br>CR %{x}<br>HP %{y:,.1f}<extra></extra>",
         "legendgroup": "monsters (adj)",
         "line": {
          "color": "#1f77b4"
         },
         "marker": {
          "color": "#1f77b4"
         },
         "mode": "markers",
         "name": "monsters (adj)",
         "type": "scatter",
         "x": [
          1,
          2,
          3,
          4,
          5,
          6,
          7,
          8,
          9,
          10,
          11,
          12,
          13,
          14,
          15,
          16,
          17,
          18,
          19,
          20,
          21,
          22,
          23,
          24,
          25,
          26,
          27,
          28,
          30
         ],
         "y": [
          31.779310344827586,
          47.25929203539823,
          67.46512820512821,
          84.53138686131386,
          101.76914285714285,
          111.38865979381444,
          135.94444444444446,
          150.018,
          161.875,
          187.32089552238807,
          207.60615384615383,
          216.99814814814815,
          245.4,
          268.3184210526316,
          272.8545454545455,
          302.50857142857143,
          315.86785714285713,
          348.87307692307695,
          339.6470588235294,
          404.13157894736844,
          389.69615384615383,
          462.6375,
          524.832258064516,
          578.5368421052632,
          589.1538461538462,
          666.9277777777778,
          712.5,
          691.9714285714286,
          914.775
         ]
        },
        {
         "hoverinfo": "skip",
         "hovertemplate": "<b>monsters (adjusted)</b><br>CR %{x}<br>HP %{y:,.1f}<extra></extra>",
         "legendgroup": "monsters (adj)",
         "line": {
          "color": "#1f77b4",
          "dash": "solid"
         },
         "marker": {
          "color": "#1f77b4"
         },
         "mode": "lines",
         "name": "monsters (adj)",
         "showlegend": false,
         "type": "scatter",
         "x": [
          1,
          2,
          3,
          4,
          5,
          6,
          7,
          8,
          9,
          10,
          11,
          12,
          13,
          14,
          15,
          16,
          17,
          18,
          19,
          20,
          21,
          22,
          23,
          24,
          25,
          26,
          27,
          28,
          30
         ],
         "y": [
          27.978622375450186,
          45.90555770586565,
          63.83249303628111,
          81.75942836669651,
          99.68636369711191,
          117.61329902752738,
          135.54023435794284,
          153.46716968835824,
          171.39410501877364,
          189.32104034918905,
          207.24797567960456,
          225.17491101001997,
          243.10184634043537,
          261.0287816708509,
          278.9557170012663,
          296.8826523316817,
          314.8095876620971,
          332.7365229925125,
          350.663458322928,
          368.5903936533434,
          417.4943887660022,
          466.39838387866075,
          515.3023789913195,
          564.2063741039783,
          613.1103692166369,
          662.0143643292956,
          710.9183594419542,
          759.822354554613,
          857.6303447799303
         ]
        },
        {
         "hovertemplate": "<b>monsters (unadjusted)</b><br>CR %{x}<br>HP %{y:,.1f}<extra></extra>",
         "legendgroup": "monsters (unadj)",
         "line": {
          "color": "#ff7f0e"
         },
         "marker": {
          "color": "#ff7f0e"
         },
         "mode": "markers",
         "name": "monsters (unadj)",
         "type": "scatter",
         "x": [
          1,
          2,
          3,
          4,
          5,
          6,
          7,
          8,
          9,
          10,
          11,
          12,
          13,
          14,
          15,
          16,
          17,
          18,
          19,
          20,
          21,
          22,
          23,
          24,
          25,
          26,
          27,
          28,
          30
         ],
         "y": [
          28.182758620689654,
          41.741150442477874,
          56.197435897435895,
          66.51824817518248,
          83.46857142857142,
          92.64432989690722,
          104.30092592592592,
          115.385,
          132.5875,
          148.32089552238807,
          165.62307692307692,
          162.82407407407408,
          177.61764705882354,
          191.18421052631578,
          184.15151515151516,
          195.35714285714286,
          240.60714285714286,
          241.69230769230768,
          247.2941176470588,
          294.1578947368421,
          277.53846153846155,
          307.6458333333333,
          349.9032258064516,
          398.36842105263156,
          434.46153846153845,
          483.8888888888889,
          567.5,
          540.1428571428571,
          612.625
         ]
        },
        {
         "hoverinfo": "skip",
         "hovertemplate": "<b>monsters (unadjusted)</b><br>CR %{x}<br>HP %{y:,.1f}<extra></extra>",
         "legendgroup": "monsters (unadj)",
         "line": {
          "color": "#ff7f0e",
          "dash": "solid"
         },
         "marker": {
          "color": "#ff7f0e"
         },
         "mode": "lines",
         "name": "monsters (unadj)",
         "showlegend": false,
         "type": "scatter",
         "x": [
          1,
          2,
          3,
          4,
          5,
          6,
          7,
          8,
          9,
          10,
          11,
          12,
          13,
          14,
          15,
          16,
          17,
          18,
          19,
          20,
          21,
          22,
          23,
          24,
          25,
          26,
          27,
          28,
          30
         ],
         "y": [
          33.035216934077084,
          44.96446110416139,
          56.89370527424569,
          68.82294944432999,
          80.7521936144143,
          92.68143778449866,
          104.61068195458296,
          116.53992612466726,
          128.46917029475156,
          140.39841446483587,
          152.32765863492017,
          164.25690280500447,
          176.18614697508877,
          188.11539114517308,
          200.04463531525738,
          211.97387948534168,
          223.903123655426,
          235.8323678255103,
          247.7616119955946,
          259.69085616567895,
          296.1571982349128,
          332.6235403041469,
          369.08988237338076,
          405.55622444261485,
          442.02256651184894,
          478.4889085810828,
          514.9552506503169,
          551.4215927195507,
          624.3542768580189
         ]
        },
        {
         "hovertemplate": "<b>DMG</b><br>CR %{x}<br>HP %{y:,.1f}<extra></extra>",
         "line": {
          "color": "black",
          "dash": "dash"
         },
         "mode": "markers+lines",
         "name": "DMG",
         "type": "scatter",
         "x": [
          1,
          2,
          3,
          4,
          5,
          6,
          7,
          8,
          9,
          10,
          11,
          12,
          13,
          14,
          15,
          16,
          17,
          18,
          19,
          20,
          21,
          22,
          23,
          24,
          25,
          26,
          27,
          28,
          29,
          30
         ],
         "y": [
          78,
          93,
          108,
          123,
          138,
          153,
          168,
          183,
          198,
          213,
          228,
          243,
          258,
          273,
          288,
          303,
          318,
          333,
          348,
          378,
          423,
          468,
          513,
          558,
          603,
          648,
          693,
          738,
          783,
          828
         ]
        }
       ],
       "layout": {
        "height": 450,
        "legend": {
         "orientation": "v",
         "tracegroupgap": 0,
         "x": 0,
         "xanchor": "left",
         "y": 1,
         "yanchor": "top"
        },
        "margin": {
         "b": 55,
         "l": 70,
         "pad": 4,
         "r": 25,
         "t": 20
        },
        "template": {
         "layout": {
          "autosize": false,
          "font": {
           "family": "sans-serif",
           "size": 14
          },
          "hoverlabel": {
           "align": "left"
          },
          "hovermode": "closest",
          "margin": {
           "b": 55,
           "l": 60,
           "pad": 4,
           "r": 25,
           "t": 20
          },
          "template": {
           "data": {
            "bar": [
             {
              "error_x": {
               "color": "#2a3f5f"
              },
              "error_y": {
               "color": "#2a3f5f"
              },
              "marker": {
               "line": {
                "color": "white",
                "width": 0.5
               },
               "pattern": {
                "fillmode": "overlay",
                "size": 10,
                "solidity": 0.2
               }
              },
              "type": "bar"
             }
            ],
            "barpolar": [
             {
              "marker": {
               "line": {
                "color": "white",
                "width": 0.5
               },
               "pattern": {
                "fillmode": "overlay",
                "size": 10,
                "solidity": 0.2
               }
              },
              "type": "barpolar"
             }
            ],
            "carpet": [
             {
              "aaxis": {
               "endlinecolor": "#2a3f5f",
               "gridcolor": "#C8D4E3",
               "linecolor": "#C8D4E3",
               "minorgridcolor": "#C8D4E3",
               "startlinecolor": "#2a3f5f"
              },
              "baxis": {
               "endlinecolor": "#2a3f5f",
               "gridcolor": "#C8D4E3",
               "linecolor": "#C8D4E3",
               "minorgridcolor": "#C8D4E3",
               "startlinecolor": "#2a3f5f"
              },
              "type": "carpet"
             }
            ],
            "choropleth": [
             {
              "colorbar": {
               "outlinewidth": 0,
               "ticks": ""
              },
              "type": "choropleth"
             }
            ],
            "contour": [
             {
              "colorbar": {
               "outlinewidth": 0,
               "ticks": ""
              },
              "colorscale": [
               [
                0,
                "#0d0887"
               ],
               [
                0.1111111111111111,
                "#46039f"
               ],
               [
                0.2222222222222222,
                "#7201a8"
               ],
               [
                0.3333333333333333,
                "#9c179e"
               ],
               [
                0.4444444444444444,
                "#bd3786"
               ],
               [
                0.5555555555555556,
                "#d8576b"
               ],
               [
                0.6666666666666666,
                "#ed7953"
               ],
               [
                0.7777777777777778,
                "#fb9f3a"
               ],
               [
                0.8888888888888888,
                "#fdca26"
               ],
               [
                1,
                "#f0f921"
               ]
              ],
              "type": "contour"
             }
            ],
            "contourcarpet": [
             {
              "colorbar": {
               "outlinewidth": 0,
               "ticks": ""
              },
              "type": "contourcarpet"
             }
            ],
            "heatmap": [
             {
              "colorbar": {
               "outlinewidth": 0,
               "ticks": ""
              },
              "colorscale": [
               [
                0,
                "#0d0887"
               ],
               [
                0.1111111111111111,
                "#46039f"
               ],
               [
                0.2222222222222222,
                "#7201a8"
               ],
               [
                0.3333333333333333,
                "#9c179e"
               ],
               [
                0.4444444444444444,
                "#bd3786"
               ],
               [
                0.5555555555555556,
                "#d8576b"
               ],
               [
                0.6666666666666666,
                "#ed7953"
               ],
               [
                0.7777777777777778,
                "#fb9f3a"
               ],
               [
                0.8888888888888888,
                "#fdca26"
               ],
               [
                1,
                "#f0f921"
               ]
              ],
              "type": "heatmap"
             }
            ],
            "heatmapgl": [
             {
              "colorbar": {
               "outlinewidth": 0,
               "ticks": ""
              },
              "colorscale": [
               [
                0,
                "#0d0887"
               ],
               [
                0.1111111111111111,
                "#46039f"
               ],
               [
                0.2222222222222222,
                "#7201a8"
               ],
               [
                0.3333333333333333,
                "#9c179e"
               ],
               [
                0.4444444444444444,
                "#bd3786"
               ],
               [
                0.5555555555555556,
                "#d8576b"
               ],
               [
                0.6666666666666666,
                "#ed7953"
               ],
               [
                0.7777777777777778,
                "#fb9f3a"
               ],
               [
                0.8888888888888888,
                "#fdca26"
               ],
               [
                1,
                "#f0f921"
               ]
              ],
              "type": "heatmapgl"
             }
            ],
            "histogram": [
             {
              "marker": {
               "pattern": {
                "fillmode": "overlay",
                "size": 10,
                "solidity": 0.2
               }
              },
              "type": "histogram"
             }
            ],
            "histogram2d": [
             {
              "colorbar": {
               "outlinewidth": 0,
               "ticks": ""
              },
              "colorscale": [
               [
                0,
                "#0d0887"
               ],
               [
                0.1111111111111111,
                "#46039f"
               ],
               [
                0.2222222222222222,
                "#7201a8"
               ],
               [
                0.3333333333333333,
                "#9c179e"
               ],
               [
                0.4444444444444444,
                "#bd3786"
               ],
               [
                0.5555555555555556,
                "#d8576b"
               ],
               [
                0.6666666666666666,
                "#ed7953"
               ],
               [
                0.7777777777777778,
                "#fb9f3a"
               ],
               [
                0.8888888888888888,
                "#fdca26"
               ],
               [
                1,
                "#f0f921"
               ]
              ],
              "type": "histogram2d"
             }
            ],
            "histogram2dcontour": [
             {
              "colorbar": {
               "outlinewidth": 0,
               "ticks": ""
              },
              "colorscale": [
               [
                0,
                "#0d0887"
               ],
               [
                0.1111111111111111,
                "#46039f"
               ],
               [
                0.2222222222222222,
                "#7201a8"
               ],
               [
                0.3333333333333333,
                "#9c179e"
               ],
               [
                0.4444444444444444,
                "#bd3786"
               ],
               [
                0.5555555555555556,
                "#d8576b"
               ],
               [
                0.6666666666666666,
                "#ed7953"
               ],
               [
                0.7777777777777778,
                "#fb9f3a"
               ],
               [
                0.8888888888888888,
                "#fdca26"
               ],
               [
                1,
                "#f0f921"
               ]
              ],
              "type": "histogram2dcontour"
             }
            ],
            "mesh3d": [
             {
              "colorbar": {
               "outlinewidth": 0,
               "ticks": ""
              },
              "type": "mesh3d"
             }
            ],
            "parcoords": [
             {
              "line": {
               "colorbar": {
                "outlinewidth": 0,
                "ticks": ""
               }
              },
              "type": "parcoords"
             }
            ],
            "pie": [
             {
              "automargin": true,
              "type": "pie"
             }
            ],
            "scatter": [
             {
              "fillpattern": {
               "fillmode": "overlay",
               "size": 10,
               "solidity": 0.2
              },
              "type": "scatter"
             }
            ],
            "scatter3d": [
             {
              "line": {
               "colorbar": {
                "outlinewidth": 0,
                "ticks": ""
               }
              },
              "marker": {
               "colorbar": {
                "outlinewidth": 0,
                "ticks": ""
               }
              },
              "type": "scatter3d"
             }
            ],
            "scattercarpet": [
             {
              "marker": {
               "colorbar": {
                "outlinewidth": 0,
                "ticks": ""
               }
              },
              "type": "scattercarpet"
             }
            ],
            "scattergeo": [
             {
              "marker": {
               "colorbar": {
                "outlinewidth": 0,
                "ticks": ""
               }
              },
              "type": "scattergeo"
             }
            ],
            "scattergl": [
             {
              "marker": {
               "colorbar": {
                "outlinewidth": 0,
                "ticks": ""
               }
              },
              "type": "scattergl"
             }
            ],
            "scattermapbox": [
             {
              "marker": {
               "colorbar": {
                "outlinewidth": 0,
                "ticks": ""
               }
              },
              "type": "scattermapbox"
             }
            ],
            "scatterpolar": [
             {
              "marker": {
               "colorbar": {
                "outlinewidth": 0,
                "ticks": ""
               }
              },
              "type": "scatterpolar"
             }
            ],
            "scatterpolargl": [
             {
              "marker": {
               "colorbar": {
                "outlinewidth": 0,
                "ticks": ""
               }
              },
              "type": "scatterpolargl"
             }
            ],
            "scatterternary": [
             {
              "marker": {
               "colorbar": {
                "outlinewidth": 0,
                "ticks": ""
               }
              },
              "type": "scatterternary"
             }
            ],
            "surface": [
             {
              "colorbar": {
               "outlinewidth": 0,
               "ticks": ""
              },
              "colorscale": [
               [
                0,
                "#0d0887"
               ],
               [
                0.1111111111111111,
                "#46039f"
               ],
               [
                0.2222222222222222,
                "#7201a8"
               ],
               [
                0.3333333333333333,
                "#9c179e"
               ],
               [
                0.4444444444444444,
                "#bd3786"
               ],
               [
                0.5555555555555556,
                "#d8576b"
               ],
               [
                0.6666666666666666,
                "#ed7953"
               ],
               [
                0.7777777777777778,
                "#fb9f3a"
               ],
               [
                0.8888888888888888,
                "#fdca26"
               ],
               [
                1,
                "#f0f921"
               ]
              ],
              "type": "surface"
             }
            ],
            "table": [
             {
              "cells": {
               "fill": {
                "color": "#EBF0F8"
               },
               "line": {
                "color": "white"
               }
              },
              "header": {
               "fill": {
                "color": "#C8D4E3"
               },
               "line": {
                "color": "white"
               }
              },
              "type": "table"
             }
            ]
           },
           "layout": {
            "annotationdefaults": {
             "arrowcolor": "#2a3f5f",
             "arrowhead": 0,
             "arrowwidth": 1
            },
            "autotypenumbers": "strict",
            "coloraxis": {
             "colorbar": {
              "outlinewidth": 0,
              "ticks": ""
             }
            },
            "colorscale": {
             "diverging": [
              [
               0,
               "#8e0152"
              ],
              [
               0.1,
               "#c51b7d"
              ],
              [
               0.2,
               "#de77ae"
              ],
              [
               0.3,
               "#f1b6da"
              ],
              [
               0.4,
               "#fde0ef"
              ],
              [
               0.5,
               "#f7f7f7"
              ],
              [
               0.6,
               "#e6f5d0"
              ],
              [
               0.7,
               "#b8e186"
              ],
              [
               0.8,
               "#7fbc41"
              ],
              [
               0.9,
               "#4d9221"
              ],
              [
               1,
               "#276419"
              ]
             ],
             "sequential": [
              [
               0,
               "#0d0887"
              ],
              [
               0.1111111111111111,
               "#46039f"
              ],
              [
               0.2222222222222222,
               "#7201a8"
              ],
              [
               0.3333333333333333,
               "#9c179e"
              ],
              [
               0.4444444444444444,
               "#bd3786"
              ],
              [
               0.5555555555555556,
               "#d8576b"
              ],
              [
               0.6666666666666666,
               "#ed7953"
              ],
              [
               0.7777777777777778,
               "#fb9f3a"
              ],
              [
               0.8888888888888888,
               "#fdca26"
              ],
              [
               1,
               "#f0f921"
              ]
             ],
             "sequentialminus": [
              [
               0,
               "#0d0887"
              ],
              [
               0.1111111111111111,
               "#46039f"
              ],
              [
               0.2222222222222222,
               "#7201a8"
              ],
              [
               0.3333333333333333,
               "#9c179e"
              ],
              [
               0.4444444444444444,
               "#bd3786"
              ],
              [
               0.5555555555555556,
               "#d8576b"
              ],
              [
               0.6666666666666666,
               "#ed7953"
              ],
              [
               0.7777777777777778,
               "#fb9f3a"
              ],
              [
               0.8888888888888888,
               "#fdca26"
              ],
              [
               1,
               "#f0f921"
              ]
             ]
            },
            "colorway": [
             "#636efa",
             "#EF553B",
             "#00cc96",
             "#ab63fa",
             "#FFA15A",
             "#19d3f3",
             "#FF6692",
             "#B6E880",
             "#FF97FF",
             "#FECB52"
            ],
            "font": {
             "color": "#2a3f5f"
            },
            "geo": {
             "bgcolor": "white",
             "lakecolor": "white",
             "landcolor": "white",
             "showlakes": true,
             "showland": true,
             "subunitcolor": "#C8D4E3"
            },
            "hoverlabel": {
             "align": "left"
            },
            "hovermode": "closest",
            "mapbox": {
             "style": "light"
            },
            "paper_bgcolor": "white",
            "plot_bgcolor": "white",
            "polar": {
             "angularaxis": {
              "gridcolor": "#EBF0F8",
              "linecolor": "#EBF0F8",
              "ticks": ""
             },
             "bgcolor": "white",
             "radialaxis": {
              "gridcolor": "#EBF0F8",
              "linecolor": "#EBF0F8",
              "ticks": ""
             }
            },
            "scene": {
             "xaxis": {
              "backgroundcolor": "white",
              "gridcolor": "#DFE8F3",
              "gridwidth": 2,
              "linecolor": "#EBF0F8",
              "showbackground": true,
              "ticks": "",
              "zerolinecolor": "#EBF0F8"
             },
             "yaxis": {
              "backgroundcolor": "white",
              "gridcolor": "#DFE8F3",
              "gridwidth": 2,
              "linecolor": "#EBF0F8",
              "showbackground": true,
              "ticks": "",
              "zerolinecolor": "#EBF0F8"
             },
             "zaxis": {
              "backgroundcolor": "white",
              "gridcolor": "#DFE8F3",
              "gridwidth": 2,
              "linecolor": "#EBF0F8",
              "showbackground": true,
              "ticks": "",
              "zerolinecolor": "#EBF0F8"
             }
            },
            "shapedefaults": {
             "line": {
              "color": "#2a3f5f"
             }
            },
            "ternary": {
             "aaxis": {
              "gridcolor": "#DFE8F3",
              "linecolor": "#A2B1C6",
              "ticks": ""
             },
             "baxis": {
              "gridcolor": "#DFE8F3",
              "linecolor": "#A2B1C6",
              "ticks": ""
             },
             "bgcolor": "white",
             "caxis": {
              "gridcolor": "#DFE8F3",
              "linecolor": "#A2B1C6",
              "ticks": ""
             }
            },
            "title": {
             "x": 0.05
            },
            "xaxis": {
             "automargin": true,
             "gridcolor": "#EBF0F8",
             "linecolor": "#EBF0F8",
             "ticks": "",
             "title": {
              "standoff": 15
             },
             "zerolinecolor": "#EBF0F8",
             "zerolinewidth": 2
            },
            "yaxis": {
             "automargin": true,
             "gridcolor": "#EBF0F8",
             "linecolor": "#EBF0F8",
             "ticks": "",
             "title": {
              "standoff": 15
             },
             "zerolinecolor": "#EBF0F8",
             "zerolinewidth": 2
            }
           }
          },
          "xaxis": {
           "automargin": false,
           "linecolor": "#444",
           "linewidth": 2,
           "minor": {
            "tickmode": "linear",
            "ticks": "outside"
           },
           "mirror": true,
           "showline": true,
           "tickmode": "linear",
           "ticks": "outside",
           "zeroline": false
          },
          "yaxis": {
           "automargin": true,
           "linecolor": "#444",
           "linewidth": 2,
           "minor": {
            "tickmode": "linear",
            "ticks": "outside"
           },
           "mirror": true,
           "showline": true,
           "ticks": "outside",
           "zeroline": false
          }
         }
        },
        "width": 600,
        "xaxis": {
         "dtick": 5,
         "minor": {
          "dtick": 1,
          "tick0": 0
         },
         "range": [
          0,
          31
         ],
         "tick0": 0,
         "title": {
          "text": "challenge rating"
         }
        },
        "yaxis": {
         "dtick": 100,
         "minor": {
          "dtick": 50,
          "tick0": 0
         },
         "range": [
          0,
          900
         ],
         "tick0": 0,
         "title": {
          "text": "hit points"
         }
        }
       }
      }
     },
     "metadata": {},
     "output_type": "display_data"
    }
   ],
   "source": [
    "# Fig. 7: plots monster HP vs CR\n",
    "\n",
    "# create figure\n",
    "fig = go.Figure(\n",
    "    layout=go.Layout(\n",
    "        template=tfb.FIG_TEMPLATE,\n",
    "        margin=dict(l=70, r=25, b=55, t=20, pad=4),\n",
    "        xaxis=dict(\n",
    "            title_text='challenge rating',\n",
    "            range=[0,31],\n",
    "            tick0=0, dtick=5,\n",
    "            minor=dict(tick0=0, dtick=1),\n",
    "        ),\n",
    "        yaxis=dict(\n",
    "            title_text='hit points',\n",
    "            range=[0,900],\n",
    "            tick0=0, dtick=100,\n",
    "            minor=dict(tick0=0, dtick=50),\n",
    "        ),\n",
    "        legend=dict(\n",
    "            xanchor='left', yanchor='top',\n",
    "            x=0.00, y=1.00,\n",
    "            orientation='v',\n",
    "            tracegroupgap=0,\n",
    "        )\n",
    "    )\n",
    ")\n",
    "\n",
    "dfM = pd.read_csv('../../assets/data/monsters.csv')\n",
    "#dfM['HP'] = dfM.apply(lambda row: row['HP'] + hit_points_adjustments(row), axis=1)\n",
    "#dfM['HP'] = dfM.apply(lambda row: row['adj HP']/hit_points_multiplier(row), axis=1)\n",
    "#dfM['HP'] = dfM.apply(lambda row: (row['HP'] + hit_points_adjustments(row))*hit_points_multiplier(row), axis=1)\n",
    "dfM = dfM[['CR','HP','adj HP']].groupby(['CR']).mean().reset_index()\n",
    "dfM = dfM[dfM['CR'].between(1, 31)]\n",
    "#print((100*(1 - dfM['HP'].to_numpy()/dfM['adj HP'].to_numpy())))\n",
    "\n",
    "# plot adjusted hit points\n",
    "name = 'adj HP'\n",
    "fig, y = plot_data_and_piecewise_fit(\n",
    "    fig, dfM['CR'].to_numpy(), \n",
    "    dfM[name].to_numpy(), \n",
    "    name='monsters (adj)', legendgroup='monsters (adj)', \n",
    "    line_color=COLOR_LIST[0],\n",
    "    marker_color=COLOR_LIST[0],\n",
    "    hovertemplate=\n",
    "        '<b>monsters (adjusted)</b><br>'+\n",
    "        'CR %{x}<br>'+\n",
    "        'HP %{y:,.1f}' + \n",
    "        '<extra></extra>',\n",
    "    print_coefficients=True,\n",
    ")\n",
    "\n",
    "# plot hit points\n",
    "name = 'HP'\n",
    "fig, y = plot_data_and_piecewise_fit(\n",
    "    fig, dfM['CR'].to_numpy(), \n",
    "    dfM[name].to_numpy(), \n",
    "    name='monsters (unadj)', legendgroup='monsters (unadj)', \n",
    "    line_color=COLOR_LIST[1],\n",
    "    marker_color=COLOR_LIST[1],\n",
    "    hovertemplate=\n",
    "        '<b>monsters (unadjusted)</b><br>'+\n",
    "        'CR %{x}<br>'+\n",
    "        'HP %{y:,.1f}' + \n",
    "        '<extra></extra>'\n",
    ")\n",
    "\n",
    "# plot reference line\n",
    "dfD0 = pd.read_csv('../../assets/data/dmg-targets.csv')\n",
    "dfD0 = dfD0[dfD0['CR'].between(1,30)]\n",
    "fig.add_trace(go.Scatter(\n",
    "    x=dfD0['CR'], y=dfD0['HP Mean'],\n",
    "    mode='markers+lines', \n",
    "    name='DMG',\n",
    "    line=dict(color='black', dash='dash'),\n",
    "    hovertemplate=\n",
    "        '<b>DMG</b><br>'+\n",
    "        'CR %{x}<br>'+\n",
    "        'HP %{y:,.1f}' + \n",
    "        '<extra></extra>' \n",
    "))\n",
    "\n",
    "# show figure\n",
    "fig.update_layout(width=600, height=450)\n",
    "fig.show(config=tfb.FIG_CONFIG)\n",
    "\n",
    "# save figures\n",
    "if SAVEFIGS:\n",
    "    fig.update_layout(autosize=True, width=None, height=None)\n",
    "    tfb.save_fig_html(fig, format='large', name='fig-hp-vs-cr-large')\n",
    "    tfb.save_fig_html(fig, format='small', name='fig-hp-vs-cr-small')"
   ]
  },
  {
   "cell_type": "code",
   "execution_count": 59,
   "metadata": {},
   "outputs": [
    {
     "name": "stdout",
     "output_type": "stream",
     "text": [
      "CR >= 1: 14.11 + 0.39*CR\n",
      "CR >= 1: 13.20 + 0.30*CR\n"
     ]
    },
    {
     "data": {
      "application/vnd.plotly.v1+json": {
       "config": {
        "autosizable": true,
        "displayModeBar": "hover",
        "displaylogo": false,
        "doubleClick": "reset",
        "modeBarButtonsToRemove": [
         "select2d",
         "lasso2d",
         "zoom2d",
         "zoomIn2d",
         "zoomOut2d",
         "pan2d",
         "autoScale2d",
         "hoverClosestCartesian",
         "hoverCompareCartesian",
         "toggleSpikelines",
         "resetScale2d"
        ],
        "plotlyServerURL": "https://plot.ly",
        "responsive": true,
        "showAxisDragHandles": false,
        "toImageButtonOptions": {
         "filename": "tfb-plot",
         "format": "png",
         "height": 450,
         "scale": 2,
         "width": 600
        }
       },
       "data": [
        {
         "hovertemplate": "<b>monsters</b><br>CR %{x}<br>AC %{y:,.1f}<extra></extra>",
         "legendgroup": "monsters (adj)",
         "line": {
          "color": "#1f77b4"
         },
         "mode": "markers",
         "name": "monsters (adj)",
         "type": "scatter",
         "x": [
          1,
          2,
          3,
          4,
          5,
          6,
          7,
          8,
          9,
          10,
          11,
          12,
          13,
          14,
          15,
          16,
          17,
          18,
          19,
          20,
          21,
          22,
          23,
          24,
          25,
          26,
          27,
          28,
          30
         ],
         "y": [
          14.282758620689656,
          14.969026548672566,
          15.01025641025641,
          15.72992700729927,
          16.262857142857143,
          16.79381443298969,
          17.11111111111111,
          17.24,
          17.8625,
          18.149253731343283,
          18.723076923076924,
          18.925925925925927,
          19,
          19.473684210526315,
          19.333333333333332,
          20.8,
          20.071428571428573,
          21.192307692307693,
          21.41176470588235,
          20.526315789473685,
          22.307692307692307,
          22.041666666666668,
          22.903225806451612,
          24.105263157894736,
          23.76923076923077,
          24.38888888888889,
          23.375,
          25.571428571428573,
          27
         ]
        },
        {
         "hoverinfo": "skip",
         "hovertemplate": "<b>monsters</b><br>CR %{x}<br>AC %{y:,.1f}<extra></extra>",
         "legendgroup": "monsters (adj)",
         "line": {
          "color": "#1f77b4",
          "dash": "solid"
         },
         "mode": "lines",
         "name": "monsters (adj)",
         "showlegend": false,
         "type": "scatter",
         "x": [
          1,
          2,
          3,
          4,
          5,
          6,
          7,
          8,
          9,
          10,
          11,
          12,
          13,
          14,
          15,
          16,
          17,
          18,
          19,
          20,
          21,
          22,
          23,
          24,
          25,
          26,
          27,
          28,
          30
         ],
         "y": [
          14.496604283644054,
          14.884639207722064,
          15.272674131800073,
          15.660709055878081,
          16.048743979956093,
          16.4367789040341,
          16.824813828112113,
          17.21284875219012,
          17.60088367626813,
          17.98891860034614,
          18.37695352442415,
          18.76498844850216,
          19.15302337258017,
          19.54105829665818,
          19.92909322073619,
          20.3171281448142,
          20.705163068892208,
          21.093197992970218,
          21.481232917048224,
          21.869267841126238,
          22.257302765204244,
          22.645337689282258,
          23.033372613360264,
          23.421407537438274,
          23.809442461516284,
          24.197477385594294,
          24.585512309672303,
          24.973547233750313,
          25.74961708190633
         ]
        },
        {
         "hovertemplate": "<b>monsters</b><br>CR %{x}<br>AC %{y:,.1f}<extra></extra>",
         "legendgroup": "monsters (unadj)",
         "line": {
          "color": "#ff7f0e"
         },
         "mode": "markers",
         "name": "monsters (unadj)",
         "type": "scatter",
         "x": [
          1,
          2,
          3,
          4,
          5,
          6,
          7,
          8,
          9,
          10,
          11,
          12,
          13,
          14,
          15,
          16,
          17,
          18,
          19,
          20,
          21,
          22,
          23,
          24,
          25,
          26,
          27,
          28,
          30
         ],
         "y": [
          13.413793103448276,
          14.084070796460177,
          14.384615384615385,
          14.510948905109489,
          15.051428571428572,
          15.29896907216495,
          15.731481481481481,
          15.78,
          16.0875,
          16.208955223880597,
          16.646153846153847,
          16.38888888888889,
          16.58823529411765,
          17.026315789473685,
          17.242424242424242,
          18.17142857142857,
          17.678571428571427,
          18.46153846153846,
          18.58823529411765,
          17.789473684210527,
          19.076923076923077,
          18.958333333333332,
          19.387096774193548,
          20.263157894736842,
          20.23076923076923,
          21,
          21.375,
          22.428571428571427,
          24
         ]
        },
        {
         "hoverinfo": "skip",
         "hovertemplate": "<b>monsters</b><br>CR %{x}<br>AC %{y:,.1f}<extra></extra>",
         "legendgroup": "monsters (unadj)",
         "line": {
          "color": "#ff7f0e",
          "dash": "solid"
         },
         "mode": "lines",
         "name": "monsters (unadj)",
         "showlegend": false,
         "type": "scatter",
         "x": [
          1,
          2,
          3,
          4,
          5,
          6,
          7,
          8,
          9,
          10,
          11,
          12,
          13,
          14,
          15,
          16,
          17,
          18,
          19,
          20,
          21,
          22,
          23,
          24,
          25,
          26,
          27,
          28,
          30
         ],
         "y": [
          13.496156592921135,
          13.792137768801549,
          14.088118944681963,
          14.384100120562376,
          14.68008129644279,
          14.976062472323203,
          15.272043648203619,
          15.568024824084032,
          15.864005999964446,
          16.15998717584486,
          16.455968351725275,
          16.75194952760569,
          17.047930703486102,
          17.343911879366516,
          17.63989305524693,
          17.935874231127343,
          18.231855407007757,
          18.52783658288817,
          18.823817758768584,
          19.119798934648998,
          19.41578011052941,
          19.711761286409825,
          20.00774246229024,
          20.303723638170652,
          20.599704814051066,
          20.89568598993148,
          21.191667165811893,
          21.487648341692307,
          22.079610693453134
         ]
        },
        {
         "hovertemplate": "<b>DMG</b><br>CR %{x}<br>AC %{y:,.1f}<extra></extra>",
         "line": {
          "color": "black",
          "dash": "dash"
         },
         "mode": "markers+lines",
         "name": "DMG",
         "type": "scatter",
         "x": [
          1,
          2,
          3,
          4,
          5,
          6,
          7,
          8,
          9,
          10,
          11,
          12,
          13,
          14,
          15,
          16,
          17,
          18,
          19,
          20,
          21,
          22,
          23,
          24,
          25,
          26,
          27,
          28,
          29,
          30
         ],
         "y": [
          13,
          13,
          13,
          14,
          15,
          15,
          15,
          16,
          16,
          17,
          17,
          17,
          18,
          18,
          18,
          18,
          19,
          19,
          19,
          19,
          19,
          19,
          19,
          19,
          19,
          19,
          19,
          19,
          19,
          19
         ]
        }
       ],
       "layout": {
        "height": 450,
        "legend": {
         "orientation": "v",
         "tracegroupgap": 0,
         "x": 0,
         "xanchor": "left",
         "y": 1,
         "yanchor": "top"
        },
        "margin": {
         "b": 55,
         "l": 60,
         "pad": 4,
         "r": 25,
         "t": 20
        },
        "template": {
         "layout": {
          "autosize": false,
          "font": {
           "family": "sans-serif",
           "size": 14
          },
          "hoverlabel": {
           "align": "left"
          },
          "hovermode": "closest",
          "margin": {
           "b": 55,
           "l": 60,
           "pad": 4,
           "r": 25,
           "t": 20
          },
          "template": {
           "data": {
            "bar": [
             {
              "error_x": {
               "color": "#2a3f5f"
              },
              "error_y": {
               "color": "#2a3f5f"
              },
              "marker": {
               "line": {
                "color": "white",
                "width": 0.5
               },
               "pattern": {
                "fillmode": "overlay",
                "size": 10,
                "solidity": 0.2
               }
              },
              "type": "bar"
             }
            ],
            "barpolar": [
             {
              "marker": {
               "line": {
                "color": "white",
                "width": 0.5
               },
               "pattern": {
                "fillmode": "overlay",
                "size": 10,
                "solidity": 0.2
               }
              },
              "type": "barpolar"
             }
            ],
            "carpet": [
             {
              "aaxis": {
               "endlinecolor": "#2a3f5f",
               "gridcolor": "#C8D4E3",
               "linecolor": "#C8D4E3",
               "minorgridcolor": "#C8D4E3",
               "startlinecolor": "#2a3f5f"
              },
              "baxis": {
               "endlinecolor": "#2a3f5f",
               "gridcolor": "#C8D4E3",
               "linecolor": "#C8D4E3",
               "minorgridcolor": "#C8D4E3",
               "startlinecolor": "#2a3f5f"
              },
              "type": "carpet"
             }
            ],
            "choropleth": [
             {
              "colorbar": {
               "outlinewidth": 0,
               "ticks": ""
              },
              "type": "choropleth"
             }
            ],
            "contour": [
             {
              "colorbar": {
               "outlinewidth": 0,
               "ticks": ""
              },
              "colorscale": [
               [
                0,
                "#0d0887"
               ],
               [
                0.1111111111111111,
                "#46039f"
               ],
               [
                0.2222222222222222,
                "#7201a8"
               ],
               [
                0.3333333333333333,
                "#9c179e"
               ],
               [
                0.4444444444444444,
                "#bd3786"
               ],
               [
                0.5555555555555556,
                "#d8576b"
               ],
               [
                0.6666666666666666,
                "#ed7953"
               ],
               [
                0.7777777777777778,
                "#fb9f3a"
               ],
               [
                0.8888888888888888,
                "#fdca26"
               ],
               [
                1,
                "#f0f921"
               ]
              ],
              "type": "contour"
             }
            ],
            "contourcarpet": [
             {
              "colorbar": {
               "outlinewidth": 0,
               "ticks": ""
              },
              "type": "contourcarpet"
             }
            ],
            "heatmap": [
             {
              "colorbar": {
               "outlinewidth": 0,
               "ticks": ""
              },
              "colorscale": [
               [
                0,
                "#0d0887"
               ],
               [
                0.1111111111111111,
                "#46039f"
               ],
               [
                0.2222222222222222,
                "#7201a8"
               ],
               [
                0.3333333333333333,
                "#9c179e"
               ],
               [
                0.4444444444444444,
                "#bd3786"
               ],
               [
                0.5555555555555556,
                "#d8576b"
               ],
               [
                0.6666666666666666,
                "#ed7953"
               ],
               [
                0.7777777777777778,
                "#fb9f3a"
               ],
               [
                0.8888888888888888,
                "#fdca26"
               ],
               [
                1,
                "#f0f921"
               ]
              ],
              "type": "heatmap"
             }
            ],
            "heatmapgl": [
             {
              "colorbar": {
               "outlinewidth": 0,
               "ticks": ""
              },
              "colorscale": [
               [
                0,
                "#0d0887"
               ],
               [
                0.1111111111111111,
                "#46039f"
               ],
               [
                0.2222222222222222,
                "#7201a8"
               ],
               [
                0.3333333333333333,
                "#9c179e"
               ],
               [
                0.4444444444444444,
                "#bd3786"
               ],
               [
                0.5555555555555556,
                "#d8576b"
               ],
               [
                0.6666666666666666,
                "#ed7953"
               ],
               [
                0.7777777777777778,
                "#fb9f3a"
               ],
               [
                0.8888888888888888,
                "#fdca26"
               ],
               [
                1,
                "#f0f921"
               ]
              ],
              "type": "heatmapgl"
             }
            ],
            "histogram": [
             {
              "marker": {
               "pattern": {
                "fillmode": "overlay",
                "size": 10,
                "solidity": 0.2
               }
              },
              "type": "histogram"
             }
            ],
            "histogram2d": [
             {
              "colorbar": {
               "outlinewidth": 0,
               "ticks": ""
              },
              "colorscale": [
               [
                0,
                "#0d0887"
               ],
               [
                0.1111111111111111,
                "#46039f"
               ],
               [
                0.2222222222222222,
                "#7201a8"
               ],
               [
                0.3333333333333333,
                "#9c179e"
               ],
               [
                0.4444444444444444,
                "#bd3786"
               ],
               [
                0.5555555555555556,
                "#d8576b"
               ],
               [
                0.6666666666666666,
                "#ed7953"
               ],
               [
                0.7777777777777778,
                "#fb9f3a"
               ],
               [
                0.8888888888888888,
                "#fdca26"
               ],
               [
                1,
                "#f0f921"
               ]
              ],
              "type": "histogram2d"
             }
            ],
            "histogram2dcontour": [
             {
              "colorbar": {
               "outlinewidth": 0,
               "ticks": ""
              },
              "colorscale": [
               [
                0,
                "#0d0887"
               ],
               [
                0.1111111111111111,
                "#46039f"
               ],
               [
                0.2222222222222222,
                "#7201a8"
               ],
               [
                0.3333333333333333,
                "#9c179e"
               ],
               [
                0.4444444444444444,
                "#bd3786"
               ],
               [
                0.5555555555555556,
                "#d8576b"
               ],
               [
                0.6666666666666666,
                "#ed7953"
               ],
               [
                0.7777777777777778,
                "#fb9f3a"
               ],
               [
                0.8888888888888888,
                "#fdca26"
               ],
               [
                1,
                "#f0f921"
               ]
              ],
              "type": "histogram2dcontour"
             }
            ],
            "mesh3d": [
             {
              "colorbar": {
               "outlinewidth": 0,
               "ticks": ""
              },
              "type": "mesh3d"
             }
            ],
            "parcoords": [
             {
              "line": {
               "colorbar": {
                "outlinewidth": 0,
                "ticks": ""
               }
              },
              "type": "parcoords"
             }
            ],
            "pie": [
             {
              "automargin": true,
              "type": "pie"
             }
            ],
            "scatter": [
             {
              "fillpattern": {
               "fillmode": "overlay",
               "size": 10,
               "solidity": 0.2
              },
              "type": "scatter"
             }
            ],
            "scatter3d": [
             {
              "line": {
               "colorbar": {
                "outlinewidth": 0,
                "ticks": ""
               }
              },
              "marker": {
               "colorbar": {
                "outlinewidth": 0,
                "ticks": ""
               }
              },
              "type": "scatter3d"
             }
            ],
            "scattercarpet": [
             {
              "marker": {
               "colorbar": {
                "outlinewidth": 0,
                "ticks": ""
               }
              },
              "type": "scattercarpet"
             }
            ],
            "scattergeo": [
             {
              "marker": {
               "colorbar": {
                "outlinewidth": 0,
                "ticks": ""
               }
              },
              "type": "scattergeo"
             }
            ],
            "scattergl": [
             {
              "marker": {
               "colorbar": {
                "outlinewidth": 0,
                "ticks": ""
               }
              },
              "type": "scattergl"
             }
            ],
            "scattermapbox": [
             {
              "marker": {
               "colorbar": {
                "outlinewidth": 0,
                "ticks": ""
               }
              },
              "type": "scattermapbox"
             }
            ],
            "scatterpolar": [
             {
              "marker": {
               "colorbar": {
                "outlinewidth": 0,
                "ticks": ""
               }
              },
              "type": "scatterpolar"
             }
            ],
            "scatterpolargl": [
             {
              "marker": {
               "colorbar": {
                "outlinewidth": 0,
                "ticks": ""
               }
              },
              "type": "scatterpolargl"
             }
            ],
            "scatterternary": [
             {
              "marker": {
               "colorbar": {
                "outlinewidth": 0,
                "ticks": ""
               }
              },
              "type": "scatterternary"
             }
            ],
            "surface": [
             {
              "colorbar": {
               "outlinewidth": 0,
               "ticks": ""
              },
              "colorscale": [
               [
                0,
                "#0d0887"
               ],
               [
                0.1111111111111111,
                "#46039f"
               ],
               [
                0.2222222222222222,
                "#7201a8"
               ],
               [
                0.3333333333333333,
                "#9c179e"
               ],
               [
                0.4444444444444444,
                "#bd3786"
               ],
               [
                0.5555555555555556,
                "#d8576b"
               ],
               [
                0.6666666666666666,
                "#ed7953"
               ],
               [
                0.7777777777777778,
                "#fb9f3a"
               ],
               [
                0.8888888888888888,
                "#fdca26"
               ],
               [
                1,
                "#f0f921"
               ]
              ],
              "type": "surface"
             }
            ],
            "table": [
             {
              "cells": {
               "fill": {
                "color": "#EBF0F8"
               },
               "line": {
                "color": "white"
               }
              },
              "header": {
               "fill": {
                "color": "#C8D4E3"
               },
               "line": {
                "color": "white"
               }
              },
              "type": "table"
             }
            ]
           },
           "layout": {
            "annotationdefaults": {
             "arrowcolor": "#2a3f5f",
             "arrowhead": 0,
             "arrowwidth": 1
            },
            "autotypenumbers": "strict",
            "coloraxis": {
             "colorbar": {
              "outlinewidth": 0,
              "ticks": ""
             }
            },
            "colorscale": {
             "diverging": [
              [
               0,
               "#8e0152"
              ],
              [
               0.1,
               "#c51b7d"
              ],
              [
               0.2,
               "#de77ae"
              ],
              [
               0.3,
               "#f1b6da"
              ],
              [
               0.4,
               "#fde0ef"
              ],
              [
               0.5,
               "#f7f7f7"
              ],
              [
               0.6,
               "#e6f5d0"
              ],
              [
               0.7,
               "#b8e186"
              ],
              [
               0.8,
               "#7fbc41"
              ],
              [
               0.9,
               "#4d9221"
              ],
              [
               1,
               "#276419"
              ]
             ],
             "sequential": [
              [
               0,
               "#0d0887"
              ],
              [
               0.1111111111111111,
               "#46039f"
              ],
              [
               0.2222222222222222,
               "#7201a8"
              ],
              [
               0.3333333333333333,
               "#9c179e"
              ],
              [
               0.4444444444444444,
               "#bd3786"
              ],
              [
               0.5555555555555556,
               "#d8576b"
              ],
              [
               0.6666666666666666,
               "#ed7953"
              ],
              [
               0.7777777777777778,
               "#fb9f3a"
              ],
              [
               0.8888888888888888,
               "#fdca26"
              ],
              [
               1,
               "#f0f921"
              ]
             ],
             "sequentialminus": [
              [
               0,
               "#0d0887"
              ],
              [
               0.1111111111111111,
               "#46039f"
              ],
              [
               0.2222222222222222,
               "#7201a8"
              ],
              [
               0.3333333333333333,
               "#9c179e"
              ],
              [
               0.4444444444444444,
               "#bd3786"
              ],
              [
               0.5555555555555556,
               "#d8576b"
              ],
              [
               0.6666666666666666,
               "#ed7953"
              ],
              [
               0.7777777777777778,
               "#fb9f3a"
              ],
              [
               0.8888888888888888,
               "#fdca26"
              ],
              [
               1,
               "#f0f921"
              ]
             ]
            },
            "colorway": [
             "#636efa",
             "#EF553B",
             "#00cc96",
             "#ab63fa",
             "#FFA15A",
             "#19d3f3",
             "#FF6692",
             "#B6E880",
             "#FF97FF",
             "#FECB52"
            ],
            "font": {
             "color": "#2a3f5f"
            },
            "geo": {
             "bgcolor": "white",
             "lakecolor": "white",
             "landcolor": "white",
             "showlakes": true,
             "showland": true,
             "subunitcolor": "#C8D4E3"
            },
            "hoverlabel": {
             "align": "left"
            },
            "hovermode": "closest",
            "mapbox": {
             "style": "light"
            },
            "paper_bgcolor": "white",
            "plot_bgcolor": "white",
            "polar": {
             "angularaxis": {
              "gridcolor": "#EBF0F8",
              "linecolor": "#EBF0F8",
              "ticks": ""
             },
             "bgcolor": "white",
             "radialaxis": {
              "gridcolor": "#EBF0F8",
              "linecolor": "#EBF0F8",
              "ticks": ""
             }
            },
            "scene": {
             "xaxis": {
              "backgroundcolor": "white",
              "gridcolor": "#DFE8F3",
              "gridwidth": 2,
              "linecolor": "#EBF0F8",
              "showbackground": true,
              "ticks": "",
              "zerolinecolor": "#EBF0F8"
             },
             "yaxis": {
              "backgroundcolor": "white",
              "gridcolor": "#DFE8F3",
              "gridwidth": 2,
              "linecolor": "#EBF0F8",
              "showbackground": true,
              "ticks": "",
              "zerolinecolor": "#EBF0F8"
             },
             "zaxis": {
              "backgroundcolor": "white",
              "gridcolor": "#DFE8F3",
              "gridwidth": 2,
              "linecolor": "#EBF0F8",
              "showbackground": true,
              "ticks": "",
              "zerolinecolor": "#EBF0F8"
             }
            },
            "shapedefaults": {
             "line": {
              "color": "#2a3f5f"
             }
            },
            "ternary": {
             "aaxis": {
              "gridcolor": "#DFE8F3",
              "linecolor": "#A2B1C6",
              "ticks": ""
             },
             "baxis": {
              "gridcolor": "#DFE8F3",
              "linecolor": "#A2B1C6",
              "ticks": ""
             },
             "bgcolor": "white",
             "caxis": {
              "gridcolor": "#DFE8F3",
              "linecolor": "#A2B1C6",
              "ticks": ""
             }
            },
            "title": {
             "x": 0.05
            },
            "xaxis": {
             "automargin": true,
             "gridcolor": "#EBF0F8",
             "linecolor": "#EBF0F8",
             "ticks": "",
             "title": {
              "standoff": 15
             },
             "zerolinecolor": "#EBF0F8",
             "zerolinewidth": 2
            },
            "yaxis": {
             "automargin": true,
             "gridcolor": "#EBF0F8",
             "linecolor": "#EBF0F8",
             "ticks": "",
             "title": {
              "standoff": 15
             },
             "zerolinecolor": "#EBF0F8",
             "zerolinewidth": 2
            }
           }
          },
          "xaxis": {
           "automargin": false,
           "linecolor": "#444",
           "linewidth": 2,
           "minor": {
            "tickmode": "linear",
            "ticks": "outside"
           },
           "mirror": true,
           "showline": true,
           "tickmode": "linear",
           "ticks": "outside",
           "zeroline": false
          },
          "yaxis": {
           "automargin": true,
           "linecolor": "#444",
           "linewidth": 2,
           "minor": {
            "tickmode": "linear",
            "ticks": "outside"
           },
           "mirror": true,
           "showline": true,
           "ticks": "outside",
           "zeroline": false
          }
         }
        },
        "width": 600,
        "xaxis": {
         "dtick": 5,
         "minor": {
          "dtick": 1,
          "tick0": 0
         },
         "range": [
          0,
          31
         ],
         "tick0": 0,
         "title": {
          "text": "challenge rating"
         }
        },
        "yaxis": {
         "dtick": 2,
         "minor": {
          "dtick": 1,
          "tick0": 0
         },
         "range": [
          10,
          30
         ],
         "tick0": 0,
         "title": {
          "text": "armor class"
         }
        }
       }
      }
     },
     "metadata": {},
     "output_type": "display_data"
    }
   ],
   "source": [
    "# Fig. 8: plots average armor class \n",
    "# create figure\n",
    "fig = go.Figure(\n",
    "    layout=go.Layout(\n",
    "        template=tfb.FIG_TEMPLATE,\n",
    "        margin=dict(l=60, r=25, b=55, t=20, pad=4),\n",
    "        xaxis=dict(\n",
    "            title_text='challenge rating',\n",
    "            range=[0,31],\n",
    "            tick0=0, dtick=5,\n",
    "            minor=dict(tick0=0, dtick=1),\n",
    "        ),\n",
    "        yaxis=dict(\n",
    "            title_text='armor class',\n",
    "            range=[10,30],\n",
    "            tick0=0, dtick=2,\n",
    "            minor=dict(tick0=0, dtick=1),\n",
    "        ),\n",
    "        legend=dict(\n",
    "            xanchor='left', yanchor='top',\n",
    "            x=0.00, y=1.00,\n",
    "            orientation='v',\n",
    "            tracegroupgap=0,\n",
    "        )\n",
    "    )\n",
    ")\n",
    "\n",
    "# plot monster armor class\n",
    "dfM = pd.read_csv('../../assets/data/monsters.csv')\n",
    "dfM['AC adj'] = dfM.apply(lambda row: adjusted_armor_class(row), axis=1)\n",
    "dfM = dfM[['CR','AC','adj AC','AC adj']].groupby(['CR']).mean().reset_index()\n",
    "dfM = dfM[dfM['CR'].between(1, 30)]\n",
    "plot_data_and_fit(\n",
    "    fig, \n",
    "    dfM['CR'], dfM['adj AC'], \n",
    "    name='monsters (adj)',\n",
    "    legendgroup='monsters (adj)',\n",
    "    line=dict(color=COLOR_LIST[0]),\n",
    "    hovertemplate=\n",
    "        '<b>monsters</b><br>'+\n",
    "        'CR %{x}<br>'+\n",
    "        'AC %{y:,.1f}' + \n",
    "        '<extra></extra>',\n",
    "    print_coefficients=True,\n",
    ")\n",
    "\n",
    "plot_data_and_fit(\n",
    "    fig, \n",
    "    dfM['CR'], dfM['AC'], \n",
    "    name='monsters (unadj)',\n",
    "    legendgroup='monsters (unadj)',\n",
    "    line=dict(color=COLOR_LIST[1]),\n",
    "    hovertemplate=\n",
    "        '<b>monsters</b><br>'+\n",
    "        'CR %{x}<br>'+\n",
    "        'AC %{y:,.1f}' + \n",
    "        '<extra></extra>',\n",
    "    print_coefficients=True,\n",
    ")\n",
    "\n",
    "\n",
    "# plot monster armor class targets\n",
    "dfD = pd.read_csv('../../assets/data/dmg-targets.csv') # 'CR','PB','AC','AB','DC'\n",
    "dfD = dfD[dfD['CR'].between(1, 30)]\n",
    "fig.add_trace(go.Scatter(\n",
    "    x=np.array(dfD['CR']), \n",
    "    y=np.array(dfD['AC']),\n",
    "    mode='markers+lines', \n",
    "    name='DMG',\n",
    "    line=dict(color='black', dash='dash'),\n",
    "    hovertemplate=\n",
    "        '<b>DMG</b><br>'+\n",
    "        'CR %{x}<br>'+\n",
    "        'AC %{y:,.1f}' + \n",
    "        '<extra></extra>'\n",
    "))\n",
    "\n",
    "# show figure\n",
    "fig.update_layout(width=600, height=450)\n",
    "fig.show(config=tfb.FIG_CONFIG)\n",
    "\n",
    "# save figures\n",
    "if SAVEFIGS:\n",
    "    fig.update_layout(autosize=True, width=None, height=None)\n",
    "    tfb.save_fig_html(fig, format='large', name=f'./fig-ac-vs-cr-large')\n",
    "    tfb.save_fig_html(fig, format='small', name=f'./fig-ac-vs-cr-small')"
   ]
  },
  {
   "cell_type": "code",
   "execution_count": 60,
   "metadata": {},
   "outputs": [
    {
     "name": "stdout",
     "output_type": "stream",
     "text": [
      "CR >= 1: -0.03 + 0.47*CR\n",
      "CR >= 1: -0.40 + 0.41*CR\n"
     ]
    },
    {
     "data": {
      "application/vnd.plotly.v1+json": {
       "config": {
        "autosizable": true,
        "displayModeBar": "hover",
        "displaylogo": false,
        "doubleClick": "reset",
        "modeBarButtonsToRemove": [
         "select2d",
         "lasso2d",
         "zoom2d",
         "zoomIn2d",
         "zoomOut2d",
         "pan2d",
         "autoScale2d",
         "hoverClosestCartesian",
         "hoverCompareCartesian",
         "toggleSpikelines",
         "resetScale2d"
        ],
        "plotlyServerURL": "https://plot.ly",
        "responsive": true,
        "showAxisDragHandles": false,
        "toImageButtonOptions": {
         "filename": "tfb-plot",
         "format": "png",
         "height": 450,
         "scale": 2,
         "width": 600
        }
       },
       "data": [
        {
         "hovertemplate": "<b>monsters</b><br>CR %{x}<br>SB %{y:,.0f}<extra></extra>",
         "legendgroup": "monsters (adj)",
         "line": {
          "color": "#1f77b4"
         },
         "mode": "markers",
         "name": "monsters (adj)",
         "type": "scatter",
         "x": [
          1,
          2,
          3,
          4,
          5,
          6,
          7,
          8,
          9,
          10,
          11,
          12,
          13,
          14,
          15,
          16,
          17,
          18,
          19,
          20,
          21,
          22,
          23,
          24,
          25,
          26,
          27,
          28,
          30
         ],
         "y": [
          0.8724137931034482,
          1.019174041297935,
          1.5290598290598292,
          2.1496350364963503,
          2.4314285714285715,
          2.7577319587628866,
          3.0185185185185186,
          3.206666666666667,
          3.9625,
          4.932835820895522,
          4.958974358974359,
          5.407407407407407,
          6.140522875816993,
          6.355263157894737,
          6.0606060606060606,
          7.20952380952381,
          7.934523809523809,
          8.282051282051281,
          9.911764705882353,
          7.754385964912281,
          10.121794871794872,
          9.743055555555555,
          11.301075268817204,
          12.131578947368421,
          11.461538461538462,
          13.425925925925926,
          12,
          14.357142857142858,
          12.5
         ]
        },
        {
         "hoverinfo": "skip",
         "hovertemplate": "<b>monsters</b><br>CR %{x}<br>SB %{y:,.0f}<extra></extra>",
         "legendgroup": "monsters (adj)",
         "line": {
          "color": "#1f77b4",
          "dash": "solid"
         },
         "mode": "lines",
         "name": "monsters (adj)",
         "showlegend": false,
         "type": "scatter",
         "x": [
          1,
          2,
          3,
          4,
          5,
          6,
          7,
          8,
          9,
          10,
          11,
          12,
          13,
          14,
          15,
          16,
          17,
          18,
          19,
          20,
          21,
          22,
          23,
          24,
          25,
          26,
          27,
          28,
          30
         ],
         "y": [
          0.4406102871684886,
          0.907832403210454,
          1.3750545192524193,
          1.8422766352943847,
          2.30949875133635,
          2.7767208673783155,
          3.243942983420281,
          3.7111650994622463,
          4.178387215504212,
          4.6456093315461775,
          5.112831447588143,
          5.580053563630108,
          6.047275679672073,
          6.514497795714039,
          6.981719911756005,
          7.44894202779797,
          7.916164143839935,
          8.383386259881899,
          8.850608375923866,
          9.31783049196583,
          9.785052608007796,
          10.252274724049762,
          10.719496840091727,
          11.186718956133692,
          11.653941072175657,
          12.121163188217622,
          12.588385304259589,
          13.055607420301554,
          13.990051652385485
         ]
        },
        {
         "hovertemplate": "<b>monsters</b><br>CR %{x}<br>SB %{y:,.0f}<extra></extra>",
         "legendgroup": "monsters (unadj)",
         "line": {
          "color": "#ff7f0e"
         },
         "mode": "markers",
         "name": "monsters (unadj)",
         "type": "scatter",
         "x": [
          1,
          2,
          3,
          4,
          5,
          6,
          7,
          8,
          9,
          10,
          11,
          12,
          13,
          14,
          15,
          16,
          17,
          18,
          19,
          20,
          21,
          22,
          23,
          24,
          25,
          26,
          27,
          28,
          30
         ],
         "y": [
          0.40344827586206894,
          0.8598820058997051,
          1.2213675213675212,
          1.5656934306569343,
          1.9285714285714286,
          2.2628865979381443,
          2.388888888888889,
          2.606666666666667,
          3.3125,
          3.5597014925373136,
          3.666666666666667,
          4,
          4.728758169934641,
          4.881578947368421,
          5.454545454545454,
          5.838095238095239,
          6.363095238095238,
          6.743589743589744,
          7.5588235294117645,
          6.491228070175438,
          8.429487179487179,
          7.743055555555556,
          8.720430107526882,
          9.394736842105264,
          9,
          10.981481481481481,
          11,
          13.214285714285714,
          11.5
         ]
        },
        {
         "hoverinfo": "skip",
         "hovertemplate": "<b>monsters</b><br>CR %{x}<br>SB %{y:,.0f}<extra></extra>",
         "legendgroup": "monsters (unadj)",
         "line": {
          "color": "#ff7f0e",
          "dash": "solid"
         },
         "mode": "lines",
         "name": "monsters (unadj)",
         "showlegend": false,
         "type": "scatter",
         "x": [
          1,
          2,
          3,
          4,
          5,
          6,
          7,
          8,
          9,
          10,
          11,
          12,
          13,
          14,
          15,
          16,
          17,
          18,
          19,
          20,
          21,
          22,
          23,
          24,
          25,
          26,
          27,
          28,
          30
         ],
         "y": [
          0.008935277098239713,
          0.41571744223549867,
          0.8224996073727576,
          1.2292817725100167,
          1.6360639376472759,
          2.0428461027845346,
          2.4496282679217933,
          2.8564104330590525,
          3.2631925981963117,
          3.669974763333571,
          4.076756928470829,
          4.483539093608088,
          4.890321258745347,
          5.297103423882605,
          5.7038855890198645,
          6.110667754157124,
          6.517449919294383,
          6.924232084431642,
          7.3310142495689,
          7.73779641470616,
          8.144578579843419,
          8.551360744980677,
          8.958142910117937,
          9.364925075255195,
          9.771707240392454,
          10.178489405529714,
          10.585271570666972,
          10.99205373580423,
          11.805618066078749
         ]
        },
        {
         "hovertemplate": "<b>DMG</b><br>CR %{x}<br>(AC-14) %{y:,.0f}<extra></extra>",
         "line": {
          "color": "black",
          "dash": "dash"
         },
         "mode": "markers+lines",
         "name": "DMG (AC - 14)",
         "type": "scatter",
         "x": [
          1,
          2,
          3,
          4,
          5,
          6,
          7,
          8,
          9,
          10,
          11,
          12,
          13,
          14,
          15,
          16,
          17,
          18,
          19,
          20,
          21,
          22,
          23,
          24,
          25,
          26,
          27,
          28,
          29,
          30
         ],
         "y": [
          -1,
          -1,
          -1,
          0,
          1,
          1,
          1,
          2,
          2,
          3,
          3,
          3,
          4,
          4,
          4,
          4,
          5,
          5,
          5,
          5,
          5,
          5,
          5,
          5,
          5,
          5,
          5,
          5,
          5,
          5
         ]
        }
       ],
       "layout": {
        "height": 450,
        "legend": {
         "orientation": "v",
         "tracegroupgap": 0,
         "x": 0,
         "xanchor": "left",
         "y": 1,
         "yanchor": "top"
        },
        "margin": {
         "b": 55,
         "l": 60,
         "pad": 4,
         "r": 25,
         "t": 20
        },
        "template": {
         "layout": {
          "autosize": false,
          "font": {
           "family": "sans-serif",
           "size": 14
          },
          "hoverlabel": {
           "align": "left"
          },
          "hovermode": "closest",
          "margin": {
           "b": 55,
           "l": 60,
           "pad": 4,
           "r": 25,
           "t": 20
          },
          "template": {
           "data": {
            "bar": [
             {
              "error_x": {
               "color": "#2a3f5f"
              },
              "error_y": {
               "color": "#2a3f5f"
              },
              "marker": {
               "line": {
                "color": "white",
                "width": 0.5
               },
               "pattern": {
                "fillmode": "overlay",
                "size": 10,
                "solidity": 0.2
               }
              },
              "type": "bar"
             }
            ],
            "barpolar": [
             {
              "marker": {
               "line": {
                "color": "white",
                "width": 0.5
               },
               "pattern": {
                "fillmode": "overlay",
                "size": 10,
                "solidity": 0.2
               }
              },
              "type": "barpolar"
             }
            ],
            "carpet": [
             {
              "aaxis": {
               "endlinecolor": "#2a3f5f",
               "gridcolor": "#C8D4E3",
               "linecolor": "#C8D4E3",
               "minorgridcolor": "#C8D4E3",
               "startlinecolor": "#2a3f5f"
              },
              "baxis": {
               "endlinecolor": "#2a3f5f",
               "gridcolor": "#C8D4E3",
               "linecolor": "#C8D4E3",
               "minorgridcolor": "#C8D4E3",
               "startlinecolor": "#2a3f5f"
              },
              "type": "carpet"
             }
            ],
            "choropleth": [
             {
              "colorbar": {
               "outlinewidth": 0,
               "ticks": ""
              },
              "type": "choropleth"
             }
            ],
            "contour": [
             {
              "colorbar": {
               "outlinewidth": 0,
               "ticks": ""
              },
              "colorscale": [
               [
                0,
                "#0d0887"
               ],
               [
                0.1111111111111111,
                "#46039f"
               ],
               [
                0.2222222222222222,
                "#7201a8"
               ],
               [
                0.3333333333333333,
                "#9c179e"
               ],
               [
                0.4444444444444444,
                "#bd3786"
               ],
               [
                0.5555555555555556,
                "#d8576b"
               ],
               [
                0.6666666666666666,
                "#ed7953"
               ],
               [
                0.7777777777777778,
                "#fb9f3a"
               ],
               [
                0.8888888888888888,
                "#fdca26"
               ],
               [
                1,
                "#f0f921"
               ]
              ],
              "type": "contour"
             }
            ],
            "contourcarpet": [
             {
              "colorbar": {
               "outlinewidth": 0,
               "ticks": ""
              },
              "type": "contourcarpet"
             }
            ],
            "heatmap": [
             {
              "colorbar": {
               "outlinewidth": 0,
               "ticks": ""
              },
              "colorscale": [
               [
                0,
                "#0d0887"
               ],
               [
                0.1111111111111111,
                "#46039f"
               ],
               [
                0.2222222222222222,
                "#7201a8"
               ],
               [
                0.3333333333333333,
                "#9c179e"
               ],
               [
                0.4444444444444444,
                "#bd3786"
               ],
               [
                0.5555555555555556,
                "#d8576b"
               ],
               [
                0.6666666666666666,
                "#ed7953"
               ],
               [
                0.7777777777777778,
                "#fb9f3a"
               ],
               [
                0.8888888888888888,
                "#fdca26"
               ],
               [
                1,
                "#f0f921"
               ]
              ],
              "type": "heatmap"
             }
            ],
            "heatmapgl": [
             {
              "colorbar": {
               "outlinewidth": 0,
               "ticks": ""
              },
              "colorscale": [
               [
                0,
                "#0d0887"
               ],
               [
                0.1111111111111111,
                "#46039f"
               ],
               [
                0.2222222222222222,
                "#7201a8"
               ],
               [
                0.3333333333333333,
                "#9c179e"
               ],
               [
                0.4444444444444444,
                "#bd3786"
               ],
               [
                0.5555555555555556,
                "#d8576b"
               ],
               [
                0.6666666666666666,
                "#ed7953"
               ],
               [
                0.7777777777777778,
                "#fb9f3a"
               ],
               [
                0.8888888888888888,
                "#fdca26"
               ],
               [
                1,
                "#f0f921"
               ]
              ],
              "type": "heatmapgl"
             }
            ],
            "histogram": [
             {
              "marker": {
               "pattern": {
                "fillmode": "overlay",
                "size": 10,
                "solidity": 0.2
               }
              },
              "type": "histogram"
             }
            ],
            "histogram2d": [
             {
              "colorbar": {
               "outlinewidth": 0,
               "ticks": ""
              },
              "colorscale": [
               [
                0,
                "#0d0887"
               ],
               [
                0.1111111111111111,
                "#46039f"
               ],
               [
                0.2222222222222222,
                "#7201a8"
               ],
               [
                0.3333333333333333,
                "#9c179e"
               ],
               [
                0.4444444444444444,
                "#bd3786"
               ],
               [
                0.5555555555555556,
                "#d8576b"
               ],
               [
                0.6666666666666666,
                "#ed7953"
               ],
               [
                0.7777777777777778,
                "#fb9f3a"
               ],
               [
                0.8888888888888888,
                "#fdca26"
               ],
               [
                1,
                "#f0f921"
               ]
              ],
              "type": "histogram2d"
             }
            ],
            "histogram2dcontour": [
             {
              "colorbar": {
               "outlinewidth": 0,
               "ticks": ""
              },
              "colorscale": [
               [
                0,
                "#0d0887"
               ],
               [
                0.1111111111111111,
                "#46039f"
               ],
               [
                0.2222222222222222,
                "#7201a8"
               ],
               [
                0.3333333333333333,
                "#9c179e"
               ],
               [
                0.4444444444444444,
                "#bd3786"
               ],
               [
                0.5555555555555556,
                "#d8576b"
               ],
               [
                0.6666666666666666,
                "#ed7953"
               ],
               [
                0.7777777777777778,
                "#fb9f3a"
               ],
               [
                0.8888888888888888,
                "#fdca26"
               ],
               [
                1,
                "#f0f921"
               ]
              ],
              "type": "histogram2dcontour"
             }
            ],
            "mesh3d": [
             {
              "colorbar": {
               "outlinewidth": 0,
               "ticks": ""
              },
              "type": "mesh3d"
             }
            ],
            "parcoords": [
             {
              "line": {
               "colorbar": {
                "outlinewidth": 0,
                "ticks": ""
               }
              },
              "type": "parcoords"
             }
            ],
            "pie": [
             {
              "automargin": true,
              "type": "pie"
             }
            ],
            "scatter": [
             {
              "fillpattern": {
               "fillmode": "overlay",
               "size": 10,
               "solidity": 0.2
              },
              "type": "scatter"
             }
            ],
            "scatter3d": [
             {
              "line": {
               "colorbar": {
                "outlinewidth": 0,
                "ticks": ""
               }
              },
              "marker": {
               "colorbar": {
                "outlinewidth": 0,
                "ticks": ""
               }
              },
              "type": "scatter3d"
             }
            ],
            "scattercarpet": [
             {
              "marker": {
               "colorbar": {
                "outlinewidth": 0,
                "ticks": ""
               }
              },
              "type": "scattercarpet"
             }
            ],
            "scattergeo": [
             {
              "marker": {
               "colorbar": {
                "outlinewidth": 0,
                "ticks": ""
               }
              },
              "type": "scattergeo"
             }
            ],
            "scattergl": [
             {
              "marker": {
               "colorbar": {
                "outlinewidth": 0,
                "ticks": ""
               }
              },
              "type": "scattergl"
             }
            ],
            "scattermapbox": [
             {
              "marker": {
               "colorbar": {
                "outlinewidth": 0,
                "ticks": ""
               }
              },
              "type": "scattermapbox"
             }
            ],
            "scatterpolar": [
             {
              "marker": {
               "colorbar": {
                "outlinewidth": 0,
                "ticks": ""
               }
              },
              "type": "scatterpolar"
             }
            ],
            "scatterpolargl": [
             {
              "marker": {
               "colorbar": {
                "outlinewidth": 0,
                "ticks": ""
               }
              },
              "type": "scatterpolargl"
             }
            ],
            "scatterternary": [
             {
              "marker": {
               "colorbar": {
                "outlinewidth": 0,
                "ticks": ""
               }
              },
              "type": "scatterternary"
             }
            ],
            "surface": [
             {
              "colorbar": {
               "outlinewidth": 0,
               "ticks": ""
              },
              "colorscale": [
               [
                0,
                "#0d0887"
               ],
               [
                0.1111111111111111,
                "#46039f"
               ],
               [
                0.2222222222222222,
                "#7201a8"
               ],
               [
                0.3333333333333333,
                "#9c179e"
               ],
               [
                0.4444444444444444,
                "#bd3786"
               ],
               [
                0.5555555555555556,
                "#d8576b"
               ],
               [
                0.6666666666666666,
                "#ed7953"
               ],
               [
                0.7777777777777778,
                "#fb9f3a"
               ],
               [
                0.8888888888888888,
                "#fdca26"
               ],
               [
                1,
                "#f0f921"
               ]
              ],
              "type": "surface"
             }
            ],
            "table": [
             {
              "cells": {
               "fill": {
                "color": "#EBF0F8"
               },
               "line": {
                "color": "white"
               }
              },
              "header": {
               "fill": {
                "color": "#C8D4E3"
               },
               "line": {
                "color": "white"
               }
              },
              "type": "table"
             }
            ]
           },
           "layout": {
            "annotationdefaults": {
             "arrowcolor": "#2a3f5f",
             "arrowhead": 0,
             "arrowwidth": 1
            },
            "autotypenumbers": "strict",
            "coloraxis": {
             "colorbar": {
              "outlinewidth": 0,
              "ticks": ""
             }
            },
            "colorscale": {
             "diverging": [
              [
               0,
               "#8e0152"
              ],
              [
               0.1,
               "#c51b7d"
              ],
              [
               0.2,
               "#de77ae"
              ],
              [
               0.3,
               "#f1b6da"
              ],
              [
               0.4,
               "#fde0ef"
              ],
              [
               0.5,
               "#f7f7f7"
              ],
              [
               0.6,
               "#e6f5d0"
              ],
              [
               0.7,
               "#b8e186"
              ],
              [
               0.8,
               "#7fbc41"
              ],
              [
               0.9,
               "#4d9221"
              ],
              [
               1,
               "#276419"
              ]
             ],
             "sequential": [
              [
               0,
               "#0d0887"
              ],
              [
               0.1111111111111111,
               "#46039f"
              ],
              [
               0.2222222222222222,
               "#7201a8"
              ],
              [
               0.3333333333333333,
               "#9c179e"
              ],
              [
               0.4444444444444444,
               "#bd3786"
              ],
              [
               0.5555555555555556,
               "#d8576b"
              ],
              [
               0.6666666666666666,
               "#ed7953"
              ],
              [
               0.7777777777777778,
               "#fb9f3a"
              ],
              [
               0.8888888888888888,
               "#fdca26"
              ],
              [
               1,
               "#f0f921"
              ]
             ],
             "sequentialminus": [
              [
               0,
               "#0d0887"
              ],
              [
               0.1111111111111111,
               "#46039f"
              ],
              [
               0.2222222222222222,
               "#7201a8"
              ],
              [
               0.3333333333333333,
               "#9c179e"
              ],
              [
               0.4444444444444444,
               "#bd3786"
              ],
              [
               0.5555555555555556,
               "#d8576b"
              ],
              [
               0.6666666666666666,
               "#ed7953"
              ],
              [
               0.7777777777777778,
               "#fb9f3a"
              ],
              [
               0.8888888888888888,
               "#fdca26"
              ],
              [
               1,
               "#f0f921"
              ]
             ]
            },
            "colorway": [
             "#636efa",
             "#EF553B",
             "#00cc96",
             "#ab63fa",
             "#FFA15A",
             "#19d3f3",
             "#FF6692",
             "#B6E880",
             "#FF97FF",
             "#FECB52"
            ],
            "font": {
             "color": "#2a3f5f"
            },
            "geo": {
             "bgcolor": "white",
             "lakecolor": "white",
             "landcolor": "white",
             "showlakes": true,
             "showland": true,
             "subunitcolor": "#C8D4E3"
            },
            "hoverlabel": {
             "align": "left"
            },
            "hovermode": "closest",
            "mapbox": {
             "style": "light"
            },
            "paper_bgcolor": "white",
            "plot_bgcolor": "white",
            "polar": {
             "angularaxis": {
              "gridcolor": "#EBF0F8",
              "linecolor": "#EBF0F8",
              "ticks": ""
             },
             "bgcolor": "white",
             "radialaxis": {
              "gridcolor": "#EBF0F8",
              "linecolor": "#EBF0F8",
              "ticks": ""
             }
            },
            "scene": {
             "xaxis": {
              "backgroundcolor": "white",
              "gridcolor": "#DFE8F3",
              "gridwidth": 2,
              "linecolor": "#EBF0F8",
              "showbackground": true,
              "ticks": "",
              "zerolinecolor": "#EBF0F8"
             },
             "yaxis": {
              "backgroundcolor": "white",
              "gridcolor": "#DFE8F3",
              "gridwidth": 2,
              "linecolor": "#EBF0F8",
              "showbackground": true,
              "ticks": "",
              "zerolinecolor": "#EBF0F8"
             },
             "zaxis": {
              "backgroundcolor": "white",
              "gridcolor": "#DFE8F3",
              "gridwidth": 2,
              "linecolor": "#EBF0F8",
              "showbackground": true,
              "ticks": "",
              "zerolinecolor": "#EBF0F8"
             }
            },
            "shapedefaults": {
             "line": {
              "color": "#2a3f5f"
             }
            },
            "ternary": {
             "aaxis": {
              "gridcolor": "#DFE8F3",
              "linecolor": "#A2B1C6",
              "ticks": ""
             },
             "baxis": {
              "gridcolor": "#DFE8F3",
              "linecolor": "#A2B1C6",
              "ticks": ""
             },
             "bgcolor": "white",
             "caxis": {
              "gridcolor": "#DFE8F3",
              "linecolor": "#A2B1C6",
              "ticks": ""
             }
            },
            "title": {
             "x": 0.05
            },
            "xaxis": {
             "automargin": true,
             "gridcolor": "#EBF0F8",
             "linecolor": "#EBF0F8",
             "ticks": "",
             "title": {
              "standoff": 15
             },
             "zerolinecolor": "#EBF0F8",
             "zerolinewidth": 2
            },
            "yaxis": {
             "automargin": true,
             "gridcolor": "#EBF0F8",
             "linecolor": "#EBF0F8",
             "ticks": "",
             "title": {
              "standoff": 15
             },
             "zerolinecolor": "#EBF0F8",
             "zerolinewidth": 2
            }
           }
          },
          "xaxis": {
           "automargin": false,
           "linecolor": "#444",
           "linewidth": 2,
           "minor": {
            "tickmode": "linear",
            "ticks": "outside"
           },
           "mirror": true,
           "showline": true,
           "tickmode": "linear",
           "ticks": "outside",
           "zeroline": false
          },
          "yaxis": {
           "automargin": true,
           "linecolor": "#444",
           "linewidth": 2,
           "minor": {
            "tickmode": "linear",
            "ticks": "outside"
           },
           "mirror": true,
           "showline": true,
           "ticks": "outside",
           "zeroline": false
          }
         }
        },
        "width": 600,
        "xaxis": {
         "dtick": 5,
         "minor": {
          "dtick": 1,
          "tick0": 0
         },
         "range": [
          0,
          31
         ],
         "tick0": 0,
         "title": {
          "text": "challenge rating"
         }
        },
        "yaxis": {
         "dtick": 2,
         "minor": {
          "dtick": 1,
          "tick0": 0
         },
         "range": [
          -4,
          16
         ],
         "tick0": 0,
         "title": {
          "text": "save bonus"
         }
        }
       }
      }
     },
     "metadata": {},
     "output_type": "display_data"
    }
   ],
   "source": [
    "# Fig. 9: plots average save bonus\n",
    "\n",
    "# create figure\n",
    "fig = go.Figure(\n",
    "    layout=go.Layout(\n",
    "        template=tfb.FIG_TEMPLATE,\n",
    "        margin=dict(l=60, r=25, b=55, t=20, pad=4),\n",
    "        xaxis=dict(\n",
    "            title_text='challenge rating',\n",
    "            range=[0,31],\n",
    "            tick0=0, dtick=5,\n",
    "            minor=dict(tick0=0, dtick=1),\n",
    "        ),\n",
    "        yaxis=dict(\n",
    "            title_text='save bonus',\n",
    "            range=[-4,16],\n",
    "            tick0=0, dtick=2,\n",
    "            minor=dict(tick0=0, dtick=1),\n",
    "        ),\n",
    "        legend=dict(\n",
    "            xanchor='left', yanchor='top',\n",
    "            x=0.00, y=1.00,\n",
    "            orientation='v',\n",
    "            tracegroupgap=0,\n",
    "        )\n",
    "    )\n",
    ")\n",
    "\n",
    "# plot published monsters\n",
    "dfM = pd.read_csv('../../assets/data/monsters.csv')\n",
    "dfM = dfM[dfM['CR'].between(1,30)]\n",
    "dfM['SB']     = dfM.apply(lambda row: average_save_bonus(row), axis=1)\n",
    "dfM['adj SB'] = dfM['SB'] + dfM.apply(lambda row: 4 if 'magic resistance' in row['AC adjustments'] else 0, axis=1)\n",
    "dfM = dfM[['CR','SB','adj SB']].groupby('CR').mean().reset_index()\n",
    "dfM.sort_values(by='CR', inplace=True)\n",
    "\n",
    "plot_data_and_fit(\n",
    "    fig, \n",
    "    dfM['CR'], dfM['adj SB'], \n",
    "    name='monsters (adj)',\n",
    "    legendgroup='monsters (adj)',\n",
    "    line=dict(color=COLOR_LIST[0]),\n",
    "    hovertemplate=\n",
    "        '<b>monsters</b><br>'+\n",
    "        'CR %{x}<br>'+\n",
    "        'SB %{y:,.0f}' + \n",
    "        '<extra></extra>',\n",
    "    print_coefficients=True,\n",
    ")\n",
    "\n",
    "plot_data_and_fit(\n",
    "    fig, \n",
    "    dfM['CR'], dfM['SB'], \n",
    "    name='monsters (unadj)',\n",
    "    legendgroup='monsters (unadj)',\n",
    "    line=dict(color=COLOR_LIST[1]),\n",
    "    hovertemplate=\n",
    "        '<b>monsters</b><br>'+\n",
    "        'CR %{x}<br>'+\n",
    "        'SB %{y:,.0f}' + \n",
    "        '<extra></extra>',\n",
    "    print_coefficients=True,\n",
    ")\n",
    "\n",
    "# plot DMG targets\n",
    "dfD = pd.read_csv('../../assets/data/dmg-targets.csv') # 'CR','PB','AC','AB','DC'\n",
    "dfD = dfD[dfD['CR'].between(1, 30)]\n",
    "fig.add_trace(go.Scatter(\n",
    "    x=np.array(dfD['CR']), \n",
    "    y=np.array(dfD['AC']) - 14,\n",
    "    #y=np.array(dfD['DC']) - 14,\n",
    "    mode='markers+lines', \n",
    "    name='DMG (AC - 14)',\n",
    "    line=dict(color='black', dash='dash'),\n",
    "    hovertemplate=\n",
    "        '<b>DMG</b><br>'+\n",
    "        'CR %{x}<br>'+\n",
    "        '(AC-14) %{y:,.0f}' + \n",
    "        '<extra></extra>'\n",
    "))\n",
    "\n",
    "# show figure\n",
    "fig.update_layout(width=600, height=450)\n",
    "fig.show(config=tfb.FIG_CONFIG)\n",
    "\n",
    "# save figures\n",
    "if SAVEFIGS:\n",
    "    fig.update_layout(autosize=True, width=None, height=None)\n",
    "    tfb.save_fig_html(fig, format='large', name=f'./fig-sb-vs-cr-large')\n",
    "    tfb.save_fig_html(fig, format='small', name=f'./fig-sb-vs-cr-small')"
   ]
  },
  {
   "cell_type": "code",
   "execution_count": 61,
   "metadata": {},
   "outputs": [
    {
     "name": "stdout",
     "output_type": "stream",
     "text": [
      "CR >= 1: 14.11 + 0.39*CR\n",
      "CR >= 1: 13.97 + 0.37*CR\n"
     ]
    },
    {
     "data": {
      "application/vnd.plotly.v1+json": {
       "config": {
        "autosizable": true,
        "displayModeBar": "hover",
        "displaylogo": false,
        "doubleClick": "reset",
        "modeBarButtonsToRemove": [
         "select2d",
         "lasso2d",
         "zoom2d",
         "zoomIn2d",
         "zoomOut2d",
         "pan2d",
         "autoScale2d",
         "hoverClosestCartesian",
         "hoverCompareCartesian",
         "toggleSpikelines",
         "resetScale2d"
        ],
        "plotlyServerURL": "https://plot.ly",
        "responsive": true,
        "showAxisDragHandles": false,
        "toImageButtonOptions": {
         "filename": "tfb-plot",
         "format": "png",
         "height": 450,
         "scale": 2,
         "width": 600
        }
       },
       "data": [
        {
         "hovertemplate": "<b>monsters (adj AC)</b><br>CR %{x}<br>AC %{y:,.1f}<extra></extra>",
         "legendgroup": "monsters (adj AC)",
         "line": {
          "color": "#1f77b4"
         },
         "mode": "markers",
         "name": "monsters (adj AC)",
         "type": "scatter",
         "x": [
          1,
          2,
          3,
          4,
          5,
          6,
          7,
          8,
          9,
          10,
          11,
          12,
          13,
          14,
          15,
          16,
          17,
          18,
          19,
          20,
          21,
          22,
          23,
          24,
          25,
          26,
          27,
          28,
          30
         ],
         "y": [
          14.282758620689656,
          14.969026548672566,
          15.01025641025641,
          15.72992700729927,
          16.262857142857143,
          16.79381443298969,
          17.11111111111111,
          17.24,
          17.8625,
          18.149253731343283,
          18.723076923076924,
          18.925925925925927,
          19,
          19.473684210526315,
          19.333333333333332,
          20.8,
          20.071428571428573,
          21.192307692307693,
          21.41176470588235,
          20.526315789473685,
          22.307692307692307,
          22.041666666666668,
          22.903225806451612,
          24.105263157894736,
          23.76923076923077,
          24.38888888888889,
          23.375,
          25.571428571428573,
          27
         ]
        },
        {
         "hoverinfo": "skip",
         "hovertemplate": "<b>monsters (adj AC)</b><br>CR %{x}<br>AC %{y:,.1f}<extra></extra>",
         "legendgroup": "monsters (adj AC)",
         "line": {
          "color": "#1f77b4",
          "dash": "solid"
         },
         "mode": "lines",
         "name": "monsters (adj AC)",
         "showlegend": false,
         "type": "scatter",
         "x": [
          1,
          2,
          3,
          4,
          5,
          6,
          7,
          8,
          9,
          10,
          11,
          12,
          13,
          14,
          15,
          16,
          17,
          18,
          19,
          20,
          21,
          22,
          23,
          24,
          25,
          26,
          27,
          28,
          30
         ],
         "y": [
          14.496604283644054,
          14.884639207722064,
          15.272674131800073,
          15.660709055878081,
          16.048743979956093,
          16.4367789040341,
          16.824813828112113,
          17.21284875219012,
          17.60088367626813,
          17.98891860034614,
          18.37695352442415,
          18.76498844850216,
          19.15302337258017,
          19.54105829665818,
          19.92909322073619,
          20.3171281448142,
          20.705163068892208,
          21.093197992970218,
          21.481232917048224,
          21.869267841126238,
          22.257302765204244,
          22.645337689282258,
          23.033372613360264,
          23.421407537438274,
          23.809442461516284,
          24.197477385594294,
          24.585512309672303,
          24.973547233750313,
          25.74961708190633
         ]
        },
        {
         "hovertemplate": "<b>monsters (unadj AC + adj SB)/2</b><br>CR %{x}<br>AC %{y:,.1f}<extra></extra>",
         "legendgroup": "monsters (unadj AC + adj SB)/2",
         "line": {
          "color": "#d62728",
          "dash": "dash"
         },
         "mode": "markers",
         "name": "monsters (unadj AC + adj SB)/2",
         "type": "scatter",
         "x": [
          1,
          2,
          3,
          4,
          5,
          6,
          7,
          8,
          9,
          10,
          11,
          12,
          13,
          14,
          15,
          16,
          17,
          18,
          19,
          20,
          21,
          22,
          23,
          24,
          25,
          26,
          27,
          28,
          30
         ],
         "y": [
          14.439655172413794,
          14.870206489675518,
          15.146581196581197,
          15.713503649635037,
          16.107142857142858,
          16.414948453608247,
          16.61111111111111,
          16.793333333333333,
          17.5,
          17.83955223880597,
          18.102564102564102,
          18.37037037037037,
          18.62908496732026,
          18.861842105263158,
          18.90909090909091,
          20.004761904761907,
          20.038690476190474,
          20.62179487179487,
          21.25,
          20.140350877192983,
          21.983974358974358,
          21.68402777777778,
          22.6505376344086,
          23.539473684210527,
          23.076923076923077,
          24.462962962962962,
          23.6875,
          24.964285714285715,
          25.5
         ]
        },
        {
         "hoverinfo": "skip",
         "hovertemplate": "<b>monsters (unadj AC + adj SB)/2</b><br>CR %{x}<br>AC %{y:,.1f}<extra></extra>",
         "legendgroup": "monsters (unadj AC + adj SB)/2",
         "line": {
          "color": "#d62728",
          "dash": "solid"
         },
         "mode": "lines",
         "name": "monsters (unadj AC + adj SB)/2",
         "showlegend": false,
         "type": "scatter",
         "x": [
          1,
          2,
          3,
          4,
          5,
          6,
          7,
          8,
          9,
          10,
          11,
          12,
          13,
          14,
          15,
          16,
          17,
          18,
          19,
          20,
          21,
          22,
          23,
          24,
          25,
          26,
          27,
          28,
          30
         ],
         "y": [
          14.342878782077968,
          14.716271375729413,
          15.089663969380858,
          15.463056563032302,
          15.836449156683747,
          16.209841750335194,
          16.583234343986636,
          16.95662693763808,
          17.330019531289526,
          17.70341212494097,
          18.076804718592417,
          18.450197312243862,
          18.823589905895307,
          19.196982499546753,
          19.570375093198194,
          19.94376768684964,
          20.317160280501085,
          20.69055287415253,
          21.063945467803975,
          21.43733806145542,
          21.810730655106866,
          22.18412324875831,
          22.557515842409757,
          22.930908436061202,
          23.304301029712647,
          23.677693623364092,
          24.051086217015538,
          24.424478810666983,
          25.17126399796987
         ]
        },
        {
         "hovertemplate": "<b>DMG</b><br>CR %{x}<br>AC %{y:,.1f}<extra></extra>",
         "line": {
          "color": "black",
          "dash": "dash"
         },
         "mode": "markers+lines",
         "name": "DMG",
         "type": "scatter",
         "x": [
          1,
          2,
          3,
          4,
          5,
          6,
          7,
          8,
          9,
          10,
          11,
          12,
          13,
          14,
          15,
          16,
          17,
          18,
          19,
          20,
          21,
          22,
          23,
          24,
          25,
          26,
          27,
          28,
          29,
          30
         ],
         "y": [
          13,
          13,
          13,
          14,
          15,
          15,
          15,
          16,
          16,
          17,
          17,
          17,
          18,
          18,
          18,
          18,
          19,
          19,
          19,
          19,
          19,
          19,
          19,
          19,
          19,
          19,
          19,
          19,
          19,
          19
         ]
        }
       ],
       "layout": {
        "height": 450,
        "legend": {
         "orientation": "v",
         "tracegroupgap": 0,
         "x": 0,
         "xanchor": "left",
         "y": 1,
         "yanchor": "top"
        },
        "margin": {
         "b": 55,
         "l": 60,
         "pad": 4,
         "r": 25,
         "t": 20
        },
        "template": {
         "layout": {
          "autosize": false,
          "font": {
           "family": "sans-serif",
           "size": 14
          },
          "hoverlabel": {
           "align": "left"
          },
          "hovermode": "closest",
          "margin": {
           "b": 55,
           "l": 60,
           "pad": 4,
           "r": 25,
           "t": 20
          },
          "template": {
           "data": {
            "bar": [
             {
              "error_x": {
               "color": "#2a3f5f"
              },
              "error_y": {
               "color": "#2a3f5f"
              },
              "marker": {
               "line": {
                "color": "white",
                "width": 0.5
               },
               "pattern": {
                "fillmode": "overlay",
                "size": 10,
                "solidity": 0.2
               }
              },
              "type": "bar"
             }
            ],
            "barpolar": [
             {
              "marker": {
               "line": {
                "color": "white",
                "width": 0.5
               },
               "pattern": {
                "fillmode": "overlay",
                "size": 10,
                "solidity": 0.2
               }
              },
              "type": "barpolar"
             }
            ],
            "carpet": [
             {
              "aaxis": {
               "endlinecolor": "#2a3f5f",
               "gridcolor": "#C8D4E3",
               "linecolor": "#C8D4E3",
               "minorgridcolor": "#C8D4E3",
               "startlinecolor": "#2a3f5f"
              },
              "baxis": {
               "endlinecolor": "#2a3f5f",
               "gridcolor": "#C8D4E3",
               "linecolor": "#C8D4E3",
               "minorgridcolor": "#C8D4E3",
               "startlinecolor": "#2a3f5f"
              },
              "type": "carpet"
             }
            ],
            "choropleth": [
             {
              "colorbar": {
               "outlinewidth": 0,
               "ticks": ""
              },
              "type": "choropleth"
             }
            ],
            "contour": [
             {
              "colorbar": {
               "outlinewidth": 0,
               "ticks": ""
              },
              "colorscale": [
               [
                0,
                "#0d0887"
               ],
               [
                0.1111111111111111,
                "#46039f"
               ],
               [
                0.2222222222222222,
                "#7201a8"
               ],
               [
                0.3333333333333333,
                "#9c179e"
               ],
               [
                0.4444444444444444,
                "#bd3786"
               ],
               [
                0.5555555555555556,
                "#d8576b"
               ],
               [
                0.6666666666666666,
                "#ed7953"
               ],
               [
                0.7777777777777778,
                "#fb9f3a"
               ],
               [
                0.8888888888888888,
                "#fdca26"
               ],
               [
                1,
                "#f0f921"
               ]
              ],
              "type": "contour"
             }
            ],
            "contourcarpet": [
             {
              "colorbar": {
               "outlinewidth": 0,
               "ticks": ""
              },
              "type": "contourcarpet"
             }
            ],
            "heatmap": [
             {
              "colorbar": {
               "outlinewidth": 0,
               "ticks": ""
              },
              "colorscale": [
               [
                0,
                "#0d0887"
               ],
               [
                0.1111111111111111,
                "#46039f"
               ],
               [
                0.2222222222222222,
                "#7201a8"
               ],
               [
                0.3333333333333333,
                "#9c179e"
               ],
               [
                0.4444444444444444,
                "#bd3786"
               ],
               [
                0.5555555555555556,
                "#d8576b"
               ],
               [
                0.6666666666666666,
                "#ed7953"
               ],
               [
                0.7777777777777778,
                "#fb9f3a"
               ],
               [
                0.8888888888888888,
                "#fdca26"
               ],
               [
                1,
                "#f0f921"
               ]
              ],
              "type": "heatmap"
             }
            ],
            "heatmapgl": [
             {
              "colorbar": {
               "outlinewidth": 0,
               "ticks": ""
              },
              "colorscale": [
               [
                0,
                "#0d0887"
               ],
               [
                0.1111111111111111,
                "#46039f"
               ],
               [
                0.2222222222222222,
                "#7201a8"
               ],
               [
                0.3333333333333333,
                "#9c179e"
               ],
               [
                0.4444444444444444,
                "#bd3786"
               ],
               [
                0.5555555555555556,
                "#d8576b"
               ],
               [
                0.6666666666666666,
                "#ed7953"
               ],
               [
                0.7777777777777778,
                "#fb9f3a"
               ],
               [
                0.8888888888888888,
                "#fdca26"
               ],
               [
                1,
                "#f0f921"
               ]
              ],
              "type": "heatmapgl"
             }
            ],
            "histogram": [
             {
              "marker": {
               "pattern": {
                "fillmode": "overlay",
                "size": 10,
                "solidity": 0.2
               }
              },
              "type": "histogram"
             }
            ],
            "histogram2d": [
             {
              "colorbar": {
               "outlinewidth": 0,
               "ticks": ""
              },
              "colorscale": [
               [
                0,
                "#0d0887"
               ],
               [
                0.1111111111111111,
                "#46039f"
               ],
               [
                0.2222222222222222,
                "#7201a8"
               ],
               [
                0.3333333333333333,
                "#9c179e"
               ],
               [
                0.4444444444444444,
                "#bd3786"
               ],
               [
                0.5555555555555556,
                "#d8576b"
               ],
               [
                0.6666666666666666,
                "#ed7953"
               ],
               [
                0.7777777777777778,
                "#fb9f3a"
               ],
               [
                0.8888888888888888,
                "#fdca26"
               ],
               [
                1,
                "#f0f921"
               ]
              ],
              "type": "histogram2d"
             }
            ],
            "histogram2dcontour": [
             {
              "colorbar": {
               "outlinewidth": 0,
               "ticks": ""
              },
              "colorscale": [
               [
                0,
                "#0d0887"
               ],
               [
                0.1111111111111111,
                "#46039f"
               ],
               [
                0.2222222222222222,
                "#7201a8"
               ],
               [
                0.3333333333333333,
                "#9c179e"
               ],
               [
                0.4444444444444444,
                "#bd3786"
               ],
               [
                0.5555555555555556,
                "#d8576b"
               ],
               [
                0.6666666666666666,
                "#ed7953"
               ],
               [
                0.7777777777777778,
                "#fb9f3a"
               ],
               [
                0.8888888888888888,
                "#fdca26"
               ],
               [
                1,
                "#f0f921"
               ]
              ],
              "type": "histogram2dcontour"
             }
            ],
            "mesh3d": [
             {
              "colorbar": {
               "outlinewidth": 0,
               "ticks": ""
              },
              "type": "mesh3d"
             }
            ],
            "parcoords": [
             {
              "line": {
               "colorbar": {
                "outlinewidth": 0,
                "ticks": ""
               }
              },
              "type": "parcoords"
             }
            ],
            "pie": [
             {
              "automargin": true,
              "type": "pie"
             }
            ],
            "scatter": [
             {
              "fillpattern": {
               "fillmode": "overlay",
               "size": 10,
               "solidity": 0.2
              },
              "type": "scatter"
             }
            ],
            "scatter3d": [
             {
              "line": {
               "colorbar": {
                "outlinewidth": 0,
                "ticks": ""
               }
              },
              "marker": {
               "colorbar": {
                "outlinewidth": 0,
                "ticks": ""
               }
              },
              "type": "scatter3d"
             }
            ],
            "scattercarpet": [
             {
              "marker": {
               "colorbar": {
                "outlinewidth": 0,
                "ticks": ""
               }
              },
              "type": "scattercarpet"
             }
            ],
            "scattergeo": [
             {
              "marker": {
               "colorbar": {
                "outlinewidth": 0,
                "ticks": ""
               }
              },
              "type": "scattergeo"
             }
            ],
            "scattergl": [
             {
              "marker": {
               "colorbar": {
                "outlinewidth": 0,
                "ticks": ""
               }
              },
              "type": "scattergl"
             }
            ],
            "scattermapbox": [
             {
              "marker": {
               "colorbar": {
                "outlinewidth": 0,
                "ticks": ""
               }
              },
              "type": "scattermapbox"
             }
            ],
            "scatterpolar": [
             {
              "marker": {
               "colorbar": {
                "outlinewidth": 0,
                "ticks": ""
               }
              },
              "type": "scatterpolar"
             }
            ],
            "scatterpolargl": [
             {
              "marker": {
               "colorbar": {
                "outlinewidth": 0,
                "ticks": ""
               }
              },
              "type": "scatterpolargl"
             }
            ],
            "scatterternary": [
             {
              "marker": {
               "colorbar": {
                "outlinewidth": 0,
                "ticks": ""
               }
              },
              "type": "scatterternary"
             }
            ],
            "surface": [
             {
              "colorbar": {
               "outlinewidth": 0,
               "ticks": ""
              },
              "colorscale": [
               [
                0,
                "#0d0887"
               ],
               [
                0.1111111111111111,
                "#46039f"
               ],
               [
                0.2222222222222222,
                "#7201a8"
               ],
               [
                0.3333333333333333,
                "#9c179e"
               ],
               [
                0.4444444444444444,
                "#bd3786"
               ],
               [
                0.5555555555555556,
                "#d8576b"
               ],
               [
                0.6666666666666666,
                "#ed7953"
               ],
               [
                0.7777777777777778,
                "#fb9f3a"
               ],
               [
                0.8888888888888888,
                "#fdca26"
               ],
               [
                1,
                "#f0f921"
               ]
              ],
              "type": "surface"
             }
            ],
            "table": [
             {
              "cells": {
               "fill": {
                "color": "#EBF0F8"
               },
               "line": {
                "color": "white"
               }
              },
              "header": {
               "fill": {
                "color": "#C8D4E3"
               },
               "line": {
                "color": "white"
               }
              },
              "type": "table"
             }
            ]
           },
           "layout": {
            "annotationdefaults": {
             "arrowcolor": "#2a3f5f",
             "arrowhead": 0,
             "arrowwidth": 1
            },
            "autotypenumbers": "strict",
            "coloraxis": {
             "colorbar": {
              "outlinewidth": 0,
              "ticks": ""
             }
            },
            "colorscale": {
             "diverging": [
              [
               0,
               "#8e0152"
              ],
              [
               0.1,
               "#c51b7d"
              ],
              [
               0.2,
               "#de77ae"
              ],
              [
               0.3,
               "#f1b6da"
              ],
              [
               0.4,
               "#fde0ef"
              ],
              [
               0.5,
               "#f7f7f7"
              ],
              [
               0.6,
               "#e6f5d0"
              ],
              [
               0.7,
               "#b8e186"
              ],
              [
               0.8,
               "#7fbc41"
              ],
              [
               0.9,
               "#4d9221"
              ],
              [
               1,
               "#276419"
              ]
             ],
             "sequential": [
              [
               0,
               "#0d0887"
              ],
              [
               0.1111111111111111,
               "#46039f"
              ],
              [
               0.2222222222222222,
               "#7201a8"
              ],
              [
               0.3333333333333333,
               "#9c179e"
              ],
              [
               0.4444444444444444,
               "#bd3786"
              ],
              [
               0.5555555555555556,
               "#d8576b"
              ],
              [
               0.6666666666666666,
               "#ed7953"
              ],
              [
               0.7777777777777778,
               "#fb9f3a"
              ],
              [
               0.8888888888888888,
               "#fdca26"
              ],
              [
               1,
               "#f0f921"
              ]
             ],
             "sequentialminus": [
              [
               0,
               "#0d0887"
              ],
              [
               0.1111111111111111,
               "#46039f"
              ],
              [
               0.2222222222222222,
               "#7201a8"
              ],
              [
               0.3333333333333333,
               "#9c179e"
              ],
              [
               0.4444444444444444,
               "#bd3786"
              ],
              [
               0.5555555555555556,
               "#d8576b"
              ],
              [
               0.6666666666666666,
               "#ed7953"
              ],
              [
               0.7777777777777778,
               "#fb9f3a"
              ],
              [
               0.8888888888888888,
               "#fdca26"
              ],
              [
               1,
               "#f0f921"
              ]
             ]
            },
            "colorway": [
             "#636efa",
             "#EF553B",
             "#00cc96",
             "#ab63fa",
             "#FFA15A",
             "#19d3f3",
             "#FF6692",
             "#B6E880",
             "#FF97FF",
             "#FECB52"
            ],
            "font": {
             "color": "#2a3f5f"
            },
            "geo": {
             "bgcolor": "white",
             "lakecolor": "white",
             "landcolor": "white",
             "showlakes": true,
             "showland": true,
             "subunitcolor": "#C8D4E3"
            },
            "hoverlabel": {
             "align": "left"
            },
            "hovermode": "closest",
            "mapbox": {
             "style": "light"
            },
            "paper_bgcolor": "white",
            "plot_bgcolor": "white",
            "polar": {
             "angularaxis": {
              "gridcolor": "#EBF0F8",
              "linecolor": "#EBF0F8",
              "ticks": ""
             },
             "bgcolor": "white",
             "radialaxis": {
              "gridcolor": "#EBF0F8",
              "linecolor": "#EBF0F8",
              "ticks": ""
             }
            },
            "scene": {
             "xaxis": {
              "backgroundcolor": "white",
              "gridcolor": "#DFE8F3",
              "gridwidth": 2,
              "linecolor": "#EBF0F8",
              "showbackground": true,
              "ticks": "",
              "zerolinecolor": "#EBF0F8"
             },
             "yaxis": {
              "backgroundcolor": "white",
              "gridcolor": "#DFE8F3",
              "gridwidth": 2,
              "linecolor": "#EBF0F8",
              "showbackground": true,
              "ticks": "",
              "zerolinecolor": "#EBF0F8"
             },
             "zaxis": {
              "backgroundcolor": "white",
              "gridcolor": "#DFE8F3",
              "gridwidth": 2,
              "linecolor": "#EBF0F8",
              "showbackground": true,
              "ticks": "",
              "zerolinecolor": "#EBF0F8"
             }
            },
            "shapedefaults": {
             "line": {
              "color": "#2a3f5f"
             }
            },
            "ternary": {
             "aaxis": {
              "gridcolor": "#DFE8F3",
              "linecolor": "#A2B1C6",
              "ticks": ""
             },
             "baxis": {
              "gridcolor": "#DFE8F3",
              "linecolor": "#A2B1C6",
              "ticks": ""
             },
             "bgcolor": "white",
             "caxis": {
              "gridcolor": "#DFE8F3",
              "linecolor": "#A2B1C6",
              "ticks": ""
             }
            },
            "title": {
             "x": 0.05
            },
            "xaxis": {
             "automargin": true,
             "gridcolor": "#EBF0F8",
             "linecolor": "#EBF0F8",
             "ticks": "",
             "title": {
              "standoff": 15
             },
             "zerolinecolor": "#EBF0F8",
             "zerolinewidth": 2
            },
            "yaxis": {
             "automargin": true,
             "gridcolor": "#EBF0F8",
             "linecolor": "#EBF0F8",
             "ticks": "",
             "title": {
              "standoff": 15
             },
             "zerolinecolor": "#EBF0F8",
             "zerolinewidth": 2
            }
           }
          },
          "xaxis": {
           "automargin": false,
           "linecolor": "#444",
           "linewidth": 2,
           "minor": {
            "tickmode": "linear",
            "ticks": "outside"
           },
           "mirror": true,
           "showline": true,
           "tickmode": "linear",
           "ticks": "outside",
           "zeroline": false
          },
          "yaxis": {
           "automargin": true,
           "linecolor": "#444",
           "linewidth": 2,
           "minor": {
            "tickmode": "linear",
            "ticks": "outside"
           },
           "mirror": true,
           "showline": true,
           "ticks": "outside",
           "zeroline": false
          }
         }
        },
        "width": 600,
        "xaxis": {
         "dtick": 5,
         "minor": {
          "dtick": 1,
          "tick0": 0
         },
         "range": [
          0,
          31
         ],
         "tick0": 0,
         "title": {
          "text": "challenge rating"
         }
        },
        "yaxis": {
         "dtick": 2,
         "minor": {
          "dtick": 1,
          "tick0": 0
         },
         "range": [
          10,
          30
         ],
         "tick0": 0,
         "title": {
          "text": "armor class"
         }
        }
       }
      }
     },
     "metadata": {},
     "output_type": "display_data"
    }
   ],
   "source": [
    "# Fig. 10: plots average save bonus\n",
    "\n",
    "# create figure\n",
    "fig = go.Figure(\n",
    "    layout=go.Layout(\n",
    "        template=tfb.FIG_TEMPLATE,\n",
    "        margin=dict(l=60, r=25, b=55, t=20, pad=4),\n",
    "        xaxis=dict(\n",
    "            title_text='challenge rating',\n",
    "            range=[0,31],\n",
    "            tick0=0, dtick=5,\n",
    "            minor=dict(tick0=0, dtick=1),\n",
    "        ),\n",
    "        yaxis=dict(\n",
    "            title_text='armor class',\n",
    "            range=[10,30],\n",
    "            tick0=0, dtick=2,\n",
    "            minor=dict(tick0=0, dtick=1),\n",
    "        ),\n",
    "        legend=dict(\n",
    "            xanchor='left', yanchor='top',\n",
    "            x=0.00, y=1.00,\n",
    "            orientation='v',\n",
    "            tracegroupgap=0,\n",
    "        )\n",
    "    )\n",
    ")\n",
    "\n",
    "\n",
    "# plot published monsters\n",
    "dfM = pd.read_csv('../../assets/data/monsters.csv')\n",
    "dfM = dfM[dfM['CR'].between(1,30)]\n",
    "dfM['unadj AC'] = dfM.apply(lambda row: unadjusted_armor_class(row), axis=1)\n",
    "dfM['Ave Save'] = dfM.apply(lambda row: average_save_bonus(row), axis=1)\n",
    "dfM['Ave Save'] = dfM['Ave Save'] + dfM.apply(lambda row: 4 if 'magic resistance' in row['AC adjustments'] else 0, axis=1)\n",
    "dfM = dfM[['CR','Ave Save','AC','adj AC','unadj AC']].groupby('CR').mean().reset_index()\n",
    "dfM.sort_values(by='CR', inplace=True)\n",
    "\n",
    "plot_data_and_fit(\n",
    "    fig, \n",
    "    dfM['CR'], dfM['adj AC'], \n",
    "    name='monsters (adj AC)',\n",
    "    legendgroup='monsters (adj AC)',\n",
    "    line=dict(color=COLOR_LIST[0]),\n",
    "    hovertemplate=\n",
    "        '<b>monsters (adj AC)</b><br>'\n",
    "        'CR %{x}<br>'+\n",
    "        'AC %{y:,.1f}' + \n",
    "        '<extra></extra>',\n",
    "    print_coefficients=True,\n",
    ")\n",
    "\n",
    "plot_data_and_fit(\n",
    "    fig, \n",
    "    dfM['CR'], 0.5*(dfM['Ave Save'] + 14 + dfM['unadj AC']), \n",
    "    name='monsters (unadj AC + adj SB)/2',\n",
    "    legendgroup='monsters (unadj AC + adj SB)/2',\n",
    "    line=dict(color=COLOR_LIST[3], dash='dash'),\n",
    "    hovertemplate=\n",
    "        '<b>monsters (unadj AC + adj SB)/2</b><br>'+\n",
    "        'CR %{x}<br>'+\n",
    "        'AC %{y:,.1f}' + \n",
    "        '<extra></extra>',\n",
    "    print_coefficients=True,\n",
    ")\n",
    "\n",
    "# plot monster armor class targets\n",
    "dfD = pd.read_csv('../../assets/data/dmg-targets.csv') # 'CR','PB','AC','AB','DC'\n",
    "dfD = dfD[dfD['CR'].between(1, 30)]\n",
    "fig.add_trace(go.Scatter(\n",
    "    x=np.array(dfD['CR']), \n",
    "    y=np.array(dfD['AC']),\n",
    "    mode='markers+lines', \n",
    "    name='DMG',\n",
    "    line=dict(color='black', dash='dash'),\n",
    "    hovertemplate=\n",
    "        '<b>DMG</b><br>'\n",
    "        'CR %{x}<br>'+\n",
    "        'AC %{y:,.1f}' + \n",
    "        '<extra></extra>'\n",
    "))\n",
    "\n",
    "\n",
    "# show figure\n",
    "fig.update_layout(width=600, height=450)\n",
    "fig.show(config=tfb.FIG_CONFIG)\n",
    "\n",
    "# save figures\n",
    "if SAVEFIGS:\n",
    "    fig.update_layout(autosize=True, width=None, height=None)\n",
    "    tfb.save_fig_html(fig, format='large', name=f'./fig-adj-ac-vs-cr-large')\n",
    "    tfb.save_fig_html(fig, format='small', name=f'./fig-adj-ac-vs-cr-small')"
   ]
  },
  {
   "cell_type": "code",
   "execution_count": null,
   "metadata": {},
   "outputs": [
    {
     "name": "stderr",
     "output_type": "stream",
     "text": [
      "/Users/tom/Development/python-venv/thefinishedbook/lib/python3.10/site-packages/scipy/optimize/_minpack_py.py:1010: OptimizeWarning:\n",
      "\n",
      "Covariance of the parameters could not be estimated\n",
      "\n"
     ]
    },
    {
     "data": {
      "application/vnd.plotly.v1+json": {
       "config": {
        "autosizable": true,
        "displayModeBar": "hover",
        "displaylogo": false,
        "doubleClick": "reset",
        "modeBarButtonsToRemove": [
         "select2d",
         "lasso2d",
         "zoom2d",
         "zoomIn2d",
         "zoomOut2d",
         "pan2d",
         "autoScale2d",
         "hoverClosestCartesian",
         "hoverCompareCartesian",
         "toggleSpikelines",
         "resetScale2d"
        ],
        "plotlyServerURL": "https://plot.ly",
        "responsive": true,
        "showAxisDragHandles": false,
        "toImageButtonOptions": {
         "filename": "tfb-plot",
         "format": "png",
         "height": 450,
         "scale": 2,
         "width": 600
        }
       },
       "data": [
        {
         "hovertemplate": "<b>monsters</b><br>CR %{x}<br>eff HP %{y:,.1f}<extra></extra>",
         "legendgroup": "monsters",
         "line": {
          "color": "#1f77b4"
         },
         "marker": {
          "color": "#1f77b4"
         },
         "mode": "markers",
         "name": "monsters",
         "type": "scatter",
         "x": [
          1,
          2,
          3,
          4,
          5,
          6,
          7,
          8,
          9,
          10,
          11,
          12,
          13,
          14,
          15,
          16,
          17,
          18,
          19,
          20,
          21,
          22,
          23,
          24,
          25,
          26,
          27,
          28,
          30
         ],
         "y": [
          47.00453625473537,
          71.77024692253808,
          105.22201610622665,
          138.62816414372747,
          171.3294941366494,
          190.8265696426191,
          238.04316710298204,
          264.23954650724556,
          303.47893993249284,
          363.5211970342181,
          406.81943763733966,
          430.9612269355723,
          496.5262991177952,
          554.050579030484,
          564.6356881988122,
          681.4246476785866,
          705.8677410187114,
          821.8589241106664,
          835.4856828268165,
          939.6781307142886,
          1013.5624700215093,
          1184.302672444662,
          1441.2216027057964,
          1689.9759342694203,
          1673.2333777928325,
          2091.0933560042845,
          2100.2854724008303,
          2265.8603463584286,
          3103.3678956238637
         ]
        },
        {
         "hoverinfo": "skip",
         "hovertemplate": "<b>monsters</b><br>CR %{x}<br>eff HP %{y:,.1f}<extra></extra>",
         "legendgroup": "monsters",
         "line": {
          "color": "#1f77b4",
          "dash": "solid"
         },
         "marker": {
          "color": "#1f77b4"
         },
         "mode": "lines",
         "name": "monsters",
         "showlegend": false,
         "type": "scatter",
         "x": [
          1,
          2,
          3,
          4,
          5,
          6,
          7,
          8,
          9,
          10,
          11,
          12,
          13,
          14,
          15,
          16,
          17,
          18,
          19,
          20,
          21,
          22,
          23,
          24,
          25,
          26,
          27,
          28,
          30
         ],
         "y": [
          -6.2227332081902205,
          37.557320618715266,
          81.33737444562064,
          125.11742827252601,
          168.8974820994315,
          212.67753592633676,
          256.45758975324225,
          300.23764358014773,
          344.017697407053,
          387.7977512339585,
          431.57780506086397,
          475.3578588877692,
          519.1379127146747,
          562.9179665415802,
          606.6980203684855,
          650.478074195391,
          694.2581280222964,
          738.0381818492017,
          781.8182356761072,
          825.5982895030124,
          1027.122967916977,
          1228.6476463309414,
          1430.1723247449058,
          1631.6970031588703,
          1833.2216815728348,
          2034.7463599867983,
          2236.271038400763,
          2437.7957168147273,
          2840.8450736426553
         ]
        },
        {
         "hovertemplate": "<b>DMG</b><br>CR %{x}<br>eff DPR %{y:,.1f}<extra></extra>",
         "line": {
          "color": "black",
          "dash": "dash"
         },
         "mode": "markers+lines",
         "name": "DMG",
         "type": "scatter",
         "x": [
          1,
          2,
          3,
          4,
          5,
          6,
          7,
          8,
          9,
          10,
          11,
          12,
          13,
          14,
          15,
          16,
          17,
          18,
          19,
          20,
          21,
          22,
          23,
          24,
          25,
          26,
          27,
          28,
          29,
          30
         ],
         "y": [
          131.94657293766875,
          157.32091388722046,
          182.69525483677214,
          224.07494930834872,
          270.7397136108379,
          300.16794335114633,
          329.59617309145483,
          386.6416645880527,
          418.3336043083849,
          484.6428935693875,
          518.7726748066684,
          552.9024560439492,
          632.18856322594,
          668.943712250704,
          705.698861275468,
          742.454010300232,
          839.1483254269185,
          878.7307936074335,
          918.3132617879486,
          997.4781981489785,
          1116.2256026905238,
          1234.9730072320688,
          1353.7204117736137,
          1472.4678163151589,
          1591.215220856704,
          1709.9626253982492,
          1828.710029939794,
          1947.457434481339,
          2066.2048390228842,
          2184.952243564429
         ]
        }
       ],
       "layout": {
        "height": 450,
        "legend": {
         "orientation": "v",
         "tracegroupgap": 0,
         "x": 0,
         "xanchor": "left",
         "y": 1,
         "yanchor": "top"
        },
        "margin": {
         "b": 55,
         "l": 70,
         "pad": 4,
         "r": 25,
         "t": 20
        },
        "template": {
         "layout": {
          "autosize": false,
          "font": {
           "family": "sans-serif",
           "size": 14
          },
          "hoverlabel": {
           "align": "left"
          },
          "hovermode": "closest",
          "margin": {
           "b": 55,
           "l": 60,
           "pad": 4,
           "r": 25,
           "t": 20
          },
          "template": {
           "data": {
            "bar": [
             {
              "error_x": {
               "color": "#2a3f5f"
              },
              "error_y": {
               "color": "#2a3f5f"
              },
              "marker": {
               "line": {
                "color": "white",
                "width": 0.5
               },
               "pattern": {
                "fillmode": "overlay",
                "size": 10,
                "solidity": 0.2
               }
              },
              "type": "bar"
             }
            ],
            "barpolar": [
             {
              "marker": {
               "line": {
                "color": "white",
                "width": 0.5
               },
               "pattern": {
                "fillmode": "overlay",
                "size": 10,
                "solidity": 0.2
               }
              },
              "type": "barpolar"
             }
            ],
            "carpet": [
             {
              "aaxis": {
               "endlinecolor": "#2a3f5f",
               "gridcolor": "#C8D4E3",
               "linecolor": "#C8D4E3",
               "minorgridcolor": "#C8D4E3",
               "startlinecolor": "#2a3f5f"
              },
              "baxis": {
               "endlinecolor": "#2a3f5f",
               "gridcolor": "#C8D4E3",
               "linecolor": "#C8D4E3",
               "minorgridcolor": "#C8D4E3",
               "startlinecolor": "#2a3f5f"
              },
              "type": "carpet"
             }
            ],
            "choropleth": [
             {
              "colorbar": {
               "outlinewidth": 0,
               "ticks": ""
              },
              "type": "choropleth"
             }
            ],
            "contour": [
             {
              "colorbar": {
               "outlinewidth": 0,
               "ticks": ""
              },
              "colorscale": [
               [
                0,
                "#0d0887"
               ],
               [
                0.1111111111111111,
                "#46039f"
               ],
               [
                0.2222222222222222,
                "#7201a8"
               ],
               [
                0.3333333333333333,
                "#9c179e"
               ],
               [
                0.4444444444444444,
                "#bd3786"
               ],
               [
                0.5555555555555556,
                "#d8576b"
               ],
               [
                0.6666666666666666,
                "#ed7953"
               ],
               [
                0.7777777777777778,
                "#fb9f3a"
               ],
               [
                0.8888888888888888,
                "#fdca26"
               ],
               [
                1,
                "#f0f921"
               ]
              ],
              "type": "contour"
             }
            ],
            "contourcarpet": [
             {
              "colorbar": {
               "outlinewidth": 0,
               "ticks": ""
              },
              "type": "contourcarpet"
             }
            ],
            "heatmap": [
             {
              "colorbar": {
               "outlinewidth": 0,
               "ticks": ""
              },
              "colorscale": [
               [
                0,
                "#0d0887"
               ],
               [
                0.1111111111111111,
                "#46039f"
               ],
               [
                0.2222222222222222,
                "#7201a8"
               ],
               [
                0.3333333333333333,
                "#9c179e"
               ],
               [
                0.4444444444444444,
                "#bd3786"
               ],
               [
                0.5555555555555556,
                "#d8576b"
               ],
               [
                0.6666666666666666,
                "#ed7953"
               ],
               [
                0.7777777777777778,
                "#fb9f3a"
               ],
               [
                0.8888888888888888,
                "#fdca26"
               ],
               [
                1,
                "#f0f921"
               ]
              ],
              "type": "heatmap"
             }
            ],
            "heatmapgl": [
             {
              "colorbar": {
               "outlinewidth": 0,
               "ticks": ""
              },
              "colorscale": [
               [
                0,
                "#0d0887"
               ],
               [
                0.1111111111111111,
                "#46039f"
               ],
               [
                0.2222222222222222,
                "#7201a8"
               ],
               [
                0.3333333333333333,
                "#9c179e"
               ],
               [
                0.4444444444444444,
                "#bd3786"
               ],
               [
                0.5555555555555556,
                "#d8576b"
               ],
               [
                0.6666666666666666,
                "#ed7953"
               ],
               [
                0.7777777777777778,
                "#fb9f3a"
               ],
               [
                0.8888888888888888,
                "#fdca26"
               ],
               [
                1,
                "#f0f921"
               ]
              ],
              "type": "heatmapgl"
             }
            ],
            "histogram": [
             {
              "marker": {
               "pattern": {
                "fillmode": "overlay",
                "size": 10,
                "solidity": 0.2
               }
              },
              "type": "histogram"
             }
            ],
            "histogram2d": [
             {
              "colorbar": {
               "outlinewidth": 0,
               "ticks": ""
              },
              "colorscale": [
               [
                0,
                "#0d0887"
               ],
               [
                0.1111111111111111,
                "#46039f"
               ],
               [
                0.2222222222222222,
                "#7201a8"
               ],
               [
                0.3333333333333333,
                "#9c179e"
               ],
               [
                0.4444444444444444,
                "#bd3786"
               ],
               [
                0.5555555555555556,
                "#d8576b"
               ],
               [
                0.6666666666666666,
                "#ed7953"
               ],
               [
                0.7777777777777778,
                "#fb9f3a"
               ],
               [
                0.8888888888888888,
                "#fdca26"
               ],
               [
                1,
                "#f0f921"
               ]
              ],
              "type": "histogram2d"
             }
            ],
            "histogram2dcontour": [
             {
              "colorbar": {
               "outlinewidth": 0,
               "ticks": ""
              },
              "colorscale": [
               [
                0,
                "#0d0887"
               ],
               [
                0.1111111111111111,
                "#46039f"
               ],
               [
                0.2222222222222222,
                "#7201a8"
               ],
               [
                0.3333333333333333,
                "#9c179e"
               ],
               [
                0.4444444444444444,
                "#bd3786"
               ],
               [
                0.5555555555555556,
                "#d8576b"
               ],
               [
                0.6666666666666666,
                "#ed7953"
               ],
               [
                0.7777777777777778,
                "#fb9f3a"
               ],
               [
                0.8888888888888888,
                "#fdca26"
               ],
               [
                1,
                "#f0f921"
               ]
              ],
              "type": "histogram2dcontour"
             }
            ],
            "mesh3d": [
             {
              "colorbar": {
               "outlinewidth": 0,
               "ticks": ""
              },
              "type": "mesh3d"
             }
            ],
            "parcoords": [
             {
              "line": {
               "colorbar": {
                "outlinewidth": 0,
                "ticks": ""
               }
              },
              "type": "parcoords"
             }
            ],
            "pie": [
             {
              "automargin": true,
              "type": "pie"
             }
            ],
            "scatter": [
             {
              "fillpattern": {
               "fillmode": "overlay",
               "size": 10,
               "solidity": 0.2
              },
              "type": "scatter"
             }
            ],
            "scatter3d": [
             {
              "line": {
               "colorbar": {
                "outlinewidth": 0,
                "ticks": ""
               }
              },
              "marker": {
               "colorbar": {
                "outlinewidth": 0,
                "ticks": ""
               }
              },
              "type": "scatter3d"
             }
            ],
            "scattercarpet": [
             {
              "marker": {
               "colorbar": {
                "outlinewidth": 0,
                "ticks": ""
               }
              },
              "type": "scattercarpet"
             }
            ],
            "scattergeo": [
             {
              "marker": {
               "colorbar": {
                "outlinewidth": 0,
                "ticks": ""
               }
              },
              "type": "scattergeo"
             }
            ],
            "scattergl": [
             {
              "marker": {
               "colorbar": {
                "outlinewidth": 0,
                "ticks": ""
               }
              },
              "type": "scattergl"
             }
            ],
            "scattermapbox": [
             {
              "marker": {
               "colorbar": {
                "outlinewidth": 0,
                "ticks": ""
               }
              },
              "type": "scattermapbox"
             }
            ],
            "scatterpolar": [
             {
              "marker": {
               "colorbar": {
                "outlinewidth": 0,
                "ticks": ""
               }
              },
              "type": "scatterpolar"
             }
            ],
            "scatterpolargl": [
             {
              "marker": {
               "colorbar": {
                "outlinewidth": 0,
                "ticks": ""
               }
              },
              "type": "scatterpolargl"
             }
            ],
            "scatterternary": [
             {
              "marker": {
               "colorbar": {
                "outlinewidth": 0,
                "ticks": ""
               }
              },
              "type": "scatterternary"
             }
            ],
            "surface": [
             {
              "colorbar": {
               "outlinewidth": 0,
               "ticks": ""
              },
              "colorscale": [
               [
                0,
                "#0d0887"
               ],
               [
                0.1111111111111111,
                "#46039f"
               ],
               [
                0.2222222222222222,
                "#7201a8"
               ],
               [
                0.3333333333333333,
                "#9c179e"
               ],
               [
                0.4444444444444444,
                "#bd3786"
               ],
               [
                0.5555555555555556,
                "#d8576b"
               ],
               [
                0.6666666666666666,
                "#ed7953"
               ],
               [
                0.7777777777777778,
                "#fb9f3a"
               ],
               [
                0.8888888888888888,
                "#fdca26"
               ],
               [
                1,
                "#f0f921"
               ]
              ],
              "type": "surface"
             }
            ],
            "table": [
             {
              "cells": {
               "fill": {
                "color": "#EBF0F8"
               },
               "line": {
                "color": "white"
               }
              },
              "header": {
               "fill": {
                "color": "#C8D4E3"
               },
               "line": {
                "color": "white"
               }
              },
              "type": "table"
             }
            ]
           },
           "layout": {
            "annotationdefaults": {
             "arrowcolor": "#2a3f5f",
             "arrowhead": 0,
             "arrowwidth": 1
            },
            "autotypenumbers": "strict",
            "coloraxis": {
             "colorbar": {
              "outlinewidth": 0,
              "ticks": ""
             }
            },
            "colorscale": {
             "diverging": [
              [
               0,
               "#8e0152"
              ],
              [
               0.1,
               "#c51b7d"
              ],
              [
               0.2,
               "#de77ae"
              ],
              [
               0.3,
               "#f1b6da"
              ],
              [
               0.4,
               "#fde0ef"
              ],
              [
               0.5,
               "#f7f7f7"
              ],
              [
               0.6,
               "#e6f5d0"
              ],
              [
               0.7,
               "#b8e186"
              ],
              [
               0.8,
               "#7fbc41"
              ],
              [
               0.9,
               "#4d9221"
              ],
              [
               1,
               "#276419"
              ]
             ],
             "sequential": [
              [
               0,
               "#0d0887"
              ],
              [
               0.1111111111111111,
               "#46039f"
              ],
              [
               0.2222222222222222,
               "#7201a8"
              ],
              [
               0.3333333333333333,
               "#9c179e"
              ],
              [
               0.4444444444444444,
               "#bd3786"
              ],
              [
               0.5555555555555556,
               "#d8576b"
              ],
              [
               0.6666666666666666,
               "#ed7953"
              ],
              [
               0.7777777777777778,
               "#fb9f3a"
              ],
              [
               0.8888888888888888,
               "#fdca26"
              ],
              [
               1,
               "#f0f921"
              ]
             ],
             "sequentialminus": [
              [
               0,
               "#0d0887"
              ],
              [
               0.1111111111111111,
               "#46039f"
              ],
              [
               0.2222222222222222,
               "#7201a8"
              ],
              [
               0.3333333333333333,
               "#9c179e"
              ],
              [
               0.4444444444444444,
               "#bd3786"
              ],
              [
               0.5555555555555556,
               "#d8576b"
              ],
              [
               0.6666666666666666,
               "#ed7953"
              ],
              [
               0.7777777777777778,
               "#fb9f3a"
              ],
              [
               0.8888888888888888,
               "#fdca26"
              ],
              [
               1,
               "#f0f921"
              ]
             ]
            },
            "colorway": [
             "#636efa",
             "#EF553B",
             "#00cc96",
             "#ab63fa",
             "#FFA15A",
             "#19d3f3",
             "#FF6692",
             "#B6E880",
             "#FF97FF",
             "#FECB52"
            ],
            "font": {
             "color": "#2a3f5f"
            },
            "geo": {
             "bgcolor": "white",
             "lakecolor": "white",
             "landcolor": "white",
             "showlakes": true,
             "showland": true,
             "subunitcolor": "#C8D4E3"
            },
            "hoverlabel": {
             "align": "left"
            },
            "hovermode": "closest",
            "mapbox": {
             "style": "light"
            },
            "paper_bgcolor": "white",
            "plot_bgcolor": "white",
            "polar": {
             "angularaxis": {
              "gridcolor": "#EBF0F8",
              "linecolor": "#EBF0F8",
              "ticks": ""
             },
             "bgcolor": "white",
             "radialaxis": {
              "gridcolor": "#EBF0F8",
              "linecolor": "#EBF0F8",
              "ticks": ""
             }
            },
            "scene": {
             "xaxis": {
              "backgroundcolor": "white",
              "gridcolor": "#DFE8F3",
              "gridwidth": 2,
              "linecolor": "#EBF0F8",
              "showbackground": true,
              "ticks": "",
              "zerolinecolor": "#EBF0F8"
             },
             "yaxis": {
              "backgroundcolor": "white",
              "gridcolor": "#DFE8F3",
              "gridwidth": 2,
              "linecolor": "#EBF0F8",
              "showbackground": true,
              "ticks": "",
              "zerolinecolor": "#EBF0F8"
             },
             "zaxis": {
              "backgroundcolor": "white",
              "gridcolor": "#DFE8F3",
              "gridwidth": 2,
              "linecolor": "#EBF0F8",
              "showbackground": true,
              "ticks": "",
              "zerolinecolor": "#EBF0F8"
             }
            },
            "shapedefaults": {
             "line": {
              "color": "#2a3f5f"
             }
            },
            "ternary": {
             "aaxis": {
              "gridcolor": "#DFE8F3",
              "linecolor": "#A2B1C6",
              "ticks": ""
             },
             "baxis": {
              "gridcolor": "#DFE8F3",
              "linecolor": "#A2B1C6",
              "ticks": ""
             },
             "bgcolor": "white",
             "caxis": {
              "gridcolor": "#DFE8F3",
              "linecolor": "#A2B1C6",
              "ticks": ""
             }
            },
            "title": {
             "x": 0.05
            },
            "xaxis": {
             "automargin": true,
             "gridcolor": "#EBF0F8",
             "linecolor": "#EBF0F8",
             "ticks": "",
             "title": {
              "standoff": 15
             },
             "zerolinecolor": "#EBF0F8",
             "zerolinewidth": 2
            },
            "yaxis": {
             "automargin": true,
             "gridcolor": "#EBF0F8",
             "linecolor": "#EBF0F8",
             "ticks": "",
             "title": {
              "standoff": 15
             },
             "zerolinecolor": "#EBF0F8",
             "zerolinewidth": 2
            }
           }
          },
          "xaxis": {
           "automargin": false,
           "linecolor": "#444",
           "linewidth": 2,
           "minor": {
            "tickmode": "linear",
            "ticks": "outside"
           },
           "mirror": true,
           "showline": true,
           "tickmode": "linear",
           "ticks": "outside",
           "zeroline": false
          },
          "yaxis": {
           "automargin": true,
           "linecolor": "#444",
           "linewidth": 2,
           "minor": {
            "tickmode": "linear",
            "ticks": "outside"
           },
           "mirror": true,
           "showline": true,
           "ticks": "outside",
           "zeroline": false
          }
         }
        },
        "width": 600,
        "xaxis": {
         "dtick": 5,
         "minor": {
          "dtick": 1,
          "tick0": 0
         },
         "range": [
          0,
          31
         ],
         "tick0": 0,
         "title": {
          "text": "challenge rating"
         }
        },
        "yaxis": {
         "dtick": 500,
         "minor": {
          "dtick": 100,
          "tick0": 0
         },
         "range": [
          0,
          3000
         ],
         "tick0": 0,
         "title": {
          "text": "effective hit points"
         }
        }
       }
      }
     },
     "metadata": {},
     "output_type": "display_data"
    }
   ],
   "source": [
    "# Fig. 11: plots monster effective HP vs CR\n",
    "import sys\n",
    "sys.path.append('../../assets/python/')\n",
    "import estats5e as e5\n",
    "\n",
    "# create figure\n",
    "fig = go.Figure(\n",
    "    layout=go.Layout(\n",
    "        template=tfb.FIG_TEMPLATE,\n",
    "        margin=dict(l=70, r=25, b=55, t=20, pad=4),\n",
    "        xaxis=dict(\n",
    "            title_text='challenge rating',\n",
    "            range=[0,31],\n",
    "            tick0=0, dtick=5,\n",
    "            minor=dict(tick0=0, dtick=1),\n",
    "        ),\n",
    "        yaxis=dict(\n",
    "            title_text='effective hit points',\n",
    "            range=[0,3000],\n",
    "            tick0=0, dtick=500,\n",
    "            minor=dict(tick0=0, dtick=100),\n",
    "        ),\n",
    "        legend=dict(\n",
    "            xanchor='left', yanchor='top',\n",
    "            x=0.00, y=1.00,\n",
    "            orientation='v',\n",
    "            tracegroupgap=0,\n",
    "        )\n",
    "    )\n",
    ")\n",
    "\n",
    "# get monster data\n",
    "dfM = pd.read_csv('../../assets/data/monsters.csv')\n",
    "dfM['unadj AC'] = dfM.apply(lambda row: unadjusted_armor_class(row), axis=1)\n",
    "dfM['Ave Save'] = dfM.apply(lambda row: average_save_bonus(row), axis=1)\n",
    "dfM['Ave Save'] = dfM['Ave Save'] + dfM.apply(lambda row: 4 if 'magic resistance' in row['AC adjustments'] else 0, axis=1)\n",
    "dfM['eff AC'] = 0.5*(dfM['Ave Save']+14 + dfM['unadj AC'])\n",
    "dfM['eHP'] = dfM.apply(lambda row: e5.effHP(row['adj HP'], row['eff AC'], 'exp'), axis=1)\n",
    "dfM = dfM[['CR','eHP']].groupby(['CR']).mean().reset_index()\n",
    "dfM = dfM[dfM['CR'].between(1, 30)]\n",
    "\n",
    "# plot adjusted damage per round\n",
    "fig, y = plot_data_and_piecewise_fit(\n",
    "    fig, dfM['CR'].to_numpy(), \n",
    "    dfM['eHP'].to_numpy(), \n",
    "    name='monsters', legendgroup='monsters', \n",
    "    line_color=COLOR_LIST[0],\n",
    "    marker_color=COLOR_LIST[0],\n",
    "    hovertemplate=\n",
    "        '<b>monsters</b><br>'\n",
    "        'CR %{x}<br>'+\n",
    "        'eff HP %{y:,.1f}' + \n",
    "        '<extra></extra>'\n",
    ")\n",
    "\n",
    "# plot reference line\n",
    "dfD0 = pd.read_csv('../../assets/data/dmg-targets.csv') # 'CR','XP','HP Mean','AC','DPR Mean','AB'\n",
    "dfD0['eHP'] = dfD0.apply(lambda row: e5.effDPR(row['HP Mean'], row['AC'], 'exp'), axis=1)\n",
    "dfD0 = dfD0[dfD0['CR'].between(1,30)]\n",
    "fig.add_trace(go.Scatter(\n",
    "    x=dfD0['CR'], y=dfD0['eHP'],\n",
    "    mode='markers+lines', \n",
    "    name='DMG',\n",
    "    line=dict(color='black', dash='dash'),\n",
    "    #hoverinfo='skip', \n",
    "    hovertemplate=\n",
    "        '<b>DMG</b><br>'\n",
    "        'CR %{x}<br>'+\n",
    "        'eff DPR %{y:,.1f}' + \n",
    "        '<extra></extra>'\n",
    "))\n",
    "\n",
    "# show figure\n",
    "fig.update_layout(width=600, height=450)\n",
    "fig.show(config=tfb.FIG_CONFIG)\n",
    "\n",
    "# save figures\n",
    "if SAVEFIGS:\n",
    "    fig.update_layout(autosize=True, width=None, height=None)\n",
    "    tfb.save_fig_html(fig, format='large', name='fig-eff-hp-vs-cr-large')\n",
    "    tfb.save_fig_html(fig, format='small', name='fig-eff-hp-vs-cr-small')"
   ]
  },
  {
   "cell_type": "code",
   "execution_count": 62,
   "metadata": {},
   "outputs": [
    {
     "name": "stdout",
     "output_type": "stream",
     "text": [
      "0.6621674299012154\n",
      "0.5352625308279431\n"
     ]
    },
    {
     "data": {
      "application/vnd.plotly.v1+json": {
       "config": {
        "autosizable": true,
        "displayModeBar": "hover",
        "displaylogo": false,
        "doubleClick": "reset",
        "modeBarButtonsToRemove": [
         "select2d",
         "lasso2d",
         "zoom2d",
         "zoomIn2d",
         "zoomOut2d",
         "pan2d",
         "autoScale2d",
         "hoverClosestCartesian",
         "hoverCompareCartesian",
         "toggleSpikelines",
         "resetScale2d"
        ],
        "plotlyServerURL": "https://plot.ly",
        "responsive": true,
        "showAxisDragHandles": false,
        "toImageButtonOptions": {
         "filename": "tfb-plot",
         "format": "png",
         "height": 450,
         "scale": 2,
         "width": 600
        }
       },
       "data": [
        {
         "hovertemplate": "<b>Attacks</b><br>Level %{x}<br>Hit Probability %{y:,.1%}<extra></extra>",
         "mode": "markers+lines",
         "name": "attacks",
         "type": "scatter",
         "x": [
          1,
          2,
          3,
          4,
          5,
          6,
          7,
          8,
          9,
          10,
          11,
          12,
          13,
          14,
          15,
          16,
          17,
          18,
          19,
          20
         ],
         "y": [
          0.6293103448275863,
          0.5957964601769912,
          0.5807692307692308,
          0.6244525547445257,
          0.6474285714285715,
          0.6350515463917525,
          0.613425925925926,
          0.661,
          0.6956250000000002,
          0.6895522388059702,
          0.6676923076923077,
          0.6805555555555556,
          0.7205882352941176,
          0.6986842105263158,
          0.687878787878788,
          0.6414285714285715,
          0.7160714285714287,
          0.6769230769230771,
          0.6705882352941176,
          0.7105263157894737
         ]
        },
        {
         "hovertemplate": "<b>Saving Throws</b><br>Level %{x}<br>Fail Probability %{y:,.1%}<extra></extra>",
         "mode": "markers+lines",
         "name": "saving throws",
         "type": "scatter",
         "x": [
          1,
          2,
          3,
          4,
          5,
          6,
          7,
          8,
          9,
          10,
          11,
          12,
          13,
          14,
          15,
          16,
          17,
          18,
          19,
          20
         ],
         "y": [
          0.5563793103448277,
          0.5490412979351033,
          0.5235470085470085,
          0.5425182481751825,
          0.5784285714285714,
          0.5621134020618558,
          0.549074074074074,
          0.5896666666666667,
          0.601875,
          0.5533582089552239,
          0.5520512820512821,
          0.5296296296296296,
          0.5429738562091504,
          0.5322368421052632,
          0.546969696969697,
          0.4895238095238096,
          0.5032738095238095,
          0.48589743589743595,
          0.40441176470588236,
          0.512280701754386
         ]
        },
        {
         "hoverinfo": "skip",
         "line": {
          "color": "black",
          "dash": "dash"
         },
         "mode": "lines",
         "name": "monsters",
         "showlegend": false,
         "type": "scatter",
         "x": [
          1,
          20
         ],
         "y": [
          0.65,
          0.65
         ]
        }
       ],
       "layout": {
        "height": 450,
        "legend": {
         "orientation": "v",
         "tracegroupgap": 0,
         "x": 0,
         "xanchor": "left",
         "y": 1,
         "yanchor": "top"
        },
        "margin": {
         "b": 55,
         "l": 60,
         "pad": 4,
         "r": 25,
         "t": 20
        },
        "template": {
         "layout": {
          "autosize": false,
          "font": {
           "family": "sans-serif",
           "size": 14
          },
          "hoverlabel": {
           "align": "left"
          },
          "hovermode": "closest",
          "margin": {
           "b": 55,
           "l": 60,
           "pad": 4,
           "r": 25,
           "t": 20
          },
          "template": {
           "data": {
            "bar": [
             {
              "error_x": {
               "color": "#2a3f5f"
              },
              "error_y": {
               "color": "#2a3f5f"
              },
              "marker": {
               "line": {
                "color": "white",
                "width": 0.5
               },
               "pattern": {
                "fillmode": "overlay",
                "size": 10,
                "solidity": 0.2
               }
              },
              "type": "bar"
             }
            ],
            "barpolar": [
             {
              "marker": {
               "line": {
                "color": "white",
                "width": 0.5
               },
               "pattern": {
                "fillmode": "overlay",
                "size": 10,
                "solidity": 0.2
               }
              },
              "type": "barpolar"
             }
            ],
            "carpet": [
             {
              "aaxis": {
               "endlinecolor": "#2a3f5f",
               "gridcolor": "#C8D4E3",
               "linecolor": "#C8D4E3",
               "minorgridcolor": "#C8D4E3",
               "startlinecolor": "#2a3f5f"
              },
              "baxis": {
               "endlinecolor": "#2a3f5f",
               "gridcolor": "#C8D4E3",
               "linecolor": "#C8D4E3",
               "minorgridcolor": "#C8D4E3",
               "startlinecolor": "#2a3f5f"
              },
              "type": "carpet"
             }
            ],
            "choropleth": [
             {
              "colorbar": {
               "outlinewidth": 0,
               "ticks": ""
              },
              "type": "choropleth"
             }
            ],
            "contour": [
             {
              "colorbar": {
               "outlinewidth": 0,
               "ticks": ""
              },
              "colorscale": [
               [
                0,
                "#0d0887"
               ],
               [
                0.1111111111111111,
                "#46039f"
               ],
               [
                0.2222222222222222,
                "#7201a8"
               ],
               [
                0.3333333333333333,
                "#9c179e"
               ],
               [
                0.4444444444444444,
                "#bd3786"
               ],
               [
                0.5555555555555556,
                "#d8576b"
               ],
               [
                0.6666666666666666,
                "#ed7953"
               ],
               [
                0.7777777777777778,
                "#fb9f3a"
               ],
               [
                0.8888888888888888,
                "#fdca26"
               ],
               [
                1,
                "#f0f921"
               ]
              ],
              "type": "contour"
             }
            ],
            "contourcarpet": [
             {
              "colorbar": {
               "outlinewidth": 0,
               "ticks": ""
              },
              "type": "contourcarpet"
             }
            ],
            "heatmap": [
             {
              "colorbar": {
               "outlinewidth": 0,
               "ticks": ""
              },
              "colorscale": [
               [
                0,
                "#0d0887"
               ],
               [
                0.1111111111111111,
                "#46039f"
               ],
               [
                0.2222222222222222,
                "#7201a8"
               ],
               [
                0.3333333333333333,
                "#9c179e"
               ],
               [
                0.4444444444444444,
                "#bd3786"
               ],
               [
                0.5555555555555556,
                "#d8576b"
               ],
               [
                0.6666666666666666,
                "#ed7953"
               ],
               [
                0.7777777777777778,
                "#fb9f3a"
               ],
               [
                0.8888888888888888,
                "#fdca26"
               ],
               [
                1,
                "#f0f921"
               ]
              ],
              "type": "heatmap"
             }
            ],
            "heatmapgl": [
             {
              "colorbar": {
               "outlinewidth": 0,
               "ticks": ""
              },
              "colorscale": [
               [
                0,
                "#0d0887"
               ],
               [
                0.1111111111111111,
                "#46039f"
               ],
               [
                0.2222222222222222,
                "#7201a8"
               ],
               [
                0.3333333333333333,
                "#9c179e"
               ],
               [
                0.4444444444444444,
                "#bd3786"
               ],
               [
                0.5555555555555556,
                "#d8576b"
               ],
               [
                0.6666666666666666,
                "#ed7953"
               ],
               [
                0.7777777777777778,
                "#fb9f3a"
               ],
               [
                0.8888888888888888,
                "#fdca26"
               ],
               [
                1,
                "#f0f921"
               ]
              ],
              "type": "heatmapgl"
             }
            ],
            "histogram": [
             {
              "marker": {
               "pattern": {
                "fillmode": "overlay",
                "size": 10,
                "solidity": 0.2
               }
              },
              "type": "histogram"
             }
            ],
            "histogram2d": [
             {
              "colorbar": {
               "outlinewidth": 0,
               "ticks": ""
              },
              "colorscale": [
               [
                0,
                "#0d0887"
               ],
               [
                0.1111111111111111,
                "#46039f"
               ],
               [
                0.2222222222222222,
                "#7201a8"
               ],
               [
                0.3333333333333333,
                "#9c179e"
               ],
               [
                0.4444444444444444,
                "#bd3786"
               ],
               [
                0.5555555555555556,
                "#d8576b"
               ],
               [
                0.6666666666666666,
                "#ed7953"
               ],
               [
                0.7777777777777778,
                "#fb9f3a"
               ],
               [
                0.8888888888888888,
                "#fdca26"
               ],
               [
                1,
                "#f0f921"
               ]
              ],
              "type": "histogram2d"
             }
            ],
            "histogram2dcontour": [
             {
              "colorbar": {
               "outlinewidth": 0,
               "ticks": ""
              },
              "colorscale": [
               [
                0,
                "#0d0887"
               ],
               [
                0.1111111111111111,
                "#46039f"
               ],
               [
                0.2222222222222222,
                "#7201a8"
               ],
               [
                0.3333333333333333,
                "#9c179e"
               ],
               [
                0.4444444444444444,
                "#bd3786"
               ],
               [
                0.5555555555555556,
                "#d8576b"
               ],
               [
                0.6666666666666666,
                "#ed7953"
               ],
               [
                0.7777777777777778,
                "#fb9f3a"
               ],
               [
                0.8888888888888888,
                "#fdca26"
               ],
               [
                1,
                "#f0f921"
               ]
              ],
              "type": "histogram2dcontour"
             }
            ],
            "mesh3d": [
             {
              "colorbar": {
               "outlinewidth": 0,
               "ticks": ""
              },
              "type": "mesh3d"
             }
            ],
            "parcoords": [
             {
              "line": {
               "colorbar": {
                "outlinewidth": 0,
                "ticks": ""
               }
              },
              "type": "parcoords"
             }
            ],
            "pie": [
             {
              "automargin": true,
              "type": "pie"
             }
            ],
            "scatter": [
             {
              "fillpattern": {
               "fillmode": "overlay",
               "size": 10,
               "solidity": 0.2
              },
              "type": "scatter"
             }
            ],
            "scatter3d": [
             {
              "line": {
               "colorbar": {
                "outlinewidth": 0,
                "ticks": ""
               }
              },
              "marker": {
               "colorbar": {
                "outlinewidth": 0,
                "ticks": ""
               }
              },
              "type": "scatter3d"
             }
            ],
            "scattercarpet": [
             {
              "marker": {
               "colorbar": {
                "outlinewidth": 0,
                "ticks": ""
               }
              },
              "type": "scattercarpet"
             }
            ],
            "scattergeo": [
             {
              "marker": {
               "colorbar": {
                "outlinewidth": 0,
                "ticks": ""
               }
              },
              "type": "scattergeo"
             }
            ],
            "scattergl": [
             {
              "marker": {
               "colorbar": {
                "outlinewidth": 0,
                "ticks": ""
               }
              },
              "type": "scattergl"
             }
            ],
            "scattermapbox": [
             {
              "marker": {
               "colorbar": {
                "outlinewidth": 0,
                "ticks": ""
               }
              },
              "type": "scattermapbox"
             }
            ],
            "scatterpolar": [
             {
              "marker": {
               "colorbar": {
                "outlinewidth": 0,
                "ticks": ""
               }
              },
              "type": "scatterpolar"
             }
            ],
            "scatterpolargl": [
             {
              "marker": {
               "colorbar": {
                "outlinewidth": 0,
                "ticks": ""
               }
              },
              "type": "scatterpolargl"
             }
            ],
            "scatterternary": [
             {
              "marker": {
               "colorbar": {
                "outlinewidth": 0,
                "ticks": ""
               }
              },
              "type": "scatterternary"
             }
            ],
            "surface": [
             {
              "colorbar": {
               "outlinewidth": 0,
               "ticks": ""
              },
              "colorscale": [
               [
                0,
                "#0d0887"
               ],
               [
                0.1111111111111111,
                "#46039f"
               ],
               [
                0.2222222222222222,
                "#7201a8"
               ],
               [
                0.3333333333333333,
                "#9c179e"
               ],
               [
                0.4444444444444444,
                "#bd3786"
               ],
               [
                0.5555555555555556,
                "#d8576b"
               ],
               [
                0.6666666666666666,
                "#ed7953"
               ],
               [
                0.7777777777777778,
                "#fb9f3a"
               ],
               [
                0.8888888888888888,
                "#fdca26"
               ],
               [
                1,
                "#f0f921"
               ]
              ],
              "type": "surface"
             }
            ],
            "table": [
             {
              "cells": {
               "fill": {
                "color": "#EBF0F8"
               },
               "line": {
                "color": "white"
               }
              },
              "header": {
               "fill": {
                "color": "#C8D4E3"
               },
               "line": {
                "color": "white"
               }
              },
              "type": "table"
             }
            ]
           },
           "layout": {
            "annotationdefaults": {
             "arrowcolor": "#2a3f5f",
             "arrowhead": 0,
             "arrowwidth": 1
            },
            "autotypenumbers": "strict",
            "coloraxis": {
             "colorbar": {
              "outlinewidth": 0,
              "ticks": ""
             }
            },
            "colorscale": {
             "diverging": [
              [
               0,
               "#8e0152"
              ],
              [
               0.1,
               "#c51b7d"
              ],
              [
               0.2,
               "#de77ae"
              ],
              [
               0.3,
               "#f1b6da"
              ],
              [
               0.4,
               "#fde0ef"
              ],
              [
               0.5,
               "#f7f7f7"
              ],
              [
               0.6,
               "#e6f5d0"
              ],
              [
               0.7,
               "#b8e186"
              ],
              [
               0.8,
               "#7fbc41"
              ],
              [
               0.9,
               "#4d9221"
              ],
              [
               1,
               "#276419"
              ]
             ],
             "sequential": [
              [
               0,
               "#0d0887"
              ],
              [
               0.1111111111111111,
               "#46039f"
              ],
              [
               0.2222222222222222,
               "#7201a8"
              ],
              [
               0.3333333333333333,
               "#9c179e"
              ],
              [
               0.4444444444444444,
               "#bd3786"
              ],
              [
               0.5555555555555556,
               "#d8576b"
              ],
              [
               0.6666666666666666,
               "#ed7953"
              ],
              [
               0.7777777777777778,
               "#fb9f3a"
              ],
              [
               0.8888888888888888,
               "#fdca26"
              ],
              [
               1,
               "#f0f921"
              ]
             ],
             "sequentialminus": [
              [
               0,
               "#0d0887"
              ],
              [
               0.1111111111111111,
               "#46039f"
              ],
              [
               0.2222222222222222,
               "#7201a8"
              ],
              [
               0.3333333333333333,
               "#9c179e"
              ],
              [
               0.4444444444444444,
               "#bd3786"
              ],
              [
               0.5555555555555556,
               "#d8576b"
              ],
              [
               0.6666666666666666,
               "#ed7953"
              ],
              [
               0.7777777777777778,
               "#fb9f3a"
              ],
              [
               0.8888888888888888,
               "#fdca26"
              ],
              [
               1,
               "#f0f921"
              ]
             ]
            },
            "colorway": [
             "#636efa",
             "#EF553B",
             "#00cc96",
             "#ab63fa",
             "#FFA15A",
             "#19d3f3",
             "#FF6692",
             "#B6E880",
             "#FF97FF",
             "#FECB52"
            ],
            "font": {
             "color": "#2a3f5f"
            },
            "geo": {
             "bgcolor": "white",
             "lakecolor": "white",
             "landcolor": "white",
             "showlakes": true,
             "showland": true,
             "subunitcolor": "#C8D4E3"
            },
            "hoverlabel": {
             "align": "left"
            },
            "hovermode": "closest",
            "mapbox": {
             "style": "light"
            },
            "paper_bgcolor": "white",
            "plot_bgcolor": "white",
            "polar": {
             "angularaxis": {
              "gridcolor": "#EBF0F8",
              "linecolor": "#EBF0F8",
              "ticks": ""
             },
             "bgcolor": "white",
             "radialaxis": {
              "gridcolor": "#EBF0F8",
              "linecolor": "#EBF0F8",
              "ticks": ""
             }
            },
            "scene": {
             "xaxis": {
              "backgroundcolor": "white",
              "gridcolor": "#DFE8F3",
              "gridwidth": 2,
              "linecolor": "#EBF0F8",
              "showbackground": true,
              "ticks": "",
              "zerolinecolor": "#EBF0F8"
             },
             "yaxis": {
              "backgroundcolor": "white",
              "gridcolor": "#DFE8F3",
              "gridwidth": 2,
              "linecolor": "#EBF0F8",
              "showbackground": true,
              "ticks": "",
              "zerolinecolor": "#EBF0F8"
             },
             "zaxis": {
              "backgroundcolor": "white",
              "gridcolor": "#DFE8F3",
              "gridwidth": 2,
              "linecolor": "#EBF0F8",
              "showbackground": true,
              "ticks": "",
              "zerolinecolor": "#EBF0F8"
             }
            },
            "shapedefaults": {
             "line": {
              "color": "#2a3f5f"
             }
            },
            "ternary": {
             "aaxis": {
              "gridcolor": "#DFE8F3",
              "linecolor": "#A2B1C6",
              "ticks": ""
             },
             "baxis": {
              "gridcolor": "#DFE8F3",
              "linecolor": "#A2B1C6",
              "ticks": ""
             },
             "bgcolor": "white",
             "caxis": {
              "gridcolor": "#DFE8F3",
              "linecolor": "#A2B1C6",
              "ticks": ""
             }
            },
            "title": {
             "x": 0.05
            },
            "xaxis": {
             "automargin": true,
             "gridcolor": "#EBF0F8",
             "linecolor": "#EBF0F8",
             "ticks": "",
             "title": {
              "standoff": 15
             },
             "zerolinecolor": "#EBF0F8",
             "zerolinewidth": 2
            },
            "yaxis": {
             "automargin": true,
             "gridcolor": "#EBF0F8",
             "linecolor": "#EBF0F8",
             "ticks": "",
             "title": {
              "standoff": 15
             },
             "zerolinecolor": "#EBF0F8",
             "zerolinewidth": 2
            }
           }
          },
          "xaxis": {
           "automargin": false,
           "linecolor": "#444",
           "linewidth": 2,
           "minor": {
            "tickmode": "linear",
            "ticks": "outside"
           },
           "mirror": true,
           "showline": true,
           "tickmode": "linear",
           "ticks": "outside",
           "zeroline": false
          },
          "yaxis": {
           "automargin": true,
           "linecolor": "#444",
           "linewidth": 2,
           "minor": {
            "tickmode": "linear",
            "ticks": "outside"
           },
           "mirror": true,
           "showline": true,
           "ticks": "outside",
           "zeroline": false
          }
         }
        },
        "width": 600,
        "xaxis": {
         "dtick": 5,
         "minor": {
          "dtick": 1,
          "tick0": 0
         },
         "range": [
          0,
          21
         ],
         "tick0": 0,
         "title": {
          "text": "level"
         }
        },
        "yaxis": {
         "dtick": 0.2,
         "minor": {
          "dtick": 0.1,
          "tick0": 0
         },
         "range": [
          0,
          1
         ],
         "tick0": 0,
         "title": {
          "text": "probability"
         }
        }
       }
      }
     },
     "metadata": {},
     "output_type": "display_data"
    }
   ],
   "source": [
    "# Fig. 12: plots probability of a PC hitting a monster with an attack\n",
    "import json\n",
    "\n",
    "# create figure\n",
    "fig = go.Figure(\n",
    "    layout=go.Layout(\n",
    "        template=tfb.FIG_TEMPLATE,\n",
    "        margin=dict(l=60, r=25, b=55, t=20, pad=4),\n",
    "        xaxis=dict(\n",
    "            title_text='level',\n",
    "            range=[0,21],\n",
    "            tick0=0, dtick=5,\n",
    "            minor=dict(tick0=0, dtick=1),\n",
    "        ),\n",
    "        yaxis=dict(\n",
    "            title_text='probability',\n",
    "            range=[0,1],\n",
    "            tick0=0, dtick=0.2,\n",
    "            minor=dict(tick0=0, dtick=0.1),\n",
    "        ),\n",
    "        legend=dict(\n",
    "            xanchor='left', yanchor='top',\n",
    "            x=0.00, y=1.00,\n",
    "            orientation='v',\n",
    "            tracegroupgap=0,\n",
    "        )\n",
    "    )\n",
    ")\n",
    "\n",
    "# load PC data\n",
    "pc = {\n",
    "    'level':      [ 1, 2, 3, 4, 5, 6, 7, 8, 9,10,11,12,13,14,15,16,17,18,19,20],\n",
    "    'attack mod': [ 3, 3, 3, 4, 4, 4, 4, 5, 5, 5, 5, 5, 5, 5, 5, 5, 5, 5, 5, 5],\n",
    "    'prof bonus': [ 2, 2, 2, 2, 3, 3, 3, 3, 4, 4, 4, 4, 5, 5, 5, 5, 6, 6, 6, 6],\n",
    "}\n",
    "pc['attack bonus'] = [pc['attack mod'][i] + pc['prof bonus'][i] for i in range(20)]\n",
    "pc['save dc'] = [pc['attack bonus'][i] + 8 for i in range(20)]\n",
    "\n",
    "\n",
    "# plot chance to hit vs published monsters\n",
    "dfM = pd.read_csv('../../assets/data/monsters.csv')\n",
    "dfM['adj SB'] = dfM.apply(lambda row: average_effective_save_bonus(row), axis=1)\n",
    "dfM = dfM[['CR','AC','adj SB']].groupby(['CR']).mean().reset_index()\n",
    "dfM = dfM[dfM['CR'].between(1, 30)]\n",
    "level = np.array(pc['level'])\n",
    "ab = np.array(pc['attack bonus'])\n",
    "ac = dfM['AC'].to_numpy()\n",
    "prob = np.array([attack_hit_crit_prob(a, b) for a, b in zip(ac, ab)])\n",
    "fig.add_trace(go.Scatter(\n",
    "    x=level, \n",
    "    y=prob,\n",
    "    mode='markers+lines', \n",
    "    name='attacks',\n",
    "    hovertemplate=\n",
    "        '<b>Attacks</b><br>'+\n",
    "        'Level %{x}<br>'+\n",
    "        'Hit Probability %{y:,.1%}' + \n",
    "        '<extra></extra>'\n",
    "))\n",
    "print(prob.mean())\n",
    "\n",
    "# plot chance to hit vs published monsters\n",
    "level = np.array(pc['level'])\n",
    "dc = np.array(pc['save dc'])\n",
    "sb = dfM['adj SB'].to_numpy()\n",
    "prob = np.array([save_fail_prob(a, b) for a, b in zip(sb, dc)])\n",
    "fig.add_trace(go.Scatter(\n",
    "    x=level, \n",
    "    y=prob,\n",
    "    mode='markers+lines', \n",
    "    name='saving throws',\n",
    "    hovertemplate=\n",
    "        '<b>Saving Throws</b><br>'+\n",
    "        'Level %{x}<br>'+\n",
    "        'Fail Probability %{y:,.1%}' + \n",
    "        '<extra></extra>'\n",
    "))\n",
    "print(prob.mean())\n",
    "\n",
    "# plot reference\n",
    "fig.add_trace(go.Scatter(\n",
    "    x=[1,20], \n",
    "    y=[0.65, 0.65],\n",
    "    mode='lines', \n",
    "    name='monsters',\n",
    "    showlegend=False,\n",
    "    hoverinfo='skip',\n",
    "    line=dict(color='black', dash='dash'),\n",
    "))\n",
    "\n",
    "# show figure\n",
    "fig.update_layout(width=600, height=450)\n",
    "fig.show(config=tfb.FIG_CONFIG)\n",
    "\n",
    "# save figures\n",
    "if SAVEFIGS:\n",
    "    fig.update_layout(autosize=True, width=None, height=None)\n",
    "    tfb.save_fig_html(fig, format='large', name=f'./fig-hit-prob-vs-level-large')\n",
    "    tfb.save_fig_html(fig, format='small', name=f'./fig-hit-prob-vs-level-small')"
   ]
  },
  {
   "cell_type": "code",
   "execution_count": null,
   "metadata": {},
   "outputs": [
    {
     "name": "stdout",
     "output_type": "stream",
     "text": [
      "0.5621750142525928\n",
      "0.6195457893412223\n",
      "0.49785642791382373\n",
      "0.672117562460315\n",
      "0.5592199166816474\n",
      "0.6015454788563301\n"
     ]
    },
    {
     "data": {
      "application/vnd.plotly.v1+json": {
       "config": {
        "autosizable": true,
        "displayModeBar": "hover",
        "displaylogo": false,
        "doubleClick": "reset",
        "modeBarButtonsToRemove": [
         "select2d",
         "lasso2d",
         "zoom2d",
         "zoomIn2d",
         "zoomOut2d",
         "pan2d",
         "autoScale2d",
         "hoverClosestCartesian",
         "hoverCompareCartesian",
         "toggleSpikelines",
         "resetScale2d"
        ],
        "plotlyServerURL": "https://plot.ly",
        "responsive": true,
        "showAxisDragHandles": false,
        "toImageButtonOptions": {
         "filename": "tfb-plot",
         "format": "png",
         "height": 450,
         "scale": 2,
         "width": 600
        }
       },
       "data": [
        {
         "hovertemplate": "<b>Str Save</b><br>Level %{x}<br>Fail Probability %{y:,.1%}<extra></extra>",
         "line": {
          "color": "#d62728"
         },
         "marker": {
          "color": "#d62728"
         },
         "mode": "markers+lines",
         "name": "Str Save",
         "type": "scatter",
         "x": [
          1,
          2,
          3,
          4,
          5,
          6,
          7,
          8,
          9,
          10,
          11,
          12,
          13,
          14,
          15,
          16,
          17,
          18,
          19,
          20
         ],
         "y": [
          0.5524137931034483,
          0.5141592920353982,
          0.48897435897435904,
          0.535036496350365,
          0.5711428571428572,
          0.5324742268041237,
          0.5476851851851853,
          0.5750000000000001,
          0.6043750000000001,
          0.591044776119403,
          0.5646153846153846,
          0.5361111111111111,
          0.6058823529411765,
          0.5881578947368421,
          0.5484848484848485,
          0.5,
          0.6285714285714286,
          0.6615384615384615,
          0.5294117647058824,
          0.5684210526315789
         ]
        },
        {
         "hovertemplate": "<b>Dex Save</b><br>Level %{x}<br>Fail Probability %{y:,.1%}<extra></extra>",
         "line": {
          "color": "#9467bd"
         },
         "marker": {
          "color": "#9467bd"
         },
         "mode": "markers+lines",
         "name": "Dex Save",
         "type": "scatter",
         "x": [
          1,
          2,
          3,
          4,
          5,
          6,
          7,
          8,
          9,
          10,
          11,
          12,
          13,
          14,
          15,
          16,
          17,
          18,
          19,
          20
         ],
         "y": [
          0.5244827586206896,
          0.5232300884955752,
          0.5066666666666667,
          0.5613138686131387,
          0.5897142857142857,
          0.609278350515464,
          0.5731481481481481,
          0.642,
          0.6725,
          0.6694029850746269,
          0.643846153846154,
          0.6768518518518519,
          0.6980392156862746,
          0.6907894736842106,
          0.6303030303030304,
          0.5942857142857143,
          0.6446428571428572,
          0.6596153846153847,
          0.6176470588235294,
          0.6631578947368422
         ]
        },
        {
         "hovertemplate": "<b>Con Save</b><br>Level %{x}<br>Fail Probability %{y:,.1%}<extra></extra>",
         "line": {
          "color": "#8c564b"
         },
         "marker": {
          "color": "#8c564b"
         },
         "mode": "markers+lines",
         "name": "Con Save",
         "type": "scatter",
         "x": [
          1,
          2,
          3,
          4,
          5,
          6,
          7,
          8,
          9,
          10,
          11,
          12,
          13,
          14,
          15,
          16,
          17,
          18,
          19,
          20
         ],
         "y": [
          0.5255172413793104,
          0.5057522123893805,
          0.4861538461538462,
          0.5200729927007299,
          0.5431428571428571,
          0.511340206185567,
          0.5125000000000001,
          0.5495,
          0.5387500000000001,
          0.5246268656716419,
          0.5138461538461538,
          0.514814814814815,
          0.5088235294117647,
          0.46578947368421053,
          0.5106060606060606,
          0.47285714285714286,
          0.505357142857143,
          0.45,
          0.40294117647058825,
          0.3947368421052632
         ]
        },
        {
         "hovertemplate": "<b>Int Save</b><br>Level %{x}<br>Fail Probability %{y:,.1%}<extra></extra>",
         "line": {
          "color": "#1f77b4"
         },
         "marker": {
          "color": "#1f77b4"
         },
         "mode": "markers+lines",
         "name": "Int Save",
         "type": "scatter",
         "x": [
          1,
          2,
          3,
          4,
          5,
          6,
          7,
          8,
          9,
          10,
          11,
          12,
          13,
          14,
          15,
          16,
          17,
          18,
          19,
          20
         ],
         "y": [
          0.6631034482758621,
          0.6349557522123894,
          0.616923076923077,
          0.6328467153284673,
          0.6702857142857144,
          0.6536082474226804,
          0.6458333333333334,
          0.7030000000000001,
          0.6937500000000001,
          0.6917910447761195,
          0.7284615384615385,
          0.6953703703703704,
          0.6705882352941177,
          0.7223684210526317,
          0.6742424242424243,
          0.7142857142857143,
          0.6446428571428572,
          0.5884615384615385,
          0.6294117647058823,
          0.768421052631579
         ]
        },
        {
         "hovertemplate": "<b>Wis Save</b><br>Level %{x}<br>Fail Probability %{y:,.1%}<extra></extra>",
         "line": {
          "color": "#2ca02c"
         },
         "marker": {
          "color": "#2ca02c"
         },
         "mode": "markers+lines",
         "name": "Wis Save",
         "type": "scatter",
         "x": [
          1,
          2,
          3,
          4,
          5,
          6,
          7,
          8,
          9,
          10,
          11,
          12,
          13,
          14,
          15,
          16,
          17,
          18,
          19,
          20
         ],
         "y": [
          0.5772413793103448,
          0.5557522123893806,
          0.5405128205128206,
          0.5675182481751825,
          0.5857142857142857,
          0.5814432989690722,
          0.576388888888889,
          0.5870000000000001,
          0.6106250000000001,
          0.5805970149253732,
          0.5984615384615385,
          0.5509259259259259,
          0.6019607843137256,
          0.5526315789473685,
          0.5787878787878789,
          0.5,
          0.49642857142857144,
          0.5134615384615385,
          0.5,
          0.5289473684210526
         ]
        },
        {
         "hovertemplate": "<b>Cha Save</b><br>Level %{x}<br>Fail Probability %{y:,.1%}<extra></extra>",
         "line": {
          "color": "#ff7f0e"
         },
         "marker": {
          "color": "#ff7f0e"
         },
         "mode": "markers+lines",
         "name": "Cha Save",
         "type": "scatter",
         "x": [
          1,
          2,
          3,
          4,
          5,
          6,
          7,
          8,
          9,
          10,
          11,
          12,
          13,
          14,
          15,
          16,
          17,
          18,
          19,
          20
         ],
         "y": [
          0.6362068965517241,
          0.6081858407079647,
          0.5943589743589744,
          0.6135036496350366,
          0.6614285714285715,
          0.6329896907216495,
          0.6277777777777778,
          0.6615000000000001,
          0.68625,
          0.6746268656716419,
          0.6507692307692308,
          0.625925925925926,
          0.596078431372549,
          0.6157894736842106,
          0.5212121212121212,
          0.5671428571428571,
          0.5714285714285715,
          0.5038461538461538,
          0.45294117647058824,
          0.5289473684210526
         ]
        },
        {
         "hoverinfo": "skip",
         "line": {
          "color": "black",
          "dash": "dash"
         },
         "mode": "lines",
         "name": "monsters",
         "showlegend": false,
         "type": "scatter",
         "x": [
          1,
          20
         ],
         "y": [
          0.65,
          0.65
         ]
        }
       ],
       "layout": {
        "height": 450,
        "legend": {
         "orientation": "v",
         "tracegroupgap": 0,
         "x": 0,
         "xanchor": "left",
         "y": 0,
         "yanchor": "bottom"
        },
        "margin": {
         "b": 55,
         "l": 60,
         "pad": 4,
         "r": 25,
         "t": 20
        },
        "template": {
         "layout": {
          "autosize": false,
          "font": {
           "family": "sans-serif",
           "size": 14
          },
          "hoverlabel": {
           "align": "left"
          },
          "hovermode": "closest",
          "margin": {
           "b": 55,
           "l": 60,
           "pad": 4,
           "r": 25,
           "t": 20
          },
          "template": {
           "data": {
            "bar": [
             {
              "error_x": {
               "color": "#2a3f5f"
              },
              "error_y": {
               "color": "#2a3f5f"
              },
              "marker": {
               "line": {
                "color": "white",
                "width": 0.5
               },
               "pattern": {
                "fillmode": "overlay",
                "size": 10,
                "solidity": 0.2
               }
              },
              "type": "bar"
             }
            ],
            "barpolar": [
             {
              "marker": {
               "line": {
                "color": "white",
                "width": 0.5
               },
               "pattern": {
                "fillmode": "overlay",
                "size": 10,
                "solidity": 0.2
               }
              },
              "type": "barpolar"
             }
            ],
            "carpet": [
             {
              "aaxis": {
               "endlinecolor": "#2a3f5f",
               "gridcolor": "#C8D4E3",
               "linecolor": "#C8D4E3",
               "minorgridcolor": "#C8D4E3",
               "startlinecolor": "#2a3f5f"
              },
              "baxis": {
               "endlinecolor": "#2a3f5f",
               "gridcolor": "#C8D4E3",
               "linecolor": "#C8D4E3",
               "minorgridcolor": "#C8D4E3",
               "startlinecolor": "#2a3f5f"
              },
              "type": "carpet"
             }
            ],
            "choropleth": [
             {
              "colorbar": {
               "outlinewidth": 0,
               "ticks": ""
              },
              "type": "choropleth"
             }
            ],
            "contour": [
             {
              "colorbar": {
               "outlinewidth": 0,
               "ticks": ""
              },
              "colorscale": [
               [
                0,
                "#0d0887"
               ],
               [
                0.1111111111111111,
                "#46039f"
               ],
               [
                0.2222222222222222,
                "#7201a8"
               ],
               [
                0.3333333333333333,
                "#9c179e"
               ],
               [
                0.4444444444444444,
                "#bd3786"
               ],
               [
                0.5555555555555556,
                "#d8576b"
               ],
               [
                0.6666666666666666,
                "#ed7953"
               ],
               [
                0.7777777777777778,
                "#fb9f3a"
               ],
               [
                0.8888888888888888,
                "#fdca26"
               ],
               [
                1,
                "#f0f921"
               ]
              ],
              "type": "contour"
             }
            ],
            "contourcarpet": [
             {
              "colorbar": {
               "outlinewidth": 0,
               "ticks": ""
              },
              "type": "contourcarpet"
             }
            ],
            "heatmap": [
             {
              "colorbar": {
               "outlinewidth": 0,
               "ticks": ""
              },
              "colorscale": [
               [
                0,
                "#0d0887"
               ],
               [
                0.1111111111111111,
                "#46039f"
               ],
               [
                0.2222222222222222,
                "#7201a8"
               ],
               [
                0.3333333333333333,
                "#9c179e"
               ],
               [
                0.4444444444444444,
                "#bd3786"
               ],
               [
                0.5555555555555556,
                "#d8576b"
               ],
               [
                0.6666666666666666,
                "#ed7953"
               ],
               [
                0.7777777777777778,
                "#fb9f3a"
               ],
               [
                0.8888888888888888,
                "#fdca26"
               ],
               [
                1,
                "#f0f921"
               ]
              ],
              "type": "heatmap"
             }
            ],
            "heatmapgl": [
             {
              "colorbar": {
               "outlinewidth": 0,
               "ticks": ""
              },
              "colorscale": [
               [
                0,
                "#0d0887"
               ],
               [
                0.1111111111111111,
                "#46039f"
               ],
               [
                0.2222222222222222,
                "#7201a8"
               ],
               [
                0.3333333333333333,
                "#9c179e"
               ],
               [
                0.4444444444444444,
                "#bd3786"
               ],
               [
                0.5555555555555556,
                "#d8576b"
               ],
               [
                0.6666666666666666,
                "#ed7953"
               ],
               [
                0.7777777777777778,
                "#fb9f3a"
               ],
               [
                0.8888888888888888,
                "#fdca26"
               ],
               [
                1,
                "#f0f921"
               ]
              ],
              "type": "heatmapgl"
             }
            ],
            "histogram": [
             {
              "marker": {
               "pattern": {
                "fillmode": "overlay",
                "size": 10,
                "solidity": 0.2
               }
              },
              "type": "histogram"
             }
            ],
            "histogram2d": [
             {
              "colorbar": {
               "outlinewidth": 0,
               "ticks": ""
              },
              "colorscale": [
               [
                0,
                "#0d0887"
               ],
               [
                0.1111111111111111,
                "#46039f"
               ],
               [
                0.2222222222222222,
                "#7201a8"
               ],
               [
                0.3333333333333333,
                "#9c179e"
               ],
               [
                0.4444444444444444,
                "#bd3786"
               ],
               [
                0.5555555555555556,
                "#d8576b"
               ],
               [
                0.6666666666666666,
                "#ed7953"
               ],
               [
                0.7777777777777778,
                "#fb9f3a"
               ],
               [
                0.8888888888888888,
                "#fdca26"
               ],
               [
                1,
                "#f0f921"
               ]
              ],
              "type": "histogram2d"
             }
            ],
            "histogram2dcontour": [
             {
              "colorbar": {
               "outlinewidth": 0,
               "ticks": ""
              },
              "colorscale": [
               [
                0,
                "#0d0887"
               ],
               [
                0.1111111111111111,
                "#46039f"
               ],
               [
                0.2222222222222222,
                "#7201a8"
               ],
               [
                0.3333333333333333,
                "#9c179e"
               ],
               [
                0.4444444444444444,
                "#bd3786"
               ],
               [
                0.5555555555555556,
                "#d8576b"
               ],
               [
                0.6666666666666666,
                "#ed7953"
               ],
               [
                0.7777777777777778,
                "#fb9f3a"
               ],
               [
                0.8888888888888888,
                "#fdca26"
               ],
               [
                1,
                "#f0f921"
               ]
              ],
              "type": "histogram2dcontour"
             }
            ],
            "mesh3d": [
             {
              "colorbar": {
               "outlinewidth": 0,
               "ticks": ""
              },
              "type": "mesh3d"
             }
            ],
            "parcoords": [
             {
              "line": {
               "colorbar": {
                "outlinewidth": 0,
                "ticks": ""
               }
              },
              "type": "parcoords"
             }
            ],
            "pie": [
             {
              "automargin": true,
              "type": "pie"
             }
            ],
            "scatter": [
             {
              "fillpattern": {
               "fillmode": "overlay",
               "size": 10,
               "solidity": 0.2
              },
              "type": "scatter"
             }
            ],
            "scatter3d": [
             {
              "line": {
               "colorbar": {
                "outlinewidth": 0,
                "ticks": ""
               }
              },
              "marker": {
               "colorbar": {
                "outlinewidth": 0,
                "ticks": ""
               }
              },
              "type": "scatter3d"
             }
            ],
            "scattercarpet": [
             {
              "marker": {
               "colorbar": {
                "outlinewidth": 0,
                "ticks": ""
               }
              },
              "type": "scattercarpet"
             }
            ],
            "scattergeo": [
             {
              "marker": {
               "colorbar": {
                "outlinewidth": 0,
                "ticks": ""
               }
              },
              "type": "scattergeo"
             }
            ],
            "scattergl": [
             {
              "marker": {
               "colorbar": {
                "outlinewidth": 0,
                "ticks": ""
               }
              },
              "type": "scattergl"
             }
            ],
            "scattermapbox": [
             {
              "marker": {
               "colorbar": {
                "outlinewidth": 0,
                "ticks": ""
               }
              },
              "type": "scattermapbox"
             }
            ],
            "scatterpolar": [
             {
              "marker": {
               "colorbar": {
                "outlinewidth": 0,
                "ticks": ""
               }
              },
              "type": "scatterpolar"
             }
            ],
            "scatterpolargl": [
             {
              "marker": {
               "colorbar": {
                "outlinewidth": 0,
                "ticks": ""
               }
              },
              "type": "scatterpolargl"
             }
            ],
            "scatterternary": [
             {
              "marker": {
               "colorbar": {
                "outlinewidth": 0,
                "ticks": ""
               }
              },
              "type": "scatterternary"
             }
            ],
            "surface": [
             {
              "colorbar": {
               "outlinewidth": 0,
               "ticks": ""
              },
              "colorscale": [
               [
                0,
                "#0d0887"
               ],
               [
                0.1111111111111111,
                "#46039f"
               ],
               [
                0.2222222222222222,
                "#7201a8"
               ],
               [
                0.3333333333333333,
                "#9c179e"
               ],
               [
                0.4444444444444444,
                "#bd3786"
               ],
               [
                0.5555555555555556,
                "#d8576b"
               ],
               [
                0.6666666666666666,
                "#ed7953"
               ],
               [
                0.7777777777777778,
                "#fb9f3a"
               ],
               [
                0.8888888888888888,
                "#fdca26"
               ],
               [
                1,
                "#f0f921"
               ]
              ],
              "type": "surface"
             }
            ],
            "table": [
             {
              "cells": {
               "fill": {
                "color": "#EBF0F8"
               },
               "line": {
                "color": "white"
               }
              },
              "header": {
               "fill": {
                "color": "#C8D4E3"
               },
               "line": {
                "color": "white"
               }
              },
              "type": "table"
             }
            ]
           },
           "layout": {
            "annotationdefaults": {
             "arrowcolor": "#2a3f5f",
             "arrowhead": 0,
             "arrowwidth": 1
            },
            "autotypenumbers": "strict",
            "coloraxis": {
             "colorbar": {
              "outlinewidth": 0,
              "ticks": ""
             }
            },
            "colorscale": {
             "diverging": [
              [
               0,
               "#8e0152"
              ],
              [
               0.1,
               "#c51b7d"
              ],
              [
               0.2,
               "#de77ae"
              ],
              [
               0.3,
               "#f1b6da"
              ],
              [
               0.4,
               "#fde0ef"
              ],
              [
               0.5,
               "#f7f7f7"
              ],
              [
               0.6,
               "#e6f5d0"
              ],
              [
               0.7,
               "#b8e186"
              ],
              [
               0.8,
               "#7fbc41"
              ],
              [
               0.9,
               "#4d9221"
              ],
              [
               1,
               "#276419"
              ]
             ],
             "sequential": [
              [
               0,
               "#0d0887"
              ],
              [
               0.1111111111111111,
               "#46039f"
              ],
              [
               0.2222222222222222,
               "#7201a8"
              ],
              [
               0.3333333333333333,
               "#9c179e"
              ],
              [
               0.4444444444444444,
               "#bd3786"
              ],
              [
               0.5555555555555556,
               "#d8576b"
              ],
              [
               0.6666666666666666,
               "#ed7953"
              ],
              [
               0.7777777777777778,
               "#fb9f3a"
              ],
              [
               0.8888888888888888,
               "#fdca26"
              ],
              [
               1,
               "#f0f921"
              ]
             ],
             "sequentialminus": [
              [
               0,
               "#0d0887"
              ],
              [
               0.1111111111111111,
               "#46039f"
              ],
              [
               0.2222222222222222,
               "#7201a8"
              ],
              [
               0.3333333333333333,
               "#9c179e"
              ],
              [
               0.4444444444444444,
               "#bd3786"
              ],
              [
               0.5555555555555556,
               "#d8576b"
              ],
              [
               0.6666666666666666,
               "#ed7953"
              ],
              [
               0.7777777777777778,
               "#fb9f3a"
              ],
              [
               0.8888888888888888,
               "#fdca26"
              ],
              [
               1,
               "#f0f921"
              ]
             ]
            },
            "colorway": [
             "#636efa",
             "#EF553B",
             "#00cc96",
             "#ab63fa",
             "#FFA15A",
             "#19d3f3",
             "#FF6692",
             "#B6E880",
             "#FF97FF",
             "#FECB52"
            ],
            "font": {
             "color": "#2a3f5f"
            },
            "geo": {
             "bgcolor": "white",
             "lakecolor": "white",
             "landcolor": "white",
             "showlakes": true,
             "showland": true,
             "subunitcolor": "#C8D4E3"
            },
            "hoverlabel": {
             "align": "left"
            },
            "hovermode": "closest",
            "mapbox": {
             "style": "light"
            },
            "paper_bgcolor": "white",
            "plot_bgcolor": "white",
            "polar": {
             "angularaxis": {
              "gridcolor": "#EBF0F8",
              "linecolor": "#EBF0F8",
              "ticks": ""
             },
             "bgcolor": "white",
             "radialaxis": {
              "gridcolor": "#EBF0F8",
              "linecolor": "#EBF0F8",
              "ticks": ""
             }
            },
            "scene": {
             "xaxis": {
              "backgroundcolor": "white",
              "gridcolor": "#DFE8F3",
              "gridwidth": 2,
              "linecolor": "#EBF0F8",
              "showbackground": true,
              "ticks": "",
              "zerolinecolor": "#EBF0F8"
             },
             "yaxis": {
              "backgroundcolor": "white",
              "gridcolor": "#DFE8F3",
              "gridwidth": 2,
              "linecolor": "#EBF0F8",
              "showbackground": true,
              "ticks": "",
              "zerolinecolor": "#EBF0F8"
             },
             "zaxis": {
              "backgroundcolor": "white",
              "gridcolor": "#DFE8F3",
              "gridwidth": 2,
              "linecolor": "#EBF0F8",
              "showbackground": true,
              "ticks": "",
              "zerolinecolor": "#EBF0F8"
             }
            },
            "shapedefaults": {
             "line": {
              "color": "#2a3f5f"
             }
            },
            "ternary": {
             "aaxis": {
              "gridcolor": "#DFE8F3",
              "linecolor": "#A2B1C6",
              "ticks": ""
             },
             "baxis": {
              "gridcolor": "#DFE8F3",
              "linecolor": "#A2B1C6",
              "ticks": ""
             },
             "bgcolor": "white",
             "caxis": {
              "gridcolor": "#DFE8F3",
              "linecolor": "#A2B1C6",
              "ticks": ""
             }
            },
            "title": {
             "x": 0.05
            },
            "xaxis": {
             "automargin": true,
             "gridcolor": "#EBF0F8",
             "linecolor": "#EBF0F8",
             "ticks": "",
             "title": {
              "standoff": 15
             },
             "zerolinecolor": "#EBF0F8",
             "zerolinewidth": 2
            },
            "yaxis": {
             "automargin": true,
             "gridcolor": "#EBF0F8",
             "linecolor": "#EBF0F8",
             "ticks": "",
             "title": {
              "standoff": 15
             },
             "zerolinecolor": "#EBF0F8",
             "zerolinewidth": 2
            }
           }
          },
          "xaxis": {
           "automargin": false,
           "linecolor": "#444",
           "linewidth": 2,
           "minor": {
            "tickmode": "linear",
            "ticks": "outside"
           },
           "mirror": true,
           "showline": true,
           "tickmode": "linear",
           "ticks": "outside",
           "zeroline": false
          },
          "yaxis": {
           "automargin": true,
           "linecolor": "#444",
           "linewidth": 2,
           "minor": {
            "tickmode": "linear",
            "ticks": "outside"
           },
           "mirror": true,
           "showline": true,
           "ticks": "outside",
           "zeroline": false
          }
         }
        },
        "width": 600,
        "xaxis": {
         "dtick": 5,
         "minor": {
          "dtick": 1,
          "tick0": 0
         },
         "range": [
          0,
          21
         ],
         "tick0": 0,
         "title": {
          "text": "level"
         }
        },
        "yaxis": {
         "dtick": 0.2,
         "minor": {
          "dtick": 0.1,
          "tick0": 0
         },
         "range": [
          0,
          1
         ],
         "tick0": 0,
         "title": {
          "text": "save fail probability"
         }
        }
       }
      }
     },
     "metadata": {},
     "output_type": "display_data"
    }
   ],
   "source": [
    "# Fig. 13: plots probability of a PC hitting a monster with a saving throw\n",
    "import json\n",
    "\n",
    "# create figure\n",
    "fig = go.Figure(\n",
    "    layout=go.Layout(\n",
    "        template=tfb.FIG_TEMPLATE,\n",
    "        margin=dict(l=60, r=25, b=55, t=20, pad=4),\n",
    "        xaxis=dict(\n",
    "            title_text='level',\n",
    "            range=[0,21],\n",
    "            tick0=0, dtick=5,\n",
    "            minor=dict(tick0=0, dtick=1),\n",
    "        ),\n",
    "        yaxis=dict(\n",
    "            title_text='save fail probability',\n",
    "            range=[0,1],\n",
    "            tick0=0, dtick=0.2,\n",
    "            minor=dict(tick0=0, dtick=0.1),\n",
    "        ),\n",
    "        legend=dict(\n",
    "            xanchor='left', yanchor='bottom',\n",
    "            x=0.00, y=0.00,\n",
    "            orientation='v',\n",
    "            tracegroupgap=0,\n",
    "        )\n",
    "    )\n",
    ")\n",
    "\n",
    "# load PC data\n",
    "pc = {\n",
    "    'level':      [ 1, 2, 3, 4, 5, 6, 7, 8, 9,10,11,12,13,14,15,16,17,18,19,20],\n",
    "    'attack mod': [ 3, 3, 3, 4, 4, 4, 4, 5, 5, 5, 5, 5, 5, 5, 5, 5, 5, 5, 5, 5],\n",
    "    'prof bonus': [ 2, 2, 2, 2, 3, 3, 3, 3, 4, 4, 4, 4, 5, 5, 5, 5, 6, 6, 6, 6],\n",
    "}\n",
    "pc['attack bonus'] = [pc['attack mod'][i] + pc['prof bonus'][i] for i in range(20)]\n",
    "pc['save dc'] = [pc['attack bonus'][i] + 8 for i in range(20)]\n",
    "\n",
    "\n",
    "# plot chance to hit vs published monsters\n",
    "saves = ['Str Save','Dex Save','Con Save','Int Save','Wis Save','Cha Save']\n",
    "colors = ['#d62728','#9467bd','#8c564b','#1f77b4','#2ca02c','#ff7f0e']\n",
    "dfM = pd.read_csv('../../assets/data/monsters.csv')\n",
    "dfM['SB'] = dfM.apply(lambda row: average_save_bonus(row), axis=1)\n",
    "dfM['adj SB'] = dfM.apply(lambda row: average_effective_save_bonus(row), axis=1)\n",
    "dfM = dfM[['CR'] + saves].groupby(['CR']).mean().reset_index()\n",
    "dfM = dfM[dfM['CR'].between(1, 20)]\n",
    "for save, color in zip(saves, colors):\n",
    "    level = np.array(pc['level'])\n",
    "    dc = np.array(pc['save dc'])\n",
    "    sb = dfM[save].to_numpy()\n",
    "    prob = np.array([save_fail_prob(a, b) for a, b in zip(sb, dc)])\n",
    "    fig.add_trace(go.Scatter(\n",
    "        x=level, \n",
    "        y=prob,\n",
    "        mode='markers+lines', \n",
    "        name=save,\n",
    "        line_color=color,\n",
    "        marker_color=color,\n",
    "        hovertemplate=\n",
    "            f'<b>{save}</b><br>'+\n",
    "            'Level %{x}<br>'+\n",
    "            'Fail Probability %{y:,.1%}' + \n",
    "            '<extra></extra>'\n",
    "    ))\n",
    "    print(prob.mean())\n",
    "\n",
    "\n",
    "\n",
    "# plot reference\n",
    "fig.add_trace(go.Scatter(\n",
    "    x=[1,20], \n",
    "    y=[0.65, 0.65],\n",
    "    mode='lines', \n",
    "    name='monsters',\n",
    "    showlegend=False,\n",
    "    hoverinfo='skip',\n",
    "    line=dict(color='black', dash='dash'),\n",
    "))\n",
    "\n",
    "# show figure\n",
    "fig.update_layout(width=600, height=450)\n",
    "fig.show(config=tfb.FIG_CONFIG)\n",
    "\n",
    "# save figures\n",
    "if SAVEFIGS:\n",
    "    fig.update_layout(autosize=True, width=None, height=None)\n",
    "    tfb.save_fig_html(fig, format='large', name=f'./fig-save-fail-prob-vs-level-large')\n",
    "    tfb.save_fig_html(fig, format='small', name=f'./fig-save-fail-prob-vs-level-small')"
   ]
  },
  {
   "cell_type": "code",
   "execution_count": 72,
   "metadata": {},
   "outputs": [
    {
     "name": "stderr",
     "output_type": "stream",
     "text": [
      "/Users/tom/Development/python-venv/thefinishedbook/lib/python3.10/site-packages/scipy/optimize/_minpack_py.py:1010: OptimizeWarning:\n",
      "\n",
      "Covariance of the parameters could not be estimated\n",
      "\n"
     ]
    },
    {
     "data": {
      "text/html": [
       "<style type=\"text/css\">\n",
       "#T_9806d th {\n",
       "  text-align: center;\n",
       "}\n",
       "#T_9806d td {\n",
       "  text-align: center;\n",
       "}\n",
       "</style>\n",
       "<table id=\"T_9806d\">\n",
       "  <thead>\n",
       "    <tr>\n",
       "      <th id=\"T_9806d_level0_col0\" class=\"col_heading level0 col0\" >CR</th>\n",
       "      <th id=\"T_9806d_level0_col1\" class=\"col_heading level0 col1\" >Armor Class</th>\n",
       "      <th id=\"T_9806d_level0_col2\" class=\"col_heading level0 col2\" >Save Bonus</th>\n",
       "      <th id=\"T_9806d_level0_col3\" class=\"col_heading level0 col3\" >Hit Points</th>\n",
       "      <th id=\"T_9806d_level0_col4\" class=\"col_heading level0 col4\" >Attack Bonus</th>\n",
       "      <th id=\"T_9806d_level0_col5\" class=\"col_heading level0 col5\" >Save DC</th>\n",
       "      <th id=\"T_9806d_level0_col6\" class=\"col_heading level0 col6\" >Damage / Round</th>\n",
       "      <th id=\"T_9806d_level0_col7\" class=\"col_heading level0 col7\" >XP</th>\n",
       "    </tr>\n",
       "  </thead>\n",
       "  <tbody>\n",
       "    <tr>\n",
       "      <td id=\"T_9806d_row0_col0\" class=\"data row0 col0\" >1</td>\n",
       "      <td id=\"T_9806d_row0_col1\" class=\"data row0 col1\" >14</td>\n",
       "      <td id=\"T_9806d_row0_col2\" class=\"data row0 col2\" >+1</td>\n",
       "      <td id=\"T_9806d_row0_col3\" class=\"data row0 col3\" >20 - 36</td>\n",
       "      <td id=\"T_9806d_row0_col4\" class=\"data row0 col4\" >+5</td>\n",
       "      <td id=\"T_9806d_row0_col5\" class=\"data row0 col5\" >13</td>\n",
       "      <td id=\"T_9806d_row0_col6\" class=\"data row0 col6\" >12 - 17</td>\n",
       "      <td id=\"T_9806d_row0_col7\" class=\"data row0 col7\" >135</td>\n",
       "    </tr>\n",
       "    <tr>\n",
       "      <td id=\"T_9806d_row1_col0\" class=\"data row1 col0\" >2</td>\n",
       "      <td id=\"T_9806d_row1_col1\" class=\"data row1 col1\" >15</td>\n",
       "      <td id=\"T_9806d_row1_col2\" class=\"data row1 col2\" >+1</td>\n",
       "      <td id=\"T_9806d_row1_col3\" class=\"data row1 col3\" >37 - 54</td>\n",
       "      <td id=\"T_9806d_row1_col4\" class=\"data row1 col4\" >+5</td>\n",
       "      <td id=\"T_9806d_row1_col5\" class=\"data row1 col5\" >13</td>\n",
       "      <td id=\"T_9806d_row1_col6\" class=\"data row1 col6\" >18 - 23</td>\n",
       "      <td id=\"T_9806d_row1_col7\" class=\"data row1 col7\" >324</td>\n",
       "    </tr>\n",
       "    <tr>\n",
       "      <td id=\"T_9806d_row2_col0\" class=\"data row2 col0\" >3</td>\n",
       "      <td id=\"T_9806d_row2_col1\" class=\"data row2 col1\" >15</td>\n",
       "      <td id=\"T_9806d_row2_col2\" class=\"data row2 col2\" >+1</td>\n",
       "      <td id=\"T_9806d_row2_col3\" class=\"data row2 col3\" >55 - 72</td>\n",
       "      <td id=\"T_9806d_row2_col4\" class=\"data row2 col4\" >+6</td>\n",
       "      <td id=\"T_9806d_row2_col5\" class=\"data row2 col5\" >14</td>\n",
       "      <td id=\"T_9806d_row2_col6\" class=\"data row2 col6\" >24 - 28</td>\n",
       "      <td id=\"T_9806d_row2_col7\" class=\"data row2 col7\" >607</td>\n",
       "    </tr>\n",
       "    <tr>\n",
       "      <td id=\"T_9806d_row3_col0\" class=\"data row3 col0\" >4</td>\n",
       "      <td id=\"T_9806d_row3_col1\" class=\"data row3 col1\" >15</td>\n",
       "      <td id=\"T_9806d_row3_col2\" class=\"data row3 col2\" >+2</td>\n",
       "      <td id=\"T_9806d_row3_col3\" class=\"data row3 col3\" >73 - 90</td>\n",
       "      <td id=\"T_9806d_row3_col4\" class=\"data row3 col4\" >+6</td>\n",
       "      <td id=\"T_9806d_row3_col5\" class=\"data row3 col5\" >14</td>\n",
       "      <td id=\"T_9806d_row3_col6\" class=\"data row3 col6\" >29 - 34</td>\n",
       "      <td id=\"T_9806d_row3_col7\" class=\"data row3 col7\" >945</td>\n",
       "    </tr>\n",
       "    <tr>\n",
       "      <td id=\"T_9806d_row4_col0\" class=\"data row4 col0\" >5</td>\n",
       "      <td id=\"T_9806d_row4_col1\" class=\"data row4 col1\" >15</td>\n",
       "      <td id=\"T_9806d_row4_col2\" class=\"data row4 col2\" >+2</td>\n",
       "      <td id=\"T_9806d_row4_col3\" class=\"data row4 col3\" >91 - 108</td>\n",
       "      <td id=\"T_9806d_row4_col4\" class=\"data row4 col4\" >+7</td>\n",
       "      <td id=\"T_9806d_row4_col5\" class=\"data row4 col5\" >15</td>\n",
       "      <td id=\"T_9806d_row4_col6\" class=\"data row4 col6\" >35 - 40</td>\n",
       "      <td id=\"T_9806d_row4_col7\" class=\"data row4 col7\" >1,429</td>\n",
       "    </tr>\n",
       "    <tr>\n",
       "      <td id=\"T_9806d_row5_col0\" class=\"data row5 col0\" >6</td>\n",
       "      <td id=\"T_9806d_row5_col1\" class=\"data row5 col1\" >16</td>\n",
       "      <td id=\"T_9806d_row5_col2\" class=\"data row5 col2\" >+3</td>\n",
       "      <td id=\"T_9806d_row5_col3\" class=\"data row5 col3\" >109 - 126</td>\n",
       "      <td id=\"T_9806d_row5_col4\" class=\"data row5 col4\" >+7</td>\n",
       "      <td id=\"T_9806d_row5_col5\" class=\"data row5 col5\" >15</td>\n",
       "      <td id=\"T_9806d_row5_col6\" class=\"data row5 col6\" >41 - 45</td>\n",
       "      <td id=\"T_9806d_row5_col7\" class=\"data row5 col7\" >2,038</td>\n",
       "    </tr>\n",
       "    <tr>\n",
       "      <td id=\"T_9806d_row6_col0\" class=\"data row6 col0\" >7</td>\n",
       "      <td id=\"T_9806d_row6_col1\" class=\"data row6 col1\" >16</td>\n",
       "      <td id=\"T_9806d_row6_col2\" class=\"data row6 col2\" >+3</td>\n",
       "      <td id=\"T_9806d_row6_col3\" class=\"data row6 col3\" >127 - 144</td>\n",
       "      <td id=\"T_9806d_row6_col4\" class=\"data row6 col4\" >+7</td>\n",
       "      <td id=\"T_9806d_row6_col5\" class=\"data row6 col5\" >15</td>\n",
       "      <td id=\"T_9806d_row6_col6\" class=\"data row6 col6\" >46 - 51</td>\n",
       "      <td id=\"T_9806d_row6_col7\" class=\"data row6 col7\" >2,657</td>\n",
       "    </tr>\n",
       "    <tr>\n",
       "      <td id=\"T_9806d_row7_col0\" class=\"data row7 col0\" >8</td>\n",
       "      <td id=\"T_9806d_row7_col1\" class=\"data row7 col1\" >16</td>\n",
       "      <td id=\"T_9806d_row7_col2\" class=\"data row7 col2\" >+4</td>\n",
       "      <td id=\"T_9806d_row7_col3\" class=\"data row7 col3\" >145 - 162</td>\n",
       "      <td id=\"T_9806d_row7_col4\" class=\"data row7 col4\" >+8</td>\n",
       "      <td id=\"T_9806d_row7_col5\" class=\"data row7 col5\" >16</td>\n",
       "      <td id=\"T_9806d_row7_col6\" class=\"data row7 col6\" >52 - 57</td>\n",
       "      <td id=\"T_9806d_row7_col7\" class=\"data row7 col7\" >3,518</td>\n",
       "    </tr>\n",
       "    <tr>\n",
       "      <td id=\"T_9806d_row8_col0\" class=\"data row8 col0\" >9</td>\n",
       "      <td id=\"T_9806d_row8_col1\" class=\"data row8 col1\" >16</td>\n",
       "      <td id=\"T_9806d_row8_col2\" class=\"data row8 col2\" >+4</td>\n",
       "      <td id=\"T_9806d_row8_col3\" class=\"data row8 col3\" >163 - 180</td>\n",
       "      <td id=\"T_9806d_row8_col4\" class=\"data row8 col4\" >+8</td>\n",
       "      <td id=\"T_9806d_row8_col5\" class=\"data row8 col5\" >16</td>\n",
       "      <td id=\"T_9806d_row8_col6\" class=\"data row8 col6\" >58 - 62</td>\n",
       "      <td id=\"T_9806d_row8_col7\" class=\"data row8 col7\" >4,338</td>\n",
       "    </tr>\n",
       "    <tr>\n",
       "      <td id=\"T_9806d_row9_col0\" class=\"data row9 col0\" >10</td>\n",
       "      <td id=\"T_9806d_row9_col1\" class=\"data row9 col1\" >17</td>\n",
       "      <td id=\"T_9806d_row9_col2\" class=\"data row9 col2\" >+5</td>\n",
       "      <td id=\"T_9806d_row9_col3\" class=\"data row9 col3\" >181 - 198</td>\n",
       "      <td id=\"T_9806d_row9_col4\" class=\"data row9 col4\" >+9</td>\n",
       "      <td id=\"T_9806d_row9_col5\" class=\"data row9 col5\" >17</td>\n",
       "      <td id=\"T_9806d_row9_col6\" class=\"data row9 col6\" >63 - 68</td>\n",
       "      <td id=\"T_9806d_row9_col7\" class=\"data row9 col7\" >5,720</td>\n",
       "    </tr>\n",
       "    <tr>\n",
       "      <td id=\"T_9806d_row10_col0\" class=\"data row10 col0\" >11</td>\n",
       "      <td id=\"T_9806d_row10_col1\" class=\"data row10 col1\" >17</td>\n",
       "      <td id=\"T_9806d_row10_col2\" class=\"data row10 col2\" >+5</td>\n",
       "      <td id=\"T_9806d_row10_col3\" class=\"data row10 col3\" >199 - 216</td>\n",
       "      <td id=\"T_9806d_row10_col4\" class=\"data row10 col4\" >+9</td>\n",
       "      <td id=\"T_9806d_row10_col5\" class=\"data row10 col5\" >17</td>\n",
       "      <td id=\"T_9806d_row10_col6\" class=\"data row10 col6\" >69 - 73</td>\n",
       "      <td id=\"T_9806d_row10_col7\" class=\"data row10 col7\" >6,800</td>\n",
       "    </tr>\n",
       "    <tr>\n",
       "      <td id=\"T_9806d_row11_col0\" class=\"data row11 col0\" >12</td>\n",
       "      <td id=\"T_9806d_row11_col1\" class=\"data row11 col1\" >17</td>\n",
       "      <td id=\"T_9806d_row11_col2\" class=\"data row11 col2\" >+6</td>\n",
       "      <td id=\"T_9806d_row11_col3\" class=\"data row11 col3\" >217 - 234</td>\n",
       "      <td id=\"T_9806d_row11_col4\" class=\"data row11 col4\" >+10</td>\n",
       "      <td id=\"T_9806d_row11_col5\" class=\"data row11 col5\" >18</td>\n",
       "      <td id=\"T_9806d_row11_col6\" class=\"data row11 col6\" >74 - 79</td>\n",
       "      <td id=\"T_9806d_row11_col7\" class=\"data row11 col7\" >8,306</td>\n",
       "    </tr>\n",
       "    <tr>\n",
       "      <td id=\"T_9806d_row12_col0\" class=\"data row12 col0\" >13</td>\n",
       "      <td id=\"T_9806d_row12_col1\" class=\"data row12 col1\" >18</td>\n",
       "      <td id=\"T_9806d_row12_col2\" class=\"data row12 col2\" >+6</td>\n",
       "      <td id=\"T_9806d_row12_col3\" class=\"data row12 col3\" >235 - 252</td>\n",
       "      <td id=\"T_9806d_row12_col4\" class=\"data row12 col4\" >+10</td>\n",
       "      <td id=\"T_9806d_row12_col5\" class=\"data row12 col5\" >18</td>\n",
       "      <td id=\"T_9806d_row12_col6\" class=\"data row12 col6\" >80 - 85</td>\n",
       "      <td id=\"T_9806d_row12_col7\" class=\"data row12 col7\" >10,012</td>\n",
       "    </tr>\n",
       "    <tr>\n",
       "      <td id=\"T_9806d_row13_col0\" class=\"data row13 col0\" >14</td>\n",
       "      <td id=\"T_9806d_row13_col1\" class=\"data row13 col1\" >18</td>\n",
       "      <td id=\"T_9806d_row13_col2\" class=\"data row13 col2\" >+6</td>\n",
       "      <td id=\"T_9806d_row13_col3\" class=\"data row13 col3\" >253 - 269</td>\n",
       "      <td id=\"T_9806d_row13_col4\" class=\"data row13 col4\" >+11</td>\n",
       "      <td id=\"T_9806d_row13_col5\" class=\"data row13 col5\" >19</td>\n",
       "      <td id=\"T_9806d_row13_col6\" class=\"data row13 col6\" >86 - 90</td>\n",
       "      <td id=\"T_9806d_row13_col7\" class=\"data row13 col7\" >11,927</td>\n",
       "    </tr>\n",
       "    <tr>\n",
       "      <td id=\"T_9806d_row14_col0\" class=\"data row14 col0\" >15</td>\n",
       "      <td id=\"T_9806d_row14_col1\" class=\"data row14 col1\" >18</td>\n",
       "      <td id=\"T_9806d_row14_col2\" class=\"data row14 col2\" >+7</td>\n",
       "      <td id=\"T_9806d_row14_col3\" class=\"data row14 col3\" >270 - 287</td>\n",
       "      <td id=\"T_9806d_row14_col4\" class=\"data row14 col4\" >+11</td>\n",
       "      <td id=\"T_9806d_row14_col5\" class=\"data row14 col5\" >19</td>\n",
       "      <td id=\"T_9806d_row14_col6\" class=\"data row14 col6\" >91 - 96</td>\n",
       "      <td id=\"T_9806d_row14_col7\" class=\"data row14 col7\" >13,563</td>\n",
       "    </tr>\n",
       "    <tr>\n",
       "      <td id=\"T_9806d_row15_col0\" class=\"data row15 col0\" >16</td>\n",
       "      <td id=\"T_9806d_row15_col1\" class=\"data row15 col1\" >18</td>\n",
       "      <td id=\"T_9806d_row15_col2\" class=\"data row15 col2\" >+7</td>\n",
       "      <td id=\"T_9806d_row15_col3\" class=\"data row15 col3\" >288 - 305</td>\n",
       "      <td id=\"T_9806d_row15_col4\" class=\"data row15 col4\" >+12</td>\n",
       "      <td id=\"T_9806d_row15_col5\" class=\"data row15 col5\" >20</td>\n",
       "      <td id=\"T_9806d_row15_col6\" class=\"data row15 col6\" >97 - 102</td>\n",
       "      <td id=\"T_9806d_row15_col7\" class=\"data row15 col7\" >15,870</td>\n",
       "    </tr>\n",
       "    <tr>\n",
       "      <td id=\"T_9806d_row16_col0\" class=\"data row16 col0\" >17</td>\n",
       "      <td id=\"T_9806d_row16_col1\" class=\"data row16 col1\" >19</td>\n",
       "      <td id=\"T_9806d_row16_col2\" class=\"data row16 col2\" >+8</td>\n",
       "      <td id=\"T_9806d_row16_col3\" class=\"data row16 col3\" >306 - 323</td>\n",
       "      <td id=\"T_9806d_row16_col4\" class=\"data row16 col4\" >+12</td>\n",
       "      <td id=\"T_9806d_row16_col5\" class=\"data row16 col5\" >20</td>\n",
       "      <td id=\"T_9806d_row16_col6\" class=\"data row16 col6\" >103 - 107</td>\n",
       "      <td id=\"T_9806d_row16_col7\" class=\"data row16 col7\" >18,418</td>\n",
       "    </tr>\n",
       "    <tr>\n",
       "      <td id=\"T_9806d_row17_col0\" class=\"data row17 col0\" >18</td>\n",
       "      <td id=\"T_9806d_row17_col1\" class=\"data row17 col1\" >19</td>\n",
       "      <td id=\"T_9806d_row17_col2\" class=\"data row17 col2\" >+8</td>\n",
       "      <td id=\"T_9806d_row17_col3\" class=\"data row17 col3\" >324 - 341</td>\n",
       "      <td id=\"T_9806d_row17_col4\" class=\"data row17 col4\" >+13</td>\n",
       "      <td id=\"T_9806d_row17_col5\" class=\"data row17 col5\" >21</td>\n",
       "      <td id=\"T_9806d_row17_col6\" class=\"data row17 col6\" >108 - 113</td>\n",
       "      <td id=\"T_9806d_row17_col7\" class=\"data row17 col7\" >21,220</td>\n",
       "    </tr>\n",
       "    <tr>\n",
       "      <td id=\"T_9806d_row18_col0\" class=\"data row18 col0\" >19</td>\n",
       "      <td id=\"T_9806d_row18_col1\" class=\"data row18 col1\" >19</td>\n",
       "      <td id=\"T_9806d_row18_col2\" class=\"data row18 col2\" >+9</td>\n",
       "      <td id=\"T_9806d_row18_col3\" class=\"data row18 col3\" >342 - 359</td>\n",
       "      <td id=\"T_9806d_row18_col4\" class=\"data row18 col4\" >+13</td>\n",
       "      <td id=\"T_9806d_row18_col5\" class=\"data row18 col5\" >21</td>\n",
       "      <td id=\"T_9806d_row18_col6\" class=\"data row18 col6\" >114 - 118</td>\n",
       "      <td id=\"T_9806d_row18_col7\" class=\"data row18 col7\" >23,504</td>\n",
       "    </tr>\n",
       "    <tr>\n",
       "      <td id=\"T_9806d_row19_col0\" class=\"data row19 col0\" >20</td>\n",
       "      <td id=\"T_9806d_row19_col1\" class=\"data row19 col1\" >20</td>\n",
       "      <td id=\"T_9806d_row19_col2\" class=\"data row19 col2\" >+9</td>\n",
       "      <td id=\"T_9806d_row19_col3\" class=\"data row19 col3\" >360 - 393</td>\n",
       "      <td id=\"T_9806d_row19_col4\" class=\"data row19 col4\" >+14</td>\n",
       "      <td id=\"T_9806d_row19_col5\" class=\"data row19 col5\" >22</td>\n",
       "      <td id=\"T_9806d_row19_col6\" class=\"data row19 col6\" >119 - 127</td>\n",
       "      <td id=\"T_9806d_row19_col7\" class=\"data row19 col7\" >27,631</td>\n",
       "    </tr>\n",
       "    <tr>\n",
       "      <td id=\"T_9806d_row20_col0\" class=\"data row20 col0\" >21</td>\n",
       "      <td id=\"T_9806d_row20_col1\" class=\"data row20 col1\" >20</td>\n",
       "      <td id=\"T_9806d_row20_col2\" class=\"data row20 col2\" >+10</td>\n",
       "      <td id=\"T_9806d_row20_col3\" class=\"data row20 col3\" >394 - 441</td>\n",
       "      <td id=\"T_9806d_row20_col4\" class=\"data row20 col4\" >+14</td>\n",
       "      <td id=\"T_9806d_row20_col5\" class=\"data row20 col5\" >22</td>\n",
       "      <td id=\"T_9806d_row20_col6\" class=\"data row20 col6\" >128 - 140</td>\n",
       "      <td id=\"T_9806d_row20_col7\" class=\"data row20 col7\" >34,426</td>\n",
       "    </tr>\n",
       "    <tr>\n",
       "      <td id=\"T_9806d_row21_col0\" class=\"data row21 col0\" >22</td>\n",
       "      <td id=\"T_9806d_row21_col1\" class=\"data row21 col1\" >20</td>\n",
       "      <td id=\"T_9806d_row21_col2\" class=\"data row21 col2\" >+10</td>\n",
       "      <td id=\"T_9806d_row21_col3\" class=\"data row21 col3\" >442 - 490</td>\n",
       "      <td id=\"T_9806d_row21_col4\" class=\"data row21 col4\" >+15</td>\n",
       "      <td id=\"T_9806d_row21_col5\" class=\"data row21 col5\" >23</td>\n",
       "      <td id=\"T_9806d_row21_col6\" class=\"data row21 col6\" >141 - 152</td>\n",
       "      <td id=\"T_9806d_row21_col7\" class=\"data row21 col7\" >43,266</td>\n",
       "    </tr>\n",
       "    <tr>\n",
       "      <td id=\"T_9806d_row22_col0\" class=\"data row22 col0\" >23</td>\n",
       "      <td id=\"T_9806d_row22_col1\" class=\"data row22 col1\" >20</td>\n",
       "      <td id=\"T_9806d_row22_col2\" class=\"data row22 col2\" >+11</td>\n",
       "      <td id=\"T_9806d_row22_col3\" class=\"data row22 col3\" >491 - 539</td>\n",
       "      <td id=\"T_9806d_row22_col4\" class=\"data row22 col4\" >+15</td>\n",
       "      <td id=\"T_9806d_row22_col5\" class=\"data row22 col5\" >23</td>\n",
       "      <td id=\"T_9806d_row22_col6\" class=\"data row22 col6\" >153 - 164</td>\n",
       "      <td id=\"T_9806d_row22_col7\" class=\"data row22 col7\" >51,785</td>\n",
       "    </tr>\n",
       "    <tr>\n",
       "      <td id=\"T_9806d_row23_col0\" class=\"data row23 col0\" >24</td>\n",
       "      <td id=\"T_9806d_row23_col1\" class=\"data row23 col1\" >21</td>\n",
       "      <td id=\"T_9806d_row23_col2\" class=\"data row23 col2\" >+11</td>\n",
       "      <td id=\"T_9806d_row23_col3\" class=\"data row23 col3\" >540 - 588</td>\n",
       "      <td id=\"T_9806d_row23_col4\" class=\"data row23 col4\" >+16</td>\n",
       "      <td id=\"T_9806d_row23_col5\" class=\"data row23 col5\" >24</td>\n",
       "      <td id=\"T_9806d_row23_col6\" class=\"data row23 col6\" >165 - 176</td>\n",
       "      <td id=\"T_9806d_row23_col7\" class=\"data row23 col7\" >64,762</td>\n",
       "    </tr>\n",
       "    <tr>\n",
       "      <td id=\"T_9806d_row24_col0\" class=\"data row24 col0\" >25</td>\n",
       "      <td id=\"T_9806d_row24_col1\" class=\"data row24 col1\" >21</td>\n",
       "      <td id=\"T_9806d_row24_col2\" class=\"data row24 col2\" >+12</td>\n",
       "      <td id=\"T_9806d_row24_col3\" class=\"data row24 col3\" >589 - 637</td>\n",
       "      <td id=\"T_9806d_row24_col4\" class=\"data row24 col4\" >+16</td>\n",
       "      <td id=\"T_9806d_row24_col5\" class=\"data row24 col5\" >24</td>\n",
       "      <td id=\"T_9806d_row24_col6\" class=\"data row24 col6\" >177 - 188</td>\n",
       "      <td id=\"T_9806d_row24_col7\" class=\"data row24 col7\" >75,401</td>\n",
       "    </tr>\n",
       "    <tr>\n",
       "      <td id=\"T_9806d_row25_col0\" class=\"data row25 col0\" >26</td>\n",
       "      <td id=\"T_9806d_row25_col1\" class=\"data row25 col1\" >21</td>\n",
       "      <td id=\"T_9806d_row25_col2\" class=\"data row25 col2\" >+12</td>\n",
       "      <td id=\"T_9806d_row25_col3\" class=\"data row25 col3\" >638 - 686</td>\n",
       "      <td id=\"T_9806d_row25_col4\" class=\"data row25 col4\" >+17</td>\n",
       "      <td id=\"T_9806d_row25_col5\" class=\"data row25 col5\" >25</td>\n",
       "      <td id=\"T_9806d_row25_col6\" class=\"data row25 col6\" >189 - 200</td>\n",
       "      <td id=\"T_9806d_row25_col7\" class=\"data row25 col7\" >89,324</td>\n",
       "    </tr>\n",
       "    <tr>\n",
       "      <td id=\"T_9806d_row26_col0\" class=\"data row26 col0\" >27</td>\n",
       "      <td id=\"T_9806d_row26_col1\" class=\"data row26 col1\" >22</td>\n",
       "      <td id=\"T_9806d_row26_col2\" class=\"data row26 col2\" >+13</td>\n",
       "      <td id=\"T_9806d_row26_col3\" class=\"data row26 col3\" >687 - 735</td>\n",
       "      <td id=\"T_9806d_row26_col4\" class=\"data row26 col4\" >+17</td>\n",
       "      <td id=\"T_9806d_row26_col5\" class=\"data row26 col5\" >25</td>\n",
       "      <td id=\"T_9806d_row26_col6\" class=\"data row26 col6\" >201 - 213</td>\n",
       "      <td id=\"T_9806d_row26_col7\" class=\"data row26 col7\" >104,748</td>\n",
       "    </tr>\n",
       "    <tr>\n",
       "      <td id=\"T_9806d_row27_col0\" class=\"data row27 col0\" >28</td>\n",
       "      <td id=\"T_9806d_row27_col1\" class=\"data row27 col1\" >22</td>\n",
       "      <td id=\"T_9806d_row27_col2\" class=\"data row27 col2\" >+13</td>\n",
       "      <td id=\"T_9806d_row27_col3\" class=\"data row27 col3\" >736 - 784</td>\n",
       "      <td id=\"T_9806d_row27_col4\" class=\"data row27 col4\" >+18</td>\n",
       "      <td id=\"T_9806d_row27_col5\" class=\"data row27 col5\" >26</td>\n",
       "      <td id=\"T_9806d_row27_col6\" class=\"data row27 col6\" >214 - 225</td>\n",
       "      <td id=\"T_9806d_row27_col7\" class=\"data row27 col7\" >121,743</td>\n",
       "    </tr>\n",
       "    <tr>\n",
       "      <td id=\"T_9806d_row28_col0\" class=\"data row28 col0\" >29</td>\n",
       "      <td id=\"T_9806d_row28_col1\" class=\"data row28 col1\" >22</td>\n",
       "      <td id=\"T_9806d_row28_col2\" class=\"data row28 col2\" >+14</td>\n",
       "      <td id=\"T_9806d_row28_col3\" class=\"data row28 col3\" >785 - 833</td>\n",
       "      <td id=\"T_9806d_row28_col4\" class=\"data row28 col4\" >+18</td>\n",
       "      <td id=\"T_9806d_row28_col5\" class=\"data row28 col5\" >26</td>\n",
       "      <td id=\"T_9806d_row28_col6\" class=\"data row28 col6\" >226 - 237</td>\n",
       "      <td id=\"T_9806d_row28_col7\" class=\"data row28 col7\" >136,777</td>\n",
       "    </tr>\n",
       "    <tr>\n",
       "      <td id=\"T_9806d_row29_col0\" class=\"data row29 col0\" >30</td>\n",
       "      <td id=\"T_9806d_row29_col1\" class=\"data row29 col1\" >22</td>\n",
       "      <td id=\"T_9806d_row29_col2\" class=\"data row29 col2\" >+14</td>\n",
       "      <td id=\"T_9806d_row29_col3\" class=\"data row29 col3\" >834 - 882</td>\n",
       "      <td id=\"T_9806d_row29_col4\" class=\"data row29 col4\" >+19</td>\n",
       "      <td id=\"T_9806d_row29_col5\" class=\"data row29 col5\" >27</td>\n",
       "      <td id=\"T_9806d_row29_col6\" class=\"data row29 col6\" >238 - 249</td>\n",
       "      <td id=\"T_9806d_row29_col7\" class=\"data row29 col7\" >156,699</td>\n",
       "    </tr>\n",
       "  </tbody>\n",
       "</table>\n"
      ],
      "text/plain": [
       "<pandas.io.formats.style.Styler at 0x13aa4aef0>"
      ]
     },
     "execution_count": 72,
     "metadata": {},
     "output_type": "execute_result"
    }
   ],
   "source": [
    "# Tab. 1: create baseline table\n",
    "import numpy as np\n",
    "from scipy import optimize\n",
    "import pandas as pd\n",
    "from pprint import pprint\n",
    "import sys\n",
    "sys.path.append('../../assets/python/')\n",
    "import estats5e as e5e\n",
    "\n",
    "\n",
    "# get monster data\n",
    "dfM = pd.read_csv('../../assets/data/monsters.csv')\n",
    "dfM['unadj AC'] = dfM.apply(lambda row: unadjusted_armor_class(row), axis=1)\n",
    "dfM['Ave Save'] = dfM.apply(lambda row: average_save_bonus(row), axis=1)\n",
    "dfM['Ave Save'] = dfM['Ave Save'] + dfM.apply(lambda row: 4 if 'magic resistance' in row['AC adjustments'] else 0, axis=1)\n",
    "dfM['eff AC'] = 0.5*(dfM['Ave Save']+14 + dfM['unadj AC'])\n",
    "\n",
    "dfM = dfM[['CR','adj HP','AC','adj AC','adj DPR','adj AB','Ave Save','unadj AC']].groupby(['CR']).mean().reset_index()\n",
    "dfM = dfM[dfM['CR'].between(1, 30)]\n",
    "dfM.sort_values(by='CR', inplace=True)\n",
    "\n",
    "\n",
    "\n",
    "def fit_to_piecewise_linear(x, y, **kwargs):\n",
    "    p, e = optimize.curve_fit(piecewise_linear, x, y)\n",
    "    xp = kwargs.get('xp', np.linspace(1,30,30))\n",
    "    return piecewise_linear(xp, *p)\n",
    "\n",
    "def fit_to_linear(x, y):\n",
    "    coefs = np.polyfit(x, y, 1)\n",
    "    poly = np.poly1d(coefs)\n",
    "    return poly(np.linspace(1,30,30))\n",
    "\n",
    "xp = np.linspace(1,30,30).tolist()\n",
    "xpm = [0.5] + [(xp[i] + xp[i+1])/2 for i in range(len(xp)-1)] + [30.5]\n",
    "dpr = list(fit_to_piecewise_linear(dfM['CR'].to_numpy(), dfM['adj DPR'].to_numpy(), xp=np.array(xpm)))\n",
    "dpr_range = [f'{np.ceil(dpr[i]):.0f} - {np.ceil(dpr[i+1])-1:.0f}' for i in range(len(xp))]\n",
    "\n",
    "hp = list(fit_to_piecewise_linear(dfM['CR'].to_numpy(), dfM['adj HP'].to_numpy(), xp=np.array(xpm)))\n",
    "hp_range = [f'{np.ceil(hp[i]):.0f} - {np.ceil(hp[i+1])-1:.0f}' for i in range(len(xp))]\n",
    "\n",
    "n_round = 0\n",
    "fit = {\n",
    "    'CR':  list(range(1,31)),\n",
    "    'Attack Bonus':  list(fit_to_linear(dfM['CR'].to_numpy(), dfM['adj AB'].to_numpy()).round(n_round)),\n",
    "    'Armor Class':  list(fit_to_linear(dfM['CR'].to_numpy(), dfM['unadj AC'].to_numpy()).round(n_round)),\n",
    "    'Save DC':  list(fit_to_linear(dfM['CR'].to_numpy(), dfM['adj AB'].to_numpy()+8).round(n_round)),\n",
    "    'DPR Mean': list(fit_to_piecewise_linear(dfM['CR'].to_numpy(), dfM['adj DPR'].to_numpy())),\n",
    "    'Damage / Round': dpr_range,\n",
    "    'HP Mean':  list(fit_to_piecewise_linear(dfM['CR'].to_numpy(), dfM['adj HP'].to_numpy())),\n",
    "    'Hit Points': hp_range,\n",
    "    'Save Bonus':  list(fit_to_piecewise_linear(dfM['CR'].to_numpy(), dfM['Ave Save'].to_numpy()).round(n_round)),\n",
    "    'XP':  [],\n",
    "}\n",
    "fit['XP'] = list(e5e.effXP(\n",
    "    np.array(fit['HP Mean']), np.array(fit['Armor Class']), \n",
    "    np.array(fit['DPR Mean']), np.array(fit['Attack Bonus']), method='linear').round(n_round))\n",
    "\"\"\"fit['XP'] = [\n",
    "    150,300,600,1000,1400,\n",
    "    2000,2600,3500,4500,5700,\n",
    "    6800,8200,10000,11500,13500,\n",
    "    16000,18000,21000,23000,27000,\n",
    "    34000,42000,52000,63000,73000,\n",
    "    87000,102000,118000,133000,155000]\"\"\"\n",
    "\n",
    "dfB = pd.DataFrame(fit)\n",
    "dfB = dfB[['CR','Armor Class','Save Bonus','Hit Points','Attack Bonus','Save DC','Damage / Round','XP']]\n",
    "dfB = dfB.style.format({\n",
    "    'CR': '{:,.0f}',\n",
    "    'Attack Bonus': '{:+,.0f}',\n",
    "    'Armor Class': '{:,.0f}',\n",
    "    'Save DC': '{:,.0f}',\n",
    "    #'DPR Mean': '{:,.0f}',\n",
    "    #'HP Mean': '{:,.0f}',\n",
    "    'Save Bonus': '{:+,.0f}',\n",
    "    'XP': '{:,.0f}',\n",
    "}).hide().set_table_styles([\n",
    "        {'selector': 'th', 'props': 'text-align: center;'},\n",
    "        {'selector': 'td', 'props': 'text-align: center;;'},\n",
    "    ], overwrite=False)\n",
    "\"\"\"dfB.to_html(\n",
    "    './tab-monster-baseline-stats.html',\n",
    "    index=False, classes='wide', border=0)\"\"\"\n",
    "dfB"
   ]
  },
  {
   "cell_type": "code",
   "execution_count": null,
   "metadata": {},
   "outputs": [
    {
     "data": {
      "application/vnd.plotly.v1+json": {
       "config": {
        "autosizable": true,
        "displayModeBar": "hover",
        "displaylogo": false,
        "doubleClick": "reset",
        "modeBarButtonsToRemove": [
         "select2d",
         "lasso2d",
         "zoom2d",
         "zoomIn2d",
         "zoomOut2d",
         "pan2d",
         "autoScale2d",
         "hoverClosestCartesian",
         "hoverCompareCartesian",
         "toggleSpikelines",
         "resetScale2d"
        ],
        "plotlyServerURL": "https://plot.ly",
        "responsive": true,
        "showAxisDragHandles": false,
        "toImageButtonOptions": {
         "filename": "tfb-plot",
         "format": "png",
         "height": 450,
         "scale": 2,
         "width": 600
        }
       },
       "data": [
        {
         "hovertemplate": "<b>%{x}</b><br>%{y:.1f}% from HP<extra></extra>",
         "name": "HP",
         "textposition": "none",
         "type": "bar",
         "x": [
          "1-4",
          "5-10",
          "11-17",
          "18-30"
         ],
         "y": [
          83.92608638079605,
          79.88319613931496,
          72.72515358151705,
          70.76363941453295
         ]
        },
        {
         "hovertemplate": "<b>%{x}</b><br>%{y:.1f}% from Regeneration<extra></extra>",
         "name": "Regeneration",
         "textposition": "none",
         "type": "bar",
         "x": [
          "1-4",
          "5-10",
          "11-17",
          "18-30"
         ],
         "y": [
          0.8394732305478312,
          1.1814039852694436,
          1.0804071759989835,
          1.2441937624419377
         ]
        },
        {
         "hovertemplate": "<b>%{x}</b><br>%{y:.1f}% from Legendary Resistances<extra></extra>",
         "name": "Legendary Resistances",
         "textposition": "none",
         "type": "bar",
         "x": [
          "1-4",
          "5-10",
          "11-17",
          "18-30"
         ],
         "y": [
          0.07495296701319921,
          1.2172041060351844,
          11.236234630389431,
          17.618927762396176
         ]
        },
        {
         "hovertemplate": "<b>%{x}</b><br>%{y:.1f}% from Resistances/Immunities<extra></extra>",
         "name": "Resistances/Immunities",
         "textposition": "none",
         "type": "bar",
         "x": [
          "1-4",
          "5-10",
          "11-17",
          "18-30"
         ],
         "y": [
          9.428958328648774,
          9.782084664898937,
          8.999665182907476,
          6.339381735807609
         ]
        },
        {
         "hovertemplate": "<b>%{x}</b><br>%{y:.1f}% from Other<extra></extra>",
         "name": "Other",
         "textposition": "none",
         "type": "bar",
         "x": [
          "1-4",
          "5-10",
          "11-17",
          "18-30"
         ],
         "y": [
          5.730529092994146,
          7.936111104481459,
          5.958539429187059,
          4.033857324821332
         ]
        }
       ],
       "layout": {
        "barmode": "stack",
        "height": 450,
        "legend": {
         "orientation": "v",
         "tracegroupgap": 0,
         "traceorder": "normal",
         "x": 0.01,
         "xanchor": "left",
         "y": 0.99,
         "yanchor": "top"
        },
        "template": {
         "layout": {
          "autosize": false,
          "font": {
           "family": "sans-serif",
           "size": 14
          },
          "hoverlabel": {
           "align": "left"
          },
          "hovermode": "closest",
          "margin": {
           "b": 55,
           "l": 60,
           "pad": 4,
           "r": 25,
           "t": 20
          },
          "template": {
           "data": {
            "bar": [
             {
              "error_x": {
               "color": "#2a3f5f"
              },
              "error_y": {
               "color": "#2a3f5f"
              },
              "marker": {
               "line": {
                "color": "white",
                "width": 0.5
               },
               "pattern": {
                "fillmode": "overlay",
                "size": 10,
                "solidity": 0.2
               }
              },
              "type": "bar"
             }
            ],
            "barpolar": [
             {
              "marker": {
               "line": {
                "color": "white",
                "width": 0.5
               },
               "pattern": {
                "fillmode": "overlay",
                "size": 10,
                "solidity": 0.2
               }
              },
              "type": "barpolar"
             }
            ],
            "carpet": [
             {
              "aaxis": {
               "endlinecolor": "#2a3f5f",
               "gridcolor": "#C8D4E3",
               "linecolor": "#C8D4E3",
               "minorgridcolor": "#C8D4E3",
               "startlinecolor": "#2a3f5f"
              },
              "baxis": {
               "endlinecolor": "#2a3f5f",
               "gridcolor": "#C8D4E3",
               "linecolor": "#C8D4E3",
               "minorgridcolor": "#C8D4E3",
               "startlinecolor": "#2a3f5f"
              },
              "type": "carpet"
             }
            ],
            "choropleth": [
             {
              "colorbar": {
               "outlinewidth": 0,
               "ticks": ""
              },
              "type": "choropleth"
             }
            ],
            "contour": [
             {
              "colorbar": {
               "outlinewidth": 0,
               "ticks": ""
              },
              "colorscale": [
               [
                0,
                "#0d0887"
               ],
               [
                0.1111111111111111,
                "#46039f"
               ],
               [
                0.2222222222222222,
                "#7201a8"
               ],
               [
                0.3333333333333333,
                "#9c179e"
               ],
               [
                0.4444444444444444,
                "#bd3786"
               ],
               [
                0.5555555555555556,
                "#d8576b"
               ],
               [
                0.6666666666666666,
                "#ed7953"
               ],
               [
                0.7777777777777778,
                "#fb9f3a"
               ],
               [
                0.8888888888888888,
                "#fdca26"
               ],
               [
                1,
                "#f0f921"
               ]
              ],
              "type": "contour"
             }
            ],
            "contourcarpet": [
             {
              "colorbar": {
               "outlinewidth": 0,
               "ticks": ""
              },
              "type": "contourcarpet"
             }
            ],
            "heatmap": [
             {
              "colorbar": {
               "outlinewidth": 0,
               "ticks": ""
              },
              "colorscale": [
               [
                0,
                "#0d0887"
               ],
               [
                0.1111111111111111,
                "#46039f"
               ],
               [
                0.2222222222222222,
                "#7201a8"
               ],
               [
                0.3333333333333333,
                "#9c179e"
               ],
               [
                0.4444444444444444,
                "#bd3786"
               ],
               [
                0.5555555555555556,
                "#d8576b"
               ],
               [
                0.6666666666666666,
                "#ed7953"
               ],
               [
                0.7777777777777778,
                "#fb9f3a"
               ],
               [
                0.8888888888888888,
                "#fdca26"
               ],
               [
                1,
                "#f0f921"
               ]
              ],
              "type": "heatmap"
             }
            ],
            "heatmapgl": [
             {
              "colorbar": {
               "outlinewidth": 0,
               "ticks": ""
              },
              "colorscale": [
               [
                0,
                "#0d0887"
               ],
               [
                0.1111111111111111,
                "#46039f"
               ],
               [
                0.2222222222222222,
                "#7201a8"
               ],
               [
                0.3333333333333333,
                "#9c179e"
               ],
               [
                0.4444444444444444,
                "#bd3786"
               ],
               [
                0.5555555555555556,
                "#d8576b"
               ],
               [
                0.6666666666666666,
                "#ed7953"
               ],
               [
                0.7777777777777778,
                "#fb9f3a"
               ],
               [
                0.8888888888888888,
                "#fdca26"
               ],
               [
                1,
                "#f0f921"
               ]
              ],
              "type": "heatmapgl"
             }
            ],
            "histogram": [
             {
              "marker": {
               "pattern": {
                "fillmode": "overlay",
                "size": 10,
                "solidity": 0.2
               }
              },
              "type": "histogram"
             }
            ],
            "histogram2d": [
             {
              "colorbar": {
               "outlinewidth": 0,
               "ticks": ""
              },
              "colorscale": [
               [
                0,
                "#0d0887"
               ],
               [
                0.1111111111111111,
                "#46039f"
               ],
               [
                0.2222222222222222,
                "#7201a8"
               ],
               [
                0.3333333333333333,
                "#9c179e"
               ],
               [
                0.4444444444444444,
                "#bd3786"
               ],
               [
                0.5555555555555556,
                "#d8576b"
               ],
               [
                0.6666666666666666,
                "#ed7953"
               ],
               [
                0.7777777777777778,
                "#fb9f3a"
               ],
               [
                0.8888888888888888,
                "#fdca26"
               ],
               [
                1,
                "#f0f921"
               ]
              ],
              "type": "histogram2d"
             }
            ],
            "histogram2dcontour": [
             {
              "colorbar": {
               "outlinewidth": 0,
               "ticks": ""
              },
              "colorscale": [
               [
                0,
                "#0d0887"
               ],
               [
                0.1111111111111111,
                "#46039f"
               ],
               [
                0.2222222222222222,
                "#7201a8"
               ],
               [
                0.3333333333333333,
                "#9c179e"
               ],
               [
                0.4444444444444444,
                "#bd3786"
               ],
               [
                0.5555555555555556,
                "#d8576b"
               ],
               [
                0.6666666666666666,
                "#ed7953"
               ],
               [
                0.7777777777777778,
                "#fb9f3a"
               ],
               [
                0.8888888888888888,
                "#fdca26"
               ],
               [
                1,
                "#f0f921"
               ]
              ],
              "type": "histogram2dcontour"
             }
            ],
            "mesh3d": [
             {
              "colorbar": {
               "outlinewidth": 0,
               "ticks": ""
              },
              "type": "mesh3d"
             }
            ],
            "parcoords": [
             {
              "line": {
               "colorbar": {
                "outlinewidth": 0,
                "ticks": ""
               }
              },
              "type": "parcoords"
             }
            ],
            "pie": [
             {
              "automargin": true,
              "type": "pie"
             }
            ],
            "scatter": [
             {
              "fillpattern": {
               "fillmode": "overlay",
               "size": 10,
               "solidity": 0.2
              },
              "type": "scatter"
             }
            ],
            "scatter3d": [
             {
              "line": {
               "colorbar": {
                "outlinewidth": 0,
                "ticks": ""
               }
              },
              "marker": {
               "colorbar": {
                "outlinewidth": 0,
                "ticks": ""
               }
              },
              "type": "scatter3d"
             }
            ],
            "scattercarpet": [
             {
              "marker": {
               "colorbar": {
                "outlinewidth": 0,
                "ticks": ""
               }
              },
              "type": "scattercarpet"
             }
            ],
            "scattergeo": [
             {
              "marker": {
               "colorbar": {
                "outlinewidth": 0,
                "ticks": ""
               }
              },
              "type": "scattergeo"
             }
            ],
            "scattergl": [
             {
              "marker": {
               "colorbar": {
                "outlinewidth": 0,
                "ticks": ""
               }
              },
              "type": "scattergl"
             }
            ],
            "scattermapbox": [
             {
              "marker": {
               "colorbar": {
                "outlinewidth": 0,
                "ticks": ""
               }
              },
              "type": "scattermapbox"
             }
            ],
            "scatterpolar": [
             {
              "marker": {
               "colorbar": {
                "outlinewidth": 0,
                "ticks": ""
               }
              },
              "type": "scatterpolar"
             }
            ],
            "scatterpolargl": [
             {
              "marker": {
               "colorbar": {
                "outlinewidth": 0,
                "ticks": ""
               }
              },
              "type": "scatterpolargl"
             }
            ],
            "scatterternary": [
             {
              "marker": {
               "colorbar": {
                "outlinewidth": 0,
                "ticks": ""
               }
              },
              "type": "scatterternary"
             }
            ],
            "surface": [
             {
              "colorbar": {
               "outlinewidth": 0,
               "ticks": ""
              },
              "colorscale": [
               [
                0,
                "#0d0887"
               ],
               [
                0.1111111111111111,
                "#46039f"
               ],
               [
                0.2222222222222222,
                "#7201a8"
               ],
               [
                0.3333333333333333,
                "#9c179e"
               ],
               [
                0.4444444444444444,
                "#bd3786"
               ],
               [
                0.5555555555555556,
                "#d8576b"
               ],
               [
                0.6666666666666666,
                "#ed7953"
               ],
               [
                0.7777777777777778,
                "#fb9f3a"
               ],
               [
                0.8888888888888888,
                "#fdca26"
               ],
               [
                1,
                "#f0f921"
               ]
              ],
              "type": "surface"
             }
            ],
            "table": [
             {
              "cells": {
               "fill": {
                "color": "#EBF0F8"
               },
               "line": {
                "color": "white"
               }
              },
              "header": {
               "fill": {
                "color": "#C8D4E3"
               },
               "line": {
                "color": "white"
               }
              },
              "type": "table"
             }
            ]
           },
           "layout": {
            "annotationdefaults": {
             "arrowcolor": "#2a3f5f",
             "arrowhead": 0,
             "arrowwidth": 1
            },
            "autotypenumbers": "strict",
            "coloraxis": {
             "colorbar": {
              "outlinewidth": 0,
              "ticks": ""
             }
            },
            "colorscale": {
             "diverging": [
              [
               0,
               "#8e0152"
              ],
              [
               0.1,
               "#c51b7d"
              ],
              [
               0.2,
               "#de77ae"
              ],
              [
               0.3,
               "#f1b6da"
              ],
              [
               0.4,
               "#fde0ef"
              ],
              [
               0.5,
               "#f7f7f7"
              ],
              [
               0.6,
               "#e6f5d0"
              ],
              [
               0.7,
               "#b8e186"
              ],
              [
               0.8,
               "#7fbc41"
              ],
              [
               0.9,
               "#4d9221"
              ],
              [
               1,
               "#276419"
              ]
             ],
             "sequential": [
              [
               0,
               "#0d0887"
              ],
              [
               0.1111111111111111,
               "#46039f"
              ],
              [
               0.2222222222222222,
               "#7201a8"
              ],
              [
               0.3333333333333333,
               "#9c179e"
              ],
              [
               0.4444444444444444,
               "#bd3786"
              ],
              [
               0.5555555555555556,
               "#d8576b"
              ],
              [
               0.6666666666666666,
               "#ed7953"
              ],
              [
               0.7777777777777778,
               "#fb9f3a"
              ],
              [
               0.8888888888888888,
               "#fdca26"
              ],
              [
               1,
               "#f0f921"
              ]
             ],
             "sequentialminus": [
              [
               0,
               "#0d0887"
              ],
              [
               0.1111111111111111,
               "#46039f"
              ],
              [
               0.2222222222222222,
               "#7201a8"
              ],
              [
               0.3333333333333333,
               "#9c179e"
              ],
              [
               0.4444444444444444,
               "#bd3786"
              ],
              [
               0.5555555555555556,
               "#d8576b"
              ],
              [
               0.6666666666666666,
               "#ed7953"
              ],
              [
               0.7777777777777778,
               "#fb9f3a"
              ],
              [
               0.8888888888888888,
               "#fdca26"
              ],
              [
               1,
               "#f0f921"
              ]
             ]
            },
            "colorway": [
             "#636efa",
             "#EF553B",
             "#00cc96",
             "#ab63fa",
             "#FFA15A",
             "#19d3f3",
             "#FF6692",
             "#B6E880",
             "#FF97FF",
             "#FECB52"
            ],
            "font": {
             "color": "#2a3f5f"
            },
            "geo": {
             "bgcolor": "white",
             "lakecolor": "white",
             "landcolor": "white",
             "showlakes": true,
             "showland": true,
             "subunitcolor": "#C8D4E3"
            },
            "hoverlabel": {
             "align": "left"
            },
            "hovermode": "closest",
            "mapbox": {
             "style": "light"
            },
            "paper_bgcolor": "white",
            "plot_bgcolor": "white",
            "polar": {
             "angularaxis": {
              "gridcolor": "#EBF0F8",
              "linecolor": "#EBF0F8",
              "ticks": ""
             },
             "bgcolor": "white",
             "radialaxis": {
              "gridcolor": "#EBF0F8",
              "linecolor": "#EBF0F8",
              "ticks": ""
             }
            },
            "scene": {
             "xaxis": {
              "backgroundcolor": "white",
              "gridcolor": "#DFE8F3",
              "gridwidth": 2,
              "linecolor": "#EBF0F8",
              "showbackground": true,
              "ticks": "",
              "zerolinecolor": "#EBF0F8"
             },
             "yaxis": {
              "backgroundcolor": "white",
              "gridcolor": "#DFE8F3",
              "gridwidth": 2,
              "linecolor": "#EBF0F8",
              "showbackground": true,
              "ticks": "",
              "zerolinecolor": "#EBF0F8"
             },
             "zaxis": {
              "backgroundcolor": "white",
              "gridcolor": "#DFE8F3",
              "gridwidth": 2,
              "linecolor": "#EBF0F8",
              "showbackground": true,
              "ticks": "",
              "zerolinecolor": "#EBF0F8"
             }
            },
            "shapedefaults": {
             "line": {
              "color": "#2a3f5f"
             }
            },
            "ternary": {
             "aaxis": {
              "gridcolor": "#DFE8F3",
              "linecolor": "#A2B1C6",
              "ticks": ""
             },
             "baxis": {
              "gridcolor": "#DFE8F3",
              "linecolor": "#A2B1C6",
              "ticks": ""
             },
             "bgcolor": "white",
             "caxis": {
              "gridcolor": "#DFE8F3",
              "linecolor": "#A2B1C6",
              "ticks": ""
             }
            },
            "title": {
             "x": 0.05
            },
            "xaxis": {
             "automargin": true,
             "gridcolor": "#EBF0F8",
             "linecolor": "#EBF0F8",
             "ticks": "",
             "title": {
              "standoff": 15
             },
             "zerolinecolor": "#EBF0F8",
             "zerolinewidth": 2
            },
            "yaxis": {
             "automargin": true,
             "gridcolor": "#EBF0F8",
             "linecolor": "#EBF0F8",
             "ticks": "",
             "title": {
              "standoff": 15
             },
             "zerolinecolor": "#EBF0F8",
             "zerolinewidth": 2
            }
           }
          },
          "xaxis": {
           "automargin": false,
           "linecolor": "#444",
           "linewidth": 2,
           "minor": {
            "tickmode": "linear",
            "ticks": "outside"
           },
           "mirror": true,
           "showline": true,
           "tickmode": "linear",
           "ticks": "outside",
           "zeroline": false
          },
          "yaxis": {
           "automargin": true,
           "linecolor": "#444",
           "linewidth": 2,
           "minor": {
            "tickmode": "linear",
            "ticks": "outside"
           },
           "mirror": true,
           "showline": true,
           "ticks": "outside",
           "zeroline": false
          }
         }
        },
        "width": 600,
        "xaxis": {
         "title": {
          "text": "challenge rating"
         }
        },
        "yaxis": {
         "dtick": 20,
         "minor": {
          "dtick": 5,
          "tick0": 0
         },
         "range": [
          -1,
          150
         ],
         "tick0": 0,
         "title": {
          "text": "hit points (%)"
         }
        }
       }
      }
     },
     "metadata": {},
     "output_type": "display_data"
    }
   ],
   "source": [
    "\n",
    "fig = go.Figure(\n",
    "    layout=go.Layout(\n",
    "        template=tfb.FIG_TEMPLATE,\n",
    "        barmode='stack',\n",
    "        xaxis=dict(\n",
    "            title_text='challenge rating',\n",
    "        ),\n",
    "        yaxis=dict(\n",
    "            title_text='hit points (%)',\n",
    "            range=[-1, 150],\n",
    "            tick0=0, dtick=20,\n",
    "            minor=dict(tick0=0, dtick=5),\n",
    "        ),\n",
    "        legend=dict(\n",
    "            xanchor='left', yanchor='top',\n",
    "            x=0.01, y=0.99,\n",
    "            orientation='v',\n",
    "            tracegroupgap=0,\n",
    "            traceorder='normal',\n",
    "        )\n",
    "    )\n",
    ")\n",
    "\n",
    "def assign_tier(row):\n",
    "    if row['CR'] <= 4:\n",
    "        return '1-4'\n",
    "    elif row['CR'] <= 10:\n",
    "        return '5-10'\n",
    "    elif row['CR'] <= 17:\n",
    "        return '11-17'\n",
    "    else:\n",
    "        return '18-30'\n",
    "\n",
    "dfM = pd.read_csv('../../assets/data/monsters.csv')\n",
    "group_cols = ['HP','Regeneration','Legendary Resistances','Resistances/Immunities','Other']\n",
    "dfM['tier'] = dfM.apply(lambda row: assign_tier(row), axis=1)\n",
    "dfM = dfM.astype({'tier': 'category'})\n",
    "dfM['tier'] = dfM['tier'].cat.reorder_categories(['1-4','5-10','11-17','18-30'], ordered=True)\n",
    "dfM['Regeneration'] = dfM.apply(lambda row: hit_points_adjustments(row, include=['regeneration']), axis=1)\n",
    "dfM['Legendary Resistances'] = dfM.apply(lambda row: hit_points_adjustments(row, include=['legendary resistance']), axis=1)\n",
    "dfM['Resistances/Immunities'] = dfM.apply(lambda row: row['adj HP']*(1 - 1/hit_points_multiplier(row)), axis=1)\n",
    "dfM['Other'] = dfM.apply(lambda row: row['adj HP']/hit_points_multiplier(row) - row['HP'] - hit_points_adjustments(row), axis=1)\n",
    "dfM = dfM[dfM['CR'].between(1, 31)]\n",
    "dfM = dfM[['tier','adj HP']+group_cols].groupby(['tier'], observed=False).mean().reset_index()\n",
    "\n",
    "for col in group_cols:\n",
    "    fig.add_trace(go.Bar(\n",
    "        x=dfM['tier'],\n",
    "        y=100*dfM[col]/dfM['adj HP'],\n",
    "        name=col,\n",
    "        textposition='none',\n",
    "        hovertemplate=\n",
    "            '<b>%{x}</b><br>'+\n",
    "            '%{y:.1f}% from '+col+\n",
    "            '<extra></extra>'\n",
    "    ))\n",
    "\n",
    "# show figure\n",
    "fig.update_layout(width=600, height=450)\n",
    "fig.show(config=tfb.FIG_CONFIG)\n",
    "\n",
    "# save figures\n",
    "if SAVEFIGS:\n",
    "    fig.update_layout(autosize=True, width=None, height=None)\n",
    "    #tfb.save_fig_html(fig, format='large', name='fig-hp-vs-cr-large')\n",
    "    #tfb.save_fig_html(fig, format='small', name='fig-hp-vs-cr-small')"
   ]
  },
  {
   "cell_type": "code",
   "execution_count": 75,
   "metadata": {},
   "outputs": [
    {
     "data": {
      "application/vnd.plotly.v1+json": {
       "config": {
        "autosizable": true,
        "displayModeBar": "hover",
        "displaylogo": false,
        "doubleClick": "reset",
        "modeBarButtonsToRemove": [
         "select2d",
         "lasso2d",
         "zoom2d",
         "zoomIn2d",
         "zoomOut2d",
         "pan2d",
         "autoScale2d",
         "hoverClosestCartesian",
         "hoverCompareCartesian",
         "toggleSpikelines",
         "resetScale2d"
        ],
        "plotlyServerURL": "https://plot.ly",
        "responsive": true,
        "showAxisDragHandles": false,
        "toImageButtonOptions": {
         "filename": "tfb-plot",
         "format": "png",
         "height": 450,
         "scale": 2,
         "width": 600
        }
       },
       "data": [
        {
         "hovertemplate": "<b>monsters (adj)</b><br>CR %{x}<br>HP %{y:,.1f}<extra></extra>",
         "line": {
          "color": "#1f77b4"
         },
         "mode": "markers",
         "showlegend": false,
         "type": "scatter",
         "x": [
          1,
          2,
          3,
          4,
          5,
          6,
          7,
          8,
          9,
          10,
          11,
          12,
          13,
          14,
          15,
          16,
          17,
          18,
          19,
          20,
          21,
          22,
          23,
          24,
          25,
          26,
          27,
          28,
          30
         ],
         "y": [
          6.691363741606837,
          3.962116308384167,
          10.659505654647994,
          18.532468795259028,
          8.597329214008397,
          8.697372612799924,
          13.62809667907532,
          12.37976807598955,
          6.896694044327045,
          15.388681939862359,
          7.805996500842838,
          7.078695014100012,
          11.345258020932047,
          14.239371487943142,
          10.49246015741514,
          16.688831252801208,
          2.3726404392938383,
          1.8900436284883693,
          1.0500525026251317,
          2.3289719526529584,
          3.69902606573953,
          5.502155024970934,
          12.88798349192426,
          10.535916480130659,
          6.478520784095654,
          8.294062035419936,
          0,
          6.211106579484027,
          25
         ]
        },
        {
         "hoverinfo": "skip",
         "hovertemplate": "<b>monsters (adj)</b><br>CR %{x}<br>HP %{y:,.1f}<extra></extra>",
         "line": {
          "color": "#1f77b4",
          "dash": "solid"
         },
         "mode": "lines",
         "showlegend": false,
         "type": "scatter",
         "x": [
          1,
          2,
          3,
          4,
          5,
          6,
          7,
          8,
          9,
          10,
          11,
          12,
          13,
          14,
          15,
          16,
          17,
          18,
          19,
          20,
          21,
          22,
          23,
          24,
          25,
          26,
          27,
          28,
          30
         ],
         "y": [
          9.898188886528485,
          9.830098003912992,
          9.762007121297499,
          9.693916238682005,
          9.625825356066512,
          9.557734473451019,
          9.489643590835527,
          9.421552708220034,
          9.35346182560454,
          9.285370942989047,
          9.217280060373554,
          9.14918917775806,
          9.081098295142567,
          9.013007412527074,
          8.94491652991158,
          8.876825647296087,
          8.808734764680594,
          8.7406438820651,
          8.672552999449607,
          8.604462116834114,
          8.53637123421862,
          8.468280351603127,
          8.400189468987636,
          8.332098586372142,
          8.264007703756649,
          8.195916821141155,
          8.127825938525662,
          8.059735055910169,
          7.923553290679182
         ]
        }
       ],
       "layout": {
        "height": 450,
        "legend": {
         "orientation": "v",
         "tracegroupgap": 0,
         "x": 0,
         "xanchor": "left",
         "y": 1,
         "yanchor": "top"
        },
        "margin": {
         "b": 55,
         "l": 70,
         "pad": 4,
         "r": 25,
         "t": 20
        },
        "template": {
         "layout": {
          "autosize": false,
          "font": {
           "family": "sans-serif",
           "size": 14
          },
          "hoverlabel": {
           "align": "left"
          },
          "hovermode": "closest",
          "margin": {
           "b": 55,
           "l": 60,
           "pad": 4,
           "r": 25,
           "t": 20
          },
          "template": {
           "data": {
            "bar": [
             {
              "error_x": {
               "color": "#2a3f5f"
              },
              "error_y": {
               "color": "#2a3f5f"
              },
              "marker": {
               "line": {
                "color": "white",
                "width": 0.5
               },
               "pattern": {
                "fillmode": "overlay",
                "size": 10,
                "solidity": 0.2
               }
              },
              "type": "bar"
             }
            ],
            "barpolar": [
             {
              "marker": {
               "line": {
                "color": "white",
                "width": 0.5
               },
               "pattern": {
                "fillmode": "overlay",
                "size": 10,
                "solidity": 0.2
               }
              },
              "type": "barpolar"
             }
            ],
            "carpet": [
             {
              "aaxis": {
               "endlinecolor": "#2a3f5f",
               "gridcolor": "#C8D4E3",
               "linecolor": "#C8D4E3",
               "minorgridcolor": "#C8D4E3",
               "startlinecolor": "#2a3f5f"
              },
              "baxis": {
               "endlinecolor": "#2a3f5f",
               "gridcolor": "#C8D4E3",
               "linecolor": "#C8D4E3",
               "minorgridcolor": "#C8D4E3",
               "startlinecolor": "#2a3f5f"
              },
              "type": "carpet"
             }
            ],
            "choropleth": [
             {
              "colorbar": {
               "outlinewidth": 0,
               "ticks": ""
              },
              "type": "choropleth"
             }
            ],
            "contour": [
             {
              "colorbar": {
               "outlinewidth": 0,
               "ticks": ""
              },
              "colorscale": [
               [
                0,
                "#0d0887"
               ],
               [
                0.1111111111111111,
                "#46039f"
               ],
               [
                0.2222222222222222,
                "#7201a8"
               ],
               [
                0.3333333333333333,
                "#9c179e"
               ],
               [
                0.4444444444444444,
                "#bd3786"
               ],
               [
                0.5555555555555556,
                "#d8576b"
               ],
               [
                0.6666666666666666,
                "#ed7953"
               ],
               [
                0.7777777777777778,
                "#fb9f3a"
               ],
               [
                0.8888888888888888,
                "#fdca26"
               ],
               [
                1,
                "#f0f921"
               ]
              ],
              "type": "contour"
             }
            ],
            "contourcarpet": [
             {
              "colorbar": {
               "outlinewidth": 0,
               "ticks": ""
              },
              "type": "contourcarpet"
             }
            ],
            "heatmap": [
             {
              "colorbar": {
               "outlinewidth": 0,
               "ticks": ""
              },
              "colorscale": [
               [
                0,
                "#0d0887"
               ],
               [
                0.1111111111111111,
                "#46039f"
               ],
               [
                0.2222222222222222,
                "#7201a8"
               ],
               [
                0.3333333333333333,
                "#9c179e"
               ],
               [
                0.4444444444444444,
                "#bd3786"
               ],
               [
                0.5555555555555556,
                "#d8576b"
               ],
               [
                0.6666666666666666,
                "#ed7953"
               ],
               [
                0.7777777777777778,
                "#fb9f3a"
               ],
               [
                0.8888888888888888,
                "#fdca26"
               ],
               [
                1,
                "#f0f921"
               ]
              ],
              "type": "heatmap"
             }
            ],
            "heatmapgl": [
             {
              "colorbar": {
               "outlinewidth": 0,
               "ticks": ""
              },
              "colorscale": [
               [
                0,
                "#0d0887"
               ],
               [
                0.1111111111111111,
                "#46039f"
               ],
               [
                0.2222222222222222,
                "#7201a8"
               ],
               [
                0.3333333333333333,
                "#9c179e"
               ],
               [
                0.4444444444444444,
                "#bd3786"
               ],
               [
                0.5555555555555556,
                "#d8576b"
               ],
               [
                0.6666666666666666,
                "#ed7953"
               ],
               [
                0.7777777777777778,
                "#fb9f3a"
               ],
               [
                0.8888888888888888,
                "#fdca26"
               ],
               [
                1,
                "#f0f921"
               ]
              ],
              "type": "heatmapgl"
             }
            ],
            "histogram": [
             {
              "marker": {
               "pattern": {
                "fillmode": "overlay",
                "size": 10,
                "solidity": 0.2
               }
              },
              "type": "histogram"
             }
            ],
            "histogram2d": [
             {
              "colorbar": {
               "outlinewidth": 0,
               "ticks": ""
              },
              "colorscale": [
               [
                0,
                "#0d0887"
               ],
               [
                0.1111111111111111,
                "#46039f"
               ],
               [
                0.2222222222222222,
                "#7201a8"
               ],
               [
                0.3333333333333333,
                "#9c179e"
               ],
               [
                0.4444444444444444,
                "#bd3786"
               ],
               [
                0.5555555555555556,
                "#d8576b"
               ],
               [
                0.6666666666666666,
                "#ed7953"
               ],
               [
                0.7777777777777778,
                "#fb9f3a"
               ],
               [
                0.8888888888888888,
                "#fdca26"
               ],
               [
                1,
                "#f0f921"
               ]
              ],
              "type": "histogram2d"
             }
            ],
            "histogram2dcontour": [
             {
              "colorbar": {
               "outlinewidth": 0,
               "ticks": ""
              },
              "colorscale": [
               [
                0,
                "#0d0887"
               ],
               [
                0.1111111111111111,
                "#46039f"
               ],
               [
                0.2222222222222222,
                "#7201a8"
               ],
               [
                0.3333333333333333,
                "#9c179e"
               ],
               [
                0.4444444444444444,
                "#bd3786"
               ],
               [
                0.5555555555555556,
                "#d8576b"
               ],
               [
                0.6666666666666666,
                "#ed7953"
               ],
               [
                0.7777777777777778,
                "#fb9f3a"
               ],
               [
                0.8888888888888888,
                "#fdca26"
               ],
               [
                1,
                "#f0f921"
               ]
              ],
              "type": "histogram2dcontour"
             }
            ],
            "mesh3d": [
             {
              "colorbar": {
               "outlinewidth": 0,
               "ticks": ""
              },
              "type": "mesh3d"
             }
            ],
            "parcoords": [
             {
              "line": {
               "colorbar": {
                "outlinewidth": 0,
                "ticks": ""
               }
              },
              "type": "parcoords"
             }
            ],
            "pie": [
             {
              "automargin": true,
              "type": "pie"
             }
            ],
            "scatter": [
             {
              "fillpattern": {
               "fillmode": "overlay",
               "size": 10,
               "solidity": 0.2
              },
              "type": "scatter"
             }
            ],
            "scatter3d": [
             {
              "line": {
               "colorbar": {
                "outlinewidth": 0,
                "ticks": ""
               }
              },
              "marker": {
               "colorbar": {
                "outlinewidth": 0,
                "ticks": ""
               }
              },
              "type": "scatter3d"
             }
            ],
            "scattercarpet": [
             {
              "marker": {
               "colorbar": {
                "outlinewidth": 0,
                "ticks": ""
               }
              },
              "type": "scattercarpet"
             }
            ],
            "scattergeo": [
             {
              "marker": {
               "colorbar": {
                "outlinewidth": 0,
                "ticks": ""
               }
              },
              "type": "scattergeo"
             }
            ],
            "scattergl": [
             {
              "marker": {
               "colorbar": {
                "outlinewidth": 0,
                "ticks": ""
               }
              },
              "type": "scattergl"
             }
            ],
            "scattermapbox": [
             {
              "marker": {
               "colorbar": {
                "outlinewidth": 0,
                "ticks": ""
               }
              },
              "type": "scattermapbox"
             }
            ],
            "scatterpolar": [
             {
              "marker": {
               "colorbar": {
                "outlinewidth": 0,
                "ticks": ""
               }
              },
              "type": "scatterpolar"
             }
            ],
            "scatterpolargl": [
             {
              "marker": {
               "colorbar": {
                "outlinewidth": 0,
                "ticks": ""
               }
              },
              "type": "scatterpolargl"
             }
            ],
            "scatterternary": [
             {
              "marker": {
               "colorbar": {
                "outlinewidth": 0,
                "ticks": ""
               }
              },
              "type": "scatterternary"
             }
            ],
            "surface": [
             {
              "colorbar": {
               "outlinewidth": 0,
               "ticks": ""
              },
              "colorscale": [
               [
                0,
                "#0d0887"
               ],
               [
                0.1111111111111111,
                "#46039f"
               ],
               [
                0.2222222222222222,
                "#7201a8"
               ],
               [
                0.3333333333333333,
                "#9c179e"
               ],
               [
                0.4444444444444444,
                "#bd3786"
               ],
               [
                0.5555555555555556,
                "#d8576b"
               ],
               [
                0.6666666666666666,
                "#ed7953"
               ],
               [
                0.7777777777777778,
                "#fb9f3a"
               ],
               [
                0.8888888888888888,
                "#fdca26"
               ],
               [
                1,
                "#f0f921"
               ]
              ],
              "type": "surface"
             }
            ],
            "table": [
             {
              "cells": {
               "fill": {
                "color": "#EBF0F8"
               },
               "line": {
                "color": "white"
               }
              },
              "header": {
               "fill": {
                "color": "#C8D4E3"
               },
               "line": {
                "color": "white"
               }
              },
              "type": "table"
             }
            ]
           },
           "layout": {
            "annotationdefaults": {
             "arrowcolor": "#2a3f5f",
             "arrowhead": 0,
             "arrowwidth": 1
            },
            "autotypenumbers": "strict",
            "coloraxis": {
             "colorbar": {
              "outlinewidth": 0,
              "ticks": ""
             }
            },
            "colorscale": {
             "diverging": [
              [
               0,
               "#8e0152"
              ],
              [
               0.1,
               "#c51b7d"
              ],
              [
               0.2,
               "#de77ae"
              ],
              [
               0.3,
               "#f1b6da"
              ],
              [
               0.4,
               "#fde0ef"
              ],
              [
               0.5,
               "#f7f7f7"
              ],
              [
               0.6,
               "#e6f5d0"
              ],
              [
               0.7,
               "#b8e186"
              ],
              [
               0.8,
               "#7fbc41"
              ],
              [
               0.9,
               "#4d9221"
              ],
              [
               1,
               "#276419"
              ]
             ],
             "sequential": [
              [
               0,
               "#0d0887"
              ],
              [
               0.1111111111111111,
               "#46039f"
              ],
              [
               0.2222222222222222,
               "#7201a8"
              ],
              [
               0.3333333333333333,
               "#9c179e"
              ],
              [
               0.4444444444444444,
               "#bd3786"
              ],
              [
               0.5555555555555556,
               "#d8576b"
              ],
              [
               0.6666666666666666,
               "#ed7953"
              ],
              [
               0.7777777777777778,
               "#fb9f3a"
              ],
              [
               0.8888888888888888,
               "#fdca26"
              ],
              [
               1,
               "#f0f921"
              ]
             ],
             "sequentialminus": [
              [
               0,
               "#0d0887"
              ],
              [
               0.1111111111111111,
               "#46039f"
              ],
              [
               0.2222222222222222,
               "#7201a8"
              ],
              [
               0.3333333333333333,
               "#9c179e"
              ],
              [
               0.4444444444444444,
               "#bd3786"
              ],
              [
               0.5555555555555556,
               "#d8576b"
              ],
              [
               0.6666666666666666,
               "#ed7953"
              ],
              [
               0.7777777777777778,
               "#fb9f3a"
              ],
              [
               0.8888888888888888,
               "#fdca26"
              ],
              [
               1,
               "#f0f921"
              ]
             ]
            },
            "colorway": [
             "#636efa",
             "#EF553B",
             "#00cc96",
             "#ab63fa",
             "#FFA15A",
             "#19d3f3",
             "#FF6692",
             "#B6E880",
             "#FF97FF",
             "#FECB52"
            ],
            "font": {
             "color": "#2a3f5f"
            },
            "geo": {
             "bgcolor": "white",
             "lakecolor": "white",
             "landcolor": "white",
             "showlakes": true,
             "showland": true,
             "subunitcolor": "#C8D4E3"
            },
            "hoverlabel": {
             "align": "left"
            },
            "hovermode": "closest",
            "mapbox": {
             "style": "light"
            },
            "paper_bgcolor": "white",
            "plot_bgcolor": "white",
            "polar": {
             "angularaxis": {
              "gridcolor": "#EBF0F8",
              "linecolor": "#EBF0F8",
              "ticks": ""
             },
             "bgcolor": "white",
             "radialaxis": {
              "gridcolor": "#EBF0F8",
              "linecolor": "#EBF0F8",
              "ticks": ""
             }
            },
            "scene": {
             "xaxis": {
              "backgroundcolor": "white",
              "gridcolor": "#DFE8F3",
              "gridwidth": 2,
              "linecolor": "#EBF0F8",
              "showbackground": true,
              "ticks": "",
              "zerolinecolor": "#EBF0F8"
             },
             "yaxis": {
              "backgroundcolor": "white",
              "gridcolor": "#DFE8F3",
              "gridwidth": 2,
              "linecolor": "#EBF0F8",
              "showbackground": true,
              "ticks": "",
              "zerolinecolor": "#EBF0F8"
             },
             "zaxis": {
              "backgroundcolor": "white",
              "gridcolor": "#DFE8F3",
              "gridwidth": 2,
              "linecolor": "#EBF0F8",
              "showbackground": true,
              "ticks": "",
              "zerolinecolor": "#EBF0F8"
             }
            },
            "shapedefaults": {
             "line": {
              "color": "#2a3f5f"
             }
            },
            "ternary": {
             "aaxis": {
              "gridcolor": "#DFE8F3",
              "linecolor": "#A2B1C6",
              "ticks": ""
             },
             "baxis": {
              "gridcolor": "#DFE8F3",
              "linecolor": "#A2B1C6",
              "ticks": ""
             },
             "bgcolor": "white",
             "caxis": {
              "gridcolor": "#DFE8F3",
              "linecolor": "#A2B1C6",
              "ticks": ""
             }
            },
            "title": {
             "x": 0.05
            },
            "xaxis": {
             "automargin": true,
             "gridcolor": "#EBF0F8",
             "linecolor": "#EBF0F8",
             "ticks": "",
             "title": {
              "standoff": 15
             },
             "zerolinecolor": "#EBF0F8",
             "zerolinewidth": 2
            },
            "yaxis": {
             "automargin": true,
             "gridcolor": "#EBF0F8",
             "linecolor": "#EBF0F8",
             "ticks": "",
             "title": {
              "standoff": 15
             },
             "zerolinecolor": "#EBF0F8",
             "zerolinewidth": 2
            }
           }
          },
          "xaxis": {
           "automargin": false,
           "linecolor": "#444",
           "linewidth": 2,
           "minor": {
            "tickmode": "linear",
            "ticks": "outside"
           },
           "mirror": true,
           "showline": true,
           "tickmode": "linear",
           "ticks": "outside",
           "zeroline": false
          },
          "yaxis": {
           "automargin": true,
           "linecolor": "#444",
           "linewidth": 2,
           "minor": {
            "tickmode": "linear",
            "ticks": "outside"
           },
           "mirror": true,
           "showline": true,
           "ticks": "outside",
           "zeroline": false
          }
         }
        },
        "width": 600,
        "xaxis": {
         "dtick": 5,
         "minor": {
          "dtick": 1,
          "tick0": 0
         },
         "range": [
          0,
          31
         ],
         "tick0": 0,
         "title": {
          "text": "challenge rating"
         }
        },
        "yaxis": {
         "dtick": 10,
         "minor": {
          "dtick": 5,
          "tick0": 0
         },
         "range": [
          0,
          30
         ],
         "tick0": 0,
         "title": {
          "text": "hit points lost (%)"
         }
        }
       }
      }
     },
     "metadata": {},
     "output_type": "display_data"
    }
   ],
   "source": [
    "# plots monster HP vs CR\n",
    "\n",
    "# create figure\n",
    "fig = go.Figure(\n",
    "    layout=go.Layout(\n",
    "        template=tfb.FIG_TEMPLATE,\n",
    "        margin=dict(l=70, r=25, b=55, t=20, pad=4),\n",
    "        xaxis=dict(\n",
    "            title_text='challenge rating',\n",
    "            range=[0,31],\n",
    "            tick0=0, dtick=5,\n",
    "            minor=dict(tick0=0, dtick=1),\n",
    "        ),\n",
    "        yaxis=dict(\n",
    "            title_text='hit points lost (%)',\n",
    "            range=[0,30],\n",
    "            tick0=0, dtick=10,\n",
    "            minor=dict(tick0=0, dtick=5),\n",
    "        ),\n",
    "        legend=dict(\n",
    "            xanchor='left', yanchor='top',\n",
    "            x=0.00, y=1.00,\n",
    "            orientation='v',\n",
    "            tracegroupgap=0,\n",
    "        )\n",
    "    )\n",
    ")\n",
    "\n",
    "def legendary_resistance(cr):\n",
    "    if cr <= 4:\n",
    "        return 10\n",
    "    elif cr <= 10:\n",
    "        return 20\n",
    "    else:\n",
    "        return 30\n",
    "    \n",
    "def multiple_resistances(cr):\n",
    "    if cr <= 4:\n",
    "        return 2.00\n",
    "    elif cr <= 10:\n",
    "        return 1.50\n",
    "    elif cr <= 16:\n",
    "        return 1.25\n",
    "    else:\n",
    "        return 1.00\n",
    "    \n",
    "def multiple_immunities(cr):\n",
    "    if cr <= 4:\n",
    "        return 2.00\n",
    "    elif cr <= 10:\n",
    "        return 2.00\n",
    "    elif cr <= 16:\n",
    "        return 1.50\n",
    "    else:\n",
    "        return 1.25\n",
    "\n",
    "def adj_hit_points(row):\n",
    "    hp = row['HP']\n",
    "    hp_mult = 1.0\n",
    "    n_resistances = 0\n",
    "    n_immunities = 0\n",
    "    if row['HP adjustments']:\n",
    "        for adj in row['HP adjustments'][2:-2].split(\"', '\"):\n",
    "            if adj.startswith('regeneration'):\n",
    "                hp += 3*float(adj[12:])\n",
    "            elif adj.startswith('legendary resistance'):\n",
    "                hp += float(adj[20:])*legendary_resistance(row['CR'])\n",
    "            elif adj == 'immunities attacks nonmagical':\n",
    "                n_immunities += 13\n",
    "            elif adj == 'immunities attacks shadows':\n",
    "                n_immunities += 13\n",
    "            elif adj.startswith('immunities'):\n",
    "                n_immunities += int(adj[10:])\n",
    "            elif adj == 'resistances attacks nonmagical':\n",
    "                n_resistances += 13\n",
    "            elif adj == 'resistances attacks shadows':\n",
    "                n_resistances += 13\n",
    "            elif adj.startswith('resistances'):\n",
    "                n_resistances += int(adj[11:])\n",
    "    \n",
    "    if n_immunities >= 4:\n",
    "        hp_mult = max(hp_mult, multiple_immunities(row['CR']))\n",
    "\n",
    "    if (n_resistances + n_immunities) >= 4:\n",
    "        hp_mult = max(hp_mult, multiple_resistances(row['CR']))\n",
    "\n",
    "    return hp*hp_mult\n",
    "\n",
    "def unadj_hit_points(row):\n",
    "    hp = row['adj HP']\n",
    "    if 'attacks nonmagical' in row['HP adjustments']:\n",
    "        hp_mult1 = 1.0\n",
    "        hp_mult2 = 1.0\n",
    "        n_resistances = 0\n",
    "        n_immunities = 0\n",
    "        if row['HP adjustments']:\n",
    "            for adj in row['HP adjustments'][2:-2].split(\"', '\"):\n",
    "                if adj == 'immunities attacks nonmagical':\n",
    "                    hp_mult1 = multiple_immunities(row['CR'])\n",
    "                elif adj == 'immunities attacks shadows':\n",
    "                    n_immunities += 13\n",
    "                elif adj.startswith('immunities'):\n",
    "                    n_immunities += int(adj[10:])\n",
    "                elif adj == 'resistances attacks nonmagical':\n",
    "                    hp_mult1 = multiple_resistances(row['CR'])\n",
    "                elif adj == 'resistances attacks shadows':\n",
    "                    n_resistances += 13\n",
    "                elif adj.startswith('resistances'):\n",
    "                    n_resistances += int(adj[11:])\n",
    "        \n",
    "        if n_immunities >= 4:\n",
    "            hp_mult2 = max(hp_mult2, multiple_immunities(row['CR']))\n",
    "\n",
    "        if (n_resistances + n_immunities) >= 4:\n",
    "            hp_mult2 = max(hp_mult2, multiple_resistances(row['CR']))\n",
    "\n",
    "        #return (hp/hp_mult1)*hp_mult2\n",
    "        return (hp/hp_mult1)\n",
    "    else:\n",
    "        return hp\n",
    "\n",
    "def hit_points_adjustments(row):\n",
    "    hp = 0\n",
    "    if row['HP adjustments']:\n",
    "        for adj in row['HP adjustments'][2:-2].split(\"', '\"):\n",
    "            if adj.startswith('regeneration'):\n",
    "                hp += 3*float(adj[12:])\n",
    "            elif adj.startswith('legendary resistance'):\n",
    "                hp += float(adj[20:])*legendary_resistance(row['CR'])\n",
    "\n",
    "    return hp\n",
    "\n",
    "def hit_points_multiplier(row, **kwargs):\n",
    "    hp_mult = 1.0\n",
    "    n_resistances = 0\n",
    "    n_immunities = 0\n",
    "    if row['HP adjustments']:\n",
    "        for adj in row['HP adjustments'][2:-2].split(\"', '\"):\n",
    "            if adj == 'immunities attacks nonmagical':\n",
    "                n_immunities += kwargs.get('immunities_attacks_nonmagical', 13)\n",
    "            elif adj == 'immunities attacks shadows':\n",
    "                n_immunities += kwargs.get('immunities_attacks_shadows', 13)\n",
    "            elif adj.startswith('immunities'):\n",
    "                n_immunities += int(adj[10:])\n",
    "            elif adj == 'resistances attacks nonmagical':\n",
    "                n_resistances += kwargs.get('resistances_attacks_nonmagical', 13)\n",
    "            elif adj == 'resistances attacks shadows':\n",
    "                n_resistances += kwargs.get('resistances_attacks_shadows', 13)\n",
    "            elif adj.startswith('resistances'):\n",
    "                n_resistances += int(adj[11:])\n",
    "    \n",
    "    if n_immunities >= 4:\n",
    "        hp_mult = max(hp_mult, multiple_immunities(row['CR']))\n",
    "\n",
    "    if (n_resistances + n_immunities) >= 4:\n",
    "        hp_mult = max(hp_mult, multiple_resistances(row['CR']))\n",
    "\n",
    "    return hp_mult\n",
    "\n",
    "dfM = pd.read_csv('../../assets/data/monsters.csv')\n",
    "#dfM['HP'] = dfM.apply(lambda row: adj_hit_points(row), axis=1)\n",
    "#dfM['HP'] = dfM.apply(lambda row: unadj_hit_points(row), axis=1)\n",
    "dfM['HP'] = dfM.apply(lambda row: row['adj HP']/hit_points_multiplier(row), axis=1)\n",
    "dfM = dfM[['CR','HP','adj HP']].groupby(['CR']).mean().reset_index()\n",
    "dfM = dfM[dfM['CR'].between(1, 31)]\n",
    "\n",
    "# plot hit points\n",
    "\"\"\"fig.add_trace(go.Scatter(\n",
    "    x=dfM['CR'], \n",
    "    y=100*(1 - dfM['HP']/dfM['adj HP']), \n",
    "    mode='markers+lines', \n",
    "    name='DMG',\n",
    "    line=dict(color='black', dash='dash'),\n",
    "    hovertemplate=\n",
    "        '<b>DMG</b><br>'+\n",
    "        'CR %{x}<br>'+\n",
    "        'HP %{y:,.0f}' + \n",
    "        '<extra></extra>'\n",
    "))\"\"\"\n",
    "plot_data_and_fit(\n",
    "    fig, \n",
    "    dfM['CR'], 100*(dfM['adj HP']/dfM['HP'] - 1), \n",
    "    line=dict(color=COLOR_LIST[0]),\n",
    "    showlegend=False,\n",
    "    hovertemplate=\n",
    "        '<b>monsters (adj)</b><br>'+\n",
    "        'CR %{x}<br>'+\n",
    "        'HP %{y:,.1f}' + \n",
    "        '<extra></extra>',\n",
    "    #print_coefficients=True,\n",
    ")\n",
    "\n",
    "\n",
    "# show figure\n",
    "fig.update_layout(width=600, height=450)\n",
    "fig.show(config=tfb.FIG_CONFIG)\n",
    "\n",
    "# save figures\n",
    "if SAVEFIGS:\n",
    "    fig.update_layout(autosize=True, width=None, height=None)\n",
    "    #tfb.save_fig_html(fig, format='large', name='fig-hp-vs-cr-large')\n",
    "    #tfb.save_fig_html(fig, format='small', name='fig-hp-vs-cr-small')"
   ]
  },
  {
   "cell_type": "code",
   "execution_count": null,
   "metadata": {},
   "outputs": [],
   "source": [
    "# plots average save DC \n",
    "def save_fail_prob(SB, DC):\n",
    "    return max(0.0, min(1.0, 0.05*(DC - SB - 1)))\n",
    "\n",
    "# create figure\n",
    "fig = go.Figure(\n",
    "    layout=go.Layout(\n",
    "        template=tfb.FIG_TEMPLATE,\n",
    "        margin=dict(l=60, r=25, b=55, t=20, pad=4),\n",
    "        xaxis=dict(\n",
    "            title_text='level',\n",
    "            range=[0,21],\n",
    "            tick0=0, dtick=5,\n",
    "            minor=dict(tick0=0, dtick=1),\n",
    "        ),\n",
    "        yaxis=dict(\n",
    "            title_text='save DC',\n",
    "            range=[12,22],\n",
    "            tick0=0, dtick=2,\n",
    "            minor=dict(tick0=0, dtick=1),\n",
    "        ),\n",
    "        legend=dict(\n",
    "            xanchor='left', yanchor='top',\n",
    "            x=0.00, y=1.00,\n",
    "            orientation='v',\n",
    "            tracegroupgap=0,\n",
    "        )\n",
    "    )\n",
    ")\n",
    "\n",
    "# plot monster average\n",
    "dfM = pd.read_csv('../../assets/data/monsters.csv')\n",
    "dfM = dfM[['CR','AB','Save DC']].groupby(['CR']).mean().reset_index()\n",
    "dfM = dfM[dfM['CR'].between(1, 30)]\n",
    "plot_data_and_fit(\n",
    "    fig, \n",
    "    #dfM['CR'], dfM['AB'] + 8, \n",
    "    dfM['CR'], dfM['Save DC'], \n",
    "    name='monsters (adj)',\n",
    "    legendgroup='monsters (adj)',\n",
    "    line=dict(color=COLOR_LIST[0]),\n",
    "    hovertemplate=\n",
    "        '<b>monsters (adj)</b><br>'+\n",
    "        'CR %{x}<br>'+\n",
    "        'Save DC %{y:,.0f}' + \n",
    "        '<extra></extra>'\n",
    ")\n",
    "\n",
    "# plot player character save DCs\n",
    "fig.add_trace(go.Scatter(\n",
    "    x=np.array(PC_DATA['level']), \n",
    "    y=np.array(PC_DATA['save dc']),\n",
    "    mode='markers+lines', \n",
    "    name='player characters',\n",
    "    line_color=COLOR_LIST[1],\n",
    "    marker_color=COLOR_LIST[1],\n",
    "    hovertemplate=\n",
    "        '<b>player characters</b><br>'+\n",
    "        'Level %{x}<br>'+\n",
    "        'Save DC %{y:,.0f}' + \n",
    "        '<extra></extra>'\n",
    "))\n",
    "\n",
    "# plot monster save DCs\n",
    "dfD = pd.read_csv('../../assets/data/dmg-targets.csv') # 'CR','PB','AC','AB','DC'\n",
    "dfD = dfD[dfD['CR'].between(1, 30)]\n",
    "fig.add_trace(go.Scatter(\n",
    "    x=np.array(dfD['CR']), \n",
    "    y=np.array(dfD['DC']),\n",
    "    mode='markers+lines', \n",
    "    name='DMG',\n",
    "    legendgroup='DMG',\n",
    "    line=dict(color='black', dash='dash'),\n",
    "    hovertemplate=\n",
    "        '<b>DMG</b><br>'+\n",
    "        'CR %{x}<br>'+\n",
    "        'Save DC %{y:,.0f}' + \n",
    "        '<extra></extra>'\n",
    "))\n",
    "\n",
    "# show figure\n",
    "fig.update_layout(width=600, height=450)\n",
    "fig.show(config=tfb.FIG_CONFIG)\n",
    "\n",
    "# save figures\n",
    "if SAVEFIGS:\n",
    "    fig.update_layout(autosize=True, width=None, height=None)\n",
    "    #tfb.save_fig_html(fig, format='large', name=f'./fig-save-dc-vs-level-large')\n",
    "    #tfb.save_fig_html(fig, format='small', name=f'./fig-save-dc-vs-level-small')"
   ]
  },
  {
   "cell_type": "code",
   "execution_count": null,
   "metadata": {},
   "outputs": [],
   "source": [
    "# plots delta AC and delta SB\n",
    "\n",
    "# create figure\n",
    "fig = go.Figure(\n",
    "    layout=go.Layout(\n",
    "        template=tfb.FIG_TEMPLATE,\n",
    "        margin=dict(l=60, r=25, b=55, t=20, pad=4),\n",
    "        xaxis=dict(\n",
    "            title_text='challenge rating',\n",
    "            range=[0,31],\n",
    "            tick0=0, dtick=5,\n",
    "            minor=dict(tick0=0, dtick=1),\n",
    "        ),\n",
    "        yaxis=dict(\n",
    "            title_text='effective AC delta',\n",
    "            range=[-6,6],\n",
    "            tick0=0, dtick=2,\n",
    "            minor=dict(tick0=0, dtick=1),\n",
    "        ),\n",
    "        legend=dict(\n",
    "            xanchor='left', yanchor='top',\n",
    "            x=0.00, y=1.00,\n",
    "            orientation='v',\n",
    "            tracegroupgap=0,\n",
    "        )\n",
    "    )\n",
    ")\n",
    "\n",
    "\n",
    "# plot published monsters\n",
    "books = ['HotDQ','MM','RoT','PotA','OotA','CoS','SKT','VGtM','TftYP','ToA','XGtE',\n",
    "         'MToF','WGtE','WDH','GGtR','WDotMM','GoS','BGDiA','ERftLW','EGtW','MOoT',\n",
    "         'IDRotF','TCoE','CM','VRGtR','TWBtW','FToD','SACoC','CRCotN','MPMotM',]\n",
    "books = ['JttRC','SAiS:BAM','SAiS:LoX','DSotDQ','KftGV','BPGotG','PaBTSO','PAitM:MPP','TBoMT','VEoR','QftIS']\n",
    "dfM = pd.read_csv('../../assets/data/monsters.csv')\n",
    "dfM = dfM[dfM['CR'].between(1,30)]\n",
    "dfM = dfM[dfM['Book'].isin(books)]\n",
    "dfM['unadj AC'] = dfM.apply(lambda row: unadjusted_armor_class(row), axis=1)\n",
    "dfM['Ave Save'] = dfM.apply(lambda row: average_save_bonus(row), axis=1)\n",
    "dfM['Ave Save'] = dfM['Ave Save'] + dfM.apply(lambda row: 4 if 'magic resistance' in row['AC adjustments'] else 0, axis=1)\n",
    "dfM['Ave Save Delta'] = dfM.apply(lambda row: average_save_bonus_delta(row), axis=1)\n",
    "dfM['unadj AC Delta'] = dfM.apply(lambda row: unadjusted_armor_class_delta(row), axis=1)\n",
    "\n",
    "\n",
    "dfM = dfM[['CR','Ave Save','AC','adj AC','unadj AC','Ave Save Delta','unadj AC Delta']].groupby('CR').mean().reset_index()\n",
    "dfM.sort_values(by='CR', inplace=True)\n",
    "\n",
    "plot_data_and_fit(\n",
    "    fig, \n",
    "    dfM['CR'], dfM['unadj AC Delta'], \n",
    "    name='monsters (unadj AC delta)',\n",
    "    legendgroup='monsters (unadj AC delta)',\n",
    "    line=dict(color=COLOR_LIST[0]),\n",
    "    hovertemplate=\n",
    "        '<b>monsters (unadj AC delta)</b><br>'\n",
    "        'CR %{x}<br>'+\n",
    "        'AC delta %{y:,.1f}' + \n",
    "        '<extra></extra>',\n",
    "    print_coefficients=False,\n",
    ")\n",
    "\n",
    "plot_data_and_fit(\n",
    "    fig, \n",
    "    dfM['CR'], dfM['Ave Save Delta'], \n",
    "    name='monsters (ave Save Bonus delta)',\n",
    "    legendgroup='monsters (ave Save Bonus delta)',\n",
    "    line=dict(color=COLOR_LIST[3], dash='dash'),\n",
    "    hovertemplate=\n",
    "        '<b>monsters (ave Save Bonus delta)</b><br>'+\n",
    "        'CR %{x}<br>'+\n",
    "        'AC %{y:,.1f}' + \n",
    "        '<extra></extra>',\n",
    "    print_coefficients=False,\n",
    ")\n",
    "\n",
    "plot_data_and_fit(\n",
    "    fig, \n",
    "    dfM['CR'], 0.5*(dfM['unadj AC Delta'] + dfM['Ave Save Delta']), \n",
    "    name='monsters (adj AC delta)',\n",
    "    legendgroup='monsters (adj AC delta)',\n",
    "    line=dict(color='black'),\n",
    "    hovertemplate=\n",
    "        '<b>monsters (adj AC delta)</b><br>'\n",
    "        'CR %{x}<br>'+\n",
    "        'AC delta %{y:,.1f}' + \n",
    "        '<extra></extra>',\n",
    "    print_coefficients=False,\n",
    ")\n",
    "\n",
    "# show figure\n",
    "fig.update_layout(width=600, height=450)\n",
    "fig.show(config=tfb.FIG_CONFIG)\n",
    "\n",
    "# save figures\n",
    "if SAVEFIGS:\n",
    "    fig.update_layout(autosize=True, width=None, height=None)\n",
    "    #tfb.save_fig_html(fig, format='large', name=f'./fig-adj-ac-vs-cr-large')\n",
    "    #tfb.save_fig_html(fig, format='small', name=f'./fig-adj-ac-vs-cr-small')"
   ]
  },
  {
   "cell_type": "code",
   "execution_count": null,
   "metadata": {},
   "outputs": [],
   "source": [
    "# plots average save bonus\n",
    "\n",
    "# create figure\n",
    "fig = go.Figure(\n",
    "    layout=go.Layout(\n",
    "        template=tfb.FIG_TEMPLATE,\n",
    "        margin=dict(l=60, r=25, b=55, t=20, pad=4),\n",
    "        xaxis=dict(\n",
    "            title_text='challenge rating',\n",
    "            range=[0,31],\n",
    "            tick0=0, dtick=5,\n",
    "            minor=dict(tick0=0, dtick=1),\n",
    "        ),\n",
    "        yaxis=dict(\n",
    "            title_text='average save bonus',\n",
    "            range=[0,14],\n",
    "            tick0=0, dtick=2,\n",
    "            minor=dict(tick0=0, dtick=1),\n",
    "        ),\n",
    "        legend=dict(\n",
    "            xanchor='left', yanchor='top',\n",
    "            x=0.00, y=1.00,\n",
    "            orientation='v',\n",
    "            tracegroupgap=0,\n",
    "        )\n",
    "    )\n",
    ")\n",
    "\n",
    "\n",
    "# plot published monsters\n",
    "books = ['HotDQ','MM','RoT','PotA','OotA','CoS','SKT','VGtM','TftYP','ToA','XGtE',\n",
    "         'MToF','WGtE','WDH','GGtR','WDotMM','GoS','BGDiA','ERftLW','EGtW','MOoT',\n",
    "         'IDRotF','TCoE','CM','VRGtR','TWBtW','FToD','SACoC','CRCotN','MPMotM','JttRC','SAiS:BAM']\n",
    "#books = ['SAiS:LoX','DSotDQ','KftGV','BPGotG','PaBTSO','PAitM:MPP','TBoMT','VEoR','QftIS']\n",
    "dfM = pd.read_csv('../../assets/data/monsters.csv')\n",
    "dfM = dfM[dfM['CR'].between(1,30)]\n",
    "dfM = dfM[dfM['Book'].isin(books)]\n",
    "dfM['unadj AC'] = dfM.apply(lambda row: unadjusted_armor_class(row), axis=1)\n",
    "dfM['Ave Save'] = dfM.apply(lambda row: average_save_bonus(row), axis=1)\n",
    "dfM['Ave Save'] = dfM['Ave Save'] + dfM.apply(lambda row: 4 if 'magic resistance' in row['AC adjustments'] else 0, axis=1)\n",
    "\n",
    "dfM = dfM[['CR','Ave Save']].groupby('CR').mean().reset_index()\n",
    "dfM.sort_values(by='CR', inplace=True)\n",
    "\n",
    "plot_data_and_fit(\n",
    "    fig, \n",
    "    dfM['CR'], dfM['Ave Save'], \n",
    "    name='monsters (2014-2021)',\n",
    "    legendgroup='monsters (2014-2021)',\n",
    "    line=dict(color=COLOR_LIST[0]),\n",
    "    hovertemplate=\n",
    "        '<b>monsters (2014-2021)</b><br>'\n",
    "        'CR %{x}<br>'+\n",
    "        'SB %{y:,.1f}' + \n",
    "        '<extra></extra>',\n",
    "    print_coefficients=False,\n",
    ")\n",
    "\n",
    "# plot published monsters\n",
    "books = ['SAiS:LoX','DSotDQ','KftGV','BPGotG','PaBTSO','PAitM:MPP','TBoMT','VEoR','QftIS']\n",
    "dfM = pd.read_csv('../../assets/data/monsters.csv')\n",
    "dfM = dfM[dfM['CR'].between(1,30)]\n",
    "dfM = dfM[dfM['Book'].isin(books)]\n",
    "dfM['unadj AC'] = dfM.apply(lambda row: unadjusted_armor_class(row), axis=1)\n",
    "dfM['Ave Save'] = dfM.apply(lambda row: average_save_bonus(row), axis=1)\n",
    "dfM['Ave Save'] = dfM['Ave Save'] + dfM.apply(lambda row: 4 if 'magic resistance' in row['AC adjustments'] else 0, axis=1)\n",
    "\n",
    "dfM = dfM[['CR','Ave Save']].groupby('CR').mean().reset_index()\n",
    "dfM.sort_values(by='CR', inplace=True)\n",
    "\n",
    "plot_data_and_fit(\n",
    "    fig, \n",
    "    dfM['CR'], dfM['Ave Save'], \n",
    "    name='monsters (2022-2024)',\n",
    "    legendgroup='monsters (2022-2024)',\n",
    "    line=dict(color=COLOR_LIST[1]),\n",
    "    hovertemplate=\n",
    "        '<b>monsters (2022-2024)</b><br>'\n",
    "        'CR %{x}<br>'+\n",
    "        'SB %{y:,.1f}' + \n",
    "        '<extra></extra>',\n",
    "    print_coefficients=False,\n",
    ")\n",
    "\n",
    "\n",
    "# show figure\n",
    "fig.update_layout(width=600, height=450)\n",
    "fig.show(config=tfb.FIG_CONFIG)\n",
    "\n",
    "# save figures\n",
    "if SAVEFIGS:\n",
    "    fig.update_layout(autosize=True, width=None, height=None)\n",
    "    #tfb.save_fig_html(fig, format='large', name=f'./fig-adj-ac-vs-cr-large')\n",
    "    #tfb.save_fig_html(fig, format='small', name=f'./fig-adj-ac-vs-cr-small')"
   ]
  },
  {
   "cell_type": "code",
   "execution_count": null,
   "metadata": {},
   "outputs": [],
   "source": [
    "# plots average save bonus\n",
    "\n",
    "# create figure\n",
    "fig = go.Figure(\n",
    "    layout=go.Layout(\n",
    "        template=tfb.FIG_TEMPLATE,\n",
    "        margin=dict(l=60, r=25, b=55, t=20, pad=4),\n",
    "        xaxis=dict(\n",
    "            title_text='challenge rating',\n",
    "            range=[0,31],\n",
    "            tick0=0, dtick=5,\n",
    "            minor=dict(tick0=0, dtick=1),\n",
    "        ),\n",
    "        yaxis=dict(\n",
    "            title_text='average armor class',\n",
    "            range=[14,28],\n",
    "            tick0=0, dtick=2,\n",
    "            minor=dict(tick0=0, dtick=1),\n",
    "        ),\n",
    "        legend=dict(\n",
    "            xanchor='left', yanchor='top',\n",
    "            x=0.00, y=1.00,\n",
    "            orientation='v',\n",
    "            tracegroupgap=0,\n",
    "        )\n",
    "    )\n",
    ")\n",
    "\n",
    "\n",
    "# plot published monsters\n",
    "books = ['HotDQ','MM','RoT','PotA','OotA','CoS','SKT','VGtM','TftYP','ToA','XGtE',\n",
    "         'MToF','WGtE','WDH','GGtR','WDotMM','GoS','BGDiA','ERftLW','EGtW','MOoT',\n",
    "         'IDRotF','TCoE','CM','VRGtR','TWBtW','FToD','SACoC','CRCotN','MPMotM','JttRC','SAiS:BAM']\n",
    "#books = ['SAiS:LoX','DSotDQ','KftGV','BPGotG','PaBTSO','PAitM:MPP','TBoMT','VEoR','QftIS']\n",
    "dfM = pd.read_csv('../../assets/data/monsters.csv')\n",
    "dfM = dfM[dfM['CR'].between(1,30)]\n",
    "dfM = dfM[dfM['Book'].isin(books)]\n",
    "dfM['unadj AC'] = dfM.apply(lambda row: unadjusted_armor_class(row), axis=1)\n",
    "dfM['Ave Save'] = dfM.apply(lambda row: average_save_bonus(row), axis=1)\n",
    "dfM['Ave Save'] = dfM['Ave Save'] + dfM.apply(lambda row: 4 if 'magic resistance' in row['AC adjustments'] else 0, axis=1)\n",
    "\n",
    "dfM = dfM[['CR','unadj AC']].groupby('CR').mean().reset_index()\n",
    "dfM.sort_values(by='CR', inplace=True)\n",
    "\n",
    "plot_data_and_fit(\n",
    "    fig, \n",
    "    dfM['CR'], dfM['unadj AC'], \n",
    "    name='monsters (2014-2021)',\n",
    "    legendgroup='monsters (2014-2021)',\n",
    "    line=dict(color=COLOR_LIST[0]),\n",
    "    hovertemplate=\n",
    "        '<b>monsters (2014-2021)</b><br>'\n",
    "        'CR %{x}<br>'+\n",
    "        'AC %{y:,.1f}' + \n",
    "        '<extra></extra>',\n",
    "    print_coefficients=False,\n",
    ")\n",
    "\n",
    "# plot published monsters\n",
    "books = ['SAiS:LoX','DSotDQ','KftGV','BPGotG','PaBTSO','PAitM:MPP','TBoMT','VEoR','QftIS']\n",
    "dfM = pd.read_csv('../../assets/data/monsters.csv')\n",
    "dfM = dfM[dfM['CR'].between(1,30)]\n",
    "dfM = dfM[dfM['Book'].isin(books)]\n",
    "dfM['unadj AC'] = dfM.apply(lambda row: unadjusted_armor_class(row), axis=1)\n",
    "dfM['Ave Save'] = dfM.apply(lambda row: average_save_bonus(row), axis=1)\n",
    "dfM['Ave Save'] = dfM['Ave Save'] + dfM.apply(lambda row: 4 if 'magic resistance' in row['AC adjustments'] else 0, axis=1)\n",
    "\n",
    "dfM = dfM[['CR','unadj AC']].groupby('CR').mean().reset_index()\n",
    "dfM.sort_values(by='CR', inplace=True)\n",
    "\n",
    "plot_data_and_fit(\n",
    "    fig, \n",
    "    dfM['CR'], dfM['unadj AC'], \n",
    "    name='monsters (2022-2024)',\n",
    "    legendgroup='monsters (2022-2024)',\n",
    "    line=dict(color=COLOR_LIST[1]),\n",
    "    hovertemplate=\n",
    "        '<b>monsters (2022-2024)</b><br>'\n",
    "        'CR %{x}<br>'+\n",
    "        'AC %{y:,.1f}' + \n",
    "        '<extra></extra>',\n",
    "    print_coefficients=False,\n",
    ")\n",
    "\n",
    "\n",
    "# show figure\n",
    "fig.update_layout(width=600, height=450)\n",
    "fig.show(config=tfb.FIG_CONFIG)\n",
    "\n",
    "# save figures\n",
    "if SAVEFIGS:\n",
    "    fig.update_layout(autosize=True, width=None, height=None)\n",
    "    #tfb.save_fig_html(fig, format='large', name=f'./fig-adj-ac-vs-cr-large')\n",
    "    #tfb.save_fig_html(fig, format='small', name=f'./fig-adj-ac-vs-cr-small')"
   ]
  },
  {
   "cell_type": "code",
   "execution_count": null,
   "metadata": {},
   "outputs": [],
   "source": [
    "# plots monster effective HP vs CR\n",
    "import sys\n",
    "sys.path.append('../../assets/python/')\n",
    "import estats5e as e5\n",
    "\n",
    "# create figure\n",
    "fig = go.Figure(\n",
    "    layout=go.Layout(\n",
    "        template=tfb.FIG_TEMPLATE,\n",
    "        margin=dict(l=70, r=25, b=55, t=20, pad=4),\n",
    "        xaxis=dict(\n",
    "            title_text='challenge rating',\n",
    "            range=[0,31],\n",
    "            tick0=0, dtick=5,\n",
    "            minor=dict(tick0=0, dtick=1),\n",
    "        ),\n",
    "        yaxis=dict(\n",
    "            title_text='effective hit points',\n",
    "            type='log',\n",
    "            #range=[0,300000],\n",
    "            #tick0=0, dtick=50000,\n",
    "            #minor=dict(tick0=0, dtick=25000),\n",
    "        ),\n",
    "        legend=dict(\n",
    "            xanchor='left', yanchor='top',\n",
    "            x=0.00, y=1.00,\n",
    "            orientation='v',\n",
    "            tracegroupgap=0,\n",
    "        )\n",
    "    )\n",
    ")\n",
    "\n",
    "# get monster data\n",
    "dfM = pd.read_csv('../../assets/data/monsters.csv')\n",
    "dfM['unadj AC'] = dfM.apply(lambda row: unadjusted_armor_class(row), axis=1)\n",
    "dfM['Ave Save'] = dfM.apply(lambda row: average_save_bonus(row), axis=1)\n",
    "dfM['Ave Save'] = dfM['Ave Save'] + dfM.apply(lambda row: 4 if 'magic resistance' in row['AC adjustments'] else 0, axis=1)\n",
    "dfM['eff AC'] = 0.5*(dfM['Ave Save']+14 + dfM['unadj AC'])\n",
    "dfM['eHP'] = dfM.apply(lambda row: e5.effHP(row['adj HP'], row['eff AC'], 'exp'), axis=1)\n",
    "dfM['eXP'] = dfM.apply(lambda row: e5.effXP(row['adj HP'], row['eff AC'], row['adj DPR'], row['adj AB'], method='exp'), axis=1)\n",
    "dfM = dfM[['CR','eXP']].groupby(['CR']).median().reset_index()\n",
    "dfM = dfM[dfM['CR'].between(1, 30)]\n",
    "\n",
    "# plot adjusted damage per round\n",
    "fig.add_trace(go.Scatter(\n",
    "    x=dfM['CR'].to_numpy(), y=dfM['eXP'].to_numpy(),\n",
    "    mode='markers+lines', \n",
    "    name='Monsters',\n",
    "    #line=dict(color='black', dash='dash'),\n",
    "    #hoverinfo='skip', \n",
    "    hovertemplate=\n",
    "        '<b>DMG</b><br>'\n",
    "        'CR %{x}<br>'+\n",
    "        'eff DPR %{y:,.1f}' + \n",
    "        '<extra></extra>'\n",
    "))\n",
    "\n",
    "# plot reference line\n",
    "dfD0 = pd.read_csv('../../assets/data/dmg-targets.csv') # 'CR','XP','HP Mean','AC','DPR Mean','AB'\n",
    "dfD0['eHP'] = dfD0.apply(lambda row: e5.effDPR(row['HP Mean'], row['AC'], 'exp'), axis=1)\n",
    "dfD0['eXP'] = dfD0.apply(lambda row: e5.effXP(row['HP Mean'], row['AC'], row['DPR Mean'], row['AB'], method='exp'), axis=1)\n",
    "dfD0 = dfD0[dfD0['CR'].between(1,30)]\n",
    "fig.add_trace(go.Scatter(\n",
    "    x=dfD0['CR'], y=dfD0['eXP'],\n",
    "    mode='markers+lines', \n",
    "    name='DMG',\n",
    "    line=dict(color='black', dash='dash'),\n",
    "    #hoverinfo='skip', \n",
    "    hovertemplate=\n",
    "        '<b>DMG</b><br>'\n",
    "        'CR %{x}<br>'+\n",
    "        'eff DPR %{y:,.1f}' + \n",
    "        '<extra></extra>'\n",
    "))\n",
    "\n",
    "# show figure\n",
    "fig.update_layout(width=600, height=450)\n",
    "fig.show(config=tfb.FIG_CONFIG)\n",
    "\n",
    "# save figures\n",
    "if SAVEFIGS:\n",
    "    fig.update_layout(autosize=True, width=None, height=None)\n",
    "    #tfb.save_fig_html(fig, format='large', name='fig-eff-hp-vs-cr-large')\n",
    "    #tfb.save_fig_html(fig, format='small', name='fig-eff-hp-vs-cr-small')"
   ]
  },
  {
   "cell_type": "code",
   "execution_count": null,
   "metadata": {},
   "outputs": [],
   "source": [
    "# plots probability of a monster hitting a PC with an attack\n",
    "import json\n",
    "\n",
    "# create figure\n",
    "fig = go.Figure(\n",
    "    layout=go.Layout(\n",
    "        template=tfb.FIG_TEMPLATE,\n",
    "        margin=dict(l=60, r=25, b=55, t=20, pad=4),\n",
    "        xaxis=dict(\n",
    "            title_text='level',\n",
    "            range=[0,21],\n",
    "            tick0=0, dtick=5,\n",
    "            minor=dict(tick0=0, dtick=1),\n",
    "        ),\n",
    "        yaxis=dict(\n",
    "            title_text='hit probability',\n",
    "            range=[0,1],\n",
    "            tick0=0, dtick=0.2,\n",
    "            minor=dict(tick0=0, dtick=0.1),\n",
    "        ),\n",
    "        legend=dict(\n",
    "            xanchor='left', yanchor='top',\n",
    "            x=0.00, y=1.00,\n",
    "            orientation='v',\n",
    "            tracegroupgap=0,\n",
    "        )\n",
    "    )\n",
    ")\n",
    "\n",
    "def attack_hit_crit_prob(AC, AB):\n",
    "    return max(0.05, min(0.95, 0.05*(21 + AB - AC)))\n",
    "\n",
    "# plot chance to hit vs monster targets\n",
    "dfD = pd.read_csv('../../assets/data/dmg-targets.csv') # 'CR','PB','AC','AB','DC'\n",
    "dfD = dfD[dfD['CR'].between(1, 20)]\n",
    "level = np.array(pc['level'])\n",
    "ab = dfD['AB'].to_numpy()\n",
    "ac = np.array(pc['armor class'])\n",
    "prob = np.array([attack_hit_crit_prob(a, b) for a, b in zip(ac, ab)])\n",
    "fig.add_trace(go.Scatter(\n",
    "    x=level, \n",
    "    y=prob,\n",
    "    mode='markers+lines', \n",
    "    name='monsters DMG',\n",
    "    hovertemplate=\n",
    "        'Level %{x}<br>'+\n",
    "        'Hit Probability %{y:,.3f}' + \n",
    "        '<extra></extra>'\n",
    "))\n",
    "\n",
    "# plot chance to hit vs published monsters\n",
    "dfM = pd.read_csv('../../assets/data/monsters.csv')\n",
    "dfM = dfM[['CR','AC','AB']].groupby(['CR']).mean().reset_index()\n",
    "dfM = dfM[dfM['CR'].between(1, 30)]\n",
    "level = np.array(pc['level'])\n",
    "ab = dfM['AB'].to_numpy()\n",
    "ac = np.array(pc['armor class'])\n",
    "prob = np.array([attack_hit_crit_prob(a, b) for a, b in zip(ac, ab)])\n",
    "fig.add_trace(go.Scatter(\n",
    "    x=level, \n",
    "    y=prob,\n",
    "    mode='markers+lines', \n",
    "    name='monsters',\n",
    "    hovertemplate=\n",
    "        'Level %{x}<br>'+\n",
    "        'Hit Probability %{y:,.3f}' + \n",
    "        '<extra></extra>'\n",
    "))\n",
    "\n",
    "# plot reference\n",
    "fig.add_trace(go.Scatter(\n",
    "    x=[1,20], \n",
    "    y=[0.65, 0.65],\n",
    "    mode='lines', \n",
    "    name='monsters',\n",
    "    showlegend=False,\n",
    "    hoverinfo='skip',\n",
    "    line=dict(color='black', dash='dash'),\n",
    "))\n",
    "\n",
    "\n",
    "# show figure\n",
    "fig.update_layout(width=600, height=450)\n",
    "fig.show(config=tfb.FIG_CONFIG)\n",
    "\n",
    "# save figures\n",
    "if SAVEFIGS:\n",
    "    fig.update_layout(autosize=True, width=None, height=None)\n",
    "    #tfb.save_fig_html(fig, format='large', name=f'./fig-hit-prob-vs-level-large')\n",
    "    #tfb.save_fig_html(fig, format='small', name=f'./fig-hit-prob-vs-level-small')"
   ]
  }
 ],
 "metadata": {
  "kernelspec": {
   "display_name": "thefinishedbook",
   "language": "python",
   "name": "python3"
  },
  "language_info": {
   "codemirror_mode": {
    "name": "ipython",
    "version": 3
   },
   "file_extension": ".py",
   "mimetype": "text/x-python",
   "name": "python",
   "nbconvert_exporter": "python",
   "pygments_lexer": "ipython3",
   "version": "3.10.5"
  },
  "orig_nbformat": 4
 },
 "nbformat": 4,
 "nbformat_minor": 2
}
