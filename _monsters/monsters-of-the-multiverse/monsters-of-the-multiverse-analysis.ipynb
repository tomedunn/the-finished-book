{
 "cells": [
  {
   "cell_type": "code",
   "execution_count": 214,
   "metadata": {},
   "outputs": [],
   "source": [
    "import numpy as np\n",
    "import pandas as pd\n",
    "pd.options.mode.chained_assignment = None  # default='warn'\n",
    "import plotly.graph_objects as go\n",
    "import sys\n",
    "sys.path.append('../../assets/python/')\n",
    "import tfb\n",
    "import dmg5e\n",
    "import estats5e\n",
    "\n",
    "METADATA = {'Contributor': 'T. Dunn'}\n",
    "SAVEFIGS = True"
   ]
  },
  {
   "cell_type": "code",
   "execution_count": 215,
   "metadata": {},
   "outputs": [
    {
     "name": "stdout",
     "output_type": "stream",
     "text": [
      "Includes 504 monsters in database\n"
     ]
    }
   ],
   "source": [
    "# Import monster data\n",
    "dfD = pd.read_csv('../../assets/data/dmg-targets.csv') # 'CR','PB','XP','AC','HP Mean','AB','DPR Mean'\n",
    "dfD['eHP Mean']  = dfD.apply(lambda row: estats5e.effHP(row['HP Mean'], row['AC'], 'linear'), axis=1)\n",
    "dfD['eDPR Mean'] = dfD.apply(lambda row: estats5e.effDPR(row['DPR Mean'], row['AB'], 'linear'), axis=1)\n",
    "dfD['eXP Mean']  = dfD.apply(lambda row: estats5e.effXP(row['HP Mean'], row['AC'], row['DPR Mean'], row['AB'], 'linear'), axis=1)\n",
    "dfD.set_index('CR', inplace=True)\n",
    "\n",
    "df0 = pd.read_csv('monster-cr-and-xp.csv')  # 'Book','Page','Type','Category','Legendary','CR','PB','XP',\n",
    "                                            # 'HP','AC','adj HP','adj AC',\n",
    "                                            # 'AB','adj AB','DPR', 'adj DPR'\n",
    "df0 = df0.astype({'Book': 'category', 'Category': 'category', 'Legendary': 'category', 'Type': 'category'})\n",
    "\n",
    "df0['eHP']  = df0.apply(lambda row: estats5e.effHP(row['adj HP'], row['adj AC'], 'linear'), axis=1)\n",
    "df0['eDPR'] = df0.apply(lambda row: estats5e.effDPR(row['adj DPR'], row['adj AB'], 'linear'), axis=1)\n",
    "df0['eXP']  = df0.apply(lambda row: estats5e.effXP(row['adj HP'], row['adj AC'], row['adj DPR'], row['adj AB'], 'linear'), axis=1)\n",
    "\n",
    "df0['Legacy']  = df0.apply(lambda row: row['Category'] == 'legacy', axis=1)\n",
    "\n",
    "df0['D-eCR']  = df0.apply(lambda row: float(np.interp(row['eHP'], dfD['eHP Mean'],  dfD.index, left=0, right=30)), axis=1)\n",
    "df0['O-eCR']  = df0.apply(lambda row: float(np.interp(row['eDPR'], dfD['eDPR Mean'],  dfD.index, left=0, right=30)), axis=1)\n",
    "df0['eCR']  = df0.apply(lambda row: float(np.interp(row['eXP'], dfD['eXP Mean'],  dfD.index, left=0, right=30)), axis=1)\n",
    "\n",
    "df0['eHP Ratio'] = df0.apply(lambda row: row['eHP']/dfD.loc[row['CR'], 'eHP Mean'], axis=1)\n",
    "df0['eDPR Ratio'] = df0.apply(lambda row: row['eDPR']/dfD.loc[row['CR'], 'eDPR Mean'], axis=1)\n",
    "df0['eCR Delta'] = df0['eCR'] - df0['CR']\n",
    "df0['eXP Ratio'] = df0['eXP'] / df0['XP']\n",
    "df0['eXP Skew'] = (df0['eDPR Ratio'] - df0['eHP Ratio'])/(df0['eDPR Ratio'] + df0['eHP Ratio'])\n",
    "\n",
    "df0['D-CR DMG'] = df0.apply(lambda row: dmg5e.monster_defensive_challenge_rating(row['adj HP'], row['adj AC']), axis=1)\n",
    "df0['O-CR DMG'] = df0.apply(lambda row: dmg5e.monster_offensive_challenge_rating(row['adj DPR'], row['adj AB']), axis=1)\n",
    "df0['C-CR DMG'] = df0.apply(lambda row: np.floor(dmg5e.monster_challenge_rating(row['adj HP'], row['adj AC'], row['adj DPR'], row['adj AB'])), axis=1)\n",
    "df0['C-CR DMG Delta'] = df0['C-CR DMG'] - df0['CR']\n",
    "df0['XP DMG'] = df0.apply(lambda row: dfD.loc[row['C-CR DMG'], 'XP'], axis=1)\n",
    "df0['XP DMG Ratio'] = df0['XP DMG'] / df0['XP']\n",
    "#df0['C-CR DMG'] = 0.5*(df0['D-CR DMG'] + df0['O-CR DMG'])\n",
    "df0['CR spread'] = df0['CR'] + np.random.rand(len(df0.index.tolist())) - 0.5\n",
    "\n",
    "print('Includes {} monsters in database'.format(len(df0.index.to_list())))"
   ]
  },
  {
   "cell_type": "code",
   "execution_count": 216,
   "metadata": {},
   "outputs": [],
   "source": [
    "# Setup template and html config for plotly figures.\n",
    "from scipy import optimize\n",
    "\n",
    "def plot_mean_fit(fig, row, col, df0, xCol, yCol, name, line_color):\n",
    "    # plot mean\n",
    "    #dfM = df0[[xCol, yCol]].groupby(xCol).mean().reset_index()\n",
    "    dfM = df0\n",
    "    fig.add_trace(go.Scatter(\n",
    "        x=dfM[xCol], y=dfM[yCol],\n",
    "        mode='markers', \n",
    "        name=f'{name}',\n",
    "        legendgroup=name, \n",
    "        line_color=line_color,\n",
    "        hovertemplate='<b>' + name + '</b><br>' + 'CR %{x:,.0f}<br>' + 'Mean %{y:,.1f}<br>' + '<extra></extra>'\n",
    "    ), row=row, col=col)\n",
    "    coefs = np.polyfit(dfM[xCol], dfM[yCol], 1)\n",
    "    poly = np.poly1d(coefs)\n",
    "    fig.add_trace(go.Scatter(\n",
    "        x=dfM[xCol], y=poly(dfM[xCol]),\n",
    "        mode='lines', \n",
    "        name=f'{name}',\n",
    "        legendgroup=name, \n",
    "        line_color=line_color,\n",
    "        hoverinfo='skip',\n",
    "        showlegend=False,\n",
    "    ), row=row, col=col)\n",
    "\n",
    "def plot_confidence_interval(fig, df0, conf, xCol, yCol, name, line_color, fillcolor):\n",
    "    # plot confidence\n",
    "    if conf > 0:\n",
    "        dfU = df0[[xCol, yCol]].groupby(xCol).quantile(0.5 + conf/2).reset_index()\n",
    "        dfL = df0[[xCol, yCol]].groupby(xCol).quantile(0.5 - conf/2).reset_index()\n",
    "        fig.add_trace(go.Scatter(x=dfU[xCol], y=dfU[yCol], line_width=0, legendgroup=name, showlegend=False, hoverinfo='skip'))\n",
    "        fig.add_trace(go.Scatter(x=dfL[xCol], y=dfL[yCol], line_width=0, name=f'{name} - {conf:.0%} confidence', legendgroup=name, hoverinfo='skip', fill='tonexty', fillcolor=fillcolor))\n",
    "    \n",
    "    # plot mean\n",
    "    dfM = df0[[xCol, yCol]].groupby(xCol).mean().reset_index()\n",
    "    fig.add_trace(go.Scatter(\n",
    "        x=dfM[xCol], y=dfM[yCol],\n",
    "        mode='lines', \n",
    "        name=f'{name} - mean',\n",
    "        legendgroup=name, \n",
    "        line_color=line_color,\n",
    "        hovertemplate='<b>' + name + '</b><br>' + 'CR %{x:,.0f}<br>' + 'Mean %{y:,.2f}<br>' + '<extra></extra>'\n",
    "    ))\n",
    "\n",
    "def piecewise_linear(x, x0, y0, k1, k2):\n",
    "    #return np.piecewise(x, [x < x0], [lambda x:k1*x + y0-k1*x0, lambda x:k2*x + y0-k2*x0])\n",
    "    return np.piecewise(x, [x < 20], [lambda x:k1*x + y0-k1*20, lambda x:k2*x + y0-k2*20])\n",
    "\n",
    "def plot_data_and_piecewise_fit(fig, x, y, **kwargs):\n",
    "    row = kwargs.pop('row') if 'row' in kwargs else 1\n",
    "    col = kwargs.pop('col') if 'col' in kwargs else 1\n",
    "    \n",
    "    # plot data\n",
    "    fig.add_trace(go.Scatter(\n",
    "        x=x, y=y,\n",
    "        mode='markers', \n",
    "        **kwargs,\n",
    "    ), row=row, col=col)\n",
    "\n",
    "    # plot fit\n",
    "    kwargs['hoverinfo'] = 'skip'\n",
    "    kwargs['showlegend'] = False\n",
    "    kwargs['line_dash'] = 'solid'\n",
    "    p, e = optimize.curve_fit(piecewise_linear, x, y)\n",
    "    xr = np.linspace(1,30,30)\n",
    "    fig.add_trace(go.Scatter(\n",
    "        x=xr, \n",
    "        y=piecewise_linear(xr, *p),\n",
    "        mode='lines', \n",
    "        **kwargs,\n",
    "    ), row=row, col=col)\n",
    "    return fig, piecewise_linear(xr, *p)\n",
    "    #return fig"
   ]
  },
  {
   "cell_type": "code",
   "execution_count": 217,
   "metadata": {},
   "outputs": [
    {
     "name": "stdout",
     "output_type": "stream",
     "text": [
      "252\n",
      "{'HP': 61, 'AC': 10, 'DPR': 130, 'AB': 14}\n",
      "{'HP': 21, 'AC': 28, 'DPR': 8, 'AB': 7}\n"
     ]
    },
    {
     "data": {
      "application/vnd.plotly.v1+json": {
       "config": {
        "autosizable": true,
        "displayModeBar": "hover",
        "displaylogo": false,
        "modeBarButtonsToRemove": [
         "select2d",
         "lasso2d",
         "zoom2d",
         "zoomIn2d",
         "zoomOut2d",
         "pan2d",
         "autoScale2d",
         "hoverClosestCartesian",
         "hoverCompareCartesian",
         "toggleSpikelines",
         "resetScale2d"
        ],
        "plotlyServerURL": "https://plot.ly",
        "responsive": true,
        "showAxisDragHandles": false,
        "toImageButtonOptions": {
         "filename": "tfb-plot",
         "format": "png",
         "height": 450,
         "scale": 2,
         "width": 600
        }
       },
       "data": [
        {
         "hovertemplate": "Raw %{y:,.1f}%<extra></extra>",
         "name": "Raw stats",
         "type": "bar",
         "x": [
          "HP",
          "AC",
          "DPR",
          "AB"
         ],
         "y": [
          24.206349206349206,
          3.968253968253968,
          51.58730158730158,
          5.555555555555555
         ]
        },
        {
         "hovertemplate": "Adjusted %{y:,.1f}%<extra></extra>",
         "name": "Adjusted stats",
         "type": "bar",
         "x": [
          "HP",
          "AC",
          "DPR",
          "AB"
         ],
         "y": [
          8.333333333333332,
          11.11111111111111,
          3.1746031746031744,
          2.7777777777777777
         ]
        }
       ],
       "layout": {
        "barmode": "stack",
        "height": 450,
        "hovermode": "x unified",
        "legend": {
         "orientation": "v",
         "tracegroupgap": 0,
         "traceorder": "normal",
         "x": 0,
         "xanchor": "left",
         "y": 1,
         "yanchor": "top"
        },
        "margin": {
         "b": 55,
         "l": 70,
         "pad": 4,
         "r": 25,
         "t": 20
        },
        "template": {
         "layout": {
          "autosize": false,
          "font": {
           "family": "sans-serif",
           "size": 14
          },
          "hoverlabel": {
           "align": "left"
          },
          "hovermode": "closest",
          "margin": {
           "b": 55,
           "l": 60,
           "pad": 4,
           "r": 25,
           "t": 20
          },
          "template": {
           "data": {
            "bar": [
             {
              "error_x": {
               "color": "#2a3f5f"
              },
              "error_y": {
               "color": "#2a3f5f"
              },
              "marker": {
               "line": {
                "color": "white",
                "width": 0.5
               },
               "pattern": {
                "fillmode": "overlay",
                "size": 10,
                "solidity": 0.2
               }
              },
              "type": "bar"
             }
            ],
            "barpolar": [
             {
              "marker": {
               "line": {
                "color": "white",
                "width": 0.5
               },
               "pattern": {
                "fillmode": "overlay",
                "size": 10,
                "solidity": 0.2
               }
              },
              "type": "barpolar"
             }
            ],
            "carpet": [
             {
              "aaxis": {
               "endlinecolor": "#2a3f5f",
               "gridcolor": "#C8D4E3",
               "linecolor": "#C8D4E3",
               "minorgridcolor": "#C8D4E3",
               "startlinecolor": "#2a3f5f"
              },
              "baxis": {
               "endlinecolor": "#2a3f5f",
               "gridcolor": "#C8D4E3",
               "linecolor": "#C8D4E3",
               "minorgridcolor": "#C8D4E3",
               "startlinecolor": "#2a3f5f"
              },
              "type": "carpet"
             }
            ],
            "choropleth": [
             {
              "colorbar": {
               "outlinewidth": 0,
               "ticks": ""
              },
              "type": "choropleth"
             }
            ],
            "contour": [
             {
              "colorbar": {
               "outlinewidth": 0,
               "ticks": ""
              },
              "colorscale": [
               [
                0,
                "#0d0887"
               ],
               [
                0.1111111111111111,
                "#46039f"
               ],
               [
                0.2222222222222222,
                "#7201a8"
               ],
               [
                0.3333333333333333,
                "#9c179e"
               ],
               [
                0.4444444444444444,
                "#bd3786"
               ],
               [
                0.5555555555555556,
                "#d8576b"
               ],
               [
                0.6666666666666666,
                "#ed7953"
               ],
               [
                0.7777777777777778,
                "#fb9f3a"
               ],
               [
                0.8888888888888888,
                "#fdca26"
               ],
               [
                1,
                "#f0f921"
               ]
              ],
              "type": "contour"
             }
            ],
            "contourcarpet": [
             {
              "colorbar": {
               "outlinewidth": 0,
               "ticks": ""
              },
              "type": "contourcarpet"
             }
            ],
            "heatmap": [
             {
              "colorbar": {
               "outlinewidth": 0,
               "ticks": ""
              },
              "colorscale": [
               [
                0,
                "#0d0887"
               ],
               [
                0.1111111111111111,
                "#46039f"
               ],
               [
                0.2222222222222222,
                "#7201a8"
               ],
               [
                0.3333333333333333,
                "#9c179e"
               ],
               [
                0.4444444444444444,
                "#bd3786"
               ],
               [
                0.5555555555555556,
                "#d8576b"
               ],
               [
                0.6666666666666666,
                "#ed7953"
               ],
               [
                0.7777777777777778,
                "#fb9f3a"
               ],
               [
                0.8888888888888888,
                "#fdca26"
               ],
               [
                1,
                "#f0f921"
               ]
              ],
              "type": "heatmap"
             }
            ],
            "heatmapgl": [
             {
              "colorbar": {
               "outlinewidth": 0,
               "ticks": ""
              },
              "colorscale": [
               [
                0,
                "#0d0887"
               ],
               [
                0.1111111111111111,
                "#46039f"
               ],
               [
                0.2222222222222222,
                "#7201a8"
               ],
               [
                0.3333333333333333,
                "#9c179e"
               ],
               [
                0.4444444444444444,
                "#bd3786"
               ],
               [
                0.5555555555555556,
                "#d8576b"
               ],
               [
                0.6666666666666666,
                "#ed7953"
               ],
               [
                0.7777777777777778,
                "#fb9f3a"
               ],
               [
                0.8888888888888888,
                "#fdca26"
               ],
               [
                1,
                "#f0f921"
               ]
              ],
              "type": "heatmapgl"
             }
            ],
            "histogram": [
             {
              "marker": {
               "pattern": {
                "fillmode": "overlay",
                "size": 10,
                "solidity": 0.2
               }
              },
              "type": "histogram"
             }
            ],
            "histogram2d": [
             {
              "colorbar": {
               "outlinewidth": 0,
               "ticks": ""
              },
              "colorscale": [
               [
                0,
                "#0d0887"
               ],
               [
                0.1111111111111111,
                "#46039f"
               ],
               [
                0.2222222222222222,
                "#7201a8"
               ],
               [
                0.3333333333333333,
                "#9c179e"
               ],
               [
                0.4444444444444444,
                "#bd3786"
               ],
               [
                0.5555555555555556,
                "#d8576b"
               ],
               [
                0.6666666666666666,
                "#ed7953"
               ],
               [
                0.7777777777777778,
                "#fb9f3a"
               ],
               [
                0.8888888888888888,
                "#fdca26"
               ],
               [
                1,
                "#f0f921"
               ]
              ],
              "type": "histogram2d"
             }
            ],
            "histogram2dcontour": [
             {
              "colorbar": {
               "outlinewidth": 0,
               "ticks": ""
              },
              "colorscale": [
               [
                0,
                "#0d0887"
               ],
               [
                0.1111111111111111,
                "#46039f"
               ],
               [
                0.2222222222222222,
                "#7201a8"
               ],
               [
                0.3333333333333333,
                "#9c179e"
               ],
               [
                0.4444444444444444,
                "#bd3786"
               ],
               [
                0.5555555555555556,
                "#d8576b"
               ],
               [
                0.6666666666666666,
                "#ed7953"
               ],
               [
                0.7777777777777778,
                "#fb9f3a"
               ],
               [
                0.8888888888888888,
                "#fdca26"
               ],
               [
                1,
                "#f0f921"
               ]
              ],
              "type": "histogram2dcontour"
             }
            ],
            "mesh3d": [
             {
              "colorbar": {
               "outlinewidth": 0,
               "ticks": ""
              },
              "type": "mesh3d"
             }
            ],
            "parcoords": [
             {
              "line": {
               "colorbar": {
                "outlinewidth": 0,
                "ticks": ""
               }
              },
              "type": "parcoords"
             }
            ],
            "pie": [
             {
              "automargin": true,
              "type": "pie"
             }
            ],
            "scatter": [
             {
              "fillpattern": {
               "fillmode": "overlay",
               "size": 10,
               "solidity": 0.2
              },
              "type": "scatter"
             }
            ],
            "scatter3d": [
             {
              "line": {
               "colorbar": {
                "outlinewidth": 0,
                "ticks": ""
               }
              },
              "marker": {
               "colorbar": {
                "outlinewidth": 0,
                "ticks": ""
               }
              },
              "type": "scatter3d"
             }
            ],
            "scattercarpet": [
             {
              "marker": {
               "colorbar": {
                "outlinewidth": 0,
                "ticks": ""
               }
              },
              "type": "scattercarpet"
             }
            ],
            "scattergeo": [
             {
              "marker": {
               "colorbar": {
                "outlinewidth": 0,
                "ticks": ""
               }
              },
              "type": "scattergeo"
             }
            ],
            "scattergl": [
             {
              "marker": {
               "colorbar": {
                "outlinewidth": 0,
                "ticks": ""
               }
              },
              "type": "scattergl"
             }
            ],
            "scattermapbox": [
             {
              "marker": {
               "colorbar": {
                "outlinewidth": 0,
                "ticks": ""
               }
              },
              "type": "scattermapbox"
             }
            ],
            "scatterpolar": [
             {
              "marker": {
               "colorbar": {
                "outlinewidth": 0,
                "ticks": ""
               }
              },
              "type": "scatterpolar"
             }
            ],
            "scatterpolargl": [
             {
              "marker": {
               "colorbar": {
                "outlinewidth": 0,
                "ticks": ""
               }
              },
              "type": "scatterpolargl"
             }
            ],
            "scatterternary": [
             {
              "marker": {
               "colorbar": {
                "outlinewidth": 0,
                "ticks": ""
               }
              },
              "type": "scatterternary"
             }
            ],
            "surface": [
             {
              "colorbar": {
               "outlinewidth": 0,
               "ticks": ""
              },
              "colorscale": [
               [
                0,
                "#0d0887"
               ],
               [
                0.1111111111111111,
                "#46039f"
               ],
               [
                0.2222222222222222,
                "#7201a8"
               ],
               [
                0.3333333333333333,
                "#9c179e"
               ],
               [
                0.4444444444444444,
                "#bd3786"
               ],
               [
                0.5555555555555556,
                "#d8576b"
               ],
               [
                0.6666666666666666,
                "#ed7953"
               ],
               [
                0.7777777777777778,
                "#fb9f3a"
               ],
               [
                0.8888888888888888,
                "#fdca26"
               ],
               [
                1,
                "#f0f921"
               ]
              ],
              "type": "surface"
             }
            ],
            "table": [
             {
              "cells": {
               "fill": {
                "color": "#EBF0F8"
               },
               "line": {
                "color": "white"
               }
              },
              "header": {
               "fill": {
                "color": "#C8D4E3"
               },
               "line": {
                "color": "white"
               }
              },
              "type": "table"
             }
            ]
           },
           "layout": {
            "annotationdefaults": {
             "arrowcolor": "#2a3f5f",
             "arrowhead": 0,
             "arrowwidth": 1
            },
            "autotypenumbers": "strict",
            "coloraxis": {
             "colorbar": {
              "outlinewidth": 0,
              "ticks": ""
             }
            },
            "colorscale": {
             "diverging": [
              [
               0,
               "#8e0152"
              ],
              [
               0.1,
               "#c51b7d"
              ],
              [
               0.2,
               "#de77ae"
              ],
              [
               0.3,
               "#f1b6da"
              ],
              [
               0.4,
               "#fde0ef"
              ],
              [
               0.5,
               "#f7f7f7"
              ],
              [
               0.6,
               "#e6f5d0"
              ],
              [
               0.7,
               "#b8e186"
              ],
              [
               0.8,
               "#7fbc41"
              ],
              [
               0.9,
               "#4d9221"
              ],
              [
               1,
               "#276419"
              ]
             ],
             "sequential": [
              [
               0,
               "#0d0887"
              ],
              [
               0.1111111111111111,
               "#46039f"
              ],
              [
               0.2222222222222222,
               "#7201a8"
              ],
              [
               0.3333333333333333,
               "#9c179e"
              ],
              [
               0.4444444444444444,
               "#bd3786"
              ],
              [
               0.5555555555555556,
               "#d8576b"
              ],
              [
               0.6666666666666666,
               "#ed7953"
              ],
              [
               0.7777777777777778,
               "#fb9f3a"
              ],
              [
               0.8888888888888888,
               "#fdca26"
              ],
              [
               1,
               "#f0f921"
              ]
             ],
             "sequentialminus": [
              [
               0,
               "#0d0887"
              ],
              [
               0.1111111111111111,
               "#46039f"
              ],
              [
               0.2222222222222222,
               "#7201a8"
              ],
              [
               0.3333333333333333,
               "#9c179e"
              ],
              [
               0.4444444444444444,
               "#bd3786"
              ],
              [
               0.5555555555555556,
               "#d8576b"
              ],
              [
               0.6666666666666666,
               "#ed7953"
              ],
              [
               0.7777777777777778,
               "#fb9f3a"
              ],
              [
               0.8888888888888888,
               "#fdca26"
              ],
              [
               1,
               "#f0f921"
              ]
             ]
            },
            "colorway": [
             "#636efa",
             "#EF553B",
             "#00cc96",
             "#ab63fa",
             "#FFA15A",
             "#19d3f3",
             "#FF6692",
             "#B6E880",
             "#FF97FF",
             "#FECB52"
            ],
            "font": {
             "color": "#2a3f5f"
            },
            "geo": {
             "bgcolor": "white",
             "lakecolor": "white",
             "landcolor": "white",
             "showlakes": true,
             "showland": true,
             "subunitcolor": "#C8D4E3"
            },
            "hoverlabel": {
             "align": "left"
            },
            "hovermode": "closest",
            "mapbox": {
             "style": "light"
            },
            "paper_bgcolor": "white",
            "plot_bgcolor": "white",
            "polar": {
             "angularaxis": {
              "gridcolor": "#EBF0F8",
              "linecolor": "#EBF0F8",
              "ticks": ""
             },
             "bgcolor": "white",
             "radialaxis": {
              "gridcolor": "#EBF0F8",
              "linecolor": "#EBF0F8",
              "ticks": ""
             }
            },
            "scene": {
             "xaxis": {
              "backgroundcolor": "white",
              "gridcolor": "#DFE8F3",
              "gridwidth": 2,
              "linecolor": "#EBF0F8",
              "showbackground": true,
              "ticks": "",
              "zerolinecolor": "#EBF0F8"
             },
             "yaxis": {
              "backgroundcolor": "white",
              "gridcolor": "#DFE8F3",
              "gridwidth": 2,
              "linecolor": "#EBF0F8",
              "showbackground": true,
              "ticks": "",
              "zerolinecolor": "#EBF0F8"
             },
             "zaxis": {
              "backgroundcolor": "white",
              "gridcolor": "#DFE8F3",
              "gridwidth": 2,
              "linecolor": "#EBF0F8",
              "showbackground": true,
              "ticks": "",
              "zerolinecolor": "#EBF0F8"
             }
            },
            "shapedefaults": {
             "line": {
              "color": "#2a3f5f"
             }
            },
            "ternary": {
             "aaxis": {
              "gridcolor": "#DFE8F3",
              "linecolor": "#A2B1C6",
              "ticks": ""
             },
             "baxis": {
              "gridcolor": "#DFE8F3",
              "linecolor": "#A2B1C6",
              "ticks": ""
             },
             "bgcolor": "white",
             "caxis": {
              "gridcolor": "#DFE8F3",
              "linecolor": "#A2B1C6",
              "ticks": ""
             }
            },
            "title": {
             "x": 0.05
            },
            "xaxis": {
             "automargin": true,
             "gridcolor": "#EBF0F8",
             "linecolor": "#EBF0F8",
             "ticks": "",
             "title": {
              "standoff": 15
             },
             "zerolinecolor": "#EBF0F8",
             "zerolinewidth": 2
            },
            "yaxis": {
             "automargin": true,
             "gridcolor": "#EBF0F8",
             "linecolor": "#EBF0F8",
             "ticks": "",
             "title": {
              "standoff": 15
             },
             "zerolinecolor": "#EBF0F8",
             "zerolinewidth": 2
            }
           }
          },
          "xaxis": {
           "automargin": false,
           "linecolor": "#444",
           "linewidth": 2,
           "minor": {
            "tickmode": "linear",
            "ticks": "outside"
           },
           "mirror": true,
           "showline": true,
           "tickmode": "linear",
           "ticks": "outside",
           "zeroline": false
          },
          "yaxis": {
           "automargin": false,
           "linecolor": "#444",
           "linewidth": 2,
           "minor": {
            "tickmode": "linear",
            "ticks": "outside"
           },
           "mirror": true,
           "showline": true,
           "ticks": "outside",
           "zeroline": false
          }
         }
        },
        "width": 600,
        "yaxis": {
         "dtick": 10,
         "minor": {
          "dtick": 5,
          "tick0": 0
         },
         "tick0": 0,
         "title": {
          "text": "monsters changed (%)"
         }
        }
       }
      }
     },
     "metadata": {},
     "output_type": "display_data"
    }
   ],
   "source": [
    "# plot the number of monsters by the type of change\n",
    "# create figure\n",
    "fig = go.Figure(\n",
    "    layout=go.Layout(\n",
    "        template=tfb.FIG_TEMPLATE,\n",
    "        margin=dict(l=70, r=25, b=55, t=20, pad=4),\n",
    "        barmode='stack',\n",
    "        #xaxis=dict(title_text='change'),\n",
    "        yaxis=dict(\n",
    "            title_text='monsters changed (%)',\n",
    "            #range=[0,100],\n",
    "            tick0=0, dtick=10,\n",
    "            minor=dict(tick0=0, dtick=5),\n",
    "        ),\n",
    "        legend=dict(\n",
    "            xanchor='left', yanchor='top',\n",
    "            x=0.00, y=1.00,\n",
    "            orientation='v',\n",
    "            tracegroupgap=0,\n",
    "            traceorder='normal',\n",
    "        )\n",
    "    )\n",
    ")\n",
    "\n",
    "df1 = df0[df0['Book'].isin(['MPMotM','VGtM','MToF'])]\n",
    "dfMP = pd.pivot_table(df1, \n",
    "    values=['HP','AC','AB','DPR',\n",
    "            'adj HP','adj AC','adj AB','adj DPR',\n",
    "            'eHP','eDPR','eXP',\n",
    "            'eHP Ratio','eDPR Ratio','eXP Ratio','eXP Skew'], \n",
    "    index=['Monster', 'Legendary'], columns=['Legacy']).reset_index()\n",
    "m_count = dfMP.shape[0]\n",
    "print(m_count)\n",
    "\n",
    "stats = ['HP', 'AC', 'DPR', 'AB']\n",
    "data = {}\n",
    "for stat in stats:\n",
    "    data[stat] = np.sum((dfMP[stat][False] - dfMP[stat][True]) != 0)\n",
    "\n",
    "fig.add_trace(go.Bar(\n",
    "    x=np.array(list(data.keys())),\n",
    "    y=np.array(list(data.values()))*(100/m_count),\n",
    "    name='Raw stats',\n",
    "    hovertemplate = ''\n",
    "        + 'Raw %{y:,.1f}%'\n",
    "        + '<extra></extra>'\n",
    "))\n",
    "print(data)\n",
    "\n",
    "stats = ['HP', 'AC', 'DPR', 'AB']\n",
    "for stat in stats:\n",
    "    data[stat] = np.sum((dfMP[f'adj {stat}'][False] - dfMP[f'adj {stat}'][True]) != 0) - data[stat]\n",
    "\n",
    "fig.add_trace(go.Bar(\n",
    "    x=np.array(list(data.keys())),\n",
    "    y=np.array(list(data.values()))*(100/m_count),\n",
    "    name='Adjusted stats',\n",
    "    hovertemplate = ''\n",
    "        + 'Adjusted %{y:,.1f}%'\n",
    "        + '<extra></extra>'\n",
    "))\n",
    "print(data)\n",
    "\n",
    "# show figure\n",
    "fig.update_layout(width=600, height=450, hovermode='x unified')\n",
    "fig.show(config=tfb.FIG_CONFIG)\n",
    "\n",
    "# save figures\n",
    "if SAVEFIGS:\n",
    "    fig.update_layout(autosize=True, width=None, height=None)\n",
    "    tfb.save_fig_html(fig, format='large', name=f'./fig-stat-changes-large')\n",
    "    tfb.save_fig_html(fig, format='small', name=f'./fig-stat-changes-small')"
   ]
  },
  {
   "cell_type": "code",
   "execution_count": 218,
   "metadata": {},
   "outputs": [
    {
     "data": {
      "application/vnd.plotly.v1+json": {
       "config": {
        "autosizable": true,
        "displayModeBar": "hover",
        "displaylogo": false,
        "modeBarButtonsToRemove": [
         "select2d",
         "lasso2d",
         "zoom2d",
         "zoomIn2d",
         "zoomOut2d",
         "pan2d",
         "autoScale2d",
         "hoverClosestCartesian",
         "hoverCompareCartesian",
         "toggleSpikelines",
         "resetScale2d"
        ],
        "plotlyServerURL": "https://plot.ly",
        "responsive": true,
        "showAxisDragHandles": false,
        "toImageButtonOptions": {
         "filename": "tfb-plot",
         "format": "png",
         "height": 450,
         "scale": 2,
         "width": 600
        }
       },
       "data": [
        {
         "customdata": [
          0.125,
          0.25,
          0.5,
          1,
          2,
          3,
          4,
          5,
          6,
          7,
          8,
          9,
          10,
          11,
          12,
          13,
          14,
          21,
          22,
          23,
          25
         ],
         "hovertemplate": "<b>Unchanged</b><br>CR %{customdata}<br>Monsters %{y:,.0f}<extra></extra>",
         "name": "Unchanged",
         "type": "bar",
         "width": [
          0.125,
          0.1875,
          0.375,
          0.75,
          1,
          1,
          1,
          1,
          1,
          1,
          1,
          1,
          1,
          1,
          1,
          1,
          1,
          1,
          1,
          1,
          1
         ],
         "x": [
          0.125,
          0.28125,
          0.5625,
          1.125,
          2,
          3,
          4,
          5,
          6,
          7,
          8,
          9,
          10,
          11,
          12,
          13,
          14,
          21,
          22,
          23,
          25
         ],
         "y": [
          4,
          12,
          4,
          8,
          17,
          9,
          5,
          6,
          2,
          9,
          1,
          2,
          1,
          2,
          2,
          4,
          1,
          1,
          1,
          1,
          1
         ]
        },
        {
         "customdata": [
          0.125,
          0.25,
          0.5,
          1,
          2,
          3,
          4,
          5,
          6,
          7,
          8,
          9,
          10,
          11,
          12,
          13,
          14,
          15,
          16,
          17,
          18,
          19,
          20,
          21,
          22,
          23,
          24,
          25,
          26
         ],
         "hovertemplate": "<b>Changed</b><br>CR %{customdata}<br>Monsters %{y:,.0f}<extra></extra>",
         "name": "Changed",
         "type": "bar",
         "width": [
          0.125,
          0.1875,
          0.375,
          0.75,
          1,
          1,
          1,
          1,
          1,
          1,
          1,
          1,
          1,
          1,
          1,
          1,
          1,
          1,
          1,
          1,
          1,
          1,
          1,
          1,
          1,
          1,
          1,
          1,
          1
         ],
         "x": [
          0.125,
          0.28125,
          0.5625,
          1.125,
          2,
          3,
          4,
          5,
          6,
          7,
          8,
          9,
          10,
          11,
          12,
          13,
          14,
          15,
          16,
          17,
          18,
          19,
          20,
          21,
          22,
          23,
          24,
          25,
          26
         ],
         "y": [
          1,
          3,
          4,
          8,
          11,
          13,
          11,
          13,
          6,
          6,
          7,
          11,
          11,
          7,
          7,
          4,
          5,
          3,
          7,
          2,
          3,
          2,
          2,
          3,
          1,
          4,
          3,
          1,
          3
         ]
        }
       ],
       "layout": {
        "barmode": "stack",
        "height": 450,
        "legend": {
         "orientation": "v",
         "tracegroupgap": 0,
         "traceorder": "normal",
         "x": 1,
         "xanchor": "right",
         "y": 1,
         "yanchor": "top"
        },
        "margin": {
         "b": 55,
         "l": 70,
         "pad": 4,
         "r": 25,
         "t": 20
        },
        "template": {
         "layout": {
          "autosize": false,
          "font": {
           "family": "sans-serif",
           "size": 14
          },
          "hoverlabel": {
           "align": "left"
          },
          "hovermode": "closest",
          "margin": {
           "b": 55,
           "l": 60,
           "pad": 4,
           "r": 25,
           "t": 20
          },
          "template": {
           "data": {
            "bar": [
             {
              "error_x": {
               "color": "#2a3f5f"
              },
              "error_y": {
               "color": "#2a3f5f"
              },
              "marker": {
               "line": {
                "color": "white",
                "width": 0.5
               },
               "pattern": {
                "fillmode": "overlay",
                "size": 10,
                "solidity": 0.2
               }
              },
              "type": "bar"
             }
            ],
            "barpolar": [
             {
              "marker": {
               "line": {
                "color": "white",
                "width": 0.5
               },
               "pattern": {
                "fillmode": "overlay",
                "size": 10,
                "solidity": 0.2
               }
              },
              "type": "barpolar"
             }
            ],
            "carpet": [
             {
              "aaxis": {
               "endlinecolor": "#2a3f5f",
               "gridcolor": "#C8D4E3",
               "linecolor": "#C8D4E3",
               "minorgridcolor": "#C8D4E3",
               "startlinecolor": "#2a3f5f"
              },
              "baxis": {
               "endlinecolor": "#2a3f5f",
               "gridcolor": "#C8D4E3",
               "linecolor": "#C8D4E3",
               "minorgridcolor": "#C8D4E3",
               "startlinecolor": "#2a3f5f"
              },
              "type": "carpet"
             }
            ],
            "choropleth": [
             {
              "colorbar": {
               "outlinewidth": 0,
               "ticks": ""
              },
              "type": "choropleth"
             }
            ],
            "contour": [
             {
              "colorbar": {
               "outlinewidth": 0,
               "ticks": ""
              },
              "colorscale": [
               [
                0,
                "#0d0887"
               ],
               [
                0.1111111111111111,
                "#46039f"
               ],
               [
                0.2222222222222222,
                "#7201a8"
               ],
               [
                0.3333333333333333,
                "#9c179e"
               ],
               [
                0.4444444444444444,
                "#bd3786"
               ],
               [
                0.5555555555555556,
                "#d8576b"
               ],
               [
                0.6666666666666666,
                "#ed7953"
               ],
               [
                0.7777777777777778,
                "#fb9f3a"
               ],
               [
                0.8888888888888888,
                "#fdca26"
               ],
               [
                1,
                "#f0f921"
               ]
              ],
              "type": "contour"
             }
            ],
            "contourcarpet": [
             {
              "colorbar": {
               "outlinewidth": 0,
               "ticks": ""
              },
              "type": "contourcarpet"
             }
            ],
            "heatmap": [
             {
              "colorbar": {
               "outlinewidth": 0,
               "ticks": ""
              },
              "colorscale": [
               [
                0,
                "#0d0887"
               ],
               [
                0.1111111111111111,
                "#46039f"
               ],
               [
                0.2222222222222222,
                "#7201a8"
               ],
               [
                0.3333333333333333,
                "#9c179e"
               ],
               [
                0.4444444444444444,
                "#bd3786"
               ],
               [
                0.5555555555555556,
                "#d8576b"
               ],
               [
                0.6666666666666666,
                "#ed7953"
               ],
               [
                0.7777777777777778,
                "#fb9f3a"
               ],
               [
                0.8888888888888888,
                "#fdca26"
               ],
               [
                1,
                "#f0f921"
               ]
              ],
              "type": "heatmap"
             }
            ],
            "heatmapgl": [
             {
              "colorbar": {
               "outlinewidth": 0,
               "ticks": ""
              },
              "colorscale": [
               [
                0,
                "#0d0887"
               ],
               [
                0.1111111111111111,
                "#46039f"
               ],
               [
                0.2222222222222222,
                "#7201a8"
               ],
               [
                0.3333333333333333,
                "#9c179e"
               ],
               [
                0.4444444444444444,
                "#bd3786"
               ],
               [
                0.5555555555555556,
                "#d8576b"
               ],
               [
                0.6666666666666666,
                "#ed7953"
               ],
               [
                0.7777777777777778,
                "#fb9f3a"
               ],
               [
                0.8888888888888888,
                "#fdca26"
               ],
               [
                1,
                "#f0f921"
               ]
              ],
              "type": "heatmapgl"
             }
            ],
            "histogram": [
             {
              "marker": {
               "pattern": {
                "fillmode": "overlay",
                "size": 10,
                "solidity": 0.2
               }
              },
              "type": "histogram"
             }
            ],
            "histogram2d": [
             {
              "colorbar": {
               "outlinewidth": 0,
               "ticks": ""
              },
              "colorscale": [
               [
                0,
                "#0d0887"
               ],
               [
                0.1111111111111111,
                "#46039f"
               ],
               [
                0.2222222222222222,
                "#7201a8"
               ],
               [
                0.3333333333333333,
                "#9c179e"
               ],
               [
                0.4444444444444444,
                "#bd3786"
               ],
               [
                0.5555555555555556,
                "#d8576b"
               ],
               [
                0.6666666666666666,
                "#ed7953"
               ],
               [
                0.7777777777777778,
                "#fb9f3a"
               ],
               [
                0.8888888888888888,
                "#fdca26"
               ],
               [
                1,
                "#f0f921"
               ]
              ],
              "type": "histogram2d"
             }
            ],
            "histogram2dcontour": [
             {
              "colorbar": {
               "outlinewidth": 0,
               "ticks": ""
              },
              "colorscale": [
               [
                0,
                "#0d0887"
               ],
               [
                0.1111111111111111,
                "#46039f"
               ],
               [
                0.2222222222222222,
                "#7201a8"
               ],
               [
                0.3333333333333333,
                "#9c179e"
               ],
               [
                0.4444444444444444,
                "#bd3786"
               ],
               [
                0.5555555555555556,
                "#d8576b"
               ],
               [
                0.6666666666666666,
                "#ed7953"
               ],
               [
                0.7777777777777778,
                "#fb9f3a"
               ],
               [
                0.8888888888888888,
                "#fdca26"
               ],
               [
                1,
                "#f0f921"
               ]
              ],
              "type": "histogram2dcontour"
             }
            ],
            "mesh3d": [
             {
              "colorbar": {
               "outlinewidth": 0,
               "ticks": ""
              },
              "type": "mesh3d"
             }
            ],
            "parcoords": [
             {
              "line": {
               "colorbar": {
                "outlinewidth": 0,
                "ticks": ""
               }
              },
              "type": "parcoords"
             }
            ],
            "pie": [
             {
              "automargin": true,
              "type": "pie"
             }
            ],
            "scatter": [
             {
              "fillpattern": {
               "fillmode": "overlay",
               "size": 10,
               "solidity": 0.2
              },
              "type": "scatter"
             }
            ],
            "scatter3d": [
             {
              "line": {
               "colorbar": {
                "outlinewidth": 0,
                "ticks": ""
               }
              },
              "marker": {
               "colorbar": {
                "outlinewidth": 0,
                "ticks": ""
               }
              },
              "type": "scatter3d"
             }
            ],
            "scattercarpet": [
             {
              "marker": {
               "colorbar": {
                "outlinewidth": 0,
                "ticks": ""
               }
              },
              "type": "scattercarpet"
             }
            ],
            "scattergeo": [
             {
              "marker": {
               "colorbar": {
                "outlinewidth": 0,
                "ticks": ""
               }
              },
              "type": "scattergeo"
             }
            ],
            "scattergl": [
             {
              "marker": {
               "colorbar": {
                "outlinewidth": 0,
                "ticks": ""
               }
              },
              "type": "scattergl"
             }
            ],
            "scattermapbox": [
             {
              "marker": {
               "colorbar": {
                "outlinewidth": 0,
                "ticks": ""
               }
              },
              "type": "scattermapbox"
             }
            ],
            "scatterpolar": [
             {
              "marker": {
               "colorbar": {
                "outlinewidth": 0,
                "ticks": ""
               }
              },
              "type": "scatterpolar"
             }
            ],
            "scatterpolargl": [
             {
              "marker": {
               "colorbar": {
                "outlinewidth": 0,
                "ticks": ""
               }
              },
              "type": "scatterpolargl"
             }
            ],
            "scatterternary": [
             {
              "marker": {
               "colorbar": {
                "outlinewidth": 0,
                "ticks": ""
               }
              },
              "type": "scatterternary"
             }
            ],
            "surface": [
             {
              "colorbar": {
               "outlinewidth": 0,
               "ticks": ""
              },
              "colorscale": [
               [
                0,
                "#0d0887"
               ],
               [
                0.1111111111111111,
                "#46039f"
               ],
               [
                0.2222222222222222,
                "#7201a8"
               ],
               [
                0.3333333333333333,
                "#9c179e"
               ],
               [
                0.4444444444444444,
                "#bd3786"
               ],
               [
                0.5555555555555556,
                "#d8576b"
               ],
               [
                0.6666666666666666,
                "#ed7953"
               ],
               [
                0.7777777777777778,
                "#fb9f3a"
               ],
               [
                0.8888888888888888,
                "#fdca26"
               ],
               [
                1,
                "#f0f921"
               ]
              ],
              "type": "surface"
             }
            ],
            "table": [
             {
              "cells": {
               "fill": {
                "color": "#EBF0F8"
               },
               "line": {
                "color": "white"
               }
              },
              "header": {
               "fill": {
                "color": "#C8D4E3"
               },
               "line": {
                "color": "white"
               }
              },
              "type": "table"
             }
            ]
           },
           "layout": {
            "annotationdefaults": {
             "arrowcolor": "#2a3f5f",
             "arrowhead": 0,
             "arrowwidth": 1
            },
            "autotypenumbers": "strict",
            "coloraxis": {
             "colorbar": {
              "outlinewidth": 0,
              "ticks": ""
             }
            },
            "colorscale": {
             "diverging": [
              [
               0,
               "#8e0152"
              ],
              [
               0.1,
               "#c51b7d"
              ],
              [
               0.2,
               "#de77ae"
              ],
              [
               0.3,
               "#f1b6da"
              ],
              [
               0.4,
               "#fde0ef"
              ],
              [
               0.5,
               "#f7f7f7"
              ],
              [
               0.6,
               "#e6f5d0"
              ],
              [
               0.7,
               "#b8e186"
              ],
              [
               0.8,
               "#7fbc41"
              ],
              [
               0.9,
               "#4d9221"
              ],
              [
               1,
               "#276419"
              ]
             ],
             "sequential": [
              [
               0,
               "#0d0887"
              ],
              [
               0.1111111111111111,
               "#46039f"
              ],
              [
               0.2222222222222222,
               "#7201a8"
              ],
              [
               0.3333333333333333,
               "#9c179e"
              ],
              [
               0.4444444444444444,
               "#bd3786"
              ],
              [
               0.5555555555555556,
               "#d8576b"
              ],
              [
               0.6666666666666666,
               "#ed7953"
              ],
              [
               0.7777777777777778,
               "#fb9f3a"
              ],
              [
               0.8888888888888888,
               "#fdca26"
              ],
              [
               1,
               "#f0f921"
              ]
             ],
             "sequentialminus": [
              [
               0,
               "#0d0887"
              ],
              [
               0.1111111111111111,
               "#46039f"
              ],
              [
               0.2222222222222222,
               "#7201a8"
              ],
              [
               0.3333333333333333,
               "#9c179e"
              ],
              [
               0.4444444444444444,
               "#bd3786"
              ],
              [
               0.5555555555555556,
               "#d8576b"
              ],
              [
               0.6666666666666666,
               "#ed7953"
              ],
              [
               0.7777777777777778,
               "#fb9f3a"
              ],
              [
               0.8888888888888888,
               "#fdca26"
              ],
              [
               1,
               "#f0f921"
              ]
             ]
            },
            "colorway": [
             "#636efa",
             "#EF553B",
             "#00cc96",
             "#ab63fa",
             "#FFA15A",
             "#19d3f3",
             "#FF6692",
             "#B6E880",
             "#FF97FF",
             "#FECB52"
            ],
            "font": {
             "color": "#2a3f5f"
            },
            "geo": {
             "bgcolor": "white",
             "lakecolor": "white",
             "landcolor": "white",
             "showlakes": true,
             "showland": true,
             "subunitcolor": "#C8D4E3"
            },
            "hoverlabel": {
             "align": "left"
            },
            "hovermode": "closest",
            "mapbox": {
             "style": "light"
            },
            "paper_bgcolor": "white",
            "plot_bgcolor": "white",
            "polar": {
             "angularaxis": {
              "gridcolor": "#EBF0F8",
              "linecolor": "#EBF0F8",
              "ticks": ""
             },
             "bgcolor": "white",
             "radialaxis": {
              "gridcolor": "#EBF0F8",
              "linecolor": "#EBF0F8",
              "ticks": ""
             }
            },
            "scene": {
             "xaxis": {
              "backgroundcolor": "white",
              "gridcolor": "#DFE8F3",
              "gridwidth": 2,
              "linecolor": "#EBF0F8",
              "showbackground": true,
              "ticks": "",
              "zerolinecolor": "#EBF0F8"
             },
             "yaxis": {
              "backgroundcolor": "white",
              "gridcolor": "#DFE8F3",
              "gridwidth": 2,
              "linecolor": "#EBF0F8",
              "showbackground": true,
              "ticks": "",
              "zerolinecolor": "#EBF0F8"
             },
             "zaxis": {
              "backgroundcolor": "white",
              "gridcolor": "#DFE8F3",
              "gridwidth": 2,
              "linecolor": "#EBF0F8",
              "showbackground": true,
              "ticks": "",
              "zerolinecolor": "#EBF0F8"
             }
            },
            "shapedefaults": {
             "line": {
              "color": "#2a3f5f"
             }
            },
            "ternary": {
             "aaxis": {
              "gridcolor": "#DFE8F3",
              "linecolor": "#A2B1C6",
              "ticks": ""
             },
             "baxis": {
              "gridcolor": "#DFE8F3",
              "linecolor": "#A2B1C6",
              "ticks": ""
             },
             "bgcolor": "white",
             "caxis": {
              "gridcolor": "#DFE8F3",
              "linecolor": "#A2B1C6",
              "ticks": ""
             }
            },
            "title": {
             "x": 0.05
            },
            "xaxis": {
             "automargin": true,
             "gridcolor": "#EBF0F8",
             "linecolor": "#EBF0F8",
             "ticks": "",
             "title": {
              "standoff": 15
             },
             "zerolinecolor": "#EBF0F8",
             "zerolinewidth": 2
            },
            "yaxis": {
             "automargin": true,
             "gridcolor": "#EBF0F8",
             "linecolor": "#EBF0F8",
             "ticks": "",
             "title": {
              "standoff": 15
             },
             "zerolinecolor": "#EBF0F8",
             "zerolinewidth": 2
            }
           }
          },
          "xaxis": {
           "automargin": false,
           "linecolor": "#444",
           "linewidth": 2,
           "minor": {
            "tickmode": "linear",
            "ticks": "outside"
           },
           "mirror": true,
           "showline": true,
           "tickmode": "linear",
           "ticks": "outside",
           "zeroline": false
          },
          "yaxis": {
           "automargin": false,
           "linecolor": "#444",
           "linewidth": 2,
           "minor": {
            "tickmode": "linear",
            "ticks": "outside"
           },
           "mirror": true,
           "showline": true,
           "ticks": "outside",
           "zeroline": false
          }
         }
        },
        "width": 600,
        "xaxis": {
         "dtick": 5,
         "minor": {
          "dtick": 1,
          "tick0": 0
         },
         "range": [
          0,
          31
         ],
         "tick0": 0,
         "title": {
          "text": "challenge rating"
         }
        },
        "yaxis": {
         "title": {
          "text": "monsters"
         }
        }
       }
      }
     },
     "metadata": {},
     "output_type": "display_data"
    }
   ],
   "source": [
    "# plot the number of monsters changed by CR\n",
    "# create figure\n",
    "fig = go.Figure(\n",
    "    layout=go.Layout(\n",
    "        template=tfb.FIG_TEMPLATE,\n",
    "        margin=dict(l=70, r=25, b=55, t=20, pad=4),\n",
    "        barmode='stack',\n",
    "        xaxis=dict(\n",
    "            title_text='challenge rating',\n",
    "            range=[0, 31],\n",
    "            tick0=0, dtick=5,\n",
    "            minor=dict(tick0=0, dtick=1),\n",
    "        ),\n",
    "        yaxis=dict(\n",
    "            title_text='monsters',\n",
    "        ),\n",
    "        legend=dict(\n",
    "            xanchor='right', yanchor='top',\n",
    "            x=1.00, y=1.00,\n",
    "            orientation='v',\n",
    "            tracegroupgap=0,\n",
    "            traceorder='normal',\n",
    "        )\n",
    "    )\n",
    ")\n",
    "\n",
    "def x_decoder(x):\n",
    "    match x:\n",
    "        case 0:\n",
    "            return 0\n",
    "        case 0.125:\n",
    "            return 0.125\n",
    "        case 0.25:\n",
    "            return 0.28125\n",
    "        case 0.5:\n",
    "            return 0.5625\n",
    "        case 1:\n",
    "            return 1.125\n",
    "        case _:\n",
    "            return x\n",
    "\n",
    "def w_decoder(x):\n",
    "    match x:\n",
    "        case 0:\n",
    "            return 0.125\n",
    "        case 0.125:\n",
    "            return 0.125\n",
    "        case 0.25:\n",
    "            return 0.1875\n",
    "        case 0.5:\n",
    "            return 0.375\n",
    "        case 1:\n",
    "            return 0.75\n",
    "        case _:\n",
    "            return 1.0\n",
    "\n",
    "\n",
    "dfMP = pd.pivot_table(\n",
    "    df0[df0['Book'].isin(['MPMotM','VGtM','MToF'])], \n",
    "    values=['HP','AC','AB','DPR',\n",
    "            'adj HP','adj AC','adj AB','adj DPR',\n",
    "            'eHP','eDPR','eXP',\n",
    "            'eHP Ratio','eDPR Ratio','eXP Ratio','eXP Skew'], \n",
    "    index=['Monster', 'Legendary','CR'], columns=['Legacy']).reset_index()\n",
    "dfMP['Status'] = dfMP.apply(lambda row: 'Changed' if row['eXP'][True] != row['eXP'][False] else 'Unchanged', axis=1)\n",
    "dfG = dfMP[['Monster','Status']].groupby(['Status']).count()\n",
    "\n",
    "for g in ['Unchanged','Changed']:\n",
    "    dfC = dfMP[['CR','Status']]\n",
    "    dfC = dfC[dfC['Status'].isin([g])].groupby(['CR']).count()\n",
    "    x = [x_decoder(cr) for cr in dfC.index]\n",
    "    w = [w_decoder(cr) for cr in dfC.index]\n",
    "    cr = dfC.index.to_list()\n",
    "        \n",
    "    fig.add_trace(go.Bar(\n",
    "        x=x,\n",
    "        y=dfC['Status'],\n",
    "        width=w,\n",
    "        name=g,\n",
    "        customdata=dfC.index,\n",
    "        hovertemplate = '<b>' + g + '</b><br>'\n",
    "            + 'CR %{customdata}<br>'\n",
    "            + 'Monsters %{y:,.0f}'\n",
    "            + '<extra></extra>'\n",
    "    ))\n",
    "\n",
    "\n",
    "# show figure\n",
    "fig.update_layout(width=600, height=450)\n",
    "fig.show(config=tfb.FIG_CONFIG)\n",
    "\n",
    "# save figures\n",
    "if SAVEFIGS:\n",
    "    fig.update_layout(autosize=True, width=None, height=None)\n",
    "    tfb.save_fig_html(fig, format='large', name=f'./fig-change-distribution-large')\n",
    "    tfb.save_fig_html(fig, format='small', name=f'./fig-change-distribution-small')"
   ]
  },
  {
   "cell_type": "code",
   "execution_count": 230,
   "metadata": {},
   "outputs": [
    {
     "data": {
      "application/vnd.plotly.v1+json": {
       "config": {
        "autosizable": true,
        "displayModeBar": "hover",
        "displaylogo": false,
        "modeBarButtonsToRemove": [
         "select2d",
         "lasso2d",
         "zoom2d",
         "zoomIn2d",
         "zoomOut2d",
         "pan2d",
         "autoScale2d",
         "hoverClosestCartesian",
         "hoverCompareCartesian",
         "toggleSpikelines",
         "resetScale2d"
        ],
        "plotlyServerURL": "https://plot.ly",
        "responsive": true,
        "showAxisDragHandles": false,
        "toImageButtonOptions": {
         "filename": "tfb-plot",
         "format": "png",
         "height": 450,
         "scale": 2,
         "width": 600
        }
       },
       "data": [
        {
         "hoverinfo": "skip",
         "legendgroup": "MToF + VGtM",
         "line": {
          "width": 0
         },
         "showlegend": false,
         "type": "scatter",
         "x": [
          0.125,
          0.25,
          0.5,
          1,
          2,
          3,
          4,
          5,
          6,
          7,
          8,
          9,
          10,
          11,
          12,
          13,
          14,
          15,
          16,
          17,
          18,
          19,
          20,
          21,
          22,
          23,
          24,
          25,
          26
         ],
         "y": [
          0.8247435818461538,
          0.8720769115384615,
          1.0308461538461537,
          1.0289262644230768,
          0.804465811965812,
          0.9865384897252748,
          0.9228146853146852,
          0.9726442612991454,
          1.2011130679765885,
          1.2376487898143238,
          0.9683531065088756,
          1.0422346153846154,
          1.2450953389830508,
          1.3531766307692308,
          1.2254038461538461,
          1.1719894074064614,
          1.3540064646822745,
          1.2065527218934915,
          1.5403572026124104,
          0.9434154487179488,
          1.3545783475384616,
          0.8499017045454544,
          1.0498612089603692,
          1.1312723776223776,
          1.1471179871060038,
          1.143450267329077,
          1.113503523573201,
          0.8207692307692307,
          1.0114918391555554
         ]
        },
        {
         "fill": "tonexty",
         "fillcolor": "rgba(0, 0, 255, 0.3)",
         "hoverinfo": "skip",
         "legendgroup": "MToF + VGtM",
         "line": {
          "width": 0
         },
         "name": "MToF + VGtM - 80% confidence",
         "type": "scatter",
         "x": [
          0.125,
          0.25,
          0.5,
          1,
          2,
          3,
          4,
          5,
          6,
          7,
          8,
          9,
          10,
          11,
          12,
          13,
          14,
          15,
          16,
          17,
          18,
          19,
          20,
          21,
          22,
          23,
          24,
          25,
          26
         ],
         "y": [
          0.44653846153846155,
          0.5555769230769231,
          0.5288365384615384,
          0.5278846096153846,
          0.4332638888888889,
          0.5274725274725275,
          0.42274038461538455,
          0.47784188034188035,
          0.6138792642140468,
          0.6979905289122016,
          0.6762722052958579,
          0.72283001868,
          0.5217072033898305,
          0.7814712606837607,
          0.8308551282051284,
          0.8292148461538463,
          0.7776062015050168,
          0.36451650887573966,
          0.7760738332307693,
          0.8683424572649573,
          0.9341091346153847,
          0.7256922639860139,
          0.7037623753387077,
          0.9413512237762237,
          0.9498027499953094,
          0.8828278283076924,
          0.927449330024814,
          0.8207692307692307,
          0.7357692058051283
         ]
        },
        {
         "hovertemplate": "<b>MToF + VGtM</b><br>CR %{x:,.0f}<br>Mean %{y:,.2f}<br><extra></extra>",
         "legendgroup": "MToF + VGtM",
         "line": {
          "color": "rgba(0, 0, 255, 1.0)"
         },
         "mode": "lines",
         "name": "MToF + VGtM - mean",
         "type": "scatter",
         "x": [
          0.125,
          0.25,
          0.5,
          1,
          2,
          3,
          4,
          5,
          6,
          7,
          8,
          9,
          10,
          11,
          12,
          13,
          14,
          15,
          16,
          17,
          18,
          19,
          20,
          21,
          22,
          23,
          24,
          25,
          26
         ],
         "y": [
          0.6587179447692307,
          0.7025427288461539,
          0.7409915865384615,
          0.7391055665384615,
          0.5736172162851039,
          0.7430696785145212,
          0.7092945964171766,
          0.7371290699561404,
          0.8924331451818562,
          0.9153149998176835,
          0.814612675591716,
          0.8970063594213017,
          0.9662834352642329,
          1.0017004230502138,
          1.0125734834579774,
          0.9932927167180771,
          1.0362630291973245,
          0.7815272189349113,
          1.0856688073329306,
          0.905878952991453,
          1.1484863707692308,
          0.7877969842657342,
          0.8768117921495384,
          1.0233961247086247,
          1.0484603685506566,
          1.0284718456645385,
          1.0204764267990074,
          0.8207692307692307,
          0.8841945741410256
         ]
        },
        {
         "hoverinfo": "skip",
         "legendgroup": "MotM",
         "line": {
          "width": 0
         },
         "showlegend": false,
         "type": "scatter",
         "x": [
          0.125,
          0.25,
          0.5,
          1,
          2,
          3,
          4,
          5,
          6,
          7,
          8,
          9,
          10,
          11,
          12,
          13,
          14,
          15,
          16,
          17,
          18,
          19,
          20,
          21,
          22,
          23,
          24,
          25,
          26
         ],
         "y": [
          0.7784615266153846,
          0.9152307692307692,
          1.0014230769230767,
          0.9907051224759615,
          0.7946837606837608,
          0.9695707781043956,
          0.9668706293706293,
          0.933915212068376,
          1.1371968740468226,
          1.0712793103448277,
          1.050303402366864,
          1.0036384615384615,
          1.0489830508474576,
          1.0763247583179487,
          1.0680563186813188,
          1.0084876431936924,
          1.3568959030100336,
          1.537294926035503,
          1.5761282171538464,
          0.9806889953038462,
          1.3371076726153845,
          1.1370555944055942,
          0.9797302853132309,
          1.2173921328671329,
          1.1466493614540336,
          1.0833952442307693,
          1.1996321091811413,
          0.9704771692307693,
          1.1469688072305555
         ]
        },
        {
         "fill": "tonexty",
         "fillcolor": "rgba(255, 0, 0, 0.3)",
         "hoverinfo": "skip",
         "legendgroup": "MotM",
         "line": {
          "width": 0
         },
         "name": "MotM - 80% confidence",
         "type": "scatter",
         "x": [
          0.125,
          0.25,
          0.5,
          1,
          2,
          3,
          4,
          5,
          6,
          7,
          8,
          9,
          10,
          11,
          12,
          13,
          14,
          15,
          16,
          17,
          18,
          19,
          20,
          21,
          22,
          23,
          24,
          25,
          26
         ],
         "y": [
          0.44653846153846155,
          0.5566153846153846,
          0.45250961538461537,
          0.5906850961538461,
          0.45668376068376065,
          0.534529532967033,
          0.6281118881118881,
          0.5721474358974359,
          0.6373140468227425,
          0.720689028470557,
          0.6635236686390532,
          0.812076923076923,
          0.8007812907431552,
          0.8638795673076923,
          0.9191185853846155,
          0.9055757307692308,
          0.7227784423076923,
          0.6062298372781065,
          0.874349735483077,
          0.9136936490508547,
          0.8887038461538462,
          0.8458080419580418,
          0.860567638539077,
          0.9948164335664335,
          0.9497506804784238,
          0.9009728150769231,
          0.9149301736972704,
          0.8374034461538461,
          0.8221360865741454
         ]
        },
        {
         "hovertemplate": "<b>MotM</b><br>CR %{x:,.0f}<br>Mean %{y:,.2f}<br><extra></extra>",
         "legendgroup": "MotM",
         "line": {
          "color": "rgba(255, 0, 0, 1.0)"
         },
         "mode": "lines",
         "name": "MotM - mean",
         "type": "scatter",
         "x": [
          0.125,
          0.25,
          0.5,
          1,
          2,
          3,
          4,
          5,
          6,
          7,
          8,
          9,
          10,
          11,
          12,
          13,
          14,
          15,
          16,
          17,
          18,
          19,
          20,
          21,
          22,
          23,
          24,
          25,
          26
         ],
         "y": [
          0.6021794832307692,
          0.7267414478461538,
          0.7235877403846154,
          0.7765189264633413,
          0.5993161069673947,
          0.7549675339404346,
          0.7986368208894231,
          0.7709897828306344,
          0.8940512977111205,
          0.8927404345160036,
          0.8579773204018738,
          0.9092969674556214,
          0.9390910358912429,
          0.9645052467957027,
          0.9994222350630851,
          0.9553343219471154,
          1.0197339841806021,
          1.0420037721893491,
          1.190029890431282,
          0.9471913221773505,
          1.0800368507692308,
          0.991431818181818,
          0.920148961926154,
          1.1081225233100234,
          1.0482000209662288,
          1.0010387025,
          1.0572811414392058,
          0.9039403076923077,
          0.998213379036681
         ]
        }
       ],
       "layout": {
        "height": 500,
        "legend": {
         "bgcolor": "rgba(0,0,0,0)",
         "orientation": "v",
         "tracegroupgap": 0,
         "x": 0,
         "xanchor": "left",
         "y": 1,
         "yanchor": "top"
        },
        "template": {
         "layout": {
          "autosize": false,
          "font": {
           "family": "sans-serif",
           "size": 14
          },
          "hoverlabel": {
           "align": "left"
          },
          "hovermode": "closest",
          "margin": {
           "b": 55,
           "l": 60,
           "pad": 4,
           "r": 25,
           "t": 20
          },
          "template": {
           "data": {
            "bar": [
             {
              "error_x": {
               "color": "#2a3f5f"
              },
              "error_y": {
               "color": "#2a3f5f"
              },
              "marker": {
               "line": {
                "color": "white",
                "width": 0.5
               },
               "pattern": {
                "fillmode": "overlay",
                "size": 10,
                "solidity": 0.2
               }
              },
              "type": "bar"
             }
            ],
            "barpolar": [
             {
              "marker": {
               "line": {
                "color": "white",
                "width": 0.5
               },
               "pattern": {
                "fillmode": "overlay",
                "size": 10,
                "solidity": 0.2
               }
              },
              "type": "barpolar"
             }
            ],
            "carpet": [
             {
              "aaxis": {
               "endlinecolor": "#2a3f5f",
               "gridcolor": "#C8D4E3",
               "linecolor": "#C8D4E3",
               "minorgridcolor": "#C8D4E3",
               "startlinecolor": "#2a3f5f"
              },
              "baxis": {
               "endlinecolor": "#2a3f5f",
               "gridcolor": "#C8D4E3",
               "linecolor": "#C8D4E3",
               "minorgridcolor": "#C8D4E3",
               "startlinecolor": "#2a3f5f"
              },
              "type": "carpet"
             }
            ],
            "choropleth": [
             {
              "colorbar": {
               "outlinewidth": 0,
               "ticks": ""
              },
              "type": "choropleth"
             }
            ],
            "contour": [
             {
              "colorbar": {
               "outlinewidth": 0,
               "ticks": ""
              },
              "colorscale": [
               [
                0,
                "#0d0887"
               ],
               [
                0.1111111111111111,
                "#46039f"
               ],
               [
                0.2222222222222222,
                "#7201a8"
               ],
               [
                0.3333333333333333,
                "#9c179e"
               ],
               [
                0.4444444444444444,
                "#bd3786"
               ],
               [
                0.5555555555555556,
                "#d8576b"
               ],
               [
                0.6666666666666666,
                "#ed7953"
               ],
               [
                0.7777777777777778,
                "#fb9f3a"
               ],
               [
                0.8888888888888888,
                "#fdca26"
               ],
               [
                1,
                "#f0f921"
               ]
              ],
              "type": "contour"
             }
            ],
            "contourcarpet": [
             {
              "colorbar": {
               "outlinewidth": 0,
               "ticks": ""
              },
              "type": "contourcarpet"
             }
            ],
            "heatmap": [
             {
              "colorbar": {
               "outlinewidth": 0,
               "ticks": ""
              },
              "colorscale": [
               [
                0,
                "#0d0887"
               ],
               [
                0.1111111111111111,
                "#46039f"
               ],
               [
                0.2222222222222222,
                "#7201a8"
               ],
               [
                0.3333333333333333,
                "#9c179e"
               ],
               [
                0.4444444444444444,
                "#bd3786"
               ],
               [
                0.5555555555555556,
                "#d8576b"
               ],
               [
                0.6666666666666666,
                "#ed7953"
               ],
               [
                0.7777777777777778,
                "#fb9f3a"
               ],
               [
                0.8888888888888888,
                "#fdca26"
               ],
               [
                1,
                "#f0f921"
               ]
              ],
              "type": "heatmap"
             }
            ],
            "heatmapgl": [
             {
              "colorbar": {
               "outlinewidth": 0,
               "ticks": ""
              },
              "colorscale": [
               [
                0,
                "#0d0887"
               ],
               [
                0.1111111111111111,
                "#46039f"
               ],
               [
                0.2222222222222222,
                "#7201a8"
               ],
               [
                0.3333333333333333,
                "#9c179e"
               ],
               [
                0.4444444444444444,
                "#bd3786"
               ],
               [
                0.5555555555555556,
                "#d8576b"
               ],
               [
                0.6666666666666666,
                "#ed7953"
               ],
               [
                0.7777777777777778,
                "#fb9f3a"
               ],
               [
                0.8888888888888888,
                "#fdca26"
               ],
               [
                1,
                "#f0f921"
               ]
              ],
              "type": "heatmapgl"
             }
            ],
            "histogram": [
             {
              "marker": {
               "pattern": {
                "fillmode": "overlay",
                "size": 10,
                "solidity": 0.2
               }
              },
              "type": "histogram"
             }
            ],
            "histogram2d": [
             {
              "colorbar": {
               "outlinewidth": 0,
               "ticks": ""
              },
              "colorscale": [
               [
                0,
                "#0d0887"
               ],
               [
                0.1111111111111111,
                "#46039f"
               ],
               [
                0.2222222222222222,
                "#7201a8"
               ],
               [
                0.3333333333333333,
                "#9c179e"
               ],
               [
                0.4444444444444444,
                "#bd3786"
               ],
               [
                0.5555555555555556,
                "#d8576b"
               ],
               [
                0.6666666666666666,
                "#ed7953"
               ],
               [
                0.7777777777777778,
                "#fb9f3a"
               ],
               [
                0.8888888888888888,
                "#fdca26"
               ],
               [
                1,
                "#f0f921"
               ]
              ],
              "type": "histogram2d"
             }
            ],
            "histogram2dcontour": [
             {
              "colorbar": {
               "outlinewidth": 0,
               "ticks": ""
              },
              "colorscale": [
               [
                0,
                "#0d0887"
               ],
               [
                0.1111111111111111,
                "#46039f"
               ],
               [
                0.2222222222222222,
                "#7201a8"
               ],
               [
                0.3333333333333333,
                "#9c179e"
               ],
               [
                0.4444444444444444,
                "#bd3786"
               ],
               [
                0.5555555555555556,
                "#d8576b"
               ],
               [
                0.6666666666666666,
                "#ed7953"
               ],
               [
                0.7777777777777778,
                "#fb9f3a"
               ],
               [
                0.8888888888888888,
                "#fdca26"
               ],
               [
                1,
                "#f0f921"
               ]
              ],
              "type": "histogram2dcontour"
             }
            ],
            "mesh3d": [
             {
              "colorbar": {
               "outlinewidth": 0,
               "ticks": ""
              },
              "type": "mesh3d"
             }
            ],
            "parcoords": [
             {
              "line": {
               "colorbar": {
                "outlinewidth": 0,
                "ticks": ""
               }
              },
              "type": "parcoords"
             }
            ],
            "pie": [
             {
              "automargin": true,
              "type": "pie"
             }
            ],
            "scatter": [
             {
              "fillpattern": {
               "fillmode": "overlay",
               "size": 10,
               "solidity": 0.2
              },
              "type": "scatter"
             }
            ],
            "scatter3d": [
             {
              "line": {
               "colorbar": {
                "outlinewidth": 0,
                "ticks": ""
               }
              },
              "marker": {
               "colorbar": {
                "outlinewidth": 0,
                "ticks": ""
               }
              },
              "type": "scatter3d"
             }
            ],
            "scattercarpet": [
             {
              "marker": {
               "colorbar": {
                "outlinewidth": 0,
                "ticks": ""
               }
              },
              "type": "scattercarpet"
             }
            ],
            "scattergeo": [
             {
              "marker": {
               "colorbar": {
                "outlinewidth": 0,
                "ticks": ""
               }
              },
              "type": "scattergeo"
             }
            ],
            "scattergl": [
             {
              "marker": {
               "colorbar": {
                "outlinewidth": 0,
                "ticks": ""
               }
              },
              "type": "scattergl"
             }
            ],
            "scattermapbox": [
             {
              "marker": {
               "colorbar": {
                "outlinewidth": 0,
                "ticks": ""
               }
              },
              "type": "scattermapbox"
             }
            ],
            "scatterpolar": [
             {
              "marker": {
               "colorbar": {
                "outlinewidth": 0,
                "ticks": ""
               }
              },
              "type": "scatterpolar"
             }
            ],
            "scatterpolargl": [
             {
              "marker": {
               "colorbar": {
                "outlinewidth": 0,
                "ticks": ""
               }
              },
              "type": "scatterpolargl"
             }
            ],
            "scatterternary": [
             {
              "marker": {
               "colorbar": {
                "outlinewidth": 0,
                "ticks": ""
               }
              },
              "type": "scatterternary"
             }
            ],
            "surface": [
             {
              "colorbar": {
               "outlinewidth": 0,
               "ticks": ""
              },
              "colorscale": [
               [
                0,
                "#0d0887"
               ],
               [
                0.1111111111111111,
                "#46039f"
               ],
               [
                0.2222222222222222,
                "#7201a8"
               ],
               [
                0.3333333333333333,
                "#9c179e"
               ],
               [
                0.4444444444444444,
                "#bd3786"
               ],
               [
                0.5555555555555556,
                "#d8576b"
               ],
               [
                0.6666666666666666,
                "#ed7953"
               ],
               [
                0.7777777777777778,
                "#fb9f3a"
               ],
               [
                0.8888888888888888,
                "#fdca26"
               ],
               [
                1,
                "#f0f921"
               ]
              ],
              "type": "surface"
             }
            ],
            "table": [
             {
              "cells": {
               "fill": {
                "color": "#EBF0F8"
               },
               "line": {
                "color": "white"
               }
              },
              "header": {
               "fill": {
                "color": "#C8D4E3"
               },
               "line": {
                "color": "white"
               }
              },
              "type": "table"
             }
            ]
           },
           "layout": {
            "annotationdefaults": {
             "arrowcolor": "#2a3f5f",
             "arrowhead": 0,
             "arrowwidth": 1
            },
            "autotypenumbers": "strict",
            "coloraxis": {
             "colorbar": {
              "outlinewidth": 0,
              "ticks": ""
             }
            },
            "colorscale": {
             "diverging": [
              [
               0,
               "#8e0152"
              ],
              [
               0.1,
               "#c51b7d"
              ],
              [
               0.2,
               "#de77ae"
              ],
              [
               0.3,
               "#f1b6da"
              ],
              [
               0.4,
               "#fde0ef"
              ],
              [
               0.5,
               "#f7f7f7"
              ],
              [
               0.6,
               "#e6f5d0"
              ],
              [
               0.7,
               "#b8e186"
              ],
              [
               0.8,
               "#7fbc41"
              ],
              [
               0.9,
               "#4d9221"
              ],
              [
               1,
               "#276419"
              ]
             ],
             "sequential": [
              [
               0,
               "#0d0887"
              ],
              [
               0.1111111111111111,
               "#46039f"
              ],
              [
               0.2222222222222222,
               "#7201a8"
              ],
              [
               0.3333333333333333,
               "#9c179e"
              ],
              [
               0.4444444444444444,
               "#bd3786"
              ],
              [
               0.5555555555555556,
               "#d8576b"
              ],
              [
               0.6666666666666666,
               "#ed7953"
              ],
              [
               0.7777777777777778,
               "#fb9f3a"
              ],
              [
               0.8888888888888888,
               "#fdca26"
              ],
              [
               1,
               "#f0f921"
              ]
             ],
             "sequentialminus": [
              [
               0,
               "#0d0887"
              ],
              [
               0.1111111111111111,
               "#46039f"
              ],
              [
               0.2222222222222222,
               "#7201a8"
              ],
              [
               0.3333333333333333,
               "#9c179e"
              ],
              [
               0.4444444444444444,
               "#bd3786"
              ],
              [
               0.5555555555555556,
               "#d8576b"
              ],
              [
               0.6666666666666666,
               "#ed7953"
              ],
              [
               0.7777777777777778,
               "#fb9f3a"
              ],
              [
               0.8888888888888888,
               "#fdca26"
              ],
              [
               1,
               "#f0f921"
              ]
             ]
            },
            "colorway": [
             "#636efa",
             "#EF553B",
             "#00cc96",
             "#ab63fa",
             "#FFA15A",
             "#19d3f3",
             "#FF6692",
             "#B6E880",
             "#FF97FF",
             "#FECB52"
            ],
            "font": {
             "color": "#2a3f5f"
            },
            "geo": {
             "bgcolor": "white",
             "lakecolor": "white",
             "landcolor": "white",
             "showlakes": true,
             "showland": true,
             "subunitcolor": "#C8D4E3"
            },
            "hoverlabel": {
             "align": "left"
            },
            "hovermode": "closest",
            "mapbox": {
             "style": "light"
            },
            "paper_bgcolor": "white",
            "plot_bgcolor": "white",
            "polar": {
             "angularaxis": {
              "gridcolor": "#EBF0F8",
              "linecolor": "#EBF0F8",
              "ticks": ""
             },
             "bgcolor": "white",
             "radialaxis": {
              "gridcolor": "#EBF0F8",
              "linecolor": "#EBF0F8",
              "ticks": ""
             }
            },
            "scene": {
             "xaxis": {
              "backgroundcolor": "white",
              "gridcolor": "#DFE8F3",
              "gridwidth": 2,
              "linecolor": "#EBF0F8",
              "showbackground": true,
              "ticks": "",
              "zerolinecolor": "#EBF0F8"
             },
             "yaxis": {
              "backgroundcolor": "white",
              "gridcolor": "#DFE8F3",
              "gridwidth": 2,
              "linecolor": "#EBF0F8",
              "showbackground": true,
              "ticks": "",
              "zerolinecolor": "#EBF0F8"
             },
             "zaxis": {
              "backgroundcolor": "white",
              "gridcolor": "#DFE8F3",
              "gridwidth": 2,
              "linecolor": "#EBF0F8",
              "showbackground": true,
              "ticks": "",
              "zerolinecolor": "#EBF0F8"
             }
            },
            "shapedefaults": {
             "line": {
              "color": "#2a3f5f"
             }
            },
            "ternary": {
             "aaxis": {
              "gridcolor": "#DFE8F3",
              "linecolor": "#A2B1C6",
              "ticks": ""
             },
             "baxis": {
              "gridcolor": "#DFE8F3",
              "linecolor": "#A2B1C6",
              "ticks": ""
             },
             "bgcolor": "white",
             "caxis": {
              "gridcolor": "#DFE8F3",
              "linecolor": "#A2B1C6",
              "ticks": ""
             }
            },
            "title": {
             "x": 0.05
            },
            "xaxis": {
             "automargin": true,
             "gridcolor": "#EBF0F8",
             "linecolor": "#EBF0F8",
             "ticks": "",
             "title": {
              "standoff": 15
             },
             "zerolinecolor": "#EBF0F8",
             "zerolinewidth": 2
            },
            "yaxis": {
             "automargin": true,
             "gridcolor": "#EBF0F8",
             "linecolor": "#EBF0F8",
             "ticks": "",
             "title": {
              "standoff": 15
             },
             "zerolinecolor": "#EBF0F8",
             "zerolinewidth": 2
            }
           }
          },
          "xaxis": {
           "automargin": false,
           "linecolor": "#444",
           "linewidth": 2,
           "minor": {
            "tickmode": "linear",
            "ticks": "outside"
           },
           "mirror": true,
           "showline": true,
           "tickmode": "linear",
           "ticks": "outside",
           "zeroline": false
          },
          "yaxis": {
           "automargin": false,
           "linecolor": "#444",
           "linewidth": 2,
           "minor": {
            "tickmode": "linear",
            "ticks": "outside"
           },
           "mirror": true,
           "showline": true,
           "ticks": "outside",
           "zeroline": false
          }
         }
        },
        "width": 600,
        "xaxis": {
         "dtick": 5,
         "minor": {
          "dtick": 1,
          "tick0": 0
         },
         "range": [
          0,
          26
         ],
         "tick0": 0,
         "title": {
          "text": "challenge rating"
         }
        },
        "yaxis": {
         "dtick": 0.5,
         "minor": {
          "dtick": 0.1,
          "tick0": 0
         },
         "range": [
          0,
          2.5
         ],
         "tick0": 0,
         "title": {
          "text": "calculated XP ratio"
         }
        }
       }
      }
     },
     "metadata": {},
     "output_type": "display_data"
    }
   ],
   "source": [
    "# plots XP Ratio as a function of CR\n",
    "columns = ['eXP Ratio']\n",
    "\n",
    "# create figure\n",
    "fig = go.Figure(\n",
    "    layout=go.Layout(\n",
    "        template=tfb.FIG_TEMPLATE,\n",
    "        xaxis=dict(\n",
    "            title_text='challenge rating',\n",
    "            range=[0, 26],\n",
    "            tick0=0, dtick=5,\n",
    "            minor=dict(tick0=0, dtick=1),\n",
    "        ),\n",
    "        yaxis=dict(\n",
    "            title_text='calculated XP ratio',\n",
    "            range=[0, 2.5],\n",
    "            tick0=0, dtick=0.5,\n",
    "            minor=dict(tick0=0, dtick=0.1),\n",
    "        ),\n",
    "        legend=dict(\n",
    "            xanchor='left', yanchor='top',\n",
    "            x=0.00, y=1.00,\n",
    "            orientation='v',\n",
    "            tracegroupgap=0,\n",
    "            bgcolor='rgba(0,0,0,0)',\n",
    "        )\n",
    "    )\n",
    ")\n",
    "\n",
    "# plot data\n",
    "df1 = df0[df0['Book'].isin(['MPMotM','VGtM','MToF']) & df0['Legacy'].eq(True)]\n",
    "plot_confidence_interval(fig, df1, 0.8, 'CR', 'eXP Ratio', 'MToF + VGtM', 'rgba(0, 0, 255, 1.0)', 'rgba(0, 0, 255, 0.3)')\n",
    "\n",
    "df1 = df0[df0['Book'].isin(['MPMotM','VGtM','MToF']) & df0['Legacy'].eq(False)]\n",
    "plot_confidence_interval(fig, df1, 0.8, 'CR', 'eXP Ratio', 'MotM', 'rgba(255, 0, 0, 1.0)', 'rgba(255, 0, 0, 0.3)')\n",
    "\n",
    "\n",
    "# show figure\n",
    "fig.update_layout(width=600, height=500)\n",
    "fig.show(config=tfb.FIG_CONFIG)\n",
    "\n",
    "# save figures\n",
    "if SAVEFIGS:\n",
    "    fig.update_layout(autosize=True, width=None, height=None)\n",
    "    tfb.save_fig_html(fig, format='large', name='fig-xp-ratio-vs-cr-large')\n",
    "    tfb.save_fig_html(fig, format='small', name='fig-xp-ratio-vs-cr-small')"
   ]
  },
  {
   "cell_type": "code",
   "execution_count": 220,
   "metadata": {},
   "outputs": [
    {
     "data": {
      "application/vnd.plotly.v1+json": {
       "config": {
        "autosizable": true,
        "displayModeBar": "hover",
        "displaylogo": false,
        "modeBarButtonsToRemove": [
         "select2d",
         "lasso2d",
         "zoom2d",
         "zoomIn2d",
         "zoomOut2d",
         "pan2d",
         "autoScale2d",
         "hoverClosestCartesian",
         "hoverCompareCartesian",
         "toggleSpikelines",
         "resetScale2d"
        ],
        "plotlyServerURL": "https://plot.ly",
        "responsive": true,
        "showAxisDragHandles": false,
        "toImageButtonOptions": {
         "filename": "tfb-plot",
         "format": "png",
         "height": 450,
         "scale": 2,
         "width": 600
        }
       },
       "data": [
        {
         "customdata": [
          [
           "Allip",
           5
          ],
          [
           "Apprentice Wizard",
           0.25
          ],
          [
           "Babau",
           4
          ],
          [
           "Banderhobb",
           5
          ],
          [
           "Bard",
           2
          ],
          [
           "Barghest",
           4
          ],
          [
           "Berbalang",
           2
          ],
          [
           "Clockwork Bronze Scout",
           1
          ],
          [
           "Clockwork Iron Cobra",
           4
          ],
          [
           "Deathlock",
           4
          ],
          [
           "Deathlock Wight",
           3
          ],
          [
           "Derro Savant",
           3
          ],
          [
           "Duergar Hammerer",
           2
          ],
          [
           "Duergar Kavalrachni",
           2
          ],
          [
           "Duergar Mind Master",
           2
          ],
          [
           "Duergar Screamer",
           3
          ],
          [
           "Duergar Stone Guard",
           2
          ],
          [
           "Dybbuk",
           4
          ],
          [
           "Firenewt Warlock of Imix",
           1
          ],
          [
           "Firenewt Warrior",
           0.5
          ],
          [
           "Flail Snail",
           3
          ],
          [
           "Giff",
           3
          ],
          [
           "Hobgoblin Devastator",
           4
          ],
          [
           "Kobold Scale Sorcerer",
           1
          ],
          [
           "Kraken Priest",
           5
          ],
          [
           "Leucrotta",
           3
          ],
          [
           "Martial Arts Adept",
           3
          ],
          [
           "Master Thief",
           5
          ],
          [
           "Maw Demon",
           1
          ],
          [
           "Neogi",
           3
          ],
          [
           "Neogi Hatchling",
           0.125
          ],
          [
           "Neogi Master",
           4
          ],
          [
           "Nupperibo",
           0.5
          ],
          [
           "Oblex, Adult",
           5
          ],
          [
           "Ogre Battering Ram",
           4
          ],
          [
           "Ogre Howdah",
           2
          ],
          [
           "Shadow Mastiff Alpha",
           2
          ],
          [
           "Shadow Mastiff Alpha",
           3
          ],
          [
           "Skulk",
           0.5
          ],
          [
           "Slithering Tracker",
           3
          ],
          [
           "Spawn of Kyuss",
           5
          ],
          [
           "Star Spawn Mangler",
           5
          ],
          [
           "Stench Kow",
           0.25
          ],
          [
           "Stone Cursed",
           1
          ],
          [
           "Swarm of Cranium Rats",
           5
          ],
          [
           "Swarm of Rot Grubs",
           0.5
          ],
          [
           "Swashbuckler",
           3
          ],
          [
           "Tanarukk",
           5
          ],
          [
           "Tlincalli",
           5
          ],
          [
           "Tortle Druid",
           2
          ],
          [
           "Trapper",
           3
          ],
          [
           "Vargouille",
           1
          ],
          [
           "Vegepygmy",
           0.25
          ],
          [
           "Vegepygmy Chief",
           2
          ],
          [
           "Vegepygmy, Thorny",
           1
          ],
          [
           "Warlock of the Archfey",
           4
          ],
          [
           "Wizard, Enchanter",
           5
          ],
          [
           "Wizard, Illusionist",
           3
          ],
          [
           "Wizard, Transmuter",
           5
          ],
          [
           "Xvart Warlock of Raxivort",
           1
          ],
          [
           "Yuan-ti Broodguard",
           2
          ],
          [
           "Yuan-ti Mind Whisperer",
           4
          ],
          [
           "Yuan-ti Nightmare Speaker",
           4
          ],
          [
           "Yuan-ti Pit Master",
           5
          ]
         ],
         "hovertemplate": "<b>%{customdata[0]}</b><br>CR %{customdata[1]}<br>XP ratio %{x:,.2f}<br>XP delta %{y:,.2f}<extra></extra>",
         "mode": "markers",
         "name": "CR 0 - 5",
         "showlegend": true,
         "type": "scatter",
         "x": [
          0.7324893162393162,
          0.6576922938461539,
          1.0877622377622378,
          0.7403846153846153,
          0.9646153846153847,
          0.8590909090909091,
          0.46150641025641026,
          0.5307692192307694,
          0.6986013986013986,
          0.5060140011188812,
          0.5563186813186813,
          0.7846154070329671,
          0.6158119846153847,
          0.59,
          0.9066666666666666,
          0.6564743857692308,
          0.4033333333333333,
          0.33636363636363636,
          1.1235576923076922,
          0.6473076923076923,
          0.6335336336538462,
          0.7417582417582417,
          0.7424242254545455,
          0.8805288461538461,
          0.5370138888888889,
          0.8344780219780219,
          1.0628777472527473,
          1.0088194444444445,
          1.1780048076923075,
          0.5167582417582417,
          0.8480769230769231,
          0.819375,
          0.7784615384615385,
          0.4567307692307692,
          0.8519318181818182,
          0.47549145299145296,
          0.8108974358974359,
          null,
          1.215,
          0.9764881357142857,
          0.6341880341880342,
          1.229861111111111,
          0.8509615096153844,
          0.7721154057692309,
          0.12115384615384615,
          0.5451923076923076,
          1.2184615384615385,
          0.83125,
          0.4831196581196581,
          0.7234615384615385,
          0.793956043956044,
          0.525,
          0.5711538461538461,
          0.48820512820512824,
          0.4846153846153846,
          0.36086538461538464,
          0.9636004655128206,
          0.6557692307692308,
          0.9064102923076924,
          0.6748718092307692,
          0.56,
          0.761771544055944,
          0.6333333175,
          0.8812535374358975
         ],
         "y": [
          1.2432432432432432,
          1.4210526614958454,
          1.0588235294117645,
          0.8939393939393939,
          0.7160494074074074,
          1.1025641025641026,
          1.6198347107438016,
          2,
          0.9099099099099098,
          1.2537313058587667,
          1.6,
          0.899999974285715,
          1.2137404209544909,
          1.3389830508474576,
          1.099264705882353,
          1.071428527696795,
          2.090909090909091,
          1.9432432432432436,
          0.8048780487804879,
          1.0294117647058825,
          1.5378487183378078,
          1.1851851555555557,
          0.9600000219428576,
          0.9729729729729729,
          1.847466900098479,
          0.8233333333333335,
          1.0196439533456108,
          0.9041095890410958,
          0.8888889090909091,
          1.6687931951089847,
          0.6666666666666666,
          1.0407418668288233,
          1.434782608695652,
          1.8,
          1.0596546310832025,
          1.1176470588235297,
          null,
          null,
          0.7407407407407407,
          0.8269429460334529,
          0.7660966981132076,
          0.8395204795204795,
          0.9333333333333333,
          1.058032349593136,
          6.678571428571429,
          0.6666666666666666,
          0.734375,
          0.935897435897436,
          1.1447368421052633,
          0.6666666666666666,
          0.64,
          1.4769230769230768,
          1.2499999999999998,
          1.3893556974789916,
          1.2648809523809523,
          2.3357071918223,
          0.9540937368085901,
          1.1354838709677417,
          0.6485059856320118,
          1.0269756620400314,
          1.09375,
          1.1583575850780834,
          1.3750000843750023,
          0.8001422691361353
         ]
        },
        {
         "customdata": [
          [
           "Abishai, Blue",
           17
          ],
          [
           "Abishai, Green",
           15
          ],
          [
           "Abishai, Red",
           19
          ],
          [
           "Abishai, White",
           6
          ],
          [
           "Alhoon",
           10
          ],
          [
           "Alkilith",
           11
          ],
          [
           "Amnizu",
           18
          ],
          [
           "Annis Hag",
           6
          ],
          [
           "Archdruid",
           12
          ],
          [
           "Armanite",
           7
          ],
          [
           "Bael",
           19
          ],
          [
           "Balhannoth",
           11
          ],
          [
           "Baphomet",
           23
          ],
          [
           "Bheur Hag",
           7
          ],
          [
           "Blackguard",
           8
          ],
          [
           "Boneclaw",
           12
          ],
          [
           "Cadaver Collector",
           14
          ],
          [
           "Canoloth",
           8
          ],
          [
           "Champion",
           9
          ],
          [
           "Cloud Giant Smiling One",
           11
          ],
          [
           "Corpse Flower",
           8
          ],
          [
           "Death Kiss",
           10
          ],
          [
           "Deathlock Mastermind",
           8
          ],
          [
           "Demogorgon",
           26
          ],
          [
           "Devourer",
           13
          ],
          [
           "Drow Arachnomancer",
           13
          ],
          [
           "Drow Favored Consort",
           18
          ],
          [
           "Drow House Captain",
           9
          ],
          [
           "Drow Inquisitor",
           14
          ],
          [
           "Drow Shadowblade",
           11
          ],
          [
           "Duergar Despot",
           12
          ],
          [
           "Duergar Warlord",
           6
          ],
          [
           "Earth Elemental Myrmidon",
           7
          ],
          [
           "Eladrin, Autumn",
           10
          ],
          [
           "Eladrin, Spring",
           10
          ],
          [
           "Eladrin, Summer",
           10
          ],
          [
           "Eladrin, Winter",
           10
          ],
          [
           "Elder Brain",
           14
          ],
          [
           "Fire Elemental Myrmidon",
           7
          ],
          [
           "Fire Giant Dreadnought",
           14
          ],
          [
           "Flind",
           9
          ],
          [
           "Fraz-Urb’luu",
           23
          ],
          [
           "Fraz-Urb’luu",
           24
          ],
          [
           "Froghemoth",
           10
          ],
          [
           "Gauth",
           6
          ],
          [
           "Geryon",
           22
          ],
          [
           "Githyanki Gish",
           10
          ],
          [
           "Githyanki Supreme Commander",
           14
          ],
          [
           "Githzerai Anarch",
           16
          ],
          [
           "Githzerai Enlightened",
           10
          ],
          [
           "Gray Render",
           12
          ],
          [
           "Hellfire Engine",
           16
          ],
          [
           "Howler",
           8
          ],
          [
           "Hutijin",
           21
          ],
          [
           "Hydroloth",
           9
          ],
          [
           "Juiblex",
           23
          ],
          [
           "Juiblex",
           24
          ],
          [
           "Korred",
           7
          ],
          [
           "Leviathan",
           20
          ],
          [
           "Moloch",
           21
          ],
          [
           "Molydeus",
           21
          ],
          [
           "Morkoth",
           11
          ],
          [
           "Nabassu",
           15
          ],
          [
           "Nagpa",
           17
          ],
          [
           "Neothelid",
           13
          ],
          [
           "Nightwalker",
           20
          ],
          [
           "Oinoloth",
           12
          ],
          [
           "Orcus",
           26
          ],
          [
           "Orthon",
           10
          ],
          [
           "Phoenix",
           16
          ],
          [
           "Shadar-kai Gloom Weaver",
           9
          ],
          [
           "Shadar-kai Soul Monger",
           11
          ],
          [
           "Shoosuva",
           8
          ],
          [
           "Sibriex",
           18
          ],
          [
           "Skull Lord",
           15
          ],
          [
           "Star Spawn Larva Mage",
           16
          ],
          [
           "Star Spawn Seer",
           13
          ],
          [
           "Steel Predator",
           16
          ],
          [
           "Stone Giant Dreamwalker",
           10
          ],
          [
           "Storm Giant Quintessent",
           16
          ],
          [
           "Titivilus",
           16
          ],
          [
           "Troll, Rot",
           9
          ],
          [
           "Troll, Spirit",
           11
          ],
          [
           "Ulitharid",
           9
          ],
          [
           "War Priest",
           9
          ],
          [
           "Warlock of the Fiend",
           7
          ],
          [
           "Warlock of the Great Old One",
           6
          ],
          [
           "Warlord",
           12
          ],
          [
           "Wizard, Abjurer",
           9
          ],
          [
           "Wizard, Conjurer",
           6
          ],
          [
           "Wizard, Diviner",
           8
          ],
          [
           "Wizard, Evoker",
           9
          ],
          [
           "Wizard, Necromancer",
           9
          ],
          [
           "Yeenoghu",
           24
          ],
          [
           "Yeenoghu",
           25
          ],
          [
           "Yuan-ti Anathema",
           12
          ],
          [
           "Zariel",
           26
          ],
          [
           "Zuggtmoy",
           23
          ]
         ],
         "hovertemplate": "<b>%{customdata[0]}</b><br>CR %{customdata[1]}<br>XP ratio %{x:,.2f}<br>XP delta %{y:,.2f}<extra></extra>",
         "mode": "markers",
         "name": "CR 6 - 30",
         "showlegend": true,
         "type": "scatter",
         "x": [
          0.9527995726495727,
          0.26527307692307694,
          0.7101660839160839,
          0.6208695652173913,
          1.7431551864406778,
          0.7667740384615386,
          1.1691995192307694,
          1.388221096153846,
          0.8027884615384615,
          0.7241379087533157,
          0.8654278846153846,
          1.3384615384615386,
          1.1033099760150002,
          0.9124137931034483,
          0.7512943535502958,
          0.8378717948717951,
          1.2992169732441472,
          0.8165680473372781,
          0.8463461538461539,
          0.814002403846154,
          0.8737278106508877,
          1.2190677966101695,
          0.5532544378698224,
          0.6854577991452993,
          0.9816400274584616,
          0.70125,
          0.8753365384615385,
          0.9296875,
          0.6561739130434784,
          0.8189102564102565,
          1.1745619921474362,
          1.1209239130434783,
          0.695386513704244,
          0.5166991525423729,
          0.4863050847457627,
          0.8510338983050848,
          1.0976934765567146,
          1.4087959561204015,
          0.7913342175066314,
          0.8990384899665552,
          1.0532451923076922,
          0.9212233846153846,
          1.1367602977667493,
          0.9961668839634941,
          0.9789757525083613,
          1.1717823917448407,
          1.1245692401694916,
          1.0456989966555186,
          1.547508568621795,
          1.2479872881355931,
          0.8995673076923079,
          1.021292196923077,
          0.7289941056213017,
          0.9361888111888111,
          0.7695,
          1.0903846153846153,
          null,
          1.4317241379310346,
          1.093123563163077,
          1.175181818181818,
          0.9533968531468532,
          1.412037,
          0.7614902366863907,
          0.8589583333333334,
          1.5847259097923077,
          0.660500021136,
          0.9709821428571429,
          0.9370148324444445,
          1.0218383580508474,
          1.5355896252728205,
          1.4884538461538461,
          1.2472115384615385,
          0.9455384615384614,
          1.4009230546153846,
          1.3178183431952666,
          0.7969230553846154,
          0.9030188461538464,
          0.7448,
          0.5667796610169491,
          1.0526923076923078,
          0.9008758974358975,
          0.7940307692307692,
          0.7851455662393163,
          0.743749983,
          0.7176000276,
          1.236206855172414,
          0.7913043478260869,
          0.9520604395604396,
          0.9205307387999999,
          0.6418060454849499,
          0.8259369100591716,
          0.9709615384615384,
          0.46730769230769237,
          0.9041925558312657,
          null,
          1.2658928571428572,
          1.030111090833333,
          1.1702104615384614
         ],
         "y": [
          0.9501675449451481,
          2.0148468196778357,
          1.1397363465160075,
          1.3461538461538463,
          0.6694465080445011,
          1.1455335477681845,
          0.754325259515571,
          0.8,
          1.2845849802371543,
          1.4362344418182025,
          1.3559322033898304,
          0.8166666666666667,
          0.9975195311612384,
          0.9735449735449735,
          1.170376608213443,
          1.1074303026593628,
          0.896551724137931,
          1.05,
          1.14,
          1.1960132890365447,
          0.8478260869565216,
          0.8334202294056309,
          0.873529411764706,
          1.1102661596958177,
          1.0591662931420887,
          1.3375668449197862,
          1.0461031471412092,
          0.9650420168067226,
          0.8816260270341902,
          1.2108610567514675,
          0.7526673528472604,
          1.0699300699300698,
          1.0769230188273284,
          2.0301621275862916,
          2.157047260560435,
          1.0619309590451376,
          0.8441351932069895,
          0.7456022028817796,
          1.0535714285714286,
          0.9644268785951976,
          0.767244094488189,
          1.1325301204819278,
          1.0866141732283463,
          0.875,
          0.8305084745762712,
          0.9995556383399136,
          0.8274354671447601,
          1.481283422459893,
          1.233641339113764,
          0.7243867012987013,
          1.1363636363636365,
          1.071583738783486,
          1.2578124919433595,
          1.0470588235294118,
          1.3157894736842106,
          null,
          null,
          0.7528540462427746,
          0.9098931261548677,
          1.0431654676258992,
          1.2560553633217992,
          0.6329508362741203,
          1.1729772514731893,
          1.1514684417196839,
          0.5772594940679485,
          1.2803516739300451,
          1.0072615384615384,
          1.2455315099617776,
          0.9146729974607584,
          0.8235294079899339,
          0.6751972878412809,
          0.8596270031711768,
          1.1816628701594534,
          1.0296507785305693,
          1.2887329919945685,
          1.1250000304054062,
          1.0791366906474817,
          1.1292516734693878,
          1.3989694516010307,
          1.2863841188649372,
          1.077133479212254,
          1.0735294117647058,
          1.203996482496679,
          1.113277336370709,
          0.92122777521905,
          0.698744793263424,
          0.8269230769230769,
          1.0498485067089887,
          0.9855184207999639,
          1.4676979616753283,
          1.025791011950807,
          1.0161220043572987,
          2.007818930041152,
          null,
          null,
          0.7444444444444445,
          1.0353427404082678,
          0.8571428571428572
         ]
        },
        {
         "hoverinfo": "skip",
         "line": {
          "color": "black",
          "dash": "dash"
         },
         "mode": "lines",
         "name": "changed defense",
         "showlegend": false,
         "type": "scatter",
         "x": [
          0.2,
          0.24615384615384617,
          0.2923076923076923,
          0.3384615384615385,
          0.38461538461538464,
          0.4307692307692308,
          0.47692307692307695,
          0.5230769230769231,
          0.5692307692307692,
          0.6153846153846154,
          0.6615384615384616,
          0.7076923076923076,
          0.7538461538461538,
          0.8,
          0.8461538461538463,
          0.8923076923076922,
          0.9384615384615385,
          0.9846153846153847,
          1.0307692307692309,
          1.0769230769230769,
          1.123076923076923,
          1.1692307692307693,
          1.2153846153846153,
          1.2615384615384615,
          1.3076923076923077,
          1.353846153846154,
          1.4000000000000001,
          1.4461538461538461,
          1.4923076923076923,
          1.5384615384615385,
          1.5846153846153845,
          1.6307692307692307,
          1.676923076923077,
          1.7230769230769232,
          1.7692307692307694,
          1.8153846153846154,
          1.8615384615384616,
          1.9076923076923078,
          1.9538461538461538,
          2
         ],
         "y": [
          5,
          4.0625,
          3.4210526315789473,
          2.9545454545454546,
          2.5999999999999996,
          2.321428571428571,
          2.096774193548387,
          1.9117647058823528,
          1.7567567567567568,
          1.625,
          1.511627906976744,
          1.4130434782608696,
          1.3265306122448979,
          1.25,
          1.1818181818181817,
          1.120689655172414,
          1.0655737704918034,
          1.015625,
          0.9701492537313432,
          0.9285714285714286,
          0.8904109589041096,
          0.8552631578947368,
          0.8227848101265823,
          0.7926829268292683,
          0.7647058823529411,
          0.7386363636363636,
          0.7142857142857142,
          0.6914893617021277,
          0.6701030927835051,
          0.6499999999999999,
          0.6310679611650486,
          0.6132075471698113,
          0.5963302752293578,
          0.5803571428571428,
          0.5652173913043478,
          0.5508474576271186,
          0.5371900826446281,
          0.5241935483870968,
          0.5118110236220472,
          0.5
         ]
        }
       ],
       "layout": {
        "height": 450,
        "legend": {
         "orientation": "v",
         "tracegroupgap": 0,
         "x": 1,
         "xanchor": "right",
         "y": 1,
         "yanchor": "top"
        },
        "margin": {
         "b": 55,
         "l": 60,
         "pad": 4,
         "r": 25,
         "t": 20
        },
        "template": {
         "layout": {
          "autosize": false,
          "font": {
           "family": "sans-serif",
           "size": 14
          },
          "hoverlabel": {
           "align": "left"
          },
          "hovermode": "closest",
          "margin": {
           "b": 55,
           "l": 60,
           "pad": 4,
           "r": 25,
           "t": 20
          },
          "template": {
           "data": {
            "bar": [
             {
              "error_x": {
               "color": "#2a3f5f"
              },
              "error_y": {
               "color": "#2a3f5f"
              },
              "marker": {
               "line": {
                "color": "white",
                "width": 0.5
               },
               "pattern": {
                "fillmode": "overlay",
                "size": 10,
                "solidity": 0.2
               }
              },
              "type": "bar"
             }
            ],
            "barpolar": [
             {
              "marker": {
               "line": {
                "color": "white",
                "width": 0.5
               },
               "pattern": {
                "fillmode": "overlay",
                "size": 10,
                "solidity": 0.2
               }
              },
              "type": "barpolar"
             }
            ],
            "carpet": [
             {
              "aaxis": {
               "endlinecolor": "#2a3f5f",
               "gridcolor": "#C8D4E3",
               "linecolor": "#C8D4E3",
               "minorgridcolor": "#C8D4E3",
               "startlinecolor": "#2a3f5f"
              },
              "baxis": {
               "endlinecolor": "#2a3f5f",
               "gridcolor": "#C8D4E3",
               "linecolor": "#C8D4E3",
               "minorgridcolor": "#C8D4E3",
               "startlinecolor": "#2a3f5f"
              },
              "type": "carpet"
             }
            ],
            "choropleth": [
             {
              "colorbar": {
               "outlinewidth": 0,
               "ticks": ""
              },
              "type": "choropleth"
             }
            ],
            "contour": [
             {
              "colorbar": {
               "outlinewidth": 0,
               "ticks": ""
              },
              "colorscale": [
               [
                0,
                "#0d0887"
               ],
               [
                0.1111111111111111,
                "#46039f"
               ],
               [
                0.2222222222222222,
                "#7201a8"
               ],
               [
                0.3333333333333333,
                "#9c179e"
               ],
               [
                0.4444444444444444,
                "#bd3786"
               ],
               [
                0.5555555555555556,
                "#d8576b"
               ],
               [
                0.6666666666666666,
                "#ed7953"
               ],
               [
                0.7777777777777778,
                "#fb9f3a"
               ],
               [
                0.8888888888888888,
                "#fdca26"
               ],
               [
                1,
                "#f0f921"
               ]
              ],
              "type": "contour"
             }
            ],
            "contourcarpet": [
             {
              "colorbar": {
               "outlinewidth": 0,
               "ticks": ""
              },
              "type": "contourcarpet"
             }
            ],
            "heatmap": [
             {
              "colorbar": {
               "outlinewidth": 0,
               "ticks": ""
              },
              "colorscale": [
               [
                0,
                "#0d0887"
               ],
               [
                0.1111111111111111,
                "#46039f"
               ],
               [
                0.2222222222222222,
                "#7201a8"
               ],
               [
                0.3333333333333333,
                "#9c179e"
               ],
               [
                0.4444444444444444,
                "#bd3786"
               ],
               [
                0.5555555555555556,
                "#d8576b"
               ],
               [
                0.6666666666666666,
                "#ed7953"
               ],
               [
                0.7777777777777778,
                "#fb9f3a"
               ],
               [
                0.8888888888888888,
                "#fdca26"
               ],
               [
                1,
                "#f0f921"
               ]
              ],
              "type": "heatmap"
             }
            ],
            "heatmapgl": [
             {
              "colorbar": {
               "outlinewidth": 0,
               "ticks": ""
              },
              "colorscale": [
               [
                0,
                "#0d0887"
               ],
               [
                0.1111111111111111,
                "#46039f"
               ],
               [
                0.2222222222222222,
                "#7201a8"
               ],
               [
                0.3333333333333333,
                "#9c179e"
               ],
               [
                0.4444444444444444,
                "#bd3786"
               ],
               [
                0.5555555555555556,
                "#d8576b"
               ],
               [
                0.6666666666666666,
                "#ed7953"
               ],
               [
                0.7777777777777778,
                "#fb9f3a"
               ],
               [
                0.8888888888888888,
                "#fdca26"
               ],
               [
                1,
                "#f0f921"
               ]
              ],
              "type": "heatmapgl"
             }
            ],
            "histogram": [
             {
              "marker": {
               "pattern": {
                "fillmode": "overlay",
                "size": 10,
                "solidity": 0.2
               }
              },
              "type": "histogram"
             }
            ],
            "histogram2d": [
             {
              "colorbar": {
               "outlinewidth": 0,
               "ticks": ""
              },
              "colorscale": [
               [
                0,
                "#0d0887"
               ],
               [
                0.1111111111111111,
                "#46039f"
               ],
               [
                0.2222222222222222,
                "#7201a8"
               ],
               [
                0.3333333333333333,
                "#9c179e"
               ],
               [
                0.4444444444444444,
                "#bd3786"
               ],
               [
                0.5555555555555556,
                "#d8576b"
               ],
               [
                0.6666666666666666,
                "#ed7953"
               ],
               [
                0.7777777777777778,
                "#fb9f3a"
               ],
               [
                0.8888888888888888,
                "#fdca26"
               ],
               [
                1,
                "#f0f921"
               ]
              ],
              "type": "histogram2d"
             }
            ],
            "histogram2dcontour": [
             {
              "colorbar": {
               "outlinewidth": 0,
               "ticks": ""
              },
              "colorscale": [
               [
                0,
                "#0d0887"
               ],
               [
                0.1111111111111111,
                "#46039f"
               ],
               [
                0.2222222222222222,
                "#7201a8"
               ],
               [
                0.3333333333333333,
                "#9c179e"
               ],
               [
                0.4444444444444444,
                "#bd3786"
               ],
               [
                0.5555555555555556,
                "#d8576b"
               ],
               [
                0.6666666666666666,
                "#ed7953"
               ],
               [
                0.7777777777777778,
                "#fb9f3a"
               ],
               [
                0.8888888888888888,
                "#fdca26"
               ],
               [
                1,
                "#f0f921"
               ]
              ],
              "type": "histogram2dcontour"
             }
            ],
            "mesh3d": [
             {
              "colorbar": {
               "outlinewidth": 0,
               "ticks": ""
              },
              "type": "mesh3d"
             }
            ],
            "parcoords": [
             {
              "line": {
               "colorbar": {
                "outlinewidth": 0,
                "ticks": ""
               }
              },
              "type": "parcoords"
             }
            ],
            "pie": [
             {
              "automargin": true,
              "type": "pie"
             }
            ],
            "scatter": [
             {
              "fillpattern": {
               "fillmode": "overlay",
               "size": 10,
               "solidity": 0.2
              },
              "type": "scatter"
             }
            ],
            "scatter3d": [
             {
              "line": {
               "colorbar": {
                "outlinewidth": 0,
                "ticks": ""
               }
              },
              "marker": {
               "colorbar": {
                "outlinewidth": 0,
                "ticks": ""
               }
              },
              "type": "scatter3d"
             }
            ],
            "scattercarpet": [
             {
              "marker": {
               "colorbar": {
                "outlinewidth": 0,
                "ticks": ""
               }
              },
              "type": "scattercarpet"
             }
            ],
            "scattergeo": [
             {
              "marker": {
               "colorbar": {
                "outlinewidth": 0,
                "ticks": ""
               }
              },
              "type": "scattergeo"
             }
            ],
            "scattergl": [
             {
              "marker": {
               "colorbar": {
                "outlinewidth": 0,
                "ticks": ""
               }
              },
              "type": "scattergl"
             }
            ],
            "scattermapbox": [
             {
              "marker": {
               "colorbar": {
                "outlinewidth": 0,
                "ticks": ""
               }
              },
              "type": "scattermapbox"
             }
            ],
            "scatterpolar": [
             {
              "marker": {
               "colorbar": {
                "outlinewidth": 0,
                "ticks": ""
               }
              },
              "type": "scatterpolar"
             }
            ],
            "scatterpolargl": [
             {
              "marker": {
               "colorbar": {
                "outlinewidth": 0,
                "ticks": ""
               }
              },
              "type": "scatterpolargl"
             }
            ],
            "scatterternary": [
             {
              "marker": {
               "colorbar": {
                "outlinewidth": 0,
                "ticks": ""
               }
              },
              "type": "scatterternary"
             }
            ],
            "surface": [
             {
              "colorbar": {
               "outlinewidth": 0,
               "ticks": ""
              },
              "colorscale": [
               [
                0,
                "#0d0887"
               ],
               [
                0.1111111111111111,
                "#46039f"
               ],
               [
                0.2222222222222222,
                "#7201a8"
               ],
               [
                0.3333333333333333,
                "#9c179e"
               ],
               [
                0.4444444444444444,
                "#bd3786"
               ],
               [
                0.5555555555555556,
                "#d8576b"
               ],
               [
                0.6666666666666666,
                "#ed7953"
               ],
               [
                0.7777777777777778,
                "#fb9f3a"
               ],
               [
                0.8888888888888888,
                "#fdca26"
               ],
               [
                1,
                "#f0f921"
               ]
              ],
              "type": "surface"
             }
            ],
            "table": [
             {
              "cells": {
               "fill": {
                "color": "#EBF0F8"
               },
               "line": {
                "color": "white"
               }
              },
              "header": {
               "fill": {
                "color": "#C8D4E3"
               },
               "line": {
                "color": "white"
               }
              },
              "type": "table"
             }
            ]
           },
           "layout": {
            "annotationdefaults": {
             "arrowcolor": "#2a3f5f",
             "arrowhead": 0,
             "arrowwidth": 1
            },
            "autotypenumbers": "strict",
            "coloraxis": {
             "colorbar": {
              "outlinewidth": 0,
              "ticks": ""
             }
            },
            "colorscale": {
             "diverging": [
              [
               0,
               "#8e0152"
              ],
              [
               0.1,
               "#c51b7d"
              ],
              [
               0.2,
               "#de77ae"
              ],
              [
               0.3,
               "#f1b6da"
              ],
              [
               0.4,
               "#fde0ef"
              ],
              [
               0.5,
               "#f7f7f7"
              ],
              [
               0.6,
               "#e6f5d0"
              ],
              [
               0.7,
               "#b8e186"
              ],
              [
               0.8,
               "#7fbc41"
              ],
              [
               0.9,
               "#4d9221"
              ],
              [
               1,
               "#276419"
              ]
             ],
             "sequential": [
              [
               0,
               "#0d0887"
              ],
              [
               0.1111111111111111,
               "#46039f"
              ],
              [
               0.2222222222222222,
               "#7201a8"
              ],
              [
               0.3333333333333333,
               "#9c179e"
              ],
              [
               0.4444444444444444,
               "#bd3786"
              ],
              [
               0.5555555555555556,
               "#d8576b"
              ],
              [
               0.6666666666666666,
               "#ed7953"
              ],
              [
               0.7777777777777778,
               "#fb9f3a"
              ],
              [
               0.8888888888888888,
               "#fdca26"
              ],
              [
               1,
               "#f0f921"
              ]
             ],
             "sequentialminus": [
              [
               0,
               "#0d0887"
              ],
              [
               0.1111111111111111,
               "#46039f"
              ],
              [
               0.2222222222222222,
               "#7201a8"
              ],
              [
               0.3333333333333333,
               "#9c179e"
              ],
              [
               0.4444444444444444,
               "#bd3786"
              ],
              [
               0.5555555555555556,
               "#d8576b"
              ],
              [
               0.6666666666666666,
               "#ed7953"
              ],
              [
               0.7777777777777778,
               "#fb9f3a"
              ],
              [
               0.8888888888888888,
               "#fdca26"
              ],
              [
               1,
               "#f0f921"
              ]
             ]
            },
            "colorway": [
             "#636efa",
             "#EF553B",
             "#00cc96",
             "#ab63fa",
             "#FFA15A",
             "#19d3f3",
             "#FF6692",
             "#B6E880",
             "#FF97FF",
             "#FECB52"
            ],
            "font": {
             "color": "#2a3f5f"
            },
            "geo": {
             "bgcolor": "white",
             "lakecolor": "white",
             "landcolor": "white",
             "showlakes": true,
             "showland": true,
             "subunitcolor": "#C8D4E3"
            },
            "hoverlabel": {
             "align": "left"
            },
            "hovermode": "closest",
            "mapbox": {
             "style": "light"
            },
            "paper_bgcolor": "white",
            "plot_bgcolor": "white",
            "polar": {
             "angularaxis": {
              "gridcolor": "#EBF0F8",
              "linecolor": "#EBF0F8",
              "ticks": ""
             },
             "bgcolor": "white",
             "radialaxis": {
              "gridcolor": "#EBF0F8",
              "linecolor": "#EBF0F8",
              "ticks": ""
             }
            },
            "scene": {
             "xaxis": {
              "backgroundcolor": "white",
              "gridcolor": "#DFE8F3",
              "gridwidth": 2,
              "linecolor": "#EBF0F8",
              "showbackground": true,
              "ticks": "",
              "zerolinecolor": "#EBF0F8"
             },
             "yaxis": {
              "backgroundcolor": "white",
              "gridcolor": "#DFE8F3",
              "gridwidth": 2,
              "linecolor": "#EBF0F8",
              "showbackground": true,
              "ticks": "",
              "zerolinecolor": "#EBF0F8"
             },
             "zaxis": {
              "backgroundcolor": "white",
              "gridcolor": "#DFE8F3",
              "gridwidth": 2,
              "linecolor": "#EBF0F8",
              "showbackground": true,
              "ticks": "",
              "zerolinecolor": "#EBF0F8"
             }
            },
            "shapedefaults": {
             "line": {
              "color": "#2a3f5f"
             }
            },
            "ternary": {
             "aaxis": {
              "gridcolor": "#DFE8F3",
              "linecolor": "#A2B1C6",
              "ticks": ""
             },
             "baxis": {
              "gridcolor": "#DFE8F3",
              "linecolor": "#A2B1C6",
              "ticks": ""
             },
             "bgcolor": "white",
             "caxis": {
              "gridcolor": "#DFE8F3",
              "linecolor": "#A2B1C6",
              "ticks": ""
             }
            },
            "title": {
             "x": 0.05
            },
            "xaxis": {
             "automargin": true,
             "gridcolor": "#EBF0F8",
             "linecolor": "#EBF0F8",
             "ticks": "",
             "title": {
              "standoff": 15
             },
             "zerolinecolor": "#EBF0F8",
             "zerolinewidth": 2
            },
            "yaxis": {
             "automargin": true,
             "gridcolor": "#EBF0F8",
             "linecolor": "#EBF0F8",
             "ticks": "",
             "title": {
              "standoff": 15
             },
             "zerolinecolor": "#EBF0F8",
             "zerolinewidth": 2
            }
           }
          },
          "xaxis": {
           "automargin": false,
           "linecolor": "#444",
           "linewidth": 2,
           "minor": {
            "tickmode": "linear",
            "ticks": "outside"
           },
           "mirror": true,
           "showline": true,
           "tickmode": "linear",
           "ticks": "outside",
           "zeroline": false
          },
          "yaxis": {
           "automargin": false,
           "linecolor": "#444",
           "linewidth": 2,
           "minor": {
            "tickmode": "linear",
            "ticks": "outside"
           },
           "mirror": true,
           "showline": true,
           "ticks": "outside",
           "zeroline": false
          }
         }
        },
        "width": 600,
        "xaxis": {
         "autorange": true,
         "dtick": 0.5,
         "minor": {
          "dtick": 0.1,
          "tick0": 0
         },
         "tick0": 0,
         "title": {
          "text": "$XP / XP_{\\mathrm{CR}}$"
         }
        },
        "yaxis": {
         "range": [
          0,
          2.5
         ],
         "title": {
          "text": "$XP^{\\,\\prime} / XP$"
         }
        }
       }
      }
     },
     "metadata": {},
     "output_type": "display_data"
    }
   ],
   "source": [
    "# plots the change in XP vs incoming XP ratio\n",
    "# create figure\n",
    "fig = go.Figure(\n",
    "    layout=go.Layout(\n",
    "        template=tfb.FIG_TEMPLATE,\n",
    "        margin=dict(l=60, r=25, b=55, t=20, pad=4),\n",
    "        xaxis=dict(\n",
    "            title_text='$XP / XP_{\\mathrm{CR}}$',\n",
    "            autorange=True,\n",
    "            #range=[-0.5, 0.5],\n",
    "            tick0=0, dtick=0.50,\n",
    "            minor=dict(tick0=0, dtick=0.10),\n",
    "        ),\n",
    "        yaxis=dict(\n",
    "            title_text='$XP^{\\,\\prime} / XP$',\n",
    "            #autorange=True,\n",
    "            range=[0, 2.5],\n",
    "            #tick0=0, dtick=0.5,\n",
    "            #minor=dict(tick0=0, dtick=0.25),\n",
    "        ),\n",
    "        legend=dict(\n",
    "            xanchor='right', yanchor='top',\n",
    "            x=1.00, y=1.00,\n",
    "            orientation='v',\n",
    "            tracegroupgap=0,\n",
    "        )\n",
    "    )\n",
    ")\n",
    "\n",
    "\n",
    "df1 = df0[df0['Book'].isin(['MPMotM','VGtM','MToF'])]\n",
    "dfMP = pd.pivot_table(df1, \n",
    "    values=['HP','AC','AB','DPR',\n",
    "            'adj HP','adj AC','adj AB','adj DPR',\n",
    "            'eHP','eDPR','eXP',\n",
    "            'eHP Ratio','eDPR Ratio','eXP Ratio','eXP Skew'], \n",
    "    index=['Monster', 'Legendary', 'CR'], columns=['Legacy']).reset_index()\n",
    "dfMP['Changed'] = dfMP['eXP'][True] != dfMP['eXP'][False]\n",
    "dfMP['eXP ratio delta'] = dfMP['eXP'][False] / dfMP['eXP'][True]\n",
    "dfMP = dfMP[dfMP['Changed']]\n",
    "\n",
    "cr_ranges = [(0,5),(6,30)]\n",
    "for cr_min, cr_max in cr_ranges:\n",
    "    dft = dfMP[dfMP['CR'].between(cr_min, cr_max)]\n",
    "    fig.add_trace(go.Scatter(\n",
    "        x=dft['eXP Ratio'][True], \n",
    "        y=dft['eXP ratio delta'], \n",
    "        customdata=np.stack((dft['Monster'], dft['CR']), axis=-1),\n",
    "        mode='markers', \n",
    "        name=f'CR {cr_min} - {cr_max}',\n",
    "        showlegend=True,\n",
    "        hovertemplate=\n",
    "            '<b>%{customdata[0]}</b><br>'+\n",
    "            'CR %{customdata[1]}<br>'+\n",
    "            'XP ratio %{x:,.2f}<br>'+\n",
    "            'XP delta %{y:,.2f}' + \n",
    "            '<extra></extra>'\n",
    "    ))\n",
    "\n",
    "fig.add_trace(go.Scatter(\n",
    "    x=np.linspace(0.2,2,40), \n",
    "    y=1/np.linspace(0.2,2,40), \n",
    "    mode='lines', \n",
    "    name='changed defense',\n",
    "    showlegend=False,\n",
    "    hoverinfo='skip',\n",
    "    line=dict(color='black',dash='dash'),\n",
    "))\n",
    "\n",
    "# show figure\n",
    "fig.update_layout(width=600, height=450)\n",
    "fig.show(config=tfb.FIG_CONFIG)\n",
    "\n",
    "# save figures\n",
    "if SAVEFIGS:\n",
    "    fig.update_layout(autosize=True, width=None, height=None)\n",
    "    tfb.save_fig_html(fig, format='large', name='fig-xp-delta-vs-xp-ratio-large')\n",
    "    tfb.save_fig_html(fig, format='small', name='fig-xp-delta-vs-xp-ratio-small')"
   ]
  },
  {
   "cell_type": "code",
   "execution_count": 221,
   "metadata": {},
   "outputs": [
    {
     "data": {
      "application/vnd.plotly.v1+json": {
       "config": {
        "autosizable": true,
        "displayModeBar": "hover",
        "displaylogo": false,
        "modeBarButtonsToRemove": [
         "select2d",
         "lasso2d",
         "zoom2d",
         "zoomIn2d",
         "zoomOut2d",
         "pan2d",
         "autoScale2d",
         "hoverClosestCartesian",
         "hoverCompareCartesian",
         "toggleSpikelines",
         "resetScale2d"
        ],
        "plotlyServerURL": "https://plot.ly",
        "responsive": true,
        "showAxisDragHandles": false,
        "toImageButtonOptions": {
         "filename": "tfb-plot",
         "format": "png",
         "height": 450,
         "scale": 2,
         "width": 600
        }
       },
       "data": [
        {
         "hovertemplate": "<b>%{x}</b><br>Damage %{y:,.1%}<br><extra></extra>",
         "name": "VGtM + MToF",
         "type": "bar",
         "x": [
          "acid",
          "cold",
          "fire",
          "force",
          "lightning",
          "necrotic",
          "poison",
          "psychic",
          "radiant",
          "thunder",
          "bludgeoning",
          "piercing",
          "slashing"
         ],
         "y": [
          0.039860588093902735,
          0.006249499238843041,
          0.03909943113532569,
          0.03573431616056406,
          0.02307507411265123,
          0.0836471436583607,
          0.05207916032369201,
          0.08869481612050316,
          0,
          0.011217049915872126,
          0.18484095825654995,
          0.25606922522233794,
          0.17943273776139732
         ]
        },
        {
         "hovertemplate": "<b>%{x}</b><br>Damage %{y:,.1%}<br><extra></extra>",
         "name": "MotM",
         "type": "bar",
         "x": [
          "acid",
          "cold",
          "fire",
          "force",
          "lightning",
          "necrotic",
          "poison",
          "psychic",
          "radiant",
          "thunder",
          "bludgeoning",
          "piercing",
          "slashing"
         ],
         "y": [
          0.04059111779912799,
          0.02550449511903384,
          0.04911833931396381,
          0.1447698421885249,
          0.032719836400818,
          0.11417216498823166,
          0.04456534321101979,
          0.10047459196666281,
          0.014353513138094687,
          0.02446270787513987,
          0.12547748582011806,
          0.18528379056217925,
          0.0985067716170853
         ]
        }
       ],
       "layout": {
        "height": 450,
        "legend": {
         "orientation": "v",
         "tracegroupgap": 0,
         "x": 0,
         "xanchor": "left",
         "y": 1,
         "yanchor": "top"
        },
        "margin": {
         "b": 70,
         "l": 60,
         "pad": 4,
         "r": 25,
         "t": 20
        },
        "template": {
         "layout": {
          "autosize": false,
          "font": {
           "family": "sans-serif",
           "size": 14
          },
          "hoverlabel": {
           "align": "left"
          },
          "hovermode": "closest",
          "margin": {
           "b": 55,
           "l": 60,
           "pad": 4,
           "r": 25,
           "t": 20
          },
          "template": {
           "data": {
            "bar": [
             {
              "error_x": {
               "color": "#2a3f5f"
              },
              "error_y": {
               "color": "#2a3f5f"
              },
              "marker": {
               "line": {
                "color": "white",
                "width": 0.5
               },
               "pattern": {
                "fillmode": "overlay",
                "size": 10,
                "solidity": 0.2
               }
              },
              "type": "bar"
             }
            ],
            "barpolar": [
             {
              "marker": {
               "line": {
                "color": "white",
                "width": 0.5
               },
               "pattern": {
                "fillmode": "overlay",
                "size": 10,
                "solidity": 0.2
               }
              },
              "type": "barpolar"
             }
            ],
            "carpet": [
             {
              "aaxis": {
               "endlinecolor": "#2a3f5f",
               "gridcolor": "#C8D4E3",
               "linecolor": "#C8D4E3",
               "minorgridcolor": "#C8D4E3",
               "startlinecolor": "#2a3f5f"
              },
              "baxis": {
               "endlinecolor": "#2a3f5f",
               "gridcolor": "#C8D4E3",
               "linecolor": "#C8D4E3",
               "minorgridcolor": "#C8D4E3",
               "startlinecolor": "#2a3f5f"
              },
              "type": "carpet"
             }
            ],
            "choropleth": [
             {
              "colorbar": {
               "outlinewidth": 0,
               "ticks": ""
              },
              "type": "choropleth"
             }
            ],
            "contour": [
             {
              "colorbar": {
               "outlinewidth": 0,
               "ticks": ""
              },
              "colorscale": [
               [
                0,
                "#0d0887"
               ],
               [
                0.1111111111111111,
                "#46039f"
               ],
               [
                0.2222222222222222,
                "#7201a8"
               ],
               [
                0.3333333333333333,
                "#9c179e"
               ],
               [
                0.4444444444444444,
                "#bd3786"
               ],
               [
                0.5555555555555556,
                "#d8576b"
               ],
               [
                0.6666666666666666,
                "#ed7953"
               ],
               [
                0.7777777777777778,
                "#fb9f3a"
               ],
               [
                0.8888888888888888,
                "#fdca26"
               ],
               [
                1,
                "#f0f921"
               ]
              ],
              "type": "contour"
             }
            ],
            "contourcarpet": [
             {
              "colorbar": {
               "outlinewidth": 0,
               "ticks": ""
              },
              "type": "contourcarpet"
             }
            ],
            "heatmap": [
             {
              "colorbar": {
               "outlinewidth": 0,
               "ticks": ""
              },
              "colorscale": [
               [
                0,
                "#0d0887"
               ],
               [
                0.1111111111111111,
                "#46039f"
               ],
               [
                0.2222222222222222,
                "#7201a8"
               ],
               [
                0.3333333333333333,
                "#9c179e"
               ],
               [
                0.4444444444444444,
                "#bd3786"
               ],
               [
                0.5555555555555556,
                "#d8576b"
               ],
               [
                0.6666666666666666,
                "#ed7953"
               ],
               [
                0.7777777777777778,
                "#fb9f3a"
               ],
               [
                0.8888888888888888,
                "#fdca26"
               ],
               [
                1,
                "#f0f921"
               ]
              ],
              "type": "heatmap"
             }
            ],
            "heatmapgl": [
             {
              "colorbar": {
               "outlinewidth": 0,
               "ticks": ""
              },
              "colorscale": [
               [
                0,
                "#0d0887"
               ],
               [
                0.1111111111111111,
                "#46039f"
               ],
               [
                0.2222222222222222,
                "#7201a8"
               ],
               [
                0.3333333333333333,
                "#9c179e"
               ],
               [
                0.4444444444444444,
                "#bd3786"
               ],
               [
                0.5555555555555556,
                "#d8576b"
               ],
               [
                0.6666666666666666,
                "#ed7953"
               ],
               [
                0.7777777777777778,
                "#fb9f3a"
               ],
               [
                0.8888888888888888,
                "#fdca26"
               ],
               [
                1,
                "#f0f921"
               ]
              ],
              "type": "heatmapgl"
             }
            ],
            "histogram": [
             {
              "marker": {
               "pattern": {
                "fillmode": "overlay",
                "size": 10,
                "solidity": 0.2
               }
              },
              "type": "histogram"
             }
            ],
            "histogram2d": [
             {
              "colorbar": {
               "outlinewidth": 0,
               "ticks": ""
              },
              "colorscale": [
               [
                0,
                "#0d0887"
               ],
               [
                0.1111111111111111,
                "#46039f"
               ],
               [
                0.2222222222222222,
                "#7201a8"
               ],
               [
                0.3333333333333333,
                "#9c179e"
               ],
               [
                0.4444444444444444,
                "#bd3786"
               ],
               [
                0.5555555555555556,
                "#d8576b"
               ],
               [
                0.6666666666666666,
                "#ed7953"
               ],
               [
                0.7777777777777778,
                "#fb9f3a"
               ],
               [
                0.8888888888888888,
                "#fdca26"
               ],
               [
                1,
                "#f0f921"
               ]
              ],
              "type": "histogram2d"
             }
            ],
            "histogram2dcontour": [
             {
              "colorbar": {
               "outlinewidth": 0,
               "ticks": ""
              },
              "colorscale": [
               [
                0,
                "#0d0887"
               ],
               [
                0.1111111111111111,
                "#46039f"
               ],
               [
                0.2222222222222222,
                "#7201a8"
               ],
               [
                0.3333333333333333,
                "#9c179e"
               ],
               [
                0.4444444444444444,
                "#bd3786"
               ],
               [
                0.5555555555555556,
                "#d8576b"
               ],
               [
                0.6666666666666666,
                "#ed7953"
               ],
               [
                0.7777777777777778,
                "#fb9f3a"
               ],
               [
                0.8888888888888888,
                "#fdca26"
               ],
               [
                1,
                "#f0f921"
               ]
              ],
              "type": "histogram2dcontour"
             }
            ],
            "mesh3d": [
             {
              "colorbar": {
               "outlinewidth": 0,
               "ticks": ""
              },
              "type": "mesh3d"
             }
            ],
            "parcoords": [
             {
              "line": {
               "colorbar": {
                "outlinewidth": 0,
                "ticks": ""
               }
              },
              "type": "parcoords"
             }
            ],
            "pie": [
             {
              "automargin": true,
              "type": "pie"
             }
            ],
            "scatter": [
             {
              "fillpattern": {
               "fillmode": "overlay",
               "size": 10,
               "solidity": 0.2
              },
              "type": "scatter"
             }
            ],
            "scatter3d": [
             {
              "line": {
               "colorbar": {
                "outlinewidth": 0,
                "ticks": ""
               }
              },
              "marker": {
               "colorbar": {
                "outlinewidth": 0,
                "ticks": ""
               }
              },
              "type": "scatter3d"
             }
            ],
            "scattercarpet": [
             {
              "marker": {
               "colorbar": {
                "outlinewidth": 0,
                "ticks": ""
               }
              },
              "type": "scattercarpet"
             }
            ],
            "scattergeo": [
             {
              "marker": {
               "colorbar": {
                "outlinewidth": 0,
                "ticks": ""
               }
              },
              "type": "scattergeo"
             }
            ],
            "scattergl": [
             {
              "marker": {
               "colorbar": {
                "outlinewidth": 0,
                "ticks": ""
               }
              },
              "type": "scattergl"
             }
            ],
            "scattermapbox": [
             {
              "marker": {
               "colorbar": {
                "outlinewidth": 0,
                "ticks": ""
               }
              },
              "type": "scattermapbox"
             }
            ],
            "scatterpolar": [
             {
              "marker": {
               "colorbar": {
                "outlinewidth": 0,
                "ticks": ""
               }
              },
              "type": "scatterpolar"
             }
            ],
            "scatterpolargl": [
             {
              "marker": {
               "colorbar": {
                "outlinewidth": 0,
                "ticks": ""
               }
              },
              "type": "scatterpolargl"
             }
            ],
            "scatterternary": [
             {
              "marker": {
               "colorbar": {
                "outlinewidth": 0,
                "ticks": ""
               }
              },
              "type": "scatterternary"
             }
            ],
            "surface": [
             {
              "colorbar": {
               "outlinewidth": 0,
               "ticks": ""
              },
              "colorscale": [
               [
                0,
                "#0d0887"
               ],
               [
                0.1111111111111111,
                "#46039f"
               ],
               [
                0.2222222222222222,
                "#7201a8"
               ],
               [
                0.3333333333333333,
                "#9c179e"
               ],
               [
                0.4444444444444444,
                "#bd3786"
               ],
               [
                0.5555555555555556,
                "#d8576b"
               ],
               [
                0.6666666666666666,
                "#ed7953"
               ],
               [
                0.7777777777777778,
                "#fb9f3a"
               ],
               [
                0.8888888888888888,
                "#fdca26"
               ],
               [
                1,
                "#f0f921"
               ]
              ],
              "type": "surface"
             }
            ],
            "table": [
             {
              "cells": {
               "fill": {
                "color": "#EBF0F8"
               },
               "line": {
                "color": "white"
               }
              },
              "header": {
               "fill": {
                "color": "#C8D4E3"
               },
               "line": {
                "color": "white"
               }
              },
              "type": "table"
             }
            ]
           },
           "layout": {
            "annotationdefaults": {
             "arrowcolor": "#2a3f5f",
             "arrowhead": 0,
             "arrowwidth": 1
            },
            "autotypenumbers": "strict",
            "coloraxis": {
             "colorbar": {
              "outlinewidth": 0,
              "ticks": ""
             }
            },
            "colorscale": {
             "diverging": [
              [
               0,
               "#8e0152"
              ],
              [
               0.1,
               "#c51b7d"
              ],
              [
               0.2,
               "#de77ae"
              ],
              [
               0.3,
               "#f1b6da"
              ],
              [
               0.4,
               "#fde0ef"
              ],
              [
               0.5,
               "#f7f7f7"
              ],
              [
               0.6,
               "#e6f5d0"
              ],
              [
               0.7,
               "#b8e186"
              ],
              [
               0.8,
               "#7fbc41"
              ],
              [
               0.9,
               "#4d9221"
              ],
              [
               1,
               "#276419"
              ]
             ],
             "sequential": [
              [
               0,
               "#0d0887"
              ],
              [
               0.1111111111111111,
               "#46039f"
              ],
              [
               0.2222222222222222,
               "#7201a8"
              ],
              [
               0.3333333333333333,
               "#9c179e"
              ],
              [
               0.4444444444444444,
               "#bd3786"
              ],
              [
               0.5555555555555556,
               "#d8576b"
              ],
              [
               0.6666666666666666,
               "#ed7953"
              ],
              [
               0.7777777777777778,
               "#fb9f3a"
              ],
              [
               0.8888888888888888,
               "#fdca26"
              ],
              [
               1,
               "#f0f921"
              ]
             ],
             "sequentialminus": [
              [
               0,
               "#0d0887"
              ],
              [
               0.1111111111111111,
               "#46039f"
              ],
              [
               0.2222222222222222,
               "#7201a8"
              ],
              [
               0.3333333333333333,
               "#9c179e"
              ],
              [
               0.4444444444444444,
               "#bd3786"
              ],
              [
               0.5555555555555556,
               "#d8576b"
              ],
              [
               0.6666666666666666,
               "#ed7953"
              ],
              [
               0.7777777777777778,
               "#fb9f3a"
              ],
              [
               0.8888888888888888,
               "#fdca26"
              ],
              [
               1,
               "#f0f921"
              ]
             ]
            },
            "colorway": [
             "#636efa",
             "#EF553B",
             "#00cc96",
             "#ab63fa",
             "#FFA15A",
             "#19d3f3",
             "#FF6692",
             "#B6E880",
             "#FF97FF",
             "#FECB52"
            ],
            "font": {
             "color": "#2a3f5f"
            },
            "geo": {
             "bgcolor": "white",
             "lakecolor": "white",
             "landcolor": "white",
             "showlakes": true,
             "showland": true,
             "subunitcolor": "#C8D4E3"
            },
            "hoverlabel": {
             "align": "left"
            },
            "hovermode": "closest",
            "mapbox": {
             "style": "light"
            },
            "paper_bgcolor": "white",
            "plot_bgcolor": "white",
            "polar": {
             "angularaxis": {
              "gridcolor": "#EBF0F8",
              "linecolor": "#EBF0F8",
              "ticks": ""
             },
             "bgcolor": "white",
             "radialaxis": {
              "gridcolor": "#EBF0F8",
              "linecolor": "#EBF0F8",
              "ticks": ""
             }
            },
            "scene": {
             "xaxis": {
              "backgroundcolor": "white",
              "gridcolor": "#DFE8F3",
              "gridwidth": 2,
              "linecolor": "#EBF0F8",
              "showbackground": true,
              "ticks": "",
              "zerolinecolor": "#EBF0F8"
             },
             "yaxis": {
              "backgroundcolor": "white",
              "gridcolor": "#DFE8F3",
              "gridwidth": 2,
              "linecolor": "#EBF0F8",
              "showbackground": true,
              "ticks": "",
              "zerolinecolor": "#EBF0F8"
             },
             "zaxis": {
              "backgroundcolor": "white",
              "gridcolor": "#DFE8F3",
              "gridwidth": 2,
              "linecolor": "#EBF0F8",
              "showbackground": true,
              "ticks": "",
              "zerolinecolor": "#EBF0F8"
             }
            },
            "shapedefaults": {
             "line": {
              "color": "#2a3f5f"
             }
            },
            "ternary": {
             "aaxis": {
              "gridcolor": "#DFE8F3",
              "linecolor": "#A2B1C6",
              "ticks": ""
             },
             "baxis": {
              "gridcolor": "#DFE8F3",
              "linecolor": "#A2B1C6",
              "ticks": ""
             },
             "bgcolor": "white",
             "caxis": {
              "gridcolor": "#DFE8F3",
              "linecolor": "#A2B1C6",
              "ticks": ""
             }
            },
            "title": {
             "x": 0.05
            },
            "xaxis": {
             "automargin": true,
             "gridcolor": "#EBF0F8",
             "linecolor": "#EBF0F8",
             "ticks": "",
             "title": {
              "standoff": 15
             },
             "zerolinecolor": "#EBF0F8",
             "zerolinewidth": 2
            },
            "yaxis": {
             "automargin": true,
             "gridcolor": "#EBF0F8",
             "linecolor": "#EBF0F8",
             "ticks": "",
             "title": {
              "standoff": 15
             },
             "zerolinecolor": "#EBF0F8",
             "zerolinewidth": 2
            }
           }
          },
          "xaxis": {
           "automargin": false,
           "linecolor": "#444",
           "linewidth": 2,
           "minor": {
            "tickmode": "linear",
            "ticks": "outside"
           },
           "mirror": true,
           "showline": true,
           "tickmode": "linear",
           "ticks": "outside",
           "zeroline": false
          },
          "yaxis": {
           "automargin": false,
           "linecolor": "#444",
           "linewidth": 2,
           "minor": {
            "tickmode": "linear",
            "ticks": "outside"
           },
           "mirror": true,
           "showline": true,
           "ticks": "outside",
           "zeroline": false
          }
         }
        },
        "width": 600,
        "yaxis": {
         "automargin": true,
         "tickformat": ",.0%",
         "title": {
          "text": "damage (%)"
         }
        }
       }
      }
     },
     "metadata": {},
     "output_type": "display_data"
    }
   ],
   "source": [
    "# plot damage breakdown by type for original and republished monsters\n",
    "import plotly.graph_objects as go\n",
    "import numpy as np\n",
    "\n",
    "damage_type_names = [\n",
    "    'acid', 'cold',  'fire', 'force', 'lightning','necrotic', 'poison', \n",
    "    'psychic', 'radiant', 'thunder', 'bludgeoning', 'piercing', 'slashing',\n",
    "]\n",
    "cr_min = 1\n",
    "cr_max = 30\n",
    "# create figure\n",
    "fig = go.Figure(\n",
    "    layout=go.Layout(\n",
    "        template=tfb.FIG_TEMPLATE,\n",
    "        margin=dict(l=60, r=25, b=70, t=20, pad=4),\n",
    "        #xaxis=dict(title_text='damage type'),\n",
    "        yaxis=dict(\n",
    "            title_text='damage (%)',\n",
    "            tickformat=',.0%',\n",
    "            automargin=True,\n",
    "        ),\n",
    "        legend=dict(\n",
    "            xanchor='left', yanchor='top',\n",
    "            x=0.00, y=1.00,\n",
    "            orientation='v',\n",
    "            tracegroupgap=0,\n",
    "        )\n",
    "    )\n",
    ")\n",
    "\n",
    "df = pd.read_csv('./monster-parsed-damage.csv')\n",
    "dfG = df[df['version'].isin(['old']) & df['CR'].between(cr_min,cr_max)][damage_type_names].sum()\n",
    "dfG['total'] = dfG['acid'] + dfG['cold'] + dfG['fire'] + dfG['force'] + dfG['lightning'] + dfG['necrotic'] + dfG['poison'] + dfG['psychic'] + dfG['radiant'] + dfG['thunder'] + dfG['bludgeoning'] + dfG['piercing'] + dfG['slashing']\n",
    "fig.add_trace(go.Bar(\n",
    "    x=damage_type_names,\n",
    "    y=dfG[damage_type_names].to_numpy()/dfG['total'],\n",
    "    name='VGtM + MToF',\n",
    "    hovertemplate='<b>%{x}</b><br>' + 'Damage %{y:,.1%}<br>' + '<extra></extra>',\n",
    "))\n",
    "\n",
    "dfG = df[df['version'].isin(['new']) & df['CR'].between(cr_min,cr_max)][damage_type_names].sum()\n",
    "dfG['total'] = dfG['acid'] + dfG['cold'] + dfG['fire'] + dfG['force'] + dfG['lightning'] + dfG['necrotic'] + dfG['poison'] + dfG['psychic'] + dfG['radiant'] + dfG['thunder'] + dfG['bludgeoning'] + dfG['piercing'] + dfG['slashing']\n",
    "fig.add_trace(go.Bar(\n",
    "    x=damage_type_names,\n",
    "    y=dfG[damage_type_names].to_numpy()/dfG['total'],\n",
    "    name='MotM',\n",
    "    hovertemplate='<b>%{x}</b><br>' + 'Damage %{y:,.1%}<br>' + '<extra></extra>',\n",
    "))\n",
    "\n",
    "# show figure\n",
    "fig.update_layout(width=600, height=450)\n",
    "fig.show(config=tfb.FIG_CONFIG)\n",
    "\n",
    "# save figures\n",
    "if SAVEFIGS:\n",
    "    fig.update_layout(autosize=True, width=None, height=None)\n",
    "    tfb.save_fig_html(fig, format='large', name='fig-damage-by-type-large')\n",
    "    tfb.save_fig_html(fig, format='small', name='fig-damage-by-type-small')"
   ]
  },
  {
   "cell_type": "code",
   "execution_count": 222,
   "metadata": {},
   "outputs": [
    {
     "name": "stdout",
     "output_type": "stream",
     "text": [
      "Blinded - ['Molydeus']\n",
      "Charmed - ['Yuan-ti Broodguard']\n",
      "Deafened - ['Molydeus']\n",
      "Exhaustion - ['Molydeus']\n",
      "Frightened - ['Abishai, Red']\n",
      "Grappled - []\n",
      "Incapacitated - []\n",
      "Invisible - []\n",
      "Paralyzed - ['Yuan-ti Broodguard']\n",
      "Petrified - []\n",
      "Poisoned - ['Corpse Flower']\n",
      "Prone - []\n",
      "Restrained - []\n",
      "Stunned - []\n",
      "Unconscious - []\n"
     ]
    },
    {
     "data": {
      "application/vnd.plotly.v1+json": {
       "config": {
        "autosizable": true,
        "displayModeBar": "hover",
        "displaylogo": false,
        "modeBarButtonsToRemove": [
         "select2d",
         "lasso2d",
         "zoom2d",
         "zoomIn2d",
         "zoomOut2d",
         "pan2d",
         "autoScale2d",
         "hoverClosestCartesian",
         "hoverCompareCartesian",
         "toggleSpikelines",
         "resetScale2d"
        ],
        "plotlyServerURL": "https://plot.ly",
        "responsive": true,
        "showAxisDragHandles": false,
        "toImageButtonOptions": {
         "filename": "tfb-plot",
         "format": "png",
         "height": 450,
         "scale": 2,
         "width": 600
        }
       },
       "data": [
        {
         "hovertemplate": "<b>Condition:</b> %{x}<br><b>Count</b> %{y:.0f}<extra></extra>",
         "marker": {
          "line": {
           "color": "Black",
           "width": 1
          },
          "size": 12
         },
         "mode": "markers",
         "type": "scatter",
         "x": [
          "Blinded",
          "Charmed",
          "Deafened",
          "Exhaustion",
          "Frightened",
          "Grappled",
          "Incapacitated",
          "Invisible",
          "Paralyzed",
          "Petrified",
          "Poisoned",
          "Prone",
          "Restrained",
          "Stunned",
          "Unconscious"
         ],
         "y": [
          1,
          1,
          1,
          1,
          1,
          0,
          0,
          0,
          1,
          0,
          1,
          0,
          0,
          0,
          0
         ]
        }
       ],
       "layout": {
        "height": 500,
        "margin": {
         "b": 120,
         "l": 60,
         "pad": 4,
         "r": 25,
         "t": 20
        },
        "template": {
         "layout": {
          "autosize": false,
          "font": {
           "family": "sans-serif",
           "size": 14
          },
          "hoverlabel": {
           "align": "left"
          },
          "hovermode": "closest",
          "margin": {
           "b": 55,
           "l": 60,
           "pad": 4,
           "r": 25,
           "t": 20
          },
          "template": {
           "data": {
            "bar": [
             {
              "error_x": {
               "color": "#2a3f5f"
              },
              "error_y": {
               "color": "#2a3f5f"
              },
              "marker": {
               "line": {
                "color": "white",
                "width": 0.5
               },
               "pattern": {
                "fillmode": "overlay",
                "size": 10,
                "solidity": 0.2
               }
              },
              "type": "bar"
             }
            ],
            "barpolar": [
             {
              "marker": {
               "line": {
                "color": "white",
                "width": 0.5
               },
               "pattern": {
                "fillmode": "overlay",
                "size": 10,
                "solidity": 0.2
               }
              },
              "type": "barpolar"
             }
            ],
            "carpet": [
             {
              "aaxis": {
               "endlinecolor": "#2a3f5f",
               "gridcolor": "#C8D4E3",
               "linecolor": "#C8D4E3",
               "minorgridcolor": "#C8D4E3",
               "startlinecolor": "#2a3f5f"
              },
              "baxis": {
               "endlinecolor": "#2a3f5f",
               "gridcolor": "#C8D4E3",
               "linecolor": "#C8D4E3",
               "minorgridcolor": "#C8D4E3",
               "startlinecolor": "#2a3f5f"
              },
              "type": "carpet"
             }
            ],
            "choropleth": [
             {
              "colorbar": {
               "outlinewidth": 0,
               "ticks": ""
              },
              "type": "choropleth"
             }
            ],
            "contour": [
             {
              "colorbar": {
               "outlinewidth": 0,
               "ticks": ""
              },
              "colorscale": [
               [
                0,
                "#0d0887"
               ],
               [
                0.1111111111111111,
                "#46039f"
               ],
               [
                0.2222222222222222,
                "#7201a8"
               ],
               [
                0.3333333333333333,
                "#9c179e"
               ],
               [
                0.4444444444444444,
                "#bd3786"
               ],
               [
                0.5555555555555556,
                "#d8576b"
               ],
               [
                0.6666666666666666,
                "#ed7953"
               ],
               [
                0.7777777777777778,
                "#fb9f3a"
               ],
               [
                0.8888888888888888,
                "#fdca26"
               ],
               [
                1,
                "#f0f921"
               ]
              ],
              "type": "contour"
             }
            ],
            "contourcarpet": [
             {
              "colorbar": {
               "outlinewidth": 0,
               "ticks": ""
              },
              "type": "contourcarpet"
             }
            ],
            "heatmap": [
             {
              "colorbar": {
               "outlinewidth": 0,
               "ticks": ""
              },
              "colorscale": [
               [
                0,
                "#0d0887"
               ],
               [
                0.1111111111111111,
                "#46039f"
               ],
               [
                0.2222222222222222,
                "#7201a8"
               ],
               [
                0.3333333333333333,
                "#9c179e"
               ],
               [
                0.4444444444444444,
                "#bd3786"
               ],
               [
                0.5555555555555556,
                "#d8576b"
               ],
               [
                0.6666666666666666,
                "#ed7953"
               ],
               [
                0.7777777777777778,
                "#fb9f3a"
               ],
               [
                0.8888888888888888,
                "#fdca26"
               ],
               [
                1,
                "#f0f921"
               ]
              ],
              "type": "heatmap"
             }
            ],
            "heatmapgl": [
             {
              "colorbar": {
               "outlinewidth": 0,
               "ticks": ""
              },
              "colorscale": [
               [
                0,
                "#0d0887"
               ],
               [
                0.1111111111111111,
                "#46039f"
               ],
               [
                0.2222222222222222,
                "#7201a8"
               ],
               [
                0.3333333333333333,
                "#9c179e"
               ],
               [
                0.4444444444444444,
                "#bd3786"
               ],
               [
                0.5555555555555556,
                "#d8576b"
               ],
               [
                0.6666666666666666,
                "#ed7953"
               ],
               [
                0.7777777777777778,
                "#fb9f3a"
               ],
               [
                0.8888888888888888,
                "#fdca26"
               ],
               [
                1,
                "#f0f921"
               ]
              ],
              "type": "heatmapgl"
             }
            ],
            "histogram": [
             {
              "marker": {
               "pattern": {
                "fillmode": "overlay",
                "size": 10,
                "solidity": 0.2
               }
              },
              "type": "histogram"
             }
            ],
            "histogram2d": [
             {
              "colorbar": {
               "outlinewidth": 0,
               "ticks": ""
              },
              "colorscale": [
               [
                0,
                "#0d0887"
               ],
               [
                0.1111111111111111,
                "#46039f"
               ],
               [
                0.2222222222222222,
                "#7201a8"
               ],
               [
                0.3333333333333333,
                "#9c179e"
               ],
               [
                0.4444444444444444,
                "#bd3786"
               ],
               [
                0.5555555555555556,
                "#d8576b"
               ],
               [
                0.6666666666666666,
                "#ed7953"
               ],
               [
                0.7777777777777778,
                "#fb9f3a"
               ],
               [
                0.8888888888888888,
                "#fdca26"
               ],
               [
                1,
                "#f0f921"
               ]
              ],
              "type": "histogram2d"
             }
            ],
            "histogram2dcontour": [
             {
              "colorbar": {
               "outlinewidth": 0,
               "ticks": ""
              },
              "colorscale": [
               [
                0,
                "#0d0887"
               ],
               [
                0.1111111111111111,
                "#46039f"
               ],
               [
                0.2222222222222222,
                "#7201a8"
               ],
               [
                0.3333333333333333,
                "#9c179e"
               ],
               [
                0.4444444444444444,
                "#bd3786"
               ],
               [
                0.5555555555555556,
                "#d8576b"
               ],
               [
                0.6666666666666666,
                "#ed7953"
               ],
               [
                0.7777777777777778,
                "#fb9f3a"
               ],
               [
                0.8888888888888888,
                "#fdca26"
               ],
               [
                1,
                "#f0f921"
               ]
              ],
              "type": "histogram2dcontour"
             }
            ],
            "mesh3d": [
             {
              "colorbar": {
               "outlinewidth": 0,
               "ticks": ""
              },
              "type": "mesh3d"
             }
            ],
            "parcoords": [
             {
              "line": {
               "colorbar": {
                "outlinewidth": 0,
                "ticks": ""
               }
              },
              "type": "parcoords"
             }
            ],
            "pie": [
             {
              "automargin": true,
              "type": "pie"
             }
            ],
            "scatter": [
             {
              "fillpattern": {
               "fillmode": "overlay",
               "size": 10,
               "solidity": 0.2
              },
              "type": "scatter"
             }
            ],
            "scatter3d": [
             {
              "line": {
               "colorbar": {
                "outlinewidth": 0,
                "ticks": ""
               }
              },
              "marker": {
               "colorbar": {
                "outlinewidth": 0,
                "ticks": ""
               }
              },
              "type": "scatter3d"
             }
            ],
            "scattercarpet": [
             {
              "marker": {
               "colorbar": {
                "outlinewidth": 0,
                "ticks": ""
               }
              },
              "type": "scattercarpet"
             }
            ],
            "scattergeo": [
             {
              "marker": {
               "colorbar": {
                "outlinewidth": 0,
                "ticks": ""
               }
              },
              "type": "scattergeo"
             }
            ],
            "scattergl": [
             {
              "marker": {
               "colorbar": {
                "outlinewidth": 0,
                "ticks": ""
               }
              },
              "type": "scattergl"
             }
            ],
            "scattermapbox": [
             {
              "marker": {
               "colorbar": {
                "outlinewidth": 0,
                "ticks": ""
               }
              },
              "type": "scattermapbox"
             }
            ],
            "scatterpolar": [
             {
              "marker": {
               "colorbar": {
                "outlinewidth": 0,
                "ticks": ""
               }
              },
              "type": "scatterpolar"
             }
            ],
            "scatterpolargl": [
             {
              "marker": {
               "colorbar": {
                "outlinewidth": 0,
                "ticks": ""
               }
              },
              "type": "scatterpolargl"
             }
            ],
            "scatterternary": [
             {
              "marker": {
               "colorbar": {
                "outlinewidth": 0,
                "ticks": ""
               }
              },
              "type": "scatterternary"
             }
            ],
            "surface": [
             {
              "colorbar": {
               "outlinewidth": 0,
               "ticks": ""
              },
              "colorscale": [
               [
                0,
                "#0d0887"
               ],
               [
                0.1111111111111111,
                "#46039f"
               ],
               [
                0.2222222222222222,
                "#7201a8"
               ],
               [
                0.3333333333333333,
                "#9c179e"
               ],
               [
                0.4444444444444444,
                "#bd3786"
               ],
               [
                0.5555555555555556,
                "#d8576b"
               ],
               [
                0.6666666666666666,
                "#ed7953"
               ],
               [
                0.7777777777777778,
                "#fb9f3a"
               ],
               [
                0.8888888888888888,
                "#fdca26"
               ],
               [
                1,
                "#f0f921"
               ]
              ],
              "type": "surface"
             }
            ],
            "table": [
             {
              "cells": {
               "fill": {
                "color": "#EBF0F8"
               },
               "line": {
                "color": "white"
               }
              },
              "header": {
               "fill": {
                "color": "#C8D4E3"
               },
               "line": {
                "color": "white"
               }
              },
              "type": "table"
             }
            ]
           },
           "layout": {
            "annotationdefaults": {
             "arrowcolor": "#2a3f5f",
             "arrowhead": 0,
             "arrowwidth": 1
            },
            "autotypenumbers": "strict",
            "coloraxis": {
             "colorbar": {
              "outlinewidth": 0,
              "ticks": ""
             }
            },
            "colorscale": {
             "diverging": [
              [
               0,
               "#8e0152"
              ],
              [
               0.1,
               "#c51b7d"
              ],
              [
               0.2,
               "#de77ae"
              ],
              [
               0.3,
               "#f1b6da"
              ],
              [
               0.4,
               "#fde0ef"
              ],
              [
               0.5,
               "#f7f7f7"
              ],
              [
               0.6,
               "#e6f5d0"
              ],
              [
               0.7,
               "#b8e186"
              ],
              [
               0.8,
               "#7fbc41"
              ],
              [
               0.9,
               "#4d9221"
              ],
              [
               1,
               "#276419"
              ]
             ],
             "sequential": [
              [
               0,
               "#0d0887"
              ],
              [
               0.1111111111111111,
               "#46039f"
              ],
              [
               0.2222222222222222,
               "#7201a8"
              ],
              [
               0.3333333333333333,
               "#9c179e"
              ],
              [
               0.4444444444444444,
               "#bd3786"
              ],
              [
               0.5555555555555556,
               "#d8576b"
              ],
              [
               0.6666666666666666,
               "#ed7953"
              ],
              [
               0.7777777777777778,
               "#fb9f3a"
              ],
              [
               0.8888888888888888,
               "#fdca26"
              ],
              [
               1,
               "#f0f921"
              ]
             ],
             "sequentialminus": [
              [
               0,
               "#0d0887"
              ],
              [
               0.1111111111111111,
               "#46039f"
              ],
              [
               0.2222222222222222,
               "#7201a8"
              ],
              [
               0.3333333333333333,
               "#9c179e"
              ],
              [
               0.4444444444444444,
               "#bd3786"
              ],
              [
               0.5555555555555556,
               "#d8576b"
              ],
              [
               0.6666666666666666,
               "#ed7953"
              ],
              [
               0.7777777777777778,
               "#fb9f3a"
              ],
              [
               0.8888888888888888,
               "#fdca26"
              ],
              [
               1,
               "#f0f921"
              ]
             ]
            },
            "colorway": [
             "#636efa",
             "#EF553B",
             "#00cc96",
             "#ab63fa",
             "#FFA15A",
             "#19d3f3",
             "#FF6692",
             "#B6E880",
             "#FF97FF",
             "#FECB52"
            ],
            "font": {
             "color": "#2a3f5f"
            },
            "geo": {
             "bgcolor": "white",
             "lakecolor": "white",
             "landcolor": "white",
             "showlakes": true,
             "showland": true,
             "subunitcolor": "#C8D4E3"
            },
            "hoverlabel": {
             "align": "left"
            },
            "hovermode": "closest",
            "mapbox": {
             "style": "light"
            },
            "paper_bgcolor": "white",
            "plot_bgcolor": "white",
            "polar": {
             "angularaxis": {
              "gridcolor": "#EBF0F8",
              "linecolor": "#EBF0F8",
              "ticks": ""
             },
             "bgcolor": "white",
             "radialaxis": {
              "gridcolor": "#EBF0F8",
              "linecolor": "#EBF0F8",
              "ticks": ""
             }
            },
            "scene": {
             "xaxis": {
              "backgroundcolor": "white",
              "gridcolor": "#DFE8F3",
              "gridwidth": 2,
              "linecolor": "#EBF0F8",
              "showbackground": true,
              "ticks": "",
              "zerolinecolor": "#EBF0F8"
             },
             "yaxis": {
              "backgroundcolor": "white",
              "gridcolor": "#DFE8F3",
              "gridwidth": 2,
              "linecolor": "#EBF0F8",
              "showbackground": true,
              "ticks": "",
              "zerolinecolor": "#EBF0F8"
             },
             "zaxis": {
              "backgroundcolor": "white",
              "gridcolor": "#DFE8F3",
              "gridwidth": 2,
              "linecolor": "#EBF0F8",
              "showbackground": true,
              "ticks": "",
              "zerolinecolor": "#EBF0F8"
             }
            },
            "shapedefaults": {
             "line": {
              "color": "#2a3f5f"
             }
            },
            "ternary": {
             "aaxis": {
              "gridcolor": "#DFE8F3",
              "linecolor": "#A2B1C6",
              "ticks": ""
             },
             "baxis": {
              "gridcolor": "#DFE8F3",
              "linecolor": "#A2B1C6",
              "ticks": ""
             },
             "bgcolor": "white",
             "caxis": {
              "gridcolor": "#DFE8F3",
              "linecolor": "#A2B1C6",
              "ticks": ""
             }
            },
            "title": {
             "x": 0.05
            },
            "xaxis": {
             "automargin": true,
             "gridcolor": "#EBF0F8",
             "linecolor": "#EBF0F8",
             "ticks": "",
             "title": {
              "standoff": 15
             },
             "zerolinecolor": "#EBF0F8",
             "zerolinewidth": 2
            },
            "yaxis": {
             "automargin": true,
             "gridcolor": "#EBF0F8",
             "linecolor": "#EBF0F8",
             "ticks": "",
             "title": {
              "standoff": 15
             },
             "zerolinecolor": "#EBF0F8",
             "zerolinewidth": 2
            }
           }
          },
          "xaxis": {
           "automargin": false,
           "linecolor": "#444",
           "linewidth": 2,
           "minor": {
            "tickmode": "linear",
            "ticks": "outside"
           },
           "mirror": true,
           "showline": true,
           "tickmode": "linear",
           "ticks": "outside",
           "zeroline": false
          },
          "yaxis": {
           "automargin": false,
           "linecolor": "#444",
           "linewidth": 2,
           "minor": {
            "tickmode": "linear",
            "ticks": "outside"
           },
           "mirror": true,
           "showline": true,
           "ticks": "outside",
           "zeroline": false
          }
         }
        },
        "width": 600,
        "xaxis": {
         "autorange": true
        },
        "yaxis": {
         "dtick": 2,
         "minor": {
          "dtick": 1,
          "tick0": 0
         },
         "range": [
          -0.1,
          10
         ],
         "tick0": 0,
         "title": {
          "text": "percent immune"
         }
        }
       }
      }
     },
     "metadata": {},
     "output_type": "display_data"
    }
   ],
   "source": [
    "# Plots the number of monsters who changed for each type of condition immunity\n",
    "df1 = df0[df0['CR'].between(1/8, 30)]\n",
    "\n",
    "CONDITIONS = [\n",
    "    'Blinded','Charmed','Deafened','Exhaustion','Frightened',\n",
    "    'Grappled','Incapacitated','Invisible','Paralyzed','Petrified',\n",
    "    'Poisoned','Prone','Restrained','Stunned','Unconscious']\n",
    "\n",
    "\"\"\"# create custom text\n",
    "total_monsters = df1.shape[0]\n",
    "total_immune = [int(df1[c].sum().tolist()) for c in conditions]\n",
    "pct_immune = [100*df1[c].mean().tolist() for c in conditions]\n",
    "custom_text = [f'{p:.0f}% ({i} out of {total_monsters})' for p, i in zip(pct_immune, total_immune)]\"\"\"\n",
    "\n",
    "# create figure\n",
    "fig = go.Figure(\n",
    "    layout=go.Layout(\n",
    "        template=tfb.FIG_TEMPLATE,\n",
    "        margin=dict(l=60, r=25, b=120, t=20, pad=4),\n",
    "        xaxis=dict(\n",
    "            autorange=True,\n",
    "            #range=[-0.5, len(CONDITIONS)-0.5],\n",
    "        ),\n",
    "        yaxis=dict(\n",
    "            title_text='percent immune',\n",
    "            range=[-0.1, 10],\n",
    "            tick0=0, dtick=2,\n",
    "            minor=dict(tick0=0, dtick=1),\n",
    "        )\n",
    "    )\n",
    ")\n",
    "\n",
    "df1 = df0[df0['Book'].isin(['MPMotM','VGtM','MToF'])]\n",
    "dfMP = pd.pivot_table(df1, \n",
    "    values=CONDITIONS, \n",
    "    index=['Monster', 'Legendary'], columns=['Legacy']).reset_index()\n",
    "num_monsters = len(dfMP['Monster'])\n",
    "\n",
    "counts = []\n",
    "for c in CONDITIONS:\n",
    "    indx = dfMP[c][False] != dfMP[c][True]\n",
    "    counts.append(np.sum(indx))\n",
    "    print(c, '-', dfMP['Monster'][indx].to_list())\n",
    "\n",
    "fig.add_trace(go.Scatter(\n",
    "    x=CONDITIONS,\n",
    "    y=counts,\n",
    "    mode='markers', \n",
    "    marker=dict(size=12, line=dict(width=1, color='Black')),\n",
    "    #text=custom_text,\n",
    "    #unselected=dict(marker=dict(opacity=0.0)),\n",
    "    hovertemplate=\n",
    "        '<b>Condition:</b> %{x}<br>'+\n",
    "        '<b>Count</b> %{y:.0f}'+\n",
    "        '<extra></extra>'\n",
    "))\n",
    "\n",
    "# show figure\n",
    "fig.update_layout(width=600, height=500)\n",
    "fig.show(config=tfb.FIG_CONFIG)\n",
    "\n",
    "# save figures\n",
    "if SAVEFIGS:\n",
    "    fig.update_layout(autosize=True, width=None, height=None)\n",
    "    #tfb.save_fig_html(fig, format='large', name='fig-xp-ratio-vs-cr-large')\n",
    "    #tfb.save_fig_html(fig, format='small', name='fig-xp-ratio-vs-cr-small')"
   ]
  },
  {
   "cell_type": "code",
   "execution_count": 223,
   "metadata": {},
   "outputs": [
    {
     "name": "stdout",
     "output_type": "stream",
     "text": [
      "Bludgeoning - (0.0023) ['Alhoon', 'Annis Hag', 'Boneclaw', 'Clockwork Bronze Scout', 'Clockwork Oaken Bolter', 'Clockwork Stone Defender', 'Eladrin, Autumn', 'Eladrin, Spring', 'Eladrin, Summer', 'Eladrin, Winter', 'Morkoth', 'Nupperibo', 'Shoosuva', 'Slithering Tracker', 'Troll, Spirit', 'Warlock of the Fiend']\n",
      "Piercing - (0.0023) ['Alhoon', 'Annis Hag', 'Boneclaw', 'Clockwork Bronze Scout', 'Clockwork Oaken Bolter', 'Clockwork Stone Defender', 'Eladrin, Autumn', 'Eladrin, Spring', 'Eladrin, Summer', 'Eladrin, Winter', 'Morkoth', 'Nupperibo', 'Shoosuva', 'Slithering Tracker', 'Troll, Spirit', 'Warlock of the Fiend']\n",
      "Slashing - (0.0023) ['Alhoon', 'Annis Hag', 'Boneclaw', 'Clockwork Bronze Scout', 'Clockwork Oaken Bolter', 'Clockwork Stone Defender', 'Eladrin, Autumn', 'Eladrin, Spring', 'Eladrin, Summer', 'Eladrin, Winter', 'Morkoth', 'Nupperibo', 'Shoosuva', 'Slithering Tracker', 'Troll, Spirit', 'Warlock of the Fiend']\n",
      "Acid - (0.0000) ['Juiblex']\n",
      "Cold - (nan) []\n",
      "Fire - (-0.3155) ['Barghest', 'Eladrin, Summer', 'Swarm of Rot Grubs', 'Warlock of the Fiend']\n",
      "Force - (nan) []\n",
      "Lightning - (-0.0359) ['Bodak', 'Nabassu', 'Troll, Spirit']\n",
      "Necrotic - (-0.0284) ['Bodak', 'Molydeus', 'Nabassu']\n",
      "Poison - (nan) []\n",
      "Psychic - (-0.1372) ['Eladrin, Autumn', 'Eladrin, Spring']\n",
      "Radiant - (0.0000) ['Skulk']\n",
      "Thunder - (-0.0112) ['Troll, Spirit', 'Zaratan']\n",
      "['Alhoon', 'Annis Hag', 'Barghest', 'Bodak', 'Boneclaw', 'Clockwork Bronze Scout', 'Clockwork Oaken Bolter', 'Clockwork Stone Defender', 'Eladrin, Autumn', 'Eladrin, Spring', 'Eladrin, Summer', 'Eladrin, Winter', 'Juiblex', 'Molydeus', 'Morkoth', 'Nabassu', 'Nupperibo', 'Shoosuva', 'Skulk', 'Slithering Tracker', 'Swarm of Rot Grubs', 'Troll, Spirit', 'Warlock of the Fiend', 'Zaratan']\n"
     ]
    },
    {
     "data": {
      "application/vnd.plotly.v1+json": {
       "config": {
        "autosizable": true,
        "displayModeBar": "hover",
        "displaylogo": false,
        "modeBarButtonsToRemove": [
         "select2d",
         "lasso2d",
         "zoom2d",
         "zoomIn2d",
         "zoomOut2d",
         "pan2d",
         "autoScale2d",
         "hoverClosestCartesian",
         "hoverCompareCartesian",
         "toggleSpikelines",
         "resetScale2d"
        ],
        "plotlyServerURL": "https://plot.ly",
        "responsive": true,
        "showAxisDragHandles": false,
        "toImageButtonOptions": {
         "filename": "tfb-plot",
         "format": "png",
         "height": 450,
         "scale": 2,
         "width": 600
        }
       },
       "data": [
        {
         "hovertemplate": "<b>Condition:</b> %{x}<br><b>Count</b> %{y:.0f}<extra></extra>",
         "marker": {
          "line": {
           "color": "Black",
           "width": 1
          },
          "size": 12
         },
         "mode": "markers",
         "type": "scatter",
         "x": [
          "Bludgeoning",
          "Piercing",
          "Slashing",
          "Acid",
          "Cold",
          "Fire",
          "Force",
          "Lightning",
          "Necrotic",
          "Poison",
          "Psychic",
          "Radiant",
          "Thunder"
         ],
         "y": [
          16,
          16,
          16,
          1,
          0,
          4,
          0,
          3,
          3,
          0,
          2,
          1,
          2
         ]
        }
       ],
       "layout": {
        "height": 500,
        "margin": {
         "b": 120,
         "l": 60,
         "pad": 4,
         "r": 25,
         "t": 20
        },
        "template": {
         "layout": {
          "autosize": false,
          "font": {
           "family": "sans-serif",
           "size": 14
          },
          "hoverlabel": {
           "align": "left"
          },
          "hovermode": "closest",
          "margin": {
           "b": 55,
           "l": 60,
           "pad": 4,
           "r": 25,
           "t": 20
          },
          "template": {
           "data": {
            "bar": [
             {
              "error_x": {
               "color": "#2a3f5f"
              },
              "error_y": {
               "color": "#2a3f5f"
              },
              "marker": {
               "line": {
                "color": "white",
                "width": 0.5
               },
               "pattern": {
                "fillmode": "overlay",
                "size": 10,
                "solidity": 0.2
               }
              },
              "type": "bar"
             }
            ],
            "barpolar": [
             {
              "marker": {
               "line": {
                "color": "white",
                "width": 0.5
               },
               "pattern": {
                "fillmode": "overlay",
                "size": 10,
                "solidity": 0.2
               }
              },
              "type": "barpolar"
             }
            ],
            "carpet": [
             {
              "aaxis": {
               "endlinecolor": "#2a3f5f",
               "gridcolor": "#C8D4E3",
               "linecolor": "#C8D4E3",
               "minorgridcolor": "#C8D4E3",
               "startlinecolor": "#2a3f5f"
              },
              "baxis": {
               "endlinecolor": "#2a3f5f",
               "gridcolor": "#C8D4E3",
               "linecolor": "#C8D4E3",
               "minorgridcolor": "#C8D4E3",
               "startlinecolor": "#2a3f5f"
              },
              "type": "carpet"
             }
            ],
            "choropleth": [
             {
              "colorbar": {
               "outlinewidth": 0,
               "ticks": ""
              },
              "type": "choropleth"
             }
            ],
            "contour": [
             {
              "colorbar": {
               "outlinewidth": 0,
               "ticks": ""
              },
              "colorscale": [
               [
                0,
                "#0d0887"
               ],
               [
                0.1111111111111111,
                "#46039f"
               ],
               [
                0.2222222222222222,
                "#7201a8"
               ],
               [
                0.3333333333333333,
                "#9c179e"
               ],
               [
                0.4444444444444444,
                "#bd3786"
               ],
               [
                0.5555555555555556,
                "#d8576b"
               ],
               [
                0.6666666666666666,
                "#ed7953"
               ],
               [
                0.7777777777777778,
                "#fb9f3a"
               ],
               [
                0.8888888888888888,
                "#fdca26"
               ],
               [
                1,
                "#f0f921"
               ]
              ],
              "type": "contour"
             }
            ],
            "contourcarpet": [
             {
              "colorbar": {
               "outlinewidth": 0,
               "ticks": ""
              },
              "type": "contourcarpet"
             }
            ],
            "heatmap": [
             {
              "colorbar": {
               "outlinewidth": 0,
               "ticks": ""
              },
              "colorscale": [
               [
                0,
                "#0d0887"
               ],
               [
                0.1111111111111111,
                "#46039f"
               ],
               [
                0.2222222222222222,
                "#7201a8"
               ],
               [
                0.3333333333333333,
                "#9c179e"
               ],
               [
                0.4444444444444444,
                "#bd3786"
               ],
               [
                0.5555555555555556,
                "#d8576b"
               ],
               [
                0.6666666666666666,
                "#ed7953"
               ],
               [
                0.7777777777777778,
                "#fb9f3a"
               ],
               [
                0.8888888888888888,
                "#fdca26"
               ],
               [
                1,
                "#f0f921"
               ]
              ],
              "type": "heatmap"
             }
            ],
            "heatmapgl": [
             {
              "colorbar": {
               "outlinewidth": 0,
               "ticks": ""
              },
              "colorscale": [
               [
                0,
                "#0d0887"
               ],
               [
                0.1111111111111111,
                "#46039f"
               ],
               [
                0.2222222222222222,
                "#7201a8"
               ],
               [
                0.3333333333333333,
                "#9c179e"
               ],
               [
                0.4444444444444444,
                "#bd3786"
               ],
               [
                0.5555555555555556,
                "#d8576b"
               ],
               [
                0.6666666666666666,
                "#ed7953"
               ],
               [
                0.7777777777777778,
                "#fb9f3a"
               ],
               [
                0.8888888888888888,
                "#fdca26"
               ],
               [
                1,
                "#f0f921"
               ]
              ],
              "type": "heatmapgl"
             }
            ],
            "histogram": [
             {
              "marker": {
               "pattern": {
                "fillmode": "overlay",
                "size": 10,
                "solidity": 0.2
               }
              },
              "type": "histogram"
             }
            ],
            "histogram2d": [
             {
              "colorbar": {
               "outlinewidth": 0,
               "ticks": ""
              },
              "colorscale": [
               [
                0,
                "#0d0887"
               ],
               [
                0.1111111111111111,
                "#46039f"
               ],
               [
                0.2222222222222222,
                "#7201a8"
               ],
               [
                0.3333333333333333,
                "#9c179e"
               ],
               [
                0.4444444444444444,
                "#bd3786"
               ],
               [
                0.5555555555555556,
                "#d8576b"
               ],
               [
                0.6666666666666666,
                "#ed7953"
               ],
               [
                0.7777777777777778,
                "#fb9f3a"
               ],
               [
                0.8888888888888888,
                "#fdca26"
               ],
               [
                1,
                "#f0f921"
               ]
              ],
              "type": "histogram2d"
             }
            ],
            "histogram2dcontour": [
             {
              "colorbar": {
               "outlinewidth": 0,
               "ticks": ""
              },
              "colorscale": [
               [
                0,
                "#0d0887"
               ],
               [
                0.1111111111111111,
                "#46039f"
               ],
               [
                0.2222222222222222,
                "#7201a8"
               ],
               [
                0.3333333333333333,
                "#9c179e"
               ],
               [
                0.4444444444444444,
                "#bd3786"
               ],
               [
                0.5555555555555556,
                "#d8576b"
               ],
               [
                0.6666666666666666,
                "#ed7953"
               ],
               [
                0.7777777777777778,
                "#fb9f3a"
               ],
               [
                0.8888888888888888,
                "#fdca26"
               ],
               [
                1,
                "#f0f921"
               ]
              ],
              "type": "histogram2dcontour"
             }
            ],
            "mesh3d": [
             {
              "colorbar": {
               "outlinewidth": 0,
               "ticks": ""
              },
              "type": "mesh3d"
             }
            ],
            "parcoords": [
             {
              "line": {
               "colorbar": {
                "outlinewidth": 0,
                "ticks": ""
               }
              },
              "type": "parcoords"
             }
            ],
            "pie": [
             {
              "automargin": true,
              "type": "pie"
             }
            ],
            "scatter": [
             {
              "fillpattern": {
               "fillmode": "overlay",
               "size": 10,
               "solidity": 0.2
              },
              "type": "scatter"
             }
            ],
            "scatter3d": [
             {
              "line": {
               "colorbar": {
                "outlinewidth": 0,
                "ticks": ""
               }
              },
              "marker": {
               "colorbar": {
                "outlinewidth": 0,
                "ticks": ""
               }
              },
              "type": "scatter3d"
             }
            ],
            "scattercarpet": [
             {
              "marker": {
               "colorbar": {
                "outlinewidth": 0,
                "ticks": ""
               }
              },
              "type": "scattercarpet"
             }
            ],
            "scattergeo": [
             {
              "marker": {
               "colorbar": {
                "outlinewidth": 0,
                "ticks": ""
               }
              },
              "type": "scattergeo"
             }
            ],
            "scattergl": [
             {
              "marker": {
               "colorbar": {
                "outlinewidth": 0,
                "ticks": ""
               }
              },
              "type": "scattergl"
             }
            ],
            "scattermapbox": [
             {
              "marker": {
               "colorbar": {
                "outlinewidth": 0,
                "ticks": ""
               }
              },
              "type": "scattermapbox"
             }
            ],
            "scatterpolar": [
             {
              "marker": {
               "colorbar": {
                "outlinewidth": 0,
                "ticks": ""
               }
              },
              "type": "scatterpolar"
             }
            ],
            "scatterpolargl": [
             {
              "marker": {
               "colorbar": {
                "outlinewidth": 0,
                "ticks": ""
               }
              },
              "type": "scatterpolargl"
             }
            ],
            "scatterternary": [
             {
              "marker": {
               "colorbar": {
                "outlinewidth": 0,
                "ticks": ""
               }
              },
              "type": "scatterternary"
             }
            ],
            "surface": [
             {
              "colorbar": {
               "outlinewidth": 0,
               "ticks": ""
              },
              "colorscale": [
               [
                0,
                "#0d0887"
               ],
               [
                0.1111111111111111,
                "#46039f"
               ],
               [
                0.2222222222222222,
                "#7201a8"
               ],
               [
                0.3333333333333333,
                "#9c179e"
               ],
               [
                0.4444444444444444,
                "#bd3786"
               ],
               [
                0.5555555555555556,
                "#d8576b"
               ],
               [
                0.6666666666666666,
                "#ed7953"
               ],
               [
                0.7777777777777778,
                "#fb9f3a"
               ],
               [
                0.8888888888888888,
                "#fdca26"
               ],
               [
                1,
                "#f0f921"
               ]
              ],
              "type": "surface"
             }
            ],
            "table": [
             {
              "cells": {
               "fill": {
                "color": "#EBF0F8"
               },
               "line": {
                "color": "white"
               }
              },
              "header": {
               "fill": {
                "color": "#C8D4E3"
               },
               "line": {
                "color": "white"
               }
              },
              "type": "table"
             }
            ]
           },
           "layout": {
            "annotationdefaults": {
             "arrowcolor": "#2a3f5f",
             "arrowhead": 0,
             "arrowwidth": 1
            },
            "autotypenumbers": "strict",
            "coloraxis": {
             "colorbar": {
              "outlinewidth": 0,
              "ticks": ""
             }
            },
            "colorscale": {
             "diverging": [
              [
               0,
               "#8e0152"
              ],
              [
               0.1,
               "#c51b7d"
              ],
              [
               0.2,
               "#de77ae"
              ],
              [
               0.3,
               "#f1b6da"
              ],
              [
               0.4,
               "#fde0ef"
              ],
              [
               0.5,
               "#f7f7f7"
              ],
              [
               0.6,
               "#e6f5d0"
              ],
              [
               0.7,
               "#b8e186"
              ],
              [
               0.8,
               "#7fbc41"
              ],
              [
               0.9,
               "#4d9221"
              ],
              [
               1,
               "#276419"
              ]
             ],
             "sequential": [
              [
               0,
               "#0d0887"
              ],
              [
               0.1111111111111111,
               "#46039f"
              ],
              [
               0.2222222222222222,
               "#7201a8"
              ],
              [
               0.3333333333333333,
               "#9c179e"
              ],
              [
               0.4444444444444444,
               "#bd3786"
              ],
              [
               0.5555555555555556,
               "#d8576b"
              ],
              [
               0.6666666666666666,
               "#ed7953"
              ],
              [
               0.7777777777777778,
               "#fb9f3a"
              ],
              [
               0.8888888888888888,
               "#fdca26"
              ],
              [
               1,
               "#f0f921"
              ]
             ],
             "sequentialminus": [
              [
               0,
               "#0d0887"
              ],
              [
               0.1111111111111111,
               "#46039f"
              ],
              [
               0.2222222222222222,
               "#7201a8"
              ],
              [
               0.3333333333333333,
               "#9c179e"
              ],
              [
               0.4444444444444444,
               "#bd3786"
              ],
              [
               0.5555555555555556,
               "#d8576b"
              ],
              [
               0.6666666666666666,
               "#ed7953"
              ],
              [
               0.7777777777777778,
               "#fb9f3a"
              ],
              [
               0.8888888888888888,
               "#fdca26"
              ],
              [
               1,
               "#f0f921"
              ]
             ]
            },
            "colorway": [
             "#636efa",
             "#EF553B",
             "#00cc96",
             "#ab63fa",
             "#FFA15A",
             "#19d3f3",
             "#FF6692",
             "#B6E880",
             "#FF97FF",
             "#FECB52"
            ],
            "font": {
             "color": "#2a3f5f"
            },
            "geo": {
             "bgcolor": "white",
             "lakecolor": "white",
             "landcolor": "white",
             "showlakes": true,
             "showland": true,
             "subunitcolor": "#C8D4E3"
            },
            "hoverlabel": {
             "align": "left"
            },
            "hovermode": "closest",
            "mapbox": {
             "style": "light"
            },
            "paper_bgcolor": "white",
            "plot_bgcolor": "white",
            "polar": {
             "angularaxis": {
              "gridcolor": "#EBF0F8",
              "linecolor": "#EBF0F8",
              "ticks": ""
             },
             "bgcolor": "white",
             "radialaxis": {
              "gridcolor": "#EBF0F8",
              "linecolor": "#EBF0F8",
              "ticks": ""
             }
            },
            "scene": {
             "xaxis": {
              "backgroundcolor": "white",
              "gridcolor": "#DFE8F3",
              "gridwidth": 2,
              "linecolor": "#EBF0F8",
              "showbackground": true,
              "ticks": "",
              "zerolinecolor": "#EBF0F8"
             },
             "yaxis": {
              "backgroundcolor": "white",
              "gridcolor": "#DFE8F3",
              "gridwidth": 2,
              "linecolor": "#EBF0F8",
              "showbackground": true,
              "ticks": "",
              "zerolinecolor": "#EBF0F8"
             },
             "zaxis": {
              "backgroundcolor": "white",
              "gridcolor": "#DFE8F3",
              "gridwidth": 2,
              "linecolor": "#EBF0F8",
              "showbackground": true,
              "ticks": "",
              "zerolinecolor": "#EBF0F8"
             }
            },
            "shapedefaults": {
             "line": {
              "color": "#2a3f5f"
             }
            },
            "ternary": {
             "aaxis": {
              "gridcolor": "#DFE8F3",
              "linecolor": "#A2B1C6",
              "ticks": ""
             },
             "baxis": {
              "gridcolor": "#DFE8F3",
              "linecolor": "#A2B1C6",
              "ticks": ""
             },
             "bgcolor": "white",
             "caxis": {
              "gridcolor": "#DFE8F3",
              "linecolor": "#A2B1C6",
              "ticks": ""
             }
            },
            "title": {
             "x": 0.05
            },
            "xaxis": {
             "automargin": true,
             "gridcolor": "#EBF0F8",
             "linecolor": "#EBF0F8",
             "ticks": "",
             "title": {
              "standoff": 15
             },
             "zerolinecolor": "#EBF0F8",
             "zerolinewidth": 2
            },
            "yaxis": {
             "automargin": true,
             "gridcolor": "#EBF0F8",
             "linecolor": "#EBF0F8",
             "ticks": "",
             "title": {
              "standoff": 15
             },
             "zerolinecolor": "#EBF0F8",
             "zerolinewidth": 2
            }
           }
          },
          "xaxis": {
           "automargin": false,
           "linecolor": "#444",
           "linewidth": 2,
           "minor": {
            "tickmode": "linear",
            "ticks": "outside"
           },
           "mirror": true,
           "showline": true,
           "tickmode": "linear",
           "ticks": "outside",
           "zeroline": false
          },
          "yaxis": {
           "automargin": false,
           "linecolor": "#444",
           "linewidth": 2,
           "minor": {
            "tickmode": "linear",
            "ticks": "outside"
           },
           "mirror": true,
           "showline": true,
           "ticks": "outside",
           "zeroline": false
          }
         }
        },
        "width": 600,
        "xaxis": {
         "autorange": true
        },
        "yaxis": {
         "dtick": 5,
         "minor": {
          "dtick": 1,
          "tick0": 0
         },
         "range": [
          -0.5,
          20
         ],
         "tick0": 0,
         "title": {
          "text": "percent immune"
         }
        }
       }
      }
     },
     "metadata": {},
     "output_type": "display_data"
    }
   ],
   "source": [
    "# Plots the number of monsters who changed for each type of damage immunity\n",
    "df1 = df0[df0['CR'].between(1/8, 30)]\n",
    "\n",
    "DAMAGE_TYPES = [\n",
    "    'Bludgeoning','Piercing','Slashing',\n",
    "    'Acid','Cold','Fire','Force','Lightning',\n",
    "    'Necrotic','Poison','Psychic','Radiant','Thunder']\n",
    "\n",
    "\"\"\"# create custom text\n",
    "total_monsters = df1.shape[0]\n",
    "total_immune = [int(df1[c].sum().tolist()) for c in conditions]\n",
    "pct_immune = [100*df1[c].mean().tolist() for c in conditions]\n",
    "custom_text = [f'{p:.0f}% ({i} out of {total_monsters})' for p, i in zip(pct_immune, total_immune)]\"\"\"\n",
    "\n",
    "# create figure\n",
    "fig = go.Figure(\n",
    "    layout=go.Layout(\n",
    "        template=tfb.FIG_TEMPLATE,\n",
    "        margin=dict(l=60, r=25, b=120, t=20, pad=4),\n",
    "        xaxis=dict(\n",
    "            autorange=True,\n",
    "            #range=[-0.5, len(CONDITIONS)-0.5],\n",
    "        ),\n",
    "        yaxis=dict(\n",
    "            title_text='percent immune',\n",
    "            range=[-0.5, 20],\n",
    "            tick0=0, dtick=5,\n",
    "            minor=dict(tick0=0, dtick=1),\n",
    "        )\n",
    "    )\n",
    ")\n",
    "\n",
    "df1 = df0[df0['Book'].isin(['MPMotM','VGtM','MToF'])]\n",
    "dfMP = pd.pivot_table(df1, \n",
    "    values=['HP','adj HP','eHP'] + DAMAGE_TYPES, \n",
    "    index=['Monster', 'Legendary'], columns=['Legacy']).reset_index()\n",
    "num_monsters = len(dfMP['Monster'])\n",
    "\n",
    "counts = []\n",
    "monsters = []\n",
    "for c in DAMAGE_TYPES:\n",
    "    indx = dfMP[c][False] != dfMP[c][True]\n",
    "    counts.append(np.sum(indx))\n",
    "    delta = np.mean(dfMP['eHP'][False][indx] / dfMP['eHP'][True][indx] - 1)\n",
    "    print(f'{c} - ({delta:.4f})', dfMP['Monster'][indx].to_list())\n",
    "    monsters += dfMP['Monster'][indx].to_list()\n",
    "\n",
    "monsters = list(set(monsters))\n",
    "print(sorted(monsters))\n",
    "\n",
    "fig.add_trace(go.Scatter(\n",
    "    x=DAMAGE_TYPES,\n",
    "    y=counts,\n",
    "    mode='markers', \n",
    "    marker=dict(size=12, line=dict(width=1, color='Black')),\n",
    "    #text=custom_text,\n",
    "    #unselected=dict(marker=dict(opacity=0.0)),\n",
    "    hovertemplate=\n",
    "        '<b>Condition:</b> %{x}<br>'+\n",
    "        '<b>Count</b> %{y:.0f}'+\n",
    "        '<extra></extra>'\n",
    "))\n",
    "\n",
    "# show figure\n",
    "fig.update_layout(width=600, height=500)\n",
    "fig.show(config=tfb.FIG_CONFIG)\n",
    "\n",
    "# save figures\n",
    "if SAVEFIGS:\n",
    "    fig.update_layout(autosize=True, width=None, height=None)\n",
    "    #tfb.save_fig_html(fig, format='large', name='fig-xp-ratio-vs-cr-large')\n",
    "    #tfb.save_fig_html(fig, format='small', name='fig-xp-ratio-vs-cr-small')"
   ]
  }
 ],
 "metadata": {
  "kernelspec": {
   "display_name": "thefinishedbook",
   "language": "python",
   "name": "python3"
  },
  "language_info": {
   "codemirror_mode": {
    "name": "ipython",
    "version": 3
   },
   "file_extension": ".py",
   "mimetype": "text/x-python",
   "name": "python",
   "nbconvert_exporter": "python",
   "pygments_lexer": "ipython3",
   "version": "3.10.5"
  },
  "orig_nbformat": 4
 },
 "nbformat": 4,
 "nbformat_minor": 2
}
