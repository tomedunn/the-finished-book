{
 "cells": [
  {
   "cell_type": "code",
   "execution_count": 6,
   "metadata": {},
   "outputs": [],
   "source": [
    "# create summary table for monsters in current dataset\n",
    "import pandas as pd\n",
    "\n",
    "dfB = pd.read_csv('../../assets/data/books.csv')\n",
    "dfB = dfB.astype({\n",
    "    'Book': 'category', \n",
    "    'Acronym': 'category',\n",
    "    'Date': 'datetime64[s]',\n",
    "    'Type': 'category',\n",
    "    'Status': 'category',\n",
    "    'Added': 'int32',\n",
    "    'Processed': 'int32',\n",
    "    'Remaining': 'int32',\n",
    "})\n",
    "dfB.style.set_properties(subset=['Added', 'Processed'], **{'text-align': 'right'})\n",
    "dfB.to_html(\n",
    "    './source-books-summary.html', \n",
    "    columns=['Book','Acronym','Date','Type','Added','Processed'],\n",
    "    index=False, \n",
    "    classes='wide', \n",
    "    border=0\n",
    ")"
   ]
  }
 ],
 "metadata": {
  "kernelspec": {
   "display_name": "thefinishedbook",
   "language": "python",
   "name": "python3"
  },
  "language_info": {
   "codemirror_mode": {
    "name": "ipython",
    "version": 3
   },
   "file_extension": ".py",
   "mimetype": "text/x-python",
   "name": "python",
   "nbconvert_exporter": "python",
   "pygments_lexer": "ipython3",
   "version": "3.10.5"
  },
  "orig_nbformat": 4
 },
 "nbformat": 4,
 "nbformat_minor": 2
}
