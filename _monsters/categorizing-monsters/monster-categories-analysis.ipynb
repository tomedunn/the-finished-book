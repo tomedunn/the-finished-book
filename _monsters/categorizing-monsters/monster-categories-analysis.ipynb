{
 "cells": [
  {
   "cell_type": "code",
   "execution_count": 1,
   "metadata": {},
   "outputs": [
    {
     "name": "stdout",
     "output_type": "stream",
     "text": [
      "Includes 1473 monsters in database\n"
     ]
    }
   ],
   "source": [
    "import pandas as pd\n",
    "import numpy as np\n",
    "from matplotlib import pyplot as plt\n",
    "from matplotlib.ticker import (MultipleLocator, FormatStrFormatter, AutoMinorLocator)\n",
    "pd.options.mode.chained_assignment = None  # default='warn'\n",
    "\n",
    "METADATA = {'Contributor': 'T. Dunn'}\n",
    "FSIZE = [5,4]\n",
    "FDPI = 100\n",
    "SAVEFIGS = False\n",
    "\n",
    "df0 = pd.read_csv('monster-categories.csv')\n",
    "print('Includes {} monsters in database'.format(len(df0.index.to_list())))"
   ]
  },
  {
   "cell_type": "code",
   "execution_count": 2,
   "metadata": {},
   "outputs": [
    {
     "data": {
      "image/png": "[encoded data removed]",
      "text/plain": [
       "<Figure size 500x400 with 1 Axes>"
      ]
     },
     "metadata": {
      "needs_background": "light"
     },
     "output_type": "display_data"
    }
   ],
   "source": [
    "# number of monsters by CR\n",
    "rMin = 0; rMax = 30; rDel = 1.0\n",
    "rLims = [rMin - rDel/2, rMax + rDel/2]\n",
    "rRange = np.linspace(rMin - rDel/2, rMax + rDel/2, int(round((rMax - rMin)/rDel)) + 2)\n",
    "\n",
    "fig = plt.figure(figsize=FSIZE, dpi=FDPI, tight_layout=True)\n",
    "ax = plt.axes(xlim=rLims, xlabel='CR', ylabel='Count')\n",
    "\n",
    "ax.hist((\n",
    "    df0[df0['Category'].isin(['generic'])]['CR'],\n",
    "    df0[df0['Category'].isin(['legendary'])]['CR'],\n",
    "    df0[df0['Category'].isin(['unique'])]['CR']), \n",
    "    rRange, density=False, histtype='stepfilled', stacked=True, label=['Generic','Legendary','Unique'])\n",
    "ax.legend()\n",
    "\n",
    "if SAVEFIGS: plt.savefig('monster-distribution.svg', metadata=METADATA)"
   ]
  },
  {
   "cell_type": "code",
   "execution_count": 3,
   "metadata": {},
   "outputs": [],
   "source": [
    "# summarize the current dataset\n",
    "df1 = df0[df0['CR'].between(1,30)]\n",
    "dfG = df1.groupby(['Book','Book Type','Date']).size().to_frame('Total')\n",
    "dfG['N'] = df1[df1['Legendary'].isin(['N'])].groupby(['Book','Book Type','Date']).size().to_frame('Count')\n",
    "dfG['L'] = df1[df1['Legendary'].isin(['L','LL'])].groupby(['Book','Book Type','Date']).size().to_frame('Count')\n",
    "dfG = dfG[dfG['Total'].gt(0)]\n",
    "dfG = dfG.sort_values(by=['Date'])\n",
    "dfG = dfG.reset_index()\n",
    "dfG = dfG[['Book','Date','Total']]\n",
    "\n",
    "nMid = np.floor(0.5*dfG.shape[0])\n",
    "\n",
    "dfG1 = dfG.loc[0:nMid, ['Book','Date','Total']].reset_index()\n",
    "dfG2 = dfG.loc[nMid+1:, ['Book','Date','Total']].reset_index()\n",
    "dfC = pd.concat([dfG1,dfG2], axis=1)\n",
    "dfC.drop(columns=['index'], inplace=True)\n",
    "dfC.to_html('./monsters-by-book.html', index=False, classes='center', float_format='{:,.0f}'.format, border=0, na_rep='')"
   ]
  }
 ],
 "metadata": {
  "interpreter": {
   "hash": "aee8b7b246df8f9039afb4144a1f6fd8d2ca17a180786b69acc140d282b71a49"
  },
  "kernelspec": {
   "display_name": "Python 3.9.7 64-bit",
   "name": "python3"
  },
  "language_info": {
   "codemirror_mode": {
    "name": "ipython",
    "version": 3
   },
   "file_extension": ".py",
   "mimetype": "text/x-python",
   "name": "python",
   "nbconvert_exporter": "python",
   "pygments_lexer": "ipython3",
   "version": "3.9.10"
  },
  "metadata": {
   "interpreter": {
    "hash": "aee8b7b246df8f9039afb4144a1f6fd8d2ca17a180786b69acc140d282b71a49"
   }
  },
  "orig_nbformat": 2
 },
 "nbformat": 4,
 "nbformat_minor": 2
}
