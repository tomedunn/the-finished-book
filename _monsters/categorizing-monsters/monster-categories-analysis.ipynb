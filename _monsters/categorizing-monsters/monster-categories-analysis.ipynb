{
 "cells": [
  {
   "cell_type": "code",
   "execution_count": null,
   "metadata": {},
   "outputs": [
    {
     "name": "stdout",
     "output_type": "stream",
     "text": [
      "Includes 2144 monsters in database\n"
     ]
    }
   ],
   "source": [
    "import pandas as pd\n",
    "pd.options.mode.chained_assignment = None  # default='warn'\n",
    "import plotly.graph_objects as go\n",
    "import sys\n",
    "sys.path.append('../../assets/python/')\n",
    "import tfb\n",
    "\n",
    "METADATA = {'Contributor': 'T. Dunn'}\n",
    "SAVEFIGS = False\n",
    "\n",
    "df0 = pd.read_csv('../../assets/data/monsters.csv')\n",
    "print('Includes {} monsters in database'.format(len(df0.index.to_list())))"
   ]
  },
  {
   "cell_type": "code",
   "execution_count": 2,
   "metadata": {},
   "outputs": [
    {
     "data": {
      "application/vnd.plotly.v1+json": {
       "config": {
        "autosizable": true,
        "displayModeBar": "hover",
        "displaylogo": false,
        "doubleClick": "reset",
        "modeBarButtonsToRemove": [
         "select2d",
         "lasso2d",
         "zoom2d",
         "zoomIn2d",
         "zoomOut2d",
         "pan2d",
         "autoScale2d",
         "hoverClosestCartesian",
         "hoverCompareCartesian",
         "toggleSpikelines",
         "resetScale2d"
        ],
        "plotlyServerURL": "https://plot.ly",
        "responsive": true,
        "showAxisDragHandles": false,
        "toImageButtonOptions": {
         "filename": "tfb-plot",
         "format": "png",
         "height": 450,
         "scale": 2,
         "width": 600
        }
       },
       "data": [
        {
         "customdata": [
          0.125,
          0.25,
          0.5,
          1,
          2,
          3,
          4,
          5,
          6,
          7,
          8,
          9,
          10,
          11,
          12,
          13,
          14,
          15,
          16,
          17,
          18,
          19,
          20,
          21,
          25
         ],
         "hovertemplate": "<b>generic</b><br>CR %{customdata}<br>Monsters %{y:,.0f}<extra></extra>",
         "name": "generic",
         "type": "bar",
         "width": [
          0.125,
          0.1875,
          0.375,
          0.75,
          1,
          1,
          1,
          1,
          1,
          1,
          1,
          1,
          1,
          1,
          1,
          1,
          1,
          1,
          1,
          1,
          1,
          1,
          1,
          1,
          1
         ],
         "x": [
          0.125,
          0.28125,
          0.5625,
          1.125,
          2,
          3,
          4,
          5,
          6,
          7,
          8,
          9,
          10,
          11,
          12,
          13,
          14,
          15,
          16,
          17,
          18,
          19,
          20,
          21,
          25
         ],
         "y": [
          52,
          103,
          96,
          118,
          177,
          145,
          105,
          125,
          76,
          74,
          67,
          52,
          40,
          36,
          26,
          23,
          10,
          9,
          9,
          9,
          3,
          5,
          4,
          3,
          2
         ]
        },
        {
         "customdata": [
          3,
          4,
          5,
          6,
          8,
          10,
          11,
          12,
          13,
          14,
          15,
          16,
          17,
          18,
          19,
          20,
          21,
          22,
          23,
          24,
          25,
          26,
          27,
          28
         ],
         "hovertemplate": "<b>legendary</b><br>CR %{customdata}<br>Monsters %{y:,.0f}<extra></extra>",
         "name": "legendary",
         "type": "bar",
         "width": [
          1,
          1,
          1,
          1,
          1,
          1,
          1,
          1,
          1,
          1,
          1,
          1,
          1,
          1,
          1,
          1,
          1,
          1,
          1,
          1,
          1,
          1,
          1,
          1
         ],
         "x": [
          3,
          4,
          5,
          6,
          8,
          10,
          11,
          12,
          13,
          14,
          15,
          16,
          17,
          18,
          19,
          20,
          21,
          22,
          23,
          24,
          25,
          26,
          27,
          28
         ],
         "y": [
          1,
          1,
          1,
          1,
          1,
          4,
          6,
          12,
          12,
          15,
          16,
          13,
          13,
          12,
          5,
          9,
          13,
          12,
          10,
          6,
          3,
          8,
          8,
          5
         ]
        },
        {
         "customdata": [
          0.125,
          0.25,
          0.5,
          1,
          2,
          3,
          4,
          5,
          6,
          7,
          8,
          9,
          10,
          11,
          12,
          13,
          14,
          15,
          16,
          17,
          18,
          19,
          20,
          21,
          22,
          23,
          24,
          25,
          26,
          28,
          30
         ],
         "hovertemplate": "<b>unique</b><br>CR %{customdata}<br>Monsters %{y:,.0f}<extra></extra>",
         "name": "unique",
         "type": "bar",
         "width": [
          0.125,
          0.1875,
          0.375,
          0.75,
          1,
          1,
          1,
          1,
          1,
          1,
          1,
          1,
          1,
          1,
          1,
          1,
          1,
          1,
          1,
          1,
          1,
          1,
          1,
          1,
          1,
          1,
          1,
          1,
          1,
          1,
          1
         ],
         "x": [
          0.125,
          0.28125,
          0.5625,
          1.125,
          2,
          3,
          4,
          5,
          6,
          7,
          8,
          9,
          10,
          11,
          12,
          13,
          14,
          15,
          16,
          17,
          18,
          19,
          20,
          21,
          22,
          23,
          24,
          25,
          26,
          28,
          30
         ],
         "y": [
          3,
          5,
          10,
          10,
          19,
          24,
          15,
          30,
          12,
          15,
          24,
          15,
          11,
          14,
          5,
          8,
          7,
          5,
          6,
          4,
          8,
          5,
          3,
          6,
          10,
          16,
          10,
          7,
          7,
          2,
          4
         ]
        }
       ],
       "layout": {
        "barmode": "stack",
        "height": 450,
        "legend": {
         "orientation": "v",
         "tracegroupgap": 0,
         "traceorder": "normal",
         "x": 1,
         "xanchor": "right",
         "y": 1,
         "yanchor": "top"
        },
        "margin": {
         "b": 55,
         "l": 70,
         "pad": 4,
         "r": 25,
         "t": 20
        },
        "template": {
         "layout": {
          "autosize": false,
          "font": {
           "family": "sans-serif",
           "size": 14
          },
          "hoverlabel": {
           "align": "left"
          },
          "hovermode": "closest",
          "margin": {
           "b": 55,
           "l": 60,
           "pad": 4,
           "r": 25,
           "t": 20
          },
          "template": {
           "data": {
            "bar": [
             {
              "error_x": {
               "color": "#2a3f5f"
              },
              "error_y": {
               "color": "#2a3f5f"
              },
              "marker": {
               "line": {
                "color": "white",
                "width": 0.5
               },
               "pattern": {
                "fillmode": "overlay",
                "size": 10,
                "solidity": 0.2
               }
              },
              "type": "bar"
             }
            ],
            "barpolar": [
             {
              "marker": {
               "line": {
                "color": "white",
                "width": 0.5
               },
               "pattern": {
                "fillmode": "overlay",
                "size": 10,
                "solidity": 0.2
               }
              },
              "type": "barpolar"
             }
            ],
            "carpet": [
             {
              "aaxis": {
               "endlinecolor": "#2a3f5f",
               "gridcolor": "#C8D4E3",
               "linecolor": "#C8D4E3",
               "minorgridcolor": "#C8D4E3",
               "startlinecolor": "#2a3f5f"
              },
              "baxis": {
               "endlinecolor": "#2a3f5f",
               "gridcolor": "#C8D4E3",
               "linecolor": "#C8D4E3",
               "minorgridcolor": "#C8D4E3",
               "startlinecolor": "#2a3f5f"
              },
              "type": "carpet"
             }
            ],
            "choropleth": [
             {
              "colorbar": {
               "outlinewidth": 0,
               "ticks": ""
              },
              "type": "choropleth"
             }
            ],
            "contour": [
             {
              "colorbar": {
               "outlinewidth": 0,
               "ticks": ""
              },
              "colorscale": [
               [
                0,
                "#0d0887"
               ],
               [
                0.1111111111111111,
                "#46039f"
               ],
               [
                0.2222222222222222,
                "#7201a8"
               ],
               [
                0.3333333333333333,
                "#9c179e"
               ],
               [
                0.4444444444444444,
                "#bd3786"
               ],
               [
                0.5555555555555556,
                "#d8576b"
               ],
               [
                0.6666666666666666,
                "#ed7953"
               ],
               [
                0.7777777777777778,
                "#fb9f3a"
               ],
               [
                0.8888888888888888,
                "#fdca26"
               ],
               [
                1,
                "#f0f921"
               ]
              ],
              "type": "contour"
             }
            ],
            "contourcarpet": [
             {
              "colorbar": {
               "outlinewidth": 0,
               "ticks": ""
              },
              "type": "contourcarpet"
             }
            ],
            "heatmap": [
             {
              "colorbar": {
               "outlinewidth": 0,
               "ticks": ""
              },
              "colorscale": [
               [
                0,
                "#0d0887"
               ],
               [
                0.1111111111111111,
                "#46039f"
               ],
               [
                0.2222222222222222,
                "#7201a8"
               ],
               [
                0.3333333333333333,
                "#9c179e"
               ],
               [
                0.4444444444444444,
                "#bd3786"
               ],
               [
                0.5555555555555556,
                "#d8576b"
               ],
               [
                0.6666666666666666,
                "#ed7953"
               ],
               [
                0.7777777777777778,
                "#fb9f3a"
               ],
               [
                0.8888888888888888,
                "#fdca26"
               ],
               [
                1,
                "#f0f921"
               ]
              ],
              "type": "heatmap"
             }
            ],
            "heatmapgl": [
             {
              "colorbar": {
               "outlinewidth": 0,
               "ticks": ""
              },
              "colorscale": [
               [
                0,
                "#0d0887"
               ],
               [
                0.1111111111111111,
                "#46039f"
               ],
               [
                0.2222222222222222,
                "#7201a8"
               ],
               [
                0.3333333333333333,
                "#9c179e"
               ],
               [
                0.4444444444444444,
                "#bd3786"
               ],
               [
                0.5555555555555556,
                "#d8576b"
               ],
               [
                0.6666666666666666,
                "#ed7953"
               ],
               [
                0.7777777777777778,
                "#fb9f3a"
               ],
               [
                0.8888888888888888,
                "#fdca26"
               ],
               [
                1,
                "#f0f921"
               ]
              ],
              "type": "heatmapgl"
             }
            ],
            "histogram": [
             {
              "marker": {
               "pattern": {
                "fillmode": "overlay",
                "size": 10,
                "solidity": 0.2
               }
              },
              "type": "histogram"
             }
            ],
            "histogram2d": [
             {
              "colorbar": {
               "outlinewidth": 0,
               "ticks": ""
              },
              "colorscale": [
               [
                0,
                "#0d0887"
               ],
               [
                0.1111111111111111,
                "#46039f"
               ],
               [
                0.2222222222222222,
                "#7201a8"
               ],
               [
                0.3333333333333333,
                "#9c179e"
               ],
               [
                0.4444444444444444,
                "#bd3786"
               ],
               [
                0.5555555555555556,
                "#d8576b"
               ],
               [
                0.6666666666666666,
                "#ed7953"
               ],
               [
                0.7777777777777778,
                "#fb9f3a"
               ],
               [
                0.8888888888888888,
                "#fdca26"
               ],
               [
                1,
                "#f0f921"
               ]
              ],
              "type": "histogram2d"
             }
            ],
            "histogram2dcontour": [
             {
              "colorbar": {
               "outlinewidth": 0,
               "ticks": ""
              },
              "colorscale": [
               [
                0,
                "#0d0887"
               ],
               [
                0.1111111111111111,
                "#46039f"
               ],
               [
                0.2222222222222222,
                "#7201a8"
               ],
               [
                0.3333333333333333,
                "#9c179e"
               ],
               [
                0.4444444444444444,
                "#bd3786"
               ],
               [
                0.5555555555555556,
                "#d8576b"
               ],
               [
                0.6666666666666666,
                "#ed7953"
               ],
               [
                0.7777777777777778,
                "#fb9f3a"
               ],
               [
                0.8888888888888888,
                "#fdca26"
               ],
               [
                1,
                "#f0f921"
               ]
              ],
              "type": "histogram2dcontour"
             }
            ],
            "mesh3d": [
             {
              "colorbar": {
               "outlinewidth": 0,
               "ticks": ""
              },
              "type": "mesh3d"
             }
            ],
            "parcoords": [
             {
              "line": {
               "colorbar": {
                "outlinewidth": 0,
                "ticks": ""
               }
              },
              "type": "parcoords"
             }
            ],
            "pie": [
             {
              "automargin": true,
              "type": "pie"
             }
            ],
            "scatter": [
             {
              "fillpattern": {
               "fillmode": "overlay",
               "size": 10,
               "solidity": 0.2
              },
              "type": "scatter"
             }
            ],
            "scatter3d": [
             {
              "line": {
               "colorbar": {
                "outlinewidth": 0,
                "ticks": ""
               }
              },
              "marker": {
               "colorbar": {
                "outlinewidth": 0,
                "ticks": ""
               }
              },
              "type": "scatter3d"
             }
            ],
            "scattercarpet": [
             {
              "marker": {
               "colorbar": {
                "outlinewidth": 0,
                "ticks": ""
               }
              },
              "type": "scattercarpet"
             }
            ],
            "scattergeo": [
             {
              "marker": {
               "colorbar": {
                "outlinewidth": 0,
                "ticks": ""
               }
              },
              "type": "scattergeo"
             }
            ],
            "scattergl": [
             {
              "marker": {
               "colorbar": {
                "outlinewidth": 0,
                "ticks": ""
               }
              },
              "type": "scattergl"
             }
            ],
            "scattermapbox": [
             {
              "marker": {
               "colorbar": {
                "outlinewidth": 0,
                "ticks": ""
               }
              },
              "type": "scattermapbox"
             }
            ],
            "scatterpolar": [
             {
              "marker": {
               "colorbar": {
                "outlinewidth": 0,
                "ticks": ""
               }
              },
              "type": "scatterpolar"
             }
            ],
            "scatterpolargl": [
             {
              "marker": {
               "colorbar": {
                "outlinewidth": 0,
                "ticks": ""
               }
              },
              "type": "scatterpolargl"
             }
            ],
            "scatterternary": [
             {
              "marker": {
               "colorbar": {
                "outlinewidth": 0,
                "ticks": ""
               }
              },
              "type": "scatterternary"
             }
            ],
            "surface": [
             {
              "colorbar": {
               "outlinewidth": 0,
               "ticks": ""
              },
              "colorscale": [
               [
                0,
                "#0d0887"
               ],
               [
                0.1111111111111111,
                "#46039f"
               ],
               [
                0.2222222222222222,
                "#7201a8"
               ],
               [
                0.3333333333333333,
                "#9c179e"
               ],
               [
                0.4444444444444444,
                "#bd3786"
               ],
               [
                0.5555555555555556,
                "#d8576b"
               ],
               [
                0.6666666666666666,
                "#ed7953"
               ],
               [
                0.7777777777777778,
                "#fb9f3a"
               ],
               [
                0.8888888888888888,
                "#fdca26"
               ],
               [
                1,
                "#f0f921"
               ]
              ],
              "type": "surface"
             }
            ],
            "table": [
             {
              "cells": {
               "fill": {
                "color": "#EBF0F8"
               },
               "line": {
                "color": "white"
               }
              },
              "header": {
               "fill": {
                "color": "#C8D4E3"
               },
               "line": {
                "color": "white"
               }
              },
              "type": "table"
             }
            ]
           },
           "layout": {
            "annotationdefaults": {
             "arrowcolor": "#2a3f5f",
             "arrowhead": 0,
             "arrowwidth": 1
            },
            "autotypenumbers": "strict",
            "coloraxis": {
             "colorbar": {
              "outlinewidth": 0,
              "ticks": ""
             }
            },
            "colorscale": {
             "diverging": [
              [
               0,
               "#8e0152"
              ],
              [
               0.1,
               "#c51b7d"
              ],
              [
               0.2,
               "#de77ae"
              ],
              [
               0.3,
               "#f1b6da"
              ],
              [
               0.4,
               "#fde0ef"
              ],
              [
               0.5,
               "#f7f7f7"
              ],
              [
               0.6,
               "#e6f5d0"
              ],
              [
               0.7,
               "#b8e186"
              ],
              [
               0.8,
               "#7fbc41"
              ],
              [
               0.9,
               "#4d9221"
              ],
              [
               1,
               "#276419"
              ]
             ],
             "sequential": [
              [
               0,
               "#0d0887"
              ],
              [
               0.1111111111111111,
               "#46039f"
              ],
              [
               0.2222222222222222,
               "#7201a8"
              ],
              [
               0.3333333333333333,
               "#9c179e"
              ],
              [
               0.4444444444444444,
               "#bd3786"
              ],
              [
               0.5555555555555556,
               "#d8576b"
              ],
              [
               0.6666666666666666,
               "#ed7953"
              ],
              [
               0.7777777777777778,
               "#fb9f3a"
              ],
              [
               0.8888888888888888,
               "#fdca26"
              ],
              [
               1,
               "#f0f921"
              ]
             ],
             "sequentialminus": [
              [
               0,
               "#0d0887"
              ],
              [
               0.1111111111111111,
               "#46039f"
              ],
              [
               0.2222222222222222,
               "#7201a8"
              ],
              [
               0.3333333333333333,
               "#9c179e"
              ],
              [
               0.4444444444444444,
               "#bd3786"
              ],
              [
               0.5555555555555556,
               "#d8576b"
              ],
              [
               0.6666666666666666,
               "#ed7953"
              ],
              [
               0.7777777777777778,
               "#fb9f3a"
              ],
              [
               0.8888888888888888,
               "#fdca26"
              ],
              [
               1,
               "#f0f921"
              ]
             ]
            },
            "colorway": [
             "#636efa",
             "#EF553B",
             "#00cc96",
             "#ab63fa",
             "#FFA15A",
             "#19d3f3",
             "#FF6692",
             "#B6E880",
             "#FF97FF",
             "#FECB52"
            ],
            "font": {
             "color": "#2a3f5f"
            },
            "geo": {
             "bgcolor": "white",
             "lakecolor": "white",
             "landcolor": "white",
             "showlakes": true,
             "showland": true,
             "subunitcolor": "#C8D4E3"
            },
            "hoverlabel": {
             "align": "left"
            },
            "hovermode": "closest",
            "mapbox": {
             "style": "light"
            },
            "paper_bgcolor": "white",
            "plot_bgcolor": "white",
            "polar": {
             "angularaxis": {
              "gridcolor": "#EBF0F8",
              "linecolor": "#EBF0F8",
              "ticks": ""
             },
             "bgcolor": "white",
             "radialaxis": {
              "gridcolor": "#EBF0F8",
              "linecolor": "#EBF0F8",
              "ticks": ""
             }
            },
            "scene": {
             "xaxis": {
              "backgroundcolor": "white",
              "gridcolor": "#DFE8F3",
              "gridwidth": 2,
              "linecolor": "#EBF0F8",
              "showbackground": true,
              "ticks": "",
              "zerolinecolor": "#EBF0F8"
             },
             "yaxis": {
              "backgroundcolor": "white",
              "gridcolor": "#DFE8F3",
              "gridwidth": 2,
              "linecolor": "#EBF0F8",
              "showbackground": true,
              "ticks": "",
              "zerolinecolor": "#EBF0F8"
             },
             "zaxis": {
              "backgroundcolor": "white",
              "gridcolor": "#DFE8F3",
              "gridwidth": 2,
              "linecolor": "#EBF0F8",
              "showbackground": true,
              "ticks": "",
              "zerolinecolor": "#EBF0F8"
             }
            },
            "shapedefaults": {
             "line": {
              "color": "#2a3f5f"
             }
            },
            "ternary": {
             "aaxis": {
              "gridcolor": "#DFE8F3",
              "linecolor": "#A2B1C6",
              "ticks": ""
             },
             "baxis": {
              "gridcolor": "#DFE8F3",
              "linecolor": "#A2B1C6",
              "ticks": ""
             },
             "bgcolor": "white",
             "caxis": {
              "gridcolor": "#DFE8F3",
              "linecolor": "#A2B1C6",
              "ticks": ""
             }
            },
            "title": {
             "x": 0.05
            },
            "xaxis": {
             "automargin": true,
             "gridcolor": "#EBF0F8",
             "linecolor": "#EBF0F8",
             "ticks": "",
             "title": {
              "standoff": 15
             },
             "zerolinecolor": "#EBF0F8",
             "zerolinewidth": 2
            },
            "yaxis": {
             "automargin": true,
             "gridcolor": "#EBF0F8",
             "linecolor": "#EBF0F8",
             "ticks": "",
             "title": {
              "standoff": 15
             },
             "zerolinecolor": "#EBF0F8",
             "zerolinewidth": 2
            }
           }
          },
          "xaxis": {
           "automargin": false,
           "linecolor": "#444",
           "linewidth": 2,
           "minor": {
            "tickmode": "linear",
            "ticks": "outside"
           },
           "mirror": true,
           "showline": true,
           "tickmode": "linear",
           "ticks": "outside",
           "zeroline": false
          },
          "yaxis": {
           "automargin": true,
           "linecolor": "#444",
           "linewidth": 2,
           "minor": {
            "tickmode": "linear",
            "ticks": "outside"
           },
           "mirror": true,
           "showline": true,
           "ticks": "outside",
           "zeroline": false
          }
         }
        },
        "width": 600,
        "xaxis": {
         "dtick": 5,
         "minor": {
          "dtick": 1,
          "tick0": 0
         },
         "range": [
          0,
          31
         ],
         "tick0": 0,
         "title": {
          "text": "challenge rating"
         }
        },
        "yaxis": {
         "dtick": 20,
         "minor": {
          "dtick": 10,
          "tick0": 0
         },
         "tick0": 0,
         "title": {
          "text": "monsters"
         }
        }
       }
      }
     },
     "metadata": {},
     "output_type": "display_data"
    }
   ],
   "source": [
    "# Fig. 1: plot the number of monsters by CR\n",
    "\n",
    "# create figure\n",
    "fig = go.Figure(\n",
    "    layout=go.Layout(\n",
    "        template=tfb.FIG_TEMPLATE,\n",
    "        margin=dict(l=70, r=25, b=55, t=20, pad=4),\n",
    "        barmode='stack',\n",
    "        xaxis=dict(\n",
    "            title_text='challenge rating',\n",
    "            range=[0, 31],\n",
    "            tick0=0, dtick=5,\n",
    "            minor=dict(tick0=0, dtick=1),\n",
    "        ),\n",
    "        yaxis=dict(\n",
    "            title_text='monsters',\n",
    "            #range=[0, 35],\n",
    "            tick0=0, dtick=20,\n",
    "            minor=dict(tick0=0, dtick=10),\n",
    "        ),\n",
    "        legend=dict(\n",
    "            xanchor='right', yanchor='top',\n",
    "            x=1.00, y=1.00,\n",
    "            orientation='v',\n",
    "            tracegroupgap=0,\n",
    "            traceorder='normal',\n",
    "        )\n",
    "    )\n",
    ")\n",
    "\n",
    "def x_decoder(x):\n",
    "    match x:\n",
    "        case 0:\n",
    "            return 0\n",
    "        case 0.125:\n",
    "            return 0.125\n",
    "        case 0.25:\n",
    "            return 0.28125\n",
    "        case 0.5:\n",
    "            return 0.5625\n",
    "        case 1:\n",
    "            return 1.125\n",
    "        case _:\n",
    "            return x\n",
    "\n",
    "def w_decoder(x):\n",
    "    match x:\n",
    "        case 0:\n",
    "            return 0.125\n",
    "        case 0.125:\n",
    "            return 0.125\n",
    "        case 0.25:\n",
    "            return 0.1875\n",
    "        case 0.5:\n",
    "            return 0.375\n",
    "        case 1:\n",
    "            return 0.75\n",
    "        case _:\n",
    "            return 1.0\n",
    "\n",
    "\n",
    "for g in ['generic','legendary','unique']:\n",
    "    dfC = df0[df0['CR'].gt(0) & df0['Category'].isin([g])].groupby(['CR']).count()\n",
    "    x = [x_decoder(cr) for cr in dfC.index]\n",
    "    w = [w_decoder(cr) for cr in dfC.index]\n",
    "    cr = dfC.index.to_list()\n",
    "    \n",
    "    fig.add_trace(go.Bar(\n",
    "        x=x,\n",
    "        y=dfC['Category'],\n",
    "        width=w,\n",
    "        name=g,\n",
    "        customdata=dfC.index,\n",
    "        hovertemplate = '<b>' + g + '</b><br>'\n",
    "            + 'CR %{customdata}<br>'\n",
    "            + 'Monsters %{y:,.0f}'\n",
    "            + '<extra></extra>'\n",
    "    ))\n",
    "    \n",
    "\n",
    "# show figure\n",
    "fig.update_layout(width=600, height=450)\n",
    "fig.show(config=tfb.FIG_CONFIG)\n",
    "\n",
    "# save figures\n",
    "if SAVEFIGS:\n",
    "    fig.update_layout(autosize=True, width=None, height=None)\n",
    "    tfb.save_fig_html(fig, format='large', name='fig-monster-distribution-large')\n",
    "    tfb.save_fig_html(fig, format='small', name='fig-monster-distribution-small')"
   ]
  }
 ],
 "metadata": {
  "kernelspec": {
   "display_name": "thefinishedbook",
   "language": "python",
   "name": "python3"
  },
  "language_info": {
   "codemirror_mode": {
    "name": "ipython",
    "version": 3
   },
   "file_extension": ".py",
   "mimetype": "text/x-python",
   "name": "python",
   "nbconvert_exporter": "python",
   "pygments_lexer": "ipython3",
   "version": "3.10.5"
  },
  "metadata": {
   "interpreter": {
    "hash": "aee8b7b246df8f9039afb4144a1f6fd8d2ca17a180786b69acc140d282b71a49"
   }
  },
  "orig_nbformat": 2
 },
 "nbformat": 4,
 "nbformat_minor": 2
}
