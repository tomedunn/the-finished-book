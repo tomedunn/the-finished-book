{
 "cells": [
  {
   "cell_type": "code",
   "execution_count": 134,
   "metadata": {},
   "outputs": [],
   "source": [
    "# set parameters\n",
    "import pandas as pd\n",
    "import numpy as np\n",
    "from bs4 import BeautifulSoup\n",
    "from matplotlib import pyplot as plt\n",
    "from matplotlib.ticker import (MultipleLocator, FormatStrFormatter, AutoMinorLocator)\n",
    "pd.options.mode.chained_assignment = None  # default='warn'\n",
    "\n",
    "METADATA = {'Contributor': 'T. Dunn'}\n",
    "FSIZE = [5,4]\n",
    "FDPI = 100\n",
    "SAVEFIGS = False"
   ]
  },
  {
   "cell_type": "code",
   "execution_count": 135,
   "metadata": {},
   "outputs": [],
   "source": [
    "# Setup template and html config for plotly figures.\n",
    "import plotly.graph_objects as go\n",
    "\n",
    "TFB_TEMPLATE = dict(\n",
    "    layout=go.Layout(\n",
    "        template='plotly_white',\n",
    "        autosize=True, # must be True to auto-scale when resizing\n",
    "        margin=dict(l=50, r=25, b=40, t=20, pad=4),\n",
    "        font=dict(\n",
    "            family='sans-serif',\n",
    "            size=14\n",
    "        ),\n",
    "        hovermode='closest',\n",
    "        xaxis=dict(\n",
    "            automargin=False,\n",
    "            showline=True,\n",
    "            linecolor='#444',\n",
    "            linewidth=2,\n",
    "            mirror=True,\n",
    "            tickmode='linear',\n",
    "            ticks='outside',\n",
    "            minor=dict(\n",
    "                tickmode='linear',\n",
    "                ticks='outside',\n",
    "            ),\n",
    "            zeroline=False,\n",
    "        ),\n",
    "        yaxis=dict(\n",
    "            automargin=False,\n",
    "            showline=True,\n",
    "            linecolor='#444',\n",
    "            linewidth=2,\n",
    "            mirror=True,\n",
    "            ticks='outside',\n",
    "            minor=dict(\n",
    "                ticks='outside',\n",
    "            ),\n",
    "            zeroline=False,\n",
    "        ),\n",
    "        hoverlabel=dict(align='left'),\n",
    "    )\n",
    ")\n",
    "\n",
    "TFB_CONFIG = {\n",
    "    'responsive': True, # must be True to auto-scale when resizing\n",
    "    'autosizable': True, # doesn't impact auto rescaling\n",
    "    'showAxisDragHandles': False,\n",
    "    'displaylogo': False,\n",
    "    'displayModeBar': 'hover',\n",
    "    'modeBarButtonsToRemove': [\n",
    "        'select2d',\n",
    "        'lasso2d',\n",
    "        'zoom2d',\n",
    "        'zoomIn2d',\n",
    "        'zoomOut2d',\n",
    "        'pan2d',\n",
    "        'autoScale2d',\n",
    "        'hoverClosestCartesian',\n",
    "        'hoverCompareCartesian',\n",
    "        'toggleSpikelines',\n",
    "        'resetScale2d',\n",
    "    ],\n",
    "    'toImageButtonOptions': {\n",
    "        'format': 'png', # one of png, svg, jpeg, webp\n",
    "        'filename': 'tfb-plot',\n",
    "        'height': 450,\n",
    "        'width': 600,\n",
    "        'scale': 2\n",
    "    },\n",
    "}"
   ]
  },
  {
   "cell_type": "code",
   "execution_count": 136,
   "metadata": {},
   "outputs": [],
   "source": [
    "# define functions\n",
    "P0 = 0.65  # Baseline chance to hit\n",
    "AB0 = 3    # Baseline attack bonus\n",
    "AC0 = 12   # Baseline armor class\n",
    "SB0 = -2   # Baseline saving throw bonus\n",
    "DC0 = 12   # Baseline save DC\n",
    "\n",
    "def effective_DPR_exp(DPR, AB):\n",
    "    return np.power(P0,  0.5)*DPR*np.power(1 + (1/(20*P0)), AB - AB0)\n",
    "\n",
    "def effective_HP_exp(HP, AC):\n",
    "    return np.power(P0, -0.5)*HP*np.power(1 + (1/(20*P0)), AC - AC0)\n",
    "\n",
    "def effective_XP_exp(HP, AC, DPR, AB):\n",
    "    return 0.25*HP*DPR*np.power(1 + (1/(20*P0)), AC + AB - (AB0 + AC0))\n",
    "\n",
    "def effective_DPR_linear(DPR, AB):\n",
    "    return np.power(P0,  0.5)*DPR*(1 + (1/(20*P0))*(AB - AB0))\n",
    "\n",
    "def effective_HP_linear(HP, AC):\n",
    "    return np.power(P0, -0.5)*HP*(1 + (1/(20*P0))*(AC - AC0))\n",
    "\n",
    "def effective_XP_linear(HP, AC, DPR, AB):\n",
    "    return 0.25*HP*DPR*(1 + (1/(20*P0))*(AC + AB - (AB0 + AC0)))\n",
    "\n",
    "def find_nearest_loc(array, value):\n",
    "    array = np.asarray(array)\n",
    "    idx = (np.abs(array - value)).argmin()\n",
    "    return idx\n",
    "\n",
    "def find_nearest_CR(CRs, array, value):\n",
    "    idx = find_nearest_loc(array, value)\n",
    "    CRs = np.asarray(CRs)\n",
    "    return CRs[idx]\n",
    "\n",
    "def defensive_CR(df, HP, AC):\n",
    "    n = df.shape[0]\n",
    "    id = find_nearest_loc(df['HP Mean'], HP)\n",
    "    CR_t = df.index[id]\n",
    "    AC_t = df['AC'].loc[CR_t]\n",
    "    id = int(max(0, min(n - 1, id + np.fix(0.5*(AC - AC_t)))))\n",
    "    CR = df.index[id]\n",
    "    return CR\n",
    "\n",
    "def offensive_CR(df, DPR, AB):\n",
    "    n = df.shape[0]\n",
    "    id = find_nearest_loc(df['DPR Mean'], DPR)\n",
    "    CR_t = df.index[id]\n",
    "    AB_t = df['AB'].loc[CR_t]\n",
    "    id = int(max(0, min(n - 1, id + np.fix(0.5*(AB - AB_t)))))\n",
    "    CR = df.index[id]\n",
    "    return CR\n",
    "    \n",
    "def rsquared(y, yf):\n",
    "    y = np.asarray(y)\n",
    "    yf = np.asarray(yf)\n",
    "    ybar = np.mean(y)\n",
    "    SStot = np.sum(np.power(np.subtract(y, ybar), 2))\n",
    "    SSres = np.sum(np.power(y - yf, 2))\n",
    "    return 1 - SSres/SStot"
   ]
  },
  {
   "cell_type": "code",
   "execution_count": 137,
   "metadata": {},
   "outputs": [
    {
     "name": "stdout",
     "output_type": "stream",
     "text": [
      "Includes 1781 monsters in database\n"
     ]
    }
   ],
   "source": [
    "# import data\n",
    "dfD = pd.read_csv('../../assets/data/dmg-targets.csv') # 'CR','PB','XP','AC','HP Mean','AB','DPR Mean'\n",
    "dfD['eHP Mean']  = dfD.apply(lambda row: effective_HP_linear(row['HP Mean'], row['AC']), axis=1)\n",
    "dfD['eDPR Mean'] = dfD.apply(lambda row: effective_DPR_linear(row['DPR Mean'], row['AB']), axis=1)\n",
    "dfD['eXP Mean'] = dfD.apply(lambda row: effective_XP_linear(row['HP Mean'], row['AC'], row['DPR Mean'], row['AB']), axis=1)\n",
    "dfD.set_index('CR', inplace=True)\n",
    "\n",
    "xp2cr  = np.poly1d(np.polyfit(dfD['eXP Mean'],  dfD.index, 3))\n",
    "hp2cr  = np.poly1d(np.polyfit(dfD['eHP Mean'],  dfD.index, 3))\n",
    "dpr2cr = np.poly1d(np.polyfit(dfD['eDPR Mean'], dfD.index, 3))\n",
    "\n",
    "df0 = pd.read_csv('monster-cr-and-xp.csv')  # 'Book','Page','Type','Category','Legendary','CR','PB','XP',\n",
    "                                            # 'HP','AC','adj HP','adj AC',\n",
    "                                            # 'AB','adj AB','DPR', 'adj DPR'\n",
    "\n",
    "df0['eHP']  = df0.apply(lambda row: effective_HP_linear(row['adj HP'], row['adj AC']), axis=1)\n",
    "df0['eDPR'] = df0.apply(lambda row: effective_DPR_linear(row['adj DPR'], row['adj AB']), axis=1)\n",
    "df0['eXP']  = df0.apply(lambda row: effective_XP_linear(row['adj HP'], row['adj AC'], row['adj DPR'], row['adj AB']), axis=1)\n",
    "\n",
    "df0['D-eCR']  = df0.apply(lambda row: float(np.interp(row['eHP'], dfD['eHP Mean'],  dfD.index, left=0, right=30)), axis=1)\n",
    "df0['O-eCR']  = df0.apply(lambda row: float(np.interp(row['eDPR'], dfD['eDPR Mean'],  dfD.index, left=0, right=30)), axis=1)\n",
    "df0['eCR']  = df0.apply(lambda row: float(np.interp(row['eXP'], dfD['eXP Mean'],  dfD.index, left=0, right=30)), axis=1)\n",
    "\n",
    "df0['eHP Ratio'] = df0.apply(lambda row: row['eHP']/dfD.loc[row['CR'], 'eHP Mean'], axis=1)\n",
    "df0['eDPR Ratio'] = df0.apply(lambda row: row['eDPR']/dfD.loc[row['CR'], 'eDPR Mean'], axis=1)\n",
    "df0['eCR Delta'] = df0['eCR'] - df0['CR']\n",
    "df0['eXP Ratio'] = df0['eXP'] / df0['XP']\n",
    "df0['eXP Skew'] = (df0['eDPR Ratio'] - df0['eHP Ratio'])/(df0['eDPR Ratio'] + df0['eHP Ratio'])\n",
    "\n",
    "df0['D-CR DMG'] = df0.apply(lambda row: defensive_CR(dfD, row['adj HP'], row['adj AC']), axis=1)\n",
    "df0['O-CR DMG'] = df0.apply(lambda row: offensive_CR(dfD, row['adj DPR'], row['adj AB']), axis=1)\n",
    "df0['C-CR DMG'] = df0.apply(lambda row: find_nearest_CR(dfD.index, dfD.index, 0.5*(row['D-CR DMG'] + row['O-CR DMG'])), axis=1)\n",
    "df0['C-CR DMG Delta'] = df0['C-CR DMG'] - df0['CR']\n",
    "df0['XP DMG'] = df0.apply(lambda row: dfD.loc[row['C-CR DMG'], 'XP'], axis=1)\n",
    "df0['XP DMG Ratio'] = df0['XP DMG'] / df0['XP']\n",
    "#df0['C-CR DMG'] = 0.5*(df0['D-CR DMG'] + df0['O-CR DMG'])\n",
    "df0['CR spread'] = df0['CR'] + np.random.rand(len(df0.index.tolist())) - 0.5\n",
    "\n",
    "len(df0.index.tolist())\n",
    "print('Includes {} monsters in database'.format(len(df0.index.to_list())))"
   ]
  },
  {
   "cell_type": "code",
   "execution_count": 117,
   "metadata": {},
   "outputs": [
    {
     "data": {
      "application/vnd.plotly.v1+json": {
       "config": {
        "autosizable": true,
        "displayModeBar": "hover",
        "displaylogo": false,
        "modeBarButtonsToRemove": [
         "select2d",
         "lasso2d",
         "zoom2d",
         "zoomIn2d",
         "zoomOut2d",
         "pan2d",
         "autoScale2d",
         "hoverClosestCartesian",
         "hoverCompareCartesian",
         "toggleSpikelines",
         "resetScale2d"
        ],
        "plotlyServerURL": "https://plot.ly",
        "responsive": true,
        "showAxisDragHandles": false,
        "toImageButtonOptions": {
         "filename": "tfb-plot",
         "format": "png",
         "height": 450,
         "scale": 2,
         "width": 600
        }
       },
       "data": [
        {
         "hoverinfo": "skip",
         "legendgroup": "mean",
         "line": {
          "width": 0
         },
         "showlegend": false,
         "type": "scatter",
         "x": [
          25,
          50,
          100,
          200,
          450,
          700,
          1100,
          1800,
          2300,
          2900,
          3900,
          5000,
          5900,
          7200,
          8400,
          10000,
          11500,
          13000,
          15000,
          18000,
          20000,
          22000,
          25000,
          33000,
          41000,
          50000,
          62000,
          75000,
          90000,
          105000,
          120000,
          155000
         ],
         "y": [
          21.93910229326923,
          48.74423076923077,
          87.5,
          192.5999970923077,
          411.8987062153847,
          705.2307692307692,
          1149.2307415384616,
          1849.9552884615389,
          2543.0769230769233,
          3514.677633869231,
          4349.401923076923,
          5261.538251076923,
          6654.461538461539,
          9132.490200000004,
          11646.808792700002,
          15069.28374643846,
          16687.61754623846,
          19955.92862603077,
          22245.759381605774,
          28208.314755161537,
          33969.05739692308,
          28479.230769230773,
          36913.2576923077,
          45101.29205473077,
          53562.21196846154,
          76830.00923076925,
          81011.38153846153,
          113058.50679284615,
          102007.31076923077,
          91922.3076923077,
          135006.29153846155,
          368365.87624546164
         ]
        },
        {
         "fill": "tonexty",
         "fillcolor": "rgba(0, 0, 255, 0.4)",
         "hoverinfo": "skip",
         "legendgroup": "mean",
         "line": {
          "width": 0
         },
         "name": "80% confidence",
         "type": "scatter",
         "x": [
          25,
          50,
          100,
          200,
          450,
          700,
          1100,
          1800,
          2300,
          2900,
          3900,
          5000,
          5900,
          7200,
          8400,
          10000,
          11500,
          13000,
          15000,
          18000,
          20000,
          22000,
          25000,
          33000,
          41000,
          50000,
          62000,
          75000,
          90000,
          105000,
          120000,
          155000
         ],
         "y": [
          7.701923076923077,
          19.972115384615382,
          36.65576923076923,
          86.17067065384614,
          164.9182681730769,
          361.10769230769233,
          561.9692407384615,
          1004.9711538461538,
          1429.6077244615385,
          1856.7432692307693,
          2213.8383702461538,
          3174.9488015,
          3674.7631703384614,
          5209.384488,
          6885.2269230769225,
          7125.115384615382,
          7318.075000000001,
          9247.701346153846,
          12101.798103576923,
          14071.35317926154,
          17589.507692307692,
          15447.115384615385,
          17811.634615384617,
          26669.403846153848,
          31573.53830173846,
          41242.03947138461,
          53057.98131576923,
          60366.43853783654,
          70491.02307692308,
          91922.3076923077,
          102825,
          130864.01903764614
         ]
        },
        {
         "hovertemplate": "<b>mean</b><br>XP %{x:,.0f}<br>Calc XP %{y:,.0f}<br><extra></extra>",
         "legendgroup": "mean",
         "line": {
          "color": "blue"
         },
         "mode": "lines",
         "name": "mean",
         "type": "scatter",
         "x": [
          25,
          50,
          100,
          200,
          450,
          700,
          1100,
          1800,
          2300,
          2900,
          3900,
          5000,
          5900,
          7200,
          8400,
          10000,
          11500,
          13000,
          15000,
          18000,
          20000,
          22000,
          25000,
          33000,
          41000,
          50000,
          62000,
          75000,
          90000,
          105000,
          120000,
          155000
         ],
         "y": [
          14.093492441792582,
          33.90535017704116,
          60.85661989275148,
          134.61308604897837,
          279.44817817761884,
          521.9414026002404,
          862.7253640311037,
          1428.4177653926715,
          2002.266961573028,
          2559.1595184941393,
          3305.910674390769,
          4290.565120549811,
          5315.975369453846,
          7490.022507082418,
          9258.186899863362,
          10538.341023090843,
          12310.910573064615,
          14106.310119786058,
          16623.796557201564,
          19731.5602287297,
          23544.33843331222,
          25244.586502720278,
          26675.42001121429,
          35005.11317084008,
          40450.25355451111,
          58318.03081325428,
          66216.46994747738,
          83818.51119250963,
          85510.6019535218,
          91922.3076923077,
          112856.2304945055,
          222118.64176561538
         ]
        },
        {
         "hovertemplate": "<b>DMG</b><br>XP %{x:,.0f}<extra></extra>",
         "line": {
          "color": "black",
          "dash": "dash"
         },
         "mode": "lines",
         "name": "DMG",
         "type": "scatter",
         "x": [
          25,
          50,
          100,
          200,
          450,
          700,
          1100,
          1800,
          2300,
          2900,
          3900,
          5000,
          5900,
          7200,
          8400,
          10000,
          11500,
          13000,
          15000,
          18000,
          20000,
          22000,
          25000,
          33000,
          41000,
          50000,
          62000,
          75000,
          90000,
          105000,
          120000,
          155000
         ],
         "y": [
          25,
          50,
          100,
          200,
          450,
          700,
          1100,
          1800,
          2300,
          2900,
          3900,
          5000,
          5900,
          7200,
          8400,
          10000,
          11500,
          13000,
          15000,
          18000,
          20000,
          22000,
          25000,
          33000,
          41000,
          50000,
          62000,
          75000,
          90000,
          105000,
          120000,
          155000
         ]
        }
       ],
       "layout": {
        "legend": {
         "orientation": "v",
         "tracegroupgap": 0,
         "x": 0,
         "xanchor": "left",
         "y": 1,
         "yanchor": "top"
        },
        "margin": {
         "b": 55,
         "l": 70,
         "pad": 4,
         "r": 25,
         "t": 20
        },
        "template": {
         "layout": {
          "autosize": true,
          "font": {
           "family": "sans-serif",
           "size": 14
          },
          "hoverlabel": {
           "align": "left"
          },
          "hovermode": "closest",
          "margin": {
           "b": 40,
           "l": 50,
           "pad": 4,
           "r": 25,
           "t": 20
          },
          "template": {
           "data": {
            "bar": [
             {
              "error_x": {
               "color": "#2a3f5f"
              },
              "error_y": {
               "color": "#2a3f5f"
              },
              "marker": {
               "line": {
                "color": "white",
                "width": 0.5
               },
               "pattern": {
                "fillmode": "overlay",
                "size": 10,
                "solidity": 0.2
               }
              },
              "type": "bar"
             }
            ],
            "barpolar": [
             {
              "marker": {
               "line": {
                "color": "white",
                "width": 0.5
               },
               "pattern": {
                "fillmode": "overlay",
                "size": 10,
                "solidity": 0.2
               }
              },
              "type": "barpolar"
             }
            ],
            "carpet": [
             {
              "aaxis": {
               "endlinecolor": "#2a3f5f",
               "gridcolor": "#C8D4E3",
               "linecolor": "#C8D4E3",
               "minorgridcolor": "#C8D4E3",
               "startlinecolor": "#2a3f5f"
              },
              "baxis": {
               "endlinecolor": "#2a3f5f",
               "gridcolor": "#C8D4E3",
               "linecolor": "#C8D4E3",
               "minorgridcolor": "#C8D4E3",
               "startlinecolor": "#2a3f5f"
              },
              "type": "carpet"
             }
            ],
            "choropleth": [
             {
              "colorbar": {
               "outlinewidth": 0,
               "ticks": ""
              },
              "type": "choropleth"
             }
            ],
            "contour": [
             {
              "colorbar": {
               "outlinewidth": 0,
               "ticks": ""
              },
              "colorscale": [
               [
                0,
                "#0d0887"
               ],
               [
                0.1111111111111111,
                "#46039f"
               ],
               [
                0.2222222222222222,
                "#7201a8"
               ],
               [
                0.3333333333333333,
                "#9c179e"
               ],
               [
                0.4444444444444444,
                "#bd3786"
               ],
               [
                0.5555555555555556,
                "#d8576b"
               ],
               [
                0.6666666666666666,
                "#ed7953"
               ],
               [
                0.7777777777777778,
                "#fb9f3a"
               ],
               [
                0.8888888888888888,
                "#fdca26"
               ],
               [
                1,
                "#f0f921"
               ]
              ],
              "type": "contour"
             }
            ],
            "contourcarpet": [
             {
              "colorbar": {
               "outlinewidth": 0,
               "ticks": ""
              },
              "type": "contourcarpet"
             }
            ],
            "heatmap": [
             {
              "colorbar": {
               "outlinewidth": 0,
               "ticks": ""
              },
              "colorscale": [
               [
                0,
                "#0d0887"
               ],
               [
                0.1111111111111111,
                "#46039f"
               ],
               [
                0.2222222222222222,
                "#7201a8"
               ],
               [
                0.3333333333333333,
                "#9c179e"
               ],
               [
                0.4444444444444444,
                "#bd3786"
               ],
               [
                0.5555555555555556,
                "#d8576b"
               ],
               [
                0.6666666666666666,
                "#ed7953"
               ],
               [
                0.7777777777777778,
                "#fb9f3a"
               ],
               [
                0.8888888888888888,
                "#fdca26"
               ],
               [
                1,
                "#f0f921"
               ]
              ],
              "type": "heatmap"
             }
            ],
            "heatmapgl": [
             {
              "colorbar": {
               "outlinewidth": 0,
               "ticks": ""
              },
              "colorscale": [
               [
                0,
                "#0d0887"
               ],
               [
                0.1111111111111111,
                "#46039f"
               ],
               [
                0.2222222222222222,
                "#7201a8"
               ],
               [
                0.3333333333333333,
                "#9c179e"
               ],
               [
                0.4444444444444444,
                "#bd3786"
               ],
               [
                0.5555555555555556,
                "#d8576b"
               ],
               [
                0.6666666666666666,
                "#ed7953"
               ],
               [
                0.7777777777777778,
                "#fb9f3a"
               ],
               [
                0.8888888888888888,
                "#fdca26"
               ],
               [
                1,
                "#f0f921"
               ]
              ],
              "type": "heatmapgl"
             }
            ],
            "histogram": [
             {
              "marker": {
               "pattern": {
                "fillmode": "overlay",
                "size": 10,
                "solidity": 0.2
               }
              },
              "type": "histogram"
             }
            ],
            "histogram2d": [
             {
              "colorbar": {
               "outlinewidth": 0,
               "ticks": ""
              },
              "colorscale": [
               [
                0,
                "#0d0887"
               ],
               [
                0.1111111111111111,
                "#46039f"
               ],
               [
                0.2222222222222222,
                "#7201a8"
               ],
               [
                0.3333333333333333,
                "#9c179e"
               ],
               [
                0.4444444444444444,
                "#bd3786"
               ],
               [
                0.5555555555555556,
                "#d8576b"
               ],
               [
                0.6666666666666666,
                "#ed7953"
               ],
               [
                0.7777777777777778,
                "#fb9f3a"
               ],
               [
                0.8888888888888888,
                "#fdca26"
               ],
               [
                1,
                "#f0f921"
               ]
              ],
              "type": "histogram2d"
             }
            ],
            "histogram2dcontour": [
             {
              "colorbar": {
               "outlinewidth": 0,
               "ticks": ""
              },
              "colorscale": [
               [
                0,
                "#0d0887"
               ],
               [
                0.1111111111111111,
                "#46039f"
               ],
               [
                0.2222222222222222,
                "#7201a8"
               ],
               [
                0.3333333333333333,
                "#9c179e"
               ],
               [
                0.4444444444444444,
                "#bd3786"
               ],
               [
                0.5555555555555556,
                "#d8576b"
               ],
               [
                0.6666666666666666,
                "#ed7953"
               ],
               [
                0.7777777777777778,
                "#fb9f3a"
               ],
               [
                0.8888888888888888,
                "#fdca26"
               ],
               [
                1,
                "#f0f921"
               ]
              ],
              "type": "histogram2dcontour"
             }
            ],
            "mesh3d": [
             {
              "colorbar": {
               "outlinewidth": 0,
               "ticks": ""
              },
              "type": "mesh3d"
             }
            ],
            "parcoords": [
             {
              "line": {
               "colorbar": {
                "outlinewidth": 0,
                "ticks": ""
               }
              },
              "type": "parcoords"
             }
            ],
            "pie": [
             {
              "automargin": true,
              "type": "pie"
             }
            ],
            "scatter": [
             {
              "fillpattern": {
               "fillmode": "overlay",
               "size": 10,
               "solidity": 0.2
              },
              "type": "scatter"
             }
            ],
            "scatter3d": [
             {
              "line": {
               "colorbar": {
                "outlinewidth": 0,
                "ticks": ""
               }
              },
              "marker": {
               "colorbar": {
                "outlinewidth": 0,
                "ticks": ""
               }
              },
              "type": "scatter3d"
             }
            ],
            "scattercarpet": [
             {
              "marker": {
               "colorbar": {
                "outlinewidth": 0,
                "ticks": ""
               }
              },
              "type": "scattercarpet"
             }
            ],
            "scattergeo": [
             {
              "marker": {
               "colorbar": {
                "outlinewidth": 0,
                "ticks": ""
               }
              },
              "type": "scattergeo"
             }
            ],
            "scattergl": [
             {
              "marker": {
               "colorbar": {
                "outlinewidth": 0,
                "ticks": ""
               }
              },
              "type": "scattergl"
             }
            ],
            "scattermapbox": [
             {
              "marker": {
               "colorbar": {
                "outlinewidth": 0,
                "ticks": ""
               }
              },
              "type": "scattermapbox"
             }
            ],
            "scatterpolar": [
             {
              "marker": {
               "colorbar": {
                "outlinewidth": 0,
                "ticks": ""
               }
              },
              "type": "scatterpolar"
             }
            ],
            "scatterpolargl": [
             {
              "marker": {
               "colorbar": {
                "outlinewidth": 0,
                "ticks": ""
               }
              },
              "type": "scatterpolargl"
             }
            ],
            "scatterternary": [
             {
              "marker": {
               "colorbar": {
                "outlinewidth": 0,
                "ticks": ""
               }
              },
              "type": "scatterternary"
             }
            ],
            "surface": [
             {
              "colorbar": {
               "outlinewidth": 0,
               "ticks": ""
              },
              "colorscale": [
               [
                0,
                "#0d0887"
               ],
               [
                0.1111111111111111,
                "#46039f"
               ],
               [
                0.2222222222222222,
                "#7201a8"
               ],
               [
                0.3333333333333333,
                "#9c179e"
               ],
               [
                0.4444444444444444,
                "#bd3786"
               ],
               [
                0.5555555555555556,
                "#d8576b"
               ],
               [
                0.6666666666666666,
                "#ed7953"
               ],
               [
                0.7777777777777778,
                "#fb9f3a"
               ],
               [
                0.8888888888888888,
                "#fdca26"
               ],
               [
                1,
                "#f0f921"
               ]
              ],
              "type": "surface"
             }
            ],
            "table": [
             {
              "cells": {
               "fill": {
                "color": "#EBF0F8"
               },
               "line": {
                "color": "white"
               }
              },
              "header": {
               "fill": {
                "color": "#C8D4E3"
               },
               "line": {
                "color": "white"
               }
              },
              "type": "table"
             }
            ]
           },
           "layout": {
            "annotationdefaults": {
             "arrowcolor": "#2a3f5f",
             "arrowhead": 0,
             "arrowwidth": 1
            },
            "autotypenumbers": "strict",
            "coloraxis": {
             "colorbar": {
              "outlinewidth": 0,
              "ticks": ""
             }
            },
            "colorscale": {
             "diverging": [
              [
               0,
               "#8e0152"
              ],
              [
               0.1,
               "#c51b7d"
              ],
              [
               0.2,
               "#de77ae"
              ],
              [
               0.3,
               "#f1b6da"
              ],
              [
               0.4,
               "#fde0ef"
              ],
              [
               0.5,
               "#f7f7f7"
              ],
              [
               0.6,
               "#e6f5d0"
              ],
              [
               0.7,
               "#b8e186"
              ],
              [
               0.8,
               "#7fbc41"
              ],
              [
               0.9,
               "#4d9221"
              ],
              [
               1,
               "#276419"
              ]
             ],
             "sequential": [
              [
               0,
               "#0d0887"
              ],
              [
               0.1111111111111111,
               "#46039f"
              ],
              [
               0.2222222222222222,
               "#7201a8"
              ],
              [
               0.3333333333333333,
               "#9c179e"
              ],
              [
               0.4444444444444444,
               "#bd3786"
              ],
              [
               0.5555555555555556,
               "#d8576b"
              ],
              [
               0.6666666666666666,
               "#ed7953"
              ],
              [
               0.7777777777777778,
               "#fb9f3a"
              ],
              [
               0.8888888888888888,
               "#fdca26"
              ],
              [
               1,
               "#f0f921"
              ]
             ],
             "sequentialminus": [
              [
               0,
               "#0d0887"
              ],
              [
               0.1111111111111111,
               "#46039f"
              ],
              [
               0.2222222222222222,
               "#7201a8"
              ],
              [
               0.3333333333333333,
               "#9c179e"
              ],
              [
               0.4444444444444444,
               "#bd3786"
              ],
              [
               0.5555555555555556,
               "#d8576b"
              ],
              [
               0.6666666666666666,
               "#ed7953"
              ],
              [
               0.7777777777777778,
               "#fb9f3a"
              ],
              [
               0.8888888888888888,
               "#fdca26"
              ],
              [
               1,
               "#f0f921"
              ]
             ]
            },
            "colorway": [
             "#636efa",
             "#EF553B",
             "#00cc96",
             "#ab63fa",
             "#FFA15A",
             "#19d3f3",
             "#FF6692",
             "#B6E880",
             "#FF97FF",
             "#FECB52"
            ],
            "font": {
             "color": "#2a3f5f"
            },
            "geo": {
             "bgcolor": "white",
             "lakecolor": "white",
             "landcolor": "white",
             "showlakes": true,
             "showland": true,
             "subunitcolor": "#C8D4E3"
            },
            "hoverlabel": {
             "align": "left"
            },
            "hovermode": "closest",
            "mapbox": {
             "style": "light"
            },
            "paper_bgcolor": "white",
            "plot_bgcolor": "white",
            "polar": {
             "angularaxis": {
              "gridcolor": "#EBF0F8",
              "linecolor": "#EBF0F8",
              "ticks": ""
             },
             "bgcolor": "white",
             "radialaxis": {
              "gridcolor": "#EBF0F8",
              "linecolor": "#EBF0F8",
              "ticks": ""
             }
            },
            "scene": {
             "xaxis": {
              "backgroundcolor": "white",
              "gridcolor": "#DFE8F3",
              "gridwidth": 2,
              "linecolor": "#EBF0F8",
              "showbackground": true,
              "ticks": "",
              "zerolinecolor": "#EBF0F8"
             },
             "yaxis": {
              "backgroundcolor": "white",
              "gridcolor": "#DFE8F3",
              "gridwidth": 2,
              "linecolor": "#EBF0F8",
              "showbackground": true,
              "ticks": "",
              "zerolinecolor": "#EBF0F8"
             },
             "zaxis": {
              "backgroundcolor": "white",
              "gridcolor": "#DFE8F3",
              "gridwidth": 2,
              "linecolor": "#EBF0F8",
              "showbackground": true,
              "ticks": "",
              "zerolinecolor": "#EBF0F8"
             }
            },
            "shapedefaults": {
             "line": {
              "color": "#2a3f5f"
             }
            },
            "ternary": {
             "aaxis": {
              "gridcolor": "#DFE8F3",
              "linecolor": "#A2B1C6",
              "ticks": ""
             },
             "baxis": {
              "gridcolor": "#DFE8F3",
              "linecolor": "#A2B1C6",
              "ticks": ""
             },
             "bgcolor": "white",
             "caxis": {
              "gridcolor": "#DFE8F3",
              "linecolor": "#A2B1C6",
              "ticks": ""
             }
            },
            "title": {
             "x": 0.05
            },
            "xaxis": {
             "automargin": true,
             "gridcolor": "#EBF0F8",
             "linecolor": "#EBF0F8",
             "ticks": "",
             "title": {
              "standoff": 15
             },
             "zerolinecolor": "#EBF0F8",
             "zerolinewidth": 2
            },
            "yaxis": {
             "automargin": true,
             "gridcolor": "#EBF0F8",
             "linecolor": "#EBF0F8",
             "ticks": "",
             "title": {
              "standoff": 15
             },
             "zerolinecolor": "#EBF0F8",
             "zerolinewidth": 2
            }
           }
          },
          "xaxis": {
           "automargin": false,
           "linecolor": "#444",
           "linewidth": 2,
           "minor": {
            "tickmode": "linear",
            "ticks": "outside"
           },
           "mirror": true,
           "showline": true,
           "tickmode": "linear",
           "ticks": "outside",
           "zeroline": false
          },
          "yaxis": {
           "automargin": false,
           "linecolor": "#444",
           "linewidth": 2,
           "minor": {
            "ticks": "outside"
           },
           "mirror": true,
           "showline": true,
           "ticks": "outside",
           "zeroline": false
          }
         }
        },
        "xaxis": {
         "title": {
          "text": "XP"
         },
         "type": "log"
        },
        "yaxis": {
         "title": {
          "text": "calculated XP"
         },
         "type": "log"
        }
       }
      }
     },
     "metadata": {},
     "output_type": "display_data"
    }
   ],
   "source": [
    "# calculated XP vs target XP\n",
    "xCol = 'XP'\n",
    "yCol = 'eXP'\n",
    "\n",
    "conf = 0.8\n",
    "df1 = df0[df0['CR'].between(0,30)]\n",
    "dfG = df1[[xCol,yCol]].groupby(xCol).mean().reset_index()\n",
    "dfU = df1[[xCol,yCol]].groupby(xCol).quantile(0.5 + conf/2).reset_index()\n",
    "dfL = df1[[xCol,yCol]].groupby(xCol).quantile(0.5 - conf/2).reset_index()\n",
    "\n",
    "# create figure\n",
    "fig = go.Figure(\n",
    "    layout=go.Layout(\n",
    "        template=TFB_TEMPLATE,\n",
    "        margin=dict(l=70, r=25, b=55, t=20, pad=4),\n",
    "        xaxis=dict(\n",
    "            title_text='XP',\n",
    "            type='log',\n",
    "        ),\n",
    "        yaxis=dict(\n",
    "            title_text='calculated XP',\n",
    "            type='log',\n",
    "        ),\n",
    "        legend=dict(\n",
    "            xanchor='left', yanchor='top',\n",
    "            x=0.00, y=1.00,\n",
    "            orientation='v',\n",
    "            tracegroupgap=0,\n",
    "        )\n",
    "    )\n",
    ")\n",
    "\n",
    "# plot monster confidence interval and average\n",
    "fig.add_trace(go.Scatter(x=dfG[xCol], y=dfU[yCol], line_width=0, legendgroup='mean', showlegend=False, hoverinfo='skip'))\n",
    "fig.add_trace(go.Scatter(x=dfG[xCol], y=dfL[yCol], line_width=0, name=f'{conf:.0%} confidence', legendgroup='mean', hoverinfo='skip', fill='tonexty', fillcolor='rgba(0, 0, 255, 0.4)'))\n",
    "fig.add_trace(go.Scatter(\n",
    "    x=dfG[xCol], y=dfG[yCol],\n",
    "    mode='lines', \n",
    "    name='mean',\n",
    "    legendgroup='mean', \n",
    "    line=dict(color='blue'),\n",
    "    hovertemplate='<b>mean</b><br>' + 'XP %{x:,.0f}<br>' + 'Calc XP %{y:,.0f}<br>' + '<extra></extra>'\n",
    "))\n",
    "\n",
    "# plot reference line\n",
    "fig.add_trace(go.Scatter(\n",
    "    x=dfG[xCol], y=dfG[xCol],\n",
    "    mode='lines', \n",
    "    name='DMG',\n",
    "    line=dict(color='black', dash='dash'),\n",
    "    hovertemplate='<b>DMG</b><br>' + 'XP %{x:,.0f}' + '<extra></extra>'\n",
    "))\n",
    "\n",
    "# show figure\n",
    "fig.show(config=TFB_CONFIG)\n",
    "\n",
    "# save large format figure\n",
    "if SAVEFIGS:\n",
    "    file_name = f'./fig-calc-xp-vs-xp-log-log-large.html'\n",
    "    fig_html = fig.to_html(\n",
    "        config=TFB_CONFIG,\n",
    "        include_plotlyjs=False, \n",
    "        full_html=False, \n",
    "    )\n",
    "    fig_soup = BeautifulSoup(fig_html, 'html.parser')\n",
    "    fig_soup.div['class'] = 'plotly-div-large'\n",
    "    with open(file_name, 'wb') as fout:\n",
    "        fout.write(fig_soup.prettify('utf-8'))\n",
    "\n",
    "# save small format figure\n",
    "if SAVEFIGS:\n",
    "    fig.update_traces(marker=dict(size=4))\n",
    "    fig.update_layout(font=dict(size=10))\n",
    "    file_name = f'./fig-calc-xp-vs-xp-log-log-small.html'\n",
    "    fig_html = fig.to_html(\n",
    "        config=TFB_CONFIG,\n",
    "        include_plotlyjs=False, \n",
    "        full_html=False, \n",
    "    )\n",
    "    fig_soup = BeautifulSoup(fig_html, 'html.parser')\n",
    "    fig_soup.div['class'] = 'plotly-div-small'\n",
    "    with open(file_name, 'wb') as fout:\n",
    "        fout.write(fig_soup.prettify('utf-8'))"
   ]
  },
  {
   "cell_type": "code",
   "execution_count": 118,
   "metadata": {},
   "outputs": [
    {
     "data": {
      "application/vnd.plotly.v1+json": {
       "config": {
        "autosizable": true,
        "displayModeBar": "hover",
        "displaylogo": false,
        "modeBarButtonsToRemove": [
         "select2d",
         "lasso2d",
         "zoom2d",
         "zoomIn2d",
         "zoomOut2d",
         "pan2d",
         "autoScale2d",
         "hoverClosestCartesian",
         "hoverCompareCartesian",
         "toggleSpikelines",
         "resetScale2d"
        ],
        "plotlyServerURL": "https://plot.ly",
        "responsive": true,
        "showAxisDragHandles": false,
        "toImageButtonOptions": {
         "filename": "tfb-plot",
         "format": "png",
         "height": 450,
         "scale": 2,
         "width": 600
        }
       },
       "data": [
        {
         "hoverinfo": "skip",
         "legendgroup": "mean",
         "line": {
          "width": 0
         },
         "showlegend": false,
         "type": "scatter",
         "x": [
          0.125,
          0.25,
          0.5,
          1,
          2,
          3,
          4,
          5,
          6,
          7,
          8,
          9,
          10,
          11,
          12,
          13,
          14,
          15,
          16,
          17,
          18,
          19,
          20,
          21,
          22,
          23,
          24,
          25,
          26,
          27,
          28,
          30
         ],
         "y": [
          0.14046546711711713,
          0.22243242953667958,
          0.3672131147540984,
          0.7365478759658581,
          1.6546201232032858,
          2.6855740922473013,
          3.641329180630545,
          4.78056254438552,
          5.85999376737604,
          7.074102314724762,
          8.03773639071303,
          9.153178122690319,
          10.219002249569936,
          11.508543459114973,
          13.287626262113076,
          14.702510448895403,
          16.430299132188214,
          18.02503423107832,
          17.627484714543897,
          19.744640662560005,
          19.954778608364556,
          20.17516431826295,
          20.7035757340949,
          21.790676076390362,
          22.448829595146528,
          24.579070542951598,
          25.24948530519429,
          26.856812659880333,
          26.618579592945572,
          26.32750389625924,
          28.11226085689097,
          30
         ]
        },
        {
         "fill": "tonexty",
         "fillcolor": "rgba(0, 0, 255, 0.4)",
         "hoverinfo": "skip",
         "legendgroup": "mean",
         "line": {
          "width": 0
         },
         "name": "60% confidence",
         "type": "scatter",
         "x": [
          0.125,
          0.25,
          0.5,
          1,
          2,
          3,
          4,
          5,
          6,
          7,
          8,
          9,
          10,
          11,
          12,
          13,
          14,
          15,
          16,
          17,
          18,
          19,
          20,
          21,
          22,
          23,
          24,
          25,
          26,
          27,
          28,
          30
         ],
         "y": [
          0.07904411764705882,
          0.15820463198841697,
          0.22527027281853287,
          0.4428571428571429,
          0.8438155136268344,
          1.90038136086829,
          2.849237814851162,
          3.816057907031697,
          4.743156022550284,
          5.468274097860991,
          6.578605178469633,
          7.773519985550338,
          8.252090286001364,
          9.841765773029632,
          11.239158686425608,
          12.194072677016612,
          12.45643736327927,
          13.468063483826327,
          15.035193719811495,
          16.214747648959175,
          17.119939816399697,
          17.515718044592163,
          18.459527180524407,
          20.26620613729237,
          21.01010547985412,
          22.451667688468106,
          23.26908875683158,
          23.843330285219924,
          25.324327202365804,
          26.32750389625924,
          26.992348204202685,
          29.0250797254681
         ]
        },
        {
         "hovertemplate": "<b>mean</b><br>CR %{x:,.0f}<br>Calc CR %{y:,.1f}<br><extra></extra>",
         "legendgroup": "mean",
         "line": {
          "color": "blue"
         },
         "mode": "lines",
         "name": "mean",
         "type": "scatter",
         "x": [
          0.125,
          0.25,
          0.5,
          1,
          2,
          3,
          4,
          5,
          6,
          7,
          8,
          9,
          10,
          11,
          12,
          13,
          14,
          15,
          16,
          17,
          18,
          19,
          20,
          21,
          22,
          23,
          24,
          25,
          26,
          27,
          28,
          30
         ],
         "y": [
          0.1102537847523469,
          0.19015285160416587,
          0.29018554661112095,
          0.583316310551668,
          1.208618052195942,
          2.244608202302831,
          3.227055606897878,
          4.366900614533223,
          5.377958253012918,
          6.294821946758979,
          7.2737482018192665,
          8.393293277166551,
          9.348890477916353,
          10.926414893108776,
          12.38198636432706,
          13.200740042960595,
          14.247536139707744,
          15.204962559432412,
          16.497969066714106,
          17.657082689809187,
          18.708102119998074,
          19.177177476295068,
          19.602778311325885,
          21.088936884556656,
          21.4748779469007,
          23.493199910698,
          24.271293852274567,
          25.256789499865484,
          25.795457259792133,
          26.32750389625924,
          27.613991551535793,
          29.48486088865545
         ]
        },
        {
         "hovertemplate": "<b>DMG</b><br>CR %{x:,.0f}<extra></extra>",
         "line": {
          "color": "black",
          "dash": "dash"
         },
         "mode": "lines",
         "name": "DMG",
         "type": "scatter",
         "x": [
          0.125,
          0.25,
          0.5,
          1,
          2,
          3,
          4,
          5,
          6,
          7,
          8,
          9,
          10,
          11,
          12,
          13,
          14,
          15,
          16,
          17,
          18,
          19,
          20,
          21,
          22,
          23,
          24,
          25,
          26,
          27,
          28,
          30
         ],
         "y": [
          0.125,
          0.25,
          0.5,
          1,
          2,
          3,
          4,
          5,
          6,
          7,
          8,
          9,
          10,
          11,
          12,
          13,
          14,
          15,
          16,
          17,
          18,
          19,
          20,
          21,
          22,
          23,
          24,
          25,
          26,
          27,
          28,
          30
         ]
        }
       ],
       "layout": {
        "legend": {
         "orientation": "v",
         "tracegroupgap": 0,
         "x": 0,
         "xanchor": "left",
         "y": 1,
         "yanchor": "top"
        },
        "margin": {
         "b": 55,
         "l": 70,
         "pad": 4,
         "r": 25,
         "t": 20
        },
        "template": {
         "layout": {
          "autosize": true,
          "font": {
           "family": "sans-serif",
           "size": 14
          },
          "hoverlabel": {
           "align": "left"
          },
          "hovermode": "closest",
          "margin": {
           "b": 40,
           "l": 50,
           "pad": 4,
           "r": 25,
           "t": 20
          },
          "template": {
           "data": {
            "bar": [
             {
              "error_x": {
               "color": "#2a3f5f"
              },
              "error_y": {
               "color": "#2a3f5f"
              },
              "marker": {
               "line": {
                "color": "white",
                "width": 0.5
               },
               "pattern": {
                "fillmode": "overlay",
                "size": 10,
                "solidity": 0.2
               }
              },
              "type": "bar"
             }
            ],
            "barpolar": [
             {
              "marker": {
               "line": {
                "color": "white",
                "width": 0.5
               },
               "pattern": {
                "fillmode": "overlay",
                "size": 10,
                "solidity": 0.2
               }
              },
              "type": "barpolar"
             }
            ],
            "carpet": [
             {
              "aaxis": {
               "endlinecolor": "#2a3f5f",
               "gridcolor": "#C8D4E3",
               "linecolor": "#C8D4E3",
               "minorgridcolor": "#C8D4E3",
               "startlinecolor": "#2a3f5f"
              },
              "baxis": {
               "endlinecolor": "#2a3f5f",
               "gridcolor": "#C8D4E3",
               "linecolor": "#C8D4E3",
               "minorgridcolor": "#C8D4E3",
               "startlinecolor": "#2a3f5f"
              },
              "type": "carpet"
             }
            ],
            "choropleth": [
             {
              "colorbar": {
               "outlinewidth": 0,
               "ticks": ""
              },
              "type": "choropleth"
             }
            ],
            "contour": [
             {
              "colorbar": {
               "outlinewidth": 0,
               "ticks": ""
              },
              "colorscale": [
               [
                0,
                "#0d0887"
               ],
               [
                0.1111111111111111,
                "#46039f"
               ],
               [
                0.2222222222222222,
                "#7201a8"
               ],
               [
                0.3333333333333333,
                "#9c179e"
               ],
               [
                0.4444444444444444,
                "#bd3786"
               ],
               [
                0.5555555555555556,
                "#d8576b"
               ],
               [
                0.6666666666666666,
                "#ed7953"
               ],
               [
                0.7777777777777778,
                "#fb9f3a"
               ],
               [
                0.8888888888888888,
                "#fdca26"
               ],
               [
                1,
                "#f0f921"
               ]
              ],
              "type": "contour"
             }
            ],
            "contourcarpet": [
             {
              "colorbar": {
               "outlinewidth": 0,
               "ticks": ""
              },
              "type": "contourcarpet"
             }
            ],
            "heatmap": [
             {
              "colorbar": {
               "outlinewidth": 0,
               "ticks": ""
              },
              "colorscale": [
               [
                0,
                "#0d0887"
               ],
               [
                0.1111111111111111,
                "#46039f"
               ],
               [
                0.2222222222222222,
                "#7201a8"
               ],
               [
                0.3333333333333333,
                "#9c179e"
               ],
               [
                0.4444444444444444,
                "#bd3786"
               ],
               [
                0.5555555555555556,
                "#d8576b"
               ],
               [
                0.6666666666666666,
                "#ed7953"
               ],
               [
                0.7777777777777778,
                "#fb9f3a"
               ],
               [
                0.8888888888888888,
                "#fdca26"
               ],
               [
                1,
                "#f0f921"
               ]
              ],
              "type": "heatmap"
             }
            ],
            "heatmapgl": [
             {
              "colorbar": {
               "outlinewidth": 0,
               "ticks": ""
              },
              "colorscale": [
               [
                0,
                "#0d0887"
               ],
               [
                0.1111111111111111,
                "#46039f"
               ],
               [
                0.2222222222222222,
                "#7201a8"
               ],
               [
                0.3333333333333333,
                "#9c179e"
               ],
               [
                0.4444444444444444,
                "#bd3786"
               ],
               [
                0.5555555555555556,
                "#d8576b"
               ],
               [
                0.6666666666666666,
                "#ed7953"
               ],
               [
                0.7777777777777778,
                "#fb9f3a"
               ],
               [
                0.8888888888888888,
                "#fdca26"
               ],
               [
                1,
                "#f0f921"
               ]
              ],
              "type": "heatmapgl"
             }
            ],
            "histogram": [
             {
              "marker": {
               "pattern": {
                "fillmode": "overlay",
                "size": 10,
                "solidity": 0.2
               }
              },
              "type": "histogram"
             }
            ],
            "histogram2d": [
             {
              "colorbar": {
               "outlinewidth": 0,
               "ticks": ""
              },
              "colorscale": [
               [
                0,
                "#0d0887"
               ],
               [
                0.1111111111111111,
                "#46039f"
               ],
               [
                0.2222222222222222,
                "#7201a8"
               ],
               [
                0.3333333333333333,
                "#9c179e"
               ],
               [
                0.4444444444444444,
                "#bd3786"
               ],
               [
                0.5555555555555556,
                "#d8576b"
               ],
               [
                0.6666666666666666,
                "#ed7953"
               ],
               [
                0.7777777777777778,
                "#fb9f3a"
               ],
               [
                0.8888888888888888,
                "#fdca26"
               ],
               [
                1,
                "#f0f921"
               ]
              ],
              "type": "histogram2d"
             }
            ],
            "histogram2dcontour": [
             {
              "colorbar": {
               "outlinewidth": 0,
               "ticks": ""
              },
              "colorscale": [
               [
                0,
                "#0d0887"
               ],
               [
                0.1111111111111111,
                "#46039f"
               ],
               [
                0.2222222222222222,
                "#7201a8"
               ],
               [
                0.3333333333333333,
                "#9c179e"
               ],
               [
                0.4444444444444444,
                "#bd3786"
               ],
               [
                0.5555555555555556,
                "#d8576b"
               ],
               [
                0.6666666666666666,
                "#ed7953"
               ],
               [
                0.7777777777777778,
                "#fb9f3a"
               ],
               [
                0.8888888888888888,
                "#fdca26"
               ],
               [
                1,
                "#f0f921"
               ]
              ],
              "type": "histogram2dcontour"
             }
            ],
            "mesh3d": [
             {
              "colorbar": {
               "outlinewidth": 0,
               "ticks": ""
              },
              "type": "mesh3d"
             }
            ],
            "parcoords": [
             {
              "line": {
               "colorbar": {
                "outlinewidth": 0,
                "ticks": ""
               }
              },
              "type": "parcoords"
             }
            ],
            "pie": [
             {
              "automargin": true,
              "type": "pie"
             }
            ],
            "scatter": [
             {
              "fillpattern": {
               "fillmode": "overlay",
               "size": 10,
               "solidity": 0.2
              },
              "type": "scatter"
             }
            ],
            "scatter3d": [
             {
              "line": {
               "colorbar": {
                "outlinewidth": 0,
                "ticks": ""
               }
              },
              "marker": {
               "colorbar": {
                "outlinewidth": 0,
                "ticks": ""
               }
              },
              "type": "scatter3d"
             }
            ],
            "scattercarpet": [
             {
              "marker": {
               "colorbar": {
                "outlinewidth": 0,
                "ticks": ""
               }
              },
              "type": "scattercarpet"
             }
            ],
            "scattergeo": [
             {
              "marker": {
               "colorbar": {
                "outlinewidth": 0,
                "ticks": ""
               }
              },
              "type": "scattergeo"
             }
            ],
            "scattergl": [
             {
              "marker": {
               "colorbar": {
                "outlinewidth": 0,
                "ticks": ""
               }
              },
              "type": "scattergl"
             }
            ],
            "scattermapbox": [
             {
              "marker": {
               "colorbar": {
                "outlinewidth": 0,
                "ticks": ""
               }
              },
              "type": "scattermapbox"
             }
            ],
            "scatterpolar": [
             {
              "marker": {
               "colorbar": {
                "outlinewidth": 0,
                "ticks": ""
               }
              },
              "type": "scatterpolar"
             }
            ],
            "scatterpolargl": [
             {
              "marker": {
               "colorbar": {
                "outlinewidth": 0,
                "ticks": ""
               }
              },
              "type": "scatterpolargl"
             }
            ],
            "scatterternary": [
             {
              "marker": {
               "colorbar": {
                "outlinewidth": 0,
                "ticks": ""
               }
              },
              "type": "scatterternary"
             }
            ],
            "surface": [
             {
              "colorbar": {
               "outlinewidth": 0,
               "ticks": ""
              },
              "colorscale": [
               [
                0,
                "#0d0887"
               ],
               [
                0.1111111111111111,
                "#46039f"
               ],
               [
                0.2222222222222222,
                "#7201a8"
               ],
               [
                0.3333333333333333,
                "#9c179e"
               ],
               [
                0.4444444444444444,
                "#bd3786"
               ],
               [
                0.5555555555555556,
                "#d8576b"
               ],
               [
                0.6666666666666666,
                "#ed7953"
               ],
               [
                0.7777777777777778,
                "#fb9f3a"
               ],
               [
                0.8888888888888888,
                "#fdca26"
               ],
               [
                1,
                "#f0f921"
               ]
              ],
              "type": "surface"
             }
            ],
            "table": [
             {
              "cells": {
               "fill": {
                "color": "#EBF0F8"
               },
               "line": {
                "color": "white"
               }
              },
              "header": {
               "fill": {
                "color": "#C8D4E3"
               },
               "line": {
                "color": "white"
               }
              },
              "type": "table"
             }
            ]
           },
           "layout": {
            "annotationdefaults": {
             "arrowcolor": "#2a3f5f",
             "arrowhead": 0,
             "arrowwidth": 1
            },
            "autotypenumbers": "strict",
            "coloraxis": {
             "colorbar": {
              "outlinewidth": 0,
              "ticks": ""
             }
            },
            "colorscale": {
             "diverging": [
              [
               0,
               "#8e0152"
              ],
              [
               0.1,
               "#c51b7d"
              ],
              [
               0.2,
               "#de77ae"
              ],
              [
               0.3,
               "#f1b6da"
              ],
              [
               0.4,
               "#fde0ef"
              ],
              [
               0.5,
               "#f7f7f7"
              ],
              [
               0.6,
               "#e6f5d0"
              ],
              [
               0.7,
               "#b8e186"
              ],
              [
               0.8,
               "#7fbc41"
              ],
              [
               0.9,
               "#4d9221"
              ],
              [
               1,
               "#276419"
              ]
             ],
             "sequential": [
              [
               0,
               "#0d0887"
              ],
              [
               0.1111111111111111,
               "#46039f"
              ],
              [
               0.2222222222222222,
               "#7201a8"
              ],
              [
               0.3333333333333333,
               "#9c179e"
              ],
              [
               0.4444444444444444,
               "#bd3786"
              ],
              [
               0.5555555555555556,
               "#d8576b"
              ],
              [
               0.6666666666666666,
               "#ed7953"
              ],
              [
               0.7777777777777778,
               "#fb9f3a"
              ],
              [
               0.8888888888888888,
               "#fdca26"
              ],
              [
               1,
               "#f0f921"
              ]
             ],
             "sequentialminus": [
              [
               0,
               "#0d0887"
              ],
              [
               0.1111111111111111,
               "#46039f"
              ],
              [
               0.2222222222222222,
               "#7201a8"
              ],
              [
               0.3333333333333333,
               "#9c179e"
              ],
              [
               0.4444444444444444,
               "#bd3786"
              ],
              [
               0.5555555555555556,
               "#d8576b"
              ],
              [
               0.6666666666666666,
               "#ed7953"
              ],
              [
               0.7777777777777778,
               "#fb9f3a"
              ],
              [
               0.8888888888888888,
               "#fdca26"
              ],
              [
               1,
               "#f0f921"
              ]
             ]
            },
            "colorway": [
             "#636efa",
             "#EF553B",
             "#00cc96",
             "#ab63fa",
             "#FFA15A",
             "#19d3f3",
             "#FF6692",
             "#B6E880",
             "#FF97FF",
             "#FECB52"
            ],
            "font": {
             "color": "#2a3f5f"
            },
            "geo": {
             "bgcolor": "white",
             "lakecolor": "white",
             "landcolor": "white",
             "showlakes": true,
             "showland": true,
             "subunitcolor": "#C8D4E3"
            },
            "hoverlabel": {
             "align": "left"
            },
            "hovermode": "closest",
            "mapbox": {
             "style": "light"
            },
            "paper_bgcolor": "white",
            "plot_bgcolor": "white",
            "polar": {
             "angularaxis": {
              "gridcolor": "#EBF0F8",
              "linecolor": "#EBF0F8",
              "ticks": ""
             },
             "bgcolor": "white",
             "radialaxis": {
              "gridcolor": "#EBF0F8",
              "linecolor": "#EBF0F8",
              "ticks": ""
             }
            },
            "scene": {
             "xaxis": {
              "backgroundcolor": "white",
              "gridcolor": "#DFE8F3",
              "gridwidth": 2,
              "linecolor": "#EBF0F8",
              "showbackground": true,
              "ticks": "",
              "zerolinecolor": "#EBF0F8"
             },
             "yaxis": {
              "backgroundcolor": "white",
              "gridcolor": "#DFE8F3",
              "gridwidth": 2,
              "linecolor": "#EBF0F8",
              "showbackground": true,
              "ticks": "",
              "zerolinecolor": "#EBF0F8"
             },
             "zaxis": {
              "backgroundcolor": "white",
              "gridcolor": "#DFE8F3",
              "gridwidth": 2,
              "linecolor": "#EBF0F8",
              "showbackground": true,
              "ticks": "",
              "zerolinecolor": "#EBF0F8"
             }
            },
            "shapedefaults": {
             "line": {
              "color": "#2a3f5f"
             }
            },
            "ternary": {
             "aaxis": {
              "gridcolor": "#DFE8F3",
              "linecolor": "#A2B1C6",
              "ticks": ""
             },
             "baxis": {
              "gridcolor": "#DFE8F3",
              "linecolor": "#A2B1C6",
              "ticks": ""
             },
             "bgcolor": "white",
             "caxis": {
              "gridcolor": "#DFE8F3",
              "linecolor": "#A2B1C6",
              "ticks": ""
             }
            },
            "title": {
             "x": 0.05
            },
            "xaxis": {
             "automargin": true,
             "gridcolor": "#EBF0F8",
             "linecolor": "#EBF0F8",
             "ticks": "",
             "title": {
              "standoff": 15
             },
             "zerolinecolor": "#EBF0F8",
             "zerolinewidth": 2
            },
            "yaxis": {
             "automargin": true,
             "gridcolor": "#EBF0F8",
             "linecolor": "#EBF0F8",
             "ticks": "",
             "title": {
              "standoff": 15
             },
             "zerolinecolor": "#EBF0F8",
             "zerolinewidth": 2
            }
           }
          },
          "xaxis": {
           "automargin": false,
           "linecolor": "#444",
           "linewidth": 2,
           "minor": {
            "tickmode": "linear",
            "ticks": "outside"
           },
           "mirror": true,
           "showline": true,
           "tickmode": "linear",
           "ticks": "outside",
           "zeroline": false
          },
          "yaxis": {
           "automargin": false,
           "linecolor": "#444",
           "linewidth": 2,
           "minor": {
            "ticks": "outside"
           },
           "mirror": true,
           "showline": true,
           "ticks": "outside",
           "zeroline": false
          }
         }
        },
        "xaxis": {
         "dtick": 5,
         "minor": {
          "dtick": 1,
          "tick0": 0
         },
         "range": [
          0,
          30
         ],
         "tick0": 0,
         "title": {
          "text": "CR"
         }
        },
        "yaxis": {
         "dtick": 5,
         "minor": {
          "dtick": 1,
          "tick0": 0
         },
         "range": [
          0,
          30
         ],
         "tick0": 0,
         "title": {
          "text": "calculated CR"
         }
        }
       }
      }
     },
     "metadata": {},
     "output_type": "display_data"
    }
   ],
   "source": [
    "# calculated XP vs target XP\n",
    "xCol = 'CR'\n",
    "yCol = 'eCR'\n",
    "\n",
    "conf = 0.6\n",
    "#df1 = df0[df0['CR'].between(0,30)]\n",
    "dfG = df1[[xCol,yCol]].groupby(xCol).mean().reset_index()\n",
    "dfU = df1[[xCol,yCol]].groupby(xCol).quantile(0.5 + conf/2).reset_index()\n",
    "dfL = df1[[xCol,yCol]].groupby(xCol).quantile(0.5 - conf/2).reset_index()\n",
    "\n",
    "# create figure\n",
    "fig = go.Figure(\n",
    "    layout=go.Layout(\n",
    "        template=TFB_TEMPLATE,\n",
    "        margin=dict(l=70, r=25, b=55, t=20, pad=4),\n",
    "        xaxis=dict(\n",
    "            title_text='CR',\n",
    "            range=[0,30],\n",
    "            tick0=0, dtick=5,\n",
    "            minor=dict(tick0=0, dtick=1),\n",
    "        ),\n",
    "        yaxis=dict(\n",
    "            title_text='calculated CR',\n",
    "            range=[0,30],\n",
    "            tick0=0, dtick=5,\n",
    "            minor=dict(tick0=0, dtick=1),\n",
    "        ),\n",
    "        legend=dict(\n",
    "            xanchor='left', yanchor='top',\n",
    "            x=0.00, y=1.00,\n",
    "            orientation='v',\n",
    "            tracegroupgap=0,\n",
    "        )\n",
    "    )\n",
    ")\n",
    "\n",
    "# plot monster confidence interval and average\n",
    "fig.add_trace(go.Scatter(x=dfG[xCol], y=dfU[yCol], line_width=0, legendgroup='mean', showlegend=False, hoverinfo='skip'))\n",
    "fig.add_trace(go.Scatter(x=dfG[xCol], y=dfL[yCol], line_width=0, name=f'{conf:.0%} confidence', legendgroup='mean', hoverinfo='skip', fill='tonexty', fillcolor='rgba(0, 0, 255, 0.4)'))\n",
    "fig.add_trace(go.Scatter(\n",
    "    x=dfG[xCol], y=dfG[yCol],\n",
    "    mode='lines', \n",
    "    name='mean',\n",
    "    legendgroup='mean', \n",
    "    line=dict(color='blue'),\n",
    "    hovertemplate='<b>mean</b><br>' + 'CR %{x:,.0f}<br>' + 'Calc CR %{y:,.1f}<br>' + '<extra></extra>'\n",
    "))\n",
    "\n",
    "# plot reference line\n",
    "fig.add_trace(go.Scatter(\n",
    "    x=dfG[xCol], y=dfG[xCol],\n",
    "    mode='lines', \n",
    "    name='DMG',\n",
    "    line=dict(color='black', dash='dash'),\n",
    "    hovertemplate='<b>DMG</b><br>' + 'CR %{x:,.0f}' + '<extra></extra>'\n",
    "))\n",
    "\n",
    "# show figure\n",
    "fig.show(config=TFB_CONFIG)\n",
    "\n",
    "# save large format figure\n",
    "if SAVEFIGS:\n",
    "    file_name = f'./fig-xp-cr-vs-cr-large.html'\n",
    "    fig_html = fig.to_html(\n",
    "        config=TFB_CONFIG,\n",
    "        include_plotlyjs=False, \n",
    "        full_html=False, \n",
    "    )\n",
    "    fig_soup = BeautifulSoup(fig_html, 'html.parser')\n",
    "    fig_soup.div['class'] = 'plotly-div-large'\n",
    "    with open(file_name, 'wb') as fout:\n",
    "        fout.write(fig_soup.prettify('utf-8'))\n",
    "\n",
    "# save small format figure\n",
    "if SAVEFIGS:\n",
    "    fig.update_traces(marker=dict(size=4))\n",
    "    fig.update_layout(font=dict(size=10))\n",
    "    file_name = f'./fig-xp-cr-vs-cr-small.html'\n",
    "    fig_html = fig.to_html(\n",
    "        config=TFB_CONFIG,\n",
    "        include_plotlyjs=False, \n",
    "        full_html=False, \n",
    "    )\n",
    "    fig_soup = BeautifulSoup(fig_html, 'html.parser')\n",
    "    fig_soup.div['class'] = 'plotly-div-small'\n",
    "    with open(file_name, 'wb') as fout:\n",
    "        fout.write(fig_soup.prettify('utf-8'))"
   ]
  },
  {
   "cell_type": "code",
   "execution_count": 119,
   "metadata": {},
   "outputs": [
    {
     "data": {
      "application/vnd.plotly.v1+json": {
       "config": {
        "autosizable": true,
        "displayModeBar": "hover",
        "displaylogo": false,
        "modeBarButtonsToRemove": [
         "select2d",
         "lasso2d",
         "zoom2d",
         "zoomIn2d",
         "zoomOut2d",
         "pan2d",
         "autoScale2d",
         "hoverClosestCartesian",
         "hoverCompareCartesian",
         "toggleSpikelines",
         "resetScale2d"
        ],
        "plotlyServerURL": "https://plot.ly",
        "responsive": true,
        "showAxisDragHandles": false,
        "toImageButtonOptions": {
         "filename": "tfb-plot",
         "format": "png",
         "height": 450,
         "scale": 2,
         "width": 600
        }
       },
       "data": [
        {
         "customdata": [
          [
           "Aarakocra Simulacrum",
           0.125,
           0.43076922
          ],
          [
           "Aarakokra",
           0.25,
           0.4846153724999999
          ],
          [
           "Abhorrent Overlord",
           9,
           0.8856410457692308
          ],
          [
           "Abishai, Black",
           7,
           0.6389224137931035
          ],
          [
           "Abishai, Black",
           7,
           0.6525
          ],
          [
           "Abishai, Blue",
           17,
           0.9053192307692308
          ],
          [
           "Abishai, Blue",
           17,
           1.143125
          ],
          [
           "Abishai, Green",
           15,
           0.64125
          ],
          [
           "Abishai, Green",
           15,
           0.26527307692307694
          ],
          [
           "Abishai, Red",
           19,
           1.0118926573426574
          ],
          [
           "Abishai, Red",
           19,
           0.7021416083916084
          ],
          [
           "Abishai, White",
           6,
           0.8357859531772576
          ],
          [
           "Abishai, White",
           6,
           0.6089297658862877
          ],
          [
           "Aboleth",
           10,
           1.1211864406779661
          ],
          [
           "Abyssal Chicken",
           0.25,
           0.8203846153846155
          ],
          [
           "Abyssal Wretch",
           0.25,
           0.9138461538461539
          ],
          [
           "Acererak",
           23,
           1.6189827692307694
          ],
          [
           "Acolyte",
           0.25,
           0.21807692307692306
          ],
          [
           "Aeorian Absorber",
           10,
           0.8700390924641461
          ],
          [
           "Aeorian Reverser",
           8,
           0.9427391518737672
          ],
          [
           "Aeorin Nullifier",
           12,
           1.1100000000000003
          ],
          [
           "Aerisi Kalinoth",
           7,
           1.0778072127320955
          ],
          [
           "Agdon Longscarf",
           2,
           0.936923076923077
          ],
          [
           "Ahmaergo",
           9,
           0.8270192307692309
          ],
          [
           "Air Elemental",
           5,
           0.9490384817307693
          ],
          [
           "Air Elemental Myrmidon",
           7,
           0.7505885472214854
          ],
          [
           "Air Elemental Myrmidon",
           7,
           0.6602586028448275
          ],
          [
           "Akroan Hoplite",
           3,
           0.84
          ],
          [
           "Albino Dwarf Warrior",
           0.25,
           0.6461538461538461
          ],
          [
           "Aldani",
           1,
           0.7139423076923076
          ],
          [
           "Alhoon",
           10,
           1.4415254237288135
          ],
          [
           "Alhoon",
           10,
           1.6975228787483703
          ],
          [
           "Alkilith",
           11,
           0.8177884615384616
          ],
          [
           "Alkilith",
           11,
           0.8844951923076924
          ],
          [
           "Allip",
           5,
           0.5093824786324787
          ],
          [
           "Allip",
           5,
           0.6820512820512822
          ],
          [
           "Allosaurus",
           2,
           0.6545726248717949
          ],
          [
           "Alseid",
           1,
           0.7996153846153846
          ],
          [
           "Alyxian Aboleth",
           12,
           0.9125000000000001
          ],
          [
           "Alyxian the Absolved",
           14,
           0.9452271202341138
          ],
          [
           "Alyxian the Callous",
           12,
           1.3195312875
          ],
          [
           "Alyxian the Callous",
           12,
           3.196874920673077
          ],
          [
           "Alyxian the Dispossessed",
           13,
           0.9771314426923078
          ],
          [
           "Alyxian the Dispossessed",
           13,
           2.2121795392307693
          ],
          [
           "Alyxian the Tormented",
           11,
           1.3759793055555556
          ],
          [
           "Alyxian the Tormented",
           11,
           4.055043532986111
          ],
          [
           "Amethyst Dragon Wyrmling",
           4,
           0.7338286914335664
          ],
          [
           "Amethyst Dragon, Adult",
           16,
           1.2422952261692308
          ],
          [
           "Amethyst Dragon, Adult",
           17,
           1.2782615198846152
          ],
          [
           "Amethyst Dragon, Ancient",
           23,
           0.9249154085769232
          ],
          [
           "Amethyst Dragon, Ancient",
           24,
           0.8506606920130274
          ],
          [
           "Amethyst Dragon, Young",
           9,
           0.8781230536615385
          ],
          [
           "Amethyst Greatwyrm",
           26,
           0.8849899402948718
          ],
          [
           "Amidor the Dandelion",
           0.5,
           0.595
          ],
          [
           "Ammalia Cassalanter",
           5,
           0.8860576557692309
          ],
          [
           "Amnizu",
           18,
           0.8595865613076923
          ],
          [
           "Amnizu",
           18,
           0.8822346153846155
          ],
          [
           "Amphisbaena",
           3,
           0.6329670329670329
          ],
          [
           "Amphisbaena (Monstrosity)",
           0.5,
           0.8376923076923077
          ],
          [
           "Amrik Vanthampur",
           3,
           0.6853846153846154
          ],
          [
           "Anarch",
           0.25,
           0.6028846153846154
          ],
          [
           "Angel, Deathpact",
           14,
           0.766065551839465
          ],
          [
           "Angel, Deva",
           10,
           0.8976531942633639
          ],
          [
           "Angel, Firemane",
           12,
           0.9285714642857142
          ],
          [
           "Angel, Planetar",
           16,
           0.9096153846153845
          ],
          [
           "Angry Sorrowsworn",
           13,
           0.8840569230769233
          ],
          [
           "Angry Sorrowsworn",
           13,
           0.8442069230769231
          ],
          [
           "Animated Armor",
           1,
           0.6346153846153847
          ],
          [
           "Animated Breath (Acid)",
           6,
           0.917433110367893
          ],
          [
           "Animated Breath (Cold)",
           6,
           0.8387959866220736
          ],
          [
           "Animated Breath (Fire)",
           6,
           0.9293478260869565
          ],
          [
           "Animated Breath (Lightning)",
           6,
           0.8737458193979933
          ],
          [
           "Animated Breath (Poison)",
           6,
           0.917433110367893
          ],
          [
           "Animated Broom",
           0.25,
           1.4807692307692308
          ],
          [
           "Animated Chained Library",
           1,
           0.9
          ],
          [
           "Animated Knife",
           0.125,
           1.0048076923076925
          ],
          [
           "Animated Staff of Frost",
           4,
           1.1487179076923075
          ],
          [
           "Animated Table",
           2,
           0.5066666666666667
          ],
          [
           "Ankheg",
           2,
           0.52888887
          ],
          [
           "Ankylosaurus",
           3,
           0.6725274725274726
          ],
          [
           "Ankylosaurus Zombie",
           3,
           0.6675824175824177
          ],
          [
           "Annis Hag",
           6,
           0.8048076923076922
          ],
          [
           "Annis Hag",
           6,
           0.9735576923076923
          ],
          [
           "Anvilwrought Raptor",
           0.5,
           0.6473076923076923
          ],
          [
           "Ape",
           0.5,
           0.675
          ],
          [
           "Ape, Giant",
           7,
           0.8731432360742706
          ],
          [
           "Aphemia",
           5,
           0.6398717948717948
          ],
          [
           "Apprentice Wizard",
           0.25,
           0.9346153846153845
          ],
          [
           "Apprentice Wizard",
           0.25,
           0.6576922938461539
          ],
          [
           "Arasta",
           21,
           1.2294871794871798
          ],
          [
           "Arcanaloth",
           12,
           0.9638888666666668
          ],
          [
           "Archaic",
           18,
           1.2959775933076925
          ],
          [
           "Archdruid",
           12,
           1.155
          ],
          [
           "Archdruid",
           12,
           0.8027884615384615
          ],
          [
           "Archer",
           3,
           0.9271978021978022
          ],
          [
           "Archer",
           3,
           0.8653846153846154
          ],
          [
           "Archmage",
           12,
           1.0068669871794873
          ],
          [
           "Archon of Falling Stars",
           12,
           1.3748000301556778
          ],
          [
           "Archon of the Triumvirate",
           14,
           0.9048120401337795
          ],
          [
           "Arclight Phoenix",
           12,
           1.0275
          ],
          [
           "Arcturia",
           21,
           0.808163752913753
          ],
          [
           "Arkhan the Cruel",
           16,
           1.0719023076923078
          ],
          [
           "Armanite",
           7,
           1.2788329213368703
          ],
          [
           "Armanite",
           7,
           0.8689654905039788
          ],
          [
           "Arrant Quill",
           11,
           0.7353365163461538
          ],
          [
           "Art Elemental Mascot",
           0.25,
           0.49846153846153846
          ],
          [
           "Artus Cimber",
           7,
           0.643368700265252
          ],
          [
           "Ashen Rider",
           16,
           1.038046153846154
          ],
          [
           "Assassin",
           8,
           0.6717307476923077
          ],
          [
           "Assassin Vine",
           3,
           1.4688186813186812
          ],
          [
           "Astral Dreadnought",
           21,
           1.0288170163170163
          ],
          [
           "Astral Dreadnought",
           21,
           1.004486013986014
          ],
          [
           "Atropal",
           13,
           0.970598076923077
          ],
          [
           "Aurelia",
           23,
           0.9292307692307692
          ],
          [
           "Auril (1st Form)",
           9,
           0.8479038461538461
          ],
          [
           "Auril (2nd Form)",
           10,
           1.8095762267796611
          ],
          [
           "Auril (3rd Form)",
           11,
           1.135042735042735
          ],
          [
           "Aurochs",
           2,
           0.5976068376068377
          ],
          [
           "Aurochs",
           2,
           0.4417094017094017
          ],
          [
           "Avarice",
           7,
           1.2286494596551722
          ],
          [
           "Awakened Tree",
           2,
           0.6051709401709402
          ],
          [
           "Awakened White Moose",
           3,
           0.7005494505494505
          ],
          [
           "Axe Beak",
           0.25,
           0.63375
          ],
          [
           "Ayo Jabe (tier 1)",
           3,
           0.6285714285714286
          ],
          [
           "Ayo Jabe (tier 2)",
           5,
           0.7125000000000001
          ],
          [
           "Ayo Jabe (tier 3)",
           8,
           0.9186390532544378
          ],
          [
           "Azbara Jos",
           4,
           0.9163636363636364
          ],
          [
           "Azer",
           2,
           0.3333333333333333
          ],
          [
           "Baba Lysaga",
           11,
           0.5876068564102566
          ],
          [
           "Baba Lysaga's Creeping Hut",
           11,
           1.646875
          ],
          [
           "Babau",
           4,
           1.0384615384615385
          ],
          [
           "Babau",
           4,
           1.1524475524475526
          ],
          [
           "Bael",
           19,
           1.1734615384615383
          ],
          [
           "Bael",
           19,
           0.8507596153846154
          ],
          [
           "Bahamut, Aspect of",
           30,
           0.8250960634451612
          ],
          [
           "Bak Mei",
           13,
           1.082146153846154
          ],
          [
           "Balhannoth",
           11,
           1.093076923076923
          ],
          [
           "Balor",
           19,
           1.0092329331293706
          ],
          [
           "Banderhobb",
           5,
           0.7148076923076924
          ],
          [
           "Banderhobb",
           5,
           0.7927350128205128
          ],
          [
           "Bandit",
           0.125,
           0.605
          ],
          [
           "Bandit Captain",
           2,
           0.976388888888889
          ],
          [
           "Banshee",
           4,
           0.8652680923076924
          ],
          [
           "Baphomet",
           23,
           1.10057325
          ],
          [
           "Baphomet",
           23,
           1.1033099760150002
          ],
          [
           "Baphomet",
           23,
           1.4287091004092307
          ],
          [
           "Bard",
           2,
           0.5597151116239317
          ],
          [
           "Bard",
           2,
           0.88
          ],
          [
           "Barghest",
           4,
           1.3657342657342657
          ],
          [
           "Barghest",
           4,
           0.8590909090909091
          ],
          [
           "Barlgura",
           5,
           0.6320512820512821
          ],
          [
           "Barnibus Blastwind",
           2,
           0.35179487179487184
          ],
          [
           "Barovian Witch",
           0.5,
           0.44423078192307697
          ],
          [
           "Basilisk",
           3,
           0.6314285714285715
          ],
          [
           "Bastian Thermandar",
           8,
           0.5720512584615384
          ],
          [
           "Battleforce Angle",
           5,
           0.88
          ],
          [
           "Bavlorna Blightstraw",
           7,
           0.9454326923076923
          ],
          [
           "Bear, Brown",
           1,
           0.9807692307692306
          ],
          [
           "Bear, Polar",
           2,
           0.6483974358974358
          ],
          [
           "Behir",
           11,
           0.9161324487179486
          ],
          [
           "Beholder",
           13,
           1.2274
          ],
          [
           "Beholder",
           14,
           1.4204565217391305
          ],
          [
           "Beholder Zombie",
           5,
           0.9774038461538463
          ],
          [
           "Bel",
           25,
           1.3251977210538464
          ],
          [
           "Belashyrra",
           22,
           0.9987148217636023
          ],
          [
           "Belashyrra",
           23,
           0.965623076923077
          ],
          [
           "Beledros Witherbloom",
           24,
           0.8250620158808932
          ],
          [
           "Berbalang",
           2,
           0.7475641025641026
          ],
          [
           "Berbalang",
           2,
           0.4475213675213675
          ],
          [
           "Berserker",
           2,
           0.4153846153846154
          ],
          [
           "Bheur Hag",
           7,
           0.8882758620689655
          ],
          [
           "Bheur Hag",
           7,
           0.9124137931034483
          ],
          [
           "Big Xorn",
           8,
           0.9332470414201183
          ],
          [
           "Bjornhild Solvigsdottir",
           5,
           0.5742948717948718
          ],
          [
           "Black Bear",
           0.5,
           0.585
          ],
          [
           "Black Dragon Wyrmling",
           2,
           0.8292307692307693
          ],
          [
           "Black Dragon, Adult",
           14,
           1.5679765505016723
          ],
          [
           "Black Dragon, Ancient",
           21,
           1.4550674376631705
          ],
          [
           "Black Dragon, Young",
           7,
           1.2682360742705572
          ],
          [
           "Black Earth Cultist",
           2,
           0.5354273664102565
          ],
          [
           "Black Earth Guard",
           2,
           0.49
          ],
          [
           "Black Earth Priest",
           3,
           0.9375
          ],
          [
           "Black Gauntlet of Bane",
           6,
           0.7035953177257525
          ],
          [
           "Black Greatwyrm",
           27,
           0.8754505494505496
          ],
          [
           "Black Pudding",
           4,
           0.8321678321678322
          ],
          [
           "Black Viper",
           5,
           1.021730769230769
          ],
          [
           "Blackguard",
           8,
           0.814164201183432
          ],
          [
           "Blackguard",
           8,
           0.6880473372781066
          ],
          [
           "Blagothkus",
           9,
           0.8718769004307693
          ],
          [
           "Blight, Needle",
           0.25,
           0.44
          ],
          [
           "Blight, Tree",
           7,
           1.043541087214854
          ],
          [
           "Blight, Twig",
           0.125,
           0.1696153846153846
          ],
          [
           "Blight, Vine",
           0.5,
           0.63
          ],
          [
           "Blink Dog",
           0.25,
           0.5330769230769231
          ],
          [
           "Blistercoil Weird",
           4,
           0.8909090909090909
          ],
          [
           "Blood Hawk",
           0.125,
           0.3634615384615384
          ],
          [
           "Blood Hunter",
           5,
           0.8411538461538461
          ],
          [
           "Bloodfray Giant",
           6,
           0.6369230769230769
          ],
          [
           "Blue Dragon Wyrmling",
           3,
           0.6914285714285714
          ],
          [
           "Blue Dragon, Adult",
           16,
           1.5774230769230768
          ],
          [
           "Blue Dragon, Ancient",
           23,
           1.4816784615384615
          ],
          [
           "Blue Dragon, Young",
           9,
           1.0523076502153845
          ],
          [
           "Blue Greatwyrm",
           27,
           0.8754505494505496
          ],
          [
           "Boar",
           0.25,
           0.47076921692307694
          ],
          [
           "Boar, Giant",
           2,
           0.3360042644230769
          ],
          [
           "Bodak",
           6,
           0.5975685618729097
          ],
          [
           "Bodak",
           6,
           0.8379933110367892
          ],
          [
           "Bodytaker Plant",
           7,
           0.7659151193633953
          ],
          [
           "Boggle",
           0.125,
           0.45
          ],
          [
           "Boggle",
           0.125,
           0.45
          ],
          [
           "Bol'bara",
           3,
           0.8406593406593407
          ],
          [
           "Bone Knight",
           5,
           0.9027777777777778
          ],
          [
           "Bone Whelk",
           0.25,
           1.65
          ],
          [
           "Boneclaw",
           12,
           0.9278846153846155
          ],
          [
           "Boneclaw",
           12,
           0.5604395604395604
          ],
          [
           "Boneless",
           1,
           0.6187499999999999
          ],
          [
           "Borborygmos",
           18,
           1.125
          ],
          [
           "Bore Worm",
           16,
           1.1053365384615386
          ],
          [
           "Brackish Trudge",
           3,
           0.6830357142857143
          ],
          [
           "Brain in a Jar",
           3,
           1.0189102299450548
          ],
          [
           "Brass Dragon Wyrmling",
           1,
           0.44423076923076926
          ],
          [
           "Brass Dragon, Adult",
           13,
           1.5147294482153846
          ],
          [
           "Brass Dragon, Ancient",
           20,
           1.2967476923076924
          ],
          [
           "Brass Dragon, Young",
           6,
           1.1678261165217392
          ],
          [
           "Brass Greatwyrm",
           28,
           0.856875
          ],
          [
           "Brigganock",
           0.125,
           0.4361538461538461
          ],
          [
           "Brontosaurus",
           5,
           0.8723076923076923
          ],
          [
           "Brontosaurus",
           5,
           0.8723076923076923
          ],
          [
           "Bronze Dragon Wyrmling",
           2,
           0.8962963166666666
          ],
          [
           "Bronze Dragon, Adult",
           15,
           1.7494516384970413
          ],
          [
           "Bronze Dragon, Ancient",
           22,
           1.497470887598499
          ],
          [
           "Bronze Dragon, Young",
           8,
           1.246055200591716
          ],
          [
           "Bronze Greatwyrm",
           28,
           0.856875
          ],
          [
           "Bronze Stable",
           1,
           1.2270832937500002
          ],
          [
           "Broom of Animated Attack",
           0.25,
           1.2115384615384615
          ],
          [
           "Bugbear",
           1,
           0.6698717781250001
          ],
          [
           "Bugbear Chief",
           3,
           1.0238095
          ],
          [
           "Bulesau",
           3,
           0.7360439560439561
          ],
          [
           "Bulette",
           5,
           0.8588461834615384
          ],
          [
           "Bulezau",
           3,
           0.64
          ],
          [
           "Bullywug",
           0.25,
           0.5415384615384616
          ],
          [
           "Bullywug Croaker",
           2,
           0.6473076923076924
          ],
          [
           "Bullywug Knight",
           3,
           0.6963461538461538
          ],
          [
           "Bullywug Royal",
           3,
           0.6285714285714286
          ],
          [
           "Burnished Hart",
           2,
           0.6974359192307693
          ],
          [
           "Burrowshark",
           4,
           0.7615384615384616
          ],
          [
           "Cadaver Collector",
           14,
           1.1648152173913044
          ],
          [
           "Cadaver Collector",
           14,
           0.998413043478261
          ],
          [
           "Cambion",
           5,
           0.8253333333333333
          ],
          [
           "Camel",
           0.125,
           0.3461538461538462
          ],
          [
           "Canoloth",
           8,
           0.857396449704142
          ],
          [
           "Canoloth",
           8,
           0.8165680473372781
          ],
          [
           "Canopic Golem",
           13,
           0.8832115384615384
          ],
          [
           "Captain Othelstan",
           5,
           0.6181196774358975
          ],
          [
           "Carrion Crawler",
           2,
           0.45551282051282055
          ],
          [
           "Carrion Stalker",
           3,
           0.39583332115384623
          ],
          [
           "Carrionette",
           1,
           0.7208654140384616
          ],
          [
           "Catoblepas",
           5,
           0.7163817931623931
          ],
          [
           "Catoblepas",
           5,
           0.7111111111111111
          ],
          [
           "Cave Fisher",
           3,
           0.6107142857142858
          ],
          [
           "Cave Fisher",
           3,
           0.6107142857142858
          ],
          [
           "Centaur",
           2,
           0.7179487384615384
          ],
          [
           "Centaur Mummy",
           6,
           0.7156772305183946
          ],
          [
           "Chamberlain of Zuggtmoy",
           2,
           0.6923076923076923
          ],
          [
           "Champion",
           9,
           0.8933653846153846
          ],
          [
           "Champion",
           9,
           0.8463461538461539
          ],
          [
           "Changeling",
           0.5,
           0.5711538461538461
          ],
          [
           "Chardalyn Berserker",
           4,
           0.5947552447552447
          ],
          [
           "Chardalyn Dragon",
           11,
           0.9069711302884614
          ],
          [
           "Chasme",
           6,
           0.842809364548495
          ],
          [
           "Chief Guh",
           5,
           0.923076923076923
          ],
          [
           "Chief, Kartha-Kaya",
           4,
           0.9178321678321677
          ],
          [
           "Chimera",
           6,
           0.9658862634782609
          ],
          [
           "Chimera, Theran",
           7,
           0.6551724137931034
          ],
          [
           "Chitine",
           0.5,
           0.7476923076923078
          ],
          [
           "Chitine",
           0.5,
           0.7476923076923078
          ],
          [
           "Choker",
           1,
           0.4378846253365385
          ],
          [
           "Choldrith",
           3,
           0.7343406593406594
          ],
          [
           "Choldrith",
           3,
           0.7234615384615385
          ],
          [
           "Chuul",
           4,
           0.7192307692307692
          ],
          [
           "Clapperclaw the Scarecrow",
           0.5,
           0.3015384615384616
          ],
          [
           "Clawfoot",
           1,
           0.52062502125
          ],
          [
           "Clay Golem",
           9,
           0.7643076923076922
          ],
          [
           "Cloaker",
           8,
           0.5953846153846154
          ],
          [
           "Clockwork Bronze Scout",
           1,
           0.9553845946153846
          ],
          [
           "Clockwork Iron Cobra",
           4,
           0.3496153846153846
          ],
          [
           "Clockwork Iron Cobra",
           4,
           0.5381118881118881
          ],
          [
           "Clockwork Oaken Bolter",
           5,
           0.9104166475
          ],
          [
           "Clockwork Oaken Bolter",
           5,
           0.8931339221367521
          ],
          [
           "Clockwork Stone Defender",
           4,
           0.4846153846153846
          ],
          [
           "Clockwork Stone Defender",
           4,
           0.44
          ],
          [
           "Cloud Giant",
           9,
           0.84
          ],
          [
           "Cloud Giant Ghost",
           9,
           0.6285115570153846
          ],
          [
           "Cloud Giant Smiling One",
           11,
           0.9735576923076923
          ],
          [
           "Cloud Giant Smiling One",
           11,
           0.9717547824519231
          ],
          [
           "Cockatrice",
           0.5,
           0.3738461538461539
          ],
          [
           "Cogwork Archivist",
           4,
           0.9409090909090909
          ],
          [
           "Coldlight Walker",
           5,
           0.7932692307692307
          ],
          [
           "Colossus of Akros",
           23,
           0.7734775444711538
          ],
          [
           "Constrictor Snake",
           0.25,
           0.455
          ],
          [
           "Constrictor Snake, Giant",
           2,
           0.5333333333333333
          ],
          [
           "Copper Dragon Wyrmling",
           1,
           0.7051281769230769
          ],
          [
           "Copper Dragon, Adult",
           14,
           1.4572095520802673
          ],
          [
           "Copper Dragon, Ancient",
           21,
           1.3446154153846155
          ],
          [
           "Copper Dragon, Young",
           7,
           0.972201566259947
          ],
          [
           "Copper Greatwyrm",
           28,
           0.856875
          ],
          [
           "Coral Snake, Giant",
           4,
           0.2685314685314686
          ],
          [
           "Core Spawn Crawler",
           1,
           0.6138461538461538
          ],
          [
           "Core Spawn Emissary",
           6,
           0.8238461538461538
          ],
          [
           "Core Spawn Seer",
           13,
           0.6743250000000001
          ],
          [
           "Core Spawn Worm",
           15,
           0.953387573964497
          ],
          [
           "Corpse Flower",
           8,
           0.7407692307692307
          ],
          [
           "Corpse Flower",
           8,
           0.8710059171597634
          ],
          [
           "Corrupted Avatar of Lurue",
           8,
           0.7952662721893491
          ],
          [
           "Corrupted Giant Shark",
           9,
           0.6696394230769231
          ],
          [
           "Cosmotronics Blastseeker",
           4,
           0.7814685524475525
          ],
          [
           "Couatl",
           4,
           1.0598776223776225
          ],
          [
           "Count Thullen",
           10,
           0.711864406779661
          ],
          [
           "Counterflux Blastseeker",
           2,
           0.77
          ],
          [
           "Countess Sansuri",
           11,
           0.8151709401709404
          ],
          [
           "Cow",
           0.25,
           0.7942307423076922
          ],
          [
           "Crab, Hulking",
           5,
           0.7145299145299145
          ],
          [
           "Crackler",
           0.5,
           0.5936538703846154
          ],
          [
           "Crag Cat",
           1,
           0.6080769034615385
          ],
          [
           "Crocodile",
           0.5,
           0.3675
          ],
          [
           "Crocodile, Giant",
           5,
           0.7125
          ],
          [
           "Crokek'toeck",
           14,
           0.7935525083612041
          ],
          [
           "Crushing Wave Priest",
           2,
           1.12
          ],
          [
           "Crushing Wave Reaver",
           0.5,
           0.7446153846153847
          ],
          [
           "Crystal Dragon Wyrmling",
           2,
           0.598290576923077
          ],
          [
           "Crystal Dragon, Adult",
           12,
           1.3473701201923078
          ],
          [
           "Crystal Dragon, Adult",
           13,
           1.4367187124999998
          ],
          [
           "Crystal Dragon, Ancient",
           19,
           1.0855288202307691
          ],
          [
           "Crystal Dragon, Ancient",
           20,
           1.1526646153846154
          ],
          [
           "Crystal Dragon, Young",
           5,
           0.91875
          ],
          [
           "Crystal Greatwyrm",
           26,
           0.8849899402948718
          ],
          [
           "Cult Fanatic",
           2,
           0.4573931492307692
          ],
          [
           "Cultist",
           0.125,
           0.405
          ],
          [
           "Cyclops",
           6,
           0.9207692307692309
          ],
          [
           "Cyclops, Nivix",
           8,
           0.9390532544378698
          ],
          [
           "Daemogoth",
           10,
           0.7865466321707953
          ],
          [
           "Daemogoth Titan",
           16,
           1.19880608974359
          ],
          [
           "Dark Tide Knight",
           3,
           0.5862857142857143
          ],
          [
           "Darkling",
           0.5,
           0.5516826923076923
          ],
          [
           "Darkling",
           0.5,
           0.5516826923076923
          ],
          [
           "Darkling Elder",
           2,
           0.6205128346153845
          ],
          [
           "Darkling Elder",
           2,
           0.6698717807692307
          ],
          [
           "Darkmantle",
           0.5,
           0.46730769230769226
          ],
          [
           "Davil Starsong",
           6,
           0.6247282783444816
          ],
          [
           "Death Dog",
           1,
           0.525
          ],
          [
           "Death Embrace",
           11,
           0.8076923076923077
          ],
          [
           "Death Kiss",
           10,
           1.0159957627118643
          ],
          [
           "Death Kiss",
           10,
           1.035606258148631
          ],
          [
           "Death Knight",
           17,
           0.7636538461538461
          ],
          [
           "Death Tyrant",
           14,
           1.2792642140468227
          ],
          [
           "Death Tyrant",
           15,
           1.506102071005917
          ],
          [
           "Death's Head of Bhaal",
           5,
           0.8153846153846155
          ],
          [
           "Death’s Head (Aberrant)",
           0.5,
           0.6579326923076922
          ],
          [
           "Death’s Head (Gnashing)",
           0.5,
           0.5721153846153846
          ],
          [
           "Death’s Head (Petrifying)",
           0.5,
           0.3009326923076923
          ],
          [
           "Deathlock",
           4,
           0.6344055944055944
          ],
          [
           "Deathlock",
           4,
           0.5060140011188812
          ],
          [
           "Deathlock Mastermind",
           8,
           0.4393491124260355
          ],
          [
           "Deathlock Mastermind",
           8,
           0.5315582071005918
          ],
          [
           "Deathlock Wight",
           3,
           0.8901098901098902
          ],
          [
           "Deathlock Wight",
           3,
           0.5976923320879121
          ],
          [
           "Deep Dragon Wyrmling",
           1,
           0.48125001850961546
          ],
          [
           "Deep Dragon, Adult",
           11,
           1.6335950382051285
          ],
          [
           "Deep Dragon, Adult",
           12,
           1.896955173846154
          ],
          [
           "Deep Dragon, Ancient",
           18,
           0.9656871555692307
          ],
          [
           "Deep Dragon, Ancient",
           19,
           1.1891235682237764
          ],
          [
           "Deep Dragon, Young",
           5,
           0.8324429866452991
          ],
          [
           "Deep Rothé",
           0.25,
           0.6883333099999999
          ],
          [
           "Deep Rothé",
           0.25,
           0.6883333099999999
          ],
          [
           "Deep Scion",
           3,
           0.5980425824175823
          ],
          [
           "Deep Scion",
           3,
           0.5563186813186813
          ],
          [
           "Deinonychus",
           1,
           0.8666666399999999
          ],
          [
           "Deinonychus",
           1,
           0.75
          ],
          [
           "Demilich",
           18,
           0.8971684615384614
          ],
          [
           "Demilich",
           20,
           0.8376770769230767
          ],
          [
           "Demogorgon",
           26,
           0.7610405982905984
          ],
          [
           "Demogorgon",
           26,
           0.6721965811965812
          ],
          [
           "Demogorgon",
           26,
           1.1517531623931625
          ],
          [
           "Dermot Wurder (tier 1)",
           3,
           0.39890109890109887
          ],
          [
           "Dermot Wurder (tier 2)",
           5,
           0.5605769230769231
          ],
          [
           "Dermot Wurder (tier 3)",
           8,
           0.4555128205128205
          ],
          [
           "Derro",
           0.25,
           0.57375
          ],
          [
           "Derro",
           0.25,
           0.5296153846153846
          ],
          [
           "Derro Savant",
           3,
           0.7061538461538461
          ],
          [
           "Derro Savant",
           3,
           0.7846154070329671
          ],
          [
           "Derro Savant",
           3,
           1.0679487484615386
          ],
          [
           "Devil, Barbed",
           5,
           0.8919871794871795
          ],
          [
           "Devil, Bearded",
           3,
           1.0857142857142856
          ],
          [
           "Devil, Bone",
           9,
           0.9107115384615385
          ],
          [
           "Devil, Chain",
           8,
           0.9630597927179486
          ],
          [
           "Devil, Horned",
           11,
           0.9508546770833332
          ],
          [
           "Devil, Ice",
           14,
           1.0520066528428094
          ],
          [
           "Devil, Spined",
           2,
           0.2557692307692308
          ],
          [
           "Devourer",
           13,
           0.9959230440000001
          ],
          [
           "Devourer",
           13,
           0.9790000273846156
          ],
          [
           "Dhergoloth",
           7,
           0.7705802387267905
          ],
          [
           "Dhergoloth",
           7,
           1.0163925508488065
          ],
          [
           "Dimetrodon",
           0.25,
           0.945
          ],
          [
           "Dimetrodon",
           0.25,
           0.945
          ],
          [
           "Displacer Beast",
           3,
           0.9340659340659342
          ],
          [
           "Displacer Beast Kitten",
           0.125,
           0.41538461538461535
          ],
          [
           "Dolgaunt",
           3,
           0.8485714285714285
          ],
          [
           "Dolgrim",
           0.5,
           0.860625
          ],
          [
           "Dolphin",
           0.125,
           0.78974357
          ],
          [
           "Dolphin",
           0.125,
           0.75025643
          ],
          [
           "Dolphin Delighter",
           3,
           0.42307692307692313
          ],
          [
           "Doomwake Giant",
           11,
           0.8350694444444444
          ],
          [
           "Doppelganger",
           3,
           0.5904761714285715
          ],
          [
           "Dracohydra",
           11,
           0.9331770833333334
          ],
          [
           "Dracolich, Blue Adult",
           17,
           1.4417307692307693
          ],
          [
           "Draconian Dreadnought",
           4,
           0.9098076923076923
          ],
          [
           "Draconian Foot Soldier",
           0.5,
           0.5711538461538461
          ],
          [
           "Draconian Infiltrator",
           3,
           0.5947252892307692
          ],
          [
           "Draconian Mage",
           2,
           0.8878846153846155
          ],
          [
           "Draconian Mastermind",
           6,
           0.5869565217391305
          ],
          [
           "Draconic Shard",
           17,
           0.9592307692307693
          ],
          [
           "Draegloth",
           7,
           1.0320636604774536
          ],
          [
           "Draegloth",
           7,
           1.2332625994694961
          ],
          [
           "Dragon Blessed",
           5,
           0.8563461773076924
          ],
          [
           "Dragon Blessed",
           5,
           0.717948717948718
          ],
          [
           "Dragon Chosen",
           3,
           0.9
          ],
          [
           "Dragon Speaker",
           2,
           0.8584615384615385
          ],
          [
           "Dragon Speaker",
           2,
           0.8584615384615385
          ],
          [
           "Dragon Turtle",
           17,
           0.8816453312051281
          ],
          [
           "Dragon Turtle Wyrmling",
           4,
           0.6996503737762237
          ],
          [
           "Dragon Turtle, Ancient",
           24,
           0.9949717741935485
          ],
          [
           "Dragon Turtle, Ancient",
           25,
           0.9587838461538463
          ],
          [
           "Dragon Turtle, Young",
           10,
           0.8579791612255542
          ],
          [
           "Dragonbait",
           5,
           0.576923076923077
          ],
          [
           "Dragonblood Ooze",
           5,
           1.1180769230769232
          ],
          [
           "Dragonbone Golem",
           11,
           0.8254316440641026
          ],
          [
           "Dragonborn of Bahamut",
           8,
           1.1491782140433928
          ],
          [
           "Dragonborn of Tiamat",
           7,
           1.1047745618037137
          ],
          [
           "Dragonborn Sardior",
           6,
           1.105685618729097
          ],
          [
           "Dragonclaw",
           1,
           0.5425961538461539
          ],
          [
           "Dragonfang",
           5,
           0.57
          ],
          [
           "Dragonflesh Abomination",
           6,
           0.8283723759531774
          ],
          [
           "Dragonflesh Grafter",
           3,
           0.6375
          ],
          [
           "Dragonnel",
           2,
           0.9
          ],
          [
           "Dragonsoul",
           7,
           0.6770689655172414
          ],
          [
           "Dragonwing",
           2,
           0.6346153846153847
          ],
          [
           "Drake, Ambush",
           0.5,
           0.42871796
          ],
          [
           "Dralmorrer Borngray",
           3,
           0.8250000230769232
          ],
          [
           "Drannin Splithelm",
           7,
           1.1356631299734747
          ],
          [
           "Dread Warrior",
           1,
           1.0153846153846156
          ],
          [
           "Dretch",
           0.25,
           0.6473076923076923
          ],
          [
           "Drider",
           6,
           0.78375
          ],
          [
           "Droki",
           2,
           0.6313461726923077
          ],
          [
           "Drow",
           0.25,
           0.5425961538461539
          ],
          [
           "Drow Arachnomancer",
           13,
           0.93796875
          ],
          [
           "Drow Arachnomancer",
           13,
           0.6375
          ],
          [
           "Drow Elite Warrior",
           5,
           0.6752777777777778
          ],
          [
           "Drow Favored Consort",
           18,
           0.9156923076923076
          ],
          [
           "Drow Favored Consort",
           18,
           0.8753365384615385
          ],
          [
           "Drow Gunslinger",
           4,
           0.65
          ],
          [
           "Drow House Captain",
           9,
           0.8837500000000001
          ],
          [
           "Drow House Captain",
           9,
           0.90625
          ],
          [
           "Drow Inquisitor",
           14,
           0.5785
          ],
          [
           "Drow Inquisitor",
           14,
           0.6427826086956523
          ],
          [
           "Drow Mage",
           7,
           0.4846153655172414
          ],
          [
           "Drow Matron Mother",
           20,
           1.2427243850000003
          ],
          [
           "Drow Matron Mother",
           20,
           0.7963846153846155
          ],
          [
           "Drow Priestess of Lolth",
           8,
           0.6256837399999999
          ],
          [
           "Drow Shadowblade",
           11,
           0.9915865384615383
          ],
          [
           "Drow Shadowblade",
           11,
           0.7896634615384617
          ],
          [
           "Drowned Ascetic",
           3,
           0.756923076923077
          ],
          [
           "Drowned Assassin",
           4,
           0.9117132867132867
          ],
          [
           "Drowned Blade",
           2,
           0.40444444444444444
          ],
          [
           "Drowned Master",
           9,
           0.6349897603
          ],
          [
           "Druid",
           2,
           0.4935897576923077
          ],
          [
           "Druid of the Old Ways",
           7,
           0.7484084880636604
          ],
          [
           "Dryad",
           1,
           0.38076923076923075
          ],
          [
           "Duergar",
           1,
           0.495
          ],
          [
           "Duergar Despot",
           12,
           0.8840544653846154
          ],
          [
           "Duergar Despot",
           12,
           1.1376923076923078
          ],
          [
           "Duergar Hammerer",
           2,
           0.7474358974358974
          ],
          [
           "Duergar Hammerer",
           2,
           0.6017094205128205
          ],
          [
           "Duergar Kavalrachni",
           2,
           0.79
          ],
          [
           "Duergar Kavalrachni",
           2,
           0.6222222222222222
          ],
          [
           "Duergar Mind Master",
           2,
           0.9066666666666666
          ],
          [
           "Duergar Mind Master",
           2,
           1.0266666666666666
          ],
          [
           "Duergar Screamer",
           3,
           0.7033653846153847
          ],
          [
           "Duergar Screamer",
           3,
           0.45551280711538467
          ],
          [
           "Duergar Soulblade",
           1,
           0.7502884615384616
          ],
          [
           "Duergar Spy",
           2,
           0.8376923076923076
          ],
          [
           "Duergar Stone Guard",
           2,
           0.8433333333333334
          ],
          [
           "Duergar Stone Guard",
           2,
           0.4216666666666667
          ],
          [
           "Duergar Warlord",
           6,
           0.9641513377926423
          ],
          [
           "Duergar Warlord",
           6,
           1.2529264214046825
          ],
          [
           "Duergar Xarrorn",
           2,
           0.4666666666666667
          ],
          [
           "Duergar Xarrorn",
           2,
           0.49407409111111117
          ],
          [
           "Duke Thalamra Vanthampur",
           4,
           0.4454545581818182
          ],
          [
           "Dullahan",
           10,
           1.286261408083442
          ],
          [
           "Duodrone",
           0.25,
           0.6092307692307692
          ],
          [
           "Durnan",
           9,
           0.6823384615384616
          ],
          [
           "Dusk Hag",
           6,
           0.7990175355351171
          ],
          [
           "Dybbuk",
           4,
           0.6536363636363638
          ],
          [
           "Dybbuk",
           4,
           0.33636363636363636
          ],
          [
           "Dyrrn",
           24,
           1.1663823221153846
          ],
          [
           "Dzaan",
           4,
           0.94875003
          ],
          [
           "Dzaan's Simulacrum",
           1,
           0.63
          ],
          [
           "Eagle, Giant",
           1,
           0.66
          ],
          [
           "Earth Elemental",
           5,
           1.3003846153846153
          ],
          [
           "Earth Elemental Myrmidon",
           7,
           0.7488777435901858
          ],
          [
           "Earth Elemental Myrmidon",
           7,
           0.6905236321843501
          ],
          [
           "Eater of Hope",
           6,
           0.6742474675585285
          ],
          [
           "Eblis",
           1,
           0.45
          ],
          [
           "Egg Hunter Adult",
           5,
           0.8555555555555555
          ],
          [
           "Egg Hunter Hatchling",
           2,
           0.5521367521367521
          ],
          [
           "Eidolon",
           12,
           null
          ],
          [
           "Eidolon",
           12,
           1.1665521978021978
          ],
          [
           "Eladrin, Autumn",
           10,
           1.0489830508474576
          ],
          [
           "Eladrin, Autumn",
           10,
           0.451271186440678
          ],
          [
           "Eladrin, Spring",
           10,
           1.0489830508474576
          ],
          [
           "Eladrin, Spring",
           10,
           0.3971186440677966
          ],
          [
           "Eladrin, Summer",
           10,
           0.9037392438070407
          ],
          [
           "Eladrin, Summer",
           10,
           0.6705997392438069
          ],
          [
           "Eladrin, Winter",
           10,
           0.9266016949152543
          ],
          [
           "Eladrin, Winter",
           10,
           0.9747457627118645
          ],
          [
           "Elder Brain",
           14,
           1.0795791840802678
          ],
          [
           "Elder Brain",
           14,
           1.450418025250836
          ],
          [
           "Elder Brain Dragon",
           22,
           1.0640400015009381
          ],
          [
           "Elder Tempest",
           23,
           0.7501711717500003
          ],
          [
           "Elder Tempest",
           23,
           0.8572307907692308
          ],
          [
           "Elephant",
           4,
           0.6776223935664335
          ],
          [
           "Elizar Dryflagon",
           5,
           0.8127777777777779
          ],
          [
           "Elk",
           0.25,
           0.639166645
          ],
          [
           "Elk, Giant",
           2,
           0.7192307692307692
          ],
          [
           "Elkhorn",
           2,
           0.6459187859615385
          ],
          [
           "Emerald Dragon Wyrmling",
           2,
           0.7283333333333334
          ],
          [
           "Emerald Dragon, Adult",
           14,
           1.3335200668896319
          ],
          [
           "Emerald Dragon, Adult",
           15,
           1.5315710480946747
          ],
          [
           "Emerald Dragon, Ancient",
           21,
           1.0370454545454546
          ],
          [
           "Emerald Dragon, Ancient",
           22,
           1.0348475831707318
          ],
          [
           "Emerald Dragon, Young",
           8,
           0.8282051038461539
          ],
          [
           "Emerald Greatwyrm",
           26,
           0.8849899402948718
          ],
          [
           "Empyrean",
           23,
           1.1651990008407695
          ],
          [
           "Endelyn Moongrave",
           6,
           0.7453846153846153
          ],
          [
           "Erinyes",
           12,
           0.8382513736263737
          ],
          [
           "Eternal Flame Guardian",
           2,
           0.640370395
          ],
          [
           "Eternal Flame Priest",
           3,
           1.2000000342857144
          ],
          [
           "Ettercap",
           2,
           0.47948717948717945
          ],
          [
           "Ettin",
           4,
           0.7073426573426573
          ],
          [
           "Expeditious Messenger",
           0.125,
           0.5330769230769231
          ],
          [
           "Eyedrake",
           8,
           0.9079520396844181
          ],
          [
           "Ezmerelda d'Avenir",
           8,
           0.6606508875739646
          ],
          [
           "Faerie Dragon",
           2,
           0.017948717948717947
          ],
          [
           "Faerie Dragon (Younger)",
           1,
           0.04038461538461538
          ],
          [
           "Fastieth",
           0.25,
           0.5590384615384616
          ],
          [
           "Fathomer",
           2,
           0.7008546833333332
          ],
          [
           "Feathergale Knight",
           1,
           0.7996153846153845
          ],
          [
           "Felidar",
           5,
           0.8550855020512821
          ],
          [
           "Fire Elemental",
           5,
           1.0870192307692308
          ],
          [
           "Fire Elemental Myrmidon",
           7,
           0.9062251326259947
          ],
          [
           "Fire Elemental Myrmidon",
           7,
           0.7348103448275861
          ],
          [
           "Fire Giant",
           9,
           1.015
          ],
          [
           "Fire Giant Dreadnought",
           14,
           0.8160535384615385
          ],
          [
           "Fire Giant Dreadnought",
           14,
           0.7675585284280936
          ],
          [
           "Firefist",
           7,
           0.8193103448275862
          ],
          [
           "Firenewt Warlock of Imix",
           1,
           0.9043269230769231
          ],
          [
           "Firenewt Warlock of Imix",
           1,
           0.9865384615384615
          ],
          [
           "Firenewt Warrior",
           0.5,
           0.6663461538461539
          ],
          [
           "Firenewt Warrior",
           0.5,
           0.6473076923076923
          ],
          [
           "First-Year Student",
           0.5,
           0.7255769526923078
          ],
          [
           "Fist of Bane",
           0.5,
           0.5838461538461538
          ],
          [
           "Flail Snail",
           3,
           0.9742788865384615
          ],
          [
           "Flail Snail",
           3,
           0.726923076923077
          ],
          [
           "Flameskull",
           4,
           1.050815893706294
          ],
          [
           "Flamewrath",
           6,
           1.0842391304347827
          ],
          [
           "Fleecemane Lion",
           3,
           1.2331730509615384
          ],
          [
           "Flesh Golem",
           5,
           0.8311111111111111
          ],
          [
           "Flesh Golem, Damaged",
           1,
           0.2
          ],
          [
           "Flesh Golem, Fiendish",
           8,
           1.3254437869822486
          ],
          [
           "Flind",
           9,
           1.044951923076923
          ],
          [
           "Flind",
           9,
           0.8602
          ],
          [
           "Flumph",
           0.125,
           0.6533333584615384
          ],
          [
           "Flux Blastseeker",
           5,
           0.7774038461538462
          ],
          [
           "Fluxcharger",
           7,
           0.7687002652519893
          ],
          [
           "Flying Dagger",
           0.125,
           0.31153846153846154
          ],
          [
           "Flying Horror",
           3,
           0.6282692307692308
          ],
          [
           "Flying Rocking Horse",
           0.125,
           0.8884615384615384
          ],
          [
           "Flying Snake",
           0.125,
           0.6538461538461539
          ],
          [
           "Flying Sword",
           0.25,
           0.6663461538461539
          ],
          [
           "Fomorian",
           8,
           0.7121153846153846
          ],
          [
           "Fractal Mascot",
           0.25,
           0.81
          ],
          [
           "Fraz-Urb’luu",
           23,
           1.0433132307692308
          ],
          [
           "Fraz-Urb’luu",
           24,
           1.2352198511166252
          ],
          [
           "Fraz-Urb’luu",
           23,
           0.9091024615384615
          ],
          [
           "Fraz-Urb’luu",
           24,
           1.3232411910669972
          ],
          [
           "Fraz-Urb’luu",
           23,
           2.0485384615384614
          ],
          [
           "Froghemoth",
           10,
           0.7908311603650586
          ],
          [
           "Froghemoth",
           10,
           0.6289265712646676
          ],
          [
           "Frontline Medic",
           0.25,
           1.0725
          ],
          [
           "Frost Druid",
           5,
           0.5966346317307692
          ],
          [
           "Frost Giant",
           8,
           0.8165680473372782
          ],
          [
           "Frost Giant Everlasting One",
           12,
           0.9941547619047618
          ],
          [
           "Frost Giant Everlasting One",
           12,
           0.9778571428571429
          ],
          [
           "Frost Giant Skeleton",
           6,
           0.8954849498327759
          ],
          [
           "Frost Giant Zombie",
           9,
           0.871876923076923
          ],
          [
           "Frost Salamander",
           9,
           0.961476923076923
          ],
          [
           "Frost Salamander",
           9,
           0.9304615384615385
          ],
          [
           "Frost Worm",
           17,
           0.9239059595897435
          ],
          [
           "Frulam Mondath",
           2,
           1.5042735042735043
          ],
          [
           "Fungus, Violet",
           0.25,
           0.3634615384615384
          ],
          [
           "Galazeth Prismari",
           23,
           0.7762557874153846
          ],
          [
           "Galeb Duhr",
           6,
           0.7270484949832775
          ],
          [
           "Gallows Speaker",
           6,
           0.8480029264214047
          ],
          [
           "Galsariad Ardyth (tier 1)",
           3,
           0.6953571623076923
          ],
          [
           "Galsariad Ardyth (tier 2)",
           5,
           0.6679130833333333
          ],
          [
           "Galsariad Ardyth (tier 3)",
           8,
           0.6861439842209073
          ],
          [
           "Galvan Magen",
           3,
           0.9415384615384615
          ],
          [
           "Galvanic Blastseeker",
           5,
           0.885
          ],
          [
           "Galvanice Weird",
           1,
           0.888461558653846
          ],
          [
           "Gar Shatterkeel",
           9,
           0.5994423241153846
          ],
          [
           "Gargoyle",
           2,
           0.3814102564102564
          ],
          [
           "Gas Spore",
           0.5,
           0.02115384663461538
          ],
          [
           "Gauth",
           6,
           0.9126045150501673
          ],
          [
           "Gauth",
           6,
           0.8952062675585285
          ],
          [
           "Gazer",
           0.5,
           0.4634134615384615
          ],
          [
           "Gazer",
           0.5,
           0.4361538461538462
          ],
          [
           "Gearkeeper Construct",
           10,
           0.8522884335397654
          ],
          [
           "Gelainous Cube",
           2,
           0.5743589743589743
          ],
          [
           "Gem Stalker",
           5,
           1.0390625
          ],
          [
           "Genie, Dao",
           11,
           0.560897435897436
          ],
          [
           "Genie, Djinni",
           11,
           0.503125
          ],
          [
           "Genie, Efreeti",
           11,
           0.6196581196581197
          ],
          [
           "Genie, Marid",
           11,
           0.9313926282051282
          ],
          [
           "Geryon",
           22,
           1.1712616965759848
          ],
          [
           "Geryon",
           22,
           1.0218386269418387
          ],
          [
           "Ghald",
           7,
           0.876379289602122
          ],
          [
           "Ghast",
           2,
           0.26153846153846155
          ],
          [
           "Ghost",
           4,
           0.855944055944056
          ],
          [
           "Ghost Dragon",
           17,
           0.7779086538461538
          ],
          [
           "Ghost, Obzedat",
           8,
           1.2541420118343196
          ],
          [
           "Ghostblade Eidolon",
           5,
           0.6698717948717949
          ],
          [
           "Ghoul",
           1,
           0.21201923076923077
          ],
          [
           "Giant Badger",
           0.25,
           0.605
          ],
          [
           "Giant Bat",
           0.25,
           0.698076923076923
          ],
          [
           "Giant Canary",
           0.5,
           0.525
          ],
          [
           "Giant Centipede",
           0.25,
           0.38942307692307687
          ],
          [
           "Giant Crab",
           0.125,
           0.7476923076923078
          ],
          [
           "Giant Crab, Huge",
           8,
           0.4715680473372781
          ],
          [
           "Giant Crayfish",
           2,
           0.2313888888888889
          ],
          [
           "Giant Dragonfly",
           0.5,
           0.775
          ],
          [
           "Giant Four-Armed Gargoyle",
           10,
           0.6476134289439374
          ],
          [
           "Giant Frog",
           0.25,
           0.5123076784615385
          ],
          [
           "Giant Ice Toad",
           3,
           0.7110576923076923
          ],
          [
           "Giant Lightning Eel",
           3,
           0.5230769230769231
          ],
          [
           "Giant Lizard",
           0.25,
           0.6825
          ],
          [
           "Giant Owl",
           0.25,
           0.8999999999999999
          ],
          [
           "Giant Poisonous Snake",
           0.25,
           1.2946153846153845
          ],
          [
           "Giant Rat",
           0.125,
           0.3634615384615384
          ],
          [
           "Giant Rat, Diseased",
           0.125,
           0.3634615384615384
          ],
          [
           "Giant Skeleton",
           7,
           0.8922413793103449
          ],
          [
           "Giant Snail",
           0.25,
           0.605
          ],
          [
           "Giant Strider",
           1,
           0.9475961538461539
          ],
          [
           "Giant Strider",
           1,
           1.0523076923076922
          ],
          [
           "Giant Subterranean Lizard",
           4,
           0.8688402968881119
          ],
          [
           "Giant Toad",
           1,
           0.804375
          ],
          [
           "Giant Weasel",
           0.125,
           0.6092307692307692
          ],
          [
           "Giant Wolf Spider",
           0.25,
           0.7107692307692308
          ],
          [
           "Gibbering Mouther",
           2,
           0.44134615384615383
          ],
          [
           "Gideon Lightward",
           6,
           0.7328428093645486
          ],
          [
           "Giff",
           3,
           0.8791208571428571
          ],
          [
           "Giff",
           3,
           0.6725274527472527
          ],
          [
           "Gingwatzim",
           2,
           0.37333333333333335
          ],
          [
           "Girallon",
           4,
           0.7957604895104895
          ],
          [
           "Girallon",
           4,
           0.9195454545454546
          ],
          [
           "Girallon Zombie",
           3,
           1.0063186813186813
          ],
          [
           "Githyanki Gish",
           10,
           0.9305084745762712
          ],
          [
           "Githyanki Gish",
           10,
           0.9907909325423729
          ],
          [
           "Githyanki Kith'rak",
           12,
           0.9346153846153847
          ],
          [
           "Githyanki Kith’rak",
           12,
           0.9513049450549451
          ],
          [
           "Githyanki Knight",
           8,
           0.5573076923076923
          ],
          [
           "Githyanki Supreme Commander",
           14,
           1.4007491638795986
          ],
          [
           "Githyanki Supreme Commander",
           14,
           0.9015401337792642
          ],
          [
           "Githyanki Warrior",
           3,
           0.9138461538461539
          ],
          [
           "Githzerai Anarch",
           16,
           2.3975320890384615
          ],
          [
           "Githzerai Anarch",
           16,
           1.4869914313782053
          ],
          [
           "Githzerai Enlightened",
           10,
           0.8866525423728814
          ],
          [
           "Githzerai Enlightened",
           10,
           0.9453248245371577
          ],
          [
           "Githzerai Monk",
           2,
           1.0365384615384614
          ],
          [
           "Githzerai Zerth",
           6,
           0.9834782608695652
          ],
          [
           "Glabrezu",
           9,
           1.1666307692307694
          ],
          [
           "Gladiator",
           5,
           0.951923076923077
          ],
          [
           "Glasswork Golem",
           2,
           0.5584615384615385
          ],
          [
           "Gloamwing",
           8,
           0.7302958579881657
          ],
          [
           "Gloomstalker",
           6,
           0.9030100334448161
          ],
          [
           "Gnoll",
           0.5,
           0.5149038461538461
          ],
          [
           "Gnoll Fang of Yeenoghu",
           4,
           0.6261363636363637
          ],
          [
           "Gnoll Flesh Gnawer",
           1,
           0.5866666892307693
          ],
          [
           "Gnoll Flesh Gnawer",
           1,
           0.5415384615384616
          ],
          [
           "Gnoll Hunter",
           0.5,
           0.9201923076923076
          ],
          [
           "Gnoll Hunter",
           0.5,
           0.9519230769230768
          ],
          [
           "Gnoll Pack Lord",
           2,
           0.6092307692307691
          ],
          [
           "Gnoll Vampire",
           8,
           1.0499477317554242
          ],
          [
           "Gnoll Witherling",
           0.25,
           0.7107692307692308
          ],
          [
           "Gnoll Witherling",
           0.25,
           0.7996153846153845
          ],
          [
           "Gnome Ceremorph",
           5,
           1.0715811650641027
          ],
          [
           "Gnome Squidling",
           0.5,
           0.2751281976923077
          ],
          [
           "Gnome, Deep",
           0.5,
           0.41884615384615387
          ],
          [
           "Goat, Giant",
           0.5,
           0.5075000175000001
          ],
          [
           "Goblin",
           0.25,
           0.3701923076923077
          ],
          [
           "Goblin Boss",
           1,
           0.9346153846153846
          ],
          [
           "Goblin Gang Member",
           0.25,
           0.7572115384615385
          ],
          [
           "Gold Dragon Wyrmling",
           3,
           0.7835164582417581
          ],
          [
           "Gold Dragon, Adult",
           17,
           1.5573696255897433
          ],
          [
           "Gold Dragon, Ancient",
           24,
           1.251681141439206
          ],
          [
           "Gold Dragon, Young",
           10,
           1.064328596245111
          ],
          [
           "Gold Greatwyrm",
           28,
           0.856875
          ],
          [
           "Gold-Forged Sentinel",
           5,
           1.0831624305128207
          ],
          [
           "Golgari Shaman",
           5,
           0.6676922838461538
          ],
          [
           "Goliath Warrior",
           3,
           0.6725274725274726
          ],
          [
           "Goliath Werebear",
           8,
           0.9742011834319526
          ],
          [
           "Gorgon",
           5,
           0.7104701057692309
          ],
          [
           "Goristro",
           17,
           0.9361442307692307
          ],
          [
           "Grandolpha Muzgardt",
           2,
           0.7933333333333333
          ],
          [
           "Gray Ooze",
           0.5,
           0.4478365384615385
          ],
          [
           "Gray Ooze, Huge",
           8,
           0.8184615384615385
          ],
          [
           "Gray Ooze, Psychic",
           0.5,
           0.4478365384615385
          ],
          [
           "Gray Render",
           12,
           0.8995673076923079
          ],
          [
           "Gray Render",
           12,
           0.8329326923076923
          ],
          [
           "Graz'zt",
           24,
           1.0356923076923077
          ],
          [
           "Graz’zt",
           24,
           1.064981389578164
          ],
          [
           "Graz’zt",
           24,
           1.2955645161290323
          ],
          [
           "Greater Zombie",
           5,
           0.6641025641025642
          ],
          [
           "Green Dragon Wyrmling",
           2,
           0.9559187803846155
          ],
          [
           "Green Dragon, Adult",
           15,
           1.5245413849704141
          ],
          [
           "Green Dragon, Ancient",
           22,
           1.4506941562851783
          ],
          [
           "Green Dragon, Young",
           8,
           0.9536094915976332
          ],
          [
           "Green Greatwyrm",
           27,
           0.8754505494505496
          ],
          [
           "Grell",
           3,
           0.29615384615384616
          ],
          [
           "Gremishka",
           0.125,
           1.1307692307692307
          ],
          [
           "Grenl",
           0.25,
           1.1953845830769232
          ],
          [
           "Grick",
           2,
           0.25846153846153846
          ],
          [
           "Grick, Alpha",
           7,
           0.7892904509283819
          ],
          [
           "Griffon",
           2,
           0.772991452991453
          ],
          [
           "Griffon Cavalry Rider",
           2,
           0.5225000000000001
          ],
          [
           "Grimlock",
           0.25,
           0.4738461538461538
          ],
          [
           "Grippli Warrior",
           0.25,
           0.6542307692307692
          ],
          [
           "Grisha",
           2,
           1.241025641025641
          ],
          [
           "Groff",
           4,
           0.534965034965035
          ],
          [
           "Grung",
           0.25,
           0.5626923076923077
          ],
          [
           "Grung",
           0.25,
           0.5626923076923077
          ],
          [
           "Grung Elite Warrior",
           2,
           0.38923076923076927
          ],
          [
           "Grung Elite Warrior",
           2,
           0.3955769230769231
          ],
          [
           "Grung Wildling",
           1,
           0.5777644230769231
          ],
          [
           "Grung Wildling",
           1,
           0.8708333668269232
          ],
          [
           "Guard",
           0.125,
           0.6473076923076923
          ],
          [
           "Guard Drake",
           2,
           0.533974358974359
          ],
          [
           "Guard Drake",
           2,
           0.49583333333333335
          ],
          [
           "Guard Drake, Black",
           2,
           0.533974358974359
          ],
          [
           "Guard Drake, Black",
           2,
           0.49583333333333335
          ],
          [
           "Guard Drake, Blue",
           2,
           0.49583333333333335
          ],
          [
           "Guard Drake, Blue",
           2,
           0.533974358974359
          ],
          [
           "Guard Drake, Green",
           2,
           0.533974358974359
          ],
          [
           "Guard Drake, Green",
           2,
           0.49583333333333335
          ],
          [
           "Guard Drake, Red",
           2,
           0.533974358974359
          ],
          [
           "Guard Drake, Red",
           2,
           0.49583333333333335
          ],
          [
           "Guard Drake, White",
           2,
           0.533974358974359
          ],
          [
           "Guard Drake, White",
           2,
           0.49583333333333335
          ],
          [
           "Guardian Giant",
           8,
           0.9336168639053255
          ],
          [
           "Guardian Portrait",
           1,
           0.15901442307692307
          ],
          [
           "Guardian Wolf",
           4,
           0.6045454545454545
          ],
          [
           "Gunvald Halraggson",
           5,
           0.7134134615384616
          ],
          [
           "Guthash",
           0.25,
           0.39384615384615385
          ],
          [
           "Hadrosaurus",
           0.25,
           0.73125
          ],
          [
           "Hadrosaurus",
           0.25,
           0.73125
          ],
          [
           "Hag, Green",
           3,
           0.61875
          ],
          [
           "Hag, Night",
           5,
           0.5626666666666668
          ],
          [
           "Hag, Sea",
           2,
           0.3814102564102564
          ],
          [
           "Halaster Blackcloak",
           23,
           1.0984615384615384
          ],
          [
           "Half-Ogre",
           1,
           0.6057692307692307
          ],
          [
           "Half-Red Dragon Vetran",
           5,
           0.4277777875
          ],
          [
           "Harengon Brigand",
           0.125,
           0.6853846153846154
          ],
          [
           "Harengon Sniper",
           0.25,
           0.6490384615384616
          ],
          [
           "Harpy",
           1,
           0.3998076923076923
          ],
          [
           "Harpy Matriarch",
           5,
           0.8222222222222222
          ],
          [
           "Harpy, Blood-Toll",
           0.125,
           0.7753846153846154
          ],
          [
           "Hell Hound",
           3,
           0.5541666825000001
          ],
          [
           "Hellenrae",
           5,
           0.7784615384615385
          ],
          [
           "Hellfire Engine",
           16,
           0.9761538461538461
          ],
          [
           "Hellfire Engine",
           16,
           0.9228461538461538
          ],
          [
           "Hellwasp",
           5,
           0.5466666666666666
          ],
          [
           "Helmed Horror",
           4,
           0.8727272727272727
          ],
          [
           "Hezrou",
           8,
           0.8064102564102564
          ],
          [
           "Hill Giant",
           5,
           0.7673076923076924
          ],
          [
           "Hippocamp",
           0.5,
           0.6451923288461537
          ],
          [
           "Hippogriff",
           1,
           0.4725
          ],
          [
           "Hlam",
           16,
           0.8351076616615385
          ],
          [
           "Hoard Mimic",
           8,
           0.6609401530769231
          ],
          [
           "Hoard Scarab",
           0.125,
           0.5711538461538461
          ],
          [
           "Hobgoblin",
           0.5,
           0.4823076923076923
          ],
          [
           "Hobgoblin Captain",
           3,
           0.5700000000000001
          ],
          [
           "Hobgoblin Devastator",
           4,
           0.7127272727272728
          ],
          [
           "Hobgoblin Devastator",
           4,
           0.8272727272727273
          ],
          [
           "Hobgoblin Iron Shadow",
           2,
           0.55
          ],
          [
           "Hobgoblin Iron Shadow",
           2,
           0.5
          ],
          [
           "Hobgoblin Warlord",
           6,
           0.8559782608695651
          ],
          [
           "Hollow Dragon",
           18,
           1.08364372365
          ],
          [
           "Hollyphant",
           5,
           1.726153846153846
          ],
          [
           "Hooked Horror",
           3,
           0.8612637362637364
          ],
          [
           "Horizonback Tortoise",
           8,
           1.023076923076923
          ],
          [
           "Horncaller",
           1,
           0.7875
          ],
          [
           "Horse, Draft",
           0.25,
           0.945
          ],
          [
           "Horse, Riding",
           0.25,
           0.52
          ],
          [
           "Howler",
           8,
           0.8752588974852071
          ],
          [
           "Howler",
           8,
           0.6958580099112427
          ],
          [
           "Howling Hatred Initiate",
           0.125,
           0.4430769230769231
          ],
          [
           "Howling Hatred Priest",
           2,
           0.7519230769230768
          ],
          [
           "Hrabbaz",
           5,
           0.9423076923076923
          ],
          [
           "Hundred-Handed One",
           15,
           0.9360532544378698
          ],
          [
           "Hungry Sorrowsworn",
           11,
           1.01743347411859
          ],
          [
           "Hungry Sorrowsworn",
           11,
           1.0268251674946582
          ],
          [
           "Hurricane",
           2,
           0.6431624115384614
          ],
          [
           "Husk Zombie",
           1,
           0.723125
          ],
          [
           "Husk Zombie Burster",
           1,
           1.00125
          ],
          [
           "Hutijin",
           21,
           0.9802447552447552
          ],
          [
           "Hutijin",
           21,
           0.815034965034965
          ],
          [
           "Hybrid Brute",
           2,
           0.6844444444444444
          ],
          [
           "Hybrid Flier",
           2,
           0.48
          ],
          [
           "Hybrid Poisoner",
           1,
           0.72
          ],
          [
           "Hybrid Shocker",
           1,
           0.9975
          ],
          [
           "Hybrid Spy",
           0.5,
           0.88
          ],
          [
           "Hydra",
           8,
           0.893121301775148
          ],
          [
           "Hydra, Ironscale",
           12,
           1.0699690934065935
          ],
          [
           "Hydroloth",
           9,
           0.9346153846153847
          ],
          [
           "Hydroloth",
           9,
           0.7695
          ],
          [
           "Hyena, Giant",
           1,
           0.7788461538461537
          ],
          [
           "Hythonia",
           17,
           1.8664914849519232
          ],
          [
           "Ice Toad",
           1,
           0.4875
          ],
          [
           "Iggwilv the Witch Queen",
           20,
           0.9713076923076923
          ],
          [
           "Imix",
           19,
           2.429055944055944
          ],
          [
           "Immortal Lotus Monk",
           5,
           0.23958333333333334
          ],
          [
           "Imp",
           1,
           0.5192307692307692
          ],
          [
           "Incubus",
           4,
           0.9846154153846154
          ],
          [
           "Indentured Spirit",
           1,
           0.31153846153846154
          ],
          [
           "Inkling Mascot",
           0.25,
           0.7615384615384616
          ],
          [
           "Inquisitor of the Mind Fire",
           8,
           0.7204511834319526
          ],
          [
           "Inquisitor of the Sword",
           8,
           0.754758382642998
          ],
          [
           "Inquisitor of the Tome",
           8,
           0.5647172679684418
          ],
          [
           "Inspired",
           2,
           1.0003846153846154
          ],
          [
           "Intellect Devourer",
           2,
           0.22615384615384612
          ],
          [
           "Invisible Stalker",
           6,
           0.5217391304347826
          ],
          [
           "Iron Consul",
           2,
           0.5653846153846154
          ],
          [
           "Iron Defender",
           1,
           0.5192307692307693
          ],
          [
           "Iron Golem",
           16,
           0.8085000177692307
          ],
          [
           "Irvan Wastewalker (tier 1)",
           3,
           0.6729395604395604
          ],
          [
           "Irvan Wastewalker (tier 2)",
           5,
           0.8629166666666668
          ],
          [
           "Irvan Wastewalker (tier 3)",
           8,
           0.847869822485207
          ],
          [
           "Isarr Kronenstrom",
           8,
           0.9002662721893491
          ],
          [
           "Ishel",
           0.5,
           0.4823076923076923
          ],
          [
           "Isperia",
           21,
           1.0650361305361307
          ],
          [
           "Istrid Horn",
           8,
           0.7953846323076923
          ],
          [
           "Ixitxachitl",
           0.25,
           0.7269230769230768
          ],
          [
           "Ixitxachitl, Vampiric",
           2,
           0.5746153846153846
          ],
          [
           "Izek Strazni",
           5,
           0.685096153846154
          ],
          [
           "Jabberwock",
           13,
           1.3757749548
          ],
          [
           "Jackalwere",
           0.5,
           0.5192307692307692
          ],
          [
           "Jaculi",
           0.5,
           0.5753845984615384
          ],
          [
           "Jade Tigress",
           8,
           0.6692307692307692
          ],
          [
           "Jalester Silvermane",
           4,
           0.7604895104895105
          ],
          [
           "Jamna Gleamsilver",
           1,
           0.99
          ],
          [
           "Jarad Vod Savo",
           22,
           0.7972612570356473
          ],
          [
           "Jarlaxle Baenre",
           15,
           0.8147928994082839
          ],
          [
           "Jarund Elkhardt",
           5,
           0.8233333333333335
          ],
          [
           "Jiangshi",
           9,
           0.9102461538461539
          ],
          [
           "Juiblex",
           23,
           1.0298076923076924
          ],
          [
           "Juiblex",
           24,
           0.8793424317617865
          ],
          [
           "Juiblex",
           23,
           1.0903846153846153
          ],
          [
           "Juiblex",
           23,
           1.0903846153846153
          ],
          [
           "Kaarghaz",
           2,
           0.98
          ],
          [
           "Kalaraq Quori",
           19,
           0.6378076675384614
          ],
          [
           "Kalashtar",
           0.25,
           0.9773076923076922
          ],
          [
           "Kalka-Kylla",
           3,
           0.9340659340659342
          ],
          [
           "Kamadan",
           4,
           0.8307692307692308
          ],
          [
           "Karrnathi Undead Soldier",
           3,
           0.8169230769230769
          ],
          [
           "Kelek",
           5,
           1.0189868461324787
          ],
          [
           "Kelpie",
           4,
           0.8246153846153846
          ],
          [
           "Kenku",
           0.25,
           0.57375
          ],
          [
           "Kettlesteam the Kenku",
           1,
           0.3807692307692308
          ],
          [
           "Ki-rin",
           12,
           1.6536572802197802
          ],
          [
           "Ki-rin",
           12,
           1.4138827838827839
          ],
          [
           "Kiddywidget",
           0.5,
           0.5971153846153846
          ],
          [
           "Killer Whale",
           3,
           0.8307692307692308
          ],
          [
           "King of Feathers",
           8,
           1.8346153846153848
          ],
          [
           "King Snurre",
           11,
           0.9465144230769231
          ],
          [
           "Klauth",
           25,
           1.4018636120307695
          ],
          [
           "Knight",
           3,
           0.6285714285714286
          ],
          [
           "Koalinth",
           0.5,
           0.5711538461538461
          ],
          [
           "Koalinth Sergeant",
           2,
           0.518974358974359
          ],
          [
           "Kobold",
           0.125,
           0.2596153846153846
          ],
          [
           "Kobold Dragonshield",
           1,
           0.6473076923076923
          ],
          [
           "Kobold Dragonshield",
           1,
           0.6346153846153846
          ],
          [
           "Kobold Inventor",
           0.25,
           0.7009615384615384
          ],
          [
           "Kobold Inventor",
           0.25,
           0.5451923076923076
          ],
          [
           "Kobold Scale Sorcerer",
           1,
           0.8567307692307692
          ],
          [
           "Kobold Scale Sorcerer",
           1,
           0.8725961855769231
          ],
          [
           "Kobold Underling",
           0.125,
           0.6375
          ],
          [
           "Kobold Vampire Spawn",
           3,
           0.9138461538461538
          ],
          [
           "Kobold Zombie, Icewind",
           0.125,
           0.40769230769230774
          ],
          [
           "Kobold, Icewind",
           0.125,
           0.49846153846153846
          ],
          [
           "Kobold, Winged",
           0.25,
           0.31875
          ],
          [
           "Korred",
           7,
           0.943396551724138
          ],
          [
           "Korred",
           7,
           0.9949655172413795
          ],
          [
           "Kostchtchie",
           25,
           0.8300381538461539
          ],
          [
           "Kraken",
           23,
           2.2556153846153846
          ],
          [
           "Kraken Priest",
           5,
           0.9921153846153845
          ],
          [
           "Kraken Priest",
           5,
           0.421875
          ],
          [
           "Kraken, Juvenile",
           14,
           1.0124999999999997
          ],
          [
           "Krasis, Category 1",
           1,
           0.54
          ],
          [
           "Krasis, Category 2",
           6,
           0.7732441471571907
          ],
          [
           "Kraul Death Priest",
           4,
           0.5743589538461538
          ],
          [
           "Kraul Warrior",
           0.5,
           0.721875
          ],
          [
           "Krull",
           6,
           1.9650000600000002
          ],
          [
           "Kruthik Hive Lord",
           5,
           0.7744444633333334
          ],
          [
           "Kruthik Hive Lord",
           5,
           0.7555555366666666
          ],
          [
           "Kruthik, Adult",
           2,
           0.4766666666666667
          ],
          [
           "Kruthik, Adult",
           2,
           0.44
          ],
          [
           "Kruthik, Young",
           0.125,
           0.7615384615384616
          ],
          [
           "Kruthik, Young",
           0.125,
           0.7615384615384616
          ],
          [
           "Kuo-toa",
           0.25,
           0.4361538461538461
          ],
          [
           "Kuo-toa Archpriest",
           6,
           0.9793477891304347
          ],
          [
           "Kuo-toa Monitor",
           3,
           0.6375
          ],
          [
           "Kuo-toa Whip",
           1,
           0.73125
          ],
          [
           "Kysh",
           1,
           0.4759615384615384
          ],
          [
           "Lady Illmarrow",
           22,
           1.244553095684803
          ],
          [
           "Laeral Silverhand",
           17,
           0.7833846387692308
          ],
          [
           "Lamia",
           4,
           0.5181818181818182
          ],
          [
           "Lampad",
           3,
           0.54
          ],
          [
           "Langdedrosa Cyanwrath",
           4,
           0.8038461830769231
          ],
          [
           "Lava Child",
           3,
           0.89010989010989
          ],
          [
           "Lawmage",
           6,
           0.1865217391304348
          ],
          [
           "Lazav",
           17,
           1.1684615384615384
          ],
          [
           "Leonin Iconoclast",
           5,
           0.9346153846153846
          ],
          [
           "Leucrotta",
           3,
           0.6870535714285715
          ],
          [
           "Leucrotta",
           3,
           0.8901098901098902
          ],
          [
           "Leucrotta",
           3,
           0.801098901098901
          ],
          [
           "Leviathan",
           20,
           0.9946256161600001
          ],
          [
           "Leviathan",
           20,
           1.0765107692307692
          ],
          [
           "Liara Portyr",
           4,
           0.8243181818181818
          ],
          [
           "Lich",
           21,
           0.808163752913753
          ],
          [
           "Lich, Devkarin",
           14,
           0.9655564369846156
          ],
          [
           "Lich, Lichen",
           18,
           1.0759975961538462
          ],
          [
           "Light Devourer",
           6,
           1.1216777897324417
          ],
          [
           "Lion",
           1,
           0.38666668000000004
          ],
          [
           "Liondrake",
           7,
           0.8564632836604775
          ],
          [
           "Living Bigby's Hand",
           4,
           0.7159090909090908
          ],
          [
           "Living Blade of Disaster",
           8,
           0.8653846153846154
          ],
          [
           "Living Burning Hands",
           1,
           0.576923076923077
          ],
          [
           "Living Cloudkill",
           7,
           0.9797878206763926
          ],
          [
           "Living Doll",
           2,
           0.5398147944444444
          ],
          [
           "Living Iron Statue",
           5,
           0.5666666666666667
          ],
          [
           "Living Lightning Bolt",
           5,
           0.9378205396153846
          ],
          [
           "Lizardfolk",
           0.5,
           0.7192307692307692
          ],
          [
           "Lizardfolk Commoner",
           0.25,
           0.4759615384615384
          ],
          [
           "Lizardfolk King/Queen",
           4,
           0.8156643356643356
          ],
          [
           "Lizardfolk Render",
           3,
           0.6769230980769231
          ],
          [
           "Lizardfolk Scaleshield",
           1,
           0.9043269230769231
          ],
          [
           "Lizardfolk Shaman",
           2,
           0.35550212499999995
          ],
          [
           "Lizardfolk Subchief",
           3,
           0.5180952542857143
          ],
          [
           "Loading Rig",
           1,
           0.5775
          ],
          [
           "Locathah",
           0.5,
           0.5923076923076923
          ],
          [
           "Locathah Hunter",
           2,
           0.5584615384615385
          ],
          [
           "Lonely Sorrowsworn",
           9,
           0.8034230769230769
          ],
          [
           "Lonely Sorrowsworn",
           9,
           0.906553846153846
          ],
          [
           "Lorehold Apprentice",
           2,
           0.5274358974358975
          ],
          [
           "Lorehold Pledgemage",
           4,
           1.02285544486014
          ],
          [
           "Lorehold Professor of Chaos",
           7,
           0.7430172413793104
          ],
          [
           "Lorehold Professor of Order",
           7,
           0.6006896551724138
          ],
          [
           "Lost Sorrowsworn",
           7,
           0.9287068965517243
          ],
          [
           "Lost Sorrowsworn",
           7,
           1.031896551724138
          ],
          [
           "Loup Garou",
           13,
           1.0875
          ],
          [
           "Madam Eva",
           10,
           0.9589743849804434
          ],
          [
           "Maddgoths Homunculus",
           2,
           0.3173076923076923
          ],
          [
           "Maegera the Dawn Titan",
           23,
           1.2767826923076921
          ],
          [
           "Mage",
           6,
           0.7964548494983278
          ],
          [
           "Mage Hunter",
           5,
           0.9218376068376068
          ],
          [
           "Magen, Demos",
           2,
           0.7846153846153846
          ],
          [
           "Magen, Hypnos",
           1,
           0.5753846153846154
          ],
          [
           "Maggie Keeneyes (tier 1)",
           3,
           0.5160714285714286
          ],
          [
           "Maggie Keeneyes (tier 2)",
           5,
           0.7166666666666667
          ],
          [
           "Maggie Keeneyes (tier 3)",
           8,
           0.6532544378698225
          ],
          [
           "Magmin",
           0.5,
           0.8492307507692308
          ],
          [
           "Mahadi the Rakshasa",
           14,
           0.553248160535117
          ],
          [
           "Malformed Kraken",
           10,
           1.0628683181225553
          ],
          [
           "Mammoth",
           6,
           0.8292307396153846
          ],
          [
           "Manes",
           0.125,
           0.31153846153846154
          ],
          [
           "Manshoon",
           13,
           0.8601999747
          ],
          [
           "Manshoon Simulacrum",
           8,
           1.1352564102564102
          ],
          [
           "Manticore",
           3,
           0.7453846153846154
          ],
          [
           "Mantrap",
           1,
           0.9187499999999998
          ],
          [
           "Marilith",
           16,
           0.9015753846153848
          ],
          [
           "Marlos Urnrayle",
           8,
           1.182879684418146
          ],
          [
           "Martial Arts Adept",
           3,
           0.9904532967032967
          ],
          [
           "Martial Arts Adept",
           3,
           1.0628777472527473
          ],
          [
           "Marut",
           25,
           0.8207692307692307
          ],
          [
           "Marut",
           25,
           0.7361538461538462
          ],
          [
           "Master of Souls",
           4,
           0.8150349430069931
          ],
          [
           "Master Thief",
           5,
           0.9120833333333334
          ],
          [
           "Master Thief",
           5,
           0.8637820512820513
          ],
          [
           "Maurezhi",
           7,
           0.7629310344827587
          ],
          [
           "Maurezhi",
           7,
           0.7018965517241379
          ],
          [
           "Maw Demon",
           1,
           0.6980769389423077
          ],
          [
           "Maw Demon",
           1,
           1.523076923076923
          ],
          [
           "Maw of Sekolah",
           7,
           0.9742440318302388
          ],
          [
           "Meazel",
           1,
           0.8076923076923077
          ],
          [
           "Medusa",
           6,
           0.5372909698996655
          ],
          [
           "Medusa, Theran",
           6,
           0.8315217391304348
          ],
          [
           "Meenlock",
           2,
           0.25038461538461537
          ],
          [
           "Meenlock",
           2,
           0.17903846153846154
          ],
          [
           "Meletian Hoplite",
           3,
           0.5140384615384616
          ],
          [
           "Meloon Wardragon",
           9,
           0.8165384615384615
          ],
          [
           "Mephit, Dust",
           0.5,
           0.3661538461538461
          ],
          [
           "Mephit, Ice",
           0.5,
           0.3876923076923077
          ],
          [
           "Mephit, Magma",
           0.5,
           0.9173076576923077
          ],
          [
           "Mephit, Mud",
           0.25,
           0.5607692307692308
          ],
          [
           "Mephit, Smoke",
           0.25,
           0.5451923076923076
          ],
          [
           "Mephit, Steam",
           0.25,
           0.632692321153846
          ],
          [
           "Mercion",
           3,
           0.6219231023076923
          ],
          [
           "Merfolk",
           0.125,
           0.41884615384615387
          ],
          [
           "Merfolk Salvager",
           1,
           0.3553846153846154
          ],
          [
           "Merregon",
           4,
           0.9865384615384615
          ],
          [
           "Merregon",
           4,
           0.9346153846153846
          ],
          [
           "Merrenoloth",
           3,
           0.3382417582417583
          ],
          [
           "Merrenoloth",
           3,
           1.0681318681318681
          ],
          [
           "Merrow",
           2,
           0.5775640807692307
          ],
          [
           "Merrow Shallowpriest",
           4,
           1.3216783216783217
          ],
          [
           "Metallic Peacekeeper",
           4,
           0.7846153846153846
          ],
          [
           "Metallic Warbler",
           0.25,
           0.3876923076923077
          ],
          [
           "Mezzoloth",
           5,
           0.9815705528846155
          ],
          [
           "Miirym",
           22,
           0.8849401969981239
          ],
          [
           "Mimic",
           2,
           0.44999999999999996
          ],
          [
           "Mimic, Giant",
           3,
           1.017857142857143
          ],
          [
           "Mind Drinker Vampire",
           4,
           0.5538461538461539
          ],
          [
           "Mind Flayer",
           7,
           0.5993103600000002
          ],
          [
           "Mind Flayer Arcanist",
           8,
           0.8383974358974359
          ],
          [
           "Mind Flayer Lich",
           22,
           0.9545898887223265
          ],
          [
           "Mind Flayer Psion",
           8,
           0.445641036923077
          ],
          [
           "Mind Flayer, Vampiric",
           5,
           0.7591880341880342
          ],
          [
           "Mind Mage",
           5,
           0.6145192159615385
          ],
          [
           "Mindwitness",
           5,
           0.5192307692307693
          ],
          [
           "Mindwitness",
           5,
           0.576923076923077
          ],
          [
           "Minotaur",
           3,
           0.9205220032417583
          ],
          [
           "Minotaur Living Crystal Statue",
           6,
           0.9324414715719064
          ],
          [
           "Miraj Vizann",
           6,
           1.0420568157190635
          ],
          [
           "Mirt",
           9,
           0.7956
          ],
          [
           "Mister Light",
           3,
           0.8413186813186813
          ],
          [
           "Mister Witch",
           3,
           0.6708791208791209
          ],
          [
           "Molliver",
           3,
           0.9724450549450551
          ],
          [
           "Moloch",
           21,
           1.2259090909090908
          ],
          [
           "Moloch",
           21,
           1.175181818181818
          ],
          [
           "Molydeus",
           21,
           1.1975192307692308
          ],
          [
           "Molydeus",
           21,
           0.9500979020979021
          ],
          [
           "Monastic High Curator",
           10,
           1.0105932508474575
          ],
          [
           "Monastic Infiltrator",
           6,
           0.9481605351170569
          ],
          [
           "Monastic Operative",
           5,
           0.7845138888888888
          ],
          [
           "Mongrelfolk",
           0.25,
           0.72
          ],
          [
           "Monodrone",
           0.125,
           0.3046153846153846
          ],
          [
           "Moonstone Dragon Wyrmling",
           2,
           0.78666664
          ],
          [
           "Moonstone Dragon, Adult",
           15,
           1.1370023748698226
          ],
          [
           "Moonstone Dragon, Adult",
           16,
           1.140719370374359
          ],
          [
           "Moonstone Dragon, Ancient",
           21,
           0.8709615599999999
          ],
          [
           "Moonstone Dragon, Ancient",
           22,
           0.7761268953658536
          ],
          [
           "Moonstone Dragon, Young",
           8,
           0.9619082840236686
          ],
          [
           "Moorbounder",
           1,
           0.6865384615384617
          ],
          [
           "Moorbounder, Bristled",
           3,
           0.6850961538461539
          ],
          [
           "Mordakhesh",
           15,
           0.9971153846153846
          ],
          [
           "Morkoth",
           11,
           0.89375
          ],
          [
           "Morkoth",
           11,
           0.8275462722222222
          ],
          [
           "Mortlock Vanthampur",
           3,
           1.1076923076923078
          ],
          [
           "Mountain Goat",
           0.125,
           0.866666645
          ],
          [
           "Mouth of Grolantor",
           6,
           0.9744983277591973
          ],
          [
           "Mouth of Grolantor",
           6,
           0.9658444816053512
          ],
          [
           "Mr. Dory",
           10,
           0.8865710560625815
          ],
          [
           "Muiral",
           13,
           1.611346153846154
          ],
          [
           "Mule",
           0.125,
           0.38076923076923075
          ],
          [
           "Mummy",
           3,
           0.8923076923076924
          ],
          [
           "Mummy Lord",
           15,
           0.9461804733727812
          ],
          [
           "Mummy Lord",
           16,
           1.047899979
          ],
          [
           "Mwaxanaré",
           0.125,
           0.675
          ],
          [
           "Myconid Adult",
           0.5,
           0.5076923076923078
          ],
          [
           "Myconid Sovereign",
           2,
           0.5384615384615384
          ],
          [
           "Nabassu",
           15,
           0.8099944526627219
          ],
          [
           "Nabassu",
           15,
           0.7614902366863907
          ],
          [
           "Naergoth Bladelord",
           11,
           0.6762820512820513
          ],
          [
           "Naga, Bone",
           4,
           0.81
          ],
          [
           "Naga, Guardian",
           10,
           0.8378096479791396
          ],
          [
           "Naga, Spirit",
           8,
           0.5436390532544378
          ],
          [
           "Nagpa",
           17,
           1.0210625
          ],
          [
           "Nagpa",
           17,
           0.8937339743589744
          ],
          [
           "Naiad",
           2,
           0.5088461538461538
          ],
          [
           "Nalfeshnee",
           13,
           0.8226923076923076
          ],
          [
           "Narrak",
           2,
           0.9116809401709403
          ],
          [
           "Narzugon",
           13,
           0.9863630769230769
          ],
          [
           "Narzugon",
           13,
           0.8806153846153846
          ],
          [
           "Nass Lantomir's Ghost",
           6,
           0.507943143812709
          ],
          [
           "Necrichor",
           7,
           1.127039124668435
          ],
          [
           "Necromite of Myrkul",
           0.5,
           0.28
          ],
          [
           "Neogi",
           3,
           0.7761263736263736
          ],
          [
           "Neogi",
           3,
           0.5076923076923078
          ],
          [
           "Neogi Hatchling",
           0.125,
           0.48461538461538467
          ],
          [
           "Neogi Hatchling",
           0.125,
           0.7269230769230769
          ],
          [
           "Neogi Master",
           4,
           0.7850786713286714
          ],
          [
           "Neogi Master",
           4,
           0.735
          ],
          [
           "Neothelid",
           13,
           0.9147980769230769
          ],
          [
           "Neothelid",
           13,
           1.3454000517461537
          ],
          [
           "Nereid",
           2,
           0.91259256
          ],
          [
           "Nergaliid",
           3,
           0.7846153615384616
          ],
          [
           "Neronvain",
           9,
           0.396
          ],
          [
           "Night Blade",
           0.25,
           0.4738461538461538
          ],
          [
           "Nightmare",
           3,
           0.6351648351648352
          ],
          [
           "Nightmare Shepherd",
           11,
           1.2415069444444444
          ],
          [
           "Nightwalker",
           20,
           0.6765
          ],
          [
           "Nightwalker",
           20,
           0.623784
          ],
          [
           "Nilbog",
           1,
           0.7030480769230769
          ],
          [
           "Nilbog",
           1,
           0.5086538461538461
          ],
          [
           "Nimblewright",
           4,
           0.4326923076923077
          ],
          [
           "Nine-Fingers Keene",
           5,
           0.9184615384615384
          ],
          [
           "Nintra Siotta",
           16,
           0.9226461734769231
          ],
          [
           "Niv-Mizzet",
           26,
           1.0560866285452992
          ],
          [
           "Noble",
           0.125,
           0.6473076923076923
          ],
          [
           "Nosferatu",
           8,
           0.7230954142011834
          ],
          [
           "Nothic",
           2,
           0.3923076923076923
          ],
          [
           "Nupperibo",
           0.5,
           0.676923076923077
          ],
          [
           "Nupperibo",
           0.5,
           0.5584615384615385
          ],
          [
           "Nupperibo",
           0.5,
           0.6092307692307692
          ],
          [
           "Nycaloth",
           9,
           0.843023076923077
          ],
          [
           "Nyx-Fleece Ram",
           1,
           0.636378221875
          ],
          [
           "Oblex Spawn",
           0.25,
           0.8861538461538462
          ],
          [
           "Oblex Spawn",
           0.25,
           0.8861538461538462
          ],
          [
           "Oblex, Adult",
           5,
           0.8221153846153847
          ],
          [
           "Oblex, Adult",
           5,
           0.4567307692307692
          ],
          [
           "Oblex, Elder",
           10,
           0.834387222946545
          ],
          [
           "Occult Extollant",
           6,
           0.875
          ],
          [
           "Occult Initiate",
           2,
           0.7352136592307692
          ],
          [
           "Occult Silvertongue",
           8,
           0.8298816568047338
          ],
          [
           "Oceanus",
           0.5,
           0.4846153846153846
          ],
          [
           "Ochre Jelly",
           2,
           0.2403846153846154
          ],
          [
           "Octopus, Giant",
           1,
           0.7
          ],
          [
           "Ogre",
           2,
           0.4958333333333333
          ],
          [
           "Ogre Battering Ram",
           4,
           0.9027534965034965
          ],
          [
           "Ogre Battering Ram",
           4,
           0.8384090909090909
          ],
          [
           "Ogre Bolt Launcher",
           2,
           0.6229700854700855
          ],
          [
           "Ogre Bolt Launcher",
           2,
           0.6051709401709401
          ],
          [
           "Ogre Chain Brute",
           3,
           0.47451924086538466
          ],
          [
           "Ogre Chain Brute",
           3,
           0.39230769230769225
          ],
          [
           "Ogre Howdah",
           2,
           0.531431623931624
          ],
          [
           "Ogre Howdah",
           2,
           0.47549145299145296
          ],
          [
           "Ogre Zombie",
           2,
           0.57
          ],
          [
           "Ogremoch",
           20,
           1.55358
          ],
          [
           "Oinoloth",
           12,
           0.9667912087912088
          ],
          [
           "Oinoloth",
           12,
           0.6911057451923077
          ],
          [
           "Olhydra",
           18,
           2.082439903846154
          ],
          [
           "One-Eyed Shiver",
           3,
           1.044395637032967
          ],
          [
           "Oni",
           7,
           0.939522546419098
          ],
          [
           "Ooze Master",
           10,
           0.9823728813559321
          ],
          [
           "Oracle",
           4,
           0.3892307692307692
          ],
          [
           "Oracle of Strixhaven",
           15,
           0.8284023905325445
          ],
          [
           "Orc",
           0.5,
           0.5076923076923078
          ],
          [
           "Orc Blade of Ilneval",
           4,
           0.9031468531468532
          ],
          [
           "Orc Claw of Luthic",
           2,
           0.7384615384615385
          ],
          [
           "Orc Eye of Gruumsh",
           2,
           0.401923076923077
          ],
          [
           "Orc Hand of Yurtrus",
           2,
           0.4487179487179487
          ],
          [
           "Orc Nurtured One of Yurtrus",
           0.5,
           1.1634615807692308
          ],
          [
           "Orc Red Fang of Shargaas",
           3,
           0.8571428228571428
          ],
          [
           "Orc War Chief",
           4,
           1.1507692307692308
          ],
          [
           "Orcus",
           26,
           1.1059066666666668
          ],
          [
           "Orcus",
           26,
           1.011940723111111
          ],
          [
           "Orcus",
           26,
           1.154740723111111
          ],
          [
           "Oread",
           4,
           0.4886538334615384
          ],
          [
           "Oreioth",
           2,
           0.9262820512820513
          ],
          [
           "Oriq Blood Mage",
           9,
           1.0576121365384614
          ],
          [
           "Oriq Recruiter",
           4,
           0.9096153846153846
          ],
          [
           "Orog",
           2,
           0.7991452991452991
          ],
          [
           "Orthon",
           10,
           0.874348085886571
          ],
          [
           "Orthon",
           10,
           0.7550847457627119
          ],
          [
           "Orzhov Giant",
           6,
           0.9481605351170569
          ],
          [
           "Otto",
           3,
           0.7542857142857143
          ],
          [
           "Otyugh",
           5,
           0.7453846153846153
          ],
          [
           "Owlbear",
           3,
           0.7061538461538461
          ],
          [
           "Owlbear, Snowy",
           3,
           0.7061538461538461
          ],
          [
           "Ox",
           0.25,
           0.7942307423076922
          ],
          [
           "Ox",
           0.25,
           0.7942307423076922
          ],
          [
           "Panther",
           0.25,
           0.5088461538461538
          ],
          [
           "Pegasus",
           2,
           0.4475213675213675
          ],
          [
           "Pentadrone",
           2,
           0.625
          ],
          [
           "Peryton",
           2,
           0.5415384615384615
          ],
          [
           "Peryton, Monstrous",
           11,
           1.0948344017094018
          ],
          [
           "Pest Mascot",
           0.25,
           0.9605769230769229
          ],
          [
           "Phantom Warrior",
           3,
           0.6576923076923077
          ],
          [
           "Pharblex Splattergoo",
           3,
           1.0592307692307692
          ],
          [
           "Phase Spider",
           3,
           0.6593406593406592
          ],
          [
           "Phoenix",
           16,
           1.2646032150164104
          ],
          [
           "Phoenix",
           16,
           1.0772137014871797
          ],
          [
           "Phylaskia",
           9,
           0.7520192307692307
          ],
          [
           "Pidlwick II",
           0.25,
           0.27461538461538465
          ],
          [
           "Piercer",
           0.5,
           0.2692307692307692
          ],
          [
           "Pirate Bosun",
           0.5,
           0.5552884615384615
          ],
          [
           "Pirate Captain",
           2,
           0.49
          ],
          [
           "Pirate Deck Wizard",
           1,
           0.984375
          ],
          [
           "Pirate First Mate",
           1,
           0.63
          ],
          [
           "Pit Fiend",
           20,
           0.9692307692307693
          ],
          [
           "Pixie",
           0.25,
           0
          ],
          [
           "Plesiosaurus",
           2,
           0.6916239316239317
          ],
          [
           "Podling",
           0.5,
           0.33
          ],
          [
           "Poison Weird",
           4,
           1.1194405594405594
          ],
          [
           "Poisonous Snake",
           0.125,
           0.18461538461538463
          ],
          [
           "Poltergeist",
           2,
           0.1346153846153846
          ],
          [
           "Polukranos",
           19,
           1.2945104895104897
          ],
          [
           "Pony",
           0.125,
           0.7107692307692308
          ],
          [
           "Precognitive Mage",
           3,
           0.3426923076923077
          ],
          [
           "Priest",
           2,
           1.0028489777777778
          ],
          [
           "Priest of Osybus",
           6,
           0.7030434782608695
          ],
          [
           "Priest of Osybus (Deathly)",
           7,
           0.7645689486206896
          ],
          [
           "Priest of Osybus (Dread)",
           6,
           0.77
          ],
          [
           "Priest of Osybus (Ectoplasmic)",
           6,
           0.7030434782608695
          ],
          [
           "Priest of Osybus (Spectral)",
           7,
           1.0232625994694962
          ],
          [
           "Priest of Osybus (Vampiric)",
           6,
           0.8884615384615385
          ],
          [
           "Priosoner 237",
           1,
           0.45
          ],
          [
           "Prismari Apprentice",
           2,
           0.37512820512820516
          ],
          [
           "Prismari Pledgemage",
           4,
           0.6636363636363637
          ],
          [
           "Prismari Professor of Expression",
           7,
           0.9418103249999998
          ],
          [
           "Prismari Professor of Perfection",
           7,
           0.6303879310344828
          ],
          [
           "Pseudodragon",
           0.25,
           0.20596153846153847
          ],
          [
           "Pterafolk",
           1,
           0.72
          ],
          [
           "Pteranodon",
           0.25,
           0.49846153846153846
          ],
          [
           "Pudding King",
           4,
           0.9666667000000001
          ],
          [
           "Purple Worm",
           15,
           0.9885355029585798
          ],
          [
           "Purple Worm, Young",
           13,
           1.015701923076923
          ],
          [
           "Purple Wormling",
           2,
           0.5993589743589743
          ],
          [
           "Quadrone",
           1,
           0.8461538461538461
          ],
          [
           "Quaggoth",
           2,
           0.36923076923076925
          ],
          [
           "Quaggoth Thonot",
           3,
           0.42857141538461535
          ],
          [
           "Quandrix Apprentice",
           2,
           0.8724786324786326
          ],
          [
           "Quandrix Pledgemage",
           4,
           0.8792307415384615
          ],
          [
           "Quandrix Professor of Substance",
           7,
           0.8683289124668435
          ],
          [
           "Quandrix Professor of Theory",
           7,
           0.7890141200265252
          ],
          [
           "Quasit",
           1,
           0.20596153846153847
          ],
          [
           "Quenthel Baenre",
           22,
           0.26608818011257035
          ],
          [
           "Quetzalcoatlus",
           2,
           0.5012820512820513
          ],
          [
           "Quetzalcoatlus",
           2,
           0.423076923076923
          ],
          [
           "Quickling",
           1,
           0.6951201923076924
          ],
          [
           "Quickling",
           1,
           0.6951201923076924
          ],
          [
           "Radiant Idol",
           11,
           0.814173771474359
          ],
          [
           "Rahadin",
           10,
           0.675
          ],
          [
           "Rak Tulkhesh",
           28,
           1.0274519230769232
          ],
          [
           "Rakdos",
           24,
           0.8591826923076923
          ],
          [
           "Rakdos Lampooner",
           2,
           0.4888888888888889
          ],
          [
           "Rakdos Performer",
           1,
           0.5711538461538461
          ],
          [
           "Raksasha",
           13,
           0.1313653846153846
          ],
          [
           "Rakshasa, Zakya",
           5,
           0.827323717948718
          ],
          [
           "Ras Nsi",
           7,
           1.4610079575596817
          ],
          [
           "Rath Modar",
           6,
           1.258361204013378
          ],
          [
           "Razerblast",
           5,
           1.5026442307692307
          ],
          [
           "Reaper of Bhaal",
           2,
           0.951923076923077
          ],
          [
           "Reckoner",
           4,
           1.2424242727272727
          ],
          [
           "Red Dragon Wyrmling",
           4,
           0.7867132867132867
          ],
          [
           "Red Dragon, Adult",
           17,
           1.5898995319871791
          ],
          [
           "Red Dragon, Ancient",
           24,
           1.3668871224193548
          ],
          [
           "Red Dragon, Young",
           10,
           1.0751890482398958
          ],
          [
           "Red Greatwyrm",
           27,
           0.8754505494505496
          ],
          [
           "Red Shadow Dragon, Young",
           13,
           0.7002692307692306
          ],
          [
           "Redcap",
           3,
           0.6008241758241758
          ],
          [
           "Redcap",
           3,
           0.6008241758241758
          ],
          [
           "Relentless Juggernaut",
           12,
           1.172657967032967
          ],
          [
           "Relentless Slasher",
           8,
           1.1166247534516764
          ],
          [
           "Relic Sloth",
           2,
           0.8184615384615385
          ],
          [
           "Remallia Haventree",
           9,
           1.2419999568
          ],
          [
           "Remorhaz",
           11,
           1.1404166666666666
          ],
          [
           "Remorhaz, Young",
           5,
           0.6113461538461539
          ],
          [
           "Retriever",
           14,
           0.8729096749163879
          ],
          [
           "Retriever",
           14,
           0.900752508361204
          ],
          [
           "Returned Drifter",
           0.25,
           0.5711538461538461
          ],
          [
           "Returned Kakomantis",
           4,
           0.4056818181818182
          ],
          [
           "Returned Palamnite",
           4,
           0.8
          ],
          [
           "Returned Sentry",
           1,
           0.5225000000000001
          ],
          [
           "Revenant",
           5,
           0.7803418803418805
          ],
          [
           "Rezmir",
           7,
           1.0912466843501327
          ],
          [
           "Rhinoceros",
           2,
           0.5230769230769231
          ],
          [
           "Rhundorth",
           0.125,
           1.3326923076923074
          ],
          [
           "Rictavio",
           5,
           0.46891025641025647
          ],
          [
           "Rilsa Rael",
           3,
           0.8214285714285714
          ],
          [
           "Ringlerun",
           5,
           1.774102564102564
          ],
          [
           "Rip Tide Priest",
           2,
           0.9600000000000001
          ],
          [
           "Roc",
           11,
           0.9273504273504275
          ],
          [
           "Roper",
           5,
           1.0428846153846154
          ],
          [
           "Roper, Molten Magma",
           11,
           0.7698317307692308
          ],
          [
           "Rothé",
           0.25,
           0.7942307423076922
          ],
          [
           "Rubblebelt Stalker",
           0.5,
           0.5584615384615385
          ],
          [
           "Rug of Smothering",
           2,
           0.2115384615384615
          ],
          [
           "Ruin Grinder",
           5,
           0.5270833333333333
          ],
          [
           "Rust Monster",
           0.5,
           0.3966346153846153
          ],
          [
           "Rutterkin",
           2,
           0.9019230769230768
          ],
          [
           "Rutterkin",
           2,
           0.5312820512820513
          ],
          [
           "Sacred Stone Monk",
           0.5,
           0.7192307692307692
          ],
          [
           "Saeth Cromley",
           3,
           0.6428571428571429
          ],
          [
           "Sage",
           0.5,
           0.8567307692307692
          ],
          [
           "Sage, Master",
           5,
           0.7107692307692308
          ],
          [
           "Sahuagin",
           0.5,
           0.5753846153846154
          ],
          [
           "Sahuagin Baron",
           5,
           0.7723557692307693
          ],
          [
           "Sahuagin Blademaster",
           6,
           0.8217391304347827
          ],
          [
           "Sahuagin Champion",
           3,
           0.94875
          ],
          [
           "Sahuagin Coral Smasher",
           1,
           0.9328846153846154
          ],
          [
           "Sahuagin Deep Diver",
           4,
           0.8686363636363637
          ],
          [
           "Sahuagin Hatchling Swarm",
           3,
           0.88
          ],
          [
           "Sahuagin High Priest",
           5,
           0.5454166666666667
          ],
          [
           "Sahuagin Priest",
           2,
           0.34222223538461544
          ],
          [
           "Sahuagin Warlock of Uk'otoa",
           3,
           0.3350961620192308
          ],
          [
           "Sahuagin Wave Shaper",
           5,
           0.5946581196581197
          ],
          [
           "Salamander",
           5,
           1.1826923076923077
          ],
          [
           "Salamander, Fire Snake",
           1,
           0.9519230769230768
          ],
          [
           "Sanbalet",
           1,
           0.6905769230769231
          ],
          [
           "Sapphire Dragon Wyrmling",
           3,
           0.7192307480769231
          ],
          [
           "Sapphire Dragon, Adult",
           15,
           1.3295599507100593
          ],
          [
           "Sapphire Dragon, Adult",
           16,
           1.4475833720000002
          ],
          [
           "Sapphire Dragon, Ancient",
           22,
           0.97869760206379
          ],
          [
           "Sapphire Dragon, Ancient",
           23,
           0.9482532291346157
          ],
          [
           "Sapphire Dragon, Young",
           9,
           0.83425
          ],
          [
           "Sapphire Greatwyrm",
           26,
           0.8849899402948718
          ],
          [
           "Satyr",
           0.5,
           0.6178846153846154
          ],
          [
           "Satyr Reveler",
           1,
           0.6853846153846154
          ],
          [
           "Satyr Thornbearer",
           2,
           0.8752991683333333
          ],
          [
           "Scaladar",
           8,
           0.8510059171597634
          ],
          [
           "Scarecrow",
           1,
           0.9969230769230769
          ],
          [
           "Scholarly Agent",
           1,
           0.5626923076923077
          ],
          [
           "Scholarly Excavator",
           3,
           0.7510302197802198
          ],
          [
           "Scholarly Mastermind",
           5,
           0.9166666666666666
          ],
          [
           "Scorchbringer Guard",
           0.5,
           0.4696153719230769
          ],
          [
           "Scorpion, Giant",
           3,
           1.0052884615384616
          ],
          [
           "Scout",
           0.5,
           0.5711538461538461
          ],
          [
           "Scuttling Serpentmaw",
           4,
           0.8
          ],
          [
           "Sea Eel, Giant",
           0.5,
           0.78
          ],
          [
           "Sea Fury",
           12,
           0.9951373357417582
          ],
          [
           "Sea Fury",
           14,
           0.9157591973244147
          ],
          [
           "Sea Horse, Giant",
           0.5,
           0.28134616125
          ],
          [
           "Sea Lion",
           5,
           0.6923076923076923
          ],
          [
           "Sea Serpent, Ancient",
           14,
           1.2351793478260868
          ],
          [
           "Sea Serpent, Young",
           8,
           0.7516773691025641
          ],
          [
           "Sea Spawn",
           1,
           0.5890625
          ],
          [
           "Sea Spawn",
           1,
           0.4875
          ],
          [
           "Selenelion Twin",
           2,
           0.5230769230769231
          ],
          [
           "Sephek Kaltro",
           3,
           0.9642857142857141
          ],
          [
           "Setessan Hoplite",
           4,
           0.6954545454545454
          ],
          [
           "Severin",
           11,
           3.5016025641025643
          ],
          [
           "Shadar-kai Gloom Weaver",
           9,
           1.005
          ],
          [
           "Shadar-kai Gloom Weaver",
           9,
           1.1559269230769231
          ],
          [
           "Shadar-kai Shadow Dancer",
           7,
           0.8648275862068967
          ],
          [
           "Shadar-kai Shadow Dancer",
           7,
           0.8648275862068967
          ],
          [
           "Shadar-kai Soul Monger",
           11,
           1.0721367171282052
          ],
          [
           "Shadar-kai Soul Monger",
           11,
           1.06875
          ],
          [
           "Shadow",
           0.5,
           1.028076923076923
          ],
          [
           "Shadow Assassin",
           9,
           0.4536000000000001
          ],
          [
           "Shadow Demon",
           4,
           0.7846153846153846
          ],
          [
           "Shadow Mastiff",
           2,
           0.6487179487179486
          ],
          [
           "Shadow Mastiff",
           2,
           0.6487179487179486
          ],
          [
           "Shadow Mastiff Alpha",
           3,
           0.695054945054945
          ],
          [
           "Shadow Mastiff Alpha",
           2,
           0.6487179487179486
          ],
          [
           "Shadowghast",
           5,
           0.5695432692307693
          ],
          [
           "Shadrix Silverquill",
           22,
           0.7559915776210132
          ],
          [
           "Shambling Mound",
           5,
           1.0940740981196582
          ],
          [
           "Shark, Giant",
           5,
           0.7135897435897437
          ],
          [
           "Shark, Hunter",
           2,
           0.5
          ],
          [
           "Shark, Reef",
           0.5,
           0.38076923076923075
          ],
          [
           "Shark, Shell",
           2,
           0.9388888888888889
          ],
          [
           "Sharwyn Hucrele",
           0.5,
           0.4750000000000001
          ],
          [
           "Shemshime",
           4,
           0.5649417404195806
          ],
          [
           "Shield Guardian",
           7,
           0.886613582811671
          ],
          [
           "Shifter",
           0.5,
           0.9611538461538461
          ],
          [
           "Shoalar Quanderil",
           4,
           0.5202797202797204
          ],
          [
           "Shockerstomper",
           14,
           2.3721739130434782
          ],
          [
           "Shoosuva",
           8,
           1.0241987465976332
          ],
          [
           "Shoosuva",
           8,
           1.0365384905325445
          ],
          [
           "Sibriex",
           18,
           1.4424615138461538
          ],
          [
           "Sibriex",
           18,
           1.0615384615384615
          ],
          [
           "Silver Dragon Wyrmling",
           2,
           1.0615384615384615
          ],
          [
           "Silver Dragon, Adult",
           16,
           1.6712615748923079
          ],
          [
           "Silver Dragon, Ancient",
           23,
           1.37037497115
          ],
          [
           "Silver Dragon, Young",
           9,
           1.169969182523077
          ],
          [
           "Silver Greatwyrm",
           28,
           0.856875
          ],
          [
           "Silverquill Apprentice",
           2,
           0.4635042735042735
          ],
          [
           "Silverquill Pledgemage",
           4,
           0.8030769230769231
          ],
          [
           "Silverquill Professor of Radiance",
           7,
           0.5883620689655172
          ],
          [
           "Silverquill Professor of Shadow",
           7,
           0.5883620689655172
          ],
          [
           "Sir Braford",
           0.5,
           0.66
          ],
          [
           "Sir Godfrey Gwilym",
           6,
           1.2861761056856187
          ],
          [
           "Sire of Insanity",
           12,
           0.7843543956043956
          ],
          [
           "Siren",
           3,
           0.4542857142857143
          ],
          [
           "Skabatha Nightshade",
           8,
           0.8505917159763314
          ],
          [
           "Skeemo Weirdbottle",
           6,
           1.0121738713043478
          ],
          [
           "Skeletal Alchemist",
           0.5,
           0.875
          ],
          [
           "Skeletal Juggernaut",
           5,
           1.041346153846154
          ],
          [
           "Skeletal Swarm",
           2,
           0.846153846153846
          ],
          [
           "Skeleton",
           0.25,
           0.4124999999999999
          ],
          [
           "Skeleton, Minotaur",
           2,
           0.8615384307692308
          ],
          [
           "Skeleton, Warhorse",
           0.5,
           0.8091346153846153
          ],
          [
           "Sken Zabriss",
           1,
           0.7399038461538463
          ],
          [
           "Skittering Horror",
           15,
           0.93898224852071
          ],
          [
           "Skitterwidget",
           5,
           0.7298076923076924
          ],
          [
           "Skulk",
           0.5,
           0.9
          ],
          [
           "Skulk",
           0.5,
           1.215
          ],
          [
           "Skull Lasher of Myrkul",
           1,
           1.16875
          ],
          [
           "Skull Lord",
           15,
           1.5365715976331362
          ],
          [
           "Skull Lord",
           15,
           1.231502532846154
          ],
          [
           "Skum",
           5,
           0.6073504273504273
          ],
          [
           "Skyjek Roc",
           2,
           0.608974358974359
          ],
          [
           "Skylla",
           2,
           0.7375
          ],
          [
           "Skyswimmer",
           13,
           0.8299384615384615
          ],
          [
           "Skyweaver",
           3,
           1.2184615384615385
          ],
          [
           "Slaad, Blue",
           7,
           1.2601193633952255
          ],
          [
           "Slaad, Death",
           10,
           1.188070404172099
          ],
          [
           "Slaad, Gray",
           9,
           1.0416346153846154
          ],
          [
           "Slaad, Green",
           8,
           1.1131410256410257
          ],
          [
           "Slaad, Red",
           5,
           0.7805769230769231
          ],
          [
           "Slaad, Tadpole",
           0.125,
           1.1076923076923078
          ],
          [
           "Slarkrethel",
           25,
           2.4576950641025643
          ],
          [
           "Slithering Bloodfin",
           9,
           0.6813346153846154
          ],
          [
           "Slithering Tracker",
           3,
           0.8074999757142857
          ],
          [
           "Slithering Tracker",
           3,
           0.9365567964835164
          ],
          [
           "Smiler the Defiler",
           7,
           0.7976458885941645
          ],
          [
           "Snapping Turtle, Giant",
           3,
           0.7788461538461539
          ],
          [
           "Snarla",
           5,
           0.8476923076923077
          ],
          [
           "Snow Golem",
           3,
           0.7714285714285715
          ],
          [
           "Snurrevin",
           2,
           0.9391666666666667
          ],
          [
           "Solar",
           21,
           0.678020979020979
          ],
          [
           "Soldier",
           0.5,
           0.825
          ],
          [
           "Spawn of Kyuss",
           5,
           0.48584935897435894
          ],
          [
           "Spawn of Kyuss",
           5,
           0.6341880341880342
          ],
          [
           "Spectator",
           3,
           0.6514285714285715
          ],
          [
           "Specter",
           1,
           0.5923076923076923
          ],
          [
           "Spellix Romwod",
           0.5,
           1.0217307470192307
          ],
          [
           "Sperm Whale",
           8,
           0.8611242603550295
          ],
          [
           "Sphinx of Judgement",
           11,
           0.7446581196581197
          ],
          [
           "Sphinx, Androsphinx",
           17,
           0.840231623931624
          ],
          [
           "Sphinx, Gynosphinx",
           11,
           0.8263888888888891
          ],
          [
           "Spider, Giant",
           1,
           0.675
          ],
          [
           "Spirit Statue Mascot",
           0.25,
           1.06666664
          ],
          [
           "Spitting Mimic",
           5,
           0.8064102564102564
          ],
          [
           "Spore Servant, Chuul",
           4,
           0.7192307692307692
          ],
          [
           "Spore Servant, Hooked Horror",
           3,
           0.8612637362637364
          ],
          [
           "Spore Servant, Quaggoth",
           1,
           0.8307692307692308
          ],
          [
           "Sprite",
           0.25,
           0.02019230769230769
          ],
          [
           "Spy",
           1,
           0.6542307692307692
          ],
          [
           "Squirt the Oilcan",
           0.25,
           0.5149038461538461
          ],
          [
           "Star Spawn Emissary, Greater",
           21,
           1.5278234265734265
          ],
          [
           "Star Spawn Emissary, Lesser",
           19,
           1.2387784090909089
          ],
          [
           "Star Spawn Grue",
           0.25,
           0.48461538461538467
          ],
          [
           "Star Spawn Grue",
           0.25,
           0.5653846153846154
          ],
          [
           "Star Spawn Hulk",
           10,
           0.5680730117340287
          ],
          [
           "Star Spawn Hulk",
           10,
           0.7870078498239896
          ],
          [
           "Star Spawn Larva Mage",
           16,
           0.7753846153846154
          ],
          [
           "Star Spawn Larva Mage",
           16,
           1.0001538207692307
          ],
          [
           "Star Spawn Mangler",
           5,
           0.8257638888888889
          ],
          [
           "Star Spawn Mangler",
           5,
           0.8784722222222222
          ],
          [
           "Star Spawn Seer",
           13,
           0.9744807692307693
          ],
          [
           "Star Spawn Seer",
           13,
           1.0563232950953847
          ],
          [
           "Statue of Lloth",
           11,
           0.787860576923077
          ],
          [
           "Steeder, Female",
           1,
           0.8091346153846153
          ],
          [
           "Steeder, Female",
           1,
           0.735576923076923
          ],
          [
           "Steeder, Male",
           0.25,
           0.77
          ],
          [
           "Steel Crane",
           8,
           0.5062278106508875
          ],
          [
           "Steel Predator",
           16,
           0.8410666464000001
          ],
          [
           "Steel Predator",
           16,
           0.7748731836225642
          ],
          [
           "Stegosaurus",
           4,
           0.6218181818181818
          ],
          [
           "Stegosaurus",
           4,
           0.6218181818181818
          ],
          [
           "Stench Kow",
           0.25,
           0.7942307423076922
          ],
          [
           "Stench Kow",
           0.25,
           0.8509615096153844
          ],
          [
           "Stirge",
           0.125,
           0.1798076923076923
          ],
          [
           "Stone Cursed",
           1,
           0.495
          ],
          [
           "Stone Giant",
           7,
           0.8287931034482758
          ],
          [
           "Stone Giant Dreamwalker",
           10,
           0.7929074315514995
          ],
          [
           "Stone Giant Dreamwalker",
           10,
           0.5667796610169491
          ],
          [
           "Stone Giant of Deadstone Cleft",
           7,
           1.2435172413793105
          ],
          [
           "Stone Golem",
           10,
           0.7657245762711865
          ],
          [
           "Stone Juggernaut",
           12,
           0.8269047619047619
          ],
          [
           "Stonemelder",
           4,
           1.2456293706293706
          ],
          [
           "Storm Giant",
           13,
           1.0084615384615383
          ],
          [
           "Storm Giant Quintessent",
           16,
           1.3541666666666667
          ],
          [
           "Storm Giant Quintessent",
           16,
           1.0526923076923078
          ],
          [
           "Storm Giant Skeleton",
           16,
           0.9807692307692308
          ],
          [
           "Strahd von Zarovich",
           15,
           1.9720809181582846
          ],
          [
           "Strahd Zombie",
           1,
           0.28557692307692306
          ],
          [
           "Strahd's Animated Armor",
           6,
           0.9173913043478261
          ],
          [
           "Strigoi",
           4,
           1.017692307692308
          ],
          [
           "Strixhaven Campus Guide",
           1,
           0.748125
          ],
          [
           "Strongheart",
           4,
           0.6620192307692309
          ],
          [
           "Su-Monster",
           1,
           0.8135256742307692
          ],
          [
           "Succubus",
           4,
           0.9846154153846154
          ],
          [
           "Sul Khatesh",
           28,
           1.271453189102564
          ],
          [
           "Swarm of Animated Books",
           0.25,
           0.568333315
          ],
          [
           "Swarm of Bats",
           0.25,
           1.0096153442307692
          ],
          [
           "Swarm of Campestris",
           1,
           0.4326922903846153
          ],
          [
           "Swarm of Cranium Rats",
           5,
           0.8091346153846154
          ],
          [
           "Swarm of Cranium Rats",
           5,
           0.12115384615384615
          ],
          [
           "Swarm of Gremishkas",
           2,
           0.6470512569230769
          ],
          [
           "Swarm of Hoard Scarabs",
           2,
           0.5411538623076924
          ],
          [
           "Swarm of Insects",
           0.5,
           0.84375
          ],
          [
           "Swarm of Maggots",
           2,
           0.22435896538461536
          ],
          [
           "Swarm of Poisonous Snakes",
           2,
           1.0984615753846154
          ],
          [
           "Swarm of Rats",
           0.25,
           1.0993590057692308
          ],
          [
           "Swarm of Ravens",
           0.25,
           1.539102608076923
          ],
          [
           "Swarm of Rot Grubs",
           0.5,
           0.3634615384615384
          ],
          [
           "Swarm of Rot Grubs",
           0.5,
           0.5451923076923076
          ],
          [
           "Swarm of Scarabs",
           3,
           0.4230769079670329
          ],
          [
           "Swarm of Sorrowfish",
           6,
           0.5871571696655519
          ],
          [
           "Swarm of Zombie Limbs",
           1,
           1.1610576519230769
          ],
          [
           "Swashbuckler",
           3,
           0.8948076923076923
          ],
          [
           "Swashbuckler",
           3,
           1.2184615384615385
          ],
          [
           "Swavain Basilisk",
           7,
           0.5354774535809019
          ],
          [
           "Sword Wraith Commander",
           8,
           1.021587278106509
          ],
          [
           "Sword Wraith Commander",
           8,
           1.021587278106509
          ],
          [
           "Sword Wraith Warrior",
           3,
           0.6725274725274726
          ],
          [
           "Sword Wraith Warrior",
           3,
           0.6725274725274726
          ],
          [
           "Tabaxi Hunter",
           1,
           0.926826923076923
          ],
          [
           "Tabaxi Minstrel",
           0.25,
           0.9692307692307692
          ],
          [
           "Talis the White",
           5,
           0.595
          ],
          [
           "Tanarukk",
           5,
           0.7779647435897437
          ],
          [
           "Tanarukk",
           5,
           0.83125
          ],
          [
           "Tanazir Quandrix",
           24,
           0.88453409867866
          ],
          [
           "Tarkanan Assassin",
           2,
           0.91
          ],
          [
           "Tarrasque",
           30,
           1.09001355035732
          ],
          [
           "Tarul Var",
           13,
           1.7136327298153846
          ],
          [
           "Tashlyn Yafeera",
           9,
           0.5755692430153847
          ],
          [
           "Tecuziztecatl",
           4,
           0.7988811188811189
          ],
          [
           "Thavius Kreeg",
           0.5,
           0.3426923076923077
          ],
          [
           "Thayan Apprentice",
           2,
           0.7239316239316239
          ],
          [
           "Thayan Warrior",
           2,
           0.6222222222222222
          ],
          [
           "The Keeper",
           7,
           0.9059681697612733
          ],
          [
           "Thorn Slinger",
           0.5,
           0.825
          ],
          [
           "Thought Spy",
           1,
           0.591923076923077
          ],
          [
           "Thousand Teeth",
           6,
           0.8159573578595318
          ],
          [
           "Thri-kreen",
           1,
           0.5076923076923078
          ],
          [
           "Thrull, Servitor",
           0.25,
           0.5584615384615385
          ],
          [
           "Thrull, Winged",
           0.5,
           0.5936538461538461
          ],
          [
           "Thug",
           0.5,
           0.875
          ],
          [
           "Thunderbeast Skeleton",
           3,
           0.6725274725274726
          ],
          [
           "Thurl Merosska",
           3,
           0.9942307976373627
          ],
          [
           "Thurstwell Vanthampur",
           0.125,
           0.24615384615384617
          ],
          [
           "Tiamat",
           30,
           2.9279285359801492
          ],
          [
           "Tiamat, Aspect of",
           30,
           0.8890558312655087
          ],
          [
           "Titivilus",
           16,
           0.9703635897435898
          ],
          [
           "Titivilus",
           16,
           0.6136410256410256
          ],
          [
           "Tlincalli",
           5,
           0.5530448717948718
          ],
          [
           "Tlincalli",
           5,
           0.4831196581196581
          ],
          [
           "Tomb Tapper",
           10,
           0.9108539765319427
          ],
          [
           "Tomokratis",
           26,
           0.8165230769230769
          ],
          [
           "Topaz Dragon Wyrmling",
           2,
           0.5829059641025641
          ],
          [
           "Topaz Dragon, Adult",
           13,
           1.2266826923076923
          ],
          [
           "Topaz Dragon, Adult",
           14,
           1.3956019669565218
          ],
          [
           "Topaz Dragon, Ancient",
           20,
           1.0317210512738462
          ],
          [
           "Topaz Dragon, Ancient",
           21,
           0.9527832167832169
          ],
          [
           "Topaz Dragon, Young",
           7,
           0.8000431034482759
          ],
          [
           "Topaz Greatwyrm",
           26,
           0.8849899402948718
          ],
          [
           "Torogar Steelfist",
           11,
           0.8604166666666667
          ],
          [
           "Tortle",
           0.25,
           1.0450000000000002
          ],
          [
           "Tortle Druid",
           2,
           0.4823076923076923
          ],
          [
           "Tortle Druid",
           2,
           0.6966666666666668
          ],
          [
           "Trapper",
           3,
           0.5081318681318682
          ],
          [
           "Trapper",
           3,
           0.793956043956044
          ],
          [
           "Treant",
           9,
           0.8407384615384615
          ],
          [
           "Treant Sapling",
           2,
           1.9615384615384617
          ],
          [
           "Tri-Flower Frond",
           0.5,
           0.6692307692307692
          ],
          [
           "Tribal Warrior",
           0.125,
           0.6515384615384615
          ],
          [
           "Triceratops",
           5,
           0.6360398995726496
          ],
          [
           "Tridrone",
           0.5,
           0.6092307692307692
          ],
          [
           "Triton Master of Waves",
           8,
           1.1130177514792898
          ],
          [
           "Triton Shorestalker",
           2,
           0.8888888888888888
          ],
          [
           "Trobriand",
           22,
           1.0236064814439025
          ],
          [
           "Troglodyte",
           0.25,
           0.945
          ],
          [
           "Troglodyte Champion of Laogzed",
           3,
           0.6832692307692309
          ],
          [
           "Troll",
           5,
           0.7064102564102565
          ],
          [
           "Troll, Dire",
           13,
           0.9812492307692308
          ],
          [
           "Troll, Dire",
           13,
           0.9556153846153848
          ],
          [
           "Troll, Five-Armed",
           8,
           0.6970414201183432
          ],
          [
           "Troll, Four-Armed",
           6,
           1.105685618729097
          ],
          [
           "Troll, Ice",
           8,
           0.9909763313609468
          ],
          [
           "Troll, Rot",
           9,
           0.8524153846153846
          ],
          [
           "Troll, Rot",
           9,
           0.770676923076923
          ],
          [
           "Troll, Spirit",
           11,
           0.9453125
          ],
          [
           "Troll, Spirit",
           11,
           0.813059829059829
          ],
          [
           "Troll, Venom",
           7,
           1.0072281167108754
          ],
          [
           "Troll, Venom",
           7,
           0.8222811671087533
          ],
          [
           "Trostani",
           18,
           1.2315288461538463
          ],
          [
           "Tsucora Quori",
           7,
           0.7034482758620689
          ],
          [
           "Turlang",
           9,
           1.1815384984615387
          ],
          [
           "Two-headed Cerberus",
           2,
           0.6
          ],
          [
           "Typhon",
           15,
           1.105528873366864
          ],
          [
           "Tyrannosaurus Rex",
           8,
           0.7491346153846153
          ],
          [
           "Tyrannosaurus Zombie",
           8,
           0.7448224852071006
          ],
          [
           "Udaak",
           16,
           0.8065961538461538
          ],
          [
           "Ulder Ravengard",
           5,
           0.9615384615384616
          ],
          [
           "Ulitharid",
           9,
           0.828
          ],
          [
           "Ulitharid",
           9,
           0.743749983
          ],
          [
           "Ultroloth",
           13,
           0.5264428846153847
          ],
          [
           "Umberhulk",
           5,
           1.022905982905983
          ],
          [
           "Undercity Medusa",
           6,
           0.9423077307692307
          ],
          [
           "Underworld Cerberus",
           6,
           1.0764548494983277
          ],
          [
           "Undying Soldier",
           2,
           1.3333333333333333
          ],
          [
           "Unicorn",
           5,
           0.7604567307692308
          ],
          [
           "Unspeakable Horror",
           8,
           0.7649654832347139
          ],
          [
           "Uthgardt Shaman",
           2,
           0.7732906147435896
          ],
          [
           "Vajra Safahr",
           13,
           1.2141567307692307
          ],
          [
           "Valenar Hawk",
           0.125,
           0.9
          ],
          [
           "Valenar Hound",
           0.5,
           0.414375
          ],
          [
           "Valenar Steed",
           0.5,
           0.6923076923076924
          ],
          [
           "Vampire",
           13,
           0.8834134615384616
          ],
          [
           "Vampire Spawn",
           5,
           0.7053445762500001
          ],
          [
           "Vampire Spellcaster",
           15,
           0.8471708398668638
          ],
          [
           "Vampire Warrior",
           15,
           0.6898779585798818
          ],
          [
           "Vampire, Blood Drinker",
           8,
           0.9266272189349114
          ],
          [
           "Vampiric Jade Statue",
           8,
           1.132544378698225
          ],
          [
           "Vampiric Mist",
           3,
           0.5274725274725275
          ],
          [
           "Vampiric Mist",
           3,
           0.5274725274725275
          ],
          [
           "Vampiric Mist",
           3,
           0.5274725274725275
          ],
          [
           "Vanifer",
           9,
           1.026833374
          ],
          [
           "Vargouille",
           1,
           0.7753846153846153
          ],
          [
           "Vargouille",
           1,
           0.525
          ],
          [
           "Vegepygmy",
           0.25,
           0.7139423076923076
          ],
          [
           "Vegepygmy",
           0.25,
           0.5711538461538461
          ],
          [
           "Vegepygmy Chief",
           2,
           0.6782905764102565
          ],
          [
           "Vegepygmy Chief",
           2,
           0.48820512820512824
          ],
          [
           "Vegepygmy, Thorny",
           1,
           0.6129807692307692
          ],
          [
           "Vegepygmy, Thorny",
           1,
           0.4846153846153846
          ],
          [
           "Vellynne Harpell",
           4,
           0.634726092465035
          ],
          [
           "Velociraptor",
           0.25,
           0.6461538461538461
          ],
          [
           "Velociraptor",
           0.25,
           0.6461538461538461
          ],
          [
           "Velomachus Lorehold",
           25,
           0.8125227361730769
          ],
          [
           "Verbeeg Longstrider",
           5,
           0.9077564102564103
          ],
          [
           "Verbeeg Marauder",
           4,
           0.7489510489510489
          ],
          [
           "Veteran",
           3,
           0.6483516483516484
          ],
          [
           "Victoro Cassalanter",
           10,
           0.4406779830508475
          ],
          [
           "Vladimir Horngaard",
           7,
           1.5310344827586206
          ],
          [
           "Volothamp \"Volo\" Geddarm",
           0.25,
           0.4361538461538462
          ],
          [
           "Vox Seeker",
           0.125,
           0.4146153846153846
          ],
          [
           "Vrock",
           6,
           0.72
          ],
          [
           "Vulture, Giant",
           1,
           0.45
          ],
          [
           "Walking Statue of Waterdeep",
           18,
           0.9050143898653845
          ],
          [
           "Walrus",
           0.25,
           0.6663461538461539
          ],
          [
           "Walrus, Giant",
           4,
           0.6950611888111887
          ],
          [
           "War Priest",
           9,
           0.6610730769230768
          ],
          [
           "War Priest",
           9,
           0.7176000276
          ],
          [
           "Warduke",
           5,
           0.888125
          ],
          [
           "Warforged Colossus",
           25,
           0.902724358974359
          ],
          [
           "Warforged Soldier",
           1,
           0.6576923076923077
          ],
          [
           "Warforged Titan",
           8,
           0.8598373002958579
          ],
          [
           "Warforged, Lord of Blades",
           18,
           0.9079471153846153
          ],
          [
           "Warhorse",
           0.5,
           0.8250000187499998
          ],
          [
           "Warlock of the Archfey",
           4,
           0.8428758741258743
          ],
          [
           "Warlock of the Archfey",
           4,
           0.36086538461538464
          ],
          [
           "Warlock of the Fiend",
           7,
           0.8637931034482759
          ],
          [
           "Warlock of the Fiend",
           7,
           1.236206855172414
          ],
          [
           "Warlock of the Great Old One",
           6,
           0.6543478260869565
          ],
          [
           "Warlock of the Great Old One",
           6,
           0.7913043478260869
          ],
          [
           "Warlord",
           12,
           0.9995192307692309
          ],
          [
           "Warlord",
           12,
           0.9520604395604396
          ],
          [
           "Wasp, Giant",
           0.5,
           0.5451923076923076
          ],
          [
           "Wastrilith",
           13,
           0.9951023349553847
          ],
          [
           "Wastrilith",
           13,
           1.0396350000000003
          ],
          [
           "Water Elemental",
           5,
           1.2033333796153847
          ],
          [
           "Water Elemental Myrmidon",
           7,
           0.904488726790451
          ],
          [
           "Water Elemental Myrmidon",
           7,
           0.8461346153846155
          ],
          [
           "Water Wierd",
           3,
           0.6628571428571428
          ],
          [
           "Werebat",
           2,
           0.39384615384615385
          ],
          [
           "Werebear",
           5,
           1.2
          ],
          [
           "Wereboar",
           4,
           0.9292541069930069
          ],
          [
           "Wererat",
           2,
           0.39487179487179486
          ],
          [
           "Wereraven",
           2,
           0.3769230769230769
          ],
          [
           "Weretiger",
           4,
           1.048951006993007
          ],
          [
           "Werewolf",
           3,
           0.58
          ],
          [
           "White Dragon Wyrmling",
           2,
           0.7777777777777778
          ],
          [
           "White Dragon, Adult",
           13,
           1.8167756841538463
          ],
          [
           "White Dragon, Ancient",
           20,
           1.7147769230769232
          ],
          [
           "White Dragon, Young",
           6,
           1.4589966911036791
          ],
          [
           "White Greatwyrm",
           27,
           0.8754505494505496
          ],
          [
           "White Maw",
           10,
           0.7235691003911343
          ],
          [
           "Wiggan Nettlebee",
           2,
           0.6830769046153845
          ],
          [
           "Wight",
           3,
           0.5934065934065934
          ],
          [
           "Will-o'-wisp",
           2,
           0.18173076923076925
          ],
          [
           "Windharrow",
           3,
           1.1241757879120877
          ],
          [
           "Winged Bull",
           4,
           0.6870338183566433
          ],
          [
           "Winged Lion",
           4,
           0.7413985774825174
          ],
          [
           "Witch, Blood",
           7,
           0.49310346206896555
          ],
          [
           "Witchlight Hand",
           0.125,
           0.4361538461538461
          ],
          [
           "Witherbloom Apprentice",
           2,
           0.71228635
          ],
          [
           "Witherbloom Pledgemage",
           4,
           0.9758974584615384
          ],
          [
           "Witherbloom Professor of Decay",
           7,
           0.6788793103448276
          ],
          [
           "Witherbloom Professor of Growth",
           7,
           1.1730106100795756
          ],
          [
           "Wizard, Abjurer",
           9,
           0.9072
          ],
          [
           "Wizard, Abjurer",
           9,
           0.9205307387999999
          ],
          [
           "Wizard, Conjurer",
           6,
           0.941977424749164
          ],
          [
           "Wizard, Conjurer",
           6,
           0.6418060454849499
          ],
          [
           "Wizard, Diviner",
           8,
           0.8472386587771202
          ],
          [
           "Wizard, Diviner",
           8,
           0.8259369100591716
          ],
          [
           "Wizard, Enchanter",
           5,
           0.919365168931624
          ],
          [
           "Wizard, Enchanter",
           5,
           0.9636004655128206
          ],
          [
           "Wizard, Evoker",
           9,
           0.9866153846153848
          ],
          [
           "Wizard, Evoker",
           9,
           0.9709615384615384
          ],
          [
           "Wizard, Illusionist",
           3,
           0.7446153846153846
          ],
          [
           "Wizard, Illusionist",
           3,
           0.6557692307692308
          ],
          [
           "Wizard, Necromancer",
           9,
           0.9382692307692309
          ],
          [
           "Wizard, Necromancer",
           9,
           0.46730769230769237
          ],
          [
           "Wizard, Transmuter",
           5,
           0.5878125
          ],
          [
           "Wizard, Transmuter",
           5,
           0.9064102923076924
          ],
          [
           "Woe Strider",
           7,
           0.7899137931034482
          ],
          [
           "Wolf",
           0.25,
           0.47384615384615386
          ],
          [
           "Wolf, Dire",
           1,
           0.6490384615384615
          ],
          [
           "Wolf, Winter",
           3,
           0.7170329917582418
          ],
          [
           "Wood Woad",
           5,
           0.7224358974358973
          ],
          [
           "Wood Woad",
           5,
           0.7224358974358973
          ],
          [
           "Worg",
           0.5,
           0.8
          ],
          [
           "Wraith",
           5,
           0.38636858974358973
          ],
          [
           "Wretched Sorrowsworn",
           0.25,
           0.85
          ],
          [
           "Wretched Sorrowsworn",
           0.25,
           0.85
          ],
          [
           "Wurm",
           14,
           0.5712374581939801
          ],
          [
           "Wyvern",
           6,
           0.7982608695652174
          ],
          [
           "Xandala",
           7,
           0.8251580168965517
          ],
          [
           "Xardorok Sunblight",
           5,
           0.6013568236217949
          ],
          [
           "Xorn",
           5,
           0.8341185897435897
          ],
          [
           "Xvart",
           0.125,
           0.4442307692307692
          ],
          [
           "Xvart",
           0.125,
           0.4442307692307692
          ],
          [
           "Xvart Warlock of Raxivort",
           1,
           0.693076923076923
          ],
          [
           "Xvart Warlock of Raxivort",
           1,
           0.6748718092307692
          ],
          [
           "Yagnoloth",
           11,
           0.8821814647211539
          ],
          [
           "Yagnoloth",
           11,
           0.7979567307692308
          ],
          [
           "Yakfolk Priest",
           4,
           0.645236013986014
          ],
          [
           "Yakfolk Warrior",
           3,
           0.89010989010989
          ],
          [
           "Yan-C-Bin",
           18,
           2.4054328846153847
          ],
          [
           "Yeenoghu",
           24,
           1.0008238213399505
          ],
          [
           "Yeenoghu",
           25,
           0.9300529230769233
          ],
          [
           "Yeenoghu",
           24,
           0.8788183622828784
          ],
          [
           "Yeenoghu",
           24,
           1.2430831265508684
          ],
          [
           "Yellow Musk Creeper",
           2,
           0.35
          ],
          [
           "Yellow Musk Zombie",
           0.25,
           0.7692307692307692
          ],
          [
           "Yestabrod",
           4,
           1.0862762237762238
          ],
          [
           "Yeth Hound",
           4,
           0.8024475524475524
          ],
          [
           "Yeth Hound",
           4,
           0.8024475524475524
          ],
          [
           "Yeti",
           3,
           0.7285714285714285
          ],
          [
           "Yeti Tyke",
           0.125,
           0.38076923076923075
          ],
          [
           "Yeti, Abominable",
           9,
           0.9138461538461539
          ],
          [
           "Yinra Emberwind",
           0.5,
           0.4283653846153846
          ],
          [
           "Yochlol",
           10,
           0.6627118644067796
          ],
          [
           "Young Griffon (Medium)",
           1,
           0.4265625
          ],
          [
           "Young Griffon (Small)",
           0.25,
           0.275
          ],
          [
           "Yuan-ti Abomination",
           7,
           0.7812334217506632
          ],
          [
           "Yuan-ti Anathema",
           12,
           0.9423869047619048
          ],
          [
           "Yuan-ti Anathema",
           12,
           1.2658928571428572
          ],
          [
           "Yuan-ti Broodguard",
           2,
           0.6125
          ],
          [
           "Yuan-ti Broodguard",
           2,
           0.56
          ],
          [
           "Yuan-ti Malison",
           3,
           0.7397802197802197
          ],
          [
           "Yuan-ti Malison (Type 4)",
           3,
           0.7397802197802197
          ],
          [
           "Yuan-ti Malison (Type 5)",
           3,
           0.7397802197802197
          ],
          [
           "Yuan-ti Mind Whisperer",
           4,
           0.8824038461538463
          ],
          [
           "Yuan-ti Mind Whisperer",
           4,
           0.761771544055944
          ],
          [
           "Yuan-ti Nightmare Speaker",
           4,
           0.8708333650000002
          ],
          [
           "Yuan-ti Nightmare Speaker",
           4,
           0.6333333175
          ],
          [
           "Yuan-ti Pit Master",
           5,
           0.7051282051282052
          ],
          [
           "Yuan-ti Pit Master",
           5,
           0.8812535374358975
          ],
          [
           "Yuan-ti Pureblood",
           1,
           0.5997115384615385
          ],
          [
           "Yusdrayl",
           1,
           0.6028846153846155
          ],
          [
           "Zarak",
           2,
           0.877670907051282
          ],
          [
           "Zaratan",
           22,
           0.9128330206378986
          ],
          [
           "Zaratan",
           22,
           0.925091932457786
          ],
          [
           "Zargash",
           3,
           0.8923076923076924
          ],
          [
           "Zariel",
           26,
           1.0665180397083334
          ],
          [
           "Zariel",
           26,
           1.030111090833333
          ],
          [
           "Zegana",
           16,
           1.2503333333333333
          ],
          [
           "Zephyros",
           13,
           1.05
          ],
          [
           "Zindar",
           8,
           1.0305720192307692
          ],
          [
           "Ziraj the Hunter",
           8,
           0.7468934911242603
          ],
          [
           "Zombie",
           0.25,
           0.45951923076923074
          ],
          [
           "Zombie Clot",
           6,
           1.0268896641973246
          ],
          [
           "Zombie Plague Spreader",
           4,
           0.64493006993007
          ],
          [
           "Zorbo",
           0.5,
           0.54
          ],
          [
           "Zuggtmoy",
           23,
           1.0030375384615384
          ],
          [
           "Zuggtmoy",
           23,
           1.0501615384615384
          ],
          [
           "Zuggtmoy",
           23,
           1.4021615624711536
          ]
         ],
         "hovertemplate": "<b>%{customdata[0]}</b><br>CR: %{customdata[1]}<br>eXP ratio: %{customdata[2]:.2f}<extra></extra>",
         "marker": {
          "color": "blue",
          "opacity": 1
         },
         "mode": "markers",
         "name": "monsters",
         "type": "scatter",
         "x": [
          -0.19419987329718336,
          -0.0008217985392775518,
          8.709219589244114,
          7.093847081943133,
          6.628012269439838,
          17.439981067885018,
          16.5257982890633,
          15.134286018303845,
          14.805852319396816,
          18.788613471867112,
          18.978398252124443,
          6.4949772688765774,
          5.512142134963228,
          9.720909873453792,
          0.45175572759879257,
          0.2974328313663226,
          22.622780181875743,
          0.004436860650414709,
          9.912973882353375,
          7.7363273305334825,
          11.529706265789795,
          7.2372046614990735,
          1.5697853473768726,
          8.648173428168723,
          5.181797268024515,
          7.490355773928348,
          6.88600432117015,
          3.384130234216994,
          0.7105065284572734,
          1.1487748843729717,
          9.520524079199987,
          10.308429790788434,
          10.857252884799122,
          10.566031008392976,
          4.969114307265781,
          5.188604901176264,
          2.292245643035692,
          1.0059902366004603,
          11.841697950426688,
          13.702052882151857,
          12.134039787030648,
          12.203495306083582,
          13.061800411821244,
          12.78629869682303,
          10.607125146729558,
          11.49177221741721,
          4.090222836333227,
          16.345628901395816,
          17.476210277847336,
          23.265937062341386,
          23.91859571611949,
          8.829580350639034,
          26.186963088830304,
          0.7586860222378933,
          5.122229496469604,
          18.11478846137621,
          17.91677260173657,
          2.8777803436615477,
          0.39120328240954283,
          2.837644952792056,
          0.058794597265171444,
          14.268260772577365,
          10.017507440899665,
          12.120952203432088,
          15.68551386260065,
          13.347893302357901,
          12.892020300005454,
          0.9211120550926739,
          6.466942653785716,
          5.925944184177211,
          6.029312290839248,
          6.119926200879963,
          6.301071245247769,
          0.47740690578445366,
          0.7582276114319182,
          -0.35952069729850855,
          4.0452333461656265,
          1.6820411952360317,
          2.159382060702753,
          2.6842945187458653,
          2.7636965742482085,
          5.500912813652361,
          5.97953550273514,
          0.24853146123211,
          0.30007454738708683,
          7.192828491137263,
          5.437727450168928,
          0.6125997842520663,
          0.6263089849620469,
          20.527020652436136,
          11.8055809890164,
          17.73228671822191,
          12.390023105297605,
          12.205734426942149,
          2.8961543493041764,
          3.375439392602356,
          11.50191646777645,
          11.797599509017928,
          13.64639498378942,
          11.538028627964023,
          20.636016570794293,
          15.852373037822755,
          7.015563561396087,
          7.436243322384242,
          10.756776244908894,
          -0.029716199758442974,
          6.87647866532587,
          16.362042679235476,
          7.73984503135908,
          2.675624305891777,
          21.28080376072856,
          20.96526565490785,
          13.033961927385237,
          22.625593512281355,
          9.195471202451753,
          9.82598734511238,
          11.203546339021283,
          2.18156228332071,
          1.7922690834562318,
          7.361966331364913,
          2.3898901792376805,
          3.377671808271575,
          0.731240989872946,
          3.2787206945415104,
          5.275692497416857,
          7.819986092144537,
          4.068645108550194,
          2.163632948940393,
          10.762676941147454,
          11.270863414079798,
          3.754144730579199,
          4.340678991895146,
          18.60735633376482,
          19.084291234676773,
          29.826408382440963,
          13.187912084174842,
          10.922256595563574,
          18.866312271513358,
          5.3125591491223965,
          4.7321411540239495,
          0.4768824062544942,
          1.799978567593234,
          3.7299430224281016,
          23.299427663611723,
          22.56838616381112,
          22.863973799687074,
          1.5808640918461734,
          2.436614705814784,
          4.452602091942599,
          4.420826374596989,
          5.310749548191207,
          1.875999906910339,
          0.49858494391061237,
          3.1279416662456154,
          7.76228052138922,
          5.366282177932304,
          6.551999895386074,
          1.0243419129699287,
          1.6973880670635073,
          10.825861432849615,
          13.36652728023009,
          13.915338162462213,
          5.337998041027882,
          24.901485682714096,
          21.81685547061029,
          22.888799804895662,
          24.20220941913444,
          2.255822935767969,
          1.5761682514017794,
          2.2754168709148788,
          7.1136850941108145,
          6.965916748504703,
          7.996635713199156,
          5.1957020671696235,
          0.4155451479069514,
          1.6752716182621117,
          13.776027604383291,
          21.05179479378632,
          6.578880470598403,
          2.498847912273699,
          2.144087244470425,
          3.0110159829541763,
          6.369934553213828,
          26.804166263423397,
          4.089938256692857,
          4.977675135116546,
          8.057581003783705,
          7.662000098125077,
          8.902062431093675,
          -0.01943924930552099,
          6.621825027258241,
          0.08210618662344016,
          0.693880567366628,
          0.6958757767462933,
          3.658913035168834,
          0.5123506738200234,
          4.949093124634102,
          6.326523690897417,
          2.832810894100208,
          16.103052438015496,
          23.078067872475827,
          8.547506042374161,
          26.934646959980366,
          0.3380023395134788,
          1.7556193151908701,
          5.864476366398508,
          5.599673473067002,
          6.859497278779977,
          0.28234948468029697,
          -0.3572159923430327,
          2.905020094700794,
          4.708831602565411,
          -0.20703279607313607,
          12.03061338097868,
          12.098590506427563,
          1.2944005292148653,
          17.95706482314544,
          15.524401624045915,
          3.4242381738889796,
          3.106275871145444,
          1.142936263082027,
          13.444459993377126,
          20.447146285487406,
          5.9231882503707505,
          27.53496903322851,
          -0.21282089964237305,
          4.684609180092796,
          4.942307787743609,
          1.9027681595631072,
          14.719019156658721,
          21.516089071788883,
          8.1467845375224,
          27.54071463606048,
          1.2197208179462717,
          0.13905407568510753,
          1.2616829872486581,
          2.5950147616834354,
          3.3841375260638955,
          4.961763776142507,
          2.650415238327756,
          0.4689961221896555,
          1.6282798013239668,
          2.951548662082171,
          2.7617561743754537,
          2.3647978250544655,
          3.695719230208426,
          13.82610557318558,
          14.1989793163878,
          4.755275264093345,
          0.4592374847290226,
          7.778897505082648,
          7.789798638351327,
          12.988276860251656,
          5.271370612770076,
          1.7029519212607376,
          3.1518719795182246,
          1.2613991039863688,
          4.878348464019072,
          4.897087950895403,
          2.5201133529105917,
          2.547145050774347,
          1.7738257708296241,
          5.520820413369402,
          2.2556028158671633,
          9.075197405273439,
          8.546132280374959,
          0.86028885389499,
          4.057001192167878,
          11.210364315720014,
          5.873499950767768,
          5.332668876905397,
          3.7263588984307034,
          6.470382153024081,
          7.446457332754598,
          0.6966159550090185,
          0.8862484936541168,
          1.3750608571786427,
          3.09681254925205,
          2.826443802392591,
          4.190599087207285,
          0.7094179641389187,
          1.054464685911039,
          9.209250001392574,
          7.95222676444595,
          0.766234175941652,
          4.296458894942661,
          4.182800981138808,
          4.904770705154779,
          4.564230027059093,
          4.157303152103799,
          3.527032373195877,
          9.48404732630525,
          8.926221695408396,
          11.371531202806274,
          10.959245232535311,
          0.6645134267249333,
          3.846104748696339,
          5.125706459164544,
          22.767337952401984,
          0.5189434596588525,
          2.487183216350708,
          0.9911464623063662,
          14.086009495326376,
          20.573446373987903,
          6.663545887988514,
          28.27259213218611,
          4.331062205292939,
          1.3876358996252045,
          5.6897384958952575,
          13.164798143396684,
          14.931263013726303,
          8.040598838589382,
          8.060567453068751,
          8.099382266522804,
          8.715453607759464,
          4.15326167166993,
          3.946466466062323,
          9.998097840099826,
          1.6266556377841406,
          11.427173629381471,
          0.3283938409122559,
          5.435772212934826,
          0.5045726781461948,
          0.8540793540668354,
          0.2203376164818358,
          5.170784097339991,
          13.790183123611495,
          1.8694481629130903,
          0.5328294750068236,
          1.9732747451046655,
          12.14688611690731,
          12.950998633788007,
          19.36068954729938,
          19.867871244099277,
          4.885684295448144,
          26.497421789452076,
          1.8093006796587479,
          0.21016640743716009,
          6.2339790593294975,
          8.0306854985109,
          9.905732559638789,
          15.821995930638177,
          3.0569118038709115,
          0.7037904772533738,
          0.22843394732481648,
          1.9979378129219922,
          2.4464582577443235,
          0.25541382471366125,
          5.59536965807948,
          0.6037187980097825,
          10.629082547883725,
          9.877875527141335,
          9.976032377465936,
          16.56703114161522,
          13.754245678640833,
          15.232635194552318,
          4.518218509517127,
          0.18911154154651078,
          0.727646197188176,
          0.32665705098212305,
          3.6510662933879523,
          3.6284206752336496,
          8.198101194614352,
          7.52220741372221,
          2.9600490716857335,
          3.226510255533629,
          0.9709797243284002,
          10.852254533515094,
          11.88020837442808,
          17.58032329523075,
          19.442282296736504,
          4.570117484842636,
          0.5243524659209449,
          0.21262992089026111,
          2.5851449857550555,
          3.088671357660218,
          1.4043084491524223,
          0.9465605137575515,
          17.98838730590079,
          20.429614328346126,
          25.91712059316537,
          25.81442981822689,
          26.08822298260374,
          2.8360794225790973,
          5.476999350151102,
          8.245775119868739,
          0.7022195389201329,
          0.6570645083302153,
          3.1193866869589963,
          2.5352704239686363,
          2.510637931865615,
          4.641973678881749,
          2.813416068716368,
          8.691235077022498,
          7.927672695527127,
          11.03483405714582,
          13.827553222637787,
          2.109100168050668,
          12.825733729206751,
          13.466813206404652,
          7.307628870115958,
          6.540926778971345,
          0.6086105014652059,
          -0.1528630111210555,
          2.5649980014796223,
          0.24065170201061437,
          3.2738834977511178,
          0.18015258007300405,
          0.003169054740757349,
          0.006694361323771436,
          2.574483679338563,
          11.373353437588984,
          3.387790166339426,
          11.191124230706299,
          16.828407732666435,
          4.332988947040087,
          0.6735115183892102,
          3.277421013858317,
          2.3992993621474605,
          6.279723013339012,
          17.245278508802848,
          7.2517135091670735,
          6.9061587633167045,
          4.931528875551258,
          5.347934936423106,
          3.411592146585723,
          2.397924282582623,
          1.844934641453699,
          16.51923873468828,
          3.8193642205220897,
          24.1286769005856,
          24.80861695842726,
          9.921443284661638,
          5.466800071278698,
          4.904708509924391,
          11.2409707353668,
          7.912494784914413,
          7.366364855172581,
          6.396936288681907,
          0.5237908072431796,
          4.876766896964236,
          6.163433958230717,
          3.389491878723435,
          1.553298511738662,
          7.326220571425328,
          2.2231732218087865,
          0.2947953344357571,
          2.915224224741475,
          7.046087560237057,
          0.8431907279391992,
          -0.18516814681302873,
          6.220435160699264,
          2.215149958943878,
          0.47805324554819384,
          13.08832934042863,
          12.8785231098571,
          5.391945073639483,
          17.640838737448025,
          17.93535788492203,
          4.143931879552306,
          9.062320136704816,
          9.190308932842393,
          13.808447324195962,
          14.21353104060745,
          6.852616866311227,
          19.56264290240349,
          20.497465700860815,
          8.090147746734484,
          10.720053713012078,
          11.482991788218014,
          3.4580753842500176,
          3.8635953422865796,
          2.417005476612654,
          9.045613439406306,
          2.495294845811002,
          7.196341128257555,
          1.456325449021425,
          1.2474710040386874,
          11.959386495073394,
          11.759281738075694,
          2.1796469708564126,
          2.2200595494799336,
          2.1080709681896215,
          1.6624014275761034,
          1.90790985470922,
          2.0253582062901745,
          2.6063286636669614,
          2.8283151117764964,
          0.5582129617543483,
          1.776395919669584,
          2.476080332000922,
          1.779692729299546,
          5.7343445863935205,
          5.621577691421222,
          1.5174015963189742,
          2.3479698007534995,
          3.641392880382803,
          10.346237435468739,
          0.5161698947347961,
          9.094060168891703,
          6.385605527964811,
          3.7221381416495367,
          3.605231343935105,
          24.158970575297054,
          3.763810225925333,
          0.904506748828716,
          1.3786966450265683,
          4.614708112264099,
          7.18001955390692,
          6.686031242114798,
          5.680144916834865,
          1.3273489193699235,
          4.762687784666413,
          2.4297644223460755,
          11.686602762667809,
          12.296707017149968,
          9.577431915636634,
          10.15242753762677,
          10.094300737607758,
          10.119843592936844,
          10.168382996099048,
          9.961422856921907,
          10.008227927792746,
          10.365095496524134,
          14.116526543893194,
          13.649183319088785,
          22.025708273621696,
          22.64011783435191,
          22.960239741750428,
          3.681768785903146,
          5.487000393703852,
          -0.03701007796174882,
          2.443019736237996,
          1.9239168091353323,
          1.7130605119732563,
          13.710137241691706,
          15.459424888254864,
          21.03004088922563,
          21.734875986776746,
          7.651804464268258,
          26.163631837860734,
          22.9817171356556,
          6.254550903491548,
          12.294112983680836,
          2.2153434106251026,
          3.0510126423260875,
          1.8239505706794614,
          4.124659750539773,
          0.30449370975280377,
          7.662731448073847,
          8.02107878306985,
          1.7914947949334175,
          0.5753460441302174,
          0.338492027371348,
          2.147461393543675,
          0.7026224518168671,
          5.144933054648532,
          5.241948962525798,
          6.506623958415376,
          6.810869211292969,
          9.195092142222945,
          14.352292451114694,
          13.850780890554391,
          6.9567779220391905,
          0.9852533953744498,
          0.6607822080766772,
          0.6546066506478032,
          0.5361354862404866,
          0.8432030185122159,
          0.400335628994971,
          3.3723579049725796,
          3.2298180828212093,
          4.345824027912217,
          5.800026150475176,
          3.1356720589150457,
          4.658765188807959,
          1.23275141274351,
          7.972532302134114,
          8.951339631808116,
          9.035798346480293,
          0.4625069488865656,
          5.198385658311355,
          6.985049576016531,
          -0.032198457529622804,
          3.247097834547797,
          -0.31807633997907725,
          0.15839853300357898,
          -0.02916259521019926,
          7.753103290082807,
          0.6062333104861539,
          23.067843597379895,
          24.084436361561984,
          22.59611741216145,
          24.288836827650886,
          23.183035805772725,
          10.38172696690354,
          9.548998336358695,
          0.17714439618657563,
          4.783017229179482,
          7.897967705693581,
          12.07103672788106,
          12.318242321384322,
          5.655665796928748,
          9.45533701511453,
          9.298054978682488,
          8.719078776215168,
          16.89877290081678,
          1.9917242508716448,
          -0.22697358672671308,
          22.687037660213015,
          5.5671074276094945,
          6.237665653882214,
          3.488747279498639,
          5.23917207954532,
          7.707169736705595,
          2.666891364721809,
          5.22892622362179,
          1.3497714750766048,
          8.600517571778301,
          1.9187911340897466,
          0.465540450777841,
          5.575497129974783,
          5.56508622713347,
          0.9367846739907775,
          0.38432108958236544,
          10.145273382172748,
          2.1130608524391294,
          5.208501208075304,
          11.470843555189543,
          10.563745705866491,
          10.89042853719624,
          11.093492382762587,
          22.060367352329763,
          22.04913188881869,
          6.864975930604711,
          1.6707081853124532,
          3.865647952526267,
          16.551666986189513,
          7.544270010700517,
          5.275479016872457,
          1.292478682350223,
          -0.03153775190455199,
          0.1101817132800359,
          0.5863095024785303,
          0.41122497116427403,
          0.006111422994381943,
          7.9173270401937685,
          2.1160598625264972,
          0.5119043454511805,
          10.334533475654384,
          0.42295099961151195,
          3.21676496393885,
          3.1030318051854455,
          0.6802611131671403,
          0.6351093469643714,
          0.4670262718130831,
          0.3430049628003531,
          -0.33859736031363685,
          7.147071588957117,
          0.6459070141217067,
          0.7401108423716642,
          1.30525169189636,
          4.452444391862899,
          1.2237121914244042,
          -0.3327121654341777,
          0.7121741797884824,
          1.9863559425013477,
          6.186666053793701,
          3.2781821646671836,
          2.8009402557614025,
          2.026836938175874,
          3.9501376546943536,
          3.7758459405068194,
          3.4146013852234494,
          9.788241745882717,
          9.90911379368386,
          12.36087240226262,
          11.683327485713974,
          8.268365474798602,
          14.1092029928734,
          14.206739566807281,
          3.201671004425507,
          16.18963919776537,
          15.713786789717428,
          9.912985397704423,
          10.181520852683233,
          1.641548012311393,
          5.734935374675082,
          9.09484859166093,
          5.261716003492659,
          2.078465089049702,
          7.850554953628608,
          6.450944010579612,
          0.13241200121209418,
          3.5957038838727104,
          0.547201810782985,
          0.6989278296185577,
          0.45713854889850203,
          0.952356507739931,
          1.6823104492326912,
          8.31747587689276,
          0.5275076738701325,
          0.7419258617524318,
          5.21674742092325,
          0.9101429007582658,
          0.6013187269011475,
          0.5317653890602227,
          -0.060805236326630596,
          0.8186413018285592,
          -0.2052457341630881,
          3.347530837200461,
          17.374947858446383,
          23.723155492923915,
          10.490567351878695,
          27.76050084209173,
          5.050271887922924,
          4.597387805492809,
          3.0530425257840723,
          8.209483207466299,
          4.783488835904146,
          17.41388438163994,
          2.033551304708145,
          0.4997787036494008,
          7.6186161953268385,
          0.9244701745526835,
          11.66161248749224,
          11.75081380501254,
          24.195576417934383,
          24.277703637659258,
          23.72093319800719,
          4.921353965786734,
          1.6789296584972369,
          14.621229808754778,
          22.31964028422185,
          8.414181767547284,
          27.469152754917232,
          3.1148527169477562,
          0.28057914585032906,
          0.5851977967692741,
          2.3705257249137683,
          6.99784157814061,
          1.6579237790460324,
          1.6000087214378662,
          0.32196106350756604,
          0.5780283093173579,
          1.8872846819104092,
          4.048081263092256,
          0.5913555475462311,
          0.29988138749511994,
          2.488904640540357,
          2.183693315615354,
          1.0427760393032464,
          1.1572994790154199,
          0.08932120122466825,
          1.9662877575828825,
          2.395447553694823,
          1.537612458572303,
          1.5529429590138375,
          2.2674283363583485,
          2.3899756402602117,
          1.511636941956803,
          1.9261560059671448,
          1.710784768840174,
          2.2157160150226836,
          1.6794199534312901,
          1.6569963455240821,
          7.596723704883258,
          1.2772810288184036,
          4.053584329673317,
          5.08698340693524,
          0.18553034828872306,
          0.345318676974009,
          -0.24507003128051608,
          3.160404958082595,
          4.723566573007864,
          2.459469026394038,
          22.62796382842166,
          1.2692342530097664,
          5.061392139086509,
          0.58657040279283,
          0.6925302285746247,
          1.1816717004681911,
          5.318283639944053,
          0.15523397029215036,
          2.561760419156546,
          4.865467099862082,
          15.888609026937669,
          15.83087735012628,
          4.870493476960984,
          4.271695012902728,
          7.658086144817151,
          5.39698509917919,
          0.7553347729131463,
          0.6493473960150631,
          15.722576760565904,
          7.6965244342403345,
          0.2888411449684767,
          0.5725523119089542,
          2.78391014816762,
          4.13372895073972,
          3.967676078122172,
          1.9460548014115027,
          1.7158674230133704,
          6.490878431407166,
          18.01034845584818,
          5.090511879478582,
          2.9606986985655257,
          8.33756046838861,
          0.82945844595986,
          -0.15832119464187244,
          0.6714223838352744,
          7.587532324736973,
          8.418684115050311,
          -0.062094395100849575,
          2.3291441128350314,
          4.971858403792685,
          14.998277561286928,
          11.499928185769315,
          11.100499188216382,
          1.9060147746502842,
          0.6357552641167714,
          0.6589978957212266,
          20.86589058568824,
          21.114483653831336,
          2.312273521201786,
          2.368780727789672,
          0.8208949309658982,
          0.951878344710146,
          0.9219340237037907,
          7.752761482314908,
          11.599266383914504,
          9.068456519509976,
          9.276563955032405,
          0.543369202362981,
          16.823792716772555,
          1.395996932445116,
          19.990873625694963,
          19.210000798760433,
          4.589416023435143,
          0.754233122618815,
          4.173696686026127,
          0.9257988777798323,
          -0.014270465276610134,
          7.528757042926866,
          7.968311240201098,
          8.132152212746314,
          1.6546778495220478,
          1.9148994942321287,
          6.118954510874638,
          1.6321795773793322,
          0.6088931665700428,
          16.1855669891923,
          3.2520834341020013,
          5.341043371938914,
          7.9268844579002575,
          7.501374202769716,
          0.1950663046797917,
          20.729919567416417,
          8.2700452379985,
          -0.02660909793200361,
          1.8657899552329877,
          5.322418034466014,
          13.179206986280494,
          0.016468772193484638,
          0.4467004786764548,
          8.324128454429202,
          3.740039499184296,
          1.3990809504200143,
          22.223185827141,
          15.14020630692718,
          5.273055045417415,
          9.262626330621476,
          22.65029366382802,
          23.612229082954766,
          23.129564130760645,
          22.85079167263962,
          1.8714472367238524,
          18.885309148749403,
          0.332606807851456,
          2.794043706812685,
          3.5783493193075433,
          3.334192467585792,
          5.237061976634126,
          4.352520207724666,
          0.01141339717577583,
          0.9294562972411149,
          11.51940608082901,
          12.321449878846744,
          0.40834070964263314,
          2.8688427296021626,
          8.06425486814605,
          11.440327411668859,
          24.93410272047033,
          3.2099056100242516,
          0.29339700350829223,
          2.157669084524503,
          -0.10672779109057551,
          1.202180561709283,
          0.7283008261976898,
          0.2667046997446927,
          0.18423099042022817,
          1.0725280243209832,
          1.3503387872024302,
          0.5380046290990745,
          3.246183500782997,
          -0.06791446750653896,
          0.28340482358137864,
          -0.24312342793218322,
          6.911014283711307,
          6.991731642481125,
          24.900890196393927,
          22.967921142179513,
          4.522241424334399,
          5.451949690809764,
          13.818088672380458,
          1.2909368155394807,
          6.43567879569816,
          4.194481674456366,
          0.851122915034471,
          5.697161413059903,
          5.338633667535111,
          4.7490658960471,
          2.395722387509086,
          1.8082427669778163,
          0.49028865419147605,
          0.489994192743166,
          0.48643955030639474,
          6.071118610822344,
          3.382420233279194,
          1.2659624861538248,
          0.6873150552690848,
          21.502779109310513,
          16.524340672227797,
          4.334152873800939,
          3.090009271262017,
          4.070142378935639,
          2.6209380198937584,
          6.1026572979281415,
          17.048417587943813,
          4.693874544856689,
          2.9834272187859154,
          3.105422674319673,
          2.672884687230036,
          19.879643315063486,
          19.904242484383545,
          3.5927953055550184,
          20.79339231916686,
          14.21581826717296,
          17.938743931821318,
          6.14371217532709,
          1.1276028443073736,
          7.345943163105724,
          4.064230669531692,
          7.954754905600836,
          1.449712908862258,
          7.188850511008834,
          2.299958200616394,
          4.746792801858937,
          4.716808893772013,
          0.41510645653937217,
          0.1719937829929592,
          4.020534565642126,
          2.9546776259607936,
          1.4606163178193103,
          2.1526413509169045,
          2.9306315926438624,
          1.2461425797599373,
          0.3708183033697028,
          1.7933090760485473,
          9.093633155536498,
          9.321318899439568,
          1.838189495047541,
          4.436015007603454,
          7.20227362353687,
          6.547930010267458,
          6.797763418039281,
          7.182372894674198,
          12.709857208023578,
          10.2448417909063,
          2.3672323879145343,
          22.94632943521069,
          6.298761169282899,
          4.7379266628472205,
          1.8321341750517468,
          1.086922864317231,
          3.3310969558813763,
          4.583755713554305,
          7.544754928007544,
          0.015490960614045313,
          13.686983165137699,
          9.967157214045857,
          5.993617246682248,
          0.12653404697641857,
          13.25211080866563,
          7.88996186547887,
          2.897532854402698,
          1.3158746193804074,
          16.230453823701176,
          8.107987690067093,
          3.1408883045782536,
          2.8438384427451076,
          25.468580439021164,
          25.109135455374876,
          3.545161306433691,
          4.826391950230317,
          5.31463674114192,
          6.66740187122429,
          6.851725255404997,
          1.129892295149469,
          0.9784741407983524,
          6.546291708545226,
          1.3482625515635709,
          5.596206714446226,
          5.554897247047967,
          2.176526153743313,
          1.7628960349208764,
          3.383666405203226,
          9.157952615874951,
          0.3490540099570453,
          0.09436050370769966,
          0.6836644574483763,
          -0.15485687030701234,
          0.24269760079917602,
          0.5608292202493079,
          3.234941359329723,
          -0.15066606291050932,
          0.6681867539210806,
          3.81569941780643,
          3.957793233045119,
          3.183042923211821,
          2.8921178900036923,
          2.329534486944411,
          3.868198713514884,
          4.176295521136009,
          0.27060445897463103,
          5.402477385611412,
          22.1025204856976,
          1.8392457981187071,
          3.4149065274224935,
          4.134828921928331,
          7.387584505894187,
          8.082851748877415,
          21.76021652822338,
          7.961039021075315,
          5.389782353537016,
          5.051290347294954,
          4.543342158933735,
          4.668785529753359,
          2.971848718953023,
          5.657028777510513,
          6.004393301501326,
          9.17465315509314,
          3.312021081102146,
          2.815388194874376,
          2.5290067004797505,
          21.388362250832596,
          21.07327414243619,
          21.354332786708053,
          21.385121234580218,
          10.168532530500997,
          5.67119845088623,
          5.247284569661319,
          0.5151838053332221,
          -0.22509349828048897,
          1.6536034212315829,
          14.944119794107738,
          16.368887716678188,
          21.162862817300937,
          21.63685272643894,
          7.9222522769148895,
          0.8104715096943733,
          2.9650074863795863,
          14.744183924992612,
          11.257295756708592,
          11.282747595549152,
          3.404278376431295,
          0.07715881017486748,
          5.6320801502105,
          6.099940682081993,
          10.100315062935248,
          13.157350060915912,
          -0.25593346653471705,
          3.090371562733731,
          15.060377181274337,
          15.516517767673157,
          0.5001827597240618,
          0.6987060673167289,
          1.7563458279429538,
          15.206156176018071,
          14.673284028425735,
          10.831312534503112,
          3.8587909526892705,
          10.211541676090315,
          8.104153757019535,
          17.184860250851905,
          16.555511175260328,
          2.4547884796006287,
          12.764933295636878,
          1.836060778227941,
          12.923672491934406,
          13.395492042305046,
          5.983981672603519,
          7.194177087077171,
          0.5041550634114973,
          2.978605735223283,
          3.094236281291826,
          0.3297930463052128,
          0.3305530860208249,
          3.946935855925445,
          3.7206898902059846,
          13.36710828654061,
          12.817992925254474,
          2.052228914463661,
          3.317926521414167,
          8.928688301151714,
          0.2889464570764293,
          2.650342163065518,
          10.541027050118313,
          20.490751503948946,
          19.513816925714266,
          0.7871800526436734,
          0.7366276119588946,
          3.956107316720283,
          4.962808929788571,
          16.122589611817016,
          26.38493775287744,
          -0.020906378572182027,
          7.820561355870945,
          1.9862051209229987,
          0.08124825475759967,
          0.4479365443031561,
          0.91209034466571,
          8.984116155978429,
          0.5330348181545317,
          0.2196607669954469,
          0.5157238822357182,
          4.534154632527309,
          5.397419644524636,
          10.227534617098044,
          6.476579481239688,
          2.3907125708793266,
          7.539422680982467,
          0.6146362159766383,
          1.800050329920241,
          0.9393961555520629,
          1.9578558168224678,
          3.8186885299085063,
          3.7233237518990734,
          2.4349866856930547,
          1.5559436051306665,
          3.0650631885977955,
          2.9135509843176495,
          2.3788071964875996,
          2.078701347488394,
          1.630490730606918,
          19.612958429583767,
          11.572876241184426,
          11.95353176931924,
          18.052568671807215,
          2.9929542648634864,
          6.704678047781458,
          9.925927327218703,
          4.313528795212652,
          14.561717723260632,
          0.053102870875024855,
          3.8232364974429576,
          1.9060018962437582,
          2.0870535793473293,
          2.048602949600374,
          0.6277250390456879,
          3.0678040006737284,
          3.561515238901202,
          25.805775024889115,
          26.27991014709715,
          25.932139238592285,
          4.203061714246866,
          2.0802544364459847,
          8.72471962579201,
          4.194556306059528,
          1.6285257073376291,
          10.0628766999611,
          10.274131737716019,
          6.058296368706325,
          3.3803898886918624,
          4.970840205094516,
          3.0158126166895607,
          3.470009233010853,
          0.2479703405897623,
          0.5339259364563045,
          0.23786283016429122,
          2.288542892498974,
          1.5160439168453008,
          2.3171529100366337,
          10.753187363098531,
          0.4777921808148273,
          2.632827229420258,
          3.000289409912584,
          2.7107026920549497,
          16.103958521174462,
          15.86624870787751,
          8.63411597784929,
          0.47603857590166077,
          0.7646683209130973,
          0.5881774271034028,
          1.735639633944578,
          1.0331492138260812,
          1.156196956531819,
          20.246635193518728,
          0.4004046000711815,
          1.7734132968132785,
          0.17584787591757045,
          3.906626007092666,
          0.009032156547000847,
          1.965244732103935,
          19.321914890684884,
          -0.12628268091471173,
          2.7505177059616273,
          1.9159099398019603,
          6.4879219307096925,
          7.14612371043634,
          6.221429519642035,
          5.646383746781107,
          6.942363467773401,
          6.046474316406941,
          1.3818598171428462,
          1.8404583734775395,
          3.7474448761480055,
          6.757653758378751,
          7.089501871724925,
          -0.1337533577539597,
          0.9164249865688818,
          0.6672402591565345,
          3.898327306565476,
          15.361649353351407,
          13.430171828344456,
          2.2921850798914063,
          1.3527665413720067,
          2.1527969656377404,
          3.0710049965423365,
          1.6944727930444965,
          3.770421839530954,
          6.52953423722829,
          7.212232957330355,
          1.0207375428578858,
          22.234473012184623,
          1.809399912563217,
          2.1954873894304865,
          0.628154714288089,
          0.5168518239021433,
          10.974247457365733,
          9.595430821333583,
          28.216535544340033,
          23.843118218902376,
          2.485739205180769,
          1.408917880718627,
          12.997169375114796,
          5.381989124526159,
          6.557457856359007,
          6.181540358756813,
          4.9893037972052285,
          2.010741267218593,
          3.8670604228887147,
          4.485743919581623,
          16.919347460603742,
          24.228942607451266,
          10.378119939760424,
          26.962037535930108,
          13.140830919434938,
          2.8984391843547086,
          2.613139449337411,
          11.601553332387597,
          8.465856087151632,
          1.7819332928218952,
          9.078085092909495,
          10.922050428854755,
          5.162772306568277,
          14.362324351350521,
          14.377579383098846,
          0.5038200121163254,
          4.099514441410063,
          3.6066881092627696,
          0.7112104529580661,
          4.81165438134383,
          6.779606732634071,
          2.469233299182678,
          0.5117506697557275,
          4.819516394866801,
          3.1203746548971347,
          5.296334125243408,
          1.6084369878072455,
          10.856618118846262,
          4.849700536060061,
          11.430724420137086,
          0.6012467634600147,
          0.8271135209135259,
          1.6190326279390894,
          5.447564926105485,
          0.23225535101830064,
          2.0612173625953987,
          1.5793611659859987,
          0.6610616581199924,
          2.5488958890752706,
          0.5110810905327297,
          5.13848419325394,
          0.8942655200241931,
          4.734384263837493,
          6.494614257767604,
          3.3126266586792794,
          0.5853720343788824,
          4.187986027421934,
          3.361974324552889,
          4.668681963284659,
          1.7909723406521678,
          2.905683317434632,
          5.294593147640896,
          5.352107019510808,
          1.1212901484653723,
          0.8303820365313115,
          3.4015472164912657,
          14.578965978904371,
          15.922637799193822,
          22.00283262896861,
          22.891473344545343,
          9.112679779513764,
          26.355498621564045,
          0.6894082693163961,
          0.5252718617975307,
          1.7676355398782628,
          8.360520337990886,
          0.6799132257013085,
          1.1885456699242345,
          3.122090489682087,
          5.38095488994259,
          0.6643752226817083,
          2.853037229414861,
          0.546542998622495,
          3.915151139416902,
          0.37666513269366675,
          11.78750660126069,
          13.718291043976903,
          0.7134313635294829,
          4.622653075850607,
          14.303188748961533,
          7.756982793081416,
          0.6085398900240975,
          0.6943484586986546,
          1.6442520995364251,
          3.296738232624517,
          4.102772063841523,
          10.538527172655169,
          8.822885620626723,
          9.218813522830851,
          6.745196947749045,
          7.472064318652467,
          10.679124814665084,
          10.982350477782502,
          0.4300499861962719,
          8.859581543955255,
          4.121183368812636,
          1.7596205147784332,
          2.4377479963649615,
          2.842460794119439,
          1.8572300545363931,
          5.326001893549396,
          22.095648636722238,
          4.923313499002679,
          5.398363060738108,
          1.9324679834073728,
          0.17600811287106632,
          2.2319157931848084,
          0.33412254425069376,
          4.410787974768728,
          6.599558123022399,
          0.6580364153077225,
          4.375454744370558,
          14.324076350691591,
          7.683704137649547,
          7.693350851673339,
          18.052398718761978,
          17.654164771284982,
          2.0491775885033063,
          15.903408256314346,
          22.707097625686995,
          9.49795542035104,
          27.867185577784912,
          2.1345303083223484,
          4.178744123489996,
          6.971780580744266,
          6.798331832549733,
          0.6296252881549464,
          6.304854098995462,
          12.251654263293883,
          2.636204592114178,
          7.947536807575892,
          5.548179160327735,
          0.9376409661550178,
          4.506019386423112,
          1.979897002526441,
          0.08249698031289454,
          2.452699953141723,
          0.8941399874173681,
          0.5363679319559624,
          15.301662565380285,
          4.8742227495479025,
          0.7091768224427333,
          0.23274784839440388,
          1.4100108711313823,
          14.752745948962495,
          15.192027016319436,
          5.274039923074748,
          2.1188999318696498,
          1.675900988749778,
          12.889270900170045,
          3.299379205956626,
          6.879776970113132,
          10.180403962417738,
          8.863733414563917,
          8.047429157865492,
          4.878924366776615,
          -0.10688223168591737,
          24.679230550772253,
          8.643161309951589,
          3.30773594901148,
          2.8301799912253527,
          7.181054479537826,
          3.3613475871924243,
          4.826896342940184,
          2.976713593647041,
          1.648154571401121,
          21.093618390283506,
          0.1308236310635147,
          4.564467968588133,
          4.7895095623295605,
          2.9469551991547736,
          0.8029127996646852,
          0.6001444067699164,
          7.834840401122246,
          11.051320138308533,
          16.977261723932244,
          11.1845942724827,
          1.119424827285033,
          0.3300911704945907,
          5.162585597067878,
          3.7346018894100546,
          2.9524240913687856,
          1.019892033812724,
          0.39911262795760716,
          0.5716915649993293,
          -0.1262666812935398,
          21.414750859397255,
          18.59710467896893,
          0.7306888269583689,
          0.349373720508213,
          9.651975880867504,
          9.923070376099657,
          16.21912675954662,
          15.565281011782247,
          5.441022878174823,
          4.668567507035249,
          12.779326629555847,
          12.999752307248608,
          10.973982901421081,
          0.7591794524701134,
          1.024550389294114,
          0.08359921169916007,
          7.636072535170301,
          15.759462040613418,
          15.933087097273763,
          4.371148127147799,
          4.273991752884585,
          -0.02335699096965871,
          0.6220742791682476,
          0.40233250688186317,
          1.4833092993557961,
          6.906879203602189,
          10.04603036517765,
          10.03440276949697,
          6.533502640179413,
          9.574885891070755,
          12.189033669799556,
          3.727115652493759,
          12.836678566324851,
          15.72163305751609,
          15.724601082167126,
          16.48711089296512,
          15.259247960752646,
          1.2073548054324639,
          5.675584828703389,
          4.295202182609353,
          0.76789229645381,
          3.6253868304981687,
          0.6981002465108685,
          3.773924106426561,
          27.56231685892509,
          0.2109604003098967,
          0.23781894955977112,
          0.5050492563561924,
          5.108444598028923,
          5.390661029709104,
          1.5518723227572337,
          1.7938226352882052,
          0.9511061968326471,
          1.8363121871502712,
          2.3018704064410733,
          0.5851514193383662,
          0.0635747992014235,
          0.3210414848599734,
          0.1478929535842618,
          2.8456324359181218,
          5.688901944109242,
          1.0996477474270325,
          3.0495487746074765,
          3.2341621353395054,
          7.387801603511609,
          7.811080475407708,
          8.389602717882399,
          2.657117348777946,
          2.9186291342327495,
          1.2231227790427859,
          -0.15687886123831973,
          4.5717962982368086,
          4.835554334308232,
          5.077346242529997,
          24.296164127134173,
          1.9945267005789615,
          30.245259529358055,
          12.580297828134613,
          9.158347227221888,
          3.8348909227444725,
          0.48287984330392275,
          1.7837403331902002,
          1.9269636249409632,
          7.282057769586478,
          0.30980816663544264,
          1.241243523718532,
          5.783737957365817,
          0.9798828280553047,
          0.1282840993637352,
          0.03225110821911703,
          0.8831741341815409,
          2.6586022713425153,
          3.4073585556049766,
          0.3213949782002755,
          29.569195194664182,
          30.062449764361673,
          15.643501214646527,
          16.094261876673286,
          4.5279284028497475,
          4.65923445464024,
          10.002550968007696,
          25.761455996650287,
          2.0738521186381145,
          12.550302815786358,
          13.704656017643119,
          20.29585189084672,
          20.818278074563345,
          7.42247975683866,
          26.43629811572308,
          11.46460302102794,
          0.3942523553462969,
          2.228318235790166,
          1.8745345549432937,
          2.6742850278459933,
          3.38296223114446,
          8.571815927231555,
          1.7763077281903845,
          0.9186747713695045,
          0.46874813408013605,
          5.339231109835064,
          0.6029268116344473,
          7.608909028481353,
          1.869880542094724,
          22.316309769592852,
          0.6562677409535072,
          3.1741324573580223,
          4.9524495595433216,
          13.282389209056047,
          13.418171156147512,
          8.158577577179852,
          6.2390072826763925,
          8.108127767429881,
          9.3569796842347,
          8.79854207461709,
          11.00812292139159,
          10.526736302136689,
          6.635450332721912,
          7.038008719920468,
          18.268794158982317,
          6.656314376209265,
          9.241772208235847,
          1.649815402438212,
          14.986576265584603,
          8.288337609290993,
          8.09121178211904,
          16.10294266832953,
          4.69005184596084,
          9.099347030143713,
          8.931026942463953,
          13.404691757751184,
          4.619828243902845,
          6.3731285076698425,
          5.792862598663143,
          2.2363449434761833,
          5.2878833000950065,
          8.26984763534542,
          2.314639193638988,
          12.879207288813394,
          0.4440272582014415,
          0.23232521185750366,
          0.4658214724734542,
          13.079331797023626,
          5.0075670267138905,
          14.654827102449964,
          15.265651874514719,
          7.566988812316582,
          8.016833788909128,
          2.935354351238038,
          2.954299564849576,
          3.3420645761989856,
          8.89111104534474,
          1.3021535343767243,
          0.645049124225062,
          -0.08913390723512282,
          0.14755289033765762,
          1.7722472497455466,
          1.9146212458956606,
          1.0624734281786568,
          0.5703876296648205,
          3.9938609661394935,
          0.5642730400595934,
          0.6395723415812644,
          25.306384621089546,
          5.3998244933692074,
          4.194452065013106,
          3.1114151776737557,
          9.918923952363958,
          7.242933085951046,
          0.5967421735640932,
          -0.2295026889126257,
          6.374669183410237,
          0.5550400147424248,
          17.64303405403833,
          -0.006244335972926063,
          4.0014378810500615,
          8.840694125191854,
          8.901728766539348,
          4.856933301211584,
          25.188177751901613,
          1.3678875758010092,
          8.139268203647182,
          17.74595795803328,
          0.534396761671283,
          4.087622710826582,
          4.181796060144642,
          6.979098489003632,
          6.572012688907864,
          5.969011019730641,
          5.910198015649388,
          11.523262242383602,
          11.534629057420192,
          0.45817277079437957,
          12.598959400514861,
          12.583246819086128,
          4.997866751181408,
          6.907390837683101,
          6.820651213309367,
          2.9194115003243986,
          1.7911139924864456,
          4.968353135526357,
          4.465334960951095,
          2.472145844170023,
          1.9072088057034517,
          4.0463096380363,
          2.76824507854519,
          2.4700448149386562,
          12.696674832291075,
          19.564868429972577,
          5.628088571473412,
          27.23954080184623,
          9.820448210531309,
          1.7196579560491259,
          2.921372025725284,
          2.485462342495222,
          3.428490450392105,
          4.152766974191846,
          3.9132986595663173,
          6.616239660240843,
          -0.2816367079044031,
          2.148264026647155,
          4.034876466395537,
          7.449644257843136,
          6.773809580217523,
          8.902836286254951,
          9.229856581938595,
          6.183277640093838,
          6.202284534965269,
          8.053078145855338,
          8.183264923769963,
          4.975053136349451,
          4.870030475355439,
          8.614838745477588,
          8.53225860139418,
          2.7171950537500313,
          3.1775560257292508,
          9.181149842630612,
          9.046717666793402,
          4.517183068843983,
          5.402748323278003,
          6.867992065705611,
          -0.1652618111946027,
          0.9940606655335245,
          3.2527677700059012,
          5.332646148598731,
          5.3609775587508395,
          0.449746325235728,
          4.705514491128977,
          0.5638558009933394,
          0.5152992190787162,
          13.532448647476425,
          6.206215278013253,
          7.160964494838722,
          5.106783146665902,
          5.267328929362468,
          -0.06960190400845134,
          -0.12943734986733924,
          1.3648216177516346,
          1.05969584703664,
          11.495665152405367,
          11.029079967041547,
          3.550285880616629,
          2.9177595717394826,
          17.775323314987958,
          24.212777136673214,
          24.828688995074067,
          24.043961832491007,
          23.92274749770329,
          1.640926412503159,
          0.16875970751956326,
          3.7304998021948492,
          3.860416625512234,
          3.5423157240271905,
          3.012217230772251,
          0.5328053113076932,
          8.638765534847563,
          0.7444015088680589,
          10.022710634038596,
          1.4871829390930524,
          0.494069120581616,
          6.824160767529406,
          11.654860679959103,
          12.397998209358784,
          1.806689769865363,
          1.7266009689092723,
          3.1408760056186793,
          2.7440322666517614,
          3.2928362924728747,
          3.775911895902407,
          4.001154678426595,
          4.242695721418077,
          4.2341564793509585,
          4.519723569769226,
          5.027563013776582,
          1.4236355282729471,
          0.7976056474038284,
          1.5562107481362752,
          22.089165224748207,
          22.331907947209363,
          3.242695090644994,
          26.35350729087464,
          25.744539684925723,
          15.846476999608583,
          12.625337017418468,
          7.717100272127514,
          8.215196710940937,
          -0.24036679372840686,
          6.356712797185796,
          3.611174336367541,
          0.25860126985800236,
          22.585631656033865,
          23.441838756278337,
          23.166227332128553
         ],
         "y": [
          0.43076922,
          0.4846153724999999,
          0.8856410457692308,
          0.6389224137931035,
          0.6525,
          0.9053192307692308,
          1.143125,
          0.64125,
          0.26527307692307694,
          1.0118926573426574,
          0.7021416083916084,
          0.8357859531772576,
          0.6089297658862877,
          1.1211864406779661,
          0.8203846153846155,
          0.9138461538461539,
          1.6189827692307694,
          0.21807692307692306,
          0.8700390924641461,
          0.9427391518737672,
          1.1100000000000003,
          1.0778072127320955,
          0.936923076923077,
          0.8270192307692309,
          0.9490384817307693,
          0.7505885472214854,
          0.6602586028448275,
          0.84,
          0.6461538461538461,
          0.7139423076923076,
          1.4415254237288135,
          1.6975228787483703,
          0.8177884615384616,
          0.8844951923076924,
          0.5093824786324787,
          0.6820512820512822,
          0.6545726248717949,
          0.7996153846153846,
          0.9125000000000001,
          0.9452271202341138,
          1.3195312875,
          3.196874920673077,
          0.9771314426923078,
          2.2121795392307693,
          1.3759793055555556,
          4.055043532986111,
          0.7338286914335664,
          1.2422952261692308,
          1.2782615198846152,
          0.9249154085769232,
          0.8506606920130274,
          0.8781230536615385,
          0.8849899402948718,
          0.595,
          0.8860576557692309,
          0.8595865613076923,
          0.8822346153846155,
          0.6329670329670329,
          0.8376923076923077,
          0.6853846153846154,
          0.6028846153846154,
          0.766065551839465,
          0.8976531942633639,
          0.9285714642857142,
          0.9096153846153845,
          0.8840569230769233,
          0.8442069230769231,
          0.6346153846153847,
          0.917433110367893,
          0.8387959866220736,
          0.9293478260869565,
          0.8737458193979933,
          0.917433110367893,
          1.4807692307692308,
          0.9,
          1.0048076923076925,
          1.1487179076923075,
          0.5066666666666667,
          0.52888887,
          0.6725274725274726,
          0.6675824175824177,
          0.8048076923076922,
          0.9735576923076923,
          0.6473076923076923,
          0.675,
          0.8731432360742706,
          0.6398717948717948,
          0.9346153846153845,
          0.6576922938461539,
          1.2294871794871798,
          0.9638888666666668,
          1.2959775933076925,
          1.155,
          0.8027884615384615,
          0.9271978021978022,
          0.8653846153846154,
          1.0068669871794873,
          1.3748000301556778,
          0.9048120401337795,
          1.0275,
          0.808163752913753,
          1.0719023076923078,
          1.2788329213368703,
          0.8689654905039788,
          0.7353365163461538,
          0.49846153846153846,
          0.643368700265252,
          1.038046153846154,
          0.6717307476923077,
          1.4688186813186812,
          1.0288170163170163,
          1.004486013986014,
          0.970598076923077,
          0.9292307692307692,
          0.8479038461538461,
          1.8095762267796611,
          1.135042735042735,
          0.5976068376068377,
          0.4417094017094017,
          1.2286494596551722,
          0.6051709401709402,
          0.7005494505494505,
          0.63375,
          0.6285714285714286,
          0.7125000000000001,
          0.9186390532544378,
          0.9163636363636364,
          0.3333333333333333,
          0.5876068564102566,
          1.646875,
          1.0384615384615385,
          1.1524475524475526,
          1.1734615384615383,
          0.8507596153846154,
          0.8250960634451612,
          1.082146153846154,
          1.093076923076923,
          1.0092329331293706,
          0.7148076923076924,
          0.7927350128205128,
          0.605,
          0.976388888888889,
          0.8652680923076924,
          1.10057325,
          1.1033099760150002,
          1.4287091004092307,
          0.5597151116239317,
          0.88,
          1.3657342657342657,
          0.8590909090909091,
          0.6320512820512821,
          0.35179487179487184,
          0.44423078192307697,
          0.6314285714285715,
          0.5720512584615384,
          0.88,
          0.9454326923076923,
          0.9807692307692306,
          0.6483974358974358,
          0.9161324487179486,
          1.2274,
          1.4204565217391305,
          0.9774038461538463,
          1.3251977210538464,
          0.9987148217636023,
          0.965623076923077,
          0.8250620158808932,
          0.7475641025641026,
          0.4475213675213675,
          0.4153846153846154,
          0.8882758620689655,
          0.9124137931034483,
          0.9332470414201183,
          0.5742948717948718,
          0.585,
          0.8292307692307693,
          1.5679765505016723,
          1.4550674376631705,
          1.2682360742705572,
          0.5354273664102565,
          0.49,
          0.9375,
          0.7035953177257525,
          0.8754505494505496,
          0.8321678321678322,
          1.021730769230769,
          0.814164201183432,
          0.6880473372781066,
          0.8718769004307693,
          0.44,
          1.043541087214854,
          0.1696153846153846,
          0.63,
          0.5330769230769231,
          0.8909090909090909,
          0.3634615384615384,
          0.8411538461538461,
          0.6369230769230769,
          0.6914285714285714,
          1.5774230769230768,
          1.4816784615384615,
          1.0523076502153845,
          0.8754505494505496,
          0.47076921692307694,
          0.3360042644230769,
          0.5975685618729097,
          0.8379933110367892,
          0.7659151193633953,
          0.45,
          0.45,
          0.8406593406593407,
          0.9027777777777778,
          1.65,
          0.9278846153846155,
          0.5604395604395604,
          0.6187499999999999,
          1.125,
          1.1053365384615386,
          0.6830357142857143,
          1.0189102299450548,
          0.44423076923076926,
          1.5147294482153846,
          1.2967476923076924,
          1.1678261165217392,
          0.856875,
          0.4361538461538461,
          0.8723076923076923,
          0.8723076923076923,
          0.8962963166666666,
          1.7494516384970413,
          1.497470887598499,
          1.246055200591716,
          0.856875,
          1.2270832937500002,
          1.2115384615384615,
          0.6698717781250001,
          1.0238095,
          0.7360439560439561,
          0.8588461834615384,
          0.64,
          0.5415384615384616,
          0.6473076923076924,
          0.6963461538461538,
          0.6285714285714286,
          0.6974359192307693,
          0.7615384615384616,
          1.1648152173913044,
          0.998413043478261,
          0.8253333333333333,
          0.3461538461538462,
          0.857396449704142,
          0.8165680473372781,
          0.8832115384615384,
          0.6181196774358975,
          0.45551282051282055,
          0.39583332115384623,
          0.7208654140384616,
          0.7163817931623931,
          0.7111111111111111,
          0.6107142857142858,
          0.6107142857142858,
          0.7179487384615384,
          0.7156772305183946,
          0.6923076923076923,
          0.8933653846153846,
          0.8463461538461539,
          0.5711538461538461,
          0.5947552447552447,
          0.9069711302884614,
          0.842809364548495,
          0.923076923076923,
          0.9178321678321677,
          0.9658862634782609,
          0.6551724137931034,
          0.7476923076923078,
          0.7476923076923078,
          0.4378846253365385,
          0.7343406593406594,
          0.7234615384615385,
          0.7192307692307692,
          0.3015384615384616,
          0.52062502125,
          0.7643076923076922,
          0.5953846153846154,
          0.9553845946153846,
          0.3496153846153846,
          0.5381118881118881,
          0.9104166475,
          0.8931339221367521,
          0.4846153846153846,
          0.44,
          0.84,
          0.6285115570153846,
          0.9735576923076923,
          0.9717547824519231,
          0.3738461538461539,
          0.9409090909090909,
          0.7932692307692307,
          0.7734775444711538,
          0.455,
          0.5333333333333333,
          0.7051281769230769,
          1.4572095520802673,
          1.3446154153846155,
          0.972201566259947,
          0.856875,
          0.2685314685314686,
          0.6138461538461538,
          0.8238461538461538,
          0.6743250000000001,
          0.953387573964497,
          0.7407692307692307,
          0.8710059171597634,
          0.7952662721893491,
          0.6696394230769231,
          0.7814685524475525,
          1.0598776223776225,
          0.711864406779661,
          0.77,
          0.8151709401709404,
          0.7942307423076922,
          0.7145299145299145,
          0.5936538703846154,
          0.6080769034615385,
          0.3675,
          0.7125,
          0.7935525083612041,
          1.12,
          0.7446153846153847,
          0.598290576923077,
          1.3473701201923078,
          1.4367187124999998,
          1.0855288202307691,
          1.1526646153846154,
          0.91875,
          0.8849899402948718,
          0.4573931492307692,
          0.405,
          0.9207692307692309,
          0.9390532544378698,
          0.7865466321707953,
          1.19880608974359,
          0.5862857142857143,
          0.5516826923076923,
          0.5516826923076923,
          0.6205128346153845,
          0.6698717807692307,
          0.46730769230769226,
          0.6247282783444816,
          0.525,
          0.8076923076923077,
          1.0159957627118643,
          1.035606258148631,
          0.7636538461538461,
          1.2792642140468227,
          1.506102071005917,
          0.8153846153846155,
          0.6579326923076922,
          0.5721153846153846,
          0.3009326923076923,
          0.6344055944055944,
          0.5060140011188812,
          0.4393491124260355,
          0.5315582071005918,
          0.8901098901098902,
          0.5976923320879121,
          0.48125001850961546,
          1.6335950382051285,
          1.896955173846154,
          0.9656871555692307,
          1.1891235682237764,
          0.8324429866452991,
          0.6883333099999999,
          0.6883333099999999,
          0.5980425824175823,
          0.5563186813186813,
          0.8666666399999999,
          0.75,
          0.8971684615384614,
          0.8376770769230767,
          0.7610405982905984,
          0.6721965811965812,
          1.1517531623931625,
          0.39890109890109887,
          0.5605769230769231,
          0.4555128205128205,
          0.57375,
          0.5296153846153846,
          0.7061538461538461,
          0.7846154070329671,
          1.0679487484615386,
          0.8919871794871795,
          1.0857142857142856,
          0.9107115384615385,
          0.9630597927179486,
          0.9508546770833332,
          1.0520066528428094,
          0.2557692307692308,
          0.9959230440000001,
          0.9790000273846156,
          0.7705802387267905,
          1.0163925508488065,
          0.945,
          0.945,
          0.9340659340659342,
          0.41538461538461535,
          0.8485714285714285,
          0.860625,
          0.78974357,
          0.75025643,
          0.42307692307692313,
          0.8350694444444444,
          0.5904761714285715,
          0.9331770833333334,
          1.4417307692307693,
          0.9098076923076923,
          0.5711538461538461,
          0.5947252892307692,
          0.8878846153846155,
          0.5869565217391305,
          0.9592307692307693,
          1.0320636604774536,
          1.2332625994694961,
          0.8563461773076924,
          0.717948717948718,
          0.9,
          0.8584615384615385,
          0.8584615384615385,
          0.8816453312051281,
          0.6996503737762237,
          0.9949717741935485,
          0.9587838461538463,
          0.8579791612255542,
          0.576923076923077,
          1.1180769230769232,
          0.8254316440641026,
          1.1491782140433928,
          1.1047745618037137,
          1.105685618729097,
          0.5425961538461539,
          0.57,
          0.8283723759531774,
          0.6375,
          0.9,
          0.6770689655172414,
          0.6346153846153847,
          0.42871796,
          0.8250000230769232,
          1.1356631299734747,
          1.0153846153846156,
          0.6473076923076923,
          0.78375,
          0.6313461726923077,
          0.5425961538461539,
          0.93796875,
          0.6375,
          0.6752777777777778,
          0.9156923076923076,
          0.8753365384615385,
          0.65,
          0.8837500000000001,
          0.90625,
          0.5785,
          0.6427826086956523,
          0.4846153655172414,
          1.2427243850000003,
          0.7963846153846155,
          0.6256837399999999,
          0.9915865384615383,
          0.7896634615384617,
          0.756923076923077,
          0.9117132867132867,
          0.40444444444444444,
          0.6349897603,
          0.4935897576923077,
          0.7484084880636604,
          0.38076923076923075,
          0.495,
          0.8840544653846154,
          1.1376923076923078,
          0.7474358974358974,
          0.6017094205128205,
          0.79,
          0.6222222222222222,
          0.9066666666666666,
          1.0266666666666666,
          0.7033653846153847,
          0.45551280711538467,
          0.7502884615384616,
          0.8376923076923076,
          0.8433333333333334,
          0.4216666666666667,
          0.9641513377926423,
          1.2529264214046825,
          0.4666666666666667,
          0.49407409111111117,
          0.4454545581818182,
          1.286261408083442,
          0.6092307692307692,
          0.6823384615384616,
          0.7990175355351171,
          0.6536363636363638,
          0.33636363636363636,
          1.1663823221153846,
          0.94875003,
          0.63,
          0.66,
          1.3003846153846153,
          0.7488777435901858,
          0.6905236321843501,
          0.6742474675585285,
          0.45,
          0.8555555555555555,
          0.5521367521367521,
          null,
          1.1665521978021978,
          1.0489830508474576,
          0.451271186440678,
          1.0489830508474576,
          0.3971186440677966,
          0.9037392438070407,
          0.6705997392438069,
          0.9266016949152543,
          0.9747457627118645,
          1.0795791840802678,
          1.450418025250836,
          1.0640400015009381,
          0.7501711717500003,
          0.8572307907692308,
          0.6776223935664335,
          0.8127777777777779,
          0.639166645,
          0.7192307692307692,
          0.6459187859615385,
          0.7283333333333334,
          1.3335200668896319,
          1.5315710480946747,
          1.0370454545454546,
          1.0348475831707318,
          0.8282051038461539,
          0.8849899402948718,
          1.1651990008407695,
          0.7453846153846153,
          0.8382513736263737,
          0.640370395,
          1.2000000342857144,
          0.47948717948717945,
          0.7073426573426573,
          0.5330769230769231,
          0.9079520396844181,
          0.6606508875739646,
          0.017948717948717947,
          0.04038461538461538,
          0.5590384615384616,
          0.7008546833333332,
          0.7996153846153845,
          0.8550855020512821,
          1.0870192307692308,
          0.9062251326259947,
          0.7348103448275861,
          1.015,
          0.8160535384615385,
          0.7675585284280936,
          0.8193103448275862,
          0.9043269230769231,
          0.9865384615384615,
          0.6663461538461539,
          0.6473076923076923,
          0.7255769526923078,
          0.5838461538461538,
          0.9742788865384615,
          0.726923076923077,
          1.050815893706294,
          1.0842391304347827,
          1.2331730509615384,
          0.8311111111111111,
          0.2,
          1.3254437869822486,
          1.044951923076923,
          0.8602,
          0.6533333584615384,
          0.7774038461538462,
          0.7687002652519893,
          0.31153846153846154,
          0.6282692307692308,
          0.8884615384615384,
          0.6538461538461539,
          0.6663461538461539,
          0.7121153846153846,
          0.81,
          1.0433132307692308,
          1.2352198511166252,
          0.9091024615384615,
          1.3232411910669972,
          2.0485384615384614,
          0.7908311603650586,
          0.6289265712646676,
          1.0725,
          0.5966346317307692,
          0.8165680473372782,
          0.9941547619047618,
          0.9778571428571429,
          0.8954849498327759,
          0.871876923076923,
          0.961476923076923,
          0.9304615384615385,
          0.9239059595897435,
          1.5042735042735043,
          0.3634615384615384,
          0.7762557874153846,
          0.7270484949832775,
          0.8480029264214047,
          0.6953571623076923,
          0.6679130833333333,
          0.6861439842209073,
          0.9415384615384615,
          0.885,
          0.888461558653846,
          0.5994423241153846,
          0.3814102564102564,
          0.02115384663461538,
          0.9126045150501673,
          0.8952062675585285,
          0.4634134615384615,
          0.4361538461538462,
          0.8522884335397654,
          0.5743589743589743,
          1.0390625,
          0.560897435897436,
          0.503125,
          0.6196581196581197,
          0.9313926282051282,
          1.1712616965759848,
          1.0218386269418387,
          0.876379289602122,
          0.26153846153846155,
          0.855944055944056,
          0.7779086538461538,
          1.2541420118343196,
          0.6698717948717949,
          0.21201923076923077,
          0.605,
          0.698076923076923,
          0.525,
          0.38942307692307687,
          0.7476923076923078,
          0.4715680473372781,
          0.2313888888888889,
          0.775,
          0.6476134289439374,
          0.5123076784615385,
          0.7110576923076923,
          0.5230769230769231,
          0.6825,
          0.8999999999999999,
          1.2946153846153845,
          0.3634615384615384,
          0.3634615384615384,
          0.8922413793103449,
          0.605,
          0.9475961538461539,
          1.0523076923076922,
          0.8688402968881119,
          0.804375,
          0.6092307692307692,
          0.7107692307692308,
          0.44134615384615383,
          0.7328428093645486,
          0.8791208571428571,
          0.6725274527472527,
          0.37333333333333335,
          0.7957604895104895,
          0.9195454545454546,
          1.0063186813186813,
          0.9305084745762712,
          0.9907909325423729,
          0.9346153846153847,
          0.9513049450549451,
          0.5573076923076923,
          1.4007491638795986,
          0.9015401337792642,
          0.9138461538461539,
          2.3975320890384615,
          1.4869914313782053,
          0.8866525423728814,
          0.9453248245371577,
          1.0365384615384614,
          0.9834782608695652,
          1.1666307692307694,
          0.951923076923077,
          0.5584615384615385,
          0.7302958579881657,
          0.9030100334448161,
          0.5149038461538461,
          0.6261363636363637,
          0.5866666892307693,
          0.5415384615384616,
          0.9201923076923076,
          0.9519230769230768,
          0.6092307692307691,
          1.0499477317554242,
          0.7107692307692308,
          0.7996153846153845,
          1.0715811650641027,
          0.2751281976923077,
          0.41884615384615387,
          0.5075000175000001,
          0.3701923076923077,
          0.9346153846153846,
          0.7572115384615385,
          0.7835164582417581,
          1.5573696255897433,
          1.251681141439206,
          1.064328596245111,
          0.856875,
          1.0831624305128207,
          0.6676922838461538,
          0.6725274725274726,
          0.9742011834319526,
          0.7104701057692309,
          0.9361442307692307,
          0.7933333333333333,
          0.4478365384615385,
          0.8184615384615385,
          0.4478365384615385,
          0.8995673076923079,
          0.8329326923076923,
          1.0356923076923077,
          1.064981389578164,
          1.2955645161290323,
          0.6641025641025642,
          0.9559187803846155,
          1.5245413849704141,
          1.4506941562851783,
          0.9536094915976332,
          0.8754505494505496,
          0.29615384615384616,
          1.1307692307692307,
          1.1953845830769232,
          0.25846153846153846,
          0.7892904509283819,
          0.772991452991453,
          0.5225000000000001,
          0.4738461538461538,
          0.6542307692307692,
          1.241025641025641,
          0.534965034965035,
          0.5626923076923077,
          0.5626923076923077,
          0.38923076923076927,
          0.3955769230769231,
          0.5777644230769231,
          0.8708333668269232,
          0.6473076923076923,
          0.533974358974359,
          0.49583333333333335,
          0.533974358974359,
          0.49583333333333335,
          0.49583333333333335,
          0.533974358974359,
          0.533974358974359,
          0.49583333333333335,
          0.533974358974359,
          0.49583333333333335,
          0.533974358974359,
          0.49583333333333335,
          0.9336168639053255,
          0.15901442307692307,
          0.6045454545454545,
          0.7134134615384616,
          0.39384615384615385,
          0.73125,
          0.73125,
          0.61875,
          0.5626666666666668,
          0.3814102564102564,
          1.0984615384615384,
          0.6057692307692307,
          0.4277777875,
          0.6853846153846154,
          0.6490384615384616,
          0.3998076923076923,
          0.8222222222222222,
          0.7753846153846154,
          0.5541666825000001,
          0.7784615384615385,
          0.9761538461538461,
          0.9228461538461538,
          0.5466666666666666,
          0.8727272727272727,
          0.8064102564102564,
          0.7673076923076924,
          0.6451923288461537,
          0.4725,
          0.8351076616615385,
          0.6609401530769231,
          0.5711538461538461,
          0.4823076923076923,
          0.5700000000000001,
          0.7127272727272728,
          0.8272727272727273,
          0.55,
          0.5,
          0.8559782608695651,
          1.08364372365,
          1.726153846153846,
          0.8612637362637364,
          1.023076923076923,
          0.7875,
          0.945,
          0.52,
          0.8752588974852071,
          0.6958580099112427,
          0.4430769230769231,
          0.7519230769230768,
          0.9423076923076923,
          0.9360532544378698,
          1.01743347411859,
          1.0268251674946582,
          0.6431624115384614,
          0.723125,
          1.00125,
          0.9802447552447552,
          0.815034965034965,
          0.6844444444444444,
          0.48,
          0.72,
          0.9975,
          0.88,
          0.893121301775148,
          1.0699690934065935,
          0.9346153846153847,
          0.7695,
          0.7788461538461537,
          1.8664914849519232,
          0.4875,
          0.9713076923076923,
          2.429055944055944,
          0.23958333333333334,
          0.5192307692307692,
          0.9846154153846154,
          0.31153846153846154,
          0.7615384615384616,
          0.7204511834319526,
          0.754758382642998,
          0.5647172679684418,
          1.0003846153846154,
          0.22615384615384612,
          0.5217391304347826,
          0.5653846153846154,
          0.5192307692307693,
          0.8085000177692307,
          0.6729395604395604,
          0.8629166666666668,
          0.847869822485207,
          0.9002662721893491,
          0.4823076923076923,
          1.0650361305361307,
          0.7953846323076923,
          0.7269230769230768,
          0.5746153846153846,
          0.685096153846154,
          1.3757749548,
          0.5192307692307692,
          0.5753845984615384,
          0.6692307692307692,
          0.7604895104895105,
          0.99,
          0.7972612570356473,
          0.8147928994082839,
          0.8233333333333335,
          0.9102461538461539,
          1.0298076923076924,
          0.8793424317617865,
          1.0903846153846153,
          1.0903846153846153,
          0.98,
          0.6378076675384614,
          0.9773076923076922,
          0.9340659340659342,
          0.8307692307692308,
          0.8169230769230769,
          1.0189868461324787,
          0.8246153846153846,
          0.57375,
          0.3807692307692308,
          1.6536572802197802,
          1.4138827838827839,
          0.5971153846153846,
          0.8307692307692308,
          1.8346153846153848,
          0.9465144230769231,
          1.4018636120307695,
          0.6285714285714286,
          0.5711538461538461,
          0.518974358974359,
          0.2596153846153846,
          0.6473076923076923,
          0.6346153846153846,
          0.7009615384615384,
          0.5451923076923076,
          0.8567307692307692,
          0.8725961855769231,
          0.6375,
          0.9138461538461538,
          0.40769230769230774,
          0.49846153846153846,
          0.31875,
          0.943396551724138,
          0.9949655172413795,
          0.8300381538461539,
          2.2556153846153846,
          0.9921153846153845,
          0.421875,
          1.0124999999999997,
          0.54,
          0.7732441471571907,
          0.5743589538461538,
          0.721875,
          1.9650000600000002,
          0.7744444633333334,
          0.7555555366666666,
          0.4766666666666667,
          0.44,
          0.7615384615384616,
          0.7615384615384616,
          0.4361538461538461,
          0.9793477891304347,
          0.6375,
          0.73125,
          0.4759615384615384,
          1.244553095684803,
          0.7833846387692308,
          0.5181818181818182,
          0.54,
          0.8038461830769231,
          0.89010989010989,
          0.1865217391304348,
          1.1684615384615384,
          0.9346153846153846,
          0.6870535714285715,
          0.8901098901098902,
          0.801098901098901,
          0.9946256161600001,
          1.0765107692307692,
          0.8243181818181818,
          0.808163752913753,
          0.9655564369846156,
          1.0759975961538462,
          1.1216777897324417,
          0.38666668000000004,
          0.8564632836604775,
          0.7159090909090908,
          0.8653846153846154,
          0.576923076923077,
          0.9797878206763926,
          0.5398147944444444,
          0.5666666666666667,
          0.9378205396153846,
          0.7192307692307692,
          0.4759615384615384,
          0.8156643356643356,
          0.6769230980769231,
          0.9043269230769231,
          0.35550212499999995,
          0.5180952542857143,
          0.5775,
          0.5923076923076923,
          0.5584615384615385,
          0.8034230769230769,
          0.906553846153846,
          0.5274358974358975,
          1.02285544486014,
          0.7430172413793104,
          0.6006896551724138,
          0.9287068965517243,
          1.031896551724138,
          1.0875,
          0.9589743849804434,
          0.3173076923076923,
          1.2767826923076921,
          0.7964548494983278,
          0.9218376068376068,
          0.7846153846153846,
          0.5753846153846154,
          0.5160714285714286,
          0.7166666666666667,
          0.6532544378698225,
          0.8492307507692308,
          0.553248160535117,
          1.0628683181225553,
          0.8292307396153846,
          0.31153846153846154,
          0.8601999747,
          1.1352564102564102,
          0.7453846153846154,
          0.9187499999999998,
          0.9015753846153848,
          1.182879684418146,
          0.9904532967032967,
          1.0628777472527473,
          0.8207692307692307,
          0.7361538461538462,
          0.8150349430069931,
          0.9120833333333334,
          0.8637820512820513,
          0.7629310344827587,
          0.7018965517241379,
          0.6980769389423077,
          1.523076923076923,
          0.9742440318302388,
          0.8076923076923077,
          0.5372909698996655,
          0.8315217391304348,
          0.25038461538461537,
          0.17903846153846154,
          0.5140384615384616,
          0.8165384615384615,
          0.3661538461538461,
          0.3876923076923077,
          0.9173076576923077,
          0.5607692307692308,
          0.5451923076923076,
          0.632692321153846,
          0.6219231023076923,
          0.41884615384615387,
          0.3553846153846154,
          0.9865384615384615,
          0.9346153846153846,
          0.3382417582417583,
          1.0681318681318681,
          0.5775640807692307,
          1.3216783216783217,
          0.7846153846153846,
          0.3876923076923077,
          0.9815705528846155,
          0.8849401969981239,
          0.44999999999999996,
          1.017857142857143,
          0.5538461538461539,
          0.5993103600000002,
          0.8383974358974359,
          0.9545898887223265,
          0.445641036923077,
          0.7591880341880342,
          0.6145192159615385,
          0.5192307692307693,
          0.576923076923077,
          0.9205220032417583,
          0.9324414715719064,
          1.0420568157190635,
          0.7956,
          0.8413186813186813,
          0.6708791208791209,
          0.9724450549450551,
          1.2259090909090908,
          1.175181818181818,
          1.1975192307692308,
          0.9500979020979021,
          1.0105932508474575,
          0.9481605351170569,
          0.7845138888888888,
          0.72,
          0.3046153846153846,
          0.78666664,
          1.1370023748698226,
          1.140719370374359,
          0.8709615599999999,
          0.7761268953658536,
          0.9619082840236686,
          0.6865384615384617,
          0.6850961538461539,
          0.9971153846153846,
          0.89375,
          0.8275462722222222,
          1.1076923076923078,
          0.866666645,
          0.9744983277591973,
          0.9658444816053512,
          0.8865710560625815,
          1.611346153846154,
          0.38076923076923075,
          0.8923076923076924,
          0.9461804733727812,
          1.047899979,
          0.675,
          0.5076923076923078,
          0.5384615384615384,
          0.8099944526627219,
          0.7614902366863907,
          0.6762820512820513,
          0.81,
          0.8378096479791396,
          0.5436390532544378,
          1.0210625,
          0.8937339743589744,
          0.5088461538461538,
          0.8226923076923076,
          0.9116809401709403,
          0.9863630769230769,
          0.8806153846153846,
          0.507943143812709,
          1.127039124668435,
          0.28,
          0.7761263736263736,
          0.5076923076923078,
          0.48461538461538467,
          0.7269230769230769,
          0.7850786713286714,
          0.735,
          0.9147980769230769,
          1.3454000517461537,
          0.91259256,
          0.7846153615384616,
          0.396,
          0.4738461538461538,
          0.6351648351648352,
          1.2415069444444444,
          0.6765,
          0.623784,
          0.7030480769230769,
          0.5086538461538461,
          0.4326923076923077,
          0.9184615384615384,
          0.9226461734769231,
          1.0560866285452992,
          0.6473076923076923,
          0.7230954142011834,
          0.3923076923076923,
          0.676923076923077,
          0.5584615384615385,
          0.6092307692307692,
          0.843023076923077,
          0.636378221875,
          0.8861538461538462,
          0.8861538461538462,
          0.8221153846153847,
          0.4567307692307692,
          0.834387222946545,
          0.875,
          0.7352136592307692,
          0.8298816568047338,
          0.4846153846153846,
          0.2403846153846154,
          0.7,
          0.4958333333333333,
          0.9027534965034965,
          0.8384090909090909,
          0.6229700854700855,
          0.6051709401709401,
          0.47451924086538466,
          0.39230769230769225,
          0.531431623931624,
          0.47549145299145296,
          0.57,
          1.55358,
          0.9667912087912088,
          0.6911057451923077,
          2.082439903846154,
          1.044395637032967,
          0.939522546419098,
          0.9823728813559321,
          0.3892307692307692,
          0.8284023905325445,
          0.5076923076923078,
          0.9031468531468532,
          0.7384615384615385,
          0.401923076923077,
          0.4487179487179487,
          1.1634615807692308,
          0.8571428228571428,
          1.1507692307692308,
          1.1059066666666668,
          1.011940723111111,
          1.154740723111111,
          0.4886538334615384,
          0.9262820512820513,
          1.0576121365384614,
          0.9096153846153846,
          0.7991452991452991,
          0.874348085886571,
          0.7550847457627119,
          0.9481605351170569,
          0.7542857142857143,
          0.7453846153846153,
          0.7061538461538461,
          0.7061538461538461,
          0.7942307423076922,
          0.7942307423076922,
          0.5088461538461538,
          0.4475213675213675,
          0.625,
          0.5415384615384615,
          1.0948344017094018,
          0.9605769230769229,
          0.6576923076923077,
          1.0592307692307692,
          0.6593406593406592,
          1.2646032150164104,
          1.0772137014871797,
          0.7520192307692307,
          0.27461538461538465,
          0.2692307692307692,
          0.5552884615384615,
          0.49,
          0.984375,
          0.63,
          0.9692307692307693,
          0,
          0.6916239316239317,
          0.33,
          1.1194405594405594,
          0.18461538461538463,
          0.1346153846153846,
          1.2945104895104897,
          0.7107692307692308,
          0.3426923076923077,
          1.0028489777777778,
          0.7030434782608695,
          0.7645689486206896,
          0.77,
          0.7030434782608695,
          1.0232625994694962,
          0.8884615384615385,
          0.45,
          0.37512820512820516,
          0.6636363636363637,
          0.9418103249999998,
          0.6303879310344828,
          0.20596153846153847,
          0.72,
          0.49846153846153846,
          0.9666667000000001,
          0.9885355029585798,
          1.015701923076923,
          0.5993589743589743,
          0.8461538461538461,
          0.36923076923076925,
          0.42857141538461535,
          0.8724786324786326,
          0.8792307415384615,
          0.8683289124668435,
          0.7890141200265252,
          0.20596153846153847,
          0.26608818011257035,
          0.5012820512820513,
          0.423076923076923,
          0.6951201923076924,
          0.6951201923076924,
          0.814173771474359,
          0.675,
          1.0274519230769232,
          0.8591826923076923,
          0.4888888888888889,
          0.5711538461538461,
          0.1313653846153846,
          0.827323717948718,
          1.4610079575596817,
          1.258361204013378,
          1.5026442307692307,
          0.951923076923077,
          1.2424242727272727,
          0.7867132867132867,
          1.5898995319871791,
          1.3668871224193548,
          1.0751890482398958,
          0.8754505494505496,
          0.7002692307692306,
          0.6008241758241758,
          0.6008241758241758,
          1.172657967032967,
          1.1166247534516764,
          0.8184615384615385,
          1.2419999568,
          1.1404166666666666,
          0.6113461538461539,
          0.8729096749163879,
          0.900752508361204,
          0.5711538461538461,
          0.4056818181818182,
          0.8,
          0.5225000000000001,
          0.7803418803418805,
          1.0912466843501327,
          0.5230769230769231,
          1.3326923076923074,
          0.46891025641025647,
          0.8214285714285714,
          1.774102564102564,
          0.9600000000000001,
          0.9273504273504275,
          1.0428846153846154,
          0.7698317307692308,
          0.7942307423076922,
          0.5584615384615385,
          0.2115384615384615,
          0.5270833333333333,
          0.3966346153846153,
          0.9019230769230768,
          0.5312820512820513,
          0.7192307692307692,
          0.6428571428571429,
          0.8567307692307692,
          0.7107692307692308,
          0.5753846153846154,
          0.7723557692307693,
          0.8217391304347827,
          0.94875,
          0.9328846153846154,
          0.8686363636363637,
          0.88,
          0.5454166666666667,
          0.34222223538461544,
          0.3350961620192308,
          0.5946581196581197,
          1.1826923076923077,
          0.9519230769230768,
          0.6905769230769231,
          0.7192307480769231,
          1.3295599507100593,
          1.4475833720000002,
          0.97869760206379,
          0.9482532291346157,
          0.83425,
          0.8849899402948718,
          0.6178846153846154,
          0.6853846153846154,
          0.8752991683333333,
          0.8510059171597634,
          0.9969230769230769,
          0.5626923076923077,
          0.7510302197802198,
          0.9166666666666666,
          0.4696153719230769,
          1.0052884615384616,
          0.5711538461538461,
          0.8,
          0.78,
          0.9951373357417582,
          0.9157591973244147,
          0.28134616125,
          0.6923076923076923,
          1.2351793478260868,
          0.7516773691025641,
          0.5890625,
          0.4875,
          0.5230769230769231,
          0.9642857142857141,
          0.6954545454545454,
          3.5016025641025643,
          1.005,
          1.1559269230769231,
          0.8648275862068967,
          0.8648275862068967,
          1.0721367171282052,
          1.06875,
          1.028076923076923,
          0.4536000000000001,
          0.7846153846153846,
          0.6487179487179486,
          0.6487179487179486,
          0.695054945054945,
          0.6487179487179486,
          0.5695432692307693,
          0.7559915776210132,
          1.0940740981196582,
          0.7135897435897437,
          0.5,
          0.38076923076923075,
          0.9388888888888889,
          0.4750000000000001,
          0.5649417404195806,
          0.886613582811671,
          0.9611538461538461,
          0.5202797202797204,
          2.3721739130434782,
          1.0241987465976332,
          1.0365384905325445,
          1.4424615138461538,
          1.0615384615384615,
          1.0615384615384615,
          1.6712615748923079,
          1.37037497115,
          1.169969182523077,
          0.856875,
          0.4635042735042735,
          0.8030769230769231,
          0.5883620689655172,
          0.5883620689655172,
          0.66,
          1.2861761056856187,
          0.7843543956043956,
          0.4542857142857143,
          0.8505917159763314,
          1.0121738713043478,
          0.875,
          1.041346153846154,
          0.846153846153846,
          0.4124999999999999,
          0.8615384307692308,
          0.8091346153846153,
          0.7399038461538463,
          0.93898224852071,
          0.7298076923076924,
          0.9,
          1.215,
          1.16875,
          1.5365715976331362,
          1.231502532846154,
          0.6073504273504273,
          0.608974358974359,
          0.7375,
          0.8299384615384615,
          1.2184615384615385,
          1.2601193633952255,
          1.188070404172099,
          1.0416346153846154,
          1.1131410256410257,
          0.7805769230769231,
          1.1076923076923078,
          2.4576950641025643,
          0.6813346153846154,
          0.8074999757142857,
          0.9365567964835164,
          0.7976458885941645,
          0.7788461538461539,
          0.8476923076923077,
          0.7714285714285715,
          0.9391666666666667,
          0.678020979020979,
          0.825,
          0.48584935897435894,
          0.6341880341880342,
          0.6514285714285715,
          0.5923076923076923,
          1.0217307470192307,
          0.8611242603550295,
          0.7446581196581197,
          0.840231623931624,
          0.8263888888888891,
          0.675,
          1.06666664,
          0.8064102564102564,
          0.7192307692307692,
          0.8612637362637364,
          0.8307692307692308,
          0.02019230769230769,
          0.6542307692307692,
          0.5149038461538461,
          1.5278234265734265,
          1.2387784090909089,
          0.48461538461538467,
          0.5653846153846154,
          0.5680730117340287,
          0.7870078498239896,
          0.7753846153846154,
          1.0001538207692307,
          0.8257638888888889,
          0.8784722222222222,
          0.9744807692307693,
          1.0563232950953847,
          0.787860576923077,
          0.8091346153846153,
          0.735576923076923,
          0.77,
          0.5062278106508875,
          0.8410666464000001,
          0.7748731836225642,
          0.6218181818181818,
          0.6218181818181818,
          0.7942307423076922,
          0.8509615096153844,
          0.1798076923076923,
          0.495,
          0.8287931034482758,
          0.7929074315514995,
          0.5667796610169491,
          1.2435172413793105,
          0.7657245762711865,
          0.8269047619047619,
          1.2456293706293706,
          1.0084615384615383,
          1.3541666666666667,
          1.0526923076923078,
          0.9807692307692308,
          1.9720809181582846,
          0.28557692307692306,
          0.9173913043478261,
          1.017692307692308,
          0.748125,
          0.6620192307692309,
          0.8135256742307692,
          0.9846154153846154,
          1.271453189102564,
          0.568333315,
          1.0096153442307692,
          0.4326922903846153,
          0.8091346153846154,
          0.12115384615384615,
          0.6470512569230769,
          0.5411538623076924,
          0.84375,
          0.22435896538461536,
          1.0984615753846154,
          1.0993590057692308,
          1.539102608076923,
          0.3634615384615384,
          0.5451923076923076,
          0.4230769079670329,
          0.5871571696655519,
          1.1610576519230769,
          0.8948076923076923,
          1.2184615384615385,
          0.5354774535809019,
          1.021587278106509,
          1.021587278106509,
          0.6725274725274726,
          0.6725274725274726,
          0.926826923076923,
          0.9692307692307692,
          0.595,
          0.7779647435897437,
          0.83125,
          0.88453409867866,
          0.91,
          1.09001355035732,
          1.7136327298153846,
          0.5755692430153847,
          0.7988811188811189,
          0.3426923076923077,
          0.7239316239316239,
          0.6222222222222222,
          0.9059681697612733,
          0.825,
          0.591923076923077,
          0.8159573578595318,
          0.5076923076923078,
          0.5584615384615385,
          0.5936538461538461,
          0.875,
          0.6725274725274726,
          0.9942307976373627,
          0.24615384615384617,
          2.9279285359801492,
          0.8890558312655087,
          0.9703635897435898,
          0.6136410256410256,
          0.5530448717948718,
          0.4831196581196581,
          0.9108539765319427,
          0.8165230769230769,
          0.5829059641025641,
          1.2266826923076923,
          1.3956019669565218,
          1.0317210512738462,
          0.9527832167832169,
          0.8000431034482759,
          0.8849899402948718,
          0.8604166666666667,
          1.0450000000000002,
          0.4823076923076923,
          0.6966666666666668,
          0.5081318681318682,
          0.793956043956044,
          0.8407384615384615,
          1.9615384615384617,
          0.6692307692307692,
          0.6515384615384615,
          0.6360398995726496,
          0.6092307692307692,
          1.1130177514792898,
          0.8888888888888888,
          1.0236064814439025,
          0.945,
          0.6832692307692309,
          0.7064102564102565,
          0.9812492307692308,
          0.9556153846153848,
          0.6970414201183432,
          1.105685618729097,
          0.9909763313609468,
          0.8524153846153846,
          0.770676923076923,
          0.9453125,
          0.813059829059829,
          1.0072281167108754,
          0.8222811671087533,
          1.2315288461538463,
          0.7034482758620689,
          1.1815384984615387,
          0.6,
          1.105528873366864,
          0.7491346153846153,
          0.7448224852071006,
          0.8065961538461538,
          0.9615384615384616,
          0.828,
          0.743749983,
          0.5264428846153847,
          1.022905982905983,
          0.9423077307692307,
          1.0764548494983277,
          1.3333333333333333,
          0.7604567307692308,
          0.7649654832347139,
          0.7732906147435896,
          1.2141567307692307,
          0.9,
          0.414375,
          0.6923076923076924,
          0.8834134615384616,
          0.7053445762500001,
          0.8471708398668638,
          0.6898779585798818,
          0.9266272189349114,
          1.132544378698225,
          0.5274725274725275,
          0.5274725274725275,
          0.5274725274725275,
          1.026833374,
          0.7753846153846153,
          0.525,
          0.7139423076923076,
          0.5711538461538461,
          0.6782905764102565,
          0.48820512820512824,
          0.6129807692307692,
          0.4846153846153846,
          0.634726092465035,
          0.6461538461538461,
          0.6461538461538461,
          0.8125227361730769,
          0.9077564102564103,
          0.7489510489510489,
          0.6483516483516484,
          0.4406779830508475,
          1.5310344827586206,
          0.4361538461538462,
          0.4146153846153846,
          0.72,
          0.45,
          0.9050143898653845,
          0.6663461538461539,
          0.6950611888111887,
          0.6610730769230768,
          0.7176000276,
          0.888125,
          0.902724358974359,
          0.6576923076923077,
          0.8598373002958579,
          0.9079471153846153,
          0.8250000187499998,
          0.8428758741258743,
          0.36086538461538464,
          0.8637931034482759,
          1.236206855172414,
          0.6543478260869565,
          0.7913043478260869,
          0.9995192307692309,
          0.9520604395604396,
          0.5451923076923076,
          0.9951023349553847,
          1.0396350000000003,
          1.2033333796153847,
          0.904488726790451,
          0.8461346153846155,
          0.6628571428571428,
          0.39384615384615385,
          1.2,
          0.9292541069930069,
          0.39487179487179486,
          0.3769230769230769,
          1.048951006993007,
          0.58,
          0.7777777777777778,
          1.8167756841538463,
          1.7147769230769232,
          1.4589966911036791,
          0.8754505494505496,
          0.7235691003911343,
          0.6830769046153845,
          0.5934065934065934,
          0.18173076923076925,
          1.1241757879120877,
          0.6870338183566433,
          0.7413985774825174,
          0.49310346206896555,
          0.4361538461538461,
          0.71228635,
          0.9758974584615384,
          0.6788793103448276,
          1.1730106100795756,
          0.9072,
          0.9205307387999999,
          0.941977424749164,
          0.6418060454849499,
          0.8472386587771202,
          0.8259369100591716,
          0.919365168931624,
          0.9636004655128206,
          0.9866153846153848,
          0.9709615384615384,
          0.7446153846153846,
          0.6557692307692308,
          0.9382692307692309,
          0.46730769230769237,
          0.5878125,
          0.9064102923076924,
          0.7899137931034482,
          0.47384615384615386,
          0.6490384615384615,
          0.7170329917582418,
          0.7224358974358973,
          0.7224358974358973,
          0.8,
          0.38636858974358973,
          0.85,
          0.85,
          0.5712374581939801,
          0.7982608695652174,
          0.8251580168965517,
          0.6013568236217949,
          0.8341185897435897,
          0.4442307692307692,
          0.4442307692307692,
          0.693076923076923,
          0.6748718092307692,
          0.8821814647211539,
          0.7979567307692308,
          0.645236013986014,
          0.89010989010989,
          2.4054328846153847,
          1.0008238213399505,
          0.9300529230769233,
          0.8788183622828784,
          1.2430831265508684,
          0.35,
          0.7692307692307692,
          1.0862762237762238,
          0.8024475524475524,
          0.8024475524475524,
          0.7285714285714285,
          0.38076923076923075,
          0.9138461538461539,
          0.4283653846153846,
          0.6627118644067796,
          0.4265625,
          0.275,
          0.7812334217506632,
          0.9423869047619048,
          1.2658928571428572,
          0.6125,
          0.56,
          0.7397802197802197,
          0.7397802197802197,
          0.7397802197802197,
          0.8824038461538463,
          0.761771544055944,
          0.8708333650000002,
          0.6333333175,
          0.7051282051282052,
          0.8812535374358975,
          0.5997115384615385,
          0.6028846153846155,
          0.877670907051282,
          0.9128330206378986,
          0.925091932457786,
          0.8923076923076924,
          1.0665180397083334,
          1.030111090833333,
          1.2503333333333333,
          1.05,
          1.0305720192307692,
          0.7468934911242603,
          0.45951923076923074,
          1.0268896641973246,
          0.64493006993007,
          0.54,
          1.0030375384615384,
          1.0501615384615384,
          1.4021615624711536
         ]
        },
        {
         "hovertemplate": "<b>mean</b><br>CR %{x:,.0f}<br>XP ratio %{y:,.2f}<br><extra></extra>",
         "line": {
          "color": "blue"
         },
         "mode": "lines",
         "name": "mean",
         "type": "scatter",
         "x": [
          0.125,
          0.25,
          0.5,
          1,
          2,
          3,
          4,
          5,
          6,
          7,
          8,
          9,
          10,
          11,
          12,
          13,
          14,
          15,
          16,
          17,
          18,
          19,
          20,
          21,
          22,
          23,
          24,
          25,
          26,
          27,
          28,
          30
         ],
         "y": [
          0.5637396976717033,
          0.6781070035408232,
          0.6085661989275148,
          0.6730654302448918,
          0.6209959515058197,
          0.7456305751432006,
          0.7842957854828215,
          0.7935654252181509,
          0.8705508528578384,
          0.8824687994807376,
          0.8476694036899408,
          0.8581130241099622,
          0.9010127744837029,
          1.040280903761447,
          1.1021651071265905,
          1.0538341023090843,
          1.0705139628751839,
          1.0851007784450815,
          1.1082531038134376,
          1.0961977904849833,
          1.1772169216656108,
          1.1474812046691036,
          1.0670168004485714,
          1.0607610051769722,
          0.9865915501100271,
          1.1663606162650855,
          1.0680075797980222,
          1.1175801492334616,
          0.9501177994835754,
          0.8754505494505496,
          0.9404685874542125,
          1.4330234952620347
         ]
        },
        {
         "hoverinfo": "skip",
         "legendgroup": "confidence",
         "line": {
          "width": 0
         },
         "showlegend": false,
         "type": "scatter",
         "x": [
          0.125,
          0.25,
          0.5,
          1,
          2,
          3,
          4,
          5,
          6,
          7,
          8,
          9,
          10,
          11,
          12,
          13,
          14,
          15,
          16,
          17,
          18,
          19,
          20,
          21,
          22,
          23,
          24,
          25,
          26,
          27,
          28,
          30
         ],
         "y": [
          0.75025643,
          0.8650384442307694,
          0.8036538461538462,
          0.869166676096154,
          0.8227692307692309,
          0.9138461538461538,
          0.9303263625174825,
          0.9208486316752137,
          0.9764381123076923,
          1.0319633952254643,
          1.021587278106509,
          0.9866153846153848,
          1.0489830508474576,
          1.0805127995076924,
          1.2285989010989014,
          1.2272565384615386,
          1.3966314063411371,
          1.5134777965917159,
          1.261749238679795,
          1.3763430694923078,
          1.2830878438769233,
          1.2387784090909089,
          1.2643337079230772,
          1.2273403263403264,
          1.1283730185459664,
          1.395804244206923,
          1.2499615384615383,
          1.340530899249231,
          1.0743957651,
          0.8754505494505496,
          0.9933365384615387,
          1.8251795446064523
         ]
        },
        {
         "fill": "tonexty",
         "fillcolor": "rgba(0, 0, 255, 0.2)",
         "hoverinfo": "skip",
         "legendgroup": "confidence",
         "line": {
          "width": 0
         },
         "name": "60% confidence",
         "type": "scatter",
         "x": [
          0.125,
          0.25,
          0.5,
          1,
          2,
          3,
          4,
          5,
          6,
          7,
          8,
          9,
          10,
          11,
          12,
          13,
          14,
          15,
          16,
          17,
          18,
          19,
          20,
          21,
          22,
          23,
          24,
          25,
          26,
          27,
          28,
          30
         ],
         "y": [
          0.3634615384615384,
          0.4811538388846153,
          0.44100000761538466,
          0.495,
          0.4475213675213675,
          0.5979725323516483,
          0.6252727272727273,
          0.6126153786923078,
          0.7108444654013377,
          0.7028275862068966,
          0.6832613369151874,
          0.743749983,
          0.7044915254237288,
          0.7946394230769231,
          0.8902596023076924,
          0.8642830566830769,
          0.788353712374582,
          0.8128735207100591,
          0.853168394043077,
          0.8567971068410256,
          0.8987376472038461,
          0.8507596153846154,
          0.8211600923076922,
          0.8485909220139859,
          0.832332833020638,
          0.9257784807076924,
          0.87892317617866,
          0.81911993185,
          0.8712965676205128,
          0.8754505494505496,
          0.856875,
          0.8634719241373697
         ]
        }
       ],
       "layout": {
        "legend": {
         "orientation": "v",
         "tracegroupgap": 0,
         "x": 0,
         "xanchor": "left",
         "y": 1,
         "yanchor": "top"
        },
        "margin": {
         "b": 55,
         "l": 70,
         "pad": 4,
         "r": 25,
         "t": 20
        },
        "template": {
         "layout": {
          "autosize": true,
          "font": {
           "family": "sans-serif",
           "size": 14
          },
          "hoverlabel": {
           "align": "left"
          },
          "hovermode": "closest",
          "margin": {
           "b": 40,
           "l": 50,
           "pad": 4,
           "r": 25,
           "t": 20
          },
          "template": {
           "data": {
            "bar": [
             {
              "error_x": {
               "color": "#2a3f5f"
              },
              "error_y": {
               "color": "#2a3f5f"
              },
              "marker": {
               "line": {
                "color": "white",
                "width": 0.5
               },
               "pattern": {
                "fillmode": "overlay",
                "size": 10,
                "solidity": 0.2
               }
              },
              "type": "bar"
             }
            ],
            "barpolar": [
             {
              "marker": {
               "line": {
                "color": "white",
                "width": 0.5
               },
               "pattern": {
                "fillmode": "overlay",
                "size": 10,
                "solidity": 0.2
               }
              },
              "type": "barpolar"
             }
            ],
            "carpet": [
             {
              "aaxis": {
               "endlinecolor": "#2a3f5f",
               "gridcolor": "#C8D4E3",
               "linecolor": "#C8D4E3",
               "minorgridcolor": "#C8D4E3",
               "startlinecolor": "#2a3f5f"
              },
              "baxis": {
               "endlinecolor": "#2a3f5f",
               "gridcolor": "#C8D4E3",
               "linecolor": "#C8D4E3",
               "minorgridcolor": "#C8D4E3",
               "startlinecolor": "#2a3f5f"
              },
              "type": "carpet"
             }
            ],
            "choropleth": [
             {
              "colorbar": {
               "outlinewidth": 0,
               "ticks": ""
              },
              "type": "choropleth"
             }
            ],
            "contour": [
             {
              "colorbar": {
               "outlinewidth": 0,
               "ticks": ""
              },
              "colorscale": [
               [
                0,
                "#0d0887"
               ],
               [
                0.1111111111111111,
                "#46039f"
               ],
               [
                0.2222222222222222,
                "#7201a8"
               ],
               [
                0.3333333333333333,
                "#9c179e"
               ],
               [
                0.4444444444444444,
                "#bd3786"
               ],
               [
                0.5555555555555556,
                "#d8576b"
               ],
               [
                0.6666666666666666,
                "#ed7953"
               ],
               [
                0.7777777777777778,
                "#fb9f3a"
               ],
               [
                0.8888888888888888,
                "#fdca26"
               ],
               [
                1,
                "#f0f921"
               ]
              ],
              "type": "contour"
             }
            ],
            "contourcarpet": [
             {
              "colorbar": {
               "outlinewidth": 0,
               "ticks": ""
              },
              "type": "contourcarpet"
             }
            ],
            "heatmap": [
             {
              "colorbar": {
               "outlinewidth": 0,
               "ticks": ""
              },
              "colorscale": [
               [
                0,
                "#0d0887"
               ],
               [
                0.1111111111111111,
                "#46039f"
               ],
               [
                0.2222222222222222,
                "#7201a8"
               ],
               [
                0.3333333333333333,
                "#9c179e"
               ],
               [
                0.4444444444444444,
                "#bd3786"
               ],
               [
                0.5555555555555556,
                "#d8576b"
               ],
               [
                0.6666666666666666,
                "#ed7953"
               ],
               [
                0.7777777777777778,
                "#fb9f3a"
               ],
               [
                0.8888888888888888,
                "#fdca26"
               ],
               [
                1,
                "#f0f921"
               ]
              ],
              "type": "heatmap"
             }
            ],
            "heatmapgl": [
             {
              "colorbar": {
               "outlinewidth": 0,
               "ticks": ""
              },
              "colorscale": [
               [
                0,
                "#0d0887"
               ],
               [
                0.1111111111111111,
                "#46039f"
               ],
               [
                0.2222222222222222,
                "#7201a8"
               ],
               [
                0.3333333333333333,
                "#9c179e"
               ],
               [
                0.4444444444444444,
                "#bd3786"
               ],
               [
                0.5555555555555556,
                "#d8576b"
               ],
               [
                0.6666666666666666,
                "#ed7953"
               ],
               [
                0.7777777777777778,
                "#fb9f3a"
               ],
               [
                0.8888888888888888,
                "#fdca26"
               ],
               [
                1,
                "#f0f921"
               ]
              ],
              "type": "heatmapgl"
             }
            ],
            "histogram": [
             {
              "marker": {
               "pattern": {
                "fillmode": "overlay",
                "size": 10,
                "solidity": 0.2
               }
              },
              "type": "histogram"
             }
            ],
            "histogram2d": [
             {
              "colorbar": {
               "outlinewidth": 0,
               "ticks": ""
              },
              "colorscale": [
               [
                0,
                "#0d0887"
               ],
               [
                0.1111111111111111,
                "#46039f"
               ],
               [
                0.2222222222222222,
                "#7201a8"
               ],
               [
                0.3333333333333333,
                "#9c179e"
               ],
               [
                0.4444444444444444,
                "#bd3786"
               ],
               [
                0.5555555555555556,
                "#d8576b"
               ],
               [
                0.6666666666666666,
                "#ed7953"
               ],
               [
                0.7777777777777778,
                "#fb9f3a"
               ],
               [
                0.8888888888888888,
                "#fdca26"
               ],
               [
                1,
                "#f0f921"
               ]
              ],
              "type": "histogram2d"
             }
            ],
            "histogram2dcontour": [
             {
              "colorbar": {
               "outlinewidth": 0,
               "ticks": ""
              },
              "colorscale": [
               [
                0,
                "#0d0887"
               ],
               [
                0.1111111111111111,
                "#46039f"
               ],
               [
                0.2222222222222222,
                "#7201a8"
               ],
               [
                0.3333333333333333,
                "#9c179e"
               ],
               [
                0.4444444444444444,
                "#bd3786"
               ],
               [
                0.5555555555555556,
                "#d8576b"
               ],
               [
                0.6666666666666666,
                "#ed7953"
               ],
               [
                0.7777777777777778,
                "#fb9f3a"
               ],
               [
                0.8888888888888888,
                "#fdca26"
               ],
               [
                1,
                "#f0f921"
               ]
              ],
              "type": "histogram2dcontour"
             }
            ],
            "mesh3d": [
             {
              "colorbar": {
               "outlinewidth": 0,
               "ticks": ""
              },
              "type": "mesh3d"
             }
            ],
            "parcoords": [
             {
              "line": {
               "colorbar": {
                "outlinewidth": 0,
                "ticks": ""
               }
              },
              "type": "parcoords"
             }
            ],
            "pie": [
             {
              "automargin": true,
              "type": "pie"
             }
            ],
            "scatter": [
             {
              "fillpattern": {
               "fillmode": "overlay",
               "size": 10,
               "solidity": 0.2
              },
              "type": "scatter"
             }
            ],
            "scatter3d": [
             {
              "line": {
               "colorbar": {
                "outlinewidth": 0,
                "ticks": ""
               }
              },
              "marker": {
               "colorbar": {
                "outlinewidth": 0,
                "ticks": ""
               }
              },
              "type": "scatter3d"
             }
            ],
            "scattercarpet": [
             {
              "marker": {
               "colorbar": {
                "outlinewidth": 0,
                "ticks": ""
               }
              },
              "type": "scattercarpet"
             }
            ],
            "scattergeo": [
             {
              "marker": {
               "colorbar": {
                "outlinewidth": 0,
                "ticks": ""
               }
              },
              "type": "scattergeo"
             }
            ],
            "scattergl": [
             {
              "marker": {
               "colorbar": {
                "outlinewidth": 0,
                "ticks": ""
               }
              },
              "type": "scattergl"
             }
            ],
            "scattermapbox": [
             {
              "marker": {
               "colorbar": {
                "outlinewidth": 0,
                "ticks": ""
               }
              },
              "type": "scattermapbox"
             }
            ],
            "scatterpolar": [
             {
              "marker": {
               "colorbar": {
                "outlinewidth": 0,
                "ticks": ""
               }
              },
              "type": "scatterpolar"
             }
            ],
            "scatterpolargl": [
             {
              "marker": {
               "colorbar": {
                "outlinewidth": 0,
                "ticks": ""
               }
              },
              "type": "scatterpolargl"
             }
            ],
            "scatterternary": [
             {
              "marker": {
               "colorbar": {
                "outlinewidth": 0,
                "ticks": ""
               }
              },
              "type": "scatterternary"
             }
            ],
            "surface": [
             {
              "colorbar": {
               "outlinewidth": 0,
               "ticks": ""
              },
              "colorscale": [
               [
                0,
                "#0d0887"
               ],
               [
                0.1111111111111111,
                "#46039f"
               ],
               [
                0.2222222222222222,
                "#7201a8"
               ],
               [
                0.3333333333333333,
                "#9c179e"
               ],
               [
                0.4444444444444444,
                "#bd3786"
               ],
               [
                0.5555555555555556,
                "#d8576b"
               ],
               [
                0.6666666666666666,
                "#ed7953"
               ],
               [
                0.7777777777777778,
                "#fb9f3a"
               ],
               [
                0.8888888888888888,
                "#fdca26"
               ],
               [
                1,
                "#f0f921"
               ]
              ],
              "type": "surface"
             }
            ],
            "table": [
             {
              "cells": {
               "fill": {
                "color": "#EBF0F8"
               },
               "line": {
                "color": "white"
               }
              },
              "header": {
               "fill": {
                "color": "#C8D4E3"
               },
               "line": {
                "color": "white"
               }
              },
              "type": "table"
             }
            ]
           },
           "layout": {
            "annotationdefaults": {
             "arrowcolor": "#2a3f5f",
             "arrowhead": 0,
             "arrowwidth": 1
            },
            "autotypenumbers": "strict",
            "coloraxis": {
             "colorbar": {
              "outlinewidth": 0,
              "ticks": ""
             }
            },
            "colorscale": {
             "diverging": [
              [
               0,
               "#8e0152"
              ],
              [
               0.1,
               "#c51b7d"
              ],
              [
               0.2,
               "#de77ae"
              ],
              [
               0.3,
               "#f1b6da"
              ],
              [
               0.4,
               "#fde0ef"
              ],
              [
               0.5,
               "#f7f7f7"
              ],
              [
               0.6,
               "#e6f5d0"
              ],
              [
               0.7,
               "#b8e186"
              ],
              [
               0.8,
               "#7fbc41"
              ],
              [
               0.9,
               "#4d9221"
              ],
              [
               1,
               "#276419"
              ]
             ],
             "sequential": [
              [
               0,
               "#0d0887"
              ],
              [
               0.1111111111111111,
               "#46039f"
              ],
              [
               0.2222222222222222,
               "#7201a8"
              ],
              [
               0.3333333333333333,
               "#9c179e"
              ],
              [
               0.4444444444444444,
               "#bd3786"
              ],
              [
               0.5555555555555556,
               "#d8576b"
              ],
              [
               0.6666666666666666,
               "#ed7953"
              ],
              [
               0.7777777777777778,
               "#fb9f3a"
              ],
              [
               0.8888888888888888,
               "#fdca26"
              ],
              [
               1,
               "#f0f921"
              ]
             ],
             "sequentialminus": [
              [
               0,
               "#0d0887"
              ],
              [
               0.1111111111111111,
               "#46039f"
              ],
              [
               0.2222222222222222,
               "#7201a8"
              ],
              [
               0.3333333333333333,
               "#9c179e"
              ],
              [
               0.4444444444444444,
               "#bd3786"
              ],
              [
               0.5555555555555556,
               "#d8576b"
              ],
              [
               0.6666666666666666,
               "#ed7953"
              ],
              [
               0.7777777777777778,
               "#fb9f3a"
              ],
              [
               0.8888888888888888,
               "#fdca26"
              ],
              [
               1,
               "#f0f921"
              ]
             ]
            },
            "colorway": [
             "#636efa",
             "#EF553B",
             "#00cc96",
             "#ab63fa",
             "#FFA15A",
             "#19d3f3",
             "#FF6692",
             "#B6E880",
             "#FF97FF",
             "#FECB52"
            ],
            "font": {
             "color": "#2a3f5f"
            },
            "geo": {
             "bgcolor": "white",
             "lakecolor": "white",
             "landcolor": "white",
             "showlakes": true,
             "showland": true,
             "subunitcolor": "#C8D4E3"
            },
            "hoverlabel": {
             "align": "left"
            },
            "hovermode": "closest",
            "mapbox": {
             "style": "light"
            },
            "paper_bgcolor": "white",
            "plot_bgcolor": "white",
            "polar": {
             "angularaxis": {
              "gridcolor": "#EBF0F8",
              "linecolor": "#EBF0F8",
              "ticks": ""
             },
             "bgcolor": "white",
             "radialaxis": {
              "gridcolor": "#EBF0F8",
              "linecolor": "#EBF0F8",
              "ticks": ""
             }
            },
            "scene": {
             "xaxis": {
              "backgroundcolor": "white",
              "gridcolor": "#DFE8F3",
              "gridwidth": 2,
              "linecolor": "#EBF0F8",
              "showbackground": true,
              "ticks": "",
              "zerolinecolor": "#EBF0F8"
             },
             "yaxis": {
              "backgroundcolor": "white",
              "gridcolor": "#DFE8F3",
              "gridwidth": 2,
              "linecolor": "#EBF0F8",
              "showbackground": true,
              "ticks": "",
              "zerolinecolor": "#EBF0F8"
             },
             "zaxis": {
              "backgroundcolor": "white",
              "gridcolor": "#DFE8F3",
              "gridwidth": 2,
              "linecolor": "#EBF0F8",
              "showbackground": true,
              "ticks": "",
              "zerolinecolor": "#EBF0F8"
             }
            },
            "shapedefaults": {
             "line": {
              "color": "#2a3f5f"
             }
            },
            "ternary": {
             "aaxis": {
              "gridcolor": "#DFE8F3",
              "linecolor": "#A2B1C6",
              "ticks": ""
             },
             "baxis": {
              "gridcolor": "#DFE8F3",
              "linecolor": "#A2B1C6",
              "ticks": ""
             },
             "bgcolor": "white",
             "caxis": {
              "gridcolor": "#DFE8F3",
              "linecolor": "#A2B1C6",
              "ticks": ""
             }
            },
            "title": {
             "x": 0.05
            },
            "xaxis": {
             "automargin": true,
             "gridcolor": "#EBF0F8",
             "linecolor": "#EBF0F8",
             "ticks": "",
             "title": {
              "standoff": 15
             },
             "zerolinecolor": "#EBF0F8",
             "zerolinewidth": 2
            },
            "yaxis": {
             "automargin": true,
             "gridcolor": "#EBF0F8",
             "linecolor": "#EBF0F8",
             "ticks": "",
             "title": {
              "standoff": 15
             },
             "zerolinecolor": "#EBF0F8",
             "zerolinewidth": 2
            }
           }
          },
          "xaxis": {
           "automargin": false,
           "linecolor": "#444",
           "linewidth": 2,
           "minor": {
            "tickmode": "linear",
            "ticks": "outside"
           },
           "mirror": true,
           "showline": true,
           "tickmode": "linear",
           "ticks": "outside",
           "zeroline": false
          },
          "yaxis": {
           "automargin": false,
           "linecolor": "#444",
           "linewidth": 2,
           "minor": {
            "ticks": "outside"
           },
           "mirror": true,
           "showline": true,
           "ticks": "outside",
           "zeroline": false
          }
         }
        },
        "xaxis": {
         "dtick": 5,
         "minor": {
          "dtick": 1,
          "tick0": 0
         },
         "range": [
          0,
          30
         ],
         "tick0": 0,
         "title": {
          "text": "CR"
         }
        },
        "yaxis": {
         "dtick": 0.5,
         "minor": {
          "dtick": 0.1,
          "tick0": 0
         },
         "range": [
          0,
          3
         ],
         "tick0": 0,
         "title": {
          "text": "XP ratio"
         }
        }
       }
      }
     },
     "metadata": {},
     "output_type": "display_data"
    }
   ],
   "source": [
    "# create figure\n",
    "fig = go.Figure(\n",
    "    layout=go.Layout(\n",
    "        template=TFB_TEMPLATE,\n",
    "        margin=dict(l=70, r=25, b=55, t=20, pad=4),\n",
    "        xaxis=dict(\n",
    "            title_text='CR',\n",
    "            range=[0,30],\n",
    "            tick0=0, dtick=5,\n",
    "            minor=dict(tick0=0, dtick=1),\n",
    "        ),\n",
    "        yaxis=dict(\n",
    "            title_text='XP ratio',\n",
    "            range=[0,3],\n",
    "            tick0=0, dtick=0.5,\n",
    "            minor=dict(tick0=0, dtick=0.1),\n",
    "        ),\n",
    "        legend=dict(\n",
    "            xanchor='left', yanchor='top',\n",
    "            x=0.00, y=1.00,\n",
    "            orientation='v',\n",
    "            tracegroupgap=0,\n",
    "        )\n",
    "    )\n",
    ")\n",
    "\n",
    "# plot monster data\n",
    "df1 = df0[df0['CR'].between(0,30) & df0['Category'].isin(['generic','legacy','legendary','unique'])]\n",
    "fig.add_trace(go.Scatter(\n",
    "    x=df1['CR spread'], y=df1['eXP Ratio'],\n",
    "    mode='markers', \n",
    "    name='monsters',\n",
    "    marker=dict(color='blue', opacity=1),\n",
    "    customdata = np.stack((df1['Monster'], df1['CR'], df1['eXP Ratio']), axis=-1),\n",
    "    hovertemplate = '<b>%{customdata[0]}</b><br>'\n",
    "        + 'CR: %{customdata[1]}<br>'\n",
    "        + 'eXP ratio: %{customdata[2]:.2f}'\n",
    "        + '<extra></extra>'\n",
    "))\n",
    "\n",
    "# plot average\n",
    "xCol = 'CR'\n",
    "yCol = 'eXP Ratio'\n",
    "\n",
    "\n",
    "dfM = df1[[xCol,yCol]].groupby(xCol).mean().reset_index()\n",
    "fig.add_trace(go.Scatter(\n",
    "    x=dfM[xCol], y=dfM[yCol],\n",
    "    mode='lines', \n",
    "    name='mean',\n",
    "    line=dict(color='blue'),\n",
    "    hovertemplate='<b>mean</b><br>' + 'CR %{x:,.0f}<br>' + 'XP ratio %{y:,.2f}<br>' + '<extra></extra>'\n",
    "))\n",
    "\n",
    "conf = 0.6\n",
    "dfU = df1[[xCol,yCol]].groupby(xCol).quantile(0.5 + conf/2).reset_index()\n",
    "dfL = df1[[xCol,yCol]].groupby(xCol).quantile(0.5 - conf/2).reset_index()\n",
    "fig.add_trace(go.Scatter(x=dfG[xCol], y=dfU[yCol], line_width=0, legendgroup='confidence', showlegend=False, hoverinfo='skip'))\n",
    "fig.add_trace(go.Scatter(x=dfG[xCol], y=dfL[yCol], line_width=0, name=f'{conf:.0%} confidence', legendgroup='confidence', hoverinfo='skip', fill='tonexty', fillcolor='rgba(0, 0, 255, 0.2)'))\n",
    "\n",
    "# show figure\n",
    "fig.show(config=TFB_CONFIG)"
   ]
  },
  {
   "cell_type": "code",
   "execution_count": 120,
   "metadata": {},
   "outputs": [
    {
     "data": {
      "application/vnd.plotly.v1+json": {
       "config": {
        "autosizable": true,
        "displayModeBar": "hover",
        "displaylogo": false,
        "modeBarButtonsToRemove": [
         "select2d",
         "lasso2d",
         "zoom2d",
         "zoomIn2d",
         "zoomOut2d",
         "pan2d",
         "autoScale2d",
         "hoverClosestCartesian",
         "hoverCompareCartesian",
         "toggleSpikelines",
         "resetScale2d"
        ],
        "plotlyServerURL": "https://plot.ly",
        "responsive": true,
        "showAxisDragHandles": false,
        "toImageButtonOptions": {
         "filename": "tfb-plot",
         "format": "png",
         "height": 450,
         "scale": 2,
         "width": 600
        }
       },
       "data": [
        {
         "hovertemplate": "<b>mean</b><br>CR %{x:,.0f}<br>CR delta %{y:,.1f}<br><extra></extra>",
         "line": {
          "color": "rgba(0,0,250,1)"
         },
         "mode": "lines",
         "name": "eCR Delta - mean",
         "type": "scatter",
         "x": [
          0.125,
          0.25,
          0.5,
          1,
          2,
          3,
          4,
          5,
          6,
          7,
          8,
          9,
          10,
          11,
          12,
          13,
          14,
          15,
          16,
          17,
          18,
          19,
          20,
          21,
          22,
          23,
          24,
          25,
          26,
          27,
          28,
          30
         ],
         "y": [
          -0.01602631896656913,
          -0.060992104657093885,
          -0.21321151355680135,
          -0.4254168452840623,
          -0.7695196825760315,
          -0.7474204385095135,
          -0.7327660574072736,
          -0.5834419923988062,
          -0.6254083918567765,
          -0.7470214337891067,
          -0.71040467015379,
          -0.5558260670053378,
          -0.4889102065797484,
          0.02273884326657884,
          0.6444298588815536,
          0.2903341595063764,
          0.43925977939700694,
          0.6200008152920885,
          0.7022208364420984,
          0.6815563100653096,
          0.9527986675052151,
          0.6900145217822603,
          -0.010241359813850437,
          0.16101580965117818,
          -0.5555548032663473,
          0.6447326114946847,
          0.24823635475972847,
          0.4710419754994892,
          -0.1237798830893917,
          -0.6724961037407589,
          -0.3860084484642101,
          -0.5151391113445483
         ]
        },
        {
         "hoverinfo": "skip",
         "legendgroup": "eCR Delta confidence",
         "line": {
          "width": 0
         },
         "showlegend": false,
         "type": "scatter",
         "x": [
          0.125,
          0.25,
          0.5,
          1,
          2,
          3,
          4,
          5,
          6,
          7,
          8,
          9,
          10,
          11,
          12,
          13,
          14,
          15,
          16,
          17,
          18,
          19,
          20,
          21,
          22,
          23,
          24,
          25,
          26,
          27,
          28,
          30
         ],
         "y": [
          0.015250965250965254,
          -0.023571428571428542,
          -0.13427010148321622,
          -0.2780772686433063,
          -0.2957465532414196,
          -0.3144259077526986,
          -0.3254398489741468,
          -0.1745735670154317,
          -0.12737910412017683,
          0.0645477533553786,
          0.013032917277680411,
          0.2978174913659888,
          0.25658330025142295,
          0.6006718039913057,
          1.6728221419543068,
          2.025510761545962,
          2.434293129249184,
          3.09879939849624,
          1.7901610932353569,
          3.0171982948699103,
          2.1555453079383753,
          1.234668878575978,
          0.8018941223409826,
          0.8873752219095498,
          0.6435448254053426,
          1.7027027413309754,
          1.231809932354397,
          1.930753249448577,
          0.7482828258134655,
          -0.6724961037407589,
          0.11226085689097065,
          0
         ]
        },
        {
         "fill": "tonexty",
         "fillcolor": "rgba(0,0,250,0.3)",
         "hoverinfo": "skip",
         "legendgroup": "eCR Delta confidence",
         "line": {
          "width": 0
         },
         "name": "eCR Delta - 60% confidence",
         "type": "scatter",
         "x": [
          0.125,
          0.25,
          0.5,
          1,
          2,
          3,
          4,
          5,
          6,
          7,
          8,
          9,
          10,
          11,
          12,
          13,
          14,
          15,
          16,
          17,
          18,
          19,
          20,
          21,
          22,
          23,
          24,
          25,
          26,
          27,
          28,
          30
         ],
         "y": [
          -0.04595588235294118,
          -0.09301801801801801,
          -0.27883955006435,
          -0.5595784543325527,
          -1.1549266247379455,
          -1.0934291581108826,
          -1.0924741252469736,
          -1.167833300285841,
          -1.2384343232525925,
          -1.5707622329853592,
          -1.4780065363998776,
          -1.3208992136049122,
          -1.237351641726773,
          -1.2008667607337227,
          -0.5708358032009478,
          -0.7456491397385696,
          -1.4102573228665607,
          -1.380614426569796,
          -0.6937791100065805,
          -0.8858495125946817,
          -0.794324309406209,
          0.15308327381685274,
          -0.37437918154578753,
          -0.6945119226858374,
          -1.16546621588515,
          -0.5081543963824685,
          -0.7701248180234359,
          -1.1119268752535745,
          -0.5721717760258649,
          -0.6724961037407589,
          -1.0076517957973152,
          -0.9749202745319003
         ]
        },
        {
         "hovertemplate": "<b>mean</b><br>CR %{x:,.0f}<br>CR delta %{y:,.1f}<br><extra></extra>",
         "line": {
          "color": "rgba(250,0,0,1)"
         },
         "mode": "lines",
         "name": "C-CR DMG Delta - mean",
         "type": "scatter",
         "x": [
          0.125,
          0.25,
          0.5,
          1,
          2,
          3,
          4,
          5,
          6,
          7,
          8,
          9,
          10,
          11,
          12,
          13,
          14,
          15,
          16,
          17,
          18,
          19,
          20,
          21,
          22,
          23,
          24,
          25,
          26,
          27,
          28,
          30
         ],
         "y": [
          0.12009803921568628,
          0.195,
          0.10546875,
          0.125,
          -0.33764367816091956,
          -0.5575539568345323,
          -0.47474747474747475,
          -0.3798449612403101,
          -0.4507042253521127,
          -0.5205479452054794,
          -0.6363636363636364,
          -0.6122448979591837,
          -0.3684210526315789,
          0.024390243902439025,
          0.6785714285714286,
          0.23529411764705882,
          0.125,
          0.3333333333333333,
          0.44,
          0.3125,
          0.6428571428571429,
          0.1111111111111111,
          -0.36363636363636365,
          0.26666666666666666,
          -0.1875,
          1,
          1.0714285714285714,
          1.1111111111111112,
          0.4166666666666667,
          0,
          0.14285714285714285,
          -1
         ]
        },
        {
         "hoverinfo": "skip",
         "legendgroup": "C-CR DMG Delta confidence",
         "line": {
          "width": 0
         },
         "showlegend": false,
         "type": "scatter",
         "x": [
          0.125,
          0.25,
          0.5,
          1,
          2,
          3,
          4,
          5,
          6,
          7,
          8,
          9,
          10,
          11,
          12,
          13,
          14,
          15,
          16,
          17,
          18,
          19,
          20,
          21,
          22,
          23,
          24,
          25,
          26,
          27,
          28,
          30
         ],
         "y": [
          0.125,
          0.25,
          0.5,
          1,
          0,
          0,
          0,
          0,
          0,
          0,
          0,
          0,
          0,
          1,
          1.6000000000000014,
          1.4000000000000021,
          2,
          2,
          2,
          3,
          2,
          1,
          1,
          2,
          1,
          2,
          2.4000000000000004,
          2,
          1,
          0,
          0,
          0
         ]
        },
        {
         "fill": "tonexty",
         "fillcolor": "rgba(250,0,0,0.3)",
         "hoverinfo": "skip",
         "legendgroup": "C-CR DMG Delta confidence",
         "line": {
          "width": 0
         },
         "name": "C-CR DMG Delta - 60% confidence",
         "type": "scatter",
         "x": [
          0.125,
          0.25,
          0.5,
          1,
          2,
          3,
          4,
          5,
          6,
          7,
          8,
          9,
          10,
          11,
          12,
          13,
          14,
          15,
          16,
          17,
          18,
          19,
          20,
          21,
          22,
          23,
          24,
          25,
          26,
          27,
          28,
          30
         ],
         "y": [
          0,
          -0.125,
          -0.25,
          -0.5,
          -1,
          -1,
          -1,
          -1,
          -1,
          -1,
          -2,
          -1,
          -1,
          -1,
          -1,
          -1,
          -1.3999999999999995,
          -1,
          -1,
          -1,
          -1,
          -0.3999999999999999,
          -1,
          -1.1999999999999997,
          -1,
          0,
          0,
          0,
          0,
          0,
          0,
          -2
         ]
        }
       ],
       "layout": {
        "legend": {
         "bgcolor": "rgba(0,0,0,0)",
         "orientation": "v",
         "tracegroupgap": 0,
         "x": 0,
         "xanchor": "left",
         "y": 0,
         "yanchor": "bottom"
        },
        "margin": {
         "b": 55,
         "l": 70,
         "pad": 4,
         "r": 25,
         "t": 20
        },
        "template": {
         "layout": {
          "autosize": true,
          "font": {
           "family": "sans-serif",
           "size": 14
          },
          "hoverlabel": {
           "align": "left"
          },
          "hovermode": "closest",
          "margin": {
           "b": 40,
           "l": 50,
           "pad": 4,
           "r": 25,
           "t": 20
          },
          "template": {
           "data": {
            "bar": [
             {
              "error_x": {
               "color": "#2a3f5f"
              },
              "error_y": {
               "color": "#2a3f5f"
              },
              "marker": {
               "line": {
                "color": "white",
                "width": 0.5
               },
               "pattern": {
                "fillmode": "overlay",
                "size": 10,
                "solidity": 0.2
               }
              },
              "type": "bar"
             }
            ],
            "barpolar": [
             {
              "marker": {
               "line": {
                "color": "white",
                "width": 0.5
               },
               "pattern": {
                "fillmode": "overlay",
                "size": 10,
                "solidity": 0.2
               }
              },
              "type": "barpolar"
             }
            ],
            "carpet": [
             {
              "aaxis": {
               "endlinecolor": "#2a3f5f",
               "gridcolor": "#C8D4E3",
               "linecolor": "#C8D4E3",
               "minorgridcolor": "#C8D4E3",
               "startlinecolor": "#2a3f5f"
              },
              "baxis": {
               "endlinecolor": "#2a3f5f",
               "gridcolor": "#C8D4E3",
               "linecolor": "#C8D4E3",
               "minorgridcolor": "#C8D4E3",
               "startlinecolor": "#2a3f5f"
              },
              "type": "carpet"
             }
            ],
            "choropleth": [
             {
              "colorbar": {
               "outlinewidth": 0,
               "ticks": ""
              },
              "type": "choropleth"
             }
            ],
            "contour": [
             {
              "colorbar": {
               "outlinewidth": 0,
               "ticks": ""
              },
              "colorscale": [
               [
                0,
                "#0d0887"
               ],
               [
                0.1111111111111111,
                "#46039f"
               ],
               [
                0.2222222222222222,
                "#7201a8"
               ],
               [
                0.3333333333333333,
                "#9c179e"
               ],
               [
                0.4444444444444444,
                "#bd3786"
               ],
               [
                0.5555555555555556,
                "#d8576b"
               ],
               [
                0.6666666666666666,
                "#ed7953"
               ],
               [
                0.7777777777777778,
                "#fb9f3a"
               ],
               [
                0.8888888888888888,
                "#fdca26"
               ],
               [
                1,
                "#f0f921"
               ]
              ],
              "type": "contour"
             }
            ],
            "contourcarpet": [
             {
              "colorbar": {
               "outlinewidth": 0,
               "ticks": ""
              },
              "type": "contourcarpet"
             }
            ],
            "heatmap": [
             {
              "colorbar": {
               "outlinewidth": 0,
               "ticks": ""
              },
              "colorscale": [
               [
                0,
                "#0d0887"
               ],
               [
                0.1111111111111111,
                "#46039f"
               ],
               [
                0.2222222222222222,
                "#7201a8"
               ],
               [
                0.3333333333333333,
                "#9c179e"
               ],
               [
                0.4444444444444444,
                "#bd3786"
               ],
               [
                0.5555555555555556,
                "#d8576b"
               ],
               [
                0.6666666666666666,
                "#ed7953"
               ],
               [
                0.7777777777777778,
                "#fb9f3a"
               ],
               [
                0.8888888888888888,
                "#fdca26"
               ],
               [
                1,
                "#f0f921"
               ]
              ],
              "type": "heatmap"
             }
            ],
            "heatmapgl": [
             {
              "colorbar": {
               "outlinewidth": 0,
               "ticks": ""
              },
              "colorscale": [
               [
                0,
                "#0d0887"
               ],
               [
                0.1111111111111111,
                "#46039f"
               ],
               [
                0.2222222222222222,
                "#7201a8"
               ],
               [
                0.3333333333333333,
                "#9c179e"
               ],
               [
                0.4444444444444444,
                "#bd3786"
               ],
               [
                0.5555555555555556,
                "#d8576b"
               ],
               [
                0.6666666666666666,
                "#ed7953"
               ],
               [
                0.7777777777777778,
                "#fb9f3a"
               ],
               [
                0.8888888888888888,
                "#fdca26"
               ],
               [
                1,
                "#f0f921"
               ]
              ],
              "type": "heatmapgl"
             }
            ],
            "histogram": [
             {
              "marker": {
               "pattern": {
                "fillmode": "overlay",
                "size": 10,
                "solidity": 0.2
               }
              },
              "type": "histogram"
             }
            ],
            "histogram2d": [
             {
              "colorbar": {
               "outlinewidth": 0,
               "ticks": ""
              },
              "colorscale": [
               [
                0,
                "#0d0887"
               ],
               [
                0.1111111111111111,
                "#46039f"
               ],
               [
                0.2222222222222222,
                "#7201a8"
               ],
               [
                0.3333333333333333,
                "#9c179e"
               ],
               [
                0.4444444444444444,
                "#bd3786"
               ],
               [
                0.5555555555555556,
                "#d8576b"
               ],
               [
                0.6666666666666666,
                "#ed7953"
               ],
               [
                0.7777777777777778,
                "#fb9f3a"
               ],
               [
                0.8888888888888888,
                "#fdca26"
               ],
               [
                1,
                "#f0f921"
               ]
              ],
              "type": "histogram2d"
             }
            ],
            "histogram2dcontour": [
             {
              "colorbar": {
               "outlinewidth": 0,
               "ticks": ""
              },
              "colorscale": [
               [
                0,
                "#0d0887"
               ],
               [
                0.1111111111111111,
                "#46039f"
               ],
               [
                0.2222222222222222,
                "#7201a8"
               ],
               [
                0.3333333333333333,
                "#9c179e"
               ],
               [
                0.4444444444444444,
                "#bd3786"
               ],
               [
                0.5555555555555556,
                "#d8576b"
               ],
               [
                0.6666666666666666,
                "#ed7953"
               ],
               [
                0.7777777777777778,
                "#fb9f3a"
               ],
               [
                0.8888888888888888,
                "#fdca26"
               ],
               [
                1,
                "#f0f921"
               ]
              ],
              "type": "histogram2dcontour"
             }
            ],
            "mesh3d": [
             {
              "colorbar": {
               "outlinewidth": 0,
               "ticks": ""
              },
              "type": "mesh3d"
             }
            ],
            "parcoords": [
             {
              "line": {
               "colorbar": {
                "outlinewidth": 0,
                "ticks": ""
               }
              },
              "type": "parcoords"
             }
            ],
            "pie": [
             {
              "automargin": true,
              "type": "pie"
             }
            ],
            "scatter": [
             {
              "fillpattern": {
               "fillmode": "overlay",
               "size": 10,
               "solidity": 0.2
              },
              "type": "scatter"
             }
            ],
            "scatter3d": [
             {
              "line": {
               "colorbar": {
                "outlinewidth": 0,
                "ticks": ""
               }
              },
              "marker": {
               "colorbar": {
                "outlinewidth": 0,
                "ticks": ""
               }
              },
              "type": "scatter3d"
             }
            ],
            "scattercarpet": [
             {
              "marker": {
               "colorbar": {
                "outlinewidth": 0,
                "ticks": ""
               }
              },
              "type": "scattercarpet"
             }
            ],
            "scattergeo": [
             {
              "marker": {
               "colorbar": {
                "outlinewidth": 0,
                "ticks": ""
               }
              },
              "type": "scattergeo"
             }
            ],
            "scattergl": [
             {
              "marker": {
               "colorbar": {
                "outlinewidth": 0,
                "ticks": ""
               }
              },
              "type": "scattergl"
             }
            ],
            "scattermapbox": [
             {
              "marker": {
               "colorbar": {
                "outlinewidth": 0,
                "ticks": ""
               }
              },
              "type": "scattermapbox"
             }
            ],
            "scatterpolar": [
             {
              "marker": {
               "colorbar": {
                "outlinewidth": 0,
                "ticks": ""
               }
              },
              "type": "scatterpolar"
             }
            ],
            "scatterpolargl": [
             {
              "marker": {
               "colorbar": {
                "outlinewidth": 0,
                "ticks": ""
               }
              },
              "type": "scatterpolargl"
             }
            ],
            "scatterternary": [
             {
              "marker": {
               "colorbar": {
                "outlinewidth": 0,
                "ticks": ""
               }
              },
              "type": "scatterternary"
             }
            ],
            "surface": [
             {
              "colorbar": {
               "outlinewidth": 0,
               "ticks": ""
              },
              "colorscale": [
               [
                0,
                "#0d0887"
               ],
               [
                0.1111111111111111,
                "#46039f"
               ],
               [
                0.2222222222222222,
                "#7201a8"
               ],
               [
                0.3333333333333333,
                "#9c179e"
               ],
               [
                0.4444444444444444,
                "#bd3786"
               ],
               [
                0.5555555555555556,
                "#d8576b"
               ],
               [
                0.6666666666666666,
                "#ed7953"
               ],
               [
                0.7777777777777778,
                "#fb9f3a"
               ],
               [
                0.8888888888888888,
                "#fdca26"
               ],
               [
                1,
                "#f0f921"
               ]
              ],
              "type": "surface"
             }
            ],
            "table": [
             {
              "cells": {
               "fill": {
                "color": "#EBF0F8"
               },
               "line": {
                "color": "white"
               }
              },
              "header": {
               "fill": {
                "color": "#C8D4E3"
               },
               "line": {
                "color": "white"
               }
              },
              "type": "table"
             }
            ]
           },
           "layout": {
            "annotationdefaults": {
             "arrowcolor": "#2a3f5f",
             "arrowhead": 0,
             "arrowwidth": 1
            },
            "autotypenumbers": "strict",
            "coloraxis": {
             "colorbar": {
              "outlinewidth": 0,
              "ticks": ""
             }
            },
            "colorscale": {
             "diverging": [
              [
               0,
               "#8e0152"
              ],
              [
               0.1,
               "#c51b7d"
              ],
              [
               0.2,
               "#de77ae"
              ],
              [
               0.3,
               "#f1b6da"
              ],
              [
               0.4,
               "#fde0ef"
              ],
              [
               0.5,
               "#f7f7f7"
              ],
              [
               0.6,
               "#e6f5d0"
              ],
              [
               0.7,
               "#b8e186"
              ],
              [
               0.8,
               "#7fbc41"
              ],
              [
               0.9,
               "#4d9221"
              ],
              [
               1,
               "#276419"
              ]
             ],
             "sequential": [
              [
               0,
               "#0d0887"
              ],
              [
               0.1111111111111111,
               "#46039f"
              ],
              [
               0.2222222222222222,
               "#7201a8"
              ],
              [
               0.3333333333333333,
               "#9c179e"
              ],
              [
               0.4444444444444444,
               "#bd3786"
              ],
              [
               0.5555555555555556,
               "#d8576b"
              ],
              [
               0.6666666666666666,
               "#ed7953"
              ],
              [
               0.7777777777777778,
               "#fb9f3a"
              ],
              [
               0.8888888888888888,
               "#fdca26"
              ],
              [
               1,
               "#f0f921"
              ]
             ],
             "sequentialminus": [
              [
               0,
               "#0d0887"
              ],
              [
               0.1111111111111111,
               "#46039f"
              ],
              [
               0.2222222222222222,
               "#7201a8"
              ],
              [
               0.3333333333333333,
               "#9c179e"
              ],
              [
               0.4444444444444444,
               "#bd3786"
              ],
              [
               0.5555555555555556,
               "#d8576b"
              ],
              [
               0.6666666666666666,
               "#ed7953"
              ],
              [
               0.7777777777777778,
               "#fb9f3a"
              ],
              [
               0.8888888888888888,
               "#fdca26"
              ],
              [
               1,
               "#f0f921"
              ]
             ]
            },
            "colorway": [
             "#636efa",
             "#EF553B",
             "#00cc96",
             "#ab63fa",
             "#FFA15A",
             "#19d3f3",
             "#FF6692",
             "#B6E880",
             "#FF97FF",
             "#FECB52"
            ],
            "font": {
             "color": "#2a3f5f"
            },
            "geo": {
             "bgcolor": "white",
             "lakecolor": "white",
             "landcolor": "white",
             "showlakes": true,
             "showland": true,
             "subunitcolor": "#C8D4E3"
            },
            "hoverlabel": {
             "align": "left"
            },
            "hovermode": "closest",
            "mapbox": {
             "style": "light"
            },
            "paper_bgcolor": "white",
            "plot_bgcolor": "white",
            "polar": {
             "angularaxis": {
              "gridcolor": "#EBF0F8",
              "linecolor": "#EBF0F8",
              "ticks": ""
             },
             "bgcolor": "white",
             "radialaxis": {
              "gridcolor": "#EBF0F8",
              "linecolor": "#EBF0F8",
              "ticks": ""
             }
            },
            "scene": {
             "xaxis": {
              "backgroundcolor": "white",
              "gridcolor": "#DFE8F3",
              "gridwidth": 2,
              "linecolor": "#EBF0F8",
              "showbackground": true,
              "ticks": "",
              "zerolinecolor": "#EBF0F8"
             },
             "yaxis": {
              "backgroundcolor": "white",
              "gridcolor": "#DFE8F3",
              "gridwidth": 2,
              "linecolor": "#EBF0F8",
              "showbackground": true,
              "ticks": "",
              "zerolinecolor": "#EBF0F8"
             },
             "zaxis": {
              "backgroundcolor": "white",
              "gridcolor": "#DFE8F3",
              "gridwidth": 2,
              "linecolor": "#EBF0F8",
              "showbackground": true,
              "ticks": "",
              "zerolinecolor": "#EBF0F8"
             }
            },
            "shapedefaults": {
             "line": {
              "color": "#2a3f5f"
             }
            },
            "ternary": {
             "aaxis": {
              "gridcolor": "#DFE8F3",
              "linecolor": "#A2B1C6",
              "ticks": ""
             },
             "baxis": {
              "gridcolor": "#DFE8F3",
              "linecolor": "#A2B1C6",
              "ticks": ""
             },
             "bgcolor": "white",
             "caxis": {
              "gridcolor": "#DFE8F3",
              "linecolor": "#A2B1C6",
              "ticks": ""
             }
            },
            "title": {
             "x": 0.05
            },
            "xaxis": {
             "automargin": true,
             "gridcolor": "#EBF0F8",
             "linecolor": "#EBF0F8",
             "ticks": "",
             "title": {
              "standoff": 15
             },
             "zerolinecolor": "#EBF0F8",
             "zerolinewidth": 2
            },
            "yaxis": {
             "automargin": true,
             "gridcolor": "#EBF0F8",
             "linecolor": "#EBF0F8",
             "ticks": "",
             "title": {
              "standoff": 15
             },
             "zerolinecolor": "#EBF0F8",
             "zerolinewidth": 2
            }
           }
          },
          "xaxis": {
           "automargin": false,
           "linecolor": "#444",
           "linewidth": 2,
           "minor": {
            "tickmode": "linear",
            "ticks": "outside"
           },
           "mirror": true,
           "showline": true,
           "tickmode": "linear",
           "ticks": "outside",
           "zeroline": false
          },
          "yaxis": {
           "automargin": false,
           "linecolor": "#444",
           "linewidth": 2,
           "minor": {
            "ticks": "outside"
           },
           "mirror": true,
           "showline": true,
           "ticks": "outside",
           "zeroline": false
          }
         }
        },
        "xaxis": {
         "dtick": 5,
         "minor": {
          "dtick": 1,
          "tick0": 0
         },
         "range": [
          0,
          30
         ],
         "tick0": 0,
         "title": {
          "text": "CR"
         }
        },
        "yaxis": {
         "dtick": 2,
         "minor": {
          "dtick": 1,
          "tick0": 0
         },
         "range": [
          -6,
          6
         ],
         "tick0": 0,
         "title": {
          "text": "calculated CR delta"
         }
        }
       }
      }
     },
     "metadata": {},
     "output_type": "display_data"
    }
   ],
   "source": [
    "# DMG CR deltas\n",
    "xCol = 'CR'\n",
    "yCols = ['eCR Delta','C-CR DMG Delta']\n",
    "aCols = [xCol] + yCols\n",
    "colors = ['rgba(0,0,250,1)','rgba(250,0,0,1)']\n",
    "fillcolors = ['rgba(0,0,250,0.3)','rgba(250,0,0,0.3)']\n",
    "\n",
    "conf = 0.6\n",
    "df1 = df0[df0[xCol].between(0,30) & df0['Category'].isin(['generic','legendary','unique'])]\n",
    "dfM = df1[aCols].groupby(xCol).mean().reset_index()\n",
    "dfU = df1[aCols].groupby(xCol).quantile(0.5 + conf/2).reset_index()\n",
    "dfL = df1[aCols].groupby(xCol).quantile(0.5 - conf/2).reset_index()\n",
    "\n",
    "# create figure\n",
    "fig = go.Figure(\n",
    "    layout=go.Layout(\n",
    "        template=TFB_TEMPLATE,\n",
    "        margin=dict(l=70, r=25, b=55, t=20, pad=4),\n",
    "        xaxis=dict(\n",
    "            title_text='CR',\n",
    "            range=[0,30],\n",
    "            tick0=0, dtick=5,\n",
    "            minor=dict(tick0=0, dtick=1),\n",
    "        ),\n",
    "        yaxis=dict(\n",
    "            title_text='calculated CR delta',\n",
    "            range=[-6,6],\n",
    "            tick0=0, dtick=2,\n",
    "            minor=dict(tick0=0, dtick=1),\n",
    "        ),\n",
    "        legend=dict(\n",
    "            xanchor='left', yanchor='bottom',\n",
    "            x=0.00, y=0.00,\n",
    "            orientation='v',\n",
    "            tracegroupgap=0,\n",
    "            bgcolor='rgba(0,0,0,0)',\n",
    "        )\n",
    "    )\n",
    ")\n",
    "\n",
    "for yCol, color, fillcolor in zip(yCols, colors, fillcolors):\n",
    "    fig.add_trace(go.Scatter(\n",
    "        x=dfM[xCol], y=dfM[yCol],\n",
    "        mode='lines', \n",
    "        name=f'{yCol} - mean',\n",
    "        line=dict(color=color),\n",
    "        hovertemplate='<b>mean</b><br>' + 'CR %{x:,.0f}<br>' + 'CR delta %{y:,.1f}<br>' + '<extra></extra>'\n",
    "    ))\n",
    "\n",
    "    fig.add_trace(go.Scatter(x=dfG[xCol], y=dfU[yCol], line_width=0, legendgroup=f'{yCol} confidence', showlegend=False, hoverinfo='skip'))\n",
    "    fig.add_trace(go.Scatter(x=dfG[xCol], y=dfL[yCol], line_width=0, name=f'{yCol} - {conf:.0%} confidence', legendgroup=f'{yCol} confidence', hoverinfo='skip', fill='tonexty', fillcolor=fillcolor))\n",
    "\n",
    "# show figure\n",
    "fig.show(config=TFB_CONFIG)\n",
    "\n",
    "# save large format figure\n",
    "if SAVEFIGS:\n",
    "    file_name = f'./fig-ecr-dmg-cr-delta-vs-cr-large.html'\n",
    "    fig_html = fig.to_html(\n",
    "        config=TFB_CONFIG,\n",
    "        include_plotlyjs=False, \n",
    "        full_html=False, \n",
    "    )\n",
    "    fig_soup = BeautifulSoup(fig_html, 'html.parser')\n",
    "    fig_soup.div['class'] = 'plotly-div-large'\n",
    "    with open(file_name, 'wb') as fout:\n",
    "        fout.write(fig_soup.prettify('utf-8'))\n",
    "\n",
    "# save small format figure\n",
    "if SAVEFIGS:\n",
    "    fig.update_traces(marker=dict(size=4))\n",
    "    fig.update_layout(font=dict(size=10))\n",
    "    file_name = f'./fig-ecr-dmg-cr-delta-vs-cr-small.html'\n",
    "    fig_html = fig.to_html(\n",
    "        config=TFB_CONFIG,\n",
    "        include_plotlyjs=False, \n",
    "        full_html=False, \n",
    "    )\n",
    "    fig_soup = BeautifulSoup(fig_html, 'html.parser')\n",
    "    fig_soup.div['class'] = 'plotly-div-small'\n",
    "    with open(file_name, 'wb') as fout:\n",
    "        fout.write(fig_soup.prettify('utf-8'))"
   ]
  },
  {
   "cell_type": "code",
   "execution_count": 130,
   "metadata": {},
   "outputs": [
    {
     "data": {
      "application/vnd.plotly.v1+json": {
       "config": {
        "autosizable": true,
        "displayModeBar": "hover",
        "displaylogo": false,
        "modeBarButtonsToRemove": [
         "select2d",
         "lasso2d",
         "zoom2d",
         "zoomIn2d",
         "zoomOut2d",
         "pan2d",
         "autoScale2d",
         "hoverClosestCartesian",
         "hoverCompareCartesian",
         "toggleSpikelines",
         "resetScale2d"
        ],
        "plotlyServerURL": "https://plot.ly",
        "responsive": true,
        "showAxisDragHandles": false,
        "toImageButtonOptions": {
         "filename": "tfb-plot",
         "format": "png",
         "height": 450,
         "scale": 2,
         "width": 600
        }
       },
       "data": [
        {
         "hovertemplate": "<b>CR 6</b><br>eDPR %{x:,.0f}<br>eHP %{y:,.0f}<br><extra></extra>",
         "legendgroup": "CR = 6",
         "marker": {
          "color": "#1f77b4"
         },
         "mode": "markers",
         "name": "CR = 6",
         "type": "scatter",
         "x": [
          34.72972568497837,
          57.98623842045496,
          50.60617171239706,
          61.67627177448391,
          57.98623842045496,
          57.98623842045496,
          51.90853642558375,
          69.58348610454595,
          37.70655931511938,
          34.41963884850534,
          55.52621759016265,
          39.443044110951476,
          37.21042037676254,
          56.22907827471418,
          41.67567082197405,
          44.77653918670426,
          47.29858011305534,
          39.691115068546715,
          61.14912415247977,
          49.20044612611302,
          32.74516993155104,
          64.83915750650873,
          48.84901156665627,
          39.36035437058183,
          33.737447808264704,
          64.49806198638841,
          58.91649892987403,
          34.60569095038916,
          49.02472884638465,
          48.62161595896972,
          23.194495368181986,
          50.60617171239706,
          58.91649892987403,
          41.24154925091182,
          19.845557534273357,
          35.84603829628124,
          97.49130436395149,
          70.12096730835819,
          10.915056643850345,
          62.554849738763814,
          97.24323191793944,
          46.30629925950804,
          26.047294263733775,
          35.349899357924414,
          43.22610500433915,
          72.39493727711402,
          46.8851296747208,
          61.955349927309626,
          35.72200356169204,
          60.62197653047564,
          65.11823565933445,
          46.38899073636397,
          46.38899073636397,
          46.38899073636397,
          46.38899073636397,
          73.80066708057903,
          44.652504452115046,
          48.84901156665627,
          64.16730004807617,
          25.799224794555364,
          20.837834666778615,
          45.3346954923557,
          61.14912415247977,
          34.440312709997215,
          62.51350623296106,
          23.814669041128028,
          42.66794869868772,
          57.63480807817919,
          66.48261773981574,
          50.60617171239706,
          47.62933957067287
         ],
         "y": [
          233.56694636490946,
          154.08930489351667,
          163.15338165195882,
          145.0252281350745,
          145.0252281350745,
          154.08930489351667,
          154.5663615650136,
          102.1855390346479,
          167.8762426997787,
          167.54230302973082,
          210.8590488016544,
          170.30923172441317,
          216.39290619101905,
          163.15338165195882,
          194.6391219707579,
          197.5014619997396,
          125.9429612751963,
          148.1260964998047,
          181.28153516884313,
          165.72948767804237,
          235.6659957194961,
          150.272851521541,
          165.30013667369514,
          171.74040173890404,
          217.53784220261178,
          160.2910416229771,
          145.97934147806842,
          206.80406709393026,
          159.13656447795447,
          188.91444191279444,
          285.0890668865807,
          201.55644370746376,
          154.5663615650136,
          223.26252226057525,
          253.03085856198527,
          207.6150634354751,
          200.93627003451772,
          130.2364713186689,
          169.30741271426956,
          170.30923172441314,
          81.14733982163216,
          168.9734730442217,
          194.6391219707579,
          243.29890246344738,
          207.6150634354751,
          141.68583143459583,
          203.94172706494854,
          150.272851521541,
          128.80530130417802,
          138.91890273991348,
          152.27648954182823,
          147.60133416115806,
          164.96619700364727,
          147.60133416115806,
          186.52915855530966,
          172.31286974470038,
          195.35470697800332,
          253.41250389918284,
          158.0011695997917,
          354.3195310542189,
          277.36074880832996,
          165.5863706765933,
          174.03027376208942,
          271.9223027532647,
          169.49823538286836,
          297.68336301410034,
          147.60133416115806,
          253.79414923638043,
          135.10244936793782,
          147.60133416115806,
          202.36744004900856
         ]
        },
        {
         "hovertemplate": "<b>CR 9</b><br>eDPR %{x:,.0f}<br>eHP %{y:,.0f}<br><extra></extra>",
         "legendgroup": "CR = 9",
         "marker": {
          "color": "#ff7f0e"
         },
         "mode": "markers",
         "name": "CR = 9",
         "type": "scatter",
         "x": [
          69.12869364882549,
          55.381508994081585,
          59.30927401829989,
          88.06466155833802,
          63.671162101997226,
          78.55532876428542,
          67.16480878005639,
          35.722003561692034,
          57.304047380214314,
          61.624592454247846,
          66.23454827063733,
          51.350380119932304,
          56.37378687079525,
          53.417627102146106,
          53.58300534253806,
          72.93242393845458,
          88.37474839481104,
          69.45945136995675,
          73.05645867304379,
          51.30903661412956,
          54.20317901548411,
          58.91649892987403,
          63.629818844263944,
          64.4670533027411,
          51.84651905828915,
          61.27315888706899,
          42.17180976033088,
          51.84651905828915,
          77.37699878568793,
          77.76977858743372,
          85.58396388972021,
          55.381508994081585,
          112.18941743593905,
          81.49082062510996,
          49.11775489732655,
          80.20912506009522,
          48.49758122438051,
          77.02557017989845,
          34.977795898365194,
          54.57528321925173,
          81.49082062510996,
          52.921488411858746,
          56.55983897267907,
          75.16505213789397,
          55.877647932438414,
          80.37450801380709,
          111.75529586487683,
          108.06526251084787,
          93.7702593494416
         ],
         "y": [
          284.6120102150837,
          331.74520935898295,
          336.61118740825185,
          206.08848208668482,
          329.1691033328994,
          304.5529790836565,
          295.4889023252143,
          463.6990846950408,
          324.39853661792984,
          230.1321383301314,
          209.04623344996594,
          406.4522841154062,
          356.5998619439743,
          245.44565748518366,
          279.17356416001843,
          325.59117829667224,
          255.46384758661972,
          268.67831738708543,
          288.52387492135875,
          247.3538841711715,
          494.3261230051454,
          347.77431352128065,
          313.61705584209864,
          273.7923649055328,
          349.87336287586726,
          291.95868295613684,
          200.93627003451772,
          369.6712147429909,
          303.64657140781225,
          214.81861917507914,
          324.58935928652863,
          338.71023676283846,
          198.45557534273354,
          307.4153191126382,
          212.0993961475465,
          336.61118740825185,
          471.8567537776388,
          197.07211099539236,
          360.75025498599786,
          335.7524853995574,
          223.83499026637156,
          486.59780492689475,
          329.1691033328994,
          305.5547980938001,
          255.60696458806885,
          238.14669041128028,
          184.71634320362122,
          181.6631805060407,
          209.90493545866047
         ]
        },
        {
         "hovertemplate": "<b>CR 12</b><br>eDPR %{x:,.0f}<br>eHP %{y:,.0f}<br><extra></extra>",
         "legendgroup": "CR = 12",
         "marker": {
          "color": "#2ca02c"
         },
         "mode": "markers",
         "name": "CR = 12",
         "type": "scatter",
         "x": [
          80.37450801380709,
          86.01808843761607,
          116.38592926380022,
          166.61998933034556,
          85.99741928944414,
          136.29349771556198,
          91.90973833060347,
          144.34542237819136,
          139.8284876513544,
          130.2364713186689,
          119.69351887858618,
          99.96166299323286,
          130.59824243676738,
          127.45602287608087,
          null,
          73.67663234598983,
          79.44424750438803,
          95.44472826639591,
          95.50674563369053,
          127.75577662688472,
          120.77882280624175,
          117.33685892139121,
          75.66118809941717,
          55.07142066919174,
          74.42084075352508,
          99.22778767136678,
          70.69979871584883,
          83.10327217476967
         ],
         "y": [
          527.767795677082,
          409.31462414438795,
          434.12157106222963,
          734.6672741053117,
          427.9198343327692,
          272.87641609625865,
          440.80036446318695,
          271.67423328408626,
          382.93339021060626,
          288.8768968582665,
          300.545703043082,
          503.0562600935398,
          560.4461776746235,
          272.49477075906105,
          93.88475295060087,
          438.0525180353646,
          470.22521996111925,
          377.82888382558883,
          360.65484365169846,
          311.7088291561108,
          533.253947399297,
          340.73295704998566,
          593.4584993422129,
          649.6080695774044,
          413.3028179181025,
          299.6679187675277,
          539.9804464674041,
          428.36826760397634
         ]
        },
        {
         "hovertemplate": "<b>CR 15</b><br>eDPR %{x:,.0f}<br>eHP %{y:,.0f}<br><extra></extra>",
         "legendgroup": "CR = 15",
         "marker": {
          "color": "#d62728"
         },
         "mode": "markers",
         "name": "CR = 15",
         "type": "scatter",
         "x": [
          63.629818844263944,
          167.36419823401974,
          108.53039276555741,
          213.27772612614396,
          144.12836556177177,
          150.64018168562112,
          119.81755361317538,
          148.84168150705017,
          115.14558191790813,
          151.32237619883435,
          184.99780663980445,
          103.53799469834176,
          115.76575559085417,
          133.95751335634515,
          116.99576687424344,
          113.11967794535812,
          190.88945653279183,
          153.96845446450405,
          147.80806235715897,
          73.44923376146966,
          55.381508994081585
         ],
         "y": [
          586.06412093401,
          652.8043492764341,
          559.0150076601326,
          429.35100434726013,
          708.4291571729791,
          623.4176583122215,
          486.8840389297929,
          364.9483536951711,
          599.2785907344756,
          385.22326223379173,
          305.411681092351,
          475.8640298182133,
          412.1769641733697,
          448.6717995428868,
          691.2551169990887,
          494.6123570080436,
          458.82356551234204,
          739.809945024049,
          438.79672644289974,
          666.2096417454986,
          736.3369724555511
         ]
        },
        {
         "hoverinfo": "skip",
         "legendgroup": "CR = 6",
         "line": {
          "color": "#1f77b4",
          "dash": "dash"
         },
         "mode": "lines",
         "name": "CR = 6",
         "showlegend": false,
         "type": "scatter",
         "x": [
          9.823550979465312,
          14.410937668430476,
          18.99832435739564,
          23.585711046360807,
          28.173097735325968,
          32.760484424291135,
          37.347871113256296,
          41.93525780222146,
          46.522644491186625,
          51.11003118015179,
          55.697417869116954,
          60.284804558082115,
          64.87219124704728,
          69.45957793601245,
          74.0469646249776,
          78.63435131394277,
          83.22173800290794,
          87.80912469187311,
          92.39651138083828,
          96.98389806980343,
          101.5712847587686,
          106.15867144773377,
          110.74605813669892,
          115.33344482566409,
          119.92083151462926,
          124.50821820359442,
          129.0956048925596,
          133.68299158152476,
          138.2703782704899,
          142.8577649594551,
          147.44515164842025,
          152.03253833738543,
          156.6199250263506,
          161.20731171531574,
          165.79469840428092,
          170.38208509324608,
          174.96947178221126,
          179.5568584711764,
          184.14424516014157,
          188.73163184910675,
          193.3190185380719,
          197.90640522703706,
          202.49379191600224,
          207.0811786049674,
          211.66856529393255,
          216.25595198289773,
          220.84333867186288,
          225.43072536082806,
          230.01811204979322,
          234.60549873875837
         ],
         "y": [
          944.6724998869572,
          643.9579904552575,
          488.46615559155583,
          393.46019474661296,
          329.3936133229082,
          283.26926859047086,
          248.47570115568368,
          221.2944178215322,
          199.47358029693473,
          181.5698063033524,
          166.61523669455508,
          153.9366102215277,
          143.05110222341767,
          133.6034386803706,
          125.32638587602698,
          118.01506983237498,
          111.50978919971845,
          105.68421555393715,
          100.43710874849124,
          95.68638347428792,
          91.36478369431397,
          87.4166785904758,
          83.79565483119667,
          80.46268344421688,
          77.38470743013804,
          74.53354160416825,
          71.88500700129812,
          69.41824350092553,
          67.11515928150922,
          64.95998634846526,
          62.93891903388259,
          61.03981794308083,
          59.251965929476334,
          57.56586573397216,
          55.97307121913885,
          54.466045866616305,
          53.03804353418607,
          51.68300749162501,
          50.3954845478231,
          49.170551701465534,
          48.00375323502312,
          46.89104655755057,
          45.82875540889656,
          44.813529283804534,
          43.84230813230005,
          42.91229155289266,
          42.020911825314705,
          41.16581023587039,
          40.344816235730015,
          39.55592904440879
         ]
        },
        {
         "hoverinfo": "skip",
         "legendgroup": "CR = 9",
         "line": {
          "color": "#ff7f0e",
          "dash": "dash"
         },
         "mode": "lines",
         "name": "CR = 9",
         "showlegend": false,
         "type": "scatter",
         "x": [
          9.823550979465312,
          14.410937668430476,
          18.99832435739564,
          23.585711046360807,
          28.173097735325968,
          32.760484424291135,
          37.347871113256296,
          41.93525780222146,
          46.522644491186625,
          51.11003118015179,
          55.697417869116954,
          60.284804558082115,
          64.87219124704728,
          69.45957793601245,
          74.0469646249776,
          78.63435131394277,
          83.22173800290794,
          87.80912469187311,
          92.39651138083828,
          96.98389806980343,
          101.5712847587686,
          106.15867144773377,
          110.74605813669892,
          115.33344482566409,
          119.92083151462926,
          124.50821820359442,
          129.0956048925596,
          133.68299158152476,
          138.2703782704899,
          142.8577649594551,
          147.44515164842025,
          152.03253833738543,
          156.6199250263506,
          161.20731171531574,
          165.79469840428092,
          170.38208509324608,
          174.96947178221126,
          179.5568584711764,
          184.14424516014157,
          188.73163184910675,
          193.3190185380719,
          197.90640522703706,
          202.49379191600224,
          207.0811786049674,
          211.66856529393255,
          216.25595198289773,
          220.84333867186288,
          225.43072536082806,
          230.01811204979322,
          234.60549873875837
         ],
         "y": [
          1937.267510865199,
          1320.5834756704517,
          1001.7118244661326,
          806.8803232787228,
          675.4971119126727,
          580.9085698297923,
          509.55638398064735,
          453.8149316644483,
          409.06630227031496,
          372.35050956565726,
          341.6827365061452,
          315.6823065671658,
          293.3590771024304,
          273.9844772937974,
          257.0104831471599,
          242.0169536067854,
          228.67638444634713,
          216.72971027357812,
          205.96931496044428,
          196.22686376401208,
          187.36443276310166,
          179.2679382128083,
          171.84219893727965,
          165.00717708217968,
          158.6950816924961,
          152.84811258584656,
          147.4166852518694,
          142.35802123144774,
          137.6350190972738,
          133.21534296191288,
          129.07068113860257,
          125.17613901580428,
          121.5097386277276,
          118.05200366751168,
          114.78561339422639,
          111.6951124493577,
          108.76666632185018,
          105.9878542979805,
          103.34749335932776,
          100.83548776318295,
          98.4427000393562,
          96.1608399284201,
          93.98236841621525,
          91.90041452366762,
          89.90870291684105,
          88.00149073053572,
          86.1735122657373,
          84.41993043931821,
          82.73629404334231,
          81.11850001878123
         ]
        },
        {
         "hoverinfo": "skip",
         "legendgroup": "CR = 12",
         "line": {
          "color": "#2ca02c",
          "dash": "dash"
         },
         "mode": "lines",
         "name": "CR = 12",
         "showlegend": false,
         "type": "scatter",
         "x": [
          9.823550979465312,
          14.410937668430476,
          18.99832435739564,
          23.585711046360807,
          28.173097735325968,
          32.760484424291135,
          37.347871113256296,
          41.93525780222146,
          46.522644491186625,
          51.11003118015179,
          55.697417869116954,
          60.284804558082115,
          64.87219124704728,
          69.45957793601245,
          74.0469646249776,
          78.63435131394277,
          83.22173800290794,
          87.80912469187311,
          92.39651138083828,
          96.98389806980343,
          101.5712847587686,
          106.15867144773377,
          110.74605813669892,
          115.33344482566409,
          119.92083151462926,
          124.50821820359442,
          129.0956048925596,
          133.68299158152476,
          138.2703782704899,
          142.8577649594551,
          147.44515164842025,
          152.03253833738543,
          156.6199250263506,
          161.20731171531574,
          165.79469840428092,
          170.38208509324608,
          174.96947178221126,
          179.5568584711764,
          184.14424516014157,
          188.73163184910675,
          193.3190185380719,
          197.90640522703706,
          202.49379191600224,
          207.0811786049674,
          211.66856529393255,
          216.25595198289773,
          220.84333867186288,
          225.43072536082806,
          230.01811204979322,
          234.60549873875837
         ],
         "y": [
          3391.7509596262094,
          2312.0659618512736,
          1753.788272836182,
          1412.678990090463,
          1182.65441644211,
          1017.0496269228904,
          892.1268460121723,
          794.5352003958214,
          716.1896926957905,
          651.9080049882198,
          598.2151370075122,
          552.6938124090099,
          513.6104981355167,
          479.68961879141597,
          449.97169877641744,
          423.7211588166381,
          400.3646073862844,
          379.44847506972354,
          360.6092693717044,
          343.5522713013384,
          328.03600486762616,
          313.860733251007,
          300.85981408395816,
          288.8931177933938,
          277.8419565701047,
          267.60513436193867,
          258.09583904322983,
          249.2391744631126,
          240.97018376819983,
          233.23225357049958,
          225.97581601724676,
          219.15728584099534,
          212.73818421208338,
          206.6844121833522,
          200.96564475356072,
          195.55482281663438,
          190.42772503200715,
          185.56260532307675,
          180.93988455931634,
          176.5418872029753,
          172.35261545142114,
          168.3575547911906,
          164.5435059824439,
          160.89843937530696,
          157.4113681701869,
          154.0722378090821,
          150.87182915236176,
          147.80167347732865,
          144.853977648185,
          142.02155806518587
         ]
        },
        {
         "hoverinfo": "skip",
         "legendgroup": "CR = 15",
         "line": {
          "color": "#d62728",
          "dash": "dash"
         },
         "mode": "lines",
         "name": "CR = 15",
         "showlegend": false,
         "type": "scatter",
         "x": [
          9.823550979465312,
          14.410937668430476,
          18.99832435739564,
          23.585711046360807,
          28.173097735325968,
          32.760484424291135,
          37.347871113256296,
          41.93525780222146,
          46.522644491186625,
          51.11003118015179,
          55.697417869116954,
          60.284804558082115,
          64.87219124704728,
          69.45957793601245,
          74.0469646249776,
          78.63435131394277,
          83.22173800290794,
          87.80912469187311,
          92.39651138083828,
          96.98389806980343,
          101.5712847587686,
          106.15867144773377,
          110.74605813669892,
          115.33344482566409,
          119.92083151462926,
          124.50821820359442,
          129.0956048925596,
          133.68299158152476,
          138.2703782704899,
          142.8577649594551,
          147.44515164842025,
          152.03253833738543,
          156.6199250263506,
          161.20731171531574,
          165.79469840428092,
          170.38208509324608,
          174.96947178221126,
          179.5568584711764,
          184.14424516014157,
          188.73163184910675,
          193.3190185380719,
          197.90640522703706,
          202.49379191600224,
          207.0811786049674,
          211.66856529393255,
          216.25595198289773,
          220.84333867186288,
          225.43072536082806,
          230.01811204979322,
          234.60549873875837
         ],
         "y": [
          5168.8656668811955,
          3523.477552460025,
          2672.6891503381007,
          2152.8549758286827,
          1802.3085661945897,
          1549.934815584281,
          1359.5584934583508,
          1210.833509694689,
          1091.4387163488664,
          993.47650964326,
          911.6511559644483,
          842.2788421864095,
          782.7177471352417,
          731.0239551324631,
          685.7352714156681,
          645.73070847743,
          610.1364451538028,
          578.2612634255635,
          549.5512181766826,
          523.5571718108228,
          499.91112650794616,
          478.30869294191183,
          458.49591614303324,
          440.2592453677976,
          423.41780609168893,
          407.81738038838563,
          393.3256707451385,
          379.8285390228566,
          367.22699409474524,
          355.43475987480593,
          344.37629733455816,
          333.9851846183983,
          324.20278183680944,
          314.97712383098616,
          306.26199675456155,
          298.01616382864756,
          290.20271289278554,
          282.78850396999104,
          275.74369940509064,
          269.0413625269341,
          262.6571134521642,
          256.5688327589234,
          250.75640543922634,
          245.2014988840583,
          239.88736973817856,
          234.7986953377865,
          229.92142615658037,
          225.24265626764728,
          220.75050930608245,
          216.43403781066942
         ]
        }
       ],
       "layout": {
        "legend": {
         "orientation": "v",
         "tracegroupgap": 0,
         "x": 0,
         "xanchor": "left",
         "y": 0,
         "yanchor": "bottom"
        },
        "margin": {
         "b": 55,
         "l": 70,
         "pad": 4,
         "r": 25,
         "t": 20
        },
        "template": {
         "layout": {
          "autosize": true,
          "font": {
           "family": "sans-serif",
           "size": 14
          },
          "hoverlabel": {
           "align": "left"
          },
          "hovermode": "closest",
          "margin": {
           "b": 40,
           "l": 50,
           "pad": 4,
           "r": 25,
           "t": 20
          },
          "template": {
           "data": {
            "bar": [
             {
              "error_x": {
               "color": "#2a3f5f"
              },
              "error_y": {
               "color": "#2a3f5f"
              },
              "marker": {
               "line": {
                "color": "white",
                "width": 0.5
               },
               "pattern": {
                "fillmode": "overlay",
                "size": 10,
                "solidity": 0.2
               }
              },
              "type": "bar"
             }
            ],
            "barpolar": [
             {
              "marker": {
               "line": {
                "color": "white",
                "width": 0.5
               },
               "pattern": {
                "fillmode": "overlay",
                "size": 10,
                "solidity": 0.2
               }
              },
              "type": "barpolar"
             }
            ],
            "carpet": [
             {
              "aaxis": {
               "endlinecolor": "#2a3f5f",
               "gridcolor": "#C8D4E3",
               "linecolor": "#C8D4E3",
               "minorgridcolor": "#C8D4E3",
               "startlinecolor": "#2a3f5f"
              },
              "baxis": {
               "endlinecolor": "#2a3f5f",
               "gridcolor": "#C8D4E3",
               "linecolor": "#C8D4E3",
               "minorgridcolor": "#C8D4E3",
               "startlinecolor": "#2a3f5f"
              },
              "type": "carpet"
             }
            ],
            "choropleth": [
             {
              "colorbar": {
               "outlinewidth": 0,
               "ticks": ""
              },
              "type": "choropleth"
             }
            ],
            "contour": [
             {
              "colorbar": {
               "outlinewidth": 0,
               "ticks": ""
              },
              "colorscale": [
               [
                0,
                "#0d0887"
               ],
               [
                0.1111111111111111,
                "#46039f"
               ],
               [
                0.2222222222222222,
                "#7201a8"
               ],
               [
                0.3333333333333333,
                "#9c179e"
               ],
               [
                0.4444444444444444,
                "#bd3786"
               ],
               [
                0.5555555555555556,
                "#d8576b"
               ],
               [
                0.6666666666666666,
                "#ed7953"
               ],
               [
                0.7777777777777778,
                "#fb9f3a"
               ],
               [
                0.8888888888888888,
                "#fdca26"
               ],
               [
                1,
                "#f0f921"
               ]
              ],
              "type": "contour"
             }
            ],
            "contourcarpet": [
             {
              "colorbar": {
               "outlinewidth": 0,
               "ticks": ""
              },
              "type": "contourcarpet"
             }
            ],
            "heatmap": [
             {
              "colorbar": {
               "outlinewidth": 0,
               "ticks": ""
              },
              "colorscale": [
               [
                0,
                "#0d0887"
               ],
               [
                0.1111111111111111,
                "#46039f"
               ],
               [
                0.2222222222222222,
                "#7201a8"
               ],
               [
                0.3333333333333333,
                "#9c179e"
               ],
               [
                0.4444444444444444,
                "#bd3786"
               ],
               [
                0.5555555555555556,
                "#d8576b"
               ],
               [
                0.6666666666666666,
                "#ed7953"
               ],
               [
                0.7777777777777778,
                "#fb9f3a"
               ],
               [
                0.8888888888888888,
                "#fdca26"
               ],
               [
                1,
                "#f0f921"
               ]
              ],
              "type": "heatmap"
             }
            ],
            "heatmapgl": [
             {
              "colorbar": {
               "outlinewidth": 0,
               "ticks": ""
              },
              "colorscale": [
               [
                0,
                "#0d0887"
               ],
               [
                0.1111111111111111,
                "#46039f"
               ],
               [
                0.2222222222222222,
                "#7201a8"
               ],
               [
                0.3333333333333333,
                "#9c179e"
               ],
               [
                0.4444444444444444,
                "#bd3786"
               ],
               [
                0.5555555555555556,
                "#d8576b"
               ],
               [
                0.6666666666666666,
                "#ed7953"
               ],
               [
                0.7777777777777778,
                "#fb9f3a"
               ],
               [
                0.8888888888888888,
                "#fdca26"
               ],
               [
                1,
                "#f0f921"
               ]
              ],
              "type": "heatmapgl"
             }
            ],
            "histogram": [
             {
              "marker": {
               "pattern": {
                "fillmode": "overlay",
                "size": 10,
                "solidity": 0.2
               }
              },
              "type": "histogram"
             }
            ],
            "histogram2d": [
             {
              "colorbar": {
               "outlinewidth": 0,
               "ticks": ""
              },
              "colorscale": [
               [
                0,
                "#0d0887"
               ],
               [
                0.1111111111111111,
                "#46039f"
               ],
               [
                0.2222222222222222,
                "#7201a8"
               ],
               [
                0.3333333333333333,
                "#9c179e"
               ],
               [
                0.4444444444444444,
                "#bd3786"
               ],
               [
                0.5555555555555556,
                "#d8576b"
               ],
               [
                0.6666666666666666,
                "#ed7953"
               ],
               [
                0.7777777777777778,
                "#fb9f3a"
               ],
               [
                0.8888888888888888,
                "#fdca26"
               ],
               [
                1,
                "#f0f921"
               ]
              ],
              "type": "histogram2d"
             }
            ],
            "histogram2dcontour": [
             {
              "colorbar": {
               "outlinewidth": 0,
               "ticks": ""
              },
              "colorscale": [
               [
                0,
                "#0d0887"
               ],
               [
                0.1111111111111111,
                "#46039f"
               ],
               [
                0.2222222222222222,
                "#7201a8"
               ],
               [
                0.3333333333333333,
                "#9c179e"
               ],
               [
                0.4444444444444444,
                "#bd3786"
               ],
               [
                0.5555555555555556,
                "#d8576b"
               ],
               [
                0.6666666666666666,
                "#ed7953"
               ],
               [
                0.7777777777777778,
                "#fb9f3a"
               ],
               [
                0.8888888888888888,
                "#fdca26"
               ],
               [
                1,
                "#f0f921"
               ]
              ],
              "type": "histogram2dcontour"
             }
            ],
            "mesh3d": [
             {
              "colorbar": {
               "outlinewidth": 0,
               "ticks": ""
              },
              "type": "mesh3d"
             }
            ],
            "parcoords": [
             {
              "line": {
               "colorbar": {
                "outlinewidth": 0,
                "ticks": ""
               }
              },
              "type": "parcoords"
             }
            ],
            "pie": [
             {
              "automargin": true,
              "type": "pie"
             }
            ],
            "scatter": [
             {
              "fillpattern": {
               "fillmode": "overlay",
               "size": 10,
               "solidity": 0.2
              },
              "type": "scatter"
             }
            ],
            "scatter3d": [
             {
              "line": {
               "colorbar": {
                "outlinewidth": 0,
                "ticks": ""
               }
              },
              "marker": {
               "colorbar": {
                "outlinewidth": 0,
                "ticks": ""
               }
              },
              "type": "scatter3d"
             }
            ],
            "scattercarpet": [
             {
              "marker": {
               "colorbar": {
                "outlinewidth": 0,
                "ticks": ""
               }
              },
              "type": "scattercarpet"
             }
            ],
            "scattergeo": [
             {
              "marker": {
               "colorbar": {
                "outlinewidth": 0,
                "ticks": ""
               }
              },
              "type": "scattergeo"
             }
            ],
            "scattergl": [
             {
              "marker": {
               "colorbar": {
                "outlinewidth": 0,
                "ticks": ""
               }
              },
              "type": "scattergl"
             }
            ],
            "scattermapbox": [
             {
              "marker": {
               "colorbar": {
                "outlinewidth": 0,
                "ticks": ""
               }
              },
              "type": "scattermapbox"
             }
            ],
            "scatterpolar": [
             {
              "marker": {
               "colorbar": {
                "outlinewidth": 0,
                "ticks": ""
               }
              },
              "type": "scatterpolar"
             }
            ],
            "scatterpolargl": [
             {
              "marker": {
               "colorbar": {
                "outlinewidth": 0,
                "ticks": ""
               }
              },
              "type": "scatterpolargl"
             }
            ],
            "scatterternary": [
             {
              "marker": {
               "colorbar": {
                "outlinewidth": 0,
                "ticks": ""
               }
              },
              "type": "scatterternary"
             }
            ],
            "surface": [
             {
              "colorbar": {
               "outlinewidth": 0,
               "ticks": ""
              },
              "colorscale": [
               [
                0,
                "#0d0887"
               ],
               [
                0.1111111111111111,
                "#46039f"
               ],
               [
                0.2222222222222222,
                "#7201a8"
               ],
               [
                0.3333333333333333,
                "#9c179e"
               ],
               [
                0.4444444444444444,
                "#bd3786"
               ],
               [
                0.5555555555555556,
                "#d8576b"
               ],
               [
                0.6666666666666666,
                "#ed7953"
               ],
               [
                0.7777777777777778,
                "#fb9f3a"
               ],
               [
                0.8888888888888888,
                "#fdca26"
               ],
               [
                1,
                "#f0f921"
               ]
              ],
              "type": "surface"
             }
            ],
            "table": [
             {
              "cells": {
               "fill": {
                "color": "#EBF0F8"
               },
               "line": {
                "color": "white"
               }
              },
              "header": {
               "fill": {
                "color": "#C8D4E3"
               },
               "line": {
                "color": "white"
               }
              },
              "type": "table"
             }
            ]
           },
           "layout": {
            "annotationdefaults": {
             "arrowcolor": "#2a3f5f",
             "arrowhead": 0,
             "arrowwidth": 1
            },
            "autotypenumbers": "strict",
            "coloraxis": {
             "colorbar": {
              "outlinewidth": 0,
              "ticks": ""
             }
            },
            "colorscale": {
             "diverging": [
              [
               0,
               "#8e0152"
              ],
              [
               0.1,
               "#c51b7d"
              ],
              [
               0.2,
               "#de77ae"
              ],
              [
               0.3,
               "#f1b6da"
              ],
              [
               0.4,
               "#fde0ef"
              ],
              [
               0.5,
               "#f7f7f7"
              ],
              [
               0.6,
               "#e6f5d0"
              ],
              [
               0.7,
               "#b8e186"
              ],
              [
               0.8,
               "#7fbc41"
              ],
              [
               0.9,
               "#4d9221"
              ],
              [
               1,
               "#276419"
              ]
             ],
             "sequential": [
              [
               0,
               "#0d0887"
              ],
              [
               0.1111111111111111,
               "#46039f"
              ],
              [
               0.2222222222222222,
               "#7201a8"
              ],
              [
               0.3333333333333333,
               "#9c179e"
              ],
              [
               0.4444444444444444,
               "#bd3786"
              ],
              [
               0.5555555555555556,
               "#d8576b"
              ],
              [
               0.6666666666666666,
               "#ed7953"
              ],
              [
               0.7777777777777778,
               "#fb9f3a"
              ],
              [
               0.8888888888888888,
               "#fdca26"
              ],
              [
               1,
               "#f0f921"
              ]
             ],
             "sequentialminus": [
              [
               0,
               "#0d0887"
              ],
              [
               0.1111111111111111,
               "#46039f"
              ],
              [
               0.2222222222222222,
               "#7201a8"
              ],
              [
               0.3333333333333333,
               "#9c179e"
              ],
              [
               0.4444444444444444,
               "#bd3786"
              ],
              [
               0.5555555555555556,
               "#d8576b"
              ],
              [
               0.6666666666666666,
               "#ed7953"
              ],
              [
               0.7777777777777778,
               "#fb9f3a"
              ],
              [
               0.8888888888888888,
               "#fdca26"
              ],
              [
               1,
               "#f0f921"
              ]
             ]
            },
            "colorway": [
             "#636efa",
             "#EF553B",
             "#00cc96",
             "#ab63fa",
             "#FFA15A",
             "#19d3f3",
             "#FF6692",
             "#B6E880",
             "#FF97FF",
             "#FECB52"
            ],
            "font": {
             "color": "#2a3f5f"
            },
            "geo": {
             "bgcolor": "white",
             "lakecolor": "white",
             "landcolor": "white",
             "showlakes": true,
             "showland": true,
             "subunitcolor": "#C8D4E3"
            },
            "hoverlabel": {
             "align": "left"
            },
            "hovermode": "closest",
            "mapbox": {
             "style": "light"
            },
            "paper_bgcolor": "white",
            "plot_bgcolor": "white",
            "polar": {
             "angularaxis": {
              "gridcolor": "#EBF0F8",
              "linecolor": "#EBF0F8",
              "ticks": ""
             },
             "bgcolor": "white",
             "radialaxis": {
              "gridcolor": "#EBF0F8",
              "linecolor": "#EBF0F8",
              "ticks": ""
             }
            },
            "scene": {
             "xaxis": {
              "backgroundcolor": "white",
              "gridcolor": "#DFE8F3",
              "gridwidth": 2,
              "linecolor": "#EBF0F8",
              "showbackground": true,
              "ticks": "",
              "zerolinecolor": "#EBF0F8"
             },
             "yaxis": {
              "backgroundcolor": "white",
              "gridcolor": "#DFE8F3",
              "gridwidth": 2,
              "linecolor": "#EBF0F8",
              "showbackground": true,
              "ticks": "",
              "zerolinecolor": "#EBF0F8"
             },
             "zaxis": {
              "backgroundcolor": "white",
              "gridcolor": "#DFE8F3",
              "gridwidth": 2,
              "linecolor": "#EBF0F8",
              "showbackground": true,
              "ticks": "",
              "zerolinecolor": "#EBF0F8"
             }
            },
            "shapedefaults": {
             "line": {
              "color": "#2a3f5f"
             }
            },
            "ternary": {
             "aaxis": {
              "gridcolor": "#DFE8F3",
              "linecolor": "#A2B1C6",
              "ticks": ""
             },
             "baxis": {
              "gridcolor": "#DFE8F3",
              "linecolor": "#A2B1C6",
              "ticks": ""
             },
             "bgcolor": "white",
             "caxis": {
              "gridcolor": "#DFE8F3",
              "linecolor": "#A2B1C6",
              "ticks": ""
             }
            },
            "title": {
             "x": 0.05
            },
            "xaxis": {
             "automargin": true,
             "gridcolor": "#EBF0F8",
             "linecolor": "#EBF0F8",
             "ticks": "",
             "title": {
              "standoff": 15
             },
             "zerolinecolor": "#EBF0F8",
             "zerolinewidth": 2
            },
            "yaxis": {
             "automargin": true,
             "gridcolor": "#EBF0F8",
             "linecolor": "#EBF0F8",
             "ticks": "",
             "title": {
              "standoff": 15
             },
             "zerolinecolor": "#EBF0F8",
             "zerolinewidth": 2
            }
           }
          },
          "xaxis": {
           "automargin": false,
           "linecolor": "#444",
           "linewidth": 2,
           "minor": {
            "tickmode": "linear",
            "ticks": "outside"
           },
           "mirror": true,
           "showline": true,
           "tickmode": "linear",
           "ticks": "outside",
           "zeroline": false
          },
          "yaxis": {
           "automargin": false,
           "linecolor": "#444",
           "linewidth": 2,
           "minor": {
            "ticks": "outside"
           },
           "mirror": true,
           "showline": true,
           "ticks": "outside",
           "zeroline": false
          }
         }
        },
        "width": 600,
        "xaxis": {
         "title": {
          "text": "effective damage per round"
         },
         "type": "log"
        },
        "yaxis": {
         "title": {
          "text": "effective hit points"
         },
         "type": "log"
        }
       }
      }
     },
     "metadata": {},
     "output_type": "display_data"
    }
   ],
   "source": [
    "# eDPR vs eHP\n",
    "CRs = [6,9,12,15]\n",
    "cats = ['generic','legendary','unique']\n",
    "colors = ['#1f77b4', '#ff7f0e', '#2ca02c', '#d62728', '#9467bd', \n",
    "          '#8c564b', '#e377c2', '#7f7f7f', '#bcbd22', '#17becf']\n",
    "colors = colors[0:len(CRs)]\n",
    "\n",
    "mask = df0['CR'].isin(CRs) & df0['Category'].isin(cats)\n",
    "xMin = np.min(df0.loc[mask, 'eDPR'])\n",
    "xMax = np.max(df0.loc[mask, 'eDPR'])\n",
    "yMin = np.min(df0.loc[mask, 'eHP'])\n",
    "yMax = np.max(df0.loc[mask, 'eHP'])\n",
    "\n",
    "# create figure\n",
    "fig = go.Figure(\n",
    "    layout=go.Layout(\n",
    "        template=TFB_TEMPLATE,\n",
    "        width=600,\n",
    "        margin=dict(l=70, r=25, b=55, t=20, pad=4),\n",
    "        xaxis=dict(\n",
    "            title_text='effective damage per round',\n",
    "            type='log',\n",
    "            #range=np.log10([0.95*xMin,1.05*xMax]), \n",
    "            #tick0=1, dtick=0.1,\n",
    "            #minor=dict(tick0=0, dtick=0.1),\n",
    "        ),\n",
    "        yaxis=dict(\n",
    "            title_text='effective hit points',\n",
    "            type='log',\n",
    "            #range=np.log10([0.95*yMin,1.05*yMax]), \n",
    "            #tick0=0, dtick=1,\n",
    "            #minor=dict(tick0=0, dtick=0.1),\n",
    "        ),\n",
    "        legend=dict(\n",
    "            xanchor='left', yanchor='bottom',\n",
    "            x=0.00, y=0.00,\n",
    "            orientation='v',\n",
    "            tracegroupgap=0,\n",
    "        )\n",
    "    )\n",
    ")\n",
    "\n",
    "\n",
    "for cr, c in zip(CRs, colors):\n",
    "    df1 = df0[df0['CR'].isin([cr]) & df0['Category'].isin(cats)]\n",
    "    fig.add_trace(go.Scatter(\n",
    "        x=df1['eDPR'], y=df1['eHP'],\n",
    "        mode='markers', \n",
    "        name=f'CR = {cr:.0f}',\n",
    "        legendgroup=f'CR = {cr:.0f}',\n",
    "        marker_color=c,\n",
    "        hovertemplate=f'<b>CR {cr:.0f}</b><br>' + 'eDPR %{x:,.0f}<br>' + 'eHP %{y:,.0f}<br>' + '<extra></extra>',\n",
    "    ))\n",
    "\n",
    "x = np.linspace(0.9*xMin, 1.1*xMax, 50, endpoint=True)\n",
    "XP = dfD['XP'].values\n",
    "for cr, c in zip(CRs, colors):\n",
    "    fig.add_trace(go.Scatter(\n",
    "        x=x, y=4*dfD.loc[cr]['eXP Mean']/x,\n",
    "        mode='lines', \n",
    "        line=dict(color=c, dash='dash'),\n",
    "        showlegend=False,\n",
    "        name=f'CR = {cr:.0f}',\n",
    "        legendgroup=f'CR = {cr:.0f}',\n",
    "        hoverinfo='skip',\n",
    "    ))\n",
    "\n",
    "# show figure\n",
    "fig.show(config=TFB_CONFIG)"
   ]
  },
  {
   "cell_type": "code",
   "execution_count": 142,
   "metadata": {},
   "outputs": [
    {
     "data": {
      "application/vnd.plotly.v1+json": {
       "config": {
        "plotlyServerURL": "https://plot.ly"
       },
       "data": [
        {
         "hoverinfo": "skip",
         "line": {
          "color": "black",
          "dash": "dash"
         },
         "mode": "lines",
         "name": "DMG",
         "type": "scatter",
         "x": [
          1,
          30
         ],
         "y": [
          1,
          1
         ]
        },
        {
         "hovertemplate": "<b>mean</b><br>CR %{x:,.0f}<br>eHP Ratio %{y:,.1f}<br><extra></extra>",
         "line": {
          "color": "rgba(0,0,250,1)",
          "dash": "solid"
         },
         "mode": "lines",
         "name": "eHP Ratio - mean",
         "type": "scatter",
         "x": [
          1,
          2,
          3,
          4,
          5,
          6,
          7,
          8,
          9,
          10,
          11,
          12,
          13,
          14,
          15,
          16,
          17,
          18,
          19,
          20,
          21,
          22,
          23,
          24,
          25,
          26,
          27,
          28,
          30
         ],
         "y": [
          0.42307692307692313,
          0.5529953917050692,
          0.6737764550264551,
          0.6864498644986451,
          0.7314311594202898,
          0.7248774509803921,
          0.8796502976190477,
          0.8032786885245902,
          0.9090909090909091,
          0.9757433489827856,
          1.0185185185185184,
          0.9903520804755372,
          0.9902590779273766,
          1.0815500289184499,
          0.939967105263158,
          1.122624630884141,
          0.9912735849056602,
          1.0405405405405406,
          1.1119971264367816,
          1.0389219576719575,
          0.9929078014184397,
          1.1533653846153844,
          1.2007894736842104,
          1.271111111111111,
          1.1912935323383085,
          1.1936728395061726,
          1.177849927849928,
          1.1610772357723578,
          1.4317270531400965
         ]
        },
        {
         "hoverinfo": "skip",
         "legendgroup": "eHP Ratio confidence",
         "line": {
          "width": 0
         },
         "showlegend": false,
         "type": "scatter",
         "x": [
          1,
          2,
          3,
          4,
          5,
          6,
          7,
          8,
          9,
          10,
          11,
          12,
          13,
          14,
          15,
          16,
          17,
          18,
          19,
          20,
          21,
          22,
          23,
          24,
          25,
          26,
          27,
          28,
          30
         ],
         "y": [
          0.5392857142857144,
          0.6451612903225807,
          0.7956349206349207,
          0.9284552845528458,
          0.9765398550724637,
          0.8944444444444445,
          1.185267857142857,
          1.0545805207328833,
          1.048128342245989,
          1.2013719353155974,
          1.2171929824561407,
          1.2598994055784176,
          1.2717258261933906,
          1.2576055523423941,
          1.260635964912281,
          1.3288170922355396,
          1.1935849056603771,
          1.1743243243243244,
          1.1202586206896552,
          1.465,
          1.2482269503546097,
          1.260897435897436,
          1.3823684210526315,
          1.4198028673835124,
          1.4293200663349916,
          1.429888888888889,
          1.177849927849928,
          1.3482046070460707,
          1.6400289855072463
         ]
        },
        {
         "fill": "tonexty",
         "fillcolor": "rgba(0,0,250,0.2)",
         "hoverinfo": "skip",
         "legendgroup": "eHP Ratio confidence",
         "line": {
          "width": 0
         },
         "name": "eHP Ratio - 60% confidence",
         "type": "scatter",
         "x": [
          1,
          2,
          3,
          4,
          5,
          6,
          7,
          8,
          9,
          10,
          11,
          12,
          13,
          14,
          15,
          16,
          17,
          18,
          19,
          20,
          21,
          22,
          23,
          24,
          25,
          26,
          27,
          28,
          30
         ],
         "y": [
          0.30952380952380953,
          0.42434715821812596,
          0.5232142857142857,
          0.5363685636856369,
          0.573731884057971,
          0.6319444444444444,
          0.6806547619047618,
          0.6306010928961748,
          0.6688948306595366,
          0.6990088680229526,
          0.7962962962962963,
          0.7077183356195702,
          0.7788249694002448,
          0.7948332369384999,
          0.8332236842105263,
          0.8524405072086156,
          0.8369937106918237,
          0.8216216216216216,
          0.9892241379310347,
          0.876984126984127,
          0.8680851063829788,
          0.929094017094017,
          1.036569200779727,
          1.109094982078853,
          1.0092537313432834,
          1.161111111111111,
          1.177849927849928,
          1.1610772357723578,
          1.4076086956521738
         ]
        }
       ],
       "layout": {
        "legend": {
         "bgcolor": "rgba(0,0,0,0)",
         "orientation": "v",
         "tracegroupgap": 0,
         "x": 0,
         "xanchor": "left",
         "y": 1,
         "yanchor": "top"
        },
        "margin": {
         "b": 55,
         "l": 70,
         "pad": 4,
         "r": 25,
         "t": 20
        },
        "template": {
         "layout": {
          "autosize": true,
          "font": {
           "family": "sans-serif",
           "size": 14
          },
          "hoverlabel": {
           "align": "left"
          },
          "hovermode": "closest",
          "margin": {
           "b": 40,
           "l": 50,
           "pad": 4,
           "r": 25,
           "t": 20
          },
          "template": {
           "data": {
            "bar": [
             {
              "error_x": {
               "color": "#2a3f5f"
              },
              "error_y": {
               "color": "#2a3f5f"
              },
              "marker": {
               "line": {
                "color": "white",
                "width": 0.5
               },
               "pattern": {
                "fillmode": "overlay",
                "size": 10,
                "solidity": 0.2
               }
              },
              "type": "bar"
             }
            ],
            "barpolar": [
             {
              "marker": {
               "line": {
                "color": "white",
                "width": 0.5
               },
               "pattern": {
                "fillmode": "overlay",
                "size": 10,
                "solidity": 0.2
               }
              },
              "type": "barpolar"
             }
            ],
            "carpet": [
             {
              "aaxis": {
               "endlinecolor": "#2a3f5f",
               "gridcolor": "#C8D4E3",
               "linecolor": "#C8D4E3",
               "minorgridcolor": "#C8D4E3",
               "startlinecolor": "#2a3f5f"
              },
              "baxis": {
               "endlinecolor": "#2a3f5f",
               "gridcolor": "#C8D4E3",
               "linecolor": "#C8D4E3",
               "minorgridcolor": "#C8D4E3",
               "startlinecolor": "#2a3f5f"
              },
              "type": "carpet"
             }
            ],
            "choropleth": [
             {
              "colorbar": {
               "outlinewidth": 0,
               "ticks": ""
              },
              "type": "choropleth"
             }
            ],
            "contour": [
             {
              "colorbar": {
               "outlinewidth": 0,
               "ticks": ""
              },
              "colorscale": [
               [
                0,
                "#0d0887"
               ],
               [
                0.1111111111111111,
                "#46039f"
               ],
               [
                0.2222222222222222,
                "#7201a8"
               ],
               [
                0.3333333333333333,
                "#9c179e"
               ],
               [
                0.4444444444444444,
                "#bd3786"
               ],
               [
                0.5555555555555556,
                "#d8576b"
               ],
               [
                0.6666666666666666,
                "#ed7953"
               ],
               [
                0.7777777777777778,
                "#fb9f3a"
               ],
               [
                0.8888888888888888,
                "#fdca26"
               ],
               [
                1,
                "#f0f921"
               ]
              ],
              "type": "contour"
             }
            ],
            "contourcarpet": [
             {
              "colorbar": {
               "outlinewidth": 0,
               "ticks": ""
              },
              "type": "contourcarpet"
             }
            ],
            "heatmap": [
             {
              "colorbar": {
               "outlinewidth": 0,
               "ticks": ""
              },
              "colorscale": [
               [
                0,
                "#0d0887"
               ],
               [
                0.1111111111111111,
                "#46039f"
               ],
               [
                0.2222222222222222,
                "#7201a8"
               ],
               [
                0.3333333333333333,
                "#9c179e"
               ],
               [
                0.4444444444444444,
                "#bd3786"
               ],
               [
                0.5555555555555556,
                "#d8576b"
               ],
               [
                0.6666666666666666,
                "#ed7953"
               ],
               [
                0.7777777777777778,
                "#fb9f3a"
               ],
               [
                0.8888888888888888,
                "#fdca26"
               ],
               [
                1,
                "#f0f921"
               ]
              ],
              "type": "heatmap"
             }
            ],
            "heatmapgl": [
             {
              "colorbar": {
               "outlinewidth": 0,
               "ticks": ""
              },
              "colorscale": [
               [
                0,
                "#0d0887"
               ],
               [
                0.1111111111111111,
                "#46039f"
               ],
               [
                0.2222222222222222,
                "#7201a8"
               ],
               [
                0.3333333333333333,
                "#9c179e"
               ],
               [
                0.4444444444444444,
                "#bd3786"
               ],
               [
                0.5555555555555556,
                "#d8576b"
               ],
               [
                0.6666666666666666,
                "#ed7953"
               ],
               [
                0.7777777777777778,
                "#fb9f3a"
               ],
               [
                0.8888888888888888,
                "#fdca26"
               ],
               [
                1,
                "#f0f921"
               ]
              ],
              "type": "heatmapgl"
             }
            ],
            "histogram": [
             {
              "marker": {
               "pattern": {
                "fillmode": "overlay",
                "size": 10,
                "solidity": 0.2
               }
              },
              "type": "histogram"
             }
            ],
            "histogram2d": [
             {
              "colorbar": {
               "outlinewidth": 0,
               "ticks": ""
              },
              "colorscale": [
               [
                0,
                "#0d0887"
               ],
               [
                0.1111111111111111,
                "#46039f"
               ],
               [
                0.2222222222222222,
                "#7201a8"
               ],
               [
                0.3333333333333333,
                "#9c179e"
               ],
               [
                0.4444444444444444,
                "#bd3786"
               ],
               [
                0.5555555555555556,
                "#d8576b"
               ],
               [
                0.6666666666666666,
                "#ed7953"
               ],
               [
                0.7777777777777778,
                "#fb9f3a"
               ],
               [
                0.8888888888888888,
                "#fdca26"
               ],
               [
                1,
                "#f0f921"
               ]
              ],
              "type": "histogram2d"
             }
            ],
            "histogram2dcontour": [
             {
              "colorbar": {
               "outlinewidth": 0,
               "ticks": ""
              },
              "colorscale": [
               [
                0,
                "#0d0887"
               ],
               [
                0.1111111111111111,
                "#46039f"
               ],
               [
                0.2222222222222222,
                "#7201a8"
               ],
               [
                0.3333333333333333,
                "#9c179e"
               ],
               [
                0.4444444444444444,
                "#bd3786"
               ],
               [
                0.5555555555555556,
                "#d8576b"
               ],
               [
                0.6666666666666666,
                "#ed7953"
               ],
               [
                0.7777777777777778,
                "#fb9f3a"
               ],
               [
                0.8888888888888888,
                "#fdca26"
               ],
               [
                1,
                "#f0f921"
               ]
              ],
              "type": "histogram2dcontour"
             }
            ],
            "mesh3d": [
             {
              "colorbar": {
               "outlinewidth": 0,
               "ticks": ""
              },
              "type": "mesh3d"
             }
            ],
            "parcoords": [
             {
              "line": {
               "colorbar": {
                "outlinewidth": 0,
                "ticks": ""
               }
              },
              "type": "parcoords"
             }
            ],
            "pie": [
             {
              "automargin": true,
              "type": "pie"
             }
            ],
            "scatter": [
             {
              "fillpattern": {
               "fillmode": "overlay",
               "size": 10,
               "solidity": 0.2
              },
              "type": "scatter"
             }
            ],
            "scatter3d": [
             {
              "line": {
               "colorbar": {
                "outlinewidth": 0,
                "ticks": ""
               }
              },
              "marker": {
               "colorbar": {
                "outlinewidth": 0,
                "ticks": ""
               }
              },
              "type": "scatter3d"
             }
            ],
            "scattercarpet": [
             {
              "marker": {
               "colorbar": {
                "outlinewidth": 0,
                "ticks": ""
               }
              },
              "type": "scattercarpet"
             }
            ],
            "scattergeo": [
             {
              "marker": {
               "colorbar": {
                "outlinewidth": 0,
                "ticks": ""
               }
              },
              "type": "scattergeo"
             }
            ],
            "scattergl": [
             {
              "marker": {
               "colorbar": {
                "outlinewidth": 0,
                "ticks": ""
               }
              },
              "type": "scattergl"
             }
            ],
            "scattermapbox": [
             {
              "marker": {
               "colorbar": {
                "outlinewidth": 0,
                "ticks": ""
               }
              },
              "type": "scattermapbox"
             }
            ],
            "scatterpolar": [
             {
              "marker": {
               "colorbar": {
                "outlinewidth": 0,
                "ticks": ""
               }
              },
              "type": "scatterpolar"
             }
            ],
            "scatterpolargl": [
             {
              "marker": {
               "colorbar": {
                "outlinewidth": 0,
                "ticks": ""
               }
              },
              "type": "scatterpolargl"
             }
            ],
            "scatterternary": [
             {
              "marker": {
               "colorbar": {
                "outlinewidth": 0,
                "ticks": ""
               }
              },
              "type": "scatterternary"
             }
            ],
            "surface": [
             {
              "colorbar": {
               "outlinewidth": 0,
               "ticks": ""
              },
              "colorscale": [
               [
                0,
                "#0d0887"
               ],
               [
                0.1111111111111111,
                "#46039f"
               ],
               [
                0.2222222222222222,
                "#7201a8"
               ],
               [
                0.3333333333333333,
                "#9c179e"
               ],
               [
                0.4444444444444444,
                "#bd3786"
               ],
               [
                0.5555555555555556,
                "#d8576b"
               ],
               [
                0.6666666666666666,
                "#ed7953"
               ],
               [
                0.7777777777777778,
                "#fb9f3a"
               ],
               [
                0.8888888888888888,
                "#fdca26"
               ],
               [
                1,
                "#f0f921"
               ]
              ],
              "type": "surface"
             }
            ],
            "table": [
             {
              "cells": {
               "fill": {
                "color": "#EBF0F8"
               },
               "line": {
                "color": "white"
               }
              },
              "header": {
               "fill": {
                "color": "#C8D4E3"
               },
               "line": {
                "color": "white"
               }
              },
              "type": "table"
             }
            ]
           },
           "layout": {
            "annotationdefaults": {
             "arrowcolor": "#2a3f5f",
             "arrowhead": 0,
             "arrowwidth": 1
            },
            "autotypenumbers": "strict",
            "coloraxis": {
             "colorbar": {
              "outlinewidth": 0,
              "ticks": ""
             }
            },
            "colorscale": {
             "diverging": [
              [
               0,
               "#8e0152"
              ],
              [
               0.1,
               "#c51b7d"
              ],
              [
               0.2,
               "#de77ae"
              ],
              [
               0.3,
               "#f1b6da"
              ],
              [
               0.4,
               "#fde0ef"
              ],
              [
               0.5,
               "#f7f7f7"
              ],
              [
               0.6,
               "#e6f5d0"
              ],
              [
               0.7,
               "#b8e186"
              ],
              [
               0.8,
               "#7fbc41"
              ],
              [
               0.9,
               "#4d9221"
              ],
              [
               1,
               "#276419"
              ]
             ],
             "sequential": [
              [
               0,
               "#0d0887"
              ],
              [
               0.1111111111111111,
               "#46039f"
              ],
              [
               0.2222222222222222,
               "#7201a8"
              ],
              [
               0.3333333333333333,
               "#9c179e"
              ],
              [
               0.4444444444444444,
               "#bd3786"
              ],
              [
               0.5555555555555556,
               "#d8576b"
              ],
              [
               0.6666666666666666,
               "#ed7953"
              ],
              [
               0.7777777777777778,
               "#fb9f3a"
              ],
              [
               0.8888888888888888,
               "#fdca26"
              ],
              [
               1,
               "#f0f921"
              ]
             ],
             "sequentialminus": [
              [
               0,
               "#0d0887"
              ],
              [
               0.1111111111111111,
               "#46039f"
              ],
              [
               0.2222222222222222,
               "#7201a8"
              ],
              [
               0.3333333333333333,
               "#9c179e"
              ],
              [
               0.4444444444444444,
               "#bd3786"
              ],
              [
               0.5555555555555556,
               "#d8576b"
              ],
              [
               0.6666666666666666,
               "#ed7953"
              ],
              [
               0.7777777777777778,
               "#fb9f3a"
              ],
              [
               0.8888888888888888,
               "#fdca26"
              ],
              [
               1,
               "#f0f921"
              ]
             ]
            },
            "colorway": [
             "#636efa",
             "#EF553B",
             "#00cc96",
             "#ab63fa",
             "#FFA15A",
             "#19d3f3",
             "#FF6692",
             "#B6E880",
             "#FF97FF",
             "#FECB52"
            ],
            "font": {
             "color": "#2a3f5f"
            },
            "geo": {
             "bgcolor": "white",
             "lakecolor": "white",
             "landcolor": "white",
             "showlakes": true,
             "showland": true,
             "subunitcolor": "#C8D4E3"
            },
            "hoverlabel": {
             "align": "left"
            },
            "hovermode": "closest",
            "mapbox": {
             "style": "light"
            },
            "paper_bgcolor": "white",
            "plot_bgcolor": "white",
            "polar": {
             "angularaxis": {
              "gridcolor": "#EBF0F8",
              "linecolor": "#EBF0F8",
              "ticks": ""
             },
             "bgcolor": "white",
             "radialaxis": {
              "gridcolor": "#EBF0F8",
              "linecolor": "#EBF0F8",
              "ticks": ""
             }
            },
            "scene": {
             "xaxis": {
              "backgroundcolor": "white",
              "gridcolor": "#DFE8F3",
              "gridwidth": 2,
              "linecolor": "#EBF0F8",
              "showbackground": true,
              "ticks": "",
              "zerolinecolor": "#EBF0F8"
             },
             "yaxis": {
              "backgroundcolor": "white",
              "gridcolor": "#DFE8F3",
              "gridwidth": 2,
              "linecolor": "#EBF0F8",
              "showbackground": true,
              "ticks": "",
              "zerolinecolor": "#EBF0F8"
             },
             "zaxis": {
              "backgroundcolor": "white",
              "gridcolor": "#DFE8F3",
              "gridwidth": 2,
              "linecolor": "#EBF0F8",
              "showbackground": true,
              "ticks": "",
              "zerolinecolor": "#EBF0F8"
             }
            },
            "shapedefaults": {
             "line": {
              "color": "#2a3f5f"
             }
            },
            "ternary": {
             "aaxis": {
              "gridcolor": "#DFE8F3",
              "linecolor": "#A2B1C6",
              "ticks": ""
             },
             "baxis": {
              "gridcolor": "#DFE8F3",
              "linecolor": "#A2B1C6",
              "ticks": ""
             },
             "bgcolor": "white",
             "caxis": {
              "gridcolor": "#DFE8F3",
              "linecolor": "#A2B1C6",
              "ticks": ""
             }
            },
            "title": {
             "x": 0.05
            },
            "xaxis": {
             "automargin": true,
             "gridcolor": "#EBF0F8",
             "linecolor": "#EBF0F8",
             "ticks": "",
             "title": {
              "standoff": 15
             },
             "zerolinecolor": "#EBF0F8",
             "zerolinewidth": 2
            },
            "yaxis": {
             "automargin": true,
             "gridcolor": "#EBF0F8",
             "linecolor": "#EBF0F8",
             "ticks": "",
             "title": {
              "standoff": 15
             },
             "zerolinecolor": "#EBF0F8",
             "zerolinewidth": 2
            }
           }
          },
          "xaxis": {
           "automargin": false,
           "linecolor": "#444",
           "linewidth": 2,
           "minor": {
            "tickmode": "linear",
            "ticks": "outside"
           },
           "mirror": true,
           "showline": true,
           "tickmode": "linear",
           "ticks": "outside",
           "zeroline": false
          },
          "yaxis": {
           "automargin": false,
           "linecolor": "#444",
           "linewidth": 2,
           "minor": {
            "ticks": "outside"
           },
           "mirror": true,
           "showline": true,
           "ticks": "outside",
           "zeroline": false
          }
         }
        },
        "xaxis": {
         "dtick": 5,
         "minor": {
          "dtick": 1,
          "tick0": 0
         },
         "range": [
          0,
          30
         ],
         "tick0": 0,
         "title": {
          "text": "CR"
         }
        },
        "yaxis": {
         "dtick": 0.2,
         "minor": {
          "dtick": 0.1,
          "tick0": 0
         },
         "range": [
          0,
          2
         ],
         "tick0": 0,
         "title": {
          "text": "eHP Ratio"
         }
        }
       }
      }
     },
     "metadata": {},
     "output_type": "display_data"
    }
   ],
   "source": [
    "# eHP Ratio\n",
    "\n",
    "yCol = 'eHP Ratio'\n",
    "\n",
    "conf = 0.6\n",
    "df1 = df0[df0['CR'].between(1,30)]\n",
    "dfM = df1[['CR',yCol]].groupby('CR').median()\n",
    "dfU = df1[['CR',yCol]].groupby('CR').quantile(0.5 + conf/2)\n",
    "dfL = df1[['CR',yCol]].groupby('CR').quantile(0.5 - conf/2)\n",
    "\n",
    "# CR\n",
    "# create figure\n",
    "fig = go.Figure(\n",
    "    layout=go.Layout(\n",
    "        template=TFB_TEMPLATE,\n",
    "        margin=dict(l=70, r=25, b=55, t=20, pad=4),\n",
    "        xaxis=dict(\n",
    "            title_text='CR',\n",
    "            range=[0,30],\n",
    "            tick0=0, dtick=5,\n",
    "            minor=dict(tick0=0, dtick=1),\n",
    "        ),\n",
    "        yaxis=dict(\n",
    "            title_text=yCol,\n",
    "            range=[0,2],\n",
    "            tick0=0, dtick=0.2,\n",
    "            minor=dict(tick0=0, dtick=0.1),\n",
    "        ),\n",
    "        legend=dict(\n",
    "            xanchor='left', yanchor='top',\n",
    "            x=0.00, y=1.00,\n",
    "            orientation='v',\n",
    "            tracegroupgap=0,\n",
    "            bgcolor='rgba(0,0,0,0)',\n",
    "        )\n",
    "    )\n",
    ")\n",
    "\n",
    "\n",
    "# add reference line\n",
    "fig.add_trace(go.Scatter(\n",
    "    x=[1,30], y=[1,1],\n",
    "    mode='lines', \n",
    "    line=dict(color='black', dash='dash'),\n",
    "    name='DMG',\n",
    "    hoverinfo='skip',\n",
    "))\n",
    "\n",
    "# add average value\n",
    "fig.add_trace(go.Scatter(\n",
    "    x=dfM.index, y=dfM[yCol],\n",
    "    mode='lines', \n",
    "    line=dict(color='rgba(0,0,250,1)', dash='solid'),\n",
    "    name=f'{yCol} - mean',\n",
    "    hovertemplate='<b>mean</b><br>' + 'CR %{x:,.0f}<br>' + yCol + ' %{y:,.1f}<br>' + '<extra></extra>'\n",
    "\n",
    "))\n",
    "\n",
    "# add confidence interval\n",
    "fig.add_trace(go.Scatter(x=dfM.index, y=dfU[yCol], line_width=0, legendgroup=f'{yCol} confidence', showlegend=False, hoverinfo='skip'))\n",
    "fig.add_trace(go.Scatter(x=dfM.index, y=dfL[yCol], line_width=0, name=f'{yCol} - {conf:.0%} confidence', legendgroup=f'{yCol} confidence', hoverinfo='skip', fill='tonexty', fillcolor='rgba(0,0,250,0.2)'))\n",
    "\n",
    "#if SAVEFIGS: plt.savefig('dmg-cr-vs-cr.svg', metadata=METADATA)"
   ]
  },
  {
   "cell_type": "code",
   "execution_count": 144,
   "metadata": {},
   "outputs": [
    {
     "data": {
      "application/vnd.plotly.v1+json": {
       "config": {
        "plotlyServerURL": "https://plot.ly"
       },
       "data": [
        {
         "hoverinfo": "skip",
         "line": {
          "color": "black",
          "dash": "dash"
         },
         "mode": "lines",
         "name": "DMG",
         "type": "scatter",
         "x": [
          1,
          30
         ],
         "y": [
          1,
          1
         ]
        },
        {
         "hovertemplate": "<b>mean</b><br>CR %{x:,.0f}<br>eDPR Ratio %{y:,.1f}<br><extra></extra>",
         "line": {
          "color": "rgba(0,0,250,1)",
          "dash": "solid"
         },
         "mode": "lines",
         "name": "eDPR Ratio - mean",
         "type": "scatter",
         "x": [
          1,
          2,
          3,
          4,
          5,
          6,
          7,
          8,
          9,
          10,
          11,
          12,
          13,
          14,
          15,
          16,
          17,
          18,
          19,
          20,
          21,
          22,
          23,
          24,
          25,
          26,
          27,
          28,
          30
         ],
         "y": [
          1.3478260702341136,
          1.142857142857143,
          1.0638297872340428,
          0.9875706214689268,
          1.0475352112676055,
          1.1862449457831323,
          1.0289473684210526,
          1.0445299615173174,
          1.0276816608996542,
          0.918724741805119,
          0.9531209324009324,
          1.106810035842294,
          1.0767353825681971,
          1.1329402184978277,
          1.1902268760907506,
          1.029815919108115,
          1.1562790697674417,
          1.1277533039647576,
          1.1548117154811717,
          1.003802269201521,
          1.0630673674151936,
          0.9662639164179105,
          0.973430881786677,
          0.8990395354031717,
          0.9603940077980708,
          0.8907762212943633,
          0.8651751794005911,
          0.8616744259449224,
          0.8270911296147673
         ]
        },
        {
         "hoverinfo": "skip",
         "legendgroup": "eDPR Ratio confidence",
         "line": {
          "width": 0
         },
         "showlegend": false,
         "type": "scatter",
         "x": [
          1,
          2,
          3,
          4,
          5,
          6,
          7,
          8,
          9,
          10,
          11,
          12,
          13,
          14,
          15,
          16,
          17,
          18,
          19,
          20,
          21,
          22,
          23,
          24,
          25,
          26,
          27,
          28,
          30
         ],
         "y": [
          1.7096989966555183,
          1.6410256246153847,
          1.3130699088145898,
          1.3987194268926555,
          1.3281690140845073,
          1.5004518072289155,
          1.3557894736842104,
          1.234304562946674,
          1.2786290459713296,
          1.3656937584193984,
          1.3238539002331002,
          1.4939068100358426,
          1.445287180306055,
          1.4295468305400376,
          1.4777583932518912,
          1.4546711861031887,
          1.3222325581395349,
          1.3911894273127754,
          1.2619246594142262,
          1.1137642585551328,
          1.1663216276477146,
          1.0669225159914713,
          1.1809523624695162,
          1.069734213089122,
          1.3208564268417813,
          1.0348073463655345,
          0.8651751794005911,
          0.8881874852047662,
          1.3250936252006422
         ]
        },
        {
         "fill": "tonexty",
         "fillcolor": "rgba(0,0,250,0.2)",
         "hoverinfo": "skip",
         "legendgroup": "eDPR Ratio confidence",
         "line": {
          "width": 0
         },
         "name": "eDPR Ratio - 60% confidence",
         "type": "scatter",
         "x": [
          1,
          2,
          3,
          4,
          5,
          6,
          7,
          8,
          9,
          10,
          11,
          12,
          13,
          14,
          15,
          16,
          17,
          18,
          19,
          20,
          21,
          22,
          23,
          24,
          25,
          26,
          27,
          28,
          30
         ],
         "y": [
          0.9444816053511705,
          0.8293040210989012,
          0.8662613981762918,
          0.72090395480226,
          0.8502347211267606,
          0.8692771084337348,
          0.7794736663157895,
          0.7843870258383728,
          0.8515406386554623,
          0.7726986977997305,
          0.7552447552447552,
          0.9225806451612905,
          0.8268795741849636,
          0.8459342023587835,
          0.8856893542757419,
          0.819980980865958,
          0.9738294853953489,
          0.9673568281938325,
          0.8192468619246863,
          0.8048669201520913,
          0.8902054467271858,
          0.7987111882871358,
          0.8295897189064306,
          0.8226044226044225,
          0.7695464806074285,
          0.8310748271019169,
          0.8651751794005911,
          0.8616744259449224,
          0.6795969272338149
         ]
        }
       ],
       "layout": {
        "legend": {
         "bgcolor": "rgba(0,0,0,0)",
         "orientation": "v",
         "tracegroupgap": 0,
         "x": 0,
         "xanchor": "left",
         "y": 0,
         "yanchor": "bottom"
        },
        "margin": {
         "b": 55,
         "l": 70,
         "pad": 4,
         "r": 25,
         "t": 20
        },
        "template": {
         "layout": {
          "autosize": true,
          "font": {
           "family": "sans-serif",
           "size": 14
          },
          "hoverlabel": {
           "align": "left"
          },
          "hovermode": "closest",
          "margin": {
           "b": 40,
           "l": 50,
           "pad": 4,
           "r": 25,
           "t": 20
          },
          "template": {
           "data": {
            "bar": [
             {
              "error_x": {
               "color": "#2a3f5f"
              },
              "error_y": {
               "color": "#2a3f5f"
              },
              "marker": {
               "line": {
                "color": "white",
                "width": 0.5
               },
               "pattern": {
                "fillmode": "overlay",
                "size": 10,
                "solidity": 0.2
               }
              },
              "type": "bar"
             }
            ],
            "barpolar": [
             {
              "marker": {
               "line": {
                "color": "white",
                "width": 0.5
               },
               "pattern": {
                "fillmode": "overlay",
                "size": 10,
                "solidity": 0.2
               }
              },
              "type": "barpolar"
             }
            ],
            "carpet": [
             {
              "aaxis": {
               "endlinecolor": "#2a3f5f",
               "gridcolor": "#C8D4E3",
               "linecolor": "#C8D4E3",
               "minorgridcolor": "#C8D4E3",
               "startlinecolor": "#2a3f5f"
              },
              "baxis": {
               "endlinecolor": "#2a3f5f",
               "gridcolor": "#C8D4E3",
               "linecolor": "#C8D4E3",
               "minorgridcolor": "#C8D4E3",
               "startlinecolor": "#2a3f5f"
              },
              "type": "carpet"
             }
            ],
            "choropleth": [
             {
              "colorbar": {
               "outlinewidth": 0,
               "ticks": ""
              },
              "type": "choropleth"
             }
            ],
            "contour": [
             {
              "colorbar": {
               "outlinewidth": 0,
               "ticks": ""
              },
              "colorscale": [
               [
                0,
                "#0d0887"
               ],
               [
                0.1111111111111111,
                "#46039f"
               ],
               [
                0.2222222222222222,
                "#7201a8"
               ],
               [
                0.3333333333333333,
                "#9c179e"
               ],
               [
                0.4444444444444444,
                "#bd3786"
               ],
               [
                0.5555555555555556,
                "#d8576b"
               ],
               [
                0.6666666666666666,
                "#ed7953"
               ],
               [
                0.7777777777777778,
                "#fb9f3a"
               ],
               [
                0.8888888888888888,
                "#fdca26"
               ],
               [
                1,
                "#f0f921"
               ]
              ],
              "type": "contour"
             }
            ],
            "contourcarpet": [
             {
              "colorbar": {
               "outlinewidth": 0,
               "ticks": ""
              },
              "type": "contourcarpet"
             }
            ],
            "heatmap": [
             {
              "colorbar": {
               "outlinewidth": 0,
               "ticks": ""
              },
              "colorscale": [
               [
                0,
                "#0d0887"
               ],
               [
                0.1111111111111111,
                "#46039f"
               ],
               [
                0.2222222222222222,
                "#7201a8"
               ],
               [
                0.3333333333333333,
                "#9c179e"
               ],
               [
                0.4444444444444444,
                "#bd3786"
               ],
               [
                0.5555555555555556,
                "#d8576b"
               ],
               [
                0.6666666666666666,
                "#ed7953"
               ],
               [
                0.7777777777777778,
                "#fb9f3a"
               ],
               [
                0.8888888888888888,
                "#fdca26"
               ],
               [
                1,
                "#f0f921"
               ]
              ],
              "type": "heatmap"
             }
            ],
            "heatmapgl": [
             {
              "colorbar": {
               "outlinewidth": 0,
               "ticks": ""
              },
              "colorscale": [
               [
                0,
                "#0d0887"
               ],
               [
                0.1111111111111111,
                "#46039f"
               ],
               [
                0.2222222222222222,
                "#7201a8"
               ],
               [
                0.3333333333333333,
                "#9c179e"
               ],
               [
                0.4444444444444444,
                "#bd3786"
               ],
               [
                0.5555555555555556,
                "#d8576b"
               ],
               [
                0.6666666666666666,
                "#ed7953"
               ],
               [
                0.7777777777777778,
                "#fb9f3a"
               ],
               [
                0.8888888888888888,
                "#fdca26"
               ],
               [
                1,
                "#f0f921"
               ]
              ],
              "type": "heatmapgl"
             }
            ],
            "histogram": [
             {
              "marker": {
               "pattern": {
                "fillmode": "overlay",
                "size": 10,
                "solidity": 0.2
               }
              },
              "type": "histogram"
             }
            ],
            "histogram2d": [
             {
              "colorbar": {
               "outlinewidth": 0,
               "ticks": ""
              },
              "colorscale": [
               [
                0,
                "#0d0887"
               ],
               [
                0.1111111111111111,
                "#46039f"
               ],
               [
                0.2222222222222222,
                "#7201a8"
               ],
               [
                0.3333333333333333,
                "#9c179e"
               ],
               [
                0.4444444444444444,
                "#bd3786"
               ],
               [
                0.5555555555555556,
                "#d8576b"
               ],
               [
                0.6666666666666666,
                "#ed7953"
               ],
               [
                0.7777777777777778,
                "#fb9f3a"
               ],
               [
                0.8888888888888888,
                "#fdca26"
               ],
               [
                1,
                "#f0f921"
               ]
              ],
              "type": "histogram2d"
             }
            ],
            "histogram2dcontour": [
             {
              "colorbar": {
               "outlinewidth": 0,
               "ticks": ""
              },
              "colorscale": [
               [
                0,
                "#0d0887"
               ],
               [
                0.1111111111111111,
                "#46039f"
               ],
               [
                0.2222222222222222,
                "#7201a8"
               ],
               [
                0.3333333333333333,
                "#9c179e"
               ],
               [
                0.4444444444444444,
                "#bd3786"
               ],
               [
                0.5555555555555556,
                "#d8576b"
               ],
               [
                0.6666666666666666,
                "#ed7953"
               ],
               [
                0.7777777777777778,
                "#fb9f3a"
               ],
               [
                0.8888888888888888,
                "#fdca26"
               ],
               [
                1,
                "#f0f921"
               ]
              ],
              "type": "histogram2dcontour"
             }
            ],
            "mesh3d": [
             {
              "colorbar": {
               "outlinewidth": 0,
               "ticks": ""
              },
              "type": "mesh3d"
             }
            ],
            "parcoords": [
             {
              "line": {
               "colorbar": {
                "outlinewidth": 0,
                "ticks": ""
               }
              },
              "type": "parcoords"
             }
            ],
            "pie": [
             {
              "automargin": true,
              "type": "pie"
             }
            ],
            "scatter": [
             {
              "fillpattern": {
               "fillmode": "overlay",
               "size": 10,
               "solidity": 0.2
              },
              "type": "scatter"
             }
            ],
            "scatter3d": [
             {
              "line": {
               "colorbar": {
                "outlinewidth": 0,
                "ticks": ""
               }
              },
              "marker": {
               "colorbar": {
                "outlinewidth": 0,
                "ticks": ""
               }
              },
              "type": "scatter3d"
             }
            ],
            "scattercarpet": [
             {
              "marker": {
               "colorbar": {
                "outlinewidth": 0,
                "ticks": ""
               }
              },
              "type": "scattercarpet"
             }
            ],
            "scattergeo": [
             {
              "marker": {
               "colorbar": {
                "outlinewidth": 0,
                "ticks": ""
               }
              },
              "type": "scattergeo"
             }
            ],
            "scattergl": [
             {
              "marker": {
               "colorbar": {
                "outlinewidth": 0,
                "ticks": ""
               }
              },
              "type": "scattergl"
             }
            ],
            "scattermapbox": [
             {
              "marker": {
               "colorbar": {
                "outlinewidth": 0,
                "ticks": ""
               }
              },
              "type": "scattermapbox"
             }
            ],
            "scatterpolar": [
             {
              "marker": {
               "colorbar": {
                "outlinewidth": 0,
                "ticks": ""
               }
              },
              "type": "scatterpolar"
             }
            ],
            "scatterpolargl": [
             {
              "marker": {
               "colorbar": {
                "outlinewidth": 0,
                "ticks": ""
               }
              },
              "type": "scatterpolargl"
             }
            ],
            "scatterternary": [
             {
              "marker": {
               "colorbar": {
                "outlinewidth": 0,
                "ticks": ""
               }
              },
              "type": "scatterternary"
             }
            ],
            "surface": [
             {
              "colorbar": {
               "outlinewidth": 0,
               "ticks": ""
              },
              "colorscale": [
               [
                0,
                "#0d0887"
               ],
               [
                0.1111111111111111,
                "#46039f"
               ],
               [
                0.2222222222222222,
                "#7201a8"
               ],
               [
                0.3333333333333333,
                "#9c179e"
               ],
               [
                0.4444444444444444,
                "#bd3786"
               ],
               [
                0.5555555555555556,
                "#d8576b"
               ],
               [
                0.6666666666666666,
                "#ed7953"
               ],
               [
                0.7777777777777778,
                "#fb9f3a"
               ],
               [
                0.8888888888888888,
                "#fdca26"
               ],
               [
                1,
                "#f0f921"
               ]
              ],
              "type": "surface"
             }
            ],
            "table": [
             {
              "cells": {
               "fill": {
                "color": "#EBF0F8"
               },
               "line": {
                "color": "white"
               }
              },
              "header": {
               "fill": {
                "color": "#C8D4E3"
               },
               "line": {
                "color": "white"
               }
              },
              "type": "table"
             }
            ]
           },
           "layout": {
            "annotationdefaults": {
             "arrowcolor": "#2a3f5f",
             "arrowhead": 0,
             "arrowwidth": 1
            },
            "autotypenumbers": "strict",
            "coloraxis": {
             "colorbar": {
              "outlinewidth": 0,
              "ticks": ""
             }
            },
            "colorscale": {
             "diverging": [
              [
               0,
               "#8e0152"
              ],
              [
               0.1,
               "#c51b7d"
              ],
              [
               0.2,
               "#de77ae"
              ],
              [
               0.3,
               "#f1b6da"
              ],
              [
               0.4,
               "#fde0ef"
              ],
              [
               0.5,
               "#f7f7f7"
              ],
              [
               0.6,
               "#e6f5d0"
              ],
              [
               0.7,
               "#b8e186"
              ],
              [
               0.8,
               "#7fbc41"
              ],
              [
               0.9,
               "#4d9221"
              ],
              [
               1,
               "#276419"
              ]
             ],
             "sequential": [
              [
               0,
               "#0d0887"
              ],
              [
               0.1111111111111111,
               "#46039f"
              ],
              [
               0.2222222222222222,
               "#7201a8"
              ],
              [
               0.3333333333333333,
               "#9c179e"
              ],
              [
               0.4444444444444444,
               "#bd3786"
              ],
              [
               0.5555555555555556,
               "#d8576b"
              ],
              [
               0.6666666666666666,
               "#ed7953"
              ],
              [
               0.7777777777777778,
               "#fb9f3a"
              ],
              [
               0.8888888888888888,
               "#fdca26"
              ],
              [
               1,
               "#f0f921"
              ]
             ],
             "sequentialminus": [
              [
               0,
               "#0d0887"
              ],
              [
               0.1111111111111111,
               "#46039f"
              ],
              [
               0.2222222222222222,
               "#7201a8"
              ],
              [
               0.3333333333333333,
               "#9c179e"
              ],
              [
               0.4444444444444444,
               "#bd3786"
              ],
              [
               0.5555555555555556,
               "#d8576b"
              ],
              [
               0.6666666666666666,
               "#ed7953"
              ],
              [
               0.7777777777777778,
               "#fb9f3a"
              ],
              [
               0.8888888888888888,
               "#fdca26"
              ],
              [
               1,
               "#f0f921"
              ]
             ]
            },
            "colorway": [
             "#636efa",
             "#EF553B",
             "#00cc96",
             "#ab63fa",
             "#FFA15A",
             "#19d3f3",
             "#FF6692",
             "#B6E880",
             "#FF97FF",
             "#FECB52"
            ],
            "font": {
             "color": "#2a3f5f"
            },
            "geo": {
             "bgcolor": "white",
             "lakecolor": "white",
             "landcolor": "white",
             "showlakes": true,
             "showland": true,
             "subunitcolor": "#C8D4E3"
            },
            "hoverlabel": {
             "align": "left"
            },
            "hovermode": "closest",
            "mapbox": {
             "style": "light"
            },
            "paper_bgcolor": "white",
            "plot_bgcolor": "white",
            "polar": {
             "angularaxis": {
              "gridcolor": "#EBF0F8",
              "linecolor": "#EBF0F8",
              "ticks": ""
             },
             "bgcolor": "white",
             "radialaxis": {
              "gridcolor": "#EBF0F8",
              "linecolor": "#EBF0F8",
              "ticks": ""
             }
            },
            "scene": {
             "xaxis": {
              "backgroundcolor": "white",
              "gridcolor": "#DFE8F3",
              "gridwidth": 2,
              "linecolor": "#EBF0F8",
              "showbackground": true,
              "ticks": "",
              "zerolinecolor": "#EBF0F8"
             },
             "yaxis": {
              "backgroundcolor": "white",
              "gridcolor": "#DFE8F3",
              "gridwidth": 2,
              "linecolor": "#EBF0F8",
              "showbackground": true,
              "ticks": "",
              "zerolinecolor": "#EBF0F8"
             },
             "zaxis": {
              "backgroundcolor": "white",
              "gridcolor": "#DFE8F3",
              "gridwidth": 2,
              "linecolor": "#EBF0F8",
              "showbackground": true,
              "ticks": "",
              "zerolinecolor": "#EBF0F8"
             }
            },
            "shapedefaults": {
             "line": {
              "color": "#2a3f5f"
             }
            },
            "ternary": {
             "aaxis": {
              "gridcolor": "#DFE8F3",
              "linecolor": "#A2B1C6",
              "ticks": ""
             },
             "baxis": {
              "gridcolor": "#DFE8F3",
              "linecolor": "#A2B1C6",
              "ticks": ""
             },
             "bgcolor": "white",
             "caxis": {
              "gridcolor": "#DFE8F3",
              "linecolor": "#A2B1C6",
              "ticks": ""
             }
            },
            "title": {
             "x": 0.05
            },
            "xaxis": {
             "automargin": true,
             "gridcolor": "#EBF0F8",
             "linecolor": "#EBF0F8",
             "ticks": "",
             "title": {
              "standoff": 15
             },
             "zerolinecolor": "#EBF0F8",
             "zerolinewidth": 2
            },
            "yaxis": {
             "automargin": true,
             "gridcolor": "#EBF0F8",
             "linecolor": "#EBF0F8",
             "ticks": "",
             "title": {
              "standoff": 15
             },
             "zerolinecolor": "#EBF0F8",
             "zerolinewidth": 2
            }
           }
          },
          "xaxis": {
           "automargin": false,
           "linecolor": "#444",
           "linewidth": 2,
           "minor": {
            "tickmode": "linear",
            "ticks": "outside"
           },
           "mirror": true,
           "showline": true,
           "tickmode": "linear",
           "ticks": "outside",
           "zeroline": false
          },
          "yaxis": {
           "automargin": false,
           "linecolor": "#444",
           "linewidth": 2,
           "minor": {
            "ticks": "outside"
           },
           "mirror": true,
           "showline": true,
           "ticks": "outside",
           "zeroline": false
          }
         }
        },
        "xaxis": {
         "dtick": 5,
         "minor": {
          "dtick": 1,
          "tick0": 0
         },
         "range": [
          0,
          30
         ],
         "tick0": 0,
         "title": {
          "text": "CR"
         }
        },
        "yaxis": {
         "dtick": 0.2,
         "minor": {
          "dtick": 0.1,
          "tick0": 0
         },
         "range": [
          0,
          2
         ],
         "tick0": 0,
         "title": {
          "text": "eDPR Ratio"
         }
        }
       }
      }
     },
     "metadata": {},
     "output_type": "display_data"
    }
   ],
   "source": [
    "# eHP Ratio\n",
    "\n",
    "yCol = 'eDPR Ratio'\n",
    "\n",
    "conf = 0.6\n",
    "df1 = df0[df0['CR'].between(1,30)]\n",
    "dfM = df1[['CR',yCol]].groupby('CR').median()\n",
    "dfU = df1[['CR',yCol]].groupby('CR').quantile(0.5 + conf/2)\n",
    "dfL = df1[['CR',yCol]].groupby('CR').quantile(0.5 - conf/2)\n",
    "\n",
    "# CR\n",
    "# create figure\n",
    "fig = go.Figure(\n",
    "    layout=go.Layout(\n",
    "        template=TFB_TEMPLATE,\n",
    "        margin=dict(l=70, r=25, b=55, t=20, pad=4),\n",
    "        xaxis=dict(\n",
    "            title_text='CR',\n",
    "            range=[0,30],\n",
    "            tick0=0, dtick=5,\n",
    "            minor=dict(tick0=0, dtick=1),\n",
    "        ),\n",
    "        yaxis=dict(\n",
    "            title_text=yCol,\n",
    "            range=[0,2],\n",
    "            tick0=0, dtick=0.2,\n",
    "            minor=dict(tick0=0, dtick=0.1),\n",
    "        ),\n",
    "        legend=dict(\n",
    "            xanchor='left', yanchor='bottom',\n",
    "            x=0.00, y=0.00,\n",
    "            orientation='v',\n",
    "            tracegroupgap=0,\n",
    "            bgcolor='rgba(0,0,0,0)',\n",
    "        )\n",
    "    )\n",
    ")\n",
    "\n",
    "\n",
    "# add reference line\n",
    "fig.add_trace(go.Scatter(\n",
    "    x=[1,30], y=[1,1],\n",
    "    mode='lines', \n",
    "    line=dict(color='black', dash='dash'),\n",
    "    name='DMG',\n",
    "    hoverinfo='skip',\n",
    "))\n",
    "\n",
    "# add average value\n",
    "fig.add_trace(go.Scatter(\n",
    "    x=dfM.index, y=dfM[yCol],\n",
    "    mode='lines', \n",
    "    line=dict(color='rgba(0,0,250,1)', dash='solid'),\n",
    "    name=f'{yCol} - mean',\n",
    "    hovertemplate='<b>mean</b><br>' + 'CR %{x:,.0f}<br>' + yCol + ' %{y:,.1f}<br>' + '<extra></extra>'\n",
    "\n",
    "))\n",
    "\n",
    "# add confidence interval\n",
    "fig.add_trace(go.Scatter(x=dfM.index, y=dfU[yCol], line_width=0, legendgroup=f'{yCol} confidence', showlegend=False, hoverinfo='skip'))\n",
    "fig.add_trace(go.Scatter(x=dfM.index, y=dfL[yCol], line_width=0, name=f'{yCol} - {conf:.0%} confidence', legendgroup=f'{yCol} confidence', hoverinfo='skip', fill='tonexty', fillcolor='rgba(0,0,250,0.2)'))\n",
    "\n",
    "#if SAVEFIGS: plt.savefig('dmg-cr-vs-cr.svg', metadata=METADATA)"
   ]
  }
 ],
 "metadata": {
  "kernelspec": {
   "display_name": "Python 3.10.5 ('thefinishedbook': venv)",
   "language": "python",
   "name": "python3"
  },
  "language_info": {
   "codemirror_mode": {
    "name": "ipython",
    "version": 3
   },
   "file_extension": ".py",
   "mimetype": "text/x-python",
   "name": "python",
   "nbconvert_exporter": "python",
   "pygments_lexer": "ipython3",
   "version": "3.10.5"
  },
  "metadata": {
   "interpreter": {
    "hash": "ac2eaa0ea0ebeafcc7822e65e46aa9d4f966f30b695406963e145ea4a91cd4fc"
   }
  },
  "orig_nbformat": 2,
  "vscode": {
   "interpreter": {
    "hash": "e4b90a08ac11b7f80ea6e39e6f46c6e22a0b6d86a47874aaa13784019f162251"
   }
  }
 },
 "nbformat": 4,
 "nbformat_minor": 2
}
