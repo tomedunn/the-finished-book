{
 "cells": [
  {
   "cell_type": "code",
   "execution_count": 11,
   "metadata": {},
   "outputs": [],
   "source": [
    "# set parameters\n",
    "import numpy as np\n",
    "import pandas as pd\n",
    "pd.options.mode.chained_assignment = None  # default='warn'\n",
    "import plotly.graph_objects as go\n",
    "import sys\n",
    "sys.path.append('../../assets/python/')\n",
    "import dmg5e\n",
    "import estats5e\n",
    "import tfb\n",
    "\n",
    "METADATA = {'Contributor': 'T. Dunn'}\n",
    "SAVEFIGS = False"
   ]
  },
  {
   "cell_type": "code",
   "execution_count": 2,
   "metadata": {},
   "outputs": [
    {
     "name": "stdout",
     "output_type": "stream",
     "text": [
      "Includes 2143 monsters in database\n"
     ]
    }
   ],
   "source": [
    "# import data\n",
    "dfD = pd.read_csv('../../assets/data/dmg-targets.csv') # 'CR','PB','XP','AC','HP Mean','AB','DPR Mean'\n",
    "dfD['eHP Mean']  = dfD.apply(lambda row: estats5e.effHP(row['HP Mean'], row['AC']), axis=1)\n",
    "dfD['eDPR Mean'] = dfD.apply(lambda row: estats5e.effDPR(row['DPR Mean'], row['AB']), axis=1)\n",
    "dfD['eXP Mean']  = dfD.apply(lambda row: estats5e.effXP(row['HP Mean'], row['AC'], row['DPR Mean'], row['AB']), axis=1)\n",
    "dfD.set_index('CR', inplace=True)\n",
    "\n",
    "xp2cr  = np.poly1d(np.polyfit(dfD['eXP Mean'],  dfD.index, 3))\n",
    "hp2cr  = np.poly1d(np.polyfit(dfD['eHP Mean'],  dfD.index, 3))\n",
    "dpr2cr = np.poly1d(np.polyfit(dfD['eDPR Mean'], dfD.index, 3))\n",
    "\n",
    "df0 = pd.read_csv('../../assets/data/monsters.csv')\n",
    "df0 = df0[df0['adj DPR'].gt(0)]\n",
    "df0['eHP']  = df0.apply(lambda row: estats5e.effHP(row['adj HP'], row['adj AC']), axis=1)\n",
    "df0['eDPR'] = df0.apply(lambda row: estats5e.effDPR(row['adj DPR'], row['adj AB']), axis=1)\n",
    "df0['eXP']  = df0.apply(lambda row: estats5e.effXP(row['adj HP'], row['adj AC'], row['adj DPR'], row['adj AB']), axis=1)\n",
    "\n",
    "df0['D-eCR']  = df0.apply(lambda row: float(np.interp(row['eHP'], dfD['eHP Mean'],  dfD.index, left=0, right=30)), axis=1)\n",
    "df0['O-eCR']  = df0.apply(lambda row: float(np.interp(row['eDPR'], dfD['eDPR Mean'],  dfD.index, left=0, right=30)), axis=1)\n",
    "df0['eCR']  = df0.apply(lambda row: float(np.interp(row['eXP'], dfD['eXP Mean'],  dfD.index, left=0, right=30)), axis=1)\n",
    "\n",
    "df0['eHP Ratio'] = df0.apply(lambda row: row['eHP']/dfD.loc[row['CR'], 'eHP Mean'], axis=1)\n",
    "df0['eDPR Ratio'] = df0.apply(lambda row: row['eDPR']/dfD.loc[row['CR'], 'eDPR Mean'], axis=1)\n",
    "df0['eCR Delta'] = df0['eCR'] - df0['CR']\n",
    "df0['eXP Ratio'] = df0['eXP'] / df0['XP']\n",
    "df0['eXP Skew'] = (df0['eDPR Ratio'] - df0['eHP Ratio'])/(df0['eDPR Ratio'] + df0['eHP Ratio'])\n",
    "\n",
    "df0['D-CR DMG'] = df0.apply(lambda row: dmg5e.monster_defensive_challenge_rating(row['adj HP'], row['adj AC']), axis=1)\n",
    "df0['O-CR DMG'] = df0.apply(lambda row: dmg5e.monster_offensive_challenge_rating(row['adj DPR'], row['adj AB']), axis=1)\n",
    "df0['C-CR DMG'] = df0.apply(lambda row: np.floor(dmg5e.monster_challenge_rating(row['adj HP'], row['adj AC'], row['adj DPR'], row['adj AB'])), axis=1)\n",
    "df0['C-CR DMG Delta'] = df0['C-CR DMG'] - df0['CR']\n",
    "df0['XP DMG'] = df0.apply(lambda row: dfD.loc[row['C-CR DMG'], 'XP'], axis=1)\n",
    "df0['XP DMG Ratio'] = df0['XP DMG'] / df0['XP']\n",
    "#df0['C-CR DMG'] = 0.5*(df0['D-CR DMG'] + df0['O-CR DMG'])\n",
    "df0['CR spread'] = df0['CR'] + np.random.rand(len(df0.index.tolist())) - 0.5\n",
    "\n",
    "len(df0.index.tolist())\n",
    "print('Includes {} monsters in database'.format(len(df0.index.to_list())))"
   ]
  },
  {
   "cell_type": "code",
   "execution_count": null,
   "metadata": {},
   "outputs": [
    {
     "data": {
      "application/vnd.plotly.v1+json": {
       "config": {
        "autosizable": true,
        "displayModeBar": "hover",
        "displaylogo": false,
        "doubleClick": "reset",
        "modeBarButtonsToRemove": [
         "select2d",
         "lasso2d",
         "zoom2d",
         "zoomIn2d",
         "zoomOut2d",
         "pan2d",
         "autoScale2d",
         "hoverClosestCartesian",
         "hoverCompareCartesian",
         "toggleSpikelines",
         "resetScale2d"
        ],
        "plotlyServerURL": "https://plot.ly",
        "responsive": true,
        "showAxisDragHandles": false,
        "toImageButtonOptions": {
         "filename": "tfb-plot",
         "format": "png",
         "height": 450,
         "scale": 2,
         "width": 600
        }
       },
       "data": [
        {
         "hoverinfo": "skip",
         "legendgroup": "mean",
         "line": {
          "width": 0
         },
         "showlegend": false,
         "type": "scatter",
         "x": [
          25,
          50,
          100,
          200,
          450,
          700,
          1100,
          1800,
          2300,
          2900,
          3900,
          5000,
          5900,
          7200,
          8400,
          10000,
          11500,
          13000,
          15000,
          18000,
          20000,
          22000,
          25000,
          33000,
          41000,
          50000,
          62000,
          75000,
          90000,
          105000,
          120000,
          155000
         ],
         "y": [
          22.240384615384613,
          50.15769069230768,
          91.21153603846155,
          197.54999999999998,
          410.4615375384616,
          693.8077121307692,
          1132.8845768076924,
          1851.5853846153846,
          2622.3153770307704,
          3438.5614985615384,
          4354.550961538462,
          5354.115576923077,
          7069.725085015385,
          9379.14153846154,
          11479.196880200001,
          15147.294482153846,
          17469.139711538464,
          21121.3151712,
          23141.11486923308,
          26575.60367049231,
          32034.59170719231,
          30792.491889230772,
          33702.85384615384,
          45023.65485576924,
          50131.59726461538,
          74083.92307692308,
          78148.38461538461,
          103989.78253765387,
          104259.86603199999,
          120216.72217589425,
          135006.29153846155,
          368398.9608604039
         ]
        },
        {
         "fill": "tonexty",
         "fillcolor": "rgba(0, 0, 255, 0.4)",
         "hoverinfo": "skip",
         "legendgroup": "mean",
         "line": {
          "width": 0
         },
         "name": "80% confidence",
         "type": "scatter",
         "x": [
          25,
          50,
          100,
          200,
          450,
          700,
          1100,
          1800,
          2300,
          2900,
          3900,
          5000,
          5900,
          7200,
          8400,
          10000,
          11500,
          13000,
          15000,
          18000,
          20000,
          22000,
          25000,
          33000,
          41000,
          50000,
          62000,
          75000,
          90000,
          105000,
          120000,
          155000
         ],
         "y": [
          7.771153846153846,
          20.861538461538455,
          36.42692307692307,
          82.10192307692306,
          168.40384615384616,
          362.6666790461539,
          548.9769274615385,
          1019.3249855307693,
          1397.3553846153845,
          1859.9625,
          2216.9935806615385,
          3343.9139423076927,
          3874.3676923076923,
          5039.307628615384,
          6973.636923076923,
          7406.850000000001,
          8298.675195461537,
          9302.95153846154,
          12287.146129892308,
          14071.35317926154,
          18021.828514038458,
          16933.56923076923,
          20807.37020169231,
          26669.403846153848,
          32043.476299153845,
          42861.53953846154,
          53163.654119423074,
          61557.692307692305,
          71989.05,
          91922.3076923077,
          102825,
          130864.01903764614
         ]
        },
        {
         "hovertemplate": "<b>mean</b><br>XP %{x:,.0f}<br>Calc XP %{y:,.0f}<br><extra></extra>",
         "legendgroup": "mean",
         "line": {
          "color": "blue"
         },
         "mode": "lines",
         "name": "mean",
         "type": "scatter",
         "x": [
          25,
          50,
          100,
          200,
          450,
          700,
          1100,
          1800,
          2300,
          2900,
          3900,
          5000,
          5900,
          7200,
          8400,
          10000,
          11500,
          13000,
          15000,
          18000,
          20000,
          22000,
          25000,
          33000,
          41000,
          50000,
          62000,
          75000,
          90000,
          105000,
          120000,
          155000
         ],
         "y": [
          14.47662925400641,
          34.186900533692935,
          62.57257513284413,
          135.9122124679045,
          282.5079485738598,
          522.9831047482742,
          852.4102344185851,
          1432.3047005465935,
          2023.455163842288,
          2558.7131369185186,
          3279.963810163885,
          4438.094909726923,
          5433.149474538462,
          7091.393257244497,
          8967.054784920942,
          10138.867398489292,
          12531.390078992308,
          14416.892917234616,
          16895.68889744033,
          19497.732528944365,
          24658.111379386835,
          25461.18523181448,
          27194.097422887447,
          35480.74028978698,
          40991.89393414872,
          58293.3802776768,
          67353.72723617914,
          83969.25489027369,
          88364.96888874145,
          102675.53059566107,
          112856.2304945055,
          222146.2122780673
         ]
        },
        {
         "hovertemplate": "<b>DMG</b><br>XP %{x:,.0f}<extra></extra>",
         "line": {
          "color": "black",
          "dash": "dash"
         },
         "mode": "lines",
         "name": "DMG",
         "type": "scatter",
         "x": [
          25,
          50,
          100,
          200,
          450,
          700,
          1100,
          1800,
          2300,
          2900,
          3900,
          5000,
          5900,
          7200,
          8400,
          10000,
          11500,
          13000,
          15000,
          18000,
          20000,
          22000,
          25000,
          33000,
          41000,
          50000,
          62000,
          75000,
          90000,
          105000,
          120000,
          155000
         ],
         "y": [
          25,
          50,
          100,
          200,
          450,
          700,
          1100,
          1800,
          2300,
          2900,
          3900,
          5000,
          5900,
          7200,
          8400,
          10000,
          11500,
          13000,
          15000,
          18000,
          20000,
          22000,
          25000,
          33000,
          41000,
          50000,
          62000,
          75000,
          90000,
          105000,
          120000,
          155000
         ]
        }
       ],
       "layout": {
        "height": 450,
        "legend": {
         "orientation": "v",
         "tracegroupgap": 0,
         "x": 0,
         "xanchor": "left",
         "y": 1,
         "yanchor": "top"
        },
        "margin": {
         "b": 55,
         "l": 70,
         "pad": 4,
         "r": 25,
         "t": 20
        },
        "template": {
         "layout": {
          "autosize": false,
          "font": {
           "family": "sans-serif",
           "size": 14
          },
          "hoverlabel": {
           "align": "left"
          },
          "hovermode": "closest",
          "margin": {
           "b": 55,
           "l": 60,
           "pad": 4,
           "r": 25,
           "t": 20
          },
          "template": {
           "data": {
            "bar": [
             {
              "error_x": {
               "color": "#2a3f5f"
              },
              "error_y": {
               "color": "#2a3f5f"
              },
              "marker": {
               "line": {
                "color": "white",
                "width": 0.5
               },
               "pattern": {
                "fillmode": "overlay",
                "size": 10,
                "solidity": 0.2
               }
              },
              "type": "bar"
             }
            ],
            "barpolar": [
             {
              "marker": {
               "line": {
                "color": "white",
                "width": 0.5
               },
               "pattern": {
                "fillmode": "overlay",
                "size": 10,
                "solidity": 0.2
               }
              },
              "type": "barpolar"
             }
            ],
            "carpet": [
             {
              "aaxis": {
               "endlinecolor": "#2a3f5f",
               "gridcolor": "#C8D4E3",
               "linecolor": "#C8D4E3",
               "minorgridcolor": "#C8D4E3",
               "startlinecolor": "#2a3f5f"
              },
              "baxis": {
               "endlinecolor": "#2a3f5f",
               "gridcolor": "#C8D4E3",
               "linecolor": "#C8D4E3",
               "minorgridcolor": "#C8D4E3",
               "startlinecolor": "#2a3f5f"
              },
              "type": "carpet"
             }
            ],
            "choropleth": [
             {
              "colorbar": {
               "outlinewidth": 0,
               "ticks": ""
              },
              "type": "choropleth"
             }
            ],
            "contour": [
             {
              "colorbar": {
               "outlinewidth": 0,
               "ticks": ""
              },
              "colorscale": [
               [
                0,
                "#0d0887"
               ],
               [
                0.1111111111111111,
                "#46039f"
               ],
               [
                0.2222222222222222,
                "#7201a8"
               ],
               [
                0.3333333333333333,
                "#9c179e"
               ],
               [
                0.4444444444444444,
                "#bd3786"
               ],
               [
                0.5555555555555556,
                "#d8576b"
               ],
               [
                0.6666666666666666,
                "#ed7953"
               ],
               [
                0.7777777777777778,
                "#fb9f3a"
               ],
               [
                0.8888888888888888,
                "#fdca26"
               ],
               [
                1,
                "#f0f921"
               ]
              ],
              "type": "contour"
             }
            ],
            "contourcarpet": [
             {
              "colorbar": {
               "outlinewidth": 0,
               "ticks": ""
              },
              "type": "contourcarpet"
             }
            ],
            "heatmap": [
             {
              "colorbar": {
               "outlinewidth": 0,
               "ticks": ""
              },
              "colorscale": [
               [
                0,
                "#0d0887"
               ],
               [
                0.1111111111111111,
                "#46039f"
               ],
               [
                0.2222222222222222,
                "#7201a8"
               ],
               [
                0.3333333333333333,
                "#9c179e"
               ],
               [
                0.4444444444444444,
                "#bd3786"
               ],
               [
                0.5555555555555556,
                "#d8576b"
               ],
               [
                0.6666666666666666,
                "#ed7953"
               ],
               [
                0.7777777777777778,
                "#fb9f3a"
               ],
               [
                0.8888888888888888,
                "#fdca26"
               ],
               [
                1,
                "#f0f921"
               ]
              ],
              "type": "heatmap"
             }
            ],
            "heatmapgl": [
             {
              "colorbar": {
               "outlinewidth": 0,
               "ticks": ""
              },
              "colorscale": [
               [
                0,
                "#0d0887"
               ],
               [
                0.1111111111111111,
                "#46039f"
               ],
               [
                0.2222222222222222,
                "#7201a8"
               ],
               [
                0.3333333333333333,
                "#9c179e"
               ],
               [
                0.4444444444444444,
                "#bd3786"
               ],
               [
                0.5555555555555556,
                "#d8576b"
               ],
               [
                0.6666666666666666,
                "#ed7953"
               ],
               [
                0.7777777777777778,
                "#fb9f3a"
               ],
               [
                0.8888888888888888,
                "#fdca26"
               ],
               [
                1,
                "#f0f921"
               ]
              ],
              "type": "heatmapgl"
             }
            ],
            "histogram": [
             {
              "marker": {
               "pattern": {
                "fillmode": "overlay",
                "size": 10,
                "solidity": 0.2
               }
              },
              "type": "histogram"
             }
            ],
            "histogram2d": [
             {
              "colorbar": {
               "outlinewidth": 0,
               "ticks": ""
              },
              "colorscale": [
               [
                0,
                "#0d0887"
               ],
               [
                0.1111111111111111,
                "#46039f"
               ],
               [
                0.2222222222222222,
                "#7201a8"
               ],
               [
                0.3333333333333333,
                "#9c179e"
               ],
               [
                0.4444444444444444,
                "#bd3786"
               ],
               [
                0.5555555555555556,
                "#d8576b"
               ],
               [
                0.6666666666666666,
                "#ed7953"
               ],
               [
                0.7777777777777778,
                "#fb9f3a"
               ],
               [
                0.8888888888888888,
                "#fdca26"
               ],
               [
                1,
                "#f0f921"
               ]
              ],
              "type": "histogram2d"
             }
            ],
            "histogram2dcontour": [
             {
              "colorbar": {
               "outlinewidth": 0,
               "ticks": ""
              },
              "colorscale": [
               [
                0,
                "#0d0887"
               ],
               [
                0.1111111111111111,
                "#46039f"
               ],
               [
                0.2222222222222222,
                "#7201a8"
               ],
               [
                0.3333333333333333,
                "#9c179e"
               ],
               [
                0.4444444444444444,
                "#bd3786"
               ],
               [
                0.5555555555555556,
                "#d8576b"
               ],
               [
                0.6666666666666666,
                "#ed7953"
               ],
               [
                0.7777777777777778,
                "#fb9f3a"
               ],
               [
                0.8888888888888888,
                "#fdca26"
               ],
               [
                1,
                "#f0f921"
               ]
              ],
              "type": "histogram2dcontour"
             }
            ],
            "mesh3d": [
             {
              "colorbar": {
               "outlinewidth": 0,
               "ticks": ""
              },
              "type": "mesh3d"
             }
            ],
            "parcoords": [
             {
              "line": {
               "colorbar": {
                "outlinewidth": 0,
                "ticks": ""
               }
              },
              "type": "parcoords"
             }
            ],
            "pie": [
             {
              "automargin": true,
              "type": "pie"
             }
            ],
            "scatter": [
             {
              "fillpattern": {
               "fillmode": "overlay",
               "size": 10,
               "solidity": 0.2
              },
              "type": "scatter"
             }
            ],
            "scatter3d": [
             {
              "line": {
               "colorbar": {
                "outlinewidth": 0,
                "ticks": ""
               }
              },
              "marker": {
               "colorbar": {
                "outlinewidth": 0,
                "ticks": ""
               }
              },
              "type": "scatter3d"
             }
            ],
            "scattercarpet": [
             {
              "marker": {
               "colorbar": {
                "outlinewidth": 0,
                "ticks": ""
               }
              },
              "type": "scattercarpet"
             }
            ],
            "scattergeo": [
             {
              "marker": {
               "colorbar": {
                "outlinewidth": 0,
                "ticks": ""
               }
              },
              "type": "scattergeo"
             }
            ],
            "scattergl": [
             {
              "marker": {
               "colorbar": {
                "outlinewidth": 0,
                "ticks": ""
               }
              },
              "type": "scattergl"
             }
            ],
            "scattermapbox": [
             {
              "marker": {
               "colorbar": {
                "outlinewidth": 0,
                "ticks": ""
               }
              },
              "type": "scattermapbox"
             }
            ],
            "scatterpolar": [
             {
              "marker": {
               "colorbar": {
                "outlinewidth": 0,
                "ticks": ""
               }
              },
              "type": "scatterpolar"
             }
            ],
            "scatterpolargl": [
             {
              "marker": {
               "colorbar": {
                "outlinewidth": 0,
                "ticks": ""
               }
              },
              "type": "scatterpolargl"
             }
            ],
            "scatterternary": [
             {
              "marker": {
               "colorbar": {
                "outlinewidth": 0,
                "ticks": ""
               }
              },
              "type": "scatterternary"
             }
            ],
            "surface": [
             {
              "colorbar": {
               "outlinewidth": 0,
               "ticks": ""
              },
              "colorscale": [
               [
                0,
                "#0d0887"
               ],
               [
                0.1111111111111111,
                "#46039f"
               ],
               [
                0.2222222222222222,
                "#7201a8"
               ],
               [
                0.3333333333333333,
                "#9c179e"
               ],
               [
                0.4444444444444444,
                "#bd3786"
               ],
               [
                0.5555555555555556,
                "#d8576b"
               ],
               [
                0.6666666666666666,
                "#ed7953"
               ],
               [
                0.7777777777777778,
                "#fb9f3a"
               ],
               [
                0.8888888888888888,
                "#fdca26"
               ],
               [
                1,
                "#f0f921"
               ]
              ],
              "type": "surface"
             }
            ],
            "table": [
             {
              "cells": {
               "fill": {
                "color": "#EBF0F8"
               },
               "line": {
                "color": "white"
               }
              },
              "header": {
               "fill": {
                "color": "#C8D4E3"
               },
               "line": {
                "color": "white"
               }
              },
              "type": "table"
             }
            ]
           },
           "layout": {
            "annotationdefaults": {
             "arrowcolor": "#2a3f5f",
             "arrowhead": 0,
             "arrowwidth": 1
            },
            "autotypenumbers": "strict",
            "coloraxis": {
             "colorbar": {
              "outlinewidth": 0,
              "ticks": ""
             }
            },
            "colorscale": {
             "diverging": [
              [
               0,
               "#8e0152"
              ],
              [
               0.1,
               "#c51b7d"
              ],
              [
               0.2,
               "#de77ae"
              ],
              [
               0.3,
               "#f1b6da"
              ],
              [
               0.4,
               "#fde0ef"
              ],
              [
               0.5,
               "#f7f7f7"
              ],
              [
               0.6,
               "#e6f5d0"
              ],
              [
               0.7,
               "#b8e186"
              ],
              [
               0.8,
               "#7fbc41"
              ],
              [
               0.9,
               "#4d9221"
              ],
              [
               1,
               "#276419"
              ]
             ],
             "sequential": [
              [
               0,
               "#0d0887"
              ],
              [
               0.1111111111111111,
               "#46039f"
              ],
              [
               0.2222222222222222,
               "#7201a8"
              ],
              [
               0.3333333333333333,
               "#9c179e"
              ],
              [
               0.4444444444444444,
               "#bd3786"
              ],
              [
               0.5555555555555556,
               "#d8576b"
              ],
              [
               0.6666666666666666,
               "#ed7953"
              ],
              [
               0.7777777777777778,
               "#fb9f3a"
              ],
              [
               0.8888888888888888,
               "#fdca26"
              ],
              [
               1,
               "#f0f921"
              ]
             ],
             "sequentialminus": [
              [
               0,
               "#0d0887"
              ],
              [
               0.1111111111111111,
               "#46039f"
              ],
              [
               0.2222222222222222,
               "#7201a8"
              ],
              [
               0.3333333333333333,
               "#9c179e"
              ],
              [
               0.4444444444444444,
               "#bd3786"
              ],
              [
               0.5555555555555556,
               "#d8576b"
              ],
              [
               0.6666666666666666,
               "#ed7953"
              ],
              [
               0.7777777777777778,
               "#fb9f3a"
              ],
              [
               0.8888888888888888,
               "#fdca26"
              ],
              [
               1,
               "#f0f921"
              ]
             ]
            },
            "colorway": [
             "#636efa",
             "#EF553B",
             "#00cc96",
             "#ab63fa",
             "#FFA15A",
             "#19d3f3",
             "#FF6692",
             "#B6E880",
             "#FF97FF",
             "#FECB52"
            ],
            "font": {
             "color": "#2a3f5f"
            },
            "geo": {
             "bgcolor": "white",
             "lakecolor": "white",
             "landcolor": "white",
             "showlakes": true,
             "showland": true,
             "subunitcolor": "#C8D4E3"
            },
            "hoverlabel": {
             "align": "left"
            },
            "hovermode": "closest",
            "mapbox": {
             "style": "light"
            },
            "paper_bgcolor": "white",
            "plot_bgcolor": "white",
            "polar": {
             "angularaxis": {
              "gridcolor": "#EBF0F8",
              "linecolor": "#EBF0F8",
              "ticks": ""
             },
             "bgcolor": "white",
             "radialaxis": {
              "gridcolor": "#EBF0F8",
              "linecolor": "#EBF0F8",
              "ticks": ""
             }
            },
            "scene": {
             "xaxis": {
              "backgroundcolor": "white",
              "gridcolor": "#DFE8F3",
              "gridwidth": 2,
              "linecolor": "#EBF0F8",
              "showbackground": true,
              "ticks": "",
              "zerolinecolor": "#EBF0F8"
             },
             "yaxis": {
              "backgroundcolor": "white",
              "gridcolor": "#DFE8F3",
              "gridwidth": 2,
              "linecolor": "#EBF0F8",
              "showbackground": true,
              "ticks": "",
              "zerolinecolor": "#EBF0F8"
             },
             "zaxis": {
              "backgroundcolor": "white",
              "gridcolor": "#DFE8F3",
              "gridwidth": 2,
              "linecolor": "#EBF0F8",
              "showbackground": true,
              "ticks": "",
              "zerolinecolor": "#EBF0F8"
             }
            },
            "shapedefaults": {
             "line": {
              "color": "#2a3f5f"
             }
            },
            "ternary": {
             "aaxis": {
              "gridcolor": "#DFE8F3",
              "linecolor": "#A2B1C6",
              "ticks": ""
             },
             "baxis": {
              "gridcolor": "#DFE8F3",
              "linecolor": "#A2B1C6",
              "ticks": ""
             },
             "bgcolor": "white",
             "caxis": {
              "gridcolor": "#DFE8F3",
              "linecolor": "#A2B1C6",
              "ticks": ""
             }
            },
            "title": {
             "x": 0.05
            },
            "xaxis": {
             "automargin": true,
             "gridcolor": "#EBF0F8",
             "linecolor": "#EBF0F8",
             "ticks": "",
             "title": {
              "standoff": 15
             },
             "zerolinecolor": "#EBF0F8",
             "zerolinewidth": 2
            },
            "yaxis": {
             "automargin": true,
             "gridcolor": "#EBF0F8",
             "linecolor": "#EBF0F8",
             "ticks": "",
             "title": {
              "standoff": 15
             },
             "zerolinecolor": "#EBF0F8",
             "zerolinewidth": 2
            }
           }
          },
          "xaxis": {
           "automargin": false,
           "linecolor": "#444",
           "linewidth": 2,
           "minor": {
            "tickmode": "linear",
            "ticks": "outside"
           },
           "mirror": true,
           "showline": true,
           "tickmode": "linear",
           "ticks": "outside",
           "zeroline": false
          },
          "yaxis": {
           "automargin": true,
           "linecolor": "#444",
           "linewidth": 2,
           "minor": {
            "tickmode": "linear",
            "ticks": "outside"
           },
           "mirror": true,
           "showline": true,
           "ticks": "outside",
           "zeroline": false
          }
         }
        },
        "width": 600,
        "xaxis": {
         "title": {
          "text": "XP"
         },
         "type": "log"
        },
        "yaxis": {
         "title": {
          "text": "calculated XP"
         },
         "type": "log"
        }
       }
      }
     },
     "metadata": {},
     "output_type": "display_data"
    }
   ],
   "source": [
    "# Fig. 1: calculated XP vs target XP\n",
    "xCol = 'XP'\n",
    "yCol = 'eXP'\n",
    "\n",
    "conf = 0.8\n",
    "df1 = df0[df0['CR'].between(0,30)]\n",
    "dfG = df1[[xCol,yCol]].groupby(xCol).mean().reset_index()\n",
    "dfU = df1[[xCol,yCol]].groupby(xCol).quantile(0.5 + conf/2).reset_index()\n",
    "dfL = df1[[xCol,yCol]].groupby(xCol).quantile(0.5 - conf/2).reset_index()\n",
    "\n",
    "# create figure\n",
    "fig = go.Figure(\n",
    "    layout=go.Layout(\n",
    "        template=tfb.FIG_TEMPLATE,\n",
    "        margin=dict(l=70, r=25, b=55, t=20, pad=4),\n",
    "        xaxis=dict(\n",
    "            title_text='XP',\n",
    "            type='log',\n",
    "        ),\n",
    "        yaxis=dict(\n",
    "            title_text='calculated XP',\n",
    "            type='log',\n",
    "        ),\n",
    "        legend=dict(\n",
    "            xanchor='left', yanchor='top',\n",
    "            x=0.00, y=1.00,\n",
    "            orientation='v',\n",
    "            tracegroupgap=0,\n",
    "        )\n",
    "    )\n",
    ")\n",
    "\n",
    "# plot monster confidence interval and average\n",
    "fig.add_trace(go.Scatter(x=dfG[xCol], y=dfU[yCol], line_width=0, legendgroup='mean', showlegend=False, hoverinfo='skip'))\n",
    "fig.add_trace(go.Scatter(x=dfG[xCol], y=dfL[yCol], line_width=0, name=f'{conf:.0%} confidence', legendgroup='mean', hoverinfo='skip', fill='tonexty', fillcolor='rgba(0, 0, 255, 0.4)'))\n",
    "fig.add_trace(go.Scatter(\n",
    "    x=dfG[xCol], y=dfG[yCol],\n",
    "    mode='lines', \n",
    "    name='mean',\n",
    "    legendgroup='mean', \n",
    "    line=dict(color='blue'),\n",
    "    hovertemplate='<b>mean</b><br>' + 'XP %{x:,.0f}<br>' + 'Calc XP %{y:,.0f}<br>' + '<extra></extra>'\n",
    "))\n",
    "\n",
    "# plot reference line\n",
    "fig.add_trace(go.Scatter(\n",
    "    x=dfG[xCol], y=dfG[xCol],\n",
    "    mode='lines', \n",
    "    name='DMG',\n",
    "    line=dict(color='black', dash='dash'),\n",
    "    hovertemplate='<b>DMG</b><br>' + 'XP %{x:,.0f}' + '<extra></extra>'\n",
    "))\n",
    "\n",
    "# show figure\n",
    "fig.update_layout(width=600, height=450)\n",
    "fig.show(config=tfb.FIG_CONFIG)\n",
    "\n",
    "# save figures\n",
    "if SAVEFIGS:\n",
    "    fig.update_layout(autosize=True, width=None, height=None)\n",
    "    tfb.save_fig_html(fig, format='large', name=f'./fig-calc-xp-vs-xp-log-log-large', selector={'name': 'none'})\n",
    "    tfb.save_fig_html(fig, format='small', name=f'./fig-calc-xp-vs-xp-log-log-small', selector={'name': 'none'})"
   ]
  },
  {
   "cell_type": "code",
   "execution_count": 5,
   "metadata": {},
   "outputs": [
    {
     "data": {
      "application/vnd.plotly.v1+json": {
       "config": {
        "autosizable": true,
        "displayModeBar": "hover",
        "displaylogo": false,
        "doubleClick": "reset",
        "modeBarButtonsToRemove": [
         "select2d",
         "lasso2d",
         "zoom2d",
         "zoomIn2d",
         "zoomOut2d",
         "pan2d",
         "autoScale2d",
         "hoverClosestCartesian",
         "hoverCompareCartesian",
         "toggleSpikelines",
         "resetScale2d"
        ],
        "plotlyServerURL": "https://plot.ly",
        "responsive": true,
        "showAxisDragHandles": false,
        "toImageButtonOptions": {
         "filename": "tfb-plot",
         "format": "png",
         "height": 450,
         "scale": 2,
         "width": 600
        }
       },
       "data": [
        {
         "hoverinfo": "skip",
         "legendgroup": "mean",
         "line": {
          "width": 0
         },
         "showlegend": false,
         "type": "scatter",
         "x": [
          0.125,
          0.25,
          0.5,
          1,
          2,
          3,
          4,
          5,
          6,
          7,
          8,
          9,
          10,
          11,
          12,
          13,
          14,
          15,
          16,
          17,
          18,
          19,
          20,
          21,
          22,
          23,
          24,
          25,
          26,
          27,
          28,
          30
         ],
         "y": [
          0.14280780747747748,
          0.22521879021879027,
          0.3779391100702577,
          0.7367599913746632,
          1.6421237899677328,
          2.6855740922473013,
          3.6103538080416695,
          4.823515375968659,
          6.117067638134896,
          7.10252435712007,
          7.863800816961681,
          9.268410266747296,
          10.327416856565659,
          11.65240242949065,
          13.213576082569336,
          14.610073006567875,
          16.457018990491946,
          17.553282463505038,
          17.8050107224522,
          19.707129663834504,
          20.368817152096764,
          20.294173438889004,
          20.701324626390317,
          21.7993597993598,
          22.495236058465508,
          24.47046297503935,
          25.194628523059045,
          26.39984181413573,
          26.969100287618435,
          27.839964042184832,
          28.11226085689097,
          30
         ]
        },
        {
         "fill": "tonexty",
         "fillcolor": "rgba(0, 0, 255, 0.4)",
         "hoverinfo": "skip",
         "legendgroup": "mean",
         "line": {
          "width": 0
         },
         "name": "60% confidence",
         "type": "scatter",
         "x": [
          0.125,
          0.25,
          0.5,
          1,
          2,
          3,
          4,
          5,
          6,
          7,
          8,
          9,
          10,
          11,
          12,
          13,
          14,
          15,
          16,
          17,
          18,
          19,
          20,
          21,
          22,
          23,
          24,
          25,
          26,
          27,
          28,
          30
         ],
         "y": [
          0.0821953781512605,
          0.15878378256756756,
          0.22707529127413129,
          0.45110070257611246,
          0.848158131176999,
          1.8982692975066005,
          2.880204946601243,
          3.852239105702006,
          4.713439396111031,
          5.516954177543134,
          6.499849787943639,
          7.892544529969155,
          8.425102109748925,
          9.853687510958812,
          11.262443342388083,
          11.972861524187522,
          12.509311732203209,
          13.697932951219514,
          15.385325996515471,
          16.167022140041848,
          17.300820138792716,
          17.932262231854487,
          18.730266015916985,
          20.35577449948552,
          21.097891327723755,
          22.470781640623336,
          23.287217903286315,
          23.876570201188514,
          25.427828223974135,
          26.32750389625924,
          26.992348204202685,
          29.0250797254681
         ]
        },
        {
         "hovertemplate": "<b>mean</b><br>CR %{x:,.0f}<br>Calc CR %{y:,.1f}<br><extra></extra>",
         "legendgroup": "mean",
         "line": {
          "color": "blue"
         },
         "mode": "lines",
         "name": "mean",
         "type": "scatter",
         "x": [
          0.125,
          0.25,
          0.5,
          1,
          2,
          3,
          4,
          5,
          6,
          7,
          8,
          9,
          10,
          11,
          12,
          13,
          14,
          15,
          16,
          17,
          18,
          19,
          20,
          21,
          22,
          23,
          24,
          25,
          26,
          27,
          28,
          30
         ],
         "y": [
          0.11239348977483786,
          0.19179877062458664,
          0.2972541462519456,
          0.5877338086473867,
          1.2228858637994413,
          2.2498469285877687,
          3.2046408677076568,
          4.374388979412886,
          5.415573901923347,
          6.297922199112219,
          7.244614486979942,
          8.550499396268817,
          9.47311970141404,
          10.794489850699353,
          12.310651138528817,
          12.988358449334545,
          14.393119216022967,
          15.414196189268496,
          16.708647604091357,
          17.638093801621554,
          19.157756913838682,
          19.334302197398095,
          19.855589097500673,
          21.15366916663423,
          21.61195442109864,
          23.510437140572954,
          24.372749910192194,
          25.390644789314397,
          25.995256239736687,
          27.03311122000993,
          27.613991551535793,
          29.48486088865545
         ]
        },
        {
         "hovertemplate": "<b>DMG</b><br>CR %{x:,.0f}<extra></extra>",
         "line": {
          "color": "black",
          "dash": "dash"
         },
         "mode": "lines",
         "name": "DMG",
         "type": "scatter",
         "x": [
          0.125,
          0.25,
          0.5,
          1,
          2,
          3,
          4,
          5,
          6,
          7,
          8,
          9,
          10,
          11,
          12,
          13,
          14,
          15,
          16,
          17,
          18,
          19,
          20,
          21,
          22,
          23,
          24,
          25,
          26,
          27,
          28,
          30
         ],
         "y": [
          0.125,
          0.25,
          0.5,
          1,
          2,
          3,
          4,
          5,
          6,
          7,
          8,
          9,
          10,
          11,
          12,
          13,
          14,
          15,
          16,
          17,
          18,
          19,
          20,
          21,
          22,
          23,
          24,
          25,
          26,
          27,
          28,
          30
         ]
        }
       ],
       "layout": {
        "height": 450,
        "legend": {
         "orientation": "v",
         "tracegroupgap": 0,
         "x": 0,
         "xanchor": "left",
         "y": 1,
         "yanchor": "top"
        },
        "margin": {
         "b": 55,
         "l": 70,
         "pad": 4,
         "r": 25,
         "t": 20
        },
        "template": {
         "layout": {
          "autosize": false,
          "font": {
           "family": "sans-serif",
           "size": 14
          },
          "hoverlabel": {
           "align": "left"
          },
          "hovermode": "closest",
          "margin": {
           "b": 55,
           "l": 60,
           "pad": 4,
           "r": 25,
           "t": 20
          },
          "template": {
           "data": {
            "bar": [
             {
              "error_x": {
               "color": "#2a3f5f"
              },
              "error_y": {
               "color": "#2a3f5f"
              },
              "marker": {
               "line": {
                "color": "white",
                "width": 0.5
               },
               "pattern": {
                "fillmode": "overlay",
                "size": 10,
                "solidity": 0.2
               }
              },
              "type": "bar"
             }
            ],
            "barpolar": [
             {
              "marker": {
               "line": {
                "color": "white",
                "width": 0.5
               },
               "pattern": {
                "fillmode": "overlay",
                "size": 10,
                "solidity": 0.2
               }
              },
              "type": "barpolar"
             }
            ],
            "carpet": [
             {
              "aaxis": {
               "endlinecolor": "#2a3f5f",
               "gridcolor": "#C8D4E3",
               "linecolor": "#C8D4E3",
               "minorgridcolor": "#C8D4E3",
               "startlinecolor": "#2a3f5f"
              },
              "baxis": {
               "endlinecolor": "#2a3f5f",
               "gridcolor": "#C8D4E3",
               "linecolor": "#C8D4E3",
               "minorgridcolor": "#C8D4E3",
               "startlinecolor": "#2a3f5f"
              },
              "type": "carpet"
             }
            ],
            "choropleth": [
             {
              "colorbar": {
               "outlinewidth": 0,
               "ticks": ""
              },
              "type": "choropleth"
             }
            ],
            "contour": [
             {
              "colorbar": {
               "outlinewidth": 0,
               "ticks": ""
              },
              "colorscale": [
               [
                0,
                "#0d0887"
               ],
               [
                0.1111111111111111,
                "#46039f"
               ],
               [
                0.2222222222222222,
                "#7201a8"
               ],
               [
                0.3333333333333333,
                "#9c179e"
               ],
               [
                0.4444444444444444,
                "#bd3786"
               ],
               [
                0.5555555555555556,
                "#d8576b"
               ],
               [
                0.6666666666666666,
                "#ed7953"
               ],
               [
                0.7777777777777778,
                "#fb9f3a"
               ],
               [
                0.8888888888888888,
                "#fdca26"
               ],
               [
                1,
                "#f0f921"
               ]
              ],
              "type": "contour"
             }
            ],
            "contourcarpet": [
             {
              "colorbar": {
               "outlinewidth": 0,
               "ticks": ""
              },
              "type": "contourcarpet"
             }
            ],
            "heatmap": [
             {
              "colorbar": {
               "outlinewidth": 0,
               "ticks": ""
              },
              "colorscale": [
               [
                0,
                "#0d0887"
               ],
               [
                0.1111111111111111,
                "#46039f"
               ],
               [
                0.2222222222222222,
                "#7201a8"
               ],
               [
                0.3333333333333333,
                "#9c179e"
               ],
               [
                0.4444444444444444,
                "#bd3786"
               ],
               [
                0.5555555555555556,
                "#d8576b"
               ],
               [
                0.6666666666666666,
                "#ed7953"
               ],
               [
                0.7777777777777778,
                "#fb9f3a"
               ],
               [
                0.8888888888888888,
                "#fdca26"
               ],
               [
                1,
                "#f0f921"
               ]
              ],
              "type": "heatmap"
             }
            ],
            "heatmapgl": [
             {
              "colorbar": {
               "outlinewidth": 0,
               "ticks": ""
              },
              "colorscale": [
               [
                0,
                "#0d0887"
               ],
               [
                0.1111111111111111,
                "#46039f"
               ],
               [
                0.2222222222222222,
                "#7201a8"
               ],
               [
                0.3333333333333333,
                "#9c179e"
               ],
               [
                0.4444444444444444,
                "#bd3786"
               ],
               [
                0.5555555555555556,
                "#d8576b"
               ],
               [
                0.6666666666666666,
                "#ed7953"
               ],
               [
                0.7777777777777778,
                "#fb9f3a"
               ],
               [
                0.8888888888888888,
                "#fdca26"
               ],
               [
                1,
                "#f0f921"
               ]
              ],
              "type": "heatmapgl"
             }
            ],
            "histogram": [
             {
              "marker": {
               "pattern": {
                "fillmode": "overlay",
                "size": 10,
                "solidity": 0.2
               }
              },
              "type": "histogram"
             }
            ],
            "histogram2d": [
             {
              "colorbar": {
               "outlinewidth": 0,
               "ticks": ""
              },
              "colorscale": [
               [
                0,
                "#0d0887"
               ],
               [
                0.1111111111111111,
                "#46039f"
               ],
               [
                0.2222222222222222,
                "#7201a8"
               ],
               [
                0.3333333333333333,
                "#9c179e"
               ],
               [
                0.4444444444444444,
                "#bd3786"
               ],
               [
                0.5555555555555556,
                "#d8576b"
               ],
               [
                0.6666666666666666,
                "#ed7953"
               ],
               [
                0.7777777777777778,
                "#fb9f3a"
               ],
               [
                0.8888888888888888,
                "#fdca26"
               ],
               [
                1,
                "#f0f921"
               ]
              ],
              "type": "histogram2d"
             }
            ],
            "histogram2dcontour": [
             {
              "colorbar": {
               "outlinewidth": 0,
               "ticks": ""
              },
              "colorscale": [
               [
                0,
                "#0d0887"
               ],
               [
                0.1111111111111111,
                "#46039f"
               ],
               [
                0.2222222222222222,
                "#7201a8"
               ],
               [
                0.3333333333333333,
                "#9c179e"
               ],
               [
                0.4444444444444444,
                "#bd3786"
               ],
               [
                0.5555555555555556,
                "#d8576b"
               ],
               [
                0.6666666666666666,
                "#ed7953"
               ],
               [
                0.7777777777777778,
                "#fb9f3a"
               ],
               [
                0.8888888888888888,
                "#fdca26"
               ],
               [
                1,
                "#f0f921"
               ]
              ],
              "type": "histogram2dcontour"
             }
            ],
            "mesh3d": [
             {
              "colorbar": {
               "outlinewidth": 0,
               "ticks": ""
              },
              "type": "mesh3d"
             }
            ],
            "parcoords": [
             {
              "line": {
               "colorbar": {
                "outlinewidth": 0,
                "ticks": ""
               }
              },
              "type": "parcoords"
             }
            ],
            "pie": [
             {
              "automargin": true,
              "type": "pie"
             }
            ],
            "scatter": [
             {
              "fillpattern": {
               "fillmode": "overlay",
               "size": 10,
               "solidity": 0.2
              },
              "type": "scatter"
             }
            ],
            "scatter3d": [
             {
              "line": {
               "colorbar": {
                "outlinewidth": 0,
                "ticks": ""
               }
              },
              "marker": {
               "colorbar": {
                "outlinewidth": 0,
                "ticks": ""
               }
              },
              "type": "scatter3d"
             }
            ],
            "scattercarpet": [
             {
              "marker": {
               "colorbar": {
                "outlinewidth": 0,
                "ticks": ""
               }
              },
              "type": "scattercarpet"
             }
            ],
            "scattergeo": [
             {
              "marker": {
               "colorbar": {
                "outlinewidth": 0,
                "ticks": ""
               }
              },
              "type": "scattergeo"
             }
            ],
            "scattergl": [
             {
              "marker": {
               "colorbar": {
                "outlinewidth": 0,
                "ticks": ""
               }
              },
              "type": "scattergl"
             }
            ],
            "scattermapbox": [
             {
              "marker": {
               "colorbar": {
                "outlinewidth": 0,
                "ticks": ""
               }
              },
              "type": "scattermapbox"
             }
            ],
            "scatterpolar": [
             {
              "marker": {
               "colorbar": {
                "outlinewidth": 0,
                "ticks": ""
               }
              },
              "type": "scatterpolar"
             }
            ],
            "scatterpolargl": [
             {
              "marker": {
               "colorbar": {
                "outlinewidth": 0,
                "ticks": ""
               }
              },
              "type": "scatterpolargl"
             }
            ],
            "scatterternary": [
             {
              "marker": {
               "colorbar": {
                "outlinewidth": 0,
                "ticks": ""
               }
              },
              "type": "scatterternary"
             }
            ],
            "surface": [
             {
              "colorbar": {
               "outlinewidth": 0,
               "ticks": ""
              },
              "colorscale": [
               [
                0,
                "#0d0887"
               ],
               [
                0.1111111111111111,
                "#46039f"
               ],
               [
                0.2222222222222222,
                "#7201a8"
               ],
               [
                0.3333333333333333,
                "#9c179e"
               ],
               [
                0.4444444444444444,
                "#bd3786"
               ],
               [
                0.5555555555555556,
                "#d8576b"
               ],
               [
                0.6666666666666666,
                "#ed7953"
               ],
               [
                0.7777777777777778,
                "#fb9f3a"
               ],
               [
                0.8888888888888888,
                "#fdca26"
               ],
               [
                1,
                "#f0f921"
               ]
              ],
              "type": "surface"
             }
            ],
            "table": [
             {
              "cells": {
               "fill": {
                "color": "#EBF0F8"
               },
               "line": {
                "color": "white"
               }
              },
              "header": {
               "fill": {
                "color": "#C8D4E3"
               },
               "line": {
                "color": "white"
               }
              },
              "type": "table"
             }
            ]
           },
           "layout": {
            "annotationdefaults": {
             "arrowcolor": "#2a3f5f",
             "arrowhead": 0,
             "arrowwidth": 1
            },
            "autotypenumbers": "strict",
            "coloraxis": {
             "colorbar": {
              "outlinewidth": 0,
              "ticks": ""
             }
            },
            "colorscale": {
             "diverging": [
              [
               0,
               "#8e0152"
              ],
              [
               0.1,
               "#c51b7d"
              ],
              [
               0.2,
               "#de77ae"
              ],
              [
               0.3,
               "#f1b6da"
              ],
              [
               0.4,
               "#fde0ef"
              ],
              [
               0.5,
               "#f7f7f7"
              ],
              [
               0.6,
               "#e6f5d0"
              ],
              [
               0.7,
               "#b8e186"
              ],
              [
               0.8,
               "#7fbc41"
              ],
              [
               0.9,
               "#4d9221"
              ],
              [
               1,
               "#276419"
              ]
             ],
             "sequential": [
              [
               0,
               "#0d0887"
              ],
              [
               0.1111111111111111,
               "#46039f"
              ],
              [
               0.2222222222222222,
               "#7201a8"
              ],
              [
               0.3333333333333333,
               "#9c179e"
              ],
              [
               0.4444444444444444,
               "#bd3786"
              ],
              [
               0.5555555555555556,
               "#d8576b"
              ],
              [
               0.6666666666666666,
               "#ed7953"
              ],
              [
               0.7777777777777778,
               "#fb9f3a"
              ],
              [
               0.8888888888888888,
               "#fdca26"
              ],
              [
               1,
               "#f0f921"
              ]
             ],
             "sequentialminus": [
              [
               0,
               "#0d0887"
              ],
              [
               0.1111111111111111,
               "#46039f"
              ],
              [
               0.2222222222222222,
               "#7201a8"
              ],
              [
               0.3333333333333333,
               "#9c179e"
              ],
              [
               0.4444444444444444,
               "#bd3786"
              ],
              [
               0.5555555555555556,
               "#d8576b"
              ],
              [
               0.6666666666666666,
               "#ed7953"
              ],
              [
               0.7777777777777778,
               "#fb9f3a"
              ],
              [
               0.8888888888888888,
               "#fdca26"
              ],
              [
               1,
               "#f0f921"
              ]
             ]
            },
            "colorway": [
             "#636efa",
             "#EF553B",
             "#00cc96",
             "#ab63fa",
             "#FFA15A",
             "#19d3f3",
             "#FF6692",
             "#B6E880",
             "#FF97FF",
             "#FECB52"
            ],
            "font": {
             "color": "#2a3f5f"
            },
            "geo": {
             "bgcolor": "white",
             "lakecolor": "white",
             "landcolor": "white",
             "showlakes": true,
             "showland": true,
             "subunitcolor": "#C8D4E3"
            },
            "hoverlabel": {
             "align": "left"
            },
            "hovermode": "closest",
            "mapbox": {
             "style": "light"
            },
            "paper_bgcolor": "white",
            "plot_bgcolor": "white",
            "polar": {
             "angularaxis": {
              "gridcolor": "#EBF0F8",
              "linecolor": "#EBF0F8",
              "ticks": ""
             },
             "bgcolor": "white",
             "radialaxis": {
              "gridcolor": "#EBF0F8",
              "linecolor": "#EBF0F8",
              "ticks": ""
             }
            },
            "scene": {
             "xaxis": {
              "backgroundcolor": "white",
              "gridcolor": "#DFE8F3",
              "gridwidth": 2,
              "linecolor": "#EBF0F8",
              "showbackground": true,
              "ticks": "",
              "zerolinecolor": "#EBF0F8"
             },
             "yaxis": {
              "backgroundcolor": "white",
              "gridcolor": "#DFE8F3",
              "gridwidth": 2,
              "linecolor": "#EBF0F8",
              "showbackground": true,
              "ticks": "",
              "zerolinecolor": "#EBF0F8"
             },
             "zaxis": {
              "backgroundcolor": "white",
              "gridcolor": "#DFE8F3",
              "gridwidth": 2,
              "linecolor": "#EBF0F8",
              "showbackground": true,
              "ticks": "",
              "zerolinecolor": "#EBF0F8"
             }
            },
            "shapedefaults": {
             "line": {
              "color": "#2a3f5f"
             }
            },
            "ternary": {
             "aaxis": {
              "gridcolor": "#DFE8F3",
              "linecolor": "#A2B1C6",
              "ticks": ""
             },
             "baxis": {
              "gridcolor": "#DFE8F3",
              "linecolor": "#A2B1C6",
              "ticks": ""
             },
             "bgcolor": "white",
             "caxis": {
              "gridcolor": "#DFE8F3",
              "linecolor": "#A2B1C6",
              "ticks": ""
             }
            },
            "title": {
             "x": 0.05
            },
            "xaxis": {
             "automargin": true,
             "gridcolor": "#EBF0F8",
             "linecolor": "#EBF0F8",
             "ticks": "",
             "title": {
              "standoff": 15
             },
             "zerolinecolor": "#EBF0F8",
             "zerolinewidth": 2
            },
            "yaxis": {
             "automargin": true,
             "gridcolor": "#EBF0F8",
             "linecolor": "#EBF0F8",
             "ticks": "",
             "title": {
              "standoff": 15
             },
             "zerolinecolor": "#EBF0F8",
             "zerolinewidth": 2
            }
           }
          },
          "xaxis": {
           "automargin": false,
           "linecolor": "#444",
           "linewidth": 2,
           "minor": {
            "tickmode": "linear",
            "ticks": "outside"
           },
           "mirror": true,
           "showline": true,
           "tickmode": "linear",
           "ticks": "outside",
           "zeroline": false
          },
          "yaxis": {
           "automargin": true,
           "linecolor": "#444",
           "linewidth": 2,
           "minor": {
            "tickmode": "linear",
            "ticks": "outside"
           },
           "mirror": true,
           "showline": true,
           "ticks": "outside",
           "zeroline": false
          }
         }
        },
        "width": 600,
        "xaxis": {
         "dtick": 5,
         "minor": {
          "dtick": 1,
          "tick0": 0
         },
         "range": [
          0,
          30
         ],
         "tick0": 0,
         "title": {
          "text": "CR"
         }
        },
        "yaxis": {
         "dtick": 5,
         "minor": {
          "dtick": 1,
          "tick0": 0
         },
         "range": [
          0,
          30
         ],
         "tick0": 0,
         "title": {
          "text": "calculated CR"
         }
        }
       }
      }
     },
     "metadata": {},
     "output_type": "display_data"
    }
   ],
   "source": [
    "# Fig. 2: calculated XP vs target XP\n",
    "xCol = 'CR'\n",
    "yCol = 'eCR'\n",
    "\n",
    "conf = 0.6\n",
    "#df1 = df0[df0['CR'].between(0,30)]\n",
    "dfG = df1[[xCol,yCol]].groupby(xCol).mean().reset_index()\n",
    "dfU = df1[[xCol,yCol]].groupby(xCol).quantile(0.5 + conf/2).reset_index()\n",
    "dfL = df1[[xCol,yCol]].groupby(xCol).quantile(0.5 - conf/2).reset_index()\n",
    "\n",
    "# create figure\n",
    "fig = go.Figure(\n",
    "    layout=go.Layout(\n",
    "        template=tfb.FIG_TEMPLATE,\n",
    "        margin=dict(l=70, r=25, b=55, t=20, pad=4),\n",
    "        xaxis=dict(\n",
    "            title_text='CR',\n",
    "            range=[0,30],\n",
    "            tick0=0, dtick=5,\n",
    "            minor=dict(tick0=0, dtick=1),\n",
    "        ),\n",
    "        yaxis=dict(\n",
    "            title_text='calculated CR',\n",
    "            range=[0,30],\n",
    "            tick0=0, dtick=5,\n",
    "            minor=dict(tick0=0, dtick=1),\n",
    "        ),\n",
    "        legend=dict(\n",
    "            xanchor='left', yanchor='top',\n",
    "            x=0.00, y=1.00,\n",
    "            orientation='v',\n",
    "            tracegroupgap=0,\n",
    "        )\n",
    "    )\n",
    ")\n",
    "\n",
    "# plot monster confidence interval and average\n",
    "fig.add_trace(go.Scatter(x=dfG[xCol], y=dfU[yCol], line_width=0, legendgroup='mean', showlegend=False, hoverinfo='skip'))\n",
    "fig.add_trace(go.Scatter(x=dfG[xCol], y=dfL[yCol], line_width=0, name=f'{conf:.0%} confidence', legendgroup='mean', hoverinfo='skip', fill='tonexty', fillcolor='rgba(0, 0, 255, 0.4)'))\n",
    "fig.add_trace(go.Scatter(\n",
    "    x=dfG[xCol], y=dfG[yCol],\n",
    "    mode='lines', \n",
    "    name='mean',\n",
    "    legendgroup='mean', \n",
    "    line=dict(color='blue'),\n",
    "    hovertemplate='<b>mean</b><br>' + 'CR %{x:,.0f}<br>' + 'Calc CR %{y:,.1f}<br>' + '<extra></extra>'\n",
    "))\n",
    "\n",
    "# plot reference line\n",
    "fig.add_trace(go.Scatter(\n",
    "    x=dfG[xCol], y=dfG[xCol],\n",
    "    mode='lines', \n",
    "    name='DMG',\n",
    "    line=dict(color='black', dash='dash'),\n",
    "    hovertemplate='<b>DMG</b><br>' + 'CR %{x:,.0f}' + '<extra></extra>'\n",
    "))\n",
    "\n",
    "# show figure\n",
    "fig.update_layout(width=600, height=450)\n",
    "fig.show(config=tfb.FIG_CONFIG)\n",
    "\n",
    "# save figures\n",
    "if SAVEFIGS:\n",
    "    fig.update_layout(autosize=True, width=None, height=None)\n",
    "    tfb.save_fig_html(fig, format='large', name=f'./fig-xp-cr-vs-cr-large', selector={'name': 'none'})\n",
    "    tfb.save_fig_html(fig, format='small', name=f'./fig-xp-cr-vs-cr-small', selector={'name': 'none'})"
   ]
  },
  {
   "cell_type": "code",
   "execution_count": null,
   "metadata": {},
   "outputs": [
    {
     "data": {
      "application/vnd.plotly.v1+json": {
       "config": {
        "autosizable": true,
        "displayModeBar": "hover",
        "displaylogo": false,
        "doubleClick": "reset",
        "modeBarButtonsToRemove": [
         "select2d",
         "lasso2d",
         "zoom2d",
         "zoomIn2d",
         "zoomOut2d",
         "pan2d",
         "autoScale2d",
         "hoverClosestCartesian",
         "hoverCompareCartesian",
         "toggleSpikelines",
         "resetScale2d"
        ],
        "plotlyServerURL": "https://plot.ly",
        "responsive": true,
        "showAxisDragHandles": false,
        "toImageButtonOptions": {
         "filename": "tfb-plot",
         "format": "png",
         "height": 450,
         "scale": 2,
         "width": 600
        }
       },
       "data": [
        {
         "hovertemplate": "<b>mean</b><br>CR %{x:,.0f}<br>CR delta %{y:,.1f}<br><extra></extra>",
         "line": {
          "color": "rgba(0,0,250,1)"
         },
         "mode": "lines",
         "name": "eCR Delta - mean",
         "type": "scatter",
         "x": [
          0.125,
          0.25,
          0.5,
          1,
          2,
          3,
          4,
          5,
          6,
          7,
          8,
          9,
          10,
          11,
          12,
          13,
          14,
          15,
          16,
          17,
          18,
          19,
          20,
          21,
          22,
          23,
          24,
          25,
          26,
          27,
          28,
          30
         ],
         "y": [
          -0.013843332037660267,
          -0.05851520362149692,
          -0.2061091419860601,
          -0.41896553315449014,
          -0.7559670911266664,
          -0.7504320515635134,
          -0.7692815245551882,
          -0.5954481669585464,
          -0.5895586153944589,
          -0.696384702074788,
          -0.749262655317457,
          -0.45263788900381763,
          -0.5607512131256538,
          -0.23610245756704915,
          0.3672576768360542,
          0.00213052938962638,
          0.43450462504143167,
          0.713027429262928,
          0.7774057999456276,
          0.7246543372638056,
          1.1952562724704239,
          0.6475079895911472,
          0.044259099169978944,
          0.18750585278591927,
          -0.4288399468878292,
          0.6202904575601422,
          0.40750241608116955,
          0.518734825584537,
          0.1239007350709791,
          0.033111220009929276,
          -0.3860084484642101,
          -0.5151391113445483
         ]
        },
        {
         "hoverinfo": "skip",
         "legendgroup": "eCR Delta confidence",
         "line": {
          "width": 0
         },
         "showlegend": false,
         "type": "scatter",
         "x": [
          0.125,
          0.25,
          0.5,
          1,
          2,
          3,
          4,
          5,
          6,
          7,
          8,
          9,
          10,
          11,
          12,
          13,
          14,
          15,
          16,
          17,
          18,
          19,
          20,
          21,
          22,
          23,
          24,
          25,
          26,
          27,
          28,
          30
         ],
         "y": [
          0.016640926640926666,
          -0.022181467181467157,
          -0.12412177985948475,
          -0.268493573405211,
          -0.31123496626576697,
          -0.3193719332679092,
          -0.3612680802049586,
          -0.1688403959677034,
          0.09364580986781605,
          0.1005636500825292,
          -0.09838552810737228,
          0.27496136531613335,
          0.2514754532221784,
          0.5893662534470767,
          1.4824857291126112,
          1.6631059002334028,
          2.503449274150488,
          3.0004458419390123,
          1.6614576116483306,
          2.7971924639822667,
          2.417701481384263,
          1.3669257168989406,
          0.796266353079524,
          0.8852651226083211,
          0.37622176137103275,
          1.607552489086018,
          1.2141345595145019,
          1.5913569422239093,
          1.0530408390219066,
          0.8399640421848318,
          0.11226085689097065,
          0
         ]
        },
        {
         "fill": "tonexty",
         "fillcolor": "rgba(0,0,250,0.3)",
         "hoverinfo": "skip",
         "legendgroup": "eCR Delta confidence",
         "line": {
          "width": 0
         },
         "name": "eCR Delta - 60% confidence",
         "type": "scatter",
         "x": [
          0.125,
          0.25,
          0.5,
          1,
          2,
          3,
          4,
          5,
          6,
          7,
          8,
          9,
          10,
          11,
          12,
          13,
          14,
          15,
          16,
          17,
          18,
          19,
          20,
          21,
          22,
          23,
          24,
          25,
          26,
          27,
          28,
          30
         ],
         "y": [
          -0.04595588235294118,
          -0.09301801801801801,
          -0.27883955006435,
          -0.5662763375878219,
          -1.1540880503144655,
          -1.1017307024933995,
          -1.1118743866535818,
          -1.1069046560376035,
          -1.2852993168028284,
          -1.4549338703532364,
          -1.5099695241562974,
          -0.958251695553881,
          -1.3305213747012585,
          -1.1326739211180534,
          -0.7335636660910807,
          -1.06598283549393,
          -1.498594734426503,
          -0.847884858363614,
          -0.5803737363986158,
          -0.8735445152709502,
          -0.48583240531167016,
          0.09778409228492754,
          -1.2291107886675725,
          -0.6442255005144801,
          -1.0776803680155154,
          -0.42389854440568797,
          -0.7287606501038155,
          -0.9927033010953621,
          -0.5721717760258649,
          -0.6724961037407589,
          -1.0076517957973152,
          -0.9749202745319003
         ]
        },
        {
         "hovertemplate": "<b>mean</b><br>CR %{x:,.0f}<br>CR delta %{y:,.1f}<br><extra></extra>",
         "line": {
          "color": "rgba(250,0,0,1)"
         },
         "mode": "lines",
         "name": "C-CR DMG Delta - mean",
         "type": "scatter",
         "x": [
          0.125,
          0.25,
          0.5,
          1,
          2,
          3,
          4,
          5,
          6,
          7,
          8,
          9,
          10,
          11,
          12,
          13,
          14,
          15,
          16,
          17,
          18,
          19,
          20,
          21,
          22,
          23,
          24,
          25,
          26,
          27,
          28,
          30
         ],
         "y": [
          -0.08863636363636364,
          -0.0911214953271028,
          -0.16037735849056603,
          -0.203125,
          -0.5714285714285714,
          -0.7294117647058823,
          -0.628099173553719,
          -0.4230769230769231,
          -0.42696629213483145,
          -0.5280898876404494,
          -0.6630434782608695,
          -0.5223880597014925,
          -0.509090909090909,
          -0.30357142857142855,
          0.27906976744186046,
          -0.11627906976744186,
          0.125,
          0.3,
          0.4642857142857143,
          0.38461538461538464,
          0.8695652173913043,
          0.06666666666666667,
          -0.3125,
          0.18181818181818182,
          -0.09090909090909091,
          1,
          1.125,
          1.0833333333333333,
          0.6666666666666666,
          0.375,
          0.14285714285714285,
          -1
         ]
        },
        {
         "hoverinfo": "skip",
         "legendgroup": "C-CR DMG Delta confidence",
         "line": {
          "width": 0
         },
         "showlegend": false,
         "type": "scatter",
         "x": [
          0.125,
          0.25,
          0.5,
          1,
          2,
          3,
          4,
          5,
          6,
          7,
          8,
          9,
          10,
          11,
          12,
          13,
          14,
          15,
          16,
          17,
          18,
          19,
          20,
          21,
          22,
          23,
          24,
          25,
          26,
          27,
          28,
          30
         ],
         "y": [
          -0.125,
          -0.25,
          0.5,
          0,
          0,
          0,
          0,
          0,
          0,
          0,
          0,
          0,
          0,
          1,
          1,
          1,
          2,
          2,
          2,
          2,
          2,
          1,
          1,
          1,
          1,
          2,
          2,
          2,
          1.200000000000001,
          0.6000000000000005,
          0,
          0
         ]
        },
        {
         "fill": "tonexty",
         "fillcolor": "rgba(250,0,0,0.3)",
         "hoverinfo": "skip",
         "legendgroup": "C-CR DMG Delta confidence",
         "line": {
          "width": 0
         },
         "name": "C-CR DMG Delta - 60% confidence",
         "type": "scatter",
         "x": [
          0.125,
          0.25,
          0.5,
          1,
          2,
          3,
          4,
          5,
          6,
          7,
          8,
          9,
          10,
          11,
          12,
          13,
          14,
          15,
          16,
          17,
          18,
          19,
          20,
          21,
          22,
          23,
          24,
          25,
          26,
          27,
          28,
          30
         ],
         "y": [
          -0.125,
          -0.25,
          -0.5,
          -1,
          -1,
          -1,
          -1,
          -1,
          -1,
          -1,
          -2,
          -1,
          -1,
          -1,
          -1,
          -2,
          -1,
          -1,
          -1,
          -1,
          -0.5999999999999996,
          -1,
          -2,
          -1,
          -1,
          0,
          0,
          0,
          0,
          0,
          0,
          -2
         ]
        }
       ],
       "layout": {
        "height": 450,
        "legend": {
         "bgcolor": "rgba(0,0,0,0)",
         "orientation": "v",
         "tracegroupgap": 0,
         "x": 0,
         "xanchor": "left",
         "y": 0,
         "yanchor": "bottom"
        },
        "margin": {
         "b": 55,
         "l": 70,
         "pad": 4,
         "r": 25,
         "t": 20
        },
        "template": {
         "layout": {
          "autosize": false,
          "font": {
           "family": "sans-serif",
           "size": 14
          },
          "hoverlabel": {
           "align": "left"
          },
          "hovermode": "closest",
          "margin": {
           "b": 55,
           "l": 60,
           "pad": 4,
           "r": 25,
           "t": 20
          },
          "template": {
           "data": {
            "bar": [
             {
              "error_x": {
               "color": "#2a3f5f"
              },
              "error_y": {
               "color": "#2a3f5f"
              },
              "marker": {
               "line": {
                "color": "white",
                "width": 0.5
               },
               "pattern": {
                "fillmode": "overlay",
                "size": 10,
                "solidity": 0.2
               }
              },
              "type": "bar"
             }
            ],
            "barpolar": [
             {
              "marker": {
               "line": {
                "color": "white",
                "width": 0.5
               },
               "pattern": {
                "fillmode": "overlay",
                "size": 10,
                "solidity": 0.2
               }
              },
              "type": "barpolar"
             }
            ],
            "carpet": [
             {
              "aaxis": {
               "endlinecolor": "#2a3f5f",
               "gridcolor": "#C8D4E3",
               "linecolor": "#C8D4E3",
               "minorgridcolor": "#C8D4E3",
               "startlinecolor": "#2a3f5f"
              },
              "baxis": {
               "endlinecolor": "#2a3f5f",
               "gridcolor": "#C8D4E3",
               "linecolor": "#C8D4E3",
               "minorgridcolor": "#C8D4E3",
               "startlinecolor": "#2a3f5f"
              },
              "type": "carpet"
             }
            ],
            "choropleth": [
             {
              "colorbar": {
               "outlinewidth": 0,
               "ticks": ""
              },
              "type": "choropleth"
             }
            ],
            "contour": [
             {
              "colorbar": {
               "outlinewidth": 0,
               "ticks": ""
              },
              "colorscale": [
               [
                0,
                "#0d0887"
               ],
               [
                0.1111111111111111,
                "#46039f"
               ],
               [
                0.2222222222222222,
                "#7201a8"
               ],
               [
                0.3333333333333333,
                "#9c179e"
               ],
               [
                0.4444444444444444,
                "#bd3786"
               ],
               [
                0.5555555555555556,
                "#d8576b"
               ],
               [
                0.6666666666666666,
                "#ed7953"
               ],
               [
                0.7777777777777778,
                "#fb9f3a"
               ],
               [
                0.8888888888888888,
                "#fdca26"
               ],
               [
                1,
                "#f0f921"
               ]
              ],
              "type": "contour"
             }
            ],
            "contourcarpet": [
             {
              "colorbar": {
               "outlinewidth": 0,
               "ticks": ""
              },
              "type": "contourcarpet"
             }
            ],
            "heatmap": [
             {
              "colorbar": {
               "outlinewidth": 0,
               "ticks": ""
              },
              "colorscale": [
               [
                0,
                "#0d0887"
               ],
               [
                0.1111111111111111,
                "#46039f"
               ],
               [
                0.2222222222222222,
                "#7201a8"
               ],
               [
                0.3333333333333333,
                "#9c179e"
               ],
               [
                0.4444444444444444,
                "#bd3786"
               ],
               [
                0.5555555555555556,
                "#d8576b"
               ],
               [
                0.6666666666666666,
                "#ed7953"
               ],
               [
                0.7777777777777778,
                "#fb9f3a"
               ],
               [
                0.8888888888888888,
                "#fdca26"
               ],
               [
                1,
                "#f0f921"
               ]
              ],
              "type": "heatmap"
             }
            ],
            "heatmapgl": [
             {
              "colorbar": {
               "outlinewidth": 0,
               "ticks": ""
              },
              "colorscale": [
               [
                0,
                "#0d0887"
               ],
               [
                0.1111111111111111,
                "#46039f"
               ],
               [
                0.2222222222222222,
                "#7201a8"
               ],
               [
                0.3333333333333333,
                "#9c179e"
               ],
               [
                0.4444444444444444,
                "#bd3786"
               ],
               [
                0.5555555555555556,
                "#d8576b"
               ],
               [
                0.6666666666666666,
                "#ed7953"
               ],
               [
                0.7777777777777778,
                "#fb9f3a"
               ],
               [
                0.8888888888888888,
                "#fdca26"
               ],
               [
                1,
                "#f0f921"
               ]
              ],
              "type": "heatmapgl"
             }
            ],
            "histogram": [
             {
              "marker": {
               "pattern": {
                "fillmode": "overlay",
                "size": 10,
                "solidity": 0.2
               }
              },
              "type": "histogram"
             }
            ],
            "histogram2d": [
             {
              "colorbar": {
               "outlinewidth": 0,
               "ticks": ""
              },
              "colorscale": [
               [
                0,
                "#0d0887"
               ],
               [
                0.1111111111111111,
                "#46039f"
               ],
               [
                0.2222222222222222,
                "#7201a8"
               ],
               [
                0.3333333333333333,
                "#9c179e"
               ],
               [
                0.4444444444444444,
                "#bd3786"
               ],
               [
                0.5555555555555556,
                "#d8576b"
               ],
               [
                0.6666666666666666,
                "#ed7953"
               ],
               [
                0.7777777777777778,
                "#fb9f3a"
               ],
               [
                0.8888888888888888,
                "#fdca26"
               ],
               [
                1,
                "#f0f921"
               ]
              ],
              "type": "histogram2d"
             }
            ],
            "histogram2dcontour": [
             {
              "colorbar": {
               "outlinewidth": 0,
               "ticks": ""
              },
              "colorscale": [
               [
                0,
                "#0d0887"
               ],
               [
                0.1111111111111111,
                "#46039f"
               ],
               [
                0.2222222222222222,
                "#7201a8"
               ],
               [
                0.3333333333333333,
                "#9c179e"
               ],
               [
                0.4444444444444444,
                "#bd3786"
               ],
               [
                0.5555555555555556,
                "#d8576b"
               ],
               [
                0.6666666666666666,
                "#ed7953"
               ],
               [
                0.7777777777777778,
                "#fb9f3a"
               ],
               [
                0.8888888888888888,
                "#fdca26"
               ],
               [
                1,
                "#f0f921"
               ]
              ],
              "type": "histogram2dcontour"
             }
            ],
            "mesh3d": [
             {
              "colorbar": {
               "outlinewidth": 0,
               "ticks": ""
              },
              "type": "mesh3d"
             }
            ],
            "parcoords": [
             {
              "line": {
               "colorbar": {
                "outlinewidth": 0,
                "ticks": ""
               }
              },
              "type": "parcoords"
             }
            ],
            "pie": [
             {
              "automargin": true,
              "type": "pie"
             }
            ],
            "scatter": [
             {
              "fillpattern": {
               "fillmode": "overlay",
               "size": 10,
               "solidity": 0.2
              },
              "type": "scatter"
             }
            ],
            "scatter3d": [
             {
              "line": {
               "colorbar": {
                "outlinewidth": 0,
                "ticks": ""
               }
              },
              "marker": {
               "colorbar": {
                "outlinewidth": 0,
                "ticks": ""
               }
              },
              "type": "scatter3d"
             }
            ],
            "scattercarpet": [
             {
              "marker": {
               "colorbar": {
                "outlinewidth": 0,
                "ticks": ""
               }
              },
              "type": "scattercarpet"
             }
            ],
            "scattergeo": [
             {
              "marker": {
               "colorbar": {
                "outlinewidth": 0,
                "ticks": ""
               }
              },
              "type": "scattergeo"
             }
            ],
            "scattergl": [
             {
              "marker": {
               "colorbar": {
                "outlinewidth": 0,
                "ticks": ""
               }
              },
              "type": "scattergl"
             }
            ],
            "scattermapbox": [
             {
              "marker": {
               "colorbar": {
                "outlinewidth": 0,
                "ticks": ""
               }
              },
              "type": "scattermapbox"
             }
            ],
            "scatterpolar": [
             {
              "marker": {
               "colorbar": {
                "outlinewidth": 0,
                "ticks": ""
               }
              },
              "type": "scatterpolar"
             }
            ],
            "scatterpolargl": [
             {
              "marker": {
               "colorbar": {
                "outlinewidth": 0,
                "ticks": ""
               }
              },
              "type": "scatterpolargl"
             }
            ],
            "scatterternary": [
             {
              "marker": {
               "colorbar": {
                "outlinewidth": 0,
                "ticks": ""
               }
              },
              "type": "scatterternary"
             }
            ],
            "surface": [
             {
              "colorbar": {
               "outlinewidth": 0,
               "ticks": ""
              },
              "colorscale": [
               [
                0,
                "#0d0887"
               ],
               [
                0.1111111111111111,
                "#46039f"
               ],
               [
                0.2222222222222222,
                "#7201a8"
               ],
               [
                0.3333333333333333,
                "#9c179e"
               ],
               [
                0.4444444444444444,
                "#bd3786"
               ],
               [
                0.5555555555555556,
                "#d8576b"
               ],
               [
                0.6666666666666666,
                "#ed7953"
               ],
               [
                0.7777777777777778,
                "#fb9f3a"
               ],
               [
                0.8888888888888888,
                "#fdca26"
               ],
               [
                1,
                "#f0f921"
               ]
              ],
              "type": "surface"
             }
            ],
            "table": [
             {
              "cells": {
               "fill": {
                "color": "#EBF0F8"
               },
               "line": {
                "color": "white"
               }
              },
              "header": {
               "fill": {
                "color": "#C8D4E3"
               },
               "line": {
                "color": "white"
               }
              },
              "type": "table"
             }
            ]
           },
           "layout": {
            "annotationdefaults": {
             "arrowcolor": "#2a3f5f",
             "arrowhead": 0,
             "arrowwidth": 1
            },
            "autotypenumbers": "strict",
            "coloraxis": {
             "colorbar": {
              "outlinewidth": 0,
              "ticks": ""
             }
            },
            "colorscale": {
             "diverging": [
              [
               0,
               "#8e0152"
              ],
              [
               0.1,
               "#c51b7d"
              ],
              [
               0.2,
               "#de77ae"
              ],
              [
               0.3,
               "#f1b6da"
              ],
              [
               0.4,
               "#fde0ef"
              ],
              [
               0.5,
               "#f7f7f7"
              ],
              [
               0.6,
               "#e6f5d0"
              ],
              [
               0.7,
               "#b8e186"
              ],
              [
               0.8,
               "#7fbc41"
              ],
              [
               0.9,
               "#4d9221"
              ],
              [
               1,
               "#276419"
              ]
             ],
             "sequential": [
              [
               0,
               "#0d0887"
              ],
              [
               0.1111111111111111,
               "#46039f"
              ],
              [
               0.2222222222222222,
               "#7201a8"
              ],
              [
               0.3333333333333333,
               "#9c179e"
              ],
              [
               0.4444444444444444,
               "#bd3786"
              ],
              [
               0.5555555555555556,
               "#d8576b"
              ],
              [
               0.6666666666666666,
               "#ed7953"
              ],
              [
               0.7777777777777778,
               "#fb9f3a"
              ],
              [
               0.8888888888888888,
               "#fdca26"
              ],
              [
               1,
               "#f0f921"
              ]
             ],
             "sequentialminus": [
              [
               0,
               "#0d0887"
              ],
              [
               0.1111111111111111,
               "#46039f"
              ],
              [
               0.2222222222222222,
               "#7201a8"
              ],
              [
               0.3333333333333333,
               "#9c179e"
              ],
              [
               0.4444444444444444,
               "#bd3786"
              ],
              [
               0.5555555555555556,
               "#d8576b"
              ],
              [
               0.6666666666666666,
               "#ed7953"
              ],
              [
               0.7777777777777778,
               "#fb9f3a"
              ],
              [
               0.8888888888888888,
               "#fdca26"
              ],
              [
               1,
               "#f0f921"
              ]
             ]
            },
            "colorway": [
             "#636efa",
             "#EF553B",
             "#00cc96",
             "#ab63fa",
             "#FFA15A",
             "#19d3f3",
             "#FF6692",
             "#B6E880",
             "#FF97FF",
             "#FECB52"
            ],
            "font": {
             "color": "#2a3f5f"
            },
            "geo": {
             "bgcolor": "white",
             "lakecolor": "white",
             "landcolor": "white",
             "showlakes": true,
             "showland": true,
             "subunitcolor": "#C8D4E3"
            },
            "hoverlabel": {
             "align": "left"
            },
            "hovermode": "closest",
            "mapbox": {
             "style": "light"
            },
            "paper_bgcolor": "white",
            "plot_bgcolor": "white",
            "polar": {
             "angularaxis": {
              "gridcolor": "#EBF0F8",
              "linecolor": "#EBF0F8",
              "ticks": ""
             },
             "bgcolor": "white",
             "radialaxis": {
              "gridcolor": "#EBF0F8",
              "linecolor": "#EBF0F8",
              "ticks": ""
             }
            },
            "scene": {
             "xaxis": {
              "backgroundcolor": "white",
              "gridcolor": "#DFE8F3",
              "gridwidth": 2,
              "linecolor": "#EBF0F8",
              "showbackground": true,
              "ticks": "",
              "zerolinecolor": "#EBF0F8"
             },
             "yaxis": {
              "backgroundcolor": "white",
              "gridcolor": "#DFE8F3",
              "gridwidth": 2,
              "linecolor": "#EBF0F8",
              "showbackground": true,
              "ticks": "",
              "zerolinecolor": "#EBF0F8"
             },
             "zaxis": {
              "backgroundcolor": "white",
              "gridcolor": "#DFE8F3",
              "gridwidth": 2,
              "linecolor": "#EBF0F8",
              "showbackground": true,
              "ticks": "",
              "zerolinecolor": "#EBF0F8"
             }
            },
            "shapedefaults": {
             "line": {
              "color": "#2a3f5f"
             }
            },
            "ternary": {
             "aaxis": {
              "gridcolor": "#DFE8F3",
              "linecolor": "#A2B1C6",
              "ticks": ""
             },
             "baxis": {
              "gridcolor": "#DFE8F3",
              "linecolor": "#A2B1C6",
              "ticks": ""
             },
             "bgcolor": "white",
             "caxis": {
              "gridcolor": "#DFE8F3",
              "linecolor": "#A2B1C6",
              "ticks": ""
             }
            },
            "title": {
             "x": 0.05
            },
            "xaxis": {
             "automargin": true,
             "gridcolor": "#EBF0F8",
             "linecolor": "#EBF0F8",
             "ticks": "",
             "title": {
              "standoff": 15
             },
             "zerolinecolor": "#EBF0F8",
             "zerolinewidth": 2
            },
            "yaxis": {
             "automargin": true,
             "gridcolor": "#EBF0F8",
             "linecolor": "#EBF0F8",
             "ticks": "",
             "title": {
              "standoff": 15
             },
             "zerolinecolor": "#EBF0F8",
             "zerolinewidth": 2
            }
           }
          },
          "xaxis": {
           "automargin": false,
           "linecolor": "#444",
           "linewidth": 2,
           "minor": {
            "tickmode": "linear",
            "ticks": "outside"
           },
           "mirror": true,
           "showline": true,
           "tickmode": "linear",
           "ticks": "outside",
           "zeroline": false
          },
          "yaxis": {
           "automargin": true,
           "linecolor": "#444",
           "linewidth": 2,
           "minor": {
            "tickmode": "linear",
            "ticks": "outside"
           },
           "mirror": true,
           "showline": true,
           "ticks": "outside",
           "zeroline": false
          }
         }
        },
        "width": 600,
        "xaxis": {
         "dtick": 5,
         "minor": {
          "dtick": 1,
          "tick0": 0
         },
         "range": [
          0,
          30
         ],
         "tick0": 0,
         "title": {
          "text": "CR"
         }
        },
        "yaxis": {
         "dtick": 2,
         "minor": {
          "dtick": 1,
          "tick0": 0
         },
         "range": [
          -6,
          6
         ],
         "tick0": 0,
         "title": {
          "text": "calculated CR delta"
         }
        }
       }
      }
     },
     "metadata": {},
     "output_type": "display_data"
    }
   ],
   "source": [
    "# Fig. 3: DMG CR deltas\n",
    "xCol = 'CR'\n",
    "yCols = ['eCR Delta','C-CR DMG Delta']\n",
    "aCols = [xCol] + yCols\n",
    "colors = ['rgba(0,0,250,1)','rgba(250,0,0,1)']\n",
    "fillcolors = ['rgba(0,0,250,0.3)','rgba(250,0,0,0.3)']\n",
    "\n",
    "conf = 0.6\n",
    "df1 = df0[df0[xCol].between(0,30) & df0['Category'].isin(['generic','legendary','unique'])]\n",
    "dfM = df1[aCols].groupby(xCol).mean().reset_index()\n",
    "dfU = df1[aCols].groupby(xCol).quantile(0.5 + conf/2).reset_index()\n",
    "dfL = df1[aCols].groupby(xCol).quantile(0.5 - conf/2).reset_index()\n",
    "\n",
    "# create figure\n",
    "fig = go.Figure(\n",
    "    layout=go.Layout(\n",
    "        template=tfb.FIG_TEMPLATE,\n",
    "        margin=dict(l=70, r=25, b=55, t=20, pad=4),\n",
    "        xaxis=dict(\n",
    "            title_text='CR',\n",
    "            range=[0,30],\n",
    "            tick0=0, dtick=5,\n",
    "            minor=dict(tick0=0, dtick=1),\n",
    "        ),\n",
    "        yaxis=dict(\n",
    "            title_text='calculated CR delta',\n",
    "            range=[-6,6],\n",
    "            tick0=0, dtick=2,\n",
    "            minor=dict(tick0=0, dtick=1),\n",
    "        ),\n",
    "        legend=dict(\n",
    "            xanchor='left', yanchor='bottom',\n",
    "            x=0.00, y=0.00,\n",
    "            orientation='v',\n",
    "            tracegroupgap=0,\n",
    "            bgcolor='rgba(0,0,0,0)',\n",
    "        )\n",
    "    )\n",
    ")\n",
    "\n",
    "for yCol, color, fillcolor in zip(yCols, colors, fillcolors):\n",
    "    fig.add_trace(go.Scatter(\n",
    "        x=dfM[xCol], y=dfM[yCol],\n",
    "        mode='lines', \n",
    "        name=f'{yCol} - mean',\n",
    "        line=dict(color=color),\n",
    "        hovertemplate='<b>mean</b><br>' + 'CR %{x:,.0f}<br>' + 'CR delta %{y:,.1f}<br>' + '<extra></extra>'\n",
    "    ))\n",
    "\n",
    "    fig.add_trace(go.Scatter(x=dfG[xCol], y=dfU[yCol], line_width=0, legendgroup=f'{yCol} confidence', showlegend=False, hoverinfo='skip'))\n",
    "    fig.add_trace(go.Scatter(x=dfG[xCol], y=dfL[yCol], line_width=0, name=f'{yCol} - {conf:.0%} confidence', legendgroup=f'{yCol} confidence', hoverinfo='skip', fill='tonexty', fillcolor=fillcolor))\n",
    "\n",
    "# show figure\n",
    "fig.update_layout(width=600, height=450)\n",
    "fig.show(config=tfb.FIG_CONFIG)\n",
    "\n",
    "# save figures\n",
    "if SAVEFIGS:\n",
    "    fig.update_layout(autosize=True, width=None, height=None)\n",
    "    tfb.save_fig_html(fig, format='large', name=f'./fig-ecr-dmg-cr-delta-vs-cr-large', selector={'name': 'none'})\n",
    "    tfb.save_fig_html(fig, format='small', name=f'./fig-ecr-dmg-cr-delta-vs-cr-small', selector={'name': 'none'})"
   ]
  },
  {
   "cell_type": "code",
   "execution_count": null,
   "metadata": {},
   "outputs": [],
   "source": [
    "# create figure\n",
    "fig = go.Figure(\n",
    "    layout=go.Layout(\n",
    "        template=tfb.FIG_TEMPLATE,\n",
    "        margin=dict(l=70, r=25, b=55, t=20, pad=4),\n",
    "        xaxis=dict(\n",
    "            title_text='CR',\n",
    "            range=[0,30],\n",
    "            tick0=0, dtick=5,\n",
    "            minor=dict(tick0=0, dtick=1),\n",
    "        ),\n",
    "        yaxis=dict(\n",
    "            title_text='XP ratio',\n",
    "            range=[0,3],\n",
    "            tick0=0, dtick=0.5,\n",
    "            minor=dict(tick0=0, dtick=0.1),\n",
    "        ),\n",
    "        legend=dict(\n",
    "            xanchor='left', yanchor='top',\n",
    "            x=0.00, y=1.00,\n",
    "            orientation='v',\n",
    "            tracegroupgap=0,\n",
    "        )\n",
    "    )\n",
    ")\n",
    "\n",
    "# plot monster data\n",
    "df1 = df0[df0['CR'].between(0,30) & df0['Category'].isin(['generic','legacy','legendary','unique'])]\n",
    "fig.add_trace(go.Scatter(\n",
    "    x=df1['CR spread'], y=df1['eXP Ratio'],\n",
    "    mode='markers', \n",
    "    name='monsters',\n",
    "    marker=dict(color='blue', opacity=1),\n",
    "    customdata = np.stack((df1['Monster'], df1['CR'], df1['eXP Ratio']), axis=-1),\n",
    "    hovertemplate = '<b>%{customdata[0]}</b><br>'\n",
    "        + 'CR: %{customdata[1]}<br>'\n",
    "        + 'eXP ratio: %{customdata[2]:.2f}'\n",
    "        + '<extra></extra>'\n",
    "))\n",
    "\n",
    "# plot average\n",
    "xCol = 'CR'\n",
    "yCol = 'eXP Ratio'\n",
    "\n",
    "\n",
    "dfM = df1[[xCol,yCol]].groupby(xCol).mean().reset_index()\n",
    "fig.add_trace(go.Scatter(\n",
    "    x=dfM[xCol], y=dfM[yCol],\n",
    "    mode='lines', \n",
    "    name='mean',\n",
    "    line=dict(color='blue'),\n",
    "    hovertemplate='<b>mean</b><br>' + 'CR %{x:,.0f}<br>' + 'XP ratio %{y:,.2f}<br>' + '<extra></extra>'\n",
    "))\n",
    "\n",
    "conf = 0.6\n",
    "dfU = df1[[xCol,yCol]].groupby(xCol).quantile(0.5 + conf/2).reset_index()\n",
    "dfL = df1[[xCol,yCol]].groupby(xCol).quantile(0.5 - conf/2).reset_index()\n",
    "fig.add_trace(go.Scatter(x=dfG[xCol], y=dfU[yCol], line_width=0, legendgroup='confidence', showlegend=False, hoverinfo='skip'))\n",
    "fig.add_trace(go.Scatter(x=dfG[xCol], y=dfL[yCol], line_width=0, name=f'{conf:.0%} confidence', legendgroup='confidence', hoverinfo='skip', fill='tonexty', fillcolor='rgba(0, 0, 255, 0.2)'))\n",
    "\n",
    "# show figure\n",
    "fig.update_layout(width=600, height=450)\n",
    "fig.show(config=tfb.FIG_CONFIG)\n",
    "\n",
    "# save figures\n",
    "if SAVEFIGS:\n",
    "    #fig.update_layout(autosize=True, width=None, height=None)\n",
    "    #tfb.save_fig_html(fig, format='large', name=f'./fig-xp-ratio-vs-cr-large')\n",
    "    #tfb.save_fig_html(fig, format='small', name=f'./fig-xp-ratio-vs-cr-small')\n",
    "    pass"
   ]
  },
  {
   "cell_type": "code",
   "execution_count": 9,
   "metadata": {},
   "outputs": [
    {
     "data": {
      "application/vnd.plotly.v1+json": {
       "config": {
        "autosizable": true,
        "displayModeBar": "hover",
        "displaylogo": false,
        "doubleClick": "reset",
        "modeBarButtonsToRemove": [
         "select2d",
         "lasso2d",
         "zoom2d",
         "zoomIn2d",
         "zoomOut2d",
         "pan2d",
         "autoScale2d",
         "hoverClosestCartesian",
         "hoverCompareCartesian",
         "toggleSpikelines",
         "resetScale2d"
        ],
        "plotlyServerURL": "https://plot.ly",
        "responsive": true,
        "showAxisDragHandles": false,
        "toImageButtonOptions": {
         "filename": "tfb-plot",
         "format": "png",
         "height": 450,
         "scale": 2,
         "width": 600
        }
       },
       "data": [
        {
         "hovertemplate": "<b>CR 6</b><br>eDPR %{x:,.0f}<br>eHP %{y:,.0f}<br><extra></extra>",
         "legendgroup": "CR = 6",
         "marker": {
          "color": "#1f77b4"
         },
         "mode": "markers",
         "name": "CR = 6",
         "type": "scatter",
         "x": [
          59.04053366446323,
          57.98623842045496,
          50.60617171239706,
          61.67627177448391,
          57.98623842045496,
          57.98623842045496,
          71.63005624843424,
          36.714281438405706,
          53.58300534253806,
          69.58348610454595,
          48.49758122438051,
          37.70655931511938,
          34.41963884850534,
          55.52621759016265,
          39.443044110951476,
          37.21042037676254,
          56.22907827471418,
          44.652504452115046,
          41.67567082197405,
          44.77653918670426,
          47.29858011305534,
          62.203419396488044,
          39.691115068546715,
          61.14912415247977,
          49.20044612611302,
          32.74516993155104,
          80.6535861666328,
          48.84901156665627,
          39.36035437058183,
          34.79174305227298,
          61.27315888706899,
          33.737447808264704,
          46.719751682398325,
          47.44328598037224,
          64.49806198638841,
          58.91649892987403,
          34.60569095038916,
          49.02472884638465,
          48.62161595896972,
          23.194495368181986,
          39.07094139560066,
          50.60617171239706,
          58.91649892987403,
          41.24154925091182,
          19.845557534273357,
          32.99323940072946,
          35.84603829628124,
          97.49130436395149,
          70.12096730835819,
          10.915056643850345,
          62.554849738763814,
          64.82882392470064,
          46.30629925950804,
          26.047294263733775,
          35.349899357924414,
          43.22610500433915,
          72.39493727711402,
          51.945750939106745,
          46.8851296747208,
          34.08887815054047,
          52.02016210515097,
          37.95462878429779,
          35.72200356169204,
          60.62197653047564,
          65.11823565933445,
          34.79174305227298,
          46.38899073636397,
          46.38899073636397,
          46.38899073636397,
          46.38899073636397,
          47.13319914389922,
          73.80066708057903,
          44.652504452115046,
          48.84901156665627,
          64.16730004807617,
          25.799224794555364,
          20.837834666778615,
          45.3346954923557,
          61.14912415247977,
          34.440312709997215,
          62.51350623296106,
          27.287641609625865,
          23.814669041128028,
          42.66794869868772,
          34.72972568497837,
          57.63480807817919,
          66.48261773981574,
          50.60617171239706,
          47.62933957067287
         ],
         "y": [
          236.8109317310888,
          154.08930489351667,
          163.15338165195882,
          145.0252281350745,
          145.0252281350745,
          154.08930489351667,
          154.5663615650136,
          128.80530130417802,
          131.66764133315974,
          102.1855390346479,
          142.54453344329036,
          167.8762426997787,
          167.54230302973082,
          210.8590488016544,
          170.30923172441317,
          216.39290619101905,
          163.15338165195882,
          257.68693167579556,
          194.6391219707579,
          197.5014619997396,
          125.9429612751963,
          176.74949678962207,
          148.1260964998047,
          181.28153516884313,
          165.72948767804237,
          235.6659957194961,
          150.272851521541,
          165.30013667369514,
          171.74040173890404,
          175.1752097736821,
          206.80406709393026,
          217.53784220261178,
          142.73535611188913,
          190.05937792438712,
          160.2910416229771,
          145.97934147806842,
          206.80406709393026,
          159.13656447795447,
          168.30559370412595,
          285.0890668865807,
          187.34015489685447,
          201.55644370746376,
          154.5663615650136,
          223.26252226057525,
          253.03085856198527,
          231.13395734027503,
          207.6150634354751,
          200.93627003451772,
          130.2364713186689,
          169.30741271426956,
          170.30923172441314,
          81.14733982163216,
          168.9734730442217,
          194.6391219707579,
          243.29890246344738,
          207.6150634354751,
          141.68583143459583,
          180.32742182584923,
          203.94172706494854,
          285.51841789092794,
          183.61911285917822,
          280.5856519076495,
          128.80530130417802,
          138.91890273991348,
          152.27648954182823,
          171.9312244075028,
          147.60133416115806,
          164.96619700364727,
          147.60133416115806,
          186.52915855530966,
          194.6391219707579,
          172.31286974470038,
          195.35470697800332,
          253.41250389918284,
          158.0011695997917,
          354.3195310542189,
          277.36074880832996,
          165.5863706765933,
          174.03027376208942,
          271.9223027532647,
          169.49823538286836,
          317.71974321697246,
          299.2099443628906,
          147.60133416115806,
          233.56694636490946,
          253.79414923638043,
          135.10244936793782,
          147.60133416115806,
          202.36744004900856
         ]
        },
        {
         "hovertemplate": "<b>CR 9</b><br>eDPR %{x:,.0f}<br>eHP %{y:,.0f}<br><extra></extra>",
         "legendgroup": "CR = 9",
         "marker": {
          "color": "#ff7f0e"
         },
         "mode": "markers",
         "name": "CR = 9",
         "type": "scatter",
         "x": [
          69.12869364882549,
          55.381508994081585,
          74.88597100823462,
          88.06466155833802,
          76.90153544530925,
          84.25059346971986,
          63.671162101997226,
          78.55532876428542,
          76.40539650695241,
          98.60761399842073,
          62.76157570213949,
          74.83428821502599,
          80.31249238299877,
          67.16480878005639,
          35.722003561692034,
          57.304047380214314,
          61.624592454247846,
          66.23454827063733,
          51.350380119932304,
          55.25747425949237,
          53.417627102146106,
          53.58300534253806,
          80.37450801380709,
          72.93242393845458,
          68.34313875865386,
          91.53763412683585,
          69.45945136995675,
          73.05645867304379,
          51.30903661412956,
          68.65322559512688,
          72.74637183657076,
          54.20317901548411,
          68.65322559512688,
          65.11823565933445,
          63.629818844263944,
          67.16480878005639,
          80.09542986098137,
          51.84651905828915,
          61.27315888706899,
          42.17180976033088,
          51.84651905828915,
          76.46741387424701,
          77.37699878568793,
          77.76977858743372,
          85.58396388972021,
          55.381508994081585,
          112.18941743593905,
          49.11775489732655,
          80.20912506009522,
          48.49758122438051,
          77.02557017989845,
          48.74565218197574,
          93.02605094190635,
          34.977795898365194,
          54.57528321925173,
          81.49082062510996,
          52.921488411858746,
          56.55983897267907,
          75.16505213789397,
          55.877647932438414,
          58.04825578774956,
          80.37450801380709,
          111.75529586487683,
          108.06526251084787,
          93.7702593494416,
          59.30927401829989,
          56.16706388425321
         ],
         "y": [
          284.6120102150837,
          331.74520935898295,
          255.46384758661972,
          206.08848208668482,
          312.71064816625443,
          262.76281466052313,
          329.1691033328994,
          304.5529790836565,
          309.1327231300272,
          267.15173603829516,
          341.0955201203233,
          263.33528266631953,
          252.88774156053623,
          326.59299730681585,
          463.6990846950408,
          324.39853661792984,
          230.1321383301314,
          209.04623344996594,
          406.4522841154062,
          372.1042037676254,
          245.44565748518366,
          279.17356416001843,
          246.54288782962666,
          325.59117829667224,
          255.46384758661972,
          236.14305239099303,
          268.67831738708543,
          288.52387492135875,
          247.3538841711715,
          255.46384758661972,
          299.5438840329385,
          494.3261230051454,
          315.4203300603571,
          347.77431352128065,
          313.61705584209864,
          262.76281466052313,
          273.7923649055328,
          349.87336287586726,
          291.95868295613684,
          200.93627003451772,
          371.2741251592207,
          243.29890246344738,
          303.64657140781225,
          214.81861917507914,
          324.58935928652863,
          338.71023676283846,
          198.45557534273354,
          212.0993961475465,
          336.61118740825185,
          473.45966419386855,
          197.07211099539236,
          329.1691033328994,
          275.5002277894919,
          360.75025498599786,
          335.7524853995574,
          223.83499026637156,
          486.59780492689475,
          329.1691033328994,
          305.5547980938001,
          255.60696458806885,
          343.4808034778081,
          238.14669041128028,
          184.71634320362122,
          181.6631805060407,
          209.90493545866047,
          336.61118740825185,
          357.64938662126764
         ]
        },
        {
         "hovertemplate": "<b>CR 12</b><br>eDPR %{x:,.0f}<br>eHP %{y:,.0f}<br><extra></extra>",
         "legendgroup": "CR = 12",
         "marker": {
          "color": "#2ca02c"
         },
         "mode": "markers",
         "name": "CR = 12",
         "type": "scatter",
         "x": [
          80.37450801380709,
          86.01808843761607,
          116.38592926380022,
          136.29349771556198,
          101.58444762856173,
          144.34542237819136,
          139.8284876513544,
          130.2364713186689,
          101.33637815938333,
          109.39863590768188,
          119.69351887858618,
          97.55331875441246,
          99.96166299323286,
          101.33637815938333,
          88.68483523128405,
          130.59824243676738,
          74.23478865164127,
          127.45602287608087,
          96.00288457204735,
          109.1919082078199,
          73.67663234598983,
          110.70100062086857,
          85.99741928944414,
          108.32367151550166,
          79.44424750438803,
          95.44472826639591,
          81.8629248288776,
          108.53039276555741,
          77.76977858743372,
          127.75577662688472,
          110.76301798816317,
          143.75625738889264,
          118.7012410018725,
          75.66118809941717,
          89.55307837340852,
          55.07142066919174,
          187.5405186988832,
          74.42084075352508,
          70.32769451208121,
          99.22778767136678,
          85.42892344831733,
          70.69979871584883,
          83.10327217476967
         ],
         "y": [
          527.767795677082,
          409.31462414438795,
          434.12157106222963,
          272.87641609625865,
          374.68030979370894,
          271.67423328408626,
          382.93339021060626,
          288.8768968582665,
          412.1769641733697,
          306.55661710394367,
          300.545703043082,
          362.56307033768627,
          503.0562600935398,
          367.38134271980556,
          362.08601366618933,
          560.4461776746235,
          367.09510871690736,
          272.49477075906105,
          471.14116877039345,
          554.72149761666,
          438.0525180353646,
          310.5638931445181,
          427.9198343327692,
          481.73182687762574,
          470.22521996111925,
          377.82888382558883,
          383.27687101408407,
          360.65484365169846,
          533.253947399297,
          311.7088291561108,
          533.253947399297,
          209.90493545866047,
          340.73295704998566,
          593.4584993422129,
          476.86584882835683,
          649.6080695774044,
          350.3504195473642,
          413.3028179181025,
          381.6453371975645,
          299.6679187675277,
          570.5597791103589,
          539.9804464674041,
          428.36826760397634
         ]
        },
        {
         "hovertemplate": "<b>CR 15</b><br>eDPR %{x:,.0f}<br>eHP %{y:,.0f}<br><extra></extra>",
         "legendgroup": "CR = 15",
         "marker": {
          "color": "#d62728"
         },
         "mode": "markers",
         "name": "CR = 15",
         "type": "scatter",
         "x": [
          115.97247684090992,
          167.36419823401974,
          108.53039276555741,
          109.39863590768188,
          213.27772612614396,
          141.39959743169766,
          95.0519479685112,
          144.12836556177177,
          143.26011845053577,
          126.2053424445196,
          63.629818844263944,
          150.64018168562112,
          208.3680139542212,
          119.81755361317538,
          148.84168150705017,
          115.14558191790813,
          151.32237619883435,
          184.99780663980445,
          103.53799469834176,
          115.76575559085417,
          133.95751335634515,
          152.8107964868774,
          116.99576687424344,
          113.11967794535812,
          200.93627003451775,
          153.96845446450405,
          123.24918490849569,
          147.80806235715897,
          73.44923376146966,
          55.381508994081585
         ],
         "y": [
          362.56307033768627,
          652.8043492764341,
          559.0150076601326,
          533.3493587335964,
          429.35100434726013,
          548.7105835557983,
          673.6994314880008,
          708.4291571729791,
          482.7813515549192,
          481.73182687762574,
          488.4869493460227,
          623.4176583122215,
          450.81855456462307,
          486.8840389297929,
          364.9483536951711,
          599.2785907344756,
          385.22326223379173,
          307.0909205760203,
          524.7527975132211,
          412.1769641733697,
          448.6717995428868,
          496.71140636263027,
          691.2551169990887,
          494.6123570080436,
          507.1207829346938,
          739.809945024049,
          510.7845781717903,
          438.79672644289974,
          667.2973309565117,
          737.5391552677233
         ]
        },
        {
         "hoverinfo": "skip",
         "legendgroup": "CR = 6",
         "line": {
          "color": "#1f77b4",
          "dash": "dash"
         },
         "mode": "lines",
         "name": "CR = 6",
         "showlegend": false,
         "type": "scatter",
         "x": [
          9.823550979465312,
          14.410937668430476,
          18.99832435739564,
          23.585711046360807,
          28.173097735325968,
          32.760484424291135,
          37.347871113256296,
          41.93525780222146,
          46.522644491186625,
          51.11003118015179,
          55.697417869116954,
          60.284804558082115,
          64.87219124704728,
          69.45957793601245,
          74.0469646249776,
          78.63435131394277,
          83.22173800290794,
          87.80912469187311,
          92.39651138083828,
          96.98389806980343,
          101.5712847587686,
          106.15867144773377,
          110.74605813669892,
          115.33344482566409,
          119.92083151462926,
          124.50821820359442,
          129.0956048925596,
          133.68299158152476,
          138.2703782704899,
          142.8577649594551,
          147.44515164842025,
          152.03253833738543,
          156.6199250263506,
          161.20731171531574,
          165.79469840428092,
          170.38208509324608,
          174.96947178221126,
          179.5568584711764,
          184.14424516014157,
          188.73163184910675,
          193.3190185380719,
          197.90640522703706,
          202.49379191600224,
          207.0811786049674,
          211.66856529393255,
          216.25595198289773,
          220.84333867186288,
          225.43072536082806,
          230.01811204979322,
          234.60549873875837
         ],
         "y": [
          944.6724998869572,
          643.9579904552575,
          488.46615559155583,
          393.46019474661296,
          329.3936133229082,
          283.26926859047086,
          248.47570115568368,
          221.2944178215322,
          199.47358029693473,
          181.5698063033524,
          166.61523669455508,
          153.9366102215277,
          143.05110222341767,
          133.6034386803706,
          125.32638587602698,
          118.01506983237498,
          111.50978919971845,
          105.68421555393715,
          100.43710874849124,
          95.68638347428792,
          91.36478369431397,
          87.4166785904758,
          83.79565483119667,
          80.46268344421688,
          77.38470743013804,
          74.53354160416825,
          71.88500700129812,
          69.41824350092553,
          67.11515928150922,
          64.95998634846526,
          62.93891903388259,
          61.03981794308083,
          59.251965929476334,
          57.56586573397216,
          55.97307121913885,
          54.466045866616305,
          53.03804353418607,
          51.68300749162501,
          50.3954845478231,
          49.170551701465534,
          48.00375323502312,
          46.89104655755057,
          45.82875540889656,
          44.813529283804534,
          43.84230813230005,
          42.91229155289266,
          42.020911825314705,
          41.16581023587039,
          40.344816235730015,
          39.55592904440879
         ]
        },
        {
         "hoverinfo": "skip",
         "legendgroup": "CR = 9",
         "line": {
          "color": "#ff7f0e",
          "dash": "dash"
         },
         "mode": "lines",
         "name": "CR = 9",
         "showlegend": false,
         "type": "scatter",
         "x": [
          9.823550979465312,
          14.410937668430476,
          18.99832435739564,
          23.585711046360807,
          28.173097735325968,
          32.760484424291135,
          37.347871113256296,
          41.93525780222146,
          46.522644491186625,
          51.11003118015179,
          55.697417869116954,
          60.284804558082115,
          64.87219124704728,
          69.45957793601245,
          74.0469646249776,
          78.63435131394277,
          83.22173800290794,
          87.80912469187311,
          92.39651138083828,
          96.98389806980343,
          101.5712847587686,
          106.15867144773377,
          110.74605813669892,
          115.33344482566409,
          119.92083151462926,
          124.50821820359442,
          129.0956048925596,
          133.68299158152476,
          138.2703782704899,
          142.8577649594551,
          147.44515164842025,
          152.03253833738543,
          156.6199250263506,
          161.20731171531574,
          165.79469840428092,
          170.38208509324608,
          174.96947178221126,
          179.5568584711764,
          184.14424516014157,
          188.73163184910675,
          193.3190185380719,
          197.90640522703706,
          202.49379191600224,
          207.0811786049674,
          211.66856529393255,
          216.25595198289773,
          220.84333867186288,
          225.43072536082806,
          230.01811204979322,
          234.60549873875837
         ],
         "y": [
          1937.267510865199,
          1320.5834756704517,
          1001.7118244661326,
          806.8803232787228,
          675.4971119126727,
          580.9085698297923,
          509.55638398064735,
          453.8149316644483,
          409.06630227031496,
          372.35050956565726,
          341.6827365061452,
          315.6823065671658,
          293.3590771024304,
          273.9844772937974,
          257.0104831471599,
          242.0169536067854,
          228.67638444634713,
          216.72971027357812,
          205.96931496044428,
          196.22686376401208,
          187.36443276310166,
          179.2679382128083,
          171.84219893727965,
          165.00717708217968,
          158.6950816924961,
          152.84811258584656,
          147.4166852518694,
          142.35802123144774,
          137.6350190972738,
          133.21534296191288,
          129.07068113860257,
          125.17613901580428,
          121.5097386277276,
          118.05200366751168,
          114.78561339422639,
          111.6951124493577,
          108.76666632185018,
          105.9878542979805,
          103.34749335932776,
          100.83548776318295,
          98.4427000393562,
          96.1608399284201,
          93.98236841621525,
          91.90041452366762,
          89.90870291684105,
          88.00149073053572,
          86.1735122657373,
          84.41993043931821,
          82.73629404334231,
          81.11850001878123
         ]
        },
        {
         "hoverinfo": "skip",
         "legendgroup": "CR = 12",
         "line": {
          "color": "#2ca02c",
          "dash": "dash"
         },
         "mode": "lines",
         "name": "CR = 12",
         "showlegend": false,
         "type": "scatter",
         "x": [
          9.823550979465312,
          14.410937668430476,
          18.99832435739564,
          23.585711046360807,
          28.173097735325968,
          32.760484424291135,
          37.347871113256296,
          41.93525780222146,
          46.522644491186625,
          51.11003118015179,
          55.697417869116954,
          60.284804558082115,
          64.87219124704728,
          69.45957793601245,
          74.0469646249776,
          78.63435131394277,
          83.22173800290794,
          87.80912469187311,
          92.39651138083828,
          96.98389806980343,
          101.5712847587686,
          106.15867144773377,
          110.74605813669892,
          115.33344482566409,
          119.92083151462926,
          124.50821820359442,
          129.0956048925596,
          133.68299158152476,
          138.2703782704899,
          142.8577649594551,
          147.44515164842025,
          152.03253833738543,
          156.6199250263506,
          161.20731171531574,
          165.79469840428092,
          170.38208509324608,
          174.96947178221126,
          179.5568584711764,
          184.14424516014157,
          188.73163184910675,
          193.3190185380719,
          197.90640522703706,
          202.49379191600224,
          207.0811786049674,
          211.66856529393255,
          216.25595198289773,
          220.84333867186288,
          225.43072536082806,
          230.01811204979322,
          234.60549873875837
         ],
         "y": [
          3391.7509596262094,
          2312.0659618512736,
          1753.788272836182,
          1412.678990090463,
          1182.65441644211,
          1017.0496269228904,
          892.1268460121723,
          794.5352003958214,
          716.1896926957905,
          651.9080049882198,
          598.2151370075122,
          552.6938124090099,
          513.6104981355167,
          479.68961879141597,
          449.97169877641744,
          423.7211588166381,
          400.3646073862844,
          379.44847506972354,
          360.6092693717044,
          343.5522713013384,
          328.03600486762616,
          313.860733251007,
          300.85981408395816,
          288.8931177933938,
          277.8419565701047,
          267.60513436193867,
          258.09583904322983,
          249.2391744631126,
          240.97018376819983,
          233.23225357049958,
          225.97581601724676,
          219.15728584099534,
          212.73818421208338,
          206.6844121833522,
          200.96564475356072,
          195.55482281663438,
          190.42772503200715,
          185.56260532307675,
          180.93988455931634,
          176.5418872029753,
          172.35261545142114,
          168.3575547911906,
          164.5435059824439,
          160.89843937530696,
          157.4113681701869,
          154.0722378090821,
          150.87182915236176,
          147.80167347732865,
          144.853977648185,
          142.02155806518587
         ]
        },
        {
         "hoverinfo": "skip",
         "legendgroup": "CR = 15",
         "line": {
          "color": "#d62728",
          "dash": "dash"
         },
         "mode": "lines",
         "name": "CR = 15",
         "showlegend": false,
         "type": "scatter",
         "x": [
          9.823550979465312,
          14.410937668430476,
          18.99832435739564,
          23.585711046360807,
          28.173097735325968,
          32.760484424291135,
          37.347871113256296,
          41.93525780222146,
          46.522644491186625,
          51.11003118015179,
          55.697417869116954,
          60.284804558082115,
          64.87219124704728,
          69.45957793601245,
          74.0469646249776,
          78.63435131394277,
          83.22173800290794,
          87.80912469187311,
          92.39651138083828,
          96.98389806980343,
          101.5712847587686,
          106.15867144773377,
          110.74605813669892,
          115.33344482566409,
          119.92083151462926,
          124.50821820359442,
          129.0956048925596,
          133.68299158152476,
          138.2703782704899,
          142.8577649594551,
          147.44515164842025,
          152.03253833738543,
          156.6199250263506,
          161.20731171531574,
          165.79469840428092,
          170.38208509324608,
          174.96947178221126,
          179.5568584711764,
          184.14424516014157,
          188.73163184910675,
          193.3190185380719,
          197.90640522703706,
          202.49379191600224,
          207.0811786049674,
          211.66856529393255,
          216.25595198289773,
          220.84333867186288,
          225.43072536082806,
          230.01811204979322,
          234.60549873875837
         ],
         "y": [
          5168.8656668811955,
          3523.477552460025,
          2672.6891503381007,
          2152.8549758286827,
          1802.3085661945897,
          1549.934815584281,
          1359.5584934583508,
          1210.833509694689,
          1091.4387163488664,
          993.47650964326,
          911.6511559644483,
          842.2788421864095,
          782.7177471352417,
          731.0239551324631,
          685.7352714156681,
          645.73070847743,
          610.1364451538028,
          578.2612634255635,
          549.5512181766826,
          523.5571718108228,
          499.91112650794616,
          478.30869294191183,
          458.49591614303324,
          440.2592453677976,
          423.41780609168893,
          407.81738038838563,
          393.3256707451385,
          379.8285390228566,
          367.22699409474524,
          355.43475987480593,
          344.37629733455816,
          333.9851846183983,
          324.20278183680944,
          314.97712383098616,
          306.26199675456155,
          298.01616382864756,
          290.20271289278554,
          282.78850396999104,
          275.74369940509064,
          269.0413625269341,
          262.6571134521642,
          256.5688327589234,
          250.75640543922634,
          245.2014988840583,
          239.88736973817856,
          234.7986953377865,
          229.92142615658037,
          225.24265626764728,
          220.75050930608245,
          216.43403781066942
         ]
        }
       ],
       "layout": {
        "height": 450,
        "legend": {
         "orientation": "v",
         "tracegroupgap": 0,
         "x": 0,
         "xanchor": "left",
         "y": 0,
         "yanchor": "bottom"
        },
        "margin": {
         "b": 55,
         "l": 70,
         "pad": 4,
         "r": 25,
         "t": 20
        },
        "template": {
         "layout": {
          "autosize": false,
          "font": {
           "family": "sans-serif",
           "size": 14
          },
          "hoverlabel": {
           "align": "left"
          },
          "hovermode": "closest",
          "margin": {
           "b": 55,
           "l": 60,
           "pad": 4,
           "r": 25,
           "t": 20
          },
          "template": {
           "data": {
            "bar": [
             {
              "error_x": {
               "color": "#2a3f5f"
              },
              "error_y": {
               "color": "#2a3f5f"
              },
              "marker": {
               "line": {
                "color": "white",
                "width": 0.5
               },
               "pattern": {
                "fillmode": "overlay",
                "size": 10,
                "solidity": 0.2
               }
              },
              "type": "bar"
             }
            ],
            "barpolar": [
             {
              "marker": {
               "line": {
                "color": "white",
                "width": 0.5
               },
               "pattern": {
                "fillmode": "overlay",
                "size": 10,
                "solidity": 0.2
               }
              },
              "type": "barpolar"
             }
            ],
            "carpet": [
             {
              "aaxis": {
               "endlinecolor": "#2a3f5f",
               "gridcolor": "#C8D4E3",
               "linecolor": "#C8D4E3",
               "minorgridcolor": "#C8D4E3",
               "startlinecolor": "#2a3f5f"
              },
              "baxis": {
               "endlinecolor": "#2a3f5f",
               "gridcolor": "#C8D4E3",
               "linecolor": "#C8D4E3",
               "minorgridcolor": "#C8D4E3",
               "startlinecolor": "#2a3f5f"
              },
              "type": "carpet"
             }
            ],
            "choropleth": [
             {
              "colorbar": {
               "outlinewidth": 0,
               "ticks": ""
              },
              "type": "choropleth"
             }
            ],
            "contour": [
             {
              "colorbar": {
               "outlinewidth": 0,
               "ticks": ""
              },
              "colorscale": [
               [
                0,
                "#0d0887"
               ],
               [
                0.1111111111111111,
                "#46039f"
               ],
               [
                0.2222222222222222,
                "#7201a8"
               ],
               [
                0.3333333333333333,
                "#9c179e"
               ],
               [
                0.4444444444444444,
                "#bd3786"
               ],
               [
                0.5555555555555556,
                "#d8576b"
               ],
               [
                0.6666666666666666,
                "#ed7953"
               ],
               [
                0.7777777777777778,
                "#fb9f3a"
               ],
               [
                0.8888888888888888,
                "#fdca26"
               ],
               [
                1,
                "#f0f921"
               ]
              ],
              "type": "contour"
             }
            ],
            "contourcarpet": [
             {
              "colorbar": {
               "outlinewidth": 0,
               "ticks": ""
              },
              "type": "contourcarpet"
             }
            ],
            "heatmap": [
             {
              "colorbar": {
               "outlinewidth": 0,
               "ticks": ""
              },
              "colorscale": [
               [
                0,
                "#0d0887"
               ],
               [
                0.1111111111111111,
                "#46039f"
               ],
               [
                0.2222222222222222,
                "#7201a8"
               ],
               [
                0.3333333333333333,
                "#9c179e"
               ],
               [
                0.4444444444444444,
                "#bd3786"
               ],
               [
                0.5555555555555556,
                "#d8576b"
               ],
               [
                0.6666666666666666,
                "#ed7953"
               ],
               [
                0.7777777777777778,
                "#fb9f3a"
               ],
               [
                0.8888888888888888,
                "#fdca26"
               ],
               [
                1,
                "#f0f921"
               ]
              ],
              "type": "heatmap"
             }
            ],
            "heatmapgl": [
             {
              "colorbar": {
               "outlinewidth": 0,
               "ticks": ""
              },
              "colorscale": [
               [
                0,
                "#0d0887"
               ],
               [
                0.1111111111111111,
                "#46039f"
               ],
               [
                0.2222222222222222,
                "#7201a8"
               ],
               [
                0.3333333333333333,
                "#9c179e"
               ],
               [
                0.4444444444444444,
                "#bd3786"
               ],
               [
                0.5555555555555556,
                "#d8576b"
               ],
               [
                0.6666666666666666,
                "#ed7953"
               ],
               [
                0.7777777777777778,
                "#fb9f3a"
               ],
               [
                0.8888888888888888,
                "#fdca26"
               ],
               [
                1,
                "#f0f921"
               ]
              ],
              "type": "heatmapgl"
             }
            ],
            "histogram": [
             {
              "marker": {
               "pattern": {
                "fillmode": "overlay",
                "size": 10,
                "solidity": 0.2
               }
              },
              "type": "histogram"
             }
            ],
            "histogram2d": [
             {
              "colorbar": {
               "outlinewidth": 0,
               "ticks": ""
              },
              "colorscale": [
               [
                0,
                "#0d0887"
               ],
               [
                0.1111111111111111,
                "#46039f"
               ],
               [
                0.2222222222222222,
                "#7201a8"
               ],
               [
                0.3333333333333333,
                "#9c179e"
               ],
               [
                0.4444444444444444,
                "#bd3786"
               ],
               [
                0.5555555555555556,
                "#d8576b"
               ],
               [
                0.6666666666666666,
                "#ed7953"
               ],
               [
                0.7777777777777778,
                "#fb9f3a"
               ],
               [
                0.8888888888888888,
                "#fdca26"
               ],
               [
                1,
                "#f0f921"
               ]
              ],
              "type": "histogram2d"
             }
            ],
            "histogram2dcontour": [
             {
              "colorbar": {
               "outlinewidth": 0,
               "ticks": ""
              },
              "colorscale": [
               [
                0,
                "#0d0887"
               ],
               [
                0.1111111111111111,
                "#46039f"
               ],
               [
                0.2222222222222222,
                "#7201a8"
               ],
               [
                0.3333333333333333,
                "#9c179e"
               ],
               [
                0.4444444444444444,
                "#bd3786"
               ],
               [
                0.5555555555555556,
                "#d8576b"
               ],
               [
                0.6666666666666666,
                "#ed7953"
               ],
               [
                0.7777777777777778,
                "#fb9f3a"
               ],
               [
                0.8888888888888888,
                "#fdca26"
               ],
               [
                1,
                "#f0f921"
               ]
              ],
              "type": "histogram2dcontour"
             }
            ],
            "mesh3d": [
             {
              "colorbar": {
               "outlinewidth": 0,
               "ticks": ""
              },
              "type": "mesh3d"
             }
            ],
            "parcoords": [
             {
              "line": {
               "colorbar": {
                "outlinewidth": 0,
                "ticks": ""
               }
              },
              "type": "parcoords"
             }
            ],
            "pie": [
             {
              "automargin": true,
              "type": "pie"
             }
            ],
            "scatter": [
             {
              "fillpattern": {
               "fillmode": "overlay",
               "size": 10,
               "solidity": 0.2
              },
              "type": "scatter"
             }
            ],
            "scatter3d": [
             {
              "line": {
               "colorbar": {
                "outlinewidth": 0,
                "ticks": ""
               }
              },
              "marker": {
               "colorbar": {
                "outlinewidth": 0,
                "ticks": ""
               }
              },
              "type": "scatter3d"
             }
            ],
            "scattercarpet": [
             {
              "marker": {
               "colorbar": {
                "outlinewidth": 0,
                "ticks": ""
               }
              },
              "type": "scattercarpet"
             }
            ],
            "scattergeo": [
             {
              "marker": {
               "colorbar": {
                "outlinewidth": 0,
                "ticks": ""
               }
              },
              "type": "scattergeo"
             }
            ],
            "scattergl": [
             {
              "marker": {
               "colorbar": {
                "outlinewidth": 0,
                "ticks": ""
               }
              },
              "type": "scattergl"
             }
            ],
            "scattermapbox": [
             {
              "marker": {
               "colorbar": {
                "outlinewidth": 0,
                "ticks": ""
               }
              },
              "type": "scattermapbox"
             }
            ],
            "scatterpolar": [
             {
              "marker": {
               "colorbar": {
                "outlinewidth": 0,
                "ticks": ""
               }
              },
              "type": "scatterpolar"
             }
            ],
            "scatterpolargl": [
             {
              "marker": {
               "colorbar": {
                "outlinewidth": 0,
                "ticks": ""
               }
              },
              "type": "scatterpolargl"
             }
            ],
            "scatterternary": [
             {
              "marker": {
               "colorbar": {
                "outlinewidth": 0,
                "ticks": ""
               }
              },
              "type": "scatterternary"
             }
            ],
            "surface": [
             {
              "colorbar": {
               "outlinewidth": 0,
               "ticks": ""
              },
              "colorscale": [
               [
                0,
                "#0d0887"
               ],
               [
                0.1111111111111111,
                "#46039f"
               ],
               [
                0.2222222222222222,
                "#7201a8"
               ],
               [
                0.3333333333333333,
                "#9c179e"
               ],
               [
                0.4444444444444444,
                "#bd3786"
               ],
               [
                0.5555555555555556,
                "#d8576b"
               ],
               [
                0.6666666666666666,
                "#ed7953"
               ],
               [
                0.7777777777777778,
                "#fb9f3a"
               ],
               [
                0.8888888888888888,
                "#fdca26"
               ],
               [
                1,
                "#f0f921"
               ]
              ],
              "type": "surface"
             }
            ],
            "table": [
             {
              "cells": {
               "fill": {
                "color": "#EBF0F8"
               },
               "line": {
                "color": "white"
               }
              },
              "header": {
               "fill": {
                "color": "#C8D4E3"
               },
               "line": {
                "color": "white"
               }
              },
              "type": "table"
             }
            ]
           },
           "layout": {
            "annotationdefaults": {
             "arrowcolor": "#2a3f5f",
             "arrowhead": 0,
             "arrowwidth": 1
            },
            "autotypenumbers": "strict",
            "coloraxis": {
             "colorbar": {
              "outlinewidth": 0,
              "ticks": ""
             }
            },
            "colorscale": {
             "diverging": [
              [
               0,
               "#8e0152"
              ],
              [
               0.1,
               "#c51b7d"
              ],
              [
               0.2,
               "#de77ae"
              ],
              [
               0.3,
               "#f1b6da"
              ],
              [
               0.4,
               "#fde0ef"
              ],
              [
               0.5,
               "#f7f7f7"
              ],
              [
               0.6,
               "#e6f5d0"
              ],
              [
               0.7,
               "#b8e186"
              ],
              [
               0.8,
               "#7fbc41"
              ],
              [
               0.9,
               "#4d9221"
              ],
              [
               1,
               "#276419"
              ]
             ],
             "sequential": [
              [
               0,
               "#0d0887"
              ],
              [
               0.1111111111111111,
               "#46039f"
              ],
              [
               0.2222222222222222,
               "#7201a8"
              ],
              [
               0.3333333333333333,
               "#9c179e"
              ],
              [
               0.4444444444444444,
               "#bd3786"
              ],
              [
               0.5555555555555556,
               "#d8576b"
              ],
              [
               0.6666666666666666,
               "#ed7953"
              ],
              [
               0.7777777777777778,
               "#fb9f3a"
              ],
              [
               0.8888888888888888,
               "#fdca26"
              ],
              [
               1,
               "#f0f921"
              ]
             ],
             "sequentialminus": [
              [
               0,
               "#0d0887"
              ],
              [
               0.1111111111111111,
               "#46039f"
              ],
              [
               0.2222222222222222,
               "#7201a8"
              ],
              [
               0.3333333333333333,
               "#9c179e"
              ],
              [
               0.4444444444444444,
               "#bd3786"
              ],
              [
               0.5555555555555556,
               "#d8576b"
              ],
              [
               0.6666666666666666,
               "#ed7953"
              ],
              [
               0.7777777777777778,
               "#fb9f3a"
              ],
              [
               0.8888888888888888,
               "#fdca26"
              ],
              [
               1,
               "#f0f921"
              ]
             ]
            },
            "colorway": [
             "#636efa",
             "#EF553B",
             "#00cc96",
             "#ab63fa",
             "#FFA15A",
             "#19d3f3",
             "#FF6692",
             "#B6E880",
             "#FF97FF",
             "#FECB52"
            ],
            "font": {
             "color": "#2a3f5f"
            },
            "geo": {
             "bgcolor": "white",
             "lakecolor": "white",
             "landcolor": "white",
             "showlakes": true,
             "showland": true,
             "subunitcolor": "#C8D4E3"
            },
            "hoverlabel": {
             "align": "left"
            },
            "hovermode": "closest",
            "mapbox": {
             "style": "light"
            },
            "paper_bgcolor": "white",
            "plot_bgcolor": "white",
            "polar": {
             "angularaxis": {
              "gridcolor": "#EBF0F8",
              "linecolor": "#EBF0F8",
              "ticks": ""
             },
             "bgcolor": "white",
             "radialaxis": {
              "gridcolor": "#EBF0F8",
              "linecolor": "#EBF0F8",
              "ticks": ""
             }
            },
            "scene": {
             "xaxis": {
              "backgroundcolor": "white",
              "gridcolor": "#DFE8F3",
              "gridwidth": 2,
              "linecolor": "#EBF0F8",
              "showbackground": true,
              "ticks": "",
              "zerolinecolor": "#EBF0F8"
             },
             "yaxis": {
              "backgroundcolor": "white",
              "gridcolor": "#DFE8F3",
              "gridwidth": 2,
              "linecolor": "#EBF0F8",
              "showbackground": true,
              "ticks": "",
              "zerolinecolor": "#EBF0F8"
             },
             "zaxis": {
              "backgroundcolor": "white",
              "gridcolor": "#DFE8F3",
              "gridwidth": 2,
              "linecolor": "#EBF0F8",
              "showbackground": true,
              "ticks": "",
              "zerolinecolor": "#EBF0F8"
             }
            },
            "shapedefaults": {
             "line": {
              "color": "#2a3f5f"
             }
            },
            "ternary": {
             "aaxis": {
              "gridcolor": "#DFE8F3",
              "linecolor": "#A2B1C6",
              "ticks": ""
             },
             "baxis": {
              "gridcolor": "#DFE8F3",
              "linecolor": "#A2B1C6",
              "ticks": ""
             },
             "bgcolor": "white",
             "caxis": {
              "gridcolor": "#DFE8F3",
              "linecolor": "#A2B1C6",
              "ticks": ""
             }
            },
            "title": {
             "x": 0.05
            },
            "xaxis": {
             "automargin": true,
             "gridcolor": "#EBF0F8",
             "linecolor": "#EBF0F8",
             "ticks": "",
             "title": {
              "standoff": 15
             },
             "zerolinecolor": "#EBF0F8",
             "zerolinewidth": 2
            },
            "yaxis": {
             "automargin": true,
             "gridcolor": "#EBF0F8",
             "linecolor": "#EBF0F8",
             "ticks": "",
             "title": {
              "standoff": 15
             },
             "zerolinecolor": "#EBF0F8",
             "zerolinewidth": 2
            }
           }
          },
          "xaxis": {
           "automargin": false,
           "linecolor": "#444",
           "linewidth": 2,
           "minor": {
            "tickmode": "linear",
            "ticks": "outside"
           },
           "mirror": true,
           "showline": true,
           "tickmode": "linear",
           "ticks": "outside",
           "zeroline": false
          },
          "yaxis": {
           "automargin": true,
           "linecolor": "#444",
           "linewidth": 2,
           "minor": {
            "tickmode": "linear",
            "ticks": "outside"
           },
           "mirror": true,
           "showline": true,
           "ticks": "outside",
           "zeroline": false
          }
         }
        },
        "width": 600,
        "xaxis": {
         "title": {
          "text": "effective damage per round"
         },
         "type": "log"
        },
        "yaxis": {
         "title": {
          "text": "effective hit points"
         },
         "type": "log"
        }
       }
      }
     },
     "metadata": {},
     "output_type": "display_data"
    }
   ],
   "source": [
    "# eDPR vs eHP\n",
    "CRs = [6,9,12,15]\n",
    "cats = ['generic','legendary','unique']\n",
    "colors = ['#1f77b4', '#ff7f0e', '#2ca02c', '#d62728', '#9467bd', \n",
    "          '#8c564b', '#e377c2', '#7f7f7f', '#bcbd22', '#17becf']\n",
    "colors = colors[0:len(CRs)]\n",
    "\n",
    "mask = df0['CR'].isin(CRs) & df0['Category'].isin(cats)\n",
    "xMin = np.min(df0.loc[mask, 'eDPR'])\n",
    "xMax = np.max(df0.loc[mask, 'eDPR'])\n",
    "yMin = np.min(df0.loc[mask, 'eHP'])\n",
    "yMax = np.max(df0.loc[mask, 'eHP'])\n",
    "\n",
    "# create figure\n",
    "fig = go.Figure(\n",
    "    layout=go.Layout(\n",
    "        template=tfb.FIG_TEMPLATE,\n",
    "        width=600,\n",
    "        margin=dict(l=70, r=25, b=55, t=20, pad=4),\n",
    "        xaxis=dict(\n",
    "            title_text='effective damage per round',\n",
    "            type='log',\n",
    "            #range=np.log10([0.95*xMin,1.05*xMax]), \n",
    "            #tick0=1, dtick=0.1,\n",
    "            #minor=dict(tick0=0, dtick=0.1),\n",
    "        ),\n",
    "        yaxis=dict(\n",
    "            title_text='effective hit points',\n",
    "            type='log',\n",
    "            #range=np.log10([0.95*yMin,1.05*yMax]), \n",
    "            #tick0=0, dtick=1,\n",
    "            #minor=dict(tick0=0, dtick=0.1),\n",
    "        ),\n",
    "        legend=dict(\n",
    "            xanchor='left', yanchor='bottom',\n",
    "            x=0.00, y=0.00,\n",
    "            orientation='v',\n",
    "            tracegroupgap=0,\n",
    "        )\n",
    "    )\n",
    ")\n",
    "\n",
    "\n",
    "for cr, c in zip(CRs, colors):\n",
    "    df1 = df0[df0['CR'].isin([cr]) & df0['Category'].isin(cats)]\n",
    "    fig.add_trace(go.Scatter(\n",
    "        x=df1['eDPR'], y=df1['eHP'],\n",
    "        mode='markers', \n",
    "        name=f'CR = {cr:.0f}',\n",
    "        legendgroup=f'CR = {cr:.0f}',\n",
    "        marker_color=c,\n",
    "        hovertemplate=f'<b>CR {cr:.0f}</b><br>' + 'eDPR %{x:,.0f}<br>' + 'eHP %{y:,.0f}<br>' + '<extra></extra>',\n",
    "    ))\n",
    "\n",
    "x = np.linspace(0.9*xMin, 1.1*xMax, 50, endpoint=True)\n",
    "XP = dfD['XP'].values\n",
    "for cr, c in zip(CRs, colors):\n",
    "    fig.add_trace(go.Scatter(\n",
    "        x=x, y=4*dfD.loc[cr]['eXP Mean']/x,\n",
    "        mode='lines', \n",
    "        line=dict(color=c, dash='dash'),\n",
    "        showlegend=False,\n",
    "        name=f'CR = {cr:.0f}',\n",
    "        legendgroup=f'CR = {cr:.0f}',\n",
    "        hoverinfo='skip',\n",
    "    ))\n",
    "\n",
    "# show figure\n",
    "fig.update_layout(width=600, height=450)\n",
    "fig.show(config=tfb.FIG_CONFIG)\n",
    "\n",
    "# save figures\n",
    "if SAVEFIGS:\n",
    "    #fig.update_layout(autosize=True, width=None, height=None)\n",
    "    #tfb.save_fig_html(fig, format='large', name=f'./fig-ehp-vs-edpr-log-large')\n",
    "    #tfb.save_fig_html(fig, format='small', name=f'./fig-ehp-vs-edpr-log-small')\n",
    "    pass"
   ]
  },
  {
   "cell_type": "code",
   "execution_count": 8,
   "metadata": {},
   "outputs": [
    {
     "data": {
      "application/vnd.plotly.v1+json": {
       "config": {
        "autosizable": true,
        "displayModeBar": "hover",
        "displaylogo": false,
        "doubleClick": "reset",
        "modeBarButtonsToRemove": [
         "select2d",
         "lasso2d",
         "zoom2d",
         "zoomIn2d",
         "zoomOut2d",
         "pan2d",
         "autoScale2d",
         "hoverClosestCartesian",
         "hoverCompareCartesian",
         "toggleSpikelines",
         "resetScale2d"
        ],
        "plotlyServerURL": "https://plot.ly",
        "responsive": true,
        "showAxisDragHandles": false,
        "toImageButtonOptions": {
         "filename": "tfb-plot",
         "format": "png",
         "height": 450,
         "scale": 2,
         "width": 600
        }
       },
       "data": [
        {
         "hoverinfo": "skip",
         "line": {
          "color": "black",
          "dash": "dash"
         },
         "mode": "lines",
         "name": "DMG",
         "type": "scatter",
         "x": [
          1,
          30
         ],
         "y": [
          1,
          1
         ]
        },
        {
         "hovertemplate": "<b>mean</b><br>CR %{x:,.0f}<br>eHP Ratio %{y:,.1f}<br><extra></extra>",
         "line": {
          "color": "rgba(0,0,250,1)",
          "dash": "solid"
         },
         "mode": "lines",
         "name": "eHP Ratio - mean",
         "type": "scatter",
         "x": [
          1,
          2,
          3,
          4,
          5,
          6,
          7,
          8,
          9,
          10,
          11,
          12,
          13,
          14,
          15,
          16,
          17,
          18,
          19,
          20,
          21,
          22,
          23,
          24,
          25,
          26,
          27,
          28,
          30
         ],
         "y": [
          0.41208791208791207,
          0.5591397849462366,
          0.6746031746031746,
          0.6764227642276425,
          0.7418478260869564,
          0.736111111111111,
          0.8569568452380951,
          0.8156541305046608,
          0.8983957219251336,
          0.8868022952529996,
          0.9594298245614037,
          0.9179926840420667,
          0.9806201550387599,
          1.044919992288413,
          0.9513888888888891,
          1.0933993399339934,
          1.004009433962264,
          1.112387387387387,
          1.0640804597701148,
          1.0291666666666666,
          1.1221335697399524,
          1.206997863247863,
          1.2302534113060426,
          1.3118279569892473,
          1.3029850746268654,
          1.199074074074074,
          1.177849927849928,
          1.1610772357723578,
          1.4317270531400965
         ]
        },
        {
         "hoverinfo": "skip",
         "legendgroup": "eHP Ratio confidence",
         "line": {
          "width": 0
         },
         "showlegend": false,
         "type": "scatter",
         "x": [
          1,
          2,
          3,
          4,
          5,
          6,
          7,
          8,
          9,
          10,
          11,
          12,
          13,
          14,
          15,
          16,
          17,
          18,
          19,
          20,
          21,
          22,
          23,
          24,
          25,
          26,
          27,
          28,
          30
         ],
         "y": [
          0.5581501831501832,
          0.6589861751152074,
          0.8042328042328043,
          0.9105691056910571,
          0.97481884057971,
          0.9303921568627451,
          1.185267857142857,
          1.0545805207328833,
          1.048128342245989,
          1.1730829420970268,
          1.1866666666666668,
          1.2259487882944675,
          1.2356589147286823,
          1.2595180258338148,
          1.2278508771929824,
          1.380302240750391,
          1.197893081761006,
          1.377927927927928,
          1.1209482758620692,
          1.3243915343915345,
          1.2482269503546097,
          1.2994017094017092,
          1.3915789473684208,
          1.4331756272401432,
          1.4081592039800994,
          1.4471975308641976,
          1.2881673881673879,
          1.3482046070460707,
          1.6400289855072463
         ]
        },
        {
         "fill": "tonexty",
         "fillcolor": "rgba(0,0,250,0.2)",
         "hoverinfo": "skip",
         "legendgroup": "eHP Ratio confidence",
         "line": {
          "width": 0
         },
         "name": "eHP Ratio - 60% confidence",
         "type": "scatter",
         "x": [
          1,
          2,
          3,
          4,
          5,
          6,
          7,
          8,
          9,
          10,
          11,
          12,
          13,
          14,
          15,
          16,
          17,
          18,
          19,
          20,
          21,
          22,
          23,
          24,
          25,
          26,
          27,
          28,
          30
         ],
         "y": [
          0.30952380952380953,
          0.4308755760368663,
          0.5238095238095238,
          0.5370731707317074,
          0.6019927536231884,
          0.6319444444444444,
          0.6854910714285715,
          0.6319189971070395,
          0.7126559714795009,
          0.7051121544079291,
          0.7839766081871345,
          0.7458161865569273,
          0.8011015911872704,
          0.8162907268170424,
          0.8480263157894736,
          0.8663366336633666,
          0.8465660377358489,
          0.8783783783783783,
          1.0293103448275864,
          0.8764682539682539,
          0.8723404255319147,
          0.9342948717948718,
          1.061988304093567,
          1.1140232974910393,
          1.006044776119403,
          1.161111111111111,
          1.177849927849928,
          1.1610772357723578,
          1.4079710144927535
         ]
        }
       ],
       "layout": {
        "height": 450,
        "legend": {
         "bgcolor": "rgba(0,0,0,0)",
         "orientation": "v",
         "tracegroupgap": 0,
         "x": 0,
         "xanchor": "left",
         "y": 1,
         "yanchor": "top"
        },
        "margin": {
         "b": 55,
         "l": 70,
         "pad": 4,
         "r": 25,
         "t": 20
        },
        "template": {
         "layout": {
          "autosize": false,
          "font": {
           "family": "sans-serif",
           "size": 14
          },
          "hoverlabel": {
           "align": "left"
          },
          "hovermode": "closest",
          "margin": {
           "b": 55,
           "l": 60,
           "pad": 4,
           "r": 25,
           "t": 20
          },
          "template": {
           "data": {
            "bar": [
             {
              "error_x": {
               "color": "#2a3f5f"
              },
              "error_y": {
               "color": "#2a3f5f"
              },
              "marker": {
               "line": {
                "color": "white",
                "width": 0.5
               },
               "pattern": {
                "fillmode": "overlay",
                "size": 10,
                "solidity": 0.2
               }
              },
              "type": "bar"
             }
            ],
            "barpolar": [
             {
              "marker": {
               "line": {
                "color": "white",
                "width": 0.5
               },
               "pattern": {
                "fillmode": "overlay",
                "size": 10,
                "solidity": 0.2
               }
              },
              "type": "barpolar"
             }
            ],
            "carpet": [
             {
              "aaxis": {
               "endlinecolor": "#2a3f5f",
               "gridcolor": "#C8D4E3",
               "linecolor": "#C8D4E3",
               "minorgridcolor": "#C8D4E3",
               "startlinecolor": "#2a3f5f"
              },
              "baxis": {
               "endlinecolor": "#2a3f5f",
               "gridcolor": "#C8D4E3",
               "linecolor": "#C8D4E3",
               "minorgridcolor": "#C8D4E3",
               "startlinecolor": "#2a3f5f"
              },
              "type": "carpet"
             }
            ],
            "choropleth": [
             {
              "colorbar": {
               "outlinewidth": 0,
               "ticks": ""
              },
              "type": "choropleth"
             }
            ],
            "contour": [
             {
              "colorbar": {
               "outlinewidth": 0,
               "ticks": ""
              },
              "colorscale": [
               [
                0,
                "#0d0887"
               ],
               [
                0.1111111111111111,
                "#46039f"
               ],
               [
                0.2222222222222222,
                "#7201a8"
               ],
               [
                0.3333333333333333,
                "#9c179e"
               ],
               [
                0.4444444444444444,
                "#bd3786"
               ],
               [
                0.5555555555555556,
                "#d8576b"
               ],
               [
                0.6666666666666666,
                "#ed7953"
               ],
               [
                0.7777777777777778,
                "#fb9f3a"
               ],
               [
                0.8888888888888888,
                "#fdca26"
               ],
               [
                1,
                "#f0f921"
               ]
              ],
              "type": "contour"
             }
            ],
            "contourcarpet": [
             {
              "colorbar": {
               "outlinewidth": 0,
               "ticks": ""
              },
              "type": "contourcarpet"
             }
            ],
            "heatmap": [
             {
              "colorbar": {
               "outlinewidth": 0,
               "ticks": ""
              },
              "colorscale": [
               [
                0,
                "#0d0887"
               ],
               [
                0.1111111111111111,
                "#46039f"
               ],
               [
                0.2222222222222222,
                "#7201a8"
               ],
               [
                0.3333333333333333,
                "#9c179e"
               ],
               [
                0.4444444444444444,
                "#bd3786"
               ],
               [
                0.5555555555555556,
                "#d8576b"
               ],
               [
                0.6666666666666666,
                "#ed7953"
               ],
               [
                0.7777777777777778,
                "#fb9f3a"
               ],
               [
                0.8888888888888888,
                "#fdca26"
               ],
               [
                1,
                "#f0f921"
               ]
              ],
              "type": "heatmap"
             }
            ],
            "heatmapgl": [
             {
              "colorbar": {
               "outlinewidth": 0,
               "ticks": ""
              },
              "colorscale": [
               [
                0,
                "#0d0887"
               ],
               [
                0.1111111111111111,
                "#46039f"
               ],
               [
                0.2222222222222222,
                "#7201a8"
               ],
               [
                0.3333333333333333,
                "#9c179e"
               ],
               [
                0.4444444444444444,
                "#bd3786"
               ],
               [
                0.5555555555555556,
                "#d8576b"
               ],
               [
                0.6666666666666666,
                "#ed7953"
               ],
               [
                0.7777777777777778,
                "#fb9f3a"
               ],
               [
                0.8888888888888888,
                "#fdca26"
               ],
               [
                1,
                "#f0f921"
               ]
              ],
              "type": "heatmapgl"
             }
            ],
            "histogram": [
             {
              "marker": {
               "pattern": {
                "fillmode": "overlay",
                "size": 10,
                "solidity": 0.2
               }
              },
              "type": "histogram"
             }
            ],
            "histogram2d": [
             {
              "colorbar": {
               "outlinewidth": 0,
               "ticks": ""
              },
              "colorscale": [
               [
                0,
                "#0d0887"
               ],
               [
                0.1111111111111111,
                "#46039f"
               ],
               [
                0.2222222222222222,
                "#7201a8"
               ],
               [
                0.3333333333333333,
                "#9c179e"
               ],
               [
                0.4444444444444444,
                "#bd3786"
               ],
               [
                0.5555555555555556,
                "#d8576b"
               ],
               [
                0.6666666666666666,
                "#ed7953"
               ],
               [
                0.7777777777777778,
                "#fb9f3a"
               ],
               [
                0.8888888888888888,
                "#fdca26"
               ],
               [
                1,
                "#f0f921"
               ]
              ],
              "type": "histogram2d"
             }
            ],
            "histogram2dcontour": [
             {
              "colorbar": {
               "outlinewidth": 0,
               "ticks": ""
              },
              "colorscale": [
               [
                0,
                "#0d0887"
               ],
               [
                0.1111111111111111,
                "#46039f"
               ],
               [
                0.2222222222222222,
                "#7201a8"
               ],
               [
                0.3333333333333333,
                "#9c179e"
               ],
               [
                0.4444444444444444,
                "#bd3786"
               ],
               [
                0.5555555555555556,
                "#d8576b"
               ],
               [
                0.6666666666666666,
                "#ed7953"
               ],
               [
                0.7777777777777778,
                "#fb9f3a"
               ],
               [
                0.8888888888888888,
                "#fdca26"
               ],
               [
                1,
                "#f0f921"
               ]
              ],
              "type": "histogram2dcontour"
             }
            ],
            "mesh3d": [
             {
              "colorbar": {
               "outlinewidth": 0,
               "ticks": ""
              },
              "type": "mesh3d"
             }
            ],
            "parcoords": [
             {
              "line": {
               "colorbar": {
                "outlinewidth": 0,
                "ticks": ""
               }
              },
              "type": "parcoords"
             }
            ],
            "pie": [
             {
              "automargin": true,
              "type": "pie"
             }
            ],
            "scatter": [
             {
              "fillpattern": {
               "fillmode": "overlay",
               "size": 10,
               "solidity": 0.2
              },
              "type": "scatter"
             }
            ],
            "scatter3d": [
             {
              "line": {
               "colorbar": {
                "outlinewidth": 0,
                "ticks": ""
               }
              },
              "marker": {
               "colorbar": {
                "outlinewidth": 0,
                "ticks": ""
               }
              },
              "type": "scatter3d"
             }
            ],
            "scattercarpet": [
             {
              "marker": {
               "colorbar": {
                "outlinewidth": 0,
                "ticks": ""
               }
              },
              "type": "scattercarpet"
             }
            ],
            "scattergeo": [
             {
              "marker": {
               "colorbar": {
                "outlinewidth": 0,
                "ticks": ""
               }
              },
              "type": "scattergeo"
             }
            ],
            "scattergl": [
             {
              "marker": {
               "colorbar": {
                "outlinewidth": 0,
                "ticks": ""
               }
              },
              "type": "scattergl"
             }
            ],
            "scattermapbox": [
             {
              "marker": {
               "colorbar": {
                "outlinewidth": 0,
                "ticks": ""
               }
              },
              "type": "scattermapbox"
             }
            ],
            "scatterpolar": [
             {
              "marker": {
               "colorbar": {
                "outlinewidth": 0,
                "ticks": ""
               }
              },
              "type": "scatterpolar"
             }
            ],
            "scatterpolargl": [
             {
              "marker": {
               "colorbar": {
                "outlinewidth": 0,
                "ticks": ""
               }
              },
              "type": "scatterpolargl"
             }
            ],
            "scatterternary": [
             {
              "marker": {
               "colorbar": {
                "outlinewidth": 0,
                "ticks": ""
               }
              },
              "type": "scatterternary"
             }
            ],
            "surface": [
             {
              "colorbar": {
               "outlinewidth": 0,
               "ticks": ""
              },
              "colorscale": [
               [
                0,
                "#0d0887"
               ],
               [
                0.1111111111111111,
                "#46039f"
               ],
               [
                0.2222222222222222,
                "#7201a8"
               ],
               [
                0.3333333333333333,
                "#9c179e"
               ],
               [
                0.4444444444444444,
                "#bd3786"
               ],
               [
                0.5555555555555556,
                "#d8576b"
               ],
               [
                0.6666666666666666,
                "#ed7953"
               ],
               [
                0.7777777777777778,
                "#fb9f3a"
               ],
               [
                0.8888888888888888,
                "#fdca26"
               ],
               [
                1,
                "#f0f921"
               ]
              ],
              "type": "surface"
             }
            ],
            "table": [
             {
              "cells": {
               "fill": {
                "color": "#EBF0F8"
               },
               "line": {
                "color": "white"
               }
              },
              "header": {
               "fill": {
                "color": "#C8D4E3"
               },
               "line": {
                "color": "white"
               }
              },
              "type": "table"
             }
            ]
           },
           "layout": {
            "annotationdefaults": {
             "arrowcolor": "#2a3f5f",
             "arrowhead": 0,
             "arrowwidth": 1
            },
            "autotypenumbers": "strict",
            "coloraxis": {
             "colorbar": {
              "outlinewidth": 0,
              "ticks": ""
             }
            },
            "colorscale": {
             "diverging": [
              [
               0,
               "#8e0152"
              ],
              [
               0.1,
               "#c51b7d"
              ],
              [
               0.2,
               "#de77ae"
              ],
              [
               0.3,
               "#f1b6da"
              ],
              [
               0.4,
               "#fde0ef"
              ],
              [
               0.5,
               "#f7f7f7"
              ],
              [
               0.6,
               "#e6f5d0"
              ],
              [
               0.7,
               "#b8e186"
              ],
              [
               0.8,
               "#7fbc41"
              ],
              [
               0.9,
               "#4d9221"
              ],
              [
               1,
               "#276419"
              ]
             ],
             "sequential": [
              [
               0,
               "#0d0887"
              ],
              [
               0.1111111111111111,
               "#46039f"
              ],
              [
               0.2222222222222222,
               "#7201a8"
              ],
              [
               0.3333333333333333,
               "#9c179e"
              ],
              [
               0.4444444444444444,
               "#bd3786"
              ],
              [
               0.5555555555555556,
               "#d8576b"
              ],
              [
               0.6666666666666666,
               "#ed7953"
              ],
              [
               0.7777777777777778,
               "#fb9f3a"
              ],
              [
               0.8888888888888888,
               "#fdca26"
              ],
              [
               1,
               "#f0f921"
              ]
             ],
             "sequentialminus": [
              [
               0,
               "#0d0887"
              ],
              [
               0.1111111111111111,
               "#46039f"
              ],
              [
               0.2222222222222222,
               "#7201a8"
              ],
              [
               0.3333333333333333,
               "#9c179e"
              ],
              [
               0.4444444444444444,
               "#bd3786"
              ],
              [
               0.5555555555555556,
               "#d8576b"
              ],
              [
               0.6666666666666666,
               "#ed7953"
              ],
              [
               0.7777777777777778,
               "#fb9f3a"
              ],
              [
               0.8888888888888888,
               "#fdca26"
              ],
              [
               1,
               "#f0f921"
              ]
             ]
            },
            "colorway": [
             "#636efa",
             "#EF553B",
             "#00cc96",
             "#ab63fa",
             "#FFA15A",
             "#19d3f3",
             "#FF6692",
             "#B6E880",
             "#FF97FF",
             "#FECB52"
            ],
            "font": {
             "color": "#2a3f5f"
            },
            "geo": {
             "bgcolor": "white",
             "lakecolor": "white",
             "landcolor": "white",
             "showlakes": true,
             "showland": true,
             "subunitcolor": "#C8D4E3"
            },
            "hoverlabel": {
             "align": "left"
            },
            "hovermode": "closest",
            "mapbox": {
             "style": "light"
            },
            "paper_bgcolor": "white",
            "plot_bgcolor": "white",
            "polar": {
             "angularaxis": {
              "gridcolor": "#EBF0F8",
              "linecolor": "#EBF0F8",
              "ticks": ""
             },
             "bgcolor": "white",
             "radialaxis": {
              "gridcolor": "#EBF0F8",
              "linecolor": "#EBF0F8",
              "ticks": ""
             }
            },
            "scene": {
             "xaxis": {
              "backgroundcolor": "white",
              "gridcolor": "#DFE8F3",
              "gridwidth": 2,
              "linecolor": "#EBF0F8",
              "showbackground": true,
              "ticks": "",
              "zerolinecolor": "#EBF0F8"
             },
             "yaxis": {
              "backgroundcolor": "white",
              "gridcolor": "#DFE8F3",
              "gridwidth": 2,
              "linecolor": "#EBF0F8",
              "showbackground": true,
              "ticks": "",
              "zerolinecolor": "#EBF0F8"
             },
             "zaxis": {
              "backgroundcolor": "white",
              "gridcolor": "#DFE8F3",
              "gridwidth": 2,
              "linecolor": "#EBF0F8",
              "showbackground": true,
              "ticks": "",
              "zerolinecolor": "#EBF0F8"
             }
            },
            "shapedefaults": {
             "line": {
              "color": "#2a3f5f"
             }
            },
            "ternary": {
             "aaxis": {
              "gridcolor": "#DFE8F3",
              "linecolor": "#A2B1C6",
              "ticks": ""
             },
             "baxis": {
              "gridcolor": "#DFE8F3",
              "linecolor": "#A2B1C6",
              "ticks": ""
             },
             "bgcolor": "white",
             "caxis": {
              "gridcolor": "#DFE8F3",
              "linecolor": "#A2B1C6",
              "ticks": ""
             }
            },
            "title": {
             "x": 0.05
            },
            "xaxis": {
             "automargin": true,
             "gridcolor": "#EBF0F8",
             "linecolor": "#EBF0F8",
             "ticks": "",
             "title": {
              "standoff": 15
             },
             "zerolinecolor": "#EBF0F8",
             "zerolinewidth": 2
            },
            "yaxis": {
             "automargin": true,
             "gridcolor": "#EBF0F8",
             "linecolor": "#EBF0F8",
             "ticks": "",
             "title": {
              "standoff": 15
             },
             "zerolinecolor": "#EBF0F8",
             "zerolinewidth": 2
            }
           }
          },
          "xaxis": {
           "automargin": false,
           "linecolor": "#444",
           "linewidth": 2,
           "minor": {
            "tickmode": "linear",
            "ticks": "outside"
           },
           "mirror": true,
           "showline": true,
           "tickmode": "linear",
           "ticks": "outside",
           "zeroline": false
          },
          "yaxis": {
           "automargin": true,
           "linecolor": "#444",
           "linewidth": 2,
           "minor": {
            "tickmode": "linear",
            "ticks": "outside"
           },
           "mirror": true,
           "showline": true,
           "ticks": "outside",
           "zeroline": false
          }
         }
        },
        "width": 600,
        "xaxis": {
         "dtick": 5,
         "minor": {
          "dtick": 1,
          "tick0": 0
         },
         "range": [
          0,
          30
         ],
         "tick0": 0,
         "title": {
          "text": "CR"
         }
        },
        "yaxis": {
         "dtick": 0.2,
         "minor": {
          "dtick": 0.1,
          "tick0": 0
         },
         "range": [
          0,
          2
         ],
         "tick0": 0,
         "title": {
          "text": "eHP Ratio"
         }
        }
       }
      }
     },
     "metadata": {},
     "output_type": "display_data"
    }
   ],
   "source": [
    "# eHP Ratio\n",
    "\n",
    "yCol = 'eHP Ratio'\n",
    "\n",
    "conf = 0.6\n",
    "df1 = df0[df0['CR'].between(1,30)]\n",
    "dfM = df1[['CR',yCol]].groupby('CR').median()\n",
    "dfU = df1[['CR',yCol]].groupby('CR').quantile(0.5 + conf/2)\n",
    "dfL = df1[['CR',yCol]].groupby('CR').quantile(0.5 - conf/2)\n",
    "\n",
    "# CR\n",
    "# create figure\n",
    "fig = go.Figure(\n",
    "    layout=go.Layout(\n",
    "        template=tfb.FIG_TEMPLATE,\n",
    "        margin=dict(l=70, r=25, b=55, t=20, pad=4),\n",
    "        xaxis=dict(\n",
    "            title_text='CR',\n",
    "            range=[0,30],\n",
    "            tick0=0, dtick=5,\n",
    "            minor=dict(tick0=0, dtick=1),\n",
    "        ),\n",
    "        yaxis=dict(\n",
    "            title_text=yCol,\n",
    "            range=[0,2],\n",
    "            tick0=0, dtick=0.2,\n",
    "            minor=dict(tick0=0, dtick=0.1),\n",
    "        ),\n",
    "        legend=dict(\n",
    "            xanchor='left', yanchor='top',\n",
    "            x=0.00, y=1.00,\n",
    "            orientation='v',\n",
    "            tracegroupgap=0,\n",
    "            bgcolor='rgba(0,0,0,0)',\n",
    "        )\n",
    "    )\n",
    ")\n",
    "\n",
    "\n",
    "# add reference line\n",
    "fig.add_trace(go.Scatter(\n",
    "    x=[1,30], y=[1,1],\n",
    "    mode='lines', \n",
    "    line=dict(color='black', dash='dash'),\n",
    "    name='DMG',\n",
    "    hoverinfo='skip',\n",
    "))\n",
    "\n",
    "# add average value\n",
    "fig.add_trace(go.Scatter(\n",
    "    x=dfM.index, y=dfM[yCol],\n",
    "    mode='lines', \n",
    "    line=dict(color='rgba(0,0,250,1)', dash='solid'),\n",
    "    name=f'{yCol} - mean',\n",
    "    hovertemplate='<b>mean</b><br>' + 'CR %{x:,.0f}<br>' + yCol + ' %{y:,.1f}<br>' + '<extra></extra>'\n",
    "\n",
    "))\n",
    "\n",
    "# add confidence interval\n",
    "fig.add_trace(go.Scatter(x=dfM.index, y=dfU[yCol], line_width=0, legendgroup=f'{yCol} confidence', showlegend=False, hoverinfo='skip'))\n",
    "fig.add_trace(go.Scatter(x=dfM.index, y=dfL[yCol], line_width=0, name=f'{yCol} - {conf:.0%} confidence', legendgroup=f'{yCol} confidence', hoverinfo='skip', fill='tonexty', fillcolor='rgba(0,0,250,0.2)'))\n",
    "\n",
    "# show figure\n",
    "fig.update_layout(width=600, height=450)\n",
    "fig.show(config=tfb.FIG_CONFIG)\n",
    "\n",
    "# save figures\n",
    "if SAVEFIGS:\n",
    "    #fig.update_layout(autosize=True, width=None, height=None)\n",
    "    #tfb.save_fig_html(fig, format='large', name=f'./fig-ehp-ratio-vs-cr-large', selector={'name': 'none'})\n",
    "    #tfb.save_fig_html(fig, format='small', name=f'./fig-ehp-ratio-vs-cr-small', selector={'name': 'none'})\n",
    "    pass"
   ]
  },
  {
   "cell_type": "code",
   "execution_count": 7,
   "metadata": {},
   "outputs": [
    {
     "data": {
      "application/vnd.plotly.v1+json": {
       "config": {
        "autosizable": true,
        "displayModeBar": "hover",
        "displaylogo": false,
        "doubleClick": "reset",
        "modeBarButtonsToRemove": [
         "select2d",
         "lasso2d",
         "zoom2d",
         "zoomIn2d",
         "zoomOut2d",
         "pan2d",
         "autoScale2d",
         "hoverClosestCartesian",
         "hoverCompareCartesian",
         "toggleSpikelines",
         "resetScale2d"
        ],
        "plotlyServerURL": "https://plot.ly",
        "responsive": true,
        "showAxisDragHandles": false,
        "toImageButtonOptions": {
         "filename": "tfb-plot",
         "format": "png",
         "height": 450,
         "scale": 2,
         "width": 600
        }
       },
       "data": [
        {
         "hoverinfo": "skip",
         "line": {
          "color": "black",
          "dash": "dash"
         },
         "mode": "lines",
         "name": "DMG",
         "type": "scatter",
         "x": [
          1,
          30
         ],
         "y": [
          1,
          1
         ]
        },
        {
         "hovertemplate": "<b>mean</b><br>CR %{x:,.0f}<br>eDPR Ratio %{y:,.1f}<br><extra></extra>",
         "line": {
          "color": "rgba(0,0,250,1)",
          "dash": "solid"
         },
         "mode": "lines",
         "name": "eDPR Ratio - mean",
         "type": "scatter",
         "x": [
          1,
          2,
          3,
          4,
          5,
          6,
          7,
          8,
          9,
          10,
          11,
          12,
          13,
          14,
          15,
          16,
          17,
          18,
          19,
          20,
          21,
          22,
          23,
          24,
          25,
          26,
          27,
          28,
          30
         ],
         "y": [
          1.3734671438127088,
          1.134065934065934,
          1.0638297872340428,
          0.9875706214689268,
          1.0422535211267605,
          1.1521084337349397,
          1.0407894736842107,
          1.03555066739967,
          1.09507331092437,
          1.0291872689717108,
          0.9860139860139858,
          1.1372759856630825,
          1.0800620625415838,
          1.1565280397268778,
          1.183827806864456,
          1.051801804511278,
          1.1051162790697675,
          1.11431718061674,
          1.1548117154811717,
          1.0841571346007604,
          1.0551839464882944,
          0.9168443496801706,
          0.9460916442048519,
          0.9083463815054725,
          0.923045351939257,
          0.8907762212943633,
          0.8651751794005911,
          0.8616744259449224,
          0.8270911296147673
         ]
        },
        {
         "hoverinfo": "skip",
         "legendgroup": "eDPR Ratio confidence",
         "line": {
          "width": 0
         },
         "showlegend": false,
         "type": "scatter",
         "x": [
          1,
          2,
          3,
          4,
          5,
          6,
          7,
          8,
          9,
          10,
          11,
          12,
          13,
          14,
          15,
          16,
          17,
          18,
          19,
          20,
          21,
          22,
          23,
          24,
          25,
          26,
          27,
          28,
          30
         ],
         "y": [
          1.7070234113712373,
          1.5824175824175823,
          1.3009118480243163,
          1.4005272804519773,
          1.297183091549296,
          1.4873493975903613,
          1.3644736842105263,
          1.213267323144585,
          1.2804745649036087,
          1.357521329142344,
          1.2965034965034965,
          1.4194026139068108,
          1.291528021290752,
          1.3875853507138427,
          1.4399069577661434,
          1.4637974500388902,
          1.3208372093023255,
          1.4553597973568282,
          1.259958137573222,
          1.14811152243346,
          1.1758772893772893,
          1.057995710021322,
          1.154665639840842,
          1.066249728836274,
          1.2093576925918326,
          1.0436895156576202,
          0.8977965386238922,
          0.8881874852047662,
          1.3250936252006422
         ]
        },
        {
         "fill": "tonexty",
         "fillcolor": "rgba(0,0,250,0.2)",
         "hoverinfo": "skip",
         "legendgroup": "eDPR Ratio confidence",
         "line": {
          "width": 0
         },
         "name": "eDPR Ratio - 60% confidence",
         "type": "scatter",
         "x": [
          1,
          2,
          3,
          4,
          5,
          6,
          7,
          8,
          9,
          10,
          11,
          12,
          13,
          14,
          15,
          16,
          17,
          18,
          19,
          20,
          21,
          22,
          23,
          24,
          25,
          26,
          27,
          28,
          30
         ],
         "y": [
          0.9525083612040134,
          0.8351648351648353,
          0.8632218844984804,
          0.7570621694915255,
          0.8535211267605635,
          0.8475903614457831,
          0.7331578947368421,
          0.7817482133040132,
          0.8688086999505685,
          0.8084418500224517,
          0.7692307692307693,
          0.9247311827956991,
          0.8343313373253495,
          0.8546244568590938,
          0.9899360093077372,
          0.8267219530204822,
          0.955286849488372,
          0.9574889867841408,
          0.8817015390794979,
          0.846615969581749,
          0.882943143812709,
          0.7853778544989339,
          0.8298464217687075,
          0.7743801652892561,
          0.7912989862507693,
          0.8220661666350352,
          0.8651751794005911,
          0.8616744259449224,
          0.6795969272338149
         ]
        }
       ],
       "layout": {
        "height": 450,
        "legend": {
         "bgcolor": "rgba(0,0,0,0)",
         "orientation": "v",
         "tracegroupgap": 0,
         "x": 0,
         "xanchor": "left",
         "y": 0,
         "yanchor": "bottom"
        },
        "margin": {
         "b": 55,
         "l": 70,
         "pad": 4,
         "r": 25,
         "t": 20
        },
        "template": {
         "layout": {
          "autosize": false,
          "font": {
           "family": "sans-serif",
           "size": 14
          },
          "hoverlabel": {
           "align": "left"
          },
          "hovermode": "closest",
          "margin": {
           "b": 55,
           "l": 60,
           "pad": 4,
           "r": 25,
           "t": 20
          },
          "template": {
           "data": {
            "bar": [
             {
              "error_x": {
               "color": "#2a3f5f"
              },
              "error_y": {
               "color": "#2a3f5f"
              },
              "marker": {
               "line": {
                "color": "white",
                "width": 0.5
               },
               "pattern": {
                "fillmode": "overlay",
                "size": 10,
                "solidity": 0.2
               }
              },
              "type": "bar"
             }
            ],
            "barpolar": [
             {
              "marker": {
               "line": {
                "color": "white",
                "width": 0.5
               },
               "pattern": {
                "fillmode": "overlay",
                "size": 10,
                "solidity": 0.2
               }
              },
              "type": "barpolar"
             }
            ],
            "carpet": [
             {
              "aaxis": {
               "endlinecolor": "#2a3f5f",
               "gridcolor": "#C8D4E3",
               "linecolor": "#C8D4E3",
               "minorgridcolor": "#C8D4E3",
               "startlinecolor": "#2a3f5f"
              },
              "baxis": {
               "endlinecolor": "#2a3f5f",
               "gridcolor": "#C8D4E3",
               "linecolor": "#C8D4E3",
               "minorgridcolor": "#C8D4E3",
               "startlinecolor": "#2a3f5f"
              },
              "type": "carpet"
             }
            ],
            "choropleth": [
             {
              "colorbar": {
               "outlinewidth": 0,
               "ticks": ""
              },
              "type": "choropleth"
             }
            ],
            "contour": [
             {
              "colorbar": {
               "outlinewidth": 0,
               "ticks": ""
              },
              "colorscale": [
               [
                0,
                "#0d0887"
               ],
               [
                0.1111111111111111,
                "#46039f"
               ],
               [
                0.2222222222222222,
                "#7201a8"
               ],
               [
                0.3333333333333333,
                "#9c179e"
               ],
               [
                0.4444444444444444,
                "#bd3786"
               ],
               [
                0.5555555555555556,
                "#d8576b"
               ],
               [
                0.6666666666666666,
                "#ed7953"
               ],
               [
                0.7777777777777778,
                "#fb9f3a"
               ],
               [
                0.8888888888888888,
                "#fdca26"
               ],
               [
                1,
                "#f0f921"
               ]
              ],
              "type": "contour"
             }
            ],
            "contourcarpet": [
             {
              "colorbar": {
               "outlinewidth": 0,
               "ticks": ""
              },
              "type": "contourcarpet"
             }
            ],
            "heatmap": [
             {
              "colorbar": {
               "outlinewidth": 0,
               "ticks": ""
              },
              "colorscale": [
               [
                0,
                "#0d0887"
               ],
               [
                0.1111111111111111,
                "#46039f"
               ],
               [
                0.2222222222222222,
                "#7201a8"
               ],
               [
                0.3333333333333333,
                "#9c179e"
               ],
               [
                0.4444444444444444,
                "#bd3786"
               ],
               [
                0.5555555555555556,
                "#d8576b"
               ],
               [
                0.6666666666666666,
                "#ed7953"
               ],
               [
                0.7777777777777778,
                "#fb9f3a"
               ],
               [
                0.8888888888888888,
                "#fdca26"
               ],
               [
                1,
                "#f0f921"
               ]
              ],
              "type": "heatmap"
             }
            ],
            "heatmapgl": [
             {
              "colorbar": {
               "outlinewidth": 0,
               "ticks": ""
              },
              "colorscale": [
               [
                0,
                "#0d0887"
               ],
               [
                0.1111111111111111,
                "#46039f"
               ],
               [
                0.2222222222222222,
                "#7201a8"
               ],
               [
                0.3333333333333333,
                "#9c179e"
               ],
               [
                0.4444444444444444,
                "#bd3786"
               ],
               [
                0.5555555555555556,
                "#d8576b"
               ],
               [
                0.6666666666666666,
                "#ed7953"
               ],
               [
                0.7777777777777778,
                "#fb9f3a"
               ],
               [
                0.8888888888888888,
                "#fdca26"
               ],
               [
                1,
                "#f0f921"
               ]
              ],
              "type": "heatmapgl"
             }
            ],
            "histogram": [
             {
              "marker": {
               "pattern": {
                "fillmode": "overlay",
                "size": 10,
                "solidity": 0.2
               }
              },
              "type": "histogram"
             }
            ],
            "histogram2d": [
             {
              "colorbar": {
               "outlinewidth": 0,
               "ticks": ""
              },
              "colorscale": [
               [
                0,
                "#0d0887"
               ],
               [
                0.1111111111111111,
                "#46039f"
               ],
               [
                0.2222222222222222,
                "#7201a8"
               ],
               [
                0.3333333333333333,
                "#9c179e"
               ],
               [
                0.4444444444444444,
                "#bd3786"
               ],
               [
                0.5555555555555556,
                "#d8576b"
               ],
               [
                0.6666666666666666,
                "#ed7953"
               ],
               [
                0.7777777777777778,
                "#fb9f3a"
               ],
               [
                0.8888888888888888,
                "#fdca26"
               ],
               [
                1,
                "#f0f921"
               ]
              ],
              "type": "histogram2d"
             }
            ],
            "histogram2dcontour": [
             {
              "colorbar": {
               "outlinewidth": 0,
               "ticks": ""
              },
              "colorscale": [
               [
                0,
                "#0d0887"
               ],
               [
                0.1111111111111111,
                "#46039f"
               ],
               [
                0.2222222222222222,
                "#7201a8"
               ],
               [
                0.3333333333333333,
                "#9c179e"
               ],
               [
                0.4444444444444444,
                "#bd3786"
               ],
               [
                0.5555555555555556,
                "#d8576b"
               ],
               [
                0.6666666666666666,
                "#ed7953"
               ],
               [
                0.7777777777777778,
                "#fb9f3a"
               ],
               [
                0.8888888888888888,
                "#fdca26"
               ],
               [
                1,
                "#f0f921"
               ]
              ],
              "type": "histogram2dcontour"
             }
            ],
            "mesh3d": [
             {
              "colorbar": {
               "outlinewidth": 0,
               "ticks": ""
              },
              "type": "mesh3d"
             }
            ],
            "parcoords": [
             {
              "line": {
               "colorbar": {
                "outlinewidth": 0,
                "ticks": ""
               }
              },
              "type": "parcoords"
             }
            ],
            "pie": [
             {
              "automargin": true,
              "type": "pie"
             }
            ],
            "scatter": [
             {
              "fillpattern": {
               "fillmode": "overlay",
               "size": 10,
               "solidity": 0.2
              },
              "type": "scatter"
             }
            ],
            "scatter3d": [
             {
              "line": {
               "colorbar": {
                "outlinewidth": 0,
                "ticks": ""
               }
              },
              "marker": {
               "colorbar": {
                "outlinewidth": 0,
                "ticks": ""
               }
              },
              "type": "scatter3d"
             }
            ],
            "scattercarpet": [
             {
              "marker": {
               "colorbar": {
                "outlinewidth": 0,
                "ticks": ""
               }
              },
              "type": "scattercarpet"
             }
            ],
            "scattergeo": [
             {
              "marker": {
               "colorbar": {
                "outlinewidth": 0,
                "ticks": ""
               }
              },
              "type": "scattergeo"
             }
            ],
            "scattergl": [
             {
              "marker": {
               "colorbar": {
                "outlinewidth": 0,
                "ticks": ""
               }
              },
              "type": "scattergl"
             }
            ],
            "scattermapbox": [
             {
              "marker": {
               "colorbar": {
                "outlinewidth": 0,
                "ticks": ""
               }
              },
              "type": "scattermapbox"
             }
            ],
            "scatterpolar": [
             {
              "marker": {
               "colorbar": {
                "outlinewidth": 0,
                "ticks": ""
               }
              },
              "type": "scatterpolar"
             }
            ],
            "scatterpolargl": [
             {
              "marker": {
               "colorbar": {
                "outlinewidth": 0,
                "ticks": ""
               }
              },
              "type": "scatterpolargl"
             }
            ],
            "scatterternary": [
             {
              "marker": {
               "colorbar": {
                "outlinewidth": 0,
                "ticks": ""
               }
              },
              "type": "scatterternary"
             }
            ],
            "surface": [
             {
              "colorbar": {
               "outlinewidth": 0,
               "ticks": ""
              },
              "colorscale": [
               [
                0,
                "#0d0887"
               ],
               [
                0.1111111111111111,
                "#46039f"
               ],
               [
                0.2222222222222222,
                "#7201a8"
               ],
               [
                0.3333333333333333,
                "#9c179e"
               ],
               [
                0.4444444444444444,
                "#bd3786"
               ],
               [
                0.5555555555555556,
                "#d8576b"
               ],
               [
                0.6666666666666666,
                "#ed7953"
               ],
               [
                0.7777777777777778,
                "#fb9f3a"
               ],
               [
                0.8888888888888888,
                "#fdca26"
               ],
               [
                1,
                "#f0f921"
               ]
              ],
              "type": "surface"
             }
            ],
            "table": [
             {
              "cells": {
               "fill": {
                "color": "#EBF0F8"
               },
               "line": {
                "color": "white"
               }
              },
              "header": {
               "fill": {
                "color": "#C8D4E3"
               },
               "line": {
                "color": "white"
               }
              },
              "type": "table"
             }
            ]
           },
           "layout": {
            "annotationdefaults": {
             "arrowcolor": "#2a3f5f",
             "arrowhead": 0,
             "arrowwidth": 1
            },
            "autotypenumbers": "strict",
            "coloraxis": {
             "colorbar": {
              "outlinewidth": 0,
              "ticks": ""
             }
            },
            "colorscale": {
             "diverging": [
              [
               0,
               "#8e0152"
              ],
              [
               0.1,
               "#c51b7d"
              ],
              [
               0.2,
               "#de77ae"
              ],
              [
               0.3,
               "#f1b6da"
              ],
              [
               0.4,
               "#fde0ef"
              ],
              [
               0.5,
               "#f7f7f7"
              ],
              [
               0.6,
               "#e6f5d0"
              ],
              [
               0.7,
               "#b8e186"
              ],
              [
               0.8,
               "#7fbc41"
              ],
              [
               0.9,
               "#4d9221"
              ],
              [
               1,
               "#276419"
              ]
             ],
             "sequential": [
              [
               0,
               "#0d0887"
              ],
              [
               0.1111111111111111,
               "#46039f"
              ],
              [
               0.2222222222222222,
               "#7201a8"
              ],
              [
               0.3333333333333333,
               "#9c179e"
              ],
              [
               0.4444444444444444,
               "#bd3786"
              ],
              [
               0.5555555555555556,
               "#d8576b"
              ],
              [
               0.6666666666666666,
               "#ed7953"
              ],
              [
               0.7777777777777778,
               "#fb9f3a"
              ],
              [
               0.8888888888888888,
               "#fdca26"
              ],
              [
               1,
               "#f0f921"
              ]
             ],
             "sequentialminus": [
              [
               0,
               "#0d0887"
              ],
              [
               0.1111111111111111,
               "#46039f"
              ],
              [
               0.2222222222222222,
               "#7201a8"
              ],
              [
               0.3333333333333333,
               "#9c179e"
              ],
              [
               0.4444444444444444,
               "#bd3786"
              ],
              [
               0.5555555555555556,
               "#d8576b"
              ],
              [
               0.6666666666666666,
               "#ed7953"
              ],
              [
               0.7777777777777778,
               "#fb9f3a"
              ],
              [
               0.8888888888888888,
               "#fdca26"
              ],
              [
               1,
               "#f0f921"
              ]
             ]
            },
            "colorway": [
             "#636efa",
             "#EF553B",
             "#00cc96",
             "#ab63fa",
             "#FFA15A",
             "#19d3f3",
             "#FF6692",
             "#B6E880",
             "#FF97FF",
             "#FECB52"
            ],
            "font": {
             "color": "#2a3f5f"
            },
            "geo": {
             "bgcolor": "white",
             "lakecolor": "white",
             "landcolor": "white",
             "showlakes": true,
             "showland": true,
             "subunitcolor": "#C8D4E3"
            },
            "hoverlabel": {
             "align": "left"
            },
            "hovermode": "closest",
            "mapbox": {
             "style": "light"
            },
            "paper_bgcolor": "white",
            "plot_bgcolor": "white",
            "polar": {
             "angularaxis": {
              "gridcolor": "#EBF0F8",
              "linecolor": "#EBF0F8",
              "ticks": ""
             },
             "bgcolor": "white",
             "radialaxis": {
              "gridcolor": "#EBF0F8",
              "linecolor": "#EBF0F8",
              "ticks": ""
             }
            },
            "scene": {
             "xaxis": {
              "backgroundcolor": "white",
              "gridcolor": "#DFE8F3",
              "gridwidth": 2,
              "linecolor": "#EBF0F8",
              "showbackground": true,
              "ticks": "",
              "zerolinecolor": "#EBF0F8"
             },
             "yaxis": {
              "backgroundcolor": "white",
              "gridcolor": "#DFE8F3",
              "gridwidth": 2,
              "linecolor": "#EBF0F8",
              "showbackground": true,
              "ticks": "",
              "zerolinecolor": "#EBF0F8"
             },
             "zaxis": {
              "backgroundcolor": "white",
              "gridcolor": "#DFE8F3",
              "gridwidth": 2,
              "linecolor": "#EBF0F8",
              "showbackground": true,
              "ticks": "",
              "zerolinecolor": "#EBF0F8"
             }
            },
            "shapedefaults": {
             "line": {
              "color": "#2a3f5f"
             }
            },
            "ternary": {
             "aaxis": {
              "gridcolor": "#DFE8F3",
              "linecolor": "#A2B1C6",
              "ticks": ""
             },
             "baxis": {
              "gridcolor": "#DFE8F3",
              "linecolor": "#A2B1C6",
              "ticks": ""
             },
             "bgcolor": "white",
             "caxis": {
              "gridcolor": "#DFE8F3",
              "linecolor": "#A2B1C6",
              "ticks": ""
             }
            },
            "title": {
             "x": 0.05
            },
            "xaxis": {
             "automargin": true,
             "gridcolor": "#EBF0F8",
             "linecolor": "#EBF0F8",
             "ticks": "",
             "title": {
              "standoff": 15
             },
             "zerolinecolor": "#EBF0F8",
             "zerolinewidth": 2
            },
            "yaxis": {
             "automargin": true,
             "gridcolor": "#EBF0F8",
             "linecolor": "#EBF0F8",
             "ticks": "",
             "title": {
              "standoff": 15
             },
             "zerolinecolor": "#EBF0F8",
             "zerolinewidth": 2
            }
           }
          },
          "xaxis": {
           "automargin": false,
           "linecolor": "#444",
           "linewidth": 2,
           "minor": {
            "tickmode": "linear",
            "ticks": "outside"
           },
           "mirror": true,
           "showline": true,
           "tickmode": "linear",
           "ticks": "outside",
           "zeroline": false
          },
          "yaxis": {
           "automargin": true,
           "linecolor": "#444",
           "linewidth": 2,
           "minor": {
            "tickmode": "linear",
            "ticks": "outside"
           },
           "mirror": true,
           "showline": true,
           "ticks": "outside",
           "zeroline": false
          }
         }
        },
        "width": 600,
        "xaxis": {
         "dtick": 5,
         "minor": {
          "dtick": 1,
          "tick0": 0
         },
         "range": [
          0,
          30
         ],
         "tick0": 0,
         "title": {
          "text": "CR"
         }
        },
        "yaxis": {
         "dtick": 0.2,
         "minor": {
          "dtick": 0.1,
          "tick0": 0
         },
         "range": [
          0,
          2
         ],
         "tick0": 0,
         "title": {
          "text": "eDPR Ratio"
         }
        }
       }
      }
     },
     "metadata": {},
     "output_type": "display_data"
    }
   ],
   "source": [
    "# eHP Ratio\n",
    "\n",
    "yCol = 'eDPR Ratio'\n",
    "\n",
    "conf = 0.6\n",
    "df1 = df0[df0['CR'].between(1,30)]\n",
    "dfM = df1[['CR',yCol]].groupby('CR').median()\n",
    "dfU = df1[['CR',yCol]].groupby('CR').quantile(0.5 + conf/2)\n",
    "dfL = df1[['CR',yCol]].groupby('CR').quantile(0.5 - conf/2)\n",
    "\n",
    "# CR\n",
    "# create figure\n",
    "fig = go.Figure(\n",
    "    layout=go.Layout(\n",
    "        template=tfb.FIG_TEMPLATE,\n",
    "        margin=dict(l=70, r=25, b=55, t=20, pad=4),\n",
    "        xaxis=dict(\n",
    "            title_text='CR',\n",
    "            range=[0,30],\n",
    "            tick0=0, dtick=5,\n",
    "            minor=dict(tick0=0, dtick=1),\n",
    "        ),\n",
    "        yaxis=dict(\n",
    "            title_text=yCol,\n",
    "            range=[0,2],\n",
    "            tick0=0, dtick=0.2,\n",
    "            minor=dict(tick0=0, dtick=0.1),\n",
    "        ),\n",
    "        legend=dict(\n",
    "            xanchor='left', yanchor='bottom',\n",
    "            x=0.00, y=0.00,\n",
    "            orientation='v',\n",
    "            tracegroupgap=0,\n",
    "            bgcolor='rgba(0,0,0,0)',\n",
    "        )\n",
    "    )\n",
    ")\n",
    "\n",
    "\n",
    "# add reference line\n",
    "fig.add_trace(go.Scatter(\n",
    "    x=[1,30], y=[1,1],\n",
    "    mode='lines', \n",
    "    line=dict(color='black', dash='dash'),\n",
    "    name='DMG',\n",
    "    hoverinfo='skip',\n",
    "))\n",
    "\n",
    "# add average value\n",
    "fig.add_trace(go.Scatter(\n",
    "    x=dfM.index, y=dfM[yCol],\n",
    "    mode='lines', \n",
    "    line=dict(color='rgba(0,0,250,1)', dash='solid'),\n",
    "    name=f'{yCol} - mean',\n",
    "    hovertemplate='<b>mean</b><br>' + 'CR %{x:,.0f}<br>' + yCol + ' %{y:,.1f}<br>' + '<extra></extra>'\n",
    "\n",
    "))\n",
    "\n",
    "# add confidence interval\n",
    "fig.add_trace(go.Scatter(x=dfM.index, y=dfU[yCol], line_width=0, legendgroup=f'{yCol} confidence', showlegend=False, hoverinfo='skip'))\n",
    "fig.add_trace(go.Scatter(x=dfM.index, y=dfL[yCol], line_width=0, name=f'{yCol} - {conf:.0%} confidence', legendgroup=f'{yCol} confidence', hoverinfo='skip', fill='tonexty', fillcolor='rgba(0,0,250,0.2)'))\n",
    "\n",
    "# show figure\n",
    "fig.update_layout(width=600, height=450)\n",
    "fig.show(config=tfb.FIG_CONFIG)\n",
    "\n",
    "# save figures\n",
    "if SAVEFIGS:\n",
    "    #fig.update_layout(autosize=True, width=None, height=None)\n",
    "    #tfb.save_fig_html(fig, format='large', name=f'./fig-edpr-ratio-vs-cr-large', selector={'name': 'none'})\n",
    "    #tfb.save_fig_html(fig, format='small', name=f'./fig-edpr-ratio-vs-cr-small', selector={'name': 'none'})\n",
    "    pass"
   ]
  }
 ],
 "metadata": {
  "kernelspec": {
   "display_name": "thefinishedbook",
   "language": "python",
   "name": "python3"
  },
  "language_info": {
   "codemirror_mode": {
    "name": "ipython",
    "version": 3
   },
   "file_extension": ".py",
   "mimetype": "text/x-python",
   "name": "python",
   "nbconvert_exporter": "python",
   "pygments_lexer": "ipython3",
   "version": "3.10.5"
  },
  "metadata": {
   "interpreter": {
    "hash": "ac2eaa0ea0ebeafcc7822e65e46aa9d4f966f30b695406963e145ea4a91cd4fc"
   }
  },
  "orig_nbformat": 2
 },
 "nbformat": 4,
 "nbformat_minor": 2
}
