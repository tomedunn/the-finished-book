{
 "cells": [
  {
   "cell_type": "code",
   "execution_count": 2,
   "metadata": {},
   "outputs": [],
   "source": [
    "# set parameters\n",
    "import pandas as pd\n",
    "import numpy as np\n",
    "from matplotlib import pyplot as plt\n",
    "from matplotlib.ticker import (MultipleLocator, FormatStrFormatter, AutoMinorLocator)\n",
    "import plotly.graph_objects as go\n",
    "pd.options.mode.chained_assignment = None  # default='warn'\n",
    "pd.options.display.float_format = '{:,.2f}'.format\n",
    "\n",
    "METADATA = {'Contributor': 'T. Dunn', 'Date': '2021-12-27'}\n",
    "FSIZE = [5,4]\n",
    "FDPI = 100\n",
    "SAVEFIGS = True\n",
    "SAVETABS = False"
   ]
  },
  {
   "cell_type": "code",
   "execution_count": 3,
   "metadata": {},
   "outputs": [],
   "source": [
    "# construct book dataframe\n",
    "ALL_BOOKS = ['BR','PH','MM','HotDQ','RoT','DMG','PotA','OotA','SCAG','CoS','SKT','VGtM','TftYP','ToA','XGtE','MToF','WDH','WDotMM','GGtR','GoS','BGDiA','ERftLW','EGtW','MOoT','IDRotF','TCoE','CM','VRGtR','WBtW','FToD','SaCoC']\n",
    "ALL_SOURCE_BOOKS = ['BR','PH','MM','DMG','SCAG','VGtM','XGtE','MToF','GGtR','ERftLW','EGtW','MOoT','TCoE','VRGtR','FToD','SaCoC']\n",
    "ALL_ADVENTURE_BOOKS = ['HotDQ','RoT','PotA','OotA','CoS','SKT','TftYP','ToA','WDH','WDotMM','GoS','BGDiA','IDRotF','CM','WBtW']\n",
    "\n",
    "dfB = pd.DataFrame({\n",
    "    'Book':  ['PH','HotDQ','MM','RoT','DMG','PotA','OotA','SCAG','CoS','SKT','VGtM','TftYP','ToA','XGtE','MToF','WDH','BR','WDotMM','GGtR','GoS','BGDiA','ERftLW','EGtW','MOoT','IDRotF','TCoE','CM','VRGtR','WBtW','FToD','SaCoC'],\n",
    "    'Year':  [2014, 2014, 2014, 2014, 2014, 2015, 2015, 2015, 2016, 2016, 2016, 2017, 2017, 2017, 2018, 2018, 2018, 2018, 2018, 2019, 2019, 2019, 2020, 2020, 2020, 2020, 2021, 2021, 2021, 2021, 2021], \n",
    "    'Month': [   8,    8,    9,   11,   12,    4,    9,   11,    3,    9,   11,    4,    9,   11,    5,    9,   11,  11,   11,    5,    9,   11,    3,    7,    9,   11,    3,    5,    9,   10,   12], \n",
    "    'Day':   [  19,   19,    7,    4,    9,    7,   15,    3,   16,    6,   15,    4,   19,   12,   29,   18,   19,  20,   20,   21,   17,   19,    7,   21,   15,   17,   16,   18,   21,   26,    7]\n",
    "})\n",
    "dfB['Type'] = dfB.apply(lambda row: ('Source' if (row['Book'] in ALL_SOURCE_BOOKS) else 'Adventure'), axis=1)\n",
    "dfB['Date'] = pd.to_datetime(dfB[['Year', 'Month', 'Day']])\n",
    "dfB = dfB.sort_values(by=['Date'])\n",
    "dfB = dfB.set_index('Book')"
   ]
  },
  {
   "cell_type": "code",
   "execution_count": 4,
   "metadata": {},
   "outputs": [],
   "source": [
    "# define functions\n",
    "def find_nearest_loc(array, value):\n",
    "    array = np.asarray(array)\n",
    "    idx = (np.abs(array - value)).argmin()\n",
    "    return idx\n",
    "\n",
    "def find_nearest_CR(CRs, array, value):\n",
    "    idx = find_nearest_loc(array, value)\n",
    "    CRs = np.asarray(CRs)\n",
    "    return CRs[idx]\n",
    "\n",
    "def effective_DPR_exp(DPR, AB):\n",
    "    return np.power(0.6,  0.5)*DPR*np.power(1 + 0.05/0.6, AB - 3)\n",
    "\n",
    "def effective_HP_exp(HP, AC):\n",
    "    return np.power(0.6, -0.5)*HP*np.power(1 + 0.05/0.6, AC - 13)\n",
    "\n",
    "def effective_XP_exp(HP, AC, DPR, AB):\n",
    "    return 0.25*HP*DPR*np.power(1 + 0.05/0.6, AC + AB - 16)\n",
    "\n",
    "def effective_DPR_linear(DPR, AB):\n",
    "    return np.power(0.6,  0.5)*DPR*(1 + (0.05/0.6)*(AB - 3))\n",
    "\n",
    "def effective_HP_linear(HP, AC):\n",
    "    return np.power(0.6, -0.5)*HP*(1 + (0.05/0.6)*(AC - 13))\n",
    "\n",
    "def effective_XP_linear(HP, AC, DPR, AB):\n",
    "    return 0.25*HP*DPR*(1 + (0.05/0.6)*(AC + AB - 16))\n",
    "    \n",
    "def defensive_CR(df, HP, AC):\n",
    "    n = df.shape[0]\n",
    "    id = find_nearest_loc(df['HP Mean'], HP)\n",
    "    CR_t = df.index[id]\n",
    "    AC_t = df['AC'].loc[CR_t]\n",
    "    id = int(max(0, min(n - 1, id + np.fix(0.5*(AC - AC_t)))))\n",
    "    CR = df.index[id]\n",
    "    return CR\n",
    "\n",
    "def offensive_CR(df, DPR, AB):\n",
    "    n = df.shape[0]\n",
    "    id = find_nearest_loc(df['DPR Mean'], DPR)\n",
    "    CR_t = df.index[id]\n",
    "    AB_t = df['AB'].loc[CR_t]\n",
    "    id = int(max(0, min(n - 1, id + np.fix(0.5*(AB - AB_t)))))\n",
    "    CR = df.index[id]\n",
    "    return CR\n",
    "    \n",
    "def rsquared(y, yf):\n",
    "    y = np.asarray(y)\n",
    "    yf = np.asarray(yf)\n",
    "    ybar = np.mean(y)\n",
    "    SStot = np.sum(np.power(np.subtract(y, ybar), 2))\n",
    "    SSres = np.sum(np.power(y - yf, 2))\n",
    "    return 1 - SSres/SStot"
   ]
  },
  {
   "cell_type": "code",
   "execution_count": 5,
   "metadata": {},
   "outputs": [
    {
     "name": "stdout",
     "output_type": "stream",
     "text": [
      "Includes 1473 monsters in database\n"
     ]
    }
   ],
   "source": [
    "from scipy.interpolate import interp1d\n",
    "\n",
    "# import data\n",
    "dfD = pd.read_csv('dmg-targets-cr-and-xp.csv') # 'CR','PB','XP','AC','HP Mean','AB','DPR Mean'\n",
    "dfD['eHP Mean']  = dfD.apply(lambda row: effective_HP_linear(row['HP Mean'], row['AC']), axis=1)\n",
    "dfD['eDPR Mean'] = dfD.apply(lambda row: effective_DPR_linear(row['DPR Mean'], row['AB']), axis=1)\n",
    "dfD['eXP Mean'] = dfD.apply(lambda row: effective_XP_linear(row['HP Mean'], row['AC'], row['DPR Mean'], row['AB']), axis=1)\n",
    "dfD.set_index('CR', inplace=True)\n",
    "\n",
    "xp2cr  = interp1d(dfD['eXP Mean'], dfD.index, kind='cubic', fill_value=(0.0,30.0), bounds_error=False)\n",
    "hp2cr  = interp1d(dfD['eHP Mean'], dfD.index, kind='cubic', fill_value=(0.0,30.0), bounds_error=False)\n",
    "dpr2cr = interp1d(dfD['eDPR Mean'], dfD.index, kind='cubic', fill_value=(0.0,30.0), bounds_error=False)\n",
    "\n",
    "df0 = pd.read_csv('monster-cr-and-xp.csv')  # 'Monster','Book','Page','Type','Category','Legendary','CR','PB','XP',\n",
    "                                            # 'HP','AC','adj HP','adj AC',\n",
    "                                            # 'AB','adj AB','DPR', 'adj DPR'\n",
    "\n",
    "df0 = df0.astype({'Book': 'category', 'Category': 'category', 'Legendary': 'category', 'Type': 'category'})\n",
    "\n",
    "df0['eHP']  = df0.apply(lambda row: effective_HP_linear(row['adj HP'], row['adj AC']), axis=1)\n",
    "df0['eDPR'] = df0.apply(lambda row: effective_DPR_linear(row['adj DPR'], row['adj AB']), axis=1)\n",
    "df0['eXP']  = df0.apply(lambda row: effective_XP_linear(row['adj HP'], row['adj AC'], row['adj DPR'], row['adj AB']), axis=1)\n",
    "#df0['eCR']  = df0.apply(lambda row: find_nearest_CR(dfD.index, dfD['eXP Mean'], row['eXP']), axis=1)\n",
    "df0['D-eCR']  = df0.apply(lambda row: float(hp2cr(row['eHP'])), axis=1)\n",
    "df0['O-eCR']  = df0.apply(lambda row: float(dpr2cr(row['eDPR'])), axis=1)\n",
    "df0['eCR']  = df0.apply(lambda row: float(xp2cr(row['eXP'])), axis=1)\n",
    "df0['eHP Ratio'] = df0.apply(lambda row: row['eHP']/dfD.loc[row['CR'], 'eHP Mean'], axis=1)\n",
    "df0['eDPR Ratio'] = df0.apply(lambda row: row['eDPR']/dfD.loc[row['CR'], 'eDPR Mean'], axis=1)\n",
    "df0['eCR Delta'] = df0['eCR'] - df0['CR']\n",
    "df0['eXP Ratio'] = df0['eXP'] / df0['XP']\n",
    "df0['eXP Skew'] = (df0['eDPR Ratio'] - df0['eHP Ratio'])/(df0['eDPR Ratio'] + df0['eHP Ratio'])\n",
    "\n",
    "df0['D-CR DMG'] = df0.apply(lambda row: defensive_CR(dfD, row['adj HP'], row['adj AC']), axis=1)\n",
    "df0['O-CR DMG'] = df0.apply(lambda row: offensive_CR(dfD, row['adj DPR'], row['adj AB']), axis=1)\n",
    "df0['C-CR DMG'] = df0.apply(lambda row: find_nearest_CR(dfD.index, dfD.index, 0.5*(row['D-CR DMG'] + row['O-CR DMG'])), axis=1)\n",
    "df0['C-CR DMG Delta'] = df0['C-CR DMG'] - df0['CR']\n",
    "df0['XP DMG'] = df0.apply(lambda row: dfD.loc[row['C-CR DMG'], 'XP'], axis=1)\n",
    "df0['XP DMG Ratio'] = df0['XP DMG'] / df0['XP']\n",
    "#df0['C-CR DMG'] = 0.5*(df0['D-CR DMG'] + df0['O-CR DMG'])\n",
    "\n",
    "df0['Date'] = df0.apply(lambda row: dfB.loc[row['Book'], 'Date'], axis=1)\n",
    "df0['Book Type'] = df0.apply(lambda row: dfB.loc[row['Book'], 'Type'], axis=1)\n",
    "\n",
    "len(df0.index.tolist())\n",
    "print('Includes {} monsters in database'.format(len(df0.index.to_list())))"
   ]
  },
  {
   "cell_type": "code",
   "execution_count": 46,
   "metadata": {},
   "outputs": [],
   "source": [
    "# Setup template and html config for plotly figures.\n",
    "TFB_TEMPLATE = dict(\n",
    "    layout=go.Layout(\n",
    "        template='plotly_white',\n",
    "        autosize=True, # must be True to auto-scale when resizing\n",
    "        margin=dict(l=50, r=25, b=80, t=40, pad=4),\n",
    "        font=dict(\n",
    "            family='sans-serif',\n",
    "            size=14\n",
    "        ),\n",
    "        hovermode='closest',\n",
    "        xaxis=dict(\n",
    "            autorange=False,\n",
    "            automargin=True,\n",
    "            showline=True,\n",
    "            linecolor='#444',\n",
    "            linewidth=2,\n",
    "            mirror=True,\n",
    "            ticks='outside',\n",
    "            minor=dict(ticks='outside'),\n",
    "            zeroline=False,\n",
    "        ),\n",
    "        yaxis=dict(\n",
    "            autorange=False,\n",
    "            automargin=True,\n",
    "            showline=True,\n",
    "            linecolor='#444',\n",
    "            linewidth=2,\n",
    "            mirror=True,\n",
    "            ticks='outside',\n",
    "            minor=dict(ticks='outside'),\n",
    "            zeroline=False,\n",
    "        ),\n",
    "        legend=dict(\n",
    "            bordercolor='Black',\n",
    "            borderwidth=1,\n",
    "            font_size=14,\n",
    "            tracegroupgap=5,\n",
    "            orientation='h',\n",
    "        )\n",
    "    )\n",
    ")\n",
    "\n",
    "TFB_CONFIG = {\n",
    "    'responsive': True, # must be True to auto-scale when resizing\n",
    "    'autosizable': False, # doesn't impact auto rescaling\n",
    "    'showAxisDragHandles': False,\n",
    "    'displaylogo': False,\n",
    "    'displayModeBar': 'hover',\n",
    "    'modeBarButtonsToRemove': [\n",
    "        'select2d',\n",
    "        'lasso2d',\n",
    "        'zoom2d',\n",
    "        'zoomIn2d',\n",
    "        'zoomOut2d',\n",
    "        'pan2d',\n",
    "        'autoScale2d',\n",
    "        'hoverClosestCartesian',\n",
    "        'hoverCompareCartesian',\n",
    "        'toggleSpikelines',\n",
    "        'resetScale2d',\n",
    "    ],\n",
    "    'toImageButtonOptions': {\n",
    "        'format': 'png', # one of png, svg, jpeg, webp\n",
    "        'filename': 'tfb-plot',\n",
    "        'height': 450,\n",
    "        'width': 600,\n",
    "        'scale': 2\n",
    "    },\n",
    "}\n"
   ]
  },
  {
   "cell_type": "code",
   "execution_count": 47,
   "metadata": {},
   "outputs": [
    {
     "data": {
      "application/vnd.plotly.v1+json": {
       "config": {
        "autosizable": false,
        "displayModeBar": "hover",
        "displaylogo": false,
        "modeBarButtonsToRemove": [
         "select2d",
         "lasso2d",
         "zoom2d",
         "zoomIn2d",
         "zoomOut2d",
         "pan2d",
         "autoScale2d",
         "hoverClosestCartesian",
         "hoverCompareCartesian",
         "toggleSpikelines",
         "resetScale2d"
        ],
        "plotlyServerURL": "https://plot.ly",
        "responsive": true,
        "showAxisDragHandles": false,
        "toImageButtonOptions": {
         "filename": "tfb-plot",
         "format": "png",
         "height": 450,
         "scale": 2,
         "width": 600
        }
       },
       "data": [
        {
         "customdata": [
          [
           "HotDQ",
           13
          ],
          [
           "RoT",
           6
          ],
          [
           "PotA",
           37
          ],
          [
           "OotA",
           14
          ],
          [
           "CoS",
           14
          ],
          [
           "SKT",
           15
          ],
          [
           "TftYP",
           32
          ],
          [
           "ToA",
           22
          ],
          [
           "WDH",
           26
          ],
          [
           "WDotMM",
           15
          ],
          [
           "GoS",
           34
          ],
          [
           "BGDiA",
           22
          ],
          [
           "IDRotF",
           40
          ],
          [
           "CM",
           13
          ],
          [
           "WBtW",
           24
          ]
         ],
         "hovertemplate": "<b>%{customdata[0]}</b><br>Date: %{x}<br>XP ratio: %{y:.2f}<br>Monsters: %{customdata[1]:.0f}<extra></extra>",
         "marker": {
          "color": "rgba(0,0,0,0.0)",
          "line": {
           "color": "rgba(31,119,180,1.0)",
           "width": 2
          },
          "size": 10
         },
         "mode": "markers",
         "name": "adventure modules - normal",
         "type": "scatter",
         "x": [
          "2014-08-19T00:00:00",
          "2014-11-04T00:00:00",
          "2015-04-07T00:00:00",
          "2015-09-15T00:00:00",
          "2016-03-16T00:00:00",
          "2016-09-06T00:00:00",
          "2017-04-04T00:00:00",
          "2017-09-19T00:00:00",
          "2018-09-18T00:00:00",
          "2018-11-20T00:00:00",
          "2019-05-21T00:00:00",
          "2019-09-17T00:00:00",
          "2020-09-15T00:00:00",
          "2021-03-16T00:00:00",
          "2021-09-21T00:00:00"
         ],
         "y": [
          0.8775995613655733,
          0.5568873722860792,
          0.8677026959515144,
          0.7133929828717961,
          0.7607833235789501,
          0.7953554815838946,
          0.7299348627532725,
          0.8371740738614878,
          0.7891512855194687,
          0.8982320114820791,
          0.6935848750300372,
          0.9143694215256984,
          0.7639750683893753,
          0.6571396947840461,
          0.7821142323627011
         ]
        },
        {
         "customdata": [
          [
           "HotDQ",
           1
          ],
          [
           "RoT",
           2
          ],
          [
           "PotA",
           4
          ],
          [
           "OotA",
           9
          ],
          [
           "CoS",
           1
          ],
          [
           "SKT",
           3
          ],
          [
           "TftYP",
           1
          ],
          [
           "ToA",
           2
          ],
          [
           "WDH",
           2
          ],
          [
           "WDotMM",
           3
          ],
          [
           "GoS",
           5
          ],
          [
           "BGDiA",
           2
          ],
          [
           "IDRotF",
           3
          ],
          [
           "CM",
           4
          ],
          [
           "WBtW",
           2
          ]
         ],
         "hovertemplate": "<b>%{customdata[0]}</b><br>Date: %{x}<br>XP ratio: %{y:.2f}<br>Monsters: %{customdata[1]:.0f}<extra></extra>",
         "marker": {
          "color": "rgba(31,119,180,1.0)",
          "line": {
           "color": "rgba(31,119,180,1.0)",
           "width": 2
          },
          "size": 10
         },
         "mode": "markers",
         "name": "adventure modules - legendary",
         "type": "scatter",
         "x": [
          "2014-08-19T00:00:00",
          "2014-11-04T00:00:00",
          "2015-04-07T00:00:00",
          "2015-09-15T00:00:00",
          "2016-03-16T00:00:00",
          "2016-09-06T00:00:00",
          "2017-04-04T00:00:00",
          "2017-09-19T00:00:00",
          "2018-09-18T00:00:00",
          "2018-11-20T00:00:00",
          "2019-05-21T00:00:00",
          "2019-09-17T00:00:00",
          "2020-09-15T00:00:00",
          "2021-03-16T00:00:00",
          "2021-09-21T00:00:00"
         ],
         "y": [
          1.074712643678161,
          3.2140550627240145,
          2.1609419957386367,
          1.349255844769214,
          1.9655073150977567,
          1.7560657715444448,
          1.73267309348,
          1.3014960000000002,
          0.8440463518435899,
          1.188315867003367,
          0.9880377603666115,
          1.1036405980625004,
          1.2670138348524798,
          0.9939982423737805,
          1.1953494215933333
         ]
        },
        {
         "hoverinfo": "skip",
         "line": {
          "color": "black",
          "dash": "dash"
         },
         "mode": "lines",
         "showlegend": false,
         "type": "scatter",
         "x": [
          "2014-01-01",
          "2022-09-17"
         ],
         "y": [
          1,
          1
         ]
        }
       ],
       "layout": {
        "hoverlabel": {
         "bgcolor": "white"
        },
        "legend": {
         "orientation": "v",
         "x": 0.99,
         "xanchor": "right",
         "y": 0.99,
         "yanchor": "top"
        },
        "template": {
         "data": {
          "bar": [
           {
            "error_x": {
             "color": "#2a3f5f"
            },
            "error_y": {
             "color": "#2a3f5f"
            },
            "marker": {
             "line": {
              "color": "#E5ECF6",
              "width": 0.5
             },
             "pattern": {
              "fillmode": "overlay",
              "size": 10,
              "solidity": 0.2
             }
            },
            "type": "bar"
           }
          ],
          "barpolar": [
           {
            "marker": {
             "line": {
              "color": "#E5ECF6",
              "width": 0.5
             },
             "pattern": {
              "fillmode": "overlay",
              "size": 10,
              "solidity": 0.2
             }
            },
            "type": "barpolar"
           }
          ],
          "carpet": [
           {
            "aaxis": {
             "endlinecolor": "#2a3f5f",
             "gridcolor": "white",
             "linecolor": "white",
             "minorgridcolor": "white",
             "startlinecolor": "#2a3f5f"
            },
            "baxis": {
             "endlinecolor": "#2a3f5f",
             "gridcolor": "white",
             "linecolor": "white",
             "minorgridcolor": "white",
             "startlinecolor": "#2a3f5f"
            },
            "type": "carpet"
           }
          ],
          "choropleth": [
           {
            "colorbar": {
             "outlinewidth": 0,
             "ticks": ""
            },
            "type": "choropleth"
           }
          ],
          "contour": [
           {
            "colorbar": {
             "outlinewidth": 0,
             "ticks": ""
            },
            "colorscale": [
             [
              0,
              "#0d0887"
             ],
             [
              0.1111111111111111,
              "#46039f"
             ],
             [
              0.2222222222222222,
              "#7201a8"
             ],
             [
              0.3333333333333333,
              "#9c179e"
             ],
             [
              0.4444444444444444,
              "#bd3786"
             ],
             [
              0.5555555555555556,
              "#d8576b"
             ],
             [
              0.6666666666666666,
              "#ed7953"
             ],
             [
              0.7777777777777778,
              "#fb9f3a"
             ],
             [
              0.8888888888888888,
              "#fdca26"
             ],
             [
              1,
              "#f0f921"
             ]
            ],
            "type": "contour"
           }
          ],
          "contourcarpet": [
           {
            "colorbar": {
             "outlinewidth": 0,
             "ticks": ""
            },
            "type": "contourcarpet"
           }
          ],
          "heatmap": [
           {
            "colorbar": {
             "outlinewidth": 0,
             "ticks": ""
            },
            "colorscale": [
             [
              0,
              "#0d0887"
             ],
             [
              0.1111111111111111,
              "#46039f"
             ],
             [
              0.2222222222222222,
              "#7201a8"
             ],
             [
              0.3333333333333333,
              "#9c179e"
             ],
             [
              0.4444444444444444,
              "#bd3786"
             ],
             [
              0.5555555555555556,
              "#d8576b"
             ],
             [
              0.6666666666666666,
              "#ed7953"
             ],
             [
              0.7777777777777778,
              "#fb9f3a"
             ],
             [
              0.8888888888888888,
              "#fdca26"
             ],
             [
              1,
              "#f0f921"
             ]
            ],
            "type": "heatmap"
           }
          ],
          "heatmapgl": [
           {
            "colorbar": {
             "outlinewidth": 0,
             "ticks": ""
            },
            "colorscale": [
             [
              0,
              "#0d0887"
             ],
             [
              0.1111111111111111,
              "#46039f"
             ],
             [
              0.2222222222222222,
              "#7201a8"
             ],
             [
              0.3333333333333333,
              "#9c179e"
             ],
             [
              0.4444444444444444,
              "#bd3786"
             ],
             [
              0.5555555555555556,
              "#d8576b"
             ],
             [
              0.6666666666666666,
              "#ed7953"
             ],
             [
              0.7777777777777778,
              "#fb9f3a"
             ],
             [
              0.8888888888888888,
              "#fdca26"
             ],
             [
              1,
              "#f0f921"
             ]
            ],
            "type": "heatmapgl"
           }
          ],
          "histogram": [
           {
            "marker": {
             "pattern": {
              "fillmode": "overlay",
              "size": 10,
              "solidity": 0.2
             }
            },
            "type": "histogram"
           }
          ],
          "histogram2d": [
           {
            "colorbar": {
             "outlinewidth": 0,
             "ticks": ""
            },
            "colorscale": [
             [
              0,
              "#0d0887"
             ],
             [
              0.1111111111111111,
              "#46039f"
             ],
             [
              0.2222222222222222,
              "#7201a8"
             ],
             [
              0.3333333333333333,
              "#9c179e"
             ],
             [
              0.4444444444444444,
              "#bd3786"
             ],
             [
              0.5555555555555556,
              "#d8576b"
             ],
             [
              0.6666666666666666,
              "#ed7953"
             ],
             [
              0.7777777777777778,
              "#fb9f3a"
             ],
             [
              0.8888888888888888,
              "#fdca26"
             ],
             [
              1,
              "#f0f921"
             ]
            ],
            "type": "histogram2d"
           }
          ],
          "histogram2dcontour": [
           {
            "colorbar": {
             "outlinewidth": 0,
             "ticks": ""
            },
            "colorscale": [
             [
              0,
              "#0d0887"
             ],
             [
              0.1111111111111111,
              "#46039f"
             ],
             [
              0.2222222222222222,
              "#7201a8"
             ],
             [
              0.3333333333333333,
              "#9c179e"
             ],
             [
              0.4444444444444444,
              "#bd3786"
             ],
             [
              0.5555555555555556,
              "#d8576b"
             ],
             [
              0.6666666666666666,
              "#ed7953"
             ],
             [
              0.7777777777777778,
              "#fb9f3a"
             ],
             [
              0.8888888888888888,
              "#fdca26"
             ],
             [
              1,
              "#f0f921"
             ]
            ],
            "type": "histogram2dcontour"
           }
          ],
          "mesh3d": [
           {
            "colorbar": {
             "outlinewidth": 0,
             "ticks": ""
            },
            "type": "mesh3d"
           }
          ],
          "parcoords": [
           {
            "line": {
             "colorbar": {
              "outlinewidth": 0,
              "ticks": ""
             }
            },
            "type": "parcoords"
           }
          ],
          "pie": [
           {
            "automargin": true,
            "type": "pie"
           }
          ],
          "scatter": [
           {
            "fillpattern": {
             "fillmode": "overlay",
             "size": 10,
             "solidity": 0.2
            },
            "type": "scatter"
           }
          ],
          "scatter3d": [
           {
            "line": {
             "colorbar": {
              "outlinewidth": 0,
              "ticks": ""
             }
            },
            "marker": {
             "colorbar": {
              "outlinewidth": 0,
              "ticks": ""
             }
            },
            "type": "scatter3d"
           }
          ],
          "scattercarpet": [
           {
            "marker": {
             "colorbar": {
              "outlinewidth": 0,
              "ticks": ""
             }
            },
            "type": "scattercarpet"
           }
          ],
          "scattergeo": [
           {
            "marker": {
             "colorbar": {
              "outlinewidth": 0,
              "ticks": ""
             }
            },
            "type": "scattergeo"
           }
          ],
          "scattergl": [
           {
            "marker": {
             "colorbar": {
              "outlinewidth": 0,
              "ticks": ""
             }
            },
            "type": "scattergl"
           }
          ],
          "scattermapbox": [
           {
            "marker": {
             "colorbar": {
              "outlinewidth": 0,
              "ticks": ""
             }
            },
            "type": "scattermapbox"
           }
          ],
          "scatterpolar": [
           {
            "marker": {
             "colorbar": {
              "outlinewidth": 0,
              "ticks": ""
             }
            },
            "type": "scatterpolar"
           }
          ],
          "scatterpolargl": [
           {
            "marker": {
             "colorbar": {
              "outlinewidth": 0,
              "ticks": ""
             }
            },
            "type": "scatterpolargl"
           }
          ],
          "scatterternary": [
           {
            "marker": {
             "colorbar": {
              "outlinewidth": 0,
              "ticks": ""
             }
            },
            "type": "scatterternary"
           }
          ],
          "surface": [
           {
            "colorbar": {
             "outlinewidth": 0,
             "ticks": ""
            },
            "colorscale": [
             [
              0,
              "#0d0887"
             ],
             [
              0.1111111111111111,
              "#46039f"
             ],
             [
              0.2222222222222222,
              "#7201a8"
             ],
             [
              0.3333333333333333,
              "#9c179e"
             ],
             [
              0.4444444444444444,
              "#bd3786"
             ],
             [
              0.5555555555555556,
              "#d8576b"
             ],
             [
              0.6666666666666666,
              "#ed7953"
             ],
             [
              0.7777777777777778,
              "#fb9f3a"
             ],
             [
              0.8888888888888888,
              "#fdca26"
             ],
             [
              1,
              "#f0f921"
             ]
            ],
            "type": "surface"
           }
          ],
          "table": [
           {
            "cells": {
             "fill": {
              "color": "#EBF0F8"
             },
             "line": {
              "color": "white"
             }
            },
            "header": {
             "fill": {
              "color": "#C8D4E3"
             },
             "line": {
              "color": "white"
             }
            },
            "type": "table"
           }
          ]
         },
         "layout": {
          "autosize": true,
          "font": {
           "family": "sans-serif",
           "size": 14
          },
          "hovermode": "closest",
          "legend": {
           "bordercolor": "Black",
           "borderwidth": 1,
           "font": {
            "size": 14
           },
           "orientation": "h",
           "tracegroupgap": 5
          },
          "margin": {
           "b": 80,
           "l": 50,
           "pad": 4,
           "r": 25,
           "t": 40
          },
          "template": {
           "data": {
            "bar": [
             {
              "error_x": {
               "color": "#2a3f5f"
              },
              "error_y": {
               "color": "#2a3f5f"
              },
              "marker": {
               "line": {
                "color": "white",
                "width": 0.5
               },
               "pattern": {
                "fillmode": "overlay",
                "size": 10,
                "solidity": 0.2
               }
              },
              "type": "bar"
             }
            ],
            "barpolar": [
             {
              "marker": {
               "line": {
                "color": "white",
                "width": 0.5
               },
               "pattern": {
                "fillmode": "overlay",
                "size": 10,
                "solidity": 0.2
               }
              },
              "type": "barpolar"
             }
            ],
            "carpet": [
             {
              "aaxis": {
               "endlinecolor": "#2a3f5f",
               "gridcolor": "#C8D4E3",
               "linecolor": "#C8D4E3",
               "minorgridcolor": "#C8D4E3",
               "startlinecolor": "#2a3f5f"
              },
              "baxis": {
               "endlinecolor": "#2a3f5f",
               "gridcolor": "#C8D4E3",
               "linecolor": "#C8D4E3",
               "minorgridcolor": "#C8D4E3",
               "startlinecolor": "#2a3f5f"
              },
              "type": "carpet"
             }
            ],
            "choropleth": [
             {
              "colorbar": {
               "outlinewidth": 0,
               "ticks": ""
              },
              "type": "choropleth"
             }
            ],
            "contour": [
             {
              "colorbar": {
               "outlinewidth": 0,
               "ticks": ""
              },
              "colorscale": [
               [
                0,
                "#0d0887"
               ],
               [
                0.1111111111111111,
                "#46039f"
               ],
               [
                0.2222222222222222,
                "#7201a8"
               ],
               [
                0.3333333333333333,
                "#9c179e"
               ],
               [
                0.4444444444444444,
                "#bd3786"
               ],
               [
                0.5555555555555556,
                "#d8576b"
               ],
               [
                0.6666666666666666,
                "#ed7953"
               ],
               [
                0.7777777777777778,
                "#fb9f3a"
               ],
               [
                0.8888888888888888,
                "#fdca26"
               ],
               [
                1,
                "#f0f921"
               ]
              ],
              "type": "contour"
             }
            ],
            "contourcarpet": [
             {
              "colorbar": {
               "outlinewidth": 0,
               "ticks": ""
              },
              "type": "contourcarpet"
             }
            ],
            "heatmap": [
             {
              "colorbar": {
               "outlinewidth": 0,
               "ticks": ""
              },
              "colorscale": [
               [
                0,
                "#0d0887"
               ],
               [
                0.1111111111111111,
                "#46039f"
               ],
               [
                0.2222222222222222,
                "#7201a8"
               ],
               [
                0.3333333333333333,
                "#9c179e"
               ],
               [
                0.4444444444444444,
                "#bd3786"
               ],
               [
                0.5555555555555556,
                "#d8576b"
               ],
               [
                0.6666666666666666,
                "#ed7953"
               ],
               [
                0.7777777777777778,
                "#fb9f3a"
               ],
               [
                0.8888888888888888,
                "#fdca26"
               ],
               [
                1,
                "#f0f921"
               ]
              ],
              "type": "heatmap"
             }
            ],
            "heatmapgl": [
             {
              "colorbar": {
               "outlinewidth": 0,
               "ticks": ""
              },
              "colorscale": [
               [
                0,
                "#0d0887"
               ],
               [
                0.1111111111111111,
                "#46039f"
               ],
               [
                0.2222222222222222,
                "#7201a8"
               ],
               [
                0.3333333333333333,
                "#9c179e"
               ],
               [
                0.4444444444444444,
                "#bd3786"
               ],
               [
                0.5555555555555556,
                "#d8576b"
               ],
               [
                0.6666666666666666,
                "#ed7953"
               ],
               [
                0.7777777777777778,
                "#fb9f3a"
               ],
               [
                0.8888888888888888,
                "#fdca26"
               ],
               [
                1,
                "#f0f921"
               ]
              ],
              "type": "heatmapgl"
             }
            ],
            "histogram": [
             {
              "marker": {
               "pattern": {
                "fillmode": "overlay",
                "size": 10,
                "solidity": 0.2
               }
              },
              "type": "histogram"
             }
            ],
            "histogram2d": [
             {
              "colorbar": {
               "outlinewidth": 0,
               "ticks": ""
              },
              "colorscale": [
               [
                0,
                "#0d0887"
               ],
               [
                0.1111111111111111,
                "#46039f"
               ],
               [
                0.2222222222222222,
                "#7201a8"
               ],
               [
                0.3333333333333333,
                "#9c179e"
               ],
               [
                0.4444444444444444,
                "#bd3786"
               ],
               [
                0.5555555555555556,
                "#d8576b"
               ],
               [
                0.6666666666666666,
                "#ed7953"
               ],
               [
                0.7777777777777778,
                "#fb9f3a"
               ],
               [
                0.8888888888888888,
                "#fdca26"
               ],
               [
                1,
                "#f0f921"
               ]
              ],
              "type": "histogram2d"
             }
            ],
            "histogram2dcontour": [
             {
              "colorbar": {
               "outlinewidth": 0,
               "ticks": ""
              },
              "colorscale": [
               [
                0,
                "#0d0887"
               ],
               [
                0.1111111111111111,
                "#46039f"
               ],
               [
                0.2222222222222222,
                "#7201a8"
               ],
               [
                0.3333333333333333,
                "#9c179e"
               ],
               [
                0.4444444444444444,
                "#bd3786"
               ],
               [
                0.5555555555555556,
                "#d8576b"
               ],
               [
                0.6666666666666666,
                "#ed7953"
               ],
               [
                0.7777777777777778,
                "#fb9f3a"
               ],
               [
                0.8888888888888888,
                "#fdca26"
               ],
               [
                1,
                "#f0f921"
               ]
              ],
              "type": "histogram2dcontour"
             }
            ],
            "mesh3d": [
             {
              "colorbar": {
               "outlinewidth": 0,
               "ticks": ""
              },
              "type": "mesh3d"
             }
            ],
            "parcoords": [
             {
              "line": {
               "colorbar": {
                "outlinewidth": 0,
                "ticks": ""
               }
              },
              "type": "parcoords"
             }
            ],
            "pie": [
             {
              "automargin": true,
              "type": "pie"
             }
            ],
            "scatter": [
             {
              "fillpattern": {
               "fillmode": "overlay",
               "size": 10,
               "solidity": 0.2
              },
              "type": "scatter"
             }
            ],
            "scatter3d": [
             {
              "line": {
               "colorbar": {
                "outlinewidth": 0,
                "ticks": ""
               }
              },
              "marker": {
               "colorbar": {
                "outlinewidth": 0,
                "ticks": ""
               }
              },
              "type": "scatter3d"
             }
            ],
            "scattercarpet": [
             {
              "marker": {
               "colorbar": {
                "outlinewidth": 0,
                "ticks": ""
               }
              },
              "type": "scattercarpet"
             }
            ],
            "scattergeo": [
             {
              "marker": {
               "colorbar": {
                "outlinewidth": 0,
                "ticks": ""
               }
              },
              "type": "scattergeo"
             }
            ],
            "scattergl": [
             {
              "marker": {
               "colorbar": {
                "outlinewidth": 0,
                "ticks": ""
               }
              },
              "type": "scattergl"
             }
            ],
            "scattermapbox": [
             {
              "marker": {
               "colorbar": {
                "outlinewidth": 0,
                "ticks": ""
               }
              },
              "type": "scattermapbox"
             }
            ],
            "scatterpolar": [
             {
              "marker": {
               "colorbar": {
                "outlinewidth": 0,
                "ticks": ""
               }
              },
              "type": "scatterpolar"
             }
            ],
            "scatterpolargl": [
             {
              "marker": {
               "colorbar": {
                "outlinewidth": 0,
                "ticks": ""
               }
              },
              "type": "scatterpolargl"
             }
            ],
            "scatterternary": [
             {
              "marker": {
               "colorbar": {
                "outlinewidth": 0,
                "ticks": ""
               }
              },
              "type": "scatterternary"
             }
            ],
            "surface": [
             {
              "colorbar": {
               "outlinewidth": 0,
               "ticks": ""
              },
              "colorscale": [
               [
                0,
                "#0d0887"
               ],
               [
                0.1111111111111111,
                "#46039f"
               ],
               [
                0.2222222222222222,
                "#7201a8"
               ],
               [
                0.3333333333333333,
                "#9c179e"
               ],
               [
                0.4444444444444444,
                "#bd3786"
               ],
               [
                0.5555555555555556,
                "#d8576b"
               ],
               [
                0.6666666666666666,
                "#ed7953"
               ],
               [
                0.7777777777777778,
                "#fb9f3a"
               ],
               [
                0.8888888888888888,
                "#fdca26"
               ],
               [
                1,
                "#f0f921"
               ]
              ],
              "type": "surface"
             }
            ],
            "table": [
             {
              "cells": {
               "fill": {
                "color": "#EBF0F8"
               },
               "line": {
                "color": "white"
               }
              },
              "header": {
               "fill": {
                "color": "#C8D4E3"
               },
               "line": {
                "color": "white"
               }
              },
              "type": "table"
             }
            ]
           },
           "layout": {
            "annotationdefaults": {
             "arrowcolor": "#2a3f5f",
             "arrowhead": 0,
             "arrowwidth": 1
            },
            "autotypenumbers": "strict",
            "coloraxis": {
             "colorbar": {
              "outlinewidth": 0,
              "ticks": ""
             }
            },
            "colorscale": {
             "diverging": [
              [
               0,
               "#8e0152"
              ],
              [
               0.1,
               "#c51b7d"
              ],
              [
               0.2,
               "#de77ae"
              ],
              [
               0.3,
               "#f1b6da"
              ],
              [
               0.4,
               "#fde0ef"
              ],
              [
               0.5,
               "#f7f7f7"
              ],
              [
               0.6,
               "#e6f5d0"
              ],
              [
               0.7,
               "#b8e186"
              ],
              [
               0.8,
               "#7fbc41"
              ],
              [
               0.9,
               "#4d9221"
              ],
              [
               1,
               "#276419"
              ]
             ],
             "sequential": [
              [
               0,
               "#0d0887"
              ],
              [
               0.1111111111111111,
               "#46039f"
              ],
              [
               0.2222222222222222,
               "#7201a8"
              ],
              [
               0.3333333333333333,
               "#9c179e"
              ],
              [
               0.4444444444444444,
               "#bd3786"
              ],
              [
               0.5555555555555556,
               "#d8576b"
              ],
              [
               0.6666666666666666,
               "#ed7953"
              ],
              [
               0.7777777777777778,
               "#fb9f3a"
              ],
              [
               0.8888888888888888,
               "#fdca26"
              ],
              [
               1,
               "#f0f921"
              ]
             ],
             "sequentialminus": [
              [
               0,
               "#0d0887"
              ],
              [
               0.1111111111111111,
               "#46039f"
              ],
              [
               0.2222222222222222,
               "#7201a8"
              ],
              [
               0.3333333333333333,
               "#9c179e"
              ],
              [
               0.4444444444444444,
               "#bd3786"
              ],
              [
               0.5555555555555556,
               "#d8576b"
              ],
              [
               0.6666666666666666,
               "#ed7953"
              ],
              [
               0.7777777777777778,
               "#fb9f3a"
              ],
              [
               0.8888888888888888,
               "#fdca26"
              ],
              [
               1,
               "#f0f921"
              ]
             ]
            },
            "colorway": [
             "#636efa",
             "#EF553B",
             "#00cc96",
             "#ab63fa",
             "#FFA15A",
             "#19d3f3",
             "#FF6692",
             "#B6E880",
             "#FF97FF",
             "#FECB52"
            ],
            "font": {
             "color": "#2a3f5f"
            },
            "geo": {
             "bgcolor": "white",
             "lakecolor": "white",
             "landcolor": "white",
             "showlakes": true,
             "showland": true,
             "subunitcolor": "#C8D4E3"
            },
            "hoverlabel": {
             "align": "left"
            },
            "hovermode": "closest",
            "mapbox": {
             "style": "light"
            },
            "paper_bgcolor": "white",
            "plot_bgcolor": "white",
            "polar": {
             "angularaxis": {
              "gridcolor": "#EBF0F8",
              "linecolor": "#EBF0F8",
              "ticks": ""
             },
             "bgcolor": "white",
             "radialaxis": {
              "gridcolor": "#EBF0F8",
              "linecolor": "#EBF0F8",
              "ticks": ""
             }
            },
            "scene": {
             "xaxis": {
              "backgroundcolor": "white",
              "gridcolor": "#DFE8F3",
              "gridwidth": 2,
              "linecolor": "#EBF0F8",
              "showbackground": true,
              "ticks": "",
              "zerolinecolor": "#EBF0F8"
             },
             "yaxis": {
              "backgroundcolor": "white",
              "gridcolor": "#DFE8F3",
              "gridwidth": 2,
              "linecolor": "#EBF0F8",
              "showbackground": true,
              "ticks": "",
              "zerolinecolor": "#EBF0F8"
             },
             "zaxis": {
              "backgroundcolor": "white",
              "gridcolor": "#DFE8F3",
              "gridwidth": 2,
              "linecolor": "#EBF0F8",
              "showbackground": true,
              "ticks": "",
              "zerolinecolor": "#EBF0F8"
             }
            },
            "shapedefaults": {
             "line": {
              "color": "#2a3f5f"
             }
            },
            "ternary": {
             "aaxis": {
              "gridcolor": "#DFE8F3",
              "linecolor": "#A2B1C6",
              "ticks": ""
             },
             "baxis": {
              "gridcolor": "#DFE8F3",
              "linecolor": "#A2B1C6",
              "ticks": ""
             },
             "bgcolor": "white",
             "caxis": {
              "gridcolor": "#DFE8F3",
              "linecolor": "#A2B1C6",
              "ticks": ""
             }
            },
            "title": {
             "x": 0.05
            },
            "xaxis": {
             "automargin": true,
             "gridcolor": "#EBF0F8",
             "linecolor": "#EBF0F8",
             "ticks": "",
             "title": {
              "standoff": 15
             },
             "zerolinecolor": "#EBF0F8",
             "zerolinewidth": 2
            },
            "yaxis": {
             "automargin": true,
             "gridcolor": "#EBF0F8",
             "linecolor": "#EBF0F8",
             "ticks": "",
             "title": {
              "standoff": 15
             },
             "zerolinecolor": "#EBF0F8",
             "zerolinewidth": 2
            }
           }
          },
          "xaxis": {
           "automargin": true,
           "autorange": false,
           "linecolor": "#444",
           "linewidth": 2,
           "minor": {
            "ticks": "outside"
           },
           "mirror": true,
           "showline": true,
           "ticks": "outside",
           "zeroline": false
          },
          "yaxis": {
           "automargin": true,
           "autorange": false,
           "linecolor": "#444",
           "linewidth": 2,
           "minor": {
            "ticks": "outside"
           },
           "mirror": true,
           "showline": true,
           "ticks": "outside",
           "zeroline": false
          }
         }
        },
        "xaxis": {
         "range": [
          "2014-01-01",
          "2022-09-17"
         ],
         "title": {
          "text": "publication year"
         }
        },
        "yaxis": {
         "dtick": 0.5,
         "minor": {
          "dtick": 0.25,
          "tick0": 0
         },
         "range": [
          0,
          4
         ],
         "tick0": 0,
         "tickformat": ".1f",
         "title": {
          "text": "calculated XP ratio"
         }
        }
       }
      }
     },
     "metadata": {},
     "output_type": "display_data"
    }
   ],
   "source": [
    "# plot eXP ratio vs time. Split data by book type.\n",
    "from datetime import date\n",
    "import plotly.express as px\n",
    "from bs4 import BeautifulSoup\n",
    "\n",
    "groups = {\n",
    "    'adventure modules - normal': {\n",
    "        'Legendary': ['N'],\n",
    "        'marker': dict(\n",
    "            size=10, \n",
    "            color='rgba(0,0,0,0.0)', \n",
    "            line=dict(color='rgba(31,119,180,1.0)', width=2)\n",
    "        )\n",
    "    },\n",
    "    'adventure modules - legendary': {\n",
    "        'Legendary': ['L','LL'],\n",
    "        'marker': dict(\n",
    "            size=10, \n",
    "            color='rgba(31,119,180,1.0)', \n",
    "            line=dict(color='rgba(31,119,180,1.0)', width=2)\n",
    "        )\n",
    "    }\n",
    "}\n",
    "\n",
    "# summarize the current dataset\n",
    "df1 = df0[df0['CR'].between(1,30) \n",
    "    & df0['Legendary'].isin(['N','L','LL'])\n",
    "    & df0['Book Type'].isin(['Adventure'])]\n",
    "df1['group'] = df1.apply(lambda row: 'adventure modules - normal' if row['Legendary'] == 'N' else 'adventure modules - legendary', axis=1)\n",
    "\n",
    "group_columns = ['Date','group','Book']\n",
    "date_range = [date(2014, 1, 1), date.today()]\n",
    "\n",
    "# plot results\n",
    "fig = go.Figure()\n",
    "\n",
    "for g in groups:\n",
    "    group = groups[g]\n",
    "    mask = (df1['Legendary'].isin(group['Legendary']))\n",
    "    dfG = df1[mask].groupby(group_columns).size().to_frame('Total').reset_index()\n",
    "    dfG['eXP Ratio Mean'] = df1[mask].groupby(group_columns).mean().reset_index()['eXP Ratio']\n",
    "    dfG['eXP Ratio Std Dev'] = df1[mask].groupby(group_columns).std().reset_index()['eXP Ratio']\n",
    "    dfG = dfG.sort_values(by=['Date'])\n",
    "    dfG = dfG[dfG['Total'].ge(1)]\n",
    "    \n",
    "    fig.add_trace(go.Scatter(\n",
    "        x=dfG['Date'], \n",
    "        y=dfG['eXP Ratio Mean'],\n",
    "        mode='markers',\n",
    "        name=g,\n",
    "    ))\n",
    "\n",
    "    fig.update_traces(\n",
    "        selector=dict(name=g),\n",
    "        customdata = np.stack((dfG['Book'], dfG['Total']), axis=-1),\n",
    "        hovertemplate = '<b>%{customdata[0]}</b><br>'\n",
    "            + 'Date: %{x}<br>'\n",
    "            + 'XP ratio: %{y:.2f}<br>'\n",
    "            + 'Monsters: %{customdata[1]:.0f}'\n",
    "            + '<extra></extra>',\n",
    "        marker=group['marker'],\n",
    "    )\n",
    "\n",
    "fig.add_trace(go.Scatter(\n",
    "    x=date_range, \n",
    "    y=[1, 1],\n",
    "    mode='lines', \n",
    "    line=dict(color='black', dash='dash'),\n",
    "    showlegend=False,\n",
    "    hoverinfo='skip'\n",
    "))\n",
    "\n",
    "fig.update_layout(\n",
    "    template=TFB_TEMPLATE,\n",
    "    hoverlabel=dict(\n",
    "        bgcolor='white',\n",
    "    ),\n",
    "    xaxis=dict(\n",
    "        title_text='publication year',\n",
    "        range=date_range,\n",
    "    ),\n",
    "    yaxis=dict(\n",
    "        title_text='calculated XP ratio',\n",
    "        range=[0, 4],\n",
    "        tick0=0, dtick=0.5,\n",
    "        tickformat='.1f',\n",
    "        minor=dict(tick0=0, dtick=0.25),\n",
    "    ),\n",
    "    legend=dict(\n",
    "        yanchor='top',  y=0.99,\n",
    "        xanchor='right', x=0.99,\n",
    "        orientation='v',\n",
    "    ),\n",
    ")\n",
    "\n",
    "fig.show(config=TFB_CONFIG)\n",
    "#fig.show()\n",
    "if SAVEFIGS:\n",
    "    fig.write_html(\n",
    "        f'./exp-ratio-mean-vs-time-adventure-modules-legendary.html', \n",
    "        include_plotlyjs=False, \n",
    "        full_html=False, \n",
    "        config=TFB_CONFIG\n",
    "    )\n",
    "    # add style to figure\n",
    "    with open(f'./exp-ratio-mean-vs-time-adventure-modules-legendary.html', 'r') as fin:\n",
    "        fig_soup = BeautifulSoup(fin, 'html.parser')\n",
    "\n",
    "    fig_soup.div['style'] = 'width:800px; min-width:50%; max-width:100%'\n",
    "    with open(f'./exp-ratio-mean-vs-time-adventure-modules-legendary.html', 'wb') as fout:\n",
    "        fout.write(fig_soup.prettify('utf-8'))"
   ]
  },
  {
   "cell_type": "code",
   "execution_count": 22,
   "metadata": {},
   "outputs": [],
   "source": [
    "# summary table of legendary monsters from early adventure books\n",
    "df1 = df0[df0['CR'].between(1,30) & df0['Book Type'].isin(['Adventure']) & df0['Date'].lt('2018-1-1') & df0['Legendary'].isin(['L','LL'])]\n",
    "df1 = df1.sort_values(by=['Date','Monster'])\n",
    "dfG = df1[['Date','Book','Monster']]\n",
    "dfG['Monsters'] = df1.groupby(['Book'])['Monster'].transform(lambda x: ', '.join(x))\n",
    "dfG = dfG[['Book','Monsters']].drop_duplicates()\n",
    "\n",
    "if SAVETABS: dfG.to_html('./early-adventure-legendary-monsters.html', index=False, classes='center', float_format='{:,.2f}'.format, border=0)"
   ]
  },
  {
   "cell_type": "code",
   "execution_count": 23,
   "metadata": {},
   "outputs": [
    {
     "data": {
      "image/png": "[encoded data removed]",
      "text/plain": [
       "<Figure size 500x400 with 1 Axes>"
      ]
     },
     "metadata": {
      "needs_background": "light"
     },
     "output_type": "display_data"
    }
   ],
   "source": [
    "# plot the range of eXP values for legendary monsters encountered directly and indirectly\n",
    "directMonsters = ['Rezmir','Yestabrod','Tarul Var','Atropal']\n",
    "df1 = df0[df0['CR'].between(1,30) & df0['Book Type'].isin(['Adventure']) & df0['Date'].lt('2018-1-1') & df0['Legendary'].isin(['L','LL'])]\n",
    "df1['Encounter Type'] = 'indirect'\n",
    "df1.loc[df1['Monster'].isin(directMonsters), 'Encounter Type'] = 'direct'\n",
    "df1.sort_values(by=['Encounter Type','eXP Ratio'], inplace=True)\n",
    "\n",
    "fig = plt.figure(figsize=FSIZE, dpi=FDPI, tight_layout=True)\n",
    "ax = plt.axes(ylabel='calculated XP ratio', xlabel='encounter type', ylim=[0,4.5])\n",
    "bp = ax.boxplot(tuple(df1[df1['Encounter Type'].isin([x])]['eXP Ratio'] for x in df1['Encounter Type'].unique()), \n",
    "    labels=df1['Encounter Type'].unique(), patch_artist=False,\n",
    "    showmeans=False, vert=True, showfliers=True,\n",
    "    medianprops={'color': 'k', 'linewidth': 0.5},\n",
    "    #boxprops={'facecolor': 'C0', 'edgecolor': 'white', 'linewidth': 0.5},\n",
    "    boxprops={'color': 'k', 'linewidth': 0.5},\n",
    "    whiskerprops={'color': 'k', 'linewidth': 1.5},\n",
    "    capprops={'color': 'k', 'linewidth': 1.5})\n",
    "\n",
    "ax.yaxis.set_major_locator(MultipleLocator(0.5))\n",
    "ax.yaxis.set_major_formatter(FormatStrFormatter('%.1f'))\n",
    "ax.yaxis.set_minor_locator(MultipleLocator(0.25))\n",
    "\n",
    "if SAVEFIGS: plt.savefig('exp-ratio-vs-encounter-type.svg', metadata=METADATA)"
   ]
  },
  {
   "cell_type": "code",
   "execution_count": 24,
   "metadata": {},
   "outputs": [
    {
     "data": {
      "image/png": "[encoded data removed]",
      "text/plain": [
       "<Figure size 500x400 with 1 Axes>"
      ]
     },
     "metadata": {
      "needs_background": "light"
     },
     "output_type": "display_data"
    }
   ],
   "source": [
    "# list of monsters published in two different books\n",
    "df1 = df0[df0['CR'].between(1,30) & df0['Legendary'].isin(['L','LL'])]\n",
    "dfG = df1.groupby(['Monster','Book']).size().to_frame('Total').reset_index()\n",
    "dfG = dfG[dfG['Total'].gt(0)]\n",
    "dfG = dfG.groupby(['Monster']).size().to_frame('Total').reset_index()\n",
    "dfG = dfG[dfG['Total'].gt(1)]\n",
    "dupMonsters = dfG['Monster'].tolist()\n",
    "\n",
    "df1 = df1[df1['Monster'].isin(dupMonsters)]\n",
    "\n",
    "colors = plt.rcParams['axes.prop_cycle'].by_key()['color']\n",
    "\n",
    "# create figure\n",
    "fig = plt.figure(figsize=FSIZE, dpi=FDPI, tight_layout=True)\n",
    "ax = plt.axes(ylabel='calculated XP ratio', ylim=[0,2.5])\n",
    "\n",
    "ax.scatter(x='Monster', y='eXP Ratio', data=df1[df1['Book'].isin(['OotA'])], label='OotA (original)', marker='o', edgecolors=colors[0], facecolors=colors[0])\n",
    "ax.scatter(x='Monster', y='eXP Ratio', data=df1[df1['Book'].isin(['MToF'])], label='MToF (revised)', marker='o', edgecolors=colors[0], facecolors=[])\n",
    "\n",
    "ax.plot([0,7], [1,1], '--', color='k')\n",
    "ax.tick_params(axis='x', labelrotation=45)\n",
    "ax.legend()\n",
    "\n",
    "ax.yaxis.set_major_locator(MultipleLocator(0.5))\n",
    "ax.yaxis.set_major_formatter(FormatStrFormatter('%.1f'))\n",
    "ax.yaxis.set_minor_locator(MultipleLocator(0.25))\n",
    "\n",
    "# save figure\n",
    "if SAVEFIGS: plt.savefig('exp-ratio-vs-monster-oota-mtof.svg', metadata=METADATA)"
   ]
  },
  {
   "cell_type": "code",
   "execution_count": 48,
   "metadata": {},
   "outputs": [
    {
     "data": {
      "application/vnd.plotly.v1+json": {
       "config": {
        "autosizable": false,
        "displayModeBar": "hover",
        "displaylogo": false,
        "modeBarButtonsToRemove": [
         "select2d",
         "lasso2d",
         "zoom2d",
         "zoomIn2d",
         "zoomOut2d",
         "pan2d",
         "autoScale2d",
         "hoverClosestCartesian",
         "hoverCompareCartesian",
         "toggleSpikelines",
         "resetScale2d"
        ],
        "plotlyServerURL": "https://plot.ly",
        "responsive": true,
        "showAxisDragHandles": false,
        "toImageButtonOptions": {
         "filename": "tfb-plot",
         "format": "png",
         "height": 450,
         "scale": 2,
         "width": 600
        }
       },
       "data": [
        {
         "customdata": [
          [
           "MM",
           265
          ],
          [
           "VGtM",
           105
          ],
          [
           "MToF",
           87
          ],
          [
           "GGtR",
           47
          ],
          [
           "ERftLW",
           19
          ],
          [
           "EGtW",
           26
          ],
          [
           "MOoT",
           38
          ],
          [
           "VRGtR",
           26
          ],
          [
           "FToD",
           49
          ],
          [
           "SaCoC",
           30
          ]
         ],
         "hovertemplate": "<b>%{customdata[0]}</b><br>Date: %{x}<br>XP ratio: %{y:.2f}<br>Monsters: %{customdata[1]:.0f}<extra></extra>",
         "marker": {
          "color": "rgba(0,0,0,0.0)",
          "line": {
           "color": "#ff7f0e",
           "width": 2
          },
          "size": 10
         },
         "mode": "markers",
         "name": "adventure modules - normal",
         "type": "scatter",
         "x": [
          "2014-09-07T00:00:00",
          "2016-11-15T00:00:00",
          "2018-05-29T00:00:00",
          "2018-11-20T00:00:00",
          "2019-11-19T00:00:00",
          "2020-03-07T00:00:00",
          "2020-07-21T00:00:00",
          "2021-05-18T00:00:00",
          "2021-10-26T00:00:00",
          "2021-12-07T00:00:00"
         ],
         "y": [
          0.7225586015906836,
          0.7391049879415355,
          0.7660914067490937,
          0.7178807828700371,
          0.8071178641252259,
          0.772045478605883,
          0.766890480605336,
          0.7351213028333908,
          0.80707654771327,
          0.7451418751342557
         ]
        },
        {
         "customdata": [
          [
           "MM",
           39
          ],
          [
           "VGtM",
           5
          ],
          [
           "MToF",
           27
          ],
          [
           "GGtR",
           13
          ],
          [
           "ERftLW",
           8
          ],
          [
           "EGtW",
           3
          ],
          [
           "MOoT",
           7
          ],
          [
           "VRGtR",
           6
          ],
          [
           "FToD",
           49
          ],
          [
           "SaCoC",
           8
          ]
         ],
         "hovertemplate": "<b>%{customdata[0]}</b><br>Date: %{x}<br>XP ratio: %{y:.2f}<br>Monsters: %{customdata[1]:.0f}<extra></extra>",
         "marker": {
          "color": "#ff7f0e",
          "line": {
           "color": "#ff7f0e",
           "width": 2
          },
          "size": 10
         },
         "mode": "markers",
         "name": "adventure modules - legendary",
         "type": "scatter",
         "x": [
          "2014-09-07T00:00:00",
          "2016-11-15T00:00:00",
          "2018-05-29T00:00:00",
          "2018-11-20T00:00:00",
          "2019-11-19T00:00:00",
          "2020-03-07T00:00:00",
          "2020-07-21T00:00:00",
          "2021-05-18T00:00:00",
          "2021-10-26T00:00:00",
          "2021-12-07T00:00:00"
         ],
         "y": [
          1.3537755514397989,
          1.1655744286434846,
          1.0400999034837317,
          1.037514305005198,
          1.1235781536409475,
          0.9066002327165288,
          1.2756497711573325,
          1.2388613348359112,
          1.0907466725021804,
          0.9395944967729073
         ]
        },
        {
         "hoverinfo": "skip",
         "line": {
          "color": "black",
          "dash": "dash"
         },
         "mode": "lines",
         "showlegend": false,
         "type": "scatter",
         "x": [
          "2014-01-01",
          "2022-09-17"
         ],
         "y": [
          1,
          1
         ]
        }
       ],
       "layout": {
        "hoverlabel": {
         "bgcolor": "white"
        },
        "legend": {
         "orientation": "v",
         "x": 0.99,
         "xanchor": "right",
         "y": 0.99,
         "yanchor": "top"
        },
        "template": {
         "data": {
          "bar": [
           {
            "error_x": {
             "color": "#2a3f5f"
            },
            "error_y": {
             "color": "#2a3f5f"
            },
            "marker": {
             "line": {
              "color": "#E5ECF6",
              "width": 0.5
             },
             "pattern": {
              "fillmode": "overlay",
              "size": 10,
              "solidity": 0.2
             }
            },
            "type": "bar"
           }
          ],
          "barpolar": [
           {
            "marker": {
             "line": {
              "color": "#E5ECF6",
              "width": 0.5
             },
             "pattern": {
              "fillmode": "overlay",
              "size": 10,
              "solidity": 0.2
             }
            },
            "type": "barpolar"
           }
          ],
          "carpet": [
           {
            "aaxis": {
             "endlinecolor": "#2a3f5f",
             "gridcolor": "white",
             "linecolor": "white",
             "minorgridcolor": "white",
             "startlinecolor": "#2a3f5f"
            },
            "baxis": {
             "endlinecolor": "#2a3f5f",
             "gridcolor": "white",
             "linecolor": "white",
             "minorgridcolor": "white",
             "startlinecolor": "#2a3f5f"
            },
            "type": "carpet"
           }
          ],
          "choropleth": [
           {
            "colorbar": {
             "outlinewidth": 0,
             "ticks": ""
            },
            "type": "choropleth"
           }
          ],
          "contour": [
           {
            "colorbar": {
             "outlinewidth": 0,
             "ticks": ""
            },
            "colorscale": [
             [
              0,
              "#0d0887"
             ],
             [
              0.1111111111111111,
              "#46039f"
             ],
             [
              0.2222222222222222,
              "#7201a8"
             ],
             [
              0.3333333333333333,
              "#9c179e"
             ],
             [
              0.4444444444444444,
              "#bd3786"
             ],
             [
              0.5555555555555556,
              "#d8576b"
             ],
             [
              0.6666666666666666,
              "#ed7953"
             ],
             [
              0.7777777777777778,
              "#fb9f3a"
             ],
             [
              0.8888888888888888,
              "#fdca26"
             ],
             [
              1,
              "#f0f921"
             ]
            ],
            "type": "contour"
           }
          ],
          "contourcarpet": [
           {
            "colorbar": {
             "outlinewidth": 0,
             "ticks": ""
            },
            "type": "contourcarpet"
           }
          ],
          "heatmap": [
           {
            "colorbar": {
             "outlinewidth": 0,
             "ticks": ""
            },
            "colorscale": [
             [
              0,
              "#0d0887"
             ],
             [
              0.1111111111111111,
              "#46039f"
             ],
             [
              0.2222222222222222,
              "#7201a8"
             ],
             [
              0.3333333333333333,
              "#9c179e"
             ],
             [
              0.4444444444444444,
              "#bd3786"
             ],
             [
              0.5555555555555556,
              "#d8576b"
             ],
             [
              0.6666666666666666,
              "#ed7953"
             ],
             [
              0.7777777777777778,
              "#fb9f3a"
             ],
             [
              0.8888888888888888,
              "#fdca26"
             ],
             [
              1,
              "#f0f921"
             ]
            ],
            "type": "heatmap"
           }
          ],
          "heatmapgl": [
           {
            "colorbar": {
             "outlinewidth": 0,
             "ticks": ""
            },
            "colorscale": [
             [
              0,
              "#0d0887"
             ],
             [
              0.1111111111111111,
              "#46039f"
             ],
             [
              0.2222222222222222,
              "#7201a8"
             ],
             [
              0.3333333333333333,
              "#9c179e"
             ],
             [
              0.4444444444444444,
              "#bd3786"
             ],
             [
              0.5555555555555556,
              "#d8576b"
             ],
             [
              0.6666666666666666,
              "#ed7953"
             ],
             [
              0.7777777777777778,
              "#fb9f3a"
             ],
             [
              0.8888888888888888,
              "#fdca26"
             ],
             [
              1,
              "#f0f921"
             ]
            ],
            "type": "heatmapgl"
           }
          ],
          "histogram": [
           {
            "marker": {
             "pattern": {
              "fillmode": "overlay",
              "size": 10,
              "solidity": 0.2
             }
            },
            "type": "histogram"
           }
          ],
          "histogram2d": [
           {
            "colorbar": {
             "outlinewidth": 0,
             "ticks": ""
            },
            "colorscale": [
             [
              0,
              "#0d0887"
             ],
             [
              0.1111111111111111,
              "#46039f"
             ],
             [
              0.2222222222222222,
              "#7201a8"
             ],
             [
              0.3333333333333333,
              "#9c179e"
             ],
             [
              0.4444444444444444,
              "#bd3786"
             ],
             [
              0.5555555555555556,
              "#d8576b"
             ],
             [
              0.6666666666666666,
              "#ed7953"
             ],
             [
              0.7777777777777778,
              "#fb9f3a"
             ],
             [
              0.8888888888888888,
              "#fdca26"
             ],
             [
              1,
              "#f0f921"
             ]
            ],
            "type": "histogram2d"
           }
          ],
          "histogram2dcontour": [
           {
            "colorbar": {
             "outlinewidth": 0,
             "ticks": ""
            },
            "colorscale": [
             [
              0,
              "#0d0887"
             ],
             [
              0.1111111111111111,
              "#46039f"
             ],
             [
              0.2222222222222222,
              "#7201a8"
             ],
             [
              0.3333333333333333,
              "#9c179e"
             ],
             [
              0.4444444444444444,
              "#bd3786"
             ],
             [
              0.5555555555555556,
              "#d8576b"
             ],
             [
              0.6666666666666666,
              "#ed7953"
             ],
             [
              0.7777777777777778,
              "#fb9f3a"
             ],
             [
              0.8888888888888888,
              "#fdca26"
             ],
             [
              1,
              "#f0f921"
             ]
            ],
            "type": "histogram2dcontour"
           }
          ],
          "mesh3d": [
           {
            "colorbar": {
             "outlinewidth": 0,
             "ticks": ""
            },
            "type": "mesh3d"
           }
          ],
          "parcoords": [
           {
            "line": {
             "colorbar": {
              "outlinewidth": 0,
              "ticks": ""
             }
            },
            "type": "parcoords"
           }
          ],
          "pie": [
           {
            "automargin": true,
            "type": "pie"
           }
          ],
          "scatter": [
           {
            "fillpattern": {
             "fillmode": "overlay",
             "size": 10,
             "solidity": 0.2
            },
            "type": "scatter"
           }
          ],
          "scatter3d": [
           {
            "line": {
             "colorbar": {
              "outlinewidth": 0,
              "ticks": ""
             }
            },
            "marker": {
             "colorbar": {
              "outlinewidth": 0,
              "ticks": ""
             }
            },
            "type": "scatter3d"
           }
          ],
          "scattercarpet": [
           {
            "marker": {
             "colorbar": {
              "outlinewidth": 0,
              "ticks": ""
             }
            },
            "type": "scattercarpet"
           }
          ],
          "scattergeo": [
           {
            "marker": {
             "colorbar": {
              "outlinewidth": 0,
              "ticks": ""
             }
            },
            "type": "scattergeo"
           }
          ],
          "scattergl": [
           {
            "marker": {
             "colorbar": {
              "outlinewidth": 0,
              "ticks": ""
             }
            },
            "type": "scattergl"
           }
          ],
          "scattermapbox": [
           {
            "marker": {
             "colorbar": {
              "outlinewidth": 0,
              "ticks": ""
             }
            },
            "type": "scattermapbox"
           }
          ],
          "scatterpolar": [
           {
            "marker": {
             "colorbar": {
              "outlinewidth": 0,
              "ticks": ""
             }
            },
            "type": "scatterpolar"
           }
          ],
          "scatterpolargl": [
           {
            "marker": {
             "colorbar": {
              "outlinewidth": 0,
              "ticks": ""
             }
            },
            "type": "scatterpolargl"
           }
          ],
          "scatterternary": [
           {
            "marker": {
             "colorbar": {
              "outlinewidth": 0,
              "ticks": ""
             }
            },
            "type": "scatterternary"
           }
          ],
          "surface": [
           {
            "colorbar": {
             "outlinewidth": 0,
             "ticks": ""
            },
            "colorscale": [
             [
              0,
              "#0d0887"
             ],
             [
              0.1111111111111111,
              "#46039f"
             ],
             [
              0.2222222222222222,
              "#7201a8"
             ],
             [
              0.3333333333333333,
              "#9c179e"
             ],
             [
              0.4444444444444444,
              "#bd3786"
             ],
             [
              0.5555555555555556,
              "#d8576b"
             ],
             [
              0.6666666666666666,
              "#ed7953"
             ],
             [
              0.7777777777777778,
              "#fb9f3a"
             ],
             [
              0.8888888888888888,
              "#fdca26"
             ],
             [
              1,
              "#f0f921"
             ]
            ],
            "type": "surface"
           }
          ],
          "table": [
           {
            "cells": {
             "fill": {
              "color": "#EBF0F8"
             },
             "line": {
              "color": "white"
             }
            },
            "header": {
             "fill": {
              "color": "#C8D4E3"
             },
             "line": {
              "color": "white"
             }
            },
            "type": "table"
           }
          ]
         },
         "layout": {
          "autosize": true,
          "font": {
           "family": "sans-serif",
           "size": 14
          },
          "hovermode": "closest",
          "legend": {
           "bordercolor": "Black",
           "borderwidth": 1,
           "font": {
            "size": 14
           },
           "orientation": "h",
           "tracegroupgap": 5
          },
          "margin": {
           "b": 80,
           "l": 50,
           "pad": 4,
           "r": 25,
           "t": 40
          },
          "template": {
           "data": {
            "bar": [
             {
              "error_x": {
               "color": "#2a3f5f"
              },
              "error_y": {
               "color": "#2a3f5f"
              },
              "marker": {
               "line": {
                "color": "white",
                "width": 0.5
               },
               "pattern": {
                "fillmode": "overlay",
                "size": 10,
                "solidity": 0.2
               }
              },
              "type": "bar"
             }
            ],
            "barpolar": [
             {
              "marker": {
               "line": {
                "color": "white",
                "width": 0.5
               },
               "pattern": {
                "fillmode": "overlay",
                "size": 10,
                "solidity": 0.2
               }
              },
              "type": "barpolar"
             }
            ],
            "carpet": [
             {
              "aaxis": {
               "endlinecolor": "#2a3f5f",
               "gridcolor": "#C8D4E3",
               "linecolor": "#C8D4E3",
               "minorgridcolor": "#C8D4E3",
               "startlinecolor": "#2a3f5f"
              },
              "baxis": {
               "endlinecolor": "#2a3f5f",
               "gridcolor": "#C8D4E3",
               "linecolor": "#C8D4E3",
               "minorgridcolor": "#C8D4E3",
               "startlinecolor": "#2a3f5f"
              },
              "type": "carpet"
             }
            ],
            "choropleth": [
             {
              "colorbar": {
               "outlinewidth": 0,
               "ticks": ""
              },
              "type": "choropleth"
             }
            ],
            "contour": [
             {
              "colorbar": {
               "outlinewidth": 0,
               "ticks": ""
              },
              "colorscale": [
               [
                0,
                "#0d0887"
               ],
               [
                0.1111111111111111,
                "#46039f"
               ],
               [
                0.2222222222222222,
                "#7201a8"
               ],
               [
                0.3333333333333333,
                "#9c179e"
               ],
               [
                0.4444444444444444,
                "#bd3786"
               ],
               [
                0.5555555555555556,
                "#d8576b"
               ],
               [
                0.6666666666666666,
                "#ed7953"
               ],
               [
                0.7777777777777778,
                "#fb9f3a"
               ],
               [
                0.8888888888888888,
                "#fdca26"
               ],
               [
                1,
                "#f0f921"
               ]
              ],
              "type": "contour"
             }
            ],
            "contourcarpet": [
             {
              "colorbar": {
               "outlinewidth": 0,
               "ticks": ""
              },
              "type": "contourcarpet"
             }
            ],
            "heatmap": [
             {
              "colorbar": {
               "outlinewidth": 0,
               "ticks": ""
              },
              "colorscale": [
               [
                0,
                "#0d0887"
               ],
               [
                0.1111111111111111,
                "#46039f"
               ],
               [
                0.2222222222222222,
                "#7201a8"
               ],
               [
                0.3333333333333333,
                "#9c179e"
               ],
               [
                0.4444444444444444,
                "#bd3786"
               ],
               [
                0.5555555555555556,
                "#d8576b"
               ],
               [
                0.6666666666666666,
                "#ed7953"
               ],
               [
                0.7777777777777778,
                "#fb9f3a"
               ],
               [
                0.8888888888888888,
                "#fdca26"
               ],
               [
                1,
                "#f0f921"
               ]
              ],
              "type": "heatmap"
             }
            ],
            "heatmapgl": [
             {
              "colorbar": {
               "outlinewidth": 0,
               "ticks": ""
              },
              "colorscale": [
               [
                0,
                "#0d0887"
               ],
               [
                0.1111111111111111,
                "#46039f"
               ],
               [
                0.2222222222222222,
                "#7201a8"
               ],
               [
                0.3333333333333333,
                "#9c179e"
               ],
               [
                0.4444444444444444,
                "#bd3786"
               ],
               [
                0.5555555555555556,
                "#d8576b"
               ],
               [
                0.6666666666666666,
                "#ed7953"
               ],
               [
                0.7777777777777778,
                "#fb9f3a"
               ],
               [
                0.8888888888888888,
                "#fdca26"
               ],
               [
                1,
                "#f0f921"
               ]
              ],
              "type": "heatmapgl"
             }
            ],
            "histogram": [
             {
              "marker": {
               "pattern": {
                "fillmode": "overlay",
                "size": 10,
                "solidity": 0.2
               }
              },
              "type": "histogram"
             }
            ],
            "histogram2d": [
             {
              "colorbar": {
               "outlinewidth": 0,
               "ticks": ""
              },
              "colorscale": [
               [
                0,
                "#0d0887"
               ],
               [
                0.1111111111111111,
                "#46039f"
               ],
               [
                0.2222222222222222,
                "#7201a8"
               ],
               [
                0.3333333333333333,
                "#9c179e"
               ],
               [
                0.4444444444444444,
                "#bd3786"
               ],
               [
                0.5555555555555556,
                "#d8576b"
               ],
               [
                0.6666666666666666,
                "#ed7953"
               ],
               [
                0.7777777777777778,
                "#fb9f3a"
               ],
               [
                0.8888888888888888,
                "#fdca26"
               ],
               [
                1,
                "#f0f921"
               ]
              ],
              "type": "histogram2d"
             }
            ],
            "histogram2dcontour": [
             {
              "colorbar": {
               "outlinewidth": 0,
               "ticks": ""
              },
              "colorscale": [
               [
                0,
                "#0d0887"
               ],
               [
                0.1111111111111111,
                "#46039f"
               ],
               [
                0.2222222222222222,
                "#7201a8"
               ],
               [
                0.3333333333333333,
                "#9c179e"
               ],
               [
                0.4444444444444444,
                "#bd3786"
               ],
               [
                0.5555555555555556,
                "#d8576b"
               ],
               [
                0.6666666666666666,
                "#ed7953"
               ],
               [
                0.7777777777777778,
                "#fb9f3a"
               ],
               [
                0.8888888888888888,
                "#fdca26"
               ],
               [
                1,
                "#f0f921"
               ]
              ],
              "type": "histogram2dcontour"
             }
            ],
            "mesh3d": [
             {
              "colorbar": {
               "outlinewidth": 0,
               "ticks": ""
              },
              "type": "mesh3d"
             }
            ],
            "parcoords": [
             {
              "line": {
               "colorbar": {
                "outlinewidth": 0,
                "ticks": ""
               }
              },
              "type": "parcoords"
             }
            ],
            "pie": [
             {
              "automargin": true,
              "type": "pie"
             }
            ],
            "scatter": [
             {
              "fillpattern": {
               "fillmode": "overlay",
               "size": 10,
               "solidity": 0.2
              },
              "type": "scatter"
             }
            ],
            "scatter3d": [
             {
              "line": {
               "colorbar": {
                "outlinewidth": 0,
                "ticks": ""
               }
              },
              "marker": {
               "colorbar": {
                "outlinewidth": 0,
                "ticks": ""
               }
              },
              "type": "scatter3d"
             }
            ],
            "scattercarpet": [
             {
              "marker": {
               "colorbar": {
                "outlinewidth": 0,
                "ticks": ""
               }
              },
              "type": "scattercarpet"
             }
            ],
            "scattergeo": [
             {
              "marker": {
               "colorbar": {
                "outlinewidth": 0,
                "ticks": ""
               }
              },
              "type": "scattergeo"
             }
            ],
            "scattergl": [
             {
              "marker": {
               "colorbar": {
                "outlinewidth": 0,
                "ticks": ""
               }
              },
              "type": "scattergl"
             }
            ],
            "scattermapbox": [
             {
              "marker": {
               "colorbar": {
                "outlinewidth": 0,
                "ticks": ""
               }
              },
              "type": "scattermapbox"
             }
            ],
            "scatterpolar": [
             {
              "marker": {
               "colorbar": {
                "outlinewidth": 0,
                "ticks": ""
               }
              },
              "type": "scatterpolar"
             }
            ],
            "scatterpolargl": [
             {
              "marker": {
               "colorbar": {
                "outlinewidth": 0,
                "ticks": ""
               }
              },
              "type": "scatterpolargl"
             }
            ],
            "scatterternary": [
             {
              "marker": {
               "colorbar": {
                "outlinewidth": 0,
                "ticks": ""
               }
              },
              "type": "scatterternary"
             }
            ],
            "surface": [
             {
              "colorbar": {
               "outlinewidth": 0,
               "ticks": ""
              },
              "colorscale": [
               [
                0,
                "#0d0887"
               ],
               [
                0.1111111111111111,
                "#46039f"
               ],
               [
                0.2222222222222222,
                "#7201a8"
               ],
               [
                0.3333333333333333,
                "#9c179e"
               ],
               [
                0.4444444444444444,
                "#bd3786"
               ],
               [
                0.5555555555555556,
                "#d8576b"
               ],
               [
                0.6666666666666666,
                "#ed7953"
               ],
               [
                0.7777777777777778,
                "#fb9f3a"
               ],
               [
                0.8888888888888888,
                "#fdca26"
               ],
               [
                1,
                "#f0f921"
               ]
              ],
              "type": "surface"
             }
            ],
            "table": [
             {
              "cells": {
               "fill": {
                "color": "#EBF0F8"
               },
               "line": {
                "color": "white"
               }
              },
              "header": {
               "fill": {
                "color": "#C8D4E3"
               },
               "line": {
                "color": "white"
               }
              },
              "type": "table"
             }
            ]
           },
           "layout": {
            "annotationdefaults": {
             "arrowcolor": "#2a3f5f",
             "arrowhead": 0,
             "arrowwidth": 1
            },
            "autotypenumbers": "strict",
            "coloraxis": {
             "colorbar": {
              "outlinewidth": 0,
              "ticks": ""
             }
            },
            "colorscale": {
             "diverging": [
              [
               0,
               "#8e0152"
              ],
              [
               0.1,
               "#c51b7d"
              ],
              [
               0.2,
               "#de77ae"
              ],
              [
               0.3,
               "#f1b6da"
              ],
              [
               0.4,
               "#fde0ef"
              ],
              [
               0.5,
               "#f7f7f7"
              ],
              [
               0.6,
               "#e6f5d0"
              ],
              [
               0.7,
               "#b8e186"
              ],
              [
               0.8,
               "#7fbc41"
              ],
              [
               0.9,
               "#4d9221"
              ],
              [
               1,
               "#276419"
              ]
             ],
             "sequential": [
              [
               0,
               "#0d0887"
              ],
              [
               0.1111111111111111,
               "#46039f"
              ],
              [
               0.2222222222222222,
               "#7201a8"
              ],
              [
               0.3333333333333333,
               "#9c179e"
              ],
              [
               0.4444444444444444,
               "#bd3786"
              ],
              [
               0.5555555555555556,
               "#d8576b"
              ],
              [
               0.6666666666666666,
               "#ed7953"
              ],
              [
               0.7777777777777778,
               "#fb9f3a"
              ],
              [
               0.8888888888888888,
               "#fdca26"
              ],
              [
               1,
               "#f0f921"
              ]
             ],
             "sequentialminus": [
              [
               0,
               "#0d0887"
              ],
              [
               0.1111111111111111,
               "#46039f"
              ],
              [
               0.2222222222222222,
               "#7201a8"
              ],
              [
               0.3333333333333333,
               "#9c179e"
              ],
              [
               0.4444444444444444,
               "#bd3786"
              ],
              [
               0.5555555555555556,
               "#d8576b"
              ],
              [
               0.6666666666666666,
               "#ed7953"
              ],
              [
               0.7777777777777778,
               "#fb9f3a"
              ],
              [
               0.8888888888888888,
               "#fdca26"
              ],
              [
               1,
               "#f0f921"
              ]
             ]
            },
            "colorway": [
             "#636efa",
             "#EF553B",
             "#00cc96",
             "#ab63fa",
             "#FFA15A",
             "#19d3f3",
             "#FF6692",
             "#B6E880",
             "#FF97FF",
             "#FECB52"
            ],
            "font": {
             "color": "#2a3f5f"
            },
            "geo": {
             "bgcolor": "white",
             "lakecolor": "white",
             "landcolor": "white",
             "showlakes": true,
             "showland": true,
             "subunitcolor": "#C8D4E3"
            },
            "hoverlabel": {
             "align": "left"
            },
            "hovermode": "closest",
            "mapbox": {
             "style": "light"
            },
            "paper_bgcolor": "white",
            "plot_bgcolor": "white",
            "polar": {
             "angularaxis": {
              "gridcolor": "#EBF0F8",
              "linecolor": "#EBF0F8",
              "ticks": ""
             },
             "bgcolor": "white",
             "radialaxis": {
              "gridcolor": "#EBF0F8",
              "linecolor": "#EBF0F8",
              "ticks": ""
             }
            },
            "scene": {
             "xaxis": {
              "backgroundcolor": "white",
              "gridcolor": "#DFE8F3",
              "gridwidth": 2,
              "linecolor": "#EBF0F8",
              "showbackground": true,
              "ticks": "",
              "zerolinecolor": "#EBF0F8"
             },
             "yaxis": {
              "backgroundcolor": "white",
              "gridcolor": "#DFE8F3",
              "gridwidth": 2,
              "linecolor": "#EBF0F8",
              "showbackground": true,
              "ticks": "",
              "zerolinecolor": "#EBF0F8"
             },
             "zaxis": {
              "backgroundcolor": "white",
              "gridcolor": "#DFE8F3",
              "gridwidth": 2,
              "linecolor": "#EBF0F8",
              "showbackground": true,
              "ticks": "",
              "zerolinecolor": "#EBF0F8"
             }
            },
            "shapedefaults": {
             "line": {
              "color": "#2a3f5f"
             }
            },
            "ternary": {
             "aaxis": {
              "gridcolor": "#DFE8F3",
              "linecolor": "#A2B1C6",
              "ticks": ""
             },
             "baxis": {
              "gridcolor": "#DFE8F3",
              "linecolor": "#A2B1C6",
              "ticks": ""
             },
             "bgcolor": "white",
             "caxis": {
              "gridcolor": "#DFE8F3",
              "linecolor": "#A2B1C6",
              "ticks": ""
             }
            },
            "title": {
             "x": 0.05
            },
            "xaxis": {
             "automargin": true,
             "gridcolor": "#EBF0F8",
             "linecolor": "#EBF0F8",
             "ticks": "",
             "title": {
              "standoff": 15
             },
             "zerolinecolor": "#EBF0F8",
             "zerolinewidth": 2
            },
            "yaxis": {
             "automargin": true,
             "gridcolor": "#EBF0F8",
             "linecolor": "#EBF0F8",
             "ticks": "",
             "title": {
              "standoff": 15
             },
             "zerolinecolor": "#EBF0F8",
             "zerolinewidth": 2
            }
           }
          },
          "xaxis": {
           "automargin": true,
           "autorange": false,
           "linecolor": "#444",
           "linewidth": 2,
           "minor": {
            "ticks": "outside"
           },
           "mirror": true,
           "showline": true,
           "ticks": "outside",
           "zeroline": false
          },
          "yaxis": {
           "automargin": true,
           "autorange": false,
           "linecolor": "#444",
           "linewidth": 2,
           "minor": {
            "ticks": "outside"
           },
           "mirror": true,
           "showline": true,
           "ticks": "outside",
           "zeroline": false
          }
         }
        },
        "xaxis": {
         "range": [
          "2014-01-01",
          "2022-09-17"
         ],
         "title": {
          "text": "publication year"
         }
        },
        "yaxis": {
         "dtick": 0.5,
         "minor": {
          "dtick": 0.25,
          "tick0": 0
         },
         "range": [
          0,
          2
         ],
         "tick0": 0,
         "tickformat": ".1f",
         "title": {
          "text": "calculated XP ratio"
         }
        }
       }
      }
     },
     "metadata": {},
     "output_type": "display_data"
    }
   ],
   "source": [
    "# plot eXP ratio vs time. Split data by book type.\n",
    "from datetime import date\n",
    "import plotly.express as px\n",
    "from bs4 import BeautifulSoup\n",
    "\n",
    "groups = {\n",
    "    'adventure modules - normal': {\n",
    "        'Legendary': ['N'],\n",
    "        'marker': dict(\n",
    "            size=10, \n",
    "            color='rgba(0,0,0,0.0)', \n",
    "            line=dict(color='#ff7f0e', width=2)\n",
    "        )\n",
    "    },\n",
    "    'adventure modules - legendary': {\n",
    "        'Legendary': ['L','LL'],\n",
    "        'marker': dict(\n",
    "            size=10, \n",
    "            color='#ff7f0e', \n",
    "            line=dict(color='#ff7f0e', width=2)\n",
    "        )\n",
    "    }\n",
    "}\n",
    "\n",
    "# summarize the current dataset\n",
    "df1 = df0[df0['CR'].between(1,30) \n",
    "    & df0['Legendary'].isin(['N','L','LL'])\n",
    "    & df0['Book Type'].isin(['Source'])]\n",
    "df1['group'] = df1.apply(lambda row: 'source books - normal' if row['Legendary'] == 'N' else 'source books - legendary', axis=1)\n",
    "\n",
    "group_columns = ['Date','group','Book']\n",
    "date_range = [date(2014, 1, 1), date.today()]\n",
    "\n",
    "# plot results\n",
    "fig = go.Figure()\n",
    "\n",
    "for g in groups:\n",
    "    group = groups[g]\n",
    "    mask = (df1['Legendary'].isin(group['Legendary']))\n",
    "    dfG = df1[mask].groupby(group_columns).size().to_frame('Total').reset_index()\n",
    "    dfG['eXP Ratio Mean'] = df1[mask].groupby(group_columns).mean().reset_index()['eXP Ratio']\n",
    "    dfG['eXP Ratio Std Dev'] = df1[mask].groupby(group_columns).std().reset_index()['eXP Ratio']\n",
    "    dfG = dfG.sort_values(by=['Date'])\n",
    "    dfG = dfG[dfG['Total'].ge(1)]\n",
    "    \n",
    "    fig.add_trace(go.Scatter(\n",
    "        x=dfG['Date'], \n",
    "        y=dfG['eXP Ratio Mean'],\n",
    "        mode='markers',\n",
    "        name=g,\n",
    "    ))\n",
    "\n",
    "    fig.update_traces(\n",
    "        selector=dict(name=g),\n",
    "        customdata = np.stack((dfG['Book'], dfG['Total']), axis=-1),\n",
    "        hovertemplate = '<b>%{customdata[0]}</b><br>'\n",
    "            + 'Date: %{x}<br>'\n",
    "            + 'XP ratio: %{y:.2f}<br>'\n",
    "            + 'Monsters: %{customdata[1]:.0f}'\n",
    "            + '<extra></extra>',\n",
    "        marker=group['marker'],\n",
    "    )\n",
    "\n",
    "fig.add_trace(go.Scatter(\n",
    "    x=date_range, \n",
    "    y=[1, 1],\n",
    "    mode='lines', \n",
    "    line=dict(color='black', dash='dash'),\n",
    "    showlegend=False,\n",
    "    hoverinfo='skip'\n",
    "))\n",
    "\n",
    "fig.update_layout(\n",
    "    template=TFB_TEMPLATE,\n",
    "    hoverlabel=dict(\n",
    "        bgcolor='white',\n",
    "    ),\n",
    "    xaxis=dict(\n",
    "        title_text='publication year',\n",
    "        range=date_range,\n",
    "    ),\n",
    "    yaxis=dict(\n",
    "        title_text='calculated XP ratio',\n",
    "        range=[0, 2],\n",
    "        tick0=0, dtick=0.5,\n",
    "        tickformat='.1f',\n",
    "        minor=dict(tick0=0, dtick=0.25),\n",
    "    ),\n",
    "    legend=dict(\n",
    "        yanchor='top',  y=0.99,\n",
    "        xanchor='right', x=0.99,\n",
    "        orientation='v',\n",
    "    ),\n",
    ")\n",
    "\n",
    "fig.show(config=TFB_CONFIG)\n",
    "#fig.show()\n",
    "if SAVEFIGS:\n",
    "    file_name = f'./exp-ratio-mean-vs-time-source-books-legendary.html'\n",
    "    fig.write_html(\n",
    "        file_name, \n",
    "        include_plotlyjs=False, \n",
    "        full_html=False, \n",
    "        config=TFB_CONFIG\n",
    "    )\n",
    "    # add style to figure\n",
    "    with open(file_name, 'r') as fin:\n",
    "        fig_soup = BeautifulSoup(fin, 'html.parser')\n",
    "\n",
    "    fig_soup.div['style'] = 'width:800px; min-width:50%; max-width:100%'\n",
    "    with open(file_name, 'wb') as fout:\n",
    "        fout.write(fig_soup.prettify('utf-8'))"
   ]
  },
  {
   "cell_type": "code",
   "execution_count": 25,
   "metadata": {},
   "outputs": [
    {
     "data": {
      "image/png": "[encoded data removed]",
      "text/plain": [
       "<Figure size 600x400 with 1 Axes>"
      ]
     },
     "metadata": {
      "needs_background": "light"
     },
     "output_type": "display_data"
    }
   ],
   "source": [
    "# plot eXP ratio vs time. Split data by book type.\n",
    "col = 'eXP Ratio'\n",
    "groupbyCol = 'Date'\n",
    "colors = plt.rcParams['axes.prop_cycle'].by_key()['color']\n",
    "groups = {\n",
    "    'source books - normal': {\n",
    "        'Book Type': ['Source'],\n",
    "        'Legendary': ['N'],\n",
    "        'Edge Color': colors[1],\n",
    "        'Face Color': 'none',\n",
    "        'Marker': 'o'\n",
    "    },\n",
    "    'source books - legendary': {\n",
    "        'Book Type': ['Source'],\n",
    "        'Legendary': ['L','LL'],\n",
    "        'Edge Color': colors[1],\n",
    "        'Face Color': colors[1],\n",
    "        'Marker': 'o'\n",
    "    }\n",
    "}\n",
    "\n",
    "# summarize the current dataset\n",
    "df1 = df0[df0['CR'].between(1,30) & df0['Legendary'].isin(['N','L','LL'])]\n",
    "\n",
    "# plot results\n",
    "fig = plt.figure(figsize=[6,4], dpi=FDPI, tight_layout=True)\n",
    "ax = plt.axes()\n",
    "\n",
    "for g in groups:\n",
    "    group = groups[g]\n",
    "    mask = (df1['Book Type'].isin(group['Book Type']) & df1['Legendary'].isin(group['Legendary']))\n",
    "    dfG = df1[mask].groupby(['Date']).size().to_frame('Total').reset_index()\n",
    "    dfG['Mean'] = df1[mask].groupby(['Date']).mean().reset_index()[col]\n",
    "    dfG['Std Dev'] = df1[mask].groupby(['Date']).std().reset_index()[col]\n",
    "    dfG = dfG.sort_values(by=['Date'])\n",
    "    dfG = dfG[dfG['Total'].ge(1)]\n",
    "    ax.scatter(x='Date', y='Mean', data=dfG, label=g, marker=group['Marker'], \n",
    "        edgecolors=group['Edge Color'], facecolors=group['Face Color'])\n",
    "\n",
    "dateLims = [df1['Date'].min(),df1['Date'].max()]\n",
    "ax.plot(dateLims, [1]*len(dateLims), '--', color='k')\n",
    "ax.set(xlabel='publication year', ylabel='calculated XP ratio', ylim=[0,2])\n",
    "ax.legend()\n",
    "\n",
    "ax.yaxis.set_major_locator(MultipleLocator(0.5))\n",
    "ax.yaxis.set_major_formatter(FormatStrFormatter('%.1f'))\n",
    "ax.yaxis.set_minor_locator(MultipleLocator(0.25))\n",
    "\n",
    "if SAVEFIGS: plt.savefig('exp-ratio-mean-vs-time-source-books-legendary.svg', metadata=METADATA)"
   ]
  },
  {
   "cell_type": "code",
   "execution_count": 26,
   "metadata": {},
   "outputs": [
    {
     "data": {
      "image/png": "[encoded data removed]",
      "text/plain": [
       "<Figure size 500x400 with 1 Axes>"
      ]
     },
     "metadata": {
      "needs_background": "light"
     },
     "output_type": "display_data"
    }
   ],
   "source": [
    "# plot CDF of eXP Ratio for different source books\n",
    "plotColumn = 'eXP Ratio'\n",
    "groups = {\n",
    "    'MM': {'Book': ['MM'], 'color': colors[0]},\n",
    "    'non-MM': {'Book': ['VGtM','MToF','GGtR','ERftLW','EGtW','MOoT','VRGtR','FToD','SaCoC'], 'color': colors[1]}\n",
    "}\n",
    "\n",
    "df1 = df0[df0['CR'].between(1,30) & df0['Book Type'].isin(['Source']) & df0['Legendary'].isin(['L','LL'])]\n",
    "df1['Book'] = df1['Book'].cat.remove_unused_categories()\n",
    "\n",
    "colors = plt.rcParams['axes.prop_cycle'].by_key()['color']\n",
    "\n",
    "rMin = 0.5; rMax = 3; rDel = 0.05\n",
    "rLims = [rMin - rDel/2, rMax + rDel/2]\n",
    "rRange = np.linspace(rMin - rDel/2, rMax + rDel/2, int(round((rMax - rMin)/rDel)) + 2)\n",
    "\n",
    "fig = plt.figure(figsize=FSIZE, dpi=FDPI, tight_layout=True)\n",
    "ax = plt.axes()\n",
    "for b in groups['non-MM']['Book']:\n",
    "    ax.hist(df1[df1['Book'].isin([b])][plotColumn], rRange, density=True, cumulative=True, histtype='step', \n",
    "        linewidth=0.5, edgecolor=groups['non-MM']['color'])\n",
    "\n",
    "for g in groups:\n",
    "    ax.hist(df1[df1['Book'].isin(groups[g]['Book'])][plotColumn], rRange, density=True, cumulative=True, histtype='step', label=g, \n",
    "        linewidth=2, edgecolor=groups[g]['color'])\n",
    "\n",
    "ax.set(xlim=rLims, xlabel='calculated XP ratio', ylabel='CDF')\n",
    "ax.legend(loc='lower right')\n",
    "\n",
    "ax.xaxis.set_major_locator(MultipleLocator(0.5))\n",
    "ax.xaxis.set_major_formatter(FormatStrFormatter('%.1f'))\n",
    "ax.xaxis.set_minor_locator(MultipleLocator(0.25))\n",
    "\n",
    "if SAVEFIGS: plt.savefig('exp-ratio-cdf-mm-vs-source-books.svg', metadata=METADATA)"
   ]
  },
  {
   "cell_type": "code",
   "execution_count": 27,
   "metadata": {},
   "outputs": [
    {
     "data": {
      "image/png": "[encoded data removed]",
      "text/plain": [
       "<Figure size 500x400 with 1 Axes>"
      ]
     },
     "metadata": {
      "needs_background": "light"
     },
     "output_type": "display_data"
    }
   ],
   "source": [
    "# summarize the current dataset\n",
    "df1 = df0[df0['CR'].between(1,30) \n",
    "    & df0['Book Type'].isin(['Source']) \n",
    "    & df0['Legendary'].isin(['L','LL'])]\n",
    "\n",
    "col = 'eXP Ratio'\n",
    "\n",
    "groups = {\n",
    "    'MM': {'Book': ['MM'], 'Exclude Type': []},\n",
    "    'non-MM': {'Book': ['VGtM','MToF','GGtR','ERftLW','EGtW','MOoT','VRGtR','FToD','SaCoC'], 'Exclude Type': []},\n",
    "    'MM - no dragons': {'Book': ['MM'], 'Exclude Type': ['dragon']},\n",
    "}\n",
    "\n",
    "rMin = 0.5; rMax = 3; rDel = 0.05\n",
    "rLims = [rMin - rDel/2, rMax + rDel/2]\n",
    "rRange = np.linspace(rMin - rDel/2, rMax + rDel/2, int(round((rMax - rMin)/rDel)) + 2)\n",
    "\n",
    "fig = plt.figure(figsize=FSIZE, dpi=FDPI, tight_layout=True)\n",
    "ax = plt.axes()\n",
    "\n",
    "for g in groups:\n",
    "    ax.hist(df1[df1['Book'].isin(groups[g]['Book']) & ~df1['Type'].isin(groups[g]['Exclude Type'])]['eXP Ratio'],\n",
    "        rRange, density=True, cumulative=True, histtype='step', linewidth=1, label=g)\n",
    "\n",
    "ax.set(xlim=[0.5,3.0], xlabel='calculated XP ratio', ylabel='CDF')\n",
    "ax.legend(loc='lower right')\n",
    "\n",
    "ax.xaxis.set_major_locator(MultipleLocator(0.5))\n",
    "ax.xaxis.set_major_formatter(FormatStrFormatter('%.1f'))\n",
    "ax.xaxis.set_minor_locator(MultipleLocator(0.25))\n",
    "\n",
    "if SAVEFIGS: plt.savefig('exp-ratio-cdf-mm-vs-source-books-no-dragons.svg', metadata=METADATA)"
   ]
  },
  {
   "cell_type": "code",
   "execution_count": 49,
   "metadata": {},
   "outputs": [
    {
     "data": {
      "application/vnd.plotly.v1+json": {
       "config": {
        "autosizable": false,
        "displayModeBar": "hover",
        "displaylogo": false,
        "modeBarButtonsToRemove": [
         "select2d",
         "lasso2d",
         "zoom2d",
         "zoomIn2d",
         "zoomOut2d",
         "pan2d",
         "autoScale2d",
         "hoverClosestCartesian",
         "hoverCompareCartesian",
         "toggleSpikelines",
         "resetScale2d"
        ],
        "plotlyServerURL": "https://plot.ly",
        "responsive": true,
        "showAxisDragHandles": false,
        "toImageButtonOptions": {
         "filename": "tfb-plot",
         "format": "png",
         "height": 450,
         "scale": 2,
         "width": 600
        }
       },
       "data": [
        {
         "customdata": [
          [
           "Aboleth",
           "MM"
          ],
          [
           "Beholder",
           "MM"
          ],
          [
           "Beholder",
           "MM"
          ],
          [
           "Death Tyrant",
           "MM"
          ],
          [
           "Death Tyrant",
           "MM"
          ],
          [
           "Demilich",
           "MM"
          ],
          [
           "Demilich",
           "MM"
          ],
          [
           "Dracolich, Blue Adult",
           "MM"
          ],
          [
           "Empyrean",
           "MM"
          ],
          [
           "Kraken",
           "MM"
          ],
          [
           "Mummy Lord",
           "MM"
          ],
          [
           "Mummy Lord",
           "MM"
          ],
          [
           "Solar",
           "MM"
          ],
          [
           "Sphinx, Androsphinx",
           "MM"
          ],
          [
           "Sphinx, Gynosphinx",
           "MM"
          ],
          [
           "Tarrasque",
           "MM"
          ],
          [
           "Vampire",
           "MM"
          ],
          [
           "Vampire Spellcaster",
           "MM"
          ],
          [
           "Vampire Warrior",
           "MM"
          ]
         ],
         "hovertemplate": "<b>%{customdata[0]}</b><br>Book: %{customdata[1]}<br>CR: %{x:.0f}<br>XP ratio: %{y:.2f}<br><extra></extra>",
         "marker": {
          "color": "#1f77b4",
          "line": {
           "color": "#1f77b4",
           "width": 2
          },
          "size": 10
         },
         "mode": "markers",
         "name": "non-dragons",
         "type": "scatter",
         "x": [
          10,
          13,
          13,
          14,
          14,
          18,
          18,
          17,
          23,
          23,
          15,
          15,
          21,
          17,
          11,
          30,
          13,
          15,
          15
         ],
         "y": [
          1.1211864406779661,
          1.633525,
          1.2274,
          1.721467391304348,
          1.2934782608695654,
          1.0312312499999998,
          0.883575,
          1.4700000000000002,
          1.2007233606225003,
          2.30395,
          1.2163124756250001,
          0.9518125000000002,
          0.6958636363636364,
          0.8474750000000001,
          0.8313078703703706,
          1.1295067949354838,
          0.88046875,
          0.8443469370673076,
          0.6920072115384616
         ]
        },
        {
         "customdata": [
          [
           "Black Dragon, Adult",
           "MM"
          ],
          [
           "Black Dragon, Ancient",
           "MM"
          ],
          [
           "Blue Dragon, Adult",
           "MM"
          ],
          [
           "Blue Dragon, Ancient",
           "MM"
          ],
          [
           "Brass Dragon, Adult",
           "MM"
          ],
          [
           "Brass Dragon, Ancient",
           "MM"
          ],
          [
           "Bronze Dragon, Adult",
           "MM"
          ],
          [
           "Bronze Dragon, Ancient",
           "MM"
          ],
          [
           "Copper Dragon, Adult",
           "MM"
          ],
          [
           "Copper Dragon, Ancient",
           "MM"
          ],
          [
           "Gold Dragon, Adult",
           "MM"
          ],
          [
           "Gold Dragon, Ancient",
           "MM"
          ],
          [
           "Green Dragon, Adult",
           "MM"
          ],
          [
           "Green Dragon, Ancient",
           "MM"
          ],
          [
           "Red Dragon, Adult",
           "MM"
          ],
          [
           "Red Dragon, Ancient",
           "MM"
          ],
          [
           "Silver Dragon, Adult",
           "MM"
          ],
          [
           "Silver Dragon, Ancient",
           "MM"
          ],
          [
           "White Dragon, Adult",
           "MM"
          ],
          [
           "White Dragon, Ancient",
           "MM"
          ]
         ],
         "hovertemplate": "<b>%{customdata[0]}</b><br>Book: %{customdata[1]}<br>CR: %{x:.0f}<br>XP ratio: %{y:.2f}<br><extra></extra>",
         "marker": {
          "color": "#ff7f0e",
          "line": {
           "color": "#ff7f0e",
           "width": 2
          },
          "size": 10
         },
         "mode": "markers",
         "name": "dragons",
         "type": "scatter",
         "x": [
          14,
          21,
          16,
          23,
          13,
          20,
          15,
          22,
          14,
          21,
          17,
          24,
          15,
          22,
          17,
          24,
          16,
          23,
          13,
          20
         ],
         "y": [
          1.5853985121739131,
          1.4911164057133843,
          1.5986250000000002,
          1.52067,
          1.5277874606999997,
          1.326765,
          1.772965773423077,
          1.536878016219512,
          1.4697717033913043,
          1.3757407722222224,
          1.5848988866481482,
          1.2957217741935483,
          1.541480733692308,
          1.4842750395325204,
          1.6180038166435187,
          1.404856209153226,
          1.6973750370000003,
          1.4084409425708335,
          1.8324375435000002,
          1.7484000000000004
         ]
        },
        {
         "hoverinfo": "skip",
         "line": {
          "color": "black",
          "dash": "dash"
         },
         "mode": "lines",
         "showlegend": false,
         "type": "scatter",
         "x": [
          10,
          30
         ],
         "y": [
          1,
          1
         ]
        }
       ],
       "layout": {
        "hoverlabel": {
         "bgcolor": "white"
        },
        "legend": {
         "orientation": "v",
         "x": 0.99,
         "xanchor": "right",
         "y": 0.99,
         "yanchor": "top"
        },
        "template": {
         "data": {
          "bar": [
           {
            "error_x": {
             "color": "#2a3f5f"
            },
            "error_y": {
             "color": "#2a3f5f"
            },
            "marker": {
             "line": {
              "color": "#E5ECF6",
              "width": 0.5
             },
             "pattern": {
              "fillmode": "overlay",
              "size": 10,
              "solidity": 0.2
             }
            },
            "type": "bar"
           }
          ],
          "barpolar": [
           {
            "marker": {
             "line": {
              "color": "#E5ECF6",
              "width": 0.5
             },
             "pattern": {
              "fillmode": "overlay",
              "size": 10,
              "solidity": 0.2
             }
            },
            "type": "barpolar"
           }
          ],
          "carpet": [
           {
            "aaxis": {
             "endlinecolor": "#2a3f5f",
             "gridcolor": "white",
             "linecolor": "white",
             "minorgridcolor": "white",
             "startlinecolor": "#2a3f5f"
            },
            "baxis": {
             "endlinecolor": "#2a3f5f",
             "gridcolor": "white",
             "linecolor": "white",
             "minorgridcolor": "white",
             "startlinecolor": "#2a3f5f"
            },
            "type": "carpet"
           }
          ],
          "choropleth": [
           {
            "colorbar": {
             "outlinewidth": 0,
             "ticks": ""
            },
            "type": "choropleth"
           }
          ],
          "contour": [
           {
            "colorbar": {
             "outlinewidth": 0,
             "ticks": ""
            },
            "colorscale": [
             [
              0,
              "#0d0887"
             ],
             [
              0.1111111111111111,
              "#46039f"
             ],
             [
              0.2222222222222222,
              "#7201a8"
             ],
             [
              0.3333333333333333,
              "#9c179e"
             ],
             [
              0.4444444444444444,
              "#bd3786"
             ],
             [
              0.5555555555555556,
              "#d8576b"
             ],
             [
              0.6666666666666666,
              "#ed7953"
             ],
             [
              0.7777777777777778,
              "#fb9f3a"
             ],
             [
              0.8888888888888888,
              "#fdca26"
             ],
             [
              1,
              "#f0f921"
             ]
            ],
            "type": "contour"
           }
          ],
          "contourcarpet": [
           {
            "colorbar": {
             "outlinewidth": 0,
             "ticks": ""
            },
            "type": "contourcarpet"
           }
          ],
          "heatmap": [
           {
            "colorbar": {
             "outlinewidth": 0,
             "ticks": ""
            },
            "colorscale": [
             [
              0,
              "#0d0887"
             ],
             [
              0.1111111111111111,
              "#46039f"
             ],
             [
              0.2222222222222222,
              "#7201a8"
             ],
             [
              0.3333333333333333,
              "#9c179e"
             ],
             [
              0.4444444444444444,
              "#bd3786"
             ],
             [
              0.5555555555555556,
              "#d8576b"
             ],
             [
              0.6666666666666666,
              "#ed7953"
             ],
             [
              0.7777777777777778,
              "#fb9f3a"
             ],
             [
              0.8888888888888888,
              "#fdca26"
             ],
             [
              1,
              "#f0f921"
             ]
            ],
            "type": "heatmap"
           }
          ],
          "heatmapgl": [
           {
            "colorbar": {
             "outlinewidth": 0,
             "ticks": ""
            },
            "colorscale": [
             [
              0,
              "#0d0887"
             ],
             [
              0.1111111111111111,
              "#46039f"
             ],
             [
              0.2222222222222222,
              "#7201a8"
             ],
             [
              0.3333333333333333,
              "#9c179e"
             ],
             [
              0.4444444444444444,
              "#bd3786"
             ],
             [
              0.5555555555555556,
              "#d8576b"
             ],
             [
              0.6666666666666666,
              "#ed7953"
             ],
             [
              0.7777777777777778,
              "#fb9f3a"
             ],
             [
              0.8888888888888888,
              "#fdca26"
             ],
             [
              1,
              "#f0f921"
             ]
            ],
            "type": "heatmapgl"
           }
          ],
          "histogram": [
           {
            "marker": {
             "pattern": {
              "fillmode": "overlay",
              "size": 10,
              "solidity": 0.2
             }
            },
            "type": "histogram"
           }
          ],
          "histogram2d": [
           {
            "colorbar": {
             "outlinewidth": 0,
             "ticks": ""
            },
            "colorscale": [
             [
              0,
              "#0d0887"
             ],
             [
              0.1111111111111111,
              "#46039f"
             ],
             [
              0.2222222222222222,
              "#7201a8"
             ],
             [
              0.3333333333333333,
              "#9c179e"
             ],
             [
              0.4444444444444444,
              "#bd3786"
             ],
             [
              0.5555555555555556,
              "#d8576b"
             ],
             [
              0.6666666666666666,
              "#ed7953"
             ],
             [
              0.7777777777777778,
              "#fb9f3a"
             ],
             [
              0.8888888888888888,
              "#fdca26"
             ],
             [
              1,
              "#f0f921"
             ]
            ],
            "type": "histogram2d"
           }
          ],
          "histogram2dcontour": [
           {
            "colorbar": {
             "outlinewidth": 0,
             "ticks": ""
            },
            "colorscale": [
             [
              0,
              "#0d0887"
             ],
             [
              0.1111111111111111,
              "#46039f"
             ],
             [
              0.2222222222222222,
              "#7201a8"
             ],
             [
              0.3333333333333333,
              "#9c179e"
             ],
             [
              0.4444444444444444,
              "#bd3786"
             ],
             [
              0.5555555555555556,
              "#d8576b"
             ],
             [
              0.6666666666666666,
              "#ed7953"
             ],
             [
              0.7777777777777778,
              "#fb9f3a"
             ],
             [
              0.8888888888888888,
              "#fdca26"
             ],
             [
              1,
              "#f0f921"
             ]
            ],
            "type": "histogram2dcontour"
           }
          ],
          "mesh3d": [
           {
            "colorbar": {
             "outlinewidth": 0,
             "ticks": ""
            },
            "type": "mesh3d"
           }
          ],
          "parcoords": [
           {
            "line": {
             "colorbar": {
              "outlinewidth": 0,
              "ticks": ""
             }
            },
            "type": "parcoords"
           }
          ],
          "pie": [
           {
            "automargin": true,
            "type": "pie"
           }
          ],
          "scatter": [
           {
            "fillpattern": {
             "fillmode": "overlay",
             "size": 10,
             "solidity": 0.2
            },
            "type": "scatter"
           }
          ],
          "scatter3d": [
           {
            "line": {
             "colorbar": {
              "outlinewidth": 0,
              "ticks": ""
             }
            },
            "marker": {
             "colorbar": {
              "outlinewidth": 0,
              "ticks": ""
             }
            },
            "type": "scatter3d"
           }
          ],
          "scattercarpet": [
           {
            "marker": {
             "colorbar": {
              "outlinewidth": 0,
              "ticks": ""
             }
            },
            "type": "scattercarpet"
           }
          ],
          "scattergeo": [
           {
            "marker": {
             "colorbar": {
              "outlinewidth": 0,
              "ticks": ""
             }
            },
            "type": "scattergeo"
           }
          ],
          "scattergl": [
           {
            "marker": {
             "colorbar": {
              "outlinewidth": 0,
              "ticks": ""
             }
            },
            "type": "scattergl"
           }
          ],
          "scattermapbox": [
           {
            "marker": {
             "colorbar": {
              "outlinewidth": 0,
              "ticks": ""
             }
            },
            "type": "scattermapbox"
           }
          ],
          "scatterpolar": [
           {
            "marker": {
             "colorbar": {
              "outlinewidth": 0,
              "ticks": ""
             }
            },
            "type": "scatterpolar"
           }
          ],
          "scatterpolargl": [
           {
            "marker": {
             "colorbar": {
              "outlinewidth": 0,
              "ticks": ""
             }
            },
            "type": "scatterpolargl"
           }
          ],
          "scatterternary": [
           {
            "marker": {
             "colorbar": {
              "outlinewidth": 0,
              "ticks": ""
             }
            },
            "type": "scatterternary"
           }
          ],
          "surface": [
           {
            "colorbar": {
             "outlinewidth": 0,
             "ticks": ""
            },
            "colorscale": [
             [
              0,
              "#0d0887"
             ],
             [
              0.1111111111111111,
              "#46039f"
             ],
             [
              0.2222222222222222,
              "#7201a8"
             ],
             [
              0.3333333333333333,
              "#9c179e"
             ],
             [
              0.4444444444444444,
              "#bd3786"
             ],
             [
              0.5555555555555556,
              "#d8576b"
             ],
             [
              0.6666666666666666,
              "#ed7953"
             ],
             [
              0.7777777777777778,
              "#fb9f3a"
             ],
             [
              0.8888888888888888,
              "#fdca26"
             ],
             [
              1,
              "#f0f921"
             ]
            ],
            "type": "surface"
           }
          ],
          "table": [
           {
            "cells": {
             "fill": {
              "color": "#EBF0F8"
             },
             "line": {
              "color": "white"
             }
            },
            "header": {
             "fill": {
              "color": "#C8D4E3"
             },
             "line": {
              "color": "white"
             }
            },
            "type": "table"
           }
          ]
         },
         "layout": {
          "autosize": true,
          "font": {
           "family": "sans-serif",
           "size": 14
          },
          "hovermode": "closest",
          "legend": {
           "bordercolor": "Black",
           "borderwidth": 1,
           "font": {
            "size": 14
           },
           "orientation": "h",
           "tracegroupgap": 5
          },
          "margin": {
           "b": 80,
           "l": 50,
           "pad": 4,
           "r": 25,
           "t": 40
          },
          "template": {
           "data": {
            "bar": [
             {
              "error_x": {
               "color": "#2a3f5f"
              },
              "error_y": {
               "color": "#2a3f5f"
              },
              "marker": {
               "line": {
                "color": "white",
                "width": 0.5
               },
               "pattern": {
                "fillmode": "overlay",
                "size": 10,
                "solidity": 0.2
               }
              },
              "type": "bar"
             }
            ],
            "barpolar": [
             {
              "marker": {
               "line": {
                "color": "white",
                "width": 0.5
               },
               "pattern": {
                "fillmode": "overlay",
                "size": 10,
                "solidity": 0.2
               }
              },
              "type": "barpolar"
             }
            ],
            "carpet": [
             {
              "aaxis": {
               "endlinecolor": "#2a3f5f",
               "gridcolor": "#C8D4E3",
               "linecolor": "#C8D4E3",
               "minorgridcolor": "#C8D4E3",
               "startlinecolor": "#2a3f5f"
              },
              "baxis": {
               "endlinecolor": "#2a3f5f",
               "gridcolor": "#C8D4E3",
               "linecolor": "#C8D4E3",
               "minorgridcolor": "#C8D4E3",
               "startlinecolor": "#2a3f5f"
              },
              "type": "carpet"
             }
            ],
            "choropleth": [
             {
              "colorbar": {
               "outlinewidth": 0,
               "ticks": ""
              },
              "type": "choropleth"
             }
            ],
            "contour": [
             {
              "colorbar": {
               "outlinewidth": 0,
               "ticks": ""
              },
              "colorscale": [
               [
                0,
                "#0d0887"
               ],
               [
                0.1111111111111111,
                "#46039f"
               ],
               [
                0.2222222222222222,
                "#7201a8"
               ],
               [
                0.3333333333333333,
                "#9c179e"
               ],
               [
                0.4444444444444444,
                "#bd3786"
               ],
               [
                0.5555555555555556,
                "#d8576b"
               ],
               [
                0.6666666666666666,
                "#ed7953"
               ],
               [
                0.7777777777777778,
                "#fb9f3a"
               ],
               [
                0.8888888888888888,
                "#fdca26"
               ],
               [
                1,
                "#f0f921"
               ]
              ],
              "type": "contour"
             }
            ],
            "contourcarpet": [
             {
              "colorbar": {
               "outlinewidth": 0,
               "ticks": ""
              },
              "type": "contourcarpet"
             }
            ],
            "heatmap": [
             {
              "colorbar": {
               "outlinewidth": 0,
               "ticks": ""
              },
              "colorscale": [
               [
                0,
                "#0d0887"
               ],
               [
                0.1111111111111111,
                "#46039f"
               ],
               [
                0.2222222222222222,
                "#7201a8"
               ],
               [
                0.3333333333333333,
                "#9c179e"
               ],
               [
                0.4444444444444444,
                "#bd3786"
               ],
               [
                0.5555555555555556,
                "#d8576b"
               ],
               [
                0.6666666666666666,
                "#ed7953"
               ],
               [
                0.7777777777777778,
                "#fb9f3a"
               ],
               [
                0.8888888888888888,
                "#fdca26"
               ],
               [
                1,
                "#f0f921"
               ]
              ],
              "type": "heatmap"
             }
            ],
            "heatmapgl": [
             {
              "colorbar": {
               "outlinewidth": 0,
               "ticks": ""
              },
              "colorscale": [
               [
                0,
                "#0d0887"
               ],
               [
                0.1111111111111111,
                "#46039f"
               ],
               [
                0.2222222222222222,
                "#7201a8"
               ],
               [
                0.3333333333333333,
                "#9c179e"
               ],
               [
                0.4444444444444444,
                "#bd3786"
               ],
               [
                0.5555555555555556,
                "#d8576b"
               ],
               [
                0.6666666666666666,
                "#ed7953"
               ],
               [
                0.7777777777777778,
                "#fb9f3a"
               ],
               [
                0.8888888888888888,
                "#fdca26"
               ],
               [
                1,
                "#f0f921"
               ]
              ],
              "type": "heatmapgl"
             }
            ],
            "histogram": [
             {
              "marker": {
               "pattern": {
                "fillmode": "overlay",
                "size": 10,
                "solidity": 0.2
               }
              },
              "type": "histogram"
             }
            ],
            "histogram2d": [
             {
              "colorbar": {
               "outlinewidth": 0,
               "ticks": ""
              },
              "colorscale": [
               [
                0,
                "#0d0887"
               ],
               [
                0.1111111111111111,
                "#46039f"
               ],
               [
                0.2222222222222222,
                "#7201a8"
               ],
               [
                0.3333333333333333,
                "#9c179e"
               ],
               [
                0.4444444444444444,
                "#bd3786"
               ],
               [
                0.5555555555555556,
                "#d8576b"
               ],
               [
                0.6666666666666666,
                "#ed7953"
               ],
               [
                0.7777777777777778,
                "#fb9f3a"
               ],
               [
                0.8888888888888888,
                "#fdca26"
               ],
               [
                1,
                "#f0f921"
               ]
              ],
              "type": "histogram2d"
             }
            ],
            "histogram2dcontour": [
             {
              "colorbar": {
               "outlinewidth": 0,
               "ticks": ""
              },
              "colorscale": [
               [
                0,
                "#0d0887"
               ],
               [
                0.1111111111111111,
                "#46039f"
               ],
               [
                0.2222222222222222,
                "#7201a8"
               ],
               [
                0.3333333333333333,
                "#9c179e"
               ],
               [
                0.4444444444444444,
                "#bd3786"
               ],
               [
                0.5555555555555556,
                "#d8576b"
               ],
               [
                0.6666666666666666,
                "#ed7953"
               ],
               [
                0.7777777777777778,
                "#fb9f3a"
               ],
               [
                0.8888888888888888,
                "#fdca26"
               ],
               [
                1,
                "#f0f921"
               ]
              ],
              "type": "histogram2dcontour"
             }
            ],
            "mesh3d": [
             {
              "colorbar": {
               "outlinewidth": 0,
               "ticks": ""
              },
              "type": "mesh3d"
             }
            ],
            "parcoords": [
             {
              "line": {
               "colorbar": {
                "outlinewidth": 0,
                "ticks": ""
               }
              },
              "type": "parcoords"
             }
            ],
            "pie": [
             {
              "automargin": true,
              "type": "pie"
             }
            ],
            "scatter": [
             {
              "fillpattern": {
               "fillmode": "overlay",
               "size": 10,
               "solidity": 0.2
              },
              "type": "scatter"
             }
            ],
            "scatter3d": [
             {
              "line": {
               "colorbar": {
                "outlinewidth": 0,
                "ticks": ""
               }
              },
              "marker": {
               "colorbar": {
                "outlinewidth": 0,
                "ticks": ""
               }
              },
              "type": "scatter3d"
             }
            ],
            "scattercarpet": [
             {
              "marker": {
               "colorbar": {
                "outlinewidth": 0,
                "ticks": ""
               }
              },
              "type": "scattercarpet"
             }
            ],
            "scattergeo": [
             {
              "marker": {
               "colorbar": {
                "outlinewidth": 0,
                "ticks": ""
               }
              },
              "type": "scattergeo"
             }
            ],
            "scattergl": [
             {
              "marker": {
               "colorbar": {
                "outlinewidth": 0,
                "ticks": ""
               }
              },
              "type": "scattergl"
             }
            ],
            "scattermapbox": [
             {
              "marker": {
               "colorbar": {
                "outlinewidth": 0,
                "ticks": ""
               }
              },
              "type": "scattermapbox"
             }
            ],
            "scatterpolar": [
             {
              "marker": {
               "colorbar": {
                "outlinewidth": 0,
                "ticks": ""
               }
              },
              "type": "scatterpolar"
             }
            ],
            "scatterpolargl": [
             {
              "marker": {
               "colorbar": {
                "outlinewidth": 0,
                "ticks": ""
               }
              },
              "type": "scatterpolargl"
             }
            ],
            "scatterternary": [
             {
              "marker": {
               "colorbar": {
                "outlinewidth": 0,
                "ticks": ""
               }
              },
              "type": "scatterternary"
             }
            ],
            "surface": [
             {
              "colorbar": {
               "outlinewidth": 0,
               "ticks": ""
              },
              "colorscale": [
               [
                0,
                "#0d0887"
               ],
               [
                0.1111111111111111,
                "#46039f"
               ],
               [
                0.2222222222222222,
                "#7201a8"
               ],
               [
                0.3333333333333333,
                "#9c179e"
               ],
               [
                0.4444444444444444,
                "#bd3786"
               ],
               [
                0.5555555555555556,
                "#d8576b"
               ],
               [
                0.6666666666666666,
                "#ed7953"
               ],
               [
                0.7777777777777778,
                "#fb9f3a"
               ],
               [
                0.8888888888888888,
                "#fdca26"
               ],
               [
                1,
                "#f0f921"
               ]
              ],
              "type": "surface"
             }
            ],
            "table": [
             {
              "cells": {
               "fill": {
                "color": "#EBF0F8"
               },
               "line": {
                "color": "white"
               }
              },
              "header": {
               "fill": {
                "color": "#C8D4E3"
               },
               "line": {
                "color": "white"
               }
              },
              "type": "table"
             }
            ]
           },
           "layout": {
            "annotationdefaults": {
             "arrowcolor": "#2a3f5f",
             "arrowhead": 0,
             "arrowwidth": 1
            },
            "autotypenumbers": "strict",
            "coloraxis": {
             "colorbar": {
              "outlinewidth": 0,
              "ticks": ""
             }
            },
            "colorscale": {
             "diverging": [
              [
               0,
               "#8e0152"
              ],
              [
               0.1,
               "#c51b7d"
              ],
              [
               0.2,
               "#de77ae"
              ],
              [
               0.3,
               "#f1b6da"
              ],
              [
               0.4,
               "#fde0ef"
              ],
              [
               0.5,
               "#f7f7f7"
              ],
              [
               0.6,
               "#e6f5d0"
              ],
              [
               0.7,
               "#b8e186"
              ],
              [
               0.8,
               "#7fbc41"
              ],
              [
               0.9,
               "#4d9221"
              ],
              [
               1,
               "#276419"
              ]
             ],
             "sequential": [
              [
               0,
               "#0d0887"
              ],
              [
               0.1111111111111111,
               "#46039f"
              ],
              [
               0.2222222222222222,
               "#7201a8"
              ],
              [
               0.3333333333333333,
               "#9c179e"
              ],
              [
               0.4444444444444444,
               "#bd3786"
              ],
              [
               0.5555555555555556,
               "#d8576b"
              ],
              [
               0.6666666666666666,
               "#ed7953"
              ],
              [
               0.7777777777777778,
               "#fb9f3a"
              ],
              [
               0.8888888888888888,
               "#fdca26"
              ],
              [
               1,
               "#f0f921"
              ]
             ],
             "sequentialminus": [
              [
               0,
               "#0d0887"
              ],
              [
               0.1111111111111111,
               "#46039f"
              ],
              [
               0.2222222222222222,
               "#7201a8"
              ],
              [
               0.3333333333333333,
               "#9c179e"
              ],
              [
               0.4444444444444444,
               "#bd3786"
              ],
              [
               0.5555555555555556,
               "#d8576b"
              ],
              [
               0.6666666666666666,
               "#ed7953"
              ],
              [
               0.7777777777777778,
               "#fb9f3a"
              ],
              [
               0.8888888888888888,
               "#fdca26"
              ],
              [
               1,
               "#f0f921"
              ]
             ]
            },
            "colorway": [
             "#636efa",
             "#EF553B",
             "#00cc96",
             "#ab63fa",
             "#FFA15A",
             "#19d3f3",
             "#FF6692",
             "#B6E880",
             "#FF97FF",
             "#FECB52"
            ],
            "font": {
             "color": "#2a3f5f"
            },
            "geo": {
             "bgcolor": "white",
             "lakecolor": "white",
             "landcolor": "white",
             "showlakes": true,
             "showland": true,
             "subunitcolor": "#C8D4E3"
            },
            "hoverlabel": {
             "align": "left"
            },
            "hovermode": "closest",
            "mapbox": {
             "style": "light"
            },
            "paper_bgcolor": "white",
            "plot_bgcolor": "white",
            "polar": {
             "angularaxis": {
              "gridcolor": "#EBF0F8",
              "linecolor": "#EBF0F8",
              "ticks": ""
             },
             "bgcolor": "white",
             "radialaxis": {
              "gridcolor": "#EBF0F8",
              "linecolor": "#EBF0F8",
              "ticks": ""
             }
            },
            "scene": {
             "xaxis": {
              "backgroundcolor": "white",
              "gridcolor": "#DFE8F3",
              "gridwidth": 2,
              "linecolor": "#EBF0F8",
              "showbackground": true,
              "ticks": "",
              "zerolinecolor": "#EBF0F8"
             },
             "yaxis": {
              "backgroundcolor": "white",
              "gridcolor": "#DFE8F3",
              "gridwidth": 2,
              "linecolor": "#EBF0F8",
              "showbackground": true,
              "ticks": "",
              "zerolinecolor": "#EBF0F8"
             },
             "zaxis": {
              "backgroundcolor": "white",
              "gridcolor": "#DFE8F3",
              "gridwidth": 2,
              "linecolor": "#EBF0F8",
              "showbackground": true,
              "ticks": "",
              "zerolinecolor": "#EBF0F8"
             }
            },
            "shapedefaults": {
             "line": {
              "color": "#2a3f5f"
             }
            },
            "ternary": {
             "aaxis": {
              "gridcolor": "#DFE8F3",
              "linecolor": "#A2B1C6",
              "ticks": ""
             },
             "baxis": {
              "gridcolor": "#DFE8F3",
              "linecolor": "#A2B1C6",
              "ticks": ""
             },
             "bgcolor": "white",
             "caxis": {
              "gridcolor": "#DFE8F3",
              "linecolor": "#A2B1C6",
              "ticks": ""
             }
            },
            "title": {
             "x": 0.05
            },
            "xaxis": {
             "automargin": true,
             "gridcolor": "#EBF0F8",
             "linecolor": "#EBF0F8",
             "ticks": "",
             "title": {
              "standoff": 15
             },
             "zerolinecolor": "#EBF0F8",
             "zerolinewidth": 2
            },
            "yaxis": {
             "automargin": true,
             "gridcolor": "#EBF0F8",
             "linecolor": "#EBF0F8",
             "ticks": "",
             "title": {
              "standoff": 15
             },
             "zerolinecolor": "#EBF0F8",
             "zerolinewidth": 2
            }
           }
          },
          "xaxis": {
           "automargin": true,
           "autorange": false,
           "linecolor": "#444",
           "linewidth": 2,
           "minor": {
            "ticks": "outside"
           },
           "mirror": true,
           "showline": true,
           "ticks": "outside",
           "zeroline": false
          },
          "yaxis": {
           "automargin": true,
           "autorange": false,
           "linecolor": "#444",
           "linewidth": 2,
           "minor": {
            "ticks": "outside"
           },
           "mirror": true,
           "showline": true,
           "ticks": "outside",
           "zeroline": false
          }
         }
        },
        "xaxis": {
         "range": [
          9.5,
          30.5
         ],
         "title": {
          "text": "CR"
         }
        },
        "yaxis": {
         "dtick": 0.5,
         "minor": {
          "dtick": 0.25,
          "tick0": 0
         },
         "range": [
          0,
          3
         ],
         "tick0": 0,
         "tickformat": ".1f",
         "title": {
          "text": "calculated XP ratio"
         }
        }
       }
      }
     },
     "metadata": {},
     "output_type": "display_data"
    }
   ],
   "source": [
    "# dragons in the MM vs non-dragons\n",
    "from datetime import date\n",
    "import plotly.express as px\n",
    "from bs4 import BeautifulSoup\n",
    "\n",
    "# summarize the current dataset\n",
    "df1 = df0[df0['Book'].isin(['MM']) & df0['Legendary'].isin(['L','LL'])]\n",
    "indx = df1['Type'].isin(['dragon'])\n",
    "\n",
    "# plot results\n",
    "fig = go.Figure()\n",
    "\n",
    "dft = df1[~indx]\n",
    "fig.add_trace(go.Scatter(\n",
    "    x=dft['CR'], \n",
    "    y=dft['eXP Ratio'],\n",
    "    mode='markers',\n",
    "    name='non-dragons',\n",
    "    marker=dict(\n",
    "        size=10, \n",
    "        color='#1f77b4', \n",
    "        line=dict(color='#1f77b4', width=2)\n",
    "    ),\n",
    "    customdata = np.stack((dft['Monster'], dft['Book']), axis=-1),\n",
    "    hovertemplate = '<b>%{customdata[0]}</b><br>'\n",
    "                  + 'Book: %{customdata[1]}<br>'\n",
    "                  + 'CR: %{x:.0f}<br>'\n",
    "                  + 'XP ratio: %{y:.2f}<br>'\n",
    "                  + '<extra></extra>',\n",
    "))\n",
    "\n",
    "dft = df1[indx]\n",
    "fig.add_trace(go.Scatter(\n",
    "    x=dft['CR'], \n",
    "    y=dft['eXP Ratio'],\n",
    "    mode='markers',\n",
    "    name='dragons',\n",
    "    marker=dict(\n",
    "        size=10, \n",
    "        color='#ff7f0e', \n",
    "        line=dict(color='#ff7f0e', width=2)\n",
    "    ),\n",
    "    customdata = np.stack((dft['Monster'], dft['Book']), axis=-1),\n",
    "    hovertemplate = '<b>%{customdata[0]}</b><br>'\n",
    "                  + 'Book: %{customdata[1]}<br>'\n",
    "                  + 'CR: %{x:.0f}<br>'\n",
    "                  + 'XP ratio: %{y:.2f}<br>'\n",
    "                  + '<extra></extra>',\n",
    "))\n",
    "\n",
    "fig.add_trace(go.Scatter(\n",
    "    x=[10,30], \n",
    "    y=[1, 1],\n",
    "    mode='lines', \n",
    "    line=dict(color='black', dash='dash'),\n",
    "    showlegend=False,\n",
    "    hoverinfo='skip'\n",
    "))\n",
    "\n",
    "fig.update_layout(\n",
    "    template=TFB_TEMPLATE,\n",
    "    hoverlabel=dict(\n",
    "        bgcolor='white',\n",
    "    ),\n",
    "    xaxis=dict(\n",
    "        title_text='CR',\n",
    "        range=[9.5,30.5],\n",
    "    ),\n",
    "    yaxis=dict(\n",
    "        title_text='calculated XP ratio',\n",
    "        range=[0, 3],\n",
    "        tick0=0, dtick=0.5,\n",
    "        tickformat='.1f',\n",
    "        minor=dict(tick0=0, dtick=0.25),\n",
    "    ),\n",
    "    legend=dict(\n",
    "        yanchor='top',  y=0.99,\n",
    "        xanchor='right', x=0.99,\n",
    "        orientation='v',\n",
    "    ),\n",
    ")\n",
    "\n",
    "fig.show(config=TFB_CONFIG)\n",
    "if SAVEFIGS:\n",
    "    file_name = f'./exp-ratio-vs-cr-mm-type-dragon.html'\n",
    "    fig.write_html(\n",
    "        file_name, \n",
    "        include_plotlyjs=False, \n",
    "        full_html=False, \n",
    "        config=TFB_CONFIG\n",
    "    )"
   ]
  },
  {
   "cell_type": "code",
   "execution_count": 50,
   "metadata": {},
   "outputs": [
    {
     "data": {
      "application/vnd.plotly.v1+json": {
       "config": {
        "autosizable": false,
        "displayModeBar": "hover",
        "displaylogo": false,
        "modeBarButtonsToRemove": [
         "select2d",
         "lasso2d",
         "zoom2d",
         "zoomIn2d",
         "zoomOut2d",
         "pan2d",
         "autoScale2d",
         "hoverClosestCartesian",
         "hoverCompareCartesian",
         "toggleSpikelines",
         "resetScale2d"
        ],
        "plotlyServerURL": "https://plot.ly",
        "responsive": true,
        "showAxisDragHandles": false,
        "toImageButtonOptions": {
         "filename": "tfb-plot",
         "format": "png",
         "height": 450,
         "scale": 2,
         "width": 600
        }
       },
       "data": [
        {
         "customdata": [
          [
           "Black Dragon, Adult",
           "MM"
          ],
          [
           "Black Dragon, Ancient",
           "MM"
          ],
          [
           "Blue Dragon, Adult",
           "MM"
          ],
          [
           "Blue Dragon, Ancient",
           "MM"
          ],
          [
           "Brass Dragon, Adult",
           "MM"
          ],
          [
           "Brass Dragon, Ancient",
           "MM"
          ],
          [
           "Bronze Dragon, Adult",
           "MM"
          ],
          [
           "Bronze Dragon, Ancient",
           "MM"
          ],
          [
           "Copper Dragon, Adult",
           "MM"
          ],
          [
           "Copper Dragon, Ancient",
           "MM"
          ],
          [
           "Gold Dragon, Adult",
           "MM"
          ],
          [
           "Gold Dragon, Ancient",
           "MM"
          ],
          [
           "Green Dragon, Adult",
           "MM"
          ],
          [
           "Green Dragon, Ancient",
           "MM"
          ],
          [
           "Red Dragon, Adult",
           "MM"
          ],
          [
           "Red Dragon, Ancient",
           "MM"
          ],
          [
           "Silver Dragon, Adult",
           "MM"
          ],
          [
           "Silver Dragon, Ancient",
           "MM"
          ],
          [
           "White Dragon, Adult",
           "MM"
          ],
          [
           "White Dragon, Ancient",
           "MM"
          ]
         ],
         "hovertemplate": "<b>%{customdata[0]}</b><br>Book: %{customdata[1]}<br>CR: %{x:.0f}<br>XP ratio: %{y:.2f}<br><extra></extra>",
         "marker": {
          "color": "#1f77b4",
          "line": {
           "color": "#1f77b4",
           "width": 2
          },
          "size": 10
         },
         "mode": "markers",
         "name": "MM",
         "type": "scatter",
         "x": [
          14,
          21,
          16,
          23,
          13,
          20,
          15,
          22,
          14,
          21,
          17,
          24,
          15,
          22,
          17,
          24,
          16,
          23,
          13,
          20
         ],
         "y": [
          1.5853985121739131,
          1.4911164057133843,
          1.5986250000000002,
          1.52067,
          1.5277874606999997,
          1.326765,
          1.772965773423077,
          1.536878016219512,
          1.4697717033913043,
          1.3757407722222224,
          1.5848988866481482,
          1.2957217741935483,
          1.541480733692308,
          1.4842750395325204,
          1.6180038166435187,
          1.404856209153226,
          1.6973750370000003,
          1.4084409425708335,
          1.8324375435000002,
          1.7484000000000004
         ]
        },
        {
         "customdata": [
          [
           "Amethyst Dragon, Adult",
           "FToD"
          ],
          [
           "Amethyst Dragon, Adult",
           "FToD"
          ],
          [
           "Amethyst Dragon, Ancient",
           "FToD"
          ],
          [
           "Amethyst Dragon, Ancient",
           "FToD"
          ],
          [
           "Amethyst Greatwyrm",
           "FToD"
          ],
          [
           "Black Greatwyrm",
           "FToD"
          ],
          [
           "Blue Greatwyrm",
           "FToD"
          ],
          [
           "Brass Greatwyrm",
           "FToD"
          ],
          [
           "Bronze Greatwyrm",
           "FToD"
          ],
          [
           "Copper Greatwyrm",
           "FToD"
          ],
          [
           "Crystal Dragon, Adult",
           "FToD"
          ],
          [
           "Crystal Dragon, Adult",
           "FToD"
          ],
          [
           "Crystal Dragon, Ancient",
           "FToD"
          ],
          [
           "Crystal Dragon, Ancient",
           "FToD"
          ],
          [
           "Crystal Greatwyrm",
           "FToD"
          ],
          [
           "Deep Dragon, Adult",
           "FToD"
          ],
          [
           "Deep Dragon, Adult",
           "FToD"
          ],
          [
           "Deep Dragon, Ancient",
           "FToD"
          ],
          [
           "Deep Dragon, Ancient",
           "FToD"
          ],
          [
           "Dragon Turtle, Ancient",
           "FToD"
          ],
          [
           "Dragon Turtle, Ancient",
           "FToD"
          ],
          [
           "Emerald Dragon, Adult",
           "FToD"
          ],
          [
           "Emerald Dragon, Adult",
           "FToD"
          ],
          [
           "Emerald Dragon, Ancient",
           "FToD"
          ],
          [
           "Emerald Dragon, Ancient",
           "FToD"
          ],
          [
           "Emerald Greatwyrm",
           "FToD"
          ],
          [
           "Gold Greatwyrm",
           "FToD"
          ],
          [
           "Green Greatwyrm",
           "FToD"
          ],
          [
           "Moonstone Dragon, Adult",
           "FToD"
          ],
          [
           "Moonstone Dragon, Adult",
           "FToD"
          ],
          [
           "Moonstone Dragon, Ancient",
           "FToD"
          ],
          [
           "Moonstone Dragon, Ancient",
           "FToD"
          ],
          [
           "Red Greatwyrm",
           "FToD"
          ],
          [
           "Sapphire Dragon, Adult",
           "FToD"
          ],
          [
           "Sapphire Dragon, Adult",
           "FToD"
          ],
          [
           "Sapphire Dragon, Ancient",
           "FToD"
          ],
          [
           "Sapphire Dragon, Ancient",
           "FToD"
          ],
          [
           "Sapphire Greatwyrm",
           "FToD"
          ],
          [
           "Sea Serpent, Ancient",
           "FToD"
          ],
          [
           "Silver Greatwyrm",
           "FToD"
          ],
          [
           "Topaz Dragon, Adult",
           "FToD"
          ],
          [
           "Topaz Dragon, Adult",
           "FToD"
          ],
          [
           "Topaz Dragon, Ancient",
           "FToD"
          ],
          [
           "Topaz Dragon, Ancient",
           "FToD"
          ],
          [
           "Topaz Greatwyrm",
           "FToD"
          ],
          [
           "White Greatwyrm",
           "FToD"
          ]
         ],
         "hovertemplate": "<b>%{customdata[0]}</b><br>Book: %{customdata[1]}<br>CR: %{x:.0f}<br>XP ratio: %{y:.2f}<br><extra></extra>",
         "marker": {
          "color": "#ff7f0e",
          "line": {
           "color": "#ff7f0e",
           "width": 2
          },
          "size": 10
         },
         "mode": "markers",
         "name": "FToD",
         "type": "scatter",
         "x": [
          16,
          17,
          23,
          24,
          26,
          27,
          27,
          28,
          28,
          28,
          12,
          13,
          19,
          20,
          26,
          11,
          12,
          18,
          19,
          24,
          25,
          14,
          15,
          21,
          22,
          26,
          28,
          27,
          15,
          16,
          21,
          22,
          27,
          15,
          16,
          22,
          23,
          26,
          14,
          28,
          13,
          14,
          20,
          21,
          26,
          27
         ],
         "y": [
          1.25899274265,
          1.295442454291667,
          0.9447350244750001,
          0.8688891354133065,
          0.90827914925,
          0.900984523809524,
          0.900984523809524,
          0.8818671875000001,
          0.8818671875000001,
          0.8818671875000001,
          1.3428788864583332,
          1.4319296501249998,
          1.1047174609924242,
          1.17304,
          0.90827914925,
          1.6433188181944447,
          1.9082465736904763,
          0.9807760173749999,
          1.2077036239772727,
          1.021155241935484,
          0.984015,
          1.3483369565217393,
          1.5670240816153849,
          1.0610511363636363,
          1.0676998873983738,
          0.90827914925,
          0.8818671875000001,
          0.900984523809524,
          1.1468041194807694,
          1.1505531580500001,
          0.8863573451515152,
          0.7898463101829268,
          0.900984523809524,
          1.341021674423077,
          1.4600625390000002,
          0.9996696935365853,
          0.9685729411875001,
          0.90827914925,
          1.2458274456521738,
          0.8818671875000001,
          1.23046875,
          1.3999093804347829,
          1.0478416927,
          0.9676704545454545,
          0.90827914925,
          0.900984523809524
         ]
        },
        {
         "hoverinfo": "skip",
         "line": {
          "color": "black",
          "dash": "dash"
         },
         "mode": "lines",
         "showlegend": false,
         "type": "scatter",
         "x": [
          10,
          30
         ],
         "y": [
          1,
          1
         ]
        }
       ],
       "layout": {
        "hoverlabel": {
         "bgcolor": "white"
        },
        "legend": {
         "orientation": "v",
         "x": 0.99,
         "xanchor": "right",
         "y": 0.99,
         "yanchor": "top"
        },
        "template": {
         "data": {
          "bar": [
           {
            "error_x": {
             "color": "#2a3f5f"
            },
            "error_y": {
             "color": "#2a3f5f"
            },
            "marker": {
             "line": {
              "color": "#E5ECF6",
              "width": 0.5
             },
             "pattern": {
              "fillmode": "overlay",
              "size": 10,
              "solidity": 0.2
             }
            },
            "type": "bar"
           }
          ],
          "barpolar": [
           {
            "marker": {
             "line": {
              "color": "#E5ECF6",
              "width": 0.5
             },
             "pattern": {
              "fillmode": "overlay",
              "size": 10,
              "solidity": 0.2
             }
            },
            "type": "barpolar"
           }
          ],
          "carpet": [
           {
            "aaxis": {
             "endlinecolor": "#2a3f5f",
             "gridcolor": "white",
             "linecolor": "white",
             "minorgridcolor": "white",
             "startlinecolor": "#2a3f5f"
            },
            "baxis": {
             "endlinecolor": "#2a3f5f",
             "gridcolor": "white",
             "linecolor": "white",
             "minorgridcolor": "white",
             "startlinecolor": "#2a3f5f"
            },
            "type": "carpet"
           }
          ],
          "choropleth": [
           {
            "colorbar": {
             "outlinewidth": 0,
             "ticks": ""
            },
            "type": "choropleth"
           }
          ],
          "contour": [
           {
            "colorbar": {
             "outlinewidth": 0,
             "ticks": ""
            },
            "colorscale": [
             [
              0,
              "#0d0887"
             ],
             [
              0.1111111111111111,
              "#46039f"
             ],
             [
              0.2222222222222222,
              "#7201a8"
             ],
             [
              0.3333333333333333,
              "#9c179e"
             ],
             [
              0.4444444444444444,
              "#bd3786"
             ],
             [
              0.5555555555555556,
              "#d8576b"
             ],
             [
              0.6666666666666666,
              "#ed7953"
             ],
             [
              0.7777777777777778,
              "#fb9f3a"
             ],
             [
              0.8888888888888888,
              "#fdca26"
             ],
             [
              1,
              "#f0f921"
             ]
            ],
            "type": "contour"
           }
          ],
          "contourcarpet": [
           {
            "colorbar": {
             "outlinewidth": 0,
             "ticks": ""
            },
            "type": "contourcarpet"
           }
          ],
          "heatmap": [
           {
            "colorbar": {
             "outlinewidth": 0,
             "ticks": ""
            },
            "colorscale": [
             [
              0,
              "#0d0887"
             ],
             [
              0.1111111111111111,
              "#46039f"
             ],
             [
              0.2222222222222222,
              "#7201a8"
             ],
             [
              0.3333333333333333,
              "#9c179e"
             ],
             [
              0.4444444444444444,
              "#bd3786"
             ],
             [
              0.5555555555555556,
              "#d8576b"
             ],
             [
              0.6666666666666666,
              "#ed7953"
             ],
             [
              0.7777777777777778,
              "#fb9f3a"
             ],
             [
              0.8888888888888888,
              "#fdca26"
             ],
             [
              1,
              "#f0f921"
             ]
            ],
            "type": "heatmap"
           }
          ],
          "heatmapgl": [
           {
            "colorbar": {
             "outlinewidth": 0,
             "ticks": ""
            },
            "colorscale": [
             [
              0,
              "#0d0887"
             ],
             [
              0.1111111111111111,
              "#46039f"
             ],
             [
              0.2222222222222222,
              "#7201a8"
             ],
             [
              0.3333333333333333,
              "#9c179e"
             ],
             [
              0.4444444444444444,
              "#bd3786"
             ],
             [
              0.5555555555555556,
              "#d8576b"
             ],
             [
              0.6666666666666666,
              "#ed7953"
             ],
             [
              0.7777777777777778,
              "#fb9f3a"
             ],
             [
              0.8888888888888888,
              "#fdca26"
             ],
             [
              1,
              "#f0f921"
             ]
            ],
            "type": "heatmapgl"
           }
          ],
          "histogram": [
           {
            "marker": {
             "pattern": {
              "fillmode": "overlay",
              "size": 10,
              "solidity": 0.2
             }
            },
            "type": "histogram"
           }
          ],
          "histogram2d": [
           {
            "colorbar": {
             "outlinewidth": 0,
             "ticks": ""
            },
            "colorscale": [
             [
              0,
              "#0d0887"
             ],
             [
              0.1111111111111111,
              "#46039f"
             ],
             [
              0.2222222222222222,
              "#7201a8"
             ],
             [
              0.3333333333333333,
              "#9c179e"
             ],
             [
              0.4444444444444444,
              "#bd3786"
             ],
             [
              0.5555555555555556,
              "#d8576b"
             ],
             [
              0.6666666666666666,
              "#ed7953"
             ],
             [
              0.7777777777777778,
              "#fb9f3a"
             ],
             [
              0.8888888888888888,
              "#fdca26"
             ],
             [
              1,
              "#f0f921"
             ]
            ],
            "type": "histogram2d"
           }
          ],
          "histogram2dcontour": [
           {
            "colorbar": {
             "outlinewidth": 0,
             "ticks": ""
            },
            "colorscale": [
             [
              0,
              "#0d0887"
             ],
             [
              0.1111111111111111,
              "#46039f"
             ],
             [
              0.2222222222222222,
              "#7201a8"
             ],
             [
              0.3333333333333333,
              "#9c179e"
             ],
             [
              0.4444444444444444,
              "#bd3786"
             ],
             [
              0.5555555555555556,
              "#d8576b"
             ],
             [
              0.6666666666666666,
              "#ed7953"
             ],
             [
              0.7777777777777778,
              "#fb9f3a"
             ],
             [
              0.8888888888888888,
              "#fdca26"
             ],
             [
              1,
              "#f0f921"
             ]
            ],
            "type": "histogram2dcontour"
           }
          ],
          "mesh3d": [
           {
            "colorbar": {
             "outlinewidth": 0,
             "ticks": ""
            },
            "type": "mesh3d"
           }
          ],
          "parcoords": [
           {
            "line": {
             "colorbar": {
              "outlinewidth": 0,
              "ticks": ""
             }
            },
            "type": "parcoords"
           }
          ],
          "pie": [
           {
            "automargin": true,
            "type": "pie"
           }
          ],
          "scatter": [
           {
            "fillpattern": {
             "fillmode": "overlay",
             "size": 10,
             "solidity": 0.2
            },
            "type": "scatter"
           }
          ],
          "scatter3d": [
           {
            "line": {
             "colorbar": {
              "outlinewidth": 0,
              "ticks": ""
             }
            },
            "marker": {
             "colorbar": {
              "outlinewidth": 0,
              "ticks": ""
             }
            },
            "type": "scatter3d"
           }
          ],
          "scattercarpet": [
           {
            "marker": {
             "colorbar": {
              "outlinewidth": 0,
              "ticks": ""
             }
            },
            "type": "scattercarpet"
           }
          ],
          "scattergeo": [
           {
            "marker": {
             "colorbar": {
              "outlinewidth": 0,
              "ticks": ""
             }
            },
            "type": "scattergeo"
           }
          ],
          "scattergl": [
           {
            "marker": {
             "colorbar": {
              "outlinewidth": 0,
              "ticks": ""
             }
            },
            "type": "scattergl"
           }
          ],
          "scattermapbox": [
           {
            "marker": {
             "colorbar": {
              "outlinewidth": 0,
              "ticks": ""
             }
            },
            "type": "scattermapbox"
           }
          ],
          "scatterpolar": [
           {
            "marker": {
             "colorbar": {
              "outlinewidth": 0,
              "ticks": ""
             }
            },
            "type": "scatterpolar"
           }
          ],
          "scatterpolargl": [
           {
            "marker": {
             "colorbar": {
              "outlinewidth": 0,
              "ticks": ""
             }
            },
            "type": "scatterpolargl"
           }
          ],
          "scatterternary": [
           {
            "marker": {
             "colorbar": {
              "outlinewidth": 0,
              "ticks": ""
             }
            },
            "type": "scatterternary"
           }
          ],
          "surface": [
           {
            "colorbar": {
             "outlinewidth": 0,
             "ticks": ""
            },
            "colorscale": [
             [
              0,
              "#0d0887"
             ],
             [
              0.1111111111111111,
              "#46039f"
             ],
             [
              0.2222222222222222,
              "#7201a8"
             ],
             [
              0.3333333333333333,
              "#9c179e"
             ],
             [
              0.4444444444444444,
              "#bd3786"
             ],
             [
              0.5555555555555556,
              "#d8576b"
             ],
             [
              0.6666666666666666,
              "#ed7953"
             ],
             [
              0.7777777777777778,
              "#fb9f3a"
             ],
             [
              0.8888888888888888,
              "#fdca26"
             ],
             [
              1,
              "#f0f921"
             ]
            ],
            "type": "surface"
           }
          ],
          "table": [
           {
            "cells": {
             "fill": {
              "color": "#EBF0F8"
             },
             "line": {
              "color": "white"
             }
            },
            "header": {
             "fill": {
              "color": "#C8D4E3"
             },
             "line": {
              "color": "white"
             }
            },
            "type": "table"
           }
          ]
         },
         "layout": {
          "autosize": true,
          "font": {
           "family": "sans-serif",
           "size": 14
          },
          "hovermode": "closest",
          "legend": {
           "bordercolor": "Black",
           "borderwidth": 1,
           "font": {
            "size": 14
           },
           "orientation": "h",
           "tracegroupgap": 5
          },
          "margin": {
           "b": 80,
           "l": 50,
           "pad": 4,
           "r": 25,
           "t": 40
          },
          "template": {
           "data": {
            "bar": [
             {
              "error_x": {
               "color": "#2a3f5f"
              },
              "error_y": {
               "color": "#2a3f5f"
              },
              "marker": {
               "line": {
                "color": "white",
                "width": 0.5
               },
               "pattern": {
                "fillmode": "overlay",
                "size": 10,
                "solidity": 0.2
               }
              },
              "type": "bar"
             }
            ],
            "barpolar": [
             {
              "marker": {
               "line": {
                "color": "white",
                "width": 0.5
               },
               "pattern": {
                "fillmode": "overlay",
                "size": 10,
                "solidity": 0.2
               }
              },
              "type": "barpolar"
             }
            ],
            "carpet": [
             {
              "aaxis": {
               "endlinecolor": "#2a3f5f",
               "gridcolor": "#C8D4E3",
               "linecolor": "#C8D4E3",
               "minorgridcolor": "#C8D4E3",
               "startlinecolor": "#2a3f5f"
              },
              "baxis": {
               "endlinecolor": "#2a3f5f",
               "gridcolor": "#C8D4E3",
               "linecolor": "#C8D4E3",
               "minorgridcolor": "#C8D4E3",
               "startlinecolor": "#2a3f5f"
              },
              "type": "carpet"
             }
            ],
            "choropleth": [
             {
              "colorbar": {
               "outlinewidth": 0,
               "ticks": ""
              },
              "type": "choropleth"
             }
            ],
            "contour": [
             {
              "colorbar": {
               "outlinewidth": 0,
               "ticks": ""
              },
              "colorscale": [
               [
                0,
                "#0d0887"
               ],
               [
                0.1111111111111111,
                "#46039f"
               ],
               [
                0.2222222222222222,
                "#7201a8"
               ],
               [
                0.3333333333333333,
                "#9c179e"
               ],
               [
                0.4444444444444444,
                "#bd3786"
               ],
               [
                0.5555555555555556,
                "#d8576b"
               ],
               [
                0.6666666666666666,
                "#ed7953"
               ],
               [
                0.7777777777777778,
                "#fb9f3a"
               ],
               [
                0.8888888888888888,
                "#fdca26"
               ],
               [
                1,
                "#f0f921"
               ]
              ],
              "type": "contour"
             }
            ],
            "contourcarpet": [
             {
              "colorbar": {
               "outlinewidth": 0,
               "ticks": ""
              },
              "type": "contourcarpet"
             }
            ],
            "heatmap": [
             {
              "colorbar": {
               "outlinewidth": 0,
               "ticks": ""
              },
              "colorscale": [
               [
                0,
                "#0d0887"
               ],
               [
                0.1111111111111111,
                "#46039f"
               ],
               [
                0.2222222222222222,
                "#7201a8"
               ],
               [
                0.3333333333333333,
                "#9c179e"
               ],
               [
                0.4444444444444444,
                "#bd3786"
               ],
               [
                0.5555555555555556,
                "#d8576b"
               ],
               [
                0.6666666666666666,
                "#ed7953"
               ],
               [
                0.7777777777777778,
                "#fb9f3a"
               ],
               [
                0.8888888888888888,
                "#fdca26"
               ],
               [
                1,
                "#f0f921"
               ]
              ],
              "type": "heatmap"
             }
            ],
            "heatmapgl": [
             {
              "colorbar": {
               "outlinewidth": 0,
               "ticks": ""
              },
              "colorscale": [
               [
                0,
                "#0d0887"
               ],
               [
                0.1111111111111111,
                "#46039f"
               ],
               [
                0.2222222222222222,
                "#7201a8"
               ],
               [
                0.3333333333333333,
                "#9c179e"
               ],
               [
                0.4444444444444444,
                "#bd3786"
               ],
               [
                0.5555555555555556,
                "#d8576b"
               ],
               [
                0.6666666666666666,
                "#ed7953"
               ],
               [
                0.7777777777777778,
                "#fb9f3a"
               ],
               [
                0.8888888888888888,
                "#fdca26"
               ],
               [
                1,
                "#f0f921"
               ]
              ],
              "type": "heatmapgl"
             }
            ],
            "histogram": [
             {
              "marker": {
               "pattern": {
                "fillmode": "overlay",
                "size": 10,
                "solidity": 0.2
               }
              },
              "type": "histogram"
             }
            ],
            "histogram2d": [
             {
              "colorbar": {
               "outlinewidth": 0,
               "ticks": ""
              },
              "colorscale": [
               [
                0,
                "#0d0887"
               ],
               [
                0.1111111111111111,
                "#46039f"
               ],
               [
                0.2222222222222222,
                "#7201a8"
               ],
               [
                0.3333333333333333,
                "#9c179e"
               ],
               [
                0.4444444444444444,
                "#bd3786"
               ],
               [
                0.5555555555555556,
                "#d8576b"
               ],
               [
                0.6666666666666666,
                "#ed7953"
               ],
               [
                0.7777777777777778,
                "#fb9f3a"
               ],
               [
                0.8888888888888888,
                "#fdca26"
               ],
               [
                1,
                "#f0f921"
               ]
              ],
              "type": "histogram2d"
             }
            ],
            "histogram2dcontour": [
             {
              "colorbar": {
               "outlinewidth": 0,
               "ticks": ""
              },
              "colorscale": [
               [
                0,
                "#0d0887"
               ],
               [
                0.1111111111111111,
                "#46039f"
               ],
               [
                0.2222222222222222,
                "#7201a8"
               ],
               [
                0.3333333333333333,
                "#9c179e"
               ],
               [
                0.4444444444444444,
                "#bd3786"
               ],
               [
                0.5555555555555556,
                "#d8576b"
               ],
               [
                0.6666666666666666,
                "#ed7953"
               ],
               [
                0.7777777777777778,
                "#fb9f3a"
               ],
               [
                0.8888888888888888,
                "#fdca26"
               ],
               [
                1,
                "#f0f921"
               ]
              ],
              "type": "histogram2dcontour"
             }
            ],
            "mesh3d": [
             {
              "colorbar": {
               "outlinewidth": 0,
               "ticks": ""
              },
              "type": "mesh3d"
             }
            ],
            "parcoords": [
             {
              "line": {
               "colorbar": {
                "outlinewidth": 0,
                "ticks": ""
               }
              },
              "type": "parcoords"
             }
            ],
            "pie": [
             {
              "automargin": true,
              "type": "pie"
             }
            ],
            "scatter": [
             {
              "fillpattern": {
               "fillmode": "overlay",
               "size": 10,
               "solidity": 0.2
              },
              "type": "scatter"
             }
            ],
            "scatter3d": [
             {
              "line": {
               "colorbar": {
                "outlinewidth": 0,
                "ticks": ""
               }
              },
              "marker": {
               "colorbar": {
                "outlinewidth": 0,
                "ticks": ""
               }
              },
              "type": "scatter3d"
             }
            ],
            "scattercarpet": [
             {
              "marker": {
               "colorbar": {
                "outlinewidth": 0,
                "ticks": ""
               }
              },
              "type": "scattercarpet"
             }
            ],
            "scattergeo": [
             {
              "marker": {
               "colorbar": {
                "outlinewidth": 0,
                "ticks": ""
               }
              },
              "type": "scattergeo"
             }
            ],
            "scattergl": [
             {
              "marker": {
               "colorbar": {
                "outlinewidth": 0,
                "ticks": ""
               }
              },
              "type": "scattergl"
             }
            ],
            "scattermapbox": [
             {
              "marker": {
               "colorbar": {
                "outlinewidth": 0,
                "ticks": ""
               }
              },
              "type": "scattermapbox"
             }
            ],
            "scatterpolar": [
             {
              "marker": {
               "colorbar": {
                "outlinewidth": 0,
                "ticks": ""
               }
              },
              "type": "scatterpolar"
             }
            ],
            "scatterpolargl": [
             {
              "marker": {
               "colorbar": {
                "outlinewidth": 0,
                "ticks": ""
               }
              },
              "type": "scatterpolargl"
             }
            ],
            "scatterternary": [
             {
              "marker": {
               "colorbar": {
                "outlinewidth": 0,
                "ticks": ""
               }
              },
              "type": "scatterternary"
             }
            ],
            "surface": [
             {
              "colorbar": {
               "outlinewidth": 0,
               "ticks": ""
              },
              "colorscale": [
               [
                0,
                "#0d0887"
               ],
               [
                0.1111111111111111,
                "#46039f"
               ],
               [
                0.2222222222222222,
                "#7201a8"
               ],
               [
                0.3333333333333333,
                "#9c179e"
               ],
               [
                0.4444444444444444,
                "#bd3786"
               ],
               [
                0.5555555555555556,
                "#d8576b"
               ],
               [
                0.6666666666666666,
                "#ed7953"
               ],
               [
                0.7777777777777778,
                "#fb9f3a"
               ],
               [
                0.8888888888888888,
                "#fdca26"
               ],
               [
                1,
                "#f0f921"
               ]
              ],
              "type": "surface"
             }
            ],
            "table": [
             {
              "cells": {
               "fill": {
                "color": "#EBF0F8"
               },
               "line": {
                "color": "white"
               }
              },
              "header": {
               "fill": {
                "color": "#C8D4E3"
               },
               "line": {
                "color": "white"
               }
              },
              "type": "table"
             }
            ]
           },
           "layout": {
            "annotationdefaults": {
             "arrowcolor": "#2a3f5f",
             "arrowhead": 0,
             "arrowwidth": 1
            },
            "autotypenumbers": "strict",
            "coloraxis": {
             "colorbar": {
              "outlinewidth": 0,
              "ticks": ""
             }
            },
            "colorscale": {
             "diverging": [
              [
               0,
               "#8e0152"
              ],
              [
               0.1,
               "#c51b7d"
              ],
              [
               0.2,
               "#de77ae"
              ],
              [
               0.3,
               "#f1b6da"
              ],
              [
               0.4,
               "#fde0ef"
              ],
              [
               0.5,
               "#f7f7f7"
              ],
              [
               0.6,
               "#e6f5d0"
              ],
              [
               0.7,
               "#b8e186"
              ],
              [
               0.8,
               "#7fbc41"
              ],
              [
               0.9,
               "#4d9221"
              ],
              [
               1,
               "#276419"
              ]
             ],
             "sequential": [
              [
               0,
               "#0d0887"
              ],
              [
               0.1111111111111111,
               "#46039f"
              ],
              [
               0.2222222222222222,
               "#7201a8"
              ],
              [
               0.3333333333333333,
               "#9c179e"
              ],
              [
               0.4444444444444444,
               "#bd3786"
              ],
              [
               0.5555555555555556,
               "#d8576b"
              ],
              [
               0.6666666666666666,
               "#ed7953"
              ],
              [
               0.7777777777777778,
               "#fb9f3a"
              ],
              [
               0.8888888888888888,
               "#fdca26"
              ],
              [
               1,
               "#f0f921"
              ]
             ],
             "sequentialminus": [
              [
               0,
               "#0d0887"
              ],
              [
               0.1111111111111111,
               "#46039f"
              ],
              [
               0.2222222222222222,
               "#7201a8"
              ],
              [
               0.3333333333333333,
               "#9c179e"
              ],
              [
               0.4444444444444444,
               "#bd3786"
              ],
              [
               0.5555555555555556,
               "#d8576b"
              ],
              [
               0.6666666666666666,
               "#ed7953"
              ],
              [
               0.7777777777777778,
               "#fb9f3a"
              ],
              [
               0.8888888888888888,
               "#fdca26"
              ],
              [
               1,
               "#f0f921"
              ]
             ]
            },
            "colorway": [
             "#636efa",
             "#EF553B",
             "#00cc96",
             "#ab63fa",
             "#FFA15A",
             "#19d3f3",
             "#FF6692",
             "#B6E880",
             "#FF97FF",
             "#FECB52"
            ],
            "font": {
             "color": "#2a3f5f"
            },
            "geo": {
             "bgcolor": "white",
             "lakecolor": "white",
             "landcolor": "white",
             "showlakes": true,
             "showland": true,
             "subunitcolor": "#C8D4E3"
            },
            "hoverlabel": {
             "align": "left"
            },
            "hovermode": "closest",
            "mapbox": {
             "style": "light"
            },
            "paper_bgcolor": "white",
            "plot_bgcolor": "white",
            "polar": {
             "angularaxis": {
              "gridcolor": "#EBF0F8",
              "linecolor": "#EBF0F8",
              "ticks": ""
             },
             "bgcolor": "white",
             "radialaxis": {
              "gridcolor": "#EBF0F8",
              "linecolor": "#EBF0F8",
              "ticks": ""
             }
            },
            "scene": {
             "xaxis": {
              "backgroundcolor": "white",
              "gridcolor": "#DFE8F3",
              "gridwidth": 2,
              "linecolor": "#EBF0F8",
              "showbackground": true,
              "ticks": "",
              "zerolinecolor": "#EBF0F8"
             },
             "yaxis": {
              "backgroundcolor": "white",
              "gridcolor": "#DFE8F3",
              "gridwidth": 2,
              "linecolor": "#EBF0F8",
              "showbackground": true,
              "ticks": "",
              "zerolinecolor": "#EBF0F8"
             },
             "zaxis": {
              "backgroundcolor": "white",
              "gridcolor": "#DFE8F3",
              "gridwidth": 2,
              "linecolor": "#EBF0F8",
              "showbackground": true,
              "ticks": "",
              "zerolinecolor": "#EBF0F8"
             }
            },
            "shapedefaults": {
             "line": {
              "color": "#2a3f5f"
             }
            },
            "ternary": {
             "aaxis": {
              "gridcolor": "#DFE8F3",
              "linecolor": "#A2B1C6",
              "ticks": ""
             },
             "baxis": {
              "gridcolor": "#DFE8F3",
              "linecolor": "#A2B1C6",
              "ticks": ""
             },
             "bgcolor": "white",
             "caxis": {
              "gridcolor": "#DFE8F3",
              "linecolor": "#A2B1C6",
              "ticks": ""
             }
            },
            "title": {
             "x": 0.05
            },
            "xaxis": {
             "automargin": true,
             "gridcolor": "#EBF0F8",
             "linecolor": "#EBF0F8",
             "ticks": "",
             "title": {
              "standoff": 15
             },
             "zerolinecolor": "#EBF0F8",
             "zerolinewidth": 2
            },
            "yaxis": {
             "automargin": true,
             "gridcolor": "#EBF0F8",
             "linecolor": "#EBF0F8",
             "ticks": "",
             "title": {
              "standoff": 15
             },
             "zerolinecolor": "#EBF0F8",
             "zerolinewidth": 2
            }
           }
          },
          "xaxis": {
           "automargin": true,
           "autorange": false,
           "linecolor": "#444",
           "linewidth": 2,
           "minor": {
            "ticks": "outside"
           },
           "mirror": true,
           "showline": true,
           "ticks": "outside",
           "zeroline": false
          },
          "yaxis": {
           "automargin": true,
           "autorange": false,
           "linecolor": "#444",
           "linewidth": 2,
           "minor": {
            "ticks": "outside"
           },
           "mirror": true,
           "showline": true,
           "ticks": "outside",
           "zeroline": false
          }
         }
        },
        "xaxis": {
         "range": [
          9.5,
          30.5
         ],
         "title": {
          "text": "CR"
         }
        },
        "yaxis": {
         "dtick": 0.5,
         "minor": {
          "dtick": 0.25,
          "tick0": 0
         },
         "range": [
          0,
          2
         ],
         "tick0": 0,
         "tickformat": ".1f",
         "title": {
          "text": "calculated XP ratio"
         }
        }
       }
      }
     },
     "metadata": {},
     "output_type": "display_data"
    }
   ],
   "source": [
    "# comparison between dragons published in the MM and those puliblished in FToD\n",
    "\n",
    "# summarize the current dataset\n",
    "df1 = df0[df0['CR'].between(1,30) & df0['Legendary'].isin(['L','LL']) & df0['Type'].isin(['dragon'])]\n",
    "\n",
    "# plot results\n",
    "fig = go.Figure()\n",
    "\n",
    "dft = df1[df1['Book'].isin(['MM'])]\n",
    "fig.add_trace(go.Scatter(\n",
    "    x=dft['CR'], \n",
    "    y=dft['eXP Ratio'],\n",
    "    mode='markers',\n",
    "    name='MM',\n",
    "    marker=dict(\n",
    "        size=10, \n",
    "        color='#1f77b4', \n",
    "        line=dict(color='#1f77b4', width=2)\n",
    "    ),\n",
    "    customdata = np.stack((dft['Monster'], dft['Book']), axis=-1),\n",
    "    hovertemplate = '<b>%{customdata[0]}</b><br>'\n",
    "                  + 'Book: %{customdata[1]}<br>'\n",
    "                  + 'CR: %{x:.0f}<br>'\n",
    "                  + 'XP ratio: %{y:.2f}<br>'\n",
    "                  + '<extra></extra>',\n",
    "))\n",
    "\n",
    "dft = df1[df1['Book'].isin(['FToD'])]\n",
    "fig.add_trace(go.Scatter(\n",
    "    x=dft['CR'], \n",
    "    y=dft['eXP Ratio'],\n",
    "    mode='markers',\n",
    "    name='FToD',\n",
    "    marker=dict(\n",
    "        size=10, \n",
    "        color='#ff7f0e', \n",
    "        line=dict(color='#ff7f0e', width=2)\n",
    "    ),\n",
    "    customdata = np.stack((dft['Monster'], dft['Book']), axis=-1),\n",
    "    hovertemplate = '<b>%{customdata[0]}</b><br>'\n",
    "                  + 'Book: %{customdata[1]}<br>'\n",
    "                  + 'CR: %{x:.0f}<br>'\n",
    "                  + 'XP ratio: %{y:.2f}<br>'\n",
    "                  + '<extra></extra>',\n",
    "))\n",
    "\n",
    "fig.add_trace(go.Scatter(\n",
    "    x=[10,30], \n",
    "    y=[1, 1],\n",
    "    mode='lines', \n",
    "    line=dict(color='black', dash='dash'),\n",
    "    showlegend=False,\n",
    "    hoverinfo='skip'\n",
    "))\n",
    "\n",
    "fig.update_layout(\n",
    "    template=TFB_TEMPLATE,\n",
    "    hoverlabel=dict(\n",
    "        bgcolor='white',\n",
    "    ),\n",
    "    xaxis=dict(\n",
    "        title_text='CR',\n",
    "        range=[9.5,30.5],\n",
    "    ),\n",
    "    yaxis=dict(\n",
    "        title_text='calculated XP ratio',\n",
    "        range=[0, 2],\n",
    "        tick0=0, dtick=0.5,\n",
    "        tickformat='.1f',\n",
    "        minor=dict(tick0=0, dtick=0.25),\n",
    "    ),\n",
    "    legend=dict(\n",
    "        yanchor='top',  y=0.99,\n",
    "        xanchor='right', x=0.99,\n",
    "        orientation='v',\n",
    "    ),\n",
    ")\n",
    "\n",
    "fig.show(config=TFB_CONFIG)\n",
    "if SAVEFIGS:\n",
    "    file_name = f'./exp-ratio-vs-cr-mm-ftod-type-dragon.html'\n",
    "    fig.write_html(\n",
    "        file_name, \n",
    "        include_plotlyjs=False, \n",
    "        full_html=False, \n",
    "        config=TFB_CONFIG\n",
    "    )"
   ]
  },
  {
   "cell_type": "code",
   "execution_count": 30,
   "metadata": {},
   "outputs": [
    {
     "name": "stderr",
     "output_type": "stream",
     "text": [
      "<ipython-input-30-414a1a940976>:2: FutureWarning: DataFrame.mean and DataFrame.median with numeric_only=None will include datetime64 and datetime64tz columns in a future version.\n",
      "  dfM = df1[df1['Book'].isin(['MM'])].mean()['eXP Ratio']\n",
      "<ipython-input-30-414a1a940976>:3: FutureWarning: DataFrame.mean and DataFrame.median with numeric_only=None will include datetime64 and datetime64tz columns in a future version.\n",
      "  dfF = df1[df1['Book'].isin(['FToD'])].mean()['eXP Ratio']\n"
     ]
    },
    {
     "data": {
      "text/plain": [
       "1.0934828804047816"
      ]
     },
     "execution_count": 30,
     "metadata": {},
     "output_type": "execute_result"
    }
   ],
   "source": [
    "df1 = df0[df0['CR'].between(1,30) & df0['Legendary'].isin(['L','LL']) & df0['Type'].isin(['dragon'])]\n",
    "dfM = df1[df1['Book'].isin(['MM'])].mean()['eXP Ratio']\n",
    "dfF = df1[df1['Book'].isin(['FToD'])].mean()['eXP Ratio']\n",
    "dfF"
   ]
  },
  {
   "cell_type": "code",
   "execution_count": 31,
   "metadata": {},
   "outputs": [
    {
     "name": "stderr",
     "output_type": "stream",
     "text": [
      "No handles with labels found to put in legend.\n"
     ]
    },
    {
     "data": {
      "text/plain": [
       "<matplotlib.legend.Legend at 0x12197bc10>"
      ]
     },
     "execution_count": 31,
     "metadata": {},
     "output_type": "execute_result"
    },
    {
     "data": {
      "image/png": "[encoded data removed]",
      "text/plain": [
       "<Figure size 800x400 with 1 Axes>"
      ]
     },
     "metadata": {
      "needs_background": "light"
     },
     "output_type": "display_data"
    }
   ],
   "source": [
    "# plot eXP ratio vs time. Split data by book type.\n",
    "col = 'eXP Ratio'\n",
    "groupbyCol = 'Date'\n",
    "colors = plt.rcParams['axes.prop_cycle'].by_key()['color']\n",
    "groups = {\n",
    "    'adventure books - normal': {\n",
    "        'Book Type': ['Adventure'],\n",
    "        'Legendary': ['N'],\n",
    "        'Edge Color': colors[0],\n",
    "        'Face Color': colors[0],\n",
    "        'Marker': 'o'\n",
    "    },\n",
    "    'adventure books - legendary': {\n",
    "        'Book Type': ['Adventure'],\n",
    "        'Legendary': ['L','LL'],\n",
    "        'Edge Color': colors[0],\n",
    "        'Face Color': 'none',\n",
    "        'Marker': 'o'\n",
    "    },\n",
    "    'source books - normal': {\n",
    "        'Book Type': ['Source'],\n",
    "        'Legendary': ['N'],\n",
    "        'Edge Color': colors[1],\n",
    "        'Face Color': colors[1],\n",
    "        'Marker': 'o'\n",
    "    },\n",
    "    'source books - legendary': {\n",
    "        'Book Type': ['Source'],\n",
    "        'Legendary': ['L','LL'],\n",
    "        'Edge Color': colors[1],\n",
    "        'Face Color': 'none',\n",
    "        'Marker': 'o'\n",
    "    }\n",
    "}\n",
    "\n",
    "# summarize the current dataset\n",
    "df1 = df0[df0['CR'].between(1,30) & df0['Legendary'].isin(['N','L','LL'])]\n",
    "\n",
    "# plot results\n",
    "fig = plt.figure(figsize=[8,4], dpi=FDPI, tight_layout=True)\n",
    "ax = plt.axes()\n",
    "\n",
    "for g in groups:\n",
    "    group = groups[g]\n",
    "    mask = (df1['Book Type'].isin(group['Book Type']) & df1['Legendary'].isin(group['Legendary']))\n",
    "    dfG = df1[mask].groupby(['Date']).size().to_frame('Total').reset_index()\n",
    "    dfG['Mean'] = df1[mask].groupby(['Date']).mean().reset_index()[col]\n",
    "    dfG['Std Dev'] = df1[mask].groupby(['Date']).std().reset_index()[col]\n",
    "    dfG = dfG.sort_values(by=['Date'])\n",
    "    dfG = dfG[dfG['Total'].ge(1)]\n",
    "    ax.errorbar(x=dfG['Date'], y=dfG['Mean'], yerr=dfG['Std Dev'], \n",
    "        markeredgecolor=group['Edge Color'], markerfacecolor=group['Face Color'],\n",
    "        fmt='o', elinewidth=1, capsize=5, ecolor=group['Edge Color'])\n",
    "\n",
    "dateLims = [df1['Date'].min(),df1['Date'].max()]\n",
    "ax.plot(dateLims, [1]*len(dateLims), '--', color='k')\n",
    "ax.set(xlabel='publication year', ylabel='calculated XP ratio', ylim=[0,4])\n",
    "ax.legend()\n",
    "\n",
    "#if SAVEFIGS: plt.savefig('exp-ratio-mean-vs-time-by-book-type-and-legendary.svg', metadata=METADATA)"
   ]
  },
  {
   "cell_type": "code",
   "execution_count": 32,
   "metadata": {},
   "outputs": [
    {
     "name": "stderr",
     "output_type": "stream",
     "text": [
      "No handles with labels found to put in legend.\n"
     ]
    },
    {
     "data": {
      "text/plain": [
       "<matplotlib.legend.Legend at 0x1219226d0>"
      ]
     },
     "execution_count": 32,
     "metadata": {},
     "output_type": "execute_result"
    },
    {
     "data": {
      "image/png": "[encoded data removed]",
      "text/plain": [
       "<Figure size 800x400 with 1 Axes>"
      ]
     },
     "metadata": {
      "needs_background": "light"
     },
     "output_type": "display_data"
    }
   ],
   "source": [
    "# plot eXP ratio vs time. Legendary monsters only.\n",
    "col = 'eXP Ratio'\n",
    "groupbyCol = 'Date'\n",
    "colors = plt.rcParams['axes.prop_cycle'].by_key()['color']\n",
    "groups = {\n",
    "    'adventure books - legendary': {\n",
    "        'Book Type': ['Adventure'],\n",
    "        'Legendary': ['L','LL'],\n",
    "        'Edge Color': colors[0],\n",
    "        'Face Color': 'none',\n",
    "        'Marker': 'o'\n",
    "    },\n",
    "    'source books - legendary': {\n",
    "        'Book Type': ['Source'],\n",
    "        'Legendary': ['L','LL'],\n",
    "        'Edge Color': colors[1],\n",
    "        'Face Color': 'none',\n",
    "        'Marker': 'o'\n",
    "    }\n",
    "}\n",
    "\n",
    "# summarize the current dataset\n",
    "df1 = df0[df0['CR'].between(1,30) & df0['Legendary'].isin(['N','L','LL'])]\n",
    "\n",
    "# plot results\n",
    "fig = plt.figure(figsize=[8,4], dpi=FDPI, tight_layout=True)\n",
    "ax = plt.axes()\n",
    "\n",
    "for g in groups:\n",
    "    group = groups[g]\n",
    "    mask = (df1['Book Type'].isin(group['Book Type']) & df1['Legendary'].isin(group['Legendary']))\n",
    "    dfG = df1[mask].groupby(['Date']).size().to_frame('Total').reset_index()\n",
    "    dfG['Mean'] = df1[mask].groupby(['Date']).mean().reset_index()[col]\n",
    "    dfG['Std Dev'] = df1[mask].groupby(['Date']).std().reset_index()[col]\n",
    "    dfG = dfG.sort_values(by=['Date'])\n",
    "    dfG = dfG[dfG['Total'].ge(1)]\n",
    "    ax.errorbar(x=dfG['Date'], y=dfG['Mean'], yerr=dfG['Std Dev'], \n",
    "        markeredgecolor=group['Edge Color'], markerfacecolor=group['Face Color'],\n",
    "        fmt='o', elinewidth=1, capsize=5, ecolor=group['Edge Color'])\n",
    "\n",
    "dateLims = [df1['Date'].min(),df1['Date'].max()]\n",
    "ax.plot(dateLims, [1]*len(dateLims), '--', color='k')\n",
    "ax.set(xlabel='publication year', ylabel='calculated XP ratio', ylim=[0,4])\n",
    "ax.legend()"
   ]
  }
 ],
 "metadata": {
  "kernelspec": {
   "display_name": "Python 3.10.5 ('thefinishedbook': venv)",
   "language": "python",
   "name": "python3"
  },
  "language_info": {
   "codemirror_mode": {
    "name": "ipython",
    "version": 3
   },
   "file_extension": ".py",
   "mimetype": "text/x-python",
   "name": "python",
   "nbconvert_exporter": "python",
   "pygments_lexer": "ipython3",
   "version": "3.10.5"
  },
  "metadata": {
   "interpreter": {
    "hash": "ac2eaa0ea0ebeafcc7822e65e46aa9d4f966f30b695406963e145ea4a91cd4fc"
   }
  },
  "orig_nbformat": 2,
  "vscode": {
   "interpreter": {
    "hash": "e4b90a08ac11b7f80ea6e39e6f46c6e22a0b6d86a47874aaa13784019f162251"
   }
  }
 },
 "nbformat": 4,
 "nbformat_minor": 2
}
