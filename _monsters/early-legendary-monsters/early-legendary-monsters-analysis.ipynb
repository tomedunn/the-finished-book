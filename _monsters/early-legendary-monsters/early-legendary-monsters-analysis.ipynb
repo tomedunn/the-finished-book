{
 "cells": [
  {
   "cell_type": "code",
   "execution_count": 16,
   "metadata": {},
   "outputs": [],
   "source": [
    "# set parameters\n",
    "import numpy as np\n",
    "import pandas as pd\n",
    "pd.options.mode.chained_assignment = None  # default='warn'\n",
    "pd.options.display.float_format = '{:,.2f}'.format\n",
    "import plotly.graph_objects as go\n",
    "import sys\n",
    "sys.path.append('../../assets/python/')\n",
    "import dmg5e\n",
    "import estats5e\n",
    "import tfb\n",
    "\n",
    "METADATA = {'Contributor': 'T. Dunn', 'Date': '2021-12-27'}\n",
    "SAVEFIGS = False\n",
    "SAVETABS = False"
   ]
  },
  {
   "cell_type": "code",
   "execution_count": 13,
   "metadata": {},
   "outputs": [
    {
     "data": {
      "text/html": [
       "<div>\n",
       "<style scoped>\n",
       "    .dataframe tbody tr th:only-of-type {\n",
       "        vertical-align: middle;\n",
       "    }\n",
       "\n",
       "    .dataframe tbody tr th {\n",
       "        vertical-align: top;\n",
       "    }\n",
       "\n",
       "    .dataframe thead th {\n",
       "        text-align: right;\n",
       "    }\n",
       "</style>\n",
       "<table border=\"1\" class=\"dataframe\">\n",
       "  <thead>\n",
       "    <tr style=\"text-align: right;\">\n",
       "      <th></th>\n",
       "      <th>Book</th>\n",
       "      <th>Date</th>\n",
       "      <th>Type</th>\n",
       "      <th>Status</th>\n",
       "      <th>Added</th>\n",
       "      <th>Processed</th>\n",
       "      <th>Remaining</th>\n",
       "      <th>Published</th>\n",
       "    </tr>\n",
       "    <tr>\n",
       "      <th>Acronym</th>\n",
       "      <th></th>\n",
       "      <th></th>\n",
       "      <th></th>\n",
       "      <th></th>\n",
       "      <th></th>\n",
       "      <th></th>\n",
       "      <th></th>\n",
       "      <th></th>\n",
       "    </tr>\n",
       "  </thead>\n",
       "  <tbody>\n",
       "    <tr>\n",
       "      <th>HotDQ</th>\n",
       "      <td>Hoard of the Dragon Queen</td>\n",
       "      <td>2014-08-19</td>\n",
       "      <td>Adventure</td>\n",
       "      <td>Done</td>\n",
       "      <td>15</td>\n",
       "      <td>15</td>\n",
       "      <td>0</td>\n",
       "      <td>2014-08-19</td>\n",
       "    </tr>\n",
       "    <tr>\n",
       "      <th>MM</th>\n",
       "      <td>Monster Manual</td>\n",
       "      <td>2014-09-07</td>\n",
       "      <td>Source</td>\n",
       "      <td>Done</td>\n",
       "      <td>428</td>\n",
       "      <td>428</td>\n",
       "      <td>0</td>\n",
       "      <td>2014-09-07</td>\n",
       "    </tr>\n",
       "    <tr>\n",
       "      <th>RoT</th>\n",
       "      <td>Rize of Tiamat</td>\n",
       "      <td>2014-11-04</td>\n",
       "      <td>Adventure</td>\n",
       "      <td>Done</td>\n",
       "      <td>8</td>\n",
       "      <td>8</td>\n",
       "      <td>0</td>\n",
       "      <td>2014-11-04</td>\n",
       "    </tr>\n",
       "    <tr>\n",
       "      <th>PotA</th>\n",
       "      <td>Princes of the Apocalypse</td>\n",
       "      <td>2015-04-07</td>\n",
       "      <td>Adventure</td>\n",
       "      <td>Done</td>\n",
       "      <td>53</td>\n",
       "      <td>53</td>\n",
       "      <td>0</td>\n",
       "      <td>2015-04-07</td>\n",
       "    </tr>\n",
       "    <tr>\n",
       "      <th>OotA</th>\n",
       "      <td>Out of the Abyss</td>\n",
       "      <td>2015-09-15</td>\n",
       "      <td>Adventure</td>\n",
       "      <td>CR &lt; 1 needed</td>\n",
       "      <td>34</td>\n",
       "      <td>34</td>\n",
       "      <td>0</td>\n",
       "      <td>2015-09-15</td>\n",
       "    </tr>\n",
       "    <tr>\n",
       "      <th>CoS</th>\n",
       "      <td>Curse of Strahd</td>\n",
       "      <td>2016-03-16</td>\n",
       "      <td>Adventure</td>\n",
       "      <td>Done</td>\n",
       "      <td>24</td>\n",
       "      <td>24</td>\n",
       "      <td>0</td>\n",
       "      <td>2016-03-16</td>\n",
       "    </tr>\n",
       "    <tr>\n",
       "      <th>SKT</th>\n",
       "      <td>Storm King's Thunder</td>\n",
       "      <td>2016-09-06</td>\n",
       "      <td>Adventure</td>\n",
       "      <td>Done</td>\n",
       "      <td>32</td>\n",
       "      <td>32</td>\n",
       "      <td>0</td>\n",
       "      <td>2016-09-06</td>\n",
       "    </tr>\n",
       "    <tr>\n",
       "      <th>VGtM</th>\n",
       "      <td>Volo's Guide to Monsters</td>\n",
       "      <td>2016-11-15</td>\n",
       "      <td>Source</td>\n",
       "      <td>Done</td>\n",
       "      <td>143</td>\n",
       "      <td>143</td>\n",
       "      <td>0</td>\n",
       "      <td>2016-11-15</td>\n",
       "    </tr>\n",
       "    <tr>\n",
       "      <th>TftYP</th>\n",
       "      <td>Tales from the Yawning Portal</td>\n",
       "      <td>2017-04-04</td>\n",
       "      <td>Adventure</td>\n",
       "      <td>reduced-threat monsters, clean up</td>\n",
       "      <td>40</td>\n",
       "      <td>40</td>\n",
       "      <td>0</td>\n",
       "      <td>2017-04-04</td>\n",
       "    </tr>\n",
       "    <tr>\n",
       "      <th>ToA</th>\n",
       "      <td>Tomb of Annihilation</td>\n",
       "      <td>2017-09-19</td>\n",
       "      <td>Adventure</td>\n",
       "      <td>Done</td>\n",
       "      <td>35</td>\n",
       "      <td>35</td>\n",
       "      <td>0</td>\n",
       "      <td>2017-09-19</td>\n",
       "    </tr>\n",
       "    <tr>\n",
       "      <th>XGtE</th>\n",
       "      <td>Xanathar's Guide to Everything</td>\n",
       "      <td>2017-11-12</td>\n",
       "      <td>Source</td>\n",
       "      <td>Done</td>\n",
       "      <td>1</td>\n",
       "      <td>1</td>\n",
       "      <td>0</td>\n",
       "      <td>2017-11-12</td>\n",
       "    </tr>\n",
       "    <tr>\n",
       "      <th>MToF</th>\n",
       "      <td>Mordenkainen's Tome of Foes</td>\n",
       "      <td>2018-05-29</td>\n",
       "      <td>Source</td>\n",
       "      <td>Done</td>\n",
       "      <td>147</td>\n",
       "      <td>147</td>\n",
       "      <td>0</td>\n",
       "      <td>2018-05-29</td>\n",
       "    </tr>\n",
       "    <tr>\n",
       "      <th>WGtE</th>\n",
       "      <td>Wayfinder's Guide to Eberron</td>\n",
       "      <td>2018-07-23</td>\n",
       "      <td>Source</td>\n",
       "      <td>Done</td>\n",
       "      <td>0</td>\n",
       "      <td>0</td>\n",
       "      <td>0</td>\n",
       "      <td>2018-07-23</td>\n",
       "    </tr>\n",
       "    <tr>\n",
       "      <th>WDH</th>\n",
       "      <td>Waterdeep: Dragon Heist</td>\n",
       "      <td>2018-09-18</td>\n",
       "      <td>Adventure</td>\n",
       "      <td>Done</td>\n",
       "      <td>29</td>\n",
       "      <td>29</td>\n",
       "      <td>0</td>\n",
       "      <td>2018-09-18</td>\n",
       "    </tr>\n",
       "    <tr>\n",
       "      <th>GGtR</th>\n",
       "      <td>Guildmaster's Guide to Ravnica</td>\n",
       "      <td>2018-11-20</td>\n",
       "      <td>Source</td>\n",
       "      <td>Done</td>\n",
       "      <td>71</td>\n",
       "      <td>71</td>\n",
       "      <td>0</td>\n",
       "      <td>2018-11-20</td>\n",
       "    </tr>\n",
       "    <tr>\n",
       "      <th>WDotMM</th>\n",
       "      <td>Waterdeep: Dungeon of the Mad Mage</td>\n",
       "      <td>2018-11-20</td>\n",
       "      <td>Adventure</td>\n",
       "      <td>Done</td>\n",
       "      <td>23</td>\n",
       "      <td>23</td>\n",
       "      <td>0</td>\n",
       "      <td>2018-11-20</td>\n",
       "    </tr>\n",
       "    <tr>\n",
       "      <th>GoS</th>\n",
       "      <td>Ghosts of Saltmarsh</td>\n",
       "      <td>2019-05-21</td>\n",
       "      <td>Adventure</td>\n",
       "      <td>Done</td>\n",
       "      <td>48</td>\n",
       "      <td>48</td>\n",
       "      <td>0</td>\n",
       "      <td>2019-05-21</td>\n",
       "    </tr>\n",
       "    <tr>\n",
       "      <th>BGDiA</th>\n",
       "      <td>Baulder's Gate: Descent Into Avernus</td>\n",
       "      <td>2019-09-17</td>\n",
       "      <td>Adventure</td>\n",
       "      <td>Done</td>\n",
       "      <td>34</td>\n",
       "      <td>34</td>\n",
       "      <td>0</td>\n",
       "      <td>2019-09-17</td>\n",
       "    </tr>\n",
       "    <tr>\n",
       "      <th>ERftLW</th>\n",
       "      <td>Eberron: Rising from the Last War</td>\n",
       "      <td>2019-11-19</td>\n",
       "      <td>Source</td>\n",
       "      <td>Done</td>\n",
       "      <td>38</td>\n",
       "      <td>38</td>\n",
       "      <td>0</td>\n",
       "      <td>2019-11-19</td>\n",
       "    </tr>\n",
       "    <tr>\n",
       "      <th>EGtW</th>\n",
       "      <td>Explorer's Guide to Wildmount</td>\n",
       "      <td>2020-03-07</td>\n",
       "      <td>Source</td>\n",
       "      <td>Done</td>\n",
       "      <td>34</td>\n",
       "      <td>34</td>\n",
       "      <td>0</td>\n",
       "      <td>2020-03-07</td>\n",
       "    </tr>\n",
       "    <tr>\n",
       "      <th>MOoT</th>\n",
       "      <td>Mythic Odysseys of Theros</td>\n",
       "      <td>2020-07-21</td>\n",
       "      <td>Source</td>\n",
       "      <td>Done</td>\n",
       "      <td>51</td>\n",
       "      <td>51</td>\n",
       "      <td>0</td>\n",
       "      <td>2020-07-21</td>\n",
       "    </tr>\n",
       "    <tr>\n",
       "      <th>IDRotF</th>\n",
       "      <td>Icewind Dale: Rime of the Frostmaiden</td>\n",
       "      <td>2020-09-15</td>\n",
       "      <td>Adventure</td>\n",
       "      <td>Done</td>\n",
       "      <td>58</td>\n",
       "      <td>58</td>\n",
       "      <td>0</td>\n",
       "      <td>2020-09-15</td>\n",
       "    </tr>\n",
       "    <tr>\n",
       "      <th>TCoE</th>\n",
       "      <td>Tasha's Cauldron of Everything</td>\n",
       "      <td>2020-11-17</td>\n",
       "      <td>Source</td>\n",
       "      <td>Done</td>\n",
       "      <td>2</td>\n",
       "      <td>2</td>\n",
       "      <td>0</td>\n",
       "      <td>2020-11-17</td>\n",
       "    </tr>\n",
       "    <tr>\n",
       "      <th>CM</th>\n",
       "      <td>Candlekeep Mysteries</td>\n",
       "      <td>2021-03-16</td>\n",
       "      <td>Adventure</td>\n",
       "      <td>Done</td>\n",
       "      <td>23</td>\n",
       "      <td>23</td>\n",
       "      <td>0</td>\n",
       "      <td>2021-03-16</td>\n",
       "    </tr>\n",
       "    <tr>\n",
       "      <th>VRGtR</th>\n",
       "      <td>Van Richten's Guide to Ravenloft</td>\n",
       "      <td>2021-05-18</td>\n",
       "      <td>Source</td>\n",
       "      <td>Done</td>\n",
       "      <td>38</td>\n",
       "      <td>38</td>\n",
       "      <td>0</td>\n",
       "      <td>2021-05-18</td>\n",
       "    </tr>\n",
       "    <tr>\n",
       "      <th>TWBtW</th>\n",
       "      <td>The Wild Beyond the Witchlight</td>\n",
       "      <td>2021-09-21</td>\n",
       "      <td>Adventure</td>\n",
       "      <td>Done</td>\n",
       "      <td>39</td>\n",
       "      <td>39</td>\n",
       "      <td>0</td>\n",
       "      <td>2021-09-21</td>\n",
       "    </tr>\n",
       "    <tr>\n",
       "      <th>FToD</th>\n",
       "      <td>Fizban's Treasury of Dragons</td>\n",
       "      <td>2021-10-26</td>\n",
       "      <td>Source</td>\n",
       "      <td>Needs mythic creatures and lair actions</td>\n",
       "      <td>104</td>\n",
       "      <td>104</td>\n",
       "      <td>0</td>\n",
       "      <td>2021-10-26</td>\n",
       "    </tr>\n",
       "    <tr>\n",
       "      <th>SACoC</th>\n",
       "      <td>Strixhaven: a Curriculum of Chaos</td>\n",
       "      <td>2021-12-07</td>\n",
       "      <td>Adventure</td>\n",
       "      <td>Done</td>\n",
       "      <td>44</td>\n",
       "      <td>44</td>\n",
       "      <td>0</td>\n",
       "      <td>2021-12-07</td>\n",
       "    </tr>\n",
       "    <tr>\n",
       "      <th>CRCotN</th>\n",
       "      <td>Critical Role: Call of the Netherdeep</td>\n",
       "      <td>2022-03-15</td>\n",
       "      <td>Adventure</td>\n",
       "      <td>Done</td>\n",
       "      <td>38</td>\n",
       "      <td>38</td>\n",
       "      <td>0</td>\n",
       "      <td>2022-03-15</td>\n",
       "    </tr>\n",
       "    <tr>\n",
       "      <th>MPMotM</th>\n",
       "      <td>Mordenkainen Presents: Monsters of the Multiverse</td>\n",
       "      <td>2022-05-16</td>\n",
       "      <td>Source</td>\n",
       "      <td>Done</td>\n",
       "      <td>281</td>\n",
       "      <td>281</td>\n",
       "      <td>0</td>\n",
       "      <td>2022-05-16</td>\n",
       "    </tr>\n",
       "    <tr>\n",
       "      <th>JttRC</th>\n",
       "      <td>Journey Through the Radiant Citadel</td>\n",
       "      <td>2022-07-19</td>\n",
       "      <td>Adventure</td>\n",
       "      <td>Done</td>\n",
       "      <td>13</td>\n",
       "      <td>13</td>\n",
       "      <td>0</td>\n",
       "      <td>2022-07-19</td>\n",
       "    </tr>\n",
       "    <tr>\n",
       "      <th>SAiS:BAM</th>\n",
       "      <td>Spelljammer: Adventures in Space • Boo’s Astra...</td>\n",
       "      <td>2022-08-16</td>\n",
       "      <td>Source</td>\n",
       "      <td>Done</td>\n",
       "      <td>72</td>\n",
       "      <td>72</td>\n",
       "      <td>0</td>\n",
       "      <td>2022-08-16</td>\n",
       "    </tr>\n",
       "    <tr>\n",
       "      <th>SAiS:LoX</th>\n",
       "      <td>Spelljammer: Adventures in Space • Light of Xa...</td>\n",
       "      <td>2022-08-16</td>\n",
       "      <td>Source</td>\n",
       "      <td>Done</td>\n",
       "      <td>1</td>\n",
       "      <td>1</td>\n",
       "      <td>0</td>\n",
       "      <td>2022-08-16</td>\n",
       "    </tr>\n",
       "    <tr>\n",
       "      <th>DSotDQ</th>\n",
       "      <td>Dragonlance: Shadow of the Dragon Queen</td>\n",
       "      <td>2022-12-06</td>\n",
       "      <td>Adventure</td>\n",
       "      <td>Done</td>\n",
       "      <td>23</td>\n",
       "      <td>23</td>\n",
       "      <td>0</td>\n",
       "      <td>2022-12-06</td>\n",
       "    </tr>\n",
       "    <tr>\n",
       "      <th>KftGV</th>\n",
       "      <td>Keys from the Golden Vault</td>\n",
       "      <td>2023-02-21</td>\n",
       "      <td>Adventure</td>\n",
       "      <td>Done</td>\n",
       "      <td>8</td>\n",
       "      <td>8</td>\n",
       "      <td>0</td>\n",
       "      <td>2023-02-21</td>\n",
       "    </tr>\n",
       "    <tr>\n",
       "      <th>BPGotG</th>\n",
       "      <td>Bigby Presents: Glory of the Giants</td>\n",
       "      <td>2023-08-15</td>\n",
       "      <td>Source</td>\n",
       "      <td>Done</td>\n",
       "      <td>71</td>\n",
       "      <td>71</td>\n",
       "      <td>0</td>\n",
       "      <td>2023-08-15</td>\n",
       "    </tr>\n",
       "    <tr>\n",
       "      <th>PaBTSO</th>\n",
       "      <td>Phandelver and Below: The Shattered Obelisk</td>\n",
       "      <td>2023-09-19</td>\n",
       "      <td>Adventure</td>\n",
       "      <td>Done</td>\n",
       "      <td>17</td>\n",
       "      <td>17</td>\n",
       "      <td>0</td>\n",
       "      <td>2023-09-19</td>\n",
       "    </tr>\n",
       "    <tr>\n",
       "      <th>PAitM:MPP</th>\n",
       "      <td>Planescape: Adventures in the Multiverse • Mor...</td>\n",
       "      <td>2023-10-17</td>\n",
       "      <td>Source</td>\n",
       "      <td>Done</td>\n",
       "      <td>59</td>\n",
       "      <td>59</td>\n",
       "      <td>0</td>\n",
       "      <td>2023-10-17</td>\n",
       "    </tr>\n",
       "    <tr>\n",
       "      <th>TBoMT</th>\n",
       "      <td>The Book of Many Things</td>\n",
       "      <td>2023-11-14</td>\n",
       "      <td>Source</td>\n",
       "      <td>Done</td>\n",
       "      <td>41</td>\n",
       "      <td>41</td>\n",
       "      <td>0</td>\n",
       "      <td>2023-11-14</td>\n",
       "    </tr>\n",
       "    <tr>\n",
       "      <th>VEoR</th>\n",
       "      <td>Vecna: Eve of Ruin</td>\n",
       "      <td>2024-05-21</td>\n",
       "      <td>Adventure</td>\n",
       "      <td>Done</td>\n",
       "      <td>26</td>\n",
       "      <td>26</td>\n",
       "      <td>0</td>\n",
       "      <td>2024-05-21</td>\n",
       "    </tr>\n",
       "    <tr>\n",
       "      <th>QftIS</th>\n",
       "      <td>Quests from the Infinite Staircase</td>\n",
       "      <td>2024-07-16</td>\n",
       "      <td>Adventure</td>\n",
       "      <td>Done</td>\n",
       "      <td>32</td>\n",
       "      <td>32</td>\n",
       "      <td>0</td>\n",
       "      <td>2024-07-16</td>\n",
       "    </tr>\n",
       "  </tbody>\n",
       "</table>\n",
       "</div>"
      ],
      "text/plain": [
       "                                                        Book       Date  \\\n",
       "Acronym                                                                   \n",
       "HotDQ                              Hoard of the Dragon Queen 2014-08-19   \n",
       "MM                                            Monster Manual 2014-09-07   \n",
       "RoT                                           Rize of Tiamat 2014-11-04   \n",
       "PotA                               Princes of the Apocalypse 2015-04-07   \n",
       "OotA                                        Out of the Abyss 2015-09-15   \n",
       "CoS                                          Curse of Strahd 2016-03-16   \n",
       "SKT                                     Storm King's Thunder 2016-09-06   \n",
       "VGtM                                Volo's Guide to Monsters 2016-11-15   \n",
       "TftYP                          Tales from the Yawning Portal 2017-04-04   \n",
       "ToA                                     Tomb of Annihilation 2017-09-19   \n",
       "XGtE                          Xanathar's Guide to Everything 2017-11-12   \n",
       "MToF                             Mordenkainen's Tome of Foes 2018-05-29   \n",
       "WGtE                            Wayfinder's Guide to Eberron 2018-07-23   \n",
       "WDH                                  Waterdeep: Dragon Heist 2018-09-18   \n",
       "GGtR                          Guildmaster's Guide to Ravnica 2018-11-20   \n",
       "WDotMM                    Waterdeep: Dungeon of the Mad Mage 2018-11-20   \n",
       "GoS                                      Ghosts of Saltmarsh 2019-05-21   \n",
       "BGDiA                   Baulder's Gate: Descent Into Avernus 2019-09-17   \n",
       "ERftLW                     Eberron: Rising from the Last War 2019-11-19   \n",
       "EGtW                           Explorer's Guide to Wildmount 2020-03-07   \n",
       "MOoT                               Mythic Odysseys of Theros 2020-07-21   \n",
       "IDRotF                 Icewind Dale: Rime of the Frostmaiden 2020-09-15   \n",
       "TCoE                          Tasha's Cauldron of Everything 2020-11-17   \n",
       "CM                                      Candlekeep Mysteries 2021-03-16   \n",
       "VRGtR                       Van Richten's Guide to Ravenloft 2021-05-18   \n",
       "TWBtW                         The Wild Beyond the Witchlight 2021-09-21   \n",
       "FToD                            Fizban's Treasury of Dragons 2021-10-26   \n",
       "SACoC                      Strixhaven: a Curriculum of Chaos 2021-12-07   \n",
       "CRCotN                 Critical Role: Call of the Netherdeep 2022-03-15   \n",
       "MPMotM     Mordenkainen Presents: Monsters of the Multiverse 2022-05-16   \n",
       "JttRC                    Journey Through the Radiant Citadel 2022-07-19   \n",
       "SAiS:BAM   Spelljammer: Adventures in Space • Boo’s Astra... 2022-08-16   \n",
       "SAiS:LoX   Spelljammer: Adventures in Space • Light of Xa... 2022-08-16   \n",
       "DSotDQ               Dragonlance: Shadow of the Dragon Queen 2022-12-06   \n",
       "KftGV                             Keys from the Golden Vault 2023-02-21   \n",
       "BPGotG                   Bigby Presents: Glory of the Giants 2023-08-15   \n",
       "PaBTSO           Phandelver and Below: The Shattered Obelisk 2023-09-19   \n",
       "PAitM:MPP  Planescape: Adventures in the Multiverse • Mor... 2023-10-17   \n",
       "TBoMT                                The Book of Many Things 2023-11-14   \n",
       "VEoR                                      Vecna: Eve of Ruin 2024-05-21   \n",
       "QftIS                     Quests from the Infinite Staircase 2024-07-16   \n",
       "\n",
       "                Type                                   Status  Added  \\\n",
       "Acronym                                                                \n",
       "HotDQ      Adventure                                     Done     15   \n",
       "MM            Source                                     Done    428   \n",
       "RoT        Adventure                                     Done      8   \n",
       "PotA       Adventure                                     Done     53   \n",
       "OotA       Adventure                            CR < 1 needed     34   \n",
       "CoS        Adventure                                     Done     24   \n",
       "SKT        Adventure                                     Done     32   \n",
       "VGtM          Source                                     Done    143   \n",
       "TftYP      Adventure        reduced-threat monsters, clean up     40   \n",
       "ToA        Adventure                                     Done     35   \n",
       "XGtE          Source                                     Done      1   \n",
       "MToF          Source                                     Done    147   \n",
       "WGtE          Source                                     Done      0   \n",
       "WDH        Adventure                                     Done     29   \n",
       "GGtR          Source                                     Done     71   \n",
       "WDotMM     Adventure                                     Done     23   \n",
       "GoS        Adventure                                     Done     48   \n",
       "BGDiA      Adventure                                     Done     34   \n",
       "ERftLW        Source                                     Done     38   \n",
       "EGtW          Source                                     Done     34   \n",
       "MOoT          Source                                     Done     51   \n",
       "IDRotF     Adventure                                     Done     58   \n",
       "TCoE          Source                                     Done      2   \n",
       "CM         Adventure                                     Done     23   \n",
       "VRGtR         Source                                     Done     38   \n",
       "TWBtW      Adventure                                     Done     39   \n",
       "FToD          Source  Needs mythic creatures and lair actions    104   \n",
       "SACoC      Adventure                                     Done     44   \n",
       "CRCotN     Adventure                                     Done     38   \n",
       "MPMotM        Source                                     Done    281   \n",
       "JttRC      Adventure                                     Done     13   \n",
       "SAiS:BAM      Source                                     Done     72   \n",
       "SAiS:LoX      Source                                     Done      1   \n",
       "DSotDQ     Adventure                                     Done     23   \n",
       "KftGV      Adventure                                     Done      8   \n",
       "BPGotG        Source                                     Done     71   \n",
       "PaBTSO     Adventure                                     Done     17   \n",
       "PAitM:MPP     Source                                     Done     59   \n",
       "TBoMT         Source                                     Done     41   \n",
       "VEoR       Adventure                                     Done     26   \n",
       "QftIS      Adventure                                     Done     32   \n",
       "\n",
       "           Processed  Remaining   Published  \n",
       "Acronym                                      \n",
       "HotDQ             15          0  2014-08-19  \n",
       "MM               428          0  2014-09-07  \n",
       "RoT                8          0  2014-11-04  \n",
       "PotA              53          0  2015-04-07  \n",
       "OotA              34          0  2015-09-15  \n",
       "CoS               24          0  2016-03-16  \n",
       "SKT               32          0  2016-09-06  \n",
       "VGtM             143          0  2016-11-15  \n",
       "TftYP             40          0  2017-04-04  \n",
       "ToA               35          0  2017-09-19  \n",
       "XGtE               1          0  2017-11-12  \n",
       "MToF             147          0  2018-05-29  \n",
       "WGtE               0          0  2018-07-23  \n",
       "WDH               29          0  2018-09-18  \n",
       "GGtR              71          0  2018-11-20  \n",
       "WDotMM            23          0  2018-11-20  \n",
       "GoS               48          0  2019-05-21  \n",
       "BGDiA             34          0  2019-09-17  \n",
       "ERftLW            38          0  2019-11-19  \n",
       "EGtW              34          0  2020-03-07  \n",
       "MOoT              51          0  2020-07-21  \n",
       "IDRotF            58          0  2020-09-15  \n",
       "TCoE               2          0  2020-11-17  \n",
       "CM                23          0  2021-03-16  \n",
       "VRGtR             38          0  2021-05-18  \n",
       "TWBtW             39          0  2021-09-21  \n",
       "FToD             104          0  2021-10-26  \n",
       "SACoC             44          0  2021-12-07  \n",
       "CRCotN            38          0  2022-03-15  \n",
       "MPMotM           281          0  2022-05-16  \n",
       "JttRC             13          0  2022-07-19  \n",
       "SAiS:BAM          72          0  2022-08-16  \n",
       "SAiS:LoX           1          0  2022-08-16  \n",
       "DSotDQ            23          0  2022-12-06  \n",
       "KftGV              8          0  2023-02-21  \n",
       "BPGotG            71          0  2023-08-15  \n",
       "PaBTSO            17          0  2023-09-19  \n",
       "PAitM:MPP         59          0  2023-10-17  \n",
       "TBoMT             41          0  2023-11-14  \n",
       "VEoR              26          0  2024-05-21  \n",
       "QftIS             32          0  2024-07-16  "
      ]
     },
     "execution_count": 13,
     "metadata": {},
     "output_type": "execute_result"
    }
   ],
   "source": [
    "# construct book dataframe\n",
    "dfB = pd.read_csv('../../assets/data/books.csv')\n",
    "dfB = dfB.astype({\n",
    "    'Book': 'category', \n",
    "    'Acronym': 'category',\n",
    "    'Date': 'datetime64[s]',\n",
    "    'Type': 'category'})\n",
    "dfB.set_index('Acronym', inplace=True)\n",
    "dfB"
   ]
  },
  {
   "cell_type": "code",
   "execution_count": 14,
   "metadata": {},
   "outputs": [
    {
     "name": "stdout",
     "output_type": "stream",
     "text": [
      "Includes 2143 monsters in database\n"
     ]
    }
   ],
   "source": [
    "#from scipy.interpolate import interp1d\n",
    "\n",
    "# import data\n",
    "dfD = pd.read_csv('../../assets/data/dmg-targets.csv') # 'CR','PB','XP','AC','HP Mean','AB','DPR Mean'\n",
    "dfD['eHP Mean']  = dfD.apply(lambda row: estats5e.effHP(row['HP Mean'], row['AC']), axis=1)\n",
    "dfD['eDPR Mean'] = dfD.apply(lambda row: estats5e.effDPR(row['DPR Mean'], row['AB']), axis=1)\n",
    "dfD['eXP Mean']  = dfD.apply(lambda row: estats5e.effXP(row['HP Mean'], row['AC'], row['DPR Mean'], row['AB']), axis=1)\n",
    "dfD.set_index('CR', inplace=True)\n",
    "\n",
    "#df0 = pd.read_csv('../../assets/data/monsters.csv') \n",
    "df0 = pd.read_csv('./monster-cr-and-xp.csv') \n",
    "df0 = df0[df0['adj DPR'].gt(0)] \n",
    "# 'Book','Page','Type','Category','Legendary','CR','PB','XP',\n",
    "# 'HP','AC','adj HP','adj AC',\n",
    "# 'AB','adj AB','DPR', 'adj DPR'\n",
    "\n",
    "df0 = df0.astype({'Book': 'category', 'Category': 'category', 'Legendary': 'category', 'Type': 'category'})\n",
    "\n",
    "df0['eHP']  = df0.apply(lambda row: estats5e.effHP(row['adj HP'], row['adj AC']), axis=1)\n",
    "df0['eDPR'] = df0.apply(lambda row: estats5e.effDPR(row['adj DPR'], row['adj AB']), axis=1)\n",
    "df0['eXP']  = df0.apply(lambda row: estats5e.effXP(row['adj HP'], row['adj AC'], row['adj DPR'], row['adj AB']), axis=1)\n",
    "df0['eHP Ratio'] = df0.apply(lambda row: row['eHP']/dfD.loc[row['CR'], 'eHP Mean'], axis=1)\n",
    "df0['eDPR Ratio'] = df0.apply(lambda row: row['eDPR']/dfD.loc[row['CR'], 'eDPR Mean'], axis=1)\n",
    "df0['eXP Ratio'] = df0['eXP'] / df0['XP']\n",
    "df0['eXP Skew'] = (df0['eDPR Ratio'] - df0['eHP Ratio'])/(df0['eDPR Ratio'] + df0['eHP Ratio'])\n",
    "\n",
    "df0['D-CR DMG'] = df0.apply(lambda row: dmg5e.monster_defensive_challenge_rating(row['adj HP'], row['adj AC']), axis=1)\n",
    "df0['O-CR DMG'] = df0.apply(lambda row: dmg5e.monster_offensive_challenge_rating(row['adj DPR'], row['adj AB']), axis=1)\n",
    "df0['C-CR DMG'] = df0.apply(lambda row: np.floor(dmg5e.monster_challenge_rating(row['adj HP'], row['adj AC'], row['adj DPR'], row['adj AB'])), axis=1)\n",
    "df0['C-CR DMG Delta'] = df0['C-CR DMG'] - df0['CR']\n",
    "df0['XP DMG'] = df0.apply(lambda row: dfD.loc[row['C-CR DMG'], 'XP'], axis=1)\n",
    "df0['XP DMG Ratio'] = df0['XP DMG'] / df0['XP']\n",
    "\n",
    "df0['Date'] = df0.apply(lambda row: dfB.loc[row['Book'], 'Date'], axis=1)\n",
    "df0['Book Type'] = df0.apply(lambda row: dfB.loc[row['Book'], 'Type'], axis=1)\n",
    "\n",
    "len(df0.index.tolist())\n",
    "print('Includes {} monsters in database'.format(len(df0.index.to_list())))"
   ]
  },
  {
   "cell_type": "code",
   "execution_count": 21,
   "metadata": {},
   "outputs": [
    {
     "data": {
      "application/vnd.plotly.v1+json": {
       "config": {
        "autosizable": true,
        "displayModeBar": "hover",
        "displaylogo": false,
        "doubleClick": "reset",
        "modeBarButtonsToRemove": [
         "select2d",
         "lasso2d",
         "zoom2d",
         "zoomIn2d",
         "zoomOut2d",
         "pan2d",
         "autoScale2d",
         "hoverClosestCartesian",
         "hoverCompareCartesian",
         "toggleSpikelines",
         "resetScale2d"
        ],
        "plotlyServerURL": "https://plot.ly",
        "responsive": true,
        "showAxisDragHandles": false,
        "toImageButtonOptions": {
         "filename": "tfb-plot",
         "format": "png",
         "height": 450,
         "scale": 2,
         "width": 600
        }
       },
       "data": [
        {
         "customdata": [
          [
           "HotDQ",
           13
          ],
          [
           "RoT",
           6
          ],
          [
           "PotA",
           37
          ],
          [
           "OotA",
           14
          ],
          [
           "CoS",
           14
          ],
          [
           "SKT",
           15
          ],
          [
           "TftYP",
           32
          ],
          [
           "ToA",
           22
          ],
          [
           "WDH",
           26
          ],
          [
           "WDotMM",
           15
          ],
          [
           "GoS",
           34
          ],
          [
           "BGDiA",
           22
          ],
          [
           "IDRotF",
           40
          ],
          [
           "CM",
           13
          ],
          [
           "TWBtW",
           24
          ],
          [
           "SACoC",
           30
          ],
          [
           "CRCotN",
           30
          ],
          [
           "JttRC",
           9
          ],
          [
           "DSotDQ",
           18
          ],
          [
           "KftGV",
           6
          ],
          [
           "PaBTSO",
           14
          ],
          [
           "VEoR",
           20
          ],
          [
           "QftIS",
           19
          ]
         ],
         "hovertemplate": "<b>%{customdata[0]}</b><br>Date: %{x}<br>XP ratio: %{y:.2f}<br>Monsters: %{customdata[1]:.0f}<extra></extra>",
         "marker": {
          "color": "rgba(0,0,0,0.0)",
          "line": {
           "color": "rgba(31,119,180,1.0)",
           "width": 2
          },
          "size": 10
         },
         "mode": "markers",
         "name": "adventure modules - normal",
         "type": "scatter",
         "x": [
          "2014-08-19T00:00:00.000000000",
          "2014-11-04T00:00:00.000000000",
          "2015-04-07T00:00:00.000000000",
          "2015-09-15T00:00:00.000000000",
          "2016-03-16T00:00:00.000000000",
          "2016-09-06T00:00:00.000000000",
          "2017-04-04T00:00:00.000000000",
          "2017-09-19T00:00:00.000000000",
          "2018-09-18T00:00:00.000000000",
          "2018-11-20T00:00:00.000000000",
          "2019-05-21T00:00:00.000000000",
          "2019-09-17T00:00:00.000000000",
          "2020-09-15T00:00:00.000000000",
          "2021-03-16T00:00:00.000000000",
          "2021-09-21T00:00:00.000000000",
          "2021-12-07T00:00:00.000000000",
          "2022-03-15T00:00:00.000000000",
          "2022-07-19T00:00:00.000000000",
          "2022-12-06T00:00:00.000000000",
          "2023-02-21T00:00:00.000000000",
          "2023-09-19T00:00:00.000000000",
          "2024-05-21T00:00:00.000000000",
          "2024-07-16T00:00:00.000000000"
         ],
         "y": [
          0.89417907918857,
          0.5735777335691129,
          0.8885666694300014,
          0.7361053748030869,
          0.7783515830558836,
          0.8187704885218795,
          0.7424777013698746,
          0.8663947310545392,
          0.7955854941212344,
          0.9110694229809385,
          0.7132142951803875,
          0.924222969187688,
          0.791678541715432,
          0.6705376172943449,
          0.8424070652543031,
          0.7646783231952695,
          0.7358362542485978,
          0.767852304664133,
          0.7655674647644394,
          0.9391268272930168,
          0.7425537467656765,
          0.8359926642578615,
          0.6923269461463363
         ]
        },
        {
         "customdata": [
          [
           "HotDQ",
           1
          ],
          [
           "RoT",
           2
          ],
          [
           "PotA",
           4
          ],
          [
           "OotA",
           9
          ],
          [
           "CoS",
           1
          ],
          [
           "SKT",
           3
          ],
          [
           "TftYP",
           1
          ],
          [
           "ToA",
           2
          ],
          [
           "WDH",
           2
          ],
          [
           "WDotMM",
           3
          ],
          [
           "GoS",
           5
          ],
          [
           "BGDiA",
           2
          ],
          [
           "IDRotF",
           3
          ],
          [
           "CM",
           4
          ],
          [
           "TWBtW",
           2
          ],
          [
           "SACoC",
           8
          ],
          [
           "CRCotN",
           5
          ],
          [
           "JttRC",
           3
          ],
          [
           "DSotDQ",
           2
          ],
          [
           "PaBTSO",
           2
          ],
          [
           "VEoR",
           6
          ],
          [
           "QftIS",
           6
          ]
         ],
         "hovertemplate": "<b>%{customdata[0]}</b><br>Date: %{x}<br>XP ratio: %{y:.2f}<br>Monsters: %{customdata[1]:.0f}<extra></extra>",
         "marker": {
          "color": "rgba(31,119,180,1.0)",
          "line": {
           "color": "rgba(31,119,180,1.0)",
           "width": 2
          },
          "size": 10
         },
         "mode": "markers",
         "name": "adventure modules - legendary",
         "type": "scatter",
         "x": [
          "2014-08-19T00:00:00.000000000",
          "2014-11-04T00:00:00.000000000",
          "2015-04-07T00:00:00.000000000",
          "2015-09-15T00:00:00.000000000",
          "2016-03-16T00:00:00.000000000",
          "2016-09-06T00:00:00.000000000",
          "2017-04-04T00:00:00.000000000",
          "2017-09-19T00:00:00.000000000",
          "2018-09-18T00:00:00.000000000",
          "2018-11-20T00:00:00.000000000",
          "2019-05-21T00:00:00.000000000",
          "2019-09-17T00:00:00.000000000",
          "2020-09-15T00:00:00.000000000",
          "2021-03-16T00:00:00.000000000",
          "2021-09-21T00:00:00.000000000",
          "2021-12-07T00:00:00.000000000",
          "2022-03-15T00:00:00.000000000",
          "2022-07-19T00:00:00.000000000",
          "2022-12-06T00:00:00.000000000",
          "2023-09-19T00:00:00.000000000",
          "2024-05-21T00:00:00.000000000",
          "2024-07-16T00:00:00.000000000"
         ],
         "y": [
          1.0912466843501327,
          3.214765550041357,
          2.117627183129371,
          1.3223568324182067,
          1.9720809181582846,
          1.712113789480342,
          1.7136327298153846,
          1.2947904230769232,
          0.8249502805349112,
          1.1726571484071486,
          1.0060160340194795,
          1.0776179374500001,
          1.264174269325414,
          0.9914325301187619,
          1.173541323553846,
          0.9221940361691069,
          1.1060738311963956,
          1.1480354280014653,
          1.3191715998783826,
          1.1061012874837028,
          1.0744807177943787,
          1.1026815472262488
         ]
        },
        {
         "hoverinfo": "skip",
         "line": {
          "color": "black",
          "dash": "dash"
         },
         "mode": "lines",
         "showlegend": false,
         "type": "scatter",
         "x": [
          "2014-01-01",
          "2025-01-01"
         ],
         "y": [
          1,
          1
         ]
        }
       ],
       "layout": {
        "height": 450,
        "hoverlabel": {
         "bgcolor": "white"
        },
        "legend": {
         "orientation": "v",
         "x": 0.99,
         "xanchor": "right",
         "y": 0.99,
         "yanchor": "top"
        },
        "template": {
         "layout": {
          "autosize": false,
          "font": {
           "family": "sans-serif",
           "size": 14
          },
          "hoverlabel": {
           "align": "left"
          },
          "hovermode": "closest",
          "margin": {
           "b": 55,
           "l": 60,
           "pad": 4,
           "r": 25,
           "t": 20
          },
          "template": {
           "data": {
            "bar": [
             {
              "error_x": {
               "color": "#2a3f5f"
              },
              "error_y": {
               "color": "#2a3f5f"
              },
              "marker": {
               "line": {
                "color": "white",
                "width": 0.5
               },
               "pattern": {
                "fillmode": "overlay",
                "size": 10,
                "solidity": 0.2
               }
              },
              "type": "bar"
             }
            ],
            "barpolar": [
             {
              "marker": {
               "line": {
                "color": "white",
                "width": 0.5
               },
               "pattern": {
                "fillmode": "overlay",
                "size": 10,
                "solidity": 0.2
               }
              },
              "type": "barpolar"
             }
            ],
            "carpet": [
             {
              "aaxis": {
               "endlinecolor": "#2a3f5f",
               "gridcolor": "#C8D4E3",
               "linecolor": "#C8D4E3",
               "minorgridcolor": "#C8D4E3",
               "startlinecolor": "#2a3f5f"
              },
              "baxis": {
               "endlinecolor": "#2a3f5f",
               "gridcolor": "#C8D4E3",
               "linecolor": "#C8D4E3",
               "minorgridcolor": "#C8D4E3",
               "startlinecolor": "#2a3f5f"
              },
              "type": "carpet"
             }
            ],
            "choropleth": [
             {
              "colorbar": {
               "outlinewidth": 0,
               "ticks": ""
              },
              "type": "choropleth"
             }
            ],
            "contour": [
             {
              "colorbar": {
               "outlinewidth": 0,
               "ticks": ""
              },
              "colorscale": [
               [
                0,
                "#0d0887"
               ],
               [
                0.1111111111111111,
                "#46039f"
               ],
               [
                0.2222222222222222,
                "#7201a8"
               ],
               [
                0.3333333333333333,
                "#9c179e"
               ],
               [
                0.4444444444444444,
                "#bd3786"
               ],
               [
                0.5555555555555556,
                "#d8576b"
               ],
               [
                0.6666666666666666,
                "#ed7953"
               ],
               [
                0.7777777777777778,
                "#fb9f3a"
               ],
               [
                0.8888888888888888,
                "#fdca26"
               ],
               [
                1,
                "#f0f921"
               ]
              ],
              "type": "contour"
             }
            ],
            "contourcarpet": [
             {
              "colorbar": {
               "outlinewidth": 0,
               "ticks": ""
              },
              "type": "contourcarpet"
             }
            ],
            "heatmap": [
             {
              "colorbar": {
               "outlinewidth": 0,
               "ticks": ""
              },
              "colorscale": [
               [
                0,
                "#0d0887"
               ],
               [
                0.1111111111111111,
                "#46039f"
               ],
               [
                0.2222222222222222,
                "#7201a8"
               ],
               [
                0.3333333333333333,
                "#9c179e"
               ],
               [
                0.4444444444444444,
                "#bd3786"
               ],
               [
                0.5555555555555556,
                "#d8576b"
               ],
               [
                0.6666666666666666,
                "#ed7953"
               ],
               [
                0.7777777777777778,
                "#fb9f3a"
               ],
               [
                0.8888888888888888,
                "#fdca26"
               ],
               [
                1,
                "#f0f921"
               ]
              ],
              "type": "heatmap"
             }
            ],
            "heatmapgl": [
             {
              "colorbar": {
               "outlinewidth": 0,
               "ticks": ""
              },
              "colorscale": [
               [
                0,
                "#0d0887"
               ],
               [
                0.1111111111111111,
                "#46039f"
               ],
               [
                0.2222222222222222,
                "#7201a8"
               ],
               [
                0.3333333333333333,
                "#9c179e"
               ],
               [
                0.4444444444444444,
                "#bd3786"
               ],
               [
                0.5555555555555556,
                "#d8576b"
               ],
               [
                0.6666666666666666,
                "#ed7953"
               ],
               [
                0.7777777777777778,
                "#fb9f3a"
               ],
               [
                0.8888888888888888,
                "#fdca26"
               ],
               [
                1,
                "#f0f921"
               ]
              ],
              "type": "heatmapgl"
             }
            ],
            "histogram": [
             {
              "marker": {
               "pattern": {
                "fillmode": "overlay",
                "size": 10,
                "solidity": 0.2
               }
              },
              "type": "histogram"
             }
            ],
            "histogram2d": [
             {
              "colorbar": {
               "outlinewidth": 0,
               "ticks": ""
              },
              "colorscale": [
               [
                0,
                "#0d0887"
               ],
               [
                0.1111111111111111,
                "#46039f"
               ],
               [
                0.2222222222222222,
                "#7201a8"
               ],
               [
                0.3333333333333333,
                "#9c179e"
               ],
               [
                0.4444444444444444,
                "#bd3786"
               ],
               [
                0.5555555555555556,
                "#d8576b"
               ],
               [
                0.6666666666666666,
                "#ed7953"
               ],
               [
                0.7777777777777778,
                "#fb9f3a"
               ],
               [
                0.8888888888888888,
                "#fdca26"
               ],
               [
                1,
                "#f0f921"
               ]
              ],
              "type": "histogram2d"
             }
            ],
            "histogram2dcontour": [
             {
              "colorbar": {
               "outlinewidth": 0,
               "ticks": ""
              },
              "colorscale": [
               [
                0,
                "#0d0887"
               ],
               [
                0.1111111111111111,
                "#46039f"
               ],
               [
                0.2222222222222222,
                "#7201a8"
               ],
               [
                0.3333333333333333,
                "#9c179e"
               ],
               [
                0.4444444444444444,
                "#bd3786"
               ],
               [
                0.5555555555555556,
                "#d8576b"
               ],
               [
                0.6666666666666666,
                "#ed7953"
               ],
               [
                0.7777777777777778,
                "#fb9f3a"
               ],
               [
                0.8888888888888888,
                "#fdca26"
               ],
               [
                1,
                "#f0f921"
               ]
              ],
              "type": "histogram2dcontour"
             }
            ],
            "mesh3d": [
             {
              "colorbar": {
               "outlinewidth": 0,
               "ticks": ""
              },
              "type": "mesh3d"
             }
            ],
            "parcoords": [
             {
              "line": {
               "colorbar": {
                "outlinewidth": 0,
                "ticks": ""
               }
              },
              "type": "parcoords"
             }
            ],
            "pie": [
             {
              "automargin": true,
              "type": "pie"
             }
            ],
            "scatter": [
             {
              "fillpattern": {
               "fillmode": "overlay",
               "size": 10,
               "solidity": 0.2
              },
              "type": "scatter"
             }
            ],
            "scatter3d": [
             {
              "line": {
               "colorbar": {
                "outlinewidth": 0,
                "ticks": ""
               }
              },
              "marker": {
               "colorbar": {
                "outlinewidth": 0,
                "ticks": ""
               }
              },
              "type": "scatter3d"
             }
            ],
            "scattercarpet": [
             {
              "marker": {
               "colorbar": {
                "outlinewidth": 0,
                "ticks": ""
               }
              },
              "type": "scattercarpet"
             }
            ],
            "scattergeo": [
             {
              "marker": {
               "colorbar": {
                "outlinewidth": 0,
                "ticks": ""
               }
              },
              "type": "scattergeo"
             }
            ],
            "scattergl": [
             {
              "marker": {
               "colorbar": {
                "outlinewidth": 0,
                "ticks": ""
               }
              },
              "type": "scattergl"
             }
            ],
            "scattermapbox": [
             {
              "marker": {
               "colorbar": {
                "outlinewidth": 0,
                "ticks": ""
               }
              },
              "type": "scattermapbox"
             }
            ],
            "scatterpolar": [
             {
              "marker": {
               "colorbar": {
                "outlinewidth": 0,
                "ticks": ""
               }
              },
              "type": "scatterpolar"
             }
            ],
            "scatterpolargl": [
             {
              "marker": {
               "colorbar": {
                "outlinewidth": 0,
                "ticks": ""
               }
              },
              "type": "scatterpolargl"
             }
            ],
            "scatterternary": [
             {
              "marker": {
               "colorbar": {
                "outlinewidth": 0,
                "ticks": ""
               }
              },
              "type": "scatterternary"
             }
            ],
            "surface": [
             {
              "colorbar": {
               "outlinewidth": 0,
               "ticks": ""
              },
              "colorscale": [
               [
                0,
                "#0d0887"
               ],
               [
                0.1111111111111111,
                "#46039f"
               ],
               [
                0.2222222222222222,
                "#7201a8"
               ],
               [
                0.3333333333333333,
                "#9c179e"
               ],
               [
                0.4444444444444444,
                "#bd3786"
               ],
               [
                0.5555555555555556,
                "#d8576b"
               ],
               [
                0.6666666666666666,
                "#ed7953"
               ],
               [
                0.7777777777777778,
                "#fb9f3a"
               ],
               [
                0.8888888888888888,
                "#fdca26"
               ],
               [
                1,
                "#f0f921"
               ]
              ],
              "type": "surface"
             }
            ],
            "table": [
             {
              "cells": {
               "fill": {
                "color": "#EBF0F8"
               },
               "line": {
                "color": "white"
               }
              },
              "header": {
               "fill": {
                "color": "#C8D4E3"
               },
               "line": {
                "color": "white"
               }
              },
              "type": "table"
             }
            ]
           },
           "layout": {
            "annotationdefaults": {
             "arrowcolor": "#2a3f5f",
             "arrowhead": 0,
             "arrowwidth": 1
            },
            "autotypenumbers": "strict",
            "coloraxis": {
             "colorbar": {
              "outlinewidth": 0,
              "ticks": ""
             }
            },
            "colorscale": {
             "diverging": [
              [
               0,
               "#8e0152"
              ],
              [
               0.1,
               "#c51b7d"
              ],
              [
               0.2,
               "#de77ae"
              ],
              [
               0.3,
               "#f1b6da"
              ],
              [
               0.4,
               "#fde0ef"
              ],
              [
               0.5,
               "#f7f7f7"
              ],
              [
               0.6,
               "#e6f5d0"
              ],
              [
               0.7,
               "#b8e186"
              ],
              [
               0.8,
               "#7fbc41"
              ],
              [
               0.9,
               "#4d9221"
              ],
              [
               1,
               "#276419"
              ]
             ],
             "sequential": [
              [
               0,
               "#0d0887"
              ],
              [
               0.1111111111111111,
               "#46039f"
              ],
              [
               0.2222222222222222,
               "#7201a8"
              ],
              [
               0.3333333333333333,
               "#9c179e"
              ],
              [
               0.4444444444444444,
               "#bd3786"
              ],
              [
               0.5555555555555556,
               "#d8576b"
              ],
              [
               0.6666666666666666,
               "#ed7953"
              ],
              [
               0.7777777777777778,
               "#fb9f3a"
              ],
              [
               0.8888888888888888,
               "#fdca26"
              ],
              [
               1,
               "#f0f921"
              ]
             ],
             "sequentialminus": [
              [
               0,
               "#0d0887"
              ],
              [
               0.1111111111111111,
               "#46039f"
              ],
              [
               0.2222222222222222,
               "#7201a8"
              ],
              [
               0.3333333333333333,
               "#9c179e"
              ],
              [
               0.4444444444444444,
               "#bd3786"
              ],
              [
               0.5555555555555556,
               "#d8576b"
              ],
              [
               0.6666666666666666,
               "#ed7953"
              ],
              [
               0.7777777777777778,
               "#fb9f3a"
              ],
              [
               0.8888888888888888,
               "#fdca26"
              ],
              [
               1,
               "#f0f921"
              ]
             ]
            },
            "colorway": [
             "#636efa",
             "#EF553B",
             "#00cc96",
             "#ab63fa",
             "#FFA15A",
             "#19d3f3",
             "#FF6692",
             "#B6E880",
             "#FF97FF",
             "#FECB52"
            ],
            "font": {
             "color": "#2a3f5f"
            },
            "geo": {
             "bgcolor": "white",
             "lakecolor": "white",
             "landcolor": "white",
             "showlakes": true,
             "showland": true,
             "subunitcolor": "#C8D4E3"
            },
            "hoverlabel": {
             "align": "left"
            },
            "hovermode": "closest",
            "mapbox": {
             "style": "light"
            },
            "paper_bgcolor": "white",
            "plot_bgcolor": "white",
            "polar": {
             "angularaxis": {
              "gridcolor": "#EBF0F8",
              "linecolor": "#EBF0F8",
              "ticks": ""
             },
             "bgcolor": "white",
             "radialaxis": {
              "gridcolor": "#EBF0F8",
              "linecolor": "#EBF0F8",
              "ticks": ""
             }
            },
            "scene": {
             "xaxis": {
              "backgroundcolor": "white",
              "gridcolor": "#DFE8F3",
              "gridwidth": 2,
              "linecolor": "#EBF0F8",
              "showbackground": true,
              "ticks": "",
              "zerolinecolor": "#EBF0F8"
             },
             "yaxis": {
              "backgroundcolor": "white",
              "gridcolor": "#DFE8F3",
              "gridwidth": 2,
              "linecolor": "#EBF0F8",
              "showbackground": true,
              "ticks": "",
              "zerolinecolor": "#EBF0F8"
             },
             "zaxis": {
              "backgroundcolor": "white",
              "gridcolor": "#DFE8F3",
              "gridwidth": 2,
              "linecolor": "#EBF0F8",
              "showbackground": true,
              "ticks": "",
              "zerolinecolor": "#EBF0F8"
             }
            },
            "shapedefaults": {
             "line": {
              "color": "#2a3f5f"
             }
            },
            "ternary": {
             "aaxis": {
              "gridcolor": "#DFE8F3",
              "linecolor": "#A2B1C6",
              "ticks": ""
             },
             "baxis": {
              "gridcolor": "#DFE8F3",
              "linecolor": "#A2B1C6",
              "ticks": ""
             },
             "bgcolor": "white",
             "caxis": {
              "gridcolor": "#DFE8F3",
              "linecolor": "#A2B1C6",
              "ticks": ""
             }
            },
            "title": {
             "x": 0.05
            },
            "xaxis": {
             "automargin": true,
             "gridcolor": "#EBF0F8",
             "linecolor": "#EBF0F8",
             "ticks": "",
             "title": {
              "standoff": 15
             },
             "zerolinecolor": "#EBF0F8",
             "zerolinewidth": 2
            },
            "yaxis": {
             "automargin": true,
             "gridcolor": "#EBF0F8",
             "linecolor": "#EBF0F8",
             "ticks": "",
             "title": {
              "standoff": 15
             },
             "zerolinecolor": "#EBF0F8",
             "zerolinewidth": 2
            }
           }
          },
          "xaxis": {
           "automargin": false,
           "linecolor": "#444",
           "linewidth": 2,
           "minor": {
            "tickmode": "linear",
            "ticks": "outside"
           },
           "mirror": true,
           "showline": true,
           "tickmode": "linear",
           "ticks": "outside",
           "zeroline": false
          },
          "yaxis": {
           "automargin": true,
           "linecolor": "#444",
           "linewidth": 2,
           "minor": {
            "tickmode": "linear",
            "ticks": "outside"
           },
           "mirror": true,
           "showline": true,
           "ticks": "outside",
           "zeroline": false
          }
         }
        },
        "width": 600,
        "xaxis": {
         "dtick": "M12",
         "minor": {
          "dtick": "M6"
         },
         "range": [
          "2014-01-01",
          "2025-01-01"
         ],
         "title": {
          "text": "publication year"
         }
        },
        "yaxis": {
         "dtick": 0.5,
         "minor": {
          "dtick": 0.25,
          "tick0": 0
         },
         "range": [
          0,
          3.5
         ],
         "tick0": 0,
         "tickformat": ".1f",
         "title": {
          "text": "calculated XP ratio"
         }
        }
       }
      }
     },
     "metadata": {},
     "output_type": "display_data"
    }
   ],
   "source": [
    "# plot eXP ratio vs time. Split data by book type.\n",
    "from datetime import date\n",
    "\n",
    "groups = {\n",
    "    'adventure modules - normal': {\n",
    "        'Legendary': ['N'],\n",
    "        'marker': dict(\n",
    "            size=10, \n",
    "            color='rgba(0,0,0,0.0)', \n",
    "            line=dict(color='rgba(31,119,180,1.0)', width=2)\n",
    "        )\n",
    "    },\n",
    "    'adventure modules - legendary': {\n",
    "        'Legendary': ['L','LL'],\n",
    "        'marker': dict(\n",
    "            size=10, \n",
    "            color='rgba(31,119,180,1.0)', \n",
    "            line=dict(color='rgba(31,119,180,1.0)', width=2)\n",
    "        )\n",
    "    }\n",
    "}\n",
    "\n",
    "group_columns = ['Date','group','Book']\n",
    "date_range = [date(2014, 1, 1), date(2025, 1, 1)]\n",
    "\n",
    "# plot results\n",
    "fig = go.Figure(\n",
    "    layout=go.Layout(\n",
    "        template=tfb.FIG_TEMPLATE,\n",
    "        hoverlabel=dict(\n",
    "            bgcolor='white',\n",
    "        ),\n",
    "        xaxis=dict(\n",
    "            title_text='publication year',\n",
    "            range=date_range,\n",
    "            dtick=\"M12\",\n",
    "            minor=dict(dtick=\"M6\"),\n",
    "        ),\n",
    "        yaxis=dict(\n",
    "            title_text='calculated XP ratio',\n",
    "            range=[0, 3.5],\n",
    "            tick0=0, dtick=0.5,\n",
    "            tickformat='.1f',\n",
    "            minor=dict(tick0=0, dtick=0.25),\n",
    "        ),\n",
    "        legend=dict(\n",
    "            yanchor='top',  y=0.99,\n",
    "            xanchor='right', x=0.99,\n",
    "            orientation='v',\n",
    "        ),\n",
    "    )\n",
    ")\n",
    "\n",
    "for g in groups:\n",
    "    group = groups[g]\n",
    "    # summarize the current dataset\n",
    "    df1 = df0[df0['CR'].between(1,30) & df0['Legendary'].isin(group['Legendary']) & df0['Book Type'].isin(['Adventure'])]\n",
    "    df1['group'] = df1.apply(lambda row: 'adventure modules - normal' if row['Legendary'] == 'N' else 'adventure modules - legendary', axis=1)\n",
    "    df1 = df1[group_columns + ['eXP Ratio']]\n",
    "\n",
    "    dfG = df1.groupby(group_columns, observed=False).size().to_frame('Total').reset_index()\n",
    "    dfG['eXP Ratio Mean'] = df1[group_columns + ['eXP Ratio']].groupby(group_columns, observed=False).mean().reset_index()['eXP Ratio']\n",
    "    dfG['eXP Ratio Std Dev'] = df1[group_columns + ['eXP Ratio']].groupby(group_columns, observed=False).std().reset_index()['eXP Ratio']\n",
    "    dfG = dfG.sort_values(by=['Date'])\n",
    "    dfG = dfG[dfG['Total'].ge(1)]\n",
    "    \n",
    "    fig.add_trace(go.Scatter(\n",
    "        x=np.array(dfG['Date']), \n",
    "        y=dfG['eXP Ratio Mean'],\n",
    "        mode='markers',\n",
    "        name=g,\n",
    "    ))\n",
    "\n",
    "    fig.update_traces(\n",
    "        selector=dict(name=g),\n",
    "        customdata = np.stack((dfG['Book'], dfG['Total']), axis=-1),\n",
    "        hovertemplate = '<b>%{customdata[0]}</b><br>'\n",
    "            + 'Date: %{x}<br>'\n",
    "            + 'XP ratio: %{y:.2f}<br>'\n",
    "            + 'Monsters: %{customdata[1]:.0f}'\n",
    "            + '<extra></extra>',\n",
    "        marker=group['marker'],\n",
    "    )\n",
    "\n",
    "fig.add_trace(go.Scatter(\n",
    "    x=date_range, \n",
    "    y=[1, 1],\n",
    "    mode='lines', \n",
    "    line=dict(color='black', dash='dash'),\n",
    "    showlegend=False,\n",
    "    hoverinfo='skip'\n",
    "))\n",
    "\n",
    "# show figure\n",
    "fig.update_layout(width=600, height=450)\n",
    "fig.show(config=tfb.FIG_CONFIG)\n",
    "\n",
    "# save figures\n",
    "if SAVEFIGS:\n",
    "    fig.update_layout(autosize=True, width=None, height=None)\n",
    "    tfb.save_fig_html(fig, format='large', name='fig-exp-ratio-mean-vs-time-adventure-modules-large', style='aspect-ratio: 600/500;')\n",
    "    tfb.save_fig_html(fig, format='small', name='fig-exp-ratio-mean-vs-time-adventure-modules-small', style='aspect-ratio: 600/550;')"
   ]
  },
  {
   "cell_type": "code",
   "execution_count": 18,
   "metadata": {},
   "outputs": [],
   "source": [
    "# summary table of legendary monsters from early adventure books\n",
    "df1 = df0[df0['CR'].between(1,30) & df0['Book Type'].isin(['Adventure']) & df0['Date'].lt('2018-1-1') & df0['Legendary'].isin(['L','LL'])]\n",
    "df1 = df1.sort_values(by=['Date','Monster'])\n",
    "dfG = df1[['Date','Book','Monster']]\n",
    "dfG['Monsters'] = df1.groupby(['Book'])['Monster'].transform(lambda x: ', '.join(x))\n",
    "dfG = dfG[['Book','Monsters']].drop_duplicates()\n",
    "\n",
    "if SAVETABS: dfG.to_html('./early-adventure-legendary-monsters.html', index=False, classes='center', float_format='{:,.2f}'.format, border=0)"
   ]
  },
  {
   "cell_type": "code",
   "execution_count": 19,
   "metadata": {},
   "outputs": [
    {
     "data": {
      "application/vnd.plotly.v1+json": {
       "config": {
        "autosizable": true,
        "displayModeBar": "hover",
        "displaylogo": false,
        "modeBarButtonsToRemove": [
         "select2d",
         "lasso2d",
         "zoom2d",
         "zoomIn2d",
         "zoomOut2d",
         "pan2d",
         "autoScale2d",
         "hoverClosestCartesian",
         "hoverCompareCartesian",
         "toggleSpikelines",
         "resetScale2d"
        ],
        "plotlyServerURL": "https://plot.ly",
        "responsive": true,
        "showAxisDragHandles": false,
        "toImageButtonOptions": {
         "filename": "tfb-plot",
         "format": "png",
         "height": 450,
         "scale": 2,
         "width": 600
        }
       },
       "data": [
        {
         "boxpoints": "all",
         "customdata": [
          "Atropal",
          "Yestabrod",
          "Rezmir",
          "Tarul Var"
         ],
         "hoveron": "points",
         "hovertemplate": "<b>direct</b><br>%{customdata}<br>XP ratio %{y:.2f}<br><extra></extra>",
         "jitter": 0.4,
         "marker": {
          "size": 8
         },
         "name": "direct",
         "showlegend": false,
         "type": "box",
         "whiskerwidth": 0.4,
         "y": [
          0.970598076923077,
          1.0862762237762238,
          1.0912466843501327,
          1.7136327298153846
         ]
        },
        {
         "boxpoints": "all",
         "customdata": [
          "Juiblex",
          "Demogorgon",
          "Orcus",
          "Yeenoghu",
          "Maegera the Dawn Titan",
          "Graz’zt",
          "Klauth",
          "Zuggtmoy",
          "Baphomet",
          "Ogremoch",
          "Acererak",
          "Strahd von Zarovich",
          "Fraz-Urb’luu",
          "Olhydra",
          "Yan-C-Bin",
          "Imix",
          "Slarkrethel",
          "Tiamat",
          "Severin"
         ],
         "hoveron": "points",
         "hovertemplate": "<b>indirect</b><br>%{customdata}<br>XP ratio %{y:.2f}<br><extra></extra>",
         "jitter": 0.4,
         "marker": {
          "size": 8
         },
         "name": "indirect",
         "showlegend": false,
         "type": "box",
         "whiskerwidth": 0.4,
         "y": [
          1.0903846153846153,
          1.1517531623931625,
          1.154740723111111,
          1.2430831265508684,
          1.2767826923076921,
          1.2955645161290323,
          1.4018636120307695,
          1.4021615624711536,
          1.4287091004092307,
          1.55358,
          1.6189827692307694,
          1.9720809181582846,
          2.0485384615384614,
          2.082439903846154,
          2.4054328846153847,
          2.429055944055944,
          2.4576950641025643,
          2.9279285359801492,
          3.5016025641025643
         ]
        }
       ],
       "layout": {
        "height": 450,
        "template": {
         "layout": {
          "autosize": false,
          "font": {
           "family": "sans-serif",
           "size": 14
          },
          "hoverlabel": {
           "align": "left"
          },
          "hovermode": "closest",
          "margin": {
           "b": 55,
           "l": 60,
           "pad": 4,
           "r": 25,
           "t": 20
          },
          "template": {
           "data": {
            "bar": [
             {
              "error_x": {
               "color": "#2a3f5f"
              },
              "error_y": {
               "color": "#2a3f5f"
              },
              "marker": {
               "line": {
                "color": "white",
                "width": 0.5
               },
               "pattern": {
                "fillmode": "overlay",
                "size": 10,
                "solidity": 0.2
               }
              },
              "type": "bar"
             }
            ],
            "barpolar": [
             {
              "marker": {
               "line": {
                "color": "white",
                "width": 0.5
               },
               "pattern": {
                "fillmode": "overlay",
                "size": 10,
                "solidity": 0.2
               }
              },
              "type": "barpolar"
             }
            ],
            "carpet": [
             {
              "aaxis": {
               "endlinecolor": "#2a3f5f",
               "gridcolor": "#C8D4E3",
               "linecolor": "#C8D4E3",
               "minorgridcolor": "#C8D4E3",
               "startlinecolor": "#2a3f5f"
              },
              "baxis": {
               "endlinecolor": "#2a3f5f",
               "gridcolor": "#C8D4E3",
               "linecolor": "#C8D4E3",
               "minorgridcolor": "#C8D4E3",
               "startlinecolor": "#2a3f5f"
              },
              "type": "carpet"
             }
            ],
            "choropleth": [
             {
              "colorbar": {
               "outlinewidth": 0,
               "ticks": ""
              },
              "type": "choropleth"
             }
            ],
            "contour": [
             {
              "colorbar": {
               "outlinewidth": 0,
               "ticks": ""
              },
              "colorscale": [
               [
                0,
                "#0d0887"
               ],
               [
                0.1111111111111111,
                "#46039f"
               ],
               [
                0.2222222222222222,
                "#7201a8"
               ],
               [
                0.3333333333333333,
                "#9c179e"
               ],
               [
                0.4444444444444444,
                "#bd3786"
               ],
               [
                0.5555555555555556,
                "#d8576b"
               ],
               [
                0.6666666666666666,
                "#ed7953"
               ],
               [
                0.7777777777777778,
                "#fb9f3a"
               ],
               [
                0.8888888888888888,
                "#fdca26"
               ],
               [
                1,
                "#f0f921"
               ]
              ],
              "type": "contour"
             }
            ],
            "contourcarpet": [
             {
              "colorbar": {
               "outlinewidth": 0,
               "ticks": ""
              },
              "type": "contourcarpet"
             }
            ],
            "heatmap": [
             {
              "colorbar": {
               "outlinewidth": 0,
               "ticks": ""
              },
              "colorscale": [
               [
                0,
                "#0d0887"
               ],
               [
                0.1111111111111111,
                "#46039f"
               ],
               [
                0.2222222222222222,
                "#7201a8"
               ],
               [
                0.3333333333333333,
                "#9c179e"
               ],
               [
                0.4444444444444444,
                "#bd3786"
               ],
               [
                0.5555555555555556,
                "#d8576b"
               ],
               [
                0.6666666666666666,
                "#ed7953"
               ],
               [
                0.7777777777777778,
                "#fb9f3a"
               ],
               [
                0.8888888888888888,
                "#fdca26"
               ],
               [
                1,
                "#f0f921"
               ]
              ],
              "type": "heatmap"
             }
            ],
            "heatmapgl": [
             {
              "colorbar": {
               "outlinewidth": 0,
               "ticks": ""
              },
              "colorscale": [
               [
                0,
                "#0d0887"
               ],
               [
                0.1111111111111111,
                "#46039f"
               ],
               [
                0.2222222222222222,
                "#7201a8"
               ],
               [
                0.3333333333333333,
                "#9c179e"
               ],
               [
                0.4444444444444444,
                "#bd3786"
               ],
               [
                0.5555555555555556,
                "#d8576b"
               ],
               [
                0.6666666666666666,
                "#ed7953"
               ],
               [
                0.7777777777777778,
                "#fb9f3a"
               ],
               [
                0.8888888888888888,
                "#fdca26"
               ],
               [
                1,
                "#f0f921"
               ]
              ],
              "type": "heatmapgl"
             }
            ],
            "histogram": [
             {
              "marker": {
               "pattern": {
                "fillmode": "overlay",
                "size": 10,
                "solidity": 0.2
               }
              },
              "type": "histogram"
             }
            ],
            "histogram2d": [
             {
              "colorbar": {
               "outlinewidth": 0,
               "ticks": ""
              },
              "colorscale": [
               [
                0,
                "#0d0887"
               ],
               [
                0.1111111111111111,
                "#46039f"
               ],
               [
                0.2222222222222222,
                "#7201a8"
               ],
               [
                0.3333333333333333,
                "#9c179e"
               ],
               [
                0.4444444444444444,
                "#bd3786"
               ],
               [
                0.5555555555555556,
                "#d8576b"
               ],
               [
                0.6666666666666666,
                "#ed7953"
               ],
               [
                0.7777777777777778,
                "#fb9f3a"
               ],
               [
                0.8888888888888888,
                "#fdca26"
               ],
               [
                1,
                "#f0f921"
               ]
              ],
              "type": "histogram2d"
             }
            ],
            "histogram2dcontour": [
             {
              "colorbar": {
               "outlinewidth": 0,
               "ticks": ""
              },
              "colorscale": [
               [
                0,
                "#0d0887"
               ],
               [
                0.1111111111111111,
                "#46039f"
               ],
               [
                0.2222222222222222,
                "#7201a8"
               ],
               [
                0.3333333333333333,
                "#9c179e"
               ],
               [
                0.4444444444444444,
                "#bd3786"
               ],
               [
                0.5555555555555556,
                "#d8576b"
               ],
               [
                0.6666666666666666,
                "#ed7953"
               ],
               [
                0.7777777777777778,
                "#fb9f3a"
               ],
               [
                0.8888888888888888,
                "#fdca26"
               ],
               [
                1,
                "#f0f921"
               ]
              ],
              "type": "histogram2dcontour"
             }
            ],
            "mesh3d": [
             {
              "colorbar": {
               "outlinewidth": 0,
               "ticks": ""
              },
              "type": "mesh3d"
             }
            ],
            "parcoords": [
             {
              "line": {
               "colorbar": {
                "outlinewidth": 0,
                "ticks": ""
               }
              },
              "type": "parcoords"
             }
            ],
            "pie": [
             {
              "automargin": true,
              "type": "pie"
             }
            ],
            "scatter": [
             {
              "fillpattern": {
               "fillmode": "overlay",
               "size": 10,
               "solidity": 0.2
              },
              "type": "scatter"
             }
            ],
            "scatter3d": [
             {
              "line": {
               "colorbar": {
                "outlinewidth": 0,
                "ticks": ""
               }
              },
              "marker": {
               "colorbar": {
                "outlinewidth": 0,
                "ticks": ""
               }
              },
              "type": "scatter3d"
             }
            ],
            "scattercarpet": [
             {
              "marker": {
               "colorbar": {
                "outlinewidth": 0,
                "ticks": ""
               }
              },
              "type": "scattercarpet"
             }
            ],
            "scattergeo": [
             {
              "marker": {
               "colorbar": {
                "outlinewidth": 0,
                "ticks": ""
               }
              },
              "type": "scattergeo"
             }
            ],
            "scattergl": [
             {
              "marker": {
               "colorbar": {
                "outlinewidth": 0,
                "ticks": ""
               }
              },
              "type": "scattergl"
             }
            ],
            "scattermapbox": [
             {
              "marker": {
               "colorbar": {
                "outlinewidth": 0,
                "ticks": ""
               }
              },
              "type": "scattermapbox"
             }
            ],
            "scatterpolar": [
             {
              "marker": {
               "colorbar": {
                "outlinewidth": 0,
                "ticks": ""
               }
              },
              "type": "scatterpolar"
             }
            ],
            "scatterpolargl": [
             {
              "marker": {
               "colorbar": {
                "outlinewidth": 0,
                "ticks": ""
               }
              },
              "type": "scatterpolargl"
             }
            ],
            "scatterternary": [
             {
              "marker": {
               "colorbar": {
                "outlinewidth": 0,
                "ticks": ""
               }
              },
              "type": "scatterternary"
             }
            ],
            "surface": [
             {
              "colorbar": {
               "outlinewidth": 0,
               "ticks": ""
              },
              "colorscale": [
               [
                0,
                "#0d0887"
               ],
               [
                0.1111111111111111,
                "#46039f"
               ],
               [
                0.2222222222222222,
                "#7201a8"
               ],
               [
                0.3333333333333333,
                "#9c179e"
               ],
               [
                0.4444444444444444,
                "#bd3786"
               ],
               [
                0.5555555555555556,
                "#d8576b"
               ],
               [
                0.6666666666666666,
                "#ed7953"
               ],
               [
                0.7777777777777778,
                "#fb9f3a"
               ],
               [
                0.8888888888888888,
                "#fdca26"
               ],
               [
                1,
                "#f0f921"
               ]
              ],
              "type": "surface"
             }
            ],
            "table": [
             {
              "cells": {
               "fill": {
                "color": "#EBF0F8"
               },
               "line": {
                "color": "white"
               }
              },
              "header": {
               "fill": {
                "color": "#C8D4E3"
               },
               "line": {
                "color": "white"
               }
              },
              "type": "table"
             }
            ]
           },
           "layout": {
            "annotationdefaults": {
             "arrowcolor": "#2a3f5f",
             "arrowhead": 0,
             "arrowwidth": 1
            },
            "autotypenumbers": "strict",
            "coloraxis": {
             "colorbar": {
              "outlinewidth": 0,
              "ticks": ""
             }
            },
            "colorscale": {
             "diverging": [
              [
               0,
               "#8e0152"
              ],
              [
               0.1,
               "#c51b7d"
              ],
              [
               0.2,
               "#de77ae"
              ],
              [
               0.3,
               "#f1b6da"
              ],
              [
               0.4,
               "#fde0ef"
              ],
              [
               0.5,
               "#f7f7f7"
              ],
              [
               0.6,
               "#e6f5d0"
              ],
              [
               0.7,
               "#b8e186"
              ],
              [
               0.8,
               "#7fbc41"
              ],
              [
               0.9,
               "#4d9221"
              ],
              [
               1,
               "#276419"
              ]
             ],
             "sequential": [
              [
               0,
               "#0d0887"
              ],
              [
               0.1111111111111111,
               "#46039f"
              ],
              [
               0.2222222222222222,
               "#7201a8"
              ],
              [
               0.3333333333333333,
               "#9c179e"
              ],
              [
               0.4444444444444444,
               "#bd3786"
              ],
              [
               0.5555555555555556,
               "#d8576b"
              ],
              [
               0.6666666666666666,
               "#ed7953"
              ],
              [
               0.7777777777777778,
               "#fb9f3a"
              ],
              [
               0.8888888888888888,
               "#fdca26"
              ],
              [
               1,
               "#f0f921"
              ]
             ],
             "sequentialminus": [
              [
               0,
               "#0d0887"
              ],
              [
               0.1111111111111111,
               "#46039f"
              ],
              [
               0.2222222222222222,
               "#7201a8"
              ],
              [
               0.3333333333333333,
               "#9c179e"
              ],
              [
               0.4444444444444444,
               "#bd3786"
              ],
              [
               0.5555555555555556,
               "#d8576b"
              ],
              [
               0.6666666666666666,
               "#ed7953"
              ],
              [
               0.7777777777777778,
               "#fb9f3a"
              ],
              [
               0.8888888888888888,
               "#fdca26"
              ],
              [
               1,
               "#f0f921"
              ]
             ]
            },
            "colorway": [
             "#636efa",
             "#EF553B",
             "#00cc96",
             "#ab63fa",
             "#FFA15A",
             "#19d3f3",
             "#FF6692",
             "#B6E880",
             "#FF97FF",
             "#FECB52"
            ],
            "font": {
             "color": "#2a3f5f"
            },
            "geo": {
             "bgcolor": "white",
             "lakecolor": "white",
             "landcolor": "white",
             "showlakes": true,
             "showland": true,
             "subunitcolor": "#C8D4E3"
            },
            "hoverlabel": {
             "align": "left"
            },
            "hovermode": "closest",
            "mapbox": {
             "style": "light"
            },
            "paper_bgcolor": "white",
            "plot_bgcolor": "white",
            "polar": {
             "angularaxis": {
              "gridcolor": "#EBF0F8",
              "linecolor": "#EBF0F8",
              "ticks": ""
             },
             "bgcolor": "white",
             "radialaxis": {
              "gridcolor": "#EBF0F8",
              "linecolor": "#EBF0F8",
              "ticks": ""
             }
            },
            "scene": {
             "xaxis": {
              "backgroundcolor": "white",
              "gridcolor": "#DFE8F3",
              "gridwidth": 2,
              "linecolor": "#EBF0F8",
              "showbackground": true,
              "ticks": "",
              "zerolinecolor": "#EBF0F8"
             },
             "yaxis": {
              "backgroundcolor": "white",
              "gridcolor": "#DFE8F3",
              "gridwidth": 2,
              "linecolor": "#EBF0F8",
              "showbackground": true,
              "ticks": "",
              "zerolinecolor": "#EBF0F8"
             },
             "zaxis": {
              "backgroundcolor": "white",
              "gridcolor": "#DFE8F3",
              "gridwidth": 2,
              "linecolor": "#EBF0F8",
              "showbackground": true,
              "ticks": "",
              "zerolinecolor": "#EBF0F8"
             }
            },
            "shapedefaults": {
             "line": {
              "color": "#2a3f5f"
             }
            },
            "ternary": {
             "aaxis": {
              "gridcolor": "#DFE8F3",
              "linecolor": "#A2B1C6",
              "ticks": ""
             },
             "baxis": {
              "gridcolor": "#DFE8F3",
              "linecolor": "#A2B1C6",
              "ticks": ""
             },
             "bgcolor": "white",
             "caxis": {
              "gridcolor": "#DFE8F3",
              "linecolor": "#A2B1C6",
              "ticks": ""
             }
            },
            "title": {
             "x": 0.05
            },
            "xaxis": {
             "automargin": true,
             "gridcolor": "#EBF0F8",
             "linecolor": "#EBF0F8",
             "ticks": "",
             "title": {
              "standoff": 15
             },
             "zerolinecolor": "#EBF0F8",
             "zerolinewidth": 2
            },
            "yaxis": {
             "automargin": true,
             "gridcolor": "#EBF0F8",
             "linecolor": "#EBF0F8",
             "ticks": "",
             "title": {
              "standoff": 15
             },
             "zerolinecolor": "#EBF0F8",
             "zerolinewidth": 2
            }
           }
          },
          "xaxis": {
           "automargin": false,
           "linecolor": "#444",
           "linewidth": 2,
           "minor": {
            "tickmode": "linear",
            "ticks": "outside"
           },
           "mirror": true,
           "showline": true,
           "tickmode": "linear",
           "ticks": "outside",
           "zeroline": false
          },
          "yaxis": {
           "automargin": false,
           "linecolor": "#444",
           "linewidth": 2,
           "minor": {
            "tickmode": "linear",
            "ticks": "outside"
           },
           "mirror": true,
           "showline": true,
           "ticks": "outside",
           "zeroline": false
          }
         }
        },
        "width": 600,
        "xaxis": {
         "autorange": true,
         "title": {
          "text": "encounter type"
         }
        },
        "yaxis": {
         "dtick": 1,
         "minor": {
          "dtick": 0.5,
          "tick0": 0
         },
         "range": [
          0,
          4
         ],
         "tick0": 0,
         "title": {
          "text": "calculated XP ratio"
         }
        }
       }
      }
     },
     "metadata": {},
     "output_type": "display_data"
    }
   ],
   "source": [
    "# plot the range of eXP values for legendary monsters encountered directly and indirectly\n",
    "directMonsters = ['Rezmir','Yestabrod','Tarul Var','Atropal']\n",
    "df1 = df0[df0['CR'].between(1,30) & df0['Book Type'].isin(['Adventure']) & df0['Date'].lt('2018-1-1') & df0['Legendary'].isin(['L','LL'])]\n",
    "df1['Encounter Type'] = 'indirect'\n",
    "df1.loc[df1['Monster'].isin(directMonsters), 'Encounter Type'] = 'direct'\n",
    "df1.sort_values(by=['Encounter Type','eXP Ratio'], inplace=True)\n",
    "\n",
    "# create figure\n",
    "fig = go.Figure(\n",
    "    layout=go.Layout(\n",
    "        template=tfb.FIG_TEMPLATE,\n",
    "        xaxis=dict(\n",
    "            title_text='encounter type',\n",
    "            autorange=True,\n",
    "            \n",
    "        ),\n",
    "        yaxis=dict(\n",
    "            title_text='calculated XP ratio',\n",
    "            range=[0, 4.0],\n",
    "            tick0=0, dtick=1.0,\n",
    "            minor=dict(tick0=0, dtick=0.5),\n",
    "        ),\n",
    "    )\n",
    ")\n",
    "\n",
    "for x in df1['Encounter Type'].unique():\n",
    "    fig.add_trace(go.Box(\n",
    "        y=df1[df1['Encounter Type'].isin([x])]['eXP Ratio'],\n",
    "        name=x,\n",
    "        customdata=df1[df1['Encounter Type'].isin([x])]['Monster'],\n",
    "        showlegend=False,\n",
    "        boxpoints='all',\n",
    "        jitter=0.4,\n",
    "        whiskerwidth=0.4,\n",
    "        marker_size=8,\n",
    "        hoveron='points',\n",
    "        hovertemplate=f'<b>{x}</b><br>'+\n",
    "            '%{customdata}<br>'+\n",
    "            'XP ratio %{y:.2f}<br>'+\n",
    "            '<extra></extra>'\n",
    "    ))\n",
    "\n",
    "# show figure\n",
    "fig.update_layout(width=600, height=450)\n",
    "fig.show(config=tfb.FIG_CONFIG)\n",
    "\n",
    "# save figures\n",
    "if SAVEFIGS:\n",
    "    fig.update_layout(autosize=True, width=None, height=None)\n",
    "    tfb.save_fig_html(fig, format='large', name='fig-exp-ratio-vs-encounter-type-large', style='aspect-ratio: 600/500;')\n",
    "    tfb.save_fig_html(fig, format='small', name='fig-exp-ratio-vs-encounter-type-small', style='aspect-ratio: 600/550;')"
   ]
  },
  {
   "cell_type": "code",
   "execution_count": 20,
   "metadata": {},
   "outputs": [
    {
     "name": "stdout",
     "output_type": "stream",
     "text": [
      "OotA: 1.36 (0.31)\n",
      "MToF: 1.02 (0.19)\n",
      "MPMotM: 1.00 (0.15)\n"
     ]
    },
    {
     "data": {
      "application/vnd.plotly.v1+json": {
       "config": {
        "autosizable": true,
        "displayModeBar": "hover",
        "displaylogo": false,
        "modeBarButtonsToRemove": [
         "select2d",
         "lasso2d",
         "zoom2d",
         "zoomIn2d",
         "zoomOut2d",
         "pan2d",
         "autoScale2d",
         "hoverClosestCartesian",
         "hoverCompareCartesian",
         "toggleSpikelines",
         "resetScale2d"
        ],
        "plotlyServerURL": "https://plot.ly",
        "responsive": true,
        "showAxisDragHandles": false,
        "toImageButtonOptions": {
         "filename": "tfb-plot",
         "format": "png",
         "height": 450,
         "scale": 2,
         "width": 600
        }
       },
       "data": [
        {
         "hovertemplate": "<b>Book:</b> OotA<br><b>Monster:</b> %{x}<br><b>CR:</b> %{text}<br><b>XP ratio:</b> %{y:.2f}<extra></extra>",
         "marker": {
          "color": "#1f77b4",
          "line": {
           "color": "#1f77b4",
           "width": 2
          },
          "size": 10,
          "symbol": "circle"
         },
         "mode": "markers",
         "name": "OotA",
         "text": [
          "23",
          "26",
          "23",
          "23",
          "26",
          "24",
          "23"
         ],
         "type": "scatter",
         "x": [
          "Baphomet",
          "Demogorgon",
          "Fraz-Urb’luu",
          "Juiblex",
          "Orcus",
          "Yeenoghu",
          "Zuggtmoy"
         ],
         "y": [
          1.4287091004092307,
          1.1517531623931625,
          2.0485384615384614,
          1.0903846153846153,
          1.154740723111111,
          1.2430831265508684,
          1.4021615624711536
         ]
        },
        {
         "hovertemplate": "<b>Book:</b> MToF<br><b>Monster:</b> %{x}<br><b>CR:</b> %{text}<br><b>XP ratio:</b> %{y:.2f}<extra></extra>",
         "marker": {
          "color": "rgba(0,0,0,0.0)",
          "line": {
           "color": "#1f77b4",
           "width": 2
          },
          "size": 10,
          "symbol": "circle"
         },
         "mode": "markers",
         "name": "MToF",
         "text": [
          "23",
          "26",
          "24",
          "23",
          "26",
          "24",
          "23"
         ],
         "type": "scatter",
         "x": [
          "Baphomet",
          "Demogorgon",
          "Fraz-Urb’luu",
          "Juiblex",
          "Orcus",
          "Yeenoghu",
          "Zuggtmoy"
         ],
         "y": [
          1.1033099760150002,
          0.6721965811965812,
          1.3232411910669972,
          1.0903846153846153,
          1.011940723111111,
          0.8788183622828784,
          1.0501615384615384
         ]
        },
        {
         "hovertemplate": "<b>Book:</b> MPMotM<br><b>Monster:</b> %{x}<br><b>CR:</b> %{text}<br><b>XP ratio:</b> %{y:.2f}<extra></extra>",
         "marker": {
          "color": "rgba(0,0,0,0.0)",
          "line": {
           "color": "#1f77b4",
           "width": 2
          },
          "size": 10,
          "symbol": "triangle-up"
         },
         "mode": "markers",
         "name": "MPMotM",
         "text": [
          "23",
          "26",
          "24",
          "24",
          "26",
          "25",
          "23"
         ],
         "type": "scatter",
         "x": [
          "Baphomet",
          "Demogorgon",
          "Fraz-Urb’luu",
          "Juiblex",
          "Orcus",
          "Yeenoghu",
          "Zuggtmoy"
         ],
         "y": [
          1.10057325,
          0.7610405982905984,
          1.2352198511166252,
          0.8793424317617865,
          1.1059066666666668,
          0.9300529230769233,
          1.0030375384615384
         ]
        }
       ],
       "layout": {
        "height": 450,
        "legend": {
         "orientation": "v",
         "x": 0.99,
         "xanchor": "right",
         "y": 0.99,
         "yanchor": "top"
        },
        "margin": {
         "b": 80,
         "l": 70,
         "pad": 4,
         "r": 25,
         "t": 20
        },
        "template": {
         "layout": {
          "autosize": false,
          "font": {
           "family": "sans-serif",
           "size": 14
          },
          "hoverlabel": {
           "align": "left"
          },
          "hovermode": "closest",
          "margin": {
           "b": 55,
           "l": 60,
           "pad": 4,
           "r": 25,
           "t": 20
          },
          "template": {
           "data": {
            "bar": [
             {
              "error_x": {
               "color": "#2a3f5f"
              },
              "error_y": {
               "color": "#2a3f5f"
              },
              "marker": {
               "line": {
                "color": "white",
                "width": 0.5
               },
               "pattern": {
                "fillmode": "overlay",
                "size": 10,
                "solidity": 0.2
               }
              },
              "type": "bar"
             }
            ],
            "barpolar": [
             {
              "marker": {
               "line": {
                "color": "white",
                "width": 0.5
               },
               "pattern": {
                "fillmode": "overlay",
                "size": 10,
                "solidity": 0.2
               }
              },
              "type": "barpolar"
             }
            ],
            "carpet": [
             {
              "aaxis": {
               "endlinecolor": "#2a3f5f",
               "gridcolor": "#C8D4E3",
               "linecolor": "#C8D4E3",
               "minorgridcolor": "#C8D4E3",
               "startlinecolor": "#2a3f5f"
              },
              "baxis": {
               "endlinecolor": "#2a3f5f",
               "gridcolor": "#C8D4E3",
               "linecolor": "#C8D4E3",
               "minorgridcolor": "#C8D4E3",
               "startlinecolor": "#2a3f5f"
              },
              "type": "carpet"
             }
            ],
            "choropleth": [
             {
              "colorbar": {
               "outlinewidth": 0,
               "ticks": ""
              },
              "type": "choropleth"
             }
            ],
            "contour": [
             {
              "colorbar": {
               "outlinewidth": 0,
               "ticks": ""
              },
              "colorscale": [
               [
                0,
                "#0d0887"
               ],
               [
                0.1111111111111111,
                "#46039f"
               ],
               [
                0.2222222222222222,
                "#7201a8"
               ],
               [
                0.3333333333333333,
                "#9c179e"
               ],
               [
                0.4444444444444444,
                "#bd3786"
               ],
               [
                0.5555555555555556,
                "#d8576b"
               ],
               [
                0.6666666666666666,
                "#ed7953"
               ],
               [
                0.7777777777777778,
                "#fb9f3a"
               ],
               [
                0.8888888888888888,
                "#fdca26"
               ],
               [
                1,
                "#f0f921"
               ]
              ],
              "type": "contour"
             }
            ],
            "contourcarpet": [
             {
              "colorbar": {
               "outlinewidth": 0,
               "ticks": ""
              },
              "type": "contourcarpet"
             }
            ],
            "heatmap": [
             {
              "colorbar": {
               "outlinewidth": 0,
               "ticks": ""
              },
              "colorscale": [
               [
                0,
                "#0d0887"
               ],
               [
                0.1111111111111111,
                "#46039f"
               ],
               [
                0.2222222222222222,
                "#7201a8"
               ],
               [
                0.3333333333333333,
                "#9c179e"
               ],
               [
                0.4444444444444444,
                "#bd3786"
               ],
               [
                0.5555555555555556,
                "#d8576b"
               ],
               [
                0.6666666666666666,
                "#ed7953"
               ],
               [
                0.7777777777777778,
                "#fb9f3a"
               ],
               [
                0.8888888888888888,
                "#fdca26"
               ],
               [
                1,
                "#f0f921"
               ]
              ],
              "type": "heatmap"
             }
            ],
            "heatmapgl": [
             {
              "colorbar": {
               "outlinewidth": 0,
               "ticks": ""
              },
              "colorscale": [
               [
                0,
                "#0d0887"
               ],
               [
                0.1111111111111111,
                "#46039f"
               ],
               [
                0.2222222222222222,
                "#7201a8"
               ],
               [
                0.3333333333333333,
                "#9c179e"
               ],
               [
                0.4444444444444444,
                "#bd3786"
               ],
               [
                0.5555555555555556,
                "#d8576b"
               ],
               [
                0.6666666666666666,
                "#ed7953"
               ],
               [
                0.7777777777777778,
                "#fb9f3a"
               ],
               [
                0.8888888888888888,
                "#fdca26"
               ],
               [
                1,
                "#f0f921"
               ]
              ],
              "type": "heatmapgl"
             }
            ],
            "histogram": [
             {
              "marker": {
               "pattern": {
                "fillmode": "overlay",
                "size": 10,
                "solidity": 0.2
               }
              },
              "type": "histogram"
             }
            ],
            "histogram2d": [
             {
              "colorbar": {
               "outlinewidth": 0,
               "ticks": ""
              },
              "colorscale": [
               [
                0,
                "#0d0887"
               ],
               [
                0.1111111111111111,
                "#46039f"
               ],
               [
                0.2222222222222222,
                "#7201a8"
               ],
               [
                0.3333333333333333,
                "#9c179e"
               ],
               [
                0.4444444444444444,
                "#bd3786"
               ],
               [
                0.5555555555555556,
                "#d8576b"
               ],
               [
                0.6666666666666666,
                "#ed7953"
               ],
               [
                0.7777777777777778,
                "#fb9f3a"
               ],
               [
                0.8888888888888888,
                "#fdca26"
               ],
               [
                1,
                "#f0f921"
               ]
              ],
              "type": "histogram2d"
             }
            ],
            "histogram2dcontour": [
             {
              "colorbar": {
               "outlinewidth": 0,
               "ticks": ""
              },
              "colorscale": [
               [
                0,
                "#0d0887"
               ],
               [
                0.1111111111111111,
                "#46039f"
               ],
               [
                0.2222222222222222,
                "#7201a8"
               ],
               [
                0.3333333333333333,
                "#9c179e"
               ],
               [
                0.4444444444444444,
                "#bd3786"
               ],
               [
                0.5555555555555556,
                "#d8576b"
               ],
               [
                0.6666666666666666,
                "#ed7953"
               ],
               [
                0.7777777777777778,
                "#fb9f3a"
               ],
               [
                0.8888888888888888,
                "#fdca26"
               ],
               [
                1,
                "#f0f921"
               ]
              ],
              "type": "histogram2dcontour"
             }
            ],
            "mesh3d": [
             {
              "colorbar": {
               "outlinewidth": 0,
               "ticks": ""
              },
              "type": "mesh3d"
             }
            ],
            "parcoords": [
             {
              "line": {
               "colorbar": {
                "outlinewidth": 0,
                "ticks": ""
               }
              },
              "type": "parcoords"
             }
            ],
            "pie": [
             {
              "automargin": true,
              "type": "pie"
             }
            ],
            "scatter": [
             {
              "fillpattern": {
               "fillmode": "overlay",
               "size": 10,
               "solidity": 0.2
              },
              "type": "scatter"
             }
            ],
            "scatter3d": [
             {
              "line": {
               "colorbar": {
                "outlinewidth": 0,
                "ticks": ""
               }
              },
              "marker": {
               "colorbar": {
                "outlinewidth": 0,
                "ticks": ""
               }
              },
              "type": "scatter3d"
             }
            ],
            "scattercarpet": [
             {
              "marker": {
               "colorbar": {
                "outlinewidth": 0,
                "ticks": ""
               }
              },
              "type": "scattercarpet"
             }
            ],
            "scattergeo": [
             {
              "marker": {
               "colorbar": {
                "outlinewidth": 0,
                "ticks": ""
               }
              },
              "type": "scattergeo"
             }
            ],
            "scattergl": [
             {
              "marker": {
               "colorbar": {
                "outlinewidth": 0,
                "ticks": ""
               }
              },
              "type": "scattergl"
             }
            ],
            "scattermapbox": [
             {
              "marker": {
               "colorbar": {
                "outlinewidth": 0,
                "ticks": ""
               }
              },
              "type": "scattermapbox"
             }
            ],
            "scatterpolar": [
             {
              "marker": {
               "colorbar": {
                "outlinewidth": 0,
                "ticks": ""
               }
              },
              "type": "scatterpolar"
             }
            ],
            "scatterpolargl": [
             {
              "marker": {
               "colorbar": {
                "outlinewidth": 0,
                "ticks": ""
               }
              },
              "type": "scatterpolargl"
             }
            ],
            "scatterternary": [
             {
              "marker": {
               "colorbar": {
                "outlinewidth": 0,
                "ticks": ""
               }
              },
              "type": "scatterternary"
             }
            ],
            "surface": [
             {
              "colorbar": {
               "outlinewidth": 0,
               "ticks": ""
              },
              "colorscale": [
               [
                0,
                "#0d0887"
               ],
               [
                0.1111111111111111,
                "#46039f"
               ],
               [
                0.2222222222222222,
                "#7201a8"
               ],
               [
                0.3333333333333333,
                "#9c179e"
               ],
               [
                0.4444444444444444,
                "#bd3786"
               ],
               [
                0.5555555555555556,
                "#d8576b"
               ],
               [
                0.6666666666666666,
                "#ed7953"
               ],
               [
                0.7777777777777778,
                "#fb9f3a"
               ],
               [
                0.8888888888888888,
                "#fdca26"
               ],
               [
                1,
                "#f0f921"
               ]
              ],
              "type": "surface"
             }
            ],
            "table": [
             {
              "cells": {
               "fill": {
                "color": "#EBF0F8"
               },
               "line": {
                "color": "white"
               }
              },
              "header": {
               "fill": {
                "color": "#C8D4E3"
               },
               "line": {
                "color": "white"
               }
              },
              "type": "table"
             }
            ]
           },
           "layout": {
            "annotationdefaults": {
             "arrowcolor": "#2a3f5f",
             "arrowhead": 0,
             "arrowwidth": 1
            },
            "autotypenumbers": "strict",
            "coloraxis": {
             "colorbar": {
              "outlinewidth": 0,
              "ticks": ""
             }
            },
            "colorscale": {
             "diverging": [
              [
               0,
               "#8e0152"
              ],
              [
               0.1,
               "#c51b7d"
              ],
              [
               0.2,
               "#de77ae"
              ],
              [
               0.3,
               "#f1b6da"
              ],
              [
               0.4,
               "#fde0ef"
              ],
              [
               0.5,
               "#f7f7f7"
              ],
              [
               0.6,
               "#e6f5d0"
              ],
              [
               0.7,
               "#b8e186"
              ],
              [
               0.8,
               "#7fbc41"
              ],
              [
               0.9,
               "#4d9221"
              ],
              [
               1,
               "#276419"
              ]
             ],
             "sequential": [
              [
               0,
               "#0d0887"
              ],
              [
               0.1111111111111111,
               "#46039f"
              ],
              [
               0.2222222222222222,
               "#7201a8"
              ],
              [
               0.3333333333333333,
               "#9c179e"
              ],
              [
               0.4444444444444444,
               "#bd3786"
              ],
              [
               0.5555555555555556,
               "#d8576b"
              ],
              [
               0.6666666666666666,
               "#ed7953"
              ],
              [
               0.7777777777777778,
               "#fb9f3a"
              ],
              [
               0.8888888888888888,
               "#fdca26"
              ],
              [
               1,
               "#f0f921"
              ]
             ],
             "sequentialminus": [
              [
               0,
               "#0d0887"
              ],
              [
               0.1111111111111111,
               "#46039f"
              ],
              [
               0.2222222222222222,
               "#7201a8"
              ],
              [
               0.3333333333333333,
               "#9c179e"
              ],
              [
               0.4444444444444444,
               "#bd3786"
              ],
              [
               0.5555555555555556,
               "#d8576b"
              ],
              [
               0.6666666666666666,
               "#ed7953"
              ],
              [
               0.7777777777777778,
               "#fb9f3a"
              ],
              [
               0.8888888888888888,
               "#fdca26"
              ],
              [
               1,
               "#f0f921"
              ]
             ]
            },
            "colorway": [
             "#636efa",
             "#EF553B",
             "#00cc96",
             "#ab63fa",
             "#FFA15A",
             "#19d3f3",
             "#FF6692",
             "#B6E880",
             "#FF97FF",
             "#FECB52"
            ],
            "font": {
             "color": "#2a3f5f"
            },
            "geo": {
             "bgcolor": "white",
             "lakecolor": "white",
             "landcolor": "white",
             "showlakes": true,
             "showland": true,
             "subunitcolor": "#C8D4E3"
            },
            "hoverlabel": {
             "align": "left"
            },
            "hovermode": "closest",
            "mapbox": {
             "style": "light"
            },
            "paper_bgcolor": "white",
            "plot_bgcolor": "white",
            "polar": {
             "angularaxis": {
              "gridcolor": "#EBF0F8",
              "linecolor": "#EBF0F8",
              "ticks": ""
             },
             "bgcolor": "white",
             "radialaxis": {
              "gridcolor": "#EBF0F8",
              "linecolor": "#EBF0F8",
              "ticks": ""
             }
            },
            "scene": {
             "xaxis": {
              "backgroundcolor": "white",
              "gridcolor": "#DFE8F3",
              "gridwidth": 2,
              "linecolor": "#EBF0F8",
              "showbackground": true,
              "ticks": "",
              "zerolinecolor": "#EBF0F8"
             },
             "yaxis": {
              "backgroundcolor": "white",
              "gridcolor": "#DFE8F3",
              "gridwidth": 2,
              "linecolor": "#EBF0F8",
              "showbackground": true,
              "ticks": "",
              "zerolinecolor": "#EBF0F8"
             },
             "zaxis": {
              "backgroundcolor": "white",
              "gridcolor": "#DFE8F3",
              "gridwidth": 2,
              "linecolor": "#EBF0F8",
              "showbackground": true,
              "ticks": "",
              "zerolinecolor": "#EBF0F8"
             }
            },
            "shapedefaults": {
             "line": {
              "color": "#2a3f5f"
             }
            },
            "ternary": {
             "aaxis": {
              "gridcolor": "#DFE8F3",
              "linecolor": "#A2B1C6",
              "ticks": ""
             },
             "baxis": {
              "gridcolor": "#DFE8F3",
              "linecolor": "#A2B1C6",
              "ticks": ""
             },
             "bgcolor": "white",
             "caxis": {
              "gridcolor": "#DFE8F3",
              "linecolor": "#A2B1C6",
              "ticks": ""
             }
            },
            "title": {
             "x": 0.05
            },
            "xaxis": {
             "automargin": true,
             "gridcolor": "#EBF0F8",
             "linecolor": "#EBF0F8",
             "ticks": "",
             "title": {
              "standoff": 15
             },
             "zerolinecolor": "#EBF0F8",
             "zerolinewidth": 2
            },
            "yaxis": {
             "automargin": true,
             "gridcolor": "#EBF0F8",
             "linecolor": "#EBF0F8",
             "ticks": "",
             "title": {
              "standoff": 15
             },
             "zerolinecolor": "#EBF0F8",
             "zerolinewidth": 2
            }
           }
          },
          "xaxis": {
           "automargin": false,
           "linecolor": "#444",
           "linewidth": 2,
           "minor": {
            "tickmode": "linear",
            "ticks": "outside"
           },
           "mirror": true,
           "showline": true,
           "tickmode": "linear",
           "ticks": "outside",
           "zeroline": false
          },
          "yaxis": {
           "automargin": false,
           "linecolor": "#444",
           "linewidth": 2,
           "minor": {
            "tickmode": "linear",
            "ticks": "outside"
           },
           "mirror": true,
           "showline": true,
           "ticks": "outside",
           "zeroline": false
          }
         }
        },
        "width": 600,
        "xaxis": {
         "range": [
          -0.5,
          6.5
         ]
        },
        "yaxis": {
         "dtick": 0.5,
         "minor": {
          "dtick": 0.25,
          "tick0": 0
         },
         "range": [
          0,
          2.5
         ],
         "tick0": 0,
         "tickformat": ".1f",
         "title": {
          "text": "calculated XP ratio"
         }
        }
       }
      }
     },
     "metadata": {},
     "output_type": "display_data"
    }
   ],
   "source": [
    "# list of monsters published in two different books\n",
    "df1 = df0[df0['CR'].between(1,30) & df0['Legendary'].isin(['LL'])]\n",
    "dfG = df1.groupby(['Monster','Book']).size().to_frame('Total').reset_index()\n",
    "dfG = dfG[dfG['Total'].gt(0)]\n",
    "dfG = dfG.groupby(['Monster']).size().to_frame('Total').reset_index()\n",
    "dfG = dfG[dfG['Total'].gt(2)]\n",
    "dupMonsters = dfG['Monster'].tolist()\n",
    "\n",
    "df1 = df1[df1['Monster'].isin(dupMonsters)]\n",
    "\n",
    "#books = list(df1['Book'].unique())\n",
    "books = ['OotA', 'MToF', 'MPMotM']\n",
    "markers = [\n",
    "    dict(\n",
    "        color='#1f77b4', \n",
    "        line=dict(color='#1f77b4', width=2),\n",
    "        size=10,\n",
    "        symbol='circle',\n",
    "    ),\n",
    "    dict(\n",
    "        color='rgba(0,0,0,0.0)', \n",
    "        line=dict(color='#1f77b4', width=2),\n",
    "        size=10, \n",
    "        symbol='circle',\n",
    "    ),\n",
    "    dict(\n",
    "        color='rgba(0,0,0,0.0)', \n",
    "        line=dict(color='#1f77b4', width=2),\n",
    "        size=10, \n",
    "        symbol='triangle-up',\n",
    "    )\n",
    "]\n",
    "\n",
    "# create figure\n",
    "fig = go.Figure(\n",
    "    layout=go.Layout(\n",
    "        template=tfb.FIG_TEMPLATE,\n",
    "        margin=dict(l=70, r=25, b=80, t=20, pad=4),\n",
    "        xaxis=dict(\n",
    "            range=[-0.5, len(dupMonsters)-0.5],\n",
    "        ),\n",
    "        yaxis=dict(\n",
    "            title_text='calculated XP ratio',\n",
    "            range=[0, 2.5],\n",
    "            tick0=0, dtick=0.5,\n",
    "            tickformat='.1f',\n",
    "            minor=dict(tick0=0, dtick=0.25),\n",
    "        ),\n",
    "        legend=dict(\n",
    "            yanchor='top',  y=0.99,\n",
    "            xanchor='right', x=0.99,\n",
    "            orientation='v',\n",
    "        ),\n",
    "    )\n",
    ")\n",
    "\n",
    "# plot data\n",
    "for book, marker in zip(books, markers):\n",
    "    data = df1[df1['Book'].isin([book])]\n",
    "    xpr_mean = np.mean(data['eXP Ratio'])\n",
    "    xpr_std = np.std(data['eXP Ratio'])\n",
    "    print(f'{book}: {xpr_mean:.2f} ({xpr_std:.2f})')\n",
    "    text = [f'{x:.0f}' for x in data['CR'].to_list()]\n",
    "    fig.add_trace(go.Scatter(\n",
    "        x=data['Monster'], \n",
    "        y=data['eXP Ratio'],\n",
    "        mode='markers',\n",
    "        marker=marker,\n",
    "        name=book,\n",
    "        text=text,\n",
    "        hovertemplate=\n",
    "            f'<b>Book:</b> {book}<br>'+\n",
    "            '<b>Monster:</b> %{x}<br>'+\n",
    "            '<b>CR:</b> %{text}<br>'+\n",
    "            '<b>XP ratio:</b> %{y:.2f}'+\n",
    "            '<extra></extra>'\n",
    "    ))\n",
    "\n",
    "# show figure\n",
    "fig.update_layout(width=600, height=450)\n",
    "fig.show(config=tfb.FIG_CONFIG)\n",
    "\n",
    "# save figures\n",
    "if SAVEFIGS:\n",
    "    fig.update_layout(autosize=True, width=None, height=None)\n",
    "    tfb.save_fig_html(fig, format='large', name='fig-exp-ratio-vs-monster-demon-lords-large', style='aspect-ratio: 600/500;')\n",
    "    tfb.save_fig_html(fig, format='small', name='fig-exp-ratio-vs-monster-demon-lords-small', style='aspect-ratio: 600/550;')"
   ]
  },
  {
   "cell_type": "code",
   "execution_count": 20,
   "metadata": {},
   "outputs": [
    {
     "data": {
      "application/vnd.plotly.v1+json": {
       "config": {
        "autosizable": true,
        "displayModeBar": "hover",
        "displaylogo": false,
        "doubleClick": "reset",
        "modeBarButtonsToRemove": [
         "select2d",
         "lasso2d",
         "zoom2d",
         "zoomIn2d",
         "zoomOut2d",
         "pan2d",
         "autoScale2d",
         "hoverClosestCartesian",
         "hoverCompareCartesian",
         "toggleSpikelines",
         "resetScale2d"
        ],
        "plotlyServerURL": "https://plot.ly",
        "responsive": true,
        "showAxisDragHandles": false,
        "toImageButtonOptions": {
         "filename": "tfb-plot",
         "format": "png",
         "height": 450,
         "scale": 2,
         "width": 600
        }
       },
       "data": [
        {
         "customdata": [
          [
           "MM",
           266
          ],
          [
           "VGtM",
           107
          ],
          [
           "MToF",
           97
          ],
          [
           "GGtR",
           47
          ],
          [
           "ERftLW",
           19
          ],
          [
           "EGtW",
           26
          ],
          [
           "MOoT",
           38
          ],
          [
           "VRGtR",
           26
          ],
          [
           "FToD",
           49
          ],
          [
           "MPMotM",
           203
          ],
          [
           "SAiS:LoX",
           1
          ],
          [
           "SAiS:BAM",
           53
          ],
          [
           "BPGotG",
           50
          ],
          [
           "PAitM:MPP",
           44
          ],
          [
           "TBoMT",
           16
          ]
         ],
         "hovertemplate": "<b>%{customdata[0]}</b><br>Date: %{x}<br>XP ratio: %{y:.2f}<br>Monsters: %{customdata[1]:.0f}<extra></extra>",
         "marker": {
          "color": "rgba(0,0,0,0.0)",
          "line": {
           "color": "#ff7f0e",
           "width": 2
          },
          "size": 10
         },
         "mode": "markers",
         "name": "source books - normal",
         "type": "scatter",
         "x": [
          "2014-09-07T00:00:00.000000000",
          "2016-11-15T00:00:00.000000000",
          "2018-05-29T00:00:00.000000000",
          "2018-11-20T00:00:00.000000000",
          "2019-11-19T00:00:00.000000000",
          "2020-03-07T00:00:00.000000000",
          "2020-07-21T00:00:00.000000000",
          "2021-05-18T00:00:00.000000000",
          "2021-10-26T00:00:00.000000000",
          "2022-05-16T00:00:00.000000000",
          "2022-08-16T00:00:00.000000000",
          "2022-08-16T00:00:00.000000000",
          "2023-08-15T00:00:00.000000000",
          "2023-10-17T00:00:00.000000000",
          "2023-11-14T00:00:00.000000000"
         ],
         "y": [
          0.7412428100427021,
          0.7873033423822294,
          0.8063787912448378,
          0.7320101406465042,
          0.8183369681582686,
          0.7844984954944034,
          0.7792115347414527,
          0.7565871035480765,
          0.8207932236261216,
          0.8143240622659365,
          0.75,
          0.7388065487417501,
          0.8566475844505337,
          0.8284365864752147,
          0.8370685786229862
         ]
        },
        {
         "customdata": [
          [
           "MM",
           39
          ],
          [
           "VGtM",
           5
          ],
          [
           "MToF",
           28
          ],
          [
           "GGtR",
           13
          ],
          [
           "ERftLW",
           8
          ],
          [
           "EGtW",
           3
          ],
          [
           "MOoT",
           7
          ],
          [
           "VRGtR",
           6
          ],
          [
           "FToD",
           51
          ],
          [
           "MPMotM",
           34
          ],
          [
           "SAiS:BAM",
           6
          ],
          [
           "BPGotG",
           20
          ],
          [
           "PAitM:MPP",
           12
          ],
          [
           "TBoMT",
           23
          ]
         ],
         "hovertemplate": "<b>%{customdata[0]}</b><br>Date: %{x}<br>XP ratio: %{y:.2f}<br>Monsters: %{customdata[1]:.0f}<extra></extra>",
         "marker": {
          "color": "#ff7f0e",
          "line": {
           "color": "#ff7f0e",
           "width": 2
          },
          "size": 10
         },
         "mode": "markers",
         "name": "source books - legendary",
         "type": "scatter",
         "x": [
          "2014-09-07T00:00:00.000000000",
          "2016-11-15T00:00:00.000000000",
          "2018-05-29T00:00:00.000000000",
          "2018-11-20T00:00:00.000000000",
          "2019-11-19T00:00:00.000000000",
          "2020-03-07T00:00:00.000000000",
          "2020-07-21T00:00:00.000000000",
          "2021-05-18T00:00:00.000000000",
          "2021-10-26T00:00:00.000000000",
          "2022-05-16T00:00:00.000000000",
          "2022-08-16T00:00:00.000000000",
          "2023-08-15T00:00:00.000000000",
          "2023-10-17T00:00:00.000000000",
          "2023-11-14T00:00:00.000000000"
         ],
         "y": [
          1.312607112307942,
          1.1178438356352123,
          1.0707047817071482,
          1.0270222926319301,
          1.0724051160832944,
          0.9171852912418378,
          1.26471878083372,
          1.2382743273720702,
          1.0641771037515493,
          1.14887955801066,
          1.1072221889840954,
          1.1516503633241886,
          1.266251357025032,
          1.2548398526347126
         ]
        },
        {
         "hoverinfo": "skip",
         "line": {
          "color": "black",
          "dash": "dash"
         },
         "mode": "lines",
         "showlegend": false,
         "type": "scatter",
         "x": [
          "2014-01-01",
          "2025-01-01"
         ],
         "y": [
          1,
          1
         ]
        }
       ],
       "layout": {
        "height": 450,
        "hoverlabel": {
         "bgcolor": "white"
        },
        "legend": {
         "orientation": "v",
         "x": 0,
         "xanchor": "left",
         "y": 0,
         "yanchor": "bottom"
        },
        "template": {
         "layout": {
          "autosize": false,
          "font": {
           "family": "sans-serif",
           "size": 14
          },
          "hoverlabel": {
           "align": "left"
          },
          "hovermode": "closest",
          "margin": {
           "b": 55,
           "l": 60,
           "pad": 4,
           "r": 25,
           "t": 20
          },
          "template": {
           "data": {
            "bar": [
             {
              "error_x": {
               "color": "#2a3f5f"
              },
              "error_y": {
               "color": "#2a3f5f"
              },
              "marker": {
               "line": {
                "color": "white",
                "width": 0.5
               },
               "pattern": {
                "fillmode": "overlay",
                "size": 10,
                "solidity": 0.2
               }
              },
              "type": "bar"
             }
            ],
            "barpolar": [
             {
              "marker": {
               "line": {
                "color": "white",
                "width": 0.5
               },
               "pattern": {
                "fillmode": "overlay",
                "size": 10,
                "solidity": 0.2
               }
              },
              "type": "barpolar"
             }
            ],
            "carpet": [
             {
              "aaxis": {
               "endlinecolor": "#2a3f5f",
               "gridcolor": "#C8D4E3",
               "linecolor": "#C8D4E3",
               "minorgridcolor": "#C8D4E3",
               "startlinecolor": "#2a3f5f"
              },
              "baxis": {
               "endlinecolor": "#2a3f5f",
               "gridcolor": "#C8D4E3",
               "linecolor": "#C8D4E3",
               "minorgridcolor": "#C8D4E3",
               "startlinecolor": "#2a3f5f"
              },
              "type": "carpet"
             }
            ],
            "choropleth": [
             {
              "colorbar": {
               "outlinewidth": 0,
               "ticks": ""
              },
              "type": "choropleth"
             }
            ],
            "contour": [
             {
              "colorbar": {
               "outlinewidth": 0,
               "ticks": ""
              },
              "colorscale": [
               [
                0,
                "#0d0887"
               ],
               [
                0.1111111111111111,
                "#46039f"
               ],
               [
                0.2222222222222222,
                "#7201a8"
               ],
               [
                0.3333333333333333,
                "#9c179e"
               ],
               [
                0.4444444444444444,
                "#bd3786"
               ],
               [
                0.5555555555555556,
                "#d8576b"
               ],
               [
                0.6666666666666666,
                "#ed7953"
               ],
               [
                0.7777777777777778,
                "#fb9f3a"
               ],
               [
                0.8888888888888888,
                "#fdca26"
               ],
               [
                1,
                "#f0f921"
               ]
              ],
              "type": "contour"
             }
            ],
            "contourcarpet": [
             {
              "colorbar": {
               "outlinewidth": 0,
               "ticks": ""
              },
              "type": "contourcarpet"
             }
            ],
            "heatmap": [
             {
              "colorbar": {
               "outlinewidth": 0,
               "ticks": ""
              },
              "colorscale": [
               [
                0,
                "#0d0887"
               ],
               [
                0.1111111111111111,
                "#46039f"
               ],
               [
                0.2222222222222222,
                "#7201a8"
               ],
               [
                0.3333333333333333,
                "#9c179e"
               ],
               [
                0.4444444444444444,
                "#bd3786"
               ],
               [
                0.5555555555555556,
                "#d8576b"
               ],
               [
                0.6666666666666666,
                "#ed7953"
               ],
               [
                0.7777777777777778,
                "#fb9f3a"
               ],
               [
                0.8888888888888888,
                "#fdca26"
               ],
               [
                1,
                "#f0f921"
               ]
              ],
              "type": "heatmap"
             }
            ],
            "heatmapgl": [
             {
              "colorbar": {
               "outlinewidth": 0,
               "ticks": ""
              },
              "colorscale": [
               [
                0,
                "#0d0887"
               ],
               [
                0.1111111111111111,
                "#46039f"
               ],
               [
                0.2222222222222222,
                "#7201a8"
               ],
               [
                0.3333333333333333,
                "#9c179e"
               ],
               [
                0.4444444444444444,
                "#bd3786"
               ],
               [
                0.5555555555555556,
                "#d8576b"
               ],
               [
                0.6666666666666666,
                "#ed7953"
               ],
               [
                0.7777777777777778,
                "#fb9f3a"
               ],
               [
                0.8888888888888888,
                "#fdca26"
               ],
               [
                1,
                "#f0f921"
               ]
              ],
              "type": "heatmapgl"
             }
            ],
            "histogram": [
             {
              "marker": {
               "pattern": {
                "fillmode": "overlay",
                "size": 10,
                "solidity": 0.2
               }
              },
              "type": "histogram"
             }
            ],
            "histogram2d": [
             {
              "colorbar": {
               "outlinewidth": 0,
               "ticks": ""
              },
              "colorscale": [
               [
                0,
                "#0d0887"
               ],
               [
                0.1111111111111111,
                "#46039f"
               ],
               [
                0.2222222222222222,
                "#7201a8"
               ],
               [
                0.3333333333333333,
                "#9c179e"
               ],
               [
                0.4444444444444444,
                "#bd3786"
               ],
               [
                0.5555555555555556,
                "#d8576b"
               ],
               [
                0.6666666666666666,
                "#ed7953"
               ],
               [
                0.7777777777777778,
                "#fb9f3a"
               ],
               [
                0.8888888888888888,
                "#fdca26"
               ],
               [
                1,
                "#f0f921"
               ]
              ],
              "type": "histogram2d"
             }
            ],
            "histogram2dcontour": [
             {
              "colorbar": {
               "outlinewidth": 0,
               "ticks": ""
              },
              "colorscale": [
               [
                0,
                "#0d0887"
               ],
               [
                0.1111111111111111,
                "#46039f"
               ],
               [
                0.2222222222222222,
                "#7201a8"
               ],
               [
                0.3333333333333333,
                "#9c179e"
               ],
               [
                0.4444444444444444,
                "#bd3786"
               ],
               [
                0.5555555555555556,
                "#d8576b"
               ],
               [
                0.6666666666666666,
                "#ed7953"
               ],
               [
                0.7777777777777778,
                "#fb9f3a"
               ],
               [
                0.8888888888888888,
                "#fdca26"
               ],
               [
                1,
                "#f0f921"
               ]
              ],
              "type": "histogram2dcontour"
             }
            ],
            "mesh3d": [
             {
              "colorbar": {
               "outlinewidth": 0,
               "ticks": ""
              },
              "type": "mesh3d"
             }
            ],
            "parcoords": [
             {
              "line": {
               "colorbar": {
                "outlinewidth": 0,
                "ticks": ""
               }
              },
              "type": "parcoords"
             }
            ],
            "pie": [
             {
              "automargin": true,
              "type": "pie"
             }
            ],
            "scatter": [
             {
              "fillpattern": {
               "fillmode": "overlay",
               "size": 10,
               "solidity": 0.2
              },
              "type": "scatter"
             }
            ],
            "scatter3d": [
             {
              "line": {
               "colorbar": {
                "outlinewidth": 0,
                "ticks": ""
               }
              },
              "marker": {
               "colorbar": {
                "outlinewidth": 0,
                "ticks": ""
               }
              },
              "type": "scatter3d"
             }
            ],
            "scattercarpet": [
             {
              "marker": {
               "colorbar": {
                "outlinewidth": 0,
                "ticks": ""
               }
              },
              "type": "scattercarpet"
             }
            ],
            "scattergeo": [
             {
              "marker": {
               "colorbar": {
                "outlinewidth": 0,
                "ticks": ""
               }
              },
              "type": "scattergeo"
             }
            ],
            "scattergl": [
             {
              "marker": {
               "colorbar": {
                "outlinewidth": 0,
                "ticks": ""
               }
              },
              "type": "scattergl"
             }
            ],
            "scattermapbox": [
             {
              "marker": {
               "colorbar": {
                "outlinewidth": 0,
                "ticks": ""
               }
              },
              "type": "scattermapbox"
             }
            ],
            "scatterpolar": [
             {
              "marker": {
               "colorbar": {
                "outlinewidth": 0,
                "ticks": ""
               }
              },
              "type": "scatterpolar"
             }
            ],
            "scatterpolargl": [
             {
              "marker": {
               "colorbar": {
                "outlinewidth": 0,
                "ticks": ""
               }
              },
              "type": "scatterpolargl"
             }
            ],
            "scatterternary": [
             {
              "marker": {
               "colorbar": {
                "outlinewidth": 0,
                "ticks": ""
               }
              },
              "type": "scatterternary"
             }
            ],
            "surface": [
             {
              "colorbar": {
               "outlinewidth": 0,
               "ticks": ""
              },
              "colorscale": [
               [
                0,
                "#0d0887"
               ],
               [
                0.1111111111111111,
                "#46039f"
               ],
               [
                0.2222222222222222,
                "#7201a8"
               ],
               [
                0.3333333333333333,
                "#9c179e"
               ],
               [
                0.4444444444444444,
                "#bd3786"
               ],
               [
                0.5555555555555556,
                "#d8576b"
               ],
               [
                0.6666666666666666,
                "#ed7953"
               ],
               [
                0.7777777777777778,
                "#fb9f3a"
               ],
               [
                0.8888888888888888,
                "#fdca26"
               ],
               [
                1,
                "#f0f921"
               ]
              ],
              "type": "surface"
             }
            ],
            "table": [
             {
              "cells": {
               "fill": {
                "color": "#EBF0F8"
               },
               "line": {
                "color": "white"
               }
              },
              "header": {
               "fill": {
                "color": "#C8D4E3"
               },
               "line": {
                "color": "white"
               }
              },
              "type": "table"
             }
            ]
           },
           "layout": {
            "annotationdefaults": {
             "arrowcolor": "#2a3f5f",
             "arrowhead": 0,
             "arrowwidth": 1
            },
            "autotypenumbers": "strict",
            "coloraxis": {
             "colorbar": {
              "outlinewidth": 0,
              "ticks": ""
             }
            },
            "colorscale": {
             "diverging": [
              [
               0,
               "#8e0152"
              ],
              [
               0.1,
               "#c51b7d"
              ],
              [
               0.2,
               "#de77ae"
              ],
              [
               0.3,
               "#f1b6da"
              ],
              [
               0.4,
               "#fde0ef"
              ],
              [
               0.5,
               "#f7f7f7"
              ],
              [
               0.6,
               "#e6f5d0"
              ],
              [
               0.7,
               "#b8e186"
              ],
              [
               0.8,
               "#7fbc41"
              ],
              [
               0.9,
               "#4d9221"
              ],
              [
               1,
               "#276419"
              ]
             ],
             "sequential": [
              [
               0,
               "#0d0887"
              ],
              [
               0.1111111111111111,
               "#46039f"
              ],
              [
               0.2222222222222222,
               "#7201a8"
              ],
              [
               0.3333333333333333,
               "#9c179e"
              ],
              [
               0.4444444444444444,
               "#bd3786"
              ],
              [
               0.5555555555555556,
               "#d8576b"
              ],
              [
               0.6666666666666666,
               "#ed7953"
              ],
              [
               0.7777777777777778,
               "#fb9f3a"
              ],
              [
               0.8888888888888888,
               "#fdca26"
              ],
              [
               1,
               "#f0f921"
              ]
             ],
             "sequentialminus": [
              [
               0,
               "#0d0887"
              ],
              [
               0.1111111111111111,
               "#46039f"
              ],
              [
               0.2222222222222222,
               "#7201a8"
              ],
              [
               0.3333333333333333,
               "#9c179e"
              ],
              [
               0.4444444444444444,
               "#bd3786"
              ],
              [
               0.5555555555555556,
               "#d8576b"
              ],
              [
               0.6666666666666666,
               "#ed7953"
              ],
              [
               0.7777777777777778,
               "#fb9f3a"
              ],
              [
               0.8888888888888888,
               "#fdca26"
              ],
              [
               1,
               "#f0f921"
              ]
             ]
            },
            "colorway": [
             "#636efa",
             "#EF553B",
             "#00cc96",
             "#ab63fa",
             "#FFA15A",
             "#19d3f3",
             "#FF6692",
             "#B6E880",
             "#FF97FF",
             "#FECB52"
            ],
            "font": {
             "color": "#2a3f5f"
            },
            "geo": {
             "bgcolor": "white",
             "lakecolor": "white",
             "landcolor": "white",
             "showlakes": true,
             "showland": true,
             "subunitcolor": "#C8D4E3"
            },
            "hoverlabel": {
             "align": "left"
            },
            "hovermode": "closest",
            "mapbox": {
             "style": "light"
            },
            "paper_bgcolor": "white",
            "plot_bgcolor": "white",
            "polar": {
             "angularaxis": {
              "gridcolor": "#EBF0F8",
              "linecolor": "#EBF0F8",
              "ticks": ""
             },
             "bgcolor": "white",
             "radialaxis": {
              "gridcolor": "#EBF0F8",
              "linecolor": "#EBF0F8",
              "ticks": ""
             }
            },
            "scene": {
             "xaxis": {
              "backgroundcolor": "white",
              "gridcolor": "#DFE8F3",
              "gridwidth": 2,
              "linecolor": "#EBF0F8",
              "showbackground": true,
              "ticks": "",
              "zerolinecolor": "#EBF0F8"
             },
             "yaxis": {
              "backgroundcolor": "white",
              "gridcolor": "#DFE8F3",
              "gridwidth": 2,
              "linecolor": "#EBF0F8",
              "showbackground": true,
              "ticks": "",
              "zerolinecolor": "#EBF0F8"
             },
             "zaxis": {
              "backgroundcolor": "white",
              "gridcolor": "#DFE8F3",
              "gridwidth": 2,
              "linecolor": "#EBF0F8",
              "showbackground": true,
              "ticks": "",
              "zerolinecolor": "#EBF0F8"
             }
            },
            "shapedefaults": {
             "line": {
              "color": "#2a3f5f"
             }
            },
            "ternary": {
             "aaxis": {
              "gridcolor": "#DFE8F3",
              "linecolor": "#A2B1C6",
              "ticks": ""
             },
             "baxis": {
              "gridcolor": "#DFE8F3",
              "linecolor": "#A2B1C6",
              "ticks": ""
             },
             "bgcolor": "white",
             "caxis": {
              "gridcolor": "#DFE8F3",
              "linecolor": "#A2B1C6",
              "ticks": ""
             }
            },
            "title": {
             "x": 0.05
            },
            "xaxis": {
             "automargin": true,
             "gridcolor": "#EBF0F8",
             "linecolor": "#EBF0F8",
             "ticks": "",
             "title": {
              "standoff": 15
             },
             "zerolinecolor": "#EBF0F8",
             "zerolinewidth": 2
            },
            "yaxis": {
             "automargin": true,
             "gridcolor": "#EBF0F8",
             "linecolor": "#EBF0F8",
             "ticks": "",
             "title": {
              "standoff": 15
             },
             "zerolinecolor": "#EBF0F8",
             "zerolinewidth": 2
            }
           }
          },
          "xaxis": {
           "automargin": false,
           "linecolor": "#444",
           "linewidth": 2,
           "minor": {
            "tickmode": "linear",
            "ticks": "outside"
           },
           "mirror": true,
           "showline": true,
           "tickmode": "linear",
           "ticks": "outside",
           "zeroline": false
          },
          "yaxis": {
           "automargin": true,
           "linecolor": "#444",
           "linewidth": 2,
           "minor": {
            "tickmode": "linear",
            "ticks": "outside"
           },
           "mirror": true,
           "showline": true,
           "ticks": "outside",
           "zeroline": false
          }
         }
        },
        "width": 600,
        "xaxis": {
         "dtick": "M12",
         "minor": {
          "dtick": "M3"
         },
         "range": [
          "2014-01-01",
          "2025-01-01"
         ],
         "title": {
          "text": "publication year"
         }
        },
        "yaxis": {
         "dtick": 0.5,
         "minor": {
          "dtick": 0.25,
          "tick0": 0
         },
         "range": [
          0,
          2
         ],
         "tick0": 0,
         "tickformat": ".1f",
         "title": {
          "text": "calculated XP ratio"
         }
        }
       }
      }
     },
     "metadata": {},
     "output_type": "display_data"
    }
   ],
   "source": [
    "# plot eXP ratio vs time. Split data by book type.\n",
    "from datetime import date\n",
    "\n",
    "groups = {\n",
    "    'source books - normal': {\n",
    "        'Legendary': ['N'],\n",
    "        'marker': dict(\n",
    "            size=10, \n",
    "            color='rgba(0,0,0,0.0)', \n",
    "            line=dict(color='#ff7f0e', width=2)\n",
    "        )\n",
    "    },\n",
    "    'source books - legendary': {\n",
    "        'Legendary': ['L','LL'],\n",
    "        'marker': dict(\n",
    "            size=10, \n",
    "            color='#ff7f0e', \n",
    "            line=dict(color='#ff7f0e', width=2)\n",
    "        )\n",
    "    }\n",
    "}\n",
    "\n",
    "# summarize the current dataset\n",
    "\n",
    "\n",
    "group_columns = ['Date','group','Book']\n",
    "date_range = [date(2014, 1, 1), date(2025, 1, 1)]\n",
    "\n",
    "# plot results\n",
    "fig = go.Figure(\n",
    "    layout=go.Layout(\n",
    "        template=tfb.FIG_TEMPLATE,\n",
    "        hoverlabel=dict(\n",
    "            bgcolor='white',\n",
    "        ),\n",
    "        xaxis=dict(\n",
    "            title_text='publication year',\n",
    "            range=date_range,\n",
    "            dtick=\"M12\",\n",
    "            minor=dict(dtick=\"M3\"),\n",
    "        ),\n",
    "        yaxis=dict(\n",
    "            title_text='calculated XP ratio',\n",
    "            range=[0, 2],\n",
    "            tick0=0, dtick=0.5,\n",
    "            tickformat='.1f',\n",
    "            minor=dict(tick0=0, dtick=0.25),\n",
    "        ),\n",
    "        legend=dict(\n",
    "            yanchor='bottom',  y=0.00,\n",
    "            xanchor='left', x=0.00,\n",
    "            orientation='v',\n",
    "        ),\n",
    "    )\n",
    ")\n",
    "\n",
    "for g in groups:\n",
    "    group = groups[g]\n",
    "    df1 = df0[df0['CR'].between(1,30) & df0['Legendary'].isin(group['Legendary']) & df0['Book Type'].isin(['Source'])]\n",
    "    df1['group'] = df1.apply(lambda row: 'source books - normal' if row['Legendary'] == 'N' else 'source books - legendary', axis=1)\n",
    "    df1 = df1[group_columns + ['eXP Ratio']]\n",
    "    \n",
    "    dfG = df1.groupby(group_columns, observed=False).size().to_frame('Total').reset_index()\n",
    "    dfG['eXP Ratio Mean'] = df1.groupby(group_columns, observed=False).mean().reset_index()['eXP Ratio']\n",
    "    dfG['eXP Ratio Std Dev'] = df1.groupby(group_columns, observed=False).std().reset_index()['eXP Ratio']\n",
    "    dfG = dfG.sort_values(by=['Date'])\n",
    "    dfG = dfG[dfG['Total'].ge(1)]\n",
    "    \n",
    "    fig.add_trace(go.Scatter(\n",
    "        x=np.array(dfG['Date']), \n",
    "        y=dfG['eXP Ratio Mean'],\n",
    "        mode='markers',\n",
    "        name=g,\n",
    "    ))\n",
    "\n",
    "    fig.update_traces(\n",
    "        selector=dict(name=g),\n",
    "        customdata = np.stack((dfG['Book'], dfG['Total']), axis=-1),\n",
    "        hovertemplate = '<b>%{customdata[0]}</b><br>'\n",
    "            + 'Date: %{x}<br>'\n",
    "            + 'XP ratio: %{y:.2f}<br>'\n",
    "            + 'Monsters: %{customdata[1]:.0f}'\n",
    "            + '<extra></extra>',\n",
    "        marker=group['marker'],\n",
    "    )\n",
    "\n",
    "fig.add_trace(go.Scatter(\n",
    "    x=date_range, \n",
    "    y=[1, 1],\n",
    "    mode='lines', \n",
    "    line=dict(color='black', dash='dash'),\n",
    "    showlegend=False,\n",
    "    hoverinfo='skip'\n",
    "))\n",
    "\n",
    "# show figure\n",
    "fig.update_layout(width=600, height=450)\n",
    "fig.show(config=tfb.FIG_CONFIG)\n",
    "\n",
    "# save figures\n",
    "if SAVEFIGS:\n",
    "    fig.update_layout(autosize=True, width=None, height=None)\n",
    "    tfb.save_fig_html(fig, format='large', name='fig-exp-ratio-mean-vs-time-source-books-large', style='aspect-ratio: 600/500;')\n",
    "    tfb.save_fig_html(fig, format='small', name='fig-exp-ratio-mean-vs-time-source-books-small', style='aspect-ratio: 600/550;')"
   ]
  },
  {
   "cell_type": "code",
   "execution_count": 23,
   "metadata": {},
   "outputs": [
    {
     "data": {
      "application/vnd.plotly.v1+json": {
       "config": {
        "autosizable": true,
        "displayModeBar": "hover",
        "displaylogo": false,
        "doubleClick": "reset",
        "modeBarButtonsToRemove": [
         "select2d",
         "lasso2d",
         "zoom2d",
         "zoomIn2d",
         "zoomOut2d",
         "pan2d",
         "autoScale2d",
         "hoverClosestCartesian",
         "hoverCompareCartesian",
         "toggleSpikelines",
         "resetScale2d"
        ],
        "plotlyServerURL": "https://plot.ly",
        "responsive": true,
        "showAxisDragHandles": false,
        "toImageButtonOptions": {
         "filename": "tfb-plot",
         "format": "png",
         "height": 450,
         "scale": 2,
         "width": 600
        }
       },
       "data": [
        {
         "hovertemplate": "<b>MM</b><br>XP ratio %{x:.2f}<br>CDF %{y:.2f}<extra></extra>",
         "line": {
          "shape": "hv"
         },
         "mode": "lines",
         "name": "MM",
         "type": "scatter",
         "x": [
          0,
          0.678020979020979,
          0.6910042899408285,
          0.8263888888888891,
          0.8376770769230767,
          0.8422579059829061,
          0.8485539759319527,
          0.8848557692307694,
          0.8971684615384614,
          0.9513828402366867,
          1.0526767310410259,
          1.07909269318,
          1.0907250474528536,
          1.1211864406779661,
          1.2274,
          1.251681141439206,
          1.2792642140468227,
          1.2967476923076924,
          1.3446154153846155,
          1.3668871224193548,
          1.3715624711249998,
          1.4204565217391305,
          1.4417307692307693,
          1.4506941562851783,
          1.4550674376631705,
          1.4572095520802673,
          1.4816784615384615,
          1.497470887598499,
          1.506102071005917,
          1.5147294482153846,
          1.5245413849704141,
          1.5573696255897433,
          1.5679765505016723,
          1.5774230769230768,
          1.5921970746634613,
          1.6712615748923079,
          1.7147769230769232,
          1.7494516384970413,
          1.8167756841538463,
          2.2556153846153846,
          3
         ],
         "y": [
          0,
          0.02564102564102564,
          0.05128205128205128,
          0.07692307692307693,
          0.10256410256410256,
          0.1282051282051282,
          0.15384615384615385,
          0.1794871794871795,
          0.20512820512820512,
          0.23076923076923078,
          0.2564102564102564,
          0.28205128205128205,
          0.3076923076923077,
          0.3333333333333333,
          0.358974358974359,
          0.38461538461538464,
          0.41025641025641024,
          0.4358974358974359,
          0.46153846153846156,
          0.48717948717948717,
          0.5128205128205128,
          0.5384615384615384,
          0.5641025641025641,
          0.5897435897435898,
          0.6153846153846154,
          0.6410256410256411,
          0.6666666666666666,
          0.6923076923076923,
          0.717948717948718,
          0.7435897435897436,
          0.7692307692307693,
          0.7948717948717948,
          0.8205128205128205,
          0.8461538461538461,
          0.8717948717948718,
          0.8974358974358975,
          0.9230769230769231,
          0.9487179487179487,
          0.9743589743589743,
          1,
          1.0256410256410255
         ]
        },
        {
         "hovertemplate": "<b>non-MM</b><br>XP ratio %{x:.2f}<br>CDF %{y:.2f}<extra></extra>",
         "line": {
          "shape": "hv"
         },
         "mode": "lines",
         "name": "non-MM",
         "type": "scatter",
         "x": [
          0,
          0.6854577991452993,
          0.7446581196581197,
          0.7610405982905984,
          0.7678321678321679,
          0.7761268953658536,
          0.7941979188742964,
          0.7969230553846154,
          0.7972612570356473,
          0.8138942307692308,
          0.8165230769230769,
          0.8250960634451612,
          0.8406593406593407,
          0.8506606920130274,
          0.856875,
          0.856875,
          0.856875,
          0.856875,
          0.856875,
          0.8572307907692308,
          0.8572307907692308,
          0.8591826923076923,
          0.8654278846153846,
          0.8709615599999999,
          0.8709615599999999,
          0.8754505494505496,
          0.8754505494505496,
          0.8754505494505496,
          0.8754505494505496,
          0.8754505494505496,
          0.8793424317617865,
          0.8849899402948718,
          0.8849899402948718,
          0.8849899402948718,
          0.8849899402948718,
          0.8849899402948718,
          0.8890558312655087,
          0.8965384615384616,
          0.9008758974358975,
          0.9041925558312657,
          0.9048120401337795,
          0.9079471153846153,
          0.9106250309999999,
          0.9157591973244147,
          0.9212233846153846,
          0.9249154085769232,
          0.9251383453564727,
          0.9251383453564727,
          0.9292307692307692,
          0.9361888111888111,
          0.9370148324444445,
          0.9482532291346157,
          0.9520604395604396,
          0.9527832167832169,
          0.9533968531468532,
          0.9545898887223265,
          0.9587838461538463,
          0.9592307692307693,
          0.9655564369846156,
          0.965623076923077,
          0.9656871555692307,
          0.9703635897435898,
          0.9707422367448405,
          0.97869760206379,
          0.9802447552447552,
          0.9871113846153847,
          0.9946256161600001,
          0.9949717741935485,
          0.9951373357417582,
          0.9954807692307692,
          0.9971153846153846,
          0.9980608696153848,
          0.9987148217636023,
          0.9995192307692309,
          1.0030375384615384,
          1.0210557419897437,
          1.0274519230769232,
          1.0288170163170163,
          1.0288170163170163,
          1.0294711538461538,
          1.0298076923076924,
          1.030111090833333,
          1.0317210512738462,
          1.0348475831707318,
          1.0370454545454546,
          1.038046153846154,
          1.0433132307692308,
          1.0444000224,
          1.0456989966555186,
          1.0489603108292682,
          1.0489603108292682,
          1.0504013682943143,
          1.0526923076923078,
          1.0534309169580418,
          1.0560866285452992,
          1.0568849860961538,
          1.0640400015009381,
          1.0650361305361307,
          1.0665180397083334,
          1.069846153846154,
          1.0768318122555411,
          1.082731153846154,
          1.08364372365,
          1.0855288202307691,
          1.0875,
          1.0902192307692309,
          1.0903846153846153,
          1.0922656686153847,
          1.093076923076923,
          1.093123563163077,
          1.0946341463414635,
          1.0972685439560441,
          1.10057325,
          1.1033099760150002,
          1.104533308,
          1.1155015508684865,
          1.1163461538461539,
          1.1166247534516764,
          1.1168166578232646,
          1.1242753286956524,
          1.125,
          1.1259205364000002,
          1.1259890109890112,
          1.1367602977667493,
          1.1370023748698226,
          1.1376923076923076,
          1.140719370374359,
          1.144614234972781,
          1.1469665247441068,
          1.1526646153846154,
          1.15344,
          1.1592741841491843,
          1.164250319902098,
          1.1663823221153846,
          1.1670814991111111,
          1.1684615384615384,
          1.1702104615384614,
          1.1712616965759848,
          1.1717823917448407,
          1.172657967032967,
          1.1734615384615383,
          1.1740854700854702,
          1.175181818181818,
          1.1780620347394541,
          1.1891235682237764,
          1.19109375,
          1.1975192307692308,
          1.2008371639220086,
          1.2041249714999998,
          1.206919471153846,
          1.2137412587412588,
          1.2210805860805862,
          1.2259090909090908,
          1.2266826923076923,
          1.2294871794871798,
          1.2315288461538463,
          1.2331730509615384,
          1.2351793478260868,
          1.2352198511166252,
          1.2367574441687343,
          1.2387784090909089,
          1.2422952261692308,
          1.2427243850000003,
          1.244553095684803,
          1.2503333333333333,
          1.2541420118343196,
          1.256110609369048,
          1.2646032150164104,
          1.2669230769230768,
          1.271453189102564,
          1.2782615198846152,
          1.2821055261919228,
          1.286261408083442,
          1.2945104895104897,
          1.2948923076923076,
          1.3178183431952666,
          1.3188958608461538,
          1.3295599507100593,
          1.3335200668896319,
          1.3336009615384616,
          1.3384615384615386,
          1.3473701201923078,
          1.3541666666666667,
          1.3748000301556778,
          1.3750582433566434,
          1.3757692307692306,
          1.3840909395104897,
          1.3863461538461537,
          1.3956019669565218,
          1.4009230546153846,
          1.4087959561204015,
          1.425164878681319,
          1.4355852842809365,
          1.4361738782051283,
          1.4367187124999998,
          1.4424615138461538,
          1.4475833720000002,
          1.476037292379808,
          1.5062323578595318,
          1.5165247252747254,
          1.5278234265734265,
          1.5315710480946747,
          1.5355896252728205,
          1.547508568621795,
          1.5489765886287625,
          1.5510033444816054,
          1.5665063557692307,
          1.5766692712615389,
          1.6013509615384616,
          1.6021082091807692,
          1.6229395137362637,
          1.6335950382051285,
          1.6480029275147927,
          1.698315976331361,
          1.8664914849519232,
          1.896955173846154,
          1.9090705428846153,
          3
         ],
         "y": [
          0,
          0.004629629629629629,
          0.009259259259259259,
          0.013888888888888888,
          0.018518518518518517,
          0.023148148148148147,
          0.027777777777777776,
          0.032407407407407406,
          0.037037037037037035,
          0.041666666666666664,
          0.046296296296296294,
          0.05092592592592592,
          0.05555555555555555,
          0.06018518518518518,
          0.06481481481481481,
          0.06944444444444445,
          0.07407407407407407,
          0.0787037037037037,
          0.08333333333333333,
          0.08796296296296297,
          0.09259259259259259,
          0.09722222222222222,
          0.10185185185185185,
          0.10648148148148148,
          0.1111111111111111,
          0.11574074074074074,
          0.12037037037037036,
          0.125,
          0.12962962962962962,
          0.13425925925925927,
          0.1388888888888889,
          0.14351851851851852,
          0.14814814814814814,
          0.1527777777777778,
          0.1574074074074074,
          0.16203703703703703,
          0.16666666666666666,
          0.1712962962962963,
          0.17592592592592593,
          0.18055555555555555,
          0.18518518518518517,
          0.18981481481481483,
          0.19444444444444445,
          0.19907407407407407,
          0.2037037037037037,
          0.20833333333333334,
          0.21296296296296297,
          0.2175925925925926,
          0.2222222222222222,
          0.22685185185185186,
          0.23148148148148148,
          0.2361111111111111,
          0.24074074074074073,
          0.24537037037037038,
          0.25,
          0.25462962962962965,
          0.25925925925925924,
          0.2638888888888889,
          0.26851851851851855,
          0.27314814814814814,
          0.2777777777777778,
          0.2824074074074074,
          0.28703703703703703,
          0.2916666666666667,
          0.2962962962962963,
          0.30092592592592593,
          0.3055555555555556,
          0.3101851851851852,
          0.3148148148148148,
          0.3194444444444444,
          0.32407407407407407,
          0.3287037037037037,
          0.3333333333333333,
          0.33796296296296297,
          0.3425925925925926,
          0.3472222222222222,
          0.35185185185185186,
          0.35648148148148145,
          0.3611111111111111,
          0.36574074074074076,
          0.37037037037037035,
          0.375,
          0.37962962962962965,
          0.38425925925925924,
          0.3888888888888889,
          0.39351851851851855,
          0.39814814814814814,
          0.4027777777777778,
          0.4074074074074074,
          0.41203703703703703,
          0.4166666666666667,
          0.4212962962962963,
          0.42592592592592593,
          0.4305555555555556,
          0.4351851851851852,
          0.4398148148148148,
          0.4444444444444444,
          0.44907407407407407,
          0.4537037037037037,
          0.4583333333333333,
          0.46296296296296297,
          0.4675925925925926,
          0.4722222222222222,
          0.47685185185185186,
          0.48148148148148145,
          0.4861111111111111,
          0.49074074074074076,
          0.49537037037037035,
          0.5,
          0.5046296296296297,
          0.5092592592592593,
          0.5138888888888888,
          0.5185185185185185,
          0.5231481481481481,
          0.5277777777777778,
          0.5324074074074074,
          0.5370370370370371,
          0.5416666666666666,
          0.5462962962962963,
          0.5509259259259259,
          0.5555555555555556,
          0.5601851851851852,
          0.5648148148148148,
          0.5694444444444444,
          0.5740740740740741,
          0.5787037037037037,
          0.5833333333333334,
          0.5879629629629629,
          0.5925925925925926,
          0.5972222222222222,
          0.6018518518518519,
          0.6064814814814815,
          0.6111111111111112,
          0.6157407407407407,
          0.6203703703703703,
          0.625,
          0.6296296296296297,
          0.6342592592592593,
          0.6388888888888888,
          0.6435185185185185,
          0.6481481481481481,
          0.6527777777777778,
          0.6574074074074074,
          0.6620370370370371,
          0.6666666666666666,
          0.6712962962962963,
          0.6759259259259259,
          0.6805555555555556,
          0.6851851851851852,
          0.6898148148148148,
          0.6944444444444444,
          0.6990740740740741,
          0.7037037037037037,
          0.7083333333333334,
          0.7129629629629629,
          0.7175925925925926,
          0.7222222222222222,
          0.7268518518518519,
          0.7314814814814815,
          0.7361111111111112,
          0.7407407407407407,
          0.7453703703703703,
          0.75,
          0.7546296296296297,
          0.7592592592592593,
          0.7638888888888888,
          0.7685185185185185,
          0.7731481481481481,
          0.7777777777777778,
          0.7824074074074074,
          0.7870370370370371,
          0.7916666666666666,
          0.7962962962962963,
          0.8009259259259259,
          0.8055555555555556,
          0.8101851851851852,
          0.8148148148148148,
          0.8194444444444444,
          0.8240740740740741,
          0.8287037037037037,
          0.8333333333333334,
          0.8379629629629629,
          0.8425925925925926,
          0.8472222222222222,
          0.8518518518518519,
          0.8564814814814815,
          0.8611111111111112,
          0.8657407407407407,
          0.8703703703703703,
          0.875,
          0.8796296296296297,
          0.8842592592592593,
          0.8888888888888888,
          0.8935185185185185,
          0.8981481481481481,
          0.9027777777777778,
          0.9074074074074074,
          0.9120370370370371,
          0.9166666666666666,
          0.9212962962962963,
          0.9259259259259259,
          0.9305555555555556,
          0.9351851851851852,
          0.9398148148148148,
          0.9444444444444444,
          0.9490740740740741,
          0.9537037037037037,
          0.9583333333333334,
          0.9629629629629629,
          0.9675925925925926,
          0.9722222222222222,
          0.9768518518518519,
          0.9814814814814815,
          0.9861111111111112,
          0.9907407407407407,
          0.9953703703703703,
          1,
          1.0046296296296295
         ]
        },
        {
         "hovertemplate": "<b>MM - no dragons</b><br>XP ratio %{x:.2f}<br>CDF %{y:.2f}<extra></extra>",
         "line": {
          "shape": "hv"
         },
         "mode": "lines",
         "name": "MM - no dragons",
         "type": "scatter",
         "x": [
          0,
          0.678020979020979,
          0.6910042899408285,
          0.8263888888888891,
          0.8376770769230767,
          0.8422579059829061,
          0.8485539759319527,
          0.8848557692307694,
          0.8971684615384614,
          0.9513828402366867,
          1.0526767310410259,
          1.07909269318,
          1.0907250474528536,
          1.1211864406779661,
          1.2274,
          1.2792642140468227,
          1.4204565217391305,
          1.4417307692307693,
          1.506102071005917,
          2.2556153846153846,
          3
         ],
         "y": [
          0,
          0.05263157894736842,
          0.10526315789473684,
          0.15789473684210525,
          0.21052631578947367,
          0.2631578947368421,
          0.3157894736842105,
          0.3684210526315789,
          0.42105263157894735,
          0.47368421052631576,
          0.5263157894736842,
          0.5789473684210527,
          0.631578947368421,
          0.6842105263157895,
          0.7368421052631579,
          0.7894736842105263,
          0.8421052631578947,
          0.8947368421052632,
          0.9473684210526315,
          1,
          1.0526315789473684
         ]
        }
       ],
       "layout": {
        "height": 450,
        "legend": {
         "orientation": "v",
         "x": 1,
         "xanchor": "right",
         "y": 0,
         "yanchor": "bottom"
        },
        "template": {
         "layout": {
          "autosize": false,
          "font": {
           "family": "sans-serif",
           "size": 14
          },
          "hoverlabel": {
           "align": "left"
          },
          "hovermode": "closest",
          "margin": {
           "b": 55,
           "l": 60,
           "pad": 4,
           "r": 25,
           "t": 20
          },
          "template": {
           "data": {
            "bar": [
             {
              "error_x": {
               "color": "#2a3f5f"
              },
              "error_y": {
               "color": "#2a3f5f"
              },
              "marker": {
               "line": {
                "color": "white",
                "width": 0.5
               },
               "pattern": {
                "fillmode": "overlay",
                "size": 10,
                "solidity": 0.2
               }
              },
              "type": "bar"
             }
            ],
            "barpolar": [
             {
              "marker": {
               "line": {
                "color": "white",
                "width": 0.5
               },
               "pattern": {
                "fillmode": "overlay",
                "size": 10,
                "solidity": 0.2
               }
              },
              "type": "barpolar"
             }
            ],
            "carpet": [
             {
              "aaxis": {
               "endlinecolor": "#2a3f5f",
               "gridcolor": "#C8D4E3",
               "linecolor": "#C8D4E3",
               "minorgridcolor": "#C8D4E3",
               "startlinecolor": "#2a3f5f"
              },
              "baxis": {
               "endlinecolor": "#2a3f5f",
               "gridcolor": "#C8D4E3",
               "linecolor": "#C8D4E3",
               "minorgridcolor": "#C8D4E3",
               "startlinecolor": "#2a3f5f"
              },
              "type": "carpet"
             }
            ],
            "choropleth": [
             {
              "colorbar": {
               "outlinewidth": 0,
               "ticks": ""
              },
              "type": "choropleth"
             }
            ],
            "contour": [
             {
              "colorbar": {
               "outlinewidth": 0,
               "ticks": ""
              },
              "colorscale": [
               [
                0,
                "#0d0887"
               ],
               [
                0.1111111111111111,
                "#46039f"
               ],
               [
                0.2222222222222222,
                "#7201a8"
               ],
               [
                0.3333333333333333,
                "#9c179e"
               ],
               [
                0.4444444444444444,
                "#bd3786"
               ],
               [
                0.5555555555555556,
                "#d8576b"
               ],
               [
                0.6666666666666666,
                "#ed7953"
               ],
               [
                0.7777777777777778,
                "#fb9f3a"
               ],
               [
                0.8888888888888888,
                "#fdca26"
               ],
               [
                1,
                "#f0f921"
               ]
              ],
              "type": "contour"
             }
            ],
            "contourcarpet": [
             {
              "colorbar": {
               "outlinewidth": 0,
               "ticks": ""
              },
              "type": "contourcarpet"
             }
            ],
            "heatmap": [
             {
              "colorbar": {
               "outlinewidth": 0,
               "ticks": ""
              },
              "colorscale": [
               [
                0,
                "#0d0887"
               ],
               [
                0.1111111111111111,
                "#46039f"
               ],
               [
                0.2222222222222222,
                "#7201a8"
               ],
               [
                0.3333333333333333,
                "#9c179e"
               ],
               [
                0.4444444444444444,
                "#bd3786"
               ],
               [
                0.5555555555555556,
                "#d8576b"
               ],
               [
                0.6666666666666666,
                "#ed7953"
               ],
               [
                0.7777777777777778,
                "#fb9f3a"
               ],
               [
                0.8888888888888888,
                "#fdca26"
               ],
               [
                1,
                "#f0f921"
               ]
              ],
              "type": "heatmap"
             }
            ],
            "heatmapgl": [
             {
              "colorbar": {
               "outlinewidth": 0,
               "ticks": ""
              },
              "colorscale": [
               [
                0,
                "#0d0887"
               ],
               [
                0.1111111111111111,
                "#46039f"
               ],
               [
                0.2222222222222222,
                "#7201a8"
               ],
               [
                0.3333333333333333,
                "#9c179e"
               ],
               [
                0.4444444444444444,
                "#bd3786"
               ],
               [
                0.5555555555555556,
                "#d8576b"
               ],
               [
                0.6666666666666666,
                "#ed7953"
               ],
               [
                0.7777777777777778,
                "#fb9f3a"
               ],
               [
                0.8888888888888888,
                "#fdca26"
               ],
               [
                1,
                "#f0f921"
               ]
              ],
              "type": "heatmapgl"
             }
            ],
            "histogram": [
             {
              "marker": {
               "pattern": {
                "fillmode": "overlay",
                "size": 10,
                "solidity": 0.2
               }
              },
              "type": "histogram"
             }
            ],
            "histogram2d": [
             {
              "colorbar": {
               "outlinewidth": 0,
               "ticks": ""
              },
              "colorscale": [
               [
                0,
                "#0d0887"
               ],
               [
                0.1111111111111111,
                "#46039f"
               ],
               [
                0.2222222222222222,
                "#7201a8"
               ],
               [
                0.3333333333333333,
                "#9c179e"
               ],
               [
                0.4444444444444444,
                "#bd3786"
               ],
               [
                0.5555555555555556,
                "#d8576b"
               ],
               [
                0.6666666666666666,
                "#ed7953"
               ],
               [
                0.7777777777777778,
                "#fb9f3a"
               ],
               [
                0.8888888888888888,
                "#fdca26"
               ],
               [
                1,
                "#f0f921"
               ]
              ],
              "type": "histogram2d"
             }
            ],
            "histogram2dcontour": [
             {
              "colorbar": {
               "outlinewidth": 0,
               "ticks": ""
              },
              "colorscale": [
               [
                0,
                "#0d0887"
               ],
               [
                0.1111111111111111,
                "#46039f"
               ],
               [
                0.2222222222222222,
                "#7201a8"
               ],
               [
                0.3333333333333333,
                "#9c179e"
               ],
               [
                0.4444444444444444,
                "#bd3786"
               ],
               [
                0.5555555555555556,
                "#d8576b"
               ],
               [
                0.6666666666666666,
                "#ed7953"
               ],
               [
                0.7777777777777778,
                "#fb9f3a"
               ],
               [
                0.8888888888888888,
                "#fdca26"
               ],
               [
                1,
                "#f0f921"
               ]
              ],
              "type": "histogram2dcontour"
             }
            ],
            "mesh3d": [
             {
              "colorbar": {
               "outlinewidth": 0,
               "ticks": ""
              },
              "type": "mesh3d"
             }
            ],
            "parcoords": [
             {
              "line": {
               "colorbar": {
                "outlinewidth": 0,
                "ticks": ""
               }
              },
              "type": "parcoords"
             }
            ],
            "pie": [
             {
              "automargin": true,
              "type": "pie"
             }
            ],
            "scatter": [
             {
              "fillpattern": {
               "fillmode": "overlay",
               "size": 10,
               "solidity": 0.2
              },
              "type": "scatter"
             }
            ],
            "scatter3d": [
             {
              "line": {
               "colorbar": {
                "outlinewidth": 0,
                "ticks": ""
               }
              },
              "marker": {
               "colorbar": {
                "outlinewidth": 0,
                "ticks": ""
               }
              },
              "type": "scatter3d"
             }
            ],
            "scattercarpet": [
             {
              "marker": {
               "colorbar": {
                "outlinewidth": 0,
                "ticks": ""
               }
              },
              "type": "scattercarpet"
             }
            ],
            "scattergeo": [
             {
              "marker": {
               "colorbar": {
                "outlinewidth": 0,
                "ticks": ""
               }
              },
              "type": "scattergeo"
             }
            ],
            "scattergl": [
             {
              "marker": {
               "colorbar": {
                "outlinewidth": 0,
                "ticks": ""
               }
              },
              "type": "scattergl"
             }
            ],
            "scattermapbox": [
             {
              "marker": {
               "colorbar": {
                "outlinewidth": 0,
                "ticks": ""
               }
              },
              "type": "scattermapbox"
             }
            ],
            "scatterpolar": [
             {
              "marker": {
               "colorbar": {
                "outlinewidth": 0,
                "ticks": ""
               }
              },
              "type": "scatterpolar"
             }
            ],
            "scatterpolargl": [
             {
              "marker": {
               "colorbar": {
                "outlinewidth": 0,
                "ticks": ""
               }
              },
              "type": "scatterpolargl"
             }
            ],
            "scatterternary": [
             {
              "marker": {
               "colorbar": {
                "outlinewidth": 0,
                "ticks": ""
               }
              },
              "type": "scatterternary"
             }
            ],
            "surface": [
             {
              "colorbar": {
               "outlinewidth": 0,
               "ticks": ""
              },
              "colorscale": [
               [
                0,
                "#0d0887"
               ],
               [
                0.1111111111111111,
                "#46039f"
               ],
               [
                0.2222222222222222,
                "#7201a8"
               ],
               [
                0.3333333333333333,
                "#9c179e"
               ],
               [
                0.4444444444444444,
                "#bd3786"
               ],
               [
                0.5555555555555556,
                "#d8576b"
               ],
               [
                0.6666666666666666,
                "#ed7953"
               ],
               [
                0.7777777777777778,
                "#fb9f3a"
               ],
               [
                0.8888888888888888,
                "#fdca26"
               ],
               [
                1,
                "#f0f921"
               ]
              ],
              "type": "surface"
             }
            ],
            "table": [
             {
              "cells": {
               "fill": {
                "color": "#EBF0F8"
               },
               "line": {
                "color": "white"
               }
              },
              "header": {
               "fill": {
                "color": "#C8D4E3"
               },
               "line": {
                "color": "white"
               }
              },
              "type": "table"
             }
            ]
           },
           "layout": {
            "annotationdefaults": {
             "arrowcolor": "#2a3f5f",
             "arrowhead": 0,
             "arrowwidth": 1
            },
            "autotypenumbers": "strict",
            "coloraxis": {
             "colorbar": {
              "outlinewidth": 0,
              "ticks": ""
             }
            },
            "colorscale": {
             "diverging": [
              [
               0,
               "#8e0152"
              ],
              [
               0.1,
               "#c51b7d"
              ],
              [
               0.2,
               "#de77ae"
              ],
              [
               0.3,
               "#f1b6da"
              ],
              [
               0.4,
               "#fde0ef"
              ],
              [
               0.5,
               "#f7f7f7"
              ],
              [
               0.6,
               "#e6f5d0"
              ],
              [
               0.7,
               "#b8e186"
              ],
              [
               0.8,
               "#7fbc41"
              ],
              [
               0.9,
               "#4d9221"
              ],
              [
               1,
               "#276419"
              ]
             ],
             "sequential": [
              [
               0,
               "#0d0887"
              ],
              [
               0.1111111111111111,
               "#46039f"
              ],
              [
               0.2222222222222222,
               "#7201a8"
              ],
              [
               0.3333333333333333,
               "#9c179e"
              ],
              [
               0.4444444444444444,
               "#bd3786"
              ],
              [
               0.5555555555555556,
               "#d8576b"
              ],
              [
               0.6666666666666666,
               "#ed7953"
              ],
              [
               0.7777777777777778,
               "#fb9f3a"
              ],
              [
               0.8888888888888888,
               "#fdca26"
              ],
              [
               1,
               "#f0f921"
              ]
             ],
             "sequentialminus": [
              [
               0,
               "#0d0887"
              ],
              [
               0.1111111111111111,
               "#46039f"
              ],
              [
               0.2222222222222222,
               "#7201a8"
              ],
              [
               0.3333333333333333,
               "#9c179e"
              ],
              [
               0.4444444444444444,
               "#bd3786"
              ],
              [
               0.5555555555555556,
               "#d8576b"
              ],
              [
               0.6666666666666666,
               "#ed7953"
              ],
              [
               0.7777777777777778,
               "#fb9f3a"
              ],
              [
               0.8888888888888888,
               "#fdca26"
              ],
              [
               1,
               "#f0f921"
              ]
             ]
            },
            "colorway": [
             "#636efa",
             "#EF553B",
             "#00cc96",
             "#ab63fa",
             "#FFA15A",
             "#19d3f3",
             "#FF6692",
             "#B6E880",
             "#FF97FF",
             "#FECB52"
            ],
            "font": {
             "color": "#2a3f5f"
            },
            "geo": {
             "bgcolor": "white",
             "lakecolor": "white",
             "landcolor": "white",
             "showlakes": true,
             "showland": true,
             "subunitcolor": "#C8D4E3"
            },
            "hoverlabel": {
             "align": "left"
            },
            "hovermode": "closest",
            "mapbox": {
             "style": "light"
            },
            "paper_bgcolor": "white",
            "plot_bgcolor": "white",
            "polar": {
             "angularaxis": {
              "gridcolor": "#EBF0F8",
              "linecolor": "#EBF0F8",
              "ticks": ""
             },
             "bgcolor": "white",
             "radialaxis": {
              "gridcolor": "#EBF0F8",
              "linecolor": "#EBF0F8",
              "ticks": ""
             }
            },
            "scene": {
             "xaxis": {
              "backgroundcolor": "white",
              "gridcolor": "#DFE8F3",
              "gridwidth": 2,
              "linecolor": "#EBF0F8",
              "showbackground": true,
              "ticks": "",
              "zerolinecolor": "#EBF0F8"
             },
             "yaxis": {
              "backgroundcolor": "white",
              "gridcolor": "#DFE8F3",
              "gridwidth": 2,
              "linecolor": "#EBF0F8",
              "showbackground": true,
              "ticks": "",
              "zerolinecolor": "#EBF0F8"
             },
             "zaxis": {
              "backgroundcolor": "white",
              "gridcolor": "#DFE8F3",
              "gridwidth": 2,
              "linecolor": "#EBF0F8",
              "showbackground": true,
              "ticks": "",
              "zerolinecolor": "#EBF0F8"
             }
            },
            "shapedefaults": {
             "line": {
              "color": "#2a3f5f"
             }
            },
            "ternary": {
             "aaxis": {
              "gridcolor": "#DFE8F3",
              "linecolor": "#A2B1C6",
              "ticks": ""
             },
             "baxis": {
              "gridcolor": "#DFE8F3",
              "linecolor": "#A2B1C6",
              "ticks": ""
             },
             "bgcolor": "white",
             "caxis": {
              "gridcolor": "#DFE8F3",
              "linecolor": "#A2B1C6",
              "ticks": ""
             }
            },
            "title": {
             "x": 0.05
            },
            "xaxis": {
             "automargin": true,
             "gridcolor": "#EBF0F8",
             "linecolor": "#EBF0F8",
             "ticks": "",
             "title": {
              "standoff": 15
             },
             "zerolinecolor": "#EBF0F8",
             "zerolinewidth": 2
            },
            "yaxis": {
             "automargin": true,
             "gridcolor": "#EBF0F8",
             "linecolor": "#EBF0F8",
             "ticks": "",
             "title": {
              "standoff": 15
             },
             "zerolinecolor": "#EBF0F8",
             "zerolinewidth": 2
            }
           }
          },
          "xaxis": {
           "automargin": false,
           "linecolor": "#444",
           "linewidth": 2,
           "minor": {
            "tickmode": "linear",
            "ticks": "outside"
           },
           "mirror": true,
           "showline": true,
           "tickmode": "linear",
           "ticks": "outside",
           "zeroline": false
          },
          "yaxis": {
           "automargin": true,
           "linecolor": "#444",
           "linewidth": 2,
           "minor": {
            "tickmode": "linear",
            "ticks": "outside"
           },
           "mirror": true,
           "showline": true,
           "ticks": "outside",
           "zeroline": false
          }
         }
        },
        "width": 600,
        "xaxis": {
         "dtick": 0.5,
         "minor": {
          "dtick": 0.25,
          "tick0": 0
         },
         "range": [
          0.5,
          2.5
         ],
         "tick0": 0,
         "tickformat": ".1f",
         "title": {
          "text": "calculated XP ratio"
         }
        },
        "yaxis": {
         "dtick": 0.2,
         "minor": {
          "dtick": 0.1,
          "tick0": 0
         },
         "range": [
          -0.01,
          1.01
         ],
         "tick0": 0,
         "tickformat": ".1f",
         "title": {
          "text": "CDF"
         }
        }
       }
      }
     },
     "metadata": {},
     "output_type": "display_data"
    }
   ],
   "source": [
    "# summarize the current dataset\n",
    "df1 = df0[df0['CR'].between(1,30)  \n",
    "    & df0['Book Type'].isin(['Source']) \n",
    "    & df0['Legendary'].isin(['L','LL'])]\n",
    "\n",
    "col = 'eXP Ratio'\n",
    "\n",
    "groups = {\n",
    "    'MM': {'Book': ['MM'], 'Exclude Type': []},\n",
    "    'non-MM': {'Book': ['VGtM','MToF','GGtR','ERftLW','EGtW','MOoT','VRGtR','FToD','SaCoC','MPMotM','SAiS:BAM','BPGotG','PAitM:MPP','TBoMT'], 'Exclude Type': []},\n",
    "    'MM - no dragons': {'Book': ['MM'], 'Exclude Type': ['dragon']},\n",
    "}\n",
    "\n",
    "# plot results\n",
    "fig = go.Figure(\n",
    "    layout=go.Layout(\n",
    "        template=tfb.FIG_TEMPLATE,\n",
    "        xaxis=dict(\n",
    "            title_text='calculated XP ratio',\n",
    "            range=[0.5,2.5],\n",
    "            tick0=0, dtick=0.5, tickformat='.1f',\n",
    "            minor=dict(tick0=0, dtick=0.25),\n",
    "        ),\n",
    "        yaxis=dict(\n",
    "            title_text='CDF',\n",
    "            range=[-0.01, 1.01],\n",
    "            tick0=0, dtick=0.2,\n",
    "            tickformat='.1f',\n",
    "            minor=dict(tick0=0, dtick=0.1),\n",
    "        ),\n",
    "        legend=dict(\n",
    "            yanchor='bottom',  y=0.00,\n",
    "            xanchor='right', x=1.00,\n",
    "            orientation='v',\n",
    "        ),\n",
    "    )\n",
    ")\n",
    "\n",
    "for g in groups:\n",
    "    x = df1[df1['Book'].isin(groups[g]['Book']) & ~df1['Type'].isin(groups[g]['Exclude Type'])]['eXP Ratio'].to_numpy()\n",
    "    x = np.append(np.insert(np.sort(x), 0, 0.0), 3.0)\n",
    "    y = np.array(range(0,len(x)))/(len(x)-2)\n",
    "    fig.add_trace(go.Scatter(\n",
    "        x=x, \n",
    "        y=y,\n",
    "        mode='lines',\n",
    "        name=g,\n",
    "        line_shape='hv',\n",
    "        hovertemplate = '<b>'+g+'</b><br>'\n",
    "            + 'XP ratio %{x:.2f}<br>'\n",
    "            + 'CDF %{y:.2f}'\n",
    "            + '<extra></extra>',\n",
    "    ))\n",
    "\n",
    "# show figure\n",
    "fig.update_layout(width=600, height=450)\n",
    "fig.show(config=tfb.FIG_CONFIG)\n",
    "\n",
    "# save figures\n",
    "if SAVEFIGS:\n",
    "    fig.update_layout(autosize=True, width=None, height=None)\n",
    "    tfb.save_fig_html(fig, format='large', name='fig-exp-ratio-cdf-mm-vs-source-books-no-dragons-large', style='aspect-ratio: 600/500;')\n",
    "    tfb.save_fig_html(fig, format='small', name='fig-exp-ratio-cdf-mm-vs-source-books-no-dragons-small', style='aspect-ratio: 600/550;')"
   ]
  },
  {
   "cell_type": "code",
   "execution_count": 24,
   "metadata": {},
   "outputs": [
    {
     "data": {
      "application/vnd.plotly.v1+json": {
       "config": {
        "autosizable": true,
        "displayModeBar": "hover",
        "displaylogo": false,
        "doubleClick": "reset",
        "modeBarButtonsToRemove": [
         "select2d",
         "lasso2d",
         "zoom2d",
         "zoomIn2d",
         "zoomOut2d",
         "pan2d",
         "autoScale2d",
         "hoverClosestCartesian",
         "hoverCompareCartesian",
         "toggleSpikelines",
         "resetScale2d"
        ],
        "plotlyServerURL": "https://plot.ly",
        "responsive": true,
        "showAxisDragHandles": false,
        "toImageButtonOptions": {
         "filename": "tfb-plot",
         "format": "png",
         "height": 450,
         "scale": 2,
         "width": 600
        }
       },
       "data": [
        {
         "hovertemplate": "<b>VGtM</b><br>XP ratio %{y:.2f}<br>CDF %{y:.2f}<extra></extra>",
         "legendgroup": "non-MM",
         "line": {
          "color": "#ff7f0e",
          "shape": "hv",
          "width": 0.5
         },
         "mode": "lines",
         "name": "VGtM",
         "showlegend": false,
         "type": "scatter",
         "x": [
          0,
          0.9520604395604396,
          0.9545898887223265,
          1.0526923076923078,
          1.2210805860805862,
          1.4087959561204015,
          3
         ],
         "y": [
          0,
          0.2,
          0.4,
          0.6,
          0.8,
          1,
          1.2
         ]
        },
        {
         "hovertemplate": "<b>MToF</b><br>XP ratio %{y:.2f}<br>CDF %{y:.2f}<extra></extra>",
         "legendgroup": "non-MM",
         "line": {
          "color": "#ff7f0e",
          "shape": "hv",
          "width": 0.5
         },
         "mode": "lines",
         "name": "MToF",
         "showlegend": false,
         "type": "scatter",
         "x": [
          0,
          0.6854577991452993,
          0.7969230553846154,
          0.8572307907692308,
          0.8654278846153846,
          0.9008758974358975,
          0.9041925558312657,
          0.9212233846153846,
          0.9251383453564727,
          0.9361888111888111,
          0.9370148324444445,
          0.9533968531468532,
          0.9954807692307692,
          1.0288170163170163,
          1.030111090833333,
          1.0456989966555186,
          1.0903846153846153,
          1.093123563163077,
          1.1033099760150002,
          1.1155015508684865,
          1.1367602977667493,
          1.1702104615384614,
          1.1717823917448407,
          1.175181818181818,
          1.3178183431952666,
          1.3384615384615386,
          1.4009230546153846,
          1.5355896252728205,
          1.547508568621795,
          3
         ],
         "y": [
          0,
          0.03571428571428571,
          0.07142857142857142,
          0.10714285714285714,
          0.14285714285714285,
          0.17857142857142858,
          0.21428571428571427,
          0.25,
          0.2857142857142857,
          0.32142857142857145,
          0.35714285714285715,
          0.39285714285714285,
          0.42857142857142855,
          0.4642857142857143,
          0.5,
          0.5357142857142857,
          0.5714285714285714,
          0.6071428571428571,
          0.6428571428571429,
          0.6785714285714286,
          0.7142857142857143,
          0.75,
          0.7857142857142857,
          0.8214285714285714,
          0.8571428571428571,
          0.8928571428571429,
          0.9285714285714286,
          0.9642857142857143,
          1,
          1.0357142857142858
         ]
        },
        {
         "hovertemplate": "<b>GGtR</b><br>XP ratio %{y:.2f}<br>CDF %{y:.2f}<extra></extra>",
         "legendgroup": "non-MM",
         "line": {
          "color": "#ff7f0e",
          "shape": "hv",
          "width": 0.5
         },
         "mode": "lines",
         "name": "GGtR",
         "showlegend": false,
         "type": "scatter",
         "x": [
          0,
          0.7446581196581197,
          0.7972612570356473,
          0.8591826923076923,
          0.9048120401337795,
          0.9292307692307692,
          0.9655564369846156,
          1.0560866285452992,
          1.0650361305361307,
          1.125,
          1.1684615384615384,
          1.2315288461538463,
          1.2503333333333333,
          1.2541420118343196,
          3
         ],
         "y": [
          0,
          0.07692307692307693,
          0.15384615384615385,
          0.23076923076923078,
          0.3076923076923077,
          0.38461538461538464,
          0.46153846153846156,
          0.5384615384615384,
          0.6153846153846154,
          0.6923076923076923,
          0.7692307692307693,
          0.8461538461538461,
          0.9230769230769231,
          1,
          1.0769230769230769
         ]
        },
        {
         "hovertemplate": "<b>ERftLW</b><br>XP ratio %{y:.2f}<br>CDF %{y:.2f}<extra></extra>",
         "legendgroup": "non-MM",
         "line": {
          "color": "#ff7f0e",
          "shape": "hv",
          "width": 0.5
         },
         "mode": "lines",
         "name": "ERftLW",
         "showlegend": false,
         "type": "scatter",
         "x": [
          0,
          0.9079471153846153,
          0.965623076923077,
          0.9971153846153846,
          0.9987148217636023,
          1.0274519230769232,
          1.1663823221153846,
          1.244553095684803,
          1.271453189102564,
          3
         ],
         "y": [
          0,
          0.125,
          0.25,
          0.375,
          0.5,
          0.625,
          0.75,
          0.875,
          1,
          1.125
         ]
        },
        {
         "hovertemplate": "<b>EGtW</b><br>XP ratio %{y:.2f}<br>CDF %{y:.2f}<extra></extra>",
         "legendgroup": "non-MM",
         "line": {
          "color": "#ff7f0e",
          "shape": "hv",
          "width": 0.5
         },
         "mode": "lines",
         "name": "EGtW",
         "showlegend": false,
         "type": "scatter",
         "x": [
          0,
          0.8406593406593407,
          0.9157591973244147,
          0.9951373357417582,
          3
         ],
         "y": [
          0,
          0.3333333333333333,
          0.6666666666666666,
          1,
          1.3333333333333333
         ]
        },
        {
         "hovertemplate": "<b>MOoT</b><br>XP ratio %{y:.2f}<br>CDF %{y:.2f}<extra></extra>",
         "legendgroup": "non-MM",
         "line": {
          "color": "#ff7f0e",
          "shape": "hv",
          "width": 0.5
         },
         "mode": "lines",
         "name": "MOoT",
         "showlegend": false,
         "type": "scatter",
         "x": [
          0,
          0.8165230769230769,
          1.038046153846154,
          1.2294871794871798,
          1.2331730509615384,
          1.2945104895104897,
          1.3748000301556778,
          1.8664914849519232,
          3
         ],
         "y": [
          0,
          0.14285714285714285,
          0.2857142857142857,
          0.42857142857142855,
          0.5714285714285714,
          0.7142857142857143,
          0.8571428571428571,
          1,
          1.1428571428571428
         ]
        },
        {
         "hovertemplate": "<b>VRGtR</b><br>XP ratio %{y:.2f}<br>CDF %{y:.2f}<extra></extra>",
         "legendgroup": "non-MM",
         "line": {
          "color": "#ff7f0e",
          "shape": "hv",
          "width": 0.5
         },
         "mode": "lines",
         "name": "VRGtR",
         "showlegend": false,
         "type": "scatter",
         "x": [
          0,
          1.0875,
          1.1166247534516764,
          1.172657967032967,
          1.2387784090909089,
          1.286261408083442,
          1.5278234265734265,
          3
         ],
         "y": [
          0,
          0.16666666666666666,
          0.3333333333333333,
          0.5,
          0.6666666666666666,
          0.8333333333333334,
          1,
          1.1666666666666667
         ]
        },
        {
         "hovertemplate": "<b>FToD</b><br>XP ratio %{y:.2f}<br>CDF %{y:.2f}<extra></extra>",
         "legendgroup": "non-MM",
         "line": {
          "color": "#ff7f0e",
          "shape": "hv",
          "width": 0.5
         },
         "mode": "lines",
         "name": "FToD",
         "showlegend": false,
         "type": "scatter",
         "x": [
          0,
          0.7761268953658536,
          0.8250960634451612,
          0.8506606920130274,
          0.856875,
          0.856875,
          0.856875,
          0.856875,
          0.856875,
          0.8709615599999999,
          0.8754505494505496,
          0.8754505494505496,
          0.8754505494505496,
          0.8754505494505496,
          0.8754505494505496,
          0.8849899402948718,
          0.8849899402948718,
          0.8849899402948718,
          0.8849899402948718,
          0.8849899402948718,
          0.8890558312655087,
          0.9249154085769232,
          0.9482532291346157,
          0.9527832167832169,
          0.9587838461538463,
          0.9592307692307693,
          0.9656871555692307,
          0.97869760206379,
          0.9949717741935485,
          1.0317210512738462,
          1.0348475831707318,
          1.0370454545454546,
          1.0640400015009381,
          1.08364372365,
          1.0855288202307691,
          1.1370023748698226,
          1.140719370374359,
          1.1526646153846154,
          1.1891235682237764,
          1.2266826923076923,
          1.2351793478260868,
          1.2422952261692308,
          1.2782615198846152,
          1.3295599507100593,
          1.3335200668896319,
          1.3473701201923078,
          1.3956019669565218,
          1.4367187124999998,
          1.4475833720000002,
          1.5315710480946747,
          1.6335950382051285,
          1.896955173846154,
          3
         ],
         "y": [
          0,
          0.0196078431372549,
          0.0392156862745098,
          0.058823529411764705,
          0.0784313725490196,
          0.09803921568627451,
          0.11764705882352941,
          0.13725490196078433,
          0.1568627450980392,
          0.17647058823529413,
          0.19607843137254902,
          0.21568627450980393,
          0.23529411764705882,
          0.2549019607843137,
          0.27450980392156865,
          0.29411764705882354,
          0.3137254901960784,
          0.3333333333333333,
          0.35294117647058826,
          0.37254901960784315,
          0.39215686274509803,
          0.4117647058823529,
          0.43137254901960786,
          0.45098039215686275,
          0.47058823529411764,
          0.49019607843137253,
          0.5098039215686274,
          0.5294117647058824,
          0.5490196078431373,
          0.5686274509803921,
          0.5882352941176471,
          0.6078431372549019,
          0.6274509803921569,
          0.6470588235294118,
          0.6666666666666666,
          0.6862745098039216,
          0.7058823529411765,
          0.7254901960784313,
          0.7450980392156863,
          0.7647058823529411,
          0.7843137254901961,
          0.803921568627451,
          0.8235294117647058,
          0.8431372549019608,
          0.8627450980392157,
          0.8823529411764706,
          0.9019607843137255,
          0.9215686274509803,
          0.9411764705882353,
          0.9607843137254902,
          0.9803921568627451,
          1,
          1.0196078431372548
         ]
        },
        {
         "hovertemplate": "<b>MPMotM</b><br>XP ratio %{y:.2f}<br>CDF %{y:.2f}<extra></extra>",
         "legendgroup": "non-MM",
         "line": {
          "color": "#ff7f0e",
          "shape": "hv",
          "width": 0.5
         },
         "mode": "lines",
         "name": "MPMotM",
         "showlegend": false,
         "type": "scatter",
         "x": [
          0,
          0.7610405982905984,
          0.8572307907692308,
          0.8793424317617865,
          0.8965384615384616,
          0.9251383453564727,
          0.9703635897435898,
          0.9802447552447552,
          0.9871113846153847,
          0.9946256161600001,
          0.9995192307692309,
          1.0030375384615384,
          1.0288170163170163,
          1.0298076923076924,
          1.0433132307692308,
          1.0504013682943143,
          1.0665180397083334,
          1.069846153846154,
          1.093076923076923,
          1.10057325,
          1.1670814991111111,
          1.1712616965759848,
          1.1734615384615383,
          1.1780620347394541,
          1.1975192307692308,
          1.2259090909090908,
          1.2352198511166252,
          1.2427243850000003,
          1.2646032150164104,
          1.3541666666666667,
          1.4424615138461538,
          1.5165247252747254,
          1.5489765886287625,
          1.698315976331361,
          1.9090705428846153,
          3
         ],
         "y": [
          0,
          0.029411764705882353,
          0.058823529411764705,
          0.08823529411764706,
          0.11764705882352941,
          0.14705882352941177,
          0.17647058823529413,
          0.20588235294117646,
          0.23529411764705882,
          0.2647058823529412,
          0.29411764705882354,
          0.3235294117647059,
          0.35294117647058826,
          0.38235294117647056,
          0.4117647058823529,
          0.4411764705882353,
          0.47058823529411764,
          0.5,
          0.5294117647058824,
          0.5588235294117647,
          0.5882352941176471,
          0.6176470588235294,
          0.6470588235294118,
          0.6764705882352942,
          0.7058823529411765,
          0.7352941176470589,
          0.7647058823529411,
          0.7941176470588235,
          0.8235294117647058,
          0.8529411764705882,
          0.8823529411764706,
          0.9117647058823529,
          0.9411764705882353,
          0.9705882352941176,
          1,
          1.0294117647058822
         ]
        },
        {
         "hovertemplate": "<b>SAiS:BAM</b><br>XP ratio %{y:.2f}<br>CDF %{y:.2f}<extra></extra>",
         "legendgroup": "non-MM",
         "line": {
          "color": "#ff7f0e",
          "shape": "hv",
          "width": 0.5
         },
         "mode": "lines",
         "name": "SAiS:BAM",
         "showlegend": false,
         "type": "scatter",
         "x": [
          0,
          0.9106250309999999,
          1.0534309169580418,
          1.0768318122555411,
          1.1242753286956524,
          1.1592741841491843,
          1.3188958608461538,
          3
         ],
         "y": [
          0,
          0.16666666666666666,
          0.3333333333333333,
          0.5,
          0.6666666666666666,
          0.8333333333333334,
          1,
          1.1666666666666667
         ]
        },
        {
         "hovertemplate": "<b>BPGotG</b><br>XP ratio %{y:.2f}<br>CDF %{y:.2f}<extra></extra>",
         "legendgroup": "non-MM",
         "line": {
          "color": "#ff7f0e",
          "shape": "hv",
          "width": 0.5
         },
         "mode": "lines",
         "name": "BPGotG",
         "showlegend": false,
         "type": "scatter",
         "x": [
          0,
          0.9707422367448405,
          1.0294711538461538,
          1.0444000224,
          1.0902192307692309,
          1.0922656686153847,
          1.0946341463414635,
          1.0972685439560441,
          1.104533308,
          1.1163461538461539,
          1.1259205364000002,
          1.1259890109890112,
          1.144614234972781,
          1.1469665247441068,
          1.15344,
          1.1740854700854702,
          1.206919471153846,
          1.2367574441687343,
          1.2669230769230768,
          1.3863461538461537,
          1.425164878681319,
          3
         ],
         "y": [
          0,
          0.05,
          0.1,
          0.15,
          0.2,
          0.25,
          0.3,
          0.35,
          0.4,
          0.45,
          0.5,
          0.55,
          0.6,
          0.65,
          0.7,
          0.75,
          0.8,
          0.85,
          0.9,
          0.95,
          1,
          1.05
         ]
        },
        {
         "hovertemplate": "<b>PAitM:MPP</b><br>XP ratio %{y:.2f}<br>CDF %{y:.2f}<extra></extra>",
         "legendgroup": "non-MM",
         "line": {
          "color": "#ff7f0e",
          "shape": "hv",
          "width": 0.5
         },
         "mode": "lines",
         "name": "PAitM:MPP",
         "showlegend": false,
         "type": "scatter",
         "x": [
          0,
          0.8138942307692308,
          1.0489603108292682,
          1.0489603108292682,
          1.1376923076923076,
          1.2008371639220086,
          1.256110609369048,
          1.2948923076923076,
          1.3336009615384616,
          1.3750582433566434,
          1.5062323578595318,
          1.5766692712615389,
          1.6021082091807692,
          3
         ],
         "y": [
          0,
          0.08333333333333333,
          0.16666666666666666,
          0.25,
          0.3333333333333333,
          0.4166666666666667,
          0.5,
          0.5833333333333334,
          0.6666666666666666,
          0.75,
          0.8333333333333334,
          0.9166666666666666,
          1,
          1.0833333333333333
         ]
        },
        {
         "hovertemplate": "<b>TBoMT</b><br>XP ratio %{y:.2f}<br>CDF %{y:.2f}<extra></extra>",
         "legendgroup": "non-MM",
         "line": {
          "color": "#ff7f0e",
          "shape": "hv",
          "width": 0.5
         },
         "mode": "lines",
         "name": "TBoMT",
         "showlegend": false,
         "type": "scatter",
         "x": [
          0,
          0.7678321678321679,
          0.7941979188742964,
          0.8709615599999999,
          0.9980608696153848,
          1.0210557419897437,
          1.0568849860961538,
          1.082731153846154,
          1.1168166578232646,
          1.164250319902098,
          1.19109375,
          1.2041249714999998,
          1.2137412587412588,
          1.2821055261919228,
          1.3757692307692306,
          1.3840909395104897,
          1.4355852842809365,
          1.4361738782051283,
          1.476037292379808,
          1.5510033444816054,
          1.5665063557692307,
          1.6013509615384616,
          1.6229395137362637,
          1.6480029275147927,
          3
         ],
         "y": [
          0,
          0.043478260869565216,
          0.08695652173913043,
          0.13043478260869565,
          0.17391304347826086,
          0.21739130434782608,
          0.2608695652173913,
          0.30434782608695654,
          0.34782608695652173,
          0.391304347826087,
          0.43478260869565216,
          0.4782608695652174,
          0.5217391304347826,
          0.5652173913043478,
          0.6086956521739131,
          0.6521739130434783,
          0.6956521739130435,
          0.7391304347826086,
          0.782608695652174,
          0.8260869565217391,
          0.8695652173913043,
          0.9130434782608695,
          0.9565217391304348,
          1,
          1.0434782608695652
         ]
        },
        {
         "hovertemplate": "<b>MM</b><br>XP ratio %{y:.2f}<br>CDF %{y:.2f}<extra></extra>",
         "legendgroup": "MM",
         "line": {
          "color": "#1f77b4",
          "shape": "hv",
          "width": 2
         },
         "mode": "lines",
         "name": "MM",
         "type": "scatter",
         "x": [
          0,
          0.678020979020979,
          0.6910042899408285,
          0.8263888888888891,
          0.8376770769230767,
          0.8422579059829061,
          0.8485539759319527,
          0.8848557692307694,
          0.8971684615384614,
          0.9513828402366867,
          1.0526767310410259,
          1.07909269318,
          1.0907250474528536,
          1.1211864406779661,
          1.2274,
          1.251681141439206,
          1.2792642140468227,
          1.2967476923076924,
          1.3446154153846155,
          1.3668871224193548,
          1.3715624711249998,
          1.4204565217391305,
          1.4417307692307693,
          1.4506941562851783,
          1.4550674376631705,
          1.4572095520802673,
          1.4816784615384615,
          1.497470887598499,
          1.506102071005917,
          1.5147294482153846,
          1.5245413849704141,
          1.5573696255897433,
          1.5679765505016723,
          1.5774230769230768,
          1.5921970746634613,
          1.6712615748923079,
          1.7147769230769232,
          1.7494516384970413,
          1.8167756841538463,
          2.2556153846153846,
          3
         ],
         "y": [
          0,
          0.02564102564102564,
          0.05128205128205128,
          0.07692307692307693,
          0.10256410256410256,
          0.1282051282051282,
          0.15384615384615385,
          0.1794871794871795,
          0.20512820512820512,
          0.23076923076923078,
          0.2564102564102564,
          0.28205128205128205,
          0.3076923076923077,
          0.3333333333333333,
          0.358974358974359,
          0.38461538461538464,
          0.41025641025641024,
          0.4358974358974359,
          0.46153846153846156,
          0.48717948717948717,
          0.5128205128205128,
          0.5384615384615384,
          0.5641025641025641,
          0.5897435897435898,
          0.6153846153846154,
          0.6410256410256411,
          0.6666666666666666,
          0.6923076923076923,
          0.717948717948718,
          0.7435897435897436,
          0.7692307692307693,
          0.7948717948717948,
          0.8205128205128205,
          0.8461538461538461,
          0.8717948717948718,
          0.8974358974358975,
          0.9230769230769231,
          0.9487179487179487,
          0.9743589743589743,
          1,
          1.0256410256410255
         ]
        },
        {
         "hovertemplate": "<b>non-MM</b><br>XP ratio %{y:.2f}<br>CDF %{y:.2f}<extra></extra>",
         "legendgroup": "non-MM",
         "line": {
          "color": "#ff7f0e",
          "shape": "hv",
          "width": 2
         },
         "mode": "lines",
         "name": "non-MM",
         "type": "scatter",
         "x": [
          0,
          0.6854577991452993,
          0.7446581196581197,
          0.7610405982905984,
          0.7678321678321679,
          0.7761268953658536,
          0.7941979188742964,
          0.7969230553846154,
          0.7972612570356473,
          0.8138942307692308,
          0.8165230769230769,
          0.8250960634451612,
          0.8406593406593407,
          0.8506606920130274,
          0.856875,
          0.856875,
          0.856875,
          0.856875,
          0.856875,
          0.8572307907692308,
          0.8572307907692308,
          0.8591826923076923,
          0.8654278846153846,
          0.8709615599999999,
          0.8709615599999999,
          0.8754505494505496,
          0.8754505494505496,
          0.8754505494505496,
          0.8754505494505496,
          0.8754505494505496,
          0.8793424317617865,
          0.8849899402948718,
          0.8849899402948718,
          0.8849899402948718,
          0.8849899402948718,
          0.8849899402948718,
          0.8890558312655087,
          0.8965384615384616,
          0.9008758974358975,
          0.9041925558312657,
          0.9048120401337795,
          0.9079471153846153,
          0.9106250309999999,
          0.9157591973244147,
          0.9212233846153846,
          0.9249154085769232,
          0.9251383453564727,
          0.9251383453564727,
          0.9292307692307692,
          0.9361888111888111,
          0.9370148324444445,
          0.9482532291346157,
          0.9520604395604396,
          0.9527832167832169,
          0.9533968531468532,
          0.9545898887223265,
          0.9587838461538463,
          0.9592307692307693,
          0.9655564369846156,
          0.965623076923077,
          0.9656871555692307,
          0.9703635897435898,
          0.9707422367448405,
          0.97869760206379,
          0.9802447552447552,
          0.9871113846153847,
          0.9946256161600001,
          0.9949717741935485,
          0.9951373357417582,
          0.9954807692307692,
          0.9971153846153846,
          0.9980608696153848,
          0.9987148217636023,
          0.9995192307692309,
          1.0030375384615384,
          1.0210557419897437,
          1.0274519230769232,
          1.0288170163170163,
          1.0288170163170163,
          1.0294711538461538,
          1.0298076923076924,
          1.030111090833333,
          1.0317210512738462,
          1.0348475831707318,
          1.0370454545454546,
          1.038046153846154,
          1.0433132307692308,
          1.0444000224,
          1.0456989966555186,
          1.0489603108292682,
          1.0489603108292682,
          1.0504013682943143,
          1.0526923076923078,
          1.0534309169580418,
          1.0560866285452992,
          1.0568849860961538,
          1.0640400015009381,
          1.0650361305361307,
          1.0665180397083334,
          1.069846153846154,
          1.0768318122555411,
          1.082731153846154,
          1.08364372365,
          1.0855288202307691,
          1.0875,
          1.0902192307692309,
          1.0903846153846153,
          1.0922656686153847,
          1.093076923076923,
          1.093123563163077,
          1.0946341463414635,
          1.0972685439560441,
          1.10057325,
          1.1033099760150002,
          1.104533308,
          1.1155015508684865,
          1.1163461538461539,
          1.1166247534516764,
          1.1168166578232646,
          1.1242753286956524,
          1.125,
          1.1259205364000002,
          1.1259890109890112,
          1.1367602977667493,
          1.1370023748698226,
          1.1376923076923076,
          1.140719370374359,
          1.144614234972781,
          1.1469665247441068,
          1.1526646153846154,
          1.15344,
          1.1592741841491843,
          1.164250319902098,
          1.1663823221153846,
          1.1670814991111111,
          1.1684615384615384,
          1.1702104615384614,
          1.1712616965759848,
          1.1717823917448407,
          1.172657967032967,
          1.1734615384615383,
          1.1740854700854702,
          1.175181818181818,
          1.1780620347394541,
          1.1891235682237764,
          1.19109375,
          1.1975192307692308,
          1.2008371639220086,
          1.2041249714999998,
          1.206919471153846,
          1.2137412587412588,
          1.2210805860805862,
          1.2259090909090908,
          1.2266826923076923,
          1.2294871794871798,
          1.2315288461538463,
          1.2331730509615384,
          1.2351793478260868,
          1.2352198511166252,
          1.2367574441687343,
          1.2387784090909089,
          1.2422952261692308,
          1.2427243850000003,
          1.244553095684803,
          1.2503333333333333,
          1.2541420118343196,
          1.256110609369048,
          1.2646032150164104,
          1.2669230769230768,
          1.271453189102564,
          1.2782615198846152,
          1.2821055261919228,
          1.286261408083442,
          1.2945104895104897,
          1.2948923076923076,
          1.3178183431952666,
          1.3188958608461538,
          1.3295599507100593,
          1.3335200668896319,
          1.3336009615384616,
          1.3384615384615386,
          1.3473701201923078,
          1.3541666666666667,
          1.3748000301556778,
          1.3750582433566434,
          1.3757692307692306,
          1.3840909395104897,
          1.3863461538461537,
          1.3956019669565218,
          1.4009230546153846,
          1.4087959561204015,
          1.425164878681319,
          1.4355852842809365,
          1.4361738782051283,
          1.4367187124999998,
          1.4424615138461538,
          1.4475833720000002,
          1.476037292379808,
          1.5062323578595318,
          1.5165247252747254,
          1.5278234265734265,
          1.5315710480946747,
          1.5355896252728205,
          1.547508568621795,
          1.5489765886287625,
          1.5510033444816054,
          1.5665063557692307,
          1.5766692712615389,
          1.6013509615384616,
          1.6021082091807692,
          1.6229395137362637,
          1.6335950382051285,
          1.6480029275147927,
          1.698315976331361,
          1.8664914849519232,
          1.896955173846154,
          1.9090705428846153,
          3
         ],
         "y": [
          0,
          0.004629629629629629,
          0.009259259259259259,
          0.013888888888888888,
          0.018518518518518517,
          0.023148148148148147,
          0.027777777777777776,
          0.032407407407407406,
          0.037037037037037035,
          0.041666666666666664,
          0.046296296296296294,
          0.05092592592592592,
          0.05555555555555555,
          0.06018518518518518,
          0.06481481481481481,
          0.06944444444444445,
          0.07407407407407407,
          0.0787037037037037,
          0.08333333333333333,
          0.08796296296296297,
          0.09259259259259259,
          0.09722222222222222,
          0.10185185185185185,
          0.10648148148148148,
          0.1111111111111111,
          0.11574074074074074,
          0.12037037037037036,
          0.125,
          0.12962962962962962,
          0.13425925925925927,
          0.1388888888888889,
          0.14351851851851852,
          0.14814814814814814,
          0.1527777777777778,
          0.1574074074074074,
          0.16203703703703703,
          0.16666666666666666,
          0.1712962962962963,
          0.17592592592592593,
          0.18055555555555555,
          0.18518518518518517,
          0.18981481481481483,
          0.19444444444444445,
          0.19907407407407407,
          0.2037037037037037,
          0.20833333333333334,
          0.21296296296296297,
          0.2175925925925926,
          0.2222222222222222,
          0.22685185185185186,
          0.23148148148148148,
          0.2361111111111111,
          0.24074074074074073,
          0.24537037037037038,
          0.25,
          0.25462962962962965,
          0.25925925925925924,
          0.2638888888888889,
          0.26851851851851855,
          0.27314814814814814,
          0.2777777777777778,
          0.2824074074074074,
          0.28703703703703703,
          0.2916666666666667,
          0.2962962962962963,
          0.30092592592592593,
          0.3055555555555556,
          0.3101851851851852,
          0.3148148148148148,
          0.3194444444444444,
          0.32407407407407407,
          0.3287037037037037,
          0.3333333333333333,
          0.33796296296296297,
          0.3425925925925926,
          0.3472222222222222,
          0.35185185185185186,
          0.35648148148148145,
          0.3611111111111111,
          0.36574074074074076,
          0.37037037037037035,
          0.375,
          0.37962962962962965,
          0.38425925925925924,
          0.3888888888888889,
          0.39351851851851855,
          0.39814814814814814,
          0.4027777777777778,
          0.4074074074074074,
          0.41203703703703703,
          0.4166666666666667,
          0.4212962962962963,
          0.42592592592592593,
          0.4305555555555556,
          0.4351851851851852,
          0.4398148148148148,
          0.4444444444444444,
          0.44907407407407407,
          0.4537037037037037,
          0.4583333333333333,
          0.46296296296296297,
          0.4675925925925926,
          0.4722222222222222,
          0.47685185185185186,
          0.48148148148148145,
          0.4861111111111111,
          0.49074074074074076,
          0.49537037037037035,
          0.5,
          0.5046296296296297,
          0.5092592592592593,
          0.5138888888888888,
          0.5185185185185185,
          0.5231481481481481,
          0.5277777777777778,
          0.5324074074074074,
          0.5370370370370371,
          0.5416666666666666,
          0.5462962962962963,
          0.5509259259259259,
          0.5555555555555556,
          0.5601851851851852,
          0.5648148148148148,
          0.5694444444444444,
          0.5740740740740741,
          0.5787037037037037,
          0.5833333333333334,
          0.5879629629629629,
          0.5925925925925926,
          0.5972222222222222,
          0.6018518518518519,
          0.6064814814814815,
          0.6111111111111112,
          0.6157407407407407,
          0.6203703703703703,
          0.625,
          0.6296296296296297,
          0.6342592592592593,
          0.6388888888888888,
          0.6435185185185185,
          0.6481481481481481,
          0.6527777777777778,
          0.6574074074074074,
          0.6620370370370371,
          0.6666666666666666,
          0.6712962962962963,
          0.6759259259259259,
          0.6805555555555556,
          0.6851851851851852,
          0.6898148148148148,
          0.6944444444444444,
          0.6990740740740741,
          0.7037037037037037,
          0.7083333333333334,
          0.7129629629629629,
          0.7175925925925926,
          0.7222222222222222,
          0.7268518518518519,
          0.7314814814814815,
          0.7361111111111112,
          0.7407407407407407,
          0.7453703703703703,
          0.75,
          0.7546296296296297,
          0.7592592592592593,
          0.7638888888888888,
          0.7685185185185185,
          0.7731481481481481,
          0.7777777777777778,
          0.7824074074074074,
          0.7870370370370371,
          0.7916666666666666,
          0.7962962962962963,
          0.8009259259259259,
          0.8055555555555556,
          0.8101851851851852,
          0.8148148148148148,
          0.8194444444444444,
          0.8240740740740741,
          0.8287037037037037,
          0.8333333333333334,
          0.8379629629629629,
          0.8425925925925926,
          0.8472222222222222,
          0.8518518518518519,
          0.8564814814814815,
          0.8611111111111112,
          0.8657407407407407,
          0.8703703703703703,
          0.875,
          0.8796296296296297,
          0.8842592592592593,
          0.8888888888888888,
          0.8935185185185185,
          0.8981481481481481,
          0.9027777777777778,
          0.9074074074074074,
          0.9120370370370371,
          0.9166666666666666,
          0.9212962962962963,
          0.9259259259259259,
          0.9305555555555556,
          0.9351851851851852,
          0.9398148148148148,
          0.9444444444444444,
          0.9490740740740741,
          0.9537037037037037,
          0.9583333333333334,
          0.9629629629629629,
          0.9675925925925926,
          0.9722222222222222,
          0.9768518518518519,
          0.9814814814814815,
          0.9861111111111112,
          0.9907407407407407,
          0.9953703703703703,
          1,
          1.0046296296296295
         ]
        }
       ],
       "layout": {
        "height": 450,
        "legend": {
         "orientation": "v",
         "x": 1,
         "xanchor": "right",
         "y": 0,
         "yanchor": "bottom"
        },
        "template": {
         "layout": {
          "autosize": false,
          "font": {
           "family": "sans-serif",
           "size": 14
          },
          "hoverlabel": {
           "align": "left"
          },
          "hovermode": "closest",
          "margin": {
           "b": 55,
           "l": 60,
           "pad": 4,
           "r": 25,
           "t": 20
          },
          "template": {
           "data": {
            "bar": [
             {
              "error_x": {
               "color": "#2a3f5f"
              },
              "error_y": {
               "color": "#2a3f5f"
              },
              "marker": {
               "line": {
                "color": "white",
                "width": 0.5
               },
               "pattern": {
                "fillmode": "overlay",
                "size": 10,
                "solidity": 0.2
               }
              },
              "type": "bar"
             }
            ],
            "barpolar": [
             {
              "marker": {
               "line": {
                "color": "white",
                "width": 0.5
               },
               "pattern": {
                "fillmode": "overlay",
                "size": 10,
                "solidity": 0.2
               }
              },
              "type": "barpolar"
             }
            ],
            "carpet": [
             {
              "aaxis": {
               "endlinecolor": "#2a3f5f",
               "gridcolor": "#C8D4E3",
               "linecolor": "#C8D4E3",
               "minorgridcolor": "#C8D4E3",
               "startlinecolor": "#2a3f5f"
              },
              "baxis": {
               "endlinecolor": "#2a3f5f",
               "gridcolor": "#C8D4E3",
               "linecolor": "#C8D4E3",
               "minorgridcolor": "#C8D4E3",
               "startlinecolor": "#2a3f5f"
              },
              "type": "carpet"
             }
            ],
            "choropleth": [
             {
              "colorbar": {
               "outlinewidth": 0,
               "ticks": ""
              },
              "type": "choropleth"
             }
            ],
            "contour": [
             {
              "colorbar": {
               "outlinewidth": 0,
               "ticks": ""
              },
              "colorscale": [
               [
                0,
                "#0d0887"
               ],
               [
                0.1111111111111111,
                "#46039f"
               ],
               [
                0.2222222222222222,
                "#7201a8"
               ],
               [
                0.3333333333333333,
                "#9c179e"
               ],
               [
                0.4444444444444444,
                "#bd3786"
               ],
               [
                0.5555555555555556,
                "#d8576b"
               ],
               [
                0.6666666666666666,
                "#ed7953"
               ],
               [
                0.7777777777777778,
                "#fb9f3a"
               ],
               [
                0.8888888888888888,
                "#fdca26"
               ],
               [
                1,
                "#f0f921"
               ]
              ],
              "type": "contour"
             }
            ],
            "contourcarpet": [
             {
              "colorbar": {
               "outlinewidth": 0,
               "ticks": ""
              },
              "type": "contourcarpet"
             }
            ],
            "heatmap": [
             {
              "colorbar": {
               "outlinewidth": 0,
               "ticks": ""
              },
              "colorscale": [
               [
                0,
                "#0d0887"
               ],
               [
                0.1111111111111111,
                "#46039f"
               ],
               [
                0.2222222222222222,
                "#7201a8"
               ],
               [
                0.3333333333333333,
                "#9c179e"
               ],
               [
                0.4444444444444444,
                "#bd3786"
               ],
               [
                0.5555555555555556,
                "#d8576b"
               ],
               [
                0.6666666666666666,
                "#ed7953"
               ],
               [
                0.7777777777777778,
                "#fb9f3a"
               ],
               [
                0.8888888888888888,
                "#fdca26"
               ],
               [
                1,
                "#f0f921"
               ]
              ],
              "type": "heatmap"
             }
            ],
            "heatmapgl": [
             {
              "colorbar": {
               "outlinewidth": 0,
               "ticks": ""
              },
              "colorscale": [
               [
                0,
                "#0d0887"
               ],
               [
                0.1111111111111111,
                "#46039f"
               ],
               [
                0.2222222222222222,
                "#7201a8"
               ],
               [
                0.3333333333333333,
                "#9c179e"
               ],
               [
                0.4444444444444444,
                "#bd3786"
               ],
               [
                0.5555555555555556,
                "#d8576b"
               ],
               [
                0.6666666666666666,
                "#ed7953"
               ],
               [
                0.7777777777777778,
                "#fb9f3a"
               ],
               [
                0.8888888888888888,
                "#fdca26"
               ],
               [
                1,
                "#f0f921"
               ]
              ],
              "type": "heatmapgl"
             }
            ],
            "histogram": [
             {
              "marker": {
               "pattern": {
                "fillmode": "overlay",
                "size": 10,
                "solidity": 0.2
               }
              },
              "type": "histogram"
             }
            ],
            "histogram2d": [
             {
              "colorbar": {
               "outlinewidth": 0,
               "ticks": ""
              },
              "colorscale": [
               [
                0,
                "#0d0887"
               ],
               [
                0.1111111111111111,
                "#46039f"
               ],
               [
                0.2222222222222222,
                "#7201a8"
               ],
               [
                0.3333333333333333,
                "#9c179e"
               ],
               [
                0.4444444444444444,
                "#bd3786"
               ],
               [
                0.5555555555555556,
                "#d8576b"
               ],
               [
                0.6666666666666666,
                "#ed7953"
               ],
               [
                0.7777777777777778,
                "#fb9f3a"
               ],
               [
                0.8888888888888888,
                "#fdca26"
               ],
               [
                1,
                "#f0f921"
               ]
              ],
              "type": "histogram2d"
             }
            ],
            "histogram2dcontour": [
             {
              "colorbar": {
               "outlinewidth": 0,
               "ticks": ""
              },
              "colorscale": [
               [
                0,
                "#0d0887"
               ],
               [
                0.1111111111111111,
                "#46039f"
               ],
               [
                0.2222222222222222,
                "#7201a8"
               ],
               [
                0.3333333333333333,
                "#9c179e"
               ],
               [
                0.4444444444444444,
                "#bd3786"
               ],
               [
                0.5555555555555556,
                "#d8576b"
               ],
               [
                0.6666666666666666,
                "#ed7953"
               ],
               [
                0.7777777777777778,
                "#fb9f3a"
               ],
               [
                0.8888888888888888,
                "#fdca26"
               ],
               [
                1,
                "#f0f921"
               ]
              ],
              "type": "histogram2dcontour"
             }
            ],
            "mesh3d": [
             {
              "colorbar": {
               "outlinewidth": 0,
               "ticks": ""
              },
              "type": "mesh3d"
             }
            ],
            "parcoords": [
             {
              "line": {
               "colorbar": {
                "outlinewidth": 0,
                "ticks": ""
               }
              },
              "type": "parcoords"
             }
            ],
            "pie": [
             {
              "automargin": true,
              "type": "pie"
             }
            ],
            "scatter": [
             {
              "fillpattern": {
               "fillmode": "overlay",
               "size": 10,
               "solidity": 0.2
              },
              "type": "scatter"
             }
            ],
            "scatter3d": [
             {
              "line": {
               "colorbar": {
                "outlinewidth": 0,
                "ticks": ""
               }
              },
              "marker": {
               "colorbar": {
                "outlinewidth": 0,
                "ticks": ""
               }
              },
              "type": "scatter3d"
             }
            ],
            "scattercarpet": [
             {
              "marker": {
               "colorbar": {
                "outlinewidth": 0,
                "ticks": ""
               }
              },
              "type": "scattercarpet"
             }
            ],
            "scattergeo": [
             {
              "marker": {
               "colorbar": {
                "outlinewidth": 0,
                "ticks": ""
               }
              },
              "type": "scattergeo"
             }
            ],
            "scattergl": [
             {
              "marker": {
               "colorbar": {
                "outlinewidth": 0,
                "ticks": ""
               }
              },
              "type": "scattergl"
             }
            ],
            "scattermapbox": [
             {
              "marker": {
               "colorbar": {
                "outlinewidth": 0,
                "ticks": ""
               }
              },
              "type": "scattermapbox"
             }
            ],
            "scatterpolar": [
             {
              "marker": {
               "colorbar": {
                "outlinewidth": 0,
                "ticks": ""
               }
              },
              "type": "scatterpolar"
             }
            ],
            "scatterpolargl": [
             {
              "marker": {
               "colorbar": {
                "outlinewidth": 0,
                "ticks": ""
               }
              },
              "type": "scatterpolargl"
             }
            ],
            "scatterternary": [
             {
              "marker": {
               "colorbar": {
                "outlinewidth": 0,
                "ticks": ""
               }
              },
              "type": "scatterternary"
             }
            ],
            "surface": [
             {
              "colorbar": {
               "outlinewidth": 0,
               "ticks": ""
              },
              "colorscale": [
               [
                0,
                "#0d0887"
               ],
               [
                0.1111111111111111,
                "#46039f"
               ],
               [
                0.2222222222222222,
                "#7201a8"
               ],
               [
                0.3333333333333333,
                "#9c179e"
               ],
               [
                0.4444444444444444,
                "#bd3786"
               ],
               [
                0.5555555555555556,
                "#d8576b"
               ],
               [
                0.6666666666666666,
                "#ed7953"
               ],
               [
                0.7777777777777778,
                "#fb9f3a"
               ],
               [
                0.8888888888888888,
                "#fdca26"
               ],
               [
                1,
                "#f0f921"
               ]
              ],
              "type": "surface"
             }
            ],
            "table": [
             {
              "cells": {
               "fill": {
                "color": "#EBF0F8"
               },
               "line": {
                "color": "white"
               }
              },
              "header": {
               "fill": {
                "color": "#C8D4E3"
               },
               "line": {
                "color": "white"
               }
              },
              "type": "table"
             }
            ]
           },
           "layout": {
            "annotationdefaults": {
             "arrowcolor": "#2a3f5f",
             "arrowhead": 0,
             "arrowwidth": 1
            },
            "autotypenumbers": "strict",
            "coloraxis": {
             "colorbar": {
              "outlinewidth": 0,
              "ticks": ""
             }
            },
            "colorscale": {
             "diverging": [
              [
               0,
               "#8e0152"
              ],
              [
               0.1,
               "#c51b7d"
              ],
              [
               0.2,
               "#de77ae"
              ],
              [
               0.3,
               "#f1b6da"
              ],
              [
               0.4,
               "#fde0ef"
              ],
              [
               0.5,
               "#f7f7f7"
              ],
              [
               0.6,
               "#e6f5d0"
              ],
              [
               0.7,
               "#b8e186"
              ],
              [
               0.8,
               "#7fbc41"
              ],
              [
               0.9,
               "#4d9221"
              ],
              [
               1,
               "#276419"
              ]
             ],
             "sequential": [
              [
               0,
               "#0d0887"
              ],
              [
               0.1111111111111111,
               "#46039f"
              ],
              [
               0.2222222222222222,
               "#7201a8"
              ],
              [
               0.3333333333333333,
               "#9c179e"
              ],
              [
               0.4444444444444444,
               "#bd3786"
              ],
              [
               0.5555555555555556,
               "#d8576b"
              ],
              [
               0.6666666666666666,
               "#ed7953"
              ],
              [
               0.7777777777777778,
               "#fb9f3a"
              ],
              [
               0.8888888888888888,
               "#fdca26"
              ],
              [
               1,
               "#f0f921"
              ]
             ],
             "sequentialminus": [
              [
               0,
               "#0d0887"
              ],
              [
               0.1111111111111111,
               "#46039f"
              ],
              [
               0.2222222222222222,
               "#7201a8"
              ],
              [
               0.3333333333333333,
               "#9c179e"
              ],
              [
               0.4444444444444444,
               "#bd3786"
              ],
              [
               0.5555555555555556,
               "#d8576b"
              ],
              [
               0.6666666666666666,
               "#ed7953"
              ],
              [
               0.7777777777777778,
               "#fb9f3a"
              ],
              [
               0.8888888888888888,
               "#fdca26"
              ],
              [
               1,
               "#f0f921"
              ]
             ]
            },
            "colorway": [
             "#636efa",
             "#EF553B",
             "#00cc96",
             "#ab63fa",
             "#FFA15A",
             "#19d3f3",
             "#FF6692",
             "#B6E880",
             "#FF97FF",
             "#FECB52"
            ],
            "font": {
             "color": "#2a3f5f"
            },
            "geo": {
             "bgcolor": "white",
             "lakecolor": "white",
             "landcolor": "white",
             "showlakes": true,
             "showland": true,
             "subunitcolor": "#C8D4E3"
            },
            "hoverlabel": {
             "align": "left"
            },
            "hovermode": "closest",
            "mapbox": {
             "style": "light"
            },
            "paper_bgcolor": "white",
            "plot_bgcolor": "white",
            "polar": {
             "angularaxis": {
              "gridcolor": "#EBF0F8",
              "linecolor": "#EBF0F8",
              "ticks": ""
             },
             "bgcolor": "white",
             "radialaxis": {
              "gridcolor": "#EBF0F8",
              "linecolor": "#EBF0F8",
              "ticks": ""
             }
            },
            "scene": {
             "xaxis": {
              "backgroundcolor": "white",
              "gridcolor": "#DFE8F3",
              "gridwidth": 2,
              "linecolor": "#EBF0F8",
              "showbackground": true,
              "ticks": "",
              "zerolinecolor": "#EBF0F8"
             },
             "yaxis": {
              "backgroundcolor": "white",
              "gridcolor": "#DFE8F3",
              "gridwidth": 2,
              "linecolor": "#EBF0F8",
              "showbackground": true,
              "ticks": "",
              "zerolinecolor": "#EBF0F8"
             },
             "zaxis": {
              "backgroundcolor": "white",
              "gridcolor": "#DFE8F3",
              "gridwidth": 2,
              "linecolor": "#EBF0F8",
              "showbackground": true,
              "ticks": "",
              "zerolinecolor": "#EBF0F8"
             }
            },
            "shapedefaults": {
             "line": {
              "color": "#2a3f5f"
             }
            },
            "ternary": {
             "aaxis": {
              "gridcolor": "#DFE8F3",
              "linecolor": "#A2B1C6",
              "ticks": ""
             },
             "baxis": {
              "gridcolor": "#DFE8F3",
              "linecolor": "#A2B1C6",
              "ticks": ""
             },
             "bgcolor": "white",
             "caxis": {
              "gridcolor": "#DFE8F3",
              "linecolor": "#A2B1C6",
              "ticks": ""
             }
            },
            "title": {
             "x": 0.05
            },
            "xaxis": {
             "automargin": true,
             "gridcolor": "#EBF0F8",
             "linecolor": "#EBF0F8",
             "ticks": "",
             "title": {
              "standoff": 15
             },
             "zerolinecolor": "#EBF0F8",
             "zerolinewidth": 2
            },
            "yaxis": {
             "automargin": true,
             "gridcolor": "#EBF0F8",
             "linecolor": "#EBF0F8",
             "ticks": "",
             "title": {
              "standoff": 15
             },
             "zerolinecolor": "#EBF0F8",
             "zerolinewidth": 2
            }
           }
          },
          "xaxis": {
           "automargin": false,
           "linecolor": "#444",
           "linewidth": 2,
           "minor": {
            "tickmode": "linear",
            "ticks": "outside"
           },
           "mirror": true,
           "showline": true,
           "tickmode": "linear",
           "ticks": "outside",
           "zeroline": false
          },
          "yaxis": {
           "automargin": true,
           "linecolor": "#444",
           "linewidth": 2,
           "minor": {
            "tickmode": "linear",
            "ticks": "outside"
           },
           "mirror": true,
           "showline": true,
           "ticks": "outside",
           "zeroline": false
          }
         }
        },
        "width": 600,
        "xaxis": {
         "dtick": 0.5,
         "minor": {
          "dtick": 0.25,
          "tick0": 0
         },
         "range": [
          0.5,
          2.5
         ],
         "tick0": 0,
         "tickformat": ".1f",
         "title": {
          "text": "calculated XP ratio"
         }
        },
        "yaxis": {
         "dtick": 0.2,
         "minor": {
          "dtick": 0.1,
          "tick0": 0
         },
         "range": [
          -0.01,
          1.01
         ],
         "tick0": 0,
         "tickformat": ".1f",
         "title": {
          "text": "CDF"
         }
        }
       }
      }
     },
     "metadata": {},
     "output_type": "display_data"
    }
   ],
   "source": [
    "# plot CDF of eXP Ratio for different source books\n",
    "plotColumn = 'eXP Ratio'\n",
    "groups = {\n",
    "    'MM': {'Book': ['MM'], 'color': '#1f77b4'},\n",
    "    'non-MM': {'Book': ['VGtM','MToF','GGtR','ERftLW','EGtW','MOoT','VRGtR','FToD','SaCoC','MPMotM','SAiS:BAM','BPGotG','PAitM:MPP','TBoMT'], 'color': '#ff7f0e'}\n",
    "}\n",
    "\n",
    "df1 = df0[df0['CR'].between(1,30) & df0['Book Type'].isin(['Source']) & df0['Legendary'].isin(['L','LL'])]\n",
    "df1['Book'] = df1['Book'].cat.remove_unused_categories()\n",
    "\n",
    "\n",
    "rMin = 0.5; rMax = 3; rDel = 0.05\n",
    "rLims = [rMin - rDel/2, rMax + rDel/2]\n",
    "rRange = np.linspace(rMin - rDel/2, rMax + rDel/2, int(round((rMax - rMin)/rDel)) + 2)\n",
    "\n",
    "# plot results\n",
    "fig = go.Figure(\n",
    "    layout=go.Layout(\n",
    "        template=tfb.FIG_TEMPLATE,\n",
    "        xaxis=dict(\n",
    "            title_text='calculated XP ratio',\n",
    "            range=[0.5,2.5],\n",
    "            tick0=0, dtick=0.5, tickformat='.1f',\n",
    "            minor=dict(tick0=0, dtick=0.25),\n",
    "        ),\n",
    "        yaxis=dict(\n",
    "            title_text='CDF',\n",
    "            range=[-0.01, 1.01],\n",
    "            tick0=0, dtick=0.2,\n",
    "            tickformat='.1f',\n",
    "            minor=dict(tick0=0, dtick=0.1),\n",
    "        ),\n",
    "        legend=dict(\n",
    "            yanchor='bottom',  y=0.00,\n",
    "            xanchor='right', x=1.00,\n",
    "            orientation='v',\n",
    "        ),\n",
    "    )\n",
    ")\n",
    "\n",
    "for b in groups['non-MM']['Book']:\n",
    "    x = df1[df1['Book'].isin([b])][plotColumn].to_numpy()\n",
    "    if len(x) == 0:\n",
    "        continue\n",
    "    x = np.append(np.insert(np.sort(x), 0, 0.0), 3.0)\n",
    "    y = np.array(range(0,len(x)))/(len(x)-2)\n",
    "    fig.add_trace(go.Scatter(\n",
    "        x=x, \n",
    "        y=y,\n",
    "        mode='lines',\n",
    "        name=b,\n",
    "        legendgroup='non-MM',\n",
    "        showlegend=False,\n",
    "        line_shape='hv',\n",
    "        line_width=0.5,\n",
    "        line_color=groups['non-MM']['color'],\n",
    "        hovertemplate = '<b>'+b+'</b><br>'\n",
    "            + 'XP ratio %{y:.2f}<br>'\n",
    "            + 'CDF %{y:.2f}'\n",
    "            + '<extra></extra>',\n",
    "    ))\n",
    "\n",
    "for g in groups:\n",
    "    x = df1[df1['Book'].isin(groups[g]['Book'])][plotColumn].to_numpy()\n",
    "    x = np.append(np.insert(np.sort(x), 0, 0.0), 3.0)\n",
    "    y = np.array(range(0,len(x)))/(len(x)-2)\n",
    "    fig.add_trace(go.Scatter(\n",
    "        x=x, \n",
    "        y=y,\n",
    "        mode='lines',\n",
    "        name=g,\n",
    "        legendgroup=g,\n",
    "        line_shape='hv',\n",
    "        line_width=2.0,\n",
    "        line_color=groups[g]['color'],\n",
    "        hovertemplate = '<b>'+g+'</b><br>'\n",
    "            + 'XP ratio %{y:.2f}<br>'\n",
    "            + 'CDF %{y:.2f}'\n",
    "            + '<extra></extra>',\n",
    "    ))\n",
    "\n",
    "# show figure\n",
    "fig.update_layout(width=600, height=450)\n",
    "fig.show(config=tfb.FIG_CONFIG)\n",
    "\n",
    "# save figures\n",
    "if SAVEFIGS:\n",
    "    fig.update_layout(autosize=True, width=None, height=None)\n",
    "    tfb.save_fig_html(fig, format='large', name='fig-exp-ratio-cdf-mm-vs-source-books-large', style='aspect-ratio: 600/500;')\n",
    "    tfb.save_fig_html(fig, format='small', name='fig-exp-ratio-cdf-mm-vs-source-books-small', style='aspect-ratio: 600/550;')"
   ]
  },
  {
   "cell_type": "code",
   "execution_count": 24,
   "metadata": {},
   "outputs": [
    {
     "data": {
      "application/vnd.plotly.v1+json": {
       "config": {
        "autosizable": true,
        "displayModeBar": "hover",
        "displaylogo": false,
        "modeBarButtonsToRemove": [
         "select2d",
         "lasso2d",
         "zoom2d",
         "zoomIn2d",
         "zoomOut2d",
         "pan2d",
         "autoScale2d",
         "hoverClosestCartesian",
         "hoverCompareCartesian",
         "toggleSpikelines",
         "resetScale2d"
        ],
        "plotlyServerURL": "https://plot.ly",
        "responsive": true,
        "showAxisDragHandles": false,
        "toImageButtonOptions": {
         "filename": "tfb-plot",
         "format": "png",
         "height": 450,
         "scale": 2,
         "width": 600
        }
       },
       "data": [
        {
         "customdata": [
          [
           "Aboleth",
           "MM"
          ],
          [
           "Beholder",
           "MM"
          ],
          [
           "Beholder",
           "MM"
          ],
          [
           "Death Tyrant",
           "MM"
          ],
          [
           "Death Tyrant",
           "MM"
          ],
          [
           "Demilich",
           "MM"
          ],
          [
           "Demilich",
           "MM"
          ],
          [
           "Dracolich, Blue Adult",
           "MM"
          ],
          [
           "Empyrean",
           "MM"
          ],
          [
           "Kraken",
           "MM"
          ],
          [
           "Mummy Lord",
           "MM"
          ],
          [
           "Mummy Lord",
           "MM"
          ],
          [
           "Solar",
           "MM"
          ],
          [
           "Sphinx, Androsphinx",
           "MM"
          ],
          [
           "Sphinx, Gynosphinx",
           "MM"
          ],
          [
           "Tarrasque",
           "MM"
          ],
          [
           "Vampire",
           "MM"
          ],
          [
           "Vampire Spellcaster",
           "MM"
          ],
          [
           "Vampire Warrior",
           "MM"
          ]
         ],
         "hovertemplate": "<b>%{customdata[0]}</b><br>Book: %{customdata[1]}<br>CR: %{x:.0f}<br>XP ratio: %{y:.2f}<br><extra></extra>",
         "marker": {
          "color": "#1f77b4",
          "line": {
           "color": "#1f77b4",
           "width": 2
          },
          "size": 8
         },
         "mode": "markers",
         "name": "non-dragons",
         "type": "scatter",
         "x": [
          10,
          13,
          14,
          14,
          15,
          18,
          20,
          17,
          23,
          23,
          15,
          16,
          21,
          17,
          11,
          30,
          13,
          15,
          15
         ],
         "y": [
          1.1211864406779661,
          1.2274,
          1.4204565217391305,
          1.2792642140468227,
          1.506102071005917,
          0.8971684615384614,
          0.8376770769230767,
          1.4417307692307693,
          1.1651990008407695,
          2.2556153846153846,
          0.9461804733727812,
          1.047899979,
          0.678020979020979,
          0.840231623931624,
          0.8263888888888891,
          1.09001355035732,
          0.8834134615384616,
          0.8471708398668638,
          0.6898779585798818
         ]
        },
        {
         "customdata": [
          [
           "Black Dragon, Adult",
           "MM"
          ],
          [
           "Black Dragon, Ancient",
           "MM"
          ],
          [
           "Blue Dragon, Adult",
           "MM"
          ],
          [
           "Blue Dragon, Ancient",
           "MM"
          ],
          [
           "Brass Dragon, Adult",
           "MM"
          ],
          [
           "Brass Dragon, Ancient",
           "MM"
          ],
          [
           "Bronze Dragon, Adult",
           "MM"
          ],
          [
           "Bronze Dragon, Ancient",
           "MM"
          ],
          [
           "Copper Dragon, Adult",
           "MM"
          ],
          [
           "Copper Dragon, Ancient",
           "MM"
          ],
          [
           "Gold Dragon, Adult",
           "MM"
          ],
          [
           "Gold Dragon, Ancient",
           "MM"
          ],
          [
           "Green Dragon, Adult",
           "MM"
          ],
          [
           "Green Dragon, Ancient",
           "MM"
          ],
          [
           "Red Dragon, Adult",
           "MM"
          ],
          [
           "Red Dragon, Ancient",
           "MM"
          ],
          [
           "Silver Dragon, Adult",
           "MM"
          ],
          [
           "Silver Dragon, Ancient",
           "MM"
          ],
          [
           "White Dragon, Adult",
           "MM"
          ],
          [
           "White Dragon, Ancient",
           "MM"
          ]
         ],
         "hovertemplate": "<b>%{customdata[0]}</b><br>Book: %{customdata[1]}<br>CR: %{x:.0f}<br>XP ratio: %{y:.2f}<br><extra></extra>",
         "marker": {
          "color": "#ff7f0e",
          "line": {
           "color": "#ff7f0e",
           "width": 2
          },
          "size": 8
         },
         "mode": "markers",
         "name": "dragons",
         "type": "scatter",
         "x": [
          14,
          21,
          16,
          23,
          13,
          20,
          15,
          22,
          14,
          21,
          17,
          24,
          15,
          22,
          17,
          24,
          16,
          23,
          13,
          20
         ],
         "y": [
          1.5679765505016723,
          1.4550674376631705,
          1.5774230769230768,
          1.4816784615384615,
          1.5147294482153846,
          1.2967476923076924,
          1.7494516384970413,
          1.497470887598499,
          1.4572095520802673,
          1.3446154153846155,
          1.5573696255897433,
          1.251681141439206,
          1.5245413849704141,
          1.4506941562851783,
          1.5898995319871791,
          1.3668871224193548,
          1.6712615748923079,
          1.37037497115,
          1.8167756841538463,
          1.7147769230769232
         ]
        },
        {
         "hoverinfo": "skip",
         "line": {
          "color": "black",
          "dash": "dash"
         },
         "mode": "lines",
         "showlegend": false,
         "type": "scatter",
         "x": [
          10,
          30
         ],
         "y": [
          1,
          1
         ]
        }
       ],
       "layout": {
        "height": 450,
        "legend": {
         "orientation": "v",
         "x": 0,
         "xanchor": "left",
         "y": 0,
         "yanchor": "bottom"
        },
        "template": {
         "layout": {
          "autosize": false,
          "font": {
           "family": "sans-serif",
           "size": 14
          },
          "hoverlabel": {
           "align": "left"
          },
          "hovermode": "closest",
          "margin": {
           "b": 55,
           "l": 60,
           "pad": 4,
           "r": 25,
           "t": 20
          },
          "template": {
           "data": {
            "bar": [
             {
              "error_x": {
               "color": "#2a3f5f"
              },
              "error_y": {
               "color": "#2a3f5f"
              },
              "marker": {
               "line": {
                "color": "white",
                "width": 0.5
               },
               "pattern": {
                "fillmode": "overlay",
                "size": 10,
                "solidity": 0.2
               }
              },
              "type": "bar"
             }
            ],
            "barpolar": [
             {
              "marker": {
               "line": {
                "color": "white",
                "width": 0.5
               },
               "pattern": {
                "fillmode": "overlay",
                "size": 10,
                "solidity": 0.2
               }
              },
              "type": "barpolar"
             }
            ],
            "carpet": [
             {
              "aaxis": {
               "endlinecolor": "#2a3f5f",
               "gridcolor": "#C8D4E3",
               "linecolor": "#C8D4E3",
               "minorgridcolor": "#C8D4E3",
               "startlinecolor": "#2a3f5f"
              },
              "baxis": {
               "endlinecolor": "#2a3f5f",
               "gridcolor": "#C8D4E3",
               "linecolor": "#C8D4E3",
               "minorgridcolor": "#C8D4E3",
               "startlinecolor": "#2a3f5f"
              },
              "type": "carpet"
             }
            ],
            "choropleth": [
             {
              "colorbar": {
               "outlinewidth": 0,
               "ticks": ""
              },
              "type": "choropleth"
             }
            ],
            "contour": [
             {
              "colorbar": {
               "outlinewidth": 0,
               "ticks": ""
              },
              "colorscale": [
               [
                0,
                "#0d0887"
               ],
               [
                0.1111111111111111,
                "#46039f"
               ],
               [
                0.2222222222222222,
                "#7201a8"
               ],
               [
                0.3333333333333333,
                "#9c179e"
               ],
               [
                0.4444444444444444,
                "#bd3786"
               ],
               [
                0.5555555555555556,
                "#d8576b"
               ],
               [
                0.6666666666666666,
                "#ed7953"
               ],
               [
                0.7777777777777778,
                "#fb9f3a"
               ],
               [
                0.8888888888888888,
                "#fdca26"
               ],
               [
                1,
                "#f0f921"
               ]
              ],
              "type": "contour"
             }
            ],
            "contourcarpet": [
             {
              "colorbar": {
               "outlinewidth": 0,
               "ticks": ""
              },
              "type": "contourcarpet"
             }
            ],
            "heatmap": [
             {
              "colorbar": {
               "outlinewidth": 0,
               "ticks": ""
              },
              "colorscale": [
               [
                0,
                "#0d0887"
               ],
               [
                0.1111111111111111,
                "#46039f"
               ],
               [
                0.2222222222222222,
                "#7201a8"
               ],
               [
                0.3333333333333333,
                "#9c179e"
               ],
               [
                0.4444444444444444,
                "#bd3786"
               ],
               [
                0.5555555555555556,
                "#d8576b"
               ],
               [
                0.6666666666666666,
                "#ed7953"
               ],
               [
                0.7777777777777778,
                "#fb9f3a"
               ],
               [
                0.8888888888888888,
                "#fdca26"
               ],
               [
                1,
                "#f0f921"
               ]
              ],
              "type": "heatmap"
             }
            ],
            "heatmapgl": [
             {
              "colorbar": {
               "outlinewidth": 0,
               "ticks": ""
              },
              "colorscale": [
               [
                0,
                "#0d0887"
               ],
               [
                0.1111111111111111,
                "#46039f"
               ],
               [
                0.2222222222222222,
                "#7201a8"
               ],
               [
                0.3333333333333333,
                "#9c179e"
               ],
               [
                0.4444444444444444,
                "#bd3786"
               ],
               [
                0.5555555555555556,
                "#d8576b"
               ],
               [
                0.6666666666666666,
                "#ed7953"
               ],
               [
                0.7777777777777778,
                "#fb9f3a"
               ],
               [
                0.8888888888888888,
                "#fdca26"
               ],
               [
                1,
                "#f0f921"
               ]
              ],
              "type": "heatmapgl"
             }
            ],
            "histogram": [
             {
              "marker": {
               "pattern": {
                "fillmode": "overlay",
                "size": 10,
                "solidity": 0.2
               }
              },
              "type": "histogram"
             }
            ],
            "histogram2d": [
             {
              "colorbar": {
               "outlinewidth": 0,
               "ticks": ""
              },
              "colorscale": [
               [
                0,
                "#0d0887"
               ],
               [
                0.1111111111111111,
                "#46039f"
               ],
               [
                0.2222222222222222,
                "#7201a8"
               ],
               [
                0.3333333333333333,
                "#9c179e"
               ],
               [
                0.4444444444444444,
                "#bd3786"
               ],
               [
                0.5555555555555556,
                "#d8576b"
               ],
               [
                0.6666666666666666,
                "#ed7953"
               ],
               [
                0.7777777777777778,
                "#fb9f3a"
               ],
               [
                0.8888888888888888,
                "#fdca26"
               ],
               [
                1,
                "#f0f921"
               ]
              ],
              "type": "histogram2d"
             }
            ],
            "histogram2dcontour": [
             {
              "colorbar": {
               "outlinewidth": 0,
               "ticks": ""
              },
              "colorscale": [
               [
                0,
                "#0d0887"
               ],
               [
                0.1111111111111111,
                "#46039f"
               ],
               [
                0.2222222222222222,
                "#7201a8"
               ],
               [
                0.3333333333333333,
                "#9c179e"
               ],
               [
                0.4444444444444444,
                "#bd3786"
               ],
               [
                0.5555555555555556,
                "#d8576b"
               ],
               [
                0.6666666666666666,
                "#ed7953"
               ],
               [
                0.7777777777777778,
                "#fb9f3a"
               ],
               [
                0.8888888888888888,
                "#fdca26"
               ],
               [
                1,
                "#f0f921"
               ]
              ],
              "type": "histogram2dcontour"
             }
            ],
            "mesh3d": [
             {
              "colorbar": {
               "outlinewidth": 0,
               "ticks": ""
              },
              "type": "mesh3d"
             }
            ],
            "parcoords": [
             {
              "line": {
               "colorbar": {
                "outlinewidth": 0,
                "ticks": ""
               }
              },
              "type": "parcoords"
             }
            ],
            "pie": [
             {
              "automargin": true,
              "type": "pie"
             }
            ],
            "scatter": [
             {
              "fillpattern": {
               "fillmode": "overlay",
               "size": 10,
               "solidity": 0.2
              },
              "type": "scatter"
             }
            ],
            "scatter3d": [
             {
              "line": {
               "colorbar": {
                "outlinewidth": 0,
                "ticks": ""
               }
              },
              "marker": {
               "colorbar": {
                "outlinewidth": 0,
                "ticks": ""
               }
              },
              "type": "scatter3d"
             }
            ],
            "scattercarpet": [
             {
              "marker": {
               "colorbar": {
                "outlinewidth": 0,
                "ticks": ""
               }
              },
              "type": "scattercarpet"
             }
            ],
            "scattergeo": [
             {
              "marker": {
               "colorbar": {
                "outlinewidth": 0,
                "ticks": ""
               }
              },
              "type": "scattergeo"
             }
            ],
            "scattergl": [
             {
              "marker": {
               "colorbar": {
                "outlinewidth": 0,
                "ticks": ""
               }
              },
              "type": "scattergl"
             }
            ],
            "scattermapbox": [
             {
              "marker": {
               "colorbar": {
                "outlinewidth": 0,
                "ticks": ""
               }
              },
              "type": "scattermapbox"
             }
            ],
            "scatterpolar": [
             {
              "marker": {
               "colorbar": {
                "outlinewidth": 0,
                "ticks": ""
               }
              },
              "type": "scatterpolar"
             }
            ],
            "scatterpolargl": [
             {
              "marker": {
               "colorbar": {
                "outlinewidth": 0,
                "ticks": ""
               }
              },
              "type": "scatterpolargl"
             }
            ],
            "scatterternary": [
             {
              "marker": {
               "colorbar": {
                "outlinewidth": 0,
                "ticks": ""
               }
              },
              "type": "scatterternary"
             }
            ],
            "surface": [
             {
              "colorbar": {
               "outlinewidth": 0,
               "ticks": ""
              },
              "colorscale": [
               [
                0,
                "#0d0887"
               ],
               [
                0.1111111111111111,
                "#46039f"
               ],
               [
                0.2222222222222222,
                "#7201a8"
               ],
               [
                0.3333333333333333,
                "#9c179e"
               ],
               [
                0.4444444444444444,
                "#bd3786"
               ],
               [
                0.5555555555555556,
                "#d8576b"
               ],
               [
                0.6666666666666666,
                "#ed7953"
               ],
               [
                0.7777777777777778,
                "#fb9f3a"
               ],
               [
                0.8888888888888888,
                "#fdca26"
               ],
               [
                1,
                "#f0f921"
               ]
              ],
              "type": "surface"
             }
            ],
            "table": [
             {
              "cells": {
               "fill": {
                "color": "#EBF0F8"
               },
               "line": {
                "color": "white"
               }
              },
              "header": {
               "fill": {
                "color": "#C8D4E3"
               },
               "line": {
                "color": "white"
               }
              },
              "type": "table"
             }
            ]
           },
           "layout": {
            "annotationdefaults": {
             "arrowcolor": "#2a3f5f",
             "arrowhead": 0,
             "arrowwidth": 1
            },
            "autotypenumbers": "strict",
            "coloraxis": {
             "colorbar": {
              "outlinewidth": 0,
              "ticks": ""
             }
            },
            "colorscale": {
             "diverging": [
              [
               0,
               "#8e0152"
              ],
              [
               0.1,
               "#c51b7d"
              ],
              [
               0.2,
               "#de77ae"
              ],
              [
               0.3,
               "#f1b6da"
              ],
              [
               0.4,
               "#fde0ef"
              ],
              [
               0.5,
               "#f7f7f7"
              ],
              [
               0.6,
               "#e6f5d0"
              ],
              [
               0.7,
               "#b8e186"
              ],
              [
               0.8,
               "#7fbc41"
              ],
              [
               0.9,
               "#4d9221"
              ],
              [
               1,
               "#276419"
              ]
             ],
             "sequential": [
              [
               0,
               "#0d0887"
              ],
              [
               0.1111111111111111,
               "#46039f"
              ],
              [
               0.2222222222222222,
               "#7201a8"
              ],
              [
               0.3333333333333333,
               "#9c179e"
              ],
              [
               0.4444444444444444,
               "#bd3786"
              ],
              [
               0.5555555555555556,
               "#d8576b"
              ],
              [
               0.6666666666666666,
               "#ed7953"
              ],
              [
               0.7777777777777778,
               "#fb9f3a"
              ],
              [
               0.8888888888888888,
               "#fdca26"
              ],
              [
               1,
               "#f0f921"
              ]
             ],
             "sequentialminus": [
              [
               0,
               "#0d0887"
              ],
              [
               0.1111111111111111,
               "#46039f"
              ],
              [
               0.2222222222222222,
               "#7201a8"
              ],
              [
               0.3333333333333333,
               "#9c179e"
              ],
              [
               0.4444444444444444,
               "#bd3786"
              ],
              [
               0.5555555555555556,
               "#d8576b"
              ],
              [
               0.6666666666666666,
               "#ed7953"
              ],
              [
               0.7777777777777778,
               "#fb9f3a"
              ],
              [
               0.8888888888888888,
               "#fdca26"
              ],
              [
               1,
               "#f0f921"
              ]
             ]
            },
            "colorway": [
             "#636efa",
             "#EF553B",
             "#00cc96",
             "#ab63fa",
             "#FFA15A",
             "#19d3f3",
             "#FF6692",
             "#B6E880",
             "#FF97FF",
             "#FECB52"
            ],
            "font": {
             "color": "#2a3f5f"
            },
            "geo": {
             "bgcolor": "white",
             "lakecolor": "white",
             "landcolor": "white",
             "showlakes": true,
             "showland": true,
             "subunitcolor": "#C8D4E3"
            },
            "hoverlabel": {
             "align": "left"
            },
            "hovermode": "closest",
            "mapbox": {
             "style": "light"
            },
            "paper_bgcolor": "white",
            "plot_bgcolor": "white",
            "polar": {
             "angularaxis": {
              "gridcolor": "#EBF0F8",
              "linecolor": "#EBF0F8",
              "ticks": ""
             },
             "bgcolor": "white",
             "radialaxis": {
              "gridcolor": "#EBF0F8",
              "linecolor": "#EBF0F8",
              "ticks": ""
             }
            },
            "scene": {
             "xaxis": {
              "backgroundcolor": "white",
              "gridcolor": "#DFE8F3",
              "gridwidth": 2,
              "linecolor": "#EBF0F8",
              "showbackground": true,
              "ticks": "",
              "zerolinecolor": "#EBF0F8"
             },
             "yaxis": {
              "backgroundcolor": "white",
              "gridcolor": "#DFE8F3",
              "gridwidth": 2,
              "linecolor": "#EBF0F8",
              "showbackground": true,
              "ticks": "",
              "zerolinecolor": "#EBF0F8"
             },
             "zaxis": {
              "backgroundcolor": "white",
              "gridcolor": "#DFE8F3",
              "gridwidth": 2,
              "linecolor": "#EBF0F8",
              "showbackground": true,
              "ticks": "",
              "zerolinecolor": "#EBF0F8"
             }
            },
            "shapedefaults": {
             "line": {
              "color": "#2a3f5f"
             }
            },
            "ternary": {
             "aaxis": {
              "gridcolor": "#DFE8F3",
              "linecolor": "#A2B1C6",
              "ticks": ""
             },
             "baxis": {
              "gridcolor": "#DFE8F3",
              "linecolor": "#A2B1C6",
              "ticks": ""
             },
             "bgcolor": "white",
             "caxis": {
              "gridcolor": "#DFE8F3",
              "linecolor": "#A2B1C6",
              "ticks": ""
             }
            },
            "title": {
             "x": 0.05
            },
            "xaxis": {
             "automargin": true,
             "gridcolor": "#EBF0F8",
             "linecolor": "#EBF0F8",
             "ticks": "",
             "title": {
              "standoff": 15
             },
             "zerolinecolor": "#EBF0F8",
             "zerolinewidth": 2
            },
            "yaxis": {
             "automargin": true,
             "gridcolor": "#EBF0F8",
             "linecolor": "#EBF0F8",
             "ticks": "",
             "title": {
              "standoff": 15
             },
             "zerolinecolor": "#EBF0F8",
             "zerolinewidth": 2
            }
           }
          },
          "xaxis": {
           "automargin": false,
           "linecolor": "#444",
           "linewidth": 2,
           "minor": {
            "tickmode": "linear",
            "ticks": "outside"
           },
           "mirror": true,
           "showline": true,
           "tickmode": "linear",
           "ticks": "outside",
           "zeroline": false
          },
          "yaxis": {
           "automargin": false,
           "linecolor": "#444",
           "linewidth": 2,
           "minor": {
            "tickmode": "linear",
            "ticks": "outside"
           },
           "mirror": true,
           "showline": true,
           "ticks": "outside",
           "zeroline": false
          }
         }
        },
        "width": 600,
        "xaxis": {
         "dtick": 5,
         "minor": {
          "dtick": 1,
          "tick0": 0
         },
         "range": [
          9.5,
          30.5
         ],
         "tick0": 0,
         "title": {
          "text": "CR"
         }
        },
        "yaxis": {
         "dtick": 0.5,
         "minor": {
          "dtick": 0.25,
          "tick0": 0
         },
         "range": [
          0,
          2.5
         ],
         "tick0": 0,
         "tickformat": ".1f",
         "title": {
          "text": "calculated XP ratio"
         }
        }
       }
      }
     },
     "metadata": {},
     "output_type": "display_data"
    }
   ],
   "source": [
    "# dragons in the MM vs non-dragons\n",
    "from datetime import date\n",
    "from bs4 import BeautifulSoup\n",
    "\n",
    "# summarize the current dataset\n",
    "df1 = df0[df0['Book'].isin(['MM']) & df0['Legendary'].isin(['L','LL'])]\n",
    "indx = df1['Type'].isin(['dragon'])\n",
    "\n",
    "# create figure\n",
    "fig = go.Figure(\n",
    "    layout=go.Layout(\n",
    "        template=tfb.FIG_TEMPLATE,\n",
    "        xaxis=dict(\n",
    "            title_text='CR',\n",
    "            range=[9.5,30.5],\n",
    "            tick0=0, dtick=5,\n",
    "            minor=dict(tick0=0, dtick=1),\n",
    "        ),\n",
    "        yaxis=dict(\n",
    "            title_text='calculated XP ratio',\n",
    "            range=[0, 2.5],\n",
    "            tick0=0, dtick=0.5,\n",
    "            tickformat='.1f',\n",
    "            minor=dict(tick0=0, dtick=0.25),\n",
    "        ),\n",
    "        legend=dict(\n",
    "            yanchor='bottom',  y=0.00,\n",
    "            xanchor='left', x=0.00,\n",
    "            orientation='v',\n",
    "        ),\n",
    "    )\n",
    ")\n",
    "\n",
    "# plot results\n",
    "dft = df1[~indx]\n",
    "fig.add_trace(go.Scatter(\n",
    "    x=dft['CR'], \n",
    "    y=dft['eXP Ratio'],\n",
    "    mode='markers',\n",
    "    name='non-dragons',\n",
    "    marker=dict(\n",
    "        size=8, \n",
    "        color='#1f77b4', \n",
    "        line=dict(color='#1f77b4', width=2)\n",
    "    ),\n",
    "    customdata = np.stack((dft['Monster'], dft['Book']), axis=-1),\n",
    "    hovertemplate = '<b>%{customdata[0]}</b><br>'\n",
    "                  + 'Book: %{customdata[1]}<br>'\n",
    "                  + 'CR: %{x:.0f}<br>'\n",
    "                  + 'XP ratio: %{y:.2f}<br>'\n",
    "                  + '<extra></extra>',\n",
    "))\n",
    "\n",
    "dft = df1[indx]\n",
    "fig.add_trace(go.Scatter(\n",
    "    x=dft['CR'], \n",
    "    y=dft['eXP Ratio'],\n",
    "    mode='markers',\n",
    "    name='dragons',\n",
    "    marker=dict(\n",
    "        size=8, \n",
    "        color='#ff7f0e', \n",
    "        line=dict(color='#ff7f0e', width=2)\n",
    "    ),\n",
    "    customdata = np.stack((dft['Monster'], dft['Book']), axis=-1),\n",
    "    hovertemplate = '<b>%{customdata[0]}</b><br>'\n",
    "                  + 'Book: %{customdata[1]}<br>'\n",
    "                  + 'CR: %{x:.0f}<br>'\n",
    "                  + 'XP ratio: %{y:.2f}<br>'\n",
    "                  + '<extra></extra>',\n",
    "))\n",
    "\n",
    "fig.add_trace(go.Scatter(\n",
    "    x=[10,30], \n",
    "    y=[1, 1],\n",
    "    mode='lines', \n",
    "    line=dict(color='black', dash='dash'),\n",
    "    showlegend=False,\n",
    "    hoverinfo='skip'\n",
    "))\n",
    "\n",
    "# show figure\n",
    "fig.update_layout(width=600, height=450)\n",
    "fig.show(config=tfb.FIG_CONFIG)\n",
    "\n",
    "# save figures\n",
    "if SAVEFIGS:\n",
    "    fig.update_layout(autosize=True, width=None, height=None)\n",
    "    tfb.save_fig_html(fig, format='large', name='fig-exp-ratio-vs-cr-mm-type-dragon-large', style='aspect-ratio: 600/500;')\n",
    "    tfb.save_fig_html(fig, format='small', name='fig-exp-ratio-vs-cr-mm-type-dragon-small', style='aspect-ratio: 600/550;')"
   ]
  },
  {
   "cell_type": "code",
   "execution_count": 25,
   "metadata": {},
   "outputs": [
    {
     "data": {
      "application/vnd.plotly.v1+json": {
       "config": {
        "autosizable": true,
        "displayModeBar": "hover",
        "displaylogo": false,
        "modeBarButtonsToRemove": [
         "select2d",
         "lasso2d",
         "zoom2d",
         "zoomIn2d",
         "zoomOut2d",
         "pan2d",
         "autoScale2d",
         "hoverClosestCartesian",
         "hoverCompareCartesian",
         "toggleSpikelines",
         "resetScale2d"
        ],
        "plotlyServerURL": "https://plot.ly",
        "responsive": true,
        "showAxisDragHandles": false,
        "toImageButtonOptions": {
         "filename": "tfb-plot",
         "format": "png",
         "height": 450,
         "scale": 2,
         "width": 600
        }
       },
       "data": [
        {
         "customdata": [
          [
           "Black Dragon, Adult",
           "MM"
          ],
          [
           "Black Dragon, Ancient",
           "MM"
          ],
          [
           "Blue Dragon, Adult",
           "MM"
          ],
          [
           "Blue Dragon, Ancient",
           "MM"
          ],
          [
           "Brass Dragon, Adult",
           "MM"
          ],
          [
           "Brass Dragon, Ancient",
           "MM"
          ],
          [
           "Bronze Dragon, Adult",
           "MM"
          ],
          [
           "Bronze Dragon, Ancient",
           "MM"
          ],
          [
           "Copper Dragon, Adult",
           "MM"
          ],
          [
           "Copper Dragon, Ancient",
           "MM"
          ],
          [
           "Gold Dragon, Adult",
           "MM"
          ],
          [
           "Gold Dragon, Ancient",
           "MM"
          ],
          [
           "Green Dragon, Adult",
           "MM"
          ],
          [
           "Green Dragon, Ancient",
           "MM"
          ],
          [
           "Red Dragon, Adult",
           "MM"
          ],
          [
           "Red Dragon, Ancient",
           "MM"
          ],
          [
           "Silver Dragon, Adult",
           "MM"
          ],
          [
           "Silver Dragon, Ancient",
           "MM"
          ],
          [
           "White Dragon, Adult",
           "MM"
          ],
          [
           "White Dragon, Ancient",
           "MM"
          ]
         ],
         "hovertemplate": "<b>%{customdata[0]}</b><br>Book: %{customdata[1]}<br>CR: %{x:.0f}<br>XP ratio: %{y:.2f}<br><extra></extra>",
         "marker": {
          "color": "#1f77b4",
          "line": {
           "color": "#1f77b4",
           "width": 2
          },
          "size": 8
         },
         "mode": "markers",
         "name": "MM",
         "type": "scatter",
         "x": [
          14,
          21,
          16,
          23,
          13,
          20,
          15,
          22,
          14,
          21,
          17,
          24,
          15,
          22,
          17,
          24,
          16,
          23,
          13,
          20
         ],
         "y": [
          1.5679765505016723,
          1.4550674376631705,
          1.5774230769230768,
          1.4816784615384615,
          1.5147294482153846,
          1.2967476923076924,
          1.7494516384970413,
          1.497470887598499,
          1.4572095520802673,
          1.3446154153846155,
          1.5573696255897433,
          1.251681141439206,
          1.5245413849704141,
          1.4506941562851783,
          1.5898995319871791,
          1.3668871224193548,
          1.6712615748923079,
          1.37037497115,
          1.8167756841538463,
          1.7147769230769232
         ]
        },
        {
         "customdata": [
          [
           "Amethyst Dragon, Adult",
           "FToD"
          ],
          [
           "Amethyst Dragon, Adult",
           "FToD"
          ],
          [
           "Amethyst Dragon, Ancient",
           "FToD"
          ],
          [
           "Amethyst Dragon, Ancient",
           "FToD"
          ],
          [
           "Amethyst Greatwyrm",
           "FToD"
          ],
          [
           "Bahamut, Aspect of",
           "FToD"
          ],
          [
           "Black Greatwyrm",
           "FToD"
          ],
          [
           "Blue Greatwyrm",
           "FToD"
          ],
          [
           "Brass Greatwyrm",
           "FToD"
          ],
          [
           "Bronze Greatwyrm",
           "FToD"
          ],
          [
           "Copper Greatwyrm",
           "FToD"
          ],
          [
           "Crystal Dragon, Adult",
           "FToD"
          ],
          [
           "Crystal Dragon, Adult",
           "FToD"
          ],
          [
           "Crystal Dragon, Ancient",
           "FToD"
          ],
          [
           "Crystal Dragon, Ancient",
           "FToD"
          ],
          [
           "Crystal Greatwyrm",
           "FToD"
          ],
          [
           "Deep Dragon, Adult",
           "FToD"
          ],
          [
           "Deep Dragon, Adult",
           "FToD"
          ],
          [
           "Deep Dragon, Ancient",
           "FToD"
          ],
          [
           "Deep Dragon, Ancient",
           "FToD"
          ],
          [
           "Dragon Turtle, Ancient",
           "FToD"
          ],
          [
           "Dragon Turtle, Ancient",
           "FToD"
          ],
          [
           "Emerald Dragon, Adult",
           "FToD"
          ],
          [
           "Emerald Dragon, Adult",
           "FToD"
          ],
          [
           "Emerald Dragon, Ancient",
           "FToD"
          ],
          [
           "Emerald Dragon, Ancient",
           "FToD"
          ],
          [
           "Emerald Greatwyrm",
           "FToD"
          ],
          [
           "Gold Greatwyrm",
           "FToD"
          ],
          [
           "Green Greatwyrm",
           "FToD"
          ],
          [
           "Moonstone Dragon, Adult",
           "FToD"
          ],
          [
           "Moonstone Dragon, Adult",
           "FToD"
          ],
          [
           "Moonstone Dragon, Ancient",
           "FToD"
          ],
          [
           "Moonstone Dragon, Ancient",
           "FToD"
          ],
          [
           "Red Greatwyrm",
           "FToD"
          ],
          [
           "Sapphire Dragon, Adult",
           "FToD"
          ],
          [
           "Sapphire Dragon, Adult",
           "FToD"
          ],
          [
           "Sapphire Dragon, Ancient",
           "FToD"
          ],
          [
           "Sapphire Dragon, Ancient",
           "FToD"
          ],
          [
           "Sapphire Greatwyrm",
           "FToD"
          ],
          [
           "Sea Serpent, Ancient",
           "FToD"
          ],
          [
           "Silver Greatwyrm",
           "FToD"
          ],
          [
           "Tiamat, Aspect of",
           "FToD"
          ],
          [
           "Topaz Dragon, Adult",
           "FToD"
          ],
          [
           "Topaz Dragon, Adult",
           "FToD"
          ],
          [
           "Topaz Dragon, Ancient",
           "FToD"
          ],
          [
           "Topaz Dragon, Ancient",
           "FToD"
          ],
          [
           "Topaz Greatwyrm",
           "FToD"
          ],
          [
           "White Greatwyrm",
           "FToD"
          ]
         ],
         "hovertemplate": "<b>%{customdata[0]}</b><br>Book: %{customdata[1]}<br>CR: %{x:.0f}<br>XP ratio: %{y:.2f}<br><extra></extra>",
         "marker": {
          "color": "#ff7f0e",
          "line": {
           "color": "#ff7f0e",
           "width": 2
          },
          "size": 8
         },
         "mode": "markers",
         "name": "FToD",
         "type": "scatter",
         "x": [
          16,
          17,
          23,
          24,
          26,
          30,
          27,
          27,
          28,
          28,
          28,
          12,
          13,
          19,
          20,
          26,
          11,
          12,
          18,
          19,
          24,
          25,
          14,
          15,
          21,
          22,
          26,
          28,
          27,
          15,
          16,
          21,
          22,
          27,
          15,
          16,
          22,
          23,
          26,
          14,
          28,
          30,
          13,
          14,
          20,
          21,
          26,
          27
         ],
         "y": [
          1.2422952261692308,
          1.2782615198846152,
          0.9249154085769232,
          0.8506606920130274,
          0.8849899402948718,
          0.8250960634451612,
          0.8754505494505496,
          0.8754505494505496,
          0.856875,
          0.856875,
          0.856875,
          1.3473701201923078,
          1.4367187124999998,
          1.0855288202307691,
          1.1526646153846154,
          0.8849899402948718,
          1.6335950382051285,
          1.896955173846154,
          0.9656871555692307,
          1.1891235682237764,
          0.9949717741935485,
          0.9587838461538463,
          1.3335200668896319,
          1.5315710480946747,
          1.0370454545454546,
          1.0348475831707318,
          0.8849899402948718,
          0.856875,
          0.8754505494505496,
          1.1370023748698226,
          1.140719370374359,
          0.8709615599999999,
          0.7761268953658536,
          0.8754505494505496,
          1.3295599507100593,
          1.4475833720000002,
          0.97869760206379,
          0.9482532291346157,
          0.8849899402948718,
          1.2351793478260868,
          0.856875,
          0.8890558312655087,
          1.2266826923076923,
          1.3956019669565218,
          1.0317210512738462,
          0.9527832167832169,
          0.8849899402948718,
          0.8754505494505496
         ]
        },
        {
         "hoverinfo": "skip",
         "line": {
          "color": "black",
          "dash": "dash"
         },
         "mode": "lines",
         "showlegend": false,
         "type": "scatter",
         "x": [
          10,
          30
         ],
         "y": [
          1,
          1
         ]
        }
       ],
       "layout": {
        "height": 450,
        "legend": {
         "orientation": "v",
         "x": 0,
         "xanchor": "left",
         "y": 0,
         "yanchor": "bottom"
        },
        "template": {
         "layout": {
          "autosize": false,
          "font": {
           "family": "sans-serif",
           "size": 14
          },
          "hoverlabel": {
           "align": "left"
          },
          "hovermode": "closest",
          "margin": {
           "b": 55,
           "l": 60,
           "pad": 4,
           "r": 25,
           "t": 20
          },
          "template": {
           "data": {
            "bar": [
             {
              "error_x": {
               "color": "#2a3f5f"
              },
              "error_y": {
               "color": "#2a3f5f"
              },
              "marker": {
               "line": {
                "color": "white",
                "width": 0.5
               },
               "pattern": {
                "fillmode": "overlay",
                "size": 10,
                "solidity": 0.2
               }
              },
              "type": "bar"
             }
            ],
            "barpolar": [
             {
              "marker": {
               "line": {
                "color": "white",
                "width": 0.5
               },
               "pattern": {
                "fillmode": "overlay",
                "size": 10,
                "solidity": 0.2
               }
              },
              "type": "barpolar"
             }
            ],
            "carpet": [
             {
              "aaxis": {
               "endlinecolor": "#2a3f5f",
               "gridcolor": "#C8D4E3",
               "linecolor": "#C8D4E3",
               "minorgridcolor": "#C8D4E3",
               "startlinecolor": "#2a3f5f"
              },
              "baxis": {
               "endlinecolor": "#2a3f5f",
               "gridcolor": "#C8D4E3",
               "linecolor": "#C8D4E3",
               "minorgridcolor": "#C8D4E3",
               "startlinecolor": "#2a3f5f"
              },
              "type": "carpet"
             }
            ],
            "choropleth": [
             {
              "colorbar": {
               "outlinewidth": 0,
               "ticks": ""
              },
              "type": "choropleth"
             }
            ],
            "contour": [
             {
              "colorbar": {
               "outlinewidth": 0,
               "ticks": ""
              },
              "colorscale": [
               [
                0,
                "#0d0887"
               ],
               [
                0.1111111111111111,
                "#46039f"
               ],
               [
                0.2222222222222222,
                "#7201a8"
               ],
               [
                0.3333333333333333,
                "#9c179e"
               ],
               [
                0.4444444444444444,
                "#bd3786"
               ],
               [
                0.5555555555555556,
                "#d8576b"
               ],
               [
                0.6666666666666666,
                "#ed7953"
               ],
               [
                0.7777777777777778,
                "#fb9f3a"
               ],
               [
                0.8888888888888888,
                "#fdca26"
               ],
               [
                1,
                "#f0f921"
               ]
              ],
              "type": "contour"
             }
            ],
            "contourcarpet": [
             {
              "colorbar": {
               "outlinewidth": 0,
               "ticks": ""
              },
              "type": "contourcarpet"
             }
            ],
            "heatmap": [
             {
              "colorbar": {
               "outlinewidth": 0,
               "ticks": ""
              },
              "colorscale": [
               [
                0,
                "#0d0887"
               ],
               [
                0.1111111111111111,
                "#46039f"
               ],
               [
                0.2222222222222222,
                "#7201a8"
               ],
               [
                0.3333333333333333,
                "#9c179e"
               ],
               [
                0.4444444444444444,
                "#bd3786"
               ],
               [
                0.5555555555555556,
                "#d8576b"
               ],
               [
                0.6666666666666666,
                "#ed7953"
               ],
               [
                0.7777777777777778,
                "#fb9f3a"
               ],
               [
                0.8888888888888888,
                "#fdca26"
               ],
               [
                1,
                "#f0f921"
               ]
              ],
              "type": "heatmap"
             }
            ],
            "heatmapgl": [
             {
              "colorbar": {
               "outlinewidth": 0,
               "ticks": ""
              },
              "colorscale": [
               [
                0,
                "#0d0887"
               ],
               [
                0.1111111111111111,
                "#46039f"
               ],
               [
                0.2222222222222222,
                "#7201a8"
               ],
               [
                0.3333333333333333,
                "#9c179e"
               ],
               [
                0.4444444444444444,
                "#bd3786"
               ],
               [
                0.5555555555555556,
                "#d8576b"
               ],
               [
                0.6666666666666666,
                "#ed7953"
               ],
               [
                0.7777777777777778,
                "#fb9f3a"
               ],
               [
                0.8888888888888888,
                "#fdca26"
               ],
               [
                1,
                "#f0f921"
               ]
              ],
              "type": "heatmapgl"
             }
            ],
            "histogram": [
             {
              "marker": {
               "pattern": {
                "fillmode": "overlay",
                "size": 10,
                "solidity": 0.2
               }
              },
              "type": "histogram"
             }
            ],
            "histogram2d": [
             {
              "colorbar": {
               "outlinewidth": 0,
               "ticks": ""
              },
              "colorscale": [
               [
                0,
                "#0d0887"
               ],
               [
                0.1111111111111111,
                "#46039f"
               ],
               [
                0.2222222222222222,
                "#7201a8"
               ],
               [
                0.3333333333333333,
                "#9c179e"
               ],
               [
                0.4444444444444444,
                "#bd3786"
               ],
               [
                0.5555555555555556,
                "#d8576b"
               ],
               [
                0.6666666666666666,
                "#ed7953"
               ],
               [
                0.7777777777777778,
                "#fb9f3a"
               ],
               [
                0.8888888888888888,
                "#fdca26"
               ],
               [
                1,
                "#f0f921"
               ]
              ],
              "type": "histogram2d"
             }
            ],
            "histogram2dcontour": [
             {
              "colorbar": {
               "outlinewidth": 0,
               "ticks": ""
              },
              "colorscale": [
               [
                0,
                "#0d0887"
               ],
               [
                0.1111111111111111,
                "#46039f"
               ],
               [
                0.2222222222222222,
                "#7201a8"
               ],
               [
                0.3333333333333333,
                "#9c179e"
               ],
               [
                0.4444444444444444,
                "#bd3786"
               ],
               [
                0.5555555555555556,
                "#d8576b"
               ],
               [
                0.6666666666666666,
                "#ed7953"
               ],
               [
                0.7777777777777778,
                "#fb9f3a"
               ],
               [
                0.8888888888888888,
                "#fdca26"
               ],
               [
                1,
                "#f0f921"
               ]
              ],
              "type": "histogram2dcontour"
             }
            ],
            "mesh3d": [
             {
              "colorbar": {
               "outlinewidth": 0,
               "ticks": ""
              },
              "type": "mesh3d"
             }
            ],
            "parcoords": [
             {
              "line": {
               "colorbar": {
                "outlinewidth": 0,
                "ticks": ""
               }
              },
              "type": "parcoords"
             }
            ],
            "pie": [
             {
              "automargin": true,
              "type": "pie"
             }
            ],
            "scatter": [
             {
              "fillpattern": {
               "fillmode": "overlay",
               "size": 10,
               "solidity": 0.2
              },
              "type": "scatter"
             }
            ],
            "scatter3d": [
             {
              "line": {
               "colorbar": {
                "outlinewidth": 0,
                "ticks": ""
               }
              },
              "marker": {
               "colorbar": {
                "outlinewidth": 0,
                "ticks": ""
               }
              },
              "type": "scatter3d"
             }
            ],
            "scattercarpet": [
             {
              "marker": {
               "colorbar": {
                "outlinewidth": 0,
                "ticks": ""
               }
              },
              "type": "scattercarpet"
             }
            ],
            "scattergeo": [
             {
              "marker": {
               "colorbar": {
                "outlinewidth": 0,
                "ticks": ""
               }
              },
              "type": "scattergeo"
             }
            ],
            "scattergl": [
             {
              "marker": {
               "colorbar": {
                "outlinewidth": 0,
                "ticks": ""
               }
              },
              "type": "scattergl"
             }
            ],
            "scattermapbox": [
             {
              "marker": {
               "colorbar": {
                "outlinewidth": 0,
                "ticks": ""
               }
              },
              "type": "scattermapbox"
             }
            ],
            "scatterpolar": [
             {
              "marker": {
               "colorbar": {
                "outlinewidth": 0,
                "ticks": ""
               }
              },
              "type": "scatterpolar"
             }
            ],
            "scatterpolargl": [
             {
              "marker": {
               "colorbar": {
                "outlinewidth": 0,
                "ticks": ""
               }
              },
              "type": "scatterpolargl"
             }
            ],
            "scatterternary": [
             {
              "marker": {
               "colorbar": {
                "outlinewidth": 0,
                "ticks": ""
               }
              },
              "type": "scatterternary"
             }
            ],
            "surface": [
             {
              "colorbar": {
               "outlinewidth": 0,
               "ticks": ""
              },
              "colorscale": [
               [
                0,
                "#0d0887"
               ],
               [
                0.1111111111111111,
                "#46039f"
               ],
               [
                0.2222222222222222,
                "#7201a8"
               ],
               [
                0.3333333333333333,
                "#9c179e"
               ],
               [
                0.4444444444444444,
                "#bd3786"
               ],
               [
                0.5555555555555556,
                "#d8576b"
               ],
               [
                0.6666666666666666,
                "#ed7953"
               ],
               [
                0.7777777777777778,
                "#fb9f3a"
               ],
               [
                0.8888888888888888,
                "#fdca26"
               ],
               [
                1,
                "#f0f921"
               ]
              ],
              "type": "surface"
             }
            ],
            "table": [
             {
              "cells": {
               "fill": {
                "color": "#EBF0F8"
               },
               "line": {
                "color": "white"
               }
              },
              "header": {
               "fill": {
                "color": "#C8D4E3"
               },
               "line": {
                "color": "white"
               }
              },
              "type": "table"
             }
            ]
           },
           "layout": {
            "annotationdefaults": {
             "arrowcolor": "#2a3f5f",
             "arrowhead": 0,
             "arrowwidth": 1
            },
            "autotypenumbers": "strict",
            "coloraxis": {
             "colorbar": {
              "outlinewidth": 0,
              "ticks": ""
             }
            },
            "colorscale": {
             "diverging": [
              [
               0,
               "#8e0152"
              ],
              [
               0.1,
               "#c51b7d"
              ],
              [
               0.2,
               "#de77ae"
              ],
              [
               0.3,
               "#f1b6da"
              ],
              [
               0.4,
               "#fde0ef"
              ],
              [
               0.5,
               "#f7f7f7"
              ],
              [
               0.6,
               "#e6f5d0"
              ],
              [
               0.7,
               "#b8e186"
              ],
              [
               0.8,
               "#7fbc41"
              ],
              [
               0.9,
               "#4d9221"
              ],
              [
               1,
               "#276419"
              ]
             ],
             "sequential": [
              [
               0,
               "#0d0887"
              ],
              [
               0.1111111111111111,
               "#46039f"
              ],
              [
               0.2222222222222222,
               "#7201a8"
              ],
              [
               0.3333333333333333,
               "#9c179e"
              ],
              [
               0.4444444444444444,
               "#bd3786"
              ],
              [
               0.5555555555555556,
               "#d8576b"
              ],
              [
               0.6666666666666666,
               "#ed7953"
              ],
              [
               0.7777777777777778,
               "#fb9f3a"
              ],
              [
               0.8888888888888888,
               "#fdca26"
              ],
              [
               1,
               "#f0f921"
              ]
             ],
             "sequentialminus": [
              [
               0,
               "#0d0887"
              ],
              [
               0.1111111111111111,
               "#46039f"
              ],
              [
               0.2222222222222222,
               "#7201a8"
              ],
              [
               0.3333333333333333,
               "#9c179e"
              ],
              [
               0.4444444444444444,
               "#bd3786"
              ],
              [
               0.5555555555555556,
               "#d8576b"
              ],
              [
               0.6666666666666666,
               "#ed7953"
              ],
              [
               0.7777777777777778,
               "#fb9f3a"
              ],
              [
               0.8888888888888888,
               "#fdca26"
              ],
              [
               1,
               "#f0f921"
              ]
             ]
            },
            "colorway": [
             "#636efa",
             "#EF553B",
             "#00cc96",
             "#ab63fa",
             "#FFA15A",
             "#19d3f3",
             "#FF6692",
             "#B6E880",
             "#FF97FF",
             "#FECB52"
            ],
            "font": {
             "color": "#2a3f5f"
            },
            "geo": {
             "bgcolor": "white",
             "lakecolor": "white",
             "landcolor": "white",
             "showlakes": true,
             "showland": true,
             "subunitcolor": "#C8D4E3"
            },
            "hoverlabel": {
             "align": "left"
            },
            "hovermode": "closest",
            "mapbox": {
             "style": "light"
            },
            "paper_bgcolor": "white",
            "plot_bgcolor": "white",
            "polar": {
             "angularaxis": {
              "gridcolor": "#EBF0F8",
              "linecolor": "#EBF0F8",
              "ticks": ""
             },
             "bgcolor": "white",
             "radialaxis": {
              "gridcolor": "#EBF0F8",
              "linecolor": "#EBF0F8",
              "ticks": ""
             }
            },
            "scene": {
             "xaxis": {
              "backgroundcolor": "white",
              "gridcolor": "#DFE8F3",
              "gridwidth": 2,
              "linecolor": "#EBF0F8",
              "showbackground": true,
              "ticks": "",
              "zerolinecolor": "#EBF0F8"
             },
             "yaxis": {
              "backgroundcolor": "white",
              "gridcolor": "#DFE8F3",
              "gridwidth": 2,
              "linecolor": "#EBF0F8",
              "showbackground": true,
              "ticks": "",
              "zerolinecolor": "#EBF0F8"
             },
             "zaxis": {
              "backgroundcolor": "white",
              "gridcolor": "#DFE8F3",
              "gridwidth": 2,
              "linecolor": "#EBF0F8",
              "showbackground": true,
              "ticks": "",
              "zerolinecolor": "#EBF0F8"
             }
            },
            "shapedefaults": {
             "line": {
              "color": "#2a3f5f"
             }
            },
            "ternary": {
             "aaxis": {
              "gridcolor": "#DFE8F3",
              "linecolor": "#A2B1C6",
              "ticks": ""
             },
             "baxis": {
              "gridcolor": "#DFE8F3",
              "linecolor": "#A2B1C6",
              "ticks": ""
             },
             "bgcolor": "white",
             "caxis": {
              "gridcolor": "#DFE8F3",
              "linecolor": "#A2B1C6",
              "ticks": ""
             }
            },
            "title": {
             "x": 0.05
            },
            "xaxis": {
             "automargin": true,
             "gridcolor": "#EBF0F8",
             "linecolor": "#EBF0F8",
             "ticks": "",
             "title": {
              "standoff": 15
             },
             "zerolinecolor": "#EBF0F8",
             "zerolinewidth": 2
            },
            "yaxis": {
             "automargin": true,
             "gridcolor": "#EBF0F8",
             "linecolor": "#EBF0F8",
             "ticks": "",
             "title": {
              "standoff": 15
             },
             "zerolinecolor": "#EBF0F8",
             "zerolinewidth": 2
            }
           }
          },
          "xaxis": {
           "automargin": false,
           "linecolor": "#444",
           "linewidth": 2,
           "minor": {
            "tickmode": "linear",
            "ticks": "outside"
           },
           "mirror": true,
           "showline": true,
           "tickmode": "linear",
           "ticks": "outside",
           "zeroline": false
          },
          "yaxis": {
           "automargin": false,
           "linecolor": "#444",
           "linewidth": 2,
           "minor": {
            "tickmode": "linear",
            "ticks": "outside"
           },
           "mirror": true,
           "showline": true,
           "ticks": "outside",
           "zeroline": false
          }
         }
        },
        "width": 600,
        "xaxis": {
         "dtick": 5,
         "minor": {
          "dtick": 1,
          "tick0": 0
         },
         "range": [
          9.5,
          30.5
         ],
         "tick0": 0,
         "title": {
          "text": "CR"
         }
        },
        "yaxis": {
         "dtick": 0.5,
         "minor": {
          "dtick": 0.25,
          "tick0": 0
         },
         "range": [
          0,
          2
         ],
         "tick0": 0,
         "tickformat": ".1f",
         "title": {
          "text": "calculated XP ratio"
         }
        }
       }
      }
     },
     "metadata": {},
     "output_type": "display_data"
    }
   ],
   "source": [
    "# comparison between dragons published in the MM and those published in FToD\n",
    "\n",
    "# summarize the current dataset\n",
    "df1 = df0[df0['CR'].between(1,30) & df0['Legendary'].isin(['L','LL']) & df0['Type'].isin(['dragon'])]\n",
    "\n",
    "# create figure\n",
    "fig = go.Figure(\n",
    "    layout=go.Layout(\n",
    "        template=tfb.FIG_TEMPLATE,\n",
    "        xaxis=dict(\n",
    "            title_text='CR',\n",
    "            range=[9.5,30.5],\n",
    "            tick0=0, dtick=5,\n",
    "            minor=dict(tick0=0, dtick=1),\n",
    "        ),\n",
    "        yaxis=dict(\n",
    "            title_text='calculated XP ratio',\n",
    "            range=[0, 2],\n",
    "            tick0=0, dtick=0.5,\n",
    "            tickformat='.1f',\n",
    "            minor=dict(tick0=0, dtick=0.25),\n",
    "        ),\n",
    "        legend=dict(\n",
    "            yanchor='bottom',  y=0.00,\n",
    "            xanchor='left', x=0.00,\n",
    "            orientation='v',\n",
    "        ),\n",
    "    )\n",
    ")\n",
    "\n",
    "# plot results\n",
    "dft = df1[df1['Book'].isin(['MM'])]\n",
    "fig.add_trace(go.Scatter(\n",
    "    x=dft['CR'], \n",
    "    y=dft['eXP Ratio'],\n",
    "    mode='markers',\n",
    "    name='MM',\n",
    "    marker=dict(\n",
    "        size=8, \n",
    "        color='#1f77b4', \n",
    "        line=dict(color='#1f77b4', width=2)\n",
    "    ),\n",
    "    customdata = np.stack((dft['Monster'], dft['Book']), axis=-1),\n",
    "    hovertemplate = '<b>%{customdata[0]}</b><br>'\n",
    "                  + 'Book: %{customdata[1]}<br>'\n",
    "                  + 'CR: %{x:.0f}<br>'\n",
    "                  + 'XP ratio: %{y:.2f}<br>'\n",
    "                  + '<extra></extra>',\n",
    "))\n",
    "\n",
    "dft = df1[df1['Book'].isin(['FToD'])]\n",
    "fig.add_trace(go.Scatter(\n",
    "    x=dft['CR'], \n",
    "    y=dft['eXP Ratio'],\n",
    "    mode='markers',\n",
    "    name='FToD',\n",
    "    marker=dict(\n",
    "        size=8, \n",
    "        color='#ff7f0e', \n",
    "        line=dict(color='#ff7f0e', width=2)\n",
    "    ),\n",
    "    customdata = np.stack((dft['Monster'], dft['Book']), axis=-1),\n",
    "    hovertemplate = '<b>%{customdata[0]}</b><br>'\n",
    "                  + 'Book: %{customdata[1]}<br>'\n",
    "                  + 'CR: %{x:.0f}<br>'\n",
    "                  + 'XP ratio: %{y:.2f}<br>'\n",
    "                  + '<extra></extra>',\n",
    "))\n",
    "\n",
    "fig.add_trace(go.Scatter(\n",
    "    x=[10,30], \n",
    "    y=[1, 1],\n",
    "    mode='lines', \n",
    "    line=dict(color='black', dash='dash'),\n",
    "    showlegend=False,\n",
    "    hoverinfo='skip'\n",
    "))\n",
    "\n",
    "# show figure\n",
    "fig.update_layout(width=600, height=450)\n",
    "fig.show(config=tfb.FIG_CONFIG)\n",
    "\n",
    "# save figures\n",
    "if SAVEFIGS:\n",
    "    fig.update_layout(autosize=True, width=None, height=None)\n",
    "    tfb.save_fig_html(fig, format='large', name='fig-exp-ratio-vs-cr-mm-ftod-type-dragon-large', style='aspect-ratio: 600/500;')\n",
    "    tfb.save_fig_html(fig, format='small', name='fig-exp-ratio-vs-cr-mm-ftod-type-dragon-small', style='aspect-ratio: 600/550;')"
   ]
  }
 ],
 "metadata": {
  "kernelspec": {
   "display_name": "thefinishedbook",
   "language": "python",
   "name": "python3"
  },
  "language_info": {
   "codemirror_mode": {
    "name": "ipython",
    "version": 3
   },
   "file_extension": ".py",
   "mimetype": "text/x-python",
   "name": "python",
   "nbconvert_exporter": "python",
   "pygments_lexer": "ipython3",
   "version": "3.10.5"
  },
  "metadata": {
   "interpreter": {
    "hash": "ac2eaa0ea0ebeafcc7822e65e46aa9d4f966f30b695406963e145ea4a91cd4fc"
   }
  },
  "orig_nbformat": 2
 },
 "nbformat": 4,
 "nbformat_minor": 2
}
