{
 "cells": [
  {
   "cell_type": "code",
   "execution_count": 9,
   "metadata": {},
   "outputs": [],
   "source": [
    "# set parameters\n",
    "import pandas as pd\n",
    "import numpy as np\n",
    "from matplotlib import pyplot as plt\n",
    "from matplotlib.ticker import (MultipleLocator, FormatStrFormatter, AutoMinorLocator)\n",
    "import plotly.graph_objects as go\n",
    "pd.options.mode.chained_assignment = None  # default='warn'\n",
    "pd.options.display.float_format = '{:,.2f}'.format\n",
    "\n",
    "METADATA = {'Contributor': 'T. Dunn', 'Date': '2021-12-27'}\n",
    "FSIZE = [5,4]\n",
    "FDPI = 100\n",
    "SAVEFIGS = True\n",
    "SAVETABS = True"
   ]
  },
  {
   "cell_type": "code",
   "execution_count": 10,
   "metadata": {},
   "outputs": [
    {
     "data": {
      "text/html": [
       "<div>\n",
       "<style scoped>\n",
       "    .dataframe tbody tr th:only-of-type {\n",
       "        vertical-align: middle;\n",
       "    }\n",
       "\n",
       "    .dataframe tbody tr th {\n",
       "        vertical-align: top;\n",
       "    }\n",
       "\n",
       "    .dataframe thead th {\n",
       "        text-align: right;\n",
       "    }\n",
       "</style>\n",
       "<table border=\"1\" class=\"dataframe\">\n",
       "  <thead>\n",
       "    <tr style=\"text-align: right;\">\n",
       "      <th></th>\n",
       "      <th>Book</th>\n",
       "      <th>Date</th>\n",
       "      <th>Type</th>\n",
       "    </tr>\n",
       "    <tr>\n",
       "      <th>Acronym</th>\n",
       "      <th></th>\n",
       "      <th></th>\n",
       "      <th></th>\n",
       "    </tr>\n",
       "  </thead>\n",
       "  <tbody>\n",
       "    <tr>\n",
       "      <th>BGDiA</th>\n",
       "      <td>Baulder's Gate: Descent Into Avernus</td>\n",
       "      <td>2019-09-17</td>\n",
       "      <td>Adventure</td>\n",
       "    </tr>\n",
       "    <tr>\n",
       "      <th>CM</th>\n",
       "      <td>Candlekeep Mysteries</td>\n",
       "      <td>2021-03-16</td>\n",
       "      <td>Adventure</td>\n",
       "    </tr>\n",
       "    <tr>\n",
       "      <th>CRCotN</th>\n",
       "      <td>Critical Role: Call of the Netherdeep</td>\n",
       "      <td>2022-03-15</td>\n",
       "      <td>Adventure</td>\n",
       "    </tr>\n",
       "    <tr>\n",
       "      <th>CoS</th>\n",
       "      <td>Curse of Strahd</td>\n",
       "      <td>2016-03-16</td>\n",
       "      <td>Adventure</td>\n",
       "    </tr>\n",
       "    <tr>\n",
       "      <th>DSotDQ</th>\n",
       "      <td>Dragonlance: Shadow of the Dragon Queen</td>\n",
       "      <td>2022-12-06</td>\n",
       "      <td>Adventure</td>\n",
       "    </tr>\n",
       "    <tr>\n",
       "      <th>ERftLW</th>\n",
       "      <td>Eberron: Rising from the Last War</td>\n",
       "      <td>2019-11-19</td>\n",
       "      <td>Source</td>\n",
       "    </tr>\n",
       "    <tr>\n",
       "      <th>EGtW</th>\n",
       "      <td>Explorer's Guide to Wildmount</td>\n",
       "      <td>2020-03-07</td>\n",
       "      <td>Source</td>\n",
       "    </tr>\n",
       "    <tr>\n",
       "      <th>FToD</th>\n",
       "      <td>Fizban's Treasury of Dragons</td>\n",
       "      <td>2021-10-26</td>\n",
       "      <td>Source</td>\n",
       "    </tr>\n",
       "    <tr>\n",
       "      <th>GoS</th>\n",
       "      <td>Ghosts of Saltmarsh</td>\n",
       "      <td>2019-05-21</td>\n",
       "      <td>Adventure</td>\n",
       "    </tr>\n",
       "    <tr>\n",
       "      <th>GGtR</th>\n",
       "      <td>Guildmaster's Guide to Ravnica</td>\n",
       "      <td>2018-11-20</td>\n",
       "      <td>Source</td>\n",
       "    </tr>\n",
       "    <tr>\n",
       "      <th>HotDQ</th>\n",
       "      <td>Hoard of the Dragon Queen</td>\n",
       "      <td>2014-08-19</td>\n",
       "      <td>Adventure</td>\n",
       "    </tr>\n",
       "    <tr>\n",
       "      <th>IDRotF</th>\n",
       "      <td>Icewind Dale: Rime of the Frostmaiden</td>\n",
       "      <td>2020-09-15</td>\n",
       "      <td>Adventure</td>\n",
       "    </tr>\n",
       "    <tr>\n",
       "      <th>JTtRC</th>\n",
       "      <td>Journey Through the Radiant Citadel</td>\n",
       "      <td>2022-07-19</td>\n",
       "      <td>Adventure</td>\n",
       "    </tr>\n",
       "    <tr>\n",
       "      <th>MM</th>\n",
       "      <td>Monster Manual</td>\n",
       "      <td>2014-09-07</td>\n",
       "      <td>Source</td>\n",
       "    </tr>\n",
       "    <tr>\n",
       "      <th>MPMotM</th>\n",
       "      <td>Mordenkainen Presents: Monsters of the Multiverse</td>\n",
       "      <td>2022-05-16</td>\n",
       "      <td>Source</td>\n",
       "    </tr>\n",
       "    <tr>\n",
       "      <th>MToF</th>\n",
       "      <td>Mordenkainen's Tome of Foes</td>\n",
       "      <td>2018-05-29</td>\n",
       "      <td>Source</td>\n",
       "    </tr>\n",
       "    <tr>\n",
       "      <th>MOoT</th>\n",
       "      <td>Mythic Odysseys of Theros</td>\n",
       "      <td>2020-07-21</td>\n",
       "      <td>Source</td>\n",
       "    </tr>\n",
       "    <tr>\n",
       "      <th>OotA</th>\n",
       "      <td>Out of the Abyss</td>\n",
       "      <td>2015-09-15</td>\n",
       "      <td>Adventure</td>\n",
       "    </tr>\n",
       "    <tr>\n",
       "      <th>PotA</th>\n",
       "      <td>Princes of the Apocalypse</td>\n",
       "      <td>2015-04-07</td>\n",
       "      <td>Adventure</td>\n",
       "    </tr>\n",
       "    <tr>\n",
       "      <th>RoT</th>\n",
       "      <td>Rize of Tiamat</td>\n",
       "      <td>2014-11-04</td>\n",
       "      <td>Adventure</td>\n",
       "    </tr>\n",
       "    <tr>\n",
       "      <th>SAiS</th>\n",
       "      <td>Spelljammer: Adventures in Space</td>\n",
       "      <td>2022-08-16</td>\n",
       "      <td>Source</td>\n",
       "    </tr>\n",
       "    <tr>\n",
       "      <th>SKT</th>\n",
       "      <td>Storm King's Thunder</td>\n",
       "      <td>2016-09-06</td>\n",
       "      <td>Adventure</td>\n",
       "    </tr>\n",
       "    <tr>\n",
       "      <th>SaCoC</th>\n",
       "      <td>Strixhaven: a Curriculum of Chaos</td>\n",
       "      <td>2021-12-07</td>\n",
       "      <td>Adventure</td>\n",
       "    </tr>\n",
       "    <tr>\n",
       "      <th>TftYP</th>\n",
       "      <td>Tales from the Yawning Portal</td>\n",
       "      <td>2017-04-04</td>\n",
       "      <td>Adventure</td>\n",
       "    </tr>\n",
       "    <tr>\n",
       "      <th>TCoE</th>\n",
       "      <td>Tasha's Cauldron of Everything</td>\n",
       "      <td>2020-11-17</td>\n",
       "      <td>Source</td>\n",
       "    </tr>\n",
       "    <tr>\n",
       "      <th>WBtW</th>\n",
       "      <td>The Wild Beyond the Witchlight</td>\n",
       "      <td>2021-09-21</td>\n",
       "      <td>Adventure</td>\n",
       "    </tr>\n",
       "    <tr>\n",
       "      <th>ToA</th>\n",
       "      <td>Tomb of Annihilation</td>\n",
       "      <td>2017-09-19</td>\n",
       "      <td>Adventure</td>\n",
       "    </tr>\n",
       "    <tr>\n",
       "      <th>VRGtR</th>\n",
       "      <td>Van Richten's Guide to Ravenloft</td>\n",
       "      <td>2021-05-18</td>\n",
       "      <td>Source</td>\n",
       "    </tr>\n",
       "    <tr>\n",
       "      <th>VGtM</th>\n",
       "      <td>Volo's Guide to Monsters</td>\n",
       "      <td>2016-11-15</td>\n",
       "      <td>Source</td>\n",
       "    </tr>\n",
       "    <tr>\n",
       "      <th>WDH</th>\n",
       "      <td>Waterdeep: Dragon Heist</td>\n",
       "      <td>2018-09-18</td>\n",
       "      <td>Adventure</td>\n",
       "    </tr>\n",
       "    <tr>\n",
       "      <th>WDotMM</th>\n",
       "      <td>Waterdeep: Dungeon of the Mad Mage</td>\n",
       "      <td>2018-11-20</td>\n",
       "      <td>Adventure</td>\n",
       "    </tr>\n",
       "    <tr>\n",
       "      <th>WGtE</th>\n",
       "      <td>Wayfinder's Guide to Eberron</td>\n",
       "      <td>2018-07-23</td>\n",
       "      <td>Source</td>\n",
       "    </tr>\n",
       "    <tr>\n",
       "      <th>XGtE</th>\n",
       "      <td>Xanathar's Guide to Everything</td>\n",
       "      <td>2017-11-12</td>\n",
       "      <td>Source</td>\n",
       "    </tr>\n",
       "  </tbody>\n",
       "</table>\n",
       "</div>"
      ],
      "text/plain": [
       "                                                      Book       Date  \\\n",
       "Acronym                                                                 \n",
       "BGDiA                 Baulder's Gate: Descent Into Avernus 2019-09-17   \n",
       "CM                                    Candlekeep Mysteries 2021-03-16   \n",
       "CRCotN               Critical Role: Call of the Netherdeep 2022-03-15   \n",
       "CoS                                        Curse of Strahd 2016-03-16   \n",
       "DSotDQ             Dragonlance: Shadow of the Dragon Queen 2022-12-06   \n",
       "ERftLW                   Eberron: Rising from the Last War 2019-11-19   \n",
       "EGtW                         Explorer's Guide to Wildmount 2020-03-07   \n",
       "FToD                          Fizban's Treasury of Dragons 2021-10-26   \n",
       "GoS                                    Ghosts of Saltmarsh 2019-05-21   \n",
       "GGtR                        Guildmaster's Guide to Ravnica 2018-11-20   \n",
       "HotDQ                            Hoard of the Dragon Queen 2014-08-19   \n",
       "IDRotF               Icewind Dale: Rime of the Frostmaiden 2020-09-15   \n",
       "JTtRC                  Journey Through the Radiant Citadel 2022-07-19   \n",
       "MM                                          Monster Manual 2014-09-07   \n",
       "MPMotM   Mordenkainen Presents: Monsters of the Multiverse 2022-05-16   \n",
       "MToF                           Mordenkainen's Tome of Foes 2018-05-29   \n",
       "MOoT                             Mythic Odysseys of Theros 2020-07-21   \n",
       "OotA                                      Out of the Abyss 2015-09-15   \n",
       "PotA                             Princes of the Apocalypse 2015-04-07   \n",
       "RoT                                         Rize of Tiamat 2014-11-04   \n",
       "SAiS                      Spelljammer: Adventures in Space 2022-08-16   \n",
       "SKT                                   Storm King's Thunder 2016-09-06   \n",
       "SaCoC                    Strixhaven: a Curriculum of Chaos 2021-12-07   \n",
       "TftYP                        Tales from the Yawning Portal 2017-04-04   \n",
       "TCoE                        Tasha's Cauldron of Everything 2020-11-17   \n",
       "WBtW                        The Wild Beyond the Witchlight 2021-09-21   \n",
       "ToA                                   Tomb of Annihilation 2017-09-19   \n",
       "VRGtR                     Van Richten's Guide to Ravenloft 2021-05-18   \n",
       "VGtM                              Volo's Guide to Monsters 2016-11-15   \n",
       "WDH                                Waterdeep: Dragon Heist 2018-09-18   \n",
       "WDotMM                  Waterdeep: Dungeon of the Mad Mage 2018-11-20   \n",
       "WGtE                          Wayfinder's Guide to Eberron 2018-07-23   \n",
       "XGtE                        Xanathar's Guide to Everything 2017-11-12   \n",
       "\n",
       "              Type  \n",
       "Acronym             \n",
       "BGDiA    Adventure  \n",
       "CM       Adventure  \n",
       "CRCotN   Adventure  \n",
       "CoS      Adventure  \n",
       "DSotDQ   Adventure  \n",
       "ERftLW      Source  \n",
       "EGtW        Source  \n",
       "FToD        Source  \n",
       "GoS      Adventure  \n",
       "GGtR        Source  \n",
       "HotDQ    Adventure  \n",
       "IDRotF   Adventure  \n",
       "JTtRC    Adventure  \n",
       "MM          Source  \n",
       "MPMotM      Source  \n",
       "MToF        Source  \n",
       "MOoT        Source  \n",
       "OotA     Adventure  \n",
       "PotA     Adventure  \n",
       "RoT      Adventure  \n",
       "SAiS        Source  \n",
       "SKT      Adventure  \n",
       "SaCoC    Adventure  \n",
       "TftYP    Adventure  \n",
       "TCoE        Source  \n",
       "WBtW     Adventure  \n",
       "ToA      Adventure  \n",
       "VRGtR       Source  \n",
       "VGtM        Source  \n",
       "WDH      Adventure  \n",
       "WDotMM   Adventure  \n",
       "WGtE        Source  \n",
       "XGtE        Source  "
      ]
     },
     "execution_count": 10,
     "metadata": {},
     "output_type": "execute_result"
    }
   ],
   "source": [
    "# construct book dataframe\n",
    "dfB = pd.read_csv('../../assets/data/books.csv')\n",
    "dfB = dfB.astype({\n",
    "    'Book': 'category', \n",
    "    'Acronym': 'category',\n",
    "    'Date': 'datetime64',\n",
    "    'Type': 'category'})\n",
    "dfB.set_index('Acronym', inplace=True)\n",
    "dfB"
   ]
  },
  {
   "cell_type": "code",
   "execution_count": 11,
   "metadata": {},
   "outputs": [],
   "source": [
    "# define functions\n",
    "P0 = 0.65  # Baseline chance to hit\n",
    "AB0 = 3    # Baseline attack bonus\n",
    "AC0 = 12   # Baseline armor class\n",
    "SB0 = -2\n",
    "DC0 = 12\n",
    "\n",
    "def find_nearest_loc(array, value):\n",
    "    array = np.asarray(array)\n",
    "    idx = (np.abs(array - value)).argmin()\n",
    "    return idx\n",
    "\n",
    "def find_nearest_CR(CRs, array, value):\n",
    "    idx = find_nearest_loc(array, value)\n",
    "    CRs = np.asarray(CRs)\n",
    "    return CRs[idx]\n",
    "\n",
    "def effective_DPR_exp(DPR, AB):\n",
    "    return np.power(P0,  0.5)*DPR*np.power(1 + (1/(20*P0)), AB - AB0)\n",
    "\n",
    "def effective_HP_exp(HP, AC):\n",
    "    return np.power(P0, -0.5)*HP*np.power(1 + (1/(20*P0)), AC - AC0)\n",
    "\n",
    "def effective_XP_exp(HP, AC, DPR, AB):\n",
    "    return 0.25*HP*DPR*np.power(1 + (1/(20*P0)), AC + AB - (AB0 + AC0))\n",
    "\n",
    "def effective_DPR_linear(DPR, AB):\n",
    "    return np.power(P0,  0.5)*DPR*(1 + (1/(20*P0))*(AB - AB0))\n",
    "\n",
    "def effective_HP_linear(HP, AC):\n",
    "    return np.power(P0, -0.5)*HP*(1 + (1/(20*P0))*(AC - AC0))\n",
    "\n",
    "def effective_XP_linear(HP, AC, DPR, AB):\n",
    "    return 0.25*HP*DPR*(1 + (1/(20*P0))*(AC + AB - (AB0 + AC0)))\n",
    "    \n",
    "def defensive_CR(df, HP, AC):\n",
    "    n = df.shape[0]\n",
    "    id = find_nearest_loc(df['HP Mean'], HP)\n",
    "    CR_t = df.index[id]\n",
    "    AC_t = df['AC'].loc[CR_t]\n",
    "    id = int(max(0, min(n - 1, id + np.fix(0.5*(AC - AC_t)))))\n",
    "    CR = df.index[id]\n",
    "    return CR\n",
    "\n",
    "def offensive_CR(df, DPR, AB):\n",
    "    n = df.shape[0]\n",
    "    id = find_nearest_loc(df['DPR Mean'], DPR)\n",
    "    CR_t = df.index[id]\n",
    "    AB_t = df['AB'].loc[CR_t]\n",
    "    id = int(max(0, min(n - 1, id + np.fix(0.5*(AB - AB_t)))))\n",
    "    CR = df.index[id]\n",
    "    return CR\n",
    "    \n",
    "def rsquared(y, yf):\n",
    "    y = np.asarray(y)\n",
    "    yf = np.asarray(yf)\n",
    "    ybar = np.mean(y)\n",
    "    SStot = np.sum(np.power(np.subtract(y, ybar), 2))\n",
    "    SSres = np.sum(np.power(y - yf, 2))\n",
    "    return 1 - SSres/SStot"
   ]
  },
  {
   "cell_type": "code",
   "execution_count": 12,
   "metadata": {},
   "outputs": [
    {
     "name": "stdout",
     "output_type": "stream",
     "text": [
      "Includes 1781 monsters in database\n"
     ]
    }
   ],
   "source": [
    "#from scipy.interpolate import interp1d\n",
    "\n",
    "# import data\n",
    "dfD = pd.read_csv('../../assets/data/dmg-targets.csv') # 'CR','PB','XP','AC','HP Mean','AB','DPR Mean'\n",
    "dfD['eHP Mean']  = dfD.apply(lambda row: effective_HP_linear(row['HP Mean'], row['AC']), axis=1)\n",
    "dfD['eDPR Mean'] = dfD.apply(lambda row: effective_DPR_linear(row['DPR Mean'], row['AB']), axis=1)\n",
    "dfD['eXP Mean'] = dfD.apply(lambda row: effective_XP_linear(row['HP Mean'], row['AC'], row['DPR Mean'], row['AB']), axis=1)\n",
    "dfD.set_index('CR', inplace=True)\n",
    "\n",
    "df0 = pd.read_csv('monster-cr-and-xp.csv')  # 'Monster','Book','Page','Type','Category','Legendary','CR','PB','XP',\n",
    "                                            # 'HP','AC','adj HP','adj AC',\n",
    "                                            # 'AB','adj AB','DPR', 'adj DPR'\n",
    "\n",
    "df0 = df0.astype({'Book': 'category', 'Category': 'category', 'Legendary': 'category', 'Type': 'category'})\n",
    "\n",
    "df0['eHP']  = df0.apply(lambda row: effective_HP_linear(row['adj HP'], row['adj AC']), axis=1)\n",
    "df0['eDPR'] = df0.apply(lambda row: effective_DPR_linear(row['adj DPR'], row['adj AB']), axis=1)\n",
    "df0['eXP']  = df0.apply(lambda row: effective_XP_linear(row['adj HP'], row['adj AC'], row['adj DPR'], row['adj AB']), axis=1)\n",
    "df0['eHP Ratio'] = df0.apply(lambda row: row['eHP']/dfD.loc[row['CR'], 'eHP Mean'], axis=1)\n",
    "df0['eDPR Ratio'] = df0.apply(lambda row: row['eDPR']/dfD.loc[row['CR'], 'eDPR Mean'], axis=1)\n",
    "df0['eXP Ratio'] = df0['eXP'] / df0['XP']\n",
    "df0['eXP Skew'] = (df0['eDPR Ratio'] - df0['eHP Ratio'])/(df0['eDPR Ratio'] + df0['eHP Ratio'])\n",
    "\n",
    "df0['D-CR DMG'] = df0.apply(lambda row: defensive_CR(dfD, row['adj HP'], row['adj AC']), axis=1)\n",
    "df0['O-CR DMG'] = df0.apply(lambda row: offensive_CR(dfD, row['adj DPR'], row['adj AB']), axis=1)\n",
    "df0['C-CR DMG'] = df0.apply(lambda row: find_nearest_CR(dfD.index, dfD.index, 0.5*(row['D-CR DMG'] + row['O-CR DMG'])), axis=1)\n",
    "df0['C-CR DMG Delta'] = df0['C-CR DMG'] - df0['CR']\n",
    "df0['XP DMG'] = df0.apply(lambda row: dfD.loc[row['C-CR DMG'], 'XP'], axis=1)\n",
    "df0['XP DMG Ratio'] = df0['XP DMG'] / df0['XP']\n",
    "\n",
    "df0['Date'] = df0.apply(lambda row: dfB.loc[row['Book'], 'Date'], axis=1)\n",
    "df0['Book Type'] = df0.apply(lambda row: dfB.loc[row['Book'], 'Type'], axis=1)\n",
    "\n",
    "len(df0.index.tolist())\n",
    "print('Includes {} monsters in database'.format(len(df0.index.to_list())))"
   ]
  },
  {
   "cell_type": "code",
   "execution_count": 13,
   "metadata": {},
   "outputs": [],
   "source": [
    "# Setup template and html config for plotly figures.\n",
    "TFB_TEMPLATE = dict(\n",
    "    layout=go.Layout(\n",
    "        template='plotly_white',\n",
    "        autosize=True, # must be True to auto-scale when resizing\n",
    "        margin=dict(l=50, r=25, b=80, t=40, pad=4),\n",
    "        font=dict(\n",
    "            family='sans-serif',\n",
    "            size=14\n",
    "        ),\n",
    "        hovermode='closest',\n",
    "        xaxis=dict(\n",
    "            autorange=False,\n",
    "            automargin=True,\n",
    "            showline=True,\n",
    "            linecolor='#444',\n",
    "            linewidth=2,\n",
    "            mirror=True,\n",
    "            ticks='outside',\n",
    "            minor=dict(ticks='outside'),\n",
    "            zeroline=False,\n",
    "        ),\n",
    "        yaxis=dict(\n",
    "            autorange=False,\n",
    "            automargin=True,\n",
    "            showline=True,\n",
    "            linecolor='#444',\n",
    "            linewidth=2,\n",
    "            mirror=True,\n",
    "            ticks='outside',\n",
    "            minor=dict(ticks='outside'),\n",
    "            zeroline=False,\n",
    "        ),\n",
    "        legend=dict(\n",
    "            bordercolor='Black',\n",
    "            borderwidth=1,\n",
    "            font_size=14,\n",
    "            tracegroupgap=5,\n",
    "            orientation='h',\n",
    "        )\n",
    "    )\n",
    ")\n",
    "\n",
    "TFB_CONFIG = {\n",
    "    'responsive': True, # must be True to auto-scale when resizing\n",
    "    'autosizable': False, # doesn't impact auto rescaling\n",
    "    'showAxisDragHandles': False,\n",
    "    'displaylogo': False,\n",
    "    'displayModeBar': 'hover',\n",
    "    'modeBarButtonsToRemove': [\n",
    "        'select2d',\n",
    "        'lasso2d',\n",
    "        'zoom2d',\n",
    "        'zoomIn2d',\n",
    "        'zoomOut2d',\n",
    "        'pan2d',\n",
    "        'autoScale2d',\n",
    "        'hoverClosestCartesian',\n",
    "        'hoverCompareCartesian',\n",
    "        'toggleSpikelines',\n",
    "        'resetScale2d',\n",
    "    ],\n",
    "    'toImageButtonOptions': {\n",
    "        'format': 'png', # one of png, svg, jpeg, webp\n",
    "        'filename': 'tfb-plot',\n",
    "        'height': 450,\n",
    "        'width': 600,\n",
    "        'scale': 2\n",
    "    },\n",
    "}\n"
   ]
  },
  {
   "cell_type": "code",
   "execution_count": 22,
   "metadata": {},
   "outputs": [
    {
     "data": {
      "application/vnd.plotly.v1+json": {
       "config": {
        "autosizable": false,
        "displayModeBar": "hover",
        "displaylogo": false,
        "modeBarButtonsToRemove": [
         "select2d",
         "lasso2d",
         "zoom2d",
         "zoomIn2d",
         "zoomOut2d",
         "pan2d",
         "autoScale2d",
         "hoverClosestCartesian",
         "hoverCompareCartesian",
         "toggleSpikelines",
         "resetScale2d"
        ],
        "plotlyServerURL": "https://plot.ly",
        "responsive": true,
        "showAxisDragHandles": false,
        "toImageButtonOptions": {
         "filename": "tfb-plot",
         "format": "png",
         "height": 450,
         "scale": 2,
         "width": 600
        }
       },
       "data": [
        {
         "customdata": [
          [
           "HotDQ",
           13
          ],
          [
           "RoT",
           6
          ],
          [
           "PotA",
           37
          ],
          [
           "OotA",
           14
          ],
          [
           "CoS",
           14
          ],
          [
           "SKT",
           15
          ],
          [
           "TftYP",
           32
          ],
          [
           "ToA",
           22
          ],
          [
           "WDH",
           26
          ],
          [
           "WDotMM",
           15
          ],
          [
           "GoS",
           34
          ],
          [
           "BGDiA",
           22
          ],
          [
           "IDRotF",
           40
          ],
          [
           "CM",
           13
          ],
          [
           "WBtW",
           24
          ],
          [
           "SaCoC",
           30
          ],
          [
           "CRCotN",
           30
          ]
         ],
         "hovertemplate": "<b>%{customdata[0]}</b><br>Date: %{x}<br>XP ratio: %{y:.2f}<br>Monsters: %{customdata[1]:.0f}<extra></extra>",
         "marker": {
          "color": "rgba(0,0,0,0.0)",
          "line": {
           "color": "rgba(31,119,180,1.0)",
           "width": 2
          },
          "size": 10
         },
         "mode": "markers",
         "name": "adventure modules - normal",
         "type": "scatter",
         "x": [
          "2014-08-19T00:00:00",
          "2014-11-04T00:00:00",
          "2015-04-07T00:00:00",
          "2015-09-15T00:00:00",
          "2016-03-16T00:00:00",
          "2016-09-06T00:00:00",
          "2017-04-04T00:00:00",
          "2017-09-19T00:00:00",
          "2018-09-18T00:00:00",
          "2018-11-20T00:00:00",
          "2019-05-21T00:00:00",
          "2019-09-17T00:00:00",
          "2020-09-15T00:00:00",
          "2021-03-16T00:00:00",
          "2021-09-21T00:00:00",
          "2021-12-07T00:00:00",
          "2022-03-15T00:00:00"
         ],
         "y": [
          0.8912451541392604,
          0.5735777335691129,
          0.8863859077006301,
          0.7333400626074652,
          0.7783515830558836,
          0.8187704885218795,
          0.7512461602366328,
          0.8663947310545392,
          0.7955854941212344,
          0.9110694229809385,
          0.7132142951803875,
          0.924222969187688,
          0.791678541715432,
          0.6705376172943449,
          0.8069903985876364,
          0.7608528001890803,
          0.7358362542485978
         ]
        },
        {
         "customdata": [
          [
           "HotDQ",
           1
          ],
          [
           "RoT",
           2
          ],
          [
           "PotA",
           4
          ],
          [
           "OotA",
           9
          ],
          [
           "CoS",
           1
          ],
          [
           "SKT",
           3
          ],
          [
           "TftYP",
           1
          ],
          [
           "ToA",
           2
          ],
          [
           "WDH",
           2
          ],
          [
           "WDotMM",
           3
          ],
          [
           "GoS",
           5
          ],
          [
           "BGDiA",
           2
          ],
          [
           "IDRotF",
           3
          ],
          [
           "CM",
           4
          ],
          [
           "WBtW",
           2
          ],
          [
           "SaCoC",
           8
          ],
          [
           "CRCotN",
           8
          ]
         ],
         "hovertemplate": "<b>%{customdata[0]}</b><br>Date: %{x}<br>XP ratio: %{y:.2f}<br>Monsters: %{customdata[1]:.0f}<extra></extra>",
         "marker": {
          "color": "rgba(31,119,180,1.0)",
          "line": {
           "color": "rgba(31,119,180,1.0)",
           "width": 2
          },
          "size": 10
         },
         "mode": "markers",
         "name": "adventure modules - legendary",
         "type": "scatter",
         "x": [
          "2014-08-19T00:00:00",
          "2014-11-04T00:00:00",
          "2015-04-07T00:00:00",
          "2015-09-15T00:00:00",
          "2016-03-16T00:00:00",
          "2016-09-06T00:00:00",
          "2017-04-04T00:00:00",
          "2017-09-19T00:00:00",
          "2018-09-18T00:00:00",
          "2018-11-20T00:00:00",
          "2019-05-21T00:00:00",
          "2019-09-17T00:00:00",
          "2020-09-15T00:00:00",
          "2021-03-16T00:00:00",
          "2021-09-21T00:00:00",
          "2021-12-07T00:00:00",
          "2022-03-15T00:00:00"
         ],
         "y": [
          1.0912466843501327,
          3.214765550041357,
          2.117627183129371,
          1.3223568324182067,
          1.9720809181582846,
          1.712113789480342,
          1.7136327298153846,
          1.2947904230769232,
          0.8249502805349112,
          1.1726571484071486,
          1.0060160340194795,
          1.0776179374500001,
          1.264174269325414,
          0.9914325301187619,
          1.173541323553846,
          0.9221940361691069,
          1.8743083936089917
         ]
        },
        {
         "hoverinfo": "skip",
         "line": {
          "color": "black",
          "dash": "dash"
         },
         "mode": "lines",
         "showlegend": false,
         "type": "scatter",
         "x": [
          "2014-01-01",
          "2023-03-06"
         ],
         "y": [
          1,
          1
         ]
        }
       ],
       "layout": {
        "hoverlabel": {
         "bgcolor": "white"
        },
        "legend": {
         "orientation": "v",
         "x": 0.99,
         "xanchor": "right",
         "y": 0.99,
         "yanchor": "top"
        },
        "template": {
         "layout": {
          "autosize": true,
          "font": {
           "family": "sans-serif",
           "size": 14
          },
          "hovermode": "closest",
          "legend": {
           "bordercolor": "Black",
           "borderwidth": 1,
           "font": {
            "size": 14
           },
           "orientation": "h",
           "tracegroupgap": 5
          },
          "margin": {
           "b": 80,
           "l": 50,
           "pad": 4,
           "r": 25,
           "t": 40
          },
          "template": {
           "data": {
            "bar": [
             {
              "error_x": {
               "color": "#2a3f5f"
              },
              "error_y": {
               "color": "#2a3f5f"
              },
              "marker": {
               "line": {
                "color": "white",
                "width": 0.5
               },
               "pattern": {
                "fillmode": "overlay",
                "size": 10,
                "solidity": 0.2
               }
              },
              "type": "bar"
             }
            ],
            "barpolar": [
             {
              "marker": {
               "line": {
                "color": "white",
                "width": 0.5
               },
               "pattern": {
                "fillmode": "overlay",
                "size": 10,
                "solidity": 0.2
               }
              },
              "type": "barpolar"
             }
            ],
            "carpet": [
             {
              "aaxis": {
               "endlinecolor": "#2a3f5f",
               "gridcolor": "#C8D4E3",
               "linecolor": "#C8D4E3",
               "minorgridcolor": "#C8D4E3",
               "startlinecolor": "#2a3f5f"
              },
              "baxis": {
               "endlinecolor": "#2a3f5f",
               "gridcolor": "#C8D4E3",
               "linecolor": "#C8D4E3",
               "minorgridcolor": "#C8D4E3",
               "startlinecolor": "#2a3f5f"
              },
              "type": "carpet"
             }
            ],
            "choropleth": [
             {
              "colorbar": {
               "outlinewidth": 0,
               "ticks": ""
              },
              "type": "choropleth"
             }
            ],
            "contour": [
             {
              "colorbar": {
               "outlinewidth": 0,
               "ticks": ""
              },
              "colorscale": [
               [
                0,
                "#0d0887"
               ],
               [
                0.1111111111111111,
                "#46039f"
               ],
               [
                0.2222222222222222,
                "#7201a8"
               ],
               [
                0.3333333333333333,
                "#9c179e"
               ],
               [
                0.4444444444444444,
                "#bd3786"
               ],
               [
                0.5555555555555556,
                "#d8576b"
               ],
               [
                0.6666666666666666,
                "#ed7953"
               ],
               [
                0.7777777777777778,
                "#fb9f3a"
               ],
               [
                0.8888888888888888,
                "#fdca26"
               ],
               [
                1,
                "#f0f921"
               ]
              ],
              "type": "contour"
             }
            ],
            "contourcarpet": [
             {
              "colorbar": {
               "outlinewidth": 0,
               "ticks": ""
              },
              "type": "contourcarpet"
             }
            ],
            "heatmap": [
             {
              "colorbar": {
               "outlinewidth": 0,
               "ticks": ""
              },
              "colorscale": [
               [
                0,
                "#0d0887"
               ],
               [
                0.1111111111111111,
                "#46039f"
               ],
               [
                0.2222222222222222,
                "#7201a8"
               ],
               [
                0.3333333333333333,
                "#9c179e"
               ],
               [
                0.4444444444444444,
                "#bd3786"
               ],
               [
                0.5555555555555556,
                "#d8576b"
               ],
               [
                0.6666666666666666,
                "#ed7953"
               ],
               [
                0.7777777777777778,
                "#fb9f3a"
               ],
               [
                0.8888888888888888,
                "#fdca26"
               ],
               [
                1,
                "#f0f921"
               ]
              ],
              "type": "heatmap"
             }
            ],
            "heatmapgl": [
             {
              "colorbar": {
               "outlinewidth": 0,
               "ticks": ""
              },
              "colorscale": [
               [
                0,
                "#0d0887"
               ],
               [
                0.1111111111111111,
                "#46039f"
               ],
               [
                0.2222222222222222,
                "#7201a8"
               ],
               [
                0.3333333333333333,
                "#9c179e"
               ],
               [
                0.4444444444444444,
                "#bd3786"
               ],
               [
                0.5555555555555556,
                "#d8576b"
               ],
               [
                0.6666666666666666,
                "#ed7953"
               ],
               [
                0.7777777777777778,
                "#fb9f3a"
               ],
               [
                0.8888888888888888,
                "#fdca26"
               ],
               [
                1,
                "#f0f921"
               ]
              ],
              "type": "heatmapgl"
             }
            ],
            "histogram": [
             {
              "marker": {
               "pattern": {
                "fillmode": "overlay",
                "size": 10,
                "solidity": 0.2
               }
              },
              "type": "histogram"
             }
            ],
            "histogram2d": [
             {
              "colorbar": {
               "outlinewidth": 0,
               "ticks": ""
              },
              "colorscale": [
               [
                0,
                "#0d0887"
               ],
               [
                0.1111111111111111,
                "#46039f"
               ],
               [
                0.2222222222222222,
                "#7201a8"
               ],
               [
                0.3333333333333333,
                "#9c179e"
               ],
               [
                0.4444444444444444,
                "#bd3786"
               ],
               [
                0.5555555555555556,
                "#d8576b"
               ],
               [
                0.6666666666666666,
                "#ed7953"
               ],
               [
                0.7777777777777778,
                "#fb9f3a"
               ],
               [
                0.8888888888888888,
                "#fdca26"
               ],
               [
                1,
                "#f0f921"
               ]
              ],
              "type": "histogram2d"
             }
            ],
            "histogram2dcontour": [
             {
              "colorbar": {
               "outlinewidth": 0,
               "ticks": ""
              },
              "colorscale": [
               [
                0,
                "#0d0887"
               ],
               [
                0.1111111111111111,
                "#46039f"
               ],
               [
                0.2222222222222222,
                "#7201a8"
               ],
               [
                0.3333333333333333,
                "#9c179e"
               ],
               [
                0.4444444444444444,
                "#bd3786"
               ],
               [
                0.5555555555555556,
                "#d8576b"
               ],
               [
                0.6666666666666666,
                "#ed7953"
               ],
               [
                0.7777777777777778,
                "#fb9f3a"
               ],
               [
                0.8888888888888888,
                "#fdca26"
               ],
               [
                1,
                "#f0f921"
               ]
              ],
              "type": "histogram2dcontour"
             }
            ],
            "mesh3d": [
             {
              "colorbar": {
               "outlinewidth": 0,
               "ticks": ""
              },
              "type": "mesh3d"
             }
            ],
            "parcoords": [
             {
              "line": {
               "colorbar": {
                "outlinewidth": 0,
                "ticks": ""
               }
              },
              "type": "parcoords"
             }
            ],
            "pie": [
             {
              "automargin": true,
              "type": "pie"
             }
            ],
            "scatter": [
             {
              "fillpattern": {
               "fillmode": "overlay",
               "size": 10,
               "solidity": 0.2
              },
              "type": "scatter"
             }
            ],
            "scatter3d": [
             {
              "line": {
               "colorbar": {
                "outlinewidth": 0,
                "ticks": ""
               }
              },
              "marker": {
               "colorbar": {
                "outlinewidth": 0,
                "ticks": ""
               }
              },
              "type": "scatter3d"
             }
            ],
            "scattercarpet": [
             {
              "marker": {
               "colorbar": {
                "outlinewidth": 0,
                "ticks": ""
               }
              },
              "type": "scattercarpet"
             }
            ],
            "scattergeo": [
             {
              "marker": {
               "colorbar": {
                "outlinewidth": 0,
                "ticks": ""
               }
              },
              "type": "scattergeo"
             }
            ],
            "scattergl": [
             {
              "marker": {
               "colorbar": {
                "outlinewidth": 0,
                "ticks": ""
               }
              },
              "type": "scattergl"
             }
            ],
            "scattermapbox": [
             {
              "marker": {
               "colorbar": {
                "outlinewidth": 0,
                "ticks": ""
               }
              },
              "type": "scattermapbox"
             }
            ],
            "scatterpolar": [
             {
              "marker": {
               "colorbar": {
                "outlinewidth": 0,
                "ticks": ""
               }
              },
              "type": "scatterpolar"
             }
            ],
            "scatterpolargl": [
             {
              "marker": {
               "colorbar": {
                "outlinewidth": 0,
                "ticks": ""
               }
              },
              "type": "scatterpolargl"
             }
            ],
            "scatterternary": [
             {
              "marker": {
               "colorbar": {
                "outlinewidth": 0,
                "ticks": ""
               }
              },
              "type": "scatterternary"
             }
            ],
            "surface": [
             {
              "colorbar": {
               "outlinewidth": 0,
               "ticks": ""
              },
              "colorscale": [
               [
                0,
                "#0d0887"
               ],
               [
                0.1111111111111111,
                "#46039f"
               ],
               [
                0.2222222222222222,
                "#7201a8"
               ],
               [
                0.3333333333333333,
                "#9c179e"
               ],
               [
                0.4444444444444444,
                "#bd3786"
               ],
               [
                0.5555555555555556,
                "#d8576b"
               ],
               [
                0.6666666666666666,
                "#ed7953"
               ],
               [
                0.7777777777777778,
                "#fb9f3a"
               ],
               [
                0.8888888888888888,
                "#fdca26"
               ],
               [
                1,
                "#f0f921"
               ]
              ],
              "type": "surface"
             }
            ],
            "table": [
             {
              "cells": {
               "fill": {
                "color": "#EBF0F8"
               },
               "line": {
                "color": "white"
               }
              },
              "header": {
               "fill": {
                "color": "#C8D4E3"
               },
               "line": {
                "color": "white"
               }
              },
              "type": "table"
             }
            ]
           },
           "layout": {
            "annotationdefaults": {
             "arrowcolor": "#2a3f5f",
             "arrowhead": 0,
             "arrowwidth": 1
            },
            "autotypenumbers": "strict",
            "coloraxis": {
             "colorbar": {
              "outlinewidth": 0,
              "ticks": ""
             }
            },
            "colorscale": {
             "diverging": [
              [
               0,
               "#8e0152"
              ],
              [
               0.1,
               "#c51b7d"
              ],
              [
               0.2,
               "#de77ae"
              ],
              [
               0.3,
               "#f1b6da"
              ],
              [
               0.4,
               "#fde0ef"
              ],
              [
               0.5,
               "#f7f7f7"
              ],
              [
               0.6,
               "#e6f5d0"
              ],
              [
               0.7,
               "#b8e186"
              ],
              [
               0.8,
               "#7fbc41"
              ],
              [
               0.9,
               "#4d9221"
              ],
              [
               1,
               "#276419"
              ]
             ],
             "sequential": [
              [
               0,
               "#0d0887"
              ],
              [
               0.1111111111111111,
               "#46039f"
              ],
              [
               0.2222222222222222,
               "#7201a8"
              ],
              [
               0.3333333333333333,
               "#9c179e"
              ],
              [
               0.4444444444444444,
               "#bd3786"
              ],
              [
               0.5555555555555556,
               "#d8576b"
              ],
              [
               0.6666666666666666,
               "#ed7953"
              ],
              [
               0.7777777777777778,
               "#fb9f3a"
              ],
              [
               0.8888888888888888,
               "#fdca26"
              ],
              [
               1,
               "#f0f921"
              ]
             ],
             "sequentialminus": [
              [
               0,
               "#0d0887"
              ],
              [
               0.1111111111111111,
               "#46039f"
              ],
              [
               0.2222222222222222,
               "#7201a8"
              ],
              [
               0.3333333333333333,
               "#9c179e"
              ],
              [
               0.4444444444444444,
               "#bd3786"
              ],
              [
               0.5555555555555556,
               "#d8576b"
              ],
              [
               0.6666666666666666,
               "#ed7953"
              ],
              [
               0.7777777777777778,
               "#fb9f3a"
              ],
              [
               0.8888888888888888,
               "#fdca26"
              ],
              [
               1,
               "#f0f921"
              ]
             ]
            },
            "colorway": [
             "#636efa",
             "#EF553B",
             "#00cc96",
             "#ab63fa",
             "#FFA15A",
             "#19d3f3",
             "#FF6692",
             "#B6E880",
             "#FF97FF",
             "#FECB52"
            ],
            "font": {
             "color": "#2a3f5f"
            },
            "geo": {
             "bgcolor": "white",
             "lakecolor": "white",
             "landcolor": "white",
             "showlakes": true,
             "showland": true,
             "subunitcolor": "#C8D4E3"
            },
            "hoverlabel": {
             "align": "left"
            },
            "hovermode": "closest",
            "mapbox": {
             "style": "light"
            },
            "paper_bgcolor": "white",
            "plot_bgcolor": "white",
            "polar": {
             "angularaxis": {
              "gridcolor": "#EBF0F8",
              "linecolor": "#EBF0F8",
              "ticks": ""
             },
             "bgcolor": "white",
             "radialaxis": {
              "gridcolor": "#EBF0F8",
              "linecolor": "#EBF0F8",
              "ticks": ""
             }
            },
            "scene": {
             "xaxis": {
              "backgroundcolor": "white",
              "gridcolor": "#DFE8F3",
              "gridwidth": 2,
              "linecolor": "#EBF0F8",
              "showbackground": true,
              "ticks": "",
              "zerolinecolor": "#EBF0F8"
             },
             "yaxis": {
              "backgroundcolor": "white",
              "gridcolor": "#DFE8F3",
              "gridwidth": 2,
              "linecolor": "#EBF0F8",
              "showbackground": true,
              "ticks": "",
              "zerolinecolor": "#EBF0F8"
             },
             "zaxis": {
              "backgroundcolor": "white",
              "gridcolor": "#DFE8F3",
              "gridwidth": 2,
              "linecolor": "#EBF0F8",
              "showbackground": true,
              "ticks": "",
              "zerolinecolor": "#EBF0F8"
             }
            },
            "shapedefaults": {
             "line": {
              "color": "#2a3f5f"
             }
            },
            "ternary": {
             "aaxis": {
              "gridcolor": "#DFE8F3",
              "linecolor": "#A2B1C6",
              "ticks": ""
             },
             "baxis": {
              "gridcolor": "#DFE8F3",
              "linecolor": "#A2B1C6",
              "ticks": ""
             },
             "bgcolor": "white",
             "caxis": {
              "gridcolor": "#DFE8F3",
              "linecolor": "#A2B1C6",
              "ticks": ""
             }
            },
            "title": {
             "x": 0.05
            },
            "xaxis": {
             "automargin": true,
             "gridcolor": "#EBF0F8",
             "linecolor": "#EBF0F8",
             "ticks": "",
             "title": {
              "standoff": 15
             },
             "zerolinecolor": "#EBF0F8",
             "zerolinewidth": 2
            },
            "yaxis": {
             "automargin": true,
             "gridcolor": "#EBF0F8",
             "linecolor": "#EBF0F8",
             "ticks": "",
             "title": {
              "standoff": 15
             },
             "zerolinecolor": "#EBF0F8",
             "zerolinewidth": 2
            }
           }
          },
          "xaxis": {
           "automargin": true,
           "autorange": false,
           "linecolor": "#444",
           "linewidth": 2,
           "minor": {
            "ticks": "outside"
           },
           "mirror": true,
           "showline": true,
           "ticks": "outside",
           "zeroline": false
          },
          "yaxis": {
           "automargin": true,
           "autorange": false,
           "linecolor": "#444",
           "linewidth": 2,
           "minor": {
            "ticks": "outside"
           },
           "mirror": true,
           "showline": true,
           "ticks": "outside",
           "zeroline": false
          }
         }
        },
        "xaxis": {
         "range": [
          "2014-01-01",
          "2023-03-06"
         ],
         "title": {
          "text": "publication year"
         }
        },
        "yaxis": {
         "dtick": 0.5,
         "minor": {
          "dtick": 0.25,
          "tick0": 0
         },
         "range": [
          0,
          4
         ],
         "tick0": 0,
         "tickformat": ".1f",
         "title": {
          "text": "calculated XP ratio"
         }
        }
       }
      }
     },
     "metadata": {},
     "output_type": "display_data"
    }
   ],
   "source": [
    "# plot eXP ratio vs time. Split data by book type.\n",
    "from datetime import date\n",
    "from bs4 import BeautifulSoup\n",
    "\n",
    "groups = {\n",
    "    'adventure modules - normal': {\n",
    "        'Legendary': ['N'],\n",
    "        'marker': dict(\n",
    "            size=10, \n",
    "            color='rgba(0,0,0,0.0)', \n",
    "            line=dict(color='rgba(31,119,180,1.0)', width=2)\n",
    "        )\n",
    "    },\n",
    "    'adventure modules - legendary': {\n",
    "        'Legendary': ['L','LL'],\n",
    "        'marker': dict(\n",
    "            size=10, \n",
    "            color='rgba(31,119,180,1.0)', \n",
    "            line=dict(color='rgba(31,119,180,1.0)', width=2)\n",
    "        )\n",
    "    }\n",
    "}\n",
    "\n",
    "group_columns = ['Date','group','Book']\n",
    "date_range = [date(2014, 1, 1), date.today()]\n",
    "\n",
    "# plot results\n",
    "fig = go.Figure(\n",
    "    layout=go.Layout(\n",
    "        template=TFB_TEMPLATE,\n",
    "        hoverlabel=dict(\n",
    "            bgcolor='white',\n",
    "        ),\n",
    "        xaxis=dict(\n",
    "            title_text='publication year',\n",
    "            range=date_range,\n",
    "        ),\n",
    "        yaxis=dict(\n",
    "            title_text='calculated XP ratio',\n",
    "            range=[0, 4],\n",
    "            tick0=0, dtick=0.5,\n",
    "            tickformat='.1f',\n",
    "            minor=dict(tick0=0, dtick=0.25),\n",
    "        ),\n",
    "        legend=dict(\n",
    "            yanchor='top',  y=0.99,\n",
    "            xanchor='right', x=0.99,\n",
    "            orientation='v',\n",
    "        ),\n",
    "    )\n",
    ")\n",
    "\n",
    "for g in groups:\n",
    "    group = groups[g]\n",
    "    # summarize the current dataset\n",
    "    df1 = df0[df0['CR'].between(1,30) & df0['Legendary'].isin(group['Legendary']) & df0['Book Type'].isin(['Adventure'])]\n",
    "    df1['group'] = df1.apply(lambda row: 'adventure modules - normal' if row['Legendary'] == 'N' else 'adventure modules - legendary', axis=1)\n",
    "    df1 = df1[group_columns + ['eXP Ratio']]\n",
    "\n",
    "    dfG = df1.groupby(group_columns).size().to_frame('Total').reset_index()\n",
    "    dfG['eXP Ratio Mean'] = df1[group_columns + ['eXP Ratio']].groupby(group_columns).mean().reset_index()['eXP Ratio']\n",
    "    dfG['eXP Ratio Std Dev'] = df1[group_columns + ['eXP Ratio']].groupby(group_columns).std().reset_index()['eXP Ratio']\n",
    "    dfG = dfG.sort_values(by=['Date'])\n",
    "    dfG = dfG[dfG['Total'].ge(1)]\n",
    "    \n",
    "    fig.add_trace(go.Scatter(\n",
    "        x=dfG['Date'], \n",
    "        y=dfG['eXP Ratio Mean'],\n",
    "        mode='markers',\n",
    "        name=g,\n",
    "    ))\n",
    "\n",
    "    fig.update_traces(\n",
    "        selector=dict(name=g),\n",
    "        customdata = np.stack((dfG['Book'], dfG['Total']), axis=-1),\n",
    "        hovertemplate = '<b>%{customdata[0]}</b><br>'\n",
    "            + 'Date: %{x}<br>'\n",
    "            + 'XP ratio: %{y:.2f}<br>'\n",
    "            + 'Monsters: %{customdata[1]:.0f}'\n",
    "            + '<extra></extra>',\n",
    "        marker=group['marker'],\n",
    "    )\n",
    "\n",
    "fig.add_trace(go.Scatter(\n",
    "    x=date_range, \n",
    "    y=[1, 1],\n",
    "    mode='lines', \n",
    "    line=dict(color='black', dash='dash'),\n",
    "    showlegend=False,\n",
    "    hoverinfo='skip'\n",
    "))\n",
    "\n",
    "# show figure\n",
    "fig.show(config=TFB_CONFIG)\n",
    "\n",
    "# save large format figure\n",
    "if SAVEFIGS:\n",
    "    file_name = f'./fig-exp-ratio-mean-vs-time-adventure-modules-large.html'\n",
    "    fig.write_html(\n",
    "        file_name, \n",
    "        include_plotlyjs=False, \n",
    "        full_html=False, \n",
    "        config=TFB_CONFIG\n",
    "    )\n",
    "    # add style to figure\n",
    "    with open(file_name, 'r') as fin:\n",
    "        fig_soup = BeautifulSoup(fin, 'html.parser')\n",
    "\n",
    "    fig_soup.div['class'] = 'plotly-div-large'\n",
    "    fig_soup.div['style'] = 'width:800px; min-width:50%; max-width:100%'\n",
    "    with open(file_name, 'wb') as fout:\n",
    "        fout.write(fig_soup.prettify('utf-8'))\n",
    "\n",
    "# save small format figure\n",
    "if SAVEFIGS:\n",
    "    fig.update_traces(marker=dict(size=6))\n",
    "    fig.update_layout(font=dict(size=10), legend=dict(font=dict(size=10)))\n",
    "    file_name = f'./fig-exp-ratio-mean-vs-time-adventure-modules-small.html'\n",
    "    fig.write_html(\n",
    "        file_name, \n",
    "        include_plotlyjs=False, \n",
    "        full_html=False, \n",
    "        config=TFB_CONFIG\n",
    "    )\n",
    "    # add style to figure\n",
    "    with open(file_name, 'r') as fin:\n",
    "        fig_soup = BeautifulSoup(fin, 'html.parser')\n",
    "\n",
    "    fig_soup.div['class'] = 'plotly-div-small'\n",
    "    #fig_soup.div['style'] = 'hight:800px; min-width:50%; max-width:100%'\n",
    "    fig_soup.div['style'] = 'aspect-ratio: 600/500;'\n",
    "    with open(file_name, 'wb') as fout:\n",
    "        fout.write(fig_soup.prettify('utf-8'))"
   ]
  },
  {
   "cell_type": "code",
   "execution_count": 16,
   "metadata": {},
   "outputs": [],
   "source": [
    "# summary table of legendary monsters from early adventure books\n",
    "df1 = df0[df0['CR'].between(1,30) & df0['Book Type'].isin(['Adventure']) & df0['Date'].lt('2018-1-1') & df0['Legendary'].isin(['L','LL'])]\n",
    "df1 = df1.sort_values(by=['Date','Monster'])\n",
    "dfG = df1[['Date','Book','Monster']]\n",
    "dfG['Monsters'] = df1.groupby(['Book'])['Monster'].transform(lambda x: ', '.join(x))\n",
    "dfG = dfG[['Book','Monsters']].drop_duplicates()\n",
    "\n",
    "if SAVETABS: dfG.to_html('./early-adventure-legendary-monsters.html', index=False, classes='center', float_format='{:,.2f}'.format, border=0)"
   ]
  },
  {
   "cell_type": "code",
   "execution_count": 17,
   "metadata": {},
   "outputs": [
    {
     "data": {
      "image/png": "[encoded data removed]",
      "text/plain": [
       "<Figure size 500x400 with 1 Axes>"
      ]
     },
     "metadata": {},
     "output_type": "display_data"
    }
   ],
   "source": [
    "# plot the range of eXP values for legendary monsters encountered directly and indirectly\n",
    "directMonsters = ['Rezmir','Yestabrod','Tarul Var','Atropal']\n",
    "df1 = df0[df0['CR'].between(1,30) & df0['Book Type'].isin(['Adventure']) & df0['Date'].lt('2018-1-1') & df0['Legendary'].isin(['L','LL'])]\n",
    "df1['Encounter Type'] = 'indirect'\n",
    "df1.loc[df1['Monster'].isin(directMonsters), 'Encounter Type'] = 'direct'\n",
    "df1.sort_values(by=['Encounter Type','eXP Ratio'], inplace=True)\n",
    "\n",
    "fig = plt.figure(figsize=FSIZE, dpi=FDPI, tight_layout=True)\n",
    "ax = plt.axes(ylabel='calculated XP ratio', xlabel='encounter type', ylim=[0,4.5])\n",
    "bp = ax.boxplot(tuple(df1[df1['Encounter Type'].isin([x])]['eXP Ratio'] for x in df1['Encounter Type'].unique()), \n",
    "    labels=df1['Encounter Type'].unique(), patch_artist=False,\n",
    "    showmeans=False, vert=True, showfliers=True,\n",
    "    medianprops={'color': 'k', 'linewidth': 0.5},\n",
    "    #boxprops={'facecolor': 'C0', 'edgecolor': 'white', 'linewidth': 0.5},\n",
    "    boxprops={'color': 'k', 'linewidth': 0.5},\n",
    "    whiskerprops={'color': 'k', 'linewidth': 1.5},\n",
    "    capprops={'color': 'k', 'linewidth': 1.5})\n",
    "\n",
    "ax.yaxis.set_major_locator(MultipleLocator(0.5))\n",
    "ax.yaxis.set_major_formatter(FormatStrFormatter('%.1f'))\n",
    "ax.yaxis.set_minor_locator(MultipleLocator(0.25))\n",
    "\n",
    "if SAVEFIGS: plt.savefig('exp-ratio-vs-encounter-type.svg', metadata=METADATA)"
   ]
  },
  {
   "cell_type": "code",
   "execution_count": 19,
   "metadata": {},
   "outputs": [
    {
     "name": "stdout",
     "output_type": "stream",
     "text": [
      "OotA: 1.36 (0.31)\n",
      "MToF: 1.02 (0.19)\n",
      "MPMotM: 1.00 (0.15)\n"
     ]
    },
    {
     "data": {
      "application/vnd.plotly.v1+json": {
       "config": {
        "autosizable": false,
        "displayModeBar": "hover",
        "displaylogo": false,
        "modeBarButtonsToRemove": [
         "select2d",
         "lasso2d",
         "zoom2d",
         "zoomIn2d",
         "zoomOut2d",
         "pan2d",
         "autoScale2d",
         "hoverClosestCartesian",
         "hoverCompareCartesian",
         "toggleSpikelines",
         "resetScale2d"
        ],
        "plotlyServerURL": "https://plot.ly",
        "responsive": true,
        "showAxisDragHandles": false,
        "toImageButtonOptions": {
         "filename": "tfb-plot",
         "format": "png",
         "height": 450,
         "scale": 2,
         "width": 600
        }
       },
       "data": [
        {
         "hovertemplate": "<b>Book:</b> OotA<br><b>Monster:</b> %{x}<br><b>CR:</b> %{text}<br><b>XP ratio:</b> %{y:.2f}<extra></extra>",
         "marker": {
          "color": "#1f77b4",
          "line": {
           "color": "#1f77b4",
           "width": 2
          },
          "size": 10,
          "symbol": "circle"
         },
         "mode": "markers",
         "name": "OotA",
         "text": [
          "23",
          "26",
          "23",
          "23",
          "26",
          "24",
          "23"
         ],
         "type": "scatter",
         "x": [
          "Baphomet",
          "Demogorgon",
          "Fraz-Urb’luu",
          "Juiblex",
          "Orcus",
          "Yeenoghu",
          "Zuggtmoy"
         ],
         "y": [
          1.4287091004092307,
          1.1517531623931625,
          2.0485384615384614,
          1.0903846153846153,
          1.154740723111111,
          1.2430831265508684,
          1.4021615624711536
         ]
        },
        {
         "hovertemplate": "<b>Book:</b> MToF<br><b>Monster:</b> %{x}<br><b>CR:</b> %{text}<br><b>XP ratio:</b> %{y:.2f}<extra></extra>",
         "marker": {
          "color": "rgba(0,0,0,0.0)",
          "line": {
           "color": "#1f77b4",
           "width": 2
          },
          "size": 10,
          "symbol": "circle"
         },
         "mode": "markers",
         "name": "MToF",
         "text": [
          "23",
          "26",
          "24",
          "23",
          "26",
          "24",
          "23"
         ],
         "type": "scatter",
         "x": [
          "Baphomet",
          "Demogorgon",
          "Fraz-Urb’luu",
          "Juiblex",
          "Orcus",
          "Yeenoghu",
          "Zuggtmoy"
         ],
         "y": [
          1.1033099760150002,
          0.6721965811965812,
          1.3232411910669972,
          1.0903846153846153,
          1.011940723111111,
          0.8788183622828784,
          1.0501615384615384
         ]
        },
        {
         "hovertemplate": "<b>Book:</b> MPMotM<br><b>Monster:</b> %{x}<br><b>CR:</b> %{text}<br><b>XP ratio:</b> %{y:.2f}<extra></extra>",
         "marker": {
          "color": "rgba(0,0,0,0.0)",
          "line": {
           "color": "#1f77b4",
           "width": 2
          },
          "size": 10,
          "symbol": "triangle-up"
         },
         "mode": "markers",
         "name": "MPMotM",
         "text": [
          "23",
          "26",
          "24",
          "24",
          "26",
          "25",
          "23"
         ],
         "type": "scatter",
         "x": [
          "Baphomet",
          "Demogorgon",
          "Fraz-Urb’luu",
          "Juiblex",
          "Orcus",
          "Yeenoghu",
          "Zuggtmoy"
         ],
         "y": [
          1.10057325,
          0.7610405982905984,
          1.2352198511166252,
          0.8793424317617865,
          1.1059066666666668,
          0.9300529230769233,
          1.0030375384615384
         ]
        }
       ],
       "layout": {
        "legend": {
         "orientation": "v",
         "x": 0.99,
         "xanchor": "right",
         "y": 0.99,
         "yanchor": "top"
        },
        "template": {
         "layout": {
          "autosize": true,
          "font": {
           "family": "sans-serif",
           "size": 14
          },
          "hovermode": "closest",
          "legend": {
           "bordercolor": "Black",
           "borderwidth": 1,
           "font": {
            "size": 14
           },
           "orientation": "h",
           "tracegroupgap": 5
          },
          "margin": {
           "b": 80,
           "l": 50,
           "pad": 4,
           "r": 25,
           "t": 40
          },
          "template": {
           "data": {
            "bar": [
             {
              "error_x": {
               "color": "#2a3f5f"
              },
              "error_y": {
               "color": "#2a3f5f"
              },
              "marker": {
               "line": {
                "color": "white",
                "width": 0.5
               },
               "pattern": {
                "fillmode": "overlay",
                "size": 10,
                "solidity": 0.2
               }
              },
              "type": "bar"
             }
            ],
            "barpolar": [
             {
              "marker": {
               "line": {
                "color": "white",
                "width": 0.5
               },
               "pattern": {
                "fillmode": "overlay",
                "size": 10,
                "solidity": 0.2
               }
              },
              "type": "barpolar"
             }
            ],
            "carpet": [
             {
              "aaxis": {
               "endlinecolor": "#2a3f5f",
               "gridcolor": "#C8D4E3",
               "linecolor": "#C8D4E3",
               "minorgridcolor": "#C8D4E3",
               "startlinecolor": "#2a3f5f"
              },
              "baxis": {
               "endlinecolor": "#2a3f5f",
               "gridcolor": "#C8D4E3",
               "linecolor": "#C8D4E3",
               "minorgridcolor": "#C8D4E3",
               "startlinecolor": "#2a3f5f"
              },
              "type": "carpet"
             }
            ],
            "choropleth": [
             {
              "colorbar": {
               "outlinewidth": 0,
               "ticks": ""
              },
              "type": "choropleth"
             }
            ],
            "contour": [
             {
              "colorbar": {
               "outlinewidth": 0,
               "ticks": ""
              },
              "colorscale": [
               [
                0,
                "#0d0887"
               ],
               [
                0.1111111111111111,
                "#46039f"
               ],
               [
                0.2222222222222222,
                "#7201a8"
               ],
               [
                0.3333333333333333,
                "#9c179e"
               ],
               [
                0.4444444444444444,
                "#bd3786"
               ],
               [
                0.5555555555555556,
                "#d8576b"
               ],
               [
                0.6666666666666666,
                "#ed7953"
               ],
               [
                0.7777777777777778,
                "#fb9f3a"
               ],
               [
                0.8888888888888888,
                "#fdca26"
               ],
               [
                1,
                "#f0f921"
               ]
              ],
              "type": "contour"
             }
            ],
            "contourcarpet": [
             {
              "colorbar": {
               "outlinewidth": 0,
               "ticks": ""
              },
              "type": "contourcarpet"
             }
            ],
            "heatmap": [
             {
              "colorbar": {
               "outlinewidth": 0,
               "ticks": ""
              },
              "colorscale": [
               [
                0,
                "#0d0887"
               ],
               [
                0.1111111111111111,
                "#46039f"
               ],
               [
                0.2222222222222222,
                "#7201a8"
               ],
               [
                0.3333333333333333,
                "#9c179e"
               ],
               [
                0.4444444444444444,
                "#bd3786"
               ],
               [
                0.5555555555555556,
                "#d8576b"
               ],
               [
                0.6666666666666666,
                "#ed7953"
               ],
               [
                0.7777777777777778,
                "#fb9f3a"
               ],
               [
                0.8888888888888888,
                "#fdca26"
               ],
               [
                1,
                "#f0f921"
               ]
              ],
              "type": "heatmap"
             }
            ],
            "heatmapgl": [
             {
              "colorbar": {
               "outlinewidth": 0,
               "ticks": ""
              },
              "colorscale": [
               [
                0,
                "#0d0887"
               ],
               [
                0.1111111111111111,
                "#46039f"
               ],
               [
                0.2222222222222222,
                "#7201a8"
               ],
               [
                0.3333333333333333,
                "#9c179e"
               ],
               [
                0.4444444444444444,
                "#bd3786"
               ],
               [
                0.5555555555555556,
                "#d8576b"
               ],
               [
                0.6666666666666666,
                "#ed7953"
               ],
               [
                0.7777777777777778,
                "#fb9f3a"
               ],
               [
                0.8888888888888888,
                "#fdca26"
               ],
               [
                1,
                "#f0f921"
               ]
              ],
              "type": "heatmapgl"
             }
            ],
            "histogram": [
             {
              "marker": {
               "pattern": {
                "fillmode": "overlay",
                "size": 10,
                "solidity": 0.2
               }
              },
              "type": "histogram"
             }
            ],
            "histogram2d": [
             {
              "colorbar": {
               "outlinewidth": 0,
               "ticks": ""
              },
              "colorscale": [
               [
                0,
                "#0d0887"
               ],
               [
                0.1111111111111111,
                "#46039f"
               ],
               [
                0.2222222222222222,
                "#7201a8"
               ],
               [
                0.3333333333333333,
                "#9c179e"
               ],
               [
                0.4444444444444444,
                "#bd3786"
               ],
               [
                0.5555555555555556,
                "#d8576b"
               ],
               [
                0.6666666666666666,
                "#ed7953"
               ],
               [
                0.7777777777777778,
                "#fb9f3a"
               ],
               [
                0.8888888888888888,
                "#fdca26"
               ],
               [
                1,
                "#f0f921"
               ]
              ],
              "type": "histogram2d"
             }
            ],
            "histogram2dcontour": [
             {
              "colorbar": {
               "outlinewidth": 0,
               "ticks": ""
              },
              "colorscale": [
               [
                0,
                "#0d0887"
               ],
               [
                0.1111111111111111,
                "#46039f"
               ],
               [
                0.2222222222222222,
                "#7201a8"
               ],
               [
                0.3333333333333333,
                "#9c179e"
               ],
               [
                0.4444444444444444,
                "#bd3786"
               ],
               [
                0.5555555555555556,
                "#d8576b"
               ],
               [
                0.6666666666666666,
                "#ed7953"
               ],
               [
                0.7777777777777778,
                "#fb9f3a"
               ],
               [
                0.8888888888888888,
                "#fdca26"
               ],
               [
                1,
                "#f0f921"
               ]
              ],
              "type": "histogram2dcontour"
             }
            ],
            "mesh3d": [
             {
              "colorbar": {
               "outlinewidth": 0,
               "ticks": ""
              },
              "type": "mesh3d"
             }
            ],
            "parcoords": [
             {
              "line": {
               "colorbar": {
                "outlinewidth": 0,
                "ticks": ""
               }
              },
              "type": "parcoords"
             }
            ],
            "pie": [
             {
              "automargin": true,
              "type": "pie"
             }
            ],
            "scatter": [
             {
              "fillpattern": {
               "fillmode": "overlay",
               "size": 10,
               "solidity": 0.2
              },
              "type": "scatter"
             }
            ],
            "scatter3d": [
             {
              "line": {
               "colorbar": {
                "outlinewidth": 0,
                "ticks": ""
               }
              },
              "marker": {
               "colorbar": {
                "outlinewidth": 0,
                "ticks": ""
               }
              },
              "type": "scatter3d"
             }
            ],
            "scattercarpet": [
             {
              "marker": {
               "colorbar": {
                "outlinewidth": 0,
                "ticks": ""
               }
              },
              "type": "scattercarpet"
             }
            ],
            "scattergeo": [
             {
              "marker": {
               "colorbar": {
                "outlinewidth": 0,
                "ticks": ""
               }
              },
              "type": "scattergeo"
             }
            ],
            "scattergl": [
             {
              "marker": {
               "colorbar": {
                "outlinewidth": 0,
                "ticks": ""
               }
              },
              "type": "scattergl"
             }
            ],
            "scattermapbox": [
             {
              "marker": {
               "colorbar": {
                "outlinewidth": 0,
                "ticks": ""
               }
              },
              "type": "scattermapbox"
             }
            ],
            "scatterpolar": [
             {
              "marker": {
               "colorbar": {
                "outlinewidth": 0,
                "ticks": ""
               }
              },
              "type": "scatterpolar"
             }
            ],
            "scatterpolargl": [
             {
              "marker": {
               "colorbar": {
                "outlinewidth": 0,
                "ticks": ""
               }
              },
              "type": "scatterpolargl"
             }
            ],
            "scatterternary": [
             {
              "marker": {
               "colorbar": {
                "outlinewidth": 0,
                "ticks": ""
               }
              },
              "type": "scatterternary"
             }
            ],
            "surface": [
             {
              "colorbar": {
               "outlinewidth": 0,
               "ticks": ""
              },
              "colorscale": [
               [
                0,
                "#0d0887"
               ],
               [
                0.1111111111111111,
                "#46039f"
               ],
               [
                0.2222222222222222,
                "#7201a8"
               ],
               [
                0.3333333333333333,
                "#9c179e"
               ],
               [
                0.4444444444444444,
                "#bd3786"
               ],
               [
                0.5555555555555556,
                "#d8576b"
               ],
               [
                0.6666666666666666,
                "#ed7953"
               ],
               [
                0.7777777777777778,
                "#fb9f3a"
               ],
               [
                0.8888888888888888,
                "#fdca26"
               ],
               [
                1,
                "#f0f921"
               ]
              ],
              "type": "surface"
             }
            ],
            "table": [
             {
              "cells": {
               "fill": {
                "color": "#EBF0F8"
               },
               "line": {
                "color": "white"
               }
              },
              "header": {
               "fill": {
                "color": "#C8D4E3"
               },
               "line": {
                "color": "white"
               }
              },
              "type": "table"
             }
            ]
           },
           "layout": {
            "annotationdefaults": {
             "arrowcolor": "#2a3f5f",
             "arrowhead": 0,
             "arrowwidth": 1
            },
            "autotypenumbers": "strict",
            "coloraxis": {
             "colorbar": {
              "outlinewidth": 0,
              "ticks": ""
             }
            },
            "colorscale": {
             "diverging": [
              [
               0,
               "#8e0152"
              ],
              [
               0.1,
               "#c51b7d"
              ],
              [
               0.2,
               "#de77ae"
              ],
              [
               0.3,
               "#f1b6da"
              ],
              [
               0.4,
               "#fde0ef"
              ],
              [
               0.5,
               "#f7f7f7"
              ],
              [
               0.6,
               "#e6f5d0"
              ],
              [
               0.7,
               "#b8e186"
              ],
              [
               0.8,
               "#7fbc41"
              ],
              [
               0.9,
               "#4d9221"
              ],
              [
               1,
               "#276419"
              ]
             ],
             "sequential": [
              [
               0,
               "#0d0887"
              ],
              [
               0.1111111111111111,
               "#46039f"
              ],
              [
               0.2222222222222222,
               "#7201a8"
              ],
              [
               0.3333333333333333,
               "#9c179e"
              ],
              [
               0.4444444444444444,
               "#bd3786"
              ],
              [
               0.5555555555555556,
               "#d8576b"
              ],
              [
               0.6666666666666666,
               "#ed7953"
              ],
              [
               0.7777777777777778,
               "#fb9f3a"
              ],
              [
               0.8888888888888888,
               "#fdca26"
              ],
              [
               1,
               "#f0f921"
              ]
             ],
             "sequentialminus": [
              [
               0,
               "#0d0887"
              ],
              [
               0.1111111111111111,
               "#46039f"
              ],
              [
               0.2222222222222222,
               "#7201a8"
              ],
              [
               0.3333333333333333,
               "#9c179e"
              ],
              [
               0.4444444444444444,
               "#bd3786"
              ],
              [
               0.5555555555555556,
               "#d8576b"
              ],
              [
               0.6666666666666666,
               "#ed7953"
              ],
              [
               0.7777777777777778,
               "#fb9f3a"
              ],
              [
               0.8888888888888888,
               "#fdca26"
              ],
              [
               1,
               "#f0f921"
              ]
             ]
            },
            "colorway": [
             "#636efa",
             "#EF553B",
             "#00cc96",
             "#ab63fa",
             "#FFA15A",
             "#19d3f3",
             "#FF6692",
             "#B6E880",
             "#FF97FF",
             "#FECB52"
            ],
            "font": {
             "color": "#2a3f5f"
            },
            "geo": {
             "bgcolor": "white",
             "lakecolor": "white",
             "landcolor": "white",
             "showlakes": true,
             "showland": true,
             "subunitcolor": "#C8D4E3"
            },
            "hoverlabel": {
             "align": "left"
            },
            "hovermode": "closest",
            "mapbox": {
             "style": "light"
            },
            "paper_bgcolor": "white",
            "plot_bgcolor": "white",
            "polar": {
             "angularaxis": {
              "gridcolor": "#EBF0F8",
              "linecolor": "#EBF0F8",
              "ticks": ""
             },
             "bgcolor": "white",
             "radialaxis": {
              "gridcolor": "#EBF0F8",
              "linecolor": "#EBF0F8",
              "ticks": ""
             }
            },
            "scene": {
             "xaxis": {
              "backgroundcolor": "white",
              "gridcolor": "#DFE8F3",
              "gridwidth": 2,
              "linecolor": "#EBF0F8",
              "showbackground": true,
              "ticks": "",
              "zerolinecolor": "#EBF0F8"
             },
             "yaxis": {
              "backgroundcolor": "white",
              "gridcolor": "#DFE8F3",
              "gridwidth": 2,
              "linecolor": "#EBF0F8",
              "showbackground": true,
              "ticks": "",
              "zerolinecolor": "#EBF0F8"
             },
             "zaxis": {
              "backgroundcolor": "white",
              "gridcolor": "#DFE8F3",
              "gridwidth": 2,
              "linecolor": "#EBF0F8",
              "showbackground": true,
              "ticks": "",
              "zerolinecolor": "#EBF0F8"
             }
            },
            "shapedefaults": {
             "line": {
              "color": "#2a3f5f"
             }
            },
            "ternary": {
             "aaxis": {
              "gridcolor": "#DFE8F3",
              "linecolor": "#A2B1C6",
              "ticks": ""
             },
             "baxis": {
              "gridcolor": "#DFE8F3",
              "linecolor": "#A2B1C6",
              "ticks": ""
             },
             "bgcolor": "white",
             "caxis": {
              "gridcolor": "#DFE8F3",
              "linecolor": "#A2B1C6",
              "ticks": ""
             }
            },
            "title": {
             "x": 0.05
            },
            "xaxis": {
             "automargin": true,
             "gridcolor": "#EBF0F8",
             "linecolor": "#EBF0F8",
             "ticks": "",
             "title": {
              "standoff": 15
             },
             "zerolinecolor": "#EBF0F8",
             "zerolinewidth": 2
            },
            "yaxis": {
             "automargin": true,
             "gridcolor": "#EBF0F8",
             "linecolor": "#EBF0F8",
             "ticks": "",
             "title": {
              "standoff": 15
             },
             "zerolinecolor": "#EBF0F8",
             "zerolinewidth": 2
            }
           }
          },
          "xaxis": {
           "automargin": true,
           "autorange": false,
           "linecolor": "#444",
           "linewidth": 2,
           "minor": {
            "ticks": "outside"
           },
           "mirror": true,
           "showline": true,
           "ticks": "outside",
           "zeroline": false
          },
          "yaxis": {
           "automargin": true,
           "autorange": false,
           "linecolor": "#444",
           "linewidth": 2,
           "minor": {
            "ticks": "outside"
           },
           "mirror": true,
           "showline": true,
           "ticks": "outside",
           "zeroline": false
          }
         }
        },
        "xaxis": {
         "range": [
          -0.5,
          6.5
         ]
        },
        "yaxis": {
         "dtick": 0.5,
         "minor": {
          "dtick": 0.25,
          "tick0": 0
         },
         "range": [
          0,
          2.5
         ],
         "tick0": 0,
         "title": {
          "text": "calculated XP ratio"
         }
        }
       }
      }
     },
     "metadata": {},
     "output_type": "display_data"
    }
   ],
   "source": [
    "# list of monsters published in two different books\n",
    "df1 = df0[df0['CR'].between(1,30) & df0['Legendary'].isin(['LL'])]\n",
    "dfG = df1.groupby(['Monster','Book']).size().to_frame('Total').reset_index()\n",
    "dfG = dfG[dfG['Total'].gt(0)]\n",
    "dfG = dfG.groupby(['Monster']).size().to_frame('Total').reset_index()\n",
    "dfG = dfG[dfG['Total'].gt(2)]\n",
    "dupMonsters = dfG['Monster'].tolist()\n",
    "\n",
    "df1 = df1[df1['Monster'].isin(dupMonsters)]\n",
    "\n",
    "#books = list(df1['Book'].unique())\n",
    "books = ['OotA', 'MToF', 'MPMotM']\n",
    "colors = plt.rcParams['axes.prop_cycle'].by_key()['color']\n",
    "markers = [\n",
    "    dict(\n",
    "        color='#1f77b4', \n",
    "        line=dict(color='#1f77b4', width=2),\n",
    "        size=10,\n",
    "        symbol='circle',\n",
    "    ),\n",
    "    dict(\n",
    "        color='rgba(0,0,0,0.0)', \n",
    "        line=dict(color='#1f77b4', width=2),\n",
    "        size=10, \n",
    "        symbol='circle',\n",
    "    ),\n",
    "    dict(\n",
    "        color='rgba(0,0,0,0.0)', \n",
    "        line=dict(color='#1f77b4', width=2),\n",
    "        size=10, \n",
    "        symbol='triangle-up',\n",
    "    )\n",
    "]\n",
    "\n",
    "# create figure\n",
    "fig = go.Figure(\n",
    "    layout=go.Layout(\n",
    "        template=TFB_TEMPLATE,\n",
    "        xaxis=dict(\n",
    "            range=[-0.5, len(dupMonsters)-0.5],\n",
    "        ),\n",
    "        yaxis=dict(\n",
    "            title_text='calculated XP ratio',\n",
    "            range=[0, 2.5],\n",
    "            tick0=0, dtick=0.5,\n",
    "            minor=dict(tick0=0, dtick=0.25),\n",
    "        ),\n",
    "        legend=dict(\n",
    "            yanchor='top',  y=0.99,\n",
    "            xanchor='right', x=0.99,\n",
    "            orientation='v',\n",
    "        ),\n",
    "    )\n",
    ")\n",
    "\n",
    "# plot data\n",
    "for book, color, marker in zip(books, colors, markers):\n",
    "    data = df1[df1['Book'].isin([book])]\n",
    "    xpr_mean = np.mean(data['eXP Ratio'])\n",
    "    xpr_std = np.std(data['eXP Ratio'])\n",
    "    print(f'{book}: {xpr_mean:.2f} ({xpr_std:.2f})')\n",
    "    text = [f'{x:.0f}' for x in data['CR'].to_list()]\n",
    "    fig.add_trace(go.Scatter(\n",
    "        x=data['Monster'], \n",
    "        y=data['eXP Ratio'],\n",
    "        mode='markers',\n",
    "        marker=marker,\n",
    "        name=book,\n",
    "        text=text,\n",
    "        hovertemplate=\n",
    "            f'<b>Book:</b> {book}<br>'+\n",
    "            '<b>Monster:</b> %{x}<br>'+\n",
    "            '<b>CR:</b> %{text}<br>'+\n",
    "            '<b>XP ratio:</b> %{y:.2f}'+\n",
    "            '<extra></extra>'\n",
    "    ))\n",
    "\n",
    "\n",
    "# show figure\n",
    "fig.show(config=TFB_CONFIG)\n",
    "\n",
    "# save large format figure\n",
    "if SAVEFIGS:\n",
    "    file_name = f'./fig-exp-ratio-vs-monster-demon-lords-large.html'\n",
    "    fig.write_html(\n",
    "        file_name, \n",
    "        include_plotlyjs=False, \n",
    "        full_html=False, \n",
    "        config=TFB_CONFIG\n",
    "    )\n",
    "    # add style to figure\n",
    "    with open(file_name, 'r') as fin:\n",
    "        fig_soup = BeautifulSoup(fin, 'html.parser')\n",
    "\n",
    "    fig_soup.div['class'] = 'plotly-div-large'\n",
    "    #fig_soup.div['style'] = 'width:800px; min-width:50%; max-width:100%'\n",
    "    with open(file_name, 'wb') as fout:\n",
    "        fout.write(fig_soup.prettify('utf-8'))\n",
    "\n",
    "# save small format figure\n",
    "if SAVEFIGS:\n",
    "    fig.update_traces(marker=dict(size=6))\n",
    "    fig.update_layout(font=dict(size=10), legend=dict(font=dict(size=10)))\n",
    "    file_name = f'./fig-exp-ratio-vs-monster-demon-lords-small.html'\n",
    "    fig.write_html(\n",
    "        file_name, \n",
    "        include_plotlyjs=False, \n",
    "        full_html=False, \n",
    "        config=TFB_CONFIG\n",
    "    )\n",
    "    # add style to figure\n",
    "    with open(file_name, 'r') as fin:\n",
    "        fig_soup = BeautifulSoup(fin, 'html.parser')\n",
    "\n",
    "    fig_soup.div['class'] = 'plotly-div-small'\n",
    "    fig_soup.div['style'] = 'aspect-ratio: 600/500;'\n",
    "    with open(file_name, 'wb') as fout:\n",
    "        fout.write(fig_soup.prettify('utf-8'))"
   ]
  },
  {
   "cell_type": "code",
   "execution_count": 21,
   "metadata": {},
   "outputs": [
    {
     "data": {
      "application/vnd.plotly.v1+json": {
       "config": {
        "autosizable": false,
        "displayModeBar": "hover",
        "displaylogo": false,
        "modeBarButtonsToRemove": [
         "select2d",
         "lasso2d",
         "zoom2d",
         "zoomIn2d",
         "zoomOut2d",
         "pan2d",
         "autoScale2d",
         "hoverClosestCartesian",
         "hoverCompareCartesian",
         "toggleSpikelines",
         "resetScale2d"
        ],
        "plotlyServerURL": "https://plot.ly",
        "responsive": true,
        "showAxisDragHandles": false,
        "toImageButtonOptions": {
         "filename": "tfb-plot",
         "format": "png",
         "height": 450,
         "scale": 2,
         "width": 600
        }
       },
       "data": [
        {
         "customdata": [
          [
           "MM",
           265
          ],
          [
           "VGtM",
           106
          ],
          [
           "MToF",
           88
          ],
          [
           "GGtR",
           47
          ],
          [
           "ERftLW",
           19
          ],
          [
           "EGtW",
           26
          ],
          [
           "MOoT",
           38
          ],
          [
           "VRGtR",
           26
          ],
          [
           "FToD",
           49
          ],
          [
           "MPMotM",
           203
          ]
         ],
         "hovertemplate": "<b>%{customdata[0]}</b><br>Date: %{x}<br>XP ratio: %{y:.2f}<br>Monsters: %{customdata[1]:.0f}<extra></extra>",
         "marker": {
          "color": "rgba(0,0,0,0.0)",
          "line": {
           "color": "#ff7f0e",
           "width": 2
          },
          "size": 10
         },
         "mode": "markers",
         "name": "adventure modules - normal",
         "type": "scatter",
         "x": [
          "2014-09-07T00:00:00",
          "2016-11-15T00:00:00",
          "2018-05-29T00:00:00",
          "2018-11-20T00:00:00",
          "2019-11-19T00:00:00",
          "2020-03-07T00:00:00",
          "2020-07-21T00:00:00",
          "2021-05-18T00:00:00",
          "2021-10-26T00:00:00",
          "2022-05-16T00:00:00"
         ],
         "y": [
          0.7403884738504702,
          0.7616623589085677,
          0.7764626688716465,
          0.7320101406465042,
          0.8183369681582686,
          0.7844984954944034,
          0.7792115347414527,
          0.7565871035480765,
          0.8207932236261216,
          0.7948170515428628
         ]
        },
        {
         "customdata": [
          [
           "MM",
           39
          ],
          [
           "VGtM",
           5
          ],
          [
           "MToF",
           27
          ],
          [
           "GGtR",
           13
          ],
          [
           "ERftLW",
           8
          ],
          [
           "EGtW",
           3
          ],
          [
           "MOoT",
           7
          ],
          [
           "VRGtR",
           6
          ],
          [
           "FToD",
           51
          ],
          [
           "MPMotM",
           34
          ]
         ],
         "hovertemplate": "<b>%{customdata[0]}</b><br>Date: %{x}<br>XP ratio: %{y:.2f}<br>Monsters: %{customdata[1]:.0f}<extra></extra>",
         "marker": {
          "color": "#ff7f0e",
          "line": {
           "color": "#ff7f0e",
           "width": 2
          },
          "size": 10
         },
         "mode": "markers",
         "name": "adventure modules - legendary",
         "type": "scatter",
         "x": [
          "2014-09-07T00:00:00",
          "2016-11-15T00:00:00",
          "2018-05-29T00:00:00",
          "2018-11-20T00:00:00",
          "2019-11-19T00:00:00",
          "2020-03-07T00:00:00",
          "2020-07-21T00:00:00",
          "2021-05-18T00:00:00",
          "2021-10-26T00:00:00",
          "2022-05-16T00:00:00"
         ],
         "y": [
          1.314298204406388,
          1.1647286890217388,
          0.9992387439399169,
          1.0270222926319301,
          1.0724051160832944,
          0.9171852912418378,
          1.26471878083372,
          1.2382743273720702,
          1.0641771037515493,
          1.142251792422706
         ]
        },
        {
         "hoverinfo": "skip",
         "line": {
          "color": "black",
          "dash": "dash"
         },
         "mode": "lines",
         "showlegend": false,
         "type": "scatter",
         "x": [
          "2014-01-01",
          "2023-03-06"
         ],
         "y": [
          1,
          1
         ]
        }
       ],
       "layout": {
        "hoverlabel": {
         "bgcolor": "white"
        },
        "legend": {
         "orientation": "v",
         "x": 0.99,
         "xanchor": "right",
         "y": 0.99,
         "yanchor": "top"
        },
        "template": {
         "layout": {
          "autosize": true,
          "font": {
           "family": "sans-serif",
           "size": 14
          },
          "hovermode": "closest",
          "legend": {
           "bordercolor": "Black",
           "borderwidth": 1,
           "font": {
            "size": 14
           },
           "orientation": "h",
           "tracegroupgap": 5
          },
          "margin": {
           "b": 80,
           "l": 50,
           "pad": 4,
           "r": 25,
           "t": 40
          },
          "template": {
           "data": {
            "bar": [
             {
              "error_x": {
               "color": "#2a3f5f"
              },
              "error_y": {
               "color": "#2a3f5f"
              },
              "marker": {
               "line": {
                "color": "white",
                "width": 0.5
               },
               "pattern": {
                "fillmode": "overlay",
                "size": 10,
                "solidity": 0.2
               }
              },
              "type": "bar"
             }
            ],
            "barpolar": [
             {
              "marker": {
               "line": {
                "color": "white",
                "width": 0.5
               },
               "pattern": {
                "fillmode": "overlay",
                "size": 10,
                "solidity": 0.2
               }
              },
              "type": "barpolar"
             }
            ],
            "carpet": [
             {
              "aaxis": {
               "endlinecolor": "#2a3f5f",
               "gridcolor": "#C8D4E3",
               "linecolor": "#C8D4E3",
               "minorgridcolor": "#C8D4E3",
               "startlinecolor": "#2a3f5f"
              },
              "baxis": {
               "endlinecolor": "#2a3f5f",
               "gridcolor": "#C8D4E3",
               "linecolor": "#C8D4E3",
               "minorgridcolor": "#C8D4E3",
               "startlinecolor": "#2a3f5f"
              },
              "type": "carpet"
             }
            ],
            "choropleth": [
             {
              "colorbar": {
               "outlinewidth": 0,
               "ticks": ""
              },
              "type": "choropleth"
             }
            ],
            "contour": [
             {
              "colorbar": {
               "outlinewidth": 0,
               "ticks": ""
              },
              "colorscale": [
               [
                0,
                "#0d0887"
               ],
               [
                0.1111111111111111,
                "#46039f"
               ],
               [
                0.2222222222222222,
                "#7201a8"
               ],
               [
                0.3333333333333333,
                "#9c179e"
               ],
               [
                0.4444444444444444,
                "#bd3786"
               ],
               [
                0.5555555555555556,
                "#d8576b"
               ],
               [
                0.6666666666666666,
                "#ed7953"
               ],
               [
                0.7777777777777778,
                "#fb9f3a"
               ],
               [
                0.8888888888888888,
                "#fdca26"
               ],
               [
                1,
                "#f0f921"
               ]
              ],
              "type": "contour"
             }
            ],
            "contourcarpet": [
             {
              "colorbar": {
               "outlinewidth": 0,
               "ticks": ""
              },
              "type": "contourcarpet"
             }
            ],
            "heatmap": [
             {
              "colorbar": {
               "outlinewidth": 0,
               "ticks": ""
              },
              "colorscale": [
               [
                0,
                "#0d0887"
               ],
               [
                0.1111111111111111,
                "#46039f"
               ],
               [
                0.2222222222222222,
                "#7201a8"
               ],
               [
                0.3333333333333333,
                "#9c179e"
               ],
               [
                0.4444444444444444,
                "#bd3786"
               ],
               [
                0.5555555555555556,
                "#d8576b"
               ],
               [
                0.6666666666666666,
                "#ed7953"
               ],
               [
                0.7777777777777778,
                "#fb9f3a"
               ],
               [
                0.8888888888888888,
                "#fdca26"
               ],
               [
                1,
                "#f0f921"
               ]
              ],
              "type": "heatmap"
             }
            ],
            "heatmapgl": [
             {
              "colorbar": {
               "outlinewidth": 0,
               "ticks": ""
              },
              "colorscale": [
               [
                0,
                "#0d0887"
               ],
               [
                0.1111111111111111,
                "#46039f"
               ],
               [
                0.2222222222222222,
                "#7201a8"
               ],
               [
                0.3333333333333333,
                "#9c179e"
               ],
               [
                0.4444444444444444,
                "#bd3786"
               ],
               [
                0.5555555555555556,
                "#d8576b"
               ],
               [
                0.6666666666666666,
                "#ed7953"
               ],
               [
                0.7777777777777778,
                "#fb9f3a"
               ],
               [
                0.8888888888888888,
                "#fdca26"
               ],
               [
                1,
                "#f0f921"
               ]
              ],
              "type": "heatmapgl"
             }
            ],
            "histogram": [
             {
              "marker": {
               "pattern": {
                "fillmode": "overlay",
                "size": 10,
                "solidity": 0.2
               }
              },
              "type": "histogram"
             }
            ],
            "histogram2d": [
             {
              "colorbar": {
               "outlinewidth": 0,
               "ticks": ""
              },
              "colorscale": [
               [
                0,
                "#0d0887"
               ],
               [
                0.1111111111111111,
                "#46039f"
               ],
               [
                0.2222222222222222,
                "#7201a8"
               ],
               [
                0.3333333333333333,
                "#9c179e"
               ],
               [
                0.4444444444444444,
                "#bd3786"
               ],
               [
                0.5555555555555556,
                "#d8576b"
               ],
               [
                0.6666666666666666,
                "#ed7953"
               ],
               [
                0.7777777777777778,
                "#fb9f3a"
               ],
               [
                0.8888888888888888,
                "#fdca26"
               ],
               [
                1,
                "#f0f921"
               ]
              ],
              "type": "histogram2d"
             }
            ],
            "histogram2dcontour": [
             {
              "colorbar": {
               "outlinewidth": 0,
               "ticks": ""
              },
              "colorscale": [
               [
                0,
                "#0d0887"
               ],
               [
                0.1111111111111111,
                "#46039f"
               ],
               [
                0.2222222222222222,
                "#7201a8"
               ],
               [
                0.3333333333333333,
                "#9c179e"
               ],
               [
                0.4444444444444444,
                "#bd3786"
               ],
               [
                0.5555555555555556,
                "#d8576b"
               ],
               [
                0.6666666666666666,
                "#ed7953"
               ],
               [
                0.7777777777777778,
                "#fb9f3a"
               ],
               [
                0.8888888888888888,
                "#fdca26"
               ],
               [
                1,
                "#f0f921"
               ]
              ],
              "type": "histogram2dcontour"
             }
            ],
            "mesh3d": [
             {
              "colorbar": {
               "outlinewidth": 0,
               "ticks": ""
              },
              "type": "mesh3d"
             }
            ],
            "parcoords": [
             {
              "line": {
               "colorbar": {
                "outlinewidth": 0,
                "ticks": ""
               }
              },
              "type": "parcoords"
             }
            ],
            "pie": [
             {
              "automargin": true,
              "type": "pie"
             }
            ],
            "scatter": [
             {
              "fillpattern": {
               "fillmode": "overlay",
               "size": 10,
               "solidity": 0.2
              },
              "type": "scatter"
             }
            ],
            "scatter3d": [
             {
              "line": {
               "colorbar": {
                "outlinewidth": 0,
                "ticks": ""
               }
              },
              "marker": {
               "colorbar": {
                "outlinewidth": 0,
                "ticks": ""
               }
              },
              "type": "scatter3d"
             }
            ],
            "scattercarpet": [
             {
              "marker": {
               "colorbar": {
                "outlinewidth": 0,
                "ticks": ""
               }
              },
              "type": "scattercarpet"
             }
            ],
            "scattergeo": [
             {
              "marker": {
               "colorbar": {
                "outlinewidth": 0,
                "ticks": ""
               }
              },
              "type": "scattergeo"
             }
            ],
            "scattergl": [
             {
              "marker": {
               "colorbar": {
                "outlinewidth": 0,
                "ticks": ""
               }
              },
              "type": "scattergl"
             }
            ],
            "scattermapbox": [
             {
              "marker": {
               "colorbar": {
                "outlinewidth": 0,
                "ticks": ""
               }
              },
              "type": "scattermapbox"
             }
            ],
            "scatterpolar": [
             {
              "marker": {
               "colorbar": {
                "outlinewidth": 0,
                "ticks": ""
               }
              },
              "type": "scatterpolar"
             }
            ],
            "scatterpolargl": [
             {
              "marker": {
               "colorbar": {
                "outlinewidth": 0,
                "ticks": ""
               }
              },
              "type": "scatterpolargl"
             }
            ],
            "scatterternary": [
             {
              "marker": {
               "colorbar": {
                "outlinewidth": 0,
                "ticks": ""
               }
              },
              "type": "scatterternary"
             }
            ],
            "surface": [
             {
              "colorbar": {
               "outlinewidth": 0,
               "ticks": ""
              },
              "colorscale": [
               [
                0,
                "#0d0887"
               ],
               [
                0.1111111111111111,
                "#46039f"
               ],
               [
                0.2222222222222222,
                "#7201a8"
               ],
               [
                0.3333333333333333,
                "#9c179e"
               ],
               [
                0.4444444444444444,
                "#bd3786"
               ],
               [
                0.5555555555555556,
                "#d8576b"
               ],
               [
                0.6666666666666666,
                "#ed7953"
               ],
               [
                0.7777777777777778,
                "#fb9f3a"
               ],
               [
                0.8888888888888888,
                "#fdca26"
               ],
               [
                1,
                "#f0f921"
               ]
              ],
              "type": "surface"
             }
            ],
            "table": [
             {
              "cells": {
               "fill": {
                "color": "#EBF0F8"
               },
               "line": {
                "color": "white"
               }
              },
              "header": {
               "fill": {
                "color": "#C8D4E3"
               },
               "line": {
                "color": "white"
               }
              },
              "type": "table"
             }
            ]
           },
           "layout": {
            "annotationdefaults": {
             "arrowcolor": "#2a3f5f",
             "arrowhead": 0,
             "arrowwidth": 1
            },
            "autotypenumbers": "strict",
            "coloraxis": {
             "colorbar": {
              "outlinewidth": 0,
              "ticks": ""
             }
            },
            "colorscale": {
             "diverging": [
              [
               0,
               "#8e0152"
              ],
              [
               0.1,
               "#c51b7d"
              ],
              [
               0.2,
               "#de77ae"
              ],
              [
               0.3,
               "#f1b6da"
              ],
              [
               0.4,
               "#fde0ef"
              ],
              [
               0.5,
               "#f7f7f7"
              ],
              [
               0.6,
               "#e6f5d0"
              ],
              [
               0.7,
               "#b8e186"
              ],
              [
               0.8,
               "#7fbc41"
              ],
              [
               0.9,
               "#4d9221"
              ],
              [
               1,
               "#276419"
              ]
             ],
             "sequential": [
              [
               0,
               "#0d0887"
              ],
              [
               0.1111111111111111,
               "#46039f"
              ],
              [
               0.2222222222222222,
               "#7201a8"
              ],
              [
               0.3333333333333333,
               "#9c179e"
              ],
              [
               0.4444444444444444,
               "#bd3786"
              ],
              [
               0.5555555555555556,
               "#d8576b"
              ],
              [
               0.6666666666666666,
               "#ed7953"
              ],
              [
               0.7777777777777778,
               "#fb9f3a"
              ],
              [
               0.8888888888888888,
               "#fdca26"
              ],
              [
               1,
               "#f0f921"
              ]
             ],
             "sequentialminus": [
              [
               0,
               "#0d0887"
              ],
              [
               0.1111111111111111,
               "#46039f"
              ],
              [
               0.2222222222222222,
               "#7201a8"
              ],
              [
               0.3333333333333333,
               "#9c179e"
              ],
              [
               0.4444444444444444,
               "#bd3786"
              ],
              [
               0.5555555555555556,
               "#d8576b"
              ],
              [
               0.6666666666666666,
               "#ed7953"
              ],
              [
               0.7777777777777778,
               "#fb9f3a"
              ],
              [
               0.8888888888888888,
               "#fdca26"
              ],
              [
               1,
               "#f0f921"
              ]
             ]
            },
            "colorway": [
             "#636efa",
             "#EF553B",
             "#00cc96",
             "#ab63fa",
             "#FFA15A",
             "#19d3f3",
             "#FF6692",
             "#B6E880",
             "#FF97FF",
             "#FECB52"
            ],
            "font": {
             "color": "#2a3f5f"
            },
            "geo": {
             "bgcolor": "white",
             "lakecolor": "white",
             "landcolor": "white",
             "showlakes": true,
             "showland": true,
             "subunitcolor": "#C8D4E3"
            },
            "hoverlabel": {
             "align": "left"
            },
            "hovermode": "closest",
            "mapbox": {
             "style": "light"
            },
            "paper_bgcolor": "white",
            "plot_bgcolor": "white",
            "polar": {
             "angularaxis": {
              "gridcolor": "#EBF0F8",
              "linecolor": "#EBF0F8",
              "ticks": ""
             },
             "bgcolor": "white",
             "radialaxis": {
              "gridcolor": "#EBF0F8",
              "linecolor": "#EBF0F8",
              "ticks": ""
             }
            },
            "scene": {
             "xaxis": {
              "backgroundcolor": "white",
              "gridcolor": "#DFE8F3",
              "gridwidth": 2,
              "linecolor": "#EBF0F8",
              "showbackground": true,
              "ticks": "",
              "zerolinecolor": "#EBF0F8"
             },
             "yaxis": {
              "backgroundcolor": "white",
              "gridcolor": "#DFE8F3",
              "gridwidth": 2,
              "linecolor": "#EBF0F8",
              "showbackground": true,
              "ticks": "",
              "zerolinecolor": "#EBF0F8"
             },
             "zaxis": {
              "backgroundcolor": "white",
              "gridcolor": "#DFE8F3",
              "gridwidth": 2,
              "linecolor": "#EBF0F8",
              "showbackground": true,
              "ticks": "",
              "zerolinecolor": "#EBF0F8"
             }
            },
            "shapedefaults": {
             "line": {
              "color": "#2a3f5f"
             }
            },
            "ternary": {
             "aaxis": {
              "gridcolor": "#DFE8F3",
              "linecolor": "#A2B1C6",
              "ticks": ""
             },
             "baxis": {
              "gridcolor": "#DFE8F3",
              "linecolor": "#A2B1C6",
              "ticks": ""
             },
             "bgcolor": "white",
             "caxis": {
              "gridcolor": "#DFE8F3",
              "linecolor": "#A2B1C6",
              "ticks": ""
             }
            },
            "title": {
             "x": 0.05
            },
            "xaxis": {
             "automargin": true,
             "gridcolor": "#EBF0F8",
             "linecolor": "#EBF0F8",
             "ticks": "",
             "title": {
              "standoff": 15
             },
             "zerolinecolor": "#EBF0F8",
             "zerolinewidth": 2
            },
            "yaxis": {
             "automargin": true,
             "gridcolor": "#EBF0F8",
             "linecolor": "#EBF0F8",
             "ticks": "",
             "title": {
              "standoff": 15
             },
             "zerolinecolor": "#EBF0F8",
             "zerolinewidth": 2
            }
           }
          },
          "xaxis": {
           "automargin": true,
           "autorange": false,
           "linecolor": "#444",
           "linewidth": 2,
           "minor": {
            "ticks": "outside"
           },
           "mirror": true,
           "showline": true,
           "ticks": "outside",
           "zeroline": false
          },
          "yaxis": {
           "automargin": true,
           "autorange": false,
           "linecolor": "#444",
           "linewidth": 2,
           "minor": {
            "ticks": "outside"
           },
           "mirror": true,
           "showline": true,
           "ticks": "outside",
           "zeroline": false
          }
         }
        },
        "xaxis": {
         "range": [
          "2014-01-01",
          "2023-03-06"
         ],
         "title": {
          "text": "publication year"
         }
        },
        "yaxis": {
         "dtick": 0.5,
         "minor": {
          "dtick": 0.25,
          "tick0": 0
         },
         "range": [
          0,
          2
         ],
         "tick0": 0,
         "tickformat": ".1f",
         "title": {
          "text": "calculated XP ratio"
         }
        }
       }
      }
     },
     "metadata": {},
     "output_type": "display_data"
    }
   ],
   "source": [
    "# plot eXP ratio vs time. Split data by book type.\n",
    "from datetime import date\n",
    "from bs4 import BeautifulSoup\n",
    "\n",
    "groups = {\n",
    "    'adventure modules - normal': {\n",
    "        'Legendary': ['N'],\n",
    "        'marker': dict(\n",
    "            size=10, \n",
    "            color='rgba(0,0,0,0.0)', \n",
    "            line=dict(color='#ff7f0e', width=2)\n",
    "        )\n",
    "    },\n",
    "    'adventure modules - legendary': {\n",
    "        'Legendary': ['L','LL'],\n",
    "        'marker': dict(\n",
    "            size=10, \n",
    "            color='#ff7f0e', \n",
    "            line=dict(color='#ff7f0e', width=2)\n",
    "        )\n",
    "    }\n",
    "}\n",
    "\n",
    "# summarize the current dataset\n",
    "\n",
    "\n",
    "group_columns = ['Date','group','Book']\n",
    "date_range = [date(2014, 1, 1), date.today()]\n",
    "\n",
    "# plot results\n",
    "fig = go.Figure(\n",
    "    layout=go.Layout(\n",
    "        template=TFB_TEMPLATE,\n",
    "        hoverlabel=dict(\n",
    "            bgcolor='white',\n",
    "        ),\n",
    "        xaxis=dict(\n",
    "            title_text='publication year',\n",
    "            range=date_range,\n",
    "        ),\n",
    "        yaxis=dict(\n",
    "            title_text='calculated XP ratio',\n",
    "            range=[0, 2],\n",
    "            tick0=0, dtick=0.5,\n",
    "            tickformat='.1f',\n",
    "            minor=dict(tick0=0, dtick=0.25),\n",
    "        ),\n",
    "        legend=dict(\n",
    "            yanchor='top',  y=0.99,\n",
    "            xanchor='right', x=0.99,\n",
    "            orientation='v',\n",
    "        ),\n",
    "    )\n",
    ")\n",
    "\n",
    "for g in groups:\n",
    "    group = groups[g]\n",
    "    df1 = df0[df0['CR'].between(1,30) & df0['Legendary'].isin(group['Legendary']) & df0['Book Type'].isin(['Source'])]\n",
    "    df1['group'] = df1.apply(lambda row: 'source books - normal' if row['Legendary'] == 'N' else 'source books - legendary', axis=1)\n",
    "    df1 = df1[group_columns + ['eXP Ratio']]\n",
    "    \n",
    "    dfG = df1.groupby(group_columns).size().to_frame('Total').reset_index()\n",
    "    dfG['eXP Ratio Mean'] = df1.groupby(group_columns).mean().reset_index()['eXP Ratio']\n",
    "    dfG['eXP Ratio Std Dev'] = df1.groupby(group_columns).std().reset_index()['eXP Ratio']\n",
    "    dfG = dfG.sort_values(by=['Date'])\n",
    "    dfG = dfG[dfG['Total'].ge(1)]\n",
    "    \n",
    "    fig.add_trace(go.Scatter(\n",
    "        x=dfG['Date'], \n",
    "        y=dfG['eXP Ratio Mean'],\n",
    "        mode='markers',\n",
    "        name=g,\n",
    "    ))\n",
    "\n",
    "    fig.update_traces(\n",
    "        selector=dict(name=g),\n",
    "        customdata = np.stack((dfG['Book'], dfG['Total']), axis=-1),\n",
    "        hovertemplate = '<b>%{customdata[0]}</b><br>'\n",
    "            + 'Date: %{x}<br>'\n",
    "            + 'XP ratio: %{y:.2f}<br>'\n",
    "            + 'Monsters: %{customdata[1]:.0f}'\n",
    "            + '<extra></extra>',\n",
    "        marker=group['marker'],\n",
    "    )\n",
    "\n",
    "fig.add_trace(go.Scatter(\n",
    "    x=date_range, \n",
    "    y=[1, 1],\n",
    "    mode='lines', \n",
    "    line=dict(color='black', dash='dash'),\n",
    "    showlegend=False,\n",
    "    hoverinfo='skip'\n",
    "))\n",
    "\n",
    "# show figure\n",
    "fig.show(config=TFB_CONFIG)\n",
    "\n",
    "# save large format figure\n",
    "if SAVEFIGS:\n",
    "    file_name = f'./fig-exp-ratio-mean-vs-time-source-books-large.html'\n",
    "    fig.write_html(\n",
    "        file_name, \n",
    "        include_plotlyjs=False, \n",
    "        full_html=False, \n",
    "        config=TFB_CONFIG\n",
    "    )\n",
    "    # add style to figure\n",
    "    with open(file_name, 'r') as fin:\n",
    "        fig_soup = BeautifulSoup(fin, 'html.parser')\n",
    "\n",
    "    fig_soup.div['class'] = 'plotly-div-large'\n",
    "    fig_soup.div['style'] = 'width:800px; min-width:50%; max-width:100%'\n",
    "    with open(file_name, 'wb') as fout:\n",
    "        fout.write(fig_soup.prettify('utf-8'))\n",
    "\n",
    "# save small format figure\n",
    "if SAVEFIGS:\n",
    "    fig.update_traces(marker=dict(size=6))\n",
    "    fig.update_layout(font=dict(size=10), legend=dict(font=dict(size=10)))\n",
    "    file_name = f'./fig-exp-ratio-mean-vs-time-source-books-small.html'\n",
    "    fig.write_html(\n",
    "        file_name, \n",
    "        include_plotlyjs=False, \n",
    "        full_html=False, \n",
    "        config=TFB_CONFIG\n",
    "    )\n",
    "    # add style to figure\n",
    "    with open(file_name, 'r') as fin:\n",
    "        fig_soup = BeautifulSoup(fin, 'html.parser')\n",
    "\n",
    "    fig_soup.div['class'] = 'plotly-div-small'\n",
    "    #fig_soup.div['style'] = 'hight:800px; min-width:50%; max-width:100%'\n",
    "    fig_soup.div['style'] = 'aspect-ratio: 600/500;'\n",
    "    with open(file_name, 'wb') as fout:\n",
    "        fout.write(fig_soup.prettify('utf-8'))"
   ]
  },
  {
   "cell_type": "code",
   "execution_count": 28,
   "metadata": {},
   "outputs": [
    {
     "name": "stderr",
     "output_type": "stream",
     "text": [
      "/Users/tom/Development/python-venv/thefinishedbook/lib/python3.10/site-packages/numpy/lib/histograms.py:883: RuntimeWarning:\n",
      "\n",
      "invalid value encountered in divide\n",
      "\n"
     ]
    },
    {
     "data": {
      "image/png": "[encoded data removed]",
      "text/plain": [
       "<Figure size 500x400 with 1 Axes>"
      ]
     },
     "metadata": {},
     "output_type": "display_data"
    }
   ],
   "source": [
    "# plot CDF of eXP Ratio for different source books\n",
    "plotColumn = 'eXP Ratio'\n",
    "groups = {\n",
    "    'MM': {'Book': ['MM'], 'color': colors[0]},\n",
    "    'non-MM': {'Book': ['VGtM','MToF','GGtR','ERftLW','EGtW','MOoT','VRGtR','FToD','SaCoC'], 'color': colors[1]}\n",
    "}\n",
    "\n",
    "df1 = df0[df0['CR'].between(1,30) & df0['Book Type'].isin(['Source']) & df0['Legendary'].isin(['L','LL'])]\n",
    "df1['Book'] = df1['Book'].cat.remove_unused_categories()\n",
    "\n",
    "colors = plt.rcParams['axes.prop_cycle'].by_key()['color']\n",
    "\n",
    "rMin = 0.5; rMax = 3; rDel = 0.05\n",
    "rLims = [rMin - rDel/2, rMax + rDel/2]\n",
    "rRange = np.linspace(rMin - rDel/2, rMax + rDel/2, int(round((rMax - rMin)/rDel)) + 2)\n",
    "\n",
    "fig = plt.figure(figsize=FSIZE, dpi=FDPI, tight_layout=True)\n",
    "ax = plt.axes()\n",
    "for b in groups['non-MM']['Book']:\n",
    "    ax.hist(df1[df1['Book'].isin([b])][plotColumn], rRange, density=True, cumulative=True, histtype='step', \n",
    "        linewidth=0.5, edgecolor=groups['non-MM']['color'])\n",
    "\n",
    "for g in groups:\n",
    "    ax.hist(df1[df1['Book'].isin(groups[g]['Book'])][plotColumn], rRange, density=True, cumulative=True, histtype='step', label=g, \n",
    "        linewidth=2, edgecolor=groups[g]['color'])\n",
    "\n",
    "ax.set(xlim=rLims, xlabel='calculated XP ratio', ylabel='CDF')\n",
    "ax.legend(loc='lower right')\n",
    "\n",
    "ax.xaxis.set_major_locator(MultipleLocator(0.5))\n",
    "ax.xaxis.set_major_formatter(FormatStrFormatter('%.1f'))\n",
    "ax.xaxis.set_minor_locator(MultipleLocator(0.25))\n",
    "\n",
    "if SAVEFIGS: plt.savefig('exp-ratio-cdf-mm-vs-source-books.svg', metadata=METADATA)"
   ]
  },
  {
   "cell_type": "code",
   "execution_count": 29,
   "metadata": {},
   "outputs": [
    {
     "data": {
      "image/png": "[encoded data removed]",
      "text/plain": [
       "<Figure size 500x400 with 1 Axes>"
      ]
     },
     "metadata": {},
     "output_type": "display_data"
    }
   ],
   "source": [
    "# summarize the current dataset\n",
    "df1 = df0[df0['CR'].between(1,30) \n",
    "    & df0['Book Type'].isin(['Source']) \n",
    "    & df0['Legendary'].isin(['L','LL'])]\n",
    "\n",
    "col = 'eXP Ratio'\n",
    "\n",
    "groups = {\n",
    "    'MM': {'Book': ['MM'], 'Exclude Type': []},\n",
    "    'non-MM': {'Book': ['VGtM','MToF','GGtR','ERftLW','EGtW','MOoT','VRGtR','FToD','SaCoC'], 'Exclude Type': []},\n",
    "    'MM - no dragons': {'Book': ['MM'], 'Exclude Type': ['dragon']},\n",
    "}\n",
    "\n",
    "rMin = 0.5; rMax = 3; rDel = 0.05\n",
    "rLims = [rMin - rDel/2, rMax + rDel/2]\n",
    "rRange = np.linspace(rMin - rDel/2, rMax + rDel/2, int(round((rMax - rMin)/rDel)) + 2)\n",
    "\n",
    "fig = plt.figure(figsize=FSIZE, dpi=FDPI, tight_layout=True)\n",
    "ax = plt.axes()\n",
    "\n",
    "for g in groups:\n",
    "    ax.hist(df1[df1['Book'].isin(groups[g]['Book']) & ~df1['Type'].isin(groups[g]['Exclude Type'])]['eXP Ratio'],\n",
    "        rRange, density=True, cumulative=True, histtype='step', linewidth=1, label=g)\n",
    "\n",
    "ax.set(xlim=[0.5,3.0], xlabel='calculated XP ratio', ylabel='CDF')\n",
    "ax.legend(loc='lower right')\n",
    "\n",
    "ax.xaxis.set_major_locator(MultipleLocator(0.5))\n",
    "ax.xaxis.set_major_formatter(FormatStrFormatter('%.1f'))\n",
    "ax.xaxis.set_minor_locator(MultipleLocator(0.25))\n",
    "\n",
    "if SAVEFIGS: plt.savefig('exp-ratio-cdf-mm-vs-source-books-no-dragons.svg', metadata=METADATA)"
   ]
  },
  {
   "cell_type": "code",
   "execution_count": 32,
   "metadata": {},
   "outputs": [
    {
     "data": {
      "application/vnd.plotly.v1+json": {
       "config": {
        "autosizable": false,
        "displayModeBar": "hover",
        "displaylogo": false,
        "modeBarButtonsToRemove": [
         "select2d",
         "lasso2d",
         "zoom2d",
         "zoomIn2d",
         "zoomOut2d",
         "pan2d",
         "autoScale2d",
         "hoverClosestCartesian",
         "hoverCompareCartesian",
         "toggleSpikelines",
         "resetScale2d"
        ],
        "plotlyServerURL": "https://plot.ly",
        "responsive": true,
        "showAxisDragHandles": false,
        "toImageButtonOptions": {
         "filename": "tfb-plot",
         "format": "png",
         "height": 450,
         "scale": 2,
         "width": 600
        }
       },
       "data": [
        {
         "customdata": [
          [
           "Aboleth",
           "MM"
          ],
          [
           "Beholder",
           "MM"
          ],
          [
           "Beholder",
           "MM"
          ],
          [
           "Death Tyrant",
           "MM"
          ],
          [
           "Death Tyrant",
           "MM"
          ],
          [
           "Demilich",
           "MM"
          ],
          [
           "Demilich",
           "MM"
          ],
          [
           "Dracolich, Blue Adult",
           "MM"
          ],
          [
           "Empyrean",
           "MM"
          ],
          [
           "Kraken",
           "MM"
          ],
          [
           "Mummy Lord",
           "MM"
          ],
          [
           "Mummy Lord",
           "MM"
          ],
          [
           "Solar",
           "MM"
          ],
          [
           "Sphinx, Androsphinx",
           "MM"
          ],
          [
           "Sphinx, Gynosphinx",
           "MM"
          ],
          [
           "Tarrasque",
           "MM"
          ],
          [
           "Vampire",
           "MM"
          ],
          [
           "Vampire Spellcaster",
           "MM"
          ],
          [
           "Vampire Warrior",
           "MM"
          ]
         ],
         "hovertemplate": "<b>%{customdata[0]}</b><br>Book: %{customdata[1]}<br>CR: %{x:.0f}<br>XP ratio: %{y:.2f}<br><extra></extra>",
         "marker": {
          "color": "#1f77b4",
          "line": {
           "color": "#1f77b4",
           "width": 2
          },
          "size": 8
         },
         "mode": "markers",
         "name": "non-dragons",
         "type": "scatter",
         "x": [
          10,
          13,
          14,
          14,
          15,
          18,
          20,
          17,
          23,
          23,
          15,
          16,
          21,
          17,
          11,
          30,
          13,
          15,
          15
         ],
         "y": [
          1.1211864406779661,
          1.2274,
          1.4204565217391305,
          1.2792642140468227,
          1.506102071005917,
          0.8971684615384614,
          0.8376770769230767,
          1.4417307692307693,
          1.1651990008407695,
          2.2556153846153846,
          0.9461804733727812,
          1.047899979,
          0.678020979020979,
          0.840231623931624,
          0.8263888888888891,
          1.09001355035732,
          0.8834134615384616,
          0.8471708398668638,
          0.6898779585798818
         ]
        },
        {
         "customdata": [
          [
           "Black Dragon, Adult",
           "MM"
          ],
          [
           "Black Dragon, Ancient",
           "MM"
          ],
          [
           "Blue Dragon, Adult",
           "MM"
          ],
          [
           "Blue Dragon, Ancient",
           "MM"
          ],
          [
           "Brass Dragon, Adult",
           "MM"
          ],
          [
           "Brass Dragon, Ancient",
           "MM"
          ],
          [
           "Bronze Dragon, Adult",
           "MM"
          ],
          [
           "Bronze Dragon, Ancient",
           "MM"
          ],
          [
           "Copper Dragon, Adult",
           "MM"
          ],
          [
           "Copper Dragon, Ancient",
           "MM"
          ],
          [
           "Gold Dragon, Adult",
           "MM"
          ],
          [
           "Gold Dragon, Ancient",
           "MM"
          ],
          [
           "Green Dragon, Adult",
           "MM"
          ],
          [
           "Green Dragon, Ancient",
           "MM"
          ],
          [
           "Red Dragon, Adult",
           "MM"
          ],
          [
           "Red Dragon, Ancient",
           "MM"
          ],
          [
           "Silver Dragon, Adult",
           "MM"
          ],
          [
           "Silver Dragon, Ancient",
           "MM"
          ],
          [
           "White Dragon, Adult",
           "MM"
          ],
          [
           "White Dragon, Ancient",
           "MM"
          ]
         ],
         "hovertemplate": "<b>%{customdata[0]}</b><br>Book: %{customdata[1]}<br>CR: %{x:.0f}<br>XP ratio: %{y:.2f}<br><extra></extra>",
         "marker": {
          "color": "#ff7f0e",
          "line": {
           "color": "#ff7f0e",
           "width": 2
          },
          "size": 8
         },
         "mode": "markers",
         "name": "dragons",
         "type": "scatter",
         "x": [
          14,
          21,
          16,
          23,
          13,
          20,
          15,
          22,
          14,
          21,
          17,
          24,
          15,
          22,
          17,
          24,
          16,
          23,
          13,
          20
         ],
         "y": [
          1.5679765505016723,
          1.4550674376631705,
          1.5774230769230768,
          1.4816784615384615,
          1.5147294482153846,
          1.2967476923076924,
          1.7494516384970413,
          1.497470887598499,
          1.4572095520802673,
          1.3446154153846155,
          1.5573696255897433,
          1.251681141439206,
          1.5245413849704141,
          1.4506941562851783,
          1.5898995319871791,
          1.3668871224193548,
          1.6712615748923079,
          1.37037497115,
          1.8167756841538463,
          1.7147769230769232
         ]
        },
        {
         "hoverinfo": "skip",
         "line": {
          "color": "black",
          "dash": "dash"
         },
         "mode": "lines",
         "showlegend": false,
         "type": "scatter",
         "x": [
          10,
          30
         ],
         "y": [
          1,
          1
         ]
        }
       ],
       "layout": {
        "legend": {
         "orientation": "v",
         "x": 0.01,
         "xanchor": "left",
         "y": 0.99,
         "yanchor": "top"
        },
        "template": {
         "layout": {
          "autosize": true,
          "font": {
           "family": "sans-serif",
           "size": 14
          },
          "hovermode": "closest",
          "legend": {
           "bordercolor": "Black",
           "borderwidth": 1,
           "font": {
            "size": 14
           },
           "orientation": "h",
           "tracegroupgap": 5
          },
          "margin": {
           "b": 80,
           "l": 50,
           "pad": 4,
           "r": 25,
           "t": 40
          },
          "template": {
           "data": {
            "bar": [
             {
              "error_x": {
               "color": "#2a3f5f"
              },
              "error_y": {
               "color": "#2a3f5f"
              },
              "marker": {
               "line": {
                "color": "white",
                "width": 0.5
               },
               "pattern": {
                "fillmode": "overlay",
                "size": 10,
                "solidity": 0.2
               }
              },
              "type": "bar"
             }
            ],
            "barpolar": [
             {
              "marker": {
               "line": {
                "color": "white",
                "width": 0.5
               },
               "pattern": {
                "fillmode": "overlay",
                "size": 10,
                "solidity": 0.2
               }
              },
              "type": "barpolar"
             }
            ],
            "carpet": [
             {
              "aaxis": {
               "endlinecolor": "#2a3f5f",
               "gridcolor": "#C8D4E3",
               "linecolor": "#C8D4E3",
               "minorgridcolor": "#C8D4E3",
               "startlinecolor": "#2a3f5f"
              },
              "baxis": {
               "endlinecolor": "#2a3f5f",
               "gridcolor": "#C8D4E3",
               "linecolor": "#C8D4E3",
               "minorgridcolor": "#C8D4E3",
               "startlinecolor": "#2a3f5f"
              },
              "type": "carpet"
             }
            ],
            "choropleth": [
             {
              "colorbar": {
               "outlinewidth": 0,
               "ticks": ""
              },
              "type": "choropleth"
             }
            ],
            "contour": [
             {
              "colorbar": {
               "outlinewidth": 0,
               "ticks": ""
              },
              "colorscale": [
               [
                0,
                "#0d0887"
               ],
               [
                0.1111111111111111,
                "#46039f"
               ],
               [
                0.2222222222222222,
                "#7201a8"
               ],
               [
                0.3333333333333333,
                "#9c179e"
               ],
               [
                0.4444444444444444,
                "#bd3786"
               ],
               [
                0.5555555555555556,
                "#d8576b"
               ],
               [
                0.6666666666666666,
                "#ed7953"
               ],
               [
                0.7777777777777778,
                "#fb9f3a"
               ],
               [
                0.8888888888888888,
                "#fdca26"
               ],
               [
                1,
                "#f0f921"
               ]
              ],
              "type": "contour"
             }
            ],
            "contourcarpet": [
             {
              "colorbar": {
               "outlinewidth": 0,
               "ticks": ""
              },
              "type": "contourcarpet"
             }
            ],
            "heatmap": [
             {
              "colorbar": {
               "outlinewidth": 0,
               "ticks": ""
              },
              "colorscale": [
               [
                0,
                "#0d0887"
               ],
               [
                0.1111111111111111,
                "#46039f"
               ],
               [
                0.2222222222222222,
                "#7201a8"
               ],
               [
                0.3333333333333333,
                "#9c179e"
               ],
               [
                0.4444444444444444,
                "#bd3786"
               ],
               [
                0.5555555555555556,
                "#d8576b"
               ],
               [
                0.6666666666666666,
                "#ed7953"
               ],
               [
                0.7777777777777778,
                "#fb9f3a"
               ],
               [
                0.8888888888888888,
                "#fdca26"
               ],
               [
                1,
                "#f0f921"
               ]
              ],
              "type": "heatmap"
             }
            ],
            "heatmapgl": [
             {
              "colorbar": {
               "outlinewidth": 0,
               "ticks": ""
              },
              "colorscale": [
               [
                0,
                "#0d0887"
               ],
               [
                0.1111111111111111,
                "#46039f"
               ],
               [
                0.2222222222222222,
                "#7201a8"
               ],
               [
                0.3333333333333333,
                "#9c179e"
               ],
               [
                0.4444444444444444,
                "#bd3786"
               ],
               [
                0.5555555555555556,
                "#d8576b"
               ],
               [
                0.6666666666666666,
                "#ed7953"
               ],
               [
                0.7777777777777778,
                "#fb9f3a"
               ],
               [
                0.8888888888888888,
                "#fdca26"
               ],
               [
                1,
                "#f0f921"
               ]
              ],
              "type": "heatmapgl"
             }
            ],
            "histogram": [
             {
              "marker": {
               "pattern": {
                "fillmode": "overlay",
                "size": 10,
                "solidity": 0.2
               }
              },
              "type": "histogram"
             }
            ],
            "histogram2d": [
             {
              "colorbar": {
               "outlinewidth": 0,
               "ticks": ""
              },
              "colorscale": [
               [
                0,
                "#0d0887"
               ],
               [
                0.1111111111111111,
                "#46039f"
               ],
               [
                0.2222222222222222,
                "#7201a8"
               ],
               [
                0.3333333333333333,
                "#9c179e"
               ],
               [
                0.4444444444444444,
                "#bd3786"
               ],
               [
                0.5555555555555556,
                "#d8576b"
               ],
               [
                0.6666666666666666,
                "#ed7953"
               ],
               [
                0.7777777777777778,
                "#fb9f3a"
               ],
               [
                0.8888888888888888,
                "#fdca26"
               ],
               [
                1,
                "#f0f921"
               ]
              ],
              "type": "histogram2d"
             }
            ],
            "histogram2dcontour": [
             {
              "colorbar": {
               "outlinewidth": 0,
               "ticks": ""
              },
              "colorscale": [
               [
                0,
                "#0d0887"
               ],
               [
                0.1111111111111111,
                "#46039f"
               ],
               [
                0.2222222222222222,
                "#7201a8"
               ],
               [
                0.3333333333333333,
                "#9c179e"
               ],
               [
                0.4444444444444444,
                "#bd3786"
               ],
               [
                0.5555555555555556,
                "#d8576b"
               ],
               [
                0.6666666666666666,
                "#ed7953"
               ],
               [
                0.7777777777777778,
                "#fb9f3a"
               ],
               [
                0.8888888888888888,
                "#fdca26"
               ],
               [
                1,
                "#f0f921"
               ]
              ],
              "type": "histogram2dcontour"
             }
            ],
            "mesh3d": [
             {
              "colorbar": {
               "outlinewidth": 0,
               "ticks": ""
              },
              "type": "mesh3d"
             }
            ],
            "parcoords": [
             {
              "line": {
               "colorbar": {
                "outlinewidth": 0,
                "ticks": ""
               }
              },
              "type": "parcoords"
             }
            ],
            "pie": [
             {
              "automargin": true,
              "type": "pie"
             }
            ],
            "scatter": [
             {
              "fillpattern": {
               "fillmode": "overlay",
               "size": 10,
               "solidity": 0.2
              },
              "type": "scatter"
             }
            ],
            "scatter3d": [
             {
              "line": {
               "colorbar": {
                "outlinewidth": 0,
                "ticks": ""
               }
              },
              "marker": {
               "colorbar": {
                "outlinewidth": 0,
                "ticks": ""
               }
              },
              "type": "scatter3d"
             }
            ],
            "scattercarpet": [
             {
              "marker": {
               "colorbar": {
                "outlinewidth": 0,
                "ticks": ""
               }
              },
              "type": "scattercarpet"
             }
            ],
            "scattergeo": [
             {
              "marker": {
               "colorbar": {
                "outlinewidth": 0,
                "ticks": ""
               }
              },
              "type": "scattergeo"
             }
            ],
            "scattergl": [
             {
              "marker": {
               "colorbar": {
                "outlinewidth": 0,
                "ticks": ""
               }
              },
              "type": "scattergl"
             }
            ],
            "scattermapbox": [
             {
              "marker": {
               "colorbar": {
                "outlinewidth": 0,
                "ticks": ""
               }
              },
              "type": "scattermapbox"
             }
            ],
            "scatterpolar": [
             {
              "marker": {
               "colorbar": {
                "outlinewidth": 0,
                "ticks": ""
               }
              },
              "type": "scatterpolar"
             }
            ],
            "scatterpolargl": [
             {
              "marker": {
               "colorbar": {
                "outlinewidth": 0,
                "ticks": ""
               }
              },
              "type": "scatterpolargl"
             }
            ],
            "scatterternary": [
             {
              "marker": {
               "colorbar": {
                "outlinewidth": 0,
                "ticks": ""
               }
              },
              "type": "scatterternary"
             }
            ],
            "surface": [
             {
              "colorbar": {
               "outlinewidth": 0,
               "ticks": ""
              },
              "colorscale": [
               [
                0,
                "#0d0887"
               ],
               [
                0.1111111111111111,
                "#46039f"
               ],
               [
                0.2222222222222222,
                "#7201a8"
               ],
               [
                0.3333333333333333,
                "#9c179e"
               ],
               [
                0.4444444444444444,
                "#bd3786"
               ],
               [
                0.5555555555555556,
                "#d8576b"
               ],
               [
                0.6666666666666666,
                "#ed7953"
               ],
               [
                0.7777777777777778,
                "#fb9f3a"
               ],
               [
                0.8888888888888888,
                "#fdca26"
               ],
               [
                1,
                "#f0f921"
               ]
              ],
              "type": "surface"
             }
            ],
            "table": [
             {
              "cells": {
               "fill": {
                "color": "#EBF0F8"
               },
               "line": {
                "color": "white"
               }
              },
              "header": {
               "fill": {
                "color": "#C8D4E3"
               },
               "line": {
                "color": "white"
               }
              },
              "type": "table"
             }
            ]
           },
           "layout": {
            "annotationdefaults": {
             "arrowcolor": "#2a3f5f",
             "arrowhead": 0,
             "arrowwidth": 1
            },
            "autotypenumbers": "strict",
            "coloraxis": {
             "colorbar": {
              "outlinewidth": 0,
              "ticks": ""
             }
            },
            "colorscale": {
             "diverging": [
              [
               0,
               "#8e0152"
              ],
              [
               0.1,
               "#c51b7d"
              ],
              [
               0.2,
               "#de77ae"
              ],
              [
               0.3,
               "#f1b6da"
              ],
              [
               0.4,
               "#fde0ef"
              ],
              [
               0.5,
               "#f7f7f7"
              ],
              [
               0.6,
               "#e6f5d0"
              ],
              [
               0.7,
               "#b8e186"
              ],
              [
               0.8,
               "#7fbc41"
              ],
              [
               0.9,
               "#4d9221"
              ],
              [
               1,
               "#276419"
              ]
             ],
             "sequential": [
              [
               0,
               "#0d0887"
              ],
              [
               0.1111111111111111,
               "#46039f"
              ],
              [
               0.2222222222222222,
               "#7201a8"
              ],
              [
               0.3333333333333333,
               "#9c179e"
              ],
              [
               0.4444444444444444,
               "#bd3786"
              ],
              [
               0.5555555555555556,
               "#d8576b"
              ],
              [
               0.6666666666666666,
               "#ed7953"
              ],
              [
               0.7777777777777778,
               "#fb9f3a"
              ],
              [
               0.8888888888888888,
               "#fdca26"
              ],
              [
               1,
               "#f0f921"
              ]
             ],
             "sequentialminus": [
              [
               0,
               "#0d0887"
              ],
              [
               0.1111111111111111,
               "#46039f"
              ],
              [
               0.2222222222222222,
               "#7201a8"
              ],
              [
               0.3333333333333333,
               "#9c179e"
              ],
              [
               0.4444444444444444,
               "#bd3786"
              ],
              [
               0.5555555555555556,
               "#d8576b"
              ],
              [
               0.6666666666666666,
               "#ed7953"
              ],
              [
               0.7777777777777778,
               "#fb9f3a"
              ],
              [
               0.8888888888888888,
               "#fdca26"
              ],
              [
               1,
               "#f0f921"
              ]
             ]
            },
            "colorway": [
             "#636efa",
             "#EF553B",
             "#00cc96",
             "#ab63fa",
             "#FFA15A",
             "#19d3f3",
             "#FF6692",
             "#B6E880",
             "#FF97FF",
             "#FECB52"
            ],
            "font": {
             "color": "#2a3f5f"
            },
            "geo": {
             "bgcolor": "white",
             "lakecolor": "white",
             "landcolor": "white",
             "showlakes": true,
             "showland": true,
             "subunitcolor": "#C8D4E3"
            },
            "hoverlabel": {
             "align": "left"
            },
            "hovermode": "closest",
            "mapbox": {
             "style": "light"
            },
            "paper_bgcolor": "white",
            "plot_bgcolor": "white",
            "polar": {
             "angularaxis": {
              "gridcolor": "#EBF0F8",
              "linecolor": "#EBF0F8",
              "ticks": ""
             },
             "bgcolor": "white",
             "radialaxis": {
              "gridcolor": "#EBF0F8",
              "linecolor": "#EBF0F8",
              "ticks": ""
             }
            },
            "scene": {
             "xaxis": {
              "backgroundcolor": "white",
              "gridcolor": "#DFE8F3",
              "gridwidth": 2,
              "linecolor": "#EBF0F8",
              "showbackground": true,
              "ticks": "",
              "zerolinecolor": "#EBF0F8"
             },
             "yaxis": {
              "backgroundcolor": "white",
              "gridcolor": "#DFE8F3",
              "gridwidth": 2,
              "linecolor": "#EBF0F8",
              "showbackground": true,
              "ticks": "",
              "zerolinecolor": "#EBF0F8"
             },
             "zaxis": {
              "backgroundcolor": "white",
              "gridcolor": "#DFE8F3",
              "gridwidth": 2,
              "linecolor": "#EBF0F8",
              "showbackground": true,
              "ticks": "",
              "zerolinecolor": "#EBF0F8"
             }
            },
            "shapedefaults": {
             "line": {
              "color": "#2a3f5f"
             }
            },
            "ternary": {
             "aaxis": {
              "gridcolor": "#DFE8F3",
              "linecolor": "#A2B1C6",
              "ticks": ""
             },
             "baxis": {
              "gridcolor": "#DFE8F3",
              "linecolor": "#A2B1C6",
              "ticks": ""
             },
             "bgcolor": "white",
             "caxis": {
              "gridcolor": "#DFE8F3",
              "linecolor": "#A2B1C6",
              "ticks": ""
             }
            },
            "title": {
             "x": 0.05
            },
            "xaxis": {
             "automargin": true,
             "gridcolor": "#EBF0F8",
             "linecolor": "#EBF0F8",
             "ticks": "",
             "title": {
              "standoff": 15
             },
             "zerolinecolor": "#EBF0F8",
             "zerolinewidth": 2
            },
            "yaxis": {
             "automargin": true,
             "gridcolor": "#EBF0F8",
             "linecolor": "#EBF0F8",
             "ticks": "",
             "title": {
              "standoff": 15
             },
             "zerolinecolor": "#EBF0F8",
             "zerolinewidth": 2
            }
           }
          },
          "xaxis": {
           "automargin": true,
           "autorange": false,
           "linecolor": "#444",
           "linewidth": 2,
           "minor": {
            "ticks": "outside"
           },
           "mirror": true,
           "showline": true,
           "ticks": "outside",
           "zeroline": false
          },
          "yaxis": {
           "automargin": true,
           "autorange": false,
           "linecolor": "#444",
           "linewidth": 2,
           "minor": {
            "ticks": "outside"
           },
           "mirror": true,
           "showline": true,
           "ticks": "outside",
           "zeroline": false
          }
         }
        },
        "xaxis": {
         "range": [
          9.5,
          30.5
         ],
         "title": {
          "text": "CR"
         }
        },
        "yaxis": {
         "dtick": 0.5,
         "minor": {
          "dtick": 0.25,
          "tick0": 0
         },
         "range": [
          0,
          3
         ],
         "tick0": 0,
         "tickformat": ".1f",
         "title": {
          "text": "calculated XP ratio"
         }
        }
       }
      }
     },
     "metadata": {},
     "output_type": "display_data"
    }
   ],
   "source": [
    "# dragons in the MM vs non-dragons\n",
    "from datetime import date\n",
    "from bs4 import BeautifulSoup\n",
    "\n",
    "# summarize the current dataset\n",
    "df1 = df0[df0['Book'].isin(['MM']) & df0['Legendary'].isin(['L','LL'])]\n",
    "indx = df1['Type'].isin(['dragon'])\n",
    "\n",
    "# create figure\n",
    "fig = go.Figure(\n",
    "    layout=go.Layout(\n",
    "        template=TFB_TEMPLATE,\n",
    "        #hoverlabel=dict(bgcolor='white'),\n",
    "        xaxis=dict(\n",
    "            title_text='CR',\n",
    "            range=[9.5,30.5],\n",
    "        ),\n",
    "        yaxis=dict(\n",
    "            title_text='calculated XP ratio',\n",
    "            range=[0, 3],\n",
    "            tick0=0, dtick=0.5,\n",
    "            tickformat='.1f',\n",
    "            minor=dict(tick0=0, dtick=0.25),\n",
    "        ),\n",
    "        legend=dict(\n",
    "            yanchor='top',  y=0.99,\n",
    "            xanchor='left', x=0.01,\n",
    "            orientation='v',\n",
    "        ),\n",
    "    )\n",
    ")\n",
    "\n",
    "# plot results\n",
    "dft = df1[~indx]\n",
    "fig.add_trace(go.Scatter(\n",
    "    x=dft['CR'], \n",
    "    y=dft['eXP Ratio'],\n",
    "    mode='markers',\n",
    "    name='non-dragons',\n",
    "    marker=dict(\n",
    "        size=8, \n",
    "        color='#1f77b4', \n",
    "        line=dict(color='#1f77b4', width=2)\n",
    "    ),\n",
    "    customdata = np.stack((dft['Monster'], dft['Book']), axis=-1),\n",
    "    hovertemplate = '<b>%{customdata[0]}</b><br>'\n",
    "                  + 'Book: %{customdata[1]}<br>'\n",
    "                  + 'CR: %{x:.0f}<br>'\n",
    "                  + 'XP ratio: %{y:.2f}<br>'\n",
    "                  + '<extra></extra>',\n",
    "))\n",
    "\n",
    "dft = df1[indx]\n",
    "fig.add_trace(go.Scatter(\n",
    "    x=dft['CR'], \n",
    "    y=dft['eXP Ratio'],\n",
    "    mode='markers',\n",
    "    name='dragons',\n",
    "    marker=dict(\n",
    "        size=8, \n",
    "        color='#ff7f0e', \n",
    "        line=dict(color='#ff7f0e', width=2)\n",
    "    ),\n",
    "    customdata = np.stack((dft['Monster'], dft['Book']), axis=-1),\n",
    "    hovertemplate = '<b>%{customdata[0]}</b><br>'\n",
    "                  + 'Book: %{customdata[1]}<br>'\n",
    "                  + 'CR: %{x:.0f}<br>'\n",
    "                  + 'XP ratio: %{y:.2f}<br>'\n",
    "                  + '<extra></extra>',\n",
    "))\n",
    "\n",
    "fig.add_trace(go.Scatter(\n",
    "    x=[10,30], \n",
    "    y=[1, 1],\n",
    "    mode='lines', \n",
    "    line=dict(color='black', dash='dash'),\n",
    "    showlegend=False,\n",
    "    hoverinfo='skip'\n",
    "))\n",
    "\n",
    "# show figure\n",
    "fig.show(config=TFB_CONFIG)\n",
    "\n",
    "# save large format figure\n",
    "if SAVEFIGS:\n",
    "    file_name = f'./fig-exp-ratio-vs-cr-mm-type-dragon-large.html'\n",
    "    fig.write_html(\n",
    "        file_name, \n",
    "        include_plotlyjs=False, \n",
    "        full_html=False, \n",
    "        config=TFB_CONFIG\n",
    "    )\n",
    "    # add style to figure\n",
    "    with open(file_name, 'r') as fin:\n",
    "        fig_soup = BeautifulSoup(fin, 'html.parser')\n",
    "\n",
    "    fig_soup.div['class'] = 'plotly-div-large'\n",
    "    #fig_soup.div['style'] = 'aspect-ratio: 600/500;'\n",
    "    with open(file_name, 'wb') as fout:\n",
    "        fout.write(fig_soup.prettify('utf-8'))\n",
    "\n",
    "# save small format figure\n",
    "if SAVEFIGS:\n",
    "    fig.update_traces(marker=dict(size=6))\n",
    "    fig.update_layout(font=dict(size=10), legend=dict(font=dict(size=10)))\n",
    "    file_name = f'./fig-exp-ratio-vs-cr-mm-type-dragon-small.html'\n",
    "    fig.write_html(\n",
    "        file_name, \n",
    "        include_plotlyjs=False, \n",
    "        full_html=False, \n",
    "        config=TFB_CONFIG\n",
    "    )\n",
    "    # add style to figure\n",
    "    with open(file_name, 'r') as fin:\n",
    "        fig_soup = BeautifulSoup(fin, 'html.parser')\n",
    "\n",
    "    fig_soup.div['class'] = 'plotly-div-small'\n",
    "    fig_soup.div['style'] = 'aspect-ratio: 600/500;'\n",
    "    with open(file_name, 'wb') as fout:\n",
    "        fout.write(fig_soup.prettify('utf-8'))"
   ]
  },
  {
   "cell_type": "code",
   "execution_count": 35,
   "metadata": {},
   "outputs": [
    {
     "data": {
      "application/vnd.plotly.v1+json": {
       "config": {
        "autosizable": false,
        "displayModeBar": "hover",
        "displaylogo": false,
        "modeBarButtonsToRemove": [
         "select2d",
         "lasso2d",
         "zoom2d",
         "zoomIn2d",
         "zoomOut2d",
         "pan2d",
         "autoScale2d",
         "hoverClosestCartesian",
         "hoverCompareCartesian",
         "toggleSpikelines",
         "resetScale2d"
        ],
        "plotlyServerURL": "https://plot.ly",
        "responsive": true,
        "showAxisDragHandles": false,
        "toImageButtonOptions": {
         "filename": "tfb-plot",
         "format": "png",
         "height": 450,
         "scale": 2,
         "width": 600
        }
       },
       "data": [
        {
         "customdata": [
          [
           "Black Dragon, Adult",
           "MM"
          ],
          [
           "Black Dragon, Ancient",
           "MM"
          ],
          [
           "Blue Dragon, Adult",
           "MM"
          ],
          [
           "Blue Dragon, Ancient",
           "MM"
          ],
          [
           "Brass Dragon, Adult",
           "MM"
          ],
          [
           "Brass Dragon, Ancient",
           "MM"
          ],
          [
           "Bronze Dragon, Adult",
           "MM"
          ],
          [
           "Bronze Dragon, Ancient",
           "MM"
          ],
          [
           "Copper Dragon, Adult",
           "MM"
          ],
          [
           "Copper Dragon, Ancient",
           "MM"
          ],
          [
           "Gold Dragon, Adult",
           "MM"
          ],
          [
           "Gold Dragon, Ancient",
           "MM"
          ],
          [
           "Green Dragon, Adult",
           "MM"
          ],
          [
           "Green Dragon, Ancient",
           "MM"
          ],
          [
           "Red Dragon, Adult",
           "MM"
          ],
          [
           "Red Dragon, Ancient",
           "MM"
          ],
          [
           "Silver Dragon, Adult",
           "MM"
          ],
          [
           "Silver Dragon, Ancient",
           "MM"
          ],
          [
           "White Dragon, Adult",
           "MM"
          ],
          [
           "White Dragon, Ancient",
           "MM"
          ]
         ],
         "hovertemplate": "<b>%{customdata[0]}</b><br>Book: %{customdata[1]}<br>CR: %{x:.0f}<br>XP ratio: %{y:.2f}<br><extra></extra>",
         "marker": {
          "color": "#1f77b4",
          "line": {
           "color": "#1f77b4",
           "width": 2
          },
          "size": 8
         },
         "mode": "markers",
         "name": "MM",
         "type": "scatter",
         "x": [
          14,
          21,
          16,
          23,
          13,
          20,
          15,
          22,
          14,
          21,
          17,
          24,
          15,
          22,
          17,
          24,
          16,
          23,
          13,
          20
         ],
         "y": [
          1.5679765505016723,
          1.4550674376631705,
          1.5774230769230768,
          1.4816784615384615,
          1.5147294482153846,
          1.2967476923076924,
          1.7494516384970413,
          1.497470887598499,
          1.4572095520802673,
          1.3446154153846155,
          1.5573696255897433,
          1.251681141439206,
          1.5245413849704141,
          1.4506941562851783,
          1.5898995319871791,
          1.3668871224193548,
          1.6712615748923079,
          1.37037497115,
          1.8167756841538463,
          1.7147769230769232
         ]
        },
        {
         "customdata": [
          [
           "Amethyst Dragon, Adult",
           "FToD"
          ],
          [
           "Amethyst Dragon, Adult",
           "FToD"
          ],
          [
           "Amethyst Dragon, Ancient",
           "FToD"
          ],
          [
           "Amethyst Dragon, Ancient",
           "FToD"
          ],
          [
           "Amethyst Greatwyrm",
           "FToD"
          ],
          [
           "Bahamut, Aspect of",
           "FToD"
          ],
          [
           "Black Greatwyrm",
           "FToD"
          ],
          [
           "Blue Greatwyrm",
           "FToD"
          ],
          [
           "Brass Greatwyrm",
           "FToD"
          ],
          [
           "Bronze Greatwyrm",
           "FToD"
          ],
          [
           "Copper Greatwyrm",
           "FToD"
          ],
          [
           "Crystal Dragon, Adult",
           "FToD"
          ],
          [
           "Crystal Dragon, Adult",
           "FToD"
          ],
          [
           "Crystal Dragon, Ancient",
           "FToD"
          ],
          [
           "Crystal Dragon, Ancient",
           "FToD"
          ],
          [
           "Crystal Greatwyrm",
           "FToD"
          ],
          [
           "Deep Dragon, Adult",
           "FToD"
          ],
          [
           "Deep Dragon, Adult",
           "FToD"
          ],
          [
           "Deep Dragon, Ancient",
           "FToD"
          ],
          [
           "Deep Dragon, Ancient",
           "FToD"
          ],
          [
           "Dragon Turtle, Ancient",
           "FToD"
          ],
          [
           "Dragon Turtle, Ancient",
           "FToD"
          ],
          [
           "Emerald Dragon, Adult",
           "FToD"
          ],
          [
           "Emerald Dragon, Adult",
           "FToD"
          ],
          [
           "Emerald Dragon, Ancient",
           "FToD"
          ],
          [
           "Emerald Dragon, Ancient",
           "FToD"
          ],
          [
           "Emerald Greatwyrm",
           "FToD"
          ],
          [
           "Gold Greatwyrm",
           "FToD"
          ],
          [
           "Green Greatwyrm",
           "FToD"
          ],
          [
           "Moonstone Dragon, Adult",
           "FToD"
          ],
          [
           "Moonstone Dragon, Adult",
           "FToD"
          ],
          [
           "Moonstone Dragon, Ancient",
           "FToD"
          ],
          [
           "Moonstone Dragon, Ancient",
           "FToD"
          ],
          [
           "Red Greatwyrm",
           "FToD"
          ],
          [
           "Sapphire Dragon, Adult",
           "FToD"
          ],
          [
           "Sapphire Dragon, Adult",
           "FToD"
          ],
          [
           "Sapphire Dragon, Ancient",
           "FToD"
          ],
          [
           "Sapphire Dragon, Ancient",
           "FToD"
          ],
          [
           "Sapphire Greatwyrm",
           "FToD"
          ],
          [
           "Sea Serpent, Ancient",
           "FToD"
          ],
          [
           "Silver Greatwyrm",
           "FToD"
          ],
          [
           "Tiamat, Aspect of",
           "FToD"
          ],
          [
           "Topaz Dragon, Adult",
           "FToD"
          ],
          [
           "Topaz Dragon, Adult",
           "FToD"
          ],
          [
           "Topaz Dragon, Ancient",
           "FToD"
          ],
          [
           "Topaz Dragon, Ancient",
           "FToD"
          ],
          [
           "Topaz Greatwyrm",
           "FToD"
          ],
          [
           "White Greatwyrm",
           "FToD"
          ]
         ],
         "hovertemplate": "<b>%{customdata[0]}</b><br>Book: %{customdata[1]}<br>CR: %{x:.0f}<br>XP ratio: %{y:.2f}<br><extra></extra>",
         "marker": {
          "color": "#ff7f0e",
          "line": {
           "color": "#ff7f0e",
           "width": 2
          },
          "size": 8
         },
         "mode": "markers",
         "name": "FToD",
         "type": "scatter",
         "x": [
          16,
          17,
          23,
          24,
          26,
          30,
          27,
          27,
          28,
          28,
          28,
          12,
          13,
          19,
          20,
          26,
          11,
          12,
          18,
          19,
          24,
          25,
          14,
          15,
          21,
          22,
          26,
          28,
          27,
          15,
          16,
          21,
          22,
          27,
          15,
          16,
          22,
          23,
          26,
          14,
          28,
          30,
          13,
          14,
          20,
          21,
          26,
          27
         ],
         "y": [
          1.2422952261692308,
          1.2782615198846152,
          0.9249154085769232,
          0.8506606920130274,
          0.8849899402948718,
          0.8250960634451612,
          0.8754505494505496,
          0.8754505494505496,
          0.856875,
          0.856875,
          0.856875,
          1.3473701201923078,
          1.4367187124999998,
          1.0855288202307691,
          1.1526646153846154,
          0.8849899402948718,
          1.6335950382051285,
          1.896955173846154,
          0.9656871555692307,
          1.1891235682237764,
          0.9949717741935485,
          0.9587838461538463,
          1.3335200668896319,
          1.5315710480946747,
          1.0370454545454546,
          1.0348475831707318,
          0.8849899402948718,
          0.856875,
          0.8754505494505496,
          1.1370023748698226,
          1.140719370374359,
          0.8709615599999999,
          0.7761268953658536,
          0.8754505494505496,
          1.3295599507100593,
          1.4475833720000002,
          0.97869760206379,
          0.9482532291346157,
          0.8849899402948718,
          1.2351793478260868,
          0.856875,
          0.8890558312655087,
          1.2266826923076923,
          1.3956019669565218,
          1.0317210512738462,
          0.9527832167832169,
          0.8849899402948718,
          0.8754505494505496
         ]
        },
        {
         "hoverinfo": "skip",
         "line": {
          "color": "black",
          "dash": "dash"
         },
         "mode": "lines",
         "showlegend": false,
         "type": "scatter",
         "x": [
          10,
          30
         ],
         "y": [
          1,
          1
         ]
        }
       ],
       "layout": {
        "legend": {
         "orientation": "v",
         "x": 0.99,
         "xanchor": "right",
         "y": 0.99,
         "yanchor": "top"
        },
        "template": {
         "layout": {
          "autosize": true,
          "font": {
           "family": "sans-serif",
           "size": 14
          },
          "hovermode": "closest",
          "legend": {
           "bordercolor": "Black",
           "borderwidth": 1,
           "font": {
            "size": 14
           },
           "orientation": "h",
           "tracegroupgap": 5
          },
          "margin": {
           "b": 80,
           "l": 50,
           "pad": 4,
           "r": 25,
           "t": 40
          },
          "template": {
           "data": {
            "bar": [
             {
              "error_x": {
               "color": "#2a3f5f"
              },
              "error_y": {
               "color": "#2a3f5f"
              },
              "marker": {
               "line": {
                "color": "white",
                "width": 0.5
               },
               "pattern": {
                "fillmode": "overlay",
                "size": 10,
                "solidity": 0.2
               }
              },
              "type": "bar"
             }
            ],
            "barpolar": [
             {
              "marker": {
               "line": {
                "color": "white",
                "width": 0.5
               },
               "pattern": {
                "fillmode": "overlay",
                "size": 10,
                "solidity": 0.2
               }
              },
              "type": "barpolar"
             }
            ],
            "carpet": [
             {
              "aaxis": {
               "endlinecolor": "#2a3f5f",
               "gridcolor": "#C8D4E3",
               "linecolor": "#C8D4E3",
               "minorgridcolor": "#C8D4E3",
               "startlinecolor": "#2a3f5f"
              },
              "baxis": {
               "endlinecolor": "#2a3f5f",
               "gridcolor": "#C8D4E3",
               "linecolor": "#C8D4E3",
               "minorgridcolor": "#C8D4E3",
               "startlinecolor": "#2a3f5f"
              },
              "type": "carpet"
             }
            ],
            "choropleth": [
             {
              "colorbar": {
               "outlinewidth": 0,
               "ticks": ""
              },
              "type": "choropleth"
             }
            ],
            "contour": [
             {
              "colorbar": {
               "outlinewidth": 0,
               "ticks": ""
              },
              "colorscale": [
               [
                0,
                "#0d0887"
               ],
               [
                0.1111111111111111,
                "#46039f"
               ],
               [
                0.2222222222222222,
                "#7201a8"
               ],
               [
                0.3333333333333333,
                "#9c179e"
               ],
               [
                0.4444444444444444,
                "#bd3786"
               ],
               [
                0.5555555555555556,
                "#d8576b"
               ],
               [
                0.6666666666666666,
                "#ed7953"
               ],
               [
                0.7777777777777778,
                "#fb9f3a"
               ],
               [
                0.8888888888888888,
                "#fdca26"
               ],
               [
                1,
                "#f0f921"
               ]
              ],
              "type": "contour"
             }
            ],
            "contourcarpet": [
             {
              "colorbar": {
               "outlinewidth": 0,
               "ticks": ""
              },
              "type": "contourcarpet"
             }
            ],
            "heatmap": [
             {
              "colorbar": {
               "outlinewidth": 0,
               "ticks": ""
              },
              "colorscale": [
               [
                0,
                "#0d0887"
               ],
               [
                0.1111111111111111,
                "#46039f"
               ],
               [
                0.2222222222222222,
                "#7201a8"
               ],
               [
                0.3333333333333333,
                "#9c179e"
               ],
               [
                0.4444444444444444,
                "#bd3786"
               ],
               [
                0.5555555555555556,
                "#d8576b"
               ],
               [
                0.6666666666666666,
                "#ed7953"
               ],
               [
                0.7777777777777778,
                "#fb9f3a"
               ],
               [
                0.8888888888888888,
                "#fdca26"
               ],
               [
                1,
                "#f0f921"
               ]
              ],
              "type": "heatmap"
             }
            ],
            "heatmapgl": [
             {
              "colorbar": {
               "outlinewidth": 0,
               "ticks": ""
              },
              "colorscale": [
               [
                0,
                "#0d0887"
               ],
               [
                0.1111111111111111,
                "#46039f"
               ],
               [
                0.2222222222222222,
                "#7201a8"
               ],
               [
                0.3333333333333333,
                "#9c179e"
               ],
               [
                0.4444444444444444,
                "#bd3786"
               ],
               [
                0.5555555555555556,
                "#d8576b"
               ],
               [
                0.6666666666666666,
                "#ed7953"
               ],
               [
                0.7777777777777778,
                "#fb9f3a"
               ],
               [
                0.8888888888888888,
                "#fdca26"
               ],
               [
                1,
                "#f0f921"
               ]
              ],
              "type": "heatmapgl"
             }
            ],
            "histogram": [
             {
              "marker": {
               "pattern": {
                "fillmode": "overlay",
                "size": 10,
                "solidity": 0.2
               }
              },
              "type": "histogram"
             }
            ],
            "histogram2d": [
             {
              "colorbar": {
               "outlinewidth": 0,
               "ticks": ""
              },
              "colorscale": [
               [
                0,
                "#0d0887"
               ],
               [
                0.1111111111111111,
                "#46039f"
               ],
               [
                0.2222222222222222,
                "#7201a8"
               ],
               [
                0.3333333333333333,
                "#9c179e"
               ],
               [
                0.4444444444444444,
                "#bd3786"
               ],
               [
                0.5555555555555556,
                "#d8576b"
               ],
               [
                0.6666666666666666,
                "#ed7953"
               ],
               [
                0.7777777777777778,
                "#fb9f3a"
               ],
               [
                0.8888888888888888,
                "#fdca26"
               ],
               [
                1,
                "#f0f921"
               ]
              ],
              "type": "histogram2d"
             }
            ],
            "histogram2dcontour": [
             {
              "colorbar": {
               "outlinewidth": 0,
               "ticks": ""
              },
              "colorscale": [
               [
                0,
                "#0d0887"
               ],
               [
                0.1111111111111111,
                "#46039f"
               ],
               [
                0.2222222222222222,
                "#7201a8"
               ],
               [
                0.3333333333333333,
                "#9c179e"
               ],
               [
                0.4444444444444444,
                "#bd3786"
               ],
               [
                0.5555555555555556,
                "#d8576b"
               ],
               [
                0.6666666666666666,
                "#ed7953"
               ],
               [
                0.7777777777777778,
                "#fb9f3a"
               ],
               [
                0.8888888888888888,
                "#fdca26"
               ],
               [
                1,
                "#f0f921"
               ]
              ],
              "type": "histogram2dcontour"
             }
            ],
            "mesh3d": [
             {
              "colorbar": {
               "outlinewidth": 0,
               "ticks": ""
              },
              "type": "mesh3d"
             }
            ],
            "parcoords": [
             {
              "line": {
               "colorbar": {
                "outlinewidth": 0,
                "ticks": ""
               }
              },
              "type": "parcoords"
             }
            ],
            "pie": [
             {
              "automargin": true,
              "type": "pie"
             }
            ],
            "scatter": [
             {
              "fillpattern": {
               "fillmode": "overlay",
               "size": 10,
               "solidity": 0.2
              },
              "type": "scatter"
             }
            ],
            "scatter3d": [
             {
              "line": {
               "colorbar": {
                "outlinewidth": 0,
                "ticks": ""
               }
              },
              "marker": {
               "colorbar": {
                "outlinewidth": 0,
                "ticks": ""
               }
              },
              "type": "scatter3d"
             }
            ],
            "scattercarpet": [
             {
              "marker": {
               "colorbar": {
                "outlinewidth": 0,
                "ticks": ""
               }
              },
              "type": "scattercarpet"
             }
            ],
            "scattergeo": [
             {
              "marker": {
               "colorbar": {
                "outlinewidth": 0,
                "ticks": ""
               }
              },
              "type": "scattergeo"
             }
            ],
            "scattergl": [
             {
              "marker": {
               "colorbar": {
                "outlinewidth": 0,
                "ticks": ""
               }
              },
              "type": "scattergl"
             }
            ],
            "scattermapbox": [
             {
              "marker": {
               "colorbar": {
                "outlinewidth": 0,
                "ticks": ""
               }
              },
              "type": "scattermapbox"
             }
            ],
            "scatterpolar": [
             {
              "marker": {
               "colorbar": {
                "outlinewidth": 0,
                "ticks": ""
               }
              },
              "type": "scatterpolar"
             }
            ],
            "scatterpolargl": [
             {
              "marker": {
               "colorbar": {
                "outlinewidth": 0,
                "ticks": ""
               }
              },
              "type": "scatterpolargl"
             }
            ],
            "scatterternary": [
             {
              "marker": {
               "colorbar": {
                "outlinewidth": 0,
                "ticks": ""
               }
              },
              "type": "scatterternary"
             }
            ],
            "surface": [
             {
              "colorbar": {
               "outlinewidth": 0,
               "ticks": ""
              },
              "colorscale": [
               [
                0,
                "#0d0887"
               ],
               [
                0.1111111111111111,
                "#46039f"
               ],
               [
                0.2222222222222222,
                "#7201a8"
               ],
               [
                0.3333333333333333,
                "#9c179e"
               ],
               [
                0.4444444444444444,
                "#bd3786"
               ],
               [
                0.5555555555555556,
                "#d8576b"
               ],
               [
                0.6666666666666666,
                "#ed7953"
               ],
               [
                0.7777777777777778,
                "#fb9f3a"
               ],
               [
                0.8888888888888888,
                "#fdca26"
               ],
               [
                1,
                "#f0f921"
               ]
              ],
              "type": "surface"
             }
            ],
            "table": [
             {
              "cells": {
               "fill": {
                "color": "#EBF0F8"
               },
               "line": {
                "color": "white"
               }
              },
              "header": {
               "fill": {
                "color": "#C8D4E3"
               },
               "line": {
                "color": "white"
               }
              },
              "type": "table"
             }
            ]
           },
           "layout": {
            "annotationdefaults": {
             "arrowcolor": "#2a3f5f",
             "arrowhead": 0,
             "arrowwidth": 1
            },
            "autotypenumbers": "strict",
            "coloraxis": {
             "colorbar": {
              "outlinewidth": 0,
              "ticks": ""
             }
            },
            "colorscale": {
             "diverging": [
              [
               0,
               "#8e0152"
              ],
              [
               0.1,
               "#c51b7d"
              ],
              [
               0.2,
               "#de77ae"
              ],
              [
               0.3,
               "#f1b6da"
              ],
              [
               0.4,
               "#fde0ef"
              ],
              [
               0.5,
               "#f7f7f7"
              ],
              [
               0.6,
               "#e6f5d0"
              ],
              [
               0.7,
               "#b8e186"
              ],
              [
               0.8,
               "#7fbc41"
              ],
              [
               0.9,
               "#4d9221"
              ],
              [
               1,
               "#276419"
              ]
             ],
             "sequential": [
              [
               0,
               "#0d0887"
              ],
              [
               0.1111111111111111,
               "#46039f"
              ],
              [
               0.2222222222222222,
               "#7201a8"
              ],
              [
               0.3333333333333333,
               "#9c179e"
              ],
              [
               0.4444444444444444,
               "#bd3786"
              ],
              [
               0.5555555555555556,
               "#d8576b"
              ],
              [
               0.6666666666666666,
               "#ed7953"
              ],
              [
               0.7777777777777778,
               "#fb9f3a"
              ],
              [
               0.8888888888888888,
               "#fdca26"
              ],
              [
               1,
               "#f0f921"
              ]
             ],
             "sequentialminus": [
              [
               0,
               "#0d0887"
              ],
              [
               0.1111111111111111,
               "#46039f"
              ],
              [
               0.2222222222222222,
               "#7201a8"
              ],
              [
               0.3333333333333333,
               "#9c179e"
              ],
              [
               0.4444444444444444,
               "#bd3786"
              ],
              [
               0.5555555555555556,
               "#d8576b"
              ],
              [
               0.6666666666666666,
               "#ed7953"
              ],
              [
               0.7777777777777778,
               "#fb9f3a"
              ],
              [
               0.8888888888888888,
               "#fdca26"
              ],
              [
               1,
               "#f0f921"
              ]
             ]
            },
            "colorway": [
             "#636efa",
             "#EF553B",
             "#00cc96",
             "#ab63fa",
             "#FFA15A",
             "#19d3f3",
             "#FF6692",
             "#B6E880",
             "#FF97FF",
             "#FECB52"
            ],
            "font": {
             "color": "#2a3f5f"
            },
            "geo": {
             "bgcolor": "white",
             "lakecolor": "white",
             "landcolor": "white",
             "showlakes": true,
             "showland": true,
             "subunitcolor": "#C8D4E3"
            },
            "hoverlabel": {
             "align": "left"
            },
            "hovermode": "closest",
            "mapbox": {
             "style": "light"
            },
            "paper_bgcolor": "white",
            "plot_bgcolor": "white",
            "polar": {
             "angularaxis": {
              "gridcolor": "#EBF0F8",
              "linecolor": "#EBF0F8",
              "ticks": ""
             },
             "bgcolor": "white",
             "radialaxis": {
              "gridcolor": "#EBF0F8",
              "linecolor": "#EBF0F8",
              "ticks": ""
             }
            },
            "scene": {
             "xaxis": {
              "backgroundcolor": "white",
              "gridcolor": "#DFE8F3",
              "gridwidth": 2,
              "linecolor": "#EBF0F8",
              "showbackground": true,
              "ticks": "",
              "zerolinecolor": "#EBF0F8"
             },
             "yaxis": {
              "backgroundcolor": "white",
              "gridcolor": "#DFE8F3",
              "gridwidth": 2,
              "linecolor": "#EBF0F8",
              "showbackground": true,
              "ticks": "",
              "zerolinecolor": "#EBF0F8"
             },
             "zaxis": {
              "backgroundcolor": "white",
              "gridcolor": "#DFE8F3",
              "gridwidth": 2,
              "linecolor": "#EBF0F8",
              "showbackground": true,
              "ticks": "",
              "zerolinecolor": "#EBF0F8"
             }
            },
            "shapedefaults": {
             "line": {
              "color": "#2a3f5f"
             }
            },
            "ternary": {
             "aaxis": {
              "gridcolor": "#DFE8F3",
              "linecolor": "#A2B1C6",
              "ticks": ""
             },
             "baxis": {
              "gridcolor": "#DFE8F3",
              "linecolor": "#A2B1C6",
              "ticks": ""
             },
             "bgcolor": "white",
             "caxis": {
              "gridcolor": "#DFE8F3",
              "linecolor": "#A2B1C6",
              "ticks": ""
             }
            },
            "title": {
             "x": 0.05
            },
            "xaxis": {
             "automargin": true,
             "gridcolor": "#EBF0F8",
             "linecolor": "#EBF0F8",
             "ticks": "",
             "title": {
              "standoff": 15
             },
             "zerolinecolor": "#EBF0F8",
             "zerolinewidth": 2
            },
            "yaxis": {
             "automargin": true,
             "gridcolor": "#EBF0F8",
             "linecolor": "#EBF0F8",
             "ticks": "",
             "title": {
              "standoff": 15
             },
             "zerolinecolor": "#EBF0F8",
             "zerolinewidth": 2
            }
           }
          },
          "xaxis": {
           "automargin": true,
           "autorange": false,
           "linecolor": "#444",
           "linewidth": 2,
           "minor": {
            "ticks": "outside"
           },
           "mirror": true,
           "showline": true,
           "ticks": "outside",
           "zeroline": false
          },
          "yaxis": {
           "automargin": true,
           "autorange": false,
           "linecolor": "#444",
           "linewidth": 2,
           "minor": {
            "ticks": "outside"
           },
           "mirror": true,
           "showline": true,
           "ticks": "outside",
           "zeroline": false
          }
         }
        },
        "xaxis": {
         "range": [
          9.5,
          30.5
         ],
         "title": {
          "text": "CR"
         }
        },
        "yaxis": {
         "dtick": 0.5,
         "minor": {
          "dtick": 0.25,
          "tick0": 0
         },
         "range": [
          0,
          2
         ],
         "tick0": 0,
         "tickformat": ".1f",
         "title": {
          "text": "calculated XP ratio"
         }
        }
       }
      }
     },
     "metadata": {},
     "output_type": "display_data"
    }
   ],
   "source": [
    "# comparison between dragons published in the MM and those puliblished in FToD\n",
    "\n",
    "# summarize the current dataset\n",
    "df1 = df0[df0['CR'].between(1,30) & df0['Legendary'].isin(['L','LL']) & df0['Type'].isin(['dragon'])]\n",
    "\n",
    "# create figure\n",
    "fig = go.Figure(\n",
    "    layout=go.Layout(\n",
    "        template=TFB_TEMPLATE,\n",
    "        xaxis=dict(\n",
    "            title_text='CR',\n",
    "            range=[9.5,30.5],\n",
    "        ),\n",
    "        yaxis=dict(\n",
    "            title_text='calculated XP ratio',\n",
    "            range=[0, 2],\n",
    "            tick0=0, dtick=0.5,\n",
    "            tickformat='.1f',\n",
    "            minor=dict(tick0=0, dtick=0.25),\n",
    "        ),\n",
    "        legend=dict(\n",
    "            yanchor='top',  y=0.99,\n",
    "            xanchor='right', x=0.99,\n",
    "            orientation='v',\n",
    "        ),\n",
    "    )\n",
    ")\n",
    "\n",
    "# plot results\n",
    "dft = df1[df1['Book'].isin(['MM'])]\n",
    "fig.add_trace(go.Scatter(\n",
    "    x=dft['CR'], \n",
    "    y=dft['eXP Ratio'],\n",
    "    mode='markers',\n",
    "    name='MM',\n",
    "    marker=dict(\n",
    "        size=8, \n",
    "        color='#1f77b4', \n",
    "        line=dict(color='#1f77b4', width=2)\n",
    "    ),\n",
    "    customdata = np.stack((dft['Monster'], dft['Book']), axis=-1),\n",
    "    hovertemplate = '<b>%{customdata[0]}</b><br>'\n",
    "                  + 'Book: %{customdata[1]}<br>'\n",
    "                  + 'CR: %{x:.0f}<br>'\n",
    "                  + 'XP ratio: %{y:.2f}<br>'\n",
    "                  + '<extra></extra>',\n",
    "))\n",
    "\n",
    "dft = df1[df1['Book'].isin(['FToD'])]\n",
    "fig.add_trace(go.Scatter(\n",
    "    x=dft['CR'], \n",
    "    y=dft['eXP Ratio'],\n",
    "    mode='markers',\n",
    "    name='FToD',\n",
    "    marker=dict(\n",
    "        size=8, \n",
    "        color='#ff7f0e', \n",
    "        line=dict(color='#ff7f0e', width=2)\n",
    "    ),\n",
    "    customdata = np.stack((dft['Monster'], dft['Book']), axis=-1),\n",
    "    hovertemplate = '<b>%{customdata[0]}</b><br>'\n",
    "                  + 'Book: %{customdata[1]}<br>'\n",
    "                  + 'CR: %{x:.0f}<br>'\n",
    "                  + 'XP ratio: %{y:.2f}<br>'\n",
    "                  + '<extra></extra>',\n",
    "))\n",
    "\n",
    "fig.add_trace(go.Scatter(\n",
    "    x=[10,30], \n",
    "    y=[1, 1],\n",
    "    mode='lines', \n",
    "    line=dict(color='black', dash='dash'),\n",
    "    showlegend=False,\n",
    "    hoverinfo='skip'\n",
    "))\n",
    "\n",
    "# show figure\n",
    "fig.show(config=TFB_CONFIG)\n",
    "\n",
    "# save large format figure\n",
    "if SAVEFIGS:\n",
    "    file_name = f'./fig-exp-ratio-vs-cr-mm-ftod-type-dragon-large.html'\n",
    "    fig.write_html(\n",
    "        file_name, \n",
    "        include_plotlyjs=False, \n",
    "        full_html=False, \n",
    "        config=TFB_CONFIG\n",
    "    )\n",
    "    # add style to figure\n",
    "    with open(file_name, 'r') as fin:\n",
    "        fig_soup = BeautifulSoup(fin, 'html.parser')\n",
    "\n",
    "    fig_soup.div['class'] = 'plotly-div-large'\n",
    "    #fig_soup.div['style'] = 'aspect-ratio: 600/500;'\n",
    "    with open(file_name, 'wb') as fout:\n",
    "        fout.write(fig_soup.prettify('utf-8'))\n",
    "\n",
    "# save small format figure\n",
    "if SAVEFIGS:\n",
    "    fig.update_traces(marker=dict(size=6))\n",
    "    fig.update_layout(font=dict(size=10), legend=dict(font=dict(size=10)))\n",
    "    file_name = f'./fig-exp-ratio-vs-cr-mm-ftod-type-dragon-small.html'\n",
    "    fig.write_html(\n",
    "        file_name, \n",
    "        include_plotlyjs=False, \n",
    "        full_html=False, \n",
    "        config=TFB_CONFIG\n",
    "    )\n",
    "    # add style to figure\n",
    "    with open(file_name, 'r') as fin:\n",
    "        fig_soup = BeautifulSoup(fin, 'html.parser')\n",
    "\n",
    "    fig_soup.div['class'] = 'plotly-div-small'\n",
    "    fig_soup.div['style'] = 'aspect-ratio: 600/500;'\n",
    "    with open(file_name, 'wb') as fout:\n",
    "        fout.write(fig_soup.prettify('utf-8'))"
   ]
  },
  {
   "cell_type": "code",
   "execution_count": 37,
   "metadata": {},
   "outputs": [
    {
     "data": {
      "text/plain": [
       "1.0659607874364023"
      ]
     },
     "execution_count": 37,
     "metadata": {},
     "output_type": "execute_result"
    }
   ],
   "source": [
    "df1 = df0[df0['CR'].between(1,30) & df0['Legendary'].isin(['L','LL']) & df0['Type'].isin(['dragon'])]\n",
    "dfM = df1[df1['Book'].isin(['MM'])]['eXP Ratio'].mean()\n",
    "dfF = df1[df1['Book'].isin(['FToD'])]['eXP Ratio'].mean()\n",
    "dfF"
   ]
  },
  {
   "cell_type": "code",
   "execution_count": 31,
   "metadata": {},
   "outputs": [
    {
     "name": "stderr",
     "output_type": "stream",
     "text": [
      "No handles with labels found to put in legend.\n"
     ]
    },
    {
     "data": {
      "text/plain": [
       "<matplotlib.legend.Legend at 0x12197bc10>"
      ]
     },
     "execution_count": 31,
     "metadata": {},
     "output_type": "execute_result"
    },
    {
     "data": {
      "image/png": "[encoded data removed]",
      "text/plain": [
       "<Figure size 800x400 with 1 Axes>"
      ]
     },
     "metadata": {
      "needs_background": "light"
     },
     "output_type": "display_data"
    }
   ],
   "source": [
    "# plot eXP ratio vs time. Split data by book type.\n",
    "col = 'eXP Ratio'\n",
    "groupbyCol = 'Date'\n",
    "colors = plt.rcParams['axes.prop_cycle'].by_key()['color']\n",
    "groups = {\n",
    "    'adventure books - normal': {\n",
    "        'Book Type': ['Adventure'],\n",
    "        'Legendary': ['N'],\n",
    "        'Edge Color': colors[0],\n",
    "        'Face Color': colors[0],\n",
    "        'Marker': 'o'\n",
    "    },\n",
    "    'adventure books - legendary': {\n",
    "        'Book Type': ['Adventure'],\n",
    "        'Legendary': ['L','LL'],\n",
    "        'Edge Color': colors[0],\n",
    "        'Face Color': 'none',\n",
    "        'Marker': 'o'\n",
    "    },\n",
    "    'source books - normal': {\n",
    "        'Book Type': ['Source'],\n",
    "        'Legendary': ['N'],\n",
    "        'Edge Color': colors[1],\n",
    "        'Face Color': colors[1],\n",
    "        'Marker': 'o'\n",
    "    },\n",
    "    'source books - legendary': {\n",
    "        'Book Type': ['Source'],\n",
    "        'Legendary': ['L','LL'],\n",
    "        'Edge Color': colors[1],\n",
    "        'Face Color': 'none',\n",
    "        'Marker': 'o'\n",
    "    }\n",
    "}\n",
    "\n",
    "# summarize the current dataset\n",
    "df1 = df0[df0['CR'].between(1,30) & df0['Legendary'].isin(['N','L','LL'])]\n",
    "\n",
    "# plot results\n",
    "fig = plt.figure(figsize=[8,4], dpi=FDPI, tight_layout=True)\n",
    "ax = plt.axes()\n",
    "\n",
    "for g in groups:\n",
    "    group = groups[g]\n",
    "    mask = (df1['Book Type'].isin(group['Book Type']) & df1['Legendary'].isin(group['Legendary']))\n",
    "    dfG = df1[mask].groupby(['Date']).size().to_frame('Total').reset_index()\n",
    "    dfG['Mean'] = df1[mask].groupby(['Date']).mean().reset_index()[col]\n",
    "    dfG['Std Dev'] = df1[mask].groupby(['Date']).std().reset_index()[col]\n",
    "    dfG = dfG.sort_values(by=['Date'])\n",
    "    dfG = dfG[dfG['Total'].ge(1)]\n",
    "    ax.errorbar(x=dfG['Date'], y=dfG['Mean'], yerr=dfG['Std Dev'], \n",
    "        markeredgecolor=group['Edge Color'], markerfacecolor=group['Face Color'],\n",
    "        fmt='o', elinewidth=1, capsize=5, ecolor=group['Edge Color'])\n",
    "\n",
    "dateLims = [df1['Date'].min(),df1['Date'].max()]\n",
    "ax.plot(dateLims, [1]*len(dateLims), '--', color='k')\n",
    "ax.set(xlabel='publication year', ylabel='calculated XP ratio', ylim=[0,4])\n",
    "ax.legend()\n",
    "\n",
    "#if SAVEFIGS: plt.savefig('exp-ratio-mean-vs-time-by-book-type-and-legendary.svg', metadata=METADATA)"
   ]
  },
  {
   "cell_type": "code",
   "execution_count": 32,
   "metadata": {},
   "outputs": [
    {
     "name": "stderr",
     "output_type": "stream",
     "text": [
      "No handles with labels found to put in legend.\n"
     ]
    },
    {
     "data": {
      "text/plain": [
       "<matplotlib.legend.Legend at 0x1219226d0>"
      ]
     },
     "execution_count": 32,
     "metadata": {},
     "output_type": "execute_result"
    },
    {
     "data": {
      "image/png": "[encoded data removed]",
      "text/plain": [
       "<Figure size 800x400 with 1 Axes>"
      ]
     },
     "metadata": {
      "needs_background": "light"
     },
     "output_type": "display_data"
    }
   ],
   "source": [
    "# plot eXP ratio vs time. Legendary monsters only.\n",
    "col = 'eXP Ratio'\n",
    "groupbyCol = 'Date'\n",
    "colors = plt.rcParams['axes.prop_cycle'].by_key()['color']\n",
    "groups = {\n",
    "    'adventure books - legendary': {\n",
    "        'Book Type': ['Adventure'],\n",
    "        'Legendary': ['L','LL'],\n",
    "        'Edge Color': colors[0],\n",
    "        'Face Color': 'none',\n",
    "        'Marker': 'o'\n",
    "    },\n",
    "    'source books - legendary': {\n",
    "        'Book Type': ['Source'],\n",
    "        'Legendary': ['L','LL'],\n",
    "        'Edge Color': colors[1],\n",
    "        'Face Color': 'none',\n",
    "        'Marker': 'o'\n",
    "    }\n",
    "}\n",
    "\n",
    "# summarize the current dataset\n",
    "df1 = df0[df0['CR'].between(1,30) & df0['Legendary'].isin(['N','L','LL'])]\n",
    "\n",
    "# plot results\n",
    "fig = plt.figure(figsize=[8,4], dpi=FDPI, tight_layout=True)\n",
    "ax = plt.axes()\n",
    "\n",
    "for g in groups:\n",
    "    group = groups[g]\n",
    "    mask = (df1['Book Type'].isin(group['Book Type']) & df1['Legendary'].isin(group['Legendary']))\n",
    "    dfG = df1[mask].groupby(['Date']).size().to_frame('Total').reset_index()\n",
    "    dfG['Mean'] = df1[mask].groupby(['Date']).mean().reset_index()[col]\n",
    "    dfG['Std Dev'] = df1[mask].groupby(['Date']).std().reset_index()[col]\n",
    "    dfG = dfG.sort_values(by=['Date'])\n",
    "    dfG = dfG[dfG['Total'].ge(1)]\n",
    "    ax.errorbar(x=dfG['Date'], y=dfG['Mean'], yerr=dfG['Std Dev'], \n",
    "        markeredgecolor=group['Edge Color'], markerfacecolor=group['Face Color'],\n",
    "        fmt='o', elinewidth=1, capsize=5, ecolor=group['Edge Color'])\n",
    "\n",
    "dateLims = [df1['Date'].min(),df1['Date'].max()]\n",
    "ax.plot(dateLims, [1]*len(dateLims), '--', color='k')\n",
    "ax.set(xlabel='publication year', ylabel='calculated XP ratio', ylim=[0,4])\n",
    "ax.legend()"
   ]
  }
 ],
 "metadata": {
  "kernelspec": {
   "display_name": "Python 3.10.5 ('thefinishedbook': venv)",
   "language": "python",
   "name": "python3"
  },
  "language_info": {
   "codemirror_mode": {
    "name": "ipython",
    "version": 3
   },
   "file_extension": ".py",
   "mimetype": "text/x-python",
   "name": "python",
   "nbconvert_exporter": "python",
   "pygments_lexer": "ipython3",
   "version": "3.10.5"
  },
  "metadata": {
   "interpreter": {
    "hash": "ac2eaa0ea0ebeafcc7822e65e46aa9d4f966f30b695406963e145ea4a91cd4fc"
   }
  },
  "orig_nbformat": 2,
  "vscode": {
   "interpreter": {
    "hash": "e4b90a08ac11b7f80ea6e39e6f46c6e22a0b6d86a47874aaa13784019f162251"
   }
  }
 },
 "nbformat": 4,
 "nbformat_minor": 2
}
