{
 "cells": [
  {
   "cell_type": "code",
   "execution_count": 1,
   "metadata": {},
   "outputs": [],
   "source": [
    "# setup notebook\n",
    "import numpy as np\n",
    "import plotly.graph_objects as go\n",
    "from bs4 import BeautifulSoup\n",
    "import json\n",
    "import time\n",
    "import sys\n",
    "sys.path.append('../../assets/python/')\n",
    "import diceEq as de\n",
    "import playercharacters5e as pc5\n",
    "import encounters5e as en5\n",
    "\n",
    "\n",
    "METADATA = {'Contributor': 'T. Dunn'}\n",
    "SAVEFIGS = True\n",
    "SAVEDATA = True\n",
    "\n",
    "XP_TARGETS = {\n",
    "    'Easy': [25,50,75,125,250,300,350,450,550,600,800,1000,1100,1250,1400,1600,2000,2100,2400,2800],\n",
    "    'Medium': [50,100,150,250,500,600,750,900,1100,1200,1600,2000,2200,2500,2800,3200,3900,4200,4900,5700],\n",
    "    'Hard': [75,150,225,375,750,900,1100,1400,1600,1900,2400,3000,3400,3800,4300,4800,5900,6300,7300,8500],\n",
    "    'Deadly': [100,200,400,500,1100,1400,1700,2100,2400,2800,3600,4500,5100,5700,6400,7200,8800,9500,10900,12700],\n",
    "    'Daily': [300,600,1200,1700,3500,4000,5000,6000,7500,9000,10500,11500,13500,15000,18000,20000,25000,27000,30000,40000]\n",
    "}\n",
    "\n",
    "PC_CLASSES = {\n",
    "    'Barbarian': {'color': '#E7623E', 'group': 'martial'},\n",
    "    'Bard': {'color': '#AB6DAC', 'group': 'spellcaster'},\n",
    "    'Cleric': {'color': '#91A1B2', 'group': 'spellcaster'},\n",
    "    'Druid': {'color': '#7A853B', 'group': 'spellcaster'},\n",
    "    'Fighter': {'color': '#7F513E', 'group': 'martial'},\n",
    "    'Monk': {'color': '#51A5C5', 'group': 'martial'},\n",
    "    'Paladin': {'color': '#B59E54', 'group': 'martial-spellcaster'},\n",
    "    'Ranger': {'color': '#507F62', 'group': 'martial-spellcaster'},\n",
    "    'Rogue': {'color': '#555752', 'group': 'martial'},\n",
    "    'Sorcerer': {'color': '#992E2E', 'group': 'spellcaster'},\n",
    "    'Warlock': {'color': '#7B469B', 'group': 'spellcaster'},\n",
    "    'Wizard': {'color': '#2A50A1', 'group': 'spellcaster'}\n",
    "}\n",
    "\n",
    "ENCOUNTER_DIFFICULTIES = {\n",
    "    'Easy':   {\n",
    "        'XP': [25,50,75,125,250,300,350,450,550,600,800,1000,1100,1250,1400,1600,2000,2100,2400,2800], \n",
    "        'color': '#1F77B4'\n",
    "    },\n",
    "    'Medium': {\n",
    "        'XP': [50,100,150,250,500,600,750,900,1100,1200,1600,2000,2200,2500,2800,3200,3900,4200,4900,5700], \n",
    "        'color': '#FF7F0E'\n",
    "    },\n",
    "    'Hard':   {\n",
    "        'XP': [75,150,225,375,750,900,1100,1400,1600,1900,2400,3000,3400,3800,4300,4800,5900,6300,7300,8500], \n",
    "        'color': '#2CA02C'\n",
    "    },\n",
    "    'Deadly': {\n",
    "        'XP': [100,200,400,500,1100,1400,1700,2100,2400,2800,3600,4500,5100,5700,6400,7200,8800,9500,10900,12700], \n",
    "        'color': '#D62728'\n",
    "    },\n",
    "    'Daily':  {\n",
    "        'XP': [300,600,1200,1700,3500,4000,5000,6000,7500,9000,10500,11500,13500,15000,18000,20000,25000,27000,30000,40000], \n",
    "        'color': '#9467BD'\n",
    "    },\n",
    "}"
   ]
  },
  {
   "cell_type": "code",
   "execution_count": 2,
   "metadata": {},
   "outputs": [],
   "source": [
    "# Setup template and html config for plotly figures.\n",
    "\n",
    "TFB_TEMPLATE = dict(\n",
    "    layout=go.Layout(\n",
    "        template='plotly_white',\n",
    "        autosize=False,\n",
    "        margin=dict(l=50, r=25, b=40, t=20, pad=4),\n",
    "        font=dict(family='sans-serif', size=14),\n",
    "        hovermode='closest',\n",
    "        xaxis=dict(\n",
    "            autorange=False,\n",
    "            automargin=True,\n",
    "            fixedrange=True,\n",
    "            showline=True,\n",
    "            linecolor='#444',\n",
    "            linewidth=2,\n",
    "            mirror=True,\n",
    "            tickmode='linear', ticks='outside',\n",
    "            minor=dict(tickmode='linear', ticks='outside'),\n",
    "            zeroline=False,\n",
    "        ),\n",
    "        yaxis=dict(\n",
    "            autorange=False,\n",
    "            automargin=True,\n",
    "            fixedrange=True,\n",
    "            showline=True,\n",
    "            linecolor='#444',\n",
    "            linewidth=2,\n",
    "            mirror=True,\n",
    "            tickmode='linear', ticks='outside',\n",
    "            minor=dict(tickmode='linear', ticks='outside'),\n",
    "            zeroline=False,\n",
    "        ),\n",
    "        legend=dict(\n",
    "            font_size=10,\n",
    "            tracegroupgap=0,\n",
    "            orientation='h',\n",
    "            yanchor='bottom',  y=1.04,\n",
    "            xanchor='left',    x=0.01,\n",
    "            bgcolor='rgba(0,0,0,0)',\n",
    "        ),\n",
    "    )\n",
    ")\n",
    "\n",
    "TFB_CONFIG = {\n",
    "    'responsive': True, # must be True to auto-scale when resizing\n",
    "    #'autosizable': False, # doesn't impact auto rescaling\n",
    "    'showAxisDragHandles': False,\n",
    "    'displaylogo': False,\n",
    "    'displayModeBar': 'hover',\n",
    "    'modeBarButtonsToRemove': [\n",
    "        'select2d',\n",
    "        'lasso2d',\n",
    "        'zoom2d',\n",
    "        'zoomIn2d',\n",
    "        'zoomOut2d',\n",
    "        'pan2d',\n",
    "        'autoScale2d',\n",
    "        'hoverClosestCartesian',\n",
    "        'hoverCompareCartesian',\n",
    "        'toggleSpikelines',\n",
    "        'resetScale2d',\n",
    "    ],\n",
    "    'toImageButtonOptions': {\n",
    "        'format': 'png', # one of png, svg, jpeg, webp\n",
    "        'filename': 'tfb-plot',\n",
    "        'height': 450,\n",
    "        'width': 600,\n",
    "        'scale': 2\n",
    "    },\n",
    "}\n",
    "\n",
    "def save_fig_html(fig, format, name, **kwargs):\n",
    "    file_name = f'./{name}.html'\n",
    "\n",
    "    match format:\n",
    "        case 'large':\n",
    "            fig.update_traces(line_width=2, marker_size=8)\n",
    "            fig.update_shapes(line_width=2)\n",
    "            fig.update_layout(font_size=14)\n",
    "            fig.update_annotations(font_size=14)\n",
    "        case 'small':\n",
    "            fig.update_traces(line_width=1, marker_size=6)\n",
    "            fig.update_shapes(line_width=1)\n",
    "            fig.update_layout(font_size=10, legend=dict(font=dict(size=10)))\n",
    "            fig.update_annotations(font_size=10)\n",
    "\n",
    "    fig_html = fig.to_html(\n",
    "        config=TFB_CONFIG,\n",
    "        include_plotlyjs=False, \n",
    "        full_html=False, \n",
    "    )\n",
    "    fig_soup = BeautifulSoup(fig_html, 'html.parser')\n",
    "    fig_soup.div['class'] = f'plotly-div-{format}'\n",
    "    if kwargs.get('style', None):\n",
    "        fig_soup.div['style'] = kwargs.get('style')\n",
    "    with open(file_name, 'wb') as fout:\n",
    "        fout.write(fig_soup.prettify('utf-8'))"
   ]
  },
  {
   "cell_type": "code",
   "execution_count": 4,
   "metadata": {},
   "outputs": [],
   "source": [
    "# function definitions\n",
    "def split_number_into_groups( num, n_groups ):\n",
    "    \"\"\"Returns list with num split into n_groups.\n",
    "    num -- int number to be split up\n",
    "    n_groups -- int number of groups\n",
    "    \"\"\"\n",
    "    num_base = int(np.floor(num/n_groups))\n",
    "    groups = [num_base]*n_groups\n",
    "\n",
    "    num_extra = num - num_base*n_groups\n",
    "    for i in range(int(num_extra)):\n",
    "        groups[i] += 1\n",
    "    \n",
    "    return groups\n",
    "\n",
    "def calculate_encounters_per_day( level, diff ):\n",
    "    \"\"\"Returns float number of encounters.\n",
    "    level -- int PC level\n",
    "    diff -- string target encounter difficulty. Possible values: 'Easy', 'Medium', 'Hard', 'Deadly'\n",
    "    \"\"\"\n",
    "    dif_XP = XP_TARGETS[diff][level-1]\n",
    "    max_XP = XP_TARGETS['Daily'][level-1]\n",
    "    return max_XP / dif_XP\n",
    "\n",
    "def calculate_rounds_per_encounter( level, diff ):\n",
    "    \"\"\"Returns float number of rounds.\n",
    "    level -- int PC level\n",
    "    diff -- string target encounter difficulty. Possible values: 'Easy', 'Medium', 'Hard', 'Deadly'\n",
    "    \"\"\"\n",
    "    dif_XP = XP_TARGETS[diff][level-1]\n",
    "    med_XP = XP_TARGETS['Medium'][level-1]\n",
    "    return 3.0 * np.sqrt(dif_XP/med_XP)\n",
    "\n",
    "def calculate_rounds_per_day( level, diff ):\n",
    "    \"\"\"Returns float number of rounds.\n",
    "    level -- int PC level\n",
    "    diff -- string target encounter difficulty. Possible values: 'Easy', 'Medium', 'Hard', 'Deadly'\n",
    "    \"\"\"\n",
    "    return calculate_encounters_per_day(level, diff) * calculate_rounds_per_encounter(level, diff)\n",
    "\n",
    "def create_adventuring_day_encounters( level, diff ):\n",
    "    \"\"\"Returns float number of rounds.\n",
    "    level -- int PC level\n",
    "    diff -- string target encounter difficulty. Possible values: 'Easy', 'Medium', 'Hard', 'Deadly'\n",
    "    \"\"\"\n",
    "    rounds_per_enc = calculate_rounds_per_encounter(level, diff)\n",
    "    encounters_per_day = calculate_encounters_per_day(level, diff)\n",
    "    rounds_per_day = encounters_per_day * rounds_per_enc\n",
    "\n",
    "    rounds = split_number_into_groups(\n",
    "        round(rounds_per_day), \n",
    "        round(encounters_per_day))\n",
    "\n",
    "    return rounds\n",
    "\n",
    "def create_adventuring_day( level, difficulty, short_rests ):\n",
    "    # add encounters\n",
    "    rounds = create_adventuring_day_encounters(level, difficulty)\n",
    "    num_encounters = len(rounds)\n",
    "\n",
    "    adventuring_day = [{'type': 'encounter', 'rounds': r} for r in rounds]\n",
    "    \n",
    "    # add short rests\n",
    "    if short_rests > 0:\n",
    "        encounters = split_number_into_groups(num_encounters, (1 + short_rests))\n",
    "        ins = 0\n",
    "        for i in range(len(encounters)-1):\n",
    "            ins += encounters[i]\n",
    "            adventuring_day.insert(ins + i, {'type': 'short rest'})\n",
    "\n",
    "    # finish day with long rest\n",
    "    adventuring_day += [{'type': 'long rest'}]\n",
    "    return adventuring_day"
   ]
  },
  {
   "cell_type": "code",
   "execution_count": 4,
   "metadata": {},
   "outputs": [
    {
     "name": "stdout",
     "output_type": "stream",
     "text": [
      "Barbarian .................... total: 0.75 s\n",
      "Bard      .................... total: 1.39 s\n",
      "Cleric    .................... total: 0.87 s\n",
      "Druid     .................... total: 0.87 s\n",
      "Fighter   .................... total: 0.86 s\n",
      "Monk      .................... total: 1.10 s\n",
      "Paladin   .................... total: 12.11 s\n",
      "Ranger    .................... total: 1.02 s\n",
      "Rogue     .................... total: 0.37 s\n",
      "Sorcerer  .................... total: 4.75 s\n",
      "Warlock   .................... total: 0.72 s\n",
      "Wizard    .................... total: 9.54 s\n",
      "pc data saved to \"pc data - BL Medium 2 short rests.json\"\n",
      "total run time: 34.34 s\n"
     ]
    }
   ],
   "source": [
    "# Encounter XP - BL\n",
    "import copy\n",
    "\n",
    "difficulty = 'Medium'\n",
    "short_rests = 2\n",
    "show_level_times = False\n",
    "\n",
    "PC_CLASSES = {\n",
    "    'Barbarian': {'color': '#E7623E', 'group': 'martial'},\n",
    "    'Bard':      {'color': '#AB6DAC', 'group': 'spellcaster'},\n",
    "    'Cleric':    {'color': '#91A1B2', 'group': 'spellcaster'},\n",
    "    'Druid':     {'color': '#7A853B', 'group': 'spellcaster',},\n",
    "    'Fighter':   {'color': '#7F513E', 'group': 'martial'},\n",
    "    'Monk':      {'color': '#51A5C5', 'group': 'martial'},\n",
    "    'Paladin':   {'color': '#B59E54', 'group': 'martial-spellcaster'},\n",
    "    'Ranger':    {'color': '#507F62', 'group': 'martial-spellcaster'},\n",
    "    'Rogue':     {'color': '#555752', 'group': 'martial'},\n",
    "    'Sorcerer':  {'color': '#992E2E', 'group': 'spellcaster'},\n",
    "    'Warlock':   {'color': '#7B469B', 'group': 'spellcaster'},\n",
    "    'Wizard':    {'color': '#2A50A1', 'group': 'spellcaster'}\n",
    "}\n",
    "\n",
    "class NpEncoder(json.JSONEncoder):\n",
    "    def default(self, obj):\n",
    "        if isinstance(obj, np.integer):\n",
    "            return int(obj)\n",
    "        if isinstance(obj, np.floating):\n",
    "            return float(obj)\n",
    "        if isinstance(obj, np.ndarray):\n",
    "            return obj.tolist()\n",
    "        return super(NpEncoder, self).default(obj)\n",
    "\n",
    "pcData = {}\n",
    "class_time = []\n",
    "for c in PC_CLASSES:\n",
    "    levels = np.arange(1, 21, 1)\n",
    "    print(f'{c:<10s}', end='')\n",
    "    daily_engine_options={\n",
    "        'combat healing': False if c == 'Paladin' else True,\n",
    "        'remove empty data': True,\n",
    "        'simplify summary': True,\n",
    "        'effective_method': 'exp',\n",
    "    }\n",
    "    level_time = []\n",
    "    pcData[c] = []\n",
    "    for level in levels:\n",
    "        tic = time.perf_counter()\n",
    "        pc = pc5.newPC(pcClass=c, lvl=level, **PC_CLASSES[c])\n",
    "        advDay = create_adventuring_day(level, difficulty, short_rests)\n",
    "        dSum = en5.dailyEngine(pc, advDay, **daily_engine_options)\n",
    "        dSum['class'] = c\n",
    "        dSum['level'] = int(level)\n",
    "        pcData[c].append(copy.deepcopy(dSum))\n",
    "\n",
    "        toc = time.perf_counter()\n",
    "        level_time += [toc - tic]\n",
    "        if show_level_times:\n",
    "            print(f' {level}: {level_time[-1]:0.2f} s,', end='')\n",
    "        else:\n",
    "            print('.', end='')\n",
    "        time.sleep(0.1)\n",
    "\n",
    "    class_time += [np.sum(level_time)]\n",
    "    print(f' total: {class_time[-1]:0.2f} s')\n",
    "    time.sleep(0.1)\n",
    "\n",
    "if SAVEDATA:\n",
    "    # construct day string for saving figures\n",
    "    file_name = 'pc data - BL {:} {:d} short rests.json'.format(difficulty, short_rests)\n",
    "    with open(file_name, 'w') as convert_file:\n",
    "        convert_file.write(json.dumps(pcData, indent=2, cls=NpEncoder))\n",
    "    print('pc data saved to \"{:}\"'.format(file_name))\n",
    "\n",
    "print(f'total run time: {np.sum(class_time):0.2f} s')"
   ]
  },
  {
   "cell_type": "code",
   "execution_count": 5,
   "metadata": {},
   "outputs": [
    {
     "name": "stdout",
     "output_type": "stream",
     "text": [
      "Barbarian .................... total: 0.87 s\n",
      "Bard      .................... total: 1.47 s\n",
      "Cleric    .................... total: 0.93 s\n",
      "Druid     .................... total: 0.84 s\n",
      "Fighter   .................... total: 0.89 s\n",
      "Monk      .................... total: 1.09 s\n",
      "Paladin   .................... total: 12.38 s\n",
      "Ranger    .................... total: 1.03 s\n",
      "Rogue     .................... total: 0.36 s\n",
      "Sorcerer  .................... total: 4.70 s\n",
      "Warlock   .................... total: 0.71 s\n",
      "Wizard    .................... total: 9.38 s\n",
      "pc data saved to \"pc data - AB +1 Medium 2 short rests.json\"\n",
      "total run time: 34.64 s\n"
     ]
    }
   ],
   "source": [
    "# Encounter XP - +1 Attack Bonus\n",
    "import copy\n",
    "\n",
    "difficulty = 'Medium'\n",
    "short_rests = 2\n",
    "show_level_times = False\n",
    "\n",
    "PC_CLASSES = {\n",
    "    'Barbarian': {'color': '#E7623E', 'group': 'martial',             'weaponAttackBonus': 1},\n",
    "    'Bard':      {'color': '#AB6DAC', 'group': 'spellcaster',         'spellAttackBonus':  1},\n",
    "    'Cleric':    {'color': '#91A1B2', 'group': 'spellcaster',         'spellAttackBonus':  1},\n",
    "    'Druid':     {'color': '#7A853B', 'group': 'spellcaster',         'spellAttackBonus':  1},\n",
    "    'Fighter':   {'color': '#7F513E', 'group': 'martial',             'weaponAttackBonus': 1},\n",
    "    'Monk':      {'color': '#51A5C5', 'group': 'martial',             'weaponAttackBonus': 1},\n",
    "    'Paladin':   {'color': '#B59E54', 'group': 'martial-spellcaster', 'weaponAttackBonus': 1},\n",
    "    'Ranger':    {'color': '#507F62', 'group': 'martial-spellcaster', 'weaponAttackBonus': 1},\n",
    "    'Rogue':     {'color': '#555752', 'group': 'martial',             'weaponAttackBonus': 1},\n",
    "    'Sorcerer':  {'color': '#992E2E', 'group': 'spellcaster',         'spellAttackBonus':  1},\n",
    "    'Warlock':   {'color': '#7B469B', 'group': 'spellcaster',         'spellAttackBonus':  1},\n",
    "    'Wizard':    {'color': '#2A50A1', 'group': 'spellcaster',         'spellAttackBonus':  1}\n",
    "}\n",
    "\n",
    "class NpEncoder(json.JSONEncoder):\n",
    "    def default(self, obj):\n",
    "        if isinstance(obj, np.integer):\n",
    "            return int(obj)\n",
    "        if isinstance(obj, np.floating):\n",
    "            return float(obj)\n",
    "        if isinstance(obj, np.ndarray):\n",
    "            return obj.tolist()\n",
    "        return super(NpEncoder, self).default(obj)\n",
    "\n",
    "pcData = {}\n",
    "class_time = []\n",
    "for c in PC_CLASSES:\n",
    "    levels = np.arange(1, 21, 1)\n",
    "    print(f'{c:<10s}', end='')\n",
    "    daily_engine_options={\n",
    "        'combat healing': False if c == 'Paladin' else True,\n",
    "        'remove empty data': True,\n",
    "        'simplify summary': True,\n",
    "        'effective_method': 'exp',\n",
    "    }\n",
    "    level_time = []\n",
    "    pcData[c] = []\n",
    "    for level in levels:\n",
    "        tic = time.perf_counter()\n",
    "        pc = pc5.newPC(pcClass=c, lvl=level, **PC_CLASSES[c])\n",
    "        advDay = create_adventuring_day(level, difficulty, short_rests)\n",
    "        dSum = en5.dailyEngine(pc, advDay, **daily_engine_options)\n",
    "        dSum['class'] = c\n",
    "        dSum['level'] = int(level)\n",
    "        pcData[c].append(copy.deepcopy(dSum))\n",
    "\n",
    "        toc = time.perf_counter()\n",
    "        level_time += [toc - tic]\n",
    "        if show_level_times:\n",
    "            print(f' {level}: {level_time[-1]:0.2f} s,', end='')\n",
    "        else:\n",
    "            print('.', end='')\n",
    "        time.sleep(0.1)\n",
    "\n",
    "    class_time += [np.sum(level_time)]\n",
    "    print(f' total: {class_time[-1]:0.2f} s')\n",
    "    time.sleep(0.1)\n",
    "\n",
    "if SAVEDATA:\n",
    "    # construct day string for saving figures\n",
    "    file_name = 'pc data - AB +1 {:} {:d} short rests.json'.format(difficulty, short_rests)\n",
    "    with open(file_name, 'w') as convert_file:\n",
    "        convert_file.write(json.dumps(pcData, indent=2, cls=NpEncoder))\n",
    "    print('pc data saved to \"{:}\"'.format(file_name))\n",
    "\n",
    "print(f'total run time: {np.sum(class_time):0.2f} s')"
   ]
  },
  {
   "cell_type": "code",
   "execution_count": 10,
   "metadata": {},
   "outputs": [
    {
     "data": {
      "application/vnd.plotly.v1+json": {
       "config": {
        "displayModeBar": "hover",
        "displaylogo": false,
        "modeBarButtonsToRemove": [
         "select2d",
         "lasso2d",
         "zoom2d",
         "zoomIn2d",
         "zoomOut2d",
         "pan2d",
         "autoScale2d",
         "hoverClosestCartesian",
         "hoverCompareCartesian",
         "toggleSpikelines",
         "resetScale2d"
        ],
        "plotlyServerURL": "https://plot.ly",
        "responsive": true,
        "showAxisDragHandles": false,
        "toImageButtonOptions": {
         "filename": "tfb-plot",
         "format": "png",
         "height": 450,
         "scale": 2,
         "width": 600
        }
       },
       "data": [
        {
         "hovertemplate": "<b>Barbarian</b><br>lvl %{x}<br>AC + AB - 2 %{y:.1f}<extra></extra>",
         "line": {
          "color": "#E7623E"
         },
         "mode": "lines+markers",
         "name": "Barbarian",
         "type": "scatter",
         "unselected": {
          "marker": {
           "opacity": 0
          }
         },
         "x": [
          1,
          2,
          3,
          4,
          5,
          6,
          7,
          8,
          9,
          10,
          11,
          12,
          13,
          14,
          15,
          16,
          17,
          18,
          19,
          20
         ],
         "y": [
          18,
          19,
          19,
          20,
          21,
          21,
          21,
          22,
          23,
          23,
          23,
          24,
          25,
          25,
          25,
          26,
          27,
          27,
          28,
          32
         ]
        },
        {
         "hovertemplate": "<b>Bard</b><br>lvl %{x}<br>AC + AB - 2 %{y:.1f}<extra></extra>",
         "line": {
          "color": "#AB6DAC"
         },
         "mode": "lines+markers",
         "name": "Bard",
         "type": "scatter",
         "unselected": {
          "marker": {
           "opacity": 0
          }
         },
         "x": [
          1,
          2,
          3,
          4,
          5,
          6,
          7,
          8,
          9,
          10,
          11,
          12,
          13,
          14,
          15,
          16,
          17,
          18,
          19,
          20
         ],
         "y": [
          18.166666666666664,
          18.166666666666664,
          18.125,
          19.2,
          22.142857142857142,
          22.2,
          22.2,
          23.5,
          24.5,
          24.90909090909091,
          25.25,
          25.647058823529413,
          26.5,
          26.5,
          27.157894736842106,
          27.157894736842106,
          28.157894736842106,
          28.157894736842106,
          28.333333333333332,
          27.857142857142858
         ]
        },
        {
         "hovertemplate": "<b>Cleric</b><br>lvl %{x}<br>AC + AB - 2 %{y:.1f}<extra></extra>",
         "line": {
          "color": "#91A1B2"
         },
         "mode": "lines+markers",
         "name": "Cleric",
         "type": "scatter",
         "unselected": {
          "marker": {
           "opacity": 0
          }
         },
         "x": [
          1,
          2,
          3,
          4,
          5,
          6,
          7,
          8,
          9,
          10,
          11,
          12,
          13,
          14,
          15,
          16,
          17,
          18,
          19,
          20
         ],
         "y": [
          21,
          21,
          21,
          22,
          24,
          24,
          24,
          25,
          26,
          26,
          26,
          26,
          27,
          27,
          27,
          27,
          28,
          28,
          28,
          28
         ]
        },
        {
         "hovertemplate": "<b>Druid</b><br>lvl %{x}<br>AC + AB - 2 %{y:.1f}<extra></extra>",
         "line": {
          "color": "#7A853B"
         },
         "mode": "lines+markers",
         "name": "Druid",
         "type": "scatter",
         "unselected": {
          "marker": {
           "opacity": 0
          }
         },
         "x": [
          1,
          2,
          3,
          4,
          5,
          6,
          7,
          8,
          9,
          10,
          11,
          12,
          13,
          14,
          15,
          16,
          17,
          18,
          19,
          20
         ],
         "y": [
          18,
          18,
          18,
          19,
          23,
          23,
          23,
          24,
          25,
          25,
          25,
          25,
          26,
          26,
          26,
          26,
          27,
          27,
          27,
          27
         ]
        },
        {
         "hovertemplate": "<b>Fighter</b><br>lvl %{x}<br>AC + AB - 2 %{y:.1f}<extra></extra>",
         "line": {
          "color": "#7F513E"
         },
         "mode": "lines+markers",
         "name": "Fighter",
         "type": "scatter",
         "unselected": {
          "marker": {
           "opacity": 0
          }
         },
         "x": [
          1,
          2,
          3,
          4,
          5,
          6,
          7,
          8,
          9,
          10,
          11,
          12,
          13,
          14,
          15,
          16,
          17,
          18,
          19,
          20
         ],
         "y": [
          24,
          24,
          24,
          25,
          28,
          29,
          29,
          29,
          30,
          30,
          30,
          30,
          31,
          31,
          31,
          31,
          32,
          32,
          32,
          32
         ]
        },
        {
         "hovertemplate": "<b>Monk</b><br>lvl %{x}<br>AC + AB - 2 %{y:.1f}<extra></extra>",
         "line": {
          "color": "#51A5C5"
         },
         "mode": "lines+markers",
         "name": "Monk",
         "type": "scatter",
         "unselected": {
          "marker": {
           "opacity": 0
          }
         },
         "x": [
          1,
          2,
          3,
          4,
          5,
          6,
          7,
          8,
          9,
          10,
          11,
          12,
          13,
          14,
          15,
          16,
          17,
          18,
          19,
          20
         ],
         "y": [
          19,
          19,
          19,
          21,
          22,
          22,
          24,
          25,
          26,
          26,
          26,
          28,
          29,
          33,
          33,
          34,
          35,
          43,
          43,
          43
         ]
        },
        {
         "hovertemplate": "<b>Paladin</b><br>lvl %{x}<br>AC + AB - 2 %{y:.1f}<extra></extra>",
         "line": {
          "color": "#B59E54"
         },
         "mode": "lines+markers",
         "name": "Paladin",
         "type": "scatter",
         "unselected": {
          "marker": {
           "opacity": 0
          }
         },
         "x": [
          1,
          2,
          3,
          4,
          5,
          6,
          7,
          8,
          9,
          10,
          11,
          12,
          13,
          14,
          15,
          16,
          17,
          18,
          19,
          20
         ],
         "y": [
          20,
          20,
          20,
          21,
          24,
          25,
          25,
          26,
          27,
          27,
          27,
          27.5,
          28.5,
          28.5,
          28.5,
          29,
          30,
          30,
          30,
          30
         ]
        },
        {
         "hovertemplate": "<b>Ranger</b><br>lvl %{x}<br>AC + AB - 2 %{y:.1f}<extra></extra>",
         "line": {
          "color": "#507F62"
         },
         "mode": "lines+markers",
         "name": "Ranger",
         "type": "scatter",
         "unselected": {
          "marker": {
           "opacity": 0
          }
         },
         "x": [
          1,
          2,
          3,
          4,
          5,
          6,
          7,
          8,
          9,
          10,
          11,
          12,
          13,
          14,
          15,
          16,
          17,
          18,
          19,
          20
         ],
         "y": [
          19,
          19,
          19,
          21,
          23,
          23,
          23,
          25,
          26,
          26,
          26,
          26,
          27,
          27,
          27,
          27,
          28,
          28,
          28,
          28
         ]
        },
        {
         "hovertemplate": "<b>Rogue</b><br>lvl %{x}<br>AC + AB - 2 %{y:.1f}<extra></extra>",
         "line": {
          "color": "#555752"
         },
         "mode": "lines+markers",
         "name": "Rogue",
         "type": "scatter",
         "unselected": {
          "marker": {
           "opacity": 0
          }
         },
         "x": [
          1,
          2,
          3,
          4,
          5,
          6,
          7,
          8,
          9,
          10,
          11,
          12,
          13,
          14,
          15,
          16,
          17,
          18,
          19,
          20
         ],
         "y": [
          21,
          21,
          21,
          23,
          25,
          25,
          27,
          29,
          30,
          30,
          30,
          30,
          31,
          31,
          33,
          33,
          34,
          34,
          34,
          34
         ]
        },
        {
         "hovertemplate": "<b>Sorcerer</b><br>lvl %{x}<br>AC + AB - 2 %{y:.1f}<extra></extra>",
         "line": {
          "color": "#992E2E"
         },
         "mode": "lines+markers",
         "name": "Sorcerer",
         "type": "scatter",
         "unselected": {
          "marker": {
           "opacity": 0
          }
         },
         "x": [
          1,
          2,
          3,
          4,
          5,
          6,
          7,
          8,
          9,
          10,
          11,
          12,
          13,
          14,
          15,
          16,
          17,
          18,
          19,
          20
         ],
         "y": [
          18,
          18,
          18,
          19,
          20.42857142857143,
          20.45,
          20.45,
          21.45,
          22.6,
          22.409090909090907,
          23.05,
          23.058823529411764,
          24,
          24,
          23.94736842105263,
          24.105263157894736,
          25.57894736842105,
          25.57894736842105,
          25.666666666666668,
          25.285714285714285
         ]
        },
        {
         "hovertemplate": "<b>Warlock</b><br>lvl %{x}<br>AC + AB - 2 %{y:.1f}<extra></extra>",
         "line": {
          "color": "#7B469B"
         },
         "mode": "lines+markers",
         "name": "Warlock",
         "type": "scatter",
         "unselected": {
          "marker": {
           "opacity": 0
          }
         },
         "x": [
          1,
          2,
          3,
          4,
          5,
          6,
          7,
          8,
          9,
          10,
          11,
          12,
          13,
          14,
          15,
          16,
          17,
          18,
          19,
          20
         ],
         "y": [
          16,
          16,
          16,
          17,
          18,
          18,
          18,
          19,
          20,
          20,
          20,
          20,
          21,
          21,
          21,
          21,
          22,
          22,
          22,
          22
         ]
        },
        {
         "hovertemplate": "<b>Wizard</b><br>lvl %{x}<br>AC + AB - 2 %{y:.1f}<extra></extra>",
         "line": {
          "color": "#2A50A1"
         },
         "mode": "lines+markers",
         "name": "Wizard",
         "type": "scatter",
         "unselected": {
          "marker": {
           "opacity": 0
          }
         },
         "x": [
          1,
          2,
          3,
          4,
          5,
          6,
          7,
          8,
          9,
          10,
          11,
          12,
          13,
          14,
          15,
          16,
          17,
          18,
          19,
          20
         ],
         "y": [
          18,
          18,
          18,
          19,
          20.42857142857143,
          20.45,
          20.6,
          21.6,
          22.45,
          22.409090909090907,
          22.9,
          23.058823529411764,
          24.166666666666668,
          24.166666666666668,
          23.94736842105263,
          23.94736842105263,
          25.42105263157895,
          25.42105263157895,
          25.5,
          25.285714285714285
         ]
        },
        {
         "hovertemplate": "<b>Wizard</b><br>lvl %{x}<br>AC + AB - 2 %{y:.1f}<extra></extra>",
         "line": {
          "color": "black",
          "dash": "dash"
         },
         "mode": "lines+markers",
         "name": "average",
         "type": "scatter",
         "unselected": {
          "marker": {
           "opacity": 0
          }
         },
         "x": [
          1,
          2,
          3,
          4,
          5,
          6,
          7,
          8,
          9,
          10,
          11,
          12,
          13,
          14,
          15,
          16,
          17,
          18,
          19,
          20
         ],
         "y": [
          19.180555555555554,
          19.26388888888889,
          19.260416666666668,
          20.516666666666666,
          22.583333333333332,
          22.75833333333333,
          23.104166666666668,
          24.212500000000002,
          25.212500000000002,
          25.22727272727273,
          25.349999999999998,
          25.688725490196077,
          26.680555555555557,
          27.01388888888889,
          27.212719298245606,
          27.43421052631579,
          28.51315789473684,
          29.179824561403507,
          29.291666666666668,
          29.53571428571429
         ]
        }
       ],
       "layout": {
        "height": 500,
        "legend": {
         "orientation": "v",
         "x": 0,
         "xanchor": "left",
         "y": 1,
         "yanchor": "top"
        },
        "template": {
         "layout": {
          "autosize": false,
          "font": {
           "family": "sans-serif",
           "size": 14
          },
          "hovermode": "closest",
          "legend": {
           "bgcolor": "rgba(0,0,0,0)",
           "font": {
            "size": 10
           },
           "orientation": "h",
           "tracegroupgap": 0,
           "x": 0.01,
           "xanchor": "left",
           "y": 1.04,
           "yanchor": "bottom"
          },
          "margin": {
           "b": 40,
           "l": 50,
           "pad": 4,
           "r": 25,
           "t": 20
          },
          "template": {
           "data": {
            "bar": [
             {
              "error_x": {
               "color": "#2a3f5f"
              },
              "error_y": {
               "color": "#2a3f5f"
              },
              "marker": {
               "line": {
                "color": "white",
                "width": 0.5
               },
               "pattern": {
                "fillmode": "overlay",
                "size": 10,
                "solidity": 0.2
               }
              },
              "type": "bar"
             }
            ],
            "barpolar": [
             {
              "marker": {
               "line": {
                "color": "white",
                "width": 0.5
               },
               "pattern": {
                "fillmode": "overlay",
                "size": 10,
                "solidity": 0.2
               }
              },
              "type": "barpolar"
             }
            ],
            "carpet": [
             {
              "aaxis": {
               "endlinecolor": "#2a3f5f",
               "gridcolor": "#C8D4E3",
               "linecolor": "#C8D4E3",
               "minorgridcolor": "#C8D4E3",
               "startlinecolor": "#2a3f5f"
              },
              "baxis": {
               "endlinecolor": "#2a3f5f",
               "gridcolor": "#C8D4E3",
               "linecolor": "#C8D4E3",
               "minorgridcolor": "#C8D4E3",
               "startlinecolor": "#2a3f5f"
              },
              "type": "carpet"
             }
            ],
            "choropleth": [
             {
              "colorbar": {
               "outlinewidth": 0,
               "ticks": ""
              },
              "type": "choropleth"
             }
            ],
            "contour": [
             {
              "colorbar": {
               "outlinewidth": 0,
               "ticks": ""
              },
              "colorscale": [
               [
                0,
                "#0d0887"
               ],
               [
                0.1111111111111111,
                "#46039f"
               ],
               [
                0.2222222222222222,
                "#7201a8"
               ],
               [
                0.3333333333333333,
                "#9c179e"
               ],
               [
                0.4444444444444444,
                "#bd3786"
               ],
               [
                0.5555555555555556,
                "#d8576b"
               ],
               [
                0.6666666666666666,
                "#ed7953"
               ],
               [
                0.7777777777777778,
                "#fb9f3a"
               ],
               [
                0.8888888888888888,
                "#fdca26"
               ],
               [
                1,
                "#f0f921"
               ]
              ],
              "type": "contour"
             }
            ],
            "contourcarpet": [
             {
              "colorbar": {
               "outlinewidth": 0,
               "ticks": ""
              },
              "type": "contourcarpet"
             }
            ],
            "heatmap": [
             {
              "colorbar": {
               "outlinewidth": 0,
               "ticks": ""
              },
              "colorscale": [
               [
                0,
                "#0d0887"
               ],
               [
                0.1111111111111111,
                "#46039f"
               ],
               [
                0.2222222222222222,
                "#7201a8"
               ],
               [
                0.3333333333333333,
                "#9c179e"
               ],
               [
                0.4444444444444444,
                "#bd3786"
               ],
               [
                0.5555555555555556,
                "#d8576b"
               ],
               [
                0.6666666666666666,
                "#ed7953"
               ],
               [
                0.7777777777777778,
                "#fb9f3a"
               ],
               [
                0.8888888888888888,
                "#fdca26"
               ],
               [
                1,
                "#f0f921"
               ]
              ],
              "type": "heatmap"
             }
            ],
            "heatmapgl": [
             {
              "colorbar": {
               "outlinewidth": 0,
               "ticks": ""
              },
              "colorscale": [
               [
                0,
                "#0d0887"
               ],
               [
                0.1111111111111111,
                "#46039f"
               ],
               [
                0.2222222222222222,
                "#7201a8"
               ],
               [
                0.3333333333333333,
                "#9c179e"
               ],
               [
                0.4444444444444444,
                "#bd3786"
               ],
               [
                0.5555555555555556,
                "#d8576b"
               ],
               [
                0.6666666666666666,
                "#ed7953"
               ],
               [
                0.7777777777777778,
                "#fb9f3a"
               ],
               [
                0.8888888888888888,
                "#fdca26"
               ],
               [
                1,
                "#f0f921"
               ]
              ],
              "type": "heatmapgl"
             }
            ],
            "histogram": [
             {
              "marker": {
               "pattern": {
                "fillmode": "overlay",
                "size": 10,
                "solidity": 0.2
               }
              },
              "type": "histogram"
             }
            ],
            "histogram2d": [
             {
              "colorbar": {
               "outlinewidth": 0,
               "ticks": ""
              },
              "colorscale": [
               [
                0,
                "#0d0887"
               ],
               [
                0.1111111111111111,
                "#46039f"
               ],
               [
                0.2222222222222222,
                "#7201a8"
               ],
               [
                0.3333333333333333,
                "#9c179e"
               ],
               [
                0.4444444444444444,
                "#bd3786"
               ],
               [
                0.5555555555555556,
                "#d8576b"
               ],
               [
                0.6666666666666666,
                "#ed7953"
               ],
               [
                0.7777777777777778,
                "#fb9f3a"
               ],
               [
                0.8888888888888888,
                "#fdca26"
               ],
               [
                1,
                "#f0f921"
               ]
              ],
              "type": "histogram2d"
             }
            ],
            "histogram2dcontour": [
             {
              "colorbar": {
               "outlinewidth": 0,
               "ticks": ""
              },
              "colorscale": [
               [
                0,
                "#0d0887"
               ],
               [
                0.1111111111111111,
                "#46039f"
               ],
               [
                0.2222222222222222,
                "#7201a8"
               ],
               [
                0.3333333333333333,
                "#9c179e"
               ],
               [
                0.4444444444444444,
                "#bd3786"
               ],
               [
                0.5555555555555556,
                "#d8576b"
               ],
               [
                0.6666666666666666,
                "#ed7953"
               ],
               [
                0.7777777777777778,
                "#fb9f3a"
               ],
               [
                0.8888888888888888,
                "#fdca26"
               ],
               [
                1,
                "#f0f921"
               ]
              ],
              "type": "histogram2dcontour"
             }
            ],
            "mesh3d": [
             {
              "colorbar": {
               "outlinewidth": 0,
               "ticks": ""
              },
              "type": "mesh3d"
             }
            ],
            "parcoords": [
             {
              "line": {
               "colorbar": {
                "outlinewidth": 0,
                "ticks": ""
               }
              },
              "type": "parcoords"
             }
            ],
            "pie": [
             {
              "automargin": true,
              "type": "pie"
             }
            ],
            "scatter": [
             {
              "fillpattern": {
               "fillmode": "overlay",
               "size": 10,
               "solidity": 0.2
              },
              "type": "scatter"
             }
            ],
            "scatter3d": [
             {
              "line": {
               "colorbar": {
                "outlinewidth": 0,
                "ticks": ""
               }
              },
              "marker": {
               "colorbar": {
                "outlinewidth": 0,
                "ticks": ""
               }
              },
              "type": "scatter3d"
             }
            ],
            "scattercarpet": [
             {
              "marker": {
               "colorbar": {
                "outlinewidth": 0,
                "ticks": ""
               }
              },
              "type": "scattercarpet"
             }
            ],
            "scattergeo": [
             {
              "marker": {
               "colorbar": {
                "outlinewidth": 0,
                "ticks": ""
               }
              },
              "type": "scattergeo"
             }
            ],
            "scattergl": [
             {
              "marker": {
               "colorbar": {
                "outlinewidth": 0,
                "ticks": ""
               }
              },
              "type": "scattergl"
             }
            ],
            "scattermapbox": [
             {
              "marker": {
               "colorbar": {
                "outlinewidth": 0,
                "ticks": ""
               }
              },
              "type": "scattermapbox"
             }
            ],
            "scatterpolar": [
             {
              "marker": {
               "colorbar": {
                "outlinewidth": 0,
                "ticks": ""
               }
              },
              "type": "scatterpolar"
             }
            ],
            "scatterpolargl": [
             {
              "marker": {
               "colorbar": {
                "outlinewidth": 0,
                "ticks": ""
               }
              },
              "type": "scatterpolargl"
             }
            ],
            "scatterternary": [
             {
              "marker": {
               "colorbar": {
                "outlinewidth": 0,
                "ticks": ""
               }
              },
              "type": "scatterternary"
             }
            ],
            "surface": [
             {
              "colorbar": {
               "outlinewidth": 0,
               "ticks": ""
              },
              "colorscale": [
               [
                0,
                "#0d0887"
               ],
               [
                0.1111111111111111,
                "#46039f"
               ],
               [
                0.2222222222222222,
                "#7201a8"
               ],
               [
                0.3333333333333333,
                "#9c179e"
               ],
               [
                0.4444444444444444,
                "#bd3786"
               ],
               [
                0.5555555555555556,
                "#d8576b"
               ],
               [
                0.6666666666666666,
                "#ed7953"
               ],
               [
                0.7777777777777778,
                "#fb9f3a"
               ],
               [
                0.8888888888888888,
                "#fdca26"
               ],
               [
                1,
                "#f0f921"
               ]
              ],
              "type": "surface"
             }
            ],
            "table": [
             {
              "cells": {
               "fill": {
                "color": "#EBF0F8"
               },
               "line": {
                "color": "white"
               }
              },
              "header": {
               "fill": {
                "color": "#C8D4E3"
               },
               "line": {
                "color": "white"
               }
              },
              "type": "table"
             }
            ]
           },
           "layout": {
            "annotationdefaults": {
             "arrowcolor": "#2a3f5f",
             "arrowhead": 0,
             "arrowwidth": 1
            },
            "autotypenumbers": "strict",
            "coloraxis": {
             "colorbar": {
              "outlinewidth": 0,
              "ticks": ""
             }
            },
            "colorscale": {
             "diverging": [
              [
               0,
               "#8e0152"
              ],
              [
               0.1,
               "#c51b7d"
              ],
              [
               0.2,
               "#de77ae"
              ],
              [
               0.3,
               "#f1b6da"
              ],
              [
               0.4,
               "#fde0ef"
              ],
              [
               0.5,
               "#f7f7f7"
              ],
              [
               0.6,
               "#e6f5d0"
              ],
              [
               0.7,
               "#b8e186"
              ],
              [
               0.8,
               "#7fbc41"
              ],
              [
               0.9,
               "#4d9221"
              ],
              [
               1,
               "#276419"
              ]
             ],
             "sequential": [
              [
               0,
               "#0d0887"
              ],
              [
               0.1111111111111111,
               "#46039f"
              ],
              [
               0.2222222222222222,
               "#7201a8"
              ],
              [
               0.3333333333333333,
               "#9c179e"
              ],
              [
               0.4444444444444444,
               "#bd3786"
              ],
              [
               0.5555555555555556,
               "#d8576b"
              ],
              [
               0.6666666666666666,
               "#ed7953"
              ],
              [
               0.7777777777777778,
               "#fb9f3a"
              ],
              [
               0.8888888888888888,
               "#fdca26"
              ],
              [
               1,
               "#f0f921"
              ]
             ],
             "sequentialminus": [
              [
               0,
               "#0d0887"
              ],
              [
               0.1111111111111111,
               "#46039f"
              ],
              [
               0.2222222222222222,
               "#7201a8"
              ],
              [
               0.3333333333333333,
               "#9c179e"
              ],
              [
               0.4444444444444444,
               "#bd3786"
              ],
              [
               0.5555555555555556,
               "#d8576b"
              ],
              [
               0.6666666666666666,
               "#ed7953"
              ],
              [
               0.7777777777777778,
               "#fb9f3a"
              ],
              [
               0.8888888888888888,
               "#fdca26"
              ],
              [
               1,
               "#f0f921"
              ]
             ]
            },
            "colorway": [
             "#636efa",
             "#EF553B",
             "#00cc96",
             "#ab63fa",
             "#FFA15A",
             "#19d3f3",
             "#FF6692",
             "#B6E880",
             "#FF97FF",
             "#FECB52"
            ],
            "font": {
             "color": "#2a3f5f"
            },
            "geo": {
             "bgcolor": "white",
             "lakecolor": "white",
             "landcolor": "white",
             "showlakes": true,
             "showland": true,
             "subunitcolor": "#C8D4E3"
            },
            "hoverlabel": {
             "align": "left"
            },
            "hovermode": "closest",
            "mapbox": {
             "style": "light"
            },
            "paper_bgcolor": "white",
            "plot_bgcolor": "white",
            "polar": {
             "angularaxis": {
              "gridcolor": "#EBF0F8",
              "linecolor": "#EBF0F8",
              "ticks": ""
             },
             "bgcolor": "white",
             "radialaxis": {
              "gridcolor": "#EBF0F8",
              "linecolor": "#EBF0F8",
              "ticks": ""
             }
            },
            "scene": {
             "xaxis": {
              "backgroundcolor": "white",
              "gridcolor": "#DFE8F3",
              "gridwidth": 2,
              "linecolor": "#EBF0F8",
              "showbackground": true,
              "ticks": "",
              "zerolinecolor": "#EBF0F8"
             },
             "yaxis": {
              "backgroundcolor": "white",
              "gridcolor": "#DFE8F3",
              "gridwidth": 2,
              "linecolor": "#EBF0F8",
              "showbackground": true,
              "ticks": "",
              "zerolinecolor": "#EBF0F8"
             },
             "zaxis": {
              "backgroundcolor": "white",
              "gridcolor": "#DFE8F3",
              "gridwidth": 2,
              "linecolor": "#EBF0F8",
              "showbackground": true,
              "ticks": "",
              "zerolinecolor": "#EBF0F8"
             }
            },
            "shapedefaults": {
             "line": {
              "color": "#2a3f5f"
             }
            },
            "ternary": {
             "aaxis": {
              "gridcolor": "#DFE8F3",
              "linecolor": "#A2B1C6",
              "ticks": ""
             },
             "baxis": {
              "gridcolor": "#DFE8F3",
              "linecolor": "#A2B1C6",
              "ticks": ""
             },
             "bgcolor": "white",
             "caxis": {
              "gridcolor": "#DFE8F3",
              "linecolor": "#A2B1C6",
              "ticks": ""
             }
            },
            "title": {
             "x": 0.05
            },
            "xaxis": {
             "automargin": true,
             "gridcolor": "#EBF0F8",
             "linecolor": "#EBF0F8",
             "ticks": "",
             "title": {
              "standoff": 15
             },
             "zerolinecolor": "#EBF0F8",
             "zerolinewidth": 2
            },
            "yaxis": {
             "automargin": true,
             "gridcolor": "#EBF0F8",
             "linecolor": "#EBF0F8",
             "ticks": "",
             "title": {
              "standoff": 15
             },
             "zerolinecolor": "#EBF0F8",
             "zerolinewidth": 2
            }
           }
          },
          "xaxis": {
           "automargin": true,
           "autorange": false,
           "fixedrange": true,
           "linecolor": "#444",
           "linewidth": 2,
           "minor": {
            "tickmode": "linear",
            "ticks": "outside"
           },
           "mirror": true,
           "showline": true,
           "tickmode": "linear",
           "ticks": "outside",
           "zeroline": false
          },
          "yaxis": {
           "automargin": true,
           "autorange": false,
           "fixedrange": true,
           "linecolor": "#444",
           "linewidth": 2,
           "minor": {
            "tickmode": "linear",
            "ticks": "outside"
           },
           "mirror": true,
           "showline": true,
           "tickmode": "linear",
           "ticks": "outside",
           "zeroline": false
          }
         }
        },
        "width": 600,
        "xaxis": {
         "dtick": 5,
         "minor": {
          "dtick": 1,
          "tick0": 0
         },
         "range": [
          0.8,
          20.2
         ],
         "tick0": 0,
         "title": {
          "text": "level"
         }
        },
        "yaxis": {
         "dtick": 5,
         "fixedrange": false,
         "minor": {
          "dtick": 1,
          "tick0": 0
         },
         "range": [
          15,
          45
         ],
         "tick0": 0,
         "title": {
          "text": "encounter XP ratio"
         }
        }
       }
      }
     },
     "metadata": {},
     "output_type": "display_data"
    }
   ],
   "source": [
    "# Plots XP increase - +1 Attack Bonus\n",
    "pc_data_file = f'./pc data - BL Medium 2 short rests.json'\n",
    "with open(pc_data_file, 'r') as fin:\n",
    "    pc_data0 = json.load(fin)\n",
    "\n",
    "# create figure\n",
    "fig = go.Figure(\n",
    "    layout=go.Layout(\n",
    "        template=TFB_TEMPLATE,\n",
    "        xaxis=dict(\n",
    "            title_text='level',\n",
    "            range=[0.8, 20.2],\n",
    "            tick0=0, dtick=5,\n",
    "            minor=dict(tick0=0, dtick=1),\n",
    "        ),\n",
    "        yaxis=dict(\n",
    "            fixedrange=False,\n",
    "            title_text='encounter XP ratio',\n",
    "            range=[15, 45],\n",
    "            tick0=0, dtick=5,\n",
    "            minor=dict(tick0=0, dtick=1),\n",
    "        ),\n",
    "        legend=dict(\n",
    "            orientation='v',\n",
    "            yanchor='top',   y=1.00,\n",
    "            xanchor='left',  x=0.00,\n",
    "        ),\n",
    "    )\n",
    ")\n",
    "\n",
    "# plot data\n",
    "levels = np.array(range(1,21,1))\n",
    "ymean = np.zeros(20)\n",
    "for pc in pc_data0:\n",
    "    y = np.array([x['armor class'] + x['attack bonus'] - 2 for x in pc_data0[pc]])\n",
    "    ymean += y\n",
    "    fig.add_trace(go.Scatter(\n",
    "        x=levels, \n",
    "        y=y,\n",
    "        mode='lines+markers', \n",
    "        line={'color': PC_CLASSES[pc]['color']},\n",
    "        unselected=dict(marker=dict(opacity=0.0)),\n",
    "        name=pc,\n",
    "        hovertemplate=\n",
    "            '<b>'+pc+'</b><br>'+\n",
    "            'lvl %{x}<br>'+\n",
    "            'AC + AB - 2 %{y:.1f}'+\n",
    "            '<extra></extra>'\n",
    "    ))\n",
    "\n",
    "ymean /= len(pc_data0)\n",
    "fig.add_trace(go.Scatter(\n",
    "    x=levels, \n",
    "    y=ymean,\n",
    "    mode='lines+markers', \n",
    "    line={'color': 'black', 'dash': 'dash'},\n",
    "    unselected=dict(marker=dict(opacity=0.0)),\n",
    "    name='average',\n",
    "    hovertemplate=\n",
    "        '<b>'+pc+'</b><br>'+\n",
    "        'lvl %{x}<br>'+\n",
    "        'AC + AB - 2 %{y:.1f}'+\n",
    "        '<extra></extra>'\n",
    "))\n",
    "\n",
    "# show figure\n",
    "fig.update_layout(width=600, height=500)\n",
    "fig.show(config=TFB_CONFIG)\n",
    "\n",
    "# save figures\n",
    "if SAVEFIGS:\n",
    "    \"\"\"fig.update_layout(autosize=True, width=None, height=None)\n",
    "    save_fig_html(fig, format='large', name=f'./fig-encounter-xp-ab-bonus-large', style='aspect-ratio:600/500')\n",
    "    save_fig_html(fig, format='small', name=f'./fig-encounter-xp-ab-bonus-small', style='aspect-ratio:600/500')\"\"\"\n",
    "    pass"
   ]
  },
  {
   "cell_type": "code",
   "execution_count": 12,
   "metadata": {},
   "outputs": [
    {
     "data": {
      "application/vnd.plotly.v1+json": {
       "config": {
        "displayModeBar": "hover",
        "displaylogo": false,
        "modeBarButtonsToRemove": [
         "select2d",
         "lasso2d",
         "zoom2d",
         "zoomIn2d",
         "zoomOut2d",
         "pan2d",
         "autoScale2d",
         "hoverClosestCartesian",
         "hoverCompareCartesian",
         "toggleSpikelines",
         "resetScale2d"
        ],
        "plotlyServerURL": "https://plot.ly",
        "responsive": true,
        "showAxisDragHandles": false,
        "toImageButtonOptions": {
         "filename": "tfb-plot",
         "format": "png",
         "height": 450,
         "scale": 2,
         "width": 600
        }
       },
       "data": [
        {
         "hovertemplate": "<b>Fighter</b><br>lvl %{x}<br>XP increase %{y:.1f}%<extra></extra>",
         "line": {
          "color": "#7F513E"
         },
         "mode": "lines+markers",
         "name": "Fighter",
         "type": "scatter",
         "unselected": {
          "marker": {
           "opacity": 0
          }
         },
         "x": [
          1,
          2,
          3,
          4,
          5,
          6,
          7,
          8,
          9,
          10,
          11,
          12,
          13,
          14,
          15,
          16,
          17,
          18,
          19,
          20
         ],
         "y": [
          7.692307692307687,
          7.692307692307709,
          7.692307692307687,
          7.692307692307687,
          7.692307692307665,
          7.692307692307687,
          7.692307692307687,
          7.692307692307687,
          7.692307692307687,
          7.692307692307687,
          7.692307692307687,
          7.692307692307687,
          7.692307692307709,
          7.692307692307709,
          7.692307692307709,
          7.692307692307687,
          7.692307692307687,
          7.692307692307687,
          7.692307692307665,
          7.692307692307665
         ]
        },
        {
         "hovertemplate": "<b>Monk</b><br>lvl %{x}<br>XP increase %{y:.1f}%<extra></extra>",
         "line": {
          "color": "#51A5C5"
         },
         "mode": "lines+markers",
         "name": "Monk",
         "type": "scatter",
         "unselected": {
          "marker": {
           "opacity": 0
          }
         },
         "x": [
          1,
          2,
          3,
          4,
          5,
          6,
          7,
          8,
          9,
          10,
          11,
          12,
          13,
          14,
          15,
          16,
          17,
          18,
          19,
          20
         ],
         "y": [
          4.0958390621999685,
          3.608001087910573,
          3.6045247671255165,
          3.2199424833182277,
          4.108363081027977,
          3.9673462390142245,
          3.8903266893525634,
          3.827353134786371,
          3.774904332554163,
          3.7749043325541853,
          3.774904332554163,
          3.774904332554141,
          3.774904332554163,
          3.7749043325541853,
          3.774904332554163,
          3.774904332554163,
          3.774904332554163,
          4.175250954142795,
          4.203037714957225,
          4.203037714957203
         ]
        }
       ],
       "layout": {
        "height": 500,
        "legend": {
         "orientation": "v",
         "x": 0,
         "xanchor": "left",
         "y": 1,
         "yanchor": "top"
        },
        "template": {
         "layout": {
          "autosize": false,
          "font": {
           "family": "sans-serif",
           "size": 14
          },
          "hovermode": "closest",
          "legend": {
           "bgcolor": "rgba(0,0,0,0)",
           "font": {
            "size": 10
           },
           "orientation": "h",
           "tracegroupgap": 0,
           "x": 0.01,
           "xanchor": "left",
           "y": 1.04,
           "yanchor": "bottom"
          },
          "margin": {
           "b": 40,
           "l": 50,
           "pad": 4,
           "r": 25,
           "t": 20
          },
          "template": {
           "data": {
            "bar": [
             {
              "error_x": {
               "color": "#2a3f5f"
              },
              "error_y": {
               "color": "#2a3f5f"
              },
              "marker": {
               "line": {
                "color": "white",
                "width": 0.5
               },
               "pattern": {
                "fillmode": "overlay",
                "size": 10,
                "solidity": 0.2
               }
              },
              "type": "bar"
             }
            ],
            "barpolar": [
             {
              "marker": {
               "line": {
                "color": "white",
                "width": 0.5
               },
               "pattern": {
                "fillmode": "overlay",
                "size": 10,
                "solidity": 0.2
               }
              },
              "type": "barpolar"
             }
            ],
            "carpet": [
             {
              "aaxis": {
               "endlinecolor": "#2a3f5f",
               "gridcolor": "#C8D4E3",
               "linecolor": "#C8D4E3",
               "minorgridcolor": "#C8D4E3",
               "startlinecolor": "#2a3f5f"
              },
              "baxis": {
               "endlinecolor": "#2a3f5f",
               "gridcolor": "#C8D4E3",
               "linecolor": "#C8D4E3",
               "minorgridcolor": "#C8D4E3",
               "startlinecolor": "#2a3f5f"
              },
              "type": "carpet"
             }
            ],
            "choropleth": [
             {
              "colorbar": {
               "outlinewidth": 0,
               "ticks": ""
              },
              "type": "choropleth"
             }
            ],
            "contour": [
             {
              "colorbar": {
               "outlinewidth": 0,
               "ticks": ""
              },
              "colorscale": [
               [
                0,
                "#0d0887"
               ],
               [
                0.1111111111111111,
                "#46039f"
               ],
               [
                0.2222222222222222,
                "#7201a8"
               ],
               [
                0.3333333333333333,
                "#9c179e"
               ],
               [
                0.4444444444444444,
                "#bd3786"
               ],
               [
                0.5555555555555556,
                "#d8576b"
               ],
               [
                0.6666666666666666,
                "#ed7953"
               ],
               [
                0.7777777777777778,
                "#fb9f3a"
               ],
               [
                0.8888888888888888,
                "#fdca26"
               ],
               [
                1,
                "#f0f921"
               ]
              ],
              "type": "contour"
             }
            ],
            "contourcarpet": [
             {
              "colorbar": {
               "outlinewidth": 0,
               "ticks": ""
              },
              "type": "contourcarpet"
             }
            ],
            "heatmap": [
             {
              "colorbar": {
               "outlinewidth": 0,
               "ticks": ""
              },
              "colorscale": [
               [
                0,
                "#0d0887"
               ],
               [
                0.1111111111111111,
                "#46039f"
               ],
               [
                0.2222222222222222,
                "#7201a8"
               ],
               [
                0.3333333333333333,
                "#9c179e"
               ],
               [
                0.4444444444444444,
                "#bd3786"
               ],
               [
                0.5555555555555556,
                "#d8576b"
               ],
               [
                0.6666666666666666,
                "#ed7953"
               ],
               [
                0.7777777777777778,
                "#fb9f3a"
               ],
               [
                0.8888888888888888,
                "#fdca26"
               ],
               [
                1,
                "#f0f921"
               ]
              ],
              "type": "heatmap"
             }
            ],
            "heatmapgl": [
             {
              "colorbar": {
               "outlinewidth": 0,
               "ticks": ""
              },
              "colorscale": [
               [
                0,
                "#0d0887"
               ],
               [
                0.1111111111111111,
                "#46039f"
               ],
               [
                0.2222222222222222,
                "#7201a8"
               ],
               [
                0.3333333333333333,
                "#9c179e"
               ],
               [
                0.4444444444444444,
                "#bd3786"
               ],
               [
                0.5555555555555556,
                "#d8576b"
               ],
               [
                0.6666666666666666,
                "#ed7953"
               ],
               [
                0.7777777777777778,
                "#fb9f3a"
               ],
               [
                0.8888888888888888,
                "#fdca26"
               ],
               [
                1,
                "#f0f921"
               ]
              ],
              "type": "heatmapgl"
             }
            ],
            "histogram": [
             {
              "marker": {
               "pattern": {
                "fillmode": "overlay",
                "size": 10,
                "solidity": 0.2
               }
              },
              "type": "histogram"
             }
            ],
            "histogram2d": [
             {
              "colorbar": {
               "outlinewidth": 0,
               "ticks": ""
              },
              "colorscale": [
               [
                0,
                "#0d0887"
               ],
               [
                0.1111111111111111,
                "#46039f"
               ],
               [
                0.2222222222222222,
                "#7201a8"
               ],
               [
                0.3333333333333333,
                "#9c179e"
               ],
               [
                0.4444444444444444,
                "#bd3786"
               ],
               [
                0.5555555555555556,
                "#d8576b"
               ],
               [
                0.6666666666666666,
                "#ed7953"
               ],
               [
                0.7777777777777778,
                "#fb9f3a"
               ],
               [
                0.8888888888888888,
                "#fdca26"
               ],
               [
                1,
                "#f0f921"
               ]
              ],
              "type": "histogram2d"
             }
            ],
            "histogram2dcontour": [
             {
              "colorbar": {
               "outlinewidth": 0,
               "ticks": ""
              },
              "colorscale": [
               [
                0,
                "#0d0887"
               ],
               [
                0.1111111111111111,
                "#46039f"
               ],
               [
                0.2222222222222222,
                "#7201a8"
               ],
               [
                0.3333333333333333,
                "#9c179e"
               ],
               [
                0.4444444444444444,
                "#bd3786"
               ],
               [
                0.5555555555555556,
                "#d8576b"
               ],
               [
                0.6666666666666666,
                "#ed7953"
               ],
               [
                0.7777777777777778,
                "#fb9f3a"
               ],
               [
                0.8888888888888888,
                "#fdca26"
               ],
               [
                1,
                "#f0f921"
               ]
              ],
              "type": "histogram2dcontour"
             }
            ],
            "mesh3d": [
             {
              "colorbar": {
               "outlinewidth": 0,
               "ticks": ""
              },
              "type": "mesh3d"
             }
            ],
            "parcoords": [
             {
              "line": {
               "colorbar": {
                "outlinewidth": 0,
                "ticks": ""
               }
              },
              "type": "parcoords"
             }
            ],
            "pie": [
             {
              "automargin": true,
              "type": "pie"
             }
            ],
            "scatter": [
             {
              "fillpattern": {
               "fillmode": "overlay",
               "size": 10,
               "solidity": 0.2
              },
              "type": "scatter"
             }
            ],
            "scatter3d": [
             {
              "line": {
               "colorbar": {
                "outlinewidth": 0,
                "ticks": ""
               }
              },
              "marker": {
               "colorbar": {
                "outlinewidth": 0,
                "ticks": ""
               }
              },
              "type": "scatter3d"
             }
            ],
            "scattercarpet": [
             {
              "marker": {
               "colorbar": {
                "outlinewidth": 0,
                "ticks": ""
               }
              },
              "type": "scattercarpet"
             }
            ],
            "scattergeo": [
             {
              "marker": {
               "colorbar": {
                "outlinewidth": 0,
                "ticks": ""
               }
              },
              "type": "scattergeo"
             }
            ],
            "scattergl": [
             {
              "marker": {
               "colorbar": {
                "outlinewidth": 0,
                "ticks": ""
               }
              },
              "type": "scattergl"
             }
            ],
            "scattermapbox": [
             {
              "marker": {
               "colorbar": {
                "outlinewidth": 0,
                "ticks": ""
               }
              },
              "type": "scattermapbox"
             }
            ],
            "scatterpolar": [
             {
              "marker": {
               "colorbar": {
                "outlinewidth": 0,
                "ticks": ""
               }
              },
              "type": "scatterpolar"
             }
            ],
            "scatterpolargl": [
             {
              "marker": {
               "colorbar": {
                "outlinewidth": 0,
                "ticks": ""
               }
              },
              "type": "scatterpolargl"
             }
            ],
            "scatterternary": [
             {
              "marker": {
               "colorbar": {
                "outlinewidth": 0,
                "ticks": ""
               }
              },
              "type": "scatterternary"
             }
            ],
            "surface": [
             {
              "colorbar": {
               "outlinewidth": 0,
               "ticks": ""
              },
              "colorscale": [
               [
                0,
                "#0d0887"
               ],
               [
                0.1111111111111111,
                "#46039f"
               ],
               [
                0.2222222222222222,
                "#7201a8"
               ],
               [
                0.3333333333333333,
                "#9c179e"
               ],
               [
                0.4444444444444444,
                "#bd3786"
               ],
               [
                0.5555555555555556,
                "#d8576b"
               ],
               [
                0.6666666666666666,
                "#ed7953"
               ],
               [
                0.7777777777777778,
                "#fb9f3a"
               ],
               [
                0.8888888888888888,
                "#fdca26"
               ],
               [
                1,
                "#f0f921"
               ]
              ],
              "type": "surface"
             }
            ],
            "table": [
             {
              "cells": {
               "fill": {
                "color": "#EBF0F8"
               },
               "line": {
                "color": "white"
               }
              },
              "header": {
               "fill": {
                "color": "#C8D4E3"
               },
               "line": {
                "color": "white"
               }
              },
              "type": "table"
             }
            ]
           },
           "layout": {
            "annotationdefaults": {
             "arrowcolor": "#2a3f5f",
             "arrowhead": 0,
             "arrowwidth": 1
            },
            "autotypenumbers": "strict",
            "coloraxis": {
             "colorbar": {
              "outlinewidth": 0,
              "ticks": ""
             }
            },
            "colorscale": {
             "diverging": [
              [
               0,
               "#8e0152"
              ],
              [
               0.1,
               "#c51b7d"
              ],
              [
               0.2,
               "#de77ae"
              ],
              [
               0.3,
               "#f1b6da"
              ],
              [
               0.4,
               "#fde0ef"
              ],
              [
               0.5,
               "#f7f7f7"
              ],
              [
               0.6,
               "#e6f5d0"
              ],
              [
               0.7,
               "#b8e186"
              ],
              [
               0.8,
               "#7fbc41"
              ],
              [
               0.9,
               "#4d9221"
              ],
              [
               1,
               "#276419"
              ]
             ],
             "sequential": [
              [
               0,
               "#0d0887"
              ],
              [
               0.1111111111111111,
               "#46039f"
              ],
              [
               0.2222222222222222,
               "#7201a8"
              ],
              [
               0.3333333333333333,
               "#9c179e"
              ],
              [
               0.4444444444444444,
               "#bd3786"
              ],
              [
               0.5555555555555556,
               "#d8576b"
              ],
              [
               0.6666666666666666,
               "#ed7953"
              ],
              [
               0.7777777777777778,
               "#fb9f3a"
              ],
              [
               0.8888888888888888,
               "#fdca26"
              ],
              [
               1,
               "#f0f921"
              ]
             ],
             "sequentialminus": [
              [
               0,
               "#0d0887"
              ],
              [
               0.1111111111111111,
               "#46039f"
              ],
              [
               0.2222222222222222,
               "#7201a8"
              ],
              [
               0.3333333333333333,
               "#9c179e"
              ],
              [
               0.4444444444444444,
               "#bd3786"
              ],
              [
               0.5555555555555556,
               "#d8576b"
              ],
              [
               0.6666666666666666,
               "#ed7953"
              ],
              [
               0.7777777777777778,
               "#fb9f3a"
              ],
              [
               0.8888888888888888,
               "#fdca26"
              ],
              [
               1,
               "#f0f921"
              ]
             ]
            },
            "colorway": [
             "#636efa",
             "#EF553B",
             "#00cc96",
             "#ab63fa",
             "#FFA15A",
             "#19d3f3",
             "#FF6692",
             "#B6E880",
             "#FF97FF",
             "#FECB52"
            ],
            "font": {
             "color": "#2a3f5f"
            },
            "geo": {
             "bgcolor": "white",
             "lakecolor": "white",
             "landcolor": "white",
             "showlakes": true,
             "showland": true,
             "subunitcolor": "#C8D4E3"
            },
            "hoverlabel": {
             "align": "left"
            },
            "hovermode": "closest",
            "mapbox": {
             "style": "light"
            },
            "paper_bgcolor": "white",
            "plot_bgcolor": "white",
            "polar": {
             "angularaxis": {
              "gridcolor": "#EBF0F8",
              "linecolor": "#EBF0F8",
              "ticks": ""
             },
             "bgcolor": "white",
             "radialaxis": {
              "gridcolor": "#EBF0F8",
              "linecolor": "#EBF0F8",
              "ticks": ""
             }
            },
            "scene": {
             "xaxis": {
              "backgroundcolor": "white",
              "gridcolor": "#DFE8F3",
              "gridwidth": 2,
              "linecolor": "#EBF0F8",
              "showbackground": true,
              "ticks": "",
              "zerolinecolor": "#EBF0F8"
             },
             "yaxis": {
              "backgroundcolor": "white",
              "gridcolor": "#DFE8F3",
              "gridwidth": 2,
              "linecolor": "#EBF0F8",
              "showbackground": true,
              "ticks": "",
              "zerolinecolor": "#EBF0F8"
             },
             "zaxis": {
              "backgroundcolor": "white",
              "gridcolor": "#DFE8F3",
              "gridwidth": 2,
              "linecolor": "#EBF0F8",
              "showbackground": true,
              "ticks": "",
              "zerolinecolor": "#EBF0F8"
             }
            },
            "shapedefaults": {
             "line": {
              "color": "#2a3f5f"
             }
            },
            "ternary": {
             "aaxis": {
              "gridcolor": "#DFE8F3",
              "linecolor": "#A2B1C6",
              "ticks": ""
             },
             "baxis": {
              "gridcolor": "#DFE8F3",
              "linecolor": "#A2B1C6",
              "ticks": ""
             },
             "bgcolor": "white",
             "caxis": {
              "gridcolor": "#DFE8F3",
              "linecolor": "#A2B1C6",
              "ticks": ""
             }
            },
            "title": {
             "x": 0.05
            },
            "xaxis": {
             "automargin": true,
             "gridcolor": "#EBF0F8",
             "linecolor": "#EBF0F8",
             "ticks": "",
             "title": {
              "standoff": 15
             },
             "zerolinecolor": "#EBF0F8",
             "zerolinewidth": 2
            },
            "yaxis": {
             "automargin": true,
             "gridcolor": "#EBF0F8",
             "linecolor": "#EBF0F8",
             "ticks": "",
             "title": {
              "standoff": 15
             },
             "zerolinecolor": "#EBF0F8",
             "zerolinewidth": 2
            }
           }
          },
          "xaxis": {
           "automargin": true,
           "autorange": false,
           "fixedrange": true,
           "linecolor": "#444",
           "linewidth": 2,
           "minor": {
            "tickmode": "linear",
            "ticks": "outside"
           },
           "mirror": true,
           "showline": true,
           "tickmode": "linear",
           "ticks": "outside",
           "zeroline": false
          },
          "yaxis": {
           "automargin": true,
           "autorange": false,
           "fixedrange": true,
           "linecolor": "#444",
           "linewidth": 2,
           "minor": {
            "tickmode": "linear",
            "ticks": "outside"
           },
           "mirror": true,
           "showline": true,
           "tickmode": "linear",
           "ticks": "outside",
           "zeroline": false
          }
         }
        },
        "width": 600,
        "xaxis": {
         "dtick": 5,
         "minor": {
          "dtick": 1,
          "tick0": 0
         },
         "range": [
          0.8,
          20.2
         ],
         "tick0": 0,
         "title": {
          "text": "level"
         }
        },
        "yaxis": {
         "dtick": 5,
         "fixedrange": false,
         "minor": {
          "dtick": 1,
          "tick0": 0
         },
         "range": [
          0,
          15
         ],
         "tick0": 0,
         "title": {
          "text": "encounter XP increase (%)"
         }
        }
       }
      }
     },
     "metadata": {},
     "output_type": "display_data"
    }
   ],
   "source": [
    "# Plots XP increase - +1 Attack Bonus\n",
    "encounter_difficulty = 'Medium'\n",
    "pc_data_file = f'./pc data - BL {encounter_difficulty} 2 short rests.json'\n",
    "with open(pc_data_file, 'r') as fin:\n",
    "    pc_data0 = json.load(fin)\n",
    "\n",
    "pc_data_file = f'./pc data - AB +1 {encounter_difficulty} 2 short rests.json'\n",
    "with open(pc_data_file, 'r') as fin:\n",
    "    pc_data1 = json.load(fin)\n",
    "\n",
    "# create figure\n",
    "fig = go.Figure(\n",
    "    layout=go.Layout(\n",
    "        template=TFB_TEMPLATE,\n",
    "        xaxis=dict(\n",
    "            title_text='level',\n",
    "            range=[0.8, 20.2],\n",
    "            tick0=0, dtick=5,\n",
    "            minor=dict(tick0=0, dtick=1),\n",
    "        ),\n",
    "        yaxis=dict(\n",
    "            fixedrange=False,\n",
    "            title_text='encounter XP increase (%)',\n",
    "            range=[0, 15],\n",
    "            tick0=0, dtick=5,\n",
    "            minor=dict(tick0=0, dtick=1),\n",
    "        ),\n",
    "        legend=dict(\n",
    "            orientation='v',\n",
    "            yanchor='top',   y=1.00,\n",
    "            xanchor='left',  x=0.00,\n",
    "        ),\n",
    "    )\n",
    ")\n",
    "\n",
    "# plot data\n",
    "levels = np.array(range(1,21,1))\n",
    "#eDPRmean = np.zeros(20)\n",
    "for pc in ['Fighter','Monk']:\n",
    "    eXP0 = np.array([x['encounter XP mean'] for x in pc_data0[pc]])\n",
    "    eXP1 = np.array([x['encounter XP mean'] for x in pc_data1[pc]])\n",
    "\n",
    "    fig.add_trace(go.Scatter(\n",
    "        x=levels, \n",
    "        y=100*(eXP1/eXP0 - 1),\n",
    "        #y=(eXP1/eXP0),\n",
    "        mode='lines+markers', \n",
    "        line={'color': PC_CLASSES[pc]['color']},\n",
    "        unselected=dict(marker=dict(opacity=0.0)),\n",
    "        name=pc,\n",
    "        hovertemplate=\n",
    "            '<b>'+pc+'</b><br>'+\n",
    "            'lvl %{x}<br>'+\n",
    "            'XP increase %{y:.1f}%'+\n",
    "            '<extra></extra>'\n",
    "    ))\n",
    "\n",
    "# show figure\n",
    "fig.update_layout(width=600, height=500)\n",
    "fig.show(config=TFB_CONFIG)\n",
    "\n",
    "# save figures\n",
    "if SAVEFIGS:\n",
    "    fig.update_layout(autosize=True, width=None, height=None)\n",
    "    save_fig_html(fig, format='large', name=f'./fig-encounter-xp-ab-bonus-large', style='aspect-ratio:600/500')\n",
    "    save_fig_html(fig, format='small', name=f'./fig-encounter-xp-ab-bonus-small', style='aspect-ratio:600/500')"
   ]
  },
  {
   "cell_type": "code",
   "execution_count": 6,
   "metadata": {},
   "outputs": [
    {
     "name": "stdout",
     "output_type": "stream",
     "text": [
      "Barbarian .................... total: 0.79 s\n",
      "Fighter   .................... total: 0.93 s\n",
      "Monk      .................... total: 1.23 s\n",
      "Paladin   .................... total: 12.55 s\n",
      "Ranger    .................... total: 1.06 s\n",
      "Rogue     .................... total: 0.37 s\n",
      "pc data saved to \"pc data - WD +1 Medium 2 short rests.json\"\n",
      "total run time: 16.94 s\n"
     ]
    }
   ],
   "source": [
    "# Encounter XP - +1 Weapon Damage Bonus\n",
    "import copy\n",
    "\n",
    "difficulty = 'Medium'\n",
    "short_rests = 2\n",
    "show_level_times = False\n",
    "\n",
    "PC_CLASSES = {\n",
    "    'Barbarian': {'color': '#E7623E', 'group': 'martial',             'weaponDamageBonus': '+1'},\n",
    "    #'Bard':      {'color': '#AB6DAC', 'group': 'spellcaster',         'weaponDamageBonus': '+1'},\n",
    "    #'Cleric':    {'color': '#91A1B2', 'group': 'spellcaster',         'weaponDamageBonus': '+1'},\n",
    "    #'Druid':     {'color': '#7A853B', 'group': 'spellcaster',         'weaponDamageBonus': '+1'},\n",
    "    'Fighter':   {'color': '#7F513E', 'group': 'martial',             'weaponDamageBonus': '+1'},\n",
    "    'Monk':      {'color': '#51A5C5', 'group': 'martial',             'weaponDamageBonus': '+1'},\n",
    "    'Paladin':   {'color': '#B59E54', 'group': 'martial-spellcaster', 'weaponDamageBonus': '+1'},\n",
    "    'Ranger':    {'color': '#507F62', 'group': 'martial-spellcaster', 'weaponDamageBonus': '+1'},\n",
    "    'Rogue':     {'color': '#555752', 'group': 'martial',             'weaponDamageBonus': '+1'},\n",
    "    #'Sorcerer':  {'color': '#992E2E', 'group': 'spellcaster',         'weaponDamageBonus': '+1'},\n",
    "    #'Warlock':   {'color': '#7B469B', 'group': 'spellcaster',         'weaponDamageBonus': '+1'},\n",
    "    #'Wizard':    {'color': '#2A50A1', 'group': 'spellcaster',         'weaponDamageBonus': '+1'}\n",
    "}\n",
    "\n",
    "class NpEncoder(json.JSONEncoder):\n",
    "    def default(self, obj):\n",
    "        if isinstance(obj, np.integer):\n",
    "            return int(obj)\n",
    "        if isinstance(obj, np.floating):\n",
    "            return float(obj)\n",
    "        if isinstance(obj, np.ndarray):\n",
    "            return obj.tolist()\n",
    "        return super(NpEncoder, self).default(obj)\n",
    "\n",
    "pcData = {}\n",
    "class_time = []\n",
    "for c in PC_CLASSES:\n",
    "    levels = np.arange(1, 21, 1)\n",
    "    print(f'{c:<10s}', end='')\n",
    "    daily_engine_options={\n",
    "        'combat healing': False if c == 'Paladin' else True,\n",
    "        'remove empty data': True,\n",
    "        'simplify summary': True,\n",
    "        'effective_method': 'exp',\n",
    "    }\n",
    "    level_time = []\n",
    "    pcData[c] = []\n",
    "    for level in levels:\n",
    "        tic = time.perf_counter()\n",
    "        pc = pc5.newPC(pcClass=c, lvl=level, **PC_CLASSES[c])\n",
    "        advDay = create_adventuring_day(level, difficulty, short_rests)\n",
    "        dSum = en5.dailyEngine(pc, advDay, **daily_engine_options)\n",
    "        dSum['class'] = c\n",
    "        dSum['level'] = int(level)\n",
    "        pcData[c].append(copy.deepcopy(dSum))\n",
    "\n",
    "        toc = time.perf_counter()\n",
    "        level_time += [toc - tic]\n",
    "        if show_level_times:\n",
    "            print(f' {level}: {level_time[-1]:0.2f} s,', end='')\n",
    "        else:\n",
    "            print('.', end='')\n",
    "        time.sleep(0.1)\n",
    "\n",
    "    class_time += [np.sum(level_time)]\n",
    "    print(f' total: {class_time[-1]:0.2f} s')\n",
    "    time.sleep(0.1)\n",
    "\n",
    "if SAVEDATA:\n",
    "    # construct day string for saving figures\n",
    "    file_name = 'pc data - WD +1 {:} {:d} short rests.json'.format(difficulty, short_rests)\n",
    "    with open(file_name, 'w') as convert_file:\n",
    "        convert_file.write(json.dumps(pcData, indent=2, cls=NpEncoder))\n",
    "    print('pc data saved to \"{:}\"'.format(file_name))\n",
    "\n",
    "print(f'total run time: {np.sum(class_time):0.2f} s')"
   ]
  },
  {
   "cell_type": "code",
   "execution_count": 13,
   "metadata": {},
   "outputs": [
    {
     "name": "stdout",
     "output_type": "stream",
     "text": [
      "1.0676227788046722\n"
     ]
    },
    {
     "data": {
      "application/vnd.plotly.v1+json": {
       "config": {
        "displayModeBar": "hover",
        "displaylogo": false,
        "modeBarButtonsToRemove": [
         "select2d",
         "lasso2d",
         "zoom2d",
         "zoomIn2d",
         "zoomOut2d",
         "pan2d",
         "autoScale2d",
         "hoverClosestCartesian",
         "hoverCompareCartesian",
         "toggleSpikelines",
         "resetScale2d"
        ],
        "plotlyServerURL": "https://plot.ly",
        "responsive": true,
        "showAxisDragHandles": false,
        "toImageButtonOptions": {
         "filename": "tfb-plot",
         "format": "png",
         "height": 450,
         "scale": 2,
         "width": 600
        }
       },
       "data": [
        {
         "hovertemplate": "<b>Barbarian</b><br>lvl %{x}<br>XP increase %{y:.1f}%<extra></extra>",
         "line": {
          "color": "#E7623E"
         },
         "mode": "lines+markers",
         "name": "Barbarian",
         "type": "scatter",
         "unselected": {
          "marker": {
           "opacity": 0
          }
         },
         "x": [
          1,
          2,
          3,
          4,
          5,
          6,
          7,
          8,
          9,
          10,
          11,
          12,
          13,
          14,
          15,
          16,
          17,
          18,
          19,
          20
         ],
         "y": [
          9.836065573770503,
          9.83606557377048,
          9.756097560975618,
          8.771929824561365,
          8.805031446540855,
          8.547008547008561,
          8.547008547008538,
          7.874015748031482,
          6.9930069930070005,
          7.0739549839228255,
          6.9930069930070005,
          6.601941747572826,
          6.25,
          6.25,
          6.239737274220025,
          5.928237129485203,
          5.405405405405417,
          5.405405405405395,
          5.405405405405395,
          4.878048780487787
         ]
        },
        {
         "hovertemplate": "<b>Fighter</b><br>lvl %{x}<br>XP increase %{y:.1f}%<extra></extra>",
         "line": {
          "color": "#7F513E"
         },
         "mode": "lines+markers",
         "name": "Fighter",
         "type": "scatter",
         "unselected": {
          "marker": {
           "opacity": 0
          }
         },
         "x": [
          1,
          2,
          3,
          4,
          5,
          6,
          7,
          8,
          9,
          10,
          11,
          12,
          13,
          14,
          15,
          16,
          17,
          18,
          19,
          20
         ],
         "y": [
          10.000000000000009,
          10.000000000000009,
          9.999999999999986,
          9.090909090909104,
          9.090909090909083,
          8.333333333333304,
          8.333333333333325,
          8.333333333333325,
          8.333333333333304,
          8.333333333333348,
          8.333333333333348,
          8.333333333333348,
          8.333333333333348,
          8.333333333333325,
          8.333333333333348,
          8.333333333333325,
          8.333333333333325,
          8.333333333333348,
          8.333333333333325,
          8.333333333333348
         ]
        },
        {
         "hovertemplate": "<b>Monk</b><br>lvl %{x}<br>XP increase %{y:.1f}%<extra></extra>",
         "line": {
          "color": "#51A5C5"
         },
         "mode": "lines+markers",
         "name": "Monk",
         "type": "scatter",
         "unselected": {
          "marker": {
           "opacity": 0
          }
         },
         "x": [
          1,
          2,
          3,
          4,
          5,
          6,
          7,
          8,
          9,
          10,
          11,
          12,
          13,
          14,
          15,
          16,
          17,
          18,
          19,
          20
         ],
         "y": [
          8.333333333333325,
          7.2289156626506035,
          7.1111111111111125,
          5.586592178770955,
          7.179487179487176,
          6.926406926406936,
          6.8376068376068355,
          6.7510548523206815,
          6.666666666666665,
          6.666666666666665,
          5.882352941176472,
          5.263157894736836,
          5.2631578947368585,
          5.2631578947368585,
          5.263157894736836,
          5.263157894736836,
          4.761904761904767,
          5.254515599343179,
          5.29100529100528,
          5.29100529100528
         ]
        },
        {
         "hovertemplate": "<b>Paladin</b><br>lvl %{x}<br>XP increase %{y:.1f}%<extra></extra>",
         "line": {
          "color": "#B59E54"
         },
         "mode": "lines+markers",
         "name": "Paladin",
         "type": "scatter",
         "unselected": {
          "marker": {
           "opacity": 0
          }
         },
         "x": [
          1,
          2,
          3,
          4,
          5,
          6,
          7,
          8,
          9,
          10,
          11,
          12,
          13,
          14,
          15,
          16,
          17,
          18,
          19,
          20
         ],
         "y": [
          10.000000000000009,
          8.695652173913038,
          8.55614973262031,
          7.6775431861804355,
          7.310704960835501,
          7.239819004524906,
          6.902502157031942,
          6.456820016142051,
          5.8394160583941535,
          6.002728512960442,
          4.422332780541738,
          4.220980757293602,
          4.074702886247872,
          4.074702886247872,
          3.970741901776398,
          3.970741901776398,
          3.5798398492699057,
          3.5798398492699057,
          3.3364226135310426,
          3.5653650254669156
         ]
        },
        {
         "hovertemplate": "<b>Ranger</b><br>lvl %{x}<br>XP increase %{y:.1f}%<extra></extra>",
         "line": {
          "color": "#507F62"
         },
         "mode": "lines+markers",
         "name": "Ranger",
         "type": "scatter",
         "unselected": {
          "marker": {
           "opacity": 0
          }
         },
         "x": [
          1,
          2,
          3,
          4,
          5,
          6,
          7,
          8,
          9,
          10,
          11,
          12,
          13,
          14,
          15,
          16,
          17,
          18,
          19,
          20
         ],
         "y": [
          13.333333333333353,
          11.111111111111116,
          10.88435374149661,
          9.501187648456044,
          9.27152317880795,
          9.174311926605494,
          8.7527352297593,
          8.048289738430592,
          7.054673721340388,
          7.272727272727253,
          6.644518272425248,
          6.238532110091732,
          5.955334987593064,
          5.955334987593042,
          5.722891566265065,
          5.722891566265065,
          5.003291639236362,
          5.003291639236362,
          4.525455688246383,
          4.92668621700878
         ]
        },
        {
         "hovertemplate": "<b>Rogue</b><br>lvl %{x}<br>XP increase %{y:.1f}%<extra></extra>",
         "line": {
          "color": "#555752"
         },
         "mode": "lines+markers",
         "name": "Rogue",
         "type": "scatter",
         "unselected": {
          "marker": {
           "opacity": 0
          }
         },
         "x": [
          1,
          2,
          3,
          4,
          5,
          6,
          7,
          8,
          9,
          10,
          11,
          12,
          13,
          14,
          15,
          16,
          17,
          18,
          19,
          20
         ],
         "y": [
          10.000000000000009,
          9.999999999999986,
          7.407407407407396,
          6.896551724137923,
          5.555555555555558,
          5.555555555555558,
          4.6511627906976605,
          4.444444444444451,
          3.8461538461538325,
          3.8461538461538325,
          3.3898305084745672,
          3.3898305084745894,
          3.0303030303030276,
          3.03030303030305,
          2.7397260273972712,
          2.739726027397249,
          2.5000000000000133,
          2.499999999999991,
          2.2988505747126187,
          2.298850574712641
         ]
        },
        {
         "hovertemplate": "<b>Average</b><br>lvl %{x}<br>XP increase %{y:.1f}%<extra></extra>",
         "line": {
          "color": "black",
          "dash": "dash"
         },
         "mode": "lines+markers",
         "name": "Rogue",
         "type": "scatter",
         "unselected": {
          "marker": {
           "opacity": 0
          }
         },
         "x": [
          1,
          2,
          3,
          4,
          5,
          6,
          7,
          8,
          9,
          10,
          11,
          12,
          13,
          14,
          15,
          16,
          17,
          18,
          19,
          20
         ],
         "y": [
          10.086669959882656,
          9.473633782937462,
          8.971062365119087,
          7.911605210199646,
          8.027805005856713,
          7.764298612922538,
          7.394440228269672,
          7.0568768263909565,
          6.50358974448062,
          6.564570290993799,
          6.11638776315131,
          5.972937712509574,
          5.742898727514167,
          5.78019991252412,
          5.573163841894724,
          5.522760014612715,
          5.1936041108448405,
          5.264047033198382,
          5.113241460773654,
          5.211765005267943
         ]
        }
       ],
       "layout": {
        "height": 550,
        "template": {
         "layout": {
          "autosize": false,
          "font": {
           "family": "sans-serif",
           "size": 14
          },
          "hovermode": "closest",
          "legend": {
           "bgcolor": "rgba(0,0,0,0)",
           "font": {
            "size": 10
           },
           "orientation": "h",
           "tracegroupgap": 0,
           "x": 0.01,
           "xanchor": "left",
           "y": 1.04,
           "yanchor": "bottom"
          },
          "margin": {
           "b": 40,
           "l": 50,
           "pad": 4,
           "r": 25,
           "t": 20
          },
          "template": {
           "data": {
            "bar": [
             {
              "error_x": {
               "color": "#2a3f5f"
              },
              "error_y": {
               "color": "#2a3f5f"
              },
              "marker": {
               "line": {
                "color": "white",
                "width": 0.5
               },
               "pattern": {
                "fillmode": "overlay",
                "size": 10,
                "solidity": 0.2
               }
              },
              "type": "bar"
             }
            ],
            "barpolar": [
             {
              "marker": {
               "line": {
                "color": "white",
                "width": 0.5
               },
               "pattern": {
                "fillmode": "overlay",
                "size": 10,
                "solidity": 0.2
               }
              },
              "type": "barpolar"
             }
            ],
            "carpet": [
             {
              "aaxis": {
               "endlinecolor": "#2a3f5f",
               "gridcolor": "#C8D4E3",
               "linecolor": "#C8D4E3",
               "minorgridcolor": "#C8D4E3",
               "startlinecolor": "#2a3f5f"
              },
              "baxis": {
               "endlinecolor": "#2a3f5f",
               "gridcolor": "#C8D4E3",
               "linecolor": "#C8D4E3",
               "minorgridcolor": "#C8D4E3",
               "startlinecolor": "#2a3f5f"
              },
              "type": "carpet"
             }
            ],
            "choropleth": [
             {
              "colorbar": {
               "outlinewidth": 0,
               "ticks": ""
              },
              "type": "choropleth"
             }
            ],
            "contour": [
             {
              "colorbar": {
               "outlinewidth": 0,
               "ticks": ""
              },
              "colorscale": [
               [
                0,
                "#0d0887"
               ],
               [
                0.1111111111111111,
                "#46039f"
               ],
               [
                0.2222222222222222,
                "#7201a8"
               ],
               [
                0.3333333333333333,
                "#9c179e"
               ],
               [
                0.4444444444444444,
                "#bd3786"
               ],
               [
                0.5555555555555556,
                "#d8576b"
               ],
               [
                0.6666666666666666,
                "#ed7953"
               ],
               [
                0.7777777777777778,
                "#fb9f3a"
               ],
               [
                0.8888888888888888,
                "#fdca26"
               ],
               [
                1,
                "#f0f921"
               ]
              ],
              "type": "contour"
             }
            ],
            "contourcarpet": [
             {
              "colorbar": {
               "outlinewidth": 0,
               "ticks": ""
              },
              "type": "contourcarpet"
             }
            ],
            "heatmap": [
             {
              "colorbar": {
               "outlinewidth": 0,
               "ticks": ""
              },
              "colorscale": [
               [
                0,
                "#0d0887"
               ],
               [
                0.1111111111111111,
                "#46039f"
               ],
               [
                0.2222222222222222,
                "#7201a8"
               ],
               [
                0.3333333333333333,
                "#9c179e"
               ],
               [
                0.4444444444444444,
                "#bd3786"
               ],
               [
                0.5555555555555556,
                "#d8576b"
               ],
               [
                0.6666666666666666,
                "#ed7953"
               ],
               [
                0.7777777777777778,
                "#fb9f3a"
               ],
               [
                0.8888888888888888,
                "#fdca26"
               ],
               [
                1,
                "#f0f921"
               ]
              ],
              "type": "heatmap"
             }
            ],
            "heatmapgl": [
             {
              "colorbar": {
               "outlinewidth": 0,
               "ticks": ""
              },
              "colorscale": [
               [
                0,
                "#0d0887"
               ],
               [
                0.1111111111111111,
                "#46039f"
               ],
               [
                0.2222222222222222,
                "#7201a8"
               ],
               [
                0.3333333333333333,
                "#9c179e"
               ],
               [
                0.4444444444444444,
                "#bd3786"
               ],
               [
                0.5555555555555556,
                "#d8576b"
               ],
               [
                0.6666666666666666,
                "#ed7953"
               ],
               [
                0.7777777777777778,
                "#fb9f3a"
               ],
               [
                0.8888888888888888,
                "#fdca26"
               ],
               [
                1,
                "#f0f921"
               ]
              ],
              "type": "heatmapgl"
             }
            ],
            "histogram": [
             {
              "marker": {
               "pattern": {
                "fillmode": "overlay",
                "size": 10,
                "solidity": 0.2
               }
              },
              "type": "histogram"
             }
            ],
            "histogram2d": [
             {
              "colorbar": {
               "outlinewidth": 0,
               "ticks": ""
              },
              "colorscale": [
               [
                0,
                "#0d0887"
               ],
               [
                0.1111111111111111,
                "#46039f"
               ],
               [
                0.2222222222222222,
                "#7201a8"
               ],
               [
                0.3333333333333333,
                "#9c179e"
               ],
               [
                0.4444444444444444,
                "#bd3786"
               ],
               [
                0.5555555555555556,
                "#d8576b"
               ],
               [
                0.6666666666666666,
                "#ed7953"
               ],
               [
                0.7777777777777778,
                "#fb9f3a"
               ],
               [
                0.8888888888888888,
                "#fdca26"
               ],
               [
                1,
                "#f0f921"
               ]
              ],
              "type": "histogram2d"
             }
            ],
            "histogram2dcontour": [
             {
              "colorbar": {
               "outlinewidth": 0,
               "ticks": ""
              },
              "colorscale": [
               [
                0,
                "#0d0887"
               ],
               [
                0.1111111111111111,
                "#46039f"
               ],
               [
                0.2222222222222222,
                "#7201a8"
               ],
               [
                0.3333333333333333,
                "#9c179e"
               ],
               [
                0.4444444444444444,
                "#bd3786"
               ],
               [
                0.5555555555555556,
                "#d8576b"
               ],
               [
                0.6666666666666666,
                "#ed7953"
               ],
               [
                0.7777777777777778,
                "#fb9f3a"
               ],
               [
                0.8888888888888888,
                "#fdca26"
               ],
               [
                1,
                "#f0f921"
               ]
              ],
              "type": "histogram2dcontour"
             }
            ],
            "mesh3d": [
             {
              "colorbar": {
               "outlinewidth": 0,
               "ticks": ""
              },
              "type": "mesh3d"
             }
            ],
            "parcoords": [
             {
              "line": {
               "colorbar": {
                "outlinewidth": 0,
                "ticks": ""
               }
              },
              "type": "parcoords"
             }
            ],
            "pie": [
             {
              "automargin": true,
              "type": "pie"
             }
            ],
            "scatter": [
             {
              "fillpattern": {
               "fillmode": "overlay",
               "size": 10,
               "solidity": 0.2
              },
              "type": "scatter"
             }
            ],
            "scatter3d": [
             {
              "line": {
               "colorbar": {
                "outlinewidth": 0,
                "ticks": ""
               }
              },
              "marker": {
               "colorbar": {
                "outlinewidth": 0,
                "ticks": ""
               }
              },
              "type": "scatter3d"
             }
            ],
            "scattercarpet": [
             {
              "marker": {
               "colorbar": {
                "outlinewidth": 0,
                "ticks": ""
               }
              },
              "type": "scattercarpet"
             }
            ],
            "scattergeo": [
             {
              "marker": {
               "colorbar": {
                "outlinewidth": 0,
                "ticks": ""
               }
              },
              "type": "scattergeo"
             }
            ],
            "scattergl": [
             {
              "marker": {
               "colorbar": {
                "outlinewidth": 0,
                "ticks": ""
               }
              },
              "type": "scattergl"
             }
            ],
            "scattermapbox": [
             {
              "marker": {
               "colorbar": {
                "outlinewidth": 0,
                "ticks": ""
               }
              },
              "type": "scattermapbox"
             }
            ],
            "scatterpolar": [
             {
              "marker": {
               "colorbar": {
                "outlinewidth": 0,
                "ticks": ""
               }
              },
              "type": "scatterpolar"
             }
            ],
            "scatterpolargl": [
             {
              "marker": {
               "colorbar": {
                "outlinewidth": 0,
                "ticks": ""
               }
              },
              "type": "scatterpolargl"
             }
            ],
            "scatterternary": [
             {
              "marker": {
               "colorbar": {
                "outlinewidth": 0,
                "ticks": ""
               }
              },
              "type": "scatterternary"
             }
            ],
            "surface": [
             {
              "colorbar": {
               "outlinewidth": 0,
               "ticks": ""
              },
              "colorscale": [
               [
                0,
                "#0d0887"
               ],
               [
                0.1111111111111111,
                "#46039f"
               ],
               [
                0.2222222222222222,
                "#7201a8"
               ],
               [
                0.3333333333333333,
                "#9c179e"
               ],
               [
                0.4444444444444444,
                "#bd3786"
               ],
               [
                0.5555555555555556,
                "#d8576b"
               ],
               [
                0.6666666666666666,
                "#ed7953"
               ],
               [
                0.7777777777777778,
                "#fb9f3a"
               ],
               [
                0.8888888888888888,
                "#fdca26"
               ],
               [
                1,
                "#f0f921"
               ]
              ],
              "type": "surface"
             }
            ],
            "table": [
             {
              "cells": {
               "fill": {
                "color": "#EBF0F8"
               },
               "line": {
                "color": "white"
               }
              },
              "header": {
               "fill": {
                "color": "#C8D4E3"
               },
               "line": {
                "color": "white"
               }
              },
              "type": "table"
             }
            ]
           },
           "layout": {
            "annotationdefaults": {
             "arrowcolor": "#2a3f5f",
             "arrowhead": 0,
             "arrowwidth": 1
            },
            "autotypenumbers": "strict",
            "coloraxis": {
             "colorbar": {
              "outlinewidth": 0,
              "ticks": ""
             }
            },
            "colorscale": {
             "diverging": [
              [
               0,
               "#8e0152"
              ],
              [
               0.1,
               "#c51b7d"
              ],
              [
               0.2,
               "#de77ae"
              ],
              [
               0.3,
               "#f1b6da"
              ],
              [
               0.4,
               "#fde0ef"
              ],
              [
               0.5,
               "#f7f7f7"
              ],
              [
               0.6,
               "#e6f5d0"
              ],
              [
               0.7,
               "#b8e186"
              ],
              [
               0.8,
               "#7fbc41"
              ],
              [
               0.9,
               "#4d9221"
              ],
              [
               1,
               "#276419"
              ]
             ],
             "sequential": [
              [
               0,
               "#0d0887"
              ],
              [
               0.1111111111111111,
               "#46039f"
              ],
              [
               0.2222222222222222,
               "#7201a8"
              ],
              [
               0.3333333333333333,
               "#9c179e"
              ],
              [
               0.4444444444444444,
               "#bd3786"
              ],
              [
               0.5555555555555556,
               "#d8576b"
              ],
              [
               0.6666666666666666,
               "#ed7953"
              ],
              [
               0.7777777777777778,
               "#fb9f3a"
              ],
              [
               0.8888888888888888,
               "#fdca26"
              ],
              [
               1,
               "#f0f921"
              ]
             ],
             "sequentialminus": [
              [
               0,
               "#0d0887"
              ],
              [
               0.1111111111111111,
               "#46039f"
              ],
              [
               0.2222222222222222,
               "#7201a8"
              ],
              [
               0.3333333333333333,
               "#9c179e"
              ],
              [
               0.4444444444444444,
               "#bd3786"
              ],
              [
               0.5555555555555556,
               "#d8576b"
              ],
              [
               0.6666666666666666,
               "#ed7953"
              ],
              [
               0.7777777777777778,
               "#fb9f3a"
              ],
              [
               0.8888888888888888,
               "#fdca26"
              ],
              [
               1,
               "#f0f921"
              ]
             ]
            },
            "colorway": [
             "#636efa",
             "#EF553B",
             "#00cc96",
             "#ab63fa",
             "#FFA15A",
             "#19d3f3",
             "#FF6692",
             "#B6E880",
             "#FF97FF",
             "#FECB52"
            ],
            "font": {
             "color": "#2a3f5f"
            },
            "geo": {
             "bgcolor": "white",
             "lakecolor": "white",
             "landcolor": "white",
             "showlakes": true,
             "showland": true,
             "subunitcolor": "#C8D4E3"
            },
            "hoverlabel": {
             "align": "left"
            },
            "hovermode": "closest",
            "mapbox": {
             "style": "light"
            },
            "paper_bgcolor": "white",
            "plot_bgcolor": "white",
            "polar": {
             "angularaxis": {
              "gridcolor": "#EBF0F8",
              "linecolor": "#EBF0F8",
              "ticks": ""
             },
             "bgcolor": "white",
             "radialaxis": {
              "gridcolor": "#EBF0F8",
              "linecolor": "#EBF0F8",
              "ticks": ""
             }
            },
            "scene": {
             "xaxis": {
              "backgroundcolor": "white",
              "gridcolor": "#DFE8F3",
              "gridwidth": 2,
              "linecolor": "#EBF0F8",
              "showbackground": true,
              "ticks": "",
              "zerolinecolor": "#EBF0F8"
             },
             "yaxis": {
              "backgroundcolor": "white",
              "gridcolor": "#DFE8F3",
              "gridwidth": 2,
              "linecolor": "#EBF0F8",
              "showbackground": true,
              "ticks": "",
              "zerolinecolor": "#EBF0F8"
             },
             "zaxis": {
              "backgroundcolor": "white",
              "gridcolor": "#DFE8F3",
              "gridwidth": 2,
              "linecolor": "#EBF0F8",
              "showbackground": true,
              "ticks": "",
              "zerolinecolor": "#EBF0F8"
             }
            },
            "shapedefaults": {
             "line": {
              "color": "#2a3f5f"
             }
            },
            "ternary": {
             "aaxis": {
              "gridcolor": "#DFE8F3",
              "linecolor": "#A2B1C6",
              "ticks": ""
             },
             "baxis": {
              "gridcolor": "#DFE8F3",
              "linecolor": "#A2B1C6",
              "ticks": ""
             },
             "bgcolor": "white",
             "caxis": {
              "gridcolor": "#DFE8F3",
              "linecolor": "#A2B1C6",
              "ticks": ""
             }
            },
            "title": {
             "x": 0.05
            },
            "xaxis": {
             "automargin": true,
             "gridcolor": "#EBF0F8",
             "linecolor": "#EBF0F8",
             "ticks": "",
             "title": {
              "standoff": 15
             },
             "zerolinecolor": "#EBF0F8",
             "zerolinewidth": 2
            },
            "yaxis": {
             "automargin": true,
             "gridcolor": "#EBF0F8",
             "linecolor": "#EBF0F8",
             "ticks": "",
             "title": {
              "standoff": 15
             },
             "zerolinecolor": "#EBF0F8",
             "zerolinewidth": 2
            }
           }
          },
          "xaxis": {
           "automargin": true,
           "autorange": false,
           "fixedrange": true,
           "linecolor": "#444",
           "linewidth": 2,
           "minor": {
            "tickmode": "linear",
            "ticks": "outside"
           },
           "mirror": true,
           "showline": true,
           "tickmode": "linear",
           "ticks": "outside",
           "zeroline": false
          },
          "yaxis": {
           "automargin": true,
           "autorange": false,
           "fixedrange": true,
           "linecolor": "#444",
           "linewidth": 2,
           "minor": {
            "tickmode": "linear",
            "ticks": "outside"
           },
           "mirror": true,
           "showline": true,
           "tickmode": "linear",
           "ticks": "outside",
           "zeroline": false
          }
         }
        },
        "width": 600,
        "xaxis": {
         "dtick": 5,
         "minor": {
          "dtick": 1,
          "tick0": 0
         },
         "range": [
          0.8,
          20.2
         ],
         "tick0": 0,
         "title": {
          "text": "level"
         }
        },
        "yaxis": {
         "dtick": 5,
         "fixedrange": false,
         "minor": {
          "dtick": 1,
          "tick0": 0
         },
         "range": [
          0,
          15
         ],
         "tick0": 0,
         "title": {
          "text": "encounter XP increase (%)"
         }
        }
       }
      }
     },
     "metadata": {},
     "output_type": "display_data"
    }
   ],
   "source": [
    "# Plots XP increase - +1 Weapon Damage Bonus\n",
    "encounter_difficulty = 'Medium'\n",
    "pc_data_file = f'./pc data - BL {encounter_difficulty} 2 short rests.json'\n",
    "with open(pc_data_file, 'r') as fin:\n",
    "    pc_data0 = json.load(fin)\n",
    "\n",
    "pc_data_file = f'./pc data - WD +1 {encounter_difficulty} 2 short rests.json'\n",
    "with open(pc_data_file, 'r') as fin:\n",
    "    pc_data1 = json.load(fin)\n",
    "\n",
    "# create figure\n",
    "fig = go.Figure(\n",
    "    layout=go.Layout(\n",
    "        template=TFB_TEMPLATE,\n",
    "        xaxis=dict(\n",
    "            title_text='level',\n",
    "            range=[0.8, 20.2],\n",
    "            tick0=0, dtick=5,\n",
    "            minor=dict(tick0=0, dtick=1),\n",
    "        ),\n",
    "        yaxis=dict(\n",
    "            fixedrange=False,\n",
    "            title_text='encounter XP increase (%)',\n",
    "            range=[0, 15],\n",
    "            tick0=0, dtick=5,\n",
    "            minor=dict(tick0=0, dtick=1),\n",
    "        ),\n",
    "    )\n",
    ")\n",
    "\n",
    "# plot data\n",
    "levels = np.array(range(1,21,1))\n",
    "eXP0_mean = np.zeros(20)\n",
    "eXP1_mean = np.zeros(20)\n",
    "for pc in pc_data1:\n",
    "    eXP0 = np.array([x['encounter XP mean'] for x in pc_data0[pc]])\n",
    "    eXP1 = np.array([x['encounter XP mean'] for x in pc_data1[pc]])\n",
    "    eXP0_mean += eXP0\n",
    "    eXP1_mean += eXP1\n",
    "\n",
    "    fig.add_trace(go.Scatter(\n",
    "        x=levels, \n",
    "        y=100*(eXP1/eXP0 - 1),\n",
    "        #y=(eXP1/eXP0),\n",
    "        mode='lines+markers', \n",
    "        line={'color': PC_CLASSES[pc]['color']},\n",
    "        unselected=dict(marker=dict(opacity=0.0)),\n",
    "        name=pc,\n",
    "        hovertemplate=\n",
    "            '<b>'+pc+'</b><br>'+\n",
    "            'lvl %{x}<br>'+\n",
    "            'XP increase %{y:.1f}%'+\n",
    "            '<extra></extra>'\n",
    "    ))\n",
    "\n",
    "fig.add_trace(go.Scatter(\n",
    "    x=levels, \n",
    "    y=100*(eXP1_mean/eXP0_mean - 1),\n",
    "    #y=(eXP1_mean/eXP0_mean),\n",
    "    mode='lines+markers', \n",
    "    line={'color': 'black', 'dash': 'dash'},\n",
    "    unselected=dict(marker=dict(opacity=0.0)),\n",
    "    name=pc,\n",
    "    hovertemplate=\n",
    "        '<b>Average</b><br>'+\n",
    "        'lvl %{x}<br>'+\n",
    "        'XP increase %{y:.1f}%'+\n",
    "        '<extra></extra>'\n",
    "))\n",
    "\n",
    "print(np.mean(eXP1_mean/eXP0_mean))\n",
    "\n",
    "# show figure\n",
    "fig.update_layout(width=600, height=550)\n",
    "fig.show(config=TFB_CONFIG)\n",
    "\n",
    "# save figures\n",
    "if SAVEFIGS:\n",
    "    fig.update_layout(autosize=True, width=None, height=None)\n",
    "    save_fig_html(fig, format='large', name=f'./fig-encounter-xp-damage-bonus-large', style='aspect-ratio:600/550')\n",
    "    save_fig_html(fig, format='small', name=f'./fig-encounter-xp-damage-bonus-small', style='aspect-ratio:600/550')"
   ]
  },
  {
   "cell_type": "code",
   "execution_count": 7,
   "metadata": {},
   "outputs": [
    {
     "name": "stdout",
     "output_type": "stream",
     "text": [
      "Barbarian .................... total: 0.80 s\n",
      "Bard      .................... total: 1.53 s\n",
      "Cleric    .................... total: 0.84 s\n",
      "Druid     .................... total: 0.90 s\n",
      "Fighter   .................... total: 0.91 s\n",
      "Monk      .................... total: 1.07 s\n",
      "Paladin   .................... total: 12.09 s\n",
      "Ranger    .................... total: 1.03 s\n",
      "Rogue     .................... total: 0.37 s\n",
      "Sorcerer  .................... total: 4.89 s\n",
      "Warlock   .................... total: 0.71 s\n",
      "Wizard    .................... total: 9.46 s\n",
      "pc data saved to \"pc data - AC +1 Medium 2 short rests.json\"\n",
      "total run time: 34.60 s\n"
     ]
    }
   ],
   "source": [
    "# Encounter XP - +1 Armor Class\n",
    "import copy\n",
    "\n",
    "difficulty = 'Medium'\n",
    "short_rests = 2\n",
    "show_level_times = False\n",
    "\n",
    "PC_CLASSES = {\n",
    "    'Barbarian': {'color': '#E7623E', 'group': 'martial', 'armorClassBonus': 1},\n",
    "    'Bard': {'color': '#AB6DAC', 'group': 'spellcaster', 'armorClassBonus': 1},\n",
    "    'Cleric': {'color': '#91A1B2', 'group': 'spellcaster', 'armorClassBonus': 1},\n",
    "    'Druid': {'color': '#7A853B', 'group': 'spellcaster', 'armorClassBonus': 1},\n",
    "    'Fighter': {'color': '#7F513E', 'group': 'martial', 'armorClassBonus': 1},\n",
    "    'Monk': {'color': '#51A5C5', 'group': 'martial', 'armorClassBonus': 1},\n",
    "    'Paladin': {'color': '#B59E54', 'group': 'martial-spellcaster', 'armorClassBonus': 1},\n",
    "    'Ranger': {'color': '#507F62', 'group': 'martial-spellcaster', 'armorClassBonus': 1},\n",
    "    'Rogue': {'color': '#555752', 'group': 'martial', 'armorClassBonus': 1},\n",
    "    'Sorcerer': {'color': '#992E2E', 'group': 'spellcaster', 'armorClassBonus': 1},\n",
    "    'Warlock': {'color': '#7B469B', 'group': 'spellcaster', 'armorClassBonus': 1},\n",
    "    'Wizard': {'color': '#2A50A1', 'group': 'spellcaster', 'armorClassBonus': 1}\n",
    "}\n",
    "\n",
    "class NpEncoder(json.JSONEncoder):\n",
    "    def default(self, obj):\n",
    "        if isinstance(obj, np.integer):\n",
    "            return int(obj)\n",
    "        if isinstance(obj, np.floating):\n",
    "            return float(obj)\n",
    "        if isinstance(obj, np.ndarray):\n",
    "            return obj.tolist()\n",
    "        return super(NpEncoder, self).default(obj)\n",
    "\n",
    "pcData = {}\n",
    "class_time = []\n",
    "for c in PC_CLASSES:\n",
    "    levels = np.arange(1, 21, 1)\n",
    "    print(f'{c:<10s}', end='')\n",
    "    daily_engine_options={\n",
    "        'combat healing': False if c == 'Paladin' else True,\n",
    "        'remove empty data': True,\n",
    "        'simplify summary': True,\n",
    "        'effective_method': 'exp',\n",
    "    }\n",
    "    level_time = []\n",
    "    pcData[c] = []\n",
    "    for level in levels:\n",
    "        tic = time.perf_counter()\n",
    "        pc = pc5.newPC(pcClass=c, lvl=level, **PC_CLASSES[c])\n",
    "        advDay = create_adventuring_day(level, difficulty, short_rests)\n",
    "        dSum = en5.dailyEngine(pc, advDay, **daily_engine_options)\n",
    "        dSum['class'] = c\n",
    "        dSum['level'] = int(level)\n",
    "        pcData[c].append(copy.deepcopy(dSum))\n",
    "\n",
    "        toc = time.perf_counter()\n",
    "        level_time += [toc - tic]\n",
    "        if show_level_times:\n",
    "            print(f' {level}: {level_time[-1]:0.2f} s,', end='')\n",
    "        else:\n",
    "            print('.', end='')\n",
    "        time.sleep(0.1)\n",
    "\n",
    "    class_time += [np.sum(level_time)]\n",
    "    print(f' total: {class_time[-1]:0.2f} s')\n",
    "    time.sleep(0.1)\n",
    "\n",
    "if SAVEDATA:\n",
    "    # construct day string for saving figures\n",
    "    file_name = 'pc data - AC +1 {:} {:d} short rests.json'.format(difficulty, short_rests)\n",
    "    with open(file_name, 'w') as convert_file:\n",
    "        convert_file.write(json.dumps(pcData, indent=2, cls=NpEncoder))\n",
    "    print('pc data saved to \"{:}\"'.format(file_name))\n",
    "\n",
    "print(f'total run time: {np.sum(class_time):0.2f} s')"
   ]
  },
  {
   "cell_type": "code",
   "execution_count": 14,
   "metadata": {},
   "outputs": [
    {
     "data": {
      "application/vnd.plotly.v1+json": {
       "config": {
        "displayModeBar": "hover",
        "displaylogo": false,
        "modeBarButtonsToRemove": [
         "select2d",
         "lasso2d",
         "zoom2d",
         "zoomIn2d",
         "zoomOut2d",
         "pan2d",
         "autoScale2d",
         "hoverClosestCartesian",
         "hoverCompareCartesian",
         "toggleSpikelines",
         "resetScale2d"
        ],
        "plotlyServerURL": "https://plot.ly",
        "responsive": true,
        "showAxisDragHandles": false,
        "toImageButtonOptions": {
         "filename": "tfb-plot",
         "format": "png",
         "height": 450,
         "scale": 2,
         "width": 600
        }
       },
       "data": [
        {
         "hovertemplate": "<b>Barbarian</b><br>lvl %{x}<br>XP ratio %{y:.3f}<extra></extra>",
         "line": {
          "color": "#E7623E"
         },
         "mode": "lines+markers",
         "name": "Barbarian",
         "type": "scatter",
         "unselected": {
          "marker": {
           "opacity": 0
          }
         },
         "x": [
          1,
          2,
          3,
          4,
          5,
          6,
          7,
          8,
          9,
          10,
          11,
          12,
          13,
          14,
          15,
          16,
          17,
          18,
          19,
          20
         ],
         "y": [
          1.0769230769230769,
          1.0769230769230769,
          1.0769230769230769,
          1.0769230769230769,
          1.0769230769230766,
          1.0769230769230769,
          1.0769230769230769,
          1.0769230769230769,
          1.0769230769230769,
          1.0769230769230769,
          1.0769230769230769,
          1.0769230769230769,
          1.0769230769230769,
          1.0769230769230769,
          1.0769230769230766,
          1.0769230769230769,
          1.076923076923077,
          1.0769230769230769,
          1.0769230769230766,
          1.0769230769230766
         ]
        },
        {
         "hovertemplate": "<b>Bard</b><br>lvl %{x}<br>XP ratio %{y:.3f}<extra></extra>",
         "line": {
          "color": "#AB6DAC"
         },
         "mode": "lines+markers",
         "name": "Bard",
         "type": "scatter",
         "unselected": {
          "marker": {
           "opacity": 0
          }
         },
         "x": [
          1,
          2,
          3,
          4,
          5,
          6,
          7,
          8,
          9,
          10,
          11,
          12,
          13,
          14,
          15,
          16,
          17,
          18,
          19,
          20
         ],
         "y": [
          1.0769230769230773,
          1.0769230769230773,
          1.0769230769230769,
          1.0769230769230766,
          1.0769230769230769,
          1.0769230769230769,
          1.0769230769230769,
          1.0769230769230769,
          1.0769230769230769,
          1.0769230769230769,
          1.0769230769230769,
          1.0769230769230766,
          1.0769230769230769,
          1.0769230769230769,
          1.076923076923077,
          1.076923076923077,
          1.0769230769230769,
          1.076923076923077,
          1.0769230769230769,
          1.0769230769230769
         ]
        },
        {
         "hovertemplate": "<b>Cleric</b><br>lvl %{x}<br>XP ratio %{y:.3f}<extra></extra>",
         "line": {
          "color": "#91A1B2"
         },
         "mode": "lines+markers",
         "name": "Cleric",
         "type": "scatter",
         "unselected": {
          "marker": {
           "opacity": 0
          }
         },
         "x": [
          1,
          2,
          3,
          4,
          5,
          6,
          7,
          8,
          9,
          10,
          11,
          12,
          13,
          14,
          15,
          16,
          17,
          18,
          19,
          20
         ],
         "y": [
          1.0769230769230769,
          1.0769230769230769,
          1.0769230769230769,
          1.0769230769230769,
          1.0769230769230769,
          1.0769230769230769,
          1.076923076923077,
          1.0769230769230769,
          1.0769230769230766,
          1.0769230769230766,
          1.0769230769230769,
          1.0769230769230766,
          1.076923076923077,
          1.076923076923077,
          1.076923076923077,
          1.0769230769230769,
          1.0769230769230766,
          1.0769230769230766,
          1.0769230769230769,
          1.0769230769230766
         ]
        },
        {
         "hovertemplate": "<b>Druid</b><br>lvl %{x}<br>XP ratio %{y:.3f}<extra></extra>",
         "line": {
          "color": "#7A853B"
         },
         "mode": "lines+markers",
         "name": "Druid",
         "type": "scatter",
         "unselected": {
          "marker": {
           "opacity": 0
          }
         },
         "x": [
          1,
          2,
          3,
          4,
          5,
          6,
          7,
          8,
          9,
          10,
          11,
          12,
          13,
          14,
          15,
          16,
          17,
          18,
          19,
          20
         ],
         "y": [
          1.0769230769230769,
          1.0769230769230769,
          1.0769230769230769,
          1.0769230769230769,
          1.076923076923077,
          1.076923076923077,
          1.076923076923077,
          1.0769230769230769,
          1.0769230769230769,
          1.0769230769230769,
          1.0769230769230769,
          1.0769230769230769,
          1.0769230769230769,
          1.0769230769230766,
          1.0769230769230766,
          1.0769230769230769,
          1.076923076923077,
          1.0769230769230769,
          1.076923076923077,
          1.076923076923077
         ]
        },
        {
         "hovertemplate": "<b>Fighter</b><br>lvl %{x}<br>XP ratio %{y:.3f}<extra></extra>",
         "line": {
          "color": "#7F513E"
         },
         "mode": "lines+markers",
         "name": "Fighter",
         "type": "scatter",
         "unselected": {
          "marker": {
           "opacity": 0
          }
         },
         "x": [
          1,
          2,
          3,
          4,
          5,
          6,
          7,
          8,
          9,
          10,
          11,
          12,
          13,
          14,
          15,
          16,
          17,
          18,
          19,
          20
         ],
         "y": [
          1.0769230769230769,
          1.076923076923077,
          1.0769230769230769,
          1.0769230769230769,
          1.0769230769230766,
          1.0769230769230769,
          1.0769230769230769,
          1.0769230769230769,
          1.0769230769230769,
          1.0769230769230769,
          1.0769230769230769,
          1.0769230769230769,
          1.076923076923077,
          1.076923076923077,
          1.076923076923077,
          1.0769230769230769,
          1.0769230769230769,
          1.0769230769230769,
          1.0769230769230766,
          1.0769230769230766
         ]
        },
        {
         "hovertemplate": "<b>Monk</b><br>lvl %{x}<br>XP ratio %{y:.3f}<extra></extra>",
         "line": {
          "color": "#51A5C5"
         },
         "mode": "lines+markers",
         "name": "Monk",
         "type": "scatter",
         "unselected": {
          "marker": {
           "opacity": 0
          }
         },
         "x": [
          1,
          2,
          3,
          4,
          5,
          6,
          7,
          8,
          9,
          10,
          11,
          12,
          13,
          14,
          15,
          16,
          17,
          18,
          19,
          20
         ],
         "y": [
          1.0769230769230769,
          1.076923076923077,
          1.0769230769230769,
          1.0769230769230766,
          1.0769230769230769,
          1.076923076923077,
          1.0769230769230769,
          1.0769230769230769,
          1.0769230769230766,
          1.0769230769230769,
          1.0769230769230769,
          1.0769230769230766,
          1.0769230769230769,
          1.0769230769230769,
          1.0769230769230769,
          1.0769230769230769,
          1.0769230769230769,
          1.0769230769230769,
          1.0769230769230769,
          1.0769230769230769
         ]
        },
        {
         "hovertemplate": "<b>Paladin</b><br>lvl %{x}<br>XP ratio %{y:.3f}<extra></extra>",
         "line": {
          "color": "#B59E54"
         },
         "mode": "lines+markers",
         "name": "Paladin",
         "type": "scatter",
         "unselected": {
          "marker": {
           "opacity": 0
          }
         },
         "x": [
          1,
          2,
          3,
          4,
          5,
          6,
          7,
          8,
          9,
          10,
          11,
          12,
          13,
          14,
          15,
          16,
          17,
          18,
          19,
          20
         ],
         "y": [
          1.076923076923077,
          1.0769230769230769,
          1.0769230769230769,
          1.0769230769230769,
          1.0769230769230769,
          1.0769230769230769,
          1.0769230769230769,
          1.0769230769230769,
          1.0769230769230769,
          1.0769230769230769,
          1.076923076923077,
          1.0769230769230769,
          1.0769230769230766,
          1.0769230769230769,
          1.0769230769230769,
          1.0769230769230769,
          1.0769230769230769,
          1.0769230769230769,
          1.0769230769230769,
          1.0769230769230769
         ]
        },
        {
         "hovertemplate": "<b>Ranger</b><br>lvl %{x}<br>XP ratio %{y:.3f}<extra></extra>",
         "line": {
          "color": "#507F62"
         },
         "mode": "lines+markers",
         "name": "Ranger",
         "type": "scatter",
         "unselected": {
          "marker": {
           "opacity": 0
          }
         },
         "x": [
          1,
          2,
          3,
          4,
          5,
          6,
          7,
          8,
          9,
          10,
          11,
          12,
          13,
          14,
          15,
          16,
          17,
          18,
          19,
          20
         ],
         "y": [
          1.0769230769230769,
          1.0769230769230769,
          1.0769230769230769,
          1.0769230769230769,
          1.0769230769230769,
          1.0769230769230769,
          1.076923076923077,
          1.0769230769230769,
          1.0769230769230766,
          1.0769230769230766,
          1.0769230769230769,
          1.0769230769230769,
          1.076923076923077,
          1.0769230769230769,
          1.0769230769230769,
          1.076923076923077,
          1.0769230769230766,
          1.0769230769230766,
          1.0769230769230766,
          1.0769230769230766
         ]
        },
        {
         "hovertemplate": "<b>Rogue</b><br>lvl %{x}<br>XP ratio %{y:.3f}<extra></extra>",
         "line": {
          "color": "#555752"
         },
         "mode": "lines+markers",
         "name": "Rogue",
         "type": "scatter",
         "unselected": {
          "marker": {
           "opacity": 0
          }
         },
         "x": [
          1,
          2,
          3,
          4,
          5,
          6,
          7,
          8,
          9,
          10,
          11,
          12,
          13,
          14,
          15,
          16,
          17,
          18,
          19,
          20
         ],
         "y": [
          1.0769230769230769,
          1.0769230769230766,
          1.0769230769230769,
          1.0769230769230769,
          1.0769230769230769,
          1.0769230769230766,
          1.0769230769230769,
          1.0769230769230769,
          1.0769230769230769,
          1.0769230769230769,
          1.076923076923077,
          1.0769230769230769,
          1.076923076923077,
          1.076923076923077,
          1.0769230769230769,
          1.0769230769230769,
          1.0769230769230769,
          1.0769230769230769,
          1.0769230769230769,
          1.0769230769230769
         ]
        },
        {
         "hovertemplate": "<b>Sorcerer</b><br>lvl %{x}<br>XP ratio %{y:.3f}<extra></extra>",
         "line": {
          "color": "#992E2E"
         },
         "mode": "lines+markers",
         "name": "Sorcerer",
         "type": "scatter",
         "unselected": {
          "marker": {
           "opacity": 0
          }
         },
         "x": [
          1,
          2,
          3,
          4,
          5,
          6,
          7,
          8,
          9,
          10,
          11,
          12,
          13,
          14,
          15,
          16,
          17,
          18,
          19,
          20
         ],
         "y": [
          1.0769230769230769,
          1.076923076923077,
          1.0769230769230769,
          1.0769230769230769,
          1.0769230769230766,
          1.0769230769230766,
          1.0769230769230769,
          1.0769230769230769,
          1.0769230769230769,
          1.076923076923077,
          1.0769230769230766,
          1.0769230769230769,
          1.0769230769230769,
          1.0769230769230769,
          1.0769230769230769,
          1.0769230769230769,
          1.0769230769230769,
          1.076923076923077,
          1.0769230769230769,
          1.0769230769230769
         ]
        },
        {
         "hovertemplate": "<b>Warlock</b><br>lvl %{x}<br>XP ratio %{y:.3f}<extra></extra>",
         "line": {
          "color": "#7B469B"
         },
         "mode": "lines+markers",
         "name": "Warlock",
         "type": "scatter",
         "unselected": {
          "marker": {
           "opacity": 0
          }
         },
         "x": [
          1,
          2,
          3,
          4,
          5,
          6,
          7,
          8,
          9,
          10,
          11,
          12,
          13,
          14,
          15,
          16,
          17,
          18,
          19,
          20
         ],
         "y": [
          1.076923076923077,
          1.076923076923077,
          1.076923076923077,
          1.0769230769230769,
          1.0769230769230769,
          1.0769230769230769,
          1.076923076923077,
          1.076923076923077,
          1.0769230769230769,
          1.0769230769230769,
          1.0769230769230766,
          1.0769230769230769,
          1.0769230769230769,
          1.0769230769230766,
          1.076923076923077,
          1.0769230769230766,
          1.0769230769230769,
          1.0769230769230769,
          1.0769230769230769,
          1.0769230769230769
         ]
        },
        {
         "hovertemplate": "<b>Wizard</b><br>lvl %{x}<br>XP ratio %{y:.3f}<extra></extra>",
         "line": {
          "color": "#2A50A1"
         },
         "mode": "lines+markers",
         "name": "Wizard",
         "type": "scatter",
         "unselected": {
          "marker": {
           "opacity": 0
          }
         },
         "x": [
          1,
          2,
          3,
          4,
          5,
          6,
          7,
          8,
          9,
          10,
          11,
          12,
          13,
          14,
          15,
          16,
          17,
          18,
          19,
          20
         ],
         "y": [
          1.0769230769230769,
          1.076923076923077,
          1.0769230769230769,
          1.076923076923077,
          1.0769230769230766,
          1.0769230769230769,
          1.0769230769230769,
          1.0769230769230769,
          1.0769230769230769,
          1.076923076923077,
          1.0769230769230766,
          1.0769230769230769,
          1.0769230769230769,
          1.0769230769230769,
          1.0769230769230769,
          1.0769230769230769,
          1.076923076923077,
          1.0769230769230769,
          1.0769230769230769,
          1.0769230769230769
         ]
        }
       ],
       "layout": {
        "height": 600,
        "template": {
         "layout": {
          "autosize": false,
          "font": {
           "family": "sans-serif",
           "size": 14
          },
          "hovermode": "closest",
          "legend": {
           "bgcolor": "rgba(0,0,0,0)",
           "font": {
            "size": 10
           },
           "orientation": "h",
           "tracegroupgap": 0,
           "x": 0.01,
           "xanchor": "left",
           "y": 1.04,
           "yanchor": "bottom"
          },
          "margin": {
           "b": 40,
           "l": 50,
           "pad": 4,
           "r": 25,
           "t": 20
          },
          "template": {
           "data": {
            "bar": [
             {
              "error_x": {
               "color": "#2a3f5f"
              },
              "error_y": {
               "color": "#2a3f5f"
              },
              "marker": {
               "line": {
                "color": "white",
                "width": 0.5
               },
               "pattern": {
                "fillmode": "overlay",
                "size": 10,
                "solidity": 0.2
               }
              },
              "type": "bar"
             }
            ],
            "barpolar": [
             {
              "marker": {
               "line": {
                "color": "white",
                "width": 0.5
               },
               "pattern": {
                "fillmode": "overlay",
                "size": 10,
                "solidity": 0.2
               }
              },
              "type": "barpolar"
             }
            ],
            "carpet": [
             {
              "aaxis": {
               "endlinecolor": "#2a3f5f",
               "gridcolor": "#C8D4E3",
               "linecolor": "#C8D4E3",
               "minorgridcolor": "#C8D4E3",
               "startlinecolor": "#2a3f5f"
              },
              "baxis": {
               "endlinecolor": "#2a3f5f",
               "gridcolor": "#C8D4E3",
               "linecolor": "#C8D4E3",
               "minorgridcolor": "#C8D4E3",
               "startlinecolor": "#2a3f5f"
              },
              "type": "carpet"
             }
            ],
            "choropleth": [
             {
              "colorbar": {
               "outlinewidth": 0,
               "ticks": ""
              },
              "type": "choropleth"
             }
            ],
            "contour": [
             {
              "colorbar": {
               "outlinewidth": 0,
               "ticks": ""
              },
              "colorscale": [
               [
                0,
                "#0d0887"
               ],
               [
                0.1111111111111111,
                "#46039f"
               ],
               [
                0.2222222222222222,
                "#7201a8"
               ],
               [
                0.3333333333333333,
                "#9c179e"
               ],
               [
                0.4444444444444444,
                "#bd3786"
               ],
               [
                0.5555555555555556,
                "#d8576b"
               ],
               [
                0.6666666666666666,
                "#ed7953"
               ],
               [
                0.7777777777777778,
                "#fb9f3a"
               ],
               [
                0.8888888888888888,
                "#fdca26"
               ],
               [
                1,
                "#f0f921"
               ]
              ],
              "type": "contour"
             }
            ],
            "contourcarpet": [
             {
              "colorbar": {
               "outlinewidth": 0,
               "ticks": ""
              },
              "type": "contourcarpet"
             }
            ],
            "heatmap": [
             {
              "colorbar": {
               "outlinewidth": 0,
               "ticks": ""
              },
              "colorscale": [
               [
                0,
                "#0d0887"
               ],
               [
                0.1111111111111111,
                "#46039f"
               ],
               [
                0.2222222222222222,
                "#7201a8"
               ],
               [
                0.3333333333333333,
                "#9c179e"
               ],
               [
                0.4444444444444444,
                "#bd3786"
               ],
               [
                0.5555555555555556,
                "#d8576b"
               ],
               [
                0.6666666666666666,
                "#ed7953"
               ],
               [
                0.7777777777777778,
                "#fb9f3a"
               ],
               [
                0.8888888888888888,
                "#fdca26"
               ],
               [
                1,
                "#f0f921"
               ]
              ],
              "type": "heatmap"
             }
            ],
            "heatmapgl": [
             {
              "colorbar": {
               "outlinewidth": 0,
               "ticks": ""
              },
              "colorscale": [
               [
                0,
                "#0d0887"
               ],
               [
                0.1111111111111111,
                "#46039f"
               ],
               [
                0.2222222222222222,
                "#7201a8"
               ],
               [
                0.3333333333333333,
                "#9c179e"
               ],
               [
                0.4444444444444444,
                "#bd3786"
               ],
               [
                0.5555555555555556,
                "#d8576b"
               ],
               [
                0.6666666666666666,
                "#ed7953"
               ],
               [
                0.7777777777777778,
                "#fb9f3a"
               ],
               [
                0.8888888888888888,
                "#fdca26"
               ],
               [
                1,
                "#f0f921"
               ]
              ],
              "type": "heatmapgl"
             }
            ],
            "histogram": [
             {
              "marker": {
               "pattern": {
                "fillmode": "overlay",
                "size": 10,
                "solidity": 0.2
               }
              },
              "type": "histogram"
             }
            ],
            "histogram2d": [
             {
              "colorbar": {
               "outlinewidth": 0,
               "ticks": ""
              },
              "colorscale": [
               [
                0,
                "#0d0887"
               ],
               [
                0.1111111111111111,
                "#46039f"
               ],
               [
                0.2222222222222222,
                "#7201a8"
               ],
               [
                0.3333333333333333,
                "#9c179e"
               ],
               [
                0.4444444444444444,
                "#bd3786"
               ],
               [
                0.5555555555555556,
                "#d8576b"
               ],
               [
                0.6666666666666666,
                "#ed7953"
               ],
               [
                0.7777777777777778,
                "#fb9f3a"
               ],
               [
                0.8888888888888888,
                "#fdca26"
               ],
               [
                1,
                "#f0f921"
               ]
              ],
              "type": "histogram2d"
             }
            ],
            "histogram2dcontour": [
             {
              "colorbar": {
               "outlinewidth": 0,
               "ticks": ""
              },
              "colorscale": [
               [
                0,
                "#0d0887"
               ],
               [
                0.1111111111111111,
                "#46039f"
               ],
               [
                0.2222222222222222,
                "#7201a8"
               ],
               [
                0.3333333333333333,
                "#9c179e"
               ],
               [
                0.4444444444444444,
                "#bd3786"
               ],
               [
                0.5555555555555556,
                "#d8576b"
               ],
               [
                0.6666666666666666,
                "#ed7953"
               ],
               [
                0.7777777777777778,
                "#fb9f3a"
               ],
               [
                0.8888888888888888,
                "#fdca26"
               ],
               [
                1,
                "#f0f921"
               ]
              ],
              "type": "histogram2dcontour"
             }
            ],
            "mesh3d": [
             {
              "colorbar": {
               "outlinewidth": 0,
               "ticks": ""
              },
              "type": "mesh3d"
             }
            ],
            "parcoords": [
             {
              "line": {
               "colorbar": {
                "outlinewidth": 0,
                "ticks": ""
               }
              },
              "type": "parcoords"
             }
            ],
            "pie": [
             {
              "automargin": true,
              "type": "pie"
             }
            ],
            "scatter": [
             {
              "fillpattern": {
               "fillmode": "overlay",
               "size": 10,
               "solidity": 0.2
              },
              "type": "scatter"
             }
            ],
            "scatter3d": [
             {
              "line": {
               "colorbar": {
                "outlinewidth": 0,
                "ticks": ""
               }
              },
              "marker": {
               "colorbar": {
                "outlinewidth": 0,
                "ticks": ""
               }
              },
              "type": "scatter3d"
             }
            ],
            "scattercarpet": [
             {
              "marker": {
               "colorbar": {
                "outlinewidth": 0,
                "ticks": ""
               }
              },
              "type": "scattercarpet"
             }
            ],
            "scattergeo": [
             {
              "marker": {
               "colorbar": {
                "outlinewidth": 0,
                "ticks": ""
               }
              },
              "type": "scattergeo"
             }
            ],
            "scattergl": [
             {
              "marker": {
               "colorbar": {
                "outlinewidth": 0,
                "ticks": ""
               }
              },
              "type": "scattergl"
             }
            ],
            "scattermapbox": [
             {
              "marker": {
               "colorbar": {
                "outlinewidth": 0,
                "ticks": ""
               }
              },
              "type": "scattermapbox"
             }
            ],
            "scatterpolar": [
             {
              "marker": {
               "colorbar": {
                "outlinewidth": 0,
                "ticks": ""
               }
              },
              "type": "scatterpolar"
             }
            ],
            "scatterpolargl": [
             {
              "marker": {
               "colorbar": {
                "outlinewidth": 0,
                "ticks": ""
               }
              },
              "type": "scatterpolargl"
             }
            ],
            "scatterternary": [
             {
              "marker": {
               "colorbar": {
                "outlinewidth": 0,
                "ticks": ""
               }
              },
              "type": "scatterternary"
             }
            ],
            "surface": [
             {
              "colorbar": {
               "outlinewidth": 0,
               "ticks": ""
              },
              "colorscale": [
               [
                0,
                "#0d0887"
               ],
               [
                0.1111111111111111,
                "#46039f"
               ],
               [
                0.2222222222222222,
                "#7201a8"
               ],
               [
                0.3333333333333333,
                "#9c179e"
               ],
               [
                0.4444444444444444,
                "#bd3786"
               ],
               [
                0.5555555555555556,
                "#d8576b"
               ],
               [
                0.6666666666666666,
                "#ed7953"
               ],
               [
                0.7777777777777778,
                "#fb9f3a"
               ],
               [
                0.8888888888888888,
                "#fdca26"
               ],
               [
                1,
                "#f0f921"
               ]
              ],
              "type": "surface"
             }
            ],
            "table": [
             {
              "cells": {
               "fill": {
                "color": "#EBF0F8"
               },
               "line": {
                "color": "white"
               }
              },
              "header": {
               "fill": {
                "color": "#C8D4E3"
               },
               "line": {
                "color": "white"
               }
              },
              "type": "table"
             }
            ]
           },
           "layout": {
            "annotationdefaults": {
             "arrowcolor": "#2a3f5f",
             "arrowhead": 0,
             "arrowwidth": 1
            },
            "autotypenumbers": "strict",
            "coloraxis": {
             "colorbar": {
              "outlinewidth": 0,
              "ticks": ""
             }
            },
            "colorscale": {
             "diverging": [
              [
               0,
               "#8e0152"
              ],
              [
               0.1,
               "#c51b7d"
              ],
              [
               0.2,
               "#de77ae"
              ],
              [
               0.3,
               "#f1b6da"
              ],
              [
               0.4,
               "#fde0ef"
              ],
              [
               0.5,
               "#f7f7f7"
              ],
              [
               0.6,
               "#e6f5d0"
              ],
              [
               0.7,
               "#b8e186"
              ],
              [
               0.8,
               "#7fbc41"
              ],
              [
               0.9,
               "#4d9221"
              ],
              [
               1,
               "#276419"
              ]
             ],
             "sequential": [
              [
               0,
               "#0d0887"
              ],
              [
               0.1111111111111111,
               "#46039f"
              ],
              [
               0.2222222222222222,
               "#7201a8"
              ],
              [
               0.3333333333333333,
               "#9c179e"
              ],
              [
               0.4444444444444444,
               "#bd3786"
              ],
              [
               0.5555555555555556,
               "#d8576b"
              ],
              [
               0.6666666666666666,
               "#ed7953"
              ],
              [
               0.7777777777777778,
               "#fb9f3a"
              ],
              [
               0.8888888888888888,
               "#fdca26"
              ],
              [
               1,
               "#f0f921"
              ]
             ],
             "sequentialminus": [
              [
               0,
               "#0d0887"
              ],
              [
               0.1111111111111111,
               "#46039f"
              ],
              [
               0.2222222222222222,
               "#7201a8"
              ],
              [
               0.3333333333333333,
               "#9c179e"
              ],
              [
               0.4444444444444444,
               "#bd3786"
              ],
              [
               0.5555555555555556,
               "#d8576b"
              ],
              [
               0.6666666666666666,
               "#ed7953"
              ],
              [
               0.7777777777777778,
               "#fb9f3a"
              ],
              [
               0.8888888888888888,
               "#fdca26"
              ],
              [
               1,
               "#f0f921"
              ]
             ]
            },
            "colorway": [
             "#636efa",
             "#EF553B",
             "#00cc96",
             "#ab63fa",
             "#FFA15A",
             "#19d3f3",
             "#FF6692",
             "#B6E880",
             "#FF97FF",
             "#FECB52"
            ],
            "font": {
             "color": "#2a3f5f"
            },
            "geo": {
             "bgcolor": "white",
             "lakecolor": "white",
             "landcolor": "white",
             "showlakes": true,
             "showland": true,
             "subunitcolor": "#C8D4E3"
            },
            "hoverlabel": {
             "align": "left"
            },
            "hovermode": "closest",
            "mapbox": {
             "style": "light"
            },
            "paper_bgcolor": "white",
            "plot_bgcolor": "white",
            "polar": {
             "angularaxis": {
              "gridcolor": "#EBF0F8",
              "linecolor": "#EBF0F8",
              "ticks": ""
             },
             "bgcolor": "white",
             "radialaxis": {
              "gridcolor": "#EBF0F8",
              "linecolor": "#EBF0F8",
              "ticks": ""
             }
            },
            "scene": {
             "xaxis": {
              "backgroundcolor": "white",
              "gridcolor": "#DFE8F3",
              "gridwidth": 2,
              "linecolor": "#EBF0F8",
              "showbackground": true,
              "ticks": "",
              "zerolinecolor": "#EBF0F8"
             },
             "yaxis": {
              "backgroundcolor": "white",
              "gridcolor": "#DFE8F3",
              "gridwidth": 2,
              "linecolor": "#EBF0F8",
              "showbackground": true,
              "ticks": "",
              "zerolinecolor": "#EBF0F8"
             },
             "zaxis": {
              "backgroundcolor": "white",
              "gridcolor": "#DFE8F3",
              "gridwidth": 2,
              "linecolor": "#EBF0F8",
              "showbackground": true,
              "ticks": "",
              "zerolinecolor": "#EBF0F8"
             }
            },
            "shapedefaults": {
             "line": {
              "color": "#2a3f5f"
             }
            },
            "ternary": {
             "aaxis": {
              "gridcolor": "#DFE8F3",
              "linecolor": "#A2B1C6",
              "ticks": ""
             },
             "baxis": {
              "gridcolor": "#DFE8F3",
              "linecolor": "#A2B1C6",
              "ticks": ""
             },
             "bgcolor": "white",
             "caxis": {
              "gridcolor": "#DFE8F3",
              "linecolor": "#A2B1C6",
              "ticks": ""
             }
            },
            "title": {
             "x": 0.05
            },
            "xaxis": {
             "automargin": true,
             "gridcolor": "#EBF0F8",
             "linecolor": "#EBF0F8",
             "ticks": "",
             "title": {
              "standoff": 15
             },
             "zerolinecolor": "#EBF0F8",
             "zerolinewidth": 2
            },
            "yaxis": {
             "automargin": true,
             "gridcolor": "#EBF0F8",
             "linecolor": "#EBF0F8",
             "ticks": "",
             "title": {
              "standoff": 15
             },
             "zerolinecolor": "#EBF0F8",
             "zerolinewidth": 2
            }
           }
          },
          "xaxis": {
           "automargin": true,
           "autorange": false,
           "fixedrange": true,
           "linecolor": "#444",
           "linewidth": 2,
           "minor": {
            "tickmode": "linear",
            "ticks": "outside"
           },
           "mirror": true,
           "showline": true,
           "tickmode": "linear",
           "ticks": "outside",
           "zeroline": false
          },
          "yaxis": {
           "automargin": true,
           "autorange": false,
           "fixedrange": true,
           "linecolor": "#444",
           "linewidth": 2,
           "minor": {
            "tickmode": "linear",
            "ticks": "outside"
           },
           "mirror": true,
           "showline": true,
           "tickmode": "linear",
           "ticks": "outside",
           "zeroline": false
          }
         }
        },
        "width": 600,
        "xaxis": {
         "dtick": 5,
         "minor": {
          "dtick": 1,
          "tick0": 0
         },
         "range": [
          0.8,
          20.2
         ],
         "tick0": 0,
         "title": {
          "text": "level"
         }
        },
        "yaxis": {
         "dtick": 0.05,
         "fixedrange": false,
         "minor": {
          "dtick": 0.01,
          "tick0": 0
         },
         "range": [
          1,
          1.15
         ],
         "tick0": 0,
         "title": {
          "text": "encounter XP ratio"
         }
        }
       }
      }
     },
     "metadata": {},
     "output_type": "display_data"
    }
   ],
   "source": [
    "# Plots XP increase - +1 Armor Class\n",
    "encounter_difficulty = 'Medium'\n",
    "pc_data_file = f'./pc data - BL {encounter_difficulty} 2 short rests.json'\n",
    "with open(pc_data_file, 'r') as fin:\n",
    "    pc_data0 = json.load(fin)\n",
    "\n",
    "pc_data_file = f'./pc data - AC +1 {encounter_difficulty} 2 short rests.json'\n",
    "with open(pc_data_file, 'r') as fin:\n",
    "    pc_data1 = json.load(fin)\n",
    "\n",
    "# create figure\n",
    "fig = go.Figure(\n",
    "    layout=go.Layout(\n",
    "        template=TFB_TEMPLATE,\n",
    "        xaxis=dict(\n",
    "            title_text='level',\n",
    "            range=[0.8, 20.2],\n",
    "            tick0=0, dtick=5,\n",
    "            minor=dict(tick0=0, dtick=1),\n",
    "        ),\n",
    "        yaxis=dict(\n",
    "            fixedrange=False,\n",
    "            title_text='encounter XP ratio',\n",
    "            range=[1.00, 1.15],\n",
    "            tick0=0, dtick=0.05,\n",
    "            minor=dict(tick0=0, dtick=0.01),\n",
    "        ),\n",
    "    )\n",
    ")\n",
    "\n",
    "# plot data\n",
    "levels = np.array(range(1,21,1))\n",
    "for pc in PC_CLASSES:\n",
    "    eXP0 = np.array([x['encounter XP mean'] for x in pc_data0[pc]])\n",
    "    eXP1 = np.array([x['encounter XP mean'] for x in pc_data1[pc]])\n",
    "\n",
    "    fig.add_trace(go.Scatter(\n",
    "        x=levels, \n",
    "        #y=(eXP1/eXP0),\n",
    "        y=100*(eXP1/eXP0 - 1),\n",
    "        mode='lines+markers', \n",
    "        line={'color': PC_CLASSES[pc]['color']},\n",
    "        unselected=dict(marker=dict(opacity=0.0)),\n",
    "        name=pc,\n",
    "        hovertemplate=\n",
    "            '<b>'+pc+'</b><br>'+\n",
    "            'lvl %{x}<br>'+\n",
    "            'XP increase %{y:.1f}%'+\n",
    "            '<extra></extra>'\n",
    "    ))\n",
    "\n",
    "# show figure\n",
    "fig.update_layout(width=600, height=600)\n",
    "fig.show(config=TFB_CONFIG)\n",
    "\n",
    "# save figures\n",
    "if SAVEFIGS:\n",
    "    fig.update_layout(autosize=True, width=None, height=None)\n",
    "    save_fig_html(fig, format='large', name=f'./fig-encounter-xp-armor-bonus-large', style='aspect-ratio:600/600')\n",
    "    save_fig_html(fig, format='small', name=f'./fig-encounter-xp-armor-bonus-small', style='aspect-ratio:600/600')"
   ]
  },
  {
   "cell_type": "code",
   "execution_count": 15,
   "metadata": {},
   "outputs": [
    {
     "data": {
      "application/vnd.plotly.v1+json": {
       "config": {
        "displayModeBar": "hover",
        "displaylogo": false,
        "modeBarButtonsToRemove": [
         "select2d",
         "lasso2d",
         "zoom2d",
         "zoomIn2d",
         "zoomOut2d",
         "pan2d",
         "autoScale2d",
         "hoverClosestCartesian",
         "hoverCompareCartesian",
         "toggleSpikelines",
         "resetScale2d"
        ],
        "plotlyServerURL": "https://plot.ly",
        "responsive": true,
        "showAxisDragHandles": false,
        "toImageButtonOptions": {
         "filename": "tfb-plot",
         "format": "png",
         "height": 450,
         "scale": 2,
         "width": 600
        }
       },
       "data": [
        {
         "hovertemplate": "<b>+1 armor class</b><br>lvl %{x}<br>XP ratio %{y:.3f}<extra></extra>",
         "mode": "lines+markers",
         "name": "+1 armor class",
         "type": "scatter",
         "unselected": {
          "marker": {
           "opacity": 0
          }
         },
         "x": [
          1,
          2,
          3,
          4,
          5,
          6,
          7,
          8,
          9,
          10,
          11,
          12,
          13,
          14,
          15,
          16,
          17,
          18,
          19,
          20
         ],
         "y": [
          1.0769230769230769,
          1.0769230769230769,
          1.0769230769230769,
          1.0769230769230766,
          1.0769230769230766,
          1.0769230769230769,
          1.0769230769230769,
          1.0769230769230769,
          1.0769230769230766,
          1.0769230769230766,
          1.0769230769230769,
          1.0769230769230766,
          1.0769230769230769,
          1.0769230769230769,
          1.0769230769230769,
          1.0769230769230769,
          1.0769230769230769,
          1.0769230769230766,
          1.0769230769230766,
          1.0769230769230766
         ]
        },
        {
         "hovertemplate": "<b>+1 attack bonus</b><br>lvl %{x}<br>XP ratio %{y:.3f}<extra></extra>",
         "mode": "lines+markers",
         "name": "+1 attack bonus",
         "type": "scatter",
         "unselected": {
          "marker": {
           "opacity": 0
          }
         },
         "x": [
          1,
          2,
          3,
          4,
          5,
          6,
          7,
          8,
          9,
          10,
          11,
          12,
          13,
          14,
          15,
          16,
          17,
          18,
          19,
          20
         ],
         "y": [
          1.0739260197313203,
          1.0735194880860792,
          1.0735165911520916,
          1.0731961059155855,
          1.073936456413677,
          1.0738189423786657,
          1.0737547594206143,
          1.0737022814584758,
          1.073658574123282,
          1.0736585741232822,
          1.073658574123282,
          1.073658574123282,
          1.0736585741232822,
          1.0736585741232822,
          1.0736585741232822,
          1.073658574123282,
          1.0736585741232822,
          1.0739921963079393,
          1.0740153519419513,
          1.0740153519419513
         ]
        },
        {
         "hovertemplate": "<b>+1 weapon damage</b><br>lvl %{x}<br>XP ratio %{y:.3f}<extra></extra>",
         "mode": "lines+markers",
         "name": "+1 weapon damage",
         "type": "scatter",
         "unselected": {
          "marker": {
           "opacity": 0
          }
         },
         "x": [
          1,
          2,
          3,
          4,
          5,
          6,
          7,
          8,
          9,
          10,
          11,
          12,
          13,
          14,
          15,
          16,
          17,
          18,
          19,
          20
         ],
         "y": [
          1.102504553734062,
          1.0947862408690752,
          1.0895251992560182,
          1.0792078560883596,
          1.0786886856868934,
          1.076294058822391,
          1.0733739148257293,
          1.0698465968878377,
          1.0645554176981589,
          1.0653259410262739,
          1.0594422913815973,
          1.0567462939191714,
          1.0548447202203568,
          1.0548447202203568,
          1.0537826466628815,
          1.05326347975499,
          1.049306291648583,
          1.0501273097109802,
          1.0486507881770566,
          1.048822148703358
         ]
        }
       ],
       "layout": {
        "height": 550,
        "template": {
         "layout": {
          "autosize": false,
          "font": {
           "family": "sans-serif",
           "size": 14
          },
          "hovermode": "closest",
          "legend": {
           "bgcolor": "rgba(0,0,0,0)",
           "font": {
            "size": 10
           },
           "orientation": "h",
           "tracegroupgap": 0,
           "x": 0.01,
           "xanchor": "left",
           "y": 1.04,
           "yanchor": "bottom"
          },
          "margin": {
           "b": 40,
           "l": 50,
           "pad": 4,
           "r": 25,
           "t": 20
          },
          "template": {
           "data": {
            "bar": [
             {
              "error_x": {
               "color": "#2a3f5f"
              },
              "error_y": {
               "color": "#2a3f5f"
              },
              "marker": {
               "line": {
                "color": "white",
                "width": 0.5
               },
               "pattern": {
                "fillmode": "overlay",
                "size": 10,
                "solidity": 0.2
               }
              },
              "type": "bar"
             }
            ],
            "barpolar": [
             {
              "marker": {
               "line": {
                "color": "white",
                "width": 0.5
               },
               "pattern": {
                "fillmode": "overlay",
                "size": 10,
                "solidity": 0.2
               }
              },
              "type": "barpolar"
             }
            ],
            "carpet": [
             {
              "aaxis": {
               "endlinecolor": "#2a3f5f",
               "gridcolor": "#C8D4E3",
               "linecolor": "#C8D4E3",
               "minorgridcolor": "#C8D4E3",
               "startlinecolor": "#2a3f5f"
              },
              "baxis": {
               "endlinecolor": "#2a3f5f",
               "gridcolor": "#C8D4E3",
               "linecolor": "#C8D4E3",
               "minorgridcolor": "#C8D4E3",
               "startlinecolor": "#2a3f5f"
              },
              "type": "carpet"
             }
            ],
            "choropleth": [
             {
              "colorbar": {
               "outlinewidth": 0,
               "ticks": ""
              },
              "type": "choropleth"
             }
            ],
            "contour": [
             {
              "colorbar": {
               "outlinewidth": 0,
               "ticks": ""
              },
              "colorscale": [
               [
                0,
                "#0d0887"
               ],
               [
                0.1111111111111111,
                "#46039f"
               ],
               [
                0.2222222222222222,
                "#7201a8"
               ],
               [
                0.3333333333333333,
                "#9c179e"
               ],
               [
                0.4444444444444444,
                "#bd3786"
               ],
               [
                0.5555555555555556,
                "#d8576b"
               ],
               [
                0.6666666666666666,
                "#ed7953"
               ],
               [
                0.7777777777777778,
                "#fb9f3a"
               ],
               [
                0.8888888888888888,
                "#fdca26"
               ],
               [
                1,
                "#f0f921"
               ]
              ],
              "type": "contour"
             }
            ],
            "contourcarpet": [
             {
              "colorbar": {
               "outlinewidth": 0,
               "ticks": ""
              },
              "type": "contourcarpet"
             }
            ],
            "heatmap": [
             {
              "colorbar": {
               "outlinewidth": 0,
               "ticks": ""
              },
              "colorscale": [
               [
                0,
                "#0d0887"
               ],
               [
                0.1111111111111111,
                "#46039f"
               ],
               [
                0.2222222222222222,
                "#7201a8"
               ],
               [
                0.3333333333333333,
                "#9c179e"
               ],
               [
                0.4444444444444444,
                "#bd3786"
               ],
               [
                0.5555555555555556,
                "#d8576b"
               ],
               [
                0.6666666666666666,
                "#ed7953"
               ],
               [
                0.7777777777777778,
                "#fb9f3a"
               ],
               [
                0.8888888888888888,
                "#fdca26"
               ],
               [
                1,
                "#f0f921"
               ]
              ],
              "type": "heatmap"
             }
            ],
            "heatmapgl": [
             {
              "colorbar": {
               "outlinewidth": 0,
               "ticks": ""
              },
              "colorscale": [
               [
                0,
                "#0d0887"
               ],
               [
                0.1111111111111111,
                "#46039f"
               ],
               [
                0.2222222222222222,
                "#7201a8"
               ],
               [
                0.3333333333333333,
                "#9c179e"
               ],
               [
                0.4444444444444444,
                "#bd3786"
               ],
               [
                0.5555555555555556,
                "#d8576b"
               ],
               [
                0.6666666666666666,
                "#ed7953"
               ],
               [
                0.7777777777777778,
                "#fb9f3a"
               ],
               [
                0.8888888888888888,
                "#fdca26"
               ],
               [
                1,
                "#f0f921"
               ]
              ],
              "type": "heatmapgl"
             }
            ],
            "histogram": [
             {
              "marker": {
               "pattern": {
                "fillmode": "overlay",
                "size": 10,
                "solidity": 0.2
               }
              },
              "type": "histogram"
             }
            ],
            "histogram2d": [
             {
              "colorbar": {
               "outlinewidth": 0,
               "ticks": ""
              },
              "colorscale": [
               [
                0,
                "#0d0887"
               ],
               [
                0.1111111111111111,
                "#46039f"
               ],
               [
                0.2222222222222222,
                "#7201a8"
               ],
               [
                0.3333333333333333,
                "#9c179e"
               ],
               [
                0.4444444444444444,
                "#bd3786"
               ],
               [
                0.5555555555555556,
                "#d8576b"
               ],
               [
                0.6666666666666666,
                "#ed7953"
               ],
               [
                0.7777777777777778,
                "#fb9f3a"
               ],
               [
                0.8888888888888888,
                "#fdca26"
               ],
               [
                1,
                "#f0f921"
               ]
              ],
              "type": "histogram2d"
             }
            ],
            "histogram2dcontour": [
             {
              "colorbar": {
               "outlinewidth": 0,
               "ticks": ""
              },
              "colorscale": [
               [
                0,
                "#0d0887"
               ],
               [
                0.1111111111111111,
                "#46039f"
               ],
               [
                0.2222222222222222,
                "#7201a8"
               ],
               [
                0.3333333333333333,
                "#9c179e"
               ],
               [
                0.4444444444444444,
                "#bd3786"
               ],
               [
                0.5555555555555556,
                "#d8576b"
               ],
               [
                0.6666666666666666,
                "#ed7953"
               ],
               [
                0.7777777777777778,
                "#fb9f3a"
               ],
               [
                0.8888888888888888,
                "#fdca26"
               ],
               [
                1,
                "#f0f921"
               ]
              ],
              "type": "histogram2dcontour"
             }
            ],
            "mesh3d": [
             {
              "colorbar": {
               "outlinewidth": 0,
               "ticks": ""
              },
              "type": "mesh3d"
             }
            ],
            "parcoords": [
             {
              "line": {
               "colorbar": {
                "outlinewidth": 0,
                "ticks": ""
               }
              },
              "type": "parcoords"
             }
            ],
            "pie": [
             {
              "automargin": true,
              "type": "pie"
             }
            ],
            "scatter": [
             {
              "fillpattern": {
               "fillmode": "overlay",
               "size": 10,
               "solidity": 0.2
              },
              "type": "scatter"
             }
            ],
            "scatter3d": [
             {
              "line": {
               "colorbar": {
                "outlinewidth": 0,
                "ticks": ""
               }
              },
              "marker": {
               "colorbar": {
                "outlinewidth": 0,
                "ticks": ""
               }
              },
              "type": "scatter3d"
             }
            ],
            "scattercarpet": [
             {
              "marker": {
               "colorbar": {
                "outlinewidth": 0,
                "ticks": ""
               }
              },
              "type": "scattercarpet"
             }
            ],
            "scattergeo": [
             {
              "marker": {
               "colorbar": {
                "outlinewidth": 0,
                "ticks": ""
               }
              },
              "type": "scattergeo"
             }
            ],
            "scattergl": [
             {
              "marker": {
               "colorbar": {
                "outlinewidth": 0,
                "ticks": ""
               }
              },
              "type": "scattergl"
             }
            ],
            "scattermapbox": [
             {
              "marker": {
               "colorbar": {
                "outlinewidth": 0,
                "ticks": ""
               }
              },
              "type": "scattermapbox"
             }
            ],
            "scatterpolar": [
             {
              "marker": {
               "colorbar": {
                "outlinewidth": 0,
                "ticks": ""
               }
              },
              "type": "scatterpolar"
             }
            ],
            "scatterpolargl": [
             {
              "marker": {
               "colorbar": {
                "outlinewidth": 0,
                "ticks": ""
               }
              },
              "type": "scatterpolargl"
             }
            ],
            "scatterternary": [
             {
              "marker": {
               "colorbar": {
                "outlinewidth": 0,
                "ticks": ""
               }
              },
              "type": "scatterternary"
             }
            ],
            "surface": [
             {
              "colorbar": {
               "outlinewidth": 0,
               "ticks": ""
              },
              "colorscale": [
               [
                0,
                "#0d0887"
               ],
               [
                0.1111111111111111,
                "#46039f"
               ],
               [
                0.2222222222222222,
                "#7201a8"
               ],
               [
                0.3333333333333333,
                "#9c179e"
               ],
               [
                0.4444444444444444,
                "#bd3786"
               ],
               [
                0.5555555555555556,
                "#d8576b"
               ],
               [
                0.6666666666666666,
                "#ed7953"
               ],
               [
                0.7777777777777778,
                "#fb9f3a"
               ],
               [
                0.8888888888888888,
                "#fdca26"
               ],
               [
                1,
                "#f0f921"
               ]
              ],
              "type": "surface"
             }
            ],
            "table": [
             {
              "cells": {
               "fill": {
                "color": "#EBF0F8"
               },
               "line": {
                "color": "white"
               }
              },
              "header": {
               "fill": {
                "color": "#C8D4E3"
               },
               "line": {
                "color": "white"
               }
              },
              "type": "table"
             }
            ]
           },
           "layout": {
            "annotationdefaults": {
             "arrowcolor": "#2a3f5f",
             "arrowhead": 0,
             "arrowwidth": 1
            },
            "autotypenumbers": "strict",
            "coloraxis": {
             "colorbar": {
              "outlinewidth": 0,
              "ticks": ""
             }
            },
            "colorscale": {
             "diverging": [
              [
               0,
               "#8e0152"
              ],
              [
               0.1,
               "#c51b7d"
              ],
              [
               0.2,
               "#de77ae"
              ],
              [
               0.3,
               "#f1b6da"
              ],
              [
               0.4,
               "#fde0ef"
              ],
              [
               0.5,
               "#f7f7f7"
              ],
              [
               0.6,
               "#e6f5d0"
              ],
              [
               0.7,
               "#b8e186"
              ],
              [
               0.8,
               "#7fbc41"
              ],
              [
               0.9,
               "#4d9221"
              ],
              [
               1,
               "#276419"
              ]
             ],
             "sequential": [
              [
               0,
               "#0d0887"
              ],
              [
               0.1111111111111111,
               "#46039f"
              ],
              [
               0.2222222222222222,
               "#7201a8"
              ],
              [
               0.3333333333333333,
               "#9c179e"
              ],
              [
               0.4444444444444444,
               "#bd3786"
              ],
              [
               0.5555555555555556,
               "#d8576b"
              ],
              [
               0.6666666666666666,
               "#ed7953"
              ],
              [
               0.7777777777777778,
               "#fb9f3a"
              ],
              [
               0.8888888888888888,
               "#fdca26"
              ],
              [
               1,
               "#f0f921"
              ]
             ],
             "sequentialminus": [
              [
               0,
               "#0d0887"
              ],
              [
               0.1111111111111111,
               "#46039f"
              ],
              [
               0.2222222222222222,
               "#7201a8"
              ],
              [
               0.3333333333333333,
               "#9c179e"
              ],
              [
               0.4444444444444444,
               "#bd3786"
              ],
              [
               0.5555555555555556,
               "#d8576b"
              ],
              [
               0.6666666666666666,
               "#ed7953"
              ],
              [
               0.7777777777777778,
               "#fb9f3a"
              ],
              [
               0.8888888888888888,
               "#fdca26"
              ],
              [
               1,
               "#f0f921"
              ]
             ]
            },
            "colorway": [
             "#636efa",
             "#EF553B",
             "#00cc96",
             "#ab63fa",
             "#FFA15A",
             "#19d3f3",
             "#FF6692",
             "#B6E880",
             "#FF97FF",
             "#FECB52"
            ],
            "font": {
             "color": "#2a3f5f"
            },
            "geo": {
             "bgcolor": "white",
             "lakecolor": "white",
             "landcolor": "white",
             "showlakes": true,
             "showland": true,
             "subunitcolor": "#C8D4E3"
            },
            "hoverlabel": {
             "align": "left"
            },
            "hovermode": "closest",
            "mapbox": {
             "style": "light"
            },
            "paper_bgcolor": "white",
            "plot_bgcolor": "white",
            "polar": {
             "angularaxis": {
              "gridcolor": "#EBF0F8",
              "linecolor": "#EBF0F8",
              "ticks": ""
             },
             "bgcolor": "white",
             "radialaxis": {
              "gridcolor": "#EBF0F8",
              "linecolor": "#EBF0F8",
              "ticks": ""
             }
            },
            "scene": {
             "xaxis": {
              "backgroundcolor": "white",
              "gridcolor": "#DFE8F3",
              "gridwidth": 2,
              "linecolor": "#EBF0F8",
              "showbackground": true,
              "ticks": "",
              "zerolinecolor": "#EBF0F8"
             },
             "yaxis": {
              "backgroundcolor": "white",
              "gridcolor": "#DFE8F3",
              "gridwidth": 2,
              "linecolor": "#EBF0F8",
              "showbackground": true,
              "ticks": "",
              "zerolinecolor": "#EBF0F8"
             },
             "zaxis": {
              "backgroundcolor": "white",
              "gridcolor": "#DFE8F3",
              "gridwidth": 2,
              "linecolor": "#EBF0F8",
              "showbackground": true,
              "ticks": "",
              "zerolinecolor": "#EBF0F8"
             }
            },
            "shapedefaults": {
             "line": {
              "color": "#2a3f5f"
             }
            },
            "ternary": {
             "aaxis": {
              "gridcolor": "#DFE8F3",
              "linecolor": "#A2B1C6",
              "ticks": ""
             },
             "baxis": {
              "gridcolor": "#DFE8F3",
              "linecolor": "#A2B1C6",
              "ticks": ""
             },
             "bgcolor": "white",
             "caxis": {
              "gridcolor": "#DFE8F3",
              "linecolor": "#A2B1C6",
              "ticks": ""
             }
            },
            "title": {
             "x": 0.05
            },
            "xaxis": {
             "automargin": true,
             "gridcolor": "#EBF0F8",
             "linecolor": "#EBF0F8",
             "ticks": "",
             "title": {
              "standoff": 15
             },
             "zerolinecolor": "#EBF0F8",
             "zerolinewidth": 2
            },
            "yaxis": {
             "automargin": true,
             "gridcolor": "#EBF0F8",
             "linecolor": "#EBF0F8",
             "ticks": "",
             "title": {
              "standoff": 15
             },
             "zerolinecolor": "#EBF0F8",
             "zerolinewidth": 2
            }
           }
          },
          "xaxis": {
           "automargin": true,
           "autorange": false,
           "fixedrange": true,
           "linecolor": "#444",
           "linewidth": 2,
           "minor": {
            "tickmode": "linear",
            "ticks": "outside"
           },
           "mirror": true,
           "showline": true,
           "tickmode": "linear",
           "ticks": "outside",
           "zeroline": false
          },
          "yaxis": {
           "automargin": true,
           "autorange": false,
           "fixedrange": true,
           "linecolor": "#444",
           "linewidth": 2,
           "minor": {
            "tickmode": "linear",
            "ticks": "outside"
           },
           "mirror": true,
           "showline": true,
           "tickmode": "linear",
           "ticks": "outside",
           "zeroline": false
          }
         }
        },
        "width": 600,
        "xaxis": {
         "dtick": 5,
         "minor": {
          "dtick": 1,
          "tick0": 0
         },
         "range": [
          0.8,
          20.2
         ],
         "tick0": 0,
         "title": {
          "text": "level"
         }
        },
        "yaxis": {
         "dtick": 0.05,
         "fixedrange": false,
         "minor": {
          "dtick": 0.01,
          "tick0": 0
         },
         "range": [
          1,
          1.15
         ],
         "tick0": 0,
         "title": {
          "text": "encounter XP ratio"
         }
        }
       }
      }
     },
     "metadata": {},
     "output_type": "display_data"
    }
   ],
   "source": [
    "# Plots XP increase - +1 Armor Class\n",
    "encounter_difficulty = 'Medium'\n",
    "\n",
    "# create figure\n",
    "fig = go.Figure(\n",
    "    layout=go.Layout(\n",
    "        template=TFB_TEMPLATE,\n",
    "        xaxis=dict(\n",
    "            title_text='level',\n",
    "            range=[0.8, 20.2],\n",
    "            tick0=0, dtick=5,\n",
    "            minor=dict(tick0=0, dtick=1),\n",
    "        ),\n",
    "        yaxis=dict(\n",
    "            fixedrange=False,\n",
    "            title_text='encounter XP ratio',\n",
    "            range=[1.00, 1.15],\n",
    "            tick0=0, dtick=0.05,\n",
    "            minor=dict(tick0=0, dtick=0.01),\n",
    "        ),\n",
    "    )\n",
    ")\n",
    "\n",
    "# Baseline\n",
    "pc_data_file = f'./pc data - BL {encounter_difficulty} 2 short rests.json'\n",
    "with open(pc_data_file, 'r') as fin:\n",
    "    pc_data0 = json.load(fin)\n",
    "\n",
    "eXP0 = np.zeros(20)\n",
    "for pc in pc_data0:\n",
    "    eXP0 += np.array([x['encounter XP mean'] for x in pc_data0[pc]])\n",
    "\n",
    "groups = [\n",
    "    dict(name='+1 armor class', data_file=f'./pc data - AC +1 {encounter_difficulty} 2 short rests.json'),\n",
    "    dict(name='+1 attack bonus', data_file=f'./pc data - AB +1 {encounter_difficulty} 2 short rests.json'),\n",
    "    dict(name='+1 weapon damage', data_file=f'./pc data - WD +1 {encounter_difficulty} 2 short rests.json'),\n",
    "]\n",
    "\n",
    "# plot data\n",
    "levels = np.array(range(1,21,1))\n",
    "for g in groups:\n",
    "    name = g['name']\n",
    "    pc_data_file = g['data_file']\n",
    "    with open(pc_data_file, 'r') as fin:\n",
    "        pc_data1 = json.load(fin)\n",
    "\n",
    "    eXP1 = np.zeros(20)\n",
    "    for pc in pc_data1:\n",
    "        xp0 = np.array([x['encounter XP mean'] for x in pc_data0[pc]])\n",
    "        xp1 = np.array([x['encounter XP mean'] for x in pc_data1[pc]])\n",
    "        eXP1 += (xp1/xp0)\n",
    "    eXP1 /= len(pc_data1)\n",
    "\n",
    "    fig.add_trace(go.Scatter(\n",
    "        x=levels, \n",
    "        y=eXP1,\n",
    "        mode='lines+markers', \n",
    "        unselected=dict(marker=dict(opacity=0.0)),\n",
    "        name=name,\n",
    "        hovertemplate=\n",
    "            '<b>'+name+'</b><br>'+\n",
    "            'lvl %{x}<br>'+\n",
    "            'XP ratio %{y:.3f}'+\n",
    "            '<extra></extra>'\n",
    "    ))\n",
    "\n",
    "# show figure\n",
    "fig.update_layout(width=600, height=550)\n",
    "fig.show(config=TFB_CONFIG)\n",
    "\n",
    "# save figures\n",
    "if SAVEFIGS:\n",
    "    fig.update_layout(autosize=True, width=None, height=None)\n",
    "    save_fig_html(fig, format='large', name=f'./fig-encounter-xp-bonus-comparison-large', style='aspect-ratio:600/550')\n",
    "    save_fig_html(fig, format='small', name=f'./fig-encounter-xp-bonus-comparison-small', style='aspect-ratio:600/550')"
   ]
  },
  {
   "cell_type": "code",
   "execution_count": 8,
   "metadata": {},
   "outputs": [
    {
     "name": "stdout",
     "output_type": "stream",
     "text": [
      "Barbarian .................... total: 0.73 s\n",
      "Bard      .................... total: 1.38 s\n",
      "Cleric    .................... total: 0.84 s\n",
      "Druid     .................... total: 0.84 s\n",
      "Fighter   .................... total: 0.87 s\n",
      "Monk      .................... total: 1.13 s\n",
      "Paladin   .................... total: 12.02 s\n",
      "Ranger    .................... total: 1.04 s\n",
      "Rogue     .................... total: 0.38 s\n",
      "Sorcerer  .................... total: 4.63 s\n",
      "Warlock   .................... total: 0.73 s\n",
      "Wizard    .................... total: 9.19 s\n",
      "pc data saved to \"pc data - high magic Medium 2 short rests.json\"\n",
      "total run time: 33.79 s\n"
     ]
    }
   ],
   "source": [
    "# Encounter XP - high magic\n",
    "import copy\n",
    "\n",
    "difficulty = 'Medium'\n",
    "short_rests = 2\n",
    "show_level_times = False\n",
    "\n",
    "PC_CLASSES = {\n",
    "    'Barbarian': {'color': '#E7623E', 'group': 'martial'},\n",
    "    'Bard':      {'color': '#AB6DAC', 'group': 'spellcaster'},\n",
    "    'Cleric':    {'color': '#91A1B2', 'group': 'spellcaster'},\n",
    "    'Druid':     {'color': '#7A853B', 'group': 'spellcaster'},\n",
    "    'Fighter':   {'color': '#7F513E', 'group': 'martial'},\n",
    "    'Monk':      {'color': '#51A5C5', 'group': 'martial'},\n",
    "    'Paladin':   {'color': '#B59E54', 'group': 'martial-spellcaster'},\n",
    "    'Ranger':    {'color': '#507F62', 'group': 'martial-spellcaster'},\n",
    "    'Rogue':     {'color': '#555752', 'group': 'martial'},\n",
    "    'Sorcerer':  {'color': '#992E2E', 'group': 'spellcaster'},\n",
    "    'Warlock':   {'color': '#7B469B', 'group': 'spellcaster'},\n",
    "    'Wizard':    {'color': '#2A50A1', 'group': 'spellcaster'}\n",
    "}\n",
    "\n",
    "class NpEncoder(json.JSONEncoder):\n",
    "    def default(self, obj):\n",
    "        if isinstance(obj, np.integer):\n",
    "            return int(obj)\n",
    "        if isinstance(obj, np.floating):\n",
    "            return float(obj)\n",
    "        if isinstance(obj, np.ndarray):\n",
    "            return obj.tolist()\n",
    "        return super(NpEncoder, self).default(obj)\n",
    "\n",
    "pcData = {}\n",
    "class_time = []\n",
    "for c in PC_CLASSES:\n",
    "    levels = np.arange(1, 21, 1)\n",
    "    print(f'{c:<10s}', end='')\n",
    "    daily_engine_options={\n",
    "        'combat healing': False if c == 'Paladin' else True,\n",
    "        'remove empty data': True,\n",
    "        'simplify summary': True,\n",
    "        'effective_method': 'exp',\n",
    "    }\n",
    "    level_time = []\n",
    "    pcData[c] = []\n",
    "    for level in levels:\n",
    "        # determine magic item bonus\n",
    "        bonus = 0\n",
    "        if level > 4:\n",
    "            bonus += 1\n",
    "        if level > 9:\n",
    "            bonus += 1\n",
    "        if level > 15:\n",
    "            bonus += 1\n",
    "        pc_options = {\n",
    "            'armorClassBonus': bonus,\n",
    "            'spellAttackBonus': bonus,\n",
    "            'weaponAttackBonus': bonus,\n",
    "            'weaponDamageBonus': f'+{bonus}',\n",
    "        }\n",
    "\n",
    "        tic = time.perf_counter()\n",
    "        pc = pc5.newPC(pcClass=c, lvl=level, **pc_options)\n",
    "        advDay = create_adventuring_day(level, difficulty, short_rests)\n",
    "        dSum = en5.dailyEngine(pc, advDay, **daily_engine_options)\n",
    "        dSum['class'] = c\n",
    "        dSum['level'] = int(level)\n",
    "        pcData[c].append(copy.deepcopy(dSum))\n",
    "\n",
    "        toc = time.perf_counter()\n",
    "        level_time += [toc - tic]\n",
    "        if show_level_times:\n",
    "            print(f' {level}: {level_time[-1]:0.2f} s,', end='')\n",
    "        else:\n",
    "            print('.', end='')\n",
    "        time.sleep(0.1)\n",
    "\n",
    "    class_time += [np.sum(level_time)]\n",
    "    print(f' total: {class_time[-1]:0.2f} s')\n",
    "    time.sleep(0.1)\n",
    "\n",
    "if SAVEDATA:\n",
    "    # construct day string for saving figures\n",
    "    file_name = 'pc data - high magic {:} {:d} short rests.json'.format(difficulty, short_rests)\n",
    "    with open(file_name, 'w') as convert_file:\n",
    "        convert_file.write(json.dumps(pcData, indent=2, cls=NpEncoder))\n",
    "    print('pc data saved to \"{:}\"'.format(file_name))\n",
    "\n",
    "print(f'total run time: {np.sum(class_time):0.2f} s')"
   ]
  },
  {
   "cell_type": "code",
   "execution_count": 16,
   "metadata": {},
   "outputs": [
    {
     "data": {
      "application/vnd.plotly.v1+json": {
       "config": {
        "displayModeBar": "hover",
        "displaylogo": false,
        "modeBarButtonsToRemove": [
         "select2d",
         "lasso2d",
         "zoom2d",
         "zoomIn2d",
         "zoomOut2d",
         "pan2d",
         "autoScale2d",
         "hoverClosestCartesian",
         "hoverCompareCartesian",
         "toggleSpikelines",
         "resetScale2d"
        ],
        "plotlyServerURL": "https://plot.ly",
        "responsive": true,
        "showAxisDragHandles": false,
        "toImageButtonOptions": {
         "filename": "tfb-plot",
         "format": "png",
         "height": 450,
         "scale": 2,
         "width": 600
        }
       },
       "data": [
        {
         "hovertemplate": "<b>Barbarian</b><br>lvl %{x}<br>XP increase %{y:.1f}%<extra></extra>",
         "line": {
          "color": "#E7623E"
         },
         "mode": "lines+markers",
         "name": "Barbarian",
         "type": "scatter",
         "unselected": {
          "marker": {
           "opacity": 0
          }
         },
         "x": [
          1,
          2,
          3,
          4,
          5,
          6,
          7,
          8,
          9,
          10,
          11,
          12,
          13,
          14,
          15,
          16,
          17,
          18,
          19,
          20
         ],
         "y": [
          0,
          0,
          0,
          0,
          26.188083807822537,
          25.88883831487381,
          25.888838314873787,
          25.108325956296863,
          24.08656432325069,
          53.534754011580766,
          53.31699566845391,
          52.26499031369749,
          51.318231154371304,
          51.31823115437128,
          51.29062337638288,
          83.73716976349918,
          81.2904102449017,
          81.29041024490166,
          81.29041024490166,
          78.8224749948292
         ]
        },
        {
         "hovertemplate": "<b>Bard</b><br>lvl %{x}<br>XP increase %{y:.1f}%<extra></extra>",
         "line": {
          "color": "#AB6DAC"
         },
         "mode": "lines+markers",
         "name": "Bard",
         "type": "scatter",
         "unselected": {
          "marker": {
           "opacity": 0
          }
         },
         "x": [
          1,
          2,
          3,
          4,
          5,
          6,
          7,
          8,
          9,
          10,
          11,
          12,
          13,
          14,
          15,
          16,
          17,
          18,
          19,
          20
         ],
         "y": [
          0,
          0,
          0,
          0,
          15.976331360946716,
          15.976331360946737,
          15.976331360946737,
          15.976331360946737,
          15.976331360946737,
          34.50509435944118,
          34.50509435944118,
          34.50509435944118,
          34.50509435944118,
          34.50509435944116,
          34.5050943594412,
          55.99407393165963,
          55.99407393165961,
          55.99407393165963,
          55.994073931659514,
          55.99407393165961
         ]
        },
        {
         "hovertemplate": "<b>Cleric</b><br>lvl %{x}<br>XP increase %{y:.1f}%<extra></extra>",
         "line": {
          "color": "#91A1B2"
         },
         "mode": "lines+markers",
         "name": "Cleric",
         "type": "scatter",
         "unselected": {
          "marker": {
           "opacity": 0
          }
         },
         "x": [
          1,
          2,
          3,
          4,
          5,
          6,
          7,
          8,
          9,
          10,
          11,
          12,
          13,
          14,
          15,
          16,
          17,
          18,
          19,
          20
         ],
         "y": [
          0,
          0,
          0,
          0,
          15.976331360946716,
          15.976331360946737,
          15.97633136094676,
          15.976331360946716,
          15.976331360946716,
          34.50509435944116,
          34.50509435944116,
          34.50509435944116,
          34.50509435944118,
          34.50509435944118,
          34.50509435944116,
          55.994073931659585,
          55.99407393165956,
          55.99407393165956,
          55.99407393165956,
          55.99407393165956
         ]
        },
        {
         "hovertemplate": "<b>Druid</b><br>lvl %{x}<br>XP increase %{y:.1f}%<extra></extra>",
         "line": {
          "color": "#7A853B"
         },
         "mode": "lines+markers",
         "name": "Druid",
         "type": "scatter",
         "unselected": {
          "marker": {
           "opacity": 0
          }
         },
         "x": [
          1,
          2,
          3,
          4,
          5,
          6,
          7,
          8,
          9,
          10,
          11,
          12,
          13,
          14,
          15,
          16,
          17,
          18,
          19,
          20
         ],
         "y": [
          0,
          0,
          0,
          0,
          15.97633136094676,
          15.97633136094676,
          15.976331360946737,
          15.976331360946737,
          15.976331360946737,
          34.50509435944116,
          34.50509435944116,
          34.50509435944116,
          34.50509435944116,
          34.50509435944114,
          34.50509435944116,
          55.994073931659585,
          55.994073931659585,
          55.99407393165956,
          55.994073931659585,
          55.994073931659585
         ]
        },
        {
         "hovertemplate": "<b>Fighter</b><br>lvl %{x}<br>XP increase %{y:.1f}%<extra></extra>",
         "line": {
          "color": "#7F513E"
         },
         "mode": "lines+markers",
         "name": "Fighter",
         "type": "scatter",
         "unselected": {
          "marker": {
           "opacity": 0
          }
         },
         "x": [
          1,
          2,
          3,
          4,
          5,
          6,
          7,
          8,
          9,
          10,
          11,
          12,
          13,
          14,
          15,
          16,
          17,
          18,
          19,
          20
         ],
         "y": [
          0,
          0,
          0,
          0,
          26.519634211941877,
          25.641025641025617,
          25.641025641025617,
          25.641025641025617,
          25.641025641025617,
          56.922610086014735,
          56.922610086014714,
          56.922610086014735,
          56.92261008601469,
          56.92261008601469,
          56.922610086014714,
          94.99259241457449,
          94.9925924145744,
          94.99259241457447,
          94.99259241457445,
          94.99259241457443
         ]
        },
        {
         "hovertemplate": "<b>Monk</b><br>lvl %{x}<br>XP increase %{y:.1f}%<extra></extra>",
         "line": {
          "color": "#51A5C5"
         },
         "mode": "lines+markers",
         "name": "Monk",
         "type": "scatter",
         "unselected": {
          "marker": {
           "opacity": 0
          }
         },
         "x": [
          1,
          2,
          3,
          4,
          5,
          6,
          7,
          8,
          9,
          10,
          11,
          12,
          13,
          14,
          15,
          16,
          17,
          18,
          19,
          20
         ],
         "y": [
          0,
          0,
          0,
          0,
          20.437906796243155,
          19.992164420947,
          19.80691773919798,
          19.63887497100192,
          19.48448609680222,
          42.7901157913595,
          40.68461003642847,
          39.0224544814614,
          39.02245448146142,
          39.0224544814614,
          39.0224544814614,
          64.09048011725855,
          61.75497626712312,
          65.6957423736664,
          65.98008425730555,
          65.98008425730555
         ]
        },
        {
         "hovertemplate": "<b>Paladin</b><br>lvl %{x}<br>XP increase %{y:.1f}%<extra></extra>",
         "line": {
          "color": "#B59E54"
         },
         "mode": "lines+markers",
         "name": "Paladin",
         "type": "scatter",
         "unselected": {
          "marker": {
           "opacity": 0
          }
         },
         "x": [
          1,
          2,
          3,
          4,
          5,
          6,
          7,
          8,
          9,
          10,
          11,
          12,
          13,
          14,
          15,
          16,
          17,
          18,
          19,
          20
         ],
         "y": [
          0,
          0,
          0,
          0,
          24.45501877114651,
          24.3728078395673,
          23.981600134782568,
          23.46471433824757,
          22.74867187837426,
          50.6530456604382,
          46.401620118153474,
          45.85996266042442,
          45.4664602834703,
          45.466460283470326,
          45.18679464294954,
          74.5764401053369,
          72.74708799497486,
          72.74708799497486,
          71.60793860693227,
          72.67934839294065
         ]
        },
        {
         "hovertemplate": "<b>Ranger</b><br>lvl %{x}<br>XP increase %{y:.1f}%<extra></extra>",
         "line": {
          "color": "#507F62"
         },
         "mode": "lines+markers",
         "name": "Ranger",
         "type": "scatter",
         "unselected": {
          "marker": {
           "opacity": 0
          }
         },
         "x": [
          1,
          2,
          3,
          4,
          5,
          6,
          7,
          8,
          9,
          10,
          11,
          12,
          13,
          14,
          15,
          16,
          17,
          18,
          19,
          20
         ],
         "y": [
          0,
          0,
          0,
          0,
          26.729103805008037,
          26.61636176103359,
          26.127432574158725,
          25.310442536878064,
          24.158083132442098,
          54.06947172081442,
          52.37952550355294,
          51.28738136208704,
          50.52555224840687,
          50.525552248406846,
          49.90025576202781,
          82.77618903438426,
          79.4085893078402,
          79.4085893078402,
          77.17240200786225,
          79.05008955088432
         ]
        },
        {
         "hovertemplate": "<b>Rogue</b><br>lvl %{x}<br>XP increase %{y:.1f}%<extra></extra>",
         "line": {
          "color": "#555752"
         },
         "mode": "lines+markers",
         "name": "Rogue",
         "type": "scatter",
         "unselected": {
          "marker": {
           "opacity": 0
          }
         },
         "x": [
          1,
          2,
          3,
          4,
          5,
          6,
          7,
          8,
          9,
          10,
          11,
          12,
          13,
          14,
          15,
          16,
          17,
          18,
          19,
          20
         ],
         "y": [
          0,
          0,
          0,
          0,
          22.41946088099931,
          22.41946088099931,
          21.370579331223304,
          21.130834976988822,
          20.436959490213937,
          44.851640079398166,
          43.6240838075389,
          43.62408380753888,
          42.656918260013384,
          42.656918260013384,
          41.875236516122904,
          68.81550466576857,
          67.69362947653408,
          67.69362947653406,
          66.75228592694641,
          66.75228592694644
         ]
        },
        {
         "hovertemplate": "<b>Sorcerer</b><br>lvl %{x}<br>XP increase %{y:.1f}%<extra></extra>",
         "line": {
          "color": "#992E2E"
         },
         "mode": "lines+markers",
         "name": "Sorcerer",
         "type": "scatter",
         "unselected": {
          "marker": {
           "opacity": 0
          }
         },
         "x": [
          1,
          2,
          3,
          4,
          5,
          6,
          7,
          8,
          9,
          10,
          11,
          12,
          13,
          14,
          15,
          16,
          17,
          18,
          19,
          20
         ],
         "y": [
          0,
          0,
          0,
          0,
          15.976331360946716,
          15.976331360946716,
          15.976331360946716,
          15.976331360946716,
          15.976331360946737,
          34.5050943594412,
          34.50509435944118,
          34.50509435944118,
          34.50509435944118,
          34.50509435944116,
          34.50509435944116,
          55.99407393165961,
          55.99407393165963,
          55.99407393165963,
          55.994073931659585,
          55.994073931659585
         ]
        },
        {
         "hovertemplate": "<b>Warlock</b><br>lvl %{x}<br>XP increase %{y:.1f}%<extra></extra>",
         "line": {
          "color": "#7B469B"
         },
         "mode": "lines+markers",
         "name": "Warlock",
         "type": "scatter",
         "unselected": {
          "marker": {
           "opacity": 0
          }
         },
         "x": [
          1,
          2,
          3,
          4,
          5,
          6,
          7,
          8,
          9,
          10,
          11,
          12,
          13,
          14,
          15,
          16,
          17,
          18,
          19,
          20
         ],
         "y": [
          0,
          0,
          0,
          0,
          15.976331360946737,
          15.976331360946737,
          15.97633136094676,
          15.97633136094676,
          15.976331360946737,
          34.50509435944118,
          34.50509435944118,
          34.50509435944116,
          34.5050943594412,
          34.50509435944118,
          34.5050943594412,
          55.99407393165956,
          55.99407393165956,
          55.994073931659585,
          55.994073931659585,
          55.994073931659585
         ]
        },
        {
         "hovertemplate": "<b>Wizard</b><br>lvl %{x}<br>XP increase %{y:.1f}%<extra></extra>",
         "line": {
          "color": "#2A50A1"
         },
         "mode": "lines+markers",
         "name": "Wizard",
         "type": "scatter",
         "unselected": {
          "marker": {
           "opacity": 0
          }
         },
         "x": [
          1,
          2,
          3,
          4,
          5,
          6,
          7,
          8,
          9,
          10,
          11,
          12,
          13,
          14,
          15,
          16,
          17,
          18,
          19,
          20
         ],
         "y": [
          0,
          0,
          0,
          0,
          15.976331360946716,
          15.976331360946737,
          15.976331360946737,
          15.976331360946737,
          15.976331360946737,
          34.50509435944122,
          34.50509435944116,
          34.50509435944118,
          34.50509435944116,
          34.50509435944116,
          34.50509435944116,
          55.994073931659536,
          55.994073931659536,
          55.994073931659514,
          55.994073931659536,
          55.99407393165956
         ]
        },
        {
         "hovertemplate": "<b>Average</b><br>lvl %{x}<br>XP increase %{y:.1f}%<extra></extra>",
         "line": {
          "color": "black",
          "dash": "dash"
         },
         "mode": "lines+markers",
         "name": "average",
         "type": "scatter",
         "unselected": {
          "marker": {
           "opacity": 0
          }
         },
         "x": [
          1,
          2,
          3,
          4,
          5,
          6,
          7,
          8,
          9,
          10,
          11,
          12,
          13,
          14,
          15,
          16,
          17,
          18,
          19,
          20
         ],
         "y": [
          0,
          0,
          0,
          0,
          22.15989110215757,
          21.9803822366184,
          21.64485493575159,
          21.35173230246248,
          20.831056202164877,
          45.70344837685898,
          44.83715564775057,
          44.752277697122466,
          44.264188661114076,
          44.30306197331062,
          43.90276955923864,
          72.45040061645473,
          71.2100342155988,
          70.70484027881972,
          70.32419508130832,
          71.73792636307353
         ]
        }
       ],
       "layout": {
        "height": 550,
        "template": {
         "layout": {
          "autosize": false,
          "font": {
           "family": "sans-serif",
           "size": 14
          },
          "hovermode": "closest",
          "legend": {
           "bgcolor": "rgba(0,0,0,0)",
           "font": {
            "size": 10
           },
           "orientation": "h",
           "tracegroupgap": 0,
           "x": 0.01,
           "xanchor": "left",
           "y": 1.04,
           "yanchor": "bottom"
          },
          "margin": {
           "b": 40,
           "l": 50,
           "pad": 4,
           "r": 25,
           "t": 20
          },
          "template": {
           "data": {
            "bar": [
             {
              "error_x": {
               "color": "#2a3f5f"
              },
              "error_y": {
               "color": "#2a3f5f"
              },
              "marker": {
               "line": {
                "color": "white",
                "width": 0.5
               },
               "pattern": {
                "fillmode": "overlay",
                "size": 10,
                "solidity": 0.2
               }
              },
              "type": "bar"
             }
            ],
            "barpolar": [
             {
              "marker": {
               "line": {
                "color": "white",
                "width": 0.5
               },
               "pattern": {
                "fillmode": "overlay",
                "size": 10,
                "solidity": 0.2
               }
              },
              "type": "barpolar"
             }
            ],
            "carpet": [
             {
              "aaxis": {
               "endlinecolor": "#2a3f5f",
               "gridcolor": "#C8D4E3",
               "linecolor": "#C8D4E3",
               "minorgridcolor": "#C8D4E3",
               "startlinecolor": "#2a3f5f"
              },
              "baxis": {
               "endlinecolor": "#2a3f5f",
               "gridcolor": "#C8D4E3",
               "linecolor": "#C8D4E3",
               "minorgridcolor": "#C8D4E3",
               "startlinecolor": "#2a3f5f"
              },
              "type": "carpet"
             }
            ],
            "choropleth": [
             {
              "colorbar": {
               "outlinewidth": 0,
               "ticks": ""
              },
              "type": "choropleth"
             }
            ],
            "contour": [
             {
              "colorbar": {
               "outlinewidth": 0,
               "ticks": ""
              },
              "colorscale": [
               [
                0,
                "#0d0887"
               ],
               [
                0.1111111111111111,
                "#46039f"
               ],
               [
                0.2222222222222222,
                "#7201a8"
               ],
               [
                0.3333333333333333,
                "#9c179e"
               ],
               [
                0.4444444444444444,
                "#bd3786"
               ],
               [
                0.5555555555555556,
                "#d8576b"
               ],
               [
                0.6666666666666666,
                "#ed7953"
               ],
               [
                0.7777777777777778,
                "#fb9f3a"
               ],
               [
                0.8888888888888888,
                "#fdca26"
               ],
               [
                1,
                "#f0f921"
               ]
              ],
              "type": "contour"
             }
            ],
            "contourcarpet": [
             {
              "colorbar": {
               "outlinewidth": 0,
               "ticks": ""
              },
              "type": "contourcarpet"
             }
            ],
            "heatmap": [
             {
              "colorbar": {
               "outlinewidth": 0,
               "ticks": ""
              },
              "colorscale": [
               [
                0,
                "#0d0887"
               ],
               [
                0.1111111111111111,
                "#46039f"
               ],
               [
                0.2222222222222222,
                "#7201a8"
               ],
               [
                0.3333333333333333,
                "#9c179e"
               ],
               [
                0.4444444444444444,
                "#bd3786"
               ],
               [
                0.5555555555555556,
                "#d8576b"
               ],
               [
                0.6666666666666666,
                "#ed7953"
               ],
               [
                0.7777777777777778,
                "#fb9f3a"
               ],
               [
                0.8888888888888888,
                "#fdca26"
               ],
               [
                1,
                "#f0f921"
               ]
              ],
              "type": "heatmap"
             }
            ],
            "heatmapgl": [
             {
              "colorbar": {
               "outlinewidth": 0,
               "ticks": ""
              },
              "colorscale": [
               [
                0,
                "#0d0887"
               ],
               [
                0.1111111111111111,
                "#46039f"
               ],
               [
                0.2222222222222222,
                "#7201a8"
               ],
               [
                0.3333333333333333,
                "#9c179e"
               ],
               [
                0.4444444444444444,
                "#bd3786"
               ],
               [
                0.5555555555555556,
                "#d8576b"
               ],
               [
                0.6666666666666666,
                "#ed7953"
               ],
               [
                0.7777777777777778,
                "#fb9f3a"
               ],
               [
                0.8888888888888888,
                "#fdca26"
               ],
               [
                1,
                "#f0f921"
               ]
              ],
              "type": "heatmapgl"
             }
            ],
            "histogram": [
             {
              "marker": {
               "pattern": {
                "fillmode": "overlay",
                "size": 10,
                "solidity": 0.2
               }
              },
              "type": "histogram"
             }
            ],
            "histogram2d": [
             {
              "colorbar": {
               "outlinewidth": 0,
               "ticks": ""
              },
              "colorscale": [
               [
                0,
                "#0d0887"
               ],
               [
                0.1111111111111111,
                "#46039f"
               ],
               [
                0.2222222222222222,
                "#7201a8"
               ],
               [
                0.3333333333333333,
                "#9c179e"
               ],
               [
                0.4444444444444444,
                "#bd3786"
               ],
               [
                0.5555555555555556,
                "#d8576b"
               ],
               [
                0.6666666666666666,
                "#ed7953"
               ],
               [
                0.7777777777777778,
                "#fb9f3a"
               ],
               [
                0.8888888888888888,
                "#fdca26"
               ],
               [
                1,
                "#f0f921"
               ]
              ],
              "type": "histogram2d"
             }
            ],
            "histogram2dcontour": [
             {
              "colorbar": {
               "outlinewidth": 0,
               "ticks": ""
              },
              "colorscale": [
               [
                0,
                "#0d0887"
               ],
               [
                0.1111111111111111,
                "#46039f"
               ],
               [
                0.2222222222222222,
                "#7201a8"
               ],
               [
                0.3333333333333333,
                "#9c179e"
               ],
               [
                0.4444444444444444,
                "#bd3786"
               ],
               [
                0.5555555555555556,
                "#d8576b"
               ],
               [
                0.6666666666666666,
                "#ed7953"
               ],
               [
                0.7777777777777778,
                "#fb9f3a"
               ],
               [
                0.8888888888888888,
                "#fdca26"
               ],
               [
                1,
                "#f0f921"
               ]
              ],
              "type": "histogram2dcontour"
             }
            ],
            "mesh3d": [
             {
              "colorbar": {
               "outlinewidth": 0,
               "ticks": ""
              },
              "type": "mesh3d"
             }
            ],
            "parcoords": [
             {
              "line": {
               "colorbar": {
                "outlinewidth": 0,
                "ticks": ""
               }
              },
              "type": "parcoords"
             }
            ],
            "pie": [
             {
              "automargin": true,
              "type": "pie"
             }
            ],
            "scatter": [
             {
              "fillpattern": {
               "fillmode": "overlay",
               "size": 10,
               "solidity": 0.2
              },
              "type": "scatter"
             }
            ],
            "scatter3d": [
             {
              "line": {
               "colorbar": {
                "outlinewidth": 0,
                "ticks": ""
               }
              },
              "marker": {
               "colorbar": {
                "outlinewidth": 0,
                "ticks": ""
               }
              },
              "type": "scatter3d"
             }
            ],
            "scattercarpet": [
             {
              "marker": {
               "colorbar": {
                "outlinewidth": 0,
                "ticks": ""
               }
              },
              "type": "scattercarpet"
             }
            ],
            "scattergeo": [
             {
              "marker": {
               "colorbar": {
                "outlinewidth": 0,
                "ticks": ""
               }
              },
              "type": "scattergeo"
             }
            ],
            "scattergl": [
             {
              "marker": {
               "colorbar": {
                "outlinewidth": 0,
                "ticks": ""
               }
              },
              "type": "scattergl"
             }
            ],
            "scattermapbox": [
             {
              "marker": {
               "colorbar": {
                "outlinewidth": 0,
                "ticks": ""
               }
              },
              "type": "scattermapbox"
             }
            ],
            "scatterpolar": [
             {
              "marker": {
               "colorbar": {
                "outlinewidth": 0,
                "ticks": ""
               }
              },
              "type": "scatterpolar"
             }
            ],
            "scatterpolargl": [
             {
              "marker": {
               "colorbar": {
                "outlinewidth": 0,
                "ticks": ""
               }
              },
              "type": "scatterpolargl"
             }
            ],
            "scatterternary": [
             {
              "marker": {
               "colorbar": {
                "outlinewidth": 0,
                "ticks": ""
               }
              },
              "type": "scatterternary"
             }
            ],
            "surface": [
             {
              "colorbar": {
               "outlinewidth": 0,
               "ticks": ""
              },
              "colorscale": [
               [
                0,
                "#0d0887"
               ],
               [
                0.1111111111111111,
                "#46039f"
               ],
               [
                0.2222222222222222,
                "#7201a8"
               ],
               [
                0.3333333333333333,
                "#9c179e"
               ],
               [
                0.4444444444444444,
                "#bd3786"
               ],
               [
                0.5555555555555556,
                "#d8576b"
               ],
               [
                0.6666666666666666,
                "#ed7953"
               ],
               [
                0.7777777777777778,
                "#fb9f3a"
               ],
               [
                0.8888888888888888,
                "#fdca26"
               ],
               [
                1,
                "#f0f921"
               ]
              ],
              "type": "surface"
             }
            ],
            "table": [
             {
              "cells": {
               "fill": {
                "color": "#EBF0F8"
               },
               "line": {
                "color": "white"
               }
              },
              "header": {
               "fill": {
                "color": "#C8D4E3"
               },
               "line": {
                "color": "white"
               }
              },
              "type": "table"
             }
            ]
           },
           "layout": {
            "annotationdefaults": {
             "arrowcolor": "#2a3f5f",
             "arrowhead": 0,
             "arrowwidth": 1
            },
            "autotypenumbers": "strict",
            "coloraxis": {
             "colorbar": {
              "outlinewidth": 0,
              "ticks": ""
             }
            },
            "colorscale": {
             "diverging": [
              [
               0,
               "#8e0152"
              ],
              [
               0.1,
               "#c51b7d"
              ],
              [
               0.2,
               "#de77ae"
              ],
              [
               0.3,
               "#f1b6da"
              ],
              [
               0.4,
               "#fde0ef"
              ],
              [
               0.5,
               "#f7f7f7"
              ],
              [
               0.6,
               "#e6f5d0"
              ],
              [
               0.7,
               "#b8e186"
              ],
              [
               0.8,
               "#7fbc41"
              ],
              [
               0.9,
               "#4d9221"
              ],
              [
               1,
               "#276419"
              ]
             ],
             "sequential": [
              [
               0,
               "#0d0887"
              ],
              [
               0.1111111111111111,
               "#46039f"
              ],
              [
               0.2222222222222222,
               "#7201a8"
              ],
              [
               0.3333333333333333,
               "#9c179e"
              ],
              [
               0.4444444444444444,
               "#bd3786"
              ],
              [
               0.5555555555555556,
               "#d8576b"
              ],
              [
               0.6666666666666666,
               "#ed7953"
              ],
              [
               0.7777777777777778,
               "#fb9f3a"
              ],
              [
               0.8888888888888888,
               "#fdca26"
              ],
              [
               1,
               "#f0f921"
              ]
             ],
             "sequentialminus": [
              [
               0,
               "#0d0887"
              ],
              [
               0.1111111111111111,
               "#46039f"
              ],
              [
               0.2222222222222222,
               "#7201a8"
              ],
              [
               0.3333333333333333,
               "#9c179e"
              ],
              [
               0.4444444444444444,
               "#bd3786"
              ],
              [
               0.5555555555555556,
               "#d8576b"
              ],
              [
               0.6666666666666666,
               "#ed7953"
              ],
              [
               0.7777777777777778,
               "#fb9f3a"
              ],
              [
               0.8888888888888888,
               "#fdca26"
              ],
              [
               1,
               "#f0f921"
              ]
             ]
            },
            "colorway": [
             "#636efa",
             "#EF553B",
             "#00cc96",
             "#ab63fa",
             "#FFA15A",
             "#19d3f3",
             "#FF6692",
             "#B6E880",
             "#FF97FF",
             "#FECB52"
            ],
            "font": {
             "color": "#2a3f5f"
            },
            "geo": {
             "bgcolor": "white",
             "lakecolor": "white",
             "landcolor": "white",
             "showlakes": true,
             "showland": true,
             "subunitcolor": "#C8D4E3"
            },
            "hoverlabel": {
             "align": "left"
            },
            "hovermode": "closest",
            "mapbox": {
             "style": "light"
            },
            "paper_bgcolor": "white",
            "plot_bgcolor": "white",
            "polar": {
             "angularaxis": {
              "gridcolor": "#EBF0F8",
              "linecolor": "#EBF0F8",
              "ticks": ""
             },
             "bgcolor": "white",
             "radialaxis": {
              "gridcolor": "#EBF0F8",
              "linecolor": "#EBF0F8",
              "ticks": ""
             }
            },
            "scene": {
             "xaxis": {
              "backgroundcolor": "white",
              "gridcolor": "#DFE8F3",
              "gridwidth": 2,
              "linecolor": "#EBF0F8",
              "showbackground": true,
              "ticks": "",
              "zerolinecolor": "#EBF0F8"
             },
             "yaxis": {
              "backgroundcolor": "white",
              "gridcolor": "#DFE8F3",
              "gridwidth": 2,
              "linecolor": "#EBF0F8",
              "showbackground": true,
              "ticks": "",
              "zerolinecolor": "#EBF0F8"
             },
             "zaxis": {
              "backgroundcolor": "white",
              "gridcolor": "#DFE8F3",
              "gridwidth": 2,
              "linecolor": "#EBF0F8",
              "showbackground": true,
              "ticks": "",
              "zerolinecolor": "#EBF0F8"
             }
            },
            "shapedefaults": {
             "line": {
              "color": "#2a3f5f"
             }
            },
            "ternary": {
             "aaxis": {
              "gridcolor": "#DFE8F3",
              "linecolor": "#A2B1C6",
              "ticks": ""
             },
             "baxis": {
              "gridcolor": "#DFE8F3",
              "linecolor": "#A2B1C6",
              "ticks": ""
             },
             "bgcolor": "white",
             "caxis": {
              "gridcolor": "#DFE8F3",
              "linecolor": "#A2B1C6",
              "ticks": ""
             }
            },
            "title": {
             "x": 0.05
            },
            "xaxis": {
             "automargin": true,
             "gridcolor": "#EBF0F8",
             "linecolor": "#EBF0F8",
             "ticks": "",
             "title": {
              "standoff": 15
             },
             "zerolinecolor": "#EBF0F8",
             "zerolinewidth": 2
            },
            "yaxis": {
             "automargin": true,
             "gridcolor": "#EBF0F8",
             "linecolor": "#EBF0F8",
             "ticks": "",
             "title": {
              "standoff": 15
             },
             "zerolinecolor": "#EBF0F8",
             "zerolinewidth": 2
            }
           }
          },
          "xaxis": {
           "automargin": true,
           "autorange": false,
           "fixedrange": true,
           "linecolor": "#444",
           "linewidth": 2,
           "minor": {
            "tickmode": "linear",
            "ticks": "outside"
           },
           "mirror": true,
           "showline": true,
           "tickmode": "linear",
           "ticks": "outside",
           "zeroline": false
          },
          "yaxis": {
           "automargin": true,
           "autorange": false,
           "fixedrange": true,
           "linecolor": "#444",
           "linewidth": 2,
           "minor": {
            "tickmode": "linear",
            "ticks": "outside"
           },
           "mirror": true,
           "showline": true,
           "tickmode": "linear",
           "ticks": "outside",
           "zeroline": false
          }
         }
        },
        "width": 600,
        "xaxis": {
         "dtick": 5,
         "minor": {
          "dtick": 1,
          "tick0": 0
         },
         "range": [
          0.8,
          20.2
         ],
         "tick0": 0,
         "title": {
          "text": "level"
         }
        },
        "yaxis": {
         "automargin": "top",
         "dtick": 20,
         "fixedrange": false,
         "minor": {
          "dtick": 10,
          "tick0": 0
         },
         "range": [
          -1,
          100
         ],
         "tick0": 0,
         "title": {
          "text": "encounter XP increase (%)"
         }
        }
       }
      }
     },
     "metadata": {},
     "output_type": "display_data"
    }
   ],
   "source": [
    "# Plots XP increase - high magic\n",
    "encounter_difficulty = 'Medium'\n",
    "pc_data_file = f'./pc data - BL {encounter_difficulty} 2 short rests.json'\n",
    "with open(pc_data_file, 'r') as fin:\n",
    "    pc_data0 = json.load(fin)\n",
    "\n",
    "pc_data_file = f'./pc data - high magic {encounter_difficulty} 2 short rests.json'\n",
    "with open(pc_data_file, 'r') as fin:\n",
    "    pc_data1 = json.load(fin)\n",
    "\n",
    "# create figure\n",
    "fig = go.Figure(\n",
    "    layout=go.Layout(\n",
    "        template=TFB_TEMPLATE,\n",
    "        xaxis=dict(\n",
    "            title_text='level',\n",
    "            range=[0.8, 20.2],\n",
    "            tick0=0, dtick=5,\n",
    "            minor=dict(tick0=0, dtick=1),\n",
    "        ),\n",
    "        yaxis=dict(\n",
    "            fixedrange=False,\n",
    "            title_text='encounter XP increase (%)',\n",
    "            range=[-1, 100],\n",
    "            tick0=0, dtick=20,\n",
    "            minor=dict(tick0=0, dtick=10),\n",
    "        ),\n",
    "    )\n",
    ")\n",
    "\n",
    "# plot data\n",
    "levels = np.array(range(1,21,1))\n",
    "eXP0mean = np.zeros(20)\n",
    "eXP1mean = np.zeros(20)\n",
    "for pc in PC_CLASSES:\n",
    "    eXP0 = np.array([x['encounter XP mean'] for x in pc_data0[pc]])\n",
    "    eXP0mean += eXP0\n",
    "    eXP1 = np.array([x['encounter XP mean'] for x in pc_data1[pc]])\n",
    "    eXP1mean += eXP1\n",
    "\n",
    "    fig.add_trace(go.Scatter(\n",
    "        x=levels, \n",
    "        y=100*(eXP1/eXP0 - 1),\n",
    "        #y=(eXP1/eXP0),\n",
    "        mode='lines+markers', \n",
    "        line={'color': PC_CLASSES[pc]['color']},\n",
    "        unselected=dict(marker=dict(opacity=0.0)),\n",
    "        name=pc,\n",
    "        hovertemplate=\n",
    "            '<b>'+pc+'</b><br>'+\n",
    "            'lvl %{x}<br>'+\n",
    "            'XP increase %{y:.1f}%'+\n",
    "            '<extra></extra>'\n",
    "    ))\n",
    "\n",
    "fig.add_trace(go.Scatter(\n",
    "    x=levels, \n",
    "    y=100*(eXP1mean/eXP0mean - 1),\n",
    "    #y=(eXP1mean/eXP0mean),\n",
    "    mode='lines+markers', \n",
    "    line=dict(color='black', dash='dash'),\n",
    "    unselected=dict(marker=dict(opacity=0.0)),\n",
    "    name='average',\n",
    "    hovertemplate=\n",
    "        '<b>Average</b><br>'+\n",
    "        'lvl %{x}<br>'+\n",
    "        'XP increase %{y:.1f}%'+\n",
    "        '<extra></extra>'\n",
    "))\n",
    "\n",
    "# show figure\n",
    "fig.update_layout(width=600, height=550)\n",
    "fig.update_yaxes(automargin='top')\n",
    "fig.show(config=TFB_CONFIG)\n",
    "\n",
    "# save figures\n",
    "if SAVEFIGS:\n",
    "    fig.update_layout(autosize=True, width=None, height=None)\n",
    "    save_fig_html(fig, format='large', name=f'./fig-encounter-xp-high-magic-large', style='aspect-ratio:600/550')\n",
    "    save_fig_html(fig, format='small', name=f'./fig-encounter-xp-high-magic-small', style='aspect-ratio:600/600')"
   ]
  },
  {
   "cell_type": "code",
   "execution_count": 9,
   "metadata": {},
   "outputs": [
    {
     "name": "stdout",
     "output_type": "stream",
     "text": [
      "Barbarian .................... total: 0.73 s\n",
      "Bard      .................... total: 1.38 s\n",
      "Cleric    .................... total: 0.85 s\n",
      "Druid     .................... total: 0.83 s\n",
      "Fighter   .................... total: 0.88 s\n",
      "Monk      .................... total: 1.14 s\n",
      "Paladin   .................... total: 12.05 s\n",
      "Ranger    .................... total: 1.04 s\n",
      "Rogue     .................... total: 0.37 s\n",
      "Sorcerer  .................... total: 4.60 s\n",
      "Warlock   .................... total: 0.72 s\n",
      "Wizard    .................... total: 9.21 s\n",
      "pc data saved to \"pc data - magic +1 Medium 2 short rests.json\"\n",
      "total run time: 33.81 s\n"
     ]
    }
   ],
   "source": [
    "# Full encounter and daily XP\n",
    "import copy\n",
    "\n",
    "difficulty = 'Medium'\n",
    "short_rests = 2\n",
    "show_level_times = False\n",
    "\n",
    "PC_CLASSES = {\n",
    "    'Barbarian': {'color': '#E7623E', 'group': 'martial', 'weaponName': 'greataxe+1'},\n",
    "    'Bard': {'color': '#AB6DAC', 'group': 'spellcaster', 'spellAttackBonus': 1},\n",
    "    'Cleric': {'color': '#91A1B2', 'group': 'spellcaster', 'spellAttackBonus': 1},\n",
    "    'Druid': {'color': '#7A853B', 'group': 'spellcaster', 'spellAttackBonus': 1},\n",
    "    'Fighter': {'color': '#7F513E', 'group': 'martial', 'weaponName': 'greatsword+1'},\n",
    "    'Monk': {'color': '#51A5C5', 'group': 'martial', 'weaponName': 'quarterstaff+1'},\n",
    "    'Paladin': {'color': '#B59E54', 'group': 'martial-spellcaster', 'weaponName': 'greatsword+1'},\n",
    "    'Ranger': {'color': '#507F62', 'group': 'martial-spellcaster', 'weaponName': 'longbow+1'},\n",
    "    'Rogue': {'color': '#555752', 'group': 'martial', 'weaponName': 'shortbow+1'},\n",
    "    'Sorcerer': {'color': '#992E2E', 'group': 'spellcaster', 'spellAttackBonus': 1},\n",
    "    'Warlock': {'color': '#7B469B', 'group': 'spellcaster', 'spellAttackBonus': 1},\n",
    "    'Wizard': {'color': '#2A50A1', 'group': 'spellcaster', 'spellAttackBonus': 1}\n",
    "}\n",
    "\n",
    "class NpEncoder(json.JSONEncoder):\n",
    "    def default(self, obj):\n",
    "        if isinstance(obj, np.integer):\n",
    "            return int(obj)\n",
    "        if isinstance(obj, np.floating):\n",
    "            return float(obj)\n",
    "        if isinstance(obj, np.ndarray):\n",
    "            return obj.tolist()\n",
    "        return super(NpEncoder, self).default(obj)\n",
    "\n",
    "pcData = {}\n",
    "class_time = []\n",
    "for c in PC_CLASSES:\n",
    "    levels = np.arange(1, 21, 1)\n",
    "    print(f'{c:<10s}', end='')\n",
    "    daily_engine_options={\n",
    "        'combat healing': False if c == 'Paladin' else True,\n",
    "        'remove empty data': True,\n",
    "        'simplify summary': True,\n",
    "        'effective_method': 'exp',\n",
    "    }\n",
    "    level_time = []\n",
    "    pcData[c] = []\n",
    "    for level in levels:\n",
    "        tic = time.perf_counter()\n",
    "        pc = pc5.newPC(pcClass=c, lvl=level, **PC_CLASSES[c])\n",
    "        advDay = create_adventuring_day(level, difficulty, short_rests)\n",
    "        dSum = en5.dailyEngine(pc, advDay, **daily_engine_options)\n",
    "        dSum['class'] = c\n",
    "        dSum['level'] = int(level)\n",
    "        pcData[c].append(copy.deepcopy(dSum))\n",
    "\n",
    "        toc = time.perf_counter()\n",
    "        level_time += [toc - tic]\n",
    "        if show_level_times:\n",
    "            print(f' {level}: {level_time[-1]:0.2f} s,', end='')\n",
    "        else:\n",
    "            print('.', end='')\n",
    "        time.sleep(0.1)\n",
    "\n",
    "    class_time += [np.sum(level_time)]\n",
    "    print(f' total: {class_time[-1]:0.2f} s')\n",
    "    time.sleep(0.1)\n",
    "\n",
    "if SAVEDATA:\n",
    "    # construct day string for saving figures\n",
    "    file_name = 'pc data - magic +1 {:} {:d} short rests.json'.format(difficulty, short_rests)\n",
    "    with open(file_name, 'w') as convert_file:\n",
    "        convert_file.write(json.dumps(pcData, indent=2, cls=NpEncoder))\n",
    "    print('pc data saved to \"{:}\"'.format(file_name))\n",
    "\n",
    "print(f'total run time: {np.sum(class_time):0.2f} s')"
   ]
  }
 ],
 "metadata": {
  "kernelspec": {
   "display_name": "thefinishedbook",
   "language": "python",
   "name": "python3"
  },
  "language_info": {
   "codemirror_mode": {
    "name": "ipython",
    "version": 3
   },
   "file_extension": ".py",
   "mimetype": "text/x-python",
   "name": "python",
   "nbconvert_exporter": "python",
   "pygments_lexer": "ipython3",
   "version": "3.10.5"
  },
  "orig_nbformat": 4,
  "vscode": {
   "interpreter": {
    "hash": "81e7ed570d3d4d94e4f212d319db3e9a0140cc240e5a3a69836cc19bf47f0126"
   }
  }
 },
 "nbformat": 4,
 "nbformat_minor": 2
}
