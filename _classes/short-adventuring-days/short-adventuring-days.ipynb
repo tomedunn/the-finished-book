{
 "cells": [
  {
   "cell_type": "code",
   "execution_count": 78,
   "metadata": {},
   "outputs": [],
   "source": [
    "# Initialize notebook\n",
    "import numpy as np\n",
    "import json\n",
    "import plotly.graph_objects as go\n",
    "from bs4 import BeautifulSoup\n",
    "\n",
    "\n",
    "METADATA = {'Contributor': 'T. Dunn'}\n",
    "SAVEFIGS = False\n",
    "SAVEDATA = False\n",
    "\n",
    "PC_CLASSES = {\n",
    "    'Barbarian': {'color': '#E7623E', 'group': 'martial'},\n",
    "    'Bard': {'color': '#AB6DAC', 'group': 'spellcaster'},\n",
    "    'Cleric': {'color': '#91A1B2', 'group': 'spellcaster'},\n",
    "    'Druid': {'color': '#7A853B', 'group': 'spellcaster'},\n",
    "    'Fighter': {'color': '#7F513E', 'group': 'martial'},\n",
    "    'Monk': {'color': '#51A5C5', 'group': 'martial'},\n",
    "    'Paladin': {'color': '#B59E54', 'group': 'martial-spellcaster'},\n",
    "    'Ranger': {'color': '#507F62', 'group': 'martial-spellcaster'},\n",
    "    'Rogue': {'color': '#555752', 'group': 'martial'},\n",
    "    'Sorcerer': {'color': '#992E2E', 'group': 'spellcaster'},\n",
    "    'Warlock': {'color': '#7B469B', 'group': 'spellcaster'},\n",
    "    'Wizard': {'color': '#2A50A1', 'group': 'spellcaster'}\n",
    "}\n",
    "\n",
    "ENCOUNTER_DIFFICULTIES = {\n",
    "    'Easy':   {\n",
    "        'XP': [25,50,75,125,250,300,350,450,550,600,800,1000,1100,1250,1400,1600,2000,2100,2400,2800], \n",
    "        'color': '#1F77B4'\n",
    "    },\n",
    "    'Medium': {\n",
    "        'XP': [50,100,150,250,500,600,750,900,1100,1200,1600,2000,2200,2500,2800,3200,3900,4200,4900,5700], \n",
    "        'color': '#FF7F0E'\n",
    "    },\n",
    "    'Hard':   {\n",
    "        'XP': [75,150,225,375,750,900,1100,1400,1600,1900,2400,3000,3400,3800,4300,4800,5900,6300,7300,8500], \n",
    "        'color': '#2CA02C'\n",
    "    },\n",
    "    'Deadly': {\n",
    "        'XP': [100,200,400,500,1100,1400,1700,2100,2400,2800,3600,4500,5100,5700,6400,7200,8800,9500,10900,12700], \n",
    "        'color': '#D62728'\n",
    "    },\n",
    "    'Daily':  {\n",
    "        'XP': [300,600,1200,1700,3500,4000,5000,6000,7500,9000,10500,11500,13500,15000,18000,20000,25000,27000,30000,40000], \n",
    "        'color': '#9467BD'\n",
    "    },\n",
    "}"
   ]
  },
  {
   "cell_type": "code",
   "execution_count": 79,
   "metadata": {},
   "outputs": [],
   "source": [
    "# Setup template and html config for plotly figures.\n",
    "TFB_TEMPLATE = dict(\n",
    "    layout=go.Layout(\n",
    "        template='plotly_white',\n",
    "        autosize=True, # must be True to auto-scale when resizing\n",
    "        margin=dict(l=50, r=25, b=40, t=20, pad=4),\n",
    "        font=dict(\n",
    "            family='sans-serif',\n",
    "            size=14\n",
    "        ),\n",
    "        hovermode='closest',\n",
    "        xaxis=dict(\n",
    "            autorange=False,\n",
    "            automargin=True,\n",
    "            fixedrange=True,\n",
    "            showline=True,\n",
    "            linecolor='#444',\n",
    "            linewidth=2,\n",
    "            mirror=True,\n",
    "            tickmode='linear',\n",
    "            ticks='outside',\n",
    "            minor=dict(\n",
    "                #showgrid=True,\n",
    "                tickmode='linear',\n",
    "                ticks='outside',\n",
    "            ),\n",
    "            zeroline=False,\n",
    "        ),\n",
    "        yaxis=dict(\n",
    "            autorange=False,\n",
    "            automargin=True,\n",
    "            fixedrange=True,\n",
    "            showline=True,\n",
    "            linecolor='#444',\n",
    "            linewidth=2,\n",
    "            mirror=True,\n",
    "            tickmode='linear',\n",
    "            ticks='outside',\n",
    "            minor=dict(\n",
    "                #showgrid=True,\n",
    "                tickmode='linear',\n",
    "                ticks='outside',\n",
    "            ),\n",
    "            zeroline=False,\n",
    "        ),\n",
    "        legend=dict(\n",
    "            #bordercolor='Black',\n",
    "            #borderwidth=1,\n",
    "            font_size=10,\n",
    "            #tracegroupgap=5,\n",
    "            #orientation='h',\n",
    "        )\n",
    "    )\n",
    ")\n",
    "\n",
    "TFB_CONFIG = {\n",
    "    'responsive': True, # must be True to auto-scale when resizing\n",
    "    'autosizable': True, # doesn't impact auto rescaling\n",
    "    'showAxisDragHandles': False,\n",
    "    'displaylogo': False,\n",
    "    'displayModeBar': 'hover',\n",
    "    'modeBarButtonsToRemove': [\n",
    "        'select2d',\n",
    "        'lasso2d',\n",
    "        'zoom2d',\n",
    "        'zoomIn2d',\n",
    "        'zoomOut2d',\n",
    "        'pan2d',\n",
    "        'autoScale2d',\n",
    "        'hoverClosestCartesian',\n",
    "        'hoverCompareCartesian',\n",
    "        'toggleSpikelines',\n",
    "        'resetScale2d',\n",
    "    ],\n",
    "    'toImageButtonOptions': {\n",
    "        'format': 'png', # one of png, svg, jpeg, webp\n",
    "        'filename': 'tfb-plot',\n",
    "        'height': 450,\n",
    "        'width': 600,\n",
    "        'scale': 2\n",
    "    },\n",
    "}\n"
   ]
  },
  {
   "cell_type": "code",
   "execution_count": 80,
   "metadata": {},
   "outputs": [
    {
     "data": {
      "application/vnd.plotly.v1+json": {
       "config": {
        "autosizable": true,
        "displayModeBar": "hover",
        "displaylogo": false,
        "modeBarButtonsToRemove": [
         "select2d",
         "lasso2d",
         "zoom2d",
         "zoomIn2d",
         "zoomOut2d",
         "pan2d",
         "autoScale2d",
         "hoverClosestCartesian",
         "hoverCompareCartesian",
         "toggleSpikelines",
         "resetScale2d"
        ],
        "plotlyServerURL": "https://plot.ly",
        "responsive": true,
        "showAxisDragHandles": false,
        "toImageButtonOptions": {
         "filename": "tfb-plot",
         "format": "png",
         "height": 450,
         "scale": 2,
         "width": 600
        }
       },
       "data": [
        {
         "hovertemplate": "<b>Barbarian</b><br>lvl %{x}<br>enc XP %{y:.2f}<extra></extra>",
         "line": {
          "color": "#E7623E"
         },
         "marker": {
          "size": 5
         },
         "mode": "lines+markers",
         "name": "Barbarian",
         "type": "scatter",
         "unselected": {
          "marker": {
           "opacity": 0
          }
         },
         "x": [
          1,
          2,
          3,
          4,
          5,
          6,
          7,
          8,
          9,
          10,
          11,
          12,
          13,
          14,
          15,
          16,
          17,
          18,
          19,
          20
         ],
         "y": [
          1.4275862068965517,
          1.427586206896552,
          1.3904282115869018,
          1.3192612137203166,
          1.3358778625954197,
          1.2135922330097086,
          1.2135922330097089,
          1.2089552238805972,
          1.2269129287598945,
          1.266089108910891,
          1.226912928759894,
          1.0575250836120402,
          1.0819672131147544,
          1.081967213114754,
          1.0773195876288657,
          1.0830618892508144,
          0.9999999999999999,
          1,
          0.9999999999999999,
          1
         ]
        },
        {
         "hovertemplate": "<b>Bard</b><br>lvl %{x}<br>enc XP %{y:.2f}<extra></extra>",
         "line": {
          "color": "#AB6DAC"
         },
         "marker": {
          "size": 5
         },
         "mode": "lines+markers",
         "name": "Bard",
         "type": "scatter",
         "unselected": {
          "marker": {
           "opacity": 0
          }
         },
         "x": [
          1,
          2,
          3,
          4,
          5,
          6,
          7,
          8,
          9,
          10,
          11,
          12,
          13,
          14,
          15,
          16,
          17,
          18,
          19,
          20
         ],
         "y": [
          1.2703631532329498,
          1.3750981633945538,
          1.8222037422037423,
          1.773840830449827,
          1.59239263803681,
          1.6386363636363634,
          1.7331845457416568,
          1.8240713224368503,
          1.78713242610253,
          1.9208297320656869,
          1.6835249821919203,
          1.6418207996455862,
          1.795175246096934,
          1.795175246096934,
          1.8027179700048732,
          1.8856322980021298,
          1.7481440663022394,
          1.7481440663022394,
          1.7416561565348998,
          1.774714742709737
         ]
        },
        {
         "hovertemplate": "<b>Cleric</b><br>lvl %{x}<br>enc XP %{y:.2f}<extra></extra>",
         "line": {
          "color": "#91A1B2"
         },
         "marker": {
          "size": 5
         },
         "mode": "lines+markers",
         "name": "Cleric",
         "type": "scatter",
         "unselected": {
          "marker": {
           "opacity": 0
          }
         },
         "x": [
          1,
          2,
          3,
          4,
          5,
          6,
          7,
          8,
          9,
          10,
          11,
          12,
          13,
          14,
          15,
          16,
          17,
          18,
          19,
          20
         ],
         "y": [
          1.2431654676258992,
          1.3484536082474228,
          1.7837837837837838,
          1.7307692307692308,
          1.5647058823529414,
          1.6153846153846152,
          1.70550576184379,
          1.5597484276729563,
          1.5827876520112252,
          1.6739523418241575,
          1.4985507246376812,
          1.5138888888888888,
          1.662191582002903,
          1.662191582002903,
          1.6598833441348027,
          1.7362281270252757,
          1.6337041156840932,
          1.6337041156840935,
          1.6565796779566908,
          1.644178246286536
         ]
        },
        {
         "hovertemplate": "<b>Druid</b><br>lvl %{x}<br>enc XP %{y:.2f}<extra></extra>",
         "line": {
          "color": "#7A853B"
         },
         "marker": {
          "size": 5
         },
         "mode": "lines+markers",
         "name": "Druid",
         "type": "scatter",
         "unselected": {
          "marker": {
           "opacity": 0
          }
         },
         "x": [
          1,
          2,
          3,
          4,
          5,
          6,
          7,
          8,
          9,
          10,
          11,
          12,
          13,
          14,
          15,
          16,
          17,
          18,
          19,
          20
         ],
         "y": [
          1.2431654676258992,
          1.3484536082474226,
          1.7837837837837838,
          1.7307692307692308,
          1.5647058823529412,
          1.6153846153846154,
          1.7055057618437897,
          1.7841726618705038,
          1.7461300309597518,
          1.8402890695573622,
          1.6283464566929133,
          1.619755244755245,
          1.764637904468413,
          1.7646379044684128,
          1.7506493506493508,
          1.8311688311688312,
          1.6998842592592593,
          1.6998842592592593,
          1.7038834951456308,
          1.7012394645513143
         ]
        },
        {
         "hovertemplate": "<b>Fighter</b><br>lvl %{x}<br>enc XP %{y:.2f}<extra></extra>",
         "line": {
          "color": "#7F513E"
         },
         "marker": {
          "size": 5
         },
         "mode": "lines+markers",
         "name": "Fighter",
         "type": "scatter",
         "unselected": {
          "marker": {
           "opacity": 0
          }
         },
         "x": [
          1,
          2,
          3,
          4,
          5,
          6,
          7,
          8,
          9,
          10,
          11,
          12,
          13,
          14,
          15,
          16,
          17,
          18,
          19,
          20
         ],
         "y": [
          1.213114754098361,
          1.1675675675675676,
          1.2303249097472924,
          1.1636363636363636,
          1.1666666666666667,
          1.1468860164512338,
          1.1416837782340863,
          1.1281770975676415,
          1.1251840942562592,
          1.1511627906976745,
          1.1207177814029365,
          1.12015503875969,
          1.1327319587628863,
          1.1264822134387351,
          1.0862811643388592,
          1.1308135967603385,
          1.107659574468085,
          1.1071640932195264,
          1.1721288116272441,
          1.1428571428571428
         ]
        },
        {
         "hovertemplate": "<b>Monk</b><br>lvl %{x}<br>enc XP %{y:.2f}<extra></extra>",
         "line": {
          "color": "#51A5C5"
         },
         "marker": {
          "size": 5
         },
         "mode": "lines+markers",
         "name": "Monk",
         "type": "scatter",
         "unselected": {
          "marker": {
           "opacity": 0
          }
         },
         "x": [
          1,
          2,
          3,
          4,
          5,
          6,
          7,
          8,
          9,
          10,
          11,
          12,
          13,
          14,
          15,
          16,
          17,
          18,
          19,
          20
         ],
         "y": [
          1,
          1.0265060240963855,
          1.0880000000000003,
          1.0726256983240223,
          1.076923076923077,
          1.0389610389610389,
          1.0256410256410255,
          1.0126582278481013,
          1,
          1,
          1,
          1.0000000000000002,
          1,
          1,
          1,
          1,
          1,
          1.113793103448276,
          1.083333333333333,
          1.1333333333333337
         ]
        },
        {
         "hovertemplate": "<b>Paladin</b><br>lvl %{x}<br>enc XP %{y:.2f}<extra></extra>",
         "line": {
          "color": "#B59E54"
         },
         "marker": {
          "size": 5
         },
         "mode": "lines+markers",
         "name": "Paladin",
         "type": "scatter",
         "unselected": {
          "marker": {
           "opacity": 0
          }
         },
         "x": [
          1,
          2,
          3,
          4,
          5,
          6,
          7,
          8,
          9,
          10,
          11,
          12,
          13,
          14,
          15,
          16,
          17,
          18,
          19,
          20
         ],
         "y": [
          1,
          1.3391304347826087,
          1.5486631016042782,
          1.4664107485604607,
          1.549869451697128,
          1.534841628959276,
          1.6496980155306296,
          1.6077481840193704,
          1.9240875912408764,
          1.977899045020464,
          1.8308457711442787,
          1.8440409683426444,
          1.9176570458404074,
          1.9176570458404076,
          1.8583072100313476,
          2.0027429467084636,
          1.920584079133302,
          1.920584079133302,
          2.0143651529193702,
          2.028692699490662
         ]
        },
        {
         "hovertemplate": "<b>Ranger</b><br>lvl %{x}<br>enc XP %{y:.2f}<extra></extra>",
         "line": {
          "color": "#507F62"
         },
         "marker": {
          "size": 5
         },
         "mode": "lines+markers",
         "name": "Ranger",
         "type": "scatter",
         "unselected": {
          "marker": {
           "opacity": 0
          }
         },
         "x": [
          1,
          2,
          3,
          4,
          5,
          6,
          7,
          8,
          9,
          10,
          11,
          12,
          13,
          14,
          15,
          16,
          17,
          18,
          19,
          20
         ],
         "y": [
          1,
          1.4333333333333333,
          1.6979591836734695,
          1.5771971496437058,
          1.5529801324503312,
          1.536697247706422,
          1.5317286652078774,
          1.488933601609658,
          1.6084656084656086,
          1.6581818181818182,
          1.6079734219269104,
          1.575229357798165,
          1.6488833746898264,
          1.6488833746898262,
          1.6081325301204823,
          1.623870481927711,
          1.5335088874259382,
          1.5335088874259382,
          1.5103708359522314,
          1.6085630498533725
         ]
        },
        {
         "hovertemplate": "<b>Rogue</b><br>lvl %{x}<br>enc XP %{y:.2f}<extra></extra>",
         "line": {
          "color": "#555752"
         },
         "marker": {
          "size": 5
         },
         "mode": "lines+markers",
         "name": "Rogue",
         "type": "scatter",
         "unselected": {
          "marker": {
           "opacity": 0
          }
         },
         "x": [
          1,
          2,
          3,
          4,
          5,
          6,
          7,
          8,
          9,
          10,
          11,
          12,
          13,
          14,
          15,
          16,
          17,
          18,
          19,
          20
         ],
         "y": [
          1,
          1,
          1,
          1,
          0.9999999999999999,
          1,
          1,
          1.0000000000000002,
          1,
          0.9999999999999998,
          1,
          1,
          1,
          1,
          1,
          1,
          1,
          0.9999999999999999,
          1,
          1.0000000000000002
         ]
        },
        {
         "hovertemplate": "<b>Sorcerer</b><br>lvl %{x}<br>enc XP %{y:.2f}<extra></extra>",
         "line": {
          "color": "#992E2E"
         },
         "marker": {
          "size": 5
         },
         "mode": "lines+markers",
         "name": "Sorcerer",
         "type": "scatter",
         "unselected": {
          "marker": {
           "opacity": 0
          }
         },
         "x": [
          1,
          2,
          3,
          4,
          5,
          6,
          7,
          8,
          9,
          10,
          11,
          12,
          13,
          14,
          15,
          16,
          17,
          18,
          19,
          20
         ],
         "y": [
          1.1275471698113209,
          1.3484536082474228,
          1.8823529411764708,
          1.8097447795823667,
          1.6333333333333333,
          1.7055057618437897,
          1.858632676709154,
          1.7991266375545851,
          1.7621313035204567,
          1.7995012468827933,
          1.6322869955156951,
          1.59375,
          1.630249110320285,
          1.5972803347280335,
          1.6017510944340212,
          1.675422138836773,
          1.5998910675381264,
          1.5998910675381262,
          1.5928990923651896,
          1.5960000000000003
         ]
        },
        {
         "hovertemplate": "<b>Warlock</b><br>lvl %{x}<br>enc XP %{y:.2f}<extra></extra>",
         "line": {
          "color": "#7B469B"
         },
         "marker": {
          "size": 5
         },
         "mode": "lines+markers",
         "name": "Warlock",
         "type": "scatter",
         "unselected": {
          "marker": {
           "opacity": 0
          }
         },
         "x": [
          1,
          2,
          3,
          4,
          5,
          6,
          7,
          8,
          9,
          10,
          11,
          12,
          13,
          14,
          15,
          16,
          17,
          18,
          19,
          20
         ],
         "y": [
          1.0178571428571428,
          1.0327868852459017,
          1.1612903225806455,
          1.0888030888030884,
          1.0775757575757576,
          1.0672268907563027,
          1.0844793713163063,
          1.0726256983240223,
          1.108974358974359,
          1.142942942942943,
          1.2034188034188031,
          1.2619731800766283,
          1.331686046511628,
          1.331686046511628,
          1.3587267904509286,
          1.421220159151194,
          1.3297419646899045,
          1.329741964689905,
          1.4213911386374465,
          1.351061173533083
         ]
        },
        {
         "hovertemplate": "<b>Wizard</b><br>lvl %{x}<br>enc XP %{y:.2f}<extra></extra>",
         "line": {
          "color": "#2A50A1"
         },
         "marker": {
          "size": 5
         },
         "mode": "lines+markers",
         "name": "Wizard",
         "type": "scatter",
         "unselected": {
          "marker": {
           "opacity": 0
          }
         },
         "x": [
          1,
          2,
          3,
          4,
          5,
          6,
          7,
          8,
          9,
          10,
          11,
          12,
          13,
          14,
          15,
          16,
          17,
          18,
          19,
          20
         ],
         "y": [
          1.2431654676258994,
          1.3484536082474228,
          1.7330415754923416,
          1.6783216783216783,
          1.6333333333333333,
          1.6727272727272728,
          1.7545565006075334,
          1.6986301369863015,
          1.6507317073170733,
          1.7516766981943255,
          1.5595776772247365,
          1.5441666666666671,
          1.6767935578330893,
          1.6767935578330893,
          1.6428479794740216,
          1.718409236690186,
          1.6255672385168787,
          1.6255672385168787,
          1.604895104895105,
          1.6147764705882353
         ]
        },
        {
         "hoverinfo": "skip",
         "line": {
          "color": "black",
          "dash": "dash"
         },
         "mode": "lines",
         "name": "average",
         "type": "scatter",
         "unselected": {
          "marker": {
           "opacity": 0
          }
         },
         "x": [
          1,
          2,
          3,
          4,
          5,
          6,
          7,
          8,
          9,
          10,
          11,
          12,
          13,
          14,
          15,
          16,
          17,
          18,
          19,
          20
         ],
         "y": [
          1.1574842117568378,
          1.254355389712962,
          1.4333278571903998,
          1.3709194973807393,
          1.3517355347102868,
          1.3373445234515244,
          1.371010201416977,
          1.3584811798954206,
          1.4115732177536902,
          1.4630410325095502,
          1.3807938190207827,
          1.345797044009636,
          1.4082142740251662,
          1.397430642986043,
          1.3826967150512082,
          1.4238761439985823,
          1.3593476415134707,
          1.3510688368382529,
          1.3786174751305373,
          1.3495325129041402
         ]
        }
       ],
       "layout": {
        "legend": {
         "orientation": "h",
         "x": 0.01,
         "xanchor": "left",
         "y": 1.04,
         "yanchor": "bottom"
        },
        "template": {
         "layout": {
          "autosize": true,
          "font": {
           "family": "sans-serif",
           "size": 14
          },
          "hovermode": "closest",
          "legend": {
           "font": {
            "size": 10
           }
          },
          "margin": {
           "b": 40,
           "l": 50,
           "pad": 4,
           "r": 25,
           "t": 20
          },
          "template": {
           "data": {
            "bar": [
             {
              "error_x": {
               "color": "#2a3f5f"
              },
              "error_y": {
               "color": "#2a3f5f"
              },
              "marker": {
               "line": {
                "color": "white",
                "width": 0.5
               },
               "pattern": {
                "fillmode": "overlay",
                "size": 10,
                "solidity": 0.2
               }
              },
              "type": "bar"
             }
            ],
            "barpolar": [
             {
              "marker": {
               "line": {
                "color": "white",
                "width": 0.5
               },
               "pattern": {
                "fillmode": "overlay",
                "size": 10,
                "solidity": 0.2
               }
              },
              "type": "barpolar"
             }
            ],
            "carpet": [
             {
              "aaxis": {
               "endlinecolor": "#2a3f5f",
               "gridcolor": "#C8D4E3",
               "linecolor": "#C8D4E3",
               "minorgridcolor": "#C8D4E3",
               "startlinecolor": "#2a3f5f"
              },
              "baxis": {
               "endlinecolor": "#2a3f5f",
               "gridcolor": "#C8D4E3",
               "linecolor": "#C8D4E3",
               "minorgridcolor": "#C8D4E3",
               "startlinecolor": "#2a3f5f"
              },
              "type": "carpet"
             }
            ],
            "choropleth": [
             {
              "colorbar": {
               "outlinewidth": 0,
               "ticks": ""
              },
              "type": "choropleth"
             }
            ],
            "contour": [
             {
              "colorbar": {
               "outlinewidth": 0,
               "ticks": ""
              },
              "colorscale": [
               [
                0,
                "#0d0887"
               ],
               [
                0.1111111111111111,
                "#46039f"
               ],
               [
                0.2222222222222222,
                "#7201a8"
               ],
               [
                0.3333333333333333,
                "#9c179e"
               ],
               [
                0.4444444444444444,
                "#bd3786"
               ],
               [
                0.5555555555555556,
                "#d8576b"
               ],
               [
                0.6666666666666666,
                "#ed7953"
               ],
               [
                0.7777777777777778,
                "#fb9f3a"
               ],
               [
                0.8888888888888888,
                "#fdca26"
               ],
               [
                1,
                "#f0f921"
               ]
              ],
              "type": "contour"
             }
            ],
            "contourcarpet": [
             {
              "colorbar": {
               "outlinewidth": 0,
               "ticks": ""
              },
              "type": "contourcarpet"
             }
            ],
            "heatmap": [
             {
              "colorbar": {
               "outlinewidth": 0,
               "ticks": ""
              },
              "colorscale": [
               [
                0,
                "#0d0887"
               ],
               [
                0.1111111111111111,
                "#46039f"
               ],
               [
                0.2222222222222222,
                "#7201a8"
               ],
               [
                0.3333333333333333,
                "#9c179e"
               ],
               [
                0.4444444444444444,
                "#bd3786"
               ],
               [
                0.5555555555555556,
                "#d8576b"
               ],
               [
                0.6666666666666666,
                "#ed7953"
               ],
               [
                0.7777777777777778,
                "#fb9f3a"
               ],
               [
                0.8888888888888888,
                "#fdca26"
               ],
               [
                1,
                "#f0f921"
               ]
              ],
              "type": "heatmap"
             }
            ],
            "heatmapgl": [
             {
              "colorbar": {
               "outlinewidth": 0,
               "ticks": ""
              },
              "colorscale": [
               [
                0,
                "#0d0887"
               ],
               [
                0.1111111111111111,
                "#46039f"
               ],
               [
                0.2222222222222222,
                "#7201a8"
               ],
               [
                0.3333333333333333,
                "#9c179e"
               ],
               [
                0.4444444444444444,
                "#bd3786"
               ],
               [
                0.5555555555555556,
                "#d8576b"
               ],
               [
                0.6666666666666666,
                "#ed7953"
               ],
               [
                0.7777777777777778,
                "#fb9f3a"
               ],
               [
                0.8888888888888888,
                "#fdca26"
               ],
               [
                1,
                "#f0f921"
               ]
              ],
              "type": "heatmapgl"
             }
            ],
            "histogram": [
             {
              "marker": {
               "pattern": {
                "fillmode": "overlay",
                "size": 10,
                "solidity": 0.2
               }
              },
              "type": "histogram"
             }
            ],
            "histogram2d": [
             {
              "colorbar": {
               "outlinewidth": 0,
               "ticks": ""
              },
              "colorscale": [
               [
                0,
                "#0d0887"
               ],
               [
                0.1111111111111111,
                "#46039f"
               ],
               [
                0.2222222222222222,
                "#7201a8"
               ],
               [
                0.3333333333333333,
                "#9c179e"
               ],
               [
                0.4444444444444444,
                "#bd3786"
               ],
               [
                0.5555555555555556,
                "#d8576b"
               ],
               [
                0.6666666666666666,
                "#ed7953"
               ],
               [
                0.7777777777777778,
                "#fb9f3a"
               ],
               [
                0.8888888888888888,
                "#fdca26"
               ],
               [
                1,
                "#f0f921"
               ]
              ],
              "type": "histogram2d"
             }
            ],
            "histogram2dcontour": [
             {
              "colorbar": {
               "outlinewidth": 0,
               "ticks": ""
              },
              "colorscale": [
               [
                0,
                "#0d0887"
               ],
               [
                0.1111111111111111,
                "#46039f"
               ],
               [
                0.2222222222222222,
                "#7201a8"
               ],
               [
                0.3333333333333333,
                "#9c179e"
               ],
               [
                0.4444444444444444,
                "#bd3786"
               ],
               [
                0.5555555555555556,
                "#d8576b"
               ],
               [
                0.6666666666666666,
                "#ed7953"
               ],
               [
                0.7777777777777778,
                "#fb9f3a"
               ],
               [
                0.8888888888888888,
                "#fdca26"
               ],
               [
                1,
                "#f0f921"
               ]
              ],
              "type": "histogram2dcontour"
             }
            ],
            "mesh3d": [
             {
              "colorbar": {
               "outlinewidth": 0,
               "ticks": ""
              },
              "type": "mesh3d"
             }
            ],
            "parcoords": [
             {
              "line": {
               "colorbar": {
                "outlinewidth": 0,
                "ticks": ""
               }
              },
              "type": "parcoords"
             }
            ],
            "pie": [
             {
              "automargin": true,
              "type": "pie"
             }
            ],
            "scatter": [
             {
              "fillpattern": {
               "fillmode": "overlay",
               "size": 10,
               "solidity": 0.2
              },
              "type": "scatter"
             }
            ],
            "scatter3d": [
             {
              "line": {
               "colorbar": {
                "outlinewidth": 0,
                "ticks": ""
               }
              },
              "marker": {
               "colorbar": {
                "outlinewidth": 0,
                "ticks": ""
               }
              },
              "type": "scatter3d"
             }
            ],
            "scattercarpet": [
             {
              "marker": {
               "colorbar": {
                "outlinewidth": 0,
                "ticks": ""
               }
              },
              "type": "scattercarpet"
             }
            ],
            "scattergeo": [
             {
              "marker": {
               "colorbar": {
                "outlinewidth": 0,
                "ticks": ""
               }
              },
              "type": "scattergeo"
             }
            ],
            "scattergl": [
             {
              "marker": {
               "colorbar": {
                "outlinewidth": 0,
                "ticks": ""
               }
              },
              "type": "scattergl"
             }
            ],
            "scattermapbox": [
             {
              "marker": {
               "colorbar": {
                "outlinewidth": 0,
                "ticks": ""
               }
              },
              "type": "scattermapbox"
             }
            ],
            "scatterpolar": [
             {
              "marker": {
               "colorbar": {
                "outlinewidth": 0,
                "ticks": ""
               }
              },
              "type": "scatterpolar"
             }
            ],
            "scatterpolargl": [
             {
              "marker": {
               "colorbar": {
                "outlinewidth": 0,
                "ticks": ""
               }
              },
              "type": "scatterpolargl"
             }
            ],
            "scatterternary": [
             {
              "marker": {
               "colorbar": {
                "outlinewidth": 0,
                "ticks": ""
               }
              },
              "type": "scatterternary"
             }
            ],
            "surface": [
             {
              "colorbar": {
               "outlinewidth": 0,
               "ticks": ""
              },
              "colorscale": [
               [
                0,
                "#0d0887"
               ],
               [
                0.1111111111111111,
                "#46039f"
               ],
               [
                0.2222222222222222,
                "#7201a8"
               ],
               [
                0.3333333333333333,
                "#9c179e"
               ],
               [
                0.4444444444444444,
                "#bd3786"
               ],
               [
                0.5555555555555556,
                "#d8576b"
               ],
               [
                0.6666666666666666,
                "#ed7953"
               ],
               [
                0.7777777777777778,
                "#fb9f3a"
               ],
               [
                0.8888888888888888,
                "#fdca26"
               ],
               [
                1,
                "#f0f921"
               ]
              ],
              "type": "surface"
             }
            ],
            "table": [
             {
              "cells": {
               "fill": {
                "color": "#EBF0F8"
               },
               "line": {
                "color": "white"
               }
              },
              "header": {
               "fill": {
                "color": "#C8D4E3"
               },
               "line": {
                "color": "white"
               }
              },
              "type": "table"
             }
            ]
           },
           "layout": {
            "annotationdefaults": {
             "arrowcolor": "#2a3f5f",
             "arrowhead": 0,
             "arrowwidth": 1
            },
            "autotypenumbers": "strict",
            "coloraxis": {
             "colorbar": {
              "outlinewidth": 0,
              "ticks": ""
             }
            },
            "colorscale": {
             "diverging": [
              [
               0,
               "#8e0152"
              ],
              [
               0.1,
               "#c51b7d"
              ],
              [
               0.2,
               "#de77ae"
              ],
              [
               0.3,
               "#f1b6da"
              ],
              [
               0.4,
               "#fde0ef"
              ],
              [
               0.5,
               "#f7f7f7"
              ],
              [
               0.6,
               "#e6f5d0"
              ],
              [
               0.7,
               "#b8e186"
              ],
              [
               0.8,
               "#7fbc41"
              ],
              [
               0.9,
               "#4d9221"
              ],
              [
               1,
               "#276419"
              ]
             ],
             "sequential": [
              [
               0,
               "#0d0887"
              ],
              [
               0.1111111111111111,
               "#46039f"
              ],
              [
               0.2222222222222222,
               "#7201a8"
              ],
              [
               0.3333333333333333,
               "#9c179e"
              ],
              [
               0.4444444444444444,
               "#bd3786"
              ],
              [
               0.5555555555555556,
               "#d8576b"
              ],
              [
               0.6666666666666666,
               "#ed7953"
              ],
              [
               0.7777777777777778,
               "#fb9f3a"
              ],
              [
               0.8888888888888888,
               "#fdca26"
              ],
              [
               1,
               "#f0f921"
              ]
             ],
             "sequentialminus": [
              [
               0,
               "#0d0887"
              ],
              [
               0.1111111111111111,
               "#46039f"
              ],
              [
               0.2222222222222222,
               "#7201a8"
              ],
              [
               0.3333333333333333,
               "#9c179e"
              ],
              [
               0.4444444444444444,
               "#bd3786"
              ],
              [
               0.5555555555555556,
               "#d8576b"
              ],
              [
               0.6666666666666666,
               "#ed7953"
              ],
              [
               0.7777777777777778,
               "#fb9f3a"
              ],
              [
               0.8888888888888888,
               "#fdca26"
              ],
              [
               1,
               "#f0f921"
              ]
             ]
            },
            "colorway": [
             "#636efa",
             "#EF553B",
             "#00cc96",
             "#ab63fa",
             "#FFA15A",
             "#19d3f3",
             "#FF6692",
             "#B6E880",
             "#FF97FF",
             "#FECB52"
            ],
            "font": {
             "color": "#2a3f5f"
            },
            "geo": {
             "bgcolor": "white",
             "lakecolor": "white",
             "landcolor": "white",
             "showlakes": true,
             "showland": true,
             "subunitcolor": "#C8D4E3"
            },
            "hoverlabel": {
             "align": "left"
            },
            "hovermode": "closest",
            "mapbox": {
             "style": "light"
            },
            "paper_bgcolor": "white",
            "plot_bgcolor": "white",
            "polar": {
             "angularaxis": {
              "gridcolor": "#EBF0F8",
              "linecolor": "#EBF0F8",
              "ticks": ""
             },
             "bgcolor": "white",
             "radialaxis": {
              "gridcolor": "#EBF0F8",
              "linecolor": "#EBF0F8",
              "ticks": ""
             }
            },
            "scene": {
             "xaxis": {
              "backgroundcolor": "white",
              "gridcolor": "#DFE8F3",
              "gridwidth": 2,
              "linecolor": "#EBF0F8",
              "showbackground": true,
              "ticks": "",
              "zerolinecolor": "#EBF0F8"
             },
             "yaxis": {
              "backgroundcolor": "white",
              "gridcolor": "#DFE8F3",
              "gridwidth": 2,
              "linecolor": "#EBF0F8",
              "showbackground": true,
              "ticks": "",
              "zerolinecolor": "#EBF0F8"
             },
             "zaxis": {
              "backgroundcolor": "white",
              "gridcolor": "#DFE8F3",
              "gridwidth": 2,
              "linecolor": "#EBF0F8",
              "showbackground": true,
              "ticks": "",
              "zerolinecolor": "#EBF0F8"
             }
            },
            "shapedefaults": {
             "line": {
              "color": "#2a3f5f"
             }
            },
            "ternary": {
             "aaxis": {
              "gridcolor": "#DFE8F3",
              "linecolor": "#A2B1C6",
              "ticks": ""
             },
             "baxis": {
              "gridcolor": "#DFE8F3",
              "linecolor": "#A2B1C6",
              "ticks": ""
             },
             "bgcolor": "white",
             "caxis": {
              "gridcolor": "#DFE8F3",
              "linecolor": "#A2B1C6",
              "ticks": ""
             }
            },
            "title": {
             "x": 0.05
            },
            "xaxis": {
             "automargin": true,
             "gridcolor": "#EBF0F8",
             "linecolor": "#EBF0F8",
             "ticks": "",
             "title": {
              "standoff": 15
             },
             "zerolinecolor": "#EBF0F8",
             "zerolinewidth": 2
            },
            "yaxis": {
             "automargin": true,
             "gridcolor": "#EBF0F8",
             "linecolor": "#EBF0F8",
             "ticks": "",
             "title": {
              "standoff": 15
             },
             "zerolinecolor": "#EBF0F8",
             "zerolinewidth": 2
            }
           }
          },
          "xaxis": {
           "automargin": true,
           "autorange": false,
           "fixedrange": true,
           "linecolor": "#444",
           "linewidth": 2,
           "minor": {
            "tickmode": "linear",
            "ticks": "outside"
           },
           "mirror": true,
           "showline": true,
           "tickmode": "linear",
           "ticks": "outside",
           "zeroline": false
          },
          "yaxis": {
           "automargin": true,
           "autorange": false,
           "fixedrange": true,
           "linecolor": "#444",
           "linewidth": 2,
           "minor": {
            "tickmode": "linear",
            "ticks": "outside"
           },
           "mirror": true,
           "showline": true,
           "tickmode": "linear",
           "ticks": "outside",
           "zeroline": false
          }
         }
        },
        "xaxis": {
         "dtick": 5,
         "minor": {
          "dtick": 1,
          "tick0": 0
         },
         "range": [
          0.8,
          20.2
         ],
         "tick0": 0,
         "title": {
          "text": "level"
         }
        },
        "yaxis": {
         "autorange": false,
         "dtick": 0.2,
         "minor": {
          "dtick": 0.1,
          "tick0": 0
         },
         "range": [
          0.9,
          2.1
         ],
         "tick0": 0,
         "title": {
          "text": "encounter XP ratio"
         }
        }
       }
      }
     },
     "metadata": {},
     "output_type": "display_data"
    }
   ],
   "source": [
    "# Plots average encounter XP for each class on days with only one Deadly encounters and no short rest. \n",
    "n_enc = 1\n",
    "encounter_difficulty = 'Deadly'\n",
    "\n",
    "with open(f'../xp-and-player-characters/pc data - Medium 2 short rests.json', 'r') as fin:\n",
    "    pc_data0 = json.load(fin)\n",
    "\n",
    "with open(f'../xp-and-player-characters/pc data - {encounter_difficulty} 2 short rests.json', 'r') as fin:\n",
    "    pc_data1 = json.load(fin)\n",
    "\n",
    "levels = np.array(range(1,21,1))\n",
    "enc_XP_budget = 0.5 * np.array(ENCOUNTER_DIFFICULTIES['Daily']['XP'])\n",
    "\n",
    "fig = go.Figure(\n",
    "    layout=go.Layout(\n",
    "        template=TFB_TEMPLATE,\n",
    "        xaxis=dict(\n",
    "            title_text='level',\n",
    "            range=[0.8, 20.2],\n",
    "            tick0=0, dtick=5,\n",
    "            minor=dict(tick0=0, dtick=1),\n",
    "        ),\n",
    "        yaxis=dict(\n",
    "            autorange=False,\n",
    "            title_text='encounter XP ratio',\n",
    "            range=[0.9, 2.1],\n",
    "            tick0=0, dtick=0.2,\n",
    "            minor=dict(tick0=0, dtick=0.1),\n",
    "        ),\n",
    "        legend=dict(\n",
    "            yanchor='bottom',  y=1.04,\n",
    "            xanchor='left', x=0.01,\n",
    "            orientation='h',\n",
    "        )\n",
    "    )\n",
    ")\n",
    "\n",
    "eXPmean = np.zeros(20)\n",
    "aXPmean = np.zeros(20)\n",
    "for pc in PC_CLASSES:\n",
    "    eXP = np.zeros(20)\n",
    "    for level in range(20):\n",
    "        encounters = pc_data1[pc][level]['encounters']\n",
    "        encounters = [x for x in encounters if x['type'] == 'encounter']\n",
    "        eXP[level] = np.mean([x['XP mean'] for x in encounters[0:n_enc]])\n",
    "\n",
    "    eXPmean += eXP\n",
    "    aXP  = np.array([x['encounter XP mean'] for x in pc_data0[pc]])\n",
    "    aXPmean += aXP\n",
    "\n",
    "    fig.add_trace(go.Scatter(\n",
    "        x=levels, \n",
    "        y=eXP/aXP,\n",
    "        mode='lines+markers', \n",
    "        line={'color': PC_CLASSES[pc]['color']},\n",
    "        marker={'size': 5},\n",
    "        unselected=dict(marker=dict(opacity=0.0)),\n",
    "        name=pc,\n",
    "        hovertemplate=\n",
    "            '<b>'+pc+'</b><br>'+\n",
    "            'lvl %{x}<br>'+\n",
    "            'enc XP %{y:.2f}'+\n",
    "            '<extra></extra>'\n",
    "    ))\n",
    "\n",
    "eXPmean /= len(PC_CLASSES)\n",
    "aXPmean /= len(PC_CLASSES)\n",
    "fig.add_trace(go.Scatter(\n",
    "    x=levels, \n",
    "    y=eXPmean/aXPmean,\n",
    "    mode='lines', \n",
    "    line=dict(color='black', dash='dash'),\n",
    "    unselected=dict(marker=dict(opacity=0.0)),\n",
    "    name='average',\n",
    "    hoverinfo='skip'\n",
    "))\n",
    "\n",
    "# show figure\n",
    "fig.show(config=TFB_CONFIG)\n",
    "\n",
    "# save large format figure\n",
    "if SAVEFIGS:\n",
    "    file_name = f'./fig-single-encounter-xp-vs-level-{encounter_difficulty.lower()}-large.html'\n",
    "    fig_html = fig.to_html(\n",
    "        config=TFB_CONFIG,\n",
    "        include_plotlyjs=False, \n",
    "        full_html=False, \n",
    "    )\n",
    "    fig_soup = BeautifulSoup(fig_html, 'html.parser')\n",
    "    fig_soup.div['class'] = 'plotly-div-large'\n",
    "    fig_soup.div['style'] = 'aspect-ratio:600/550'\n",
    "    with open(file_name, 'wb') as fout:\n",
    "        fout.write(fig_soup.prettify('utf-8'))\n",
    "\n",
    "# save small format figure\n",
    "if SAVEFIGS:\n",
    "    fig.update_traces(marker=dict(size=4))\n",
    "    fig.update_layout(font=dict(size=10), legend=dict(font_size=8))\n",
    "    file_name = f'./fig-single-encounter-xp-vs-level-{encounter_difficulty.lower()}-small.html'\n",
    "    fig_html = fig.to_html(\n",
    "        config=TFB_CONFIG,\n",
    "        include_plotlyjs=False, \n",
    "        full_html=False, \n",
    "    )\n",
    "    fig_soup = BeautifulSoup(fig_html, 'html.parser')\n",
    "    fig_soup.div['class'] = 'plotly-div-small'\n",
    "    fig_soup.div['style'] = 'aspect-ratio:600/600'\n",
    "    with open(file_name, 'wb') as fout:\n",
    "        fout.write(fig_soup.prettify('utf-8'))"
   ]
  },
  {
   "cell_type": "code",
   "execution_count": 97,
   "metadata": {},
   "outputs": [
    {
     "data": {
      "application/vnd.plotly.v1+json": {
       "config": {
        "autosizable": true,
        "displayModeBar": "hover",
        "displaylogo": false,
        "modeBarButtonsToRemove": [
         "select2d",
         "lasso2d",
         "zoom2d",
         "zoomIn2d",
         "zoomOut2d",
         "pan2d",
         "autoScale2d",
         "hoverClosestCartesian",
         "hoverCompareCartesian",
         "toggleSpikelines",
         "resetScale2d"
        ],
        "plotlyServerURL": "https://plot.ly",
        "responsive": true,
        "showAxisDragHandles": false,
        "toImageButtonOptions": {
         "filename": "tfb-plot",
         "format": "png",
         "height": 450,
         "scale": 2,
         "width": 600
        }
       },
       "data": [
        {
         "hovertemplate": "<b>Barbarian</b><br>lvl %{x}<br>eff DPR %{y:.2f}<extra></extra>",
         "line": {
          "color": "#E7623E"
         },
         "marker": {
          "size": 5
         },
         "mode": "lines+markers",
         "name": "Barbarian",
         "type": "scatter",
         "unselected": {
          "marker": {
           "opacity": 0
          }
         },
         "x": [
          1,
          2,
          3,
          4,
          5,
          6,
          7,
          8,
          9,
          10,
          11,
          12,
          13,
          14,
          15,
          16,
          17,
          18,
          19,
          20
         ],
         "y": [
          1.131147540983607,
          1.1311475409836067,
          1.1219512195121952,
          1.0964912280701755,
          1.10062893081761,
          1.0683760683760684,
          1.0683760683760684,
          1.062992125984252,
          1.083916083916084,
          1.0964630225080387,
          1.083916083916084,
          1.0233009708737866,
          1.0312499999999998,
          1.0312499999999998,
          1.0295566502463054,
          1.0374414976599062,
          1,
          1,
          1,
          1
         ]
        },
        {
         "hovertemplate": "<b>Bard</b><br>lvl %{x}<br>eff DPR %{y:.2f}<extra></extra>",
         "line": {
          "color": "#AB6DAC"
         },
         "marker": {
          "size": 5
         },
         "mode": "lines+markers",
         "name": "Bard",
         "type": "scatter",
         "unselected": {
          "marker": {
           "opacity": 0
          }
         },
         "x": [
          1,
          2,
          3,
          4,
          5,
          6,
          7,
          8,
          9,
          10,
          11,
          12,
          13,
          14,
          15,
          16,
          17,
          18,
          19,
          20
         ],
         "y": [
          1.2431654676258994,
          1.3484536082474226,
          1.783783783783784,
          1.7307692307692308,
          1.5647058823529414,
          1.6153846153846154,
          1.7055057618437899,
          1.7841726618705036,
          1.7461300309597523,
          1.8402890695573622,
          1.6283464566929136,
          1.6197552447552448,
          1.764637904468413,
          1.764637904468413,
          1.7506493506493508,
          1.831168831168831,
          1.6998842592592591,
          1.6998842592592591,
          1.703883495145631,
          1.701239464551314
         ]
        },
        {
         "hovertemplate": "<b>Cleric</b><br>lvl %{x}<br>eff DPR %{y:.2f}<extra></extra>",
         "line": {
          "color": "#91A1B2"
         },
         "marker": {
          "size": 5
         },
         "mode": "lines+markers",
         "name": "Cleric",
         "type": "scatter",
         "unselected": {
          "marker": {
           "opacity": 0
          }
         },
         "x": [
          1,
          2,
          3,
          4,
          5,
          6,
          7,
          8,
          9,
          10,
          11,
          12,
          13,
          14,
          15,
          16,
          17,
          18,
          19,
          20
         ],
         "y": [
          1.2431654676258994,
          1.3484536082474226,
          1.783783783783784,
          1.7307692307692308,
          1.5647058823529414,
          1.6153846153846154,
          1.7055057618437899,
          1.559748427672956,
          1.5827876520112254,
          1.6739523418241573,
          1.4985507246376812,
          1.5138888888888888,
          1.662191582002903,
          1.662191582002903,
          1.6598833441348022,
          1.736228127025275,
          1.6337041156840932,
          1.6337041156840932,
          1.6565796779566904,
          1.644178246286536
         ]
        },
        {
         "hovertemplate": "<b>Druid</b><br>lvl %{x}<br>eff DPR %{y:.2f}<extra></extra>",
         "line": {
          "color": "#7A853B"
         },
         "marker": {
          "size": 5
         },
         "mode": "lines+markers",
         "name": "Druid",
         "type": "scatter",
         "unselected": {
          "marker": {
           "opacity": 0
          }
         },
         "x": [
          1,
          2,
          3,
          4,
          5,
          6,
          7,
          8,
          9,
          10,
          11,
          12,
          13,
          14,
          15,
          16,
          17,
          18,
          19,
          20
         ],
         "y": [
          1.2431654676258994,
          1.3484536082474226,
          1.783783783783784,
          1.7307692307692308,
          1.5647058823529414,
          1.6153846153846154,
          1.7055057618437899,
          1.7841726618705036,
          1.7461300309597523,
          1.8402890695573622,
          1.6283464566929136,
          1.6197552447552448,
          1.764637904468413,
          1.764637904468413,
          1.7506493506493508,
          1.831168831168831,
          1.6998842592592591,
          1.6998842592592591,
          1.703883495145631,
          1.701239464551314
         ]
        },
        {
         "hovertemplate": "<b>Fighter</b><br>lvl %{x}<br>eff DPR %{y:.2f}<extra></extra>",
         "line": {
          "color": "#7F513E"
         },
         "marker": {
          "size": 5
         },
         "mode": "lines+markers",
         "name": "Fighter",
         "type": "scatter",
         "unselected": {
          "marker": {
           "opacity": 0
          }
         },
         "x": [
          1,
          2,
          3,
          4,
          5,
          6,
          7,
          8,
          9,
          10,
          11,
          12,
          13,
          14,
          15,
          16,
          17,
          18,
          19,
          20
         ],
         "y": [
          1,
          1.0285714285714285,
          1.0666666666666664,
          1.043478260869565,
          1.05,
          1.0434782608695654,
          1.0434782608695654,
          1.0434782608695654,
          1.0434782608695652,
          1.056,
          1.0434782608695652,
          1.0625,
          1.0714285714285716,
          1.0714285714285716,
          1.0363636363636366,
          1.0795454545454546,
          1.064,
          1.064,
          1.125,
          1.088888888888889
         ]
        },
        {
         "hovertemplate": "<b>Monk</b><br>lvl %{x}<br>eff DPR %{y:.2f}<extra></extra>",
         "line": {
          "color": "#51A5C5"
         },
         "marker": {
          "size": 5
         },
         "mode": "lines+markers",
         "name": "Monk",
         "type": "scatter",
         "unselected": {
          "marker": {
           "opacity": 0
          }
         },
         "x": [
          1,
          2,
          3,
          4,
          5,
          6,
          7,
          8,
          9,
          10,
          11,
          12,
          13,
          14,
          15,
          16,
          17,
          18,
          19,
          20
         ],
         "y": [
          1,
          1.0265060240963855,
          1.088,
          1.0726256983240223,
          1.076923076923077,
          1.038961038961039,
          1.0256410256410258,
          1.0126582278481013,
          1,
          1,
          1,
          1,
          1,
          1,
          1,
          1,
          1,
          1.1137931034482758,
          1.0833333333333333,
          1.1333333333333333
         ]
        },
        {
         "hovertemplate": "<b>Paladin</b><br>lvl %{x}<br>eff DPR %{y:.2f}<extra></extra>",
         "line": {
          "color": "#B59E54"
         },
         "marker": {
          "size": 5
         },
         "mode": "lines+markers",
         "name": "Paladin",
         "type": "scatter",
         "unselected": {
          "marker": {
           "opacity": 0
          }
         },
         "x": [
          1,
          2,
          3,
          4,
          5,
          6,
          7,
          8,
          9,
          10,
          11,
          12,
          13,
          14,
          15,
          16,
          17,
          18,
          19,
          20
         ],
         "y": [
          1,
          1.3391304347826085,
          1.5486631016042782,
          1.4664107485604605,
          1.5498694516971276,
          1.5348416289592761,
          1.6496980155306298,
          1.6077481840193704,
          1.9240875912408761,
          1.977899045020464,
          1.8308457711442785,
          1.8440409683426444,
          1.9176570458404072,
          1.9176570458404072,
          1.858307210031348,
          2.002742946708464,
          1.9205840791333015,
          1.9205840791333015,
          2.01436515291937,
          2.028692699490662
         ]
        },
        {
         "hovertemplate": "<b>Ranger</b><br>lvl %{x}<br>eff DPR %{y:.2f}<extra></extra>",
         "line": {
          "color": "#507F62"
         },
         "marker": {
          "size": 5
         },
         "mode": "lines+markers",
         "name": "Ranger",
         "type": "scatter",
         "unselected": {
          "marker": {
           "opacity": 0
          }
         },
         "x": [
          1,
          2,
          3,
          4,
          5,
          6,
          7,
          8,
          9,
          10,
          11,
          12,
          13,
          14,
          15,
          16,
          17,
          18,
          19,
          20
         ],
         "y": [
          1,
          1.4333333333333333,
          1.6979591836734693,
          1.5771971496437056,
          1.5529801324503307,
          1.5366972477064218,
          1.5317286652078774,
          1.488933601609658,
          1.6084656084656084,
          1.6581818181818182,
          1.60797342192691,
          1.575229357798165,
          1.648883374689826,
          1.648883374689826,
          1.608132530120482,
          1.623870481927711,
          1.533508887425938,
          1.533508887425938,
          1.5103708359522312,
          1.6085630498533727
         ]
        },
        {
         "hovertemplate": "<b>Rogue</b><br>lvl %{x}<br>eff DPR %{y:.2f}<extra></extra>",
         "line": {
          "color": "#555752"
         },
         "marker": {
          "size": 5
         },
         "mode": "lines+markers",
         "name": "Rogue",
         "type": "scatter",
         "unselected": {
          "marker": {
           "opacity": 0
          }
         },
         "x": [
          1,
          2,
          3,
          4,
          5,
          6,
          7,
          8,
          9,
          10,
          11,
          12,
          13,
          14,
          15,
          16,
          17,
          18,
          19,
          20
         ],
         "y": [
          1,
          1,
          1,
          1,
          1,
          1,
          1,
          1,
          1,
          1,
          1,
          1,
          1,
          1,
          1,
          1,
          1,
          1,
          1,
          1
         ]
        },
        {
         "hovertemplate": "<b>Sorcerer</b><br>lvl %{x}<br>eff DPR %{y:.2f}<extra></extra>",
         "line": {
          "color": "#992E2E"
         },
         "marker": {
          "size": 5
         },
         "mode": "lines+markers",
         "name": "Sorcerer",
         "type": "scatter",
         "unselected": {
          "marker": {
           "opacity": 0
          }
         },
         "x": [
          1,
          2,
          3,
          4,
          5,
          6,
          7,
          8,
          9,
          10,
          11,
          12,
          13,
          14,
          15,
          16,
          17,
          18,
          19,
          20
         ],
         "y": [
          1.127547169811321,
          1.3484536082474226,
          1.882352941176471,
          1.809744779582367,
          1.633333333333333,
          1.7055057618437899,
          1.8586326767091539,
          1.7991266375545854,
          1.7621313035204569,
          1.7995012468827933,
          1.632286995515695,
          1.5937500000000002,
          1.6302491103202847,
          1.5972803347280335,
          1.6017510944340212,
          1.6754221388367727,
          1.5998910675381264,
          1.5998910675381264,
          1.5928990923651893,
          1.596
         ]
        },
        {
         "hovertemplate": "<b>Warlock</b><br>lvl %{x}<br>eff DPR %{y:.2f}<extra></extra>",
         "line": {
          "color": "#7B469B"
         },
         "marker": {
          "size": 5
         },
         "mode": "lines+markers",
         "name": "Warlock",
         "type": "scatter",
         "unselected": {
          "marker": {
           "opacity": 0
          }
         },
         "x": [
          1,
          2,
          3,
          4,
          5,
          6,
          7,
          8,
          9,
          10,
          11,
          12,
          13,
          14,
          15,
          16,
          17,
          18,
          19,
          20
         ],
         "y": [
          1.017857142857143,
          1.0327868852459017,
          1.1612903225806455,
          1.0888030888030888,
          1.0775757575757574,
          1.0672268907563023,
          1.0844793713163066,
          1.0726256983240223,
          1.108974358974359,
          1.142942942942943,
          1.2034188034188034,
          1.2619731800766283,
          1.331686046511628,
          1.331686046511628,
          1.3587267904509286,
          1.4212201591511937,
          1.3297419646899047,
          1.3297419646899047,
          1.4213911386374463,
          1.3510611735330833
         ]
        },
        {
         "hovertemplate": "<b>Wizard</b><br>lvl %{x}<br>eff DPR %{y:.2f}<extra></extra>",
         "line": {
          "color": "#2A50A1"
         },
         "marker": {
          "size": 5
         },
         "mode": "lines+markers",
         "name": "Wizard",
         "type": "scatter",
         "unselected": {
          "marker": {
           "opacity": 0
          }
         },
         "x": [
          1,
          2,
          3,
          4,
          5,
          6,
          7,
          8,
          9,
          10,
          11,
          12,
          13,
          14,
          15,
          16,
          17,
          18,
          19,
          20
         ],
         "y": [
          1.2431654676258994,
          1.3484536082474226,
          1.733041575492341,
          1.6783216783216786,
          1.633333333333333,
          1.6727272727272726,
          1.7545565006075334,
          1.6986301369863017,
          1.650731707317073,
          1.751676698194325,
          1.559577677224736,
          1.5441666666666667,
          1.6767935578330897,
          1.6767935578330897,
          1.642847979474022,
          1.718409236690186,
          1.6255672385168787,
          1.6255672385168787,
          1.6048951048951048,
          1.6147764705882353
         ]
        },
        {
         "hoverinfo": "skip",
         "line": {
          "color": "black",
          "dash": "dash"
         },
         "mode": "lines",
         "name": "average",
         "type": "scatter",
         "unselected": {
          "marker": {
           "opacity": 0
          }
         },
         "x": [
          1,
          2,
          3,
          4,
          5,
          6,
          7,
          8,
          9,
          10,
          11,
          12,
          13,
          14,
          15,
          16,
          17,
          18,
          19,
          20
         ],
         "y": [
          1.0894956633472537,
          1.2034618713337824,
          1.4130391173520562,
          1.3647267688577123,
          1.331273068921549,
          1.3375257362814428,
          1.3858614054008331,
          1.3784071701489993,
          1.4233588923875686,
          1.473012784678713,
          1.39003861003861,
          1.387111461874697,
          1.4582030048395398,
          1.4557600155676096,
          1.4451740892698983,
          1.5002466330128246,
          1.434695122230833,
          1.445064989595205,
          1.471046116111715,
          1.4528526467273244
         ]
        }
       ],
       "layout": {
        "legend": {
         "orientation": "h",
         "x": 0.01,
         "xanchor": "left",
         "y": 1.04,
         "yanchor": "bottom"
        },
        "template": {
         "layout": {
          "autosize": true,
          "font": {
           "family": "sans-serif",
           "size": 14
          },
          "hovermode": "closest",
          "legend": {
           "font": {
            "size": 10
           }
          },
          "margin": {
           "b": 40,
           "l": 50,
           "pad": 4,
           "r": 25,
           "t": 20
          },
          "template": {
           "data": {
            "bar": [
             {
              "error_x": {
               "color": "#2a3f5f"
              },
              "error_y": {
               "color": "#2a3f5f"
              },
              "marker": {
               "line": {
                "color": "white",
                "width": 0.5
               },
               "pattern": {
                "fillmode": "overlay",
                "size": 10,
                "solidity": 0.2
               }
              },
              "type": "bar"
             }
            ],
            "barpolar": [
             {
              "marker": {
               "line": {
                "color": "white",
                "width": 0.5
               },
               "pattern": {
                "fillmode": "overlay",
                "size": 10,
                "solidity": 0.2
               }
              },
              "type": "barpolar"
             }
            ],
            "carpet": [
             {
              "aaxis": {
               "endlinecolor": "#2a3f5f",
               "gridcolor": "#C8D4E3",
               "linecolor": "#C8D4E3",
               "minorgridcolor": "#C8D4E3",
               "startlinecolor": "#2a3f5f"
              },
              "baxis": {
               "endlinecolor": "#2a3f5f",
               "gridcolor": "#C8D4E3",
               "linecolor": "#C8D4E3",
               "minorgridcolor": "#C8D4E3",
               "startlinecolor": "#2a3f5f"
              },
              "type": "carpet"
             }
            ],
            "choropleth": [
             {
              "colorbar": {
               "outlinewidth": 0,
               "ticks": ""
              },
              "type": "choropleth"
             }
            ],
            "contour": [
             {
              "colorbar": {
               "outlinewidth": 0,
               "ticks": ""
              },
              "colorscale": [
               [
                0,
                "#0d0887"
               ],
               [
                0.1111111111111111,
                "#46039f"
               ],
               [
                0.2222222222222222,
                "#7201a8"
               ],
               [
                0.3333333333333333,
                "#9c179e"
               ],
               [
                0.4444444444444444,
                "#bd3786"
               ],
               [
                0.5555555555555556,
                "#d8576b"
               ],
               [
                0.6666666666666666,
                "#ed7953"
               ],
               [
                0.7777777777777778,
                "#fb9f3a"
               ],
               [
                0.8888888888888888,
                "#fdca26"
               ],
               [
                1,
                "#f0f921"
               ]
              ],
              "type": "contour"
             }
            ],
            "contourcarpet": [
             {
              "colorbar": {
               "outlinewidth": 0,
               "ticks": ""
              },
              "type": "contourcarpet"
             }
            ],
            "heatmap": [
             {
              "colorbar": {
               "outlinewidth": 0,
               "ticks": ""
              },
              "colorscale": [
               [
                0,
                "#0d0887"
               ],
               [
                0.1111111111111111,
                "#46039f"
               ],
               [
                0.2222222222222222,
                "#7201a8"
               ],
               [
                0.3333333333333333,
                "#9c179e"
               ],
               [
                0.4444444444444444,
                "#bd3786"
               ],
               [
                0.5555555555555556,
                "#d8576b"
               ],
               [
                0.6666666666666666,
                "#ed7953"
               ],
               [
                0.7777777777777778,
                "#fb9f3a"
               ],
               [
                0.8888888888888888,
                "#fdca26"
               ],
               [
                1,
                "#f0f921"
               ]
              ],
              "type": "heatmap"
             }
            ],
            "heatmapgl": [
             {
              "colorbar": {
               "outlinewidth": 0,
               "ticks": ""
              },
              "colorscale": [
               [
                0,
                "#0d0887"
               ],
               [
                0.1111111111111111,
                "#46039f"
               ],
               [
                0.2222222222222222,
                "#7201a8"
               ],
               [
                0.3333333333333333,
                "#9c179e"
               ],
               [
                0.4444444444444444,
                "#bd3786"
               ],
               [
                0.5555555555555556,
                "#d8576b"
               ],
               [
                0.6666666666666666,
                "#ed7953"
               ],
               [
                0.7777777777777778,
                "#fb9f3a"
               ],
               [
                0.8888888888888888,
                "#fdca26"
               ],
               [
                1,
                "#f0f921"
               ]
              ],
              "type": "heatmapgl"
             }
            ],
            "histogram": [
             {
              "marker": {
               "pattern": {
                "fillmode": "overlay",
                "size": 10,
                "solidity": 0.2
               }
              },
              "type": "histogram"
             }
            ],
            "histogram2d": [
             {
              "colorbar": {
               "outlinewidth": 0,
               "ticks": ""
              },
              "colorscale": [
               [
                0,
                "#0d0887"
               ],
               [
                0.1111111111111111,
                "#46039f"
               ],
               [
                0.2222222222222222,
                "#7201a8"
               ],
               [
                0.3333333333333333,
                "#9c179e"
               ],
               [
                0.4444444444444444,
                "#bd3786"
               ],
               [
                0.5555555555555556,
                "#d8576b"
               ],
               [
                0.6666666666666666,
                "#ed7953"
               ],
               [
                0.7777777777777778,
                "#fb9f3a"
               ],
               [
                0.8888888888888888,
                "#fdca26"
               ],
               [
                1,
                "#f0f921"
               ]
              ],
              "type": "histogram2d"
             }
            ],
            "histogram2dcontour": [
             {
              "colorbar": {
               "outlinewidth": 0,
               "ticks": ""
              },
              "colorscale": [
               [
                0,
                "#0d0887"
               ],
               [
                0.1111111111111111,
                "#46039f"
               ],
               [
                0.2222222222222222,
                "#7201a8"
               ],
               [
                0.3333333333333333,
                "#9c179e"
               ],
               [
                0.4444444444444444,
                "#bd3786"
               ],
               [
                0.5555555555555556,
                "#d8576b"
               ],
               [
                0.6666666666666666,
                "#ed7953"
               ],
               [
                0.7777777777777778,
                "#fb9f3a"
               ],
               [
                0.8888888888888888,
                "#fdca26"
               ],
               [
                1,
                "#f0f921"
               ]
              ],
              "type": "histogram2dcontour"
             }
            ],
            "mesh3d": [
             {
              "colorbar": {
               "outlinewidth": 0,
               "ticks": ""
              },
              "type": "mesh3d"
             }
            ],
            "parcoords": [
             {
              "line": {
               "colorbar": {
                "outlinewidth": 0,
                "ticks": ""
               }
              },
              "type": "parcoords"
             }
            ],
            "pie": [
             {
              "automargin": true,
              "type": "pie"
             }
            ],
            "scatter": [
             {
              "fillpattern": {
               "fillmode": "overlay",
               "size": 10,
               "solidity": 0.2
              },
              "type": "scatter"
             }
            ],
            "scatter3d": [
             {
              "line": {
               "colorbar": {
                "outlinewidth": 0,
                "ticks": ""
               }
              },
              "marker": {
               "colorbar": {
                "outlinewidth": 0,
                "ticks": ""
               }
              },
              "type": "scatter3d"
             }
            ],
            "scattercarpet": [
             {
              "marker": {
               "colorbar": {
                "outlinewidth": 0,
                "ticks": ""
               }
              },
              "type": "scattercarpet"
             }
            ],
            "scattergeo": [
             {
              "marker": {
               "colorbar": {
                "outlinewidth": 0,
                "ticks": ""
               }
              },
              "type": "scattergeo"
             }
            ],
            "scattergl": [
             {
              "marker": {
               "colorbar": {
                "outlinewidth": 0,
                "ticks": ""
               }
              },
              "type": "scattergl"
             }
            ],
            "scattermapbox": [
             {
              "marker": {
               "colorbar": {
                "outlinewidth": 0,
                "ticks": ""
               }
              },
              "type": "scattermapbox"
             }
            ],
            "scatterpolar": [
             {
              "marker": {
               "colorbar": {
                "outlinewidth": 0,
                "ticks": ""
               }
              },
              "type": "scatterpolar"
             }
            ],
            "scatterpolargl": [
             {
              "marker": {
               "colorbar": {
                "outlinewidth": 0,
                "ticks": ""
               }
              },
              "type": "scatterpolargl"
             }
            ],
            "scatterternary": [
             {
              "marker": {
               "colorbar": {
                "outlinewidth": 0,
                "ticks": ""
               }
              },
              "type": "scatterternary"
             }
            ],
            "surface": [
             {
              "colorbar": {
               "outlinewidth": 0,
               "ticks": ""
              },
              "colorscale": [
               [
                0,
                "#0d0887"
               ],
               [
                0.1111111111111111,
                "#46039f"
               ],
               [
                0.2222222222222222,
                "#7201a8"
               ],
               [
                0.3333333333333333,
                "#9c179e"
               ],
               [
                0.4444444444444444,
                "#bd3786"
               ],
               [
                0.5555555555555556,
                "#d8576b"
               ],
               [
                0.6666666666666666,
                "#ed7953"
               ],
               [
                0.7777777777777778,
                "#fb9f3a"
               ],
               [
                0.8888888888888888,
                "#fdca26"
               ],
               [
                1,
                "#f0f921"
               ]
              ],
              "type": "surface"
             }
            ],
            "table": [
             {
              "cells": {
               "fill": {
                "color": "#EBF0F8"
               },
               "line": {
                "color": "white"
               }
              },
              "header": {
               "fill": {
                "color": "#C8D4E3"
               },
               "line": {
                "color": "white"
               }
              },
              "type": "table"
             }
            ]
           },
           "layout": {
            "annotationdefaults": {
             "arrowcolor": "#2a3f5f",
             "arrowhead": 0,
             "arrowwidth": 1
            },
            "autotypenumbers": "strict",
            "coloraxis": {
             "colorbar": {
              "outlinewidth": 0,
              "ticks": ""
             }
            },
            "colorscale": {
             "diverging": [
              [
               0,
               "#8e0152"
              ],
              [
               0.1,
               "#c51b7d"
              ],
              [
               0.2,
               "#de77ae"
              ],
              [
               0.3,
               "#f1b6da"
              ],
              [
               0.4,
               "#fde0ef"
              ],
              [
               0.5,
               "#f7f7f7"
              ],
              [
               0.6,
               "#e6f5d0"
              ],
              [
               0.7,
               "#b8e186"
              ],
              [
               0.8,
               "#7fbc41"
              ],
              [
               0.9,
               "#4d9221"
              ],
              [
               1,
               "#276419"
              ]
             ],
             "sequential": [
              [
               0,
               "#0d0887"
              ],
              [
               0.1111111111111111,
               "#46039f"
              ],
              [
               0.2222222222222222,
               "#7201a8"
              ],
              [
               0.3333333333333333,
               "#9c179e"
              ],
              [
               0.4444444444444444,
               "#bd3786"
              ],
              [
               0.5555555555555556,
               "#d8576b"
              ],
              [
               0.6666666666666666,
               "#ed7953"
              ],
              [
               0.7777777777777778,
               "#fb9f3a"
              ],
              [
               0.8888888888888888,
               "#fdca26"
              ],
              [
               1,
               "#f0f921"
              ]
             ],
             "sequentialminus": [
              [
               0,
               "#0d0887"
              ],
              [
               0.1111111111111111,
               "#46039f"
              ],
              [
               0.2222222222222222,
               "#7201a8"
              ],
              [
               0.3333333333333333,
               "#9c179e"
              ],
              [
               0.4444444444444444,
               "#bd3786"
              ],
              [
               0.5555555555555556,
               "#d8576b"
              ],
              [
               0.6666666666666666,
               "#ed7953"
              ],
              [
               0.7777777777777778,
               "#fb9f3a"
              ],
              [
               0.8888888888888888,
               "#fdca26"
              ],
              [
               1,
               "#f0f921"
              ]
             ]
            },
            "colorway": [
             "#636efa",
             "#EF553B",
             "#00cc96",
             "#ab63fa",
             "#FFA15A",
             "#19d3f3",
             "#FF6692",
             "#B6E880",
             "#FF97FF",
             "#FECB52"
            ],
            "font": {
             "color": "#2a3f5f"
            },
            "geo": {
             "bgcolor": "white",
             "lakecolor": "white",
             "landcolor": "white",
             "showlakes": true,
             "showland": true,
             "subunitcolor": "#C8D4E3"
            },
            "hoverlabel": {
             "align": "left"
            },
            "hovermode": "closest",
            "mapbox": {
             "style": "light"
            },
            "paper_bgcolor": "white",
            "plot_bgcolor": "white",
            "polar": {
             "angularaxis": {
              "gridcolor": "#EBF0F8",
              "linecolor": "#EBF0F8",
              "ticks": ""
             },
             "bgcolor": "white",
             "radialaxis": {
              "gridcolor": "#EBF0F8",
              "linecolor": "#EBF0F8",
              "ticks": ""
             }
            },
            "scene": {
             "xaxis": {
              "backgroundcolor": "white",
              "gridcolor": "#DFE8F3",
              "gridwidth": 2,
              "linecolor": "#EBF0F8",
              "showbackground": true,
              "ticks": "",
              "zerolinecolor": "#EBF0F8"
             },
             "yaxis": {
              "backgroundcolor": "white",
              "gridcolor": "#DFE8F3",
              "gridwidth": 2,
              "linecolor": "#EBF0F8",
              "showbackground": true,
              "ticks": "",
              "zerolinecolor": "#EBF0F8"
             },
             "zaxis": {
              "backgroundcolor": "white",
              "gridcolor": "#DFE8F3",
              "gridwidth": 2,
              "linecolor": "#EBF0F8",
              "showbackground": true,
              "ticks": "",
              "zerolinecolor": "#EBF0F8"
             }
            },
            "shapedefaults": {
             "line": {
              "color": "#2a3f5f"
             }
            },
            "ternary": {
             "aaxis": {
              "gridcolor": "#DFE8F3",
              "linecolor": "#A2B1C6",
              "ticks": ""
             },
             "baxis": {
              "gridcolor": "#DFE8F3",
              "linecolor": "#A2B1C6",
              "ticks": ""
             },
             "bgcolor": "white",
             "caxis": {
              "gridcolor": "#DFE8F3",
              "linecolor": "#A2B1C6",
              "ticks": ""
             }
            },
            "title": {
             "x": 0.05
            },
            "xaxis": {
             "automargin": true,
             "gridcolor": "#EBF0F8",
             "linecolor": "#EBF0F8",
             "ticks": "",
             "title": {
              "standoff": 15
             },
             "zerolinecolor": "#EBF0F8",
             "zerolinewidth": 2
            },
            "yaxis": {
             "automargin": true,
             "gridcolor": "#EBF0F8",
             "linecolor": "#EBF0F8",
             "ticks": "",
             "title": {
              "standoff": 15
             },
             "zerolinecolor": "#EBF0F8",
             "zerolinewidth": 2
            }
           }
          },
          "xaxis": {
           "automargin": true,
           "autorange": false,
           "fixedrange": true,
           "linecolor": "#444",
           "linewidth": 2,
           "minor": {
            "tickmode": "linear",
            "ticks": "outside"
           },
           "mirror": true,
           "showline": true,
           "tickmode": "linear",
           "ticks": "outside",
           "zeroline": false
          },
          "yaxis": {
           "automargin": true,
           "autorange": false,
           "fixedrange": true,
           "linecolor": "#444",
           "linewidth": 2,
           "minor": {
            "tickmode": "linear",
            "ticks": "outside"
           },
           "mirror": true,
           "showline": true,
           "tickmode": "linear",
           "ticks": "outside",
           "zeroline": false
          }
         }
        },
        "xaxis": {
         "dtick": 5,
         "minor": {
          "dtick": 1,
          "tick0": 0
         },
         "range": [
          0.8,
          20.2
         ],
         "tick0": 0,
         "title": {
          "text": "level"
         }
        },
        "yaxis": {
         "autorange": false,
         "dtick": 0.2,
         "minor": {
          "dtick": 0.1,
          "tick0": 0
         },
         "range": [
          0.9,
          2.1
         ],
         "tick0": 0,
         "title": {
          "text": "encounter DPR ratio"
         }
        }
       }
      }
     },
     "metadata": {},
     "output_type": "display_data"
    }
   ],
   "source": [
    "# Plots average encounter XP for each class on days with only one Deadly encounters and no short rest. \n",
    "n_enc = 1\n",
    "encounter_difficulty = 'Deadly'\n",
    "\n",
    "with open(f'../xp-and-player-characters/pc data - Medium 2 short rests.json', 'r') as fin:\n",
    "    pc_data0 = json.load(fin)\n",
    "\n",
    "with open(f'../xp-and-player-characters/pc data - {encounter_difficulty} 2 short rests.json', 'r') as fin:\n",
    "    pc_data1 = json.load(fin)\n",
    "\n",
    "levels = np.array(range(1,21,1))\n",
    "enc_XP_budget = 0.5 * np.array(ENCOUNTER_DIFFICULTIES['Daily']['XP'])\n",
    "\n",
    "fig = go.Figure(\n",
    "    layout=go.Layout(\n",
    "        template=TFB_TEMPLATE,\n",
    "        xaxis=dict(\n",
    "            title_text='level',\n",
    "            range=[0.8, 20.2],\n",
    "            tick0=0, dtick=5,\n",
    "            minor=dict(tick0=0, dtick=1),\n",
    "        ),\n",
    "        yaxis=dict(\n",
    "            autorange=False,\n",
    "            title_text='encounter DPR ratio',\n",
    "            range=[0.9, 2.1],\n",
    "            tick0=0, dtick=0.2,\n",
    "            minor=dict(tick0=0, dtick=0.1),\n",
    "        ),\n",
    "        legend=dict(\n",
    "            yanchor='bottom',  y=1.04,\n",
    "            xanchor='left', x=0.01,\n",
    "            orientation='h',\n",
    "        )\n",
    "    )\n",
    ")\n",
    "\n",
    "eXPmean = np.zeros(20)\n",
    "aXPmean = np.zeros(20)\n",
    "for pc in PC_CLASSES:\n",
    "    eXP = np.zeros(20)\n",
    "    for level in range(20):\n",
    "        encounters = pc_data1[pc][level]['encounters']\n",
    "        encounters = [x for x in encounters if x['type'] == 'encounter']\n",
    "        eXP[level] = np.mean([x['effective damage per round mean'] for x in encounters[0:n_enc]])\n",
    "\n",
    "    eXPmean += eXP\n",
    "    aXP  = np.array([x['effective damage per round mean'] for x in pc_data0[pc]])\n",
    "    aXPmean += aXP\n",
    "\n",
    "    fig.add_trace(go.Scatter(\n",
    "        x=levels, \n",
    "        y=eXP/aXP,\n",
    "        mode='lines+markers', \n",
    "        line={'color': PC_CLASSES[pc]['color']},\n",
    "        marker={'size': 5},\n",
    "        unselected=dict(marker=dict(opacity=0.0)),\n",
    "        name=pc,\n",
    "        hovertemplate=\n",
    "            '<b>'+pc+'</b><br>'+\n",
    "            'lvl %{x}<br>'+\n",
    "            'eff DPR %{y:.2f}'+\n",
    "            '<extra></extra>'\n",
    "    ))\n",
    "\n",
    "eXPmean /= len(PC_CLASSES)\n",
    "aXPmean /= len(PC_CLASSES)\n",
    "fig.add_trace(go.Scatter(\n",
    "    x=levels, \n",
    "    y=eXPmean/aXPmean,\n",
    "    mode='lines', \n",
    "    line=dict(color='black', dash='dash'),\n",
    "    unselected=dict(marker=dict(opacity=0.0)),\n",
    "    name='average',\n",
    "    hoverinfo='skip'\n",
    "))\n",
    "\n",
    "# show figure\n",
    "fig.show(config=TFB_CONFIG)\n",
    "\n",
    "# save large format figure\n",
    "if SAVEFIGS:\n",
    "    file_name = f'./fig-single-encounter-edpr-vs-level-{encounter_difficulty.lower()}-large.html'\n",
    "    fig_html = fig.to_html(\n",
    "        config=TFB_CONFIG,\n",
    "        include_plotlyjs=False, \n",
    "        full_html=False, \n",
    "    )\n",
    "    fig_soup = BeautifulSoup(fig_html, 'html.parser')\n",
    "    fig_soup.div['class'] = 'plotly-div-large'\n",
    "    fig_soup.div['style'] = 'aspect-ratio:600/550'\n",
    "    with open(file_name, 'wb') as fout:\n",
    "        fout.write(fig_soup.prettify('utf-8'))\n",
    "\n",
    "# save small format figure\n",
    "if SAVEFIGS:\n",
    "    fig.update_traces(marker=dict(size=4))\n",
    "    fig.update_layout(font=dict(size=10), legend=dict(font_size=8))\n",
    "    file_name = f'./fig-single-encounter-edpr-vs-level-{encounter_difficulty.lower()}-small.html'\n",
    "    fig_html = fig.to_html(\n",
    "        config=TFB_CONFIG,\n",
    "        include_plotlyjs=False, \n",
    "        full_html=False, \n",
    "    )\n",
    "    fig_soup = BeautifulSoup(fig_html, 'html.parser')\n",
    "    fig_soup.div['class'] = 'plotly-div-small'\n",
    "    fig_soup.div['style'] = 'aspect-ratio:600/600'\n",
    "    with open(file_name, 'wb') as fout:\n",
    "        fout.write(fig_soup.prettify('utf-8'))"
   ]
  },
  {
   "cell_type": "code",
   "execution_count": 104,
   "metadata": {},
   "outputs": [
    {
     "data": {
      "application/vnd.plotly.v1+json": {
       "config": {
        "autosizable": true,
        "displayModeBar": "hover",
        "displaylogo": false,
        "modeBarButtonsToRemove": [
         "select2d",
         "lasso2d",
         "zoom2d",
         "zoomIn2d",
         "zoomOut2d",
         "pan2d",
         "autoScale2d",
         "hoverClosestCartesian",
         "hoverCompareCartesian",
         "toggleSpikelines",
         "resetScale2d"
        ],
        "plotlyServerURL": "https://plot.ly",
        "responsive": true,
        "showAxisDragHandles": false,
        "toImageButtonOptions": {
         "filename": "tfb-plot",
         "format": "png",
         "height": 450,
         "scale": 2,
         "width": 600
        }
       },
       "data": [
        {
         "hovertemplate": "<b>Barbarian</b><br>lvl %{x}<br>eff HP %{y:.2f}<extra></extra>",
         "line": {
          "color": "#E7623E"
         },
         "marker": {
          "size": 5
         },
         "mode": "lines+markers",
         "name": "Barbarian",
         "type": "scatter",
         "unselected": {
          "marker": {
           "opacity": 0
          }
         },
         "x": [
          1,
          2,
          3,
          4,
          5,
          6,
          7,
          8,
          9,
          10,
          11,
          12,
          13,
          14,
          15,
          16,
          17,
          18,
          19,
          20
         ],
         "y": [
          1.2857142857142858,
          1.2857142857142858,
          1.2631578947368423,
          1.2352941176470589,
          1.235294117647059,
          1.1666666666666667,
          1.1666666666666665,
          1.1666666666666665,
          1.1666666666666667,
          1.2,
          1.1666666666666665,
          1.0588235294117647,
          1.0588235294117647,
          1.0588235294117647,
          1.0588235294117645,
          1.0588235294117645,
          0.9999999999999998,
          0.9999999999999999,
          1,
          0.9999999999999997
         ]
        },
        {
         "hovertemplate": "<b>Bard</b><br>lvl %{x}<br>eff HP %{y:.2f}<extra></extra>",
         "line": {
          "color": "#AB6DAC"
         },
         "marker": {
          "size": 5
         },
         "mode": "lines+markers",
         "name": "Bard",
         "type": "scatter",
         "unselected": {
          "marker": {
           "opacity": 0
          }
         },
         "x": [
          1,
          2,
          3,
          4,
          5,
          6,
          7,
          8,
          9,
          10,
          11,
          12,
          13,
          14,
          15,
          16,
          17,
          18,
          19,
          20
         ],
         "y": [
          1.0305882352941176,
          1.0305882352941178,
          1.0336283185840707,
          1.042953020134228,
          1.0283185840707967,
          1.0252941176470587,
          1.0252941176470587,
          1.0288184438040346,
          1.0288184438040344,
          1.0588235294117647,
          1.0413223140495869,
          1.0188679245283019,
          1.0285714285714285,
          1.0285714285714285,
          1.0490797546012272,
          1.049079754601227,
          1.049079754601227,
          1.049079754601227,
          1.0363636363636364,
          1.0640000000000003
         ]
        },
        {
         "hovertemplate": "<b>Cleric</b><br>lvl %{x}<br>eff HP %{y:.2f}<extra></extra>",
         "line": {
          "color": "#91A1B2"
         },
         "marker": {
          "size": 5
         },
         "mode": "lines+markers",
         "name": "Cleric",
         "type": "scatter",
         "unselected": {
          "marker": {
           "opacity": 0
          }
         },
         "x": [
          1,
          2,
          3,
          4,
          5,
          6,
          7,
          8,
          9,
          10,
          11,
          12,
          13,
          14,
          15,
          16,
          17,
          18,
          19,
          20
         ],
         "y": [
          1,
          1.0000000000000002,
          1,
          1,
          1.0000000000000002,
          1,
          0.9999999999999998,
          0.9999999999999999,
          0.9999999999999998,
          1,
          1.0000000000000002,
          1,
          1,
          0.9999999999999998,
          1.0000000000000002,
          1,
          1,
          1,
          1,
          0.9999999999999998
         ]
        },
        {
         "hovertemplate": "<b>Druid</b><br>lvl %{x}<br>eff HP %{y:.2f}<extra></extra>",
         "line": {
          "color": "#7A853B"
         },
         "marker": {
          "size": 5
         },
         "mode": "lines+markers",
         "name": "Druid",
         "type": "scatter",
         "unselected": {
          "marker": {
           "opacity": 0
          }
         },
         "x": [
          1,
          2,
          3,
          4,
          5,
          6,
          7,
          8,
          9,
          10,
          11,
          12,
          13,
          14,
          15,
          16,
          17,
          18,
          19,
          20
         ],
         "y": [
          1.0000000000000002,
          1,
          1,
          0.9999999999999999,
          1,
          1,
          1.0000000000000002,
          0.9999999999999999,
          1,
          1,
          1,
          1,
          1,
          1,
          1,
          0.9999999999999999,
          1,
          1,
          0.9999999999999999,
          1.0000000000000002
         ]
        },
        {
         "hovertemplate": "<b>Fighter</b><br>lvl %{x}<br>eff HP %{y:.2f}<extra></extra>",
         "line": {
          "color": "#7F513E"
         },
         "marker": {
          "size": 5
         },
         "mode": "lines+markers",
         "name": "Fighter",
         "type": "scatter",
         "unselected": {
          "marker": {
           "opacity": 0
          }
         },
         "x": [
          1,
          2,
          3,
          4,
          5,
          6,
          7,
          8,
          9,
          10,
          11,
          12,
          13,
          14,
          15,
          16,
          17,
          18,
          19,
          20
         ],
         "y": [
          1.2131147540983604,
          1.161290322580645,
          1.175983436853002,
          1.1407407407407408,
          1.129032258064516,
          1.120734908136483,
          1.1145475372279496,
          1.0985401459854016,
          1.095004095004095,
          1.1016393442622952,
          1.0897348742352142,
          1.068762278978389,
          1.0673952641165758,
          1.06046511627907,
          1.0595065312046443,
          1.058663028649386,
          1.0579150579150578,
          1.0572472594397078,
          1.0566473988439304,
          1.064638783269962
         ]
        },
        {
         "hovertemplate": "<b>Monk</b><br>lvl %{x}<br>eff HP %{y:.2f}<extra></extra>",
         "line": {
          "color": "#51A5C5"
         },
         "marker": {
          "size": 5
         },
         "mode": "lines+markers",
         "name": "Monk",
         "type": "scatter",
         "unselected": {
          "marker": {
           "opacity": 0
          }
         },
         "x": [
          1,
          2,
          3,
          4,
          5,
          6,
          7,
          8,
          9,
          10,
          11,
          12,
          13,
          14,
          15,
          16,
          17,
          18,
          19,
          20
         ],
         "y": [
          1,
          1.0000000000000002,
          1,
          1.0000000000000002,
          1.0000000000000002,
          1,
          0.9999999999999999,
          0.9999999999999999,
          1,
          1,
          1,
          0.9999999999999999,
          0.9999999999999999,
          0.9999999999999999,
          1.0000000000000002,
          1,
          1,
          1,
          0.9999999999999999,
          1
         ]
        },
        {
         "hovertemplate": "<b>Paladin</b><br>lvl %{x}<br>eff HP %{y:.2f}<extra></extra>",
         "line": {
          "color": "#B59E54"
         },
         "marker": {
          "size": 5
         },
         "mode": "lines+markers",
         "name": "Paladin",
         "type": "scatter",
         "unselected": {
          "marker": {
           "opacity": 0
          }
         },
         "x": [
          1,
          2,
          3,
          4,
          5,
          6,
          7,
          8,
          9,
          10,
          11,
          12,
          13,
          14,
          15,
          16,
          17,
          18,
          19,
          20
         ],
         "y": [
          1.0000000000000002,
          1,
          1,
          1,
          0.9999999999999998,
          1,
          1,
          1,
          1.0000000000000002,
          1,
          1.0000000000000002,
          1,
          1.0000000000000002,
          1,
          1,
          1,
          1,
          0.9999999999999998,
          1,
          1.0000000000000002
         ]
        },
        {
         "hovertemplate": "<b>Ranger</b><br>lvl %{x}<br>eff HP %{y:.2f}<extra></extra>",
         "line": {
          "color": "#507F62"
         },
         "marker": {
          "size": 5
         },
         "mode": "lines+markers",
         "name": "Ranger",
         "type": "scatter",
         "unselected": {
          "marker": {
           "opacity": 0
          }
         },
         "x": [
          1,
          2,
          3,
          4,
          5,
          6,
          7,
          8,
          9,
          10,
          11,
          12,
          13,
          14,
          15,
          16,
          17,
          18,
          19,
          20
         ],
         "y": [
          0.9999999999999998,
          1,
          1,
          0.9999999999999999,
          1,
          1.0000000000000002,
          0.9999999999999999,
          1.0000000000000002,
          1.0000000000000002,
          1,
          0.9999999999999998,
          1,
          1,
          0.9999999999999999,
          1.0000000000000002,
          1,
          1,
          1.0000000000000002,
          0.9999999999999998,
          1
         ]
        },
        {
         "hovertemplate": "<b>Rogue</b><br>lvl %{x}<br>eff HP %{y:.2f}<extra></extra>",
         "line": {
          "color": "#555752"
         },
         "marker": {
          "size": 5
         },
         "mode": "lines+markers",
         "name": "Rogue",
         "type": "scatter",
         "unselected": {
          "marker": {
           "opacity": 0
          }
         },
         "x": [
          1,
          2,
          3,
          4,
          5,
          6,
          7,
          8,
          9,
          10,
          11,
          12,
          13,
          14,
          15,
          16,
          17,
          18,
          19,
          20
         ],
         "y": [
          1.0000000000000002,
          1.0000000000000002,
          1,
          0.9999999999999999,
          1.0000000000000002,
          1,
          1,
          1,
          1,
          1,
          1,
          1,
          1.0000000000000002,
          1,
          1.0000000000000002,
          0.9999999999999998,
          1,
          1,
          1,
          1.0000000000000002
         ]
        },
        {
         "hovertemplate": "<b>Sorcerer</b><br>lvl %{x}<br>eff HP %{y:.2f}<extra></extra>",
         "line": {
          "color": "#992E2E"
         },
         "marker": {
          "size": 5
         },
         "mode": "lines+markers",
         "name": "Sorcerer",
         "type": "scatter",
         "unselected": {
          "marker": {
           "opacity": 0
          }
         },
         "x": [
          1,
          2,
          3,
          4,
          5,
          6,
          7,
          8,
          9,
          10,
          11,
          12,
          13,
          14,
          15,
          16,
          17,
          18,
          19,
          20
         ],
         "y": [
          1,
          1.0000000000000002,
          1,
          1.0000000000000002,
          0.9999999999999998,
          0.9999999999999999,
          1.0000000000000002,
          1.0000000000000002,
          1.0000000000000002,
          1,
          1.0000000000000002,
          1.0000000000000002,
          1,
          1,
          1.0000000000000002,
          1.0000000000000002,
          1,
          1,
          1,
          1
         ]
        },
        {
         "hovertemplate": "<b>Warlock</b><br>lvl %{x}<br>eff HP %{y:.2f}<extra></extra>",
         "line": {
          "color": "#7B469B"
         },
         "marker": {
          "size": 5
         },
         "mode": "lines+markers",
         "name": "Warlock",
         "type": "scatter",
         "unselected": {
          "marker": {
           "opacity": 0
          }
         },
         "x": [
          1,
          2,
          3,
          4,
          5,
          6,
          7,
          8,
          9,
          10,
          11,
          12,
          13,
          14,
          15,
          16,
          17,
          18,
          19,
          20
         ],
         "y": [
          1,
          1,
          1,
          1,
          1.0000000000000002,
          0.9999999999999999,
          0.9999999999999999,
          1,
          1,
          1,
          1,
          1,
          1.0000000000000002,
          0.9999999999999999,
          1,
          1,
          0.9999999999999999,
          1,
          1.0000000000000002,
          1
         ]
        },
        {
         "hovertemplate": "<b>Wizard</b><br>lvl %{x}<br>eff HP %{y:.2f}<extra></extra>",
         "line": {
          "color": "#2A50A1"
         },
         "marker": {
          "size": 5
         },
         "mode": "lines+markers",
         "name": "Wizard",
         "type": "scatter",
         "unselected": {
          "marker": {
           "opacity": 0
          }
         },
         "x": [
          1,
          2,
          3,
          4,
          5,
          6,
          7,
          8,
          9,
          10,
          11,
          12,
          13,
          14,
          15,
          16,
          17,
          18,
          19,
          20
         ],
         "y": [
          1,
          1.0000000000000002,
          1,
          1.0000000000000002,
          0.9999999999999998,
          0.9999999999999999,
          1.0000000000000002,
          1.0000000000000002,
          1.0000000000000002,
          1,
          1.0000000000000002,
          1.0000000000000002,
          1,
          1,
          1.0000000000000002,
          1.0000000000000002,
          1,
          1,
          1,
          1
         ]
        },
        {
         "hoverinfo": "skip",
         "line": {
          "color": "black",
          "dash": "dash"
         },
         "mode": "lines",
         "name": "average",
         "type": "scatter",
         "unselected": {
          "marker": {
           "opacity": 0
          }
         },
         "x": [
          1,
          2,
          3,
          4,
          5,
          6,
          7,
          8,
          9,
          10,
          11,
          12,
          13,
          14,
          15,
          16,
          17,
          18,
          19,
          20
         ],
         "y": [
          1.0730091984231274,
          1.0573095171643874,
          1.0566359292735628,
          1.0486545905145133,
          1.0441517843637502,
          1.0363391044439432,
          1.0346317109365115,
          1.0330926101198026,
          1.032546799451488,
          1.0383582930559587,
          1.0339226399978394,
          1.0197066292812853,
          1.020138719883183,
          1.0193275830914525,
          1.0203454575261799,
          1.0209616793120273,
          1.0120304793506143,
          1.0105005621129608,
          1.009163627776928,
          1.0110059555068884
         ]
        }
       ],
       "layout": {
        "legend": {
         "orientation": "h",
         "x": 0.01,
         "xanchor": "left",
         "y": 1.04,
         "yanchor": "bottom"
        },
        "template": {
         "layout": {
          "autosize": true,
          "font": {
           "family": "sans-serif",
           "size": 14
          },
          "hovermode": "closest",
          "legend": {
           "font": {
            "size": 10
           }
          },
          "margin": {
           "b": 40,
           "l": 50,
           "pad": 4,
           "r": 25,
           "t": 20
          },
          "template": {
           "data": {
            "bar": [
             {
              "error_x": {
               "color": "#2a3f5f"
              },
              "error_y": {
               "color": "#2a3f5f"
              },
              "marker": {
               "line": {
                "color": "white",
                "width": 0.5
               },
               "pattern": {
                "fillmode": "overlay",
                "size": 10,
                "solidity": 0.2
               }
              },
              "type": "bar"
             }
            ],
            "barpolar": [
             {
              "marker": {
               "line": {
                "color": "white",
                "width": 0.5
               },
               "pattern": {
                "fillmode": "overlay",
                "size": 10,
                "solidity": 0.2
               }
              },
              "type": "barpolar"
             }
            ],
            "carpet": [
             {
              "aaxis": {
               "endlinecolor": "#2a3f5f",
               "gridcolor": "#C8D4E3",
               "linecolor": "#C8D4E3",
               "minorgridcolor": "#C8D4E3",
               "startlinecolor": "#2a3f5f"
              },
              "baxis": {
               "endlinecolor": "#2a3f5f",
               "gridcolor": "#C8D4E3",
               "linecolor": "#C8D4E3",
               "minorgridcolor": "#C8D4E3",
               "startlinecolor": "#2a3f5f"
              },
              "type": "carpet"
             }
            ],
            "choropleth": [
             {
              "colorbar": {
               "outlinewidth": 0,
               "ticks": ""
              },
              "type": "choropleth"
             }
            ],
            "contour": [
             {
              "colorbar": {
               "outlinewidth": 0,
               "ticks": ""
              },
              "colorscale": [
               [
                0,
                "#0d0887"
               ],
               [
                0.1111111111111111,
                "#46039f"
               ],
               [
                0.2222222222222222,
                "#7201a8"
               ],
               [
                0.3333333333333333,
                "#9c179e"
               ],
               [
                0.4444444444444444,
                "#bd3786"
               ],
               [
                0.5555555555555556,
                "#d8576b"
               ],
               [
                0.6666666666666666,
                "#ed7953"
               ],
               [
                0.7777777777777778,
                "#fb9f3a"
               ],
               [
                0.8888888888888888,
                "#fdca26"
               ],
               [
                1,
                "#f0f921"
               ]
              ],
              "type": "contour"
             }
            ],
            "contourcarpet": [
             {
              "colorbar": {
               "outlinewidth": 0,
               "ticks": ""
              },
              "type": "contourcarpet"
             }
            ],
            "heatmap": [
             {
              "colorbar": {
               "outlinewidth": 0,
               "ticks": ""
              },
              "colorscale": [
               [
                0,
                "#0d0887"
               ],
               [
                0.1111111111111111,
                "#46039f"
               ],
               [
                0.2222222222222222,
                "#7201a8"
               ],
               [
                0.3333333333333333,
                "#9c179e"
               ],
               [
                0.4444444444444444,
                "#bd3786"
               ],
               [
                0.5555555555555556,
                "#d8576b"
               ],
               [
                0.6666666666666666,
                "#ed7953"
               ],
               [
                0.7777777777777778,
                "#fb9f3a"
               ],
               [
                0.8888888888888888,
                "#fdca26"
               ],
               [
                1,
                "#f0f921"
               ]
              ],
              "type": "heatmap"
             }
            ],
            "heatmapgl": [
             {
              "colorbar": {
               "outlinewidth": 0,
               "ticks": ""
              },
              "colorscale": [
               [
                0,
                "#0d0887"
               ],
               [
                0.1111111111111111,
                "#46039f"
               ],
               [
                0.2222222222222222,
                "#7201a8"
               ],
               [
                0.3333333333333333,
                "#9c179e"
               ],
               [
                0.4444444444444444,
                "#bd3786"
               ],
               [
                0.5555555555555556,
                "#d8576b"
               ],
               [
                0.6666666666666666,
                "#ed7953"
               ],
               [
                0.7777777777777778,
                "#fb9f3a"
               ],
               [
                0.8888888888888888,
                "#fdca26"
               ],
               [
                1,
                "#f0f921"
               ]
              ],
              "type": "heatmapgl"
             }
            ],
            "histogram": [
             {
              "marker": {
               "pattern": {
                "fillmode": "overlay",
                "size": 10,
                "solidity": 0.2
               }
              },
              "type": "histogram"
             }
            ],
            "histogram2d": [
             {
              "colorbar": {
               "outlinewidth": 0,
               "ticks": ""
              },
              "colorscale": [
               [
                0,
                "#0d0887"
               ],
               [
                0.1111111111111111,
                "#46039f"
               ],
               [
                0.2222222222222222,
                "#7201a8"
               ],
               [
                0.3333333333333333,
                "#9c179e"
               ],
               [
                0.4444444444444444,
                "#bd3786"
               ],
               [
                0.5555555555555556,
                "#d8576b"
               ],
               [
                0.6666666666666666,
                "#ed7953"
               ],
               [
                0.7777777777777778,
                "#fb9f3a"
               ],
               [
                0.8888888888888888,
                "#fdca26"
               ],
               [
                1,
                "#f0f921"
               ]
              ],
              "type": "histogram2d"
             }
            ],
            "histogram2dcontour": [
             {
              "colorbar": {
               "outlinewidth": 0,
               "ticks": ""
              },
              "colorscale": [
               [
                0,
                "#0d0887"
               ],
               [
                0.1111111111111111,
                "#46039f"
               ],
               [
                0.2222222222222222,
                "#7201a8"
               ],
               [
                0.3333333333333333,
                "#9c179e"
               ],
               [
                0.4444444444444444,
                "#bd3786"
               ],
               [
                0.5555555555555556,
                "#d8576b"
               ],
               [
                0.6666666666666666,
                "#ed7953"
               ],
               [
                0.7777777777777778,
                "#fb9f3a"
               ],
               [
                0.8888888888888888,
                "#fdca26"
               ],
               [
                1,
                "#f0f921"
               ]
              ],
              "type": "histogram2dcontour"
             }
            ],
            "mesh3d": [
             {
              "colorbar": {
               "outlinewidth": 0,
               "ticks": ""
              },
              "type": "mesh3d"
             }
            ],
            "parcoords": [
             {
              "line": {
               "colorbar": {
                "outlinewidth": 0,
                "ticks": ""
               }
              },
              "type": "parcoords"
             }
            ],
            "pie": [
             {
              "automargin": true,
              "type": "pie"
             }
            ],
            "scatter": [
             {
              "fillpattern": {
               "fillmode": "overlay",
               "size": 10,
               "solidity": 0.2
              },
              "type": "scatter"
             }
            ],
            "scatter3d": [
             {
              "line": {
               "colorbar": {
                "outlinewidth": 0,
                "ticks": ""
               }
              },
              "marker": {
               "colorbar": {
                "outlinewidth": 0,
                "ticks": ""
               }
              },
              "type": "scatter3d"
             }
            ],
            "scattercarpet": [
             {
              "marker": {
               "colorbar": {
                "outlinewidth": 0,
                "ticks": ""
               }
              },
              "type": "scattercarpet"
             }
            ],
            "scattergeo": [
             {
              "marker": {
               "colorbar": {
                "outlinewidth": 0,
                "ticks": ""
               }
              },
              "type": "scattergeo"
             }
            ],
            "scattergl": [
             {
              "marker": {
               "colorbar": {
                "outlinewidth": 0,
                "ticks": ""
               }
              },
              "type": "scattergl"
             }
            ],
            "scattermapbox": [
             {
              "marker": {
               "colorbar": {
                "outlinewidth": 0,
                "ticks": ""
               }
              },
              "type": "scattermapbox"
             }
            ],
            "scatterpolar": [
             {
              "marker": {
               "colorbar": {
                "outlinewidth": 0,
                "ticks": ""
               }
              },
              "type": "scatterpolar"
             }
            ],
            "scatterpolargl": [
             {
              "marker": {
               "colorbar": {
                "outlinewidth": 0,
                "ticks": ""
               }
              },
              "type": "scatterpolargl"
             }
            ],
            "scatterternary": [
             {
              "marker": {
               "colorbar": {
                "outlinewidth": 0,
                "ticks": ""
               }
              },
              "type": "scatterternary"
             }
            ],
            "surface": [
             {
              "colorbar": {
               "outlinewidth": 0,
               "ticks": ""
              },
              "colorscale": [
               [
                0,
                "#0d0887"
               ],
               [
                0.1111111111111111,
                "#46039f"
               ],
               [
                0.2222222222222222,
                "#7201a8"
               ],
               [
                0.3333333333333333,
                "#9c179e"
               ],
               [
                0.4444444444444444,
                "#bd3786"
               ],
               [
                0.5555555555555556,
                "#d8576b"
               ],
               [
                0.6666666666666666,
                "#ed7953"
               ],
               [
                0.7777777777777778,
                "#fb9f3a"
               ],
               [
                0.8888888888888888,
                "#fdca26"
               ],
               [
                1,
                "#f0f921"
               ]
              ],
              "type": "surface"
             }
            ],
            "table": [
             {
              "cells": {
               "fill": {
                "color": "#EBF0F8"
               },
               "line": {
                "color": "white"
               }
              },
              "header": {
               "fill": {
                "color": "#C8D4E3"
               },
               "line": {
                "color": "white"
               }
              },
              "type": "table"
             }
            ]
           },
           "layout": {
            "annotationdefaults": {
             "arrowcolor": "#2a3f5f",
             "arrowhead": 0,
             "arrowwidth": 1
            },
            "autotypenumbers": "strict",
            "coloraxis": {
             "colorbar": {
              "outlinewidth": 0,
              "ticks": ""
             }
            },
            "colorscale": {
             "diverging": [
              [
               0,
               "#8e0152"
              ],
              [
               0.1,
               "#c51b7d"
              ],
              [
               0.2,
               "#de77ae"
              ],
              [
               0.3,
               "#f1b6da"
              ],
              [
               0.4,
               "#fde0ef"
              ],
              [
               0.5,
               "#f7f7f7"
              ],
              [
               0.6,
               "#e6f5d0"
              ],
              [
               0.7,
               "#b8e186"
              ],
              [
               0.8,
               "#7fbc41"
              ],
              [
               0.9,
               "#4d9221"
              ],
              [
               1,
               "#276419"
              ]
             ],
             "sequential": [
              [
               0,
               "#0d0887"
              ],
              [
               0.1111111111111111,
               "#46039f"
              ],
              [
               0.2222222222222222,
               "#7201a8"
              ],
              [
               0.3333333333333333,
               "#9c179e"
              ],
              [
               0.4444444444444444,
               "#bd3786"
              ],
              [
               0.5555555555555556,
               "#d8576b"
              ],
              [
               0.6666666666666666,
               "#ed7953"
              ],
              [
               0.7777777777777778,
               "#fb9f3a"
              ],
              [
               0.8888888888888888,
               "#fdca26"
              ],
              [
               1,
               "#f0f921"
              ]
             ],
             "sequentialminus": [
              [
               0,
               "#0d0887"
              ],
              [
               0.1111111111111111,
               "#46039f"
              ],
              [
               0.2222222222222222,
               "#7201a8"
              ],
              [
               0.3333333333333333,
               "#9c179e"
              ],
              [
               0.4444444444444444,
               "#bd3786"
              ],
              [
               0.5555555555555556,
               "#d8576b"
              ],
              [
               0.6666666666666666,
               "#ed7953"
              ],
              [
               0.7777777777777778,
               "#fb9f3a"
              ],
              [
               0.8888888888888888,
               "#fdca26"
              ],
              [
               1,
               "#f0f921"
              ]
             ]
            },
            "colorway": [
             "#636efa",
             "#EF553B",
             "#00cc96",
             "#ab63fa",
             "#FFA15A",
             "#19d3f3",
             "#FF6692",
             "#B6E880",
             "#FF97FF",
             "#FECB52"
            ],
            "font": {
             "color": "#2a3f5f"
            },
            "geo": {
             "bgcolor": "white",
             "lakecolor": "white",
             "landcolor": "white",
             "showlakes": true,
             "showland": true,
             "subunitcolor": "#C8D4E3"
            },
            "hoverlabel": {
             "align": "left"
            },
            "hovermode": "closest",
            "mapbox": {
             "style": "light"
            },
            "paper_bgcolor": "white",
            "plot_bgcolor": "white",
            "polar": {
             "angularaxis": {
              "gridcolor": "#EBF0F8",
              "linecolor": "#EBF0F8",
              "ticks": ""
             },
             "bgcolor": "white",
             "radialaxis": {
              "gridcolor": "#EBF0F8",
              "linecolor": "#EBF0F8",
              "ticks": ""
             }
            },
            "scene": {
             "xaxis": {
              "backgroundcolor": "white",
              "gridcolor": "#DFE8F3",
              "gridwidth": 2,
              "linecolor": "#EBF0F8",
              "showbackground": true,
              "ticks": "",
              "zerolinecolor": "#EBF0F8"
             },
             "yaxis": {
              "backgroundcolor": "white",
              "gridcolor": "#DFE8F3",
              "gridwidth": 2,
              "linecolor": "#EBF0F8",
              "showbackground": true,
              "ticks": "",
              "zerolinecolor": "#EBF0F8"
             },
             "zaxis": {
              "backgroundcolor": "white",
              "gridcolor": "#DFE8F3",
              "gridwidth": 2,
              "linecolor": "#EBF0F8",
              "showbackground": true,
              "ticks": "",
              "zerolinecolor": "#EBF0F8"
             }
            },
            "shapedefaults": {
             "line": {
              "color": "#2a3f5f"
             }
            },
            "ternary": {
             "aaxis": {
              "gridcolor": "#DFE8F3",
              "linecolor": "#A2B1C6",
              "ticks": ""
             },
             "baxis": {
              "gridcolor": "#DFE8F3",
              "linecolor": "#A2B1C6",
              "ticks": ""
             },
             "bgcolor": "white",
             "caxis": {
              "gridcolor": "#DFE8F3",
              "linecolor": "#A2B1C6",
              "ticks": ""
             }
            },
            "title": {
             "x": 0.05
            },
            "xaxis": {
             "automargin": true,
             "gridcolor": "#EBF0F8",
             "linecolor": "#EBF0F8",
             "ticks": "",
             "title": {
              "standoff": 15
             },
             "zerolinecolor": "#EBF0F8",
             "zerolinewidth": 2
            },
            "yaxis": {
             "automargin": true,
             "gridcolor": "#EBF0F8",
             "linecolor": "#EBF0F8",
             "ticks": "",
             "title": {
              "standoff": 15
             },
             "zerolinecolor": "#EBF0F8",
             "zerolinewidth": 2
            }
           }
          },
          "xaxis": {
           "automargin": true,
           "autorange": false,
           "fixedrange": true,
           "linecolor": "#444",
           "linewidth": 2,
           "minor": {
            "tickmode": "linear",
            "ticks": "outside"
           },
           "mirror": true,
           "showline": true,
           "tickmode": "linear",
           "ticks": "outside",
           "zeroline": false
          },
          "yaxis": {
           "automargin": true,
           "autorange": false,
           "fixedrange": true,
           "linecolor": "#444",
           "linewidth": 2,
           "minor": {
            "tickmode": "linear",
            "ticks": "outside"
           },
           "mirror": true,
           "showline": true,
           "tickmode": "linear",
           "ticks": "outside",
           "zeroline": false
          }
         }
        },
        "xaxis": {
         "dtick": 5,
         "minor": {
          "dtick": 1,
          "tick0": 0
         },
         "range": [
          0.8,
          20.2
         ],
         "tick0": 0,
         "title": {
          "text": "level"
         }
        },
        "yaxis": {
         "autorange": false,
         "dtick": 0.1,
         "minor": {
          "dtick": 0.5,
          "tick0": 0
         },
         "range": [
          0.95,
          1.45
         ],
         "tick0": 0,
         "title": {
          "text": "encounter HP ratio"
         }
        }
       }
      }
     },
     "metadata": {},
     "output_type": "display_data"
    }
   ],
   "source": [
    "# Plots average encounter HP for each class on days with only one Deadly encounters and no short rest. \n",
    "n_enc = 1\n",
    "encounter_difficulty = 'Deadly'\n",
    "\n",
    "with open(f'../xp-and-player-characters/pc data - Medium 2 short rests.json', 'r') as fin:\n",
    "    pc_data0 = json.load(fin)\n",
    "\n",
    "with open(f'../xp-and-player-characters/pc data - {encounter_difficulty} 2 short rests.json', 'r') as fin:\n",
    "    pc_data1 = json.load(fin)\n",
    "\n",
    "levels = np.array(range(1,21,1))\n",
    "enc_XP_budget = 0.5 * np.array(ENCOUNTER_DIFFICULTIES['Daily']['XP'])\n",
    "\n",
    "fig = go.Figure(\n",
    "    layout=go.Layout(\n",
    "        template=TFB_TEMPLATE,\n",
    "        xaxis=dict(\n",
    "            title_text='level',\n",
    "            range=[0.8, 20.2],\n",
    "            tick0=0, dtick=5,\n",
    "            minor=dict(tick0=0, dtick=1),\n",
    "        ),\n",
    "        yaxis=dict(\n",
    "            autorange=False,\n",
    "            title_text='encounter HP ratio',\n",
    "            range=[0.95, 1.45],\n",
    "            tick0=0, dtick=0.1,\n",
    "            minor=dict(tick0=0, dtick=0.5),\n",
    "        ),\n",
    "        legend=dict(\n",
    "            yanchor='bottom',  y=1.04,\n",
    "            xanchor='left', x=0.01,\n",
    "            orientation='h',\n",
    "        )\n",
    "    )\n",
    ")\n",
    "\n",
    "eXPmean = np.zeros(20)\n",
    "aXPmean = np.zeros(20)\n",
    "for pc in PC_CLASSES:\n",
    "    eXP = np.zeros(20)\n",
    "    for level in range(20):\n",
    "        encounters = pc_data1[pc][level]['encounters']\n",
    "        encounters = [x for x in encounters if x['type'] == 'encounter']\n",
    "        eXP[level] = np.mean([x['effective hit points mean'] for x in encounters[0:n_enc]])\n",
    "\n",
    "    eXPmean += eXP\n",
    "    #aXP  = np.array([x['encounter XP mean']/x['effective damage per round mean'] for x in pc_data0[pc]])\n",
    "    for level in range(20):\n",
    "        encounters = pc_data0[pc][level]['encounters']\n",
    "        encounters = [x for x in encounters if x['type'] == 'encounter']\n",
    "        aXP[level] = np.mean([x['effective hit points mean'] for x in encounters[0:]])\n",
    "    aXPmean += aXP\n",
    "\n",
    "    fig.add_trace(go.Scatter(\n",
    "        x=levels, \n",
    "        y=eXP/aXP,\n",
    "        mode='lines+markers', \n",
    "        line={'color': PC_CLASSES[pc]['color']},\n",
    "        marker={'size': 5},\n",
    "        unselected=dict(marker=dict(opacity=0.0)),\n",
    "        name=pc,\n",
    "        hovertemplate=\n",
    "            '<b>'+pc+'</b><br>'+\n",
    "            'lvl %{x}<br>'+\n",
    "            'eff HP %{y:.2f}'+\n",
    "            '<extra></extra>'\n",
    "    ))\n",
    "\n",
    "eXPmean /= len(PC_CLASSES)\n",
    "aXPmean /= len(PC_CLASSES)\n",
    "fig.add_trace(go.Scatter(\n",
    "    x=levels, \n",
    "    y=eXPmean/aXPmean,\n",
    "    mode='lines', \n",
    "    line=dict(color='black', dash='dash'),\n",
    "    unselected=dict(marker=dict(opacity=0.0)),\n",
    "    name='average',\n",
    "    hoverinfo='skip'\n",
    "))\n",
    "\n",
    "# show figure\n",
    "fig.show(config=TFB_CONFIG)\n",
    "\n",
    "# save large format figure\n",
    "if SAVEFIGS:\n",
    "    file_name = f'./fig-single-encounter-ehp-vs-level-{encounter_difficulty.lower()}-large.html'\n",
    "    fig_html = fig.to_html(\n",
    "        config=TFB_CONFIG,\n",
    "        include_plotlyjs=False, \n",
    "        full_html=False, \n",
    "    )\n",
    "    fig_soup = BeautifulSoup(fig_html, 'html.parser')\n",
    "    fig_soup.div['class'] = 'plotly-div-large'\n",
    "    fig_soup.div['style'] = 'aspect-ratio:600/550'\n",
    "    with open(file_name, 'wb') as fout:\n",
    "        fout.write(fig_soup.prettify('utf-8'))\n",
    "\n",
    "# save small format figure\n",
    "if SAVEFIGS:\n",
    "    fig.update_traces(marker=dict(size=4))\n",
    "    fig.update_layout(font=dict(size=10), legend=dict(font_size=8))\n",
    "    file_name = f'./fig-single-encounter-ehp-vs-level-{encounter_difficulty.lower()}-small.html'\n",
    "    fig_html = fig.to_html(\n",
    "        config=TFB_CONFIG,\n",
    "        include_plotlyjs=False, \n",
    "        full_html=False, \n",
    "    )\n",
    "    fig_soup = BeautifulSoup(fig_html, 'html.parser')\n",
    "    fig_soup.div['class'] = 'plotly-div-small'\n",
    "    fig_soup.div['style'] = 'aspect-ratio:600/600'\n",
    "    with open(file_name, 'wb') as fout:\n",
    "        fout.write(fig_soup.prettify('utf-8'))"
   ]
  },
  {
   "cell_type": "code",
   "execution_count": 86,
   "metadata": {},
   "outputs": [
    {
     "data": {
      "application/vnd.plotly.v1+json": {
       "config": {
        "autosizable": true,
        "displayModeBar": "hover",
        "displaylogo": false,
        "modeBarButtonsToRemove": [
         "select2d",
         "lasso2d",
         "zoom2d",
         "zoomIn2d",
         "zoomOut2d",
         "pan2d",
         "autoScale2d",
         "hoverClosestCartesian",
         "hoverCompareCartesian",
         "toggleSpikelines",
         "resetScale2d"
        ],
        "plotlyServerURL": "https://plot.ly",
        "responsive": true,
        "showAxisDragHandles": false,
        "toImageButtonOptions": {
         "filename": "tfb-plot",
         "format": "png",
         "height": 450,
         "scale": 2,
         "width": 600
        }
       },
       "data": [
        {
         "hovertemplate": "<b>Barbarian</b><br>lvl %{x}<br>enc XP %{y:.2f}<extra></extra>",
         "line": {
          "color": "#E7623E"
         },
         "marker": {
          "size": 5
         },
         "mode": "lines+markers",
         "name": "Barbarian",
         "type": "scatter",
         "unselected": {
          "marker": {
           "opacity": 0
          }
         },
         "x": [
          1,
          2,
          3,
          4,
          5,
          6,
          7,
          8,
          9,
          10,
          11,
          12,
          13,
          14,
          15,
          16,
          17,
          18,
          19,
          20
         ],
         "y": [
          1.4275862068965517,
          1.427586206896552,
          1.3904282115869018,
          1.3192612137203166,
          1.3358778625954197,
          1.2135922330097086,
          1.2135922330097089,
          1.2089552238805972,
          1.2269129287598945,
          1.266089108910891,
          1.2269129287598943,
          1.0575250836120402,
          1.0819672131147544,
          1.081967213114754,
          1.077319587628866,
          1.0830618892508144,
          1,
          1,
          0.9999999999999999,
          1
         ]
        },
        {
         "hovertemplate": "<b>Bard</b><br>lvl %{x}<br>enc XP %{y:.2f}<extra></extra>",
         "line": {
          "color": "#AB6DAC"
         },
         "marker": {
          "size": 5
         },
         "mode": "lines+markers",
         "name": "Bard",
         "type": "scatter",
         "unselected": {
          "marker": {
           "opacity": 0
          }
         },
         "x": [
          1,
          2,
          3,
          4,
          5,
          6,
          7,
          8,
          9,
          10,
          11,
          12,
          13,
          14,
          15,
          16,
          17,
          18,
          19,
          20
         ],
         "y": [
          1.1307296279893713,
          1.1814043698543384,
          1.5066528066528069,
          1.511764705882353,
          1.289191152728447,
          1.3446969696969697,
          1.4270449521002209,
          1.4852340267459139,
          1.554143003658518,
          1.6742923509075194,
          1.444362470743869,
          1.3362152508583451,
          1.3998663709323467,
          1.3998663709323467,
          1.4648240809254813,
          1.4648240809254813,
          1.4170533195203667,
          1.4170533195203667,
          1.3798691939029224,
          1.517244737026939
         ]
        },
        {
         "hovertemplate": "<b>Cleric</b><br>lvl %{x}<br>enc XP %{y:.2f}<extra></extra>",
         "line": {
          "color": "#91A1B2"
         },
         "marker": {
          "size": 5
         },
         "mode": "lines+markers",
         "name": "Cleric",
         "type": "scatter",
         "unselected": {
          "marker": {
           "opacity": 0
          }
         },
         "x": [
          1,
          2,
          3,
          4,
          5,
          6,
          7,
          8,
          9,
          10,
          11,
          12,
          13,
          14,
          15,
          16,
          17,
          18,
          19,
          20
         ],
         "y": [
          1.1169064748201436,
          1.1675257731958766,
          1.4864864864864864,
          1.4903846153846154,
          1.286764705882353,
          1.3461538461538463,
          1.4244558258642765,
          1.3050314465408805,
          1.4148737137511693,
          1.5207477403451108,
          1.3369565217391304,
          1.28125,
          1.3421625544267055,
          1.3421625544267053,
          1.411454957874271,
          1.411454957874271,
          1.3803531701890988,
          1.380353170189099,
          1.3729872293170462,
          1.47412553905127
         ]
        },
        {
         "hovertemplate": "<b>Druid</b><br>lvl %{x}<br>enc XP %{y:.2f}<extra></extra>",
         "line": {
          "color": "#7A853B"
         },
         "marker": {
          "size": 5
         },
         "mode": "lines+markers",
         "name": "Druid",
         "type": "scatter",
         "unselected": {
          "marker": {
           "opacity": 0
          }
         },
         "x": [
          1,
          2,
          3,
          4,
          5,
          6,
          7,
          8,
          9,
          10,
          11,
          12,
          13,
          14,
          15,
          16,
          17,
          18,
          19,
          20
         ],
         "y": [
          1.1169064748201438,
          1.1675257731958764,
          1.4864864864864866,
          1.4903846153846154,
          1.286764705882353,
          1.3461538461538463,
          1.4244558258642765,
          1.4928057553956833,
          1.5608875128998965,
          1.6718608852755195,
          1.452755905511811,
          1.3708479020979023,
          1.4248844375963021,
          1.424884437596302,
          1.4886363636363635,
          1.4886363636363635,
          1.4362702546296295,
          1.4362702546296295,
          1.412193032552827,
          1.5252850768468023
         ]
        },
        {
         "hovertemplate": "<b>Fighter</b><br>lvl %{x}<br>enc XP %{y:.2f}<extra></extra>",
         "line": {
          "color": "#7F513E"
         },
         "marker": {
          "size": 5
         },
         "mode": "lines+markers",
         "name": "Fighter",
         "type": "scatter",
         "unselected": {
          "marker": {
           "opacity": 0
          }
         },
         "x": [
          1,
          2,
          3,
          4,
          5,
          6,
          7,
          8,
          9,
          10,
          11,
          12,
          13,
          14,
          15,
          16,
          17,
          18,
          19,
          20
         ],
         "y": [
          1.0000000000000002,
          0.9594594594594594,
          1.0306859205776173,
          0.9862258953168045,
          0.9965277777777779,
          0.9851155503329416,
          0.9847707049965777,
          0.9838753757857339,
          0.9836769759450171,
          1.0084094684385383,
          0.9833809135399674,
          0.9504844961240311,
          0.962242268041237,
          0.9624505928853755,
          0.96754666492625,
          0.9676033869186402,
          0.9456686930091186,
          0.9457178478948883,
          0.9348817326873753,
          0.9770408163265306
         ]
        },
        {
         "hovertemplate": "<b>Monk</b><br>lvl %{x}<br>enc XP %{y:.2f}<extra></extra>",
         "line": {
          "color": "#51A5C5"
         },
         "marker": {
          "size": 5
         },
         "mode": "lines+markers",
         "name": "Monk",
         "type": "scatter",
         "unselected": {
          "marker": {
           "opacity": 0
          }
         },
         "x": [
          1,
          2,
          3,
          4,
          5,
          6,
          7,
          8,
          9,
          10,
          11,
          12,
          13,
          14,
          15,
          16,
          17,
          18,
          19,
          20
         ],
         "y": [
          1,
          0.966867469879518,
          1,
          0.9636871508379887,
          0.9759615384615385,
          0.974025974025974,
          0.9935897435897436,
          1.0126582278481013,
          1,
          1,
          1,
          1.0000000000000002,
          1,
          1,
          1,
          1,
          1,
          1.0646551724137931,
          1.083333333333333,
          1.0833333333333333
         ]
        },
        {
         "hovertemplate": "<b>Paladin</b><br>lvl %{x}<br>enc XP %{y:.2f}<extra></extra>",
         "line": {
          "color": "#B59E54"
         },
         "marker": {
          "size": 5
         },
         "mode": "lines+markers",
         "name": "Paladin",
         "type": "scatter",
         "unselected": {
          "marker": {
           "opacity": 0
          }
         },
         "x": [
          1,
          2,
          3,
          4,
          5,
          6,
          7,
          8,
          9,
          10,
          11,
          12,
          13,
          14,
          15,
          16,
          17,
          18,
          19,
          20
         ],
         "y": [
          1,
          1.1630434782608696,
          1.2887700534759359,
          1.2332053742802302,
          1.297650130548303,
          1.2850678733031675,
          1.3416738567730802,
          1.3196125907990315,
          1.4817518248175183,
          1.5231923601637107,
          1.430348258706468,
          1.3652234636871508,
          1.4325127334465195,
          1.4325127334465195,
          1.4629702194357366,
          1.4629702194357366,
          1.5527555346208195,
          1.5527555346208195,
          1.5639481000926787,
          1.6712648556876062
         ]
        },
        {
         "hovertemplate": "<b>Ranger</b><br>lvl %{x}<br>enc XP %{y:.2f}<extra></extra>",
         "line": {
          "color": "#507F62"
         },
         "marker": {
          "size": 5
         },
         "mode": "lines+markers",
         "name": "Ranger",
         "type": "scatter",
         "unselected": {
          "marker": {
           "opacity": 0
          }
         },
         "x": [
          1,
          2,
          3,
          4,
          5,
          6,
          7,
          8,
          9,
          10,
          11,
          12,
          13,
          14,
          15,
          16,
          17,
          18,
          19,
          20
         ],
         "y": [
          1,
          1.2083333333333333,
          1.3673469387755102,
          1.288598574821853,
          1.3443708609271523,
          1.3302752293577982,
          1.3840262582056893,
          1.3531187122736417,
          1.4351851851851851,
          1.4795454545454545,
          1.441029900332226,
          1.3529816513761468,
          1.392059553349876,
          1.3920595533498759,
          1.4342996987951808,
          1.4342996987951806,
          1.4212475312705728,
          1.421247531270573,
          1.3816781898177246,
          1.5041788856304987
         ]
        },
        {
         "hovertemplate": "<b>Rogue</b><br>lvl %{x}<br>enc XP %{y:.2f}<extra></extra>",
         "line": {
          "color": "#555752"
         },
         "marker": {
          "size": 5
         },
         "mode": "lines+markers",
         "name": "Rogue",
         "type": "scatter",
         "unselected": {
          "marker": {
           "opacity": 0
          }
         },
         "x": [
          1,
          2,
          3,
          4,
          5,
          6,
          7,
          8,
          9,
          10,
          11,
          12,
          13,
          14,
          15,
          16,
          17,
          18,
          19,
          20
         ],
         "y": [
          1,
          1,
          1,
          1,
          0.9999999999999999,
          1,
          1,
          1.0000000000000002,
          1,
          0.9999999999999998,
          1,
          1,
          1,
          1,
          1,
          1,
          1,
          0.9999999999999999,
          1,
          1.0000000000000002
         ]
        },
        {
         "hovertemplate": "<b>Sorcerer</b><br>lvl %{x}<br>enc XP %{y:.2f}<extra></extra>",
         "line": {
          "color": "#992E2E"
         },
         "marker": {
          "size": 5
         },
         "mode": "lines+markers",
         "name": "Sorcerer",
         "type": "scatter",
         "unselected": {
          "marker": {
           "opacity": 0
          }
         },
         "x": [
          1,
          2,
          3,
          4,
          5,
          6,
          7,
          8,
          9,
          10,
          11,
          12,
          13,
          14,
          15,
          16,
          17,
          18,
          19,
          20
         ],
         "y": [
          1.0613207547169814,
          1.1675257731958764,
          1.5359477124183007,
          1.5255220417633413,
          1.3611111111111112,
          1.4244558258642765,
          1.5266512166859791,
          1.544759825327511,
          1.6008563273073266,
          1.629883624272652,
          1.4536621823617337,
          1.333266129032258,
          1.3804270462633452,
          1.3980125523012554,
          1.448170731707317,
          1.448170731707317,
          1.4268110021786493,
          1.426811002178649,
          1.355045381740523,
          1.43093023255814
         ]
        },
        {
         "hovertemplate": "<b>Warlock</b><br>lvl %{x}<br>enc XP %{y:.2f}<extra></extra>",
         "line": {
          "color": "#7B469B"
         },
         "marker": {
          "size": 5
         },
         "mode": "lines+markers",
         "name": "Warlock",
         "type": "scatter",
         "unselected": {
          "marker": {
           "opacity": 0
          }
         },
         "x": [
          1,
          2,
          3,
          4,
          5,
          6,
          7,
          8,
          9,
          10,
          11,
          12,
          13,
          14,
          15,
          16,
          17,
          18,
          19,
          20
         ],
         "y": [
          0.9776785714285714,
          0.9590163934426229,
          1.0000000000000002,
          0.9555984555984554,
          0.9757575757575757,
          0.9663865546218489,
          0.9577603143418467,
          0.9636871508379888,
          0.9455128205128205,
          0.9744744744744746,
          1.0213675213675213,
          0.9729406130268199,
          1.0569767441860465,
          1.0569767441860465,
          1.146551724137931,
          1.1465517241379313,
          1.1858872793119055,
          1.185887279311906,
          1.1823487374940447,
          1.2049001248439448
         ]
        },
        {
         "hovertemplate": "<b>Wizard</b><br>lvl %{x}<br>enc XP %{y:.2f}<extra></extra>",
         "line": {
          "color": "#2A50A1"
         },
         "marker": {
          "size": 5
         },
         "mode": "lines+markers",
         "name": "Wizard",
         "type": "scatter",
         "unselected": {
          "marker": {
           "opacity": 0
          }
         },
         "x": [
          1,
          2,
          3,
          4,
          5,
          6,
          7,
          8,
          9,
          10,
          11,
          12,
          13,
          14,
          15,
          16,
          17,
          18,
          19,
          20
         ],
         "y": [
          1.1169064748201438,
          1.1675257731958764,
          1.529540481400438,
          1.5209790209790208,
          1.3611111111111112,
          1.4090909090909092,
          1.4793438639125152,
          1.5011415525114158,
          1.5439024390243903,
          1.5913585554600176,
          1.391402714932127,
          1.3068750000000002,
          1.419838945827233,
          1.419838945827233,
          1.4411481719050672,
          1.4411481719050674,
          1.411593801881572,
          1.4115938018815717,
          1.3652501344809036,
          1.447764705882353
         ]
        },
        {
         "hoverinfo": "skip",
         "line": {
          "color": "black",
          "dash": "dash"
         },
         "mode": "lines",
         "name": "average",
         "type": "scatter",
         "unselected": {
          "marker": {
           "opacity": 0
          }
         },
         "x": [
          1,
          2,
          3,
          4,
          5,
          6,
          7,
          8,
          9,
          10,
          11,
          12,
          13,
          14,
          15,
          16,
          17,
          18,
          19,
          20
         ],
         "y": [
          1.0886613839825794,
          1.1246143046089851,
          1.2532752015752824,
          1.215390499411279,
          1.1890491953217246,
          1.18110113696849,
          1.2126463507197716,
          1.213920129796206,
          1.2676598434295934,
          1.3154351699400633,
          1.2322753788818965,
          1.1577260268863097,
          1.2000673445041943,
          1.1954640922740318,
          1.2251254686058783,
          1.2219669969026683,
          1.2084335749871469,
          1.2034874144300016,
          1.2027050456624242,
          1.2265027018656467
         ]
        }
       ],
       "layout": {
        "legend": {
         "orientation": "h",
         "x": 0.01,
         "xanchor": "left",
         "y": 1.04,
         "yanchor": "bottom"
        },
        "template": {
         "layout": {
          "autosize": true,
          "font": {
           "family": "sans-serif",
           "size": 14
          },
          "hovermode": "closest",
          "legend": {
           "font": {
            "size": 10
           }
          },
          "margin": {
           "b": 40,
           "l": 50,
           "pad": 4,
           "r": 25,
           "t": 20
          },
          "template": {
           "data": {
            "bar": [
             {
              "error_x": {
               "color": "#2a3f5f"
              },
              "error_y": {
               "color": "#2a3f5f"
              },
              "marker": {
               "line": {
                "color": "white",
                "width": 0.5
               },
               "pattern": {
                "fillmode": "overlay",
                "size": 10,
                "solidity": 0.2
               }
              },
              "type": "bar"
             }
            ],
            "barpolar": [
             {
              "marker": {
               "line": {
                "color": "white",
                "width": 0.5
               },
               "pattern": {
                "fillmode": "overlay",
                "size": 10,
                "solidity": 0.2
               }
              },
              "type": "barpolar"
             }
            ],
            "carpet": [
             {
              "aaxis": {
               "endlinecolor": "#2a3f5f",
               "gridcolor": "#C8D4E3",
               "linecolor": "#C8D4E3",
               "minorgridcolor": "#C8D4E3",
               "startlinecolor": "#2a3f5f"
              },
              "baxis": {
               "endlinecolor": "#2a3f5f",
               "gridcolor": "#C8D4E3",
               "linecolor": "#C8D4E3",
               "minorgridcolor": "#C8D4E3",
               "startlinecolor": "#2a3f5f"
              },
              "type": "carpet"
             }
            ],
            "choropleth": [
             {
              "colorbar": {
               "outlinewidth": 0,
               "ticks": ""
              },
              "type": "choropleth"
             }
            ],
            "contour": [
             {
              "colorbar": {
               "outlinewidth": 0,
               "ticks": ""
              },
              "colorscale": [
               [
                0,
                "#0d0887"
               ],
               [
                0.1111111111111111,
                "#46039f"
               ],
               [
                0.2222222222222222,
                "#7201a8"
               ],
               [
                0.3333333333333333,
                "#9c179e"
               ],
               [
                0.4444444444444444,
                "#bd3786"
               ],
               [
                0.5555555555555556,
                "#d8576b"
               ],
               [
                0.6666666666666666,
                "#ed7953"
               ],
               [
                0.7777777777777778,
                "#fb9f3a"
               ],
               [
                0.8888888888888888,
                "#fdca26"
               ],
               [
                1,
                "#f0f921"
               ]
              ],
              "type": "contour"
             }
            ],
            "contourcarpet": [
             {
              "colorbar": {
               "outlinewidth": 0,
               "ticks": ""
              },
              "type": "contourcarpet"
             }
            ],
            "heatmap": [
             {
              "colorbar": {
               "outlinewidth": 0,
               "ticks": ""
              },
              "colorscale": [
               [
                0,
                "#0d0887"
               ],
               [
                0.1111111111111111,
                "#46039f"
               ],
               [
                0.2222222222222222,
                "#7201a8"
               ],
               [
                0.3333333333333333,
                "#9c179e"
               ],
               [
                0.4444444444444444,
                "#bd3786"
               ],
               [
                0.5555555555555556,
                "#d8576b"
               ],
               [
                0.6666666666666666,
                "#ed7953"
               ],
               [
                0.7777777777777778,
                "#fb9f3a"
               ],
               [
                0.8888888888888888,
                "#fdca26"
               ],
               [
                1,
                "#f0f921"
               ]
              ],
              "type": "heatmap"
             }
            ],
            "heatmapgl": [
             {
              "colorbar": {
               "outlinewidth": 0,
               "ticks": ""
              },
              "colorscale": [
               [
                0,
                "#0d0887"
               ],
               [
                0.1111111111111111,
                "#46039f"
               ],
               [
                0.2222222222222222,
                "#7201a8"
               ],
               [
                0.3333333333333333,
                "#9c179e"
               ],
               [
                0.4444444444444444,
                "#bd3786"
               ],
               [
                0.5555555555555556,
                "#d8576b"
               ],
               [
                0.6666666666666666,
                "#ed7953"
               ],
               [
                0.7777777777777778,
                "#fb9f3a"
               ],
               [
                0.8888888888888888,
                "#fdca26"
               ],
               [
                1,
                "#f0f921"
               ]
              ],
              "type": "heatmapgl"
             }
            ],
            "histogram": [
             {
              "marker": {
               "pattern": {
                "fillmode": "overlay",
                "size": 10,
                "solidity": 0.2
               }
              },
              "type": "histogram"
             }
            ],
            "histogram2d": [
             {
              "colorbar": {
               "outlinewidth": 0,
               "ticks": ""
              },
              "colorscale": [
               [
                0,
                "#0d0887"
               ],
               [
                0.1111111111111111,
                "#46039f"
               ],
               [
                0.2222222222222222,
                "#7201a8"
               ],
               [
                0.3333333333333333,
                "#9c179e"
               ],
               [
                0.4444444444444444,
                "#bd3786"
               ],
               [
                0.5555555555555556,
                "#d8576b"
               ],
               [
                0.6666666666666666,
                "#ed7953"
               ],
               [
                0.7777777777777778,
                "#fb9f3a"
               ],
               [
                0.8888888888888888,
                "#fdca26"
               ],
               [
                1,
                "#f0f921"
               ]
              ],
              "type": "histogram2d"
             }
            ],
            "histogram2dcontour": [
             {
              "colorbar": {
               "outlinewidth": 0,
               "ticks": ""
              },
              "colorscale": [
               [
                0,
                "#0d0887"
               ],
               [
                0.1111111111111111,
                "#46039f"
               ],
               [
                0.2222222222222222,
                "#7201a8"
               ],
               [
                0.3333333333333333,
                "#9c179e"
               ],
               [
                0.4444444444444444,
                "#bd3786"
               ],
               [
                0.5555555555555556,
                "#d8576b"
               ],
               [
                0.6666666666666666,
                "#ed7953"
               ],
               [
                0.7777777777777778,
                "#fb9f3a"
               ],
               [
                0.8888888888888888,
                "#fdca26"
               ],
               [
                1,
                "#f0f921"
               ]
              ],
              "type": "histogram2dcontour"
             }
            ],
            "mesh3d": [
             {
              "colorbar": {
               "outlinewidth": 0,
               "ticks": ""
              },
              "type": "mesh3d"
             }
            ],
            "parcoords": [
             {
              "line": {
               "colorbar": {
                "outlinewidth": 0,
                "ticks": ""
               }
              },
              "type": "parcoords"
             }
            ],
            "pie": [
             {
              "automargin": true,
              "type": "pie"
             }
            ],
            "scatter": [
             {
              "fillpattern": {
               "fillmode": "overlay",
               "size": 10,
               "solidity": 0.2
              },
              "type": "scatter"
             }
            ],
            "scatter3d": [
             {
              "line": {
               "colorbar": {
                "outlinewidth": 0,
                "ticks": ""
               }
              },
              "marker": {
               "colorbar": {
                "outlinewidth": 0,
                "ticks": ""
               }
              },
              "type": "scatter3d"
             }
            ],
            "scattercarpet": [
             {
              "marker": {
               "colorbar": {
                "outlinewidth": 0,
                "ticks": ""
               }
              },
              "type": "scattercarpet"
             }
            ],
            "scattergeo": [
             {
              "marker": {
               "colorbar": {
                "outlinewidth": 0,
                "ticks": ""
               }
              },
              "type": "scattergeo"
             }
            ],
            "scattergl": [
             {
              "marker": {
               "colorbar": {
                "outlinewidth": 0,
                "ticks": ""
               }
              },
              "type": "scattergl"
             }
            ],
            "scattermapbox": [
             {
              "marker": {
               "colorbar": {
                "outlinewidth": 0,
                "ticks": ""
               }
              },
              "type": "scattermapbox"
             }
            ],
            "scatterpolar": [
             {
              "marker": {
               "colorbar": {
                "outlinewidth": 0,
                "ticks": ""
               }
              },
              "type": "scatterpolar"
             }
            ],
            "scatterpolargl": [
             {
              "marker": {
               "colorbar": {
                "outlinewidth": 0,
                "ticks": ""
               }
              },
              "type": "scatterpolargl"
             }
            ],
            "scatterternary": [
             {
              "marker": {
               "colorbar": {
                "outlinewidth": 0,
                "ticks": ""
               }
              },
              "type": "scatterternary"
             }
            ],
            "surface": [
             {
              "colorbar": {
               "outlinewidth": 0,
               "ticks": ""
              },
              "colorscale": [
               [
                0,
                "#0d0887"
               ],
               [
                0.1111111111111111,
                "#46039f"
               ],
               [
                0.2222222222222222,
                "#7201a8"
               ],
               [
                0.3333333333333333,
                "#9c179e"
               ],
               [
                0.4444444444444444,
                "#bd3786"
               ],
               [
                0.5555555555555556,
                "#d8576b"
               ],
               [
                0.6666666666666666,
                "#ed7953"
               ],
               [
                0.7777777777777778,
                "#fb9f3a"
               ],
               [
                0.8888888888888888,
                "#fdca26"
               ],
               [
                1,
                "#f0f921"
               ]
              ],
              "type": "surface"
             }
            ],
            "table": [
             {
              "cells": {
               "fill": {
                "color": "#EBF0F8"
               },
               "line": {
                "color": "white"
               }
              },
              "header": {
               "fill": {
                "color": "#C8D4E3"
               },
               "line": {
                "color": "white"
               }
              },
              "type": "table"
             }
            ]
           },
           "layout": {
            "annotationdefaults": {
             "arrowcolor": "#2a3f5f",
             "arrowhead": 0,
             "arrowwidth": 1
            },
            "autotypenumbers": "strict",
            "coloraxis": {
             "colorbar": {
              "outlinewidth": 0,
              "ticks": ""
             }
            },
            "colorscale": {
             "diverging": [
              [
               0,
               "#8e0152"
              ],
              [
               0.1,
               "#c51b7d"
              ],
              [
               0.2,
               "#de77ae"
              ],
              [
               0.3,
               "#f1b6da"
              ],
              [
               0.4,
               "#fde0ef"
              ],
              [
               0.5,
               "#f7f7f7"
              ],
              [
               0.6,
               "#e6f5d0"
              ],
              [
               0.7,
               "#b8e186"
              ],
              [
               0.8,
               "#7fbc41"
              ],
              [
               0.9,
               "#4d9221"
              ],
              [
               1,
               "#276419"
              ]
             ],
             "sequential": [
              [
               0,
               "#0d0887"
              ],
              [
               0.1111111111111111,
               "#46039f"
              ],
              [
               0.2222222222222222,
               "#7201a8"
              ],
              [
               0.3333333333333333,
               "#9c179e"
              ],
              [
               0.4444444444444444,
               "#bd3786"
              ],
              [
               0.5555555555555556,
               "#d8576b"
              ],
              [
               0.6666666666666666,
               "#ed7953"
              ],
              [
               0.7777777777777778,
               "#fb9f3a"
              ],
              [
               0.8888888888888888,
               "#fdca26"
              ],
              [
               1,
               "#f0f921"
              ]
             ],
             "sequentialminus": [
              [
               0,
               "#0d0887"
              ],
              [
               0.1111111111111111,
               "#46039f"
              ],
              [
               0.2222222222222222,
               "#7201a8"
              ],
              [
               0.3333333333333333,
               "#9c179e"
              ],
              [
               0.4444444444444444,
               "#bd3786"
              ],
              [
               0.5555555555555556,
               "#d8576b"
              ],
              [
               0.6666666666666666,
               "#ed7953"
              ],
              [
               0.7777777777777778,
               "#fb9f3a"
              ],
              [
               0.8888888888888888,
               "#fdca26"
              ],
              [
               1,
               "#f0f921"
              ]
             ]
            },
            "colorway": [
             "#636efa",
             "#EF553B",
             "#00cc96",
             "#ab63fa",
             "#FFA15A",
             "#19d3f3",
             "#FF6692",
             "#B6E880",
             "#FF97FF",
             "#FECB52"
            ],
            "font": {
             "color": "#2a3f5f"
            },
            "geo": {
             "bgcolor": "white",
             "lakecolor": "white",
             "landcolor": "white",
             "showlakes": true,
             "showland": true,
             "subunitcolor": "#C8D4E3"
            },
            "hoverlabel": {
             "align": "left"
            },
            "hovermode": "closest",
            "mapbox": {
             "style": "light"
            },
            "paper_bgcolor": "white",
            "plot_bgcolor": "white",
            "polar": {
             "angularaxis": {
              "gridcolor": "#EBF0F8",
              "linecolor": "#EBF0F8",
              "ticks": ""
             },
             "bgcolor": "white",
             "radialaxis": {
              "gridcolor": "#EBF0F8",
              "linecolor": "#EBF0F8",
              "ticks": ""
             }
            },
            "scene": {
             "xaxis": {
              "backgroundcolor": "white",
              "gridcolor": "#DFE8F3",
              "gridwidth": 2,
              "linecolor": "#EBF0F8",
              "showbackground": true,
              "ticks": "",
              "zerolinecolor": "#EBF0F8"
             },
             "yaxis": {
              "backgroundcolor": "white",
              "gridcolor": "#DFE8F3",
              "gridwidth": 2,
              "linecolor": "#EBF0F8",
              "showbackground": true,
              "ticks": "",
              "zerolinecolor": "#EBF0F8"
             },
             "zaxis": {
              "backgroundcolor": "white",
              "gridcolor": "#DFE8F3",
              "gridwidth": 2,
              "linecolor": "#EBF0F8",
              "showbackground": true,
              "ticks": "",
              "zerolinecolor": "#EBF0F8"
             }
            },
            "shapedefaults": {
             "line": {
              "color": "#2a3f5f"
             }
            },
            "ternary": {
             "aaxis": {
              "gridcolor": "#DFE8F3",
              "linecolor": "#A2B1C6",
              "ticks": ""
             },
             "baxis": {
              "gridcolor": "#DFE8F3",
              "linecolor": "#A2B1C6",
              "ticks": ""
             },
             "bgcolor": "white",
             "caxis": {
              "gridcolor": "#DFE8F3",
              "linecolor": "#A2B1C6",
              "ticks": ""
             }
            },
            "title": {
             "x": 0.05
            },
            "xaxis": {
             "automargin": true,
             "gridcolor": "#EBF0F8",
             "linecolor": "#EBF0F8",
             "ticks": "",
             "title": {
              "standoff": 15
             },
             "zerolinecolor": "#EBF0F8",
             "zerolinewidth": 2
            },
            "yaxis": {
             "automargin": true,
             "gridcolor": "#EBF0F8",
             "linecolor": "#EBF0F8",
             "ticks": "",
             "title": {
              "standoff": 15
             },
             "zerolinecolor": "#EBF0F8",
             "zerolinewidth": 2
            }
           }
          },
          "xaxis": {
           "automargin": true,
           "autorange": false,
           "fixedrange": true,
           "linecolor": "#444",
           "linewidth": 2,
           "minor": {
            "tickmode": "linear",
            "ticks": "outside"
           },
           "mirror": true,
           "showline": true,
           "tickmode": "linear",
           "ticks": "outside",
           "zeroline": false
          },
          "yaxis": {
           "automargin": true,
           "autorange": false,
           "fixedrange": true,
           "linecolor": "#444",
           "linewidth": 2,
           "minor": {
            "tickmode": "linear",
            "ticks": "outside"
           },
           "mirror": true,
           "showline": true,
           "tickmode": "linear",
           "ticks": "outside",
           "zeroline": false
          }
         }
        },
        "xaxis": {
         "dtick": 5,
         "minor": {
          "dtick": 1,
          "tick0": 0
         },
         "range": [
          0.8,
          20.2
         ],
         "tick0": 0,
         "title": {
          "text": "level"
         }
        },
        "yaxis": {
         "autorange": false,
         "dtick": 0.2,
         "minor": {
          "dtick": 0.1,
          "tick0": 0
         },
         "range": [
          0.9,
          1.7
         ],
         "tick0": 0,
         "title": {
          "text": "encounter XP ratio"
         }
        }
       }
      }
     },
     "metadata": {},
     "output_type": "display_data"
    }
   ],
   "source": [
    "# Plots average encounter XP for each class on days with only two Hard encounters and no short rest. \n",
    "n_enc = 2\n",
    "encounter_difficulty = 'Hard'\n",
    "\n",
    "with open(f'../xp-and-player-characters/pc data - Medium 2 short rests.json', 'r') as fin:\n",
    "    pc_data0 = json.load(fin)\n",
    "\n",
    "with open(f'../xp-and-player-characters/pc data - {encounter_difficulty} 2 short rests.json', 'r') as fin:\n",
    "    pc_data1 = json.load(fin)\n",
    "\n",
    "\n",
    "levels = np.array(range(1,21,1))\n",
    "enc_XP_budget = 0.5 * np.array(ENCOUNTER_DIFFICULTIES['Daily']['XP'])\n",
    "\n",
    "fig = go.Figure(\n",
    "    layout=go.Layout(\n",
    "        template=TFB_TEMPLATE,\n",
    "        xaxis=dict(\n",
    "            title_text='level',\n",
    "            range=[0.8, 20.2],\n",
    "            tick0=0, dtick=5,\n",
    "            minor=dict(tick0=0, dtick=1),\n",
    "        ),\n",
    "        yaxis=dict(\n",
    "            autorange=False,\n",
    "            title_text='encounter XP ratio',\n",
    "            range=[0.9, 1.7],\n",
    "            tick0=0, dtick=0.2,\n",
    "            minor=dict(tick0=0, dtick=0.1),\n",
    "        ),\n",
    "        legend=dict(\n",
    "            yanchor='bottom',  y=1.04,\n",
    "            xanchor='left', x=0.01,\n",
    "            orientation='h',\n",
    "        )\n",
    "    )\n",
    ")\n",
    "\n",
    "eXPmean = np.zeros(20)\n",
    "aXPmean = np.zeros(20)\n",
    "for pc in PC_CLASSES:\n",
    "    eXP = np.zeros(20)\n",
    "    for level in range(20):\n",
    "        encounters = pc_data1[pc][level]['encounters']\n",
    "        encounters = [x for x in encounters if x['type'] == 'encounter']\n",
    "        eXP[level] = np.mean([x['XP mean'] for x in encounters[0:n_enc]])\n",
    "\n",
    "    eXPmean += eXP\n",
    "    aXP  = np.array([x['encounter XP mean'] for x in pc_data0[pc]])\n",
    "    aXPmean += aXP\n",
    "    fig.add_trace(go.Scatter(\n",
    "        x=levels, \n",
    "        y=eXP/aXP,\n",
    "        mode='lines+markers', \n",
    "        line={'color': PC_CLASSES[pc]['color']},\n",
    "        marker={'size': 5},\n",
    "        unselected=dict(marker=dict(opacity=0.0)),\n",
    "        name=pc,\n",
    "        hovertemplate=\n",
    "            '<b>'+pc+'</b><br>'+\n",
    "            'lvl %{x}<br>'+\n",
    "            'enc XP %{y:.2f}'+\n",
    "            '<extra></extra>'\n",
    "    ))\n",
    "\n",
    "eXPmean /= len(PC_CLASSES)\n",
    "aXPmean /= len(PC_CLASSES)\n",
    "fig.add_trace(go.Scatter(\n",
    "    x=levels, \n",
    "    y=eXPmean/aXPmean,\n",
    "    mode='lines', \n",
    "    line=dict(color='black', dash='dash'),\n",
    "    unselected=dict(marker=dict(opacity=0.0)),\n",
    "    name='average',\n",
    "    hoverinfo='skip'\n",
    "))\n",
    "\n",
    "# show figure\n",
    "fig.show(config=TFB_CONFIG)\n",
    "\n",
    "# save large format figure\n",
    "if SAVEFIGS:\n",
    "    file_name = f'./fig-two-encounters-xp-vs-level-{encounter_difficulty.lower()}-large.html'\n",
    "    fig_html = fig.to_html(\n",
    "        config=TFB_CONFIG,\n",
    "        include_plotlyjs=False, \n",
    "        full_html=False, \n",
    "    )\n",
    "    fig_soup = BeautifulSoup(fig_html, 'html.parser')\n",
    "    fig_soup.div['class'] = 'plotly-div-large'\n",
    "    fig_soup.div['style'] = 'aspect-ratio:600/550'\n",
    "    with open(file_name, 'wb') as fout:\n",
    "        fout.write(fig_soup.prettify('utf-8'))\n",
    "\n",
    "# save small format figure\n",
    "if SAVEFIGS:\n",
    "    fig.update_traces(marker=dict(size=4))\n",
    "    fig.update_layout(font=dict(size=10), legend=dict(font_size=8))\n",
    "    file_name = f'./fig-two-encounters-xp-vs-level-{encounter_difficulty.lower()}-small.html'\n",
    "    fig_html = fig.to_html(\n",
    "        config=TFB_CONFIG,\n",
    "        include_plotlyjs=False, \n",
    "        full_html=False, \n",
    "    )\n",
    "    fig_soup = BeautifulSoup(fig_html, 'html.parser')\n",
    "    fig_soup.div['class'] = 'plotly-div-small'\n",
    "    fig_soup.div['style'] = 'aspect-ratio:600/600'\n",
    "    with open(file_name, 'wb') as fout:\n",
    "        fout.write(fig_soup.prettify('utf-8'))"
   ]
  },
  {
   "cell_type": "code",
   "execution_count": 85,
   "metadata": {},
   "outputs": [
    {
     "data": {
      "application/vnd.plotly.v1+json": {
       "config": {
        "autosizable": true,
        "displayModeBar": "hover",
        "displaylogo": false,
        "modeBarButtonsToRemove": [
         "select2d",
         "lasso2d",
         "zoom2d",
         "zoomIn2d",
         "zoomOut2d",
         "pan2d",
         "autoScale2d",
         "hoverClosestCartesian",
         "hoverCompareCartesian",
         "toggleSpikelines",
         "resetScale2d"
        ],
        "plotlyServerURL": "https://plot.ly",
        "responsive": true,
        "showAxisDragHandles": false,
        "toImageButtonOptions": {
         "filename": "tfb-plot",
         "format": "png",
         "height": 450,
         "scale": 2,
         "width": 600
        }
       },
       "data": [
        {
         "hovertemplate": "<b>Barbarian</b><br>lvl %{x}<br>enc XP %{y:.2f}<extra></extra>",
         "line": {
          "color": "#E7623E"
         },
         "marker": {
          "size": 5
         },
         "mode": "lines+markers",
         "name": "Barbarian",
         "type": "scatter",
         "unselected": {
          "marker": {
           "opacity": 0
          }
         },
         "x": [
          1,
          2,
          3,
          4,
          5,
          6,
          7,
          8,
          9,
          10,
          11,
          12,
          13,
          14,
          15,
          16,
          17,
          18,
          19,
          20
         ],
         "y": [
          1.4275862068965517,
          1.427586206896552,
          1.3904282115869018,
          1.3192612137203166,
          1.3358778625954197,
          1.2135922330097086,
          1.2135922330097089,
          1.2089552238805972,
          1.2269129287598945,
          1.266089108910891,
          1.226912928759894,
          1.0575250836120402,
          1.0819672131147544,
          1.081967213114754,
          1.0773195876288657,
          1.0830618892508144,
          0.9999999999999999,
          1,
          0.9999999999999999,
          1
         ]
        },
        {
         "hovertemplate": "<b>Bard</b><br>lvl %{x}<br>enc XP %{y:.2f}<extra></extra>",
         "line": {
          "color": "#AB6DAC"
         },
         "marker": {
          "size": 5
         },
         "mode": "lines+markers",
         "name": "Bard",
         "type": "scatter",
         "unselected": {
          "marker": {
           "opacity": 0
          }
         },
         "x": [
          1,
          2,
          3,
          4,
          5,
          6,
          7,
          8,
          9,
          10,
          11,
          12,
          13,
          14,
          15,
          16,
          17,
          18,
          19,
          20
         ],
         "y": [
          1.0815943312666079,
          1.1131348955034834,
          1.3528482328482332,
          1.3386851211072666,
          1.2152470132386182,
          1.2667613636363635,
          1.3308516685966942,
          1.383989598811293,
          1.4554778269322026,
          1.570267934312878,
          1.4340083443573828,
          1.3895226492413333,
          1.4495422910527305,
          1.4495422910527305,
          1.4245885145012547,
          1.5329120720460576,
          1.3730167739375772,
          1.3730167739375772,
          1.4434993333573565,
          1.4488797226283898
         ]
        },
        {
         "hovertemplate": "<b>Cleric</b><br>lvl %{x}<br>enc XP %{y:.2f}<extra></extra>",
         "line": {
          "color": "#91A1B2"
         },
         "marker": {
          "size": 5
         },
         "mode": "lines+markers",
         "name": "Cleric",
         "type": "scatter",
         "unselected": {
          "marker": {
           "opacity": 0
          }
         },
         "x": [
          1,
          2,
          3,
          4,
          5,
          6,
          7,
          8,
          9,
          10,
          11,
          12,
          13,
          14,
          15,
          16,
          17,
          18,
          19,
          20
         ],
         "y": [
          1.0748201438848919,
          1.1072164948453609,
          1.3405405405405406,
          1.3269230769230769,
          1.1941176470588235,
          1.2403846153846152,
          1.3008962868117797,
          1.209643605870021,
          1.2890551917680075,
          1.3684470008216927,
          1.276449275362319,
          1.28125,
          1.3421625544267055,
          1.3421625544267053,
          1.311714193130266,
          1.411454957874271,
          1.2831340378197995,
          1.2831340378197997,
          1.3729872293170462,
          1.3423095352180165
         ]
        },
        {
         "hovertemplate": "<b>Druid</b><br>lvl %{x}<br>enc XP %{y:.2f}<extra></extra>",
         "line": {
          "color": "#7A853B"
         },
         "marker": {
          "size": 5
         },
         "mode": "lines+markers",
         "name": "Druid",
         "type": "scatter",
         "unselected": {
          "marker": {
           "opacity": 0
          }
         },
         "x": [
          1,
          2,
          3,
          4,
          5,
          6,
          7,
          8,
          9,
          10,
          11,
          12,
          13,
          14,
          15,
          16,
          17,
          18,
          19,
          20
         ],
         "y": [
          1.0748201438848919,
          1.1072164948453609,
          1.3405405405405406,
          1.326923076923077,
          1.1941176470588235,
          1.2403846153846154,
          1.3008962868117797,
          1.3537170263788971,
          1.422084623323013,
          1.5044263775971092,
          1.387007874015748,
          1.3708479020979023,
          1.4248844375963021,
          1.424884437596302,
          1.3834415584415587,
          1.4886363636363635,
          1.3351128472222222,
          1.3351128472222222,
          1.412193032552827,
          1.3888943976202284
         ]
        },
        {
         "hovertemplate": "<b>Fighter</b><br>lvl %{x}<br>enc XP %{y:.2f}<extra></extra>",
         "line": {
          "color": "#7F513E"
         },
         "marker": {
          "size": 5
         },
         "mode": "lines+markers",
         "name": "Fighter",
         "type": "scatter",
         "unselected": {
          "marker": {
           "opacity": 0
          }
         },
         "x": [
          1,
          2,
          3,
          4,
          5,
          6,
          7,
          8,
          9,
          10,
          11,
          12,
          13,
          14,
          15,
          16,
          17,
          18,
          19,
          20
         ],
         "y": [
          1.213114754098361,
          1.191891891891892,
          1.2303249097472924,
          1.1636363636363636,
          1.1666666666666667,
          1.170779475127301,
          1.1654688569472964,
          1.1516807871003005,
          1.1251840942562592,
          1.1511627906976745,
          1.1440660685154977,
          1.12015503875969,
          1.1327319587628863,
          1.1264822134387351,
          1.108912021929252,
          1.1308135967603385,
          1.1472188449848024,
          1.1467056679773664,
          1.1721288116272441,
          1.1428571428571428
         ]
        },
        {
         "hovertemplate": "<b>Monk</b><br>lvl %{x}<br>enc XP %{y:.2f}<extra></extra>",
         "line": {
          "color": "#51A5C5"
         },
         "marker": {
          "size": 5
         },
         "mode": "lines+markers",
         "name": "Monk",
         "type": "scatter",
         "unselected": {
          "marker": {
           "opacity": 0
          }
         },
         "x": [
          1,
          2,
          3,
          4,
          5,
          6,
          7,
          8,
          9,
          10,
          11,
          12,
          13,
          14,
          15,
          16,
          17,
          18,
          19,
          20
         ],
         "y": [
          1,
          1.0463855421686745,
          1.0880000000000003,
          1.0726256983240223,
          1.076923076923077,
          1.0389610389610389,
          1.0256410256410255,
          1.0126582278481013,
          1,
          1,
          1,
          1.0000000000000002,
          1,
          1,
          1,
          1,
          1,
          1.0892241379310343,
          1.083333333333333,
          1.1333333333333337
         ]
        },
        {
         "hovertemplate": "<b>Paladin</b><br>lvl %{x}<br>enc XP %{y:.2f}<extra></extra>",
         "line": {
          "color": "#B59E54"
         },
         "marker": {
          "size": 5
         },
         "mode": "lines+markers",
         "name": "Paladin",
         "type": "scatter",
         "unselected": {
          "marker": {
           "opacity": 0
          }
         },
         "x": [
          1,
          2,
          3,
          4,
          5,
          6,
          7,
          8,
          9,
          10,
          11,
          12,
          13,
          14,
          15,
          16,
          17,
          18,
          19,
          20
         ],
         "y": [
          1,
          1.1043478260869566,
          1.2021390374331553,
          1.1554702495201536,
          1.177023498694517,
          1.1656108597285066,
          1.2044866264020706,
          1.1912832929782082,
          1.3124087591240878,
          1.3491132332878581,
          1.2802653399668324,
          1.3652234636871508,
          1.4325127334465195,
          1.4325127334465195,
          1.3460815047021941,
          1.4629702194357366,
          1.376448422044277,
          1.376448422044277,
          1.5639481000926787,
          1.4421901528013583
         ]
        },
        {
         "hovertemplate": "<b>Ranger</b><br>lvl %{x}<br>enc XP %{y:.2f}<extra></extra>",
         "line": {
          "color": "#507F62"
         },
         "marker": {
          "size": 5
         },
         "mode": "lines+markers",
         "name": "Ranger",
         "type": "scatter",
         "unselected": {
          "marker": {
           "opacity": 0
          }
         },
         "x": [
          1,
          2,
          3,
          4,
          5,
          6,
          7,
          8,
          9,
          10,
          11,
          12,
          13,
          14,
          15,
          16,
          17,
          18,
          19,
          20
         ],
         "y": [
          1,
          1.1333333333333333,
          1.2571428571428571,
          1.1923990498812354,
          1.2331125827814569,
          1.235665137614679,
          1.2855579868708973,
          1.2625754527162978,
          1.3298059964726632,
          1.3709090909090909,
          1.3750000000000002,
          1.3529816513761468,
          1.392059553349876,
          1.3920595533498759,
          1.3495293674698796,
          1.4342996987951806,
          1.354641211323239,
          1.354641211323239,
          1.3816781898177246,
          1.4004105571847507
         ]
        },
        {
         "hovertemplate": "<b>Rogue</b><br>lvl %{x}<br>enc XP %{y:.2f}<extra></extra>",
         "line": {
          "color": "#555752"
         },
         "marker": {
          "size": 5
         },
         "mode": "lines+markers",
         "name": "Rogue",
         "type": "scatter",
         "unselected": {
          "marker": {
           "opacity": 0
          }
         },
         "x": [
          1,
          2,
          3,
          4,
          5,
          6,
          7,
          8,
          9,
          10,
          11,
          12,
          13,
          14,
          15,
          16,
          17,
          18,
          19,
          20
         ],
         "y": [
          1,
          1,
          1,
          1,
          0.9999999999999999,
          1,
          1,
          1.0000000000000002,
          1,
          0.9999999999999998,
          1,
          1,
          1,
          1,
          1,
          1,
          1,
          0.9999999999999999,
          1,
          1.0000000000000002
         ]
        },
        {
         "hovertemplate": "<b>Sorcerer</b><br>lvl %{x}<br>enc XP %{y:.2f}<extra></extra>",
         "line": {
          "color": "#992E2E"
         },
         "marker": {
          "size": 5
         },
         "mode": "lines+markers",
         "name": "Sorcerer",
         "type": "scatter",
         "unselected": {
          "marker": {
           "opacity": 0
          }
         },
         "x": [
          1,
          2,
          3,
          4,
          5,
          6,
          7,
          8,
          9,
          10,
          11,
          12,
          13,
          14,
          15,
          16,
          17,
          18,
          19,
          20
         ],
         "y": [
          1.0392452830188679,
          1.1072164948453609,
          1.3751633986928107,
          1.3503480278422275,
          1.2444444444444445,
          1.3008962868117795,
          1.3754345307068367,
          1.4344978165938866,
          1.4405328258801142,
          1.5087281795511225,
          1.3804185351270553,
          1.333266129032258,
          1.3804270462633452,
          1.3980125523012554,
          1.3682614133833646,
          1.448170731707317,
          1.3316040305010894,
          1.331604030501089,
          1.355045381740523,
          1.3596279069767443
         ]
        },
        {
         "hovertemplate": "<b>Warlock</b><br>lvl %{x}<br>enc XP %{y:.2f}<extra></extra>",
         "line": {
          "color": "#7B469B"
         },
         "marker": {
          "size": 5
         },
         "mode": "lines+markers",
         "name": "Warlock",
         "type": "scatter",
         "unselected": {
          "marker": {
           "opacity": 0
          }
         },
         "x": [
          1,
          2,
          3,
          4,
          5,
          6,
          7,
          8,
          9,
          10,
          11,
          12,
          13,
          14,
          15,
          16,
          17,
          18,
          19,
          20
         ],
         "y": [
          1.03125,
          1.057377049180328,
          1.1612903225806455,
          1.0888030888030884,
          1.0775757575757576,
          1.1008403361344539,
          1.1267190569744596,
          1.1089385474860336,
          1.108974358974359,
          1.142942942942943,
          1.1615384615384614,
          1.164272030651341,
          1.1799418604651164,
          1.1799418604651164,
          1.1745225464190983,
          1.205769230769231,
          1.137935717519239,
          1.1379357175192393,
          1.1823487374940447,
          1.1334581772784016
         ]
        },
        {
         "hovertemplate": "<b>Wizard</b><br>lvl %{x}<br>enc XP %{y:.2f}<extra></extra>",
         "line": {
          "color": "#2A50A1"
         },
         "marker": {
          "size": 5
         },
         "mode": "lines+markers",
         "name": "Wizard",
         "type": "scatter",
         "unselected": {
          "marker": {
           "opacity": 0
          }
         },
         "x": [
          1,
          2,
          3,
          4,
          5,
          6,
          7,
          8,
          9,
          10,
          11,
          12,
          13,
          14,
          15,
          16,
          17,
          18,
          19,
          20
         ],
         "y": [
          1.074820143884892,
          1.1072164948453609,
          1.3706783369803064,
          1.3473193473193474,
          1.2444444444444445,
          1.2909090909090912,
          1.345078979343864,
          1.408675799086758,
          1.3990243902439026,
          1.484952708512468,
          1.3284313725490198,
          1.3068750000000002,
          1.419838945827233,
          1.419838945827233,
          1.359188582424631,
          1.4411481719050674,
          1.314858882125069,
          1.314858882125069,
          1.3652501344809036,
          1.3756235294117647
         ]
        },
        {
         "hoverinfo": "skip",
         "line": {
          "color": "black",
          "dash": "dash"
         },
         "mode": "lines",
         "name": "average",
         "type": "scatter",
         "unselected": {
          "marker": {
           "opacity": 0
          }
         },
         "x": [
          1,
          2,
          3,
          4,
          5,
          6,
          7,
          8,
          9,
          10,
          11,
          12,
          13,
          14,
          15,
          16,
          17,
          18,
          19,
          20
         ],
         "y": [
          1.1160820145879833,
          1.149208375736269,
          1.240714032609854,
          1.1993025150459071,
          1.1810308933598466,
          1.175007649970469,
          1.1953894802153258,
          1.1943592330162345,
          1.229762917816697,
          1.2749476182712425,
          1.2272397840862606,
          1.199395562315665,
          1.2360579371503646,
          1.2318022704260456,
          1.2058242735754647,
          1.2533799923649351,
          1.1873595953451248,
          1.18737424610051,
          1.2363372848639207,
          1.203010434619665
         ]
        }
       ],
       "layout": {
        "legend": {
         "orientation": "h",
         "x": 0.01,
         "xanchor": "left",
         "y": 1.04,
         "yanchor": "bottom"
        },
        "template": {
         "layout": {
          "autosize": true,
          "font": {
           "family": "sans-serif",
           "size": 14
          },
          "hovermode": "closest",
          "legend": {
           "font": {
            "size": 10
           }
          },
          "margin": {
           "b": 40,
           "l": 50,
           "pad": 4,
           "r": 25,
           "t": 20
          },
          "template": {
           "data": {
            "bar": [
             {
              "error_x": {
               "color": "#2a3f5f"
              },
              "error_y": {
               "color": "#2a3f5f"
              },
              "marker": {
               "line": {
                "color": "white",
                "width": 0.5
               },
               "pattern": {
                "fillmode": "overlay",
                "size": 10,
                "solidity": 0.2
               }
              },
              "type": "bar"
             }
            ],
            "barpolar": [
             {
              "marker": {
               "line": {
                "color": "white",
                "width": 0.5
               },
               "pattern": {
                "fillmode": "overlay",
                "size": 10,
                "solidity": 0.2
               }
              },
              "type": "barpolar"
             }
            ],
            "carpet": [
             {
              "aaxis": {
               "endlinecolor": "#2a3f5f",
               "gridcolor": "#C8D4E3",
               "linecolor": "#C8D4E3",
               "minorgridcolor": "#C8D4E3",
               "startlinecolor": "#2a3f5f"
              },
              "baxis": {
               "endlinecolor": "#2a3f5f",
               "gridcolor": "#C8D4E3",
               "linecolor": "#C8D4E3",
               "minorgridcolor": "#C8D4E3",
               "startlinecolor": "#2a3f5f"
              },
              "type": "carpet"
             }
            ],
            "choropleth": [
             {
              "colorbar": {
               "outlinewidth": 0,
               "ticks": ""
              },
              "type": "choropleth"
             }
            ],
            "contour": [
             {
              "colorbar": {
               "outlinewidth": 0,
               "ticks": ""
              },
              "colorscale": [
               [
                0,
                "#0d0887"
               ],
               [
                0.1111111111111111,
                "#46039f"
               ],
               [
                0.2222222222222222,
                "#7201a8"
               ],
               [
                0.3333333333333333,
                "#9c179e"
               ],
               [
                0.4444444444444444,
                "#bd3786"
               ],
               [
                0.5555555555555556,
                "#d8576b"
               ],
               [
                0.6666666666666666,
                "#ed7953"
               ],
               [
                0.7777777777777778,
                "#fb9f3a"
               ],
               [
                0.8888888888888888,
                "#fdca26"
               ],
               [
                1,
                "#f0f921"
               ]
              ],
              "type": "contour"
             }
            ],
            "contourcarpet": [
             {
              "colorbar": {
               "outlinewidth": 0,
               "ticks": ""
              },
              "type": "contourcarpet"
             }
            ],
            "heatmap": [
             {
              "colorbar": {
               "outlinewidth": 0,
               "ticks": ""
              },
              "colorscale": [
               [
                0,
                "#0d0887"
               ],
               [
                0.1111111111111111,
                "#46039f"
               ],
               [
                0.2222222222222222,
                "#7201a8"
               ],
               [
                0.3333333333333333,
                "#9c179e"
               ],
               [
                0.4444444444444444,
                "#bd3786"
               ],
               [
                0.5555555555555556,
                "#d8576b"
               ],
               [
                0.6666666666666666,
                "#ed7953"
               ],
               [
                0.7777777777777778,
                "#fb9f3a"
               ],
               [
                0.8888888888888888,
                "#fdca26"
               ],
               [
                1,
                "#f0f921"
               ]
              ],
              "type": "heatmap"
             }
            ],
            "heatmapgl": [
             {
              "colorbar": {
               "outlinewidth": 0,
               "ticks": ""
              },
              "colorscale": [
               [
                0,
                "#0d0887"
               ],
               [
                0.1111111111111111,
                "#46039f"
               ],
               [
                0.2222222222222222,
                "#7201a8"
               ],
               [
                0.3333333333333333,
                "#9c179e"
               ],
               [
                0.4444444444444444,
                "#bd3786"
               ],
               [
                0.5555555555555556,
                "#d8576b"
               ],
               [
                0.6666666666666666,
                "#ed7953"
               ],
               [
                0.7777777777777778,
                "#fb9f3a"
               ],
               [
                0.8888888888888888,
                "#fdca26"
               ],
               [
                1,
                "#f0f921"
               ]
              ],
              "type": "heatmapgl"
             }
            ],
            "histogram": [
             {
              "marker": {
               "pattern": {
                "fillmode": "overlay",
                "size": 10,
                "solidity": 0.2
               }
              },
              "type": "histogram"
             }
            ],
            "histogram2d": [
             {
              "colorbar": {
               "outlinewidth": 0,
               "ticks": ""
              },
              "colorscale": [
               [
                0,
                "#0d0887"
               ],
               [
                0.1111111111111111,
                "#46039f"
               ],
               [
                0.2222222222222222,
                "#7201a8"
               ],
               [
                0.3333333333333333,
                "#9c179e"
               ],
               [
                0.4444444444444444,
                "#bd3786"
               ],
               [
                0.5555555555555556,
                "#d8576b"
               ],
               [
                0.6666666666666666,
                "#ed7953"
               ],
               [
                0.7777777777777778,
                "#fb9f3a"
               ],
               [
                0.8888888888888888,
                "#fdca26"
               ],
               [
                1,
                "#f0f921"
               ]
              ],
              "type": "histogram2d"
             }
            ],
            "histogram2dcontour": [
             {
              "colorbar": {
               "outlinewidth": 0,
               "ticks": ""
              },
              "colorscale": [
               [
                0,
                "#0d0887"
               ],
               [
                0.1111111111111111,
                "#46039f"
               ],
               [
                0.2222222222222222,
                "#7201a8"
               ],
               [
                0.3333333333333333,
                "#9c179e"
               ],
               [
                0.4444444444444444,
                "#bd3786"
               ],
               [
                0.5555555555555556,
                "#d8576b"
               ],
               [
                0.6666666666666666,
                "#ed7953"
               ],
               [
                0.7777777777777778,
                "#fb9f3a"
               ],
               [
                0.8888888888888888,
                "#fdca26"
               ],
               [
                1,
                "#f0f921"
               ]
              ],
              "type": "histogram2dcontour"
             }
            ],
            "mesh3d": [
             {
              "colorbar": {
               "outlinewidth": 0,
               "ticks": ""
              },
              "type": "mesh3d"
             }
            ],
            "parcoords": [
             {
              "line": {
               "colorbar": {
                "outlinewidth": 0,
                "ticks": ""
               }
              },
              "type": "parcoords"
             }
            ],
            "pie": [
             {
              "automargin": true,
              "type": "pie"
             }
            ],
            "scatter": [
             {
              "fillpattern": {
               "fillmode": "overlay",
               "size": 10,
               "solidity": 0.2
              },
              "type": "scatter"
             }
            ],
            "scatter3d": [
             {
              "line": {
               "colorbar": {
                "outlinewidth": 0,
                "ticks": ""
               }
              },
              "marker": {
               "colorbar": {
                "outlinewidth": 0,
                "ticks": ""
               }
              },
              "type": "scatter3d"
             }
            ],
            "scattercarpet": [
             {
              "marker": {
               "colorbar": {
                "outlinewidth": 0,
                "ticks": ""
               }
              },
              "type": "scattercarpet"
             }
            ],
            "scattergeo": [
             {
              "marker": {
               "colorbar": {
                "outlinewidth": 0,
                "ticks": ""
               }
              },
              "type": "scattergeo"
             }
            ],
            "scattergl": [
             {
              "marker": {
               "colorbar": {
                "outlinewidth": 0,
                "ticks": ""
               }
              },
              "type": "scattergl"
             }
            ],
            "scattermapbox": [
             {
              "marker": {
               "colorbar": {
                "outlinewidth": 0,
                "ticks": ""
               }
              },
              "type": "scattermapbox"
             }
            ],
            "scatterpolar": [
             {
              "marker": {
               "colorbar": {
                "outlinewidth": 0,
                "ticks": ""
               }
              },
              "type": "scatterpolar"
             }
            ],
            "scatterpolargl": [
             {
              "marker": {
               "colorbar": {
                "outlinewidth": 0,
                "ticks": ""
               }
              },
              "type": "scatterpolargl"
             }
            ],
            "scatterternary": [
             {
              "marker": {
               "colorbar": {
                "outlinewidth": 0,
                "ticks": ""
               }
              },
              "type": "scatterternary"
             }
            ],
            "surface": [
             {
              "colorbar": {
               "outlinewidth": 0,
               "ticks": ""
              },
              "colorscale": [
               [
                0,
                "#0d0887"
               ],
               [
                0.1111111111111111,
                "#46039f"
               ],
               [
                0.2222222222222222,
                "#7201a8"
               ],
               [
                0.3333333333333333,
                "#9c179e"
               ],
               [
                0.4444444444444444,
                "#bd3786"
               ],
               [
                0.5555555555555556,
                "#d8576b"
               ],
               [
                0.6666666666666666,
                "#ed7953"
               ],
               [
                0.7777777777777778,
                "#fb9f3a"
               ],
               [
                0.8888888888888888,
                "#fdca26"
               ],
               [
                1,
                "#f0f921"
               ]
              ],
              "type": "surface"
             }
            ],
            "table": [
             {
              "cells": {
               "fill": {
                "color": "#EBF0F8"
               },
               "line": {
                "color": "white"
               }
              },
              "header": {
               "fill": {
                "color": "#C8D4E3"
               },
               "line": {
                "color": "white"
               }
              },
              "type": "table"
             }
            ]
           },
           "layout": {
            "annotationdefaults": {
             "arrowcolor": "#2a3f5f",
             "arrowhead": 0,
             "arrowwidth": 1
            },
            "autotypenumbers": "strict",
            "coloraxis": {
             "colorbar": {
              "outlinewidth": 0,
              "ticks": ""
             }
            },
            "colorscale": {
             "diverging": [
              [
               0,
               "#8e0152"
              ],
              [
               0.1,
               "#c51b7d"
              ],
              [
               0.2,
               "#de77ae"
              ],
              [
               0.3,
               "#f1b6da"
              ],
              [
               0.4,
               "#fde0ef"
              ],
              [
               0.5,
               "#f7f7f7"
              ],
              [
               0.6,
               "#e6f5d0"
              ],
              [
               0.7,
               "#b8e186"
              ],
              [
               0.8,
               "#7fbc41"
              ],
              [
               0.9,
               "#4d9221"
              ],
              [
               1,
               "#276419"
              ]
             ],
             "sequential": [
              [
               0,
               "#0d0887"
              ],
              [
               0.1111111111111111,
               "#46039f"
              ],
              [
               0.2222222222222222,
               "#7201a8"
              ],
              [
               0.3333333333333333,
               "#9c179e"
              ],
              [
               0.4444444444444444,
               "#bd3786"
              ],
              [
               0.5555555555555556,
               "#d8576b"
              ],
              [
               0.6666666666666666,
               "#ed7953"
              ],
              [
               0.7777777777777778,
               "#fb9f3a"
              ],
              [
               0.8888888888888888,
               "#fdca26"
              ],
              [
               1,
               "#f0f921"
              ]
             ],
             "sequentialminus": [
              [
               0,
               "#0d0887"
              ],
              [
               0.1111111111111111,
               "#46039f"
              ],
              [
               0.2222222222222222,
               "#7201a8"
              ],
              [
               0.3333333333333333,
               "#9c179e"
              ],
              [
               0.4444444444444444,
               "#bd3786"
              ],
              [
               0.5555555555555556,
               "#d8576b"
              ],
              [
               0.6666666666666666,
               "#ed7953"
              ],
              [
               0.7777777777777778,
               "#fb9f3a"
              ],
              [
               0.8888888888888888,
               "#fdca26"
              ],
              [
               1,
               "#f0f921"
              ]
             ]
            },
            "colorway": [
             "#636efa",
             "#EF553B",
             "#00cc96",
             "#ab63fa",
             "#FFA15A",
             "#19d3f3",
             "#FF6692",
             "#B6E880",
             "#FF97FF",
             "#FECB52"
            ],
            "font": {
             "color": "#2a3f5f"
            },
            "geo": {
             "bgcolor": "white",
             "lakecolor": "white",
             "landcolor": "white",
             "showlakes": true,
             "showland": true,
             "subunitcolor": "#C8D4E3"
            },
            "hoverlabel": {
             "align": "left"
            },
            "hovermode": "closest",
            "mapbox": {
             "style": "light"
            },
            "paper_bgcolor": "white",
            "plot_bgcolor": "white",
            "polar": {
             "angularaxis": {
              "gridcolor": "#EBF0F8",
              "linecolor": "#EBF0F8",
              "ticks": ""
             },
             "bgcolor": "white",
             "radialaxis": {
              "gridcolor": "#EBF0F8",
              "linecolor": "#EBF0F8",
              "ticks": ""
             }
            },
            "scene": {
             "xaxis": {
              "backgroundcolor": "white",
              "gridcolor": "#DFE8F3",
              "gridwidth": 2,
              "linecolor": "#EBF0F8",
              "showbackground": true,
              "ticks": "",
              "zerolinecolor": "#EBF0F8"
             },
             "yaxis": {
              "backgroundcolor": "white",
              "gridcolor": "#DFE8F3",
              "gridwidth": 2,
              "linecolor": "#EBF0F8",
              "showbackground": true,
              "ticks": "",
              "zerolinecolor": "#EBF0F8"
             },
             "zaxis": {
              "backgroundcolor": "white",
              "gridcolor": "#DFE8F3",
              "gridwidth": 2,
              "linecolor": "#EBF0F8",
              "showbackground": true,
              "ticks": "",
              "zerolinecolor": "#EBF0F8"
             }
            },
            "shapedefaults": {
             "line": {
              "color": "#2a3f5f"
             }
            },
            "ternary": {
             "aaxis": {
              "gridcolor": "#DFE8F3",
              "linecolor": "#A2B1C6",
              "ticks": ""
             },
             "baxis": {
              "gridcolor": "#DFE8F3",
              "linecolor": "#A2B1C6",
              "ticks": ""
             },
             "bgcolor": "white",
             "caxis": {
              "gridcolor": "#DFE8F3",
              "linecolor": "#A2B1C6",
              "ticks": ""
             }
            },
            "title": {
             "x": 0.05
            },
            "xaxis": {
             "automargin": true,
             "gridcolor": "#EBF0F8",
             "linecolor": "#EBF0F8",
             "ticks": "",
             "title": {
              "standoff": 15
             },
             "zerolinecolor": "#EBF0F8",
             "zerolinewidth": 2
            },
            "yaxis": {
             "automargin": true,
             "gridcolor": "#EBF0F8",
             "linecolor": "#EBF0F8",
             "ticks": "",
             "title": {
              "standoff": 15
             },
             "zerolinecolor": "#EBF0F8",
             "zerolinewidth": 2
            }
           }
          },
          "xaxis": {
           "automargin": true,
           "autorange": false,
           "fixedrange": true,
           "linecolor": "#444",
           "linewidth": 2,
           "minor": {
            "tickmode": "linear",
            "ticks": "outside"
           },
           "mirror": true,
           "showline": true,
           "tickmode": "linear",
           "ticks": "outside",
           "zeroline": false
          },
          "yaxis": {
           "automargin": true,
           "autorange": false,
           "fixedrange": true,
           "linecolor": "#444",
           "linewidth": 2,
           "minor": {
            "tickmode": "linear",
            "ticks": "outside"
           },
           "mirror": true,
           "showline": true,
           "tickmode": "linear",
           "ticks": "outside",
           "zeroline": false
          }
         }
        },
        "xaxis": {
         "dtick": 5,
         "minor": {
          "dtick": 1,
          "tick0": 0
         },
         "range": [
          0.8,
          20.2
         ],
         "tick0": 0,
         "title": {
          "text": "level"
         }
        },
        "yaxis": {
         "autorange": false,
         "dtick": 0.2,
         "minor": {
          "dtick": 0.1,
          "tick0": 0
         },
         "range": [
          0.9,
          1.7
         ],
         "tick0": 0,
         "title": {
          "text": "encounter XP ratio"
         }
        }
       }
      }
     },
     "metadata": {},
     "output_type": "display_data"
    }
   ],
   "source": [
    "# Plots average encounter XP for each class on days with only two Deadly encounters and one short rest. \n",
    "n_enc = 2\n",
    "encounter_difficulty = 'Deadly'\n",
    "\n",
    "with open(f'../xp-and-player-characters/pc data - Medium 2 short rests.json', 'r') as fin:\n",
    "    pc_data0 = json.load(fin)\n",
    "\n",
    "with open(f'../xp-and-player-characters/pc data - {encounter_difficulty} 2 short rests.json', 'r') as fin:\n",
    "    pc_data1 = json.load(fin)\n",
    "\n",
    "\n",
    "levels = np.array(range(1,21,1))\n",
    "enc_XP_budget = 0.5 * np.array(ENCOUNTER_DIFFICULTIES['Daily']['XP'])\n",
    "\n",
    "fig = go.Figure(\n",
    "    layout=go.Layout(\n",
    "        template=TFB_TEMPLATE,\n",
    "        xaxis=dict(\n",
    "            title_text='level',\n",
    "            range=[0.8, 20.2],\n",
    "            tick0=0, dtick=5,\n",
    "            minor=dict(tick0=0, dtick=1),\n",
    "        ),\n",
    "        yaxis=dict(\n",
    "            autorange=False,\n",
    "            title_text='encounter XP ratio',\n",
    "            range=[0.9, 1.7],\n",
    "            tick0=0, dtick=0.2,\n",
    "            minor=dict(tick0=0, dtick=0.1),\n",
    "        ),\n",
    "        legend=dict(\n",
    "            yanchor='bottom',  y=1.04,\n",
    "            xanchor='left', x=0.01,\n",
    "            orientation='h',\n",
    "        )\n",
    "    )\n",
    ")\n",
    "\n",
    "eXPmean = np.zeros(20)\n",
    "aXPmean = np.zeros(20)\n",
    "for pc in PC_CLASSES:\n",
    "    eXP = np.zeros(20)\n",
    "    for level in range(20):\n",
    "        encounters = pc_data1[pc][level]['encounters']\n",
    "        encounters = [x for x in encounters if x['type'] == 'encounter']\n",
    "        eXP[level] = np.mean([x['XP mean'] for x in encounters[0:n_enc]])\n",
    "\n",
    "    eXPmean += eXP\n",
    "    aXP  = np.array([x['encounter XP mean'] for x in pc_data0[pc]])\n",
    "    aXPmean += aXP\n",
    "    fig.add_trace(go.Scatter(\n",
    "        x=levels, \n",
    "        y=eXP/aXP,\n",
    "        mode='lines+markers', \n",
    "        line={'color': PC_CLASSES[pc]['color']},\n",
    "        marker={'size': 5},\n",
    "        unselected=dict(marker=dict(opacity=0.0)),\n",
    "        name=pc,\n",
    "        hovertemplate=\n",
    "            '<b>'+pc+'</b><br>'+\n",
    "            'lvl %{x}<br>'+\n",
    "            'enc XP %{y:.2f}'+\n",
    "            '<extra></extra>'\n",
    "    ))\n",
    "\n",
    "eXPmean /= len(PC_CLASSES)\n",
    "aXPmean /= len(PC_CLASSES)\n",
    "fig.add_trace(go.Scatter(\n",
    "    x=levels, \n",
    "    y=eXPmean/aXPmean,\n",
    "    mode='lines', \n",
    "    line=dict(color='black', dash='dash'),\n",
    "    unselected=dict(marker=dict(opacity=0.0)),\n",
    "    name='average',\n",
    "    hoverinfo='skip'\n",
    "))\n",
    "\n",
    "# show figure\n",
    "fig.show(config=TFB_CONFIG)\n",
    "\n",
    "# save large format figure\n",
    "if SAVEFIGS:\n",
    "    file_name = f'./fig-two-encounters-xp-vs-level-{encounter_difficulty.lower()}-large.html'\n",
    "    fig_html = fig.to_html(\n",
    "        config=TFB_CONFIG,\n",
    "        include_plotlyjs=False, \n",
    "        full_html=False, \n",
    "    )\n",
    "    fig_soup = BeautifulSoup(fig_html, 'html.parser')\n",
    "    fig_soup.div['class'] = 'plotly-div-large'\n",
    "    fig_soup.div['style'] = 'aspect-ratio:600/550'\n",
    "    with open(file_name, 'wb') as fout:\n",
    "        fout.write(fig_soup.prettify('utf-8'))\n",
    "\n",
    "# save small format figure\n",
    "if SAVEFIGS:\n",
    "    fig.update_traces(marker=dict(size=4))\n",
    "    fig.update_layout(font=dict(size=10), legend=dict(font_size=8))\n",
    "    file_name = f'./fig-two-encounters-xp-vs-level-{encounter_difficulty.lower()}-small.html'\n",
    "    fig_html = fig.to_html(\n",
    "        config=TFB_CONFIG,\n",
    "        include_plotlyjs=False, \n",
    "        full_html=False, \n",
    "    )\n",
    "    fig_soup = BeautifulSoup(fig_html, 'html.parser')\n",
    "    fig_soup.div['class'] = 'plotly-div-small'\n",
    "    fig_soup.div['style'] = 'aspect-ratio:600/600'\n",
    "    with open(file_name, 'wb') as fout:\n",
    "        fout.write(fig_soup.prettify('utf-8'))"
   ]
  }
 ],
 "metadata": {
  "kernelspec": {
   "display_name": "thefinishedbook",
   "language": "python",
   "name": "python3"
  },
  "language_info": {
   "codemirror_mode": {
    "name": "ipython",
    "version": 3
   },
   "file_extension": ".py",
   "mimetype": "text/x-python",
   "name": "python",
   "nbconvert_exporter": "python",
   "pygments_lexer": "ipython3",
   "version": "3.10.5"
  },
  "orig_nbformat": 4,
  "vscode": {
   "interpreter": {
    "hash": "81e7ed570d3d4d94e4f212d319db3e9a0140cc240e5a3a69836cc19bf47f0126"
   }
  }
 },
 "nbformat": 4,
 "nbformat_minor": 2
}
