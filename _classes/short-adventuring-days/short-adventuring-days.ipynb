{
 "cells": [
  {
   "cell_type": "code",
   "execution_count": 17,
   "metadata": {},
   "outputs": [],
   "source": [
    "# Initialize notebook\n",
    "import numpy as np\n",
    "import json\n",
    "import plotly.graph_objects as go\n",
    "from bs4 import BeautifulSoup\n",
    "\n",
    "\n",
    "METADATA = {'Contributor': 'T. Dunn'}\n",
    "SAVEFIGS = False\n",
    "SAVEDATA = False\n",
    "\n",
    "PC_CLASSES = {\n",
    "    'Barbarian': {'color': '#E7623E', 'group': 'martial'},\n",
    "    'Bard': {'color': '#AB6DAC', 'group': 'spellcaster'},\n",
    "    'Cleric': {'color': '#91A1B2', 'group': 'spellcaster'},\n",
    "    'Druid': {'color': '#7A853B', 'group': 'spellcaster'},\n",
    "    'Fighter': {'color': '#7F513E', 'group': 'martial'},\n",
    "    'Monk': {'color': '#51A5C5', 'group': 'martial'},\n",
    "    'Paladin': {'color': '#B59E54', 'group': 'martial-spellcaster'},\n",
    "    'Ranger': {'color': '#507F62', 'group': 'martial-spellcaster'},\n",
    "    'Rogue': {'color': '#555752', 'group': 'martial'},\n",
    "    'Sorcerer': {'color': '#992E2E', 'group': 'spellcaster'},\n",
    "    'Warlock': {'color': '#7B469B', 'group': 'spellcaster'},\n",
    "    'Wizard': {'color': '#2A50A1', 'group': 'spellcaster'}\n",
    "}\n",
    "\n",
    "ENCOUNTER_DIFFICULTIES = {\n",
    "    'Easy':   {\n",
    "        'XP': [25,50,75,125,250,300,350,450,550,600,800,1000,1100,1250,1400,1600,2000,2100,2400,2800], \n",
    "        'color': '#1F77B4'\n",
    "    },\n",
    "    'Medium': {\n",
    "        'XP': [50,100,150,250,500,600,750,900,1100,1200,1600,2000,2200,2500,2800,3200,3900,4200,4900,5700], \n",
    "        'color': '#FF7F0E'\n",
    "    },\n",
    "    'Hard':   {\n",
    "        'XP': [75,150,225,375,750,900,1100,1400,1600,1900,2400,3000,3400,3800,4300,4800,5900,6300,7300,8500], \n",
    "        'color': '#2CA02C'\n",
    "    },\n",
    "    'Deadly': {\n",
    "        'XP': [100,200,400,500,1100,1400,1700,2100,2400,2800,3600,4500,5100,5700,6400,7200,8800,9500,10900,12700], \n",
    "        'color': '#D62728'\n",
    "    },\n",
    "    'Daily':  {\n",
    "        'XP': [300,600,1200,1700,3500,4000,5000,6000,7500,9000,10500,11500,13500,15000,18000,20000,25000,27000,30000,40000], \n",
    "        'color': '#9467BD'\n",
    "    },\n",
    "}"
   ]
  },
  {
   "cell_type": "code",
   "execution_count": 18,
   "metadata": {},
   "outputs": [],
   "source": [
    "# Setup template and html config for plotly figures.\n",
    "TFB_TEMPLATE = dict(\n",
    "    layout=go.Layout(\n",
    "        template='plotly_white',\n",
    "        autosize=True, # must be True to auto-scale when resizing\n",
    "        margin=dict(l=50, r=25, b=40, t=20, pad=4),\n",
    "        font=dict(\n",
    "            family='sans-serif',\n",
    "            size=14\n",
    "        ),\n",
    "        hovermode='closest',\n",
    "        xaxis=dict(\n",
    "            autorange=False,\n",
    "            automargin=True,\n",
    "            fixedrange=True,\n",
    "            showline=True,\n",
    "            linecolor='#444',\n",
    "            linewidth=2,\n",
    "            mirror=True,\n",
    "            tickmode='linear',\n",
    "            ticks='outside',\n",
    "            minor=dict(\n",
    "                #showgrid=True,\n",
    "                tickmode='linear',\n",
    "                ticks='outside',\n",
    "            ),\n",
    "            zeroline=False,\n",
    "        ),\n",
    "        yaxis=dict(\n",
    "            autorange=False,\n",
    "            automargin=True,\n",
    "            fixedrange=True,\n",
    "            showline=True,\n",
    "            linecolor='#444',\n",
    "            linewidth=2,\n",
    "            mirror=True,\n",
    "            tickmode='linear',\n",
    "            ticks='outside',\n",
    "            minor=dict(\n",
    "                #showgrid=True,\n",
    "                tickmode='linear',\n",
    "                ticks='outside',\n",
    "            ),\n",
    "            zeroline=False,\n",
    "        ),\n",
    "        legend=dict(\n",
    "            #bordercolor='Black',\n",
    "            #borderwidth=1,\n",
    "            font_size=10,\n",
    "            #tracegroupgap=5,\n",
    "            #orientation='h',\n",
    "        )\n",
    "    )\n",
    ")\n",
    "\n",
    "TFB_CONFIG = {\n",
    "    'responsive': True, # must be True to auto-scale when resizing\n",
    "    'autosizable': True, # doesn't impact auto rescaling\n",
    "    'showAxisDragHandles': False,\n",
    "    'displaylogo': False,\n",
    "    'displayModeBar': 'hover',\n",
    "    'modeBarButtonsToRemove': [\n",
    "        'select2d',\n",
    "        'lasso2d',\n",
    "        'zoom2d',\n",
    "        'zoomIn2d',\n",
    "        'zoomOut2d',\n",
    "        'pan2d',\n",
    "        'autoScale2d',\n",
    "        'hoverClosestCartesian',\n",
    "        'hoverCompareCartesian',\n",
    "        'toggleSpikelines',\n",
    "        'resetScale2d',\n",
    "    ],\n",
    "    'toImageButtonOptions': {\n",
    "        'format': 'png', # one of png, svg, jpeg, webp\n",
    "        'filename': 'tfb-plot',\n",
    "        'height': 450,\n",
    "        'width': 600,\n",
    "        'scale': 2\n",
    "    },\n",
    "}\n"
   ]
  },
  {
   "cell_type": "code",
   "execution_count": 19,
   "metadata": {},
   "outputs": [
    {
     "data": {
      "application/vnd.plotly.v1+json": {
       "config": {
        "autosizable": true,
        "displayModeBar": "hover",
        "displaylogo": false,
        "modeBarButtonsToRemove": [
         "select2d",
         "lasso2d",
         "zoom2d",
         "zoomIn2d",
         "zoomOut2d",
         "pan2d",
         "autoScale2d",
         "hoverClosestCartesian",
         "hoverCompareCartesian",
         "toggleSpikelines",
         "resetScale2d"
        ],
        "plotlyServerURL": "https://plot.ly",
        "responsive": true,
        "showAxisDragHandles": false,
        "toImageButtonOptions": {
         "filename": "tfb-plot",
         "format": "png",
         "height": 450,
         "scale": 2,
         "width": 600
        }
       },
       "data": [
        {
         "hovertemplate": "<b>Barbarian</b><br>lvl %{x}<br>enc XP %{y:.2f}<extra></extra>",
         "line": {
          "color": "#E7623E"
         },
         "marker": {
          "size": 5
         },
         "mode": "lines+markers",
         "name": "Barbarian",
         "type": "scatter",
         "unselected": {
          "marker": {
           "opacity": 0
          }
         },
         "x": [
          1,
          2,
          3,
          4,
          5,
          6,
          7,
          8,
          9,
          10,
          11,
          12,
          13,
          14,
          15,
          16,
          17,
          18,
          19,
          20
         ],
         "y": [
          1.4543325526932087,
          1.4543325526932085,
          1.4172015404364569,
          1.3426423200859288,
          1.3596004439511655,
          1.232741617357002,
          1.2327416173570018,
          1.2265293761356753,
          1.2506724045185584,
          1.2922599908130454,
          1.2506724045185582,
          1.0650683574400635,
          1.0919117647058825,
          1.0919117647058825,
          1.0867542419266558,
          1.0950771364187901,
          1,
          1,
          1.0000000000000002,
          1
         ]
        },
        {
         "hovertemplate": "<b>Bard</b><br>lvl %{x}<br>enc XP %{y:.2f}<extra></extra>",
         "line": {
          "color": "#AB6DAC"
         },
         "marker": {
          "size": 5
         },
         "mode": "lines+markers",
         "name": "Bard",
         "type": "scatter",
         "unselected": {
          "marker": {
           "opacity": 0
          }
         },
         "x": [
          1,
          2,
          3,
          4,
          5,
          6,
          7,
          8,
          9,
          10,
          11,
          12,
          13,
          14,
          15,
          16,
          17,
          18,
          19,
          20
         ],
         "y": [
          1.2764874286138101,
          1.38459772558189,
          1.8363293526084226,
          1.7911449016100178,
          1.6002169378389655,
          1.6473724295506476,
          1.7392781531674293,
          1.8256650493558642,
          1.784932920536635,
          1.9279218823934268,
          1.6808737617475236,
          1.643930696169502,
          1.8006509229269514,
          1.800650922926952,
          1.8092484920936809,
          1.8924631853502147,
          1.754608903420523,
          1.7546089034205228,
          1.747019786161976,
          1.7764323690618689
         ]
        },
        {
         "hovertemplate": "<b>Cleric</b><br>lvl %{x}<br>enc XP %{y:.2f}<extra></extra>",
         "line": {
          "color": "#91A1B2"
         },
         "marker": {
          "size": 5
         },
         "mode": "lines+markers",
         "name": "Cleric",
         "type": "scatter",
         "unselected": {
          "marker": {
           "opacity": 0
          }
         },
         "x": [
          1,
          2,
          3,
          4,
          5,
          6,
          7,
          8,
          9,
          10,
          11,
          12,
          13,
          14,
          15,
          16,
          17,
          18,
          19,
          20
         ],
         "y": [
          1.2431654676258994,
          1.3484536082474226,
          1.7837837837837838,
          1.7307692307692308,
          1.5647058823529412,
          1.6153846153846152,
          1.70550576184379,
          1.5597484276729563,
          1.582787652011225,
          1.6739523418241575,
          1.4985507246376812,
          1.5138888888888888,
          1.6621915820029025,
          1.6621915820029027,
          1.6598833441348024,
          1.7362281270252755,
          1.6337041156840935,
          1.6337041156840935,
          1.6565796779566908,
          1.6441782462865357
         ]
        },
        {
         "hovertemplate": "<b>Druid</b><br>lvl %{x}<br>enc XP %{y:.2f}<extra></extra>",
         "line": {
          "color": "#7A853B"
         },
         "marker": {
          "size": 5
         },
         "mode": "lines+markers",
         "name": "Druid",
         "type": "scatter",
         "unselected": {
          "marker": {
           "opacity": 0
          }
         },
         "x": [
          1,
          2,
          3,
          4,
          5,
          6,
          7,
          8,
          9,
          10,
          11,
          12,
          13,
          14,
          15,
          16,
          17,
          18,
          19,
          20
         ],
         "y": [
          1.2431654676258992,
          1.3484536082474228,
          1.7837837837837838,
          1.7307692307692306,
          1.5647058823529412,
          1.6153846153846154,
          1.7055057618437899,
          1.7841726618705034,
          1.746130030959752,
          1.8402890695573622,
          1.6283464566929133,
          1.6197552447552448,
          1.7646379044684128,
          1.7646379044684128,
          1.7506493506493508,
          1.8311688311688312,
          1.6998842592592593,
          1.6998842592592596,
          1.703883495145631,
          1.701239464551314
         ]
        },
        {
         "hovertemplate": "<b>Fighter</b><br>lvl %{x}<br>enc XP %{y:.2f}<extra></extra>",
         "line": {
          "color": "#7F513E"
         },
         "marker": {
          "size": 5
         },
         "mode": "lines+markers",
         "name": "Fighter",
         "type": "scatter",
         "unselected": {
          "marker": {
           "opacity": 0
          }
         },
         "x": [
          1,
          2,
          3,
          4,
          5,
          6,
          7,
          8,
          9,
          10,
          11,
          12,
          13,
          14,
          15,
          16,
          17,
          18,
          19,
          20
         ],
         "y": [
          1.2131147540983604,
          1.1944700460829492,
          1.2543823326432024,
          1.1903381642512076,
          1.185483870967742,
          1.169462512838069,
          1.163006125803078,
          1.1463027610282448,
          1.1426129686999251,
          1.1633311475409835,
          1.1371146513758759,
          1.1355599214145382,
          1.1436377829820452,
          1.1362126245847177,
          1.098034041430268,
          1.142874860473769,
          1.1256216216216213,
          1.124911084043849,
          1.188728323699422,
          1.1592733417828476
         ]
        },
        {
         "hovertemplate": "<b>Monk</b><br>lvl %{x}<br>enc XP %{y:.2f}<extra></extra>",
         "line": {
          "color": "#51A5C5"
         },
         "marker": {
          "size": 5
         },
         "mode": "lines+markers",
         "name": "Monk",
         "type": "scatter",
         "unselected": {
          "marker": {
           "opacity": 0
          }
         },
         "x": [
          1,
          2,
          3,
          4,
          5,
          6,
          7,
          8,
          9,
          10,
          11,
          12,
          13,
          14,
          15,
          16,
          17,
          18,
          19,
          20
         ],
         "y": [
          1,
          1.0265060240963855,
          1.0880000000000003,
          1.0726256983240225,
          1.0769230769230769,
          1.0389610389610389,
          1.0256410256410255,
          1.0126582278481013,
          1,
          1,
          1,
          1,
          1,
          1,
          1,
          1,
          1,
          1.113793103448276,
          1.0833333333333333,
          1.1333333333333337
         ]
        },
        {
         "hovertemplate": "<b>Paladin</b><br>lvl %{x}<br>enc XP %{y:.2f}<extra></extra>",
         "line": {
          "color": "#B59E54"
         },
         "marker": {
          "size": 5
         },
         "mode": "lines+markers",
         "name": "Paladin",
         "type": "scatter",
         "unselected": {
          "marker": {
           "opacity": 0
          }
         },
         "x": [
          1,
          2,
          3,
          4,
          5,
          6,
          7,
          8,
          9,
          10,
          11,
          12,
          13,
          14,
          15,
          16,
          17,
          18,
          19,
          20
         ],
         "y": [
          1,
          1.3391304347826087,
          1.5486631016042782,
          1.4664107485604605,
          1.549869451697128,
          1.534841628959276,
          1.6496980155306296,
          1.6077481840193704,
          1.9240875912408764,
          1.977899045020464,
          1.8308457711442783,
          1.8440409683426444,
          1.9176570458404074,
          1.9176570458404072,
          1.8583072100313476,
          2.0027429467084636,
          1.9205840791333015,
          1.920584079133302,
          2.01436515291937,
          2.0286926994906618
         ]
        },
        {
         "hovertemplate": "<b>Ranger</b><br>lvl %{x}<br>enc XP %{y:.2f}<extra></extra>",
         "line": {
          "color": "#507F62"
         },
         "marker": {
          "size": 5
         },
         "mode": "lines+markers",
         "name": "Ranger",
         "type": "scatter",
         "unselected": {
          "marker": {
           "opacity": 0
          }
         },
         "x": [
          1,
          2,
          3,
          4,
          5,
          6,
          7,
          8,
          9,
          10,
          11,
          12,
          13,
          14,
          15,
          16,
          17,
          18,
          19,
          20
         ],
         "y": [
          1,
          1.4333333333333333,
          1.6979591836734695,
          1.5771971496437058,
          1.552980132450331,
          1.5366972477064218,
          1.5317286652078774,
          1.488933601609658,
          1.6084656084656086,
          1.6581818181818182,
          1.6079734219269102,
          1.5752293577981649,
          1.648883374689826,
          1.648883374689826,
          1.6081325301204819,
          1.623870481927711,
          1.5335088874259384,
          1.5335088874259382,
          1.5103708359522314,
          1.6085630498533725
         ]
        },
        {
         "hovertemplate": "<b>Rogue</b><br>lvl %{x}<br>enc XP %{y:.2f}<extra></extra>",
         "line": {
          "color": "#555752"
         },
         "marker": {
          "size": 5
         },
         "mode": "lines+markers",
         "name": "Rogue",
         "type": "scatter",
         "unselected": {
          "marker": {
           "opacity": 0
          }
         },
         "x": [
          1,
          2,
          3,
          4,
          5,
          6,
          7,
          8,
          9,
          10,
          11,
          12,
          13,
          14,
          15,
          16,
          17,
          18,
          19,
          20
         ],
         "y": [
          1,
          1,
          1,
          1,
          0.9999999999999999,
          1,
          1,
          1,
          1,
          1,
          1,
          1,
          0.9999999999999998,
          0.9999999999999998,
          1,
          1,
          1,
          1,
          1,
          0.9999999999999998
         ]
        },
        {
         "hovertemplate": "<b>Sorcerer</b><br>lvl %{x}<br>enc XP %{y:.2f}<extra></extra>",
         "line": {
          "color": "#992E2E"
         },
         "marker": {
          "size": 5
         },
         "mode": "lines+markers",
         "name": "Sorcerer",
         "type": "scatter",
         "unselected": {
          "marker": {
           "opacity": 0
          }
         },
         "x": [
          1,
          2,
          3,
          4,
          5,
          6,
          7,
          8,
          9,
          10,
          11,
          12,
          13,
          14,
          15,
          16,
          17,
          18,
          19,
          20
         ],
         "y": [
          1.1275471698113209,
          1.3484536082474226,
          1.8823529411764706,
          1.8097447795823665,
          1.7548837209302324,
          1.8302988663689455,
          1.9946301896390926,
          1.9240017512151864,
          1.9161039416921468,
          1.9221398619264758,
          1.7834964796608543,
          1.7406599162011174,
          1.778453574894856,
          1.742487637885127,
          1.7515551536256924,
          1.8190297507370676,
          1.736026088947285,
          1.736026088947285,
          1.7344989031602935,
          1.747636814472474
         ]
        },
        {
         "hovertemplate": "<b>Warlock</b><br>lvl %{x}<br>enc XP %{y:.2f}<extra></extra>",
         "line": {
          "color": "#7B469B"
         },
         "marker": {
          "size": 5
         },
         "mode": "lines+markers",
         "name": "Warlock",
         "type": "scatter",
         "unselected": {
          "marker": {
           "opacity": 0
          }
         },
         "x": [
          1,
          2,
          3,
          4,
          5,
          6,
          7,
          8,
          9,
          10,
          11,
          12,
          13,
          14,
          15,
          16,
          17,
          18,
          19,
          20
         ],
         "y": [
          1.0178571428571428,
          1.0327868852459017,
          1.1612903225806452,
          1.0888030888030888,
          1.0775757575757576,
          1.0672268907563025,
          1.0844793713163066,
          1.0726256983240223,
          1.1089743589743593,
          1.142942942942943,
          1.2034188034188031,
          1.2619731800766283,
          1.3316860465116278,
          1.3316860465116278,
          1.3587267904509286,
          1.4212201591511937,
          1.3297419646899047,
          1.3297419646899051,
          1.4213911386374465,
          1.3510611735330835
         ]
        },
        {
         "hovertemplate": "<b>Wizard</b><br>lvl %{x}<br>enc XP %{y:.2f}<extra></extra>",
         "line": {
          "color": "#2A50A1"
         },
         "marker": {
          "size": 5
         },
         "mode": "lines+markers",
         "name": "Wizard",
         "type": "scatter",
         "unselected": {
          "marker": {
           "opacity": 0
          }
         },
         "x": [
          1,
          2,
          3,
          4,
          5,
          6,
          7,
          8,
          9,
          10,
          11,
          12,
          13,
          14,
          15,
          16,
          17,
          18,
          19,
          20
         ],
         "y": [
          1.2431654676258992,
          1.3484536082474226,
          1.7330415754923414,
          1.6783216783216783,
          1.7548837209302324,
          1.7951219512195125,
          1.9243522909889075,
          1.8546267822197366,
          1.7597042161130658,
          1.8710560010111323,
          1.71628165436215,
          1.6865060521415272,
          1.8154757317892094,
          1.8154757317892094,
          1.7964956322305847,
          1.8791237696180452,
          1.7764458732533341,
          1.7764458732533341,
          1.7468003138210049,
          1.7686118122457877
         ]
        },
        {
         "hoverinfo": "skip",
         "line": {
          "color": "black",
          "dash": "dash"
         },
         "mode": "lines",
         "name": "average",
         "type": "scatter",
         "unselected": {
          "marker": {
           "opacity": 0
          }
         },
         "x": [
          1,
          2,
          3,
          4,
          5,
          6,
          7,
          8,
          9,
          10,
          11,
          12,
          13,
          14,
          15,
          16,
          17,
          18,
          19,
          20
         ],
         "y": [
          1.160821474482625,
          1.2627719075743349,
          1.441438591495236,
          1.3789981540191427,
          1.3690334456063753,
          1.3557832024333323,
          1.3917842654572035,
          1.376893220654215,
          1.4303123560874824,
          1.4809205723237047,
          1.4020304761060494,
          1.3640723792784493,
          1.4266844505723413,
          1.4153411531490439,
          1.401850917837337,
          1.443662371111585,
          1.376847350033195,
          1.367336327194802,
          1.3939729908259624,
          1.3646701241539083
         ]
        }
       ],
       "layout": {
        "legend": {
         "orientation": "h",
         "x": 0.01,
         "xanchor": "left",
         "y": 1.04,
         "yanchor": "bottom"
        },
        "template": {
         "layout": {
          "autosize": true,
          "font": {
           "family": "sans-serif",
           "size": 14
          },
          "hovermode": "closest",
          "legend": {
           "font": {
            "size": 10
           }
          },
          "margin": {
           "b": 40,
           "l": 50,
           "pad": 4,
           "r": 25,
           "t": 20
          },
          "template": {
           "data": {
            "bar": [
             {
              "error_x": {
               "color": "#2a3f5f"
              },
              "error_y": {
               "color": "#2a3f5f"
              },
              "marker": {
               "line": {
                "color": "white",
                "width": 0.5
               },
               "pattern": {
                "fillmode": "overlay",
                "size": 10,
                "solidity": 0.2
               }
              },
              "type": "bar"
             }
            ],
            "barpolar": [
             {
              "marker": {
               "line": {
                "color": "white",
                "width": 0.5
               },
               "pattern": {
                "fillmode": "overlay",
                "size": 10,
                "solidity": 0.2
               }
              },
              "type": "barpolar"
             }
            ],
            "carpet": [
             {
              "aaxis": {
               "endlinecolor": "#2a3f5f",
               "gridcolor": "#C8D4E3",
               "linecolor": "#C8D4E3",
               "minorgridcolor": "#C8D4E3",
               "startlinecolor": "#2a3f5f"
              },
              "baxis": {
               "endlinecolor": "#2a3f5f",
               "gridcolor": "#C8D4E3",
               "linecolor": "#C8D4E3",
               "minorgridcolor": "#C8D4E3",
               "startlinecolor": "#2a3f5f"
              },
              "type": "carpet"
             }
            ],
            "choropleth": [
             {
              "colorbar": {
               "outlinewidth": 0,
               "ticks": ""
              },
              "type": "choropleth"
             }
            ],
            "contour": [
             {
              "colorbar": {
               "outlinewidth": 0,
               "ticks": ""
              },
              "colorscale": [
               [
                0,
                "#0d0887"
               ],
               [
                0.1111111111111111,
                "#46039f"
               ],
               [
                0.2222222222222222,
                "#7201a8"
               ],
               [
                0.3333333333333333,
                "#9c179e"
               ],
               [
                0.4444444444444444,
                "#bd3786"
               ],
               [
                0.5555555555555556,
                "#d8576b"
               ],
               [
                0.6666666666666666,
                "#ed7953"
               ],
               [
                0.7777777777777778,
                "#fb9f3a"
               ],
               [
                0.8888888888888888,
                "#fdca26"
               ],
               [
                1,
                "#f0f921"
               ]
              ],
              "type": "contour"
             }
            ],
            "contourcarpet": [
             {
              "colorbar": {
               "outlinewidth": 0,
               "ticks": ""
              },
              "type": "contourcarpet"
             }
            ],
            "heatmap": [
             {
              "colorbar": {
               "outlinewidth": 0,
               "ticks": ""
              },
              "colorscale": [
               [
                0,
                "#0d0887"
               ],
               [
                0.1111111111111111,
                "#46039f"
               ],
               [
                0.2222222222222222,
                "#7201a8"
               ],
               [
                0.3333333333333333,
                "#9c179e"
               ],
               [
                0.4444444444444444,
                "#bd3786"
               ],
               [
                0.5555555555555556,
                "#d8576b"
               ],
               [
                0.6666666666666666,
                "#ed7953"
               ],
               [
                0.7777777777777778,
                "#fb9f3a"
               ],
               [
                0.8888888888888888,
                "#fdca26"
               ],
               [
                1,
                "#f0f921"
               ]
              ],
              "type": "heatmap"
             }
            ],
            "heatmapgl": [
             {
              "colorbar": {
               "outlinewidth": 0,
               "ticks": ""
              },
              "colorscale": [
               [
                0,
                "#0d0887"
               ],
               [
                0.1111111111111111,
                "#46039f"
               ],
               [
                0.2222222222222222,
                "#7201a8"
               ],
               [
                0.3333333333333333,
                "#9c179e"
               ],
               [
                0.4444444444444444,
                "#bd3786"
               ],
               [
                0.5555555555555556,
                "#d8576b"
               ],
               [
                0.6666666666666666,
                "#ed7953"
               ],
               [
                0.7777777777777778,
                "#fb9f3a"
               ],
               [
                0.8888888888888888,
                "#fdca26"
               ],
               [
                1,
                "#f0f921"
               ]
              ],
              "type": "heatmapgl"
             }
            ],
            "histogram": [
             {
              "marker": {
               "pattern": {
                "fillmode": "overlay",
                "size": 10,
                "solidity": 0.2
               }
              },
              "type": "histogram"
             }
            ],
            "histogram2d": [
             {
              "colorbar": {
               "outlinewidth": 0,
               "ticks": ""
              },
              "colorscale": [
               [
                0,
                "#0d0887"
               ],
               [
                0.1111111111111111,
                "#46039f"
               ],
               [
                0.2222222222222222,
                "#7201a8"
               ],
               [
                0.3333333333333333,
                "#9c179e"
               ],
               [
                0.4444444444444444,
                "#bd3786"
               ],
               [
                0.5555555555555556,
                "#d8576b"
               ],
               [
                0.6666666666666666,
                "#ed7953"
               ],
               [
                0.7777777777777778,
                "#fb9f3a"
               ],
               [
                0.8888888888888888,
                "#fdca26"
               ],
               [
                1,
                "#f0f921"
               ]
              ],
              "type": "histogram2d"
             }
            ],
            "histogram2dcontour": [
             {
              "colorbar": {
               "outlinewidth": 0,
               "ticks": ""
              },
              "colorscale": [
               [
                0,
                "#0d0887"
               ],
               [
                0.1111111111111111,
                "#46039f"
               ],
               [
                0.2222222222222222,
                "#7201a8"
               ],
               [
                0.3333333333333333,
                "#9c179e"
               ],
               [
                0.4444444444444444,
                "#bd3786"
               ],
               [
                0.5555555555555556,
                "#d8576b"
               ],
               [
                0.6666666666666666,
                "#ed7953"
               ],
               [
                0.7777777777777778,
                "#fb9f3a"
               ],
               [
                0.8888888888888888,
                "#fdca26"
               ],
               [
                1,
                "#f0f921"
               ]
              ],
              "type": "histogram2dcontour"
             }
            ],
            "mesh3d": [
             {
              "colorbar": {
               "outlinewidth": 0,
               "ticks": ""
              },
              "type": "mesh3d"
             }
            ],
            "parcoords": [
             {
              "line": {
               "colorbar": {
                "outlinewidth": 0,
                "ticks": ""
               }
              },
              "type": "parcoords"
             }
            ],
            "pie": [
             {
              "automargin": true,
              "type": "pie"
             }
            ],
            "scatter": [
             {
              "fillpattern": {
               "fillmode": "overlay",
               "size": 10,
               "solidity": 0.2
              },
              "type": "scatter"
             }
            ],
            "scatter3d": [
             {
              "line": {
               "colorbar": {
                "outlinewidth": 0,
                "ticks": ""
               }
              },
              "marker": {
               "colorbar": {
                "outlinewidth": 0,
                "ticks": ""
               }
              },
              "type": "scatter3d"
             }
            ],
            "scattercarpet": [
             {
              "marker": {
               "colorbar": {
                "outlinewidth": 0,
                "ticks": ""
               }
              },
              "type": "scattercarpet"
             }
            ],
            "scattergeo": [
             {
              "marker": {
               "colorbar": {
                "outlinewidth": 0,
                "ticks": ""
               }
              },
              "type": "scattergeo"
             }
            ],
            "scattergl": [
             {
              "marker": {
               "colorbar": {
                "outlinewidth": 0,
                "ticks": ""
               }
              },
              "type": "scattergl"
             }
            ],
            "scattermapbox": [
             {
              "marker": {
               "colorbar": {
                "outlinewidth": 0,
                "ticks": ""
               }
              },
              "type": "scattermapbox"
             }
            ],
            "scatterpolar": [
             {
              "marker": {
               "colorbar": {
                "outlinewidth": 0,
                "ticks": ""
               }
              },
              "type": "scatterpolar"
             }
            ],
            "scatterpolargl": [
             {
              "marker": {
               "colorbar": {
                "outlinewidth": 0,
                "ticks": ""
               }
              },
              "type": "scatterpolargl"
             }
            ],
            "scatterternary": [
             {
              "marker": {
               "colorbar": {
                "outlinewidth": 0,
                "ticks": ""
               }
              },
              "type": "scatterternary"
             }
            ],
            "surface": [
             {
              "colorbar": {
               "outlinewidth": 0,
               "ticks": ""
              },
              "colorscale": [
               [
                0,
                "#0d0887"
               ],
               [
                0.1111111111111111,
                "#46039f"
               ],
               [
                0.2222222222222222,
                "#7201a8"
               ],
               [
                0.3333333333333333,
                "#9c179e"
               ],
               [
                0.4444444444444444,
                "#bd3786"
               ],
               [
                0.5555555555555556,
                "#d8576b"
               ],
               [
                0.6666666666666666,
                "#ed7953"
               ],
               [
                0.7777777777777778,
                "#fb9f3a"
               ],
               [
                0.8888888888888888,
                "#fdca26"
               ],
               [
                1,
                "#f0f921"
               ]
              ],
              "type": "surface"
             }
            ],
            "table": [
             {
              "cells": {
               "fill": {
                "color": "#EBF0F8"
               },
               "line": {
                "color": "white"
               }
              },
              "header": {
               "fill": {
                "color": "#C8D4E3"
               },
               "line": {
                "color": "white"
               }
              },
              "type": "table"
             }
            ]
           },
           "layout": {
            "annotationdefaults": {
             "arrowcolor": "#2a3f5f",
             "arrowhead": 0,
             "arrowwidth": 1
            },
            "autotypenumbers": "strict",
            "coloraxis": {
             "colorbar": {
              "outlinewidth": 0,
              "ticks": ""
             }
            },
            "colorscale": {
             "diverging": [
              [
               0,
               "#8e0152"
              ],
              [
               0.1,
               "#c51b7d"
              ],
              [
               0.2,
               "#de77ae"
              ],
              [
               0.3,
               "#f1b6da"
              ],
              [
               0.4,
               "#fde0ef"
              ],
              [
               0.5,
               "#f7f7f7"
              ],
              [
               0.6,
               "#e6f5d0"
              ],
              [
               0.7,
               "#b8e186"
              ],
              [
               0.8,
               "#7fbc41"
              ],
              [
               0.9,
               "#4d9221"
              ],
              [
               1,
               "#276419"
              ]
             ],
             "sequential": [
              [
               0,
               "#0d0887"
              ],
              [
               0.1111111111111111,
               "#46039f"
              ],
              [
               0.2222222222222222,
               "#7201a8"
              ],
              [
               0.3333333333333333,
               "#9c179e"
              ],
              [
               0.4444444444444444,
               "#bd3786"
              ],
              [
               0.5555555555555556,
               "#d8576b"
              ],
              [
               0.6666666666666666,
               "#ed7953"
              ],
              [
               0.7777777777777778,
               "#fb9f3a"
              ],
              [
               0.8888888888888888,
               "#fdca26"
              ],
              [
               1,
               "#f0f921"
              ]
             ],
             "sequentialminus": [
              [
               0,
               "#0d0887"
              ],
              [
               0.1111111111111111,
               "#46039f"
              ],
              [
               0.2222222222222222,
               "#7201a8"
              ],
              [
               0.3333333333333333,
               "#9c179e"
              ],
              [
               0.4444444444444444,
               "#bd3786"
              ],
              [
               0.5555555555555556,
               "#d8576b"
              ],
              [
               0.6666666666666666,
               "#ed7953"
              ],
              [
               0.7777777777777778,
               "#fb9f3a"
              ],
              [
               0.8888888888888888,
               "#fdca26"
              ],
              [
               1,
               "#f0f921"
              ]
             ]
            },
            "colorway": [
             "#636efa",
             "#EF553B",
             "#00cc96",
             "#ab63fa",
             "#FFA15A",
             "#19d3f3",
             "#FF6692",
             "#B6E880",
             "#FF97FF",
             "#FECB52"
            ],
            "font": {
             "color": "#2a3f5f"
            },
            "geo": {
             "bgcolor": "white",
             "lakecolor": "white",
             "landcolor": "white",
             "showlakes": true,
             "showland": true,
             "subunitcolor": "#C8D4E3"
            },
            "hoverlabel": {
             "align": "left"
            },
            "hovermode": "closest",
            "mapbox": {
             "style": "light"
            },
            "paper_bgcolor": "white",
            "plot_bgcolor": "white",
            "polar": {
             "angularaxis": {
              "gridcolor": "#EBF0F8",
              "linecolor": "#EBF0F8",
              "ticks": ""
             },
             "bgcolor": "white",
             "radialaxis": {
              "gridcolor": "#EBF0F8",
              "linecolor": "#EBF0F8",
              "ticks": ""
             }
            },
            "scene": {
             "xaxis": {
              "backgroundcolor": "white",
              "gridcolor": "#DFE8F3",
              "gridwidth": 2,
              "linecolor": "#EBF0F8",
              "showbackground": true,
              "ticks": "",
              "zerolinecolor": "#EBF0F8"
             },
             "yaxis": {
              "backgroundcolor": "white",
              "gridcolor": "#DFE8F3",
              "gridwidth": 2,
              "linecolor": "#EBF0F8",
              "showbackground": true,
              "ticks": "",
              "zerolinecolor": "#EBF0F8"
             },
             "zaxis": {
              "backgroundcolor": "white",
              "gridcolor": "#DFE8F3",
              "gridwidth": 2,
              "linecolor": "#EBF0F8",
              "showbackground": true,
              "ticks": "",
              "zerolinecolor": "#EBF0F8"
             }
            },
            "shapedefaults": {
             "line": {
              "color": "#2a3f5f"
             }
            },
            "ternary": {
             "aaxis": {
              "gridcolor": "#DFE8F3",
              "linecolor": "#A2B1C6",
              "ticks": ""
             },
             "baxis": {
              "gridcolor": "#DFE8F3",
              "linecolor": "#A2B1C6",
              "ticks": ""
             },
             "bgcolor": "white",
             "caxis": {
              "gridcolor": "#DFE8F3",
              "linecolor": "#A2B1C6",
              "ticks": ""
             }
            },
            "title": {
             "x": 0.05
            },
            "xaxis": {
             "automargin": true,
             "gridcolor": "#EBF0F8",
             "linecolor": "#EBF0F8",
             "ticks": "",
             "title": {
              "standoff": 15
             },
             "zerolinecolor": "#EBF0F8",
             "zerolinewidth": 2
            },
            "yaxis": {
             "automargin": true,
             "gridcolor": "#EBF0F8",
             "linecolor": "#EBF0F8",
             "ticks": "",
             "title": {
              "standoff": 15
             },
             "zerolinecolor": "#EBF0F8",
             "zerolinewidth": 2
            }
           }
          },
          "xaxis": {
           "automargin": true,
           "autorange": false,
           "fixedrange": true,
           "linecolor": "#444",
           "linewidth": 2,
           "minor": {
            "tickmode": "linear",
            "ticks": "outside"
           },
           "mirror": true,
           "showline": true,
           "tickmode": "linear",
           "ticks": "outside",
           "zeroline": false
          },
          "yaxis": {
           "automargin": true,
           "autorange": false,
           "fixedrange": true,
           "linecolor": "#444",
           "linewidth": 2,
           "minor": {
            "tickmode": "linear",
            "ticks": "outside"
           },
           "mirror": true,
           "showline": true,
           "tickmode": "linear",
           "ticks": "outside",
           "zeroline": false
          }
         }
        },
        "xaxis": {
         "dtick": 5,
         "minor": {
          "dtick": 1,
          "tick0": 0
         },
         "range": [
          0.8,
          20.2
         ],
         "tick0": 0,
         "title": {
          "text": "level"
         }
        },
        "yaxis": {
         "autorange": false,
         "dtick": 0.2,
         "minor": {
          "dtick": 0.1,
          "tick0": 0
         },
         "range": [
          0.9,
          2.1
         ],
         "tick0": 0,
         "title": {
          "text": "encounter XP ratio"
         }
        }
       }
      }
     },
     "metadata": {},
     "output_type": "display_data"
    }
   ],
   "source": [
    "# Plots average encounter XP for each class on days with only one Deadly encounters and no short rest. \n",
    "n_enc = 1\n",
    "encounter_difficulty = 'Deadly'\n",
    "\n",
    "with open(f'../xp-and-player-characters/pc data - Medium 2 short rests.json', 'r') as fin:\n",
    "    pc_data0 = json.load(fin)\n",
    "\n",
    "with open(f'../xp-and-player-characters/pc data - {encounter_difficulty} 2 short rests.json', 'r') as fin:\n",
    "    pc_data1 = json.load(fin)\n",
    "\n",
    "levels = np.array(range(1,21,1))\n",
    "enc_XP_budget = 0.5 * np.array(ENCOUNTER_DIFFICULTIES['Daily']['XP'])\n",
    "\n",
    "fig = go.Figure(\n",
    "    layout=go.Layout(\n",
    "        template=TFB_TEMPLATE,\n",
    "        xaxis=dict(\n",
    "            title_text='level',\n",
    "            range=[0.8, 20.2],\n",
    "            tick0=0, dtick=5,\n",
    "            minor=dict(tick0=0, dtick=1),\n",
    "        ),\n",
    "        yaxis=dict(\n",
    "            autorange=False,\n",
    "            title_text='encounter XP ratio',\n",
    "            range=[0.9, 2.1],\n",
    "            tick0=0, dtick=0.2,\n",
    "            minor=dict(tick0=0, dtick=0.1),\n",
    "        ),\n",
    "        legend=dict(\n",
    "            yanchor='bottom',  y=1.04,\n",
    "            xanchor='left', x=0.01,\n",
    "            orientation='h',\n",
    "        )\n",
    "    )\n",
    ")\n",
    "\n",
    "eXPmean = np.zeros(20)\n",
    "aXPmean = np.zeros(20)\n",
    "for pc in PC_CLASSES:\n",
    "    eXP = np.zeros(20)\n",
    "    for level in range(20):\n",
    "        encounters = pc_data1[pc][level]['encounters']\n",
    "        encounters = [x for x in encounters if x['type'] == 'encounter']\n",
    "        eXP[level] = np.mean([x['XP mean'] for x in encounters[0:n_enc]])\n",
    "\n",
    "    eXPmean += eXP\n",
    "    aXP  = np.array([x['encounter XP mean'] for x in pc_data0[pc]])\n",
    "    aXPmean += aXP\n",
    "\n",
    "    fig.add_trace(go.Scatter(\n",
    "        x=levels, \n",
    "        y=eXP/aXP,\n",
    "        mode='lines+markers', \n",
    "        line={'color': PC_CLASSES[pc]['color']},\n",
    "        marker={'size': 5},\n",
    "        unselected=dict(marker=dict(opacity=0.0)),\n",
    "        name=pc,\n",
    "        hovertemplate=\n",
    "            '<b>'+pc+'</b><br>'+\n",
    "            'lvl %{x}<br>'+\n",
    "            'enc XP %{y:.2f}'+\n",
    "            '<extra></extra>'\n",
    "    ))\n",
    "\n",
    "eXPmean /= len(PC_CLASSES)\n",
    "aXPmean /= len(PC_CLASSES)\n",
    "fig.add_trace(go.Scatter(\n",
    "    x=levels, \n",
    "    y=eXPmean/aXPmean,\n",
    "    mode='lines', \n",
    "    line=dict(color='black', dash='dash'),\n",
    "    unselected=dict(marker=dict(opacity=0.0)),\n",
    "    name='average',\n",
    "    hoverinfo='skip'\n",
    "))\n",
    "\n",
    "# show figure\n",
    "fig.show(config=TFB_CONFIG)\n",
    "\n",
    "# save large format figure\n",
    "if SAVEFIGS:\n",
    "    file_name = f'./fig-single-encounter-xp-vs-level-{encounter_difficulty.lower()}-large.html'\n",
    "    fig_html = fig.to_html(\n",
    "        config=TFB_CONFIG,\n",
    "        include_plotlyjs=False, \n",
    "        full_html=False, \n",
    "    )\n",
    "    fig_soup = BeautifulSoup(fig_html, 'html.parser')\n",
    "    fig_soup.div['class'] = 'plotly-div-large'\n",
    "    fig_soup.div['style'] = 'aspect-ratio:600/550'\n",
    "    with open(file_name, 'wb') as fout:\n",
    "        fout.write(fig_soup.prettify('utf-8'))\n",
    "\n",
    "# save small format figure\n",
    "if SAVEFIGS:\n",
    "    fig.update_traces(marker=dict(size=4))\n",
    "    fig.update_layout(font=dict(size=10), legend=dict(font_size=8))\n",
    "    file_name = f'./fig-single-encounter-xp-vs-level-{encounter_difficulty.lower()}-small.html'\n",
    "    fig_html = fig.to_html(\n",
    "        config=TFB_CONFIG,\n",
    "        include_plotlyjs=False, \n",
    "        full_html=False, \n",
    "    )\n",
    "    fig_soup = BeautifulSoup(fig_html, 'html.parser')\n",
    "    fig_soup.div['class'] = 'plotly-div-small'\n",
    "    fig_soup.div['style'] = 'aspect-ratio:600/600'\n",
    "    with open(file_name, 'wb') as fout:\n",
    "        fout.write(fig_soup.prettify('utf-8'))"
   ]
  },
  {
   "cell_type": "code",
   "execution_count": 20,
   "metadata": {},
   "outputs": [
    {
     "data": {
      "application/vnd.plotly.v1+json": {
       "config": {
        "autosizable": true,
        "displayModeBar": "hover",
        "displaylogo": false,
        "modeBarButtonsToRemove": [
         "select2d",
         "lasso2d",
         "zoom2d",
         "zoomIn2d",
         "zoomOut2d",
         "pan2d",
         "autoScale2d",
         "hoverClosestCartesian",
         "hoverCompareCartesian",
         "toggleSpikelines",
         "resetScale2d"
        ],
        "plotlyServerURL": "https://plot.ly",
        "responsive": true,
        "showAxisDragHandles": false,
        "toImageButtonOptions": {
         "filename": "tfb-plot",
         "format": "png",
         "height": 450,
         "scale": 2,
         "width": 600
        }
       },
       "data": [
        {
         "hovertemplate": "<b>Barbarian</b><br>lvl %{x}<br>eff DPR %{y:.2f}<extra></extra>",
         "line": {
          "color": "#E7623E"
         },
         "marker": {
          "size": 5
         },
         "mode": "lines+markers",
         "name": "Barbarian",
         "type": "scatter",
         "unselected": {
          "marker": {
           "opacity": 0
          }
         },
         "x": [
          1,
          2,
          3,
          4,
          5,
          6,
          7,
          8,
          9,
          10,
          11,
          12,
          13,
          14,
          15,
          16,
          17,
          18,
          19,
          20
         ],
         "y": [
          1.131147540983607,
          1.1311475409836067,
          1.1219512195121952,
          1.0964912280701755,
          1.10062893081761,
          1.0683760683760684,
          1.0683760683760684,
          1.062992125984252,
          1.083916083916084,
          1.0964630225080387,
          1.083916083916084,
          1.0233009708737866,
          1.0312499999999998,
          1.0312499999999998,
          1.0295566502463054,
          1.0374414976599062,
          1,
          1,
          1,
          1
         ]
        },
        {
         "hovertemplate": "<b>Bard</b><br>lvl %{x}<br>eff DPR %{y:.2f}<extra></extra>",
         "line": {
          "color": "#AB6DAC"
         },
         "marker": {
          "size": 5
         },
         "mode": "lines+markers",
         "name": "Bard",
         "type": "scatter",
         "unselected": {
          "marker": {
           "opacity": 0
          }
         },
         "x": [
          1,
          2,
          3,
          4,
          5,
          6,
          7,
          8,
          9,
          10,
          11,
          12,
          13,
          14,
          15,
          16,
          17,
          18,
          19,
          20
         ],
         "y": [
          1.2431654676258994,
          1.3484536082474226,
          1.783783783783784,
          1.7307692307692308,
          1.564705882352941,
          1.6153846153846154,
          1.7055057618437899,
          1.7841726618705036,
          1.7461300309597523,
          1.8402890695573622,
          1.6283464566929136,
          1.6197552447552448,
          1.764637904468413,
          1.764637904468413,
          1.7506493506493508,
          1.831168831168831,
          1.6998842592592591,
          1.6998842592592591,
          1.703883495145631,
          1.701239464551314
         ]
        },
        {
         "hovertemplate": "<b>Cleric</b><br>lvl %{x}<br>eff DPR %{y:.2f}<extra></extra>",
         "line": {
          "color": "#91A1B2"
         },
         "marker": {
          "size": 5
         },
         "mode": "lines+markers",
         "name": "Cleric",
         "type": "scatter",
         "unselected": {
          "marker": {
           "opacity": 0
          }
         },
         "x": [
          1,
          2,
          3,
          4,
          5,
          6,
          7,
          8,
          9,
          10,
          11,
          12,
          13,
          14,
          15,
          16,
          17,
          18,
          19,
          20
         ],
         "y": [
          1.2431654676258994,
          1.3484536082474226,
          1.783783783783784,
          1.7307692307692308,
          1.564705882352941,
          1.6153846153846154,
          1.7055057618437899,
          1.559748427672956,
          1.5827876520112254,
          1.6739523418241573,
          1.4985507246376812,
          1.5138888888888888,
          1.662191582002903,
          1.662191582002903,
          1.6598833441348022,
          1.736228127025275,
          1.6337041156840932,
          1.6337041156840932,
          1.6565796779566904,
          1.644178246286536
         ]
        },
        {
         "hovertemplate": "<b>Druid</b><br>lvl %{x}<br>eff DPR %{y:.2f}<extra></extra>",
         "line": {
          "color": "#7A853B"
         },
         "marker": {
          "size": 5
         },
         "mode": "lines+markers",
         "name": "Druid",
         "type": "scatter",
         "unselected": {
          "marker": {
           "opacity": 0
          }
         },
         "x": [
          1,
          2,
          3,
          4,
          5,
          6,
          7,
          8,
          9,
          10,
          11,
          12,
          13,
          14,
          15,
          16,
          17,
          18,
          19,
          20
         ],
         "y": [
          1.2431654676258994,
          1.3484536082474226,
          1.783783783783784,
          1.7307692307692308,
          1.564705882352941,
          1.6153846153846154,
          1.7055057618437899,
          1.7841726618705036,
          1.7461300309597523,
          1.8402890695573622,
          1.6283464566929136,
          1.6197552447552448,
          1.764637904468413,
          1.764637904468413,
          1.7506493506493508,
          1.831168831168831,
          1.6998842592592591,
          1.6998842592592591,
          1.703883495145631,
          1.701239464551314
         ]
        },
        {
         "hovertemplate": "<b>Fighter</b><br>lvl %{x}<br>eff DPR %{y:.2f}<extra></extra>",
         "line": {
          "color": "#7F513E"
         },
         "marker": {
          "size": 5
         },
         "mode": "lines+markers",
         "name": "Fighter",
         "type": "scatter",
         "unselected": {
          "marker": {
           "opacity": 0
          }
         },
         "x": [
          1,
          2,
          3,
          4,
          5,
          6,
          7,
          8,
          9,
          10,
          11,
          12,
          13,
          14,
          15,
          16,
          17,
          18,
          19,
          20
         ],
         "y": [
          1,
          1.0285714285714285,
          1.0666666666666664,
          1.043478260869565,
          1.05,
          1.0434782608695654,
          1.0434782608695654,
          1.0434782608695654,
          1.0434782608695652,
          1.056,
          1.0434782608695652,
          1.0625,
          1.0714285714285716,
          1.0714285714285716,
          1.0363636363636366,
          1.0795454545454546,
          1.064,
          1.064,
          1.125,
          1.088888888888889
         ]
        },
        {
         "hovertemplate": "<b>Monk</b><br>lvl %{x}<br>eff DPR %{y:.2f}<extra></extra>",
         "line": {
          "color": "#51A5C5"
         },
         "marker": {
          "size": 5
         },
         "mode": "lines+markers",
         "name": "Monk",
         "type": "scatter",
         "unselected": {
          "marker": {
           "opacity": 0
          }
         },
         "x": [
          1,
          2,
          3,
          4,
          5,
          6,
          7,
          8,
          9,
          10,
          11,
          12,
          13,
          14,
          15,
          16,
          17,
          18,
          19,
          20
         ],
         "y": [
          1,
          1.0265060240963855,
          1.088,
          1.0726256983240223,
          1.076923076923077,
          1.038961038961039,
          1.0256410256410258,
          1.0126582278481013,
          1,
          1,
          1,
          1,
          1,
          1,
          1,
          1,
          1,
          1.1137931034482758,
          1.0833333333333333,
          1.1333333333333333
         ]
        },
        {
         "hovertemplate": "<b>Paladin</b><br>lvl %{x}<br>eff DPR %{y:.2f}<extra></extra>",
         "line": {
          "color": "#B59E54"
         },
         "marker": {
          "size": 5
         },
         "mode": "lines+markers",
         "name": "Paladin",
         "type": "scatter",
         "unselected": {
          "marker": {
           "opacity": 0
          }
         },
         "x": [
          1,
          2,
          3,
          4,
          5,
          6,
          7,
          8,
          9,
          10,
          11,
          12,
          13,
          14,
          15,
          16,
          17,
          18,
          19,
          20
         ],
         "y": [
          1,
          1.3391304347826085,
          1.5486631016042782,
          1.4664107485604605,
          1.5498694516971276,
          1.5348416289592761,
          1.6496980155306298,
          1.6077481840193704,
          1.9240875912408761,
          1.977899045020464,
          1.8308457711442785,
          1.8440409683426444,
          1.9176570458404072,
          1.9176570458404072,
          1.858307210031348,
          2.002742946708464,
          1.9205840791333015,
          1.9205840791333015,
          2.01436515291937,
          2.028692699490662
         ]
        },
        {
         "hovertemplate": "<b>Ranger</b><br>lvl %{x}<br>eff DPR %{y:.2f}<extra></extra>",
         "line": {
          "color": "#507F62"
         },
         "marker": {
          "size": 5
         },
         "mode": "lines+markers",
         "name": "Ranger",
         "type": "scatter",
         "unselected": {
          "marker": {
           "opacity": 0
          }
         },
         "x": [
          1,
          2,
          3,
          4,
          5,
          6,
          7,
          8,
          9,
          10,
          11,
          12,
          13,
          14,
          15,
          16,
          17,
          18,
          19,
          20
         ],
         "y": [
          1,
          1.4333333333333333,
          1.6979591836734693,
          1.5771971496437056,
          1.5529801324503307,
          1.5366972477064218,
          1.5317286652078774,
          1.488933601609658,
          1.6084656084656084,
          1.6581818181818182,
          1.60797342192691,
          1.575229357798165,
          1.648883374689826,
          1.648883374689826,
          1.608132530120482,
          1.623870481927711,
          1.533508887425938,
          1.533508887425938,
          1.5103708359522312,
          1.6085630498533727
         ]
        },
        {
         "hovertemplate": "<b>Rogue</b><br>lvl %{x}<br>eff DPR %{y:.2f}<extra></extra>",
         "line": {
          "color": "#555752"
         },
         "marker": {
          "size": 5
         },
         "mode": "lines+markers",
         "name": "Rogue",
         "type": "scatter",
         "unselected": {
          "marker": {
           "opacity": 0
          }
         },
         "x": [
          1,
          2,
          3,
          4,
          5,
          6,
          7,
          8,
          9,
          10,
          11,
          12,
          13,
          14,
          15,
          16,
          17,
          18,
          19,
          20
         ],
         "y": [
          1,
          1,
          1,
          1,
          1,
          1,
          1,
          1,
          1,
          1,
          1,
          1,
          1,
          1,
          1,
          1,
          1,
          1,
          1,
          1
         ]
        },
        {
         "hovertemplate": "<b>Sorcerer</b><br>lvl %{x}<br>eff DPR %{y:.2f}<extra></extra>",
         "line": {
          "color": "#992E2E"
         },
         "marker": {
          "size": 5
         },
         "mode": "lines+markers",
         "name": "Sorcerer",
         "type": "scatter",
         "unselected": {
          "marker": {
           "opacity": 0
          }
         },
         "x": [
          1,
          2,
          3,
          4,
          5,
          6,
          7,
          8,
          9,
          10,
          11,
          12,
          13,
          14,
          15,
          16,
          17,
          18,
          19,
          20
         ],
         "y": [
          1.127547169811321,
          1.3484536082474226,
          1.882352941176471,
          1.809744779582367,
          1.633333333333333,
          1.7055057618437899,
          1.8586326767091537,
          1.7991266375545854,
          1.7621313035204569,
          1.7995012468827933,
          1.632286995515695,
          1.5937500000000002,
          1.6302491103202847,
          1.5972803347280335,
          1.6017510944340212,
          1.6754221388367727,
          1.6373467112597544,
          1.6373467112597544,
          1.6419922949917445,
          1.6277988614800762
         ]
        },
        {
         "hovertemplate": "<b>Warlock</b><br>lvl %{x}<br>eff DPR %{y:.2f}<extra></extra>",
         "line": {
          "color": "#7B469B"
         },
         "marker": {
          "size": 5
         },
         "mode": "lines+markers",
         "name": "Warlock",
         "type": "scatter",
         "unselected": {
          "marker": {
           "opacity": 0
          }
         },
         "x": [
          1,
          2,
          3,
          4,
          5,
          6,
          7,
          8,
          9,
          10,
          11,
          12,
          13,
          14,
          15,
          16,
          17,
          18,
          19,
          20
         ],
         "y": [
          1.017857142857143,
          1.032786885245902,
          1.1612903225806455,
          1.0888030888030888,
          1.0775757575757574,
          1.0672268907563023,
          1.0844793713163066,
          1.0726256983240223,
          1.108974358974359,
          1.142942942942943,
          1.2034188034188034,
          1.2619731800766283,
          1.331686046511628,
          1.331686046511628,
          1.3587267904509286,
          1.4212201591511937,
          1.3297419646899047,
          1.3297419646899047,
          1.4213911386374463,
          1.3510611735330833
         ]
        },
        {
         "hovertemplate": "<b>Wizard</b><br>lvl %{x}<br>eff DPR %{y:.2f}<extra></extra>",
         "line": {
          "color": "#2A50A1"
         },
         "marker": {
          "size": 5
         },
         "mode": "lines+markers",
         "name": "Wizard",
         "type": "scatter",
         "unselected": {
          "marker": {
           "opacity": 0
          }
         },
         "x": [
          1,
          2,
          3,
          4,
          5,
          6,
          7,
          8,
          9,
          10,
          11,
          12,
          13,
          14,
          15,
          16,
          17,
          18,
          19,
          20
         ],
         "y": [
          1.2431654676258994,
          1.3484536082474226,
          1.733041575492341,
          1.6783216783216786,
          1.633333333333333,
          1.6727272727272726,
          1.7545565006075332,
          1.6986301369863017,
          1.650731707317073,
          1.751676698194325,
          1.559577677224736,
          1.5441666666666667,
          1.6767935578330897,
          1.6767935578330897,
          1.642847979474022,
          1.718409236690186,
          1.6642492917847025,
          1.6642492917847025,
          1.6419922949917445,
          1.647335573691791
         ]
        },
        {
         "hoverinfo": "skip",
         "line": {
          "color": "black",
          "dash": "dash"
         },
         "mode": "lines",
         "name": "average",
         "type": "scatter",
         "unselected": {
          "marker": {
           "opacity": 0
          }
         },
         "x": [
          1,
          2,
          3,
          4,
          5,
          6,
          7,
          8,
          9,
          10,
          11,
          12,
          13,
          14,
          15,
          16,
          17,
          18,
          19,
          20
         ],
         "y": [
          1.0894956633472537,
          1.2034618713337826,
          1.4130391173520562,
          1.3647267688577123,
          1.3312730689215488,
          1.3375257362814428,
          1.3858614054008331,
          1.3784071701489993,
          1.4233588923875686,
          1.473012784678713,
          1.39003861003861,
          1.387111461874697,
          1.4582030048395398,
          1.4557600155676096,
          1.4451740892698983,
          1.5002466330128246,
          1.4402428750960958,
          1.4506876282499641,
          1.477748076520769,
          1.4576278216229537
         ]
        }
       ],
       "layout": {
        "legend": {
         "orientation": "h",
         "x": 0.01,
         "xanchor": "left",
         "y": 1.04,
         "yanchor": "bottom"
        },
        "template": {
         "layout": {
          "autosize": true,
          "font": {
           "family": "sans-serif",
           "size": 14
          },
          "hovermode": "closest",
          "legend": {
           "font": {
            "size": 10
           }
          },
          "margin": {
           "b": 40,
           "l": 50,
           "pad": 4,
           "r": 25,
           "t": 20
          },
          "template": {
           "data": {
            "bar": [
             {
              "error_x": {
               "color": "#2a3f5f"
              },
              "error_y": {
               "color": "#2a3f5f"
              },
              "marker": {
               "line": {
                "color": "white",
                "width": 0.5
               },
               "pattern": {
                "fillmode": "overlay",
                "size": 10,
                "solidity": 0.2
               }
              },
              "type": "bar"
             }
            ],
            "barpolar": [
             {
              "marker": {
               "line": {
                "color": "white",
                "width": 0.5
               },
               "pattern": {
                "fillmode": "overlay",
                "size": 10,
                "solidity": 0.2
               }
              },
              "type": "barpolar"
             }
            ],
            "carpet": [
             {
              "aaxis": {
               "endlinecolor": "#2a3f5f",
               "gridcolor": "#C8D4E3",
               "linecolor": "#C8D4E3",
               "minorgridcolor": "#C8D4E3",
               "startlinecolor": "#2a3f5f"
              },
              "baxis": {
               "endlinecolor": "#2a3f5f",
               "gridcolor": "#C8D4E3",
               "linecolor": "#C8D4E3",
               "minorgridcolor": "#C8D4E3",
               "startlinecolor": "#2a3f5f"
              },
              "type": "carpet"
             }
            ],
            "choropleth": [
             {
              "colorbar": {
               "outlinewidth": 0,
               "ticks": ""
              },
              "type": "choropleth"
             }
            ],
            "contour": [
             {
              "colorbar": {
               "outlinewidth": 0,
               "ticks": ""
              },
              "colorscale": [
               [
                0,
                "#0d0887"
               ],
               [
                0.1111111111111111,
                "#46039f"
               ],
               [
                0.2222222222222222,
                "#7201a8"
               ],
               [
                0.3333333333333333,
                "#9c179e"
               ],
               [
                0.4444444444444444,
                "#bd3786"
               ],
               [
                0.5555555555555556,
                "#d8576b"
               ],
               [
                0.6666666666666666,
                "#ed7953"
               ],
               [
                0.7777777777777778,
                "#fb9f3a"
               ],
               [
                0.8888888888888888,
                "#fdca26"
               ],
               [
                1,
                "#f0f921"
               ]
              ],
              "type": "contour"
             }
            ],
            "contourcarpet": [
             {
              "colorbar": {
               "outlinewidth": 0,
               "ticks": ""
              },
              "type": "contourcarpet"
             }
            ],
            "heatmap": [
             {
              "colorbar": {
               "outlinewidth": 0,
               "ticks": ""
              },
              "colorscale": [
               [
                0,
                "#0d0887"
               ],
               [
                0.1111111111111111,
                "#46039f"
               ],
               [
                0.2222222222222222,
                "#7201a8"
               ],
               [
                0.3333333333333333,
                "#9c179e"
               ],
               [
                0.4444444444444444,
                "#bd3786"
               ],
               [
                0.5555555555555556,
                "#d8576b"
               ],
               [
                0.6666666666666666,
                "#ed7953"
               ],
               [
                0.7777777777777778,
                "#fb9f3a"
               ],
               [
                0.8888888888888888,
                "#fdca26"
               ],
               [
                1,
                "#f0f921"
               ]
              ],
              "type": "heatmap"
             }
            ],
            "heatmapgl": [
             {
              "colorbar": {
               "outlinewidth": 0,
               "ticks": ""
              },
              "colorscale": [
               [
                0,
                "#0d0887"
               ],
               [
                0.1111111111111111,
                "#46039f"
               ],
               [
                0.2222222222222222,
                "#7201a8"
               ],
               [
                0.3333333333333333,
                "#9c179e"
               ],
               [
                0.4444444444444444,
                "#bd3786"
               ],
               [
                0.5555555555555556,
                "#d8576b"
               ],
               [
                0.6666666666666666,
                "#ed7953"
               ],
               [
                0.7777777777777778,
                "#fb9f3a"
               ],
               [
                0.8888888888888888,
                "#fdca26"
               ],
               [
                1,
                "#f0f921"
               ]
              ],
              "type": "heatmapgl"
             }
            ],
            "histogram": [
             {
              "marker": {
               "pattern": {
                "fillmode": "overlay",
                "size": 10,
                "solidity": 0.2
               }
              },
              "type": "histogram"
             }
            ],
            "histogram2d": [
             {
              "colorbar": {
               "outlinewidth": 0,
               "ticks": ""
              },
              "colorscale": [
               [
                0,
                "#0d0887"
               ],
               [
                0.1111111111111111,
                "#46039f"
               ],
               [
                0.2222222222222222,
                "#7201a8"
               ],
               [
                0.3333333333333333,
                "#9c179e"
               ],
               [
                0.4444444444444444,
                "#bd3786"
               ],
               [
                0.5555555555555556,
                "#d8576b"
               ],
               [
                0.6666666666666666,
                "#ed7953"
               ],
               [
                0.7777777777777778,
                "#fb9f3a"
               ],
               [
                0.8888888888888888,
                "#fdca26"
               ],
               [
                1,
                "#f0f921"
               ]
              ],
              "type": "histogram2d"
             }
            ],
            "histogram2dcontour": [
             {
              "colorbar": {
               "outlinewidth": 0,
               "ticks": ""
              },
              "colorscale": [
               [
                0,
                "#0d0887"
               ],
               [
                0.1111111111111111,
                "#46039f"
               ],
               [
                0.2222222222222222,
                "#7201a8"
               ],
               [
                0.3333333333333333,
                "#9c179e"
               ],
               [
                0.4444444444444444,
                "#bd3786"
               ],
               [
                0.5555555555555556,
                "#d8576b"
               ],
               [
                0.6666666666666666,
                "#ed7953"
               ],
               [
                0.7777777777777778,
                "#fb9f3a"
               ],
               [
                0.8888888888888888,
                "#fdca26"
               ],
               [
                1,
                "#f0f921"
               ]
              ],
              "type": "histogram2dcontour"
             }
            ],
            "mesh3d": [
             {
              "colorbar": {
               "outlinewidth": 0,
               "ticks": ""
              },
              "type": "mesh3d"
             }
            ],
            "parcoords": [
             {
              "line": {
               "colorbar": {
                "outlinewidth": 0,
                "ticks": ""
               }
              },
              "type": "parcoords"
             }
            ],
            "pie": [
             {
              "automargin": true,
              "type": "pie"
             }
            ],
            "scatter": [
             {
              "fillpattern": {
               "fillmode": "overlay",
               "size": 10,
               "solidity": 0.2
              },
              "type": "scatter"
             }
            ],
            "scatter3d": [
             {
              "line": {
               "colorbar": {
                "outlinewidth": 0,
                "ticks": ""
               }
              },
              "marker": {
               "colorbar": {
                "outlinewidth": 0,
                "ticks": ""
               }
              },
              "type": "scatter3d"
             }
            ],
            "scattercarpet": [
             {
              "marker": {
               "colorbar": {
                "outlinewidth": 0,
                "ticks": ""
               }
              },
              "type": "scattercarpet"
             }
            ],
            "scattergeo": [
             {
              "marker": {
               "colorbar": {
                "outlinewidth": 0,
                "ticks": ""
               }
              },
              "type": "scattergeo"
             }
            ],
            "scattergl": [
             {
              "marker": {
               "colorbar": {
                "outlinewidth": 0,
                "ticks": ""
               }
              },
              "type": "scattergl"
             }
            ],
            "scattermapbox": [
             {
              "marker": {
               "colorbar": {
                "outlinewidth": 0,
                "ticks": ""
               }
              },
              "type": "scattermapbox"
             }
            ],
            "scatterpolar": [
             {
              "marker": {
               "colorbar": {
                "outlinewidth": 0,
                "ticks": ""
               }
              },
              "type": "scatterpolar"
             }
            ],
            "scatterpolargl": [
             {
              "marker": {
               "colorbar": {
                "outlinewidth": 0,
                "ticks": ""
               }
              },
              "type": "scatterpolargl"
             }
            ],
            "scatterternary": [
             {
              "marker": {
               "colorbar": {
                "outlinewidth": 0,
                "ticks": ""
               }
              },
              "type": "scatterternary"
             }
            ],
            "surface": [
             {
              "colorbar": {
               "outlinewidth": 0,
               "ticks": ""
              },
              "colorscale": [
               [
                0,
                "#0d0887"
               ],
               [
                0.1111111111111111,
                "#46039f"
               ],
               [
                0.2222222222222222,
                "#7201a8"
               ],
               [
                0.3333333333333333,
                "#9c179e"
               ],
               [
                0.4444444444444444,
                "#bd3786"
               ],
               [
                0.5555555555555556,
                "#d8576b"
               ],
               [
                0.6666666666666666,
                "#ed7953"
               ],
               [
                0.7777777777777778,
                "#fb9f3a"
               ],
               [
                0.8888888888888888,
                "#fdca26"
               ],
               [
                1,
                "#f0f921"
               ]
              ],
              "type": "surface"
             }
            ],
            "table": [
             {
              "cells": {
               "fill": {
                "color": "#EBF0F8"
               },
               "line": {
                "color": "white"
               }
              },
              "header": {
               "fill": {
                "color": "#C8D4E3"
               },
               "line": {
                "color": "white"
               }
              },
              "type": "table"
             }
            ]
           },
           "layout": {
            "annotationdefaults": {
             "arrowcolor": "#2a3f5f",
             "arrowhead": 0,
             "arrowwidth": 1
            },
            "autotypenumbers": "strict",
            "coloraxis": {
             "colorbar": {
              "outlinewidth": 0,
              "ticks": ""
             }
            },
            "colorscale": {
             "diverging": [
              [
               0,
               "#8e0152"
              ],
              [
               0.1,
               "#c51b7d"
              ],
              [
               0.2,
               "#de77ae"
              ],
              [
               0.3,
               "#f1b6da"
              ],
              [
               0.4,
               "#fde0ef"
              ],
              [
               0.5,
               "#f7f7f7"
              ],
              [
               0.6,
               "#e6f5d0"
              ],
              [
               0.7,
               "#b8e186"
              ],
              [
               0.8,
               "#7fbc41"
              ],
              [
               0.9,
               "#4d9221"
              ],
              [
               1,
               "#276419"
              ]
             ],
             "sequential": [
              [
               0,
               "#0d0887"
              ],
              [
               0.1111111111111111,
               "#46039f"
              ],
              [
               0.2222222222222222,
               "#7201a8"
              ],
              [
               0.3333333333333333,
               "#9c179e"
              ],
              [
               0.4444444444444444,
               "#bd3786"
              ],
              [
               0.5555555555555556,
               "#d8576b"
              ],
              [
               0.6666666666666666,
               "#ed7953"
              ],
              [
               0.7777777777777778,
               "#fb9f3a"
              ],
              [
               0.8888888888888888,
               "#fdca26"
              ],
              [
               1,
               "#f0f921"
              ]
             ],
             "sequentialminus": [
              [
               0,
               "#0d0887"
              ],
              [
               0.1111111111111111,
               "#46039f"
              ],
              [
               0.2222222222222222,
               "#7201a8"
              ],
              [
               0.3333333333333333,
               "#9c179e"
              ],
              [
               0.4444444444444444,
               "#bd3786"
              ],
              [
               0.5555555555555556,
               "#d8576b"
              ],
              [
               0.6666666666666666,
               "#ed7953"
              ],
              [
               0.7777777777777778,
               "#fb9f3a"
              ],
              [
               0.8888888888888888,
               "#fdca26"
              ],
              [
               1,
               "#f0f921"
              ]
             ]
            },
            "colorway": [
             "#636efa",
             "#EF553B",
             "#00cc96",
             "#ab63fa",
             "#FFA15A",
             "#19d3f3",
             "#FF6692",
             "#B6E880",
             "#FF97FF",
             "#FECB52"
            ],
            "font": {
             "color": "#2a3f5f"
            },
            "geo": {
             "bgcolor": "white",
             "lakecolor": "white",
             "landcolor": "white",
             "showlakes": true,
             "showland": true,
             "subunitcolor": "#C8D4E3"
            },
            "hoverlabel": {
             "align": "left"
            },
            "hovermode": "closest",
            "mapbox": {
             "style": "light"
            },
            "paper_bgcolor": "white",
            "plot_bgcolor": "white",
            "polar": {
             "angularaxis": {
              "gridcolor": "#EBF0F8",
              "linecolor": "#EBF0F8",
              "ticks": ""
             },
             "bgcolor": "white",
             "radialaxis": {
              "gridcolor": "#EBF0F8",
              "linecolor": "#EBF0F8",
              "ticks": ""
             }
            },
            "scene": {
             "xaxis": {
              "backgroundcolor": "white",
              "gridcolor": "#DFE8F3",
              "gridwidth": 2,
              "linecolor": "#EBF0F8",
              "showbackground": true,
              "ticks": "",
              "zerolinecolor": "#EBF0F8"
             },
             "yaxis": {
              "backgroundcolor": "white",
              "gridcolor": "#DFE8F3",
              "gridwidth": 2,
              "linecolor": "#EBF0F8",
              "showbackground": true,
              "ticks": "",
              "zerolinecolor": "#EBF0F8"
             },
             "zaxis": {
              "backgroundcolor": "white",
              "gridcolor": "#DFE8F3",
              "gridwidth": 2,
              "linecolor": "#EBF0F8",
              "showbackground": true,
              "ticks": "",
              "zerolinecolor": "#EBF0F8"
             }
            },
            "shapedefaults": {
             "line": {
              "color": "#2a3f5f"
             }
            },
            "ternary": {
             "aaxis": {
              "gridcolor": "#DFE8F3",
              "linecolor": "#A2B1C6",
              "ticks": ""
             },
             "baxis": {
              "gridcolor": "#DFE8F3",
              "linecolor": "#A2B1C6",
              "ticks": ""
             },
             "bgcolor": "white",
             "caxis": {
              "gridcolor": "#DFE8F3",
              "linecolor": "#A2B1C6",
              "ticks": ""
             }
            },
            "title": {
             "x": 0.05
            },
            "xaxis": {
             "automargin": true,
             "gridcolor": "#EBF0F8",
             "linecolor": "#EBF0F8",
             "ticks": "",
             "title": {
              "standoff": 15
             },
             "zerolinecolor": "#EBF0F8",
             "zerolinewidth": 2
            },
            "yaxis": {
             "automargin": true,
             "gridcolor": "#EBF0F8",
             "linecolor": "#EBF0F8",
             "ticks": "",
             "title": {
              "standoff": 15
             },
             "zerolinecolor": "#EBF0F8",
             "zerolinewidth": 2
            }
           }
          },
          "xaxis": {
           "automargin": true,
           "autorange": false,
           "fixedrange": true,
           "linecolor": "#444",
           "linewidth": 2,
           "minor": {
            "tickmode": "linear",
            "ticks": "outside"
           },
           "mirror": true,
           "showline": true,
           "tickmode": "linear",
           "ticks": "outside",
           "zeroline": false
          },
          "yaxis": {
           "automargin": true,
           "autorange": false,
           "fixedrange": true,
           "linecolor": "#444",
           "linewidth": 2,
           "minor": {
            "tickmode": "linear",
            "ticks": "outside"
           },
           "mirror": true,
           "showline": true,
           "tickmode": "linear",
           "ticks": "outside",
           "zeroline": false
          }
         }
        },
        "xaxis": {
         "dtick": 5,
         "minor": {
          "dtick": 1,
          "tick0": 0
         },
         "range": [
          0.8,
          20.2
         ],
         "tick0": 0,
         "title": {
          "text": "level"
         }
        },
        "yaxis": {
         "autorange": false,
         "dtick": 0.2,
         "minor": {
          "dtick": 0.1,
          "tick0": 0
         },
         "range": [
          0.9,
          2.1
         ],
         "tick0": 0,
         "title": {
          "text": "encounter DPR ratio"
         }
        }
       }
      }
     },
     "metadata": {},
     "output_type": "display_data"
    }
   ],
   "source": [
    "# Plots average encounter XP for each class on days with only one Deadly encounters and no short rest. \n",
    "n_enc = 1\n",
    "encounter_difficulty = 'Deadly'\n",
    "\n",
    "with open(f'../xp-and-player-characters/pc data - Medium 2 short rests.json', 'r') as fin:\n",
    "    pc_data0 = json.load(fin)\n",
    "\n",
    "with open(f'../xp-and-player-characters/pc data - {encounter_difficulty} 2 short rests.json', 'r') as fin:\n",
    "    pc_data1 = json.load(fin)\n",
    "\n",
    "levels = np.array(range(1,21,1))\n",
    "enc_XP_budget = 0.5 * np.array(ENCOUNTER_DIFFICULTIES['Daily']['XP'])\n",
    "\n",
    "fig = go.Figure(\n",
    "    layout=go.Layout(\n",
    "        template=TFB_TEMPLATE,\n",
    "        xaxis=dict(\n",
    "            title_text='level',\n",
    "            range=[0.8, 20.2],\n",
    "            tick0=0, dtick=5,\n",
    "            minor=dict(tick0=0, dtick=1),\n",
    "        ),\n",
    "        yaxis=dict(\n",
    "            autorange=False,\n",
    "            title_text='encounter DPR ratio',\n",
    "            range=[0.9, 2.1],\n",
    "            tick0=0, dtick=0.2,\n",
    "            minor=dict(tick0=0, dtick=0.1),\n",
    "        ),\n",
    "        legend=dict(\n",
    "            yanchor='bottom',  y=1.04,\n",
    "            xanchor='left', x=0.01,\n",
    "            orientation='h',\n",
    "        )\n",
    "    )\n",
    ")\n",
    "\n",
    "eXPmean = np.zeros(20)\n",
    "aXPmean = np.zeros(20)\n",
    "for pc in PC_CLASSES:\n",
    "    eXP = np.zeros(20)\n",
    "    for level in range(20):\n",
    "        encounters = pc_data1[pc][level]['encounters']\n",
    "        encounters = [x for x in encounters if x['type'] == 'encounter']\n",
    "        eXP[level] = np.mean([x['effective damage per round mean'] for x in encounters[0:n_enc]])\n",
    "\n",
    "    eXPmean += eXP\n",
    "    aXP  = np.array([x['effective damage per round mean'] for x in pc_data0[pc]])\n",
    "    aXPmean += aXP\n",
    "\n",
    "    fig.add_trace(go.Scatter(\n",
    "        x=levels, \n",
    "        y=eXP/aXP,\n",
    "        mode='lines+markers', \n",
    "        line={'color': PC_CLASSES[pc]['color']},\n",
    "        marker={'size': 5},\n",
    "        unselected=dict(marker=dict(opacity=0.0)),\n",
    "        name=pc,\n",
    "        hovertemplate=\n",
    "            '<b>'+pc+'</b><br>'+\n",
    "            'lvl %{x}<br>'+\n",
    "            'eff DPR %{y:.2f}'+\n",
    "            '<extra></extra>'\n",
    "    ))\n",
    "\n",
    "eXPmean /= len(PC_CLASSES)\n",
    "aXPmean /= len(PC_CLASSES)\n",
    "fig.add_trace(go.Scatter(\n",
    "    x=levels, \n",
    "    y=eXPmean/aXPmean,\n",
    "    mode='lines', \n",
    "    line=dict(color='black', dash='dash'),\n",
    "    unselected=dict(marker=dict(opacity=0.0)),\n",
    "    name='average',\n",
    "    hoverinfo='skip'\n",
    "))\n",
    "\n",
    "# show figure\n",
    "fig.show(config=TFB_CONFIG)\n",
    "\n",
    "# save large format figure\n",
    "if SAVEFIGS:\n",
    "    file_name = f'./fig-single-encounter-edpr-vs-level-{encounter_difficulty.lower()}-large.html'\n",
    "    fig_html = fig.to_html(\n",
    "        config=TFB_CONFIG,\n",
    "        include_plotlyjs=False, \n",
    "        full_html=False, \n",
    "    )\n",
    "    fig_soup = BeautifulSoup(fig_html, 'html.parser')\n",
    "    fig_soup.div['class'] = 'plotly-div-large'\n",
    "    fig_soup.div['style'] = 'aspect-ratio:600/550'\n",
    "    with open(file_name, 'wb') as fout:\n",
    "        fout.write(fig_soup.prettify('utf-8'))\n",
    "\n",
    "# save small format figure\n",
    "if SAVEFIGS:\n",
    "    fig.update_traces(marker=dict(size=4))\n",
    "    fig.update_layout(font=dict(size=10), legend=dict(font_size=8))\n",
    "    file_name = f'./fig-single-encounter-edpr-vs-level-{encounter_difficulty.lower()}-small.html'\n",
    "    fig_html = fig.to_html(\n",
    "        config=TFB_CONFIG,\n",
    "        include_plotlyjs=False, \n",
    "        full_html=False, \n",
    "    )\n",
    "    fig_soup = BeautifulSoup(fig_html, 'html.parser')\n",
    "    fig_soup.div['class'] = 'plotly-div-small'\n",
    "    fig_soup.div['style'] = 'aspect-ratio:600/600'\n",
    "    with open(file_name, 'wb') as fout:\n",
    "        fout.write(fig_soup.prettify('utf-8'))"
   ]
  },
  {
   "cell_type": "code",
   "execution_count": 21,
   "metadata": {},
   "outputs": [
    {
     "data": {
      "application/vnd.plotly.v1+json": {
       "config": {
        "autosizable": true,
        "displayModeBar": "hover",
        "displaylogo": false,
        "modeBarButtonsToRemove": [
         "select2d",
         "lasso2d",
         "zoom2d",
         "zoomIn2d",
         "zoomOut2d",
         "pan2d",
         "autoScale2d",
         "hoverClosestCartesian",
         "hoverCompareCartesian",
         "toggleSpikelines",
         "resetScale2d"
        ],
        "plotlyServerURL": "https://plot.ly",
        "responsive": true,
        "showAxisDragHandles": false,
        "toImageButtonOptions": {
         "filename": "tfb-plot",
         "format": "png",
         "height": 450,
         "scale": 2,
         "width": 600
        }
       },
       "data": [
        {
         "hovertemplate": "<b>Barbarian</b><br>lvl %{x}<br>eff HP %{y:.2f}<extra></extra>",
         "line": {
          "color": "#E7623E"
         },
         "marker": {
          "size": 5
         },
         "mode": "lines+markers",
         "name": "Barbarian",
         "type": "scatter",
         "unselected": {
          "marker": {
           "opacity": 0
          }
         },
         "x": [
          1,
          2,
          3,
          4,
          5,
          6,
          7,
          8,
          9,
          10,
          11,
          12,
          13,
          14,
          15,
          16,
          17,
          18,
          19,
          20
         ],
         "y": [
          1.2857142857142858,
          1.2857142857142858,
          1.2631578947368423,
          1.2352941176470589,
          1.235294117647059,
          1.1666666666666667,
          1.1666666666666665,
          1.1666666666666665,
          1.1666666666666667,
          1.2,
          1.1666666666666665,
          1.0588235294117647,
          1.0588235294117647,
          1.0588235294117647,
          1.0588235294117645,
          1.0588235294117645,
          0.9999999999999998,
          0.9999999999999999,
          1,
          0.9999999999999997
         ]
        },
        {
         "hovertemplate": "<b>Bard</b><br>lvl %{x}<br>eff HP %{y:.2f}<extra></extra>",
         "line": {
          "color": "#AB6DAC"
         },
         "marker": {
          "size": 5
         },
         "mode": "lines+markers",
         "name": "Bard",
         "type": "scatter",
         "unselected": {
          "marker": {
           "opacity": 0
          }
         },
         "x": [
          1,
          2,
          3,
          4,
          5,
          6,
          7,
          8,
          9,
          10,
          11,
          12,
          13,
          14,
          15,
          16,
          17,
          18,
          19,
          20
         ],
         "y": [
          1.0305882352941176,
          1.0305882352941178,
          1.0336283185840707,
          1.042953020134228,
          1.0283185840707967,
          1.0252941176470587,
          1.0252941176470587,
          1.0288184438040346,
          1.0288184438040344,
          1.0588235294117647,
          1.0413223140495869,
          1.0188679245283019,
          1.0285714285714285,
          1.0285714285714285,
          1.0490797546012272,
          1.049079754601227,
          1.049079754601227,
          1.049079754601227,
          1.0363636363636364,
          1.0640000000000003
         ]
        },
        {
         "hovertemplate": "<b>Cleric</b><br>lvl %{x}<br>eff HP %{y:.2f}<extra></extra>",
         "line": {
          "color": "#91A1B2"
         },
         "marker": {
          "size": 5
         },
         "mode": "lines+markers",
         "name": "Cleric",
         "type": "scatter",
         "unselected": {
          "marker": {
           "opacity": 0
          }
         },
         "x": [
          1,
          2,
          3,
          4,
          5,
          6,
          7,
          8,
          9,
          10,
          11,
          12,
          13,
          14,
          15,
          16,
          17,
          18,
          19,
          20
         ],
         "y": [
          1,
          1.0000000000000002,
          1,
          1,
          1.0000000000000002,
          1,
          0.9999999999999998,
          0.9999999999999999,
          0.9999999999999998,
          1,
          1.0000000000000002,
          1,
          1,
          0.9999999999999998,
          1.0000000000000002,
          1,
          1,
          1,
          1,
          0.9999999999999998
         ]
        },
        {
         "hovertemplate": "<b>Druid</b><br>lvl %{x}<br>eff HP %{y:.2f}<extra></extra>",
         "line": {
          "color": "#7A853B"
         },
         "marker": {
          "size": 5
         },
         "mode": "lines+markers",
         "name": "Druid",
         "type": "scatter",
         "unselected": {
          "marker": {
           "opacity": 0
          }
         },
         "x": [
          1,
          2,
          3,
          4,
          5,
          6,
          7,
          8,
          9,
          10,
          11,
          12,
          13,
          14,
          15,
          16,
          17,
          18,
          19,
          20
         ],
         "y": [
          1.0000000000000002,
          1,
          1,
          0.9999999999999999,
          1,
          1,
          1.0000000000000002,
          0.9999999999999999,
          1,
          1,
          1,
          1,
          1,
          1,
          1,
          0.9999999999999999,
          1,
          1,
          0.9999999999999999,
          1.0000000000000002
         ]
        },
        {
         "hovertemplate": "<b>Fighter</b><br>lvl %{x}<br>eff HP %{y:.2f}<extra></extra>",
         "line": {
          "color": "#7F513E"
         },
         "marker": {
          "size": 5
         },
         "mode": "lines+markers",
         "name": "Fighter",
         "type": "scatter",
         "unselected": {
          "marker": {
           "opacity": 0
          }
         },
         "x": [
          1,
          2,
          3,
          4,
          5,
          6,
          7,
          8,
          9,
          10,
          11,
          12,
          13,
          14,
          15,
          16,
          17,
          18,
          19,
          20
         ],
         "y": [
          1.2131147540983604,
          1.161290322580645,
          1.175983436853002,
          1.1407407407407408,
          1.129032258064516,
          1.120734908136483,
          1.1145475372279496,
          1.0985401459854016,
          1.095004095004095,
          1.1016393442622952,
          1.0897348742352142,
          1.068762278978389,
          1.0673952641165758,
          1.06046511627907,
          1.0595065312046443,
          1.058663028649386,
          1.0579150579150578,
          1.0572472594397078,
          1.0566473988439304,
          1.064638783269962
         ]
        },
        {
         "hovertemplate": "<b>Monk</b><br>lvl %{x}<br>eff HP %{y:.2f}<extra></extra>",
         "line": {
          "color": "#51A5C5"
         },
         "marker": {
          "size": 5
         },
         "mode": "lines+markers",
         "name": "Monk",
         "type": "scatter",
         "unselected": {
          "marker": {
           "opacity": 0
          }
         },
         "x": [
          1,
          2,
          3,
          4,
          5,
          6,
          7,
          8,
          9,
          10,
          11,
          12,
          13,
          14,
          15,
          16,
          17,
          18,
          19,
          20
         ],
         "y": [
          1,
          1.0000000000000002,
          1,
          1.0000000000000002,
          1.0000000000000002,
          1,
          0.9999999999999999,
          0.9999999999999999,
          1,
          1,
          1,
          0.9999999999999999,
          0.9999999999999999,
          0.9999999999999999,
          1.0000000000000002,
          1,
          1,
          1,
          0.9999999999999999,
          1
         ]
        },
        {
         "hovertemplate": "<b>Paladin</b><br>lvl %{x}<br>eff HP %{y:.2f}<extra></extra>",
         "line": {
          "color": "#B59E54"
         },
         "marker": {
          "size": 5
         },
         "mode": "lines+markers",
         "name": "Paladin",
         "type": "scatter",
         "unselected": {
          "marker": {
           "opacity": 0
          }
         },
         "x": [
          1,
          2,
          3,
          4,
          5,
          6,
          7,
          8,
          9,
          10,
          11,
          12,
          13,
          14,
          15,
          16,
          17,
          18,
          19,
          20
         ],
         "y": [
          1.0000000000000002,
          1,
          1,
          1,
          0.9999999999999998,
          1,
          1,
          1,
          1.0000000000000002,
          1,
          1.0000000000000002,
          1,
          1.0000000000000002,
          1,
          1,
          1,
          1,
          0.9999999999999998,
          1,
          1.0000000000000002
         ]
        },
        {
         "hovertemplate": "<b>Ranger</b><br>lvl %{x}<br>eff HP %{y:.2f}<extra></extra>",
         "line": {
          "color": "#507F62"
         },
         "marker": {
          "size": 5
         },
         "mode": "lines+markers",
         "name": "Ranger",
         "type": "scatter",
         "unselected": {
          "marker": {
           "opacity": 0
          }
         },
         "x": [
          1,
          2,
          3,
          4,
          5,
          6,
          7,
          8,
          9,
          10,
          11,
          12,
          13,
          14,
          15,
          16,
          17,
          18,
          19,
          20
         ],
         "y": [
          0.9999999999999998,
          1,
          1,
          0.9999999999999999,
          1,
          1.0000000000000002,
          0.9999999999999999,
          1.0000000000000002,
          1.0000000000000002,
          1,
          0.9999999999999998,
          1,
          1,
          0.9999999999999999,
          1.0000000000000002,
          1,
          1,
          1.0000000000000002,
          0.9999999999999998,
          1
         ]
        },
        {
         "hovertemplate": "<b>Rogue</b><br>lvl %{x}<br>eff HP %{y:.2f}<extra></extra>",
         "line": {
          "color": "#555752"
         },
         "marker": {
          "size": 5
         },
         "mode": "lines+markers",
         "name": "Rogue",
         "type": "scatter",
         "unselected": {
          "marker": {
           "opacity": 0
          }
         },
         "x": [
          1,
          2,
          3,
          4,
          5,
          6,
          7,
          8,
          9,
          10,
          11,
          12,
          13,
          14,
          15,
          16,
          17,
          18,
          19,
          20
         ],
         "y": [
          1.0000000000000002,
          1.0000000000000002,
          1,
          0.9999999999999999,
          1.0000000000000002,
          1,
          1,
          1,
          1,
          1,
          1,
          1,
          1.0000000000000002,
          1,
          1.0000000000000002,
          0.9999999999999998,
          1,
          1,
          1,
          1.0000000000000002
         ]
        },
        {
         "hovertemplate": "<b>Sorcerer</b><br>lvl %{x}<br>eff HP %{y:.2f}<extra></extra>",
         "line": {
          "color": "#992E2E"
         },
         "marker": {
          "size": 5
         },
         "mode": "lines+markers",
         "name": "Sorcerer",
         "type": "scatter",
         "unselected": {
          "marker": {
           "opacity": 0
          }
         },
         "x": [
          1,
          2,
          3,
          4,
          5,
          6,
          7,
          8,
          9,
          10,
          11,
          12,
          13,
          14,
          15,
          16,
          17,
          18,
          19,
          20
         ],
         "y": [
          1,
          1.0000000000000002,
          1,
          1.0000000000000002,
          1.0950495049504951,
          1.0950495049504951,
          1.0950495049504951,
          1.0950495049504951,
          1.1254901960784316,
          1.0991304347826087,
          1.1333333333333335,
          1.1333333333333335,
          1.1333333333333335,
          1.1333333333333333,
          1.1460674157303372,
          1.1333333333333335,
          1.096774193548387,
          1.0967741935483872,
          1.0851063829787233,
          1.1121495327102804
         ]
        },
        {
         "hovertemplate": "<b>Warlock</b><br>lvl %{x}<br>eff HP %{y:.2f}<extra></extra>",
         "line": {
          "color": "#7B469B"
         },
         "marker": {
          "size": 5
         },
         "mode": "lines+markers",
         "name": "Warlock",
         "type": "scatter",
         "unselected": {
          "marker": {
           "opacity": 0
          }
         },
         "x": [
          1,
          2,
          3,
          4,
          5,
          6,
          7,
          8,
          9,
          10,
          11,
          12,
          13,
          14,
          15,
          16,
          17,
          18,
          19,
          20
         ],
         "y": [
          1,
          1,
          1,
          1,
          1.0000000000000002,
          0.9999999999999999,
          0.9999999999999999,
          1,
          1,
          1,
          1,
          1,
          1.0000000000000002,
          0.9999999999999999,
          1,
          1,
          0.9999999999999999,
          1,
          1.0000000000000002,
          1
         ]
        },
        {
         "hovertemplate": "<b>Wizard</b><br>lvl %{x}<br>eff HP %{y:.2f}<extra></extra>",
         "line": {
          "color": "#2A50A1"
         },
         "marker": {
          "size": 5
         },
         "mode": "lines+markers",
         "name": "Wizard",
         "type": "scatter",
         "unselected": {
          "marker": {
           "opacity": 0
          }
         },
         "x": [
          1,
          2,
          3,
          4,
          5,
          6,
          7,
          8,
          9,
          10,
          11,
          12,
          13,
          14,
          15,
          16,
          17,
          18,
          19,
          20
         ],
         "y": [
          1,
          1.0000000000000002,
          1,
          1.0000000000000002,
          1.0950495049504951,
          1.0950495049504951,
          1.1254901960784314,
          1.1254901960784314,
          1.0950495049504954,
          1.0991304347826087,
          1.1442307692307696,
          1.1333333333333335,
          1.1208791208791211,
          1.120879120879121,
          1.1460674157303372,
          1.1460674157303372,
          1.108695652173913,
          1.108695652173913,
          1.096774193548387,
          1.1121495327102804
         ]
        },
        {
         "hoverinfo": "skip",
         "line": {
          "color": "black",
          "dash": "dash"
         },
         "mode": "lines",
         "name": "average",
         "type": "scatter",
         "unselected": {
          "marker": {
           "opacity": 0
          }
         },
         "x": [
          1,
          2,
          3,
          4,
          5,
          6,
          7,
          8,
          9,
          10,
          11,
          12,
          13,
          14,
          15,
          16,
          17,
          18,
          19,
          20
         ],
         "y": [
          1.0730091984231274,
          1.0573095171643874,
          1.0566359292735628,
          1.0486545905145133,
          1.0536700614274084,
          1.0457846736875251,
          1.0454277083225854,
          1.0435533186963317,
          1.0430159676021364,
          1.0477151370533742,
          1.0472098204300018,
          1.0318701747201993,
          1.0317814998799655,
          1.0306148266207713,
          1.0330066109513778,
          1.0327579067682071,
          1.0208803480561308,
          1.018312188644124,
          1.0157364340397046,
          1.0186491903987913
         ]
        }
       ],
       "layout": {
        "legend": {
         "orientation": "h",
         "x": 0.01,
         "xanchor": "left",
         "y": 1.04,
         "yanchor": "bottom"
        },
        "template": {
         "layout": {
          "autosize": true,
          "font": {
           "family": "sans-serif",
           "size": 14
          },
          "hovermode": "closest",
          "legend": {
           "font": {
            "size": 10
           }
          },
          "margin": {
           "b": 40,
           "l": 50,
           "pad": 4,
           "r": 25,
           "t": 20
          },
          "template": {
           "data": {
            "bar": [
             {
              "error_x": {
               "color": "#2a3f5f"
              },
              "error_y": {
               "color": "#2a3f5f"
              },
              "marker": {
               "line": {
                "color": "white",
                "width": 0.5
               },
               "pattern": {
                "fillmode": "overlay",
                "size": 10,
                "solidity": 0.2
               }
              },
              "type": "bar"
             }
            ],
            "barpolar": [
             {
              "marker": {
               "line": {
                "color": "white",
                "width": 0.5
               },
               "pattern": {
                "fillmode": "overlay",
                "size": 10,
                "solidity": 0.2
               }
              },
              "type": "barpolar"
             }
            ],
            "carpet": [
             {
              "aaxis": {
               "endlinecolor": "#2a3f5f",
               "gridcolor": "#C8D4E3",
               "linecolor": "#C8D4E3",
               "minorgridcolor": "#C8D4E3",
               "startlinecolor": "#2a3f5f"
              },
              "baxis": {
               "endlinecolor": "#2a3f5f",
               "gridcolor": "#C8D4E3",
               "linecolor": "#C8D4E3",
               "minorgridcolor": "#C8D4E3",
               "startlinecolor": "#2a3f5f"
              },
              "type": "carpet"
             }
            ],
            "choropleth": [
             {
              "colorbar": {
               "outlinewidth": 0,
               "ticks": ""
              },
              "type": "choropleth"
             }
            ],
            "contour": [
             {
              "colorbar": {
               "outlinewidth": 0,
               "ticks": ""
              },
              "colorscale": [
               [
                0,
                "#0d0887"
               ],
               [
                0.1111111111111111,
                "#46039f"
               ],
               [
                0.2222222222222222,
                "#7201a8"
               ],
               [
                0.3333333333333333,
                "#9c179e"
               ],
               [
                0.4444444444444444,
                "#bd3786"
               ],
               [
                0.5555555555555556,
                "#d8576b"
               ],
               [
                0.6666666666666666,
                "#ed7953"
               ],
               [
                0.7777777777777778,
                "#fb9f3a"
               ],
               [
                0.8888888888888888,
                "#fdca26"
               ],
               [
                1,
                "#f0f921"
               ]
              ],
              "type": "contour"
             }
            ],
            "contourcarpet": [
             {
              "colorbar": {
               "outlinewidth": 0,
               "ticks": ""
              },
              "type": "contourcarpet"
             }
            ],
            "heatmap": [
             {
              "colorbar": {
               "outlinewidth": 0,
               "ticks": ""
              },
              "colorscale": [
               [
                0,
                "#0d0887"
               ],
               [
                0.1111111111111111,
                "#46039f"
               ],
               [
                0.2222222222222222,
                "#7201a8"
               ],
               [
                0.3333333333333333,
                "#9c179e"
               ],
               [
                0.4444444444444444,
                "#bd3786"
               ],
               [
                0.5555555555555556,
                "#d8576b"
               ],
               [
                0.6666666666666666,
                "#ed7953"
               ],
               [
                0.7777777777777778,
                "#fb9f3a"
               ],
               [
                0.8888888888888888,
                "#fdca26"
               ],
               [
                1,
                "#f0f921"
               ]
              ],
              "type": "heatmap"
             }
            ],
            "heatmapgl": [
             {
              "colorbar": {
               "outlinewidth": 0,
               "ticks": ""
              },
              "colorscale": [
               [
                0,
                "#0d0887"
               ],
               [
                0.1111111111111111,
                "#46039f"
               ],
               [
                0.2222222222222222,
                "#7201a8"
               ],
               [
                0.3333333333333333,
                "#9c179e"
               ],
               [
                0.4444444444444444,
                "#bd3786"
               ],
               [
                0.5555555555555556,
                "#d8576b"
               ],
               [
                0.6666666666666666,
                "#ed7953"
               ],
               [
                0.7777777777777778,
                "#fb9f3a"
               ],
               [
                0.8888888888888888,
                "#fdca26"
               ],
               [
                1,
                "#f0f921"
               ]
              ],
              "type": "heatmapgl"
             }
            ],
            "histogram": [
             {
              "marker": {
               "pattern": {
                "fillmode": "overlay",
                "size": 10,
                "solidity": 0.2
               }
              },
              "type": "histogram"
             }
            ],
            "histogram2d": [
             {
              "colorbar": {
               "outlinewidth": 0,
               "ticks": ""
              },
              "colorscale": [
               [
                0,
                "#0d0887"
               ],
               [
                0.1111111111111111,
                "#46039f"
               ],
               [
                0.2222222222222222,
                "#7201a8"
               ],
               [
                0.3333333333333333,
                "#9c179e"
               ],
               [
                0.4444444444444444,
                "#bd3786"
               ],
               [
                0.5555555555555556,
                "#d8576b"
               ],
               [
                0.6666666666666666,
                "#ed7953"
               ],
               [
                0.7777777777777778,
                "#fb9f3a"
               ],
               [
                0.8888888888888888,
                "#fdca26"
               ],
               [
                1,
                "#f0f921"
               ]
              ],
              "type": "histogram2d"
             }
            ],
            "histogram2dcontour": [
             {
              "colorbar": {
               "outlinewidth": 0,
               "ticks": ""
              },
              "colorscale": [
               [
                0,
                "#0d0887"
               ],
               [
                0.1111111111111111,
                "#46039f"
               ],
               [
                0.2222222222222222,
                "#7201a8"
               ],
               [
                0.3333333333333333,
                "#9c179e"
               ],
               [
                0.4444444444444444,
                "#bd3786"
               ],
               [
                0.5555555555555556,
                "#d8576b"
               ],
               [
                0.6666666666666666,
                "#ed7953"
               ],
               [
                0.7777777777777778,
                "#fb9f3a"
               ],
               [
                0.8888888888888888,
                "#fdca26"
               ],
               [
                1,
                "#f0f921"
               ]
              ],
              "type": "histogram2dcontour"
             }
            ],
            "mesh3d": [
             {
              "colorbar": {
               "outlinewidth": 0,
               "ticks": ""
              },
              "type": "mesh3d"
             }
            ],
            "parcoords": [
             {
              "line": {
               "colorbar": {
                "outlinewidth": 0,
                "ticks": ""
               }
              },
              "type": "parcoords"
             }
            ],
            "pie": [
             {
              "automargin": true,
              "type": "pie"
             }
            ],
            "scatter": [
             {
              "fillpattern": {
               "fillmode": "overlay",
               "size": 10,
               "solidity": 0.2
              },
              "type": "scatter"
             }
            ],
            "scatter3d": [
             {
              "line": {
               "colorbar": {
                "outlinewidth": 0,
                "ticks": ""
               }
              },
              "marker": {
               "colorbar": {
                "outlinewidth": 0,
                "ticks": ""
               }
              },
              "type": "scatter3d"
             }
            ],
            "scattercarpet": [
             {
              "marker": {
               "colorbar": {
                "outlinewidth": 0,
                "ticks": ""
               }
              },
              "type": "scattercarpet"
             }
            ],
            "scattergeo": [
             {
              "marker": {
               "colorbar": {
                "outlinewidth": 0,
                "ticks": ""
               }
              },
              "type": "scattergeo"
             }
            ],
            "scattergl": [
             {
              "marker": {
               "colorbar": {
                "outlinewidth": 0,
                "ticks": ""
               }
              },
              "type": "scattergl"
             }
            ],
            "scattermapbox": [
             {
              "marker": {
               "colorbar": {
                "outlinewidth": 0,
                "ticks": ""
               }
              },
              "type": "scattermapbox"
             }
            ],
            "scatterpolar": [
             {
              "marker": {
               "colorbar": {
                "outlinewidth": 0,
                "ticks": ""
               }
              },
              "type": "scatterpolar"
             }
            ],
            "scatterpolargl": [
             {
              "marker": {
               "colorbar": {
                "outlinewidth": 0,
                "ticks": ""
               }
              },
              "type": "scatterpolargl"
             }
            ],
            "scatterternary": [
             {
              "marker": {
               "colorbar": {
                "outlinewidth": 0,
                "ticks": ""
               }
              },
              "type": "scatterternary"
             }
            ],
            "surface": [
             {
              "colorbar": {
               "outlinewidth": 0,
               "ticks": ""
              },
              "colorscale": [
               [
                0,
                "#0d0887"
               ],
               [
                0.1111111111111111,
                "#46039f"
               ],
               [
                0.2222222222222222,
                "#7201a8"
               ],
               [
                0.3333333333333333,
                "#9c179e"
               ],
               [
                0.4444444444444444,
                "#bd3786"
               ],
               [
                0.5555555555555556,
                "#d8576b"
               ],
               [
                0.6666666666666666,
                "#ed7953"
               ],
               [
                0.7777777777777778,
                "#fb9f3a"
               ],
               [
                0.8888888888888888,
                "#fdca26"
               ],
               [
                1,
                "#f0f921"
               ]
              ],
              "type": "surface"
             }
            ],
            "table": [
             {
              "cells": {
               "fill": {
                "color": "#EBF0F8"
               },
               "line": {
                "color": "white"
               }
              },
              "header": {
               "fill": {
                "color": "#C8D4E3"
               },
               "line": {
                "color": "white"
               }
              },
              "type": "table"
             }
            ]
           },
           "layout": {
            "annotationdefaults": {
             "arrowcolor": "#2a3f5f",
             "arrowhead": 0,
             "arrowwidth": 1
            },
            "autotypenumbers": "strict",
            "coloraxis": {
             "colorbar": {
              "outlinewidth": 0,
              "ticks": ""
             }
            },
            "colorscale": {
             "diverging": [
              [
               0,
               "#8e0152"
              ],
              [
               0.1,
               "#c51b7d"
              ],
              [
               0.2,
               "#de77ae"
              ],
              [
               0.3,
               "#f1b6da"
              ],
              [
               0.4,
               "#fde0ef"
              ],
              [
               0.5,
               "#f7f7f7"
              ],
              [
               0.6,
               "#e6f5d0"
              ],
              [
               0.7,
               "#b8e186"
              ],
              [
               0.8,
               "#7fbc41"
              ],
              [
               0.9,
               "#4d9221"
              ],
              [
               1,
               "#276419"
              ]
             ],
             "sequential": [
              [
               0,
               "#0d0887"
              ],
              [
               0.1111111111111111,
               "#46039f"
              ],
              [
               0.2222222222222222,
               "#7201a8"
              ],
              [
               0.3333333333333333,
               "#9c179e"
              ],
              [
               0.4444444444444444,
               "#bd3786"
              ],
              [
               0.5555555555555556,
               "#d8576b"
              ],
              [
               0.6666666666666666,
               "#ed7953"
              ],
              [
               0.7777777777777778,
               "#fb9f3a"
              ],
              [
               0.8888888888888888,
               "#fdca26"
              ],
              [
               1,
               "#f0f921"
              ]
             ],
             "sequentialminus": [
              [
               0,
               "#0d0887"
              ],
              [
               0.1111111111111111,
               "#46039f"
              ],
              [
               0.2222222222222222,
               "#7201a8"
              ],
              [
               0.3333333333333333,
               "#9c179e"
              ],
              [
               0.4444444444444444,
               "#bd3786"
              ],
              [
               0.5555555555555556,
               "#d8576b"
              ],
              [
               0.6666666666666666,
               "#ed7953"
              ],
              [
               0.7777777777777778,
               "#fb9f3a"
              ],
              [
               0.8888888888888888,
               "#fdca26"
              ],
              [
               1,
               "#f0f921"
              ]
             ]
            },
            "colorway": [
             "#636efa",
             "#EF553B",
             "#00cc96",
             "#ab63fa",
             "#FFA15A",
             "#19d3f3",
             "#FF6692",
             "#B6E880",
             "#FF97FF",
             "#FECB52"
            ],
            "font": {
             "color": "#2a3f5f"
            },
            "geo": {
             "bgcolor": "white",
             "lakecolor": "white",
             "landcolor": "white",
             "showlakes": true,
             "showland": true,
             "subunitcolor": "#C8D4E3"
            },
            "hoverlabel": {
             "align": "left"
            },
            "hovermode": "closest",
            "mapbox": {
             "style": "light"
            },
            "paper_bgcolor": "white",
            "plot_bgcolor": "white",
            "polar": {
             "angularaxis": {
              "gridcolor": "#EBF0F8",
              "linecolor": "#EBF0F8",
              "ticks": ""
             },
             "bgcolor": "white",
             "radialaxis": {
              "gridcolor": "#EBF0F8",
              "linecolor": "#EBF0F8",
              "ticks": ""
             }
            },
            "scene": {
             "xaxis": {
              "backgroundcolor": "white",
              "gridcolor": "#DFE8F3",
              "gridwidth": 2,
              "linecolor": "#EBF0F8",
              "showbackground": true,
              "ticks": "",
              "zerolinecolor": "#EBF0F8"
             },
             "yaxis": {
              "backgroundcolor": "white",
              "gridcolor": "#DFE8F3",
              "gridwidth": 2,
              "linecolor": "#EBF0F8",
              "showbackground": true,
              "ticks": "",
              "zerolinecolor": "#EBF0F8"
             },
             "zaxis": {
              "backgroundcolor": "white",
              "gridcolor": "#DFE8F3",
              "gridwidth": 2,
              "linecolor": "#EBF0F8",
              "showbackground": true,
              "ticks": "",
              "zerolinecolor": "#EBF0F8"
             }
            },
            "shapedefaults": {
             "line": {
              "color": "#2a3f5f"
             }
            },
            "ternary": {
             "aaxis": {
              "gridcolor": "#DFE8F3",
              "linecolor": "#A2B1C6",
              "ticks": ""
             },
             "baxis": {
              "gridcolor": "#DFE8F3",
              "linecolor": "#A2B1C6",
              "ticks": ""
             },
             "bgcolor": "white",
             "caxis": {
              "gridcolor": "#DFE8F3",
              "linecolor": "#A2B1C6",
              "ticks": ""
             }
            },
            "title": {
             "x": 0.05
            },
            "xaxis": {
             "automargin": true,
             "gridcolor": "#EBF0F8",
             "linecolor": "#EBF0F8",
             "ticks": "",
             "title": {
              "standoff": 15
             },
             "zerolinecolor": "#EBF0F8",
             "zerolinewidth": 2
            },
            "yaxis": {
             "automargin": true,
             "gridcolor": "#EBF0F8",
             "linecolor": "#EBF0F8",
             "ticks": "",
             "title": {
              "standoff": 15
             },
             "zerolinecolor": "#EBF0F8",
             "zerolinewidth": 2
            }
           }
          },
          "xaxis": {
           "automargin": true,
           "autorange": false,
           "fixedrange": true,
           "linecolor": "#444",
           "linewidth": 2,
           "minor": {
            "tickmode": "linear",
            "ticks": "outside"
           },
           "mirror": true,
           "showline": true,
           "tickmode": "linear",
           "ticks": "outside",
           "zeroline": false
          },
          "yaxis": {
           "automargin": true,
           "autorange": false,
           "fixedrange": true,
           "linecolor": "#444",
           "linewidth": 2,
           "minor": {
            "tickmode": "linear",
            "ticks": "outside"
           },
           "mirror": true,
           "showline": true,
           "tickmode": "linear",
           "ticks": "outside",
           "zeroline": false
          }
         }
        },
        "xaxis": {
         "dtick": 5,
         "minor": {
          "dtick": 1,
          "tick0": 0
         },
         "range": [
          0.8,
          20.2
         ],
         "tick0": 0,
         "title": {
          "text": "level"
         }
        },
        "yaxis": {
         "autorange": false,
         "dtick": 0.1,
         "minor": {
          "dtick": 0.5,
          "tick0": 0
         },
         "range": [
          0.95,
          1.45
         ],
         "tick0": 0,
         "title": {
          "text": "encounter HP ratio"
         }
        }
       }
      }
     },
     "metadata": {},
     "output_type": "display_data"
    }
   ],
   "source": [
    "# Plots average encounter HP for each class on days with only one Deadly encounters and no short rest. \n",
    "n_enc = 1\n",
    "encounter_difficulty = 'Deadly'\n",
    "\n",
    "with open(f'../xp-and-player-characters/pc data - Medium 2 short rests.json', 'r') as fin:\n",
    "    pc_data0 = json.load(fin)\n",
    "\n",
    "with open(f'../xp-and-player-characters/pc data - {encounter_difficulty} 2 short rests.json', 'r') as fin:\n",
    "    pc_data1 = json.load(fin)\n",
    "\n",
    "levels = np.array(range(1,21,1))\n",
    "enc_XP_budget = 0.5 * np.array(ENCOUNTER_DIFFICULTIES['Daily']['XP'])\n",
    "\n",
    "fig = go.Figure(\n",
    "    layout=go.Layout(\n",
    "        template=TFB_TEMPLATE,\n",
    "        xaxis=dict(\n",
    "            title_text='level',\n",
    "            range=[0.8, 20.2],\n",
    "            tick0=0, dtick=5,\n",
    "            minor=dict(tick0=0, dtick=1),\n",
    "        ),\n",
    "        yaxis=dict(\n",
    "            autorange=False,\n",
    "            title_text='encounter HP ratio',\n",
    "            range=[0.95, 1.45],\n",
    "            tick0=0, dtick=0.1,\n",
    "            minor=dict(tick0=0, dtick=0.5),\n",
    "        ),\n",
    "        legend=dict(\n",
    "            yanchor='bottom',  y=1.04,\n",
    "            xanchor='left', x=0.01,\n",
    "            orientation='h',\n",
    "        )\n",
    "    )\n",
    ")\n",
    "\n",
    "eXPmean = np.zeros(20)\n",
    "aXPmean = np.zeros(20)\n",
    "for pc in PC_CLASSES:\n",
    "    eXP = np.zeros(20)\n",
    "\n",
    "    for level in range(20):\n",
    "        encounters = pc_data1[pc][level]['encounters']\n",
    "        encounters = [x for x in encounters if x['type'] == 'encounter']\n",
    "        eXP[level] = np.mean([x['effective hit points mean'] for x in encounters[0:n_enc]])\n",
    "\n",
    "    eXPmean += eXP\n",
    "    #aXP  = np.array([x['encounter XP mean']/x['effective damage per round mean'] for x in pc_data0[pc]])\n",
    "    for level in range(20):\n",
    "        encounters = pc_data0[pc][level]['encounters']\n",
    "        encounters = [x for x in encounters if x['type'] == 'encounter']\n",
    "        aXP[level] = np.mean([x['effective hit points mean'] for x in encounters[0:]])\n",
    "    aXPmean += aXP\n",
    "\n",
    "    fig.add_trace(go.Scatter(\n",
    "        x=levels, \n",
    "        y=eXP/aXP,\n",
    "        mode='lines+markers', \n",
    "        line={'color': PC_CLASSES[pc]['color']},\n",
    "        marker={'size': 5},\n",
    "        unselected=dict(marker=dict(opacity=0.0)),\n",
    "        name=pc,\n",
    "        hovertemplate=\n",
    "            '<b>'+pc+'</b><br>'+\n",
    "            'lvl %{x}<br>'+\n",
    "            'eff HP %{y:.2f}'+\n",
    "            '<extra></extra>'\n",
    "    ))\n",
    "\n",
    "eXPmean /= len(PC_CLASSES)\n",
    "aXPmean /= len(PC_CLASSES)\n",
    "fig.add_trace(go.Scatter(\n",
    "    x=levels, \n",
    "    y=eXPmean/aXPmean,\n",
    "    mode='lines', \n",
    "    line=dict(color='black', dash='dash'),\n",
    "    unselected=dict(marker=dict(opacity=0.0)),\n",
    "    name='average',\n",
    "    hoverinfo='skip'\n",
    "))\n",
    "\n",
    "# show figure\n",
    "fig.show(config=TFB_CONFIG)\n",
    "\n",
    "# save large format figure\n",
    "if SAVEFIGS:\n",
    "    file_name = f'./fig-single-encounter-ehp-vs-level-{encounter_difficulty.lower()}-large.html'\n",
    "    fig_html = fig.to_html(\n",
    "        config=TFB_CONFIG,\n",
    "        include_plotlyjs=False, \n",
    "        full_html=False, \n",
    "    )\n",
    "    fig_soup = BeautifulSoup(fig_html, 'html.parser')\n",
    "    fig_soup.div['class'] = 'plotly-div-large'\n",
    "    fig_soup.div['style'] = 'aspect-ratio:600/550'\n",
    "    with open(file_name, 'wb') as fout:\n",
    "        fout.write(fig_soup.prettify('utf-8'))\n",
    "\n",
    "# save small format figure\n",
    "if SAVEFIGS:\n",
    "    fig.update_traces(marker=dict(size=4))\n",
    "    fig.update_layout(font=dict(size=10), legend=dict(font_size=8))\n",
    "    file_name = f'./fig-single-encounter-ehp-vs-level-{encounter_difficulty.lower()}-small.html'\n",
    "    fig_html = fig.to_html(\n",
    "        config=TFB_CONFIG,\n",
    "        include_plotlyjs=False, \n",
    "        full_html=False, \n",
    "    )\n",
    "    fig_soup = BeautifulSoup(fig_html, 'html.parser')\n",
    "    fig_soup.div['class'] = 'plotly-div-small'\n",
    "    fig_soup.div['style'] = 'aspect-ratio:600/600'\n",
    "    with open(file_name, 'wb') as fout:\n",
    "        fout.write(fig_soup.prettify('utf-8'))"
   ]
  },
  {
   "cell_type": "code",
   "execution_count": 22,
   "metadata": {},
   "outputs": [
    {
     "data": {
      "application/vnd.plotly.v1+json": {
       "config": {
        "autosizable": true,
        "displayModeBar": "hover",
        "displaylogo": false,
        "modeBarButtonsToRemove": [
         "select2d",
         "lasso2d",
         "zoom2d",
         "zoomIn2d",
         "zoomOut2d",
         "pan2d",
         "autoScale2d",
         "hoverClosestCartesian",
         "hoverCompareCartesian",
         "toggleSpikelines",
         "resetScale2d"
        ],
        "plotlyServerURL": "https://plot.ly",
        "responsive": true,
        "showAxisDragHandles": false,
        "toImageButtonOptions": {
         "filename": "tfb-plot",
         "format": "png",
         "height": 450,
         "scale": 2,
         "width": 600
        }
       },
       "data": [
        {
         "hovertemplate": "<b>Barbarian</b><br>lvl %{x}<br>enc XP %{y:.2f}<extra></extra>",
         "line": {
          "color": "#E7623E"
         },
         "marker": {
          "size": 5
         },
         "mode": "lines+markers",
         "name": "Barbarian",
         "type": "scatter",
         "unselected": {
          "marker": {
           "opacity": 0
          }
         },
         "x": [
          1,
          2,
          3,
          4,
          5,
          6,
          7,
          8,
          9,
          10,
          11,
          12,
          13,
          14,
          15,
          16,
          17,
          18,
          19,
          20
         ],
         "y": [
          1.4543325526932087,
          1.4543325526932085,
          1.4172015404364569,
          1.3426423200859288,
          1.3596004439511655,
          1.232741617357002,
          1.2327416173570018,
          1.2265293761356753,
          1.2506724045185584,
          1.2922599908130454,
          1.2506724045185584,
          1.0650683574400635,
          1.0919117647058825,
          1.0919117647058825,
          1.086754241926656,
          1.0950771364187901,
          1.0000000000000002,
          1,
          1.0000000000000002,
          1
         ]
        },
        {
         "hovertemplate": "<b>Bard</b><br>lvl %{x}<br>enc XP %{y:.2f}<extra></extra>",
         "line": {
          "color": "#AB6DAC"
         },
         "marker": {
          "size": 5
         },
         "mode": "lines+markers",
         "name": "Bard",
         "type": "scatter",
         "unselected": {
          "marker": {
           "opacity": 0
          }
         },
         "x": [
          1,
          2,
          3,
          4,
          5,
          6,
          7,
          8,
          9,
          10,
          11,
          12,
          13,
          14,
          15,
          16,
          17,
          18,
          19,
          20
         ],
         "y": [
          1.1361807461247497,
          1.1895658412158574,
          1.5183322857741466,
          1.526512186940966,
          1.2955256570713392,
          1.3518659558263522,
          1.4320622203065376,
          1.486531704868663,
          1.552230248824676,
          1.680474227857358,
          1.4420878841757683,
          1.3379324150662768,
          1.404136269299707,
          1.4041362692997075,
          1.4701305493669512,
          1.470130549366951,
          1.422293745109546,
          1.4222937451095459,
          1.3841186591387198,
          1.518713175576659
         ]
        },
        {
         "hovertemplate": "<b>Cleric</b><br>lvl %{x}<br>enc XP %{y:.2f}<extra></extra>",
         "line": {
          "color": "#91A1B2"
         },
         "marker": {
          "size": 5
         },
         "mode": "lines+markers",
         "name": "Cleric",
         "type": "scatter",
         "unselected": {
          "marker": {
           "opacity": 0
          }
         },
         "x": [
          1,
          2,
          3,
          4,
          5,
          6,
          7,
          8,
          9,
          10,
          11,
          12,
          13,
          14,
          15,
          16,
          17,
          18,
          19,
          20
         ],
         "y": [
          1.1169064748201438,
          1.1675257731958764,
          1.4864864864864864,
          1.4903846153846154,
          1.2867647058823528,
          1.3461538461538463,
          1.4244558258642765,
          1.3050314465408805,
          1.414873713751169,
          1.5207477403451108,
          1.3369565217391304,
          1.28125,
          1.3421625544267053,
          1.3421625544267053,
          1.4114549578742708,
          1.4114549578742708,
          1.380353170189099,
          1.380353170189099,
          1.3729872293170462,
          1.4741255390512698
         ]
        },
        {
         "hovertemplate": "<b>Druid</b><br>lvl %{x}<br>enc XP %{y:.2f}<extra></extra>",
         "line": {
          "color": "#7A853B"
         },
         "marker": {
          "size": 5
         },
         "mode": "lines+markers",
         "name": "Druid",
         "type": "scatter",
         "unselected": {
          "marker": {
           "opacity": 0
          }
         },
         "x": [
          1,
          2,
          3,
          4,
          5,
          6,
          7,
          8,
          9,
          10,
          11,
          12,
          13,
          14,
          15,
          16,
          17,
          18,
          19,
          20
         ],
         "y": [
          1.1169064748201438,
          1.1675257731958766,
          1.4864864864864866,
          1.4903846153846152,
          1.286764705882353,
          1.3461538461538463,
          1.4244558258642768,
          1.492805755395683,
          1.560887512899897,
          1.6718608852755195,
          1.452755905511811,
          1.370847902097902,
          1.424884437596302,
          1.424884437596302,
          1.4886363636363635,
          1.4886363636363635,
          1.4362702546296295,
          1.4362702546296298,
          1.4121930325528271,
          1.525285076846802
         ]
        },
        {
         "hovertemplate": "<b>Fighter</b><br>lvl %{x}<br>enc XP %{y:.2f}<extra></extra>",
         "line": {
          "color": "#7F513E"
         },
         "marker": {
          "size": 5
         },
         "mode": "lines+markers",
         "name": "Fighter",
         "type": "scatter",
         "unselected": {
          "marker": {
           "opacity": 0
          }
         },
         "x": [
          1,
          2,
          3,
          4,
          5,
          6,
          7,
          8,
          9,
          10,
          11,
          12,
          13,
          14,
          15,
          16,
          17,
          18,
          19,
          20
         ],
         "y": [
          1,
          0.9815668202764977,
          1.0508396595353118,
          1.0088566827697263,
          1.012600806451613,
          1.0045075887253223,
          1.0031625080930326,
          0.9996826404316088,
          0.9989139336965424,
          1.0190688524590163,
          0.9977684509206988,
          0.9635559921414538,
          0.9715066354410616,
          0.970764119601329,
          0.9780149096186833,
          0.9779238496837406,
          0.9610038610038609,
          0.9608769792935444,
          0.948121387283237,
          0.9910752006759612
         ]
        },
        {
         "hovertemplate": "<b>Monk</b><br>lvl %{x}<br>enc XP %{y:.2f}<extra></extra>",
         "line": {
          "color": "#51A5C5"
         },
         "marker": {
          "size": 5
         },
         "mode": "lines+markers",
         "name": "Monk",
         "type": "scatter",
         "unselected": {
          "marker": {
           "opacity": 0
          }
         },
         "x": [
          1,
          2,
          3,
          4,
          5,
          6,
          7,
          8,
          9,
          10,
          11,
          12,
          13,
          14,
          15,
          16,
          17,
          18,
          19,
          20
         ],
         "y": [
          1,
          0.966867469879518,
          1,
          0.9636871508379888,
          0.9759615384615384,
          0.974025974025974,
          0.9935897435897436,
          1.0126582278481013,
          1,
          1,
          1,
          1,
          1,
          1,
          1,
          1,
          1,
          1.0646551724137931,
          1.0833333333333333,
          1.0833333333333333
         ]
        },
        {
         "hovertemplate": "<b>Paladin</b><br>lvl %{x}<br>enc XP %{y:.2f}<extra></extra>",
         "line": {
          "color": "#B59E54"
         },
         "marker": {
          "size": 5
         },
         "mode": "lines+markers",
         "name": "Paladin",
         "type": "scatter",
         "unselected": {
          "marker": {
           "opacity": 0
          }
         },
         "x": [
          1,
          2,
          3,
          4,
          5,
          6,
          7,
          8,
          9,
          10,
          11,
          12,
          13,
          14,
          15,
          16,
          17,
          18,
          19,
          20
         ],
         "y": [
          1,
          1.1630434782608696,
          1.2887700534759359,
          1.23320537428023,
          1.297650130548303,
          1.2850678733031675,
          1.3416738567730802,
          1.3196125907990315,
          1.4817518248175183,
          1.5231923601637107,
          1.4303482587064675,
          1.3652234636871508,
          1.4325127334465195,
          1.4325127334465193,
          1.4629702194357366,
          1.4629702194357366,
          1.5527555346208193,
          1.5527555346208195,
          1.5639481000926785,
          1.671264855687606
         ]
        },
        {
         "hovertemplate": "<b>Ranger</b><br>lvl %{x}<br>enc XP %{y:.2f}<extra></extra>",
         "line": {
          "color": "#507F62"
         },
         "marker": {
          "size": 5
         },
         "mode": "lines+markers",
         "name": "Ranger",
         "type": "scatter",
         "unselected": {
          "marker": {
           "opacity": 0
          }
         },
         "x": [
          1,
          2,
          3,
          4,
          5,
          6,
          7,
          8,
          9,
          10,
          11,
          12,
          13,
          14,
          15,
          16,
          17,
          18,
          19,
          20
         ],
         "y": [
          1,
          1.2083333333333333,
          1.3673469387755102,
          1.288598574821853,
          1.344370860927152,
          1.330275229357798,
          1.3840262582056893,
          1.3531187122736417,
          1.4351851851851851,
          1.4795454545454545,
          1.4410299003322258,
          1.3529816513761466,
          1.3920595533498756,
          1.3920595533498756,
          1.4342996987951806,
          1.4342996987951806,
          1.421247531270573,
          1.421247531270573,
          1.3816781898177246,
          1.5041788856304987
         ]
        },
        {
         "hovertemplate": "<b>Rogue</b><br>lvl %{x}<br>enc XP %{y:.2f}<extra></extra>",
         "line": {
          "color": "#555752"
         },
         "marker": {
          "size": 5
         },
         "mode": "lines+markers",
         "name": "Rogue",
         "type": "scatter",
         "unselected": {
          "marker": {
           "opacity": 0
          }
         },
         "x": [
          1,
          2,
          3,
          4,
          5,
          6,
          7,
          8,
          9,
          10,
          11,
          12,
          13,
          14,
          15,
          16,
          17,
          18,
          19,
          20
         ],
         "y": [
          1,
          1,
          1,
          1,
          0.9999999999999999,
          1,
          1,
          1,
          1,
          1,
          1,
          1,
          0.9999999999999998,
          0.9999999999999998,
          1,
          1,
          1,
          1,
          1,
          0.9999999999999998
         ]
        },
        {
         "hovertemplate": "<b>Sorcerer</b><br>lvl %{x}<br>enc XP %{y:.2f}<extra></extra>",
         "line": {
          "color": "#992E2E"
         },
         "marker": {
          "size": 5
         },
         "mode": "lines+markers",
         "name": "Sorcerer",
         "type": "scatter",
         "unselected": {
          "marker": {
           "opacity": 0
          }
         },
         "x": [
          1,
          2,
          3,
          4,
          5,
          6,
          7,
          8,
          9,
          10,
          11,
          12,
          13,
          14,
          15,
          16,
          17,
          18,
          19,
          20
         ],
         "y": [
          1.0613207547169814,
          1.1675257731958761,
          1.5359477124183005,
          1.525522041763341,
          1.4362887596899223,
          1.5033103275975142,
          1.6063505073057684,
          1.6169974517573895,
          1.6865583401845676,
          1.7007914049323614,
          1.5674873690302467,
          1.4179583314561184,
          1.4673770624393399,
          1.4842383035374664,
          1.5418890966026428,
          1.5515876273117126,
          1.5482186094023733,
          1.5482186094023733,
          1.4755013293852268,
          1.5668836800502906
         ]
        },
        {
         "hovertemplate": "<b>Warlock</b><br>lvl %{x}<br>enc XP %{y:.2f}<extra></extra>",
         "line": {
          "color": "#7B469B"
         },
         "marker": {
          "size": 5
         },
         "mode": "lines+markers",
         "name": "Warlock",
         "type": "scatter",
         "unselected": {
          "marker": {
           "opacity": 0
          }
         },
         "x": [
          1,
          2,
          3,
          4,
          5,
          6,
          7,
          8,
          9,
          10,
          11,
          12,
          13,
          14,
          15,
          16,
          17,
          18,
          19,
          20
         ],
         "y": [
          0.9776785714285714,
          0.9590163934426229,
          1,
          0.9555984555984557,
          0.9757575757575757,
          0.9663865546218487,
          0.9577603143418469,
          0.9636871508379888,
          0.9455128205128207,
          0.9744744744744746,
          1.0213675213675213,
          0.9729406130268199,
          1.0569767441860463,
          1.0569767441860465,
          1.146551724137931,
          1.146551724137931,
          1.1858872793119057,
          1.185887279311906,
          1.1823487374940447,
          1.2049001248439453
         ]
        },
        {
         "hovertemplate": "<b>Wizard</b><br>lvl %{x}<br>enc XP %{y:.2f}<extra></extra>",
         "line": {
          "color": "#2A50A1"
         },
         "marker": {
          "size": 5
         },
         "mode": "lines+markers",
         "name": "Wizard",
         "type": "scatter",
         "unselected": {
          "marker": {
           "opacity": 0
          }
         },
         "x": [
          1,
          2,
          3,
          4,
          5,
          6,
          7,
          8,
          9,
          10,
          11,
          12,
          13,
          14,
          15,
          16,
          17,
          18,
          19,
          20
         ],
         "y": [
          1.1169064748201436,
          1.1675257731958761,
          1.5295404814004379,
          1.5209790209790208,
          1.4362887596899223,
          1.4855875831485588,
          1.574197467957512,
          1.5871074457180132,
          1.6046574035422507,
          1.6590412055451402,
          1.4903440213037737,
          1.3892484287709497,
          1.5175963793084468,
          1.5175963793084468,
          1.5361586933147515,
          1.5361586933147517,
          1.542612279975809,
          1.542612279975809,
          1.485965877820583,
          1.5856892931089834
         ]
        },
        {
         "hoverinfo": "skip",
         "line": {
          "color": "black",
          "dash": "dash"
         },
         "mode": "lines",
         "name": "average",
         "type": "scatter",
         "unselected": {
          "marker": {
           "opacity": 0
          }
         },
         "x": [
          1,
          2,
          3,
          4,
          5,
          6,
          7,
          8,
          9,
          10,
          11,
          12,
          13,
          14,
          15,
          16,
          17,
          18,
          19,
          20
         ],
         "y": [
          1.0918002164788383,
          1.132160281179519,
          1.2603670766964026,
          1.2225526431732439,
          1.2015381192705867,
          1.1946368618440573,
          1.2267705371154323,
          1.2264286201094483,
          1.2806166255671025,
          1.327941433817327,
          1.248379876923634,
          1.1696748627334101,
          1.2130049553268218,
          1.2081339304869245,
          1.238429354984084,
          1.2361084618746674,
          1.2238200486200654,
          1.2177873863365636,
          1.2157201304214154,
          1.2400649894330231
         ]
        }
       ],
       "layout": {
        "legend": {
         "orientation": "h",
         "x": 0.01,
         "xanchor": "left",
         "y": 1.04,
         "yanchor": "bottom"
        },
        "template": {
         "layout": {
          "autosize": true,
          "font": {
           "family": "sans-serif",
           "size": 14
          },
          "hovermode": "closest",
          "legend": {
           "font": {
            "size": 10
           }
          },
          "margin": {
           "b": 40,
           "l": 50,
           "pad": 4,
           "r": 25,
           "t": 20
          },
          "template": {
           "data": {
            "bar": [
             {
              "error_x": {
               "color": "#2a3f5f"
              },
              "error_y": {
               "color": "#2a3f5f"
              },
              "marker": {
               "line": {
                "color": "white",
                "width": 0.5
               },
               "pattern": {
                "fillmode": "overlay",
                "size": 10,
                "solidity": 0.2
               }
              },
              "type": "bar"
             }
            ],
            "barpolar": [
             {
              "marker": {
               "line": {
                "color": "white",
                "width": 0.5
               },
               "pattern": {
                "fillmode": "overlay",
                "size": 10,
                "solidity": 0.2
               }
              },
              "type": "barpolar"
             }
            ],
            "carpet": [
             {
              "aaxis": {
               "endlinecolor": "#2a3f5f",
               "gridcolor": "#C8D4E3",
               "linecolor": "#C8D4E3",
               "minorgridcolor": "#C8D4E3",
               "startlinecolor": "#2a3f5f"
              },
              "baxis": {
               "endlinecolor": "#2a3f5f",
               "gridcolor": "#C8D4E3",
               "linecolor": "#C8D4E3",
               "minorgridcolor": "#C8D4E3",
               "startlinecolor": "#2a3f5f"
              },
              "type": "carpet"
             }
            ],
            "choropleth": [
             {
              "colorbar": {
               "outlinewidth": 0,
               "ticks": ""
              },
              "type": "choropleth"
             }
            ],
            "contour": [
             {
              "colorbar": {
               "outlinewidth": 0,
               "ticks": ""
              },
              "colorscale": [
               [
                0,
                "#0d0887"
               ],
               [
                0.1111111111111111,
                "#46039f"
               ],
               [
                0.2222222222222222,
                "#7201a8"
               ],
               [
                0.3333333333333333,
                "#9c179e"
               ],
               [
                0.4444444444444444,
                "#bd3786"
               ],
               [
                0.5555555555555556,
                "#d8576b"
               ],
               [
                0.6666666666666666,
                "#ed7953"
               ],
               [
                0.7777777777777778,
                "#fb9f3a"
               ],
               [
                0.8888888888888888,
                "#fdca26"
               ],
               [
                1,
                "#f0f921"
               ]
              ],
              "type": "contour"
             }
            ],
            "contourcarpet": [
             {
              "colorbar": {
               "outlinewidth": 0,
               "ticks": ""
              },
              "type": "contourcarpet"
             }
            ],
            "heatmap": [
             {
              "colorbar": {
               "outlinewidth": 0,
               "ticks": ""
              },
              "colorscale": [
               [
                0,
                "#0d0887"
               ],
               [
                0.1111111111111111,
                "#46039f"
               ],
               [
                0.2222222222222222,
                "#7201a8"
               ],
               [
                0.3333333333333333,
                "#9c179e"
               ],
               [
                0.4444444444444444,
                "#bd3786"
               ],
               [
                0.5555555555555556,
                "#d8576b"
               ],
               [
                0.6666666666666666,
                "#ed7953"
               ],
               [
                0.7777777777777778,
                "#fb9f3a"
               ],
               [
                0.8888888888888888,
                "#fdca26"
               ],
               [
                1,
                "#f0f921"
               ]
              ],
              "type": "heatmap"
             }
            ],
            "heatmapgl": [
             {
              "colorbar": {
               "outlinewidth": 0,
               "ticks": ""
              },
              "colorscale": [
               [
                0,
                "#0d0887"
               ],
               [
                0.1111111111111111,
                "#46039f"
               ],
               [
                0.2222222222222222,
                "#7201a8"
               ],
               [
                0.3333333333333333,
                "#9c179e"
               ],
               [
                0.4444444444444444,
                "#bd3786"
               ],
               [
                0.5555555555555556,
                "#d8576b"
               ],
               [
                0.6666666666666666,
                "#ed7953"
               ],
               [
                0.7777777777777778,
                "#fb9f3a"
               ],
               [
                0.8888888888888888,
                "#fdca26"
               ],
               [
                1,
                "#f0f921"
               ]
              ],
              "type": "heatmapgl"
             }
            ],
            "histogram": [
             {
              "marker": {
               "pattern": {
                "fillmode": "overlay",
                "size": 10,
                "solidity": 0.2
               }
              },
              "type": "histogram"
             }
            ],
            "histogram2d": [
             {
              "colorbar": {
               "outlinewidth": 0,
               "ticks": ""
              },
              "colorscale": [
               [
                0,
                "#0d0887"
               ],
               [
                0.1111111111111111,
                "#46039f"
               ],
               [
                0.2222222222222222,
                "#7201a8"
               ],
               [
                0.3333333333333333,
                "#9c179e"
               ],
               [
                0.4444444444444444,
                "#bd3786"
               ],
               [
                0.5555555555555556,
                "#d8576b"
               ],
               [
                0.6666666666666666,
                "#ed7953"
               ],
               [
                0.7777777777777778,
                "#fb9f3a"
               ],
               [
                0.8888888888888888,
                "#fdca26"
               ],
               [
                1,
                "#f0f921"
               ]
              ],
              "type": "histogram2d"
             }
            ],
            "histogram2dcontour": [
             {
              "colorbar": {
               "outlinewidth": 0,
               "ticks": ""
              },
              "colorscale": [
               [
                0,
                "#0d0887"
               ],
               [
                0.1111111111111111,
                "#46039f"
               ],
               [
                0.2222222222222222,
                "#7201a8"
               ],
               [
                0.3333333333333333,
                "#9c179e"
               ],
               [
                0.4444444444444444,
                "#bd3786"
               ],
               [
                0.5555555555555556,
                "#d8576b"
               ],
               [
                0.6666666666666666,
                "#ed7953"
               ],
               [
                0.7777777777777778,
                "#fb9f3a"
               ],
               [
                0.8888888888888888,
                "#fdca26"
               ],
               [
                1,
                "#f0f921"
               ]
              ],
              "type": "histogram2dcontour"
             }
            ],
            "mesh3d": [
             {
              "colorbar": {
               "outlinewidth": 0,
               "ticks": ""
              },
              "type": "mesh3d"
             }
            ],
            "parcoords": [
             {
              "line": {
               "colorbar": {
                "outlinewidth": 0,
                "ticks": ""
               }
              },
              "type": "parcoords"
             }
            ],
            "pie": [
             {
              "automargin": true,
              "type": "pie"
             }
            ],
            "scatter": [
             {
              "fillpattern": {
               "fillmode": "overlay",
               "size": 10,
               "solidity": 0.2
              },
              "type": "scatter"
             }
            ],
            "scatter3d": [
             {
              "line": {
               "colorbar": {
                "outlinewidth": 0,
                "ticks": ""
               }
              },
              "marker": {
               "colorbar": {
                "outlinewidth": 0,
                "ticks": ""
               }
              },
              "type": "scatter3d"
             }
            ],
            "scattercarpet": [
             {
              "marker": {
               "colorbar": {
                "outlinewidth": 0,
                "ticks": ""
               }
              },
              "type": "scattercarpet"
             }
            ],
            "scattergeo": [
             {
              "marker": {
               "colorbar": {
                "outlinewidth": 0,
                "ticks": ""
               }
              },
              "type": "scattergeo"
             }
            ],
            "scattergl": [
             {
              "marker": {
               "colorbar": {
                "outlinewidth": 0,
                "ticks": ""
               }
              },
              "type": "scattergl"
             }
            ],
            "scattermapbox": [
             {
              "marker": {
               "colorbar": {
                "outlinewidth": 0,
                "ticks": ""
               }
              },
              "type": "scattermapbox"
             }
            ],
            "scatterpolar": [
             {
              "marker": {
               "colorbar": {
                "outlinewidth": 0,
                "ticks": ""
               }
              },
              "type": "scatterpolar"
             }
            ],
            "scatterpolargl": [
             {
              "marker": {
               "colorbar": {
                "outlinewidth": 0,
                "ticks": ""
               }
              },
              "type": "scatterpolargl"
             }
            ],
            "scatterternary": [
             {
              "marker": {
               "colorbar": {
                "outlinewidth": 0,
                "ticks": ""
               }
              },
              "type": "scatterternary"
             }
            ],
            "surface": [
             {
              "colorbar": {
               "outlinewidth": 0,
               "ticks": ""
              },
              "colorscale": [
               [
                0,
                "#0d0887"
               ],
               [
                0.1111111111111111,
                "#46039f"
               ],
               [
                0.2222222222222222,
                "#7201a8"
               ],
               [
                0.3333333333333333,
                "#9c179e"
               ],
               [
                0.4444444444444444,
                "#bd3786"
               ],
               [
                0.5555555555555556,
                "#d8576b"
               ],
               [
                0.6666666666666666,
                "#ed7953"
               ],
               [
                0.7777777777777778,
                "#fb9f3a"
               ],
               [
                0.8888888888888888,
                "#fdca26"
               ],
               [
                1,
                "#f0f921"
               ]
              ],
              "type": "surface"
             }
            ],
            "table": [
             {
              "cells": {
               "fill": {
                "color": "#EBF0F8"
               },
               "line": {
                "color": "white"
               }
              },
              "header": {
               "fill": {
                "color": "#C8D4E3"
               },
               "line": {
                "color": "white"
               }
              },
              "type": "table"
             }
            ]
           },
           "layout": {
            "annotationdefaults": {
             "arrowcolor": "#2a3f5f",
             "arrowhead": 0,
             "arrowwidth": 1
            },
            "autotypenumbers": "strict",
            "coloraxis": {
             "colorbar": {
              "outlinewidth": 0,
              "ticks": ""
             }
            },
            "colorscale": {
             "diverging": [
              [
               0,
               "#8e0152"
              ],
              [
               0.1,
               "#c51b7d"
              ],
              [
               0.2,
               "#de77ae"
              ],
              [
               0.3,
               "#f1b6da"
              ],
              [
               0.4,
               "#fde0ef"
              ],
              [
               0.5,
               "#f7f7f7"
              ],
              [
               0.6,
               "#e6f5d0"
              ],
              [
               0.7,
               "#b8e186"
              ],
              [
               0.8,
               "#7fbc41"
              ],
              [
               0.9,
               "#4d9221"
              ],
              [
               1,
               "#276419"
              ]
             ],
             "sequential": [
              [
               0,
               "#0d0887"
              ],
              [
               0.1111111111111111,
               "#46039f"
              ],
              [
               0.2222222222222222,
               "#7201a8"
              ],
              [
               0.3333333333333333,
               "#9c179e"
              ],
              [
               0.4444444444444444,
               "#bd3786"
              ],
              [
               0.5555555555555556,
               "#d8576b"
              ],
              [
               0.6666666666666666,
               "#ed7953"
              ],
              [
               0.7777777777777778,
               "#fb9f3a"
              ],
              [
               0.8888888888888888,
               "#fdca26"
              ],
              [
               1,
               "#f0f921"
              ]
             ],
             "sequentialminus": [
              [
               0,
               "#0d0887"
              ],
              [
               0.1111111111111111,
               "#46039f"
              ],
              [
               0.2222222222222222,
               "#7201a8"
              ],
              [
               0.3333333333333333,
               "#9c179e"
              ],
              [
               0.4444444444444444,
               "#bd3786"
              ],
              [
               0.5555555555555556,
               "#d8576b"
              ],
              [
               0.6666666666666666,
               "#ed7953"
              ],
              [
               0.7777777777777778,
               "#fb9f3a"
              ],
              [
               0.8888888888888888,
               "#fdca26"
              ],
              [
               1,
               "#f0f921"
              ]
             ]
            },
            "colorway": [
             "#636efa",
             "#EF553B",
             "#00cc96",
             "#ab63fa",
             "#FFA15A",
             "#19d3f3",
             "#FF6692",
             "#B6E880",
             "#FF97FF",
             "#FECB52"
            ],
            "font": {
             "color": "#2a3f5f"
            },
            "geo": {
             "bgcolor": "white",
             "lakecolor": "white",
             "landcolor": "white",
             "showlakes": true,
             "showland": true,
             "subunitcolor": "#C8D4E3"
            },
            "hoverlabel": {
             "align": "left"
            },
            "hovermode": "closest",
            "mapbox": {
             "style": "light"
            },
            "paper_bgcolor": "white",
            "plot_bgcolor": "white",
            "polar": {
             "angularaxis": {
              "gridcolor": "#EBF0F8",
              "linecolor": "#EBF0F8",
              "ticks": ""
             },
             "bgcolor": "white",
             "radialaxis": {
              "gridcolor": "#EBF0F8",
              "linecolor": "#EBF0F8",
              "ticks": ""
             }
            },
            "scene": {
             "xaxis": {
              "backgroundcolor": "white",
              "gridcolor": "#DFE8F3",
              "gridwidth": 2,
              "linecolor": "#EBF0F8",
              "showbackground": true,
              "ticks": "",
              "zerolinecolor": "#EBF0F8"
             },
             "yaxis": {
              "backgroundcolor": "white",
              "gridcolor": "#DFE8F3",
              "gridwidth": 2,
              "linecolor": "#EBF0F8",
              "showbackground": true,
              "ticks": "",
              "zerolinecolor": "#EBF0F8"
             },
             "zaxis": {
              "backgroundcolor": "white",
              "gridcolor": "#DFE8F3",
              "gridwidth": 2,
              "linecolor": "#EBF0F8",
              "showbackground": true,
              "ticks": "",
              "zerolinecolor": "#EBF0F8"
             }
            },
            "shapedefaults": {
             "line": {
              "color": "#2a3f5f"
             }
            },
            "ternary": {
             "aaxis": {
              "gridcolor": "#DFE8F3",
              "linecolor": "#A2B1C6",
              "ticks": ""
             },
             "baxis": {
              "gridcolor": "#DFE8F3",
              "linecolor": "#A2B1C6",
              "ticks": ""
             },
             "bgcolor": "white",
             "caxis": {
              "gridcolor": "#DFE8F3",
              "linecolor": "#A2B1C6",
              "ticks": ""
             }
            },
            "title": {
             "x": 0.05
            },
            "xaxis": {
             "automargin": true,
             "gridcolor": "#EBF0F8",
             "linecolor": "#EBF0F8",
             "ticks": "",
             "title": {
              "standoff": 15
             },
             "zerolinecolor": "#EBF0F8",
             "zerolinewidth": 2
            },
            "yaxis": {
             "automargin": true,
             "gridcolor": "#EBF0F8",
             "linecolor": "#EBF0F8",
             "ticks": "",
             "title": {
              "standoff": 15
             },
             "zerolinecolor": "#EBF0F8",
             "zerolinewidth": 2
            }
           }
          },
          "xaxis": {
           "automargin": true,
           "autorange": false,
           "fixedrange": true,
           "linecolor": "#444",
           "linewidth": 2,
           "minor": {
            "tickmode": "linear",
            "ticks": "outside"
           },
           "mirror": true,
           "showline": true,
           "tickmode": "linear",
           "ticks": "outside",
           "zeroline": false
          },
          "yaxis": {
           "automargin": true,
           "autorange": false,
           "fixedrange": true,
           "linecolor": "#444",
           "linewidth": 2,
           "minor": {
            "tickmode": "linear",
            "ticks": "outside"
           },
           "mirror": true,
           "showline": true,
           "tickmode": "linear",
           "ticks": "outside",
           "zeroline": false
          }
         }
        },
        "xaxis": {
         "dtick": 5,
         "minor": {
          "dtick": 1,
          "tick0": 0
         },
         "range": [
          0.8,
          20.2
         ],
         "tick0": 0,
         "title": {
          "text": "level"
         }
        },
        "yaxis": {
         "autorange": false,
         "dtick": 0.2,
         "minor": {
          "dtick": 0.1,
          "tick0": 0
         },
         "range": [
          0.9,
          1.7
         ],
         "tick0": 0,
         "title": {
          "text": "encounter XP ratio"
         }
        }
       }
      }
     },
     "metadata": {},
     "output_type": "display_data"
    }
   ],
   "source": [
    "# Plots average encounter XP for each class on days with only two Hard encounters and no short rest. \n",
    "n_enc = 2\n",
    "encounter_difficulty = 'Hard'\n",
    "\n",
    "with open(f'../xp-and-player-characters/pc data - Medium 2 short rests.json', 'r') as fin:\n",
    "    pc_data0 = json.load(fin)\n",
    "\n",
    "with open(f'../xp-and-player-characters/pc data - {encounter_difficulty} 2 short rests.json', 'r') as fin:\n",
    "    pc_data1 = json.load(fin)\n",
    "\n",
    "\n",
    "levels = np.array(range(1,21,1))\n",
    "enc_XP_budget = 0.5 * np.array(ENCOUNTER_DIFFICULTIES['Daily']['XP'])\n",
    "\n",
    "fig = go.Figure(\n",
    "    layout=go.Layout(\n",
    "        template=TFB_TEMPLATE,\n",
    "        xaxis=dict(\n",
    "            title_text='level',\n",
    "            range=[0.8, 20.2],\n",
    "            tick0=0, dtick=5,\n",
    "            minor=dict(tick0=0, dtick=1),\n",
    "        ),\n",
    "        yaxis=dict(\n",
    "            autorange=False,\n",
    "            title_text='encounter XP ratio',\n",
    "            range=[0.9, 1.7],\n",
    "            tick0=0, dtick=0.2,\n",
    "            minor=dict(tick0=0, dtick=0.1),\n",
    "        ),\n",
    "        legend=dict(\n",
    "            yanchor='bottom',  y=1.04,\n",
    "            xanchor='left', x=0.01,\n",
    "            orientation='h',\n",
    "        )\n",
    "    )\n",
    ")\n",
    "\n",
    "eXPmean = np.zeros(20)\n",
    "aXPmean = np.zeros(20)\n",
    "for pc in PC_CLASSES:\n",
    "    eXP = np.zeros(20)\n",
    "    for level in range(20):\n",
    "        encounters = pc_data1[pc][level]['encounters']\n",
    "        encounters = [x for x in encounters if x['type'] == 'encounter']\n",
    "        eXP[level] = np.mean([x['XP mean'] for x in encounters[0:n_enc]])\n",
    "\n",
    "    eXPmean += eXP\n",
    "    aXP  = np.array([x['encounter XP mean'] for x in pc_data0[pc]])\n",
    "    aXPmean += aXP\n",
    "    fig.add_trace(go.Scatter(\n",
    "        x=levels, \n",
    "        y=eXP/aXP,\n",
    "        mode='lines+markers', \n",
    "        line={'color': PC_CLASSES[pc]['color']},\n",
    "        marker={'size': 5},\n",
    "        unselected=dict(marker=dict(opacity=0.0)),\n",
    "        name=pc,\n",
    "        hovertemplate=\n",
    "            '<b>'+pc+'</b><br>'+\n",
    "            'lvl %{x}<br>'+\n",
    "            'enc XP %{y:.2f}'+\n",
    "            '<extra></extra>'\n",
    "    ))\n",
    "\n",
    "eXPmean /= len(PC_CLASSES)\n",
    "aXPmean /= len(PC_CLASSES)\n",
    "fig.add_trace(go.Scatter(\n",
    "    x=levels, \n",
    "    y=eXPmean/aXPmean,\n",
    "    mode='lines', \n",
    "    line=dict(color='black', dash='dash'),\n",
    "    unselected=dict(marker=dict(opacity=0.0)),\n",
    "    name='average',\n",
    "    hoverinfo='skip'\n",
    "))\n",
    "\n",
    "# show figure\n",
    "fig.show(config=TFB_CONFIG)\n",
    "\n",
    "# save large format figure\n",
    "if SAVEFIGS:\n",
    "    file_name = f'./fig-two-encounters-xp-vs-level-{encounter_difficulty.lower()}-large.html'\n",
    "    fig_html = fig.to_html(\n",
    "        config=TFB_CONFIG,\n",
    "        include_plotlyjs=False, \n",
    "        full_html=False, \n",
    "    )\n",
    "    fig_soup = BeautifulSoup(fig_html, 'html.parser')\n",
    "    fig_soup.div['class'] = 'plotly-div-large'\n",
    "    fig_soup.div['style'] = 'aspect-ratio:600/550'\n",
    "    with open(file_name, 'wb') as fout:\n",
    "        fout.write(fig_soup.prettify('utf-8'))\n",
    "\n",
    "# save small format figure\n",
    "if SAVEFIGS:\n",
    "    fig.update_traces(marker=dict(size=4))\n",
    "    fig.update_layout(font=dict(size=10), legend=dict(font_size=8))\n",
    "    file_name = f'./fig-two-encounters-xp-vs-level-{encounter_difficulty.lower()}-small.html'\n",
    "    fig_html = fig.to_html(\n",
    "        config=TFB_CONFIG,\n",
    "        include_plotlyjs=False, \n",
    "        full_html=False, \n",
    "    )\n",
    "    fig_soup = BeautifulSoup(fig_html, 'html.parser')\n",
    "    fig_soup.div['class'] = 'plotly-div-small'\n",
    "    fig_soup.div['style'] = 'aspect-ratio:600/600'\n",
    "    with open(file_name, 'wb') as fout:\n",
    "        fout.write(fig_soup.prettify('utf-8'))"
   ]
  },
  {
   "cell_type": "code",
   "execution_count": 23,
   "metadata": {},
   "outputs": [
    {
     "data": {
      "application/vnd.plotly.v1+json": {
       "config": {
        "autosizable": true,
        "displayModeBar": "hover",
        "displaylogo": false,
        "modeBarButtonsToRemove": [
         "select2d",
         "lasso2d",
         "zoom2d",
         "zoomIn2d",
         "zoomOut2d",
         "pan2d",
         "autoScale2d",
         "hoverClosestCartesian",
         "hoverCompareCartesian",
         "toggleSpikelines",
         "resetScale2d"
        ],
        "plotlyServerURL": "https://plot.ly",
        "responsive": true,
        "showAxisDragHandles": false,
        "toImageButtonOptions": {
         "filename": "tfb-plot",
         "format": "png",
         "height": 450,
         "scale": 2,
         "width": 600
        }
       },
       "data": [
        {
         "hovertemplate": "<b>Barbarian</b><br>lvl %{x}<br>enc XP %{y:.2f}<extra></extra>",
         "line": {
          "color": "#E7623E"
         },
         "marker": {
          "size": 5
         },
         "mode": "lines+markers",
         "name": "Barbarian",
         "type": "scatter",
         "unselected": {
          "marker": {
           "opacity": 0
          }
         },
         "x": [
          1,
          2,
          3,
          4,
          5,
          6,
          7,
          8,
          9,
          10,
          11,
          12,
          13,
          14,
          15,
          16,
          17,
          18,
          19,
          20
         ],
         "y": [
          1.4543325526932087,
          1.4543325526932085,
          1.4172015404364569,
          1.3426423200859288,
          1.3596004439511655,
          1.232741617357002,
          1.2327416173570018,
          1.2265293761356753,
          1.2506724045185584,
          1.2922599908130454,
          1.2506724045185582,
          1.0650683574400635,
          1.0919117647058825,
          1.0919117647058825,
          1.0867542419266558,
          1.0950771364187901,
          1,
          1,
          1.0000000000000002,
          1
         ]
        },
        {
         "hovertemplate": "<b>Bard</b><br>lvl %{x}<br>enc XP %{y:.2f}<extra></extra>",
         "line": {
          "color": "#AB6DAC"
         },
         "marker": {
          "size": 5
         },
         "mode": "lines+markers",
         "name": "Bard",
         "type": "scatter",
         "unselected": {
          "marker": {
           "opacity": 0
          }
         },
         "x": [
          1,
          2,
          3,
          4,
          5,
          6,
          7,
          8,
          9,
          10,
          11,
          12,
          13,
          14,
          15,
          16,
          17,
          18,
          19,
          20
         ],
         "y": [
          1.0868085737595492,
          1.1208247422680415,
          1.3633354284517079,
          1.3517441860465118,
          1.221218189403421,
          1.2735148514851484,
          1.3355307361722086,
          1.3851988176900338,
          1.4536865038413025,
          1.5760657289112572,
          1.431750063500127,
          1.3913083185471244,
          1.4539637118329607,
          1.4539637118329611,
          1.4297492256697282,
          1.5384651958919744,
          1.378094347334004,
          1.3780943473340037,
          1.4479447548959363,
          1.4502819953050998
         ]
        },
        {
         "hovertemplate": "<b>Cleric</b><br>lvl %{x}<br>enc XP %{y:.2f}<extra></extra>",
         "line": {
          "color": "#91A1B2"
         },
         "marker": {
          "size": 5
         },
         "mode": "lines+markers",
         "name": "Cleric",
         "type": "scatter",
         "unselected": {
          "marker": {
           "opacity": 0
          }
         },
         "x": [
          1,
          2,
          3,
          4,
          5,
          6,
          7,
          8,
          9,
          10,
          11,
          12,
          13,
          14,
          15,
          16,
          17,
          18,
          19,
          20
         ],
         "y": [
          1.074820143884892,
          1.1072164948453607,
          1.3405405405405406,
          1.3269230769230769,
          1.1941176470588235,
          1.2403846153846152,
          1.3008962868117797,
          1.209643605870021,
          1.2890551917680073,
          1.3684470008216927,
          1.276449275362319,
          1.28125,
          1.3421625544267053,
          1.3421625544267053,
          1.3117141931302658,
          1.4114549578742708,
          1.2831340378197997,
          1.2831340378197997,
          1.3729872293170462,
          1.3423095352180163
         ]
        },
        {
         "hovertemplate": "<b>Druid</b><br>lvl %{x}<br>enc XP %{y:.2f}<extra></extra>",
         "line": {
          "color": "#7A853B"
         },
         "marker": {
          "size": 5
         },
         "mode": "lines+markers",
         "name": "Druid",
         "type": "scatter",
         "unselected": {
          "marker": {
           "opacity": 0
          }
         },
         "x": [
          1,
          2,
          3,
          4,
          5,
          6,
          7,
          8,
          9,
          10,
          11,
          12,
          13,
          14,
          15,
          16,
          17,
          18,
          19,
          20
         ],
         "y": [
          1.0748201438848919,
          1.1072164948453609,
          1.3405405405405406,
          1.3269230769230769,
          1.1941176470588235,
          1.2403846153846154,
          1.3008962868117797,
          1.3537170263788967,
          1.4220846233230133,
          1.5044263775971092,
          1.387007874015748,
          1.370847902097902,
          1.424884437596302,
          1.424884437596302,
          1.3834415584415587,
          1.4886363636363635,
          1.3351128472222222,
          1.3351128472222225,
          1.4121930325528271,
          1.3888943976202281
         ]
        },
        {
         "hovertemplate": "<b>Fighter</b><br>lvl %{x}<br>enc XP %{y:.2f}<extra></extra>",
         "line": {
          "color": "#7F513E"
         },
         "marker": {
          "size": 5
         },
         "mode": "lines+markers",
         "name": "Fighter",
         "type": "scatter",
         "unselected": {
          "marker": {
           "opacity": 0
          }
         },
         "x": [
          1,
          2,
          3,
          4,
          5,
          6,
          7,
          8,
          9,
          10,
          11,
          12,
          13,
          14,
          15,
          16,
          17,
          18,
          19,
          20
         ],
         "y": [
          1.2131147540983604,
          1.2193548387096773,
          1.2543823326432024,
          1.1903381642512076,
          1.185483870967742,
          1.1938263151888622,
          1.187235420090642,
          1.1701840685496665,
          1.1426129686999251,
          1.1633311475409835,
          1.1608045399462066,
          1.1355599214145382,
          1.1436377829820452,
          1.1362126245847177,
          1.1209097506267318,
          1.142874860473769,
          1.1658223938223937,
          1.1650864799025578,
          1.188728323699422,
          1.1592733417828476
         ]
        },
        {
         "hovertemplate": "<b>Monk</b><br>lvl %{x}<br>enc XP %{y:.2f}<extra></extra>",
         "line": {
          "color": "#51A5C5"
         },
         "marker": {
          "size": 5
         },
         "mode": "lines+markers",
         "name": "Monk",
         "type": "scatter",
         "unselected": {
          "marker": {
           "opacity": 0
          }
         },
         "x": [
          1,
          2,
          3,
          4,
          5,
          6,
          7,
          8,
          9,
          10,
          11,
          12,
          13,
          14,
          15,
          16,
          17,
          18,
          19,
          20
         ],
         "y": [
          1,
          1.0463855421686745,
          1.0880000000000003,
          1.0726256983240225,
          1.0769230769230769,
          1.0389610389610389,
          1.0256410256410255,
          1.0126582278481013,
          1,
          1,
          1,
          1,
          1,
          1,
          1,
          1,
          1,
          1.0892241379310346,
          1.0833333333333333,
          1.1333333333333337
         ]
        },
        {
         "hovertemplate": "<b>Paladin</b><br>lvl %{x}<br>enc XP %{y:.2f}<extra></extra>",
         "line": {
          "color": "#B59E54"
         },
         "marker": {
          "size": 5
         },
         "mode": "lines+markers",
         "name": "Paladin",
         "type": "scatter",
         "unselected": {
          "marker": {
           "opacity": 0
          }
         },
         "x": [
          1,
          2,
          3,
          4,
          5,
          6,
          7,
          8,
          9,
          10,
          11,
          12,
          13,
          14,
          15,
          16,
          17,
          18,
          19,
          20
         ],
         "y": [
          1,
          1.1043478260869566,
          1.2021390374331553,
          1.1554702495201534,
          1.177023498694517,
          1.1656108597285066,
          1.2044866264020706,
          1.1912832929782082,
          1.3124087591240878,
          1.3491132332878581,
          1.2802653399668322,
          1.3652234636871508,
          1.4325127334465195,
          1.4325127334465193,
          1.3460815047021941,
          1.4629702194357366,
          1.3764484220442768,
          1.376448422044277,
          1.5639481000926785,
          1.442190152801358
         ]
        },
        {
         "hovertemplate": "<b>Ranger</b><br>lvl %{x}<br>enc XP %{y:.2f}<extra></extra>",
         "line": {
          "color": "#507F62"
         },
         "marker": {
          "size": 5
         },
         "mode": "lines+markers",
         "name": "Ranger",
         "type": "scatter",
         "unselected": {
          "marker": {
           "opacity": 0
          }
         },
         "x": [
          1,
          2,
          3,
          4,
          5,
          6,
          7,
          8,
          9,
          10,
          11,
          12,
          13,
          14,
          15,
          16,
          17,
          18,
          19,
          20
         ],
         "y": [
          1,
          1.1333333333333333,
          1.2571428571428571,
          1.1923990498812354,
          1.2331125827814566,
          1.2356651376146788,
          1.2855579868708973,
          1.2625754527162978,
          1.3298059964726632,
          1.3709090909090909,
          1.375,
          1.3529816513761466,
          1.3920595533498756,
          1.3920595533498756,
          1.3495293674698794,
          1.4342996987951806,
          1.3546412113232391,
          1.354641211323239,
          1.3816781898177246,
          1.4004105571847507
         ]
        },
        {
         "hovertemplate": "<b>Rogue</b><br>lvl %{x}<br>enc XP %{y:.2f}<extra></extra>",
         "line": {
          "color": "#555752"
         },
         "marker": {
          "size": 5
         },
         "mode": "lines+markers",
         "name": "Rogue",
         "type": "scatter",
         "unselected": {
          "marker": {
           "opacity": 0
          }
         },
         "x": [
          1,
          2,
          3,
          4,
          5,
          6,
          7,
          8,
          9,
          10,
          11,
          12,
          13,
          14,
          15,
          16,
          17,
          18,
          19,
          20
         ],
         "y": [
          1,
          1,
          1,
          1,
          0.9999999999999999,
          1,
          1,
          1,
          1,
          1,
          1,
          1,
          0.9999999999999998,
          0.9999999999999998,
          1,
          1,
          1,
          1,
          1,
          0.9999999999999998
         ]
        },
        {
         "hovertemplate": "<b>Sorcerer</b><br>lvl %{x}<br>enc XP %{y:.2f}<extra></extra>",
         "line": {
          "color": "#992E2E"
         },
         "marker": {
          "size": 5
         },
         "mode": "lines+markers",
         "name": "Sorcerer",
         "type": "scatter",
         "unselected": {
          "marker": {
           "opacity": 0
          }
         },
         "x": [
          1,
          2,
          3,
          4,
          5,
          6,
          7,
          8,
          9,
          10,
          11,
          12,
          13,
          14,
          15,
          16,
          17,
          18,
          19,
          20
         ],
         "y": [
          1.0392452830188679,
          1.1072164948453607,
          1.3751633986928105,
          1.3503480278422273,
          1.2952713178294573,
          1.3523625121014335,
          1.4325523556510191,
          1.484558996868019,
          1.5012239845547004,
          1.5578408100017218,
          1.4680861639842497,
          1.4179583314561184,
          1.4673770624393399,
          1.4842383035374664,
          1.4380610520964092,
          1.5515876273117126,
          1.444910459219223,
          1.444910459219223,
          1.4755013293852268,
          1.4740471589387782
         ]
        },
        {
         "hovertemplate": "<b>Warlock</b><br>lvl %{x}<br>enc XP %{y:.2f}<extra></extra>",
         "line": {
          "color": "#7B469B"
         },
         "marker": {
          "size": 5
         },
         "mode": "lines+markers",
         "name": "Warlock",
         "type": "scatter",
         "unselected": {
          "marker": {
           "opacity": 0
          }
         },
         "x": [
          1,
          2,
          3,
          4,
          5,
          6,
          7,
          8,
          9,
          10,
          11,
          12,
          13,
          14,
          15,
          16,
          17,
          18,
          19,
          20
         ],
         "y": [
          1.03125,
          1.057377049180328,
          1.1612903225806452,
          1.0888030888030888,
          1.0775757575757576,
          1.1008403361344536,
          1.1267190569744598,
          1.1089385474860336,
          1.1089743589743593,
          1.142942942942943,
          1.1615384615384614,
          1.164272030651341,
          1.1799418604651162,
          1.1799418604651162,
          1.1745225464190983,
          1.205769230769231,
          1.1379357175192393,
          1.1379357175192395,
          1.1823487374940447,
          1.133458177278402
         ]
        },
        {
         "hovertemplate": "<b>Wizard</b><br>lvl %{x}<br>enc XP %{y:.2f}<extra></extra>",
         "line": {
          "color": "#2A50A1"
         },
         "marker": {
          "size": 5
         },
         "mode": "lines+markers",
         "name": "Wizard",
         "type": "scatter",
         "unselected": {
          "marker": {
           "opacity": 0
          }
         },
         "x": [
          1,
          2,
          3,
          4,
          5,
          6,
          7,
          8,
          9,
          10,
          11,
          12,
          13,
          14,
          15,
          16,
          17,
          18,
          19,
          20
         ],
         "y": [
          1.0748201438848919,
          1.1072164948453607,
          1.3706783369803064,
          1.3473193473193474,
          1.2952713178294573,
          1.341019955654102,
          1.4148865284364833,
          1.4695508340322427,
          1.4408873516608027,
          1.5324329406898298,
          1.402845735276076,
          1.3892484287709497,
          1.5175963793084468,
          1.5175963793084468,
          1.4311763962787434,
          1.5361586933147517,
          1.4368988127446924,
          1.4368988127446924,
          1.485965877820583,
          1.4917385554694886
         ]
        },
        {
         "hoverinfo": "skip",
         "line": {
          "color": "black",
          "dash": "dash"
         },
         "mode": "lines",
         "name": "average",
         "type": "scatter",
         "unselected": {
          "marker": {
           "opacity": 0
          }
         },
         "x": [
          1,
          2,
          3,
          4,
          5,
          6,
          7,
          8,
          9,
          10,
          11,
          12,
          13,
          14,
          15,
          16,
          17,
          18,
          19,
          20
         ],
         "y": [
          1.1192999063470013,
          1.1569193744692812,
          1.2477348281775242,
          1.206369854333984,
          1.1912912460150198,
          1.1860588790279323,
          1.2071251437234183,
          1.2046323043320257,
          1.2403502822495633,
          1.285233445188082,
          1.2407234428430651,
          1.2112942000149138,
          1.2489388721663934,
          1.2444139072608542,
          1.2166570912094938,
          1.2675004565482986,
          1.201630851897252,
          1.2006306209845836,
          1.2492989907775474,
          1.2147539531730336
         ]
        }
       ],
       "layout": {
        "legend": {
         "orientation": "h",
         "x": 0.01,
         "xanchor": "left",
         "y": 1.04,
         "yanchor": "bottom"
        },
        "template": {
         "layout": {
          "autosize": true,
          "font": {
           "family": "sans-serif",
           "size": 14
          },
          "hovermode": "closest",
          "legend": {
           "font": {
            "size": 10
           }
          },
          "margin": {
           "b": 40,
           "l": 50,
           "pad": 4,
           "r": 25,
           "t": 20
          },
          "template": {
           "data": {
            "bar": [
             {
              "error_x": {
               "color": "#2a3f5f"
              },
              "error_y": {
               "color": "#2a3f5f"
              },
              "marker": {
               "line": {
                "color": "white",
                "width": 0.5
               },
               "pattern": {
                "fillmode": "overlay",
                "size": 10,
                "solidity": 0.2
               }
              },
              "type": "bar"
             }
            ],
            "barpolar": [
             {
              "marker": {
               "line": {
                "color": "white",
                "width": 0.5
               },
               "pattern": {
                "fillmode": "overlay",
                "size": 10,
                "solidity": 0.2
               }
              },
              "type": "barpolar"
             }
            ],
            "carpet": [
             {
              "aaxis": {
               "endlinecolor": "#2a3f5f",
               "gridcolor": "#C8D4E3",
               "linecolor": "#C8D4E3",
               "minorgridcolor": "#C8D4E3",
               "startlinecolor": "#2a3f5f"
              },
              "baxis": {
               "endlinecolor": "#2a3f5f",
               "gridcolor": "#C8D4E3",
               "linecolor": "#C8D4E3",
               "minorgridcolor": "#C8D4E3",
               "startlinecolor": "#2a3f5f"
              },
              "type": "carpet"
             }
            ],
            "choropleth": [
             {
              "colorbar": {
               "outlinewidth": 0,
               "ticks": ""
              },
              "type": "choropleth"
             }
            ],
            "contour": [
             {
              "colorbar": {
               "outlinewidth": 0,
               "ticks": ""
              },
              "colorscale": [
               [
                0,
                "#0d0887"
               ],
               [
                0.1111111111111111,
                "#46039f"
               ],
               [
                0.2222222222222222,
                "#7201a8"
               ],
               [
                0.3333333333333333,
                "#9c179e"
               ],
               [
                0.4444444444444444,
                "#bd3786"
               ],
               [
                0.5555555555555556,
                "#d8576b"
               ],
               [
                0.6666666666666666,
                "#ed7953"
               ],
               [
                0.7777777777777778,
                "#fb9f3a"
               ],
               [
                0.8888888888888888,
                "#fdca26"
               ],
               [
                1,
                "#f0f921"
               ]
              ],
              "type": "contour"
             }
            ],
            "contourcarpet": [
             {
              "colorbar": {
               "outlinewidth": 0,
               "ticks": ""
              },
              "type": "contourcarpet"
             }
            ],
            "heatmap": [
             {
              "colorbar": {
               "outlinewidth": 0,
               "ticks": ""
              },
              "colorscale": [
               [
                0,
                "#0d0887"
               ],
               [
                0.1111111111111111,
                "#46039f"
               ],
               [
                0.2222222222222222,
                "#7201a8"
               ],
               [
                0.3333333333333333,
                "#9c179e"
               ],
               [
                0.4444444444444444,
                "#bd3786"
               ],
               [
                0.5555555555555556,
                "#d8576b"
               ],
               [
                0.6666666666666666,
                "#ed7953"
               ],
               [
                0.7777777777777778,
                "#fb9f3a"
               ],
               [
                0.8888888888888888,
                "#fdca26"
               ],
               [
                1,
                "#f0f921"
               ]
              ],
              "type": "heatmap"
             }
            ],
            "heatmapgl": [
             {
              "colorbar": {
               "outlinewidth": 0,
               "ticks": ""
              },
              "colorscale": [
               [
                0,
                "#0d0887"
               ],
               [
                0.1111111111111111,
                "#46039f"
               ],
               [
                0.2222222222222222,
                "#7201a8"
               ],
               [
                0.3333333333333333,
                "#9c179e"
               ],
               [
                0.4444444444444444,
                "#bd3786"
               ],
               [
                0.5555555555555556,
                "#d8576b"
               ],
               [
                0.6666666666666666,
                "#ed7953"
               ],
               [
                0.7777777777777778,
                "#fb9f3a"
               ],
               [
                0.8888888888888888,
                "#fdca26"
               ],
               [
                1,
                "#f0f921"
               ]
              ],
              "type": "heatmapgl"
             }
            ],
            "histogram": [
             {
              "marker": {
               "pattern": {
                "fillmode": "overlay",
                "size": 10,
                "solidity": 0.2
               }
              },
              "type": "histogram"
             }
            ],
            "histogram2d": [
             {
              "colorbar": {
               "outlinewidth": 0,
               "ticks": ""
              },
              "colorscale": [
               [
                0,
                "#0d0887"
               ],
               [
                0.1111111111111111,
                "#46039f"
               ],
               [
                0.2222222222222222,
                "#7201a8"
               ],
               [
                0.3333333333333333,
                "#9c179e"
               ],
               [
                0.4444444444444444,
                "#bd3786"
               ],
               [
                0.5555555555555556,
                "#d8576b"
               ],
               [
                0.6666666666666666,
                "#ed7953"
               ],
               [
                0.7777777777777778,
                "#fb9f3a"
               ],
               [
                0.8888888888888888,
                "#fdca26"
               ],
               [
                1,
                "#f0f921"
               ]
              ],
              "type": "histogram2d"
             }
            ],
            "histogram2dcontour": [
             {
              "colorbar": {
               "outlinewidth": 0,
               "ticks": ""
              },
              "colorscale": [
               [
                0,
                "#0d0887"
               ],
               [
                0.1111111111111111,
                "#46039f"
               ],
               [
                0.2222222222222222,
                "#7201a8"
               ],
               [
                0.3333333333333333,
                "#9c179e"
               ],
               [
                0.4444444444444444,
                "#bd3786"
               ],
               [
                0.5555555555555556,
                "#d8576b"
               ],
               [
                0.6666666666666666,
                "#ed7953"
               ],
               [
                0.7777777777777778,
                "#fb9f3a"
               ],
               [
                0.8888888888888888,
                "#fdca26"
               ],
               [
                1,
                "#f0f921"
               ]
              ],
              "type": "histogram2dcontour"
             }
            ],
            "mesh3d": [
             {
              "colorbar": {
               "outlinewidth": 0,
               "ticks": ""
              },
              "type": "mesh3d"
             }
            ],
            "parcoords": [
             {
              "line": {
               "colorbar": {
                "outlinewidth": 0,
                "ticks": ""
               }
              },
              "type": "parcoords"
             }
            ],
            "pie": [
             {
              "automargin": true,
              "type": "pie"
             }
            ],
            "scatter": [
             {
              "fillpattern": {
               "fillmode": "overlay",
               "size": 10,
               "solidity": 0.2
              },
              "type": "scatter"
             }
            ],
            "scatter3d": [
             {
              "line": {
               "colorbar": {
                "outlinewidth": 0,
                "ticks": ""
               }
              },
              "marker": {
               "colorbar": {
                "outlinewidth": 0,
                "ticks": ""
               }
              },
              "type": "scatter3d"
             }
            ],
            "scattercarpet": [
             {
              "marker": {
               "colorbar": {
                "outlinewidth": 0,
                "ticks": ""
               }
              },
              "type": "scattercarpet"
             }
            ],
            "scattergeo": [
             {
              "marker": {
               "colorbar": {
                "outlinewidth": 0,
                "ticks": ""
               }
              },
              "type": "scattergeo"
             }
            ],
            "scattergl": [
             {
              "marker": {
               "colorbar": {
                "outlinewidth": 0,
                "ticks": ""
               }
              },
              "type": "scattergl"
             }
            ],
            "scattermapbox": [
             {
              "marker": {
               "colorbar": {
                "outlinewidth": 0,
                "ticks": ""
               }
              },
              "type": "scattermapbox"
             }
            ],
            "scatterpolar": [
             {
              "marker": {
               "colorbar": {
                "outlinewidth": 0,
                "ticks": ""
               }
              },
              "type": "scatterpolar"
             }
            ],
            "scatterpolargl": [
             {
              "marker": {
               "colorbar": {
                "outlinewidth": 0,
                "ticks": ""
               }
              },
              "type": "scatterpolargl"
             }
            ],
            "scatterternary": [
             {
              "marker": {
               "colorbar": {
                "outlinewidth": 0,
                "ticks": ""
               }
              },
              "type": "scatterternary"
             }
            ],
            "surface": [
             {
              "colorbar": {
               "outlinewidth": 0,
               "ticks": ""
              },
              "colorscale": [
               [
                0,
                "#0d0887"
               ],
               [
                0.1111111111111111,
                "#46039f"
               ],
               [
                0.2222222222222222,
                "#7201a8"
               ],
               [
                0.3333333333333333,
                "#9c179e"
               ],
               [
                0.4444444444444444,
                "#bd3786"
               ],
               [
                0.5555555555555556,
                "#d8576b"
               ],
               [
                0.6666666666666666,
                "#ed7953"
               ],
               [
                0.7777777777777778,
                "#fb9f3a"
               ],
               [
                0.8888888888888888,
                "#fdca26"
               ],
               [
                1,
                "#f0f921"
               ]
              ],
              "type": "surface"
             }
            ],
            "table": [
             {
              "cells": {
               "fill": {
                "color": "#EBF0F8"
               },
               "line": {
                "color": "white"
               }
              },
              "header": {
               "fill": {
                "color": "#C8D4E3"
               },
               "line": {
                "color": "white"
               }
              },
              "type": "table"
             }
            ]
           },
           "layout": {
            "annotationdefaults": {
             "arrowcolor": "#2a3f5f",
             "arrowhead": 0,
             "arrowwidth": 1
            },
            "autotypenumbers": "strict",
            "coloraxis": {
             "colorbar": {
              "outlinewidth": 0,
              "ticks": ""
             }
            },
            "colorscale": {
             "diverging": [
              [
               0,
               "#8e0152"
              ],
              [
               0.1,
               "#c51b7d"
              ],
              [
               0.2,
               "#de77ae"
              ],
              [
               0.3,
               "#f1b6da"
              ],
              [
               0.4,
               "#fde0ef"
              ],
              [
               0.5,
               "#f7f7f7"
              ],
              [
               0.6,
               "#e6f5d0"
              ],
              [
               0.7,
               "#b8e186"
              ],
              [
               0.8,
               "#7fbc41"
              ],
              [
               0.9,
               "#4d9221"
              ],
              [
               1,
               "#276419"
              ]
             ],
             "sequential": [
              [
               0,
               "#0d0887"
              ],
              [
               0.1111111111111111,
               "#46039f"
              ],
              [
               0.2222222222222222,
               "#7201a8"
              ],
              [
               0.3333333333333333,
               "#9c179e"
              ],
              [
               0.4444444444444444,
               "#bd3786"
              ],
              [
               0.5555555555555556,
               "#d8576b"
              ],
              [
               0.6666666666666666,
               "#ed7953"
              ],
              [
               0.7777777777777778,
               "#fb9f3a"
              ],
              [
               0.8888888888888888,
               "#fdca26"
              ],
              [
               1,
               "#f0f921"
              ]
             ],
             "sequentialminus": [
              [
               0,
               "#0d0887"
              ],
              [
               0.1111111111111111,
               "#46039f"
              ],
              [
               0.2222222222222222,
               "#7201a8"
              ],
              [
               0.3333333333333333,
               "#9c179e"
              ],
              [
               0.4444444444444444,
               "#bd3786"
              ],
              [
               0.5555555555555556,
               "#d8576b"
              ],
              [
               0.6666666666666666,
               "#ed7953"
              ],
              [
               0.7777777777777778,
               "#fb9f3a"
              ],
              [
               0.8888888888888888,
               "#fdca26"
              ],
              [
               1,
               "#f0f921"
              ]
             ]
            },
            "colorway": [
             "#636efa",
             "#EF553B",
             "#00cc96",
             "#ab63fa",
             "#FFA15A",
             "#19d3f3",
             "#FF6692",
             "#B6E880",
             "#FF97FF",
             "#FECB52"
            ],
            "font": {
             "color": "#2a3f5f"
            },
            "geo": {
             "bgcolor": "white",
             "lakecolor": "white",
             "landcolor": "white",
             "showlakes": true,
             "showland": true,
             "subunitcolor": "#C8D4E3"
            },
            "hoverlabel": {
             "align": "left"
            },
            "hovermode": "closest",
            "mapbox": {
             "style": "light"
            },
            "paper_bgcolor": "white",
            "plot_bgcolor": "white",
            "polar": {
             "angularaxis": {
              "gridcolor": "#EBF0F8",
              "linecolor": "#EBF0F8",
              "ticks": ""
             },
             "bgcolor": "white",
             "radialaxis": {
              "gridcolor": "#EBF0F8",
              "linecolor": "#EBF0F8",
              "ticks": ""
             }
            },
            "scene": {
             "xaxis": {
              "backgroundcolor": "white",
              "gridcolor": "#DFE8F3",
              "gridwidth": 2,
              "linecolor": "#EBF0F8",
              "showbackground": true,
              "ticks": "",
              "zerolinecolor": "#EBF0F8"
             },
             "yaxis": {
              "backgroundcolor": "white",
              "gridcolor": "#DFE8F3",
              "gridwidth": 2,
              "linecolor": "#EBF0F8",
              "showbackground": true,
              "ticks": "",
              "zerolinecolor": "#EBF0F8"
             },
             "zaxis": {
              "backgroundcolor": "white",
              "gridcolor": "#DFE8F3",
              "gridwidth": 2,
              "linecolor": "#EBF0F8",
              "showbackground": true,
              "ticks": "",
              "zerolinecolor": "#EBF0F8"
             }
            },
            "shapedefaults": {
             "line": {
              "color": "#2a3f5f"
             }
            },
            "ternary": {
             "aaxis": {
              "gridcolor": "#DFE8F3",
              "linecolor": "#A2B1C6",
              "ticks": ""
             },
             "baxis": {
              "gridcolor": "#DFE8F3",
              "linecolor": "#A2B1C6",
              "ticks": ""
             },
             "bgcolor": "white",
             "caxis": {
              "gridcolor": "#DFE8F3",
              "linecolor": "#A2B1C6",
              "ticks": ""
             }
            },
            "title": {
             "x": 0.05
            },
            "xaxis": {
             "automargin": true,
             "gridcolor": "#EBF0F8",
             "linecolor": "#EBF0F8",
             "ticks": "",
             "title": {
              "standoff": 15
             },
             "zerolinecolor": "#EBF0F8",
             "zerolinewidth": 2
            },
            "yaxis": {
             "automargin": true,
             "gridcolor": "#EBF0F8",
             "linecolor": "#EBF0F8",
             "ticks": "",
             "title": {
              "standoff": 15
             },
             "zerolinecolor": "#EBF0F8",
             "zerolinewidth": 2
            }
           }
          },
          "xaxis": {
           "automargin": true,
           "autorange": false,
           "fixedrange": true,
           "linecolor": "#444",
           "linewidth": 2,
           "minor": {
            "tickmode": "linear",
            "ticks": "outside"
           },
           "mirror": true,
           "showline": true,
           "tickmode": "linear",
           "ticks": "outside",
           "zeroline": false
          },
          "yaxis": {
           "automargin": true,
           "autorange": false,
           "fixedrange": true,
           "linecolor": "#444",
           "linewidth": 2,
           "minor": {
            "tickmode": "linear",
            "ticks": "outside"
           },
           "mirror": true,
           "showline": true,
           "tickmode": "linear",
           "ticks": "outside",
           "zeroline": false
          }
         }
        },
        "xaxis": {
         "dtick": 5,
         "minor": {
          "dtick": 1,
          "tick0": 0
         },
         "range": [
          0.8,
          20.2
         ],
         "tick0": 0,
         "title": {
          "text": "level"
         }
        },
        "yaxis": {
         "autorange": false,
         "dtick": 0.2,
         "minor": {
          "dtick": 0.1,
          "tick0": 0
         },
         "range": [
          0.9,
          1.7
         ],
         "tick0": 0,
         "title": {
          "text": "encounter XP ratio"
         }
        }
       }
      }
     },
     "metadata": {},
     "output_type": "display_data"
    }
   ],
   "source": [
    "# Plots average encounter XP for each class on days with only two Deadly encounters and one short rest. \n",
    "n_enc = 2\n",
    "encounter_difficulty = 'Deadly'\n",
    "\n",
    "with open(f'../xp-and-player-characters/pc data - Medium 2 short rests.json', 'r') as fin:\n",
    "    pc_data0 = json.load(fin)\n",
    "\n",
    "with open(f'../xp-and-player-characters/pc data - {encounter_difficulty} 2 short rests.json', 'r') as fin:\n",
    "    pc_data1 = json.load(fin)\n",
    "\n",
    "\n",
    "levels = np.array(range(1,21,1))\n",
    "enc_XP_budget = 0.5 * np.array(ENCOUNTER_DIFFICULTIES['Daily']['XP'])\n",
    "\n",
    "fig = go.Figure(\n",
    "    layout=go.Layout(\n",
    "        template=TFB_TEMPLATE,\n",
    "        xaxis=dict(\n",
    "            title_text='level',\n",
    "            range=[0.8, 20.2],\n",
    "            tick0=0, dtick=5,\n",
    "            minor=dict(tick0=0, dtick=1),\n",
    "        ),\n",
    "        yaxis=dict(\n",
    "            autorange=False,\n",
    "            title_text='encounter XP ratio',\n",
    "            range=[0.9, 1.7],\n",
    "            tick0=0, dtick=0.2,\n",
    "            minor=dict(tick0=0, dtick=0.1),\n",
    "        ),\n",
    "        legend=dict(\n",
    "            yanchor='bottom',  y=1.04,\n",
    "            xanchor='left', x=0.01,\n",
    "            orientation='h',\n",
    "        )\n",
    "    )\n",
    ")\n",
    "\n",
    "eXPmean = np.zeros(20)\n",
    "aXPmean = np.zeros(20)\n",
    "for pc in PC_CLASSES:\n",
    "    eXP = np.zeros(20)\n",
    "    for level in range(20):\n",
    "        encounters = pc_data1[pc][level]['encounters']\n",
    "        encounters = [x for x in encounters if x['type'] == 'encounter']\n",
    "        eXP[level] = np.mean([x['XP mean'] for x in encounters[0:n_enc]])\n",
    "\n",
    "    eXPmean += eXP\n",
    "    aXP  = np.array([x['encounter XP mean'] for x in pc_data0[pc]])\n",
    "    aXPmean += aXP\n",
    "    fig.add_trace(go.Scatter(\n",
    "        x=levels, \n",
    "        y=eXP/aXP,\n",
    "        mode='lines+markers', \n",
    "        line={'color': PC_CLASSES[pc]['color']},\n",
    "        marker={'size': 5},\n",
    "        unselected=dict(marker=dict(opacity=0.0)),\n",
    "        name=pc,\n",
    "        hovertemplate=\n",
    "            '<b>'+pc+'</b><br>'+\n",
    "            'lvl %{x}<br>'+\n",
    "            'enc XP %{y:.2f}'+\n",
    "            '<extra></extra>'\n",
    "    ))\n",
    "\n",
    "eXPmean /= len(PC_CLASSES)\n",
    "aXPmean /= len(PC_CLASSES)\n",
    "fig.add_trace(go.Scatter(\n",
    "    x=levels, \n",
    "    y=eXPmean/aXPmean,\n",
    "    mode='lines', \n",
    "    line=dict(color='black', dash='dash'),\n",
    "    unselected=dict(marker=dict(opacity=0.0)),\n",
    "    name='average',\n",
    "    hoverinfo='skip'\n",
    "))\n",
    "\n",
    "# show figure\n",
    "fig.show(config=TFB_CONFIG)\n",
    "\n",
    "# save large format figure\n",
    "if SAVEFIGS:\n",
    "    file_name = f'./fig-two-encounters-xp-vs-level-{encounter_difficulty.lower()}-large.html'\n",
    "    fig_html = fig.to_html(\n",
    "        config=TFB_CONFIG,\n",
    "        include_plotlyjs=False, \n",
    "        full_html=False, \n",
    "    )\n",
    "    fig_soup = BeautifulSoup(fig_html, 'html.parser')\n",
    "    fig_soup.div['class'] = 'plotly-div-large'\n",
    "    fig_soup.div['style'] = 'aspect-ratio:600/550'\n",
    "    with open(file_name, 'wb') as fout:\n",
    "        fout.write(fig_soup.prettify('utf-8'))\n",
    "\n",
    "# save small format figure\n",
    "if SAVEFIGS:\n",
    "    fig.update_traces(marker=dict(size=4))\n",
    "    fig.update_layout(font=dict(size=10), legend=dict(font_size=8))\n",
    "    file_name = f'./fig-two-encounters-xp-vs-level-{encounter_difficulty.lower()}-small.html'\n",
    "    fig_html = fig.to_html(\n",
    "        config=TFB_CONFIG,\n",
    "        include_plotlyjs=False, \n",
    "        full_html=False, \n",
    "    )\n",
    "    fig_soup = BeautifulSoup(fig_html, 'html.parser')\n",
    "    fig_soup.div['class'] = 'plotly-div-small'\n",
    "    fig_soup.div['style'] = 'aspect-ratio:600/600'\n",
    "    with open(file_name, 'wb') as fout:\n",
    "        fout.write(fig_soup.prettify('utf-8'))"
   ]
  }
 ],
 "metadata": {
  "kernelspec": {
   "display_name": "thefinishedbook",
   "language": "python",
   "name": "python3"
  },
  "language_info": {
   "codemirror_mode": {
    "name": "ipython",
    "version": 3
   },
   "file_extension": ".py",
   "mimetype": "text/x-python",
   "name": "python",
   "nbconvert_exporter": "python",
   "pygments_lexer": "ipython3",
   "version": "3.10.5"
  },
  "orig_nbformat": 4,
  "vscode": {
   "interpreter": {
    "hash": "81e7ed570d3d4d94e4f212d319db3e9a0140cc240e5a3a69836cc19bf47f0126"
   }
  }
 },
 "nbformat": 4,
 "nbformat_minor": 2
}
