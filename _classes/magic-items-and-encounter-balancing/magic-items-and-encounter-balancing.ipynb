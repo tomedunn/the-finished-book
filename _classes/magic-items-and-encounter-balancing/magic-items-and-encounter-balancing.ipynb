{
 "cells": [
  {
   "cell_type": "code",
   "execution_count": 1,
   "metadata": {},
   "outputs": [],
   "source": [
    "# setup notebook\n",
    "import numpy as np\n",
    "import plotly.graph_objects as go\n",
    "from bs4 import BeautifulSoup\n",
    "import json\n",
    "import time\n",
    "import sys\n",
    "sys.path.append('../../assets/python/')\n",
    "import diceEq as de\n",
    "import playercharacters5e as pc5\n",
    "import encounters5e as en5\n",
    "\n",
    "\n",
    "METADATA = {'Contributor': 'T. Dunn'}\n",
    "SAVEFIGS = False\n",
    "SAVEDATA = False\n",
    "\n",
    "XP_TARGETS = {\n",
    "    'Easy': [25,50,75,125,250,300,350,450,550,600,800,1000,1100,1250,1400,1600,2000,2100,2400,2800],\n",
    "    'Medium': [50,100,150,250,500,600,750,900,1100,1200,1600,2000,2200,2500,2800,3200,3900,4200,4900,5700],\n",
    "    'Hard': [75,150,225,375,750,900,1100,1400,1600,1900,2400,3000,3400,3800,4300,4800,5900,6300,7300,8500],\n",
    "    'Deadly': [100,200,400,500,1100,1400,1700,2100,2400,2800,3600,4500,5100,5700,6400,7200,8800,9500,10900,12700],\n",
    "    'Daily': [300,600,1200,1700,3500,4000,5000,6000,7500,9000,10500,11500,13500,15000,18000,20000,25000,27000,30000,40000]\n",
    "}\n",
    "\n",
    "PC_CLASSES = {\n",
    "    'Barbarian': {'color': '#E7623E', 'group': 'martial'},\n",
    "    'Bard': {'color': '#AB6DAC', 'group': 'spellcaster'},\n",
    "    'Cleric': {'color': '#91A1B2', 'group': 'spellcaster'},\n",
    "    'Druid': {'color': '#7A853B', 'group': 'spellcaster'},\n",
    "    'Fighter': {'color': '#7F513E', 'group': 'martial'},\n",
    "    'Monk': {'color': '#51A5C5', 'group': 'martial'},\n",
    "    'Paladin': {'color': '#B59E54', 'group': 'martial-spellcaster'},\n",
    "    'Ranger': {'color': '#507F62', 'group': 'martial-spellcaster'},\n",
    "    'Rogue': {'color': '#555752', 'group': 'martial'},\n",
    "    'Sorcerer': {'color': '#992E2E', 'group': 'spellcaster'},\n",
    "    'Warlock': {'color': '#7B469B', 'group': 'spellcaster'},\n",
    "    'Wizard': {'color': '#2A50A1', 'group': 'spellcaster'}\n",
    "}\n",
    "\n",
    "ENCOUNTER_DIFFICULTIES = {\n",
    "    'Easy':   {\n",
    "        'XP': [25,50,75,125,250,300,350,450,550,600,800,1000,1100,1250,1400,1600,2000,2100,2400,2800], \n",
    "        'color': '#1F77B4'\n",
    "    },\n",
    "    'Medium': {\n",
    "        'XP': [50,100,150,250,500,600,750,900,1100,1200,1600,2000,2200,2500,2800,3200,3900,4200,4900,5700], \n",
    "        'color': '#FF7F0E'\n",
    "    },\n",
    "    'Hard':   {\n",
    "        'XP': [75,150,225,375,750,900,1100,1400,1600,1900,2400,3000,3400,3800,4300,4800,5900,6300,7300,8500], \n",
    "        'color': '#2CA02C'\n",
    "    },\n",
    "    'Deadly': {\n",
    "        'XP': [100,200,400,500,1100,1400,1700,2100,2400,2800,3600,4500,5100,5700,6400,7200,8800,9500,10900,12700], \n",
    "        'color': '#D62728'\n",
    "    },\n",
    "    'Daily':  {\n",
    "        'XP': [300,600,1200,1700,3500,4000,5000,6000,7500,9000,10500,11500,13500,15000,18000,20000,25000,27000,30000,40000], \n",
    "        'color': '#9467BD'\n",
    "    },\n",
    "}"
   ]
  },
  {
   "cell_type": "code",
   "execution_count": 2,
   "metadata": {},
   "outputs": [],
   "source": [
    "# Setup template and html config for plotly figures.\n",
    "\n",
    "TFB_TEMPLATE = dict(\n",
    "    layout=go.Layout(\n",
    "        template='plotly_white',\n",
    "        autosize=False,\n",
    "        margin=dict(l=50, r=25, b=40, t=20, pad=4),\n",
    "        font=dict(family='sans-serif', size=14),\n",
    "        hovermode='closest',\n",
    "        xaxis=dict(\n",
    "            autorange=False,\n",
    "            automargin=True,\n",
    "            fixedrange=True,\n",
    "            showline=True,\n",
    "            linecolor='#444',\n",
    "            linewidth=2,\n",
    "            mirror=True,\n",
    "            tickmode='linear', ticks='outside',\n",
    "            minor=dict(tickmode='linear', ticks='outside'),\n",
    "            zeroline=False,\n",
    "        ),\n",
    "        yaxis=dict(\n",
    "            autorange=False,\n",
    "            automargin=True,\n",
    "            fixedrange=True,\n",
    "            showline=True,\n",
    "            linecolor='#444',\n",
    "            linewidth=2,\n",
    "            mirror=True,\n",
    "            tickmode='linear', ticks='outside',\n",
    "            minor=dict(tickmode='linear', ticks='outside'),\n",
    "            zeroline=False,\n",
    "        ),\n",
    "        legend=dict(\n",
    "            font_size=10,\n",
    "            tracegroupgap=0,\n",
    "            orientation='h',\n",
    "            yanchor='bottom',  y=1.04,\n",
    "            xanchor='left',    x=0.01,\n",
    "            bgcolor='rgba(0,0,0,0)',\n",
    "        ),\n",
    "    )\n",
    ")\n",
    "\n",
    "TFB_CONFIG = {\n",
    "    'responsive': True, # must be True to auto-scale when resizing\n",
    "    #'autosizable': False, # doesn't impact auto rescaling\n",
    "    'showAxisDragHandles': False,\n",
    "    'displaylogo': False,\n",
    "    'displayModeBar': 'hover',\n",
    "    'modeBarButtonsToRemove': [\n",
    "        'select2d',\n",
    "        'lasso2d',\n",
    "        'zoom2d',\n",
    "        'zoomIn2d',\n",
    "        'zoomOut2d',\n",
    "        'pan2d',\n",
    "        'autoScale2d',\n",
    "        'hoverClosestCartesian',\n",
    "        'hoverCompareCartesian',\n",
    "        'toggleSpikelines',\n",
    "        'resetScale2d',\n",
    "    ],\n",
    "    'toImageButtonOptions': {\n",
    "        'format': 'png', # one of png, svg, jpeg, webp\n",
    "        'filename': 'tfb-plot',\n",
    "        'height': 450,\n",
    "        'width': 600,\n",
    "        'scale': 2\n",
    "    },\n",
    "}\n",
    "\n",
    "def save_fig_html(fig, format, name, **kwargs):\n",
    "    file_name = f'./{name}.html'\n",
    "\n",
    "    match format:\n",
    "        case 'large':\n",
    "            fig.update_traces(line_width=2, marker_size=8)\n",
    "            fig.update_shapes(line_width=2)\n",
    "            fig.update_layout(font_size=14)\n",
    "            fig.update_annotations(font_size=14)\n",
    "        case 'small':\n",
    "            fig.update_traces(line_width=1, marker_size=6)\n",
    "            fig.update_shapes(line_width=1)\n",
    "            fig.update_layout(font_size=10, legend=dict(font=dict(size=10)))\n",
    "            fig.update_annotations(font_size=10)\n",
    "\n",
    "    fig_html = fig.to_html(\n",
    "        config=TFB_CONFIG,\n",
    "        include_plotlyjs=False, \n",
    "        full_html=False, \n",
    "    )\n",
    "    fig_soup = BeautifulSoup(fig_html, 'html.parser')\n",
    "    fig_soup.div['class'] = f'plotly-div-{format}'\n",
    "    if kwargs.get('style', None):\n",
    "        fig_soup.div['style'] = kwargs.get('style')\n",
    "    with open(file_name, 'wb') as fout:\n",
    "        fout.write(fig_soup.prettify('utf-8'))"
   ]
  },
  {
   "cell_type": "code",
   "execution_count": 3,
   "metadata": {},
   "outputs": [
    {
     "name": "stdout",
     "output_type": "stream",
     "text": [
      "Barbarian .................... total: 0.78 s\n",
      "Bard      .................... total: 1.35 s\n",
      "Cleric    .................... total: 0.82 s\n",
      "Druid     .................... total: 0.86 s\n",
      "Fighter   .................... total: 0.85 s\n",
      "Monk      .................... total: 1.12 s\n",
      "Paladin   .................... total: 12.08 s\n",
      "Ranger    .................... total: 1.04 s\n",
      "Rogue     .................... total: 0.36 s\n",
      "Sorcerer  .................... total: 4.62 s\n",
      "Warlock   .................... total: 0.71 s\n",
      "Wizard    .................... total: 9.00 s\n",
      "total run time: 33.61 s\n"
     ]
    }
   ],
   "source": [
    "# Encounter XP - BL\n",
    "import copy\n",
    "\n",
    "difficulty = 'Medium'\n",
    "short_rests = 2\n",
    "show_level_times = False\n",
    "\n",
    "PC_CLASSES = {\n",
    "    'Barbarian': {'color': '#E7623E', 'group': 'martial'},\n",
    "    'Bard':      {'color': '#AB6DAC', 'group': 'spellcaster'},\n",
    "    'Cleric':    {'color': '#91A1B2', 'group': 'spellcaster'},\n",
    "    'Druid':     {'color': '#7A853B', 'group': 'spellcaster',},\n",
    "    'Fighter':   {'color': '#7F513E', 'group': 'martial'},\n",
    "    'Monk':      {'color': '#51A5C5', 'group': 'martial'},\n",
    "    'Paladin':   {'color': '#B59E54', 'group': 'martial-spellcaster'},\n",
    "    'Ranger':    {'color': '#507F62', 'group': 'martial-spellcaster'},\n",
    "    'Rogue':     {'color': '#555752', 'group': 'martial'},\n",
    "    'Sorcerer':  {'color': '#992E2E', 'group': 'spellcaster'},\n",
    "    'Warlock':   {'color': '#7B469B', 'group': 'spellcaster'},\n",
    "    'Wizard':    {'color': '#2A50A1', 'group': 'spellcaster'}\n",
    "}\n",
    "\n",
    "class NpEncoder(json.JSONEncoder):\n",
    "    def default(self, obj):\n",
    "        if isinstance(obj, np.integer):\n",
    "            return int(obj)\n",
    "        if isinstance(obj, np.floating):\n",
    "            return float(obj)\n",
    "        if isinstance(obj, np.ndarray):\n",
    "            return obj.tolist()\n",
    "        return super(NpEncoder, self).default(obj)\n",
    "\n",
    "pcData = {}\n",
    "class_time = []\n",
    "for c in PC_CLASSES:\n",
    "    levels = np.arange(1, 21, 1)\n",
    "    print(f'{c:<10s}', end='')\n",
    "    daily_engine_options={\n",
    "        'combat healing': False if c == 'Paladin' else True,\n",
    "        'remove empty data': True,\n",
    "        'simplify summary': True,\n",
    "        'effective_method': 'linear',\n",
    "    }\n",
    "    level_time = []\n",
    "    pcData[c] = []\n",
    "    for level in levels:\n",
    "        tic = time.perf_counter()\n",
    "        pc = pc5.newPC(pcClass=c, lvl=level, **PC_CLASSES[c])\n",
    "        advDay = en5.create_adventuring_day(level, difficulty, short_rests)\n",
    "        dSum = en5.dailyEngine(pc, advDay, **daily_engine_options)\n",
    "        dSum['class'] = c\n",
    "        dSum['level'] = int(level)\n",
    "        pcData[c].append(copy.deepcopy(dSum))\n",
    "\n",
    "        toc = time.perf_counter()\n",
    "        level_time += [toc - tic]\n",
    "        if show_level_times:\n",
    "            print(f' {level}: {level_time[-1]:0.2f} s,', end='')\n",
    "        else:\n",
    "            print('.', end='')\n",
    "        time.sleep(0.1)\n",
    "\n",
    "    class_time += [np.sum(level_time)]\n",
    "    print(f' total: {class_time[-1]:0.2f} s')\n",
    "    time.sleep(0.1)\n",
    "\n",
    "if SAVEDATA:\n",
    "    # construct day string for saving figures\n",
    "    file_name = 'pc data - BL {:} {:d} short rests.json'.format(difficulty, short_rests)\n",
    "    with open(file_name, 'w') as convert_file:\n",
    "        convert_file.write(json.dumps(pcData, indent=2, cls=NpEncoder))\n",
    "    print('pc data saved to \"{:}\"'.format(file_name))\n",
    "\n",
    "print(f'total run time: {np.sum(class_time):0.2f} s')"
   ]
  },
  {
   "cell_type": "code",
   "execution_count": 29,
   "metadata": {},
   "outputs": [
    {
     "name": "stdout",
     "output_type": "stream",
     "text": [
      "4.16%\n"
     ]
    },
    {
     "data": {
      "application/vnd.plotly.v1+json": {
       "config": {
        "displayModeBar": "hover",
        "displaylogo": false,
        "modeBarButtonsToRemove": [
         "select2d",
         "lasso2d",
         "zoom2d",
         "zoomIn2d",
         "zoomOut2d",
         "pan2d",
         "autoScale2d",
         "hoverClosestCartesian",
         "hoverCompareCartesian",
         "toggleSpikelines",
         "resetScale2d"
        ],
        "plotlyServerURL": "https://plot.ly",
        "responsive": true,
        "showAxisDragHandles": false,
        "toImageButtonOptions": {
         "filename": "tfb-plot",
         "format": "png",
         "height": 450,
         "scale": 2,
         "width": 600
        }
       },
       "data": [
        {
         "hovertemplate": "<b>Barbarian</b><br>level %{x}<br>XP increase %{y:.1f}%<extra></extra>",
         "line": {
          "color": "#E7623E"
         },
         "mode": "lines+markers",
         "name": "Barbarian",
         "type": "scatter",
         "unselected": {
          "marker": {
           "opacity": 0
          }
         },
         "x": [
          1,
          2,
          3,
          4,
          5,
          6,
          7,
          8,
          9,
          10,
          11,
          12,
          13,
          14,
          15,
          16,
          17,
          18,
          19,
          20
         ],
         "y": [
          5.555555555555555,
          5.263157894736842,
          5.263157894736842,
          5,
          4.761904761904762,
          4.761904761904762,
          4.761904761904762,
          4.545454545454546,
          4.3478260869565215,
          4.3478260869565215,
          4.3478260869565215,
          4.166666666666666,
          4,
          4,
          4,
          3.8461538461538463,
          3.7037037037037033,
          3.7037037037037033,
          3.571428571428571,
          3.125
         ]
        },
        {
         "hovertemplate": "<b>Bard</b><br>level %{x}<br>XP increase %{y:.1f}%<extra></extra>",
         "line": {
          "color": "#AB6DAC"
         },
         "mode": "lines+markers",
         "name": "Bard",
         "type": "scatter",
         "unselected": {
          "marker": {
           "opacity": 0
          }
         },
         "x": [
          1,
          2,
          3,
          4,
          5,
          6,
          7,
          8,
          9,
          10,
          11,
          12,
          13,
          14,
          15,
          16,
          17,
          18,
          19,
          20
         ],
         "y": [
          5.5045871559633035,
          5.5045871559633035,
          5.517241379310345,
          5.208333333333334,
          4.516129032258065,
          4.504504504504505,
          4.504504504504505,
          4.25531914893617,
          4.081632653061225,
          4.014598540145985,
          3.9603960396039604,
          3.899082568807339,
          3.7735849056603774,
          3.7735849056603774,
          3.6821705426356584,
          3.6821705426356584,
          3.551401869158878,
          3.551401869158878,
          3.5294117647058822,
          3.5897435897435894
         ]
        },
        {
         "hovertemplate": "<b>Cleric</b><br>level %{x}<br>XP increase %{y:.1f}%<extra></extra>",
         "line": {
          "color": "#91A1B2"
         },
         "mode": "lines+markers",
         "name": "Cleric",
         "type": "scatter",
         "unselected": {
          "marker": {
           "opacity": 0
          }
         },
         "x": [
          1,
          2,
          3,
          4,
          5,
          6,
          7,
          8,
          9,
          10,
          11,
          12,
          13,
          14,
          15,
          16,
          17,
          18,
          19,
          20
         ],
         "y": [
          4.761904761904762,
          4.761904761904762,
          4.761904761904762,
          4.545454545454546,
          4.166666666666666,
          4.166666666666666,
          4.166666666666666,
          4,
          3.8461538461538463,
          3.8461538461538463,
          3.8461538461538463,
          3.8461538461538463,
          3.7037037037037033,
          3.7037037037037033,
          3.7037037037037033,
          3.7037037037037033,
          3.571428571428571,
          3.571428571428571,
          3.571428571428571,
          3.571428571428571
         ]
        },
        {
         "hovertemplate": "<b>Druid</b><br>level %{x}<br>XP increase %{y:.1f}%<extra></extra>",
         "line": {
          "color": "#7A853B"
         },
         "mode": "lines+markers",
         "name": "Druid",
         "type": "scatter",
         "unselected": {
          "marker": {
           "opacity": 0
          }
         },
         "x": [
          1,
          2,
          3,
          4,
          5,
          6,
          7,
          8,
          9,
          10,
          11,
          12,
          13,
          14,
          15,
          16,
          17,
          18,
          19,
          20
         ],
         "y": [
          5.555555555555555,
          5.555555555555555,
          5.555555555555555,
          5.263157894736842,
          4.3478260869565215,
          4.3478260869565215,
          4.3478260869565215,
          4.166666666666666,
          4,
          4,
          4,
          4,
          3.8461538461538463,
          3.8461538461538463,
          3.8461538461538463,
          3.8461538461538463,
          3.7037037037037033,
          3.7037037037037033,
          3.7037037037037033,
          3.7037037037037033
         ]
        },
        {
         "hovertemplate": "<b>Fighter</b><br>level %{x}<br>XP increase %{y:.1f}%<extra></extra>",
         "line": {
          "color": "#7F513E"
         },
         "mode": "lines+markers",
         "name": "Fighter",
         "type": "scatter",
         "unselected": {
          "marker": {
           "opacity": 0
          }
         },
         "x": [
          1,
          2,
          3,
          4,
          5,
          6,
          7,
          8,
          9,
          10,
          11,
          12,
          13,
          14,
          15,
          16,
          17,
          18,
          19,
          20
         ],
         "y": [
          4.166666666666666,
          4.166666666666666,
          4.166666666666666,
          4,
          3.571428571428571,
          3.4482758620689653,
          3.4482758620689653,
          3.4482758620689653,
          3.3333333333333335,
          3.3333333333333335,
          3.3333333333333335,
          3.3333333333333335,
          3.225806451612903,
          3.225806451612903,
          3.225806451612903,
          3.225806451612903,
          3.125,
          3.125,
          3.125,
          3.125
         ]
        },
        {
         "hovertemplate": "<b>Monk</b><br>level %{x}<br>XP increase %{y:.1f}%<extra></extra>",
         "line": {
          "color": "#51A5C5"
         },
         "mode": "lines+markers",
         "name": "Monk",
         "type": "scatter",
         "unselected": {
          "marker": {
           "opacity": 0
          }
         },
         "x": [
          1,
          2,
          3,
          4,
          5,
          6,
          7,
          8,
          9,
          10,
          11,
          12,
          13,
          14,
          15,
          16,
          17,
          18,
          19,
          20
         ],
         "y": [
          5.263157894736842,
          5.263157894736842,
          5.263157894736842,
          4.761904761904762,
          4.545454545454546,
          4.545454545454546,
          4.166666666666666,
          4,
          3.8461538461538463,
          3.8461538461538463,
          3.8461538461538463,
          3.571428571428571,
          3.4482758620689653,
          3.0303030303030303,
          3.0303030303030303,
          2.941176470588235,
          2.857142857142857,
          2.3255813953488373,
          2.3255813953488373,
          2.3255813953488373
         ]
        },
        {
         "hovertemplate": "<b>Paladin</b><br>level %{x}<br>XP increase %{y:.1f}%<extra></extra>",
         "line": {
          "color": "#B59E54"
         },
         "mode": "lines+markers",
         "name": "Paladin",
         "type": "scatter",
         "unselected": {
          "marker": {
           "opacity": 0
          }
         },
         "x": [
          1,
          2,
          3,
          4,
          5,
          6,
          7,
          8,
          9,
          10,
          11,
          12,
          13,
          14,
          15,
          16,
          17,
          18,
          19,
          20
         ],
         "y": [
          5,
          5,
          5,
          4.761904761904762,
          4.166666666666666,
          4,
          4,
          3.8461538461538463,
          3.7037037037037033,
          3.7037037037037033,
          3.7037037037037033,
          3.6363636363636362,
          3.508771929824561,
          3.508771929824561,
          3.508771929824561,
          3.4482758620689653,
          3.3333333333333335,
          3.3333333333333335,
          3.3333333333333335,
          3.3333333333333335
         ]
        },
        {
         "hovertemplate": "<b>Ranger</b><br>level %{x}<br>XP increase %{y:.1f}%<extra></extra>",
         "line": {
          "color": "#507F62"
         },
         "mode": "lines+markers",
         "name": "Ranger",
         "type": "scatter",
         "unselected": {
          "marker": {
           "opacity": 0
          }
         },
         "x": [
          1,
          2,
          3,
          4,
          5,
          6,
          7,
          8,
          9,
          10,
          11,
          12,
          13,
          14,
          15,
          16,
          17,
          18,
          19,
          20
         ],
         "y": [
          5.263157894736842,
          5.263157894736842,
          5.263157894736842,
          4.761904761904762,
          4.3478260869565215,
          4.3478260869565215,
          4.3478260869565215,
          4,
          3.8461538461538463,
          3.8461538461538463,
          3.8461538461538463,
          3.8461538461538463,
          3.7037037037037033,
          3.7037037037037033,
          3.7037037037037033,
          3.7037037037037033,
          3.571428571428571,
          3.571428571428571,
          3.571428571428571,
          3.571428571428571
         ]
        },
        {
         "hovertemplate": "<b>Rogue</b><br>level %{x}<br>XP increase %{y:.1f}%<extra></extra>",
         "line": {
          "color": "#555752"
         },
         "mode": "lines+markers",
         "name": "Rogue",
         "type": "scatter",
         "unselected": {
          "marker": {
           "opacity": 0
          }
         },
         "x": [
          1,
          2,
          3,
          4,
          5,
          6,
          7,
          8,
          9,
          10,
          11,
          12,
          13,
          14,
          15,
          16,
          17,
          18,
          19,
          20
         ],
         "y": [
          4.761904761904762,
          4.761904761904762,
          4.761904761904762,
          4.3478260869565215,
          4,
          4,
          3.7037037037037033,
          3.4482758620689653,
          3.3333333333333335,
          3.3333333333333335,
          3.3333333333333335,
          3.3333333333333335,
          3.225806451612903,
          3.225806451612903,
          3.0303030303030303,
          3.0303030303030303,
          2.941176470588235,
          2.941176470588235,
          2.941176470588235,
          2.941176470588235
         ]
        },
        {
         "hovertemplate": "<b>Sorcerer</b><br>level %{x}<br>XP increase %{y:.1f}%<extra></extra>",
         "line": {
          "color": "#992E2E"
         },
         "mode": "lines+markers",
         "name": "Sorcerer",
         "type": "scatter",
         "unselected": {
          "marker": {
           "opacity": 0
          }
         },
         "x": [
          1,
          2,
          3,
          4,
          5,
          6,
          7,
          8,
          9,
          10,
          11,
          12,
          13,
          14,
          15,
          16,
          17,
          18,
          19,
          20
         ],
         "y": [
          5.555555555555555,
          5.555555555555555,
          5.555555555555555,
          5.263157894736842,
          4.895104895104894,
          4.88997555012225,
          4.88997555012225,
          4.662004662004662,
          4.424778761061947,
          4.462474645030427,
          4.3383947939262475,
          4.336734693877551,
          4.166666666666666,
          4.166666666666666,
          4.175824175824176,
          4.148471615720524,
          3.909465020576132,
          3.909465020576132,
          3.896103896103896,
          3.954802259887006
         ]
        },
        {
         "hovertemplate": "<b>Warlock</b><br>level %{x}<br>XP increase %{y:.1f}%<extra></extra>",
         "line": {
          "color": "#7B469B"
         },
         "mode": "lines+markers",
         "name": "Warlock",
         "type": "scatter",
         "unselected": {
          "marker": {
           "opacity": 0
          }
         },
         "x": [
          1,
          2,
          3,
          4,
          5,
          6,
          7,
          8,
          9,
          10,
          11,
          12,
          13,
          14,
          15,
          16,
          17,
          18,
          19,
          20
         ],
         "y": [
          6.25,
          6.25,
          6.25,
          5.88235294117647,
          5.555555555555555,
          5.555555555555555,
          5.555555555555555,
          5.263157894736842,
          5,
          5,
          5,
          5,
          4.761904761904762,
          4.761904761904762,
          4.761904761904762,
          4.761904761904762,
          4.545454545454546,
          4.545454545454546,
          4.545454545454546,
          4.545454545454546
         ]
        },
        {
         "hovertemplate": "<b>Wizard</b><br>level %{x}<br>XP increase %{y:.1f}%<extra></extra>",
         "line": {
          "color": "#2A50A1"
         },
         "mode": "lines+markers",
         "name": "Wizard",
         "type": "scatter",
         "unselected": {
          "marker": {
           "opacity": 0
          }
         },
         "x": [
          1,
          2,
          3,
          4,
          5,
          6,
          7,
          8,
          9,
          10,
          11,
          12,
          13,
          14,
          15,
          16,
          17,
          18,
          19,
          20
         ],
         "y": [
          5.555555555555555,
          5.555555555555555,
          5.555555555555555,
          5.263157894736842,
          4.895104895104894,
          4.88997555012225,
          4.854368932038835,
          4.62962962962963,
          4.4543429844097995,
          4.462474645030427,
          4.366812227074236,
          4.336734693877551,
          4.137931034482759,
          4.137931034482759,
          4.175824175824176,
          4.175824175824176,
          3.9337474120082816,
          3.9337474120082816,
          3.9215686274509802,
          3.954802259887006
         ]
        },
        {
         "hovertemplate": "<b>Average</b><br>level %{x}<br>XP increase %{y:.1f}%<extra></extra>",
         "line": {
          "color": "black",
          "dash": "dash"
         },
         "mode": "lines+markers",
         "name": "average",
         "type": "scatter",
         "unselected": {
          "marker": {
           "opacity": 0
          }
         },
         "x": [
          1,
          2,
          3,
          4,
          5,
          6,
          7,
          8,
          9,
          10,
          11,
          12,
          13,
          14,
          15,
          16,
          17,
          18,
          19,
          20
         ],
         "y": [
          5.266133446511283,
          5.24176697477639,
          5.242821493388644,
          4.9215962397371396,
          4.4808056470048045,
          4.454830430859378,
          4.395606198095412,
          4.188744843143358,
          4.018117699526783,
          4.016350485499606,
          3.9935217546994064,
          3.94216543249964,
          3.7918591097829295,
          3.7570280404691014,
          3.737039112649463,
          3.709470667531113,
          3.562248838210568,
          3.517952049727733,
          3.50296828758126,
          3.478454558400284
         ]
        }
       ],
       "layout": {
        "height": 550,
        "template": {
         "layout": {
          "autosize": false,
          "font": {
           "family": "sans-serif",
           "size": 14
          },
          "hovermode": "closest",
          "legend": {
           "bgcolor": "rgba(0,0,0,0)",
           "font": {
            "size": 10
           },
           "orientation": "h",
           "tracegroupgap": 0,
           "x": 0.01,
           "xanchor": "left",
           "y": 1.04,
           "yanchor": "bottom"
          },
          "margin": {
           "b": 40,
           "l": 50,
           "pad": 4,
           "r": 25,
           "t": 20
          },
          "template": {
           "data": {
            "bar": [
             {
              "error_x": {
               "color": "#2a3f5f"
              },
              "error_y": {
               "color": "#2a3f5f"
              },
              "marker": {
               "line": {
                "color": "white",
                "width": 0.5
               },
               "pattern": {
                "fillmode": "overlay",
                "size": 10,
                "solidity": 0.2
               }
              },
              "type": "bar"
             }
            ],
            "barpolar": [
             {
              "marker": {
               "line": {
                "color": "white",
                "width": 0.5
               },
               "pattern": {
                "fillmode": "overlay",
                "size": 10,
                "solidity": 0.2
               }
              },
              "type": "barpolar"
             }
            ],
            "carpet": [
             {
              "aaxis": {
               "endlinecolor": "#2a3f5f",
               "gridcolor": "#C8D4E3",
               "linecolor": "#C8D4E3",
               "minorgridcolor": "#C8D4E3",
               "startlinecolor": "#2a3f5f"
              },
              "baxis": {
               "endlinecolor": "#2a3f5f",
               "gridcolor": "#C8D4E3",
               "linecolor": "#C8D4E3",
               "minorgridcolor": "#C8D4E3",
               "startlinecolor": "#2a3f5f"
              },
              "type": "carpet"
             }
            ],
            "choropleth": [
             {
              "colorbar": {
               "outlinewidth": 0,
               "ticks": ""
              },
              "type": "choropleth"
             }
            ],
            "contour": [
             {
              "colorbar": {
               "outlinewidth": 0,
               "ticks": ""
              },
              "colorscale": [
               [
                0,
                "#0d0887"
               ],
               [
                0.1111111111111111,
                "#46039f"
               ],
               [
                0.2222222222222222,
                "#7201a8"
               ],
               [
                0.3333333333333333,
                "#9c179e"
               ],
               [
                0.4444444444444444,
                "#bd3786"
               ],
               [
                0.5555555555555556,
                "#d8576b"
               ],
               [
                0.6666666666666666,
                "#ed7953"
               ],
               [
                0.7777777777777778,
                "#fb9f3a"
               ],
               [
                0.8888888888888888,
                "#fdca26"
               ],
               [
                1,
                "#f0f921"
               ]
              ],
              "type": "contour"
             }
            ],
            "contourcarpet": [
             {
              "colorbar": {
               "outlinewidth": 0,
               "ticks": ""
              },
              "type": "contourcarpet"
             }
            ],
            "heatmap": [
             {
              "colorbar": {
               "outlinewidth": 0,
               "ticks": ""
              },
              "colorscale": [
               [
                0,
                "#0d0887"
               ],
               [
                0.1111111111111111,
                "#46039f"
               ],
               [
                0.2222222222222222,
                "#7201a8"
               ],
               [
                0.3333333333333333,
                "#9c179e"
               ],
               [
                0.4444444444444444,
                "#bd3786"
               ],
               [
                0.5555555555555556,
                "#d8576b"
               ],
               [
                0.6666666666666666,
                "#ed7953"
               ],
               [
                0.7777777777777778,
                "#fb9f3a"
               ],
               [
                0.8888888888888888,
                "#fdca26"
               ],
               [
                1,
                "#f0f921"
               ]
              ],
              "type": "heatmap"
             }
            ],
            "heatmapgl": [
             {
              "colorbar": {
               "outlinewidth": 0,
               "ticks": ""
              },
              "colorscale": [
               [
                0,
                "#0d0887"
               ],
               [
                0.1111111111111111,
                "#46039f"
               ],
               [
                0.2222222222222222,
                "#7201a8"
               ],
               [
                0.3333333333333333,
                "#9c179e"
               ],
               [
                0.4444444444444444,
                "#bd3786"
               ],
               [
                0.5555555555555556,
                "#d8576b"
               ],
               [
                0.6666666666666666,
                "#ed7953"
               ],
               [
                0.7777777777777778,
                "#fb9f3a"
               ],
               [
                0.8888888888888888,
                "#fdca26"
               ],
               [
                1,
                "#f0f921"
               ]
              ],
              "type": "heatmapgl"
             }
            ],
            "histogram": [
             {
              "marker": {
               "pattern": {
                "fillmode": "overlay",
                "size": 10,
                "solidity": 0.2
               }
              },
              "type": "histogram"
             }
            ],
            "histogram2d": [
             {
              "colorbar": {
               "outlinewidth": 0,
               "ticks": ""
              },
              "colorscale": [
               [
                0,
                "#0d0887"
               ],
               [
                0.1111111111111111,
                "#46039f"
               ],
               [
                0.2222222222222222,
                "#7201a8"
               ],
               [
                0.3333333333333333,
                "#9c179e"
               ],
               [
                0.4444444444444444,
                "#bd3786"
               ],
               [
                0.5555555555555556,
                "#d8576b"
               ],
               [
                0.6666666666666666,
                "#ed7953"
               ],
               [
                0.7777777777777778,
                "#fb9f3a"
               ],
               [
                0.8888888888888888,
                "#fdca26"
               ],
               [
                1,
                "#f0f921"
               ]
              ],
              "type": "histogram2d"
             }
            ],
            "histogram2dcontour": [
             {
              "colorbar": {
               "outlinewidth": 0,
               "ticks": ""
              },
              "colorscale": [
               [
                0,
                "#0d0887"
               ],
               [
                0.1111111111111111,
                "#46039f"
               ],
               [
                0.2222222222222222,
                "#7201a8"
               ],
               [
                0.3333333333333333,
                "#9c179e"
               ],
               [
                0.4444444444444444,
                "#bd3786"
               ],
               [
                0.5555555555555556,
                "#d8576b"
               ],
               [
                0.6666666666666666,
                "#ed7953"
               ],
               [
                0.7777777777777778,
                "#fb9f3a"
               ],
               [
                0.8888888888888888,
                "#fdca26"
               ],
               [
                1,
                "#f0f921"
               ]
              ],
              "type": "histogram2dcontour"
             }
            ],
            "mesh3d": [
             {
              "colorbar": {
               "outlinewidth": 0,
               "ticks": ""
              },
              "type": "mesh3d"
             }
            ],
            "parcoords": [
             {
              "line": {
               "colorbar": {
                "outlinewidth": 0,
                "ticks": ""
               }
              },
              "type": "parcoords"
             }
            ],
            "pie": [
             {
              "automargin": true,
              "type": "pie"
             }
            ],
            "scatter": [
             {
              "fillpattern": {
               "fillmode": "overlay",
               "size": 10,
               "solidity": 0.2
              },
              "type": "scatter"
             }
            ],
            "scatter3d": [
             {
              "line": {
               "colorbar": {
                "outlinewidth": 0,
                "ticks": ""
               }
              },
              "marker": {
               "colorbar": {
                "outlinewidth": 0,
                "ticks": ""
               }
              },
              "type": "scatter3d"
             }
            ],
            "scattercarpet": [
             {
              "marker": {
               "colorbar": {
                "outlinewidth": 0,
                "ticks": ""
               }
              },
              "type": "scattercarpet"
             }
            ],
            "scattergeo": [
             {
              "marker": {
               "colorbar": {
                "outlinewidth": 0,
                "ticks": ""
               }
              },
              "type": "scattergeo"
             }
            ],
            "scattergl": [
             {
              "marker": {
               "colorbar": {
                "outlinewidth": 0,
                "ticks": ""
               }
              },
              "type": "scattergl"
             }
            ],
            "scattermapbox": [
             {
              "marker": {
               "colorbar": {
                "outlinewidth": 0,
                "ticks": ""
               }
              },
              "type": "scattermapbox"
             }
            ],
            "scatterpolar": [
             {
              "marker": {
               "colorbar": {
                "outlinewidth": 0,
                "ticks": ""
               }
              },
              "type": "scatterpolar"
             }
            ],
            "scatterpolargl": [
             {
              "marker": {
               "colorbar": {
                "outlinewidth": 0,
                "ticks": ""
               }
              },
              "type": "scatterpolargl"
             }
            ],
            "scatterternary": [
             {
              "marker": {
               "colorbar": {
                "outlinewidth": 0,
                "ticks": ""
               }
              },
              "type": "scatterternary"
             }
            ],
            "surface": [
             {
              "colorbar": {
               "outlinewidth": 0,
               "ticks": ""
              },
              "colorscale": [
               [
                0,
                "#0d0887"
               ],
               [
                0.1111111111111111,
                "#46039f"
               ],
               [
                0.2222222222222222,
                "#7201a8"
               ],
               [
                0.3333333333333333,
                "#9c179e"
               ],
               [
                0.4444444444444444,
                "#bd3786"
               ],
               [
                0.5555555555555556,
                "#d8576b"
               ],
               [
                0.6666666666666666,
                "#ed7953"
               ],
               [
                0.7777777777777778,
                "#fb9f3a"
               ],
               [
                0.8888888888888888,
                "#fdca26"
               ],
               [
                1,
                "#f0f921"
               ]
              ],
              "type": "surface"
             }
            ],
            "table": [
             {
              "cells": {
               "fill": {
                "color": "#EBF0F8"
               },
               "line": {
                "color": "white"
               }
              },
              "header": {
               "fill": {
                "color": "#C8D4E3"
               },
               "line": {
                "color": "white"
               }
              },
              "type": "table"
             }
            ]
           },
           "layout": {
            "annotationdefaults": {
             "arrowcolor": "#2a3f5f",
             "arrowhead": 0,
             "arrowwidth": 1
            },
            "autotypenumbers": "strict",
            "coloraxis": {
             "colorbar": {
              "outlinewidth": 0,
              "ticks": ""
             }
            },
            "colorscale": {
             "diverging": [
              [
               0,
               "#8e0152"
              ],
              [
               0.1,
               "#c51b7d"
              ],
              [
               0.2,
               "#de77ae"
              ],
              [
               0.3,
               "#f1b6da"
              ],
              [
               0.4,
               "#fde0ef"
              ],
              [
               0.5,
               "#f7f7f7"
              ],
              [
               0.6,
               "#e6f5d0"
              ],
              [
               0.7,
               "#b8e186"
              ],
              [
               0.8,
               "#7fbc41"
              ],
              [
               0.9,
               "#4d9221"
              ],
              [
               1,
               "#276419"
              ]
             ],
             "sequential": [
              [
               0,
               "#0d0887"
              ],
              [
               0.1111111111111111,
               "#46039f"
              ],
              [
               0.2222222222222222,
               "#7201a8"
              ],
              [
               0.3333333333333333,
               "#9c179e"
              ],
              [
               0.4444444444444444,
               "#bd3786"
              ],
              [
               0.5555555555555556,
               "#d8576b"
              ],
              [
               0.6666666666666666,
               "#ed7953"
              ],
              [
               0.7777777777777778,
               "#fb9f3a"
              ],
              [
               0.8888888888888888,
               "#fdca26"
              ],
              [
               1,
               "#f0f921"
              ]
             ],
             "sequentialminus": [
              [
               0,
               "#0d0887"
              ],
              [
               0.1111111111111111,
               "#46039f"
              ],
              [
               0.2222222222222222,
               "#7201a8"
              ],
              [
               0.3333333333333333,
               "#9c179e"
              ],
              [
               0.4444444444444444,
               "#bd3786"
              ],
              [
               0.5555555555555556,
               "#d8576b"
              ],
              [
               0.6666666666666666,
               "#ed7953"
              ],
              [
               0.7777777777777778,
               "#fb9f3a"
              ],
              [
               0.8888888888888888,
               "#fdca26"
              ],
              [
               1,
               "#f0f921"
              ]
             ]
            },
            "colorway": [
             "#636efa",
             "#EF553B",
             "#00cc96",
             "#ab63fa",
             "#FFA15A",
             "#19d3f3",
             "#FF6692",
             "#B6E880",
             "#FF97FF",
             "#FECB52"
            ],
            "font": {
             "color": "#2a3f5f"
            },
            "geo": {
             "bgcolor": "white",
             "lakecolor": "white",
             "landcolor": "white",
             "showlakes": true,
             "showland": true,
             "subunitcolor": "#C8D4E3"
            },
            "hoverlabel": {
             "align": "left"
            },
            "hovermode": "closest",
            "mapbox": {
             "style": "light"
            },
            "paper_bgcolor": "white",
            "plot_bgcolor": "white",
            "polar": {
             "angularaxis": {
              "gridcolor": "#EBF0F8",
              "linecolor": "#EBF0F8",
              "ticks": ""
             },
             "bgcolor": "white",
             "radialaxis": {
              "gridcolor": "#EBF0F8",
              "linecolor": "#EBF0F8",
              "ticks": ""
             }
            },
            "scene": {
             "xaxis": {
              "backgroundcolor": "white",
              "gridcolor": "#DFE8F3",
              "gridwidth": 2,
              "linecolor": "#EBF0F8",
              "showbackground": true,
              "ticks": "",
              "zerolinecolor": "#EBF0F8"
             },
             "yaxis": {
              "backgroundcolor": "white",
              "gridcolor": "#DFE8F3",
              "gridwidth": 2,
              "linecolor": "#EBF0F8",
              "showbackground": true,
              "ticks": "",
              "zerolinecolor": "#EBF0F8"
             },
             "zaxis": {
              "backgroundcolor": "white",
              "gridcolor": "#DFE8F3",
              "gridwidth": 2,
              "linecolor": "#EBF0F8",
              "showbackground": true,
              "ticks": "",
              "zerolinecolor": "#EBF0F8"
             }
            },
            "shapedefaults": {
             "line": {
              "color": "#2a3f5f"
             }
            },
            "ternary": {
             "aaxis": {
              "gridcolor": "#DFE8F3",
              "linecolor": "#A2B1C6",
              "ticks": ""
             },
             "baxis": {
              "gridcolor": "#DFE8F3",
              "linecolor": "#A2B1C6",
              "ticks": ""
             },
             "bgcolor": "white",
             "caxis": {
              "gridcolor": "#DFE8F3",
              "linecolor": "#A2B1C6",
              "ticks": ""
             }
            },
            "title": {
             "x": 0.05
            },
            "xaxis": {
             "automargin": true,
             "gridcolor": "#EBF0F8",
             "linecolor": "#EBF0F8",
             "ticks": "",
             "title": {
              "standoff": 15
             },
             "zerolinecolor": "#EBF0F8",
             "zerolinewidth": 2
            },
            "yaxis": {
             "automargin": true,
             "gridcolor": "#EBF0F8",
             "linecolor": "#EBF0F8",
             "ticks": "",
             "title": {
              "standoff": 15
             },
             "zerolinecolor": "#EBF0F8",
             "zerolinewidth": 2
            }
           }
          },
          "xaxis": {
           "automargin": true,
           "autorange": false,
           "fixedrange": true,
           "linecolor": "#444",
           "linewidth": 2,
           "minor": {
            "tickmode": "linear",
            "ticks": "outside"
           },
           "mirror": true,
           "showline": true,
           "tickmode": "linear",
           "ticks": "outside",
           "zeroline": false
          },
          "yaxis": {
           "automargin": true,
           "autorange": false,
           "fixedrange": true,
           "linecolor": "#444",
           "linewidth": 2,
           "minor": {
            "tickmode": "linear",
            "ticks": "outside"
           },
           "mirror": true,
           "showline": true,
           "tickmode": "linear",
           "ticks": "outside",
           "zeroline": false
          }
         }
        },
        "width": 600,
        "xaxis": {
         "dtick": 5,
         "minor": {
          "dtick": 1,
          "tick0": 0
         },
         "range": [
          0.8,
          20.2
         ],
         "tick0": 0,
         "title": {
          "text": "level"
         }
        },
        "yaxis": {
         "dtick": 2,
         "fixedrange": false,
         "minor": {
          "dtick": 1,
          "tick0": 0
         },
         "range": [
          0,
          8
         ],
         "tick0": 0,
         "title": {
          "text": "encounter XP increase (%)"
         }
        }
       }
      }
     },
     "metadata": {},
     "output_type": "display_data"
    }
   ],
   "source": [
    "# Plots XP increase - +1 Attack Bonus\n",
    "pc_data_file = f'./pc data - BL Medium 2 short rests.json'\n",
    "with open(pc_data_file, 'r') as fin:\n",
    "    pc_data0 = json.load(fin)\n",
    "\n",
    "# create figure\n",
    "fig = go.Figure(\n",
    "    layout=go.Layout(\n",
    "        template=TFB_TEMPLATE,\n",
    "        xaxis=dict(\n",
    "            title_text='level',\n",
    "            range=[0.8, 20.2],\n",
    "            tick0=0, dtick=5,\n",
    "            minor=dict(tick0=0, dtick=1),\n",
    "        ),\n",
    "        yaxis=dict(\n",
    "            fixedrange=False,\n",
    "            #title_text='$(\\AB + \\AC - 2)^{-1}\\ (\\%)$',\n",
    "            title_text='encounter XP increase (%)',\n",
    "            range=[0, 8],\n",
    "            tick0=0, dtick=2,\n",
    "            minor=dict(tick0=0, dtick=1),\n",
    "        ),\n",
    "    )\n",
    ")\n",
    "\n",
    "# plot data\n",
    "levels = np.array(range(1,21,1))\n",
    "ymean = np.zeros(20)\n",
    "for pc in pc_data0:\n",
    "    y = np.array([1/(x['armor class'] + x['attack bonus'] - 2) for x in pc_data0[pc]])\n",
    "    ymean += y\n",
    "    fig.add_trace(go.Scatter(\n",
    "        x=levels, \n",
    "        y=100*y,\n",
    "        mode='lines+markers', \n",
    "        line={'color': PC_CLASSES[pc]['color']},\n",
    "        unselected=dict(marker=dict(opacity=0.0)),\n",
    "        name=pc,\n",
    "        hovertemplate=\n",
    "            '<b>'+pc+'</b><br>'+\n",
    "            'level %{x}<br>'+\n",
    "            'XP increase %{y:.1f}%'+\n",
    "            '<extra></extra>'\n",
    "    ))\n",
    "\n",
    "ymean /= len(pc_data0)\n",
    "fig.add_trace(go.Scatter(\n",
    "    x=levels, \n",
    "    y=100*ymean,\n",
    "    mode='lines+markers', \n",
    "    line={'color': 'black', 'dash': 'dash'},\n",
    "    unselected=dict(marker=dict(opacity=0.0)),\n",
    "    name='average',\n",
    "    hovertemplate=\n",
    "        '<b>Average</b><br>'+\n",
    "        'level %{x}<br>'+\n",
    "        'XP increase %{y:.1f}%'+\n",
    "        '<extra></extra>'\n",
    "))\n",
    "print(f'{np.mean(ymean):.2%}')\n",
    "\n",
    "# show figure\n",
    "fig.update_layout(width=600, height=550)\n",
    "fig.show(config=TFB_CONFIG)\n",
    "\n",
    "# save figures\n",
    "if SAVEFIGS:\n",
    "    fig.update_layout(autosize=True, width=None, height=None)\n",
    "    save_fig_html(fig, format='large', name=f'./fig-encounter-xp-generic-bonus-large', style='aspect-ratio:600/550')\n",
    "    save_fig_html(fig, format='small', name=f'./fig-encounter-xp-generic-bonus-small', style='aspect-ratio:600/600')\n",
    "    pass"
   ]
  },
  {
   "cell_type": "code",
   "execution_count": 6,
   "metadata": {},
   "outputs": [
    {
     "name": "stdout",
     "output_type": "stream",
     "text": [
      "Barbarian .................... total: 0.79 s\n",
      "Fighter   .................... total: 0.91 s\n",
      "Monk      .................... total: 1.16 s\n",
      "Paladin   .................... total: 12.17 s\n",
      "Ranger    .................... total: 1.05 s\n",
      "Rogue     .................... total: 0.40 s\n",
      "pc data saved to \"pc data - WD +1 Medium 2 short rests.json\"\n",
      "total run time: 16.48 s\n"
     ]
    }
   ],
   "source": [
    "# Encounter XP - +1 Weapon Damage Bonus\n",
    "import copy\n",
    "\n",
    "difficulty = 'Medium'\n",
    "short_rests = 2\n",
    "show_level_times = False\n",
    "\n",
    "PC_CLASSES = {\n",
    "    'Barbarian': {'color': '#E7623E', 'group': 'martial',             'weaponDamageBonus': '+1'},\n",
    "    #'Bard':      {'color': '#AB6DAC', 'group': 'spellcaster',         'weaponDamageBonus': '+1'},\n",
    "    #'Cleric':    {'color': '#91A1B2', 'group': 'spellcaster',         'weaponDamageBonus': '+1'},\n",
    "    #'Druid':     {'color': '#7A853B', 'group': 'spellcaster',         'weaponDamageBonus': '+1'},\n",
    "    'Fighter':   {'color': '#7F513E', 'group': 'martial',             'weaponDamageBonus': '+1'},\n",
    "    'Monk':      {'color': '#51A5C5', 'group': 'martial',             'weaponDamageBonus': '+1'},\n",
    "    'Paladin':   {'color': '#B59E54', 'group': 'martial-spellcaster', 'weaponDamageBonus': '+1'},\n",
    "    'Ranger':    {'color': '#507F62', 'group': 'martial-spellcaster', 'weaponDamageBonus': '+1'},\n",
    "    'Rogue':     {'color': '#555752', 'group': 'martial',             'weaponDamageBonus': '+1'},\n",
    "    #'Sorcerer':  {'color': '#992E2E', 'group': 'spellcaster',         'weaponDamageBonus': '+1'},\n",
    "    #'Warlock':   {'color': '#7B469B', 'group': 'spellcaster',         'weaponDamageBonus': '+1'},\n",
    "    #'Wizard':    {'color': '#2A50A1', 'group': 'spellcaster',         'weaponDamageBonus': '+1'}\n",
    "}\n",
    "\n",
    "class NpEncoder(json.JSONEncoder):\n",
    "    def default(self, obj):\n",
    "        if isinstance(obj, np.integer):\n",
    "            return int(obj)\n",
    "        if isinstance(obj, np.floating):\n",
    "            return float(obj)\n",
    "        if isinstance(obj, np.ndarray):\n",
    "            return obj.tolist()\n",
    "        return super(NpEncoder, self).default(obj)\n",
    "\n",
    "pcData = {}\n",
    "class_time = []\n",
    "for c in PC_CLASSES:\n",
    "    levels = np.arange(1, 21, 1)\n",
    "    print(f'{c:<10s}', end='')\n",
    "    daily_engine_options={\n",
    "        'combat healing': False if c == 'Paladin' else True,\n",
    "        'remove empty data': True,\n",
    "        'simplify summary': True,\n",
    "        'effective_method': 'linear',\n",
    "    }\n",
    "    level_time = []\n",
    "    pcData[c] = []\n",
    "    for level in levels:\n",
    "        tic = time.perf_counter()\n",
    "        pc = pc5.newPC(pcClass=c, lvl=level, **PC_CLASSES[c])\n",
    "        advDay = en5.create_adventuring_day(level, difficulty, short_rests)\n",
    "        dSum = en5.dailyEngine(pc, advDay, **daily_engine_options)\n",
    "        dSum['class'] = c\n",
    "        dSum['level'] = int(level)\n",
    "        pcData[c].append(copy.deepcopy(dSum))\n",
    "\n",
    "        toc = time.perf_counter()\n",
    "        level_time += [toc - tic]\n",
    "        if show_level_times:\n",
    "            print(f' {level}: {level_time[-1]:0.2f} s,', end='')\n",
    "        else:\n",
    "            print('.', end='')\n",
    "        time.sleep(0.1)\n",
    "\n",
    "    class_time += [np.sum(level_time)]\n",
    "    print(f' total: {class_time[-1]:0.2f} s')\n",
    "    time.sleep(0.1)\n",
    "\n",
    "if SAVEDATA:\n",
    "    # construct day string for saving figures\n",
    "    file_name = 'pc data - WD +1 {:} {:d} short rests.json'.format(difficulty, short_rests)\n",
    "    with open(file_name, 'w') as convert_file:\n",
    "        convert_file.write(json.dumps(pcData, indent=2, cls=NpEncoder))\n",
    "    print('pc data saved to \"{:}\"'.format(file_name))\n",
    "\n",
    "print(f'total run time: {np.sum(class_time):0.2f} s')"
   ]
  },
  {
   "cell_type": "code",
   "execution_count": 25,
   "metadata": {},
   "outputs": [
    {
     "name": "stdout",
     "output_type": "stream",
     "text": [
      "1.0677026398278733\n"
     ]
    },
    {
     "data": {
      "application/vnd.plotly.v1+json": {
       "config": {
        "displayModeBar": "hover",
        "displaylogo": false,
        "modeBarButtonsToRemove": [
         "select2d",
         "lasso2d",
         "zoom2d",
         "zoomIn2d",
         "zoomOut2d",
         "pan2d",
         "autoScale2d",
         "hoverClosestCartesian",
         "hoverCompareCartesian",
         "toggleSpikelines",
         "resetScale2d"
        ],
        "plotlyServerURL": "https://plot.ly",
        "responsive": true,
        "showAxisDragHandles": false,
        "toImageButtonOptions": {
         "filename": "tfb-plot",
         "format": "png",
         "height": 450,
         "scale": 2,
         "width": 600
        }
       },
       "data": [
        {
         "hovertemplate": "<b>Barbarian</b><br>level %{x}<br>XP increase %{y:.3f}<extra></extra>",
         "line": {
          "color": "#E7623E"
         },
         "mode": "lines+markers",
         "name": "Barbarian",
         "type": "scatter",
         "unselected": {
          "marker": {
           "opacity": 0
          }
         },
         "x": [
          1,
          2,
          3,
          4,
          5,
          6,
          7,
          8,
          9,
          10,
          11,
          12,
          13,
          14,
          15,
          16,
          17,
          18,
          19,
          20
         ],
         "y": [
          9.83606557377048,
          9.83606557377048,
          9.756097560975597,
          8.771929824561386,
          8.805031446540879,
          8.547008547008561,
          8.547008547008538,
          7.874015748031482,
          6.9930069930070005,
          7.0739549839228255,
          6.9930069930070005,
          6.601941747572826,
          6.25,
          6.25,
          6.239737274220025,
          5.928237129485181,
          5.405405405405395,
          5.405405405405417,
          5.405405405405395,
          4.878048780487787
         ]
        },
        {
         "hovertemplate": "<b>Fighter</b><br>level %{x}<br>XP increase %{y:.3f}<extra></extra>",
         "line": {
          "color": "#7F513E"
         },
         "mode": "lines+markers",
         "name": "Fighter",
         "type": "scatter",
         "unselected": {
          "marker": {
           "opacity": 0
          }
         },
         "x": [
          1,
          2,
          3,
          4,
          5,
          6,
          7,
          8,
          9,
          10,
          11,
          12,
          13,
          14,
          15,
          16,
          17,
          18,
          19,
          20
         ],
         "y": [
          10.000000000000009,
          10.000000000000009,
          9.999999999999986,
          9.090909090909104,
          9.090909090909083,
          8.333333333333304,
          8.333333333333304,
          8.333333333333325,
          8.333333333333304,
          8.333333333333348,
          8.333333333333325,
          8.333333333333348,
          8.333333333333325,
          8.333333333333348,
          8.333333333333325,
          8.333333333333325,
          8.333333333333325,
          8.333333333333348,
          8.333333333333325,
          8.333333333333348
         ]
        },
        {
         "hovertemplate": "<b>Monk</b><br>level %{x}<br>XP increase %{y:.3f}<extra></extra>",
         "line": {
          "color": "#51A5C5"
         },
         "mode": "lines+markers",
         "name": "Monk",
         "type": "scatter",
         "unselected": {
          "marker": {
           "opacity": 0
          }
         },
         "x": [
          1,
          2,
          3,
          4,
          5,
          6,
          7,
          8,
          9,
          10,
          11,
          12,
          13,
          14,
          15,
          16,
          17,
          18,
          19,
          20
         ],
         "y": [
          8.333333333333325,
          7.2289156626506035,
          7.1111111111111125,
          5.586592178770955,
          7.179487179487176,
          6.926406926406914,
          6.8376068376068355,
          6.7510548523206815,
          6.666666666666665,
          6.666666666666665,
          5.882352941176472,
          5.263157894736836,
          5.263157894736836,
          5.263157894736836,
          5.263157894736836,
          5.263157894736836,
          4.761904761904745,
          5.254515599343179,
          5.291005291005302,
          5.29100529100528
         ]
        },
        {
         "hovertemplate": "<b>Paladin</b><br>level %{x}<br>XP increase %{y:.3f}<extra></extra>",
         "line": {
          "color": "#B59E54"
         },
         "mode": "lines+markers",
         "name": "Paladin",
         "type": "scatter",
         "unselected": {
          "marker": {
           "opacity": 0
          }
         },
         "x": [
          1,
          2,
          3,
          4,
          5,
          6,
          7,
          8,
          9,
          10,
          11,
          12,
          13,
          14,
          15,
          16,
          17,
          18,
          19,
          20
         ],
         "y": [
          10.000000000000009,
          8.695652173913038,
          8.55614973262031,
          7.677543186180413,
          7.310704960835501,
          7.239819004524883,
          6.90250215703192,
          6.456820016142051,
          5.8394160583941535,
          6.002728512960442,
          4.422332780541738,
          4.220980757293602,
          4.074702886247872,
          4.074702886247872,
          3.9707419017763756,
          3.970741901776398,
          3.5798398492699057,
          3.5798398492699057,
          3.3364226135310426,
          3.5653650254668934
         ]
        },
        {
         "hovertemplate": "<b>Ranger</b><br>level %{x}<br>XP increase %{y:.3f}<extra></extra>",
         "line": {
          "color": "#507F62"
         },
         "mode": "lines+markers",
         "name": "Ranger",
         "type": "scatter",
         "unselected": {
          "marker": {
           "opacity": 0
          }
         },
         "x": [
          1,
          2,
          3,
          4,
          5,
          6,
          7,
          8,
          9,
          10,
          11,
          12,
          13,
          14,
          15,
          16,
          17,
          18,
          19,
          20
         ],
         "y": [
          13.33333333333333,
          11.111111111111116,
          10.88435374149659,
          9.501187648456044,
          9.27152317880795,
          9.174311926605515,
          8.7527352297593,
          8.048289738430569,
          7.05467372134041,
          7.272727272727275,
          6.644518272425248,
          6.238532110091732,
          5.955334987593042,
          5.955334987593042,
          5.722891566265065,
          5.722891566265065,
          5.00329163923634,
          5.00329163923634,
          4.525455688246383,
          4.926686217008802
         ]
        },
        {
         "hovertemplate": "<b>Rogue</b><br>level %{x}<br>XP increase %{y:.3f}<extra></extra>",
         "line": {
          "color": "#555752"
         },
         "mode": "lines+markers",
         "name": "Rogue",
         "type": "scatter",
         "unselected": {
          "marker": {
           "opacity": 0
          }
         },
         "x": [
          1,
          2,
          3,
          4,
          5,
          6,
          7,
          8,
          9,
          10,
          11,
          12,
          13,
          14,
          15,
          16,
          17,
          18,
          19,
          20
         ],
         "y": [
          10.000000000000009,
          9.999999999999986,
          7.407407407407418,
          6.896551724137923,
          5.555555555555558,
          5.555555555555558,
          4.651162790697683,
          4.444444444444451,
          3.8461538461538547,
          3.8461538461538547,
          3.3898305084745672,
          3.3898305084745672,
          3.0303030303030276,
          3.0303030303030276,
          2.7397260273972712,
          2.7397260273972712,
          2.499999999999991,
          2.499999999999991,
          2.298850574712641,
          2.298850574712641
         ]
        },
        {
         "hovertemplate": "<b>Average</b><br>level %{x}<br>XP increase %{y:.1f}<extra></extra>",
         "line": {
          "color": "black",
          "dash": "dash"
         },
         "mode": "lines+markers",
         "name": "Rogue",
         "type": "scatter",
         "unselected": {
          "marker": {
           "opacity": 0
          }
         },
         "x": [
          1,
          2,
          3,
          4,
          5,
          6,
          7,
          8,
          9,
          10,
          11,
          12,
          13,
          14,
          15,
          16,
          17,
          18,
          19,
          20
         ],
         "y": [
          10.089561960592718,
          9.455109450739752,
          8.95425119537201,
          7.895271619928312,
          8.01493490433025,
          7.763228263474287,
          7.426091248161781,
          7.093131382127771,
          6.527287478214228,
          6.592906745641258,
          6.122378326327316,
          5.968636847888753,
          5.736288617295338,
          5.781559035161998,
          5.619142922200626,
          5.562820296406912,
          5.2203130316085256,
          5.2787217056510904,
          5.094892860219269,
          5.208751764404429
         ]
        }
       ],
       "layout": {
        "height": 550,
        "template": {
         "layout": {
          "autosize": false,
          "font": {
           "family": "sans-serif",
           "size": 14
          },
          "hovermode": "closest",
          "legend": {
           "bgcolor": "rgba(0,0,0,0)",
           "font": {
            "size": 10
           },
           "orientation": "h",
           "tracegroupgap": 0,
           "x": 0.01,
           "xanchor": "left",
           "y": 1.04,
           "yanchor": "bottom"
          },
          "margin": {
           "b": 40,
           "l": 50,
           "pad": 4,
           "r": 25,
           "t": 20
          },
          "template": {
           "data": {
            "bar": [
             {
              "error_x": {
               "color": "#2a3f5f"
              },
              "error_y": {
               "color": "#2a3f5f"
              },
              "marker": {
               "line": {
                "color": "white",
                "width": 0.5
               },
               "pattern": {
                "fillmode": "overlay",
                "size": 10,
                "solidity": 0.2
               }
              },
              "type": "bar"
             }
            ],
            "barpolar": [
             {
              "marker": {
               "line": {
                "color": "white",
                "width": 0.5
               },
               "pattern": {
                "fillmode": "overlay",
                "size": 10,
                "solidity": 0.2
               }
              },
              "type": "barpolar"
             }
            ],
            "carpet": [
             {
              "aaxis": {
               "endlinecolor": "#2a3f5f",
               "gridcolor": "#C8D4E3",
               "linecolor": "#C8D4E3",
               "minorgridcolor": "#C8D4E3",
               "startlinecolor": "#2a3f5f"
              },
              "baxis": {
               "endlinecolor": "#2a3f5f",
               "gridcolor": "#C8D4E3",
               "linecolor": "#C8D4E3",
               "minorgridcolor": "#C8D4E3",
               "startlinecolor": "#2a3f5f"
              },
              "type": "carpet"
             }
            ],
            "choropleth": [
             {
              "colorbar": {
               "outlinewidth": 0,
               "ticks": ""
              },
              "type": "choropleth"
             }
            ],
            "contour": [
             {
              "colorbar": {
               "outlinewidth": 0,
               "ticks": ""
              },
              "colorscale": [
               [
                0,
                "#0d0887"
               ],
               [
                0.1111111111111111,
                "#46039f"
               ],
               [
                0.2222222222222222,
                "#7201a8"
               ],
               [
                0.3333333333333333,
                "#9c179e"
               ],
               [
                0.4444444444444444,
                "#bd3786"
               ],
               [
                0.5555555555555556,
                "#d8576b"
               ],
               [
                0.6666666666666666,
                "#ed7953"
               ],
               [
                0.7777777777777778,
                "#fb9f3a"
               ],
               [
                0.8888888888888888,
                "#fdca26"
               ],
               [
                1,
                "#f0f921"
               ]
              ],
              "type": "contour"
             }
            ],
            "contourcarpet": [
             {
              "colorbar": {
               "outlinewidth": 0,
               "ticks": ""
              },
              "type": "contourcarpet"
             }
            ],
            "heatmap": [
             {
              "colorbar": {
               "outlinewidth": 0,
               "ticks": ""
              },
              "colorscale": [
               [
                0,
                "#0d0887"
               ],
               [
                0.1111111111111111,
                "#46039f"
               ],
               [
                0.2222222222222222,
                "#7201a8"
               ],
               [
                0.3333333333333333,
                "#9c179e"
               ],
               [
                0.4444444444444444,
                "#bd3786"
               ],
               [
                0.5555555555555556,
                "#d8576b"
               ],
               [
                0.6666666666666666,
                "#ed7953"
               ],
               [
                0.7777777777777778,
                "#fb9f3a"
               ],
               [
                0.8888888888888888,
                "#fdca26"
               ],
               [
                1,
                "#f0f921"
               ]
              ],
              "type": "heatmap"
             }
            ],
            "heatmapgl": [
             {
              "colorbar": {
               "outlinewidth": 0,
               "ticks": ""
              },
              "colorscale": [
               [
                0,
                "#0d0887"
               ],
               [
                0.1111111111111111,
                "#46039f"
               ],
               [
                0.2222222222222222,
                "#7201a8"
               ],
               [
                0.3333333333333333,
                "#9c179e"
               ],
               [
                0.4444444444444444,
                "#bd3786"
               ],
               [
                0.5555555555555556,
                "#d8576b"
               ],
               [
                0.6666666666666666,
                "#ed7953"
               ],
               [
                0.7777777777777778,
                "#fb9f3a"
               ],
               [
                0.8888888888888888,
                "#fdca26"
               ],
               [
                1,
                "#f0f921"
               ]
              ],
              "type": "heatmapgl"
             }
            ],
            "histogram": [
             {
              "marker": {
               "pattern": {
                "fillmode": "overlay",
                "size": 10,
                "solidity": 0.2
               }
              },
              "type": "histogram"
             }
            ],
            "histogram2d": [
             {
              "colorbar": {
               "outlinewidth": 0,
               "ticks": ""
              },
              "colorscale": [
               [
                0,
                "#0d0887"
               ],
               [
                0.1111111111111111,
                "#46039f"
               ],
               [
                0.2222222222222222,
                "#7201a8"
               ],
               [
                0.3333333333333333,
                "#9c179e"
               ],
               [
                0.4444444444444444,
                "#bd3786"
               ],
               [
                0.5555555555555556,
                "#d8576b"
               ],
               [
                0.6666666666666666,
                "#ed7953"
               ],
               [
                0.7777777777777778,
                "#fb9f3a"
               ],
               [
                0.8888888888888888,
                "#fdca26"
               ],
               [
                1,
                "#f0f921"
               ]
              ],
              "type": "histogram2d"
             }
            ],
            "histogram2dcontour": [
             {
              "colorbar": {
               "outlinewidth": 0,
               "ticks": ""
              },
              "colorscale": [
               [
                0,
                "#0d0887"
               ],
               [
                0.1111111111111111,
                "#46039f"
               ],
               [
                0.2222222222222222,
                "#7201a8"
               ],
               [
                0.3333333333333333,
                "#9c179e"
               ],
               [
                0.4444444444444444,
                "#bd3786"
               ],
               [
                0.5555555555555556,
                "#d8576b"
               ],
               [
                0.6666666666666666,
                "#ed7953"
               ],
               [
                0.7777777777777778,
                "#fb9f3a"
               ],
               [
                0.8888888888888888,
                "#fdca26"
               ],
               [
                1,
                "#f0f921"
               ]
              ],
              "type": "histogram2dcontour"
             }
            ],
            "mesh3d": [
             {
              "colorbar": {
               "outlinewidth": 0,
               "ticks": ""
              },
              "type": "mesh3d"
             }
            ],
            "parcoords": [
             {
              "line": {
               "colorbar": {
                "outlinewidth": 0,
                "ticks": ""
               }
              },
              "type": "parcoords"
             }
            ],
            "pie": [
             {
              "automargin": true,
              "type": "pie"
             }
            ],
            "scatter": [
             {
              "fillpattern": {
               "fillmode": "overlay",
               "size": 10,
               "solidity": 0.2
              },
              "type": "scatter"
             }
            ],
            "scatter3d": [
             {
              "line": {
               "colorbar": {
                "outlinewidth": 0,
                "ticks": ""
               }
              },
              "marker": {
               "colorbar": {
                "outlinewidth": 0,
                "ticks": ""
               }
              },
              "type": "scatter3d"
             }
            ],
            "scattercarpet": [
             {
              "marker": {
               "colorbar": {
                "outlinewidth": 0,
                "ticks": ""
               }
              },
              "type": "scattercarpet"
             }
            ],
            "scattergeo": [
             {
              "marker": {
               "colorbar": {
                "outlinewidth": 0,
                "ticks": ""
               }
              },
              "type": "scattergeo"
             }
            ],
            "scattergl": [
             {
              "marker": {
               "colorbar": {
                "outlinewidth": 0,
                "ticks": ""
               }
              },
              "type": "scattergl"
             }
            ],
            "scattermapbox": [
             {
              "marker": {
               "colorbar": {
                "outlinewidth": 0,
                "ticks": ""
               }
              },
              "type": "scattermapbox"
             }
            ],
            "scatterpolar": [
             {
              "marker": {
               "colorbar": {
                "outlinewidth": 0,
                "ticks": ""
               }
              },
              "type": "scatterpolar"
             }
            ],
            "scatterpolargl": [
             {
              "marker": {
               "colorbar": {
                "outlinewidth": 0,
                "ticks": ""
               }
              },
              "type": "scatterpolargl"
             }
            ],
            "scatterternary": [
             {
              "marker": {
               "colorbar": {
                "outlinewidth": 0,
                "ticks": ""
               }
              },
              "type": "scatterternary"
             }
            ],
            "surface": [
             {
              "colorbar": {
               "outlinewidth": 0,
               "ticks": ""
              },
              "colorscale": [
               [
                0,
                "#0d0887"
               ],
               [
                0.1111111111111111,
                "#46039f"
               ],
               [
                0.2222222222222222,
                "#7201a8"
               ],
               [
                0.3333333333333333,
                "#9c179e"
               ],
               [
                0.4444444444444444,
                "#bd3786"
               ],
               [
                0.5555555555555556,
                "#d8576b"
               ],
               [
                0.6666666666666666,
                "#ed7953"
               ],
               [
                0.7777777777777778,
                "#fb9f3a"
               ],
               [
                0.8888888888888888,
                "#fdca26"
               ],
               [
                1,
                "#f0f921"
               ]
              ],
              "type": "surface"
             }
            ],
            "table": [
             {
              "cells": {
               "fill": {
                "color": "#EBF0F8"
               },
               "line": {
                "color": "white"
               }
              },
              "header": {
               "fill": {
                "color": "#C8D4E3"
               },
               "line": {
                "color": "white"
               }
              },
              "type": "table"
             }
            ]
           },
           "layout": {
            "annotationdefaults": {
             "arrowcolor": "#2a3f5f",
             "arrowhead": 0,
             "arrowwidth": 1
            },
            "autotypenumbers": "strict",
            "coloraxis": {
             "colorbar": {
              "outlinewidth": 0,
              "ticks": ""
             }
            },
            "colorscale": {
             "diverging": [
              [
               0,
               "#8e0152"
              ],
              [
               0.1,
               "#c51b7d"
              ],
              [
               0.2,
               "#de77ae"
              ],
              [
               0.3,
               "#f1b6da"
              ],
              [
               0.4,
               "#fde0ef"
              ],
              [
               0.5,
               "#f7f7f7"
              ],
              [
               0.6,
               "#e6f5d0"
              ],
              [
               0.7,
               "#b8e186"
              ],
              [
               0.8,
               "#7fbc41"
              ],
              [
               0.9,
               "#4d9221"
              ],
              [
               1,
               "#276419"
              ]
             ],
             "sequential": [
              [
               0,
               "#0d0887"
              ],
              [
               0.1111111111111111,
               "#46039f"
              ],
              [
               0.2222222222222222,
               "#7201a8"
              ],
              [
               0.3333333333333333,
               "#9c179e"
              ],
              [
               0.4444444444444444,
               "#bd3786"
              ],
              [
               0.5555555555555556,
               "#d8576b"
              ],
              [
               0.6666666666666666,
               "#ed7953"
              ],
              [
               0.7777777777777778,
               "#fb9f3a"
              ],
              [
               0.8888888888888888,
               "#fdca26"
              ],
              [
               1,
               "#f0f921"
              ]
             ],
             "sequentialminus": [
              [
               0,
               "#0d0887"
              ],
              [
               0.1111111111111111,
               "#46039f"
              ],
              [
               0.2222222222222222,
               "#7201a8"
              ],
              [
               0.3333333333333333,
               "#9c179e"
              ],
              [
               0.4444444444444444,
               "#bd3786"
              ],
              [
               0.5555555555555556,
               "#d8576b"
              ],
              [
               0.6666666666666666,
               "#ed7953"
              ],
              [
               0.7777777777777778,
               "#fb9f3a"
              ],
              [
               0.8888888888888888,
               "#fdca26"
              ],
              [
               1,
               "#f0f921"
              ]
             ]
            },
            "colorway": [
             "#636efa",
             "#EF553B",
             "#00cc96",
             "#ab63fa",
             "#FFA15A",
             "#19d3f3",
             "#FF6692",
             "#B6E880",
             "#FF97FF",
             "#FECB52"
            ],
            "font": {
             "color": "#2a3f5f"
            },
            "geo": {
             "bgcolor": "white",
             "lakecolor": "white",
             "landcolor": "white",
             "showlakes": true,
             "showland": true,
             "subunitcolor": "#C8D4E3"
            },
            "hoverlabel": {
             "align": "left"
            },
            "hovermode": "closest",
            "mapbox": {
             "style": "light"
            },
            "paper_bgcolor": "white",
            "plot_bgcolor": "white",
            "polar": {
             "angularaxis": {
              "gridcolor": "#EBF0F8",
              "linecolor": "#EBF0F8",
              "ticks": ""
             },
             "bgcolor": "white",
             "radialaxis": {
              "gridcolor": "#EBF0F8",
              "linecolor": "#EBF0F8",
              "ticks": ""
             }
            },
            "scene": {
             "xaxis": {
              "backgroundcolor": "white",
              "gridcolor": "#DFE8F3",
              "gridwidth": 2,
              "linecolor": "#EBF0F8",
              "showbackground": true,
              "ticks": "",
              "zerolinecolor": "#EBF0F8"
             },
             "yaxis": {
              "backgroundcolor": "white",
              "gridcolor": "#DFE8F3",
              "gridwidth": 2,
              "linecolor": "#EBF0F8",
              "showbackground": true,
              "ticks": "",
              "zerolinecolor": "#EBF0F8"
             },
             "zaxis": {
              "backgroundcolor": "white",
              "gridcolor": "#DFE8F3",
              "gridwidth": 2,
              "linecolor": "#EBF0F8",
              "showbackground": true,
              "ticks": "",
              "zerolinecolor": "#EBF0F8"
             }
            },
            "shapedefaults": {
             "line": {
              "color": "#2a3f5f"
             }
            },
            "ternary": {
             "aaxis": {
              "gridcolor": "#DFE8F3",
              "linecolor": "#A2B1C6",
              "ticks": ""
             },
             "baxis": {
              "gridcolor": "#DFE8F3",
              "linecolor": "#A2B1C6",
              "ticks": ""
             },
             "bgcolor": "white",
             "caxis": {
              "gridcolor": "#DFE8F3",
              "linecolor": "#A2B1C6",
              "ticks": ""
             }
            },
            "title": {
             "x": 0.05
            },
            "xaxis": {
             "automargin": true,
             "gridcolor": "#EBF0F8",
             "linecolor": "#EBF0F8",
             "ticks": "",
             "title": {
              "standoff": 15
             },
             "zerolinecolor": "#EBF0F8",
             "zerolinewidth": 2
            },
            "yaxis": {
             "automargin": true,
             "gridcolor": "#EBF0F8",
             "linecolor": "#EBF0F8",
             "ticks": "",
             "title": {
              "standoff": 15
             },
             "zerolinecolor": "#EBF0F8",
             "zerolinewidth": 2
            }
           }
          },
          "xaxis": {
           "automargin": true,
           "autorange": false,
           "fixedrange": true,
           "linecolor": "#444",
           "linewidth": 2,
           "minor": {
            "tickmode": "linear",
            "ticks": "outside"
           },
           "mirror": true,
           "showline": true,
           "tickmode": "linear",
           "ticks": "outside",
           "zeroline": false
          },
          "yaxis": {
           "automargin": true,
           "autorange": false,
           "fixedrange": true,
           "linecolor": "#444",
           "linewidth": 2,
           "minor": {
            "tickmode": "linear",
            "ticks": "outside"
           },
           "mirror": true,
           "showline": true,
           "tickmode": "linear",
           "ticks": "outside",
           "zeroline": false
          }
         }
        },
        "width": 600,
        "xaxis": {
         "dtick": 5,
         "minor": {
          "dtick": 1,
          "tick0": 0
         },
         "range": [
          0.8,
          20.2
         ],
         "tick0": 0,
         "title": {
          "text": "level"
         }
        },
        "yaxis": {
         "dtick": 5,
         "fixedrange": false,
         "minor": {
          "dtick": 1,
          "tick0": 0
         },
         "range": [
          0,
          15
         ],
         "tick0": 0,
         "title": {
          "text": "encounter XP increase (%)"
         }
        }
       }
      }
     },
     "metadata": {},
     "output_type": "display_data"
    }
   ],
   "source": [
    "# Plots XP increase - +1 Weapon Damage Bonus\n",
    "encounter_difficulty = 'Medium'\n",
    "pc_data_file = f'./pc data - BL {encounter_difficulty} 2 short rests.json'\n",
    "with open(pc_data_file, 'r') as fin:\n",
    "    pc_data0 = json.load(fin)\n",
    "\n",
    "pc_data_file = f'./pc data - WD +1 {encounter_difficulty} 2 short rests.json'\n",
    "with open(pc_data_file, 'r') as fin:\n",
    "    pc_data1 = json.load(fin)\n",
    "\n",
    "# create figure\n",
    "fig = go.Figure(\n",
    "    layout=go.Layout(\n",
    "        template=TFB_TEMPLATE,\n",
    "        xaxis=dict(\n",
    "            title_text='level',\n",
    "            range=[0.8, 20.2],\n",
    "            tick0=0, dtick=5,\n",
    "            minor=dict(tick0=0, dtick=1),\n",
    "        ),\n",
    "        yaxis=dict(\n",
    "            fixedrange=False,\n",
    "            title_text='encounter XP increase (%)',\n",
    "            range=[0, 15],\n",
    "            tick0=0, dtick=5,\n",
    "            minor=dict(tick0=0, dtick=1),\n",
    "        ),\n",
    "    )\n",
    ")\n",
    "\n",
    "# plot data\n",
    "levels = np.array(range(1,21,1))\n",
    "eXP0_mean = np.zeros(20)\n",
    "eXP1_mean = np.zeros(20)\n",
    "for pc in pc_data1:\n",
    "    eXP0 = np.array([x['encounter XP mean'] for x in pc_data0[pc]])\n",
    "    eXP1 = np.array([x['encounter XP mean'] for x in pc_data1[pc]])\n",
    "    eXP0_mean += eXP0\n",
    "    eXP1_mean += eXP1\n",
    "\n",
    "    fig.add_trace(go.Scatter(\n",
    "        x=levels, \n",
    "        #y=100*(eDPR1/eDPR0 - 1),\n",
    "        y=100*(eXP1/eXP0 - 1),\n",
    "        mode='lines+markers', \n",
    "        line={'color': PC_CLASSES[pc]['color']},\n",
    "        unselected=dict(marker=dict(opacity=0.0)),\n",
    "        name=pc,\n",
    "        hovertemplate=\n",
    "            '<b>'+pc+'</b><br>'+\n",
    "            'level %{x}<br>'+\n",
    "            'XP increase %{y:.3f}'+\n",
    "            '<extra></extra>'\n",
    "    ))\n",
    "\n",
    "fig.add_trace(go.Scatter(\n",
    "    x=levels, \n",
    "    y=100*(eXP1_mean/eXP0_mean - 1),\n",
    "    mode='lines+markers', \n",
    "    line={'color': 'black', 'dash': 'dash'},\n",
    "    unselected=dict(marker=dict(opacity=0.0)),\n",
    "    name=pc,\n",
    "    hovertemplate=\n",
    "        '<b>Average</b><br>'+\n",
    "        'level %{x}<br>'+\n",
    "        'XP increase %{y:.1f}'+\n",
    "        '<extra></extra>'\n",
    "))\n",
    "\n",
    "print(np.mean(eXP1_mean/eXP0_mean))\n",
    "\n",
    "# show figure\n",
    "fig.update_layout(width=600, height=550)\n",
    "fig.show(config=TFB_CONFIG)\n",
    "\n",
    "# save figures\n",
    "if SAVEFIGS:\n",
    "    fig.update_layout(autosize=True, width=None, height=None)\n",
    "    save_fig_html(fig, format='large', name=f'./fig-encounter-xp-damage-bonus-large', style='aspect-ratio:600/550')\n",
    "    save_fig_html(fig, format='small', name=f'./fig-encounter-xp-damage-bonus-small', style='aspect-ratio:600/550')"
   ]
  },
  {
   "cell_type": "code",
   "execution_count": 8,
   "metadata": {},
   "outputs": [
    {
     "name": "stdout",
     "output_type": "stream",
     "text": [
      "Barbarian .................... total: 0.73 s\n",
      "Bard      .................... total: 1.37 s\n",
      "Cleric    .................... total: 0.83 s\n",
      "Druid     .................... total: 0.81 s\n",
      "Fighter   .................... total: 0.85 s\n",
      "Monk      .................... total: 1.12 s\n",
      "Paladin   .................... total: 12.00 s\n",
      "Ranger    .................... total: 1.03 s\n",
      "Rogue     .................... total: 0.37 s\n",
      "Sorcerer  .................... total: 4.55 s\n",
      "Warlock   .................... total: 0.71 s\n",
      "Wizard    .................... total: 9.08 s\n",
      "pc data saved to \"pc data - high magic Medium 2 short rests.json\"\n",
      "total run time: 33.45 s\n"
     ]
    }
   ],
   "source": [
    "# Encounter XP - high magic\n",
    "import copy\n",
    "\n",
    "difficulty = 'Medium'\n",
    "short_rests = 2\n",
    "show_level_times = False\n",
    "\n",
    "PC_CLASSES = {\n",
    "    'Barbarian': {'color': '#E7623E', 'group': 'martial'},\n",
    "    'Bard':      {'color': '#AB6DAC', 'group': 'spellcaster'},\n",
    "    'Cleric':    {'color': '#91A1B2', 'group': 'spellcaster'},\n",
    "    'Druid':     {'color': '#7A853B', 'group': 'spellcaster'},\n",
    "    'Fighter':   {'color': '#7F513E', 'group': 'martial'},\n",
    "    'Monk':      {'color': '#51A5C5', 'group': 'martial'},\n",
    "    'Paladin':   {'color': '#B59E54', 'group': 'martial-spellcaster'},\n",
    "    'Ranger':    {'color': '#507F62', 'group': 'martial-spellcaster'},\n",
    "    'Rogue':     {'color': '#555752', 'group': 'martial'},\n",
    "    'Sorcerer':  {'color': '#992E2E', 'group': 'spellcaster'},\n",
    "    'Warlock':   {'color': '#7B469B', 'group': 'spellcaster'},\n",
    "    'Wizard':    {'color': '#2A50A1', 'group': 'spellcaster'}\n",
    "}\n",
    "\n",
    "class NpEncoder(json.JSONEncoder):\n",
    "    def default(self, obj):\n",
    "        if isinstance(obj, np.integer):\n",
    "            return int(obj)\n",
    "        if isinstance(obj, np.floating):\n",
    "            return float(obj)\n",
    "        if isinstance(obj, np.ndarray):\n",
    "            return obj.tolist()\n",
    "        return super(NpEncoder, self).default(obj)\n",
    "\n",
    "pcData = {}\n",
    "class_time = []\n",
    "for c in PC_CLASSES:\n",
    "    levels = np.arange(1, 21, 1)\n",
    "    print(f'{c:<10s}', end='')\n",
    "    daily_engine_options={\n",
    "        'combat healing': False if c == 'Paladin' else True,\n",
    "        'remove empty data': True,\n",
    "        'simplify summary': True,\n",
    "        'effective_method': 'linear',\n",
    "    }\n",
    "    level_time = []\n",
    "    pcData[c] = []\n",
    "    for level in levels:\n",
    "        # determine magic item bonus\n",
    "        bonus = 0\n",
    "        if level > 4:\n",
    "            bonus += 1\n",
    "        if level > 9:\n",
    "            bonus += 1\n",
    "        if level > 15:\n",
    "            bonus += 1\n",
    "        pc_options = {\n",
    "            'armorClassBonus': bonus,\n",
    "            'spellAttackBonus': bonus,\n",
    "            'weaponAttackBonus': bonus,\n",
    "            'weaponDamageBonus': f'+{bonus}',\n",
    "        }\n",
    "\n",
    "        tic = time.perf_counter()\n",
    "        pc = pc5.newPC(pcClass=c, lvl=level, **pc_options)\n",
    "        advDay = en5.create_adventuring_day(level, difficulty, short_rests)\n",
    "        dSum = en5.dailyEngine(pc, advDay, **daily_engine_options)\n",
    "        dSum['class'] = c\n",
    "        dSum['level'] = int(level)\n",
    "        pcData[c].append(copy.deepcopy(dSum))\n",
    "\n",
    "        toc = time.perf_counter()\n",
    "        level_time += [toc - tic]\n",
    "        if show_level_times:\n",
    "            print(f' {level}: {level_time[-1]:0.2f} s,', end='')\n",
    "        else:\n",
    "            print('.', end='')\n",
    "        time.sleep(0.1)\n",
    "\n",
    "    class_time += [np.sum(level_time)]\n",
    "    print(f' total: {class_time[-1]:0.2f} s')\n",
    "    time.sleep(0.1)\n",
    "\n",
    "if SAVEDATA:\n",
    "    # construct day string for saving figures\n",
    "    file_name = 'pc data - high magic {:} {:d} short rests.json'.format(difficulty, short_rests)\n",
    "    with open(file_name, 'w') as convert_file:\n",
    "        convert_file.write(json.dumps(pcData, indent=2, cls=NpEncoder))\n",
    "    print('pc data saved to \"{:}\"'.format(file_name))\n",
    "\n",
    "print(f'total run time: {np.sum(class_time):0.2f} s')"
   ]
  },
  {
   "cell_type": "code",
   "execution_count": 30,
   "metadata": {},
   "outputs": [
    {
     "data": {
      "application/vnd.plotly.v1+json": {
       "config": {
        "displayModeBar": "hover",
        "displaylogo": false,
        "modeBarButtonsToRemove": [
         "select2d",
         "lasso2d",
         "zoom2d",
         "zoomIn2d",
         "zoomOut2d",
         "pan2d",
         "autoScale2d",
         "hoverClosestCartesian",
         "hoverCompareCartesian",
         "toggleSpikelines",
         "resetScale2d"
        ],
        "plotlyServerURL": "https://plot.ly",
        "responsive": true,
        "showAxisDragHandles": false,
        "toImageButtonOptions": {
         "filename": "tfb-plot",
         "format": "png",
         "height": 450,
         "scale": 2,
         "width": 600
        }
       },
       "data": [
        {
         "hovertemplate": "<b>Barbarian</b><br>level %{x}<br>XP increase %{y:.1f}<extra></extra>",
         "line": {
          "color": "#E7623E"
         },
         "mode": "lines+markers",
         "name": "Barbarian",
         "type": "scatter",
         "unselected": {
          "marker": {
           "opacity": 0
          }
         },
         "x": [
          1,
          2,
          3,
          4,
          5,
          6,
          7,
          8,
          9,
          10,
          11,
          12,
          13,
          14,
          15,
          16,
          17,
          18,
          19,
          20
         ],
         "y": [
          0,
          0,
          0,
          0,
          19.167415393830467,
          18.8848188848189,
          18.884818884818856,
          17.680744452397978,
          16.296746731529343,
          33.99972039703625,
          33.8096685922773,
          32.07119741100326,
          30.499999999999993,
          30.499999999999993,
          30.476190476190457,
          44.9657986319453,
          42.04204204204203,
          42.04204204204203,
          41.11969111969109,
          36.12804878048779
         ]
        },
        {
         "hovertemplate": "<b>Bard</b><br>level %{x}<br>XP increase %{y:.1f}<extra></extra>",
         "line": {
          "color": "#AB6DAC"
         },
         "mode": "lines+markers",
         "name": "Bard",
         "type": "scatter",
         "unselected": {
          "marker": {
           "opacity": 0
          }
         },
         "x": [
          1,
          2,
          3,
          4,
          5,
          6,
          7,
          8,
          9,
          10,
          11,
          12,
          13,
          14,
          15,
          16,
          17,
          18,
          19,
          20
         ],
         "y": [
          0,
          0,
          0,
          0,
          9.03225806451613,
          9.009009009008984,
          9.009009009009006,
          8.510638297872353,
          8.163265306122458,
          16.058394160583944,
          15.841584158415834,
          15.596330275229352,
          15.094339622641506,
          15.094339622641527,
          14.72868217054264,
          22.093023255813993,
          21.30841121495326,
          21.30841121495328,
          21.17647058823526,
          21.53846153846155
         ]
        },
        {
         "hovertemplate": "<b>Cleric</b><br>level %{x}<br>XP increase %{y:.1f}<extra></extra>",
         "line": {
          "color": "#91A1B2"
         },
         "mode": "lines+markers",
         "name": "Cleric",
         "type": "scatter",
         "unselected": {
          "marker": {
           "opacity": 0
          }
         },
         "x": [
          1,
          2,
          3,
          4,
          5,
          6,
          7,
          8,
          9,
          10,
          11,
          12,
          13,
          14,
          15,
          16,
          17,
          18,
          19,
          20
         ],
         "y": [
          0,
          0,
          0,
          0,
          8.333333333333325,
          8.333333333333325,
          8.333333333333325,
          7.999999999999985,
          7.692307692307709,
          15.384615384615374,
          15.384615384615374,
          15.384615384615374,
          14.814814814814813,
          14.814814814814792,
          14.814814814814813,
          22.222222222222186,
          21.428571428571395,
          21.428571428571395,
          21.428571428571395,
          21.42857142857142
         ]
        },
        {
         "hovertemplate": "<b>Druid</b><br>level %{x}<br>XP increase %{y:.1f}<extra></extra>",
         "line": {
          "color": "#7A853B"
         },
         "mode": "lines+markers",
         "name": "Druid",
         "type": "scatter",
         "unselected": {
          "marker": {
           "opacity": 0
          }
         },
         "x": [
          1,
          2,
          3,
          4,
          5,
          6,
          7,
          8,
          9,
          10,
          11,
          12,
          13,
          14,
          15,
          16,
          17,
          18,
          19,
          20
         ],
         "y": [
          0,
          0,
          0,
          0,
          8.695652173913038,
          8.695652173913038,
          8.695652173913038,
          8.333333333333325,
          8.000000000000007,
          16.000000000000014,
          15.999999999999993,
          15.999999999999993,
          15.384615384615374,
          15.384615384615374,
          15.384615384615374,
          23.076923076923084,
          22.22222222222221,
          22.22222222222221,
          22.22222222222221,
          22.22222222222221
         ]
        },
        {
         "hovertemplate": "<b>Fighter</b><br>level %{x}<br>XP increase %{y:.1f}<extra></extra>",
         "line": {
          "color": "#7F513E"
         },
         "mode": "lines+markers",
         "name": "Fighter",
         "type": "scatter",
         "unselected": {
          "marker": {
           "opacity": 0
          }
         },
         "x": [
          1,
          2,
          3,
          4,
          5,
          6,
          7,
          8,
          9,
          10,
          11,
          12,
          13,
          14,
          15,
          16,
          17,
          18,
          19,
          20
         ],
         "y": [
          0,
          0,
          0,
          0,
          16.883116883116834,
          15.804597701149392,
          15.804597701149415,
          15.804597701149415,
          15.555555555555545,
          32.22222222222224,
          32.22222222222224,
          32.222222222222264,
          31.720430107526877,
          31.720430107526898,
          31.720430107526898,
          49.1935483870968,
          48.4375,
          48.43750000000002,
          48.4375,
          48.4375
         ]
        },
        {
         "hovertemplate": "<b>Monk</b><br>level %{x}<br>XP increase %{y:.1f}<extra></extra>",
         "line": {
          "color": "#51A5C5"
         },
         "mode": "lines+markers",
         "name": "Monk",
         "type": "scatter",
         "unselected": {
          "marker": {
           "opacity": 0
          }
         },
         "x": [
          1,
          2,
          3,
          4,
          5,
          6,
          7,
          8,
          9,
          10,
          11,
          12,
          13,
          14,
          15,
          16,
          17,
          18,
          19,
          20
         ],
         "y": [
          0,
          0,
          0,
          0,
          14.846607366172403,
          14.487290451895053,
          13.719760258388725,
          13.318393316884801,
          12.948717948717947,
          26.923076923076938,
          25.1131221719457,
          22.74436090225562,
          22.323049001814898,
          20.893141945773518,
          20.893141945773518,
          31.811145510835924,
          29.591836734693878,
          28.790803562497878,
          28.94056847545219,
          28.94056847545219
         ]
        },
        {
         "hovertemplate": "<b>Paladin</b><br>level %{x}<br>XP increase %{y:.1f}<extra></extra>",
         "line": {
          "color": "#B59E54"
         },
         "mode": "lines+markers",
         "name": "Paladin",
         "type": "scatter",
         "unselected": {
          "marker": {
           "opacity": 0
          }
         },
         "x": [
          1,
          2,
          3,
          4,
          5,
          6,
          7,
          8,
          9,
          10,
          11,
          12,
          13,
          14,
          15,
          16,
          17,
          18,
          19,
          20
         ],
         "y": [
          0,
          0,
          0,
          0,
          16.253263707571787,
          15.819004524886893,
          15.454702329594493,
          14.645806171229925,
          13.679372803460389,
          28.59885806679805,
          24.969801199762486,
          24.215337734890817,
          23.32826974056532,
          23.32826974056532,
          23.091165740893494,
          35.06647929953522,
          32.88742345737165,
          32.88742345737165,
          32.01112140871176,
          32.835314091680814
         ]
        },
        {
         "hovertemplate": "<b>Ranger</b><br>level %{x}<br>XP increase %{y:.1f}<extra></extra>",
         "line": {
          "color": "#507F62"
         },
         "mode": "lines+markers",
         "name": "Ranger",
         "type": "scatter",
         "unselected": {
          "marker": {
           "opacity": 0
          }
         },
         "x": [
          1,
          2,
          3,
          4,
          5,
          6,
          7,
          8,
          9,
          10,
          11,
          12,
          13,
          14,
          15,
          16,
          17,
          18,
          19,
          20
         ],
         "y": [
          0,
          0,
          0,
          0,
          18.773394759573847,
          18.667730355005997,
          18.209494814955775,
          16.692152917505034,
          15.28964862298199,
          32.167832167832145,
          30.718119090212113,
          29.78122794636555,
          28.490028490028465,
          28.490028490028465,
          27.956269522534562,
          43.206157965194095,
          39.65484811436093,
          39.65484811436093,
          37.91416000718324,
          39.37578550481775
         ]
        },
        {
         "hovertemplate": "<b>Rogue</b><br>level %{x}<br>XP increase %{y:.1f}<extra></extra>",
         "line": {
          "color": "#555752"
         },
         "mode": "lines+markers",
         "name": "Rogue",
         "type": "scatter",
         "unselected": {
          "marker": {
           "opacity": 0
          }
         },
         "x": [
          1,
          2,
          3,
          4,
          5,
          6,
          7,
          8,
          9,
          10,
          11,
          12,
          13,
          14,
          15,
          16,
          17,
          18,
          19,
          20
         ],
         "y": [
          0,
          0,
          0,
          0,
          14.000000000000012,
          13.99999999999999,
          12.4031007751938,
          11.64750957854408,
          10.769230769230775,
          22.05128205128204,
          21.016949152542395,
          21.016949152542374,
          19.74584555229719,
          19.74584555229717,
          18.264840182648424,
          27.895392278953945,
          26.470588235294134,
          26.470588235294134,
          25.76064908722109,
          25.76064908722111
         ]
        },
        {
         "hovertemplate": "<b>Sorcerer</b><br>level %{x}<br>XP increase %{y:.1f}<extra></extra>",
         "line": {
          "color": "#992E2E"
         },
         "mode": "lines+markers",
         "name": "Sorcerer",
         "type": "scatter",
         "unselected": {
          "marker": {
           "opacity": 0
          }
         },
         "x": [
          1,
          2,
          3,
          4,
          5,
          6,
          7,
          8,
          9,
          10,
          11,
          12,
          13,
          14,
          15,
          16,
          17,
          18,
          19,
          20
         ],
         "y": [
          0,
          0,
          0,
          0,
          9.790209790209769,
          9.7799511002445,
          9.7799511002445,
          9.32400932400932,
          8.849557522123908,
          17.849898580121693,
          17.35357917570497,
          17.34693877551021,
          16.666666666666675,
          16.666666666666675,
          16.703296703296687,
          24.89082969432317,
          23.456790123456827,
          23.456790123456827,
          23.376623376623385,
          23.72881355932206
         ]
        },
        {
         "hovertemplate": "<b>Warlock</b><br>level %{x}<br>XP increase %{y:.1f}<extra></extra>",
         "line": {
          "color": "#7B469B"
         },
         "mode": "lines+markers",
         "name": "Warlock",
         "type": "scatter",
         "unselected": {
          "marker": {
           "opacity": 0
          }
         },
         "x": [
          1,
          2,
          3,
          4,
          5,
          6,
          7,
          8,
          9,
          10,
          11,
          12,
          13,
          14,
          15,
          16,
          17,
          18,
          19,
          20
         ],
         "y": [
          0,
          0,
          0,
          0,
          11.111111111111116,
          11.111111111111116,
          11.111111111111116,
          10.526315789473673,
          9.999999999999986,
          19.99999999999997,
          19.999999999999996,
          19.999999999999996,
          19.047619047619047,
          19.047619047619047,
          19.04761904761907,
          28.57142857142858,
          27.272727272727295,
          27.272727272727295,
          27.27272727272727,
          27.272727272727316
         ]
        },
        {
         "hovertemplate": "<b>Wizard</b><br>level %{x}<br>XP increase %{y:.1f}<extra></extra>",
         "line": {
          "color": "#2A50A1"
         },
         "mode": "lines+markers",
         "name": "Wizard",
         "type": "scatter",
         "unselected": {
          "marker": {
           "opacity": 0
          }
         },
         "x": [
          1,
          2,
          3,
          4,
          5,
          6,
          7,
          8,
          9,
          10,
          11,
          12,
          13,
          14,
          15,
          16,
          17,
          18,
          19,
          20
         ],
         "y": [
          0,
          0,
          0,
          0,
          9.790209790209769,
          9.7799511002445,
          9.708737864077644,
          9.259259259259256,
          8.908685968819597,
          17.849898580121714,
          17.467248908296938,
          17.34693877551021,
          16.551724137931068,
          16.551724137931046,
          16.703296703296687,
          25.054945054945055,
          23.602484472049667,
          23.602484472049667,
          23.529411764705888,
          23.72881355932206
         ]
        },
        {
         "hovertemplate": "<b>Average</b><br>level %{x}<br>XP increase %{y:.1f}<extra></extra>",
         "line": {
          "color": "black",
          "dash": "dash"
         },
         "mode": "lines+markers",
         "name": "average",
         "type": "scatter",
         "unselected": {
          "marker": {
           "opacity": 0
          }
         },
         "x": [
          1,
          2,
          3,
          4,
          5,
          6,
          7,
          8,
          9,
          10,
          11,
          12,
          13,
          14,
          15,
          16,
          17,
          18,
          19,
          20
         ],
         "y": [
          0,
          0,
          0,
          0,
          14.508736785744937,
          14.223734116212405,
          13.816767051913681,
          13.153302636209062,
          12.352760448735921,
          25.295781207711965,
          24.40341939730215,
          24.169793539231343,
          23.14332229208653,
          23.118070589780416,
          22.70180811326994,
          34.67976303817659,
          32.88723794484947,
          32.553098510364606,
          32.04315865656635,
          32.387882360561406
         ]
        }
       ],
       "layout": {
        "height": 550,
        "template": {
         "layout": {
          "autosize": false,
          "font": {
           "family": "sans-serif",
           "size": 14
          },
          "hovermode": "closest",
          "legend": {
           "bgcolor": "rgba(0,0,0,0)",
           "font": {
            "size": 10
           },
           "orientation": "h",
           "tracegroupgap": 0,
           "x": 0.01,
           "xanchor": "left",
           "y": 1.04,
           "yanchor": "bottom"
          },
          "margin": {
           "b": 40,
           "l": 50,
           "pad": 4,
           "r": 25,
           "t": 20
          },
          "template": {
           "data": {
            "bar": [
             {
              "error_x": {
               "color": "#2a3f5f"
              },
              "error_y": {
               "color": "#2a3f5f"
              },
              "marker": {
               "line": {
                "color": "white",
                "width": 0.5
               },
               "pattern": {
                "fillmode": "overlay",
                "size": 10,
                "solidity": 0.2
               }
              },
              "type": "bar"
             }
            ],
            "barpolar": [
             {
              "marker": {
               "line": {
                "color": "white",
                "width": 0.5
               },
               "pattern": {
                "fillmode": "overlay",
                "size": 10,
                "solidity": 0.2
               }
              },
              "type": "barpolar"
             }
            ],
            "carpet": [
             {
              "aaxis": {
               "endlinecolor": "#2a3f5f",
               "gridcolor": "#C8D4E3",
               "linecolor": "#C8D4E3",
               "minorgridcolor": "#C8D4E3",
               "startlinecolor": "#2a3f5f"
              },
              "baxis": {
               "endlinecolor": "#2a3f5f",
               "gridcolor": "#C8D4E3",
               "linecolor": "#C8D4E3",
               "minorgridcolor": "#C8D4E3",
               "startlinecolor": "#2a3f5f"
              },
              "type": "carpet"
             }
            ],
            "choropleth": [
             {
              "colorbar": {
               "outlinewidth": 0,
               "ticks": ""
              },
              "type": "choropleth"
             }
            ],
            "contour": [
             {
              "colorbar": {
               "outlinewidth": 0,
               "ticks": ""
              },
              "colorscale": [
               [
                0,
                "#0d0887"
               ],
               [
                0.1111111111111111,
                "#46039f"
               ],
               [
                0.2222222222222222,
                "#7201a8"
               ],
               [
                0.3333333333333333,
                "#9c179e"
               ],
               [
                0.4444444444444444,
                "#bd3786"
               ],
               [
                0.5555555555555556,
                "#d8576b"
               ],
               [
                0.6666666666666666,
                "#ed7953"
               ],
               [
                0.7777777777777778,
                "#fb9f3a"
               ],
               [
                0.8888888888888888,
                "#fdca26"
               ],
               [
                1,
                "#f0f921"
               ]
              ],
              "type": "contour"
             }
            ],
            "contourcarpet": [
             {
              "colorbar": {
               "outlinewidth": 0,
               "ticks": ""
              },
              "type": "contourcarpet"
             }
            ],
            "heatmap": [
             {
              "colorbar": {
               "outlinewidth": 0,
               "ticks": ""
              },
              "colorscale": [
               [
                0,
                "#0d0887"
               ],
               [
                0.1111111111111111,
                "#46039f"
               ],
               [
                0.2222222222222222,
                "#7201a8"
               ],
               [
                0.3333333333333333,
                "#9c179e"
               ],
               [
                0.4444444444444444,
                "#bd3786"
               ],
               [
                0.5555555555555556,
                "#d8576b"
               ],
               [
                0.6666666666666666,
                "#ed7953"
               ],
               [
                0.7777777777777778,
                "#fb9f3a"
               ],
               [
                0.8888888888888888,
                "#fdca26"
               ],
               [
                1,
                "#f0f921"
               ]
              ],
              "type": "heatmap"
             }
            ],
            "heatmapgl": [
             {
              "colorbar": {
               "outlinewidth": 0,
               "ticks": ""
              },
              "colorscale": [
               [
                0,
                "#0d0887"
               ],
               [
                0.1111111111111111,
                "#46039f"
               ],
               [
                0.2222222222222222,
                "#7201a8"
               ],
               [
                0.3333333333333333,
                "#9c179e"
               ],
               [
                0.4444444444444444,
                "#bd3786"
               ],
               [
                0.5555555555555556,
                "#d8576b"
               ],
               [
                0.6666666666666666,
                "#ed7953"
               ],
               [
                0.7777777777777778,
                "#fb9f3a"
               ],
               [
                0.8888888888888888,
                "#fdca26"
               ],
               [
                1,
                "#f0f921"
               ]
              ],
              "type": "heatmapgl"
             }
            ],
            "histogram": [
             {
              "marker": {
               "pattern": {
                "fillmode": "overlay",
                "size": 10,
                "solidity": 0.2
               }
              },
              "type": "histogram"
             }
            ],
            "histogram2d": [
             {
              "colorbar": {
               "outlinewidth": 0,
               "ticks": ""
              },
              "colorscale": [
               [
                0,
                "#0d0887"
               ],
               [
                0.1111111111111111,
                "#46039f"
               ],
               [
                0.2222222222222222,
                "#7201a8"
               ],
               [
                0.3333333333333333,
                "#9c179e"
               ],
               [
                0.4444444444444444,
                "#bd3786"
               ],
               [
                0.5555555555555556,
                "#d8576b"
               ],
               [
                0.6666666666666666,
                "#ed7953"
               ],
               [
                0.7777777777777778,
                "#fb9f3a"
               ],
               [
                0.8888888888888888,
                "#fdca26"
               ],
               [
                1,
                "#f0f921"
               ]
              ],
              "type": "histogram2d"
             }
            ],
            "histogram2dcontour": [
             {
              "colorbar": {
               "outlinewidth": 0,
               "ticks": ""
              },
              "colorscale": [
               [
                0,
                "#0d0887"
               ],
               [
                0.1111111111111111,
                "#46039f"
               ],
               [
                0.2222222222222222,
                "#7201a8"
               ],
               [
                0.3333333333333333,
                "#9c179e"
               ],
               [
                0.4444444444444444,
                "#bd3786"
               ],
               [
                0.5555555555555556,
                "#d8576b"
               ],
               [
                0.6666666666666666,
                "#ed7953"
               ],
               [
                0.7777777777777778,
                "#fb9f3a"
               ],
               [
                0.8888888888888888,
                "#fdca26"
               ],
               [
                1,
                "#f0f921"
               ]
              ],
              "type": "histogram2dcontour"
             }
            ],
            "mesh3d": [
             {
              "colorbar": {
               "outlinewidth": 0,
               "ticks": ""
              },
              "type": "mesh3d"
             }
            ],
            "parcoords": [
             {
              "line": {
               "colorbar": {
                "outlinewidth": 0,
                "ticks": ""
               }
              },
              "type": "parcoords"
             }
            ],
            "pie": [
             {
              "automargin": true,
              "type": "pie"
             }
            ],
            "scatter": [
             {
              "fillpattern": {
               "fillmode": "overlay",
               "size": 10,
               "solidity": 0.2
              },
              "type": "scatter"
             }
            ],
            "scatter3d": [
             {
              "line": {
               "colorbar": {
                "outlinewidth": 0,
                "ticks": ""
               }
              },
              "marker": {
               "colorbar": {
                "outlinewidth": 0,
                "ticks": ""
               }
              },
              "type": "scatter3d"
             }
            ],
            "scattercarpet": [
             {
              "marker": {
               "colorbar": {
                "outlinewidth": 0,
                "ticks": ""
               }
              },
              "type": "scattercarpet"
             }
            ],
            "scattergeo": [
             {
              "marker": {
               "colorbar": {
                "outlinewidth": 0,
                "ticks": ""
               }
              },
              "type": "scattergeo"
             }
            ],
            "scattergl": [
             {
              "marker": {
               "colorbar": {
                "outlinewidth": 0,
                "ticks": ""
               }
              },
              "type": "scattergl"
             }
            ],
            "scattermapbox": [
             {
              "marker": {
               "colorbar": {
                "outlinewidth": 0,
                "ticks": ""
               }
              },
              "type": "scattermapbox"
             }
            ],
            "scatterpolar": [
             {
              "marker": {
               "colorbar": {
                "outlinewidth": 0,
                "ticks": ""
               }
              },
              "type": "scatterpolar"
             }
            ],
            "scatterpolargl": [
             {
              "marker": {
               "colorbar": {
                "outlinewidth": 0,
                "ticks": ""
               }
              },
              "type": "scatterpolargl"
             }
            ],
            "scatterternary": [
             {
              "marker": {
               "colorbar": {
                "outlinewidth": 0,
                "ticks": ""
               }
              },
              "type": "scatterternary"
             }
            ],
            "surface": [
             {
              "colorbar": {
               "outlinewidth": 0,
               "ticks": ""
              },
              "colorscale": [
               [
                0,
                "#0d0887"
               ],
               [
                0.1111111111111111,
                "#46039f"
               ],
               [
                0.2222222222222222,
                "#7201a8"
               ],
               [
                0.3333333333333333,
                "#9c179e"
               ],
               [
                0.4444444444444444,
                "#bd3786"
               ],
               [
                0.5555555555555556,
                "#d8576b"
               ],
               [
                0.6666666666666666,
                "#ed7953"
               ],
               [
                0.7777777777777778,
                "#fb9f3a"
               ],
               [
                0.8888888888888888,
                "#fdca26"
               ],
               [
                1,
                "#f0f921"
               ]
              ],
              "type": "surface"
             }
            ],
            "table": [
             {
              "cells": {
               "fill": {
                "color": "#EBF0F8"
               },
               "line": {
                "color": "white"
               }
              },
              "header": {
               "fill": {
                "color": "#C8D4E3"
               },
               "line": {
                "color": "white"
               }
              },
              "type": "table"
             }
            ]
           },
           "layout": {
            "annotationdefaults": {
             "arrowcolor": "#2a3f5f",
             "arrowhead": 0,
             "arrowwidth": 1
            },
            "autotypenumbers": "strict",
            "coloraxis": {
             "colorbar": {
              "outlinewidth": 0,
              "ticks": ""
             }
            },
            "colorscale": {
             "diverging": [
              [
               0,
               "#8e0152"
              ],
              [
               0.1,
               "#c51b7d"
              ],
              [
               0.2,
               "#de77ae"
              ],
              [
               0.3,
               "#f1b6da"
              ],
              [
               0.4,
               "#fde0ef"
              ],
              [
               0.5,
               "#f7f7f7"
              ],
              [
               0.6,
               "#e6f5d0"
              ],
              [
               0.7,
               "#b8e186"
              ],
              [
               0.8,
               "#7fbc41"
              ],
              [
               0.9,
               "#4d9221"
              ],
              [
               1,
               "#276419"
              ]
             ],
             "sequential": [
              [
               0,
               "#0d0887"
              ],
              [
               0.1111111111111111,
               "#46039f"
              ],
              [
               0.2222222222222222,
               "#7201a8"
              ],
              [
               0.3333333333333333,
               "#9c179e"
              ],
              [
               0.4444444444444444,
               "#bd3786"
              ],
              [
               0.5555555555555556,
               "#d8576b"
              ],
              [
               0.6666666666666666,
               "#ed7953"
              ],
              [
               0.7777777777777778,
               "#fb9f3a"
              ],
              [
               0.8888888888888888,
               "#fdca26"
              ],
              [
               1,
               "#f0f921"
              ]
             ],
             "sequentialminus": [
              [
               0,
               "#0d0887"
              ],
              [
               0.1111111111111111,
               "#46039f"
              ],
              [
               0.2222222222222222,
               "#7201a8"
              ],
              [
               0.3333333333333333,
               "#9c179e"
              ],
              [
               0.4444444444444444,
               "#bd3786"
              ],
              [
               0.5555555555555556,
               "#d8576b"
              ],
              [
               0.6666666666666666,
               "#ed7953"
              ],
              [
               0.7777777777777778,
               "#fb9f3a"
              ],
              [
               0.8888888888888888,
               "#fdca26"
              ],
              [
               1,
               "#f0f921"
              ]
             ]
            },
            "colorway": [
             "#636efa",
             "#EF553B",
             "#00cc96",
             "#ab63fa",
             "#FFA15A",
             "#19d3f3",
             "#FF6692",
             "#B6E880",
             "#FF97FF",
             "#FECB52"
            ],
            "font": {
             "color": "#2a3f5f"
            },
            "geo": {
             "bgcolor": "white",
             "lakecolor": "white",
             "landcolor": "white",
             "showlakes": true,
             "showland": true,
             "subunitcolor": "#C8D4E3"
            },
            "hoverlabel": {
             "align": "left"
            },
            "hovermode": "closest",
            "mapbox": {
             "style": "light"
            },
            "paper_bgcolor": "white",
            "plot_bgcolor": "white",
            "polar": {
             "angularaxis": {
              "gridcolor": "#EBF0F8",
              "linecolor": "#EBF0F8",
              "ticks": ""
             },
             "bgcolor": "white",
             "radialaxis": {
              "gridcolor": "#EBF0F8",
              "linecolor": "#EBF0F8",
              "ticks": ""
             }
            },
            "scene": {
             "xaxis": {
              "backgroundcolor": "white",
              "gridcolor": "#DFE8F3",
              "gridwidth": 2,
              "linecolor": "#EBF0F8",
              "showbackground": true,
              "ticks": "",
              "zerolinecolor": "#EBF0F8"
             },
             "yaxis": {
              "backgroundcolor": "white",
              "gridcolor": "#DFE8F3",
              "gridwidth": 2,
              "linecolor": "#EBF0F8",
              "showbackground": true,
              "ticks": "",
              "zerolinecolor": "#EBF0F8"
             },
             "zaxis": {
              "backgroundcolor": "white",
              "gridcolor": "#DFE8F3",
              "gridwidth": 2,
              "linecolor": "#EBF0F8",
              "showbackground": true,
              "ticks": "",
              "zerolinecolor": "#EBF0F8"
             }
            },
            "shapedefaults": {
             "line": {
              "color": "#2a3f5f"
             }
            },
            "ternary": {
             "aaxis": {
              "gridcolor": "#DFE8F3",
              "linecolor": "#A2B1C6",
              "ticks": ""
             },
             "baxis": {
              "gridcolor": "#DFE8F3",
              "linecolor": "#A2B1C6",
              "ticks": ""
             },
             "bgcolor": "white",
             "caxis": {
              "gridcolor": "#DFE8F3",
              "linecolor": "#A2B1C6",
              "ticks": ""
             }
            },
            "title": {
             "x": 0.05
            },
            "xaxis": {
             "automargin": true,
             "gridcolor": "#EBF0F8",
             "linecolor": "#EBF0F8",
             "ticks": "",
             "title": {
              "standoff": 15
             },
             "zerolinecolor": "#EBF0F8",
             "zerolinewidth": 2
            },
            "yaxis": {
             "automargin": true,
             "gridcolor": "#EBF0F8",
             "linecolor": "#EBF0F8",
             "ticks": "",
             "title": {
              "standoff": 15
             },
             "zerolinecolor": "#EBF0F8",
             "zerolinewidth": 2
            }
           }
          },
          "xaxis": {
           "automargin": true,
           "autorange": false,
           "fixedrange": true,
           "linecolor": "#444",
           "linewidth": 2,
           "minor": {
            "tickmode": "linear",
            "ticks": "outside"
           },
           "mirror": true,
           "showline": true,
           "tickmode": "linear",
           "ticks": "outside",
           "zeroline": false
          },
          "yaxis": {
           "automargin": true,
           "autorange": false,
           "fixedrange": true,
           "linecolor": "#444",
           "linewidth": 2,
           "minor": {
            "tickmode": "linear",
            "ticks": "outside"
           },
           "mirror": true,
           "showline": true,
           "tickmode": "linear",
           "ticks": "outside",
           "zeroline": false
          }
         }
        },
        "width": 600,
        "xaxis": {
         "dtick": 5,
         "minor": {
          "dtick": 1,
          "tick0": 0
         },
         "range": [
          0.8,
          20.2
         ],
         "tick0": 0,
         "title": {
          "text": "level"
         }
        },
        "yaxis": {
         "dtick": 10,
         "fixedrange": false,
         "minor": {
          "dtick": 5,
          "tick0": 0
         },
         "range": [
          -1,
          50
         ],
         "tick0": 0,
         "title": {
          "text": "encounter XP increase (%)"
         }
        }
       }
      }
     },
     "metadata": {},
     "output_type": "display_data"
    }
   ],
   "source": [
    "# Plots XP increase - high magic\n",
    "encounter_difficulty = 'Medium'\n",
    "pc_data_file = f'./pc data - BL {encounter_difficulty} 2 short rests.json'\n",
    "with open(pc_data_file, 'r') as fin:\n",
    "    pc_data0 = json.load(fin)\n",
    "\n",
    "pc_data_file = f'./pc data - high magic {encounter_difficulty} 2 short rests.json'\n",
    "with open(pc_data_file, 'r') as fin:\n",
    "    pc_data1 = json.load(fin)\n",
    "\n",
    "# create figure\n",
    "fig = go.Figure(\n",
    "    layout=go.Layout(\n",
    "        template=TFB_TEMPLATE,\n",
    "        xaxis=dict(\n",
    "            title_text='level',\n",
    "            range=[0.8, 20.2],\n",
    "            tick0=0, dtick=5,\n",
    "            minor=dict(tick0=0, dtick=1),\n",
    "        ),\n",
    "        yaxis=dict(\n",
    "            fixedrange=False,\n",
    "            title_text='encounter XP increase (%)',\n",
    "            range=[-1, 50],\n",
    "            tick0=0, dtick=10,\n",
    "            minor=dict(tick0=0, dtick=5),\n",
    "        ),\n",
    "    )\n",
    ")\n",
    "\n",
    "# plot data\n",
    "levels = np.array(range(1,21,1))\n",
    "eXP0mean = np.zeros(20)\n",
    "eXP1mean = np.zeros(20)\n",
    "for pc in PC_CLASSES:\n",
    "    eXP0 = np.array([x['encounter XP mean'] for x in pc_data0[pc]])\n",
    "    eXP0mean += eXP0\n",
    "    eXP1 = np.array([x['encounter XP mean'] for x in pc_data1[pc]])\n",
    "    eXP1mean += eXP1\n",
    "\n",
    "    fig.add_trace(go.Scatter(\n",
    "        x=levels, \n",
    "        y=100*(eXP1/eXP0 - 1),\n",
    "        mode='lines+markers', \n",
    "        line={'color': PC_CLASSES[pc]['color']},\n",
    "        unselected=dict(marker=dict(opacity=0.0)),\n",
    "        name=pc,\n",
    "        hovertemplate=\n",
    "            '<b>'+pc+'</b><br>'+\n",
    "            'level %{x}<br>'+\n",
    "            'XP increase %{y:.1f}'+\n",
    "            '<extra></extra>'\n",
    "    ))\n",
    "\n",
    "fig.add_trace(go.Scatter(\n",
    "    x=levels, \n",
    "    y=100*(eXP1mean/eXP0mean - 1),\n",
    "    mode='lines+markers', \n",
    "    line=dict(color='black', dash='dash'),\n",
    "    unselected=dict(marker=dict(opacity=0.0)),\n",
    "    name='average',\n",
    "    hovertemplate=\n",
    "        '<b>Average</b><br>'+\n",
    "        'level %{x}<br>'+\n",
    "        'XP increase %{y:.1f}'+\n",
    "        '<extra></extra>'\n",
    "))\n",
    "\n",
    "# show figure\n",
    "fig.update_layout(width=600, height=550)\n",
    "fig.show(config=TFB_CONFIG)\n",
    "\n",
    "# save figures\n",
    "if SAVEFIGS:\n",
    "    fig.update_layout(autosize=True, width=None, height=None)\n",
    "    save_fig_html(fig, format='large', name=f'./fig-encounter-xp-high-magic-large', style='aspect-ratio:600/550')\n",
    "    save_fig_html(fig, format='small', name=f'./fig-encounter-xp-high-magic-small', style='aspect-ratio:600/600')"
   ]
  }
 ],
 "metadata": {
  "kernelspec": {
   "display_name": "thefinishedbook",
   "language": "python",
   "name": "python3"
  },
  "language_info": {
   "codemirror_mode": {
    "name": "ipython",
    "version": 3
   },
   "file_extension": ".py",
   "mimetype": "text/x-python",
   "name": "python",
   "nbconvert_exporter": "python",
   "pygments_lexer": "ipython3",
   "version": "3.10.5"
  },
  "orig_nbformat": 4,
  "vscode": {
   "interpreter": {
    "hash": "81e7ed570d3d4d94e4f212d319db3e9a0140cc240e5a3a69836cc19bf47f0126"
   }
  }
 },
 "nbformat": 4,
 "nbformat_minor": 2
}
