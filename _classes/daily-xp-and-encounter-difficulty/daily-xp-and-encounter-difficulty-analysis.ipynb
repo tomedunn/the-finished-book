{
 "cells": [
  {
   "cell_type": "code",
   "execution_count": 1,
   "metadata": {},
   "outputs": [],
   "source": [
    "import numpy as np\n",
    "import json\n",
    "from bs4 import BeautifulSoup\n",
    "import plotly.graph_objects as go\n",
    "\n",
    "\n",
    "METADATA = {'Contributor': 'T. Dunn'}\n",
    "SAVEFIGS = False\n",
    "\n",
    "PC_CLASSES = {\n",
    "    'Barbarian': {'color': '#E7623E', 'group': 'martial'},\n",
    "    'Bard': {'color': '#AB6DAC', 'group': 'spellcaster'},\n",
    "    'Cleric': {'color': '#91A1B2', 'group': 'spellcaster'},\n",
    "    'Druid': {'color': '#7A853B', 'group': 'spellcaster'},\n",
    "    'Fighter': {'color': '#7F513E', 'group': 'martial'},\n",
    "    'Monk': {'color': '#51A5C5', 'group': 'martial'},\n",
    "    'Paladin': {'color': '#B59E54', 'group': 'martial-spellcaster'},\n",
    "    'Ranger': {'color': '#507F62', 'group': 'martial-spellcaster'},\n",
    "    'Rogue': {'color': '#555752', 'group': 'martial'},\n",
    "    'Sorcerer': {'color': '#992E2E', 'group': 'spellcaster'},\n",
    "    'Warlock': {'color': '#7B469B', 'group': 'spellcaster'},\n",
    "    'Wizard': {'color': '#2A50A1', 'group': 'spellcaster'}\n",
    "}\n",
    "\n",
    "ENCOUNTER_DIFFICULTIES = {\n",
    "    'Easy':   {\n",
    "        'XP': [25,50,75,125,250,300,350,450,550,600,800,1000,1100,1250,1400,1600,2000,2100,2400,2800], \n",
    "        'color': '#1F77B4'\n",
    "    },\n",
    "    'Medium': {\n",
    "        'XP': [50,100,150,250,500,600,750,900,1100,1200,1600,2000,2200,2500,2800,3200,3900,4200,4900,5700], \n",
    "        'color': '#FF7F0E'\n",
    "    },\n",
    "    'Hard':   {\n",
    "        'XP': [75,150,225,375,750,900,1100,1400,1600,1900,2400,3000,3400,3800,4300,4800,5900,6300,7300,8500], \n",
    "        'color': '#2CA02C'\n",
    "    },\n",
    "    'Deadly': {\n",
    "        'XP': [100,200,400,500,1100,1400,1700,2100,2400,2800,3600,4500,5100,5700,6400,7200,8800,9500,10900,12700], \n",
    "        'color': '#D62728'\n",
    "    },\n",
    "    'Daily':  {\n",
    "        'XP': [300,600,1200,1700,3500,4000,5000,6000,7500,9000,10500,11500,13500,15000,18000,20000,25000,27000,30000,40000], \n",
    "        'color': '#9467BD'\n",
    "    },\n",
    "}"
   ]
  },
  {
   "cell_type": "code",
   "execution_count": 2,
   "metadata": {},
   "outputs": [],
   "source": [
    "# Setup template and html config for plotly figures.\n",
    "TFB_TEMPLATE = dict(\n",
    "    layout=go.Layout(\n",
    "        template='plotly_white',\n",
    "        autosize=True, # must be True to auto-scale when resizing\n",
    "        margin=dict(l=50, r=25, b=40, t=20, pad=4),\n",
    "        font=dict(\n",
    "            family='sans-serif',\n",
    "            size=14\n",
    "        ),\n",
    "        hovermode='closest',\n",
    "        xaxis=dict(\n",
    "            autorange=False,\n",
    "            automargin=True,\n",
    "            fixedrange=True,\n",
    "            showline=True,\n",
    "            linecolor='#444',\n",
    "            linewidth=2,\n",
    "            mirror=True,\n",
    "            tickmode='linear',\n",
    "            ticks='outside',\n",
    "            minor=dict(\n",
    "                #showgrid=True,\n",
    "                tickmode='linear',\n",
    "                ticks='outside',\n",
    "            ),\n",
    "            zeroline=False,\n",
    "        ),\n",
    "        yaxis=dict(\n",
    "            autorange=False,\n",
    "            automargin=True,\n",
    "            fixedrange=True,\n",
    "            showline=True,\n",
    "            linecolor='#444',\n",
    "            linewidth=2,\n",
    "            mirror=True,\n",
    "            tickmode='linear',\n",
    "            ticks='outside',\n",
    "            minor=dict(\n",
    "                #showgrid=True,\n",
    "                tickmode='linear',\n",
    "                ticks='outside',\n",
    "            ),\n",
    "            zeroline=False,\n",
    "        ),\n",
    "        legend=dict(\n",
    "            #bordercolor='Black',\n",
    "            #borderwidth=1,\n",
    "            font_size=10,\n",
    "            #tracegroupgap=5,\n",
    "            #orientation='h',\n",
    "        )\n",
    "    )\n",
    ")\n",
    "\n",
    "TFB_CONFIG = {\n",
    "    'responsive': True, # must be True to auto-scale when resizing\n",
    "    'autosizable': True, # doesn't impact auto rescaling\n",
    "    'showAxisDragHandles': False,\n",
    "    'displaylogo': False,\n",
    "    'displayModeBar': 'hover',\n",
    "    'modeBarButtonsToRemove': [\n",
    "        'select2d',\n",
    "        'lasso2d',\n",
    "        'zoom2d',\n",
    "        'zoomIn2d',\n",
    "        'zoomOut2d',\n",
    "        'pan2d',\n",
    "        'autoScale2d',\n",
    "        'hoverClosestCartesian',\n",
    "        'hoverCompareCartesian',\n",
    "        'toggleSpikelines',\n",
    "        'resetScale2d',\n",
    "    ],\n",
    "    'toImageButtonOptions': {\n",
    "        'format': 'png', # one of png, svg, jpeg, webp\n",
    "        'filename': 'tfb-plot',\n",
    "        'height': 450,\n",
    "        'width': 600,\n",
    "        'scale': 2\n",
    "    },\n",
    "}\n"
   ]
  },
  {
   "cell_type": "code",
   "execution_count": 3,
   "metadata": {},
   "outputs": [
    {
     "data": {
      "application/vnd.plotly.v1+json": {
       "config": {
        "autosizable": true,
        "displayModeBar": "hover",
        "displaylogo": false,
        "modeBarButtonsToRemove": [
         "select2d",
         "lasso2d",
         "zoom2d",
         "zoomIn2d",
         "zoomOut2d",
         "pan2d",
         "autoScale2d",
         "hoverClosestCartesian",
         "hoverCompareCartesian",
         "toggleSpikelines",
         "resetScale2d"
        ],
        "plotlyServerURL": "https://plot.ly",
        "responsive": true,
        "showAxisDragHandles": false,
        "toImageButtonOptions": {
         "filename": "tfb-plot",
         "format": "png",
         "height": 450,
         "scale": 2,
         "width": 600
        }
       },
       "data": [
        {
         "hovertemplate": "<b>Easy encounters</b><br>lvl %{x}<br>XP ratio %{y:.2f}<extra></extra>",
         "line": {
          "color": "#1F77B4",
          "dash": "solid"
         },
         "mode": "lines+markers",
         "name": "Easy encounters",
         "type": "scatter",
         "unselected": {
          "marker": {
           "opacity": 0
          }
         },
         "x": [
          1,
          2,
          3,
          4,
          5,
          6,
          7,
          8,
          9,
          10,
          11,
          12,
          13,
          14,
          15,
          16,
          17,
          18,
          19,
          20
         ],
         "y": [
          0.8478637685185186,
          0.7913689467592592,
          0.5920389543685122,
          0.6453600964266007,
          0.7832935780423282,
          0.8590073913159014,
          0.8357212082177302,
          0.9006807164706161,
          0.9064697998414586,
          0.8359053571912979,
          1.0087725143579256,
          1.0853226943060588,
          1.0824601251080552,
          1.0821491295740742,
          0.9929907403835162,
          0.9821976926868999,
          0.980600606852995,
          0.9924603085104539,
          1.0322489699521864,
          0.9268906888888889
         ]
        },
        {
         "hovertemplate": "<b>Medium encounters</b><br>lvl %{x}<br>XP ratio %{y:.2f}<extra></extra>",
         "line": {
          "color": "#FF7F0E",
          "dash": "solid"
         },
         "mode": "lines+markers",
         "name": "Medium encounters",
         "type": "scatter",
         "unselected": {
          "marker": {
           "opacity": 0
          }
         },
         "x": [
          1,
          2,
          3,
          4,
          5,
          6,
          7,
          8,
          9,
          10,
          11,
          12,
          13,
          14,
          15,
          16,
          17,
          18,
          19,
          20
         ],
         "y": [
          0.8628046767832647,
          0.8257488586676954,
          0.6249876874758874,
          0.6939146854575163,
          0.829241069403952,
          0.9168793098958334,
          0.9034873506944444,
          0.9638819733796298,
          0.9962571770833334,
          0.9151814959889298,
          1.0891247915013227,
          1.2013951009122745,
          1.2009815507830364,
          1.1911873347479425,
          1.1062148893035464,
          1.093261307806248,
          1.1001315798130196,
          1.1529736021874253,
          1.192517139489026,
          1.021479745429422
         ]
        },
        {
         "hovertemplate": "<b>Hard encounters</b><br>lvl %{x}<br>XP ratio %{y:.2f}<extra></extra>",
         "line": {
          "color": "#2CA02C",
          "dash": "solid"
         },
         "mode": "lines+markers",
         "name": "Hard encounters",
         "type": "scatter",
         "unselected": {
          "marker": {
           "opacity": 0
          }
         },
         "x": [
          1,
          2,
          3,
          4,
          5,
          6,
          7,
          8,
          9,
          10,
          11,
          12,
          13,
          14,
          15,
          16,
          17,
          18,
          19,
          20
         ],
         "y": [
          0.8810092335390945,
          0.8574137345679013,
          0.653787717013889,
          0.7241017489031367,
          0.8675964426456858,
          0.9770513997395833,
          0.943648716839677,
          1.0305203314887152,
          1.0537401230296037,
          0.9822286776263148,
          1.1757088993778935,
          1.2681419625911956,
          1.2732133830589851,
          1.2617009459876545,
          1.168244596655575,
          1.176858466435185,
          1.1509215364583336,
          1.2130724263760289,
          1.2645565841049382,
          1.0794908210483949
         ]
        },
        {
         "hovertemplate": "<b>Deadly encounters</b><br>lvl %{x}<br>XP ratio %{y:.2f}<extra></extra>",
         "line": {
          "color": "#D62728",
          "dash": "solid"
         },
         "mode": "lines+markers",
         "name": "Deadly encounters",
         "type": "scatter",
         "unselected": {
          "marker": {
           "opacity": 0
          }
         },
         "x": [
          1,
          2,
          3,
          4,
          5,
          6,
          7,
          8,
          9,
          10,
          11,
          12,
          13,
          14,
          15,
          16,
          17,
          18,
          19,
          20
         ],
         "y": [
          0.8965619863576594,
          0.8854645466935128,
          0.7105670042438272,
          0.7759785997732427,
          0.9224531887755104,
          1.0154198363535503,
          1.0091607104700855,
          1.0744897168803422,
          1.1225879265873016,
          1.0447038451646091,
          1.2384179728835978,
          1.3221890058876813,
          1.355956536136831,
          1.3426770997299384,
          1.2449742677172366,
          1.253773029513889,
          1.2198738274572651,
          1.2835947763334916,
          1.3456090258487656,
          1.1460703385416666
         ]
        },
        {
         "hoverinfo": "skip",
         "line": {
          "color": "black",
          "dash": "dash"
         },
         "mode": "lines",
         "name": "Daily XP budget",
         "showlegend": false,
         "type": "scatter",
         "x": [
          1,
          2,
          3,
          4,
          5,
          6,
          7,
          8,
          9,
          10,
          11,
          12,
          13,
          14,
          15,
          16,
          17,
          18,
          19,
          20
         ],
         "y": [
          1,
          1,
          1,
          1,
          1,
          1,
          1,
          1,
          1,
          1,
          1,
          1,
          1,
          1,
          1,
          1,
          1,
          1,
          1,
          1
         ]
        }
       ],
       "layout": {
        "legend": {
         "orientation": "v",
         "x": 0.99,
         "xanchor": "right",
         "y": 0.01,
         "yanchor": "bottom"
        },
        "template": {
         "layout": {
          "autosize": true,
          "font": {
           "family": "sans-serif",
           "size": 14
          },
          "hovermode": "closest",
          "legend": {
           "font": {
            "size": 10
           }
          },
          "margin": {
           "b": 40,
           "l": 50,
           "pad": 4,
           "r": 25,
           "t": 20
          },
          "template": {
           "data": {
            "bar": [
             {
              "error_x": {
               "color": "#2a3f5f"
              },
              "error_y": {
               "color": "#2a3f5f"
              },
              "marker": {
               "line": {
                "color": "white",
                "width": 0.5
               },
               "pattern": {
                "fillmode": "overlay",
                "size": 10,
                "solidity": 0.2
               }
              },
              "type": "bar"
             }
            ],
            "barpolar": [
             {
              "marker": {
               "line": {
                "color": "white",
                "width": 0.5
               },
               "pattern": {
                "fillmode": "overlay",
                "size": 10,
                "solidity": 0.2
               }
              },
              "type": "barpolar"
             }
            ],
            "carpet": [
             {
              "aaxis": {
               "endlinecolor": "#2a3f5f",
               "gridcolor": "#C8D4E3",
               "linecolor": "#C8D4E3",
               "minorgridcolor": "#C8D4E3",
               "startlinecolor": "#2a3f5f"
              },
              "baxis": {
               "endlinecolor": "#2a3f5f",
               "gridcolor": "#C8D4E3",
               "linecolor": "#C8D4E3",
               "minorgridcolor": "#C8D4E3",
               "startlinecolor": "#2a3f5f"
              },
              "type": "carpet"
             }
            ],
            "choropleth": [
             {
              "colorbar": {
               "outlinewidth": 0,
               "ticks": ""
              },
              "type": "choropleth"
             }
            ],
            "contour": [
             {
              "colorbar": {
               "outlinewidth": 0,
               "ticks": ""
              },
              "colorscale": [
               [
                0,
                "#0d0887"
               ],
               [
                0.1111111111111111,
                "#46039f"
               ],
               [
                0.2222222222222222,
                "#7201a8"
               ],
               [
                0.3333333333333333,
                "#9c179e"
               ],
               [
                0.4444444444444444,
                "#bd3786"
               ],
               [
                0.5555555555555556,
                "#d8576b"
               ],
               [
                0.6666666666666666,
                "#ed7953"
               ],
               [
                0.7777777777777778,
                "#fb9f3a"
               ],
               [
                0.8888888888888888,
                "#fdca26"
               ],
               [
                1,
                "#f0f921"
               ]
              ],
              "type": "contour"
             }
            ],
            "contourcarpet": [
             {
              "colorbar": {
               "outlinewidth": 0,
               "ticks": ""
              },
              "type": "contourcarpet"
             }
            ],
            "heatmap": [
             {
              "colorbar": {
               "outlinewidth": 0,
               "ticks": ""
              },
              "colorscale": [
               [
                0,
                "#0d0887"
               ],
               [
                0.1111111111111111,
                "#46039f"
               ],
               [
                0.2222222222222222,
                "#7201a8"
               ],
               [
                0.3333333333333333,
                "#9c179e"
               ],
               [
                0.4444444444444444,
                "#bd3786"
               ],
               [
                0.5555555555555556,
                "#d8576b"
               ],
               [
                0.6666666666666666,
                "#ed7953"
               ],
               [
                0.7777777777777778,
                "#fb9f3a"
               ],
               [
                0.8888888888888888,
                "#fdca26"
               ],
               [
                1,
                "#f0f921"
               ]
              ],
              "type": "heatmap"
             }
            ],
            "heatmapgl": [
             {
              "colorbar": {
               "outlinewidth": 0,
               "ticks": ""
              },
              "colorscale": [
               [
                0,
                "#0d0887"
               ],
               [
                0.1111111111111111,
                "#46039f"
               ],
               [
                0.2222222222222222,
                "#7201a8"
               ],
               [
                0.3333333333333333,
                "#9c179e"
               ],
               [
                0.4444444444444444,
                "#bd3786"
               ],
               [
                0.5555555555555556,
                "#d8576b"
               ],
               [
                0.6666666666666666,
                "#ed7953"
               ],
               [
                0.7777777777777778,
                "#fb9f3a"
               ],
               [
                0.8888888888888888,
                "#fdca26"
               ],
               [
                1,
                "#f0f921"
               ]
              ],
              "type": "heatmapgl"
             }
            ],
            "histogram": [
             {
              "marker": {
               "pattern": {
                "fillmode": "overlay",
                "size": 10,
                "solidity": 0.2
               }
              },
              "type": "histogram"
             }
            ],
            "histogram2d": [
             {
              "colorbar": {
               "outlinewidth": 0,
               "ticks": ""
              },
              "colorscale": [
               [
                0,
                "#0d0887"
               ],
               [
                0.1111111111111111,
                "#46039f"
               ],
               [
                0.2222222222222222,
                "#7201a8"
               ],
               [
                0.3333333333333333,
                "#9c179e"
               ],
               [
                0.4444444444444444,
                "#bd3786"
               ],
               [
                0.5555555555555556,
                "#d8576b"
               ],
               [
                0.6666666666666666,
                "#ed7953"
               ],
               [
                0.7777777777777778,
                "#fb9f3a"
               ],
               [
                0.8888888888888888,
                "#fdca26"
               ],
               [
                1,
                "#f0f921"
               ]
              ],
              "type": "histogram2d"
             }
            ],
            "histogram2dcontour": [
             {
              "colorbar": {
               "outlinewidth": 0,
               "ticks": ""
              },
              "colorscale": [
               [
                0,
                "#0d0887"
               ],
               [
                0.1111111111111111,
                "#46039f"
               ],
               [
                0.2222222222222222,
                "#7201a8"
               ],
               [
                0.3333333333333333,
                "#9c179e"
               ],
               [
                0.4444444444444444,
                "#bd3786"
               ],
               [
                0.5555555555555556,
                "#d8576b"
               ],
               [
                0.6666666666666666,
                "#ed7953"
               ],
               [
                0.7777777777777778,
                "#fb9f3a"
               ],
               [
                0.8888888888888888,
                "#fdca26"
               ],
               [
                1,
                "#f0f921"
               ]
              ],
              "type": "histogram2dcontour"
             }
            ],
            "mesh3d": [
             {
              "colorbar": {
               "outlinewidth": 0,
               "ticks": ""
              },
              "type": "mesh3d"
             }
            ],
            "parcoords": [
             {
              "line": {
               "colorbar": {
                "outlinewidth": 0,
                "ticks": ""
               }
              },
              "type": "parcoords"
             }
            ],
            "pie": [
             {
              "automargin": true,
              "type": "pie"
             }
            ],
            "scatter": [
             {
              "fillpattern": {
               "fillmode": "overlay",
               "size": 10,
               "solidity": 0.2
              },
              "type": "scatter"
             }
            ],
            "scatter3d": [
             {
              "line": {
               "colorbar": {
                "outlinewidth": 0,
                "ticks": ""
               }
              },
              "marker": {
               "colorbar": {
                "outlinewidth": 0,
                "ticks": ""
               }
              },
              "type": "scatter3d"
             }
            ],
            "scattercarpet": [
             {
              "marker": {
               "colorbar": {
                "outlinewidth": 0,
                "ticks": ""
               }
              },
              "type": "scattercarpet"
             }
            ],
            "scattergeo": [
             {
              "marker": {
               "colorbar": {
                "outlinewidth": 0,
                "ticks": ""
               }
              },
              "type": "scattergeo"
             }
            ],
            "scattergl": [
             {
              "marker": {
               "colorbar": {
                "outlinewidth": 0,
                "ticks": ""
               }
              },
              "type": "scattergl"
             }
            ],
            "scattermapbox": [
             {
              "marker": {
               "colorbar": {
                "outlinewidth": 0,
                "ticks": ""
               }
              },
              "type": "scattermapbox"
             }
            ],
            "scatterpolar": [
             {
              "marker": {
               "colorbar": {
                "outlinewidth": 0,
                "ticks": ""
               }
              },
              "type": "scatterpolar"
             }
            ],
            "scatterpolargl": [
             {
              "marker": {
               "colorbar": {
                "outlinewidth": 0,
                "ticks": ""
               }
              },
              "type": "scatterpolargl"
             }
            ],
            "scatterternary": [
             {
              "marker": {
               "colorbar": {
                "outlinewidth": 0,
                "ticks": ""
               }
              },
              "type": "scatterternary"
             }
            ],
            "surface": [
             {
              "colorbar": {
               "outlinewidth": 0,
               "ticks": ""
              },
              "colorscale": [
               [
                0,
                "#0d0887"
               ],
               [
                0.1111111111111111,
                "#46039f"
               ],
               [
                0.2222222222222222,
                "#7201a8"
               ],
               [
                0.3333333333333333,
                "#9c179e"
               ],
               [
                0.4444444444444444,
                "#bd3786"
               ],
               [
                0.5555555555555556,
                "#d8576b"
               ],
               [
                0.6666666666666666,
                "#ed7953"
               ],
               [
                0.7777777777777778,
                "#fb9f3a"
               ],
               [
                0.8888888888888888,
                "#fdca26"
               ],
               [
                1,
                "#f0f921"
               ]
              ],
              "type": "surface"
             }
            ],
            "table": [
             {
              "cells": {
               "fill": {
                "color": "#EBF0F8"
               },
               "line": {
                "color": "white"
               }
              },
              "header": {
               "fill": {
                "color": "#C8D4E3"
               },
               "line": {
                "color": "white"
               }
              },
              "type": "table"
             }
            ]
           },
           "layout": {
            "annotationdefaults": {
             "arrowcolor": "#2a3f5f",
             "arrowhead": 0,
             "arrowwidth": 1
            },
            "autotypenumbers": "strict",
            "coloraxis": {
             "colorbar": {
              "outlinewidth": 0,
              "ticks": ""
             }
            },
            "colorscale": {
             "diverging": [
              [
               0,
               "#8e0152"
              ],
              [
               0.1,
               "#c51b7d"
              ],
              [
               0.2,
               "#de77ae"
              ],
              [
               0.3,
               "#f1b6da"
              ],
              [
               0.4,
               "#fde0ef"
              ],
              [
               0.5,
               "#f7f7f7"
              ],
              [
               0.6,
               "#e6f5d0"
              ],
              [
               0.7,
               "#b8e186"
              ],
              [
               0.8,
               "#7fbc41"
              ],
              [
               0.9,
               "#4d9221"
              ],
              [
               1,
               "#276419"
              ]
             ],
             "sequential": [
              [
               0,
               "#0d0887"
              ],
              [
               0.1111111111111111,
               "#46039f"
              ],
              [
               0.2222222222222222,
               "#7201a8"
              ],
              [
               0.3333333333333333,
               "#9c179e"
              ],
              [
               0.4444444444444444,
               "#bd3786"
              ],
              [
               0.5555555555555556,
               "#d8576b"
              ],
              [
               0.6666666666666666,
               "#ed7953"
              ],
              [
               0.7777777777777778,
               "#fb9f3a"
              ],
              [
               0.8888888888888888,
               "#fdca26"
              ],
              [
               1,
               "#f0f921"
              ]
             ],
             "sequentialminus": [
              [
               0,
               "#0d0887"
              ],
              [
               0.1111111111111111,
               "#46039f"
              ],
              [
               0.2222222222222222,
               "#7201a8"
              ],
              [
               0.3333333333333333,
               "#9c179e"
              ],
              [
               0.4444444444444444,
               "#bd3786"
              ],
              [
               0.5555555555555556,
               "#d8576b"
              ],
              [
               0.6666666666666666,
               "#ed7953"
              ],
              [
               0.7777777777777778,
               "#fb9f3a"
              ],
              [
               0.8888888888888888,
               "#fdca26"
              ],
              [
               1,
               "#f0f921"
              ]
             ]
            },
            "colorway": [
             "#636efa",
             "#EF553B",
             "#00cc96",
             "#ab63fa",
             "#FFA15A",
             "#19d3f3",
             "#FF6692",
             "#B6E880",
             "#FF97FF",
             "#FECB52"
            ],
            "font": {
             "color": "#2a3f5f"
            },
            "geo": {
             "bgcolor": "white",
             "lakecolor": "white",
             "landcolor": "white",
             "showlakes": true,
             "showland": true,
             "subunitcolor": "#C8D4E3"
            },
            "hoverlabel": {
             "align": "left"
            },
            "hovermode": "closest",
            "mapbox": {
             "style": "light"
            },
            "paper_bgcolor": "white",
            "plot_bgcolor": "white",
            "polar": {
             "angularaxis": {
              "gridcolor": "#EBF0F8",
              "linecolor": "#EBF0F8",
              "ticks": ""
             },
             "bgcolor": "white",
             "radialaxis": {
              "gridcolor": "#EBF0F8",
              "linecolor": "#EBF0F8",
              "ticks": ""
             }
            },
            "scene": {
             "xaxis": {
              "backgroundcolor": "white",
              "gridcolor": "#DFE8F3",
              "gridwidth": 2,
              "linecolor": "#EBF0F8",
              "showbackground": true,
              "ticks": "",
              "zerolinecolor": "#EBF0F8"
             },
             "yaxis": {
              "backgroundcolor": "white",
              "gridcolor": "#DFE8F3",
              "gridwidth": 2,
              "linecolor": "#EBF0F8",
              "showbackground": true,
              "ticks": "",
              "zerolinecolor": "#EBF0F8"
             },
             "zaxis": {
              "backgroundcolor": "white",
              "gridcolor": "#DFE8F3",
              "gridwidth": 2,
              "linecolor": "#EBF0F8",
              "showbackground": true,
              "ticks": "",
              "zerolinecolor": "#EBF0F8"
             }
            },
            "shapedefaults": {
             "line": {
              "color": "#2a3f5f"
             }
            },
            "ternary": {
             "aaxis": {
              "gridcolor": "#DFE8F3",
              "linecolor": "#A2B1C6",
              "ticks": ""
             },
             "baxis": {
              "gridcolor": "#DFE8F3",
              "linecolor": "#A2B1C6",
              "ticks": ""
             },
             "bgcolor": "white",
             "caxis": {
              "gridcolor": "#DFE8F3",
              "linecolor": "#A2B1C6",
              "ticks": ""
             }
            },
            "title": {
             "x": 0.05
            },
            "xaxis": {
             "automargin": true,
             "gridcolor": "#EBF0F8",
             "linecolor": "#EBF0F8",
             "ticks": "",
             "title": {
              "standoff": 15
             },
             "zerolinecolor": "#EBF0F8",
             "zerolinewidth": 2
            },
            "yaxis": {
             "automargin": true,
             "gridcolor": "#EBF0F8",
             "linecolor": "#EBF0F8",
             "ticks": "",
             "title": {
              "standoff": 15
             },
             "zerolinecolor": "#EBF0F8",
             "zerolinewidth": 2
            }
           }
          },
          "xaxis": {
           "automargin": true,
           "autorange": false,
           "fixedrange": true,
           "linecolor": "#444",
           "linewidth": 2,
           "minor": {
            "tickmode": "linear",
            "ticks": "outside"
           },
           "mirror": true,
           "showline": true,
           "tickmode": "linear",
           "ticks": "outside",
           "zeroline": false
          },
          "yaxis": {
           "automargin": true,
           "autorange": false,
           "fixedrange": true,
           "linecolor": "#444",
           "linewidth": 2,
           "minor": {
            "tickmode": "linear",
            "ticks": "outside"
           },
           "mirror": true,
           "showline": true,
           "tickmode": "linear",
           "ticks": "outside",
           "zeroline": false
          }
         }
        },
        "xaxis": {
         "dtick": 5,
         "minor": {
          "dtick": 1,
          "tick0": 0
         },
         "range": [
          0.8,
          20.2
         ],
         "tick0": 0,
         "title": {
          "text": "level"
         }
        },
        "yaxis": {
         "dtick": 0.2,
         "minor": {
          "dtick": 0.1,
          "tick0": 0
         },
         "range": [
          0,
          1.6
         ],
         "tick0": 0,
         "title": {
          "text": "calculated daily XP / Daily XP"
         }
        }
       }
      }
     },
     "metadata": {},
     "output_type": "display_data"
    }
   ],
   "source": [
    "# Plots average daily XP for PCs, calculated for a full adventuring day with two short rests.\n",
    "levels = np.array(range(1,21,1))\n",
    "\n",
    "fig = go.Figure(\n",
    "    layout=go.Layout(\n",
    "        template=TFB_TEMPLATE,\n",
    "        xaxis=dict(\n",
    "            title_text='level',\n",
    "            range=[0.8, 20.2],\n",
    "            tick0=0, dtick=5,\n",
    "            minor=dict(tick0=0, dtick=1),\n",
    "        ),\n",
    "        yaxis=dict(\n",
    "            title_text='calculated daily XP / Daily XP',\n",
    "            range=[0, 1.6],\n",
    "            tick0=0, dtick=0.2,\n",
    "            minor=dict(tick0=0, dtick=0.1),\n",
    "        ),\n",
    "        legend=dict(\n",
    "            yanchor='bottom',  y=0.01,\n",
    "            xanchor='right', x=0.99,\n",
    "            orientation='v',\n",
    "        )\n",
    "    )\n",
    ")\n",
    "\n",
    "enc_XP_budget = np.array(ENCOUNTER_DIFFICULTIES['Daily']['XP'])\n",
    "for diff in ['Easy','Medium','Hard','Deadly']:\n",
    "    d = ENCOUNTER_DIFFICULTIES[diff]\n",
    "    pc_data_file = f'../xp-and-player-characters/pc data - {diff} 2 short rests.json'\n",
    "\n",
    "    with open(pc_data_file, 'r') as fin:\n",
    "        pc_data = json.load(fin)\n",
    "\n",
    "    eXP = np.zeros(20)\n",
    "    for pc_class in PC_CLASSES:\n",
    "        eXP += np.array([x['XP mean'] for x in pc_data[pc_class]])\n",
    "    eXP /= len(PC_CLASSES)\n",
    "\n",
    "    fig.add_trace(go.Scatter(\n",
    "        x=levels, \n",
    "        y=eXP/enc_XP_budget,\n",
    "        mode='lines+markers', \n",
    "        line=dict(color=d['color'], dash='solid'),\n",
    "        unselected=dict(marker=dict(opacity=0.0)),\n",
    "        name=diff + ' encounters',\n",
    "        hovertemplate=\n",
    "            '<b>' + diff + ' encounters</b><br>'+\n",
    "            'lvl %{x}<br>'+\n",
    "            'XP ratio %{y:.2f}'+\n",
    "            '<extra></extra>'\n",
    "    ))\n",
    "\n",
    "ref_XP = np.array(ENCOUNTER_DIFFICULTIES['Daily']['XP'])\n",
    "fig.add_trace(go.Scatter(\n",
    "    x=levels, \n",
    "    y=ref_XP/enc_XP_budget,\n",
    "    mode='lines', \n",
    "    line=dict(color='black', dash='dash'),\n",
    "    name='Daily XP budget',\n",
    "    showlegend=False,\n",
    "    hoverinfo='skip'\n",
    "))\n",
    "\n",
    "# show figure\n",
    "fig.show(config=TFB_CONFIG)\n",
    "\n",
    "# save large format figure\n",
    "if SAVEFIGS:\n",
    "    file_name = f'./fig-full-daily-xp-vs-level-adventuring-days-large.html'\n",
    "    fig_html = fig.to_html(\n",
    "        include_plotlyjs=False, \n",
    "        full_html=False, \n",
    "        config=TFB_CONFIG\n",
    "    )\n",
    "    fig_soup = BeautifulSoup(fig_html, 'html.parser')\n",
    "    fig_soup.div['class'] = 'plotly-div-large'\n",
    "    with open(file_name, 'wb') as fout:\n",
    "        fout.write(fig_soup.prettify('utf-8'))\n",
    "\n",
    "# save small format figure\n",
    "if SAVEFIGS:\n",
    "    fig.update_traces(marker=dict(size=4))\n",
    "    fig.update_layout(font=dict(size=10))\n",
    "    file_name = f'./fig-full-daily-xp-vs-level-adventuring-days-small.html'\n",
    "    fig_html = fig.to_html(\n",
    "        include_plotlyjs=False, \n",
    "        full_html=False, \n",
    "        config=TFB_CONFIG\n",
    "    )\n",
    "    fig_soup = BeautifulSoup(fig_html, 'html.parser')\n",
    "    fig_soup.div['class'] = 'plotly-div-small'\n",
    "    with open(file_name, 'wb') as fout:\n",
    "        fout.write(fig_soup.prettify('utf-8'))"
   ]
  },
  {
   "cell_type": "code",
   "execution_count": 4,
   "metadata": {},
   "outputs": [
    {
     "data": {
      "application/vnd.plotly.v1+json": {
       "config": {
        "autosizable": true,
        "displayModeBar": "hover",
        "displaylogo": false,
        "modeBarButtonsToRemove": [
         "select2d",
         "lasso2d",
         "zoom2d",
         "zoomIn2d",
         "zoomOut2d",
         "pan2d",
         "autoScale2d",
         "hoverClosestCartesian",
         "hoverCompareCartesian",
         "toggleSpikelines",
         "resetScale2d"
        ],
        "plotlyServerURL": "https://plot.ly",
        "responsive": true,
        "showAxisDragHandles": false,
        "toImageButtonOptions": {
         "filename": "tfb-plot",
         "format": "png",
         "height": 450,
         "scale": 2,
         "width": 600
        }
       },
       "data": [
        {
         "hovertemplate": "<b>Easy encounters</b><br>lvl %{x}<br>eDPR %{y:.1f}<extra></extra>",
         "line": {
          "color": "#1F77B4",
          "dash": "solid"
         },
         "mode": "lines+markers",
         "name": "Easy encounters",
         "type": "scatter",
         "unselected": {
          "marker": {
           "opacity": 0
          }
         },
         "x": [
          1,
          2,
          3,
          4,
          5,
          6,
          7,
          8,
          9,
          10,
          11,
          12,
          13,
          14,
          15,
          16,
          17,
          18,
          19,
          20
         ],
         "y": [
          8.266452620996821,
          9.006192440122435,
          9.767258981268837,
          11.603183583429356,
          21.78409688414035,
          22.739945075589265,
          23.742055668000816,
          26.70984906158645,
          30.70702636524293,
          30.806355032958162,
          38.91416518433042,
          40.714065034063424,
          44.63830541146864,
          45.07313468593755,
          46.4543831941126,
          46.64554201719316,
          56.16722375923488,
          55.31869153685935,
          57.45506180717763,
          59.54342526937739
         ]
        },
        {
         "hovertemplate": "<b>Medium encounters</b><br>lvl %{x}<br>eDPR %{y:.1f}<extra></extra>",
         "line": {
          "color": "#FF7F0E",
          "dash": "solid"
         },
         "mode": "lines+markers",
         "name": "Medium encounters",
         "type": "scatter",
         "unselected": {
          "marker": {
           "opacity": 0
          }
         },
         "x": [
          1,
          2,
          3,
          4,
          5,
          6,
          7,
          8,
          9,
          10,
          11,
          12,
          13,
          14,
          15,
          16,
          17,
          18,
          19,
          20
         ],
         "y": [
          8.372636914405339,
          9.32295227250253,
          10.279095036097486,
          12.42259408296029,
          22.901319381681237,
          24.036164978046145,
          25.437431869278132,
          28.40308817948342,
          33.568276281722326,
          33.67906218791972,
          41.795945277821716,
          44.30262616578372,
          49.060329203075035,
          49.142659983312704,
          51.30414770404269,
          51.512518737873734,
          61.73869526979516,
          61.35819164279934,
          64.5751239479344,
          65.67959872912634
         ]
        },
        {
         "hovertemplate": "<b>Hard encounters</b><br>lvl %{x}<br>eDPR %{y:.1f}<extra></extra>",
         "line": {
          "color": "#2CA02C",
          "dash": "solid"
         },
         "mode": "lines+markers",
         "name": "Hard encounters",
         "type": "scatter",
         "unselected": {
          "marker": {
           "opacity": 0
          }
         },
         "x": [
          1,
          2,
          3,
          4,
          5,
          6,
          7,
          8,
          9,
          10,
          11,
          12,
          13,
          14,
          15,
          16,
          17,
          18,
          19,
          20
         ],
         "y": [
          8.464261659308672,
          9.56949635125416,
          10.652317945131317,
          12.87371437353937,
          23.71822595302415,
          25.125979458520618,
          26.36603025376465,
          29.92350310004665,
          35.25648883860041,
          35.8265901589565,
          44.48081029542695,
          46.83159207696798,
          51.940292768332405,
          52.039089704617595,
          54.25740367283249,
          55.712506825624594,
          65.07519752100228,
          64.9622355067379,
          68.9616959653449,
          70.27661178180729
         ]
        },
        {
         "hovertemplate": "<b>Deadly encounters</b><br>lvl %{x}<br>eDPR %{y:.1f}<extra></extra>",
         "line": {
          "color": "#D62728",
          "dash": "solid"
         },
         "mode": "lines+markers",
         "name": "Deadly encounters",
         "type": "scatter",
         "unselected": {
          "marker": {
           "opacity": 0
          }
         },
         "x": [
          1,
          2,
          3,
          4,
          5,
          6,
          7,
          8,
          9,
          10,
          11,
          12,
          13,
          14,
          15,
          16,
          17,
          18,
          19,
          20
         ],
         "y": [
          8.54497639770613,
          9.79211013760668,
          11.389081304833459,
          13.607696248936696,
          24.782482721267698,
          26.229531444026517,
          28.132920695367773,
          31.413577582163217,
          37.47341922178665,
          38.009745447334865,
          47.167226989052324,
          49.09275348494722,
          55.79785590306881,
          55.921352073425304,
          58.359155786938885,
          59.90438373114822,
          69.28254118827752,
          69.24778364542694,
          73.87088166144736,
          75.02598869846604
         ]
        }
       ],
       "layout": {
        "legend": {
         "orientation": "v",
         "x": 0.01,
         "xanchor": "left",
         "y": 0.99,
         "yanchor": "top"
        },
        "template": {
         "layout": {
          "autosize": true,
          "font": {
           "family": "sans-serif",
           "size": 14
          },
          "hovermode": "closest",
          "legend": {
           "font": {
            "size": 10
           }
          },
          "margin": {
           "b": 40,
           "l": 50,
           "pad": 4,
           "r": 25,
           "t": 20
          },
          "template": {
           "data": {
            "bar": [
             {
              "error_x": {
               "color": "#2a3f5f"
              },
              "error_y": {
               "color": "#2a3f5f"
              },
              "marker": {
               "line": {
                "color": "white",
                "width": 0.5
               },
               "pattern": {
                "fillmode": "overlay",
                "size": 10,
                "solidity": 0.2
               }
              },
              "type": "bar"
             }
            ],
            "barpolar": [
             {
              "marker": {
               "line": {
                "color": "white",
                "width": 0.5
               },
               "pattern": {
                "fillmode": "overlay",
                "size": 10,
                "solidity": 0.2
               }
              },
              "type": "barpolar"
             }
            ],
            "carpet": [
             {
              "aaxis": {
               "endlinecolor": "#2a3f5f",
               "gridcolor": "#C8D4E3",
               "linecolor": "#C8D4E3",
               "minorgridcolor": "#C8D4E3",
               "startlinecolor": "#2a3f5f"
              },
              "baxis": {
               "endlinecolor": "#2a3f5f",
               "gridcolor": "#C8D4E3",
               "linecolor": "#C8D4E3",
               "minorgridcolor": "#C8D4E3",
               "startlinecolor": "#2a3f5f"
              },
              "type": "carpet"
             }
            ],
            "choropleth": [
             {
              "colorbar": {
               "outlinewidth": 0,
               "ticks": ""
              },
              "type": "choropleth"
             }
            ],
            "contour": [
             {
              "colorbar": {
               "outlinewidth": 0,
               "ticks": ""
              },
              "colorscale": [
               [
                0,
                "#0d0887"
               ],
               [
                0.1111111111111111,
                "#46039f"
               ],
               [
                0.2222222222222222,
                "#7201a8"
               ],
               [
                0.3333333333333333,
                "#9c179e"
               ],
               [
                0.4444444444444444,
                "#bd3786"
               ],
               [
                0.5555555555555556,
                "#d8576b"
               ],
               [
                0.6666666666666666,
                "#ed7953"
               ],
               [
                0.7777777777777778,
                "#fb9f3a"
               ],
               [
                0.8888888888888888,
                "#fdca26"
               ],
               [
                1,
                "#f0f921"
               ]
              ],
              "type": "contour"
             }
            ],
            "contourcarpet": [
             {
              "colorbar": {
               "outlinewidth": 0,
               "ticks": ""
              },
              "type": "contourcarpet"
             }
            ],
            "heatmap": [
             {
              "colorbar": {
               "outlinewidth": 0,
               "ticks": ""
              },
              "colorscale": [
               [
                0,
                "#0d0887"
               ],
               [
                0.1111111111111111,
                "#46039f"
               ],
               [
                0.2222222222222222,
                "#7201a8"
               ],
               [
                0.3333333333333333,
                "#9c179e"
               ],
               [
                0.4444444444444444,
                "#bd3786"
               ],
               [
                0.5555555555555556,
                "#d8576b"
               ],
               [
                0.6666666666666666,
                "#ed7953"
               ],
               [
                0.7777777777777778,
                "#fb9f3a"
               ],
               [
                0.8888888888888888,
                "#fdca26"
               ],
               [
                1,
                "#f0f921"
               ]
              ],
              "type": "heatmap"
             }
            ],
            "heatmapgl": [
             {
              "colorbar": {
               "outlinewidth": 0,
               "ticks": ""
              },
              "colorscale": [
               [
                0,
                "#0d0887"
               ],
               [
                0.1111111111111111,
                "#46039f"
               ],
               [
                0.2222222222222222,
                "#7201a8"
               ],
               [
                0.3333333333333333,
                "#9c179e"
               ],
               [
                0.4444444444444444,
                "#bd3786"
               ],
               [
                0.5555555555555556,
                "#d8576b"
               ],
               [
                0.6666666666666666,
                "#ed7953"
               ],
               [
                0.7777777777777778,
                "#fb9f3a"
               ],
               [
                0.8888888888888888,
                "#fdca26"
               ],
               [
                1,
                "#f0f921"
               ]
              ],
              "type": "heatmapgl"
             }
            ],
            "histogram": [
             {
              "marker": {
               "pattern": {
                "fillmode": "overlay",
                "size": 10,
                "solidity": 0.2
               }
              },
              "type": "histogram"
             }
            ],
            "histogram2d": [
             {
              "colorbar": {
               "outlinewidth": 0,
               "ticks": ""
              },
              "colorscale": [
               [
                0,
                "#0d0887"
               ],
               [
                0.1111111111111111,
                "#46039f"
               ],
               [
                0.2222222222222222,
                "#7201a8"
               ],
               [
                0.3333333333333333,
                "#9c179e"
               ],
               [
                0.4444444444444444,
                "#bd3786"
               ],
               [
                0.5555555555555556,
                "#d8576b"
               ],
               [
                0.6666666666666666,
                "#ed7953"
               ],
               [
                0.7777777777777778,
                "#fb9f3a"
               ],
               [
                0.8888888888888888,
                "#fdca26"
               ],
               [
                1,
                "#f0f921"
               ]
              ],
              "type": "histogram2d"
             }
            ],
            "histogram2dcontour": [
             {
              "colorbar": {
               "outlinewidth": 0,
               "ticks": ""
              },
              "colorscale": [
               [
                0,
                "#0d0887"
               ],
               [
                0.1111111111111111,
                "#46039f"
               ],
               [
                0.2222222222222222,
                "#7201a8"
               ],
               [
                0.3333333333333333,
                "#9c179e"
               ],
               [
                0.4444444444444444,
                "#bd3786"
               ],
               [
                0.5555555555555556,
                "#d8576b"
               ],
               [
                0.6666666666666666,
                "#ed7953"
               ],
               [
                0.7777777777777778,
                "#fb9f3a"
               ],
               [
                0.8888888888888888,
                "#fdca26"
               ],
               [
                1,
                "#f0f921"
               ]
              ],
              "type": "histogram2dcontour"
             }
            ],
            "mesh3d": [
             {
              "colorbar": {
               "outlinewidth": 0,
               "ticks": ""
              },
              "type": "mesh3d"
             }
            ],
            "parcoords": [
             {
              "line": {
               "colorbar": {
                "outlinewidth": 0,
                "ticks": ""
               }
              },
              "type": "parcoords"
             }
            ],
            "pie": [
             {
              "automargin": true,
              "type": "pie"
             }
            ],
            "scatter": [
             {
              "fillpattern": {
               "fillmode": "overlay",
               "size": 10,
               "solidity": 0.2
              },
              "type": "scatter"
             }
            ],
            "scatter3d": [
             {
              "line": {
               "colorbar": {
                "outlinewidth": 0,
                "ticks": ""
               }
              },
              "marker": {
               "colorbar": {
                "outlinewidth": 0,
                "ticks": ""
               }
              },
              "type": "scatter3d"
             }
            ],
            "scattercarpet": [
             {
              "marker": {
               "colorbar": {
                "outlinewidth": 0,
                "ticks": ""
               }
              },
              "type": "scattercarpet"
             }
            ],
            "scattergeo": [
             {
              "marker": {
               "colorbar": {
                "outlinewidth": 0,
                "ticks": ""
               }
              },
              "type": "scattergeo"
             }
            ],
            "scattergl": [
             {
              "marker": {
               "colorbar": {
                "outlinewidth": 0,
                "ticks": ""
               }
              },
              "type": "scattergl"
             }
            ],
            "scattermapbox": [
             {
              "marker": {
               "colorbar": {
                "outlinewidth": 0,
                "ticks": ""
               }
              },
              "type": "scattermapbox"
             }
            ],
            "scatterpolar": [
             {
              "marker": {
               "colorbar": {
                "outlinewidth": 0,
                "ticks": ""
               }
              },
              "type": "scatterpolar"
             }
            ],
            "scatterpolargl": [
             {
              "marker": {
               "colorbar": {
                "outlinewidth": 0,
                "ticks": ""
               }
              },
              "type": "scatterpolargl"
             }
            ],
            "scatterternary": [
             {
              "marker": {
               "colorbar": {
                "outlinewidth": 0,
                "ticks": ""
               }
              },
              "type": "scatterternary"
             }
            ],
            "surface": [
             {
              "colorbar": {
               "outlinewidth": 0,
               "ticks": ""
              },
              "colorscale": [
               [
                0,
                "#0d0887"
               ],
               [
                0.1111111111111111,
                "#46039f"
               ],
               [
                0.2222222222222222,
                "#7201a8"
               ],
               [
                0.3333333333333333,
                "#9c179e"
               ],
               [
                0.4444444444444444,
                "#bd3786"
               ],
               [
                0.5555555555555556,
                "#d8576b"
               ],
               [
                0.6666666666666666,
                "#ed7953"
               ],
               [
                0.7777777777777778,
                "#fb9f3a"
               ],
               [
                0.8888888888888888,
                "#fdca26"
               ],
               [
                1,
                "#f0f921"
               ]
              ],
              "type": "surface"
             }
            ],
            "table": [
             {
              "cells": {
               "fill": {
                "color": "#EBF0F8"
               },
               "line": {
                "color": "white"
               }
              },
              "header": {
               "fill": {
                "color": "#C8D4E3"
               },
               "line": {
                "color": "white"
               }
              },
              "type": "table"
             }
            ]
           },
           "layout": {
            "annotationdefaults": {
             "arrowcolor": "#2a3f5f",
             "arrowhead": 0,
             "arrowwidth": 1
            },
            "autotypenumbers": "strict",
            "coloraxis": {
             "colorbar": {
              "outlinewidth": 0,
              "ticks": ""
             }
            },
            "colorscale": {
             "diverging": [
              [
               0,
               "#8e0152"
              ],
              [
               0.1,
               "#c51b7d"
              ],
              [
               0.2,
               "#de77ae"
              ],
              [
               0.3,
               "#f1b6da"
              ],
              [
               0.4,
               "#fde0ef"
              ],
              [
               0.5,
               "#f7f7f7"
              ],
              [
               0.6,
               "#e6f5d0"
              ],
              [
               0.7,
               "#b8e186"
              ],
              [
               0.8,
               "#7fbc41"
              ],
              [
               0.9,
               "#4d9221"
              ],
              [
               1,
               "#276419"
              ]
             ],
             "sequential": [
              [
               0,
               "#0d0887"
              ],
              [
               0.1111111111111111,
               "#46039f"
              ],
              [
               0.2222222222222222,
               "#7201a8"
              ],
              [
               0.3333333333333333,
               "#9c179e"
              ],
              [
               0.4444444444444444,
               "#bd3786"
              ],
              [
               0.5555555555555556,
               "#d8576b"
              ],
              [
               0.6666666666666666,
               "#ed7953"
              ],
              [
               0.7777777777777778,
               "#fb9f3a"
              ],
              [
               0.8888888888888888,
               "#fdca26"
              ],
              [
               1,
               "#f0f921"
              ]
             ],
             "sequentialminus": [
              [
               0,
               "#0d0887"
              ],
              [
               0.1111111111111111,
               "#46039f"
              ],
              [
               0.2222222222222222,
               "#7201a8"
              ],
              [
               0.3333333333333333,
               "#9c179e"
              ],
              [
               0.4444444444444444,
               "#bd3786"
              ],
              [
               0.5555555555555556,
               "#d8576b"
              ],
              [
               0.6666666666666666,
               "#ed7953"
              ],
              [
               0.7777777777777778,
               "#fb9f3a"
              ],
              [
               0.8888888888888888,
               "#fdca26"
              ],
              [
               1,
               "#f0f921"
              ]
             ]
            },
            "colorway": [
             "#636efa",
             "#EF553B",
             "#00cc96",
             "#ab63fa",
             "#FFA15A",
             "#19d3f3",
             "#FF6692",
             "#B6E880",
             "#FF97FF",
             "#FECB52"
            ],
            "font": {
             "color": "#2a3f5f"
            },
            "geo": {
             "bgcolor": "white",
             "lakecolor": "white",
             "landcolor": "white",
             "showlakes": true,
             "showland": true,
             "subunitcolor": "#C8D4E3"
            },
            "hoverlabel": {
             "align": "left"
            },
            "hovermode": "closest",
            "mapbox": {
             "style": "light"
            },
            "paper_bgcolor": "white",
            "plot_bgcolor": "white",
            "polar": {
             "angularaxis": {
              "gridcolor": "#EBF0F8",
              "linecolor": "#EBF0F8",
              "ticks": ""
             },
             "bgcolor": "white",
             "radialaxis": {
              "gridcolor": "#EBF0F8",
              "linecolor": "#EBF0F8",
              "ticks": ""
             }
            },
            "scene": {
             "xaxis": {
              "backgroundcolor": "white",
              "gridcolor": "#DFE8F3",
              "gridwidth": 2,
              "linecolor": "#EBF0F8",
              "showbackground": true,
              "ticks": "",
              "zerolinecolor": "#EBF0F8"
             },
             "yaxis": {
              "backgroundcolor": "white",
              "gridcolor": "#DFE8F3",
              "gridwidth": 2,
              "linecolor": "#EBF0F8",
              "showbackground": true,
              "ticks": "",
              "zerolinecolor": "#EBF0F8"
             },
             "zaxis": {
              "backgroundcolor": "white",
              "gridcolor": "#DFE8F3",
              "gridwidth": 2,
              "linecolor": "#EBF0F8",
              "showbackground": true,
              "ticks": "",
              "zerolinecolor": "#EBF0F8"
             }
            },
            "shapedefaults": {
             "line": {
              "color": "#2a3f5f"
             }
            },
            "ternary": {
             "aaxis": {
              "gridcolor": "#DFE8F3",
              "linecolor": "#A2B1C6",
              "ticks": ""
             },
             "baxis": {
              "gridcolor": "#DFE8F3",
              "linecolor": "#A2B1C6",
              "ticks": ""
             },
             "bgcolor": "white",
             "caxis": {
              "gridcolor": "#DFE8F3",
              "linecolor": "#A2B1C6",
              "ticks": ""
             }
            },
            "title": {
             "x": 0.05
            },
            "xaxis": {
             "automargin": true,
             "gridcolor": "#EBF0F8",
             "linecolor": "#EBF0F8",
             "ticks": "",
             "title": {
              "standoff": 15
             },
             "zerolinecolor": "#EBF0F8",
             "zerolinewidth": 2
            },
            "yaxis": {
             "automargin": true,
             "gridcolor": "#EBF0F8",
             "linecolor": "#EBF0F8",
             "ticks": "",
             "title": {
              "standoff": 15
             },
             "zerolinecolor": "#EBF0F8",
             "zerolinewidth": 2
            }
           }
          },
          "xaxis": {
           "automargin": true,
           "autorange": false,
           "fixedrange": true,
           "linecolor": "#444",
           "linewidth": 2,
           "minor": {
            "tickmode": "linear",
            "ticks": "outside"
           },
           "mirror": true,
           "showline": true,
           "tickmode": "linear",
           "ticks": "outside",
           "zeroline": false
          },
          "yaxis": {
           "automargin": true,
           "autorange": false,
           "fixedrange": true,
           "linecolor": "#444",
           "linewidth": 2,
           "minor": {
            "tickmode": "linear",
            "ticks": "outside"
           },
           "mirror": true,
           "showline": true,
           "tickmode": "linear",
           "ticks": "outside",
           "zeroline": false
          }
         }
        },
        "xaxis": {
         "dtick": 5,
         "minor": {
          "dtick": 1,
          "tick0": 0
         },
         "range": [
          0.8,
          20.2
         ],
         "tick0": 0,
         "title": {
          "text": "level"
         }
        },
        "yaxis": {
         "dtick": 10,
         "minor": {
          "dtick": 5,
          "tick0": 0
         },
         "range": [
          0,
          100
         ],
         "tick0": 0,
         "title": {
          "text": "effective damage per round"
         }
        }
       }
      }
     },
     "metadata": {},
     "output_type": "display_data"
    }
   ],
   "source": [
    "# Plots average daily effective DPR for PCs, calculated for a full adventuring day with two short rests.\n",
    "levels = np.array(range(1,21,1))\n",
    "\n",
    "fig = go.Figure(\n",
    "    layout=go.Layout(\n",
    "        template=TFB_TEMPLATE,\n",
    "        xaxis=dict(\n",
    "            title_text='level',\n",
    "            range=[0.8, 20.2],\n",
    "            tick0=0, dtick=5,\n",
    "            minor=dict(tick0=0, dtick=1),\n",
    "        ),\n",
    "        yaxis=dict(\n",
    "            title_text='effective damage per round',\n",
    "            range=[0, 100],\n",
    "            tick0=0, dtick=10.0,\n",
    "            minor=dict(tick0=0, dtick=5.0),\n",
    "        ),\n",
    "        legend=dict(\n",
    "            yanchor='top',  y=0.99,\n",
    "            xanchor='left', x=0.01,\n",
    "            orientation='v',\n",
    "        )\n",
    "    )\n",
    ")\n",
    "\n",
    "for diff in ['Easy','Medium','Hard','Deadly']:\n",
    "    d = ENCOUNTER_DIFFICULTIES[diff]\n",
    "    pc_data_file = f'../xp-and-player-characters/pc data - {diff} 2 short rests.json'\n",
    "\n",
    "    with open(pc_data_file, 'r') as fin:\n",
    "        pc_data = json.load(fin)\n",
    "\n",
    "    eDPR = np.zeros(20)\n",
    "    for pc_class in PC_CLASSES:\n",
    "        eDPR += np.array([x['effective damage per round mean'] for x in pc_data[pc_class]])\n",
    "    eDPR /= len(PC_CLASSES)\n",
    "\n",
    "    fig.add_trace(go.Scatter(\n",
    "        x=levels, \n",
    "        y=eDPR,\n",
    "        mode='lines+markers', \n",
    "        line=dict(color=d['color'], dash='solid'),\n",
    "        unselected=dict(marker=dict(opacity=0.0)),\n",
    "        name=diff + ' encounters',\n",
    "        hovertemplate=\n",
    "            '<b>' + diff + ' encounters</b><br>'+\n",
    "            'lvl %{x}<br>'+\n",
    "            'eDPR %{y:.1f}'+\n",
    "            '<extra></extra>'\n",
    "    ))\n",
    "\n",
    "# show figure\n",
    "fig.show(config=TFB_CONFIG)\n",
    "\n",
    "# save large format figure\n",
    "if SAVEFIGS:\n",
    "    file_name = f'./fig-full-daily-edpr-vs-level-adventuring-days-large.html'\n",
    "    fig_html = fig.to_html(\n",
    "        include_plotlyjs=False, \n",
    "        full_html=False, \n",
    "        config=TFB_CONFIG\n",
    "    )\n",
    "    fig_soup = BeautifulSoup(fig_html, 'html.parser')\n",
    "    fig_soup.div['class'] = 'plotly-div-large'\n",
    "    with open(file_name, 'wb') as fout:\n",
    "        fout.write(fig_soup.prettify('utf-8'))\n",
    "\n",
    "# save small format figure\n",
    "if SAVEFIGS:\n",
    "    fig.update_traces(marker=dict(size=4))\n",
    "    fig.update_layout(font=dict(size=10))\n",
    "    file_name = f'./fig-full-daily-edpr-vs-level-adventuring-days-small.html'\n",
    "    fig_html = fig.to_html(\n",
    "        include_plotlyjs=False, \n",
    "        full_html=False, \n",
    "        config=TFB_CONFIG\n",
    "    )\n",
    "    fig_soup = BeautifulSoup(fig_html, 'html.parser')\n",
    "    fig_soup.div['class'] = 'plotly-div-small'\n",
    "    with open(file_name, 'wb') as fout:\n",
    "        fout.write(fig_soup.prettify('utf-8'))"
   ]
  },
  {
   "cell_type": "code",
   "execution_count": 5,
   "metadata": {},
   "outputs": [
    {
     "name": "stdout",
     "output_type": "stream",
     "text": [
      "Easy 0.9171542987995448 0.9116259477095588\n",
      "Medium 1.0 1.0\n",
      "Hard 1.055394325976669 1.0564325231623914\n",
      "Deadly 1.1162567096155165 1.1201164734924733\n"
     ]
    },
    {
     "data": {
      "application/vnd.plotly.v1+json": {
       "config": {
        "autosizable": true,
        "displayModeBar": "hover",
        "displaylogo": false,
        "modeBarButtonsToRemove": [
         "select2d",
         "lasso2d",
         "zoom2d",
         "zoomIn2d",
         "zoomOut2d",
         "pan2d",
         "autoScale2d",
         "hoverClosestCartesian",
         "hoverCompareCartesian",
         "toggleSpikelines",
         "resetScale2d"
        ],
        "plotlyServerURL": "https://plot.ly",
        "responsive": true,
        "showAxisDragHandles": false,
        "toImageButtonOptions": {
         "filename": "tfb-plot",
         "format": "png",
         "height": 450,
         "scale": 2,
         "width": 600
        }
       },
       "data": [
        {
         "hovertemplate": "<b>Easy encounters</b><br>lvl %{x}<br>XP ratio %{y:.2f}<extra></extra>",
         "mode": "markers+lines",
         "name": "Easy encounters",
         "showlegend": true,
         "type": "scatter",
         "x": [
          1,
          2,
          3,
          4,
          5,
          6,
          7,
          8,
          9,
          10,
          11,
          12,
          13,
          14,
          15,
          16,
          17,
          18,
          19,
          20
         ],
         "y": [
          0.9826833248975316,
          0.9583651717497902,
          0.9472809884616384,
          0.9300280134597494,
          0.9445909120315877,
          0.9368816397585558,
          0.9249949183852687,
          0.9344305022248595,
          0.909875301972992,
          0.9133765934461257,
          0.9262230758399741,
          0.9033853171882616,
          0.9013128672978319,
          0.9084625885508252,
          0.8976472383305977,
          0.8984107327989044,
          0.8913484758065574,
          0.860783201477948,
          0.8656051437503768,
          0.9073999685615219
         ]
        },
        {
         "hovertemplate": "<b>Medium encounters</b><br>lvl %{x}<br>XP ratio %{y:.2f}<extra></extra>",
         "mode": "markers+lines",
         "name": "Medium encounters",
         "showlegend": true,
         "type": "scatter",
         "x": [
          1,
          2,
          3,
          4,
          5,
          6,
          7,
          8,
          9,
          10,
          11,
          12,
          13,
          14,
          15,
          16,
          17,
          18,
          19,
          20
         ],
         "y": [
          1,
          1,
          1,
          1,
          1,
          1,
          1,
          1,
          1,
          1,
          1,
          1,
          1,
          1,
          1,
          1,
          1,
          1,
          1,
          1
         ]
        },
        {
         "hovertemplate": "<b>Hard encounters</b><br>lvl %{x}<br>XP ratio %{y:.2f}<extra></extra>",
         "mode": "markers+lines",
         "name": "Hard encounters",
         "showlegend": true,
         "type": "scatter",
         "x": [
          1,
          2,
          3,
          4,
          5,
          6,
          7,
          8,
          9,
          10,
          11,
          12,
          13,
          14,
          15,
          16,
          17,
          18,
          19,
          20
         ],
         "y": [
          1.0210992791829787,
          1.0383468600262984,
          1.046080955057395,
          1.0435025574155665,
          1.0462535861487217,
          1.0656270560305108,
          1.0444514979809771,
          1.0691353920391657,
          1.0576989027216435,
          1.0732610765528372,
          1.079498794400977,
          1.0555577941247114,
          1.060143998239485,
          1.0591960720054439,
          1.0560738315419724,
          1.076465853160654,
          1.046167165434835,
          1.0521250652006116,
          1.0604095674857805,
          1.0567912147828105
         ]
        },
        {
         "hovertemplate": "<b>Deadly encounters</b><br>lvl %{x}<br>XP ratio %{y:.2f}<extra></extra>",
         "mode": "markers+lines",
         "name": "Deadly encounters",
         "showlegend": true,
         "type": "scatter",
         "x": [
          1,
          2,
          3,
          4,
          5,
          6,
          7,
          8,
          9,
          10,
          11,
          12,
          13,
          14,
          15,
          16,
          17,
          18,
          19,
          20
         ],
         "y": [
          1.0391250887747268,
          1.0723170094623753,
          1.1369296043471921,
          1.1182622533224231,
          1.1124065399203613,
          1.1074738249562115,
          1.1169616372541549,
          1.1147523727546143,
          1.1268053595094965,
          1.1415264073228661,
          1.1370762859749795,
          1.1005446958154586,
          1.1290402714785681,
          1.1271754329171502,
          1.1254361876299195,
          1.1468191735695152,
          1.1088435691161571,
          1.113290689308282,
          1.1283770952133543,
          1.1219706936625236
         ]
        }
       ],
       "layout": {
        "legend": {
         "orientation": "h",
         "x": 0.01,
         "xanchor": "left",
         "y": 0.99,
         "yanchor": "top"
        },
        "template": {
         "layout": {
          "autosize": true,
          "font": {
           "family": "sans-serif",
           "size": 14
          },
          "hovermode": "closest",
          "legend": {
           "font": {
            "size": 10
           }
          },
          "margin": {
           "b": 40,
           "l": 50,
           "pad": 4,
           "r": 25,
           "t": 20
          },
          "template": {
           "data": {
            "bar": [
             {
              "error_x": {
               "color": "#2a3f5f"
              },
              "error_y": {
               "color": "#2a3f5f"
              },
              "marker": {
               "line": {
                "color": "white",
                "width": 0.5
               },
               "pattern": {
                "fillmode": "overlay",
                "size": 10,
                "solidity": 0.2
               }
              },
              "type": "bar"
             }
            ],
            "barpolar": [
             {
              "marker": {
               "line": {
                "color": "white",
                "width": 0.5
               },
               "pattern": {
                "fillmode": "overlay",
                "size": 10,
                "solidity": 0.2
               }
              },
              "type": "barpolar"
             }
            ],
            "carpet": [
             {
              "aaxis": {
               "endlinecolor": "#2a3f5f",
               "gridcolor": "#C8D4E3",
               "linecolor": "#C8D4E3",
               "minorgridcolor": "#C8D4E3",
               "startlinecolor": "#2a3f5f"
              },
              "baxis": {
               "endlinecolor": "#2a3f5f",
               "gridcolor": "#C8D4E3",
               "linecolor": "#C8D4E3",
               "minorgridcolor": "#C8D4E3",
               "startlinecolor": "#2a3f5f"
              },
              "type": "carpet"
             }
            ],
            "choropleth": [
             {
              "colorbar": {
               "outlinewidth": 0,
               "ticks": ""
              },
              "type": "choropleth"
             }
            ],
            "contour": [
             {
              "colorbar": {
               "outlinewidth": 0,
               "ticks": ""
              },
              "colorscale": [
               [
                0,
                "#0d0887"
               ],
               [
                0.1111111111111111,
                "#46039f"
               ],
               [
                0.2222222222222222,
                "#7201a8"
               ],
               [
                0.3333333333333333,
                "#9c179e"
               ],
               [
                0.4444444444444444,
                "#bd3786"
               ],
               [
                0.5555555555555556,
                "#d8576b"
               ],
               [
                0.6666666666666666,
                "#ed7953"
               ],
               [
                0.7777777777777778,
                "#fb9f3a"
               ],
               [
                0.8888888888888888,
                "#fdca26"
               ],
               [
                1,
                "#f0f921"
               ]
              ],
              "type": "contour"
             }
            ],
            "contourcarpet": [
             {
              "colorbar": {
               "outlinewidth": 0,
               "ticks": ""
              },
              "type": "contourcarpet"
             }
            ],
            "heatmap": [
             {
              "colorbar": {
               "outlinewidth": 0,
               "ticks": ""
              },
              "colorscale": [
               [
                0,
                "#0d0887"
               ],
               [
                0.1111111111111111,
                "#46039f"
               ],
               [
                0.2222222222222222,
                "#7201a8"
               ],
               [
                0.3333333333333333,
                "#9c179e"
               ],
               [
                0.4444444444444444,
                "#bd3786"
               ],
               [
                0.5555555555555556,
                "#d8576b"
               ],
               [
                0.6666666666666666,
                "#ed7953"
               ],
               [
                0.7777777777777778,
                "#fb9f3a"
               ],
               [
                0.8888888888888888,
                "#fdca26"
               ],
               [
                1,
                "#f0f921"
               ]
              ],
              "type": "heatmap"
             }
            ],
            "heatmapgl": [
             {
              "colorbar": {
               "outlinewidth": 0,
               "ticks": ""
              },
              "colorscale": [
               [
                0,
                "#0d0887"
               ],
               [
                0.1111111111111111,
                "#46039f"
               ],
               [
                0.2222222222222222,
                "#7201a8"
               ],
               [
                0.3333333333333333,
                "#9c179e"
               ],
               [
                0.4444444444444444,
                "#bd3786"
               ],
               [
                0.5555555555555556,
                "#d8576b"
               ],
               [
                0.6666666666666666,
                "#ed7953"
               ],
               [
                0.7777777777777778,
                "#fb9f3a"
               ],
               [
                0.8888888888888888,
                "#fdca26"
               ],
               [
                1,
                "#f0f921"
               ]
              ],
              "type": "heatmapgl"
             }
            ],
            "histogram": [
             {
              "marker": {
               "pattern": {
                "fillmode": "overlay",
                "size": 10,
                "solidity": 0.2
               }
              },
              "type": "histogram"
             }
            ],
            "histogram2d": [
             {
              "colorbar": {
               "outlinewidth": 0,
               "ticks": ""
              },
              "colorscale": [
               [
                0,
                "#0d0887"
               ],
               [
                0.1111111111111111,
                "#46039f"
               ],
               [
                0.2222222222222222,
                "#7201a8"
               ],
               [
                0.3333333333333333,
                "#9c179e"
               ],
               [
                0.4444444444444444,
                "#bd3786"
               ],
               [
                0.5555555555555556,
                "#d8576b"
               ],
               [
                0.6666666666666666,
                "#ed7953"
               ],
               [
                0.7777777777777778,
                "#fb9f3a"
               ],
               [
                0.8888888888888888,
                "#fdca26"
               ],
               [
                1,
                "#f0f921"
               ]
              ],
              "type": "histogram2d"
             }
            ],
            "histogram2dcontour": [
             {
              "colorbar": {
               "outlinewidth": 0,
               "ticks": ""
              },
              "colorscale": [
               [
                0,
                "#0d0887"
               ],
               [
                0.1111111111111111,
                "#46039f"
               ],
               [
                0.2222222222222222,
                "#7201a8"
               ],
               [
                0.3333333333333333,
                "#9c179e"
               ],
               [
                0.4444444444444444,
                "#bd3786"
               ],
               [
                0.5555555555555556,
                "#d8576b"
               ],
               [
                0.6666666666666666,
                "#ed7953"
               ],
               [
                0.7777777777777778,
                "#fb9f3a"
               ],
               [
                0.8888888888888888,
                "#fdca26"
               ],
               [
                1,
                "#f0f921"
               ]
              ],
              "type": "histogram2dcontour"
             }
            ],
            "mesh3d": [
             {
              "colorbar": {
               "outlinewidth": 0,
               "ticks": ""
              },
              "type": "mesh3d"
             }
            ],
            "parcoords": [
             {
              "line": {
               "colorbar": {
                "outlinewidth": 0,
                "ticks": ""
               }
              },
              "type": "parcoords"
             }
            ],
            "pie": [
             {
              "automargin": true,
              "type": "pie"
             }
            ],
            "scatter": [
             {
              "fillpattern": {
               "fillmode": "overlay",
               "size": 10,
               "solidity": 0.2
              },
              "type": "scatter"
             }
            ],
            "scatter3d": [
             {
              "line": {
               "colorbar": {
                "outlinewidth": 0,
                "ticks": ""
               }
              },
              "marker": {
               "colorbar": {
                "outlinewidth": 0,
                "ticks": ""
               }
              },
              "type": "scatter3d"
             }
            ],
            "scattercarpet": [
             {
              "marker": {
               "colorbar": {
                "outlinewidth": 0,
                "ticks": ""
               }
              },
              "type": "scattercarpet"
             }
            ],
            "scattergeo": [
             {
              "marker": {
               "colorbar": {
                "outlinewidth": 0,
                "ticks": ""
               }
              },
              "type": "scattergeo"
             }
            ],
            "scattergl": [
             {
              "marker": {
               "colorbar": {
                "outlinewidth": 0,
                "ticks": ""
               }
              },
              "type": "scattergl"
             }
            ],
            "scattermapbox": [
             {
              "marker": {
               "colorbar": {
                "outlinewidth": 0,
                "ticks": ""
               }
              },
              "type": "scattermapbox"
             }
            ],
            "scatterpolar": [
             {
              "marker": {
               "colorbar": {
                "outlinewidth": 0,
                "ticks": ""
               }
              },
              "type": "scatterpolar"
             }
            ],
            "scatterpolargl": [
             {
              "marker": {
               "colorbar": {
                "outlinewidth": 0,
                "ticks": ""
               }
              },
              "type": "scatterpolargl"
             }
            ],
            "scatterternary": [
             {
              "marker": {
               "colorbar": {
                "outlinewidth": 0,
                "ticks": ""
               }
              },
              "type": "scatterternary"
             }
            ],
            "surface": [
             {
              "colorbar": {
               "outlinewidth": 0,
               "ticks": ""
              },
              "colorscale": [
               [
                0,
                "#0d0887"
               ],
               [
                0.1111111111111111,
                "#46039f"
               ],
               [
                0.2222222222222222,
                "#7201a8"
               ],
               [
                0.3333333333333333,
                "#9c179e"
               ],
               [
                0.4444444444444444,
                "#bd3786"
               ],
               [
                0.5555555555555556,
                "#d8576b"
               ],
               [
                0.6666666666666666,
                "#ed7953"
               ],
               [
                0.7777777777777778,
                "#fb9f3a"
               ],
               [
                0.8888888888888888,
                "#fdca26"
               ],
               [
                1,
                "#f0f921"
               ]
              ],
              "type": "surface"
             }
            ],
            "table": [
             {
              "cells": {
               "fill": {
                "color": "#EBF0F8"
               },
               "line": {
                "color": "white"
               }
              },
              "header": {
               "fill": {
                "color": "#C8D4E3"
               },
               "line": {
                "color": "white"
               }
              },
              "type": "table"
             }
            ]
           },
           "layout": {
            "annotationdefaults": {
             "arrowcolor": "#2a3f5f",
             "arrowhead": 0,
             "arrowwidth": 1
            },
            "autotypenumbers": "strict",
            "coloraxis": {
             "colorbar": {
              "outlinewidth": 0,
              "ticks": ""
             }
            },
            "colorscale": {
             "diverging": [
              [
               0,
               "#8e0152"
              ],
              [
               0.1,
               "#c51b7d"
              ],
              [
               0.2,
               "#de77ae"
              ],
              [
               0.3,
               "#f1b6da"
              ],
              [
               0.4,
               "#fde0ef"
              ],
              [
               0.5,
               "#f7f7f7"
              ],
              [
               0.6,
               "#e6f5d0"
              ],
              [
               0.7,
               "#b8e186"
              ],
              [
               0.8,
               "#7fbc41"
              ],
              [
               0.9,
               "#4d9221"
              ],
              [
               1,
               "#276419"
              ]
             ],
             "sequential": [
              [
               0,
               "#0d0887"
              ],
              [
               0.1111111111111111,
               "#46039f"
              ],
              [
               0.2222222222222222,
               "#7201a8"
              ],
              [
               0.3333333333333333,
               "#9c179e"
              ],
              [
               0.4444444444444444,
               "#bd3786"
              ],
              [
               0.5555555555555556,
               "#d8576b"
              ],
              [
               0.6666666666666666,
               "#ed7953"
              ],
              [
               0.7777777777777778,
               "#fb9f3a"
              ],
              [
               0.8888888888888888,
               "#fdca26"
              ],
              [
               1,
               "#f0f921"
              ]
             ],
             "sequentialminus": [
              [
               0,
               "#0d0887"
              ],
              [
               0.1111111111111111,
               "#46039f"
              ],
              [
               0.2222222222222222,
               "#7201a8"
              ],
              [
               0.3333333333333333,
               "#9c179e"
              ],
              [
               0.4444444444444444,
               "#bd3786"
              ],
              [
               0.5555555555555556,
               "#d8576b"
              ],
              [
               0.6666666666666666,
               "#ed7953"
              ],
              [
               0.7777777777777778,
               "#fb9f3a"
              ],
              [
               0.8888888888888888,
               "#fdca26"
              ],
              [
               1,
               "#f0f921"
              ]
             ]
            },
            "colorway": [
             "#636efa",
             "#EF553B",
             "#00cc96",
             "#ab63fa",
             "#FFA15A",
             "#19d3f3",
             "#FF6692",
             "#B6E880",
             "#FF97FF",
             "#FECB52"
            ],
            "font": {
             "color": "#2a3f5f"
            },
            "geo": {
             "bgcolor": "white",
             "lakecolor": "white",
             "landcolor": "white",
             "showlakes": true,
             "showland": true,
             "subunitcolor": "#C8D4E3"
            },
            "hoverlabel": {
             "align": "left"
            },
            "hovermode": "closest",
            "mapbox": {
             "style": "light"
            },
            "paper_bgcolor": "white",
            "plot_bgcolor": "white",
            "polar": {
             "angularaxis": {
              "gridcolor": "#EBF0F8",
              "linecolor": "#EBF0F8",
              "ticks": ""
             },
             "bgcolor": "white",
             "radialaxis": {
              "gridcolor": "#EBF0F8",
              "linecolor": "#EBF0F8",
              "ticks": ""
             }
            },
            "scene": {
             "xaxis": {
              "backgroundcolor": "white",
              "gridcolor": "#DFE8F3",
              "gridwidth": 2,
              "linecolor": "#EBF0F8",
              "showbackground": true,
              "ticks": "",
              "zerolinecolor": "#EBF0F8"
             },
             "yaxis": {
              "backgroundcolor": "white",
              "gridcolor": "#DFE8F3",
              "gridwidth": 2,
              "linecolor": "#EBF0F8",
              "showbackground": true,
              "ticks": "",
              "zerolinecolor": "#EBF0F8"
             },
             "zaxis": {
              "backgroundcolor": "white",
              "gridcolor": "#DFE8F3",
              "gridwidth": 2,
              "linecolor": "#EBF0F8",
              "showbackground": true,
              "ticks": "",
              "zerolinecolor": "#EBF0F8"
             }
            },
            "shapedefaults": {
             "line": {
              "color": "#2a3f5f"
             }
            },
            "ternary": {
             "aaxis": {
              "gridcolor": "#DFE8F3",
              "linecolor": "#A2B1C6",
              "ticks": ""
             },
             "baxis": {
              "gridcolor": "#DFE8F3",
              "linecolor": "#A2B1C6",
              "ticks": ""
             },
             "bgcolor": "white",
             "caxis": {
              "gridcolor": "#DFE8F3",
              "linecolor": "#A2B1C6",
              "ticks": ""
             }
            },
            "title": {
             "x": 0.05
            },
            "xaxis": {
             "automargin": true,
             "gridcolor": "#EBF0F8",
             "linecolor": "#EBF0F8",
             "ticks": "",
             "title": {
              "standoff": 15
             },
             "zerolinecolor": "#EBF0F8",
             "zerolinewidth": 2
            },
            "yaxis": {
             "automargin": true,
             "gridcolor": "#EBF0F8",
             "linecolor": "#EBF0F8",
             "ticks": "",
             "title": {
              "standoff": 15
             },
             "zerolinecolor": "#EBF0F8",
             "zerolinewidth": 2
            }
           }
          },
          "xaxis": {
           "automargin": true,
           "autorange": false,
           "fixedrange": true,
           "linecolor": "#444",
           "linewidth": 2,
           "minor": {
            "tickmode": "linear",
            "ticks": "outside"
           },
           "mirror": true,
           "showline": true,
           "tickmode": "linear",
           "ticks": "outside",
           "zeroline": false
          },
          "yaxis": {
           "automargin": true,
           "autorange": false,
           "fixedrange": true,
           "linecolor": "#444",
           "linewidth": 2,
           "minor": {
            "tickmode": "linear",
            "ticks": "outside"
           },
           "mirror": true,
           "showline": true,
           "tickmode": "linear",
           "ticks": "outside",
           "zeroline": false
          }
         }
        },
        "xaxis": {
         "dtick": 5,
         "minor": {
          "dtick": 1,
          "tick0": 0
         },
         "range": [
          0.8,
          20.2
         ],
         "tick0": 0,
         "title": {
          "text": "level"
         }
        },
        "yaxis": {
         "dtick": 0.1,
         "minor": {
          "dtick": 0.05,
          "tick0": 0
         },
         "range": [
          0.8,
          1.3
         ],
         "tick0": 0,
         "title": {
          "text": "daily XP / Medium daily XP"
         }
        }
       }
      }
     },
     "metadata": {},
     "output_type": "display_data"
    }
   ],
   "source": [
    "# Plots average daily XP for PCs relative to Medium adventuring day, calculated for a full adventuring day with two short rests.\n",
    "levels = np.array(range(1,21,1))\n",
    "\n",
    "fig = go.Figure(\n",
    "    layout=go.Layout(\n",
    "        template=TFB_TEMPLATE,\n",
    "        xaxis=dict(\n",
    "            title_text='level',\n",
    "            range=[0.8, 20.2],\n",
    "            tick0=0, dtick=5,\n",
    "            minor=dict(tick0=0, dtick=1),\n",
    "        ),\n",
    "        yaxis=dict(\n",
    "            title_text='daily XP / Medium daily XP',\n",
    "            range=[0.8, 1.3],\n",
    "            tick0=0, dtick=0.1,\n",
    "            minor=dict(tick0=0, dtick=0.05),\n",
    "        ),\n",
    "        legend=dict(\n",
    "            yanchor='top',  y=0.99,\n",
    "            xanchor='left', x=0.01,\n",
    "            orientation='h',\n",
    "        )\n",
    "    )\n",
    ")\n",
    "\n",
    "enc_XP_budget = np.array(ENCOUNTER_DIFFICULTIES['Daily']['XP'])\n",
    "diffs = {\n",
    "    'Easy': {\n",
    "        'daily XP': np.zeros(20)\n",
    "    },\n",
    "    'Medium': {\n",
    "        'daily XP': np.zeros(20)\n",
    "    },\n",
    "    'Hard': {\n",
    "        'daily XP': np.zeros(20)\n",
    "    },\n",
    "    'Deadly': {\n",
    "        'daily XP': np.zeros(20)\n",
    "    }\n",
    "}\n",
    "for d in diffs:\n",
    "    diff = diffs[d]\n",
    "    ediff = ENCOUNTER_DIFFICULTIES[d]\n",
    "    pc_data_file = f'../xp-and-player-characters/pc data - {d} 2 short rests.json'\n",
    "\n",
    "    with open(pc_data_file, 'r') as fin:\n",
    "        pc_data = json.load(fin)\n",
    "\n",
    "    enc_XP = np.zeros(20)\n",
    "    for pc_class in PC_CLASSES:\n",
    "        enc_XP += np.array([x['XP mean'] for x in pc_data[pc_class]])\n",
    "    enc_XP /= len(PC_CLASSES)\n",
    "    diff['daily XP'] = enc_XP/enc_XP_budget\n",
    "\n",
    "for d in diffs:\n",
    "    y = diffs[d]['daily XP']/diffs['Medium']['daily XP']\n",
    "    fig.add_trace(go.Scatter(\n",
    "        x=levels, \n",
    "        y=y,\n",
    "        mode='markers+lines', \n",
    "        #line=dict(color='black', dash='dash'),\n",
    "        name=d+' encounters',\n",
    "        showlegend=True,\n",
    "        hovertemplate=\n",
    "            '<b>' + d + ' encounters</b><br>'+\n",
    "            'lvl %{x}<br>'+\n",
    "            'XP ratio %{y:.2f}'+\n",
    "            '<extra></extra>'\n",
    "    ))\n",
    "    print(d, y.mean(), np.median(y))\n",
    "\n",
    "# show figure\n",
    "fig.show(config=TFB_CONFIG)\n",
    "\n",
    "# save small format figure\n",
    "if SAVEFIGS:\n",
    "    file_name = f'./fig-daily-xp-ratio-vs-level-large.html'\n",
    "    fig_html = fig.to_html(\n",
    "        include_plotlyjs=False, \n",
    "        full_html=False, \n",
    "        config=TFB_CONFIG\n",
    "    )\n",
    "    fig_soup = BeautifulSoup(fig_html, 'html.parser')\n",
    "    fig_soup.div['class'] = 'plotly-div-large'\n",
    "    with open(file_name, 'wb') as fout:\n",
    "        fout.write(fig_soup.prettify('utf-8'))\n",
    "\n",
    "# save small format figure\n",
    "if SAVEFIGS:\n",
    "    fig.update_traces(marker=dict(size=4))\n",
    "    fig.update_layout(font=dict(size=10))\n",
    "    file_name = f'./fig-daily-xp-ratio-vs-level-small.html'\n",
    "    fig_html = fig.to_html(\n",
    "        include_plotlyjs=False, \n",
    "        full_html=False, \n",
    "        config=TFB_CONFIG\n",
    "    )\n",
    "    fig_soup = BeautifulSoup(fig_html, 'html.parser')\n",
    "    fig_soup.div['class'] = 'plotly-div-small'\n",
    "    with open(file_name, 'wb') as fout:\n",
    "        fout.write(fig_soup.prettify('utf-8'))"
   ]
  },
  {
   "cell_type": "code",
   "execution_count": 7,
   "metadata": {},
   "outputs": [
    {
     "data": {
      "application/vnd.plotly.v1+json": {
       "config": {
        "autosizable": true,
        "displayModeBar": "hover",
        "displaylogo": false,
        "modeBarButtonsToRemove": [
         "select2d",
         "lasso2d",
         "zoom2d",
         "zoomIn2d",
         "zoomOut2d",
         "pan2d",
         "autoScale2d",
         "hoverClosestCartesian",
         "hoverCompareCartesian",
         "toggleSpikelines",
         "resetScale2d"
        ],
        "plotlyServerURL": "https://plot.ly",
        "responsive": true,
        "showAxisDragHandles": false,
        "toImageButtonOptions": {
         "filename": "tfb-plot",
         "format": "png",
         "height": 450,
         "scale": 2,
         "width": 600
        }
       },
       "data": [
        {
         "hovertemplate": "<b>Barbarian</b><br>level %{x}<br>XP delta %{y:.2f}<extra></extra>",
         "line": {
          "color": "#E7623E",
          "dash": "solid"
         },
         "mode": "lines+markers",
         "name": "Barbarian",
         "type": "scatter",
         "unselected": {
          "marker": {
           "opacity": 0
          }
         },
         "x": [
          1,
          2,
          3,
          4,
          5,
          6,
          7,
          8,
          9,
          10,
          11,
          12,
          13,
          14,
          15,
          16,
          17,
          18,
          19,
          20
         ],
         "y": [
          1.2353283538655546,
          1.2353283538655546,
          1.4172015404364569,
          1.342642320085929,
          1.3596004439511655,
          1.2327416173570023,
          1.2327416173570018,
          1.2265293761356753,
          1.2506724045185584,
          1.2922599908130454,
          1.2506724045185582,
          1.0650683574400637,
          1.0919117647058825,
          1.0919117647058822,
          1.0867542419266558,
          1.0950771364187903,
          1.0000000000000002,
          1.0000000000000002,
          1.0000000000000002,
          1.0000000000000002
         ]
        },
        {
         "hovertemplate": "<b>Bard</b><br>level %{x}<br>XP delta %{y:.2f}<extra></extra>",
         "line": {
          "color": "#AB6DAC",
          "dash": "solid"
         },
         "mode": "lines+markers",
         "name": "Bard",
         "type": "scatter",
         "unselected": {
          "marker": {
           "opacity": 0
          }
         },
         "x": [
          1,
          2,
          3,
          4,
          5,
          6,
          7,
          8,
          9,
          10,
          11,
          12,
          13,
          14,
          15,
          16,
          17,
          18,
          19,
          20
         ],
         "y": [
          1.0400789598297573,
          1.0557158857722149,
          1.1512759270898807,
          1.145791500857946,
          1.1191072173550272,
          1.1602229863405094,
          1.189230515684288,
          1.2042745052616226,
          1.2071354857732568,
          1.2644613641903613,
          1.2204529024442663,
          1.1738771179069687,
          1.233451778245967,
          1.233451778245967,
          1.2502852795739827,
          1.3074996830226957,
          1.2152530568023525,
          1.2152530568023525,
          1.230555414988903,
          1.2618913270351182
         ]
        },
        {
         "hovertemplate": "<b>Cleric</b><br>level %{x}<br>XP delta %{y:.2f}<extra></extra>",
         "line": {
          "color": "#91A1B2",
          "dash": "solid"
         },
         "mode": "lines+markers",
         "name": "Cleric",
         "type": "scatter",
         "unselected": {
          "marker": {
           "opacity": 0
          }
         },
         "x": [
          1,
          2,
          3,
          4,
          5,
          6,
          7,
          8,
          9,
          10,
          11,
          12,
          13,
          14,
          15,
          16,
          17,
          18,
          19,
          20
         ],
         "y": [
          1.0359712230215827,
          1.0515463917525771,
          1.1459459459459458,
          1.1401098901098903,
          1.088235294117647,
          1.1242603550295858,
          1.152368758002561,
          1.1094984679890338,
          1.1238807964720032,
          1.1460969597370583,
          1.1326644370122632,
          1.1157407407407407,
          1.160377358490566,
          1.1603773584905661,
          1.1660102697043722,
          1.2098185353208035,
          1.1396423376401128,
          1.139642337640113,
          1.1668517490283177,
          1.167944417824629
         ]
        },
        {
         "hovertemplate": "<b>Druid</b><br>level %{x}<br>XP delta %{y:.2f}<extra></extra>",
         "line": {
          "color": "#7A853B",
          "dash": "solid"
         },
         "mode": "lines+markers",
         "name": "Druid",
         "type": "scatter",
         "unselected": {
          "marker": {
           "opacity": 0
          }
         },
         "x": [
          1,
          2,
          3,
          4,
          5,
          6,
          7,
          8,
          9,
          10,
          11,
          12,
          13,
          14,
          15,
          16,
          17,
          18,
          19,
          20
         ],
         "y": [
          1.0359712230215827,
          1.0515463917525771,
          1.145945945945946,
          1.14010989010989,
          1.088235294117647,
          1.1242603550295858,
          1.1523687580025608,
          1.1769046301420405,
          1.180893409995577,
          1.206985847636254,
          1.182313749242883,
          1.156614219114219,
          1.2087827426810476,
          1.2087827426810478,
          1.20979020979021,
          1.2651515151515151,
          1.1773504273504274,
          1.1773504273504274,
          1.2001713306681896,
          1.2084779375309866
         ]
        },
        {
         "hovertemplate": "<b>Fighter</b><br>level %{x}<br>XP delta %{y:.2f}<extra></extra>",
         "line": {
          "color": "#7F513E",
          "dash": "solid"
         },
         "mode": "lines+markers",
         "name": "Fighter",
         "type": "scatter",
         "unselected": {
          "marker": {
           "opacity": 0
          }
         },
         "x": [
          1,
          2,
          3,
          4,
          5,
          6,
          7,
          8,
          9,
          10,
          11,
          12,
          13,
          14,
          15,
          16,
          17,
          18,
          19,
          20
         ],
         "y": [
          1,
          1.054945054945055,
          1.0666666666666667,
          1.0559006211180124,
          1.0625,
          1.0702341137123745,
          1.0702341137123745,
          1.0702341137123748,
          1.0559006211180122,
          1.056,
          1.0702341137123745,
          1.0625000000000002,
          1.0714285714285716,
          1.0714285714285714,
          1.062937062937063,
          1.0795454545454546,
          1.1107692307692307,
          1.1107692307692307,
          1.125,
          1.1111111111111107
         ]
        },
        {
         "hovertemplate": "<b>Monk</b><br>level %{x}<br>XP delta %{y:.2f}<extra></extra>",
         "line": {
          "color": "#51A5C5",
          "dash": "solid"
         },
         "mode": "lines+markers",
         "name": "Monk",
         "type": "scatter",
         "unselected": {
          "marker": {
           "opacity": 0
          }
         },
         "x": [
          1,
          2,
          3,
          4,
          5,
          6,
          7,
          8,
          9,
          10,
          11,
          12,
          13,
          14,
          15,
          16,
          17,
          18,
          19,
          20
         ],
         "y": [
          1,
          1.0509731232622797,
          1.088,
          1.0933758978451718,
          1.0769230769230769,
          1.0389610389610389,
          1.0256410256410255,
          1.0126582278481013,
          1,
          1,
          1,
          1,
          1,
          1,
          1,
          1,
          1,
          1.083554376657825,
          1.0833333333333333,
          1.1190476190476188
         ]
        },
        {
         "hovertemplate": "<b>Paladin</b><br>level %{x}<br>XP delta %{y:.2f}<extra></extra>",
         "line": {
          "color": "#B59E54",
          "dash": "solid"
         },
         "mode": "lines+markers",
         "name": "Paladin",
         "type": "scatter",
         "unselected": {
          "marker": {
           "opacity": 0
          }
         },
         "x": [
          1,
          2,
          3,
          4,
          5,
          6,
          7,
          8,
          9,
          10,
          11,
          12,
          13,
          14,
          15,
          16,
          17,
          18,
          19,
          20
         ],
         "y": [
          1,
          1.0501672240802675,
          1.0866310160427806,
          1.0666301069372086,
          1.0704960835509139,
          1.0804037591367908,
          1.1017455366031725,
          1.0951760104302477,
          1.1376433785192908,
          1.1395179627103227,
          1.1532083173874217,
          1.1423029174425823,
          1.1791171477079796,
          1.1791171477079796,
          1.1728960694477935,
          1.1937042842215255,
          1.1765281350773578,
          1.1765281350773578,
          1.2261353104726598,
          1.1982173174872663
         ]
        },
        {
         "hovertemplate": "<b>Ranger</b><br>level %{x}<br>XP delta %{y:.2f}<extra></extra>",
         "line": {
          "color": "#507F62",
          "dash": "solid"
         },
         "mode": "lines+markers",
         "name": "Ranger",
         "type": "scatter",
         "unselected": {
          "marker": {
           "opacity": 0
          }
         },
         "x": [
          1,
          2,
          3,
          4,
          5,
          6,
          7,
          8,
          9,
          10,
          11,
          12,
          13,
          14,
          15,
          16,
          17,
          18,
          19,
          20
         ],
         "y": [
          1,
          1.064102564102564,
          1.110204081632653,
          1.0824567356633865,
          1.1059602649006623,
          1.118560338743825,
          1.1378555798687089,
          1.1267605633802815,
          1.1413454270597128,
          1.144242424242424,
          1.1985688729874777,
          1.1697247706422018,
          1.2171215880893298,
          1.2171215880893298,
          1.2106116774791473,
          1.2661897590361444,
          1.216184736922064,
          1.216184736922064,
          1.2086737900691389,
          1.2422287390029327
         ]
        },
        {
         "hovertemplate": "<b>Rogue</b><br>level %{x}<br>XP delta %{y:.2f}<extra></extra>",
         "line": {
          "color": "#555752",
          "dash": "solid"
         },
         "mode": "lines+markers",
         "name": "Rogue",
         "type": "scatter",
         "unselected": {
          "marker": {
           "opacity": 0
          }
         },
         "x": [
          1,
          2,
          3,
          4,
          5,
          6,
          7,
          8,
          9,
          10,
          11,
          12,
          13,
          14,
          15,
          16,
          17,
          18,
          19,
          20
         ],
         "y": [
          1,
          1,
          1,
          1,
          0.9999999999999999,
          1.0000000000000002,
          1.0000000000000002,
          1.0000000000000002,
          1,
          1,
          1.0000000000000002,
          1,
          1,
          0.9999999999999998,
          1.0000000000000002,
          1,
          1.0000000000000002,
          1.0000000000000002,
          0.9999999999999998,
          0.9999999999999998
         ]
        },
        {
         "hovertemplate": "<b>Sorcerer</b><br>level %{x}<br>XP delta %{y:.2f}<extra></extra>",
         "line": {
          "color": "#992E2E",
          "dash": "solid"
         },
         "mode": "lines+markers",
         "name": "Sorcerer",
         "type": "scatter",
         "unselected": {
          "marker": {
           "opacity": 0
          }
         },
         "x": [
          1,
          2,
          3,
          4,
          5,
          6,
          7,
          8,
          9,
          10,
          11,
          12,
          13,
          14,
          15,
          16,
          17,
          18,
          19,
          20
         ],
         "y": [
          1.0188679245283019,
          1.0515463917525774,
          1.16078431372549,
          1.1501491547895257,
          1.1111111111111112,
          1.152368758002561,
          1.1890542829129158,
          1.2092710782667118,
          1.2002174799510668,
          1.227708506511499,
          1.2004139358399448,
          1.1767473118279568,
          1.2309608540925268,
          1.2364016736401673,
          1.2312021936787414,
          1.264488221805295,
          1.182922741746271,
          1.1829227417462713,
          1.1860651361452215,
          1.1972093023255814
         ]
        },
        {
         "hovertemplate": "<b>Warlock</b><br>level %{x}<br>XP delta %{y:.2f}<extra></extra>",
         "line": {
          "color": "#7B469B",
          "dash": "solid"
         },
         "mode": "lines+markers",
         "name": "Warlock",
         "type": "scatter",
         "unselected": {
          "marker": {
           "opacity": 0
          }
         },
         "x": [
          1,
          2,
          3,
          4,
          5,
          6,
          7,
          8,
          9,
          10,
          11,
          12,
          13,
          14,
          15,
          16,
          17,
          18,
          19,
          20
         ],
         "y": [
          1.0343406593406592,
          1.0630517023959647,
          1.161290322580645,
          1.1141753998896857,
          1.096969696969697,
          1.108597285067873,
          1.136466676741726,
          1.1173184357541899,
          1.14010989010989,
          1.1429429429429432,
          1.1518737672583828,
          1.1317049808429118,
          1.1293604651162792,
          1.1293604651162792,
          1.1320138747194448,
          1.1339522546419099,
          1.0936727374029322,
          1.093672737402932,
          1.102667937112911,
          1.0842696629213484
         ]
        },
        {
         "hovertemplate": "<b>Wizard</b><br>level %{x}<br>XP delta %{y:.2f}<extra></extra>",
         "line": {
          "color": "#2A50A1",
          "dash": "solid"
         },
         "mode": "lines+markers",
         "name": "Wizard",
         "type": "scatter",
         "unselected": {
          "marker": {
           "opacity": 0
          }
         },
         "x": [
          1,
          2,
          3,
          4,
          5,
          6,
          7,
          8,
          9,
          10,
          11,
          12,
          13,
          14,
          15,
          16,
          17,
          18,
          19,
          20
         ],
         "y": [
          1.0359712230215827,
          1.0515463917525774,
          1.1588621444201312,
          1.1488511488511488,
          1.1111111111111112,
          1.1468531468531469,
          1.1720721562762877,
          1.1942395504039338,
          1.194425087108014,
          1.2194898251648036,
          1.1973546815175775,
          1.1687499999999997,
          1.2232796486090773,
          1.2232796486090773,
          1.2252923471653425,
          1.2563074620483214,
          1.1784513217828105,
          1.1784513217828103,
          1.194997310381926,
          1.203529411764706
         ]
        },
        {
         "hovertemplate": "<b>average</b><br>level %{x}<br>XP delta %{y:.2f}<extra></extra>",
         "line": {
          "color": "black",
          "dash": "dash"
         },
         "mode": "lines",
         "name": "average",
         "type": "scatter",
         "unselected": {
          "marker": {
           "opacity": 0
          }
         },
         "x": [
          1,
          2,
          3,
          4,
          5,
          6,
          7,
          8,
          9,
          10,
          11,
          12,
          13,
          14,
          15,
          16,
          17,
          18,
          19,
          20
         ],
         "y": [
          1.0363774638857517,
          1.0650391229528509,
          1.1410673253738828,
          1.1233493888548163,
          1.1075207995090048,
          1.1131219795195244,
          1.1299815850668853,
          1.1285720799436845,
          1.1360186650521151,
          1.1533088186623928,
          1.1464797651600958,
          1.1135858679964703,
          1.1454826599306023,
          1.1459360615595724,
          1.1456494355352294,
          1.1726445255177047,
          1.1242312271244634,
          1.1311940918459487,
          1.1437042760167164,
          1.1494939038376082
         ]
        }
       ],
       "layout": {
        "legend": {
         "orientation": "h",
         "x": 0.01,
         "xanchor": "left",
         "y": 1.04,
         "yanchor": "bottom"
        },
        "template": {
         "layout": {
          "autosize": true,
          "font": {
           "family": "sans-serif",
           "size": 14
          },
          "hovermode": "closest",
          "legend": {
           "font": {
            "size": 10
           }
          },
          "margin": {
           "b": 40,
           "l": 50,
           "pad": 4,
           "r": 25,
           "t": 20
          },
          "template": {
           "data": {
            "bar": [
             {
              "error_x": {
               "color": "#2a3f5f"
              },
              "error_y": {
               "color": "#2a3f5f"
              },
              "marker": {
               "line": {
                "color": "white",
                "width": 0.5
               },
               "pattern": {
                "fillmode": "overlay",
                "size": 10,
                "solidity": 0.2
               }
              },
              "type": "bar"
             }
            ],
            "barpolar": [
             {
              "marker": {
               "line": {
                "color": "white",
                "width": 0.5
               },
               "pattern": {
                "fillmode": "overlay",
                "size": 10,
                "solidity": 0.2
               }
              },
              "type": "barpolar"
             }
            ],
            "carpet": [
             {
              "aaxis": {
               "endlinecolor": "#2a3f5f",
               "gridcolor": "#C8D4E3",
               "linecolor": "#C8D4E3",
               "minorgridcolor": "#C8D4E3",
               "startlinecolor": "#2a3f5f"
              },
              "baxis": {
               "endlinecolor": "#2a3f5f",
               "gridcolor": "#C8D4E3",
               "linecolor": "#C8D4E3",
               "minorgridcolor": "#C8D4E3",
               "startlinecolor": "#2a3f5f"
              },
              "type": "carpet"
             }
            ],
            "choropleth": [
             {
              "colorbar": {
               "outlinewidth": 0,
               "ticks": ""
              },
              "type": "choropleth"
             }
            ],
            "contour": [
             {
              "colorbar": {
               "outlinewidth": 0,
               "ticks": ""
              },
              "colorscale": [
               [
                0,
                "#0d0887"
               ],
               [
                0.1111111111111111,
                "#46039f"
               ],
               [
                0.2222222222222222,
                "#7201a8"
               ],
               [
                0.3333333333333333,
                "#9c179e"
               ],
               [
                0.4444444444444444,
                "#bd3786"
               ],
               [
                0.5555555555555556,
                "#d8576b"
               ],
               [
                0.6666666666666666,
                "#ed7953"
               ],
               [
                0.7777777777777778,
                "#fb9f3a"
               ],
               [
                0.8888888888888888,
                "#fdca26"
               ],
               [
                1,
                "#f0f921"
               ]
              ],
              "type": "contour"
             }
            ],
            "contourcarpet": [
             {
              "colorbar": {
               "outlinewidth": 0,
               "ticks": ""
              },
              "type": "contourcarpet"
             }
            ],
            "heatmap": [
             {
              "colorbar": {
               "outlinewidth": 0,
               "ticks": ""
              },
              "colorscale": [
               [
                0,
                "#0d0887"
               ],
               [
                0.1111111111111111,
                "#46039f"
               ],
               [
                0.2222222222222222,
                "#7201a8"
               ],
               [
                0.3333333333333333,
                "#9c179e"
               ],
               [
                0.4444444444444444,
                "#bd3786"
               ],
               [
                0.5555555555555556,
                "#d8576b"
               ],
               [
                0.6666666666666666,
                "#ed7953"
               ],
               [
                0.7777777777777778,
                "#fb9f3a"
               ],
               [
                0.8888888888888888,
                "#fdca26"
               ],
               [
                1,
                "#f0f921"
               ]
              ],
              "type": "heatmap"
             }
            ],
            "heatmapgl": [
             {
              "colorbar": {
               "outlinewidth": 0,
               "ticks": ""
              },
              "colorscale": [
               [
                0,
                "#0d0887"
               ],
               [
                0.1111111111111111,
                "#46039f"
               ],
               [
                0.2222222222222222,
                "#7201a8"
               ],
               [
                0.3333333333333333,
                "#9c179e"
               ],
               [
                0.4444444444444444,
                "#bd3786"
               ],
               [
                0.5555555555555556,
                "#d8576b"
               ],
               [
                0.6666666666666666,
                "#ed7953"
               ],
               [
                0.7777777777777778,
                "#fb9f3a"
               ],
               [
                0.8888888888888888,
                "#fdca26"
               ],
               [
                1,
                "#f0f921"
               ]
              ],
              "type": "heatmapgl"
             }
            ],
            "histogram": [
             {
              "marker": {
               "pattern": {
                "fillmode": "overlay",
                "size": 10,
                "solidity": 0.2
               }
              },
              "type": "histogram"
             }
            ],
            "histogram2d": [
             {
              "colorbar": {
               "outlinewidth": 0,
               "ticks": ""
              },
              "colorscale": [
               [
                0,
                "#0d0887"
               ],
               [
                0.1111111111111111,
                "#46039f"
               ],
               [
                0.2222222222222222,
                "#7201a8"
               ],
               [
                0.3333333333333333,
                "#9c179e"
               ],
               [
                0.4444444444444444,
                "#bd3786"
               ],
               [
                0.5555555555555556,
                "#d8576b"
               ],
               [
                0.6666666666666666,
                "#ed7953"
               ],
               [
                0.7777777777777778,
                "#fb9f3a"
               ],
               [
                0.8888888888888888,
                "#fdca26"
               ],
               [
                1,
                "#f0f921"
               ]
              ],
              "type": "histogram2d"
             }
            ],
            "histogram2dcontour": [
             {
              "colorbar": {
               "outlinewidth": 0,
               "ticks": ""
              },
              "colorscale": [
               [
                0,
                "#0d0887"
               ],
               [
                0.1111111111111111,
                "#46039f"
               ],
               [
                0.2222222222222222,
                "#7201a8"
               ],
               [
                0.3333333333333333,
                "#9c179e"
               ],
               [
                0.4444444444444444,
                "#bd3786"
               ],
               [
                0.5555555555555556,
                "#d8576b"
               ],
               [
                0.6666666666666666,
                "#ed7953"
               ],
               [
                0.7777777777777778,
                "#fb9f3a"
               ],
               [
                0.8888888888888888,
                "#fdca26"
               ],
               [
                1,
                "#f0f921"
               ]
              ],
              "type": "histogram2dcontour"
             }
            ],
            "mesh3d": [
             {
              "colorbar": {
               "outlinewidth": 0,
               "ticks": ""
              },
              "type": "mesh3d"
             }
            ],
            "parcoords": [
             {
              "line": {
               "colorbar": {
                "outlinewidth": 0,
                "ticks": ""
               }
              },
              "type": "parcoords"
             }
            ],
            "pie": [
             {
              "automargin": true,
              "type": "pie"
             }
            ],
            "scatter": [
             {
              "fillpattern": {
               "fillmode": "overlay",
               "size": 10,
               "solidity": 0.2
              },
              "type": "scatter"
             }
            ],
            "scatter3d": [
             {
              "line": {
               "colorbar": {
                "outlinewidth": 0,
                "ticks": ""
               }
              },
              "marker": {
               "colorbar": {
                "outlinewidth": 0,
                "ticks": ""
               }
              },
              "type": "scatter3d"
             }
            ],
            "scattercarpet": [
             {
              "marker": {
               "colorbar": {
                "outlinewidth": 0,
                "ticks": ""
               }
              },
              "type": "scattercarpet"
             }
            ],
            "scattergeo": [
             {
              "marker": {
               "colorbar": {
                "outlinewidth": 0,
                "ticks": ""
               }
              },
              "type": "scattergeo"
             }
            ],
            "scattergl": [
             {
              "marker": {
               "colorbar": {
                "outlinewidth": 0,
                "ticks": ""
               }
              },
              "type": "scattergl"
             }
            ],
            "scattermapbox": [
             {
              "marker": {
               "colorbar": {
                "outlinewidth": 0,
                "ticks": ""
               }
              },
              "type": "scattermapbox"
             }
            ],
            "scatterpolar": [
             {
              "marker": {
               "colorbar": {
                "outlinewidth": 0,
                "ticks": ""
               }
              },
              "type": "scatterpolar"
             }
            ],
            "scatterpolargl": [
             {
              "marker": {
               "colorbar": {
                "outlinewidth": 0,
                "ticks": ""
               }
              },
              "type": "scatterpolargl"
             }
            ],
            "scatterternary": [
             {
              "marker": {
               "colorbar": {
                "outlinewidth": 0,
                "ticks": ""
               }
              },
              "type": "scatterternary"
             }
            ],
            "surface": [
             {
              "colorbar": {
               "outlinewidth": 0,
               "ticks": ""
              },
              "colorscale": [
               [
                0,
                "#0d0887"
               ],
               [
                0.1111111111111111,
                "#46039f"
               ],
               [
                0.2222222222222222,
                "#7201a8"
               ],
               [
                0.3333333333333333,
                "#9c179e"
               ],
               [
                0.4444444444444444,
                "#bd3786"
               ],
               [
                0.5555555555555556,
                "#d8576b"
               ],
               [
                0.6666666666666666,
                "#ed7953"
               ],
               [
                0.7777777777777778,
                "#fb9f3a"
               ],
               [
                0.8888888888888888,
                "#fdca26"
               ],
               [
                1,
                "#f0f921"
               ]
              ],
              "type": "surface"
             }
            ],
            "table": [
             {
              "cells": {
               "fill": {
                "color": "#EBF0F8"
               },
               "line": {
                "color": "white"
               }
              },
              "header": {
               "fill": {
                "color": "#C8D4E3"
               },
               "line": {
                "color": "white"
               }
              },
              "type": "table"
             }
            ]
           },
           "layout": {
            "annotationdefaults": {
             "arrowcolor": "#2a3f5f",
             "arrowhead": 0,
             "arrowwidth": 1
            },
            "autotypenumbers": "strict",
            "coloraxis": {
             "colorbar": {
              "outlinewidth": 0,
              "ticks": ""
             }
            },
            "colorscale": {
             "diverging": [
              [
               0,
               "#8e0152"
              ],
              [
               0.1,
               "#c51b7d"
              ],
              [
               0.2,
               "#de77ae"
              ],
              [
               0.3,
               "#f1b6da"
              ],
              [
               0.4,
               "#fde0ef"
              ],
              [
               0.5,
               "#f7f7f7"
              ],
              [
               0.6,
               "#e6f5d0"
              ],
              [
               0.7,
               "#b8e186"
              ],
              [
               0.8,
               "#7fbc41"
              ],
              [
               0.9,
               "#4d9221"
              ],
              [
               1,
               "#276419"
              ]
             ],
             "sequential": [
              [
               0,
               "#0d0887"
              ],
              [
               0.1111111111111111,
               "#46039f"
              ],
              [
               0.2222222222222222,
               "#7201a8"
              ],
              [
               0.3333333333333333,
               "#9c179e"
              ],
              [
               0.4444444444444444,
               "#bd3786"
              ],
              [
               0.5555555555555556,
               "#d8576b"
              ],
              [
               0.6666666666666666,
               "#ed7953"
              ],
              [
               0.7777777777777778,
               "#fb9f3a"
              ],
              [
               0.8888888888888888,
               "#fdca26"
              ],
              [
               1,
               "#f0f921"
              ]
             ],
             "sequentialminus": [
              [
               0,
               "#0d0887"
              ],
              [
               0.1111111111111111,
               "#46039f"
              ],
              [
               0.2222222222222222,
               "#7201a8"
              ],
              [
               0.3333333333333333,
               "#9c179e"
              ],
              [
               0.4444444444444444,
               "#bd3786"
              ],
              [
               0.5555555555555556,
               "#d8576b"
              ],
              [
               0.6666666666666666,
               "#ed7953"
              ],
              [
               0.7777777777777778,
               "#fb9f3a"
              ],
              [
               0.8888888888888888,
               "#fdca26"
              ],
              [
               1,
               "#f0f921"
              ]
             ]
            },
            "colorway": [
             "#636efa",
             "#EF553B",
             "#00cc96",
             "#ab63fa",
             "#FFA15A",
             "#19d3f3",
             "#FF6692",
             "#B6E880",
             "#FF97FF",
             "#FECB52"
            ],
            "font": {
             "color": "#2a3f5f"
            },
            "geo": {
             "bgcolor": "white",
             "lakecolor": "white",
             "landcolor": "white",
             "showlakes": true,
             "showland": true,
             "subunitcolor": "#C8D4E3"
            },
            "hoverlabel": {
             "align": "left"
            },
            "hovermode": "closest",
            "mapbox": {
             "style": "light"
            },
            "paper_bgcolor": "white",
            "plot_bgcolor": "white",
            "polar": {
             "angularaxis": {
              "gridcolor": "#EBF0F8",
              "linecolor": "#EBF0F8",
              "ticks": ""
             },
             "bgcolor": "white",
             "radialaxis": {
              "gridcolor": "#EBF0F8",
              "linecolor": "#EBF0F8",
              "ticks": ""
             }
            },
            "scene": {
             "xaxis": {
              "backgroundcolor": "white",
              "gridcolor": "#DFE8F3",
              "gridwidth": 2,
              "linecolor": "#EBF0F8",
              "showbackground": true,
              "ticks": "",
              "zerolinecolor": "#EBF0F8"
             },
             "yaxis": {
              "backgroundcolor": "white",
              "gridcolor": "#DFE8F3",
              "gridwidth": 2,
              "linecolor": "#EBF0F8",
              "showbackground": true,
              "ticks": "",
              "zerolinecolor": "#EBF0F8"
             },
             "zaxis": {
              "backgroundcolor": "white",
              "gridcolor": "#DFE8F3",
              "gridwidth": 2,
              "linecolor": "#EBF0F8",
              "showbackground": true,
              "ticks": "",
              "zerolinecolor": "#EBF0F8"
             }
            },
            "shapedefaults": {
             "line": {
              "color": "#2a3f5f"
             }
            },
            "ternary": {
             "aaxis": {
              "gridcolor": "#DFE8F3",
              "linecolor": "#A2B1C6",
              "ticks": ""
             },
             "baxis": {
              "gridcolor": "#DFE8F3",
              "linecolor": "#A2B1C6",
              "ticks": ""
             },
             "bgcolor": "white",
             "caxis": {
              "gridcolor": "#DFE8F3",
              "linecolor": "#A2B1C6",
              "ticks": ""
             }
            },
            "title": {
             "x": 0.05
            },
            "xaxis": {
             "automargin": true,
             "gridcolor": "#EBF0F8",
             "linecolor": "#EBF0F8",
             "ticks": "",
             "title": {
              "standoff": 15
             },
             "zerolinecolor": "#EBF0F8",
             "zerolinewidth": 2
            },
            "yaxis": {
             "automargin": true,
             "gridcolor": "#EBF0F8",
             "linecolor": "#EBF0F8",
             "ticks": "",
             "title": {
              "standoff": 15
             },
             "zerolinecolor": "#EBF0F8",
             "zerolinewidth": 2
            }
           }
          },
          "xaxis": {
           "automargin": true,
           "autorange": false,
           "fixedrange": true,
           "linecolor": "#444",
           "linewidth": 2,
           "minor": {
            "tickmode": "linear",
            "ticks": "outside"
           },
           "mirror": true,
           "showline": true,
           "tickmode": "linear",
           "ticks": "outside",
           "zeroline": false
          },
          "yaxis": {
           "automargin": true,
           "autorange": false,
           "fixedrange": true,
           "linecolor": "#444",
           "linewidth": 2,
           "minor": {
            "tickmode": "linear",
            "ticks": "outside"
           },
           "mirror": true,
           "showline": true,
           "tickmode": "linear",
           "ticks": "outside",
           "zeroline": false
          }
         }
        },
        "xaxis": {
         "dtick": 5,
         "minor": {
          "dtick": 1,
          "tick0": 0
         },
         "range": [
          -0.2,
          20.2
         ],
         "tick0": 0,
         "title": {
          "text": "level"
         }
        },
        "yaxis": {
         "dtick": 0.1,
         "minor": {
          "dtick": 0.05,
          "tick0": 0
         },
         "range": [
          0.9,
          1.5
         ],
         "tick0": 0,
         "title": {
          "text": "Deadly / Medium encounter XP"
         }
        }
       }
      }
     },
     "metadata": {},
     "output_type": "display_data"
    }
   ],
   "source": [
    "# plots the ratio between the Deadly and Medium daily XPs for each classes.\n",
    "from bs4 import BeautifulSoup\n",
    "\n",
    "enc_diffs = ['Easy','Medium','Hard','Deadly']\n",
    "levels = np.array(range(1,21,1))\n",
    "\n",
    "fig = go.Figure(\n",
    "    layout=go.Layout(\n",
    "        template=TFB_TEMPLATE,\n",
    "        xaxis=dict(\n",
    "            title_text='level',\n",
    "            range=[-0.2, 20.2],\n",
    "            tick0=0, dtick=5,\n",
    "            minor=dict(tick0=0, dtick=1),\n",
    "        ),\n",
    "        yaxis=dict(\n",
    "            title_text='Deadly / Medium encounter XP',\n",
    "            range=[0.90, 1.5],\n",
    "            tick0=0, dtick=0.1,\n",
    "            minor=dict(tick0=0, dtick=0.05),\n",
    "        ),\n",
    "        legend=dict(\n",
    "            yanchor='bottom',  y=1.04,\n",
    "            xanchor='left', x=0.01,\n",
    "            orientation='h',\n",
    "        )\n",
    "    )\n",
    ")\n",
    "\n",
    "groups = {\n",
    "    'martial': {\n",
    "        'classes': [], \n",
    "        'xp mean': np.zeros(len(levels))\n",
    "    },\n",
    "    'martial-spellcaster': {\n",
    "        'classes': [], \n",
    "        'xp mean': np.zeros(len(levels))\n",
    "    },\n",
    "    'spellcaster': {\n",
    "        'classes': [], \n",
    "        'xp mean': np.zeros(len(levels))\n",
    "    },\n",
    "    'average': {\n",
    "        'classes': [], \n",
    "        'xp mean': np.zeros(len(levels))\n",
    "    }\n",
    "}\n",
    "xp_mean = np.zeros(len(levels))\n",
    "for pc in PC_CLASSES:\n",
    "    pc_class = PC_CLASSES[pc]\n",
    "    pc_xp = np.zeros([20, len(enc_diffs)])\n",
    "    for i in range(len(enc_diffs)):\n",
    "        diff = enc_diffs[i]\n",
    "        with open(f'../xp-and-player-characters/pc data - {diff} 2 short rests.json', 'r') as fin:\n",
    "            pc_data = json.load(fin)\n",
    "        \n",
    "        #pc_xp[:,i] = np.array(pc_data[pc]['daily XP mean'])\n",
    "        pc_xp[:,i] = np.array([x['XP mean'] for x in pc_data[pc]])\n",
    "\n",
    "    for i in range(20):\n",
    "        pc_xp[i,:] /= pc_xp[i,1]\n",
    "\n",
    "    fig.add_trace(go.Scatter(\n",
    "        x=levels, \n",
    "        y=pc_xp[:,3],\n",
    "        mode='lines+markers', \n",
    "        line=dict(color=pc_class['color'], dash='solid'),\n",
    "        unselected=dict(marker=dict(opacity=0.0)),\n",
    "        name=pc,\n",
    "        hovertemplate=\n",
    "            '<b>'+pc+'</b><br>'+\n",
    "            'level %{x}<br>'+\n",
    "            'XP delta %{y:.2f}'+\n",
    "            '<extra></extra>'\n",
    "    ))\n",
    "    \n",
    "    groups[pc_class['group']]['classes'] += [pc]\n",
    "    groups[pc_class['group']]['xp mean'] += pc_xp[:,3]\n",
    "    groups['average']['classes'] += [pc]\n",
    "    groups['average']['xp mean'] += pc_xp[:,3]\n",
    "\n",
    "for g in ['average']:\n",
    "    group = groups[g]\n",
    "\n",
    "    group['xp mean'] /= len(group['classes'])\n",
    "\n",
    "    fig.add_trace(go.Scatter(\n",
    "        x=levels, \n",
    "        y=group['xp mean'],\n",
    "        mode='lines', \n",
    "        line=dict(color='black', dash='dash'),\n",
    "        unselected=dict(marker=dict(opacity=0.0)),\n",
    "        name=g,\n",
    "        hovertemplate=\n",
    "            '<b>'+g+'</b><br>'+\n",
    "            'level %{x}<br>'+\n",
    "            'XP delta %{y:.2f}'+\n",
    "            '<extra></extra>'\n",
    "    ))\n",
    "\n",
    "# show figure\n",
    "fig.show(config=TFB_CONFIG)\n",
    "\n",
    "# save large format figure\n",
    "if SAVEFIGS:\n",
    "    file_name = f'./fig-class-daily-xp-ratio-vs-level-large.html'\n",
    "    fig_html = fig.to_html(\n",
    "        include_plotlyjs=False, \n",
    "        full_html=False, \n",
    "        config=TFB_CONFIG\n",
    "    )\n",
    "    fig_soup = BeautifulSoup(fig_html, 'html.parser')\n",
    "    fig_soup.div['class'] = 'plotly-div-large'\n",
    "    fig_soup.div['style'] = 'aspect-ratio:600/550'\n",
    "    with open(file_name, 'wb') as fout:\n",
    "        fout.write(fig_soup.prettify('utf-8'))\n",
    "\n",
    "# save small format figure\n",
    "if SAVEFIGS:\n",
    "    fig.update_traces(marker=dict(size=4))\n",
    "    fig.update_layout(font=dict(size=10), legend=dict(font_size=8))\n",
    "    file_name = f'./fig-class-daily-xp-ratio-vs-level-small.html'\n",
    "    fig_html = fig.to_html(\n",
    "        include_plotlyjs=False, \n",
    "        full_html=False, \n",
    "        config=TFB_CONFIG\n",
    "    )\n",
    "    fig_soup = BeautifulSoup(fig_html, 'html.parser')\n",
    "    fig_soup.div['class'] = 'plotly-div-small'\n",
    "    fig_soup.div['style'] = 'aspect-ratio:600/600'\n",
    "    with open(file_name, 'wb') as fout:\n",
    "        fout.write(fig_soup.prettify('utf-8'))"
   ]
  }
 ],
 "metadata": {
  "kernelspec": {
   "display_name": "thefinishedbook",
   "language": "python",
   "name": "python3"
  },
  "language_info": {
   "codemirror_mode": {
    "name": "ipython",
    "version": 3
   },
   "file_extension": ".py",
   "mimetype": "text/x-python",
   "name": "python",
   "nbconvert_exporter": "python",
   "pygments_lexer": "ipython3",
   "version": "3.10.5"
  },
  "orig_nbformat": 4,
  "vscode": {
   "interpreter": {
    "hash": "81e7ed570d3d4d94e4f212d319db3e9a0140cc240e5a3a69836cc19bf47f0126"
   }
  }
 },
 "nbformat": 4,
 "nbformat_minor": 2
}
