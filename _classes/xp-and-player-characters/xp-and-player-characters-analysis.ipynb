{
 "cells": [
  {
   "cell_type": "code",
   "execution_count": 3,
   "metadata": {},
   "outputs": [],
   "source": [
    "# Initialize notebook\n",
    "import numpy as np\n",
    "import json\n",
    "import plotly.graph_objects as go\n",
    "from bs4 import BeautifulSoup\n",
    "\n",
    "\n",
    "METADATA = {'Contributor': 'T. Dunn'}\n",
    "SAVEFIGS = False\n",
    "\n",
    "PC_CLASSES = {\n",
    "    'Barbarian': {'color': '#E7623E', 'group': 'martial'},\n",
    "    'Bard': {'color': '#AB6DAC', 'group': 'spellcaster'},\n",
    "    'Cleric': {'color': '#91A1B2', 'group': 'spellcaster'},\n",
    "    'Druid': {'color': '#7A853B', 'group': 'spellcaster'},\n",
    "    'Fighter': {'color': '#7F513E', 'group': 'martial'},\n",
    "    'Monk': {'color': '#51A5C5', 'group': 'martial'},\n",
    "    'Paladin': {'color': '#B59E54', 'group': 'martial-spellcaster'},\n",
    "    'Ranger': {'color': '#507F62', 'group': 'martial-spellcaster'},\n",
    "    'Rogue': {'color': '#555752', 'group': 'martial'},\n",
    "    'Sorcerer': {'color': '#992E2E', 'group': 'spellcaster'},\n",
    "    'Warlock': {'color': '#7B469B', 'group': 'spellcaster'},\n",
    "    'Wizard': {'color': '#2A50A1', 'group': 'spellcaster'}\n",
    "}\n",
    "\n",
    "ENCOUNTER_DIFFICULTIES = {\n",
    "    'Easy':   {\n",
    "        'XP': [25,50,75,125,250,300,350,450,550,600,800,1000,1100,1250,1400,1600,2000,2100,2400,2800], \n",
    "        'color': '#1F77B4'\n",
    "    },\n",
    "    'Medium': {\n",
    "        'XP': [50,100,150,250,500,600,750,900,1100,1200,1600,2000,2200,2500,2800,3200,3900,4200,4900,5700], \n",
    "        'color': '#FF7F0E'\n",
    "    },\n",
    "    'Hard':   {\n",
    "        'XP': [75,150,225,375,750,900,1100,1400,1600,1900,2400,3000,3400,3800,4300,4800,5900,6300,7300,8500], \n",
    "        'color': '#2CA02C'\n",
    "    },\n",
    "    'Deadly': {\n",
    "        'XP': [100,200,400,500,1100,1400,1700,2100,2400,2800,3600,4500,5100,5700,6400,7200,8800,9500,10900,12700], \n",
    "        'color': '#D62728'\n",
    "    },\n",
    "    'Daily':  {\n",
    "        'XP': [300,600,1200,1700,3500,4000,5000,6000,7500,9000,10500,11500,13500,15000,18000,20000,25000,27000,30000,40000], \n",
    "        'color': '#9467BD'\n",
    "    },\n",
    "}"
   ]
  },
  {
   "cell_type": "code",
   "execution_count": 4,
   "metadata": {},
   "outputs": [],
   "source": [
    "# Setup template and html config for plotly figures.\n",
    "\n",
    "TFB_TEMPLATE = dict(\n",
    "    layout=go.Layout(\n",
    "        template='plotly_white',\n",
    "        autosize=True, # must be True to auto-scale when resizing\n",
    "        margin=dict(l=50, r=25, b=40, t=20, pad=4),\n",
    "        font=dict(\n",
    "            family='sans-serif',\n",
    "            size=14\n",
    "        ),\n",
    "        hovermode='closest',\n",
    "        xaxis=dict(\n",
    "            autorange=False,\n",
    "            automargin=True,\n",
    "            fixedrange=True,\n",
    "            showline=True,\n",
    "            linecolor='#444',\n",
    "            linewidth=2,\n",
    "            mirror=True,\n",
    "            tickmode='linear',\n",
    "            ticks='outside',\n",
    "            minor=dict(\n",
    "                tickmode='linear',\n",
    "                ticks='outside',\n",
    "            ),\n",
    "            zeroline=False,\n",
    "        ),\n",
    "        yaxis=dict(\n",
    "            autorange=False,\n",
    "            automargin=True,\n",
    "            fixedrange=True,\n",
    "            showline=True,\n",
    "            linecolor='#444',\n",
    "            linewidth=2,\n",
    "            mirror=True,\n",
    "            tickmode='linear',\n",
    "            ticks='outside',\n",
    "            minor=dict(\n",
    "                tickmode='linear',\n",
    "                ticks='outside',\n",
    "            ),\n",
    "            zeroline=False,\n",
    "        ),\n",
    "        legend=dict(\n",
    "            font_size=10,\n",
    "            tracegroupgap=0,\n",
    "            orientation='h',\n",
    "        )\n",
    "    )\n",
    ")\n",
    "\n",
    "TFB_CONFIG = {\n",
    "    'responsive': True, # must be True to auto-scale when resizing\n",
    "    'autosizable': False, # doesn't impact auto rescaling\n",
    "    'showAxisDragHandles': False,\n",
    "    'displaylogo': False,\n",
    "    'displayModeBar': 'hover',\n",
    "    'modeBarButtonsToRemove': [\n",
    "        'select2d',\n",
    "        'lasso2d',\n",
    "        'zoom2d',\n",
    "        'zoomIn2d',\n",
    "        'zoomOut2d',\n",
    "        'pan2d',\n",
    "        'autoScale2d',\n",
    "        'hoverClosestCartesian',\n",
    "        'hoverCompareCartesian',\n",
    "        'toggleSpikelines',\n",
    "        'resetScale2d',\n",
    "    ],\n",
    "    'toImageButtonOptions': {\n",
    "        'format': 'png', # one of png, svg, jpeg, webp\n",
    "        'filename': 'tfb-plot',\n",
    "        'height': 450,\n",
    "        'width': 600,\n",
    "        'scale': 2\n",
    "    },\n",
    "}\n"
   ]
  },
  {
   "cell_type": "code",
   "execution_count": 3,
   "metadata": {},
   "outputs": [
    {
     "data": {
      "application/vnd.plotly.v1+json": {
       "config": {
        "autosizable": false,
        "displayModeBar": "hover",
        "displaylogo": false,
        "modeBarButtonsToRemove": [
         "select2d",
         "lasso2d",
         "zoom2d",
         "zoomIn2d",
         "zoomOut2d",
         "pan2d",
         "autoScale2d",
         "hoverClosestCartesian",
         "hoverCompareCartesian",
         "toggleSpikelines",
         "resetScale2d"
        ],
        "plotlyServerURL": "https://plot.ly",
        "responsive": true,
        "showAxisDragHandles": false,
        "toImageButtonOptions": {
         "filename": "tfb-plot",
         "format": "png",
         "height": 450,
         "scale": 2,
         "width": 600
        }
       },
       "data": [
        {
         "hovertemplate": "<b>Easy</b><br>lvl %{x}<br>ratio %{y:.2f}<extra></extra>",
         "line": {
          "color": "#1F77B4",
          "dash": "solid"
         },
         "mode": "lines",
         "name": "Easy",
         "type": "scatter",
         "unselected": {
          "marker": {
           "opacity": 0
          }
         },
         "x": [
          1,
          2,
          3,
          4,
          5,
          6,
          7,
          8,
          9,
          10,
          11,
          12,
          13,
          14,
          15,
          16,
          17,
          18,
          19,
          20
         ],
         "y": [
          0.16666666666666666,
          0.16666666666666666,
          0.125,
          0.14705882352941177,
          0.14285714285714285,
          0.15,
          0.14,
          0.15,
          0.14666666666666667,
          0.13333333333333333,
          0.1523809523809524,
          0.17391304347826086,
          0.16296296296296298,
          0.16666666666666666,
          0.15555555555555556,
          0.16,
          0.16,
          0.15555555555555556,
          0.16,
          0.14
         ]
        },
        {
         "hoverinfo": "skip",
         "line": {
          "color": "#1F77B4",
          "dash": "dash"
         },
         "mode": "lines",
         "name": "Easy",
         "showlegend": false,
         "type": "scatter",
         "unselected": {
          "marker": {
           "opacity": 0
          }
         },
         "x": [
          1,
          2,
          3,
          4,
          5,
          6,
          7,
          8,
          9,
          10,
          11,
          12,
          13,
          14,
          15,
          16,
          17,
          18,
          19,
          20
         ],
         "y": [
          0.15396825396825398,
          0.15396825396825398,
          0.15396825396825398,
          0.15396825396825398,
          0.15396825396825398,
          0.15396825396825398,
          0.15396825396825398,
          0.15396825396825398,
          0.15396825396825398,
          0.15396825396825398,
          0.15396825396825398,
          0.15396825396825398,
          0.15396825396825398,
          0.15396825396825398,
          0.15396825396825398,
          0.15396825396825398,
          0.15396825396825398,
          0.15396825396825398,
          0.15396825396825398,
          0.15396825396825398
         ]
        },
        {
         "hovertemplate": "<b>Medium</b><br>lvl %{x}<br>ratio %{y:.2f}<extra></extra>",
         "line": {
          "color": "#FF7F0E",
          "dash": "solid"
         },
         "mode": "lines",
         "name": "Medium",
         "type": "scatter",
         "unselected": {
          "marker": {
           "opacity": 0
          }
         },
         "x": [
          1,
          2,
          3,
          4,
          5,
          6,
          7,
          8,
          9,
          10,
          11,
          12,
          13,
          14,
          15,
          16,
          17,
          18,
          19,
          20
         ],
         "y": [
          0.3333333333333333,
          0.3333333333333333,
          0.25,
          0.29411764705882354,
          0.2857142857142857,
          0.3,
          0.3,
          0.3,
          0.29333333333333333,
          0.26666666666666666,
          0.3047619047619048,
          0.34782608695652173,
          0.32592592592592595,
          0.3333333333333333,
          0.3111111111111111,
          0.32,
          0.312,
          0.3111111111111111,
          0.32666666666666666,
          0.285
         ]
        },
        {
         "hoverinfo": "skip",
         "line": {
          "color": "#FF7F0E",
          "dash": "dash"
         },
         "mode": "lines",
         "name": "Medium",
         "showlegend": false,
         "type": "scatter",
         "unselected": {
          "marker": {
           "opacity": 0
          }
         },
         "x": [
          1,
          2,
          3,
          4,
          5,
          6,
          7,
          8,
          9,
          10,
          11,
          12,
          13,
          14,
          15,
          16,
          17,
          18,
          19,
          20
         ],
         "y": [
          0.30793650793650795,
          0.30793650793650795,
          0.30793650793650795,
          0.30793650793650795,
          0.30793650793650795,
          0.30793650793650795,
          0.30793650793650795,
          0.30793650793650795,
          0.30793650793650795,
          0.30793650793650795,
          0.30793650793650795,
          0.30793650793650795,
          0.30793650793650795,
          0.30793650793650795,
          0.30793650793650795,
          0.30793650793650795,
          0.30793650793650795,
          0.30793650793650795,
          0.30793650793650795,
          0.30793650793650795
         ]
        },
        {
         "hovertemplate": "<b>Hard</b><br>lvl %{x}<br>ratio %{y:.2f}<extra></extra>",
         "line": {
          "color": "#2CA02C",
          "dash": "solid"
         },
         "mode": "lines",
         "name": "Hard",
         "type": "scatter",
         "unselected": {
          "marker": {
           "opacity": 0
          }
         },
         "x": [
          1,
          2,
          3,
          4,
          5,
          6,
          7,
          8,
          9,
          10,
          11,
          12,
          13,
          14,
          15,
          16,
          17,
          18,
          19,
          20
         ],
         "y": [
          0.5,
          0.5,
          0.375,
          0.4411764705882353,
          0.42857142857142855,
          0.45,
          0.44,
          0.4666666666666667,
          0.4266666666666667,
          0.4222222222222222,
          0.45714285714285713,
          0.5217391304347826,
          0.5037037037037037,
          0.5066666666666667,
          0.4777777777777778,
          0.48,
          0.472,
          0.4666666666666667,
          0.4866666666666667,
          0.425
         ]
        },
        {
         "hoverinfo": "skip",
         "line": {
          "color": "#2CA02C",
          "dash": "dash"
         },
         "mode": "lines",
         "name": "Hard",
         "showlegend": false,
         "type": "scatter",
         "unselected": {
          "marker": {
           "opacity": 0
          }
         },
         "x": [
          1,
          2,
          3,
          4,
          5,
          6,
          7,
          8,
          9,
          10,
          11,
          12,
          13,
          14,
          15,
          16,
          17,
          18,
          19,
          20
         ],
         "y": [
          0.4666666666666667,
          0.4666666666666667,
          0.4666666666666667,
          0.4666666666666667,
          0.4666666666666667,
          0.4666666666666667,
          0.4666666666666667,
          0.4666666666666667,
          0.4666666666666667,
          0.4666666666666667,
          0.4666666666666667,
          0.4666666666666667,
          0.4666666666666667,
          0.4666666666666667,
          0.4666666666666667,
          0.4666666666666667,
          0.4666666666666667,
          0.4666666666666667,
          0.4666666666666667,
          0.4666666666666667
         ]
        },
        {
         "hovertemplate": "<b>Deadly</b><br>lvl %{x}<br>ratio %{y:.2f}<extra></extra>",
         "line": {
          "color": "#D62728",
          "dash": "solid"
         },
         "mode": "lines",
         "name": "Deadly",
         "type": "scatter",
         "unselected": {
          "marker": {
           "opacity": 0
          }
         },
         "x": [
          1,
          2,
          3,
          4,
          5,
          6,
          7,
          8,
          9,
          10,
          11,
          12,
          13,
          14,
          15,
          16,
          17,
          18,
          19,
          20
         ],
         "y": [
          0.6666666666666666,
          0.6666666666666666,
          0.6666666666666666,
          0.5882352941176471,
          0.6285714285714286,
          0.7,
          0.68,
          0.7,
          0.64,
          0.6222222222222222,
          0.6857142857142857,
          0.782608695652174,
          0.7555555555555555,
          0.76,
          0.7111111111111111,
          0.72,
          0.704,
          0.7037037037037037,
          0.7266666666666667,
          0.635
         ]
        },
        {
         "hoverinfo": "skip",
         "line": {
          "color": "#D62728",
          "dash": "dash"
         },
         "mode": "lines",
         "name": "Deadly",
         "showlegend": false,
         "type": "scatter",
         "unselected": {
          "marker": {
           "opacity": 0
          }
         },
         "x": [
          1,
          2,
          3,
          4,
          5,
          6,
          7,
          8,
          9,
          10,
          11,
          12,
          13,
          14,
          15,
          16,
          17,
          18,
          19,
          20
         ],
         "y": [
          0.6928571428571428,
          0.6928571428571428,
          0.6928571428571428,
          0.6928571428571428,
          0.6928571428571428,
          0.6928571428571428,
          0.6928571428571428,
          0.6928571428571428,
          0.6928571428571428,
          0.6928571428571428,
          0.6928571428571428,
          0.6928571428571428,
          0.6928571428571428,
          0.6928571428571428,
          0.6928571428571428,
          0.6928571428571428,
          0.6928571428571428,
          0.6928571428571428,
          0.6928571428571428,
          0.6928571428571428
         ]
        },
        {
         "hoverinfo": "skip",
         "line": {
          "color": "black",
          "dash": "dash"
         },
         "mode": "lines",
         "name": "half Daily XP",
         "showlegend": false,
         "type": "scatter",
         "x": [
          1,
          2,
          3,
          4,
          5,
          6,
          7,
          8,
          9,
          10,
          11,
          12,
          13,
          14,
          15,
          16,
          17,
          18,
          19,
          20
         ],
         "y": [
          1,
          1,
          1,
          1,
          1,
          1,
          1,
          1,
          1,
          1,
          1,
          1,
          1,
          1,
          1,
          1,
          1,
          1,
          1,
          1
         ]
        }
       ],
       "layout": {
        "legend": {
         "x": 0.01,
         "xanchor": "left",
         "y": 0.99,
         "yanchor": "top"
        },
        "template": {
         "layout": {
          "autosize": true,
          "font": {
           "family": "sans-serif",
           "size": 14
          },
          "hovermode": "closest",
          "legend": {
           "font": {
            "size": 10
           },
           "orientation": "h",
           "tracegroupgap": 0
          },
          "margin": {
           "b": 40,
           "l": 50,
           "pad": 4,
           "r": 25,
           "t": 20
          },
          "template": {
           "data": {
            "bar": [
             {
              "error_x": {
               "color": "#2a3f5f"
              },
              "error_y": {
               "color": "#2a3f5f"
              },
              "marker": {
               "line": {
                "color": "white",
                "width": 0.5
               },
               "pattern": {
                "fillmode": "overlay",
                "size": 10,
                "solidity": 0.2
               }
              },
              "type": "bar"
             }
            ],
            "barpolar": [
             {
              "marker": {
               "line": {
                "color": "white",
                "width": 0.5
               },
               "pattern": {
                "fillmode": "overlay",
                "size": 10,
                "solidity": 0.2
               }
              },
              "type": "barpolar"
             }
            ],
            "carpet": [
             {
              "aaxis": {
               "endlinecolor": "#2a3f5f",
               "gridcolor": "#C8D4E3",
               "linecolor": "#C8D4E3",
               "minorgridcolor": "#C8D4E3",
               "startlinecolor": "#2a3f5f"
              },
              "baxis": {
               "endlinecolor": "#2a3f5f",
               "gridcolor": "#C8D4E3",
               "linecolor": "#C8D4E3",
               "minorgridcolor": "#C8D4E3",
               "startlinecolor": "#2a3f5f"
              },
              "type": "carpet"
             }
            ],
            "choropleth": [
             {
              "colorbar": {
               "outlinewidth": 0,
               "ticks": ""
              },
              "type": "choropleth"
             }
            ],
            "contour": [
             {
              "colorbar": {
               "outlinewidth": 0,
               "ticks": ""
              },
              "colorscale": [
               [
                0,
                "#0d0887"
               ],
               [
                0.1111111111111111,
                "#46039f"
               ],
               [
                0.2222222222222222,
                "#7201a8"
               ],
               [
                0.3333333333333333,
                "#9c179e"
               ],
               [
                0.4444444444444444,
                "#bd3786"
               ],
               [
                0.5555555555555556,
                "#d8576b"
               ],
               [
                0.6666666666666666,
                "#ed7953"
               ],
               [
                0.7777777777777778,
                "#fb9f3a"
               ],
               [
                0.8888888888888888,
                "#fdca26"
               ],
               [
                1,
                "#f0f921"
               ]
              ],
              "type": "contour"
             }
            ],
            "contourcarpet": [
             {
              "colorbar": {
               "outlinewidth": 0,
               "ticks": ""
              },
              "type": "contourcarpet"
             }
            ],
            "heatmap": [
             {
              "colorbar": {
               "outlinewidth": 0,
               "ticks": ""
              },
              "colorscale": [
               [
                0,
                "#0d0887"
               ],
               [
                0.1111111111111111,
                "#46039f"
               ],
               [
                0.2222222222222222,
                "#7201a8"
               ],
               [
                0.3333333333333333,
                "#9c179e"
               ],
               [
                0.4444444444444444,
                "#bd3786"
               ],
               [
                0.5555555555555556,
                "#d8576b"
               ],
               [
                0.6666666666666666,
                "#ed7953"
               ],
               [
                0.7777777777777778,
                "#fb9f3a"
               ],
               [
                0.8888888888888888,
                "#fdca26"
               ],
               [
                1,
                "#f0f921"
               ]
              ],
              "type": "heatmap"
             }
            ],
            "heatmapgl": [
             {
              "colorbar": {
               "outlinewidth": 0,
               "ticks": ""
              },
              "colorscale": [
               [
                0,
                "#0d0887"
               ],
               [
                0.1111111111111111,
                "#46039f"
               ],
               [
                0.2222222222222222,
                "#7201a8"
               ],
               [
                0.3333333333333333,
                "#9c179e"
               ],
               [
                0.4444444444444444,
                "#bd3786"
               ],
               [
                0.5555555555555556,
                "#d8576b"
               ],
               [
                0.6666666666666666,
                "#ed7953"
               ],
               [
                0.7777777777777778,
                "#fb9f3a"
               ],
               [
                0.8888888888888888,
                "#fdca26"
               ],
               [
                1,
                "#f0f921"
               ]
              ],
              "type": "heatmapgl"
             }
            ],
            "histogram": [
             {
              "marker": {
               "pattern": {
                "fillmode": "overlay",
                "size": 10,
                "solidity": 0.2
               }
              },
              "type": "histogram"
             }
            ],
            "histogram2d": [
             {
              "colorbar": {
               "outlinewidth": 0,
               "ticks": ""
              },
              "colorscale": [
               [
                0,
                "#0d0887"
               ],
               [
                0.1111111111111111,
                "#46039f"
               ],
               [
                0.2222222222222222,
                "#7201a8"
               ],
               [
                0.3333333333333333,
                "#9c179e"
               ],
               [
                0.4444444444444444,
                "#bd3786"
               ],
               [
                0.5555555555555556,
                "#d8576b"
               ],
               [
                0.6666666666666666,
                "#ed7953"
               ],
               [
                0.7777777777777778,
                "#fb9f3a"
               ],
               [
                0.8888888888888888,
                "#fdca26"
               ],
               [
                1,
                "#f0f921"
               ]
              ],
              "type": "histogram2d"
             }
            ],
            "histogram2dcontour": [
             {
              "colorbar": {
               "outlinewidth": 0,
               "ticks": ""
              },
              "colorscale": [
               [
                0,
                "#0d0887"
               ],
               [
                0.1111111111111111,
                "#46039f"
               ],
               [
                0.2222222222222222,
                "#7201a8"
               ],
               [
                0.3333333333333333,
                "#9c179e"
               ],
               [
                0.4444444444444444,
                "#bd3786"
               ],
               [
                0.5555555555555556,
                "#d8576b"
               ],
               [
                0.6666666666666666,
                "#ed7953"
               ],
               [
                0.7777777777777778,
                "#fb9f3a"
               ],
               [
                0.8888888888888888,
                "#fdca26"
               ],
               [
                1,
                "#f0f921"
               ]
              ],
              "type": "histogram2dcontour"
             }
            ],
            "mesh3d": [
             {
              "colorbar": {
               "outlinewidth": 0,
               "ticks": ""
              },
              "type": "mesh3d"
             }
            ],
            "parcoords": [
             {
              "line": {
               "colorbar": {
                "outlinewidth": 0,
                "ticks": ""
               }
              },
              "type": "parcoords"
             }
            ],
            "pie": [
             {
              "automargin": true,
              "type": "pie"
             }
            ],
            "scatter": [
             {
              "fillpattern": {
               "fillmode": "overlay",
               "size": 10,
               "solidity": 0.2
              },
              "type": "scatter"
             }
            ],
            "scatter3d": [
             {
              "line": {
               "colorbar": {
                "outlinewidth": 0,
                "ticks": ""
               }
              },
              "marker": {
               "colorbar": {
                "outlinewidth": 0,
                "ticks": ""
               }
              },
              "type": "scatter3d"
             }
            ],
            "scattercarpet": [
             {
              "marker": {
               "colorbar": {
                "outlinewidth": 0,
                "ticks": ""
               }
              },
              "type": "scattercarpet"
             }
            ],
            "scattergeo": [
             {
              "marker": {
               "colorbar": {
                "outlinewidth": 0,
                "ticks": ""
               }
              },
              "type": "scattergeo"
             }
            ],
            "scattergl": [
             {
              "marker": {
               "colorbar": {
                "outlinewidth": 0,
                "ticks": ""
               }
              },
              "type": "scattergl"
             }
            ],
            "scattermapbox": [
             {
              "marker": {
               "colorbar": {
                "outlinewidth": 0,
                "ticks": ""
               }
              },
              "type": "scattermapbox"
             }
            ],
            "scatterpolar": [
             {
              "marker": {
               "colorbar": {
                "outlinewidth": 0,
                "ticks": ""
               }
              },
              "type": "scatterpolar"
             }
            ],
            "scatterpolargl": [
             {
              "marker": {
               "colorbar": {
                "outlinewidth": 0,
                "ticks": ""
               }
              },
              "type": "scatterpolargl"
             }
            ],
            "scatterternary": [
             {
              "marker": {
               "colorbar": {
                "outlinewidth": 0,
                "ticks": ""
               }
              },
              "type": "scatterternary"
             }
            ],
            "surface": [
             {
              "colorbar": {
               "outlinewidth": 0,
               "ticks": ""
              },
              "colorscale": [
               [
                0,
                "#0d0887"
               ],
               [
                0.1111111111111111,
                "#46039f"
               ],
               [
                0.2222222222222222,
                "#7201a8"
               ],
               [
                0.3333333333333333,
                "#9c179e"
               ],
               [
                0.4444444444444444,
                "#bd3786"
               ],
               [
                0.5555555555555556,
                "#d8576b"
               ],
               [
                0.6666666666666666,
                "#ed7953"
               ],
               [
                0.7777777777777778,
                "#fb9f3a"
               ],
               [
                0.8888888888888888,
                "#fdca26"
               ],
               [
                1,
                "#f0f921"
               ]
              ],
              "type": "surface"
             }
            ],
            "table": [
             {
              "cells": {
               "fill": {
                "color": "#EBF0F8"
               },
               "line": {
                "color": "white"
               }
              },
              "header": {
               "fill": {
                "color": "#C8D4E3"
               },
               "line": {
                "color": "white"
               }
              },
              "type": "table"
             }
            ]
           },
           "layout": {
            "annotationdefaults": {
             "arrowcolor": "#2a3f5f",
             "arrowhead": 0,
             "arrowwidth": 1
            },
            "autotypenumbers": "strict",
            "coloraxis": {
             "colorbar": {
              "outlinewidth": 0,
              "ticks": ""
             }
            },
            "colorscale": {
             "diverging": [
              [
               0,
               "#8e0152"
              ],
              [
               0.1,
               "#c51b7d"
              ],
              [
               0.2,
               "#de77ae"
              ],
              [
               0.3,
               "#f1b6da"
              ],
              [
               0.4,
               "#fde0ef"
              ],
              [
               0.5,
               "#f7f7f7"
              ],
              [
               0.6,
               "#e6f5d0"
              ],
              [
               0.7,
               "#b8e186"
              ],
              [
               0.8,
               "#7fbc41"
              ],
              [
               0.9,
               "#4d9221"
              ],
              [
               1,
               "#276419"
              ]
             ],
             "sequential": [
              [
               0,
               "#0d0887"
              ],
              [
               0.1111111111111111,
               "#46039f"
              ],
              [
               0.2222222222222222,
               "#7201a8"
              ],
              [
               0.3333333333333333,
               "#9c179e"
              ],
              [
               0.4444444444444444,
               "#bd3786"
              ],
              [
               0.5555555555555556,
               "#d8576b"
              ],
              [
               0.6666666666666666,
               "#ed7953"
              ],
              [
               0.7777777777777778,
               "#fb9f3a"
              ],
              [
               0.8888888888888888,
               "#fdca26"
              ],
              [
               1,
               "#f0f921"
              ]
             ],
             "sequentialminus": [
              [
               0,
               "#0d0887"
              ],
              [
               0.1111111111111111,
               "#46039f"
              ],
              [
               0.2222222222222222,
               "#7201a8"
              ],
              [
               0.3333333333333333,
               "#9c179e"
              ],
              [
               0.4444444444444444,
               "#bd3786"
              ],
              [
               0.5555555555555556,
               "#d8576b"
              ],
              [
               0.6666666666666666,
               "#ed7953"
              ],
              [
               0.7777777777777778,
               "#fb9f3a"
              ],
              [
               0.8888888888888888,
               "#fdca26"
              ],
              [
               1,
               "#f0f921"
              ]
             ]
            },
            "colorway": [
             "#636efa",
             "#EF553B",
             "#00cc96",
             "#ab63fa",
             "#FFA15A",
             "#19d3f3",
             "#FF6692",
             "#B6E880",
             "#FF97FF",
             "#FECB52"
            ],
            "font": {
             "color": "#2a3f5f"
            },
            "geo": {
             "bgcolor": "white",
             "lakecolor": "white",
             "landcolor": "white",
             "showlakes": true,
             "showland": true,
             "subunitcolor": "#C8D4E3"
            },
            "hoverlabel": {
             "align": "left"
            },
            "hovermode": "closest",
            "mapbox": {
             "style": "light"
            },
            "paper_bgcolor": "white",
            "plot_bgcolor": "white",
            "polar": {
             "angularaxis": {
              "gridcolor": "#EBF0F8",
              "linecolor": "#EBF0F8",
              "ticks": ""
             },
             "bgcolor": "white",
             "radialaxis": {
              "gridcolor": "#EBF0F8",
              "linecolor": "#EBF0F8",
              "ticks": ""
             }
            },
            "scene": {
             "xaxis": {
              "backgroundcolor": "white",
              "gridcolor": "#DFE8F3",
              "gridwidth": 2,
              "linecolor": "#EBF0F8",
              "showbackground": true,
              "ticks": "",
              "zerolinecolor": "#EBF0F8"
             },
             "yaxis": {
              "backgroundcolor": "white",
              "gridcolor": "#DFE8F3",
              "gridwidth": 2,
              "linecolor": "#EBF0F8",
              "showbackground": true,
              "ticks": "",
              "zerolinecolor": "#EBF0F8"
             },
             "zaxis": {
              "backgroundcolor": "white",
              "gridcolor": "#DFE8F3",
              "gridwidth": 2,
              "linecolor": "#EBF0F8",
              "showbackground": true,
              "ticks": "",
              "zerolinecolor": "#EBF0F8"
             }
            },
            "shapedefaults": {
             "line": {
              "color": "#2a3f5f"
             }
            },
            "ternary": {
             "aaxis": {
              "gridcolor": "#DFE8F3",
              "linecolor": "#A2B1C6",
              "ticks": ""
             },
             "baxis": {
              "gridcolor": "#DFE8F3",
              "linecolor": "#A2B1C6",
              "ticks": ""
             },
             "bgcolor": "white",
             "caxis": {
              "gridcolor": "#DFE8F3",
              "linecolor": "#A2B1C6",
              "ticks": ""
             }
            },
            "title": {
             "x": 0.05
            },
            "xaxis": {
             "automargin": true,
             "gridcolor": "#EBF0F8",
             "linecolor": "#EBF0F8",
             "ticks": "",
             "title": {
              "standoff": 15
             },
             "zerolinecolor": "#EBF0F8",
             "zerolinewidth": 2
            },
            "yaxis": {
             "automargin": true,
             "gridcolor": "#EBF0F8",
             "linecolor": "#EBF0F8",
             "ticks": "",
             "title": {
              "standoff": 15
             },
             "zerolinecolor": "#EBF0F8",
             "zerolinewidth": 2
            }
           }
          },
          "xaxis": {
           "automargin": true,
           "autorange": false,
           "fixedrange": true,
           "linecolor": "#444",
           "linewidth": 2,
           "minor": {
            "tickmode": "linear",
            "ticks": "outside"
           },
           "mirror": true,
           "showline": true,
           "tickmode": "linear",
           "ticks": "outside",
           "zeroline": false
          },
          "yaxis": {
           "automargin": true,
           "autorange": false,
           "fixedrange": true,
           "linecolor": "#444",
           "linewidth": 2,
           "minor": {
            "tickmode": "linear",
            "ticks": "outside"
           },
           "mirror": true,
           "showline": true,
           "tickmode": "linear",
           "ticks": "outside",
           "zeroline": false
          }
         }
        },
        "xaxis": {
         "dtick": 5,
         "minor": {
          "dtick": 1,
          "tick0": 0
         },
         "range": [
          0.8,
          20.2
         ],
         "tick0": 0,
         "title": {
          "text": "level"
         }
        },
        "yaxis": {
         "dtick": 0.2,
         "minor": {
          "dtick": 0.1,
          "tick0": 0
         },
         "range": [
          0,
          1.5
         ],
         "tick0": 0,
         "title": {
          "text": "encounter XP / half Daily XP"
         }
        }
       }
      }
     },
     "metadata": {},
     "output_type": "display_data"
    }
   ],
   "source": [
    "# Plots XP thresholds for each encounter difficulty. Thresholds are normalized to half daily XP budget.\n",
    "\n",
    "fig = go.Figure(\n",
    "    layout=go.Layout(\n",
    "        template=TFB_TEMPLATE,\n",
    "        xaxis=dict(\n",
    "            title_text='level',\n",
    "            range=[0.8, 20.2],\n",
    "            tick0=0, dtick=5,\n",
    "            minor=dict(tick0=0, dtick=1),\n",
    "        ),\n",
    "        yaxis=dict(\n",
    "            title_text='encounter XP / half Daily XP',\n",
    "            range=[0, 1.5],\n",
    "            tick0=0, dtick=0.2,\n",
    "            minor=dict(tick0=0, dtick=0.1),\n",
    "        ),\n",
    "        legend=dict(\n",
    "            yanchor='top',  y=0.99,\n",
    "            xanchor='left', x=0.01,\n",
    "        )\n",
    "    )\n",
    ")\n",
    "\n",
    "levels = np.array(range(1,21,1))\n",
    "enc_XP_budget = 0.5*np.array(ENCOUNTER_DIFFICULTIES['Daily']['XP'])\n",
    "\n",
    "for diff in ['Easy','Medium','Hard','Deadly']:\n",
    "    d = ENCOUNTER_DIFFICULTIES[diff]\n",
    "    rel_XP = np.array(d['XP'])/enc_XP_budget\n",
    "    rel_XP_mean = np.median(rel_XP)\n",
    "\n",
    "    fig.add_trace(go.Scatter(\n",
    "        x=levels, \n",
    "        y=rel_XP,\n",
    "        mode='lines', \n",
    "        line=dict(color=d['color'], dash='solid'),\n",
    "        unselected=dict(marker=dict(opacity=0.0)),\n",
    "        name=diff,\n",
    "        hovertemplate=\n",
    "            '<b>' + diff + '</b><br>'+\n",
    "            'lvl %{x}<br>'+\n",
    "            'ratio %{y:.2f}'+\n",
    "            '<extra></extra>'\n",
    "    ))\n",
    "    fig.add_trace(go.Scatter(\n",
    "        x=levels, \n",
    "        y=20*[rel_XP_mean],\n",
    "        mode='lines', \n",
    "        line=dict(color=d['color'], dash='dash'),\n",
    "        unselected=dict(marker=dict(opacity=0.0)),\n",
    "        name=diff,\n",
    "        showlegend=False,\n",
    "        hoverinfo='skip',\n",
    "    ))\n",
    "\n",
    "ref_XP = 0.5*np.array(ENCOUNTER_DIFFICULTIES['Daily']['XP'])\n",
    "fig.add_trace(go.Scatter(\n",
    "    x=levels, \n",
    "    y=ref_XP/enc_XP_budget,\n",
    "    mode='lines', \n",
    "    line=dict(color='black', dash='dash'),\n",
    "    name='half Daily XP',\n",
    "    showlegend=False,\n",
    "    hoverinfo='skip'\n",
    "))\n",
    "\n",
    "\n",
    "# show figure\n",
    "fig.show(config=TFB_CONFIG)\n",
    "\n",
    "# save large format figure\n",
    "if SAVEFIGS:\n",
    "    file_name = f'./fig-encounter-xp-thresholds-vs-level-large.html'\n",
    "    fig_html = fig.to_html(\n",
    "        config=TFB_CONFIG,\n",
    "        include_plotlyjs=False, \n",
    "        full_html=False, \n",
    "    )\n",
    "    fig_soup = BeautifulSoup(fig_html, 'html.parser')\n",
    "    fig_soup.div['class'] = 'plotly-div-large'\n",
    "    with open(file_name, 'wb') as fout:\n",
    "        fout.write(fig_soup.prettify('utf-8'))\n",
    "\n",
    "# save small format figure\n",
    "if SAVEFIGS:\n",
    "    fig.update_layout(font=dict(size=10))\n",
    "    file_name = f'./fig-encounter-xp-thresholds-vs-level-small.html'\n",
    "    fig_html = fig.to_html(\n",
    "        config=TFB_CONFIG,\n",
    "        include_plotlyjs=False, \n",
    "        full_html=False, \n",
    "    )\n",
    "    fig_soup = BeautifulSoup(fig_html, 'html.parser')\n",
    "    fig_soup.div['class'] = 'plotly-div-small'\n",
    "    with open(file_name, 'wb') as fout:\n",
    "        fout.write(fig_soup.prettify('utf-8'))"
   ]
  },
  {
   "cell_type": "code",
   "execution_count": 5,
   "metadata": {},
   "outputs": [
    {
     "data": {
      "application/vnd.plotly.v1+json": {
       "config": {
        "autosizable": false,
        "displayModeBar": "hover",
        "displaylogo": false,
        "modeBarButtonsToRemove": [
         "select2d",
         "lasso2d",
         "zoom2d",
         "zoomIn2d",
         "zoomOut2d",
         "pan2d",
         "autoScale2d",
         "hoverClosestCartesian",
         "hoverCompareCartesian",
         "toggleSpikelines",
         "resetScale2d"
        ],
        "plotlyServerURL": "https://plot.ly",
        "responsive": true,
        "showAxisDragHandles": false,
        "toImageButtonOptions": {
         "filename": "tfb-plot",
         "format": "png",
         "height": 450,
         "scale": 2,
         "width": 600
        }
       },
       "data": [
        {
         "hovertemplate": "<b>encounter XP</b><br>lvl %{x}<br>ratio %{y:.2f}<extra></extra>",
         "line": {
          "color": "red",
          "dash": "solid"
         },
         "mode": "lines+markers",
         "name": "mean encounter XP",
         "type": "scatter",
         "unselected": {
          "marker": {
           "opacity": 0
          }
         },
         "x": [
          1,
          2,
          3,
          4,
          5,
          6,
          7,
          8,
          9,
          10,
          11,
          12,
          13,
          14,
          15,
          16,
          17,
          18,
          19,
          20
         ],
         "y": [
          0.9433629115226337,
          0.8388247492283952,
          0.6231983024691359,
          0.6873925011671336,
          0.8085586896663427,
          0.8879661703249007,
          0.8747295565476192,
          0.9338274231150795,
          0.9646149652777778,
          0.8839107023518009,
          1.0465831944444446,
          1.1587659766101666,
          1.1580556146166743,
          1.1490771146262004,
          1.0672982947744605,
          1.0552716919629117,
          1.061428063634965,
          1.115725403222359,
          1.1547443715706447,
          0.9885091513133031
         ]
        },
        {
         "hoverinfo": "skip",
         "line": {
          "color": "black",
          "dash": "dash"
         },
         "mode": "lines",
         "name": "half Daily XP",
         "showlegend": false,
         "type": "scatter",
         "x": [
          1,
          2,
          3,
          4,
          5,
          6,
          7,
          8,
          9,
          10,
          11,
          12,
          13,
          14,
          15,
          16,
          17,
          18,
          19,
          20
         ],
         "y": [
          1,
          1,
          1,
          1,
          1,
          1,
          1,
          1,
          1,
          1,
          1,
          1,
          1,
          1,
          1,
          1,
          1,
          1,
          1,
          1
         ]
        },
        {
         "hoverinfo": "skip",
         "line": {
          "color": "black",
          "dash": "dashdot"
         },
         "mode": "lines",
         "name": "Deadly XP",
         "type": "scatter",
         "x": [
          1,
          2,
          3,
          4,
          5,
          6,
          7,
          8,
          9,
          10,
          11,
          12,
          13,
          14,
          15,
          16,
          17,
          18,
          19,
          20
         ],
         "y": [
          0.6666666666666666,
          0.6666666666666666,
          0.6666666666666666,
          0.5882352941176471,
          0.6285714285714286,
          0.7,
          0.68,
          0.7,
          0.64,
          0.6222222222222222,
          0.6857142857142857,
          0.782608695652174,
          0.7555555555555555,
          0.76,
          0.7111111111111111,
          0.72,
          0.704,
          0.7037037037037037,
          0.7266666666666667,
          0.635
         ]
        }
       ],
       "layout": {
        "legend": {
         "x": 0.01,
         "xanchor": "left",
         "y": 0.99,
         "yanchor": "top"
        },
        "template": {
         "layout": {
          "autosize": true,
          "font": {
           "family": "sans-serif",
           "size": 14
          },
          "hovermode": "closest",
          "legend": {
           "font": {
            "size": 10
           },
           "orientation": "h",
           "tracegroupgap": 0
          },
          "margin": {
           "b": 40,
           "l": 50,
           "pad": 4,
           "r": 25,
           "t": 20
          },
          "template": {
           "data": {
            "bar": [
             {
              "error_x": {
               "color": "#2a3f5f"
              },
              "error_y": {
               "color": "#2a3f5f"
              },
              "marker": {
               "line": {
                "color": "white",
                "width": 0.5
               },
               "pattern": {
                "fillmode": "overlay",
                "size": 10,
                "solidity": 0.2
               }
              },
              "type": "bar"
             }
            ],
            "barpolar": [
             {
              "marker": {
               "line": {
                "color": "white",
                "width": 0.5
               },
               "pattern": {
                "fillmode": "overlay",
                "size": 10,
                "solidity": 0.2
               }
              },
              "type": "barpolar"
             }
            ],
            "carpet": [
             {
              "aaxis": {
               "endlinecolor": "#2a3f5f",
               "gridcolor": "#C8D4E3",
               "linecolor": "#C8D4E3",
               "minorgridcolor": "#C8D4E3",
               "startlinecolor": "#2a3f5f"
              },
              "baxis": {
               "endlinecolor": "#2a3f5f",
               "gridcolor": "#C8D4E3",
               "linecolor": "#C8D4E3",
               "minorgridcolor": "#C8D4E3",
               "startlinecolor": "#2a3f5f"
              },
              "type": "carpet"
             }
            ],
            "choropleth": [
             {
              "colorbar": {
               "outlinewidth": 0,
               "ticks": ""
              },
              "type": "choropleth"
             }
            ],
            "contour": [
             {
              "colorbar": {
               "outlinewidth": 0,
               "ticks": ""
              },
              "colorscale": [
               [
                0,
                "#0d0887"
               ],
               [
                0.1111111111111111,
                "#46039f"
               ],
               [
                0.2222222222222222,
                "#7201a8"
               ],
               [
                0.3333333333333333,
                "#9c179e"
               ],
               [
                0.4444444444444444,
                "#bd3786"
               ],
               [
                0.5555555555555556,
                "#d8576b"
               ],
               [
                0.6666666666666666,
                "#ed7953"
               ],
               [
                0.7777777777777778,
                "#fb9f3a"
               ],
               [
                0.8888888888888888,
                "#fdca26"
               ],
               [
                1,
                "#f0f921"
               ]
              ],
              "type": "contour"
             }
            ],
            "contourcarpet": [
             {
              "colorbar": {
               "outlinewidth": 0,
               "ticks": ""
              },
              "type": "contourcarpet"
             }
            ],
            "heatmap": [
             {
              "colorbar": {
               "outlinewidth": 0,
               "ticks": ""
              },
              "colorscale": [
               [
                0,
                "#0d0887"
               ],
               [
                0.1111111111111111,
                "#46039f"
               ],
               [
                0.2222222222222222,
                "#7201a8"
               ],
               [
                0.3333333333333333,
                "#9c179e"
               ],
               [
                0.4444444444444444,
                "#bd3786"
               ],
               [
                0.5555555555555556,
                "#d8576b"
               ],
               [
                0.6666666666666666,
                "#ed7953"
               ],
               [
                0.7777777777777778,
                "#fb9f3a"
               ],
               [
                0.8888888888888888,
                "#fdca26"
               ],
               [
                1,
                "#f0f921"
               ]
              ],
              "type": "heatmap"
             }
            ],
            "heatmapgl": [
             {
              "colorbar": {
               "outlinewidth": 0,
               "ticks": ""
              },
              "colorscale": [
               [
                0,
                "#0d0887"
               ],
               [
                0.1111111111111111,
                "#46039f"
               ],
               [
                0.2222222222222222,
                "#7201a8"
               ],
               [
                0.3333333333333333,
                "#9c179e"
               ],
               [
                0.4444444444444444,
                "#bd3786"
               ],
               [
                0.5555555555555556,
                "#d8576b"
               ],
               [
                0.6666666666666666,
                "#ed7953"
               ],
               [
                0.7777777777777778,
                "#fb9f3a"
               ],
               [
                0.8888888888888888,
                "#fdca26"
               ],
               [
                1,
                "#f0f921"
               ]
              ],
              "type": "heatmapgl"
             }
            ],
            "histogram": [
             {
              "marker": {
               "pattern": {
                "fillmode": "overlay",
                "size": 10,
                "solidity": 0.2
               }
              },
              "type": "histogram"
             }
            ],
            "histogram2d": [
             {
              "colorbar": {
               "outlinewidth": 0,
               "ticks": ""
              },
              "colorscale": [
               [
                0,
                "#0d0887"
               ],
               [
                0.1111111111111111,
                "#46039f"
               ],
               [
                0.2222222222222222,
                "#7201a8"
               ],
               [
                0.3333333333333333,
                "#9c179e"
               ],
               [
                0.4444444444444444,
                "#bd3786"
               ],
               [
                0.5555555555555556,
                "#d8576b"
               ],
               [
                0.6666666666666666,
                "#ed7953"
               ],
               [
                0.7777777777777778,
                "#fb9f3a"
               ],
               [
                0.8888888888888888,
                "#fdca26"
               ],
               [
                1,
                "#f0f921"
               ]
              ],
              "type": "histogram2d"
             }
            ],
            "histogram2dcontour": [
             {
              "colorbar": {
               "outlinewidth": 0,
               "ticks": ""
              },
              "colorscale": [
               [
                0,
                "#0d0887"
               ],
               [
                0.1111111111111111,
                "#46039f"
               ],
               [
                0.2222222222222222,
                "#7201a8"
               ],
               [
                0.3333333333333333,
                "#9c179e"
               ],
               [
                0.4444444444444444,
                "#bd3786"
               ],
               [
                0.5555555555555556,
                "#d8576b"
               ],
               [
                0.6666666666666666,
                "#ed7953"
               ],
               [
                0.7777777777777778,
                "#fb9f3a"
               ],
               [
                0.8888888888888888,
                "#fdca26"
               ],
               [
                1,
                "#f0f921"
               ]
              ],
              "type": "histogram2dcontour"
             }
            ],
            "mesh3d": [
             {
              "colorbar": {
               "outlinewidth": 0,
               "ticks": ""
              },
              "type": "mesh3d"
             }
            ],
            "parcoords": [
             {
              "line": {
               "colorbar": {
                "outlinewidth": 0,
                "ticks": ""
               }
              },
              "type": "parcoords"
             }
            ],
            "pie": [
             {
              "automargin": true,
              "type": "pie"
             }
            ],
            "scatter": [
             {
              "fillpattern": {
               "fillmode": "overlay",
               "size": 10,
               "solidity": 0.2
              },
              "type": "scatter"
             }
            ],
            "scatter3d": [
             {
              "line": {
               "colorbar": {
                "outlinewidth": 0,
                "ticks": ""
               }
              },
              "marker": {
               "colorbar": {
                "outlinewidth": 0,
                "ticks": ""
               }
              },
              "type": "scatter3d"
             }
            ],
            "scattercarpet": [
             {
              "marker": {
               "colorbar": {
                "outlinewidth": 0,
                "ticks": ""
               }
              },
              "type": "scattercarpet"
             }
            ],
            "scattergeo": [
             {
              "marker": {
               "colorbar": {
                "outlinewidth": 0,
                "ticks": ""
               }
              },
              "type": "scattergeo"
             }
            ],
            "scattergl": [
             {
              "marker": {
               "colorbar": {
                "outlinewidth": 0,
                "ticks": ""
               }
              },
              "type": "scattergl"
             }
            ],
            "scattermapbox": [
             {
              "marker": {
               "colorbar": {
                "outlinewidth": 0,
                "ticks": ""
               }
              },
              "type": "scattermapbox"
             }
            ],
            "scatterpolar": [
             {
              "marker": {
               "colorbar": {
                "outlinewidth": 0,
                "ticks": ""
               }
              },
              "type": "scatterpolar"
             }
            ],
            "scatterpolargl": [
             {
              "marker": {
               "colorbar": {
                "outlinewidth": 0,
                "ticks": ""
               }
              },
              "type": "scatterpolargl"
             }
            ],
            "scatterternary": [
             {
              "marker": {
               "colorbar": {
                "outlinewidth": 0,
                "ticks": ""
               }
              },
              "type": "scatterternary"
             }
            ],
            "surface": [
             {
              "colorbar": {
               "outlinewidth": 0,
               "ticks": ""
              },
              "colorscale": [
               [
                0,
                "#0d0887"
               ],
               [
                0.1111111111111111,
                "#46039f"
               ],
               [
                0.2222222222222222,
                "#7201a8"
               ],
               [
                0.3333333333333333,
                "#9c179e"
               ],
               [
                0.4444444444444444,
                "#bd3786"
               ],
               [
                0.5555555555555556,
                "#d8576b"
               ],
               [
                0.6666666666666666,
                "#ed7953"
               ],
               [
                0.7777777777777778,
                "#fb9f3a"
               ],
               [
                0.8888888888888888,
                "#fdca26"
               ],
               [
                1,
                "#f0f921"
               ]
              ],
              "type": "surface"
             }
            ],
            "table": [
             {
              "cells": {
               "fill": {
                "color": "#EBF0F8"
               },
               "line": {
                "color": "white"
               }
              },
              "header": {
               "fill": {
                "color": "#C8D4E3"
               },
               "line": {
                "color": "white"
               }
              },
              "type": "table"
             }
            ]
           },
           "layout": {
            "annotationdefaults": {
             "arrowcolor": "#2a3f5f",
             "arrowhead": 0,
             "arrowwidth": 1
            },
            "autotypenumbers": "strict",
            "coloraxis": {
             "colorbar": {
              "outlinewidth": 0,
              "ticks": ""
             }
            },
            "colorscale": {
             "diverging": [
              [
               0,
               "#8e0152"
              ],
              [
               0.1,
               "#c51b7d"
              ],
              [
               0.2,
               "#de77ae"
              ],
              [
               0.3,
               "#f1b6da"
              ],
              [
               0.4,
               "#fde0ef"
              ],
              [
               0.5,
               "#f7f7f7"
              ],
              [
               0.6,
               "#e6f5d0"
              ],
              [
               0.7,
               "#b8e186"
              ],
              [
               0.8,
               "#7fbc41"
              ],
              [
               0.9,
               "#4d9221"
              ],
              [
               1,
               "#276419"
              ]
             ],
             "sequential": [
              [
               0,
               "#0d0887"
              ],
              [
               0.1111111111111111,
               "#46039f"
              ],
              [
               0.2222222222222222,
               "#7201a8"
              ],
              [
               0.3333333333333333,
               "#9c179e"
              ],
              [
               0.4444444444444444,
               "#bd3786"
              ],
              [
               0.5555555555555556,
               "#d8576b"
              ],
              [
               0.6666666666666666,
               "#ed7953"
              ],
              [
               0.7777777777777778,
               "#fb9f3a"
              ],
              [
               0.8888888888888888,
               "#fdca26"
              ],
              [
               1,
               "#f0f921"
              ]
             ],
             "sequentialminus": [
              [
               0,
               "#0d0887"
              ],
              [
               0.1111111111111111,
               "#46039f"
              ],
              [
               0.2222222222222222,
               "#7201a8"
              ],
              [
               0.3333333333333333,
               "#9c179e"
              ],
              [
               0.4444444444444444,
               "#bd3786"
              ],
              [
               0.5555555555555556,
               "#d8576b"
              ],
              [
               0.6666666666666666,
               "#ed7953"
              ],
              [
               0.7777777777777778,
               "#fb9f3a"
              ],
              [
               0.8888888888888888,
               "#fdca26"
              ],
              [
               1,
               "#f0f921"
              ]
             ]
            },
            "colorway": [
             "#636efa",
             "#EF553B",
             "#00cc96",
             "#ab63fa",
             "#FFA15A",
             "#19d3f3",
             "#FF6692",
             "#B6E880",
             "#FF97FF",
             "#FECB52"
            ],
            "font": {
             "color": "#2a3f5f"
            },
            "geo": {
             "bgcolor": "white",
             "lakecolor": "white",
             "landcolor": "white",
             "showlakes": true,
             "showland": true,
             "subunitcolor": "#C8D4E3"
            },
            "hoverlabel": {
             "align": "left"
            },
            "hovermode": "closest",
            "mapbox": {
             "style": "light"
            },
            "paper_bgcolor": "white",
            "plot_bgcolor": "white",
            "polar": {
             "angularaxis": {
              "gridcolor": "#EBF0F8",
              "linecolor": "#EBF0F8",
              "ticks": ""
             },
             "bgcolor": "white",
             "radialaxis": {
              "gridcolor": "#EBF0F8",
              "linecolor": "#EBF0F8",
              "ticks": ""
             }
            },
            "scene": {
             "xaxis": {
              "backgroundcolor": "white",
              "gridcolor": "#DFE8F3",
              "gridwidth": 2,
              "linecolor": "#EBF0F8",
              "showbackground": true,
              "ticks": "",
              "zerolinecolor": "#EBF0F8"
             },
             "yaxis": {
              "backgroundcolor": "white",
              "gridcolor": "#DFE8F3",
              "gridwidth": 2,
              "linecolor": "#EBF0F8",
              "showbackground": true,
              "ticks": "",
              "zerolinecolor": "#EBF0F8"
             },
             "zaxis": {
              "backgroundcolor": "white",
              "gridcolor": "#DFE8F3",
              "gridwidth": 2,
              "linecolor": "#EBF0F8",
              "showbackground": true,
              "ticks": "",
              "zerolinecolor": "#EBF0F8"
             }
            },
            "shapedefaults": {
             "line": {
              "color": "#2a3f5f"
             }
            },
            "ternary": {
             "aaxis": {
              "gridcolor": "#DFE8F3",
              "linecolor": "#A2B1C6",
              "ticks": ""
             },
             "baxis": {
              "gridcolor": "#DFE8F3",
              "linecolor": "#A2B1C6",
              "ticks": ""
             },
             "bgcolor": "white",
             "caxis": {
              "gridcolor": "#DFE8F3",
              "linecolor": "#A2B1C6",
              "ticks": ""
             }
            },
            "title": {
             "x": 0.05
            },
            "xaxis": {
             "automargin": true,
             "gridcolor": "#EBF0F8",
             "linecolor": "#EBF0F8",
             "ticks": "",
             "title": {
              "standoff": 15
             },
             "zerolinecolor": "#EBF0F8",
             "zerolinewidth": 2
            },
            "yaxis": {
             "automargin": true,
             "gridcolor": "#EBF0F8",
             "linecolor": "#EBF0F8",
             "ticks": "",
             "title": {
              "standoff": 15
             },
             "zerolinecolor": "#EBF0F8",
             "zerolinewidth": 2
            }
           }
          },
          "xaxis": {
           "automargin": true,
           "autorange": false,
           "fixedrange": true,
           "linecolor": "#444",
           "linewidth": 2,
           "minor": {
            "tickmode": "linear",
            "ticks": "outside"
           },
           "mirror": true,
           "showline": true,
           "tickmode": "linear",
           "ticks": "outside",
           "zeroline": false
          },
          "yaxis": {
           "automargin": true,
           "autorange": false,
           "fixedrange": true,
           "linecolor": "#444",
           "linewidth": 2,
           "minor": {
            "tickmode": "linear",
            "ticks": "outside"
           },
           "mirror": true,
           "showline": true,
           "tickmode": "linear",
           "ticks": "outside",
           "zeroline": false
          }
         }
        },
        "xaxis": {
         "dtick": 5,
         "minor": {
          "dtick": 1,
          "tick0": 0
         },
         "range": [
          0.8,
          20.2
         ],
         "tick0": 0,
         "title": {
          "text": "level"
         }
        },
        "yaxis": {
         "dtick": 0.2,
         "minor": {
          "dtick": 0.1,
          "tick0": 0
         },
         "range": [
          0,
          1.5
         ],
         "tick0": 0,
         "title": {
          "text": "calculated encounter XP / half Daily XP"
         }
        }
       }
      }
     },
     "metadata": {},
     "output_type": "display_data"
    }
   ],
   "source": [
    "# Plots average encounter XP for PCs, calculated for a full adventuring day with Medium encounters and two short rests.\n",
    "levels = np.array(range(1,21,1))\n",
    "\n",
    "fig = go.Figure(\n",
    "    layout=go.Layout(\n",
    "        template=TFB_TEMPLATE,\n",
    "        xaxis=dict(\n",
    "            title_text='level',\n",
    "            range=[0.8, 20.2],\n",
    "            tick0=0, dtick=5,\n",
    "            minor=dict(tick0=0, dtick=1),\n",
    "        ),\n",
    "        yaxis=dict(\n",
    "            title_text='calculated encounter XP / half Daily XP',\n",
    "            range=[0, 1.5],\n",
    "            tick0=0, dtick=0.2,\n",
    "            minor=dict(tick0=0, dtick=0.1),\n",
    "        ),\n",
    "        legend=dict(\n",
    "            yanchor='top',  y=0.99,\n",
    "            xanchor='left', x=0.01,\n",
    "        )\n",
    "    )\n",
    ")\n",
    "\n",
    "enc_XP_budget = 0.5*np.array(ENCOUNTER_DIFFICULTIES['Daily']['XP'])\n",
    "for diff in ['Medium']:\n",
    "    d = ENCOUNTER_DIFFICULTIES[diff]\n",
    "    pc_data_file = f'./pc data - {diff} 2 short rests.json'\n",
    "\n",
    "    with open(pc_data_file, 'r') as fin:\n",
    "        pc_data = json.load(fin)\n",
    "    \n",
    "    eXP = np.zeros(20)\n",
    "    for pc_class in PC_CLASSES:\n",
    "        eXP += np.array([x['encounter XP mean'] for x in pc_data[pc_class]])\n",
    "    eXP /= len(PC_CLASSES)\n",
    "\n",
    "    fig.add_trace(go.Scatter(\n",
    "        x=levels, \n",
    "        y=eXP/enc_XP_budget,\n",
    "        mode='lines+markers', \n",
    "        line=dict(color='red', dash='solid'),\n",
    "        unselected=dict(marker=dict(opacity=0.0)),\n",
    "        name='mean encounter XP',\n",
    "        hovertemplate=\n",
    "            '<b>encounter XP</b><br>'+\n",
    "            'lvl %{x}<br>'+\n",
    "            'ratio %{y:.2f}'+\n",
    "            '<extra></extra>'\n",
    "    ))\n",
    "\n",
    "ref_XP = 0.5*np.array(ENCOUNTER_DIFFICULTIES['Daily']['XP'])\n",
    "fig.add_trace(go.Scatter(\n",
    "    x=levels, \n",
    "    y=ref_XP/enc_XP_budget,\n",
    "    mode='lines', \n",
    "    line=dict(color='black', dash='dash'),\n",
    "    name='half Daily XP',\n",
    "    showlegend=False,\n",
    "    hoverinfo='skip'\n",
    "))\n",
    "\n",
    "ref_XP = np.array(ENCOUNTER_DIFFICULTIES['Deadly']['XP'])\n",
    "fig.add_trace(go.Scatter(\n",
    "    x=levels, \n",
    "    y=ref_XP/enc_XP_budget,\n",
    "    mode='lines', \n",
    "    line=dict(color='black', dash='dashdot'),\n",
    "    name='Deadly XP',\n",
    "    hoverinfo='skip'\n",
    "))\n",
    "\n",
    "# show figure\n",
    "fig.show(config=TFB_CONFIG)\n",
    "\n",
    "# save large format figure\n",
    "if SAVEFIGS:\n",
    "    file_name = f'./fig-half-daily-xp-vs-level-medium-adventuring-days-large.html'\n",
    "    fig_html = fig.to_html(\n",
    "        config=TFB_CONFIG,\n",
    "        include_plotlyjs=False, \n",
    "        full_html=False, \n",
    "    )\n",
    "    fig_soup = BeautifulSoup(fig_html, 'html.parser')\n",
    "    fig_soup.div['class'] = 'plotly-div-large'\n",
    "    with open(file_name, 'wb') as fout:\n",
    "        fout.write(fig_soup.prettify('utf-8'))\n",
    "\n",
    "# save small format figure\n",
    "if SAVEFIGS:\n",
    "    fig.update_traces(marker=dict(size=4))\n",
    "    fig.update_layout(font=dict(size=10))\n",
    "    file_name = f'./fig-half-daily-xp-vs-level-medium-adventuring-days-small.html'\n",
    "    fig_html = fig.to_html(\n",
    "        config=TFB_CONFIG,\n",
    "        include_plotlyjs=False, \n",
    "        full_html=False, \n",
    "    )\n",
    "    fig_soup = BeautifulSoup(fig_html, 'html.parser')\n",
    "    fig_soup.div['class'] = 'plotly-div-small'\n",
    "    with open(file_name, 'wb') as fout:\n",
    "        fout.write(fig_soup.prettify('utf-8'))"
   ]
  },
  {
   "cell_type": "code",
   "execution_count": 6,
   "metadata": {},
   "outputs": [
    {
     "data": {
      "application/vnd.plotly.v1+json": {
       "config": {
        "autosizable": false,
        "displayModeBar": "hover",
        "displaylogo": false,
        "modeBarButtonsToRemove": [
         "select2d",
         "lasso2d",
         "zoom2d",
         "zoomIn2d",
         "zoomOut2d",
         "pan2d",
         "autoScale2d",
         "hoverClosestCartesian",
         "hoverCompareCartesian",
         "toggleSpikelines",
         "resetScale2d"
        ],
        "plotlyServerURL": "https://plot.ly",
        "responsive": true,
        "showAxisDragHandles": false,
        "toImageButtonOptions": {
         "filename": "tfb-plot",
         "format": "png",
         "height": 450,
         "scale": 2,
         "width": 600
        }
       },
       "data": [
        {
         "hovertemplate": "<b>daily XP</b><br>lvl %{x}<br>ratio %{y:.2f}<extra></extra>",
         "line": {
          "color": "red",
          "dash": "solid"
         },
         "mode": "lines+markers",
         "name": "mean daily XP",
         "type": "scatter",
         "unselected": {
          "marker": {
           "opacity": 0
          }
         },
         "x": [
          1,
          2,
          3,
          4,
          5,
          6,
          7,
          8,
          9,
          10,
          11,
          12,
          13,
          14,
          15,
          16,
          17,
          18,
          19,
          20
         ],
         "y": [
          0.8628046767832647,
          0.8257488586676954,
          0.6249876874758874,
          0.6939146854575163,
          0.8306951510366052,
          0.9185908626302083,
          0.9054936293402778,
          0.9659035619212966,
          0.9983675815972222,
          0.9167515645724927,
          1.0934853644179896,
          1.206465433393093,
          1.206101873523472,
          1.196190616212277,
          1.1103914147729217,
          1.0976041856628964,
          1.1041018193097876,
          1.156862517259584,
          1.1965309260330932,
          1.0241505796485262
         ]
        },
        {
         "hoverinfo": "skip",
         "line": {
          "color": "black",
          "dash": "dash"
         },
         "mode": "lines",
         "name": "Daily XP",
         "showlegend": false,
         "type": "scatter",
         "x": [
          1,
          2,
          3,
          4,
          5,
          6,
          7,
          8,
          9,
          10,
          11,
          12,
          13,
          14,
          15,
          16,
          17,
          18,
          19,
          20
         ],
         "y": [
          1,
          1,
          1,
          1,
          1,
          1,
          1,
          1,
          1,
          1,
          1,
          1,
          1,
          1,
          1,
          1,
          1,
          1,
          1,
          1
         ]
        }
       ],
       "layout": {
        "legend": {
         "x": 0.01,
         "xanchor": "left",
         "y": 0.99,
         "yanchor": "top"
        },
        "template": {
         "layout": {
          "autosize": true,
          "font": {
           "family": "sans-serif",
           "size": 14
          },
          "hovermode": "closest",
          "legend": {
           "font": {
            "size": 10
           },
           "orientation": "h",
           "tracegroupgap": 0
          },
          "margin": {
           "b": 40,
           "l": 50,
           "pad": 4,
           "r": 25,
           "t": 20
          },
          "template": {
           "data": {
            "bar": [
             {
              "error_x": {
               "color": "#2a3f5f"
              },
              "error_y": {
               "color": "#2a3f5f"
              },
              "marker": {
               "line": {
                "color": "white",
                "width": 0.5
               },
               "pattern": {
                "fillmode": "overlay",
                "size": 10,
                "solidity": 0.2
               }
              },
              "type": "bar"
             }
            ],
            "barpolar": [
             {
              "marker": {
               "line": {
                "color": "white",
                "width": 0.5
               },
               "pattern": {
                "fillmode": "overlay",
                "size": 10,
                "solidity": 0.2
               }
              },
              "type": "barpolar"
             }
            ],
            "carpet": [
             {
              "aaxis": {
               "endlinecolor": "#2a3f5f",
               "gridcolor": "#C8D4E3",
               "linecolor": "#C8D4E3",
               "minorgridcolor": "#C8D4E3",
               "startlinecolor": "#2a3f5f"
              },
              "baxis": {
               "endlinecolor": "#2a3f5f",
               "gridcolor": "#C8D4E3",
               "linecolor": "#C8D4E3",
               "minorgridcolor": "#C8D4E3",
               "startlinecolor": "#2a3f5f"
              },
              "type": "carpet"
             }
            ],
            "choropleth": [
             {
              "colorbar": {
               "outlinewidth": 0,
               "ticks": ""
              },
              "type": "choropleth"
             }
            ],
            "contour": [
             {
              "colorbar": {
               "outlinewidth": 0,
               "ticks": ""
              },
              "colorscale": [
               [
                0,
                "#0d0887"
               ],
               [
                0.1111111111111111,
                "#46039f"
               ],
               [
                0.2222222222222222,
                "#7201a8"
               ],
               [
                0.3333333333333333,
                "#9c179e"
               ],
               [
                0.4444444444444444,
                "#bd3786"
               ],
               [
                0.5555555555555556,
                "#d8576b"
               ],
               [
                0.6666666666666666,
                "#ed7953"
               ],
               [
                0.7777777777777778,
                "#fb9f3a"
               ],
               [
                0.8888888888888888,
                "#fdca26"
               ],
               [
                1,
                "#f0f921"
               ]
              ],
              "type": "contour"
             }
            ],
            "contourcarpet": [
             {
              "colorbar": {
               "outlinewidth": 0,
               "ticks": ""
              },
              "type": "contourcarpet"
             }
            ],
            "heatmap": [
             {
              "colorbar": {
               "outlinewidth": 0,
               "ticks": ""
              },
              "colorscale": [
               [
                0,
                "#0d0887"
               ],
               [
                0.1111111111111111,
                "#46039f"
               ],
               [
                0.2222222222222222,
                "#7201a8"
               ],
               [
                0.3333333333333333,
                "#9c179e"
               ],
               [
                0.4444444444444444,
                "#bd3786"
               ],
               [
                0.5555555555555556,
                "#d8576b"
               ],
               [
                0.6666666666666666,
                "#ed7953"
               ],
               [
                0.7777777777777778,
                "#fb9f3a"
               ],
               [
                0.8888888888888888,
                "#fdca26"
               ],
               [
                1,
                "#f0f921"
               ]
              ],
              "type": "heatmap"
             }
            ],
            "heatmapgl": [
             {
              "colorbar": {
               "outlinewidth": 0,
               "ticks": ""
              },
              "colorscale": [
               [
                0,
                "#0d0887"
               ],
               [
                0.1111111111111111,
                "#46039f"
               ],
               [
                0.2222222222222222,
                "#7201a8"
               ],
               [
                0.3333333333333333,
                "#9c179e"
               ],
               [
                0.4444444444444444,
                "#bd3786"
               ],
               [
                0.5555555555555556,
                "#d8576b"
               ],
               [
                0.6666666666666666,
                "#ed7953"
               ],
               [
                0.7777777777777778,
                "#fb9f3a"
               ],
               [
                0.8888888888888888,
                "#fdca26"
               ],
               [
                1,
                "#f0f921"
               ]
              ],
              "type": "heatmapgl"
             }
            ],
            "histogram": [
             {
              "marker": {
               "pattern": {
                "fillmode": "overlay",
                "size": 10,
                "solidity": 0.2
               }
              },
              "type": "histogram"
             }
            ],
            "histogram2d": [
             {
              "colorbar": {
               "outlinewidth": 0,
               "ticks": ""
              },
              "colorscale": [
               [
                0,
                "#0d0887"
               ],
               [
                0.1111111111111111,
                "#46039f"
               ],
               [
                0.2222222222222222,
                "#7201a8"
               ],
               [
                0.3333333333333333,
                "#9c179e"
               ],
               [
                0.4444444444444444,
                "#bd3786"
               ],
               [
                0.5555555555555556,
                "#d8576b"
               ],
               [
                0.6666666666666666,
                "#ed7953"
               ],
               [
                0.7777777777777778,
                "#fb9f3a"
               ],
               [
                0.8888888888888888,
                "#fdca26"
               ],
               [
                1,
                "#f0f921"
               ]
              ],
              "type": "histogram2d"
             }
            ],
            "histogram2dcontour": [
             {
              "colorbar": {
               "outlinewidth": 0,
               "ticks": ""
              },
              "colorscale": [
               [
                0,
                "#0d0887"
               ],
               [
                0.1111111111111111,
                "#46039f"
               ],
               [
                0.2222222222222222,
                "#7201a8"
               ],
               [
                0.3333333333333333,
                "#9c179e"
               ],
               [
                0.4444444444444444,
                "#bd3786"
               ],
               [
                0.5555555555555556,
                "#d8576b"
               ],
               [
                0.6666666666666666,
                "#ed7953"
               ],
               [
                0.7777777777777778,
                "#fb9f3a"
               ],
               [
                0.8888888888888888,
                "#fdca26"
               ],
               [
                1,
                "#f0f921"
               ]
              ],
              "type": "histogram2dcontour"
             }
            ],
            "mesh3d": [
             {
              "colorbar": {
               "outlinewidth": 0,
               "ticks": ""
              },
              "type": "mesh3d"
             }
            ],
            "parcoords": [
             {
              "line": {
               "colorbar": {
                "outlinewidth": 0,
                "ticks": ""
               }
              },
              "type": "parcoords"
             }
            ],
            "pie": [
             {
              "automargin": true,
              "type": "pie"
             }
            ],
            "scatter": [
             {
              "fillpattern": {
               "fillmode": "overlay",
               "size": 10,
               "solidity": 0.2
              },
              "type": "scatter"
             }
            ],
            "scatter3d": [
             {
              "line": {
               "colorbar": {
                "outlinewidth": 0,
                "ticks": ""
               }
              },
              "marker": {
               "colorbar": {
                "outlinewidth": 0,
                "ticks": ""
               }
              },
              "type": "scatter3d"
             }
            ],
            "scattercarpet": [
             {
              "marker": {
               "colorbar": {
                "outlinewidth": 0,
                "ticks": ""
               }
              },
              "type": "scattercarpet"
             }
            ],
            "scattergeo": [
             {
              "marker": {
               "colorbar": {
                "outlinewidth": 0,
                "ticks": ""
               }
              },
              "type": "scattergeo"
             }
            ],
            "scattergl": [
             {
              "marker": {
               "colorbar": {
                "outlinewidth": 0,
                "ticks": ""
               }
              },
              "type": "scattergl"
             }
            ],
            "scattermapbox": [
             {
              "marker": {
               "colorbar": {
                "outlinewidth": 0,
                "ticks": ""
               }
              },
              "type": "scattermapbox"
             }
            ],
            "scatterpolar": [
             {
              "marker": {
               "colorbar": {
                "outlinewidth": 0,
                "ticks": ""
               }
              },
              "type": "scatterpolar"
             }
            ],
            "scatterpolargl": [
             {
              "marker": {
               "colorbar": {
                "outlinewidth": 0,
                "ticks": ""
               }
              },
              "type": "scatterpolargl"
             }
            ],
            "scatterternary": [
             {
              "marker": {
               "colorbar": {
                "outlinewidth": 0,
                "ticks": ""
               }
              },
              "type": "scatterternary"
             }
            ],
            "surface": [
             {
              "colorbar": {
               "outlinewidth": 0,
               "ticks": ""
              },
              "colorscale": [
               [
                0,
                "#0d0887"
               ],
               [
                0.1111111111111111,
                "#46039f"
               ],
               [
                0.2222222222222222,
                "#7201a8"
               ],
               [
                0.3333333333333333,
                "#9c179e"
               ],
               [
                0.4444444444444444,
                "#bd3786"
               ],
               [
                0.5555555555555556,
                "#d8576b"
               ],
               [
                0.6666666666666666,
                "#ed7953"
               ],
               [
                0.7777777777777778,
                "#fb9f3a"
               ],
               [
                0.8888888888888888,
                "#fdca26"
               ],
               [
                1,
                "#f0f921"
               ]
              ],
              "type": "surface"
             }
            ],
            "table": [
             {
              "cells": {
               "fill": {
                "color": "#EBF0F8"
               },
               "line": {
                "color": "white"
               }
              },
              "header": {
               "fill": {
                "color": "#C8D4E3"
               },
               "line": {
                "color": "white"
               }
              },
              "type": "table"
             }
            ]
           },
           "layout": {
            "annotationdefaults": {
             "arrowcolor": "#2a3f5f",
             "arrowhead": 0,
             "arrowwidth": 1
            },
            "autotypenumbers": "strict",
            "coloraxis": {
             "colorbar": {
              "outlinewidth": 0,
              "ticks": ""
             }
            },
            "colorscale": {
             "diverging": [
              [
               0,
               "#8e0152"
              ],
              [
               0.1,
               "#c51b7d"
              ],
              [
               0.2,
               "#de77ae"
              ],
              [
               0.3,
               "#f1b6da"
              ],
              [
               0.4,
               "#fde0ef"
              ],
              [
               0.5,
               "#f7f7f7"
              ],
              [
               0.6,
               "#e6f5d0"
              ],
              [
               0.7,
               "#b8e186"
              ],
              [
               0.8,
               "#7fbc41"
              ],
              [
               0.9,
               "#4d9221"
              ],
              [
               1,
               "#276419"
              ]
             ],
             "sequential": [
              [
               0,
               "#0d0887"
              ],
              [
               0.1111111111111111,
               "#46039f"
              ],
              [
               0.2222222222222222,
               "#7201a8"
              ],
              [
               0.3333333333333333,
               "#9c179e"
              ],
              [
               0.4444444444444444,
               "#bd3786"
              ],
              [
               0.5555555555555556,
               "#d8576b"
              ],
              [
               0.6666666666666666,
               "#ed7953"
              ],
              [
               0.7777777777777778,
               "#fb9f3a"
              ],
              [
               0.8888888888888888,
               "#fdca26"
              ],
              [
               1,
               "#f0f921"
              ]
             ],
             "sequentialminus": [
              [
               0,
               "#0d0887"
              ],
              [
               0.1111111111111111,
               "#46039f"
              ],
              [
               0.2222222222222222,
               "#7201a8"
              ],
              [
               0.3333333333333333,
               "#9c179e"
              ],
              [
               0.4444444444444444,
               "#bd3786"
              ],
              [
               0.5555555555555556,
               "#d8576b"
              ],
              [
               0.6666666666666666,
               "#ed7953"
              ],
              [
               0.7777777777777778,
               "#fb9f3a"
              ],
              [
               0.8888888888888888,
               "#fdca26"
              ],
              [
               1,
               "#f0f921"
              ]
             ]
            },
            "colorway": [
             "#636efa",
             "#EF553B",
             "#00cc96",
             "#ab63fa",
             "#FFA15A",
             "#19d3f3",
             "#FF6692",
             "#B6E880",
             "#FF97FF",
             "#FECB52"
            ],
            "font": {
             "color": "#2a3f5f"
            },
            "geo": {
             "bgcolor": "white",
             "lakecolor": "white",
             "landcolor": "white",
             "showlakes": true,
             "showland": true,
             "subunitcolor": "#C8D4E3"
            },
            "hoverlabel": {
             "align": "left"
            },
            "hovermode": "closest",
            "mapbox": {
             "style": "light"
            },
            "paper_bgcolor": "white",
            "plot_bgcolor": "white",
            "polar": {
             "angularaxis": {
              "gridcolor": "#EBF0F8",
              "linecolor": "#EBF0F8",
              "ticks": ""
             },
             "bgcolor": "white",
             "radialaxis": {
              "gridcolor": "#EBF0F8",
              "linecolor": "#EBF0F8",
              "ticks": ""
             }
            },
            "scene": {
             "xaxis": {
              "backgroundcolor": "white",
              "gridcolor": "#DFE8F3",
              "gridwidth": 2,
              "linecolor": "#EBF0F8",
              "showbackground": true,
              "ticks": "",
              "zerolinecolor": "#EBF0F8"
             },
             "yaxis": {
              "backgroundcolor": "white",
              "gridcolor": "#DFE8F3",
              "gridwidth": 2,
              "linecolor": "#EBF0F8",
              "showbackground": true,
              "ticks": "",
              "zerolinecolor": "#EBF0F8"
             },
             "zaxis": {
              "backgroundcolor": "white",
              "gridcolor": "#DFE8F3",
              "gridwidth": 2,
              "linecolor": "#EBF0F8",
              "showbackground": true,
              "ticks": "",
              "zerolinecolor": "#EBF0F8"
             }
            },
            "shapedefaults": {
             "line": {
              "color": "#2a3f5f"
             }
            },
            "ternary": {
             "aaxis": {
              "gridcolor": "#DFE8F3",
              "linecolor": "#A2B1C6",
              "ticks": ""
             },
             "baxis": {
              "gridcolor": "#DFE8F3",
              "linecolor": "#A2B1C6",
              "ticks": ""
             },
             "bgcolor": "white",
             "caxis": {
              "gridcolor": "#DFE8F3",
              "linecolor": "#A2B1C6",
              "ticks": ""
             }
            },
            "title": {
             "x": 0.05
            },
            "xaxis": {
             "automargin": true,
             "gridcolor": "#EBF0F8",
             "linecolor": "#EBF0F8",
             "ticks": "",
             "title": {
              "standoff": 15
             },
             "zerolinecolor": "#EBF0F8",
             "zerolinewidth": 2
            },
            "yaxis": {
             "automargin": true,
             "gridcolor": "#EBF0F8",
             "linecolor": "#EBF0F8",
             "ticks": "",
             "title": {
              "standoff": 15
             },
             "zerolinecolor": "#EBF0F8",
             "zerolinewidth": 2
            }
           }
          },
          "xaxis": {
           "automargin": true,
           "autorange": false,
           "fixedrange": true,
           "linecolor": "#444",
           "linewidth": 2,
           "minor": {
            "tickmode": "linear",
            "ticks": "outside"
           },
           "mirror": true,
           "showline": true,
           "tickmode": "linear",
           "ticks": "outside",
           "zeroline": false
          },
          "yaxis": {
           "automargin": true,
           "autorange": false,
           "fixedrange": true,
           "linecolor": "#444",
           "linewidth": 2,
           "minor": {
            "tickmode": "linear",
            "ticks": "outside"
           },
           "mirror": true,
           "showline": true,
           "tickmode": "linear",
           "ticks": "outside",
           "zeroline": false
          }
         }
        },
        "xaxis": {
         "dtick": 5,
         "minor": {
          "dtick": 1,
          "tick0": 0
         },
         "range": [
          0.8,
          20.2
         ],
         "tick0": 0,
         "title": {
          "text": "level"
         }
        },
        "yaxis": {
         "dtick": 0.2,
         "minor": {
          "dtick": 0.1,
          "tick0": 0
         },
         "range": [
          0,
          1.5
         ],
         "tick0": 0,
         "title": {
          "text": "calculated daily XP / Daily XP"
         }
        }
       }
      }
     },
     "metadata": {},
     "output_type": "display_data"
    }
   ],
   "source": [
    "# Plots average daily XP for PCs, calculated for a full adventuring day with Medium encounters and two short rests.\n",
    "levels = np.array(range(1,21,1))\n",
    "\n",
    "fig = go.Figure(\n",
    "    layout=go.Layout(\n",
    "        template=TFB_TEMPLATE,\n",
    "        xaxis=dict(\n",
    "            title_text='level',\n",
    "            range=[0.8, 20.2],\n",
    "            tick0=0, dtick=5,\n",
    "            minor=dict(tick0=0, dtick=1),\n",
    "        ),\n",
    "        yaxis=dict(\n",
    "            title_text='calculated daily XP / Daily XP',\n",
    "            range=[0, 1.5],\n",
    "            tick0=0, dtick=0.2,\n",
    "            minor=dict(tick0=0, dtick=0.1),\n",
    "        ),\n",
    "        legend=dict(\n",
    "            yanchor='top',  y=0.99,\n",
    "            xanchor='left', x=0.01,\n",
    "        )\n",
    "    )\n",
    ")\n",
    "\n",
    "daily_XP_budget = np.array(ENCOUNTER_DIFFICULTIES['Daily']['XP'])\n",
    "for diff in ['Medium']:\n",
    "    d = ENCOUNTER_DIFFICULTIES[diff]\n",
    "    pc_data_file = f'./pc data - {diff} 2 short rests.json'\n",
    "\n",
    "    with open(pc_data_file, 'r') as fin:\n",
    "        pc_data = json.load(fin)\n",
    "\n",
    "    eXP = np.zeros(20)\n",
    "    for pc_class in PC_CLASSES:\n",
    "        eXP += np.array([x['XP mean'] for x in pc_data[pc_class]])\n",
    "    eXP /= len(PC_CLASSES)\n",
    "\n",
    "    fig.add_trace(go.Scatter(\n",
    "        x=levels, \n",
    "        y=eXP/daily_XP_budget,\n",
    "        mode='lines+markers', \n",
    "        line=dict(color='red', dash='solid'),\n",
    "        unselected=dict(marker=dict(opacity=0.0)),\n",
    "        name='mean daily XP',\n",
    "        hovertemplate=\n",
    "            '<b>daily XP</b><br>'+\n",
    "            'lvl %{x}<br>'+\n",
    "            'ratio %{y:.2f}'+\n",
    "            '<extra></extra>'\n",
    "    ))\n",
    "\n",
    "ref_XP = np.array(ENCOUNTER_DIFFICULTIES['Daily']['XP'])\n",
    "fig.add_trace(go.Scatter(\n",
    "    x=levels, \n",
    "    y=ref_XP/daily_XP_budget,\n",
    "    mode='lines', \n",
    "    line=dict(color='black', dash='dash'),\n",
    "    name='Daily XP',\n",
    "    showlegend=False,\n",
    "    hoverinfo='skip'\n",
    "))\n",
    "\n",
    "# show figure\n",
    "fig.show(config=TFB_CONFIG)\n",
    "\n",
    "# save large format figure\n",
    "if SAVEFIGS:\n",
    "    file_name = f'./fig-full-daily-xp-vs-level-medium-adventuring-days-large.html'\n",
    "    fig_html = fig.to_html(\n",
    "        config=TFB_CONFIG,\n",
    "        include_plotlyjs=False, \n",
    "        full_html=False, \n",
    "    )\n",
    "    fig_soup = BeautifulSoup(fig_html, 'html.parser')\n",
    "    fig_soup.div['class'] = 'plotly-div-large'\n",
    "    with open(file_name, 'wb') as fout:\n",
    "        fout.write(fig_soup.prettify('utf-8'))\n",
    "\n",
    "# save small format figure\n",
    "if SAVEFIGS:\n",
    "    fig.update_traces(marker=dict(size=4))\n",
    "    fig.update_layout(font=dict(size=10))\n",
    "    file_name = f'./fig-full-daily-xp-vs-level-medium-adventuring-days-small.html'\n",
    "    fig_html = fig.to_html(\n",
    "        config=TFB_CONFIG,\n",
    "        include_plotlyjs=False, \n",
    "        full_html=False, \n",
    "    )\n",
    "    fig_soup = BeautifulSoup(fig_html, 'html.parser')\n",
    "    fig_soup.div['class'] = 'plotly-div-small'\n",
    "    with open(file_name, 'wb') as fout:\n",
    "        fout.write(fig_soup.prettify('utf-8'))"
   ]
  },
  {
   "cell_type": "code",
   "execution_count": 7,
   "metadata": {},
   "outputs": [
    {
     "data": {
      "application/vnd.plotly.v1+json": {
       "config": {
        "autosizable": false,
        "displayModeBar": "hover",
        "displaylogo": false,
        "modeBarButtonsToRemove": [
         "select2d",
         "lasso2d",
         "zoom2d",
         "zoomIn2d",
         "zoomOut2d",
         "pan2d",
         "autoScale2d",
         "hoverClosestCartesian",
         "hoverCompareCartesian",
         "toggleSpikelines",
         "resetScale2d"
        ],
        "plotlyServerURL": "https://plot.ly",
        "responsive": true,
        "showAxisDragHandles": false,
        "toImageButtonOptions": {
         "filename": "tfb-plot",
         "format": "png",
         "height": 450,
         "scale": 2,
         "width": 600
        }
       },
       "data": [
        {
         "hovertemplate": "<b>Barbarian</b><br>lvl %{x}<br>eDPR %{y:.1f}<extra></extra>",
         "line": {
          "color": "#E7623E"
         },
         "mode": "lines+markers",
         "name": "Barbarian",
         "type": "scatter",
         "unselected": {
          "marker": {
           "opacity": 0
          }
         },
         "x": [
          1,
          2,
          3,
          4,
          5,
          6,
          7,
          8,
          9,
          10,
          11,
          12,
          13,
          14,
          15,
          16,
          17,
          18,
          19,
          20
         ],
         "y": [
          9.187577160169816,
          11.81259920593262,
          11.909423789587807,
          13.981469879808776,
          29.324016764141874,
          30.209270100417854,
          30.209270100417854,
          34.43082194778393,
          40.61468535722845,
          40.14992735568356,
          40.61468535722845,
          43.02049148287258,
          47.50859571347765,
          47.50859571347765,
          47.586734851164294,
          50.087187257136804,
          57.32015352386977,
          57.32015352386977,
          57.32015352386977,
          68.81000411761845
         ]
        },
        {
         "hovertemplate": "<b>Bard</b><br>lvl %{x}<br>eDPR %{y:.1f}<extra></extra>",
         "line": {
          "color": "#AB6DAC"
         },
         "mode": "lines+markers",
         "name": "Bard",
         "type": "scatter",
         "unselected": {
          "marker": {
           "opacity": 0
          }
         },
         "x": [
          1,
          2,
          3,
          4,
          5,
          6,
          7,
          8,
          9,
          10,
          11,
          12,
          13,
          14,
          15,
          16,
          17,
          18,
          19,
          20
         ],
         "y": [
          6.978542214555216,
          7.304876922430101,
          8.359189055564341,
          10.069756700139285,
          17.55752450280696,
          18.796879173593332,
          20.165333289253287,
          22.87964911772032,
          28.146906468562403,
          29.232222028988254,
          36.89016637262564,
          39.09434954171722,
          44.22014596489228,
          44.22014596489228,
          47.2181219625121,
          47.2181219625121,
          58.706273879354534,
          58.706273879354534,
          62.79253554823322,
          61.998471502383815
         ]
        },
        {
         "hovertemplate": "<b>Cleric</b><br>lvl %{x}<br>eDPR %{y:.1f}<extra></extra>",
         "line": {
          "color": "#91A1B2"
         },
         "mode": "lines+markers",
         "name": "Cleric",
         "type": "scatter",
         "unselected": {
          "marker": {
           "opacity": 0
          }
         },
         "x": [
          1,
          2,
          3,
          4,
          5,
          6,
          7,
          8,
          9,
          10,
          11,
          12,
          13,
          14,
          15,
          16,
          17,
          18,
          19,
          20
         ],
         "y": [
          6.978542214555216,
          7.304876922430101,
          8.359189055564341,
          10.069756700139285,
          17.55752450280696,
          18.796879173593332,
          20.165333289253287,
          26.171684961996625,
          31.051643978217967,
          32.13695953864382,
          40.085377633246765,
          41.828220139040106,
          46.945578690001206,
          46.945578690001206,
          49.80011085998372,
          49.80011085998372,
          61.08442154807839,
          61.08442154807839,
          64.58558339369962,
          64.15012891694349
         ]
        },
        {
         "hovertemplate": "<b>Druid</b><br>lvl %{x}<br>eDPR %{y:.1f}<extra></extra>",
         "line": {
          "color": "#7A853B"
         },
         "mode": "lines+markers",
         "name": "Druid",
         "type": "scatter",
         "unselected": {
          "marker": {
           "opacity": 0
          }
         },
         "x": [
          1,
          2,
          3,
          4,
          5,
          6,
          7,
          8,
          9,
          10,
          11,
          12,
          13,
          14,
          15,
          16,
          17,
          18,
          19,
          20
         ],
         "y": [
          6.978542214555216,
          7.304876922430101,
          8.359189055564341,
          10.069756700139285,
          17.55752450280696,
          18.796879173593332,
          20.165333289253287,
          22.87964911772032,
          28.146906468562403,
          29.232222028988254,
          36.89016637262564,
          39.09434954171722,
          44.22014596489228,
          44.22014596489228,
          47.2181219625121,
          47.2181219625121,
          58.706273879354534,
          58.706273879354534,
          62.79253554823322,
          61.998471502383815
         ]
        },
        {
         "hovertemplate": "<b>Fighter</b><br>lvl %{x}<br>eDPR %{y:.1f}<extra></extra>",
         "line": {
          "color": "#7F513E"
         },
         "mode": "lines+markers",
         "name": "Fighter",
         "type": "scatter",
         "unselected": {
          "marker": {
           "opacity": 0
          }
         },
         "x": [
          1,
          2,
          3,
          4,
          5,
          6,
          7,
          8,
          9,
          10,
          11,
          12,
          13,
          14,
          15,
          16,
          17,
          18,
          19,
          20
         ],
         "y": [
          9.03696114115064,
          10.543121331342414,
          10.166581283794471,
          12.248309832380958,
          25.967431197428777,
          30.286729767342003,
          30.286729767342003,
          30.286729767342003,
          32.068302106597415,
          31.688045559878866,
          48.10245315989612,
          49.209670751811885,
          51.51067850455865,
          51.51067850455865,
          51.12338016993791,
          51.12338016993791,
          61.15236862432764,
          61.15236862432764,
          61.96773353931867,
          79.6728002648383
         ]
        },
        {
         "hovertemplate": "<b>Monk</b><br>lvl %{x}<br>eDPR %{y:.1f}<extra></extra>",
         "line": {
          "color": "#51A5C5"
         },
         "mode": "lines+markers",
         "name": "Monk",
         "type": "scatter",
         "unselected": {
          "marker": {
           "opacity": 0
          }
         },
         "x": [
          1,
          2,
          3,
          4,
          5,
          6,
          7,
          8,
          9,
          10,
          11,
          12,
          13,
          14,
          15,
          16,
          17,
          18,
          19,
          20
         ],
         "y": [
          10.844353369380768,
          12.50112957859172,
          12.708226604743087,
          17.33160047427819,
          28.770733428969386,
          29.821971765797116,
          30.209270100417857,
          30.5965684350386,
          32.920358442763046,
          32.920358442763046,
          37.309739568464785,
          44.15201014676455,
          46.60489959936259,
          46.60489959936259,
          46.60489959936259,
          46.60489959936259,
          54.22176684690384,
          49.655723322954046,
          48.799590162213455,
          48.799590162213455
         ]
        },
        {
         "hovertemplate": "<b>Paladin</b><br>lvl %{x}<br>eDPR %{y:.1f}<extra></extra>",
         "line": {
          "color": "#B59E54"
         },
         "mode": "lines+markers",
         "name": "Paladin",
         "type": "scatter",
         "unselected": {
          "marker": {
           "opacity": 0
          }
         },
         "x": [
          1,
          2,
          3,
          4,
          5,
          6,
          7,
          8,
          9,
          10,
          11,
          12,
          13,
          14,
          15,
          16,
          17,
          18,
          19,
          20
         ],
         "y": [
          9.03696114115064,
          10.392505312323237,
          10.561948333719812,
          12.611402021087903,
          28.254335649475067,
          28.530977317061307,
          29.92525132169598,
          33.99027009215285,
          39.79490388228121,
          38.712228992318686,
          52.54670154966914,
          55.05331915358955,
          60.19799531584335,
          60.19799531584335,
          61.7740843720083,
          61.7740843720083,
          72.125821438582,
          72.125821438582,
          77.38794501032969,
          72.41864098146567
         ]
        },
        {
         "hovertemplate": "<b>Ranger</b><br>lvl %{x}<br>eDPR %{y:.1f}<extra></extra>",
         "line": {
          "color": "#507F62"
         },
         "mode": "lines+markers",
         "name": "Ranger",
         "type": "scatter",
         "unselected": {
          "marker": {
           "opacity": 0
          }
         },
         "x": [
          1,
          2,
          3,
          4,
          5,
          6,
          7,
          8,
          9,
          10,
          11,
          12,
          13,
          14,
          15,
          16,
          17,
          18,
          19,
          20
         ],
         "y": [
          7.745966692414836,
          9.295160030897803,
          9.488809198208173,
          11.549559087002702,
          25.063735083313716,
          25.329311084196508,
          26.549300838251845,
          30.477151448530538,
          36.5996926216601,
          35.50234734023466,
          38.85893290694776,
          41.38776320947142,
          45.523691748546355,
          45.523691748546355,
          47.37270156097914,
          47.37270156097914,
          56.766384852438364,
          56.766384852438364,
          62.76026068701483,
          57.64904972866675
         ]
        },
        {
         "hovertemplate": "<b>Rogue</b><br>lvl %{x}<br>eDPR %{y:.1f}<extra></extra>",
         "line": {
          "color": "#555752"
         },
         "mode": "lines+markers",
         "name": "Rogue",
         "type": "scatter",
         "unselected": {
          "marker": {
           "opacity": 0
          }
         },
         "x": [
          1,
          2,
          3,
          4,
          5,
          6,
          7,
          8,
          9,
          10,
          11,
          12,
          13,
          14,
          15,
          16,
          17,
          18,
          19,
          20
         ],
         "y": [
          11.618950038622252,
          11.618950038622252,
          15.68558255214004,
          17.783448531335726,
          23.237900077244504,
          23.237900077244504,
          27.75638064781982,
          30.49974385138341,
          36.92244123384404,
          36.92244123384404,
          41.89276986147689,
          41.89276986147689,
          48.993239329523824,
          48.993239329523824,
          54.18949198568544,
          54.18949198568544,
          61.96773353931867,
          61.96773353931867,
          67.38991022400906,
          67.38991022400906
         ]
        },
        {
         "hovertemplate": "<b>Sorcerer</b><br>lvl %{x}<br>eDPR %{y:.1f}<extra></extra>",
         "line": {
          "color": "#992E2E"
         },
         "mode": "lines+markers",
         "name": "Sorcerer",
         "type": "scatter",
         "unselected": {
          "marker": {
           "opacity": 0
          }
         },
         "x": [
          1,
          2,
          3,
          4,
          5,
          6,
          7,
          8,
          9,
          10,
          11,
          12,
          13,
          14,
          15,
          16,
          17,
          18,
          19,
          20
         ],
         "y": [
          6.652207506680332,
          7.304876922430101,
          8.641594091225299,
          10.432848888846229,
          18.590320061795605,
          20.165333289253287,
          22.28256418518001,
          25.12920694464246,
          30.52879122647996,
          31.76726567377856,
          38.86538787919143,
          42.37499425850468,
          47.86541223472547,
          48.85338159757745,
          51.607503088213846,
          51.607503088213846,
          60.94852739557989,
          60.94852739557989,
          65.15935870424886,
          64.79562614131139
         ]
        },
        {
         "hovertemplate": "<b>Warlock</b><br>lvl %{x}<br>eDPR %{y:.1f}<extra></extra>",
         "line": {
          "color": "#7B469B"
         },
         "mode": "lines+markers",
         "name": "Warlock",
         "type": "scatter",
         "unselected": {
          "marker": {
           "opacity": 0
          }
         },
         "x": [
          1,
          2,
          3,
          4,
          5,
          6,
          7,
          8,
          9,
          10,
          11,
          12,
          13,
          14,
          15,
          16,
          17,
          18,
          19,
          20
         ],
         "y": [
          8.43449706507393,
          9.187577160169814,
          10.505467326587619,
          12.538783583346511,
          24.344466747589482,
          24.580534303929745,
          26.284646976261005,
          29.463720806272928,
          36.25112412050142,
          35.17373057146554,
          50.97814329445512,
          53.51551694259543,
          58.59680358984185,
          58.59680358984185,
          60.83811339667485,
          60.83811339667485,
          75.04754571729987,
          75.04754571729987,
          75.27214855267934,
          73.86332524552718
         ]
        },
        {
         "hovertemplate": "<b>Wizard</b><br>lvl %{x}<br>eDPR %{y:.1f}<extra></extra>",
         "line": {
          "color": "#2A50A1"
         },
         "mode": "lines+markers",
         "name": "Wizard",
         "type": "scatter",
         "unselected": {
          "marker": {
           "opacity": 0
          }
         },
         "x": [
          1,
          2,
          3,
          4,
          5,
          6,
          7,
          8,
          9,
          10,
          11,
          12,
          13,
          14,
          15,
          16,
          17,
          18,
          19,
          20
         ],
         "y": [
          6.978542214555216,
          7.304876922430101,
          8.603940086470507,
          10.384436597018636,
          18.590320061795605,
          19.88131451053141,
          21.249768626191365,
          24.031861663217022,
          29.77355947396952,
          30.710997488449266,
          38.516819378032764,
          41.00805895984324,
          46.53676378123486,
          46.53676378123486,
          50.31650863947803,
          50.31650863947803,
          59.96329478996571,
          59.96329478996571,
          65.15935870424886,
          64.02717706468293
         ]
        },
        {
         "hoverinfo": "skip",
         "line": {
          "color": "black",
          "dash": "dash"
         },
         "mode": "lines",
         "name": "average",
         "type": "scatter",
         "unselected": {
          "marker": {
           "opacity": 0
          }
         },
         "x": [
          1,
          2,
          3,
          4,
          5,
          6,
          7,
          8,
          9,
          10,
          11,
          12,
          13,
          14,
          15,
          16,
          17,
          18,
          19,
          20
         ],
         "y": [
          8.372636914405339,
          9.322952272502528,
          10.279095036097486,
          12.42259408296029,
          22.901319381681237,
          24.036164978046145,
          25.437431869278132,
          28.40308817948342,
          33.568276281722326,
          33.67906218791972,
          41.795945277821716,
          44.30262616578372,
          49.060329203075035,
          49.142659983312704,
          51.30414770404269,
          51.512518737873734,
          61.50088050292277,
          61.12037687592695,
          64.28225946650821,
          65.46443298767038
         ]
        }
       ],
       "layout": {
        "legend": {
         "bgcolor": "rgba(0,0,0,0)",
         "x": 0.01,
         "xanchor": "left",
         "y": 0.99,
         "yanchor": "top"
        },
        "template": {
         "layout": {
          "autosize": true,
          "font": {
           "family": "sans-serif",
           "size": 14
          },
          "hovermode": "closest",
          "legend": {
           "font": {
            "size": 10
           },
           "orientation": "h",
           "tracegroupgap": 0
          },
          "margin": {
           "b": 40,
           "l": 50,
           "pad": 4,
           "r": 25,
           "t": 20
          },
          "template": {
           "data": {
            "bar": [
             {
              "error_x": {
               "color": "#2a3f5f"
              },
              "error_y": {
               "color": "#2a3f5f"
              },
              "marker": {
               "line": {
                "color": "white",
                "width": 0.5
               },
               "pattern": {
                "fillmode": "overlay",
                "size": 10,
                "solidity": 0.2
               }
              },
              "type": "bar"
             }
            ],
            "barpolar": [
             {
              "marker": {
               "line": {
                "color": "white",
                "width": 0.5
               },
               "pattern": {
                "fillmode": "overlay",
                "size": 10,
                "solidity": 0.2
               }
              },
              "type": "barpolar"
             }
            ],
            "carpet": [
             {
              "aaxis": {
               "endlinecolor": "#2a3f5f",
               "gridcolor": "#C8D4E3",
               "linecolor": "#C8D4E3",
               "minorgridcolor": "#C8D4E3",
               "startlinecolor": "#2a3f5f"
              },
              "baxis": {
               "endlinecolor": "#2a3f5f",
               "gridcolor": "#C8D4E3",
               "linecolor": "#C8D4E3",
               "minorgridcolor": "#C8D4E3",
               "startlinecolor": "#2a3f5f"
              },
              "type": "carpet"
             }
            ],
            "choropleth": [
             {
              "colorbar": {
               "outlinewidth": 0,
               "ticks": ""
              },
              "type": "choropleth"
             }
            ],
            "contour": [
             {
              "colorbar": {
               "outlinewidth": 0,
               "ticks": ""
              },
              "colorscale": [
               [
                0,
                "#0d0887"
               ],
               [
                0.1111111111111111,
                "#46039f"
               ],
               [
                0.2222222222222222,
                "#7201a8"
               ],
               [
                0.3333333333333333,
                "#9c179e"
               ],
               [
                0.4444444444444444,
                "#bd3786"
               ],
               [
                0.5555555555555556,
                "#d8576b"
               ],
               [
                0.6666666666666666,
                "#ed7953"
               ],
               [
                0.7777777777777778,
                "#fb9f3a"
               ],
               [
                0.8888888888888888,
                "#fdca26"
               ],
               [
                1,
                "#f0f921"
               ]
              ],
              "type": "contour"
             }
            ],
            "contourcarpet": [
             {
              "colorbar": {
               "outlinewidth": 0,
               "ticks": ""
              },
              "type": "contourcarpet"
             }
            ],
            "heatmap": [
             {
              "colorbar": {
               "outlinewidth": 0,
               "ticks": ""
              },
              "colorscale": [
               [
                0,
                "#0d0887"
               ],
               [
                0.1111111111111111,
                "#46039f"
               ],
               [
                0.2222222222222222,
                "#7201a8"
               ],
               [
                0.3333333333333333,
                "#9c179e"
               ],
               [
                0.4444444444444444,
                "#bd3786"
               ],
               [
                0.5555555555555556,
                "#d8576b"
               ],
               [
                0.6666666666666666,
                "#ed7953"
               ],
               [
                0.7777777777777778,
                "#fb9f3a"
               ],
               [
                0.8888888888888888,
                "#fdca26"
               ],
               [
                1,
                "#f0f921"
               ]
              ],
              "type": "heatmap"
             }
            ],
            "heatmapgl": [
             {
              "colorbar": {
               "outlinewidth": 0,
               "ticks": ""
              },
              "colorscale": [
               [
                0,
                "#0d0887"
               ],
               [
                0.1111111111111111,
                "#46039f"
               ],
               [
                0.2222222222222222,
                "#7201a8"
               ],
               [
                0.3333333333333333,
                "#9c179e"
               ],
               [
                0.4444444444444444,
                "#bd3786"
               ],
               [
                0.5555555555555556,
                "#d8576b"
               ],
               [
                0.6666666666666666,
                "#ed7953"
               ],
               [
                0.7777777777777778,
                "#fb9f3a"
               ],
               [
                0.8888888888888888,
                "#fdca26"
               ],
               [
                1,
                "#f0f921"
               ]
              ],
              "type": "heatmapgl"
             }
            ],
            "histogram": [
             {
              "marker": {
               "pattern": {
                "fillmode": "overlay",
                "size": 10,
                "solidity": 0.2
               }
              },
              "type": "histogram"
             }
            ],
            "histogram2d": [
             {
              "colorbar": {
               "outlinewidth": 0,
               "ticks": ""
              },
              "colorscale": [
               [
                0,
                "#0d0887"
               ],
               [
                0.1111111111111111,
                "#46039f"
               ],
               [
                0.2222222222222222,
                "#7201a8"
               ],
               [
                0.3333333333333333,
                "#9c179e"
               ],
               [
                0.4444444444444444,
                "#bd3786"
               ],
               [
                0.5555555555555556,
                "#d8576b"
               ],
               [
                0.6666666666666666,
                "#ed7953"
               ],
               [
                0.7777777777777778,
                "#fb9f3a"
               ],
               [
                0.8888888888888888,
                "#fdca26"
               ],
               [
                1,
                "#f0f921"
               ]
              ],
              "type": "histogram2d"
             }
            ],
            "histogram2dcontour": [
             {
              "colorbar": {
               "outlinewidth": 0,
               "ticks": ""
              },
              "colorscale": [
               [
                0,
                "#0d0887"
               ],
               [
                0.1111111111111111,
                "#46039f"
               ],
               [
                0.2222222222222222,
                "#7201a8"
               ],
               [
                0.3333333333333333,
                "#9c179e"
               ],
               [
                0.4444444444444444,
                "#bd3786"
               ],
               [
                0.5555555555555556,
                "#d8576b"
               ],
               [
                0.6666666666666666,
                "#ed7953"
               ],
               [
                0.7777777777777778,
                "#fb9f3a"
               ],
               [
                0.8888888888888888,
                "#fdca26"
               ],
               [
                1,
                "#f0f921"
               ]
              ],
              "type": "histogram2dcontour"
             }
            ],
            "mesh3d": [
             {
              "colorbar": {
               "outlinewidth": 0,
               "ticks": ""
              },
              "type": "mesh3d"
             }
            ],
            "parcoords": [
             {
              "line": {
               "colorbar": {
                "outlinewidth": 0,
                "ticks": ""
               }
              },
              "type": "parcoords"
             }
            ],
            "pie": [
             {
              "automargin": true,
              "type": "pie"
             }
            ],
            "scatter": [
             {
              "fillpattern": {
               "fillmode": "overlay",
               "size": 10,
               "solidity": 0.2
              },
              "type": "scatter"
             }
            ],
            "scatter3d": [
             {
              "line": {
               "colorbar": {
                "outlinewidth": 0,
                "ticks": ""
               }
              },
              "marker": {
               "colorbar": {
                "outlinewidth": 0,
                "ticks": ""
               }
              },
              "type": "scatter3d"
             }
            ],
            "scattercarpet": [
             {
              "marker": {
               "colorbar": {
                "outlinewidth": 0,
                "ticks": ""
               }
              },
              "type": "scattercarpet"
             }
            ],
            "scattergeo": [
             {
              "marker": {
               "colorbar": {
                "outlinewidth": 0,
                "ticks": ""
               }
              },
              "type": "scattergeo"
             }
            ],
            "scattergl": [
             {
              "marker": {
               "colorbar": {
                "outlinewidth": 0,
                "ticks": ""
               }
              },
              "type": "scattergl"
             }
            ],
            "scattermapbox": [
             {
              "marker": {
               "colorbar": {
                "outlinewidth": 0,
                "ticks": ""
               }
              },
              "type": "scattermapbox"
             }
            ],
            "scatterpolar": [
             {
              "marker": {
               "colorbar": {
                "outlinewidth": 0,
                "ticks": ""
               }
              },
              "type": "scatterpolar"
             }
            ],
            "scatterpolargl": [
             {
              "marker": {
               "colorbar": {
                "outlinewidth": 0,
                "ticks": ""
               }
              },
              "type": "scatterpolargl"
             }
            ],
            "scatterternary": [
             {
              "marker": {
               "colorbar": {
                "outlinewidth": 0,
                "ticks": ""
               }
              },
              "type": "scatterternary"
             }
            ],
            "surface": [
             {
              "colorbar": {
               "outlinewidth": 0,
               "ticks": ""
              },
              "colorscale": [
               [
                0,
                "#0d0887"
               ],
               [
                0.1111111111111111,
                "#46039f"
               ],
               [
                0.2222222222222222,
                "#7201a8"
               ],
               [
                0.3333333333333333,
                "#9c179e"
               ],
               [
                0.4444444444444444,
                "#bd3786"
               ],
               [
                0.5555555555555556,
                "#d8576b"
               ],
               [
                0.6666666666666666,
                "#ed7953"
               ],
               [
                0.7777777777777778,
                "#fb9f3a"
               ],
               [
                0.8888888888888888,
                "#fdca26"
               ],
               [
                1,
                "#f0f921"
               ]
              ],
              "type": "surface"
             }
            ],
            "table": [
             {
              "cells": {
               "fill": {
                "color": "#EBF0F8"
               },
               "line": {
                "color": "white"
               }
              },
              "header": {
               "fill": {
                "color": "#C8D4E3"
               },
               "line": {
                "color": "white"
               }
              },
              "type": "table"
             }
            ]
           },
           "layout": {
            "annotationdefaults": {
             "arrowcolor": "#2a3f5f",
             "arrowhead": 0,
             "arrowwidth": 1
            },
            "autotypenumbers": "strict",
            "coloraxis": {
             "colorbar": {
              "outlinewidth": 0,
              "ticks": ""
             }
            },
            "colorscale": {
             "diverging": [
              [
               0,
               "#8e0152"
              ],
              [
               0.1,
               "#c51b7d"
              ],
              [
               0.2,
               "#de77ae"
              ],
              [
               0.3,
               "#f1b6da"
              ],
              [
               0.4,
               "#fde0ef"
              ],
              [
               0.5,
               "#f7f7f7"
              ],
              [
               0.6,
               "#e6f5d0"
              ],
              [
               0.7,
               "#b8e186"
              ],
              [
               0.8,
               "#7fbc41"
              ],
              [
               0.9,
               "#4d9221"
              ],
              [
               1,
               "#276419"
              ]
             ],
             "sequential": [
              [
               0,
               "#0d0887"
              ],
              [
               0.1111111111111111,
               "#46039f"
              ],
              [
               0.2222222222222222,
               "#7201a8"
              ],
              [
               0.3333333333333333,
               "#9c179e"
              ],
              [
               0.4444444444444444,
               "#bd3786"
              ],
              [
               0.5555555555555556,
               "#d8576b"
              ],
              [
               0.6666666666666666,
               "#ed7953"
              ],
              [
               0.7777777777777778,
               "#fb9f3a"
              ],
              [
               0.8888888888888888,
               "#fdca26"
              ],
              [
               1,
               "#f0f921"
              ]
             ],
             "sequentialminus": [
              [
               0,
               "#0d0887"
              ],
              [
               0.1111111111111111,
               "#46039f"
              ],
              [
               0.2222222222222222,
               "#7201a8"
              ],
              [
               0.3333333333333333,
               "#9c179e"
              ],
              [
               0.4444444444444444,
               "#bd3786"
              ],
              [
               0.5555555555555556,
               "#d8576b"
              ],
              [
               0.6666666666666666,
               "#ed7953"
              ],
              [
               0.7777777777777778,
               "#fb9f3a"
              ],
              [
               0.8888888888888888,
               "#fdca26"
              ],
              [
               1,
               "#f0f921"
              ]
             ]
            },
            "colorway": [
             "#636efa",
             "#EF553B",
             "#00cc96",
             "#ab63fa",
             "#FFA15A",
             "#19d3f3",
             "#FF6692",
             "#B6E880",
             "#FF97FF",
             "#FECB52"
            ],
            "font": {
             "color": "#2a3f5f"
            },
            "geo": {
             "bgcolor": "white",
             "lakecolor": "white",
             "landcolor": "white",
             "showlakes": true,
             "showland": true,
             "subunitcolor": "#C8D4E3"
            },
            "hoverlabel": {
             "align": "left"
            },
            "hovermode": "closest",
            "mapbox": {
             "style": "light"
            },
            "paper_bgcolor": "white",
            "plot_bgcolor": "white",
            "polar": {
             "angularaxis": {
              "gridcolor": "#EBF0F8",
              "linecolor": "#EBF0F8",
              "ticks": ""
             },
             "bgcolor": "white",
             "radialaxis": {
              "gridcolor": "#EBF0F8",
              "linecolor": "#EBF0F8",
              "ticks": ""
             }
            },
            "scene": {
             "xaxis": {
              "backgroundcolor": "white",
              "gridcolor": "#DFE8F3",
              "gridwidth": 2,
              "linecolor": "#EBF0F8",
              "showbackground": true,
              "ticks": "",
              "zerolinecolor": "#EBF0F8"
             },
             "yaxis": {
              "backgroundcolor": "white",
              "gridcolor": "#DFE8F3",
              "gridwidth": 2,
              "linecolor": "#EBF0F8",
              "showbackground": true,
              "ticks": "",
              "zerolinecolor": "#EBF0F8"
             },
             "zaxis": {
              "backgroundcolor": "white",
              "gridcolor": "#DFE8F3",
              "gridwidth": 2,
              "linecolor": "#EBF0F8",
              "showbackground": true,
              "ticks": "",
              "zerolinecolor": "#EBF0F8"
             }
            },
            "shapedefaults": {
             "line": {
              "color": "#2a3f5f"
             }
            },
            "ternary": {
             "aaxis": {
              "gridcolor": "#DFE8F3",
              "linecolor": "#A2B1C6",
              "ticks": ""
             },
             "baxis": {
              "gridcolor": "#DFE8F3",
              "linecolor": "#A2B1C6",
              "ticks": ""
             },
             "bgcolor": "white",
             "caxis": {
              "gridcolor": "#DFE8F3",
              "linecolor": "#A2B1C6",
              "ticks": ""
             }
            },
            "title": {
             "x": 0.05
            },
            "xaxis": {
             "automargin": true,
             "gridcolor": "#EBF0F8",
             "linecolor": "#EBF0F8",
             "ticks": "",
             "title": {
              "standoff": 15
             },
             "zerolinecolor": "#EBF0F8",
             "zerolinewidth": 2
            },
            "yaxis": {
             "automargin": true,
             "gridcolor": "#EBF0F8",
             "linecolor": "#EBF0F8",
             "ticks": "",
             "title": {
              "standoff": 15
             },
             "zerolinecolor": "#EBF0F8",
             "zerolinewidth": 2
            }
           }
          },
          "xaxis": {
           "automargin": true,
           "autorange": false,
           "fixedrange": true,
           "linecolor": "#444",
           "linewidth": 2,
           "minor": {
            "tickmode": "linear",
            "ticks": "outside"
           },
           "mirror": true,
           "showline": true,
           "tickmode": "linear",
           "ticks": "outside",
           "zeroline": false
          },
          "yaxis": {
           "automargin": true,
           "autorange": false,
           "fixedrange": true,
           "linecolor": "#444",
           "linewidth": 2,
           "minor": {
            "tickmode": "linear",
            "ticks": "outside"
           },
           "mirror": true,
           "showline": true,
           "tickmode": "linear",
           "ticks": "outside",
           "zeroline": false
          }
         }
        },
        "xaxis": {
         "dtick": 5,
         "minor": {
          "dtick": 1,
          "tick0": 0
         },
         "range": [
          0.8,
          20.2
         ],
         "tick0": 0,
         "title": {
          "text": "level"
         }
        },
        "yaxis": {
         "dtick": 10,
         "minor": {
          "dtick": 5,
          "tick0": 0
         },
         "range": [
          0,
          110
         ],
         "tick0": 0,
         "title": {
          "text": "effective damage per round"
         }
        }
       }
      }
     },
     "metadata": {},
     "output_type": "display_data"
    }
   ],
   "source": [
    "# Plots eDPR for each class, calculated for a full adventuring day with Medium encounters and two short rests.\n",
    "encounter_difficulty = 'Medium'\n",
    "pc_data_file = f'./pc data - {encounter_difficulty} 2 short rests.json'\n",
    "\n",
    "with open(pc_data_file, 'r') as fin:\n",
    "    pc_data = json.load(fin)\n",
    "\n",
    "levels = np.array(range(1,21,1))\n",
    "\n",
    "fig = go.Figure(\n",
    "    layout=go.Layout(\n",
    "        template=TFB_TEMPLATE,\n",
    "        xaxis=dict(\n",
    "            title_text='level',\n",
    "            range=[0.8, 20.2],\n",
    "            tick0=0, dtick=5,\n",
    "            minor=dict(tick0=0, dtick=1),\n",
    "        ),\n",
    "        yaxis=dict(\n",
    "            title_text='effective damage per round',\n",
    "            range=[0, 110],\n",
    "            tick0=0, dtick=10,\n",
    "            minor=dict(tick0=0, dtick=5),\n",
    "        ),\n",
    "        legend=dict(\n",
    "            yanchor='top',  y=0.99,\n",
    "            xanchor='left', x=0.01,\n",
    "            bgcolor='rgba(0,0,0,0)',\n",
    "        )\n",
    "    )\n",
    ")\n",
    "\n",
    "eDPRmean = np.zeros(20)\n",
    "for pc in PC_CLASSES:\n",
    "    eDPR = np.array([x['effective damage per round mean'] for x in pc_data[pc]])\n",
    "    eDPRmean += eDPR\n",
    "\n",
    "    fig.add_trace(go.Scatter(\n",
    "        x=levels, \n",
    "        y=eDPR,\n",
    "        mode='lines+markers', \n",
    "        line={'color': PC_CLASSES[pc]['color']},\n",
    "        unselected=dict(marker=dict(opacity=0.0)),\n",
    "        name=pc,\n",
    "        hovertemplate=\n",
    "            '<b>'+pc+'</b><br>'+\n",
    "            'lvl %{x}<br>'+\n",
    "            'eDPR %{y:.1f}'+\n",
    "            '<extra></extra>'\n",
    "    ))\n",
    "\n",
    "eDPRmean /= len(PC_CLASSES)\n",
    "fig.add_trace(go.Scatter(\n",
    "    x=levels, \n",
    "    y=eDPRmean,\n",
    "    mode='lines', \n",
    "    line=dict(color='black', dash='dash'),\n",
    "    unselected=dict(marker=dict(opacity=0.0)),\n",
    "    name='average',\n",
    "    hoverinfo='skip'\n",
    "))\n",
    "\n",
    "# show figure\n",
    "fig.show(config=TFB_CONFIG)\n",
    "\n",
    "# save small format figure\n",
    "if SAVEFIGS:\n",
    "    file_name = f'./fig-pcs-encounter-edpr-vs-level-{encounter_difficulty.lower()}-adventuring-days-large.html'\n",
    "    fig_html = fig.to_html(\n",
    "        config=TFB_CONFIG,\n",
    "        include_plotlyjs=False, \n",
    "        full_html=False, \n",
    "    )\n",
    "    fig_soup = BeautifulSoup(fig_html, 'html.parser')\n",
    "    fig_soup.div['class'] = 'plotly-div-large'\n",
    "    with open(file_name, 'wb') as fout:\n",
    "        fout.write(fig_soup.prettify('utf-8'))\n",
    "\n",
    "# save small format figure\n",
    "if SAVEFIGS:\n",
    "    fig.update_traces(marker=dict(size=4))\n",
    "    fig.update_layout(font=dict(size=10), legend=dict(font_size=8))\n",
    "    file_name = f'./fig-pcs-encounter-edpr-vs-level-{encounter_difficulty.lower()}-adventuring-days-small.html'\n",
    "    fig_html = fig.to_html(\n",
    "        config=TFB_CONFIG,\n",
    "        include_plotlyjs=False, \n",
    "        full_html=False, \n",
    "    )\n",
    "    fig_soup = BeautifulSoup(fig_html, 'html.parser')\n",
    "    fig_soup.div['class'] = 'plotly-div-small'\n",
    "    with open(file_name, 'wb') as fout:\n",
    "        fout.write(fig_soup.prettify('utf-8'))"
   ]
  },
  {
   "cell_type": "code",
   "execution_count": 8,
   "metadata": {},
   "outputs": [
    {
     "data": {
      "application/vnd.plotly.v1+json": {
       "config": {
        "autosizable": false,
        "displayModeBar": "hover",
        "displaylogo": false,
        "modeBarButtonsToRemove": [
         "select2d",
         "lasso2d",
         "zoom2d",
         "zoomIn2d",
         "zoomOut2d",
         "pan2d",
         "autoScale2d",
         "hoverClosestCartesian",
         "hoverCompareCartesian",
         "toggleSpikelines",
         "resetScale2d"
        ],
        "plotlyServerURL": "https://plot.ly",
        "responsive": true,
        "showAxisDragHandles": false,
        "toImageButtonOptions": {
         "filename": "tfb-plot",
         "format": "png",
         "height": 450,
         "scale": 2,
         "width": 600
        }
       },
       "data": [
        {
         "hovertemplate": "<b>Barbarian</b><br>lvl %{x}<br>eHP %{y:.1f}<extra></extra>",
         "line": {
          "color": "#E7623E"
         },
         "mode": "lines+markers",
         "name": "Barbarian",
         "type": "scatter",
         "unselected": {
          "marker": {
           "opacity": 0
          }
         },
         "x": [
          1,
          2,
          3,
          4,
          5,
          6,
          7,
          8,
          9,
          10,
          11,
          12,
          13,
          14,
          15,
          16,
          17,
          18,
          19,
          20
         ],
         "y": [
          25.819888974716115,
          34.8508732897152,
          49.22812859727993,
          65.17313686137719,
          78.9304784568152,
          99.648634011795,
          114.79522638158785,
          130.26748747005584,
          145.78261404519824,
          157.62402056527623,
          193.84281647768123,
          269.1286765727083,
          285.6755549310882,
          306.7994515985278,
          328.9385908302583,
          399.0431344614603,
          445.99823846169784,
          471.51555061249155,
          516.9141772738166,
          677.1390017700909
         ]
        },
        {
         "hovertemplate": "<b>Bard</b><br>lvl %{x}<br>eHP %{y:.1f}<extra></extra>",
         "line": {
          "color": "#AB6DAC"
         },
         "mode": "lines+markers",
         "name": "Bard",
         "type": "scatter",
         "unselected": {
          "marker": {
           "opacity": 0
          }
         },
         "x": [
          1,
          2,
          3,
          4,
          5,
          6,
          7,
          8,
          9,
          10,
          11,
          12,
          13,
          14,
          15,
          16,
          17,
          18,
          19,
          20
         ],
         "y": [
          13.417120877932836,
          21.616472525558457,
          29.738979265521237,
          37.748677681034955,
          50.383363709144696,
          59.49063794080683,
          68.45498064421608,
          77.55459298655538,
          85.52838222874713,
          96.12040486496589,
          106.72220776215994,
          117.87285589290744,
          124.85275260800228,
          134.00862113258907,
          147.00886370812046,
          156.41059336387235,
          163.78302994501172,
          173.06969659137837,
          183.57941061023158,
          189.43960326860017
         ]
        },
        {
         "hovertemplate": "<b>Cleric</b><br>lvl %{x}<br>eHP %{y:.1f}<extra></extra>",
         "line": {
          "color": "#91A1B2"
         },
         "mode": "lines+markers",
         "name": "Cleric",
         "type": "scatter",
         "unselected": {
          "marker": {
           "opacity": 0
          }
         },
         "x": [
          1,
          2,
          3,
          4,
          5,
          6,
          7,
          8,
          9,
          10,
          11,
          12,
          13,
          14,
          15,
          16,
          17,
          18,
          19,
          20
         ],
         "y": [
          15.768575052415912,
          25.404926473336747,
          35.04127789425758,
          43.89381125701738,
          55.02863837736371,
          64.79178389592825,
          74.55492941449276,
          82.9653785437569,
          91.23027437733028,
          100.69756700139283,
          110.16485962545542,
          119.63215224951797,
          127.40076796734922,
          136.7434909516215,
          146.08621393589377,
          155.42893692016605,
          162.79439998558507,
          172.0250102940461,
          181.2556206025071,
          190.48623091096815
         ]
        },
        {
         "hovertemplate": "<b>Druid</b><br>lvl %{x}<br>eHP %{y:.1f}<extra></extra>",
         "line": {
          "color": "#7A853B"
         },
         "mode": "lines+markers",
         "name": "Druid",
         "type": "scatter",
         "unselected": {
          "marker": {
           "opacity": 0
          }
         },
         "x": [
          1,
          2,
          3,
          4,
          5,
          6,
          7,
          8,
          9,
          10,
          11,
          12,
          13,
          14,
          15,
          16,
          17,
          18,
          19,
          20
         ],
         "y": [
          14.754222271266352,
          24.344466747589475,
          33.93471122391261,
          43.1622477360671,
          60.99948770276681,
          72.01328409354414,
          83.02708048432147,
          92.72377775920111,
          102.27544910540327,
          112.99787522129233,
          123.72030133718138,
          134.44272745307043,
          143.50422503842216,
          154.10396893330562,
          164.70371282818905,
          175.30345672307251,
          183.9667089448523,
          194.4560388408307,
          204.94536873680914,
          215.43469863278756
         ]
        },
        {
         "hovertemplate": "<b>Fighter</b><br>lvl %{x}<br>eHP %{y:.1f}<extra></extra>",
         "line": {
          "color": "#7F513E"
         },
         "mode": "lines+markers",
         "name": "Fighter",
         "type": "scatter",
         "unselected": {
          "marker": {
           "opacity": 0
          }
         },
         "x": [
          1,
          2,
          3,
          4,
          5,
          6,
          7,
          8,
          9,
          10,
          11,
          12,
          13,
          14,
          15,
          16,
          17,
          18,
          19,
          20
         ],
         "y": [
          30.937759825061633,
          47.167404323454605,
          61.241549161904764,
          76.35310025380336,
          97.55076803259932,
          111.60050331214481,
          127.85726954265408,
          160.5172593571007,
          175.14491354515764,
          191.40785750353785,
          211.00587045448555,
          255.54517893587087,
          270.44635024108896,
          317.737515310569,
          339.41263263408064,
          361.0877499575924,
          376.1635075003954,
          397.4649159045361,
          418.76632430867693,
          436.54055145109305
         ]
        },
        {
         "hovertemplate": "<b>Monk</b><br>lvl %{x}<br>eHP %{y:.1f}<extra></extra>",
         "line": {
          "color": "#51A5C5"
         },
         "mode": "lines+markers",
         "name": "Monk",
         "type": "scatter",
         "unselected": {
          "marker": {
           "opacity": 0
          }
         },
         "x": [
          1,
          2,
          3,
          4,
          5,
          6,
          7,
          8,
          9,
          10,
          11,
          12,
          13,
          14,
          15,
          16,
          17,
          18,
          19,
          20
         ],
         "y": [
          15.676361163220497,
          25.865995919313818,
          36.055630675407144,
          48.240159234427935,
          58.09475019311125,
          68.58408008908967,
          86.9807509835749,
          102.99715086320347,
          112.99998468934581,
          124.84675727774496,
          136.6935298661441,
          151.9787353817318,
          161.44225316822494,
          199.05095987218644,
          212.7422957364109,
          233.73794229743007,
          242.836055807205,
          531.5131728316039,
          643.9910641777111,
          677.0727969265661
         ]
        },
        {
         "hovertemplate": "<b>Paladin</b><br>lvl %{x}<br>eHP %{y:.1f}<extra></extra>",
         "line": {
          "color": "#B59E54"
         },
         "mode": "lines+markers",
         "name": "Paladin",
         "type": "scatter",
         "unselected": {
          "marker": {
           "opacity": 0
          }
         },
         "x": [
          1,
          2,
          3,
          4,
          5,
          6,
          7,
          8,
          9,
          10,
          11,
          12,
          13,
          14,
          15,
          16,
          17,
          18,
          19,
          20
         ],
         "y": [
          19.91820006620957,
          32.36707510759055,
          44.81595014897153,
          56.416457409754706,
          74.55492941449276,
          91.86232374285716,
          105.78085764329006,
          117.55643568488394,
          129.09944487358055,
          142.54730371457853,
          155.9951625555765,
          172.83188182450598,
          183.66094710173064,
          197.16542850626965,
          210.6699099108087,
          228.40409681186372,
          238.5757741263769,
          252.1312158381028,
          300.02710988620123,
          315.3899438261573
         ]
        },
        {
         "hovertemplate": "<b>Ranger</b><br>lvl %{x}<br>eHP %{y:.1f}<extra></extra>",
         "line": {
          "color": "#507F62"
         },
         "mode": "lines+markers",
         "name": "Ranger",
         "type": "scatter",
         "unselected": {
          "marker": {
           "opacity": 0
          }
         },
         "x": [
          1,
          2,
          3,
          4,
          5,
          6,
          7,
          8,
          9,
          10,
          11,
          12,
          13,
          14,
          15,
          16,
          17,
          18,
          19,
          20
         ],
         "y": [
          16.460179221381516,
          26.747791234744966,
          37.035403248108416,
          49.77922712625415,
          63.258727988054474,
          74.55492941449278,
          85.85113084093106,
          100.79948761576671,
          111.54192037077358,
          123.16087040939586,
          134.77982044801809,
          146.39877048664036,
          156.76361163220497,
          168.2903477816318,
          179.81708393105868,
          191.3438200804855,
          201.39513400278565,
          212.83803934385304,
          253.26963821562438,
          266.2382642688341
         ]
        },
        {
         "hovertemplate": "<b>Rogue</b><br>lvl %{x}<br>eHP %{y:.1f}<extra></extra>",
         "line": {
          "color": "#555752"
         },
         "mode": "lines+markers",
         "name": "Rogue",
         "type": "scatter",
         "unselected": {
          "marker": {
           "opacity": 0
          }
         },
         "x": [
          1,
          2,
          3,
          4,
          5,
          6,
          7,
          8,
          9,
          10,
          11,
          12,
          13,
          14,
          15,
          16,
          17,
          18,
          19,
          20
         ],
         "y": [
          13.627163625544615,
          22.48481998214861,
          31.342476338752615,
          42.09321373641218,
          64.13660421319481,
          75.71682441835499,
          94.88809198208173,
          110.5460103674631,
          122.24543798211047,
          135.06149196410595,
          147.87754594610138,
          160.69359992809683,
          171.8931043395014,
          184.58975409185095,
          210.89236273000733,
          224.46464349976029,
          235.47738744941094,
          248.90372971626334,
          262.3300719831158,
          275.75641424996815
         ]
        },
        {
         "hovertemplate": "<b>Sorcerer</b><br>lvl %{x}<br>eHP %{y:.1f}<extra></extra>",
         "line": {
          "color": "#992E2E"
         },
         "mode": "lines+markers",
         "name": "Sorcerer",
         "type": "scatter",
         "unselected": {
          "marker": {
           "opacity": 0
          }
         },
         "x": [
          1,
          2,
          3,
          4,
          5,
          6,
          7,
          8,
          9,
          10,
          11,
          12,
          13,
          14,
          15,
          16,
          17,
          18,
          19,
          20
         ],
         "y": [
          10.327955589886445,
          16.967355611956304,
          23.606755634026165,
          29.994104358961888,
          37.17372408190154,
          43.916000224105034,
          50.61505110574816,
          56.866406945564094,
          63.531271260565376,
          69.52950531669923,
          78.50680686590073,
          85.33642063587953,
          91.18497632649742,
          97.91173687517347,
          104.38816609029959,
          111.89810609679597,
          120.23914613067794,
          127.08821141660263,
          134.43555526168856,
          139.0354914343865
         ]
        },
        {
         "hovertemplate": "<b>Warlock</b><br>lvl %{x}<br>eHP %{y:.1f}<extra></extra>",
         "line": {
          "color": "#7B469B"
         },
         "mode": "lines+markers",
         "name": "Warlock",
         "type": "scatter",
         "unselected": {
          "marker": {
           "opacity": 0
          }
         },
         "x": [
          1,
          2,
          3,
          4,
          5,
          6,
          7,
          8,
          9,
          10,
          11,
          12,
          13,
          14,
          15,
          16,
          17,
          18,
          19,
          20
         ],
         "y": [
          11.61895003862225,
          18.719419506669187,
          25.81988897471611,
          32.92035844276304,
          40.02082791080997,
          47.1212973788569,
          54.22176684690383,
          61.32223631495076,
          68.42270578299768,
          75.52317525104462,
          82.62364471909156,
          89.72411418713848,
          96.82458365518544,
          103.92505312323236,
          111.02552259127928,
          118.12599205932621,
          125.22646152737315,
          132.32693099542004,
          139.427400463467,
          146.5278699315139
         ]
        },
        {
         "hovertemplate": "<b>Wizard</b><br>lvl %{x}<br>eHP %{y:.1f}<extra></extra>",
         "line": {
          "color": "#2A50A1"
         },
         "mode": "lines+markers",
         "name": "Wizard",
         "type": "scatter",
         "unselected": {
          "marker": {
           "opacity": 0
          }
         },
         "x": [
          1,
          2,
          3,
          4,
          5,
          6,
          7,
          8,
          9,
          10,
          11,
          12,
          13,
          14,
          15,
          16,
          17,
          18,
          19,
          20
         ],
         "y": [
          10.327955589886447,
          16.967355611956304,
          23.606755634026158,
          29.994104358961884,
          37.17372408190154,
          43.916000224105034,
          51.026555586282704,
          57.304965353884654,
          63.068664916435026,
          69.52950531669923,
          77.94737593811519,
          85.33642063587955,
          91.87577160169816,
          98.65349245756114,
          104.38816609029963,
          111.09883391039031,
          119.43397327712434,
          126.2371742865808,
          133.4888259992823,
          139.0354914343865
         ]
        },
        {
         "hoverinfo": "skip",
         "line": {
          "color": "black",
          "dash": "dash"
         },
         "mode": "lines",
         "name": "average",
         "type": "scatter",
         "unselected": {
          "marker": {
           "opacity": 0
          }
         },
         "x": [
          1,
          2,
          3,
          4,
          5,
          6,
          7,
          8,
          9,
          10,
          11,
          12,
          13,
          14,
          15,
          16,
          17,
          18,
          19,
          20
         ],
         "y": [
          16.55452769134535,
          26.125329694502852,
          35.95562556640702,
          46.31404987140297,
          59.77550201351301,
          71.10135822884004,
          83.17114095467373,
          95.95176577186554,
          105.90592193147039,
          116.58719453389448,
          129.98999516632588,
          149.07679451532894,
          158.79374155091617,
          174.91498505287657,
          188.33946008472552,
          205.52894218185125,
          217.99081809654135,
          253.29747388930903,
          281.03588062659435,
          305.6746965087794
         ]
        }
       ],
       "layout": {
        "legend": {
         "bgcolor": "rgba(0,0,0,0)",
         "x": 0.01,
         "xanchor": "left",
         "y": 0.99,
         "yanchor": "top"
        },
        "template": {
         "layout": {
          "autosize": true,
          "font": {
           "family": "sans-serif",
           "size": 14
          },
          "hovermode": "closest",
          "legend": {
           "font": {
            "size": 10
           },
           "orientation": "h",
           "tracegroupgap": 0
          },
          "margin": {
           "b": 40,
           "l": 50,
           "pad": 4,
           "r": 25,
           "t": 20
          },
          "template": {
           "data": {
            "bar": [
             {
              "error_x": {
               "color": "#2a3f5f"
              },
              "error_y": {
               "color": "#2a3f5f"
              },
              "marker": {
               "line": {
                "color": "white",
                "width": 0.5
               },
               "pattern": {
                "fillmode": "overlay",
                "size": 10,
                "solidity": 0.2
               }
              },
              "type": "bar"
             }
            ],
            "barpolar": [
             {
              "marker": {
               "line": {
                "color": "white",
                "width": 0.5
               },
               "pattern": {
                "fillmode": "overlay",
                "size": 10,
                "solidity": 0.2
               }
              },
              "type": "barpolar"
             }
            ],
            "carpet": [
             {
              "aaxis": {
               "endlinecolor": "#2a3f5f",
               "gridcolor": "#C8D4E3",
               "linecolor": "#C8D4E3",
               "minorgridcolor": "#C8D4E3",
               "startlinecolor": "#2a3f5f"
              },
              "baxis": {
               "endlinecolor": "#2a3f5f",
               "gridcolor": "#C8D4E3",
               "linecolor": "#C8D4E3",
               "minorgridcolor": "#C8D4E3",
               "startlinecolor": "#2a3f5f"
              },
              "type": "carpet"
             }
            ],
            "choropleth": [
             {
              "colorbar": {
               "outlinewidth": 0,
               "ticks": ""
              },
              "type": "choropleth"
             }
            ],
            "contour": [
             {
              "colorbar": {
               "outlinewidth": 0,
               "ticks": ""
              },
              "colorscale": [
               [
                0,
                "#0d0887"
               ],
               [
                0.1111111111111111,
                "#46039f"
               ],
               [
                0.2222222222222222,
                "#7201a8"
               ],
               [
                0.3333333333333333,
                "#9c179e"
               ],
               [
                0.4444444444444444,
                "#bd3786"
               ],
               [
                0.5555555555555556,
                "#d8576b"
               ],
               [
                0.6666666666666666,
                "#ed7953"
               ],
               [
                0.7777777777777778,
                "#fb9f3a"
               ],
               [
                0.8888888888888888,
                "#fdca26"
               ],
               [
                1,
                "#f0f921"
               ]
              ],
              "type": "contour"
             }
            ],
            "contourcarpet": [
             {
              "colorbar": {
               "outlinewidth": 0,
               "ticks": ""
              },
              "type": "contourcarpet"
             }
            ],
            "heatmap": [
             {
              "colorbar": {
               "outlinewidth": 0,
               "ticks": ""
              },
              "colorscale": [
               [
                0,
                "#0d0887"
               ],
               [
                0.1111111111111111,
                "#46039f"
               ],
               [
                0.2222222222222222,
                "#7201a8"
               ],
               [
                0.3333333333333333,
                "#9c179e"
               ],
               [
                0.4444444444444444,
                "#bd3786"
               ],
               [
                0.5555555555555556,
                "#d8576b"
               ],
               [
                0.6666666666666666,
                "#ed7953"
               ],
               [
                0.7777777777777778,
                "#fb9f3a"
               ],
               [
                0.8888888888888888,
                "#fdca26"
               ],
               [
                1,
                "#f0f921"
               ]
              ],
              "type": "heatmap"
             }
            ],
            "heatmapgl": [
             {
              "colorbar": {
               "outlinewidth": 0,
               "ticks": ""
              },
              "colorscale": [
               [
                0,
                "#0d0887"
               ],
               [
                0.1111111111111111,
                "#46039f"
               ],
               [
                0.2222222222222222,
                "#7201a8"
               ],
               [
                0.3333333333333333,
                "#9c179e"
               ],
               [
                0.4444444444444444,
                "#bd3786"
               ],
               [
                0.5555555555555556,
                "#d8576b"
               ],
               [
                0.6666666666666666,
                "#ed7953"
               ],
               [
                0.7777777777777778,
                "#fb9f3a"
               ],
               [
                0.8888888888888888,
                "#fdca26"
               ],
               [
                1,
                "#f0f921"
               ]
              ],
              "type": "heatmapgl"
             }
            ],
            "histogram": [
             {
              "marker": {
               "pattern": {
                "fillmode": "overlay",
                "size": 10,
                "solidity": 0.2
               }
              },
              "type": "histogram"
             }
            ],
            "histogram2d": [
             {
              "colorbar": {
               "outlinewidth": 0,
               "ticks": ""
              },
              "colorscale": [
               [
                0,
                "#0d0887"
               ],
               [
                0.1111111111111111,
                "#46039f"
               ],
               [
                0.2222222222222222,
                "#7201a8"
               ],
               [
                0.3333333333333333,
                "#9c179e"
               ],
               [
                0.4444444444444444,
                "#bd3786"
               ],
               [
                0.5555555555555556,
                "#d8576b"
               ],
               [
                0.6666666666666666,
                "#ed7953"
               ],
               [
                0.7777777777777778,
                "#fb9f3a"
               ],
               [
                0.8888888888888888,
                "#fdca26"
               ],
               [
                1,
                "#f0f921"
               ]
              ],
              "type": "histogram2d"
             }
            ],
            "histogram2dcontour": [
             {
              "colorbar": {
               "outlinewidth": 0,
               "ticks": ""
              },
              "colorscale": [
               [
                0,
                "#0d0887"
               ],
               [
                0.1111111111111111,
                "#46039f"
               ],
               [
                0.2222222222222222,
                "#7201a8"
               ],
               [
                0.3333333333333333,
                "#9c179e"
               ],
               [
                0.4444444444444444,
                "#bd3786"
               ],
               [
                0.5555555555555556,
                "#d8576b"
               ],
               [
                0.6666666666666666,
                "#ed7953"
               ],
               [
                0.7777777777777778,
                "#fb9f3a"
               ],
               [
                0.8888888888888888,
                "#fdca26"
               ],
               [
                1,
                "#f0f921"
               ]
              ],
              "type": "histogram2dcontour"
             }
            ],
            "mesh3d": [
             {
              "colorbar": {
               "outlinewidth": 0,
               "ticks": ""
              },
              "type": "mesh3d"
             }
            ],
            "parcoords": [
             {
              "line": {
               "colorbar": {
                "outlinewidth": 0,
                "ticks": ""
               }
              },
              "type": "parcoords"
             }
            ],
            "pie": [
             {
              "automargin": true,
              "type": "pie"
             }
            ],
            "scatter": [
             {
              "fillpattern": {
               "fillmode": "overlay",
               "size": 10,
               "solidity": 0.2
              },
              "type": "scatter"
             }
            ],
            "scatter3d": [
             {
              "line": {
               "colorbar": {
                "outlinewidth": 0,
                "ticks": ""
               }
              },
              "marker": {
               "colorbar": {
                "outlinewidth": 0,
                "ticks": ""
               }
              },
              "type": "scatter3d"
             }
            ],
            "scattercarpet": [
             {
              "marker": {
               "colorbar": {
                "outlinewidth": 0,
                "ticks": ""
               }
              },
              "type": "scattercarpet"
             }
            ],
            "scattergeo": [
             {
              "marker": {
               "colorbar": {
                "outlinewidth": 0,
                "ticks": ""
               }
              },
              "type": "scattergeo"
             }
            ],
            "scattergl": [
             {
              "marker": {
               "colorbar": {
                "outlinewidth": 0,
                "ticks": ""
               }
              },
              "type": "scattergl"
             }
            ],
            "scattermapbox": [
             {
              "marker": {
               "colorbar": {
                "outlinewidth": 0,
                "ticks": ""
               }
              },
              "type": "scattermapbox"
             }
            ],
            "scatterpolar": [
             {
              "marker": {
               "colorbar": {
                "outlinewidth": 0,
                "ticks": ""
               }
              },
              "type": "scatterpolar"
             }
            ],
            "scatterpolargl": [
             {
              "marker": {
               "colorbar": {
                "outlinewidth": 0,
                "ticks": ""
               }
              },
              "type": "scatterpolargl"
             }
            ],
            "scatterternary": [
             {
              "marker": {
               "colorbar": {
                "outlinewidth": 0,
                "ticks": ""
               }
              },
              "type": "scatterternary"
             }
            ],
            "surface": [
             {
              "colorbar": {
               "outlinewidth": 0,
               "ticks": ""
              },
              "colorscale": [
               [
                0,
                "#0d0887"
               ],
               [
                0.1111111111111111,
                "#46039f"
               ],
               [
                0.2222222222222222,
                "#7201a8"
               ],
               [
                0.3333333333333333,
                "#9c179e"
               ],
               [
                0.4444444444444444,
                "#bd3786"
               ],
               [
                0.5555555555555556,
                "#d8576b"
               ],
               [
                0.6666666666666666,
                "#ed7953"
               ],
               [
                0.7777777777777778,
                "#fb9f3a"
               ],
               [
                0.8888888888888888,
                "#fdca26"
               ],
               [
                1,
                "#f0f921"
               ]
              ],
              "type": "surface"
             }
            ],
            "table": [
             {
              "cells": {
               "fill": {
                "color": "#EBF0F8"
               },
               "line": {
                "color": "white"
               }
              },
              "header": {
               "fill": {
                "color": "#C8D4E3"
               },
               "line": {
                "color": "white"
               }
              },
              "type": "table"
             }
            ]
           },
           "layout": {
            "annotationdefaults": {
             "arrowcolor": "#2a3f5f",
             "arrowhead": 0,
             "arrowwidth": 1
            },
            "autotypenumbers": "strict",
            "coloraxis": {
             "colorbar": {
              "outlinewidth": 0,
              "ticks": ""
             }
            },
            "colorscale": {
             "diverging": [
              [
               0,
               "#8e0152"
              ],
              [
               0.1,
               "#c51b7d"
              ],
              [
               0.2,
               "#de77ae"
              ],
              [
               0.3,
               "#f1b6da"
              ],
              [
               0.4,
               "#fde0ef"
              ],
              [
               0.5,
               "#f7f7f7"
              ],
              [
               0.6,
               "#e6f5d0"
              ],
              [
               0.7,
               "#b8e186"
              ],
              [
               0.8,
               "#7fbc41"
              ],
              [
               0.9,
               "#4d9221"
              ],
              [
               1,
               "#276419"
              ]
             ],
             "sequential": [
              [
               0,
               "#0d0887"
              ],
              [
               0.1111111111111111,
               "#46039f"
              ],
              [
               0.2222222222222222,
               "#7201a8"
              ],
              [
               0.3333333333333333,
               "#9c179e"
              ],
              [
               0.4444444444444444,
               "#bd3786"
              ],
              [
               0.5555555555555556,
               "#d8576b"
              ],
              [
               0.6666666666666666,
               "#ed7953"
              ],
              [
               0.7777777777777778,
               "#fb9f3a"
              ],
              [
               0.8888888888888888,
               "#fdca26"
              ],
              [
               1,
               "#f0f921"
              ]
             ],
             "sequentialminus": [
              [
               0,
               "#0d0887"
              ],
              [
               0.1111111111111111,
               "#46039f"
              ],
              [
               0.2222222222222222,
               "#7201a8"
              ],
              [
               0.3333333333333333,
               "#9c179e"
              ],
              [
               0.4444444444444444,
               "#bd3786"
              ],
              [
               0.5555555555555556,
               "#d8576b"
              ],
              [
               0.6666666666666666,
               "#ed7953"
              ],
              [
               0.7777777777777778,
               "#fb9f3a"
              ],
              [
               0.8888888888888888,
               "#fdca26"
              ],
              [
               1,
               "#f0f921"
              ]
             ]
            },
            "colorway": [
             "#636efa",
             "#EF553B",
             "#00cc96",
             "#ab63fa",
             "#FFA15A",
             "#19d3f3",
             "#FF6692",
             "#B6E880",
             "#FF97FF",
             "#FECB52"
            ],
            "font": {
             "color": "#2a3f5f"
            },
            "geo": {
             "bgcolor": "white",
             "lakecolor": "white",
             "landcolor": "white",
             "showlakes": true,
             "showland": true,
             "subunitcolor": "#C8D4E3"
            },
            "hoverlabel": {
             "align": "left"
            },
            "hovermode": "closest",
            "mapbox": {
             "style": "light"
            },
            "paper_bgcolor": "white",
            "plot_bgcolor": "white",
            "polar": {
             "angularaxis": {
              "gridcolor": "#EBF0F8",
              "linecolor": "#EBF0F8",
              "ticks": ""
             },
             "bgcolor": "white",
             "radialaxis": {
              "gridcolor": "#EBF0F8",
              "linecolor": "#EBF0F8",
              "ticks": ""
             }
            },
            "scene": {
             "xaxis": {
              "backgroundcolor": "white",
              "gridcolor": "#DFE8F3",
              "gridwidth": 2,
              "linecolor": "#EBF0F8",
              "showbackground": true,
              "ticks": "",
              "zerolinecolor": "#EBF0F8"
             },
             "yaxis": {
              "backgroundcolor": "white",
              "gridcolor": "#DFE8F3",
              "gridwidth": 2,
              "linecolor": "#EBF0F8",
              "showbackground": true,
              "ticks": "",
              "zerolinecolor": "#EBF0F8"
             },
             "zaxis": {
              "backgroundcolor": "white",
              "gridcolor": "#DFE8F3",
              "gridwidth": 2,
              "linecolor": "#EBF0F8",
              "showbackground": true,
              "ticks": "",
              "zerolinecolor": "#EBF0F8"
             }
            },
            "shapedefaults": {
             "line": {
              "color": "#2a3f5f"
             }
            },
            "ternary": {
             "aaxis": {
              "gridcolor": "#DFE8F3",
              "linecolor": "#A2B1C6",
              "ticks": ""
             },
             "baxis": {
              "gridcolor": "#DFE8F3",
              "linecolor": "#A2B1C6",
              "ticks": ""
             },
             "bgcolor": "white",
             "caxis": {
              "gridcolor": "#DFE8F3",
              "linecolor": "#A2B1C6",
              "ticks": ""
             }
            },
            "title": {
             "x": 0.05
            },
            "xaxis": {
             "automargin": true,
             "gridcolor": "#EBF0F8",
             "linecolor": "#EBF0F8",
             "ticks": "",
             "title": {
              "standoff": 15
             },
             "zerolinecolor": "#EBF0F8",
             "zerolinewidth": 2
            },
            "yaxis": {
             "automargin": true,
             "gridcolor": "#EBF0F8",
             "linecolor": "#EBF0F8",
             "ticks": "",
             "title": {
              "standoff": 15
             },
             "zerolinecolor": "#EBF0F8",
             "zerolinewidth": 2
            }
           }
          },
          "xaxis": {
           "automargin": true,
           "autorange": false,
           "fixedrange": true,
           "linecolor": "#444",
           "linewidth": 2,
           "minor": {
            "tickmode": "linear",
            "ticks": "outside"
           },
           "mirror": true,
           "showline": true,
           "tickmode": "linear",
           "ticks": "outside",
           "zeroline": false
          },
          "yaxis": {
           "automargin": true,
           "autorange": false,
           "fixedrange": true,
           "linecolor": "#444",
           "linewidth": 2,
           "minor": {
            "tickmode": "linear",
            "ticks": "outside"
           },
           "mirror": true,
           "showline": true,
           "tickmode": "linear",
           "ticks": "outside",
           "zeroline": false
          }
         }
        },
        "xaxis": {
         "dtick": 5,
         "minor": {
          "dtick": 1,
          "tick0": 0
         },
         "range": [
          0.8,
          20.2
         ],
         "tick0": 0,
         "title": {
          "text": "level"
         }
        },
        "yaxis": {
         "dtick": 100,
         "minor": {
          "dtick": 50,
          "tick0": 0
         },
         "range": [
          0,
          800
         ],
         "tick0": 0,
         "title": {
          "text": "effective hit points"
         }
        }
       }
      }
     },
     "metadata": {},
     "output_type": "display_data"
    }
   ],
   "source": [
    "# Plots eHP for each class, calculated for a full adventuring day with Medium encounters and two short rests.\n",
    "encounter_difficulty = 'Medium'\n",
    "pc_data_file = f'./pc data - {encounter_difficulty} 2 short rests.json'\n",
    "\n",
    "with open(pc_data_file, 'r') as fin:\n",
    "    pc_data = json.load(fin)\n",
    "\n",
    "levels = np.array(range(1,21,1))\n",
    "\n",
    "fig = go.Figure(\n",
    "    layout=go.Layout(\n",
    "        template=TFB_TEMPLATE,\n",
    "        xaxis=dict(\n",
    "            title_text='level',\n",
    "            range=[0.8, 20.2],\n",
    "            tick0=0, dtick=5,\n",
    "            minor=dict(tick0=0, dtick=1),\n",
    "        ),\n",
    "        yaxis=dict(\n",
    "            title_text='effective hit points',\n",
    "            range=[0, 800],\n",
    "            tick0=0, dtick=100,\n",
    "            minor=dict(tick0=0, dtick=50),\n",
    "        ),\n",
    "        legend=dict(\n",
    "            yanchor='top',  y=0.99,\n",
    "            xanchor='left', x=0.01,\n",
    "            bgcolor='rgba(0,0,0,0)',\n",
    "        )\n",
    "    )\n",
    ")\n",
    "\n",
    "eHPmean = np.zeros(20)\n",
    "for pc in PC_CLASSES:\n",
    "    eXP  = np.array([x['encounter XP mean'] for x in pc_data[pc]])\n",
    "    eDPR = np.array([x['effective damage per round mean'] for x in pc_data[pc]])\n",
    "    eHP = eXP/eDPR\n",
    "    #eHP = np.array([x['encounter effective hit points mean'] for x in pc_data[pc]])\n",
    "    eHPmean += eHP\n",
    "    fig.add_trace(go.Scatter(\n",
    "        x=levels, \n",
    "        y=eHP,\n",
    "        mode='lines+markers', \n",
    "        line={'color': PC_CLASSES[pc]['color']},\n",
    "        unselected=dict(marker=dict(opacity=0.0)),\n",
    "        name=pc,\n",
    "        hovertemplate=\n",
    "            '<b>'+pc+'</b><br>'+\n",
    "            'lvl %{x}<br>'+\n",
    "            'eHP %{y:.1f}'+\n",
    "            '<extra></extra>'\n",
    "    ))\n",
    "\n",
    "eHPmean /= len(PC_CLASSES)\n",
    "fig.add_trace(go.Scatter(\n",
    "    x=levels, \n",
    "    y=eHPmean,\n",
    "    mode='lines', \n",
    "    line=dict(color='black', dash='dash'),\n",
    "    unselected=dict(marker=dict(opacity=0.0)),\n",
    "    name='average',\n",
    "    hoverinfo='skip'\n",
    "))\n",
    "\n",
    "# show figure\n",
    "fig.show(config=TFB_CONFIG)\n",
    "\n",
    "# save large format figure\n",
    "if SAVEFIGS:\n",
    "    file_name = f'./fig-pcs-encounter-ehp-vs-level-{encounter_difficulty.lower()}-adventuring-days-large.html'\n",
    "    fig_html = fig.to_html(\n",
    "        config=TFB_CONFIG,\n",
    "        include_plotlyjs=False, \n",
    "        full_html=False, \n",
    "    )\n",
    "    fig_soup = BeautifulSoup(fig_html, 'html.parser')\n",
    "    fig_soup.div['class'] = 'plotly-div-large'\n",
    "    with open(file_name, 'wb') as fout:\n",
    "        fout.write(fig_soup.prettify('utf-8'))\n",
    "\n",
    "# save small format figure\n",
    "if SAVEFIGS:\n",
    "    fig.update_traces(marker=dict(size=4))\n",
    "    fig.update_layout(font=dict(size=10), legend=dict(font_size=8))\n",
    "    file_name = f'./fig-pcs-encounter-ehp-vs-level-{encounter_difficulty.lower()}-adventuring-days-small.html'\n",
    "    fig_html = fig.to_html(\n",
    "        config=TFB_CONFIG,\n",
    "        include_plotlyjs=False, \n",
    "        full_html=False, \n",
    "    )\n",
    "    fig_soup = BeautifulSoup(fig_html, 'html.parser')\n",
    "    fig_soup.div['class'] = 'plotly-div-small'\n",
    "    with open(file_name, 'wb') as fout:\n",
    "        fout.write(fig_soup.prettify('utf-8'))"
   ]
  },
  {
   "cell_type": "code",
   "execution_count": 9,
   "metadata": {},
   "outputs": [
    {
     "data": {
      "application/vnd.plotly.v1+json": {
       "config": {
        "autosizable": false,
        "displayModeBar": "hover",
        "displaylogo": false,
        "modeBarButtonsToRemove": [
         "select2d",
         "lasso2d",
         "zoom2d",
         "zoomIn2d",
         "zoomOut2d",
         "pan2d",
         "autoScale2d",
         "hoverClosestCartesian",
         "hoverCompareCartesian",
         "toggleSpikelines",
         "resetScale2d"
        ],
        "plotlyServerURL": "https://plot.ly",
        "responsive": true,
        "showAxisDragHandles": false,
        "toImageButtonOptions": {
         "filename": "tfb-plot",
         "format": "png",
         "height": 450,
         "scale": 2,
         "width": 600
        }
       },
       "data": [
        {
         "hovertemplate": "<b>Barbarian</b><br>lvl %{x}<br>enc XP %{y:.2f}<extra></extra>",
         "line": {
          "color": "#E7623E"
         },
         "marker": {
          "size": 5
         },
         "mode": "lines+markers",
         "name": "Barbarian",
         "type": "scatter",
         "unselected": {
          "marker": {
           "opacity": 0
          }
         },
         "x": [
          1,
          2,
          3,
          4,
          5,
          6,
          7,
          8,
          9,
          10,
          11,
          12,
          13,
          14,
          15,
          16,
          17,
          18,
          19,
          20
         ],
         "y": [
          1.5814814814814815,
          1.3722646604938271,
          0.977131076388889,
          1.072019117647059,
          1.3226049562682216,
          1.50515625,
          1.3871520000000002,
          1.4950722222222224,
          1.5789106666666666,
          1.406353994490358,
          1.4995933333333336,
          2.0135735544857334,
          2.010673251028807,
          1.9434148148148152,
          1.739234833795014,
          1.9986948199445982,
          2.045175,
          2.0020254629629632,
          1.9753066666666668,
          2.329696875
         ]
        },
        {
         "hovertemplate": "<b>Bard</b><br>lvl %{x}<br>enc XP %{y:.2f}<extra></extra>",
         "line": {
          "color": "#AB6DAC"
         },
         "marker": {
          "size": 5
         },
         "mode": "lines+markers",
         "name": "Bard",
         "type": "scatter",
         "unselected": {
          "marker": {
           "opacity": 0
          }
         },
         "x": [
          1,
          2,
          3,
          4,
          5,
          6,
          7,
          8,
          9,
          10,
          11,
          12,
          13,
          14,
          15,
          16,
          17,
          18,
          19,
          20
         ],
         "y": [
          0.6242129629629629,
          0.526352237654321,
          0.41432291666666665,
          0.4472,
          0.5054897959183674,
          0.5591191666666666,
          0.552167,
          0.5914739583333334,
          0.6419625000000001,
          0.6244028925619836,
          0.7499047619047619,
          0.8014195877839627,
          0.8179269547325105,
          0.790117438271605,
          0.7712758284600391,
          0.7385414473684211,
          0.7692073130193906,
          0.7526131117266853,
          0.7684944444444445,
          0.5872482922335602
         ]
        },
        {
         "hovertemplate": "<b>Cleric</b><br>lvl %{x}<br>enc XP %{y:.2f}<extra></extra>",
         "line": {
          "color": "#91A1B2"
         },
         "marker": {
          "size": 5
         },
         "mode": "lines+markers",
         "name": "Cleric",
         "type": "scatter",
         "unselected": {
          "marker": {
           "opacity": 0
          }
         },
         "x": [
          1,
          2,
          3,
          4,
          5,
          6,
          7,
          8,
          9,
          10,
          11,
          12,
          13,
          14,
          15,
          16,
          17,
          18,
          19,
          20
         ],
         "y": [
          0.7336111111111111,
          0.6185995370370372,
          0.4881944444444445,
          0.52,
          0.5520952380952381,
          0.6089416666666667,
          0.60137,
          0.72378125,
          0.7554266666666668,
          0.7191363636363637,
          0.8411428571428572,
          0.8702608695652174,
          0.8860596707818931,
          0.8559336419753087,
          0.808345516569201,
          0.7740378289473685,
          0.7955361403508773,
          0.7783739441195583,
          0.7804333333333334,
          0.6109858134920636
         ]
        },
        {
         "hovertemplate": "<b>Druid</b><br>lvl %{x}<br>enc XP %{y:.2f}<extra></extra>",
         "line": {
          "color": "#7A853B"
         },
         "marker": {
          "size": 5
         },
         "mode": "lines+markers",
         "name": "Druid",
         "type": "scatter",
         "unselected": {
          "marker": {
           "opacity": 0
          }
         },
         "x": [
          1,
          2,
          3,
          4,
          5,
          6,
          7,
          8,
          9,
          10,
          11,
          12,
          13,
          14,
          15,
          16,
          17,
          18,
          19,
          20
         ],
         "y": [
          0.6864197530864199,
          0.5927777777777778,
          0.4727777777777778,
          0.5113333333333334,
          0.612,
          0.6768125,
          0.6697074999999999,
          0.7071625000000002,
          0.7676633333333334,
          0.7340397727272727,
          0.8693452380952381,
          0.9140784313725491,
          0.9401152263374486,
          0.9086,
          0.8641111111111112,
          0.82775,
          0.864,
          0.8456140350877193,
          0.8579359567901235,
          0.6678311011904763
         ]
        },
        {
         "hovertemplate": "<b>Fighter</b><br>lvl %{x}<br>enc XP %{y:.2f}<extra></extra>",
         "line": {
          "color": "#7F513E"
         },
         "marker": {
          "size": 5
         },
         "mode": "lines+markers",
         "name": "Fighter",
         "type": "scatter",
         "unselected": {
          "marker": {
           "opacity": 0
          }
         },
         "x": [
          1,
          2,
          3,
          4,
          5,
          6,
          7,
          8,
          9,
          10,
          11,
          12,
          13,
          14,
          15,
          16,
          17,
          18,
          19,
          20
         ],
         "y": [
          1.8638888888888892,
          1.6576388888888889,
          1.0376953125,
          1.100231092436975,
          1.4475102040816328,
          1.690007142857143,
          1.5489514285714285,
          1.620514285714286,
          1.4977600000000002,
          1.3478535353535352,
          1.9333142857142855,
          2.1870076726342713,
          2.0638333333333336,
          2.1822500000000002,
          1.9279912280701756,
          1.8460026315789477,
          1.840263157894737,
          1.8004385964912282,
          1.73,
          1.7390204081632652
         ]
        },
        {
         "hovertemplate": "<b>Monk</b><br>lvl %{x}<br>enc XP %{y:.2f}<extra></extra>",
         "line": {
          "color": "#51A5C5"
         },
         "marker": {
          "size": 5
         },
         "mode": "lines+markers",
         "name": "Monk",
         "type": "scatter",
         "unselected": {
          "marker": {
           "opacity": 0
          }
         },
         "x": [
          1,
          2,
          3,
          4,
          5,
          6,
          7,
          8,
          9,
          10,
          11,
          12,
          13,
          14,
          15,
          16,
          17,
          18,
          19,
          20
         ],
         "y": [
          1.1333333333333333,
          1.0778472222222222,
          0.763671875,
          0.9836225490196078,
          0.9551020408163267,
          1.02265625,
          1.05105,
          1.050453125,
          0.992,
          0.9133333333333333,
          0.9714285714285714,
          1.166985507246377,
          1.1146666666666667,
          1.2369,
          1.1016481481481482,
          1.0893333333333335,
          1.05336,
          1.9550126705653021,
          2.0951000000000004,
          1.65204375
         ]
        },
        {
         "hovertemplate": "<b>Paladin</b><br>lvl %{x}<br>enc XP %{y:.2f}<extra></extra>",
         "line": {
          "color": "#B59E54"
         },
         "marker": {
          "size": 5
         },
         "mode": "lines+markers",
         "name": "Paladin",
         "type": "scatter",
         "unselected": {
          "marker": {
           "opacity": 0
          }
         },
         "x": [
          1,
          2,
          3,
          4,
          5,
          6,
          7,
          8,
          9,
          10,
          11,
          12,
          13,
          14,
          15,
          16,
          17,
          18,
          19,
          20
         ],
         "y": [
          1.2,
          1.12125,
          0.78890625,
          0.8370477941176472,
          1.2037142857142857,
          1.3104609375,
          1.2662075000000002,
          1.331925,
          1.37,
          1.226294191919192,
          1.561339285714286,
          1.6547771739130435,
          1.6379290123456791,
          1.5825284722222224,
          1.4459934210526317,
          1.4109453947368422,
          1.3765978947368425,
          1.3470497076023393,
          1.5478987654320988,
          1.1420055555555557
         ]
        },
        {
         "hovertemplate": "<b>Ranger</b><br>lvl %{x}<br>enc XP %{y:.2f}<extra></extra>",
         "line": {
          "color": "#507F62"
         },
         "marker": {
          "size": 5
         },
         "mode": "lines+markers",
         "name": "Ranger",
         "type": "scatter",
         "unselected": {
          "marker": {
           "opacity": 0
          }
         },
         "x": [
          1,
          2,
          3,
          4,
          5,
          6,
          7,
          8,
          9,
          10,
          11,
          12,
          13,
          14,
          15,
          16,
          17,
          18,
          19,
          20
         ],
         "y": [
          0.85,
          0.82875,
          0.585703125,
          0.6763860294117647,
          0.9060000000000001,
          0.9442125000000001,
          0.9117149999999999,
          1.0240270833333334,
          1.08864,
          0.9716666666666667,
          0.9976000000000002,
          1.053759590792839,
          1.0572530864197534,
          1.0214930555555557,
          0.9464912280701756,
          0.9064473684210527,
          0.9145978947368422,
          0.8949663742690059,
          1.0596845679012348,
          0.7674191468253969
         ]
        },
        {
         "hovertemplate": "<b>Rogue</b><br>lvl %{x}<br>enc XP %{y:.2f}<extra></extra>",
         "line": {
          "color": "#555752"
         },
         "marker": {
          "size": 5
         },
         "mode": "lines+markers",
         "name": "Rogue",
         "type": "scatter",
         "unselected": {
          "marker": {
           "opacity": 0
          }
         },
         "x": [
          1,
          2,
          3,
          4,
          5,
          6,
          7,
          8,
          9,
          10,
          11,
          12,
          13,
          14,
          15,
          16,
          17,
          18,
          19,
          20
         ],
         "y": [
          1.0555555555555556,
          0.8708333333333333,
          0.8193750000000001,
          0.8806617647058823,
          0.8516571428571429,
          0.87975,
          1.0535,
          1.123875,
          1.2036266666666668,
          1.108177777777778,
          1.18,
          1.1707652173913043,
          1.2476444444444448,
          1.2058200000000003,
          1.2697944444444444,
          1.2163625,
          1.16736,
          1.1425185185185187,
          1.1785600000000003,
          0.9291600000000002
         ]
        },
        {
         "hovertemplate": "<b>Sorcerer</b><br>lvl %{x}<br>enc XP %{y:.2f}<extra></extra>",
         "line": {
          "color": "#992E2E"
         },
         "marker": {
          "size": 5
         },
         "mode": "lines+markers",
         "name": "Sorcerer",
         "type": "scatter",
         "unselected": {
          "marker": {
           "opacity": 0
          }
         },
         "x": [
          1,
          2,
          3,
          4,
          5,
          6,
          7,
          8,
          9,
          10,
          11,
          12,
          13,
          14,
          15,
          16,
          17,
          18,
          19,
          20
         ],
         "y": [
          0.4580246913580247,
          0.41314814814814826,
          0.34,
          0.36814583333333334,
          0.39489795918367354,
          0.442790390625,
          0.45113324999999993,
          0.47633590277777776,
          0.5172087777777779,
          0.4908360594582185,
          0.5811804761904763,
          0.6288922320846496,
          0.6466083676268862,
          0.637775925925926,
          0.5985791782086796,
          0.5774781855955679,
          0.5862719113573407,
          0.573765876680004,
          0.583982304526749,
          0.4504445861678005
         ]
        },
        {
         "hovertemplate": "<b>Warlock</b><br>lvl %{x}<br>enc XP %{y:.2f}<extra></extra>",
         "line": {
          "color": "#7B469B"
         },
         "marker": {
          "size": 5
         },
         "mode": "lines+markers",
         "name": "Warlock",
         "type": "scatter",
         "unselected": {
          "marker": {
           "opacity": 0
          }
         },
         "x": [
          1,
          2,
          3,
          4,
          5,
          6,
          7,
          8,
          9,
          10,
          11,
          12,
          13,
          14,
          15,
          16,
          17,
          18,
          19,
          20
         ],
         "y": [
          0.6533333333333333,
          0.5732870370370371,
          0.45208333333333334,
          0.4856249999999999,
          0.5567346938775511,
          0.5791333333333334,
          0.57008,
          0.6022604166666666,
          0.6614399999999999,
          0.5903181818181817,
          0.8022857142857143,
          0.8350664961636829,
          0.8405349794238685,
          0.8119567901234569,
          0.7505092592592594,
          0.7186562500000001,
          0.7518350877192983,
          0.7356156595191682,
          0.6996666666666667,
          0.5411517857142857
         ]
        },
        {
         "hovertemplate": "<b>Wizard</b><br>lvl %{x}<br>enc XP %{y:.2f}<extra></extra>",
         "line": {
          "color": "#2A50A1"
         },
         "marker": {
          "size": 5
         },
         "mode": "lines+markers",
         "name": "Wizard",
         "type": "scatter",
         "unselected": {
          "marker": {
           "opacity": 0
          }
         },
         "x": [
          1,
          2,
          3,
          4,
          5,
          6,
          7,
          8,
          9,
          10,
          11,
          12,
          13,
          14,
          15,
          16,
          17,
          18,
          19,
          20
         ],
         "y": [
          0.48049382716049394,
          0.41314814814814826,
          0.33851851851851855,
          0.3664375,
          0.39489795918367354,
          0.43655390625,
          0.433721,
          0.4590483333333334,
          0.5007409722222222,
          0.4745156584787266,
          0.5718638095238094,
          0.6086053858883708,
          0.633422382258802,
          0.6121352366255144,
          0.5836053401046476,
          0.5590105436288089,
          0.5729323638042475,
          0.5607108811258166,
          0.5798697530864199,
          0.44510250141723356
         ]
        },
        {
         "hoverinfo": "skip",
         "line": {
          "color": "black",
          "dash": "dash"
         },
         "mode": "lines",
         "name": "average",
         "type": "scatter",
         "unselected": {
          "marker": {
           "opacity": 0
          }
         },
         "x": [
          1,
          2,
          3,
          4,
          5,
          6,
          7,
          8,
          9,
          10,
          11,
          12,
          13,
          14,
          15,
          16,
          17,
          18,
          19,
          20
         ],
         "y": [
          0.9433629115226337,
          0.8388247492283952,
          0.6231983024691359,
          0.6873925011671336,
          0.8085586896663427,
          0.8879661703249007,
          0.8747295565476192,
          0.9338274231150795,
          0.9646149652777778,
          0.8839107023518009,
          1.0465831944444446,
          1.1587659766101666,
          1.1580556146166743,
          1.1490771146262004,
          1.0672982947744605,
          1.0552716919629117,
          1.061428063634965,
          1.115725403222359,
          1.1547443715706447,
          0.9885091513133031
         ]
        }
       ],
       "layout": {
        "legend": {
         "bgcolor": "rgba(0,0,0,0)",
         "x": 0.01,
         "xanchor": "left",
         "y": 0.99,
         "yanchor": "top"
        },
        "template": {
         "layout": {
          "autosize": true,
          "font": {
           "family": "sans-serif",
           "size": 14
          },
          "hovermode": "closest",
          "legend": {
           "font": {
            "size": 10
           },
           "orientation": "h",
           "tracegroupgap": 0
          },
          "margin": {
           "b": 40,
           "l": 50,
           "pad": 4,
           "r": 25,
           "t": 20
          },
          "template": {
           "data": {
            "bar": [
             {
              "error_x": {
               "color": "#2a3f5f"
              },
              "error_y": {
               "color": "#2a3f5f"
              },
              "marker": {
               "line": {
                "color": "white",
                "width": 0.5
               },
               "pattern": {
                "fillmode": "overlay",
                "size": 10,
                "solidity": 0.2
               }
              },
              "type": "bar"
             }
            ],
            "barpolar": [
             {
              "marker": {
               "line": {
                "color": "white",
                "width": 0.5
               },
               "pattern": {
                "fillmode": "overlay",
                "size": 10,
                "solidity": 0.2
               }
              },
              "type": "barpolar"
             }
            ],
            "carpet": [
             {
              "aaxis": {
               "endlinecolor": "#2a3f5f",
               "gridcolor": "#C8D4E3",
               "linecolor": "#C8D4E3",
               "minorgridcolor": "#C8D4E3",
               "startlinecolor": "#2a3f5f"
              },
              "baxis": {
               "endlinecolor": "#2a3f5f",
               "gridcolor": "#C8D4E3",
               "linecolor": "#C8D4E3",
               "minorgridcolor": "#C8D4E3",
               "startlinecolor": "#2a3f5f"
              },
              "type": "carpet"
             }
            ],
            "choropleth": [
             {
              "colorbar": {
               "outlinewidth": 0,
               "ticks": ""
              },
              "type": "choropleth"
             }
            ],
            "contour": [
             {
              "colorbar": {
               "outlinewidth": 0,
               "ticks": ""
              },
              "colorscale": [
               [
                0,
                "#0d0887"
               ],
               [
                0.1111111111111111,
                "#46039f"
               ],
               [
                0.2222222222222222,
                "#7201a8"
               ],
               [
                0.3333333333333333,
                "#9c179e"
               ],
               [
                0.4444444444444444,
                "#bd3786"
               ],
               [
                0.5555555555555556,
                "#d8576b"
               ],
               [
                0.6666666666666666,
                "#ed7953"
               ],
               [
                0.7777777777777778,
                "#fb9f3a"
               ],
               [
                0.8888888888888888,
                "#fdca26"
               ],
               [
                1,
                "#f0f921"
               ]
              ],
              "type": "contour"
             }
            ],
            "contourcarpet": [
             {
              "colorbar": {
               "outlinewidth": 0,
               "ticks": ""
              },
              "type": "contourcarpet"
             }
            ],
            "heatmap": [
             {
              "colorbar": {
               "outlinewidth": 0,
               "ticks": ""
              },
              "colorscale": [
               [
                0,
                "#0d0887"
               ],
               [
                0.1111111111111111,
                "#46039f"
               ],
               [
                0.2222222222222222,
                "#7201a8"
               ],
               [
                0.3333333333333333,
                "#9c179e"
               ],
               [
                0.4444444444444444,
                "#bd3786"
               ],
               [
                0.5555555555555556,
                "#d8576b"
               ],
               [
                0.6666666666666666,
                "#ed7953"
               ],
               [
                0.7777777777777778,
                "#fb9f3a"
               ],
               [
                0.8888888888888888,
                "#fdca26"
               ],
               [
                1,
                "#f0f921"
               ]
              ],
              "type": "heatmap"
             }
            ],
            "heatmapgl": [
             {
              "colorbar": {
               "outlinewidth": 0,
               "ticks": ""
              },
              "colorscale": [
               [
                0,
                "#0d0887"
               ],
               [
                0.1111111111111111,
                "#46039f"
               ],
               [
                0.2222222222222222,
                "#7201a8"
               ],
               [
                0.3333333333333333,
                "#9c179e"
               ],
               [
                0.4444444444444444,
                "#bd3786"
               ],
               [
                0.5555555555555556,
                "#d8576b"
               ],
               [
                0.6666666666666666,
                "#ed7953"
               ],
               [
                0.7777777777777778,
                "#fb9f3a"
               ],
               [
                0.8888888888888888,
                "#fdca26"
               ],
               [
                1,
                "#f0f921"
               ]
              ],
              "type": "heatmapgl"
             }
            ],
            "histogram": [
             {
              "marker": {
               "pattern": {
                "fillmode": "overlay",
                "size": 10,
                "solidity": 0.2
               }
              },
              "type": "histogram"
             }
            ],
            "histogram2d": [
             {
              "colorbar": {
               "outlinewidth": 0,
               "ticks": ""
              },
              "colorscale": [
               [
                0,
                "#0d0887"
               ],
               [
                0.1111111111111111,
                "#46039f"
               ],
               [
                0.2222222222222222,
                "#7201a8"
               ],
               [
                0.3333333333333333,
                "#9c179e"
               ],
               [
                0.4444444444444444,
                "#bd3786"
               ],
               [
                0.5555555555555556,
                "#d8576b"
               ],
               [
                0.6666666666666666,
                "#ed7953"
               ],
               [
                0.7777777777777778,
                "#fb9f3a"
               ],
               [
                0.8888888888888888,
                "#fdca26"
               ],
               [
                1,
                "#f0f921"
               ]
              ],
              "type": "histogram2d"
             }
            ],
            "histogram2dcontour": [
             {
              "colorbar": {
               "outlinewidth": 0,
               "ticks": ""
              },
              "colorscale": [
               [
                0,
                "#0d0887"
               ],
               [
                0.1111111111111111,
                "#46039f"
               ],
               [
                0.2222222222222222,
                "#7201a8"
               ],
               [
                0.3333333333333333,
                "#9c179e"
               ],
               [
                0.4444444444444444,
                "#bd3786"
               ],
               [
                0.5555555555555556,
                "#d8576b"
               ],
               [
                0.6666666666666666,
                "#ed7953"
               ],
               [
                0.7777777777777778,
                "#fb9f3a"
               ],
               [
                0.8888888888888888,
                "#fdca26"
               ],
               [
                1,
                "#f0f921"
               ]
              ],
              "type": "histogram2dcontour"
             }
            ],
            "mesh3d": [
             {
              "colorbar": {
               "outlinewidth": 0,
               "ticks": ""
              },
              "type": "mesh3d"
             }
            ],
            "parcoords": [
             {
              "line": {
               "colorbar": {
                "outlinewidth": 0,
                "ticks": ""
               }
              },
              "type": "parcoords"
             }
            ],
            "pie": [
             {
              "automargin": true,
              "type": "pie"
             }
            ],
            "scatter": [
             {
              "fillpattern": {
               "fillmode": "overlay",
               "size": 10,
               "solidity": 0.2
              },
              "type": "scatter"
             }
            ],
            "scatter3d": [
             {
              "line": {
               "colorbar": {
                "outlinewidth": 0,
                "ticks": ""
               }
              },
              "marker": {
               "colorbar": {
                "outlinewidth": 0,
                "ticks": ""
               }
              },
              "type": "scatter3d"
             }
            ],
            "scattercarpet": [
             {
              "marker": {
               "colorbar": {
                "outlinewidth": 0,
                "ticks": ""
               }
              },
              "type": "scattercarpet"
             }
            ],
            "scattergeo": [
             {
              "marker": {
               "colorbar": {
                "outlinewidth": 0,
                "ticks": ""
               }
              },
              "type": "scattergeo"
             }
            ],
            "scattergl": [
             {
              "marker": {
               "colorbar": {
                "outlinewidth": 0,
                "ticks": ""
               }
              },
              "type": "scattergl"
             }
            ],
            "scattermapbox": [
             {
              "marker": {
               "colorbar": {
                "outlinewidth": 0,
                "ticks": ""
               }
              },
              "type": "scattermapbox"
             }
            ],
            "scatterpolar": [
             {
              "marker": {
               "colorbar": {
                "outlinewidth": 0,
                "ticks": ""
               }
              },
              "type": "scatterpolar"
             }
            ],
            "scatterpolargl": [
             {
              "marker": {
               "colorbar": {
                "outlinewidth": 0,
                "ticks": ""
               }
              },
              "type": "scatterpolargl"
             }
            ],
            "scatterternary": [
             {
              "marker": {
               "colorbar": {
                "outlinewidth": 0,
                "ticks": ""
               }
              },
              "type": "scatterternary"
             }
            ],
            "surface": [
             {
              "colorbar": {
               "outlinewidth": 0,
               "ticks": ""
              },
              "colorscale": [
               [
                0,
                "#0d0887"
               ],
               [
                0.1111111111111111,
                "#46039f"
               ],
               [
                0.2222222222222222,
                "#7201a8"
               ],
               [
                0.3333333333333333,
                "#9c179e"
               ],
               [
                0.4444444444444444,
                "#bd3786"
               ],
               [
                0.5555555555555556,
                "#d8576b"
               ],
               [
                0.6666666666666666,
                "#ed7953"
               ],
               [
                0.7777777777777778,
                "#fb9f3a"
               ],
               [
                0.8888888888888888,
                "#fdca26"
               ],
               [
                1,
                "#f0f921"
               ]
              ],
              "type": "surface"
             }
            ],
            "table": [
             {
              "cells": {
               "fill": {
                "color": "#EBF0F8"
               },
               "line": {
                "color": "white"
               }
              },
              "header": {
               "fill": {
                "color": "#C8D4E3"
               },
               "line": {
                "color": "white"
               }
              },
              "type": "table"
             }
            ]
           },
           "layout": {
            "annotationdefaults": {
             "arrowcolor": "#2a3f5f",
             "arrowhead": 0,
             "arrowwidth": 1
            },
            "autotypenumbers": "strict",
            "coloraxis": {
             "colorbar": {
              "outlinewidth": 0,
              "ticks": ""
             }
            },
            "colorscale": {
             "diverging": [
              [
               0,
               "#8e0152"
              ],
              [
               0.1,
               "#c51b7d"
              ],
              [
               0.2,
               "#de77ae"
              ],
              [
               0.3,
               "#f1b6da"
              ],
              [
               0.4,
               "#fde0ef"
              ],
              [
               0.5,
               "#f7f7f7"
              ],
              [
               0.6,
               "#e6f5d0"
              ],
              [
               0.7,
               "#b8e186"
              ],
              [
               0.8,
               "#7fbc41"
              ],
              [
               0.9,
               "#4d9221"
              ],
              [
               1,
               "#276419"
              ]
             ],
             "sequential": [
              [
               0,
               "#0d0887"
              ],
              [
               0.1111111111111111,
               "#46039f"
              ],
              [
               0.2222222222222222,
               "#7201a8"
              ],
              [
               0.3333333333333333,
               "#9c179e"
              ],
              [
               0.4444444444444444,
               "#bd3786"
              ],
              [
               0.5555555555555556,
               "#d8576b"
              ],
              [
               0.6666666666666666,
               "#ed7953"
              ],
              [
               0.7777777777777778,
               "#fb9f3a"
              ],
              [
               0.8888888888888888,
               "#fdca26"
              ],
              [
               1,
               "#f0f921"
              ]
             ],
             "sequentialminus": [
              [
               0,
               "#0d0887"
              ],
              [
               0.1111111111111111,
               "#46039f"
              ],
              [
               0.2222222222222222,
               "#7201a8"
              ],
              [
               0.3333333333333333,
               "#9c179e"
              ],
              [
               0.4444444444444444,
               "#bd3786"
              ],
              [
               0.5555555555555556,
               "#d8576b"
              ],
              [
               0.6666666666666666,
               "#ed7953"
              ],
              [
               0.7777777777777778,
               "#fb9f3a"
              ],
              [
               0.8888888888888888,
               "#fdca26"
              ],
              [
               1,
               "#f0f921"
              ]
             ]
            },
            "colorway": [
             "#636efa",
             "#EF553B",
             "#00cc96",
             "#ab63fa",
             "#FFA15A",
             "#19d3f3",
             "#FF6692",
             "#B6E880",
             "#FF97FF",
             "#FECB52"
            ],
            "font": {
             "color": "#2a3f5f"
            },
            "geo": {
             "bgcolor": "white",
             "lakecolor": "white",
             "landcolor": "white",
             "showlakes": true,
             "showland": true,
             "subunitcolor": "#C8D4E3"
            },
            "hoverlabel": {
             "align": "left"
            },
            "hovermode": "closest",
            "mapbox": {
             "style": "light"
            },
            "paper_bgcolor": "white",
            "plot_bgcolor": "white",
            "polar": {
             "angularaxis": {
              "gridcolor": "#EBF0F8",
              "linecolor": "#EBF0F8",
              "ticks": ""
             },
             "bgcolor": "white",
             "radialaxis": {
              "gridcolor": "#EBF0F8",
              "linecolor": "#EBF0F8",
              "ticks": ""
             }
            },
            "scene": {
             "xaxis": {
              "backgroundcolor": "white",
              "gridcolor": "#DFE8F3",
              "gridwidth": 2,
              "linecolor": "#EBF0F8",
              "showbackground": true,
              "ticks": "",
              "zerolinecolor": "#EBF0F8"
             },
             "yaxis": {
              "backgroundcolor": "white",
              "gridcolor": "#DFE8F3",
              "gridwidth": 2,
              "linecolor": "#EBF0F8",
              "showbackground": true,
              "ticks": "",
              "zerolinecolor": "#EBF0F8"
             },
             "zaxis": {
              "backgroundcolor": "white",
              "gridcolor": "#DFE8F3",
              "gridwidth": 2,
              "linecolor": "#EBF0F8",
              "showbackground": true,
              "ticks": "",
              "zerolinecolor": "#EBF0F8"
             }
            },
            "shapedefaults": {
             "line": {
              "color": "#2a3f5f"
             }
            },
            "ternary": {
             "aaxis": {
              "gridcolor": "#DFE8F3",
              "linecolor": "#A2B1C6",
              "ticks": ""
             },
             "baxis": {
              "gridcolor": "#DFE8F3",
              "linecolor": "#A2B1C6",
              "ticks": ""
             },
             "bgcolor": "white",
             "caxis": {
              "gridcolor": "#DFE8F3",
              "linecolor": "#A2B1C6",
              "ticks": ""
             }
            },
            "title": {
             "x": 0.05
            },
            "xaxis": {
             "automargin": true,
             "gridcolor": "#EBF0F8",
             "linecolor": "#EBF0F8",
             "ticks": "",
             "title": {
              "standoff": 15
             },
             "zerolinecolor": "#EBF0F8",
             "zerolinewidth": 2
            },
            "yaxis": {
             "automargin": true,
             "gridcolor": "#EBF0F8",
             "linecolor": "#EBF0F8",
             "ticks": "",
             "title": {
              "standoff": 15
             },
             "zerolinecolor": "#EBF0F8",
             "zerolinewidth": 2
            }
           }
          },
          "xaxis": {
           "automargin": true,
           "autorange": false,
           "fixedrange": true,
           "linecolor": "#444",
           "linewidth": 2,
           "minor": {
            "tickmode": "linear",
            "ticks": "outside"
           },
           "mirror": true,
           "showline": true,
           "tickmode": "linear",
           "ticks": "outside",
           "zeroline": false
          },
          "yaxis": {
           "automargin": true,
           "autorange": false,
           "fixedrange": true,
           "linecolor": "#444",
           "linewidth": 2,
           "minor": {
            "tickmode": "linear",
            "ticks": "outside"
           },
           "mirror": true,
           "showline": true,
           "tickmode": "linear",
           "ticks": "outside",
           "zeroline": false
          }
         }
        },
        "xaxis": {
         "dtick": 5,
         "minor": {
          "dtick": 1,
          "tick0": 0
         },
         "range": [
          0.8,
          20.2
         ],
         "tick0": 0,
         "title": {
          "text": "level"
         }
        },
        "yaxis": {
         "dtick": 0.5,
         "minor": {
          "dtick": 0.25,
          "tick0": 0
         },
         "range": [
          0,
          3.5
         ],
         "tick0": 0,
         "title": {
          "text": "encounter XP / half Daily XP"
         }
        }
       }
      }
     },
     "metadata": {},
     "output_type": "display_data"
    }
   ],
   "source": [
    "# Plots encounter XP for each class, calculated for a full adventuring day with Medium encounters and two short rests.\n",
    "encounter_difficulty = 'Medium'\n",
    "pc_data_file = f'./pc data - {encounter_difficulty} 2 short rests.json'\n",
    "\n",
    "with open(pc_data_file, 'r') as fin:\n",
    "    pc_data = json.load(fin)\n",
    "\n",
    "levels = np.array(range(1,21,1))\n",
    "enc_XP_budget = 0.5 * np.array(ENCOUNTER_DIFFICULTIES['Daily']['XP'])\n",
    "\n",
    "fig = go.Figure(\n",
    "    layout=go.Layout(\n",
    "        template=TFB_TEMPLATE,\n",
    "        xaxis=dict(\n",
    "            title_text='level',\n",
    "            range=[0.8, 20.2],\n",
    "            tick0=0, dtick=5,\n",
    "            minor=dict(tick0=0, dtick=1),\n",
    "        ),\n",
    "        yaxis=dict(\n",
    "            title_text='encounter XP / half Daily XP',\n",
    "            range=[0.0, 3.5],\n",
    "            tick0=0, dtick=0.5,\n",
    "            minor=dict(tick0=0, dtick=0.25),\n",
    "        ),\n",
    "        legend=dict(\n",
    "            yanchor='top',  y=0.99,\n",
    "            xanchor='left', x=0.01,\n",
    "            bgcolor='rgba(0,0,0,0)',\n",
    "        )\n",
    "    )\n",
    ")\n",
    "\n",
    "eXPmean = np.zeros(20)\n",
    "for pc in PC_CLASSES:\n",
    "    eXP  = np.array([x['encounter XP mean'] for x in pc_data[pc]])\n",
    "    eXPmean += eXP\n",
    "    fig.add_trace(go.Scatter(\n",
    "        x=levels, \n",
    "        y=eXP/enc_XP_budget,\n",
    "        mode='lines+markers', \n",
    "        line={'color': PC_CLASSES[pc]['color']},\n",
    "        marker={'size': 5},\n",
    "        unselected=dict(marker=dict(opacity=0.0)),\n",
    "        name=pc,\n",
    "        hovertemplate=\n",
    "            '<b>'+pc+'</b><br>'+\n",
    "            'lvl %{x}<br>'+\n",
    "            'enc XP %{y:.2f}'+\n",
    "            '<extra></extra>'\n",
    "    ))\n",
    "\n",
    "eXPmean /= len(PC_CLASSES)\n",
    "fig.add_trace(go.Scatter(\n",
    "    x=levels, \n",
    "    y=eXPmean/enc_XP_budget,\n",
    "    mode='lines', \n",
    "    line=dict(color='black', dash='dash'),\n",
    "    unselected=dict(marker=dict(opacity=0.0)),\n",
    "    name='average',\n",
    "    hoverinfo='skip'\n",
    "))\n",
    "\n",
    "\n",
    "# show figure\n",
    "fig.show(config=TFB_CONFIG)\n",
    "\n",
    "# save large format figure\n",
    "if SAVEFIGS:\n",
    "    file_name = f'./fig-pcs-encounter-xp-vs-level-{encounter_difficulty.lower()}-adventuring-days-large.html'\n",
    "    fig_html = fig.to_html(\n",
    "        config=TFB_CONFIG,\n",
    "        include_plotlyjs=False, \n",
    "        full_html=False, \n",
    "    )\n",
    "    fig_soup = BeautifulSoup(fig_html, 'html.parser')\n",
    "    fig_soup.div['class'] = 'plotly-div-large'\n",
    "    with open(file_name, 'wb') as fout:\n",
    "        fout.write(fig_soup.prettify('utf-8'))\n",
    "\n",
    "# save small format figure\n",
    "if SAVEFIGS:\n",
    "    fig.update_traces(marker=dict(size=4))\n",
    "    fig.update_layout(font=dict(size=10), legend=dict(font_size=8))\n",
    "    file_name = f'./fig-pcs-encounter-xp-vs-level-{encounter_difficulty.lower()}-adventuring-days-small.html'\n",
    "    fig_html = fig.to_html(\n",
    "        config=TFB_CONFIG,\n",
    "        include_plotlyjs=False, \n",
    "        full_html=False, \n",
    "    )\n",
    "    fig_soup = BeautifulSoup(fig_html, 'html.parser')\n",
    "    fig_soup.div['class'] = 'plotly-div-small'\n",
    "    with open(file_name, 'wb') as fout:\n",
    "        fout.write(fig_soup.prettify('utf-8'))"
   ]
  }
 ],
 "metadata": {
  "kernelspec": {
   "display_name": "thefinishedbook",
   "language": "python",
   "name": "python3"
  },
  "language_info": {
   "codemirror_mode": {
    "name": "ipython",
    "version": 3
   },
   "file_extension": ".py",
   "mimetype": "text/x-python",
   "name": "python",
   "nbconvert_exporter": "python",
   "pygments_lexer": "ipython3",
   "version": "3.10.5"
  },
  "orig_nbformat": 4,
  "vscode": {
   "interpreter": {
    "hash": "81e7ed570d3d4d94e4f212d319db3e9a0140cc240e5a3a69836cc19bf47f0126"
   }
  }
 },
 "nbformat": 4,
 "nbformat_minor": 2
}
