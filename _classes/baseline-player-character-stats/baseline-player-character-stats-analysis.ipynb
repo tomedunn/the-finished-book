{
 "cells": [
  {
   "cell_type": "code",
   "execution_count": 31,
   "metadata": {},
   "outputs": [],
   "source": [
    "import json\n",
    "import numpy as np\n",
    "import pandas as pd\n",
    "import plotly.graph_objects as go\n",
    "import sys\n",
    "sys.path.append('../../assets/python/')\n",
    "import tfb\n",
    "\n",
    "pd.options.mode.chained_assignment = None  # default='warn'\n",
    "\n",
    "METADATA = {'Contributor': 'T. Dunn'}\n",
    "SAVEFIGS = False"
   ]
  },
  {
   "cell_type": "code",
   "execution_count": 2,
   "metadata": {},
   "outputs": [],
   "source": [
    "# general functions\n",
    "COLOR_LIST = [\n",
    "    '#1f77b4',  # muted blue\n",
    "    '#ff7f0e',  # safety orange\n",
    "    '#2ca02c',  # cooked asparagus green\n",
    "    '#d62728',  # brick red\n",
    "    '#9467bd',  # muted purple\n",
    "    '#8c564b',  # chestnut brown\n",
    "    '#e377c2',  # raspberry yogurt pink\n",
    "    '#7f7f7f',  # middle gray\n",
    "    '#bcbd22',  # curry yellow-green\n",
    "    '#17becf'   # blue-teal\n",
    "]\n",
    "\n",
    "def load_pc_data(file, columns):\n",
    "    \"\"\"Loads PC data from file and puts it into a pandas dataframe\n",
    "    \"\"\"\n",
    "    with open(file, 'r') as fin:\n",
    "        pc_data = json.load(fin)\n",
    "\n",
    "    pc_dict = {}\n",
    "    for c in columns:\n",
    "        d = []\n",
    "        for pc in pc_data:\n",
    "            d += [x[c] for x in pc_data[pc]]\n",
    "        pc_dict[c] = d\n",
    "\n",
    "    return pd.DataFrame(pc_dict)\n",
    "\n",
    "\n",
    "def attack_hit_crit_prob(AC, AB):\n",
    "    return max(0.05, min(0.95, 0.05*(21 + AB - AC)))\n",
    "\n",
    "def save_fail_prob(SB, DC):\n",
    "    return max(0.0, min(1.0, 0.05*(DC - SB - 1)))\n",
    "\n",
    "def plot_data_and_fit(fig, x, y, **kwargs):\n",
    "    print_coefficients = kwargs.pop('print_coefficients', False)\n",
    "    # plot data\n",
    "    kwargs['showlegend'] = False\n",
    "    fig.add_trace(go.Scatter(\n",
    "        x=x, y=y,\n",
    "        mode='markers', \n",
    "        **kwargs,\n",
    "    ))\n",
    "\n",
    "    # plot fit\n",
    "    kwargs['hoverinfo'] = 'skip'\n",
    "    kwargs['showlegend'] = True\n",
    "    #if kwargs.get('line', None):\n",
    "    #    kwargs['line']['dash'] = 'solid'\n",
    "\n",
    "    coefs = np.polyfit(x, y, 1)\n",
    "    poly = np.poly1d(coefs)\n",
    "    fig.add_trace(go.Scatter(\n",
    "        x=x, y=poly(x),\n",
    "        mode='lines', \n",
    "        **kwargs,\n",
    "    ))\n",
    "    if print_coefficients: \n",
    "        print(f'LVL >= 1: {coefs[1]:.2f} + {coefs[0]:.2f}*LVL')\n",
    "    return fig\n",
    "\n",
    "def average_save_bonus(row, **kwargs):\n",
    "    saves = kwargs.get('saves', ['Str Save','Dex Save','Con Save','Int Save','Wis Save','Cha Save'])\n",
    "    ave = np.mean([row[s] for s in saves])\n",
    "    return ave\n",
    "\n",
    "def count_save_proficiencies(row):\n",
    "    return row['Str Prof'] + row['Dex Prof'] + row['Con Prof'] + row['Int Prof'] + row['Wis Prof'] + row['Cha Prof']\n",
    "\n",
    "def unadjusted_armor_class(row):\n",
    "    ac = row['adj AC']\n",
    "    ac -= 2 if 'magic resistance' in row['AC adjustments'] else 0\n",
    "    match count_save_proficiencies(row):\n",
    "        case 3:\n",
    "            ac -= 2\n",
    "        case 4:\n",
    "            ac -= 2\n",
    "        case 5:\n",
    "            ac -= 4\n",
    "        case 6:\n",
    "            ac -= 4\n",
    "        case _:\n",
    "            ac += 0\n",
    "    return ac"
   ]
  },
  {
   "cell_type": "code",
   "execution_count": 3,
   "metadata": {},
   "outputs": [],
   "source": [
    "# simple class for building player characters for defensive stats like AC and SB.\n",
    "import numpy as np\n",
    "\n",
    "def proficiency_bonus(lvl):\n",
    "    return int(np.floor((lvl - 1)/4) + 2)\n",
    "\n",
    "def ability_modifier(score):\n",
    "    return int(np.floor(score/2) - 5)\n",
    "\n",
    "class FeatureEquation:\n",
    "    def __init__(self, name, equation):\n",
    "        self.name = name\n",
    "        self.set_equation(equation)\n",
    "\n",
    "    def __repr__(self):\n",
    "        return f'{{\"name\": \"{self.name}\", \"equation\": \"{self.equation}\"}}'\n",
    "    \n",
    "    def get_value(self, **kwargs):\n",
    "        #return eval_expr(self.equation.format(**kwargs))\n",
    "        return eval(self.equation.format(**kwargs))\n",
    "\n",
    "    def get_equation(self):\n",
    "        return self.equation\n",
    "    \n",
    "    def set_equation(self, equation):\n",
    "        self.equation = equation\n",
    "        return self\n",
    "\n",
    "    def append_equation(self, equation):\n",
    "        self.equation += equation\n",
    "        return self\n",
    "\n",
    "\n",
    "class Ability:\n",
    "    def __init__(self, name, score_equation, save_equation):\n",
    "        self.name = name\n",
    "        self.set_score_equation(score_equation)\n",
    "        self.set_save_equation(save_equation)\n",
    "\n",
    "    def __repr__(self):\n",
    "        return f'{{\"name\": \"{self.name}\", \"score_equation\": \"{self.score_equation}\", \"save_equation\": \"{self.save_equation}\"}}'\n",
    "    \n",
    "    def get_save_equation(self):\n",
    "        return self.save_equation\n",
    "    \n",
    "    def get_score_equation(self):\n",
    "        return self.score_equation\n",
    "    \n",
    "    def get_score(self):\n",
    "        return eval(self.get_score_equation())\n",
    "    \n",
    "    def get_modifier(self):\n",
    "        return ability_modifier(self.get_score())\n",
    "    \n",
    "    def get_save_bonus(self, **kwargs):\n",
    "        #return eval_expr(self.save_equation.format(**kwargs))\n",
    "        return eval(self.save_equation.format(**kwargs))\n",
    "    \n",
    "    def set_save_equation(self, equation):\n",
    "        self.save_equation = equation\n",
    "        return self\n",
    "    \n",
    "    def set_score_equation(self, equation):\n",
    "        self.score_equation = equation\n",
    "        return self\n",
    "\n",
    "    def append_save_equation(self, equation):\n",
    "        self.save_equation += equation\n",
    "        return self\n",
    "    \n",
    "    def append_score_equation(self, equation):\n",
    "        self.score_equation += equation\n",
    "        return self\n",
    "\n",
    "\n",
    "class PlayerCharacter:\n",
    "    level = 0\n",
    "\n",
    "    # ability scores\n",
    "    str = Ability('Strength',     '8', '{STR_MOD}')\n",
    "    dex = Ability('Dexterity',    '8', '{DEX_MOD}')\n",
    "    con = Ability('Constitution', '8', '{CON_MOD}')\n",
    "    int = Ability('Intelligence', '8', '{INT_MOD}')\n",
    "    wis = Ability('Wisdom',       '8', '{WIS_MOD}')\n",
    "    cha = Ability('Charisma',     '8', '{CHA_MOD}')\n",
    "\n",
    "    # other stats\n",
    "    armor_class = FeatureEquation('Armor Class', '10+{DEX_MOD}')\n",
    "    attack_bonus = FeatureEquation('Attack Bonus', '{STR_MOD}+{PB}')\n",
    "    save_dc = FeatureEquation('Attack Bonus', '8+{STR_MOD}+{PB}')\n",
    "\n",
    "    # features\n",
    "    features = []\n",
    "\n",
    "    # methods\n",
    "    def __init__(self, **kwargs):\n",
    "        self.name = kwargs.get('name', None)\n",
    "        self.level = kwargs.get('level', 0)\n",
    "        self.features = kwargs.get('features', [])\n",
    "    \n",
    "    def apply_feature(self, feature):\n",
    "        for n, d in feature.items():\n",
    "            item = getattr(self, n)\n",
    "            for m, v in d.items():\n",
    "                method = getattr(item, m)\n",
    "                result = method(v)\n",
    "\n",
    "    def build(self):\n",
    "        for feat in self.features:\n",
    "            if feat['level'] <= self.level:\n",
    "                self.apply_feature(feat['apply'])\n",
    "        return self\n",
    "    \n",
    "    def get_ability_modifiers(self):\n",
    "        return {\n",
    "            'Strength':     self.str.get_modifier(),\n",
    "            'Dexterity':    self.dex.get_modifier(),\n",
    "            'Constitution': self.con.get_modifier(),\n",
    "            'Intelligence': self.int.get_modifier(),\n",
    "            'Wisdom':       self.wis.get_modifier(),\n",
    "            'Charisma':     self.cha.get_modifier(),\n",
    "        }\n",
    "    \n",
    "    def get_ability_scores(self):\n",
    "        return {\n",
    "            'Strength':     self.str.get_score(),\n",
    "            'Dexterity':    self.dex.get_score(),\n",
    "            'Constitution': self.con.get_score(),\n",
    "            'Intelligence': self.int.get_score(),\n",
    "            'Wisdom':       self.wis.get_score(),\n",
    "            'Charisma':     self.cha.get_score(),\n",
    "        }\n",
    "    \n",
    "    def get_attack_bonus(self):\n",
    "        tokens = self.get_tokens()\n",
    "        return self.attack_bonus.get_value(**tokens)\n",
    "    \n",
    "    def get_armor_class(self):\n",
    "        tokens = self.get_tokens()\n",
    "        return self.armor_class.get_value(**tokens)\n",
    "\n",
    "    def get_level(self):\n",
    "        return self.level\n",
    "    \n",
    "    def get_proficiency_bonus(self):\n",
    "        return proficiency_bonus(self.get_level())\n",
    "    \n",
    "    def get_save_bonus(self, ability):\n",
    "        return self.get_save_bonuses()[ability]\n",
    "    \n",
    "    def get_save_bonuses(self):\n",
    "        tokens = self.get_tokens()\n",
    "        return {\n",
    "            'Strength':     self.str.get_save_bonus(**tokens),\n",
    "            'Dexterity':    self.dex.get_save_bonus(**tokens),\n",
    "            'Constitution': self.con.get_save_bonus(**tokens),\n",
    "            'Intelligence': self.int.get_save_bonus(**tokens),\n",
    "            'Wisdom':       self.wis.get_save_bonus(**tokens),\n",
    "            'Charisma':     self.cha.get_save_bonus(**tokens),\n",
    "        }\n",
    "    \n",
    "    def get_save_dc(self):\n",
    "        tokens = self.get_tokens()\n",
    "        return self.save_dc.get_value(**tokens)\n",
    "    \n",
    "    def get_tokens(self):\n",
    "        tokens = {\n",
    "            'PB': self.get_proficiency_bonus(),\n",
    "            'LVL': self.get_level(),\n",
    "            'STR_MOD': self.str.get_modifier(),\n",
    "            'DEX_MOD': self.dex.get_modifier(),\n",
    "            'CON_MOD': self.con.get_modifier(),\n",
    "            'INT_MOD': self.int.get_modifier(),\n",
    "            'WIS_MOD': self.wis.get_modifier(),\n",
    "            'CHA_MOD': self.cha.get_modifier(),\n",
    "            'FIN_MOD': max(self.str.get_modifier(), self.dex.get_modifier()),\n",
    "        }\n",
    "        return tokens\n",
    "    \n",
    "    def set_level(self, level):\n",
    "        self.level = level\n",
    "        return self"
   ]
  },
  {
   "cell_type": "code",
   "execution_count": 4,
   "metadata": {},
   "outputs": [],
   "source": [
    "# class builds for defensive stats figures\n",
    "PC_CLASSES = {\n",
    "    'Barbarian': {'color': '#E7623E', 'group': 'martial'},\n",
    "    'Bard': {'color': '#AB6DAC', 'group': 'spellcaster'},\n",
    "    'Cleric': {'color': '#91A1B2', 'group': 'spellcaster'},\n",
    "    'Druid': {'color': '#7A853B', 'group': 'spellcaster'},\n",
    "    'Fighter': {'color': '#7F513E', 'group': 'martial'},\n",
    "    'Monk': {'color': '#51A5C5', 'group': 'martial'},\n",
    "    'Paladin': {'color': '#B59E54', 'group': 'martial-spellcaster'},\n",
    "    'Ranger': {'color': '#507F62', 'group': 'martial-spellcaster'},\n",
    "    'Rogue': {'color': '#555752', 'group': 'martial'},\n",
    "    'Sorcerer': {'color': '#992E2E', 'group': 'spellcaster'},\n",
    "    'Warlock': {'color': '#7B469B', 'group': 'spellcaster'},\n",
    "    'Wizard': {'color': '#2A50A1', 'group': 'spellcaster'}\n",
    "}\n",
    "\"\"\"\n",
    "Barbarian:  unarmored, +3 Con, +2 Dex; +4 Con @ lv 12; +5 Con @ lv 16; +7 Con @ lv 20;\n",
    "Bard:       leather armor, +3 Dex; studded leather armor @ lv 5;\n",
    "Cleric:     scale mail, shield, +2 Dex; half plate @ lv 7;\n",
    "Druid:      leather armor, shield, +2 Dex; studded leather armor @ lv 5; scale mail @ lv 7;\n",
    "Fighter:    chain mail; plate @ lv 10;\n",
    "Monk:       unarmored, +3 Dex, +3 Wis; +4 Dex @ lv 4; +5 Dex @ lvl 8; +4 Wis @ lv 12; +5 Wis @ lvl 16; empty body @ lv 17;\n",
    "Paladin:    chain mail; plate @ lv 10;\n",
    "Ranger:     leather armor, +3 Dex; +4 Dex @ lv 4; +5 Dex @ lv 5;\n",
    "Rogue:      leather armor, +3 Dex; +4 Dex @ lv 4; +5 Dex @ lv 5;\n",
    "Sorcerer:   none, +2 Dex; mage armor @ lv 5; shield spell @ lv 11;\n",
    "Warlock:    leather armor, +2 Dex; mage armor @ lv 5;\n",
    "Wizard:     none, +2 Dex; mage armor @ lv 5; shield spell @ lv 11;\n",
    "\"\"\"\n",
    "\n",
    "pcs = {}\n",
    "\n",
    "pcs['Barbarian'] = PlayerCharacter(\n",
    "    name='Barbarian',\n",
    "    level=1,\n",
    "    features=[\n",
    "        dict(\n",
    "            level=1, \n",
    "            name='Base Class', \n",
    "            apply={\n",
    "                'str': {'set_score_equation': '15+1', 'set_save_equation': '{STR_MOD}+{PB}'},\n",
    "                'dex': {'set_score_equation': '13+1', 'set_save_equation': '{DEX_MOD}'},\n",
    "                'con': {'set_score_equation': '15+1', 'set_save_equation': '{CON_MOD}+{PB}'},\n",
    "                'int': {'set_score_equation':    '8', 'set_save_equation': '{INT_MOD}'},\n",
    "                'wis': {'set_score_equation':   '12', 'set_save_equation': '{WIS_MOD}'},\n",
    "                'cha': {'set_score_equation':    '8', 'set_save_equation': '{CHA_MOD}'},\n",
    "                'armor_class': {'set_equation': '10+{DEX_MOD}+{CON_MOD}'},\n",
    "                'attack_bonus': {'set_equation': '{STR_MOD}+{PB}'},\n",
    "                'save_dc': {'set_equation': '8+{STR_MOD}+{PB}'},\n",
    "            }\n",
    "        ),\n",
    "        dict(level=2,  name='Danger Sense', apply={'dex': {'append_save_equation': '+4'}}),\n",
    "        dict(level=4,  name='ASI', apply={'str': {'append_score_equation': '+2'}}),\n",
    "        dict(level=8,  name='ASI', apply={'str': {'append_score_equation': '+2'}}),\n",
    "        dict(level=12, name='ASI', apply={'con': {'append_score_equation': '+2'}}),\n",
    "        dict(level=16, name='ASI', apply={'con': {'append_score_equation': '+2'}}),\n",
    "        dict(level=19, name='ASI', apply={'dex': {'append_score_equation': '+2'}}),\n",
    "        dict(level=19, name='Primal Champion', apply={'str': {'append_score_equation': '+4'}, 'con': {'append_score_equation': '+4'}}),\n",
    "    ]\n",
    ")\n",
    "\n",
    "pcs['Bard'] = PlayerCharacter(\n",
    "    name='Bard',\n",
    "    level=1,\n",
    "    features=[\n",
    "        dict(\n",
    "            level=1, \n",
    "            name='Base Class', \n",
    "            apply={\n",
    "                'str': {'set_score_equation':    '8', 'set_save_equation': '{STR_MOD}'},\n",
    "                'dex': {'set_score_equation': '14+2', 'set_save_equation': '{DEX_MOD}+{PB}'},\n",
    "                'con': {'set_score_equation':   '12', 'set_save_equation': '{CON_MOD}'},\n",
    "                'int': {'set_score_equation':   '13', 'set_save_equation': '{INT_MOD}'},\n",
    "                'wis': {'set_score_equation':   '10', 'set_save_equation': '{WIS_MOD}'},\n",
    "                'cha': {'set_score_equation': '15+1', 'set_save_equation': '{CHA_MOD}+{PB}'},\n",
    "                'attack_bonus': {'set_equation': '{CHA_MOD}+{PB}'},\n",
    "                'save_dc': {'set_equation': '8+{CHA_MOD}+{PB}'},\n",
    "            }\n",
    "        ),\n",
    "        dict(level=1,  name='Leather Armor', apply={'armor_class': {'set_equation': '11+{DEX_MOD}'}}),\n",
    "        dict(level=4,  name='ASI', apply={'cha': {'append_score_equation': '+2'}}),\n",
    "        dict(level=5,  name='Studded Leather Armor', apply={'armor_class': {'set_equation': '12+{DEX_MOD}'}}),\n",
    "        dict(level=8,  name='ASI', apply={'cha': {'append_score_equation': '+2'}}),\n",
    "        dict(level=12, name='ASI', apply={'dex': {'append_score_equation': '+2'}}),\n",
    "        dict(level=16, name='ASI', apply={'dex': {'append_score_equation': '+2'}}),\n",
    "        dict(level=19, name='ASI', apply={'int': {'append_score_equation': '+2'}}),\n",
    "    ]\n",
    ")\n",
    "\n",
    "pcs['Cleric'] = PlayerCharacter(\n",
    "    name='Cleric',\n",
    "    level=1,\n",
    "    features=[\n",
    "        dict(\n",
    "            level=1, \n",
    "            name='Base Class', \n",
    "            apply={\n",
    "                'str': {'set_score_equation': '13+1', 'set_save_equation': '{STR_MOD}'},\n",
    "                'dex': {'set_score_equation': '13+1', 'set_save_equation': '{DEX_MOD}'},\n",
    "                'con': {'set_score_equation':   '12', 'set_save_equation': '{CON_MOD}'},\n",
    "                'int': {'set_score_equation':   '10', 'set_save_equation': '{INT_MOD}'},\n",
    "                'wis': {'set_score_equation': '15+1', 'set_save_equation': '{WIS_MOD}+{PB}'},\n",
    "                'cha': {'set_score_equation':   '10', 'set_save_equation': '{CHA_MOD}+{PB}'},\n",
    "                'attack_bonus': {'set_equation': '{WIS_MOD}+{PB}'},\n",
    "                'save_dc': {'set_equation': '8+{WIS_MOD}+{PB}'},\n",
    "            }\n",
    "        ),\n",
    "        dict(level=1,  name='Scale Mail', apply={'armor_class': {'set_equation': '14+min(2, {DEX_MOD})'}}),\n",
    "        dict(level=1,  name='Shield', apply={'armor_class': {'append_equation': '+2'}}),\n",
    "        dict(level=4,  name='ASI', apply={'wis': {'append_score_equation': '+2'}}),\n",
    "        dict(level=7,  name='Half Plate', apply={'armor_class': {'set_equation': '15+min(2, {DEX_MOD})'}}),\n",
    "        dict(level=7,  name='Shield', apply={'armor_class': {'append_equation': '+2'}}),\n",
    "        dict(level=8,  name='ASI', apply={'wis': {'append_score_equation': '+2'}}),\n",
    "        dict(level=12, name='ASI', apply={'str': {'append_score_equation': '+2'}}),\n",
    "        dict(level=16, name='ASI', apply={'con': {'append_score_equation': '+2'}}),\n",
    "        dict(level=19, name='ASI', apply={'con': {'append_score_equation': '+2'}}),\n",
    "    ]\n",
    ")\n",
    "\n",
    "pcs['Druid'] = PlayerCharacter(\n",
    "    name='Druid',\n",
    "    level=1,\n",
    "    features=[\n",
    "        dict(\n",
    "            level=1, \n",
    "            name='Base Class', \n",
    "            apply={\n",
    "                'str': {'set_score_equation':    '8', 'set_save_equation': '{STR_MOD}'},\n",
    "                'dex': {'set_score_equation': '13+1', 'set_save_equation': '{DEX_MOD}'},\n",
    "                'con': {'set_score_equation': '13+1', 'set_save_equation': '{CON_MOD}'},\n",
    "                'int': {'set_score_equation':   '12', 'set_save_equation': '{INT_MOD}+{PB}'},\n",
    "                'wis': {'set_score_equation': '15+1', 'set_save_equation': '{WIS_MOD}+{PB}'},\n",
    "                'cha': {'set_score_equation':   '12', 'set_save_equation': '{CHA_MOD}'},\n",
    "                'attack_bonus': {'set_equation': '{WIS_MOD}+{PB}'},\n",
    "                'save_dc': {'set_equation': '8+{WIS_MOD}+{PB}'},\n",
    "            }\n",
    "        ),\n",
    "        dict(level=1,  name='Leather Armor', apply={'armor_class': {'set_equation': '11+{DEX_MOD}'}}),\n",
    "        dict(level=1,  name='Shield', apply={'armor_class': {'append_equation': '+2'}}),\n",
    "        dict(level=4,  name='ASI', apply={'wis': {'append_score_equation': '+2'}}),\n",
    "        dict(level=5,  name='Studded Leather Armor', apply={'armor_class': {'set_equation': '12+{DEX_MOD}'}}),\n",
    "        dict(level=5,  name='Shield', apply={'armor_class': {'append_equation': '+2'}}),\n",
    "        dict(level=8,  name='ASI', apply={'wis': {'append_score_equation': '+2'}}),\n",
    "        dict(level=12, name='ASI', apply={'dex': {'append_score_equation': '+2'}}),\n",
    "        dict(level=16, name='ASI', apply={'dex': {'append_score_equation': '+2'}}),\n",
    "        dict(level=19, name='ASI', apply={'con': {'append_score_equation': '+2'}}),\n",
    "    ]\n",
    ")\n",
    "\n",
    "pcs['Fighter'] = PlayerCharacter(\n",
    "    name='Fighter',\n",
    "    level=1,\n",
    "    features=[\n",
    "        dict(\n",
    "            level=1, \n",
    "            name='Base Class', \n",
    "            apply={\n",
    "                'str': {'set_score_equation': '14+2', 'set_save_equation': '{STR_MOD}+{PB}'},\n",
    "                'dex': {'set_score_equation':   '10', 'set_save_equation': '{DEX_MOD}'},\n",
    "                'con': {'set_score_equation': '15+1', 'set_save_equation': '{CON_MOD}+{PB}'},\n",
    "                'int': {'set_score_equation':   '10', 'set_save_equation': '{INT_MOD}'},\n",
    "                'wis': {'set_score_equation':   '12', 'set_save_equation': '{WIS_MOD}'},\n",
    "                'cha': {'set_score_equation':   '11', 'set_save_equation': '{CHA_MOD}'},\n",
    "                'attack_bonus': {'set_equation': '{STR_MOD}+{PB}'},\n",
    "                'save_dc': {'set_equation': '8+{STR_MOD}+{PB}'},\n",
    "            }\n",
    "        ),\n",
    "        dict(level=1,  name='Chainmail', apply={'armor_class': {'set_equation': '16'}}),\n",
    "        dict(level=4,  name='ASI', apply={'str': {'append_score_equation': '+2'}}),\n",
    "        dict(level=6,  name='ASI', apply={'str': {'append_score_equation': '+2'}}),\n",
    "        dict(level=8,  name='ASI', apply={'con': {'append_score_equation': '+2'}}),\n",
    "        dict(level=9,  name='Indomitable', apply={\n",
    "            'str': {'append_save_equation': '+0.33'},\n",
    "            'dex': {'append_save_equation': '+0.33'},\n",
    "            'con': {'append_save_equation': '+0.33'},\n",
    "            'int': {'append_save_equation': '+0.33'},\n",
    "            'wis': {'append_save_equation': '+0.33'},\n",
    "            'cha': {'append_save_equation': '+0.33'},\n",
    "        }),\n",
    "        dict(level=10, name='Plate', apply={'armor_class': {'set_equation': '18'}}),\n",
    "        dict(level=12, name='ASI', apply={'con': {'append_score_equation': '+2'}}),\n",
    "        dict(level=13, name='Indomitable', apply={\n",
    "            'str': {'append_save_equation': '+0.33'},\n",
    "            'dex': {'append_save_equation': '+0.33'},\n",
    "            'con': {'append_save_equation': '+0.33'},\n",
    "            'int': {'append_save_equation': '+0.33'},\n",
    "            'wis': {'append_save_equation': '+0.33'},\n",
    "            'cha': {'append_save_equation': '+0.33'},\n",
    "        }),\n",
    "        dict(level=14, name='ASI', apply={'dex': {'append_score_equation': '+2'}}),\n",
    "        dict(level=16, name='ASI', apply={'dex': {'append_score_equation': '+2'}}),\n",
    "        dict(level=17, name='Indomitable', apply={\n",
    "            'str': {'append_save_equation': '+0.33'},\n",
    "            'dex': {'append_save_equation': '+0.33'},\n",
    "            'con': {'append_save_equation': '+0.33'},\n",
    "            'int': {'append_save_equation': '+0.33'},\n",
    "            'wis': {'append_save_equation': '+0.33'},\n",
    "            'cha': {'append_save_equation': '+0.33'},\n",
    "        }),\n",
    "        dict(level=19, name='ASI', apply={'wis': {'append_score_equation': '+2'}}),\n",
    "    ]\n",
    ")\n",
    "\n",
    "pcs['Monk'] = PlayerCharacter(\n",
    "    name='Monk',\n",
    "    level=1,\n",
    "    features=[\n",
    "        dict(\n",
    "            level=1, \n",
    "            name='Base Class', \n",
    "            apply={\n",
    "                'str': {'set_score_equation':   '12', 'set_save_equation': '{STR_MOD}+{PB}'},\n",
    "                'dex': {'set_score_equation': '15+1', 'set_save_equation': '{DEX_MOD}+{PB}'},\n",
    "                'con': {'set_score_equation': '13+1', 'set_save_equation': '{CON_MOD}'},\n",
    "                'int': {'set_score_equation':    '8', 'set_save_equation': '{INT_MOD}'},\n",
    "                'wis': {'set_score_equation': '15+1', 'set_save_equation': '{WIS_MOD}'},\n",
    "                'cha': {'set_score_equation':    '8', 'set_save_equation': '{CHA_MOD}'},\n",
    "                'armor_class': {'set_equation': '10+{DEX_MOD}+{WIS_MOD}'},\n",
    "                'attack_bonus': {'set_equation': '{DEX_MOD}+{PB}'},\n",
    "                'save_dc': {'set_equation': '8+{WIS_MOD}+{PB}'},\n",
    "            }\n",
    "        ),\n",
    "        dict(level=4,  name='ASI', apply={'dex': {'append_score_equation': '+2'}}),\n",
    "        dict(level=7,  name='Evasion', apply={'dex': {'append_save_equation': '+6'}}), # mathematically closer to +8, assuming normal chance to fail\n",
    "        dict(level=8,  name='ASI', apply={'dex': {'append_score_equation': '+2'}}),\n",
    "        dict(level=12, name='ASI', apply={'wis': {'append_score_equation': '+2'}}),\n",
    "        dict(level=14, name='Diamond Soul', apply={\n",
    "            'con': {'append_save_equation': '+{PB}'},\n",
    "            'int': {'append_save_equation': '+{PB}'},\n",
    "            'wis': {'append_save_equation': '+{PB}'},\n",
    "            'cha': {'append_save_equation': '+{PB}'},\n",
    "        }),\n",
    "        dict(level=16, name='ASI', apply={'wis': {'append_score_equation': '+2'}}),\n",
    "        dict(level=19, name='ASI', apply={'con': {'append_score_equation': '+2'}}),\n",
    "    ]\n",
    ")\n",
    "\n",
    "pcs['Paladin'] = PlayerCharacter(\n",
    "    name='Paladin',\n",
    "    level=1,\n",
    "    features=[\n",
    "        dict(\n",
    "            level=1, \n",
    "            name='Base Class', \n",
    "            apply={\n",
    "                'str': {'set_score_equation': '15+1', 'set_save_equation': '{STR_MOD}'},\n",
    "                'dex': {'set_score_equation':   '10', 'set_save_equation': '{DEX_MOD}'},\n",
    "                'con': {'set_score_equation': '13+1', 'set_save_equation': '{CON_MOD}'},\n",
    "                'int': {'set_score_equation':   '10', 'set_save_equation': '{INT_MOD}'},\n",
    "                'wis': {'set_score_equation':    '8', 'set_save_equation': '{WIS_MOD}+{PB}'},\n",
    "                'cha': {'set_score_equation': '15+1', 'set_save_equation': '{CHA_MOD}+{PB}'},\n",
    "                'attack_bonus': {'set_equation': '{STR_MOD}+{PB}'},\n",
    "                'save_dc': {'set_equation': '8+{CHA_MOD}+{PB}'},\n",
    "            }\n",
    "        ),\n",
    "        dict(level=1,  name='Chainmail', apply={'armor_class': {'set_equation': '16'}}),\n",
    "        dict(level=4, name='ASI', apply={'str': {'append_score_equation': '+2'}}),\n",
    "        dict(\n",
    "            level=6, \n",
    "            name='Aura of Protection', \n",
    "            apply={\n",
    "                'str': {'append_save_equation': '+{CHA_MOD}'},\n",
    "                'dex': {'append_save_equation': '+{CHA_MOD}'},\n",
    "                'con': {'append_save_equation': '+{CHA_MOD}'},\n",
    "                'int': {'append_save_equation': '+{CHA_MOD}'},\n",
    "                'wis': {'append_save_equation': '+{CHA_MOD}'},\n",
    "                'cha': {'append_save_equation': '+{CHA_MOD}'},\n",
    "            }\n",
    "        ),\n",
    "        dict(level=8,  name='ASI', apply={'str': {'append_score_equation': '+2'}}),\n",
    "        dict(level=10, name='Plate', apply={'armor_class': {'set_equation': '18'}}),\n",
    "        dict(level=12, name='ASI', apply={'cha': {'append_score_equation': '+2'}}),\n",
    "        dict(level=16, name='ASI', apply={'cha': {'append_score_equation': '+2'}}),\n",
    "        dict(level=19, name='ASI', apply={'con': {'append_score_equation': '+2'}}),\n",
    "    ]\n",
    ")\n",
    "\n",
    "pcs['Ranger'] = PlayerCharacter(\n",
    "    name='Ranger',\n",
    "    level=1,\n",
    "    features=[\n",
    "        dict(\n",
    "            level=1, \n",
    "            name='Base Class', \n",
    "            apply={\n",
    "                'str': {'set_score_equation':   '12', 'set_save_equation': '{STR_MOD}+{PB}'},\n",
    "                'dex': {'set_score_equation': '14+2', 'set_save_equation': '{DEX_MOD}+{PB}'},\n",
    "                'con': {'set_score_equation':   '12', 'set_save_equation': '{CON_MOD}'},\n",
    "                'int': {'set_score_equation':   '10', 'set_save_equation': '{INT_MOD}'},\n",
    "                'wis': {'set_score_equation': '15+1', 'set_save_equation': '{WIS_MOD}'},\n",
    "                'cha': {'set_score_equation':    '9', 'set_save_equation': '{CHA_MOD}'},\n",
    "                'attack_bonus': {'set_equation': '{DEX_MOD}+{PB}'},\n",
    "                'save_dc': {'set_equation': '8+{WIS_MOD}+{PB}'},\n",
    "            }\n",
    "        ),\n",
    "        dict(level=1,  name='Leather Armor', apply={'armor_class': {'set_equation': '11+{DEX_MOD}'}}),\n",
    "        dict(level=4,  name='ASI', apply={'dex': {'append_score_equation': '+2'}}),\n",
    "        dict(level=5,  name='Studded Leather Armor', apply={'armor_class': {'set_equation': '12+{DEX_MOD}'}}),\n",
    "        dict(level=8,  name='ASI', apply={'dex': {'append_score_equation': '+2'}}),\n",
    "        dict(level=12, name='ASI', apply={'wis': {'append_score_equation': '+2'}}),\n",
    "        dict(level=16, name='ASI', apply={'wis': {'append_score_equation': '+2'}}),\n",
    "        dict(level=19, name='ASI', apply={'con': {'append_score_equation': '+2'}}),\n",
    "    ]\n",
    ")\n",
    "\n",
    "pcs['Rogue'] = PlayerCharacter(\n",
    "    name='Rogue',\n",
    "    level=1,\n",
    "    features=[\n",
    "        dict(\n",
    "            level=1, \n",
    "            name='Base Class', \n",
    "            apply={\n",
    "                'str': {'set_score_equation':    '8', 'set_save_equation': '{STR_MOD}'},\n",
    "                'dex': {'set_score_equation': '14+2', 'set_save_equation': '{DEX_MOD}+{PB}'},\n",
    "                'con': {'set_score_equation': '13+1', 'set_save_equation': '{CON_MOD}'},\n",
    "                'int': {'set_score_equation':   '14', 'set_save_equation': '{INT_MOD}+{PB}'},\n",
    "                'wis': {'set_score_equation':   '12', 'set_save_equation': '{WIS_MOD}'},\n",
    "                'cha': {'set_score_equation':   '12', 'set_save_equation': '{CHA_MOD}'},\n",
    "                'attack_bonus': {'set_equation': '{DEX_MOD}+{PB}'},\n",
    "                'save_dc': {'set_equation': '8+{DEX_MOD}+{PB}'},\n",
    "            }\n",
    "        ),\n",
    "        dict(level=1,  name='Leather Armor', apply={'armor_class': {'set_equation': '11+{DEX_MOD}'}}),\n",
    "        dict(level=4,  name='ASI', apply={'dex': {'append_score_equation': '+2'}}),\n",
    "        dict(level=5,  name='Studded Leather Armor', apply={'armor_class': {'set_equation': '12+{DEX_MOD}'}}),\n",
    "        dict(level=7,  name='Evasion', apply={'dex': {'append_save_equation': '+6'}}), # mathematically closer to +8, assuming normal chance to fail\n",
    "        dict(level=8,  name='ASI', apply={'dex': {'append_score_equation': '+2'}}),\n",
    "        dict(level=12, name='ASI', apply={'wis': {'append_score_equation': '+2'}}),\n",
    "        dict(level=15, name='Slippery Mind', apply={'wis': {'append_save_equation': '+{PB}'}}),\n",
    "        dict(level=16, name='ASI', apply={'wis': {'append_score_equation': '+2'}}),\n",
    "        dict(level=19, name='ASI', apply={'con': {'append_score_equation': '+2'}}),\n",
    "    ]\n",
    ")\n",
    "\n",
    "pcs['Sorcerer'] = PlayerCharacter(\n",
    "    name='Sorcerer',\n",
    "    level=1,\n",
    "    features=[\n",
    "        dict(\n",
    "            level=1, \n",
    "            name='Base Class', \n",
    "            apply={\n",
    "                'str': {'set_score_equation':    '8', 'set_save_equation': '{STR_MOD}'},\n",
    "                'dex': {'set_score_equation':   '14', 'set_save_equation': '{DEX_MOD}'},\n",
    "                'con': {'set_score_equation': '13+1', 'set_save_equation': '{CON_MOD}+{PB}'},\n",
    "                'int': {'set_score_equation':   '12', 'set_save_equation': '{INT_MOD}'},\n",
    "                'wis': {'set_score_equation':   '12', 'set_save_equation': '{WIS_MOD}'},\n",
    "                'cha': {'set_score_equation': '14+2', 'set_save_equation': '{CHA_MOD}+{PB}'},\n",
    "                'attack_bonus': {'set_equation': '{CHA_MOD}+{PB}'},\n",
    "                'save_dc': {'set_equation': '8+{CHA_MOD}+{PB}'},\n",
    "            }\n",
    "        ),\n",
    "        dict(level=4,  name='ASI', apply={'cha': {'append_score_equation': '+2'}}),\n",
    "        dict(level=5,  name='Mage Armor', apply={'armor_class': {'set_equation': '13+{DEX_MOD}'}}),\n",
    "        dict(level=8,  name='ASI', apply={'cha': {'append_score_equation': '+2'}}),\n",
    "        dict(level=11, name='Shield', apply={'armor_class': {'append_equation': '+2'}}),\n",
    "        dict(level=12, name='ASI', apply={'con': {'append_score_equation': '+2'}}),\n",
    "        dict(level=16, name='ASI', apply={'dex': {'append_score_equation': '+2'}}),\n",
    "        dict(level=19, name='ASI', apply={'con': {'append_score_equation': '+2'}}),\n",
    "    ]\n",
    ")\n",
    "\n",
    "pcs['Warlock'] = PlayerCharacter(\n",
    "    name='Warlock',\n",
    "    level=1,\n",
    "    features=[\n",
    "        dict(\n",
    "            level=1, \n",
    "            name='Base Class', \n",
    "            apply={\n",
    "                'str': {'set_score_equation':    '8', 'set_save_equation': '{STR_MOD}'},\n",
    "                'dex': {'set_score_equation':   '14', 'set_save_equation': '{DEX_MOD}'},\n",
    "                'con': {'set_score_equation': '13+1', 'set_save_equation': '{CON_MOD}'},\n",
    "                'int': {'set_score_equation':   '12', 'set_save_equation': '{INT_MOD}'},\n",
    "                'wis': {'set_score_equation':   '12', 'set_save_equation': '{WIS_MOD}+{PB}'},\n",
    "                'cha': {'set_score_equation': '14+2', 'set_save_equation': '{CHA_MOD}+{PB}'},\n",
    "                'attack_bonus': {'set_equation': '{CHA_MOD}+{PB}'},\n",
    "                'save_dc': {'set_equation': '8+{CHA_MOD}+{PB}'},\n",
    "            }\n",
    "        ),\n",
    "        dict(level=1,  name='Leather Armor', apply={'armor_class': {'set_equation': '11+{DEX_MOD}'}}),\n",
    "        dict(level=4,  name='ASI', apply={'cha': {'append_score_equation': '+2'}}),\n",
    "        dict(level=5,  name='Studded Leather Armor', apply={'armor_class': {'set_equation': '12+{DEX_MOD}'}}),\n",
    "        dict(level=8,  name='ASI', apply={'cha': {'append_score_equation': '+2'}}),\n",
    "        dict(level=12, name='ASI', apply={'con': {'append_score_equation': '+2'}}),\n",
    "        dict(level=16, name='ASI', apply={'dex': {'append_score_equation': '+2'}}),\n",
    "        dict(level=19, name='ASI', apply={'con': {'append_score_equation': '+2'}}),\n",
    "    ]\n",
    ")\n",
    "\n",
    "pcs['Wizard'] = PlayerCharacter(\n",
    "    name='Wizard',\n",
    "    level=1,\n",
    "    features=[\n",
    "        dict(\n",
    "            level=1, \n",
    "            name='Base Class', \n",
    "            apply={\n",
    "                'str': {'set_score_equation':    '8', 'set_save_equation': '{STR_MOD}'},\n",
    "                'dex': {'set_score_equation':   '14', 'set_save_equation': '{DEX_MOD}'},\n",
    "                'con': {'set_score_equation': '13+1', 'set_save_equation': '{CON_MOD}'},\n",
    "                'int': {'set_score_equation': '14+2', 'set_save_equation': '{INT_MOD}+{PB}'},\n",
    "                'wis': {'set_score_equation':   '12', 'set_save_equation': '{WIS_MOD}+{PB}'},\n",
    "                'cha': {'set_score_equation':   '12', 'set_save_equation': '{CHA_MOD}'},\n",
    "                'attack_bonus': {'set_equation': '{INT_MOD}+{PB}'},\n",
    "                'save_dc': {'set_equation': '8+{INT_MOD}+{PB}'},\n",
    "            }\n",
    "        ),\n",
    "        dict(level=4,  name='ASI', apply={'int': {'append_score_equation': '+2'}}),\n",
    "        dict(level=5,  name='Mage Armor', apply={'armor_class': {'set_equation': '13+{DEX_MOD}'}}),\n",
    "        dict(level=8,  name='ASI', apply={'int': {'append_score_equation': '+2'}}),\n",
    "        dict(level=11, name='Shield', apply={'armor_class': {'append_equation': '+2'}}),\n",
    "        dict(level=12, name='ASI', apply={'con': {'append_score_equation': '+2'}}),\n",
    "        dict(level=16, name='ASI', apply={'con': {'append_score_equation': '+2'}}),\n",
    "        dict(level=19, name='ASI', apply={'dex': {'append_score_equation': '+2'}}),\n",
    "    ]\n",
    ")\n"
   ]
  },
  {
   "cell_type": "code",
   "execution_count": 98,
   "metadata": {},
   "outputs": [
    {
     "data": {
      "text/html": [
       "<style type=\"text/css\">\n",
       "#T_19af9 th {\n",
       "  text-align: center;\n",
       "}\n",
       "#T_19af9 td {\n",
       "  text-align: center;\n",
       "}\n",
       "</style>\n",
       "<table id=\"T_19af9\">\n",
       "  <thead>\n",
       "    <tr>\n",
       "      <th id=\"T_19af9_level0_col0\" class=\"col_heading level0 col0\" >Class</th>\n",
       "      <th id=\"T_19af9_level0_col1\" class=\"col_heading level0 col1\" >Strength</th>\n",
       "      <th id=\"T_19af9_level0_col2\" class=\"col_heading level0 col2\" >Dexterity</th>\n",
       "      <th id=\"T_19af9_level0_col3\" class=\"col_heading level0 col3\" >Constitution</th>\n",
       "      <th id=\"T_19af9_level0_col4\" class=\"col_heading level0 col4\" >Intelligence</th>\n",
       "      <th id=\"T_19af9_level0_col5\" class=\"col_heading level0 col5\" >Wisdom</th>\n",
       "      <th id=\"T_19af9_level0_col6\" class=\"col_heading level0 col6\" >Charisma</th>\n",
       "    </tr>\n",
       "  </thead>\n",
       "  <tbody>\n",
       "    <tr>\n",
       "      <td id=\"T_19af9_row0_col0\" class=\"data row0 col0\" >Barbarian</td>\n",
       "      <td id=\"T_19af9_row0_col1\" class=\"data row0 col1\" >16</td>\n",
       "      <td id=\"T_19af9_row0_col2\" class=\"data row0 col2\" >14</td>\n",
       "      <td id=\"T_19af9_row0_col3\" class=\"data row0 col3\" >16</td>\n",
       "      <td id=\"T_19af9_row0_col4\" class=\"data row0 col4\" >8</td>\n",
       "      <td id=\"T_19af9_row0_col5\" class=\"data row0 col5\" >12</td>\n",
       "      <td id=\"T_19af9_row0_col6\" class=\"data row0 col6\" >8</td>\n",
       "    </tr>\n",
       "    <tr>\n",
       "      <td id=\"T_19af9_row1_col0\" class=\"data row1 col0\" >Bard</td>\n",
       "      <td id=\"T_19af9_row1_col1\" class=\"data row1 col1\" >8</td>\n",
       "      <td id=\"T_19af9_row1_col2\" class=\"data row1 col2\" >16</td>\n",
       "      <td id=\"T_19af9_row1_col3\" class=\"data row1 col3\" >12</td>\n",
       "      <td id=\"T_19af9_row1_col4\" class=\"data row1 col4\" >13</td>\n",
       "      <td id=\"T_19af9_row1_col5\" class=\"data row1 col5\" >10</td>\n",
       "      <td id=\"T_19af9_row1_col6\" class=\"data row1 col6\" >16</td>\n",
       "    </tr>\n",
       "    <tr>\n",
       "      <td id=\"T_19af9_row2_col0\" class=\"data row2 col0\" >Cleric</td>\n",
       "      <td id=\"T_19af9_row2_col1\" class=\"data row2 col1\" >14</td>\n",
       "      <td id=\"T_19af9_row2_col2\" class=\"data row2 col2\" >14</td>\n",
       "      <td id=\"T_19af9_row2_col3\" class=\"data row2 col3\" >12</td>\n",
       "      <td id=\"T_19af9_row2_col4\" class=\"data row2 col4\" >10</td>\n",
       "      <td id=\"T_19af9_row2_col5\" class=\"data row2 col5\" >16</td>\n",
       "      <td id=\"T_19af9_row2_col6\" class=\"data row2 col6\" >10</td>\n",
       "    </tr>\n",
       "    <tr>\n",
       "      <td id=\"T_19af9_row3_col0\" class=\"data row3 col0\" >Druid</td>\n",
       "      <td id=\"T_19af9_row3_col1\" class=\"data row3 col1\" >8</td>\n",
       "      <td id=\"T_19af9_row3_col2\" class=\"data row3 col2\" >14</td>\n",
       "      <td id=\"T_19af9_row3_col3\" class=\"data row3 col3\" >14</td>\n",
       "      <td id=\"T_19af9_row3_col4\" class=\"data row3 col4\" >12</td>\n",
       "      <td id=\"T_19af9_row3_col5\" class=\"data row3 col5\" >16</td>\n",
       "      <td id=\"T_19af9_row3_col6\" class=\"data row3 col6\" >12</td>\n",
       "    </tr>\n",
       "    <tr>\n",
       "      <td id=\"T_19af9_row4_col0\" class=\"data row4 col0\" >Fighter</td>\n",
       "      <td id=\"T_19af9_row4_col1\" class=\"data row4 col1\" >16</td>\n",
       "      <td id=\"T_19af9_row4_col2\" class=\"data row4 col2\" >10</td>\n",
       "      <td id=\"T_19af9_row4_col3\" class=\"data row4 col3\" >16</td>\n",
       "      <td id=\"T_19af9_row4_col4\" class=\"data row4 col4\" >10</td>\n",
       "      <td id=\"T_19af9_row4_col5\" class=\"data row4 col5\" >12</td>\n",
       "      <td id=\"T_19af9_row4_col6\" class=\"data row4 col6\" >11</td>\n",
       "    </tr>\n",
       "    <tr>\n",
       "      <td id=\"T_19af9_row5_col0\" class=\"data row5 col0\" >Monk</td>\n",
       "      <td id=\"T_19af9_row5_col1\" class=\"data row5 col1\" >12</td>\n",
       "      <td id=\"T_19af9_row5_col2\" class=\"data row5 col2\" >16</td>\n",
       "      <td id=\"T_19af9_row5_col3\" class=\"data row5 col3\" >14</td>\n",
       "      <td id=\"T_19af9_row5_col4\" class=\"data row5 col4\" >8</td>\n",
       "      <td id=\"T_19af9_row5_col5\" class=\"data row5 col5\" >16</td>\n",
       "      <td id=\"T_19af9_row5_col6\" class=\"data row5 col6\" >8</td>\n",
       "    </tr>\n",
       "    <tr>\n",
       "      <td id=\"T_19af9_row6_col0\" class=\"data row6 col0\" >Paladin</td>\n",
       "      <td id=\"T_19af9_row6_col1\" class=\"data row6 col1\" >16</td>\n",
       "      <td id=\"T_19af9_row6_col2\" class=\"data row6 col2\" >10</td>\n",
       "      <td id=\"T_19af9_row6_col3\" class=\"data row6 col3\" >14</td>\n",
       "      <td id=\"T_19af9_row6_col4\" class=\"data row6 col4\" >10</td>\n",
       "      <td id=\"T_19af9_row6_col5\" class=\"data row6 col5\" >8</td>\n",
       "      <td id=\"T_19af9_row6_col6\" class=\"data row6 col6\" >16</td>\n",
       "    </tr>\n",
       "    <tr>\n",
       "      <td id=\"T_19af9_row7_col0\" class=\"data row7 col0\" >Ranger</td>\n",
       "      <td id=\"T_19af9_row7_col1\" class=\"data row7 col1\" >12</td>\n",
       "      <td id=\"T_19af9_row7_col2\" class=\"data row7 col2\" >16</td>\n",
       "      <td id=\"T_19af9_row7_col3\" class=\"data row7 col3\" >12</td>\n",
       "      <td id=\"T_19af9_row7_col4\" class=\"data row7 col4\" >10</td>\n",
       "      <td id=\"T_19af9_row7_col5\" class=\"data row7 col5\" >16</td>\n",
       "      <td id=\"T_19af9_row7_col6\" class=\"data row7 col6\" >9</td>\n",
       "    </tr>\n",
       "    <tr>\n",
       "      <td id=\"T_19af9_row8_col0\" class=\"data row8 col0\" >Rogue</td>\n",
       "      <td id=\"T_19af9_row8_col1\" class=\"data row8 col1\" >8</td>\n",
       "      <td id=\"T_19af9_row8_col2\" class=\"data row8 col2\" >16</td>\n",
       "      <td id=\"T_19af9_row8_col3\" class=\"data row8 col3\" >14</td>\n",
       "      <td id=\"T_19af9_row8_col4\" class=\"data row8 col4\" >14</td>\n",
       "      <td id=\"T_19af9_row8_col5\" class=\"data row8 col5\" >12</td>\n",
       "      <td id=\"T_19af9_row8_col6\" class=\"data row8 col6\" >12</td>\n",
       "    </tr>\n",
       "    <tr>\n",
       "      <td id=\"T_19af9_row9_col0\" class=\"data row9 col0\" >Sorcerer</td>\n",
       "      <td id=\"T_19af9_row9_col1\" class=\"data row9 col1\" >8</td>\n",
       "      <td id=\"T_19af9_row9_col2\" class=\"data row9 col2\" >14</td>\n",
       "      <td id=\"T_19af9_row9_col3\" class=\"data row9 col3\" >14</td>\n",
       "      <td id=\"T_19af9_row9_col4\" class=\"data row9 col4\" >12</td>\n",
       "      <td id=\"T_19af9_row9_col5\" class=\"data row9 col5\" >12</td>\n",
       "      <td id=\"T_19af9_row9_col6\" class=\"data row9 col6\" >16</td>\n",
       "    </tr>\n",
       "    <tr>\n",
       "      <td id=\"T_19af9_row10_col0\" class=\"data row10 col0\" >Warlock</td>\n",
       "      <td id=\"T_19af9_row10_col1\" class=\"data row10 col1\" >8</td>\n",
       "      <td id=\"T_19af9_row10_col2\" class=\"data row10 col2\" >14</td>\n",
       "      <td id=\"T_19af9_row10_col3\" class=\"data row10 col3\" >14</td>\n",
       "      <td id=\"T_19af9_row10_col4\" class=\"data row10 col4\" >12</td>\n",
       "      <td id=\"T_19af9_row10_col5\" class=\"data row10 col5\" >12</td>\n",
       "      <td id=\"T_19af9_row10_col6\" class=\"data row10 col6\" >16</td>\n",
       "    </tr>\n",
       "    <tr>\n",
       "      <td id=\"T_19af9_row11_col0\" class=\"data row11 col0\" >Wizard</td>\n",
       "      <td id=\"T_19af9_row11_col1\" class=\"data row11 col1\" >8</td>\n",
       "      <td id=\"T_19af9_row11_col2\" class=\"data row11 col2\" >14</td>\n",
       "      <td id=\"T_19af9_row11_col3\" class=\"data row11 col3\" >14</td>\n",
       "      <td id=\"T_19af9_row11_col4\" class=\"data row11 col4\" >16</td>\n",
       "      <td id=\"T_19af9_row11_col5\" class=\"data row11 col5\" >12</td>\n",
       "      <td id=\"T_19af9_row11_col6\" class=\"data row11 col6\" >12</td>\n",
       "    </tr>\n",
       "  </tbody>\n",
       "</table>\n"
      ],
      "text/plain": [
       "<pandas.io.formats.style.Styler at 0x12e96c940>"
      ]
     },
     "execution_count": 98,
     "metadata": {},
     "output_type": "execute_result"
    }
   ],
   "source": [
    "# puts staring stats into a table\n",
    "\n",
    "data = {\n",
    "    'Class': [],\n",
    "    'Strength': [],\n",
    "    'Dexterity': [],\n",
    "    'Constitution': [],\n",
    "    'Intelligence': [],\n",
    "    'Wisdom': [],\n",
    "    'Charisma': [],\n",
    "}\n",
    "for c in pcs:\n",
    "    stats = pcs[c].set_level(1).build().get_ability_scores()\n",
    "    data['Class'].append(c)\n",
    "    data['Strength'].append(stats['Strength'])\n",
    "    data['Dexterity'].append(stats['Dexterity'])\n",
    "    data['Constitution'].append(stats['Constitution'])\n",
    "    data['Intelligence'].append(stats['Intelligence'])\n",
    "    data['Wisdom'].append(stats['Wisdom'])\n",
    "    data['Charisma'].append(stats['Charisma'])\n",
    "\n",
    "dfPC = pd.DataFrame(data)\n",
    "dfPC = dfPC.style.format({\n",
    "    'Class': '{:}',\n",
    "    'Strength': '{:,.0f}',\n",
    "    'Dexterity': '{:,.0f}',\n",
    "    'Constitution': '{:,.0f}',\n",
    "    'Intelligence': '{:,.0f}',\n",
    "    'Wisdom': '{:,.0f}',\n",
    "    'Charisma': '{:,.0f}',\n",
    "}).hide().set_table_styles([\n",
    "        {'selector': 'th', 'props': 'text-align: center;'},\n",
    "        {'selector': 'td', 'props': 'text-align: center;'},\n",
    "    ], overwrite=False)\n",
    "dfPC.to_html(\n",
    "    './tab-pc-baseline-ability-scores.html',\n",
    "    index=False, classes='wide', border=0)\n",
    "dfPC"
   ]
  },
  {
   "cell_type": "code",
   "execution_count": 173,
   "metadata": {},
   "outputs": [
    {
     "name": "stdout",
     "output_type": "stream",
     "text": [
      "LVL >= 1: 4.84 + 0.35*LVL\n"
     ]
    },
    {
     "data": {
      "application/vnd.plotly.v1+json": {
       "config": {
        "autosizable": true,
        "displayModeBar": "hover",
        "displaylogo": false,
        "modeBarButtonsToRemove": [
         "select2d",
         "lasso2d",
         "zoom2d",
         "zoomIn2d",
         "zoomOut2d",
         "pan2d",
         "autoScale2d",
         "hoverClosestCartesian",
         "hoverCompareCartesian",
         "toggleSpikelines",
         "resetScale2d"
        ],
        "plotlyServerURL": "https://plot.ly",
        "responsive": true,
        "showAxisDragHandles": false,
        "toImageButtonOptions": {
         "filename": "tfb-plot",
         "format": "png",
         "height": 450,
         "scale": 2,
         "width": 600
        }
       },
       "data": [
        {
         "hovertemplate": "<b>Barbarian</b><br>level %{x:.0f}<br>attack bonus %{y:.0f}<extra></extra>",
         "line": {
          "color": "#E7623E",
          "width": 1
         },
         "marker": {
          "color": "#E7623E"
         },
         "mode": "lines+markers",
         "name": "Barbarian",
         "type": "scatter",
         "x": [
          1,
          2,
          3,
          4,
          5,
          6,
          7,
          8,
          9,
          10,
          11,
          12,
          13,
          14,
          15,
          16,
          17,
          18,
          19,
          20
         ],
         "y": [
          5,
          5,
          5,
          6,
          7,
          7,
          7,
          8,
          9,
          9,
          9,
          9,
          10,
          10,
          10,
          10,
          11,
          11,
          13,
          13
         ]
        },
        {
         "hovertemplate": "<b>Bard</b><br>level %{x:.0f}<br>attack bonus %{y:.0f}<extra></extra>",
         "line": {
          "color": "#AB6DAC",
          "width": 1
         },
         "marker": {
          "color": "#AB6DAC"
         },
         "mode": "lines+markers",
         "name": "Bard",
         "type": "scatter",
         "x": [
          1,
          2,
          3,
          4,
          5,
          6,
          7,
          8,
          9,
          10,
          11,
          12,
          13,
          14,
          15,
          16,
          17,
          18,
          19,
          20
         ],
         "y": [
          5,
          5,
          5,
          6,
          7,
          7,
          7,
          8,
          9,
          9,
          9,
          9,
          10,
          10,
          10,
          10,
          11,
          11,
          11,
          11
         ]
        },
        {
         "hovertemplate": "<b>Cleric</b><br>level %{x:.0f}<br>attack bonus %{y:.0f}<extra></extra>",
         "line": {
          "color": "#91A1B2",
          "width": 1
         },
         "marker": {
          "color": "#91A1B2"
         },
         "mode": "lines+markers",
         "name": "Cleric",
         "type": "scatter",
         "x": [
          1,
          2,
          3,
          4,
          5,
          6,
          7,
          8,
          9,
          10,
          11,
          12,
          13,
          14,
          15,
          16,
          17,
          18,
          19,
          20
         ],
         "y": [
          5,
          5,
          5,
          6,
          7,
          7,
          7,
          8,
          9,
          9,
          9,
          9,
          10,
          10,
          10,
          10,
          11,
          11,
          11,
          11
         ]
        },
        {
         "hovertemplate": "<b>Druid</b><br>level %{x:.0f}<br>attack bonus %{y:.0f}<extra></extra>",
         "line": {
          "color": "#7A853B",
          "width": 1
         },
         "marker": {
          "color": "#7A853B"
         },
         "mode": "lines+markers",
         "name": "Druid",
         "type": "scatter",
         "x": [
          1,
          2,
          3,
          4,
          5,
          6,
          7,
          8,
          9,
          10,
          11,
          12,
          13,
          14,
          15,
          16,
          17,
          18,
          19,
          20
         ],
         "y": [
          5,
          5,
          5,
          6,
          7,
          7,
          7,
          8,
          9,
          9,
          9,
          9,
          10,
          10,
          10,
          10,
          11,
          11,
          11,
          11
         ]
        },
        {
         "hovertemplate": "<b>Fighter</b><br>level %{x:.0f}<br>attack bonus %{y:.0f}<extra></extra>",
         "line": {
          "color": "#7F513E",
          "width": 1
         },
         "marker": {
          "color": "#7F513E"
         },
         "mode": "lines+markers",
         "name": "Fighter",
         "type": "scatter",
         "x": [
          1,
          2,
          3,
          4,
          5,
          6,
          7,
          8,
          9,
          10,
          11,
          12,
          13,
          14,
          15,
          16,
          17,
          18,
          19,
          20
         ],
         "y": [
          5,
          5,
          5,
          6,
          7,
          8,
          8,
          8,
          9,
          9,
          9,
          9,
          10,
          10,
          10,
          10,
          11,
          11,
          11,
          11
         ]
        },
        {
         "hovertemplate": "<b>Monk</b><br>level %{x:.0f}<br>attack bonus %{y:.0f}<extra></extra>",
         "line": {
          "color": "#51A5C5",
          "width": 1
         },
         "marker": {
          "color": "#51A5C5"
         },
         "mode": "lines+markers",
         "name": "Monk",
         "type": "scatter",
         "x": [
          1,
          2,
          3,
          4,
          5,
          6,
          7,
          8,
          9,
          10,
          11,
          12,
          13,
          14,
          15,
          16,
          17,
          18,
          19,
          20
         ],
         "y": [
          5,
          5,
          5,
          6,
          7,
          7,
          7,
          8,
          9,
          9,
          9,
          9,
          10,
          10,
          10,
          10,
          11,
          11,
          11,
          11
         ]
        },
        {
         "hovertemplate": "<b>Paladin</b><br>level %{x:.0f}<br>attack bonus %{y:.0f}<extra></extra>",
         "line": {
          "color": "#B59E54",
          "width": 1
         },
         "marker": {
          "color": "#B59E54"
         },
         "mode": "lines+markers",
         "name": "Paladin",
         "type": "scatter",
         "x": [
          1,
          2,
          3,
          4,
          5,
          6,
          7,
          8,
          9,
          10,
          11,
          12,
          13,
          14,
          15,
          16,
          17,
          18,
          19,
          20
         ],
         "y": [
          5,
          5,
          5,
          6,
          7,
          7,
          7,
          8,
          9,
          9,
          9,
          9,
          10,
          10,
          10,
          10,
          11,
          11,
          11,
          11
         ]
        },
        {
         "hovertemplate": "<b>Ranger</b><br>level %{x:.0f}<br>attack bonus %{y:.0f}<extra></extra>",
         "line": {
          "color": "#507F62",
          "width": 1
         },
         "marker": {
          "color": "#507F62"
         },
         "mode": "lines+markers",
         "name": "Ranger",
         "type": "scatter",
         "x": [
          1,
          2,
          3,
          4,
          5,
          6,
          7,
          8,
          9,
          10,
          11,
          12,
          13,
          14,
          15,
          16,
          17,
          18,
          19,
          20
         ],
         "y": [
          5,
          5,
          5,
          6,
          7,
          7,
          7,
          8,
          9,
          9,
          9,
          9,
          10,
          10,
          10,
          10,
          11,
          11,
          11,
          11
         ]
        },
        {
         "hovertemplate": "<b>Rogue</b><br>level %{x:.0f}<br>attack bonus %{y:.0f}<extra></extra>",
         "line": {
          "color": "#555752",
          "width": 1
         },
         "marker": {
          "color": "#555752"
         },
         "mode": "lines+markers",
         "name": "Rogue",
         "type": "scatter",
         "x": [
          1,
          2,
          3,
          4,
          5,
          6,
          7,
          8,
          9,
          10,
          11,
          12,
          13,
          14,
          15,
          16,
          17,
          18,
          19,
          20
         ],
         "y": [
          5,
          5,
          5,
          6,
          7,
          7,
          7,
          8,
          9,
          9,
          9,
          9,
          10,
          10,
          10,
          10,
          11,
          11,
          11,
          11
         ]
        },
        {
         "hovertemplate": "<b>Sorcerer</b><br>level %{x:.0f}<br>attack bonus %{y:.0f}<extra></extra>",
         "line": {
          "color": "#992E2E",
          "width": 1
         },
         "marker": {
          "color": "#992E2E"
         },
         "mode": "lines+markers",
         "name": "Sorcerer",
         "type": "scatter",
         "x": [
          1,
          2,
          3,
          4,
          5,
          6,
          7,
          8,
          9,
          10,
          11,
          12,
          13,
          14,
          15,
          16,
          17,
          18,
          19,
          20
         ],
         "y": [
          5,
          5,
          5,
          6,
          7,
          7,
          7,
          8,
          9,
          9,
          9,
          9,
          10,
          10,
          10,
          10,
          11,
          11,
          11,
          11
         ]
        },
        {
         "hovertemplate": "<b>Warlock</b><br>level %{x:.0f}<br>attack bonus %{y:.0f}<extra></extra>",
         "line": {
          "color": "#7B469B",
          "width": 1
         },
         "marker": {
          "color": "#7B469B"
         },
         "mode": "lines+markers",
         "name": "Warlock",
         "type": "scatter",
         "x": [
          1,
          2,
          3,
          4,
          5,
          6,
          7,
          8,
          9,
          10,
          11,
          12,
          13,
          14,
          15,
          16,
          17,
          18,
          19,
          20
         ],
         "y": [
          5,
          5,
          5,
          6,
          7,
          7,
          7,
          8,
          9,
          9,
          9,
          9,
          10,
          10,
          10,
          10,
          11,
          11,
          11,
          11
         ]
        },
        {
         "hovertemplate": "<b>Wizard</b><br>level %{x:.0f}<br>attack bonus %{y:.0f}<extra></extra>",
         "line": {
          "color": "#2A50A1",
          "width": 1
         },
         "marker": {
          "color": "#2A50A1"
         },
         "mode": "lines+markers",
         "name": "Wizard",
         "type": "scatter",
         "x": [
          1,
          2,
          3,
          4,
          5,
          6,
          7,
          8,
          9,
          10,
          11,
          12,
          13,
          14,
          15,
          16,
          17,
          18,
          19,
          20
         ],
         "y": [
          5,
          5,
          5,
          6,
          7,
          7,
          7,
          8,
          9,
          9,
          9,
          9,
          10,
          10,
          10,
          10,
          11,
          11,
          11,
          11
         ]
        },
        {
         "hovertemplate": "<b>Average</b><br>level %{x:.0f}<br>attack bonus %{y:.1f}<extra></extra>",
         "legendgroup": "average",
         "line": {
          "color": "black",
          "dash": "dash"
         },
         "mode": "markers",
         "name": "average",
         "showlegend": false,
         "type": "scatter",
         "x": [
          1,
          2,
          3,
          4,
          5,
          6,
          7,
          8,
          9,
          10,
          11,
          12,
          13,
          14,
          15,
          16,
          17,
          18,
          19,
          20
         ],
         "y": [
          5,
          5,
          5,
          6,
          7,
          7.083333333333333,
          7.083333333333333,
          8,
          9,
          9,
          9,
          9,
          10,
          10,
          10,
          10,
          11,
          11,
          11.166666666666666,
          11.166666666666666
         ]
        },
        {
         "hoverinfo": "skip",
         "hovertemplate": "<b>Average</b><br>level %{x:.0f}<br>attack bonus %{y:.1f}<extra></extra>",
         "legendgroup": "average",
         "line": {
          "color": "black",
          "dash": "dash"
         },
         "mode": "lines",
         "name": "average",
         "showlegend": true,
         "type": "scatter",
         "x": [
          1,
          2,
          3,
          4,
          5,
          6,
          7,
          8,
          9,
          10,
          11,
          12,
          13,
          14,
          15,
          16,
          17,
          18,
          19,
          20
         ],
         "y": [
          5.191666666666668,
          5.5425438596491245,
          5.893421052631581,
          6.244298245614037,
          6.595175438596494,
          6.946052631578949,
          7.296929824561406,
          7.647807017543862,
          7.998684210526319,
          8.349561403508774,
          8.700438596491232,
          9.051315789473687,
          9.402192982456143,
          9.7530701754386,
          10.103947368421057,
          10.454824561403512,
          10.805701754385968,
          11.156578947368425,
          11.507456140350882,
          11.858333333333338
         ]
        }
       ],
       "layout": {
        "height": 500,
        "legend": {
         "bgcolor": "rgba(0,0,0,0)",
         "orientation": "h",
         "tracegroupgap": 0,
         "x": 0,
         "xanchor": "left",
         "y": 1.01,
         "yanchor": "bottom"
        },
        "template": {
         "layout": {
          "autosize": false,
          "font": {
           "family": "sans-serif",
           "size": 14
          },
          "hoverlabel": {
           "align": "left"
          },
          "hovermode": "closest",
          "margin": {
           "b": 55,
           "l": 60,
           "pad": 4,
           "r": 25,
           "t": 20
          },
          "template": {
           "data": {
            "bar": [
             {
              "error_x": {
               "color": "#2a3f5f"
              },
              "error_y": {
               "color": "#2a3f5f"
              },
              "marker": {
               "line": {
                "color": "white",
                "width": 0.5
               },
               "pattern": {
                "fillmode": "overlay",
                "size": 10,
                "solidity": 0.2
               }
              },
              "type": "bar"
             }
            ],
            "barpolar": [
             {
              "marker": {
               "line": {
                "color": "white",
                "width": 0.5
               },
               "pattern": {
                "fillmode": "overlay",
                "size": 10,
                "solidity": 0.2
               }
              },
              "type": "barpolar"
             }
            ],
            "carpet": [
             {
              "aaxis": {
               "endlinecolor": "#2a3f5f",
               "gridcolor": "#C8D4E3",
               "linecolor": "#C8D4E3",
               "minorgridcolor": "#C8D4E3",
               "startlinecolor": "#2a3f5f"
              },
              "baxis": {
               "endlinecolor": "#2a3f5f",
               "gridcolor": "#C8D4E3",
               "linecolor": "#C8D4E3",
               "minorgridcolor": "#C8D4E3",
               "startlinecolor": "#2a3f5f"
              },
              "type": "carpet"
             }
            ],
            "choropleth": [
             {
              "colorbar": {
               "outlinewidth": 0,
               "ticks": ""
              },
              "type": "choropleth"
             }
            ],
            "contour": [
             {
              "colorbar": {
               "outlinewidth": 0,
               "ticks": ""
              },
              "colorscale": [
               [
                0,
                "#0d0887"
               ],
               [
                0.1111111111111111,
                "#46039f"
               ],
               [
                0.2222222222222222,
                "#7201a8"
               ],
               [
                0.3333333333333333,
                "#9c179e"
               ],
               [
                0.4444444444444444,
                "#bd3786"
               ],
               [
                0.5555555555555556,
                "#d8576b"
               ],
               [
                0.6666666666666666,
                "#ed7953"
               ],
               [
                0.7777777777777778,
                "#fb9f3a"
               ],
               [
                0.8888888888888888,
                "#fdca26"
               ],
               [
                1,
                "#f0f921"
               ]
              ],
              "type": "contour"
             }
            ],
            "contourcarpet": [
             {
              "colorbar": {
               "outlinewidth": 0,
               "ticks": ""
              },
              "type": "contourcarpet"
             }
            ],
            "heatmap": [
             {
              "colorbar": {
               "outlinewidth": 0,
               "ticks": ""
              },
              "colorscale": [
               [
                0,
                "#0d0887"
               ],
               [
                0.1111111111111111,
                "#46039f"
               ],
               [
                0.2222222222222222,
                "#7201a8"
               ],
               [
                0.3333333333333333,
                "#9c179e"
               ],
               [
                0.4444444444444444,
                "#bd3786"
               ],
               [
                0.5555555555555556,
                "#d8576b"
               ],
               [
                0.6666666666666666,
                "#ed7953"
               ],
               [
                0.7777777777777778,
                "#fb9f3a"
               ],
               [
                0.8888888888888888,
                "#fdca26"
               ],
               [
                1,
                "#f0f921"
               ]
              ],
              "type": "heatmap"
             }
            ],
            "heatmapgl": [
             {
              "colorbar": {
               "outlinewidth": 0,
               "ticks": ""
              },
              "colorscale": [
               [
                0,
                "#0d0887"
               ],
               [
                0.1111111111111111,
                "#46039f"
               ],
               [
                0.2222222222222222,
                "#7201a8"
               ],
               [
                0.3333333333333333,
                "#9c179e"
               ],
               [
                0.4444444444444444,
                "#bd3786"
               ],
               [
                0.5555555555555556,
                "#d8576b"
               ],
               [
                0.6666666666666666,
                "#ed7953"
               ],
               [
                0.7777777777777778,
                "#fb9f3a"
               ],
               [
                0.8888888888888888,
                "#fdca26"
               ],
               [
                1,
                "#f0f921"
               ]
              ],
              "type": "heatmapgl"
             }
            ],
            "histogram": [
             {
              "marker": {
               "pattern": {
                "fillmode": "overlay",
                "size": 10,
                "solidity": 0.2
               }
              },
              "type": "histogram"
             }
            ],
            "histogram2d": [
             {
              "colorbar": {
               "outlinewidth": 0,
               "ticks": ""
              },
              "colorscale": [
               [
                0,
                "#0d0887"
               ],
               [
                0.1111111111111111,
                "#46039f"
               ],
               [
                0.2222222222222222,
                "#7201a8"
               ],
               [
                0.3333333333333333,
                "#9c179e"
               ],
               [
                0.4444444444444444,
                "#bd3786"
               ],
               [
                0.5555555555555556,
                "#d8576b"
               ],
               [
                0.6666666666666666,
                "#ed7953"
               ],
               [
                0.7777777777777778,
                "#fb9f3a"
               ],
               [
                0.8888888888888888,
                "#fdca26"
               ],
               [
                1,
                "#f0f921"
               ]
              ],
              "type": "histogram2d"
             }
            ],
            "histogram2dcontour": [
             {
              "colorbar": {
               "outlinewidth": 0,
               "ticks": ""
              },
              "colorscale": [
               [
                0,
                "#0d0887"
               ],
               [
                0.1111111111111111,
                "#46039f"
               ],
               [
                0.2222222222222222,
                "#7201a8"
               ],
               [
                0.3333333333333333,
                "#9c179e"
               ],
               [
                0.4444444444444444,
                "#bd3786"
               ],
               [
                0.5555555555555556,
                "#d8576b"
               ],
               [
                0.6666666666666666,
                "#ed7953"
               ],
               [
                0.7777777777777778,
                "#fb9f3a"
               ],
               [
                0.8888888888888888,
                "#fdca26"
               ],
               [
                1,
                "#f0f921"
               ]
              ],
              "type": "histogram2dcontour"
             }
            ],
            "mesh3d": [
             {
              "colorbar": {
               "outlinewidth": 0,
               "ticks": ""
              },
              "type": "mesh3d"
             }
            ],
            "parcoords": [
             {
              "line": {
               "colorbar": {
                "outlinewidth": 0,
                "ticks": ""
               }
              },
              "type": "parcoords"
             }
            ],
            "pie": [
             {
              "automargin": true,
              "type": "pie"
             }
            ],
            "scatter": [
             {
              "fillpattern": {
               "fillmode": "overlay",
               "size": 10,
               "solidity": 0.2
              },
              "type": "scatter"
             }
            ],
            "scatter3d": [
             {
              "line": {
               "colorbar": {
                "outlinewidth": 0,
                "ticks": ""
               }
              },
              "marker": {
               "colorbar": {
                "outlinewidth": 0,
                "ticks": ""
               }
              },
              "type": "scatter3d"
             }
            ],
            "scattercarpet": [
             {
              "marker": {
               "colorbar": {
                "outlinewidth": 0,
                "ticks": ""
               }
              },
              "type": "scattercarpet"
             }
            ],
            "scattergeo": [
             {
              "marker": {
               "colorbar": {
                "outlinewidth": 0,
                "ticks": ""
               }
              },
              "type": "scattergeo"
             }
            ],
            "scattergl": [
             {
              "marker": {
               "colorbar": {
                "outlinewidth": 0,
                "ticks": ""
               }
              },
              "type": "scattergl"
             }
            ],
            "scattermapbox": [
             {
              "marker": {
               "colorbar": {
                "outlinewidth": 0,
                "ticks": ""
               }
              },
              "type": "scattermapbox"
             }
            ],
            "scatterpolar": [
             {
              "marker": {
               "colorbar": {
                "outlinewidth": 0,
                "ticks": ""
               }
              },
              "type": "scatterpolar"
             }
            ],
            "scatterpolargl": [
             {
              "marker": {
               "colorbar": {
                "outlinewidth": 0,
                "ticks": ""
               }
              },
              "type": "scatterpolargl"
             }
            ],
            "scatterternary": [
             {
              "marker": {
               "colorbar": {
                "outlinewidth": 0,
                "ticks": ""
               }
              },
              "type": "scatterternary"
             }
            ],
            "surface": [
             {
              "colorbar": {
               "outlinewidth": 0,
               "ticks": ""
              },
              "colorscale": [
               [
                0,
                "#0d0887"
               ],
               [
                0.1111111111111111,
                "#46039f"
               ],
               [
                0.2222222222222222,
                "#7201a8"
               ],
               [
                0.3333333333333333,
                "#9c179e"
               ],
               [
                0.4444444444444444,
                "#bd3786"
               ],
               [
                0.5555555555555556,
                "#d8576b"
               ],
               [
                0.6666666666666666,
                "#ed7953"
               ],
               [
                0.7777777777777778,
                "#fb9f3a"
               ],
               [
                0.8888888888888888,
                "#fdca26"
               ],
               [
                1,
                "#f0f921"
               ]
              ],
              "type": "surface"
             }
            ],
            "table": [
             {
              "cells": {
               "fill": {
                "color": "#EBF0F8"
               },
               "line": {
                "color": "white"
               }
              },
              "header": {
               "fill": {
                "color": "#C8D4E3"
               },
               "line": {
                "color": "white"
               }
              },
              "type": "table"
             }
            ]
           },
           "layout": {
            "annotationdefaults": {
             "arrowcolor": "#2a3f5f",
             "arrowhead": 0,
             "arrowwidth": 1
            },
            "autotypenumbers": "strict",
            "coloraxis": {
             "colorbar": {
              "outlinewidth": 0,
              "ticks": ""
             }
            },
            "colorscale": {
             "diverging": [
              [
               0,
               "#8e0152"
              ],
              [
               0.1,
               "#c51b7d"
              ],
              [
               0.2,
               "#de77ae"
              ],
              [
               0.3,
               "#f1b6da"
              ],
              [
               0.4,
               "#fde0ef"
              ],
              [
               0.5,
               "#f7f7f7"
              ],
              [
               0.6,
               "#e6f5d0"
              ],
              [
               0.7,
               "#b8e186"
              ],
              [
               0.8,
               "#7fbc41"
              ],
              [
               0.9,
               "#4d9221"
              ],
              [
               1,
               "#276419"
              ]
             ],
             "sequential": [
              [
               0,
               "#0d0887"
              ],
              [
               0.1111111111111111,
               "#46039f"
              ],
              [
               0.2222222222222222,
               "#7201a8"
              ],
              [
               0.3333333333333333,
               "#9c179e"
              ],
              [
               0.4444444444444444,
               "#bd3786"
              ],
              [
               0.5555555555555556,
               "#d8576b"
              ],
              [
               0.6666666666666666,
               "#ed7953"
              ],
              [
               0.7777777777777778,
               "#fb9f3a"
              ],
              [
               0.8888888888888888,
               "#fdca26"
              ],
              [
               1,
               "#f0f921"
              ]
             ],
             "sequentialminus": [
              [
               0,
               "#0d0887"
              ],
              [
               0.1111111111111111,
               "#46039f"
              ],
              [
               0.2222222222222222,
               "#7201a8"
              ],
              [
               0.3333333333333333,
               "#9c179e"
              ],
              [
               0.4444444444444444,
               "#bd3786"
              ],
              [
               0.5555555555555556,
               "#d8576b"
              ],
              [
               0.6666666666666666,
               "#ed7953"
              ],
              [
               0.7777777777777778,
               "#fb9f3a"
              ],
              [
               0.8888888888888888,
               "#fdca26"
              ],
              [
               1,
               "#f0f921"
              ]
             ]
            },
            "colorway": [
             "#636efa",
             "#EF553B",
             "#00cc96",
             "#ab63fa",
             "#FFA15A",
             "#19d3f3",
             "#FF6692",
             "#B6E880",
             "#FF97FF",
             "#FECB52"
            ],
            "font": {
             "color": "#2a3f5f"
            },
            "geo": {
             "bgcolor": "white",
             "lakecolor": "white",
             "landcolor": "white",
             "showlakes": true,
             "showland": true,
             "subunitcolor": "#C8D4E3"
            },
            "hoverlabel": {
             "align": "left"
            },
            "hovermode": "closest",
            "mapbox": {
             "style": "light"
            },
            "paper_bgcolor": "white",
            "plot_bgcolor": "white",
            "polar": {
             "angularaxis": {
              "gridcolor": "#EBF0F8",
              "linecolor": "#EBF0F8",
              "ticks": ""
             },
             "bgcolor": "white",
             "radialaxis": {
              "gridcolor": "#EBF0F8",
              "linecolor": "#EBF0F8",
              "ticks": ""
             }
            },
            "scene": {
             "xaxis": {
              "backgroundcolor": "white",
              "gridcolor": "#DFE8F3",
              "gridwidth": 2,
              "linecolor": "#EBF0F8",
              "showbackground": true,
              "ticks": "",
              "zerolinecolor": "#EBF0F8"
             },
             "yaxis": {
              "backgroundcolor": "white",
              "gridcolor": "#DFE8F3",
              "gridwidth": 2,
              "linecolor": "#EBF0F8",
              "showbackground": true,
              "ticks": "",
              "zerolinecolor": "#EBF0F8"
             },
             "zaxis": {
              "backgroundcolor": "white",
              "gridcolor": "#DFE8F3",
              "gridwidth": 2,
              "linecolor": "#EBF0F8",
              "showbackground": true,
              "ticks": "",
              "zerolinecolor": "#EBF0F8"
             }
            },
            "shapedefaults": {
             "line": {
              "color": "#2a3f5f"
             }
            },
            "ternary": {
             "aaxis": {
              "gridcolor": "#DFE8F3",
              "linecolor": "#A2B1C6",
              "ticks": ""
             },
             "baxis": {
              "gridcolor": "#DFE8F3",
              "linecolor": "#A2B1C6",
              "ticks": ""
             },
             "bgcolor": "white",
             "caxis": {
              "gridcolor": "#DFE8F3",
              "linecolor": "#A2B1C6",
              "ticks": ""
             }
            },
            "title": {
             "x": 0.05
            },
            "xaxis": {
             "automargin": true,
             "gridcolor": "#EBF0F8",
             "linecolor": "#EBF0F8",
             "ticks": "",
             "title": {
              "standoff": 15
             },
             "zerolinecolor": "#EBF0F8",
             "zerolinewidth": 2
            },
            "yaxis": {
             "automargin": true,
             "gridcolor": "#EBF0F8",
             "linecolor": "#EBF0F8",
             "ticks": "",
             "title": {
              "standoff": 15
             },
             "zerolinecolor": "#EBF0F8",
             "zerolinewidth": 2
            }
           }
          },
          "xaxis": {
           "automargin": false,
           "linecolor": "#444",
           "linewidth": 2,
           "minor": {
            "tickmode": "linear",
            "ticks": "outside"
           },
           "mirror": true,
           "showline": true,
           "tickmode": "linear",
           "ticks": "outside",
           "zeroline": false
          },
          "yaxis": {
           "automargin": false,
           "linecolor": "#444",
           "linewidth": 2,
           "minor": {
            "tickmode": "linear",
            "ticks": "outside"
           },
           "mirror": true,
           "showline": true,
           "ticks": "outside",
           "zeroline": false
          }
         }
        },
        "width": 600,
        "xaxis": {
         "dtick": 5,
         "minor": {
          "dtick": 1,
          "tick0": 0
         },
         "range": [
          0.8,
          20.2
         ],
         "tick0": 0,
         "title": {
          "text": "level"
         }
        },
        "yaxis": {
         "dtick": 2,
         "minor": {
          "dtick": 1,
          "tick0": 0
         },
         "range": [
          4,
          14
         ],
         "tick0": 0,
         "title": {
          "text": "attack bonus"
         }
        }
       }
      }
     },
     "metadata": {},
     "output_type": "display_data"
    }
   ],
   "source": [
    "# Plots attack bonus for each class.\n",
    "# create figure\n",
    "fig = go.Figure(\n",
    "    layout=go.Layout(\n",
    "        template=tfb.FIG_TEMPLATE,\n",
    "        xaxis=dict(\n",
    "            title_text='level',\n",
    "            range=[0.8, 20.2],\n",
    "            tick0=0, dtick=5,\n",
    "            minor=dict(tick0=0, dtick=1),\n",
    "        ),\n",
    "        yaxis=dict(\n",
    "            title_text='attack bonus',\n",
    "            range=[4, 14],\n",
    "            tick0=0, dtick=2,\n",
    "            minor=dict(tick0=0, dtick=1),\n",
    "        ),\n",
    "        legend=dict(\n",
    "            yanchor='bottom',  y=1.01,\n",
    "            xanchor='left', x=0.00,\n",
    "            bgcolor='rgba(0,0,0,0)',\n",
    "            orientation='h',\n",
    "            tracegroupgap=0,\n",
    "        )\n",
    "    )\n",
    ")\n",
    "\n",
    "# get PC data\n",
    "levels = list(range(1,21))\n",
    "for c in pcs:\n",
    "    pc = pcs[c]\n",
    "    ab = [pc.set_level(lvl).build().get_attack_bonus() for lvl in levels]\n",
    "    fig.add_trace(go.Scatter(\n",
    "        x=levels, \n",
    "        y=ab,\n",
    "        mode='lines+markers', \n",
    "        line=dict(color=PC_CLASSES[c]['color'], width=1),\n",
    "        marker=dict(color=PC_CLASSES[c]['color']),\n",
    "        name=c,\n",
    "        hovertemplate=\n",
    "                f'<b>{c}</b><br>'+\n",
    "                'level %{x:.0f}<br>'+\n",
    "                'attack bonus %{y:.0f}'+\n",
    "                '<extra></extra>'\n",
    "    ))\n",
    "\n",
    "# get PC data\n",
    "levels = list(range(1,21))\n",
    "ab_matrix = np.zeros([20,len(PC_CLASSES)])\n",
    "pc_names = list(pcs.keys())\n",
    "for i in range(len(pc_names)):\n",
    "    pc = pcs[pc_names[i]]\n",
    "    ab_matrix[:,i] = np.array([pc.set_level(lvl).build().get_attack_bonus() for lvl in levels])\n",
    "\n",
    "plot_data_and_fit(\n",
    "    fig, \n",
    "    levels, np.mean(ab_matrix, axis=1), \n",
    "    name='average',\n",
    "    legendgroup='average',\n",
    "    line=dict(color='black', dash='dash'),\n",
    "    hovertemplate=\n",
    "            f'<b>Average</b><br>'+\n",
    "            'level %{x:.0f}<br>'+\n",
    "            'attack bonus %{y:.1f}'+\n",
    "            '<extra></extra>',\n",
    "    print_coefficients=True,\n",
    ")\n",
    "\n",
    "# show figure\n",
    "fig.update_layout(width=600, height=500)\n",
    "fig.show(config=tfb.FIG_CONFIG)\n",
    "\n",
    "# save figures\n",
    "if SAVEFIGS:\n",
    "    fig.update_layout(autosize=True, width=None, height=None)\n",
    "    tfb.save_fig_html(fig, format='large', name=f'./fig-ab-vs-level-large', style='aspect-ratio:600/550')\n",
    "    tfb.save_fig_html(fig, format='small', name=f'./fig-ab-vs-level-small', style='aspect-ratio:600/600')"
   ]
  },
  {
   "cell_type": "code",
   "execution_count": 172,
   "metadata": {},
   "outputs": [
    {
     "name": "stdout",
     "output_type": "stream",
     "text": [
      "LVL >= 1: 12.58 + 0.36*LVL\n"
     ]
    },
    {
     "data": {
      "application/vnd.plotly.v1+json": {
       "config": {
        "autosizable": true,
        "displayModeBar": "hover",
        "displaylogo": false,
        "modeBarButtonsToRemove": [
         "select2d",
         "lasso2d",
         "zoom2d",
         "zoomIn2d",
         "zoomOut2d",
         "pan2d",
         "autoScale2d",
         "hoverClosestCartesian",
         "hoverCompareCartesian",
         "toggleSpikelines",
         "resetScale2d"
        ],
        "plotlyServerURL": "https://plot.ly",
        "responsive": true,
        "showAxisDragHandles": false,
        "toImageButtonOptions": {
         "filename": "tfb-plot",
         "format": "png",
         "height": 450,
         "scale": 2,
         "width": 600
        }
       },
       "data": [
        {
         "hovertemplate": "<b>Bard</b><br>level %{x:.0f}<br>difficulty class %{y:.0f}<extra></extra>",
         "line": {
          "color": "#AB6DAC",
          "width": 1
         },
         "marker": {
          "color": "#AB6DAC"
         },
         "mode": "lines+markers",
         "name": "Bard",
         "type": "scatter",
         "x": [
          1,
          2,
          3,
          4,
          5,
          6,
          7,
          8,
          9,
          10,
          11,
          12,
          13,
          14,
          15,
          16,
          17,
          18,
          19,
          20
         ],
         "y": [
          13,
          13,
          13,
          14,
          15,
          15,
          15,
          16,
          17,
          17,
          17,
          17,
          18,
          18,
          18,
          18,
          19,
          19,
          19,
          19
         ]
        },
        {
         "hovertemplate": "<b>Cleric</b><br>level %{x:.0f}<br>difficulty class %{y:.0f}<extra></extra>",
         "line": {
          "color": "#91A1B2",
          "width": 1
         },
         "marker": {
          "color": "#91A1B2"
         },
         "mode": "lines+markers",
         "name": "Cleric",
         "type": "scatter",
         "x": [
          1,
          2,
          3,
          4,
          5,
          6,
          7,
          8,
          9,
          10,
          11,
          12,
          13,
          14,
          15,
          16,
          17,
          18,
          19,
          20
         ],
         "y": [
          13,
          13,
          13,
          14,
          15,
          15,
          15,
          16,
          17,
          17,
          17,
          17,
          18,
          18,
          18,
          18,
          19,
          19,
          19,
          19
         ]
        },
        {
         "hovertemplate": "<b>Druid</b><br>level %{x:.0f}<br>difficulty class %{y:.0f}<extra></extra>",
         "line": {
          "color": "#7A853B",
          "width": 1
         },
         "marker": {
          "color": "#7A853B"
         },
         "mode": "lines+markers",
         "name": "Druid",
         "type": "scatter",
         "x": [
          1,
          2,
          3,
          4,
          5,
          6,
          7,
          8,
          9,
          10,
          11,
          12,
          13,
          14,
          15,
          16,
          17,
          18,
          19,
          20
         ],
         "y": [
          13,
          13,
          13,
          14,
          15,
          15,
          15,
          16,
          17,
          17,
          17,
          17,
          18,
          18,
          18,
          18,
          19,
          19,
          19,
          19
         ]
        },
        {
         "hovertemplate": "<b>Monk</b><br>level %{x:.0f}<br>difficulty class %{y:.0f}<extra></extra>",
         "line": {
          "color": "#51A5C5",
          "width": 1
         },
         "marker": {
          "color": "#51A5C5"
         },
         "mode": "lines+markers",
         "name": "Monk",
         "type": "scatter",
         "x": [
          1,
          2,
          3,
          4,
          5,
          6,
          7,
          8,
          9,
          10,
          11,
          12,
          13,
          14,
          15,
          16,
          17,
          18,
          19,
          20
         ],
         "y": [
          13,
          13,
          13,
          13,
          14,
          14,
          14,
          14,
          15,
          15,
          15,
          16,
          17,
          17,
          17,
          18,
          19,
          19,
          19,
          19
         ]
        },
        {
         "hovertemplate": "<b>Paladin</b><br>level %{x:.0f}<br>difficulty class %{y:.0f}<extra></extra>",
         "line": {
          "color": "#B59E54",
          "width": 1
         },
         "marker": {
          "color": "#B59E54"
         },
         "mode": "lines+markers",
         "name": "Paladin",
         "type": "scatter",
         "x": [
          1,
          2,
          3,
          4,
          5,
          6,
          7,
          8,
          9,
          10,
          11,
          12,
          13,
          14,
          15,
          16,
          17,
          18,
          19,
          20
         ],
         "y": [
          13,
          13,
          13,
          13,
          14,
          14,
          14,
          14,
          15,
          15,
          15,
          16,
          17,
          17,
          17,
          18,
          19,
          19,
          19,
          19
         ]
        },
        {
         "hovertemplate": "<b>Ranger</b><br>level %{x:.0f}<br>difficulty class %{y:.0f}<extra></extra>",
         "line": {
          "color": "#507F62",
          "width": 1
         },
         "marker": {
          "color": "#507F62"
         },
         "mode": "lines+markers",
         "name": "Ranger",
         "type": "scatter",
         "x": [
          1,
          2,
          3,
          4,
          5,
          6,
          7,
          8,
          9,
          10,
          11,
          12,
          13,
          14,
          15,
          16,
          17,
          18,
          19,
          20
         ],
         "y": [
          13,
          13,
          13,
          13,
          14,
          14,
          14,
          14,
          15,
          15,
          15,
          16,
          17,
          17,
          17,
          18,
          19,
          19,
          19,
          19
         ]
        },
        {
         "hovertemplate": "<b>Sorcerer</b><br>level %{x:.0f}<br>difficulty class %{y:.0f}<extra></extra>",
         "line": {
          "color": "#992E2E",
          "width": 1
         },
         "marker": {
          "color": "#992E2E"
         },
         "mode": "lines+markers",
         "name": "Sorcerer",
         "type": "scatter",
         "x": [
          1,
          2,
          3,
          4,
          5,
          6,
          7,
          8,
          9,
          10,
          11,
          12,
          13,
          14,
          15,
          16,
          17,
          18,
          19,
          20
         ],
         "y": [
          13,
          13,
          13,
          14,
          15,
          15,
          15,
          16,
          17,
          17,
          17,
          17,
          18,
          18,
          18,
          18,
          19,
          19,
          19,
          19
         ]
        },
        {
         "hovertemplate": "<b>Warlock</b><br>level %{x:.0f}<br>difficulty class %{y:.0f}<extra></extra>",
         "line": {
          "color": "#7B469B",
          "width": 1
         },
         "marker": {
          "color": "#7B469B"
         },
         "mode": "lines+markers",
         "name": "Warlock",
         "type": "scatter",
         "x": [
          1,
          2,
          3,
          4,
          5,
          6,
          7,
          8,
          9,
          10,
          11,
          12,
          13,
          14,
          15,
          16,
          17,
          18,
          19,
          20
         ],
         "y": [
          13,
          13,
          13,
          14,
          15,
          15,
          15,
          16,
          17,
          17,
          17,
          17,
          18,
          18,
          18,
          18,
          19,
          19,
          19,
          19
         ]
        },
        {
         "hovertemplate": "<b>Wizard</b><br>level %{x:.0f}<br>difficulty class %{y:.0f}<extra></extra>",
         "line": {
          "color": "#2A50A1",
          "width": 1
         },
         "marker": {
          "color": "#2A50A1"
         },
         "mode": "lines+markers",
         "name": "Wizard",
         "type": "scatter",
         "x": [
          1,
          2,
          3,
          4,
          5,
          6,
          7,
          8,
          9,
          10,
          11,
          12,
          13,
          14,
          15,
          16,
          17,
          18,
          19,
          20
         ],
         "y": [
          13,
          13,
          13,
          14,
          15,
          15,
          15,
          16,
          17,
          17,
          17,
          17,
          18,
          18,
          18,
          18,
          19,
          19,
          19,
          19
         ]
        },
        {
         "hovertemplate": "<b>Average</b><br>level %{x:.0f}<br>difficulty class %{y:.1f}<extra></extra>",
         "legendgroup": "average",
         "line": {
          "color": "black",
          "dash": "dash"
         },
         "mode": "markers",
         "name": "average",
         "showlegend": false,
         "type": "scatter",
         "x": [
          1,
          2,
          3,
          4,
          5,
          6,
          7,
          8,
          9,
          10,
          11,
          12,
          13,
          14,
          15,
          16,
          17,
          18,
          19,
          20
         ],
         "y": [
          13,
          13,
          13,
          13.75,
          14.75,
          14.833333333333334,
          14.833333333333334,
          15.5,
          16.5,
          16.5,
          16.5,
          16.75,
          17.75,
          17.75,
          17.75,
          18,
          19,
          19,
          19.166666666666668,
          19.166666666666668
         ]
        },
        {
         "hoverinfo": "skip",
         "hovertemplate": "<b>Average</b><br>level %{x:.0f}<br>difficulty class %{y:.1f}<extra></extra>",
         "legendgroup": "average",
         "line": {
          "color": "black",
          "dash": "dash"
         },
         "mode": "lines",
         "name": "average",
         "showlegend": true,
         "type": "scatter",
         "x": [
          1,
          2,
          3,
          4,
          5,
          6,
          7,
          8,
          9,
          10,
          11,
          12,
          13,
          14,
          15,
          16,
          17,
          18,
          19,
          20
         ],
         "y": [
          12.934523809523816,
          13.291416040100255,
          13.648308270676697,
          14.005200501253139,
          14.36209273182958,
          14.71898496240602,
          15.075877192982462,
          15.432769423558904,
          15.789661654135344,
          16.146553884711786,
          16.503446115288227,
          16.86033834586467,
          17.21723057644111,
          17.574122807017552,
          17.931015037593994,
          18.287907268170432,
          18.644799498746874,
          19.001691729323316,
          19.358583959899757,
          19.7154761904762
         ]
        }
       ],
       "layout": {
        "height": 500,
        "legend": {
         "bgcolor": "rgba(0,0,0,0)",
         "orientation": "h",
         "tracegroupgap": 0,
         "x": 0,
         "xanchor": "left",
         "y": 1.01,
         "yanchor": "bottom"
        },
        "template": {
         "layout": {
          "autosize": false,
          "font": {
           "family": "sans-serif",
           "size": 14
          },
          "hoverlabel": {
           "align": "left"
          },
          "hovermode": "closest",
          "margin": {
           "b": 55,
           "l": 60,
           "pad": 4,
           "r": 25,
           "t": 20
          },
          "template": {
           "data": {
            "bar": [
             {
              "error_x": {
               "color": "#2a3f5f"
              },
              "error_y": {
               "color": "#2a3f5f"
              },
              "marker": {
               "line": {
                "color": "white",
                "width": 0.5
               },
               "pattern": {
                "fillmode": "overlay",
                "size": 10,
                "solidity": 0.2
               }
              },
              "type": "bar"
             }
            ],
            "barpolar": [
             {
              "marker": {
               "line": {
                "color": "white",
                "width": 0.5
               },
               "pattern": {
                "fillmode": "overlay",
                "size": 10,
                "solidity": 0.2
               }
              },
              "type": "barpolar"
             }
            ],
            "carpet": [
             {
              "aaxis": {
               "endlinecolor": "#2a3f5f",
               "gridcolor": "#C8D4E3",
               "linecolor": "#C8D4E3",
               "minorgridcolor": "#C8D4E3",
               "startlinecolor": "#2a3f5f"
              },
              "baxis": {
               "endlinecolor": "#2a3f5f",
               "gridcolor": "#C8D4E3",
               "linecolor": "#C8D4E3",
               "minorgridcolor": "#C8D4E3",
               "startlinecolor": "#2a3f5f"
              },
              "type": "carpet"
             }
            ],
            "choropleth": [
             {
              "colorbar": {
               "outlinewidth": 0,
               "ticks": ""
              },
              "type": "choropleth"
             }
            ],
            "contour": [
             {
              "colorbar": {
               "outlinewidth": 0,
               "ticks": ""
              },
              "colorscale": [
               [
                0,
                "#0d0887"
               ],
               [
                0.1111111111111111,
                "#46039f"
               ],
               [
                0.2222222222222222,
                "#7201a8"
               ],
               [
                0.3333333333333333,
                "#9c179e"
               ],
               [
                0.4444444444444444,
                "#bd3786"
               ],
               [
                0.5555555555555556,
                "#d8576b"
               ],
               [
                0.6666666666666666,
                "#ed7953"
               ],
               [
                0.7777777777777778,
                "#fb9f3a"
               ],
               [
                0.8888888888888888,
                "#fdca26"
               ],
               [
                1,
                "#f0f921"
               ]
              ],
              "type": "contour"
             }
            ],
            "contourcarpet": [
             {
              "colorbar": {
               "outlinewidth": 0,
               "ticks": ""
              },
              "type": "contourcarpet"
             }
            ],
            "heatmap": [
             {
              "colorbar": {
               "outlinewidth": 0,
               "ticks": ""
              },
              "colorscale": [
               [
                0,
                "#0d0887"
               ],
               [
                0.1111111111111111,
                "#46039f"
               ],
               [
                0.2222222222222222,
                "#7201a8"
               ],
               [
                0.3333333333333333,
                "#9c179e"
               ],
               [
                0.4444444444444444,
                "#bd3786"
               ],
               [
                0.5555555555555556,
                "#d8576b"
               ],
               [
                0.6666666666666666,
                "#ed7953"
               ],
               [
                0.7777777777777778,
                "#fb9f3a"
               ],
               [
                0.8888888888888888,
                "#fdca26"
               ],
               [
                1,
                "#f0f921"
               ]
              ],
              "type": "heatmap"
             }
            ],
            "heatmapgl": [
             {
              "colorbar": {
               "outlinewidth": 0,
               "ticks": ""
              },
              "colorscale": [
               [
                0,
                "#0d0887"
               ],
               [
                0.1111111111111111,
                "#46039f"
               ],
               [
                0.2222222222222222,
                "#7201a8"
               ],
               [
                0.3333333333333333,
                "#9c179e"
               ],
               [
                0.4444444444444444,
                "#bd3786"
               ],
               [
                0.5555555555555556,
                "#d8576b"
               ],
               [
                0.6666666666666666,
                "#ed7953"
               ],
               [
                0.7777777777777778,
                "#fb9f3a"
               ],
               [
                0.8888888888888888,
                "#fdca26"
               ],
               [
                1,
                "#f0f921"
               ]
              ],
              "type": "heatmapgl"
             }
            ],
            "histogram": [
             {
              "marker": {
               "pattern": {
                "fillmode": "overlay",
                "size": 10,
                "solidity": 0.2
               }
              },
              "type": "histogram"
             }
            ],
            "histogram2d": [
             {
              "colorbar": {
               "outlinewidth": 0,
               "ticks": ""
              },
              "colorscale": [
               [
                0,
                "#0d0887"
               ],
               [
                0.1111111111111111,
                "#46039f"
               ],
               [
                0.2222222222222222,
                "#7201a8"
               ],
               [
                0.3333333333333333,
                "#9c179e"
               ],
               [
                0.4444444444444444,
                "#bd3786"
               ],
               [
                0.5555555555555556,
                "#d8576b"
               ],
               [
                0.6666666666666666,
                "#ed7953"
               ],
               [
                0.7777777777777778,
                "#fb9f3a"
               ],
               [
                0.8888888888888888,
                "#fdca26"
               ],
               [
                1,
                "#f0f921"
               ]
              ],
              "type": "histogram2d"
             }
            ],
            "histogram2dcontour": [
             {
              "colorbar": {
               "outlinewidth": 0,
               "ticks": ""
              },
              "colorscale": [
               [
                0,
                "#0d0887"
               ],
               [
                0.1111111111111111,
                "#46039f"
               ],
               [
                0.2222222222222222,
                "#7201a8"
               ],
               [
                0.3333333333333333,
                "#9c179e"
               ],
               [
                0.4444444444444444,
                "#bd3786"
               ],
               [
                0.5555555555555556,
                "#d8576b"
               ],
               [
                0.6666666666666666,
                "#ed7953"
               ],
               [
                0.7777777777777778,
                "#fb9f3a"
               ],
               [
                0.8888888888888888,
                "#fdca26"
               ],
               [
                1,
                "#f0f921"
               ]
              ],
              "type": "histogram2dcontour"
             }
            ],
            "mesh3d": [
             {
              "colorbar": {
               "outlinewidth": 0,
               "ticks": ""
              },
              "type": "mesh3d"
             }
            ],
            "parcoords": [
             {
              "line": {
               "colorbar": {
                "outlinewidth": 0,
                "ticks": ""
               }
              },
              "type": "parcoords"
             }
            ],
            "pie": [
             {
              "automargin": true,
              "type": "pie"
             }
            ],
            "scatter": [
             {
              "fillpattern": {
               "fillmode": "overlay",
               "size": 10,
               "solidity": 0.2
              },
              "type": "scatter"
             }
            ],
            "scatter3d": [
             {
              "line": {
               "colorbar": {
                "outlinewidth": 0,
                "ticks": ""
               }
              },
              "marker": {
               "colorbar": {
                "outlinewidth": 0,
                "ticks": ""
               }
              },
              "type": "scatter3d"
             }
            ],
            "scattercarpet": [
             {
              "marker": {
               "colorbar": {
                "outlinewidth": 0,
                "ticks": ""
               }
              },
              "type": "scattercarpet"
             }
            ],
            "scattergeo": [
             {
              "marker": {
               "colorbar": {
                "outlinewidth": 0,
                "ticks": ""
               }
              },
              "type": "scattergeo"
             }
            ],
            "scattergl": [
             {
              "marker": {
               "colorbar": {
                "outlinewidth": 0,
                "ticks": ""
               }
              },
              "type": "scattergl"
             }
            ],
            "scattermapbox": [
             {
              "marker": {
               "colorbar": {
                "outlinewidth": 0,
                "ticks": ""
               }
              },
              "type": "scattermapbox"
             }
            ],
            "scatterpolar": [
             {
              "marker": {
               "colorbar": {
                "outlinewidth": 0,
                "ticks": ""
               }
              },
              "type": "scatterpolar"
             }
            ],
            "scatterpolargl": [
             {
              "marker": {
               "colorbar": {
                "outlinewidth": 0,
                "ticks": ""
               }
              },
              "type": "scatterpolargl"
             }
            ],
            "scatterternary": [
             {
              "marker": {
               "colorbar": {
                "outlinewidth": 0,
                "ticks": ""
               }
              },
              "type": "scatterternary"
             }
            ],
            "surface": [
             {
              "colorbar": {
               "outlinewidth": 0,
               "ticks": ""
              },
              "colorscale": [
               [
                0,
                "#0d0887"
               ],
               [
                0.1111111111111111,
                "#46039f"
               ],
               [
                0.2222222222222222,
                "#7201a8"
               ],
               [
                0.3333333333333333,
                "#9c179e"
               ],
               [
                0.4444444444444444,
                "#bd3786"
               ],
               [
                0.5555555555555556,
                "#d8576b"
               ],
               [
                0.6666666666666666,
                "#ed7953"
               ],
               [
                0.7777777777777778,
                "#fb9f3a"
               ],
               [
                0.8888888888888888,
                "#fdca26"
               ],
               [
                1,
                "#f0f921"
               ]
              ],
              "type": "surface"
             }
            ],
            "table": [
             {
              "cells": {
               "fill": {
                "color": "#EBF0F8"
               },
               "line": {
                "color": "white"
               }
              },
              "header": {
               "fill": {
                "color": "#C8D4E3"
               },
               "line": {
                "color": "white"
               }
              },
              "type": "table"
             }
            ]
           },
           "layout": {
            "annotationdefaults": {
             "arrowcolor": "#2a3f5f",
             "arrowhead": 0,
             "arrowwidth": 1
            },
            "autotypenumbers": "strict",
            "coloraxis": {
             "colorbar": {
              "outlinewidth": 0,
              "ticks": ""
             }
            },
            "colorscale": {
             "diverging": [
              [
               0,
               "#8e0152"
              ],
              [
               0.1,
               "#c51b7d"
              ],
              [
               0.2,
               "#de77ae"
              ],
              [
               0.3,
               "#f1b6da"
              ],
              [
               0.4,
               "#fde0ef"
              ],
              [
               0.5,
               "#f7f7f7"
              ],
              [
               0.6,
               "#e6f5d0"
              ],
              [
               0.7,
               "#b8e186"
              ],
              [
               0.8,
               "#7fbc41"
              ],
              [
               0.9,
               "#4d9221"
              ],
              [
               1,
               "#276419"
              ]
             ],
             "sequential": [
              [
               0,
               "#0d0887"
              ],
              [
               0.1111111111111111,
               "#46039f"
              ],
              [
               0.2222222222222222,
               "#7201a8"
              ],
              [
               0.3333333333333333,
               "#9c179e"
              ],
              [
               0.4444444444444444,
               "#bd3786"
              ],
              [
               0.5555555555555556,
               "#d8576b"
              ],
              [
               0.6666666666666666,
               "#ed7953"
              ],
              [
               0.7777777777777778,
               "#fb9f3a"
              ],
              [
               0.8888888888888888,
               "#fdca26"
              ],
              [
               1,
               "#f0f921"
              ]
             ],
             "sequentialminus": [
              [
               0,
               "#0d0887"
              ],
              [
               0.1111111111111111,
               "#46039f"
              ],
              [
               0.2222222222222222,
               "#7201a8"
              ],
              [
               0.3333333333333333,
               "#9c179e"
              ],
              [
               0.4444444444444444,
               "#bd3786"
              ],
              [
               0.5555555555555556,
               "#d8576b"
              ],
              [
               0.6666666666666666,
               "#ed7953"
              ],
              [
               0.7777777777777778,
               "#fb9f3a"
              ],
              [
               0.8888888888888888,
               "#fdca26"
              ],
              [
               1,
               "#f0f921"
              ]
             ]
            },
            "colorway": [
             "#636efa",
             "#EF553B",
             "#00cc96",
             "#ab63fa",
             "#FFA15A",
             "#19d3f3",
             "#FF6692",
             "#B6E880",
             "#FF97FF",
             "#FECB52"
            ],
            "font": {
             "color": "#2a3f5f"
            },
            "geo": {
             "bgcolor": "white",
             "lakecolor": "white",
             "landcolor": "white",
             "showlakes": true,
             "showland": true,
             "subunitcolor": "#C8D4E3"
            },
            "hoverlabel": {
             "align": "left"
            },
            "hovermode": "closest",
            "mapbox": {
             "style": "light"
            },
            "paper_bgcolor": "white",
            "plot_bgcolor": "white",
            "polar": {
             "angularaxis": {
              "gridcolor": "#EBF0F8",
              "linecolor": "#EBF0F8",
              "ticks": ""
             },
             "bgcolor": "white",
             "radialaxis": {
              "gridcolor": "#EBF0F8",
              "linecolor": "#EBF0F8",
              "ticks": ""
             }
            },
            "scene": {
             "xaxis": {
              "backgroundcolor": "white",
              "gridcolor": "#DFE8F3",
              "gridwidth": 2,
              "linecolor": "#EBF0F8",
              "showbackground": true,
              "ticks": "",
              "zerolinecolor": "#EBF0F8"
             },
             "yaxis": {
              "backgroundcolor": "white",
              "gridcolor": "#DFE8F3",
              "gridwidth": 2,
              "linecolor": "#EBF0F8",
              "showbackground": true,
              "ticks": "",
              "zerolinecolor": "#EBF0F8"
             },
             "zaxis": {
              "backgroundcolor": "white",
              "gridcolor": "#DFE8F3",
              "gridwidth": 2,
              "linecolor": "#EBF0F8",
              "showbackground": true,
              "ticks": "",
              "zerolinecolor": "#EBF0F8"
             }
            },
            "shapedefaults": {
             "line": {
              "color": "#2a3f5f"
             }
            },
            "ternary": {
             "aaxis": {
              "gridcolor": "#DFE8F3",
              "linecolor": "#A2B1C6",
              "ticks": ""
             },
             "baxis": {
              "gridcolor": "#DFE8F3",
              "linecolor": "#A2B1C6",
              "ticks": ""
             },
             "bgcolor": "white",
             "caxis": {
              "gridcolor": "#DFE8F3",
              "linecolor": "#A2B1C6",
              "ticks": ""
             }
            },
            "title": {
             "x": 0.05
            },
            "xaxis": {
             "automargin": true,
             "gridcolor": "#EBF0F8",
             "linecolor": "#EBF0F8",
             "ticks": "",
             "title": {
              "standoff": 15
             },
             "zerolinecolor": "#EBF0F8",
             "zerolinewidth": 2
            },
            "yaxis": {
             "automargin": true,
             "gridcolor": "#EBF0F8",
             "linecolor": "#EBF0F8",
             "ticks": "",
             "title": {
              "standoff": 15
             },
             "zerolinecolor": "#EBF0F8",
             "zerolinewidth": 2
            }
           }
          },
          "xaxis": {
           "automargin": false,
           "linecolor": "#444",
           "linewidth": 2,
           "minor": {
            "tickmode": "linear",
            "ticks": "outside"
           },
           "mirror": true,
           "showline": true,
           "tickmode": "linear",
           "ticks": "outside",
           "zeroline": false
          },
          "yaxis": {
           "automargin": false,
           "linecolor": "#444",
           "linewidth": 2,
           "minor": {
            "tickmode": "linear",
            "ticks": "outside"
           },
           "mirror": true,
           "showline": true,
           "ticks": "outside",
           "zeroline": false
          }
         }
        },
        "width": 600,
        "xaxis": {
         "dtick": 5,
         "minor": {
          "dtick": 1,
          "tick0": 0
         },
         "range": [
          0.8,
          20.2
         ],
         "tick0": 0,
         "title": {
          "text": "level"
         }
        },
        "yaxis": {
         "dtick": 2,
         "minor": {
          "dtick": 1,
          "tick0": 0
         },
         "range": [
          12,
          22
         ],
         "tick0": 0,
         "title": {
          "text": "save difficulty class"
         }
        }
       }
      }
     },
     "metadata": {},
     "output_type": "display_data"
    }
   ],
   "source": [
    "# Plots save difficulty class for each class.\n",
    "# create figure\n",
    "fig = go.Figure(\n",
    "    layout=go.Layout(\n",
    "        template=tfb.FIG_TEMPLATE,\n",
    "        xaxis=dict(\n",
    "            title_text='level',\n",
    "            range=[0.8, 20.2],\n",
    "            tick0=0, dtick=5,\n",
    "            minor=dict(tick0=0, dtick=1),\n",
    "        ),\n",
    "        yaxis=dict(\n",
    "            title_text='save difficulty class',\n",
    "            range=[12, 22],\n",
    "            tick0=0, dtick=2,\n",
    "            minor=dict(tick0=0, dtick=1),\n",
    "        ),\n",
    "        legend=dict(\n",
    "            yanchor='bottom',  y=1.01,\n",
    "            xanchor='left', x=0.00,\n",
    "            bgcolor='rgba(0,0,0,0)',\n",
    "            orientation='h',\n",
    "            tracegroupgap=0,\n",
    "        )\n",
    "    )\n",
    ")\n",
    "\n",
    "# get PC data\n",
    "exclude_pcs = ['Barbarian','Fighter','Rogue']\n",
    "levels = list(range(1,21))\n",
    "for c in pcs:\n",
    "    if c in exclude_pcs: continue\n",
    "    pc = pcs[c]\n",
    "    dc = [pc.set_level(lvl).build().get_save_dc() for lvl in levels]\n",
    "    fig.add_trace(go.Scatter(\n",
    "        x=levels, \n",
    "        y=dc,\n",
    "        mode='lines+markers', \n",
    "        line=dict(color=PC_CLASSES[c]['color'], width=1),\n",
    "        marker=dict(color=PC_CLASSES[c]['color']),\n",
    "        name=c,\n",
    "        hovertemplate=\n",
    "                f'<b>{c}</b><br>'+\n",
    "                'level %{x:.0f}<br>'+\n",
    "                'difficulty class %{y:.0f}'+\n",
    "                '<extra></extra>'\n",
    "    ))\n",
    "\n",
    "# get PC data\n",
    "levels = list(range(1,21))\n",
    "dc_matrix = np.zeros([20,len(PC_CLASSES)])\n",
    "pc_names = list(pcs.keys())\n",
    "for i in range(len(pc_names)):\n",
    "    if c in exclude_pcs: continue\n",
    "    pc = pcs[pc_names[i]]\n",
    "    dc_matrix[:,i] = np.array([pc.set_level(lvl).build().get_save_dc() for lvl in levels])\n",
    "\n",
    "plot_data_and_fit(\n",
    "    fig, \n",
    "    levels, np.mean(dc_matrix, axis=1), \n",
    "    name='average',\n",
    "    legendgroup='average',\n",
    "    line=dict(color='black', dash='dash'),\n",
    "    hovertemplate=\n",
    "            f'<b>Average</b><br>'+\n",
    "            'level %{x:.0f}<br>'+\n",
    "            'difficulty class %{y:.1f}'+\n",
    "            '<extra></extra>',\n",
    "    print_coefficients=True,\n",
    ")\n",
    "\n",
    "# show figure\n",
    "fig.update_layout(width=600, height=500)\n",
    "fig.show(config=tfb.FIG_CONFIG)\n",
    "\n",
    "# save figures\n",
    "if SAVEFIGS:\n",
    "    fig.update_layout(autosize=True, width=None, height=None)\n",
    "    tfb.save_fig_html(fig, format='large', name=f'./fig-dc-vs-level-large', style='aspect-ratio:600/550')\n",
    "    tfb.save_fig_html(fig, format='small', name=f'./fig-dc-vs-level-small', style='aspect-ratio:600/550')"
   ]
  },
  {
   "cell_type": "code",
   "execution_count": 32,
   "metadata": {},
   "outputs": [
    {
     "name": "stdout",
     "output_type": "stream",
     "text": [
      "LVL >= 1: 0.58 + 0.00*LVL\n",
      "0.6316528884426162\n",
      "LVL >= 1: 0.57 + -0.00*LVL\n",
      "0.5231603791025918\n"
     ]
    },
    {
     "data": {
      "application/vnd.plotly.v1+json": {
       "config": {
        "autosizable": true,
        "displayModeBar": "hover",
        "displaylogo": false,
        "modeBarButtonsToRemove": [
         "select2d",
         "lasso2d",
         "zoom2d",
         "zoomIn2d",
         "zoomOut2d",
         "pan2d",
         "autoScale2d",
         "hoverClosestCartesian",
         "hoverCompareCartesian",
         "toggleSpikelines",
         "resetScale2d"
        ],
        "plotlyServerURL": "https://plot.ly",
        "responsive": true,
        "showAxisDragHandles": false,
        "toImageButtonOptions": {
         "filename": "tfb-plot",
         "format": "png",
         "height": 450,
         "scale": 2,
         "width": 600
        }
       },
       "data": [
        {
         "hovertemplate": "<b>Attacks</b><br>level %{x:.0f}<br>probability %{y:.1%}<extra></extra>",
         "legendgroup": "attacks",
         "line": {
          "color": "#1f77b4",
          "dash": "solid",
          "width": 1
         },
         "mode": "markers",
         "name": "attacks",
         "showlegend": false,
         "type": "scatter",
         "x": [
          1,
          2,
          3,
          4,
          5,
          6,
          7,
          8,
          9,
          10,
          11,
          12,
          13,
          14,
          15,
          16,
          17,
          18,
          19,
          20
         ],
         "y": [
          0.5977777777777779,
          0.5650234741784038,
          0.5644886363636363,
          0.5869918699186992,
          0.6166666666666667,
          0.5976960784313725,
          0.5959192439862543,
          0.6375000000000001,
          0.6621212121212121,
          0.6580357142857143,
          0.6415094339622641,
          0.6255813953488373,
          0.698913043478261,
          0.6863636363636364,
          0.6291666666666667,
          0.6151515151515152,
          0.663888888888889,
          0.6472222222222221,
          0.6775641025641024,
          0.6654761904761903
         ]
        },
        {
         "hoverinfo": "skip",
         "hovertemplate": "<b>Attacks</b><br>level %{x:.0f}<br>probability %{y:.1%}<extra></extra>",
         "legendgroup": "attacks",
         "line": {
          "color": "#1f77b4",
          "dash": "solid",
          "width": 1
         },
         "mode": "lines",
         "name": "attacks",
         "showlegend": true,
         "type": "scatter",
         "x": [
          1,
          2,
          3,
          4,
          5,
          6,
          7,
          8,
          9,
          10,
          11,
          12,
          13,
          14,
          15,
          16,
          17,
          18,
          19,
          20
         ],
         "y": [
          0.5850762854486066,
          0.5899790857637656,
          0.5948818860789244,
          0.5997846863940833,
          0.6046874867092422,
          0.6095902870244012,
          0.6144930873395601,
          0.619395887654719,
          0.6242986879698779,
          0.6292014882850369,
          0.6341042886001957,
          0.6390070889153546,
          0.6439098892305135,
          0.6488126895456725,
          0.6537154898608314,
          0.6586182901759903,
          0.6635210904911493,
          0.6684238908063082,
          0.673326691121467,
          0.6782294914366259
         ]
        },
        {
         "hovertemplate": "<b>Saving Throws</b><br>level %{x:.0f}<br>probability %{y:.1%}<extra></extra>",
         "legendgroup": "saving throws",
         "line": {
          "color": "#ff7f0e",
          "dash": "solid",
          "width": 1
         },
         "mode": "markers",
         "name": "saving throws",
         "showlegend": false,
         "type": "scatter",
         "x": [
          1,
          2,
          3,
          4,
          5,
          6,
          7,
          8,
          9,
          10,
          11,
          12,
          13,
          14,
          15,
          16,
          17,
          18,
          19,
          20
         ],
         "y": [
          0.5598765432098766,
          0.5510172143974961,
          0.5243371212121212,
          0.5276422764227643,
          0.5617400419287212,
          0.5549019607843138,
          0.5310996563573883,
          0.5609848484848485,
          0.5720959595959595,
          0.5136904761904761,
          0.5334905660377358,
          0.5118217054263566,
          0.531340579710145,
          0.5300505050505051,
          0.5302083333333334,
          0.49242424242424243,
          0.5027777777777778,
          0.46574074074074084,
          0.4032051282051283,
          0.5047619047619047
         ]
        },
        {
         "hoverinfo": "skip",
         "hovertemplate": "<b>Saving Throws</b><br>level %{x:.0f}<br>probability %{y:.1%}<extra></extra>",
         "legendgroup": "saving throws",
         "line": {
          "color": "#ff7f0e",
          "dash": "solid",
          "width": 1
         },
         "mode": "lines",
         "name": "saving throws",
         "showlegend": true,
         "type": "scatter",
         "x": [
          1,
          2,
          3,
          4,
          5,
          6,
          7,
          8,
          9,
          10,
          11,
          12,
          13,
          14,
          15,
          16,
          17,
          18,
          19,
          20
         ],
         "y": [
          0.5664708955492244,
          0.5619118938179999,
          0.5573528920867754,
          0.5527938903555509,
          0.5482348886243265,
          0.543675886893102,
          0.5391168851618774,
          0.5345578834306529,
          0.5299988816994284,
          0.525439879968204,
          0.5208808782369795,
          0.516321876505755,
          0.5117628747745305,
          0.507203873043306,
          0.5026448713120816,
          0.4980858695808571,
          0.49352686784963257,
          0.4889678661184081,
          0.4844088643871836,
          0.47984986265595914
         ]
        },
        {
         "hoverinfo": "skip",
         "line": {
          "color": "black",
          "dash": "dash"
         },
         "mode": "lines",
         "name": "baseline",
         "showlegend": false,
         "type": "scatter",
         "x": [
          1,
          20
         ],
         "y": [
          0.65,
          0.65
         ]
        }
       ],
       "layout": {
        "height": 450,
        "legend": {
         "bgcolor": "rgba(0,0,0,0)",
         "orientation": "v",
         "tracegroupgap": 0,
         "x": 0.01,
         "xanchor": "left",
         "y": 0.99,
         "yanchor": "top"
        },
        "template": {
         "layout": {
          "autosize": false,
          "font": {
           "family": "sans-serif",
           "size": 14
          },
          "hoverlabel": {
           "align": "left"
          },
          "hovermode": "closest",
          "margin": {
           "b": 55,
           "l": 60,
           "pad": 4,
           "r": 25,
           "t": 20
          },
          "template": {
           "data": {
            "bar": [
             {
              "error_x": {
               "color": "#2a3f5f"
              },
              "error_y": {
               "color": "#2a3f5f"
              },
              "marker": {
               "line": {
                "color": "white",
                "width": 0.5
               },
               "pattern": {
                "fillmode": "overlay",
                "size": 10,
                "solidity": 0.2
               }
              },
              "type": "bar"
             }
            ],
            "barpolar": [
             {
              "marker": {
               "line": {
                "color": "white",
                "width": 0.5
               },
               "pattern": {
                "fillmode": "overlay",
                "size": 10,
                "solidity": 0.2
               }
              },
              "type": "barpolar"
             }
            ],
            "carpet": [
             {
              "aaxis": {
               "endlinecolor": "#2a3f5f",
               "gridcolor": "#C8D4E3",
               "linecolor": "#C8D4E3",
               "minorgridcolor": "#C8D4E3",
               "startlinecolor": "#2a3f5f"
              },
              "baxis": {
               "endlinecolor": "#2a3f5f",
               "gridcolor": "#C8D4E3",
               "linecolor": "#C8D4E3",
               "minorgridcolor": "#C8D4E3",
               "startlinecolor": "#2a3f5f"
              },
              "type": "carpet"
             }
            ],
            "choropleth": [
             {
              "colorbar": {
               "outlinewidth": 0,
               "ticks": ""
              },
              "type": "choropleth"
             }
            ],
            "contour": [
             {
              "colorbar": {
               "outlinewidth": 0,
               "ticks": ""
              },
              "colorscale": [
               [
                0,
                "#0d0887"
               ],
               [
                0.1111111111111111,
                "#46039f"
               ],
               [
                0.2222222222222222,
                "#7201a8"
               ],
               [
                0.3333333333333333,
                "#9c179e"
               ],
               [
                0.4444444444444444,
                "#bd3786"
               ],
               [
                0.5555555555555556,
                "#d8576b"
               ],
               [
                0.6666666666666666,
                "#ed7953"
               ],
               [
                0.7777777777777778,
                "#fb9f3a"
               ],
               [
                0.8888888888888888,
                "#fdca26"
               ],
               [
                1,
                "#f0f921"
               ]
              ],
              "type": "contour"
             }
            ],
            "contourcarpet": [
             {
              "colorbar": {
               "outlinewidth": 0,
               "ticks": ""
              },
              "type": "contourcarpet"
             }
            ],
            "heatmap": [
             {
              "colorbar": {
               "outlinewidth": 0,
               "ticks": ""
              },
              "colorscale": [
               [
                0,
                "#0d0887"
               ],
               [
                0.1111111111111111,
                "#46039f"
               ],
               [
                0.2222222222222222,
                "#7201a8"
               ],
               [
                0.3333333333333333,
                "#9c179e"
               ],
               [
                0.4444444444444444,
                "#bd3786"
               ],
               [
                0.5555555555555556,
                "#d8576b"
               ],
               [
                0.6666666666666666,
                "#ed7953"
               ],
               [
                0.7777777777777778,
                "#fb9f3a"
               ],
               [
                0.8888888888888888,
                "#fdca26"
               ],
               [
                1,
                "#f0f921"
               ]
              ],
              "type": "heatmap"
             }
            ],
            "heatmapgl": [
             {
              "colorbar": {
               "outlinewidth": 0,
               "ticks": ""
              },
              "colorscale": [
               [
                0,
                "#0d0887"
               ],
               [
                0.1111111111111111,
                "#46039f"
               ],
               [
                0.2222222222222222,
                "#7201a8"
               ],
               [
                0.3333333333333333,
                "#9c179e"
               ],
               [
                0.4444444444444444,
                "#bd3786"
               ],
               [
                0.5555555555555556,
                "#d8576b"
               ],
               [
                0.6666666666666666,
                "#ed7953"
               ],
               [
                0.7777777777777778,
                "#fb9f3a"
               ],
               [
                0.8888888888888888,
                "#fdca26"
               ],
               [
                1,
                "#f0f921"
               ]
              ],
              "type": "heatmapgl"
             }
            ],
            "histogram": [
             {
              "marker": {
               "pattern": {
                "fillmode": "overlay",
                "size": 10,
                "solidity": 0.2
               }
              },
              "type": "histogram"
             }
            ],
            "histogram2d": [
             {
              "colorbar": {
               "outlinewidth": 0,
               "ticks": ""
              },
              "colorscale": [
               [
                0,
                "#0d0887"
               ],
               [
                0.1111111111111111,
                "#46039f"
               ],
               [
                0.2222222222222222,
                "#7201a8"
               ],
               [
                0.3333333333333333,
                "#9c179e"
               ],
               [
                0.4444444444444444,
                "#bd3786"
               ],
               [
                0.5555555555555556,
                "#d8576b"
               ],
               [
                0.6666666666666666,
                "#ed7953"
               ],
               [
                0.7777777777777778,
                "#fb9f3a"
               ],
               [
                0.8888888888888888,
                "#fdca26"
               ],
               [
                1,
                "#f0f921"
               ]
              ],
              "type": "histogram2d"
             }
            ],
            "histogram2dcontour": [
             {
              "colorbar": {
               "outlinewidth": 0,
               "ticks": ""
              },
              "colorscale": [
               [
                0,
                "#0d0887"
               ],
               [
                0.1111111111111111,
                "#46039f"
               ],
               [
                0.2222222222222222,
                "#7201a8"
               ],
               [
                0.3333333333333333,
                "#9c179e"
               ],
               [
                0.4444444444444444,
                "#bd3786"
               ],
               [
                0.5555555555555556,
                "#d8576b"
               ],
               [
                0.6666666666666666,
                "#ed7953"
               ],
               [
                0.7777777777777778,
                "#fb9f3a"
               ],
               [
                0.8888888888888888,
                "#fdca26"
               ],
               [
                1,
                "#f0f921"
               ]
              ],
              "type": "histogram2dcontour"
             }
            ],
            "mesh3d": [
             {
              "colorbar": {
               "outlinewidth": 0,
               "ticks": ""
              },
              "type": "mesh3d"
             }
            ],
            "parcoords": [
             {
              "line": {
               "colorbar": {
                "outlinewidth": 0,
                "ticks": ""
               }
              },
              "type": "parcoords"
             }
            ],
            "pie": [
             {
              "automargin": true,
              "type": "pie"
             }
            ],
            "scatter": [
             {
              "fillpattern": {
               "fillmode": "overlay",
               "size": 10,
               "solidity": 0.2
              },
              "type": "scatter"
             }
            ],
            "scatter3d": [
             {
              "line": {
               "colorbar": {
                "outlinewidth": 0,
                "ticks": ""
               }
              },
              "marker": {
               "colorbar": {
                "outlinewidth": 0,
                "ticks": ""
               }
              },
              "type": "scatter3d"
             }
            ],
            "scattercarpet": [
             {
              "marker": {
               "colorbar": {
                "outlinewidth": 0,
                "ticks": ""
               }
              },
              "type": "scattercarpet"
             }
            ],
            "scattergeo": [
             {
              "marker": {
               "colorbar": {
                "outlinewidth": 0,
                "ticks": ""
               }
              },
              "type": "scattergeo"
             }
            ],
            "scattergl": [
             {
              "marker": {
               "colorbar": {
                "outlinewidth": 0,
                "ticks": ""
               }
              },
              "type": "scattergl"
             }
            ],
            "scattermapbox": [
             {
              "marker": {
               "colorbar": {
                "outlinewidth": 0,
                "ticks": ""
               }
              },
              "type": "scattermapbox"
             }
            ],
            "scatterpolar": [
             {
              "marker": {
               "colorbar": {
                "outlinewidth": 0,
                "ticks": ""
               }
              },
              "type": "scatterpolar"
             }
            ],
            "scatterpolargl": [
             {
              "marker": {
               "colorbar": {
                "outlinewidth": 0,
                "ticks": ""
               }
              },
              "type": "scatterpolargl"
             }
            ],
            "scatterternary": [
             {
              "marker": {
               "colorbar": {
                "outlinewidth": 0,
                "ticks": ""
               }
              },
              "type": "scatterternary"
             }
            ],
            "surface": [
             {
              "colorbar": {
               "outlinewidth": 0,
               "ticks": ""
              },
              "colorscale": [
               [
                0,
                "#0d0887"
               ],
               [
                0.1111111111111111,
                "#46039f"
               ],
               [
                0.2222222222222222,
                "#7201a8"
               ],
               [
                0.3333333333333333,
                "#9c179e"
               ],
               [
                0.4444444444444444,
                "#bd3786"
               ],
               [
                0.5555555555555556,
                "#d8576b"
               ],
               [
                0.6666666666666666,
                "#ed7953"
               ],
               [
                0.7777777777777778,
                "#fb9f3a"
               ],
               [
                0.8888888888888888,
                "#fdca26"
               ],
               [
                1,
                "#f0f921"
               ]
              ],
              "type": "surface"
             }
            ],
            "table": [
             {
              "cells": {
               "fill": {
                "color": "#EBF0F8"
               },
               "line": {
                "color": "white"
               }
              },
              "header": {
               "fill": {
                "color": "#C8D4E3"
               },
               "line": {
                "color": "white"
               }
              },
              "type": "table"
             }
            ]
           },
           "layout": {
            "annotationdefaults": {
             "arrowcolor": "#2a3f5f",
             "arrowhead": 0,
             "arrowwidth": 1
            },
            "autotypenumbers": "strict",
            "coloraxis": {
             "colorbar": {
              "outlinewidth": 0,
              "ticks": ""
             }
            },
            "colorscale": {
             "diverging": [
              [
               0,
               "#8e0152"
              ],
              [
               0.1,
               "#c51b7d"
              ],
              [
               0.2,
               "#de77ae"
              ],
              [
               0.3,
               "#f1b6da"
              ],
              [
               0.4,
               "#fde0ef"
              ],
              [
               0.5,
               "#f7f7f7"
              ],
              [
               0.6,
               "#e6f5d0"
              ],
              [
               0.7,
               "#b8e186"
              ],
              [
               0.8,
               "#7fbc41"
              ],
              [
               0.9,
               "#4d9221"
              ],
              [
               1,
               "#276419"
              ]
             ],
             "sequential": [
              [
               0,
               "#0d0887"
              ],
              [
               0.1111111111111111,
               "#46039f"
              ],
              [
               0.2222222222222222,
               "#7201a8"
              ],
              [
               0.3333333333333333,
               "#9c179e"
              ],
              [
               0.4444444444444444,
               "#bd3786"
              ],
              [
               0.5555555555555556,
               "#d8576b"
              ],
              [
               0.6666666666666666,
               "#ed7953"
              ],
              [
               0.7777777777777778,
               "#fb9f3a"
              ],
              [
               0.8888888888888888,
               "#fdca26"
              ],
              [
               1,
               "#f0f921"
              ]
             ],
             "sequentialminus": [
              [
               0,
               "#0d0887"
              ],
              [
               0.1111111111111111,
               "#46039f"
              ],
              [
               0.2222222222222222,
               "#7201a8"
              ],
              [
               0.3333333333333333,
               "#9c179e"
              ],
              [
               0.4444444444444444,
               "#bd3786"
              ],
              [
               0.5555555555555556,
               "#d8576b"
              ],
              [
               0.6666666666666666,
               "#ed7953"
              ],
              [
               0.7777777777777778,
               "#fb9f3a"
              ],
              [
               0.8888888888888888,
               "#fdca26"
              ],
              [
               1,
               "#f0f921"
              ]
             ]
            },
            "colorway": [
             "#636efa",
             "#EF553B",
             "#00cc96",
             "#ab63fa",
             "#FFA15A",
             "#19d3f3",
             "#FF6692",
             "#B6E880",
             "#FF97FF",
             "#FECB52"
            ],
            "font": {
             "color": "#2a3f5f"
            },
            "geo": {
             "bgcolor": "white",
             "lakecolor": "white",
             "landcolor": "white",
             "showlakes": true,
             "showland": true,
             "subunitcolor": "#C8D4E3"
            },
            "hoverlabel": {
             "align": "left"
            },
            "hovermode": "closest",
            "mapbox": {
             "style": "light"
            },
            "paper_bgcolor": "white",
            "plot_bgcolor": "white",
            "polar": {
             "angularaxis": {
              "gridcolor": "#EBF0F8",
              "linecolor": "#EBF0F8",
              "ticks": ""
             },
             "bgcolor": "white",
             "radialaxis": {
              "gridcolor": "#EBF0F8",
              "linecolor": "#EBF0F8",
              "ticks": ""
             }
            },
            "scene": {
             "xaxis": {
              "backgroundcolor": "white",
              "gridcolor": "#DFE8F3",
              "gridwidth": 2,
              "linecolor": "#EBF0F8",
              "showbackground": true,
              "ticks": "",
              "zerolinecolor": "#EBF0F8"
             },
             "yaxis": {
              "backgroundcolor": "white",
              "gridcolor": "#DFE8F3",
              "gridwidth": 2,
              "linecolor": "#EBF0F8",
              "showbackground": true,
              "ticks": "",
              "zerolinecolor": "#EBF0F8"
             },
             "zaxis": {
              "backgroundcolor": "white",
              "gridcolor": "#DFE8F3",
              "gridwidth": 2,
              "linecolor": "#EBF0F8",
              "showbackground": true,
              "ticks": "",
              "zerolinecolor": "#EBF0F8"
             }
            },
            "shapedefaults": {
             "line": {
              "color": "#2a3f5f"
             }
            },
            "ternary": {
             "aaxis": {
              "gridcolor": "#DFE8F3",
              "linecolor": "#A2B1C6",
              "ticks": ""
             },
             "baxis": {
              "gridcolor": "#DFE8F3",
              "linecolor": "#A2B1C6",
              "ticks": ""
             },
             "bgcolor": "white",
             "caxis": {
              "gridcolor": "#DFE8F3",
              "linecolor": "#A2B1C6",
              "ticks": ""
             }
            },
            "title": {
             "x": 0.05
            },
            "xaxis": {
             "automargin": true,
             "gridcolor": "#EBF0F8",
             "linecolor": "#EBF0F8",
             "ticks": "",
             "title": {
              "standoff": 15
             },
             "zerolinecolor": "#EBF0F8",
             "zerolinewidth": 2
            },
            "yaxis": {
             "automargin": true,
             "gridcolor": "#EBF0F8",
             "linecolor": "#EBF0F8",
             "ticks": "",
             "title": {
              "standoff": 15
             },
             "zerolinecolor": "#EBF0F8",
             "zerolinewidth": 2
            }
           }
          },
          "xaxis": {
           "automargin": false,
           "linecolor": "#444",
           "linewidth": 2,
           "minor": {
            "tickmode": "linear",
            "ticks": "outside"
           },
           "mirror": true,
           "showline": true,
           "tickmode": "linear",
           "ticks": "outside",
           "zeroline": false
          },
          "yaxis": {
           "automargin": false,
           "linecolor": "#444",
           "linewidth": 2,
           "minor": {
            "tickmode": "linear",
            "ticks": "outside"
           },
           "mirror": true,
           "showline": true,
           "ticks": "outside",
           "zeroline": false
          }
         }
        },
        "width": 600,
        "xaxis": {
         "dtick": 5,
         "minor": {
          "dtick": 1,
          "tick0": 0
         },
         "range": [
          0.8,
          20.2
         ],
         "tick0": 0,
         "title": {
          "text": "level"
         }
        },
        "yaxis": {
         "dtick": 0.2,
         "minor": {
          "dtick": 0.1,
          "tick0": 0
         },
         "range": [
          0,
          1
         ],
         "tick0": 0,
         "title": {
          "text": "probability"
         }
        }
       }
      }
     },
     "metadata": {},
     "output_type": "display_data"
    }
   ],
   "source": [
    "# Plots probability of a PC hitting a monster with an attack or a monster failing a saving throw.\n",
    "# create figure\n",
    "fig = go.Figure(\n",
    "    layout=go.Layout(\n",
    "        template=tfb.FIG_TEMPLATE,\n",
    "        xaxis=dict(\n",
    "            title_text='level',\n",
    "            range=[0.8, 20.2],\n",
    "            tick0=0, dtick=5,\n",
    "            minor=dict(tick0=0, dtick=1),\n",
    "        ),\n",
    "        yaxis=dict(\n",
    "            title_text='probability',\n",
    "            range=[0, 1],\n",
    "            tick0=0, dtick=0.2,\n",
    "            minor=dict(tick0=0, dtick=0.1),\n",
    "        ),\n",
    "        legend=dict(\n",
    "            yanchor='top',  y=0.99,\n",
    "            xanchor='left', x=0.01,\n",
    "            bgcolor='rgba(0,0,0,0)',\n",
    "            orientation='v',\n",
    "            tracegroupgap=0,\n",
    "        )\n",
    "    )\n",
    ")\n",
    "\n",
    "# monster stats\n",
    "dfM = pd.read_csv('../../assets/data/monsters.csv')\n",
    "dfM['unadj AC'] = dfM.apply(lambda row: unadjusted_armor_class(row), axis=1)\n",
    "dfM['adj SB'] = dfM.apply(lambda row: average_save_bonus(row), axis=1)\n",
    "dfM['adj SB'] = dfM['adj SB'] + dfM.apply(lambda row: 4 if 'magic resistance' in row['AC adjustments'] else 0, axis=1)\n",
    "dfM['adj DC'] = dfM['adj AB'] + 8\n",
    "dfM = dfM[['CR','adj HP','AC','adj AC','adj SB','adj DPR','adj AB','adj DC','unadj AC']].groupby(['CR']).mean().reset_index()\n",
    "dfM = dfM[dfM['CR'].between(1, 20)]\n",
    "dfM.sort_values(by='CR', inplace=True)\n",
    "m_ac  = dfM['unadj AC'].to_numpy()\n",
    "m_sb  = dfM['adj SB'].to_numpy()\n",
    "\n",
    "# player character data\n",
    "levels = list(range(1,21))\n",
    "ab_matrix = []\n",
    "dc_matrix = []\n",
    "exclude_pcs = ['Barbarian','Fighter','Rogue']\n",
    "for c in pcs:\n",
    "    pc = pcs[c]\n",
    "    ab_matrix.append([pc.set_level(lvl).build().get_attack_bonus() for lvl in levels])\n",
    "    if c not in exclude_pcs:\n",
    "        dc_matrix.append([pc.set_level(lvl).build().get_save_dc() for lvl in levels])\n",
    "p_ab = np.mean(np.array(ab_matrix), axis=0)\n",
    "p_dc = np.mean(np.array(dc_matrix), axis=0)\n",
    "\n",
    "# attacks\n",
    "p_hit = np.array([attack_hit_crit_prob(ac, ab) for ac, ab in zip(m_ac, p_ab)])\n",
    "plot_data_and_fit(\n",
    "    fig, \n",
    "    levels, p_hit,\n",
    "    name='attacks',\n",
    "    legendgroup='attacks',\n",
    "    line=dict(color=COLOR_LIST[0], dash='solid', width=1),\n",
    "    hovertemplate=\n",
    "            f'<b>Attacks</b><br>'+\n",
    "            'level %{x:.0f}<br>'+\n",
    "            'probability %{y:.1%}'+\n",
    "            '<extra></extra>',\n",
    "    print_coefficients=True,\n",
    ")\n",
    "print(p_hit.mean())\n",
    "\n",
    "\n",
    "# saving throws\n",
    "p_fail = np.array([save_fail_prob(sb, dc) for sb, dc in zip(m_sb, p_dc)])\n",
    "plot_data_and_fit(\n",
    "    fig, \n",
    "    levels, p_fail,\n",
    "    name='saving throws',\n",
    "    legendgroup='saving throws',\n",
    "    line=dict(color=COLOR_LIST[1], dash='solid', width=1),\n",
    "    hovertemplate=\n",
    "            f'<b>Saving Throws</b><br>'+\n",
    "            'level %{x:.0f}<br>'+\n",
    "            'probability %{y:.1%}'+\n",
    "            '<extra></extra>',\n",
    "    print_coefficients=True,\n",
    ")\n",
    "print(p_fail.mean())\n",
    "\n",
    "fig.add_trace(go.Scatter(\n",
    "    x=[1,20], \n",
    "    y=[0.65,0.65],\n",
    "    mode='lines', \n",
    "    name='baseline',\n",
    "    line=dict(color='black', dash='dash'),\n",
    "    hoverinfo='skip',\n",
    "    showlegend=False,\n",
    "))\n",
    "\n",
    "# show figure\n",
    "fig.update_layout(width=600, height=450)\n",
    "fig.show(config=tfb.FIG_CONFIG)\n",
    "\n",
    "# save figures\n",
    "if SAVEFIGS:\n",
    "    fig.update_layout(autosize=True, width=None, height=None)\n",
    "    tfb.save_fig_html(fig, format='large', name=f'./fig-hit-fail-probabilities-large')\n",
    "    tfb.save_fig_html(fig, format='small', name=f'./fig-hit-fail-probabilities-small')"
   ]
  },
  {
   "cell_type": "code",
   "execution_count": 171,
   "metadata": {},
   "outputs": [
    {
     "name": "stdout",
     "output_type": "stream",
     "text": [
      "LVL >= 1: 7.09 + 2.20*LVL\n"
     ]
    },
    {
     "data": {
      "application/vnd.plotly.v1+json": {
       "config": {
        "autosizable": true,
        "displayModeBar": "hover",
        "displaylogo": false,
        "modeBarButtonsToRemove": [
         "select2d",
         "lasso2d",
         "zoom2d",
         "zoomIn2d",
         "zoomOut2d",
         "pan2d",
         "autoScale2d",
         "hoverClosestCartesian",
         "hoverCompareCartesian",
         "toggleSpikelines",
         "resetScale2d"
        ],
        "plotlyServerURL": "https://plot.ly",
        "responsive": true,
        "showAxisDragHandles": false,
        "toImageButtonOptions": {
         "filename": "tfb-plot",
         "format": "png",
         "height": 450,
         "scale": 2,
         "width": 600
        }
       },
       "data": [
        {
         "hovertemplate": "<b>Barbarian</b><br>level %{x}<br>damage per round %{y:.1f}<extra></extra>",
         "line": {
          "color": "#E7623E",
          "width": 1
         },
         "marker": {
          "color": "#E7623E"
         },
         "mode": "lines+markers",
         "name": "Barbarian",
         "type": "scatter",
         "unselected": {
          "marker": {
           "opacity": 0
          }
         },
         "x": [
          1,
          2,
          3,
          4,
          5,
          6,
          7,
          8,
          9,
          10,
          11,
          12,
          13,
          14,
          15,
          16,
          17,
          18,
          19,
          20
         ],
         "y": [
          10.166666666666666,
          10.166666666666666,
          10.25,
          11.4,
          22.714285714285715,
          23.4,
          23.4,
          25.4,
          28.6,
          28.272727272727273,
          28.6,
          30.294117647058822,
          32,
          32,
          32.05263157894737,
          33.73684210526316,
          37,
          37,
          37,
          41
         ]
        },
        {
         "hovertemplate": "<b>Bard</b><br>level %{x}<br>damage per round %{y:.1f}<extra></extra>",
         "line": {
          "color": "#AB6DAC",
          "width": 1
         },
         "marker": {
          "color": "#AB6DAC"
         },
         "mode": "lines+markers",
         "name": "Bard",
         "type": "scatter",
         "unselected": {
          "marker": {
           "opacity": 0
          }
         },
         "x": [
          1,
          2,
          3,
          4,
          5,
          6,
          7,
          8,
          9,
          10,
          11,
          12,
          13,
          14,
          15,
          16,
          17,
          18,
          19,
          20
         ],
         "y": [
          7.722222222222222,
          8.083333333333334,
          9.25,
          10.4,
          17,
          18.2,
          19.525,
          20.85,
          24.225,
          25.15909090909091,
          31.75,
          33.64705882352941,
          36.05555555555556,
          36.05555555555556,
          38.5,
          38.5,
          45.473684210526315,
          45.473684210526315,
          48.638888888888886,
          48.023809523809526
         ]
        },
        {
         "hovertemplate": "<b>Cleric</b><br>level %{x}<br>damage per round %{y:.1f}<extra></extra>",
         "line": {
          "color": "#91A1B2",
          "width": 1
         },
         "marker": {
          "color": "#91A1B2"
         },
         "mode": "lines+markers",
         "name": "Cleric",
         "type": "scatter",
         "unselected": {
          "marker": {
           "opacity": 0
          }
         },
         "x": [
          1,
          2,
          3,
          4,
          5,
          6,
          7,
          8,
          9,
          10,
          11,
          12,
          13,
          14,
          15,
          16,
          17,
          18,
          19,
          20
         ],
         "y": [
          7.722222222222222,
          8.083333333333334,
          9.25,
          10.4,
          17,
          18.2,
          19.525,
          23.85,
          26.725,
          27.65909090909091,
          34.5,
          36,
          38.27777777777778,
          38.27777777777778,
          40.60526315789474,
          40.60526315789474,
          47.31578947368421,
          47.31578947368421,
          50.02777777777778,
          49.69047619047619
         ]
        },
        {
         "hovertemplate": "<b>Druid</b><br>level %{x}<br>damage per round %{y:.1f}<extra></extra>",
         "line": {
          "color": "#7A853B",
          "width": 1
         },
         "marker": {
          "color": "#7A853B"
         },
         "mode": "lines+markers",
         "name": "Druid",
         "type": "scatter",
         "unselected": {
          "marker": {
           "opacity": 0
          }
         },
         "x": [
          1,
          2,
          3,
          4,
          5,
          6,
          7,
          8,
          9,
          10,
          11,
          12,
          13,
          14,
          15,
          16,
          17,
          18,
          19,
          20
         ],
         "y": [
          7.722222222222222,
          8.083333333333334,
          9.25,
          10.4,
          17,
          18.2,
          19.525,
          20.85,
          24.225,
          25.15909090909091,
          31.75,
          33.64705882352941,
          36.05555555555556,
          36.05555555555556,
          38.5,
          38.5,
          45.473684210526315,
          45.473684210526315,
          48.638888888888886,
          48.023809523809526
         ]
        },
        {
         "hovertemplate": "<b>Fighter</b><br>level %{x}<br>damage per round %{y:.1f}<extra></extra>",
         "line": {
          "color": "#7F513E",
          "width": 1
         },
         "marker": {
          "color": "#7F513E"
         },
         "mode": "lines+markers",
         "name": "Fighter",
         "type": "scatter",
         "unselected": {
          "marker": {
           "opacity": 0
          }
         },
         "x": [
          1,
          2,
          3,
          4,
          5,
          6,
          7,
          8,
          9,
          10,
          11,
          12,
          13,
          14,
          15,
          16,
          17,
          18,
          19,
          20
         ],
         "y": [
          10,
          11.666666666666666,
          11.25,
          12.65,
          25.142857142857142,
          27.6,
          27.6,
          27.6,
          27.6,
          27.272727272727273,
          41.4,
          42.35294117647059,
          42,
          42,
          41.68421052631579,
          41.68421052631579,
          47.36842105263158,
          47.36842105263158,
          48,
          61.714285714285715
         ]
        },
        {
         "hovertemplate": "<b>Monk</b><br>level %{x}<br>damage per round %{y:.1f}<extra></extra>",
         "line": {
          "color": "#51A5C5",
          "width": 1
         },
         "marker": {
          "color": "#51A5C5"
         },
         "mode": "lines+markers",
         "name": "Monk",
         "type": "scatter",
         "unselected": {
          "marker": {
           "opacity": 0
          }
         },
         "x": [
          1,
          2,
          3,
          4,
          5,
          6,
          7,
          8,
          9,
          10,
          11,
          12,
          13,
          14,
          15,
          16,
          17,
          18,
          19,
          20
         ],
         "y": [
          12,
          13.833333333333334,
          14.0625,
          17.9,
          27.857142857142858,
          28.875,
          29.25,
          29.625,
          30,
          30,
          34,
          38,
          38,
          38,
          38,
          38,
          42,
          32.05263157894737,
          31.5,
          31.5
         ]
        },
        {
         "hovertemplate": "<b>Paladin</b><br>level %{x}<br>damage per round %{y:.1f}<extra></extra>",
         "line": {
          "color": "#B59E54",
          "width": 1
         },
         "marker": {
          "color": "#B59E54"
         },
         "mode": "lines+markers",
         "name": "Paladin",
         "type": "scatter",
         "unselected": {
          "marker": {
           "opacity": 0
          }
         },
         "x": [
          1,
          2,
          3,
          4,
          5,
          6,
          7,
          8,
          9,
          10,
          11,
          12,
          13,
          14,
          15,
          16,
          17,
          18,
          19,
          20
         ],
         "y": [
          10,
          11.5,
          11.6875,
          13.025,
          27.357142857142858,
          27.625,
          28.975,
          30.975,
          34.25,
          33.31818181818182,
          45.225,
          47.38235294117647,
          49.083333333333336,
          49.083333333333336,
          50.36842105263158,
          50.36842105263158,
          55.86842105263158,
          55.86842105263158,
          59.94444444444444,
          56.095238095238095
         ]
        },
        {
         "hovertemplate": "<b>Ranger</b><br>level %{x}<br>damage per round %{y:.1f}<extra></extra>",
         "line": {
          "color": "#507F62",
          "width": 1
         },
         "marker": {
          "color": "#507F62"
         },
         "mode": "lines+markers",
         "name": "Ranger",
         "type": "scatter",
         "unselected": {
          "marker": {
           "opacity": 0
          }
         },
         "x": [
          1,
          2,
          3,
          4,
          5,
          6,
          7,
          8,
          9,
          10,
          11,
          12,
          13,
          14,
          15,
          16,
          17,
          18,
          19,
          20
         ],
         "y": [
          7.5,
          9,
          9.1875,
          10.525,
          21.571428571428573,
          21.8,
          22.85,
          24.85,
          28.35,
          27.5,
          30.1,
          32.05882352941177,
          33.583333333333336,
          33.583333333333336,
          34.94736842105263,
          34.94736842105263,
          39.973684210526315,
          39.973684210526315,
          44.19444444444444,
          40.595238095238095
         ]
        },
        {
         "hovertemplate": "<b>Rogue</b><br>level %{x}<br>damage per round %{y:.1f}<extra></extra>",
         "line": {
          "color": "#555752",
          "width": 1
         },
         "marker": {
          "color": "#555752"
         },
         "mode": "lines+markers",
         "name": "Rogue",
         "type": "scatter",
         "unselected": {
          "marker": {
           "opacity": 0
          }
         },
         "x": [
          1,
          2,
          3,
          4,
          5,
          6,
          7,
          8,
          9,
          10,
          11,
          12,
          13,
          14,
          15,
          16,
          17,
          18,
          19,
          20
         ],
         "y": [
          10,
          10,
          13.5,
          14.5,
          18,
          18,
          21.5,
          22.5,
          26,
          26,
          29.5,
          29.5,
          33,
          33,
          36.5,
          36.5,
          40,
          40,
          43.5,
          43.5
         ]
        },
        {
         "hovertemplate": "<b>Sorcerer</b><br>level %{x}<br>damage per round %{y:.1f}<extra></extra>",
         "line": {
          "color": "#992E2E",
          "width": 1
         },
         "marker": {
          "color": "#992E2E"
         },
         "mode": "lines+markers",
         "name": "Sorcerer",
         "type": "scatter",
         "unselected": {
          "marker": {
           "opacity": 0
          }
         },
         "x": [
          1,
          2,
          3,
          4,
          5,
          6,
          7,
          8,
          9,
          10,
          11,
          12,
          13,
          14,
          15,
          16,
          17,
          18,
          19,
          20
         ],
         "y": [
          7.361111111111111,
          8.083333333333334,
          9.5625,
          10.775,
          18,
          19.525,
          21.575,
          22.9,
          26.275,
          27.34090909090909,
          33.45,
          36.470588235294116,
          39.02777777777778,
          39.833333333333336,
          42.078947368421055,
          42.078947368421055,
          47.21052631578947,
          47.21052631578947,
          50.47222222222222,
          50.19047619047619
         ]
        },
        {
         "hovertemplate": "<b>Warlock</b><br>level %{x}<br>damage per round %{y:.1f}<extra></extra>",
         "line": {
          "color": "#7B469B",
          "width": 1
         },
         "marker": {
          "color": "#7B469B"
         },
         "mode": "lines+markers",
         "name": "Warlock",
         "type": "scatter",
         "unselected": {
          "marker": {
           "opacity": 0
          }
         },
         "x": [
          1,
          2,
          3,
          4,
          5,
          6,
          7,
          8,
          9,
          10,
          11,
          12,
          13,
          14,
          15,
          16,
          17,
          18,
          19,
          20
         ],
         "y": [
          9.333333333333334,
          10.166666666666666,
          11.625,
          12.95,
          23.571428571428573,
          23.8,
          25.45,
          26.85,
          31.2,
          30.272727272727273,
          43.875,
          46.05882352941177,
          47.77777777777778,
          47.77777777777778,
          49.60526315789474,
          49.60526315789474,
          58.13157894736842,
          58.13157894736842,
          58.30555555555556,
          57.214285714285715
         ]
        },
        {
         "hovertemplate": "<b>Wizard</b><br>level %{x}<br>damage per round %{y:.1f}<extra></extra>",
         "line": {
          "color": "#2A50A1",
          "width": 1
         },
         "marker": {
          "color": "#2A50A1"
         },
         "mode": "lines+markers",
         "name": "Wizard",
         "type": "scatter",
         "unselected": {
          "marker": {
           "opacity": 0
          }
         },
         "x": [
          1,
          2,
          3,
          4,
          5,
          6,
          7,
          8,
          9,
          10,
          11,
          12,
          13,
          14,
          15,
          16,
          17,
          18,
          19,
          20
         ],
         "y": [
          7.722222222222222,
          8.083333333333334,
          9.520833333333334,
          10.725,
          18,
          19.25,
          20.575,
          21.9,
          25.625,
          26.431818181818183,
          33.15,
          35.294117647058826,
          37.94444444444444,
          37.94444444444444,
          41.026315789473685,
          41.026315789473685,
          46.44736842105263,
          46.44736842105263,
          50.47222222222222,
          49.595238095238095
         ]
        },
        {
         "hovertemplate": "<b>Average</b><br>level %{x:.0f}<br>damage per round %{y:.1f}<extra></extra>",
         "legendgroup": "average",
         "line": {
          "color": "black",
          "dash": "dash"
         },
         "mode": "markers",
         "name": "average",
         "showlegend": false,
         "type": "scatter",
         "x": [
          1,
          2,
          3,
          4,
          5,
          6,
          7,
          8,
          9,
          10,
          11,
          12,
          13,
          14,
          15,
          16,
          17,
          18,
          19,
          20
         ],
         "y": [
          8.9375,
          9.729166666666666,
          10.699652777777779,
          12.137500000000001,
          21.101190476190478,
          22.039583333333336,
          23.3125,
          24.84583333333333,
          27.756249999999998,
          27.8655303030303,
          34.775,
          36.72549019607843,
          38.567129629629626,
          38.63425925925926,
          40.32236842105263,
          40.46271929824562,
          46.021929824561404,
          45.19298245614035,
          47.557870370370374,
          48.095238095238095
         ]
        },
        {
         "hoverinfo": "skip",
         "hovertemplate": "<b>Average</b><br>level %{x:.0f}<br>damage per round %{y:.1f}<extra></extra>",
         "legendgroup": "average",
         "line": {
          "color": "black",
          "dash": "dash"
         },
         "mode": "lines",
         "name": "average",
         "showlegend": true,
         "type": "scatter",
         "x": [
          1,
          2,
          3,
          4,
          5,
          6,
          7,
          8,
          9,
          10,
          11,
          12,
          13,
          14,
          15,
          16,
          17,
          18,
          19,
          20
         ],
         "y": [
          9.294839085753932,
          11.499485994837244,
          13.704132903920556,
          15.90877981300387,
          18.113426722087183,
          20.318073631170495,
          22.522720540253808,
          24.727367449337123,
          26.93201435842043,
          29.136661267503747,
          31.341308176587063,
          33.54595508567037,
          35.75060199475369,
          37.955248903837,
          40.15989581292031,
          42.36454272200363,
          44.56918963108694,
          46.77383654017025,
          48.97848344925357,
          51.183130358336875
         ]
        }
       ],
       "layout": {
        "height": 500,
        "legend": {
         "bgcolor": "rgba(0,0,0,0)",
         "orientation": "h",
         "tracegroupgap": 0,
         "x": 0.01,
         "xanchor": "left",
         "y": 1.01,
         "yanchor": "bottom"
        },
        "template": {
         "layout": {
          "autosize": false,
          "font": {
           "family": "sans-serif",
           "size": 14
          },
          "hoverlabel": {
           "align": "left"
          },
          "hovermode": "closest",
          "margin": {
           "b": 55,
           "l": 60,
           "pad": 4,
           "r": 25,
           "t": 20
          },
          "template": {
           "data": {
            "bar": [
             {
              "error_x": {
               "color": "#2a3f5f"
              },
              "error_y": {
               "color": "#2a3f5f"
              },
              "marker": {
               "line": {
                "color": "white",
                "width": 0.5
               },
               "pattern": {
                "fillmode": "overlay",
                "size": 10,
                "solidity": 0.2
               }
              },
              "type": "bar"
             }
            ],
            "barpolar": [
             {
              "marker": {
               "line": {
                "color": "white",
                "width": 0.5
               },
               "pattern": {
                "fillmode": "overlay",
                "size": 10,
                "solidity": 0.2
               }
              },
              "type": "barpolar"
             }
            ],
            "carpet": [
             {
              "aaxis": {
               "endlinecolor": "#2a3f5f",
               "gridcolor": "#C8D4E3",
               "linecolor": "#C8D4E3",
               "minorgridcolor": "#C8D4E3",
               "startlinecolor": "#2a3f5f"
              },
              "baxis": {
               "endlinecolor": "#2a3f5f",
               "gridcolor": "#C8D4E3",
               "linecolor": "#C8D4E3",
               "minorgridcolor": "#C8D4E3",
               "startlinecolor": "#2a3f5f"
              },
              "type": "carpet"
             }
            ],
            "choropleth": [
             {
              "colorbar": {
               "outlinewidth": 0,
               "ticks": ""
              },
              "type": "choropleth"
             }
            ],
            "contour": [
             {
              "colorbar": {
               "outlinewidth": 0,
               "ticks": ""
              },
              "colorscale": [
               [
                0,
                "#0d0887"
               ],
               [
                0.1111111111111111,
                "#46039f"
               ],
               [
                0.2222222222222222,
                "#7201a8"
               ],
               [
                0.3333333333333333,
                "#9c179e"
               ],
               [
                0.4444444444444444,
                "#bd3786"
               ],
               [
                0.5555555555555556,
                "#d8576b"
               ],
               [
                0.6666666666666666,
                "#ed7953"
               ],
               [
                0.7777777777777778,
                "#fb9f3a"
               ],
               [
                0.8888888888888888,
                "#fdca26"
               ],
               [
                1,
                "#f0f921"
               ]
              ],
              "type": "contour"
             }
            ],
            "contourcarpet": [
             {
              "colorbar": {
               "outlinewidth": 0,
               "ticks": ""
              },
              "type": "contourcarpet"
             }
            ],
            "heatmap": [
             {
              "colorbar": {
               "outlinewidth": 0,
               "ticks": ""
              },
              "colorscale": [
               [
                0,
                "#0d0887"
               ],
               [
                0.1111111111111111,
                "#46039f"
               ],
               [
                0.2222222222222222,
                "#7201a8"
               ],
               [
                0.3333333333333333,
                "#9c179e"
               ],
               [
                0.4444444444444444,
                "#bd3786"
               ],
               [
                0.5555555555555556,
                "#d8576b"
               ],
               [
                0.6666666666666666,
                "#ed7953"
               ],
               [
                0.7777777777777778,
                "#fb9f3a"
               ],
               [
                0.8888888888888888,
                "#fdca26"
               ],
               [
                1,
                "#f0f921"
               ]
              ],
              "type": "heatmap"
             }
            ],
            "heatmapgl": [
             {
              "colorbar": {
               "outlinewidth": 0,
               "ticks": ""
              },
              "colorscale": [
               [
                0,
                "#0d0887"
               ],
               [
                0.1111111111111111,
                "#46039f"
               ],
               [
                0.2222222222222222,
                "#7201a8"
               ],
               [
                0.3333333333333333,
                "#9c179e"
               ],
               [
                0.4444444444444444,
                "#bd3786"
               ],
               [
                0.5555555555555556,
                "#d8576b"
               ],
               [
                0.6666666666666666,
                "#ed7953"
               ],
               [
                0.7777777777777778,
                "#fb9f3a"
               ],
               [
                0.8888888888888888,
                "#fdca26"
               ],
               [
                1,
                "#f0f921"
               ]
              ],
              "type": "heatmapgl"
             }
            ],
            "histogram": [
             {
              "marker": {
               "pattern": {
                "fillmode": "overlay",
                "size": 10,
                "solidity": 0.2
               }
              },
              "type": "histogram"
             }
            ],
            "histogram2d": [
             {
              "colorbar": {
               "outlinewidth": 0,
               "ticks": ""
              },
              "colorscale": [
               [
                0,
                "#0d0887"
               ],
               [
                0.1111111111111111,
                "#46039f"
               ],
               [
                0.2222222222222222,
                "#7201a8"
               ],
               [
                0.3333333333333333,
                "#9c179e"
               ],
               [
                0.4444444444444444,
                "#bd3786"
               ],
               [
                0.5555555555555556,
                "#d8576b"
               ],
               [
                0.6666666666666666,
                "#ed7953"
               ],
               [
                0.7777777777777778,
                "#fb9f3a"
               ],
               [
                0.8888888888888888,
                "#fdca26"
               ],
               [
                1,
                "#f0f921"
               ]
              ],
              "type": "histogram2d"
             }
            ],
            "histogram2dcontour": [
             {
              "colorbar": {
               "outlinewidth": 0,
               "ticks": ""
              },
              "colorscale": [
               [
                0,
                "#0d0887"
               ],
               [
                0.1111111111111111,
                "#46039f"
               ],
               [
                0.2222222222222222,
                "#7201a8"
               ],
               [
                0.3333333333333333,
                "#9c179e"
               ],
               [
                0.4444444444444444,
                "#bd3786"
               ],
               [
                0.5555555555555556,
                "#d8576b"
               ],
               [
                0.6666666666666666,
                "#ed7953"
               ],
               [
                0.7777777777777778,
                "#fb9f3a"
               ],
               [
                0.8888888888888888,
                "#fdca26"
               ],
               [
                1,
                "#f0f921"
               ]
              ],
              "type": "histogram2dcontour"
             }
            ],
            "mesh3d": [
             {
              "colorbar": {
               "outlinewidth": 0,
               "ticks": ""
              },
              "type": "mesh3d"
             }
            ],
            "parcoords": [
             {
              "line": {
               "colorbar": {
                "outlinewidth": 0,
                "ticks": ""
               }
              },
              "type": "parcoords"
             }
            ],
            "pie": [
             {
              "automargin": true,
              "type": "pie"
             }
            ],
            "scatter": [
             {
              "fillpattern": {
               "fillmode": "overlay",
               "size": 10,
               "solidity": 0.2
              },
              "type": "scatter"
             }
            ],
            "scatter3d": [
             {
              "line": {
               "colorbar": {
                "outlinewidth": 0,
                "ticks": ""
               }
              },
              "marker": {
               "colorbar": {
                "outlinewidth": 0,
                "ticks": ""
               }
              },
              "type": "scatter3d"
             }
            ],
            "scattercarpet": [
             {
              "marker": {
               "colorbar": {
                "outlinewidth": 0,
                "ticks": ""
               }
              },
              "type": "scattercarpet"
             }
            ],
            "scattergeo": [
             {
              "marker": {
               "colorbar": {
                "outlinewidth": 0,
                "ticks": ""
               }
              },
              "type": "scattergeo"
             }
            ],
            "scattergl": [
             {
              "marker": {
               "colorbar": {
                "outlinewidth": 0,
                "ticks": ""
               }
              },
              "type": "scattergl"
             }
            ],
            "scattermapbox": [
             {
              "marker": {
               "colorbar": {
                "outlinewidth": 0,
                "ticks": ""
               }
              },
              "type": "scattermapbox"
             }
            ],
            "scatterpolar": [
             {
              "marker": {
               "colorbar": {
                "outlinewidth": 0,
                "ticks": ""
               }
              },
              "type": "scatterpolar"
             }
            ],
            "scatterpolargl": [
             {
              "marker": {
               "colorbar": {
                "outlinewidth": 0,
                "ticks": ""
               }
              },
              "type": "scatterpolargl"
             }
            ],
            "scatterternary": [
             {
              "marker": {
               "colorbar": {
                "outlinewidth": 0,
                "ticks": ""
               }
              },
              "type": "scatterternary"
             }
            ],
            "surface": [
             {
              "colorbar": {
               "outlinewidth": 0,
               "ticks": ""
              },
              "colorscale": [
               [
                0,
                "#0d0887"
               ],
               [
                0.1111111111111111,
                "#46039f"
               ],
               [
                0.2222222222222222,
                "#7201a8"
               ],
               [
                0.3333333333333333,
                "#9c179e"
               ],
               [
                0.4444444444444444,
                "#bd3786"
               ],
               [
                0.5555555555555556,
                "#d8576b"
               ],
               [
                0.6666666666666666,
                "#ed7953"
               ],
               [
                0.7777777777777778,
                "#fb9f3a"
               ],
               [
                0.8888888888888888,
                "#fdca26"
               ],
               [
                1,
                "#f0f921"
               ]
              ],
              "type": "surface"
             }
            ],
            "table": [
             {
              "cells": {
               "fill": {
                "color": "#EBF0F8"
               },
               "line": {
                "color": "white"
               }
              },
              "header": {
               "fill": {
                "color": "#C8D4E3"
               },
               "line": {
                "color": "white"
               }
              },
              "type": "table"
             }
            ]
           },
           "layout": {
            "annotationdefaults": {
             "arrowcolor": "#2a3f5f",
             "arrowhead": 0,
             "arrowwidth": 1
            },
            "autotypenumbers": "strict",
            "coloraxis": {
             "colorbar": {
              "outlinewidth": 0,
              "ticks": ""
             }
            },
            "colorscale": {
             "diverging": [
              [
               0,
               "#8e0152"
              ],
              [
               0.1,
               "#c51b7d"
              ],
              [
               0.2,
               "#de77ae"
              ],
              [
               0.3,
               "#f1b6da"
              ],
              [
               0.4,
               "#fde0ef"
              ],
              [
               0.5,
               "#f7f7f7"
              ],
              [
               0.6,
               "#e6f5d0"
              ],
              [
               0.7,
               "#b8e186"
              ],
              [
               0.8,
               "#7fbc41"
              ],
              [
               0.9,
               "#4d9221"
              ],
              [
               1,
               "#276419"
              ]
             ],
             "sequential": [
              [
               0,
               "#0d0887"
              ],
              [
               0.1111111111111111,
               "#46039f"
              ],
              [
               0.2222222222222222,
               "#7201a8"
              ],
              [
               0.3333333333333333,
               "#9c179e"
              ],
              [
               0.4444444444444444,
               "#bd3786"
              ],
              [
               0.5555555555555556,
               "#d8576b"
              ],
              [
               0.6666666666666666,
               "#ed7953"
              ],
              [
               0.7777777777777778,
               "#fb9f3a"
              ],
              [
               0.8888888888888888,
               "#fdca26"
              ],
              [
               1,
               "#f0f921"
              ]
             ],
             "sequentialminus": [
              [
               0,
               "#0d0887"
              ],
              [
               0.1111111111111111,
               "#46039f"
              ],
              [
               0.2222222222222222,
               "#7201a8"
              ],
              [
               0.3333333333333333,
               "#9c179e"
              ],
              [
               0.4444444444444444,
               "#bd3786"
              ],
              [
               0.5555555555555556,
               "#d8576b"
              ],
              [
               0.6666666666666666,
               "#ed7953"
              ],
              [
               0.7777777777777778,
               "#fb9f3a"
              ],
              [
               0.8888888888888888,
               "#fdca26"
              ],
              [
               1,
               "#f0f921"
              ]
             ]
            },
            "colorway": [
             "#636efa",
             "#EF553B",
             "#00cc96",
             "#ab63fa",
             "#FFA15A",
             "#19d3f3",
             "#FF6692",
             "#B6E880",
             "#FF97FF",
             "#FECB52"
            ],
            "font": {
             "color": "#2a3f5f"
            },
            "geo": {
             "bgcolor": "white",
             "lakecolor": "white",
             "landcolor": "white",
             "showlakes": true,
             "showland": true,
             "subunitcolor": "#C8D4E3"
            },
            "hoverlabel": {
             "align": "left"
            },
            "hovermode": "closest",
            "mapbox": {
             "style": "light"
            },
            "paper_bgcolor": "white",
            "plot_bgcolor": "white",
            "polar": {
             "angularaxis": {
              "gridcolor": "#EBF0F8",
              "linecolor": "#EBF0F8",
              "ticks": ""
             },
             "bgcolor": "white",
             "radialaxis": {
              "gridcolor": "#EBF0F8",
              "linecolor": "#EBF0F8",
              "ticks": ""
             }
            },
            "scene": {
             "xaxis": {
              "backgroundcolor": "white",
              "gridcolor": "#DFE8F3",
              "gridwidth": 2,
              "linecolor": "#EBF0F8",
              "showbackground": true,
              "ticks": "",
              "zerolinecolor": "#EBF0F8"
             },
             "yaxis": {
              "backgroundcolor": "white",
              "gridcolor": "#DFE8F3",
              "gridwidth": 2,
              "linecolor": "#EBF0F8",
              "showbackground": true,
              "ticks": "",
              "zerolinecolor": "#EBF0F8"
             },
             "zaxis": {
              "backgroundcolor": "white",
              "gridcolor": "#DFE8F3",
              "gridwidth": 2,
              "linecolor": "#EBF0F8",
              "showbackground": true,
              "ticks": "",
              "zerolinecolor": "#EBF0F8"
             }
            },
            "shapedefaults": {
             "line": {
              "color": "#2a3f5f"
             }
            },
            "ternary": {
             "aaxis": {
              "gridcolor": "#DFE8F3",
              "linecolor": "#A2B1C6",
              "ticks": ""
             },
             "baxis": {
              "gridcolor": "#DFE8F3",
              "linecolor": "#A2B1C6",
              "ticks": ""
             },
             "bgcolor": "white",
             "caxis": {
              "gridcolor": "#DFE8F3",
              "linecolor": "#A2B1C6",
              "ticks": ""
             }
            },
            "title": {
             "x": 0.05
            },
            "xaxis": {
             "automargin": true,
             "gridcolor": "#EBF0F8",
             "linecolor": "#EBF0F8",
             "ticks": "",
             "title": {
              "standoff": 15
             },
             "zerolinecolor": "#EBF0F8",
             "zerolinewidth": 2
            },
            "yaxis": {
             "automargin": true,
             "gridcolor": "#EBF0F8",
             "linecolor": "#EBF0F8",
             "ticks": "",
             "title": {
              "standoff": 15
             },
             "zerolinecolor": "#EBF0F8",
             "zerolinewidth": 2
            }
           }
          },
          "xaxis": {
           "automargin": false,
           "linecolor": "#444",
           "linewidth": 2,
           "minor": {
            "tickmode": "linear",
            "ticks": "outside"
           },
           "mirror": true,
           "showline": true,
           "tickmode": "linear",
           "ticks": "outside",
           "zeroline": false
          },
          "yaxis": {
           "automargin": false,
           "linecolor": "#444",
           "linewidth": 2,
           "minor": {
            "tickmode": "linear",
            "ticks": "outside"
           },
           "mirror": true,
           "showline": true,
           "ticks": "outside",
           "zeroline": false
          }
         }
        },
        "width": 600,
        "xaxis": {
         "dtick": 5,
         "minor": {
          "dtick": 1,
          "tick0": 0
         },
         "range": [
          0.8,
          20.2
         ],
         "tick0": 0,
         "title": {
          "text": "level"
         }
        },
        "yaxis": {
         "dtick": 10,
         "minor": {
          "dtick": 5,
          "tick0": 0
         },
         "range": [
          0,
          70
         ],
         "tick0": 0,
         "title": {
          "text": "damage per round"
         }
        }
       }
      }
     },
     "metadata": {},
     "output_type": "display_data"
    }
   ],
   "source": [
    "# Plots DPR for each class, calculated for a full adventuring day with Medium encounters and two short rests.\n",
    "import pandas as pd\n",
    "\n",
    "# create figure\n",
    "fig = go.Figure(\n",
    "    layout=go.Layout(\n",
    "        template=tfb.FIG_TEMPLATE,\n",
    "        xaxis=dict(\n",
    "            title_text='level',\n",
    "            range=[0.8, 20.2],\n",
    "            tick0=0, dtick=5,\n",
    "            minor=dict(tick0=0, dtick=1),\n",
    "        ),\n",
    "        yaxis=dict(\n",
    "            title_text='damage per round',\n",
    "            range=[0, 70],\n",
    "            tick0=0, dtick=10,\n",
    "            minor=dict(tick0=0, dtick=5),\n",
    "        ),\n",
    "        legend=dict(\n",
    "            yanchor='bottom',  y=1.01,\n",
    "            xanchor='left', x=0.01,\n",
    "            bgcolor='rgba(0,0,0,0)',\n",
    "            orientation='h',\n",
    "            tracegroupgap=0,\n",
    "        )\n",
    "    )\n",
    ")\n",
    "\n",
    "# get PC data\n",
    "classes = list(PC_CLASSES.keys())\n",
    "encounter_difficulty = 'Medium'\n",
    "pc_data_file = f'../../_classes/xp-and-player-characters/pc data - {encounter_difficulty} 2 short rests.json'\n",
    "df = load_pc_data(pc_data_file, ['class','level','damage per round mean'])\n",
    "df = df[df['class'].isin(classes)]\n",
    "\n",
    "for c in classes:\n",
    "    dfG = df[df['class'].eq(c)][['level','damage per round mean']].groupby(['level']).median().reset_index()\n",
    "    fig.add_trace(go.Scatter(\n",
    "        x=dfG['level'].to_numpy(), \n",
    "        y=dfG['damage per round mean'].to_numpy(),\n",
    "        mode='lines+markers', \n",
    "        line=dict(color=PC_CLASSES[c]['color'], width=1),\n",
    "        marker=dict(color=PC_CLASSES[c]['color']),\n",
    "        unselected=dict(marker=dict(opacity=0.0)),\n",
    "        name=c,\n",
    "        hovertemplate=\n",
    "                f'<b>{c}</b><br>'+\n",
    "                'level %{x}<br>'+\n",
    "                'damage per round %{y:.1f}'+\n",
    "                '<extra></extra>'\n",
    "    ))\n",
    "\n",
    "\n",
    "dfG = df[['level','damage per round mean']].groupby(['level']).mean().reset_index()\n",
    "plot_data_and_fit(\n",
    "    fig, \n",
    "    dfG['level'].to_numpy(), dfG['damage per round mean'].to_numpy(), \n",
    "    name='average',\n",
    "    legendgroup='average',\n",
    "    line=dict(color='black', dash='dash'),\n",
    "    hovertemplate=\n",
    "            '<b>Average</b><br>'+\n",
    "            'level %{x:.0f}<br>'+\n",
    "            'damage per round %{y:.1f}'+\n",
    "            '<extra></extra>',\n",
    "    print_coefficients=True,\n",
    ")\n",
    "\n",
    "# show figure\n",
    "fig.update_layout(width=600, height=500)\n",
    "fig.show(config=tfb.FIG_CONFIG)\n",
    "\n",
    "# save figures\n",
    "if SAVEFIGS:\n",
    "    fig.update_layout(autosize=True, width=None, height=None)\n",
    "    tfb.save_fig_html(fig, format='large', name=f'./fig-dpr-vs-level-large', style='aspect-ratio:600/550')\n",
    "    tfb.save_fig_html(fig, format='small', name=f'./fig-dpr-vs-level-small', style='aspect-ratio:600/600')"
   ]
  },
  {
   "cell_type": "code",
   "execution_count": 170,
   "metadata": {},
   "outputs": [
    {
     "name": "stdout",
     "output_type": "stream",
     "text": [
      "LVL >= 1: 14.67 + 0.17*LVL\n"
     ]
    },
    {
     "data": {
      "application/vnd.plotly.v1+json": {
       "config": {
        "autosizable": true,
        "displayModeBar": "hover",
        "displaylogo": false,
        "modeBarButtonsToRemove": [
         "select2d",
         "lasso2d",
         "zoom2d",
         "zoomIn2d",
         "zoomOut2d",
         "pan2d",
         "autoScale2d",
         "hoverClosestCartesian",
         "hoverCompareCartesian",
         "toggleSpikelines",
         "resetScale2d"
        ],
        "plotlyServerURL": "https://plot.ly",
        "responsive": true,
        "showAxisDragHandles": false,
        "toImageButtonOptions": {
         "filename": "tfb-plot",
         "format": "png",
         "height": 450,
         "scale": 2,
         "width": 600
        }
       },
       "data": [
        {
         "hovertemplate": "<b>Barbarian</b><br>level %{x:.0f}<br>armor class %{y:.0f}<extra></extra>",
         "line": {
          "color": "#E7623E",
          "width": 1
         },
         "marker": {
          "color": "#E7623E"
         },
         "mode": "lines+markers",
         "name": "Barbarian",
         "type": "scatter",
         "x": [
          1,
          2,
          3,
          4,
          5,
          6,
          7,
          8,
          9,
          10,
          11,
          12,
          13,
          14,
          15,
          16,
          17,
          18,
          19,
          20
         ],
         "y": [
          15,
          15,
          15,
          15,
          15,
          15,
          15,
          15,
          15,
          15,
          15,
          16,
          16,
          16,
          16,
          17,
          17,
          17,
          20,
          20
         ]
        },
        {
         "hovertemplate": "<b>Bard</b><br>level %{x:.0f}<br>armor class %{y:.0f}<extra></extra>",
         "line": {
          "color": "#AB6DAC",
          "width": 1
         },
         "marker": {
          "color": "#AB6DAC"
         },
         "mode": "lines+markers",
         "name": "Bard",
         "type": "scatter",
         "x": [
          1,
          2,
          3,
          4,
          5,
          6,
          7,
          8,
          9,
          10,
          11,
          12,
          13,
          14,
          15,
          16,
          17,
          18,
          19,
          20
         ],
         "y": [
          14,
          14,
          14,
          14,
          15,
          15,
          15,
          15,
          15,
          15,
          15,
          16,
          16,
          16,
          16,
          17,
          17,
          17,
          17,
          17
         ]
        },
        {
         "hovertemplate": "<b>Cleric</b><br>level %{x:.0f}<br>armor class %{y:.0f}<extra></extra>",
         "line": {
          "color": "#91A1B2",
          "width": 1
         },
         "marker": {
          "color": "#91A1B2"
         },
         "mode": "lines+markers",
         "name": "Cleric",
         "type": "scatter",
         "x": [
          1,
          2,
          3,
          4,
          5,
          6,
          7,
          8,
          9,
          10,
          11,
          12,
          13,
          14,
          15,
          16,
          17,
          18,
          19,
          20
         ],
         "y": [
          18,
          18,
          18,
          18,
          18,
          18,
          19,
          19,
          19,
          19,
          19,
          19,
          19,
          19,
          19,
          19,
          19,
          19,
          19,
          19
         ]
        },
        {
         "hovertemplate": "<b>Druid</b><br>level %{x:.0f}<br>armor class %{y:.0f}<extra></extra>",
         "line": {
          "color": "#7A853B",
          "width": 1
         },
         "marker": {
          "color": "#7A853B"
         },
         "mode": "lines+markers",
         "name": "Druid",
         "type": "scatter",
         "x": [
          1,
          2,
          3,
          4,
          5,
          6,
          7,
          8,
          9,
          10,
          11,
          12,
          13,
          14,
          15,
          16,
          17,
          18,
          19,
          20
         ],
         "y": [
          15,
          15,
          15,
          15,
          16,
          16,
          16,
          16,
          16,
          16,
          16,
          17,
          17,
          17,
          17,
          18,
          18,
          18,
          18,
          18
         ]
        },
        {
         "hovertemplate": "<b>Fighter</b><br>level %{x:.0f}<br>armor class %{y:.0f}<extra></extra>",
         "line": {
          "color": "#7F513E",
          "width": 1
         },
         "marker": {
          "color": "#7F513E"
         },
         "mode": "lines+markers",
         "name": "Fighter",
         "type": "scatter",
         "x": [
          1,
          2,
          3,
          4,
          5,
          6,
          7,
          8,
          9,
          10,
          11,
          12,
          13,
          14,
          15,
          16,
          17,
          18,
          19,
          20
         ],
         "y": [
          16,
          16,
          16,
          16,
          16,
          16,
          16,
          16,
          16,
          18,
          18,
          18,
          18,
          18,
          18,
          18,
          18,
          18,
          18,
          18
         ]
        },
        {
         "hovertemplate": "<b>Monk</b><br>level %{x:.0f}<br>armor class %{y:.0f}<extra></extra>",
         "line": {
          "color": "#51A5C5",
          "width": 1
         },
         "marker": {
          "color": "#51A5C5"
         },
         "mode": "lines+markers",
         "name": "Monk",
         "type": "scatter",
         "x": [
          1,
          2,
          3,
          4,
          5,
          6,
          7,
          8,
          9,
          10,
          11,
          12,
          13,
          14,
          15,
          16,
          17,
          18,
          19,
          20
         ],
         "y": [
          16,
          16,
          16,
          17,
          17,
          17,
          17,
          18,
          18,
          18,
          18,
          19,
          19,
          19,
          19,
          20,
          20,
          20,
          20,
          20
         ]
        },
        {
         "hovertemplate": "<b>Paladin</b><br>level %{x:.0f}<br>armor class %{y:.0f}<extra></extra>",
         "line": {
          "color": "#B59E54",
          "width": 1
         },
         "marker": {
          "color": "#B59E54"
         },
         "mode": "lines+markers",
         "name": "Paladin",
         "type": "scatter",
         "x": [
          1,
          2,
          3,
          4,
          5,
          6,
          7,
          8,
          9,
          10,
          11,
          12,
          13,
          14,
          15,
          16,
          17,
          18,
          19,
          20
         ],
         "y": [
          16,
          16,
          16,
          16,
          16,
          16,
          16,
          16,
          16,
          18,
          18,
          18,
          18,
          18,
          18,
          18,
          18,
          18,
          18,
          18
         ]
        },
        {
         "hovertemplate": "<b>Ranger</b><br>level %{x:.0f}<br>armor class %{y:.0f}<extra></extra>",
         "line": {
          "color": "#507F62",
          "width": 1
         },
         "marker": {
          "color": "#507F62"
         },
         "mode": "lines+markers",
         "name": "Ranger",
         "type": "scatter",
         "x": [
          1,
          2,
          3,
          4,
          5,
          6,
          7,
          8,
          9,
          10,
          11,
          12,
          13,
          14,
          15,
          16,
          17,
          18,
          19,
          20
         ],
         "y": [
          14,
          14,
          14,
          15,
          16,
          16,
          16,
          17,
          17,
          17,
          17,
          17,
          17,
          17,
          17,
          17,
          17,
          17,
          17,
          17
         ]
        },
        {
         "hovertemplate": "<b>Rogue</b><br>level %{x:.0f}<br>armor class %{y:.0f}<extra></extra>",
         "line": {
          "color": "#555752",
          "width": 1
         },
         "marker": {
          "color": "#555752"
         },
         "mode": "lines+markers",
         "name": "Rogue",
         "type": "scatter",
         "x": [
          1,
          2,
          3,
          4,
          5,
          6,
          7,
          8,
          9,
          10,
          11,
          12,
          13,
          14,
          15,
          16,
          17,
          18,
          19,
          20
         ],
         "y": [
          14,
          14,
          14,
          15,
          16,
          16,
          16,
          17,
          17,
          17,
          17,
          17,
          17,
          17,
          17,
          17,
          17,
          17,
          17,
          17
         ]
        },
        {
         "hovertemplate": "<b>Sorcerer</b><br>level %{x:.0f}<br>armor class %{y:.0f}<extra></extra>",
         "line": {
          "color": "#992E2E",
          "width": 1
         },
         "marker": {
          "color": "#992E2E"
         },
         "mode": "lines+markers",
         "name": "Sorcerer",
         "type": "scatter",
         "x": [
          1,
          2,
          3,
          4,
          5,
          6,
          7,
          8,
          9,
          10,
          11,
          12,
          13,
          14,
          15,
          16,
          17,
          18,
          19,
          20
         ],
         "y": [
          14,
          14,
          14,
          14,
          15,
          15,
          15,
          15,
          15,
          15,
          17,
          17,
          17,
          17,
          17,
          18,
          18,
          18,
          18,
          18
         ]
        },
        {
         "hovertemplate": "<b>Warlock</b><br>level %{x:.0f}<br>armor class %{y:.0f}<extra></extra>",
         "line": {
          "color": "#7B469B",
          "width": 1
         },
         "marker": {
          "color": "#7B469B"
         },
         "mode": "lines+markers",
         "name": "Warlock",
         "type": "scatter",
         "x": [
          1,
          2,
          3,
          4,
          5,
          6,
          7,
          8,
          9,
          10,
          11,
          12,
          13,
          14,
          15,
          16,
          17,
          18,
          19,
          20
         ],
         "y": [
          13,
          13,
          13,
          13,
          14,
          14,
          14,
          14,
          14,
          14,
          14,
          14,
          14,
          14,
          14,
          15,
          15,
          15,
          15,
          15
         ]
        },
        {
         "hovertemplate": "<b>Wizard</b><br>level %{x:.0f}<br>armor class %{y:.0f}<extra></extra>",
         "line": {
          "color": "#2A50A1",
          "width": 1
         },
         "marker": {
          "color": "#2A50A1"
         },
         "mode": "lines+markers",
         "name": "Wizard",
         "type": "scatter",
         "x": [
          1,
          2,
          3,
          4,
          5,
          6,
          7,
          8,
          9,
          10,
          11,
          12,
          13,
          14,
          15,
          16,
          17,
          18,
          19,
          20
         ],
         "y": [
          14,
          14,
          14,
          14,
          15,
          15,
          15,
          15,
          15,
          15,
          17,
          17,
          17,
          17,
          17,
          17,
          17,
          17,
          18,
          18
         ]
        },
        {
         "hovertemplate": "<b>Average</b><br>level %{x:.0f}<br>armor class %{y:.1f}<extra></extra>",
         "legendgroup": "average",
         "line": {
          "color": "black",
          "dash": "dash"
         },
         "mode": "markers",
         "name": "average",
         "showlegend": false,
         "type": "scatter",
         "x": [
          1,
          2,
          3,
          4,
          5,
          6,
          7,
          8,
          9,
          10,
          11,
          12,
          13,
          14,
          15,
          16,
          17,
          18,
          19,
          20
         ],
         "y": [
          14.916666666666666,
          14.916666666666666,
          14.916666666666666,
          15.166666666666666,
          15.75,
          15.75,
          15.833333333333334,
          16.083333333333332,
          16.083333333333332,
          16.416666666666668,
          16.75,
          17.083333333333332,
          17.083333333333332,
          17.083333333333332,
          17.083333333333332,
          17.583333333333332,
          17.583333333333332,
          17.583333333333332,
          17.916666666666668,
          17.916666666666668
         ]
        },
        {
         "hoverinfo": "skip",
         "hovertemplate": "<b>Average</b><br>level %{x:.0f}<br>armor class %{y:.1f}<extra></extra>",
         "legendgroup": "average",
         "line": {
          "color": "black",
          "dash": "dash"
         },
         "mode": "lines",
         "name": "average",
         "showlegend": true,
         "type": "scatter",
         "x": [
          1,
          2,
          3,
          4,
          5,
          6,
          7,
          8,
          9,
          10,
          11,
          12,
          13,
          14,
          15,
          16,
          17,
          18,
          19,
          20
         ],
         "y": [
          14.84166666666667,
          15.013596491228073,
          15.185526315789478,
          15.35745614035088,
          15.529385964912285,
          15.701315789473687,
          15.873245614035092,
          16.045175438596495,
          16.217105263157897,
          16.389035087719304,
          16.560964912280706,
          16.73289473684211,
          16.904824561403515,
          17.076754385964918,
          17.24868421052632,
          17.420614035087723,
          17.59254385964913,
          17.764473684210532,
          17.936403508771935,
          18.10833333333334
         ]
        }
       ],
       "layout": {
        "height": 500,
        "legend": {
         "bgcolor": "rgba(0,0,0,0)",
         "orientation": "h",
         "tracegroupgap": 0,
         "x": 0,
         "xanchor": "left",
         "y": 1.01,
         "yanchor": "bottom"
        },
        "template": {
         "layout": {
          "autosize": false,
          "font": {
           "family": "sans-serif",
           "size": 14
          },
          "hoverlabel": {
           "align": "left"
          },
          "hovermode": "closest",
          "margin": {
           "b": 55,
           "l": 60,
           "pad": 4,
           "r": 25,
           "t": 20
          },
          "template": {
           "data": {
            "bar": [
             {
              "error_x": {
               "color": "#2a3f5f"
              },
              "error_y": {
               "color": "#2a3f5f"
              },
              "marker": {
               "line": {
                "color": "white",
                "width": 0.5
               },
               "pattern": {
                "fillmode": "overlay",
                "size": 10,
                "solidity": 0.2
               }
              },
              "type": "bar"
             }
            ],
            "barpolar": [
             {
              "marker": {
               "line": {
                "color": "white",
                "width": 0.5
               },
               "pattern": {
                "fillmode": "overlay",
                "size": 10,
                "solidity": 0.2
               }
              },
              "type": "barpolar"
             }
            ],
            "carpet": [
             {
              "aaxis": {
               "endlinecolor": "#2a3f5f",
               "gridcolor": "#C8D4E3",
               "linecolor": "#C8D4E3",
               "minorgridcolor": "#C8D4E3",
               "startlinecolor": "#2a3f5f"
              },
              "baxis": {
               "endlinecolor": "#2a3f5f",
               "gridcolor": "#C8D4E3",
               "linecolor": "#C8D4E3",
               "minorgridcolor": "#C8D4E3",
               "startlinecolor": "#2a3f5f"
              },
              "type": "carpet"
             }
            ],
            "choropleth": [
             {
              "colorbar": {
               "outlinewidth": 0,
               "ticks": ""
              },
              "type": "choropleth"
             }
            ],
            "contour": [
             {
              "colorbar": {
               "outlinewidth": 0,
               "ticks": ""
              },
              "colorscale": [
               [
                0,
                "#0d0887"
               ],
               [
                0.1111111111111111,
                "#46039f"
               ],
               [
                0.2222222222222222,
                "#7201a8"
               ],
               [
                0.3333333333333333,
                "#9c179e"
               ],
               [
                0.4444444444444444,
                "#bd3786"
               ],
               [
                0.5555555555555556,
                "#d8576b"
               ],
               [
                0.6666666666666666,
                "#ed7953"
               ],
               [
                0.7777777777777778,
                "#fb9f3a"
               ],
               [
                0.8888888888888888,
                "#fdca26"
               ],
               [
                1,
                "#f0f921"
               ]
              ],
              "type": "contour"
             }
            ],
            "contourcarpet": [
             {
              "colorbar": {
               "outlinewidth": 0,
               "ticks": ""
              },
              "type": "contourcarpet"
             }
            ],
            "heatmap": [
             {
              "colorbar": {
               "outlinewidth": 0,
               "ticks": ""
              },
              "colorscale": [
               [
                0,
                "#0d0887"
               ],
               [
                0.1111111111111111,
                "#46039f"
               ],
               [
                0.2222222222222222,
                "#7201a8"
               ],
               [
                0.3333333333333333,
                "#9c179e"
               ],
               [
                0.4444444444444444,
                "#bd3786"
               ],
               [
                0.5555555555555556,
                "#d8576b"
               ],
               [
                0.6666666666666666,
                "#ed7953"
               ],
               [
                0.7777777777777778,
                "#fb9f3a"
               ],
               [
                0.8888888888888888,
                "#fdca26"
               ],
               [
                1,
                "#f0f921"
               ]
              ],
              "type": "heatmap"
             }
            ],
            "heatmapgl": [
             {
              "colorbar": {
               "outlinewidth": 0,
               "ticks": ""
              },
              "colorscale": [
               [
                0,
                "#0d0887"
               ],
               [
                0.1111111111111111,
                "#46039f"
               ],
               [
                0.2222222222222222,
                "#7201a8"
               ],
               [
                0.3333333333333333,
                "#9c179e"
               ],
               [
                0.4444444444444444,
                "#bd3786"
               ],
               [
                0.5555555555555556,
                "#d8576b"
               ],
               [
                0.6666666666666666,
                "#ed7953"
               ],
               [
                0.7777777777777778,
                "#fb9f3a"
               ],
               [
                0.8888888888888888,
                "#fdca26"
               ],
               [
                1,
                "#f0f921"
               ]
              ],
              "type": "heatmapgl"
             }
            ],
            "histogram": [
             {
              "marker": {
               "pattern": {
                "fillmode": "overlay",
                "size": 10,
                "solidity": 0.2
               }
              },
              "type": "histogram"
             }
            ],
            "histogram2d": [
             {
              "colorbar": {
               "outlinewidth": 0,
               "ticks": ""
              },
              "colorscale": [
               [
                0,
                "#0d0887"
               ],
               [
                0.1111111111111111,
                "#46039f"
               ],
               [
                0.2222222222222222,
                "#7201a8"
               ],
               [
                0.3333333333333333,
                "#9c179e"
               ],
               [
                0.4444444444444444,
                "#bd3786"
               ],
               [
                0.5555555555555556,
                "#d8576b"
               ],
               [
                0.6666666666666666,
                "#ed7953"
               ],
               [
                0.7777777777777778,
                "#fb9f3a"
               ],
               [
                0.8888888888888888,
                "#fdca26"
               ],
               [
                1,
                "#f0f921"
               ]
              ],
              "type": "histogram2d"
             }
            ],
            "histogram2dcontour": [
             {
              "colorbar": {
               "outlinewidth": 0,
               "ticks": ""
              },
              "colorscale": [
               [
                0,
                "#0d0887"
               ],
               [
                0.1111111111111111,
                "#46039f"
               ],
               [
                0.2222222222222222,
                "#7201a8"
               ],
               [
                0.3333333333333333,
                "#9c179e"
               ],
               [
                0.4444444444444444,
                "#bd3786"
               ],
               [
                0.5555555555555556,
                "#d8576b"
               ],
               [
                0.6666666666666666,
                "#ed7953"
               ],
               [
                0.7777777777777778,
                "#fb9f3a"
               ],
               [
                0.8888888888888888,
                "#fdca26"
               ],
               [
                1,
                "#f0f921"
               ]
              ],
              "type": "histogram2dcontour"
             }
            ],
            "mesh3d": [
             {
              "colorbar": {
               "outlinewidth": 0,
               "ticks": ""
              },
              "type": "mesh3d"
             }
            ],
            "parcoords": [
             {
              "line": {
               "colorbar": {
                "outlinewidth": 0,
                "ticks": ""
               }
              },
              "type": "parcoords"
             }
            ],
            "pie": [
             {
              "automargin": true,
              "type": "pie"
             }
            ],
            "scatter": [
             {
              "fillpattern": {
               "fillmode": "overlay",
               "size": 10,
               "solidity": 0.2
              },
              "type": "scatter"
             }
            ],
            "scatter3d": [
             {
              "line": {
               "colorbar": {
                "outlinewidth": 0,
                "ticks": ""
               }
              },
              "marker": {
               "colorbar": {
                "outlinewidth": 0,
                "ticks": ""
               }
              },
              "type": "scatter3d"
             }
            ],
            "scattercarpet": [
             {
              "marker": {
               "colorbar": {
                "outlinewidth": 0,
                "ticks": ""
               }
              },
              "type": "scattercarpet"
             }
            ],
            "scattergeo": [
             {
              "marker": {
               "colorbar": {
                "outlinewidth": 0,
                "ticks": ""
               }
              },
              "type": "scattergeo"
             }
            ],
            "scattergl": [
             {
              "marker": {
               "colorbar": {
                "outlinewidth": 0,
                "ticks": ""
               }
              },
              "type": "scattergl"
             }
            ],
            "scattermapbox": [
             {
              "marker": {
               "colorbar": {
                "outlinewidth": 0,
                "ticks": ""
               }
              },
              "type": "scattermapbox"
             }
            ],
            "scatterpolar": [
             {
              "marker": {
               "colorbar": {
                "outlinewidth": 0,
                "ticks": ""
               }
              },
              "type": "scatterpolar"
             }
            ],
            "scatterpolargl": [
             {
              "marker": {
               "colorbar": {
                "outlinewidth": 0,
                "ticks": ""
               }
              },
              "type": "scatterpolargl"
             }
            ],
            "scatterternary": [
             {
              "marker": {
               "colorbar": {
                "outlinewidth": 0,
                "ticks": ""
               }
              },
              "type": "scatterternary"
             }
            ],
            "surface": [
             {
              "colorbar": {
               "outlinewidth": 0,
               "ticks": ""
              },
              "colorscale": [
               [
                0,
                "#0d0887"
               ],
               [
                0.1111111111111111,
                "#46039f"
               ],
               [
                0.2222222222222222,
                "#7201a8"
               ],
               [
                0.3333333333333333,
                "#9c179e"
               ],
               [
                0.4444444444444444,
                "#bd3786"
               ],
               [
                0.5555555555555556,
                "#d8576b"
               ],
               [
                0.6666666666666666,
                "#ed7953"
               ],
               [
                0.7777777777777778,
                "#fb9f3a"
               ],
               [
                0.8888888888888888,
                "#fdca26"
               ],
               [
                1,
                "#f0f921"
               ]
              ],
              "type": "surface"
             }
            ],
            "table": [
             {
              "cells": {
               "fill": {
                "color": "#EBF0F8"
               },
               "line": {
                "color": "white"
               }
              },
              "header": {
               "fill": {
                "color": "#C8D4E3"
               },
               "line": {
                "color": "white"
               }
              },
              "type": "table"
             }
            ]
           },
           "layout": {
            "annotationdefaults": {
             "arrowcolor": "#2a3f5f",
             "arrowhead": 0,
             "arrowwidth": 1
            },
            "autotypenumbers": "strict",
            "coloraxis": {
             "colorbar": {
              "outlinewidth": 0,
              "ticks": ""
             }
            },
            "colorscale": {
             "diverging": [
              [
               0,
               "#8e0152"
              ],
              [
               0.1,
               "#c51b7d"
              ],
              [
               0.2,
               "#de77ae"
              ],
              [
               0.3,
               "#f1b6da"
              ],
              [
               0.4,
               "#fde0ef"
              ],
              [
               0.5,
               "#f7f7f7"
              ],
              [
               0.6,
               "#e6f5d0"
              ],
              [
               0.7,
               "#b8e186"
              ],
              [
               0.8,
               "#7fbc41"
              ],
              [
               0.9,
               "#4d9221"
              ],
              [
               1,
               "#276419"
              ]
             ],
             "sequential": [
              [
               0,
               "#0d0887"
              ],
              [
               0.1111111111111111,
               "#46039f"
              ],
              [
               0.2222222222222222,
               "#7201a8"
              ],
              [
               0.3333333333333333,
               "#9c179e"
              ],
              [
               0.4444444444444444,
               "#bd3786"
              ],
              [
               0.5555555555555556,
               "#d8576b"
              ],
              [
               0.6666666666666666,
               "#ed7953"
              ],
              [
               0.7777777777777778,
               "#fb9f3a"
              ],
              [
               0.8888888888888888,
               "#fdca26"
              ],
              [
               1,
               "#f0f921"
              ]
             ],
             "sequentialminus": [
              [
               0,
               "#0d0887"
              ],
              [
               0.1111111111111111,
               "#46039f"
              ],
              [
               0.2222222222222222,
               "#7201a8"
              ],
              [
               0.3333333333333333,
               "#9c179e"
              ],
              [
               0.4444444444444444,
               "#bd3786"
              ],
              [
               0.5555555555555556,
               "#d8576b"
              ],
              [
               0.6666666666666666,
               "#ed7953"
              ],
              [
               0.7777777777777778,
               "#fb9f3a"
              ],
              [
               0.8888888888888888,
               "#fdca26"
              ],
              [
               1,
               "#f0f921"
              ]
             ]
            },
            "colorway": [
             "#636efa",
             "#EF553B",
             "#00cc96",
             "#ab63fa",
             "#FFA15A",
             "#19d3f3",
             "#FF6692",
             "#B6E880",
             "#FF97FF",
             "#FECB52"
            ],
            "font": {
             "color": "#2a3f5f"
            },
            "geo": {
             "bgcolor": "white",
             "lakecolor": "white",
             "landcolor": "white",
             "showlakes": true,
             "showland": true,
             "subunitcolor": "#C8D4E3"
            },
            "hoverlabel": {
             "align": "left"
            },
            "hovermode": "closest",
            "mapbox": {
             "style": "light"
            },
            "paper_bgcolor": "white",
            "plot_bgcolor": "white",
            "polar": {
             "angularaxis": {
              "gridcolor": "#EBF0F8",
              "linecolor": "#EBF0F8",
              "ticks": ""
             },
             "bgcolor": "white",
             "radialaxis": {
              "gridcolor": "#EBF0F8",
              "linecolor": "#EBF0F8",
              "ticks": ""
             }
            },
            "scene": {
             "xaxis": {
              "backgroundcolor": "white",
              "gridcolor": "#DFE8F3",
              "gridwidth": 2,
              "linecolor": "#EBF0F8",
              "showbackground": true,
              "ticks": "",
              "zerolinecolor": "#EBF0F8"
             },
             "yaxis": {
              "backgroundcolor": "white",
              "gridcolor": "#DFE8F3",
              "gridwidth": 2,
              "linecolor": "#EBF0F8",
              "showbackground": true,
              "ticks": "",
              "zerolinecolor": "#EBF0F8"
             },
             "zaxis": {
              "backgroundcolor": "white",
              "gridcolor": "#DFE8F3",
              "gridwidth": 2,
              "linecolor": "#EBF0F8",
              "showbackground": true,
              "ticks": "",
              "zerolinecolor": "#EBF0F8"
             }
            },
            "shapedefaults": {
             "line": {
              "color": "#2a3f5f"
             }
            },
            "ternary": {
             "aaxis": {
              "gridcolor": "#DFE8F3",
              "linecolor": "#A2B1C6",
              "ticks": ""
             },
             "baxis": {
              "gridcolor": "#DFE8F3",
              "linecolor": "#A2B1C6",
              "ticks": ""
             },
             "bgcolor": "white",
             "caxis": {
              "gridcolor": "#DFE8F3",
              "linecolor": "#A2B1C6",
              "ticks": ""
             }
            },
            "title": {
             "x": 0.05
            },
            "xaxis": {
             "automargin": true,
             "gridcolor": "#EBF0F8",
             "linecolor": "#EBF0F8",
             "ticks": "",
             "title": {
              "standoff": 15
             },
             "zerolinecolor": "#EBF0F8",
             "zerolinewidth": 2
            },
            "yaxis": {
             "automargin": true,
             "gridcolor": "#EBF0F8",
             "linecolor": "#EBF0F8",
             "ticks": "",
             "title": {
              "standoff": 15
             },
             "zerolinecolor": "#EBF0F8",
             "zerolinewidth": 2
            }
           }
          },
          "xaxis": {
           "automargin": false,
           "linecolor": "#444",
           "linewidth": 2,
           "minor": {
            "tickmode": "linear",
            "ticks": "outside"
           },
           "mirror": true,
           "showline": true,
           "tickmode": "linear",
           "ticks": "outside",
           "zeroline": false
          },
          "yaxis": {
           "automargin": false,
           "linecolor": "#444",
           "linewidth": 2,
           "minor": {
            "tickmode": "linear",
            "ticks": "outside"
           },
           "mirror": true,
           "showline": true,
           "ticks": "outside",
           "zeroline": false
          }
         }
        },
        "width": 600,
        "xaxis": {
         "dtick": 5,
         "minor": {
          "dtick": 1,
          "tick0": 0
         },
         "range": [
          0.8,
          20.2
         ],
         "tick0": 0,
         "title": {
          "text": "level"
         }
        },
        "yaxis": {
         "dtick": 2,
         "minor": {
          "dtick": 1,
          "tick0": 0
         },
         "range": [
          12,
          22
         ],
         "tick0": 0,
         "title": {
          "text": "armor class"
         }
        }
       }
      }
     },
     "metadata": {},
     "output_type": "display_data"
    }
   ],
   "source": [
    "# Plots armor class for each class.\n",
    "# create figure\n",
    "fig = go.Figure(\n",
    "    layout=go.Layout(\n",
    "        template=tfb.FIG_TEMPLATE,\n",
    "        xaxis=dict(\n",
    "            title_text='level',\n",
    "            range=[0.8, 20.2],\n",
    "            tick0=0, dtick=5,\n",
    "            minor=dict(tick0=0, dtick=1),\n",
    "        ),\n",
    "        yaxis=dict(\n",
    "            title_text='armor class',\n",
    "            range=[12, 22],\n",
    "            tick0=0, dtick=2,\n",
    "            minor=dict(tick0=0, dtick=1),\n",
    "        ),\n",
    "        legend=dict(\n",
    "            yanchor='bottom',  y=1.01,\n",
    "            xanchor='left', x=0.00,\n",
    "            bgcolor='rgba(0,0,0,0)',\n",
    "            orientation='h',\n",
    "            tracegroupgap=0,\n",
    "        )\n",
    "    )\n",
    ")\n",
    "\n",
    "# get PC data\n",
    "levels = list(range(1,21))\n",
    "for c in pcs:\n",
    "    pc = pcs[c]\n",
    "    ac = [pc.set_level(lvl).build().get_armor_class() for lvl in levels]\n",
    "    fig.add_trace(go.Scatter(\n",
    "        x=levels, \n",
    "        y=ac,\n",
    "        mode='lines+markers', \n",
    "        line=dict(color=PC_CLASSES[c]['color'], width=1),\n",
    "        marker=dict(color=PC_CLASSES[c]['color']),\n",
    "        name=c,\n",
    "        hovertemplate=\n",
    "                f'<b>{c}</b><br>'+\n",
    "                'level %{x:.0f}<br>'+\n",
    "                'armor class %{y:.0f}'+\n",
    "                '<extra></extra>'\n",
    "    ))\n",
    "\n",
    "# get PC data\n",
    "levels = list(range(1,21))\n",
    "ac_matrix = np.zeros([20,len(PC_CLASSES)])\n",
    "pc_names = list(pcs.keys())\n",
    "for i in range(len(pc_names)):\n",
    "    pc = pcs[pc_names[i]]\n",
    "    ac_matrix[:,i] = np.array([pc.set_level(lvl).build().get_armor_class() for lvl in levels])\n",
    "\n",
    "plot_data_and_fit(\n",
    "    fig, \n",
    "    levels, np.mean(ac_matrix, axis=1), \n",
    "    name='average',\n",
    "    legendgroup='average',\n",
    "    line=dict(color='black', dash='dash'),\n",
    "    hovertemplate=\n",
    "            f'<b>Average</b><br>'+\n",
    "            'level %{x:.0f}<br>'+\n",
    "            'armor class %{y:.1f}'+\n",
    "            '<extra></extra>',\n",
    "    print_coefficients=True,\n",
    ")\n",
    "\n",
    "# show figure\n",
    "fig.update_layout(width=600, height=500)\n",
    "fig.show(config=tfb.FIG_CONFIG)\n",
    "\n",
    "# save figures\n",
    "if SAVEFIGS:\n",
    "    fig.update_layout(autosize=True, width=None, height=None)\n",
    "    tfb.save_fig_html(fig, format='large', name=f'./fig-ac-vs-level-large', style='aspect-ratio:600/550')\n",
    "    tfb.save_fig_html(fig, format='small', name=f'./fig-ac-vs-level-small', style='aspect-ratio:600/600')"
   ]
  },
  {
   "cell_type": "code",
   "execution_count": 169,
   "metadata": {},
   "outputs": [
    {
     "name": "stdout",
     "output_type": "stream",
     "text": [
      "LVL >= 1: 1.51 + 0.20*LVL\n"
     ]
    },
    {
     "data": {
      "application/vnd.plotly.v1+json": {
       "config": {
        "autosizable": true,
        "displayModeBar": "hover",
        "displaylogo": false,
        "modeBarButtonsToRemove": [
         "select2d",
         "lasso2d",
         "zoom2d",
         "zoomIn2d",
         "zoomOut2d",
         "pan2d",
         "autoScale2d",
         "hoverClosestCartesian",
         "hoverCompareCartesian",
         "toggleSpikelines",
         "resetScale2d"
        ],
        "plotlyServerURL": "https://plot.ly",
        "responsive": true,
        "showAxisDragHandles": false,
        "toImageButtonOptions": {
         "filename": "tfb-plot",
         "format": "png",
         "height": 450,
         "scale": 2,
         "width": 600
        }
       },
       "data": [
        {
         "hovertemplate": "<b>Barbarian</b><br>level %{x:.0f}<br>save bonus %{y:.1f}<extra></extra>",
         "line": {
          "color": "#E7623E",
          "width": 1
         },
         "marker": {
          "color": "#E7623E"
         },
         "mode": "lines+markers",
         "name": "Barbarian",
         "type": "scatter",
         "x": [
          1,
          2,
          3,
          4,
          5,
          6,
          7,
          8,
          9,
          10,
          11,
          12,
          13,
          14,
          15,
          16,
          17,
          18,
          19,
          20
         ],
         "y": [
          1.8333333333333333,
          2.5,
          2.5,
          2.6666666666666665,
          3,
          3,
          3,
          3.1666666666666665,
          3.5,
          3.5,
          3.5,
          3.6666666666666665,
          4,
          4,
          4,
          4.166666666666667,
          4.5,
          4.5,
          5.333333333333333,
          5.333333333333333
         ]
        },
        {
         "hovertemplate": "<b>Bard</b><br>level %{x:.0f}<br>save bonus %{y:.1f}<extra></extra>",
         "line": {
          "color": "#AB6DAC",
          "width": 1
         },
         "marker": {
          "color": "#AB6DAC"
         },
         "mode": "lines+markers",
         "name": "Bard",
         "type": "scatter",
         "x": [
          1,
          2,
          3,
          4,
          5,
          6,
          7,
          8,
          9,
          10,
          11,
          12,
          13,
          14,
          15,
          16,
          17,
          18,
          19,
          20
         ],
         "y": [
          1.8333333333333333,
          1.8333333333333333,
          1.8333333333333333,
          2,
          2.3333333333333335,
          2.3333333333333335,
          2.3333333333333335,
          2.5,
          2.8333333333333335,
          2.8333333333333335,
          2.8333333333333335,
          3,
          3.3333333333333335,
          3.3333333333333335,
          3.3333333333333335,
          3.5,
          3.8333333333333335,
          3.8333333333333335,
          4,
          4
         ]
        },
        {
         "hovertemplate": "<b>Cleric</b><br>level %{x:.0f}<br>save bonus %{y:.1f}<extra></extra>",
         "line": {
          "color": "#91A1B2",
          "width": 1
         },
         "marker": {
          "color": "#91A1B2"
         },
         "mode": "lines+markers",
         "name": "Cleric",
         "type": "scatter",
         "x": [
          1,
          2,
          3,
          4,
          5,
          6,
          7,
          8,
          9,
          10,
          11,
          12,
          13,
          14,
          15,
          16,
          17,
          18,
          19,
          20
         ],
         "y": [
          2,
          2,
          2,
          2.1666666666666665,
          2.5,
          2.5,
          2.5,
          2.6666666666666665,
          3,
          3,
          3,
          3.1666666666666665,
          3.5,
          3.5,
          3.5,
          3.6666666666666665,
          4,
          4,
          4.166666666666667,
          4.166666666666667
         ]
        },
        {
         "hovertemplate": "<b>Druid</b><br>level %{x:.0f}<br>save bonus %{y:.1f}<extra></extra>",
         "line": {
          "color": "#7A853B",
          "width": 1
         },
         "marker": {
          "color": "#7A853B"
         },
         "mode": "lines+markers",
         "name": "Druid",
         "type": "scatter",
         "x": [
          1,
          2,
          3,
          4,
          5,
          6,
          7,
          8,
          9,
          10,
          11,
          12,
          13,
          14,
          15,
          16,
          17,
          18,
          19,
          20
         ],
         "y": [
          2,
          2,
          2,
          2.1666666666666665,
          2.5,
          2.5,
          2.5,
          2.6666666666666665,
          3,
          3,
          3,
          3.1666666666666665,
          3.5,
          3.5,
          3.5,
          3.6666666666666665,
          4,
          4,
          4.166666666666667,
          4.166666666666667
         ]
        },
        {
         "hovertemplate": "<b>Fighter</b><br>level %{x:.0f}<br>save bonus %{y:.1f}<extra></extra>",
         "line": {
          "color": "#7F513E",
          "width": 1
         },
         "marker": {
          "color": "#7F513E"
         },
         "mode": "lines+markers",
         "name": "Fighter",
         "type": "scatter",
         "x": [
          1,
          2,
          3,
          4,
          5,
          6,
          7,
          8,
          9,
          10,
          11,
          12,
          13,
          14,
          15,
          16,
          17,
          18,
          19,
          20
         ],
         "y": [
          1.8333333333333333,
          1.8333333333333333,
          1.8333333333333333,
          2,
          2.3333333333333335,
          2.5,
          2.5,
          2.6666666666666665,
          3.3299999999999996,
          3.3299999999999996,
          3.3299999999999996,
          3.496666666666666,
          4.16,
          4.326666666666667,
          4.326666666666667,
          4.493333333333333,
          5.156666666666665,
          5.156666666666665,
          5.323333333333332,
          5.323333333333332
         ]
        },
        {
         "hovertemplate": "<b>Monk</b><br>level %{x:.0f}<br>save bonus %{y:.1f}<extra></extra>",
         "line": {
          "color": "#51A5C5",
          "width": 1
         },
         "marker": {
          "color": "#51A5C5"
         },
         "mode": "lines+markers",
         "name": "Monk",
         "type": "scatter",
         "x": [
          1,
          2,
          3,
          4,
          5,
          6,
          7,
          8,
          9,
          10,
          11,
          12,
          13,
          14,
          15,
          16,
          17,
          18,
          19,
          20
         ],
         "y": [
          1.8333333333333333,
          1.8333333333333333,
          1.8333333333333333,
          2,
          2.3333333333333335,
          2.3333333333333335,
          3.3333333333333335,
          3.5,
          3.8333333333333335,
          3.8333333333333335,
          3.8333333333333335,
          4,
          4.333333333333333,
          7.666666666666667,
          7.666666666666667,
          7.833333333333333,
          8.833333333333334,
          8.833333333333334,
          9,
          9
         ]
        },
        {
         "hovertemplate": "<b>Paladin</b><br>level %{x:.0f}<br>save bonus %{y:.1f}<extra></extra>",
         "line": {
          "color": "#B59E54",
          "width": 1
         },
         "marker": {
          "color": "#B59E54"
         },
         "mode": "lines+markers",
         "name": "Paladin",
         "type": "scatter",
         "x": [
          1,
          2,
          3,
          4,
          5,
          6,
          7,
          8,
          9,
          10,
          11,
          12,
          13,
          14,
          15,
          16,
          17,
          18,
          19,
          20
         ],
         "y": [
          1.8333333333333333,
          1.8333333333333333,
          1.8333333333333333,
          2,
          2.3333333333333335,
          5.333333333333333,
          5.333333333333333,
          5.5,
          5.833333333333333,
          5.833333333333333,
          5.833333333333333,
          7,
          7.333333333333333,
          7.333333333333333,
          7.333333333333333,
          8.5,
          8.833333333333334,
          8.833333333333334,
          9,
          9
         ]
        },
        {
         "hovertemplate": "<b>Ranger</b><br>level %{x:.0f}<br>save bonus %{y:.1f}<extra></extra>",
         "line": {
          "color": "#507F62",
          "width": 1
         },
         "marker": {
          "color": "#507F62"
         },
         "mode": "lines+markers",
         "name": "Ranger",
         "type": "scatter",
         "x": [
          1,
          2,
          3,
          4,
          5,
          6,
          7,
          8,
          9,
          10,
          11,
          12,
          13,
          14,
          15,
          16,
          17,
          18,
          19,
          20
         ],
         "y": [
          1.8333333333333333,
          1.8333333333333333,
          1.8333333333333333,
          2,
          2.3333333333333335,
          2.3333333333333335,
          2.3333333333333335,
          2.5,
          2.8333333333333335,
          2.8333333333333335,
          2.8333333333333335,
          3,
          3.3333333333333335,
          3.3333333333333335,
          3.3333333333333335,
          3.5,
          3.8333333333333335,
          3.8333333333333335,
          4,
          4
         ]
        },
        {
         "hovertemplate": "<b>Rogue</b><br>level %{x:.0f}<br>save bonus %{y:.1f}<extra></extra>",
         "line": {
          "color": "#555752",
          "width": 1
         },
         "marker": {
          "color": "#555752"
         },
         "mode": "lines+markers",
         "name": "Rogue",
         "type": "scatter",
         "x": [
          1,
          2,
          3,
          4,
          5,
          6,
          7,
          8,
          9,
          10,
          11,
          12,
          13,
          14,
          15,
          16,
          17,
          18,
          19,
          20
         ],
         "y": [
          2,
          2,
          2,
          2.1666666666666665,
          2.5,
          2.5,
          3.5,
          3.6666666666666665,
          4,
          4,
          4,
          4.166666666666667,
          4.5,
          4.5,
          5.333333333333333,
          5.5,
          6,
          6,
          6.166666666666667,
          6.166666666666667
         ]
        },
        {
         "hovertemplate": "<b>Sorcerer</b><br>level %{x:.0f}<br>save bonus %{y:.1f}<extra></extra>",
         "line": {
          "color": "#992E2E",
          "width": 1
         },
         "marker": {
          "color": "#992E2E"
         },
         "mode": "lines+markers",
         "name": "Sorcerer",
         "type": "scatter",
         "x": [
          1,
          2,
          3,
          4,
          5,
          6,
          7,
          8,
          9,
          10,
          11,
          12,
          13,
          14,
          15,
          16,
          17,
          18,
          19,
          20
         ],
         "y": [
          2,
          2,
          2,
          2.1666666666666665,
          2.5,
          2.5,
          2.5,
          2.6666666666666665,
          3,
          3,
          3,
          3.1666666666666665,
          3.5,
          3.5,
          3.5,
          3.6666666666666665,
          4,
          4,
          4.166666666666667,
          4.166666666666667
         ]
        },
        {
         "hovertemplate": "<b>Warlock</b><br>level %{x:.0f}<br>save bonus %{y:.1f}<extra></extra>",
         "line": {
          "color": "#7B469B",
          "width": 1
         },
         "marker": {
          "color": "#7B469B"
         },
         "mode": "lines+markers",
         "name": "Warlock",
         "type": "scatter",
         "x": [
          1,
          2,
          3,
          4,
          5,
          6,
          7,
          8,
          9,
          10,
          11,
          12,
          13,
          14,
          15,
          16,
          17,
          18,
          19,
          20
         ],
         "y": [
          2,
          2,
          2,
          2.1666666666666665,
          2.5,
          2.5,
          2.5,
          2.6666666666666665,
          3,
          3,
          3,
          3.1666666666666665,
          3.5,
          3.5,
          3.5,
          3.6666666666666665,
          4,
          4,
          4.166666666666667,
          4.166666666666667
         ]
        },
        {
         "hovertemplate": "<b>Wizard</b><br>level %{x:.0f}<br>save bonus %{y:.1f}<extra></extra>",
         "line": {
          "color": "#2A50A1",
          "width": 1
         },
         "marker": {
          "color": "#2A50A1"
         },
         "mode": "lines+markers",
         "name": "Wizard",
         "type": "scatter",
         "x": [
          1,
          2,
          3,
          4,
          5,
          6,
          7,
          8,
          9,
          10,
          11,
          12,
          13,
          14,
          15,
          16,
          17,
          18,
          19,
          20
         ],
         "y": [
          2,
          2,
          2,
          2.1666666666666665,
          2.5,
          2.5,
          2.5,
          2.6666666666666665,
          3,
          3,
          3,
          3.1666666666666665,
          3.5,
          3.5,
          3.5,
          3.6666666666666665,
          4,
          4,
          4.166666666666667,
          4.166666666666667
         ]
        },
        {
         "hovertemplate": "<b>Average</b><br>level %{x:.0f}<br>save bonus %{y:.1f}<extra></extra>",
         "legendgroup": "average",
         "line": {
          "color": "black",
          "dash": "dash"
         },
         "mode": "markers",
         "name": "average",
         "showlegend": false,
         "type": "scatter",
         "x": [
          1,
          2,
          3,
          4,
          5,
          6,
          7,
          8,
          9,
          10,
          11,
          12,
          13,
          14,
          15,
          16,
          17,
          18,
          19,
          20
         ],
         "y": [
          1.9166666666666667,
          1.972222222222222,
          1.972222222222222,
          2.1388888888888893,
          2.4722222222222223,
          2.736111111111111,
          2.902777777777778,
          3.069444444444444,
          3.430277777777778,
          3.430277777777778,
          3.430277777777778,
          3.680277777777777,
          4.041111111111111,
          4.332777777777777,
          4.402222222222222,
          4.652222222222222,
          5.0825000000000005,
          5.0825000000000005,
          5.304722222222221,
          5.304722222222221
         ]
        },
        {
         "hoverinfo": "skip",
         "hovertemplate": "<b>Average</b><br>level %{x:.0f}<br>save bonus %{y:.1f}<extra></extra>",
         "legendgroup": "average",
         "line": {
          "color": "black",
          "dash": "dash"
         },
         "mode": "lines",
         "name": "average",
         "showlegend": true,
         "type": "scatter",
         "x": [
          1,
          2,
          3,
          4,
          5,
          6,
          7,
          8,
          9,
          10,
          11,
          12,
          13,
          14,
          15,
          16,
          17,
          18,
          19,
          20
         ],
         "y": [
          1.7067222222222234,
          1.9026169590643287,
          2.098511695906434,
          2.294406432748539,
          2.4903011695906447,
          2.68619590643275,
          2.8820906432748554,
          3.0779853801169605,
          3.2738801169590657,
          3.4697748538011712,
          3.665669590643277,
          3.8615643274853815,
          4.057459064327487,
          4.253353801169593,
          4.449248538011698,
          4.645143274853803,
          4.841038011695908,
          5.036932748538014,
          5.232827485380119,
          5.428722222222224
         ]
        }
       ],
       "layout": {
        "height": 500,
        "legend": {
         "bgcolor": "rgba(0,0,0,0)",
         "orientation": "h",
         "tracegroupgap": 0,
         "x": 0,
         "xanchor": "left",
         "y": 1.01,
         "yanchor": "bottom"
        },
        "template": {
         "layout": {
          "autosize": false,
          "font": {
           "family": "sans-serif",
           "size": 14
          },
          "hoverlabel": {
           "align": "left"
          },
          "hovermode": "closest",
          "margin": {
           "b": 55,
           "l": 60,
           "pad": 4,
           "r": 25,
           "t": 20
          },
          "template": {
           "data": {
            "bar": [
             {
              "error_x": {
               "color": "#2a3f5f"
              },
              "error_y": {
               "color": "#2a3f5f"
              },
              "marker": {
               "line": {
                "color": "white",
                "width": 0.5
               },
               "pattern": {
                "fillmode": "overlay",
                "size": 10,
                "solidity": 0.2
               }
              },
              "type": "bar"
             }
            ],
            "barpolar": [
             {
              "marker": {
               "line": {
                "color": "white",
                "width": 0.5
               },
               "pattern": {
                "fillmode": "overlay",
                "size": 10,
                "solidity": 0.2
               }
              },
              "type": "barpolar"
             }
            ],
            "carpet": [
             {
              "aaxis": {
               "endlinecolor": "#2a3f5f",
               "gridcolor": "#C8D4E3",
               "linecolor": "#C8D4E3",
               "minorgridcolor": "#C8D4E3",
               "startlinecolor": "#2a3f5f"
              },
              "baxis": {
               "endlinecolor": "#2a3f5f",
               "gridcolor": "#C8D4E3",
               "linecolor": "#C8D4E3",
               "minorgridcolor": "#C8D4E3",
               "startlinecolor": "#2a3f5f"
              },
              "type": "carpet"
             }
            ],
            "choropleth": [
             {
              "colorbar": {
               "outlinewidth": 0,
               "ticks": ""
              },
              "type": "choropleth"
             }
            ],
            "contour": [
             {
              "colorbar": {
               "outlinewidth": 0,
               "ticks": ""
              },
              "colorscale": [
               [
                0,
                "#0d0887"
               ],
               [
                0.1111111111111111,
                "#46039f"
               ],
               [
                0.2222222222222222,
                "#7201a8"
               ],
               [
                0.3333333333333333,
                "#9c179e"
               ],
               [
                0.4444444444444444,
                "#bd3786"
               ],
               [
                0.5555555555555556,
                "#d8576b"
               ],
               [
                0.6666666666666666,
                "#ed7953"
               ],
               [
                0.7777777777777778,
                "#fb9f3a"
               ],
               [
                0.8888888888888888,
                "#fdca26"
               ],
               [
                1,
                "#f0f921"
               ]
              ],
              "type": "contour"
             }
            ],
            "contourcarpet": [
             {
              "colorbar": {
               "outlinewidth": 0,
               "ticks": ""
              },
              "type": "contourcarpet"
             }
            ],
            "heatmap": [
             {
              "colorbar": {
               "outlinewidth": 0,
               "ticks": ""
              },
              "colorscale": [
               [
                0,
                "#0d0887"
               ],
               [
                0.1111111111111111,
                "#46039f"
               ],
               [
                0.2222222222222222,
                "#7201a8"
               ],
               [
                0.3333333333333333,
                "#9c179e"
               ],
               [
                0.4444444444444444,
                "#bd3786"
               ],
               [
                0.5555555555555556,
                "#d8576b"
               ],
               [
                0.6666666666666666,
                "#ed7953"
               ],
               [
                0.7777777777777778,
                "#fb9f3a"
               ],
               [
                0.8888888888888888,
                "#fdca26"
               ],
               [
                1,
                "#f0f921"
               ]
              ],
              "type": "heatmap"
             }
            ],
            "heatmapgl": [
             {
              "colorbar": {
               "outlinewidth": 0,
               "ticks": ""
              },
              "colorscale": [
               [
                0,
                "#0d0887"
               ],
               [
                0.1111111111111111,
                "#46039f"
               ],
               [
                0.2222222222222222,
                "#7201a8"
               ],
               [
                0.3333333333333333,
                "#9c179e"
               ],
               [
                0.4444444444444444,
                "#bd3786"
               ],
               [
                0.5555555555555556,
                "#d8576b"
               ],
               [
                0.6666666666666666,
                "#ed7953"
               ],
               [
                0.7777777777777778,
                "#fb9f3a"
               ],
               [
                0.8888888888888888,
                "#fdca26"
               ],
               [
                1,
                "#f0f921"
               ]
              ],
              "type": "heatmapgl"
             }
            ],
            "histogram": [
             {
              "marker": {
               "pattern": {
                "fillmode": "overlay",
                "size": 10,
                "solidity": 0.2
               }
              },
              "type": "histogram"
             }
            ],
            "histogram2d": [
             {
              "colorbar": {
               "outlinewidth": 0,
               "ticks": ""
              },
              "colorscale": [
               [
                0,
                "#0d0887"
               ],
               [
                0.1111111111111111,
                "#46039f"
               ],
               [
                0.2222222222222222,
                "#7201a8"
               ],
               [
                0.3333333333333333,
                "#9c179e"
               ],
               [
                0.4444444444444444,
                "#bd3786"
               ],
               [
                0.5555555555555556,
                "#d8576b"
               ],
               [
                0.6666666666666666,
                "#ed7953"
               ],
               [
                0.7777777777777778,
                "#fb9f3a"
               ],
               [
                0.8888888888888888,
                "#fdca26"
               ],
               [
                1,
                "#f0f921"
               ]
              ],
              "type": "histogram2d"
             }
            ],
            "histogram2dcontour": [
             {
              "colorbar": {
               "outlinewidth": 0,
               "ticks": ""
              },
              "colorscale": [
               [
                0,
                "#0d0887"
               ],
               [
                0.1111111111111111,
                "#46039f"
               ],
               [
                0.2222222222222222,
                "#7201a8"
               ],
               [
                0.3333333333333333,
                "#9c179e"
               ],
               [
                0.4444444444444444,
                "#bd3786"
               ],
               [
                0.5555555555555556,
                "#d8576b"
               ],
               [
                0.6666666666666666,
                "#ed7953"
               ],
               [
                0.7777777777777778,
                "#fb9f3a"
               ],
               [
                0.8888888888888888,
                "#fdca26"
               ],
               [
                1,
                "#f0f921"
               ]
              ],
              "type": "histogram2dcontour"
             }
            ],
            "mesh3d": [
             {
              "colorbar": {
               "outlinewidth": 0,
               "ticks": ""
              },
              "type": "mesh3d"
             }
            ],
            "parcoords": [
             {
              "line": {
               "colorbar": {
                "outlinewidth": 0,
                "ticks": ""
               }
              },
              "type": "parcoords"
             }
            ],
            "pie": [
             {
              "automargin": true,
              "type": "pie"
             }
            ],
            "scatter": [
             {
              "fillpattern": {
               "fillmode": "overlay",
               "size": 10,
               "solidity": 0.2
              },
              "type": "scatter"
             }
            ],
            "scatter3d": [
             {
              "line": {
               "colorbar": {
                "outlinewidth": 0,
                "ticks": ""
               }
              },
              "marker": {
               "colorbar": {
                "outlinewidth": 0,
                "ticks": ""
               }
              },
              "type": "scatter3d"
             }
            ],
            "scattercarpet": [
             {
              "marker": {
               "colorbar": {
                "outlinewidth": 0,
                "ticks": ""
               }
              },
              "type": "scattercarpet"
             }
            ],
            "scattergeo": [
             {
              "marker": {
               "colorbar": {
                "outlinewidth": 0,
                "ticks": ""
               }
              },
              "type": "scattergeo"
             }
            ],
            "scattergl": [
             {
              "marker": {
               "colorbar": {
                "outlinewidth": 0,
                "ticks": ""
               }
              },
              "type": "scattergl"
             }
            ],
            "scattermapbox": [
             {
              "marker": {
               "colorbar": {
                "outlinewidth": 0,
                "ticks": ""
               }
              },
              "type": "scattermapbox"
             }
            ],
            "scatterpolar": [
             {
              "marker": {
               "colorbar": {
                "outlinewidth": 0,
                "ticks": ""
               }
              },
              "type": "scatterpolar"
             }
            ],
            "scatterpolargl": [
             {
              "marker": {
               "colorbar": {
                "outlinewidth": 0,
                "ticks": ""
               }
              },
              "type": "scatterpolargl"
             }
            ],
            "scatterternary": [
             {
              "marker": {
               "colorbar": {
                "outlinewidth": 0,
                "ticks": ""
               }
              },
              "type": "scatterternary"
             }
            ],
            "surface": [
             {
              "colorbar": {
               "outlinewidth": 0,
               "ticks": ""
              },
              "colorscale": [
               [
                0,
                "#0d0887"
               ],
               [
                0.1111111111111111,
                "#46039f"
               ],
               [
                0.2222222222222222,
                "#7201a8"
               ],
               [
                0.3333333333333333,
                "#9c179e"
               ],
               [
                0.4444444444444444,
                "#bd3786"
               ],
               [
                0.5555555555555556,
                "#d8576b"
               ],
               [
                0.6666666666666666,
                "#ed7953"
               ],
               [
                0.7777777777777778,
                "#fb9f3a"
               ],
               [
                0.8888888888888888,
                "#fdca26"
               ],
               [
                1,
                "#f0f921"
               ]
              ],
              "type": "surface"
             }
            ],
            "table": [
             {
              "cells": {
               "fill": {
                "color": "#EBF0F8"
               },
               "line": {
                "color": "white"
               }
              },
              "header": {
               "fill": {
                "color": "#C8D4E3"
               },
               "line": {
                "color": "white"
               }
              },
              "type": "table"
             }
            ]
           },
           "layout": {
            "annotationdefaults": {
             "arrowcolor": "#2a3f5f",
             "arrowhead": 0,
             "arrowwidth": 1
            },
            "autotypenumbers": "strict",
            "coloraxis": {
             "colorbar": {
              "outlinewidth": 0,
              "ticks": ""
             }
            },
            "colorscale": {
             "diverging": [
              [
               0,
               "#8e0152"
              ],
              [
               0.1,
               "#c51b7d"
              ],
              [
               0.2,
               "#de77ae"
              ],
              [
               0.3,
               "#f1b6da"
              ],
              [
               0.4,
               "#fde0ef"
              ],
              [
               0.5,
               "#f7f7f7"
              ],
              [
               0.6,
               "#e6f5d0"
              ],
              [
               0.7,
               "#b8e186"
              ],
              [
               0.8,
               "#7fbc41"
              ],
              [
               0.9,
               "#4d9221"
              ],
              [
               1,
               "#276419"
              ]
             ],
             "sequential": [
              [
               0,
               "#0d0887"
              ],
              [
               0.1111111111111111,
               "#46039f"
              ],
              [
               0.2222222222222222,
               "#7201a8"
              ],
              [
               0.3333333333333333,
               "#9c179e"
              ],
              [
               0.4444444444444444,
               "#bd3786"
              ],
              [
               0.5555555555555556,
               "#d8576b"
              ],
              [
               0.6666666666666666,
               "#ed7953"
              ],
              [
               0.7777777777777778,
               "#fb9f3a"
              ],
              [
               0.8888888888888888,
               "#fdca26"
              ],
              [
               1,
               "#f0f921"
              ]
             ],
             "sequentialminus": [
              [
               0,
               "#0d0887"
              ],
              [
               0.1111111111111111,
               "#46039f"
              ],
              [
               0.2222222222222222,
               "#7201a8"
              ],
              [
               0.3333333333333333,
               "#9c179e"
              ],
              [
               0.4444444444444444,
               "#bd3786"
              ],
              [
               0.5555555555555556,
               "#d8576b"
              ],
              [
               0.6666666666666666,
               "#ed7953"
              ],
              [
               0.7777777777777778,
               "#fb9f3a"
              ],
              [
               0.8888888888888888,
               "#fdca26"
              ],
              [
               1,
               "#f0f921"
              ]
             ]
            },
            "colorway": [
             "#636efa",
             "#EF553B",
             "#00cc96",
             "#ab63fa",
             "#FFA15A",
             "#19d3f3",
             "#FF6692",
             "#B6E880",
             "#FF97FF",
             "#FECB52"
            ],
            "font": {
             "color": "#2a3f5f"
            },
            "geo": {
             "bgcolor": "white",
             "lakecolor": "white",
             "landcolor": "white",
             "showlakes": true,
             "showland": true,
             "subunitcolor": "#C8D4E3"
            },
            "hoverlabel": {
             "align": "left"
            },
            "hovermode": "closest",
            "mapbox": {
             "style": "light"
            },
            "paper_bgcolor": "white",
            "plot_bgcolor": "white",
            "polar": {
             "angularaxis": {
              "gridcolor": "#EBF0F8",
              "linecolor": "#EBF0F8",
              "ticks": ""
             },
             "bgcolor": "white",
             "radialaxis": {
              "gridcolor": "#EBF0F8",
              "linecolor": "#EBF0F8",
              "ticks": ""
             }
            },
            "scene": {
             "xaxis": {
              "backgroundcolor": "white",
              "gridcolor": "#DFE8F3",
              "gridwidth": 2,
              "linecolor": "#EBF0F8",
              "showbackground": true,
              "ticks": "",
              "zerolinecolor": "#EBF0F8"
             },
             "yaxis": {
              "backgroundcolor": "white",
              "gridcolor": "#DFE8F3",
              "gridwidth": 2,
              "linecolor": "#EBF0F8",
              "showbackground": true,
              "ticks": "",
              "zerolinecolor": "#EBF0F8"
             },
             "zaxis": {
              "backgroundcolor": "white",
              "gridcolor": "#DFE8F3",
              "gridwidth": 2,
              "linecolor": "#EBF0F8",
              "showbackground": true,
              "ticks": "",
              "zerolinecolor": "#EBF0F8"
             }
            },
            "shapedefaults": {
             "line": {
              "color": "#2a3f5f"
             }
            },
            "ternary": {
             "aaxis": {
              "gridcolor": "#DFE8F3",
              "linecolor": "#A2B1C6",
              "ticks": ""
             },
             "baxis": {
              "gridcolor": "#DFE8F3",
              "linecolor": "#A2B1C6",
              "ticks": ""
             },
             "bgcolor": "white",
             "caxis": {
              "gridcolor": "#DFE8F3",
              "linecolor": "#A2B1C6",
              "ticks": ""
             }
            },
            "title": {
             "x": 0.05
            },
            "xaxis": {
             "automargin": true,
             "gridcolor": "#EBF0F8",
             "linecolor": "#EBF0F8",
             "ticks": "",
             "title": {
              "standoff": 15
             },
             "zerolinecolor": "#EBF0F8",
             "zerolinewidth": 2
            },
            "yaxis": {
             "automargin": true,
             "gridcolor": "#EBF0F8",
             "linecolor": "#EBF0F8",
             "ticks": "",
             "title": {
              "standoff": 15
             },
             "zerolinecolor": "#EBF0F8",
             "zerolinewidth": 2
            }
           }
          },
          "xaxis": {
           "automargin": false,
           "linecolor": "#444",
           "linewidth": 2,
           "minor": {
            "tickmode": "linear",
            "ticks": "outside"
           },
           "mirror": true,
           "showline": true,
           "tickmode": "linear",
           "ticks": "outside",
           "zeroline": false
          },
          "yaxis": {
           "automargin": false,
           "linecolor": "#444",
           "linewidth": 2,
           "minor": {
            "tickmode": "linear",
            "ticks": "outside"
           },
           "mirror": true,
           "showline": true,
           "ticks": "outside",
           "zeroline": false
          }
         }
        },
        "width": 600,
        "xaxis": {
         "dtick": 5,
         "minor": {
          "dtick": 1,
          "tick0": 0
         },
         "range": [
          0.8,
          20.2
         ],
         "tick0": 0,
         "title": {
          "text": "level"
         }
        },
        "yaxis": {
         "dtick": 2,
         "minor": {
          "dtick": 1,
          "tick0": 0
         },
         "range": [
          0,
          10
         ],
         "tick0": 0,
         "title": {
          "text": "average save bonus"
         }
        }
       }
      }
     },
     "metadata": {},
     "output_type": "display_data"
    }
   ],
   "source": [
    "# Plots average saving throw bonus for each class, calculated for a full adventuring day with Medium encounters and two short rests.\n",
    "# create figure\n",
    "fig = go.Figure(\n",
    "    layout=go.Layout(\n",
    "        template=tfb.FIG_TEMPLATE,\n",
    "        xaxis=dict(\n",
    "            title_text='level',\n",
    "            range=[0.8, 20.2],\n",
    "            tick0=0, dtick=5,\n",
    "            minor=dict(tick0=0, dtick=1),\n",
    "        ),\n",
    "        yaxis=dict(\n",
    "            title_text='average save bonus',\n",
    "            range=[0, 10],\n",
    "            tick0=0, dtick=2,\n",
    "            minor=dict(tick0=0, dtick=1),\n",
    "        ),\n",
    "        legend=dict(\n",
    "            yanchor='bottom',  y=1.01,\n",
    "            xanchor='left', x=0.00,\n",
    "            bgcolor='rgba(0,0,0,0)',\n",
    "            orientation='h',\n",
    "            tracegroupgap=0,\n",
    "        )\n",
    "    )\n",
    ")\n",
    "\n",
    "# get PC data\n",
    "levels = list(range(1,21))\n",
    "for c in pcs:\n",
    "    pc = pcs[c]\n",
    "    sb_ave = [np.mean(list(pc.set_level(lvl).build().get_save_bonuses().values())) for lvl in levels]\n",
    "    fig.add_trace(go.Scatter(\n",
    "        x=levels, \n",
    "        y=sb_ave,\n",
    "        mode='lines+markers', \n",
    "        line=dict(color=PC_CLASSES[c]['color'], width=1),\n",
    "        marker=dict(color=PC_CLASSES[c]['color']),\n",
    "        name=c,\n",
    "        hovertemplate=\n",
    "                f'<b>{c}</b><br>'+\n",
    "                'level %{x:.0f}<br>'+\n",
    "                'save bonus %{y:.1f}'+\n",
    "                '<extra></extra>'\n",
    "    ))\n",
    "\n",
    "# get PC data\n",
    "levels = list(range(1,21))\n",
    "sb_matrix = np.zeros([20,len(PC_CLASSES)])\n",
    "pc_names = list(pcs.keys())\n",
    "for i in range(len(pc_names)):\n",
    "    pc = pcs[pc_names[i]]\n",
    "    sb_matrix[:,i] = np.array([np.mean(list(pc.set_level(lvl).build().get_save_bonuses().values())) for lvl in levels])\n",
    "\n",
    "plot_data_and_fit(\n",
    "    fig, \n",
    "    levels, np.mean(sb_matrix, axis=1), \n",
    "    name='average',\n",
    "    legendgroup='average',\n",
    "    line=dict(color='black', dash='dash'),\n",
    "    hovertemplate=\n",
    "            f'<b>Average</b><br>'+\n",
    "            'level %{x:.0f}<br>'+\n",
    "            'save bonus %{y:.1f}'+\n",
    "            '<extra></extra>',\n",
    "    print_coefficients=True,\n",
    ")\n",
    "\n",
    "# show figure\n",
    "fig.update_layout(width=600, height=500)\n",
    "fig.show(config=tfb.FIG_CONFIG)\n",
    "\n",
    "# save figures\n",
    "if SAVEFIGS:\n",
    "    fig.update_layout(autosize=True, width=None, height=None)\n",
    "    tfb.save_fig_html(fig, format='large', name=f'./fig-sb-vs-level-large', style='aspect-ratio:600/550')\n",
    "    tfb.save_fig_html(fig, format='small', name=f'./fig-sb-vs-level-small', style='aspect-ratio:600/600')"
   ]
  },
  {
   "cell_type": "code",
   "execution_count": 33,
   "metadata": {},
   "outputs": [
    {
     "name": "stdout",
     "output_type": "stream",
     "text": [
      "LVL >= 1: 0.53 + 0.01*LVL\n",
      "LVL >= 1: 0.49 + 0.01*LVL\n"
     ]
    },
    {
     "data": {
      "application/vnd.plotly.v1+json": {
       "config": {
        "autosizable": true,
        "displayModeBar": "hover",
        "displaylogo": false,
        "modeBarButtonsToRemove": [
         "select2d",
         "lasso2d",
         "zoom2d",
         "zoomIn2d",
         "zoomOut2d",
         "pan2d",
         "autoScale2d",
         "hoverClosestCartesian",
         "hoverCompareCartesian",
         "toggleSpikelines",
         "resetScale2d"
        ],
        "plotlyServerURL": "https://plot.ly",
        "responsive": true,
        "showAxisDragHandles": false,
        "toImageButtonOptions": {
         "filename": "tfb-plot",
         "format": "png",
         "height": 450,
         "scale": 2,
         "width": 600
        }
       },
       "data": [
        {
         "hovertemplate": "<b>Attacks</b><br>level %{x:.0f}<br>probability %{y:.1%}<extra></extra>",
         "legendgroup": "attacks",
         "line": {
          "color": "#1f77b4",
          "dash": "solid",
          "width": 1
         },
         "mode": "markers",
         "name": "attacks",
         "showlegend": false,
         "type": "scatter",
         "x": [
          1,
          2,
          3,
          4,
          5,
          6,
          7,
          8,
          9,
          10,
          11,
          12,
          13,
          14,
          15,
          16,
          17,
          18,
          19,
          20
         ],
         "y": [
          0.5457051282051283,
          0.5563943894389438,
          0.5842908902691512,
          0.5881884057971015,
          0.6114864864864865,
          0.6150316455696203,
          0.6316287878787878,
          0.6352450980392158,
          0.6966530054644808,
          0.6631666666666667,
          0.6825,
          0.6637820512820514,
          0.7101190476190476,
          0.7058333333333334,
          0.7437500000000002,
          0.7364583333333334,
          0.7958333333333334,
          0.7737745098039218,
          0.781439393939394,
          0.8255952380952382
         ]
        },
        {
         "hoverinfo": "skip",
         "hovertemplate": "<b>Attacks</b><br>level %{x:.0f}<br>probability %{y:.1%}<extra></extra>",
         "legendgroup": "attacks",
         "line": {
          "color": "#1f77b4",
          "dash": "solid",
          "width": 1
         },
         "mode": "lines",
         "name": "attacks",
         "showlegend": true,
         "type": "scatter",
         "x": [
          1,
          2,
          3,
          4,
          5,
          6,
          7,
          8,
          9,
          10,
          11,
          12,
          13,
          14,
          15,
          16,
          17,
          18,
          19,
          20
         ],
         "y": [
          0.5485366939601328,
          0.5620953353567253,
          0.5756539767533179,
          0.5892126181499104,
          0.6027712595465029,
          0.6163299009430955,
          0.629888542339688,
          0.6434471837362805,
          0.6570058251328731,
          0.6705644665294657,
          0.6841231079260581,
          0.6976817493226507,
          0.7112403907192433,
          0.7247990321158357,
          0.7383576735124283,
          0.7519163149090209,
          0.7654749563056134,
          0.7790335977022059,
          0.7925922390987985,
          0.806150880495391
         ]
        },
        {
         "hovertemplate": "<b>Saving Throws</b><br>level %{x:.0f}<br>probability %{y:.1%}<extra></extra>",
         "legendgroup": "saving throws",
         "line": {
          "color": "#ff7f0e",
          "dash": "solid",
          "width": 1
         },
         "mode": "markers",
         "name": "saving throws",
         "showlegend": false,
         "type": "scatter",
         "x": [
          1,
          2,
          3,
          4,
          5,
          6,
          7,
          8,
          9,
          10,
          11,
          12,
          13,
          14,
          15,
          16,
          17,
          18,
          19,
          20
         ],
         "y": [
          0.4957051282051283,
          0.5036166116611661,
          0.5315131124913733,
          0.5395772946859904,
          0.5753753753753754,
          0.5657260900140647,
          0.5781565656565658,
          0.5859395424836602,
          0.6293057832422588,
          0.6124861111111112,
          0.6484861111111111,
          0.6339348290598291,
          0.6622301587301588,
          0.643361111111111,
          0.6778055555555556,
          0.683013888888889,
          0.720875,
          0.6988161764705882,
          0.7120366161616163,
          0.7561924603174603
         ]
        },
        {
         "hoverinfo": "skip",
         "hovertemplate": "<b>Saving Throws</b><br>level %{x:.0f}<br>probability %{y:.1%}<extra></extra>",
         "legendgroup": "saving throws",
         "line": {
          "color": "#ff7f0e",
          "dash": "solid",
          "width": 1
         },
         "mode": "lines",
         "name": "saving throws",
         "showlegend": true,
         "type": "scatter",
         "x": [
          1,
          2,
          3,
          4,
          5,
          6,
          7,
          8,
          9,
          10,
          11,
          12,
          13,
          14,
          15,
          16,
          17,
          18,
          19,
          20
         ],
         "y": [
          0.5052839161823552,
          0.5176443119649127,
          0.5300047077474701,
          0.5423651035300275,
          0.554725499312585,
          0.5670858950951424,
          0.5794462908776998,
          0.5918066866602574,
          0.6041670824428148,
          0.6165274782253722,
          0.6288878740079297,
          0.6412482697904871,
          0.6536086655730445,
          0.665969061355602,
          0.6783294571381595,
          0.6906898529207168,
          0.7030502487032744,
          0.7154106444858318,
          0.7277710402683892,
          0.7401314360509467
         ]
        },
        {
         "hoverinfo": "skip",
         "line": {
          "color": "black",
          "dash": "dash"
         },
         "mode": "lines",
         "name": "baseline",
         "showlegend": false,
         "type": "scatter",
         "x": [
          1,
          20
         ],
         "y": [
          0.65,
          0.65
         ]
        }
       ],
       "layout": {
        "height": 500,
        "legend": {
         "bgcolor": "rgba(0,0,0,0)",
         "orientation": "v",
         "tracegroupgap": 0,
         "x": 0,
         "xanchor": "left",
         "y": 0.99,
         "yanchor": "top"
        },
        "template": {
         "layout": {
          "autosize": false,
          "font": {
           "family": "sans-serif",
           "size": 14
          },
          "hoverlabel": {
           "align": "left"
          },
          "hovermode": "closest",
          "margin": {
           "b": 55,
           "l": 60,
           "pad": 4,
           "r": 25,
           "t": 20
          },
          "template": {
           "data": {
            "bar": [
             {
              "error_x": {
               "color": "#2a3f5f"
              },
              "error_y": {
               "color": "#2a3f5f"
              },
              "marker": {
               "line": {
                "color": "white",
                "width": 0.5
               },
               "pattern": {
                "fillmode": "overlay",
                "size": 10,
                "solidity": 0.2
               }
              },
              "type": "bar"
             }
            ],
            "barpolar": [
             {
              "marker": {
               "line": {
                "color": "white",
                "width": 0.5
               },
               "pattern": {
                "fillmode": "overlay",
                "size": 10,
                "solidity": 0.2
               }
              },
              "type": "barpolar"
             }
            ],
            "carpet": [
             {
              "aaxis": {
               "endlinecolor": "#2a3f5f",
               "gridcolor": "#C8D4E3",
               "linecolor": "#C8D4E3",
               "minorgridcolor": "#C8D4E3",
               "startlinecolor": "#2a3f5f"
              },
              "baxis": {
               "endlinecolor": "#2a3f5f",
               "gridcolor": "#C8D4E3",
               "linecolor": "#C8D4E3",
               "minorgridcolor": "#C8D4E3",
               "startlinecolor": "#2a3f5f"
              },
              "type": "carpet"
             }
            ],
            "choropleth": [
             {
              "colorbar": {
               "outlinewidth": 0,
               "ticks": ""
              },
              "type": "choropleth"
             }
            ],
            "contour": [
             {
              "colorbar": {
               "outlinewidth": 0,
               "ticks": ""
              },
              "colorscale": [
               [
                0,
                "#0d0887"
               ],
               [
                0.1111111111111111,
                "#46039f"
               ],
               [
                0.2222222222222222,
                "#7201a8"
               ],
               [
                0.3333333333333333,
                "#9c179e"
               ],
               [
                0.4444444444444444,
                "#bd3786"
               ],
               [
                0.5555555555555556,
                "#d8576b"
               ],
               [
                0.6666666666666666,
                "#ed7953"
               ],
               [
                0.7777777777777778,
                "#fb9f3a"
               ],
               [
                0.8888888888888888,
                "#fdca26"
               ],
               [
                1,
                "#f0f921"
               ]
              ],
              "type": "contour"
             }
            ],
            "contourcarpet": [
             {
              "colorbar": {
               "outlinewidth": 0,
               "ticks": ""
              },
              "type": "contourcarpet"
             }
            ],
            "heatmap": [
             {
              "colorbar": {
               "outlinewidth": 0,
               "ticks": ""
              },
              "colorscale": [
               [
                0,
                "#0d0887"
               ],
               [
                0.1111111111111111,
                "#46039f"
               ],
               [
                0.2222222222222222,
                "#7201a8"
               ],
               [
                0.3333333333333333,
                "#9c179e"
               ],
               [
                0.4444444444444444,
                "#bd3786"
               ],
               [
                0.5555555555555556,
                "#d8576b"
               ],
               [
                0.6666666666666666,
                "#ed7953"
               ],
               [
                0.7777777777777778,
                "#fb9f3a"
               ],
               [
                0.8888888888888888,
                "#fdca26"
               ],
               [
                1,
                "#f0f921"
               ]
              ],
              "type": "heatmap"
             }
            ],
            "heatmapgl": [
             {
              "colorbar": {
               "outlinewidth": 0,
               "ticks": ""
              },
              "colorscale": [
               [
                0,
                "#0d0887"
               ],
               [
                0.1111111111111111,
                "#46039f"
               ],
               [
                0.2222222222222222,
                "#7201a8"
               ],
               [
                0.3333333333333333,
                "#9c179e"
               ],
               [
                0.4444444444444444,
                "#bd3786"
               ],
               [
                0.5555555555555556,
                "#d8576b"
               ],
               [
                0.6666666666666666,
                "#ed7953"
               ],
               [
                0.7777777777777778,
                "#fb9f3a"
               ],
               [
                0.8888888888888888,
                "#fdca26"
               ],
               [
                1,
                "#f0f921"
               ]
              ],
              "type": "heatmapgl"
             }
            ],
            "histogram": [
             {
              "marker": {
               "pattern": {
                "fillmode": "overlay",
                "size": 10,
                "solidity": 0.2
               }
              },
              "type": "histogram"
             }
            ],
            "histogram2d": [
             {
              "colorbar": {
               "outlinewidth": 0,
               "ticks": ""
              },
              "colorscale": [
               [
                0,
                "#0d0887"
               ],
               [
                0.1111111111111111,
                "#46039f"
               ],
               [
                0.2222222222222222,
                "#7201a8"
               ],
               [
                0.3333333333333333,
                "#9c179e"
               ],
               [
                0.4444444444444444,
                "#bd3786"
               ],
               [
                0.5555555555555556,
                "#d8576b"
               ],
               [
                0.6666666666666666,
                "#ed7953"
               ],
               [
                0.7777777777777778,
                "#fb9f3a"
               ],
               [
                0.8888888888888888,
                "#fdca26"
               ],
               [
                1,
                "#f0f921"
               ]
              ],
              "type": "histogram2d"
             }
            ],
            "histogram2dcontour": [
             {
              "colorbar": {
               "outlinewidth": 0,
               "ticks": ""
              },
              "colorscale": [
               [
                0,
                "#0d0887"
               ],
               [
                0.1111111111111111,
                "#46039f"
               ],
               [
                0.2222222222222222,
                "#7201a8"
               ],
               [
                0.3333333333333333,
                "#9c179e"
               ],
               [
                0.4444444444444444,
                "#bd3786"
               ],
               [
                0.5555555555555556,
                "#d8576b"
               ],
               [
                0.6666666666666666,
                "#ed7953"
               ],
               [
                0.7777777777777778,
                "#fb9f3a"
               ],
               [
                0.8888888888888888,
                "#fdca26"
               ],
               [
                1,
                "#f0f921"
               ]
              ],
              "type": "histogram2dcontour"
             }
            ],
            "mesh3d": [
             {
              "colorbar": {
               "outlinewidth": 0,
               "ticks": ""
              },
              "type": "mesh3d"
             }
            ],
            "parcoords": [
             {
              "line": {
               "colorbar": {
                "outlinewidth": 0,
                "ticks": ""
               }
              },
              "type": "parcoords"
             }
            ],
            "pie": [
             {
              "automargin": true,
              "type": "pie"
             }
            ],
            "scatter": [
             {
              "fillpattern": {
               "fillmode": "overlay",
               "size": 10,
               "solidity": 0.2
              },
              "type": "scatter"
             }
            ],
            "scatter3d": [
             {
              "line": {
               "colorbar": {
                "outlinewidth": 0,
                "ticks": ""
               }
              },
              "marker": {
               "colorbar": {
                "outlinewidth": 0,
                "ticks": ""
               }
              },
              "type": "scatter3d"
             }
            ],
            "scattercarpet": [
             {
              "marker": {
               "colorbar": {
                "outlinewidth": 0,
                "ticks": ""
               }
              },
              "type": "scattercarpet"
             }
            ],
            "scattergeo": [
             {
              "marker": {
               "colorbar": {
                "outlinewidth": 0,
                "ticks": ""
               }
              },
              "type": "scattergeo"
             }
            ],
            "scattergl": [
             {
              "marker": {
               "colorbar": {
                "outlinewidth": 0,
                "ticks": ""
               }
              },
              "type": "scattergl"
             }
            ],
            "scattermapbox": [
             {
              "marker": {
               "colorbar": {
                "outlinewidth": 0,
                "ticks": ""
               }
              },
              "type": "scattermapbox"
             }
            ],
            "scatterpolar": [
             {
              "marker": {
               "colorbar": {
                "outlinewidth": 0,
                "ticks": ""
               }
              },
              "type": "scatterpolar"
             }
            ],
            "scatterpolargl": [
             {
              "marker": {
               "colorbar": {
                "outlinewidth": 0,
                "ticks": ""
               }
              },
              "type": "scatterpolargl"
             }
            ],
            "scatterternary": [
             {
              "marker": {
               "colorbar": {
                "outlinewidth": 0,
                "ticks": ""
               }
              },
              "type": "scatterternary"
             }
            ],
            "surface": [
             {
              "colorbar": {
               "outlinewidth": 0,
               "ticks": ""
              },
              "colorscale": [
               [
                0,
                "#0d0887"
               ],
               [
                0.1111111111111111,
                "#46039f"
               ],
               [
                0.2222222222222222,
                "#7201a8"
               ],
               [
                0.3333333333333333,
                "#9c179e"
               ],
               [
                0.4444444444444444,
                "#bd3786"
               ],
               [
                0.5555555555555556,
                "#d8576b"
               ],
               [
                0.6666666666666666,
                "#ed7953"
               ],
               [
                0.7777777777777778,
                "#fb9f3a"
               ],
               [
                0.8888888888888888,
                "#fdca26"
               ],
               [
                1,
                "#f0f921"
               ]
              ],
              "type": "surface"
             }
            ],
            "table": [
             {
              "cells": {
               "fill": {
                "color": "#EBF0F8"
               },
               "line": {
                "color": "white"
               }
              },
              "header": {
               "fill": {
                "color": "#C8D4E3"
               },
               "line": {
                "color": "white"
               }
              },
              "type": "table"
             }
            ]
           },
           "layout": {
            "annotationdefaults": {
             "arrowcolor": "#2a3f5f",
             "arrowhead": 0,
             "arrowwidth": 1
            },
            "autotypenumbers": "strict",
            "coloraxis": {
             "colorbar": {
              "outlinewidth": 0,
              "ticks": ""
             }
            },
            "colorscale": {
             "diverging": [
              [
               0,
               "#8e0152"
              ],
              [
               0.1,
               "#c51b7d"
              ],
              [
               0.2,
               "#de77ae"
              ],
              [
               0.3,
               "#f1b6da"
              ],
              [
               0.4,
               "#fde0ef"
              ],
              [
               0.5,
               "#f7f7f7"
              ],
              [
               0.6,
               "#e6f5d0"
              ],
              [
               0.7,
               "#b8e186"
              ],
              [
               0.8,
               "#7fbc41"
              ],
              [
               0.9,
               "#4d9221"
              ],
              [
               1,
               "#276419"
              ]
             ],
             "sequential": [
              [
               0,
               "#0d0887"
              ],
              [
               0.1111111111111111,
               "#46039f"
              ],
              [
               0.2222222222222222,
               "#7201a8"
              ],
              [
               0.3333333333333333,
               "#9c179e"
              ],
              [
               0.4444444444444444,
               "#bd3786"
              ],
              [
               0.5555555555555556,
               "#d8576b"
              ],
              [
               0.6666666666666666,
               "#ed7953"
              ],
              [
               0.7777777777777778,
               "#fb9f3a"
              ],
              [
               0.8888888888888888,
               "#fdca26"
              ],
              [
               1,
               "#f0f921"
              ]
             ],
             "sequentialminus": [
              [
               0,
               "#0d0887"
              ],
              [
               0.1111111111111111,
               "#46039f"
              ],
              [
               0.2222222222222222,
               "#7201a8"
              ],
              [
               0.3333333333333333,
               "#9c179e"
              ],
              [
               0.4444444444444444,
               "#bd3786"
              ],
              [
               0.5555555555555556,
               "#d8576b"
              ],
              [
               0.6666666666666666,
               "#ed7953"
              ],
              [
               0.7777777777777778,
               "#fb9f3a"
              ],
              [
               0.8888888888888888,
               "#fdca26"
              ],
              [
               1,
               "#f0f921"
              ]
             ]
            },
            "colorway": [
             "#636efa",
             "#EF553B",
             "#00cc96",
             "#ab63fa",
             "#FFA15A",
             "#19d3f3",
             "#FF6692",
             "#B6E880",
             "#FF97FF",
             "#FECB52"
            ],
            "font": {
             "color": "#2a3f5f"
            },
            "geo": {
             "bgcolor": "white",
             "lakecolor": "white",
             "landcolor": "white",
             "showlakes": true,
             "showland": true,
             "subunitcolor": "#C8D4E3"
            },
            "hoverlabel": {
             "align": "left"
            },
            "hovermode": "closest",
            "mapbox": {
             "style": "light"
            },
            "paper_bgcolor": "white",
            "plot_bgcolor": "white",
            "polar": {
             "angularaxis": {
              "gridcolor": "#EBF0F8",
              "linecolor": "#EBF0F8",
              "ticks": ""
             },
             "bgcolor": "white",
             "radialaxis": {
              "gridcolor": "#EBF0F8",
              "linecolor": "#EBF0F8",
              "ticks": ""
             }
            },
            "scene": {
             "xaxis": {
              "backgroundcolor": "white",
              "gridcolor": "#DFE8F3",
              "gridwidth": 2,
              "linecolor": "#EBF0F8",
              "showbackground": true,
              "ticks": "",
              "zerolinecolor": "#EBF0F8"
             },
             "yaxis": {
              "backgroundcolor": "white",
              "gridcolor": "#DFE8F3",
              "gridwidth": 2,
              "linecolor": "#EBF0F8",
              "showbackground": true,
              "ticks": "",
              "zerolinecolor": "#EBF0F8"
             },
             "zaxis": {
              "backgroundcolor": "white",
              "gridcolor": "#DFE8F3",
              "gridwidth": 2,
              "linecolor": "#EBF0F8",
              "showbackground": true,
              "ticks": "",
              "zerolinecolor": "#EBF0F8"
             }
            },
            "shapedefaults": {
             "line": {
              "color": "#2a3f5f"
             }
            },
            "ternary": {
             "aaxis": {
              "gridcolor": "#DFE8F3",
              "linecolor": "#A2B1C6",
              "ticks": ""
             },
             "baxis": {
              "gridcolor": "#DFE8F3",
              "linecolor": "#A2B1C6",
              "ticks": ""
             },
             "bgcolor": "white",
             "caxis": {
              "gridcolor": "#DFE8F3",
              "linecolor": "#A2B1C6",
              "ticks": ""
             }
            },
            "title": {
             "x": 0.05
            },
            "xaxis": {
             "automargin": true,
             "gridcolor": "#EBF0F8",
             "linecolor": "#EBF0F8",
             "ticks": "",
             "title": {
              "standoff": 15
             },
             "zerolinecolor": "#EBF0F8",
             "zerolinewidth": 2
            },
            "yaxis": {
             "automargin": true,
             "gridcolor": "#EBF0F8",
             "linecolor": "#EBF0F8",
             "ticks": "",
             "title": {
              "standoff": 15
             },
             "zerolinecolor": "#EBF0F8",
             "zerolinewidth": 2
            }
           }
          },
          "xaxis": {
           "automargin": false,
           "linecolor": "#444",
           "linewidth": 2,
           "minor": {
            "tickmode": "linear",
            "ticks": "outside"
           },
           "mirror": true,
           "showline": true,
           "tickmode": "linear",
           "ticks": "outside",
           "zeroline": false
          },
          "yaxis": {
           "automargin": false,
           "linecolor": "#444",
           "linewidth": 2,
           "minor": {
            "tickmode": "linear",
            "ticks": "outside"
           },
           "mirror": true,
           "showline": true,
           "ticks": "outside",
           "zeroline": false
          }
         }
        },
        "width": 600,
        "xaxis": {
         "dtick": 5,
         "minor": {
          "dtick": 1,
          "tick0": 0
         },
         "range": [
          0.8,
          20.2
         ],
         "tick0": 0,
         "title": {
          "text": "level"
         }
        },
        "yaxis": {
         "dtick": 0.2,
         "minor": {
          "dtick": 0.1,
          "tick0": 0
         },
         "range": [
          0,
          1
         ],
         "tick0": 0,
         "title": {
          "text": "probability"
         }
        }
       }
      }
     },
     "metadata": {},
     "output_type": "display_data"
    }
   ],
   "source": [
    "# Plots probability of a PC failing a saving throw against a level appropriate monster.\n",
    "\n",
    "# create figure\n",
    "fig = go.Figure(\n",
    "    layout=go.Layout(\n",
    "        template=tfb.FIG_TEMPLATE,\n",
    "        xaxis=dict(\n",
    "            title_text='level',\n",
    "            range=[0.8, 20.2],\n",
    "            tick0=0, dtick=5,\n",
    "            minor=dict(tick0=0, dtick=1),\n",
    "        ),\n",
    "        yaxis=dict(\n",
    "            title_text='probability',\n",
    "            range=[0, 1],\n",
    "            tick0=0, dtick=0.2,\n",
    "            minor=dict(tick0=0, dtick=0.1),\n",
    "        ),\n",
    "        legend=dict(\n",
    "            yanchor='top',  y=0.99,\n",
    "            xanchor='left', x=0.00,\n",
    "            bgcolor='rgba(0,0,0,0)',\n",
    "            orientation='v',\n",
    "            tracegroupgap=0,\n",
    "        )\n",
    "    )\n",
    ")\n",
    "\n",
    "# player character data\n",
    "levels = list(range(1,21))\n",
    "ac_matrix = []\n",
    "sb_matrix = []\n",
    "pc_names = list(pcs.keys())\n",
    "exclude_pcs = ['Barbarian','Fighter','Rogue']\n",
    "for c in pcs:\n",
    "    pc = pcs[c]\n",
    "    ac_matrix.append([pc.set_level(lvl).build().get_armor_class() for lvl in levels])\n",
    "    sb_matrix.append([np.mean(list(pc.set_level(lvl).build().get_save_bonuses().values())) for lvl in levels])\n",
    "p_ac = np.mean(np.array(ac_matrix), axis=0)\n",
    "p_sb = np.mean(np.array(sb_matrix), axis=0)\n",
    "\n",
    "# monster data\n",
    "dfM = pd.read_csv('../../assets/data/monsters.csv')\n",
    "dfM['adj DC'] = dfM['adj AB'] + 8\n",
    "dfM = dfM[['CR','adj AB','adj DC']].groupby(['CR']).mean().reset_index()\n",
    "dfM = dfM[dfM['CR'].between(1, 20)]\n",
    "dfM.sort_values(by='CR', inplace=True)\n",
    "m_ab  = dfM['adj AB'].to_numpy()\n",
    "m_dc  = dfM['adj DC'].to_numpy()\n",
    "\n",
    "# attack\n",
    "levels = list(range(1,21))\n",
    "hit_prob = [attack_hit_crit_prob(ac, ab) for ac, ab in zip(p_ac, m_ab)]\n",
    "plot_data_and_fit(\n",
    "    fig, \n",
    "    levels, hit_prob,\n",
    "    name='attacks',\n",
    "    legendgroup='attacks',\n",
    "    line=dict(color=COLOR_LIST[0], dash='solid', width=1),\n",
    "    hovertemplate=\n",
    "            f'<b>Attacks</b><br>'+\n",
    "            'level %{x:.0f}<br>'+\n",
    "            'probability %{y:.1%}'+\n",
    "            '<extra></extra>',\n",
    "    print_coefficients=True,\n",
    ")\n",
    "\n",
    "# saving throw\n",
    "levels = list(range(1,21))\n",
    "fail_prob = [save_fail_prob(sb, dc) for sb, dc in zip(p_sb, m_dc)]\n",
    "plot_data_and_fit(\n",
    "    fig, \n",
    "    levels, fail_prob,\n",
    "    name='saving throws',\n",
    "    legendgroup='saving throws',\n",
    "    line=dict(color=COLOR_LIST[1], dash='solid', width=1),\n",
    "    hovertemplate=\n",
    "            f'<b>Saving Throws</b><br>'+\n",
    "            'level %{x:.0f}<br>'+\n",
    "            'probability %{y:.1%}'+\n",
    "            '<extra></extra>',\n",
    "    print_coefficients=True,\n",
    ")\n",
    "\n",
    "fig.add_trace(go.Scatter(\n",
    "    x=[1,20], \n",
    "    y=[0.65,0.65],\n",
    "    mode='lines', \n",
    "    name='baseline',\n",
    "    line=dict(color='black', dash='dash'),\n",
    "    hoverinfo='skip',\n",
    "    showlegend=False,\n",
    "))\n",
    "\n",
    "# show figure\n",
    "fig.update_layout(width=600, height=500)\n",
    "fig.show(config=tfb.FIG_CONFIG)\n",
    "\n",
    "# save figures\n",
    "if SAVEFIGS:\n",
    "    fig.update_layout(autosize=True, width=None, height=None)\n",
    "    tfb.save_fig_html(fig, format='large', name=f'./fig-defense-probabilities-vs-level-large')\n",
    "    tfb.save_fig_html(fig, format='small', name=f'./fig-defense-probabilities-vs-level-small')"
   ]
  },
  {
   "cell_type": "code",
   "execution_count": 168,
   "metadata": {},
   "outputs": [
    {
     "name": "stdout",
     "output_type": "stream",
     "text": [
      "LVL >= 1: 15.27 + 0.17*LVL\n"
     ]
    },
    {
     "data": {
      "application/vnd.plotly.v1+json": {
       "config": {
        "autosizable": true,
        "displayModeBar": "hover",
        "displaylogo": false,
        "modeBarButtonsToRemove": [
         "select2d",
         "lasso2d",
         "zoom2d",
         "zoomIn2d",
         "zoomOut2d",
         "pan2d",
         "autoScale2d",
         "hoverClosestCartesian",
         "hoverCompareCartesian",
         "toggleSpikelines",
         "resetScale2d"
        ],
        "plotlyServerURL": "https://plot.ly",
        "responsive": true,
        "showAxisDragHandles": false,
        "toImageButtonOptions": {
         "filename": "tfb-plot",
         "format": "png",
         "height": 450,
         "scale": 2,
         "width": 600
        }
       },
       "data": [
        {
         "hovertemplate": "<b>Barbarian</b><br>level %{x:.0f}<br>adj armor class %{y:.1f}<extra></extra>",
         "line": {
          "color": "#E7623E",
          "width": 1
         },
         "marker": {
          "color": "#E7623E"
         },
         "mode": "lines+markers",
         "name": "Barbarian",
         "type": "scatter",
         "x": [
          1,
          2,
          3,
          4,
          5,
          6,
          7,
          8,
          9,
          10,
          11,
          12,
          13,
          14,
          15,
          16,
          17,
          18,
          19,
          20
         ],
         "y": [
          15.416666666666668,
          15.75,
          15.75,
          15.833333333333334,
          16,
          16,
          16,
          16.083333333333336,
          16.25,
          16.25,
          16.25,
          16.833333333333336,
          17,
          17,
          17,
          17.583333333333336,
          17.75,
          17.75,
          19.666666666666664,
          19.666666666666664
         ]
        },
        {
         "hovertemplate": "<b>Bard</b><br>level %{x:.0f}<br>adj armor class %{y:.1f}<extra></extra>",
         "line": {
          "color": "#AB6DAC",
          "width": 1
         },
         "marker": {
          "color": "#AB6DAC"
         },
         "mode": "lines+markers",
         "name": "Bard",
         "type": "scatter",
         "x": [
          1,
          2,
          3,
          4,
          5,
          6,
          7,
          8,
          9,
          10,
          11,
          12,
          13,
          14,
          15,
          16,
          17,
          18,
          19,
          20
         ],
         "y": [
          14.916666666666668,
          14.916666666666668,
          14.916666666666668,
          15,
          15.666666666666666,
          15.666666666666666,
          15.666666666666666,
          15.75,
          15.916666666666666,
          15.916666666666666,
          15.916666666666666,
          16.5,
          16.666666666666664,
          16.666666666666664,
          16.666666666666664,
          17.25,
          17.416666666666664,
          17.416666666666664,
          17.5,
          17.5
         ]
        },
        {
         "hovertemplate": "<b>Cleric</b><br>level %{x:.0f}<br>adj armor class %{y:.1f}<extra></extra>",
         "line": {
          "color": "#91A1B2",
          "width": 1
         },
         "marker": {
          "color": "#91A1B2"
         },
         "mode": "lines+markers",
         "name": "Cleric",
         "type": "scatter",
         "x": [
          1,
          2,
          3,
          4,
          5,
          6,
          7,
          8,
          9,
          10,
          11,
          12,
          13,
          14,
          15,
          16,
          17,
          18,
          19,
          20
         ],
         "y": [
          17,
          17,
          17,
          17.083333333333336,
          17.25,
          17.25,
          17.75,
          17.833333333333336,
          18,
          18,
          18,
          18.083333333333336,
          18.25,
          18.25,
          18.25,
          18.333333333333336,
          18.5,
          18.5,
          18.583333333333336,
          18.583333333333336
         ]
        },
        {
         "hovertemplate": "<b>Druid</b><br>level %{x:.0f}<br>adj armor class %{y:.1f}<extra></extra>",
         "line": {
          "color": "#7A853B",
          "width": 1
         },
         "marker": {
          "color": "#7A853B"
         },
         "mode": "lines+markers",
         "name": "Druid",
         "type": "scatter",
         "x": [
          1,
          2,
          3,
          4,
          5,
          6,
          7,
          8,
          9,
          10,
          11,
          12,
          13,
          14,
          15,
          16,
          17,
          18,
          19,
          20
         ],
         "y": [
          15.5,
          15.5,
          15.5,
          15.583333333333334,
          16.25,
          16.25,
          16.25,
          16.333333333333336,
          16.5,
          16.5,
          16.5,
          17.083333333333336,
          17.25,
          17.25,
          17.25,
          17.833333333333336,
          18,
          18,
          18.083333333333336,
          18.083333333333336
         ]
        },
        {
         "hovertemplate": "<b>Fighter</b><br>level %{x:.0f}<br>adj armor class %{y:.1f}<extra></extra>",
         "line": {
          "color": "#7F513E",
          "width": 1
         },
         "marker": {
          "color": "#7F513E"
         },
         "mode": "lines+markers",
         "name": "Fighter",
         "type": "scatter",
         "x": [
          1,
          2,
          3,
          4,
          5,
          6,
          7,
          8,
          9,
          10,
          11,
          12,
          13,
          14,
          15,
          16,
          17,
          18,
          19,
          20
         ],
         "y": [
          15.916666666666668,
          15.916666666666668,
          15.916666666666668,
          16,
          16.166666666666664,
          16.25,
          16.25,
          16.333333333333336,
          16.665,
          17.665,
          17.665,
          17.748333333333335,
          18.08,
          18.163333333333334,
          18.163333333333334,
          18.246666666666666,
          18.578333333333333,
          18.578333333333333,
          18.661666666666665,
          18.661666666666665
         ]
        },
        {
         "hovertemplate": "<b>Monk</b><br>level %{x:.0f}<br>adj armor class %{y:.1f}<extra></extra>",
         "line": {
          "color": "#51A5C5",
          "width": 1
         },
         "marker": {
          "color": "#51A5C5"
         },
         "mode": "lines+markers",
         "name": "Monk",
         "type": "scatter",
         "x": [
          1,
          2,
          3,
          4,
          5,
          6,
          7,
          8,
          9,
          10,
          11,
          12,
          13,
          14,
          15,
          16,
          17,
          18,
          19,
          20
         ],
         "y": [
          15.916666666666668,
          15.916666666666668,
          15.916666666666668,
          16.5,
          16.666666666666664,
          16.666666666666664,
          17.166666666666664,
          17.75,
          17.916666666666664,
          17.916666666666664,
          17.916666666666664,
          18.5,
          18.666666666666664,
          20.333333333333336,
          20.333333333333336,
          20.916666666666664,
          21.416666666666668,
          21.416666666666668,
          21.5,
          21.5
         ]
        },
        {
         "hovertemplate": "<b>Paladin</b><br>level %{x:.0f}<br>adj armor class %{y:.1f}<extra></extra>",
         "line": {
          "color": "#B59E54",
          "width": 1
         },
         "marker": {
          "color": "#B59E54"
         },
         "mode": "lines+markers",
         "name": "Paladin",
         "type": "scatter",
         "x": [
          1,
          2,
          3,
          4,
          5,
          6,
          7,
          8,
          9,
          10,
          11,
          12,
          13,
          14,
          15,
          16,
          17,
          18,
          19,
          20
         ],
         "y": [
          15.916666666666668,
          15.916666666666668,
          15.916666666666668,
          16,
          16.166666666666664,
          17.666666666666664,
          17.666666666666664,
          17.75,
          17.916666666666664,
          18.916666666666664,
          18.916666666666664,
          19.5,
          19.666666666666664,
          19.666666666666664,
          19.666666666666664,
          20.25,
          20.416666666666668,
          20.416666666666668,
          20.5,
          20.5
         ]
        },
        {
         "hovertemplate": "<b>Ranger</b><br>level %{x:.0f}<br>adj armor class %{y:.1f}<extra></extra>",
         "line": {
          "color": "#507F62",
          "width": 1
         },
         "marker": {
          "color": "#507F62"
         },
         "mode": "lines+markers",
         "name": "Ranger",
         "type": "scatter",
         "x": [
          1,
          2,
          3,
          4,
          5,
          6,
          7,
          8,
          9,
          10,
          11,
          12,
          13,
          14,
          15,
          16,
          17,
          18,
          19,
          20
         ],
         "y": [
          14.916666666666668,
          14.916666666666668,
          14.916666666666668,
          15.5,
          16.166666666666664,
          16.166666666666664,
          16.166666666666664,
          16.75,
          16.916666666666664,
          16.916666666666664,
          16.916666666666664,
          17,
          17.166666666666664,
          17.166666666666664,
          17.166666666666664,
          17.25,
          17.416666666666664,
          17.416666666666664,
          17.5,
          17.5
         ]
        },
        {
         "hovertemplate": "<b>Rogue</b><br>level %{x:.0f}<br>adj armor class %{y:.1f}<extra></extra>",
         "line": {
          "color": "#555752",
          "width": 1
         },
         "marker": {
          "color": "#555752"
         },
         "mode": "lines+markers",
         "name": "Rogue",
         "type": "scatter",
         "x": [
          1,
          2,
          3,
          4,
          5,
          6,
          7,
          8,
          9,
          10,
          11,
          12,
          13,
          14,
          15,
          16,
          17,
          18,
          19,
          20
         ],
         "y": [
          15,
          15,
          15,
          15.583333333333334,
          16.25,
          16.25,
          16.75,
          17.333333333333336,
          17.5,
          17.5,
          17.5,
          17.583333333333336,
          17.75,
          17.75,
          18.166666666666664,
          18.25,
          18.5,
          18.5,
          18.583333333333336,
          18.583333333333336
         ]
        },
        {
         "hovertemplate": "<b>Sorcerer</b><br>level %{x:.0f}<br>adj armor class %{y:.1f}<extra></extra>",
         "line": {
          "color": "#992E2E",
          "width": 1
         },
         "marker": {
          "color": "#992E2E"
         },
         "mode": "lines+markers",
         "name": "Sorcerer",
         "type": "scatter",
         "x": [
          1,
          2,
          3,
          4,
          5,
          6,
          7,
          8,
          9,
          10,
          11,
          12,
          13,
          14,
          15,
          16,
          17,
          18,
          19,
          20
         ],
         "y": [
          16.5,
          16.5,
          16.5,
          16.583333333333336,
          15.75,
          15.75,
          15.75,
          15.833333333333334,
          16,
          16,
          17,
          17.083333333333336,
          17.25,
          17.25,
          17.25,
          17.833333333333336,
          18,
          18,
          18.083333333333336,
          18.083333333333336
         ]
        },
        {
         "hovertemplate": "<b>Warlock</b><br>level %{x:.0f}<br>adj armor class %{y:.1f}<extra></extra>",
         "line": {
          "color": "#7B469B",
          "width": 1
         },
         "marker": {
          "color": "#7B469B"
         },
         "mode": "lines+markers",
         "name": "Warlock",
         "type": "scatter",
         "x": [
          1,
          2,
          3,
          4,
          5,
          6,
          7,
          8,
          9,
          10,
          11,
          12,
          13,
          14,
          15,
          16,
          17,
          18,
          19,
          20
         ],
         "y": [
          14.5,
          14.5,
          14.5,
          14.583333333333334,
          15.25,
          15.25,
          15.25,
          15.333333333333334,
          15.5,
          15.5,
          15.5,
          15.583333333333334,
          15.75,
          15.75,
          15.75,
          16.333333333333336,
          16.5,
          16.5,
          16.583333333333336,
          16.583333333333336
         ]
        },
        {
         "hovertemplate": "<b>Wizard</b><br>level %{x:.0f}<br>adj armor class %{y:.1f}<extra></extra>",
         "line": {
          "color": "#2A50A1",
          "width": 1
         },
         "marker": {
          "color": "#2A50A1"
         },
         "mode": "lines+markers",
         "name": "Wizard",
         "type": "scatter",
         "x": [
          1,
          2,
          3,
          4,
          5,
          6,
          7,
          8,
          9,
          10,
          11,
          12,
          13,
          14,
          15,
          16,
          17,
          18,
          19,
          20
         ],
         "y": [
          16.5,
          16.5,
          16.5,
          16.583333333333336,
          15.75,
          15.75,
          15.75,
          15.833333333333334,
          16,
          16,
          17,
          17.083333333333336,
          17.25,
          17.25,
          17.25,
          17.333333333333336,
          17.5,
          17.5,
          18.083333333333336,
          18.083333333333336
         ]
        },
        {
         "hovertemplate": "<b>Average</b><br>level %{x:.0f}<br>save bonus %{y:.1f}<extra></extra>",
         "legendgroup": "average",
         "line": {
          "color": "black",
          "dash": "dash"
         },
         "mode": "markers",
         "name": "average",
         "showlegend": false,
         "type": "scatter",
         "x": [
          1,
          2,
          3,
          4,
          5,
          6,
          7,
          8,
          9,
          10,
          11,
          12,
          13,
          14,
          15,
          16,
          17,
          18,
          19,
          20
         ],
         "y": [
          15.666666666666666,
          15.694444444444445,
          15.694444444444445,
          15.90277777777778,
          16.11111111111111,
          16.243055555555554,
          16.368055555555554,
          16.576388888888893,
          16.756805555555555,
          16.92347222222222,
          17.090138888888887,
          17.38180555555556,
          17.56222222222222,
          17.708055555555557,
          17.74277777777778,
          18.11777777777778,
          18.332916666666666,
          18.332916666666666,
          18.610694444444448,
          18.610694444444448
         ]
        },
        {
         "hoverinfo": "skip",
         "hovertemplate": "<b>Average</b><br>level %{x:.0f}<br>save bonus %{y:.1f}<extra></extra>",
         "legendgroup": "average",
         "line": {
          "color": "black",
          "dash": "dash"
         },
         "mode": "lines",
         "name": "average",
         "showlegend": true,
         "type": "scatter",
         "x": [
          1,
          2,
          3,
          4,
          5,
          6,
          7,
          8,
          9,
          10,
          11,
          12,
          13,
          14,
          15,
          16,
          17,
          18,
          19,
          20
         ],
         "y": [
          15.438480158730162,
          15.610362364243947,
          15.782244569757731,
          15.954126775271517,
          16.1260089807853,
          16.297891186299086,
          16.469773391812872,
          16.641655597326654,
          16.81353780284044,
          16.985420008354225,
          17.157302213868007,
          17.329184419381793,
          17.50106662489558,
          17.67294883040936,
          17.844831035923146,
          18.016713241436932,
          18.188595446950718,
          18.360477652464503,
          18.532359857978285,
          18.70424206349207
         ]
        }
       ],
       "layout": {
        "height": 500,
        "legend": {
         "bgcolor": "rgba(0,0,0,0)",
         "orientation": "h",
         "tracegroupgap": 0,
         "x": 0,
         "xanchor": "left",
         "y": 1.01,
         "yanchor": "bottom"
        },
        "template": {
         "layout": {
          "autosize": false,
          "font": {
           "family": "sans-serif",
           "size": 14
          },
          "hoverlabel": {
           "align": "left"
          },
          "hovermode": "closest",
          "margin": {
           "b": 55,
           "l": 60,
           "pad": 4,
           "r": 25,
           "t": 20
          },
          "template": {
           "data": {
            "bar": [
             {
              "error_x": {
               "color": "#2a3f5f"
              },
              "error_y": {
               "color": "#2a3f5f"
              },
              "marker": {
               "line": {
                "color": "white",
                "width": 0.5
               },
               "pattern": {
                "fillmode": "overlay",
                "size": 10,
                "solidity": 0.2
               }
              },
              "type": "bar"
             }
            ],
            "barpolar": [
             {
              "marker": {
               "line": {
                "color": "white",
                "width": 0.5
               },
               "pattern": {
                "fillmode": "overlay",
                "size": 10,
                "solidity": 0.2
               }
              },
              "type": "barpolar"
             }
            ],
            "carpet": [
             {
              "aaxis": {
               "endlinecolor": "#2a3f5f",
               "gridcolor": "#C8D4E3",
               "linecolor": "#C8D4E3",
               "minorgridcolor": "#C8D4E3",
               "startlinecolor": "#2a3f5f"
              },
              "baxis": {
               "endlinecolor": "#2a3f5f",
               "gridcolor": "#C8D4E3",
               "linecolor": "#C8D4E3",
               "minorgridcolor": "#C8D4E3",
               "startlinecolor": "#2a3f5f"
              },
              "type": "carpet"
             }
            ],
            "choropleth": [
             {
              "colorbar": {
               "outlinewidth": 0,
               "ticks": ""
              },
              "type": "choropleth"
             }
            ],
            "contour": [
             {
              "colorbar": {
               "outlinewidth": 0,
               "ticks": ""
              },
              "colorscale": [
               [
                0,
                "#0d0887"
               ],
               [
                0.1111111111111111,
                "#46039f"
               ],
               [
                0.2222222222222222,
                "#7201a8"
               ],
               [
                0.3333333333333333,
                "#9c179e"
               ],
               [
                0.4444444444444444,
                "#bd3786"
               ],
               [
                0.5555555555555556,
                "#d8576b"
               ],
               [
                0.6666666666666666,
                "#ed7953"
               ],
               [
                0.7777777777777778,
                "#fb9f3a"
               ],
               [
                0.8888888888888888,
                "#fdca26"
               ],
               [
                1,
                "#f0f921"
               ]
              ],
              "type": "contour"
             }
            ],
            "contourcarpet": [
             {
              "colorbar": {
               "outlinewidth": 0,
               "ticks": ""
              },
              "type": "contourcarpet"
             }
            ],
            "heatmap": [
             {
              "colorbar": {
               "outlinewidth": 0,
               "ticks": ""
              },
              "colorscale": [
               [
                0,
                "#0d0887"
               ],
               [
                0.1111111111111111,
                "#46039f"
               ],
               [
                0.2222222222222222,
                "#7201a8"
               ],
               [
                0.3333333333333333,
                "#9c179e"
               ],
               [
                0.4444444444444444,
                "#bd3786"
               ],
               [
                0.5555555555555556,
                "#d8576b"
               ],
               [
                0.6666666666666666,
                "#ed7953"
               ],
               [
                0.7777777777777778,
                "#fb9f3a"
               ],
               [
                0.8888888888888888,
                "#fdca26"
               ],
               [
                1,
                "#f0f921"
               ]
              ],
              "type": "heatmap"
             }
            ],
            "heatmapgl": [
             {
              "colorbar": {
               "outlinewidth": 0,
               "ticks": ""
              },
              "colorscale": [
               [
                0,
                "#0d0887"
               ],
               [
                0.1111111111111111,
                "#46039f"
               ],
               [
                0.2222222222222222,
                "#7201a8"
               ],
               [
                0.3333333333333333,
                "#9c179e"
               ],
               [
                0.4444444444444444,
                "#bd3786"
               ],
               [
                0.5555555555555556,
                "#d8576b"
               ],
               [
                0.6666666666666666,
                "#ed7953"
               ],
               [
                0.7777777777777778,
                "#fb9f3a"
               ],
               [
                0.8888888888888888,
                "#fdca26"
               ],
               [
                1,
                "#f0f921"
               ]
              ],
              "type": "heatmapgl"
             }
            ],
            "histogram": [
             {
              "marker": {
               "pattern": {
                "fillmode": "overlay",
                "size": 10,
                "solidity": 0.2
               }
              },
              "type": "histogram"
             }
            ],
            "histogram2d": [
             {
              "colorbar": {
               "outlinewidth": 0,
               "ticks": ""
              },
              "colorscale": [
               [
                0,
                "#0d0887"
               ],
               [
                0.1111111111111111,
                "#46039f"
               ],
               [
                0.2222222222222222,
                "#7201a8"
               ],
               [
                0.3333333333333333,
                "#9c179e"
               ],
               [
                0.4444444444444444,
                "#bd3786"
               ],
               [
                0.5555555555555556,
                "#d8576b"
               ],
               [
                0.6666666666666666,
                "#ed7953"
               ],
               [
                0.7777777777777778,
                "#fb9f3a"
               ],
               [
                0.8888888888888888,
                "#fdca26"
               ],
               [
                1,
                "#f0f921"
               ]
              ],
              "type": "histogram2d"
             }
            ],
            "histogram2dcontour": [
             {
              "colorbar": {
               "outlinewidth": 0,
               "ticks": ""
              },
              "colorscale": [
               [
                0,
                "#0d0887"
               ],
               [
                0.1111111111111111,
                "#46039f"
               ],
               [
                0.2222222222222222,
                "#7201a8"
               ],
               [
                0.3333333333333333,
                "#9c179e"
               ],
               [
                0.4444444444444444,
                "#bd3786"
               ],
               [
                0.5555555555555556,
                "#d8576b"
               ],
               [
                0.6666666666666666,
                "#ed7953"
               ],
               [
                0.7777777777777778,
                "#fb9f3a"
               ],
               [
                0.8888888888888888,
                "#fdca26"
               ],
               [
                1,
                "#f0f921"
               ]
              ],
              "type": "histogram2dcontour"
             }
            ],
            "mesh3d": [
             {
              "colorbar": {
               "outlinewidth": 0,
               "ticks": ""
              },
              "type": "mesh3d"
             }
            ],
            "parcoords": [
             {
              "line": {
               "colorbar": {
                "outlinewidth": 0,
                "ticks": ""
               }
              },
              "type": "parcoords"
             }
            ],
            "pie": [
             {
              "automargin": true,
              "type": "pie"
             }
            ],
            "scatter": [
             {
              "fillpattern": {
               "fillmode": "overlay",
               "size": 10,
               "solidity": 0.2
              },
              "type": "scatter"
             }
            ],
            "scatter3d": [
             {
              "line": {
               "colorbar": {
                "outlinewidth": 0,
                "ticks": ""
               }
              },
              "marker": {
               "colorbar": {
                "outlinewidth": 0,
                "ticks": ""
               }
              },
              "type": "scatter3d"
             }
            ],
            "scattercarpet": [
             {
              "marker": {
               "colorbar": {
                "outlinewidth": 0,
                "ticks": ""
               }
              },
              "type": "scattercarpet"
             }
            ],
            "scattergeo": [
             {
              "marker": {
               "colorbar": {
                "outlinewidth": 0,
                "ticks": ""
               }
              },
              "type": "scattergeo"
             }
            ],
            "scattergl": [
             {
              "marker": {
               "colorbar": {
                "outlinewidth": 0,
                "ticks": ""
               }
              },
              "type": "scattergl"
             }
            ],
            "scattermapbox": [
             {
              "marker": {
               "colorbar": {
                "outlinewidth": 0,
                "ticks": ""
               }
              },
              "type": "scattermapbox"
             }
            ],
            "scatterpolar": [
             {
              "marker": {
               "colorbar": {
                "outlinewidth": 0,
                "ticks": ""
               }
              },
              "type": "scatterpolar"
             }
            ],
            "scatterpolargl": [
             {
              "marker": {
               "colorbar": {
                "outlinewidth": 0,
                "ticks": ""
               }
              },
              "type": "scatterpolargl"
             }
            ],
            "scatterternary": [
             {
              "marker": {
               "colorbar": {
                "outlinewidth": 0,
                "ticks": ""
               }
              },
              "type": "scatterternary"
             }
            ],
            "surface": [
             {
              "colorbar": {
               "outlinewidth": 0,
               "ticks": ""
              },
              "colorscale": [
               [
                0,
                "#0d0887"
               ],
               [
                0.1111111111111111,
                "#46039f"
               ],
               [
                0.2222222222222222,
                "#7201a8"
               ],
               [
                0.3333333333333333,
                "#9c179e"
               ],
               [
                0.4444444444444444,
                "#bd3786"
               ],
               [
                0.5555555555555556,
                "#d8576b"
               ],
               [
                0.6666666666666666,
                "#ed7953"
               ],
               [
                0.7777777777777778,
                "#fb9f3a"
               ],
               [
                0.8888888888888888,
                "#fdca26"
               ],
               [
                1,
                "#f0f921"
               ]
              ],
              "type": "surface"
             }
            ],
            "table": [
             {
              "cells": {
               "fill": {
                "color": "#EBF0F8"
               },
               "line": {
                "color": "white"
               }
              },
              "header": {
               "fill": {
                "color": "#C8D4E3"
               },
               "line": {
                "color": "white"
               }
              },
              "type": "table"
             }
            ]
           },
           "layout": {
            "annotationdefaults": {
             "arrowcolor": "#2a3f5f",
             "arrowhead": 0,
             "arrowwidth": 1
            },
            "autotypenumbers": "strict",
            "coloraxis": {
             "colorbar": {
              "outlinewidth": 0,
              "ticks": ""
             }
            },
            "colorscale": {
             "diverging": [
              [
               0,
               "#8e0152"
              ],
              [
               0.1,
               "#c51b7d"
              ],
              [
               0.2,
               "#de77ae"
              ],
              [
               0.3,
               "#f1b6da"
              ],
              [
               0.4,
               "#fde0ef"
              ],
              [
               0.5,
               "#f7f7f7"
              ],
              [
               0.6,
               "#e6f5d0"
              ],
              [
               0.7,
               "#b8e186"
              ],
              [
               0.8,
               "#7fbc41"
              ],
              [
               0.9,
               "#4d9221"
              ],
              [
               1,
               "#276419"
              ]
             ],
             "sequential": [
              [
               0,
               "#0d0887"
              ],
              [
               0.1111111111111111,
               "#46039f"
              ],
              [
               0.2222222222222222,
               "#7201a8"
              ],
              [
               0.3333333333333333,
               "#9c179e"
              ],
              [
               0.4444444444444444,
               "#bd3786"
              ],
              [
               0.5555555555555556,
               "#d8576b"
              ],
              [
               0.6666666666666666,
               "#ed7953"
              ],
              [
               0.7777777777777778,
               "#fb9f3a"
              ],
              [
               0.8888888888888888,
               "#fdca26"
              ],
              [
               1,
               "#f0f921"
              ]
             ],
             "sequentialminus": [
              [
               0,
               "#0d0887"
              ],
              [
               0.1111111111111111,
               "#46039f"
              ],
              [
               0.2222222222222222,
               "#7201a8"
              ],
              [
               0.3333333333333333,
               "#9c179e"
              ],
              [
               0.4444444444444444,
               "#bd3786"
              ],
              [
               0.5555555555555556,
               "#d8576b"
              ],
              [
               0.6666666666666666,
               "#ed7953"
              ],
              [
               0.7777777777777778,
               "#fb9f3a"
              ],
              [
               0.8888888888888888,
               "#fdca26"
              ],
              [
               1,
               "#f0f921"
              ]
             ]
            },
            "colorway": [
             "#636efa",
             "#EF553B",
             "#00cc96",
             "#ab63fa",
             "#FFA15A",
             "#19d3f3",
             "#FF6692",
             "#B6E880",
             "#FF97FF",
             "#FECB52"
            ],
            "font": {
             "color": "#2a3f5f"
            },
            "geo": {
             "bgcolor": "white",
             "lakecolor": "white",
             "landcolor": "white",
             "showlakes": true,
             "showland": true,
             "subunitcolor": "#C8D4E3"
            },
            "hoverlabel": {
             "align": "left"
            },
            "hovermode": "closest",
            "mapbox": {
             "style": "light"
            },
            "paper_bgcolor": "white",
            "plot_bgcolor": "white",
            "polar": {
             "angularaxis": {
              "gridcolor": "#EBF0F8",
              "linecolor": "#EBF0F8",
              "ticks": ""
             },
             "bgcolor": "white",
             "radialaxis": {
              "gridcolor": "#EBF0F8",
              "linecolor": "#EBF0F8",
              "ticks": ""
             }
            },
            "scene": {
             "xaxis": {
              "backgroundcolor": "white",
              "gridcolor": "#DFE8F3",
              "gridwidth": 2,
              "linecolor": "#EBF0F8",
              "showbackground": true,
              "ticks": "",
              "zerolinecolor": "#EBF0F8"
             },
             "yaxis": {
              "backgroundcolor": "white",
              "gridcolor": "#DFE8F3",
              "gridwidth": 2,
              "linecolor": "#EBF0F8",
              "showbackground": true,
              "ticks": "",
              "zerolinecolor": "#EBF0F8"
             },
             "zaxis": {
              "backgroundcolor": "white",
              "gridcolor": "#DFE8F3",
              "gridwidth": 2,
              "linecolor": "#EBF0F8",
              "showbackground": true,
              "ticks": "",
              "zerolinecolor": "#EBF0F8"
             }
            },
            "shapedefaults": {
             "line": {
              "color": "#2a3f5f"
             }
            },
            "ternary": {
             "aaxis": {
              "gridcolor": "#DFE8F3",
              "linecolor": "#A2B1C6",
              "ticks": ""
             },
             "baxis": {
              "gridcolor": "#DFE8F3",
              "linecolor": "#A2B1C6",
              "ticks": ""
             },
             "bgcolor": "white",
             "caxis": {
              "gridcolor": "#DFE8F3",
              "linecolor": "#A2B1C6",
              "ticks": ""
             }
            },
            "title": {
             "x": 0.05
            },
            "xaxis": {
             "automargin": true,
             "gridcolor": "#EBF0F8",
             "linecolor": "#EBF0F8",
             "ticks": "",
             "title": {
              "standoff": 15
             },
             "zerolinecolor": "#EBF0F8",
             "zerolinewidth": 2
            },
            "yaxis": {
             "automargin": true,
             "gridcolor": "#EBF0F8",
             "linecolor": "#EBF0F8",
             "ticks": "",
             "title": {
              "standoff": 15
             },
             "zerolinecolor": "#EBF0F8",
             "zerolinewidth": 2
            }
           }
          },
          "xaxis": {
           "automargin": false,
           "linecolor": "#444",
           "linewidth": 2,
           "minor": {
            "tickmode": "linear",
            "ticks": "outside"
           },
           "mirror": true,
           "showline": true,
           "tickmode": "linear",
           "ticks": "outside",
           "zeroline": false
          },
          "yaxis": {
           "automargin": false,
           "linecolor": "#444",
           "linewidth": 2,
           "minor": {
            "tickmode": "linear",
            "ticks": "outside"
           },
           "mirror": true,
           "showline": true,
           "ticks": "outside",
           "zeroline": false
          }
         }
        },
        "width": 600,
        "xaxis": {
         "dtick": 5,
         "minor": {
          "dtick": 1,
          "tick0": 0
         },
         "range": [
          0.8,
          20.2
         ],
         "tick0": 0,
         "title": {
          "text": "level"
         }
        },
        "yaxis": {
         "dtick": 2,
         "minor": {
          "dtick": 1,
          "tick0": 0
         },
         "range": [
          12,
          22
         ],
         "tick0": 0,
         "title": {
          "text": "adjusted armor class"
         }
        }
       }
      }
     },
     "metadata": {},
     "output_type": "display_data"
    }
   ],
   "source": [
    "# Plots adjusted AC for each class.\n",
    "# create figure\n",
    "fig = go.Figure(\n",
    "    layout=go.Layout(\n",
    "        template=tfb.FIG_TEMPLATE,\n",
    "        xaxis=dict(\n",
    "            title_text='level',\n",
    "            range=[0.8, 20.2],\n",
    "            tick0=0, dtick=5,\n",
    "            minor=dict(tick0=0, dtick=1),\n",
    "        ),\n",
    "        yaxis=dict(\n",
    "            title_text='adjusted armor class',\n",
    "            range=[12, 22],\n",
    "            tick0=0, dtick=2,\n",
    "            minor=dict(tick0=0, dtick=1),\n",
    "        ),\n",
    "        legend=dict(\n",
    "            yanchor='bottom',  y=1.01,\n",
    "            xanchor='left', x=0.00,\n",
    "            bgcolor='rgba(0,0,0,0)',\n",
    "            orientation='h',\n",
    "            tracegroupgap=0,\n",
    "        )\n",
    "    )\n",
    ")\n",
    "\n",
    "# get PC data\n",
    "levels = list(range(1,21))\n",
    "for c in pcs:\n",
    "    pc = pcs[c]\n",
    "    sb_ave = np.array([np.mean(list(pc.set_level(lvl).build().get_save_bonuses().values())) for lvl in levels])\n",
    "    ac_ave = np.array([pc.set_level(lvl).build().get_armor_class() for lvl in levels])\n",
    "    ef_ave = (sb_ave + 14 + ac_ave)/2\n",
    "    fig.add_trace(go.Scatter(\n",
    "        x=levels, \n",
    "        y=ef_ave,\n",
    "        mode='lines+markers', \n",
    "        line=dict(color=PC_CLASSES[c]['color'], width=1),\n",
    "        marker=dict(color=PC_CLASSES[c]['color']),\n",
    "        name=c,\n",
    "        hovertemplate=\n",
    "                f'<b>{c}</b><br>'+\n",
    "                'level %{x:.0f}<br>'+\n",
    "                'adj armor class %{y:.1f}'+\n",
    "                '<extra></extra>'\n",
    "    ))\n",
    "\n",
    "# get PC data\n",
    "levels = list(range(1,21))\n",
    "sb_matrix = np.zeros([20,len(PC_CLASSES)])\n",
    "ac_matrix = np.zeros([20,len(PC_CLASSES)])\n",
    "ef_matrix = np.zeros([20,len(PC_CLASSES)])\n",
    "pc_names = list(pcs.keys())\n",
    "for i in range(len(pc_names)):\n",
    "    pc = pcs[pc_names[i]]\n",
    "    sb_matrix[:,i] = np.array([np.mean(list(pc.set_level(lvl).build().get_save_bonuses().values())) for lvl in levels])\n",
    "    ac_matrix[:,i] = np.array([pc.set_level(lvl).build().get_armor_class() for lvl in levels])\n",
    "    ef_matrix[:,i] = (sb_matrix[:,i] + 14 + ac_matrix[:,i])/2\n",
    "\n",
    "plot_data_and_fit(\n",
    "    fig, \n",
    "    levels, np.mean(ef_matrix, axis=1), \n",
    "    name='average',\n",
    "    legendgroup='average',\n",
    "    line=dict(color='black', dash='dash'),\n",
    "    hovertemplate=\n",
    "            f'<b>Average</b><br>'+\n",
    "            'level %{x:.0f}<br>'+\n",
    "            'save bonus %{y:.1f}'+\n",
    "            '<extra></extra>',\n",
    "    print_coefficients=True,\n",
    ")\n",
    "\n",
    "# show figure\n",
    "fig.update_layout(width=600, height=500)\n",
    "fig.show(config=tfb.FIG_CONFIG)\n",
    "\n",
    "# save figures\n",
    "if SAVEFIGS:\n",
    "    fig.update_layout(autosize=True, width=None, height=None)\n",
    "    #tfb.save_fig_html(fig, format='large', name=f'./fig-sb-vs-level-large', style='aspect-ratio:600/550')\n",
    "    #tfb.save_fig_html(fig, format='small', name=f'./fig-sb-vs-level-small', style='aspect-ratio:600/600')"
   ]
  },
  {
   "cell_type": "code",
   "execution_count": 176,
   "metadata": {},
   "outputs": [
    {
     "name": "stdout",
     "output_type": "stream",
     "text": [
      "LVL >= 1: 0.45 + 6.96*LVL\n"
     ]
    },
    {
     "data": {
      "application/vnd.plotly.v1+json": {
       "config": {
        "autosizable": true,
        "displayModeBar": "hover",
        "displaylogo": false,
        "modeBarButtonsToRemove": [
         "select2d",
         "lasso2d",
         "zoom2d",
         "zoomIn2d",
         "zoomOut2d",
         "pan2d",
         "autoScale2d",
         "hoverClosestCartesian",
         "hoverCompareCartesian",
         "toggleSpikelines",
         "resetScale2d"
        ],
        "plotlyServerURL": "https://plot.ly",
        "responsive": true,
        "showAxisDragHandles": false,
        "toImageButtonOptions": {
         "filename": "tfb-plot",
         "format": "png",
         "height": 450,
         "scale": 2,
         "width": 600
        }
       },
       "data": [
        {
         "hovertemplate": "<b>Barbarian</b><br>level %{x}<br>hit points %{y:.0f}<extra></extra>",
         "line": {
          "color": "#E7623E",
          "width": 1
         },
         "marker": {
          "color": "#E7623E"
         },
         "mode": "lines+markers",
         "name": "Barbarian",
         "type": "scatter",
         "unselected": {
          "marker": {
           "opacity": 0
          }
         },
         "x": [
          1,
          2,
          3,
          4,
          5,
          6,
          7,
          8,
          9,
          10,
          11,
          12,
          13,
          14,
          15,
          16,
          17,
          18,
          19,
          20
         ],
         "y": [
          17.5,
          28.583333333333336,
          40.375,
          53.2875,
          64.35714285714285,
          81.25,
          93.60000000000001,
          105.95,
          118.3,
          127.9090909090909,
          157.3,
          208.46617647058824,
          221.28333333333333,
          237.64583333333334,
          254.79473684210527,
          296.2184210526316,
          331.65,
          350.625,
          369.59999999999997,
          454.575
         ]
        },
        {
         "hovertemplate": "<b>Bard</b><br>level %{x}<br>hit points %{y:.0f}<extra></extra>",
         "line": {
          "color": "#AB6DAC",
          "width": 1
         },
         "marker": {
          "color": "#AB6DAC"
         },
         "mode": "lines+markers",
         "name": "Bard",
         "type": "scatter",
         "unselected": {
          "marker": {
           "opacity": 0
          }
         },
         "x": [
          1,
          2,
          3,
          4,
          5,
          6,
          7,
          8,
          9,
          10,
          11,
          12,
          13,
          14,
          15,
          16,
          17,
          18,
          19,
          20
         ],
         "y": [
          9,
          14.5,
          20,
          25.5,
          31,
          36.5,
          42,
          47.5,
          53,
          58.5,
          64,
          69.5,
          75,
          80.5,
          86,
          91.5,
          97,
          102.5,
          108,
          113.5
         ]
        },
        {
         "hovertemplate": "<b>Cleric</b><br>level %{x}<br>hit points %{y:.0f}<extra></extra>",
         "line": {
          "color": "#91A1B2",
          "width": 1
         },
         "marker": {
          "color": "#91A1B2"
         },
         "mode": "lines+markers",
         "name": "Cleric",
         "type": "scatter",
         "unselected": {
          "marker": {
           "opacity": 0
          }
         },
         "x": [
          1,
          2,
          3,
          4,
          5,
          6,
          7,
          8,
          9,
          10,
          11,
          12,
          13,
          14,
          15,
          16,
          17,
          18,
          19,
          20
         ],
         "y": [
          9,
          14.5,
          20,
          25.5,
          31,
          36.5,
          42,
          47.5,
          53,
          58.5,
          64,
          69.5,
          75,
          80.5,
          86,
          91.5,
          97,
          102.5,
          108,
          113.5
         ]
        },
        {
         "hovertemplate": "<b>Druid</b><br>level %{x}<br>hit points %{y:.0f}<extra></extra>",
         "line": {
          "color": "#7A853B",
          "width": 1
         },
         "marker": {
          "color": "#7A853B"
         },
         "mode": "lines+markers",
         "name": "Druid",
         "type": "scatter",
         "unselected": {
          "marker": {
           "opacity": 0
          }
         },
         "x": [
          1,
          2,
          3,
          4,
          5,
          6,
          7,
          8,
          9,
          10,
          11,
          12,
          13,
          14,
          15,
          16,
          17,
          18,
          19,
          20
         ],
         "y": [
          10,
          16.5,
          23,
          29.5,
          36,
          42.5,
          49,
          55.5,
          62,
          68.5,
          75,
          81.5,
          88,
          94.5,
          101,
          107.5,
          114,
          120.5,
          127,
          133.5
         ]
        },
        {
         "hovertemplate": "<b>Fighter</b><br>level %{x}<br>hit points %{y:.0f}<extra></extra>",
         "line": {
          "color": "#7F513E",
          "width": 1
         },
         "marker": {
          "color": "#7F513E"
         },
         "mode": "lines+markers",
         "name": "Fighter",
         "type": "scatter",
         "unselected": {
          "marker": {
           "opacity": 0
          }
         },
         "x": [
          1,
          2,
          3,
          4,
          5,
          6,
          7,
          8,
          9,
          10,
          11,
          12,
          13,
          14,
          15,
          16,
          17,
          18,
          19,
          20
         ],
         "y": [
          12,
          19.5,
          27,
          34.5,
          42,
          49.5,
          57,
          72.5,
          81,
          89.5,
          98,
          118.5,
          128,
          151.5,
          162,
          172.5,
          183,
          193.5,
          204,
          214.5
         ]
        },
        {
         "hovertemplate": "<b>Monk</b><br>level %{x}<br>hit points %{y:.0f}<extra></extra>",
         "line": {
          "color": "#51A5C5",
          "width": 1
         },
         "marker": {
          "color": "#51A5C5"
         },
         "mode": "lines+markers",
         "name": "Monk",
         "type": "scatter",
         "unselected": {
          "marker": {
           "opacity": 0
          }
         },
         "x": [
          1,
          2,
          3,
          4,
          5,
          6,
          7,
          8,
          9,
          10,
          11,
          12,
          13,
          14,
          15,
          16,
          17,
          18,
          19,
          20
         ],
         "y": [
          10,
          16.5,
          23,
          29.5,
          36,
          42.5,
          49,
          55.5,
          62,
          68.5,
          75,
          81.5,
          88,
          94.5,
          101,
          107.5,
          114,
          241,
          292,
          307
         ]
        },
        {
         "hovertemplate": "<b>Paladin</b><br>level %{x}<br>hit points %{y:.0f}<extra></extra>",
         "line": {
          "color": "#B59E54",
          "width": 1
         },
         "marker": {
          "color": "#B59E54"
         },
         "mode": "lines+markers",
         "name": "Paladin",
         "type": "scatter",
         "unselected": {
          "marker": {
           "opacity": 0
          }
         },
         "x": [
          1,
          2,
          3,
          4,
          5,
          6,
          7,
          8,
          9,
          10,
          11,
          12,
          13,
          14,
          15,
          16,
          17,
          18,
          19,
          20
         ],
         "y": [
          12,
          19.5,
          27,
          34.5,
          42,
          49.5,
          57,
          64.5,
          72,
          79.5,
          87,
          94.5,
          102,
          109.5,
          117,
          124.5,
          132,
          139.5,
          166,
          174.5
         ]
        },
        {
         "hovertemplate": "<b>Ranger</b><br>level %{x}<br>hit points %{y:.0f}<extra></extra>",
         "line": {
          "color": "#507F62",
          "width": 1
         },
         "marker": {
          "color": "#507F62"
         },
         "mode": "lines+markers",
         "name": "Ranger",
         "type": "scatter",
         "unselected": {
          "marker": {
           "opacity": 0
          }
         },
         "x": [
          1,
          2,
          3,
          4,
          5,
          6,
          7,
          8,
          9,
          10,
          11,
          12,
          13,
          14,
          15,
          16,
          17,
          18,
          19,
          20
         ],
         "y": [
          12,
          19.5,
          27,
          34.5,
          42,
          49.5,
          57,
          64.5,
          72,
          79.5,
          87,
          94.5,
          102,
          109.5,
          117,
          124.5,
          132,
          139.5,
          166,
          174.5
         ]
        },
        {
         "hovertemplate": "<b>Rogue</b><br>level %{x}<br>hit points %{y:.0f}<extra></extra>",
         "line": {
          "color": "#555752",
          "width": 1
         },
         "marker": {
          "color": "#555752"
         },
         "mode": "lines+markers",
         "name": "Rogue",
         "type": "scatter",
         "unselected": {
          "marker": {
           "opacity": 0
          }
         },
         "x": [
          1,
          2,
          3,
          4,
          5,
          6,
          7,
          8,
          9,
          10,
          11,
          12,
          13,
          14,
          15,
          16,
          17,
          18,
          19,
          20
         ],
         "y": [
          10,
          16.5,
          23,
          29.5,
          43.2,
          51,
          58.8,
          66.6,
          74.39999999999999,
          82.2,
          90,
          97.8,
          105.60000000000002,
          113.40000000000002,
          121.19999999999999,
          129,
          136.79999999999998,
          144.6,
          152.40000000000003,
          160.20000000000002
         ]
        },
        {
         "hovertemplate": "<b>Sorcerer</b><br>level %{x}<br>hit points %{y:.0f}<extra></extra>",
         "line": {
          "color": "#992E2E",
          "width": 1
         },
         "marker": {
          "color": "#992E2E"
         },
         "mode": "lines+markers",
         "name": "Sorcerer",
         "type": "scatter",
         "unselected": {
          "marker": {
           "opacity": 0
          }
         },
         "x": [
          1,
          2,
          3,
          4,
          5,
          6,
          7,
          8,
          9,
          10,
          11,
          12,
          13,
          14,
          15,
          16,
          17,
          18,
          19,
          20
         ],
         "y": [
          7,
          11.5,
          16,
          20.5,
          25,
          29.5,
          34,
          38.5,
          43,
          47.5,
          52,
          56.5,
          61,
          65.5,
          70,
          74.5,
          79,
          83.5,
          88,
          92.5
         ]
        },
        {
         "hovertemplate": "<b>Warlock</b><br>level %{x}<br>hit points %{y:.0f}<extra></extra>",
         "line": {
          "color": "#7B469B",
          "width": 1
         },
         "marker": {
          "color": "#7B469B"
         },
         "mode": "lines+markers",
         "name": "Warlock",
         "type": "scatter",
         "unselected": {
          "marker": {
           "opacity": 0
          }
         },
         "x": [
          1,
          2,
          3,
          4,
          5,
          6,
          7,
          8,
          9,
          10,
          11,
          12,
          13,
          14,
          15,
          16,
          17,
          18,
          19,
          20
         ],
         "y": [
          9,
          14.5,
          20,
          25.5,
          31,
          36.5,
          42,
          47.5,
          53,
          58.5,
          64,
          69.5,
          75,
          80.5,
          86,
          91.5,
          97,
          102.5,
          108,
          113.5
         ]
        },
        {
         "hovertemplate": "<b>Wizard</b><br>level %{x}<br>hit points %{y:.0f}<extra></extra>",
         "line": {
          "color": "#2A50A1",
          "width": 1
         },
         "marker": {
          "color": "#2A50A1"
         },
         "mode": "lines+markers",
         "name": "Wizard",
         "type": "scatter",
         "unselected": {
          "marker": {
           "opacity": 0
          }
         },
         "x": [
          1,
          2,
          3,
          4,
          5,
          6,
          7,
          8,
          9,
          10,
          11,
          12,
          13,
          14,
          15,
          16,
          17,
          18,
          19,
          20
         ],
         "y": [
          7,
          11.5,
          16,
          20.5,
          25,
          29.5,
          34,
          38.5,
          43,
          47.5,
          52,
          56.5,
          61,
          65.5,
          70,
          74.5,
          79,
          83.5,
          88,
          92.5
         ]
        },
        {
         "hovertemplate": "<b>Average</b><br>level %{x:.0f}<br>hit points %{y:.0f}<extra></extra>",
         "legendgroup": "average",
         "line": {
          "color": "black",
          "dash": "dash"
         },
         "mode": "markers",
         "name": "average",
         "showlegend": false,
         "type": "scatter",
         "x": [
          1,
          2,
          3,
          4,
          5,
          6,
          7,
          8,
          9,
          10,
          11,
          12,
          13,
          14,
          15,
          16,
          17,
          18,
          19,
          20
         ],
         "y": [
          10,
          16.5,
          23,
          29.5,
          36,
          42.5,
          49,
          55.5,
          62,
          68.5,
          75,
          81.5,
          88,
          94.5,
          101,
          107.5,
          114,
          130,
          139.70000000000002,
          146.85000000000002
         ]
        },
        {
         "hoverinfo": "skip",
         "hovertemplate": "<b>Average</b><br>level %{x:.0f}<br>hit points %{y:.0f}<extra></extra>",
         "legendgroup": "average",
         "line": {
          "color": "black",
          "dash": "dash"
         },
         "mode": "lines",
         "name": "average",
         "showlegend": true,
         "type": "scatter",
         "x": [
          1,
          2,
          3,
          4,
          5,
          6,
          7,
          8,
          9,
          10,
          11,
          12,
          13,
          14,
          15,
          16,
          17,
          18,
          19,
          20
         ],
         "y": [
          7.405714285714304,
          14.365902255639117,
          21.326090225563927,
          28.28627819548874,
          35.24646616541356,
          42.20665413533837,
          49.166842105263186,
          56.127030075187996,
          63.087218045112806,
          70.04740601503762,
          77.00759398496244,
          83.96778195488724,
          90.92796992481206,
          97.88815789473688,
          104.84834586466168,
          111.8085338345865,
          118.76872180451132,
          125.72890977443612,
          132.68909774436094,
          139.64928571428575
         ]
        }
       ],
       "layout": {
        "height": 500,
        "legend": {
         "bgcolor": "rgba(0,0,0,0)",
         "orientation": "h",
         "tracegroupgap": 0,
         "x": 0.01,
         "xanchor": "left",
         "y": 1.01,
         "yanchor": "bottom"
        },
        "template": {
         "layout": {
          "autosize": false,
          "font": {
           "family": "sans-serif",
           "size": 14
          },
          "hoverlabel": {
           "align": "left"
          },
          "hovermode": "closest",
          "margin": {
           "b": 55,
           "l": 60,
           "pad": 4,
           "r": 25,
           "t": 20
          },
          "template": {
           "data": {
            "bar": [
             {
              "error_x": {
               "color": "#2a3f5f"
              },
              "error_y": {
               "color": "#2a3f5f"
              },
              "marker": {
               "line": {
                "color": "white",
                "width": 0.5
               },
               "pattern": {
                "fillmode": "overlay",
                "size": 10,
                "solidity": 0.2
               }
              },
              "type": "bar"
             }
            ],
            "barpolar": [
             {
              "marker": {
               "line": {
                "color": "white",
                "width": 0.5
               },
               "pattern": {
                "fillmode": "overlay",
                "size": 10,
                "solidity": 0.2
               }
              },
              "type": "barpolar"
             }
            ],
            "carpet": [
             {
              "aaxis": {
               "endlinecolor": "#2a3f5f",
               "gridcolor": "#C8D4E3",
               "linecolor": "#C8D4E3",
               "minorgridcolor": "#C8D4E3",
               "startlinecolor": "#2a3f5f"
              },
              "baxis": {
               "endlinecolor": "#2a3f5f",
               "gridcolor": "#C8D4E3",
               "linecolor": "#C8D4E3",
               "minorgridcolor": "#C8D4E3",
               "startlinecolor": "#2a3f5f"
              },
              "type": "carpet"
             }
            ],
            "choropleth": [
             {
              "colorbar": {
               "outlinewidth": 0,
               "ticks": ""
              },
              "type": "choropleth"
             }
            ],
            "contour": [
             {
              "colorbar": {
               "outlinewidth": 0,
               "ticks": ""
              },
              "colorscale": [
               [
                0,
                "#0d0887"
               ],
               [
                0.1111111111111111,
                "#46039f"
               ],
               [
                0.2222222222222222,
                "#7201a8"
               ],
               [
                0.3333333333333333,
                "#9c179e"
               ],
               [
                0.4444444444444444,
                "#bd3786"
               ],
               [
                0.5555555555555556,
                "#d8576b"
               ],
               [
                0.6666666666666666,
                "#ed7953"
               ],
               [
                0.7777777777777778,
                "#fb9f3a"
               ],
               [
                0.8888888888888888,
                "#fdca26"
               ],
               [
                1,
                "#f0f921"
               ]
              ],
              "type": "contour"
             }
            ],
            "contourcarpet": [
             {
              "colorbar": {
               "outlinewidth": 0,
               "ticks": ""
              },
              "type": "contourcarpet"
             }
            ],
            "heatmap": [
             {
              "colorbar": {
               "outlinewidth": 0,
               "ticks": ""
              },
              "colorscale": [
               [
                0,
                "#0d0887"
               ],
               [
                0.1111111111111111,
                "#46039f"
               ],
               [
                0.2222222222222222,
                "#7201a8"
               ],
               [
                0.3333333333333333,
                "#9c179e"
               ],
               [
                0.4444444444444444,
                "#bd3786"
               ],
               [
                0.5555555555555556,
                "#d8576b"
               ],
               [
                0.6666666666666666,
                "#ed7953"
               ],
               [
                0.7777777777777778,
                "#fb9f3a"
               ],
               [
                0.8888888888888888,
                "#fdca26"
               ],
               [
                1,
                "#f0f921"
               ]
              ],
              "type": "heatmap"
             }
            ],
            "heatmapgl": [
             {
              "colorbar": {
               "outlinewidth": 0,
               "ticks": ""
              },
              "colorscale": [
               [
                0,
                "#0d0887"
               ],
               [
                0.1111111111111111,
                "#46039f"
               ],
               [
                0.2222222222222222,
                "#7201a8"
               ],
               [
                0.3333333333333333,
                "#9c179e"
               ],
               [
                0.4444444444444444,
                "#bd3786"
               ],
               [
                0.5555555555555556,
                "#d8576b"
               ],
               [
                0.6666666666666666,
                "#ed7953"
               ],
               [
                0.7777777777777778,
                "#fb9f3a"
               ],
               [
                0.8888888888888888,
                "#fdca26"
               ],
               [
                1,
                "#f0f921"
               ]
              ],
              "type": "heatmapgl"
             }
            ],
            "histogram": [
             {
              "marker": {
               "pattern": {
                "fillmode": "overlay",
                "size": 10,
                "solidity": 0.2
               }
              },
              "type": "histogram"
             }
            ],
            "histogram2d": [
             {
              "colorbar": {
               "outlinewidth": 0,
               "ticks": ""
              },
              "colorscale": [
               [
                0,
                "#0d0887"
               ],
               [
                0.1111111111111111,
                "#46039f"
               ],
               [
                0.2222222222222222,
                "#7201a8"
               ],
               [
                0.3333333333333333,
                "#9c179e"
               ],
               [
                0.4444444444444444,
                "#bd3786"
               ],
               [
                0.5555555555555556,
                "#d8576b"
               ],
               [
                0.6666666666666666,
                "#ed7953"
               ],
               [
                0.7777777777777778,
                "#fb9f3a"
               ],
               [
                0.8888888888888888,
                "#fdca26"
               ],
               [
                1,
                "#f0f921"
               ]
              ],
              "type": "histogram2d"
             }
            ],
            "histogram2dcontour": [
             {
              "colorbar": {
               "outlinewidth": 0,
               "ticks": ""
              },
              "colorscale": [
               [
                0,
                "#0d0887"
               ],
               [
                0.1111111111111111,
                "#46039f"
               ],
               [
                0.2222222222222222,
                "#7201a8"
               ],
               [
                0.3333333333333333,
                "#9c179e"
               ],
               [
                0.4444444444444444,
                "#bd3786"
               ],
               [
                0.5555555555555556,
                "#d8576b"
               ],
               [
                0.6666666666666666,
                "#ed7953"
               ],
               [
                0.7777777777777778,
                "#fb9f3a"
               ],
               [
                0.8888888888888888,
                "#fdca26"
               ],
               [
                1,
                "#f0f921"
               ]
              ],
              "type": "histogram2dcontour"
             }
            ],
            "mesh3d": [
             {
              "colorbar": {
               "outlinewidth": 0,
               "ticks": ""
              },
              "type": "mesh3d"
             }
            ],
            "parcoords": [
             {
              "line": {
               "colorbar": {
                "outlinewidth": 0,
                "ticks": ""
               }
              },
              "type": "parcoords"
             }
            ],
            "pie": [
             {
              "automargin": true,
              "type": "pie"
             }
            ],
            "scatter": [
             {
              "fillpattern": {
               "fillmode": "overlay",
               "size": 10,
               "solidity": 0.2
              },
              "type": "scatter"
             }
            ],
            "scatter3d": [
             {
              "line": {
               "colorbar": {
                "outlinewidth": 0,
                "ticks": ""
               }
              },
              "marker": {
               "colorbar": {
                "outlinewidth": 0,
                "ticks": ""
               }
              },
              "type": "scatter3d"
             }
            ],
            "scattercarpet": [
             {
              "marker": {
               "colorbar": {
                "outlinewidth": 0,
                "ticks": ""
               }
              },
              "type": "scattercarpet"
             }
            ],
            "scattergeo": [
             {
              "marker": {
               "colorbar": {
                "outlinewidth": 0,
                "ticks": ""
               }
              },
              "type": "scattergeo"
             }
            ],
            "scattergl": [
             {
              "marker": {
               "colorbar": {
                "outlinewidth": 0,
                "ticks": ""
               }
              },
              "type": "scattergl"
             }
            ],
            "scattermapbox": [
             {
              "marker": {
               "colorbar": {
                "outlinewidth": 0,
                "ticks": ""
               }
              },
              "type": "scattermapbox"
             }
            ],
            "scatterpolar": [
             {
              "marker": {
               "colorbar": {
                "outlinewidth": 0,
                "ticks": ""
               }
              },
              "type": "scatterpolar"
             }
            ],
            "scatterpolargl": [
             {
              "marker": {
               "colorbar": {
                "outlinewidth": 0,
                "ticks": ""
               }
              },
              "type": "scatterpolargl"
             }
            ],
            "scatterternary": [
             {
              "marker": {
               "colorbar": {
                "outlinewidth": 0,
                "ticks": ""
               }
              },
              "type": "scatterternary"
             }
            ],
            "surface": [
             {
              "colorbar": {
               "outlinewidth": 0,
               "ticks": ""
              },
              "colorscale": [
               [
                0,
                "#0d0887"
               ],
               [
                0.1111111111111111,
                "#46039f"
               ],
               [
                0.2222222222222222,
                "#7201a8"
               ],
               [
                0.3333333333333333,
                "#9c179e"
               ],
               [
                0.4444444444444444,
                "#bd3786"
               ],
               [
                0.5555555555555556,
                "#d8576b"
               ],
               [
                0.6666666666666666,
                "#ed7953"
               ],
               [
                0.7777777777777778,
                "#fb9f3a"
               ],
               [
                0.8888888888888888,
                "#fdca26"
               ],
               [
                1,
                "#f0f921"
               ]
              ],
              "type": "surface"
             }
            ],
            "table": [
             {
              "cells": {
               "fill": {
                "color": "#EBF0F8"
               },
               "line": {
                "color": "white"
               }
              },
              "header": {
               "fill": {
                "color": "#C8D4E3"
               },
               "line": {
                "color": "white"
               }
              },
              "type": "table"
             }
            ]
           },
           "layout": {
            "annotationdefaults": {
             "arrowcolor": "#2a3f5f",
             "arrowhead": 0,
             "arrowwidth": 1
            },
            "autotypenumbers": "strict",
            "coloraxis": {
             "colorbar": {
              "outlinewidth": 0,
              "ticks": ""
             }
            },
            "colorscale": {
             "diverging": [
              [
               0,
               "#8e0152"
              ],
              [
               0.1,
               "#c51b7d"
              ],
              [
               0.2,
               "#de77ae"
              ],
              [
               0.3,
               "#f1b6da"
              ],
              [
               0.4,
               "#fde0ef"
              ],
              [
               0.5,
               "#f7f7f7"
              ],
              [
               0.6,
               "#e6f5d0"
              ],
              [
               0.7,
               "#b8e186"
              ],
              [
               0.8,
               "#7fbc41"
              ],
              [
               0.9,
               "#4d9221"
              ],
              [
               1,
               "#276419"
              ]
             ],
             "sequential": [
              [
               0,
               "#0d0887"
              ],
              [
               0.1111111111111111,
               "#46039f"
              ],
              [
               0.2222222222222222,
               "#7201a8"
              ],
              [
               0.3333333333333333,
               "#9c179e"
              ],
              [
               0.4444444444444444,
               "#bd3786"
              ],
              [
               0.5555555555555556,
               "#d8576b"
              ],
              [
               0.6666666666666666,
               "#ed7953"
              ],
              [
               0.7777777777777778,
               "#fb9f3a"
              ],
              [
               0.8888888888888888,
               "#fdca26"
              ],
              [
               1,
               "#f0f921"
              ]
             ],
             "sequentialminus": [
              [
               0,
               "#0d0887"
              ],
              [
               0.1111111111111111,
               "#46039f"
              ],
              [
               0.2222222222222222,
               "#7201a8"
              ],
              [
               0.3333333333333333,
               "#9c179e"
              ],
              [
               0.4444444444444444,
               "#bd3786"
              ],
              [
               0.5555555555555556,
               "#d8576b"
              ],
              [
               0.6666666666666666,
               "#ed7953"
              ],
              [
               0.7777777777777778,
               "#fb9f3a"
              ],
              [
               0.8888888888888888,
               "#fdca26"
              ],
              [
               1,
               "#f0f921"
              ]
             ]
            },
            "colorway": [
             "#636efa",
             "#EF553B",
             "#00cc96",
             "#ab63fa",
             "#FFA15A",
             "#19d3f3",
             "#FF6692",
             "#B6E880",
             "#FF97FF",
             "#FECB52"
            ],
            "font": {
             "color": "#2a3f5f"
            },
            "geo": {
             "bgcolor": "white",
             "lakecolor": "white",
             "landcolor": "white",
             "showlakes": true,
             "showland": true,
             "subunitcolor": "#C8D4E3"
            },
            "hoverlabel": {
             "align": "left"
            },
            "hovermode": "closest",
            "mapbox": {
             "style": "light"
            },
            "paper_bgcolor": "white",
            "plot_bgcolor": "white",
            "polar": {
             "angularaxis": {
              "gridcolor": "#EBF0F8",
              "linecolor": "#EBF0F8",
              "ticks": ""
             },
             "bgcolor": "white",
             "radialaxis": {
              "gridcolor": "#EBF0F8",
              "linecolor": "#EBF0F8",
              "ticks": ""
             }
            },
            "scene": {
             "xaxis": {
              "backgroundcolor": "white",
              "gridcolor": "#DFE8F3",
              "gridwidth": 2,
              "linecolor": "#EBF0F8",
              "showbackground": true,
              "ticks": "",
              "zerolinecolor": "#EBF0F8"
             },
             "yaxis": {
              "backgroundcolor": "white",
              "gridcolor": "#DFE8F3",
              "gridwidth": 2,
              "linecolor": "#EBF0F8",
              "showbackground": true,
              "ticks": "",
              "zerolinecolor": "#EBF0F8"
             },
             "zaxis": {
              "backgroundcolor": "white",
              "gridcolor": "#DFE8F3",
              "gridwidth": 2,
              "linecolor": "#EBF0F8",
              "showbackground": true,
              "ticks": "",
              "zerolinecolor": "#EBF0F8"
             }
            },
            "shapedefaults": {
             "line": {
              "color": "#2a3f5f"
             }
            },
            "ternary": {
             "aaxis": {
              "gridcolor": "#DFE8F3",
              "linecolor": "#A2B1C6",
              "ticks": ""
             },
             "baxis": {
              "gridcolor": "#DFE8F3",
              "linecolor": "#A2B1C6",
              "ticks": ""
             },
             "bgcolor": "white",
             "caxis": {
              "gridcolor": "#DFE8F3",
              "linecolor": "#A2B1C6",
              "ticks": ""
             }
            },
            "title": {
             "x": 0.05
            },
            "xaxis": {
             "automargin": true,
             "gridcolor": "#EBF0F8",
             "linecolor": "#EBF0F8",
             "ticks": "",
             "title": {
              "standoff": 15
             },
             "zerolinecolor": "#EBF0F8",
             "zerolinewidth": 2
            },
            "yaxis": {
             "automargin": true,
             "gridcolor": "#EBF0F8",
             "linecolor": "#EBF0F8",
             "ticks": "",
             "title": {
              "standoff": 15
             },
             "zerolinecolor": "#EBF0F8",
             "zerolinewidth": 2
            }
           }
          },
          "xaxis": {
           "automargin": false,
           "linecolor": "#444",
           "linewidth": 2,
           "minor": {
            "tickmode": "linear",
            "ticks": "outside"
           },
           "mirror": true,
           "showline": true,
           "tickmode": "linear",
           "ticks": "outside",
           "zeroline": false
          },
          "yaxis": {
           "automargin": false,
           "linecolor": "#444",
           "linewidth": 2,
           "minor": {
            "tickmode": "linear",
            "ticks": "outside"
           },
           "mirror": true,
           "showline": true,
           "ticks": "outside",
           "zeroline": false
          }
         }
        },
        "width": 600,
        "xaxis": {
         "dtick": 5,
         "minor": {
          "dtick": 1,
          "tick0": 0
         },
         "range": [
          0.8,
          20.2
         ],
         "tick0": 0,
         "title": {
          "text": "level"
         }
        },
        "yaxis": {
         "dtick": 100,
         "minor": {
          "dtick": 50,
          "tick0": 0
         },
         "range": [
          0,
          500
         ],
         "tick0": 0,
         "title": {
          "text": "hit points"
         }
        }
       }
      }
     },
     "metadata": {},
     "output_type": "display_data"
    }
   ],
   "source": [
    "# Plots adjusted hit points for each class, calculated for a full adventuring day with Medium encounters and two short rests.\n",
    "import pandas as pd\n",
    "\n",
    "# create figure\n",
    "fig = go.Figure(\n",
    "    layout=go.Layout(\n",
    "        template=tfb.FIG_TEMPLATE,\n",
    "        xaxis=dict(\n",
    "            title_text='level',\n",
    "            range=[0.8, 20.2],\n",
    "            tick0=0, dtick=5,\n",
    "            minor=dict(tick0=0, dtick=1),\n",
    "        ),\n",
    "        yaxis=dict(\n",
    "            title_text='hit points',\n",
    "            range=[0, 500],\n",
    "            tick0=0, dtick=100,\n",
    "            minor=dict(tick0=0, dtick=50),\n",
    "        ),\n",
    "        legend=dict(\n",
    "            yanchor='bottom', y=1.01,\n",
    "            xanchor='left',   x=0.01,\n",
    "            bgcolor='rgba(0,0,0,0)',\n",
    "            orientation='h',\n",
    "            tracegroupgap=0,\n",
    "        )\n",
    "    )\n",
    ")\n",
    "\n",
    "# get PC data\n",
    "classes = list(PC_CLASSES.keys())\n",
    "encounter_difficulty = 'Medium'\n",
    "pc_data_file = f'../../_classes/xp-and-player-characters/pc data - {encounter_difficulty} 2 short rests.json'\n",
    "df = load_pc_data(pc_data_file, ['class','level','hit points mean','hit points multiplier'])\n",
    "df = df[df['class'].isin(classes)]\n",
    "df['adj hit points mean'] = df['hit points mean']*df['hit points multiplier']\n",
    "for c in classes:\n",
    "    dfG = df[df['class'].eq(c)][['level','adj hit points mean']].groupby(['level']).median().reset_index()\n",
    "    fig.add_trace(go.Scatter(\n",
    "        x=dfG['level'].to_numpy(), \n",
    "        y=dfG['adj hit points mean'].to_numpy(),\n",
    "        mode='lines+markers', \n",
    "        line=dict(color=PC_CLASSES[c]['color'], width=1),\n",
    "        marker=dict(color=PC_CLASSES[c]['color']),\n",
    "        unselected=dict(marker=dict(opacity=0.0)),\n",
    "        name=c,\n",
    "        hovertemplate=\n",
    "                f'<b>{c}</b><br>'+\n",
    "                'level %{x}<br>'+\n",
    "                'hit points %{y:.0f}'+\n",
    "                '<extra></extra>'\n",
    "    ))\n",
    "\n",
    "\n",
    "# average\n",
    "\"\"\"\n",
    "dfG = df[['level','adj hit points mean']].groupby(['level']).mean().reset_index()\n",
    "fig.add_trace(go.Scatter(\n",
    "    x=dfG['level'].to_numpy(), \n",
    "    y=dfG['adj hit points mean'].to_numpy(),\n",
    "    mode='lines+markers', \n",
    "    line=dict(color='black', dash='dash', width=3),\n",
    "    unselected=dict(marker=dict(opacity=0.0)),\n",
    "    name='average',\n",
    "    hovertemplate=\n",
    "            '<b>Level %{x}</b><br>'+\n",
    "            'hit points %{y:.0f}'+\n",
    "            '<extra></extra>'\n",
    "))\"\"\"\n",
    "\n",
    "dfG = df[['level','adj hit points mean']].groupby(['level']).median().reset_index()\n",
    "plot_data_and_fit(\n",
    "    fig, \n",
    "    dfG['level'].to_numpy(), dfG['adj hit points mean'].to_numpy(), \n",
    "    name='average',\n",
    "    legendgroup='average',\n",
    "    line=dict(color='black', dash='dash'),\n",
    "    hovertemplate=\n",
    "            f'<b>Average</b><br>'+\n",
    "            'level %{x:.0f}<br>'+\n",
    "            'hit points %{y:.0f}'+\n",
    "            '<extra></extra>',\n",
    "    print_coefficients=True,\n",
    ")\n",
    "\n",
    "# show figure\n",
    "fig.update_layout(width=600, height=500)\n",
    "fig.show(config=tfb.FIG_CONFIG)\n",
    "\n",
    "# save figures\n",
    "if SAVEFIGS:\n",
    "    fig.update_layout(autosize=True, width=None, height=None)\n",
    "    tfb.save_fig_html(fig, format='large', name=f'./fig-adj-hp-vs-level-large', style='aspect-ratio:600/550')\n",
    "    tfb.save_fig_html(fig, format='small', name=f'./fig-adj-hp-vs-level-small', style='aspect-ratio:600/600')"
   ]
  },
  {
   "cell_type": "code",
   "execution_count": 34,
   "metadata": {},
   "outputs": [
    {
     "name": "stdout",
     "output_type": "stream",
     "text": [
      "LVL >= 1: 6.66 + 0.02*LVL\n",
      "monsters: 6.832871995143565\n",
      "LVL >= 1: 2.06 + 0.06*LVL\n",
      "player characters: 2.673155372137044\n"
     ]
    },
    {
     "data": {
      "application/vnd.plotly.v1+json": {
       "config": {
        "autosizable": true,
        "displayModeBar": "hover",
        "displaylogo": false,
        "modeBarButtonsToRemove": [
         "select2d",
         "lasso2d",
         "zoom2d",
         "zoomIn2d",
         "zoomOut2d",
         "pan2d",
         "autoScale2d",
         "hoverClosestCartesian",
         "hoverCompareCartesian",
         "toggleSpikelines",
         "resetScale2d"
        ],
        "plotlyServerURL": "https://plot.ly",
        "responsive": true,
        "showAxisDragHandles": false,
        "toImageButtonOptions": {
         "filename": "tfb-plot",
         "format": "png",
         "height": 450,
         "scale": 2,
         "width": 600
        }
       },
       "data": [
        {
         "hovertemplate": "<b>Monsters</b><br>level %{x}<br>rounds %{y:.2f}<extra></extra>",
         "legendgroup": "monsters",
         "line": {
          "color": "#1f77b4",
          "dash": "solid",
          "width": 1
         },
         "mode": "markers",
         "name": "monsters",
         "showlegend": false,
         "type": "scatter",
         "x": [
          1,
          2,
          3,
          4,
          5,
          6,
          7,
          8,
          9,
          10,
          11,
          12,
          13,
          14,
          15,
          16,
          17,
          18,
          19,
          20
         ],
         "y": [
          5.751290812817287,
          6.870907156115193,
          7.18447411042631,
          7.162439173823231,
          6.792900738141531,
          6.404642776138635,
          7.189897957247897,
          7.148410254751875,
          6.777154256126142,
          7.191543606526994,
          6.816275833346075,
          6.4742942033149635,
          6.933274987889639,
          6.759261565476435,
          6.543296290505406,
          6.642625793775717,
          6.305409072569926,
          6.388313400335957,
          7.239941353118166,
          8.08108656042391
         ]
        },
        {
         "hoverinfo": "skip",
         "hovertemplate": "<b>Monsters</b><br>level %{x}<br>rounds %{y:.2f}<extra></extra>",
         "legendgroup": "monsters",
         "line": {
          "color": "#1f77b4",
          "dash": "solid",
          "width": 1
         },
         "mode": "lines",
         "name": "monsters",
         "showlegend": true,
         "type": "scatter",
         "x": [
          1,
          2,
          3,
          4,
          5,
          6,
          7,
          8,
          9,
          10,
          11,
          12,
          13,
          14,
          15,
          16,
          17,
          18,
          19,
          20
         ],
         "y": [
          6.678037875008713,
          6.694336203443961,
          6.710634531879209,
          6.726932860314457,
          6.7432311887497045,
          6.759529517184951,
          6.775827845620199,
          6.792126174055447,
          6.808424502490695,
          6.824722830925943,
          6.8410211593611905,
          6.857319487796438,
          6.873617816231686,
          6.889916144666934,
          6.906214473102182,
          6.9225128015374295,
          6.938811129972677,
          6.955109458407925,
          6.971407786843172,
          6.98770611527842
         ]
        },
        {
         "hovertemplate": "<b>Player Characters</b><br>level %{x}<br>rounds %{y:.2f}<extra></extra>",
         "legendgroup": "player characters",
         "line": {
          "color": "#ff7f0e",
          "dash": "solid",
          "width": 1
         },
         "mode": "markers",
         "name": "player characters",
         "showlegend": false,
         "type": "scatter",
         "x": [
          1,
          2,
          3,
          4,
          5,
          6,
          7,
          8,
          9,
          10,
          11,
          12,
          13,
          14,
          15,
          16,
          17,
          18,
          19,
          20
         ],
         "y": [
          1.536925269462328,
          2.143433069286804,
          2.8680115854193238,
          3.156543405739456,
          2.0211653408322454,
          2.1252421068185083,
          2.5725886360062296,
          2.496005179856481,
          2.3839463819754427,
          2.890901922087947,
          2.592060389364329,
          2.5274714338333917,
          2.5699423476195125,
          2.7513413461137795,
          2.8756564647734684,
          3.2935013810009295,
          2.7630202447890424,
          3.1568445706431314,
          3.048917011438306,
          3.6895893556802277
         ]
        },
        {
         "hoverinfo": "skip",
         "hovertemplate": "<b>Player Characters</b><br>level %{x}<br>rounds %{y:.2f}<extra></extra>",
         "legendgroup": "player characters",
         "line": {
          "color": "#ff7f0e",
          "dash": "solid",
          "width": 1
         },
         "mode": "lines",
         "name": "player characters",
         "showlegend": true,
         "type": "scatter",
         "x": [
          1,
          2,
          3,
          4,
          5,
          6,
          7,
          8,
          9,
          10,
          11,
          12,
          13,
          14,
          15,
          16,
          17,
          18,
          19,
          20
         ],
         "y": [
          2.1159221404471467,
          2.174578270098715,
          2.233234399750283,
          2.2918905294018517,
          2.35054665905342,
          2.409202788704988,
          2.4678589183565562,
          2.5265150480081244,
          2.585171177659693,
          2.643827307311261,
          2.7024834369628294,
          2.7611395666143976,
          2.819795696265966,
          2.878451825917534,
          2.937107955569102,
          2.995764085220671,
          3.054420214872239,
          3.113076344523807,
          3.1717324741753754,
          3.2303886038269436
         ]
        }
       ],
       "layout": {
        "height": 500,
        "legend": {
         "bgcolor": "rgba(0,0,0,0)",
         "orientation": "h",
         "tracegroupgap": 0,
         "x": 0.01,
         "xanchor": "left",
         "y": 0.99,
         "yanchor": "top"
        },
        "template": {
         "layout": {
          "autosize": false,
          "font": {
           "family": "sans-serif",
           "size": 14
          },
          "hoverlabel": {
           "align": "left"
          },
          "hovermode": "closest",
          "margin": {
           "b": 55,
           "l": 60,
           "pad": 4,
           "r": 25,
           "t": 20
          },
          "template": {
           "data": {
            "bar": [
             {
              "error_x": {
               "color": "#2a3f5f"
              },
              "error_y": {
               "color": "#2a3f5f"
              },
              "marker": {
               "line": {
                "color": "white",
                "width": 0.5
               },
               "pattern": {
                "fillmode": "overlay",
                "size": 10,
                "solidity": 0.2
               }
              },
              "type": "bar"
             }
            ],
            "barpolar": [
             {
              "marker": {
               "line": {
                "color": "white",
                "width": 0.5
               },
               "pattern": {
                "fillmode": "overlay",
                "size": 10,
                "solidity": 0.2
               }
              },
              "type": "barpolar"
             }
            ],
            "carpet": [
             {
              "aaxis": {
               "endlinecolor": "#2a3f5f",
               "gridcolor": "#C8D4E3",
               "linecolor": "#C8D4E3",
               "minorgridcolor": "#C8D4E3",
               "startlinecolor": "#2a3f5f"
              },
              "baxis": {
               "endlinecolor": "#2a3f5f",
               "gridcolor": "#C8D4E3",
               "linecolor": "#C8D4E3",
               "minorgridcolor": "#C8D4E3",
               "startlinecolor": "#2a3f5f"
              },
              "type": "carpet"
             }
            ],
            "choropleth": [
             {
              "colorbar": {
               "outlinewidth": 0,
               "ticks": ""
              },
              "type": "choropleth"
             }
            ],
            "contour": [
             {
              "colorbar": {
               "outlinewidth": 0,
               "ticks": ""
              },
              "colorscale": [
               [
                0,
                "#0d0887"
               ],
               [
                0.1111111111111111,
                "#46039f"
               ],
               [
                0.2222222222222222,
                "#7201a8"
               ],
               [
                0.3333333333333333,
                "#9c179e"
               ],
               [
                0.4444444444444444,
                "#bd3786"
               ],
               [
                0.5555555555555556,
                "#d8576b"
               ],
               [
                0.6666666666666666,
                "#ed7953"
               ],
               [
                0.7777777777777778,
                "#fb9f3a"
               ],
               [
                0.8888888888888888,
                "#fdca26"
               ],
               [
                1,
                "#f0f921"
               ]
              ],
              "type": "contour"
             }
            ],
            "contourcarpet": [
             {
              "colorbar": {
               "outlinewidth": 0,
               "ticks": ""
              },
              "type": "contourcarpet"
             }
            ],
            "heatmap": [
             {
              "colorbar": {
               "outlinewidth": 0,
               "ticks": ""
              },
              "colorscale": [
               [
                0,
                "#0d0887"
               ],
               [
                0.1111111111111111,
                "#46039f"
               ],
               [
                0.2222222222222222,
                "#7201a8"
               ],
               [
                0.3333333333333333,
                "#9c179e"
               ],
               [
                0.4444444444444444,
                "#bd3786"
               ],
               [
                0.5555555555555556,
                "#d8576b"
               ],
               [
                0.6666666666666666,
                "#ed7953"
               ],
               [
                0.7777777777777778,
                "#fb9f3a"
               ],
               [
                0.8888888888888888,
                "#fdca26"
               ],
               [
                1,
                "#f0f921"
               ]
              ],
              "type": "heatmap"
             }
            ],
            "heatmapgl": [
             {
              "colorbar": {
               "outlinewidth": 0,
               "ticks": ""
              },
              "colorscale": [
               [
                0,
                "#0d0887"
               ],
               [
                0.1111111111111111,
                "#46039f"
               ],
               [
                0.2222222222222222,
                "#7201a8"
               ],
               [
                0.3333333333333333,
                "#9c179e"
               ],
               [
                0.4444444444444444,
                "#bd3786"
               ],
               [
                0.5555555555555556,
                "#d8576b"
               ],
               [
                0.6666666666666666,
                "#ed7953"
               ],
               [
                0.7777777777777778,
                "#fb9f3a"
               ],
               [
                0.8888888888888888,
                "#fdca26"
               ],
               [
                1,
                "#f0f921"
               ]
              ],
              "type": "heatmapgl"
             }
            ],
            "histogram": [
             {
              "marker": {
               "pattern": {
                "fillmode": "overlay",
                "size": 10,
                "solidity": 0.2
               }
              },
              "type": "histogram"
             }
            ],
            "histogram2d": [
             {
              "colorbar": {
               "outlinewidth": 0,
               "ticks": ""
              },
              "colorscale": [
               [
                0,
                "#0d0887"
               ],
               [
                0.1111111111111111,
                "#46039f"
               ],
               [
                0.2222222222222222,
                "#7201a8"
               ],
               [
                0.3333333333333333,
                "#9c179e"
               ],
               [
                0.4444444444444444,
                "#bd3786"
               ],
               [
                0.5555555555555556,
                "#d8576b"
               ],
               [
                0.6666666666666666,
                "#ed7953"
               ],
               [
                0.7777777777777778,
                "#fb9f3a"
               ],
               [
                0.8888888888888888,
                "#fdca26"
               ],
               [
                1,
                "#f0f921"
               ]
              ],
              "type": "histogram2d"
             }
            ],
            "histogram2dcontour": [
             {
              "colorbar": {
               "outlinewidth": 0,
               "ticks": ""
              },
              "colorscale": [
               [
                0,
                "#0d0887"
               ],
               [
                0.1111111111111111,
                "#46039f"
               ],
               [
                0.2222222222222222,
                "#7201a8"
               ],
               [
                0.3333333333333333,
                "#9c179e"
               ],
               [
                0.4444444444444444,
                "#bd3786"
               ],
               [
                0.5555555555555556,
                "#d8576b"
               ],
               [
                0.6666666666666666,
                "#ed7953"
               ],
               [
                0.7777777777777778,
                "#fb9f3a"
               ],
               [
                0.8888888888888888,
                "#fdca26"
               ],
               [
                1,
                "#f0f921"
               ]
              ],
              "type": "histogram2dcontour"
             }
            ],
            "mesh3d": [
             {
              "colorbar": {
               "outlinewidth": 0,
               "ticks": ""
              },
              "type": "mesh3d"
             }
            ],
            "parcoords": [
             {
              "line": {
               "colorbar": {
                "outlinewidth": 0,
                "ticks": ""
               }
              },
              "type": "parcoords"
             }
            ],
            "pie": [
             {
              "automargin": true,
              "type": "pie"
             }
            ],
            "scatter": [
             {
              "fillpattern": {
               "fillmode": "overlay",
               "size": 10,
               "solidity": 0.2
              },
              "type": "scatter"
             }
            ],
            "scatter3d": [
             {
              "line": {
               "colorbar": {
                "outlinewidth": 0,
                "ticks": ""
               }
              },
              "marker": {
               "colorbar": {
                "outlinewidth": 0,
                "ticks": ""
               }
              },
              "type": "scatter3d"
             }
            ],
            "scattercarpet": [
             {
              "marker": {
               "colorbar": {
                "outlinewidth": 0,
                "ticks": ""
               }
              },
              "type": "scattercarpet"
             }
            ],
            "scattergeo": [
             {
              "marker": {
               "colorbar": {
                "outlinewidth": 0,
                "ticks": ""
               }
              },
              "type": "scattergeo"
             }
            ],
            "scattergl": [
             {
              "marker": {
               "colorbar": {
                "outlinewidth": 0,
                "ticks": ""
               }
              },
              "type": "scattergl"
             }
            ],
            "scattermapbox": [
             {
              "marker": {
               "colorbar": {
                "outlinewidth": 0,
                "ticks": ""
               }
              },
              "type": "scattermapbox"
             }
            ],
            "scatterpolar": [
             {
              "marker": {
               "colorbar": {
                "outlinewidth": 0,
                "ticks": ""
               }
              },
              "type": "scatterpolar"
             }
            ],
            "scatterpolargl": [
             {
              "marker": {
               "colorbar": {
                "outlinewidth": 0,
                "ticks": ""
               }
              },
              "type": "scatterpolargl"
             }
            ],
            "scatterternary": [
             {
              "marker": {
               "colorbar": {
                "outlinewidth": 0,
                "ticks": ""
               }
              },
              "type": "scatterternary"
             }
            ],
            "surface": [
             {
              "colorbar": {
               "outlinewidth": 0,
               "ticks": ""
              },
              "colorscale": [
               [
                0,
                "#0d0887"
               ],
               [
                0.1111111111111111,
                "#46039f"
               ],
               [
                0.2222222222222222,
                "#7201a8"
               ],
               [
                0.3333333333333333,
                "#9c179e"
               ],
               [
                0.4444444444444444,
                "#bd3786"
               ],
               [
                0.5555555555555556,
                "#d8576b"
               ],
               [
                0.6666666666666666,
                "#ed7953"
               ],
               [
                0.7777777777777778,
                "#fb9f3a"
               ],
               [
                0.8888888888888888,
                "#fdca26"
               ],
               [
                1,
                "#f0f921"
               ]
              ],
              "type": "surface"
             }
            ],
            "table": [
             {
              "cells": {
               "fill": {
                "color": "#EBF0F8"
               },
               "line": {
                "color": "white"
               }
              },
              "header": {
               "fill": {
                "color": "#C8D4E3"
               },
               "line": {
                "color": "white"
               }
              },
              "type": "table"
             }
            ]
           },
           "layout": {
            "annotationdefaults": {
             "arrowcolor": "#2a3f5f",
             "arrowhead": 0,
             "arrowwidth": 1
            },
            "autotypenumbers": "strict",
            "coloraxis": {
             "colorbar": {
              "outlinewidth": 0,
              "ticks": ""
             }
            },
            "colorscale": {
             "diverging": [
              [
               0,
               "#8e0152"
              ],
              [
               0.1,
               "#c51b7d"
              ],
              [
               0.2,
               "#de77ae"
              ],
              [
               0.3,
               "#f1b6da"
              ],
              [
               0.4,
               "#fde0ef"
              ],
              [
               0.5,
               "#f7f7f7"
              ],
              [
               0.6,
               "#e6f5d0"
              ],
              [
               0.7,
               "#b8e186"
              ],
              [
               0.8,
               "#7fbc41"
              ],
              [
               0.9,
               "#4d9221"
              ],
              [
               1,
               "#276419"
              ]
             ],
             "sequential": [
              [
               0,
               "#0d0887"
              ],
              [
               0.1111111111111111,
               "#46039f"
              ],
              [
               0.2222222222222222,
               "#7201a8"
              ],
              [
               0.3333333333333333,
               "#9c179e"
              ],
              [
               0.4444444444444444,
               "#bd3786"
              ],
              [
               0.5555555555555556,
               "#d8576b"
              ],
              [
               0.6666666666666666,
               "#ed7953"
              ],
              [
               0.7777777777777778,
               "#fb9f3a"
              ],
              [
               0.8888888888888888,
               "#fdca26"
              ],
              [
               1,
               "#f0f921"
              ]
             ],
             "sequentialminus": [
              [
               0,
               "#0d0887"
              ],
              [
               0.1111111111111111,
               "#46039f"
              ],
              [
               0.2222222222222222,
               "#7201a8"
              ],
              [
               0.3333333333333333,
               "#9c179e"
              ],
              [
               0.4444444444444444,
               "#bd3786"
              ],
              [
               0.5555555555555556,
               "#d8576b"
              ],
              [
               0.6666666666666666,
               "#ed7953"
              ],
              [
               0.7777777777777778,
               "#fb9f3a"
              ],
              [
               0.8888888888888888,
               "#fdca26"
              ],
              [
               1,
               "#f0f921"
              ]
             ]
            },
            "colorway": [
             "#636efa",
             "#EF553B",
             "#00cc96",
             "#ab63fa",
             "#FFA15A",
             "#19d3f3",
             "#FF6692",
             "#B6E880",
             "#FF97FF",
             "#FECB52"
            ],
            "font": {
             "color": "#2a3f5f"
            },
            "geo": {
             "bgcolor": "white",
             "lakecolor": "white",
             "landcolor": "white",
             "showlakes": true,
             "showland": true,
             "subunitcolor": "#C8D4E3"
            },
            "hoverlabel": {
             "align": "left"
            },
            "hovermode": "closest",
            "mapbox": {
             "style": "light"
            },
            "paper_bgcolor": "white",
            "plot_bgcolor": "white",
            "polar": {
             "angularaxis": {
              "gridcolor": "#EBF0F8",
              "linecolor": "#EBF0F8",
              "ticks": ""
             },
             "bgcolor": "white",
             "radialaxis": {
              "gridcolor": "#EBF0F8",
              "linecolor": "#EBF0F8",
              "ticks": ""
             }
            },
            "scene": {
             "xaxis": {
              "backgroundcolor": "white",
              "gridcolor": "#DFE8F3",
              "gridwidth": 2,
              "linecolor": "#EBF0F8",
              "showbackground": true,
              "ticks": "",
              "zerolinecolor": "#EBF0F8"
             },
             "yaxis": {
              "backgroundcolor": "white",
              "gridcolor": "#DFE8F3",
              "gridwidth": 2,
              "linecolor": "#EBF0F8",
              "showbackground": true,
              "ticks": "",
              "zerolinecolor": "#EBF0F8"
             },
             "zaxis": {
              "backgroundcolor": "white",
              "gridcolor": "#DFE8F3",
              "gridwidth": 2,
              "linecolor": "#EBF0F8",
              "showbackground": true,
              "ticks": "",
              "zerolinecolor": "#EBF0F8"
             }
            },
            "shapedefaults": {
             "line": {
              "color": "#2a3f5f"
             }
            },
            "ternary": {
             "aaxis": {
              "gridcolor": "#DFE8F3",
              "linecolor": "#A2B1C6",
              "ticks": ""
             },
             "baxis": {
              "gridcolor": "#DFE8F3",
              "linecolor": "#A2B1C6",
              "ticks": ""
             },
             "bgcolor": "white",
             "caxis": {
              "gridcolor": "#DFE8F3",
              "linecolor": "#A2B1C6",
              "ticks": ""
             }
            },
            "title": {
             "x": 0.05
            },
            "xaxis": {
             "automargin": true,
             "gridcolor": "#EBF0F8",
             "linecolor": "#EBF0F8",
             "ticks": "",
             "title": {
              "standoff": 15
             },
             "zerolinecolor": "#EBF0F8",
             "zerolinewidth": 2
            },
            "yaxis": {
             "automargin": true,
             "gridcolor": "#EBF0F8",
             "linecolor": "#EBF0F8",
             "ticks": "",
             "title": {
              "standoff": 15
             },
             "zerolinecolor": "#EBF0F8",
             "zerolinewidth": 2
            }
           }
          },
          "xaxis": {
           "automargin": false,
           "linecolor": "#444",
           "linewidth": 2,
           "minor": {
            "tickmode": "linear",
            "ticks": "outside"
           },
           "mirror": true,
           "showline": true,
           "tickmode": "linear",
           "ticks": "outside",
           "zeroline": false
          },
          "yaxis": {
           "automargin": false,
           "linecolor": "#444",
           "linewidth": 2,
           "minor": {
            "tickmode": "linear",
            "ticks": "outside"
           },
           "mirror": true,
           "showline": true,
           "ticks": "outside",
           "zeroline": false
          }
         }
        },
        "width": 600,
        "xaxis": {
         "dtick": 5,
         "minor": {
          "dtick": 1,
          "tick0": 0
         },
         "range": [
          0.8,
          20.2
         ],
         "tick0": 0,
         "title": {
          "text": "level"
         }
        },
        "yaxis": {
         "dtick": 1,
         "minor": {
          "dtick": 0.5,
          "tick0": 0
         },
         "range": [
          0,
          9
         ],
         "tick0": 0,
         "title": {
          "text": "rounds to win"
         }
        }
       }
      }
     },
     "metadata": {},
     "output_type": "display_data"
    }
   ],
   "source": [
    "# Plots adjusted hit points for each class, calculated for a full adventuring day with Medium encounters and two short rests.\n",
    "\n",
    "# create figure\n",
    "fig = go.Figure(\n",
    "    layout=go.Layout(\n",
    "        template=tfb.FIG_TEMPLATE,\n",
    "        xaxis=dict(\n",
    "            title_text='level',\n",
    "            range=[0.8, 20.2],\n",
    "            tick0=0, dtick=5,\n",
    "            minor=dict(tick0=0, dtick=1),\n",
    "        ),\n",
    "        yaxis=dict(\n",
    "            title_text='rounds to win',\n",
    "            range=[0, 9],\n",
    "            tick0=0, dtick=1,\n",
    "            minor=dict(tick0=0, dtick=0.5),\n",
    "        ),\n",
    "        legend=dict(\n",
    "            yanchor='top', y=0.99,\n",
    "            xanchor='left',   x=0.01,\n",
    "            bgcolor='rgba(0,0,0,0)',\n",
    "            orientation='h',\n",
    "            tracegroupgap=0,\n",
    "        )\n",
    "    )\n",
    ")\n",
    "\n",
    "# player character data\n",
    "levels = list(range(1,21))\n",
    "ac_matrix = []\n",
    "sb_matrix = []\n",
    "ab_matrix = []\n",
    "dc_matrix = []\n",
    "exclude_pcs = ['Barbarian','Fighter','Rogue']\n",
    "for c in pcs:\n",
    "    pc = pcs[c]\n",
    "    ac_matrix.append([pc.set_level(lvl).build().get_armor_class() for lvl in levels])\n",
    "    sb_matrix.append([np.mean(list(pc.set_level(lvl).build().get_save_bonuses().values())) for lvl in levels])\n",
    "    ab_matrix.append([pc.set_level(lvl).build().get_attack_bonus() for lvl in levels])\n",
    "    if c not in exclude_pcs:\n",
    "        dc_matrix.append([pc.set_level(lvl).build().get_save_dc() for lvl in levels])\n",
    "p_ac = np.mean(np.array(ac_matrix), axis=0)\n",
    "p_sb = np.mean(np.array(sb_matrix), axis=0)\n",
    "p_ab = np.mean(np.array(ab_matrix), axis=0)\n",
    "p_dc = np.mean(np.array(dc_matrix), axis=0)\n",
    "\n",
    "\"\"\"\n",
    "level = np.array(range(1,21))\n",
    "p_ac = np.round(14.7 + level/6, 2)\n",
    "p_sb = np.round( 1.5 + level/5, 2)\n",
    "p_ab = np.round( 4.6 + level/3, 2)\n",
    "p_dc = np.round(12.6 + level/3, 2)\n",
    "\"\"\"\n",
    "\n",
    "classes = list(PC_CLASSES.keys())\n",
    "pc_data_file = f'../../_classes/xp-and-player-characters/pc data - Medium 2 short rests.json'\n",
    "df = load_pc_data(pc_data_file, ['class','level','hit points mean','hit points multiplier','damage per round mean'])\n",
    "df = df[df['class'].isin(classes)]\n",
    "df['adj hit points mean'] = df['hit points mean']*df['hit points multiplier']\n",
    "dfG = df[['level', 'adj hit points mean', 'damage per round mean']].groupby(['level']).mean().reset_index()\n",
    "p_hp = dfG['adj hit points mean'].to_numpy()\n",
    "p_dpr = dfG['damage per round mean'].to_numpy()\n",
    "\n",
    "# monster stats\n",
    "dfM = pd.read_csv('../../assets/data/monsters.csv')\n",
    "dfM['unadj AC'] = dfM.apply(lambda row: unadjusted_armor_class(row), axis=1)\n",
    "dfM['adj SB'] = dfM.apply(lambda row: average_save_bonus(row), axis=1)\n",
    "dfM['adj SB'] = dfM['adj SB'] + dfM.apply(lambda row: 4 if 'magic resistance' in row['AC adjustments'] else 0, axis=1)\n",
    "dfM['adj DC'] = dfM['adj AB'] + 8\n",
    "dfM = dfM[['CR','adj HP','AC','adj AC','adj SB','adj DPR','adj AB','adj DC','unadj AC']].groupby(['CR']).mean().reset_index()\n",
    "dfM = dfM[dfM['CR'].between(1, 20)]\n",
    "dfM.sort_values(by='CR', inplace=True)\n",
    "\n",
    "m_ac  = dfM['unadj AC'].to_numpy()\n",
    "m_sb  = dfM['adj SB'].to_numpy()\n",
    "m_ab  = dfM['adj AB'].to_numpy()\n",
    "m_dc  = dfM['adj DC'].to_numpy()\n",
    "m_dpr = dfM['adj DPR'].to_numpy()\n",
    "m_hp  = dfM['adj HP'].to_numpy()\n",
    "\n",
    "\"\"\"\n",
    "level = np.array(range(1,21))\n",
    "m_ac  = np.round(13.0 + level/3, 2)\n",
    "m_sb  = np.round( 0.0 + level/2, 2)\n",
    "m_ab  = np.round( 3.5 + level/2, 2)\n",
    "m_dc  = np.round(11.5 + level/2, 2)\n",
    "m_dpr =  6 +  6*level\n",
    "m_hp  = 16 + 16*level\n",
    "\"\"\"\n",
    "\n",
    "\n",
    "# monsters\n",
    "hit_prob  = np.array([attack_hit_crit_prob(ac, ab) for ac, ab in zip(p_ac, m_ab)])\n",
    "fail_prob = np.array([save_fail_prob(sb, dc) for sb, dc in zip(p_sb, m_dc)])\n",
    "rounds_mean = 4*p_hp/(0.5*(hit_prob + fail_prob)*m_dpr)\n",
    "plot_data_and_fit(\n",
    "    fig, \n",
    "    levels, rounds_mean,\n",
    "    name='monsters',\n",
    "    legendgroup='monsters',\n",
    "    line=dict(color=COLOR_LIST[0], dash='solid', width=1),\n",
    "    hovertemplate=\n",
    "            '<b>Monsters</b><br>'+\n",
    "            'level %{x}<br>'+\n",
    "            'rounds %{y:.2f}'+\n",
    "            '<extra></extra>',\n",
    "    print_coefficients=True,\n",
    ")\n",
    "print('monsters:', np.mean(rounds_mean))\n",
    "\n",
    "\n",
    "# player characters\n",
    "p_hit = np.array([attack_hit_crit_prob(ac, ab) for ac, ab in zip(m_ac, p_ab)])\n",
    "p_fail = np.array([save_fail_prob(sb, dc) for sb, dc in zip(m_sb, p_dc)])\n",
    "rounds_mean = m_hp/(4*0.5*(p_hit + p_fail)*p_dpr)\n",
    "plot_data_and_fit(\n",
    "    fig, \n",
    "    levels, rounds_mean,\n",
    "    name='player characters',\n",
    "    legendgroup='player characters',\n",
    "    line=dict(color=COLOR_LIST[1], dash='solid', width=1),\n",
    "    hovertemplate=\n",
    "            '<b>Player Characters</b><br>'+\n",
    "            'level %{x}<br>'+\n",
    "            'rounds %{y:.2f}'+\n",
    "            '<extra></extra>',\n",
    "    print_coefficients=True,\n",
    ")\n",
    "print('player characters:', np.mean(rounds_mean))\n",
    "\n",
    "# show figure\n",
    "fig.update_layout(width=600, height=500)\n",
    "fig.show(config=tfb.FIG_CONFIG)\n",
    "\n",
    "# save figures\n",
    "if SAVEFIGS:\n",
    "    fig.update_layout(autosize=True, width=None, height=None)\n",
    "    tfb.save_fig_html(fig, format='large', name=f'./fig-rounds-to-win-large')\n",
    "    tfb.save_fig_html(fig, format='small', name=f'./fig-rounds-to-win-small')"
   ]
  }
 ],
 "metadata": {
  "kernelspec": {
   "display_name": "thefinishedbook",
   "language": "python",
   "name": "python3"
  },
  "language_info": {
   "codemirror_mode": {
    "name": "ipython",
    "version": 3
   },
   "file_extension": ".py",
   "mimetype": "text/x-python",
   "name": "python",
   "nbconvert_exporter": "python",
   "pygments_lexer": "ipython3",
   "version": "3.10.5"
  },
  "orig_nbformat": 4
 },
 "nbformat": 4,
 "nbformat_minor": 2
}
