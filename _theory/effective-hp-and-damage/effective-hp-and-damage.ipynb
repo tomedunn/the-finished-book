{
 "cells": [
  {
   "cell_type": "code",
   "execution_count": 5,
   "metadata": {},
   "outputs": [
    {
     "name": "stdout",
     "output_type": "stream",
     "text": [
      "Includes 1901 monsters in database\n"
     ]
    }
   ],
   "source": [
    "import numpy as np\n",
    "import pandas as pd\n",
    "pd.options.mode.chained_assignment = None  # default='warn'\n",
    "import plotly.graph_objects as go\n",
    "import sys\n",
    "sys.path.append('../../assets/python/')\n",
    "import tfb\n",
    "\n",
    "METADATA = {'Contributor': 'T. Dunn'}\n",
    "SAVEFIGS = False\n",
    "\n",
    "df0 = pd.read_csv('../../assets/data/monsters.csv')\n",
    "#df0 = df0.astype({'Book': 'category', 'Category': 'category', 'Legendary': 'category', 'Type': 'category', 'Size': 'category'})\n",
    "#df0 = df0.astype({'AC': 'int32', 'adj AC': 'int32'})\n",
    "\n",
    "dfD = pd.read_csv('../../assets/data/dmg-targets.csv') # 'CR','PB','AC','AB','DC'\n",
    "\n",
    "print('Includes {} monsters in database'.format(len(df0.index.to_list())))"
   ]
  },
  {
   "cell_type": "code",
   "execution_count": 3,
   "metadata": {},
   "outputs": [],
   "source": [
    "def average_ability_mod(row):\n",
    "    return (row['Str Mod'] + row['Dex Mod'] + row['Con Mod'] + row['Int Mod'] + row['Wis Mod'] + row['Cha Mod'])/6.0\n",
    "\n",
    "def average_save_bonus(row):\n",
    "    return (row['Str Save'] + row['Dex Save'] + row['Con Save'] + row['Int Save'] + row['Wis Save'] + row['Cha Save'])/6.0\n",
    "\n",
    "def adjusted_AC(row):\n",
    "    adjAC = 14 + (row['Str Save'] + row['Dex Save'] + row['Con Save'] + row['Int Save'] + row['Wis Save'] + row['Cha Save'])/6.0\n",
    "    adjAC = (adjAC + row['AC'])/2.0\n",
    "    return adjAC\n",
    "\n",
    "def adjusted_AC2(row):\n",
    "    adjAC = 14 + (row['Str Mod'] + row['Dex Mod'] + row['Con Mod'] + row['Int Mod'] + row['Wis Mod'] + row['Cha Mod'])/6.0\n",
    "    adjAC = (adjAC + row['AC'])/2.0\n",
    "    return adjAC\n",
    "\n",
    "def nProficiencies(row):\n",
    "    n = row['Str Prof'] + row['Dex Prof'] + row['Con Prof'] + row['Int Prof'] + row['Wis Prof'] + row['Cha Prof']\n",
    "    return n"
   ]
  },
  {
   "cell_type": "code",
   "execution_count": 11,
   "metadata": {},
   "outputs": [
    {
     "name": "stdout",
     "output_type": "stream",
     "text": [
      "0.6158333333333333\n",
      "0.6525000000000001\n"
     ]
    },
    {
     "data": {
      "application/vnd.plotly.v1+json": {
       "config": {
        "autosizable": true,
        "displayModeBar": "hover",
        "displaylogo": false,
        "modeBarButtonsToRemove": [
         "select2d",
         "lasso2d",
         "zoom2d",
         "zoomIn2d",
         "zoomOut2d",
         "pan2d",
         "autoScale2d",
         "hoverClosestCartesian",
         "hoverCompareCartesian",
         "toggleSpikelines",
         "resetScale2d"
        ],
        "plotlyServerURL": "https://plot.ly",
        "responsive": true,
        "showAxisDragHandles": false,
        "toImageButtonOptions": {
         "filename": "tfb-plot",
         "format": "png",
         "height": 450,
         "scale": 2,
         "width": 600
        }
       },
       "data": [
        {
         "hovertemplate": "Level %{x}<br>Hit Probability %{y:,.0%}<extra></extra>",
         "mode": "markers+lines",
         "name": "monster vs PC",
         "type": "scatter",
         "x": [
          1,
          2,
          3,
          4,
          5,
          6,
          7,
          8,
          9,
          10,
          11,
          12,
          13,
          14,
          15,
          16,
          17,
          18,
          19,
          20
         ],
         "y": [
          0.47500000000000003,
          0.48750000000000004,
          0.5375,
          0.5708333333333333,
          0.5833333333333334,
          0.5833333333333334,
          0.5708333333333333,
          0.5916666666666667,
          0.5916666666666667,
          0.5916666666666667,
          0.6416666666666666,
          0.6333333333333334,
          0.6333333333333334,
          0.6333333333333334,
          0.6333333333333334,
          0.675,
          0.7250000000000001,
          0.7250000000000001,
          0.7208333333333334,
          0.7125
         ]
        },
        {
         "hovertemplate": "Level %{x}<br>Hit Probability %{y:,.0%}<extra></extra>",
         "mode": "markers+lines",
         "name": "PC vs monster",
         "type": "scatter",
         "x": [
          1,
          2,
          3,
          4,
          5,
          6,
          7,
          8,
          9,
          10,
          11,
          12,
          13,
          14,
          15,
          16,
          17,
          18,
          19,
          20
         ],
         "y": [
          0.65,
          0.65,
          0.65,
          0.65,
          0.65,
          0.65,
          0.65,
          0.65,
          0.7000000000000001,
          0.65,
          0.65,
          0.65,
          0.65,
          0.65,
          0.65,
          0.65,
          0.65,
          0.65,
          0.65,
          0.65
         ]
        },
        {
         "hoverinfo": "skip",
         "line": {
          "color": "black",
          "dash": "dash"
         },
         "mode": "lines",
         "name": "reference",
         "showlegend": false,
         "type": "scatter",
         "x": [
          1,
          2,
          3,
          4,
          5,
          6,
          7,
          8,
          9,
          10,
          11,
          12,
          13,
          14,
          15,
          16,
          17,
          18,
          19,
          20
         ],
         "y": [
          0.65,
          0.65,
          0.65,
          0.65,
          0.65,
          0.65,
          0.65,
          0.65,
          0.65,
          0.65,
          0.65,
          0.65,
          0.65,
          0.65,
          0.65,
          0.65,
          0.65,
          0.65,
          0.65,
          0.65
         ]
        }
       ],
       "layout": {
        "height": 450,
        "legend": {
         "orientation": "v",
         "tracegroupgap": 0,
         "x": 0,
         "xanchor": "left",
         "y": 1,
         "yanchor": "top"
        },
        "margin": {
         "b": 55,
         "l": 60,
         "pad": 4,
         "r": 25,
         "t": 20
        },
        "template": {
         "layout": {
          "autosize": false,
          "font": {
           "family": "sans-serif",
           "size": 14
          },
          "hoverlabel": {
           "align": "left"
          },
          "hovermode": "closest",
          "margin": {
           "b": 55,
           "l": 60,
           "pad": 4,
           "r": 25,
           "t": 20
          },
          "template": {
           "data": {
            "bar": [
             {
              "error_x": {
               "color": "#2a3f5f"
              },
              "error_y": {
               "color": "#2a3f5f"
              },
              "marker": {
               "line": {
                "color": "white",
                "width": 0.5
               },
               "pattern": {
                "fillmode": "overlay",
                "size": 10,
                "solidity": 0.2
               }
              },
              "type": "bar"
             }
            ],
            "barpolar": [
             {
              "marker": {
               "line": {
                "color": "white",
                "width": 0.5
               },
               "pattern": {
                "fillmode": "overlay",
                "size": 10,
                "solidity": 0.2
               }
              },
              "type": "barpolar"
             }
            ],
            "carpet": [
             {
              "aaxis": {
               "endlinecolor": "#2a3f5f",
               "gridcolor": "#C8D4E3",
               "linecolor": "#C8D4E3",
               "minorgridcolor": "#C8D4E3",
               "startlinecolor": "#2a3f5f"
              },
              "baxis": {
               "endlinecolor": "#2a3f5f",
               "gridcolor": "#C8D4E3",
               "linecolor": "#C8D4E3",
               "minorgridcolor": "#C8D4E3",
               "startlinecolor": "#2a3f5f"
              },
              "type": "carpet"
             }
            ],
            "choropleth": [
             {
              "colorbar": {
               "outlinewidth": 0,
               "ticks": ""
              },
              "type": "choropleth"
             }
            ],
            "contour": [
             {
              "colorbar": {
               "outlinewidth": 0,
               "ticks": ""
              },
              "colorscale": [
               [
                0,
                "#0d0887"
               ],
               [
                0.1111111111111111,
                "#46039f"
               ],
               [
                0.2222222222222222,
                "#7201a8"
               ],
               [
                0.3333333333333333,
                "#9c179e"
               ],
               [
                0.4444444444444444,
                "#bd3786"
               ],
               [
                0.5555555555555556,
                "#d8576b"
               ],
               [
                0.6666666666666666,
                "#ed7953"
               ],
               [
                0.7777777777777778,
                "#fb9f3a"
               ],
               [
                0.8888888888888888,
                "#fdca26"
               ],
               [
                1,
                "#f0f921"
               ]
              ],
              "type": "contour"
             }
            ],
            "contourcarpet": [
             {
              "colorbar": {
               "outlinewidth": 0,
               "ticks": ""
              },
              "type": "contourcarpet"
             }
            ],
            "heatmap": [
             {
              "colorbar": {
               "outlinewidth": 0,
               "ticks": ""
              },
              "colorscale": [
               [
                0,
                "#0d0887"
               ],
               [
                0.1111111111111111,
                "#46039f"
               ],
               [
                0.2222222222222222,
                "#7201a8"
               ],
               [
                0.3333333333333333,
                "#9c179e"
               ],
               [
                0.4444444444444444,
                "#bd3786"
               ],
               [
                0.5555555555555556,
                "#d8576b"
               ],
               [
                0.6666666666666666,
                "#ed7953"
               ],
               [
                0.7777777777777778,
                "#fb9f3a"
               ],
               [
                0.8888888888888888,
                "#fdca26"
               ],
               [
                1,
                "#f0f921"
               ]
              ],
              "type": "heatmap"
             }
            ],
            "heatmapgl": [
             {
              "colorbar": {
               "outlinewidth": 0,
               "ticks": ""
              },
              "colorscale": [
               [
                0,
                "#0d0887"
               ],
               [
                0.1111111111111111,
                "#46039f"
               ],
               [
                0.2222222222222222,
                "#7201a8"
               ],
               [
                0.3333333333333333,
                "#9c179e"
               ],
               [
                0.4444444444444444,
                "#bd3786"
               ],
               [
                0.5555555555555556,
                "#d8576b"
               ],
               [
                0.6666666666666666,
                "#ed7953"
               ],
               [
                0.7777777777777778,
                "#fb9f3a"
               ],
               [
                0.8888888888888888,
                "#fdca26"
               ],
               [
                1,
                "#f0f921"
               ]
              ],
              "type": "heatmapgl"
             }
            ],
            "histogram": [
             {
              "marker": {
               "pattern": {
                "fillmode": "overlay",
                "size": 10,
                "solidity": 0.2
               }
              },
              "type": "histogram"
             }
            ],
            "histogram2d": [
             {
              "colorbar": {
               "outlinewidth": 0,
               "ticks": ""
              },
              "colorscale": [
               [
                0,
                "#0d0887"
               ],
               [
                0.1111111111111111,
                "#46039f"
               ],
               [
                0.2222222222222222,
                "#7201a8"
               ],
               [
                0.3333333333333333,
                "#9c179e"
               ],
               [
                0.4444444444444444,
                "#bd3786"
               ],
               [
                0.5555555555555556,
                "#d8576b"
               ],
               [
                0.6666666666666666,
                "#ed7953"
               ],
               [
                0.7777777777777778,
                "#fb9f3a"
               ],
               [
                0.8888888888888888,
                "#fdca26"
               ],
               [
                1,
                "#f0f921"
               ]
              ],
              "type": "histogram2d"
             }
            ],
            "histogram2dcontour": [
             {
              "colorbar": {
               "outlinewidth": 0,
               "ticks": ""
              },
              "colorscale": [
               [
                0,
                "#0d0887"
               ],
               [
                0.1111111111111111,
                "#46039f"
               ],
               [
                0.2222222222222222,
                "#7201a8"
               ],
               [
                0.3333333333333333,
                "#9c179e"
               ],
               [
                0.4444444444444444,
                "#bd3786"
               ],
               [
                0.5555555555555556,
                "#d8576b"
               ],
               [
                0.6666666666666666,
                "#ed7953"
               ],
               [
                0.7777777777777778,
                "#fb9f3a"
               ],
               [
                0.8888888888888888,
                "#fdca26"
               ],
               [
                1,
                "#f0f921"
               ]
              ],
              "type": "histogram2dcontour"
             }
            ],
            "mesh3d": [
             {
              "colorbar": {
               "outlinewidth": 0,
               "ticks": ""
              },
              "type": "mesh3d"
             }
            ],
            "parcoords": [
             {
              "line": {
               "colorbar": {
                "outlinewidth": 0,
                "ticks": ""
               }
              },
              "type": "parcoords"
             }
            ],
            "pie": [
             {
              "automargin": true,
              "type": "pie"
             }
            ],
            "scatter": [
             {
              "fillpattern": {
               "fillmode": "overlay",
               "size": 10,
               "solidity": 0.2
              },
              "type": "scatter"
             }
            ],
            "scatter3d": [
             {
              "line": {
               "colorbar": {
                "outlinewidth": 0,
                "ticks": ""
               }
              },
              "marker": {
               "colorbar": {
                "outlinewidth": 0,
                "ticks": ""
               }
              },
              "type": "scatter3d"
             }
            ],
            "scattercarpet": [
             {
              "marker": {
               "colorbar": {
                "outlinewidth": 0,
                "ticks": ""
               }
              },
              "type": "scattercarpet"
             }
            ],
            "scattergeo": [
             {
              "marker": {
               "colorbar": {
                "outlinewidth": 0,
                "ticks": ""
               }
              },
              "type": "scattergeo"
             }
            ],
            "scattergl": [
             {
              "marker": {
               "colorbar": {
                "outlinewidth": 0,
                "ticks": ""
               }
              },
              "type": "scattergl"
             }
            ],
            "scattermapbox": [
             {
              "marker": {
               "colorbar": {
                "outlinewidth": 0,
                "ticks": ""
               }
              },
              "type": "scattermapbox"
             }
            ],
            "scatterpolar": [
             {
              "marker": {
               "colorbar": {
                "outlinewidth": 0,
                "ticks": ""
               }
              },
              "type": "scatterpolar"
             }
            ],
            "scatterpolargl": [
             {
              "marker": {
               "colorbar": {
                "outlinewidth": 0,
                "ticks": ""
               }
              },
              "type": "scatterpolargl"
             }
            ],
            "scatterternary": [
             {
              "marker": {
               "colorbar": {
                "outlinewidth": 0,
                "ticks": ""
               }
              },
              "type": "scatterternary"
             }
            ],
            "surface": [
             {
              "colorbar": {
               "outlinewidth": 0,
               "ticks": ""
              },
              "colorscale": [
               [
                0,
                "#0d0887"
               ],
               [
                0.1111111111111111,
                "#46039f"
               ],
               [
                0.2222222222222222,
                "#7201a8"
               ],
               [
                0.3333333333333333,
                "#9c179e"
               ],
               [
                0.4444444444444444,
                "#bd3786"
               ],
               [
                0.5555555555555556,
                "#d8576b"
               ],
               [
                0.6666666666666666,
                "#ed7953"
               ],
               [
                0.7777777777777778,
                "#fb9f3a"
               ],
               [
                0.8888888888888888,
                "#fdca26"
               ],
               [
                1,
                "#f0f921"
               ]
              ],
              "type": "surface"
             }
            ],
            "table": [
             {
              "cells": {
               "fill": {
                "color": "#EBF0F8"
               },
               "line": {
                "color": "white"
               }
              },
              "header": {
               "fill": {
                "color": "#C8D4E3"
               },
               "line": {
                "color": "white"
               }
              },
              "type": "table"
             }
            ]
           },
           "layout": {
            "annotationdefaults": {
             "arrowcolor": "#2a3f5f",
             "arrowhead": 0,
             "arrowwidth": 1
            },
            "autotypenumbers": "strict",
            "coloraxis": {
             "colorbar": {
              "outlinewidth": 0,
              "ticks": ""
             }
            },
            "colorscale": {
             "diverging": [
              [
               0,
               "#8e0152"
              ],
              [
               0.1,
               "#c51b7d"
              ],
              [
               0.2,
               "#de77ae"
              ],
              [
               0.3,
               "#f1b6da"
              ],
              [
               0.4,
               "#fde0ef"
              ],
              [
               0.5,
               "#f7f7f7"
              ],
              [
               0.6,
               "#e6f5d0"
              ],
              [
               0.7,
               "#b8e186"
              ],
              [
               0.8,
               "#7fbc41"
              ],
              [
               0.9,
               "#4d9221"
              ],
              [
               1,
               "#276419"
              ]
             ],
             "sequential": [
              [
               0,
               "#0d0887"
              ],
              [
               0.1111111111111111,
               "#46039f"
              ],
              [
               0.2222222222222222,
               "#7201a8"
              ],
              [
               0.3333333333333333,
               "#9c179e"
              ],
              [
               0.4444444444444444,
               "#bd3786"
              ],
              [
               0.5555555555555556,
               "#d8576b"
              ],
              [
               0.6666666666666666,
               "#ed7953"
              ],
              [
               0.7777777777777778,
               "#fb9f3a"
              ],
              [
               0.8888888888888888,
               "#fdca26"
              ],
              [
               1,
               "#f0f921"
              ]
             ],
             "sequentialminus": [
              [
               0,
               "#0d0887"
              ],
              [
               0.1111111111111111,
               "#46039f"
              ],
              [
               0.2222222222222222,
               "#7201a8"
              ],
              [
               0.3333333333333333,
               "#9c179e"
              ],
              [
               0.4444444444444444,
               "#bd3786"
              ],
              [
               0.5555555555555556,
               "#d8576b"
              ],
              [
               0.6666666666666666,
               "#ed7953"
              ],
              [
               0.7777777777777778,
               "#fb9f3a"
              ],
              [
               0.8888888888888888,
               "#fdca26"
              ],
              [
               1,
               "#f0f921"
              ]
             ]
            },
            "colorway": [
             "#636efa",
             "#EF553B",
             "#00cc96",
             "#ab63fa",
             "#FFA15A",
             "#19d3f3",
             "#FF6692",
             "#B6E880",
             "#FF97FF",
             "#FECB52"
            ],
            "font": {
             "color": "#2a3f5f"
            },
            "geo": {
             "bgcolor": "white",
             "lakecolor": "white",
             "landcolor": "white",
             "showlakes": true,
             "showland": true,
             "subunitcolor": "#C8D4E3"
            },
            "hoverlabel": {
             "align": "left"
            },
            "hovermode": "closest",
            "mapbox": {
             "style": "light"
            },
            "paper_bgcolor": "white",
            "plot_bgcolor": "white",
            "polar": {
             "angularaxis": {
              "gridcolor": "#EBF0F8",
              "linecolor": "#EBF0F8",
              "ticks": ""
             },
             "bgcolor": "white",
             "radialaxis": {
              "gridcolor": "#EBF0F8",
              "linecolor": "#EBF0F8",
              "ticks": ""
             }
            },
            "scene": {
             "xaxis": {
              "backgroundcolor": "white",
              "gridcolor": "#DFE8F3",
              "gridwidth": 2,
              "linecolor": "#EBF0F8",
              "showbackground": true,
              "ticks": "",
              "zerolinecolor": "#EBF0F8"
             },
             "yaxis": {
              "backgroundcolor": "white",
              "gridcolor": "#DFE8F3",
              "gridwidth": 2,
              "linecolor": "#EBF0F8",
              "showbackground": true,
              "ticks": "",
              "zerolinecolor": "#EBF0F8"
             },
             "zaxis": {
              "backgroundcolor": "white",
              "gridcolor": "#DFE8F3",
              "gridwidth": 2,
              "linecolor": "#EBF0F8",
              "showbackground": true,
              "ticks": "",
              "zerolinecolor": "#EBF0F8"
             }
            },
            "shapedefaults": {
             "line": {
              "color": "#2a3f5f"
             }
            },
            "ternary": {
             "aaxis": {
              "gridcolor": "#DFE8F3",
              "linecolor": "#A2B1C6",
              "ticks": ""
             },
             "baxis": {
              "gridcolor": "#DFE8F3",
              "linecolor": "#A2B1C6",
              "ticks": ""
             },
             "bgcolor": "white",
             "caxis": {
              "gridcolor": "#DFE8F3",
              "linecolor": "#A2B1C6",
              "ticks": ""
             }
            },
            "title": {
             "x": 0.05
            },
            "xaxis": {
             "automargin": true,
             "gridcolor": "#EBF0F8",
             "linecolor": "#EBF0F8",
             "ticks": "",
             "title": {
              "standoff": 15
             },
             "zerolinecolor": "#EBF0F8",
             "zerolinewidth": 2
            },
            "yaxis": {
             "automargin": true,
             "gridcolor": "#EBF0F8",
             "linecolor": "#EBF0F8",
             "ticks": "",
             "title": {
              "standoff": 15
             },
             "zerolinecolor": "#EBF0F8",
             "zerolinewidth": 2
            }
           }
          },
          "xaxis": {
           "automargin": false,
           "linecolor": "#444",
           "linewidth": 2,
           "minor": {
            "tickmode": "linear",
            "ticks": "outside"
           },
           "mirror": true,
           "showline": true,
           "tickmode": "linear",
           "ticks": "outside",
           "zeroline": false
          },
          "yaxis": {
           "automargin": false,
           "linecolor": "#444",
           "linewidth": 2,
           "minor": {
            "tickmode": "linear",
            "ticks": "outside"
           },
           "mirror": true,
           "showline": true,
           "ticks": "outside",
           "zeroline": false
          }
         }
        },
        "width": 600,
        "xaxis": {
         "dtick": 5,
         "minor": {
          "dtick": 1,
          "tick0": 0
         },
         "range": [
          0,
          21
         ],
         "tick0": 0,
         "title": {
          "text": "level"
         }
        },
        "yaxis": {
         "dtick": 0.2,
         "minor": {
          "dtick": 0.1,
          "tick0": 0
         },
         "range": [
          0,
          1
         ],
         "tick0": 0,
         "title": {
          "text": "attack hit probability"
         }
        }
       }
      }
     },
     "metadata": {},
     "output_type": "display_data"
    }
   ],
   "source": [
    "# plots the average probability of hitting with an attack\n",
    "pc = {\n",
    "    'level':      [ 1, 2, 3, 4, 5, 6, 7, 8, 9,10,11,12,13,14,15,16,17,18,19,20],\n",
    "    'attack mod': [ 3, 3, 3, 4, 4, 4, 4, 5, 5, 5, 5, 5, 5, 5, 5, 5, 5, 5, 5, 5],\n",
    "    'prof bonus': [ 2, 2, 2, 2, 3, 3, 3, 3, 4, 4, 4, 4, 5, 5, 5, 5, 6, 6, 6, 6],\n",
    "    \"armor class\": {\n",
    "        \"Barbarian\": [15, 12, 12, 12, 12, 12, 12, 12, 12, 12, 12, 13, 13, 13, 13, 14, 14, 14, 15, 17],\n",
    "        \"Bard\":      [14, 14, 14, 14, 15, 15, 15, 15, 15, 15, 15, 15, 15, 15, 15, 15, 15, 15, 15, 15],\n",
    "        \"Cleric\":    [17, 17, 17, 17, 17, 17, 18, 18, 18, 18, 18, 18, 18, 18, 18, 18, 18, 18, 18, 18],\n",
    "        \"Druid\":     [15, 15, 15, 16, 16, 16, 18, 18, 18, 18, 18, 18, 18, 18, 18, 18, 18, 18, 18, 18],\n",
    "        \"Fighter\":   [16, 16, 16, 16, 16, 16, 16, 18, 18, 18, 18, 18, 18, 18, 18, 18, 18, 18, 18, 18],\n",
    "        \"Monk\":      [16, 16, 16, 17, 17, 17, 17, 18, 18, 18, 18, 19, 19, 19, 19, 20, 20, 20, 20, 20],\n",
    "        \"Paladin\":   [16, 16, 16, 16, 16, 16, 16, 18, 18, 18, 18, 18, 18, 18, 18, 18, 18, 18, 18, 18],\n",
    "        \"Ranger\":    [14, 14, 14, 15, 16, 16, 16, 17, 17, 17, 17, 17, 17, 17, 17, 17, 17, 17, 17, 17],\n",
    "        \"Rogue\":     [14, 14, 14, 15, 16, 16, 16, 17, 17, 17, 17, 17, 17, 17, 17, 17, 17, 17, 17, 17],\n",
    "        \"Sorcerer\":  [12, 12, 12, 12, 15, 15, 15, 15, 15, 15, 15, 15, 15, 15, 15, 15, 15, 15, 15, 15],\n",
    "        \"Warlock\":   [13, 13, 13, 13, 13, 13, 13, 13, 13, 13, 13, 13, 13, 13, 13, 13, 13, 13, 13, 13],\n",
    "        \"Wizard\":    [12, 12, 12, 12, 15, 15, 15, 15, 15, 15, 15, 15, 15, 15, 15, 15, 15, 15, 15, 15],\n",
    "    }\n",
    "}\n",
    "pc['attack bonus'] = [pc['attack mod'][i] + pc['prof bonus'][i] for i in range(20)]\n",
    "ac_mean = np.zeros(20)\n",
    "for c in pc['armor class']:\n",
    "    ac_mean += np.array(pc['armor class'][c])\n",
    "ac_mean /= len(pc['armor class'])\n",
    "pc['armor class'] = list(ac_mean)\n",
    "\n",
    "dfD = pd.read_csv('../../assets/data/dmg-targets.csv') # 'CR','PB','AC','AB','DC'\n",
    "#dfD = df0[['CR','AC','AB']].groupby(['CR']).mean().reset_index()\n",
    "dfD = dfD[dfD['CR'].between(1, 20)]\n",
    "\n",
    "def attack_hit_crit_prob(AC, AB):\n",
    "    return max(0.05, min(0.95, 0.05*(21 + AB - AC)))\n",
    "\n",
    "# create figure\n",
    "fig = go.Figure(\n",
    "    layout=go.Layout(\n",
    "        template=tfb.FIG_TEMPLATE,\n",
    "        margin=dict(l=60, r=25, b=55, t=20, pad=4),\n",
    "        xaxis=dict(\n",
    "            title_text='level',\n",
    "            range=[0,21],\n",
    "            tick0=0, dtick=5,\n",
    "            minor=dict(tick0=0, dtick=1),\n",
    "        ),\n",
    "        yaxis=dict(\n",
    "            title_text='attack hit probability',\n",
    "            range=[0,1],\n",
    "            tick0=0, dtick=0.2,\n",
    "            minor=dict(tick0=0, dtick=0.1),\n",
    "        ),\n",
    "        legend=dict(\n",
    "            xanchor='left', yanchor='top',\n",
    "            x=0.00, y=1.00,\n",
    "            orientation='v',\n",
    "            tracegroupgap=0,\n",
    "        )\n",
    "    )\n",
    ")\n",
    "\n",
    "\n",
    "# monster vs pc\n",
    "lvl = np.array(pc['level'])\n",
    "ac = np.array(pc['armor class'])\n",
    "ab = np.array(dfD['AB'])\n",
    "phit = np.array([attack_hit_crit_prob(ac[i], ab[i]) for i in range(20)])\n",
    "fig.add_trace(go.Scatter(\n",
    "    x=lvl, \n",
    "    y=phit,\n",
    "    mode='markers+lines', \n",
    "    name='monster vs PC',\n",
    "    hovertemplate=\n",
    "        'Level %{x}<br>'+\n",
    "        'Hit Probability %{y:,.0%}' + \n",
    "        '<extra></extra>'\n",
    "))\n",
    "print(np.mean(phit))\n",
    "\n",
    "# pc vs monster\n",
    "lvl = np.array(pc['level'])\n",
    "ab = np.array(pc['attack bonus'])\n",
    "ac = np.array(dfD['AC'])\n",
    "phit = np.array([attack_hit_crit_prob(ac[i], ab[i]) for i in range(20)])\n",
    "fig.add_trace(go.Scatter(\n",
    "    x=lvl, \n",
    "    y=phit,\n",
    "    mode='markers+lines', \n",
    "    name='PC vs monster',\n",
    "    hovertemplate=\n",
    "        'Level %{x}<br>'+\n",
    "        'Hit Probability %{y:,.0%}' + \n",
    "        '<extra></extra>'\n",
    "))\n",
    "print(np.mean(phit))\n",
    "\n",
    "# reference line\n",
    "fig.add_trace(go.Scatter(\n",
    "    x=lvl, \n",
    "    y=[0.65]*len(lvl),\n",
    "    mode='lines', \n",
    "    name='reference',\n",
    "    line=dict(color='black', dash='dash'),\n",
    "    showlegend=False,\n",
    "    hoverinfo='skip',\n",
    "))\n",
    "\n",
    "# show figure\n",
    "fig.update_layout(width=600, height=450)\n",
    "fig.show(config=tfb.FIG_CONFIG)\n",
    "\n",
    "# save figures\n",
    "if SAVEFIGS:\n",
    "    fig.update_layout(autosize=True, width=None, height=None)\n",
    "    tfb.save_fig_html(fig, format='large', name=f'./fig-attack-hit-probability-vs-level-large')\n",
    "    tfb.save_fig_html(fig, format='small', name=f'./fig-attack-hit-probability-vs-level-small')"
   ]
  },
  {
   "cell_type": "code",
   "execution_count": 12,
   "metadata": {},
   "outputs": [
    {
     "name": "stdout",
     "output_type": "stream",
     "text": [
      "0.6533333333333333\n",
      "0.65912370683922\n"
     ]
    },
    {
     "data": {
      "application/vnd.plotly.v1+json": {
       "config": {
        "autosizable": true,
        "displayModeBar": "hover",
        "displaylogo": false,
        "modeBarButtonsToRemove": [
         "select2d",
         "lasso2d",
         "zoom2d",
         "zoomIn2d",
         "zoomOut2d",
         "pan2d",
         "autoScale2d",
         "hoverClosestCartesian",
         "hoverCompareCartesian",
         "toggleSpikelines",
         "resetScale2d"
        ],
        "plotlyServerURL": "https://plot.ly",
        "responsive": true,
        "showAxisDragHandles": false,
        "toImageButtonOptions": {
         "filename": "tfb-plot",
         "format": "png",
         "height": 450,
         "scale": 2,
         "width": 600
        }
       },
       "data": [
        {
         "hovertemplate": "Level %{x}<br>Hit Probability %{y:,.0%}<extra></extra>",
         "mode": "markers+lines",
         "name": "monster vs PC",
         "type": "scatter",
         "x": [
          1,
          2,
          3,
          4,
          5,
          6,
          7,
          8,
          9,
          10,
          11,
          12,
          13,
          14,
          15,
          16,
          17,
          18,
          19,
          20
         ],
         "y": [
          0.5166666666666667,
          0.5166666666666667,
          0.5166666666666667,
          0.5666666666666668,
          0.6000000000000001,
          0.6000000000000001,
          0.6000000000000001,
          0.65,
          0.6333333333333334,
          0.6333333333333334,
          0.6833333333333335,
          0.6833333333333335,
          0.7166666666666667,
          0.7166666666666667,
          0.7166666666666667,
          0.7166666666666667,
          0.75,
          0.75,
          0.75,
          0.75
         ]
        },
        {
         "hovertemplate": "Level %{x}<br>Hit Probability %{y:,.0%}<extra></extra>",
         "mode": "markers+lines",
         "name": "PC vs monster",
         "type": "scatter",
         "x": [
          1,
          2,
          3,
          4,
          5,
          6,
          7,
          8,
          9,
          10,
          11,
          12,
          13,
          14,
          15,
          16,
          17,
          18,
          19,
          20
         ],
         "y": [
          0.581638418079096,
          0.5677140255009108,
          0.5495584988962472,
          0.5881619937694704,
          0.6332142857142857,
          0.6256493506493507,
          0.6136752136752137,
          0.6626041666666667,
          0.6948113207547171,
          0.6799242424242424,
          0.6816287878787879,
          0.6739583333333333,
          0.7135964912280702,
          0.713888888888889,
          0.6952380952380953,
          0.6814102564102564,
          0.728125,
          0.7105555555555556,
          0.6818181818181819,
          0.7053030303030303
         ]
        },
        {
         "hoverinfo": "skip",
         "line": {
          "color": "black",
          "dash": "dash"
         },
         "mode": "lines",
         "name": "reference",
         "showlegend": false,
         "type": "scatter",
         "x": [
          1,
          2,
          3,
          4,
          5,
          6,
          7,
          8,
          9,
          10,
          11,
          12,
          13,
          14,
          15,
          16,
          17,
          18,
          19,
          20
         ],
         "y": [
          0.65,
          0.65,
          0.65,
          0.65,
          0.65,
          0.65,
          0.65,
          0.65,
          0.65,
          0.65,
          0.65,
          0.65,
          0.65,
          0.65,
          0.65,
          0.65,
          0.65,
          0.65,
          0.65,
          0.65
         ]
        }
       ],
       "layout": {
        "height": 450,
        "legend": {
         "orientation": "v",
         "tracegroupgap": 0,
         "x": 0,
         "xanchor": "left",
         "y": 1,
         "yanchor": "top"
        },
        "margin": {
         "b": 55,
         "l": 60,
         "pad": 4,
         "r": 25,
         "t": 20
        },
        "template": {
         "layout": {
          "autosize": false,
          "font": {
           "family": "sans-serif",
           "size": 14
          },
          "hoverlabel": {
           "align": "left"
          },
          "hovermode": "closest",
          "margin": {
           "b": 55,
           "l": 60,
           "pad": 4,
           "r": 25,
           "t": 20
          },
          "template": {
           "data": {
            "bar": [
             {
              "error_x": {
               "color": "#2a3f5f"
              },
              "error_y": {
               "color": "#2a3f5f"
              },
              "marker": {
               "line": {
                "color": "white",
                "width": 0.5
               },
               "pattern": {
                "fillmode": "overlay",
                "size": 10,
                "solidity": 0.2
               }
              },
              "type": "bar"
             }
            ],
            "barpolar": [
             {
              "marker": {
               "line": {
                "color": "white",
                "width": 0.5
               },
               "pattern": {
                "fillmode": "overlay",
                "size": 10,
                "solidity": 0.2
               }
              },
              "type": "barpolar"
             }
            ],
            "carpet": [
             {
              "aaxis": {
               "endlinecolor": "#2a3f5f",
               "gridcolor": "#C8D4E3",
               "linecolor": "#C8D4E3",
               "minorgridcolor": "#C8D4E3",
               "startlinecolor": "#2a3f5f"
              },
              "baxis": {
               "endlinecolor": "#2a3f5f",
               "gridcolor": "#C8D4E3",
               "linecolor": "#C8D4E3",
               "minorgridcolor": "#C8D4E3",
               "startlinecolor": "#2a3f5f"
              },
              "type": "carpet"
             }
            ],
            "choropleth": [
             {
              "colorbar": {
               "outlinewidth": 0,
               "ticks": ""
              },
              "type": "choropleth"
             }
            ],
            "contour": [
             {
              "colorbar": {
               "outlinewidth": 0,
               "ticks": ""
              },
              "colorscale": [
               [
                0,
                "#0d0887"
               ],
               [
                0.1111111111111111,
                "#46039f"
               ],
               [
                0.2222222222222222,
                "#7201a8"
               ],
               [
                0.3333333333333333,
                "#9c179e"
               ],
               [
                0.4444444444444444,
                "#bd3786"
               ],
               [
                0.5555555555555556,
                "#d8576b"
               ],
               [
                0.6666666666666666,
                "#ed7953"
               ],
               [
                0.7777777777777778,
                "#fb9f3a"
               ],
               [
                0.8888888888888888,
                "#fdca26"
               ],
               [
                1,
                "#f0f921"
               ]
              ],
              "type": "contour"
             }
            ],
            "contourcarpet": [
             {
              "colorbar": {
               "outlinewidth": 0,
               "ticks": ""
              },
              "type": "contourcarpet"
             }
            ],
            "heatmap": [
             {
              "colorbar": {
               "outlinewidth": 0,
               "ticks": ""
              },
              "colorscale": [
               [
                0,
                "#0d0887"
               ],
               [
                0.1111111111111111,
                "#46039f"
               ],
               [
                0.2222222222222222,
                "#7201a8"
               ],
               [
                0.3333333333333333,
                "#9c179e"
               ],
               [
                0.4444444444444444,
                "#bd3786"
               ],
               [
                0.5555555555555556,
                "#d8576b"
               ],
               [
                0.6666666666666666,
                "#ed7953"
               ],
               [
                0.7777777777777778,
                "#fb9f3a"
               ],
               [
                0.8888888888888888,
                "#fdca26"
               ],
               [
                1,
                "#f0f921"
               ]
              ],
              "type": "heatmap"
             }
            ],
            "heatmapgl": [
             {
              "colorbar": {
               "outlinewidth": 0,
               "ticks": ""
              },
              "colorscale": [
               [
                0,
                "#0d0887"
               ],
               [
                0.1111111111111111,
                "#46039f"
               ],
               [
                0.2222222222222222,
                "#7201a8"
               ],
               [
                0.3333333333333333,
                "#9c179e"
               ],
               [
                0.4444444444444444,
                "#bd3786"
               ],
               [
                0.5555555555555556,
                "#d8576b"
               ],
               [
                0.6666666666666666,
                "#ed7953"
               ],
               [
                0.7777777777777778,
                "#fb9f3a"
               ],
               [
                0.8888888888888888,
                "#fdca26"
               ],
               [
                1,
                "#f0f921"
               ]
              ],
              "type": "heatmapgl"
             }
            ],
            "histogram": [
             {
              "marker": {
               "pattern": {
                "fillmode": "overlay",
                "size": 10,
                "solidity": 0.2
               }
              },
              "type": "histogram"
             }
            ],
            "histogram2d": [
             {
              "colorbar": {
               "outlinewidth": 0,
               "ticks": ""
              },
              "colorscale": [
               [
                0,
                "#0d0887"
               ],
               [
                0.1111111111111111,
                "#46039f"
               ],
               [
                0.2222222222222222,
                "#7201a8"
               ],
               [
                0.3333333333333333,
                "#9c179e"
               ],
               [
                0.4444444444444444,
                "#bd3786"
               ],
               [
                0.5555555555555556,
                "#d8576b"
               ],
               [
                0.6666666666666666,
                "#ed7953"
               ],
               [
                0.7777777777777778,
                "#fb9f3a"
               ],
               [
                0.8888888888888888,
                "#fdca26"
               ],
               [
                1,
                "#f0f921"
               ]
              ],
              "type": "histogram2d"
             }
            ],
            "histogram2dcontour": [
             {
              "colorbar": {
               "outlinewidth": 0,
               "ticks": ""
              },
              "colorscale": [
               [
                0,
                "#0d0887"
               ],
               [
                0.1111111111111111,
                "#46039f"
               ],
               [
                0.2222222222222222,
                "#7201a8"
               ],
               [
                0.3333333333333333,
                "#9c179e"
               ],
               [
                0.4444444444444444,
                "#bd3786"
               ],
               [
                0.5555555555555556,
                "#d8576b"
               ],
               [
                0.6666666666666666,
                "#ed7953"
               ],
               [
                0.7777777777777778,
                "#fb9f3a"
               ],
               [
                0.8888888888888888,
                "#fdca26"
               ],
               [
                1,
                "#f0f921"
               ]
              ],
              "type": "histogram2dcontour"
             }
            ],
            "mesh3d": [
             {
              "colorbar": {
               "outlinewidth": 0,
               "ticks": ""
              },
              "type": "mesh3d"
             }
            ],
            "parcoords": [
             {
              "line": {
               "colorbar": {
                "outlinewidth": 0,
                "ticks": ""
               }
              },
              "type": "parcoords"
             }
            ],
            "pie": [
             {
              "automargin": true,
              "type": "pie"
             }
            ],
            "scatter": [
             {
              "fillpattern": {
               "fillmode": "overlay",
               "size": 10,
               "solidity": 0.2
              },
              "type": "scatter"
             }
            ],
            "scatter3d": [
             {
              "line": {
               "colorbar": {
                "outlinewidth": 0,
                "ticks": ""
               }
              },
              "marker": {
               "colorbar": {
                "outlinewidth": 0,
                "ticks": ""
               }
              },
              "type": "scatter3d"
             }
            ],
            "scattercarpet": [
             {
              "marker": {
               "colorbar": {
                "outlinewidth": 0,
                "ticks": ""
               }
              },
              "type": "scattercarpet"
             }
            ],
            "scattergeo": [
             {
              "marker": {
               "colorbar": {
                "outlinewidth": 0,
                "ticks": ""
               }
              },
              "type": "scattergeo"
             }
            ],
            "scattergl": [
             {
              "marker": {
               "colorbar": {
                "outlinewidth": 0,
                "ticks": ""
               }
              },
              "type": "scattergl"
             }
            ],
            "scattermapbox": [
             {
              "marker": {
               "colorbar": {
                "outlinewidth": 0,
                "ticks": ""
               }
              },
              "type": "scattermapbox"
             }
            ],
            "scatterpolar": [
             {
              "marker": {
               "colorbar": {
                "outlinewidth": 0,
                "ticks": ""
               }
              },
              "type": "scatterpolar"
             }
            ],
            "scatterpolargl": [
             {
              "marker": {
               "colorbar": {
                "outlinewidth": 0,
                "ticks": ""
               }
              },
              "type": "scatterpolargl"
             }
            ],
            "scatterternary": [
             {
              "marker": {
               "colorbar": {
                "outlinewidth": 0,
                "ticks": ""
               }
              },
              "type": "scatterternary"
             }
            ],
            "surface": [
             {
              "colorbar": {
               "outlinewidth": 0,
               "ticks": ""
              },
              "colorscale": [
               [
                0,
                "#0d0887"
               ],
               [
                0.1111111111111111,
                "#46039f"
               ],
               [
                0.2222222222222222,
                "#7201a8"
               ],
               [
                0.3333333333333333,
                "#9c179e"
               ],
               [
                0.4444444444444444,
                "#bd3786"
               ],
               [
                0.5555555555555556,
                "#d8576b"
               ],
               [
                0.6666666666666666,
                "#ed7953"
               ],
               [
                0.7777777777777778,
                "#fb9f3a"
               ],
               [
                0.8888888888888888,
                "#fdca26"
               ],
               [
                1,
                "#f0f921"
               ]
              ],
              "type": "surface"
             }
            ],
            "table": [
             {
              "cells": {
               "fill": {
                "color": "#EBF0F8"
               },
               "line": {
                "color": "white"
               }
              },
              "header": {
               "fill": {
                "color": "#C8D4E3"
               },
               "line": {
                "color": "white"
               }
              },
              "type": "table"
             }
            ]
           },
           "layout": {
            "annotationdefaults": {
             "arrowcolor": "#2a3f5f",
             "arrowhead": 0,
             "arrowwidth": 1
            },
            "autotypenumbers": "strict",
            "coloraxis": {
             "colorbar": {
              "outlinewidth": 0,
              "ticks": ""
             }
            },
            "colorscale": {
             "diverging": [
              [
               0,
               "#8e0152"
              ],
              [
               0.1,
               "#c51b7d"
              ],
              [
               0.2,
               "#de77ae"
              ],
              [
               0.3,
               "#f1b6da"
              ],
              [
               0.4,
               "#fde0ef"
              ],
              [
               0.5,
               "#f7f7f7"
              ],
              [
               0.6,
               "#e6f5d0"
              ],
              [
               0.7,
               "#b8e186"
              ],
              [
               0.8,
               "#7fbc41"
              ],
              [
               0.9,
               "#4d9221"
              ],
              [
               1,
               "#276419"
              ]
             ],
             "sequential": [
              [
               0,
               "#0d0887"
              ],
              [
               0.1111111111111111,
               "#46039f"
              ],
              [
               0.2222222222222222,
               "#7201a8"
              ],
              [
               0.3333333333333333,
               "#9c179e"
              ],
              [
               0.4444444444444444,
               "#bd3786"
              ],
              [
               0.5555555555555556,
               "#d8576b"
              ],
              [
               0.6666666666666666,
               "#ed7953"
              ],
              [
               0.7777777777777778,
               "#fb9f3a"
              ],
              [
               0.8888888888888888,
               "#fdca26"
              ],
              [
               1,
               "#f0f921"
              ]
             ],
             "sequentialminus": [
              [
               0,
               "#0d0887"
              ],
              [
               0.1111111111111111,
               "#46039f"
              ],
              [
               0.2222222222222222,
               "#7201a8"
              ],
              [
               0.3333333333333333,
               "#9c179e"
              ],
              [
               0.4444444444444444,
               "#bd3786"
              ],
              [
               0.5555555555555556,
               "#d8576b"
              ],
              [
               0.6666666666666666,
               "#ed7953"
              ],
              [
               0.7777777777777778,
               "#fb9f3a"
              ],
              [
               0.8888888888888888,
               "#fdca26"
              ],
              [
               1,
               "#f0f921"
              ]
             ]
            },
            "colorway": [
             "#636efa",
             "#EF553B",
             "#00cc96",
             "#ab63fa",
             "#FFA15A",
             "#19d3f3",
             "#FF6692",
             "#B6E880",
             "#FF97FF",
             "#FECB52"
            ],
            "font": {
             "color": "#2a3f5f"
            },
            "geo": {
             "bgcolor": "white",
             "lakecolor": "white",
             "landcolor": "white",
             "showlakes": true,
             "showland": true,
             "subunitcolor": "#C8D4E3"
            },
            "hoverlabel": {
             "align": "left"
            },
            "hovermode": "closest",
            "mapbox": {
             "style": "light"
            },
            "paper_bgcolor": "white",
            "plot_bgcolor": "white",
            "polar": {
             "angularaxis": {
              "gridcolor": "#EBF0F8",
              "linecolor": "#EBF0F8",
              "ticks": ""
             },
             "bgcolor": "white",
             "radialaxis": {
              "gridcolor": "#EBF0F8",
              "linecolor": "#EBF0F8",
              "ticks": ""
             }
            },
            "scene": {
             "xaxis": {
              "backgroundcolor": "white",
              "gridcolor": "#DFE8F3",
              "gridwidth": 2,
              "linecolor": "#EBF0F8",
              "showbackground": true,
              "ticks": "",
              "zerolinecolor": "#EBF0F8"
             },
             "yaxis": {
              "backgroundcolor": "white",
              "gridcolor": "#DFE8F3",
              "gridwidth": 2,
              "linecolor": "#EBF0F8",
              "showbackground": true,
              "ticks": "",
              "zerolinecolor": "#EBF0F8"
             },
             "zaxis": {
              "backgroundcolor": "white",
              "gridcolor": "#DFE8F3",
              "gridwidth": 2,
              "linecolor": "#EBF0F8",
              "showbackground": true,
              "ticks": "",
              "zerolinecolor": "#EBF0F8"
             }
            },
            "shapedefaults": {
             "line": {
              "color": "#2a3f5f"
             }
            },
            "ternary": {
             "aaxis": {
              "gridcolor": "#DFE8F3",
              "linecolor": "#A2B1C6",
              "ticks": ""
             },
             "baxis": {
              "gridcolor": "#DFE8F3",
              "linecolor": "#A2B1C6",
              "ticks": ""
             },
             "bgcolor": "white",
             "caxis": {
              "gridcolor": "#DFE8F3",
              "linecolor": "#A2B1C6",
              "ticks": ""
             }
            },
            "title": {
             "x": 0.05
            },
            "xaxis": {
             "automargin": true,
             "gridcolor": "#EBF0F8",
             "linecolor": "#EBF0F8",
             "ticks": "",
             "title": {
              "standoff": 15
             },
             "zerolinecolor": "#EBF0F8",
             "zerolinewidth": 2
            },
            "yaxis": {
             "automargin": true,
             "gridcolor": "#EBF0F8",
             "linecolor": "#EBF0F8",
             "ticks": "",
             "title": {
              "standoff": 15
             },
             "zerolinecolor": "#EBF0F8",
             "zerolinewidth": 2
            }
           }
          },
          "xaxis": {
           "automargin": false,
           "linecolor": "#444",
           "linewidth": 2,
           "minor": {
            "tickmode": "linear",
            "ticks": "outside"
           },
           "mirror": true,
           "showline": true,
           "tickmode": "linear",
           "ticks": "outside",
           "zeroline": false
          },
          "yaxis": {
           "automargin": false,
           "linecolor": "#444",
           "linewidth": 2,
           "minor": {
            "tickmode": "linear",
            "ticks": "outside"
           },
           "mirror": true,
           "showline": true,
           "ticks": "outside",
           "zeroline": false
          }
         }
        },
        "width": 600,
        "xaxis": {
         "dtick": 5,
         "minor": {
          "dtick": 1,
          "tick0": 0
         },
         "range": [
          0,
          21
         ],
         "tick0": 0,
         "title": {
          "text": "level"
         }
        },
        "yaxis": {
         "dtick": 0.2,
         "minor": {
          "dtick": 0.1,
          "tick0": 0
         },
         "range": [
          0,
          1
         ],
         "tick0": 0,
         "title": {
          "text": "save hit probability"
         }
        }
       }
      }
     },
     "metadata": {},
     "output_type": "display_data"
    }
   ],
   "source": [
    "# plots the average probability of hitting with a saving throw\n",
    "\n",
    "pc = {\n",
    "    'level':      [ 1, 2, 3, 4, 5, 6, 7, 8, 9,10,11,12,13,14,15,16,17,18,19,20],\n",
    "    'attack mod': [ 3, 3, 3, 4, 4, 4, 4, 5, 5, 5, 5, 5, 5, 5, 5, 5, 5, 5, 5, 5],\n",
    "    'prof bonus': [ 2, 2, 2, 2, 3, 3, 3, 3, 4, 4, 4, 4, 5, 5, 5, 5, 6, 6, 6, 6],\n",
    "    'ability mod': {\n",
    "        'ability 1': [ 3, 3, 3, 3, 3, 3, 3, 3, 3, 3, 3, 3, 3, 3, 3, 3, 3, 3, 3, 3],\n",
    "        'ability 2': [ 3, 3, 3, 3, 3, 3, 3, 3, 3, 3, 3, 3, 3, 3, 3, 3, 3, 3, 3, 3],\n",
    "        'ability 3': [ 3, 3, 3, 3, 3, 3, 3, 3, 3, 3, 3, 3, 3, 3, 3, 3, 3, 3, 3, 3],\n",
    "        'ability 4': [-1,-1,-1,-1,-1,-1,-1,-1,-1,-1,-1,-1,-1,-1,-1,-1,-1,-1,-1,-1],\n",
    "        'ability 5': [-1,-1,-1,-1,-1,-1,-1,-1,-1,-1,-1,-1,-1,-1,-1,-1,-1,-1,-1,-1],\n",
    "        'ability 6': [-1,-1,-1,-1,-1,-1,-1,-1,-1,-1,-1,-1,-1,-1,-1,-1,-1,-1,-1,-1],\n",
    "    },\n",
    "    'save mod': [ 0, 0, 0, 0, 0, 0, 0, 0, 0, 0, 0, 0, 0, 0, 0, 0, 0, 0, 0, 0]\n",
    "}\n",
    "pc['save dc'] = [8 + pc['attack mod'][i] + pc['prof bonus'][i] for i in range(20)]\n",
    "for i in range(20):\n",
    "    pc['save mod'][i] = np.mean([pc['ability mod'][ability][i] for ability in pc['ability mod']])\n",
    "pc['save bonus'] = [pc['save mod'][i] + pc['prof bonus'][i]/3 for i in range(20)]\n",
    "\n",
    "dfD = pd.read_csv('../../assets/data/dmg-targets.csv') # 'CR','PB','AC','AB','DC'\n",
    "dfD = dfD[dfD['CR'].between(1, 20)]\n",
    "\n",
    "dfM = df0[df0['CR'].between(1,20) & df0['Category'].isin(['generic','legendary','unique'])]\n",
    "dfM['Ave Mod'] = dfM.apply(lambda row: average_ability_mod(row), axis=1)\n",
    "dfM = dfM[['CR','Ave Mod']].groupby('CR').mean().reset_index()\n",
    "dfM.sort_values(by='CR', inplace=True)\n",
    "\n",
    "def save_hit_prob(sb, dc):\n",
    "    return max(0.05, min(1.00, 0.05*(dc - sb - 1)))\n",
    "\n",
    "# create figure\n",
    "fig = go.Figure(\n",
    "    layout=go.Layout(\n",
    "        template=tfb.FIG_TEMPLATE,\n",
    "        margin=dict(l=60, r=25, b=55, t=20, pad=4),\n",
    "        xaxis=dict(\n",
    "            title_text='level',\n",
    "            range=[0,21],\n",
    "            tick0=0, dtick=5,\n",
    "            minor=dict(tick0=0, dtick=1),\n",
    "        ),\n",
    "        yaxis=dict(\n",
    "            title_text='save hit probability',\n",
    "            range=[0,1],\n",
    "            tick0=0, dtick=0.2,\n",
    "            minor=dict(tick0=0, dtick=0.1),\n",
    "        ),\n",
    "        legend=dict(\n",
    "            xanchor='left', yanchor='top',\n",
    "            x=0.00, y=1.00,\n",
    "            orientation='v',\n",
    "            tracegroupgap=0,\n",
    "        )\n",
    "    )\n",
    ")\n",
    "\n",
    "\n",
    "# monster vs pc\n",
    "lvl = np.array(pc['level'])\n",
    "sb = np.array(pc['save bonus'])\n",
    "dc = np.array(dfD['DC'])\n",
    "phit = np.array([save_hit_prob(sb[i], dc[i]) for i in range(20)])\n",
    "fig.add_trace(go.Scatter(\n",
    "    x=lvl, \n",
    "    y=phit,\n",
    "    mode='markers+lines', \n",
    "    name='monster vs PC',\n",
    "    hovertemplate=\n",
    "        'Level %{x}<br>'+\n",
    "        'Hit Probability %{y:,.0%}' + \n",
    "        '<extra></extra>'\n",
    "))\n",
    "print(np.mean(phit))\n",
    "\n",
    "# pc vs monster\n",
    "lvl = np.array(pc['level'])\n",
    "dc = np.array(pc['save dc'])\n",
    "sb = np.array(dfM['Ave Mod'])\n",
    "phit = np.array([save_hit_prob(sb[i], dc[i]) for i in range(20)])\n",
    "fig.add_trace(go.Scatter(\n",
    "    x=lvl, \n",
    "    y=phit,\n",
    "    mode='markers+lines', \n",
    "    name='PC vs monster',\n",
    "    hovertemplate=\n",
    "        'Level %{x}<br>'+\n",
    "        'Hit Probability %{y:,.0%}' + \n",
    "        '<extra></extra>'\n",
    "))\n",
    "print(np.mean(phit))\n",
    "\n",
    "# reference line\n",
    "fig.add_trace(go.Scatter(\n",
    "    x=lvl, \n",
    "    y=[0.65]*len(lvl),\n",
    "    mode='lines', \n",
    "    name='reference',\n",
    "    line=dict(color='black', dash='dash'),\n",
    "    showlegend=False,\n",
    "    hoverinfo='skip',\n",
    "))\n",
    "\n",
    "# show figure\n",
    "fig.update_layout(width=600, height=450)\n",
    "fig.show(config=tfb.FIG_CONFIG)\n",
    "\n",
    "# save figures\n",
    "if SAVEFIGS:\n",
    "    fig.update_layout(autosize=True, width=None, height=None)\n",
    "    tfb.save_fig_html(fig, format='large', name=f'./fig-save-hit-probability-vs-level-large')\n",
    "    tfb.save_fig_html(fig, format='small', name=f'./fig-save-hit-probability-vs-level-small')"
   ]
  },
  {
   "cell_type": "code",
   "execution_count": null,
   "metadata": {},
   "outputs": [
    {
     "data": {
      "application/vnd.plotly.v1+json": {
       "config": {
        "autosizable": true,
        "displayModeBar": "hover",
        "displaylogo": false,
        "modeBarButtonsToRemove": [
         "select2d",
         "lasso2d",
         "zoom2d",
         "zoomIn2d",
         "zoomOut2d",
         "pan2d",
         "autoScale2d",
         "hoverClosestCartesian",
         "hoverCompareCartesian",
         "toggleSpikelines",
         "resetScale2d"
        ],
        "plotlyServerURL": "https://plot.ly",
        "responsive": true,
        "showAxisDragHandles": false,
        "toImageButtonOptions": {
         "filename": "tfb-plot",
         "format": "png",
         "height": 450,
         "scale": 2,
         "width": 600
        }
       },
       "data": [
        {
         "hovertemplate": "CR %{x}<br>Modifier %{y:,.1f}<extra></extra>",
         "legendgroup": "Str Mod",
         "marker": {
          "color": "#d62728",
          "size": 6
         },
         "mode": "markers",
         "name": "Str Mod",
         "type": "scatter",
         "x": [
          1,
          2,
          3,
          4,
          5,
          6,
          7,
          8,
          9,
          10,
          11,
          12,
          13,
          14,
          15,
          16,
          17,
          18,
          19,
          20,
          21,
          22,
          23,
          24,
          25,
          26,
          27,
          28,
          30
         ],
         "y": [
          1.0847457627118644,
          1.5792349726775956,
          2.1324503311258276,
          2.2242990654205608,
          2.4214285714285713,
          2.792207792207792,
          2.5641025641025643,
          3.2875,
          3.7547169811320753,
          3.7954545454545454,
          4.454545454545454,
          4.34375,
          4.131578947368421,
          4.592592592592593,
          4.761904761904762,
          5.653846153846154,
          4.625,
          3.933333333333333,
          5.909090909090909,
          5,
          6.5625,
          5.875,
          7.409090909090909,
          8.357142857142858,
          9.555555555555555,
          8.833333333333334,
          10,
          9,
          10
         ]
        },
        {
         "hoverinfo": "skip",
         "legendgroup": "Str Mod",
         "marker": {
          "color": "#d62728"
         },
         "mode": "lines",
         "name": "Str Mod",
         "showlegend": false,
         "type": "scatter",
         "x": [
          1,
          2,
          3,
          4,
          5,
          6,
          7,
          8,
          9,
          10,
          11,
          12,
          13,
          14,
          15,
          16,
          17,
          18,
          19,
          20,
          21,
          22,
          23,
          24,
          25,
          26,
          27,
          28,
          30
         ],
         "y": [
          1.0282589371990754,
          1.320187429128541,
          1.6121159210580065,
          1.904044412987472,
          2.1959729049169376,
          2.487901396846403,
          2.779829888775869,
          3.0717583807053344,
          3.3636868726348,
          3.6556153645642655,
          3.947543856493731,
          4.239472348423196,
          4.531400840352662,
          4.823329332282127,
          5.115257824211593,
          5.4071863161410585,
          5.699114808070524,
          5.99104329999999,
          6.282971791929455,
          6.574900283858921,
          6.866828775788386,
          7.158757267717852,
          7.4506857596473175,
          7.742614251576783,
          8.034542743506249,
          8.326471235435715,
          8.61839972736518,
          8.910328219294646,
          9.494185203153577
         ]
        },
        {
         "hovertemplate": "CR %{x}<br>Modifier %{y:,.1f}<extra></extra>",
         "legendgroup": "Dex Mod",
         "marker": {
          "color": "#9467bd",
          "size": 6
         },
         "mode": "markers",
         "name": "Dex Mod",
         "type": "scatter",
         "x": [
          1,
          2,
          3,
          4,
          5,
          6,
          7,
          8,
          9,
          10,
          11,
          12,
          13,
          14,
          15,
          16,
          17,
          18,
          19,
          20,
          21,
          22,
          23,
          24,
          25,
          26,
          27,
          28,
          30
         ],
         "y": [
          1.3135593220338984,
          1.2513661202185793,
          1.5894039735099337,
          1.4766355140186915,
          1.4928571428571429,
          1.5064935064935066,
          1.794871794871795,
          1.45,
          1.4528301886792452,
          1.4772727272727273,
          1.4772727272727273,
          1.375,
          1.4736842105263157,
          1.5185185185185186,
          1.9523809523809523,
          2.576923076923077,
          1.3125,
          2,
          2.8181818181818183,
          2.5454545454545454,
          2.4375,
          1.8125,
          2.5,
          1.9285714285714286,
          1.1111111111111112,
          2.25,
          2,
          3.4285714285714284,
          1.5
         ]
        },
        {
         "hoverinfo": "skip",
         "legendgroup": "Dex Mod",
         "marker": {
          "color": "#9467bd"
         },
         "mode": "lines",
         "name": "Dex Mod",
         "showlegend": false,
         "type": "scatter",
         "x": [
          1,
          2,
          3,
          4,
          5,
          6,
          7,
          8,
          9,
          10,
          11,
          12,
          13,
          14,
          15,
          16,
          17,
          18,
          19,
          20,
          21,
          22,
          23,
          24,
          25,
          26,
          27,
          28,
          30
         ],
         "y": [
          1.334749059348659,
          1.369431460789338,
          1.4041138622300169,
          1.438796263670696,
          1.473478665111375,
          1.508161066552054,
          1.542843467992733,
          1.5775258694334118,
          1.6122082708740908,
          1.6468906723147698,
          1.6815730737554486,
          1.7162554751961276,
          1.7509378766368067,
          1.7856202780774857,
          1.8203026795181647,
          1.8549850809588437,
          1.8896674823995228,
          1.9243498838402016,
          1.9590322852808806,
          1.9937146867215594,
          2.0283970881622384,
          2.0630794896029174,
          2.0977618910435964,
          2.1324442924842755,
          2.1671266939249545,
          2.2018090953656335,
          2.2364914968063125,
          2.2711738982469916,
          2.340538701128349
         ]
        },
        {
         "hovertemplate": "CR %{x}<br>Modifier %{y:,.1f}<extra></extra>",
         "legendgroup": "Con Mod",
         "marker": {
          "color": "#8c564b",
          "size": 6
         },
         "mode": "markers",
         "name": "Con Mod",
         "type": "scatter",
         "x": [
          1,
          2,
          3,
          4,
          5,
          6,
          7,
          8,
          9,
          10,
          11,
          12,
          13,
          14,
          15,
          16,
          17,
          18,
          19,
          20,
          21,
          22,
          23,
          24,
          25,
          26,
          27,
          28,
          30
         ],
         "y": [
          1.3898305084745763,
          1.6994535519125684,
          2.0463576158940397,
          2.2523364485981308,
          2.5714285714285716,
          3.0259740259740258,
          2.8974358974358974,
          3.1625,
          3.5283018867924527,
          3.8636363636363638,
          4.340909090909091,
          3.53125,
          4.2368421052631575,
          4.37037037037037,
          4.285714285714286,
          5.115384615384615,
          5.1875,
          5.133333333333334,
          5.636363636363637,
          6.2727272727272725,
          6.25,
          5.75,
          6.636363636363637,
          7.285714285714286,
          8.444444444444445,
          8.5,
          10,
          8.142857142857142,
          9.75
         ]
        },
        {
         "hoverinfo": "skip",
         "legendgroup": "Con Mod",
         "marker": {
          "color": "#8c564b"
         },
         "mode": "lines",
         "name": "Con Mod",
         "showlegend": false,
         "type": "scatter",
         "x": [
          1,
          2,
          3,
          4,
          5,
          6,
          7,
          8,
          9,
          10,
          11,
          12,
          13,
          14,
          15,
          16,
          17,
          18,
          19,
          20,
          21,
          22,
          23,
          24,
          25,
          26,
          27,
          28,
          30
         ],
         "y": [
          1.2219916556302706,
          1.4919407246138432,
          1.7618897935974158,
          2.0318388625809884,
          2.301787931564561,
          2.5717370005481337,
          2.8416860695317063,
          3.111635138515279,
          3.3815842074988516,
          3.651533276482424,
          3.921482345465997,
          4.1914314144495695,
          4.461380483433142,
          4.731329552416715,
          5.001278621400287,
          5.27122769038386,
          5.541176759367433,
          5.811125828351005,
          6.081074897334577,
          6.3510239663181505,
          6.6209730353017235,
          6.890922104285296,
          7.160871173268868,
          7.430820242252441,
          7.700769311236014,
          7.970718380219586,
          8.240667449203158,
          8.510616518186731,
          9.050514656153876
         ]
        },
        {
         "hovertemplate": "CR %{x}<br>Modifier %{y:,.1f}<extra></extra>",
         "legendgroup": "Int Mod",
         "marker": {
          "color": "#1f77b4",
          "size": 6
         },
         "mode": "markers",
         "name": "Int Mod",
         "type": "scatter",
         "x": [
          1,
          2,
          3,
          4,
          5,
          6,
          7,
          8,
          9,
          10,
          11,
          12,
          13,
          14,
          15,
          16,
          17,
          18,
          19,
          20,
          21,
          22,
          23,
          24,
          25,
          26,
          27,
          28,
          30
         ],
         "y": [
          -1.194915254237288,
          -0.7978142076502732,
          -0.46357615894039733,
          0.16822429906542055,
          -0.007142857142857143,
          0.14285714285714285,
          0.8461538461538461,
          0.1375,
          1.0754716981132075,
          1.5227272727272727,
          0.6136363636363636,
          1.1875,
          2.1052631578947367,
          1.4444444444444444,
          2.142857142857143,
          1.5,
          2.8125,
          3.466666666666667,
          3.1818181818181817,
          2.6363636363636362,
          4.5,
          4.4375,
          4.409090909090909,
          5.142857142857143,
          4,
          7.833333333333333,
          5,
          5.714285714285714,
          4
         ]
        },
        {
         "hoverinfo": "skip",
         "legendgroup": "Int Mod",
         "marker": {
          "color": "#1f77b4"
         },
         "mode": "lines",
         "name": "Int Mod",
         "showlegend": false,
         "type": "scatter",
         "x": [
          1,
          2,
          3,
          4,
          5,
          6,
          7,
          8,
          9,
          10,
          11,
          12,
          13,
          14,
          15,
          16,
          17,
          18,
          19,
          20,
          21,
          22,
          23,
          24,
          25,
          26,
          27,
          28,
          30
         ],
         "y": [
          -1.0602050578223359,
          -0.8186729960261637,
          -0.5771409342299916,
          -0.3356088724338193,
          -0.09407681063764706,
          0.14745525115852498,
          0.38898731295469724,
          0.6305193747508695,
          0.8720514365470415,
          1.113583498343214,
          1.355115560139386,
          1.596647621935558,
          1.8381796837317306,
          2.0797117455279026,
          2.321243807324075,
          2.562775869120247,
          2.804307930916419,
          3.045839992712591,
          3.287372054508764,
          3.528904116304936,
          3.770436178101108,
          4.01196823989728,
          4.253500301693452,
          4.495032363489624,
          4.736564425285797,
          4.978096487081969,
          5.219628548878141,
          5.461160610674313,
          5.944224734266658
         ]
        },
        {
         "hovertemplate": "CR %{x}<br>Modifier %{y:,.1f}<extra></extra>",
         "legendgroup": "Wis Mod",
         "marker": {
          "color": "#2ca02c",
          "size": 6
         },
         "mode": "markers",
         "name": "Wis Mod",
         "type": "scatter",
         "x": [
          1,
          2,
          3,
          4,
          5,
          6,
          7,
          8,
          9,
          10,
          11,
          12,
          13,
          14,
          15,
          16,
          17,
          18,
          19,
          20,
          21,
          22,
          23,
          24,
          25,
          26,
          27,
          28,
          30
         ],
         "y": [
          0.3305084745762712,
          0.46994535519125685,
          0.7615894039735099,
          0.8691588785046729,
          1.2428571428571429,
          1.0389610389610389,
          1.1923076923076923,
          1.5375,
          1.6037735849056605,
          1.9090909090909092,
          1.8181818181818181,
          2.25,
          1.8421052631578947,
          2.037037037037037,
          2.238095238095238,
          2.730769230769231,
          2.6875,
          3.8,
          3.727272727272727,
          2.5454545454545454,
          4.4375,
          3.6875,
          4.590909090909091,
          5.142857142857143,
          3.7777777777777777,
          5.166666666666667,
          5,
          6,
          5.5
         ]
        },
        {
         "hoverinfo": "skip",
         "legendgroup": "Wis Mod",
         "marker": {
          "color": "#2ca02c"
         },
         "mode": "lines",
         "name": "Wis Mod",
         "showlegend": false,
         "type": "scatter",
         "x": [
          1,
          2,
          3,
          4,
          5,
          6,
          7,
          8,
          9,
          10,
          11,
          12,
          13,
          14,
          15,
          16,
          17,
          18,
          19,
          20,
          21,
          22,
          23,
          24,
          25,
          26,
          27,
          28,
          30
         ],
         "y": [
          0.13540261226700806,
          0.3221560355171409,
          0.5089094587672737,
          0.6956628820174066,
          0.8824163052675394,
          1.0691697285176722,
          1.2559231517678051,
          1.442676575017938,
          1.629429998268071,
          1.8161834215182038,
          2.002936844768336,
          2.189690268018469,
          2.376443691268602,
          2.5631971145187347,
          2.7499505377688678,
          2.9367039610190004,
          3.123457384269133,
          3.310210807519266,
          3.496964230769399,
          3.683717654019532,
          3.8704710772696647,
          4.057224500519798,
          4.243977923769931,
          4.430731347020063,
          4.617484770270196,
          4.804238193520329,
          4.990991616770462,
          5.177745040020595,
          5.551251886520861
         ]
        },
        {
         "hovertemplate": "CR %{x}<br>Modifier %{y:,.1f}<extra></extra>",
         "legendgroup": "Cha Mod",
         "marker": {
          "color": "#ff7f0e",
          "size": 6
         },
         "mode": "markers",
         "name": "Cha Mod",
         "type": "scatter",
         "x": [
          1,
          2,
          3,
          4,
          5,
          6,
          7,
          8,
          9,
          10,
          11,
          12,
          13,
          14,
          15,
          16,
          17,
          18,
          19,
          20,
          21,
          22,
          23,
          24,
          25,
          26,
          27,
          28,
          30
         ],
         "y": [
          -0.7203389830508474,
          -0.32786885245901637,
          -0.013245033112582781,
          0.42990654205607476,
          0.29285714285714287,
          0.4155844155844156,
          1.064102564102564,
          0.9125,
          1.2075471698113207,
          1.8409090909090908,
          1.5,
          2.4375,
          2.5789473684210527,
          2.3703703703703702,
          3.1904761904761907,
          2.6538461538461537,
          4,
          4.4,
          4.909090909090909,
          4.363636363636363,
          5.25,
          4.6875,
          5.136363636363637,
          5.5,
          3.7777777777777777,
          6.666666666666667,
          8,
          9.285714285714286,
          6.75
         ]
        },
        {
         "hoverinfo": "skip",
         "legendgroup": "Cha Mod",
         "marker": {
          "color": "#ff7f0e"
         },
         "mode": "lines",
         "name": "Cha Mod",
         "showlegend": false,
         "type": "scatter",
         "x": [
          1,
          2,
          3,
          4,
          5,
          6,
          7,
          8,
          9,
          10,
          11,
          12,
          13,
          14,
          15,
          16,
          17,
          18,
          19,
          20,
          21,
          22,
          23,
          24,
          25,
          26,
          27,
          28,
          30
         ],
         "y": [
          -0.8776864795433181,
          -0.587728858693643,
          -0.29777123784396786,
          -0.007813616994292838,
          0.2821440038553822,
          0.5721016247050574,
          0.8620592455547325,
          1.1520168664044075,
          1.4419744872540825,
          1.7319321081037575,
          2.0218897289534326,
          2.311847349803108,
          2.601804970652783,
          2.891762591502458,
          3.181720212352133,
          3.471677833201808,
          3.761635454051483,
          4.051593074901158,
          4.341550695750833,
          4.631508316600508,
          4.921465937450183,
          5.211423558299858,
          5.501381179149533,
          5.79133879999921,
          6.081296420848885,
          6.37125404169856,
          6.661211662548235,
          6.95116928339791,
          7.53108452509726
         ]
        },
        {
         "hovertemplate": "CR %{x}<br>Modifier %{y:,.1f}<extra></extra>",
         "legendgroup": "Ave Mod",
         "marker": {
          "color": "gray",
          "size": 6
         },
         "mode": "markers",
         "name": "Ave Mod",
         "type": "scatter",
         "x": [
          1,
          2,
          3,
          4,
          5,
          6,
          7,
          8,
          9,
          10,
          11,
          12,
          13,
          14,
          15,
          16,
          17,
          18,
          19,
          20,
          21,
          22,
          23,
          24,
          25,
          26,
          27,
          28,
          30
         ],
         "y": [
          0.3672316384180791,
          0.6457194899817851,
          1.0088300220750552,
          1.236760124610592,
          1.3357142857142856,
          1.4870129870129871,
          1.7264957264957264,
          1.7479166666666668,
          2.1037735849056602,
          2.401515151515152,
          2.3674242424242427,
          2.5208333333333335,
          2.7280701754385968,
          2.7222222222222223,
          3.0952380952380953,
          3.371794871794872,
          3.4375,
          3.788888888888889,
          4.363636363636363,
          3.893939393939394,
          4.90625,
          4.375,
          5.113636363636363,
          5.559523809523809,
          5.111111111111111,
          6.541666666666667,
          6.666666666666667,
          6.928571428571429,
          6.25
         ]
        },
        {
         "hoverinfo": "skip",
         "legendgroup": "Ave Mod",
         "marker": {
          "color": "gray"
         },
         "mode": "lines",
         "name": "Ave Mod",
         "showlegend": false,
         "type": "scatter",
         "x": [
          1,
          2,
          3,
          4,
          5,
          6,
          7,
          8,
          9,
          10,
          11,
          12,
          13,
          14,
          15,
          16,
          17,
          18,
          19,
          20,
          21,
          22,
          23,
          24,
          25,
          26,
          27,
          28,
          30
         ],
         "y": [
          0.2970851211798931,
          0.516218965888176,
          0.7353528105964589,
          0.9544866553047417,
          1.1736205000130244,
          1.3927543447213073,
          1.6118881894295902,
          1.8310220341378731,
          2.050155878846156,
          2.2692897235544387,
          2.488423568262722,
          2.7075574129710045,
          2.9266912576792876,
          3.1458251023875703,
          3.3649589470958534,
          3.584092791804136,
          3.8032266365124188,
          4.022360481220702,
          4.2414943259289855,
          4.460628170637268,
          4.679762015345551,
          4.898895860053834,
          5.118029704762117,
          5.337163549470399,
          5.556297394178682,
          5.7754312388869655,
          5.994565083595248,
          6.213698928303531,
          6.651966617720097
         ]
        },
        {
         "hovertemplate": "CR %{x}<br>Modifier %{y:,.1f}<extra></extra>",
         "legendgroup": "AC - 14",
         "marker": {
          "color": "black",
          "size": 6
         },
         "mode": "markers",
         "name": "AC - 14",
         "type": "scatter",
         "x": [
          1,
          2,
          3,
          4,
          5,
          6,
          7,
          8,
          9,
          10,
          11,
          12,
          13,
          14,
          15,
          16,
          17,
          18,
          19,
          20,
          21,
          22,
          23,
          24,
          25,
          26,
          27,
          28,
          30
         ],
         "y": [
          -1,
          -1,
          -1,
          0,
          1,
          1,
          1,
          2,
          2,
          3,
          3,
          3,
          4,
          4,
          4,
          4,
          5,
          5,
          5,
          5,
          5,
          5,
          5,
          5,
          5,
          5,
          5,
          5,
          5
         ]
        },
        {
         "hoverinfo": "skip",
         "legendgroup": "AC - 14",
         "marker": {
          "color": "black"
         },
         "mode": "lines",
         "name": "AC - 14",
         "showlegend": false,
         "type": "scatter",
         "x": [
          1,
          2,
          3,
          4,
          5,
          6,
          7,
          8,
          9,
          10,
          11,
          12,
          13,
          14,
          15,
          16,
          17,
          18,
          19,
          20,
          21,
          22,
          23,
          24,
          25,
          26,
          27,
          28,
          30
         ],
         "y": [
          0.08027131133813367,
          0.305509964830011,
          0.5307486183218885,
          0.7559872718137658,
          0.9812259253056431,
          1.2064645787975208,
          1.431703232289398,
          1.6569418857812754,
          1.882180539273153,
          2.10741919276503,
          2.3326578462569074,
          2.557896499748785,
          2.783135153240662,
          3.0083738067325396,
          3.2336124602244167,
          3.4588511137162943,
          3.684089767208172,
          3.9093284207000494,
          4.134567074191926,
          4.359805727683804,
          4.585044381175681,
          4.810283034667559,
          5.035521688159436,
          5.260760341651314,
          5.4859989951431904,
          5.711237648635068,
          5.9364763021269455,
          6.161714955618823,
          6.612192262602577
         ]
        }
       ],
       "layout": {
        "height": 450,
        "legend": {
         "orientation": "v",
         "tracegroupgap": 0,
         "x": 0,
         "xanchor": "left",
         "y": 1,
         "yanchor": "top"
        },
        "margin": {
         "b": 55,
         "l": 60,
         "pad": 4,
         "r": 25,
         "t": 20
        },
        "template": {
         "layout": {
          "autosize": false,
          "font": {
           "family": "sans-serif",
           "size": 14
          },
          "hoverlabel": {
           "align": "left"
          },
          "hovermode": "closest",
          "margin": {
           "b": 55,
           "l": 60,
           "pad": 4,
           "r": 25,
           "t": 20
          },
          "template": {
           "data": {
            "bar": [
             {
              "error_x": {
               "color": "#2a3f5f"
              },
              "error_y": {
               "color": "#2a3f5f"
              },
              "marker": {
               "line": {
                "color": "white",
                "width": 0.5
               },
               "pattern": {
                "fillmode": "overlay",
                "size": 10,
                "solidity": 0.2
               }
              },
              "type": "bar"
             }
            ],
            "barpolar": [
             {
              "marker": {
               "line": {
                "color": "white",
                "width": 0.5
               },
               "pattern": {
                "fillmode": "overlay",
                "size": 10,
                "solidity": 0.2
               }
              },
              "type": "barpolar"
             }
            ],
            "carpet": [
             {
              "aaxis": {
               "endlinecolor": "#2a3f5f",
               "gridcolor": "#C8D4E3",
               "linecolor": "#C8D4E3",
               "minorgridcolor": "#C8D4E3",
               "startlinecolor": "#2a3f5f"
              },
              "baxis": {
               "endlinecolor": "#2a3f5f",
               "gridcolor": "#C8D4E3",
               "linecolor": "#C8D4E3",
               "minorgridcolor": "#C8D4E3",
               "startlinecolor": "#2a3f5f"
              },
              "type": "carpet"
             }
            ],
            "choropleth": [
             {
              "colorbar": {
               "outlinewidth": 0,
               "ticks": ""
              },
              "type": "choropleth"
             }
            ],
            "contour": [
             {
              "colorbar": {
               "outlinewidth": 0,
               "ticks": ""
              },
              "colorscale": [
               [
                0,
                "#0d0887"
               ],
               [
                0.1111111111111111,
                "#46039f"
               ],
               [
                0.2222222222222222,
                "#7201a8"
               ],
               [
                0.3333333333333333,
                "#9c179e"
               ],
               [
                0.4444444444444444,
                "#bd3786"
               ],
               [
                0.5555555555555556,
                "#d8576b"
               ],
               [
                0.6666666666666666,
                "#ed7953"
               ],
               [
                0.7777777777777778,
                "#fb9f3a"
               ],
               [
                0.8888888888888888,
                "#fdca26"
               ],
               [
                1,
                "#f0f921"
               ]
              ],
              "type": "contour"
             }
            ],
            "contourcarpet": [
             {
              "colorbar": {
               "outlinewidth": 0,
               "ticks": ""
              },
              "type": "contourcarpet"
             }
            ],
            "heatmap": [
             {
              "colorbar": {
               "outlinewidth": 0,
               "ticks": ""
              },
              "colorscale": [
               [
                0,
                "#0d0887"
               ],
               [
                0.1111111111111111,
                "#46039f"
               ],
               [
                0.2222222222222222,
                "#7201a8"
               ],
               [
                0.3333333333333333,
                "#9c179e"
               ],
               [
                0.4444444444444444,
                "#bd3786"
               ],
               [
                0.5555555555555556,
                "#d8576b"
               ],
               [
                0.6666666666666666,
                "#ed7953"
               ],
               [
                0.7777777777777778,
                "#fb9f3a"
               ],
               [
                0.8888888888888888,
                "#fdca26"
               ],
               [
                1,
                "#f0f921"
               ]
              ],
              "type": "heatmap"
             }
            ],
            "heatmapgl": [
             {
              "colorbar": {
               "outlinewidth": 0,
               "ticks": ""
              },
              "colorscale": [
               [
                0,
                "#0d0887"
               ],
               [
                0.1111111111111111,
                "#46039f"
               ],
               [
                0.2222222222222222,
                "#7201a8"
               ],
               [
                0.3333333333333333,
                "#9c179e"
               ],
               [
                0.4444444444444444,
                "#bd3786"
               ],
               [
                0.5555555555555556,
                "#d8576b"
               ],
               [
                0.6666666666666666,
                "#ed7953"
               ],
               [
                0.7777777777777778,
                "#fb9f3a"
               ],
               [
                0.8888888888888888,
                "#fdca26"
               ],
               [
                1,
                "#f0f921"
               ]
              ],
              "type": "heatmapgl"
             }
            ],
            "histogram": [
             {
              "marker": {
               "pattern": {
                "fillmode": "overlay",
                "size": 10,
                "solidity": 0.2
               }
              },
              "type": "histogram"
             }
            ],
            "histogram2d": [
             {
              "colorbar": {
               "outlinewidth": 0,
               "ticks": ""
              },
              "colorscale": [
               [
                0,
                "#0d0887"
               ],
               [
                0.1111111111111111,
                "#46039f"
               ],
               [
                0.2222222222222222,
                "#7201a8"
               ],
               [
                0.3333333333333333,
                "#9c179e"
               ],
               [
                0.4444444444444444,
                "#bd3786"
               ],
               [
                0.5555555555555556,
                "#d8576b"
               ],
               [
                0.6666666666666666,
                "#ed7953"
               ],
               [
                0.7777777777777778,
                "#fb9f3a"
               ],
               [
                0.8888888888888888,
                "#fdca26"
               ],
               [
                1,
                "#f0f921"
               ]
              ],
              "type": "histogram2d"
             }
            ],
            "histogram2dcontour": [
             {
              "colorbar": {
               "outlinewidth": 0,
               "ticks": ""
              },
              "colorscale": [
               [
                0,
                "#0d0887"
               ],
               [
                0.1111111111111111,
                "#46039f"
               ],
               [
                0.2222222222222222,
                "#7201a8"
               ],
               [
                0.3333333333333333,
                "#9c179e"
               ],
               [
                0.4444444444444444,
                "#bd3786"
               ],
               [
                0.5555555555555556,
                "#d8576b"
               ],
               [
                0.6666666666666666,
                "#ed7953"
               ],
               [
                0.7777777777777778,
                "#fb9f3a"
               ],
               [
                0.8888888888888888,
                "#fdca26"
               ],
               [
                1,
                "#f0f921"
               ]
              ],
              "type": "histogram2dcontour"
             }
            ],
            "mesh3d": [
             {
              "colorbar": {
               "outlinewidth": 0,
               "ticks": ""
              },
              "type": "mesh3d"
             }
            ],
            "parcoords": [
             {
              "line": {
               "colorbar": {
                "outlinewidth": 0,
                "ticks": ""
               }
              },
              "type": "parcoords"
             }
            ],
            "pie": [
             {
              "automargin": true,
              "type": "pie"
             }
            ],
            "scatter": [
             {
              "fillpattern": {
               "fillmode": "overlay",
               "size": 10,
               "solidity": 0.2
              },
              "type": "scatter"
             }
            ],
            "scatter3d": [
             {
              "line": {
               "colorbar": {
                "outlinewidth": 0,
                "ticks": ""
               }
              },
              "marker": {
               "colorbar": {
                "outlinewidth": 0,
                "ticks": ""
               }
              },
              "type": "scatter3d"
             }
            ],
            "scattercarpet": [
             {
              "marker": {
               "colorbar": {
                "outlinewidth": 0,
                "ticks": ""
               }
              },
              "type": "scattercarpet"
             }
            ],
            "scattergeo": [
             {
              "marker": {
               "colorbar": {
                "outlinewidth": 0,
                "ticks": ""
               }
              },
              "type": "scattergeo"
             }
            ],
            "scattergl": [
             {
              "marker": {
               "colorbar": {
                "outlinewidth": 0,
                "ticks": ""
               }
              },
              "type": "scattergl"
             }
            ],
            "scattermapbox": [
             {
              "marker": {
               "colorbar": {
                "outlinewidth": 0,
                "ticks": ""
               }
              },
              "type": "scattermapbox"
             }
            ],
            "scatterpolar": [
             {
              "marker": {
               "colorbar": {
                "outlinewidth": 0,
                "ticks": ""
               }
              },
              "type": "scatterpolar"
             }
            ],
            "scatterpolargl": [
             {
              "marker": {
               "colorbar": {
                "outlinewidth": 0,
                "ticks": ""
               }
              },
              "type": "scatterpolargl"
             }
            ],
            "scatterternary": [
             {
              "marker": {
               "colorbar": {
                "outlinewidth": 0,
                "ticks": ""
               }
              },
              "type": "scatterternary"
             }
            ],
            "surface": [
             {
              "colorbar": {
               "outlinewidth": 0,
               "ticks": ""
              },
              "colorscale": [
               [
                0,
                "#0d0887"
               ],
               [
                0.1111111111111111,
                "#46039f"
               ],
               [
                0.2222222222222222,
                "#7201a8"
               ],
               [
                0.3333333333333333,
                "#9c179e"
               ],
               [
                0.4444444444444444,
                "#bd3786"
               ],
               [
                0.5555555555555556,
                "#d8576b"
               ],
               [
                0.6666666666666666,
                "#ed7953"
               ],
               [
                0.7777777777777778,
                "#fb9f3a"
               ],
               [
                0.8888888888888888,
                "#fdca26"
               ],
               [
                1,
                "#f0f921"
               ]
              ],
              "type": "surface"
             }
            ],
            "table": [
             {
              "cells": {
               "fill": {
                "color": "#EBF0F8"
               },
               "line": {
                "color": "white"
               }
              },
              "header": {
               "fill": {
                "color": "#C8D4E3"
               },
               "line": {
                "color": "white"
               }
              },
              "type": "table"
             }
            ]
           },
           "layout": {
            "annotationdefaults": {
             "arrowcolor": "#2a3f5f",
             "arrowhead": 0,
             "arrowwidth": 1
            },
            "autotypenumbers": "strict",
            "coloraxis": {
             "colorbar": {
              "outlinewidth": 0,
              "ticks": ""
             }
            },
            "colorscale": {
             "diverging": [
              [
               0,
               "#8e0152"
              ],
              [
               0.1,
               "#c51b7d"
              ],
              [
               0.2,
               "#de77ae"
              ],
              [
               0.3,
               "#f1b6da"
              ],
              [
               0.4,
               "#fde0ef"
              ],
              [
               0.5,
               "#f7f7f7"
              ],
              [
               0.6,
               "#e6f5d0"
              ],
              [
               0.7,
               "#b8e186"
              ],
              [
               0.8,
               "#7fbc41"
              ],
              [
               0.9,
               "#4d9221"
              ],
              [
               1,
               "#276419"
              ]
             ],
             "sequential": [
              [
               0,
               "#0d0887"
              ],
              [
               0.1111111111111111,
               "#46039f"
              ],
              [
               0.2222222222222222,
               "#7201a8"
              ],
              [
               0.3333333333333333,
               "#9c179e"
              ],
              [
               0.4444444444444444,
               "#bd3786"
              ],
              [
               0.5555555555555556,
               "#d8576b"
              ],
              [
               0.6666666666666666,
               "#ed7953"
              ],
              [
               0.7777777777777778,
               "#fb9f3a"
              ],
              [
               0.8888888888888888,
               "#fdca26"
              ],
              [
               1,
               "#f0f921"
              ]
             ],
             "sequentialminus": [
              [
               0,
               "#0d0887"
              ],
              [
               0.1111111111111111,
               "#46039f"
              ],
              [
               0.2222222222222222,
               "#7201a8"
              ],
              [
               0.3333333333333333,
               "#9c179e"
              ],
              [
               0.4444444444444444,
               "#bd3786"
              ],
              [
               0.5555555555555556,
               "#d8576b"
              ],
              [
               0.6666666666666666,
               "#ed7953"
              ],
              [
               0.7777777777777778,
               "#fb9f3a"
              ],
              [
               0.8888888888888888,
               "#fdca26"
              ],
              [
               1,
               "#f0f921"
              ]
             ]
            },
            "colorway": [
             "#636efa",
             "#EF553B",
             "#00cc96",
             "#ab63fa",
             "#FFA15A",
             "#19d3f3",
             "#FF6692",
             "#B6E880",
             "#FF97FF",
             "#FECB52"
            ],
            "font": {
             "color": "#2a3f5f"
            },
            "geo": {
             "bgcolor": "white",
             "lakecolor": "white",
             "landcolor": "white",
             "showlakes": true,
             "showland": true,
             "subunitcolor": "#C8D4E3"
            },
            "hoverlabel": {
             "align": "left"
            },
            "hovermode": "closest",
            "mapbox": {
             "style": "light"
            },
            "paper_bgcolor": "white",
            "plot_bgcolor": "white",
            "polar": {
             "angularaxis": {
              "gridcolor": "#EBF0F8",
              "linecolor": "#EBF0F8",
              "ticks": ""
             },
             "bgcolor": "white",
             "radialaxis": {
              "gridcolor": "#EBF0F8",
              "linecolor": "#EBF0F8",
              "ticks": ""
             }
            },
            "scene": {
             "xaxis": {
              "backgroundcolor": "white",
              "gridcolor": "#DFE8F3",
              "gridwidth": 2,
              "linecolor": "#EBF0F8",
              "showbackground": true,
              "ticks": "",
              "zerolinecolor": "#EBF0F8"
             },
             "yaxis": {
              "backgroundcolor": "white",
              "gridcolor": "#DFE8F3",
              "gridwidth": 2,
              "linecolor": "#EBF0F8",
              "showbackground": true,
              "ticks": "",
              "zerolinecolor": "#EBF0F8"
             },
             "zaxis": {
              "backgroundcolor": "white",
              "gridcolor": "#DFE8F3",
              "gridwidth": 2,
              "linecolor": "#EBF0F8",
              "showbackground": true,
              "ticks": "",
              "zerolinecolor": "#EBF0F8"
             }
            },
            "shapedefaults": {
             "line": {
              "color": "#2a3f5f"
             }
            },
            "ternary": {
             "aaxis": {
              "gridcolor": "#DFE8F3",
              "linecolor": "#A2B1C6",
              "ticks": ""
             },
             "baxis": {
              "gridcolor": "#DFE8F3",
              "linecolor": "#A2B1C6",
              "ticks": ""
             },
             "bgcolor": "white",
             "caxis": {
              "gridcolor": "#DFE8F3",
              "linecolor": "#A2B1C6",
              "ticks": ""
             }
            },
            "title": {
             "x": 0.05
            },
            "xaxis": {
             "automargin": true,
             "gridcolor": "#EBF0F8",
             "linecolor": "#EBF0F8",
             "ticks": "",
             "title": {
              "standoff": 15
             },
             "zerolinecolor": "#EBF0F8",
             "zerolinewidth": 2
            },
            "yaxis": {
             "automargin": true,
             "gridcolor": "#EBF0F8",
             "linecolor": "#EBF0F8",
             "ticks": "",
             "title": {
              "standoff": 15
             },
             "zerolinecolor": "#EBF0F8",
             "zerolinewidth": 2
            }
           }
          },
          "xaxis": {
           "automargin": false,
           "linecolor": "#444",
           "linewidth": 2,
           "minor": {
            "tickmode": "linear",
            "ticks": "outside"
           },
           "mirror": true,
           "showline": true,
           "tickmode": "linear",
           "ticks": "outside",
           "zeroline": false
          },
          "yaxis": {
           "automargin": false,
           "linecolor": "#444",
           "linewidth": 2,
           "minor": {
            "tickmode": "linear",
            "ticks": "outside"
           },
           "mirror": true,
           "showline": true,
           "ticks": "outside",
           "zeroline": false
          }
         }
        },
        "width": 600,
        "xaxis": {
         "dtick": 5,
         "minor": {
          "dtick": 1,
          "tick0": 0
         },
         "range": [
          -1,
          31
         ],
         "tick0": 0,
         "title": {
          "text": "challenge rating"
         }
        },
        "yaxis": {
         "dtick": 5,
         "minor": {
          "dtick": 1,
          "tick0": 0
         },
         "range": [
          -2,
          16
         ],
         "tick0": 0,
         "title": {
          "text": "saving throw modifier"
         }
        }
       }
      }
     },
     "metadata": {},
     "output_type": "display_data"
    }
   ],
   "source": [
    "# Saving throw modifier\n",
    "columns = ['Str Mod','Dex Mod','Con Mod','Int Mod','Wis Mod','Cha Mod','Ave Mod','AC - 14']\n",
    "colors = ['#d62728','#9467bd','#8c564b','#1f77b4','#2ca02c','#ff7f0e','gray','black']\n",
    "\n",
    "dfD = pd.read_csv('../../assets/data/dmg-targets.csv') # 'CR','PB','AC','AB','DC'\n",
    "dfD = dfD.set_index('CR')\n",
    "\n",
    "df1 = df0[df0['Category'].isin(['generic','legendary','unique']) & df0['CR'].between(1, 30)]\n",
    "df1['Ave Mod'] = (df1['Str Mod'] + df1['Dex Mod'] + df1['Con Mod'] + df1['Int Mod'] + df1['Wis Mod'] + df1['Cha Mod'])/6\n",
    "df1['AC - 14'] = df1.apply(lambda row: dfD.loc[row['CR'], 'AC'] - 14, axis=1)\n",
    "#df1['AC - 13'] = df1['AC'] - 13\n",
    "#df1['CR'] = 2 + 3*np.floor((df1['CR'] - 1)/3.0)\n",
    "dfG = df1[['CR'] + columns].groupby('CR').mean()\n",
    "\n",
    "# create figure\n",
    "fig = go.Figure(\n",
    "    layout=go.Layout(\n",
    "        template=tfb.FIG_TEMPLATE,\n",
    "        margin=dict(l=60, r=25, b=55, t=20, pad=4),\n",
    "        xaxis=dict(\n",
    "            title_text='challenge rating',\n",
    "            range=[-1,31],\n",
    "            tick0=0, dtick=5,\n",
    "            minor=dict(tick0=0, dtick=1),\n",
    "        ),\n",
    "        yaxis=dict(\n",
    "            title_text='saving throw modifier',\n",
    "            range=[-2,16],\n",
    "            tick0=0, dtick=5,\n",
    "            minor=dict(tick0=0, dtick=1),\n",
    "        ),\n",
    "        legend=dict(\n",
    "            xanchor='left', yanchor='top',\n",
    "            x=0.00, y=1.00,\n",
    "            orientation='v',\n",
    "            tracegroupgap=0,\n",
    "        )\n",
    "    )\n",
    ")\n",
    "\n",
    "# plot data\n",
    "x = dfG.index.to_series()\n",
    "for column, c in zip(columns, colors):\n",
    "    coefs = np.polyfit(x, dfG[column], 1)\n",
    "    poly = np.poly1d(coefs)\n",
    "    fig.add_trace(go.Scatter(\n",
    "        x=dfG.index.to_series(), \n",
    "        y=dfG[column],\n",
    "        mode='markers', \n",
    "        marker=dict(size=6, color=c),\n",
    "        name=column,\n",
    "        legendgroup=column,\n",
    "        hovertemplate=\n",
    "            'CR %{x}<br>'+\n",
    "            'Modifier %{y:,.1f}' + \n",
    "            '<extra></extra>'\n",
    "    ))\n",
    "    fig.add_trace(go.Scatter(\n",
    "        x=x, \n",
    "        y=poly(x),\n",
    "        mode='lines', \n",
    "        marker=dict(color=c),\n",
    "        name=column,\n",
    "        legendgroup=column,\n",
    "        showlegend=False,\n",
    "        hoverinfo='skip',\n",
    "    ))\n",
    "\n",
    "# show figure\n",
    "fig.update_layout(width=600, height=450)\n",
    "fig.show(config=tfb.FIG_CONFIG)\n",
    "\n",
    "# save figures\n",
    "if SAVEFIGS:\n",
    "    fig.update_layout(autosize=True, width=None, height=None)\n",
    "    tfb.save_fig_html(fig, format='large', name=f'./fig-monster-save-modifier-vs-cr-large')\n",
    "    tfb.save_fig_html(fig, format='small', name=f'./fig-monster-save-modifier-vs-cr-small')"
   ]
  },
  {
   "cell_type": "code",
   "execution_count": null,
   "metadata": {},
   "outputs": [
    {
     "data": {
      "application/vnd.plotly.v1+json": {
       "config": {
        "autosizable": true,
        "displayModeBar": "hover",
        "displaylogo": false,
        "doubleClick": "reset",
        "modeBarButtonsToRemove": [
         "select2d",
         "lasso2d",
         "zoom2d",
         "zoomIn2d",
         "zoomOut2d",
         "pan2d",
         "autoScale2d",
         "hoverClosestCartesian",
         "hoverCompareCartesian",
         "toggleSpikelines",
         "resetScale2d"
        ],
        "plotlyServerURL": "https://plot.ly",
        "responsive": true,
        "showAxisDragHandles": false,
        "toImageButtonOptions": {
         "filename": "tfb-plot",
         "format": "png",
         "height": 450,
         "scale": 2,
         "width": 600
        }
       },
       "data": [
        {
         "hovertemplate": "n %{x}<br>Hit Probability %{y:,.0%}<extra></extra>",
         "mode": "markers+lines",
         "name": "$1 + n \\cdot x$",
         "type": "scatter",
         "x": [
          -6,
          -5,
          -4,
          -3,
          -2,
          -1,
          0,
          1,
          2,
          3,
          4,
          5,
          6
         ],
         "y": [
          0.35000000000000003,
          0.4,
          0.45,
          0.5,
          0.55,
          0.6000000000000001,
          0.65,
          0.7000000000000001,
          0.75,
          0.8,
          0.8500000000000001,
          0.9,
          0.9500000000000001
         ]
        },
        {
         "hovertemplate": "n %{x}<br>Hit Probability %{y:,.0%}<extra></extra>",
         "mode": "markers+lines",
         "name": "$(1 + x)^n$",
         "type": "scatter",
         "x": [
          -6,
          -5,
          -4,
          -3,
          -2,
          -1,
          0,
          1,
          2,
          3,
          4,
          5,
          6
         ],
         "y": [
          0.41650396186566874,
          0.44857476692932524,
          0.48311502398288325,
          0.5203148808295653,
          0.5603791266534418,
          0.6035283194057568,
          0.65,
          0.70005,
          0.75395385,
          0.81200829645,
          0.8745329352766499,
          0.9418719712929519,
          1.0143961130825092
         ]
        }
       ],
       "layout": {
        "height": 450,
        "legend": {
         "orientation": "v",
         "tracegroupgap": 0,
         "x": 0,
         "xanchor": "left",
         "y": 1,
         "yanchor": "top"
        },
        "margin": {
         "b": 55,
         "l": 60,
         "pad": 4,
         "r": 25,
         "t": 20
        },
        "template": {
         "layout": {
          "autosize": false,
          "font": {
           "family": "sans-serif",
           "size": 14
          },
          "hoverlabel": {
           "align": "left"
          },
          "hovermode": "closest",
          "margin": {
           "b": 55,
           "l": 60,
           "pad": 4,
           "r": 25,
           "t": 20
          },
          "template": {
           "data": {
            "bar": [
             {
              "error_x": {
               "color": "#2a3f5f"
              },
              "error_y": {
               "color": "#2a3f5f"
              },
              "marker": {
               "line": {
                "color": "white",
                "width": 0.5
               },
               "pattern": {
                "fillmode": "overlay",
                "size": 10,
                "solidity": 0.2
               }
              },
              "type": "bar"
             }
            ],
            "barpolar": [
             {
              "marker": {
               "line": {
                "color": "white",
                "width": 0.5
               },
               "pattern": {
                "fillmode": "overlay",
                "size": 10,
                "solidity": 0.2
               }
              },
              "type": "barpolar"
             }
            ],
            "carpet": [
             {
              "aaxis": {
               "endlinecolor": "#2a3f5f",
               "gridcolor": "#C8D4E3",
               "linecolor": "#C8D4E3",
               "minorgridcolor": "#C8D4E3",
               "startlinecolor": "#2a3f5f"
              },
              "baxis": {
               "endlinecolor": "#2a3f5f",
               "gridcolor": "#C8D4E3",
               "linecolor": "#C8D4E3",
               "minorgridcolor": "#C8D4E3",
               "startlinecolor": "#2a3f5f"
              },
              "type": "carpet"
             }
            ],
            "choropleth": [
             {
              "colorbar": {
               "outlinewidth": 0,
               "ticks": ""
              },
              "type": "choropleth"
             }
            ],
            "contour": [
             {
              "colorbar": {
               "outlinewidth": 0,
               "ticks": ""
              },
              "colorscale": [
               [
                0,
                "#0d0887"
               ],
               [
                0.1111111111111111,
                "#46039f"
               ],
               [
                0.2222222222222222,
                "#7201a8"
               ],
               [
                0.3333333333333333,
                "#9c179e"
               ],
               [
                0.4444444444444444,
                "#bd3786"
               ],
               [
                0.5555555555555556,
                "#d8576b"
               ],
               [
                0.6666666666666666,
                "#ed7953"
               ],
               [
                0.7777777777777778,
                "#fb9f3a"
               ],
               [
                0.8888888888888888,
                "#fdca26"
               ],
               [
                1,
                "#f0f921"
               ]
              ],
              "type": "contour"
             }
            ],
            "contourcarpet": [
             {
              "colorbar": {
               "outlinewidth": 0,
               "ticks": ""
              },
              "type": "contourcarpet"
             }
            ],
            "heatmap": [
             {
              "colorbar": {
               "outlinewidth": 0,
               "ticks": ""
              },
              "colorscale": [
               [
                0,
                "#0d0887"
               ],
               [
                0.1111111111111111,
                "#46039f"
               ],
               [
                0.2222222222222222,
                "#7201a8"
               ],
               [
                0.3333333333333333,
                "#9c179e"
               ],
               [
                0.4444444444444444,
                "#bd3786"
               ],
               [
                0.5555555555555556,
                "#d8576b"
               ],
               [
                0.6666666666666666,
                "#ed7953"
               ],
               [
                0.7777777777777778,
                "#fb9f3a"
               ],
               [
                0.8888888888888888,
                "#fdca26"
               ],
               [
                1,
                "#f0f921"
               ]
              ],
              "type": "heatmap"
             }
            ],
            "heatmapgl": [
             {
              "colorbar": {
               "outlinewidth": 0,
               "ticks": ""
              },
              "colorscale": [
               [
                0,
                "#0d0887"
               ],
               [
                0.1111111111111111,
                "#46039f"
               ],
               [
                0.2222222222222222,
                "#7201a8"
               ],
               [
                0.3333333333333333,
                "#9c179e"
               ],
               [
                0.4444444444444444,
                "#bd3786"
               ],
               [
                0.5555555555555556,
                "#d8576b"
               ],
               [
                0.6666666666666666,
                "#ed7953"
               ],
               [
                0.7777777777777778,
                "#fb9f3a"
               ],
               [
                0.8888888888888888,
                "#fdca26"
               ],
               [
                1,
                "#f0f921"
               ]
              ],
              "type": "heatmapgl"
             }
            ],
            "histogram": [
             {
              "marker": {
               "pattern": {
                "fillmode": "overlay",
                "size": 10,
                "solidity": 0.2
               }
              },
              "type": "histogram"
             }
            ],
            "histogram2d": [
             {
              "colorbar": {
               "outlinewidth": 0,
               "ticks": ""
              },
              "colorscale": [
               [
                0,
                "#0d0887"
               ],
               [
                0.1111111111111111,
                "#46039f"
               ],
               [
                0.2222222222222222,
                "#7201a8"
               ],
               [
                0.3333333333333333,
                "#9c179e"
               ],
               [
                0.4444444444444444,
                "#bd3786"
               ],
               [
                0.5555555555555556,
                "#d8576b"
               ],
               [
                0.6666666666666666,
                "#ed7953"
               ],
               [
                0.7777777777777778,
                "#fb9f3a"
               ],
               [
                0.8888888888888888,
                "#fdca26"
               ],
               [
                1,
                "#f0f921"
               ]
              ],
              "type": "histogram2d"
             }
            ],
            "histogram2dcontour": [
             {
              "colorbar": {
               "outlinewidth": 0,
               "ticks": ""
              },
              "colorscale": [
               [
                0,
                "#0d0887"
               ],
               [
                0.1111111111111111,
                "#46039f"
               ],
               [
                0.2222222222222222,
                "#7201a8"
               ],
               [
                0.3333333333333333,
                "#9c179e"
               ],
               [
                0.4444444444444444,
                "#bd3786"
               ],
               [
                0.5555555555555556,
                "#d8576b"
               ],
               [
                0.6666666666666666,
                "#ed7953"
               ],
               [
                0.7777777777777778,
                "#fb9f3a"
               ],
               [
                0.8888888888888888,
                "#fdca26"
               ],
               [
                1,
                "#f0f921"
               ]
              ],
              "type": "histogram2dcontour"
             }
            ],
            "mesh3d": [
             {
              "colorbar": {
               "outlinewidth": 0,
               "ticks": ""
              },
              "type": "mesh3d"
             }
            ],
            "parcoords": [
             {
              "line": {
               "colorbar": {
                "outlinewidth": 0,
                "ticks": ""
               }
              },
              "type": "parcoords"
             }
            ],
            "pie": [
             {
              "automargin": true,
              "type": "pie"
             }
            ],
            "scatter": [
             {
              "fillpattern": {
               "fillmode": "overlay",
               "size": 10,
               "solidity": 0.2
              },
              "type": "scatter"
             }
            ],
            "scatter3d": [
             {
              "line": {
               "colorbar": {
                "outlinewidth": 0,
                "ticks": ""
               }
              },
              "marker": {
               "colorbar": {
                "outlinewidth": 0,
                "ticks": ""
               }
              },
              "type": "scatter3d"
             }
            ],
            "scattercarpet": [
             {
              "marker": {
               "colorbar": {
                "outlinewidth": 0,
                "ticks": ""
               }
              },
              "type": "scattercarpet"
             }
            ],
            "scattergeo": [
             {
              "marker": {
               "colorbar": {
                "outlinewidth": 0,
                "ticks": ""
               }
              },
              "type": "scattergeo"
             }
            ],
            "scattergl": [
             {
              "marker": {
               "colorbar": {
                "outlinewidth": 0,
                "ticks": ""
               }
              },
              "type": "scattergl"
             }
            ],
            "scattermapbox": [
             {
              "marker": {
               "colorbar": {
                "outlinewidth": 0,
                "ticks": ""
               }
              },
              "type": "scattermapbox"
             }
            ],
            "scatterpolar": [
             {
              "marker": {
               "colorbar": {
                "outlinewidth": 0,
                "ticks": ""
               }
              },
              "type": "scatterpolar"
             }
            ],
            "scatterpolargl": [
             {
              "marker": {
               "colorbar": {
                "outlinewidth": 0,
                "ticks": ""
               }
              },
              "type": "scatterpolargl"
             }
            ],
            "scatterternary": [
             {
              "marker": {
               "colorbar": {
                "outlinewidth": 0,
                "ticks": ""
               }
              },
              "type": "scatterternary"
             }
            ],
            "surface": [
             {
              "colorbar": {
               "outlinewidth": 0,
               "ticks": ""
              },
              "colorscale": [
               [
                0,
                "#0d0887"
               ],
               [
                0.1111111111111111,
                "#46039f"
               ],
               [
                0.2222222222222222,
                "#7201a8"
               ],
               [
                0.3333333333333333,
                "#9c179e"
               ],
               [
                0.4444444444444444,
                "#bd3786"
               ],
               [
                0.5555555555555556,
                "#d8576b"
               ],
               [
                0.6666666666666666,
                "#ed7953"
               ],
               [
                0.7777777777777778,
                "#fb9f3a"
               ],
               [
                0.8888888888888888,
                "#fdca26"
               ],
               [
                1,
                "#f0f921"
               ]
              ],
              "type": "surface"
             }
            ],
            "table": [
             {
              "cells": {
               "fill": {
                "color": "#EBF0F8"
               },
               "line": {
                "color": "white"
               }
              },
              "header": {
               "fill": {
                "color": "#C8D4E3"
               },
               "line": {
                "color": "white"
               }
              },
              "type": "table"
             }
            ]
           },
           "layout": {
            "annotationdefaults": {
             "arrowcolor": "#2a3f5f",
             "arrowhead": 0,
             "arrowwidth": 1
            },
            "autotypenumbers": "strict",
            "coloraxis": {
             "colorbar": {
              "outlinewidth": 0,
              "ticks": ""
             }
            },
            "colorscale": {
             "diverging": [
              [
               0,
               "#8e0152"
              ],
              [
               0.1,
               "#c51b7d"
              ],
              [
               0.2,
               "#de77ae"
              ],
              [
               0.3,
               "#f1b6da"
              ],
              [
               0.4,
               "#fde0ef"
              ],
              [
               0.5,
               "#f7f7f7"
              ],
              [
               0.6,
               "#e6f5d0"
              ],
              [
               0.7,
               "#b8e186"
              ],
              [
               0.8,
               "#7fbc41"
              ],
              [
               0.9,
               "#4d9221"
              ],
              [
               1,
               "#276419"
              ]
             ],
             "sequential": [
              [
               0,
               "#0d0887"
              ],
              [
               0.1111111111111111,
               "#46039f"
              ],
              [
               0.2222222222222222,
               "#7201a8"
              ],
              [
               0.3333333333333333,
               "#9c179e"
              ],
              [
               0.4444444444444444,
               "#bd3786"
              ],
              [
               0.5555555555555556,
               "#d8576b"
              ],
              [
               0.6666666666666666,
               "#ed7953"
              ],
              [
               0.7777777777777778,
               "#fb9f3a"
              ],
              [
               0.8888888888888888,
               "#fdca26"
              ],
              [
               1,
               "#f0f921"
              ]
             ],
             "sequentialminus": [
              [
               0,
               "#0d0887"
              ],
              [
               0.1111111111111111,
               "#46039f"
              ],
              [
               0.2222222222222222,
               "#7201a8"
              ],
              [
               0.3333333333333333,
               "#9c179e"
              ],
              [
               0.4444444444444444,
               "#bd3786"
              ],
              [
               0.5555555555555556,
               "#d8576b"
              ],
              [
               0.6666666666666666,
               "#ed7953"
              ],
              [
               0.7777777777777778,
               "#fb9f3a"
              ],
              [
               0.8888888888888888,
               "#fdca26"
              ],
              [
               1,
               "#f0f921"
              ]
             ]
            },
            "colorway": [
             "#636efa",
             "#EF553B",
             "#00cc96",
             "#ab63fa",
             "#FFA15A",
             "#19d3f3",
             "#FF6692",
             "#B6E880",
             "#FF97FF",
             "#FECB52"
            ],
            "font": {
             "color": "#2a3f5f"
            },
            "geo": {
             "bgcolor": "white",
             "lakecolor": "white",
             "landcolor": "white",
             "showlakes": true,
             "showland": true,
             "subunitcolor": "#C8D4E3"
            },
            "hoverlabel": {
             "align": "left"
            },
            "hovermode": "closest",
            "mapbox": {
             "style": "light"
            },
            "paper_bgcolor": "white",
            "plot_bgcolor": "white",
            "polar": {
             "angularaxis": {
              "gridcolor": "#EBF0F8",
              "linecolor": "#EBF0F8",
              "ticks": ""
             },
             "bgcolor": "white",
             "radialaxis": {
              "gridcolor": "#EBF0F8",
              "linecolor": "#EBF0F8",
              "ticks": ""
             }
            },
            "scene": {
             "xaxis": {
              "backgroundcolor": "white",
              "gridcolor": "#DFE8F3",
              "gridwidth": 2,
              "linecolor": "#EBF0F8",
              "showbackground": true,
              "ticks": "",
              "zerolinecolor": "#EBF0F8"
             },
             "yaxis": {
              "backgroundcolor": "white",
              "gridcolor": "#DFE8F3",
              "gridwidth": 2,
              "linecolor": "#EBF0F8",
              "showbackground": true,
              "ticks": "",
              "zerolinecolor": "#EBF0F8"
             },
             "zaxis": {
              "backgroundcolor": "white",
              "gridcolor": "#DFE8F3",
              "gridwidth": 2,
              "linecolor": "#EBF0F8",
              "showbackground": true,
              "ticks": "",
              "zerolinecolor": "#EBF0F8"
             }
            },
            "shapedefaults": {
             "line": {
              "color": "#2a3f5f"
             }
            },
            "ternary": {
             "aaxis": {
              "gridcolor": "#DFE8F3",
              "linecolor": "#A2B1C6",
              "ticks": ""
             },
             "baxis": {
              "gridcolor": "#DFE8F3",
              "linecolor": "#A2B1C6",
              "ticks": ""
             },
             "bgcolor": "white",
             "caxis": {
              "gridcolor": "#DFE8F3",
              "linecolor": "#A2B1C6",
              "ticks": ""
             }
            },
            "title": {
             "x": 0.05
            },
            "xaxis": {
             "automargin": true,
             "gridcolor": "#EBF0F8",
             "linecolor": "#EBF0F8",
             "ticks": "",
             "title": {
              "standoff": 15
             },
             "zerolinecolor": "#EBF0F8",
             "zerolinewidth": 2
            },
            "yaxis": {
             "automargin": true,
             "gridcolor": "#EBF0F8",
             "linecolor": "#EBF0F8",
             "ticks": "",
             "title": {
              "standoff": 15
             },
             "zerolinecolor": "#EBF0F8",
             "zerolinewidth": 2
            }
           }
          },
          "xaxis": {
           "automargin": false,
           "linecolor": "#444",
           "linewidth": 2,
           "minor": {
            "tickmode": "linear",
            "ticks": "outside"
           },
           "mirror": true,
           "showline": true,
           "tickmode": "linear",
           "ticks": "outside",
           "zeroline": false
          },
          "yaxis": {
           "automargin": true,
           "linecolor": "#444",
           "linewidth": 2,
           "minor": {
            "tickmode": "linear",
            "ticks": "outside"
           },
           "mirror": true,
           "showline": true,
           "ticks": "outside",
           "zeroline": false
          }
         }
        },
        "width": 600,
        "xaxis": {
         "dtick": 1,
         "range": [
          -6.5,
          6.5
         ],
         "tick0": 0,
         "title": {
          "text": "$AB^{\\,\\prime} - AC^{\\,\\prime}$"
         }
        },
        "yaxis": {
         "dtick": 0.2,
         "minor": {
          "dtick": 0.1,
          "tick0": 0
         },
         "range": [
          0,
          1.2
         ],
         "tick0": 0,
         "title": {
          "text": "attack hit probability"
         }
        }
       }
      }
     },
     "metadata": {},
     "output_type": "display_data"
    }
   ],
   "source": [
    "x = 0.05\n",
    "n = np.array(range(-6, 7))\n",
    "\n",
    "# create figure\n",
    "fig = go.Figure(\n",
    "    layout=go.Layout(\n",
    "        template=tfb.FIG_TEMPLATE,\n",
    "        margin=dict(l=60, r=25, b=55, t=20, pad=4),\n",
    "        xaxis=dict(\n",
    "            title_text='$AB^{\\,\\prime} - AC^{\\,\\prime}$',\n",
    "            range=[-6.5,6.5],\n",
    "            tick0=0, dtick=1,\n",
    "            #minor=dict(tick0=0, dtick=1),\n",
    "        ),\n",
    "        yaxis=dict(\n",
    "            title_text='attack hit probability',\n",
    "            range=[0,1.2],\n",
    "            tick0=0, dtick=0.2,\n",
    "            minor=dict(tick0=0, dtick=0.1),\n",
    "        ),\n",
    "        legend=dict(\n",
    "            xanchor='left', yanchor='top',\n",
    "            x=0.00, y=1.00,\n",
    "            orientation='v',\n",
    "            tracegroupgap=0,\n",
    "        )\n",
    "    )\n",
    ")\n",
    "\n",
    "\n",
    "#ax.plot(n, np.multiply(0.05, np.add(12, n)), '-', label='1 + n*x', color='k')\n",
    "#ax.plot(n, np.multiply(0.60, np.power(1.083, n)), '-', label='(1 + x)^n', color='r')\n",
    "\n",
    "fig.add_trace(go.Scatter(\n",
    "    x=n, \n",
    "    y=np.multiply(0.05, np.add(13, n)),\n",
    "    mode='markers+lines', \n",
    "    name='$1 + n \\cdot x$',\n",
    "    hovertemplate=\n",
    "        'n %{x}<br>'+\n",
    "        'Hit Probability %{y:,.0%}' + \n",
    "        '<extra></extra>'\n",
    "))\n",
    "\n",
    "fig.add_trace(go.Scatter(\n",
    "    x=n, \n",
    "    y=np.multiply(0.65, np.power(1.077, n)),\n",
    "    mode='markers+lines', \n",
    "    name='$(1 + x)^n$',\n",
    "    hovertemplate=\n",
    "        'n %{x}<br>'+\n",
    "        'Hit Probability %{y:,.0%}' + \n",
    "        '<extra></extra>'\n",
    "))\n",
    "\n",
    "# show figure\n",
    "fig.update_layout(width=600, height=450)\n",
    "fig.show(config=tfb.FIG_CONFIG)\n",
    "\n",
    "# save figures\n",
    "if SAVEFIGS:\n",
    "    #fig.update_layout(autosize=True, width=None, height=None)\n",
    "    #tfb.save_fig_html(fig, format='large', name=f'./fig-encounter-xp-thresholds-vs-level-large')\n",
    "    #tfb.save_fig_html(fig, format='small', name=f'./fig-encounter-xp-thresholds-vs-level-small')\n",
    "    pass"
   ]
  },
  {
   "cell_type": "code",
   "execution_count": null,
   "metadata": {},
   "outputs": [
    {
     "data": {
      "application/vnd.plotly.v1+json": {
       "config": {
        "autosizable": true,
        "displayModeBar": "hover",
        "displaylogo": false,
        "doubleClick": "reset",
        "modeBarButtonsToRemove": [
         "select2d",
         "lasso2d",
         "zoom2d",
         "zoomIn2d",
         "zoomOut2d",
         "pan2d",
         "autoScale2d",
         "hoverClosestCartesian",
         "hoverCompareCartesian",
         "toggleSpikelines",
         "resetScale2d"
        ],
        "plotlyServerURL": "https://plot.ly",
        "responsive": true,
        "showAxisDragHandles": false,
        "toImageButtonOptions": {
         "filename": "tfb-plot",
         "format": "png",
         "height": 450,
         "scale": 2,
         "width": 600
        }
       },
       "data": [
        {
         "histnorm": "percent",
         "type": "histogram",
         "x": [
          -0.16666666666666607,
          0.5833333333333321,
          -0.08333333333333393,
          1.25,
          -1.0833333333333321,
          0.41666666666666785,
          0.08333333333333215,
          -2.75,
          0.75,
          -1.1666666666666679,
          -4,
          1.1666666666666643,
          0.9166666666666679,
          -1.1666666666666679,
          -0.25,
          -2.833333333333332,
          -0.16666666666666785,
          -0.08333333333333393,
          -1.4166666666666643,
          -0.75,
          0.25,
          -1,
          -2.25,
          1.75,
          0.6666666666666661,
          0.33333333333333215,
          -2,
          -0.33333333333333215,
          -0.41666666666666785,
          -0.25,
          0.08333333333333215,
          -1.6666666666666643,
          -0.41666666666666785,
          -0.41666666666666785,
          0.33333333333333215,
          0.33333333333333215,
          -0.9166666666666679,
          0.8333333333333321,
          0.5833333333333321,
          -2.333333333333332,
          0.8333333333333339,
          -0.5,
          -0.75,
          0.25,
          -1.3333333333333357,
          -0.25,
          -1.5833333333333357,
          0.25,
          -2.916666666666666,
          -0.75,
          -1.25,
          -0.25,
          -0.25,
          -0.75,
          -0.8333333333333339,
          -1.8333333333333321,
          -1.333333333333334,
          -0.16666666666666607,
          -0.5,
          -0.41666666666666785,
          -0.16666666666666785,
          1.75,
          1,
          -0.5,
          -0.75,
          -0.1666666666666643,
          0.5833333333333357,
          -0.3333333333333339,
          -1.25,
          -0.8333333333333357,
          -0.9166666666666679,
          -0.08333333333333393,
          -2.916666666666668,
          -2.5,
          0.25,
          0.41666666666666785,
          1.5833333333333321,
          -0.4166666666666643,
          -0.5,
          0.25,
          0.8333333333333339,
          -0.4166666666666643,
          0,
          -0.16666666666666785,
          0.16666666666666785,
          0.25,
          1.166666666666666,
          6.416666666666666,
          -0.75,
          -1.25,
          4,
          2.583333333333332,
          0.25,
          1.75,
          -0.25,
          -0.33333333333333215,
          -1.75,
          -1.5,
          0.6666666666666661,
          2,
          1,
          0.8333333333333321,
          0.3333333333333357,
          -2.5,
          -0.6666666666666679,
          0.5833333333333321,
          1.1666666666666643,
          -1.1666666666666679,
          0,
          0.8333333333333357,
          0.5833333333333321,
          -1.75,
          0.8333333333333321,
          -1.75,
          0,
          -1.5,
          -0.5833333333333321,
          0.4166666666666661,
          -1.4166666666666679,
          -1.4166666666666679,
          -0.6666666666666679,
          -0.5,
          0.6666666666666661,
          -1.4166666666666643,
          -2.75,
          -2.3333333333333357,
          -0.5,
          -0.16666666666666785,
          1.666666666666666,
          1.25,
          -0.3333333333333357,
          -1.5833333333333357,
          -1.5833333333333357,
          -0.75,
          0.6666666666666643,
          0.25,
          0.25,
          -0.75,
          0.6666666666666661,
          0.9166666666666661,
          -1.3333333333333321,
          -1.5833333333333321,
          2,
          -2.333333333333332,
          -1.25,
          -1.5,
          -2,
          -0.5,
          -1.6666666666666679,
          -3.333333333333332,
          -1.5,
          0,
          2.75,
          -0.9166666666666643,
          -1.5,
          -3.25,
          -0.08333333333333393,
          0.75,
          0.25,
          -0.75,
          -2.166666666666668,
          -1,
          -1.25,
          -1.4166666666666679,
          0,
          0.75,
          -1.9166666666666679,
          -0.6666666666666679,
          -2,
          -1.4166666666666679,
          -2.083333333333332,
          0.75,
          2.0833333333333357,
          -0.8333333333333321,
          -0.6666666666666679,
          1.333333333333334,
          1.75,
          -2,
          -0.9166666666666679,
          -2,
          -1.6666666666666679,
          -0.0833333333333357,
          -0.8333333333333357,
          -0.16666666666666785,
          -2.166666666666668,
          -1,
          -1.25,
          -2.75,
          -0.0833333333333357,
          -0.5833333333333321,
          0.4166666666666661,
          -0.75,
          -0.8333333333333321,
          -0.25,
          -1.333333333333334,
          -0.16666666666666785,
          -1.1666666666666679,
          0.5,
          0.08333333333333215,
          -1.25,
          -0.8333333333333321,
          -2.083333333333332,
          -0.3333333333333357,
          -2,
          -1.0833333333333321,
          1.0833333333333321,
          0.4166666666666661,
          -0.25,
          0,
          0.08333333333333393,
          -1.166666666666666,
          1.666666666666666,
          1.5,
          -0.25,
          -1.3333333333333321,
          -0.08333333333333393,
          -1.25,
          0.5833333333333321,
          0.5833333333333321,
          2.333333333333334,
          2.5,
          0.5,
          0.5833333333333339,
          -1.8333333333333357,
          -0.41666666666666785,
          -0.9166666666666679,
          0.6666666666666661,
          -0.6666666666666679,
          0.8333333333333339,
          -0.8333333333333357,
          -1.3333333333333321,
          0.25,
          -1.1666666666666679,
          -2.166666666666668,
          0.75,
          0.4166666666666643,
          0.41666666666666785,
          -0.9166666666666679,
          0.75,
          -1.75,
          0.8333333333333339,
          -1.75,
          -0.5833333333333357,
          -0.8333333333333357,
          -1.3333333333333321,
          -0.0833333333333357,
          0.33333333333333215,
          0.3333333333333339,
          -1.0833333333333321,
          -0.16666666666666785,
          -1.8333333333333321,
          0.75,
          -0.08333333333333393,
          0.75,
          2.583333333333332,
          -1.75,
          -2,
          1,
          -0.6666666666666679,
          -0.0833333333333357,
          -1.666666666666666,
          0.08333333333333215,
          0.08333333333333215,
          1.5833333333333321,
          -1.4166666666666643,
          -1.5,
          0.08333333333333215,
          0.08333333333333215,
          -0.5833333333333357,
          -0.5833333333333357,
          -0.16666666666666785,
          0.8333333333333321,
          1,
          0.6666666666666661,
          1.25,
          -0.25,
          0.41666666666666785,
          1.166666666666666,
          0.16666666666666607,
          0.8333333333333321,
          1.083333333333334,
          -0.33333333333333215,
          0.0833333333333357,
          -3.5,
          -3.25,
          -3.25,
          1.25,
          0.5,
          -0.6666666666666679,
          0.5833333333333321,
          -2.4166666666666643,
          -1.4166666666666679,
          -1.4166666666666679,
          -0.75,
          -0.75,
          -1.8333333333333321,
          2.75,
          0.6666666666666661,
          -2.9166666666666643,
          -2.9166666666666643,
          -0.5,
          -1.5,
          -0.41666666666666785,
          -1.0833333333333321,
          -1.5,
          0.5833333333333321,
          -0.25,
          -0.5,
          -2.0833333333333357,
          -1.1666666666666679,
          -0.9166666666666679,
          -0.5833333333333357,
          -0.1666666666666643,
          0.25,
          0.08333333333333215,
          -0.4166666666666661,
          -1.1666666666666643,
          1,
          1.8333333333333321,
          0.75,
          -1.5833333333333357,
          -0.6666666666666643,
          0,
          0.08333333333333393,
          -1.666666666666666,
          -3.333333333333332,
          -0.16666666666666785,
          0.25,
          0.5,
          -0.5,
          -1.25,
          -1.1666666666666679,
          1.25,
          1.25,
          -1.9166666666666679,
          1.416666666666666,
          1.416666666666666,
          -2.333333333333332,
          -3.166666666666668,
          -2,
          -2,
          -2.5833333333333357,
          -0.75,
          0.16666666666666607,
          -1.6666666666666679,
          -2.25,
          -2.9166666666666643,
          -1.25,
          0.5,
          0.5,
          -0.5833333333333321,
          0.5833333333333321,
          0,
          0.16666666666666785,
          0.5833333333333339,
          -2.333333333333332,
          -1.3333333333333357,
          -1.3333333333333321,
          -1.3333333333333357,
          -0.6666666666666679,
          -0.0833333333333357,
          -3,
          -2.3333333333333357,
          -1.6666666666666679,
          -3.5,
          -0.3333333333333357,
          -2.5,
          -0.6666666666666643,
          -1.3333333333333357,
          -2.333333333333332,
          0.5833333333333339,
          -0.9166666666666679,
          1.75,
          1.416666666666666,
          -0.5833333333333339,
          -0.25,
          -0.25,
          -0.75,
          -1.9166666666666643,
          -2.083333333333334,
          -0.75,
          -2.666666666666668,
          -1,
          0.5833333333333321,
          0,
          -1.5833333333333321,
          -2.083333333333332,
          -1.6666666666666679,
          3.083333333333334,
          0.5,
          -0.3333333333333357,
          -0.41666666666666785,
          1,
          -0.41666666666666785,
          2.916666666666666,
          2.916666666666666,
          1.166666666666666,
          -1.25,
          -1.5,
          0.08333333333333215,
          0.08333333333333393,
          -2.166666666666668,
          -0.08333333333333393,
          -1.75,
          -1.1666666666666679,
          -1.1666666666666679,
          -1.4166666666666643,
          -1.3333333333333357,
          3.1666666666666643,
          1.5,
          -0.1666666666666643,
          1.166666666666666,
          0.75,
          0.75,
          -1.5,
          -3,
          -0.9166666666666643,
          -2.4166666666666643,
          -1.25,
          -2.75,
          -1.5,
          0.8333333333333321,
          0,
          -1.25,
          -1.5833333333333357,
          0.08333333333333215,
          -1.0833333333333321,
          0.16666666666666607,
          0.75,
          1.333333333333334,
          -1,
          -0.41666666666666785,
          -2.5,
          -1.8333333333333357,
          -1.8333333333333357,
          1,
          -0.4166666666666661,
          -1.5,
          0.33333333333333215,
          0.6666666666666661,
          -1.5,
          -1.75,
          -3.25,
          -0.75,
          0.75,
          -2.166666666666668,
          -1.75,
          0.16666666666666607,
          -0.41666666666666785,
          2.666666666666666,
          2.666666666666666,
          1.333333333333334,
          0.75,
          0.75,
          -0.6666666666666661,
          -0.5,
          0.8333333333333339,
          1.6666666666666643,
          1.6666666666666643,
          1.75,
          1.166666666666666,
          1.5833333333333321,
          -0.9166666666666679,
          -0.4166666666666643,
          0.08333333333333215,
          -0.16666666666666607,
          -0.3333333333333357,
          -0.75,
          0.08333333333333215,
          -0.5,
          -0.3333333333333357,
          0.08333333333333215,
          1.75,
          0.33333333333333215,
          0.6666666666666661,
          -0.25,
          0.5833333333333321,
          1.5833333333333321,
          0.8333333333333339,
          0.0833333333333357,
          -0.41666666666666785,
          -3.916666666666668,
          -1.75,
          3.25,
          -0.4166666666666643,
          -1.5,
          -0.5833333333333357,
          -1.6666666666666643,
          -1.3333333333333357,
          0.41666666666666785,
          -0.16666666666666785,
          0.4166666666666661,
          0.75,
          3.25,
          1.583333333333334,
          -0.16666666666666607,
          0.9166666666666661,
          -0.33333333333333215,
          -1,
          -0.6666666666666679,
          0.25,
          0.4166666666666661,
          -1.75,
          0.25,
          0.08333333333333215,
          1.166666666666666,
          2.166666666666666,
          2.416666666666666,
          -0.08333333333333393,
          1.916666666666666,
          -1.1666666666666679,
          0.5,
          0.6666666666666661,
          1,
          1.416666666666666,
          -0.5,
          -1.25,
          -2,
          -2.166666666666668,
          1.166666666666666,
          -2,
          -2.4166666666666643,
          1.3333333333333321,
          -1.4166666666666643,
          -1.25,
          -2.25,
          -3.833333333333332,
          -0.3333333333333357,
          -1.75,
          -2.25,
          -0.08333333333333393,
          0.08333333333333215,
          -0.8333333333333339,
          0.3333333333333339,
          -0.16666666666666607,
          -0.0833333333333357,
          -1.3333333333333357,
          -3.4166666666666643,
          -1.6666666666666679,
          -0.0833333333333357,
          -1.5833333333333321,
          -0.8333333333333321,
          -0.0833333333333357,
          -1.3333333333333321,
          1.3333333333333321,
          1.75,
          1.916666666666666,
          -2.166666666666668,
          -1.25,
          3.5,
          2.5,
          -1.5833333333333357,
          -1.0833333333333357,
          -3.0833333333333357,
          0.9166666666666679,
          -0.25,
          -2.25,
          -1.0833333333333321,
          -0.8333333333333357,
          -2.833333333333332,
          0,
          1.416666666666666,
          -0.08333333333333393,
          -1.4166666666666679,
          1.416666666666666,
          -0.9166666666666643,
          -0.9166666666666679,
          0.8333333333333339,
          0.5,
          -0.9166666666666679,
          0.08333333333333393,
          0.08333333333333393,
          0.08333333333333393,
          0.08333333333333393,
          0.08333333333333393,
          0.08333333333333393,
          0.08333333333333393,
          -0.25,
          3.833333333333332,
          0.6666666666666661,
          1.3333333333333321,
          0.6666666666666661,
          -0.41666666666666785,
          -0.08333333333333215,
          0.8333333333333321,
          1.5833333333333321,
          -0.9166666666666643,
          1.166666666666666,
          -1.5,
          1.666666666666666,
          1.0833333333333321,
          -0.25,
          -1.1666666666666679,
          -2.25,
          -1.5833333333333321,
          -2.3333333333333357,
          -1.8333333333333357,
          0.6666666666666661,
          1.583333333333334,
          -3.75,
          1,
          -0.8333333333333321,
          1.166666666666666,
          0.41666666666666785,
          -3.75,
          -0.75,
          -12.333333333333336,
          -0.25,
          -3,
          1.0833333333333321,
          -0.5833333333333339,
          -2.333333333333332,
          2.583333333333332,
          -0.0833333333333357,
          -1.25,
          0.5,
          2.083333333333334,
          2.083333333333334,
          0.08333333333333215,
          -1.6666666666666679,
          0,
          1.166666666666666,
          1.416666666666666,
          -0.08333333333333393,
          -1,
          0.75,
          1.166666666666666,
          -1.75,
          1,
          -2.5833333333333357,
          0.33333333333333215,
          0.16666666666666607,
          0.9166666666666661,
          0.41666666666666785,
          1.5,
          -1.1666666666666679,
          -1.0833333333333321,
          -1.3333333333333357,
          0.5,
          1.166666666666666,
          -0.08333333333333393,
          -0.8333333333333321,
          -1.083333333333334,
          -2.833333333333332,
          1.25,
          0.8333333333333339,
          0.3333333333333357,
          0.75,
          -0.6666666666666643,
          -1.25,
          -0.9166666666666643,
          -0.4166666666666661,
          0.8333333333333339,
          -3,
          0.9166666666666661,
          -0.9166666666666679,
          0,
          -1.5833333333333321,
          -0.25,
          -2.4166666666666643,
          1.5833333333333321,
          -0.8333333333333321,
          0.1666666666666643,
          -0.0833333333333357,
          -1.0833333333333357,
          -1.0833333333333357,
          -2.166666666666668,
          0,
          -0.41666666666666785,
          1,
          0.08333333333333215,
          0.25,
          -0.9166666666666679,
          -1.1666666666666679,
          0.5,
          1.3333333333333321,
          -0.9166666666666679,
          1,
          2,
          -1.9166666666666679,
          -0.75,
          -1.75,
          -1.5833333333333357,
          0.6666666666666661,
          -0.25,
          -0.25,
          0.6666666666666679,
          -0.3333333333333357,
          1.75,
          -0.4166666666666643,
          0.16666666666666785,
          -1.1666666666666643,
          -0.25,
          -0.08333333333333215,
          -1.9166666666666643,
          0.33333333333333215,
          -2,
          -1.5833333333333357,
          1.666666666666666,
          1.0833333333333321,
          2.083333333333334,
          1.25,
          -0.1666666666666643,
          -1.5833333333333357,
          1.5833333333333321,
          0.25,
          -0.25,
          2.166666666666666,
          -1.6666666666666679,
          0.5833333333333321,
          -0.9166666666666643,
          0.4166666666666661,
          0,
          1.8333333333333321,
          0.9166666666666661,
          -2.916666666666668,
          0.4166666666666643,
          -1.6666666666666643,
          0.3333333333333339,
          1.166666666666666,
          -0.25,
          -2.416666666666668,
          0.08333333333333215,
          -0.8333333333333357,
          -0.41666666666666785,
          -0.4166666666666661,
          -0.6666666666666679,
          -0.5,
          0.5,
          -0.3333333333333339,
          -0.9166666666666661,
          0.8333333333333339,
          0.8333333333333321,
          -2.75,
          -0.16666666666666785,
          0.9166666666666661,
          -0.75,
          1.1666666666666643,
          0.33333333333333215,
          0,
          -1.5833333333333357,
          -1.5833333333333357,
          -0.5833333333333339,
          -0.0833333333333357,
          0.08333333333333215,
          0.5833333333333321,
          0.8333333333333321,
          0.25,
          3,
          0.6666666666666661,
          0.4166666666666643,
          -2.083333333333332,
          -0.75,
          -0.5,
          1.5,
          1.833333333333334,
          1.1666666666666679,
          -0.3333333333333357,
          0.0833333333333357,
          -2.5,
          0.9166666666666661,
          -3,
          0.16666666666666785,
          -0.41666666666666785,
          0.6666666666666661,
          -1.6666666666666643,
          0.5833333333333321,
          -1.5,
          -0.41666666666666785,
          -1.6666666666666643,
          -0.3333333333333357,
          -2.4166666666666643,
          0.25,
          0.08333333333333393,
          1.916666666666666,
          -1.166666666666666,
          0.25,
          -1.75,
          -1.5,
          0.16666666666666607,
          -0.8333333333333357,
          -0.25,
          1.416666666666666,
          -1.5,
          1.583333333333334,
          -0.41666666666666785,
          0.9166666666666643,
          0.8333333333333339,
          0.3333333333333339,
          -0.6666666666666679,
          -1.5833333333333357,
          2.583333333333332,
          1.25,
          1.25,
          -2.25,
          -0.75,
          -3.25,
          -2.916666666666668,
          -0.75,
          -0.25,
          1,
          -0.33333333333333215,
          0.5833333333333339,
          -0.41666666666666785,
          -0.75,
          -0.41666666666666785,
          1.5833333333333321,
          3.25,
          -0.08333333333333215,
          0.5833333333333321,
          1.25,
          -0.25,
          -0.08333333333333215,
          0,
          -2.75,
          -0.6666666666666679,
          -0.6666666666666679,
          -0.3333333333333357,
          -0.3333333333333357,
          -1.25,
          0.6666666666666661,
          -0.33333333333333215,
          0.5,
          -1.3333333333333321,
          1.916666666666666,
          0.08333333333333215,
          1.0833333333333321,
          -1.3333333333333321,
          1.916666666666666,
          -0.6666666666666643,
          -0.6666666666666643,
          -2.083333333333332,
          1,
          0.5,
          -0.08333333333333215,
          0.5833333333333339,
          -0.5,
          -0.08333333333333215,
          -1.5833333333333321,
          0.25,
          -0.8333333333333357,
          0.16666666666666785,
          -2.3333333333333357,
          2,
          0.4166666666666661,
          0.33333333333333215,
          -0.9166666666666679,
          1.583333333333334,
          -0.41666666666666785,
          -0.5,
          1.25,
          -0.8333333333333357,
          -1.1666666666666679,
          0,
          0.1666666666666643,
          0,
          1.5,
          0.33333333333333215,
          1.583333333333334,
          -1.3333333333333321,
          -1.9166666666666679,
          0.0833333333333357,
          -0.1666666666666643,
          -3.166666666666668,
          -1.3333333333333357,
          0.16666666666666607,
          -1,
          0.25,
          1.5833333333333321,
          1.4166666666666643,
          1.1666666666666679,
          0.16666666666666607,
          0.9166666666666643,
          2.25,
          1.416666666666666,
          1.416666666666666,
          1.416666666666666,
          0.5833333333333339,
          1.416666666666666,
          -0.5833333333333339,
          2.916666666666666,
          -2.416666666666668,
          -1.0833333333333321,
          0.08333333333333215,
          0.16666666666666607,
          -1,
          3.916666666666666,
          0.5833333333333321,
          0.8333333333333357,
          -1.0833333333333357,
          0.75,
          -0.3333333333333339,
          1.416666666666666,
          -0.25,
          -1.5,
          -0.1666666666666643,
          -0.1666666666666643,
          -0.16666666666666785,
          0.5,
          -0.5833333333333357,
          -1.5,
          -1.0833333333333321,
          -1.25,
          -1.1666666666666679,
          -0.16666666666666785,
          0.5833333333333321,
          0.8333333333333339,
          0.8333333333333339,
          2.9166666666666643,
          1.5,
          -0.5,
          0.9166666666666661,
          -0.16666666666666785,
          -0.41666666666666785,
          0.5,
          0.5833333333333339,
          0.8333333333333321,
          0,
          0.75,
          -1.3333333333333321,
          -0.5833333333333339,
          -0.16666666666666785,
          2.833333333333334,
          -0.41666666666666785,
          0.75,
          -0.9166666666666679,
          0.75,
          -0.4166666666666643,
          0.75,
          1,
          -0.25,
          -0.25,
          -1.25,
          -0.25,
          -0.25,
          -0.25,
          1.083333333333334,
          0.41666666666666785,
          0.08333333333333215,
          -0.8333333333333321,
          -0.8333333333333321,
          0.41666666666666785,
          0.08333333333333215,
          0.9166666666666661,
          0.5833333333333339,
          0.25,
          -1,
          -0.8333333333333321,
          -0.8333333333333321,
          0.4166666666666661,
          -1.6666666666666643,
          0.8333333333333321,
          0.8333333333333321,
          0.8333333333333339,
          0.5,
          -1.5833333333333357,
          -0.5833333333333357,
          0.3333333333333339,
          -1.4166666666666679,
          -0.75,
          -3.25,
          0.9166666666666643,
          0.33333333333333215,
          -1,
          0,
          1.5,
          0.33333333333333215,
          -0.5,
          -2,
          0.33333333333333215,
          -1.5833333333333321,
          -1,
          -2,
          -3.75,
          -3,
          -0.5,
          -1.0833333333333357,
          -1.25,
          0,
          -1.25,
          -1.4166666666666679,
          0.75,
          -0.75,
          -1.0833333333333321,
          -0.33333333333333215,
          0.75,
          -1.3333333333333321,
          -0.9166666666666679,
          0.08333333333333215,
          -2.666666666666668,
          0.25,
          0.25,
          0.08333333333333215,
          1,
          1.25,
          1.583333333333334,
          -0.08333333333333215,
          0.6666666666666679,
          -1.333333333333334,
          -1.4166666666666643,
          1.75,
          1.75,
          -0.41666666666666785,
          -2.583333333333332,
          -2.583333333333332,
          0.25,
          -1,
          1.25,
          -0.8333333333333357,
          -1.3333333333333321,
          -0.75,
          -1.8333333333333321,
          -0.4166666666666661,
          0.5,
          0.5,
          -0.3333333333333339,
          1,
          1.5,
          -0.25,
          0.9166666666666679,
          0.25,
          0,
          2.083333333333334,
          -1.25,
          -0.25,
          -0.25,
          0,
          0,
          -0.5,
          0.8333333333333321,
          1.25,
          0.25,
          -2.333333333333332,
          1.666666666666666,
          -0.3333333333333339,
          0.33333333333333215,
          1,
          -0.9166666666666661,
          -1.5,
          1.25,
          1.25,
          -0.25,
          0.4166666666666643,
          -0.25,
          1.5,
          0.9166666666666661,
          2.25,
          0.25,
          0.75,
          -0.75,
          0.5833333333333321,
          -0.5,
          -0.6666666666666679,
          -0.8333333333333357,
          -0.9166666666666679,
          -0.8333333333333339,
          -1.8333333333333321,
          -1.0833333333333321,
          -0.5,
          0.75,
          0.9166666666666661,
          -1.9166666666666679,
          1.5833333333333321,
          -1.416666666666666,
          1.25,
          -3.333333333333332,
          -0.6666666666666661,
          0.4166666666666643,
          -2,
          -0.8333333333333357,
          -1.0833333333333357,
          -1.25,
          -0.0833333333333357,
          0.3333333333333339,
          -3.3333333333333357,
          -1.5,
          -1.5,
          1,
          -0.5,
          -1.5833333333333357,
          0.08333333333333215,
          -1,
          -2.8333333333333357,
          -0.4166666666666661,
          -0.5833333333333357,
          0.4166666666666661,
          1,
          -0.41666666666666785,
          -0.3333333333333357,
          -2,
          -0.6666666666666643,
          -1.5,
          0.5,
          0.08333333333333393,
          1.416666666666666,
          -0.9166666666666679,
          -0.08333333333333393,
          0,
          -0.6666666666666679,
          -1.0833333333333321,
          -0.25,
          1.083333333333334,
          -2,
          -0.8333333333333339,
          0.9166666666666661,
          -0.5,
          -1.5,
          -0.8333333333333321,
          2.166666666666666,
          -3.0833333333333357,
          0.0833333333333286,
          0,
          1,
          1.75,
          0.6666666666666643,
          1.25,
          1.416666666666666,
          2.083333333333334,
          -0.5,
          0.75,
          0.8333333333333321,
          -0.75,
          0.5,
          -2.25,
          -0.5833333333333339,
          0.8333333333333321,
          -1.333333333333334,
          -0.9166666666666661,
          0.16666666666666607,
          1.666666666666666,
          -0.08333333333333393,
          2.9166666666666643,
          -0.16666666666666785,
          0.25,
          -0.25,
          -1.25,
          -0.16666666666666785,
          2.416666666666666,
          -1.4166666666666679,
          -0.08333333333333393,
          0.25,
          -1.9166666666666643,
          0.5,
          -2.8333333333333357,
          -1.6666666666666679,
          -1.9166666666666643,
          -1.6666666666666679,
          -1.4166666666666679,
          -0.6666666666666661,
          -3.25,
          0.9166666666666679,
          3,
          1.583333333333334,
          0.16666666666666785,
          2.583333333333334,
          -3.083333333333332,
          -1.5833333333333357,
          -0.75,
          -2.416666666666668,
          1.333333333333334,
          0.41666666666666785,
          -2.8333333333333357,
          0.16666666666666607,
          1.416666666666666,
          -0.75,
          -1,
          -0.75,
          -0.5,
          -0.3333333333333339,
          -1,
          1.5,
          -0.6666666666666679,
          -1.5,
          1.0833333333333321,
          1.416666666666666,
          0.6666666666666661,
          0.6666666666666679,
          -0.5833333333333321,
          0.5833333333333321,
          -0.25,
          0.16666666666666607,
          -3.916666666666668,
          -3,
          -0.41666666666666785,
          1.5,
          -2.5,
          -0.5,
          -1.6666666666666679,
          -0.8333333333333357,
          1.583333333333334,
          -0.33333333333333215,
          -0.6666666666666679,
          -0.4166666666666661,
          0.16666666666666607,
          -0.5,
          -1.75,
          -2.5,
          -0.1666666666666643,
          -0.5,
          -0.16666666666666785,
          2.666666666666666,
          0.16666666666666607,
          -1,
          -0.25,
          -1.5833333333333321,
          -1.5833333333333357,
          -0.6666666666666643,
          -0.6666666666666643,
          -0.75,
          -0.75,
          -1.3333333333333321,
          0.8333333333333321,
          0.5,
          -1,
          0.5,
          0.25,
          0.5,
          0.5833333333333339,
          -0.8333333333333357,
          -0.9166666666666679,
          -4.583333333333336,
          0.3333333333333339,
          -0.08333333333333393,
          1.0833333333333321,
          -0.08333333333333393,
          -0.08333333333333393,
          -0.6666666666666661,
          -0.6666666666666679,
          -1.5,
          -0.08333333333333393,
          0.5833333333333321,
          0.8333333333333357,
          0.25,
          1.083333333333334,
          -0.0833333333333357,
          1.083333333333334,
          1.25,
          -1.1666666666666679,
          -1.5833333333333321,
          0.08333333333333215,
          -0.8333333333333357,
          -3.333333333333332,
          0.33333333333333215,
          -0.08333333333333393,
          -0.75,
          2.1666666666666643,
          -0.08333333333333215,
          1.0833333333333321,
          -0.75,
          0.6666666666666661,
          0.4166666666666661,
          1.5,
          0,
          0.8333333333333321,
          0,
          -1,
          -1.25,
          0.33333333333333215,
          0.75,
          0.75,
          -2,
          0.4166666666666661,
          0.3333333333333339,
          -0.25,
          1.75,
          0.5,
          -0.25,
          0.8333333333333321,
          -1,
          1.3333333333333321,
          -1,
          0.16666666666666607,
          -1.0833333333333321,
          2.083333333333334,
          -0.41666666666666785,
          2.583333333333334,
          -0.5833333333333321,
          -0.6666666666666679,
          -3.25,
          -0.25,
          -2.833333333333332,
          -0.6666666666666679,
          -0.08333333333333393,
          0.4166666666666643,
          0.3333333333333357,
          -1.5,
          1.0833333333333321,
          0.5,
          0.5,
          -1.3333333333333321,
          1.083333333333334,
          0.6666666666666661,
          2.25,
          1.833333333333334,
          1.166666666666666,
          1.583333333333334,
          1.75,
          1.416666666666666,
          0.08333333333333215,
          1.4166666666666679,
          -2.25,
          -1.25,
          -1.4166666666666643,
          -1.9166666666666679,
          0,
          4.583333333333332,
          -0.5,
          0.8333333333333321,
          -1.9166666666666643,
          0.25,
          1.5,
          1.25,
          0.9166666666666679,
          1.3333333333333321,
          0.5,
          0.08333333333333215,
          0.5,
          0.8333333333333321,
          0.4166666666666661,
          -0.5,
          0.4166666666666661,
          0.6666666666666661,
          -1.6666666666666679,
          0.6666666666666661,
          0.4166666666666661,
          -0.5,
          0.16666666666666607,
          0.9166666666666661,
          -1.3333333333333321,
          1.25,
          -0.5833333333333321,
          0.75,
          -0.41666666666666785,
          0.5833333333333321,
          -1.75,
          -0.3333333333333339,
          -0.5,
          0.08333333333333215,
          2.5,
          -1.8333333333333357,
          -0.5833333333333357,
          -0.5833333333333357,
          -1.5833333333333357,
          3.083333333333334,
          0,
          0.5,
          1.5,
          0.5,
          -0.08333333333333215,
          1.166666666666666,
          1.0833333333333321,
          0.9166666666666643,
          -1.416666666666666,
          2,
          2,
          2,
          1.4166666666666679,
          1.3333333333333321,
          1.5,
          1.916666666666666,
          0,
          -1.0833333333333357,
          -0.25,
          1.666666666666666,
          0.6666666666666643,
          -1.3333333333333321,
          0.25,
          -1.4166666666666679,
          0.33333333333333215,
          -0.25,
          1,
          1.083333333333334,
          0.0833333333333357,
          0.0833333333333357
         ],
         "xbins": {
          "end": 6.25,
          "size": 0.5,
          "start": -6.25
         }
        }
       ],
       "layout": {
        "height": 450,
        "legend": {
         "orientation": "v",
         "tracegroupgap": 0,
         "x": 0,
         "xanchor": "left",
         "y": 1,
         "yanchor": "top"
        },
        "margin": {
         "b": 55,
         "l": 60,
         "pad": 4,
         "r": 25,
         "t": 20
        },
        "template": {
         "layout": {
          "autosize": false,
          "font": {
           "family": "sans-serif",
           "size": 14
          },
          "hoverlabel": {
           "align": "left"
          },
          "hovermode": "closest",
          "margin": {
           "b": 55,
           "l": 60,
           "pad": 4,
           "r": 25,
           "t": 20
          },
          "template": {
           "data": {
            "bar": [
             {
              "error_x": {
               "color": "#2a3f5f"
              },
              "error_y": {
               "color": "#2a3f5f"
              },
              "marker": {
               "line": {
                "color": "white",
                "width": 0.5
               },
               "pattern": {
                "fillmode": "overlay",
                "size": 10,
                "solidity": 0.2
               }
              },
              "type": "bar"
             }
            ],
            "barpolar": [
             {
              "marker": {
               "line": {
                "color": "white",
                "width": 0.5
               },
               "pattern": {
                "fillmode": "overlay",
                "size": 10,
                "solidity": 0.2
               }
              },
              "type": "barpolar"
             }
            ],
            "carpet": [
             {
              "aaxis": {
               "endlinecolor": "#2a3f5f",
               "gridcolor": "#C8D4E3",
               "linecolor": "#C8D4E3",
               "minorgridcolor": "#C8D4E3",
               "startlinecolor": "#2a3f5f"
              },
              "baxis": {
               "endlinecolor": "#2a3f5f",
               "gridcolor": "#C8D4E3",
               "linecolor": "#C8D4E3",
               "minorgridcolor": "#C8D4E3",
               "startlinecolor": "#2a3f5f"
              },
              "type": "carpet"
             }
            ],
            "choropleth": [
             {
              "colorbar": {
               "outlinewidth": 0,
               "ticks": ""
              },
              "type": "choropleth"
             }
            ],
            "contour": [
             {
              "colorbar": {
               "outlinewidth": 0,
               "ticks": ""
              },
              "colorscale": [
               [
                0,
                "#0d0887"
               ],
               [
                0.1111111111111111,
                "#46039f"
               ],
               [
                0.2222222222222222,
                "#7201a8"
               ],
               [
                0.3333333333333333,
                "#9c179e"
               ],
               [
                0.4444444444444444,
                "#bd3786"
               ],
               [
                0.5555555555555556,
                "#d8576b"
               ],
               [
                0.6666666666666666,
                "#ed7953"
               ],
               [
                0.7777777777777778,
                "#fb9f3a"
               ],
               [
                0.8888888888888888,
                "#fdca26"
               ],
               [
                1,
                "#f0f921"
               ]
              ],
              "type": "contour"
             }
            ],
            "contourcarpet": [
             {
              "colorbar": {
               "outlinewidth": 0,
               "ticks": ""
              },
              "type": "contourcarpet"
             }
            ],
            "heatmap": [
             {
              "colorbar": {
               "outlinewidth": 0,
               "ticks": ""
              },
              "colorscale": [
               [
                0,
                "#0d0887"
               ],
               [
                0.1111111111111111,
                "#46039f"
               ],
               [
                0.2222222222222222,
                "#7201a8"
               ],
               [
                0.3333333333333333,
                "#9c179e"
               ],
               [
                0.4444444444444444,
                "#bd3786"
               ],
               [
                0.5555555555555556,
                "#d8576b"
               ],
               [
                0.6666666666666666,
                "#ed7953"
               ],
               [
                0.7777777777777778,
                "#fb9f3a"
               ],
               [
                0.8888888888888888,
                "#fdca26"
               ],
               [
                1,
                "#f0f921"
               ]
              ],
              "type": "heatmap"
             }
            ],
            "heatmapgl": [
             {
              "colorbar": {
               "outlinewidth": 0,
               "ticks": ""
              },
              "colorscale": [
               [
                0,
                "#0d0887"
               ],
               [
                0.1111111111111111,
                "#46039f"
               ],
               [
                0.2222222222222222,
                "#7201a8"
               ],
               [
                0.3333333333333333,
                "#9c179e"
               ],
               [
                0.4444444444444444,
                "#bd3786"
               ],
               [
                0.5555555555555556,
                "#d8576b"
               ],
               [
                0.6666666666666666,
                "#ed7953"
               ],
               [
                0.7777777777777778,
                "#fb9f3a"
               ],
               [
                0.8888888888888888,
                "#fdca26"
               ],
               [
                1,
                "#f0f921"
               ]
              ],
              "type": "heatmapgl"
             }
            ],
            "histogram": [
             {
              "marker": {
               "pattern": {
                "fillmode": "overlay",
                "size": 10,
                "solidity": 0.2
               }
              },
              "type": "histogram"
             }
            ],
            "histogram2d": [
             {
              "colorbar": {
               "outlinewidth": 0,
               "ticks": ""
              },
              "colorscale": [
               [
                0,
                "#0d0887"
               ],
               [
                0.1111111111111111,
                "#46039f"
               ],
               [
                0.2222222222222222,
                "#7201a8"
               ],
               [
                0.3333333333333333,
                "#9c179e"
               ],
               [
                0.4444444444444444,
                "#bd3786"
               ],
               [
                0.5555555555555556,
                "#d8576b"
               ],
               [
                0.6666666666666666,
                "#ed7953"
               ],
               [
                0.7777777777777778,
                "#fb9f3a"
               ],
               [
                0.8888888888888888,
                "#fdca26"
               ],
               [
                1,
                "#f0f921"
               ]
              ],
              "type": "histogram2d"
             }
            ],
            "histogram2dcontour": [
             {
              "colorbar": {
               "outlinewidth": 0,
               "ticks": ""
              },
              "colorscale": [
               [
                0,
                "#0d0887"
               ],
               [
                0.1111111111111111,
                "#46039f"
               ],
               [
                0.2222222222222222,
                "#7201a8"
               ],
               [
                0.3333333333333333,
                "#9c179e"
               ],
               [
                0.4444444444444444,
                "#bd3786"
               ],
               [
                0.5555555555555556,
                "#d8576b"
               ],
               [
                0.6666666666666666,
                "#ed7953"
               ],
               [
                0.7777777777777778,
                "#fb9f3a"
               ],
               [
                0.8888888888888888,
                "#fdca26"
               ],
               [
                1,
                "#f0f921"
               ]
              ],
              "type": "histogram2dcontour"
             }
            ],
            "mesh3d": [
             {
              "colorbar": {
               "outlinewidth": 0,
               "ticks": ""
              },
              "type": "mesh3d"
             }
            ],
            "parcoords": [
             {
              "line": {
               "colorbar": {
                "outlinewidth": 0,
                "ticks": ""
               }
              },
              "type": "parcoords"
             }
            ],
            "pie": [
             {
              "automargin": true,
              "type": "pie"
             }
            ],
            "scatter": [
             {
              "fillpattern": {
               "fillmode": "overlay",
               "size": 10,
               "solidity": 0.2
              },
              "type": "scatter"
             }
            ],
            "scatter3d": [
             {
              "line": {
               "colorbar": {
                "outlinewidth": 0,
                "ticks": ""
               }
              },
              "marker": {
               "colorbar": {
                "outlinewidth": 0,
                "ticks": ""
               }
              },
              "type": "scatter3d"
             }
            ],
            "scattercarpet": [
             {
              "marker": {
               "colorbar": {
                "outlinewidth": 0,
                "ticks": ""
               }
              },
              "type": "scattercarpet"
             }
            ],
            "scattergeo": [
             {
              "marker": {
               "colorbar": {
                "outlinewidth": 0,
                "ticks": ""
               }
              },
              "type": "scattergeo"
             }
            ],
            "scattergl": [
             {
              "marker": {
               "colorbar": {
                "outlinewidth": 0,
                "ticks": ""
               }
              },
              "type": "scattergl"
             }
            ],
            "scattermapbox": [
             {
              "marker": {
               "colorbar": {
                "outlinewidth": 0,
                "ticks": ""
               }
              },
              "type": "scattermapbox"
             }
            ],
            "scatterpolar": [
             {
              "marker": {
               "colorbar": {
                "outlinewidth": 0,
                "ticks": ""
               }
              },
              "type": "scatterpolar"
             }
            ],
            "scatterpolargl": [
             {
              "marker": {
               "colorbar": {
                "outlinewidth": 0,
                "ticks": ""
               }
              },
              "type": "scatterpolargl"
             }
            ],
            "scatterternary": [
             {
              "marker": {
               "colorbar": {
                "outlinewidth": 0,
                "ticks": ""
               }
              },
              "type": "scatterternary"
             }
            ],
            "surface": [
             {
              "colorbar": {
               "outlinewidth": 0,
               "ticks": ""
              },
              "colorscale": [
               [
                0,
                "#0d0887"
               ],
               [
                0.1111111111111111,
                "#46039f"
               ],
               [
                0.2222222222222222,
                "#7201a8"
               ],
               [
                0.3333333333333333,
                "#9c179e"
               ],
               [
                0.4444444444444444,
                "#bd3786"
               ],
               [
                0.5555555555555556,
                "#d8576b"
               ],
               [
                0.6666666666666666,
                "#ed7953"
               ],
               [
                0.7777777777777778,
                "#fb9f3a"
               ],
               [
                0.8888888888888888,
                "#fdca26"
               ],
               [
                1,
                "#f0f921"
               ]
              ],
              "type": "surface"
             }
            ],
            "table": [
             {
              "cells": {
               "fill": {
                "color": "#EBF0F8"
               },
               "line": {
                "color": "white"
               }
              },
              "header": {
               "fill": {
                "color": "#C8D4E3"
               },
               "line": {
                "color": "white"
               }
              },
              "type": "table"
             }
            ]
           },
           "layout": {
            "annotationdefaults": {
             "arrowcolor": "#2a3f5f",
             "arrowhead": 0,
             "arrowwidth": 1
            },
            "autotypenumbers": "strict",
            "coloraxis": {
             "colorbar": {
              "outlinewidth": 0,
              "ticks": ""
             }
            },
            "colorscale": {
             "diverging": [
              [
               0,
               "#8e0152"
              ],
              [
               0.1,
               "#c51b7d"
              ],
              [
               0.2,
               "#de77ae"
              ],
              [
               0.3,
               "#f1b6da"
              ],
              [
               0.4,
               "#fde0ef"
              ],
              [
               0.5,
               "#f7f7f7"
              ],
              [
               0.6,
               "#e6f5d0"
              ],
              [
               0.7,
               "#b8e186"
              ],
              [
               0.8,
               "#7fbc41"
              ],
              [
               0.9,
               "#4d9221"
              ],
              [
               1,
               "#276419"
              ]
             ],
             "sequential": [
              [
               0,
               "#0d0887"
              ],
              [
               0.1111111111111111,
               "#46039f"
              ],
              [
               0.2222222222222222,
               "#7201a8"
              ],
              [
               0.3333333333333333,
               "#9c179e"
              ],
              [
               0.4444444444444444,
               "#bd3786"
              ],
              [
               0.5555555555555556,
               "#d8576b"
              ],
              [
               0.6666666666666666,
               "#ed7953"
              ],
              [
               0.7777777777777778,
               "#fb9f3a"
              ],
              [
               0.8888888888888888,
               "#fdca26"
              ],
              [
               1,
               "#f0f921"
              ]
             ],
             "sequentialminus": [
              [
               0,
               "#0d0887"
              ],
              [
               0.1111111111111111,
               "#46039f"
              ],
              [
               0.2222222222222222,
               "#7201a8"
              ],
              [
               0.3333333333333333,
               "#9c179e"
              ],
              [
               0.4444444444444444,
               "#bd3786"
              ],
              [
               0.5555555555555556,
               "#d8576b"
              ],
              [
               0.6666666666666666,
               "#ed7953"
              ],
              [
               0.7777777777777778,
               "#fb9f3a"
              ],
              [
               0.8888888888888888,
               "#fdca26"
              ],
              [
               1,
               "#f0f921"
              ]
             ]
            },
            "colorway": [
             "#636efa",
             "#EF553B",
             "#00cc96",
             "#ab63fa",
             "#FFA15A",
             "#19d3f3",
             "#FF6692",
             "#B6E880",
             "#FF97FF",
             "#FECB52"
            ],
            "font": {
             "color": "#2a3f5f"
            },
            "geo": {
             "bgcolor": "white",
             "lakecolor": "white",
             "landcolor": "white",
             "showlakes": true,
             "showland": true,
             "subunitcolor": "#C8D4E3"
            },
            "hoverlabel": {
             "align": "left"
            },
            "hovermode": "closest",
            "mapbox": {
             "style": "light"
            },
            "paper_bgcolor": "white",
            "plot_bgcolor": "white",
            "polar": {
             "angularaxis": {
              "gridcolor": "#EBF0F8",
              "linecolor": "#EBF0F8",
              "ticks": ""
             },
             "bgcolor": "white",
             "radialaxis": {
              "gridcolor": "#EBF0F8",
              "linecolor": "#EBF0F8",
              "ticks": ""
             }
            },
            "scene": {
             "xaxis": {
              "backgroundcolor": "white",
              "gridcolor": "#DFE8F3",
              "gridwidth": 2,
              "linecolor": "#EBF0F8",
              "showbackground": true,
              "ticks": "",
              "zerolinecolor": "#EBF0F8"
             },
             "yaxis": {
              "backgroundcolor": "white",
              "gridcolor": "#DFE8F3",
              "gridwidth": 2,
              "linecolor": "#EBF0F8",
              "showbackground": true,
              "ticks": "",
              "zerolinecolor": "#EBF0F8"
             },
             "zaxis": {
              "backgroundcolor": "white",
              "gridcolor": "#DFE8F3",
              "gridwidth": 2,
              "linecolor": "#EBF0F8",
              "showbackground": true,
              "ticks": "",
              "zerolinecolor": "#EBF0F8"
             }
            },
            "shapedefaults": {
             "line": {
              "color": "#2a3f5f"
             }
            },
            "ternary": {
             "aaxis": {
              "gridcolor": "#DFE8F3",
              "linecolor": "#A2B1C6",
              "ticks": ""
             },
             "baxis": {
              "gridcolor": "#DFE8F3",
              "linecolor": "#A2B1C6",
              "ticks": ""
             },
             "bgcolor": "white",
             "caxis": {
              "gridcolor": "#DFE8F3",
              "linecolor": "#A2B1C6",
              "ticks": ""
             }
            },
            "title": {
             "x": 0.05
            },
            "xaxis": {
             "automargin": true,
             "gridcolor": "#EBF0F8",
             "linecolor": "#EBF0F8",
             "ticks": "",
             "title": {
              "standoff": 15
             },
             "zerolinecolor": "#EBF0F8",
             "zerolinewidth": 2
            },
            "yaxis": {
             "automargin": true,
             "gridcolor": "#EBF0F8",
             "linecolor": "#EBF0F8",
             "ticks": "",
             "title": {
              "standoff": 15
             },
             "zerolinecolor": "#EBF0F8",
             "zerolinewidth": 2
            }
           }
          },
          "xaxis": {
           "automargin": false,
           "linecolor": "#444",
           "linewidth": 2,
           "minor": {
            "tickmode": "linear",
            "ticks": "outside"
           },
           "mirror": true,
           "showline": true,
           "tickmode": "linear",
           "ticks": "outside",
           "zeroline": false
          },
          "yaxis": {
           "automargin": true,
           "linecolor": "#444",
           "linewidth": 2,
           "minor": {
            "tickmode": "linear",
            "ticks": "outside"
           },
           "mirror": true,
           "showline": true,
           "ticks": "outside",
           "zeroline": false
          }
         }
        },
        "width": 600,
        "xaxis": {
         "dtick": 2,
         "minor": {
          "dtick": 1,
          "tick0": 0
         },
         "range": [
          -6,
          6
         ],
         "tick0": 0,
         "title": {
          "text": "eAC - adj AC"
         }
        },
        "yaxis": {
         "dtick": 4,
         "minor": {
          "dtick": 1,
          "tick0": 0
         },
         "range": [
          0,
          20
         ],
         "tick0": 0,
         "title": {
          "text": "count"
         }
        }
       }
      }
     },
     "metadata": {},
     "output_type": "display_data"
    }
   ],
   "source": [
    "# Compares eAC against the DMG's adjusted AC\n",
    "columns = ['eAC - adj AC']\n",
    "colors = ['#d62728','#9467bd','#8c564b','#1f77b4','#2ca02c','#ff7f0e','gray','black']\n",
    "\n",
    "df1 = pd.read_csv('../../assets/data/monsters.csv')\n",
    "df1 = df1[df1['Category'].isin(['generic','legendary','unique']) & df1['CR'].between(1, 30)]\n",
    "\n",
    "def count_save_proficiencies(row):\n",
    "    return row['Str Prof'] + row['Dex Prof'] + row['Con Prof'] + row['Int Prof'] + row['Wis Prof'] + row['Cha Prof']\n",
    "\n",
    "def effective_armor_class(row):\n",
    "    AC0 = 12\n",
    "    SB0 = -2\n",
    "    dpru = [0.5, 1/12, 1/12, 1/12, 1/12, 1/12, 1/12]\n",
    "    ACp = [row['unadj AC'] - AC0,\n",
    "           row['Str Save'] - SB0, row['Dex Save'] - SB0, row['Con Save'] - SB0, \n",
    "           row['Int Save'] - SB0, row['Wis Save'] - SB0, row['Cha Save'] - SB0]\n",
    "    return np.dot(dpru, ACp) + AC0\n",
    "\n",
    "def unadjusted_armor_class(row):\n",
    "    ac = row['adj AC']\n",
    "    ac -= 2 if 'magic resistance' in row['AC adjustments'] else 0\n",
    "    match count_save_proficiencies(row):\n",
    "        case 3:\n",
    "            ac -= 2\n",
    "        case 4:\n",
    "            ac -= 2\n",
    "        case 5:\n",
    "            ac -= 4\n",
    "        case 6:\n",
    "            ac -= 4\n",
    "        case _:\n",
    "            ac += 0\n",
    "    return ac\n",
    "\n",
    "df1['unadj AC'] = df1.apply(lambda row: unadjusted_armor_class(row), axis=1)\n",
    "\n",
    "for column in ['Str Save','Dex Save','Con Save','Int Save','Wis Save','Cha Save']:\n",
    "    df1[column] = df1[column] + df1.apply(lambda row: 4 if 'magic resistance' in row['AC adjustments'] else 0, axis=1)\n",
    "\n",
    "df1['eAC'] = df1.apply(lambda row: effective_armor_class(row), axis=1)\n",
    "\n",
    "df1['eAC - adj AC'] = df1['eAC'] - df1['adj AC']\n",
    "\n",
    "conf_int = 0.90\n",
    "dfMean = df1[['CR'] + columns].groupby('CR').mean()\n",
    "dfMax = df1[['CR'] + columns].groupby('CR').quantile(0.5 + conf_int/2)\n",
    "dfMin = df1[['CR'] + columns].groupby('CR').quantile(0.5 - conf_int/2)\n",
    "\n",
    "# create figure\n",
    "fig = go.Figure(\n",
    "    layout=go.Layout(\n",
    "        template=tfb.FIG_TEMPLATE,\n",
    "        margin=dict(l=60, r=25, b=55, t=20, pad=4),\n",
    "        xaxis=dict(\n",
    "            title_text='eAC - adj AC',\n",
    "            range=[-6,6],\n",
    "            tick0=0, dtick=2,\n",
    "            minor=dict(tick0=0, dtick=1),\n",
    "        ),\n",
    "        yaxis=dict(\n",
    "            title_text='count',\n",
    "            range=[0,20],\n",
    "            tick0=0, dtick=4,\n",
    "            minor=dict(tick0=0, dtick=1),\n",
    "        ),\n",
    "        legend=dict(\n",
    "            xanchor='left', yanchor='top',\n",
    "            x=0.00, y=1.00,\n",
    "            orientation='v',\n",
    "            tracegroupgap=0,\n",
    "        )\n",
    "    )\n",
    ")\n",
    "\n",
    "# plot data\n",
    "fig.add_trace(go.Histogram(\n",
    "    x=df1['eAC - adj AC'],\n",
    "    histnorm='percent',\n",
    "    xbins=dict( # bins used for histogram\n",
    "        start=-6.25,\n",
    "        end=6.25,\n",
    "        size=0.5\n",
    "    ),\n",
    "))\n",
    "\n",
    "# show figure\n",
    "fig.update_layout(width=600, height=450)\n",
    "fig.show(config=tfb.FIG_CONFIG)\n",
    "\n",
    "# save figures\n",
    "if SAVEFIGS:\n",
    "    #fig.update_layout(autosize=True, width=None, height=None)\n",
    "    #tfb.save_fig_html(fig, format='large', name=f'./fig-monster-save-modifier-vs-cr-large')\n",
    "    #tfb.save_fig_html(fig, format='small', name=f'./fig-monster-save-modifier-vs-cr-small')\n",
    "    pass"
   ]
  },
  {
   "cell_type": "code",
   "execution_count": null,
   "metadata": {},
   "outputs": [
    {
     "data": {
      "application/vnd.plotly.v1+json": {
       "config": {
        "autosizable": true,
        "displayModeBar": "hover",
        "displaylogo": false,
        "doubleClick": "reset",
        "modeBarButtonsToRemove": [
         "select2d",
         "lasso2d",
         "zoom2d",
         "zoomIn2d",
         "zoomOut2d",
         "pan2d",
         "autoScale2d",
         "hoverClosestCartesian",
         "hoverCompareCartesian",
         "toggleSpikelines",
         "resetScale2d"
        ],
        "plotlyServerURL": "https://plot.ly",
        "responsive": true,
        "showAxisDragHandles": false,
        "toImageButtonOptions": {
         "filename": "tfb-plot",
         "format": "png",
         "height": 450,
         "scale": 2,
         "width": 600
        }
       },
       "data": [
        {
         "hovertemplate": "<b>Str Save</b><br>CR %{x}<br>Modifier %{y:,.1f}<extra></extra>",
         "legendgroup": "Str Save",
         "marker": {
          "color": "#d62728",
          "size": 6
         },
         "mode": "lines+markers",
         "name": "Str Save",
         "type": "scatter",
         "x": [
          1,
          2,
          3,
          4,
          5,
          6,
          7,
          8,
          9,
          10,
          11,
          12,
          13,
          14,
          15,
          16,
          17,
          18,
          19,
          20,
          21,
          22,
          23,
          24,
          25,
          26,
          27,
          28,
          30
         ],
         "y": [
          1.5,
          1.25,
          1.5,
          1.5,
          2,
          2,
          3,
          1.5,
          2.5,
          1.5,
          2,
          2,
          2,
          1.5,
          2,
          2.25,
          2,
          2.75,
          2,
          1.5,
          2.25,
          1.625,
          2.375,
          1.75,
          2,
          1.625,
          0,
          0,
          2.625
         ]
        },
        {
         "hovertemplate": "<b>Dex Save</b><br>CR %{x}<br>Modifier %{y:,.1f}<extra></extra>",
         "legendgroup": "Dex Save",
         "marker": {
          "color": "#9467bd",
          "size": 6
         },
         "mode": "lines+markers",
         "name": "Dex Save",
         "type": "scatter",
         "x": [
          1,
          2,
          3,
          4,
          5,
          6,
          7,
          8,
          9,
          10,
          11,
          12,
          13,
          14,
          15,
          16,
          17,
          18,
          19,
          20,
          21,
          22,
          23,
          24,
          25,
          26,
          27,
          28,
          30
         ],
         "y": [
          1,
          1.5,
          1,
          1,
          2.5,
          1,
          1.5,
          1.75,
          2.5,
          3,
          2.25,
          2.25,
          2,
          2,
          2.5,
          3.25,
          1.625,
          4,
          2.25,
          1.25,
          3,
          2.25,
          2.25,
          1.875,
          2.5,
          2,
          0,
          0.5,
          2.75
         ]
        },
        {
         "hovertemplate": "<b>Con Save</b><br>CR %{x}<br>Modifier %{y:,.1f}<extra></extra>",
         "legendgroup": "Con Save",
         "marker": {
          "color": "#8c564b",
          "size": 6
         },
         "mode": "lines+markers",
         "name": "Con Save",
         "type": "scatter",
         "x": [
          1,
          2,
          3,
          4,
          5,
          6,
          7,
          8,
          9,
          10,
          11,
          12,
          13,
          14,
          15,
          16,
          17,
          18,
          19,
          20,
          21,
          22,
          23,
          24,
          25,
          26,
          27,
          28,
          30
         ],
         "y": [
          0.5,
          1,
          0.5,
          1,
          1.5,
          1,
          2,
          1.5,
          1.5,
          1.625,
          3,
          1.75,
          2.5,
          1.5,
          3,
          2.75,
          2.25,
          2,
          3,
          2.25,
          2,
          2.25,
          1.5,
          0.875,
          2,
          1.125,
          0,
          0,
          2.625
         ]
        },
        {
         "hovertemplate": "<b>Int Save</b><br>CR %{x}<br>Modifier %{y:,.1f}<extra></extra>",
         "legendgroup": "Int Save",
         "marker": {
          "color": "#1f77b4",
          "size": 6
         },
         "mode": "lines+markers",
         "name": "Int Save",
         "type": "scatter",
         "x": [
          1,
          2,
          3,
          4,
          5,
          6,
          7,
          8,
          9,
          10,
          11,
          12,
          13,
          14,
          15,
          16,
          17,
          18,
          19,
          20,
          21,
          22,
          23,
          24,
          25,
          26,
          27,
          28,
          30
         ],
         "y": [
          1.5,
          2,
          1.5,
          1.5,
          2,
          3,
          2.875,
          2.625,
          2.5,
          3.5,
          3.25,
          2.75,
          3.5,
          3.5,
          2,
          3.875,
          4.625,
          2.5,
          3.25,
          3,
          3.5,
          4.125,
          4.75,
          2.625,
          2,
          1,
          0,
          0,
          1.75
         ]
        },
        {
         "hovertemplate": "<b>Wis Save</b><br>CR %{x}<br>Modifier %{y:,.1f}<extra></extra>",
         "legendgroup": "Wis Save",
         "marker": {
          "color": "#2ca02c",
          "size": 6
         },
         "mode": "lines+markers",
         "name": "Wis Save",
         "type": "scatter",
         "x": [
          1,
          2,
          3,
          4,
          5,
          6,
          7,
          8,
          9,
          10,
          11,
          12,
          13,
          14,
          15,
          16,
          17,
          18,
          19,
          20,
          21,
          22,
          23,
          24,
          25,
          26,
          27,
          28,
          30
         ],
         "y": [
          1,
          1,
          1,
          1.25,
          2.5,
          2.5,
          1.5,
          2.5,
          2,
          1.5,
          2,
          2.25,
          1.5,
          1.25,
          1.5,
          2,
          1.75,
          1.75,
          2,
          1.25,
          2.875,
          1.25,
          2.875,
          2.875,
          2,
          0.25,
          0,
          1,
          1.75
         ]
        },
        {
         "hovertemplate": "<b>Cha Save</b><br>CR %{x}<br>Modifier %{y:,.1f}<extra></extra>",
         "legendgroup": "Cha Save",
         "marker": {
          "color": "#ff7f0e",
          "size": 6
         },
         "mode": "lines+markers",
         "name": "Cha Save",
         "type": "scatter",
         "x": [
          1,
          2,
          3,
          4,
          5,
          6,
          7,
          8,
          9,
          10,
          11,
          12,
          13,
          14,
          15,
          16,
          17,
          18,
          19,
          20,
          21,
          22,
          23,
          24,
          25,
          26,
          27,
          28,
          30
         ],
         "y": [
          1.5,
          2,
          2,
          2,
          2,
          2.5,
          2.5,
          2.625,
          3,
          3.625,
          3.25,
          4.25,
          2,
          3,
          2.5,
          3.75,
          2.25,
          2,
          3.25,
          0.75,
          2.875,
          1.625,
          3,
          2.625,
          3,
          2.5,
          0,
          0.25,
          2.75
         ]
        },
        {
         "hovertemplate": "<b>unadj AC</b><br>CR %{x}<br>Modifier %{y:,.1f}<extra></extra>",
         "legendgroup": "unadj AC",
         "marker": {
          "color": "gray",
          "size": 6
         },
         "mode": "lines+markers",
         "name": "unadj AC",
         "type": "scatter",
         "x": [
          1,
          2,
          3,
          4,
          5,
          6,
          7,
          8,
          9,
          10,
          11,
          12,
          13,
          14,
          15,
          16,
          17,
          18,
          19,
          20,
          21,
          22,
          23,
          24,
          25,
          26,
          27,
          28,
          30
         ],
         "y": [
          2,
          2,
          1.75,
          2.5,
          2,
          2.5,
          1.5,
          2,
          1.5,
          2.125,
          1.75,
          2.75,
          2.5,
          1,
          1.5,
          2.5,
          2.5,
          1.25,
          1.75,
          1.75,
          1.5,
          1.5,
          1.375,
          1.375,
          1,
          2.125,
          0,
          2,
          2.25
         ]
        }
       ],
       "layout": {
        "height": 450,
        "legend": {
         "orientation": "v",
         "tracegroupgap": 0,
         "x": 0,
         "xanchor": "left",
         "y": 1,
         "yanchor": "top"
        },
        "margin": {
         "b": 55,
         "l": 60,
         "pad": 4,
         "r": 25,
         "t": 20
        },
        "template": {
         "layout": {
          "autosize": false,
          "font": {
           "family": "sans-serif",
           "size": 14
          },
          "hoverlabel": {
           "align": "left"
          },
          "hovermode": "closest",
          "margin": {
           "b": 55,
           "l": 60,
           "pad": 4,
           "r": 25,
           "t": 20
          },
          "template": {
           "data": {
            "bar": [
             {
              "error_x": {
               "color": "#2a3f5f"
              },
              "error_y": {
               "color": "#2a3f5f"
              },
              "marker": {
               "line": {
                "color": "white",
                "width": 0.5
               },
               "pattern": {
                "fillmode": "overlay",
                "size": 10,
                "solidity": 0.2
               }
              },
              "type": "bar"
             }
            ],
            "barpolar": [
             {
              "marker": {
               "line": {
                "color": "white",
                "width": 0.5
               },
               "pattern": {
                "fillmode": "overlay",
                "size": 10,
                "solidity": 0.2
               }
              },
              "type": "barpolar"
             }
            ],
            "carpet": [
             {
              "aaxis": {
               "endlinecolor": "#2a3f5f",
               "gridcolor": "#C8D4E3",
               "linecolor": "#C8D4E3",
               "minorgridcolor": "#C8D4E3",
               "startlinecolor": "#2a3f5f"
              },
              "baxis": {
               "endlinecolor": "#2a3f5f",
               "gridcolor": "#C8D4E3",
               "linecolor": "#C8D4E3",
               "minorgridcolor": "#C8D4E3",
               "startlinecolor": "#2a3f5f"
              },
              "type": "carpet"
             }
            ],
            "choropleth": [
             {
              "colorbar": {
               "outlinewidth": 0,
               "ticks": ""
              },
              "type": "choropleth"
             }
            ],
            "contour": [
             {
              "colorbar": {
               "outlinewidth": 0,
               "ticks": ""
              },
              "colorscale": [
               [
                0,
                "#0d0887"
               ],
               [
                0.1111111111111111,
                "#46039f"
               ],
               [
                0.2222222222222222,
                "#7201a8"
               ],
               [
                0.3333333333333333,
                "#9c179e"
               ],
               [
                0.4444444444444444,
                "#bd3786"
               ],
               [
                0.5555555555555556,
                "#d8576b"
               ],
               [
                0.6666666666666666,
                "#ed7953"
               ],
               [
                0.7777777777777778,
                "#fb9f3a"
               ],
               [
                0.8888888888888888,
                "#fdca26"
               ],
               [
                1,
                "#f0f921"
               ]
              ],
              "type": "contour"
             }
            ],
            "contourcarpet": [
             {
              "colorbar": {
               "outlinewidth": 0,
               "ticks": ""
              },
              "type": "contourcarpet"
             }
            ],
            "heatmap": [
             {
              "colorbar": {
               "outlinewidth": 0,
               "ticks": ""
              },
              "colorscale": [
               [
                0,
                "#0d0887"
               ],
               [
                0.1111111111111111,
                "#46039f"
               ],
               [
                0.2222222222222222,
                "#7201a8"
               ],
               [
                0.3333333333333333,
                "#9c179e"
               ],
               [
                0.4444444444444444,
                "#bd3786"
               ],
               [
                0.5555555555555556,
                "#d8576b"
               ],
               [
                0.6666666666666666,
                "#ed7953"
               ],
               [
                0.7777777777777778,
                "#fb9f3a"
               ],
               [
                0.8888888888888888,
                "#fdca26"
               ],
               [
                1,
                "#f0f921"
               ]
              ],
              "type": "heatmap"
             }
            ],
            "heatmapgl": [
             {
              "colorbar": {
               "outlinewidth": 0,
               "ticks": ""
              },
              "colorscale": [
               [
                0,
                "#0d0887"
               ],
               [
                0.1111111111111111,
                "#46039f"
               ],
               [
                0.2222222222222222,
                "#7201a8"
               ],
               [
                0.3333333333333333,
                "#9c179e"
               ],
               [
                0.4444444444444444,
                "#bd3786"
               ],
               [
                0.5555555555555556,
                "#d8576b"
               ],
               [
                0.6666666666666666,
                "#ed7953"
               ],
               [
                0.7777777777777778,
                "#fb9f3a"
               ],
               [
                0.8888888888888888,
                "#fdca26"
               ],
               [
                1,
                "#f0f921"
               ]
              ],
              "type": "heatmapgl"
             }
            ],
            "histogram": [
             {
              "marker": {
               "pattern": {
                "fillmode": "overlay",
                "size": 10,
                "solidity": 0.2
               }
              },
              "type": "histogram"
             }
            ],
            "histogram2d": [
             {
              "colorbar": {
               "outlinewidth": 0,
               "ticks": ""
              },
              "colorscale": [
               [
                0,
                "#0d0887"
               ],
               [
                0.1111111111111111,
                "#46039f"
               ],
               [
                0.2222222222222222,
                "#7201a8"
               ],
               [
                0.3333333333333333,
                "#9c179e"
               ],
               [
                0.4444444444444444,
                "#bd3786"
               ],
               [
                0.5555555555555556,
                "#d8576b"
               ],
               [
                0.6666666666666666,
                "#ed7953"
               ],
               [
                0.7777777777777778,
                "#fb9f3a"
               ],
               [
                0.8888888888888888,
                "#fdca26"
               ],
               [
                1,
                "#f0f921"
               ]
              ],
              "type": "histogram2d"
             }
            ],
            "histogram2dcontour": [
             {
              "colorbar": {
               "outlinewidth": 0,
               "ticks": ""
              },
              "colorscale": [
               [
                0,
                "#0d0887"
               ],
               [
                0.1111111111111111,
                "#46039f"
               ],
               [
                0.2222222222222222,
                "#7201a8"
               ],
               [
                0.3333333333333333,
                "#9c179e"
               ],
               [
                0.4444444444444444,
                "#bd3786"
               ],
               [
                0.5555555555555556,
                "#d8576b"
               ],
               [
                0.6666666666666666,
                "#ed7953"
               ],
               [
                0.7777777777777778,
                "#fb9f3a"
               ],
               [
                0.8888888888888888,
                "#fdca26"
               ],
               [
                1,
                "#f0f921"
               ]
              ],
              "type": "histogram2dcontour"
             }
            ],
            "mesh3d": [
             {
              "colorbar": {
               "outlinewidth": 0,
               "ticks": ""
              },
              "type": "mesh3d"
             }
            ],
            "parcoords": [
             {
              "line": {
               "colorbar": {
                "outlinewidth": 0,
                "ticks": ""
               }
              },
              "type": "parcoords"
             }
            ],
            "pie": [
             {
              "automargin": true,
              "type": "pie"
             }
            ],
            "scatter": [
             {
              "fillpattern": {
               "fillmode": "overlay",
               "size": 10,
               "solidity": 0.2
              },
              "type": "scatter"
             }
            ],
            "scatter3d": [
             {
              "line": {
               "colorbar": {
                "outlinewidth": 0,
                "ticks": ""
               }
              },
              "marker": {
               "colorbar": {
                "outlinewidth": 0,
                "ticks": ""
               }
              },
              "type": "scatter3d"
             }
            ],
            "scattercarpet": [
             {
              "marker": {
               "colorbar": {
                "outlinewidth": 0,
                "ticks": ""
               }
              },
              "type": "scattercarpet"
             }
            ],
            "scattergeo": [
             {
              "marker": {
               "colorbar": {
                "outlinewidth": 0,
                "ticks": ""
               }
              },
              "type": "scattergeo"
             }
            ],
            "scattergl": [
             {
              "marker": {
               "colorbar": {
                "outlinewidth": 0,
                "ticks": ""
               }
              },
              "type": "scattergl"
             }
            ],
            "scattermapbox": [
             {
              "marker": {
               "colorbar": {
                "outlinewidth": 0,
                "ticks": ""
               }
              },
              "type": "scattermapbox"
             }
            ],
            "scatterpolar": [
             {
              "marker": {
               "colorbar": {
                "outlinewidth": 0,
                "ticks": ""
               }
              },
              "type": "scatterpolar"
             }
            ],
            "scatterpolargl": [
             {
              "marker": {
               "colorbar": {
                "outlinewidth": 0,
                "ticks": ""
               }
              },
              "type": "scatterpolargl"
             }
            ],
            "scatterternary": [
             {
              "marker": {
               "colorbar": {
                "outlinewidth": 0,
                "ticks": ""
               }
              },
              "type": "scatterternary"
             }
            ],
            "surface": [
             {
              "colorbar": {
               "outlinewidth": 0,
               "ticks": ""
              },
              "colorscale": [
               [
                0,
                "#0d0887"
               ],
               [
                0.1111111111111111,
                "#46039f"
               ],
               [
                0.2222222222222222,
                "#7201a8"
               ],
               [
                0.3333333333333333,
                "#9c179e"
               ],
               [
                0.4444444444444444,
                "#bd3786"
               ],
               [
                0.5555555555555556,
                "#d8576b"
               ],
               [
                0.6666666666666666,
                "#ed7953"
               ],
               [
                0.7777777777777778,
                "#fb9f3a"
               ],
               [
                0.8888888888888888,
                "#fdca26"
               ],
               [
                1,
                "#f0f921"
               ]
              ],
              "type": "surface"
             }
            ],
            "table": [
             {
              "cells": {
               "fill": {
                "color": "#EBF0F8"
               },
               "line": {
                "color": "white"
               }
              },
              "header": {
               "fill": {
                "color": "#C8D4E3"
               },
               "line": {
                "color": "white"
               }
              },
              "type": "table"
             }
            ]
           },
           "layout": {
            "annotationdefaults": {
             "arrowcolor": "#2a3f5f",
             "arrowhead": 0,
             "arrowwidth": 1
            },
            "autotypenumbers": "strict",
            "coloraxis": {
             "colorbar": {
              "outlinewidth": 0,
              "ticks": ""
             }
            },
            "colorscale": {
             "diverging": [
              [
               0,
               "#8e0152"
              ],
              [
               0.1,
               "#c51b7d"
              ],
              [
               0.2,
               "#de77ae"
              ],
              [
               0.3,
               "#f1b6da"
              ],
              [
               0.4,
               "#fde0ef"
              ],
              [
               0.5,
               "#f7f7f7"
              ],
              [
               0.6,
               "#e6f5d0"
              ],
              [
               0.7,
               "#b8e186"
              ],
              [
               0.8,
               "#7fbc41"
              ],
              [
               0.9,
               "#4d9221"
              ],
              [
               1,
               "#276419"
              ]
             ],
             "sequential": [
              [
               0,
               "#0d0887"
              ],
              [
               0.1111111111111111,
               "#46039f"
              ],
              [
               0.2222222222222222,
               "#7201a8"
              ],
              [
               0.3333333333333333,
               "#9c179e"
              ],
              [
               0.4444444444444444,
               "#bd3786"
              ],
              [
               0.5555555555555556,
               "#d8576b"
              ],
              [
               0.6666666666666666,
               "#ed7953"
              ],
              [
               0.7777777777777778,
               "#fb9f3a"
              ],
              [
               0.8888888888888888,
               "#fdca26"
              ],
              [
               1,
               "#f0f921"
              ]
             ],
             "sequentialminus": [
              [
               0,
               "#0d0887"
              ],
              [
               0.1111111111111111,
               "#46039f"
              ],
              [
               0.2222222222222222,
               "#7201a8"
              ],
              [
               0.3333333333333333,
               "#9c179e"
              ],
              [
               0.4444444444444444,
               "#bd3786"
              ],
              [
               0.5555555555555556,
               "#d8576b"
              ],
              [
               0.6666666666666666,
               "#ed7953"
              ],
              [
               0.7777777777777778,
               "#fb9f3a"
              ],
              [
               0.8888888888888888,
               "#fdca26"
              ],
              [
               1,
               "#f0f921"
              ]
             ]
            },
            "colorway": [
             "#636efa",
             "#EF553B",
             "#00cc96",
             "#ab63fa",
             "#FFA15A",
             "#19d3f3",
             "#FF6692",
             "#B6E880",
             "#FF97FF",
             "#FECB52"
            ],
            "font": {
             "color": "#2a3f5f"
            },
            "geo": {
             "bgcolor": "white",
             "lakecolor": "white",
             "landcolor": "white",
             "showlakes": true,
             "showland": true,
             "subunitcolor": "#C8D4E3"
            },
            "hoverlabel": {
             "align": "left"
            },
            "hovermode": "closest",
            "mapbox": {
             "style": "light"
            },
            "paper_bgcolor": "white",
            "plot_bgcolor": "white",
            "polar": {
             "angularaxis": {
              "gridcolor": "#EBF0F8",
              "linecolor": "#EBF0F8",
              "ticks": ""
             },
             "bgcolor": "white",
             "radialaxis": {
              "gridcolor": "#EBF0F8",
              "linecolor": "#EBF0F8",
              "ticks": ""
             }
            },
            "scene": {
             "xaxis": {
              "backgroundcolor": "white",
              "gridcolor": "#DFE8F3",
              "gridwidth": 2,
              "linecolor": "#EBF0F8",
              "showbackground": true,
              "ticks": "",
              "zerolinecolor": "#EBF0F8"
             },
             "yaxis": {
              "backgroundcolor": "white",
              "gridcolor": "#DFE8F3",
              "gridwidth": 2,
              "linecolor": "#EBF0F8",
              "showbackground": true,
              "ticks": "",
              "zerolinecolor": "#EBF0F8"
             },
             "zaxis": {
              "backgroundcolor": "white",
              "gridcolor": "#DFE8F3",
              "gridwidth": 2,
              "linecolor": "#EBF0F8",
              "showbackground": true,
              "ticks": "",
              "zerolinecolor": "#EBF0F8"
             }
            },
            "shapedefaults": {
             "line": {
              "color": "#2a3f5f"
             }
            },
            "ternary": {
             "aaxis": {
              "gridcolor": "#DFE8F3",
              "linecolor": "#A2B1C6",
              "ticks": ""
             },
             "baxis": {
              "gridcolor": "#DFE8F3",
              "linecolor": "#A2B1C6",
              "ticks": ""
             },
             "bgcolor": "white",
             "caxis": {
              "gridcolor": "#DFE8F3",
              "linecolor": "#A2B1C6",
              "ticks": ""
             }
            },
            "title": {
             "x": 0.05
            },
            "xaxis": {
             "automargin": true,
             "gridcolor": "#EBF0F8",
             "linecolor": "#EBF0F8",
             "ticks": "",
             "title": {
              "standoff": 15
             },
             "zerolinecolor": "#EBF0F8",
             "zerolinewidth": 2
            },
            "yaxis": {
             "automargin": true,
             "gridcolor": "#EBF0F8",
             "linecolor": "#EBF0F8",
             "ticks": "",
             "title": {
              "standoff": 15
             },
             "zerolinecolor": "#EBF0F8",
             "zerolinewidth": 2
            }
           }
          },
          "xaxis": {
           "automargin": false,
           "linecolor": "#444",
           "linewidth": 2,
           "minor": {
            "tickmode": "linear",
            "ticks": "outside"
           },
           "mirror": true,
           "showline": true,
           "tickmode": "linear",
           "ticks": "outside",
           "zeroline": false
          },
          "yaxis": {
           "automargin": true,
           "linecolor": "#444",
           "linewidth": 2,
           "minor": {
            "tickmode": "linear",
            "ticks": "outside"
           },
           "mirror": true,
           "showline": true,
           "ticks": "outside",
           "zeroline": false
          }
         }
        },
        "width": 600,
        "xaxis": {
         "dtick": 5,
         "minor": {
          "dtick": 1,
          "tick0": 0
         },
         "range": [
          -1,
          31
         ],
         "tick0": 0,
         "title": {
          "text": "challenge rating"
         }
        },
        "yaxis": {
         "dtick": 2,
         "minor": {
          "dtick": 1,
          "tick0": 0
         },
         "range": [
          -0.5,
          10
         ],
         "tick0": 0,
         "title": {
          "text": "saving throw modifier"
         }
        }
       }
      }
     },
     "metadata": {},
     "output_type": "display_data"
    }
   ],
   "source": [
    "# plots the half range of monster defensive stats for each CR.\n",
    "columns = ['Str Save','Dex Save','Con Save','Int Save','Wis Save','Cha Save','unadj AC']\n",
    "colors = ['#d62728','#9467bd','#8c564b','#1f77b4','#2ca02c','#ff7f0e','gray','black']\n",
    "\n",
    "df1 = pd.read_csv('../../assets/data/monsters.csv')\n",
    "df1 = df1[df1['Category'].isin(['generic','legendary','unique']) & df1['CR'].between(1, 30)]\n",
    "\n",
    "def count_save_proficiencies(row):\n",
    "    return row['Str Prof'] + row['Dex Prof'] + row['Con Prof'] + row['Int Prof'] + row['Wis Prof'] + row['Cha Prof']\n",
    "\n",
    "def effective_armor_class(row):\n",
    "    AC0 = 12\n",
    "    SB0 = -2\n",
    "    dpru = [0.5, 1/12, 1/12, 1/12, 1/12, 1/12, 1/12]\n",
    "    ACp = [row['AC'] - AC0,\n",
    "           row['Str Save'] - SB0, row['Dex Save'] - SB0, row['Con Save'] - SB0, \n",
    "           row['Int Save'] - SB0, row['Wis Save'] - SB0, row['Cha Save'] - SB0]\n",
    "    return np.dot(dpru, ACp) + AC0\n",
    "\n",
    "def unadjusted_armor_class(row):\n",
    "    ac = row['adj AC']\n",
    "    ac -= 2 if 'magic resistance' in row['AC adjustments'] else 0\n",
    "    match count_save_proficiencies(row):\n",
    "        case 3:\n",
    "            ac -= 2\n",
    "        case 4:\n",
    "            ac -= 2\n",
    "        case 5:\n",
    "            ac -= 4\n",
    "        case 6:\n",
    "            ac -= 4\n",
    "        case _:\n",
    "            ac += 0\n",
    "    return ac\n",
    "\n",
    "df1['unadj AC'] = df1.apply(lambda row: unadjusted_armor_class(row), axis=1)\n",
    "\n",
    "for column in columns:\n",
    "    df1[column] = df1[column] + df1.apply(lambda row: 4 if 'magic resistance' in row['AC adjustments'] else 0, axis=1)\n",
    "\n",
    "conf_int = 0.5\n",
    "dfMean = df1[['CR'] + columns].groupby('CR').mean()\n",
    "dfMax = df1[['CR'] + columns].groupby('CR').quantile(0.5 + conf_int/2)\n",
    "dfMin = df1[['CR'] + columns].groupby('CR').quantile(0.5 - conf_int/2)\n",
    "\n",
    "# create figure\n",
    "fig = go.Figure(\n",
    "    layout=go.Layout(\n",
    "        template=tfb.FIG_TEMPLATE,\n",
    "        margin=dict(l=60, r=25, b=55, t=20, pad=4),\n",
    "        xaxis=dict(\n",
    "            title_text='challenge rating',\n",
    "            range=[-1,31],\n",
    "            tick0=0, dtick=5,\n",
    "            minor=dict(tick0=0, dtick=1),\n",
    "        ),\n",
    "        yaxis=dict(\n",
    "            title_text='saving throw modifier',\n",
    "            range=[-0.5,10],\n",
    "            tick0=0, dtick=2,\n",
    "            minor=dict(tick0=0, dtick=1),\n",
    "        ),\n",
    "        legend=dict(\n",
    "            xanchor='left', yanchor='top',\n",
    "            x=0.00, y=1.00,\n",
    "            orientation='v',\n",
    "            tracegroupgap=0,\n",
    "        )\n",
    "    )\n",
    ")\n",
    "\n",
    "# plot data\n",
    "x = dfMean.index.to_series()\n",
    "for column, c in zip(columns, colors):\n",
    "    fig.add_trace(go.Scatter(\n",
    "        x=dfMean.index.to_series(), \n",
    "        #y=(dfMean[column] - dfMin[column]),\n",
    "        #y=(dfMax[column] - dfMean[column]),\n",
    "        y=0.5*(dfMax[column] - dfMin[column]),\n",
    "        mode='lines+markers', \n",
    "        marker=dict(size=6, color=c),\n",
    "        name=column,\n",
    "        legendgroup=column,\n",
    "        hovertemplate=\n",
    "            '<b>'+column+'</b><br>'+\n",
    "            'CR %{x}<br>'+\n",
    "            'Modifier %{y:,.1f}' + \n",
    "            '<extra></extra>'\n",
    "    ))\n",
    "\n",
    "# show figure\n",
    "fig.update_layout(width=600, height=450)\n",
    "fig.show(config=tfb.FIG_CONFIG)\n",
    "\n",
    "# save figures\n",
    "if SAVEFIGS:\n",
    "    #fig.update_layout(autosize=True, width=None, height=None)\n",
    "    #tfb.save_fig_html(fig, format='large', name=f'./fig-monster-save-modifier-vs-cr-large')\n",
    "    #tfb.save_fig_html(fig, format='small', name=f'./fig-monster-save-modifier-vs-cr-small')\n",
    "    pass"
   ]
  }
 ],
 "metadata": {
  "kernelspec": {
   "display_name": "Python 3.10.5 ('thefinishedbook': venv)",
   "language": "python",
   "name": "python3"
  },
  "language_info": {
   "codemirror_mode": {
    "name": "ipython",
    "version": 3
   },
   "file_extension": ".py",
   "mimetype": "text/x-python",
   "name": "python",
   "nbconvert_exporter": "python",
   "pygments_lexer": "ipython3",
   "version": "3.10.5"
  },
  "metadata": {
   "interpreter": {
    "hash": "aee8b7b246df8f9039afb4144a1f6fd8d2ca17a180786b69acc140d282b71a49"
   }
  },
  "orig_nbformat": 2,
  "vscode": {
   "interpreter": {
    "hash": "e4b90a08ac11b7f80ea6e39e6f46c6e22a0b6d86a47874aaa13784019f162251"
   }
  }
 },
 "nbformat": 4,
 "nbformat_minor": 2
}
