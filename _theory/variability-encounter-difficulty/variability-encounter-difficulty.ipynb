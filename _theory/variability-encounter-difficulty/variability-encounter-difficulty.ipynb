{
 "cells": [
  {
   "cell_type": "code",
   "execution_count": null,
   "metadata": {},
   "outputs": [],
   "source": [
    "import numpy as np\n",
    "import plotly.graph_objects as go\n",
    "import sys\n",
    "sys.path.append('../../assets/python/')\n",
    "import tfb\n",
    "import combat_probability as cp\n",
    "from icepool import d\n",
    "\n",
    "METADATA = {'Contributor': 'T. Dunn'}\n",
    "SAVEFIGS = False\n",
    "\n",
    "COLOR_LIST = [\n",
    "    '#1f77b4',  # muted blue\n",
    "    '#ff7f0e',  # safety orange\n",
    "    '#2ca02c',  # cooked asparagus green\n",
    "    '#d62728',  # brick red\n",
    "    '#9467bd',  # muted purple\n",
    "    '#8c564b',  # chestnut brown\n",
    "    '#e377c2',  # raspberry yogurt pink\n",
    "    '#7f7f7f',  # middle gray\n",
    "    '#bcbd22',  # curry yellow-green\n",
    "    '#17becf'   # blue-teal\n",
    "]"
   ]
  },
  {
   "cell_type": "code",
   "execution_count": 51,
   "metadata": {},
   "outputs": [
    {
     "data": {
      "application/vnd.plotly.v1+json": {
       "config": {
        "autosizable": true,
        "displayModeBar": "hover",
        "displaylogo": false,
        "doubleClick": "reset",
        "modeBarButtonsToRemove": [
         "select2d",
         "lasso2d",
         "zoom2d",
         "zoomIn2d",
         "zoomOut2d",
         "pan2d",
         "autoScale2d",
         "hoverClosestCartesian",
         "hoverCompareCartesian",
         "toggleSpikelines",
         "resetScale2d"
        ],
        "plotlyServerURL": "https://plot.ly",
        "responsive": true,
        "showAxisDragHandles": false,
        "toImageButtonOptions": {
         "filename": "tfb-plot",
         "format": "png",
         "height": 450,
         "scale": 2,
         "width": 600
        }
       },
       "data": [
        {
         "fill": "tozeroy",
         "fillcolor": "rgba(167, 167, 167, 0.15)",
         "hoverinfo": "none",
         "mode": "none",
         "showlegend": false,
         "type": "scatter",
         "x": [
          0,
          0.15
         ],
         "y": [
          1,
          1
         ]
        },
        {
         "fill": "tozeroy",
         "fillcolor": "rgba(  0, 199, 151, 0.15)",
         "hoverinfo": "none",
         "mode": "none",
         "showlegend": false,
         "type": "scatter",
         "x": [
          0.15,
          0.3
         ],
         "y": [
          1,
          1
         ]
        },
        {
         "fill": "tozeroy",
         "fillcolor": "rgba(245, 166,  35, 0.15)",
         "hoverinfo": "none",
         "mode": "none",
         "showlegend": false,
         "type": "scatter",
         "x": [
          0.3,
          0.44999999999999996
         ],
         "y": [
          1,
          1
         ]
        },
        {
         "fill": "tozeroy",
         "fillcolor": "rgba(228,  90,  29, 0.15)",
         "hoverinfo": "none",
         "mode": "none",
         "showlegend": false,
         "type": "scatter",
         "x": [
          0.45,
          0.7
         ],
         "y": [
          1,
          1
         ]
        },
        {
         "fill": "tozeroy",
         "fillcolor": "rgba(144,  79, 213, 0.15)",
         "hoverinfo": "none",
         "mode": "none",
         "showlegend": false,
         "type": "scatter",
         "x": [
          0.7,
          1
         ],
         "y": [
          1,
          1
         ]
        },
        {
         "hovertemplate": "<b>PCs</b><br>difficulty %{x:.2f}<br>probability %{y:.1%}<extra></extra>",
         "line": {
          "color": "#1f77b4"
         },
         "mode": "lines",
         "name": "PCs",
         "type": "scatter",
         "x": [
          0.01,
          0.059500000000000004,
          0.109,
          0.15850000000000003,
          0.20800000000000002,
          0.2575,
          0.30700000000000005,
          0.35650000000000004,
          0.406,
          0.4555,
          0.505,
          0.5545,
          0.6040000000000001,
          0.6535000000000001,
          0.7030000000000001,
          0.7525000000000001,
          0.802,
          0.8515,
          0.901,
          0.9505,
          1
         ],
         "y": [
          1,
          1,
          1,
          1,
          0.9999999999999997,
          0.9999999999692043,
          0.9999999628667403,
          0.9999962246848823,
          0.9999074632102056,
          0.9990948741220732,
          0.99552679414359,
          0.985876168735056,
          0.9664056588554195,
          0.9340785659896795,
          0.8879528824566009,
          0.8298143209274025,
          0.7634481033942017,
          0.6932654279529112,
          0.6231828473902086,
          0.5560882149243103,
          0.4937830069222267
         ]
        },
        {
         "hovertemplate": "<b>NPCs</b><br>difficulty %{x:.2f}<br>probability %{y:.1%}<extra></extra>",
         "line": {
          "color": "#ff7f0e"
         },
         "mode": "lines",
         "name": "NPCs",
         "type": "scatter",
         "x": [
          0.01,
          0.059500000000000004,
          0.109,
          0.15850000000000003,
          0.20800000000000002,
          0.2575,
          0.30700000000000005,
          0.35650000000000004,
          0.406,
          0.4555,
          0.505,
          0.5545,
          0.6040000000000001,
          0.6535000000000001,
          0.7030000000000001,
          0.7525000000000001,
          0.802,
          0.8515,
          0.901,
          0.9505,
          1
         ],
         "y": [
          0,
          0,
          0,
          7.292122725564697e-25,
          3.5967502766129505e-16,
          3.079567474017542e-11,
          3.7133259747895694e-8,
          0.0000037753151174843476,
          0.00009253678979450238,
          0.0009051258779267518,
          0.004473205856409959,
          0.014123831264943995,
          0.03359434114458008,
          0.06592143401032038,
          0.11204711754339933,
          0.17018567907259774,
          0.2365518966057983,
          0.3067345720470887,
          0.3768171526097914,
          0.44391178507568974,
          0.5062169930777733
         ]
        }
       ],
       "layout": {
        "annotations": [
         {
          "showarrow": false,
          "text": "Trivial",
          "x": 0.075,
          "y": 0.5
         },
         {
          "showarrow": false,
          "text": "Easy",
          "x": 0.22499999999999998,
          "y": 0.5
         },
         {
          "showarrow": false,
          "text": "Medium",
          "x": 0.375,
          "y": 0.5
         },
         {
          "showarrow": false,
          "text": "Hard",
          "x": 0.575,
          "y": 0.5
         },
         {
          "showarrow": false,
          "text": "Deadly",
          "x": 0.85,
          "y": 0.5
         }
        ],
        "height": 450,
        "legend": {
         "bgcolor": "rgba(0,0,0,0)",
         "orientation": "v",
         "tracegroupgap": 0,
         "x": 0.98,
         "xanchor": "right",
         "y": 0.98,
         "yanchor": "top"
        },
        "template": {
         "layout": {
          "autosize": false,
          "font": {
           "family": "sans-serif",
           "size": 14
          },
          "hoverlabel": {
           "align": "left"
          },
          "hovermode": "closest",
          "margin": {
           "b": 55,
           "l": 60,
           "pad": 4,
           "r": 25,
           "t": 20
          },
          "template": {
           "data": {
            "bar": [
             {
              "error_x": {
               "color": "#2a3f5f"
              },
              "error_y": {
               "color": "#2a3f5f"
              },
              "marker": {
               "line": {
                "color": "white",
                "width": 0.5
               },
               "pattern": {
                "fillmode": "overlay",
                "size": 10,
                "solidity": 0.2
               }
              },
              "type": "bar"
             }
            ],
            "barpolar": [
             {
              "marker": {
               "line": {
                "color": "white",
                "width": 0.5
               },
               "pattern": {
                "fillmode": "overlay",
                "size": 10,
                "solidity": 0.2
               }
              },
              "type": "barpolar"
             }
            ],
            "carpet": [
             {
              "aaxis": {
               "endlinecolor": "#2a3f5f",
               "gridcolor": "#C8D4E3",
               "linecolor": "#C8D4E3",
               "minorgridcolor": "#C8D4E3",
               "startlinecolor": "#2a3f5f"
              },
              "baxis": {
               "endlinecolor": "#2a3f5f",
               "gridcolor": "#C8D4E3",
               "linecolor": "#C8D4E3",
               "minorgridcolor": "#C8D4E3",
               "startlinecolor": "#2a3f5f"
              },
              "type": "carpet"
             }
            ],
            "choropleth": [
             {
              "colorbar": {
               "outlinewidth": 0,
               "ticks": ""
              },
              "type": "choropleth"
             }
            ],
            "contour": [
             {
              "colorbar": {
               "outlinewidth": 0,
               "ticks": ""
              },
              "colorscale": [
               [
                0,
                "#0d0887"
               ],
               [
                0.1111111111111111,
                "#46039f"
               ],
               [
                0.2222222222222222,
                "#7201a8"
               ],
               [
                0.3333333333333333,
                "#9c179e"
               ],
               [
                0.4444444444444444,
                "#bd3786"
               ],
               [
                0.5555555555555556,
                "#d8576b"
               ],
               [
                0.6666666666666666,
                "#ed7953"
               ],
               [
                0.7777777777777778,
                "#fb9f3a"
               ],
               [
                0.8888888888888888,
                "#fdca26"
               ],
               [
                1,
                "#f0f921"
               ]
              ],
              "type": "contour"
             }
            ],
            "contourcarpet": [
             {
              "colorbar": {
               "outlinewidth": 0,
               "ticks": ""
              },
              "type": "contourcarpet"
             }
            ],
            "heatmap": [
             {
              "colorbar": {
               "outlinewidth": 0,
               "ticks": ""
              },
              "colorscale": [
               [
                0,
                "#0d0887"
               ],
               [
                0.1111111111111111,
                "#46039f"
               ],
               [
                0.2222222222222222,
                "#7201a8"
               ],
               [
                0.3333333333333333,
                "#9c179e"
               ],
               [
                0.4444444444444444,
                "#bd3786"
               ],
               [
                0.5555555555555556,
                "#d8576b"
               ],
               [
                0.6666666666666666,
                "#ed7953"
               ],
               [
                0.7777777777777778,
                "#fb9f3a"
               ],
               [
                0.8888888888888888,
                "#fdca26"
               ],
               [
                1,
                "#f0f921"
               ]
              ],
              "type": "heatmap"
             }
            ],
            "heatmapgl": [
             {
              "colorbar": {
               "outlinewidth": 0,
               "ticks": ""
              },
              "colorscale": [
               [
                0,
                "#0d0887"
               ],
               [
                0.1111111111111111,
                "#46039f"
               ],
               [
                0.2222222222222222,
                "#7201a8"
               ],
               [
                0.3333333333333333,
                "#9c179e"
               ],
               [
                0.4444444444444444,
                "#bd3786"
               ],
               [
                0.5555555555555556,
                "#d8576b"
               ],
               [
                0.6666666666666666,
                "#ed7953"
               ],
               [
                0.7777777777777778,
                "#fb9f3a"
               ],
               [
                0.8888888888888888,
                "#fdca26"
               ],
               [
                1,
                "#f0f921"
               ]
              ],
              "type": "heatmapgl"
             }
            ],
            "histogram": [
             {
              "marker": {
               "pattern": {
                "fillmode": "overlay",
                "size": 10,
                "solidity": 0.2
               }
              },
              "type": "histogram"
             }
            ],
            "histogram2d": [
             {
              "colorbar": {
               "outlinewidth": 0,
               "ticks": ""
              },
              "colorscale": [
               [
                0,
                "#0d0887"
               ],
               [
                0.1111111111111111,
                "#46039f"
               ],
               [
                0.2222222222222222,
                "#7201a8"
               ],
               [
                0.3333333333333333,
                "#9c179e"
               ],
               [
                0.4444444444444444,
                "#bd3786"
               ],
               [
                0.5555555555555556,
                "#d8576b"
               ],
               [
                0.6666666666666666,
                "#ed7953"
               ],
               [
                0.7777777777777778,
                "#fb9f3a"
               ],
               [
                0.8888888888888888,
                "#fdca26"
               ],
               [
                1,
                "#f0f921"
               ]
              ],
              "type": "histogram2d"
             }
            ],
            "histogram2dcontour": [
             {
              "colorbar": {
               "outlinewidth": 0,
               "ticks": ""
              },
              "colorscale": [
               [
                0,
                "#0d0887"
               ],
               [
                0.1111111111111111,
                "#46039f"
               ],
               [
                0.2222222222222222,
                "#7201a8"
               ],
               [
                0.3333333333333333,
                "#9c179e"
               ],
               [
                0.4444444444444444,
                "#bd3786"
               ],
               [
                0.5555555555555556,
                "#d8576b"
               ],
               [
                0.6666666666666666,
                "#ed7953"
               ],
               [
                0.7777777777777778,
                "#fb9f3a"
               ],
               [
                0.8888888888888888,
                "#fdca26"
               ],
               [
                1,
                "#f0f921"
               ]
              ],
              "type": "histogram2dcontour"
             }
            ],
            "mesh3d": [
             {
              "colorbar": {
               "outlinewidth": 0,
               "ticks": ""
              },
              "type": "mesh3d"
             }
            ],
            "parcoords": [
             {
              "line": {
               "colorbar": {
                "outlinewidth": 0,
                "ticks": ""
               }
              },
              "type": "parcoords"
             }
            ],
            "pie": [
             {
              "automargin": true,
              "type": "pie"
             }
            ],
            "scatter": [
             {
              "fillpattern": {
               "fillmode": "overlay",
               "size": 10,
               "solidity": 0.2
              },
              "type": "scatter"
             }
            ],
            "scatter3d": [
             {
              "line": {
               "colorbar": {
                "outlinewidth": 0,
                "ticks": ""
               }
              },
              "marker": {
               "colorbar": {
                "outlinewidth": 0,
                "ticks": ""
               }
              },
              "type": "scatter3d"
             }
            ],
            "scattercarpet": [
             {
              "marker": {
               "colorbar": {
                "outlinewidth": 0,
                "ticks": ""
               }
              },
              "type": "scattercarpet"
             }
            ],
            "scattergeo": [
             {
              "marker": {
               "colorbar": {
                "outlinewidth": 0,
                "ticks": ""
               }
              },
              "type": "scattergeo"
             }
            ],
            "scattergl": [
             {
              "marker": {
               "colorbar": {
                "outlinewidth": 0,
                "ticks": ""
               }
              },
              "type": "scattergl"
             }
            ],
            "scattermapbox": [
             {
              "marker": {
               "colorbar": {
                "outlinewidth": 0,
                "ticks": ""
               }
              },
              "type": "scattermapbox"
             }
            ],
            "scatterpolar": [
             {
              "marker": {
               "colorbar": {
                "outlinewidth": 0,
                "ticks": ""
               }
              },
              "type": "scatterpolar"
             }
            ],
            "scatterpolargl": [
             {
              "marker": {
               "colorbar": {
                "outlinewidth": 0,
                "ticks": ""
               }
              },
              "type": "scatterpolargl"
             }
            ],
            "scatterternary": [
             {
              "marker": {
               "colorbar": {
                "outlinewidth": 0,
                "ticks": ""
               }
              },
              "type": "scatterternary"
             }
            ],
            "surface": [
             {
              "colorbar": {
               "outlinewidth": 0,
               "ticks": ""
              },
              "colorscale": [
               [
                0,
                "#0d0887"
               ],
               [
                0.1111111111111111,
                "#46039f"
               ],
               [
                0.2222222222222222,
                "#7201a8"
               ],
               [
                0.3333333333333333,
                "#9c179e"
               ],
               [
                0.4444444444444444,
                "#bd3786"
               ],
               [
                0.5555555555555556,
                "#d8576b"
               ],
               [
                0.6666666666666666,
                "#ed7953"
               ],
               [
                0.7777777777777778,
                "#fb9f3a"
               ],
               [
                0.8888888888888888,
                "#fdca26"
               ],
               [
                1,
                "#f0f921"
               ]
              ],
              "type": "surface"
             }
            ],
            "table": [
             {
              "cells": {
               "fill": {
                "color": "#EBF0F8"
               },
               "line": {
                "color": "white"
               }
              },
              "header": {
               "fill": {
                "color": "#C8D4E3"
               },
               "line": {
                "color": "white"
               }
              },
              "type": "table"
             }
            ]
           },
           "layout": {
            "annotationdefaults": {
             "arrowcolor": "#2a3f5f",
             "arrowhead": 0,
             "arrowwidth": 1
            },
            "autotypenumbers": "strict",
            "coloraxis": {
             "colorbar": {
              "outlinewidth": 0,
              "ticks": ""
             }
            },
            "colorscale": {
             "diverging": [
              [
               0,
               "#8e0152"
              ],
              [
               0.1,
               "#c51b7d"
              ],
              [
               0.2,
               "#de77ae"
              ],
              [
               0.3,
               "#f1b6da"
              ],
              [
               0.4,
               "#fde0ef"
              ],
              [
               0.5,
               "#f7f7f7"
              ],
              [
               0.6,
               "#e6f5d0"
              ],
              [
               0.7,
               "#b8e186"
              ],
              [
               0.8,
               "#7fbc41"
              ],
              [
               0.9,
               "#4d9221"
              ],
              [
               1,
               "#276419"
              ]
             ],
             "sequential": [
              [
               0,
               "#0d0887"
              ],
              [
               0.1111111111111111,
               "#46039f"
              ],
              [
               0.2222222222222222,
               "#7201a8"
              ],
              [
               0.3333333333333333,
               "#9c179e"
              ],
              [
               0.4444444444444444,
               "#bd3786"
              ],
              [
               0.5555555555555556,
               "#d8576b"
              ],
              [
               0.6666666666666666,
               "#ed7953"
              ],
              [
               0.7777777777777778,
               "#fb9f3a"
              ],
              [
               0.8888888888888888,
               "#fdca26"
              ],
              [
               1,
               "#f0f921"
              ]
             ],
             "sequentialminus": [
              [
               0,
               "#0d0887"
              ],
              [
               0.1111111111111111,
               "#46039f"
              ],
              [
               0.2222222222222222,
               "#7201a8"
              ],
              [
               0.3333333333333333,
               "#9c179e"
              ],
              [
               0.4444444444444444,
               "#bd3786"
              ],
              [
               0.5555555555555556,
               "#d8576b"
              ],
              [
               0.6666666666666666,
               "#ed7953"
              ],
              [
               0.7777777777777778,
               "#fb9f3a"
              ],
              [
               0.8888888888888888,
               "#fdca26"
              ],
              [
               1,
               "#f0f921"
              ]
             ]
            },
            "colorway": [
             "#636efa",
             "#EF553B",
             "#00cc96",
             "#ab63fa",
             "#FFA15A",
             "#19d3f3",
             "#FF6692",
             "#B6E880",
             "#FF97FF",
             "#FECB52"
            ],
            "font": {
             "color": "#2a3f5f"
            },
            "geo": {
             "bgcolor": "white",
             "lakecolor": "white",
             "landcolor": "white",
             "showlakes": true,
             "showland": true,
             "subunitcolor": "#C8D4E3"
            },
            "hoverlabel": {
             "align": "left"
            },
            "hovermode": "closest",
            "mapbox": {
             "style": "light"
            },
            "paper_bgcolor": "white",
            "plot_bgcolor": "white",
            "polar": {
             "angularaxis": {
              "gridcolor": "#EBF0F8",
              "linecolor": "#EBF0F8",
              "ticks": ""
             },
             "bgcolor": "white",
             "radialaxis": {
              "gridcolor": "#EBF0F8",
              "linecolor": "#EBF0F8",
              "ticks": ""
             }
            },
            "scene": {
             "xaxis": {
              "backgroundcolor": "white",
              "gridcolor": "#DFE8F3",
              "gridwidth": 2,
              "linecolor": "#EBF0F8",
              "showbackground": true,
              "ticks": "",
              "zerolinecolor": "#EBF0F8"
             },
             "yaxis": {
              "backgroundcolor": "white",
              "gridcolor": "#DFE8F3",
              "gridwidth": 2,
              "linecolor": "#EBF0F8",
              "showbackground": true,
              "ticks": "",
              "zerolinecolor": "#EBF0F8"
             },
             "zaxis": {
              "backgroundcolor": "white",
              "gridcolor": "#DFE8F3",
              "gridwidth": 2,
              "linecolor": "#EBF0F8",
              "showbackground": true,
              "ticks": "",
              "zerolinecolor": "#EBF0F8"
             }
            },
            "shapedefaults": {
             "line": {
              "color": "#2a3f5f"
             }
            },
            "ternary": {
             "aaxis": {
              "gridcolor": "#DFE8F3",
              "linecolor": "#A2B1C6",
              "ticks": ""
             },
             "baxis": {
              "gridcolor": "#DFE8F3",
              "linecolor": "#A2B1C6",
              "ticks": ""
             },
             "bgcolor": "white",
             "caxis": {
              "gridcolor": "#DFE8F3",
              "linecolor": "#A2B1C6",
              "ticks": ""
             }
            },
            "title": {
             "x": 0.05
            },
            "xaxis": {
             "automargin": true,
             "gridcolor": "#EBF0F8",
             "linecolor": "#EBF0F8",
             "ticks": "",
             "title": {
              "standoff": 15
             },
             "zerolinecolor": "#EBF0F8",
             "zerolinewidth": 2
            },
            "yaxis": {
             "automargin": true,
             "gridcolor": "#EBF0F8",
             "linecolor": "#EBF0F8",
             "ticks": "",
             "title": {
              "standoff": 15
             },
             "zerolinecolor": "#EBF0F8",
             "zerolinewidth": 2
            }
           }
          },
          "xaxis": {
           "automargin": false,
           "linecolor": "#444",
           "linewidth": 2,
           "minor": {
            "tickmode": "linear",
            "ticks": "outside"
           },
           "mirror": true,
           "showline": true,
           "tickmode": "linear",
           "ticks": "outside",
           "zeroline": false
          },
          "yaxis": {
           "automargin": true,
           "linecolor": "#444",
           "linewidth": 2,
           "minor": {
            "tickmode": "linear",
            "ticks": "outside"
           },
           "mirror": true,
           "showline": true,
           "ticks": "outside",
           "zeroline": false
          }
         }
        },
        "width": 600,
        "xaxis": {
         "dtick": 0.2,
         "minor": {
          "dtick": 0.1,
          "tick0": 0
         },
         "range": [
          0,
          1
         ],
         "tick0": 0,
         "title": {
          "text": "encounter difficulty"
         }
        },
        "yaxis": {
         "dtick": 0.2,
         "minor": {
          "dtick": 0.1,
          "tick0": 0
         },
         "range": [
          -0.01,
          1.01
         ],
         "tick0": 0,
         "tickformat": ".1f",
         "title": {
          "text": "win probability"
         }
        }
       }
      }
     },
     "metadata": {},
     "output_type": "display_data"
    }
   ],
   "source": [
    "# Fig. 1: plots the probability of PCs and monsters winning for a range of difficulties\n",
    "\n",
    "difficulties = list(np.linspace(0.01, 1.0, 21))\n",
    "\n",
    "pc_win_pct = []\n",
    "mon_win_pct = []\n",
    "for diff in difficulties:\n",
    "    party_hp = 100\n",
    "    pc_r_win = 3\n",
    "    pc_dpr_cv = 0.5\n",
    "\n",
    "    mon_hp = 100\n",
    "    mon_r_win = pc_r_win/diff\n",
    "    mon_dpr_cv = 0.5\n",
    "\n",
    "\n",
    "    party_dpr = mon_hp/pc_r_win\n",
    "    party_size = 4\n",
    "    pc_hp = party_hp/party_size\n",
    "    pc_dpr = party_dpr/party_size\n",
    "\n",
    "    mon_dpr = party_hp/mon_r_win\n",
    "\n",
    "    # construct combatants\n",
    "    combatants = [\n",
    "        cp.Combatant(\n",
    "            group='NPCs',\n",
    "            name='monster',\n",
    "            opponent='PCs',\n",
    "            level=5,\n",
    "            hit_points = mon_hp,\n",
    "            damage = [cp.gaussian_dice_distribution(mon_dpr, mon_dpr_cv*mon_dpr)],\n",
    "        ),\n",
    "        cp.Combatant(\n",
    "            group='PCs',\n",
    "            name='PC 1',\n",
    "            opponent='NPCs',\n",
    "            level=5,\n",
    "            hit_points = pc_hp,\n",
    "            damage = [cp.gaussian_dice_distribution(pc_dpr, pc_dpr_cv*pc_dpr)],\n",
    "        ),\n",
    "        cp.Combatant(\n",
    "            group='PCs',\n",
    "            name='PC 2',\n",
    "            opponent='NPCs',\n",
    "            level=5,\n",
    "            hit_points = pc_hp,\n",
    "            damage = [cp.gaussian_dice_distribution(pc_dpr, pc_dpr_cv*pc_dpr)],\n",
    "        ),\n",
    "        cp.Combatant(\n",
    "            group='PCs',\n",
    "            name='PC 3',\n",
    "            opponent='NPCs',\n",
    "            level=5,\n",
    "            hit_points = pc_hp,\n",
    "            damage = [cp.gaussian_dice_distribution(pc_dpr, pc_dpr_cv*pc_dpr)],\n",
    "        ),\n",
    "        cp.Combatant(\n",
    "            group='PCs',\n",
    "            name='PC 4',\n",
    "            opponent='NPCs',\n",
    "            level=5,\n",
    "            hit_points = pc_hp,\n",
    "            damage = [cp.gaussian_dice_distribution(pc_dpr, pc_dpr_cv*pc_dpr)],\n",
    "        ),\n",
    "    ]\n",
    "    e = cp.Encounter(combatants, initiative=['PC 1','PC 2','monster','PC 3','PC 4'], rounds=10)\n",
    "    pc_win_pct += [e.group_win_pct('PCs', method='approx')]\n",
    "    mon_win_pct += [e.group_win_pct('NPCs', method='approx')]\n",
    "\n",
    "\n",
    "# create figure\n",
    "fig = go.Figure(\n",
    "    layout=go.Layout(\n",
    "        template=tfb.FIG_TEMPLATE,\n",
    "        xaxis=dict(\n",
    "            title_text='encounter difficulty',\n",
    "            range=[0.0, 1.0],\n",
    "            tick0=0, dtick=0.2,\n",
    "            minor=dict(tick0=0, dtick=0.1),\n",
    "        ),\n",
    "        yaxis=dict(\n",
    "            title_text='win probability',\n",
    "            range=[-0.01,1.01],\n",
    "            tickformat='.1f',\n",
    "            tick0=0, dtick=0.2,\n",
    "            minor=dict(tick0=0, dtick=0.1),\n",
    "        ),\n",
    "        legend=dict(\n",
    "            xanchor='right', yanchor='top',\n",
    "            x=0.98, y=0.98,\n",
    "            orientation='v',\n",
    "            tracegroupgap=0,\n",
    "            bgcolor='rgba(0,0,0,0)',\n",
    "        )\n",
    "    )\n",
    ")\n",
    "\n",
    "# plot difficulty ranges\n",
    "thresholds = [\n",
    "    ('Trivial', 0.00, 0.15, 'rgba(167, 167, 167, 0.15)'),\n",
    "    ('Easy',    0.15, 0.15, 'rgba(  0, 199, 151, 0.15)'),\n",
    "    ('Medium',  0.30, 0.15, 'rgba(245, 166,  35, 0.15)'),\n",
    "    ('Hard',    0.45, 0.25, 'rgba(228,  90,  29, 0.15)'),\n",
    "    ('Deadly',  0.70, 0.30, 'rgba(144,  79, 213, 0.15)'), #rgba(213,  79,  79, 0.2)'\n",
    "]\n",
    "for name, diff, dx, color in thresholds:\n",
    "    \"\"\"fig.add_trace(go.Scatter(\n",
    "        x=[diff,diff],\n",
    "        y=[0,1],\n",
    "        showlegend=False,\n",
    "        mode='lines',\n",
    "        line=dict(\n",
    "            color='black', \n",
    "            width=1,\n",
    "            dash='dash'\n",
    "        ),\n",
    "        hoverinfo='none',\n",
    "    ))\"\"\"\n",
    "\n",
    "    fig.add_trace(go.Scatter(\n",
    "        x=[diff, diff+dx], \n",
    "        y=[1.0, 1.0],\n",
    "        mode='none',\n",
    "        fill='tozeroy', \n",
    "        showlegend=False,\n",
    "        #line_color=color,\n",
    "        #marker_color=color,\n",
    "        fillcolor=color,\n",
    "        #hoveron = 'points+fills', # select where hover is active\n",
    "        hoverinfo='none'\n",
    "    ))\n",
    "    fig.add_annotation(\n",
    "        x=diff + dx/2, \n",
    "        y=0.50,\n",
    "        text=name,\n",
    "        showarrow=False,\n",
    "    )\n",
    "\n",
    "# plot data\n",
    "fig.add_trace(go.Scatter(\n",
    "    x=difficulties,\n",
    "    y=pc_win_pct,\n",
    "    name=f'PCs',\n",
    "    mode='lines',\n",
    "    line_color=COLOR_LIST[0],\n",
    "    hovertemplate=\n",
    "        f'<b>PCs</b><br>'+\n",
    "        'difficulty %{x:.2f}<br>'+\n",
    "        'probability %{y:.1%}<extra></extra>',\n",
    "))\n",
    "\n",
    "fig.add_trace(go.Scatter(\n",
    "    x=difficulties,\n",
    "    y=mon_win_pct,\n",
    "    name=f'NPCs',\n",
    "    mode='lines',\n",
    "    line_color=COLOR_LIST[1],\n",
    "    hovertemplate=\n",
    "        f'<b>NPCs</b><br>'+\n",
    "        'difficulty %{x:.2f}<br>'+\n",
    "        'probability %{y:.1%}<extra></extra>',\n",
    "))\n",
    "\n",
    "# show figure\n",
    "fig.update_layout(width=600, height=450)\n",
    "fig.show(config=tfb.FIG_CONFIG)\n",
    "\n",
    "# save figures\n",
    "if SAVEFIGS:\n",
    "    fig.update_layout(autosize=True, width=None, height=None)\n",
    "    tfb.save_fig_html(fig, format='large', name=f'./fig-win-vs-diff-deadly-large')\n",
    "    tfb.save_fig_html(fig, format='small', name=f'./fig-win-vs-diff-deadly-small')"
   ]
  },
  {
   "cell_type": "code",
   "execution_count": null,
   "metadata": {},
   "outputs": [
    {
     "data": {
      "application/vnd.plotly.v1+json": {
       "config": {
        "autosizable": true,
        "displayModeBar": "hover",
        "displaylogo": false,
        "doubleClick": "reset",
        "modeBarButtonsToRemove": [
         "select2d",
         "lasso2d",
         "zoom2d",
         "zoomIn2d",
         "zoomOut2d",
         "pan2d",
         "autoScale2d",
         "hoverClosestCartesian",
         "hoverCompareCartesian",
         "toggleSpikelines",
         "resetScale2d"
        ],
        "plotlyServerURL": "https://plot.ly",
        "responsive": true,
        "showAxisDragHandles": false,
        "toImageButtonOptions": {
         "filename": "tfb-plot",
         "format": "png",
         "height": 450,
         "scale": 2,
         "width": 600
        }
       },
       "data": [
        {
         "hovertemplate": "<b>PCs</b><br>monster CV %{x:.2f}<br>probability %{y:.1%}<extra></extra>",
         "name": "PCs",
         "type": "scatter",
         "x": [
          0.2,
          0.30000000000000004,
          0.4,
          0.5,
          0.6000000000000001,
          0.7000000000000002,
          0.8
         ],
         "y": [
          0.9639603328021596,
          0.9485459504353797,
          0.923236492679311,
          0.8911206484679677,
          0.8586032498032969,
          0.8285709637608062,
          0.8017735364323145
         ]
        },
        {
         "hovertemplate": "<b>NPCs</b><br>monster CV %{x:.2f}<br>probability %{y:.1%}<extra></extra>",
         "name": "NPCs",
         "type": "scatter",
         "x": [
          0.2,
          0.30000000000000004,
          0.4,
          0.5,
          0.6000000000000001,
          0.7000000000000002,
          0.8
         ],
         "y": [
          0.03603966719784034,
          0.05145404956462019,
          0.07676350732068882,
          0.10887935153202974,
          0.14139675019669384,
          0.17142903623917435,
          0.19822646356765286
         ]
        }
       ],
       "layout": {
        "height": 450,
        "legend": {
         "orientation": "v",
         "tracegroupgap": 0,
         "x": 0,
         "xanchor": "left",
         "y": 1,
         "yanchor": "top"
        },
        "template": {
         "layout": {
          "autosize": false,
          "font": {
           "family": "sans-serif",
           "size": 14
          },
          "hoverlabel": {
           "align": "left"
          },
          "hovermode": "closest",
          "margin": {
           "b": 55,
           "l": 60,
           "pad": 4,
           "r": 25,
           "t": 20
          },
          "template": {
           "data": {
            "bar": [
             {
              "error_x": {
               "color": "#2a3f5f"
              },
              "error_y": {
               "color": "#2a3f5f"
              },
              "marker": {
               "line": {
                "color": "white",
                "width": 0.5
               },
               "pattern": {
                "fillmode": "overlay",
                "size": 10,
                "solidity": 0.2
               }
              },
              "type": "bar"
             }
            ],
            "barpolar": [
             {
              "marker": {
               "line": {
                "color": "white",
                "width": 0.5
               },
               "pattern": {
                "fillmode": "overlay",
                "size": 10,
                "solidity": 0.2
               }
              },
              "type": "barpolar"
             }
            ],
            "carpet": [
             {
              "aaxis": {
               "endlinecolor": "#2a3f5f",
               "gridcolor": "#C8D4E3",
               "linecolor": "#C8D4E3",
               "minorgridcolor": "#C8D4E3",
               "startlinecolor": "#2a3f5f"
              },
              "baxis": {
               "endlinecolor": "#2a3f5f",
               "gridcolor": "#C8D4E3",
               "linecolor": "#C8D4E3",
               "minorgridcolor": "#C8D4E3",
               "startlinecolor": "#2a3f5f"
              },
              "type": "carpet"
             }
            ],
            "choropleth": [
             {
              "colorbar": {
               "outlinewidth": 0,
               "ticks": ""
              },
              "type": "choropleth"
             }
            ],
            "contour": [
             {
              "colorbar": {
               "outlinewidth": 0,
               "ticks": ""
              },
              "colorscale": [
               [
                0,
                "#0d0887"
               ],
               [
                0.1111111111111111,
                "#46039f"
               ],
               [
                0.2222222222222222,
                "#7201a8"
               ],
               [
                0.3333333333333333,
                "#9c179e"
               ],
               [
                0.4444444444444444,
                "#bd3786"
               ],
               [
                0.5555555555555556,
                "#d8576b"
               ],
               [
                0.6666666666666666,
                "#ed7953"
               ],
               [
                0.7777777777777778,
                "#fb9f3a"
               ],
               [
                0.8888888888888888,
                "#fdca26"
               ],
               [
                1,
                "#f0f921"
               ]
              ],
              "type": "contour"
             }
            ],
            "contourcarpet": [
             {
              "colorbar": {
               "outlinewidth": 0,
               "ticks": ""
              },
              "type": "contourcarpet"
             }
            ],
            "heatmap": [
             {
              "colorbar": {
               "outlinewidth": 0,
               "ticks": ""
              },
              "colorscale": [
               [
                0,
                "#0d0887"
               ],
               [
                0.1111111111111111,
                "#46039f"
               ],
               [
                0.2222222222222222,
                "#7201a8"
               ],
               [
                0.3333333333333333,
                "#9c179e"
               ],
               [
                0.4444444444444444,
                "#bd3786"
               ],
               [
                0.5555555555555556,
                "#d8576b"
               ],
               [
                0.6666666666666666,
                "#ed7953"
               ],
               [
                0.7777777777777778,
                "#fb9f3a"
               ],
               [
                0.8888888888888888,
                "#fdca26"
               ],
               [
                1,
                "#f0f921"
               ]
              ],
              "type": "heatmap"
             }
            ],
            "heatmapgl": [
             {
              "colorbar": {
               "outlinewidth": 0,
               "ticks": ""
              },
              "colorscale": [
               [
                0,
                "#0d0887"
               ],
               [
                0.1111111111111111,
                "#46039f"
               ],
               [
                0.2222222222222222,
                "#7201a8"
               ],
               [
                0.3333333333333333,
                "#9c179e"
               ],
               [
                0.4444444444444444,
                "#bd3786"
               ],
               [
                0.5555555555555556,
                "#d8576b"
               ],
               [
                0.6666666666666666,
                "#ed7953"
               ],
               [
                0.7777777777777778,
                "#fb9f3a"
               ],
               [
                0.8888888888888888,
                "#fdca26"
               ],
               [
                1,
                "#f0f921"
               ]
              ],
              "type": "heatmapgl"
             }
            ],
            "histogram": [
             {
              "marker": {
               "pattern": {
                "fillmode": "overlay",
                "size": 10,
                "solidity": 0.2
               }
              },
              "type": "histogram"
             }
            ],
            "histogram2d": [
             {
              "colorbar": {
               "outlinewidth": 0,
               "ticks": ""
              },
              "colorscale": [
               [
                0,
                "#0d0887"
               ],
               [
                0.1111111111111111,
                "#46039f"
               ],
               [
                0.2222222222222222,
                "#7201a8"
               ],
               [
                0.3333333333333333,
                "#9c179e"
               ],
               [
                0.4444444444444444,
                "#bd3786"
               ],
               [
                0.5555555555555556,
                "#d8576b"
               ],
               [
                0.6666666666666666,
                "#ed7953"
               ],
               [
                0.7777777777777778,
                "#fb9f3a"
               ],
               [
                0.8888888888888888,
                "#fdca26"
               ],
               [
                1,
                "#f0f921"
               ]
              ],
              "type": "histogram2d"
             }
            ],
            "histogram2dcontour": [
             {
              "colorbar": {
               "outlinewidth": 0,
               "ticks": ""
              },
              "colorscale": [
               [
                0,
                "#0d0887"
               ],
               [
                0.1111111111111111,
                "#46039f"
               ],
               [
                0.2222222222222222,
                "#7201a8"
               ],
               [
                0.3333333333333333,
                "#9c179e"
               ],
               [
                0.4444444444444444,
                "#bd3786"
               ],
               [
                0.5555555555555556,
                "#d8576b"
               ],
               [
                0.6666666666666666,
                "#ed7953"
               ],
               [
                0.7777777777777778,
                "#fb9f3a"
               ],
               [
                0.8888888888888888,
                "#fdca26"
               ],
               [
                1,
                "#f0f921"
               ]
              ],
              "type": "histogram2dcontour"
             }
            ],
            "mesh3d": [
             {
              "colorbar": {
               "outlinewidth": 0,
               "ticks": ""
              },
              "type": "mesh3d"
             }
            ],
            "parcoords": [
             {
              "line": {
               "colorbar": {
                "outlinewidth": 0,
                "ticks": ""
               }
              },
              "type": "parcoords"
             }
            ],
            "pie": [
             {
              "automargin": true,
              "type": "pie"
             }
            ],
            "scatter": [
             {
              "fillpattern": {
               "fillmode": "overlay",
               "size": 10,
               "solidity": 0.2
              },
              "type": "scatter"
             }
            ],
            "scatter3d": [
             {
              "line": {
               "colorbar": {
                "outlinewidth": 0,
                "ticks": ""
               }
              },
              "marker": {
               "colorbar": {
                "outlinewidth": 0,
                "ticks": ""
               }
              },
              "type": "scatter3d"
             }
            ],
            "scattercarpet": [
             {
              "marker": {
               "colorbar": {
                "outlinewidth": 0,
                "ticks": ""
               }
              },
              "type": "scattercarpet"
             }
            ],
            "scattergeo": [
             {
              "marker": {
               "colorbar": {
                "outlinewidth": 0,
                "ticks": ""
               }
              },
              "type": "scattergeo"
             }
            ],
            "scattergl": [
             {
              "marker": {
               "colorbar": {
                "outlinewidth": 0,
                "ticks": ""
               }
              },
              "type": "scattergl"
             }
            ],
            "scattermapbox": [
             {
              "marker": {
               "colorbar": {
                "outlinewidth": 0,
                "ticks": ""
               }
              },
              "type": "scattermapbox"
             }
            ],
            "scatterpolar": [
             {
              "marker": {
               "colorbar": {
                "outlinewidth": 0,
                "ticks": ""
               }
              },
              "type": "scatterpolar"
             }
            ],
            "scatterpolargl": [
             {
              "marker": {
               "colorbar": {
                "outlinewidth": 0,
                "ticks": ""
               }
              },
              "type": "scatterpolargl"
             }
            ],
            "scatterternary": [
             {
              "marker": {
               "colorbar": {
                "outlinewidth": 0,
                "ticks": ""
               }
              },
              "type": "scatterternary"
             }
            ],
            "surface": [
             {
              "colorbar": {
               "outlinewidth": 0,
               "ticks": ""
              },
              "colorscale": [
               [
                0,
                "#0d0887"
               ],
               [
                0.1111111111111111,
                "#46039f"
               ],
               [
                0.2222222222222222,
                "#7201a8"
               ],
               [
                0.3333333333333333,
                "#9c179e"
               ],
               [
                0.4444444444444444,
                "#bd3786"
               ],
               [
                0.5555555555555556,
                "#d8576b"
               ],
               [
                0.6666666666666666,
                "#ed7953"
               ],
               [
                0.7777777777777778,
                "#fb9f3a"
               ],
               [
                0.8888888888888888,
                "#fdca26"
               ],
               [
                1,
                "#f0f921"
               ]
              ],
              "type": "surface"
             }
            ],
            "table": [
             {
              "cells": {
               "fill": {
                "color": "#EBF0F8"
               },
               "line": {
                "color": "white"
               }
              },
              "header": {
               "fill": {
                "color": "#C8D4E3"
               },
               "line": {
                "color": "white"
               }
              },
              "type": "table"
             }
            ]
           },
           "layout": {
            "annotationdefaults": {
             "arrowcolor": "#2a3f5f",
             "arrowhead": 0,
             "arrowwidth": 1
            },
            "autotypenumbers": "strict",
            "coloraxis": {
             "colorbar": {
              "outlinewidth": 0,
              "ticks": ""
             }
            },
            "colorscale": {
             "diverging": [
              [
               0,
               "#8e0152"
              ],
              [
               0.1,
               "#c51b7d"
              ],
              [
               0.2,
               "#de77ae"
              ],
              [
               0.3,
               "#f1b6da"
              ],
              [
               0.4,
               "#fde0ef"
              ],
              [
               0.5,
               "#f7f7f7"
              ],
              [
               0.6,
               "#e6f5d0"
              ],
              [
               0.7,
               "#b8e186"
              ],
              [
               0.8,
               "#7fbc41"
              ],
              [
               0.9,
               "#4d9221"
              ],
              [
               1,
               "#276419"
              ]
             ],
             "sequential": [
              [
               0,
               "#0d0887"
              ],
              [
               0.1111111111111111,
               "#46039f"
              ],
              [
               0.2222222222222222,
               "#7201a8"
              ],
              [
               0.3333333333333333,
               "#9c179e"
              ],
              [
               0.4444444444444444,
               "#bd3786"
              ],
              [
               0.5555555555555556,
               "#d8576b"
              ],
              [
               0.6666666666666666,
               "#ed7953"
              ],
              [
               0.7777777777777778,
               "#fb9f3a"
              ],
              [
               0.8888888888888888,
               "#fdca26"
              ],
              [
               1,
               "#f0f921"
              ]
             ],
             "sequentialminus": [
              [
               0,
               "#0d0887"
              ],
              [
               0.1111111111111111,
               "#46039f"
              ],
              [
               0.2222222222222222,
               "#7201a8"
              ],
              [
               0.3333333333333333,
               "#9c179e"
              ],
              [
               0.4444444444444444,
               "#bd3786"
              ],
              [
               0.5555555555555556,
               "#d8576b"
              ],
              [
               0.6666666666666666,
               "#ed7953"
              ],
              [
               0.7777777777777778,
               "#fb9f3a"
              ],
              [
               0.8888888888888888,
               "#fdca26"
              ],
              [
               1,
               "#f0f921"
              ]
             ]
            },
            "colorway": [
             "#636efa",
             "#EF553B",
             "#00cc96",
             "#ab63fa",
             "#FFA15A",
             "#19d3f3",
             "#FF6692",
             "#B6E880",
             "#FF97FF",
             "#FECB52"
            ],
            "font": {
             "color": "#2a3f5f"
            },
            "geo": {
             "bgcolor": "white",
             "lakecolor": "white",
             "landcolor": "white",
             "showlakes": true,
             "showland": true,
             "subunitcolor": "#C8D4E3"
            },
            "hoverlabel": {
             "align": "left"
            },
            "hovermode": "closest",
            "mapbox": {
             "style": "light"
            },
            "paper_bgcolor": "white",
            "plot_bgcolor": "white",
            "polar": {
             "angularaxis": {
              "gridcolor": "#EBF0F8",
              "linecolor": "#EBF0F8",
              "ticks": ""
             },
             "bgcolor": "white",
             "radialaxis": {
              "gridcolor": "#EBF0F8",
              "linecolor": "#EBF0F8",
              "ticks": ""
             }
            },
            "scene": {
             "xaxis": {
              "backgroundcolor": "white",
              "gridcolor": "#DFE8F3",
              "gridwidth": 2,
              "linecolor": "#EBF0F8",
              "showbackground": true,
              "ticks": "",
              "zerolinecolor": "#EBF0F8"
             },
             "yaxis": {
              "backgroundcolor": "white",
              "gridcolor": "#DFE8F3",
              "gridwidth": 2,
              "linecolor": "#EBF0F8",
              "showbackground": true,
              "ticks": "",
              "zerolinecolor": "#EBF0F8"
             },
             "zaxis": {
              "backgroundcolor": "white",
              "gridcolor": "#DFE8F3",
              "gridwidth": 2,
              "linecolor": "#EBF0F8",
              "showbackground": true,
              "ticks": "",
              "zerolinecolor": "#EBF0F8"
             }
            },
            "shapedefaults": {
             "line": {
              "color": "#2a3f5f"
             }
            },
            "ternary": {
             "aaxis": {
              "gridcolor": "#DFE8F3",
              "linecolor": "#A2B1C6",
              "ticks": ""
             },
             "baxis": {
              "gridcolor": "#DFE8F3",
              "linecolor": "#A2B1C6",
              "ticks": ""
             },
             "bgcolor": "white",
             "caxis": {
              "gridcolor": "#DFE8F3",
              "linecolor": "#A2B1C6",
              "ticks": ""
             }
            },
            "title": {
             "x": 0.05
            },
            "xaxis": {
             "automargin": true,
             "gridcolor": "#EBF0F8",
             "linecolor": "#EBF0F8",
             "ticks": "",
             "title": {
              "standoff": 15
             },
             "zerolinecolor": "#EBF0F8",
             "zerolinewidth": 2
            },
            "yaxis": {
             "automargin": true,
             "gridcolor": "#EBF0F8",
             "linecolor": "#EBF0F8",
             "ticks": "",
             "title": {
              "standoff": 15
             },
             "zerolinecolor": "#EBF0F8",
             "zerolinewidth": 2
            }
           }
          },
          "xaxis": {
           "automargin": false,
           "linecolor": "#444",
           "linewidth": 2,
           "minor": {
            "tickmode": "linear",
            "ticks": "outside"
           },
           "mirror": true,
           "showline": true,
           "tickmode": "linear",
           "ticks": "outside",
           "zeroline": false
          },
          "yaxis": {
           "automargin": true,
           "linecolor": "#444",
           "linewidth": 2,
           "minor": {
            "tickmode": "linear",
            "ticks": "outside"
           },
           "mirror": true,
           "showline": true,
           "ticks": "outside",
           "zeroline": false
          }
         }
        },
        "width": 600,
        "xaxis": {
         "dtick": 0.2,
         "minor": {
          "dtick": 0.1,
          "tick0": 0
         },
         "range": [
          0,
          1
         ],
         "tick0": 0,
         "title": {
          "text": "NPC damage sigma / mean"
         }
        },
        "yaxis": {
         "dtick": 0.2,
         "minor": {
          "dtick": 0.1,
          "tick0": 0
         },
         "range": [
          0,
          1
         ],
         "tick0": 0,
         "tickformat": ".1f",
         "title": {
          "text": "win probability"
         }
        }
       }
      }
     },
     "metadata": {},
     "output_type": "display_data"
    }
   ],
   "source": [
    "# Fig. 2: plots the probability of PCs and monsters winning for a range of monster CV values\n",
    "diff = 0.7 # deadly\n",
    "\n",
    "party_hp = 100\n",
    "pc_r_win = 3\n",
    "pc_dpr_cv = 0.5\n",
    "\n",
    "\n",
    "mon_hp = 100\n",
    "mon_r_win = pc_r_win/diff\n",
    "mon_dpr_cvs = np.linspace(0.2, 0.8, 7)\n",
    "\n",
    "\n",
    "party_dpr = mon_hp/pc_r_win\n",
    "party_size = 4\n",
    "pc_hp = party_hp/party_size\n",
    "pc_dpr = party_dpr/party_size\n",
    "\n",
    "mon_dpr = party_hp/mon_r_win\n",
    "\n",
    "\n",
    "# original\n",
    "pc_win_pct = []\n",
    "mon_win_pct = []\n",
    "for mon_dpr_cv in mon_dpr_cvs:\n",
    "    combatants = [\n",
    "        cp.Combatant(\n",
    "            group='NPCs',\n",
    "            name='monster',\n",
    "            opponent='PCs',\n",
    "            level=5,\n",
    "            hit_points = mon_hp,\n",
    "            damage = [cp.gaussian_dice_distribution(mon_dpr, mon_dpr_cv*mon_dpr)],\n",
    "        ),\n",
    "        cp.Combatant(\n",
    "            group='PCs',\n",
    "            name='PC 1',\n",
    "            opponent='NPCs',\n",
    "            level=5,\n",
    "            hit_points = pc_hp,\n",
    "            damage = [cp.gaussian_dice_distribution(pc_dpr, pc_dpr_cv*pc_dpr)],\n",
    "        ),\n",
    "        cp.Combatant(\n",
    "            group='PCs',\n",
    "            name='PC 2',\n",
    "            opponent='NPCs',\n",
    "            level=5,\n",
    "            hit_points = pc_hp,\n",
    "            damage = [cp.gaussian_dice_distribution(pc_dpr, pc_dpr_cv*pc_dpr)],\n",
    "        ),\n",
    "        cp.Combatant(\n",
    "            group='PCs',\n",
    "            name='PC 3',\n",
    "            opponent='NPCs',\n",
    "            level=5,\n",
    "            hit_points = pc_hp,\n",
    "            damage = [cp.gaussian_dice_distribution(pc_dpr, pc_dpr_cv*pc_dpr)],\n",
    "        ),\n",
    "        cp.Combatant(\n",
    "            group='PCs',\n",
    "            name='PC 4',\n",
    "            opponent='NPCs',\n",
    "            level=5,\n",
    "            hit_points = pc_hp,\n",
    "            damage = [cp.gaussian_dice_distribution(pc_dpr, pc_dpr_cv*pc_dpr)],\n",
    "        ),\n",
    "    ]\n",
    "    e = cp.Encounter(combatants, initiative=['PC 1','PC 2','monster','PC 3','PC 4'], rounds=8)\n",
    "    pc_win_pct += [e.group_win_pct('PCs', method='approx')]\n",
    "    mon_win_pct += [e.group_win_pct('NPCs', method='approx')]\n",
    "    #print(e.encounter_length(units='rounds', method='approx'))\n",
    "\n",
    "\n",
    "# create figure\n",
    "fig = go.Figure(\n",
    "    layout=go.Layout(\n",
    "        template=tfb.FIG_TEMPLATE,\n",
    "        xaxis=dict(\n",
    "            title_text='NPC damage sigma / mean',\n",
    "            range=[0, 1],\n",
    "            tick0=0, dtick=0.2,\n",
    "            minor=dict(tick0=0, dtick=0.1),\n",
    "        ),\n",
    "        yaxis=dict(\n",
    "            title_text='win probability',\n",
    "            range=[0.0,1],\n",
    "            tickformat='.1f',\n",
    "            tick0=0, dtick=0.20,\n",
    "            minor=dict(tick0=0, dtick=0.10),\n",
    "        ),\n",
    "        legend=dict(\n",
    "            xanchor='left', yanchor='top',\n",
    "            x=0.00, y=1.00,\n",
    "            orientation='v',\n",
    "            tracegroupgap=0,\n",
    "        )\n",
    "    )\n",
    ")\n",
    "\n",
    "fig.add_trace(go.Scatter(\n",
    "    x=mon_dpr_cvs,\n",
    "    y=pc_win_pct,\n",
    "    name=f'PCs',\n",
    "    #line_color=COLOR_LIST[i],\n",
    "    hovertemplate=\n",
    "        f'<b>PCs</b><br>'+\n",
    "        'monster CV %{x:.2f}<br>'+\n",
    "        'probability %{y:.1%}<extra></extra>',\n",
    "))\n",
    "\n",
    "fig.add_trace(go.Scatter(\n",
    "    x=mon_dpr_cvs,\n",
    "    y=mon_win_pct,\n",
    "    name=f'NPCs',\n",
    "    #line_color=COLOR_LIST[i],\n",
    "    hovertemplate=\n",
    "        f'<b>NPCs</b><br>'+\n",
    "        'monster CV %{x:.2f}<br>'+\n",
    "        'probability %{y:.1%}<extra></extra>',\n",
    "))\n",
    "\n",
    "\n",
    "# show figure\n",
    "fig.update_layout(width=600, height=450)\n",
    "fig.show(config=tfb.FIG_CONFIG)\n",
    "\n",
    "# save figures\n",
    "if SAVEFIGS:\n",
    "    fig.update_layout(autosize=True, width=None, height=None)\n",
    "    tfb.save_fig_html(fig, format='large', name=f'./fig-win-vs-npc-cv-deadly-large')\n",
    "    tfb.save_fig_html(fig, format='small', name=f'./fig-win-vs-npc-cv-deadly-small')"
   ]
  },
  {
   "cell_type": "code",
   "execution_count": null,
   "metadata": {},
   "outputs": [
    {
     "data": {
      "application/vnd.plotly.v1+json": {
       "config": {
        "autosizable": true,
        "displayModeBar": "hover",
        "displaylogo": false,
        "doubleClick": "reset",
        "modeBarButtonsToRemove": [
         "select2d",
         "lasso2d",
         "zoom2d",
         "zoomIn2d",
         "zoomOut2d",
         "pan2d",
         "autoScale2d",
         "hoverClosestCartesian",
         "hoverCompareCartesian",
         "toggleSpikelines",
         "resetScale2d"
        ],
        "plotlyServerURL": "https://plot.ly",
        "responsive": true,
        "showAxisDragHandles": false,
        "toImageButtonOptions": {
         "filename": "tfb-plot",
         "format": "png",
         "height": 450,
         "scale": 2,
         "width": 600
        }
       },
       "data": [
        {
         "hovertemplate": "<b>PCs</b><br>PC CV %{x:.2f}<br>probability %{y:.1%}<extra></extra>",
         "name": "PCs",
         "type": "scatter",
         "x": [
          0.2,
          0.30000000000000004,
          0.4,
          0.5,
          0.6000000000000001,
          0.7000000000000002,
          0.8
         ],
         "y": [
          0.9269583466409328,
          0.9185407968753765,
          0.9049494327410439,
          0.8911206484679677,
          0.8776850095966906,
          0.8642145994143448,
          0.8505645211843287
         ]
        },
        {
         "hovertemplate": "<b>NPCs</b><br>PC CV %{x:.2f}<br>probability %{y:.1%}<extra></extra>",
         "name": "NPCs",
         "type": "scatter",
         "x": [
          0.2,
          0.30000000000000004,
          0.4,
          0.5,
          0.6000000000000001,
          0.7000000000000002,
          0.8
         ],
         "y": [
          0.07304165335906715,
          0.08145920312462357,
          0.09505056725895632,
          0.10887935153202974,
          0.12231499039626095,
          0.13578539974708348,
          0.14943545961332683
         ]
        }
       ],
       "layout": {
        "height": 450,
        "legend": {
         "orientation": "v",
         "tracegroupgap": 0,
         "x": 0,
         "xanchor": "left",
         "y": 1,
         "yanchor": "top"
        },
        "template": {
         "layout": {
          "autosize": false,
          "font": {
           "family": "sans-serif",
           "size": 14
          },
          "hoverlabel": {
           "align": "left"
          },
          "hovermode": "closest",
          "margin": {
           "b": 55,
           "l": 60,
           "pad": 4,
           "r": 25,
           "t": 20
          },
          "template": {
           "data": {
            "bar": [
             {
              "error_x": {
               "color": "#2a3f5f"
              },
              "error_y": {
               "color": "#2a3f5f"
              },
              "marker": {
               "line": {
                "color": "white",
                "width": 0.5
               },
               "pattern": {
                "fillmode": "overlay",
                "size": 10,
                "solidity": 0.2
               }
              },
              "type": "bar"
             }
            ],
            "barpolar": [
             {
              "marker": {
               "line": {
                "color": "white",
                "width": 0.5
               },
               "pattern": {
                "fillmode": "overlay",
                "size": 10,
                "solidity": 0.2
               }
              },
              "type": "barpolar"
             }
            ],
            "carpet": [
             {
              "aaxis": {
               "endlinecolor": "#2a3f5f",
               "gridcolor": "#C8D4E3",
               "linecolor": "#C8D4E3",
               "minorgridcolor": "#C8D4E3",
               "startlinecolor": "#2a3f5f"
              },
              "baxis": {
               "endlinecolor": "#2a3f5f",
               "gridcolor": "#C8D4E3",
               "linecolor": "#C8D4E3",
               "minorgridcolor": "#C8D4E3",
               "startlinecolor": "#2a3f5f"
              },
              "type": "carpet"
             }
            ],
            "choropleth": [
             {
              "colorbar": {
               "outlinewidth": 0,
               "ticks": ""
              },
              "type": "choropleth"
             }
            ],
            "contour": [
             {
              "colorbar": {
               "outlinewidth": 0,
               "ticks": ""
              },
              "colorscale": [
               [
                0,
                "#0d0887"
               ],
               [
                0.1111111111111111,
                "#46039f"
               ],
               [
                0.2222222222222222,
                "#7201a8"
               ],
               [
                0.3333333333333333,
                "#9c179e"
               ],
               [
                0.4444444444444444,
                "#bd3786"
               ],
               [
                0.5555555555555556,
                "#d8576b"
               ],
               [
                0.6666666666666666,
                "#ed7953"
               ],
               [
                0.7777777777777778,
                "#fb9f3a"
               ],
               [
                0.8888888888888888,
                "#fdca26"
               ],
               [
                1,
                "#f0f921"
               ]
              ],
              "type": "contour"
             }
            ],
            "contourcarpet": [
             {
              "colorbar": {
               "outlinewidth": 0,
               "ticks": ""
              },
              "type": "contourcarpet"
             }
            ],
            "heatmap": [
             {
              "colorbar": {
               "outlinewidth": 0,
               "ticks": ""
              },
              "colorscale": [
               [
                0,
                "#0d0887"
               ],
               [
                0.1111111111111111,
                "#46039f"
               ],
               [
                0.2222222222222222,
                "#7201a8"
               ],
               [
                0.3333333333333333,
                "#9c179e"
               ],
               [
                0.4444444444444444,
                "#bd3786"
               ],
               [
                0.5555555555555556,
                "#d8576b"
               ],
               [
                0.6666666666666666,
                "#ed7953"
               ],
               [
                0.7777777777777778,
                "#fb9f3a"
               ],
               [
                0.8888888888888888,
                "#fdca26"
               ],
               [
                1,
                "#f0f921"
               ]
              ],
              "type": "heatmap"
             }
            ],
            "heatmapgl": [
             {
              "colorbar": {
               "outlinewidth": 0,
               "ticks": ""
              },
              "colorscale": [
               [
                0,
                "#0d0887"
               ],
               [
                0.1111111111111111,
                "#46039f"
               ],
               [
                0.2222222222222222,
                "#7201a8"
               ],
               [
                0.3333333333333333,
                "#9c179e"
               ],
               [
                0.4444444444444444,
                "#bd3786"
               ],
               [
                0.5555555555555556,
                "#d8576b"
               ],
               [
                0.6666666666666666,
                "#ed7953"
               ],
               [
                0.7777777777777778,
                "#fb9f3a"
               ],
               [
                0.8888888888888888,
                "#fdca26"
               ],
               [
                1,
                "#f0f921"
               ]
              ],
              "type": "heatmapgl"
             }
            ],
            "histogram": [
             {
              "marker": {
               "pattern": {
                "fillmode": "overlay",
                "size": 10,
                "solidity": 0.2
               }
              },
              "type": "histogram"
             }
            ],
            "histogram2d": [
             {
              "colorbar": {
               "outlinewidth": 0,
               "ticks": ""
              },
              "colorscale": [
               [
                0,
                "#0d0887"
               ],
               [
                0.1111111111111111,
                "#46039f"
               ],
               [
                0.2222222222222222,
                "#7201a8"
               ],
               [
                0.3333333333333333,
                "#9c179e"
               ],
               [
                0.4444444444444444,
                "#bd3786"
               ],
               [
                0.5555555555555556,
                "#d8576b"
               ],
               [
                0.6666666666666666,
                "#ed7953"
               ],
               [
                0.7777777777777778,
                "#fb9f3a"
               ],
               [
                0.8888888888888888,
                "#fdca26"
               ],
               [
                1,
                "#f0f921"
               ]
              ],
              "type": "histogram2d"
             }
            ],
            "histogram2dcontour": [
             {
              "colorbar": {
               "outlinewidth": 0,
               "ticks": ""
              },
              "colorscale": [
               [
                0,
                "#0d0887"
               ],
               [
                0.1111111111111111,
                "#46039f"
               ],
               [
                0.2222222222222222,
                "#7201a8"
               ],
               [
                0.3333333333333333,
                "#9c179e"
               ],
               [
                0.4444444444444444,
                "#bd3786"
               ],
               [
                0.5555555555555556,
                "#d8576b"
               ],
               [
                0.6666666666666666,
                "#ed7953"
               ],
               [
                0.7777777777777778,
                "#fb9f3a"
               ],
               [
                0.8888888888888888,
                "#fdca26"
               ],
               [
                1,
                "#f0f921"
               ]
              ],
              "type": "histogram2dcontour"
             }
            ],
            "mesh3d": [
             {
              "colorbar": {
               "outlinewidth": 0,
               "ticks": ""
              },
              "type": "mesh3d"
             }
            ],
            "parcoords": [
             {
              "line": {
               "colorbar": {
                "outlinewidth": 0,
                "ticks": ""
               }
              },
              "type": "parcoords"
             }
            ],
            "pie": [
             {
              "automargin": true,
              "type": "pie"
             }
            ],
            "scatter": [
             {
              "fillpattern": {
               "fillmode": "overlay",
               "size": 10,
               "solidity": 0.2
              },
              "type": "scatter"
             }
            ],
            "scatter3d": [
             {
              "line": {
               "colorbar": {
                "outlinewidth": 0,
                "ticks": ""
               }
              },
              "marker": {
               "colorbar": {
                "outlinewidth": 0,
                "ticks": ""
               }
              },
              "type": "scatter3d"
             }
            ],
            "scattercarpet": [
             {
              "marker": {
               "colorbar": {
                "outlinewidth": 0,
                "ticks": ""
               }
              },
              "type": "scattercarpet"
             }
            ],
            "scattergeo": [
             {
              "marker": {
               "colorbar": {
                "outlinewidth": 0,
                "ticks": ""
               }
              },
              "type": "scattergeo"
             }
            ],
            "scattergl": [
             {
              "marker": {
               "colorbar": {
                "outlinewidth": 0,
                "ticks": ""
               }
              },
              "type": "scattergl"
             }
            ],
            "scattermapbox": [
             {
              "marker": {
               "colorbar": {
                "outlinewidth": 0,
                "ticks": ""
               }
              },
              "type": "scattermapbox"
             }
            ],
            "scatterpolar": [
             {
              "marker": {
               "colorbar": {
                "outlinewidth": 0,
                "ticks": ""
               }
              },
              "type": "scatterpolar"
             }
            ],
            "scatterpolargl": [
             {
              "marker": {
               "colorbar": {
                "outlinewidth": 0,
                "ticks": ""
               }
              },
              "type": "scatterpolargl"
             }
            ],
            "scatterternary": [
             {
              "marker": {
               "colorbar": {
                "outlinewidth": 0,
                "ticks": ""
               }
              },
              "type": "scatterternary"
             }
            ],
            "surface": [
             {
              "colorbar": {
               "outlinewidth": 0,
               "ticks": ""
              },
              "colorscale": [
               [
                0,
                "#0d0887"
               ],
               [
                0.1111111111111111,
                "#46039f"
               ],
               [
                0.2222222222222222,
                "#7201a8"
               ],
               [
                0.3333333333333333,
                "#9c179e"
               ],
               [
                0.4444444444444444,
                "#bd3786"
               ],
               [
                0.5555555555555556,
                "#d8576b"
               ],
               [
                0.6666666666666666,
                "#ed7953"
               ],
               [
                0.7777777777777778,
                "#fb9f3a"
               ],
               [
                0.8888888888888888,
                "#fdca26"
               ],
               [
                1,
                "#f0f921"
               ]
              ],
              "type": "surface"
             }
            ],
            "table": [
             {
              "cells": {
               "fill": {
                "color": "#EBF0F8"
               },
               "line": {
                "color": "white"
               }
              },
              "header": {
               "fill": {
                "color": "#C8D4E3"
               },
               "line": {
                "color": "white"
               }
              },
              "type": "table"
             }
            ]
           },
           "layout": {
            "annotationdefaults": {
             "arrowcolor": "#2a3f5f",
             "arrowhead": 0,
             "arrowwidth": 1
            },
            "autotypenumbers": "strict",
            "coloraxis": {
             "colorbar": {
              "outlinewidth": 0,
              "ticks": ""
             }
            },
            "colorscale": {
             "diverging": [
              [
               0,
               "#8e0152"
              ],
              [
               0.1,
               "#c51b7d"
              ],
              [
               0.2,
               "#de77ae"
              ],
              [
               0.3,
               "#f1b6da"
              ],
              [
               0.4,
               "#fde0ef"
              ],
              [
               0.5,
               "#f7f7f7"
              ],
              [
               0.6,
               "#e6f5d0"
              ],
              [
               0.7,
               "#b8e186"
              ],
              [
               0.8,
               "#7fbc41"
              ],
              [
               0.9,
               "#4d9221"
              ],
              [
               1,
               "#276419"
              ]
             ],
             "sequential": [
              [
               0,
               "#0d0887"
              ],
              [
               0.1111111111111111,
               "#46039f"
              ],
              [
               0.2222222222222222,
               "#7201a8"
              ],
              [
               0.3333333333333333,
               "#9c179e"
              ],
              [
               0.4444444444444444,
               "#bd3786"
              ],
              [
               0.5555555555555556,
               "#d8576b"
              ],
              [
               0.6666666666666666,
               "#ed7953"
              ],
              [
               0.7777777777777778,
               "#fb9f3a"
              ],
              [
               0.8888888888888888,
               "#fdca26"
              ],
              [
               1,
               "#f0f921"
              ]
             ],
             "sequentialminus": [
              [
               0,
               "#0d0887"
              ],
              [
               0.1111111111111111,
               "#46039f"
              ],
              [
               0.2222222222222222,
               "#7201a8"
              ],
              [
               0.3333333333333333,
               "#9c179e"
              ],
              [
               0.4444444444444444,
               "#bd3786"
              ],
              [
               0.5555555555555556,
               "#d8576b"
              ],
              [
               0.6666666666666666,
               "#ed7953"
              ],
              [
               0.7777777777777778,
               "#fb9f3a"
              ],
              [
               0.8888888888888888,
               "#fdca26"
              ],
              [
               1,
               "#f0f921"
              ]
             ]
            },
            "colorway": [
             "#636efa",
             "#EF553B",
             "#00cc96",
             "#ab63fa",
             "#FFA15A",
             "#19d3f3",
             "#FF6692",
             "#B6E880",
             "#FF97FF",
             "#FECB52"
            ],
            "font": {
             "color": "#2a3f5f"
            },
            "geo": {
             "bgcolor": "white",
             "lakecolor": "white",
             "landcolor": "white",
             "showlakes": true,
             "showland": true,
             "subunitcolor": "#C8D4E3"
            },
            "hoverlabel": {
             "align": "left"
            },
            "hovermode": "closest",
            "mapbox": {
             "style": "light"
            },
            "paper_bgcolor": "white",
            "plot_bgcolor": "white",
            "polar": {
             "angularaxis": {
              "gridcolor": "#EBF0F8",
              "linecolor": "#EBF0F8",
              "ticks": ""
             },
             "bgcolor": "white",
             "radialaxis": {
              "gridcolor": "#EBF0F8",
              "linecolor": "#EBF0F8",
              "ticks": ""
             }
            },
            "scene": {
             "xaxis": {
              "backgroundcolor": "white",
              "gridcolor": "#DFE8F3",
              "gridwidth": 2,
              "linecolor": "#EBF0F8",
              "showbackground": true,
              "ticks": "",
              "zerolinecolor": "#EBF0F8"
             },
             "yaxis": {
              "backgroundcolor": "white",
              "gridcolor": "#DFE8F3",
              "gridwidth": 2,
              "linecolor": "#EBF0F8",
              "showbackground": true,
              "ticks": "",
              "zerolinecolor": "#EBF0F8"
             },
             "zaxis": {
              "backgroundcolor": "white",
              "gridcolor": "#DFE8F3",
              "gridwidth": 2,
              "linecolor": "#EBF0F8",
              "showbackground": true,
              "ticks": "",
              "zerolinecolor": "#EBF0F8"
             }
            },
            "shapedefaults": {
             "line": {
              "color": "#2a3f5f"
             }
            },
            "ternary": {
             "aaxis": {
              "gridcolor": "#DFE8F3",
              "linecolor": "#A2B1C6",
              "ticks": ""
             },
             "baxis": {
              "gridcolor": "#DFE8F3",
              "linecolor": "#A2B1C6",
              "ticks": ""
             },
             "bgcolor": "white",
             "caxis": {
              "gridcolor": "#DFE8F3",
              "linecolor": "#A2B1C6",
              "ticks": ""
             }
            },
            "title": {
             "x": 0.05
            },
            "xaxis": {
             "automargin": true,
             "gridcolor": "#EBF0F8",
             "linecolor": "#EBF0F8",
             "ticks": "",
             "title": {
              "standoff": 15
             },
             "zerolinecolor": "#EBF0F8",
             "zerolinewidth": 2
            },
            "yaxis": {
             "automargin": true,
             "gridcolor": "#EBF0F8",
             "linecolor": "#EBF0F8",
             "ticks": "",
             "title": {
              "standoff": 15
             },
             "zerolinecolor": "#EBF0F8",
             "zerolinewidth": 2
            }
           }
          },
          "xaxis": {
           "automargin": false,
           "linecolor": "#444",
           "linewidth": 2,
           "minor": {
            "tickmode": "linear",
            "ticks": "outside"
           },
           "mirror": true,
           "showline": true,
           "tickmode": "linear",
           "ticks": "outside",
           "zeroline": false
          },
          "yaxis": {
           "automargin": true,
           "linecolor": "#444",
           "linewidth": 2,
           "minor": {
            "tickmode": "linear",
            "ticks": "outside"
           },
           "mirror": true,
           "showline": true,
           "ticks": "outside",
           "zeroline": false
          }
         }
        },
        "width": 600,
        "xaxis": {
         "dtick": 0.2,
         "minor": {
          "dtick": 0.1,
          "tick0": 0
         },
         "range": [
          0,
          1
         ],
         "tick0": 0,
         "title": {
          "text": "PC damage sigma / mean"
         }
        },
        "yaxis": {
         "dtick": 0.2,
         "minor": {
          "dtick": 0.1,
          "tick0": 0
         },
         "range": [
          0,
          1
         ],
         "tick0": 0,
         "title": {
          "text": "win probability"
         }
        }
       }
      }
     },
     "metadata": {},
     "output_type": "display_data"
    }
   ],
   "source": [
    "# Fig. 3: plots the probability of PCs and monsters winning for a range of PC CV values\n",
    "diff = 0.7 # deadly\n",
    "\n",
    "party_hp = 100\n",
    "pc_r_win = 3\n",
    "pc_dpr_cvs = np.linspace(0.2, 0.8, 7)\n",
    "\n",
    "\n",
    "mon_hp = 100\n",
    "mon_r_win = pc_r_win/diff\n",
    "mon_dpr_cv = 0.5\n",
    "\n",
    "\n",
    "party_dpr = mon_hp/pc_r_win\n",
    "party_size = 4\n",
    "pc_hp = party_hp/party_size\n",
    "pc_dpr = party_dpr/party_size\n",
    "\n",
    "mon_dpr = party_hp/mon_r_win\n",
    "\n",
    "# original\n",
    "pc_win_pct = []\n",
    "mon_win_pct = []\n",
    "\n",
    "for pc_dpr_cv in pc_dpr_cvs:\n",
    "    combatants = [\n",
    "        cp.Combatant(\n",
    "            group='NPCs',\n",
    "            name='monster',\n",
    "            opponent='PCs',\n",
    "            level=5,\n",
    "            hit_points = mon_hp,\n",
    "            damage = [cp.gaussian_dice_distribution(mon_dpr, mon_dpr_cv*mon_dpr)],\n",
    "        ),\n",
    "        cp.Combatant(\n",
    "            group='PCs',\n",
    "            name='PC 1',\n",
    "            opponent='NPCs',\n",
    "            level=5,\n",
    "            hit_points = pc_hp,\n",
    "            damage = [cp.gaussian_dice_distribution(pc_dpr, pc_dpr_cv*pc_dpr)],\n",
    "        ),\n",
    "        cp.Combatant(\n",
    "            group='PCs',\n",
    "            name='PC 2',\n",
    "            opponent='NPCs',\n",
    "            level=5,\n",
    "            hit_points = pc_hp,\n",
    "            damage = [cp.gaussian_dice_distribution(pc_dpr, pc_dpr_cv*pc_dpr)],\n",
    "        ),\n",
    "        cp.Combatant(\n",
    "            group='PCs',\n",
    "            name='PC 3',\n",
    "            opponent='NPCs',\n",
    "            level=5,\n",
    "            hit_points = pc_hp,\n",
    "            damage = [cp.gaussian_dice_distribution(pc_dpr, pc_dpr_cv*pc_dpr)],\n",
    "        ),\n",
    "        cp.Combatant(\n",
    "            group='PCs',\n",
    "            name='PC 4',\n",
    "            opponent='NPCs',\n",
    "            level=5,\n",
    "            hit_points = pc_hp,\n",
    "            damage = [cp.gaussian_dice_distribution(pc_dpr, pc_dpr_cv*pc_dpr)],\n",
    "        ),\n",
    "    ]\n",
    "    e = cp.Encounter(combatants, initiative=['PC 1','PC 2','monster','PC 3','PC 4'], rounds=8)\n",
    "    pc_win_pct += [e.group_win_pct('PCs', method='approx')]\n",
    "    mon_win_pct += [e.group_win_pct('NPCs', method='approx')]\n",
    "    #print(e.encounter_length(units='rounds', method='approx'))\n",
    "\n",
    "\n",
    "# create figure\n",
    "fig = go.Figure(\n",
    "    layout=go.Layout(\n",
    "        template=tfb.FIG_TEMPLATE,\n",
    "        xaxis=dict(\n",
    "            title_text='PC damage sigma / mean',\n",
    "            range=[0, 1],\n",
    "            tick0=0, dtick=0.2,\n",
    "            minor=dict(tick0=0, dtick=0.1),\n",
    "        ),\n",
    "        yaxis=dict(\n",
    "            title_text='win probability',\n",
    "            range=[0,1],\n",
    "            #tickformat='.0%'\n",
    "            tick0=0, dtick=0.2,\n",
    "            minor=dict(tick0=0, dtick=0.1),\n",
    "        ),\n",
    "        legend=dict(\n",
    "            xanchor='left', yanchor='top',\n",
    "            x=0.00, y=1.00,\n",
    "            orientation='v',\n",
    "            tracegroupgap=0,\n",
    "        )\n",
    "    )\n",
    ")\n",
    "\n",
    "fig.add_trace(go.Scatter(\n",
    "    x=mon_dpr_cvs,\n",
    "    y=pc_win_pct,\n",
    "    name=f'PCs',\n",
    "    #line_color=COLOR_LIST[i],\n",
    "    hovertemplate=\n",
    "        f'<b>PCs</b><br>'+\n",
    "        'PC CV %{x:.2f}<br>'+\n",
    "        'probability %{y:.1%}<extra></extra>',\n",
    "))\n",
    "\n",
    "fig.add_trace(go.Scatter(\n",
    "    x=mon_dpr_cvs,\n",
    "    y=mon_win_pct,\n",
    "    name=f'NPCs',\n",
    "    #line_color=COLOR_LIST[i],\n",
    "    hovertemplate=\n",
    "        f'<b>NPCs</b><br>'+\n",
    "        'PC CV %{x:.2f}<br>'+\n",
    "        'probability %{y:.1%}<extra></extra>',\n",
    "))\n",
    "\n",
    "\n",
    "# show figure\n",
    "fig.update_layout(width=600, height=450)\n",
    "fig.show(config=tfb.FIG_CONFIG)\n",
    "\n",
    "# save figures\n",
    "if SAVEFIGS:\n",
    "    fig.update_layout(autosize=True, width=None, height=None)\n",
    "    tfb.save_fig_html(fig, format='large', name=f'./fig-win-vs-pc-cv-deadly-large')\n",
    "    tfb.save_fig_html(fig, format='small', name=f'./fig-win-vs-pc-cv-deadly-small')"
   ]
  },
  {
   "cell_type": "code",
   "execution_count": 48,
   "metadata": {},
   "outputs": [
    {
     "data": {
      "application/vnd.plotly.v1+json": {
       "config": {
        "autosizable": true,
        "displayModeBar": "hover",
        "displaylogo": false,
        "doubleClick": "reset",
        "modeBarButtonsToRemove": [
         "select2d",
         "lasso2d",
         "zoom2d",
         "zoomIn2d",
         "zoomOut2d",
         "pan2d",
         "autoScale2d",
         "hoverClosestCartesian",
         "hoverCompareCartesian",
         "toggleSpikelines",
         "resetScale2d"
        ],
        "plotlyServerURL": "https://plot.ly",
        "responsive": true,
        "showAxisDragHandles": false,
        "toImageButtonOptions": {
         "filename": "tfb-plot",
         "format": "png",
         "height": 450,
         "scale": 2,
         "width": 600
        }
       },
       "data": [
        {
         "hovertemplate": "<b>PCs</b><br>PC CV %{x:.2f}<br>probability %{y:.1%}<extra></extra>",
         "name": "PCs",
         "type": "scatter",
         "x": [
          3,
          4,
          5,
          6
         ],
         "y": [
          0.8911206484679677,
          0.9227483083473732,
          0.9447863290871619,
          0.9590293240800406
         ]
        },
        {
         "hovertemplate": "<b>NPCs</b><br>PC CV %{x:.2f}<br>probability %{y:.1%}<extra></extra>",
         "name": "NPCs",
         "type": "scatter",
         "x": [
          3,
          4,
          5,
          6
         ],
         "y": [
          0.10887935153202974,
          0.07725169132015468,
          0.055211182488307524,
          0.03964902577859092
         ]
        }
       ],
       "layout": {
        "height": 450,
        "legend": {
         "orientation": "v",
         "tracegroupgap": 0,
         "x": 0,
         "xanchor": "left",
         "y": 1,
         "yanchor": "top"
        },
        "template": {
         "layout": {
          "autosize": false,
          "font": {
           "family": "sans-serif",
           "size": 14
          },
          "hoverlabel": {
           "align": "left"
          },
          "hovermode": "closest",
          "margin": {
           "b": 55,
           "l": 60,
           "pad": 4,
           "r": 25,
           "t": 20
          },
          "template": {
           "data": {
            "bar": [
             {
              "error_x": {
               "color": "#2a3f5f"
              },
              "error_y": {
               "color": "#2a3f5f"
              },
              "marker": {
               "line": {
                "color": "white",
                "width": 0.5
               },
               "pattern": {
                "fillmode": "overlay",
                "size": 10,
                "solidity": 0.2
               }
              },
              "type": "bar"
             }
            ],
            "barpolar": [
             {
              "marker": {
               "line": {
                "color": "white",
                "width": 0.5
               },
               "pattern": {
                "fillmode": "overlay",
                "size": 10,
                "solidity": 0.2
               }
              },
              "type": "barpolar"
             }
            ],
            "carpet": [
             {
              "aaxis": {
               "endlinecolor": "#2a3f5f",
               "gridcolor": "#C8D4E3",
               "linecolor": "#C8D4E3",
               "minorgridcolor": "#C8D4E3",
               "startlinecolor": "#2a3f5f"
              },
              "baxis": {
               "endlinecolor": "#2a3f5f",
               "gridcolor": "#C8D4E3",
               "linecolor": "#C8D4E3",
               "minorgridcolor": "#C8D4E3",
               "startlinecolor": "#2a3f5f"
              },
              "type": "carpet"
             }
            ],
            "choropleth": [
             {
              "colorbar": {
               "outlinewidth": 0,
               "ticks": ""
              },
              "type": "choropleth"
             }
            ],
            "contour": [
             {
              "colorbar": {
               "outlinewidth": 0,
               "ticks": ""
              },
              "colorscale": [
               [
                0,
                "#0d0887"
               ],
               [
                0.1111111111111111,
                "#46039f"
               ],
               [
                0.2222222222222222,
                "#7201a8"
               ],
               [
                0.3333333333333333,
                "#9c179e"
               ],
               [
                0.4444444444444444,
                "#bd3786"
               ],
               [
                0.5555555555555556,
                "#d8576b"
               ],
               [
                0.6666666666666666,
                "#ed7953"
               ],
               [
                0.7777777777777778,
                "#fb9f3a"
               ],
               [
                0.8888888888888888,
                "#fdca26"
               ],
               [
                1,
                "#f0f921"
               ]
              ],
              "type": "contour"
             }
            ],
            "contourcarpet": [
             {
              "colorbar": {
               "outlinewidth": 0,
               "ticks": ""
              },
              "type": "contourcarpet"
             }
            ],
            "heatmap": [
             {
              "colorbar": {
               "outlinewidth": 0,
               "ticks": ""
              },
              "colorscale": [
               [
                0,
                "#0d0887"
               ],
               [
                0.1111111111111111,
                "#46039f"
               ],
               [
                0.2222222222222222,
                "#7201a8"
               ],
               [
                0.3333333333333333,
                "#9c179e"
               ],
               [
                0.4444444444444444,
                "#bd3786"
               ],
               [
                0.5555555555555556,
                "#d8576b"
               ],
               [
                0.6666666666666666,
                "#ed7953"
               ],
               [
                0.7777777777777778,
                "#fb9f3a"
               ],
               [
                0.8888888888888888,
                "#fdca26"
               ],
               [
                1,
                "#f0f921"
               ]
              ],
              "type": "heatmap"
             }
            ],
            "heatmapgl": [
             {
              "colorbar": {
               "outlinewidth": 0,
               "ticks": ""
              },
              "colorscale": [
               [
                0,
                "#0d0887"
               ],
               [
                0.1111111111111111,
                "#46039f"
               ],
               [
                0.2222222222222222,
                "#7201a8"
               ],
               [
                0.3333333333333333,
                "#9c179e"
               ],
               [
                0.4444444444444444,
                "#bd3786"
               ],
               [
                0.5555555555555556,
                "#d8576b"
               ],
               [
                0.6666666666666666,
                "#ed7953"
               ],
               [
                0.7777777777777778,
                "#fb9f3a"
               ],
               [
                0.8888888888888888,
                "#fdca26"
               ],
               [
                1,
                "#f0f921"
               ]
              ],
              "type": "heatmapgl"
             }
            ],
            "histogram": [
             {
              "marker": {
               "pattern": {
                "fillmode": "overlay",
                "size": 10,
                "solidity": 0.2
               }
              },
              "type": "histogram"
             }
            ],
            "histogram2d": [
             {
              "colorbar": {
               "outlinewidth": 0,
               "ticks": ""
              },
              "colorscale": [
               [
                0,
                "#0d0887"
               ],
               [
                0.1111111111111111,
                "#46039f"
               ],
               [
                0.2222222222222222,
                "#7201a8"
               ],
               [
                0.3333333333333333,
                "#9c179e"
               ],
               [
                0.4444444444444444,
                "#bd3786"
               ],
               [
                0.5555555555555556,
                "#d8576b"
               ],
               [
                0.6666666666666666,
                "#ed7953"
               ],
               [
                0.7777777777777778,
                "#fb9f3a"
               ],
               [
                0.8888888888888888,
                "#fdca26"
               ],
               [
                1,
                "#f0f921"
               ]
              ],
              "type": "histogram2d"
             }
            ],
            "histogram2dcontour": [
             {
              "colorbar": {
               "outlinewidth": 0,
               "ticks": ""
              },
              "colorscale": [
               [
                0,
                "#0d0887"
               ],
               [
                0.1111111111111111,
                "#46039f"
               ],
               [
                0.2222222222222222,
                "#7201a8"
               ],
               [
                0.3333333333333333,
                "#9c179e"
               ],
               [
                0.4444444444444444,
                "#bd3786"
               ],
               [
                0.5555555555555556,
                "#d8576b"
               ],
               [
                0.6666666666666666,
                "#ed7953"
               ],
               [
                0.7777777777777778,
                "#fb9f3a"
               ],
               [
                0.8888888888888888,
                "#fdca26"
               ],
               [
                1,
                "#f0f921"
               ]
              ],
              "type": "histogram2dcontour"
             }
            ],
            "mesh3d": [
             {
              "colorbar": {
               "outlinewidth": 0,
               "ticks": ""
              },
              "type": "mesh3d"
             }
            ],
            "parcoords": [
             {
              "line": {
               "colorbar": {
                "outlinewidth": 0,
                "ticks": ""
               }
              },
              "type": "parcoords"
             }
            ],
            "pie": [
             {
              "automargin": true,
              "type": "pie"
             }
            ],
            "scatter": [
             {
              "fillpattern": {
               "fillmode": "overlay",
               "size": 10,
               "solidity": 0.2
              },
              "type": "scatter"
             }
            ],
            "scatter3d": [
             {
              "line": {
               "colorbar": {
                "outlinewidth": 0,
                "ticks": ""
               }
              },
              "marker": {
               "colorbar": {
                "outlinewidth": 0,
                "ticks": ""
               }
              },
              "type": "scatter3d"
             }
            ],
            "scattercarpet": [
             {
              "marker": {
               "colorbar": {
                "outlinewidth": 0,
                "ticks": ""
               }
              },
              "type": "scattercarpet"
             }
            ],
            "scattergeo": [
             {
              "marker": {
               "colorbar": {
                "outlinewidth": 0,
                "ticks": ""
               }
              },
              "type": "scattergeo"
             }
            ],
            "scattergl": [
             {
              "marker": {
               "colorbar": {
                "outlinewidth": 0,
                "ticks": ""
               }
              },
              "type": "scattergl"
             }
            ],
            "scattermapbox": [
             {
              "marker": {
               "colorbar": {
                "outlinewidth": 0,
                "ticks": ""
               }
              },
              "type": "scattermapbox"
             }
            ],
            "scatterpolar": [
             {
              "marker": {
               "colorbar": {
                "outlinewidth": 0,
                "ticks": ""
               }
              },
              "type": "scatterpolar"
             }
            ],
            "scatterpolargl": [
             {
              "marker": {
               "colorbar": {
                "outlinewidth": 0,
                "ticks": ""
               }
              },
              "type": "scatterpolargl"
             }
            ],
            "scatterternary": [
             {
              "marker": {
               "colorbar": {
                "outlinewidth": 0,
                "ticks": ""
               }
              },
              "type": "scatterternary"
             }
            ],
            "surface": [
             {
              "colorbar": {
               "outlinewidth": 0,
               "ticks": ""
              },
              "colorscale": [
               [
                0,
                "#0d0887"
               ],
               [
                0.1111111111111111,
                "#46039f"
               ],
               [
                0.2222222222222222,
                "#7201a8"
               ],
               [
                0.3333333333333333,
                "#9c179e"
               ],
               [
                0.4444444444444444,
                "#bd3786"
               ],
               [
                0.5555555555555556,
                "#d8576b"
               ],
               [
                0.6666666666666666,
                "#ed7953"
               ],
               [
                0.7777777777777778,
                "#fb9f3a"
               ],
               [
                0.8888888888888888,
                "#fdca26"
               ],
               [
                1,
                "#f0f921"
               ]
              ],
              "type": "surface"
             }
            ],
            "table": [
             {
              "cells": {
               "fill": {
                "color": "#EBF0F8"
               },
               "line": {
                "color": "white"
               }
              },
              "header": {
               "fill": {
                "color": "#C8D4E3"
               },
               "line": {
                "color": "white"
               }
              },
              "type": "table"
             }
            ]
           },
           "layout": {
            "annotationdefaults": {
             "arrowcolor": "#2a3f5f",
             "arrowhead": 0,
             "arrowwidth": 1
            },
            "autotypenumbers": "strict",
            "coloraxis": {
             "colorbar": {
              "outlinewidth": 0,
              "ticks": ""
             }
            },
            "colorscale": {
             "diverging": [
              [
               0,
               "#8e0152"
              ],
              [
               0.1,
               "#c51b7d"
              ],
              [
               0.2,
               "#de77ae"
              ],
              [
               0.3,
               "#f1b6da"
              ],
              [
               0.4,
               "#fde0ef"
              ],
              [
               0.5,
               "#f7f7f7"
              ],
              [
               0.6,
               "#e6f5d0"
              ],
              [
               0.7,
               "#b8e186"
              ],
              [
               0.8,
               "#7fbc41"
              ],
              [
               0.9,
               "#4d9221"
              ],
              [
               1,
               "#276419"
              ]
             ],
             "sequential": [
              [
               0,
               "#0d0887"
              ],
              [
               0.1111111111111111,
               "#46039f"
              ],
              [
               0.2222222222222222,
               "#7201a8"
              ],
              [
               0.3333333333333333,
               "#9c179e"
              ],
              [
               0.4444444444444444,
               "#bd3786"
              ],
              [
               0.5555555555555556,
               "#d8576b"
              ],
              [
               0.6666666666666666,
               "#ed7953"
              ],
              [
               0.7777777777777778,
               "#fb9f3a"
              ],
              [
               0.8888888888888888,
               "#fdca26"
              ],
              [
               1,
               "#f0f921"
              ]
             ],
             "sequentialminus": [
              [
               0,
               "#0d0887"
              ],
              [
               0.1111111111111111,
               "#46039f"
              ],
              [
               0.2222222222222222,
               "#7201a8"
              ],
              [
               0.3333333333333333,
               "#9c179e"
              ],
              [
               0.4444444444444444,
               "#bd3786"
              ],
              [
               0.5555555555555556,
               "#d8576b"
              ],
              [
               0.6666666666666666,
               "#ed7953"
              ],
              [
               0.7777777777777778,
               "#fb9f3a"
              ],
              [
               0.8888888888888888,
               "#fdca26"
              ],
              [
               1,
               "#f0f921"
              ]
             ]
            },
            "colorway": [
             "#636efa",
             "#EF553B",
             "#00cc96",
             "#ab63fa",
             "#FFA15A",
             "#19d3f3",
             "#FF6692",
             "#B6E880",
             "#FF97FF",
             "#FECB52"
            ],
            "font": {
             "color": "#2a3f5f"
            },
            "geo": {
             "bgcolor": "white",
             "lakecolor": "white",
             "landcolor": "white",
             "showlakes": true,
             "showland": true,
             "subunitcolor": "#C8D4E3"
            },
            "hoverlabel": {
             "align": "left"
            },
            "hovermode": "closest",
            "mapbox": {
             "style": "light"
            },
            "paper_bgcolor": "white",
            "plot_bgcolor": "white",
            "polar": {
             "angularaxis": {
              "gridcolor": "#EBF0F8",
              "linecolor": "#EBF0F8",
              "ticks": ""
             },
             "bgcolor": "white",
             "radialaxis": {
              "gridcolor": "#EBF0F8",
              "linecolor": "#EBF0F8",
              "ticks": ""
             }
            },
            "scene": {
             "xaxis": {
              "backgroundcolor": "white",
              "gridcolor": "#DFE8F3",
              "gridwidth": 2,
              "linecolor": "#EBF0F8",
              "showbackground": true,
              "ticks": "",
              "zerolinecolor": "#EBF0F8"
             },
             "yaxis": {
              "backgroundcolor": "white",
              "gridcolor": "#DFE8F3",
              "gridwidth": 2,
              "linecolor": "#EBF0F8",
              "showbackground": true,
              "ticks": "",
              "zerolinecolor": "#EBF0F8"
             },
             "zaxis": {
              "backgroundcolor": "white",
              "gridcolor": "#DFE8F3",
              "gridwidth": 2,
              "linecolor": "#EBF0F8",
              "showbackground": true,
              "ticks": "",
              "zerolinecolor": "#EBF0F8"
             }
            },
            "shapedefaults": {
             "line": {
              "color": "#2a3f5f"
             }
            },
            "ternary": {
             "aaxis": {
              "gridcolor": "#DFE8F3",
              "linecolor": "#A2B1C6",
              "ticks": ""
             },
             "baxis": {
              "gridcolor": "#DFE8F3",
              "linecolor": "#A2B1C6",
              "ticks": ""
             },
             "bgcolor": "white",
             "caxis": {
              "gridcolor": "#DFE8F3",
              "linecolor": "#A2B1C6",
              "ticks": ""
             }
            },
            "title": {
             "x": 0.05
            },
            "xaxis": {
             "automargin": true,
             "gridcolor": "#EBF0F8",
             "linecolor": "#EBF0F8",
             "ticks": "",
             "title": {
              "standoff": 15
             },
             "zerolinecolor": "#EBF0F8",
             "zerolinewidth": 2
            },
            "yaxis": {
             "automargin": true,
             "gridcolor": "#EBF0F8",
             "linecolor": "#EBF0F8",
             "ticks": "",
             "title": {
              "standoff": 15
             },
             "zerolinecolor": "#EBF0F8",
             "zerolinewidth": 2
            }
           }
          },
          "xaxis": {
           "automargin": false,
           "linecolor": "#444",
           "linewidth": 2,
           "minor": {
            "tickmode": "linear",
            "ticks": "outside"
           },
           "mirror": true,
           "showline": true,
           "tickmode": "linear",
           "ticks": "outside",
           "zeroline": false
          },
          "yaxis": {
           "automargin": true,
           "linecolor": "#444",
           "linewidth": 2,
           "minor": {
            "tickmode": "linear",
            "ticks": "outside"
           },
           "mirror": true,
           "showline": true,
           "ticks": "outside",
           "zeroline": false
          }
         }
        },
        "width": 600,
        "xaxis": {
         "dtick": 1,
         "minor": {
          "dtick": 1,
          "tick0": 0
         },
         "range": [
          2,
          7
         ],
         "tick0": 0,
         "title": {
          "text": "average encounter length (rounds)"
         }
        },
        "yaxis": {
         "dtick": 0.2,
         "minor": {
          "dtick": 0.1,
          "tick0": 0
         },
         "range": [
          0,
          1
         ],
         "tick0": 0,
         "title": {
          "text": "win probability"
         }
        }
       }
      }
     },
     "metadata": {},
     "output_type": "display_data"
    }
   ],
   "source": [
    "# plots the probability of PCs and monsters winning for a range encounter lengths\n",
    "diff = 0.7 # deadly\n",
    "\n",
    "# original\n",
    "pc_win_pct = []\n",
    "mon_win_pct = []\n",
    "party_r_wins = np.linspace(3, 6, 4)\n",
    "\n",
    "for party_r_win in party_r_wins:\n",
    "    party_hp = 100\n",
    "    #party_r_win = 3\n",
    "    pc_dpr_cv = 0.5\n",
    "\n",
    "    mon_hp = 100\n",
    "    mon_r_win = party_r_win/diff\n",
    "    mon_dpr_cv = 0.5\n",
    "\n",
    "\n",
    "    party_dpr = mon_hp/party_r_win\n",
    "    party_size = 4\n",
    "    pc_hp = party_hp/party_size\n",
    "    pc_dpr = party_dpr/party_size\n",
    "\n",
    "    mon_dpr = party_hp/mon_r_win\n",
    "\n",
    "    # construct combatants\n",
    "    combatants = [\n",
    "        cp.Combatant(\n",
    "            group='NPCs',\n",
    "            name='monster',\n",
    "            opponent='PCs',\n",
    "            level=5,\n",
    "            hit_points = mon_hp,\n",
    "            damage = [cp.gaussian_dice_distribution(mon_dpr, mon_dpr_cv*mon_dpr)],\n",
    "        ),\n",
    "        cp.Combatant(\n",
    "            group='PCs',\n",
    "            name='PC 1',\n",
    "            opponent='NPCs',\n",
    "            level=5,\n",
    "            hit_points = pc_hp,\n",
    "            damage = [cp.gaussian_dice_distribution(pc_dpr, pc_dpr_cv*pc_dpr)],\n",
    "        ),\n",
    "        cp.Combatant(\n",
    "            group='PCs',\n",
    "            name='PC 2',\n",
    "            opponent='NPCs',\n",
    "            level=5,\n",
    "            hit_points = pc_hp,\n",
    "            damage = [cp.gaussian_dice_distribution(pc_dpr, pc_dpr_cv*pc_dpr)],\n",
    "        ),\n",
    "        cp.Combatant(\n",
    "            group='PCs',\n",
    "            name='PC 3',\n",
    "            opponent='NPCs',\n",
    "            level=5,\n",
    "            hit_points = pc_hp,\n",
    "            damage = [cp.gaussian_dice_distribution(pc_dpr, pc_dpr_cv*pc_dpr)],\n",
    "        ),\n",
    "        cp.Combatant(\n",
    "            group='PCs',\n",
    "            name='PC 4',\n",
    "            opponent='NPCs',\n",
    "            level=5,\n",
    "            hit_points = pc_hp,\n",
    "            damage = [cp.gaussian_dice_distribution(pc_dpr, pc_dpr_cv*pc_dpr)],\n",
    "        ),\n",
    "    ]\n",
    "    e = cp.Encounter(combatants, initiative=['PC 1','PC 2','monster','PC 3','PC 4'], rounds=8)\n",
    "    pc_win_pct += [e.group_win_pct('PCs', method='approx')]\n",
    "    mon_win_pct += [e.group_win_pct('NPCs', method='approx')]\n",
    "    #print(e.encounter_length(units='rounds', method='approx'))\n",
    "\n",
    "\n",
    "# create figure\n",
    "fig = go.Figure(\n",
    "    layout=go.Layout(\n",
    "        template=tfb.FIG_TEMPLATE,\n",
    "        xaxis=dict(\n",
    "            title_text='average encounter length (rounds)',\n",
    "            range=[2, 7],\n",
    "            tick0=0, dtick=1,\n",
    "            minor=dict(tick0=0, dtick=1),\n",
    "        ),\n",
    "        yaxis=dict(\n",
    "            title_text='win probability',\n",
    "            range=[0,1],\n",
    "            #tickformat='.0%'\n",
    "            tick0=0, dtick=0.2,\n",
    "            minor=dict(tick0=0, dtick=0.1),\n",
    "        ),\n",
    "        legend=dict(\n",
    "            xanchor='left', yanchor='top',\n",
    "            x=0.00, y=1.00,\n",
    "            orientation='v',\n",
    "            tracegroupgap=0,\n",
    "        )\n",
    "    )\n",
    ")\n",
    "\n",
    "fig.add_trace(go.Scatter(\n",
    "    x=party_r_wins,\n",
    "    y=pc_win_pct,\n",
    "    name=f'PCs',\n",
    "    #line_color=COLOR_LIST[i],\n",
    "    hovertemplate=\n",
    "        f'<b>PCs</b><br>'+\n",
    "        'PC CV %{x:.2f}<br>'+\n",
    "        'probability %{y:.1%}<extra></extra>',\n",
    "))\n",
    "\n",
    "fig.add_trace(go.Scatter(\n",
    "    x=party_r_wins,\n",
    "    y=mon_win_pct,\n",
    "    name=f'NPCs',\n",
    "    #line_color=COLOR_LIST[i],\n",
    "    hovertemplate=\n",
    "        f'<b>NPCs</b><br>'+\n",
    "        'PC CV %{x:.2f}<br>'+\n",
    "        'probability %{y:.1%}<extra></extra>',\n",
    "))\n",
    "\n",
    "\n",
    "# show figure\n",
    "fig.update_layout(width=600, height=450)\n",
    "fig.show(config=tfb.FIG_CONFIG)\n",
    "\n",
    "# save figures\n",
    "if SAVEFIGS:\n",
    "    fig.update_layout(autosize=True, width=None, height=None)\n",
    "    #tfb.save_fig_html(fig, format='large', name=f'./fig-win-vs-pc-cv-deadly-large')\n",
    "    #tfb.save_fig_html(fig, format='small', name=f'./fig-win-vs-pc-cv-deadly-small')"
   ]
  },
  {
   "cell_type": "code",
   "execution_count": null,
   "metadata": {},
   "outputs": [
    {
     "data": {
      "application/vnd.plotly.v1+json": {
       "config": {
        "autosizable": true,
        "displayModeBar": "hover",
        "displaylogo": false,
        "doubleClick": "reset",
        "modeBarButtonsToRemove": [
         "select2d",
         "lasso2d",
         "zoom2d",
         "zoomIn2d",
         "zoomOut2d",
         "pan2d",
         "autoScale2d",
         "hoverClosestCartesian",
         "hoverCompareCartesian",
         "toggleSpikelines",
         "resetScale2d"
        ],
        "plotlyServerURL": "https://plot.ly",
        "responsive": true,
        "showAxisDragHandles": false,
        "toImageButtonOptions": {
         "filename": "tfb-plot",
         "format": "png",
         "height": 450,
         "scale": 2,
         "width": 600
        }
       },
       "data": [
        {
         "hovertemplate": "Challenge Rating %{x:.0f}<br>DPR CV %{y:.2f}<extra></extra>",
         "mode": "markers",
         "name": "published monsters",
         "type": "scatter",
         "x": [
          0.125,
          0.25,
          0.5,
          1,
          2,
          3,
          4,
          5,
          6,
          7,
          8,
          9,
          10,
          11,
          12,
          13,
          14,
          15,
          16,
          17,
          19,
          20,
          21,
          23,
          25,
          26
         ],
         "y": [
          1.0693684861865784,
          1.0377839135349363,
          0.9485221904076139,
          0.8849288193253357,
          0.8015665157502311,
          0.6979541306939464,
          0.6890074978530819,
          0.6377089524094653,
          0.6341826351447435,
          0.5894629277879416,
          0.5782016412413833,
          0.48277399666243304,
          0.4947761150023919,
          0.5198961573921712,
          0.4556615578598853,
          0.37768076929119504,
          0.39853745792929823,
          0.45264919502944145,
          0.3743765602599199,
          0.3683340826436368,
          0.36045445624646344,
          0.22652529711914157,
          0.28603877831106606,
          0.1517884927406502,
          0.15900746366356303,
          0.22060484614038525
         ]
        }
       ],
       "layout": {
        "height": 450,
        "legend": {
         "orientation": "v",
         "tracegroupgap": 0,
         "x": 0.99,
         "xanchor": "right",
         "y": 0.99,
         "yanchor": "top"
        },
        "template": {
         "layout": {
          "autosize": false,
          "font": {
           "family": "sans-serif",
           "size": 14
          },
          "hoverlabel": {
           "align": "left"
          },
          "hovermode": "closest",
          "margin": {
           "b": 55,
           "l": 60,
           "pad": 4,
           "r": 25,
           "t": 20
          },
          "template": {
           "data": {
            "bar": [
             {
              "error_x": {
               "color": "#2a3f5f"
              },
              "error_y": {
               "color": "#2a3f5f"
              },
              "marker": {
               "line": {
                "color": "white",
                "width": 0.5
               },
               "pattern": {
                "fillmode": "overlay",
                "size": 10,
                "solidity": 0.2
               }
              },
              "type": "bar"
             }
            ],
            "barpolar": [
             {
              "marker": {
               "line": {
                "color": "white",
                "width": 0.5
               },
               "pattern": {
                "fillmode": "overlay",
                "size": 10,
                "solidity": 0.2
               }
              },
              "type": "barpolar"
             }
            ],
            "carpet": [
             {
              "aaxis": {
               "endlinecolor": "#2a3f5f",
               "gridcolor": "#C8D4E3",
               "linecolor": "#C8D4E3",
               "minorgridcolor": "#C8D4E3",
               "startlinecolor": "#2a3f5f"
              },
              "baxis": {
               "endlinecolor": "#2a3f5f",
               "gridcolor": "#C8D4E3",
               "linecolor": "#C8D4E3",
               "minorgridcolor": "#C8D4E3",
               "startlinecolor": "#2a3f5f"
              },
              "type": "carpet"
             }
            ],
            "choropleth": [
             {
              "colorbar": {
               "outlinewidth": 0,
               "ticks": ""
              },
              "type": "choropleth"
             }
            ],
            "contour": [
             {
              "colorbar": {
               "outlinewidth": 0,
               "ticks": ""
              },
              "colorscale": [
               [
                0,
                "#0d0887"
               ],
               [
                0.1111111111111111,
                "#46039f"
               ],
               [
                0.2222222222222222,
                "#7201a8"
               ],
               [
                0.3333333333333333,
                "#9c179e"
               ],
               [
                0.4444444444444444,
                "#bd3786"
               ],
               [
                0.5555555555555556,
                "#d8576b"
               ],
               [
                0.6666666666666666,
                "#ed7953"
               ],
               [
                0.7777777777777778,
                "#fb9f3a"
               ],
               [
                0.8888888888888888,
                "#fdca26"
               ],
               [
                1,
                "#f0f921"
               ]
              ],
              "type": "contour"
             }
            ],
            "contourcarpet": [
             {
              "colorbar": {
               "outlinewidth": 0,
               "ticks": ""
              },
              "type": "contourcarpet"
             }
            ],
            "heatmap": [
             {
              "colorbar": {
               "outlinewidth": 0,
               "ticks": ""
              },
              "colorscale": [
               [
                0,
                "#0d0887"
               ],
               [
                0.1111111111111111,
                "#46039f"
               ],
               [
                0.2222222222222222,
                "#7201a8"
               ],
               [
                0.3333333333333333,
                "#9c179e"
               ],
               [
                0.4444444444444444,
                "#bd3786"
               ],
               [
                0.5555555555555556,
                "#d8576b"
               ],
               [
                0.6666666666666666,
                "#ed7953"
               ],
               [
                0.7777777777777778,
                "#fb9f3a"
               ],
               [
                0.8888888888888888,
                "#fdca26"
               ],
               [
                1,
                "#f0f921"
               ]
              ],
              "type": "heatmap"
             }
            ],
            "heatmapgl": [
             {
              "colorbar": {
               "outlinewidth": 0,
               "ticks": ""
              },
              "colorscale": [
               [
                0,
                "#0d0887"
               ],
               [
                0.1111111111111111,
                "#46039f"
               ],
               [
                0.2222222222222222,
                "#7201a8"
               ],
               [
                0.3333333333333333,
                "#9c179e"
               ],
               [
                0.4444444444444444,
                "#bd3786"
               ],
               [
                0.5555555555555556,
                "#d8576b"
               ],
               [
                0.6666666666666666,
                "#ed7953"
               ],
               [
                0.7777777777777778,
                "#fb9f3a"
               ],
               [
                0.8888888888888888,
                "#fdca26"
               ],
               [
                1,
                "#f0f921"
               ]
              ],
              "type": "heatmapgl"
             }
            ],
            "histogram": [
             {
              "marker": {
               "pattern": {
                "fillmode": "overlay",
                "size": 10,
                "solidity": 0.2
               }
              },
              "type": "histogram"
             }
            ],
            "histogram2d": [
             {
              "colorbar": {
               "outlinewidth": 0,
               "ticks": ""
              },
              "colorscale": [
               [
                0,
                "#0d0887"
               ],
               [
                0.1111111111111111,
                "#46039f"
               ],
               [
                0.2222222222222222,
                "#7201a8"
               ],
               [
                0.3333333333333333,
                "#9c179e"
               ],
               [
                0.4444444444444444,
                "#bd3786"
               ],
               [
                0.5555555555555556,
                "#d8576b"
               ],
               [
                0.6666666666666666,
                "#ed7953"
               ],
               [
                0.7777777777777778,
                "#fb9f3a"
               ],
               [
                0.8888888888888888,
                "#fdca26"
               ],
               [
                1,
                "#f0f921"
               ]
              ],
              "type": "histogram2d"
             }
            ],
            "histogram2dcontour": [
             {
              "colorbar": {
               "outlinewidth": 0,
               "ticks": ""
              },
              "colorscale": [
               [
                0,
                "#0d0887"
               ],
               [
                0.1111111111111111,
                "#46039f"
               ],
               [
                0.2222222222222222,
                "#7201a8"
               ],
               [
                0.3333333333333333,
                "#9c179e"
               ],
               [
                0.4444444444444444,
                "#bd3786"
               ],
               [
                0.5555555555555556,
                "#d8576b"
               ],
               [
                0.6666666666666666,
                "#ed7953"
               ],
               [
                0.7777777777777778,
                "#fb9f3a"
               ],
               [
                0.8888888888888888,
                "#fdca26"
               ],
               [
                1,
                "#f0f921"
               ]
              ],
              "type": "histogram2dcontour"
             }
            ],
            "mesh3d": [
             {
              "colorbar": {
               "outlinewidth": 0,
               "ticks": ""
              },
              "type": "mesh3d"
             }
            ],
            "parcoords": [
             {
              "line": {
               "colorbar": {
                "outlinewidth": 0,
                "ticks": ""
               }
              },
              "type": "parcoords"
             }
            ],
            "pie": [
             {
              "automargin": true,
              "type": "pie"
             }
            ],
            "scatter": [
             {
              "fillpattern": {
               "fillmode": "overlay",
               "size": 10,
               "solidity": 0.2
              },
              "type": "scatter"
             }
            ],
            "scatter3d": [
             {
              "line": {
               "colorbar": {
                "outlinewidth": 0,
                "ticks": ""
               }
              },
              "marker": {
               "colorbar": {
                "outlinewidth": 0,
                "ticks": ""
               }
              },
              "type": "scatter3d"
             }
            ],
            "scattercarpet": [
             {
              "marker": {
               "colorbar": {
                "outlinewidth": 0,
                "ticks": ""
               }
              },
              "type": "scattercarpet"
             }
            ],
            "scattergeo": [
             {
              "marker": {
               "colorbar": {
                "outlinewidth": 0,
                "ticks": ""
               }
              },
              "type": "scattergeo"
             }
            ],
            "scattergl": [
             {
              "marker": {
               "colorbar": {
                "outlinewidth": 0,
                "ticks": ""
               }
              },
              "type": "scattergl"
             }
            ],
            "scattermapbox": [
             {
              "marker": {
               "colorbar": {
                "outlinewidth": 0,
                "ticks": ""
               }
              },
              "type": "scattermapbox"
             }
            ],
            "scatterpolar": [
             {
              "marker": {
               "colorbar": {
                "outlinewidth": 0,
                "ticks": ""
               }
              },
              "type": "scatterpolar"
             }
            ],
            "scatterpolargl": [
             {
              "marker": {
               "colorbar": {
                "outlinewidth": 0,
                "ticks": ""
               }
              },
              "type": "scatterpolargl"
             }
            ],
            "scatterternary": [
             {
              "marker": {
               "colorbar": {
                "outlinewidth": 0,
                "ticks": ""
               }
              },
              "type": "scatterternary"
             }
            ],
            "surface": [
             {
              "colorbar": {
               "outlinewidth": 0,
               "ticks": ""
              },
              "colorscale": [
               [
                0,
                "#0d0887"
               ],
               [
                0.1111111111111111,
                "#46039f"
               ],
               [
                0.2222222222222222,
                "#7201a8"
               ],
               [
                0.3333333333333333,
                "#9c179e"
               ],
               [
                0.4444444444444444,
                "#bd3786"
               ],
               [
                0.5555555555555556,
                "#d8576b"
               ],
               [
                0.6666666666666666,
                "#ed7953"
               ],
               [
                0.7777777777777778,
                "#fb9f3a"
               ],
               [
                0.8888888888888888,
                "#fdca26"
               ],
               [
                1,
                "#f0f921"
               ]
              ],
              "type": "surface"
             }
            ],
            "table": [
             {
              "cells": {
               "fill": {
                "color": "#EBF0F8"
               },
               "line": {
                "color": "white"
               }
              },
              "header": {
               "fill": {
                "color": "#C8D4E3"
               },
               "line": {
                "color": "white"
               }
              },
              "type": "table"
             }
            ]
           },
           "layout": {
            "annotationdefaults": {
             "arrowcolor": "#2a3f5f",
             "arrowhead": 0,
             "arrowwidth": 1
            },
            "autotypenumbers": "strict",
            "coloraxis": {
             "colorbar": {
              "outlinewidth": 0,
              "ticks": ""
             }
            },
            "colorscale": {
             "diverging": [
              [
               0,
               "#8e0152"
              ],
              [
               0.1,
               "#c51b7d"
              ],
              [
               0.2,
               "#de77ae"
              ],
              [
               0.3,
               "#f1b6da"
              ],
              [
               0.4,
               "#fde0ef"
              ],
              [
               0.5,
               "#f7f7f7"
              ],
              [
               0.6,
               "#e6f5d0"
              ],
              [
               0.7,
               "#b8e186"
              ],
              [
               0.8,
               "#7fbc41"
              ],
              [
               0.9,
               "#4d9221"
              ],
              [
               1,
               "#276419"
              ]
             ],
             "sequential": [
              [
               0,
               "#0d0887"
              ],
              [
               0.1111111111111111,
               "#46039f"
              ],
              [
               0.2222222222222222,
               "#7201a8"
              ],
              [
               0.3333333333333333,
               "#9c179e"
              ],
              [
               0.4444444444444444,
               "#bd3786"
              ],
              [
               0.5555555555555556,
               "#d8576b"
              ],
              [
               0.6666666666666666,
               "#ed7953"
              ],
              [
               0.7777777777777778,
               "#fb9f3a"
              ],
              [
               0.8888888888888888,
               "#fdca26"
              ],
              [
               1,
               "#f0f921"
              ]
             ],
             "sequentialminus": [
              [
               0,
               "#0d0887"
              ],
              [
               0.1111111111111111,
               "#46039f"
              ],
              [
               0.2222222222222222,
               "#7201a8"
              ],
              [
               0.3333333333333333,
               "#9c179e"
              ],
              [
               0.4444444444444444,
               "#bd3786"
              ],
              [
               0.5555555555555556,
               "#d8576b"
              ],
              [
               0.6666666666666666,
               "#ed7953"
              ],
              [
               0.7777777777777778,
               "#fb9f3a"
              ],
              [
               0.8888888888888888,
               "#fdca26"
              ],
              [
               1,
               "#f0f921"
              ]
             ]
            },
            "colorway": [
             "#636efa",
             "#EF553B",
             "#00cc96",
             "#ab63fa",
             "#FFA15A",
             "#19d3f3",
             "#FF6692",
             "#B6E880",
             "#FF97FF",
             "#FECB52"
            ],
            "font": {
             "color": "#2a3f5f"
            },
            "geo": {
             "bgcolor": "white",
             "lakecolor": "white",
             "landcolor": "white",
             "showlakes": true,
             "showland": true,
             "subunitcolor": "#C8D4E3"
            },
            "hoverlabel": {
             "align": "left"
            },
            "hovermode": "closest",
            "mapbox": {
             "style": "light"
            },
            "paper_bgcolor": "white",
            "plot_bgcolor": "white",
            "polar": {
             "angularaxis": {
              "gridcolor": "#EBF0F8",
              "linecolor": "#EBF0F8",
              "ticks": ""
             },
             "bgcolor": "white",
             "radialaxis": {
              "gridcolor": "#EBF0F8",
              "linecolor": "#EBF0F8",
              "ticks": ""
             }
            },
            "scene": {
             "xaxis": {
              "backgroundcolor": "white",
              "gridcolor": "#DFE8F3",
              "gridwidth": 2,
              "linecolor": "#EBF0F8",
              "showbackground": true,
              "ticks": "",
              "zerolinecolor": "#EBF0F8"
             },
             "yaxis": {
              "backgroundcolor": "white",
              "gridcolor": "#DFE8F3",
              "gridwidth": 2,
              "linecolor": "#EBF0F8",
              "showbackground": true,
              "ticks": "",
              "zerolinecolor": "#EBF0F8"
             },
             "zaxis": {
              "backgroundcolor": "white",
              "gridcolor": "#DFE8F3",
              "gridwidth": 2,
              "linecolor": "#EBF0F8",
              "showbackground": true,
              "ticks": "",
              "zerolinecolor": "#EBF0F8"
             }
            },
            "shapedefaults": {
             "line": {
              "color": "#2a3f5f"
             }
            },
            "ternary": {
             "aaxis": {
              "gridcolor": "#DFE8F3",
              "linecolor": "#A2B1C6",
              "ticks": ""
             },
             "baxis": {
              "gridcolor": "#DFE8F3",
              "linecolor": "#A2B1C6",
              "ticks": ""
             },
             "bgcolor": "white",
             "caxis": {
              "gridcolor": "#DFE8F3",
              "linecolor": "#A2B1C6",
              "ticks": ""
             }
            },
            "title": {
             "x": 0.05
            },
            "xaxis": {
             "automargin": true,
             "gridcolor": "#EBF0F8",
             "linecolor": "#EBF0F8",
             "ticks": "",
             "title": {
              "standoff": 15
             },
             "zerolinecolor": "#EBF0F8",
             "zerolinewidth": 2
            },
            "yaxis": {
             "automargin": true,
             "gridcolor": "#EBF0F8",
             "linecolor": "#EBF0F8",
             "ticks": "",
             "title": {
              "standoff": 15
             },
             "zerolinecolor": "#EBF0F8",
             "zerolinewidth": 2
            }
           }
          },
          "xaxis": {
           "automargin": false,
           "linecolor": "#444",
           "linewidth": 2,
           "minor": {
            "tickmode": "linear",
            "ticks": "outside"
           },
           "mirror": true,
           "showline": true,
           "tickmode": "linear",
           "ticks": "outside",
           "zeroline": false
          },
          "yaxis": {
           "automargin": true,
           "linecolor": "#444",
           "linewidth": 2,
           "minor": {
            "tickmode": "linear",
            "ticks": "outside"
           },
           "mirror": true,
           "showline": true,
           "ticks": "outside",
           "zeroline": false
          }
         }
        },
        "width": 600,
        "xaxis": {
         "dtick": 5,
         "minor": {
          "dtick": 1,
          "tick0": 0
         },
         "range": [
          0,
          27
         ],
         "tick0": 0,
         "title": {
          "text": "challenge rating"
         }
        },
        "yaxis": {
         "dtick": 0.2,
         "minor": {
          "dtick": 0.05,
          "tick0": 0
         },
         "range": [
          -0.01,
          1.01
         ],
         "tick0": 0,
         "tickformat": ".1f",
         "title": {
          "text": "NPC damage sigma / mean"
         }
        }
       }
      }
     },
     "metadata": {},
     "output_type": "display_data"
    }
   ],
   "source": [
    "# Fig. 4: plot DPR CV for published monsters\n",
    "import numpy as np\n",
    "import pandas as pd\n",
    "\n",
    "def baseline_monster(cr):\n",
    "    return {\n",
    "        'CR': cr,\n",
    "        'hit_points': np.round(16*(cr + 1) if cr < 20 else 368 + 48*(cr - 20), 0),\n",
    "        'damage_per_round': np.round(6*(cr + 1) if cr < 20 else 132 + 12*(cr - 20), 0),\n",
    "        'attack_bonus': np.round(3.5 + cr/2, 0),\n",
    "        'save_dc': np.round(11.5 + cr/2, 0),\n",
    "        'armor_class': np.round(13.0 + cr/3, 0),\n",
    "        'save_bonus': np.round(0.0 + cr/2, 0),\n",
    "    }\n",
    "\n",
    "def monster_dpr_is_valid(monster):\n",
    "    dpr = 0.65*baseline_monster(monster['CR'])['damage_per_round']\n",
    "    return monster['dpr.mean']/dpr > 0.5\n",
    "\n",
    "dM = pd.read_csv('./monster-variability.csv')\n",
    "dM['dpr.mean'] = dM['damage.mean']/3\n",
    "dM['dpr.sigma'] = dM['damage.sigma']/np.sqrt(3)\n",
    "dM['dpr.cv'] = dM['dpr.sigma']/dM['dpr.mean']\n",
    "dM['valid'] = dM.apply(lambda r: monster_dpr_is_valid(r), axis=1)\n",
    "dM = dM[dM['valid'] & dM['CR'].between(0.01,30)]\n",
    "\n",
    "dM = dM[['CR','dpr.cv']].groupby('CR').mean().reset_index()\n",
    "dM.sort_values(by='CR', inplace=True)\n",
    "\n",
    "fig = go.Figure(\n",
    "    layout=go.Layout(\n",
    "        template=tfb.FIG_TEMPLATE,\n",
    "        xaxis=dict(\n",
    "            title_text='challenge rating',\n",
    "            range=[0, 27],\n",
    "            tick0=0, dtick=5,\n",
    "            minor=dict(tick0=0, dtick=1),\n",
    "        ),\n",
    "        yaxis=dict(\n",
    "            title_text='NPC damage sigma / mean',\n",
    "            range=[-0.01, 1.01],\n",
    "            tickformat='.1f',\n",
    "            tick0=0, dtick=0.2,\n",
    "            minor=dict(tick0=0, dtick=0.05),\n",
    "        ),\n",
    "        legend=dict(\n",
    "            xanchor='right', yanchor='top',\n",
    "            x=0.99, y=0.99,\n",
    "            orientation='v',\n",
    "            tracegroupgap=0,\n",
    "        ),\n",
    "    )\n",
    ")\n",
    "\n",
    "fig.add_trace(go.Scatter(\n",
    "    x=dM['CR'], \n",
    "    y=dM['dpr.cv'],\n",
    "    name='published monsters',\n",
    "    mode='markers',\n",
    "    hovertemplate=\n",
    "            'Challenge Rating %{x:.0f}<br>'+\n",
    "            'DPR CV %{y:.2f}<extra></extra>',\n",
    "))\n",
    "\n",
    "# show figure\n",
    "fig.update_layout(width=600, height=450)\n",
    "fig.show(config=tfb.FIG_CONFIG)\n",
    "\n",
    "# save figures\n",
    "if SAVEFIGS:\n",
    "    fig.update_layout(autosize=True, width=None, height=None)\n",
    "    tfb.save_fig_html(fig, format='large', name=f'./fig-monster-dpr-cv-large')\n",
    "    tfb.save_fig_html(fig, format='small', name=f'./fig-monster-dpr-cv-small')"
   ]
  },
  {
   "cell_type": "code",
   "execution_count": null,
   "metadata": {},
   "outputs": [
    {
     "data": {
      "application/vnd.plotly.v1+json": {
       "config": {
        "autosizable": true,
        "displayModeBar": "hover",
        "displaylogo": false,
        "doubleClick": "reset",
        "modeBarButtonsToRemove": [
         "select2d",
         "lasso2d",
         "zoom2d",
         "zoomIn2d",
         "zoomOut2d",
         "pan2d",
         "autoScale2d",
         "hoverClosestCartesian",
         "hoverCompareCartesian",
         "toggleSpikelines",
         "resetScale2d"
        ],
        "plotlyServerURL": "https://plot.ly",
        "responsive": true,
        "showAxisDragHandles": false,
        "toImageButtonOptions": {
         "filename": "tfb-plot",
         "format": "png",
         "height": 450,
         "scale": 2,
         "width": 600
        }
       },
       "data": [
        {
         "fill": "tozeroy",
         "fillcolor": "rgba(167, 167, 167, 0.15)",
         "hoverinfo": "none",
         "mode": "none",
         "showlegend": false,
         "type": "scatter",
         "x": [
          0,
          0.15
         ],
         "y": [
          1,
          1
         ]
        },
        {
         "fill": "tozeroy",
         "fillcolor": "rgba(  0, 199, 151, 0.15)",
         "hoverinfo": "none",
         "mode": "none",
         "showlegend": false,
         "type": "scatter",
         "x": [
          0.15,
          0.3
         ],
         "y": [
          1,
          1
         ]
        },
        {
         "fill": "tozeroy",
         "fillcolor": "rgba(245, 166,  35, 0.15)",
         "hoverinfo": "none",
         "mode": "none",
         "showlegend": false,
         "type": "scatter",
         "x": [
          0.3,
          0.44999999999999996
         ],
         "y": [
          1,
          1
         ]
        },
        {
         "fill": "tozeroy",
         "fillcolor": "rgba(228,  90,  29, 0.15)",
         "hoverinfo": "none",
         "mode": "none",
         "showlegend": false,
         "type": "scatter",
         "x": [
          0.45,
          0.7
         ],
         "y": [
          1,
          1
         ]
        },
        {
         "fill": "tozeroy",
         "fillcolor": "rgba(144,  79, 213, 0.15)",
         "hoverinfo": "none",
         "mode": "none",
         "showlegend": false,
         "type": "scatter",
         "x": [
          0.7,
          1
         ],
         "y": [
          1,
          1
         ]
        },
        {
         "hovertemplate": "<b>tier 1</b><br>difficulty %{x:.2f}<br>probability %{y:.1%}<extra></extra>",
         "line": {
          "color": "#1f77b4"
         },
         "mode": "lines",
         "name": "tier 1",
         "type": "scatter",
         "x": [
          0.05,
          0.07435897435897436,
          0.09871794871794873,
          0.12307692307692308,
          0.14743589743589744,
          0.1717948717948718,
          0.19615384615384618,
          0.2205128205128205,
          0.2448717948717949,
          0.2692307692307692,
          0.2935897435897436,
          0.31794871794871793,
          0.3423076923076923,
          0.36666666666666664,
          0.391025641025641,
          0.41538461538461535,
          0.43974358974358974,
          0.4641025641025641,
          0.48846153846153845,
          0.5128205128205129,
          0.5371794871794872,
          0.5615384615384615,
          0.5858974358974359,
          0.6102564102564103,
          0.6346153846153847,
          0.6589743589743591,
          0.6833333333333333,
          0.7076923076923077,
          0.7320512820512821,
          0.7564102564102565,
          0.7807692307692308,
          0.8051282051282052,
          0.8294871794871795,
          0.8538461538461539,
          0.8782051282051283,
          0.9025641025641026,
          0.926923076923077,
          0.9512820512820513,
          0.9756410256410257,
          1
         ],
         "y": [
          0,
          0,
          4.2014070450809674e-23,
          6.718413930157337e-16,
          3.701430003431267e-12,
          8.087003332574349e-10,
          3.7127207948282814e-8,
          6.644339161067348e-7,
          0.0000062469174613035325,
          0.000036935719726557884,
          0.00015464678723025685,
          0.0004982676975764798,
          0.0013105572974327297,
          0.0029361689168553844,
          0.005785312667925544,
          0.010277978180644895,
          0.016788000623473267,
          0.025598185652779434,
          0.03687135436064394,
          0.05063957020008605,
          0.06681104308419641,
          0.08519082190450833,
          0.10550917828063798,
          0.12745151857273887,
          0.1506853086030826,
          0.17488147825969508,
          0.1997297580314168,
          0.22494833179284332,
          0.25028890868290915,
          0.2755384054667238,
          0.30051823403010414,
          0.32508222450028906,
          0.34911354395246774,
          0.37252143375204994,
          0.3952377617623969,
          0.4172137595912505,
          0.43841698551087155,
          0.4588285598826055,
          0.47844078753225,
          0.497254983088569
         ]
        },
        {
         "hovertemplate": "<b>tier 2</b><br>difficulty %{x:.2f}<br>probability %{y:.1%}<extra></extra>",
         "line": {
          "color": "#ff7f0e"
         },
         "mode": "lines",
         "name": "tier 2",
         "type": "scatter",
         "x": [
          0.05,
          0.07435897435897436,
          0.09871794871794873,
          0.12307692307692308,
          0.14743589743589744,
          0.1717948717948718,
          0.19615384615384618,
          0.2205128205128205,
          0.2448717948717949,
          0.2692307692307692,
          0.2935897435897436,
          0.31794871794871793,
          0.3423076923076923,
          0.36666666666666664,
          0.391025641025641,
          0.41538461538461535,
          0.43974358974358974,
          0.4641025641025641,
          0.48846153846153845,
          0.5128205128205129,
          0.5371794871794872,
          0.5615384615384615,
          0.5858974358974359,
          0.6102564102564103,
          0.6346153846153847,
          0.6589743589743591,
          0.6833333333333333,
          0.7076923076923077,
          0.7320512820512821,
          0.7564102564102565,
          0.7807692307692308,
          0.8051282051282052,
          0.8294871794871795,
          0.8538461538461539,
          0.8782051282051283,
          0.9025641025641026,
          0.926923076923077,
          0.9512820512820513,
          0.9756410256410257,
          1
         ],
         "y": [
          0,
          0,
          0,
          2.6816932042535686e-26,
          6.557714352384117e-20,
          6.682678612493705e-16,
          5.185234578110788e-13,
          7.86359463175398e-11,
          3.836787993036768e-9,
          8.239143769447849e-8,
          9.680797898296418e-7,
          0.000007123322371269313,
          0.000036544084668882366,
          0.0001424697305356287,
          0.00044679088508307364,
          0.0011700729830185412,
          0.0026360868607914105,
          0.005245745983989222,
          0.00943532969697919,
          0.015633772715063887,
          0.02422289169838583,
          0.03550006217215605,
          0.04964645895794547,
          0.06670715902448501,
          0.08658814529549101,
          0.10907020242121511,
          0.13383556989661927,
          0.16050092531922497,
          0.1886505049911362,
          0.21786519528870857,
          0.2477450681262835,
          0.27792493454837736,
          0.30808347514564344,
          0.3379471658957134,
          0.3672903021801245,
          0.3959324426839242,
          0.4237342632652025,
          0.45059266818753274,
          0.47643568529610225,
          0.5012174762764179
         ]
        },
        {
         "hovertemplate": "<b>tier 3</b><br>difficulty %{x:.2f}<br>probability %{y:.1%}<extra></extra>",
         "line": {
          "color": "#2ca02c"
         },
         "mode": "lines",
         "name": "tier 3",
         "type": "scatter",
         "x": [
          0.05,
          0.07435897435897436,
          0.09871794871794873,
          0.12307692307692308,
          0.14743589743589744,
          0.1717948717948718,
          0.19615384615384618,
          0.2205128205128205,
          0.2448717948717949,
          0.2692307692307692,
          0.2935897435897436,
          0.31794871794871793,
          0.3423076923076923,
          0.36666666666666664,
          0.391025641025641,
          0.41538461538461535,
          0.43974358974358974,
          0.4641025641025641,
          0.48846153846153845,
          0.5128205128205129,
          0.5371794871794872,
          0.5615384615384615,
          0.5858974358974359,
          0.6102564102564103,
          0.6346153846153847,
          0.6589743589743591,
          0.6833333333333333,
          0.7076923076923077,
          0.7320512820512821,
          0.7564102564102565,
          0.7807692307692308,
          0.8051282051282052,
          0.8294871794871795,
          0.8538461538461539,
          0.8782051282051283,
          0.9025641025641026,
          0.926923076923077,
          0.9512820512820513,
          0.9756410256410257,
          1
         ],
         "y": [
          0,
          0,
          0,
          0,
          0,
          0,
          2.104038713049003e-26,
          1.2436860809530475e-21,
          6.830493514374201e-18,
          5.327655081675889e-15,
          1.1134937747586128e-12,
          9.444982975467136e-11,
          3.1041279140482952e-9,
          4.972945992418947e-8,
          5.237600024554595e-7,
          0.000004164739884186669,
          0.00002479028596563294,
          0.00010971729849243205,
          0.0003722721520995837,
          0.0010135147193766705,
          0.0023168939657432362,
          0.004628558803719207,
          0.00835132167496374,
          0.013959531499489685,
          0.022010182574030767,
          0.033117851734192634,
          0.0478828164404237,
          0.06679098272290553,
          0.09011959361220731,
          0.11787817170518448,
          0.1497979376198658,
          0.18536590912246176,
          0.22388931854912533,
          0.2645724844078962,
          0.30659113963195134,
          0.3491541367127007,
          0.3915480638584625,
          0.4331642162083026,
          0.4735103289623313,
          0.5122105058485017
         ]
        },
        {
         "hovertemplate": "<b>tier 4</b><br>difficulty %{x:.2f}<br>probability %{y:.1%}<extra></extra>",
         "line": {
          "color": "#d62728"
         },
         "mode": "lines",
         "name": "tier 4",
         "type": "scatter",
         "x": [
          0.05,
          0.07435897435897436,
          0.09871794871794873,
          0.12307692307692308,
          0.14743589743589744,
          0.1717948717948718,
          0.19615384615384618,
          0.2205128205128205,
          0.2448717948717949,
          0.2692307692307692,
          0.2935897435897436,
          0.31794871794871793,
          0.3423076923076923,
          0.36666666666666664,
          0.391025641025641,
          0.41538461538461535,
          0.43974358974358974,
          0.4641025641025641,
          0.48846153846153845,
          0.5128205128205129,
          0.5371794871794872,
          0.5615384615384615,
          0.5858974358974359,
          0.6102564102564103,
          0.6346153846153847,
          0.6589743589743591,
          0.6833333333333333,
          0.7076923076923077,
          0.7320512820512821,
          0.7564102564102565,
          0.7807692307692308,
          0.8051282051282052,
          0.8294871794871795,
          0.8538461538461539,
          0.8782051282051283,
          0.9025641025641026,
          0.926923076923077,
          0.9512820512820513,
          0.9756410256410257,
          1
         ],
         "y": [
          0,
          0,
          0,
          0,
          0,
          0,
          0,
          0,
          0,
          0,
          0,
          0,
          0,
          4.991300441037016e-25,
          8.932988187945858e-22,
          2.8583703786277038e-18,
          4.692827463472529e-15,
          1.7821340803929837e-12,
          1.9339728151031582e-10,
          7.854488262649087e-9,
          1.4686631774365453e-7,
          0.000001483266259751575,
          0.000009163558132131077,
          0.000038209546023385116,
          0.00011649054839445782,
          0.0002788341167877192,
          0.0005665872996085207,
          0.0010837342811443494,
          0.002179465677656907,
          0.00477328158984197,
          0.010691688802964807,
          0.022744586913703606,
          0.04430977292894058,
          0.07845946872983826,
          0.12696676621861294,
          0.18963097082420208,
          0.2641943104234182,
          0.3468312318779314,
          0.43296694172381284,
          0.5181208458324333
         ]
        }
       ],
       "layout": {
        "annotations": [
         {
          "showarrow": false,
          "text": "Trivial",
          "x": 0.075,
          "y": 0.47
         },
         {
          "showarrow": false,
          "text": "Easy",
          "x": 0.22499999999999998,
          "y": 0.47
         },
         {
          "showarrow": false,
          "text": "Medium",
          "x": 0.375,
          "y": 0.47
         },
         {
          "showarrow": false,
          "text": "Hard",
          "x": 0.575,
          "y": 0.47
         },
         {
          "showarrow": false,
          "text": "Deadly",
          "x": 0.85,
          "y": 0.47
         }
        ],
        "height": 450,
        "legend": {
         "bgcolor": "rgba(0,0,0,0)",
         "orientation": "v",
         "tracegroupgap": 0,
         "x": 0.01,
         "xanchor": "left",
         "y": 0.03,
         "yanchor": "bottom"
        },
        "template": {
         "layout": {
          "autosize": false,
          "font": {
           "family": "sans-serif",
           "size": 14
          },
          "hoverlabel": {
           "align": "left"
          },
          "hovermode": "closest",
          "margin": {
           "b": 55,
           "l": 60,
           "pad": 4,
           "r": 25,
           "t": 20
          },
          "template": {
           "data": {
            "bar": [
             {
              "error_x": {
               "color": "#2a3f5f"
              },
              "error_y": {
               "color": "#2a3f5f"
              },
              "marker": {
               "line": {
                "color": "white",
                "width": 0.5
               },
               "pattern": {
                "fillmode": "overlay",
                "size": 10,
                "solidity": 0.2
               }
              },
              "type": "bar"
             }
            ],
            "barpolar": [
             {
              "marker": {
               "line": {
                "color": "white",
                "width": 0.5
               },
               "pattern": {
                "fillmode": "overlay",
                "size": 10,
                "solidity": 0.2
               }
              },
              "type": "barpolar"
             }
            ],
            "carpet": [
             {
              "aaxis": {
               "endlinecolor": "#2a3f5f",
               "gridcolor": "#C8D4E3",
               "linecolor": "#C8D4E3",
               "minorgridcolor": "#C8D4E3",
               "startlinecolor": "#2a3f5f"
              },
              "baxis": {
               "endlinecolor": "#2a3f5f",
               "gridcolor": "#C8D4E3",
               "linecolor": "#C8D4E3",
               "minorgridcolor": "#C8D4E3",
               "startlinecolor": "#2a3f5f"
              },
              "type": "carpet"
             }
            ],
            "choropleth": [
             {
              "colorbar": {
               "outlinewidth": 0,
               "ticks": ""
              },
              "type": "choropleth"
             }
            ],
            "contour": [
             {
              "colorbar": {
               "outlinewidth": 0,
               "ticks": ""
              },
              "colorscale": [
               [
                0,
                "#0d0887"
               ],
               [
                0.1111111111111111,
                "#46039f"
               ],
               [
                0.2222222222222222,
                "#7201a8"
               ],
               [
                0.3333333333333333,
                "#9c179e"
               ],
               [
                0.4444444444444444,
                "#bd3786"
               ],
               [
                0.5555555555555556,
                "#d8576b"
               ],
               [
                0.6666666666666666,
                "#ed7953"
               ],
               [
                0.7777777777777778,
                "#fb9f3a"
               ],
               [
                0.8888888888888888,
                "#fdca26"
               ],
               [
                1,
                "#f0f921"
               ]
              ],
              "type": "contour"
             }
            ],
            "contourcarpet": [
             {
              "colorbar": {
               "outlinewidth": 0,
               "ticks": ""
              },
              "type": "contourcarpet"
             }
            ],
            "heatmap": [
             {
              "colorbar": {
               "outlinewidth": 0,
               "ticks": ""
              },
              "colorscale": [
               [
                0,
                "#0d0887"
               ],
               [
                0.1111111111111111,
                "#46039f"
               ],
               [
                0.2222222222222222,
                "#7201a8"
               ],
               [
                0.3333333333333333,
                "#9c179e"
               ],
               [
                0.4444444444444444,
                "#bd3786"
               ],
               [
                0.5555555555555556,
                "#d8576b"
               ],
               [
                0.6666666666666666,
                "#ed7953"
               ],
               [
                0.7777777777777778,
                "#fb9f3a"
               ],
               [
                0.8888888888888888,
                "#fdca26"
               ],
               [
                1,
                "#f0f921"
               ]
              ],
              "type": "heatmap"
             }
            ],
            "heatmapgl": [
             {
              "colorbar": {
               "outlinewidth": 0,
               "ticks": ""
              },
              "colorscale": [
               [
                0,
                "#0d0887"
               ],
               [
                0.1111111111111111,
                "#46039f"
               ],
               [
                0.2222222222222222,
                "#7201a8"
               ],
               [
                0.3333333333333333,
                "#9c179e"
               ],
               [
                0.4444444444444444,
                "#bd3786"
               ],
               [
                0.5555555555555556,
                "#d8576b"
               ],
               [
                0.6666666666666666,
                "#ed7953"
               ],
               [
                0.7777777777777778,
                "#fb9f3a"
               ],
               [
                0.8888888888888888,
                "#fdca26"
               ],
               [
                1,
                "#f0f921"
               ]
              ],
              "type": "heatmapgl"
             }
            ],
            "histogram": [
             {
              "marker": {
               "pattern": {
                "fillmode": "overlay",
                "size": 10,
                "solidity": 0.2
               }
              },
              "type": "histogram"
             }
            ],
            "histogram2d": [
             {
              "colorbar": {
               "outlinewidth": 0,
               "ticks": ""
              },
              "colorscale": [
               [
                0,
                "#0d0887"
               ],
               [
                0.1111111111111111,
                "#46039f"
               ],
               [
                0.2222222222222222,
                "#7201a8"
               ],
               [
                0.3333333333333333,
                "#9c179e"
               ],
               [
                0.4444444444444444,
                "#bd3786"
               ],
               [
                0.5555555555555556,
                "#d8576b"
               ],
               [
                0.6666666666666666,
                "#ed7953"
               ],
               [
                0.7777777777777778,
                "#fb9f3a"
               ],
               [
                0.8888888888888888,
                "#fdca26"
               ],
               [
                1,
                "#f0f921"
               ]
              ],
              "type": "histogram2d"
             }
            ],
            "histogram2dcontour": [
             {
              "colorbar": {
               "outlinewidth": 0,
               "ticks": ""
              },
              "colorscale": [
               [
                0,
                "#0d0887"
               ],
               [
                0.1111111111111111,
                "#46039f"
               ],
               [
                0.2222222222222222,
                "#7201a8"
               ],
               [
                0.3333333333333333,
                "#9c179e"
               ],
               [
                0.4444444444444444,
                "#bd3786"
               ],
               [
                0.5555555555555556,
                "#d8576b"
               ],
               [
                0.6666666666666666,
                "#ed7953"
               ],
               [
                0.7777777777777778,
                "#fb9f3a"
               ],
               [
                0.8888888888888888,
                "#fdca26"
               ],
               [
                1,
                "#f0f921"
               ]
              ],
              "type": "histogram2dcontour"
             }
            ],
            "mesh3d": [
             {
              "colorbar": {
               "outlinewidth": 0,
               "ticks": ""
              },
              "type": "mesh3d"
             }
            ],
            "parcoords": [
             {
              "line": {
               "colorbar": {
                "outlinewidth": 0,
                "ticks": ""
               }
              },
              "type": "parcoords"
             }
            ],
            "pie": [
             {
              "automargin": true,
              "type": "pie"
             }
            ],
            "scatter": [
             {
              "fillpattern": {
               "fillmode": "overlay",
               "size": 10,
               "solidity": 0.2
              },
              "type": "scatter"
             }
            ],
            "scatter3d": [
             {
              "line": {
               "colorbar": {
                "outlinewidth": 0,
                "ticks": ""
               }
              },
              "marker": {
               "colorbar": {
                "outlinewidth": 0,
                "ticks": ""
               }
              },
              "type": "scatter3d"
             }
            ],
            "scattercarpet": [
             {
              "marker": {
               "colorbar": {
                "outlinewidth": 0,
                "ticks": ""
               }
              },
              "type": "scattercarpet"
             }
            ],
            "scattergeo": [
             {
              "marker": {
               "colorbar": {
                "outlinewidth": 0,
                "ticks": ""
               }
              },
              "type": "scattergeo"
             }
            ],
            "scattergl": [
             {
              "marker": {
               "colorbar": {
                "outlinewidth": 0,
                "ticks": ""
               }
              },
              "type": "scattergl"
             }
            ],
            "scattermapbox": [
             {
              "marker": {
               "colorbar": {
                "outlinewidth": 0,
                "ticks": ""
               }
              },
              "type": "scattermapbox"
             }
            ],
            "scatterpolar": [
             {
              "marker": {
               "colorbar": {
                "outlinewidth": 0,
                "ticks": ""
               }
              },
              "type": "scatterpolar"
             }
            ],
            "scatterpolargl": [
             {
              "marker": {
               "colorbar": {
                "outlinewidth": 0,
                "ticks": ""
               }
              },
              "type": "scatterpolargl"
             }
            ],
            "scatterternary": [
             {
              "marker": {
               "colorbar": {
                "outlinewidth": 0,
                "ticks": ""
               }
              },
              "type": "scatterternary"
             }
            ],
            "surface": [
             {
              "colorbar": {
               "outlinewidth": 0,
               "ticks": ""
              },
              "colorscale": [
               [
                0,
                "#0d0887"
               ],
               [
                0.1111111111111111,
                "#46039f"
               ],
               [
                0.2222222222222222,
                "#7201a8"
               ],
               [
                0.3333333333333333,
                "#9c179e"
               ],
               [
                0.4444444444444444,
                "#bd3786"
               ],
               [
                0.5555555555555556,
                "#d8576b"
               ],
               [
                0.6666666666666666,
                "#ed7953"
               ],
               [
                0.7777777777777778,
                "#fb9f3a"
               ],
               [
                0.8888888888888888,
                "#fdca26"
               ],
               [
                1,
                "#f0f921"
               ]
              ],
              "type": "surface"
             }
            ],
            "table": [
             {
              "cells": {
               "fill": {
                "color": "#EBF0F8"
               },
               "line": {
                "color": "white"
               }
              },
              "header": {
               "fill": {
                "color": "#C8D4E3"
               },
               "line": {
                "color": "white"
               }
              },
              "type": "table"
             }
            ]
           },
           "layout": {
            "annotationdefaults": {
             "arrowcolor": "#2a3f5f",
             "arrowhead": 0,
             "arrowwidth": 1
            },
            "autotypenumbers": "strict",
            "coloraxis": {
             "colorbar": {
              "outlinewidth": 0,
              "ticks": ""
             }
            },
            "colorscale": {
             "diverging": [
              [
               0,
               "#8e0152"
              ],
              [
               0.1,
               "#c51b7d"
              ],
              [
               0.2,
               "#de77ae"
              ],
              [
               0.3,
               "#f1b6da"
              ],
              [
               0.4,
               "#fde0ef"
              ],
              [
               0.5,
               "#f7f7f7"
              ],
              [
               0.6,
               "#e6f5d0"
              ],
              [
               0.7,
               "#b8e186"
              ],
              [
               0.8,
               "#7fbc41"
              ],
              [
               0.9,
               "#4d9221"
              ],
              [
               1,
               "#276419"
              ]
             ],
             "sequential": [
              [
               0,
               "#0d0887"
              ],
              [
               0.1111111111111111,
               "#46039f"
              ],
              [
               0.2222222222222222,
               "#7201a8"
              ],
              [
               0.3333333333333333,
               "#9c179e"
              ],
              [
               0.4444444444444444,
               "#bd3786"
              ],
              [
               0.5555555555555556,
               "#d8576b"
              ],
              [
               0.6666666666666666,
               "#ed7953"
              ],
              [
               0.7777777777777778,
               "#fb9f3a"
              ],
              [
               0.8888888888888888,
               "#fdca26"
              ],
              [
               1,
               "#f0f921"
              ]
             ],
             "sequentialminus": [
              [
               0,
               "#0d0887"
              ],
              [
               0.1111111111111111,
               "#46039f"
              ],
              [
               0.2222222222222222,
               "#7201a8"
              ],
              [
               0.3333333333333333,
               "#9c179e"
              ],
              [
               0.4444444444444444,
               "#bd3786"
              ],
              [
               0.5555555555555556,
               "#d8576b"
              ],
              [
               0.6666666666666666,
               "#ed7953"
              ],
              [
               0.7777777777777778,
               "#fb9f3a"
              ],
              [
               0.8888888888888888,
               "#fdca26"
              ],
              [
               1,
               "#f0f921"
              ]
             ]
            },
            "colorway": [
             "#636efa",
             "#EF553B",
             "#00cc96",
             "#ab63fa",
             "#FFA15A",
             "#19d3f3",
             "#FF6692",
             "#B6E880",
             "#FF97FF",
             "#FECB52"
            ],
            "font": {
             "color": "#2a3f5f"
            },
            "geo": {
             "bgcolor": "white",
             "lakecolor": "white",
             "landcolor": "white",
             "showlakes": true,
             "showland": true,
             "subunitcolor": "#C8D4E3"
            },
            "hoverlabel": {
             "align": "left"
            },
            "hovermode": "closest",
            "mapbox": {
             "style": "light"
            },
            "paper_bgcolor": "white",
            "plot_bgcolor": "white",
            "polar": {
             "angularaxis": {
              "gridcolor": "#EBF0F8",
              "linecolor": "#EBF0F8",
              "ticks": ""
             },
             "bgcolor": "white",
             "radialaxis": {
              "gridcolor": "#EBF0F8",
              "linecolor": "#EBF0F8",
              "ticks": ""
             }
            },
            "scene": {
             "xaxis": {
              "backgroundcolor": "white",
              "gridcolor": "#DFE8F3",
              "gridwidth": 2,
              "linecolor": "#EBF0F8",
              "showbackground": true,
              "ticks": "",
              "zerolinecolor": "#EBF0F8"
             },
             "yaxis": {
              "backgroundcolor": "white",
              "gridcolor": "#DFE8F3",
              "gridwidth": 2,
              "linecolor": "#EBF0F8",
              "showbackground": true,
              "ticks": "",
              "zerolinecolor": "#EBF0F8"
             },
             "zaxis": {
              "backgroundcolor": "white",
              "gridcolor": "#DFE8F3",
              "gridwidth": 2,
              "linecolor": "#EBF0F8",
              "showbackground": true,
              "ticks": "",
              "zerolinecolor": "#EBF0F8"
             }
            },
            "shapedefaults": {
             "line": {
              "color": "#2a3f5f"
             }
            },
            "ternary": {
             "aaxis": {
              "gridcolor": "#DFE8F3",
              "linecolor": "#A2B1C6",
              "ticks": ""
             },
             "baxis": {
              "gridcolor": "#DFE8F3",
              "linecolor": "#A2B1C6",
              "ticks": ""
             },
             "bgcolor": "white",
             "caxis": {
              "gridcolor": "#DFE8F3",
              "linecolor": "#A2B1C6",
              "ticks": ""
             }
            },
            "title": {
             "x": 0.05
            },
            "xaxis": {
             "automargin": true,
             "gridcolor": "#EBF0F8",
             "linecolor": "#EBF0F8",
             "ticks": "",
             "title": {
              "standoff": 15
             },
             "zerolinecolor": "#EBF0F8",
             "zerolinewidth": 2
            },
            "yaxis": {
             "automargin": true,
             "gridcolor": "#EBF0F8",
             "linecolor": "#EBF0F8",
             "ticks": "",
             "title": {
              "standoff": 15
             },
             "zerolinecolor": "#EBF0F8",
             "zerolinewidth": 2
            }
           }
          },
          "xaxis": {
           "automargin": false,
           "linecolor": "#444",
           "linewidth": 2,
           "minor": {
            "tickmode": "linear",
            "ticks": "outside"
           },
           "mirror": true,
           "showline": true,
           "tickmode": "linear",
           "ticks": "outside",
           "zeroline": false
          },
          "yaxis": {
           "automargin": true,
           "linecolor": "#444",
           "linewidth": 2,
           "minor": {
            "tickmode": "linear",
            "ticks": "outside"
           },
           "mirror": true,
           "showline": true,
           "ticks": "outside",
           "zeroline": false
          }
         }
        },
        "width": 600,
        "xaxis": {
         "dtick": 0.2,
         "minor": {
          "dtick": 0.1,
          "tick0": 0
         },
         "range": [
          0,
          1
         ],
         "tick0": 0,
         "title": {
          "text": "encounter difficulty"
         }
        },
        "yaxis": {
         "dtick": 0.1,
         "minor": {
          "dtick": 0.05,
          "tick0": 0
         },
         "range": [
          -0.01,
          0.51
         ],
         "tick0": 0,
         "tickformat": ".1f",
         "title": {
          "text": "probability of PCs losing"
         }
        }
       }
      }
     },
     "metadata": {},
     "output_type": "display_data"
    }
   ],
   "source": [
    "# Fig. 5: plots the probability of PCs losing over a range of difficulties for each tier of play\n",
    "\n",
    "# create figure\n",
    "fig = go.Figure(\n",
    "    layout=go.Layout(\n",
    "        template=tfb.FIG_TEMPLATE,\n",
    "        xaxis=dict(\n",
    "            title_text='encounter difficulty',\n",
    "            range=[0.0, 1.0],\n",
    "            tick0=0, dtick=0.2,\n",
    "            minor=dict(tick0=0, dtick=0.1),\n",
    "        ),\n",
    "        yaxis=dict(\n",
    "            title_text='probability of PCs losing',\n",
    "            #range=[-0.01,1.01],\n",
    "            range=[-0.01,0.51],\n",
    "            tickformat='.1f',\n",
    "            tick0=0, dtick=0.1,\n",
    "            minor=dict(tick0=0, dtick=0.05),\n",
    "        ),\n",
    "        legend=dict(\n",
    "            xanchor='left', yanchor='bottom',\n",
    "            x=0.01, y=0.03,\n",
    "            orientation='v',\n",
    "            tracegroupgap=0,\n",
    "            bgcolor='rgba(0,0,0,0)',\n",
    "        )\n",
    "    )\n",
    ")\n",
    "\n",
    "# plot difficulty ranges\n",
    "thresholds = [\n",
    "    ('Trivial', 0.00, 0.15, 'rgba(167, 167, 167, 0.15)'),\n",
    "    ('Easy',    0.15, 0.15, 'rgba(  0, 199, 151, 0.15)'),\n",
    "    ('Medium',  0.30, 0.15, 'rgba(245, 166,  35, 0.15)'),\n",
    "    ('Hard',    0.45, 0.25, 'rgba(228,  90,  29, 0.15)'),\n",
    "    ('Deadly',  0.70, 0.30, 'rgba(144,  79, 213, 0.15)'), #rgba(213,  79,  79, 0.2)'\n",
    "]\n",
    "for name, diff, dx, color in thresholds:\n",
    "    fig.add_trace(go.Scatter(\n",
    "        x=[diff, diff+dx], \n",
    "        y=[1.0, 1.0],\n",
    "        mode='none',\n",
    "        fill='tozeroy', \n",
    "        showlegend=False,\n",
    "        #line_color=color,\n",
    "        #marker_color=color,\n",
    "        fillcolor=color,\n",
    "        #hoveron = 'points+fills', # select where hover is active\n",
    "        hoverinfo='none'\n",
    "    ))\n",
    "    fig.add_annotation(\n",
    "        x=diff + dx/2, \n",
    "        y=0.47,\n",
    "        text=name,\n",
    "        showarrow=False,\n",
    "    )\n",
    "\n",
    "tiers = [\n",
    "    {\n",
    "        'name': 'tier 1',\n",
    "        'cv': 0.8,\n",
    "        'dash': 'solid',\n",
    "    },\n",
    "    {\n",
    "        'name': 'tier 2',\n",
    "        'cv': 0.6,\n",
    "        'dash': 'dash',\n",
    "    },\n",
    "    {\n",
    "        'name': 'tier 3',\n",
    "        'cv': 0.4,\n",
    "        'dash': 'dashdot',\n",
    "    },\n",
    "    {\n",
    "        'name': 'tier 4',\n",
    "        'cv': 0.2,\n",
    "        'dash': 'dashdot',\n",
    "    },\n",
    "]\n",
    "\n",
    "colors = iter(COLOR_LIST)\n",
    "difficulties = list(np.linspace(0.05, 1.0, 40))\n",
    "for tier in tiers:\n",
    "    pc_win_pct = []\n",
    "    mon_win_pct = []\n",
    "    for diff in difficulties:\n",
    "        party_hp = 100\n",
    "        pc_r_win = 3\n",
    "        pc_dpr_cv = tier['cv']\n",
    "\n",
    "        mon_hp = 100\n",
    "        mon_r_win = pc_r_win/diff\n",
    "        mon_dpr_cv = tier['cv']\n",
    "\n",
    "\n",
    "        party_dpr = mon_hp/pc_r_win\n",
    "        party_size = 4\n",
    "        pc_hp = party_hp/party_size\n",
    "        pc_dpr = party_dpr/party_size\n",
    "\n",
    "        mon_dpr = party_hp/mon_r_win\n",
    "\n",
    "        # construct combatants\n",
    "        combatants = [\n",
    "            cp.Combatant(\n",
    "                group='NPCs',\n",
    "                name='monster',\n",
    "                opponent='PCs',\n",
    "                level=5,\n",
    "                hit_points = mon_hp,\n",
    "                damage = [cp.gaussian_dice_distribution(mon_dpr, mon_dpr_cv*mon_dpr)],\n",
    "            ),\n",
    "            cp.Combatant(\n",
    "                group='PCs',\n",
    "                name='PC 1',\n",
    "                opponent='NPCs',\n",
    "                level=5,\n",
    "                hit_points = pc_hp,\n",
    "                damage = [cp.gaussian_dice_distribution(pc_dpr, pc_dpr_cv*pc_dpr)],\n",
    "            ),\n",
    "            cp.Combatant(\n",
    "                group='PCs',\n",
    "                name='PC 2',\n",
    "                opponent='NPCs',\n",
    "                level=5,\n",
    "                hit_points = pc_hp,\n",
    "                damage = [cp.gaussian_dice_distribution(pc_dpr, pc_dpr_cv*pc_dpr)],\n",
    "            ),\n",
    "            cp.Combatant(\n",
    "                group='PCs',\n",
    "                name='PC 3',\n",
    "                opponent='NPCs',\n",
    "                level=5,\n",
    "                hit_points = pc_hp,\n",
    "                damage = [cp.gaussian_dice_distribution(pc_dpr, pc_dpr_cv*pc_dpr)],\n",
    "            ),\n",
    "            cp.Combatant(\n",
    "                group='PCs',\n",
    "                name='PC 4',\n",
    "                opponent='NPCs',\n",
    "                level=5,\n",
    "                hit_points = pc_hp,\n",
    "                damage = [cp.gaussian_dice_distribution(pc_dpr, pc_dpr_cv*pc_dpr)],\n",
    "            ),\n",
    "        ]\n",
    "        e = cp.Encounter(combatants, initiative=['PC 1','PC 2','monster','PC 3','PC 4'], rounds=10)\n",
    "        pc_win_pct += [e.group_win_pct('PCs', method='approx')]\n",
    "        mon_win_pct += [e.group_win_pct('NPCs', method='approx')]\n",
    "\n",
    "    # plot data\n",
    "    fig.add_trace(go.Scatter(\n",
    "        x=difficulties,\n",
    "        y=mon_win_pct,\n",
    "        name=tier['name'],\n",
    "        #name=f'CV = {mon_dpr_cv:.2f} - NPCs',\n",
    "        mode='lines',\n",
    "        line_color=next(colors),\n",
    "        #line_color=COLOR_LIST[1],\n",
    "        #line_dash=tier['dash'],\n",
    "        hovertemplate=\n",
    "            #f'<b>CV = {mon_dpr_cv:.2f} - NPCs</b><br>'+\n",
    "            f'<b>' + tier['name'] + '</b><br>'+\n",
    "            'difficulty %{x:.2f}<br>'+\n",
    "            'probability %{y:.1%}<extra></extra>',\n",
    "    ))\n",
    "\n",
    "# show figure\n",
    "fig.update_layout(width=600, height=450)\n",
    "fig.show(config=tfb.FIG_CONFIG)\n",
    "\n",
    "# save figures\n",
    "if SAVEFIGS:\n",
    "    fig.update_layout(autosize=True, width=None, height=None)\n",
    "    tfb.save_fig_html(fig, format='large', name=f'./fig-win-vs-diff-tiers-large')\n",
    "    tfb.save_fig_html(fig, format='small', name=f'./fig-win-vs-diff-tiers-small')"
   ]
  },
  {
   "cell_type": "code",
   "execution_count": null,
   "metadata": {},
   "outputs": [
    {
     "data": {
      "application/vnd.plotly.v1+json": {
       "config": {
        "autosizable": true,
        "displayModeBar": "hover",
        "displaylogo": false,
        "doubleClick": "reset",
        "modeBarButtonsToRemove": [
         "select2d",
         "lasso2d",
         "zoom2d",
         "zoomIn2d",
         "zoomOut2d",
         "pan2d",
         "autoScale2d",
         "hoverClosestCartesian",
         "hoverCompareCartesian",
         "toggleSpikelines",
         "resetScale2d"
        ],
        "plotlyServerURL": "https://plot.ly",
        "responsive": true,
        "showAxisDragHandles": false,
        "toImageButtonOptions": {
         "filename": "tfb-plot",
         "format": "png",
         "height": 450,
         "scale": 2,
         "width": 600
        }
       },
       "data": [
        {
         "fill": "tozeroy",
         "fillcolor": "rgba(167, 167, 167, 0.15)",
         "hoverinfo": "none",
         "mode": "none",
         "showlegend": false,
         "type": "scatter",
         "x": [
          0,
          0.15
         ],
         "y": [
          1,
          1
         ]
        },
        {
         "fill": "tozeroy",
         "fillcolor": "rgba(  0, 199, 151, 0.15)",
         "hoverinfo": "none",
         "mode": "none",
         "showlegend": false,
         "type": "scatter",
         "x": [
          0.15,
          0.3
         ],
         "y": [
          1,
          1
         ]
        },
        {
         "fill": "tozeroy",
         "fillcolor": "rgba(245, 166,  35, 0.15)",
         "hoverinfo": "none",
         "mode": "none",
         "showlegend": false,
         "type": "scatter",
         "x": [
          0.3,
          0.44999999999999996
         ],
         "y": [
          1,
          1
         ]
        },
        {
         "fill": "tozeroy",
         "fillcolor": "rgba(228,  90,  29, 0.15)",
         "hoverinfo": "none",
         "mode": "none",
         "showlegend": false,
         "type": "scatter",
         "x": [
          0.45,
          0.7
         ],
         "y": [
          1,
          1
         ]
        },
        {
         "fill": "tozeroy",
         "fillcolor": "rgba(144,  79, 213, 0.15)",
         "hoverinfo": "none",
         "mode": "none",
         "showlegend": false,
         "type": "scatter",
         "x": [
          0.7,
          1
         ],
         "y": [
          1,
          1
         ]
        },
        {
         "fill": "none",
         "hoverinfo": "none",
         "legendgroup": "PCs",
         "line": {
          "color": "#1f77b4",
          "width": 0
         },
         "name": "fill",
         "showlegend": false,
         "type": "scatter",
         "x": [
          0,
          0.05,
          0.1,
          0.15000000000000002,
          0.2,
          0.25,
          0.30000000000000004,
          0.35000000000000003,
          0.4,
          0.45,
          0.5,
          0.55,
          0.6000000000000001,
          0.65,
          0.7000000000000001,
          0.75,
          0.8,
          0.8500000000000001,
          0.9,
          0.9500000000000001,
          1
         ],
         "y": [
          0,
          0.03372808779270363,
          0.06745609171913691,
          0.10118413721032914,
          0.13491218364556334,
          0.16864023073481438,
          0.20236827755106765,
          0.23609664783829876,
          0.2698337953600166,
          0.3036552399024527,
          0.3378326653623998,
          0.3728060006217761,
          0.40891507984165365,
          0.44616488958088896,
          0.4841486466702619,
          0.5221323038290702,
          0.5592549358022485,
          0.5947342390607937,
          0.6279914216961614,
          0.6586838260934499,
          0.6866769372911586
         ]
        },
        {
         "fill": "tonexty",
         "hoverinfo": "none",
         "legendgroup": "PCs",
         "line": {
          "color": "#1f77b4",
          "width": 0
         },
         "name": "fill",
         "showlegend": false,
         "type": "scatter",
         "x": [
          0,
          0.05,
          0.1,
          0.15000000000000002,
          0.2,
          0.25,
          0.30000000000000004,
          0.35000000000000003,
          0.4,
          0.45,
          0.5,
          0.55,
          0.6000000000000001,
          0.65,
          0.7000000000000001,
          0.75,
          0.8,
          0.8500000000000001,
          0.9,
          0.9500000000000001,
          1
         ],
         "y": [
          0,
          0.06719420588439315,
          0.13438747638112525,
          0.20158121513390737,
          0.268774952087899,
          0.335968691056882,
          0.403162426153707,
          0.4703557036419238,
          0.5375354701993252,
          0.6045713977692792,
          0.6709125567314709,
          0.7353853693617307,
          0.796396262997022,
          0.8522856906895049,
          0.9016842359148646,
          0.9438069270884311,
          0.9785499644500972,
          1.0063749078218616,
          1.0280912326743017,
          1.0446479958871118,
          1.0569863579232188
         ]
        },
        {
         "customdata": [
          0,
          0.01673305904584476,
          0.033465692330994175,
          0.05019853896178912,
          0.0669313842211678,
          0.08366423016103379,
          0.1003970743013197,
          0.11712952790181251,
          0.13385083741965434,
          0.15045807893341323,
          0.1665399456845355,
          0.18128968436997733,
          0.19374059157768417,
          0.20306040055430796,
          0.20876779462230136,
          0.2108373116296804,
          0.20964751432392437,
          0.20582033438053396,
          0.20004990548907017,
          0.1929820848968309,
          0.18515471031603004
         ],
         "fill": "none",
         "hovertemplate": "<b>PCs</b><br>difficulty %{x:.2f}<br>damage mean %{y:.1%}<br>damage sigma %{customdata:.1%}<extra></extra>",
         "legendgroup": "PCs",
         "line": {
          "color": "#1f77b4"
         },
         "name": "PCs",
         "showlegend": true,
         "type": "scatter",
         "x": [
          0,
          0.05,
          0.1,
          0.15000000000000002,
          0.2,
          0.25,
          0.30000000000000004,
          0.35000000000000003,
          0.4,
          0.45,
          0.5,
          0.55,
          0.6000000000000001,
          0.65,
          0.7000000000000001,
          0.75,
          0.8,
          0.8500000000000001,
          0.9,
          0.9500000000000001,
          1
         ],
         "y": [
          0,
          0.05046114683854839,
          0.10092178405013108,
          0.15138267617211826,
          0.20184356786673116,
          0.2523044608958482,
          0.30276535185238734,
          0.3532261757401113,
          0.4036846327796709,
          0.4541133188358659,
          0.5043726110469353,
          0.5540956849917534,
          0.6026556714193378,
          0.6492252901351969,
          0.6929164412925632,
          0.7329696154587506,
          0.7689024501261729,
          0.8005545734413276,
          0.8280413271852316,
          0.8516659109902808,
          0.8718316476071887
         ]
        },
        {
         "fill": "none",
         "hoverinfo": "none",
         "legendgroup": "NPCs",
         "line": {
          "color": "#ff7f0e",
          "width": 0
         },
         "name": "fill",
         "showlegend": false,
         "type": "scatter",
         "x": [
          0,
          0.05,
          0.1,
          0.15000000000000002,
          0.2,
          0.25,
          0.30000000000000004,
          0.35000000000000003,
          0.4,
          0.45,
          0.5,
          0.55,
          0.6000000000000001,
          0.65,
          0.7000000000000001,
          0.75,
          0.8,
          0.8500000000000001,
          0.9,
          0.9500000000000001,
          1
         ],
         "y": [
          1,
          1,
          1,
          0.9999999999999979,
          0.9999999997053295,
          0.9999998296555477,
          0.9999910079235097,
          0.9998780919319602,
          0.9992265547242536,
          0.9971072011498779,
          0.9923603609483135,
          0.9834959968628302,
          0.9691412547513278,
          0.9489435093439772,
          0.9236074068553232,
          0.8942713140393523,
          0.8619671809225362,
          0.8274881534724445,
          0.7915271842788574,
          0.7548175162102941,
          0.7181488310603725
         ]
        },
        {
         "fill": "tonexty",
         "hoverinfo": "none",
         "legendgroup": "NPCs",
         "line": {
          "color": "#ff7f0e",
          "width": 0
         },
         "name": "fill",
         "showlegend": false,
         "type": "scatter",
         "x": [
          0,
          0.05,
          0.1,
          0.15000000000000002,
          0.2,
          0.25,
          0.30000000000000004,
          0.35000000000000003,
          0.4,
          0.45,
          0.5,
          0.55,
          0.6000000000000001,
          0.65,
          0.7000000000000001,
          0.75,
          0.8,
          0.8500000000000001,
          0.9,
          0.9500000000000001,
          1
         ],
         "y": [
          1,
          1.0000000000000009,
          1.0000000000000009,
          1.000000000000003,
          1.000000000294671,
          1.0000001703437336,
          1.00000899034636,
          1.0001216308982421,
          1.000763944010554,
          1.0027757124484729,
          1.0069461451699513,
          1.0138744729942686,
          1.023373393313433,
          1.0339311789427168,
          1.0435304420507643,
          1.0507492011692592,
          1.0550660631301876,
          1.056518097274153,
          1.0552785244330702,
          1.0514615178644815,
          1.0451361685964673
         ]
        },
        {
         "customdata": [
          0,
          4.263256414560602e-16,
          4.263256414560602e-16,
          2.5949532846701176e-15,
          2.9467076514999367e-10,
          1.7034409296717318e-7,
          0.000008991211425125644,
          0.00012176948314101139,
          0.0007686946431501857,
          0.0028342556492974126,
          0.007292892110818909,
          0.015189238065719177,
          0.027116069281052563,
          0.04249383479936985,
          0.059961517597720525,
          0.07823894356495337,
          0.09654944110382566,
          0.1145149719008543,
          0.1318756700771065,
          0.1483220008270937,
          0.16349366876804744
         ],
         "fill": "none",
         "hovertemplate": "<b>NPCs</b><br>difficulty %{x:.2f}<br>damage mean %{y:.1%}<br>damage sigma %{customdata:.1%}<extra></extra>",
         "legendgroup": "NPCs",
         "line": {
          "color": "#ff7f0e"
         },
         "name": "NPCs",
         "type": "scatter",
         "x": [
          0,
          0.05,
          0.1,
          0.15000000000000002,
          0.2,
          0.25,
          0.30000000000000004,
          0.35000000000000003,
          0.4,
          0.45,
          0.5,
          0.55,
          0.6000000000000001,
          0.65,
          0.7000000000000001,
          0.75,
          0.8,
          0.8500000000000001,
          0.9,
          0.9500000000000001,
          1
         ],
         "y": [
          1,
          1.0000000000000004,
          1.0000000000000004,
          1.0000000000000004,
          1.0000000000000002,
          0.9999999999996406,
          0.9999999991349349,
          0.9999998614151012,
          0.9999952493674038,
          0.9999414567991753,
          0.9996532530591324,
          0.9986852349285493,
          0.9962573240323804,
          0.991437344143347,
          0.9835689244530437,
          0.9725102576043058,
          0.9585166220263619,
          0.9420031253732988,
          0.9234028543559638,
          0.9031395170373878,
          0.8816424998284199
         ]
        },
        {
         "hoverinfo": "skip",
         "line": {
          "color": "black",
          "dash": "dash"
         },
         "mode": "lines",
         "name": "1-to-1",
         "showlegend": false,
         "type": "scatter",
         "x": [
          0,
          1
         ],
         "y": [
          0,
          1
         ]
        }
       ],
       "layout": {
        "annotations": [
         {
          "showarrow": false,
          "text": "Trivial",
          "x": 0.075,
          "y": 0.5
         },
         {
          "showarrow": false,
          "text": "Easy",
          "x": 0.22499999999999998,
          "y": 0.5
         },
         {
          "showarrow": false,
          "text": "Medium",
          "x": 0.375,
          "y": 0.5
         },
         {
          "showarrow": false,
          "text": "Hard",
          "x": 0.575,
          "y": 0.5
         },
         {
          "showarrow": false,
          "text": "Deadly",
          "x": 0.85,
          "y": 0.5
         }
        ],
        "height": 450,
        "legend": {
         "bgcolor": "rgba(0,0,0,0)",
         "orientation": "v",
         "tracegroupgap": 0,
         "x": 0.02,
         "xanchor": "left",
         "y": 0.98,
         "yanchor": "top"
        },
        "template": {
         "layout": {
          "autosize": false,
          "font": {
           "family": "sans-serif",
           "size": 14
          },
          "hoverlabel": {
           "align": "left"
          },
          "hovermode": "closest",
          "margin": {
           "b": 55,
           "l": 60,
           "pad": 4,
           "r": 25,
           "t": 20
          },
          "template": {
           "data": {
            "bar": [
             {
              "error_x": {
               "color": "#2a3f5f"
              },
              "error_y": {
               "color": "#2a3f5f"
              },
              "marker": {
               "line": {
                "color": "white",
                "width": 0.5
               },
               "pattern": {
                "fillmode": "overlay",
                "size": 10,
                "solidity": 0.2
               }
              },
              "type": "bar"
             }
            ],
            "barpolar": [
             {
              "marker": {
               "line": {
                "color": "white",
                "width": 0.5
               },
               "pattern": {
                "fillmode": "overlay",
                "size": 10,
                "solidity": 0.2
               }
              },
              "type": "barpolar"
             }
            ],
            "carpet": [
             {
              "aaxis": {
               "endlinecolor": "#2a3f5f",
               "gridcolor": "#C8D4E3",
               "linecolor": "#C8D4E3",
               "minorgridcolor": "#C8D4E3",
               "startlinecolor": "#2a3f5f"
              },
              "baxis": {
               "endlinecolor": "#2a3f5f",
               "gridcolor": "#C8D4E3",
               "linecolor": "#C8D4E3",
               "minorgridcolor": "#C8D4E3",
               "startlinecolor": "#2a3f5f"
              },
              "type": "carpet"
             }
            ],
            "choropleth": [
             {
              "colorbar": {
               "outlinewidth": 0,
               "ticks": ""
              },
              "type": "choropleth"
             }
            ],
            "contour": [
             {
              "colorbar": {
               "outlinewidth": 0,
               "ticks": ""
              },
              "colorscale": [
               [
                0,
                "#0d0887"
               ],
               [
                0.1111111111111111,
                "#46039f"
               ],
               [
                0.2222222222222222,
                "#7201a8"
               ],
               [
                0.3333333333333333,
                "#9c179e"
               ],
               [
                0.4444444444444444,
                "#bd3786"
               ],
               [
                0.5555555555555556,
                "#d8576b"
               ],
               [
                0.6666666666666666,
                "#ed7953"
               ],
               [
                0.7777777777777778,
                "#fb9f3a"
               ],
               [
                0.8888888888888888,
                "#fdca26"
               ],
               [
                1,
                "#f0f921"
               ]
              ],
              "type": "contour"
             }
            ],
            "contourcarpet": [
             {
              "colorbar": {
               "outlinewidth": 0,
               "ticks": ""
              },
              "type": "contourcarpet"
             }
            ],
            "heatmap": [
             {
              "colorbar": {
               "outlinewidth": 0,
               "ticks": ""
              },
              "colorscale": [
               [
                0,
                "#0d0887"
               ],
               [
                0.1111111111111111,
                "#46039f"
               ],
               [
                0.2222222222222222,
                "#7201a8"
               ],
               [
                0.3333333333333333,
                "#9c179e"
               ],
               [
                0.4444444444444444,
                "#bd3786"
               ],
               [
                0.5555555555555556,
                "#d8576b"
               ],
               [
                0.6666666666666666,
                "#ed7953"
               ],
               [
                0.7777777777777778,
                "#fb9f3a"
               ],
               [
                0.8888888888888888,
                "#fdca26"
               ],
               [
                1,
                "#f0f921"
               ]
              ],
              "type": "heatmap"
             }
            ],
            "heatmapgl": [
             {
              "colorbar": {
               "outlinewidth": 0,
               "ticks": ""
              },
              "colorscale": [
               [
                0,
                "#0d0887"
               ],
               [
                0.1111111111111111,
                "#46039f"
               ],
               [
                0.2222222222222222,
                "#7201a8"
               ],
               [
                0.3333333333333333,
                "#9c179e"
               ],
               [
                0.4444444444444444,
                "#bd3786"
               ],
               [
                0.5555555555555556,
                "#d8576b"
               ],
               [
                0.6666666666666666,
                "#ed7953"
               ],
               [
                0.7777777777777778,
                "#fb9f3a"
               ],
               [
                0.8888888888888888,
                "#fdca26"
               ],
               [
                1,
                "#f0f921"
               ]
              ],
              "type": "heatmapgl"
             }
            ],
            "histogram": [
             {
              "marker": {
               "pattern": {
                "fillmode": "overlay",
                "size": 10,
                "solidity": 0.2
               }
              },
              "type": "histogram"
             }
            ],
            "histogram2d": [
             {
              "colorbar": {
               "outlinewidth": 0,
               "ticks": ""
              },
              "colorscale": [
               [
                0,
                "#0d0887"
               ],
               [
                0.1111111111111111,
                "#46039f"
               ],
               [
                0.2222222222222222,
                "#7201a8"
               ],
               [
                0.3333333333333333,
                "#9c179e"
               ],
               [
                0.4444444444444444,
                "#bd3786"
               ],
               [
                0.5555555555555556,
                "#d8576b"
               ],
               [
                0.6666666666666666,
                "#ed7953"
               ],
               [
                0.7777777777777778,
                "#fb9f3a"
               ],
               [
                0.8888888888888888,
                "#fdca26"
               ],
               [
                1,
                "#f0f921"
               ]
              ],
              "type": "histogram2d"
             }
            ],
            "histogram2dcontour": [
             {
              "colorbar": {
               "outlinewidth": 0,
               "ticks": ""
              },
              "colorscale": [
               [
                0,
                "#0d0887"
               ],
               [
                0.1111111111111111,
                "#46039f"
               ],
               [
                0.2222222222222222,
                "#7201a8"
               ],
               [
                0.3333333333333333,
                "#9c179e"
               ],
               [
                0.4444444444444444,
                "#bd3786"
               ],
               [
                0.5555555555555556,
                "#d8576b"
               ],
               [
                0.6666666666666666,
                "#ed7953"
               ],
               [
                0.7777777777777778,
                "#fb9f3a"
               ],
               [
                0.8888888888888888,
                "#fdca26"
               ],
               [
                1,
                "#f0f921"
               ]
              ],
              "type": "histogram2dcontour"
             }
            ],
            "mesh3d": [
             {
              "colorbar": {
               "outlinewidth": 0,
               "ticks": ""
              },
              "type": "mesh3d"
             }
            ],
            "parcoords": [
             {
              "line": {
               "colorbar": {
                "outlinewidth": 0,
                "ticks": ""
               }
              },
              "type": "parcoords"
             }
            ],
            "pie": [
             {
              "automargin": true,
              "type": "pie"
             }
            ],
            "scatter": [
             {
              "fillpattern": {
               "fillmode": "overlay",
               "size": 10,
               "solidity": 0.2
              },
              "type": "scatter"
             }
            ],
            "scatter3d": [
             {
              "line": {
               "colorbar": {
                "outlinewidth": 0,
                "ticks": ""
               }
              },
              "marker": {
               "colorbar": {
                "outlinewidth": 0,
                "ticks": ""
               }
              },
              "type": "scatter3d"
             }
            ],
            "scattercarpet": [
             {
              "marker": {
               "colorbar": {
                "outlinewidth": 0,
                "ticks": ""
               }
              },
              "type": "scattercarpet"
             }
            ],
            "scattergeo": [
             {
              "marker": {
               "colorbar": {
                "outlinewidth": 0,
                "ticks": ""
               }
              },
              "type": "scattergeo"
             }
            ],
            "scattergl": [
             {
              "marker": {
               "colorbar": {
                "outlinewidth": 0,
                "ticks": ""
               }
              },
              "type": "scattergl"
             }
            ],
            "scattermapbox": [
             {
              "marker": {
               "colorbar": {
                "outlinewidth": 0,
                "ticks": ""
               }
              },
              "type": "scattermapbox"
             }
            ],
            "scatterpolar": [
             {
              "marker": {
               "colorbar": {
                "outlinewidth": 0,
                "ticks": ""
               }
              },
              "type": "scatterpolar"
             }
            ],
            "scatterpolargl": [
             {
              "marker": {
               "colorbar": {
                "outlinewidth": 0,
                "ticks": ""
               }
              },
              "type": "scatterpolargl"
             }
            ],
            "scatterternary": [
             {
              "marker": {
               "colorbar": {
                "outlinewidth": 0,
                "ticks": ""
               }
              },
              "type": "scatterternary"
             }
            ],
            "surface": [
             {
              "colorbar": {
               "outlinewidth": 0,
               "ticks": ""
              },
              "colorscale": [
               [
                0,
                "#0d0887"
               ],
               [
                0.1111111111111111,
                "#46039f"
               ],
               [
                0.2222222222222222,
                "#7201a8"
               ],
               [
                0.3333333333333333,
                "#9c179e"
               ],
               [
                0.4444444444444444,
                "#bd3786"
               ],
               [
                0.5555555555555556,
                "#d8576b"
               ],
               [
                0.6666666666666666,
                "#ed7953"
               ],
               [
                0.7777777777777778,
                "#fb9f3a"
               ],
               [
                0.8888888888888888,
                "#fdca26"
               ],
               [
                1,
                "#f0f921"
               ]
              ],
              "type": "surface"
             }
            ],
            "table": [
             {
              "cells": {
               "fill": {
                "color": "#EBF0F8"
               },
               "line": {
                "color": "white"
               }
              },
              "header": {
               "fill": {
                "color": "#C8D4E3"
               },
               "line": {
                "color": "white"
               }
              },
              "type": "table"
             }
            ]
           },
           "layout": {
            "annotationdefaults": {
             "arrowcolor": "#2a3f5f",
             "arrowhead": 0,
             "arrowwidth": 1
            },
            "autotypenumbers": "strict",
            "coloraxis": {
             "colorbar": {
              "outlinewidth": 0,
              "ticks": ""
             }
            },
            "colorscale": {
             "diverging": [
              [
               0,
               "#8e0152"
              ],
              [
               0.1,
               "#c51b7d"
              ],
              [
               0.2,
               "#de77ae"
              ],
              [
               0.3,
               "#f1b6da"
              ],
              [
               0.4,
               "#fde0ef"
              ],
              [
               0.5,
               "#f7f7f7"
              ],
              [
               0.6,
               "#e6f5d0"
              ],
              [
               0.7,
               "#b8e186"
              ],
              [
               0.8,
               "#7fbc41"
              ],
              [
               0.9,
               "#4d9221"
              ],
              [
               1,
               "#276419"
              ]
             ],
             "sequential": [
              [
               0,
               "#0d0887"
              ],
              [
               0.1111111111111111,
               "#46039f"
              ],
              [
               0.2222222222222222,
               "#7201a8"
              ],
              [
               0.3333333333333333,
               "#9c179e"
              ],
              [
               0.4444444444444444,
               "#bd3786"
              ],
              [
               0.5555555555555556,
               "#d8576b"
              ],
              [
               0.6666666666666666,
               "#ed7953"
              ],
              [
               0.7777777777777778,
               "#fb9f3a"
              ],
              [
               0.8888888888888888,
               "#fdca26"
              ],
              [
               1,
               "#f0f921"
              ]
             ],
             "sequentialminus": [
              [
               0,
               "#0d0887"
              ],
              [
               0.1111111111111111,
               "#46039f"
              ],
              [
               0.2222222222222222,
               "#7201a8"
              ],
              [
               0.3333333333333333,
               "#9c179e"
              ],
              [
               0.4444444444444444,
               "#bd3786"
              ],
              [
               0.5555555555555556,
               "#d8576b"
              ],
              [
               0.6666666666666666,
               "#ed7953"
              ],
              [
               0.7777777777777778,
               "#fb9f3a"
              ],
              [
               0.8888888888888888,
               "#fdca26"
              ],
              [
               1,
               "#f0f921"
              ]
             ]
            },
            "colorway": [
             "#636efa",
             "#EF553B",
             "#00cc96",
             "#ab63fa",
             "#FFA15A",
             "#19d3f3",
             "#FF6692",
             "#B6E880",
             "#FF97FF",
             "#FECB52"
            ],
            "font": {
             "color": "#2a3f5f"
            },
            "geo": {
             "bgcolor": "white",
             "lakecolor": "white",
             "landcolor": "white",
             "showlakes": true,
             "showland": true,
             "subunitcolor": "#C8D4E3"
            },
            "hoverlabel": {
             "align": "left"
            },
            "hovermode": "closest",
            "mapbox": {
             "style": "light"
            },
            "paper_bgcolor": "white",
            "plot_bgcolor": "white",
            "polar": {
             "angularaxis": {
              "gridcolor": "#EBF0F8",
              "linecolor": "#EBF0F8",
              "ticks": ""
             },
             "bgcolor": "white",
             "radialaxis": {
              "gridcolor": "#EBF0F8",
              "linecolor": "#EBF0F8",
              "ticks": ""
             }
            },
            "scene": {
             "xaxis": {
              "backgroundcolor": "white",
              "gridcolor": "#DFE8F3",
              "gridwidth": 2,
              "linecolor": "#EBF0F8",
              "showbackground": true,
              "ticks": "",
              "zerolinecolor": "#EBF0F8"
             },
             "yaxis": {
              "backgroundcolor": "white",
              "gridcolor": "#DFE8F3",
              "gridwidth": 2,
              "linecolor": "#EBF0F8",
              "showbackground": true,
              "ticks": "",
              "zerolinecolor": "#EBF0F8"
             },
             "zaxis": {
              "backgroundcolor": "white",
              "gridcolor": "#DFE8F3",
              "gridwidth": 2,
              "linecolor": "#EBF0F8",
              "showbackground": true,
              "ticks": "",
              "zerolinecolor": "#EBF0F8"
             }
            },
            "shapedefaults": {
             "line": {
              "color": "#2a3f5f"
             }
            },
            "ternary": {
             "aaxis": {
              "gridcolor": "#DFE8F3",
              "linecolor": "#A2B1C6",
              "ticks": ""
             },
             "baxis": {
              "gridcolor": "#DFE8F3",
              "linecolor": "#A2B1C6",
              "ticks": ""
             },
             "bgcolor": "white",
             "caxis": {
              "gridcolor": "#DFE8F3",
              "linecolor": "#A2B1C6",
              "ticks": ""
             }
            },
            "title": {
             "x": 0.05
            },
            "xaxis": {
             "automargin": true,
             "gridcolor": "#EBF0F8",
             "linecolor": "#EBF0F8",
             "ticks": "",
             "title": {
              "standoff": 15
             },
             "zerolinecolor": "#EBF0F8",
             "zerolinewidth": 2
            },
            "yaxis": {
             "automargin": true,
             "gridcolor": "#EBF0F8",
             "linecolor": "#EBF0F8",
             "ticks": "",
             "title": {
              "standoff": 15
             },
             "zerolinecolor": "#EBF0F8",
             "zerolinewidth": 2
            }
           }
          },
          "xaxis": {
           "automargin": false,
           "linecolor": "#444",
           "linewidth": 2,
           "minor": {
            "tickmode": "linear",
            "ticks": "outside"
           },
           "mirror": true,
           "showline": true,
           "tickmode": "linear",
           "ticks": "outside",
           "zeroline": false
          },
          "yaxis": {
           "automargin": true,
           "linecolor": "#444",
           "linewidth": 2,
           "minor": {
            "tickmode": "linear",
            "ticks": "outside"
           },
           "mirror": true,
           "showline": true,
           "ticks": "outside",
           "zeroline": false
          }
         }
        },
        "width": 600,
        "xaxis": {
         "dtick": 0.2,
         "minor": {
          "dtick": 0.1,
          "tick0": 0
         },
         "range": [
          0,
          1
         ],
         "tick0": 0,
         "title": {
          "text": "encounter difficulty"
         }
        },
        "yaxis": {
         "dtick": 0.2,
         "minor": {
          "dtick": 0.1,
          "tick0": 0
         },
         "range": [
          -0.01,
          1.01
         ],
         "tick0": 0,
         "title": {
          "text": "damage taken / hit points"
         }
        }
       }
      }
     },
     "metadata": {},
     "output_type": "display_data"
    }
   ],
   "source": [
    "# Fig 6: plots the average damage taken by the PCs and monsters for a range of difficulties\n",
    "INCLUDE_RANGES = True\n",
    "\n",
    "pc_win_pct = [1]\n",
    "pc_hp_loss = [0]\n",
    "pc_hp_loss_sigma = [0]\n",
    "pc_hp_loss_ql = [0]\n",
    "pc_hp_loss_qu = [0]\n",
    "mon_win_pct = [0]\n",
    "mon_hp_loss = [1]\n",
    "mon_hp_loss_sigma = [0]\n",
    "mon_hp_loss_ql = [1]\n",
    "mon_hp_loss_qu = [1]\n",
    "\n",
    "difficulties = list(np.linspace(0.0, 1.0, 21))\n",
    "for diff in difficulties[1:]:\n",
    "    #print(diff)\n",
    "    party_hp = 100\n",
    "    pc_r_win = 3\n",
    "    pc_dpr_cv = 0.5\n",
    "\n",
    "    mon_hp = 100\n",
    "    mon_r_win = pc_r_win/diff\n",
    "    mon_dpr_cv = 0.5\n",
    "\n",
    "\n",
    "    party_dpr = mon_hp/pc_r_win\n",
    "    party_size = 4\n",
    "    pc_hp = party_hp/party_size\n",
    "    pc_dpr = party_dpr/party_size\n",
    "\n",
    "    mon_dpr = party_hp/mon_r_win\n",
    "\n",
    "    \n",
    "    combatants = [\n",
    "        cp.Combatant(\n",
    "            group='NPCs',\n",
    "            name='monster',\n",
    "            opponent='PCs',\n",
    "            level=5,\n",
    "            hit_points = mon_hp,\n",
    "            damage = [cp.gaussian_dice_distribution(mon_dpr, mon_dpr_cv*mon_dpr)],\n",
    "        ),\n",
    "        cp.Combatant(\n",
    "            group='PCs',\n",
    "            name='PC 1',\n",
    "            opponent='NPCs',\n",
    "            level=5,\n",
    "            hit_points = pc_hp,\n",
    "            damage = [cp.gaussian_dice_distribution(pc_dpr, pc_dpr_cv*pc_dpr)],\n",
    "        ),\n",
    "        cp.Combatant(\n",
    "            group='PCs',\n",
    "            name='PC 2',\n",
    "            opponent='NPCs',\n",
    "            level=5,\n",
    "            hit_points = pc_hp,\n",
    "            damage = [cp.gaussian_dice_distribution(pc_dpr, pc_dpr_cv*pc_dpr)],\n",
    "        ),\n",
    "        cp.Combatant(\n",
    "            group='PCs',\n",
    "            name='PC 3',\n",
    "            opponent='NPCs',\n",
    "            level=5,\n",
    "            hit_points = pc_hp,\n",
    "            damage = [cp.gaussian_dice_distribution(pc_dpr, pc_dpr_cv*pc_dpr)],\n",
    "        ),\n",
    "        cp.Combatant(\n",
    "            group='PCs',\n",
    "            name='PC 4',\n",
    "            opponent='NPCs',\n",
    "            level=5,\n",
    "            hit_points = pc_hp,\n",
    "            damage = [cp.gaussian_dice_distribution(pc_dpr, pc_dpr_cv*pc_dpr)],\n",
    "        ),\n",
    "    ]\n",
    "    e = cp.Encounter(combatants, initiative=['PC 1','PC 2','monster','PC 3','PC 4'], rounds=10)\n",
    "\n",
    "    \"\"\"damage = e.group_damage_distribution('NPCs', method='approx', clip=True)\n",
    "    pc_hp_loss += [damage.mean()/(party_size*pc_hp)]\n",
    "    pc_hp_loss_sigma += [damage.sd()/(party_size*pc_hp)]\n",
    "    pc_hp_loss_ql += [damage.quantile(16)/(party_size*pc_hp)]\n",
    "    pc_hp_loss_qu += [damage.quantile(84)/(party_size*pc_hp)]\n",
    "\n",
    "    damage = e.group_damage_distribution('PCs', method='approx', clip=True)\n",
    "    mon_hp_loss += [damage.mean()/(mon_hp)]\n",
    "    mon_hp_loss_sigma += [damage.sd()/(mon_hp)]\n",
    "    mon_hp_loss_ql += [damage.quantile(16)/(mon_hp)]\n",
    "    mon_hp_loss_qu += [damage.quantile(84)/(mon_hp)]\n",
    "    \n",
    "    print(diff)\"\"\"\n",
    "\n",
    "    pc_hp_loss += [e.group_damage_mean('NPCs', method='approx', clip=True)/(party_size*pc_hp)]\n",
    "    pc_hp_loss_sigma += [e.group_damage_sigma('NPCs', method='approx', clip=True)/(party_size*pc_hp)]\n",
    "    pc_hp_loss_ql += [pc_hp_loss[-1] - pc_hp_loss_sigma[-1]]\n",
    "    pc_hp_loss_qu += [pc_hp_loss[-1] + pc_hp_loss_sigma[-1]]\n",
    "\n",
    "    mon_hp_loss += [e.group_damage_mean('PCs', method='approx', clip=True)/(mon_hp)]\n",
    "    mon_hp_loss_sigma += [e.group_damage_sigma('PCs', method='approx', clip=True)/(mon_hp)]\n",
    "    mon_hp_loss_ql += [mon_hp_loss[-1] - mon_hp_loss_sigma[-1]]\n",
    "    mon_hp_loss_qu += [mon_hp_loss[-1] + mon_hp_loss_sigma[-1]]\n",
    "\n",
    "\n",
    "# create figure\n",
    "fig = go.Figure(\n",
    "    layout=go.Layout(\n",
    "        template=tfb.FIG_TEMPLATE,\n",
    "        xaxis=dict(\n",
    "            title_text='encounter difficulty',\n",
    "            range=[0.0, 1.0],\n",
    "            tick0=0, dtick=0.2,\n",
    "            minor=dict(tick0=0, dtick=0.1),\n",
    "        ),\n",
    "        yaxis=dict(\n",
    "            title_text='damage taken / hit points',\n",
    "            range=[-0.01,1.01],\n",
    "            #tickformat='.0%'\n",
    "            tick0=0, dtick=0.2,\n",
    "            minor=dict(tick0=0, dtick=0.1),\n",
    "        ),\n",
    "        legend=dict(\n",
    "            xanchor='left', yanchor='top',\n",
    "            x=0.02, y=0.98,\n",
    "            orientation='v',\n",
    "            tracegroupgap=0,\n",
    "            bgcolor='rgba(0,0,0,0)',\n",
    "        )\n",
    "    )\n",
    ")\n",
    "\n",
    "# plot difficulty ranges\n",
    "thresholds = [\n",
    "    ('Trivial', 0.00, 0.15, 'rgba(167, 167, 167, 0.15)'),\n",
    "    ('Easy',    0.15, 0.15, 'rgba(  0, 199, 151, 0.15)'),\n",
    "    ('Medium',  0.30, 0.15, 'rgba(245, 166,  35, 0.15)'),\n",
    "    ('Hard',    0.45, 0.25, 'rgba(228,  90,  29, 0.15)'),\n",
    "    ('Deadly',  0.70, 0.30, 'rgba(144,  79, 213, 0.15)'), #rgba(213,  79,  79, 0.2)'\n",
    "]\n",
    "for name, diff, dx, color in thresholds:\n",
    "    fig.add_trace(go.Scatter(\n",
    "        x=[diff, diff+dx], \n",
    "        y=[1.0, 1.0],\n",
    "        mode='none',\n",
    "        fill='tozeroy', \n",
    "        showlegend=False,\n",
    "        fillcolor=color,\n",
    "        hoverinfo='none'\n",
    "    ))\n",
    "    fig.add_annotation(\n",
    "        x=diff + dx/2, \n",
    "        y=0.5,\n",
    "        text=name,\n",
    "        showarrow=False,\n",
    "    )\n",
    "\n",
    "# plot PC data\n",
    "if INCLUDE_RANGES:\n",
    "    y_min = [pc_hp_loss_ql[i] for i in range(len(difficulties))]\n",
    "    y_max = [pc_hp_loss_qu[i] for i in range(len(difficulties))]\n",
    "    fig.add_trace(go.Scatter(\n",
    "        x=difficulties,\n",
    "        y=y_min,\n",
    "        name='fill',\n",
    "        legendgroup='PCs',\n",
    "        showlegend=False,\n",
    "        line_color=COLOR_LIST[0],\n",
    "        line_width=0,\n",
    "        fill='none',\n",
    "        hoverinfo='none',\n",
    "    ))\n",
    "    fig.add_trace(go.Scatter(\n",
    "        x=difficulties,\n",
    "        y=y_max,\n",
    "        name='fill',\n",
    "        legendgroup='PCs',\n",
    "        showlegend=False,\n",
    "        line_color=COLOR_LIST[0],\n",
    "        line_width=0,\n",
    "        fill='tonexty',\n",
    "        hoverinfo='none',\n",
    "    ))\n",
    "fig.add_trace(go.Scatter(\n",
    "    x=difficulties,\n",
    "    y=pc_hp_loss,\n",
    "    name=f'PCs',\n",
    "    legendgroup='PCs',\n",
    "    showlegend=True,\n",
    "    line_color=COLOR_LIST[0],\n",
    "    fill='none',\n",
    "    customdata=pc_hp_loss_sigma,\n",
    "    hovertemplate=\n",
    "        f'<b>PCs</b><br>'+\n",
    "        'difficulty %{x:.2f}<br>'+\n",
    "        'damage mean %{y:.1%}<br>'+\n",
    "        'damage sigma %{customdata:.1%}<extra></extra>',\n",
    "))\n",
    "\n",
    "\n",
    "# plot NPC data\n",
    "if INCLUDE_RANGES:\n",
    "    y_min = [mon_hp_loss_ql[i] for i in range(len(difficulties))]\n",
    "    y_max = [mon_hp_loss_qu[i] for i in range(len(difficulties))]\n",
    "    fig.add_trace(go.Scatter(\n",
    "        x=difficulties,\n",
    "        y=y_min,\n",
    "        name='fill',\n",
    "        legendgroup='NPCs',\n",
    "        showlegend=False,\n",
    "        line_color=COLOR_LIST[1],\n",
    "        line_width=0,\n",
    "        fill='none',\n",
    "        hoverinfo='none',\n",
    "    ))\n",
    "    fig.add_trace(go.Scatter(\n",
    "        x=difficulties,\n",
    "        y=y_max,\n",
    "        name='fill',\n",
    "        legendgroup='NPCs',\n",
    "        showlegend=False,\n",
    "        line_color=COLOR_LIST[1],\n",
    "        line_width=0,\n",
    "        fill='tonexty',\n",
    "        hoverinfo='none',\n",
    "    ))\n",
    "fig.add_trace(go.Scatter(\n",
    "    x=difficulties,\n",
    "    y=mon_hp_loss,\n",
    "    name=f'NPCs',\n",
    "    legendgroup='NPCs',\n",
    "    line_color=COLOR_LIST[1],\n",
    "    fill='none',\n",
    "    customdata=mon_hp_loss_sigma,\n",
    "    hovertemplate=\n",
    "        f'<b>NPCs</b><br>'+\n",
    "        'difficulty %{x:.2f}<br>'+\n",
    "        'damage mean %{y:.1%}<br>'+\n",
    "        'damage sigma %{customdata:.1%}<extra></extra>',\n",
    "))\n",
    "\n",
    "\n",
    "fig.add_trace(go.Scatter(\n",
    "    x=[0,1],\n",
    "    y=[0,1],\n",
    "    name=f'1-to-1',\n",
    "    showlegend=False,\n",
    "    mode='lines',\n",
    "    line_color='black',\n",
    "    line_dash='dash',\n",
    "    hoverinfo='skip',\n",
    "))\n",
    "\n",
    "# show figure\n",
    "fig.update_layout(width=600, height=450)\n",
    "fig.show(config=tfb.FIG_CONFIG)\n",
    "\n",
    "# save figures\n",
    "if SAVEFIGS:\n",
    "    fig.update_layout(autosize=True, width=None, height=None)\n",
    "    tfb.save_fig_html(fig, format='large', name=f'./fig-damage-vs-diff-large', selector={'name': 'none'})\n",
    "    tfb.save_fig_html(fig, format='small', name=f'./fig-damage-vs-diff-small', selector={'name': 'none'})"
   ]
  },
  {
   "cell_type": "code",
   "execution_count": null,
   "metadata": {},
   "outputs": [
    {
     "data": {
      "application/vnd.plotly.v1+json": {
       "config": {
        "autosizable": true,
        "displayModeBar": "hover",
        "displaylogo": false,
        "doubleClick": "reset",
        "modeBarButtonsToRemove": [
         "select2d",
         "lasso2d",
         "zoom2d",
         "zoomIn2d",
         "zoomOut2d",
         "pan2d",
         "autoScale2d",
         "hoverClosestCartesian",
         "hoverCompareCartesian",
         "toggleSpikelines",
         "resetScale2d"
        ],
        "plotlyServerURL": "https://plot.ly",
        "responsive": true,
        "showAxisDragHandles": false,
        "toImageButtonOptions": {
         "filename": "tfb-plot",
         "format": "png",
         "height": 450,
         "scale": 2,
         "width": 600
        }
       },
       "data": [
        {
         "hovertemplate": "target difficulty %{x}<br>final difficult Trivial<br>probability %{y:.1%}<extra></extra>",
         "name": "Trivial",
         "showlegend": true,
         "type": "bar",
         "x": [
          "Easy",
          "Medium",
          "Hard",
          "Deadly"
         ],
         "y": [
          0.13516183352606176,
          0.025464498843729144,
          0.007596557520591945,
          0.003076914061526561
         ]
        },
        {
         "hovertemplate": "target difficulty %{x}<br>final difficult Easy<br>probability %{y:.1%}<extra></extra>",
         "name": "Easy",
         "showlegend": true,
         "type": "bar",
         "x": [
          "Easy",
          "Medium",
          "Hard",
          "Deadly"
         ],
         "y": [
          0.6862945925584586,
          0.23071729073079514,
          0.05573721517984302,
          0.015260980144493789
         ]
        },
        {
         "hovertemplate": "target difficulty %{x}<br>final difficult Medium<br>probability %{y:.1%}<extra></extra>",
         "name": "Medium",
         "showlegend": true,
         "type": "bar",
         "x": [
          "Easy",
          "Medium",
          "Hard",
          "Deadly"
         ],
         "y": [
          0.17397456176804402,
          0.455346876956689,
          0.18026991846721932,
          0.04939475520107687
         ]
        },
        {
         "hovertemplate": "target difficulty %{x}<br>final difficult Hard<br>probability %{y:.1%}<extra></extra>",
         "name": "Hard",
         "showlegend": true,
         "type": "bar",
         "x": [
          "Easy",
          "Medium",
          "Hard",
          "Deadly"
         ],
         "y": [
          0.004229431987833036,
          0.2783467559765994,
          0.4896222947260718,
          0.22027225075937099
         ]
        },
        {
         "hovertemplate": "target difficulty %{x}<br>final difficult Deadly<br>probability %{y:.1%}<extra></extra>",
         "name": "Deadly",
         "showlegend": true,
         "type": "bar",
         "x": [
          "Easy",
          "Medium",
          "Hard",
          "Deadly"
         ],
         "y": [
          1.4000006580003094e-7,
          0.009725107196579324,
          0.24558538312952932,
          0.4069894972261363
         ]
        },
        {
         "hovertemplate": "target difficulty %{x}<br>final difficult TPK<br>probability %{y:.1%}<extra></extra>",
         "name": "TPK",
         "showlegend": true,
         "type": "bar",
         "x": [
          "Easy",
          "Medium",
          "Hard",
          "Deadly"
         ],
         "y": [
          0,
          0.000013940010315607633,
          0.020777570569794863,
          0.3045786520438207
         ]
        }
       ],
       "layout": {
        "barmode": "group",
        "height": 450,
        "legend": {
         "bgcolor": "rgba(0,0,0,0)",
         "orientation": "h",
         "tracegroupgap": 0,
         "x": 0.99,
         "xanchor": "right",
         "y": 0.99,
         "yanchor": "top"
        },
        "template": {
         "layout": {
          "autosize": false,
          "font": {
           "family": "sans-serif",
           "size": 14
          },
          "hoverlabel": {
           "align": "left"
          },
          "hovermode": "closest",
          "margin": {
           "b": 55,
           "l": 60,
           "pad": 4,
           "r": 25,
           "t": 20
          },
          "template": {
           "data": {
            "bar": [
             {
              "error_x": {
               "color": "#2a3f5f"
              },
              "error_y": {
               "color": "#2a3f5f"
              },
              "marker": {
               "line": {
                "color": "white",
                "width": 0.5
               },
               "pattern": {
                "fillmode": "overlay",
                "size": 10,
                "solidity": 0.2
               }
              },
              "type": "bar"
             }
            ],
            "barpolar": [
             {
              "marker": {
               "line": {
                "color": "white",
                "width": 0.5
               },
               "pattern": {
                "fillmode": "overlay",
                "size": 10,
                "solidity": 0.2
               }
              },
              "type": "barpolar"
             }
            ],
            "carpet": [
             {
              "aaxis": {
               "endlinecolor": "#2a3f5f",
               "gridcolor": "#C8D4E3",
               "linecolor": "#C8D4E3",
               "minorgridcolor": "#C8D4E3",
               "startlinecolor": "#2a3f5f"
              },
              "baxis": {
               "endlinecolor": "#2a3f5f",
               "gridcolor": "#C8D4E3",
               "linecolor": "#C8D4E3",
               "minorgridcolor": "#C8D4E3",
               "startlinecolor": "#2a3f5f"
              },
              "type": "carpet"
             }
            ],
            "choropleth": [
             {
              "colorbar": {
               "outlinewidth": 0,
               "ticks": ""
              },
              "type": "choropleth"
             }
            ],
            "contour": [
             {
              "colorbar": {
               "outlinewidth": 0,
               "ticks": ""
              },
              "colorscale": [
               [
                0,
                "#0d0887"
               ],
               [
                0.1111111111111111,
                "#46039f"
               ],
               [
                0.2222222222222222,
                "#7201a8"
               ],
               [
                0.3333333333333333,
                "#9c179e"
               ],
               [
                0.4444444444444444,
                "#bd3786"
               ],
               [
                0.5555555555555556,
                "#d8576b"
               ],
               [
                0.6666666666666666,
                "#ed7953"
               ],
               [
                0.7777777777777778,
                "#fb9f3a"
               ],
               [
                0.8888888888888888,
                "#fdca26"
               ],
               [
                1,
                "#f0f921"
               ]
              ],
              "type": "contour"
             }
            ],
            "contourcarpet": [
             {
              "colorbar": {
               "outlinewidth": 0,
               "ticks": ""
              },
              "type": "contourcarpet"
             }
            ],
            "heatmap": [
             {
              "colorbar": {
               "outlinewidth": 0,
               "ticks": ""
              },
              "colorscale": [
               [
                0,
                "#0d0887"
               ],
               [
                0.1111111111111111,
                "#46039f"
               ],
               [
                0.2222222222222222,
                "#7201a8"
               ],
               [
                0.3333333333333333,
                "#9c179e"
               ],
               [
                0.4444444444444444,
                "#bd3786"
               ],
               [
                0.5555555555555556,
                "#d8576b"
               ],
               [
                0.6666666666666666,
                "#ed7953"
               ],
               [
                0.7777777777777778,
                "#fb9f3a"
               ],
               [
                0.8888888888888888,
                "#fdca26"
               ],
               [
                1,
                "#f0f921"
               ]
              ],
              "type": "heatmap"
             }
            ],
            "heatmapgl": [
             {
              "colorbar": {
               "outlinewidth": 0,
               "ticks": ""
              },
              "colorscale": [
               [
                0,
                "#0d0887"
               ],
               [
                0.1111111111111111,
                "#46039f"
               ],
               [
                0.2222222222222222,
                "#7201a8"
               ],
               [
                0.3333333333333333,
                "#9c179e"
               ],
               [
                0.4444444444444444,
                "#bd3786"
               ],
               [
                0.5555555555555556,
                "#d8576b"
               ],
               [
                0.6666666666666666,
                "#ed7953"
               ],
               [
                0.7777777777777778,
                "#fb9f3a"
               ],
               [
                0.8888888888888888,
                "#fdca26"
               ],
               [
                1,
                "#f0f921"
               ]
              ],
              "type": "heatmapgl"
             }
            ],
            "histogram": [
             {
              "marker": {
               "pattern": {
                "fillmode": "overlay",
                "size": 10,
                "solidity": 0.2
               }
              },
              "type": "histogram"
             }
            ],
            "histogram2d": [
             {
              "colorbar": {
               "outlinewidth": 0,
               "ticks": ""
              },
              "colorscale": [
               [
                0,
                "#0d0887"
               ],
               [
                0.1111111111111111,
                "#46039f"
               ],
               [
                0.2222222222222222,
                "#7201a8"
               ],
               [
                0.3333333333333333,
                "#9c179e"
               ],
               [
                0.4444444444444444,
                "#bd3786"
               ],
               [
                0.5555555555555556,
                "#d8576b"
               ],
               [
                0.6666666666666666,
                "#ed7953"
               ],
               [
                0.7777777777777778,
                "#fb9f3a"
               ],
               [
                0.8888888888888888,
                "#fdca26"
               ],
               [
                1,
                "#f0f921"
               ]
              ],
              "type": "histogram2d"
             }
            ],
            "histogram2dcontour": [
             {
              "colorbar": {
               "outlinewidth": 0,
               "ticks": ""
              },
              "colorscale": [
               [
                0,
                "#0d0887"
               ],
               [
                0.1111111111111111,
                "#46039f"
               ],
               [
                0.2222222222222222,
                "#7201a8"
               ],
               [
                0.3333333333333333,
                "#9c179e"
               ],
               [
                0.4444444444444444,
                "#bd3786"
               ],
               [
                0.5555555555555556,
                "#d8576b"
               ],
               [
                0.6666666666666666,
                "#ed7953"
               ],
               [
                0.7777777777777778,
                "#fb9f3a"
               ],
               [
                0.8888888888888888,
                "#fdca26"
               ],
               [
                1,
                "#f0f921"
               ]
              ],
              "type": "histogram2dcontour"
             }
            ],
            "mesh3d": [
             {
              "colorbar": {
               "outlinewidth": 0,
               "ticks": ""
              },
              "type": "mesh3d"
             }
            ],
            "parcoords": [
             {
              "line": {
               "colorbar": {
                "outlinewidth": 0,
                "ticks": ""
               }
              },
              "type": "parcoords"
             }
            ],
            "pie": [
             {
              "automargin": true,
              "type": "pie"
             }
            ],
            "scatter": [
             {
              "fillpattern": {
               "fillmode": "overlay",
               "size": 10,
               "solidity": 0.2
              },
              "type": "scatter"
             }
            ],
            "scatter3d": [
             {
              "line": {
               "colorbar": {
                "outlinewidth": 0,
                "ticks": ""
               }
              },
              "marker": {
               "colorbar": {
                "outlinewidth": 0,
                "ticks": ""
               }
              },
              "type": "scatter3d"
             }
            ],
            "scattercarpet": [
             {
              "marker": {
               "colorbar": {
                "outlinewidth": 0,
                "ticks": ""
               }
              },
              "type": "scattercarpet"
             }
            ],
            "scattergeo": [
             {
              "marker": {
               "colorbar": {
                "outlinewidth": 0,
                "ticks": ""
               }
              },
              "type": "scattergeo"
             }
            ],
            "scattergl": [
             {
              "marker": {
               "colorbar": {
                "outlinewidth": 0,
                "ticks": ""
               }
              },
              "type": "scattergl"
             }
            ],
            "scattermapbox": [
             {
              "marker": {
               "colorbar": {
                "outlinewidth": 0,
                "ticks": ""
               }
              },
              "type": "scattermapbox"
             }
            ],
            "scatterpolar": [
             {
              "marker": {
               "colorbar": {
                "outlinewidth": 0,
                "ticks": ""
               }
              },
              "type": "scatterpolar"
             }
            ],
            "scatterpolargl": [
             {
              "marker": {
               "colorbar": {
                "outlinewidth": 0,
                "ticks": ""
               }
              },
              "type": "scatterpolargl"
             }
            ],
            "scatterternary": [
             {
              "marker": {
               "colorbar": {
                "outlinewidth": 0,
                "ticks": ""
               }
              },
              "type": "scatterternary"
             }
            ],
            "surface": [
             {
              "colorbar": {
               "outlinewidth": 0,
               "ticks": ""
              },
              "colorscale": [
               [
                0,
                "#0d0887"
               ],
               [
                0.1111111111111111,
                "#46039f"
               ],
               [
                0.2222222222222222,
                "#7201a8"
               ],
               [
                0.3333333333333333,
                "#9c179e"
               ],
               [
                0.4444444444444444,
                "#bd3786"
               ],
               [
                0.5555555555555556,
                "#d8576b"
               ],
               [
                0.6666666666666666,
                "#ed7953"
               ],
               [
                0.7777777777777778,
                "#fb9f3a"
               ],
               [
                0.8888888888888888,
                "#fdca26"
               ],
               [
                1,
                "#f0f921"
               ]
              ],
              "type": "surface"
             }
            ],
            "table": [
             {
              "cells": {
               "fill": {
                "color": "#EBF0F8"
               },
               "line": {
                "color": "white"
               }
              },
              "header": {
               "fill": {
                "color": "#C8D4E3"
               },
               "line": {
                "color": "white"
               }
              },
              "type": "table"
             }
            ]
           },
           "layout": {
            "annotationdefaults": {
             "arrowcolor": "#2a3f5f",
             "arrowhead": 0,
             "arrowwidth": 1
            },
            "autotypenumbers": "strict",
            "coloraxis": {
             "colorbar": {
              "outlinewidth": 0,
              "ticks": ""
             }
            },
            "colorscale": {
             "diverging": [
              [
               0,
               "#8e0152"
              ],
              [
               0.1,
               "#c51b7d"
              ],
              [
               0.2,
               "#de77ae"
              ],
              [
               0.3,
               "#f1b6da"
              ],
              [
               0.4,
               "#fde0ef"
              ],
              [
               0.5,
               "#f7f7f7"
              ],
              [
               0.6,
               "#e6f5d0"
              ],
              [
               0.7,
               "#b8e186"
              ],
              [
               0.8,
               "#7fbc41"
              ],
              [
               0.9,
               "#4d9221"
              ],
              [
               1,
               "#276419"
              ]
             ],
             "sequential": [
              [
               0,
               "#0d0887"
              ],
              [
               0.1111111111111111,
               "#46039f"
              ],
              [
               0.2222222222222222,
               "#7201a8"
              ],
              [
               0.3333333333333333,
               "#9c179e"
              ],
              [
               0.4444444444444444,
               "#bd3786"
              ],
              [
               0.5555555555555556,
               "#d8576b"
              ],
              [
               0.6666666666666666,
               "#ed7953"
              ],
              [
               0.7777777777777778,
               "#fb9f3a"
              ],
              [
               0.8888888888888888,
               "#fdca26"
              ],
              [
               1,
               "#f0f921"
              ]
             ],
             "sequentialminus": [
              [
               0,
               "#0d0887"
              ],
              [
               0.1111111111111111,
               "#46039f"
              ],
              [
               0.2222222222222222,
               "#7201a8"
              ],
              [
               0.3333333333333333,
               "#9c179e"
              ],
              [
               0.4444444444444444,
               "#bd3786"
              ],
              [
               0.5555555555555556,
               "#d8576b"
              ],
              [
               0.6666666666666666,
               "#ed7953"
              ],
              [
               0.7777777777777778,
               "#fb9f3a"
              ],
              [
               0.8888888888888888,
               "#fdca26"
              ],
              [
               1,
               "#f0f921"
              ]
             ]
            },
            "colorway": [
             "#636efa",
             "#EF553B",
             "#00cc96",
             "#ab63fa",
             "#FFA15A",
             "#19d3f3",
             "#FF6692",
             "#B6E880",
             "#FF97FF",
             "#FECB52"
            ],
            "font": {
             "color": "#2a3f5f"
            },
            "geo": {
             "bgcolor": "white",
             "lakecolor": "white",
             "landcolor": "white",
             "showlakes": true,
             "showland": true,
             "subunitcolor": "#C8D4E3"
            },
            "hoverlabel": {
             "align": "left"
            },
            "hovermode": "closest",
            "mapbox": {
             "style": "light"
            },
            "paper_bgcolor": "white",
            "plot_bgcolor": "white",
            "polar": {
             "angularaxis": {
              "gridcolor": "#EBF0F8",
              "linecolor": "#EBF0F8",
              "ticks": ""
             },
             "bgcolor": "white",
             "radialaxis": {
              "gridcolor": "#EBF0F8",
              "linecolor": "#EBF0F8",
              "ticks": ""
             }
            },
            "scene": {
             "xaxis": {
              "backgroundcolor": "white",
              "gridcolor": "#DFE8F3",
              "gridwidth": 2,
              "linecolor": "#EBF0F8",
              "showbackground": true,
              "ticks": "",
              "zerolinecolor": "#EBF0F8"
             },
             "yaxis": {
              "backgroundcolor": "white",
              "gridcolor": "#DFE8F3",
              "gridwidth": 2,
              "linecolor": "#EBF0F8",
              "showbackground": true,
              "ticks": "",
              "zerolinecolor": "#EBF0F8"
             },
             "zaxis": {
              "backgroundcolor": "white",
              "gridcolor": "#DFE8F3",
              "gridwidth": 2,
              "linecolor": "#EBF0F8",
              "showbackground": true,
              "ticks": "",
              "zerolinecolor": "#EBF0F8"
             }
            },
            "shapedefaults": {
             "line": {
              "color": "#2a3f5f"
             }
            },
            "ternary": {
             "aaxis": {
              "gridcolor": "#DFE8F3",
              "linecolor": "#A2B1C6",
              "ticks": ""
             },
             "baxis": {
              "gridcolor": "#DFE8F3",
              "linecolor": "#A2B1C6",
              "ticks": ""
             },
             "bgcolor": "white",
             "caxis": {
              "gridcolor": "#DFE8F3",
              "linecolor": "#A2B1C6",
              "ticks": ""
             }
            },
            "title": {
             "x": 0.05
            },
            "xaxis": {
             "automargin": true,
             "gridcolor": "#EBF0F8",
             "linecolor": "#EBF0F8",
             "ticks": "",
             "title": {
              "standoff": 15
             },
             "zerolinecolor": "#EBF0F8",
             "zerolinewidth": 2
            },
            "yaxis": {
             "automargin": true,
             "gridcolor": "#EBF0F8",
             "linecolor": "#EBF0F8",
             "ticks": "",
             "title": {
              "standoff": 15
             },
             "zerolinecolor": "#EBF0F8",
             "zerolinewidth": 2
            }
           }
          },
          "xaxis": {
           "automargin": false,
           "linecolor": "#444",
           "linewidth": 2,
           "minor": {
            "tickmode": "linear",
            "ticks": "outside"
           },
           "mirror": true,
           "showline": true,
           "tickmode": "linear",
           "ticks": "outside",
           "zeroline": false
          },
          "yaxis": {
           "automargin": true,
           "linecolor": "#444",
           "linewidth": 2,
           "minor": {
            "tickmode": "linear",
            "ticks": "outside"
           },
           "mirror": true,
           "showline": true,
           "ticks": "outside",
           "zeroline": false
          }
         }
        },
        "width": 600,
        "xaxis": {
         "title": {
          "text": "encounter difficulty"
         }
        },
        "yaxis": {
         "range": [
          0,
          1
         ],
         "tickformat": ".0%",
         "title": {
          "text": "probability"
         }
        }
       }
      }
     },
     "metadata": {},
     "output_type": "display_data"
    }
   ],
   "source": [
    "# Fig 7: plots the probability of an encounter ending up in each difficulty range\n",
    "# plot difficulty ranges\n",
    "thresholds = [\n",
    "    ('Trivial', 0.00, 0.15, 'rgba(167, 167, 167, 0.15)'),\n",
    "    ('Easy',    0.15, 0.15, 'rgba(  0, 199, 151, 0.15)'),\n",
    "    ('Medium',  0.30, 0.15, 'rgba(245, 166,  35, 0.15)'),\n",
    "    ('Hard',    0.45, 0.25, 'rgba(228,  90,  29, 0.15)'),\n",
    "    ('Deadly',  0.70, 0.30, 'rgba(144,  79, 213, 0.15)'), \n",
    "    ('TPK',     1.00, 0.10, 'rgba(144,  79, 213, 0.15)'), \n",
    "]\n",
    "\n",
    "difficulties = [\n",
    "    ('Easy',   0.5*(0.15 + 0.30)), \n",
    "    ('Medium', 0.5*(0.30 + 0.45)), \n",
    "    ('Hard',   0.5*(0.45 + 0.70)), \n",
    "    ('Deadly', 0.5*(0.70 + 1.00)),\n",
    "]\n",
    "\"\"\"difficulties = [\n",
    "    ('Easy',   1.1*(0.15)), \n",
    "    ('Medium', 1.1*(0.30)), \n",
    "    ('Hard',   1.1*(0.45)), \n",
    "    ('Deadly', 1.1*(0.70)),\n",
    "]\"\"\"\n",
    "\n",
    "results = []\n",
    "for name, diff in difficulties:\n",
    "    #diff = encounter_difficulty[1] + encounter_difficulty[2]/2\n",
    "    party_hp = 100\n",
    "    pc_r_win = 3\n",
    "    pc_dpr_cv = 0.5\n",
    "\n",
    "    mon_hp = 100\n",
    "    mon_r_win = pc_r_win/diff\n",
    "    mon_dpr_cv = 0.5\n",
    "\n",
    "\n",
    "    party_dpr = mon_hp/pc_r_win\n",
    "    party_size = 4\n",
    "    pc_hp = party_hp/party_size\n",
    "    pc_dpr = party_dpr/party_size\n",
    "\n",
    "    mon_dpr = party_hp/mon_r_win\n",
    "\n",
    "    # construct combatants\n",
    "    combatants = [\n",
    "        cp.Combatant(\n",
    "            group='NPCs',\n",
    "            name='monster',\n",
    "            opponent='PCs',\n",
    "            level=5,\n",
    "            hit_points = mon_hp,\n",
    "            damage = [cp.gaussian_dice_distribution(mon_dpr, mon_dpr_cv*mon_dpr)],\n",
    "        ),\n",
    "        cp.Combatant(\n",
    "            group='PCs',\n",
    "            name='PC 1',\n",
    "            opponent='NPCs',\n",
    "            level=5,\n",
    "            hit_points = pc_hp,\n",
    "            damage = [cp.gaussian_dice_distribution(pc_dpr, pc_dpr_cv*pc_dpr)],\n",
    "        ),\n",
    "        cp.Combatant(\n",
    "            group='PCs',\n",
    "            name='PC 2',\n",
    "            opponent='NPCs',\n",
    "            level=5,\n",
    "            hit_points = pc_hp,\n",
    "            damage = [cp.gaussian_dice_distribution(pc_dpr, pc_dpr_cv*pc_dpr)],\n",
    "        ),\n",
    "        cp.Combatant(\n",
    "            group='PCs',\n",
    "            name='PC 3',\n",
    "            opponent='NPCs',\n",
    "            level=5,\n",
    "            hit_points = pc_hp,\n",
    "            damage = [cp.gaussian_dice_distribution(pc_dpr, pc_dpr_cv*pc_dpr)],\n",
    "        ),\n",
    "        cp.Combatant(\n",
    "            group='PCs',\n",
    "            name='PC 4',\n",
    "            opponent='NPCs',\n",
    "            level=5,\n",
    "            hit_points = pc_hp,\n",
    "            damage = [cp.gaussian_dice_distribution(pc_dpr, pc_dpr_cv*pc_dpr)],\n",
    "        ),\n",
    "    ]\n",
    "    e = cp.Encounter(combatants, initiative=['PC 1','PC 2','monster','PC 3','PC 4'], rounds=10)\n",
    "\n",
    "    pc_hp_loss = e.group_damage_distribution('NPCs', method='approx', clip=True)\n",
    "    probs = []\n",
    "    for ed in thresholds:\n",
    "        x0 = int(np.round(ed[1]*party_hp))\n",
    "        x1 = int(np.round((ed[1]+ed[2])*party_hp))\n",
    "        probs += [sum([pc_hp_loss.probability(x) for x in range(x0,x1)])]\n",
    "    results.append(probs)\n",
    "    #print(probs, sum(probs))\n",
    "\n",
    "\n",
    "# create figure\n",
    "fig = go.Figure(\n",
    "    layout=go.Layout(\n",
    "        template=tfb.FIG_TEMPLATE,\n",
    "        xaxis=dict(\n",
    "            title_text='encounter difficulty',\n",
    "        ),\n",
    "        yaxis=dict(\n",
    "            title_text='probability',\n",
    "            range=[0,1],\n",
    "            tickformat='.0%',\n",
    "        ),\n",
    "        legend=dict(\n",
    "            xanchor='right', yanchor='top',\n",
    "            x=0.99, y=0.99,\n",
    "            orientation='h',\n",
    "            tracegroupgap=0,\n",
    "            bgcolor='rgba(0,0,0,0)',\n",
    "        )\n",
    "    )\n",
    ")\n",
    "\n",
    "results = np.transpose(results)\n",
    "#x = [t[0] for t in thresholds]\n",
    "x = [d[0] for d in difficulties]\n",
    "\n",
    "for t, p, in zip(thresholds, results):\n",
    "    fig.add_trace(go.Bar(\n",
    "        name=t[0], \n",
    "        x=x, \n",
    "        y=p, \n",
    "        showlegend=True,\n",
    "        hovertemplate=\n",
    "            'target difficulty %{x}<br>'+\n",
    "            'final difficult '+t[0]+'<br>'+\n",
    "            'probability %{y:.1%}<extra></extra>',\n",
    "    ))\n",
    "\n",
    "# Change the bar mode\n",
    "fig.update_layout(barmode='group')\n",
    "\n",
    "# show figure\n",
    "fig.update_layout(width=600, height=450)\n",
    "fig.show(config=tfb.FIG_CONFIG)\n",
    "\n",
    "# save figures\n",
    "if SAVEFIGS:\n",
    "    fig.update_layout(autosize=True, width=None, height=None)\n",
    "    tfb.save_fig_html(fig, format='large', name=f'./fig-diff-probabilities-large')\n",
    "    tfb.save_fig_html(fig, format='small', name=f'./fig-diff-probabilities-small')"
   ]
  },
  {
   "cell_type": "code",
   "execution_count": null,
   "metadata": {},
   "outputs": [
    {
     "data": {
      "application/vnd.plotly.v1+json": {
       "config": {
        "autosizable": true,
        "displayModeBar": "hover",
        "displaylogo": false,
        "doubleClick": "reset",
        "modeBarButtonsToRemove": [
         "select2d",
         "lasso2d",
         "zoom2d",
         "zoomIn2d",
         "zoomOut2d",
         "pan2d",
         "autoScale2d",
         "hoverClosestCartesian",
         "hoverCompareCartesian",
         "toggleSpikelines",
         "resetScale2d"
        ],
        "plotlyServerURL": "https://plot.ly",
        "responsive": true,
        "showAxisDragHandles": false,
        "toImageButtonOptions": {
         "filename": "tfb-plot",
         "format": "png",
         "height": 450,
         "scale": 2,
         "width": 600
        }
       },
       "data": [
        {
         "fill": "tozeroy",
         "fillcolor": "rgba(167, 167, 167, 0.15)",
         "hoverinfo": "none",
         "mode": "none",
         "showlegend": false,
         "type": "scatter",
         "x": [
          0,
          0.15
         ],
         "y": [
          4,
          4
         ]
        },
        {
         "fill": "tozeroy",
         "fillcolor": "rgba(  0, 199, 151, 0.15)",
         "hoverinfo": "none",
         "mode": "none",
         "showlegend": false,
         "type": "scatter",
         "x": [
          0.15,
          0.3
         ],
         "y": [
          4,
          4
         ]
        },
        {
         "fill": "tozeroy",
         "fillcolor": "rgba(245, 166,  35, 0.15)",
         "hoverinfo": "none",
         "mode": "none",
         "showlegend": false,
         "type": "scatter",
         "x": [
          0.3,
          0.44999999999999996
         ],
         "y": [
          4,
          4
         ]
        },
        {
         "fill": "tozeroy",
         "fillcolor": "rgba(228,  90,  29, 0.15)",
         "hoverinfo": "none",
         "mode": "none",
         "showlegend": false,
         "type": "scatter",
         "x": [
          0.45,
          0.7
         ],
         "y": [
          4,
          4
         ]
        },
        {
         "fill": "tozeroy",
         "fillcolor": "rgba(144,  79, 213, 0.15)",
         "hoverinfo": "none",
         "mode": "none",
         "showlegend": false,
         "type": "scatter",
         "x": [
          0.7,
          1
         ],
         "y": [
          4,
          4
         ]
        },
        {
         "fill": "none",
         "hoverinfo": "none",
         "legendgroup": "PCs",
         "line": {
          "color": "#1f77b4",
          "width": 0
         },
         "showlegend": false,
         "type": "scatter",
         "x": [
          0,
          0.05,
          0.1,
          0.15000000000000002,
          0.2,
          0.25,
          0.30000000000000004,
          0.35000000000000003,
          0.4,
          0.45,
          0.5,
          0.55,
          0.6000000000000001,
          0.65,
          0.7000000000000001,
          0.75,
          0.8,
          0.8500000000000001,
          0.9,
          0.9500000000000001,
          1
         ],
         "y": [
          2.68,
          2.676617315073053,
          2.676617315073053,
          2.676617315073053,
          2.676617315073053,
          2.676617315073053,
          2.676617320230426,
          2.676618965643389,
          2.6766478350763943,
          2.6768368466516637,
          2.6773593942838474,
          2.677463206661489,
          2.674104002502646,
          2.662614963336906,
          2.6392016516161347,
          2.602280222427586,
          2.5518660449992985,
          2.488726880492816,
          2.414322508869899,
          2.331032883203486,
          2.2420054443500073
         ]
        },
        {
         "fill": "tonexty",
         "hoverinfo": "none",
         "legendgroup": "PCs",
         "line": {
          "color": "#1f77b4",
          "width": 0
         },
         "showlegend": false,
         "type": "scatter",
         "x": [
          0,
          0.05,
          0.1,
          0.15000000000000002,
          0.2,
          0.25,
          0.30000000000000004,
          0.35000000000000003,
          0.4,
          0.45,
          0.5,
          0.55,
          0.6000000000000001,
          0.65,
          0.7000000000000001,
          0.75,
          0.8,
          0.8500000000000001,
          0.9,
          0.9500000000000001,
          1
         ],
         "y": [
          3.56,
          3.5604439006330693,
          3.5604439006330693,
          3.5604439006330693,
          3.5604439006330693,
          3.5604439006330693,
          3.5604438914756957,
          3.5604408099155775,
          3.5603725293660484,
          3.5597475784701564,
          3.5569929945254852,
          3.549801432610267,
          3.5363335629586112,
          3.515728731414648,
          3.488081662203528,
          3.4544333535123144,
          3.416607803217564,
          3.3765876726917856,
          3.3356985456332606,
          3.2942093163304227,
          3.2515863567528456
         ]
        },
        {
         "customdata": [
          0.44,
          0.44191329278000807,
          0.44191329278000807,
          0.44191329278000807,
          0.44191329278000807,
          0.44191329278000807,
          0.4419132856226348,
          0.4419109221360943,
          0.44186234714482703,
          0.4414553659092464,
          0.439816800120819,
          0.43616911297438876,
          0.43111478022798283,
          0.42655688403887126,
          0.4244400052936967,
          0.4260765655423641,
          0.43237087910913274,
          0.44393039609948476,
          0.4606880183816809,
          0.48158821656346834,
          0.504790456201419
         ],
         "fill": "none",
         "hovertemplate": "<b>PCs</b><br>difficulty %{x:.2f}<br>rounds mean %{y:.2f}<br>rounds sigma %{customdata:.2f}<extra></extra>",
         "legendgroup": "PCs",
         "line": {
          "color": "#1f77b4"
         },
         "name": "PCs",
         "showlegend": false,
         "type": "scatter",
         "x": [
          0,
          0.05,
          0.1,
          0.15000000000000002,
          0.2,
          0.25,
          0.30000000000000004,
          0.35000000000000003,
          0.4,
          0.45,
          0.5,
          0.55,
          0.6000000000000001,
          0.65,
          0.7000000000000001,
          0.75,
          0.8,
          0.8500000000000001,
          0.9,
          0.9500000000000001,
          1
         ],
         "y": [
          3.12,
          3.118530607853061,
          3.118530607853061,
          3.118530607853061,
          3.118530607853061,
          3.118530607853061,
          3.118530605853061,
          3.1185298877794834,
          3.1185101822212213,
          3.11829221256091,
          3.1171761944046663,
          3.113632319635878,
          3.1052187827306286,
          3.089171847375777,
          3.0636416569098315,
          3.0283567879699502,
          2.984236924108431,
          2.932657276592301,
          2.87501052725158,
          2.8126210997669543,
          2.7467959005514264
         ]
        }
       ],
       "layout": {
        "annotations": [
         {
          "showarrow": false,
          "text": "Trivial",
          "x": 0.075,
          "y": 2
         },
         {
          "showarrow": false,
          "text": "Easy",
          "x": 0.22499999999999998,
          "y": 2
         },
         {
          "showarrow": false,
          "text": "Medium",
          "x": 0.375,
          "y": 2
         },
         {
          "showarrow": false,
          "text": "Hard",
          "x": 0.575,
          "y": 2
         },
         {
          "showarrow": false,
          "text": "Deadly",
          "x": 0.85,
          "y": 2
         }
        ],
        "height": 450,
        "legend": {
         "bgcolor": "rgba(0,0,0,0)",
         "orientation": "v",
         "tracegroupgap": 0,
         "x": 0.02,
         "xanchor": "left",
         "y": 0.98,
         "yanchor": "top"
        },
        "template": {
         "layout": {
          "autosize": false,
          "font": {
           "family": "sans-serif",
           "size": 14
          },
          "hoverlabel": {
           "align": "left"
          },
          "hovermode": "closest",
          "margin": {
           "b": 55,
           "l": 60,
           "pad": 4,
           "r": 25,
           "t": 20
          },
          "template": {
           "data": {
            "bar": [
             {
              "error_x": {
               "color": "#2a3f5f"
              },
              "error_y": {
               "color": "#2a3f5f"
              },
              "marker": {
               "line": {
                "color": "white",
                "width": 0.5
               },
               "pattern": {
                "fillmode": "overlay",
                "size": 10,
                "solidity": 0.2
               }
              },
              "type": "bar"
             }
            ],
            "barpolar": [
             {
              "marker": {
               "line": {
                "color": "white",
                "width": 0.5
               },
               "pattern": {
                "fillmode": "overlay",
                "size": 10,
                "solidity": 0.2
               }
              },
              "type": "barpolar"
             }
            ],
            "carpet": [
             {
              "aaxis": {
               "endlinecolor": "#2a3f5f",
               "gridcolor": "#C8D4E3",
               "linecolor": "#C8D4E3",
               "minorgridcolor": "#C8D4E3",
               "startlinecolor": "#2a3f5f"
              },
              "baxis": {
               "endlinecolor": "#2a3f5f",
               "gridcolor": "#C8D4E3",
               "linecolor": "#C8D4E3",
               "minorgridcolor": "#C8D4E3",
               "startlinecolor": "#2a3f5f"
              },
              "type": "carpet"
             }
            ],
            "choropleth": [
             {
              "colorbar": {
               "outlinewidth": 0,
               "ticks": ""
              },
              "type": "choropleth"
             }
            ],
            "contour": [
             {
              "colorbar": {
               "outlinewidth": 0,
               "ticks": ""
              },
              "colorscale": [
               [
                0,
                "#0d0887"
               ],
               [
                0.1111111111111111,
                "#46039f"
               ],
               [
                0.2222222222222222,
                "#7201a8"
               ],
               [
                0.3333333333333333,
                "#9c179e"
               ],
               [
                0.4444444444444444,
                "#bd3786"
               ],
               [
                0.5555555555555556,
                "#d8576b"
               ],
               [
                0.6666666666666666,
                "#ed7953"
               ],
               [
                0.7777777777777778,
                "#fb9f3a"
               ],
               [
                0.8888888888888888,
                "#fdca26"
               ],
               [
                1,
                "#f0f921"
               ]
              ],
              "type": "contour"
             }
            ],
            "contourcarpet": [
             {
              "colorbar": {
               "outlinewidth": 0,
               "ticks": ""
              },
              "type": "contourcarpet"
             }
            ],
            "heatmap": [
             {
              "colorbar": {
               "outlinewidth": 0,
               "ticks": ""
              },
              "colorscale": [
               [
                0,
                "#0d0887"
               ],
               [
                0.1111111111111111,
                "#46039f"
               ],
               [
                0.2222222222222222,
                "#7201a8"
               ],
               [
                0.3333333333333333,
                "#9c179e"
               ],
               [
                0.4444444444444444,
                "#bd3786"
               ],
               [
                0.5555555555555556,
                "#d8576b"
               ],
               [
                0.6666666666666666,
                "#ed7953"
               ],
               [
                0.7777777777777778,
                "#fb9f3a"
               ],
               [
                0.8888888888888888,
                "#fdca26"
               ],
               [
                1,
                "#f0f921"
               ]
              ],
              "type": "heatmap"
             }
            ],
            "heatmapgl": [
             {
              "colorbar": {
               "outlinewidth": 0,
               "ticks": ""
              },
              "colorscale": [
               [
                0,
                "#0d0887"
               ],
               [
                0.1111111111111111,
                "#46039f"
               ],
               [
                0.2222222222222222,
                "#7201a8"
               ],
               [
                0.3333333333333333,
                "#9c179e"
               ],
               [
                0.4444444444444444,
                "#bd3786"
               ],
               [
                0.5555555555555556,
                "#d8576b"
               ],
               [
                0.6666666666666666,
                "#ed7953"
               ],
               [
                0.7777777777777778,
                "#fb9f3a"
               ],
               [
                0.8888888888888888,
                "#fdca26"
               ],
               [
                1,
                "#f0f921"
               ]
              ],
              "type": "heatmapgl"
             }
            ],
            "histogram": [
             {
              "marker": {
               "pattern": {
                "fillmode": "overlay",
                "size": 10,
                "solidity": 0.2
               }
              },
              "type": "histogram"
             }
            ],
            "histogram2d": [
             {
              "colorbar": {
               "outlinewidth": 0,
               "ticks": ""
              },
              "colorscale": [
               [
                0,
                "#0d0887"
               ],
               [
                0.1111111111111111,
                "#46039f"
               ],
               [
                0.2222222222222222,
                "#7201a8"
               ],
               [
                0.3333333333333333,
                "#9c179e"
               ],
               [
                0.4444444444444444,
                "#bd3786"
               ],
               [
                0.5555555555555556,
                "#d8576b"
               ],
               [
                0.6666666666666666,
                "#ed7953"
               ],
               [
                0.7777777777777778,
                "#fb9f3a"
               ],
               [
                0.8888888888888888,
                "#fdca26"
               ],
               [
                1,
                "#f0f921"
               ]
              ],
              "type": "histogram2d"
             }
            ],
            "histogram2dcontour": [
             {
              "colorbar": {
               "outlinewidth": 0,
               "ticks": ""
              },
              "colorscale": [
               [
                0,
                "#0d0887"
               ],
               [
                0.1111111111111111,
                "#46039f"
               ],
               [
                0.2222222222222222,
                "#7201a8"
               ],
               [
                0.3333333333333333,
                "#9c179e"
               ],
               [
                0.4444444444444444,
                "#bd3786"
               ],
               [
                0.5555555555555556,
                "#d8576b"
               ],
               [
                0.6666666666666666,
                "#ed7953"
               ],
               [
                0.7777777777777778,
                "#fb9f3a"
               ],
               [
                0.8888888888888888,
                "#fdca26"
               ],
               [
                1,
                "#f0f921"
               ]
              ],
              "type": "histogram2dcontour"
             }
            ],
            "mesh3d": [
             {
              "colorbar": {
               "outlinewidth": 0,
               "ticks": ""
              },
              "type": "mesh3d"
             }
            ],
            "parcoords": [
             {
              "line": {
               "colorbar": {
                "outlinewidth": 0,
                "ticks": ""
               }
              },
              "type": "parcoords"
             }
            ],
            "pie": [
             {
              "automargin": true,
              "type": "pie"
             }
            ],
            "scatter": [
             {
              "fillpattern": {
               "fillmode": "overlay",
               "size": 10,
               "solidity": 0.2
              },
              "type": "scatter"
             }
            ],
            "scatter3d": [
             {
              "line": {
               "colorbar": {
                "outlinewidth": 0,
                "ticks": ""
               }
              },
              "marker": {
               "colorbar": {
                "outlinewidth": 0,
                "ticks": ""
               }
              },
              "type": "scatter3d"
             }
            ],
            "scattercarpet": [
             {
              "marker": {
               "colorbar": {
                "outlinewidth": 0,
                "ticks": ""
               }
              },
              "type": "scattercarpet"
             }
            ],
            "scattergeo": [
             {
              "marker": {
               "colorbar": {
                "outlinewidth": 0,
                "ticks": ""
               }
              },
              "type": "scattergeo"
             }
            ],
            "scattergl": [
             {
              "marker": {
               "colorbar": {
                "outlinewidth": 0,
                "ticks": ""
               }
              },
              "type": "scattergl"
             }
            ],
            "scattermapbox": [
             {
              "marker": {
               "colorbar": {
                "outlinewidth": 0,
                "ticks": ""
               }
              },
              "type": "scattermapbox"
             }
            ],
            "scatterpolar": [
             {
              "marker": {
               "colorbar": {
                "outlinewidth": 0,
                "ticks": ""
               }
              },
              "type": "scatterpolar"
             }
            ],
            "scatterpolargl": [
             {
              "marker": {
               "colorbar": {
                "outlinewidth": 0,
                "ticks": ""
               }
              },
              "type": "scatterpolargl"
             }
            ],
            "scatterternary": [
             {
              "marker": {
               "colorbar": {
                "outlinewidth": 0,
                "ticks": ""
               }
              },
              "type": "scatterternary"
             }
            ],
            "surface": [
             {
              "colorbar": {
               "outlinewidth": 0,
               "ticks": ""
              },
              "colorscale": [
               [
                0,
                "#0d0887"
               ],
               [
                0.1111111111111111,
                "#46039f"
               ],
               [
                0.2222222222222222,
                "#7201a8"
               ],
               [
                0.3333333333333333,
                "#9c179e"
               ],
               [
                0.4444444444444444,
                "#bd3786"
               ],
               [
                0.5555555555555556,
                "#d8576b"
               ],
               [
                0.6666666666666666,
                "#ed7953"
               ],
               [
                0.7777777777777778,
                "#fb9f3a"
               ],
               [
                0.8888888888888888,
                "#fdca26"
               ],
               [
                1,
                "#f0f921"
               ]
              ],
              "type": "surface"
             }
            ],
            "table": [
             {
              "cells": {
               "fill": {
                "color": "#EBF0F8"
               },
               "line": {
                "color": "white"
               }
              },
              "header": {
               "fill": {
                "color": "#C8D4E3"
               },
               "line": {
                "color": "white"
               }
              },
              "type": "table"
             }
            ]
           },
           "layout": {
            "annotationdefaults": {
             "arrowcolor": "#2a3f5f",
             "arrowhead": 0,
             "arrowwidth": 1
            },
            "autotypenumbers": "strict",
            "coloraxis": {
             "colorbar": {
              "outlinewidth": 0,
              "ticks": ""
             }
            },
            "colorscale": {
             "diverging": [
              [
               0,
               "#8e0152"
              ],
              [
               0.1,
               "#c51b7d"
              ],
              [
               0.2,
               "#de77ae"
              ],
              [
               0.3,
               "#f1b6da"
              ],
              [
               0.4,
               "#fde0ef"
              ],
              [
               0.5,
               "#f7f7f7"
              ],
              [
               0.6,
               "#e6f5d0"
              ],
              [
               0.7,
               "#b8e186"
              ],
              [
               0.8,
               "#7fbc41"
              ],
              [
               0.9,
               "#4d9221"
              ],
              [
               1,
               "#276419"
              ]
             ],
             "sequential": [
              [
               0,
               "#0d0887"
              ],
              [
               0.1111111111111111,
               "#46039f"
              ],
              [
               0.2222222222222222,
               "#7201a8"
              ],
              [
               0.3333333333333333,
               "#9c179e"
              ],
              [
               0.4444444444444444,
               "#bd3786"
              ],
              [
               0.5555555555555556,
               "#d8576b"
              ],
              [
               0.6666666666666666,
               "#ed7953"
              ],
              [
               0.7777777777777778,
               "#fb9f3a"
              ],
              [
               0.8888888888888888,
               "#fdca26"
              ],
              [
               1,
               "#f0f921"
              ]
             ],
             "sequentialminus": [
              [
               0,
               "#0d0887"
              ],
              [
               0.1111111111111111,
               "#46039f"
              ],
              [
               0.2222222222222222,
               "#7201a8"
              ],
              [
               0.3333333333333333,
               "#9c179e"
              ],
              [
               0.4444444444444444,
               "#bd3786"
              ],
              [
               0.5555555555555556,
               "#d8576b"
              ],
              [
               0.6666666666666666,
               "#ed7953"
              ],
              [
               0.7777777777777778,
               "#fb9f3a"
              ],
              [
               0.8888888888888888,
               "#fdca26"
              ],
              [
               1,
               "#f0f921"
              ]
             ]
            },
            "colorway": [
             "#636efa",
             "#EF553B",
             "#00cc96",
             "#ab63fa",
             "#FFA15A",
             "#19d3f3",
             "#FF6692",
             "#B6E880",
             "#FF97FF",
             "#FECB52"
            ],
            "font": {
             "color": "#2a3f5f"
            },
            "geo": {
             "bgcolor": "white",
             "lakecolor": "white",
             "landcolor": "white",
             "showlakes": true,
             "showland": true,
             "subunitcolor": "#C8D4E3"
            },
            "hoverlabel": {
             "align": "left"
            },
            "hovermode": "closest",
            "mapbox": {
             "style": "light"
            },
            "paper_bgcolor": "white",
            "plot_bgcolor": "white",
            "polar": {
             "angularaxis": {
              "gridcolor": "#EBF0F8",
              "linecolor": "#EBF0F8",
              "ticks": ""
             },
             "bgcolor": "white",
             "radialaxis": {
              "gridcolor": "#EBF0F8",
              "linecolor": "#EBF0F8",
              "ticks": ""
             }
            },
            "scene": {
             "xaxis": {
              "backgroundcolor": "white",
              "gridcolor": "#DFE8F3",
              "gridwidth": 2,
              "linecolor": "#EBF0F8",
              "showbackground": true,
              "ticks": "",
              "zerolinecolor": "#EBF0F8"
             },
             "yaxis": {
              "backgroundcolor": "white",
              "gridcolor": "#DFE8F3",
              "gridwidth": 2,
              "linecolor": "#EBF0F8",
              "showbackground": true,
              "ticks": "",
              "zerolinecolor": "#EBF0F8"
             },
             "zaxis": {
              "backgroundcolor": "white",
              "gridcolor": "#DFE8F3",
              "gridwidth": 2,
              "linecolor": "#EBF0F8",
              "showbackground": true,
              "ticks": "",
              "zerolinecolor": "#EBF0F8"
             }
            },
            "shapedefaults": {
             "line": {
              "color": "#2a3f5f"
             }
            },
            "ternary": {
             "aaxis": {
              "gridcolor": "#DFE8F3",
              "linecolor": "#A2B1C6",
              "ticks": ""
             },
             "baxis": {
              "gridcolor": "#DFE8F3",
              "linecolor": "#A2B1C6",
              "ticks": ""
             },
             "bgcolor": "white",
             "caxis": {
              "gridcolor": "#DFE8F3",
              "linecolor": "#A2B1C6",
              "ticks": ""
             }
            },
            "title": {
             "x": 0.05
            },
            "xaxis": {
             "automargin": true,
             "gridcolor": "#EBF0F8",
             "linecolor": "#EBF0F8",
             "ticks": "",
             "title": {
              "standoff": 15
             },
             "zerolinecolor": "#EBF0F8",
             "zerolinewidth": 2
            },
            "yaxis": {
             "automargin": true,
             "gridcolor": "#EBF0F8",
             "linecolor": "#EBF0F8",
             "ticks": "",
             "title": {
              "standoff": 15
             },
             "zerolinecolor": "#EBF0F8",
             "zerolinewidth": 2
            }
           }
          },
          "xaxis": {
           "automargin": false,
           "linecolor": "#444",
           "linewidth": 2,
           "minor": {
            "tickmode": "linear",
            "ticks": "outside"
           },
           "mirror": true,
           "showline": true,
           "tickmode": "linear",
           "ticks": "outside",
           "zeroline": false
          },
          "yaxis": {
           "automargin": true,
           "linecolor": "#444",
           "linewidth": 2,
           "minor": {
            "tickmode": "linear",
            "ticks": "outside"
           },
           "mirror": true,
           "showline": true,
           "ticks": "outside",
           "zeroline": false
          }
         }
        },
        "width": 600,
        "xaxis": {
         "dtick": 0.2,
         "minor": {
          "dtick": 0.1,
          "tick0": 0
         },
         "range": [
          0,
          1
         ],
         "tick0": 0,
         "title": {
          "text": "encounter difficulty"
         }
        },
        "yaxis": {
         "dtick": 1,
         "minor": {
          "dtick": 0.5,
          "tick0": 0
         },
         "range": [
          0,
          4
         ],
         "tick0": 0,
         "title": {
          "text": "encounter length (rounds)"
         }
        }
       }
      }
     },
     "metadata": {},
     "output_type": "display_data"
    }
   ],
   "source": [
    "# plots the average damage taken by the PCs and monsters for a range of difficulties\n",
    "\n",
    "difficulties = list(np.linspace(0.0, 1.0, 21))\n",
    "rounds_mean = [3.12]\n",
    "rounds_sigma = [0.44]\n",
    "for diff in difficulties[1:]:\n",
    "    party_hp = 100\n",
    "    pc_r_win = 3\n",
    "    pc_dpr_cv = 0.5\n",
    "\n",
    "    mon_hp = 100\n",
    "    mon_r_win = pc_r_win/diff\n",
    "    mon_dpr_cv = 0.5\n",
    "\n",
    "    party_dpr = mon_hp/pc_r_win\n",
    "    party_size = 4\n",
    "    pc_hp = party_hp/party_size\n",
    "    pc_dpr = party_dpr/party_size\n",
    "\n",
    "    mon_dpr = party_hp/mon_r_win\n",
    "    \n",
    "    combatants = [\n",
    "        cp.Combatant(\n",
    "            group='NPCs',\n",
    "            name='monster',\n",
    "            opponent='PCs',\n",
    "            level=5,\n",
    "            hit_points = mon_hp,\n",
    "            damage = [cp.gaussian_dice_distribution(mon_dpr, mon_dpr_cv*mon_dpr)],\n",
    "        ),\n",
    "        cp.Combatant(\n",
    "            group='PCs',\n",
    "            name='PC 1',\n",
    "            opponent='NPCs',\n",
    "            level=5,\n",
    "            hit_points = pc_hp,\n",
    "            damage = [cp.gaussian_dice_distribution(pc_dpr, pc_dpr_cv*pc_dpr)],\n",
    "        ),\n",
    "        cp.Combatant(\n",
    "            group='PCs',\n",
    "            name='PC 2',\n",
    "            opponent='NPCs',\n",
    "            level=5,\n",
    "            hit_points = pc_hp,\n",
    "            damage = [cp.gaussian_dice_distribution(pc_dpr, pc_dpr_cv*pc_dpr)],\n",
    "        ),\n",
    "        cp.Combatant(\n",
    "            group='PCs',\n",
    "            name='PC 3',\n",
    "            opponent='NPCs',\n",
    "            level=5,\n",
    "            hit_points = pc_hp,\n",
    "            damage = [cp.gaussian_dice_distribution(pc_dpr, pc_dpr_cv*pc_dpr)],\n",
    "        ),\n",
    "        cp.Combatant(\n",
    "            group='PCs',\n",
    "            name='PC 4',\n",
    "            opponent='NPCs',\n",
    "            level=5,\n",
    "            hit_points = pc_hp,\n",
    "            damage = [cp.gaussian_dice_distribution(pc_dpr, pc_dpr_cv*pc_dpr)],\n",
    "        ),\n",
    "    ]\n",
    "    e = cp.Encounter(combatants, initiative=['PC 1','PC 2','monster','PC 3','PC 4'], rounds=10)\n",
    "    rounds = e.encounter_length_distribution(units='rounds', method='approx', clip=True)\n",
    "    rounds_mean += [rounds.mean()]\n",
    "    rounds_sigma += [rounds.sd()]\n",
    "\n",
    "\n",
    "# create figure\n",
    "fig = go.Figure(\n",
    "    layout=go.Layout(\n",
    "        template=tfb.FIG_TEMPLATE,\n",
    "        xaxis=dict(\n",
    "            title_text='encounter difficulty',\n",
    "            range=[0.0, 1.0],\n",
    "            tick0=0, dtick=0.2,\n",
    "            minor=dict(tick0=0, dtick=0.1),\n",
    "        ),\n",
    "        yaxis=dict(\n",
    "            title_text='encounter length (rounds)',\n",
    "            range=[0,4],\n",
    "            #tickformat='.0%'\n",
    "            tick0=0, dtick=1.0,\n",
    "            minor=dict(tick0=0, dtick=0.5),\n",
    "        ),\n",
    "        legend=dict(\n",
    "            xanchor='left', yanchor='top',\n",
    "            x=0.02, y=0.98,\n",
    "            orientation='v',\n",
    "            tracegroupgap=0,\n",
    "            bgcolor='rgba(0,0,0,0)',\n",
    "        )\n",
    "    )\n",
    ")\n",
    "\n",
    "# plot difficulty ranges\n",
    "thresholds = [\n",
    "    ('Trivial', 0.00, 0.15, 'rgba(167, 167, 167, 0.15)'),\n",
    "    ('Easy',    0.15, 0.15, 'rgba(  0, 199, 151, 0.15)'),\n",
    "    ('Medium',  0.30, 0.15, 'rgba(245, 166,  35, 0.15)'),\n",
    "    ('Hard',    0.45, 0.25, 'rgba(228,  90,  29, 0.15)'),\n",
    "    ('Deadly',  0.70, 0.30, 'rgba(144,  79, 213, 0.15)'), #rgba(213,  79,  79, 0.2)'\n",
    "]\n",
    "for name, diff, dx, color in thresholds:\n",
    "    fig.add_trace(go.Scatter(\n",
    "        x=[diff, diff+dx], \n",
    "        y=[4.0, 4.0],\n",
    "        mode='none',\n",
    "        fill='tozeroy', \n",
    "        showlegend=False,\n",
    "        fillcolor=color,\n",
    "        hoverinfo='none'\n",
    "    ))\n",
    "    fig.add_annotation(\n",
    "        x=diff + dx/2, \n",
    "        y=2.0,\n",
    "        text=name,\n",
    "        showarrow=False,\n",
    "    )\n",
    "\n",
    "# plot PC data\n",
    "y_min = [rounds_mean[i] - rounds_sigma[i] for i in range(len(difficulties))]\n",
    "y_max = [rounds_mean[i] + rounds_sigma[i] for i in range(len(difficulties))]\n",
    "fig.add_trace(go.Scatter(\n",
    "    x=difficulties,\n",
    "    y=y_min,\n",
    "    legendgroup='PCs',\n",
    "    showlegend=False,\n",
    "    line_color=COLOR_LIST[0],\n",
    "    line_width=0,\n",
    "    fill='none',\n",
    "    hoverinfo='none',\n",
    "))\n",
    "fig.add_trace(go.Scatter(\n",
    "    x=difficulties,\n",
    "    y=y_max,\n",
    "    legendgroup='PCs',\n",
    "    showlegend=False,\n",
    "    line_color=COLOR_LIST[0],\n",
    "    line_width=0,\n",
    "    fill='tonexty',\n",
    "    hoverinfo='none',\n",
    "))\n",
    "fig.add_trace(go.Scatter(\n",
    "    x=difficulties,\n",
    "    y=rounds_mean,\n",
    "    name=f'PCs',\n",
    "    legendgroup='PCs',\n",
    "    showlegend=False,\n",
    "    line_color=COLOR_LIST[0],\n",
    "    fill='none',\n",
    "    customdata=rounds_sigma,\n",
    "    hovertemplate=\n",
    "        f'<b>PCs</b><br>'+\n",
    "        'difficulty %{x:.2f}<br>'+\n",
    "        'rounds mean %{y:.2f}<br>'+\n",
    "        'rounds sigma %{customdata:.2f}<extra></extra>',\n",
    "))\n",
    "\n",
    "\n",
    "\n",
    "\n",
    "\"\"\"fig.add_trace(go.Scatter(\n",
    "    x=[0,1],\n",
    "    y=[0,1],\n",
    "    name=f'1-to-1',\n",
    "    showlegend=False,\n",
    "    mode='lines',\n",
    "    line_color='black',\n",
    "    line_dash='dash',\n",
    "    hoverinfo='skip',\n",
    "))\"\"\"\n",
    "\n",
    "# show figure\n",
    "fig.update_layout(width=600, height=450)\n",
    "fig.show(config=tfb.FIG_CONFIG)\n",
    "\n",
    "# save figures\n",
    "if SAVEFIGS:\n",
    "    fig.update_layout(autosize=True, width=None, height=None)\n",
    "    #tfb.save_fig_html(fig, format='large', name=f'./fig-damage-vs-diff-large')\n",
    "    #tfb.save_fig_html(fig, format='small', name=f'./fig-damage-vs-diff-small')"
   ]
  },
  {
   "cell_type": "code",
   "execution_count": null,
   "metadata": {},
   "outputs": [
    {
     "data": {
      "application/vnd.plotly.v1+json": {
       "config": {
        "autosizable": true,
        "displayModeBar": "hover",
        "displaylogo": false,
        "doubleClick": "reset",
        "modeBarButtonsToRemove": [
         "select2d",
         "lasso2d",
         "zoom2d",
         "zoomIn2d",
         "zoomOut2d",
         "pan2d",
         "autoScale2d",
         "hoverClosestCartesian",
         "hoverCompareCartesian",
         "toggleSpikelines",
         "resetScale2d"
        ],
        "plotlyServerURL": "https://plot.ly",
        "responsive": true,
        "showAxisDragHandles": false,
        "toImageButtonOptions": {
         "filename": "tfb-plot",
         "format": "png",
         "height": 450,
         "scale": 2,
         "width": 600
        }
       },
       "data": [
        {
         "error_y": {
          "array": [
           0.049447137074946204,
           0.056970777485827136,
           0.06608010168138555,
           0.07620859686275441,
           0.08700103414348365,
           0.0982388432931924,
           0.10978534141559282
          ],
          "arrayminus": [
           0.049447137074946204,
           0.056970777485827136,
           0.06608010168138555,
           0.07620859686275441,
           0.08700103414348365,
           0.0982388432931924,
           0.10978534141559282
          ],
          "symmetric": false,
          "type": "data"
         },
         "hovertemplate": "<b>PCs</b><br>monster CV %{x:.2f}<br>probability %{y:.1%}<extra></extra>",
         "name": "PCs",
         "type": "scatter",
         "x": [
          0.2,
          0.30000000000000004,
          0.4,
          0.5,
          0.6000000000000001,
          0.7000000000000002,
          0.8
         ],
         "y": [
          0.20016254649272372,
          0.20016254649272372,
          0.20016254649272378,
          0.20016254669820505,
          0.20016254598373157,
          0.200162546107449,
          0.2001625463580844
         ]
        },
        {
         "hovertemplate": "<b>NPCs</b><br>monster CV %{x:.2f}<br>probability %{y:.1%}<extra></extra>",
         "name": "NPCs",
         "type": "scatter",
         "x": [
          0.2,
          0.30000000000000004,
          0.4,
          0.5,
          0.6000000000000001,
          0.7000000000000002,
          0.8
         ],
         "y": [
          0.9999999999999966,
          0.9999999999999966,
          0.9999999999999966,
          0.9999999999999938,
          0.9999999999996781,
          0.9999999999863536,
          0.9999999997259702
         ]
        },
        {
         "hovertemplate": "<b>NPCs</b><br>monster CV %{x:.2f}<br>probability %{y:.1%}<extra></extra>",
         "name": "sigma/mean",
         "type": "scatter",
         "x": [
          0.2,
          0.30000000000000004,
          0.4,
          0.5,
          0.6000000000000001,
          0.7000000000000002,
          0.8
         ],
         "y": [
          0.2470349120820348,
          0.28462256543033204,
          0.3301321992513103,
          0.3807335494070121,
          0.434651916101001,
          0.49079533211201726,
          0.5484809391822502
         ]
        }
       ],
       "layout": {
        "height": 450,
        "legend": {
         "orientation": "v",
         "tracegroupgap": 0,
         "x": 0,
         "xanchor": "left",
         "y": 1,
         "yanchor": "top"
        },
        "template": {
         "layout": {
          "autosize": false,
          "font": {
           "family": "sans-serif",
           "size": 14
          },
          "hoverlabel": {
           "align": "left"
          },
          "hovermode": "closest",
          "margin": {
           "b": 55,
           "l": 60,
           "pad": 4,
           "r": 25,
           "t": 20
          },
          "template": {
           "data": {
            "bar": [
             {
              "error_x": {
               "color": "#2a3f5f"
              },
              "error_y": {
               "color": "#2a3f5f"
              },
              "marker": {
               "line": {
                "color": "white",
                "width": 0.5
               },
               "pattern": {
                "fillmode": "overlay",
                "size": 10,
                "solidity": 0.2
               }
              },
              "type": "bar"
             }
            ],
            "barpolar": [
             {
              "marker": {
               "line": {
                "color": "white",
                "width": 0.5
               },
               "pattern": {
                "fillmode": "overlay",
                "size": 10,
                "solidity": 0.2
               }
              },
              "type": "barpolar"
             }
            ],
            "carpet": [
             {
              "aaxis": {
               "endlinecolor": "#2a3f5f",
               "gridcolor": "#C8D4E3",
               "linecolor": "#C8D4E3",
               "minorgridcolor": "#C8D4E3",
               "startlinecolor": "#2a3f5f"
              },
              "baxis": {
               "endlinecolor": "#2a3f5f",
               "gridcolor": "#C8D4E3",
               "linecolor": "#C8D4E3",
               "minorgridcolor": "#C8D4E3",
               "startlinecolor": "#2a3f5f"
              },
              "type": "carpet"
             }
            ],
            "choropleth": [
             {
              "colorbar": {
               "outlinewidth": 0,
               "ticks": ""
              },
              "type": "choropleth"
             }
            ],
            "contour": [
             {
              "colorbar": {
               "outlinewidth": 0,
               "ticks": ""
              },
              "colorscale": [
               [
                0,
                "#0d0887"
               ],
               [
                0.1111111111111111,
                "#46039f"
               ],
               [
                0.2222222222222222,
                "#7201a8"
               ],
               [
                0.3333333333333333,
                "#9c179e"
               ],
               [
                0.4444444444444444,
                "#bd3786"
               ],
               [
                0.5555555555555556,
                "#d8576b"
               ],
               [
                0.6666666666666666,
                "#ed7953"
               ],
               [
                0.7777777777777778,
                "#fb9f3a"
               ],
               [
                0.8888888888888888,
                "#fdca26"
               ],
               [
                1,
                "#f0f921"
               ]
              ],
              "type": "contour"
             }
            ],
            "contourcarpet": [
             {
              "colorbar": {
               "outlinewidth": 0,
               "ticks": ""
              },
              "type": "contourcarpet"
             }
            ],
            "heatmap": [
             {
              "colorbar": {
               "outlinewidth": 0,
               "ticks": ""
              },
              "colorscale": [
               [
                0,
                "#0d0887"
               ],
               [
                0.1111111111111111,
                "#46039f"
               ],
               [
                0.2222222222222222,
                "#7201a8"
               ],
               [
                0.3333333333333333,
                "#9c179e"
               ],
               [
                0.4444444444444444,
                "#bd3786"
               ],
               [
                0.5555555555555556,
                "#d8576b"
               ],
               [
                0.6666666666666666,
                "#ed7953"
               ],
               [
                0.7777777777777778,
                "#fb9f3a"
               ],
               [
                0.8888888888888888,
                "#fdca26"
               ],
               [
                1,
                "#f0f921"
               ]
              ],
              "type": "heatmap"
             }
            ],
            "heatmapgl": [
             {
              "colorbar": {
               "outlinewidth": 0,
               "ticks": ""
              },
              "colorscale": [
               [
                0,
                "#0d0887"
               ],
               [
                0.1111111111111111,
                "#46039f"
               ],
               [
                0.2222222222222222,
                "#7201a8"
               ],
               [
                0.3333333333333333,
                "#9c179e"
               ],
               [
                0.4444444444444444,
                "#bd3786"
               ],
               [
                0.5555555555555556,
                "#d8576b"
               ],
               [
                0.6666666666666666,
                "#ed7953"
               ],
               [
                0.7777777777777778,
                "#fb9f3a"
               ],
               [
                0.8888888888888888,
                "#fdca26"
               ],
               [
                1,
                "#f0f921"
               ]
              ],
              "type": "heatmapgl"
             }
            ],
            "histogram": [
             {
              "marker": {
               "pattern": {
                "fillmode": "overlay",
                "size": 10,
                "solidity": 0.2
               }
              },
              "type": "histogram"
             }
            ],
            "histogram2d": [
             {
              "colorbar": {
               "outlinewidth": 0,
               "ticks": ""
              },
              "colorscale": [
               [
                0,
                "#0d0887"
               ],
               [
                0.1111111111111111,
                "#46039f"
               ],
               [
                0.2222222222222222,
                "#7201a8"
               ],
               [
                0.3333333333333333,
                "#9c179e"
               ],
               [
                0.4444444444444444,
                "#bd3786"
               ],
               [
                0.5555555555555556,
                "#d8576b"
               ],
               [
                0.6666666666666666,
                "#ed7953"
               ],
               [
                0.7777777777777778,
                "#fb9f3a"
               ],
               [
                0.8888888888888888,
                "#fdca26"
               ],
               [
                1,
                "#f0f921"
               ]
              ],
              "type": "histogram2d"
             }
            ],
            "histogram2dcontour": [
             {
              "colorbar": {
               "outlinewidth": 0,
               "ticks": ""
              },
              "colorscale": [
               [
                0,
                "#0d0887"
               ],
               [
                0.1111111111111111,
                "#46039f"
               ],
               [
                0.2222222222222222,
                "#7201a8"
               ],
               [
                0.3333333333333333,
                "#9c179e"
               ],
               [
                0.4444444444444444,
                "#bd3786"
               ],
               [
                0.5555555555555556,
                "#d8576b"
               ],
               [
                0.6666666666666666,
                "#ed7953"
               ],
               [
                0.7777777777777778,
                "#fb9f3a"
               ],
               [
                0.8888888888888888,
                "#fdca26"
               ],
               [
                1,
                "#f0f921"
               ]
              ],
              "type": "histogram2dcontour"
             }
            ],
            "mesh3d": [
             {
              "colorbar": {
               "outlinewidth": 0,
               "ticks": ""
              },
              "type": "mesh3d"
             }
            ],
            "parcoords": [
             {
              "line": {
               "colorbar": {
                "outlinewidth": 0,
                "ticks": ""
               }
              },
              "type": "parcoords"
             }
            ],
            "pie": [
             {
              "automargin": true,
              "type": "pie"
             }
            ],
            "scatter": [
             {
              "fillpattern": {
               "fillmode": "overlay",
               "size": 10,
               "solidity": 0.2
              },
              "type": "scatter"
             }
            ],
            "scatter3d": [
             {
              "line": {
               "colorbar": {
                "outlinewidth": 0,
                "ticks": ""
               }
              },
              "marker": {
               "colorbar": {
                "outlinewidth": 0,
                "ticks": ""
               }
              },
              "type": "scatter3d"
             }
            ],
            "scattercarpet": [
             {
              "marker": {
               "colorbar": {
                "outlinewidth": 0,
                "ticks": ""
               }
              },
              "type": "scattercarpet"
             }
            ],
            "scattergeo": [
             {
              "marker": {
               "colorbar": {
                "outlinewidth": 0,
                "ticks": ""
               }
              },
              "type": "scattergeo"
             }
            ],
            "scattergl": [
             {
              "marker": {
               "colorbar": {
                "outlinewidth": 0,
                "ticks": ""
               }
              },
              "type": "scattergl"
             }
            ],
            "scattermapbox": [
             {
              "marker": {
               "colorbar": {
                "outlinewidth": 0,
                "ticks": ""
               }
              },
              "type": "scattermapbox"
             }
            ],
            "scatterpolar": [
             {
              "marker": {
               "colorbar": {
                "outlinewidth": 0,
                "ticks": ""
               }
              },
              "type": "scatterpolar"
             }
            ],
            "scatterpolargl": [
             {
              "marker": {
               "colorbar": {
                "outlinewidth": 0,
                "ticks": ""
               }
              },
              "type": "scatterpolargl"
             }
            ],
            "scatterternary": [
             {
              "marker": {
               "colorbar": {
                "outlinewidth": 0,
                "ticks": ""
               }
              },
              "type": "scatterternary"
             }
            ],
            "surface": [
             {
              "colorbar": {
               "outlinewidth": 0,
               "ticks": ""
              },
              "colorscale": [
               [
                0,
                "#0d0887"
               ],
               [
                0.1111111111111111,
                "#46039f"
               ],
               [
                0.2222222222222222,
                "#7201a8"
               ],
               [
                0.3333333333333333,
                "#9c179e"
               ],
               [
                0.4444444444444444,
                "#bd3786"
               ],
               [
                0.5555555555555556,
                "#d8576b"
               ],
               [
                0.6666666666666666,
                "#ed7953"
               ],
               [
                0.7777777777777778,
                "#fb9f3a"
               ],
               [
                0.8888888888888888,
                "#fdca26"
               ],
               [
                1,
                "#f0f921"
               ]
              ],
              "type": "surface"
             }
            ],
            "table": [
             {
              "cells": {
               "fill": {
                "color": "#EBF0F8"
               },
               "line": {
                "color": "white"
               }
              },
              "header": {
               "fill": {
                "color": "#C8D4E3"
               },
               "line": {
                "color": "white"
               }
              },
              "type": "table"
             }
            ]
           },
           "layout": {
            "annotationdefaults": {
             "arrowcolor": "#2a3f5f",
             "arrowhead": 0,
             "arrowwidth": 1
            },
            "autotypenumbers": "strict",
            "coloraxis": {
             "colorbar": {
              "outlinewidth": 0,
              "ticks": ""
             }
            },
            "colorscale": {
             "diverging": [
              [
               0,
               "#8e0152"
              ],
              [
               0.1,
               "#c51b7d"
              ],
              [
               0.2,
               "#de77ae"
              ],
              [
               0.3,
               "#f1b6da"
              ],
              [
               0.4,
               "#fde0ef"
              ],
              [
               0.5,
               "#f7f7f7"
              ],
              [
               0.6,
               "#e6f5d0"
              ],
              [
               0.7,
               "#b8e186"
              ],
              [
               0.8,
               "#7fbc41"
              ],
              [
               0.9,
               "#4d9221"
              ],
              [
               1,
               "#276419"
              ]
             ],
             "sequential": [
              [
               0,
               "#0d0887"
              ],
              [
               0.1111111111111111,
               "#46039f"
              ],
              [
               0.2222222222222222,
               "#7201a8"
              ],
              [
               0.3333333333333333,
               "#9c179e"
              ],
              [
               0.4444444444444444,
               "#bd3786"
              ],
              [
               0.5555555555555556,
               "#d8576b"
              ],
              [
               0.6666666666666666,
               "#ed7953"
              ],
              [
               0.7777777777777778,
               "#fb9f3a"
              ],
              [
               0.8888888888888888,
               "#fdca26"
              ],
              [
               1,
               "#f0f921"
              ]
             ],
             "sequentialminus": [
              [
               0,
               "#0d0887"
              ],
              [
               0.1111111111111111,
               "#46039f"
              ],
              [
               0.2222222222222222,
               "#7201a8"
              ],
              [
               0.3333333333333333,
               "#9c179e"
              ],
              [
               0.4444444444444444,
               "#bd3786"
              ],
              [
               0.5555555555555556,
               "#d8576b"
              ],
              [
               0.6666666666666666,
               "#ed7953"
              ],
              [
               0.7777777777777778,
               "#fb9f3a"
              ],
              [
               0.8888888888888888,
               "#fdca26"
              ],
              [
               1,
               "#f0f921"
              ]
             ]
            },
            "colorway": [
             "#636efa",
             "#EF553B",
             "#00cc96",
             "#ab63fa",
             "#FFA15A",
             "#19d3f3",
             "#FF6692",
             "#B6E880",
             "#FF97FF",
             "#FECB52"
            ],
            "font": {
             "color": "#2a3f5f"
            },
            "geo": {
             "bgcolor": "white",
             "lakecolor": "white",
             "landcolor": "white",
             "showlakes": true,
             "showland": true,
             "subunitcolor": "#C8D4E3"
            },
            "hoverlabel": {
             "align": "left"
            },
            "hovermode": "closest",
            "mapbox": {
             "style": "light"
            },
            "paper_bgcolor": "white",
            "plot_bgcolor": "white",
            "polar": {
             "angularaxis": {
              "gridcolor": "#EBF0F8",
              "linecolor": "#EBF0F8",
              "ticks": ""
             },
             "bgcolor": "white",
             "radialaxis": {
              "gridcolor": "#EBF0F8",
              "linecolor": "#EBF0F8",
              "ticks": ""
             }
            },
            "scene": {
             "xaxis": {
              "backgroundcolor": "white",
              "gridcolor": "#DFE8F3",
              "gridwidth": 2,
              "linecolor": "#EBF0F8",
              "showbackground": true,
              "ticks": "",
              "zerolinecolor": "#EBF0F8"
             },
             "yaxis": {
              "backgroundcolor": "white",
              "gridcolor": "#DFE8F3",
              "gridwidth": 2,
              "linecolor": "#EBF0F8",
              "showbackground": true,
              "ticks": "",
              "zerolinecolor": "#EBF0F8"
             },
             "zaxis": {
              "backgroundcolor": "white",
              "gridcolor": "#DFE8F3",
              "gridwidth": 2,
              "linecolor": "#EBF0F8",
              "showbackground": true,
              "ticks": "",
              "zerolinecolor": "#EBF0F8"
             }
            },
            "shapedefaults": {
             "line": {
              "color": "#2a3f5f"
             }
            },
            "ternary": {
             "aaxis": {
              "gridcolor": "#DFE8F3",
              "linecolor": "#A2B1C6",
              "ticks": ""
             },
             "baxis": {
              "gridcolor": "#DFE8F3",
              "linecolor": "#A2B1C6",
              "ticks": ""
             },
             "bgcolor": "white",
             "caxis": {
              "gridcolor": "#DFE8F3",
              "linecolor": "#A2B1C6",
              "ticks": ""
             }
            },
            "title": {
             "x": 0.05
            },
            "xaxis": {
             "automargin": true,
             "gridcolor": "#EBF0F8",
             "linecolor": "#EBF0F8",
             "ticks": "",
             "title": {
              "standoff": 15
             },
             "zerolinecolor": "#EBF0F8",
             "zerolinewidth": 2
            },
            "yaxis": {
             "automargin": true,
             "gridcolor": "#EBF0F8",
             "linecolor": "#EBF0F8",
             "ticks": "",
             "title": {
              "standoff": 15
             },
             "zerolinecolor": "#EBF0F8",
             "zerolinewidth": 2
            }
           }
          },
          "xaxis": {
           "automargin": false,
           "linecolor": "#444",
           "linewidth": 2,
           "minor": {
            "tickmode": "linear",
            "ticks": "outside"
           },
           "mirror": true,
           "showline": true,
           "tickmode": "linear",
           "ticks": "outside",
           "zeroline": false
          },
          "yaxis": {
           "automargin": true,
           "linecolor": "#444",
           "linewidth": 2,
           "minor": {
            "tickmode": "linear",
            "ticks": "outside"
           },
           "mirror": true,
           "showline": true,
           "ticks": "outside",
           "zeroline": false
          }
         }
        },
        "width": 600,
        "xaxis": {
         "dtick": 0.2,
         "minor": {
          "dtick": 0.1,
          "tick0": 0
         },
         "range": [
          0,
          1
         ],
         "tick0": 0,
         "title": {
          "text": "DPR CV"
         }
        },
        "yaxis": {
         "dtick": 0.2,
         "minor": {
          "dtick": 0.1,
          "tick0": 0
         },
         "range": [
          0,
          1.02
         ],
         "tick0": 0,
         "title": {
          "text": "damage / hit points"
         }
        }
       }
      }
     },
     "metadata": {},
     "output_type": "display_data"
    }
   ],
   "source": [
    "# plots the average damage taken relative to max HP for a range of monster CoV values\n",
    "\n",
    "diff = 0.2 # deadly\n",
    "\n",
    "party_hp = 100\n",
    "party_dpr = 40\n",
    "party_size = 4\n",
    "pc_hp = party_hp/4\n",
    "pc_dpr = party_dpr/4\n",
    "pc_dpr_cv = 0.5\n",
    "\n",
    "mon_hp = 100\n",
    "mon_dpr = (party_hp*diff)/(mon_hp/party_dpr)\n",
    "\n",
    "# original\n",
    "pc_win_pct = []\n",
    "mon_win_pct = []\n",
    "pc_hp_loss = []\n",
    "pc_hp_loss_sigma = []\n",
    "mon_hp_loss = []\n",
    "mon_hp_loss_sigma = []\n",
    "mon_dpr_cvs = np.linspace(0.2, 0.8, 7)\n",
    "for mon_dpr_cv in mon_dpr_cvs:\n",
    "    #print(f'{mon_dpr_cv:.1f}')\n",
    "    combatants = [\n",
    "        cp.Combatant(\n",
    "            group='NPCs',\n",
    "            name='monster',\n",
    "            opponent='PCs',\n",
    "            level=5,\n",
    "            hit_points = mon_hp,\n",
    "            damage = [cp.gaussian_dice_distribution(mon_dpr, mon_dpr_cv*mon_dpr)],\n",
    "        ),\n",
    "        cp.Combatant(\n",
    "            group='PCs',\n",
    "            name='PC 1',\n",
    "            opponent='NPCs',\n",
    "            level=5,\n",
    "            hit_points = pc_hp,\n",
    "            damage = [cp.gaussian_dice_distribution(pc_dpr, pc_dpr_cv*pc_dpr)],\n",
    "        ),\n",
    "        cp.Combatant(\n",
    "            group='PCs',\n",
    "            name='PC 2',\n",
    "            opponent='NPCs',\n",
    "            level=5,\n",
    "            hit_points = pc_hp,\n",
    "            damage = [cp.gaussian_dice_distribution(pc_dpr, pc_dpr_cv*pc_dpr)],\n",
    "        ),\n",
    "        cp.Combatant(\n",
    "            group='PCs',\n",
    "            name='PC 3',\n",
    "            opponent='NPCs',\n",
    "            level=5,\n",
    "            hit_points = pc_hp,\n",
    "            damage = [cp.gaussian_dice_distribution(pc_dpr, pc_dpr_cv*pc_dpr)],\n",
    "        ),\n",
    "        cp.Combatant(\n",
    "            group='PCs',\n",
    "            name='PC 4',\n",
    "            opponent='NPCs',\n",
    "            level=5,\n",
    "            hit_points = pc_hp,\n",
    "            damage = [cp.gaussian_dice_distribution(pc_dpr, pc_dpr_cv*pc_dpr)],\n",
    "        ),\n",
    "    ]\n",
    "    e = cp.Encounter(combatants, initiative=['PC 1','PC 2','monster','PC 3','PC 4'], rounds=8)\n",
    "    pc_win_pct += [e.group_win_pct('PCs', method='approx')]\n",
    "    mon_win_pct += [e.group_win_pct('NPCs', method='approx')]\n",
    "\n",
    "    pc_hp_loss += [e.group_damage_mean('NPCs', method='approx', clip=True)/(party_size*pc_hp)]\n",
    "    pc_hp_loss_sigma += [e.group_damage_sigma('NPCs', method='approx', clip=True)/(party_size*pc_hp)]\n",
    "\n",
    "    mon_hp_loss += [e.group_damage_mean('PCs', method='approx', clip=True)/(mon_hp)]\n",
    "    mon_hp_loss_sigma += [e.group_damage_sigma('PCs', method='approx', clip=True)/(mon_hp)]\n",
    "\n",
    "\n",
    "\n",
    "# create figure\n",
    "fig = go.Figure(\n",
    "    layout=go.Layout(\n",
    "        template=tfb.FIG_TEMPLATE,\n",
    "        xaxis=dict(\n",
    "            title_text='DPR CV',\n",
    "            range=[0, 1],\n",
    "            tick0=0, dtick=0.2,\n",
    "            minor=dict(tick0=0, dtick=0.1),\n",
    "        ),\n",
    "        yaxis=dict(\n",
    "            title_text='damage / hit points',\n",
    "            range=[0,1.02],\n",
    "            #tickformat='.0%'\n",
    "            tick0=0, dtick=0.2,\n",
    "            minor=dict(tick0=0, dtick=0.1),\n",
    "        ),\n",
    "        legend=dict(\n",
    "            xanchor='left', yanchor='top',\n",
    "            x=0.00, y=1.00,\n",
    "            orientation='v',\n",
    "            tracegroupgap=0,\n",
    "        )\n",
    "    )\n",
    ")\n",
    "\n",
    "fig.add_trace(go.Scatter(\n",
    "    x=mon_dpr_cvs,\n",
    "    y=pc_hp_loss,\n",
    "    name=f'PCs',\n",
    "    #line_color=COLOR_LIST[i],\n",
    "    error_y=dict(\n",
    "        type='data',\n",
    "        symmetric=False,\n",
    "        array=pc_hp_loss_sigma,\n",
    "        arrayminus=pc_hp_loss_sigma,\n",
    "    ),\n",
    "    hovertemplate=\n",
    "        f'<b>PCs</b><br>'+\n",
    "        'monster CV %{x:.2f}<br>'+\n",
    "        'probability %{y:.1%}<extra></extra>',\n",
    "))\n",
    "\n",
    "fig.add_trace(go.Scatter(\n",
    "    x=mon_dpr_cvs,\n",
    "    y=mon_hp_loss,\n",
    "    name=f'NPCs',\n",
    "    #line_color=COLOR_LIST[i],\n",
    "    #error_y=dict(\n",
    "    #    type='data',\n",
    "    #    symmetric=True,\n",
    "    #    array=mon_hp_loss_sigma,\n",
    "    #),\n",
    "    hovertemplate=\n",
    "        f'<b>NPCs</b><br>'+\n",
    "        'monster CV %{x:.2f}<br>'+\n",
    "        'probability %{y:.1%}<extra></extra>',\n",
    "))\n",
    "\n",
    "fig.add_trace(go.Scatter(\n",
    "    x=mon_dpr_cvs,\n",
    "    y=np.array(pc_hp_loss_sigma)/np.array(pc_hp_loss),\n",
    "    name=f'sigma/mean',\n",
    "    #line_color=COLOR_LIST[i],\n",
    "    #error_y=dict(\n",
    "    #    type='data',\n",
    "    #    symmetric=True,\n",
    "    #    array=mon_hp_loss_sigma,\n",
    "    #),\n",
    "    hovertemplate=\n",
    "        f'<b>NPCs</b><br>'+\n",
    "        'monster CV %{x:.2f}<br>'+\n",
    "        'probability %{y:.1%}<extra></extra>',\n",
    "))\n",
    "\n",
    "\n",
    "# show figure\n",
    "fig.update_layout(width=600, height=450)\n",
    "fig.show(config=tfb.FIG_CONFIG)\n",
    "\n",
    "# save figures\n",
    "if SAVEFIGS:\n",
    "    fig.update_layout(autosize=True, width=None, height=None)\n",
    "    #tfb.save_fig_html(fig, format='large', name=f'./fig-example-dt-distribution-large')\n",
    "    #tfb.save_fig_html(fig, format='small', name=f'./fig-example-dt-distribution-small')"
   ]
  },
  {
   "cell_type": "code",
   "execution_count": 5,
   "metadata": {},
   "outputs": [
    {
     "data": {
      "application/vnd.plotly.v1+json": {
       "config": {
        "autosizable": true,
        "displayModeBar": "hover",
        "displaylogo": false,
        "doubleClick": "reset",
        "modeBarButtonsToRemove": [
         "select2d",
         "lasso2d",
         "zoom2d",
         "zoomIn2d",
         "zoomOut2d",
         "pan2d",
         "autoScale2d",
         "hoverClosestCartesian",
         "hoverCompareCartesian",
         "toggleSpikelines",
         "resetScale2d"
        ],
        "plotlyServerURL": "https://plot.ly",
        "responsive": true,
        "showAxisDragHandles": false,
        "toImageButtonOptions": {
         "filename": "tfb-plot",
         "format": "png",
         "height": 450,
         "scale": 2,
         "width": 600
        }
       },
       "data": [
        {
         "fill": "tozeroy",
         "fillcolor": "rgba(167, 167, 167, 0.15)",
         "hoverinfo": "none",
         "mode": "none",
         "showlegend": false,
         "type": "scatter",
         "x": [
          0,
          0.15
         ],
         "y": [
          1,
          1
         ]
        },
        {
         "fill": "tozeroy",
         "fillcolor": "rgba(  0, 199, 151, 0.15)",
         "hoverinfo": "none",
         "mode": "none",
         "showlegend": false,
         "type": "scatter",
         "x": [
          0.15,
          0.3
         ],
         "y": [
          1,
          1
         ]
        },
        {
         "fill": "tozeroy",
         "fillcolor": "rgba(245, 166,  35, 0.15)",
         "hoverinfo": "none",
         "mode": "none",
         "showlegend": false,
         "type": "scatter",
         "x": [
          0.3,
          0.44999999999999996
         ],
         "y": [
          1,
          1
         ]
        },
        {
         "fill": "tozeroy",
         "fillcolor": "rgba(228,  90,  29, 0.15)",
         "hoverinfo": "none",
         "mode": "none",
         "showlegend": false,
         "type": "scatter",
         "x": [
          0.45,
          0.7
         ],
         "y": [
          1,
          1
         ]
        },
        {
         "fill": "tozeroy",
         "fillcolor": "rgba(144,  79, 213, 0.15)",
         "hoverinfo": "none",
         "mode": "none",
         "showlegend": false,
         "type": "scatter",
         "x": [
          0.7,
          1
         ],
         "y": [
          1,
          1
         ]
        },
        {
         "hovertemplate": "<b>tier 1</b><br>difficulty %{x:.2f}<br>HP lost %{y:.1%}<extra></extra>",
         "line": {
          "color": "#1f77b4"
         },
         "mode": "lines",
         "name": "tier 1",
         "type": "scatter",
         "x": [
          0.05,
          0.07435897435897436,
          0.09871794871794873,
          0.12307692307692308,
          0.14743589743589744,
          0.1717948717948718,
          0.19615384615384618,
          0.2205128205128205,
          0.2448717948717949,
          0.2692307692307692,
          0.2935897435897436,
          0.31794871794871793,
          0.3423076923076923,
          0.36666666666666664,
          0.391025641025641,
          0.41538461538461535,
          0.43974358974358974,
          0.4641025641025641,
          0.48846153846153845,
          0.5128205128205129,
          0.5371794871794872,
          0.5615384615384615,
          0.5858974358974359,
          0.6102564102564103,
          0.6346153846153847,
          0.6589743589743591,
          0.6833333333333333,
          0.7076923076923077,
          0.7320512820512821,
          0.7564102564102565,
          0.7807692307692308,
          0.8051282051282052,
          0.8294871794871795,
          0.8538461538461539,
          0.8782051282051283,
          0.9025641025641026,
          0.926923076923077,
          0.9512820512820513,
          0.9756410256410257,
          1
         ],
         "y": [
          0.05106550094545881,
          0.07594356590953245,
          0.1008216299718101,
          0.12569969457059613,
          0.1505777601124283,
          0.17545582395754644,
          0.2003338693797404,
          0.22521163308199907,
          0.2500870009284682,
          0.27495017879969286,
          0.2997711389315612,
          0.32448276972889256,
          0.3489686329232604,
          0.3730654444906493,
          0.3965819122965031,
          0.419324945073826,
          0.4411244264402795,
          0.4618528388803287,
          0.48143809863648085,
          0.4998677146623037,
          0.5171837383883373,
          0.5334706412451238,
          0.5488399707431404,
          0.5634155321348823,
          0.5773215081275436,
          0.5906744097127313,
          0.603578596416349,
          0.6161244943140596,
          0.6283885630794197,
          0.6404342297800685,
          0.652313226876399,
          0.6640669930795867,
          0.6757280113253095,
          0.687320961805862,
          0.6988637928301794,
          0.7103686466751047,
          0.7218427319171201,
          0.733289111975037,
          0.7447074555987626,
          0.7560947198361824
         ]
        },
        {
         "hovertemplate": "<b>tier 2</b><br>difficulty %{x:.2f}<br>HP lost %{y:.1%}<extra></extra>",
         "line": {
          "color": "#ff7f0e"
         },
         "mode": "lines",
         "name": "tier 2",
         "type": "scatter",
         "x": [
          0.05,
          0.07435897435897436,
          0.09871794871794873,
          0.12307692307692308,
          0.14743589743589744,
          0.1717948717948718,
          0.19615384615384618,
          0.2205128205128205,
          0.2448717948717949,
          0.2692307692307692,
          0.2935897435897436,
          0.31794871794871793,
          0.3423076923076923,
          0.36666666666666664,
          0.391025641025641,
          0.41538461538461535,
          0.43974358974358974,
          0.4641025641025641,
          0.48846153846153845,
          0.5128205128205129,
          0.5371794871794872,
          0.5615384615384615,
          0.5858974358974359,
          0.6102564102564103,
          0.6346153846153847,
          0.6589743589743591,
          0.6833333333333333,
          0.7076923076923077,
          0.7320512820512821,
          0.7564102564102565,
          0.7807692307692308,
          0.8051282051282052,
          0.8294871794871795,
          0.8538461538461539,
          0.8782051282051283,
          0.9025641025641026,
          0.926923076923077,
          0.9512820512820513,
          0.9756410256410257,
          1
         ],
         "y": [
          0.050582151379563046,
          0.07522473686779443,
          0.09986732274018387,
          0.12450990792296855,
          0.14915249583982176,
          0.1737950822119724,
          0.1984376666161673,
          0.22308025274435245,
          0.247722838254265,
          0.2723653903391148,
          0.2970075903337898,
          0.321647497917389,
          0.34627738363712546,
          0.37087453844043117,
          0.39538776050806496,
          0.4197271770640845,
          0.4437665754594163,
          0.4673570340211088,
          0.49034277871070203,
          0.5125745084541726,
          0.5339223895885304,
          0.5542906167806592,
          0.5736310240566234,
          0.5919505448741761,
          0.609309413491506,
          0.6258104936208597,
          0.6415832783326784,
          0.656766863945486,
          0.6714952928836242,
          0.6858872595592928,
          0.7000404778875507,
          0.7140300942291811,
          0.7279100037643896,
          0.7417158429928585,
          0.7554687623156622,
          0.7691790945139373,
          0.7828496394090575,
          0.7964782899689363,
          0.8100599755723528,
          0.8235879941281189
         ]
        },
        {
         "hovertemplate": "<b>tier 3</b><br>difficulty %{x:.2f}<br>HP lost %{y:.1%}<extra></extra>",
         "line": {
          "color": "#2ca02c"
         },
         "mode": "lines",
         "name": "tier 3",
         "type": "scatter",
         "x": [
          0.05,
          0.07435897435897436,
          0.09871794871794873,
          0.12307692307692308,
          0.14743589743589744,
          0.1717948717948718,
          0.19615384615384618,
          0.2205128205128205,
          0.2448717948717949,
          0.2692307692307692,
          0.2935897435897436,
          0.31794871794871793,
          0.3423076923076923,
          0.36666666666666664,
          0.391025641025641,
          0.41538461538461535,
          0.43974358974358974,
          0.4641025641025641,
          0.48846153846153845,
          0.5128205128205129,
          0.5371794871794872,
          0.5615384615384615,
          0.5858974358974359,
          0.6102564102564103,
          0.6346153846153847,
          0.6589743589743591,
          0.6833333333333333,
          0.7076923076923077,
          0.7320512820512821,
          0.7564102564102565,
          0.7807692307692308,
          0.8051282051282052,
          0.8294871794871795,
          0.8538461538461539,
          0.8782051282051283,
          0.9025641025641026,
          0.926923076923077,
          0.9512820512820513,
          0.9756410256410257,
          1
         ],
         "y": [
          0.050388912009040866,
          0.07490368781927959,
          0.0994411031136548,
          0.12397851751913028,
          0.1485159328947087,
          0.17305334787526774,
          0.197590762935972,
          0.22212817689355696,
          0.24666559249259315,
          0.27120300867075403,
          0.2957404222406531,
          0.3202778378287016,
          0.34481524880417924,
          0.369352649297546,
          0.3938898944777053,
          0.4184259765812315,
          0.4429559136245167,
          0.46746339062489467,
          0.4919121955392174,
          0.516244241506207,
          0.5403865649461851,
          0.5642572425816571,
          0.5877597781728081,
          0.6107698858117543,
          0.63313097784383,
          0.654671517756074,
          0.6752422381070307,
          0.6947581552168972,
          0.7132278321522415,
          0.7307594141498154,
          0.7475432669035884,
          0.763818732074019,
          0.7798354389102277,
          0.795818490892746,
          0.8119433462084682,
          0.8283225880121685,
          0.8450037950014269,
          0.8619759942244747,
          0.879181508296854,
          0.8965301975608194
         ]
        },
        {
         "hovertemplate": "<b>tier 4</b><br>difficulty %{x:.2f}<br>HP lost %{y:.1%}<extra></extra>",
         "line": {
          "color": "#d62728"
         },
         "mode": "lines",
         "name": "tier 4",
         "type": "scatter",
         "x": [
          0.05,
          0.07435897435897436,
          0.09871794871794873,
          0.12307692307692308,
          0.14743589743589744,
          0.1717948717948718,
          0.19615384615384618,
          0.2205128205128205,
          0.2448717948717949,
          0.2692307692307692,
          0.2935897435897436,
          0.31794871794871793,
          0.3423076923076923,
          0.36666666666666664,
          0.391025641025641,
          0.41538461538461535,
          0.43974358974358974,
          0.4641025641025641,
          0.48846153846153845,
          0.5128205128205129,
          0.5371794871794872,
          0.5615384615384615,
          0.5858974358974359,
          0.6102564102564103,
          0.6346153846153847,
          0.6589743589743591,
          0.6833333333333333,
          0.7076923076923077,
          0.7320512820512821,
          0.7564102564102565,
          0.7807692307692308,
          0.8051282051282052,
          0.8294871794871795,
          0.8538461538461539,
          0.8782051282051283,
          0.9025641025641026,
          0.926923076923077,
          0.9512820512820513,
          0.9756410256410257,
          1
         ],
         "y": [
          0.05457708047717801,
          0.07430685802275828,
          0.09874902489308589,
          0.12315358262411237,
          0.14752803884072563,
          0.17190223586579492,
          0.19627643355041952,
          0.2206506313586047,
          0.24502482762550218,
          0.2693990259432057,
          0.29377322323222305,
          0.3181474217119722,
          0.34252161948197485,
          0.36689581588991116,
          0.3912700142189337,
          0.41564421232117305,
          0.4400184112950182,
          0.4643926074271237,
          0.4887668046649133,
          0.5131410006063909,
          0.537515167743173,
          0.5618890828145543,
          0.5862617723404191,
          0.6106308175550823,
          0.6349927749025492,
          0.6593449797588908,
          0.6836836636779056,
          0.7079873368579301,
          0.7321755359390325,
          0.7560519130354798,
          0.7792743058259876,
          0.8014090498536365,
          0.8220862830907321,
          0.8411951154254741,
          0.859011053182533,
          0.8761782673195458,
          0.8935513639584848,
          0.9119714209237774,
          0.9320678666254097,
          0.9541457948052579
         ]
        },
        {
         "hoverinfo": "skip",
         "line": {
          "color": "black",
          "dash": "dash"
         },
         "mode": "lines",
         "name": "1-to-1",
         "showlegend": false,
         "type": "scatter",
         "x": [
          0,
          1
         ],
         "y": [
          0,
          1
         ]
        }
       ],
       "layout": {
        "annotations": [
         {
          "showarrow": false,
          "text": "Trivial",
          "x": 0.075,
          "y": 0.5
         },
         {
          "showarrow": false,
          "text": "Easy",
          "x": 0.22499999999999998,
          "y": 0.5
         },
         {
          "showarrow": false,
          "text": "Medium",
          "x": 0.375,
          "y": 0.5
         },
         {
          "showarrow": false,
          "text": "Hard",
          "x": 0.575,
          "y": 0.5
         },
         {
          "showarrow": false,
          "text": "Deadly",
          "x": 0.85,
          "y": 0.5
         }
        ],
        "height": 450,
        "legend": {
         "bgcolor": "rgba(0,0,0,0)",
         "orientation": "v",
         "tracegroupgap": 0,
         "x": 0.01,
         "xanchor": "left",
         "y": 0.99,
         "yanchor": "top"
        },
        "template": {
         "layout": {
          "autosize": false,
          "font": {
           "family": "sans-serif",
           "size": 14
          },
          "hoverlabel": {
           "align": "left"
          },
          "hovermode": "closest",
          "margin": {
           "b": 55,
           "l": 60,
           "pad": 4,
           "r": 25,
           "t": 20
          },
          "template": {
           "data": {
            "bar": [
             {
              "error_x": {
               "color": "#2a3f5f"
              },
              "error_y": {
               "color": "#2a3f5f"
              },
              "marker": {
               "line": {
                "color": "white",
                "width": 0.5
               },
               "pattern": {
                "fillmode": "overlay",
                "size": 10,
                "solidity": 0.2
               }
              },
              "type": "bar"
             }
            ],
            "barpolar": [
             {
              "marker": {
               "line": {
                "color": "white",
                "width": 0.5
               },
               "pattern": {
                "fillmode": "overlay",
                "size": 10,
                "solidity": 0.2
               }
              },
              "type": "barpolar"
             }
            ],
            "carpet": [
             {
              "aaxis": {
               "endlinecolor": "#2a3f5f",
               "gridcolor": "#C8D4E3",
               "linecolor": "#C8D4E3",
               "minorgridcolor": "#C8D4E3",
               "startlinecolor": "#2a3f5f"
              },
              "baxis": {
               "endlinecolor": "#2a3f5f",
               "gridcolor": "#C8D4E3",
               "linecolor": "#C8D4E3",
               "minorgridcolor": "#C8D4E3",
               "startlinecolor": "#2a3f5f"
              },
              "type": "carpet"
             }
            ],
            "choropleth": [
             {
              "colorbar": {
               "outlinewidth": 0,
               "ticks": ""
              },
              "type": "choropleth"
             }
            ],
            "contour": [
             {
              "colorbar": {
               "outlinewidth": 0,
               "ticks": ""
              },
              "colorscale": [
               [
                0,
                "#0d0887"
               ],
               [
                0.1111111111111111,
                "#46039f"
               ],
               [
                0.2222222222222222,
                "#7201a8"
               ],
               [
                0.3333333333333333,
                "#9c179e"
               ],
               [
                0.4444444444444444,
                "#bd3786"
               ],
               [
                0.5555555555555556,
                "#d8576b"
               ],
               [
                0.6666666666666666,
                "#ed7953"
               ],
               [
                0.7777777777777778,
                "#fb9f3a"
               ],
               [
                0.8888888888888888,
                "#fdca26"
               ],
               [
                1,
                "#f0f921"
               ]
              ],
              "type": "contour"
             }
            ],
            "contourcarpet": [
             {
              "colorbar": {
               "outlinewidth": 0,
               "ticks": ""
              },
              "type": "contourcarpet"
             }
            ],
            "heatmap": [
             {
              "colorbar": {
               "outlinewidth": 0,
               "ticks": ""
              },
              "colorscale": [
               [
                0,
                "#0d0887"
               ],
               [
                0.1111111111111111,
                "#46039f"
               ],
               [
                0.2222222222222222,
                "#7201a8"
               ],
               [
                0.3333333333333333,
                "#9c179e"
               ],
               [
                0.4444444444444444,
                "#bd3786"
               ],
               [
                0.5555555555555556,
                "#d8576b"
               ],
               [
                0.6666666666666666,
                "#ed7953"
               ],
               [
                0.7777777777777778,
                "#fb9f3a"
               ],
               [
                0.8888888888888888,
                "#fdca26"
               ],
               [
                1,
                "#f0f921"
               ]
              ],
              "type": "heatmap"
             }
            ],
            "heatmapgl": [
             {
              "colorbar": {
               "outlinewidth": 0,
               "ticks": ""
              },
              "colorscale": [
               [
                0,
                "#0d0887"
               ],
               [
                0.1111111111111111,
                "#46039f"
               ],
               [
                0.2222222222222222,
                "#7201a8"
               ],
               [
                0.3333333333333333,
                "#9c179e"
               ],
               [
                0.4444444444444444,
                "#bd3786"
               ],
               [
                0.5555555555555556,
                "#d8576b"
               ],
               [
                0.6666666666666666,
                "#ed7953"
               ],
               [
                0.7777777777777778,
                "#fb9f3a"
               ],
               [
                0.8888888888888888,
                "#fdca26"
               ],
               [
                1,
                "#f0f921"
               ]
              ],
              "type": "heatmapgl"
             }
            ],
            "histogram": [
             {
              "marker": {
               "pattern": {
                "fillmode": "overlay",
                "size": 10,
                "solidity": 0.2
               }
              },
              "type": "histogram"
             }
            ],
            "histogram2d": [
             {
              "colorbar": {
               "outlinewidth": 0,
               "ticks": ""
              },
              "colorscale": [
               [
                0,
                "#0d0887"
               ],
               [
                0.1111111111111111,
                "#46039f"
               ],
               [
                0.2222222222222222,
                "#7201a8"
               ],
               [
                0.3333333333333333,
                "#9c179e"
               ],
               [
                0.4444444444444444,
                "#bd3786"
               ],
               [
                0.5555555555555556,
                "#d8576b"
               ],
               [
                0.6666666666666666,
                "#ed7953"
               ],
               [
                0.7777777777777778,
                "#fb9f3a"
               ],
               [
                0.8888888888888888,
                "#fdca26"
               ],
               [
                1,
                "#f0f921"
               ]
              ],
              "type": "histogram2d"
             }
            ],
            "histogram2dcontour": [
             {
              "colorbar": {
               "outlinewidth": 0,
               "ticks": ""
              },
              "colorscale": [
               [
                0,
                "#0d0887"
               ],
               [
                0.1111111111111111,
                "#46039f"
               ],
               [
                0.2222222222222222,
                "#7201a8"
               ],
               [
                0.3333333333333333,
                "#9c179e"
               ],
               [
                0.4444444444444444,
                "#bd3786"
               ],
               [
                0.5555555555555556,
                "#d8576b"
               ],
               [
                0.6666666666666666,
                "#ed7953"
               ],
               [
                0.7777777777777778,
                "#fb9f3a"
               ],
               [
                0.8888888888888888,
                "#fdca26"
               ],
               [
                1,
                "#f0f921"
               ]
              ],
              "type": "histogram2dcontour"
             }
            ],
            "mesh3d": [
             {
              "colorbar": {
               "outlinewidth": 0,
               "ticks": ""
              },
              "type": "mesh3d"
             }
            ],
            "parcoords": [
             {
              "line": {
               "colorbar": {
                "outlinewidth": 0,
                "ticks": ""
               }
              },
              "type": "parcoords"
             }
            ],
            "pie": [
             {
              "automargin": true,
              "type": "pie"
             }
            ],
            "scatter": [
             {
              "fillpattern": {
               "fillmode": "overlay",
               "size": 10,
               "solidity": 0.2
              },
              "type": "scatter"
             }
            ],
            "scatter3d": [
             {
              "line": {
               "colorbar": {
                "outlinewidth": 0,
                "ticks": ""
               }
              },
              "marker": {
               "colorbar": {
                "outlinewidth": 0,
                "ticks": ""
               }
              },
              "type": "scatter3d"
             }
            ],
            "scattercarpet": [
             {
              "marker": {
               "colorbar": {
                "outlinewidth": 0,
                "ticks": ""
               }
              },
              "type": "scattercarpet"
             }
            ],
            "scattergeo": [
             {
              "marker": {
               "colorbar": {
                "outlinewidth": 0,
                "ticks": ""
               }
              },
              "type": "scattergeo"
             }
            ],
            "scattergl": [
             {
              "marker": {
               "colorbar": {
                "outlinewidth": 0,
                "ticks": ""
               }
              },
              "type": "scattergl"
             }
            ],
            "scattermapbox": [
             {
              "marker": {
               "colorbar": {
                "outlinewidth": 0,
                "ticks": ""
               }
              },
              "type": "scattermapbox"
             }
            ],
            "scatterpolar": [
             {
              "marker": {
               "colorbar": {
                "outlinewidth": 0,
                "ticks": ""
               }
              },
              "type": "scatterpolar"
             }
            ],
            "scatterpolargl": [
             {
              "marker": {
               "colorbar": {
                "outlinewidth": 0,
                "ticks": ""
               }
              },
              "type": "scatterpolargl"
             }
            ],
            "scatterternary": [
             {
              "marker": {
               "colorbar": {
                "outlinewidth": 0,
                "ticks": ""
               }
              },
              "type": "scatterternary"
             }
            ],
            "surface": [
             {
              "colorbar": {
               "outlinewidth": 0,
               "ticks": ""
              },
              "colorscale": [
               [
                0,
                "#0d0887"
               ],
               [
                0.1111111111111111,
                "#46039f"
               ],
               [
                0.2222222222222222,
                "#7201a8"
               ],
               [
                0.3333333333333333,
                "#9c179e"
               ],
               [
                0.4444444444444444,
                "#bd3786"
               ],
               [
                0.5555555555555556,
                "#d8576b"
               ],
               [
                0.6666666666666666,
                "#ed7953"
               ],
               [
                0.7777777777777778,
                "#fb9f3a"
               ],
               [
                0.8888888888888888,
                "#fdca26"
               ],
               [
                1,
                "#f0f921"
               ]
              ],
              "type": "surface"
             }
            ],
            "table": [
             {
              "cells": {
               "fill": {
                "color": "#EBF0F8"
               },
               "line": {
                "color": "white"
               }
              },
              "header": {
               "fill": {
                "color": "#C8D4E3"
               },
               "line": {
                "color": "white"
               }
              },
              "type": "table"
             }
            ]
           },
           "layout": {
            "annotationdefaults": {
             "arrowcolor": "#2a3f5f",
             "arrowhead": 0,
             "arrowwidth": 1
            },
            "autotypenumbers": "strict",
            "coloraxis": {
             "colorbar": {
              "outlinewidth": 0,
              "ticks": ""
             }
            },
            "colorscale": {
             "diverging": [
              [
               0,
               "#8e0152"
              ],
              [
               0.1,
               "#c51b7d"
              ],
              [
               0.2,
               "#de77ae"
              ],
              [
               0.3,
               "#f1b6da"
              ],
              [
               0.4,
               "#fde0ef"
              ],
              [
               0.5,
               "#f7f7f7"
              ],
              [
               0.6,
               "#e6f5d0"
              ],
              [
               0.7,
               "#b8e186"
              ],
              [
               0.8,
               "#7fbc41"
              ],
              [
               0.9,
               "#4d9221"
              ],
              [
               1,
               "#276419"
              ]
             ],
             "sequential": [
              [
               0,
               "#0d0887"
              ],
              [
               0.1111111111111111,
               "#46039f"
              ],
              [
               0.2222222222222222,
               "#7201a8"
              ],
              [
               0.3333333333333333,
               "#9c179e"
              ],
              [
               0.4444444444444444,
               "#bd3786"
              ],
              [
               0.5555555555555556,
               "#d8576b"
              ],
              [
               0.6666666666666666,
               "#ed7953"
              ],
              [
               0.7777777777777778,
               "#fb9f3a"
              ],
              [
               0.8888888888888888,
               "#fdca26"
              ],
              [
               1,
               "#f0f921"
              ]
             ],
             "sequentialminus": [
              [
               0,
               "#0d0887"
              ],
              [
               0.1111111111111111,
               "#46039f"
              ],
              [
               0.2222222222222222,
               "#7201a8"
              ],
              [
               0.3333333333333333,
               "#9c179e"
              ],
              [
               0.4444444444444444,
               "#bd3786"
              ],
              [
               0.5555555555555556,
               "#d8576b"
              ],
              [
               0.6666666666666666,
               "#ed7953"
              ],
              [
               0.7777777777777778,
               "#fb9f3a"
              ],
              [
               0.8888888888888888,
               "#fdca26"
              ],
              [
               1,
               "#f0f921"
              ]
             ]
            },
            "colorway": [
             "#636efa",
             "#EF553B",
             "#00cc96",
             "#ab63fa",
             "#FFA15A",
             "#19d3f3",
             "#FF6692",
             "#B6E880",
             "#FF97FF",
             "#FECB52"
            ],
            "font": {
             "color": "#2a3f5f"
            },
            "geo": {
             "bgcolor": "white",
             "lakecolor": "white",
             "landcolor": "white",
             "showlakes": true,
             "showland": true,
             "subunitcolor": "#C8D4E3"
            },
            "hoverlabel": {
             "align": "left"
            },
            "hovermode": "closest",
            "mapbox": {
             "style": "light"
            },
            "paper_bgcolor": "white",
            "plot_bgcolor": "white",
            "polar": {
             "angularaxis": {
              "gridcolor": "#EBF0F8",
              "linecolor": "#EBF0F8",
              "ticks": ""
             },
             "bgcolor": "white",
             "radialaxis": {
              "gridcolor": "#EBF0F8",
              "linecolor": "#EBF0F8",
              "ticks": ""
             }
            },
            "scene": {
             "xaxis": {
              "backgroundcolor": "white",
              "gridcolor": "#DFE8F3",
              "gridwidth": 2,
              "linecolor": "#EBF0F8",
              "showbackground": true,
              "ticks": "",
              "zerolinecolor": "#EBF0F8"
             },
             "yaxis": {
              "backgroundcolor": "white",
              "gridcolor": "#DFE8F3",
              "gridwidth": 2,
              "linecolor": "#EBF0F8",
              "showbackground": true,
              "ticks": "",
              "zerolinecolor": "#EBF0F8"
             },
             "zaxis": {
              "backgroundcolor": "white",
              "gridcolor": "#DFE8F3",
              "gridwidth": 2,
              "linecolor": "#EBF0F8",
              "showbackground": true,
              "ticks": "",
              "zerolinecolor": "#EBF0F8"
             }
            },
            "shapedefaults": {
             "line": {
              "color": "#2a3f5f"
             }
            },
            "ternary": {
             "aaxis": {
              "gridcolor": "#DFE8F3",
              "linecolor": "#A2B1C6",
              "ticks": ""
             },
             "baxis": {
              "gridcolor": "#DFE8F3",
              "linecolor": "#A2B1C6",
              "ticks": ""
             },
             "bgcolor": "white",
             "caxis": {
              "gridcolor": "#DFE8F3",
              "linecolor": "#A2B1C6",
              "ticks": ""
             }
            },
            "title": {
             "x": 0.05
            },
            "xaxis": {
             "automargin": true,
             "gridcolor": "#EBF0F8",
             "linecolor": "#EBF0F8",
             "ticks": "",
             "title": {
              "standoff": 15
             },
             "zerolinecolor": "#EBF0F8",
             "zerolinewidth": 2
            },
            "yaxis": {
             "automargin": true,
             "gridcolor": "#EBF0F8",
             "linecolor": "#EBF0F8",
             "ticks": "",
             "title": {
              "standoff": 15
             },
             "zerolinecolor": "#EBF0F8",
             "zerolinewidth": 2
            }
           }
          },
          "xaxis": {
           "automargin": false,
           "linecolor": "#444",
           "linewidth": 2,
           "minor": {
            "tickmode": "linear",
            "ticks": "outside"
           },
           "mirror": true,
           "showline": true,
           "tickmode": "linear",
           "ticks": "outside",
           "zeroline": false
          },
          "yaxis": {
           "automargin": true,
           "linecolor": "#444",
           "linewidth": 2,
           "minor": {
            "tickmode": "linear",
            "ticks": "outside"
           },
           "mirror": true,
           "showline": true,
           "ticks": "outside",
           "zeroline": false
          }
         }
        },
        "width": 600,
        "xaxis": {
         "dtick": 0.2,
         "minor": {
          "dtick": 0.1,
          "tick0": 0
         },
         "range": [
          0,
          1
         ],
         "tick0": 0,
         "title": {
          "text": "encounter difficulty"
         }
        },
        "yaxis": {
         "dtick": 0.2,
         "minor": {
          "dtick": 0.1,
          "tick0": 0
         },
         "range": [
          -0.01,
          1.01
         ],
         "tick0": 0,
         "title": {
          "text": "damage taken / hit points"
         }
        }
       }
      }
     },
     "metadata": {},
     "output_type": "display_data"
    }
   ],
   "source": [
    "# plots the average damage taken by the PCs and monsters for a range of difficulties\n",
    "\n",
    "# create figure\n",
    "fig = go.Figure(\n",
    "    layout=go.Layout(\n",
    "        template=tfb.FIG_TEMPLATE,\n",
    "        xaxis=dict(\n",
    "            title_text='encounter difficulty',\n",
    "            range=[0.0, 1.0],\n",
    "            tick0=0, dtick=0.2,\n",
    "            minor=dict(tick0=0, dtick=0.1),\n",
    "        ),\n",
    "        yaxis=dict(\n",
    "            title_text='damage taken / hit points',\n",
    "            range=[-0.01,1.01],\n",
    "            #tickformat='.0%'\n",
    "            tick0=0, dtick=0.2,\n",
    "            minor=dict(tick0=0, dtick=0.1),\n",
    "        ),\n",
    "        legend=dict(\n",
    "            xanchor='left', yanchor='top',\n",
    "            x=0.01, y=0.99,\n",
    "            orientation='v',\n",
    "            tracegroupgap=0,\n",
    "            bgcolor='rgba(0,0,0,0)',\n",
    "        )\n",
    "    )\n",
    ")\n",
    "\n",
    "# plot difficulty ranges\n",
    "thresholds = [\n",
    "    ('Trivial', 0.00, 0.15, 'rgba(167, 167, 167, 0.15)'),\n",
    "    ('Easy',    0.15, 0.15, 'rgba(  0, 199, 151, 0.15)'),\n",
    "    ('Medium',  0.30, 0.15, 'rgba(245, 166,  35, 0.15)'),\n",
    "    ('Hard',    0.45, 0.25, 'rgba(228,  90,  29, 0.15)'),\n",
    "    ('Deadly',  0.70, 0.30, 'rgba(144,  79, 213, 0.15)'), #rgba(213,  79,  79, 0.2)'\n",
    "]\n",
    "for name, diff, dx, color in thresholds:\n",
    "    fig.add_trace(go.Scatter(\n",
    "        x=[diff, diff+dx], \n",
    "        y=[1.0, 1.0],\n",
    "        mode='none',\n",
    "        fill='tozeroy', \n",
    "        showlegend=False,\n",
    "        #line_color=color,\n",
    "        #marker_color=color,\n",
    "        fillcolor=color,\n",
    "        #hoveron = 'points+fills', # select where hover is active\n",
    "        hoverinfo='none'\n",
    "    ))\n",
    "    fig.add_annotation(\n",
    "        x=diff + dx/2, \n",
    "        y=0.5,\n",
    "        text=name,\n",
    "        showarrow=False,\n",
    "    )\n",
    "\n",
    "tiers = [\n",
    "    {\n",
    "        'name': 'tier 1',\n",
    "        'cv': 0.8,\n",
    "        'dash': 'solid',\n",
    "    },\n",
    "    {\n",
    "        'name': 'tier 2',\n",
    "        'cv': 0.6,\n",
    "        'dash': 'dash',\n",
    "    },\n",
    "    {\n",
    "        'name': 'tier 3',\n",
    "        'cv': 0.4,\n",
    "        'dash': 'dashdot',\n",
    "    },\n",
    "    {\n",
    "        'name': 'tier 4',\n",
    "        'cv': 0.2,\n",
    "        'dash': 'dashdot',\n",
    "    },\n",
    "]\n",
    "\n",
    "colors = iter(COLOR_LIST)\n",
    "difficulties = list(np.linspace(0.05, 1.0, 40))\n",
    "for tier in tiers:\n",
    "    pc_win_pct = []\n",
    "    mon_win_pct = []\n",
    "    pc_hp_loss = []\n",
    "    pc_hp_loss_sigma = []\n",
    "    mon_hp_loss = []\n",
    "    mon_hp_loss_sigma = []\n",
    "    for diff in difficulties:\n",
    "        party_hp = 100\n",
    "        pc_r_win = 3\n",
    "        pc_dpr_cv = tier['cv']\n",
    "\n",
    "        mon_hp = 100\n",
    "        mon_r_win = pc_r_win/diff\n",
    "        mon_dpr_cv = tier['cv']\n",
    "\n",
    "\n",
    "        party_dpr = mon_hp/pc_r_win\n",
    "        party_size = 4\n",
    "        pc_hp = party_hp/party_size\n",
    "        pc_dpr = party_dpr/party_size\n",
    "\n",
    "        mon_dpr = party_hp/mon_r_win\n",
    "\n",
    "        \n",
    "        combatants = [\n",
    "            cp.Combatant(\n",
    "                group='NPCs',\n",
    "                name='monster',\n",
    "                opponent='PCs',\n",
    "                level=5,\n",
    "                hit_points = mon_hp,\n",
    "                damage = [cp.gaussian_dice_distribution(mon_dpr, mon_dpr_cv*mon_dpr)],\n",
    "            ),\n",
    "            cp.Combatant(\n",
    "                group='PCs',\n",
    "                name='PC 1',\n",
    "                opponent='NPCs',\n",
    "                level=5,\n",
    "                hit_points = pc_hp,\n",
    "                damage = [cp.gaussian_dice_distribution(pc_dpr, pc_dpr_cv*pc_dpr)],\n",
    "            ),\n",
    "            cp.Combatant(\n",
    "                group='PCs',\n",
    "                name='PC 2',\n",
    "                opponent='NPCs',\n",
    "                level=5,\n",
    "                hit_points = pc_hp,\n",
    "                damage = [cp.gaussian_dice_distribution(pc_dpr, pc_dpr_cv*pc_dpr)],\n",
    "            ),\n",
    "            cp.Combatant(\n",
    "                group='PCs',\n",
    "                name='PC 3',\n",
    "                opponent='NPCs',\n",
    "                level=5,\n",
    "                hit_points = pc_hp,\n",
    "                damage = [cp.gaussian_dice_distribution(pc_dpr, pc_dpr_cv*pc_dpr)],\n",
    "            ),\n",
    "            cp.Combatant(\n",
    "                group='PCs',\n",
    "                name='PC 4',\n",
    "                opponent='NPCs',\n",
    "                level=5,\n",
    "                hit_points = pc_hp,\n",
    "                damage = [cp.gaussian_dice_distribution(pc_dpr, pc_dpr_cv*pc_dpr)],\n",
    "            ),\n",
    "        ]\n",
    "        e = cp.Encounter(combatants, initiative=['PC 1','PC 2','monster','PC 3','PC 4'], rounds=10)\n",
    "        pc_win_pct += [e.group_win_pct('PCs', method='approx')]\n",
    "        mon_win_pct += [e.group_win_pct('NPCs', method='approx')]\n",
    "\n",
    "        pc_hp_loss += [e.group_damage_mean('NPCs', method='approx', clip=False)/(party_size*pc_hp)]\n",
    "        #pc_hp_loss_sigma += [e.group_damage_sigma('NPCs', method='approx', clip=True)/(party_size*pc_hp)]\n",
    "\n",
    "        #mon_hp_loss += [e.group_damage_mean('PCs', method='approx', clip=True)/(mon_hp)]\n",
    "        #mon_hp_loss_sigma += [e.group_damage_sigma('PCs', method='approx', clip=True)/(mon_hp)]\n",
    "\n",
    "\n",
    "    # plot data\n",
    "    fig.add_trace(go.Scatter(\n",
    "        x=difficulties,\n",
    "        y=pc_hp_loss,\n",
    "        name=tier['name'],\n",
    "        mode='lines',\n",
    "        line_color=next(colors),\n",
    "        hovertemplate=\n",
    "            f'<b>' + tier['name'] + '</b><br>'+\n",
    "            'difficulty %{x:.2f}<br>'+\n",
    "            'HP lost %{y:.1%}<extra></extra>',\n",
    "    ))\n",
    "\n",
    "    \"\"\"fig.add_trace(go.Scatter(\n",
    "        x=difficulties,\n",
    "        y=mon_hp_loss,\n",
    "        name=f'NPCs',\n",
    "        mode='lines',\n",
    "        line_color=COLOR_LIST[1],\n",
    "        hovertemplate=\n",
    "            f'<b>NPCs</b><br>'+\n",
    "            'difficulty %{x:.2f}<br>'+\n",
    "            'HP lost %{y:.1%}<extra></extra>',\n",
    "    ))\"\"\"\n",
    "\n",
    "fig.add_trace(go.Scatter(\n",
    "    x=[0,1],\n",
    "    y=[0,1],\n",
    "    name=f'1-to-1',\n",
    "    showlegend=False,\n",
    "    mode='lines',\n",
    "    line_color='black',\n",
    "    line_dash='dash',\n",
    "    hoverinfo='skip',\n",
    "))\n",
    "\n",
    "# show figure\n",
    "fig.update_layout(width=600, height=450)\n",
    "fig.show(config=tfb.FIG_CONFIG)\n",
    "\n",
    "# save figures\n",
    "if SAVEFIGS:\n",
    "    fig.update_layout(autosize=True, width=None, height=None)\n",
    "    #tfb.save_fig_html(fig, format='large', name=f'./fig-win-vs-diff-deadly-large')\n",
    "    #tfb.save_fig_html(fig, format='small', name=f'./fig-win-vs-diff-deadly-small')"
   ]
  },
  {
   "cell_type": "code",
   "execution_count": 4,
   "metadata": {},
   "outputs": [
    {
     "data": {
      "application/vnd.plotly.v1+json": {
       "config": {
        "autosizable": true,
        "displayModeBar": "hover",
        "displaylogo": false,
        "doubleClick": "reset",
        "modeBarButtonsToRemove": [
         "select2d",
         "lasso2d",
         "zoom2d",
         "zoomIn2d",
         "zoomOut2d",
         "pan2d",
         "autoScale2d",
         "hoverClosestCartesian",
         "hoverCompareCartesian",
         "toggleSpikelines",
         "resetScale2d"
        ],
        "plotlyServerURL": "https://plot.ly",
        "responsive": true,
        "showAxisDragHandles": false,
        "toImageButtonOptions": {
         "filename": "tfb-plot",
         "format": "png",
         "height": 450,
         "scale": 2,
         "width": 600
        }
       },
       "data": [
        {
         "hovertemplate": "<b>NPCs</b><br>monster CV %{x:.2f}<br>probability %{y:.1%}<extra></extra>",
         "name": "sigma/mean",
         "type": "scatter",
         "x": [
          0.2,
          0.30000000000000004,
          0.4,
          0.5,
          0.6000000000000001,
          0.7000000000000002,
          0.8
         ],
         "y": [
          0.20148971581741545,
          0.23898230921622005,
          0.28325387656292655,
          0.33160028297203153,
          0.38247942866036144,
          0.43500351295850603,
          0.48864237021575013
         ]
        },
        {
         "hovertemplate": "<b>NPCs</b><br>monster CV %{x:.2f}<br>probability %{y:.1%}<extra></extra>",
         "name": "theory",
         "type": "scatter",
         "x": [
          0.05,
          0.09736842105263158,
          0.14473684210526316,
          0.19210526315789472,
          0.23947368421052628,
          0.28684210526315784,
          0.33421052631578946,
          0.381578947368421,
          0.4289473684210526,
          0.47631578947368414,
          0.5236842105263158,
          0.5710526315789474,
          0.618421052631579,
          0.6657894736842105,
          0.7131578947368421,
          0.7605263157894736,
          0.8078947368421052,
          0.8552631578947368,
          0.9026315789473683,
          0.95
         ],
         "y": [
          0.02886751345948129,
          0.05621568410530567,
          0.08356385475113005,
          0.11091202539695443,
          0.13826019604277878,
          0.16560836668860315,
          0.19295653733442755,
          0.22030470798025192,
          0.2476528786260763,
          0.27500104927190067,
          0.30234921991772506,
          0.32969739056354946,
          0.35704556120937386,
          0.3843937318551982,
          0.4117419025010226,
          0.43909007314684695,
          0.46643824379267135,
          0.49378641443849575,
          0.5211345850843201,
          0.5484827557301445
         ]
        }
       ],
       "layout": {
        "height": 450,
        "legend": {
         "orientation": "v",
         "tracegroupgap": 0,
         "x": 0,
         "xanchor": "left",
         "y": 1,
         "yanchor": "top"
        },
        "template": {
         "layout": {
          "autosize": false,
          "font": {
           "family": "sans-serif",
           "size": 14
          },
          "hoverlabel": {
           "align": "left"
          },
          "hovermode": "closest",
          "margin": {
           "b": 55,
           "l": 60,
           "pad": 4,
           "r": 25,
           "t": 20
          },
          "template": {
           "data": {
            "bar": [
             {
              "error_x": {
               "color": "#2a3f5f"
              },
              "error_y": {
               "color": "#2a3f5f"
              },
              "marker": {
               "line": {
                "color": "white",
                "width": 0.5
               },
               "pattern": {
                "fillmode": "overlay",
                "size": 10,
                "solidity": 0.2
               }
              },
              "type": "bar"
             }
            ],
            "barpolar": [
             {
              "marker": {
               "line": {
                "color": "white",
                "width": 0.5
               },
               "pattern": {
                "fillmode": "overlay",
                "size": 10,
                "solidity": 0.2
               }
              },
              "type": "barpolar"
             }
            ],
            "carpet": [
             {
              "aaxis": {
               "endlinecolor": "#2a3f5f",
               "gridcolor": "#C8D4E3",
               "linecolor": "#C8D4E3",
               "minorgridcolor": "#C8D4E3",
               "startlinecolor": "#2a3f5f"
              },
              "baxis": {
               "endlinecolor": "#2a3f5f",
               "gridcolor": "#C8D4E3",
               "linecolor": "#C8D4E3",
               "minorgridcolor": "#C8D4E3",
               "startlinecolor": "#2a3f5f"
              },
              "type": "carpet"
             }
            ],
            "choropleth": [
             {
              "colorbar": {
               "outlinewidth": 0,
               "ticks": ""
              },
              "type": "choropleth"
             }
            ],
            "contour": [
             {
              "colorbar": {
               "outlinewidth": 0,
               "ticks": ""
              },
              "colorscale": [
               [
                0,
                "#0d0887"
               ],
               [
                0.1111111111111111,
                "#46039f"
               ],
               [
                0.2222222222222222,
                "#7201a8"
               ],
               [
                0.3333333333333333,
                "#9c179e"
               ],
               [
                0.4444444444444444,
                "#bd3786"
               ],
               [
                0.5555555555555556,
                "#d8576b"
               ],
               [
                0.6666666666666666,
                "#ed7953"
               ],
               [
                0.7777777777777778,
                "#fb9f3a"
               ],
               [
                0.8888888888888888,
                "#fdca26"
               ],
               [
                1,
                "#f0f921"
               ]
              ],
              "type": "contour"
             }
            ],
            "contourcarpet": [
             {
              "colorbar": {
               "outlinewidth": 0,
               "ticks": ""
              },
              "type": "contourcarpet"
             }
            ],
            "heatmap": [
             {
              "colorbar": {
               "outlinewidth": 0,
               "ticks": ""
              },
              "colorscale": [
               [
                0,
                "#0d0887"
               ],
               [
                0.1111111111111111,
                "#46039f"
               ],
               [
                0.2222222222222222,
                "#7201a8"
               ],
               [
                0.3333333333333333,
                "#9c179e"
               ],
               [
                0.4444444444444444,
                "#bd3786"
               ],
               [
                0.5555555555555556,
                "#d8576b"
               ],
               [
                0.6666666666666666,
                "#ed7953"
               ],
               [
                0.7777777777777778,
                "#fb9f3a"
               ],
               [
                0.8888888888888888,
                "#fdca26"
               ],
               [
                1,
                "#f0f921"
               ]
              ],
              "type": "heatmap"
             }
            ],
            "heatmapgl": [
             {
              "colorbar": {
               "outlinewidth": 0,
               "ticks": ""
              },
              "colorscale": [
               [
                0,
                "#0d0887"
               ],
               [
                0.1111111111111111,
                "#46039f"
               ],
               [
                0.2222222222222222,
                "#7201a8"
               ],
               [
                0.3333333333333333,
                "#9c179e"
               ],
               [
                0.4444444444444444,
                "#bd3786"
               ],
               [
                0.5555555555555556,
                "#d8576b"
               ],
               [
                0.6666666666666666,
                "#ed7953"
               ],
               [
                0.7777777777777778,
                "#fb9f3a"
               ],
               [
                0.8888888888888888,
                "#fdca26"
               ],
               [
                1,
                "#f0f921"
               ]
              ],
              "type": "heatmapgl"
             }
            ],
            "histogram": [
             {
              "marker": {
               "pattern": {
                "fillmode": "overlay",
                "size": 10,
                "solidity": 0.2
               }
              },
              "type": "histogram"
             }
            ],
            "histogram2d": [
             {
              "colorbar": {
               "outlinewidth": 0,
               "ticks": ""
              },
              "colorscale": [
               [
                0,
                "#0d0887"
               ],
               [
                0.1111111111111111,
                "#46039f"
               ],
               [
                0.2222222222222222,
                "#7201a8"
               ],
               [
                0.3333333333333333,
                "#9c179e"
               ],
               [
                0.4444444444444444,
                "#bd3786"
               ],
               [
                0.5555555555555556,
                "#d8576b"
               ],
               [
                0.6666666666666666,
                "#ed7953"
               ],
               [
                0.7777777777777778,
                "#fb9f3a"
               ],
               [
                0.8888888888888888,
                "#fdca26"
               ],
               [
                1,
                "#f0f921"
               ]
              ],
              "type": "histogram2d"
             }
            ],
            "histogram2dcontour": [
             {
              "colorbar": {
               "outlinewidth": 0,
               "ticks": ""
              },
              "colorscale": [
               [
                0,
                "#0d0887"
               ],
               [
                0.1111111111111111,
                "#46039f"
               ],
               [
                0.2222222222222222,
                "#7201a8"
               ],
               [
                0.3333333333333333,
                "#9c179e"
               ],
               [
                0.4444444444444444,
                "#bd3786"
               ],
               [
                0.5555555555555556,
                "#d8576b"
               ],
               [
                0.6666666666666666,
                "#ed7953"
               ],
               [
                0.7777777777777778,
                "#fb9f3a"
               ],
               [
                0.8888888888888888,
                "#fdca26"
               ],
               [
                1,
                "#f0f921"
               ]
              ],
              "type": "histogram2dcontour"
             }
            ],
            "mesh3d": [
             {
              "colorbar": {
               "outlinewidth": 0,
               "ticks": ""
              },
              "type": "mesh3d"
             }
            ],
            "parcoords": [
             {
              "line": {
               "colorbar": {
                "outlinewidth": 0,
                "ticks": ""
               }
              },
              "type": "parcoords"
             }
            ],
            "pie": [
             {
              "automargin": true,
              "type": "pie"
             }
            ],
            "scatter": [
             {
              "fillpattern": {
               "fillmode": "overlay",
               "size": 10,
               "solidity": 0.2
              },
              "type": "scatter"
             }
            ],
            "scatter3d": [
             {
              "line": {
               "colorbar": {
                "outlinewidth": 0,
                "ticks": ""
               }
              },
              "marker": {
               "colorbar": {
                "outlinewidth": 0,
                "ticks": ""
               }
              },
              "type": "scatter3d"
             }
            ],
            "scattercarpet": [
             {
              "marker": {
               "colorbar": {
                "outlinewidth": 0,
                "ticks": ""
               }
              },
              "type": "scattercarpet"
             }
            ],
            "scattergeo": [
             {
              "marker": {
               "colorbar": {
                "outlinewidth": 0,
                "ticks": ""
               }
              },
              "type": "scattergeo"
             }
            ],
            "scattergl": [
             {
              "marker": {
               "colorbar": {
                "outlinewidth": 0,
                "ticks": ""
               }
              },
              "type": "scattergl"
             }
            ],
            "scattermapbox": [
             {
              "marker": {
               "colorbar": {
                "outlinewidth": 0,
                "ticks": ""
               }
              },
              "type": "scattermapbox"
             }
            ],
            "scatterpolar": [
             {
              "marker": {
               "colorbar": {
                "outlinewidth": 0,
                "ticks": ""
               }
              },
              "type": "scatterpolar"
             }
            ],
            "scatterpolargl": [
             {
              "marker": {
               "colorbar": {
                "outlinewidth": 0,
                "ticks": ""
               }
              },
              "type": "scatterpolargl"
             }
            ],
            "scatterternary": [
             {
              "marker": {
               "colorbar": {
                "outlinewidth": 0,
                "ticks": ""
               }
              },
              "type": "scatterternary"
             }
            ],
            "surface": [
             {
              "colorbar": {
               "outlinewidth": 0,
               "ticks": ""
              },
              "colorscale": [
               [
                0,
                "#0d0887"
               ],
               [
                0.1111111111111111,
                "#46039f"
               ],
               [
                0.2222222222222222,
                "#7201a8"
               ],
               [
                0.3333333333333333,
                "#9c179e"
               ],
               [
                0.4444444444444444,
                "#bd3786"
               ],
               [
                0.5555555555555556,
                "#d8576b"
               ],
               [
                0.6666666666666666,
                "#ed7953"
               ],
               [
                0.7777777777777778,
                "#fb9f3a"
               ],
               [
                0.8888888888888888,
                "#fdca26"
               ],
               [
                1,
                "#f0f921"
               ]
              ],
              "type": "surface"
             }
            ],
            "table": [
             {
              "cells": {
               "fill": {
                "color": "#EBF0F8"
               },
               "line": {
                "color": "white"
               }
              },
              "header": {
               "fill": {
                "color": "#C8D4E3"
               },
               "line": {
                "color": "white"
               }
              },
              "type": "table"
             }
            ]
           },
           "layout": {
            "annotationdefaults": {
             "arrowcolor": "#2a3f5f",
             "arrowhead": 0,
             "arrowwidth": 1
            },
            "autotypenumbers": "strict",
            "coloraxis": {
             "colorbar": {
              "outlinewidth": 0,
              "ticks": ""
             }
            },
            "colorscale": {
             "diverging": [
              [
               0,
               "#8e0152"
              ],
              [
               0.1,
               "#c51b7d"
              ],
              [
               0.2,
               "#de77ae"
              ],
              [
               0.3,
               "#f1b6da"
              ],
              [
               0.4,
               "#fde0ef"
              ],
              [
               0.5,
               "#f7f7f7"
              ],
              [
               0.6,
               "#e6f5d0"
              ],
              [
               0.7,
               "#b8e186"
              ],
              [
               0.8,
               "#7fbc41"
              ],
              [
               0.9,
               "#4d9221"
              ],
              [
               1,
               "#276419"
              ]
             ],
             "sequential": [
              [
               0,
               "#0d0887"
              ],
              [
               0.1111111111111111,
               "#46039f"
              ],
              [
               0.2222222222222222,
               "#7201a8"
              ],
              [
               0.3333333333333333,
               "#9c179e"
              ],
              [
               0.4444444444444444,
               "#bd3786"
              ],
              [
               0.5555555555555556,
               "#d8576b"
              ],
              [
               0.6666666666666666,
               "#ed7953"
              ],
              [
               0.7777777777777778,
               "#fb9f3a"
              ],
              [
               0.8888888888888888,
               "#fdca26"
              ],
              [
               1,
               "#f0f921"
              ]
             ],
             "sequentialminus": [
              [
               0,
               "#0d0887"
              ],
              [
               0.1111111111111111,
               "#46039f"
              ],
              [
               0.2222222222222222,
               "#7201a8"
              ],
              [
               0.3333333333333333,
               "#9c179e"
              ],
              [
               0.4444444444444444,
               "#bd3786"
              ],
              [
               0.5555555555555556,
               "#d8576b"
              ],
              [
               0.6666666666666666,
               "#ed7953"
              ],
              [
               0.7777777777777778,
               "#fb9f3a"
              ],
              [
               0.8888888888888888,
               "#fdca26"
              ],
              [
               1,
               "#f0f921"
              ]
             ]
            },
            "colorway": [
             "#636efa",
             "#EF553B",
             "#00cc96",
             "#ab63fa",
             "#FFA15A",
             "#19d3f3",
             "#FF6692",
             "#B6E880",
             "#FF97FF",
             "#FECB52"
            ],
            "font": {
             "color": "#2a3f5f"
            },
            "geo": {
             "bgcolor": "white",
             "lakecolor": "white",
             "landcolor": "white",
             "showlakes": true,
             "showland": true,
             "subunitcolor": "#C8D4E3"
            },
            "hoverlabel": {
             "align": "left"
            },
            "hovermode": "closest",
            "mapbox": {
             "style": "light"
            },
            "paper_bgcolor": "white",
            "plot_bgcolor": "white",
            "polar": {
             "angularaxis": {
              "gridcolor": "#EBF0F8",
              "linecolor": "#EBF0F8",
              "ticks": ""
             },
             "bgcolor": "white",
             "radialaxis": {
              "gridcolor": "#EBF0F8",
              "linecolor": "#EBF0F8",
              "ticks": ""
             }
            },
            "scene": {
             "xaxis": {
              "backgroundcolor": "white",
              "gridcolor": "#DFE8F3",
              "gridwidth": 2,
              "linecolor": "#EBF0F8",
              "showbackground": true,
              "ticks": "",
              "zerolinecolor": "#EBF0F8"
             },
             "yaxis": {
              "backgroundcolor": "white",
              "gridcolor": "#DFE8F3",
              "gridwidth": 2,
              "linecolor": "#EBF0F8",
              "showbackground": true,
              "ticks": "",
              "zerolinecolor": "#EBF0F8"
             },
             "zaxis": {
              "backgroundcolor": "white",
              "gridcolor": "#DFE8F3",
              "gridwidth": 2,
              "linecolor": "#EBF0F8",
              "showbackground": true,
              "ticks": "",
              "zerolinecolor": "#EBF0F8"
             }
            },
            "shapedefaults": {
             "line": {
              "color": "#2a3f5f"
             }
            },
            "ternary": {
             "aaxis": {
              "gridcolor": "#DFE8F3",
              "linecolor": "#A2B1C6",
              "ticks": ""
             },
             "baxis": {
              "gridcolor": "#DFE8F3",
              "linecolor": "#A2B1C6",
              "ticks": ""
             },
             "bgcolor": "white",
             "caxis": {
              "gridcolor": "#DFE8F3",
              "linecolor": "#A2B1C6",
              "ticks": ""
             }
            },
            "title": {
             "x": 0.05
            },
            "xaxis": {
             "automargin": true,
             "gridcolor": "#EBF0F8",
             "linecolor": "#EBF0F8",
             "ticks": "",
             "title": {
              "standoff": 15
             },
             "zerolinecolor": "#EBF0F8",
             "zerolinewidth": 2
            },
            "yaxis": {
             "automargin": true,
             "gridcolor": "#EBF0F8",
             "linecolor": "#EBF0F8",
             "ticks": "",
             "title": {
              "standoff": 15
             },
             "zerolinecolor": "#EBF0F8",
             "zerolinewidth": 2
            }
           }
          },
          "xaxis": {
           "automargin": false,
           "linecolor": "#444",
           "linewidth": 2,
           "minor": {
            "tickmode": "linear",
            "ticks": "outside"
           },
           "mirror": true,
           "showline": true,
           "tickmode": "linear",
           "ticks": "outside",
           "zeroline": false
          },
          "yaxis": {
           "automargin": true,
           "linecolor": "#444",
           "linewidth": 2,
           "minor": {
            "tickmode": "linear",
            "ticks": "outside"
           },
           "mirror": true,
           "showline": true,
           "ticks": "outside",
           "zeroline": false
          }
         }
        },
        "width": 600,
        "xaxis": {
         "dtick": 0.2,
         "minor": {
          "dtick": 0.1,
          "tick0": 0
         },
         "range": [
          0,
          1
         ],
         "tick0": 0,
         "title": {
          "text": "DPR CV"
         }
        },
        "yaxis": {
         "dtick": 0.2,
         "minor": {
          "dtick": 0.1,
          "tick0": 0
         },
         "range": [
          0,
          1.02
         ],
         "tick0": 0,
         "title": {
          "text": "damage CV"
         }
        }
       }
      }
     },
     "metadata": {},
     "output_type": "display_data"
    }
   ],
   "source": [
    "# plots the average damage taken relative to max HP for a range of monster CoV values\n",
    "\n",
    "\n",
    "# create figure\n",
    "fig = go.Figure(\n",
    "    layout=go.Layout(\n",
    "        template=tfb.FIG_TEMPLATE,\n",
    "        xaxis=dict(\n",
    "            title_text='DPR CV',\n",
    "            range=[0, 1],\n",
    "            tick0=0, dtick=0.2,\n",
    "            minor=dict(tick0=0, dtick=0.1),\n",
    "        ),\n",
    "        yaxis=dict(\n",
    "            title_text='damage CV',\n",
    "            range=[0,1.02],\n",
    "            #tickformat='.0%'\n",
    "            tick0=0, dtick=0.2,\n",
    "            minor=dict(tick0=0, dtick=0.1),\n",
    "        ),\n",
    "        legend=dict(\n",
    "            xanchor='left', yanchor='top',\n",
    "            x=0.00, y=1.00,\n",
    "            orientation='v',\n",
    "            tracegroupgap=0,\n",
    "        )\n",
    "    )\n",
    ")\n",
    "\n",
    "# encounter parameters\n",
    "diff = 0.2 # deadly\n",
    "\n",
    "party_hp = 100\n",
    "party_r_win = 3\n",
    "\n",
    "mon_hp = 100\n",
    "\n",
    "party_dpr = mon_hp/pc_r_win\n",
    "party_size = 4\n",
    "pc_hp = party_hp/party_size\n",
    "pc_dpr = party_dpr/party_size\n",
    "pc_dpr_cv = 0.5\n",
    "\n",
    "mon_r_win = pc_r_win/diff\n",
    "mon_dpr = party_hp/mon_r_win\n",
    "\n",
    "# original\n",
    "pc_win_pct = []\n",
    "mon_win_pct = []\n",
    "pc_hp_loss = []\n",
    "pc_hp_loss_sigma = []\n",
    "mon_hp_loss = []\n",
    "mon_hp_loss_sigma = []\n",
    "mon_dpr_cvs = np.linspace(0.2, 0.8, 7)\n",
    "for mon_dpr_cv in mon_dpr_cvs:\n",
    "    #print(f'{mon_dpr_cv:.1f}')\n",
    "    combatants = [\n",
    "        cp.Combatant(\n",
    "            group='NPCs',\n",
    "            name='monster',\n",
    "            opponent='PCs',\n",
    "            level=5,\n",
    "            hit_points = mon_hp,\n",
    "            damage = [cp.gaussian_dice_distribution(mon_dpr, mon_dpr_cv*mon_dpr)],\n",
    "        ),\n",
    "        cp.Combatant(\n",
    "            group='PCs',\n",
    "            name='PC 1',\n",
    "            opponent='NPCs',\n",
    "            level=5,\n",
    "            hit_points = pc_hp,\n",
    "            damage = [cp.gaussian_dice_distribution(pc_dpr, pc_dpr_cv*pc_dpr)],\n",
    "        ),\n",
    "        cp.Combatant(\n",
    "            group='PCs',\n",
    "            name='PC 2',\n",
    "            opponent='NPCs',\n",
    "            level=5,\n",
    "            hit_points = pc_hp,\n",
    "            damage = [cp.gaussian_dice_distribution(pc_dpr, pc_dpr_cv*pc_dpr)],\n",
    "        ),\n",
    "        cp.Combatant(\n",
    "            group='PCs',\n",
    "            name='PC 3',\n",
    "            opponent='NPCs',\n",
    "            level=5,\n",
    "            hit_points = pc_hp,\n",
    "            damage = [cp.gaussian_dice_distribution(pc_dpr, pc_dpr_cv*pc_dpr)],\n",
    "        ),\n",
    "        cp.Combatant(\n",
    "            group='PCs',\n",
    "            name='PC 4',\n",
    "            opponent='NPCs',\n",
    "            level=5,\n",
    "            hit_points = pc_hp,\n",
    "            damage = [cp.gaussian_dice_distribution(pc_dpr, pc_dpr_cv*pc_dpr)],\n",
    "        ),\n",
    "    ]\n",
    "    e = cp.Encounter(combatants, initiative=['PC 1','PC 2','monster','PC 3','PC 4'], rounds=8)\n",
    "    pc_win_pct += [e.group_win_pct('PCs', method='approx')]\n",
    "    mon_win_pct += [e.group_win_pct('NPCs', method='approx')]\n",
    "\n",
    "    pc_hp_loss += [e.group_damage_mean('NPCs', method='approx', clip=True)/(party_size*pc_hp)]\n",
    "    pc_hp_loss_sigma += [e.group_damage_sigma('NPCs', method='approx', clip=True)/(party_size*pc_hp)]\n",
    "\n",
    "    mon_hp_loss += [e.group_damage_mean('PCs', method='approx', clip=True)/(mon_hp)]\n",
    "    mon_hp_loss_sigma += [e.group_damage_sigma('PCs', method='approx', clip=True)/(mon_hp)]\n",
    "\n",
    "\n",
    "fig.add_trace(go.Scatter(\n",
    "    x=mon_dpr_cvs,\n",
    "    y=np.array(pc_hp_loss_sigma)/np.array(pc_hp_loss),\n",
    "    name=f'sigma/mean',\n",
    "    #line_color=COLOR_LIST[i],\n",
    "    #error_y=dict(\n",
    "    #    type='data',\n",
    "    #    symmetric=True,\n",
    "    #    array=mon_hp_loss_sigma,\n",
    "    #),\n",
    "    hovertemplate=\n",
    "        f'<b>NPCs</b><br>'+\n",
    "        'monster CV %{x:.2f}<br>'+\n",
    "        'probability %{y:.1%}<extra></extra>',\n",
    "))\n",
    "\n",
    "x = np.linspace(0.05, 0.95, 20)\n",
    "y = x/np.sqrt(party_r_win)\n",
    "fig.add_trace(go.Scatter(\n",
    "    x=x,\n",
    "    y=y,\n",
    "    name=f'theory',\n",
    "    #line_color=COLOR_LIST[i],\n",
    "    #error_y=dict(\n",
    "    #    type='data',\n",
    "    #    symmetric=True,\n",
    "    #    array=mon_hp_loss_sigma,\n",
    "    #),\n",
    "    hovertemplate=\n",
    "        f'<b>NPCs</b><br>'+\n",
    "        'monster CV %{x:.2f}<br>'+\n",
    "        'probability %{y:.1%}<extra></extra>',\n",
    "))\n",
    "\n",
    "\n",
    "# show figure\n",
    "fig.update_layout(width=600, height=450)\n",
    "fig.show(config=tfb.FIG_CONFIG)\n",
    "\n",
    "# save figures\n",
    "if SAVEFIGS:\n",
    "    fig.update_layout(autosize=True, width=None, height=None)\n",
    "    #tfb.save_fig_html(fig, format='large', name=f'./fig-example-dt-distribution-large')\n",
    "    #tfb.save_fig_html(fig, format='small', name=f'./fig-example-dt-distribution-small')"
   ]
  }
 ],
 "metadata": {
  "kernelspec": {
   "display_name": "thefinishedbook",
   "language": "python",
   "name": "python3"
  },
  "language_info": {
   "codemirror_mode": {
    "name": "ipython",
    "version": 3
   },
   "file_extension": ".py",
   "mimetype": "text/x-python",
   "name": "python",
   "nbconvert_exporter": "python",
   "pygments_lexer": "ipython3",
   "version": "3.10.5"
  }
 },
 "nbformat": 4,
 "nbformat_minor": 2
}
