{
 "cells": [
  {
   "cell_type": "code",
   "execution_count": 1,
   "metadata": {},
   "outputs": [],
   "source": [
    "import numpy as np\n",
    "import plotly.graph_objects as go\n",
    "import sys\n",
    "sys.path.append('../../assets/python/')\n",
    "import tfb\n",
    "import combat_probability as cp\n",
    "from icepool import d\n",
    "\n",
    "METADATA = {'Contributor': 'T. Dunn'}\n",
    "SAVEFIGS = True\n",
    "\n",
    "COLOR_LIST = [\n",
    "    '#1f77b4',  # muted blue\n",
    "    '#ff7f0e',  # safety orange\n",
    "    '#2ca02c',  # cooked asparagus green\n",
    "    '#d62728',  # brick red\n",
    "    '#9467bd',  # muted purple\n",
    "    '#8c564b',  # chestnut brown\n",
    "    '#e377c2',  # raspberry yogurt pink\n",
    "    '#7f7f7f',  # middle gray\n",
    "    '#bcbd22',  # curry yellow-green\n",
    "    '#17becf'   # blue-teal\n",
    "]"
   ]
  },
  {
   "cell_type": "code",
   "execution_count": 51,
   "metadata": {},
   "outputs": [
    {
     "data": {
      "application/vnd.plotly.v1+json": {
       "config": {
        "autosizable": true,
        "displayModeBar": "hover",
        "displaylogo": false,
        "doubleClick": "reset",
        "modeBarButtonsToRemove": [
         "select2d",
         "lasso2d",
         "zoom2d",
         "zoomIn2d",
         "zoomOut2d",
         "pan2d",
         "autoScale2d",
         "hoverClosestCartesian",
         "hoverCompareCartesian",
         "toggleSpikelines",
         "resetScale2d"
        ],
        "plotlyServerURL": "https://plot.ly",
        "responsive": true,
        "showAxisDragHandles": false,
        "toImageButtonOptions": {
         "filename": "tfb-plot",
         "format": "png",
         "height": 450,
         "scale": 2,
         "width": 600
        }
       },
       "data": [
        {
         "fill": "tozeroy",
         "fillcolor": "rgba(167, 167, 167, 0.15)",
         "hoverinfo": "none",
         "mode": "none",
         "showlegend": false,
         "type": "scatter",
         "x": [
          0,
          0.15
         ],
         "y": [
          1,
          1
         ]
        },
        {
         "fill": "tozeroy",
         "fillcolor": "rgba(  0, 199, 151, 0.15)",
         "hoverinfo": "none",
         "mode": "none",
         "showlegend": false,
         "type": "scatter",
         "x": [
          0.15,
          0.3
         ],
         "y": [
          1,
          1
         ]
        },
        {
         "fill": "tozeroy",
         "fillcolor": "rgba(245, 166,  35, 0.15)",
         "hoverinfo": "none",
         "mode": "none",
         "showlegend": false,
         "type": "scatter",
         "x": [
          0.3,
          0.44999999999999996
         ],
         "y": [
          1,
          1
         ]
        },
        {
         "fill": "tozeroy",
         "fillcolor": "rgba(228,  90,  29, 0.15)",
         "hoverinfo": "none",
         "mode": "none",
         "showlegend": false,
         "type": "scatter",
         "x": [
          0.45,
          0.7
         ],
         "y": [
          1,
          1
         ]
        },
        {
         "fill": "tozeroy",
         "fillcolor": "rgba(144,  79, 213, 0.15)",
         "hoverinfo": "none",
         "mode": "none",
         "showlegend": false,
         "type": "scatter",
         "x": [
          0.7,
          1
         ],
         "y": [
          1,
          1
         ]
        },
        {
         "hovertemplate": "<b>PCs</b><br>difficulty %{x:.2f}<br>probability %{y:.1%}<extra></extra>",
         "line": {
          "color": "#1f77b4"
         },
         "mode": "lines",
         "name": "PCs",
         "type": "scatter",
         "x": [
          0.01,
          0.059500000000000004,
          0.109,
          0.15850000000000003,
          0.20800000000000002,
          0.2575,
          0.30700000000000005,
          0.35650000000000004,
          0.406,
          0.4555,
          0.505,
          0.5545,
          0.6040000000000001,
          0.6535000000000001,
          0.7030000000000001,
          0.7525000000000001,
          0.802,
          0.8515,
          0.901,
          0.9505,
          1
         ],
         "y": [
          1,
          1,
          1,
          1,
          0.9999999999999997,
          0.9999999999692043,
          0.9999999628667403,
          0.9999962246848823,
          0.9999074632102056,
          0.9990948741220732,
          0.99552679414359,
          0.985876168735056,
          0.9664056588554195,
          0.9340785659896795,
          0.8879528824566009,
          0.8298143209274025,
          0.7634481033942017,
          0.6932654279529112,
          0.6231828473902086,
          0.5560882149243103,
          0.4937830069222267
         ]
        },
        {
         "hovertemplate": "<b>NPCs</b><br>difficulty %{x:.2f}<br>probability %{y:.1%}<extra></extra>",
         "line": {
          "color": "#ff7f0e"
         },
         "mode": "lines",
         "name": "NPCs",
         "type": "scatter",
         "x": [
          0.01,
          0.059500000000000004,
          0.109,
          0.15850000000000003,
          0.20800000000000002,
          0.2575,
          0.30700000000000005,
          0.35650000000000004,
          0.406,
          0.4555,
          0.505,
          0.5545,
          0.6040000000000001,
          0.6535000000000001,
          0.7030000000000001,
          0.7525000000000001,
          0.802,
          0.8515,
          0.901,
          0.9505,
          1
         ],
         "y": [
          0,
          0,
          0,
          7.292122725564697e-25,
          3.5967502766129505e-16,
          3.079567474017542e-11,
          3.7133259747895694e-8,
          0.0000037753151174843476,
          0.00009253678979450238,
          0.0009051258779267518,
          0.004473205856409959,
          0.014123831264943995,
          0.03359434114458008,
          0.06592143401032038,
          0.11204711754339933,
          0.17018567907259774,
          0.2365518966057983,
          0.3067345720470887,
          0.3768171526097914,
          0.44391178507568974,
          0.5062169930777733
         ]
        }
       ],
       "layout": {
        "annotations": [
         {
          "showarrow": false,
          "text": "Trivial",
          "x": 0.075,
          "y": 0.5
         },
         {
          "showarrow": false,
          "text": "Easy",
          "x": 0.22499999999999998,
          "y": 0.5
         },
         {
          "showarrow": false,
          "text": "Medium",
          "x": 0.375,
          "y": 0.5
         },
         {
          "showarrow": false,
          "text": "Hard",
          "x": 0.575,
          "y": 0.5
         },
         {
          "showarrow": false,
          "text": "Deadly",
          "x": 0.85,
          "y": 0.5
         }
        ],
        "height": 450,
        "legend": {
         "bgcolor": "rgba(0,0,0,0)",
         "orientation": "v",
         "tracegroupgap": 0,
         "x": 0.98,
         "xanchor": "right",
         "y": 0.98,
         "yanchor": "top"
        },
        "template": {
         "layout": {
          "autosize": false,
          "font": {
           "family": "sans-serif",
           "size": 14
          },
          "hoverlabel": {
           "align": "left"
          },
          "hovermode": "closest",
          "margin": {
           "b": 55,
           "l": 60,
           "pad": 4,
           "r": 25,
           "t": 20
          },
          "template": {
           "data": {
            "bar": [
             {
              "error_x": {
               "color": "#2a3f5f"
              },
              "error_y": {
               "color": "#2a3f5f"
              },
              "marker": {
               "line": {
                "color": "white",
                "width": 0.5
               },
               "pattern": {
                "fillmode": "overlay",
                "size": 10,
                "solidity": 0.2
               }
              },
              "type": "bar"
             }
            ],
            "barpolar": [
             {
              "marker": {
               "line": {
                "color": "white",
                "width": 0.5
               },
               "pattern": {
                "fillmode": "overlay",
                "size": 10,
                "solidity": 0.2
               }
              },
              "type": "barpolar"
             }
            ],
            "carpet": [
             {
              "aaxis": {
               "endlinecolor": "#2a3f5f",
               "gridcolor": "#C8D4E3",
               "linecolor": "#C8D4E3",
               "minorgridcolor": "#C8D4E3",
               "startlinecolor": "#2a3f5f"
              },
              "baxis": {
               "endlinecolor": "#2a3f5f",
               "gridcolor": "#C8D4E3",
               "linecolor": "#C8D4E3",
               "minorgridcolor": "#C8D4E3",
               "startlinecolor": "#2a3f5f"
              },
              "type": "carpet"
             }
            ],
            "choropleth": [
             {
              "colorbar": {
               "outlinewidth": 0,
               "ticks": ""
              },
              "type": "choropleth"
             }
            ],
            "contour": [
             {
              "colorbar": {
               "outlinewidth": 0,
               "ticks": ""
              },
              "colorscale": [
               [
                0,
                "#0d0887"
               ],
               [
                0.1111111111111111,
                "#46039f"
               ],
               [
                0.2222222222222222,
                "#7201a8"
               ],
               [
                0.3333333333333333,
                "#9c179e"
               ],
               [
                0.4444444444444444,
                "#bd3786"
               ],
               [
                0.5555555555555556,
                "#d8576b"
               ],
               [
                0.6666666666666666,
                "#ed7953"
               ],
               [
                0.7777777777777778,
                "#fb9f3a"
               ],
               [
                0.8888888888888888,
                "#fdca26"
               ],
               [
                1,
                "#f0f921"
               ]
              ],
              "type": "contour"
             }
            ],
            "contourcarpet": [
             {
              "colorbar": {
               "outlinewidth": 0,
               "ticks": ""
              },
              "type": "contourcarpet"
             }
            ],
            "heatmap": [
             {
              "colorbar": {
               "outlinewidth": 0,
               "ticks": ""
              },
              "colorscale": [
               [
                0,
                "#0d0887"
               ],
               [
                0.1111111111111111,
                "#46039f"
               ],
               [
                0.2222222222222222,
                "#7201a8"
               ],
               [
                0.3333333333333333,
                "#9c179e"
               ],
               [
                0.4444444444444444,
                "#bd3786"
               ],
               [
                0.5555555555555556,
                "#d8576b"
               ],
               [
                0.6666666666666666,
                "#ed7953"
               ],
               [
                0.7777777777777778,
                "#fb9f3a"
               ],
               [
                0.8888888888888888,
                "#fdca26"
               ],
               [
                1,
                "#f0f921"
               ]
              ],
              "type": "heatmap"
             }
            ],
            "heatmapgl": [
             {
              "colorbar": {
               "outlinewidth": 0,
               "ticks": ""
              },
              "colorscale": [
               [
                0,
                "#0d0887"
               ],
               [
                0.1111111111111111,
                "#46039f"
               ],
               [
                0.2222222222222222,
                "#7201a8"
               ],
               [
                0.3333333333333333,
                "#9c179e"
               ],
               [
                0.4444444444444444,
                "#bd3786"
               ],
               [
                0.5555555555555556,
                "#d8576b"
               ],
               [
                0.6666666666666666,
                "#ed7953"
               ],
               [
                0.7777777777777778,
                "#fb9f3a"
               ],
               [
                0.8888888888888888,
                "#fdca26"
               ],
               [
                1,
                "#f0f921"
               ]
              ],
              "type": "heatmapgl"
             }
            ],
            "histogram": [
             {
              "marker": {
               "pattern": {
                "fillmode": "overlay",
                "size": 10,
                "solidity": 0.2
               }
              },
              "type": "histogram"
             }
            ],
            "histogram2d": [
             {
              "colorbar": {
               "outlinewidth": 0,
               "ticks": ""
              },
              "colorscale": [
               [
                0,
                "#0d0887"
               ],
               [
                0.1111111111111111,
                "#46039f"
               ],
               [
                0.2222222222222222,
                "#7201a8"
               ],
               [
                0.3333333333333333,
                "#9c179e"
               ],
               [
                0.4444444444444444,
                "#bd3786"
               ],
               [
                0.5555555555555556,
                "#d8576b"
               ],
               [
                0.6666666666666666,
                "#ed7953"
               ],
               [
                0.7777777777777778,
                "#fb9f3a"
               ],
               [
                0.8888888888888888,
                "#fdca26"
               ],
               [
                1,
                "#f0f921"
               ]
              ],
              "type": "histogram2d"
             }
            ],
            "histogram2dcontour": [
             {
              "colorbar": {
               "outlinewidth": 0,
               "ticks": ""
              },
              "colorscale": [
               [
                0,
                "#0d0887"
               ],
               [
                0.1111111111111111,
                "#46039f"
               ],
               [
                0.2222222222222222,
                "#7201a8"
               ],
               [
                0.3333333333333333,
                "#9c179e"
               ],
               [
                0.4444444444444444,
                "#bd3786"
               ],
               [
                0.5555555555555556,
                "#d8576b"
               ],
               [
                0.6666666666666666,
                "#ed7953"
               ],
               [
                0.7777777777777778,
                "#fb9f3a"
               ],
               [
                0.8888888888888888,
                "#fdca26"
               ],
               [
                1,
                "#f0f921"
               ]
              ],
              "type": "histogram2dcontour"
             }
            ],
            "mesh3d": [
             {
              "colorbar": {
               "outlinewidth": 0,
               "ticks": ""
              },
              "type": "mesh3d"
             }
            ],
            "parcoords": [
             {
              "line": {
               "colorbar": {
                "outlinewidth": 0,
                "ticks": ""
               }
              },
              "type": "parcoords"
             }
            ],
            "pie": [
             {
              "automargin": true,
              "type": "pie"
             }
            ],
            "scatter": [
             {
              "fillpattern": {
               "fillmode": "overlay",
               "size": 10,
               "solidity": 0.2
              },
              "type": "scatter"
             }
            ],
            "scatter3d": [
             {
              "line": {
               "colorbar": {
                "outlinewidth": 0,
                "ticks": ""
               }
              },
              "marker": {
               "colorbar": {
                "outlinewidth": 0,
                "ticks": ""
               }
              },
              "type": "scatter3d"
             }
            ],
            "scattercarpet": [
             {
              "marker": {
               "colorbar": {
                "outlinewidth": 0,
                "ticks": ""
               }
              },
              "type": "scattercarpet"
             }
            ],
            "scattergeo": [
             {
              "marker": {
               "colorbar": {
                "outlinewidth": 0,
                "ticks": ""
               }
              },
              "type": "scattergeo"
             }
            ],
            "scattergl": [
             {
              "marker": {
               "colorbar": {
                "outlinewidth": 0,
                "ticks": ""
               }
              },
              "type": "scattergl"
             }
            ],
            "scattermapbox": [
             {
              "marker": {
               "colorbar": {
                "outlinewidth": 0,
                "ticks": ""
               }
              },
              "type": "scattermapbox"
             }
            ],
            "scatterpolar": [
             {
              "marker": {
               "colorbar": {
                "outlinewidth": 0,
                "ticks": ""
               }
              },
              "type": "scatterpolar"
             }
            ],
            "scatterpolargl": [
             {
              "marker": {
               "colorbar": {
                "outlinewidth": 0,
                "ticks": ""
               }
              },
              "type": "scatterpolargl"
             }
            ],
            "scatterternary": [
             {
              "marker": {
               "colorbar": {
                "outlinewidth": 0,
                "ticks": ""
               }
              },
              "type": "scatterternary"
             }
            ],
            "surface": [
             {
              "colorbar": {
               "outlinewidth": 0,
               "ticks": ""
              },
              "colorscale": [
               [
                0,
                "#0d0887"
               ],
               [
                0.1111111111111111,
                "#46039f"
               ],
               [
                0.2222222222222222,
                "#7201a8"
               ],
               [
                0.3333333333333333,
                "#9c179e"
               ],
               [
                0.4444444444444444,
                "#bd3786"
               ],
               [
                0.5555555555555556,
                "#d8576b"
               ],
               [
                0.6666666666666666,
                "#ed7953"
               ],
               [
                0.7777777777777778,
                "#fb9f3a"
               ],
               [
                0.8888888888888888,
                "#fdca26"
               ],
               [
                1,
                "#f0f921"
               ]
              ],
              "type": "surface"
             }
            ],
            "table": [
             {
              "cells": {
               "fill": {
                "color": "#EBF0F8"
               },
               "line": {
                "color": "white"
               }
              },
              "header": {
               "fill": {
                "color": "#C8D4E3"
               },
               "line": {
                "color": "white"
               }
              },
              "type": "table"
             }
            ]
           },
           "layout": {
            "annotationdefaults": {
             "arrowcolor": "#2a3f5f",
             "arrowhead": 0,
             "arrowwidth": 1
            },
            "autotypenumbers": "strict",
            "coloraxis": {
             "colorbar": {
              "outlinewidth": 0,
              "ticks": ""
             }
            },
            "colorscale": {
             "diverging": [
              [
               0,
               "#8e0152"
              ],
              [
               0.1,
               "#c51b7d"
              ],
              [
               0.2,
               "#de77ae"
              ],
              [
               0.3,
               "#f1b6da"
              ],
              [
               0.4,
               "#fde0ef"
              ],
              [
               0.5,
               "#f7f7f7"
              ],
              [
               0.6,
               "#e6f5d0"
              ],
              [
               0.7,
               "#b8e186"
              ],
              [
               0.8,
               "#7fbc41"
              ],
              [
               0.9,
               "#4d9221"
              ],
              [
               1,
               "#276419"
              ]
             ],
             "sequential": [
              [
               0,
               "#0d0887"
              ],
              [
               0.1111111111111111,
               "#46039f"
              ],
              [
               0.2222222222222222,
               "#7201a8"
              ],
              [
               0.3333333333333333,
               "#9c179e"
              ],
              [
               0.4444444444444444,
               "#bd3786"
              ],
              [
               0.5555555555555556,
               "#d8576b"
              ],
              [
               0.6666666666666666,
               "#ed7953"
              ],
              [
               0.7777777777777778,
               "#fb9f3a"
              ],
              [
               0.8888888888888888,
               "#fdca26"
              ],
              [
               1,
               "#f0f921"
              ]
             ],
             "sequentialminus": [
              [
               0,
               "#0d0887"
              ],
              [
               0.1111111111111111,
               "#46039f"
              ],
              [
               0.2222222222222222,
               "#7201a8"
              ],
              [
               0.3333333333333333,
               "#9c179e"
              ],
              [
               0.4444444444444444,
               "#bd3786"
              ],
              [
               0.5555555555555556,
               "#d8576b"
              ],
              [
               0.6666666666666666,
               "#ed7953"
              ],
              [
               0.7777777777777778,
               "#fb9f3a"
              ],
              [
               0.8888888888888888,
               "#fdca26"
              ],
              [
               1,
               "#f0f921"
              ]
             ]
            },
            "colorway": [
             "#636efa",
             "#EF553B",
             "#00cc96",
             "#ab63fa",
             "#FFA15A",
             "#19d3f3",
             "#FF6692",
             "#B6E880",
             "#FF97FF",
             "#FECB52"
            ],
            "font": {
             "color": "#2a3f5f"
            },
            "geo": {
             "bgcolor": "white",
             "lakecolor": "white",
             "landcolor": "white",
             "showlakes": true,
             "showland": true,
             "subunitcolor": "#C8D4E3"
            },
            "hoverlabel": {
             "align": "left"
            },
            "hovermode": "closest",
            "mapbox": {
             "style": "light"
            },
            "paper_bgcolor": "white",
            "plot_bgcolor": "white",
            "polar": {
             "angularaxis": {
              "gridcolor": "#EBF0F8",
              "linecolor": "#EBF0F8",
              "ticks": ""
             },
             "bgcolor": "white",
             "radialaxis": {
              "gridcolor": "#EBF0F8",
              "linecolor": "#EBF0F8",
              "ticks": ""
             }
            },
            "scene": {
             "xaxis": {
              "backgroundcolor": "white",
              "gridcolor": "#DFE8F3",
              "gridwidth": 2,
              "linecolor": "#EBF0F8",
              "showbackground": true,
              "ticks": "",
              "zerolinecolor": "#EBF0F8"
             },
             "yaxis": {
              "backgroundcolor": "white",
              "gridcolor": "#DFE8F3",
              "gridwidth": 2,
              "linecolor": "#EBF0F8",
              "showbackground": true,
              "ticks": "",
              "zerolinecolor": "#EBF0F8"
             },
             "zaxis": {
              "backgroundcolor": "white",
              "gridcolor": "#DFE8F3",
              "gridwidth": 2,
              "linecolor": "#EBF0F8",
              "showbackground": true,
              "ticks": "",
              "zerolinecolor": "#EBF0F8"
             }
            },
            "shapedefaults": {
             "line": {
              "color": "#2a3f5f"
             }
            },
            "ternary": {
             "aaxis": {
              "gridcolor": "#DFE8F3",
              "linecolor": "#A2B1C6",
              "ticks": ""
             },
             "baxis": {
              "gridcolor": "#DFE8F3",
              "linecolor": "#A2B1C6",
              "ticks": ""
             },
             "bgcolor": "white",
             "caxis": {
              "gridcolor": "#DFE8F3",
              "linecolor": "#A2B1C6",
              "ticks": ""
             }
            },
            "title": {
             "x": 0.05
            },
            "xaxis": {
             "automargin": true,
             "gridcolor": "#EBF0F8",
             "linecolor": "#EBF0F8",
             "ticks": "",
             "title": {
              "standoff": 15
             },
             "zerolinecolor": "#EBF0F8",
             "zerolinewidth": 2
            },
            "yaxis": {
             "automargin": true,
             "gridcolor": "#EBF0F8",
             "linecolor": "#EBF0F8",
             "ticks": "",
             "title": {
              "standoff": 15
             },
             "zerolinecolor": "#EBF0F8",
             "zerolinewidth": 2
            }
           }
          },
          "xaxis": {
           "automargin": false,
           "linecolor": "#444",
           "linewidth": 2,
           "minor": {
            "tickmode": "linear",
            "ticks": "outside"
           },
           "mirror": true,
           "showline": true,
           "tickmode": "linear",
           "ticks": "outside",
           "zeroline": false
          },
          "yaxis": {
           "automargin": true,
           "linecolor": "#444",
           "linewidth": 2,
           "minor": {
            "tickmode": "linear",
            "ticks": "outside"
           },
           "mirror": true,
           "showline": true,
           "ticks": "outside",
           "zeroline": false
          }
         }
        },
        "width": 600,
        "xaxis": {
         "dtick": 0.2,
         "minor": {
          "dtick": 0.1,
          "tick0": 0
         },
         "range": [
          0,
          1
         ],
         "tick0": 0,
         "title": {
          "text": "encounter difficulty"
         }
        },
        "yaxis": {
         "dtick": 0.2,
         "minor": {
          "dtick": 0.1,
          "tick0": 0
         },
         "range": [
          -0.01,
          1.01
         ],
         "tick0": 0,
         "tickformat": ".1f",
         "title": {
          "text": "win probability"
         }
        }
       }
      }
     },
     "metadata": {},
     "output_type": "display_data"
    }
   ],
   "source": [
    "# Fig. 1: plots the probability of PCs and monsters winning for a range of difficulties\n",
    "\n",
    "difficulties = list(np.linspace(0.01, 1.0, 21))\n",
    "\n",
    "pc_win_pct = []\n",
    "mon_win_pct = []\n",
    "for diff in difficulties:\n",
    "    party_hp = 100\n",
    "    pc_r_win = 3\n",
    "    pc_dpr_cv = 0.5\n",
    "\n",
    "    mon_hp = 100\n",
    "    mon_r_win = pc_r_win/diff\n",
    "    mon_dpr_cv = 0.5\n",
    "\n",
    "\n",
    "    party_dpr = mon_hp/pc_r_win\n",
    "    party_size = 4\n",
    "    pc_hp = party_hp/party_size\n",
    "    pc_dpr = party_dpr/party_size\n",
    "\n",
    "    mon_dpr = party_hp/mon_r_win\n",
    "\n",
    "    # construct combatants\n",
    "    combatants = [\n",
    "        cp.Combatant(\n",
    "            group='NPCs',\n",
    "            name='monster',\n",
    "            opponent='PCs',\n",
    "            level=5,\n",
    "            hit_points = mon_hp,\n",
    "            damage = [cp.gaussian_dice_distribution(mon_dpr, mon_dpr_cv*mon_dpr)],\n",
    "        ),\n",
    "        cp.Combatant(\n",
    "            group='PCs',\n",
    "            name='PC 1',\n",
    "            opponent='NPCs',\n",
    "            level=5,\n",
    "            hit_points = pc_hp,\n",
    "            damage = [cp.gaussian_dice_distribution(pc_dpr, pc_dpr_cv*pc_dpr)],\n",
    "        ),\n",
    "        cp.Combatant(\n",
    "            group='PCs',\n",
    "            name='PC 2',\n",
    "            opponent='NPCs',\n",
    "            level=5,\n",
    "            hit_points = pc_hp,\n",
    "            damage = [cp.gaussian_dice_distribution(pc_dpr, pc_dpr_cv*pc_dpr)],\n",
    "        ),\n",
    "        cp.Combatant(\n",
    "            group='PCs',\n",
    "            name='PC 3',\n",
    "            opponent='NPCs',\n",
    "            level=5,\n",
    "            hit_points = pc_hp,\n",
    "            damage = [cp.gaussian_dice_distribution(pc_dpr, pc_dpr_cv*pc_dpr)],\n",
    "        ),\n",
    "        cp.Combatant(\n",
    "            group='PCs',\n",
    "            name='PC 4',\n",
    "            opponent='NPCs',\n",
    "            level=5,\n",
    "            hit_points = pc_hp,\n",
    "            damage = [cp.gaussian_dice_distribution(pc_dpr, pc_dpr_cv*pc_dpr)],\n",
    "        ),\n",
    "    ]\n",
    "    e = cp.Encounter(combatants, initiative=['PC 1','PC 2','monster','PC 3','PC 4'], rounds=10)\n",
    "    pc_win_pct += [e.group_win_pct('PCs', method='approx')]\n",
    "    mon_win_pct += [e.group_win_pct('NPCs', method='approx')]\n",
    "\n",
    "\n",
    "# create figure\n",
    "fig = go.Figure(\n",
    "    layout=go.Layout(\n",
    "        template=tfb.FIG_TEMPLATE,\n",
    "        xaxis=dict(\n",
    "            title_text='encounter difficulty',\n",
    "            range=[0.0, 1.0],\n",
    "            tick0=0, dtick=0.2,\n",
    "            minor=dict(tick0=0, dtick=0.1),\n",
    "        ),\n",
    "        yaxis=dict(\n",
    "            title_text='win probability',\n",
    "            range=[-0.01,1.01],\n",
    "            tickformat='.1f',\n",
    "            tick0=0, dtick=0.2,\n",
    "            minor=dict(tick0=0, dtick=0.1),\n",
    "        ),\n",
    "        legend=dict(\n",
    "            xanchor='right', yanchor='top',\n",
    "            x=0.98, y=0.98,\n",
    "            orientation='v',\n",
    "            tracegroupgap=0,\n",
    "            bgcolor='rgba(0,0,0,0)',\n",
    "        )\n",
    "    )\n",
    ")\n",
    "\n",
    "# plot difficulty ranges\n",
    "thresholds = [\n",
    "    ('Trivial', 0.00, 0.15, 'rgba(167, 167, 167, 0.15)'),\n",
    "    ('Easy',    0.15, 0.15, 'rgba(  0, 199, 151, 0.15)'),\n",
    "    ('Medium',  0.30, 0.15, 'rgba(245, 166,  35, 0.15)'),\n",
    "    ('Hard',    0.45, 0.25, 'rgba(228,  90,  29, 0.15)'),\n",
    "    ('Deadly',  0.70, 0.30, 'rgba(144,  79, 213, 0.15)'), #rgba(213,  79,  79, 0.2)'\n",
    "]\n",
    "for name, diff, dx, color in thresholds:\n",
    "    \"\"\"fig.add_trace(go.Scatter(\n",
    "        x=[diff,diff],\n",
    "        y=[0,1],\n",
    "        showlegend=False,\n",
    "        mode='lines',\n",
    "        line=dict(\n",
    "            color='black', \n",
    "            width=1,\n",
    "            dash='dash'\n",
    "        ),\n",
    "        hoverinfo='none',\n",
    "    ))\"\"\"\n",
    "\n",
    "    fig.add_trace(go.Scatter(\n",
    "        x=[diff, diff+dx], \n",
    "        y=[1.0, 1.0],\n",
    "        mode='none',\n",
    "        fill='tozeroy', \n",
    "        showlegend=False,\n",
    "        #line_color=color,\n",
    "        #marker_color=color,\n",
    "        fillcolor=color,\n",
    "        #hoveron = 'points+fills', # select where hover is active\n",
    "        hoverinfo='none'\n",
    "    ))\n",
    "    fig.add_annotation(\n",
    "        x=diff + dx/2, \n",
    "        y=0.50,\n",
    "        text=name,\n",
    "        showarrow=False,\n",
    "    )\n",
    "\n",
    "# plot data\n",
    "fig.add_trace(go.Scatter(\n",
    "    x=difficulties,\n",
    "    y=pc_win_pct,\n",
    "    name=f'PCs',\n",
    "    mode='lines',\n",
    "    line_color=COLOR_LIST[0],\n",
    "    hovertemplate=\n",
    "        f'<b>PCs</b><br>'+\n",
    "        'difficulty %{x:.2f}<br>'+\n",
    "        'probability %{y:.1%}<extra></extra>',\n",
    "))\n",
    "\n",
    "fig.add_trace(go.Scatter(\n",
    "    x=difficulties,\n",
    "    y=mon_win_pct,\n",
    "    name=f'NPCs',\n",
    "    mode='lines',\n",
    "    line_color=COLOR_LIST[1],\n",
    "    hovertemplate=\n",
    "        f'<b>NPCs</b><br>'+\n",
    "        'difficulty %{x:.2f}<br>'+\n",
    "        'probability %{y:.1%}<extra></extra>',\n",
    "))\n",
    "\n",
    "# show figure\n",
    "fig.update_layout(width=600, height=450)\n",
    "fig.show(config=tfb.FIG_CONFIG)\n",
    "\n",
    "# save figures\n",
    "if SAVEFIGS:\n",
    "    fig.update_layout(autosize=True, width=None, height=None)\n",
    "    tfb.save_fig_html(fig, format='large', name=f'./fig-win-vs-diff-deadly-large')\n",
    "    tfb.save_fig_html(fig, format='small', name=f'./fig-win-vs-diff-deadly-small')"
   ]
  },
  {
   "cell_type": "code",
   "execution_count": 52,
   "metadata": {},
   "outputs": [
    {
     "data": {
      "application/vnd.plotly.v1+json": {
       "config": {
        "autosizable": true,
        "displayModeBar": "hover",
        "displaylogo": false,
        "doubleClick": "reset",
        "modeBarButtonsToRemove": [
         "select2d",
         "lasso2d",
         "zoom2d",
         "zoomIn2d",
         "zoomOut2d",
         "pan2d",
         "autoScale2d",
         "hoverClosestCartesian",
         "hoverCompareCartesian",
         "toggleSpikelines",
         "resetScale2d"
        ],
        "plotlyServerURL": "https://plot.ly",
        "responsive": true,
        "showAxisDragHandles": false,
        "toImageButtonOptions": {
         "filename": "tfb-plot",
         "format": "png",
         "height": 450,
         "scale": 2,
         "width": 600
        }
       },
       "data": [
        {
         "fill": "tozeroy",
         "fillcolor": "rgba(167, 167, 167, 0.15)",
         "hoverinfo": "none",
         "mode": "none",
         "showlegend": false,
         "type": "scatter",
         "x": [
          0,
          0.15
         ],
         "y": [
          1,
          1
         ]
        },
        {
         "fill": "tozeroy",
         "fillcolor": "rgba(  0, 199, 151, 0.15)",
         "hoverinfo": "none",
         "mode": "none",
         "showlegend": false,
         "type": "scatter",
         "x": [
          0.15,
          0.3
         ],
         "y": [
          1,
          1
         ]
        },
        {
         "fill": "tozeroy",
         "fillcolor": "rgba(245, 166,  35, 0.15)",
         "hoverinfo": "none",
         "mode": "none",
         "showlegend": false,
         "type": "scatter",
         "x": [
          0.3,
          0.44999999999999996
         ],
         "y": [
          1,
          1
         ]
        },
        {
         "fill": "tozeroy",
         "fillcolor": "rgba(228,  90,  29, 0.15)",
         "hoverinfo": "none",
         "mode": "none",
         "showlegend": false,
         "type": "scatter",
         "x": [
          0.45,
          0.7
         ],
         "y": [
          1,
          1
         ]
        },
        {
         "fill": "tozeroy",
         "fillcolor": "rgba(144,  79, 213, 0.15)",
         "hoverinfo": "none",
         "mode": "none",
         "showlegend": false,
         "type": "scatter",
         "x": [
          0.7,
          1
         ],
         "y": [
          1,
          1
         ]
        },
        {
         "hovertemplate": "<b>PCs</b><br>difficulty %{x:.2f}<br>HP lost %{y:.1%}<extra></extra>",
         "line": {
          "color": "#1f77b4"
         },
         "mode": "lines",
         "name": "PCs",
         "type": "scatter",
         "x": [
          0.05,
          0.0975,
          0.14500000000000002,
          0.1925,
          0.24,
          0.2875,
          0.335,
          0.3825,
          0.43,
          0.4775,
          0.525,
          0.5725,
          0.6200000000000001,
          0.6675000000000001,
          0.7150000000000001,
          0.7625000000000001,
          0.81,
          0.8575,
          0.905,
          0.9525,
          1
         ],
         "y": [
          0.05046114683854839,
          0.09839873974212511,
          0.1463365866332426,
          0.19427443401984104,
          0.24221228203323972,
          0.290150129244503,
          0.3380879974174582,
          0.38602612480712667,
          0.4339613985193994,
          0.48184155458363614,
          0.5294424414837662,
          0.5762701706801366,
          0.6215590113940277,
          0.6643862944474956,
          0.7038729506760063,
          0.7393298693484545,
          0.7703032866891484,
          0.7965908847325419,
          0.8182653646228141,
          0.8356736812824626,
          0.8493812648431934
         ]
        },
        {
         "hovertemplate": "<b>NPCs</b><br>difficulty %{x:.2f}<br>HP lost %{y:.1%}<extra></extra>",
         "line": {
          "color": "#ff7f0e"
         },
         "mode": "lines",
         "name": "NPCs",
         "type": "scatter",
         "x": [
          0.05,
          0.0975,
          0.14500000000000002,
          0.1925,
          0.24,
          0.2875,
          0.335,
          0.3825,
          0.43,
          0.4775,
          0.525,
          0.5725,
          0.6200000000000001,
          0.6675000000000001,
          0.7150000000000001,
          0.7625000000000001,
          0.81,
          0.8575,
          0.905,
          0.9525,
          1
         ],
         "y": [
          0.9390981305166742,
          0.9390981305166742,
          0.9390981305166742,
          0.9390981305166742,
          0.939098130516674,
          0.9390981305163006,
          0.9390981298784666,
          0.9390980400376975,
          0.9390958324044886,
          0.9390735188448764,
          0.93893414268034,
          0.9383679876784008,
          0.9368088193210042,
          0.9336361789241943,
          0.9284328668848277,
          0.9210517442028384,
          0.9115196814437279,
          0.8999367583229555,
          0.886445436068684,
          0.8712453558217758,
          0.8546069004548512
         ]
        },
        {
         "hoverinfo": "skip",
         "line": {
          "color": "black",
          "dash": "dash"
         },
         "mode": "lines",
         "name": "1-to-1",
         "showlegend": false,
         "type": "scatter",
         "x": [
          0,
          1
         ],
         "y": [
          0,
          1
         ]
        }
       ],
       "layout": {
        "annotations": [
         {
          "showarrow": false,
          "text": "Trivial",
          "x": 0.075,
          "y": 0.5
         },
         {
          "showarrow": false,
          "text": "Easy",
          "x": 0.22499999999999998,
          "y": 0.5
         },
         {
          "showarrow": false,
          "text": "Medium",
          "x": 0.375,
          "y": 0.5
         },
         {
          "showarrow": false,
          "text": "Hard",
          "x": 0.575,
          "y": 0.5
         },
         {
          "showarrow": false,
          "text": "Deadly",
          "x": 0.85,
          "y": 0.5
         }
        ],
        "height": 450,
        "legend": {
         "bgcolor": "rgba(0,0,0,0)",
         "orientation": "v",
         "tracegroupgap": 0,
         "x": 0.98,
         "xanchor": "right",
         "y": 0.98,
         "yanchor": "top"
        },
        "template": {
         "layout": {
          "autosize": false,
          "font": {
           "family": "sans-serif",
           "size": 14
          },
          "hoverlabel": {
           "align": "left"
          },
          "hovermode": "closest",
          "margin": {
           "b": 55,
           "l": 60,
           "pad": 4,
           "r": 25,
           "t": 20
          },
          "template": {
           "data": {
            "bar": [
             {
              "error_x": {
               "color": "#2a3f5f"
              },
              "error_y": {
               "color": "#2a3f5f"
              },
              "marker": {
               "line": {
                "color": "white",
                "width": 0.5
               },
               "pattern": {
                "fillmode": "overlay",
                "size": 10,
                "solidity": 0.2
               }
              },
              "type": "bar"
             }
            ],
            "barpolar": [
             {
              "marker": {
               "line": {
                "color": "white",
                "width": 0.5
               },
               "pattern": {
                "fillmode": "overlay",
                "size": 10,
                "solidity": 0.2
               }
              },
              "type": "barpolar"
             }
            ],
            "carpet": [
             {
              "aaxis": {
               "endlinecolor": "#2a3f5f",
               "gridcolor": "#C8D4E3",
               "linecolor": "#C8D4E3",
               "minorgridcolor": "#C8D4E3",
               "startlinecolor": "#2a3f5f"
              },
              "baxis": {
               "endlinecolor": "#2a3f5f",
               "gridcolor": "#C8D4E3",
               "linecolor": "#C8D4E3",
               "minorgridcolor": "#C8D4E3",
               "startlinecolor": "#2a3f5f"
              },
              "type": "carpet"
             }
            ],
            "choropleth": [
             {
              "colorbar": {
               "outlinewidth": 0,
               "ticks": ""
              },
              "type": "choropleth"
             }
            ],
            "contour": [
             {
              "colorbar": {
               "outlinewidth": 0,
               "ticks": ""
              },
              "colorscale": [
               [
                0,
                "#0d0887"
               ],
               [
                0.1111111111111111,
                "#46039f"
               ],
               [
                0.2222222222222222,
                "#7201a8"
               ],
               [
                0.3333333333333333,
                "#9c179e"
               ],
               [
                0.4444444444444444,
                "#bd3786"
               ],
               [
                0.5555555555555556,
                "#d8576b"
               ],
               [
                0.6666666666666666,
                "#ed7953"
               ],
               [
                0.7777777777777778,
                "#fb9f3a"
               ],
               [
                0.8888888888888888,
                "#fdca26"
               ],
               [
                1,
                "#f0f921"
               ]
              ],
              "type": "contour"
             }
            ],
            "contourcarpet": [
             {
              "colorbar": {
               "outlinewidth": 0,
               "ticks": ""
              },
              "type": "contourcarpet"
             }
            ],
            "heatmap": [
             {
              "colorbar": {
               "outlinewidth": 0,
               "ticks": ""
              },
              "colorscale": [
               [
                0,
                "#0d0887"
               ],
               [
                0.1111111111111111,
                "#46039f"
               ],
               [
                0.2222222222222222,
                "#7201a8"
               ],
               [
                0.3333333333333333,
                "#9c179e"
               ],
               [
                0.4444444444444444,
                "#bd3786"
               ],
               [
                0.5555555555555556,
                "#d8576b"
               ],
               [
                0.6666666666666666,
                "#ed7953"
               ],
               [
                0.7777777777777778,
                "#fb9f3a"
               ],
               [
                0.8888888888888888,
                "#fdca26"
               ],
               [
                1,
                "#f0f921"
               ]
              ],
              "type": "heatmap"
             }
            ],
            "heatmapgl": [
             {
              "colorbar": {
               "outlinewidth": 0,
               "ticks": ""
              },
              "colorscale": [
               [
                0,
                "#0d0887"
               ],
               [
                0.1111111111111111,
                "#46039f"
               ],
               [
                0.2222222222222222,
                "#7201a8"
               ],
               [
                0.3333333333333333,
                "#9c179e"
               ],
               [
                0.4444444444444444,
                "#bd3786"
               ],
               [
                0.5555555555555556,
                "#d8576b"
               ],
               [
                0.6666666666666666,
                "#ed7953"
               ],
               [
                0.7777777777777778,
                "#fb9f3a"
               ],
               [
                0.8888888888888888,
                "#fdca26"
               ],
               [
                1,
                "#f0f921"
               ]
              ],
              "type": "heatmapgl"
             }
            ],
            "histogram": [
             {
              "marker": {
               "pattern": {
                "fillmode": "overlay",
                "size": 10,
                "solidity": 0.2
               }
              },
              "type": "histogram"
             }
            ],
            "histogram2d": [
             {
              "colorbar": {
               "outlinewidth": 0,
               "ticks": ""
              },
              "colorscale": [
               [
                0,
                "#0d0887"
               ],
               [
                0.1111111111111111,
                "#46039f"
               ],
               [
                0.2222222222222222,
                "#7201a8"
               ],
               [
                0.3333333333333333,
                "#9c179e"
               ],
               [
                0.4444444444444444,
                "#bd3786"
               ],
               [
                0.5555555555555556,
                "#d8576b"
               ],
               [
                0.6666666666666666,
                "#ed7953"
               ],
               [
                0.7777777777777778,
                "#fb9f3a"
               ],
               [
                0.8888888888888888,
                "#fdca26"
               ],
               [
                1,
                "#f0f921"
               ]
              ],
              "type": "histogram2d"
             }
            ],
            "histogram2dcontour": [
             {
              "colorbar": {
               "outlinewidth": 0,
               "ticks": ""
              },
              "colorscale": [
               [
                0,
                "#0d0887"
               ],
               [
                0.1111111111111111,
                "#46039f"
               ],
               [
                0.2222222222222222,
                "#7201a8"
               ],
               [
                0.3333333333333333,
                "#9c179e"
               ],
               [
                0.4444444444444444,
                "#bd3786"
               ],
               [
                0.5555555555555556,
                "#d8576b"
               ],
               [
                0.6666666666666666,
                "#ed7953"
               ],
               [
                0.7777777777777778,
                "#fb9f3a"
               ],
               [
                0.8888888888888888,
                "#fdca26"
               ],
               [
                1,
                "#f0f921"
               ]
              ],
              "type": "histogram2dcontour"
             }
            ],
            "mesh3d": [
             {
              "colorbar": {
               "outlinewidth": 0,
               "ticks": ""
              },
              "type": "mesh3d"
             }
            ],
            "parcoords": [
             {
              "line": {
               "colorbar": {
                "outlinewidth": 0,
                "ticks": ""
               }
              },
              "type": "parcoords"
             }
            ],
            "pie": [
             {
              "automargin": true,
              "type": "pie"
             }
            ],
            "scatter": [
             {
              "fillpattern": {
               "fillmode": "overlay",
               "size": 10,
               "solidity": 0.2
              },
              "type": "scatter"
             }
            ],
            "scatter3d": [
             {
              "line": {
               "colorbar": {
                "outlinewidth": 0,
                "ticks": ""
               }
              },
              "marker": {
               "colorbar": {
                "outlinewidth": 0,
                "ticks": ""
               }
              },
              "type": "scatter3d"
             }
            ],
            "scattercarpet": [
             {
              "marker": {
               "colorbar": {
                "outlinewidth": 0,
                "ticks": ""
               }
              },
              "type": "scattercarpet"
             }
            ],
            "scattergeo": [
             {
              "marker": {
               "colorbar": {
                "outlinewidth": 0,
                "ticks": ""
               }
              },
              "type": "scattergeo"
             }
            ],
            "scattergl": [
             {
              "marker": {
               "colorbar": {
                "outlinewidth": 0,
                "ticks": ""
               }
              },
              "type": "scattergl"
             }
            ],
            "scattermapbox": [
             {
              "marker": {
               "colorbar": {
                "outlinewidth": 0,
                "ticks": ""
               }
              },
              "type": "scattermapbox"
             }
            ],
            "scatterpolar": [
             {
              "marker": {
               "colorbar": {
                "outlinewidth": 0,
                "ticks": ""
               }
              },
              "type": "scatterpolar"
             }
            ],
            "scatterpolargl": [
             {
              "marker": {
               "colorbar": {
                "outlinewidth": 0,
                "ticks": ""
               }
              },
              "type": "scatterpolargl"
             }
            ],
            "scatterternary": [
             {
              "marker": {
               "colorbar": {
                "outlinewidth": 0,
                "ticks": ""
               }
              },
              "type": "scatterternary"
             }
            ],
            "surface": [
             {
              "colorbar": {
               "outlinewidth": 0,
               "ticks": ""
              },
              "colorscale": [
               [
                0,
                "#0d0887"
               ],
               [
                0.1111111111111111,
                "#46039f"
               ],
               [
                0.2222222222222222,
                "#7201a8"
               ],
               [
                0.3333333333333333,
                "#9c179e"
               ],
               [
                0.4444444444444444,
                "#bd3786"
               ],
               [
                0.5555555555555556,
                "#d8576b"
               ],
               [
                0.6666666666666666,
                "#ed7953"
               ],
               [
                0.7777777777777778,
                "#fb9f3a"
               ],
               [
                0.8888888888888888,
                "#fdca26"
               ],
               [
                1,
                "#f0f921"
               ]
              ],
              "type": "surface"
             }
            ],
            "table": [
             {
              "cells": {
               "fill": {
                "color": "#EBF0F8"
               },
               "line": {
                "color": "white"
               }
              },
              "header": {
               "fill": {
                "color": "#C8D4E3"
               },
               "line": {
                "color": "white"
               }
              },
              "type": "table"
             }
            ]
           },
           "layout": {
            "annotationdefaults": {
             "arrowcolor": "#2a3f5f",
             "arrowhead": 0,
             "arrowwidth": 1
            },
            "autotypenumbers": "strict",
            "coloraxis": {
             "colorbar": {
              "outlinewidth": 0,
              "ticks": ""
             }
            },
            "colorscale": {
             "diverging": [
              [
               0,
               "#8e0152"
              ],
              [
               0.1,
               "#c51b7d"
              ],
              [
               0.2,
               "#de77ae"
              ],
              [
               0.3,
               "#f1b6da"
              ],
              [
               0.4,
               "#fde0ef"
              ],
              [
               0.5,
               "#f7f7f7"
              ],
              [
               0.6,
               "#e6f5d0"
              ],
              [
               0.7,
               "#b8e186"
              ],
              [
               0.8,
               "#7fbc41"
              ],
              [
               0.9,
               "#4d9221"
              ],
              [
               1,
               "#276419"
              ]
             ],
             "sequential": [
              [
               0,
               "#0d0887"
              ],
              [
               0.1111111111111111,
               "#46039f"
              ],
              [
               0.2222222222222222,
               "#7201a8"
              ],
              [
               0.3333333333333333,
               "#9c179e"
              ],
              [
               0.4444444444444444,
               "#bd3786"
              ],
              [
               0.5555555555555556,
               "#d8576b"
              ],
              [
               0.6666666666666666,
               "#ed7953"
              ],
              [
               0.7777777777777778,
               "#fb9f3a"
              ],
              [
               0.8888888888888888,
               "#fdca26"
              ],
              [
               1,
               "#f0f921"
              ]
             ],
             "sequentialminus": [
              [
               0,
               "#0d0887"
              ],
              [
               0.1111111111111111,
               "#46039f"
              ],
              [
               0.2222222222222222,
               "#7201a8"
              ],
              [
               0.3333333333333333,
               "#9c179e"
              ],
              [
               0.4444444444444444,
               "#bd3786"
              ],
              [
               0.5555555555555556,
               "#d8576b"
              ],
              [
               0.6666666666666666,
               "#ed7953"
              ],
              [
               0.7777777777777778,
               "#fb9f3a"
              ],
              [
               0.8888888888888888,
               "#fdca26"
              ],
              [
               1,
               "#f0f921"
              ]
             ]
            },
            "colorway": [
             "#636efa",
             "#EF553B",
             "#00cc96",
             "#ab63fa",
             "#FFA15A",
             "#19d3f3",
             "#FF6692",
             "#B6E880",
             "#FF97FF",
             "#FECB52"
            ],
            "font": {
             "color": "#2a3f5f"
            },
            "geo": {
             "bgcolor": "white",
             "lakecolor": "white",
             "landcolor": "white",
             "showlakes": true,
             "showland": true,
             "subunitcolor": "#C8D4E3"
            },
            "hoverlabel": {
             "align": "left"
            },
            "hovermode": "closest",
            "mapbox": {
             "style": "light"
            },
            "paper_bgcolor": "white",
            "plot_bgcolor": "white",
            "polar": {
             "angularaxis": {
              "gridcolor": "#EBF0F8",
              "linecolor": "#EBF0F8",
              "ticks": ""
             },
             "bgcolor": "white",
             "radialaxis": {
              "gridcolor": "#EBF0F8",
              "linecolor": "#EBF0F8",
              "ticks": ""
             }
            },
            "scene": {
             "xaxis": {
              "backgroundcolor": "white",
              "gridcolor": "#DFE8F3",
              "gridwidth": 2,
              "linecolor": "#EBF0F8",
              "showbackground": true,
              "ticks": "",
              "zerolinecolor": "#EBF0F8"
             },
             "yaxis": {
              "backgroundcolor": "white",
              "gridcolor": "#DFE8F3",
              "gridwidth": 2,
              "linecolor": "#EBF0F8",
              "showbackground": true,
              "ticks": "",
              "zerolinecolor": "#EBF0F8"
             },
             "zaxis": {
              "backgroundcolor": "white",
              "gridcolor": "#DFE8F3",
              "gridwidth": 2,
              "linecolor": "#EBF0F8",
              "showbackground": true,
              "ticks": "",
              "zerolinecolor": "#EBF0F8"
             }
            },
            "shapedefaults": {
             "line": {
              "color": "#2a3f5f"
             }
            },
            "ternary": {
             "aaxis": {
              "gridcolor": "#DFE8F3",
              "linecolor": "#A2B1C6",
              "ticks": ""
             },
             "baxis": {
              "gridcolor": "#DFE8F3",
              "linecolor": "#A2B1C6",
              "ticks": ""
             },
             "bgcolor": "white",
             "caxis": {
              "gridcolor": "#DFE8F3",
              "linecolor": "#A2B1C6",
              "ticks": ""
             }
            },
            "title": {
             "x": 0.05
            },
            "xaxis": {
             "automargin": true,
             "gridcolor": "#EBF0F8",
             "linecolor": "#EBF0F8",
             "ticks": "",
             "title": {
              "standoff": 15
             },
             "zerolinecolor": "#EBF0F8",
             "zerolinewidth": 2
            },
            "yaxis": {
             "automargin": true,
             "gridcolor": "#EBF0F8",
             "linecolor": "#EBF0F8",
             "ticks": "",
             "title": {
              "standoff": 15
             },
             "zerolinecolor": "#EBF0F8",
             "zerolinewidth": 2
            }
           }
          },
          "xaxis": {
           "automargin": false,
           "linecolor": "#444",
           "linewidth": 2,
           "minor": {
            "tickmode": "linear",
            "ticks": "outside"
           },
           "mirror": true,
           "showline": true,
           "tickmode": "linear",
           "ticks": "outside",
           "zeroline": false
          },
          "yaxis": {
           "automargin": true,
           "linecolor": "#444",
           "linewidth": 2,
           "minor": {
            "tickmode": "linear",
            "ticks": "outside"
           },
           "mirror": true,
           "showline": true,
           "ticks": "outside",
           "zeroline": false
          }
         }
        },
        "width": 600,
        "xaxis": {
         "dtick": 0.2,
         "minor": {
          "dtick": 0.1,
          "tick0": 0
         },
         "range": [
          0,
          1
         ],
         "tick0": 0,
         "title": {
          "text": "encounter difficulty"
         }
        },
        "yaxis": {
         "dtick": 0.2,
         "minor": {
          "dtick": 0.1,
          "tick0": 0
         },
         "range": [
          -0.01,
          1.01
         ],
         "tick0": 0,
         "title": {
          "text": "damage taken / hit points"
         }
        }
       }
      }
     },
     "metadata": {},
     "output_type": "display_data"
    }
   ],
   "source": [
    "# plots the average damage taken by the PCs and monsters for a range of difficulties\n",
    "\n",
    "difficulties = list(np.linspace(0.05, 1.0, 21))\n",
    "pc_win_pct = []\n",
    "mon_win_pct = []\n",
    "pc_hp_loss = []\n",
    "pc_hp_loss_sigma = []\n",
    "mon_hp_loss = []\n",
    "mon_hp_loss_sigma = []\n",
    "for diff in difficulties:\n",
    "    party_hp = 100\n",
    "    pc_r_win = 3\n",
    "    pc_dpr_cv = 0.5\n",
    "\n",
    "    mon_hp = 100\n",
    "    mon_r_win = pc_r_win/diff\n",
    "    mon_dpr_cv = 0.5\n",
    "\n",
    "\n",
    "    party_dpr = mon_hp/pc_r_win\n",
    "    party_size = 4\n",
    "    pc_hp = party_hp/party_size\n",
    "    pc_dpr = party_dpr/party_size\n",
    "\n",
    "    mon_dpr = party_hp/mon_r_win\n",
    "\n",
    "    \n",
    "    combatants = [\n",
    "        cp.Combatant(\n",
    "            group='NPCs',\n",
    "            name='monster',\n",
    "            opponent='PCs',\n",
    "            level=5,\n",
    "            hit_points = mon_hp,\n",
    "            damage = [cp.gaussian_dice_distribution(mon_dpr, mon_dpr_cv*mon_dpr)],\n",
    "        ),\n",
    "        cp.Combatant(\n",
    "            group='PCs',\n",
    "            name='PC 1',\n",
    "            opponent='NPCs',\n",
    "            level=5,\n",
    "            hit_points = pc_hp,\n",
    "            damage = [cp.gaussian_dice_distribution(pc_dpr, pc_dpr_cv*pc_dpr)],\n",
    "        ),\n",
    "        cp.Combatant(\n",
    "            group='PCs',\n",
    "            name='PC 2',\n",
    "            opponent='NPCs',\n",
    "            level=5,\n",
    "            hit_points = pc_hp,\n",
    "            damage = [cp.gaussian_dice_distribution(pc_dpr, pc_dpr_cv*pc_dpr)],\n",
    "        ),\n",
    "        cp.Combatant(\n",
    "            group='PCs',\n",
    "            name='PC 3',\n",
    "            opponent='NPCs',\n",
    "            level=5,\n",
    "            hit_points = pc_hp,\n",
    "            damage = [cp.gaussian_dice_distribution(pc_dpr, pc_dpr_cv*pc_dpr)],\n",
    "        ),\n",
    "        cp.Combatant(\n",
    "            group='PCs',\n",
    "            name='PC 4',\n",
    "            opponent='NPCs',\n",
    "            level=5,\n",
    "            hit_points = pc_hp,\n",
    "            damage = [cp.gaussian_dice_distribution(pc_dpr, pc_dpr_cv*pc_dpr)],\n",
    "        ),\n",
    "    ]\n",
    "    e = cp.Encounter(combatants, initiative=['PC 1','PC 2','monster','PC 3','PC 4'], rounds=10)\n",
    "    pc_win_pct += [e.group_win_pct('PCs', method='approx')]\n",
    "    mon_win_pct += [e.group_win_pct('NPCs', method='approx')]\n",
    "\n",
    "    pc_hp_loss += [e.group_damage_mean('NPCs', method='approx', clip=True)/(party_size*pc_hp)]\n",
    "    pc_hp_loss_sigma += [e.group_damage_sigma('NPCs', method='approx', clip=True)/(party_size*pc_hp)]\n",
    "\n",
    "    mon_hp_loss += [e.group_damage_mean('PCs', method='approx', clip=True)/(mon_hp)]\n",
    "    mon_hp_loss_sigma += [e.group_damage_sigma('PCs', method='approx', clip=True)/(mon_hp)]\n",
    "\n",
    "\n",
    "# create figure\n",
    "fig = go.Figure(\n",
    "    layout=go.Layout(\n",
    "        template=tfb.FIG_TEMPLATE,\n",
    "        xaxis=dict(\n",
    "            title_text='encounter difficulty',\n",
    "            range=[0.0, 1.0],\n",
    "            tick0=0, dtick=0.2,\n",
    "            minor=dict(tick0=0, dtick=0.1),\n",
    "        ),\n",
    "        yaxis=dict(\n",
    "            title_text='damage taken / hit points',\n",
    "            range=[-0.01,1.01],\n",
    "            #tickformat='.0%'\n",
    "            tick0=0, dtick=0.2,\n",
    "            minor=dict(tick0=0, dtick=0.1),\n",
    "        ),\n",
    "        legend=dict(\n",
    "            xanchor='right', yanchor='top',\n",
    "            x=0.98, y=0.98,\n",
    "            orientation='v',\n",
    "            tracegroupgap=0,\n",
    "            bgcolor='rgba(0,0,0,0)',\n",
    "        )\n",
    "    )\n",
    ")\n",
    "\n",
    "# plot difficulty ranges\n",
    "thresholds = [\n",
    "    ('Trivial', 0.00, 0.15, 'rgba(167, 167, 167, 0.15)'),\n",
    "    ('Easy',    0.15, 0.15, 'rgba(  0, 199, 151, 0.15)'),\n",
    "    ('Medium',  0.30, 0.15, 'rgba(245, 166,  35, 0.15)'),\n",
    "    ('Hard',    0.45, 0.25, 'rgba(228,  90,  29, 0.15)'),\n",
    "    ('Deadly',  0.70, 0.30, 'rgba(144,  79, 213, 0.15)'), #rgba(213,  79,  79, 0.2)'\n",
    "]\n",
    "for name, diff, dx, color in thresholds:\n",
    "    \"\"\"fig.add_trace(go.Scatter(\n",
    "        x=[diff,diff],\n",
    "        y=[0,1],\n",
    "        showlegend=False,\n",
    "        mode='lines',\n",
    "        line=dict(\n",
    "            color='black', \n",
    "            width=1,\n",
    "            dash='dash'\n",
    "        ),\n",
    "        hoverinfo='none',\n",
    "    ))\"\"\"\n",
    "\n",
    "    fig.add_trace(go.Scatter(\n",
    "        x=[diff, diff+dx], \n",
    "        y=[1.0, 1.0],\n",
    "        mode='none',\n",
    "        fill='tozeroy', \n",
    "        showlegend=False,\n",
    "        #line_color=color,\n",
    "        #marker_color=color,\n",
    "        fillcolor=color,\n",
    "        #hoveron = 'points+fills', # select where hover is active\n",
    "        hoverinfo='none'\n",
    "    ))\n",
    "    fig.add_annotation(\n",
    "        x=diff + dx/2, \n",
    "        y=0.5,\n",
    "        text=name,\n",
    "        showarrow=False,\n",
    "    )\n",
    "\n",
    "# plot data\n",
    "fig.add_trace(go.Scatter(\n",
    "    x=difficulties,\n",
    "    y=pc_hp_loss,\n",
    "    name=f'PCs',\n",
    "    mode='lines',\n",
    "    line_color=COLOR_LIST[0],\n",
    "    hovertemplate=\n",
    "        f'<b>PCs</b><br>'+\n",
    "        'difficulty %{x:.2f}<br>'+\n",
    "        'HP lost %{y:.1%}<extra></extra>',\n",
    "))\n",
    "\n",
    "fig.add_trace(go.Scatter(\n",
    "    x=difficulties,\n",
    "    y=mon_hp_loss,\n",
    "    name=f'NPCs',\n",
    "    mode='lines',\n",
    "    line_color=COLOR_LIST[1],\n",
    "    hovertemplate=\n",
    "        f'<b>NPCs</b><br>'+\n",
    "        'difficulty %{x:.2f}<br>'+\n",
    "        'HP lost %{y:.1%}<extra></extra>',\n",
    "))\n",
    "\n",
    "fig.add_trace(go.Scatter(\n",
    "    x=[0,1],\n",
    "    y=[0,1],\n",
    "    name=f'1-to-1',\n",
    "    showlegend=False,\n",
    "    mode='lines',\n",
    "    line_color='black',\n",
    "    line_dash='dash',\n",
    "    hoverinfo='skip',\n",
    "))\n",
    "\n",
    "# show figure\n",
    "fig.update_layout(width=600, height=450)\n",
    "fig.show(config=tfb.FIG_CONFIG)\n",
    "\n",
    "# save figures\n",
    "if SAVEFIGS:\n",
    "    fig.update_layout(autosize=True, width=None, height=None)\n",
    "    #tfb.save_fig_html(fig, format='large', name=f'./fig-win-vs-diff-deadly-large')\n",
    "    #tfb.save_fig_html(fig, format='small', name=f'./fig-win-vs-diff-deadly-small')"
   ]
  },
  {
   "cell_type": "code",
   "execution_count": 53,
   "metadata": {},
   "outputs": [
    {
     "data": {
      "application/vnd.plotly.v1+json": {
       "config": {
        "autosizable": true,
        "displayModeBar": "hover",
        "displaylogo": false,
        "doubleClick": "reset",
        "modeBarButtonsToRemove": [
         "select2d",
         "lasso2d",
         "zoom2d",
         "zoomIn2d",
         "zoomOut2d",
         "pan2d",
         "autoScale2d",
         "hoverClosestCartesian",
         "hoverCompareCartesian",
         "toggleSpikelines",
         "resetScale2d"
        ],
        "plotlyServerURL": "https://plot.ly",
        "responsive": true,
        "showAxisDragHandles": false,
        "toImageButtonOptions": {
         "filename": "tfb-plot",
         "format": "png",
         "height": 450,
         "scale": 2,
         "width": 600
        }
       },
       "data": [
        {
         "hovertemplate": "<b>PCs</b><br>monster CV %{x:.2f}<br>probability %{y:.1%}<extra></extra>",
         "name": "PCs",
         "type": "scatter",
         "x": [
          0.2,
          0.30000000000000004,
          0.4,
          0.5,
          0.6000000000000001,
          0.7000000000000002,
          0.8
         ],
         "y": [
          0.9639603328021596,
          0.9485459504353797,
          0.923236492679311,
          0.8911206484679677,
          0.8586032498032969,
          0.8285709637608062,
          0.8017735364323145
         ]
        },
        {
         "hovertemplate": "<b>NPCs</b><br>monster CV %{x:.2f}<br>probability %{y:.1%}<extra></extra>",
         "name": "NPCs",
         "type": "scatter",
         "x": [
          0.2,
          0.30000000000000004,
          0.4,
          0.5,
          0.6000000000000001,
          0.7000000000000002,
          0.8
         ],
         "y": [
          0.03603966719784034,
          0.05145404956462019,
          0.07676350732068882,
          0.10887935153202974,
          0.14139675019669384,
          0.17142903623917435,
          0.19822646356765286
         ]
        }
       ],
       "layout": {
        "height": 450,
        "legend": {
         "orientation": "v",
         "tracegroupgap": 0,
         "x": 0,
         "xanchor": "left",
         "y": 1,
         "yanchor": "top"
        },
        "template": {
         "layout": {
          "autosize": false,
          "font": {
           "family": "sans-serif",
           "size": 14
          },
          "hoverlabel": {
           "align": "left"
          },
          "hovermode": "closest",
          "margin": {
           "b": 55,
           "l": 60,
           "pad": 4,
           "r": 25,
           "t": 20
          },
          "template": {
           "data": {
            "bar": [
             {
              "error_x": {
               "color": "#2a3f5f"
              },
              "error_y": {
               "color": "#2a3f5f"
              },
              "marker": {
               "line": {
                "color": "white",
                "width": 0.5
               },
               "pattern": {
                "fillmode": "overlay",
                "size": 10,
                "solidity": 0.2
               }
              },
              "type": "bar"
             }
            ],
            "barpolar": [
             {
              "marker": {
               "line": {
                "color": "white",
                "width": 0.5
               },
               "pattern": {
                "fillmode": "overlay",
                "size": 10,
                "solidity": 0.2
               }
              },
              "type": "barpolar"
             }
            ],
            "carpet": [
             {
              "aaxis": {
               "endlinecolor": "#2a3f5f",
               "gridcolor": "#C8D4E3",
               "linecolor": "#C8D4E3",
               "minorgridcolor": "#C8D4E3",
               "startlinecolor": "#2a3f5f"
              },
              "baxis": {
               "endlinecolor": "#2a3f5f",
               "gridcolor": "#C8D4E3",
               "linecolor": "#C8D4E3",
               "minorgridcolor": "#C8D4E3",
               "startlinecolor": "#2a3f5f"
              },
              "type": "carpet"
             }
            ],
            "choropleth": [
             {
              "colorbar": {
               "outlinewidth": 0,
               "ticks": ""
              },
              "type": "choropleth"
             }
            ],
            "contour": [
             {
              "colorbar": {
               "outlinewidth": 0,
               "ticks": ""
              },
              "colorscale": [
               [
                0,
                "#0d0887"
               ],
               [
                0.1111111111111111,
                "#46039f"
               ],
               [
                0.2222222222222222,
                "#7201a8"
               ],
               [
                0.3333333333333333,
                "#9c179e"
               ],
               [
                0.4444444444444444,
                "#bd3786"
               ],
               [
                0.5555555555555556,
                "#d8576b"
               ],
               [
                0.6666666666666666,
                "#ed7953"
               ],
               [
                0.7777777777777778,
                "#fb9f3a"
               ],
               [
                0.8888888888888888,
                "#fdca26"
               ],
               [
                1,
                "#f0f921"
               ]
              ],
              "type": "contour"
             }
            ],
            "contourcarpet": [
             {
              "colorbar": {
               "outlinewidth": 0,
               "ticks": ""
              },
              "type": "contourcarpet"
             }
            ],
            "heatmap": [
             {
              "colorbar": {
               "outlinewidth": 0,
               "ticks": ""
              },
              "colorscale": [
               [
                0,
                "#0d0887"
               ],
               [
                0.1111111111111111,
                "#46039f"
               ],
               [
                0.2222222222222222,
                "#7201a8"
               ],
               [
                0.3333333333333333,
                "#9c179e"
               ],
               [
                0.4444444444444444,
                "#bd3786"
               ],
               [
                0.5555555555555556,
                "#d8576b"
               ],
               [
                0.6666666666666666,
                "#ed7953"
               ],
               [
                0.7777777777777778,
                "#fb9f3a"
               ],
               [
                0.8888888888888888,
                "#fdca26"
               ],
               [
                1,
                "#f0f921"
               ]
              ],
              "type": "heatmap"
             }
            ],
            "heatmapgl": [
             {
              "colorbar": {
               "outlinewidth": 0,
               "ticks": ""
              },
              "colorscale": [
               [
                0,
                "#0d0887"
               ],
               [
                0.1111111111111111,
                "#46039f"
               ],
               [
                0.2222222222222222,
                "#7201a8"
               ],
               [
                0.3333333333333333,
                "#9c179e"
               ],
               [
                0.4444444444444444,
                "#bd3786"
               ],
               [
                0.5555555555555556,
                "#d8576b"
               ],
               [
                0.6666666666666666,
                "#ed7953"
               ],
               [
                0.7777777777777778,
                "#fb9f3a"
               ],
               [
                0.8888888888888888,
                "#fdca26"
               ],
               [
                1,
                "#f0f921"
               ]
              ],
              "type": "heatmapgl"
             }
            ],
            "histogram": [
             {
              "marker": {
               "pattern": {
                "fillmode": "overlay",
                "size": 10,
                "solidity": 0.2
               }
              },
              "type": "histogram"
             }
            ],
            "histogram2d": [
             {
              "colorbar": {
               "outlinewidth": 0,
               "ticks": ""
              },
              "colorscale": [
               [
                0,
                "#0d0887"
               ],
               [
                0.1111111111111111,
                "#46039f"
               ],
               [
                0.2222222222222222,
                "#7201a8"
               ],
               [
                0.3333333333333333,
                "#9c179e"
               ],
               [
                0.4444444444444444,
                "#bd3786"
               ],
               [
                0.5555555555555556,
                "#d8576b"
               ],
               [
                0.6666666666666666,
                "#ed7953"
               ],
               [
                0.7777777777777778,
                "#fb9f3a"
               ],
               [
                0.8888888888888888,
                "#fdca26"
               ],
               [
                1,
                "#f0f921"
               ]
              ],
              "type": "histogram2d"
             }
            ],
            "histogram2dcontour": [
             {
              "colorbar": {
               "outlinewidth": 0,
               "ticks": ""
              },
              "colorscale": [
               [
                0,
                "#0d0887"
               ],
               [
                0.1111111111111111,
                "#46039f"
               ],
               [
                0.2222222222222222,
                "#7201a8"
               ],
               [
                0.3333333333333333,
                "#9c179e"
               ],
               [
                0.4444444444444444,
                "#bd3786"
               ],
               [
                0.5555555555555556,
                "#d8576b"
               ],
               [
                0.6666666666666666,
                "#ed7953"
               ],
               [
                0.7777777777777778,
                "#fb9f3a"
               ],
               [
                0.8888888888888888,
                "#fdca26"
               ],
               [
                1,
                "#f0f921"
               ]
              ],
              "type": "histogram2dcontour"
             }
            ],
            "mesh3d": [
             {
              "colorbar": {
               "outlinewidth": 0,
               "ticks": ""
              },
              "type": "mesh3d"
             }
            ],
            "parcoords": [
             {
              "line": {
               "colorbar": {
                "outlinewidth": 0,
                "ticks": ""
               }
              },
              "type": "parcoords"
             }
            ],
            "pie": [
             {
              "automargin": true,
              "type": "pie"
             }
            ],
            "scatter": [
             {
              "fillpattern": {
               "fillmode": "overlay",
               "size": 10,
               "solidity": 0.2
              },
              "type": "scatter"
             }
            ],
            "scatter3d": [
             {
              "line": {
               "colorbar": {
                "outlinewidth": 0,
                "ticks": ""
               }
              },
              "marker": {
               "colorbar": {
                "outlinewidth": 0,
                "ticks": ""
               }
              },
              "type": "scatter3d"
             }
            ],
            "scattercarpet": [
             {
              "marker": {
               "colorbar": {
                "outlinewidth": 0,
                "ticks": ""
               }
              },
              "type": "scattercarpet"
             }
            ],
            "scattergeo": [
             {
              "marker": {
               "colorbar": {
                "outlinewidth": 0,
                "ticks": ""
               }
              },
              "type": "scattergeo"
             }
            ],
            "scattergl": [
             {
              "marker": {
               "colorbar": {
                "outlinewidth": 0,
                "ticks": ""
               }
              },
              "type": "scattergl"
             }
            ],
            "scattermapbox": [
             {
              "marker": {
               "colorbar": {
                "outlinewidth": 0,
                "ticks": ""
               }
              },
              "type": "scattermapbox"
             }
            ],
            "scatterpolar": [
             {
              "marker": {
               "colorbar": {
                "outlinewidth": 0,
                "ticks": ""
               }
              },
              "type": "scatterpolar"
             }
            ],
            "scatterpolargl": [
             {
              "marker": {
               "colorbar": {
                "outlinewidth": 0,
                "ticks": ""
               }
              },
              "type": "scatterpolargl"
             }
            ],
            "scatterternary": [
             {
              "marker": {
               "colorbar": {
                "outlinewidth": 0,
                "ticks": ""
               }
              },
              "type": "scatterternary"
             }
            ],
            "surface": [
             {
              "colorbar": {
               "outlinewidth": 0,
               "ticks": ""
              },
              "colorscale": [
               [
                0,
                "#0d0887"
               ],
               [
                0.1111111111111111,
                "#46039f"
               ],
               [
                0.2222222222222222,
                "#7201a8"
               ],
               [
                0.3333333333333333,
                "#9c179e"
               ],
               [
                0.4444444444444444,
                "#bd3786"
               ],
               [
                0.5555555555555556,
                "#d8576b"
               ],
               [
                0.6666666666666666,
                "#ed7953"
               ],
               [
                0.7777777777777778,
                "#fb9f3a"
               ],
               [
                0.8888888888888888,
                "#fdca26"
               ],
               [
                1,
                "#f0f921"
               ]
              ],
              "type": "surface"
             }
            ],
            "table": [
             {
              "cells": {
               "fill": {
                "color": "#EBF0F8"
               },
               "line": {
                "color": "white"
               }
              },
              "header": {
               "fill": {
                "color": "#C8D4E3"
               },
               "line": {
                "color": "white"
               }
              },
              "type": "table"
             }
            ]
           },
           "layout": {
            "annotationdefaults": {
             "arrowcolor": "#2a3f5f",
             "arrowhead": 0,
             "arrowwidth": 1
            },
            "autotypenumbers": "strict",
            "coloraxis": {
             "colorbar": {
              "outlinewidth": 0,
              "ticks": ""
             }
            },
            "colorscale": {
             "diverging": [
              [
               0,
               "#8e0152"
              ],
              [
               0.1,
               "#c51b7d"
              ],
              [
               0.2,
               "#de77ae"
              ],
              [
               0.3,
               "#f1b6da"
              ],
              [
               0.4,
               "#fde0ef"
              ],
              [
               0.5,
               "#f7f7f7"
              ],
              [
               0.6,
               "#e6f5d0"
              ],
              [
               0.7,
               "#b8e186"
              ],
              [
               0.8,
               "#7fbc41"
              ],
              [
               0.9,
               "#4d9221"
              ],
              [
               1,
               "#276419"
              ]
             ],
             "sequential": [
              [
               0,
               "#0d0887"
              ],
              [
               0.1111111111111111,
               "#46039f"
              ],
              [
               0.2222222222222222,
               "#7201a8"
              ],
              [
               0.3333333333333333,
               "#9c179e"
              ],
              [
               0.4444444444444444,
               "#bd3786"
              ],
              [
               0.5555555555555556,
               "#d8576b"
              ],
              [
               0.6666666666666666,
               "#ed7953"
              ],
              [
               0.7777777777777778,
               "#fb9f3a"
              ],
              [
               0.8888888888888888,
               "#fdca26"
              ],
              [
               1,
               "#f0f921"
              ]
             ],
             "sequentialminus": [
              [
               0,
               "#0d0887"
              ],
              [
               0.1111111111111111,
               "#46039f"
              ],
              [
               0.2222222222222222,
               "#7201a8"
              ],
              [
               0.3333333333333333,
               "#9c179e"
              ],
              [
               0.4444444444444444,
               "#bd3786"
              ],
              [
               0.5555555555555556,
               "#d8576b"
              ],
              [
               0.6666666666666666,
               "#ed7953"
              ],
              [
               0.7777777777777778,
               "#fb9f3a"
              ],
              [
               0.8888888888888888,
               "#fdca26"
              ],
              [
               1,
               "#f0f921"
              ]
             ]
            },
            "colorway": [
             "#636efa",
             "#EF553B",
             "#00cc96",
             "#ab63fa",
             "#FFA15A",
             "#19d3f3",
             "#FF6692",
             "#B6E880",
             "#FF97FF",
             "#FECB52"
            ],
            "font": {
             "color": "#2a3f5f"
            },
            "geo": {
             "bgcolor": "white",
             "lakecolor": "white",
             "landcolor": "white",
             "showlakes": true,
             "showland": true,
             "subunitcolor": "#C8D4E3"
            },
            "hoverlabel": {
             "align": "left"
            },
            "hovermode": "closest",
            "mapbox": {
             "style": "light"
            },
            "paper_bgcolor": "white",
            "plot_bgcolor": "white",
            "polar": {
             "angularaxis": {
              "gridcolor": "#EBF0F8",
              "linecolor": "#EBF0F8",
              "ticks": ""
             },
             "bgcolor": "white",
             "radialaxis": {
              "gridcolor": "#EBF0F8",
              "linecolor": "#EBF0F8",
              "ticks": ""
             }
            },
            "scene": {
             "xaxis": {
              "backgroundcolor": "white",
              "gridcolor": "#DFE8F3",
              "gridwidth": 2,
              "linecolor": "#EBF0F8",
              "showbackground": true,
              "ticks": "",
              "zerolinecolor": "#EBF0F8"
             },
             "yaxis": {
              "backgroundcolor": "white",
              "gridcolor": "#DFE8F3",
              "gridwidth": 2,
              "linecolor": "#EBF0F8",
              "showbackground": true,
              "ticks": "",
              "zerolinecolor": "#EBF0F8"
             },
             "zaxis": {
              "backgroundcolor": "white",
              "gridcolor": "#DFE8F3",
              "gridwidth": 2,
              "linecolor": "#EBF0F8",
              "showbackground": true,
              "ticks": "",
              "zerolinecolor": "#EBF0F8"
             }
            },
            "shapedefaults": {
             "line": {
              "color": "#2a3f5f"
             }
            },
            "ternary": {
             "aaxis": {
              "gridcolor": "#DFE8F3",
              "linecolor": "#A2B1C6",
              "ticks": ""
             },
             "baxis": {
              "gridcolor": "#DFE8F3",
              "linecolor": "#A2B1C6",
              "ticks": ""
             },
             "bgcolor": "white",
             "caxis": {
              "gridcolor": "#DFE8F3",
              "linecolor": "#A2B1C6",
              "ticks": ""
             }
            },
            "title": {
             "x": 0.05
            },
            "xaxis": {
             "automargin": true,
             "gridcolor": "#EBF0F8",
             "linecolor": "#EBF0F8",
             "ticks": "",
             "title": {
              "standoff": 15
             },
             "zerolinecolor": "#EBF0F8",
             "zerolinewidth": 2
            },
            "yaxis": {
             "automargin": true,
             "gridcolor": "#EBF0F8",
             "linecolor": "#EBF0F8",
             "ticks": "",
             "title": {
              "standoff": 15
             },
             "zerolinecolor": "#EBF0F8",
             "zerolinewidth": 2
            }
           }
          },
          "xaxis": {
           "automargin": false,
           "linecolor": "#444",
           "linewidth": 2,
           "minor": {
            "tickmode": "linear",
            "ticks": "outside"
           },
           "mirror": true,
           "showline": true,
           "tickmode": "linear",
           "ticks": "outside",
           "zeroline": false
          },
          "yaxis": {
           "automargin": true,
           "linecolor": "#444",
           "linewidth": 2,
           "minor": {
            "tickmode": "linear",
            "ticks": "outside"
           },
           "mirror": true,
           "showline": true,
           "ticks": "outside",
           "zeroline": false
          }
         }
        },
        "width": 600,
        "xaxis": {
         "dtick": 0.2,
         "minor": {
          "dtick": 0.1,
          "tick0": 0
         },
         "range": [
          0,
          1
         ],
         "tick0": 0,
         "title": {
          "text": "NPC damage sigma / mean"
         }
        },
        "yaxis": {
         "dtick": 0.2,
         "minor": {
          "dtick": 0.1,
          "tick0": 0
         },
         "range": [
          0,
          1
         ],
         "tick0": 0,
         "tickformat": ".1f",
         "title": {
          "text": "win probability"
         }
        }
       }
      }
     },
     "metadata": {},
     "output_type": "display_data"
    }
   ],
   "source": [
    "# Fig. 2: plots the probability of PCs and monsters winning for a range of monster CV values\n",
    "diff = 0.7 # deadly\n",
    "\n",
    "party_hp = 100\n",
    "pc_r_win = 3\n",
    "pc_dpr_cv = 0.5\n",
    "\n",
    "\n",
    "mon_hp = 100\n",
    "mon_r_win = pc_r_win/diff\n",
    "mon_dpr_cvs = np.linspace(0.2, 0.8, 7)\n",
    "\n",
    "\n",
    "party_dpr = mon_hp/pc_r_win\n",
    "party_size = 4\n",
    "pc_hp = party_hp/party_size\n",
    "pc_dpr = party_dpr/party_size\n",
    "\n",
    "mon_dpr = party_hp/mon_r_win\n",
    "\n",
    "\n",
    "# original\n",
    "pc_win_pct = []\n",
    "mon_win_pct = []\n",
    "for mon_dpr_cv in mon_dpr_cvs:\n",
    "    combatants = [\n",
    "        cp.Combatant(\n",
    "            group='NPCs',\n",
    "            name='monster',\n",
    "            opponent='PCs',\n",
    "            level=5,\n",
    "            hit_points = mon_hp,\n",
    "            damage = [cp.gaussian_dice_distribution(mon_dpr, mon_dpr_cv*mon_dpr)],\n",
    "        ),\n",
    "        cp.Combatant(\n",
    "            group='PCs',\n",
    "            name='PC 1',\n",
    "            opponent='NPCs',\n",
    "            level=5,\n",
    "            hit_points = pc_hp,\n",
    "            damage = [cp.gaussian_dice_distribution(pc_dpr, pc_dpr_cv*pc_dpr)],\n",
    "        ),\n",
    "        cp.Combatant(\n",
    "            group='PCs',\n",
    "            name='PC 2',\n",
    "            opponent='NPCs',\n",
    "            level=5,\n",
    "            hit_points = pc_hp,\n",
    "            damage = [cp.gaussian_dice_distribution(pc_dpr, pc_dpr_cv*pc_dpr)],\n",
    "        ),\n",
    "        cp.Combatant(\n",
    "            group='PCs',\n",
    "            name='PC 3',\n",
    "            opponent='NPCs',\n",
    "            level=5,\n",
    "            hit_points = pc_hp,\n",
    "            damage = [cp.gaussian_dice_distribution(pc_dpr, pc_dpr_cv*pc_dpr)],\n",
    "        ),\n",
    "        cp.Combatant(\n",
    "            group='PCs',\n",
    "            name='PC 4',\n",
    "            opponent='NPCs',\n",
    "            level=5,\n",
    "            hit_points = pc_hp,\n",
    "            damage = [cp.gaussian_dice_distribution(pc_dpr, pc_dpr_cv*pc_dpr)],\n",
    "        ),\n",
    "    ]\n",
    "    e = cp.Encounter(combatants, initiative=['PC 1','PC 2','monster','PC 3','PC 4'], rounds=8)\n",
    "    pc_win_pct += [e.group_win_pct('PCs', method='approx')]\n",
    "    mon_win_pct += [e.group_win_pct('NPCs', method='approx')]\n",
    "    #print(e.encounter_length(units='rounds', method='approx'))\n",
    "\n",
    "\n",
    "# create figure\n",
    "fig = go.Figure(\n",
    "    layout=go.Layout(\n",
    "        template=tfb.FIG_TEMPLATE,\n",
    "        xaxis=dict(\n",
    "            title_text='NPC damage sigma / mean',\n",
    "            range=[0, 1],\n",
    "            tick0=0, dtick=0.2,\n",
    "            minor=dict(tick0=0, dtick=0.1),\n",
    "        ),\n",
    "        yaxis=dict(\n",
    "            title_text='win probability',\n",
    "            range=[0.0,1],\n",
    "            tickformat='.1f',\n",
    "            tick0=0, dtick=0.20,\n",
    "            minor=dict(tick0=0, dtick=0.10),\n",
    "        ),\n",
    "        legend=dict(\n",
    "            xanchor='left', yanchor='top',\n",
    "            x=0.00, y=1.00,\n",
    "            orientation='v',\n",
    "            tracegroupgap=0,\n",
    "        )\n",
    "    )\n",
    ")\n",
    "\n",
    "fig.add_trace(go.Scatter(\n",
    "    x=mon_dpr_cvs,\n",
    "    y=pc_win_pct,\n",
    "    name=f'PCs',\n",
    "    #line_color=COLOR_LIST[i],\n",
    "    hovertemplate=\n",
    "        f'<b>PCs</b><br>'+\n",
    "        'monster CV %{x:.2f}<br>'+\n",
    "        'probability %{y:.1%}<extra></extra>',\n",
    "))\n",
    "\n",
    "fig.add_trace(go.Scatter(\n",
    "    x=mon_dpr_cvs,\n",
    "    y=mon_win_pct,\n",
    "    name=f'NPCs',\n",
    "    #line_color=COLOR_LIST[i],\n",
    "    hovertemplate=\n",
    "        f'<b>NPCs</b><br>'+\n",
    "        'monster CV %{x:.2f}<br>'+\n",
    "        'probability %{y:.1%}<extra></extra>',\n",
    "))\n",
    "\n",
    "\n",
    "# show figure\n",
    "fig.update_layout(width=600, height=450)\n",
    "fig.show(config=tfb.FIG_CONFIG)\n",
    "\n",
    "# save figures\n",
    "if SAVEFIGS:\n",
    "    fig.update_layout(autosize=True, width=None, height=None)\n",
    "    tfb.save_fig_html(fig, format='large', name=f'./fig-win-vs-npc-cv-deadly-large')\n",
    "    tfb.save_fig_html(fig, format='small', name=f'./fig-win-vs-npc-cv-deadly-small')"
   ]
  },
  {
   "cell_type": "code",
   "execution_count": 54,
   "metadata": {},
   "outputs": [
    {
     "data": {
      "application/vnd.plotly.v1+json": {
       "config": {
        "autosizable": true,
        "displayModeBar": "hover",
        "displaylogo": false,
        "doubleClick": "reset",
        "modeBarButtonsToRemove": [
         "select2d",
         "lasso2d",
         "zoom2d",
         "zoomIn2d",
         "zoomOut2d",
         "pan2d",
         "autoScale2d",
         "hoverClosestCartesian",
         "hoverCompareCartesian",
         "toggleSpikelines",
         "resetScale2d"
        ],
        "plotlyServerURL": "https://plot.ly",
        "responsive": true,
        "showAxisDragHandles": false,
        "toImageButtonOptions": {
         "filename": "tfb-plot",
         "format": "png",
         "height": 450,
         "scale": 2,
         "width": 600
        }
       },
       "data": [
        {
         "hovertemplate": "<b>PCs</b><br>PC CV %{x:.2f}<br>probability %{y:.1%}<extra></extra>",
         "name": "PCs",
         "type": "scatter",
         "x": [
          0.2,
          0.30000000000000004,
          0.4,
          0.5,
          0.6000000000000001,
          0.7000000000000002,
          0.8
         ],
         "y": [
          0.9269583466409328,
          0.9185407968753765,
          0.9049494327410439,
          0.8911206484679677,
          0.8776850095966906,
          0.8642145994143448,
          0.8505645211843287
         ]
        },
        {
         "hovertemplate": "<b>NPCs</b><br>PC CV %{x:.2f}<br>probability %{y:.1%}<extra></extra>",
         "name": "NPCs",
         "type": "scatter",
         "x": [
          0.2,
          0.30000000000000004,
          0.4,
          0.5,
          0.6000000000000001,
          0.7000000000000002,
          0.8
         ],
         "y": [
          0.07304165335906715,
          0.08145920312462357,
          0.09505056725895632,
          0.10887935153202974,
          0.12231499039626095,
          0.13578539974708348,
          0.14943545961332683
         ]
        }
       ],
       "layout": {
        "height": 450,
        "legend": {
         "orientation": "v",
         "tracegroupgap": 0,
         "x": 0,
         "xanchor": "left",
         "y": 1,
         "yanchor": "top"
        },
        "template": {
         "layout": {
          "autosize": false,
          "font": {
           "family": "sans-serif",
           "size": 14
          },
          "hoverlabel": {
           "align": "left"
          },
          "hovermode": "closest",
          "margin": {
           "b": 55,
           "l": 60,
           "pad": 4,
           "r": 25,
           "t": 20
          },
          "template": {
           "data": {
            "bar": [
             {
              "error_x": {
               "color": "#2a3f5f"
              },
              "error_y": {
               "color": "#2a3f5f"
              },
              "marker": {
               "line": {
                "color": "white",
                "width": 0.5
               },
               "pattern": {
                "fillmode": "overlay",
                "size": 10,
                "solidity": 0.2
               }
              },
              "type": "bar"
             }
            ],
            "barpolar": [
             {
              "marker": {
               "line": {
                "color": "white",
                "width": 0.5
               },
               "pattern": {
                "fillmode": "overlay",
                "size": 10,
                "solidity": 0.2
               }
              },
              "type": "barpolar"
             }
            ],
            "carpet": [
             {
              "aaxis": {
               "endlinecolor": "#2a3f5f",
               "gridcolor": "#C8D4E3",
               "linecolor": "#C8D4E3",
               "minorgridcolor": "#C8D4E3",
               "startlinecolor": "#2a3f5f"
              },
              "baxis": {
               "endlinecolor": "#2a3f5f",
               "gridcolor": "#C8D4E3",
               "linecolor": "#C8D4E3",
               "minorgridcolor": "#C8D4E3",
               "startlinecolor": "#2a3f5f"
              },
              "type": "carpet"
             }
            ],
            "choropleth": [
             {
              "colorbar": {
               "outlinewidth": 0,
               "ticks": ""
              },
              "type": "choropleth"
             }
            ],
            "contour": [
             {
              "colorbar": {
               "outlinewidth": 0,
               "ticks": ""
              },
              "colorscale": [
               [
                0,
                "#0d0887"
               ],
               [
                0.1111111111111111,
                "#46039f"
               ],
               [
                0.2222222222222222,
                "#7201a8"
               ],
               [
                0.3333333333333333,
                "#9c179e"
               ],
               [
                0.4444444444444444,
                "#bd3786"
               ],
               [
                0.5555555555555556,
                "#d8576b"
               ],
               [
                0.6666666666666666,
                "#ed7953"
               ],
               [
                0.7777777777777778,
                "#fb9f3a"
               ],
               [
                0.8888888888888888,
                "#fdca26"
               ],
               [
                1,
                "#f0f921"
               ]
              ],
              "type": "contour"
             }
            ],
            "contourcarpet": [
             {
              "colorbar": {
               "outlinewidth": 0,
               "ticks": ""
              },
              "type": "contourcarpet"
             }
            ],
            "heatmap": [
             {
              "colorbar": {
               "outlinewidth": 0,
               "ticks": ""
              },
              "colorscale": [
               [
                0,
                "#0d0887"
               ],
               [
                0.1111111111111111,
                "#46039f"
               ],
               [
                0.2222222222222222,
                "#7201a8"
               ],
               [
                0.3333333333333333,
                "#9c179e"
               ],
               [
                0.4444444444444444,
                "#bd3786"
               ],
               [
                0.5555555555555556,
                "#d8576b"
               ],
               [
                0.6666666666666666,
                "#ed7953"
               ],
               [
                0.7777777777777778,
                "#fb9f3a"
               ],
               [
                0.8888888888888888,
                "#fdca26"
               ],
               [
                1,
                "#f0f921"
               ]
              ],
              "type": "heatmap"
             }
            ],
            "heatmapgl": [
             {
              "colorbar": {
               "outlinewidth": 0,
               "ticks": ""
              },
              "colorscale": [
               [
                0,
                "#0d0887"
               ],
               [
                0.1111111111111111,
                "#46039f"
               ],
               [
                0.2222222222222222,
                "#7201a8"
               ],
               [
                0.3333333333333333,
                "#9c179e"
               ],
               [
                0.4444444444444444,
                "#bd3786"
               ],
               [
                0.5555555555555556,
                "#d8576b"
               ],
               [
                0.6666666666666666,
                "#ed7953"
               ],
               [
                0.7777777777777778,
                "#fb9f3a"
               ],
               [
                0.8888888888888888,
                "#fdca26"
               ],
               [
                1,
                "#f0f921"
               ]
              ],
              "type": "heatmapgl"
             }
            ],
            "histogram": [
             {
              "marker": {
               "pattern": {
                "fillmode": "overlay",
                "size": 10,
                "solidity": 0.2
               }
              },
              "type": "histogram"
             }
            ],
            "histogram2d": [
             {
              "colorbar": {
               "outlinewidth": 0,
               "ticks": ""
              },
              "colorscale": [
               [
                0,
                "#0d0887"
               ],
               [
                0.1111111111111111,
                "#46039f"
               ],
               [
                0.2222222222222222,
                "#7201a8"
               ],
               [
                0.3333333333333333,
                "#9c179e"
               ],
               [
                0.4444444444444444,
                "#bd3786"
               ],
               [
                0.5555555555555556,
                "#d8576b"
               ],
               [
                0.6666666666666666,
                "#ed7953"
               ],
               [
                0.7777777777777778,
                "#fb9f3a"
               ],
               [
                0.8888888888888888,
                "#fdca26"
               ],
               [
                1,
                "#f0f921"
               ]
              ],
              "type": "histogram2d"
             }
            ],
            "histogram2dcontour": [
             {
              "colorbar": {
               "outlinewidth": 0,
               "ticks": ""
              },
              "colorscale": [
               [
                0,
                "#0d0887"
               ],
               [
                0.1111111111111111,
                "#46039f"
               ],
               [
                0.2222222222222222,
                "#7201a8"
               ],
               [
                0.3333333333333333,
                "#9c179e"
               ],
               [
                0.4444444444444444,
                "#bd3786"
               ],
               [
                0.5555555555555556,
                "#d8576b"
               ],
               [
                0.6666666666666666,
                "#ed7953"
               ],
               [
                0.7777777777777778,
                "#fb9f3a"
               ],
               [
                0.8888888888888888,
                "#fdca26"
               ],
               [
                1,
                "#f0f921"
               ]
              ],
              "type": "histogram2dcontour"
             }
            ],
            "mesh3d": [
             {
              "colorbar": {
               "outlinewidth": 0,
               "ticks": ""
              },
              "type": "mesh3d"
             }
            ],
            "parcoords": [
             {
              "line": {
               "colorbar": {
                "outlinewidth": 0,
                "ticks": ""
               }
              },
              "type": "parcoords"
             }
            ],
            "pie": [
             {
              "automargin": true,
              "type": "pie"
             }
            ],
            "scatter": [
             {
              "fillpattern": {
               "fillmode": "overlay",
               "size": 10,
               "solidity": 0.2
              },
              "type": "scatter"
             }
            ],
            "scatter3d": [
             {
              "line": {
               "colorbar": {
                "outlinewidth": 0,
                "ticks": ""
               }
              },
              "marker": {
               "colorbar": {
                "outlinewidth": 0,
                "ticks": ""
               }
              },
              "type": "scatter3d"
             }
            ],
            "scattercarpet": [
             {
              "marker": {
               "colorbar": {
                "outlinewidth": 0,
                "ticks": ""
               }
              },
              "type": "scattercarpet"
             }
            ],
            "scattergeo": [
             {
              "marker": {
               "colorbar": {
                "outlinewidth": 0,
                "ticks": ""
               }
              },
              "type": "scattergeo"
             }
            ],
            "scattergl": [
             {
              "marker": {
               "colorbar": {
                "outlinewidth": 0,
                "ticks": ""
               }
              },
              "type": "scattergl"
             }
            ],
            "scattermapbox": [
             {
              "marker": {
               "colorbar": {
                "outlinewidth": 0,
                "ticks": ""
               }
              },
              "type": "scattermapbox"
             }
            ],
            "scatterpolar": [
             {
              "marker": {
               "colorbar": {
                "outlinewidth": 0,
                "ticks": ""
               }
              },
              "type": "scatterpolar"
             }
            ],
            "scatterpolargl": [
             {
              "marker": {
               "colorbar": {
                "outlinewidth": 0,
                "ticks": ""
               }
              },
              "type": "scatterpolargl"
             }
            ],
            "scatterternary": [
             {
              "marker": {
               "colorbar": {
                "outlinewidth": 0,
                "ticks": ""
               }
              },
              "type": "scatterternary"
             }
            ],
            "surface": [
             {
              "colorbar": {
               "outlinewidth": 0,
               "ticks": ""
              },
              "colorscale": [
               [
                0,
                "#0d0887"
               ],
               [
                0.1111111111111111,
                "#46039f"
               ],
               [
                0.2222222222222222,
                "#7201a8"
               ],
               [
                0.3333333333333333,
                "#9c179e"
               ],
               [
                0.4444444444444444,
                "#bd3786"
               ],
               [
                0.5555555555555556,
                "#d8576b"
               ],
               [
                0.6666666666666666,
                "#ed7953"
               ],
               [
                0.7777777777777778,
                "#fb9f3a"
               ],
               [
                0.8888888888888888,
                "#fdca26"
               ],
               [
                1,
                "#f0f921"
               ]
              ],
              "type": "surface"
             }
            ],
            "table": [
             {
              "cells": {
               "fill": {
                "color": "#EBF0F8"
               },
               "line": {
                "color": "white"
               }
              },
              "header": {
               "fill": {
                "color": "#C8D4E3"
               },
               "line": {
                "color": "white"
               }
              },
              "type": "table"
             }
            ]
           },
           "layout": {
            "annotationdefaults": {
             "arrowcolor": "#2a3f5f",
             "arrowhead": 0,
             "arrowwidth": 1
            },
            "autotypenumbers": "strict",
            "coloraxis": {
             "colorbar": {
              "outlinewidth": 0,
              "ticks": ""
             }
            },
            "colorscale": {
             "diverging": [
              [
               0,
               "#8e0152"
              ],
              [
               0.1,
               "#c51b7d"
              ],
              [
               0.2,
               "#de77ae"
              ],
              [
               0.3,
               "#f1b6da"
              ],
              [
               0.4,
               "#fde0ef"
              ],
              [
               0.5,
               "#f7f7f7"
              ],
              [
               0.6,
               "#e6f5d0"
              ],
              [
               0.7,
               "#b8e186"
              ],
              [
               0.8,
               "#7fbc41"
              ],
              [
               0.9,
               "#4d9221"
              ],
              [
               1,
               "#276419"
              ]
             ],
             "sequential": [
              [
               0,
               "#0d0887"
              ],
              [
               0.1111111111111111,
               "#46039f"
              ],
              [
               0.2222222222222222,
               "#7201a8"
              ],
              [
               0.3333333333333333,
               "#9c179e"
              ],
              [
               0.4444444444444444,
               "#bd3786"
              ],
              [
               0.5555555555555556,
               "#d8576b"
              ],
              [
               0.6666666666666666,
               "#ed7953"
              ],
              [
               0.7777777777777778,
               "#fb9f3a"
              ],
              [
               0.8888888888888888,
               "#fdca26"
              ],
              [
               1,
               "#f0f921"
              ]
             ],
             "sequentialminus": [
              [
               0,
               "#0d0887"
              ],
              [
               0.1111111111111111,
               "#46039f"
              ],
              [
               0.2222222222222222,
               "#7201a8"
              ],
              [
               0.3333333333333333,
               "#9c179e"
              ],
              [
               0.4444444444444444,
               "#bd3786"
              ],
              [
               0.5555555555555556,
               "#d8576b"
              ],
              [
               0.6666666666666666,
               "#ed7953"
              ],
              [
               0.7777777777777778,
               "#fb9f3a"
              ],
              [
               0.8888888888888888,
               "#fdca26"
              ],
              [
               1,
               "#f0f921"
              ]
             ]
            },
            "colorway": [
             "#636efa",
             "#EF553B",
             "#00cc96",
             "#ab63fa",
             "#FFA15A",
             "#19d3f3",
             "#FF6692",
             "#B6E880",
             "#FF97FF",
             "#FECB52"
            ],
            "font": {
             "color": "#2a3f5f"
            },
            "geo": {
             "bgcolor": "white",
             "lakecolor": "white",
             "landcolor": "white",
             "showlakes": true,
             "showland": true,
             "subunitcolor": "#C8D4E3"
            },
            "hoverlabel": {
             "align": "left"
            },
            "hovermode": "closest",
            "mapbox": {
             "style": "light"
            },
            "paper_bgcolor": "white",
            "plot_bgcolor": "white",
            "polar": {
             "angularaxis": {
              "gridcolor": "#EBF0F8",
              "linecolor": "#EBF0F8",
              "ticks": ""
             },
             "bgcolor": "white",
             "radialaxis": {
              "gridcolor": "#EBF0F8",
              "linecolor": "#EBF0F8",
              "ticks": ""
             }
            },
            "scene": {
             "xaxis": {
              "backgroundcolor": "white",
              "gridcolor": "#DFE8F3",
              "gridwidth": 2,
              "linecolor": "#EBF0F8",
              "showbackground": true,
              "ticks": "",
              "zerolinecolor": "#EBF0F8"
             },
             "yaxis": {
              "backgroundcolor": "white",
              "gridcolor": "#DFE8F3",
              "gridwidth": 2,
              "linecolor": "#EBF0F8",
              "showbackground": true,
              "ticks": "",
              "zerolinecolor": "#EBF0F8"
             },
             "zaxis": {
              "backgroundcolor": "white",
              "gridcolor": "#DFE8F3",
              "gridwidth": 2,
              "linecolor": "#EBF0F8",
              "showbackground": true,
              "ticks": "",
              "zerolinecolor": "#EBF0F8"
             }
            },
            "shapedefaults": {
             "line": {
              "color": "#2a3f5f"
             }
            },
            "ternary": {
             "aaxis": {
              "gridcolor": "#DFE8F3",
              "linecolor": "#A2B1C6",
              "ticks": ""
             },
             "baxis": {
              "gridcolor": "#DFE8F3",
              "linecolor": "#A2B1C6",
              "ticks": ""
             },
             "bgcolor": "white",
             "caxis": {
              "gridcolor": "#DFE8F3",
              "linecolor": "#A2B1C6",
              "ticks": ""
             }
            },
            "title": {
             "x": 0.05
            },
            "xaxis": {
             "automargin": true,
             "gridcolor": "#EBF0F8",
             "linecolor": "#EBF0F8",
             "ticks": "",
             "title": {
              "standoff": 15
             },
             "zerolinecolor": "#EBF0F8",
             "zerolinewidth": 2
            },
            "yaxis": {
             "automargin": true,
             "gridcolor": "#EBF0F8",
             "linecolor": "#EBF0F8",
             "ticks": "",
             "title": {
              "standoff": 15
             },
             "zerolinecolor": "#EBF0F8",
             "zerolinewidth": 2
            }
           }
          },
          "xaxis": {
           "automargin": false,
           "linecolor": "#444",
           "linewidth": 2,
           "minor": {
            "tickmode": "linear",
            "ticks": "outside"
           },
           "mirror": true,
           "showline": true,
           "tickmode": "linear",
           "ticks": "outside",
           "zeroline": false
          },
          "yaxis": {
           "automargin": true,
           "linecolor": "#444",
           "linewidth": 2,
           "minor": {
            "tickmode": "linear",
            "ticks": "outside"
           },
           "mirror": true,
           "showline": true,
           "ticks": "outside",
           "zeroline": false
          }
         }
        },
        "width": 600,
        "xaxis": {
         "dtick": 0.2,
         "minor": {
          "dtick": 0.1,
          "tick0": 0
         },
         "range": [
          0,
          1
         ],
         "tick0": 0,
         "title": {
          "text": "PC damage sigma / mean"
         }
        },
        "yaxis": {
         "dtick": 0.2,
         "minor": {
          "dtick": 0.1,
          "tick0": 0
         },
         "range": [
          0,
          1
         ],
         "tick0": 0,
         "title": {
          "text": "win probability"
         }
        }
       }
      }
     },
     "metadata": {},
     "output_type": "display_data"
    }
   ],
   "source": [
    "# Fig. 3: plots the probability of PCs and monsters winning for a range of PC CV values\n",
    "diff = 0.7 # deadly\n",
    "\n",
    "party_hp = 100\n",
    "pc_r_win = 3\n",
    "pc_dpr_cvs = np.linspace(0.2, 0.8, 7)\n",
    "\n",
    "\n",
    "mon_hp = 100\n",
    "mon_r_win = pc_r_win/diff\n",
    "mon_dpr_cv = 0.5\n",
    "\n",
    "\n",
    "party_dpr = mon_hp/pc_r_win\n",
    "party_size = 4\n",
    "pc_hp = party_hp/party_size\n",
    "pc_dpr = party_dpr/party_size\n",
    "\n",
    "mon_dpr = party_hp/mon_r_win\n",
    "\n",
    "# original\n",
    "pc_win_pct = []\n",
    "mon_win_pct = []\n",
    "\n",
    "for pc_dpr_cv in pc_dpr_cvs:\n",
    "    combatants = [\n",
    "        cp.Combatant(\n",
    "            group='NPCs',\n",
    "            name='monster',\n",
    "            opponent='PCs',\n",
    "            level=5,\n",
    "            hit_points = mon_hp,\n",
    "            damage = [cp.gaussian_dice_distribution(mon_dpr, mon_dpr_cv*mon_dpr)],\n",
    "        ),\n",
    "        cp.Combatant(\n",
    "            group='PCs',\n",
    "            name='PC 1',\n",
    "            opponent='NPCs',\n",
    "            level=5,\n",
    "            hit_points = pc_hp,\n",
    "            damage = [cp.gaussian_dice_distribution(pc_dpr, pc_dpr_cv*pc_dpr)],\n",
    "        ),\n",
    "        cp.Combatant(\n",
    "            group='PCs',\n",
    "            name='PC 2',\n",
    "            opponent='NPCs',\n",
    "            level=5,\n",
    "            hit_points = pc_hp,\n",
    "            damage = [cp.gaussian_dice_distribution(pc_dpr, pc_dpr_cv*pc_dpr)],\n",
    "        ),\n",
    "        cp.Combatant(\n",
    "            group='PCs',\n",
    "            name='PC 3',\n",
    "            opponent='NPCs',\n",
    "            level=5,\n",
    "            hit_points = pc_hp,\n",
    "            damage = [cp.gaussian_dice_distribution(pc_dpr, pc_dpr_cv*pc_dpr)],\n",
    "        ),\n",
    "        cp.Combatant(\n",
    "            group='PCs',\n",
    "            name='PC 4',\n",
    "            opponent='NPCs',\n",
    "            level=5,\n",
    "            hit_points = pc_hp,\n",
    "            damage = [cp.gaussian_dice_distribution(pc_dpr, pc_dpr_cv*pc_dpr)],\n",
    "        ),\n",
    "    ]\n",
    "    e = cp.Encounter(combatants, initiative=['PC 1','PC 2','monster','PC 3','PC 4'], rounds=8)\n",
    "    pc_win_pct += [e.group_win_pct('PCs', method='approx')]\n",
    "    mon_win_pct += [e.group_win_pct('NPCs', method='approx')]\n",
    "    #print(e.encounter_length(units='rounds', method='approx'))\n",
    "\n",
    "\n",
    "# create figure\n",
    "fig = go.Figure(\n",
    "    layout=go.Layout(\n",
    "        template=tfb.FIG_TEMPLATE,\n",
    "        xaxis=dict(\n",
    "            title_text='PC damage sigma / mean',\n",
    "            range=[0, 1],\n",
    "            tick0=0, dtick=0.2,\n",
    "            minor=dict(tick0=0, dtick=0.1),\n",
    "        ),\n",
    "        yaxis=dict(\n",
    "            title_text='win probability',\n",
    "            range=[0,1],\n",
    "            #tickformat='.0%'\n",
    "            tick0=0, dtick=0.2,\n",
    "            minor=dict(tick0=0, dtick=0.1),\n",
    "        ),\n",
    "        legend=dict(\n",
    "            xanchor='left', yanchor='top',\n",
    "            x=0.00, y=1.00,\n",
    "            orientation='v',\n",
    "            tracegroupgap=0,\n",
    "        )\n",
    "    )\n",
    ")\n",
    "\n",
    "fig.add_trace(go.Scatter(\n",
    "    x=mon_dpr_cvs,\n",
    "    y=pc_win_pct,\n",
    "    name=f'PCs',\n",
    "    #line_color=COLOR_LIST[i],\n",
    "    hovertemplate=\n",
    "        f'<b>PCs</b><br>'+\n",
    "        'PC CV %{x:.2f}<br>'+\n",
    "        'probability %{y:.1%}<extra></extra>',\n",
    "))\n",
    "\n",
    "fig.add_trace(go.Scatter(\n",
    "    x=mon_dpr_cvs,\n",
    "    y=mon_win_pct,\n",
    "    name=f'NPCs',\n",
    "    #line_color=COLOR_LIST[i],\n",
    "    hovertemplate=\n",
    "        f'<b>NPCs</b><br>'+\n",
    "        'PC CV %{x:.2f}<br>'+\n",
    "        'probability %{y:.1%}<extra></extra>',\n",
    "))\n",
    "\n",
    "\n",
    "# show figure\n",
    "fig.update_layout(width=600, height=450)\n",
    "fig.show(config=tfb.FIG_CONFIG)\n",
    "\n",
    "# save figures\n",
    "if SAVEFIGS:\n",
    "    fig.update_layout(autosize=True, width=None, height=None)\n",
    "    tfb.save_fig_html(fig, format='large', name=f'./fig-win-vs-pc-cv-deadly-large')\n",
    "    tfb.save_fig_html(fig, format='small', name=f'./fig-win-vs-pc-cv-deadly-small')"
   ]
  },
  {
   "cell_type": "code",
   "execution_count": 55,
   "metadata": {},
   "outputs": [
    {
     "data": {
      "application/vnd.plotly.v1+json": {
       "config": {
        "autosizable": true,
        "displayModeBar": "hover",
        "displaylogo": false,
        "doubleClick": "reset",
        "modeBarButtonsToRemove": [
         "select2d",
         "lasso2d",
         "zoom2d",
         "zoomIn2d",
         "zoomOut2d",
         "pan2d",
         "autoScale2d",
         "hoverClosestCartesian",
         "hoverCompareCartesian",
         "toggleSpikelines",
         "resetScale2d"
        ],
        "plotlyServerURL": "https://plot.ly",
        "responsive": true,
        "showAxisDragHandles": false,
        "toImageButtonOptions": {
         "filename": "tfb-plot",
         "format": "png",
         "height": 450,
         "scale": 2,
         "width": 600
        }
       },
       "data": [
        {
         "error_y": {
          "array": [
           0.08950465919405665,
           0.13407354427172824,
           0.17852177424317578,
           0.22274061181643998,
           0.26662741218168384,
           0.31017182189106124,
           0.3533971145384813
          ],
          "arrayminus": [
           0.08950465919405665,
           0.13407354427172824,
           0.17852177424317578,
           0.22274061181643998,
           0.26662741218168384,
           0.31017182189106124,
           0.3533971145384813
          ],
          "symmetric": false,
          "type": "data"
         },
         "hovertemplate": "<b>PCs</b><br>monster CV %{x:.2f}<br>probability %{y:.1%}<extra></extra>",
         "name": "PCs",
         "type": "scatter",
         "x": [
          0.2,
          0.30000000000000004,
          0.4,
          0.5,
          0.6000000000000001,
          0.7000000000000002,
          0.8
         ],
         "y": [
          0.7037432215023413,
          0.6982510043415673,
          0.6905538678113551,
          0.68081189033876,
          0.669181693491243,
          0.6561480472384794,
          0.6421066287295342
         ]
        },
        {
         "hovertemplate": "<b>NPCs</b><br>monster CV %{x:.2f}<br>probability %{y:.1%}<extra></extra>",
         "name": "NPCs",
         "type": "scatter",
         "x": [
          0.2,
          0.30000000000000004,
          0.4,
          0.5,
          0.6000000000000001,
          0.7000000000000002,
          0.8
         ],
         "y": [
          0.8884689655614614,
          0.8857023843535834,
          0.882812666128725,
          0.8784251330160591,
          0.8722297652740107,
          0.8649244643776552,
          0.8571510986965891
         ]
        }
       ],
       "layout": {
        "height": 450,
        "legend": {
         "orientation": "v",
         "tracegroupgap": 0,
         "x": 0,
         "xanchor": "left",
         "y": 1,
         "yanchor": "top"
        },
        "template": {
         "layout": {
          "autosize": false,
          "font": {
           "family": "sans-serif",
           "size": 14
          },
          "hoverlabel": {
           "align": "left"
          },
          "hovermode": "closest",
          "margin": {
           "b": 55,
           "l": 60,
           "pad": 4,
           "r": 25,
           "t": 20
          },
          "template": {
           "data": {
            "bar": [
             {
              "error_x": {
               "color": "#2a3f5f"
              },
              "error_y": {
               "color": "#2a3f5f"
              },
              "marker": {
               "line": {
                "color": "white",
                "width": 0.5
               },
               "pattern": {
                "fillmode": "overlay",
                "size": 10,
                "solidity": 0.2
               }
              },
              "type": "bar"
             }
            ],
            "barpolar": [
             {
              "marker": {
               "line": {
                "color": "white",
                "width": 0.5
               },
               "pattern": {
                "fillmode": "overlay",
                "size": 10,
                "solidity": 0.2
               }
              },
              "type": "barpolar"
             }
            ],
            "carpet": [
             {
              "aaxis": {
               "endlinecolor": "#2a3f5f",
               "gridcolor": "#C8D4E3",
               "linecolor": "#C8D4E3",
               "minorgridcolor": "#C8D4E3",
               "startlinecolor": "#2a3f5f"
              },
              "baxis": {
               "endlinecolor": "#2a3f5f",
               "gridcolor": "#C8D4E3",
               "linecolor": "#C8D4E3",
               "minorgridcolor": "#C8D4E3",
               "startlinecolor": "#2a3f5f"
              },
              "type": "carpet"
             }
            ],
            "choropleth": [
             {
              "colorbar": {
               "outlinewidth": 0,
               "ticks": ""
              },
              "type": "choropleth"
             }
            ],
            "contour": [
             {
              "colorbar": {
               "outlinewidth": 0,
               "ticks": ""
              },
              "colorscale": [
               [
                0,
                "#0d0887"
               ],
               [
                0.1111111111111111,
                "#46039f"
               ],
               [
                0.2222222222222222,
                "#7201a8"
               ],
               [
                0.3333333333333333,
                "#9c179e"
               ],
               [
                0.4444444444444444,
                "#bd3786"
               ],
               [
                0.5555555555555556,
                "#d8576b"
               ],
               [
                0.6666666666666666,
                "#ed7953"
               ],
               [
                0.7777777777777778,
                "#fb9f3a"
               ],
               [
                0.8888888888888888,
                "#fdca26"
               ],
               [
                1,
                "#f0f921"
               ]
              ],
              "type": "contour"
             }
            ],
            "contourcarpet": [
             {
              "colorbar": {
               "outlinewidth": 0,
               "ticks": ""
              },
              "type": "contourcarpet"
             }
            ],
            "heatmap": [
             {
              "colorbar": {
               "outlinewidth": 0,
               "ticks": ""
              },
              "colorscale": [
               [
                0,
                "#0d0887"
               ],
               [
                0.1111111111111111,
                "#46039f"
               ],
               [
                0.2222222222222222,
                "#7201a8"
               ],
               [
                0.3333333333333333,
                "#9c179e"
               ],
               [
                0.4444444444444444,
                "#bd3786"
               ],
               [
                0.5555555555555556,
                "#d8576b"
               ],
               [
                0.6666666666666666,
                "#ed7953"
               ],
               [
                0.7777777777777778,
                "#fb9f3a"
               ],
               [
                0.8888888888888888,
                "#fdca26"
               ],
               [
                1,
                "#f0f921"
               ]
              ],
              "type": "heatmap"
             }
            ],
            "heatmapgl": [
             {
              "colorbar": {
               "outlinewidth": 0,
               "ticks": ""
              },
              "colorscale": [
               [
                0,
                "#0d0887"
               ],
               [
                0.1111111111111111,
                "#46039f"
               ],
               [
                0.2222222222222222,
                "#7201a8"
               ],
               [
                0.3333333333333333,
                "#9c179e"
               ],
               [
                0.4444444444444444,
                "#bd3786"
               ],
               [
                0.5555555555555556,
                "#d8576b"
               ],
               [
                0.6666666666666666,
                "#ed7953"
               ],
               [
                0.7777777777777778,
                "#fb9f3a"
               ],
               [
                0.8888888888888888,
                "#fdca26"
               ],
               [
                1,
                "#f0f921"
               ]
              ],
              "type": "heatmapgl"
             }
            ],
            "histogram": [
             {
              "marker": {
               "pattern": {
                "fillmode": "overlay",
                "size": 10,
                "solidity": 0.2
               }
              },
              "type": "histogram"
             }
            ],
            "histogram2d": [
             {
              "colorbar": {
               "outlinewidth": 0,
               "ticks": ""
              },
              "colorscale": [
               [
                0,
                "#0d0887"
               ],
               [
                0.1111111111111111,
                "#46039f"
               ],
               [
                0.2222222222222222,
                "#7201a8"
               ],
               [
                0.3333333333333333,
                "#9c179e"
               ],
               [
                0.4444444444444444,
                "#bd3786"
               ],
               [
                0.5555555555555556,
                "#d8576b"
               ],
               [
                0.6666666666666666,
                "#ed7953"
               ],
               [
                0.7777777777777778,
                "#fb9f3a"
               ],
               [
                0.8888888888888888,
                "#fdca26"
               ],
               [
                1,
                "#f0f921"
               ]
              ],
              "type": "histogram2d"
             }
            ],
            "histogram2dcontour": [
             {
              "colorbar": {
               "outlinewidth": 0,
               "ticks": ""
              },
              "colorscale": [
               [
                0,
                "#0d0887"
               ],
               [
                0.1111111111111111,
                "#46039f"
               ],
               [
                0.2222222222222222,
                "#7201a8"
               ],
               [
                0.3333333333333333,
                "#9c179e"
               ],
               [
                0.4444444444444444,
                "#bd3786"
               ],
               [
                0.5555555555555556,
                "#d8576b"
               ],
               [
                0.6666666666666666,
                "#ed7953"
               ],
               [
                0.7777777777777778,
                "#fb9f3a"
               ],
               [
                0.8888888888888888,
                "#fdca26"
               ],
               [
                1,
                "#f0f921"
               ]
              ],
              "type": "histogram2dcontour"
             }
            ],
            "mesh3d": [
             {
              "colorbar": {
               "outlinewidth": 0,
               "ticks": ""
              },
              "type": "mesh3d"
             }
            ],
            "parcoords": [
             {
              "line": {
               "colorbar": {
                "outlinewidth": 0,
                "ticks": ""
               }
              },
              "type": "parcoords"
             }
            ],
            "pie": [
             {
              "automargin": true,
              "type": "pie"
             }
            ],
            "scatter": [
             {
              "fillpattern": {
               "fillmode": "overlay",
               "size": 10,
               "solidity": 0.2
              },
              "type": "scatter"
             }
            ],
            "scatter3d": [
             {
              "line": {
               "colorbar": {
                "outlinewidth": 0,
                "ticks": ""
               }
              },
              "marker": {
               "colorbar": {
                "outlinewidth": 0,
                "ticks": ""
               }
              },
              "type": "scatter3d"
             }
            ],
            "scattercarpet": [
             {
              "marker": {
               "colorbar": {
                "outlinewidth": 0,
                "ticks": ""
               }
              },
              "type": "scattercarpet"
             }
            ],
            "scattergeo": [
             {
              "marker": {
               "colorbar": {
                "outlinewidth": 0,
                "ticks": ""
               }
              },
              "type": "scattergeo"
             }
            ],
            "scattergl": [
             {
              "marker": {
               "colorbar": {
                "outlinewidth": 0,
                "ticks": ""
               }
              },
              "type": "scattergl"
             }
            ],
            "scattermapbox": [
             {
              "marker": {
               "colorbar": {
                "outlinewidth": 0,
                "ticks": ""
               }
              },
              "type": "scattermapbox"
             }
            ],
            "scatterpolar": [
             {
              "marker": {
               "colorbar": {
                "outlinewidth": 0,
                "ticks": ""
               }
              },
              "type": "scatterpolar"
             }
            ],
            "scatterpolargl": [
             {
              "marker": {
               "colorbar": {
                "outlinewidth": 0,
                "ticks": ""
               }
              },
              "type": "scatterpolargl"
             }
            ],
            "scatterternary": [
             {
              "marker": {
               "colorbar": {
                "outlinewidth": 0,
                "ticks": ""
               }
              },
              "type": "scatterternary"
             }
            ],
            "surface": [
             {
              "colorbar": {
               "outlinewidth": 0,
               "ticks": ""
              },
              "colorscale": [
               [
                0,
                "#0d0887"
               ],
               [
                0.1111111111111111,
                "#46039f"
               ],
               [
                0.2222222222222222,
                "#7201a8"
               ],
               [
                0.3333333333333333,
                "#9c179e"
               ],
               [
                0.4444444444444444,
                "#bd3786"
               ],
               [
                0.5555555555555556,
                "#d8576b"
               ],
               [
                0.6666666666666666,
                "#ed7953"
               ],
               [
                0.7777777777777778,
                "#fb9f3a"
               ],
               [
                0.8888888888888888,
                "#fdca26"
               ],
               [
                1,
                "#f0f921"
               ]
              ],
              "type": "surface"
             }
            ],
            "table": [
             {
              "cells": {
               "fill": {
                "color": "#EBF0F8"
               },
               "line": {
                "color": "white"
               }
              },
              "header": {
               "fill": {
                "color": "#C8D4E3"
               },
               "line": {
                "color": "white"
               }
              },
              "type": "table"
             }
            ]
           },
           "layout": {
            "annotationdefaults": {
             "arrowcolor": "#2a3f5f",
             "arrowhead": 0,
             "arrowwidth": 1
            },
            "autotypenumbers": "strict",
            "coloraxis": {
             "colorbar": {
              "outlinewidth": 0,
              "ticks": ""
             }
            },
            "colorscale": {
             "diverging": [
              [
               0,
               "#8e0152"
              ],
              [
               0.1,
               "#c51b7d"
              ],
              [
               0.2,
               "#de77ae"
              ],
              [
               0.3,
               "#f1b6da"
              ],
              [
               0.4,
               "#fde0ef"
              ],
              [
               0.5,
               "#f7f7f7"
              ],
              [
               0.6,
               "#e6f5d0"
              ],
              [
               0.7,
               "#b8e186"
              ],
              [
               0.8,
               "#7fbc41"
              ],
              [
               0.9,
               "#4d9221"
              ],
              [
               1,
               "#276419"
              ]
             ],
             "sequential": [
              [
               0,
               "#0d0887"
              ],
              [
               0.1111111111111111,
               "#46039f"
              ],
              [
               0.2222222222222222,
               "#7201a8"
              ],
              [
               0.3333333333333333,
               "#9c179e"
              ],
              [
               0.4444444444444444,
               "#bd3786"
              ],
              [
               0.5555555555555556,
               "#d8576b"
              ],
              [
               0.6666666666666666,
               "#ed7953"
              ],
              [
               0.7777777777777778,
               "#fb9f3a"
              ],
              [
               0.8888888888888888,
               "#fdca26"
              ],
              [
               1,
               "#f0f921"
              ]
             ],
             "sequentialminus": [
              [
               0,
               "#0d0887"
              ],
              [
               0.1111111111111111,
               "#46039f"
              ],
              [
               0.2222222222222222,
               "#7201a8"
              ],
              [
               0.3333333333333333,
               "#9c179e"
              ],
              [
               0.4444444444444444,
               "#bd3786"
              ],
              [
               0.5555555555555556,
               "#d8576b"
              ],
              [
               0.6666666666666666,
               "#ed7953"
              ],
              [
               0.7777777777777778,
               "#fb9f3a"
              ],
              [
               0.8888888888888888,
               "#fdca26"
              ],
              [
               1,
               "#f0f921"
              ]
             ]
            },
            "colorway": [
             "#636efa",
             "#EF553B",
             "#00cc96",
             "#ab63fa",
             "#FFA15A",
             "#19d3f3",
             "#FF6692",
             "#B6E880",
             "#FF97FF",
             "#FECB52"
            ],
            "font": {
             "color": "#2a3f5f"
            },
            "geo": {
             "bgcolor": "white",
             "lakecolor": "white",
             "landcolor": "white",
             "showlakes": true,
             "showland": true,
             "subunitcolor": "#C8D4E3"
            },
            "hoverlabel": {
             "align": "left"
            },
            "hovermode": "closest",
            "mapbox": {
             "style": "light"
            },
            "paper_bgcolor": "white",
            "plot_bgcolor": "white",
            "polar": {
             "angularaxis": {
              "gridcolor": "#EBF0F8",
              "linecolor": "#EBF0F8",
              "ticks": ""
             },
             "bgcolor": "white",
             "radialaxis": {
              "gridcolor": "#EBF0F8",
              "linecolor": "#EBF0F8",
              "ticks": ""
             }
            },
            "scene": {
             "xaxis": {
              "backgroundcolor": "white",
              "gridcolor": "#DFE8F3",
              "gridwidth": 2,
              "linecolor": "#EBF0F8",
              "showbackground": true,
              "ticks": "",
              "zerolinecolor": "#EBF0F8"
             },
             "yaxis": {
              "backgroundcolor": "white",
              "gridcolor": "#DFE8F3",
              "gridwidth": 2,
              "linecolor": "#EBF0F8",
              "showbackground": true,
              "ticks": "",
              "zerolinecolor": "#EBF0F8"
             },
             "zaxis": {
              "backgroundcolor": "white",
              "gridcolor": "#DFE8F3",
              "gridwidth": 2,
              "linecolor": "#EBF0F8",
              "showbackground": true,
              "ticks": "",
              "zerolinecolor": "#EBF0F8"
             }
            },
            "shapedefaults": {
             "line": {
              "color": "#2a3f5f"
             }
            },
            "ternary": {
             "aaxis": {
              "gridcolor": "#DFE8F3",
              "linecolor": "#A2B1C6",
              "ticks": ""
             },
             "baxis": {
              "gridcolor": "#DFE8F3",
              "linecolor": "#A2B1C6",
              "ticks": ""
             },
             "bgcolor": "white",
             "caxis": {
              "gridcolor": "#DFE8F3",
              "linecolor": "#A2B1C6",
              "ticks": ""
             }
            },
            "title": {
             "x": 0.05
            },
            "xaxis": {
             "automargin": true,
             "gridcolor": "#EBF0F8",
             "linecolor": "#EBF0F8",
             "ticks": "",
             "title": {
              "standoff": 15
             },
             "zerolinecolor": "#EBF0F8",
             "zerolinewidth": 2
            },
            "yaxis": {
             "automargin": true,
             "gridcolor": "#EBF0F8",
             "linecolor": "#EBF0F8",
             "ticks": "",
             "title": {
              "standoff": 15
             },
             "zerolinecolor": "#EBF0F8",
             "zerolinewidth": 2
            }
           }
          },
          "xaxis": {
           "automargin": false,
           "linecolor": "#444",
           "linewidth": 2,
           "minor": {
            "tickmode": "linear",
            "ticks": "outside"
           },
           "mirror": true,
           "showline": true,
           "tickmode": "linear",
           "ticks": "outside",
           "zeroline": false
          },
          "yaxis": {
           "automargin": true,
           "linecolor": "#444",
           "linewidth": 2,
           "minor": {
            "tickmode": "linear",
            "ticks": "outside"
           },
           "mirror": true,
           "showline": true,
           "ticks": "outside",
           "zeroline": false
          }
         }
        },
        "width": 600,
        "xaxis": {
         "dtick": 0.2,
         "minor": {
          "dtick": 0.1,
          "tick0": 0
         },
         "range": [
          0,
          1
         ],
         "tick0": 0,
         "title": {
          "text": "DPR CV"
         }
        },
        "yaxis": {
         "dtick": 0.2,
         "minor": {
          "dtick": 0.1,
          "tick0": 0
         },
         "range": [
          0,
          1.02
         ],
         "tick0": 0,
         "title": {
          "text": "damage / hit points"
         }
        }
       }
      }
     },
     "metadata": {},
     "output_type": "display_data"
    }
   ],
   "source": [
    "# plots the average damage taken relative to max HP for a range of monster CoV values\n",
    "\n",
    "diff = 0.7 # deadly\n",
    "\n",
    "party_hp = 100\n",
    "party_dpr = 40\n",
    "party_size = 4\n",
    "pc_hp = party_hp/4\n",
    "pc_dpr = party_dpr/4\n",
    "pc_dpr_cv = 0.8\n",
    "\n",
    "mon_hp = 100\n",
    "mon_dpr = (party_hp*diff)/(mon_hp/party_dpr)\n",
    "\n",
    "# original\n",
    "pc_win_pct = []\n",
    "mon_win_pct = []\n",
    "pc_hp_loss = []\n",
    "pc_hp_loss_sigma = []\n",
    "mon_hp_loss = []\n",
    "mon_hp_loss_sigma = []\n",
    "mon_dpr_cvs = np.linspace(0.2, 0.8, 7)\n",
    "for mon_dpr_cv in mon_dpr_cvs:\n",
    "    #print(f'{mon_dpr_cv:.1f}')\n",
    "    combatants = [\n",
    "        cp.Combatant(\n",
    "            group='NPCs',\n",
    "            name='monster',\n",
    "            opponent='PCs',\n",
    "            level=5,\n",
    "            hit_points = mon_hp,\n",
    "            damage = [cp.gaussian_dice_distribution(mon_dpr, mon_dpr_cv*mon_dpr)],\n",
    "        ),\n",
    "        cp.Combatant(\n",
    "            group='PCs',\n",
    "            name='PC 1',\n",
    "            opponent='NPCs',\n",
    "            level=5,\n",
    "            hit_points = pc_hp,\n",
    "            damage = [cp.gaussian_dice_distribution(pc_dpr, pc_dpr_cv*pc_dpr)],\n",
    "        ),\n",
    "        cp.Combatant(\n",
    "            group='PCs',\n",
    "            name='PC 2',\n",
    "            opponent='NPCs',\n",
    "            level=5,\n",
    "            hit_points = pc_hp,\n",
    "            damage = [cp.gaussian_dice_distribution(pc_dpr, pc_dpr_cv*pc_dpr)],\n",
    "        ),\n",
    "        cp.Combatant(\n",
    "            group='PCs',\n",
    "            name='PC 3',\n",
    "            opponent='NPCs',\n",
    "            level=5,\n",
    "            hit_points = pc_hp,\n",
    "            damage = [cp.gaussian_dice_distribution(pc_dpr, pc_dpr_cv*pc_dpr)],\n",
    "        ),\n",
    "        cp.Combatant(\n",
    "            group='PCs',\n",
    "            name='PC 4',\n",
    "            opponent='NPCs',\n",
    "            level=5,\n",
    "            hit_points = pc_hp,\n",
    "            damage = [cp.gaussian_dice_distribution(pc_dpr, pc_dpr_cv*pc_dpr)],\n",
    "        ),\n",
    "    ]\n",
    "    e = cp.Encounter(combatants, initiative=['PC 1','PC 2','monster','PC 3','PC 4'], rounds=8)\n",
    "    pc_win_pct += [e.group_win_pct('PCs', method='approx')]\n",
    "    mon_win_pct += [e.group_win_pct('NPCs', method='approx')]\n",
    "\n",
    "    pc_hp_loss += [e.group_damage_mean('NPCs', method='approx', clip=True)/(party_size*pc_hp)]\n",
    "    pc_hp_loss_sigma += [e.group_damage_sigma('NPCs', method='approx', clip=True)/(party_size*pc_hp)]\n",
    "\n",
    "    mon_hp_loss += [e.group_damage_mean('PCs', method='approx', clip=True)/(mon_hp)]\n",
    "    mon_hp_loss_sigma += [e.group_damage_sigma('PCs', method='approx', clip=True)/(mon_hp)]\n",
    "\n",
    "\n",
    "\n",
    "# create figure\n",
    "fig = go.Figure(\n",
    "    layout=go.Layout(\n",
    "        template=tfb.FIG_TEMPLATE,\n",
    "        xaxis=dict(\n",
    "            title_text='DPR CV',\n",
    "            range=[0, 1],\n",
    "            tick0=0, dtick=0.2,\n",
    "            minor=dict(tick0=0, dtick=0.1),\n",
    "        ),\n",
    "        yaxis=dict(\n",
    "            title_text='damage / hit points',\n",
    "            range=[0,1.02],\n",
    "            #tickformat='.0%'\n",
    "            tick0=0, dtick=0.2,\n",
    "            minor=dict(tick0=0, dtick=0.1),\n",
    "        ),\n",
    "        legend=dict(\n",
    "            xanchor='left', yanchor='top',\n",
    "            x=0.00, y=1.00,\n",
    "            orientation='v',\n",
    "            tracegroupgap=0,\n",
    "        )\n",
    "    )\n",
    ")\n",
    "\n",
    "fig.add_trace(go.Scatter(\n",
    "    x=mon_dpr_cvs,\n",
    "    y=pc_hp_loss,\n",
    "    name=f'PCs',\n",
    "    #line_color=COLOR_LIST[i],\n",
    "    error_y=dict(\n",
    "        type='data',\n",
    "        symmetric=False,\n",
    "        array=pc_hp_loss_sigma,\n",
    "        arrayminus=pc_hp_loss_sigma,\n",
    "    ),\n",
    "    hovertemplate=\n",
    "        f'<b>PCs</b><br>'+\n",
    "        'monster CV %{x:.2f}<br>'+\n",
    "        'probability %{y:.1%}<extra></extra>',\n",
    "))\n",
    "\n",
    "fig.add_trace(go.Scatter(\n",
    "    x=mon_dpr_cvs,\n",
    "    y=mon_hp_loss,\n",
    "    name=f'NPCs',\n",
    "    #line_color=COLOR_LIST[i],\n",
    "    #error_y=dict(\n",
    "    #    type='data',\n",
    "    #    symmetric=True,\n",
    "    #    array=mon_hp_loss_sigma,\n",
    "    #),\n",
    "    hovertemplate=\n",
    "        f'<b>NPCs</b><br>'+\n",
    "        'monster CV %{x:.2f}<br>'+\n",
    "        'probability %{y:.1%}<extra></extra>',\n",
    "))\n",
    "\n",
    "\n",
    "# show figure\n",
    "fig.update_layout(width=600, height=450)\n",
    "fig.show(config=tfb.FIG_CONFIG)\n",
    "\n",
    "# save figures\n",
    "if SAVEFIGS:\n",
    "    fig.update_layout(autosize=True, width=None, height=None)\n",
    "    #tfb.save_fig_html(fig, format='large', name=f'./fig-example-dt-distribution-large')\n",
    "    #tfb.save_fig_html(fig, format='small', name=f'./fig-example-dt-distribution-small')"
   ]
  },
  {
   "cell_type": "code",
   "execution_count": 101,
   "metadata": {},
   "outputs": [
    {
     "data": {
      "application/vnd.plotly.v1+json": {
       "config": {
        "autosizable": true,
        "displayModeBar": "hover",
        "displaylogo": false,
        "doubleClick": "reset",
        "modeBarButtonsToRemove": [
         "select2d",
         "lasso2d",
         "zoom2d",
         "zoomIn2d",
         "zoomOut2d",
         "pan2d",
         "autoScale2d",
         "hoverClosestCartesian",
         "hoverCompareCartesian",
         "toggleSpikelines",
         "resetScale2d"
        ],
        "plotlyServerURL": "https://plot.ly",
        "responsive": true,
        "showAxisDragHandles": false,
        "toImageButtonOptions": {
         "filename": "tfb-plot",
         "format": "png",
         "height": 450,
         "scale": 2,
         "width": 600
        }
       },
       "data": [
        {
         "hovertemplate": "Challenge Rating %{x:.0f}<br>DPR CV %{y:.2f}<extra></extra>",
         "mode": "markers",
         "name": "published monsters",
         "type": "scatter",
         "x": [
          0.125,
          0.25,
          0.5,
          1,
          2,
          3,
          4,
          5,
          6,
          7,
          8,
          9,
          10,
          11,
          12,
          13,
          14,
          15,
          16,
          17,
          19,
          20,
          21,
          23,
          25,
          26
         ],
         "y": [
          1.0693684861865784,
          1.0377839135349363,
          0.9485221904076139,
          0.8849288193253357,
          0.8015665157502311,
          0.6979541306939464,
          0.6890074978530819,
          0.6377089524094653,
          0.6341826351447435,
          0.5894629277879416,
          0.5782016412413833,
          0.48277399666243304,
          0.4947761150023919,
          0.5198961573921712,
          0.4556615578598853,
          0.37768076929119504,
          0.39853745792929823,
          0.45264919502944145,
          0.3743765602599199,
          0.3683340826436368,
          0.36045445624646344,
          0.22652529711914157,
          0.28603877831106606,
          0.1517884927406502,
          0.15900746366356303,
          0.22060484614038525
         ]
        }
       ],
       "layout": {
        "height": 450,
        "legend": {
         "orientation": "v",
         "tracegroupgap": 0,
         "x": 0.99,
         "xanchor": "right",
         "y": 0.99,
         "yanchor": "top"
        },
        "template": {
         "layout": {
          "autosize": false,
          "font": {
           "family": "sans-serif",
           "size": 14
          },
          "hoverlabel": {
           "align": "left"
          },
          "hovermode": "closest",
          "margin": {
           "b": 55,
           "l": 60,
           "pad": 4,
           "r": 25,
           "t": 20
          },
          "template": {
           "data": {
            "bar": [
             {
              "error_x": {
               "color": "#2a3f5f"
              },
              "error_y": {
               "color": "#2a3f5f"
              },
              "marker": {
               "line": {
                "color": "white",
                "width": 0.5
               },
               "pattern": {
                "fillmode": "overlay",
                "size": 10,
                "solidity": 0.2
               }
              },
              "type": "bar"
             }
            ],
            "barpolar": [
             {
              "marker": {
               "line": {
                "color": "white",
                "width": 0.5
               },
               "pattern": {
                "fillmode": "overlay",
                "size": 10,
                "solidity": 0.2
               }
              },
              "type": "barpolar"
             }
            ],
            "carpet": [
             {
              "aaxis": {
               "endlinecolor": "#2a3f5f",
               "gridcolor": "#C8D4E3",
               "linecolor": "#C8D4E3",
               "minorgridcolor": "#C8D4E3",
               "startlinecolor": "#2a3f5f"
              },
              "baxis": {
               "endlinecolor": "#2a3f5f",
               "gridcolor": "#C8D4E3",
               "linecolor": "#C8D4E3",
               "minorgridcolor": "#C8D4E3",
               "startlinecolor": "#2a3f5f"
              },
              "type": "carpet"
             }
            ],
            "choropleth": [
             {
              "colorbar": {
               "outlinewidth": 0,
               "ticks": ""
              },
              "type": "choropleth"
             }
            ],
            "contour": [
             {
              "colorbar": {
               "outlinewidth": 0,
               "ticks": ""
              },
              "colorscale": [
               [
                0,
                "#0d0887"
               ],
               [
                0.1111111111111111,
                "#46039f"
               ],
               [
                0.2222222222222222,
                "#7201a8"
               ],
               [
                0.3333333333333333,
                "#9c179e"
               ],
               [
                0.4444444444444444,
                "#bd3786"
               ],
               [
                0.5555555555555556,
                "#d8576b"
               ],
               [
                0.6666666666666666,
                "#ed7953"
               ],
               [
                0.7777777777777778,
                "#fb9f3a"
               ],
               [
                0.8888888888888888,
                "#fdca26"
               ],
               [
                1,
                "#f0f921"
               ]
              ],
              "type": "contour"
             }
            ],
            "contourcarpet": [
             {
              "colorbar": {
               "outlinewidth": 0,
               "ticks": ""
              },
              "type": "contourcarpet"
             }
            ],
            "heatmap": [
             {
              "colorbar": {
               "outlinewidth": 0,
               "ticks": ""
              },
              "colorscale": [
               [
                0,
                "#0d0887"
               ],
               [
                0.1111111111111111,
                "#46039f"
               ],
               [
                0.2222222222222222,
                "#7201a8"
               ],
               [
                0.3333333333333333,
                "#9c179e"
               ],
               [
                0.4444444444444444,
                "#bd3786"
               ],
               [
                0.5555555555555556,
                "#d8576b"
               ],
               [
                0.6666666666666666,
                "#ed7953"
               ],
               [
                0.7777777777777778,
                "#fb9f3a"
               ],
               [
                0.8888888888888888,
                "#fdca26"
               ],
               [
                1,
                "#f0f921"
               ]
              ],
              "type": "heatmap"
             }
            ],
            "heatmapgl": [
             {
              "colorbar": {
               "outlinewidth": 0,
               "ticks": ""
              },
              "colorscale": [
               [
                0,
                "#0d0887"
               ],
               [
                0.1111111111111111,
                "#46039f"
               ],
               [
                0.2222222222222222,
                "#7201a8"
               ],
               [
                0.3333333333333333,
                "#9c179e"
               ],
               [
                0.4444444444444444,
                "#bd3786"
               ],
               [
                0.5555555555555556,
                "#d8576b"
               ],
               [
                0.6666666666666666,
                "#ed7953"
               ],
               [
                0.7777777777777778,
                "#fb9f3a"
               ],
               [
                0.8888888888888888,
                "#fdca26"
               ],
               [
                1,
                "#f0f921"
               ]
              ],
              "type": "heatmapgl"
             }
            ],
            "histogram": [
             {
              "marker": {
               "pattern": {
                "fillmode": "overlay",
                "size": 10,
                "solidity": 0.2
               }
              },
              "type": "histogram"
             }
            ],
            "histogram2d": [
             {
              "colorbar": {
               "outlinewidth": 0,
               "ticks": ""
              },
              "colorscale": [
               [
                0,
                "#0d0887"
               ],
               [
                0.1111111111111111,
                "#46039f"
               ],
               [
                0.2222222222222222,
                "#7201a8"
               ],
               [
                0.3333333333333333,
                "#9c179e"
               ],
               [
                0.4444444444444444,
                "#bd3786"
               ],
               [
                0.5555555555555556,
                "#d8576b"
               ],
               [
                0.6666666666666666,
                "#ed7953"
               ],
               [
                0.7777777777777778,
                "#fb9f3a"
               ],
               [
                0.8888888888888888,
                "#fdca26"
               ],
               [
                1,
                "#f0f921"
               ]
              ],
              "type": "histogram2d"
             }
            ],
            "histogram2dcontour": [
             {
              "colorbar": {
               "outlinewidth": 0,
               "ticks": ""
              },
              "colorscale": [
               [
                0,
                "#0d0887"
               ],
               [
                0.1111111111111111,
                "#46039f"
               ],
               [
                0.2222222222222222,
                "#7201a8"
               ],
               [
                0.3333333333333333,
                "#9c179e"
               ],
               [
                0.4444444444444444,
                "#bd3786"
               ],
               [
                0.5555555555555556,
                "#d8576b"
               ],
               [
                0.6666666666666666,
                "#ed7953"
               ],
               [
                0.7777777777777778,
                "#fb9f3a"
               ],
               [
                0.8888888888888888,
                "#fdca26"
               ],
               [
                1,
                "#f0f921"
               ]
              ],
              "type": "histogram2dcontour"
             }
            ],
            "mesh3d": [
             {
              "colorbar": {
               "outlinewidth": 0,
               "ticks": ""
              },
              "type": "mesh3d"
             }
            ],
            "parcoords": [
             {
              "line": {
               "colorbar": {
                "outlinewidth": 0,
                "ticks": ""
               }
              },
              "type": "parcoords"
             }
            ],
            "pie": [
             {
              "automargin": true,
              "type": "pie"
             }
            ],
            "scatter": [
             {
              "fillpattern": {
               "fillmode": "overlay",
               "size": 10,
               "solidity": 0.2
              },
              "type": "scatter"
             }
            ],
            "scatter3d": [
             {
              "line": {
               "colorbar": {
                "outlinewidth": 0,
                "ticks": ""
               }
              },
              "marker": {
               "colorbar": {
                "outlinewidth": 0,
                "ticks": ""
               }
              },
              "type": "scatter3d"
             }
            ],
            "scattercarpet": [
             {
              "marker": {
               "colorbar": {
                "outlinewidth": 0,
                "ticks": ""
               }
              },
              "type": "scattercarpet"
             }
            ],
            "scattergeo": [
             {
              "marker": {
               "colorbar": {
                "outlinewidth": 0,
                "ticks": ""
               }
              },
              "type": "scattergeo"
             }
            ],
            "scattergl": [
             {
              "marker": {
               "colorbar": {
                "outlinewidth": 0,
                "ticks": ""
               }
              },
              "type": "scattergl"
             }
            ],
            "scattermapbox": [
             {
              "marker": {
               "colorbar": {
                "outlinewidth": 0,
                "ticks": ""
               }
              },
              "type": "scattermapbox"
             }
            ],
            "scatterpolar": [
             {
              "marker": {
               "colorbar": {
                "outlinewidth": 0,
                "ticks": ""
               }
              },
              "type": "scatterpolar"
             }
            ],
            "scatterpolargl": [
             {
              "marker": {
               "colorbar": {
                "outlinewidth": 0,
                "ticks": ""
               }
              },
              "type": "scatterpolargl"
             }
            ],
            "scatterternary": [
             {
              "marker": {
               "colorbar": {
                "outlinewidth": 0,
                "ticks": ""
               }
              },
              "type": "scatterternary"
             }
            ],
            "surface": [
             {
              "colorbar": {
               "outlinewidth": 0,
               "ticks": ""
              },
              "colorscale": [
               [
                0,
                "#0d0887"
               ],
               [
                0.1111111111111111,
                "#46039f"
               ],
               [
                0.2222222222222222,
                "#7201a8"
               ],
               [
                0.3333333333333333,
                "#9c179e"
               ],
               [
                0.4444444444444444,
                "#bd3786"
               ],
               [
                0.5555555555555556,
                "#d8576b"
               ],
               [
                0.6666666666666666,
                "#ed7953"
               ],
               [
                0.7777777777777778,
                "#fb9f3a"
               ],
               [
                0.8888888888888888,
                "#fdca26"
               ],
               [
                1,
                "#f0f921"
               ]
              ],
              "type": "surface"
             }
            ],
            "table": [
             {
              "cells": {
               "fill": {
                "color": "#EBF0F8"
               },
               "line": {
                "color": "white"
               }
              },
              "header": {
               "fill": {
                "color": "#C8D4E3"
               },
               "line": {
                "color": "white"
               }
              },
              "type": "table"
             }
            ]
           },
           "layout": {
            "annotationdefaults": {
             "arrowcolor": "#2a3f5f",
             "arrowhead": 0,
             "arrowwidth": 1
            },
            "autotypenumbers": "strict",
            "coloraxis": {
             "colorbar": {
              "outlinewidth": 0,
              "ticks": ""
             }
            },
            "colorscale": {
             "diverging": [
              [
               0,
               "#8e0152"
              ],
              [
               0.1,
               "#c51b7d"
              ],
              [
               0.2,
               "#de77ae"
              ],
              [
               0.3,
               "#f1b6da"
              ],
              [
               0.4,
               "#fde0ef"
              ],
              [
               0.5,
               "#f7f7f7"
              ],
              [
               0.6,
               "#e6f5d0"
              ],
              [
               0.7,
               "#b8e186"
              ],
              [
               0.8,
               "#7fbc41"
              ],
              [
               0.9,
               "#4d9221"
              ],
              [
               1,
               "#276419"
              ]
             ],
             "sequential": [
              [
               0,
               "#0d0887"
              ],
              [
               0.1111111111111111,
               "#46039f"
              ],
              [
               0.2222222222222222,
               "#7201a8"
              ],
              [
               0.3333333333333333,
               "#9c179e"
              ],
              [
               0.4444444444444444,
               "#bd3786"
              ],
              [
               0.5555555555555556,
               "#d8576b"
              ],
              [
               0.6666666666666666,
               "#ed7953"
              ],
              [
               0.7777777777777778,
               "#fb9f3a"
              ],
              [
               0.8888888888888888,
               "#fdca26"
              ],
              [
               1,
               "#f0f921"
              ]
             ],
             "sequentialminus": [
              [
               0,
               "#0d0887"
              ],
              [
               0.1111111111111111,
               "#46039f"
              ],
              [
               0.2222222222222222,
               "#7201a8"
              ],
              [
               0.3333333333333333,
               "#9c179e"
              ],
              [
               0.4444444444444444,
               "#bd3786"
              ],
              [
               0.5555555555555556,
               "#d8576b"
              ],
              [
               0.6666666666666666,
               "#ed7953"
              ],
              [
               0.7777777777777778,
               "#fb9f3a"
              ],
              [
               0.8888888888888888,
               "#fdca26"
              ],
              [
               1,
               "#f0f921"
              ]
             ]
            },
            "colorway": [
             "#636efa",
             "#EF553B",
             "#00cc96",
             "#ab63fa",
             "#FFA15A",
             "#19d3f3",
             "#FF6692",
             "#B6E880",
             "#FF97FF",
             "#FECB52"
            ],
            "font": {
             "color": "#2a3f5f"
            },
            "geo": {
             "bgcolor": "white",
             "lakecolor": "white",
             "landcolor": "white",
             "showlakes": true,
             "showland": true,
             "subunitcolor": "#C8D4E3"
            },
            "hoverlabel": {
             "align": "left"
            },
            "hovermode": "closest",
            "mapbox": {
             "style": "light"
            },
            "paper_bgcolor": "white",
            "plot_bgcolor": "white",
            "polar": {
             "angularaxis": {
              "gridcolor": "#EBF0F8",
              "linecolor": "#EBF0F8",
              "ticks": ""
             },
             "bgcolor": "white",
             "radialaxis": {
              "gridcolor": "#EBF0F8",
              "linecolor": "#EBF0F8",
              "ticks": ""
             }
            },
            "scene": {
             "xaxis": {
              "backgroundcolor": "white",
              "gridcolor": "#DFE8F3",
              "gridwidth": 2,
              "linecolor": "#EBF0F8",
              "showbackground": true,
              "ticks": "",
              "zerolinecolor": "#EBF0F8"
             },
             "yaxis": {
              "backgroundcolor": "white",
              "gridcolor": "#DFE8F3",
              "gridwidth": 2,
              "linecolor": "#EBF0F8",
              "showbackground": true,
              "ticks": "",
              "zerolinecolor": "#EBF0F8"
             },
             "zaxis": {
              "backgroundcolor": "white",
              "gridcolor": "#DFE8F3",
              "gridwidth": 2,
              "linecolor": "#EBF0F8",
              "showbackground": true,
              "ticks": "",
              "zerolinecolor": "#EBF0F8"
             }
            },
            "shapedefaults": {
             "line": {
              "color": "#2a3f5f"
             }
            },
            "ternary": {
             "aaxis": {
              "gridcolor": "#DFE8F3",
              "linecolor": "#A2B1C6",
              "ticks": ""
             },
             "baxis": {
              "gridcolor": "#DFE8F3",
              "linecolor": "#A2B1C6",
              "ticks": ""
             },
             "bgcolor": "white",
             "caxis": {
              "gridcolor": "#DFE8F3",
              "linecolor": "#A2B1C6",
              "ticks": ""
             }
            },
            "title": {
             "x": 0.05
            },
            "xaxis": {
             "automargin": true,
             "gridcolor": "#EBF0F8",
             "linecolor": "#EBF0F8",
             "ticks": "",
             "title": {
              "standoff": 15
             },
             "zerolinecolor": "#EBF0F8",
             "zerolinewidth": 2
            },
            "yaxis": {
             "automargin": true,
             "gridcolor": "#EBF0F8",
             "linecolor": "#EBF0F8",
             "ticks": "",
             "title": {
              "standoff": 15
             },
             "zerolinecolor": "#EBF0F8",
             "zerolinewidth": 2
            }
           }
          },
          "xaxis": {
           "automargin": false,
           "linecolor": "#444",
           "linewidth": 2,
           "minor": {
            "tickmode": "linear",
            "ticks": "outside"
           },
           "mirror": true,
           "showline": true,
           "tickmode": "linear",
           "ticks": "outside",
           "zeroline": false
          },
          "yaxis": {
           "automargin": true,
           "linecolor": "#444",
           "linewidth": 2,
           "minor": {
            "tickmode": "linear",
            "ticks": "outside"
           },
           "mirror": true,
           "showline": true,
           "ticks": "outside",
           "zeroline": false
          }
         }
        },
        "width": 600,
        "xaxis": {
         "dtick": 5,
         "minor": {
          "dtick": 1,
          "tick0": 0
         },
         "range": [
          0,
          27
         ],
         "tick0": 0,
         "title": {
          "text": "challenge rating"
         }
        },
        "yaxis": {
         "dtick": 0.2,
         "minor": {
          "dtick": 0.05,
          "tick0": 0
         },
         "range": [
          -0.01,
          1.01
         ],
         "tick0": 0,
         "tickformat": ".1f",
         "title": {
          "text": "NPC damage sigma / mean"
         }
        }
       }
      }
     },
     "metadata": {},
     "output_type": "display_data"
    }
   ],
   "source": [
    "# Fig. 4: plot DPR CV for published monsters\n",
    "import numpy as np\n",
    "import pandas as pd\n",
    "\n",
    "def baseline_monster(cr):\n",
    "    return {\n",
    "        'CR': cr,\n",
    "        'hit_points': np.round(16*(cr + 1) if cr < 20 else 368 + 48*(cr - 20), 0),\n",
    "        'damage_per_round': np.round(6*(cr + 1) if cr < 20 else 132 + 12*(cr - 20), 0),\n",
    "        'attack_bonus': np.round(3.5 + cr/2, 0),\n",
    "        'save_dc': np.round(11.5 + cr/2, 0),\n",
    "        'armor_class': np.round(13.0 + cr/3, 0),\n",
    "        'save_bonus': np.round(0.0 + cr/2, 0),\n",
    "    }\n",
    "\n",
    "def monster_dpr_is_valid(monster):\n",
    "    dpr = 0.65*baseline_monster(monster['CR'])['damage_per_round']\n",
    "    return monster['dpr.mean']/dpr > 0.5\n",
    "\n",
    "dM = pd.read_csv('./monster-variability.csv')\n",
    "dM['dpr.mean'] = dM['damage.mean']/3\n",
    "dM['dpr.sigma'] = dM['damage.sigma']/np.sqrt(3)\n",
    "dM['dpr.cv'] = dM['dpr.sigma']/dM['dpr.mean']\n",
    "dM['valid'] = dM.apply(lambda r: monster_dpr_is_valid(r), axis=1)\n",
    "dM = dM[dM['valid'] & dM['CR'].between(0.01,30)]\n",
    "\n",
    "dM = dM[['CR','dpr.cv']].groupby('CR').mean().reset_index()\n",
    "dM.sort_values(by='CR', inplace=True)\n",
    "\n",
    "fig = go.Figure(\n",
    "    layout=go.Layout(\n",
    "        template=tfb.FIG_TEMPLATE,\n",
    "        xaxis=dict(\n",
    "            title_text='challenge rating',\n",
    "            range=[0, 27],\n",
    "            tick0=0, dtick=5,\n",
    "            minor=dict(tick0=0, dtick=1),\n",
    "        ),\n",
    "        yaxis=dict(\n",
    "            title_text='NPC damage sigma / mean',\n",
    "            range=[-0.01, 1.01],\n",
    "            tickformat='.1f',\n",
    "            tick0=0, dtick=0.2,\n",
    "            minor=dict(tick0=0, dtick=0.05),\n",
    "        ),\n",
    "        legend=dict(\n",
    "            xanchor='right', yanchor='top',\n",
    "            x=0.99, y=0.99,\n",
    "            orientation='v',\n",
    "            tracegroupgap=0,\n",
    "        ),\n",
    "    )\n",
    ")\n",
    "\n",
    "fig.add_trace(go.Scatter(\n",
    "    x=dM['CR'], \n",
    "    y=dM['dpr.cv'],\n",
    "    name='published monsters',\n",
    "    mode='markers',\n",
    "    hovertemplate=\n",
    "            'Challenge Rating %{x:.0f}<br>'+\n",
    "            'DPR CV %{y:.2f}<extra></extra>',\n",
    "))\n",
    "\n",
    "# show figure\n",
    "fig.update_layout(width=600, height=450)\n",
    "fig.show(config=tfb.FIG_CONFIG)\n",
    "\n",
    "# save figures\n",
    "if SAVEFIGS:\n",
    "    fig.update_layout(autosize=True, width=None, height=None)\n",
    "    tfb.save_fig_html(fig, format='large', name=f'./fig-monster-dpr-cv-large')\n",
    "    tfb.save_fig_html(fig, format='small', name=f'./fig-monster-dpr-cv-small')"
   ]
  },
  {
   "cell_type": "code",
   "execution_count": 99,
   "metadata": {},
   "outputs": [
    {
     "data": {
      "application/vnd.plotly.v1+json": {
       "config": {
        "autosizable": true,
        "displayModeBar": "hover",
        "displaylogo": false,
        "doubleClick": "reset",
        "modeBarButtonsToRemove": [
         "select2d",
         "lasso2d",
         "zoom2d",
         "zoomIn2d",
         "zoomOut2d",
         "pan2d",
         "autoScale2d",
         "hoverClosestCartesian",
         "hoverCompareCartesian",
         "toggleSpikelines",
         "resetScale2d"
        ],
        "plotlyServerURL": "https://plot.ly",
        "responsive": true,
        "showAxisDragHandles": false,
        "toImageButtonOptions": {
         "filename": "tfb-plot",
         "format": "png",
         "height": 450,
         "scale": 2,
         "width": 600
        }
       },
       "data": [
        {
         "fill": "tozeroy",
         "fillcolor": "rgba(167, 167, 167, 0.15)",
         "hoverinfo": "none",
         "mode": "none",
         "showlegend": false,
         "type": "scatter",
         "x": [
          0,
          0.15
         ],
         "y": [
          1,
          1
         ]
        },
        {
         "fill": "tozeroy",
         "fillcolor": "rgba(  0, 199, 151, 0.15)",
         "hoverinfo": "none",
         "mode": "none",
         "showlegend": false,
         "type": "scatter",
         "x": [
          0.15,
          0.3
         ],
         "y": [
          1,
          1
         ]
        },
        {
         "fill": "tozeroy",
         "fillcolor": "rgba(245, 166,  35, 0.15)",
         "hoverinfo": "none",
         "mode": "none",
         "showlegend": false,
         "type": "scatter",
         "x": [
          0.3,
          0.44999999999999996
         ],
         "y": [
          1,
          1
         ]
        },
        {
         "fill": "tozeroy",
         "fillcolor": "rgba(228,  90,  29, 0.15)",
         "hoverinfo": "none",
         "mode": "none",
         "showlegend": false,
         "type": "scatter",
         "x": [
          0.45,
          0.7
         ],
         "y": [
          1,
          1
         ]
        },
        {
         "fill": "tozeroy",
         "fillcolor": "rgba(144,  79, 213, 0.15)",
         "hoverinfo": "none",
         "mode": "none",
         "showlegend": false,
         "type": "scatter",
         "x": [
          0.7,
          1
         ],
         "y": [
          1,
          1
         ]
        },
        {
         "hovertemplate": "<b>tier 1</b><br>difficulty %{x:.2f}<br>probability %{y:.1%}<extra></extra>",
         "line": {
          "color": "#1f77b4"
         },
         "mode": "lines",
         "name": "tier 1",
         "type": "scatter",
         "x": [
          0.05,
          0.07435897435897436,
          0.09871794871794873,
          0.12307692307692308,
          0.14743589743589744,
          0.1717948717948718,
          0.19615384615384618,
          0.2205128205128205,
          0.2448717948717949,
          0.2692307692307692,
          0.2935897435897436,
          0.31794871794871793,
          0.3423076923076923,
          0.36666666666666664,
          0.391025641025641,
          0.41538461538461535,
          0.43974358974358974,
          0.4641025641025641,
          0.48846153846153845,
          0.5128205128205129,
          0.5371794871794872,
          0.5615384615384615,
          0.5858974358974359,
          0.6102564102564103,
          0.6346153846153847,
          0.6589743589743591,
          0.6833333333333333,
          0.7076923076923077,
          0.7320512820512821,
          0.7564102564102565,
          0.7807692307692308,
          0.8051282051282052,
          0.8294871794871795,
          0.8538461538461539,
          0.8782051282051283,
          0.9025641025641026,
          0.926923076923077,
          0.9512820512820513,
          0.9756410256410257,
          1
         ],
         "y": [
          0,
          0,
          4.2014070450809674e-23,
          6.718413930157337e-16,
          3.701430003431267e-12,
          8.087003332574349e-10,
          3.7127207948282814e-8,
          6.644339161067348e-7,
          0.0000062469174613035325,
          0.000036935719726557884,
          0.00015464678723025685,
          0.0004982676975764798,
          0.0013105572974327297,
          0.0029361689168553844,
          0.005785312667925544,
          0.010277978180644895,
          0.016788000623473267,
          0.025598185652779434,
          0.03687135436064394,
          0.05063957020008605,
          0.06681104308419641,
          0.08519082190450833,
          0.10550917828063798,
          0.12745151857273887,
          0.1506853086030826,
          0.17488147825969508,
          0.1997297580314168,
          0.22494833179284332,
          0.25028890868290915,
          0.2755384054667238,
          0.30051823403010414,
          0.32508222450028906,
          0.34911354395246774,
          0.37252143375204994,
          0.3952377617623969,
          0.4172137595912505,
          0.43841698551087155,
          0.4588285598826055,
          0.47844078753225,
          0.497254983088569
         ]
        },
        {
         "hovertemplate": "<b>tier 2</b><br>difficulty %{x:.2f}<br>probability %{y:.1%}<extra></extra>",
         "line": {
          "color": "#ff7f0e"
         },
         "mode": "lines",
         "name": "tier 2",
         "type": "scatter",
         "x": [
          0.05,
          0.07435897435897436,
          0.09871794871794873,
          0.12307692307692308,
          0.14743589743589744,
          0.1717948717948718,
          0.19615384615384618,
          0.2205128205128205,
          0.2448717948717949,
          0.2692307692307692,
          0.2935897435897436,
          0.31794871794871793,
          0.3423076923076923,
          0.36666666666666664,
          0.391025641025641,
          0.41538461538461535,
          0.43974358974358974,
          0.4641025641025641,
          0.48846153846153845,
          0.5128205128205129,
          0.5371794871794872,
          0.5615384615384615,
          0.5858974358974359,
          0.6102564102564103,
          0.6346153846153847,
          0.6589743589743591,
          0.6833333333333333,
          0.7076923076923077,
          0.7320512820512821,
          0.7564102564102565,
          0.7807692307692308,
          0.8051282051282052,
          0.8294871794871795,
          0.8538461538461539,
          0.8782051282051283,
          0.9025641025641026,
          0.926923076923077,
          0.9512820512820513,
          0.9756410256410257,
          1
         ],
         "y": [
          0,
          0,
          0,
          2.6816932042535686e-26,
          6.557714352384117e-20,
          6.682678612493705e-16,
          5.185234578110788e-13,
          7.86359463175398e-11,
          3.836787993036768e-9,
          8.239143769447849e-8,
          9.680797898296418e-7,
          0.000007123322371269313,
          0.000036544084668882366,
          0.0001424697305356287,
          0.00044679088508307364,
          0.0011700729830185412,
          0.0026360868607914105,
          0.005245745983989222,
          0.00943532969697919,
          0.015633772715063887,
          0.02422289169838583,
          0.03550006217215605,
          0.04964645895794547,
          0.06670715902448501,
          0.08658814529549101,
          0.10907020242121511,
          0.13383556989661927,
          0.16050092531922497,
          0.1886505049911362,
          0.21786519528870857,
          0.2477450681262835,
          0.27792493454837736,
          0.30808347514564344,
          0.3379471658957134,
          0.3672903021801245,
          0.3959324426839242,
          0.4237342632652025,
          0.45059266818753274,
          0.47643568529610225,
          0.5012174762764179
         ]
        },
        {
         "hovertemplate": "<b>tier 3</b><br>difficulty %{x:.2f}<br>probability %{y:.1%}<extra></extra>",
         "line": {
          "color": "#2ca02c"
         },
         "mode": "lines",
         "name": "tier 3",
         "type": "scatter",
         "x": [
          0.05,
          0.07435897435897436,
          0.09871794871794873,
          0.12307692307692308,
          0.14743589743589744,
          0.1717948717948718,
          0.19615384615384618,
          0.2205128205128205,
          0.2448717948717949,
          0.2692307692307692,
          0.2935897435897436,
          0.31794871794871793,
          0.3423076923076923,
          0.36666666666666664,
          0.391025641025641,
          0.41538461538461535,
          0.43974358974358974,
          0.4641025641025641,
          0.48846153846153845,
          0.5128205128205129,
          0.5371794871794872,
          0.5615384615384615,
          0.5858974358974359,
          0.6102564102564103,
          0.6346153846153847,
          0.6589743589743591,
          0.6833333333333333,
          0.7076923076923077,
          0.7320512820512821,
          0.7564102564102565,
          0.7807692307692308,
          0.8051282051282052,
          0.8294871794871795,
          0.8538461538461539,
          0.8782051282051283,
          0.9025641025641026,
          0.926923076923077,
          0.9512820512820513,
          0.9756410256410257,
          1
         ],
         "y": [
          0,
          0,
          0,
          0,
          0,
          0,
          2.104038713049003e-26,
          1.2436860809530475e-21,
          6.830493514374201e-18,
          5.327655081675889e-15,
          1.1134937747586128e-12,
          9.444982975467136e-11,
          3.1041279140482952e-9,
          4.972945992418947e-8,
          5.237600024554595e-7,
          0.000004164739884186669,
          0.00002479028596563294,
          0.00010971729849243205,
          0.0003722721520995837,
          0.0010135147193766705,
          0.0023168939657432362,
          0.004628558803719207,
          0.00835132167496374,
          0.013959531499489685,
          0.022010182574030767,
          0.033117851734192634,
          0.0478828164404237,
          0.06679098272290553,
          0.09011959361220731,
          0.11787817170518448,
          0.1497979376198658,
          0.18536590912246176,
          0.22388931854912533,
          0.2645724844078962,
          0.30659113963195134,
          0.3491541367127007,
          0.3915480638584625,
          0.4331642162083026,
          0.4735103289623313,
          0.5122105058485017
         ]
        },
        {
         "hovertemplate": "<b>tier 4</b><br>difficulty %{x:.2f}<br>probability %{y:.1%}<extra></extra>",
         "line": {
          "color": "#d62728"
         },
         "mode": "lines",
         "name": "tier 4",
         "type": "scatter",
         "x": [
          0.05,
          0.07435897435897436,
          0.09871794871794873,
          0.12307692307692308,
          0.14743589743589744,
          0.1717948717948718,
          0.19615384615384618,
          0.2205128205128205,
          0.2448717948717949,
          0.2692307692307692,
          0.2935897435897436,
          0.31794871794871793,
          0.3423076923076923,
          0.36666666666666664,
          0.391025641025641,
          0.41538461538461535,
          0.43974358974358974,
          0.4641025641025641,
          0.48846153846153845,
          0.5128205128205129,
          0.5371794871794872,
          0.5615384615384615,
          0.5858974358974359,
          0.6102564102564103,
          0.6346153846153847,
          0.6589743589743591,
          0.6833333333333333,
          0.7076923076923077,
          0.7320512820512821,
          0.7564102564102565,
          0.7807692307692308,
          0.8051282051282052,
          0.8294871794871795,
          0.8538461538461539,
          0.8782051282051283,
          0.9025641025641026,
          0.926923076923077,
          0.9512820512820513,
          0.9756410256410257,
          1
         ],
         "y": [
          0,
          0,
          0,
          0,
          0,
          0,
          0,
          0,
          0,
          0,
          0,
          0,
          0,
          4.991300441037016e-25,
          8.932988187945858e-22,
          2.8583703786277038e-18,
          4.692827463472529e-15,
          1.7821340803929837e-12,
          1.9339728151031582e-10,
          7.854488262649087e-9,
          1.4686631774365453e-7,
          0.000001483266259751575,
          0.000009163558132131077,
          0.000038209546023385116,
          0.00011649054839445782,
          0.0002788341167877192,
          0.0005665872996085207,
          0.0010837342811443494,
          0.002179465677656907,
          0.00477328158984197,
          0.010691688802964807,
          0.022744586913703606,
          0.04430977292894058,
          0.07845946872983826,
          0.12696676621861294,
          0.18963097082420208,
          0.2641943104234182,
          0.3468312318779314,
          0.43296694172381284,
          0.5181208458324333
         ]
        }
       ],
       "layout": {
        "annotations": [
         {
          "showarrow": false,
          "text": "Trivial",
          "x": 0.075,
          "y": 0.47
         },
         {
          "showarrow": false,
          "text": "Easy",
          "x": 0.22499999999999998,
          "y": 0.47
         },
         {
          "showarrow": false,
          "text": "Medium",
          "x": 0.375,
          "y": 0.47
         },
         {
          "showarrow": false,
          "text": "Hard",
          "x": 0.575,
          "y": 0.47
         },
         {
          "showarrow": false,
          "text": "Deadly",
          "x": 0.85,
          "y": 0.47
         }
        ],
        "height": 450,
        "legend": {
         "bgcolor": "rgba(0,0,0,0)",
         "orientation": "v",
         "tracegroupgap": 0,
         "x": 0.01,
         "xanchor": "left",
         "y": 0.03,
         "yanchor": "bottom"
        },
        "template": {
         "layout": {
          "autosize": false,
          "font": {
           "family": "sans-serif",
           "size": 14
          },
          "hoverlabel": {
           "align": "left"
          },
          "hovermode": "closest",
          "margin": {
           "b": 55,
           "l": 60,
           "pad": 4,
           "r": 25,
           "t": 20
          },
          "template": {
           "data": {
            "bar": [
             {
              "error_x": {
               "color": "#2a3f5f"
              },
              "error_y": {
               "color": "#2a3f5f"
              },
              "marker": {
               "line": {
                "color": "white",
                "width": 0.5
               },
               "pattern": {
                "fillmode": "overlay",
                "size": 10,
                "solidity": 0.2
               }
              },
              "type": "bar"
             }
            ],
            "barpolar": [
             {
              "marker": {
               "line": {
                "color": "white",
                "width": 0.5
               },
               "pattern": {
                "fillmode": "overlay",
                "size": 10,
                "solidity": 0.2
               }
              },
              "type": "barpolar"
             }
            ],
            "carpet": [
             {
              "aaxis": {
               "endlinecolor": "#2a3f5f",
               "gridcolor": "#C8D4E3",
               "linecolor": "#C8D4E3",
               "minorgridcolor": "#C8D4E3",
               "startlinecolor": "#2a3f5f"
              },
              "baxis": {
               "endlinecolor": "#2a3f5f",
               "gridcolor": "#C8D4E3",
               "linecolor": "#C8D4E3",
               "minorgridcolor": "#C8D4E3",
               "startlinecolor": "#2a3f5f"
              },
              "type": "carpet"
             }
            ],
            "choropleth": [
             {
              "colorbar": {
               "outlinewidth": 0,
               "ticks": ""
              },
              "type": "choropleth"
             }
            ],
            "contour": [
             {
              "colorbar": {
               "outlinewidth": 0,
               "ticks": ""
              },
              "colorscale": [
               [
                0,
                "#0d0887"
               ],
               [
                0.1111111111111111,
                "#46039f"
               ],
               [
                0.2222222222222222,
                "#7201a8"
               ],
               [
                0.3333333333333333,
                "#9c179e"
               ],
               [
                0.4444444444444444,
                "#bd3786"
               ],
               [
                0.5555555555555556,
                "#d8576b"
               ],
               [
                0.6666666666666666,
                "#ed7953"
               ],
               [
                0.7777777777777778,
                "#fb9f3a"
               ],
               [
                0.8888888888888888,
                "#fdca26"
               ],
               [
                1,
                "#f0f921"
               ]
              ],
              "type": "contour"
             }
            ],
            "contourcarpet": [
             {
              "colorbar": {
               "outlinewidth": 0,
               "ticks": ""
              },
              "type": "contourcarpet"
             }
            ],
            "heatmap": [
             {
              "colorbar": {
               "outlinewidth": 0,
               "ticks": ""
              },
              "colorscale": [
               [
                0,
                "#0d0887"
               ],
               [
                0.1111111111111111,
                "#46039f"
               ],
               [
                0.2222222222222222,
                "#7201a8"
               ],
               [
                0.3333333333333333,
                "#9c179e"
               ],
               [
                0.4444444444444444,
                "#bd3786"
               ],
               [
                0.5555555555555556,
                "#d8576b"
               ],
               [
                0.6666666666666666,
                "#ed7953"
               ],
               [
                0.7777777777777778,
                "#fb9f3a"
               ],
               [
                0.8888888888888888,
                "#fdca26"
               ],
               [
                1,
                "#f0f921"
               ]
              ],
              "type": "heatmap"
             }
            ],
            "heatmapgl": [
             {
              "colorbar": {
               "outlinewidth": 0,
               "ticks": ""
              },
              "colorscale": [
               [
                0,
                "#0d0887"
               ],
               [
                0.1111111111111111,
                "#46039f"
               ],
               [
                0.2222222222222222,
                "#7201a8"
               ],
               [
                0.3333333333333333,
                "#9c179e"
               ],
               [
                0.4444444444444444,
                "#bd3786"
               ],
               [
                0.5555555555555556,
                "#d8576b"
               ],
               [
                0.6666666666666666,
                "#ed7953"
               ],
               [
                0.7777777777777778,
                "#fb9f3a"
               ],
               [
                0.8888888888888888,
                "#fdca26"
               ],
               [
                1,
                "#f0f921"
               ]
              ],
              "type": "heatmapgl"
             }
            ],
            "histogram": [
             {
              "marker": {
               "pattern": {
                "fillmode": "overlay",
                "size": 10,
                "solidity": 0.2
               }
              },
              "type": "histogram"
             }
            ],
            "histogram2d": [
             {
              "colorbar": {
               "outlinewidth": 0,
               "ticks": ""
              },
              "colorscale": [
               [
                0,
                "#0d0887"
               ],
               [
                0.1111111111111111,
                "#46039f"
               ],
               [
                0.2222222222222222,
                "#7201a8"
               ],
               [
                0.3333333333333333,
                "#9c179e"
               ],
               [
                0.4444444444444444,
                "#bd3786"
               ],
               [
                0.5555555555555556,
                "#d8576b"
               ],
               [
                0.6666666666666666,
                "#ed7953"
               ],
               [
                0.7777777777777778,
                "#fb9f3a"
               ],
               [
                0.8888888888888888,
                "#fdca26"
               ],
               [
                1,
                "#f0f921"
               ]
              ],
              "type": "histogram2d"
             }
            ],
            "histogram2dcontour": [
             {
              "colorbar": {
               "outlinewidth": 0,
               "ticks": ""
              },
              "colorscale": [
               [
                0,
                "#0d0887"
               ],
               [
                0.1111111111111111,
                "#46039f"
               ],
               [
                0.2222222222222222,
                "#7201a8"
               ],
               [
                0.3333333333333333,
                "#9c179e"
               ],
               [
                0.4444444444444444,
                "#bd3786"
               ],
               [
                0.5555555555555556,
                "#d8576b"
               ],
               [
                0.6666666666666666,
                "#ed7953"
               ],
               [
                0.7777777777777778,
                "#fb9f3a"
               ],
               [
                0.8888888888888888,
                "#fdca26"
               ],
               [
                1,
                "#f0f921"
               ]
              ],
              "type": "histogram2dcontour"
             }
            ],
            "mesh3d": [
             {
              "colorbar": {
               "outlinewidth": 0,
               "ticks": ""
              },
              "type": "mesh3d"
             }
            ],
            "parcoords": [
             {
              "line": {
               "colorbar": {
                "outlinewidth": 0,
                "ticks": ""
               }
              },
              "type": "parcoords"
             }
            ],
            "pie": [
             {
              "automargin": true,
              "type": "pie"
             }
            ],
            "scatter": [
             {
              "fillpattern": {
               "fillmode": "overlay",
               "size": 10,
               "solidity": 0.2
              },
              "type": "scatter"
             }
            ],
            "scatter3d": [
             {
              "line": {
               "colorbar": {
                "outlinewidth": 0,
                "ticks": ""
               }
              },
              "marker": {
               "colorbar": {
                "outlinewidth": 0,
                "ticks": ""
               }
              },
              "type": "scatter3d"
             }
            ],
            "scattercarpet": [
             {
              "marker": {
               "colorbar": {
                "outlinewidth": 0,
                "ticks": ""
               }
              },
              "type": "scattercarpet"
             }
            ],
            "scattergeo": [
             {
              "marker": {
               "colorbar": {
                "outlinewidth": 0,
                "ticks": ""
               }
              },
              "type": "scattergeo"
             }
            ],
            "scattergl": [
             {
              "marker": {
               "colorbar": {
                "outlinewidth": 0,
                "ticks": ""
               }
              },
              "type": "scattergl"
             }
            ],
            "scattermapbox": [
             {
              "marker": {
               "colorbar": {
                "outlinewidth": 0,
                "ticks": ""
               }
              },
              "type": "scattermapbox"
             }
            ],
            "scatterpolar": [
             {
              "marker": {
               "colorbar": {
                "outlinewidth": 0,
                "ticks": ""
               }
              },
              "type": "scatterpolar"
             }
            ],
            "scatterpolargl": [
             {
              "marker": {
               "colorbar": {
                "outlinewidth": 0,
                "ticks": ""
               }
              },
              "type": "scatterpolargl"
             }
            ],
            "scatterternary": [
             {
              "marker": {
               "colorbar": {
                "outlinewidth": 0,
                "ticks": ""
               }
              },
              "type": "scatterternary"
             }
            ],
            "surface": [
             {
              "colorbar": {
               "outlinewidth": 0,
               "ticks": ""
              },
              "colorscale": [
               [
                0,
                "#0d0887"
               ],
               [
                0.1111111111111111,
                "#46039f"
               ],
               [
                0.2222222222222222,
                "#7201a8"
               ],
               [
                0.3333333333333333,
                "#9c179e"
               ],
               [
                0.4444444444444444,
                "#bd3786"
               ],
               [
                0.5555555555555556,
                "#d8576b"
               ],
               [
                0.6666666666666666,
                "#ed7953"
               ],
               [
                0.7777777777777778,
                "#fb9f3a"
               ],
               [
                0.8888888888888888,
                "#fdca26"
               ],
               [
                1,
                "#f0f921"
               ]
              ],
              "type": "surface"
             }
            ],
            "table": [
             {
              "cells": {
               "fill": {
                "color": "#EBF0F8"
               },
               "line": {
                "color": "white"
               }
              },
              "header": {
               "fill": {
                "color": "#C8D4E3"
               },
               "line": {
                "color": "white"
               }
              },
              "type": "table"
             }
            ]
           },
           "layout": {
            "annotationdefaults": {
             "arrowcolor": "#2a3f5f",
             "arrowhead": 0,
             "arrowwidth": 1
            },
            "autotypenumbers": "strict",
            "coloraxis": {
             "colorbar": {
              "outlinewidth": 0,
              "ticks": ""
             }
            },
            "colorscale": {
             "diverging": [
              [
               0,
               "#8e0152"
              ],
              [
               0.1,
               "#c51b7d"
              ],
              [
               0.2,
               "#de77ae"
              ],
              [
               0.3,
               "#f1b6da"
              ],
              [
               0.4,
               "#fde0ef"
              ],
              [
               0.5,
               "#f7f7f7"
              ],
              [
               0.6,
               "#e6f5d0"
              ],
              [
               0.7,
               "#b8e186"
              ],
              [
               0.8,
               "#7fbc41"
              ],
              [
               0.9,
               "#4d9221"
              ],
              [
               1,
               "#276419"
              ]
             ],
             "sequential": [
              [
               0,
               "#0d0887"
              ],
              [
               0.1111111111111111,
               "#46039f"
              ],
              [
               0.2222222222222222,
               "#7201a8"
              ],
              [
               0.3333333333333333,
               "#9c179e"
              ],
              [
               0.4444444444444444,
               "#bd3786"
              ],
              [
               0.5555555555555556,
               "#d8576b"
              ],
              [
               0.6666666666666666,
               "#ed7953"
              ],
              [
               0.7777777777777778,
               "#fb9f3a"
              ],
              [
               0.8888888888888888,
               "#fdca26"
              ],
              [
               1,
               "#f0f921"
              ]
             ],
             "sequentialminus": [
              [
               0,
               "#0d0887"
              ],
              [
               0.1111111111111111,
               "#46039f"
              ],
              [
               0.2222222222222222,
               "#7201a8"
              ],
              [
               0.3333333333333333,
               "#9c179e"
              ],
              [
               0.4444444444444444,
               "#bd3786"
              ],
              [
               0.5555555555555556,
               "#d8576b"
              ],
              [
               0.6666666666666666,
               "#ed7953"
              ],
              [
               0.7777777777777778,
               "#fb9f3a"
              ],
              [
               0.8888888888888888,
               "#fdca26"
              ],
              [
               1,
               "#f0f921"
              ]
             ]
            },
            "colorway": [
             "#636efa",
             "#EF553B",
             "#00cc96",
             "#ab63fa",
             "#FFA15A",
             "#19d3f3",
             "#FF6692",
             "#B6E880",
             "#FF97FF",
             "#FECB52"
            ],
            "font": {
             "color": "#2a3f5f"
            },
            "geo": {
             "bgcolor": "white",
             "lakecolor": "white",
             "landcolor": "white",
             "showlakes": true,
             "showland": true,
             "subunitcolor": "#C8D4E3"
            },
            "hoverlabel": {
             "align": "left"
            },
            "hovermode": "closest",
            "mapbox": {
             "style": "light"
            },
            "paper_bgcolor": "white",
            "plot_bgcolor": "white",
            "polar": {
             "angularaxis": {
              "gridcolor": "#EBF0F8",
              "linecolor": "#EBF0F8",
              "ticks": ""
             },
             "bgcolor": "white",
             "radialaxis": {
              "gridcolor": "#EBF0F8",
              "linecolor": "#EBF0F8",
              "ticks": ""
             }
            },
            "scene": {
             "xaxis": {
              "backgroundcolor": "white",
              "gridcolor": "#DFE8F3",
              "gridwidth": 2,
              "linecolor": "#EBF0F8",
              "showbackground": true,
              "ticks": "",
              "zerolinecolor": "#EBF0F8"
             },
             "yaxis": {
              "backgroundcolor": "white",
              "gridcolor": "#DFE8F3",
              "gridwidth": 2,
              "linecolor": "#EBF0F8",
              "showbackground": true,
              "ticks": "",
              "zerolinecolor": "#EBF0F8"
             },
             "zaxis": {
              "backgroundcolor": "white",
              "gridcolor": "#DFE8F3",
              "gridwidth": 2,
              "linecolor": "#EBF0F8",
              "showbackground": true,
              "ticks": "",
              "zerolinecolor": "#EBF0F8"
             }
            },
            "shapedefaults": {
             "line": {
              "color": "#2a3f5f"
             }
            },
            "ternary": {
             "aaxis": {
              "gridcolor": "#DFE8F3",
              "linecolor": "#A2B1C6",
              "ticks": ""
             },
             "baxis": {
              "gridcolor": "#DFE8F3",
              "linecolor": "#A2B1C6",
              "ticks": ""
             },
             "bgcolor": "white",
             "caxis": {
              "gridcolor": "#DFE8F3",
              "linecolor": "#A2B1C6",
              "ticks": ""
             }
            },
            "title": {
             "x": 0.05
            },
            "xaxis": {
             "automargin": true,
             "gridcolor": "#EBF0F8",
             "linecolor": "#EBF0F8",
             "ticks": "",
             "title": {
              "standoff": 15
             },
             "zerolinecolor": "#EBF0F8",
             "zerolinewidth": 2
            },
            "yaxis": {
             "automargin": true,
             "gridcolor": "#EBF0F8",
             "linecolor": "#EBF0F8",
             "ticks": "",
             "title": {
              "standoff": 15
             },
             "zerolinecolor": "#EBF0F8",
             "zerolinewidth": 2
            }
           }
          },
          "xaxis": {
           "automargin": false,
           "linecolor": "#444",
           "linewidth": 2,
           "minor": {
            "tickmode": "linear",
            "ticks": "outside"
           },
           "mirror": true,
           "showline": true,
           "tickmode": "linear",
           "ticks": "outside",
           "zeroline": false
          },
          "yaxis": {
           "automargin": true,
           "linecolor": "#444",
           "linewidth": 2,
           "minor": {
            "tickmode": "linear",
            "ticks": "outside"
           },
           "mirror": true,
           "showline": true,
           "ticks": "outside",
           "zeroline": false
          }
         }
        },
        "width": 600,
        "xaxis": {
         "dtick": 0.2,
         "minor": {
          "dtick": 0.1,
          "tick0": 0
         },
         "range": [
          0,
          1
         ],
         "tick0": 0,
         "title": {
          "text": "encounter difficulty"
         }
        },
        "yaxis": {
         "dtick": 0.1,
         "minor": {
          "dtick": 0.05,
          "tick0": 0
         },
         "range": [
          -0.01,
          0.51
         ],
         "tick0": 0,
         "tickformat": ".1f",
         "title": {
          "text": "probability of PCs losing"
         }
        }
       }
      }
     },
     "metadata": {},
     "output_type": "display_data"
    }
   ],
   "source": [
    "# Fig. 5: plots the probability of PCs losing over a range of difficulties for each tier of play\n",
    "\n",
    "# create figure\n",
    "fig = go.Figure(\n",
    "    layout=go.Layout(\n",
    "        template=tfb.FIG_TEMPLATE,\n",
    "        xaxis=dict(\n",
    "            title_text='encounter difficulty',\n",
    "            range=[0.0, 1.0],\n",
    "            tick0=0, dtick=0.2,\n",
    "            minor=dict(tick0=0, dtick=0.1),\n",
    "        ),\n",
    "        yaxis=dict(\n",
    "            title_text='probability of PCs losing',\n",
    "            #range=[-0.01,1.01],\n",
    "            range=[-0.01,0.51],\n",
    "            tickformat='.1f',\n",
    "            tick0=0, dtick=0.1,\n",
    "            minor=dict(tick0=0, dtick=0.05),\n",
    "        ),\n",
    "        legend=dict(\n",
    "            xanchor='left', yanchor='bottom',\n",
    "            x=0.01, y=0.03,\n",
    "            orientation='v',\n",
    "            tracegroupgap=0,\n",
    "            bgcolor='rgba(0,0,0,0)',\n",
    "        )\n",
    "    )\n",
    ")\n",
    "\n",
    "# plot difficulty ranges\n",
    "thresholds = [\n",
    "    ('Trivial', 0.00, 0.15, 'rgba(167, 167, 167, 0.15)'),\n",
    "    ('Easy',    0.15, 0.15, 'rgba(  0, 199, 151, 0.15)'),\n",
    "    ('Medium',  0.30, 0.15, 'rgba(245, 166,  35, 0.15)'),\n",
    "    ('Hard',    0.45, 0.25, 'rgba(228,  90,  29, 0.15)'),\n",
    "    ('Deadly',  0.70, 0.30, 'rgba(144,  79, 213, 0.15)'), #rgba(213,  79,  79, 0.2)'\n",
    "]\n",
    "for name, diff, dx, color in thresholds:\n",
    "    fig.add_trace(go.Scatter(\n",
    "        x=[diff, diff+dx], \n",
    "        y=[1.0, 1.0],\n",
    "        mode='none',\n",
    "        fill='tozeroy', \n",
    "        showlegend=False,\n",
    "        #line_color=color,\n",
    "        #marker_color=color,\n",
    "        fillcolor=color,\n",
    "        #hoveron = 'points+fills', # select where hover is active\n",
    "        hoverinfo='none'\n",
    "    ))\n",
    "    fig.add_annotation(\n",
    "        x=diff + dx/2, \n",
    "        y=0.47,\n",
    "        text=name,\n",
    "        showarrow=False,\n",
    "    )\n",
    "\n",
    "tiers = [\n",
    "    {\n",
    "        'name': 'tier 1',\n",
    "        'cv': 0.8,\n",
    "        'dash': 'solid',\n",
    "    },\n",
    "    {\n",
    "        'name': 'tier 2',\n",
    "        'cv': 0.6,\n",
    "        'dash': 'dash',\n",
    "    },\n",
    "    {\n",
    "        'name': 'tier 3',\n",
    "        'cv': 0.4,\n",
    "        'dash': 'dashdot',\n",
    "    },\n",
    "    {\n",
    "        'name': 'tier 4',\n",
    "        'cv': 0.2,\n",
    "        'dash': 'dashdot',\n",
    "    },\n",
    "]\n",
    "\n",
    "colors = iter(COLOR_LIST)\n",
    "difficulties = list(np.linspace(0.05, 1.0, 40))\n",
    "for tier in tiers:\n",
    "    pc_win_pct = []\n",
    "    mon_win_pct = []\n",
    "    for diff in difficulties:\n",
    "        party_hp = 100\n",
    "        pc_r_win = 3\n",
    "        pc_dpr_cv = tier['cv']\n",
    "\n",
    "        mon_hp = 100\n",
    "        mon_r_win = pc_r_win/diff\n",
    "        mon_dpr_cv = tier['cv']\n",
    "\n",
    "\n",
    "        party_dpr = mon_hp/pc_r_win\n",
    "        party_size = 4\n",
    "        pc_hp = party_hp/party_size\n",
    "        pc_dpr = party_dpr/party_size\n",
    "\n",
    "        mon_dpr = party_hp/mon_r_win\n",
    "\n",
    "        # construct combatants\n",
    "        combatants = [\n",
    "            cp.Combatant(\n",
    "                group='NPCs',\n",
    "                name='monster',\n",
    "                opponent='PCs',\n",
    "                level=5,\n",
    "                hit_points = mon_hp,\n",
    "                damage = [cp.gaussian_dice_distribution(mon_dpr, mon_dpr_cv*mon_dpr)],\n",
    "            ),\n",
    "            cp.Combatant(\n",
    "                group='PCs',\n",
    "                name='PC 1',\n",
    "                opponent='NPCs',\n",
    "                level=5,\n",
    "                hit_points = pc_hp,\n",
    "                damage = [cp.gaussian_dice_distribution(pc_dpr, pc_dpr_cv*pc_dpr)],\n",
    "            ),\n",
    "            cp.Combatant(\n",
    "                group='PCs',\n",
    "                name='PC 2',\n",
    "                opponent='NPCs',\n",
    "                level=5,\n",
    "                hit_points = pc_hp,\n",
    "                damage = [cp.gaussian_dice_distribution(pc_dpr, pc_dpr_cv*pc_dpr)],\n",
    "            ),\n",
    "            cp.Combatant(\n",
    "                group='PCs',\n",
    "                name='PC 3',\n",
    "                opponent='NPCs',\n",
    "                level=5,\n",
    "                hit_points = pc_hp,\n",
    "                damage = [cp.gaussian_dice_distribution(pc_dpr, pc_dpr_cv*pc_dpr)],\n",
    "            ),\n",
    "            cp.Combatant(\n",
    "                group='PCs',\n",
    "                name='PC 4',\n",
    "                opponent='NPCs',\n",
    "                level=5,\n",
    "                hit_points = pc_hp,\n",
    "                damage = [cp.gaussian_dice_distribution(pc_dpr, pc_dpr_cv*pc_dpr)],\n",
    "            ),\n",
    "        ]\n",
    "        e = cp.Encounter(combatants, initiative=['PC 1','PC 2','monster','PC 3','PC 4'], rounds=10)\n",
    "        pc_win_pct += [e.group_win_pct('PCs', method='approx')]\n",
    "        mon_win_pct += [e.group_win_pct('NPCs', method='approx')]\n",
    "\n",
    "    # plot data\n",
    "    fig.add_trace(go.Scatter(\n",
    "        x=difficulties,\n",
    "        y=mon_win_pct,\n",
    "        name=tier['name'],\n",
    "        #name=f'CV = {mon_dpr_cv:.2f} - NPCs',\n",
    "        mode='lines',\n",
    "        line_color=next(colors),\n",
    "        #line_color=COLOR_LIST[1],\n",
    "        #line_dash=tier['dash'],\n",
    "        hovertemplate=\n",
    "            #f'<b>CV = {mon_dpr_cv:.2f} - NPCs</b><br>'+\n",
    "            f'<b>' + tier['name'] + '</b><br>'+\n",
    "            'difficulty %{x:.2f}<br>'+\n",
    "            'probability %{y:.1%}<extra></extra>',\n",
    "    ))\n",
    "\n",
    "# show figure\n",
    "fig.update_layout(width=600, height=450)\n",
    "fig.show(config=tfb.FIG_CONFIG)\n",
    "\n",
    "# save figures\n",
    "if SAVEFIGS:\n",
    "    fig.update_layout(autosize=True, width=None, height=None)\n",
    "    tfb.save_fig_html(fig, format='large', name=f'./fig-win-vs-diff-tiers-large')\n",
    "    tfb.save_fig_html(fig, format='small', name=f'./fig-win-vs-diff-tiers-small')"
   ]
  },
  {
   "cell_type": "code",
   "execution_count": 98,
   "metadata": {},
   "outputs": [
    {
     "data": {
      "application/vnd.plotly.v1+json": {
       "config": {
        "autosizable": true,
        "displayModeBar": "hover",
        "displaylogo": false,
        "doubleClick": "reset",
        "modeBarButtonsToRemove": [
         "select2d",
         "lasso2d",
         "zoom2d",
         "zoomIn2d",
         "zoomOut2d",
         "pan2d",
         "autoScale2d",
         "hoverClosestCartesian",
         "hoverCompareCartesian",
         "toggleSpikelines",
         "resetScale2d"
        ],
        "plotlyServerURL": "https://plot.ly",
        "responsive": true,
        "showAxisDragHandles": false,
        "toImageButtonOptions": {
         "filename": "tfb-plot",
         "format": "png",
         "height": 450,
         "scale": 2,
         "width": 600
        }
       },
       "data": [
        {
         "fill": "tozeroy",
         "fillcolor": "rgba(167, 167, 167, 0.15)",
         "hoverinfo": "none",
         "mode": "none",
         "showlegend": false,
         "type": "scatter",
         "x": [
          0,
          0.15
         ],
         "y": [
          1,
          1
         ]
        },
        {
         "fill": "tozeroy",
         "fillcolor": "rgba(  0, 199, 151, 0.15)",
         "hoverinfo": "none",
         "mode": "none",
         "showlegend": false,
         "type": "scatter",
         "x": [
          0.15,
          0.3
         ],
         "y": [
          1,
          1
         ]
        },
        {
         "fill": "tozeroy",
         "fillcolor": "rgba(245, 166,  35, 0.15)",
         "hoverinfo": "none",
         "mode": "none",
         "showlegend": false,
         "type": "scatter",
         "x": [
          0.3,
          0.44999999999999996
         ],
         "y": [
          1,
          1
         ]
        },
        {
         "fill": "tozeroy",
         "fillcolor": "rgba(228,  90,  29, 0.15)",
         "hoverinfo": "none",
         "mode": "none",
         "showlegend": false,
         "type": "scatter",
         "x": [
          0.45,
          0.7
         ],
         "y": [
          1,
          1
         ]
        },
        {
         "fill": "tozeroy",
         "fillcolor": "rgba(144,  79, 213, 0.15)",
         "hoverinfo": "none",
         "mode": "none",
         "showlegend": false,
         "type": "scatter",
         "x": [
          0.7,
          1
         ],
         "y": [
          1,
          1
         ]
        },
        {
         "hovertemplate": "<b>tier 1</b><br>difficulty %{x:.2f}<br>HP lost %{y:.1%}<extra></extra>",
         "line": {
          "color": "#1f77b4"
         },
         "mode": "lines",
         "name": "tier 1",
         "type": "scatter",
         "x": [
          0.05,
          0.07435897435897436,
          0.09871794871794873,
          0.12307692307692308,
          0.14743589743589744,
          0.1717948717948718,
          0.19615384615384618,
          0.2205128205128205,
          0.2448717948717949,
          0.2692307692307692,
          0.2935897435897436,
          0.31794871794871793,
          0.3423076923076923,
          0.36666666666666664,
          0.391025641025641,
          0.41538461538461535,
          0.43974358974358974,
          0.4641025641025641,
          0.48846153846153845,
          0.5128205128205129,
          0.5371794871794872,
          0.5615384615384615,
          0.5858974358974359,
          0.6102564102564103,
          0.6346153846153847,
          0.6589743589743591,
          0.6833333333333333,
          0.7076923076923077,
          0.7320512820512821,
          0.7564102564102565,
          0.7807692307692308,
          0.8051282051282052,
          0.8294871794871795,
          0.8538461538461539,
          0.8782051282051283,
          0.9025641025641026,
          0.926923076923077,
          0.9512820512820513,
          0.9756410256410257,
          1
         ],
         "y": [
          0.05106550094545881,
          0.07594356590953245,
          0.1008216299718101,
          0.12569969457059635,
          0.15057776011398152,
          0.17545582432481097,
          0.20033388678920414,
          0.22521194839717154,
          0.2500899783122759,
          0.2749677849629661,
          0.29984463732049554,
          0.32471837104386375,
          0.3495840203185115,
          0.37443210822967626,
          0.3992470210599696,
          0.42400577741545753,
          0.44867783840663766,
          0.4732261440910813,
          0.49760908085454103,
          0.5217826294573104,
          0.545702085426982,
          0.5693232871833446,
          0.5926036195100122,
          0.6155030540074905,
          0.6379853285871682,
          0.660019142076527,
          0.6815792277142622,
          0.7026470348519491,
          0.7232109395136795,
          0.7432659925538314,
          0.7628132366732318,
          0.7818587925397531,
          0.8004127240975382,
          0.8184879582747898,
          0.8360992525984565,
          0.8532623207104156,
          0.8699931439735427,
          0.8863074451056826,
          0.9022203827963433,
          0.9177463226189976
         ]
        },
        {
         "hovertemplate": "<b>tier 2</b><br>difficulty %{x:.2f}<br>HP lost %{y:.1%}<extra></extra>",
         "line": {
          "color": "#ff7f0e"
         },
         "mode": "lines",
         "name": "tier 2",
         "type": "scatter",
         "x": [
          0.05,
          0.07435897435897436,
          0.09871794871794873,
          0.12307692307692308,
          0.14743589743589744,
          0.1717948717948718,
          0.19615384615384618,
          0.2205128205128205,
          0.2448717948717949,
          0.2692307692307692,
          0.2935897435897436,
          0.31794871794871793,
          0.3423076923076923,
          0.36666666666666664,
          0.391025641025641,
          0.41538461538461535,
          0.43974358974358974,
          0.4641025641025641,
          0.48846153846153845,
          0.5128205128205129,
          0.5371794871794872,
          0.5615384615384615,
          0.5858974358974359,
          0.6102564102564103,
          0.6346153846153847,
          0.6589743589743591,
          0.6833333333333333,
          0.7076923076923077,
          0.7320512820512821,
          0.7564102564102565,
          0.7807692307692308,
          0.8051282051282052,
          0.8294871794871795,
          0.8538461538461539,
          0.8782051282051283,
          0.9025641025641026,
          0.926923076923077,
          0.9512820512820513,
          0.9756410256410257,
          1
         ],
         "y": [
          0.050582151379563046,
          0.07522473686779443,
          0.09986732274018387,
          0.12450990792296855,
          0.14915249583982176,
          0.17379508221197265,
          0.19843766661638468,
          0.22308025277795296,
          0.24772283991188623,
          0.27236542612498743,
          0.29700801128001636,
          0.3216505805008971,
          0.3462930788663928,
          0.3709352427408091,
          0.3955762695643641,
          0.42021418342044725,
          0.4448448018233371,
          0.4694602269991315,
          0.4940470919246053,
          0.5185852061767718,
          0.5430473853636417,
          0.5674005312386703,
          0.591607515771983,
          0.615628859822995,
          0.6394238556201428,
          0.6629508943789088,
          0.6861675241188007,
          0.7090306799761918,
          0.7314973082573886,
          0.7535256273313883,
          0.7750767144495607,
          0.7961162273782856,
          0.8166159475564551,
          0.8365549128986128,
          0.8559200534604616,
          0.8747062329366571,
          0.8929158135015371,
          0.9105578274285626,
          0.9276468782649898,
          0.944201886678383
         ]
        },
        {
         "hovertemplate": "<b>tier 3</b><br>difficulty %{x:.2f}<br>HP lost %{y:.1%}<extra></extra>",
         "line": {
          "color": "#2ca02c"
         },
         "mode": "lines",
         "name": "tier 3",
         "type": "scatter",
         "x": [
          0.05,
          0.07435897435897436,
          0.09871794871794873,
          0.12307692307692308,
          0.14743589743589744,
          0.1717948717948718,
          0.19615384615384618,
          0.2205128205128205,
          0.2448717948717949,
          0.2692307692307692,
          0.2935897435897436,
          0.31794871794871793,
          0.3423076923076923,
          0.36666666666666664,
          0.391025641025641,
          0.41538461538461535,
          0.43974358974358974,
          0.4641025641025641,
          0.48846153846153845,
          0.5128205128205129,
          0.5371794871794872,
          0.5615384615384615,
          0.5858974358974359,
          0.6102564102564103,
          0.6346153846153847,
          0.6589743589743591,
          0.6833333333333333,
          0.7076923076923077,
          0.7320512820512821,
          0.7564102564102565,
          0.7807692307692308,
          0.8051282051282052,
          0.8294871794871795,
          0.8538461538461539,
          0.8782051282051283,
          0.9025641025641026,
          0.926923076923077,
          0.9512820512820513,
          0.9756410256410257,
          1
         ],
         "y": [
          0.050388912009040866,
          0.07490368781927959,
          0.0994411031136548,
          0.12397851751913028,
          0.1485159328947087,
          0.17305334787526774,
          0.197590762935972,
          0.22212817689355696,
          0.24666559249259315,
          0.2712030086707559,
          0.2957404222410552,
          0.3202778378633643,
          0.3448152499326146,
          0.3693526671463494,
          0.3938900834719687,
          0.41842749526580464,
          0.4429649064319742,
          0.4675022881930635,
          0.4920395763084267,
          0.5165764754309801,
          0.541112057286011,
          0.5656437657343113,
          0.5901658411050678,
          0.6146676465862778,
          0.6391326165731362,
          0.6635385486450106,
          0.6878592313031128,
          0.7120666767422127,
          0.7361328722478863,
          0.7600301116079153,
          0.783729637812668,
          0.8071989862747257,
          0.8303989847297666,
          0.8532814232705555,
          0.8757881987835853,
          0.8978523038603492,
          0.9194005953176864,
          0.9403578258665348,
          0.9606513045614726,
          0.9802154902528599
         ]
        },
        {
         "hovertemplate": "<b>tier 4</b><br>difficulty %{x:.2f}<br>HP lost %{y:.1%}<extra></extra>",
         "line": {
          "color": "#d62728"
         },
         "mode": "lines",
         "name": "tier 4",
         "type": "scatter",
         "x": [
          0.05,
          0.07435897435897436,
          0.09871794871794873,
          0.12307692307692308,
          0.14743589743589744,
          0.1717948717948718,
          0.19615384615384618,
          0.2205128205128205,
          0.2448717948717949,
          0.2692307692307692,
          0.2935897435897436,
          0.31794871794871793,
          0.3423076923076923,
          0.36666666666666664,
          0.391025641025641,
          0.41538461538461535,
          0.43974358974358974,
          0.4641025641025641,
          0.48846153846153845,
          0.5128205128205129,
          0.5371794871794872,
          0.5615384615384615,
          0.5858974358974359,
          0.6102564102564103,
          0.6346153846153847,
          0.6589743589743591,
          0.6833333333333333,
          0.7076923076923077,
          0.7320512820512821,
          0.7564102564102565,
          0.7807692307692308,
          0.8051282051282052,
          0.8294871794871795,
          0.8538461538461539,
          0.8782051282051283,
          0.9025641025641026,
          0.926923076923077,
          0.9512820512820513,
          0.9756410256410257,
          1
         ],
         "y": [
          0.05457708047717801,
          0.07430685802275828,
          0.09874902489308589,
          0.12315358262411237,
          0.14752803884072563,
          0.17190223586579492,
          0.19627643355041952,
          0.2206506313586047,
          0.24502482762550218,
          0.2693990259432057,
          0.29377322323222305,
          0.3181474217119722,
          0.34252161948197485,
          0.36689581588991116,
          0.3912700142189337,
          0.41564421232117305,
          0.4400184112950193,
          0.46439260742754307,
          0.4887668047106012,
          0.5131410024318854,
          0.5375152007127513,
          0.5618893988983092,
          0.5862635949745406,
          0.6106377931477324,
          0.635011989613762,
          0.659386185014963,
          0.6837603590839788,
          0.7081344289535032,
          0.732508108118446,
          0.7568806313142892,
          0.7812504520867983,
          0.8056150723326165,
          0.8299712670419309,
          0.8543157444645242,
          0.8786459969233252,
          0.9029608805934402,
          0.9272603825793678,
          0.9515439494935708,
          0.9758066974945375,
          1.0000328297021912
         ]
        },
        {
         "hoverinfo": "skip",
         "line": {
          "color": "black",
          "dash": "dash"
         },
         "mode": "lines",
         "name": "1-to-1",
         "showlegend": false,
         "type": "scatter",
         "x": [
          0,
          1
         ],
         "y": [
          0,
          1
         ]
        }
       ],
       "layout": {
        "annotations": [
         {
          "showarrow": false,
          "text": "Trivial",
          "x": 0.075,
          "y": 0.5
         },
         {
          "showarrow": false,
          "text": "Easy",
          "x": 0.22499999999999998,
          "y": 0.5
         },
         {
          "showarrow": false,
          "text": "Medium",
          "x": 0.375,
          "y": 0.5
         },
         {
          "showarrow": false,
          "text": "Hard",
          "x": 0.575,
          "y": 0.5
         },
         {
          "showarrow": false,
          "text": "Deadly",
          "x": 0.85,
          "y": 0.5
         }
        ],
        "height": 450,
        "legend": {
         "bgcolor": "rgba(0,0,0,0)",
         "orientation": "v",
         "tracegroupgap": 0,
         "x": 0.01,
         "xanchor": "left",
         "y": 0.99,
         "yanchor": "top"
        },
        "template": {
         "layout": {
          "autosize": false,
          "font": {
           "family": "sans-serif",
           "size": 14
          },
          "hoverlabel": {
           "align": "left"
          },
          "hovermode": "closest",
          "margin": {
           "b": 55,
           "l": 60,
           "pad": 4,
           "r": 25,
           "t": 20
          },
          "template": {
           "data": {
            "bar": [
             {
              "error_x": {
               "color": "#2a3f5f"
              },
              "error_y": {
               "color": "#2a3f5f"
              },
              "marker": {
               "line": {
                "color": "white",
                "width": 0.5
               },
               "pattern": {
                "fillmode": "overlay",
                "size": 10,
                "solidity": 0.2
               }
              },
              "type": "bar"
             }
            ],
            "barpolar": [
             {
              "marker": {
               "line": {
                "color": "white",
                "width": 0.5
               },
               "pattern": {
                "fillmode": "overlay",
                "size": 10,
                "solidity": 0.2
               }
              },
              "type": "barpolar"
             }
            ],
            "carpet": [
             {
              "aaxis": {
               "endlinecolor": "#2a3f5f",
               "gridcolor": "#C8D4E3",
               "linecolor": "#C8D4E3",
               "minorgridcolor": "#C8D4E3",
               "startlinecolor": "#2a3f5f"
              },
              "baxis": {
               "endlinecolor": "#2a3f5f",
               "gridcolor": "#C8D4E3",
               "linecolor": "#C8D4E3",
               "minorgridcolor": "#C8D4E3",
               "startlinecolor": "#2a3f5f"
              },
              "type": "carpet"
             }
            ],
            "choropleth": [
             {
              "colorbar": {
               "outlinewidth": 0,
               "ticks": ""
              },
              "type": "choropleth"
             }
            ],
            "contour": [
             {
              "colorbar": {
               "outlinewidth": 0,
               "ticks": ""
              },
              "colorscale": [
               [
                0,
                "#0d0887"
               ],
               [
                0.1111111111111111,
                "#46039f"
               ],
               [
                0.2222222222222222,
                "#7201a8"
               ],
               [
                0.3333333333333333,
                "#9c179e"
               ],
               [
                0.4444444444444444,
                "#bd3786"
               ],
               [
                0.5555555555555556,
                "#d8576b"
               ],
               [
                0.6666666666666666,
                "#ed7953"
               ],
               [
                0.7777777777777778,
                "#fb9f3a"
               ],
               [
                0.8888888888888888,
                "#fdca26"
               ],
               [
                1,
                "#f0f921"
               ]
              ],
              "type": "contour"
             }
            ],
            "contourcarpet": [
             {
              "colorbar": {
               "outlinewidth": 0,
               "ticks": ""
              },
              "type": "contourcarpet"
             }
            ],
            "heatmap": [
             {
              "colorbar": {
               "outlinewidth": 0,
               "ticks": ""
              },
              "colorscale": [
               [
                0,
                "#0d0887"
               ],
               [
                0.1111111111111111,
                "#46039f"
               ],
               [
                0.2222222222222222,
                "#7201a8"
               ],
               [
                0.3333333333333333,
                "#9c179e"
               ],
               [
                0.4444444444444444,
                "#bd3786"
               ],
               [
                0.5555555555555556,
                "#d8576b"
               ],
               [
                0.6666666666666666,
                "#ed7953"
               ],
               [
                0.7777777777777778,
                "#fb9f3a"
               ],
               [
                0.8888888888888888,
                "#fdca26"
               ],
               [
                1,
                "#f0f921"
               ]
              ],
              "type": "heatmap"
             }
            ],
            "heatmapgl": [
             {
              "colorbar": {
               "outlinewidth": 0,
               "ticks": ""
              },
              "colorscale": [
               [
                0,
                "#0d0887"
               ],
               [
                0.1111111111111111,
                "#46039f"
               ],
               [
                0.2222222222222222,
                "#7201a8"
               ],
               [
                0.3333333333333333,
                "#9c179e"
               ],
               [
                0.4444444444444444,
                "#bd3786"
               ],
               [
                0.5555555555555556,
                "#d8576b"
               ],
               [
                0.6666666666666666,
                "#ed7953"
               ],
               [
                0.7777777777777778,
                "#fb9f3a"
               ],
               [
                0.8888888888888888,
                "#fdca26"
               ],
               [
                1,
                "#f0f921"
               ]
              ],
              "type": "heatmapgl"
             }
            ],
            "histogram": [
             {
              "marker": {
               "pattern": {
                "fillmode": "overlay",
                "size": 10,
                "solidity": 0.2
               }
              },
              "type": "histogram"
             }
            ],
            "histogram2d": [
             {
              "colorbar": {
               "outlinewidth": 0,
               "ticks": ""
              },
              "colorscale": [
               [
                0,
                "#0d0887"
               ],
               [
                0.1111111111111111,
                "#46039f"
               ],
               [
                0.2222222222222222,
                "#7201a8"
               ],
               [
                0.3333333333333333,
                "#9c179e"
               ],
               [
                0.4444444444444444,
                "#bd3786"
               ],
               [
                0.5555555555555556,
                "#d8576b"
               ],
               [
                0.6666666666666666,
                "#ed7953"
               ],
               [
                0.7777777777777778,
                "#fb9f3a"
               ],
               [
                0.8888888888888888,
                "#fdca26"
               ],
               [
                1,
                "#f0f921"
               ]
              ],
              "type": "histogram2d"
             }
            ],
            "histogram2dcontour": [
             {
              "colorbar": {
               "outlinewidth": 0,
               "ticks": ""
              },
              "colorscale": [
               [
                0,
                "#0d0887"
               ],
               [
                0.1111111111111111,
                "#46039f"
               ],
               [
                0.2222222222222222,
                "#7201a8"
               ],
               [
                0.3333333333333333,
                "#9c179e"
               ],
               [
                0.4444444444444444,
                "#bd3786"
               ],
               [
                0.5555555555555556,
                "#d8576b"
               ],
               [
                0.6666666666666666,
                "#ed7953"
               ],
               [
                0.7777777777777778,
                "#fb9f3a"
               ],
               [
                0.8888888888888888,
                "#fdca26"
               ],
               [
                1,
                "#f0f921"
               ]
              ],
              "type": "histogram2dcontour"
             }
            ],
            "mesh3d": [
             {
              "colorbar": {
               "outlinewidth": 0,
               "ticks": ""
              },
              "type": "mesh3d"
             }
            ],
            "parcoords": [
             {
              "line": {
               "colorbar": {
                "outlinewidth": 0,
                "ticks": ""
               }
              },
              "type": "parcoords"
             }
            ],
            "pie": [
             {
              "automargin": true,
              "type": "pie"
             }
            ],
            "scatter": [
             {
              "fillpattern": {
               "fillmode": "overlay",
               "size": 10,
               "solidity": 0.2
              },
              "type": "scatter"
             }
            ],
            "scatter3d": [
             {
              "line": {
               "colorbar": {
                "outlinewidth": 0,
                "ticks": ""
               }
              },
              "marker": {
               "colorbar": {
                "outlinewidth": 0,
                "ticks": ""
               }
              },
              "type": "scatter3d"
             }
            ],
            "scattercarpet": [
             {
              "marker": {
               "colorbar": {
                "outlinewidth": 0,
                "ticks": ""
               }
              },
              "type": "scattercarpet"
             }
            ],
            "scattergeo": [
             {
              "marker": {
               "colorbar": {
                "outlinewidth": 0,
                "ticks": ""
               }
              },
              "type": "scattergeo"
             }
            ],
            "scattergl": [
             {
              "marker": {
               "colorbar": {
                "outlinewidth": 0,
                "ticks": ""
               }
              },
              "type": "scattergl"
             }
            ],
            "scattermapbox": [
             {
              "marker": {
               "colorbar": {
                "outlinewidth": 0,
                "ticks": ""
               }
              },
              "type": "scattermapbox"
             }
            ],
            "scatterpolar": [
             {
              "marker": {
               "colorbar": {
                "outlinewidth": 0,
                "ticks": ""
               }
              },
              "type": "scatterpolar"
             }
            ],
            "scatterpolargl": [
             {
              "marker": {
               "colorbar": {
                "outlinewidth": 0,
                "ticks": ""
               }
              },
              "type": "scatterpolargl"
             }
            ],
            "scatterternary": [
             {
              "marker": {
               "colorbar": {
                "outlinewidth": 0,
                "ticks": ""
               }
              },
              "type": "scatterternary"
             }
            ],
            "surface": [
             {
              "colorbar": {
               "outlinewidth": 0,
               "ticks": ""
              },
              "colorscale": [
               [
                0,
                "#0d0887"
               ],
               [
                0.1111111111111111,
                "#46039f"
               ],
               [
                0.2222222222222222,
                "#7201a8"
               ],
               [
                0.3333333333333333,
                "#9c179e"
               ],
               [
                0.4444444444444444,
                "#bd3786"
               ],
               [
                0.5555555555555556,
                "#d8576b"
               ],
               [
                0.6666666666666666,
                "#ed7953"
               ],
               [
                0.7777777777777778,
                "#fb9f3a"
               ],
               [
                0.8888888888888888,
                "#fdca26"
               ],
               [
                1,
                "#f0f921"
               ]
              ],
              "type": "surface"
             }
            ],
            "table": [
             {
              "cells": {
               "fill": {
                "color": "#EBF0F8"
               },
               "line": {
                "color": "white"
               }
              },
              "header": {
               "fill": {
                "color": "#C8D4E3"
               },
               "line": {
                "color": "white"
               }
              },
              "type": "table"
             }
            ]
           },
           "layout": {
            "annotationdefaults": {
             "arrowcolor": "#2a3f5f",
             "arrowhead": 0,
             "arrowwidth": 1
            },
            "autotypenumbers": "strict",
            "coloraxis": {
             "colorbar": {
              "outlinewidth": 0,
              "ticks": ""
             }
            },
            "colorscale": {
             "diverging": [
              [
               0,
               "#8e0152"
              ],
              [
               0.1,
               "#c51b7d"
              ],
              [
               0.2,
               "#de77ae"
              ],
              [
               0.3,
               "#f1b6da"
              ],
              [
               0.4,
               "#fde0ef"
              ],
              [
               0.5,
               "#f7f7f7"
              ],
              [
               0.6,
               "#e6f5d0"
              ],
              [
               0.7,
               "#b8e186"
              ],
              [
               0.8,
               "#7fbc41"
              ],
              [
               0.9,
               "#4d9221"
              ],
              [
               1,
               "#276419"
              ]
             ],
             "sequential": [
              [
               0,
               "#0d0887"
              ],
              [
               0.1111111111111111,
               "#46039f"
              ],
              [
               0.2222222222222222,
               "#7201a8"
              ],
              [
               0.3333333333333333,
               "#9c179e"
              ],
              [
               0.4444444444444444,
               "#bd3786"
              ],
              [
               0.5555555555555556,
               "#d8576b"
              ],
              [
               0.6666666666666666,
               "#ed7953"
              ],
              [
               0.7777777777777778,
               "#fb9f3a"
              ],
              [
               0.8888888888888888,
               "#fdca26"
              ],
              [
               1,
               "#f0f921"
              ]
             ],
             "sequentialminus": [
              [
               0,
               "#0d0887"
              ],
              [
               0.1111111111111111,
               "#46039f"
              ],
              [
               0.2222222222222222,
               "#7201a8"
              ],
              [
               0.3333333333333333,
               "#9c179e"
              ],
              [
               0.4444444444444444,
               "#bd3786"
              ],
              [
               0.5555555555555556,
               "#d8576b"
              ],
              [
               0.6666666666666666,
               "#ed7953"
              ],
              [
               0.7777777777777778,
               "#fb9f3a"
              ],
              [
               0.8888888888888888,
               "#fdca26"
              ],
              [
               1,
               "#f0f921"
              ]
             ]
            },
            "colorway": [
             "#636efa",
             "#EF553B",
             "#00cc96",
             "#ab63fa",
             "#FFA15A",
             "#19d3f3",
             "#FF6692",
             "#B6E880",
             "#FF97FF",
             "#FECB52"
            ],
            "font": {
             "color": "#2a3f5f"
            },
            "geo": {
             "bgcolor": "white",
             "lakecolor": "white",
             "landcolor": "white",
             "showlakes": true,
             "showland": true,
             "subunitcolor": "#C8D4E3"
            },
            "hoverlabel": {
             "align": "left"
            },
            "hovermode": "closest",
            "mapbox": {
             "style": "light"
            },
            "paper_bgcolor": "white",
            "plot_bgcolor": "white",
            "polar": {
             "angularaxis": {
              "gridcolor": "#EBF0F8",
              "linecolor": "#EBF0F8",
              "ticks": ""
             },
             "bgcolor": "white",
             "radialaxis": {
              "gridcolor": "#EBF0F8",
              "linecolor": "#EBF0F8",
              "ticks": ""
             }
            },
            "scene": {
             "xaxis": {
              "backgroundcolor": "white",
              "gridcolor": "#DFE8F3",
              "gridwidth": 2,
              "linecolor": "#EBF0F8",
              "showbackground": true,
              "ticks": "",
              "zerolinecolor": "#EBF0F8"
             },
             "yaxis": {
              "backgroundcolor": "white",
              "gridcolor": "#DFE8F3",
              "gridwidth": 2,
              "linecolor": "#EBF0F8",
              "showbackground": true,
              "ticks": "",
              "zerolinecolor": "#EBF0F8"
             },
             "zaxis": {
              "backgroundcolor": "white",
              "gridcolor": "#DFE8F3",
              "gridwidth": 2,
              "linecolor": "#EBF0F8",
              "showbackground": true,
              "ticks": "",
              "zerolinecolor": "#EBF0F8"
             }
            },
            "shapedefaults": {
             "line": {
              "color": "#2a3f5f"
             }
            },
            "ternary": {
             "aaxis": {
              "gridcolor": "#DFE8F3",
              "linecolor": "#A2B1C6",
              "ticks": ""
             },
             "baxis": {
              "gridcolor": "#DFE8F3",
              "linecolor": "#A2B1C6",
              "ticks": ""
             },
             "bgcolor": "white",
             "caxis": {
              "gridcolor": "#DFE8F3",
              "linecolor": "#A2B1C6",
              "ticks": ""
             }
            },
            "title": {
             "x": 0.05
            },
            "xaxis": {
             "automargin": true,
             "gridcolor": "#EBF0F8",
             "linecolor": "#EBF0F8",
             "ticks": "",
             "title": {
              "standoff": 15
             },
             "zerolinecolor": "#EBF0F8",
             "zerolinewidth": 2
            },
            "yaxis": {
             "automargin": true,
             "gridcolor": "#EBF0F8",
             "linecolor": "#EBF0F8",
             "ticks": "",
             "title": {
              "standoff": 15
             },
             "zerolinecolor": "#EBF0F8",
             "zerolinewidth": 2
            }
           }
          },
          "xaxis": {
           "automargin": false,
           "linecolor": "#444",
           "linewidth": 2,
           "minor": {
            "tickmode": "linear",
            "ticks": "outside"
           },
           "mirror": true,
           "showline": true,
           "tickmode": "linear",
           "ticks": "outside",
           "zeroline": false
          },
          "yaxis": {
           "automargin": true,
           "linecolor": "#444",
           "linewidth": 2,
           "minor": {
            "tickmode": "linear",
            "ticks": "outside"
           },
           "mirror": true,
           "showline": true,
           "ticks": "outside",
           "zeroline": false
          }
         }
        },
        "width": 600,
        "xaxis": {
         "dtick": 0.2,
         "minor": {
          "dtick": 0.1,
          "tick0": 0
         },
         "range": [
          0,
          1
         ],
         "tick0": 0,
         "title": {
          "text": "encounter difficulty"
         }
        },
        "yaxis": {
         "dtick": 0.2,
         "minor": {
          "dtick": 0.1,
          "tick0": 0
         },
         "range": [
          -0.01,
          1.01
         ],
         "tick0": 0,
         "title": {
          "text": "damage taken / hit points"
         }
        }
       }
      }
     },
     "metadata": {},
     "output_type": "display_data"
    }
   ],
   "source": [
    "# plots the average damage taken by the PCs and monsters for a range of difficulties\n",
    "\n",
    "# create figure\n",
    "fig = go.Figure(\n",
    "    layout=go.Layout(\n",
    "        template=tfb.FIG_TEMPLATE,\n",
    "        xaxis=dict(\n",
    "            title_text='encounter difficulty',\n",
    "            range=[0.0, 1.0],\n",
    "            tick0=0, dtick=0.2,\n",
    "            minor=dict(tick0=0, dtick=0.1),\n",
    "        ),\n",
    "        yaxis=dict(\n",
    "            title_text='damage taken / hit points',\n",
    "            range=[-0.01,1.01],\n",
    "            #tickformat='.0%'\n",
    "            tick0=0, dtick=0.2,\n",
    "            minor=dict(tick0=0, dtick=0.1),\n",
    "        ),\n",
    "        legend=dict(\n",
    "            xanchor='left', yanchor='top',\n",
    "            x=0.01, y=0.99,\n",
    "            orientation='v',\n",
    "            tracegroupgap=0,\n",
    "            bgcolor='rgba(0,0,0,0)',\n",
    "        )\n",
    "    )\n",
    ")\n",
    "\n",
    "# plot difficulty ranges\n",
    "thresholds = [\n",
    "    ('Trivial', 0.00, 0.15, 'rgba(167, 167, 167, 0.15)'),\n",
    "    ('Easy',    0.15, 0.15, 'rgba(  0, 199, 151, 0.15)'),\n",
    "    ('Medium',  0.30, 0.15, 'rgba(245, 166,  35, 0.15)'),\n",
    "    ('Hard',    0.45, 0.25, 'rgba(228,  90,  29, 0.15)'),\n",
    "    ('Deadly',  0.70, 0.30, 'rgba(144,  79, 213, 0.15)'), #rgba(213,  79,  79, 0.2)'\n",
    "]\n",
    "for name, diff, dx, color in thresholds:\n",
    "    fig.add_trace(go.Scatter(\n",
    "        x=[diff, diff+dx], \n",
    "        y=[1.0, 1.0],\n",
    "        mode='none',\n",
    "        fill='tozeroy', \n",
    "        showlegend=False,\n",
    "        #line_color=color,\n",
    "        #marker_color=color,\n",
    "        fillcolor=color,\n",
    "        #hoveron = 'points+fills', # select where hover is active\n",
    "        hoverinfo='none'\n",
    "    ))\n",
    "    fig.add_annotation(\n",
    "        x=diff + dx/2, \n",
    "        y=0.5,\n",
    "        text=name,\n",
    "        showarrow=False,\n",
    "    )\n",
    "\n",
    "tiers = [\n",
    "    {\n",
    "        'name': 'tier 1',\n",
    "        'cv': 0.8,\n",
    "        'dash': 'solid',\n",
    "    },\n",
    "    {\n",
    "        'name': 'tier 2',\n",
    "        'cv': 0.6,\n",
    "        'dash': 'dash',\n",
    "    },\n",
    "    {\n",
    "        'name': 'tier 3',\n",
    "        'cv': 0.4,\n",
    "        'dash': 'dashdot',\n",
    "    },\n",
    "    {\n",
    "        'name': 'tier 4',\n",
    "        'cv': 0.2,\n",
    "        'dash': 'dashdot',\n",
    "    },\n",
    "]\n",
    "\n",
    "colors = iter(COLOR_LIST)\n",
    "difficulties = list(np.linspace(0.05, 1.0, 40))\n",
    "for tier in tiers:\n",
    "    pc_win_pct = []\n",
    "    mon_win_pct = []\n",
    "    pc_hp_loss = []\n",
    "    pc_hp_loss_sigma = []\n",
    "    mon_hp_loss = []\n",
    "    mon_hp_loss_sigma = []\n",
    "    for diff in difficulties:\n",
    "        party_hp = 100\n",
    "        pc_r_win = 3\n",
    "        pc_dpr_cv = tier['cv']\n",
    "\n",
    "        mon_hp = 100\n",
    "        mon_r_win = pc_r_win/diff\n",
    "        mon_dpr_cv = tier['cv']\n",
    "\n",
    "\n",
    "        party_dpr = mon_hp/pc_r_win\n",
    "        party_size = 4\n",
    "        pc_hp = party_hp/party_size\n",
    "        pc_dpr = party_dpr/party_size\n",
    "\n",
    "        mon_dpr = party_hp/mon_r_win\n",
    "\n",
    "        \n",
    "        combatants = [\n",
    "            cp.Combatant(\n",
    "                group='NPCs',\n",
    "                name='monster',\n",
    "                opponent='PCs',\n",
    "                level=5,\n",
    "                hit_points = mon_hp,\n",
    "                damage = [cp.gaussian_dice_distribution(mon_dpr, mon_dpr_cv*mon_dpr)],\n",
    "            ),\n",
    "            cp.Combatant(\n",
    "                group='PCs',\n",
    "                name='PC 1',\n",
    "                opponent='NPCs',\n",
    "                level=5,\n",
    "                hit_points = pc_hp,\n",
    "                damage = [cp.gaussian_dice_distribution(pc_dpr, pc_dpr_cv*pc_dpr)],\n",
    "            ),\n",
    "            cp.Combatant(\n",
    "                group='PCs',\n",
    "                name='PC 2',\n",
    "                opponent='NPCs',\n",
    "                level=5,\n",
    "                hit_points = pc_hp,\n",
    "                damage = [cp.gaussian_dice_distribution(pc_dpr, pc_dpr_cv*pc_dpr)],\n",
    "            ),\n",
    "            cp.Combatant(\n",
    "                group='PCs',\n",
    "                name='PC 3',\n",
    "                opponent='NPCs',\n",
    "                level=5,\n",
    "                hit_points = pc_hp,\n",
    "                damage = [cp.gaussian_dice_distribution(pc_dpr, pc_dpr_cv*pc_dpr)],\n",
    "            ),\n",
    "            cp.Combatant(\n",
    "                group='PCs',\n",
    "                name='PC 4',\n",
    "                opponent='NPCs',\n",
    "                level=5,\n",
    "                hit_points = pc_hp,\n",
    "                damage = [cp.gaussian_dice_distribution(pc_dpr, pc_dpr_cv*pc_dpr)],\n",
    "            ),\n",
    "        ]\n",
    "        e = cp.Encounter(combatants, initiative=['PC 1','PC 2','monster','PC 3','PC 4'], rounds=10)\n",
    "        pc_win_pct += [e.group_win_pct('PCs', method='approx')]\n",
    "        mon_win_pct += [e.group_win_pct('NPCs', method='approx')]\n",
    "\n",
    "        pc_hp_loss += [e.group_damage_mean('NPCs', method='approx', clip=False)/(party_size*pc_hp)]\n",
    "        #pc_hp_loss_sigma += [e.group_damage_sigma('NPCs', method='approx', clip=True)/(party_size*pc_hp)]\n",
    "\n",
    "        #mon_hp_loss += [e.group_damage_mean('PCs', method='approx', clip=True)/(mon_hp)]\n",
    "        #mon_hp_loss_sigma += [e.group_damage_sigma('PCs', method='approx', clip=True)/(mon_hp)]\n",
    "\n",
    "\n",
    "    # plot data\n",
    "    fig.add_trace(go.Scatter(\n",
    "        x=difficulties,\n",
    "        y=pc_hp_loss,\n",
    "        name=tier['name'],\n",
    "        mode='lines',\n",
    "        line_color=next(colors),\n",
    "        hovertemplate=\n",
    "            f'<b>' + tier['name'] + '</b><br>'+\n",
    "            'difficulty %{x:.2f}<br>'+\n",
    "            'HP lost %{y:.1%}<extra></extra>',\n",
    "    ))\n",
    "\n",
    "    \"\"\"fig.add_trace(go.Scatter(\n",
    "        x=difficulties,\n",
    "        y=mon_hp_loss,\n",
    "        name=f'NPCs',\n",
    "        mode='lines',\n",
    "        line_color=COLOR_LIST[1],\n",
    "        hovertemplate=\n",
    "            f'<b>NPCs</b><br>'+\n",
    "            'difficulty %{x:.2f}<br>'+\n",
    "            'HP lost %{y:.1%}<extra></extra>',\n",
    "    ))\"\"\"\n",
    "\n",
    "fig.add_trace(go.Scatter(\n",
    "    x=[0,1],\n",
    "    y=[0,1],\n",
    "    name=f'1-to-1',\n",
    "    showlegend=False,\n",
    "    mode='lines',\n",
    "    line_color='black',\n",
    "    line_dash='dash',\n",
    "    hoverinfo='skip',\n",
    "))\n",
    "\n",
    "# show figure\n",
    "fig.update_layout(width=600, height=450)\n",
    "fig.show(config=tfb.FIG_CONFIG)\n",
    "\n",
    "# save figures\n",
    "if SAVEFIGS:\n",
    "    fig.update_layout(autosize=True, width=None, height=None)\n",
    "    #tfb.save_fig_html(fig, format='large', name=f'./fig-win-vs-diff-deadly-large')\n",
    "    #tfb.save_fig_html(fig, format='small', name=f'./fig-win-vs-diff-deadly-small')"
   ]
  }
 ],
 "metadata": {
  "kernelspec": {
   "display_name": "thefinishedbook",
   "language": "python",
   "name": "python3"
  },
  "language_info": {
   "codemirror_mode": {
    "name": "ipython",
    "version": 3
   },
   "file_extension": ".py",
   "mimetype": "text/x-python",
   "name": "python",
   "nbconvert_exporter": "python",
   "pygments_lexer": "ipython3",
   "version": "3.10.5"
  }
 },
 "nbformat": 4,
 "nbformat_minor": 2
}
