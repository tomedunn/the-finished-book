{
 "cells": [
  {
   "cell_type": "code",
   "execution_count": 93,
   "metadata": {},
   "outputs": [],
   "source": [
    "import numpy as np\n",
    "from bs4 import BeautifulSoup\n",
    "import pandas as pd\n",
    "pd.options.mode.chained_assignment = None  # default='warn'\n",
    "\n",
    "METADATA = {'Contributor': 'T. Dunn'}\n",
    "SAVEFIGS = False\n",
    "\n",
    "dfD = pd.read_csv('../../assets/data/dmg-targets.csv') # 'CR','XP'\n",
    "dfD.set_index('CR', inplace=True)\n",
    "\n",
    "dfP = pd.read_csv('../../assets/data/pc-thresholds.csv') # 'Level','Easy XP','Medium XP','Hard XP','Deadly XP','Daily XP'\n",
    "dfP.set_index('Level', inplace=True)\n",
    "\n",
    "dfX = pd.read_csv('./xgte-ratios.csv')"
   ]
  },
  {
   "cell_type": "code",
   "execution_count": 90,
   "metadata": {},
   "outputs": [],
   "source": [
    "# Setup template and html config for plotly figures.\n",
    "import plotly.graph_objects as go\n",
    "\n",
    "TFB_TEMPLATE = dict(\n",
    "    layout=go.Layout(\n",
    "        template='plotly_white',\n",
    "        autosize=False,\n",
    "        margin=dict(l=60, r=25, b=55, t=20, pad=4),\n",
    "        font=dict(\n",
    "            family='sans-serif',\n",
    "            size=14\n",
    "        ),\n",
    "        hovermode='closest',\n",
    "        xaxis=dict(\n",
    "            automargin=False,\n",
    "            showline=True,\n",
    "            linecolor='#444',\n",
    "            linewidth=2,\n",
    "            mirror=True,\n",
    "            ticks='outside',\n",
    "            minor=dict(tickmode='linear', ticks='outside'),\n",
    "            zeroline=False,\n",
    "        ),\n",
    "        yaxis=dict(\n",
    "            automargin=False,\n",
    "            showline=True,\n",
    "            linecolor='#444',\n",
    "            linewidth=2,\n",
    "            mirror=True,\n",
    "            ticks='outside',\n",
    "            minor=dict(tickmode='linear', ticks='outside'),\n",
    "            zeroline=False,\n",
    "        ),\n",
    "        hoverlabel=dict(align='left'),\n",
    "    )\n",
    ")\n",
    "\n",
    "TFB_CONFIG = {\n",
    "    'responsive': True, # must be True to auto-scale when resizing\n",
    "    'autosizable': True, # doesn't impact auto rescaling\n",
    "    'showAxisDragHandles': False,\n",
    "    'displaylogo': False,\n",
    "    'displayModeBar': 'hover',\n",
    "    'modeBarButtonsToRemove': [\n",
    "        'select2d',\n",
    "        'lasso2d',\n",
    "        'zoom2d',\n",
    "        'zoomIn2d',\n",
    "        'zoomOut2d',\n",
    "        'pan2d',\n",
    "        'autoScale2d',\n",
    "        'hoverClosestCartesian',\n",
    "        'hoverCompareCartesian',\n",
    "        'toggleSpikelines',\n",
    "        'resetScale2d',\n",
    "    ],\n",
    "    'toImageButtonOptions': {\n",
    "        'format': 'png', # one of png, svg, jpeg, webp\n",
    "        'filename': 'tfb-plot',\n",
    "        'height': 450,\n",
    "        'width': 600,\n",
    "        'scale': 2\n",
    "    },\n",
    "}\n",
    "\n",
    "def save_fig_html(fig, format, name, **kwargs):\n",
    "    file_name = f'./{name}.html'\n",
    "\n",
    "    match format:\n",
    "        case 'large':\n",
    "            fig.update_traces(line_width=2, marker_size=8)\n",
    "            fig.update_shapes(line_width=2)\n",
    "            fig.update_layout(font_size=14)\n",
    "            fig.update_annotations(font_size=14)\n",
    "        case 'small':\n",
    "            fig.update_traces(line_width=1, marker_size=6)\n",
    "            fig.update_shapes(line_width=1)\n",
    "            fig.update_layout(font_size=10, legend=dict(font=dict(size=10)))\n",
    "            fig.update_annotations(font_size=10)\n",
    "\n",
    "    fig_html = fig.to_html(\n",
    "        config=TFB_CONFIG,\n",
    "        include_plotlyjs=False, \n",
    "        full_html=False, \n",
    "    )\n",
    "    fig_soup = BeautifulSoup(fig_html, 'html.parser')\n",
    "    fig_soup.div['class'] = f'plotly-div-{format}'\n",
    "    if kwargs.get('style', None):\n",
    "        fig_soup.div['style'] = kwargs.get('style')\n",
    "    with open(file_name, 'wb') as fout:\n",
    "        fout.write(fig_soup.prettify('utf-8'))"
   ]
  },
  {
   "cell_type": "code",
   "execution_count": 91,
   "metadata": {},
   "outputs": [],
   "source": [
    "# Import and process data\n",
    "import re\n",
    "\n",
    "# load ratio data\n",
    "dfX = pd.read_csv('./xgte-ratios.csv')\n",
    "dfX.set_index('PC level', inplace=True)\n",
    "dfX = dfX.stack(dropna=False).reset_index()\n",
    "dfX.rename({'PC level': 'PC level', 'level_1': 'NPC CR', 0: 'ratio'}, axis='columns', inplace=True)\n",
    "dfX = dfX.astype({'NPC CR': float})\n",
    "\n",
    "dfX = dfX[~dfX['ratio'].isna()]\n",
    "\n",
    "# convert to decimal values\n",
    "def ratio_to_decimal(ratio):\n",
    "    if ratio is np.nan:\n",
    "        return ratio\n",
    "    \n",
    "    re_ratio = re.compile(r'^(?P<pcs>\\d+):(?P<npcs>\\d+)$', re.IGNORECASE)\n",
    "    m = re_ratio.search(ratio)\n",
    "    return float(m.group('npcs'))/float(m.group('pcs'))\n",
    "\n",
    "def ratio_to_int(ratio):\n",
    "    if ratio is np.nan:\n",
    "        return ratio\n",
    "    \n",
    "    re_ratio = re.compile(r'^(?P<pcs>\\d+):(?P<npcs>\\d+)$', re.IGNORECASE)\n",
    "    m = re_ratio.search(ratio)\n",
    "    n_pcs = int(m.group('pcs'))\n",
    "    n_npcs = int(m.group('npcs'))\n",
    "    return n_pcs if n_pcs >= n_npcs else -n_npcs\n",
    "\n",
    "def decimal_to_int(dec):\n",
    "    return -1.0/dec if np.round(1.0/dec, 0) > 1.5 else dec\n",
    "\n",
    "def decimal_to_ratio(dec):\n",
    "    if np.round(1.0/dec, 0) > 1.5:\n",
    "        n_pc = 1.0/dec\n",
    "        n_npc = 1\n",
    "        return f'{n_pc:0.1f}:{n_npc:0.0f}'\n",
    "    else:\n",
    "        n_pc = 1\n",
    "        n_npc = dec\n",
    "        return f'{n_pc:0.0f}:{n_npc:0.1f}'\n",
    "\n",
    "dfX['decimal'] = dfX['ratio'].apply(lambda x: ratio_to_decimal(x))\n",
    "dfX['number'] = dfX['decimal'].apply(lambda x: decimal_to_int(x))\n",
    "\n",
    "dfX['PC XP']  = dfX['PC level'].apply(lambda x: dfP.at[x, 'Hard XP'])\n",
    "dfX['NPC XP'] = dfX['NPC CR'].apply(lambda x: 2*dfD.at[x, 'XP'])\n",
    "#dfX['calc decimal'] = dfX['PC XP']/dfX['NPC XP']\n",
    "dfX['calc decimal'] = dfX.apply(lambda x: min(12, x['PC XP']/x['NPC XP']), axis=1)\n",
    "dfX['calc decimal round'] = dfX['calc decimal'].apply(lambda x: np.round(x, 0) if x > 1 else 1/np.round(1/x, 0))\n",
    "dfX['calc number'] = dfX['calc decimal'].apply(lambda x: decimal_to_int(x))\n",
    "dfX['calc ratio'] = dfX['calc decimal'].apply(lambda x: decimal_to_ratio(x))"
   ]
  },
  {
   "cell_type": "code",
   "execution_count": 61,
   "metadata": {},
   "outputs": [
    {
     "data": {
      "application/vnd.plotly.v1+json": {
       "config": {
        "autosizable": true,
        "displayModeBar": "hover",
        "displaylogo": false,
        "modeBarButtonsToRemove": [
         "select2d",
         "lasso2d",
         "zoom2d",
         "zoomIn2d",
         "zoomOut2d",
         "pan2d",
         "autoScale2d",
         "hoverClosestCartesian",
         "hoverCompareCartesian",
         "toggleSpikelines",
         "resetScale2d"
        ],
        "plotlyServerURL": "https://plot.ly",
        "responsive": true,
        "showAxisDragHandles": false,
        "toImageButtonOptions": {
         "filename": "tfb-plot",
         "format": "png",
         "height": 450,
         "scale": 2,
         "width": 600
        }
       },
       "data": [
        {
         "hoverinfo": "skip",
         "line": {
          "color": "#1F77B4",
          "dash": "dash"
         },
         "mode": "lines",
         "name": "Easy XP",
         "showlegend": false,
         "type": "scatter",
         "x": [
          1,
          2,
          3,
          4,
          5,
          6,
          7,
          8,
          9,
          10,
          11,
          12,
          13,
          14,
          15,
          16,
          17,
          18,
          19,
          20
         ],
         "y": [
          0.16666666666666666,
          0.16666666666666666,
          0.125,
          0.14705882352941177,
          0.14285714285714285,
          0.15,
          0.14,
          0.15,
          0.14666666666666667,
          0.13333333333333333,
          0.1523809523809524,
          0.17391304347826086,
          0.16296296296296298,
          0.16666666666666666,
          0.15555555555555556,
          0.16,
          0.16,
          0.15555555555555556,
          0.16,
          0.14
         ]
        },
        {
         "mode": "text",
         "showlegend": false,
         "text": [
          "Easy"
         ],
         "textfont": {
          "color": "#1F77B4"
         },
         "textposition": "middle right",
         "type": "scatter",
         "x": [
          20.5
         ],
         "y": [
          0.15276420181599212
         ]
        },
        {
         "hoverinfo": "skip",
         "line": {
          "color": "#FF7F0E",
          "dash": "dash"
         },
         "mode": "lines",
         "name": "Medium XP",
         "showlegend": false,
         "type": "scatter",
         "x": [
          1,
          2,
          3,
          4,
          5,
          6,
          7,
          8,
          9,
          10,
          11,
          12,
          13,
          14,
          15,
          16,
          17,
          18,
          19,
          20
         ],
         "y": [
          0.3333333333333333,
          0.3333333333333333,
          0.25,
          0.29411764705882354,
          0.2857142857142857,
          0.3,
          0.3,
          0.3,
          0.29333333333333333,
          0.26666666666666666,
          0.3047619047619048,
          0.34782608695652173,
          0.32592592592592595,
          0.3333333333333333,
          0.3111111111111111,
          0.32,
          0.312,
          0.3111111111111111,
          0.32666666666666666,
          0.285
         ]
        },
        {
         "mode": "text",
         "showlegend": false,
         "text": [
          "Medium"
         ],
         "textfont": {
          "color": "#FF7F0E"
         },
         "textposition": "middle right",
         "type": "scatter",
         "x": [
          20.5
         ],
         "y": [
          0.3067117369653175
         ]
        },
        {
         "hoverinfo": "skip",
         "line": {
          "color": "#2CA02C",
          "dash": "dash"
         },
         "mode": "lines",
         "name": "Hard XP",
         "showlegend": false,
         "type": "scatter",
         "x": [
          1,
          2,
          3,
          4,
          5,
          6,
          7,
          8,
          9,
          10,
          11,
          12,
          13,
          14,
          15,
          16,
          17,
          18,
          19,
          20
         ],
         "y": [
          0.5,
          0.5,
          0.375,
          0.4411764705882353,
          0.42857142857142855,
          0.45,
          0.44,
          0.4666666666666667,
          0.4266666666666667,
          0.4222222222222222,
          0.45714285714285713,
          0.5217391304347826,
          0.5037037037037037,
          0.5066666666666667,
          0.4777777777777778,
          0.48,
          0.472,
          0.4666666666666667,
          0.4866666666666667,
          0.425
         ]
        },
        {
         "mode": "text",
         "showlegend": false,
         "text": [
          "Hard"
         ],
         "textfont": {
          "color": "#2CA02C"
         },
         "textposition": "middle right",
         "type": "scatter",
         "x": [
          20.5
         ],
         "y": [
          0.46238334618871707
         ]
        },
        {
         "hoverinfo": "skip",
         "line": {
          "color": "#D62728",
          "dash": "dash"
         },
         "mode": "lines",
         "name": "Deadly XP",
         "showlegend": false,
         "type": "scatter",
         "x": [
          1,
          2,
          3,
          4,
          5,
          6,
          7,
          8,
          9,
          10,
          11,
          12,
          13,
          14,
          15,
          16,
          17,
          18,
          19,
          20
         ],
         "y": [
          0.6666666666666666,
          0.6666666666666666,
          0.6666666666666666,
          0.5882352941176471,
          0.6285714285714286,
          0.7,
          0.68,
          0.7,
          0.64,
          0.6222222222222222,
          0.6857142857142857,
          0.782608695652174,
          0.7555555555555555,
          0.76,
          0.7111111111111111,
          0.72,
          0.704,
          0.7037037037037037,
          0.7266666666666667,
          0.635
         ]
        },
        {
         "mode": "text",
         "showlegend": false,
         "text": [
          "Deadly"
         ],
         "textfont": {
          "color": "#D62728"
         },
         "textposition": "middle right",
         "type": "scatter",
         "x": [
          20.5
         ],
         "y": [
          0.6871694481657398
         ]
        },
        {
         "hovertemplate": "<b>4 PCs</b><br>Level %{x}<br>XP ratio %{y:,.2f}<extra></extra>",
         "line": {
          "color": "rgb(98,83,119)"
         },
         "mode": "markers+lines",
         "name": "4 PCs",
         "type": "scatter",
         "x": [
          1,
          2,
          3,
          4,
          5,
          6,
          7,
          8,
          9,
          10,
          11,
          12,
          13,
          14,
          15,
          16,
          17,
          18,
          19,
          20
         ],
         "y": [
          0.3333333333333333,
          0.375,
          0.2916666666666667,
          0.3235294117647059,
          0.4142857142857143,
          0.4875,
          0.5,
          0.49166666666666664,
          0.48,
          0.4666666666666667,
          0.47619047619047616,
          0.5652173913043478,
          0.5555555555555556,
          0.6,
          0.5555555555555556,
          0.55,
          0.5,
          0.46296296296296297,
          0.55,
          0.5125
         ]
        },
        {
         "hovertemplate": "<b>5 PCs</b><br>Level %{x}<br>XP ratio %{y:,.2f}<extra></extra>",
         "line": {
          "color": "rgb(104,133,92)"
         },
         "mode": "markers+lines",
         "name": "5 PCs",
         "type": "scatter",
         "x": [
          1,
          2,
          3,
          4,
          5,
          6,
          7,
          8,
          9,
          10,
          11,
          12,
          13,
          14,
          15,
          16,
          17,
          18,
          19,
          20
         ],
         "y": [
          0.6,
          0.4666666666666667,
          0.36666666666666664,
          0.4235294117647059,
          0.44571428571428573,
          0.5,
          0.472,
          0.48,
          0.448,
          0.4444444444444444,
          0.4380952380952381,
          0.5217391304347826,
          0.5333333333333333,
          0.5333333333333333,
          0.4888888888888889,
          0.5,
          0.528,
          0.4888888888888889,
          0.5466666666666666,
          0.5
         ]
        },
        {
         "hovertemplate": "<b>6 PCs</b><br>Level %{x}<br>XP ratio %{y:,.2f}<extra></extra>",
         "line": {
          "color": "rgb(156,156,94)"
         },
         "mode": "markers+lines",
         "name": "6 PCs",
         "type": "scatter",
         "x": [
          1,
          2,
          3,
          4,
          5,
          6,
          7,
          8,
          9,
          10,
          11,
          12,
          13,
          14,
          15,
          16,
          17,
          18,
          19,
          20
         ],
         "y": [
          0.5,
          0.6111111111111112,
          0.5,
          0.45098039215686275,
          0.47619047619047616,
          0.49166666666666664,
          0.48,
          0.4666666666666667,
          0.4444444444444444,
          0.42592592592592593,
          0.4126984126984127,
          0.5217391304347826,
          0.49382716049382713,
          0.4888888888888889,
          0.46296296296296297,
          0.55,
          0.5466666666666666,
          0.5061728395061729,
          0.5555555555555556,
          0.5166666666666667
         ]
        }
       ],
       "layout": {
        "height": 500,
        "legend": {
         "orientation": "h",
         "tracegroupgap": 0,
         "x": 0,
         "xanchor": "left",
         "y": 1,
         "yanchor": "top"
        },
        "template": {
         "layout": {
          "autosize": false,
          "font": {
           "family": "sans-serif",
           "size": 14
          },
          "hoverlabel": {
           "align": "left"
          },
          "hovermode": "closest",
          "margin": {
           "b": 55,
           "l": 60,
           "pad": 4,
           "r": 25,
           "t": 20
          },
          "template": {
           "data": {
            "bar": [
             {
              "error_x": {
               "color": "#2a3f5f"
              },
              "error_y": {
               "color": "#2a3f5f"
              },
              "marker": {
               "line": {
                "color": "white",
                "width": 0.5
               },
               "pattern": {
                "fillmode": "overlay",
                "size": 10,
                "solidity": 0.2
               }
              },
              "type": "bar"
             }
            ],
            "barpolar": [
             {
              "marker": {
               "line": {
                "color": "white",
                "width": 0.5
               },
               "pattern": {
                "fillmode": "overlay",
                "size": 10,
                "solidity": 0.2
               }
              },
              "type": "barpolar"
             }
            ],
            "carpet": [
             {
              "aaxis": {
               "endlinecolor": "#2a3f5f",
               "gridcolor": "#C8D4E3",
               "linecolor": "#C8D4E3",
               "minorgridcolor": "#C8D4E3",
               "startlinecolor": "#2a3f5f"
              },
              "baxis": {
               "endlinecolor": "#2a3f5f",
               "gridcolor": "#C8D4E3",
               "linecolor": "#C8D4E3",
               "minorgridcolor": "#C8D4E3",
               "startlinecolor": "#2a3f5f"
              },
              "type": "carpet"
             }
            ],
            "choropleth": [
             {
              "colorbar": {
               "outlinewidth": 0,
               "ticks": ""
              },
              "type": "choropleth"
             }
            ],
            "contour": [
             {
              "colorbar": {
               "outlinewidth": 0,
               "ticks": ""
              },
              "colorscale": [
               [
                0,
                "#0d0887"
               ],
               [
                0.1111111111111111,
                "#46039f"
               ],
               [
                0.2222222222222222,
                "#7201a8"
               ],
               [
                0.3333333333333333,
                "#9c179e"
               ],
               [
                0.4444444444444444,
                "#bd3786"
               ],
               [
                0.5555555555555556,
                "#d8576b"
               ],
               [
                0.6666666666666666,
                "#ed7953"
               ],
               [
                0.7777777777777778,
                "#fb9f3a"
               ],
               [
                0.8888888888888888,
                "#fdca26"
               ],
               [
                1,
                "#f0f921"
               ]
              ],
              "type": "contour"
             }
            ],
            "contourcarpet": [
             {
              "colorbar": {
               "outlinewidth": 0,
               "ticks": ""
              },
              "type": "contourcarpet"
             }
            ],
            "heatmap": [
             {
              "colorbar": {
               "outlinewidth": 0,
               "ticks": ""
              },
              "colorscale": [
               [
                0,
                "#0d0887"
               ],
               [
                0.1111111111111111,
                "#46039f"
               ],
               [
                0.2222222222222222,
                "#7201a8"
               ],
               [
                0.3333333333333333,
                "#9c179e"
               ],
               [
                0.4444444444444444,
                "#bd3786"
               ],
               [
                0.5555555555555556,
                "#d8576b"
               ],
               [
                0.6666666666666666,
                "#ed7953"
               ],
               [
                0.7777777777777778,
                "#fb9f3a"
               ],
               [
                0.8888888888888888,
                "#fdca26"
               ],
               [
                1,
                "#f0f921"
               ]
              ],
              "type": "heatmap"
             }
            ],
            "heatmapgl": [
             {
              "colorbar": {
               "outlinewidth": 0,
               "ticks": ""
              },
              "colorscale": [
               [
                0,
                "#0d0887"
               ],
               [
                0.1111111111111111,
                "#46039f"
               ],
               [
                0.2222222222222222,
                "#7201a8"
               ],
               [
                0.3333333333333333,
                "#9c179e"
               ],
               [
                0.4444444444444444,
                "#bd3786"
               ],
               [
                0.5555555555555556,
                "#d8576b"
               ],
               [
                0.6666666666666666,
                "#ed7953"
               ],
               [
                0.7777777777777778,
                "#fb9f3a"
               ],
               [
                0.8888888888888888,
                "#fdca26"
               ],
               [
                1,
                "#f0f921"
               ]
              ],
              "type": "heatmapgl"
             }
            ],
            "histogram": [
             {
              "marker": {
               "pattern": {
                "fillmode": "overlay",
                "size": 10,
                "solidity": 0.2
               }
              },
              "type": "histogram"
             }
            ],
            "histogram2d": [
             {
              "colorbar": {
               "outlinewidth": 0,
               "ticks": ""
              },
              "colorscale": [
               [
                0,
                "#0d0887"
               ],
               [
                0.1111111111111111,
                "#46039f"
               ],
               [
                0.2222222222222222,
                "#7201a8"
               ],
               [
                0.3333333333333333,
                "#9c179e"
               ],
               [
                0.4444444444444444,
                "#bd3786"
               ],
               [
                0.5555555555555556,
                "#d8576b"
               ],
               [
                0.6666666666666666,
                "#ed7953"
               ],
               [
                0.7777777777777778,
                "#fb9f3a"
               ],
               [
                0.8888888888888888,
                "#fdca26"
               ],
               [
                1,
                "#f0f921"
               ]
              ],
              "type": "histogram2d"
             }
            ],
            "histogram2dcontour": [
             {
              "colorbar": {
               "outlinewidth": 0,
               "ticks": ""
              },
              "colorscale": [
               [
                0,
                "#0d0887"
               ],
               [
                0.1111111111111111,
                "#46039f"
               ],
               [
                0.2222222222222222,
                "#7201a8"
               ],
               [
                0.3333333333333333,
                "#9c179e"
               ],
               [
                0.4444444444444444,
                "#bd3786"
               ],
               [
                0.5555555555555556,
                "#d8576b"
               ],
               [
                0.6666666666666666,
                "#ed7953"
               ],
               [
                0.7777777777777778,
                "#fb9f3a"
               ],
               [
                0.8888888888888888,
                "#fdca26"
               ],
               [
                1,
                "#f0f921"
               ]
              ],
              "type": "histogram2dcontour"
             }
            ],
            "mesh3d": [
             {
              "colorbar": {
               "outlinewidth": 0,
               "ticks": ""
              },
              "type": "mesh3d"
             }
            ],
            "parcoords": [
             {
              "line": {
               "colorbar": {
                "outlinewidth": 0,
                "ticks": ""
               }
              },
              "type": "parcoords"
             }
            ],
            "pie": [
             {
              "automargin": true,
              "type": "pie"
             }
            ],
            "scatter": [
             {
              "fillpattern": {
               "fillmode": "overlay",
               "size": 10,
               "solidity": 0.2
              },
              "type": "scatter"
             }
            ],
            "scatter3d": [
             {
              "line": {
               "colorbar": {
                "outlinewidth": 0,
                "ticks": ""
               }
              },
              "marker": {
               "colorbar": {
                "outlinewidth": 0,
                "ticks": ""
               }
              },
              "type": "scatter3d"
             }
            ],
            "scattercarpet": [
             {
              "marker": {
               "colorbar": {
                "outlinewidth": 0,
                "ticks": ""
               }
              },
              "type": "scattercarpet"
             }
            ],
            "scattergeo": [
             {
              "marker": {
               "colorbar": {
                "outlinewidth": 0,
                "ticks": ""
               }
              },
              "type": "scattergeo"
             }
            ],
            "scattergl": [
             {
              "marker": {
               "colorbar": {
                "outlinewidth": 0,
                "ticks": ""
               }
              },
              "type": "scattergl"
             }
            ],
            "scattermapbox": [
             {
              "marker": {
               "colorbar": {
                "outlinewidth": 0,
                "ticks": ""
               }
              },
              "type": "scattermapbox"
             }
            ],
            "scatterpolar": [
             {
              "marker": {
               "colorbar": {
                "outlinewidth": 0,
                "ticks": ""
               }
              },
              "type": "scatterpolar"
             }
            ],
            "scatterpolargl": [
             {
              "marker": {
               "colorbar": {
                "outlinewidth": 0,
                "ticks": ""
               }
              },
              "type": "scatterpolargl"
             }
            ],
            "scatterternary": [
             {
              "marker": {
               "colorbar": {
                "outlinewidth": 0,
                "ticks": ""
               }
              },
              "type": "scatterternary"
             }
            ],
            "surface": [
             {
              "colorbar": {
               "outlinewidth": 0,
               "ticks": ""
              },
              "colorscale": [
               [
                0,
                "#0d0887"
               ],
               [
                0.1111111111111111,
                "#46039f"
               ],
               [
                0.2222222222222222,
                "#7201a8"
               ],
               [
                0.3333333333333333,
                "#9c179e"
               ],
               [
                0.4444444444444444,
                "#bd3786"
               ],
               [
                0.5555555555555556,
                "#d8576b"
               ],
               [
                0.6666666666666666,
                "#ed7953"
               ],
               [
                0.7777777777777778,
                "#fb9f3a"
               ],
               [
                0.8888888888888888,
                "#fdca26"
               ],
               [
                1,
                "#f0f921"
               ]
              ],
              "type": "surface"
             }
            ],
            "table": [
             {
              "cells": {
               "fill": {
                "color": "#EBF0F8"
               },
               "line": {
                "color": "white"
               }
              },
              "header": {
               "fill": {
                "color": "#C8D4E3"
               },
               "line": {
                "color": "white"
               }
              },
              "type": "table"
             }
            ]
           },
           "layout": {
            "annotationdefaults": {
             "arrowcolor": "#2a3f5f",
             "arrowhead": 0,
             "arrowwidth": 1
            },
            "autotypenumbers": "strict",
            "coloraxis": {
             "colorbar": {
              "outlinewidth": 0,
              "ticks": ""
             }
            },
            "colorscale": {
             "diverging": [
              [
               0,
               "#8e0152"
              ],
              [
               0.1,
               "#c51b7d"
              ],
              [
               0.2,
               "#de77ae"
              ],
              [
               0.3,
               "#f1b6da"
              ],
              [
               0.4,
               "#fde0ef"
              ],
              [
               0.5,
               "#f7f7f7"
              ],
              [
               0.6,
               "#e6f5d0"
              ],
              [
               0.7,
               "#b8e186"
              ],
              [
               0.8,
               "#7fbc41"
              ],
              [
               0.9,
               "#4d9221"
              ],
              [
               1,
               "#276419"
              ]
             ],
             "sequential": [
              [
               0,
               "#0d0887"
              ],
              [
               0.1111111111111111,
               "#46039f"
              ],
              [
               0.2222222222222222,
               "#7201a8"
              ],
              [
               0.3333333333333333,
               "#9c179e"
              ],
              [
               0.4444444444444444,
               "#bd3786"
              ],
              [
               0.5555555555555556,
               "#d8576b"
              ],
              [
               0.6666666666666666,
               "#ed7953"
              ],
              [
               0.7777777777777778,
               "#fb9f3a"
              ],
              [
               0.8888888888888888,
               "#fdca26"
              ],
              [
               1,
               "#f0f921"
              ]
             ],
             "sequentialminus": [
              [
               0,
               "#0d0887"
              ],
              [
               0.1111111111111111,
               "#46039f"
              ],
              [
               0.2222222222222222,
               "#7201a8"
              ],
              [
               0.3333333333333333,
               "#9c179e"
              ],
              [
               0.4444444444444444,
               "#bd3786"
              ],
              [
               0.5555555555555556,
               "#d8576b"
              ],
              [
               0.6666666666666666,
               "#ed7953"
              ],
              [
               0.7777777777777778,
               "#fb9f3a"
              ],
              [
               0.8888888888888888,
               "#fdca26"
              ],
              [
               1,
               "#f0f921"
              ]
             ]
            },
            "colorway": [
             "#636efa",
             "#EF553B",
             "#00cc96",
             "#ab63fa",
             "#FFA15A",
             "#19d3f3",
             "#FF6692",
             "#B6E880",
             "#FF97FF",
             "#FECB52"
            ],
            "font": {
             "color": "#2a3f5f"
            },
            "geo": {
             "bgcolor": "white",
             "lakecolor": "white",
             "landcolor": "white",
             "showlakes": true,
             "showland": true,
             "subunitcolor": "#C8D4E3"
            },
            "hoverlabel": {
             "align": "left"
            },
            "hovermode": "closest",
            "mapbox": {
             "style": "light"
            },
            "paper_bgcolor": "white",
            "plot_bgcolor": "white",
            "polar": {
             "angularaxis": {
              "gridcolor": "#EBF0F8",
              "linecolor": "#EBF0F8",
              "ticks": ""
             },
             "bgcolor": "white",
             "radialaxis": {
              "gridcolor": "#EBF0F8",
              "linecolor": "#EBF0F8",
              "ticks": ""
             }
            },
            "scene": {
             "xaxis": {
              "backgroundcolor": "white",
              "gridcolor": "#DFE8F3",
              "gridwidth": 2,
              "linecolor": "#EBF0F8",
              "showbackground": true,
              "ticks": "",
              "zerolinecolor": "#EBF0F8"
             },
             "yaxis": {
              "backgroundcolor": "white",
              "gridcolor": "#DFE8F3",
              "gridwidth": 2,
              "linecolor": "#EBF0F8",
              "showbackground": true,
              "ticks": "",
              "zerolinecolor": "#EBF0F8"
             },
             "zaxis": {
              "backgroundcolor": "white",
              "gridcolor": "#DFE8F3",
              "gridwidth": 2,
              "linecolor": "#EBF0F8",
              "showbackground": true,
              "ticks": "",
              "zerolinecolor": "#EBF0F8"
             }
            },
            "shapedefaults": {
             "line": {
              "color": "#2a3f5f"
             }
            },
            "ternary": {
             "aaxis": {
              "gridcolor": "#DFE8F3",
              "linecolor": "#A2B1C6",
              "ticks": ""
             },
             "baxis": {
              "gridcolor": "#DFE8F3",
              "linecolor": "#A2B1C6",
              "ticks": ""
             },
             "bgcolor": "white",
             "caxis": {
              "gridcolor": "#DFE8F3",
              "linecolor": "#A2B1C6",
              "ticks": ""
             }
            },
            "title": {
             "x": 0.05
            },
            "xaxis": {
             "automargin": true,
             "gridcolor": "#EBF0F8",
             "linecolor": "#EBF0F8",
             "ticks": "",
             "title": {
              "standoff": 15
             },
             "zerolinecolor": "#EBF0F8",
             "zerolinewidth": 2
            },
            "yaxis": {
             "automargin": true,
             "gridcolor": "#EBF0F8",
             "linecolor": "#EBF0F8",
             "ticks": "",
             "title": {
              "standoff": 15
             },
             "zerolinecolor": "#EBF0F8",
             "zerolinewidth": 2
            }
           }
          },
          "xaxis": {
           "automargin": false,
           "linecolor": "#444",
           "linewidth": 2,
           "minor": {
            "tickmode": "linear",
            "ticks": "outside"
           },
           "mirror": true,
           "showline": true,
           "ticks": "outside",
           "zeroline": false
          },
          "yaxis": {
           "automargin": false,
           "linecolor": "#444",
           "linewidth": 2,
           "minor": {
            "tickmode": "linear",
            "ticks": "outside"
           },
           "mirror": true,
           "showline": true,
           "ticks": "outside",
           "zeroline": false
          }
         }
        },
        "width": 600,
        "xaxis": {
         "dtick": 5,
         "minor": {
          "dtick": 1,
          "tick0": 0
         },
         "range": [
          0,
          23
         ],
         "tick0": 0,
         "title": {
          "text": "level"
         }
        },
        "yaxis": {
         "dtick": 0.2,
         "minor": {
          "dtick": 0.1,
          "tick0": 0
         },
         "range": [
          0,
          1
         ],
         "tick0": 0,
         "title": {
          "text": "XP ratio"
         }
        }
       }
      }
     },
     "metadata": {},
     "output_type": "display_data"
    }
   ],
   "source": [
    "# plots solo monster XP relative to party XP\n",
    "\n",
    "# create figure\n",
    "fig = go.Figure(\n",
    "    layout=go.Layout(\n",
    "        template=TFB_TEMPLATE,\n",
    "        xaxis=dict(\n",
    "            title_text='level',\n",
    "            range=[0,23],\n",
    "            tick0=0, dtick=5,\n",
    "            minor=dict(tick0=0, dtick=1),\n",
    "        ),\n",
    "        yaxis=dict(\n",
    "            title_text='XP ratio',\n",
    "            range=[0,1],\n",
    "            tick0=0, dtick=0.2,\n",
    "            minor=dict(tick0=0, dtick=0.1),\n",
    "        ),\n",
    "        legend=dict(\n",
    "            xanchor='left', yanchor='top',\n",
    "            x=0.00, y=1.00,\n",
    "            orientation='h',\n",
    "            tracegroupgap=0,\n",
    "        )\n",
    "    )\n",
    ")\n",
    "\n",
    "# add difficulty thresholds\n",
    "diffs = ['Easy XP', 'Medium XP', 'Hard XP', 'Deadly XP']\n",
    "colors = ['#1F77B4','#FF7F0E', '#2CA02C', '#D62728']\n",
    "for diff, color in zip(diffs, colors):\n",
    "    fig.add_trace(go.Scatter(\n",
    "        x=dfP.index.to_numpy(), \n",
    "        y=2*dfP[diff]/dfP['Daily XP'],\n",
    "        mode='lines', \n",
    "        name=diff,\n",
    "        showlegend=False,\n",
    "        line=dict(color=color, dash='dash'),\n",
    "        hoverinfo='skip',\n",
    "    ))\n",
    "    fig.add_trace(go.Scatter(\n",
    "        x=np.array([20.5]),\n",
    "        y=np.array(np.mean(2*dfP[diff]/dfP['Daily XP'])),\n",
    "        mode='text',\n",
    "        showlegend=False,\n",
    "        text=[diff.split(' ')[0]],\n",
    "        textposition='middle right',\n",
    "        textfont=dict(color=color),\n",
    "    ))\n",
    "\n",
    "# load solo monster data\n",
    "dfS = pd.read_csv('./xgte-solo.csv')\n",
    "colors = ['rgb(98,83,119)','rgb(104,133,92)','rgb(156,156,94)']\n",
    "for n_pcs, color in zip([4,5,6], colors):\n",
    "    col = f'{n_pcs} PCs'\n",
    "    dfS[f'{col} - PC XP']  = dfS.apply(lambda row: 0.5*n_pcs*dfP.at[row['PC level'], 'Daily XP'], axis=1)\n",
    "    dfS[f'{col} - NPC XP']  = dfS.apply(lambda row: dfD.at[row[col], 'XP'], axis=1)\n",
    "    dfS[f'{col} - XP ratio']  = dfS[f'{col} - NPC XP']/dfS[f'{col} - PC XP']\n",
    "    fig.add_trace(go.Scatter(\n",
    "        x=dfS['PC level'], \n",
    "        y=dfS[f'{col} - XP ratio'],\n",
    "        mode='markers+lines', \n",
    "        line=dict(color=color),\n",
    "        name=col,\n",
    "        hovertemplate= \n",
    "            f'<b>{col}</b><br>'\n",
    "            'Level %{x}<br>'+\n",
    "            'XP ratio %{y:,.2f}' + \n",
    "            '<extra></extra>'\n",
    "    ))\n",
    "\n",
    "# show figure\n",
    "fig.update_layout(width=600, height=500)\n",
    "fig.show(config=TFB_CONFIG)\n",
    "\n",
    "# save figures\n",
    "if SAVEFIGS:\n",
    "    fig.update_layout(autosize=True, width=None, height=None)\n",
    "    save_fig_html(fig, format='large', name='fig-solo-monster-xp-ratios-large', style='aspect-ratio: 600/500;')\n",
    "    save_fig_html(fig, format='small', name='fig-solo-monster-xp-ratios-small', style='aspect-ratio: 600/500;')"
   ]
  },
  {
   "cell_type": "code",
   "execution_count": 95,
   "metadata": {},
   "outputs": [
    {
     "data": {
      "application/vnd.plotly.v1+json": {
       "config": {
        "autosizable": true,
        "displayModeBar": "hover",
        "displaylogo": false,
        "modeBarButtonsToRemove": [
         "select2d",
         "lasso2d",
         "zoom2d",
         "zoomIn2d",
         "zoomOut2d",
         "pan2d",
         "autoScale2d",
         "hoverClosestCartesian",
         "hoverCompareCartesian",
         "toggleSpikelines",
         "resetScale2d"
        ],
        "plotlyServerURL": "https://plot.ly",
        "responsive": true,
        "showAxisDragHandles": false,
        "toImageButtonOptions": {
         "filename": "tfb-plot",
         "format": "png",
         "height": 450,
         "scale": 2,
         "width": 600
        }
       },
       "data": [
        {
         "hoverinfo": "skip",
         "line": {
          "color": "#1F77B4",
          "dash": "dash"
         },
         "mode": "lines",
         "name": "Easy XP",
         "showlegend": false,
         "type": "scatter",
         "x": [
          1,
          2,
          3,
          4,
          5,
          6,
          7,
          8,
          9,
          10,
          11,
          12,
          13,
          14,
          15,
          16,
          17,
          18,
          19,
          20
         ],
         "y": [
          0.16666666666666666,
          0.16666666666666666,
          0.125,
          0.14705882352941177,
          0.14285714285714285,
          0.15,
          0.14,
          0.15,
          0.14666666666666667,
          0.13333333333333333,
          0.1523809523809524,
          0.17391304347826086,
          0.16296296296296298,
          0.16666666666666666,
          0.15555555555555556,
          0.16,
          0.16,
          0.15555555555555556,
          0.16,
          0.14
         ]
        },
        {
         "mode": "text",
         "showlegend": false,
         "text": [
          "Easy"
         ],
         "textfont": {
          "color": "#1F77B4"
         },
         "textposition": "middle right",
         "type": "scatter",
         "x": [
          20.5
         ],
         "y": [
          0.15276420181599212
         ]
        },
        {
         "hoverinfo": "skip",
         "line": {
          "color": "#FF7F0E",
          "dash": "dash"
         },
         "mode": "lines",
         "name": "Medium XP",
         "showlegend": false,
         "type": "scatter",
         "x": [
          1,
          2,
          3,
          4,
          5,
          6,
          7,
          8,
          9,
          10,
          11,
          12,
          13,
          14,
          15,
          16,
          17,
          18,
          19,
          20
         ],
         "y": [
          0.3333333333333333,
          0.3333333333333333,
          0.25,
          0.29411764705882354,
          0.2857142857142857,
          0.3,
          0.3,
          0.3,
          0.29333333333333333,
          0.26666666666666666,
          0.3047619047619048,
          0.34782608695652173,
          0.32592592592592595,
          0.3333333333333333,
          0.3111111111111111,
          0.32,
          0.312,
          0.3111111111111111,
          0.32666666666666666,
          0.285
         ]
        },
        {
         "mode": "text",
         "showlegend": false,
         "text": [
          "Medium"
         ],
         "textfont": {
          "color": "#FF7F0E"
         },
         "textposition": "middle right",
         "type": "scatter",
         "x": [
          20.5
         ],
         "y": [
          0.3067117369653175
         ]
        },
        {
         "hoverinfo": "skip",
         "line": {
          "color": "#2CA02C",
          "dash": "dash"
         },
         "mode": "lines",
         "name": "Hard XP",
         "showlegend": false,
         "type": "scatter",
         "x": [
          1,
          2,
          3,
          4,
          5,
          6,
          7,
          8,
          9,
          10,
          11,
          12,
          13,
          14,
          15,
          16,
          17,
          18,
          19,
          20
         ],
         "y": [
          0.5,
          0.5,
          0.375,
          0.4411764705882353,
          0.42857142857142855,
          0.45,
          0.44,
          0.4666666666666667,
          0.4266666666666667,
          0.4222222222222222,
          0.45714285714285713,
          0.5217391304347826,
          0.5037037037037037,
          0.5066666666666667,
          0.4777777777777778,
          0.48,
          0.472,
          0.4666666666666667,
          0.4866666666666667,
          0.425
         ]
        },
        {
         "mode": "text",
         "showlegend": false,
         "text": [
          "Hard"
         ],
         "textfont": {
          "color": "#2CA02C"
         },
         "textposition": "middle right",
         "type": "scatter",
         "x": [
          20.5
         ],
         "y": [
          0.46238334618871707
         ]
        },
        {
         "hoverinfo": "skip",
         "line": {
          "color": "#D62728",
          "dash": "dash"
         },
         "mode": "lines",
         "name": "Deadly XP",
         "showlegend": false,
         "type": "scatter",
         "x": [
          1,
          2,
          3,
          4,
          5,
          6,
          7,
          8,
          9,
          10,
          11,
          12,
          13,
          14,
          15,
          16,
          17,
          18,
          19,
          20
         ],
         "y": [
          0.6666666666666666,
          0.6666666666666666,
          0.6666666666666666,
          0.5882352941176471,
          0.6285714285714286,
          0.7,
          0.68,
          0.7,
          0.64,
          0.6222222222222222,
          0.6857142857142857,
          0.782608695652174,
          0.7555555555555555,
          0.76,
          0.7111111111111111,
          0.72,
          0.704,
          0.7037037037037037,
          0.7266666666666667,
          0.635
         ]
        },
        {
         "mode": "text",
         "showlegend": false,
         "text": [
          "Deadly"
         ],
         "textfont": {
          "color": "#D62728"
         },
         "textposition": "middle right",
         "type": "scatter",
         "x": [
          20.5
         ],
         "y": [
          0.6871694481657398
         ]
        },
        {
         "hovertemplate": "<b>4 PCs</b><br>Level %{x}<br>XP ratio %{y:,.2f}<extra></extra>",
         "line": {
          "color": "rgb(98,83,119)"
         },
         "mode": "markers+lines",
         "name": "4 PCs",
         "type": "scatter",
         "x": [
          1,
          2,
          3,
          4,
          5,
          6,
          7,
          8,
          9,
          10,
          11,
          12,
          13,
          14,
          15,
          16,
          17,
          18,
          19,
          20
         ],
         "y": [
          1.1666666666666667,
          0.9166666666666666,
          0.75,
          0.6764705882352942,
          0.7142857142857143,
          0.7375,
          0.72,
          0.7,
          0.6666666666666666,
          0.6388888888888888,
          0.6190476190476191,
          0.782608695652174,
          0.7407407407407407,
          0.7333333333333333,
          0.6944444444444444,
          0.825,
          0.82,
          0.7592592592592593,
          0.8333333333333334,
          0.775
         ]
        },
        {
         "hovertemplate": "<b>5 PCs</b><br>Level %{x}<br>XP ratio %{y:,.2f}<extra></extra>",
         "line": {
          "color": "rgb(104,133,92)"
         },
         "mode": "markers+lines",
         "name": "5 PCs",
         "type": "scatter",
         "x": [
          1,
          2,
          3,
          4,
          5,
          6,
          7,
          8,
          9,
          10,
          11,
          12,
          13,
          14,
          15,
          16,
          17,
          18,
          19,
          20
         ],
         "y": [
          1.4666666666666666,
          1.2,
          0.7666666666666667,
          0.6823529411764706,
          0.6742857142857143,
          0.72,
          0.672,
          0.6666666666666666,
          0.6133333333333333,
          0.5777777777777777,
          0.5714285714285714,
          0.6956521739130435,
          0.6518518518518519,
          0.6666666666666666,
          0.7333333333333333,
          0.82,
          0.8,
          0.7407407407407407,
          0.8266666666666667,
          0.75
         ]
        },
        {
         "hovertemplate": "<b>6 PCs</b><br>Level %{x}<br>XP ratio %{y:,.2f}<extra></extra>",
         "line": {
          "color": "rgb(156,156,94)"
         },
         "mode": "markers+lines",
         "name": "6 PCs",
         "type": "scatter",
         "x": [
          1,
          2,
          3,
          4,
          5,
          6,
          7,
          8,
          9,
          10,
          11,
          12,
          13,
          14,
          15,
          16,
          17,
          18,
          19,
          20
         ],
         "y": [
          1.2222222222222223,
          1.2777777777777777,
          0.8055555555555556,
          0.7647058823529411,
          0.6857142857142857,
          0.7,
          0.6666666666666666,
          0.6388888888888888,
          0.5777777777777777,
          0.5555555555555556,
          0.5714285714285714,
          0.6376811594202898,
          0.6172839506172839,
          0.7333333333333333,
          0.7592592592592593,
          0.8333333333333334,
          0.8266666666666667,
          0.7654320987654321,
          0.8333333333333334,
          0.75
         ]
        }
       ],
       "layout": {
        "height": 450,
        "legend": {
         "orientation": "h",
         "tracegroupgap": 0,
         "x": 0,
         "xanchor": "left",
         "y": 1,
         "yanchor": "top"
        },
        "template": {
         "layout": {
          "autosize": false,
          "font": {
           "family": "sans-serif",
           "size": 14
          },
          "hoverlabel": {
           "align": "left"
          },
          "hovermode": "closest",
          "margin": {
           "b": 55,
           "l": 60,
           "pad": 4,
           "r": 25,
           "t": 20
          },
          "template": {
           "data": {
            "bar": [
             {
              "error_x": {
               "color": "#2a3f5f"
              },
              "error_y": {
               "color": "#2a3f5f"
              },
              "marker": {
               "line": {
                "color": "white",
                "width": 0.5
               },
               "pattern": {
                "fillmode": "overlay",
                "size": 10,
                "solidity": 0.2
               }
              },
              "type": "bar"
             }
            ],
            "barpolar": [
             {
              "marker": {
               "line": {
                "color": "white",
                "width": 0.5
               },
               "pattern": {
                "fillmode": "overlay",
                "size": 10,
                "solidity": 0.2
               }
              },
              "type": "barpolar"
             }
            ],
            "carpet": [
             {
              "aaxis": {
               "endlinecolor": "#2a3f5f",
               "gridcolor": "#C8D4E3",
               "linecolor": "#C8D4E3",
               "minorgridcolor": "#C8D4E3",
               "startlinecolor": "#2a3f5f"
              },
              "baxis": {
               "endlinecolor": "#2a3f5f",
               "gridcolor": "#C8D4E3",
               "linecolor": "#C8D4E3",
               "minorgridcolor": "#C8D4E3",
               "startlinecolor": "#2a3f5f"
              },
              "type": "carpet"
             }
            ],
            "choropleth": [
             {
              "colorbar": {
               "outlinewidth": 0,
               "ticks": ""
              },
              "type": "choropleth"
             }
            ],
            "contour": [
             {
              "colorbar": {
               "outlinewidth": 0,
               "ticks": ""
              },
              "colorscale": [
               [
                0,
                "#0d0887"
               ],
               [
                0.1111111111111111,
                "#46039f"
               ],
               [
                0.2222222222222222,
                "#7201a8"
               ],
               [
                0.3333333333333333,
                "#9c179e"
               ],
               [
                0.4444444444444444,
                "#bd3786"
               ],
               [
                0.5555555555555556,
                "#d8576b"
               ],
               [
                0.6666666666666666,
                "#ed7953"
               ],
               [
                0.7777777777777778,
                "#fb9f3a"
               ],
               [
                0.8888888888888888,
                "#fdca26"
               ],
               [
                1,
                "#f0f921"
               ]
              ],
              "type": "contour"
             }
            ],
            "contourcarpet": [
             {
              "colorbar": {
               "outlinewidth": 0,
               "ticks": ""
              },
              "type": "contourcarpet"
             }
            ],
            "heatmap": [
             {
              "colorbar": {
               "outlinewidth": 0,
               "ticks": ""
              },
              "colorscale": [
               [
                0,
                "#0d0887"
               ],
               [
                0.1111111111111111,
                "#46039f"
               ],
               [
                0.2222222222222222,
                "#7201a8"
               ],
               [
                0.3333333333333333,
                "#9c179e"
               ],
               [
                0.4444444444444444,
                "#bd3786"
               ],
               [
                0.5555555555555556,
                "#d8576b"
               ],
               [
                0.6666666666666666,
                "#ed7953"
               ],
               [
                0.7777777777777778,
                "#fb9f3a"
               ],
               [
                0.8888888888888888,
                "#fdca26"
               ],
               [
                1,
                "#f0f921"
               ]
              ],
              "type": "heatmap"
             }
            ],
            "heatmapgl": [
             {
              "colorbar": {
               "outlinewidth": 0,
               "ticks": ""
              },
              "colorscale": [
               [
                0,
                "#0d0887"
               ],
               [
                0.1111111111111111,
                "#46039f"
               ],
               [
                0.2222222222222222,
                "#7201a8"
               ],
               [
                0.3333333333333333,
                "#9c179e"
               ],
               [
                0.4444444444444444,
                "#bd3786"
               ],
               [
                0.5555555555555556,
                "#d8576b"
               ],
               [
                0.6666666666666666,
                "#ed7953"
               ],
               [
                0.7777777777777778,
                "#fb9f3a"
               ],
               [
                0.8888888888888888,
                "#fdca26"
               ],
               [
                1,
                "#f0f921"
               ]
              ],
              "type": "heatmapgl"
             }
            ],
            "histogram": [
             {
              "marker": {
               "pattern": {
                "fillmode": "overlay",
                "size": 10,
                "solidity": 0.2
               }
              },
              "type": "histogram"
             }
            ],
            "histogram2d": [
             {
              "colorbar": {
               "outlinewidth": 0,
               "ticks": ""
              },
              "colorscale": [
               [
                0,
                "#0d0887"
               ],
               [
                0.1111111111111111,
                "#46039f"
               ],
               [
                0.2222222222222222,
                "#7201a8"
               ],
               [
                0.3333333333333333,
                "#9c179e"
               ],
               [
                0.4444444444444444,
                "#bd3786"
               ],
               [
                0.5555555555555556,
                "#d8576b"
               ],
               [
                0.6666666666666666,
                "#ed7953"
               ],
               [
                0.7777777777777778,
                "#fb9f3a"
               ],
               [
                0.8888888888888888,
                "#fdca26"
               ],
               [
                1,
                "#f0f921"
               ]
              ],
              "type": "histogram2d"
             }
            ],
            "histogram2dcontour": [
             {
              "colorbar": {
               "outlinewidth": 0,
               "ticks": ""
              },
              "colorscale": [
               [
                0,
                "#0d0887"
               ],
               [
                0.1111111111111111,
                "#46039f"
               ],
               [
                0.2222222222222222,
                "#7201a8"
               ],
               [
                0.3333333333333333,
                "#9c179e"
               ],
               [
                0.4444444444444444,
                "#bd3786"
               ],
               [
                0.5555555555555556,
                "#d8576b"
               ],
               [
                0.6666666666666666,
                "#ed7953"
               ],
               [
                0.7777777777777778,
                "#fb9f3a"
               ],
               [
                0.8888888888888888,
                "#fdca26"
               ],
               [
                1,
                "#f0f921"
               ]
              ],
              "type": "histogram2dcontour"
             }
            ],
            "mesh3d": [
             {
              "colorbar": {
               "outlinewidth": 0,
               "ticks": ""
              },
              "type": "mesh3d"
             }
            ],
            "parcoords": [
             {
              "line": {
               "colorbar": {
                "outlinewidth": 0,
                "ticks": ""
               }
              },
              "type": "parcoords"
             }
            ],
            "pie": [
             {
              "automargin": true,
              "type": "pie"
             }
            ],
            "scatter": [
             {
              "fillpattern": {
               "fillmode": "overlay",
               "size": 10,
               "solidity": 0.2
              },
              "type": "scatter"
             }
            ],
            "scatter3d": [
             {
              "line": {
               "colorbar": {
                "outlinewidth": 0,
                "ticks": ""
               }
              },
              "marker": {
               "colorbar": {
                "outlinewidth": 0,
                "ticks": ""
               }
              },
              "type": "scatter3d"
             }
            ],
            "scattercarpet": [
             {
              "marker": {
               "colorbar": {
                "outlinewidth": 0,
                "ticks": ""
               }
              },
              "type": "scattercarpet"
             }
            ],
            "scattergeo": [
             {
              "marker": {
               "colorbar": {
                "outlinewidth": 0,
                "ticks": ""
               }
              },
              "type": "scattergeo"
             }
            ],
            "scattergl": [
             {
              "marker": {
               "colorbar": {
                "outlinewidth": 0,
                "ticks": ""
               }
              },
              "type": "scattergl"
             }
            ],
            "scattermapbox": [
             {
              "marker": {
               "colorbar": {
                "outlinewidth": 0,
                "ticks": ""
               }
              },
              "type": "scattermapbox"
             }
            ],
            "scatterpolar": [
             {
              "marker": {
               "colorbar": {
                "outlinewidth": 0,
                "ticks": ""
               }
              },
              "type": "scatterpolar"
             }
            ],
            "scatterpolargl": [
             {
              "marker": {
               "colorbar": {
                "outlinewidth": 0,
                "ticks": ""
               }
              },
              "type": "scatterpolargl"
             }
            ],
            "scatterternary": [
             {
              "marker": {
               "colorbar": {
                "outlinewidth": 0,
                "ticks": ""
               }
              },
              "type": "scatterternary"
             }
            ],
            "surface": [
             {
              "colorbar": {
               "outlinewidth": 0,
               "ticks": ""
              },
              "colorscale": [
               [
                0,
                "#0d0887"
               ],
               [
                0.1111111111111111,
                "#46039f"
               ],
               [
                0.2222222222222222,
                "#7201a8"
               ],
               [
                0.3333333333333333,
                "#9c179e"
               ],
               [
                0.4444444444444444,
                "#bd3786"
               ],
               [
                0.5555555555555556,
                "#d8576b"
               ],
               [
                0.6666666666666666,
                "#ed7953"
               ],
               [
                0.7777777777777778,
                "#fb9f3a"
               ],
               [
                0.8888888888888888,
                "#fdca26"
               ],
               [
                1,
                "#f0f921"
               ]
              ],
              "type": "surface"
             }
            ],
            "table": [
             {
              "cells": {
               "fill": {
                "color": "#EBF0F8"
               },
               "line": {
                "color": "white"
               }
              },
              "header": {
               "fill": {
                "color": "#C8D4E3"
               },
               "line": {
                "color": "white"
               }
              },
              "type": "table"
             }
            ]
           },
           "layout": {
            "annotationdefaults": {
             "arrowcolor": "#2a3f5f",
             "arrowhead": 0,
             "arrowwidth": 1
            },
            "autotypenumbers": "strict",
            "coloraxis": {
             "colorbar": {
              "outlinewidth": 0,
              "ticks": ""
             }
            },
            "colorscale": {
             "diverging": [
              [
               0,
               "#8e0152"
              ],
              [
               0.1,
               "#c51b7d"
              ],
              [
               0.2,
               "#de77ae"
              ],
              [
               0.3,
               "#f1b6da"
              ],
              [
               0.4,
               "#fde0ef"
              ],
              [
               0.5,
               "#f7f7f7"
              ],
              [
               0.6,
               "#e6f5d0"
              ],
              [
               0.7,
               "#b8e186"
              ],
              [
               0.8,
               "#7fbc41"
              ],
              [
               0.9,
               "#4d9221"
              ],
              [
               1,
               "#276419"
              ]
             ],
             "sequential": [
              [
               0,
               "#0d0887"
              ],
              [
               0.1111111111111111,
               "#46039f"
              ],
              [
               0.2222222222222222,
               "#7201a8"
              ],
              [
               0.3333333333333333,
               "#9c179e"
              ],
              [
               0.4444444444444444,
               "#bd3786"
              ],
              [
               0.5555555555555556,
               "#d8576b"
              ],
              [
               0.6666666666666666,
               "#ed7953"
              ],
              [
               0.7777777777777778,
               "#fb9f3a"
              ],
              [
               0.8888888888888888,
               "#fdca26"
              ],
              [
               1,
               "#f0f921"
              ]
             ],
             "sequentialminus": [
              [
               0,
               "#0d0887"
              ],
              [
               0.1111111111111111,
               "#46039f"
              ],
              [
               0.2222222222222222,
               "#7201a8"
              ],
              [
               0.3333333333333333,
               "#9c179e"
              ],
              [
               0.4444444444444444,
               "#bd3786"
              ],
              [
               0.5555555555555556,
               "#d8576b"
              ],
              [
               0.6666666666666666,
               "#ed7953"
              ],
              [
               0.7777777777777778,
               "#fb9f3a"
              ],
              [
               0.8888888888888888,
               "#fdca26"
              ],
              [
               1,
               "#f0f921"
              ]
             ]
            },
            "colorway": [
             "#636efa",
             "#EF553B",
             "#00cc96",
             "#ab63fa",
             "#FFA15A",
             "#19d3f3",
             "#FF6692",
             "#B6E880",
             "#FF97FF",
             "#FECB52"
            ],
            "font": {
             "color": "#2a3f5f"
            },
            "geo": {
             "bgcolor": "white",
             "lakecolor": "white",
             "landcolor": "white",
             "showlakes": true,
             "showland": true,
             "subunitcolor": "#C8D4E3"
            },
            "hoverlabel": {
             "align": "left"
            },
            "hovermode": "closest",
            "mapbox": {
             "style": "light"
            },
            "paper_bgcolor": "white",
            "plot_bgcolor": "white",
            "polar": {
             "angularaxis": {
              "gridcolor": "#EBF0F8",
              "linecolor": "#EBF0F8",
              "ticks": ""
             },
             "bgcolor": "white",
             "radialaxis": {
              "gridcolor": "#EBF0F8",
              "linecolor": "#EBF0F8",
              "ticks": ""
             }
            },
            "scene": {
             "xaxis": {
              "backgroundcolor": "white",
              "gridcolor": "#DFE8F3",
              "gridwidth": 2,
              "linecolor": "#EBF0F8",
              "showbackground": true,
              "ticks": "",
              "zerolinecolor": "#EBF0F8"
             },
             "yaxis": {
              "backgroundcolor": "white",
              "gridcolor": "#DFE8F3",
              "gridwidth": 2,
              "linecolor": "#EBF0F8",
              "showbackground": true,
              "ticks": "",
              "zerolinecolor": "#EBF0F8"
             },
             "zaxis": {
              "backgroundcolor": "white",
              "gridcolor": "#DFE8F3",
              "gridwidth": 2,
              "linecolor": "#EBF0F8",
              "showbackground": true,
              "ticks": "",
              "zerolinecolor": "#EBF0F8"
             }
            },
            "shapedefaults": {
             "line": {
              "color": "#2a3f5f"
             }
            },
            "ternary": {
             "aaxis": {
              "gridcolor": "#DFE8F3",
              "linecolor": "#A2B1C6",
              "ticks": ""
             },
             "baxis": {
              "gridcolor": "#DFE8F3",
              "linecolor": "#A2B1C6",
              "ticks": ""
             },
             "bgcolor": "white",
             "caxis": {
              "gridcolor": "#DFE8F3",
              "linecolor": "#A2B1C6",
              "ticks": ""
             }
            },
            "title": {
             "x": 0.05
            },
            "xaxis": {
             "automargin": true,
             "gridcolor": "#EBF0F8",
             "linecolor": "#EBF0F8",
             "ticks": "",
             "title": {
              "standoff": 15
             },
             "zerolinecolor": "#EBF0F8",
             "zerolinewidth": 2
            },
            "yaxis": {
             "automargin": true,
             "gridcolor": "#EBF0F8",
             "linecolor": "#EBF0F8",
             "ticks": "",
             "title": {
              "standoff": 15
             },
             "zerolinecolor": "#EBF0F8",
             "zerolinewidth": 2
            }
           }
          },
          "xaxis": {
           "automargin": false,
           "linecolor": "#444",
           "linewidth": 2,
           "minor": {
            "tickmode": "linear",
            "ticks": "outside"
           },
           "mirror": true,
           "showline": true,
           "tickmode": "linear",
           "ticks": "outside",
           "zeroline": false
          },
          "yaxis": {
           "automargin": false,
           "linecolor": "#444",
           "linewidth": 2,
           "minor": {
            "tickmode": "linear",
            "ticks": "outside"
           },
           "mirror": true,
           "showline": true,
           "ticks": "outside",
           "zeroline": false
          }
         }
        },
        "width": 600,
        "xaxis": {
         "dtick": 5,
         "minor": {
          "dtick": 1,
          "tick0": 0
         },
         "range": [
          0,
          23
         ],
         "tick0": 0,
         "title": {
          "text": "level"
         }
        },
        "yaxis": {
         "dtick": 0.2,
         "minor": {
          "dtick": 0.1,
          "tick0": 0
         },
         "range": [
          0,
          1
         ],
         "tick0": 0,
         "title": {
          "text": "XP ratio"
         }
        }
       }
      }
     },
     "metadata": {},
     "output_type": "display_data"
    }
   ],
   "source": [
    "# plots solo monster XP relative to party XP (CR + 2)\n",
    "\n",
    "# create figure\n",
    "fig = go.Figure(\n",
    "    layout=go.Layout(\n",
    "        template=TFB_TEMPLATE,\n",
    "        xaxis=dict(\n",
    "            title_text='level',\n",
    "            range=[0,23],\n",
    "            tick0=0, dtick=5,\n",
    "            minor=dict(tick0=0, dtick=1),\n",
    "        ),\n",
    "        yaxis=dict(\n",
    "            title_text='XP ratio',\n",
    "            range=[0,1],\n",
    "            tick0=0, dtick=0.2,\n",
    "            minor=dict(tick0=0, dtick=0.1),\n",
    "        ),\n",
    "        legend=dict(\n",
    "            xanchor='left', yanchor='top',\n",
    "            x=0.00, y=1.00,\n",
    "            orientation='h',\n",
    "            tracegroupgap=0,\n",
    "        )\n",
    "    )\n",
    ")\n",
    "\n",
    "# add difficulty thresholds\n",
    "diffs = ['Easy XP', 'Medium XP', 'Hard XP', 'Deadly XP']\n",
    "colors = ['#1F77B4','#FF7F0E', '#2CA02C', '#D62728']\n",
    "for diff, color in zip(diffs, colors):\n",
    "    fig.add_trace(go.Scatter(\n",
    "        x=dfP.index.to_numpy(), \n",
    "        y=2*dfP[diff]/dfP['Daily XP'],\n",
    "        mode='lines', \n",
    "        name=diff,\n",
    "        showlegend=False,\n",
    "        line=dict(color=color, dash='dash'),\n",
    "        hoverinfo='skip',\n",
    "    ))\n",
    "    fig.add_trace(go.Scatter(\n",
    "        x=np.array([20.5]),\n",
    "        y=np.array(np.mean(2*dfP[diff]/dfP['Daily XP'])),\n",
    "        mode='text',\n",
    "        showlegend=False,\n",
    "        text=[diff.split(' ')[0]],\n",
    "        textposition='middle right',\n",
    "        textfont=dict(color=color),\n",
    "    ))\n",
    "\n",
    "# load solo monster data\n",
    "dfS = pd.read_csv('./xgte-solo.csv')\n",
    "colors = ['rgb(98,83,119)','rgb(104,133,92)','rgb(156,156,94)']\n",
    "for n_pcs, color in zip([4,5,6], colors):\n",
    "    col = f'{n_pcs} PCs'\n",
    "    dfS[f'{col} - PC XP']  = dfS.apply(lambda row: 0.5*n_pcs*dfP.at[row['PC level'], 'Daily XP'], axis=1)\n",
    "    dfS[f'{col} - NPC XP']  = dfS.apply(lambda row: dfD.at[row[col]+2, 'XP'], axis=1)\n",
    "    dfS[f'{col} - XP ratio']  = dfS[f'{col} - NPC XP']/dfS[f'{col} - PC XP']\n",
    "    fig.add_trace(go.Scatter(\n",
    "        x=dfS['PC level'], \n",
    "        y=dfS[f'{col} - XP ratio'],\n",
    "        mode='markers+lines', \n",
    "        line=dict(color=color),\n",
    "        name=col,\n",
    "        hovertemplate= \n",
    "            f'<b>{col}</b><br>'\n",
    "            'Level %{x}<br>'+\n",
    "            'XP ratio %{y:,.2f}' + \n",
    "            '<extra></extra>'\n",
    "    ))\n",
    "\n",
    "# show figure\n",
    "fig.update_layout(width=600, height=450)\n",
    "fig.show(config=TFB_CONFIG)\n",
    "\n",
    "# save figures\n",
    "if SAVEFIGS:\n",
    "    fig.update_layout(autosize=True, width=None, height=None)\n",
    "    save_fig_html(fig, format='large', name='fig-solo-monster-xp-ratios-harder-large', style='aspect-ratio: 600/500;')\n",
    "    save_fig_html(fig, format='small', name='fig-solo-monster-xp-ratios-harder-small', style='aspect-ratio: 600/500;')"
   ]
  },
  {
   "cell_type": "code",
   "execution_count": 94,
   "metadata": {},
   "outputs": [
    {
     "data": {
      "application/vnd.plotly.v1+json": {
       "config": {
        "autosizable": true,
        "displayModeBar": "hover",
        "displaylogo": false,
        "modeBarButtonsToRemove": [
         "select2d",
         "lasso2d",
         "zoom2d",
         "zoomIn2d",
         "zoomOut2d",
         "pan2d",
         "autoScale2d",
         "hoverClosestCartesian",
         "hoverCompareCartesian",
         "toggleSpikelines",
         "resetScale2d"
        ],
        "plotlyServerURL": "https://plot.ly",
        "responsive": true,
        "showAxisDragHandles": false,
        "toImageButtonOptions": {
         "filename": "tfb-plot",
         "format": "png",
         "height": 450,
         "scale": 2,
         "width": 600
        }
       },
       "data": [
        {
         "hoverinfo": "skip",
         "line": {
          "color": "#1F77B4",
          "dash": "dash"
         },
         "mode": "lines",
         "name": "Easy XP",
         "showlegend": false,
         "type": "scatter",
         "x": [
          1,
          2,
          3,
          4,
          5,
          6,
          7,
          8,
          9,
          10,
          11,
          12,
          13,
          14,
          15,
          16,
          17,
          18,
          19,
          20
         ],
         "y": [
          0.16666666666666666,
          0.16666666666666666,
          0.125,
          0.14705882352941177,
          0.14285714285714285,
          0.15,
          0.14,
          0.15,
          0.14666666666666667,
          0.13333333333333333,
          0.1523809523809524,
          0.17391304347826086,
          0.16296296296296298,
          0.16666666666666666,
          0.15555555555555556,
          0.16,
          0.16,
          0.15555555555555556,
          0.16,
          0.14
         ]
        },
        {
         "mode": "text",
         "showlegend": false,
         "text": [
          "Easy"
         ],
         "textfont": {
          "color": "#1F77B4"
         },
         "textposition": "middle right",
         "type": "scatter",
         "x": [
          20.5
         ],
         "y": [
          0.15276420181599212
         ]
        },
        {
         "hoverinfo": "skip",
         "line": {
          "color": "#FF7F0E",
          "dash": "dash"
         },
         "mode": "lines",
         "name": "Medium XP",
         "showlegend": false,
         "type": "scatter",
         "x": [
          1,
          2,
          3,
          4,
          5,
          6,
          7,
          8,
          9,
          10,
          11,
          12,
          13,
          14,
          15,
          16,
          17,
          18,
          19,
          20
         ],
         "y": [
          0.3333333333333333,
          0.3333333333333333,
          0.25,
          0.29411764705882354,
          0.2857142857142857,
          0.3,
          0.3,
          0.3,
          0.29333333333333333,
          0.26666666666666666,
          0.3047619047619048,
          0.34782608695652173,
          0.32592592592592595,
          0.3333333333333333,
          0.3111111111111111,
          0.32,
          0.312,
          0.3111111111111111,
          0.32666666666666666,
          0.285
         ]
        },
        {
         "mode": "text",
         "showlegend": false,
         "text": [
          "Medium"
         ],
         "textfont": {
          "color": "#FF7F0E"
         },
         "textposition": "middle right",
         "type": "scatter",
         "x": [
          20.5
         ],
         "y": [
          0.3067117369653175
         ]
        },
        {
         "hoverinfo": "skip",
         "line": {
          "color": "#2CA02C",
          "dash": "dash"
         },
         "mode": "lines",
         "name": "Hard XP",
         "showlegend": false,
         "type": "scatter",
         "x": [
          1,
          2,
          3,
          4,
          5,
          6,
          7,
          8,
          9,
          10,
          11,
          12,
          13,
          14,
          15,
          16,
          17,
          18,
          19,
          20
         ],
         "y": [
          0.5,
          0.5,
          0.375,
          0.4411764705882353,
          0.42857142857142855,
          0.45,
          0.44,
          0.4666666666666667,
          0.4266666666666667,
          0.4222222222222222,
          0.45714285714285713,
          0.5217391304347826,
          0.5037037037037037,
          0.5066666666666667,
          0.4777777777777778,
          0.48,
          0.472,
          0.4666666666666667,
          0.4866666666666667,
          0.425
         ]
        },
        {
         "mode": "text",
         "showlegend": false,
         "text": [
          "Hard"
         ],
         "textfont": {
          "color": "#2CA02C"
         },
         "textposition": "middle right",
         "type": "scatter",
         "x": [
          20.5
         ],
         "y": [
          0.46238334618871707
         ]
        },
        {
         "hoverinfo": "skip",
         "line": {
          "color": "#D62728",
          "dash": "dash"
         },
         "mode": "lines",
         "name": "Deadly XP",
         "showlegend": false,
         "type": "scatter",
         "x": [
          1,
          2,
          3,
          4,
          5,
          6,
          7,
          8,
          9,
          10,
          11,
          12,
          13,
          14,
          15,
          16,
          17,
          18,
          19,
          20
         ],
         "y": [
          0.6666666666666666,
          0.6666666666666666,
          0.6666666666666666,
          0.5882352941176471,
          0.6285714285714286,
          0.7,
          0.68,
          0.7,
          0.64,
          0.6222222222222222,
          0.6857142857142857,
          0.782608695652174,
          0.7555555555555555,
          0.76,
          0.7111111111111111,
          0.72,
          0.704,
          0.7037037037037037,
          0.7266666666666667,
          0.635
         ]
        },
        {
         "mode": "text",
         "showlegend": false,
         "text": [
          "Deadly"
         ],
         "textfont": {
          "color": "#D62728"
         },
         "textposition": "middle right",
         "type": "scatter",
         "x": [
          20.5
         ],
         "y": [
          0.6871694481657398
         ]
        },
        {
         "hovertemplate": "<b>4 PCs</b><br>Level %{x}<br>XP ratio %{y:,.2f}<extra></extra>",
         "line": {
          "color": "rgb(98,83,119)"
         },
         "mode": "markers+lines",
         "name": "4 PCs",
         "type": "scatter",
         "x": [
          4,
          5,
          6,
          7,
          8,
          9,
          10,
          11,
          12,
          13,
          14,
          15,
          16,
          17,
          18,
          19,
          20
         ],
         "y": [
          0.058823529411764705,
          0.15714285714285714,
          0.225,
          0.23,
          0.24166666666666667,
          0.26,
          0.2777777777777778,
          0.28095238095238095,
          0.3652173913043478,
          0.37037037037037035,
          0.38333333333333336,
          0.3611111111111111,
          0.375,
          0.36,
          0.3333333333333333,
          0.3333333333333333,
          0.275
         ]
        },
        {
         "hovertemplate": "<b>5 PCs</b><br>Level %{x}<br>XP ratio %{y:,.2f}<extra></extra>",
         "line": {
          "color": "rgb(104,133,92)"
         },
         "mode": "markers+lines",
         "name": "5 PCs",
         "type": "scatter",
         "x": [
          4,
          5,
          6,
          7,
          8,
          9,
          10,
          11,
          12,
          13,
          14,
          15,
          16,
          17,
          18,
          19,
          20
         ],
         "y": [
          0.10588235294117647,
          0.2057142857142857,
          0.23,
          0.232,
          0.26,
          0.26666666666666666,
          0.26222222222222225,
          0.2742857142857143,
          0.34782608695652173,
          0.34074074074074073,
          0.3466666666666667,
          0.3333333333333333,
          0.36,
          0.32,
          0.2962962962962963,
          0.29333333333333333,
          0.25
         ]
        },
        {
         "hovertemplate": "<b>6 PCs</b><br>Level %{x}<br>XP ratio %{y:,.2f}<extra></extra>",
         "line": {
          "color": "rgb(156,156,94)"
         },
         "mode": "markers+lines",
         "name": "6 PCs",
         "type": "scatter",
         "x": [
          4,
          5,
          6,
          7,
          8,
          9,
          10,
          11,
          12,
          13,
          14,
          15,
          16,
          17,
          18,
          19,
          20
         ],
         "y": [
          0.13725490196078433,
          0.21904761904761905,
          0.24166666666666667,
          0.26,
          0.2777777777777778,
          0.26222222222222225,
          0.26666666666666666,
          0.26666666666666666,
          0.3333333333333333,
          0.32098765432098764,
          0.3333333333333333,
          0.3333333333333333,
          0.3333333333333333,
          0.29333333333333333,
          0.2716049382716049,
          0.2777777777777778,
          0.275
         ]
        }
       ],
       "layout": {
        "height": 450,
        "legend": {
         "orientation": "h",
         "tracegroupgap": 0,
         "x": 0,
         "xanchor": "left",
         "y": 1,
         "yanchor": "top"
        },
        "template": {
         "layout": {
          "autosize": false,
          "font": {
           "family": "sans-serif",
           "size": 14
          },
          "hoverlabel": {
           "align": "left"
          },
          "hovermode": "closest",
          "margin": {
           "b": 55,
           "l": 60,
           "pad": 4,
           "r": 25,
           "t": 20
          },
          "template": {
           "data": {
            "bar": [
             {
              "error_x": {
               "color": "#2a3f5f"
              },
              "error_y": {
               "color": "#2a3f5f"
              },
              "marker": {
               "line": {
                "color": "white",
                "width": 0.5
               },
               "pattern": {
                "fillmode": "overlay",
                "size": 10,
                "solidity": 0.2
               }
              },
              "type": "bar"
             }
            ],
            "barpolar": [
             {
              "marker": {
               "line": {
                "color": "white",
                "width": 0.5
               },
               "pattern": {
                "fillmode": "overlay",
                "size": 10,
                "solidity": 0.2
               }
              },
              "type": "barpolar"
             }
            ],
            "carpet": [
             {
              "aaxis": {
               "endlinecolor": "#2a3f5f",
               "gridcolor": "#C8D4E3",
               "linecolor": "#C8D4E3",
               "minorgridcolor": "#C8D4E3",
               "startlinecolor": "#2a3f5f"
              },
              "baxis": {
               "endlinecolor": "#2a3f5f",
               "gridcolor": "#C8D4E3",
               "linecolor": "#C8D4E3",
               "minorgridcolor": "#C8D4E3",
               "startlinecolor": "#2a3f5f"
              },
              "type": "carpet"
             }
            ],
            "choropleth": [
             {
              "colorbar": {
               "outlinewidth": 0,
               "ticks": ""
              },
              "type": "choropleth"
             }
            ],
            "contour": [
             {
              "colorbar": {
               "outlinewidth": 0,
               "ticks": ""
              },
              "colorscale": [
               [
                0,
                "#0d0887"
               ],
               [
                0.1111111111111111,
                "#46039f"
               ],
               [
                0.2222222222222222,
                "#7201a8"
               ],
               [
                0.3333333333333333,
                "#9c179e"
               ],
               [
                0.4444444444444444,
                "#bd3786"
               ],
               [
                0.5555555555555556,
                "#d8576b"
               ],
               [
                0.6666666666666666,
                "#ed7953"
               ],
               [
                0.7777777777777778,
                "#fb9f3a"
               ],
               [
                0.8888888888888888,
                "#fdca26"
               ],
               [
                1,
                "#f0f921"
               ]
              ],
              "type": "contour"
             }
            ],
            "contourcarpet": [
             {
              "colorbar": {
               "outlinewidth": 0,
               "ticks": ""
              },
              "type": "contourcarpet"
             }
            ],
            "heatmap": [
             {
              "colorbar": {
               "outlinewidth": 0,
               "ticks": ""
              },
              "colorscale": [
               [
                0,
                "#0d0887"
               ],
               [
                0.1111111111111111,
                "#46039f"
               ],
               [
                0.2222222222222222,
                "#7201a8"
               ],
               [
                0.3333333333333333,
                "#9c179e"
               ],
               [
                0.4444444444444444,
                "#bd3786"
               ],
               [
                0.5555555555555556,
                "#d8576b"
               ],
               [
                0.6666666666666666,
                "#ed7953"
               ],
               [
                0.7777777777777778,
                "#fb9f3a"
               ],
               [
                0.8888888888888888,
                "#fdca26"
               ],
               [
                1,
                "#f0f921"
               ]
              ],
              "type": "heatmap"
             }
            ],
            "heatmapgl": [
             {
              "colorbar": {
               "outlinewidth": 0,
               "ticks": ""
              },
              "colorscale": [
               [
                0,
                "#0d0887"
               ],
               [
                0.1111111111111111,
                "#46039f"
               ],
               [
                0.2222222222222222,
                "#7201a8"
               ],
               [
                0.3333333333333333,
                "#9c179e"
               ],
               [
                0.4444444444444444,
                "#bd3786"
               ],
               [
                0.5555555555555556,
                "#d8576b"
               ],
               [
                0.6666666666666666,
                "#ed7953"
               ],
               [
                0.7777777777777778,
                "#fb9f3a"
               ],
               [
                0.8888888888888888,
                "#fdca26"
               ],
               [
                1,
                "#f0f921"
               ]
              ],
              "type": "heatmapgl"
             }
            ],
            "histogram": [
             {
              "marker": {
               "pattern": {
                "fillmode": "overlay",
                "size": 10,
                "solidity": 0.2
               }
              },
              "type": "histogram"
             }
            ],
            "histogram2d": [
             {
              "colorbar": {
               "outlinewidth": 0,
               "ticks": ""
              },
              "colorscale": [
               [
                0,
                "#0d0887"
               ],
               [
                0.1111111111111111,
                "#46039f"
               ],
               [
                0.2222222222222222,
                "#7201a8"
               ],
               [
                0.3333333333333333,
                "#9c179e"
               ],
               [
                0.4444444444444444,
                "#bd3786"
               ],
               [
                0.5555555555555556,
                "#d8576b"
               ],
               [
                0.6666666666666666,
                "#ed7953"
               ],
               [
                0.7777777777777778,
                "#fb9f3a"
               ],
               [
                0.8888888888888888,
                "#fdca26"
               ],
               [
                1,
                "#f0f921"
               ]
              ],
              "type": "histogram2d"
             }
            ],
            "histogram2dcontour": [
             {
              "colorbar": {
               "outlinewidth": 0,
               "ticks": ""
              },
              "colorscale": [
               [
                0,
                "#0d0887"
               ],
               [
                0.1111111111111111,
                "#46039f"
               ],
               [
                0.2222222222222222,
                "#7201a8"
               ],
               [
                0.3333333333333333,
                "#9c179e"
               ],
               [
                0.4444444444444444,
                "#bd3786"
               ],
               [
                0.5555555555555556,
                "#d8576b"
               ],
               [
                0.6666666666666666,
                "#ed7953"
               ],
               [
                0.7777777777777778,
                "#fb9f3a"
               ],
               [
                0.8888888888888888,
                "#fdca26"
               ],
               [
                1,
                "#f0f921"
               ]
              ],
              "type": "histogram2dcontour"
             }
            ],
            "mesh3d": [
             {
              "colorbar": {
               "outlinewidth": 0,
               "ticks": ""
              },
              "type": "mesh3d"
             }
            ],
            "parcoords": [
             {
              "line": {
               "colorbar": {
                "outlinewidth": 0,
                "ticks": ""
               }
              },
              "type": "parcoords"
             }
            ],
            "pie": [
             {
              "automargin": true,
              "type": "pie"
             }
            ],
            "scatter": [
             {
              "fillpattern": {
               "fillmode": "overlay",
               "size": 10,
               "solidity": 0.2
              },
              "type": "scatter"
             }
            ],
            "scatter3d": [
             {
              "line": {
               "colorbar": {
                "outlinewidth": 0,
                "ticks": ""
               }
              },
              "marker": {
               "colorbar": {
                "outlinewidth": 0,
                "ticks": ""
               }
              },
              "type": "scatter3d"
             }
            ],
            "scattercarpet": [
             {
              "marker": {
               "colorbar": {
                "outlinewidth": 0,
                "ticks": ""
               }
              },
              "type": "scattercarpet"
             }
            ],
            "scattergeo": [
             {
              "marker": {
               "colorbar": {
                "outlinewidth": 0,
                "ticks": ""
               }
              },
              "type": "scattergeo"
             }
            ],
            "scattergl": [
             {
              "marker": {
               "colorbar": {
                "outlinewidth": 0,
                "ticks": ""
               }
              },
              "type": "scattergl"
             }
            ],
            "scattermapbox": [
             {
              "marker": {
               "colorbar": {
                "outlinewidth": 0,
                "ticks": ""
               }
              },
              "type": "scattermapbox"
             }
            ],
            "scatterpolar": [
             {
              "marker": {
               "colorbar": {
                "outlinewidth": 0,
                "ticks": ""
               }
              },
              "type": "scatterpolar"
             }
            ],
            "scatterpolargl": [
             {
              "marker": {
               "colorbar": {
                "outlinewidth": 0,
                "ticks": ""
               }
              },
              "type": "scatterpolargl"
             }
            ],
            "scatterternary": [
             {
              "marker": {
               "colorbar": {
                "outlinewidth": 0,
                "ticks": ""
               }
              },
              "type": "scatterternary"
             }
            ],
            "surface": [
             {
              "colorbar": {
               "outlinewidth": 0,
               "ticks": ""
              },
              "colorscale": [
               [
                0,
                "#0d0887"
               ],
               [
                0.1111111111111111,
                "#46039f"
               ],
               [
                0.2222222222222222,
                "#7201a8"
               ],
               [
                0.3333333333333333,
                "#9c179e"
               ],
               [
                0.4444444444444444,
                "#bd3786"
               ],
               [
                0.5555555555555556,
                "#d8576b"
               ],
               [
                0.6666666666666666,
                "#ed7953"
               ],
               [
                0.7777777777777778,
                "#fb9f3a"
               ],
               [
                0.8888888888888888,
                "#fdca26"
               ],
               [
                1,
                "#f0f921"
               ]
              ],
              "type": "surface"
             }
            ],
            "table": [
             {
              "cells": {
               "fill": {
                "color": "#EBF0F8"
               },
               "line": {
                "color": "white"
               }
              },
              "header": {
               "fill": {
                "color": "#C8D4E3"
               },
               "line": {
                "color": "white"
               }
              },
              "type": "table"
             }
            ]
           },
           "layout": {
            "annotationdefaults": {
             "arrowcolor": "#2a3f5f",
             "arrowhead": 0,
             "arrowwidth": 1
            },
            "autotypenumbers": "strict",
            "coloraxis": {
             "colorbar": {
              "outlinewidth": 0,
              "ticks": ""
             }
            },
            "colorscale": {
             "diverging": [
              [
               0,
               "#8e0152"
              ],
              [
               0.1,
               "#c51b7d"
              ],
              [
               0.2,
               "#de77ae"
              ],
              [
               0.3,
               "#f1b6da"
              ],
              [
               0.4,
               "#fde0ef"
              ],
              [
               0.5,
               "#f7f7f7"
              ],
              [
               0.6,
               "#e6f5d0"
              ],
              [
               0.7,
               "#b8e186"
              ],
              [
               0.8,
               "#7fbc41"
              ],
              [
               0.9,
               "#4d9221"
              ],
              [
               1,
               "#276419"
              ]
             ],
             "sequential": [
              [
               0,
               "#0d0887"
              ],
              [
               0.1111111111111111,
               "#46039f"
              ],
              [
               0.2222222222222222,
               "#7201a8"
              ],
              [
               0.3333333333333333,
               "#9c179e"
              ],
              [
               0.4444444444444444,
               "#bd3786"
              ],
              [
               0.5555555555555556,
               "#d8576b"
              ],
              [
               0.6666666666666666,
               "#ed7953"
              ],
              [
               0.7777777777777778,
               "#fb9f3a"
              ],
              [
               0.8888888888888888,
               "#fdca26"
              ],
              [
               1,
               "#f0f921"
              ]
             ],
             "sequentialminus": [
              [
               0,
               "#0d0887"
              ],
              [
               0.1111111111111111,
               "#46039f"
              ],
              [
               0.2222222222222222,
               "#7201a8"
              ],
              [
               0.3333333333333333,
               "#9c179e"
              ],
              [
               0.4444444444444444,
               "#bd3786"
              ],
              [
               0.5555555555555556,
               "#d8576b"
              ],
              [
               0.6666666666666666,
               "#ed7953"
              ],
              [
               0.7777777777777778,
               "#fb9f3a"
              ],
              [
               0.8888888888888888,
               "#fdca26"
              ],
              [
               1,
               "#f0f921"
              ]
             ]
            },
            "colorway": [
             "#636efa",
             "#EF553B",
             "#00cc96",
             "#ab63fa",
             "#FFA15A",
             "#19d3f3",
             "#FF6692",
             "#B6E880",
             "#FF97FF",
             "#FECB52"
            ],
            "font": {
             "color": "#2a3f5f"
            },
            "geo": {
             "bgcolor": "white",
             "lakecolor": "white",
             "landcolor": "white",
             "showlakes": true,
             "showland": true,
             "subunitcolor": "#C8D4E3"
            },
            "hoverlabel": {
             "align": "left"
            },
            "hovermode": "closest",
            "mapbox": {
             "style": "light"
            },
            "paper_bgcolor": "white",
            "plot_bgcolor": "white",
            "polar": {
             "angularaxis": {
              "gridcolor": "#EBF0F8",
              "linecolor": "#EBF0F8",
              "ticks": ""
             },
             "bgcolor": "white",
             "radialaxis": {
              "gridcolor": "#EBF0F8",
              "linecolor": "#EBF0F8",
              "ticks": ""
             }
            },
            "scene": {
             "xaxis": {
              "backgroundcolor": "white",
              "gridcolor": "#DFE8F3",
              "gridwidth": 2,
              "linecolor": "#EBF0F8",
              "showbackground": true,
              "ticks": "",
              "zerolinecolor": "#EBF0F8"
             },
             "yaxis": {
              "backgroundcolor": "white",
              "gridcolor": "#DFE8F3",
              "gridwidth": 2,
              "linecolor": "#EBF0F8",
              "showbackground": true,
              "ticks": "",
              "zerolinecolor": "#EBF0F8"
             },
             "zaxis": {
              "backgroundcolor": "white",
              "gridcolor": "#DFE8F3",
              "gridwidth": 2,
              "linecolor": "#EBF0F8",
              "showbackground": true,
              "ticks": "",
              "zerolinecolor": "#EBF0F8"
             }
            },
            "shapedefaults": {
             "line": {
              "color": "#2a3f5f"
             }
            },
            "ternary": {
             "aaxis": {
              "gridcolor": "#DFE8F3",
              "linecolor": "#A2B1C6",
              "ticks": ""
             },
             "baxis": {
              "gridcolor": "#DFE8F3",
              "linecolor": "#A2B1C6",
              "ticks": ""
             },
             "bgcolor": "white",
             "caxis": {
              "gridcolor": "#DFE8F3",
              "linecolor": "#A2B1C6",
              "ticks": ""
             }
            },
            "title": {
             "x": 0.05
            },
            "xaxis": {
             "automargin": true,
             "gridcolor": "#EBF0F8",
             "linecolor": "#EBF0F8",
             "ticks": "",
             "title": {
              "standoff": 15
             },
             "zerolinecolor": "#EBF0F8",
             "zerolinewidth": 2
            },
            "yaxis": {
             "automargin": true,
             "gridcolor": "#EBF0F8",
             "linecolor": "#EBF0F8",
             "ticks": "",
             "title": {
              "standoff": 15
             },
             "zerolinecolor": "#EBF0F8",
             "zerolinewidth": 2
            }
           }
          },
          "xaxis": {
           "automargin": false,
           "linecolor": "#444",
           "linewidth": 2,
           "minor": {
            "tickmode": "linear",
            "ticks": "outside"
           },
           "mirror": true,
           "showline": true,
           "tickmode": "linear",
           "ticks": "outside",
           "zeroline": false
          },
          "yaxis": {
           "automargin": false,
           "linecolor": "#444",
           "linewidth": 2,
           "minor": {
            "tickmode": "linear",
            "ticks": "outside"
           },
           "mirror": true,
           "showline": true,
           "ticks": "outside",
           "zeroline": false
          }
         }
        },
        "width": 600,
        "xaxis": {
         "dtick": 5,
         "minor": {
          "dtick": 1,
          "tick0": 0
         },
         "range": [
          0,
          23
         ],
         "tick0": 0,
         "title": {
          "text": "level"
         }
        },
        "yaxis": {
         "dtick": 0.2,
         "minor": {
          "dtick": 0.1,
          "tick0": 0
         },
         "range": [
          0,
          1
         ],
         "tick0": 0,
         "title": {
          "text": "XP ratio"
         }
        }
       }
      }
     },
     "metadata": {},
     "output_type": "display_data"
    }
   ],
   "source": [
    "# plots solo monster XP relative to party XP (CR + 2)\n",
    "\n",
    "# create figure\n",
    "fig = go.Figure(\n",
    "    layout=go.Layout(\n",
    "        template=TFB_TEMPLATE,\n",
    "        xaxis=dict(\n",
    "            title_text='level',\n",
    "            range=[0,23],\n",
    "            tick0=0, dtick=5,\n",
    "            minor=dict(tick0=0, dtick=1),\n",
    "        ),\n",
    "        yaxis=dict(\n",
    "            title_text='XP ratio',\n",
    "            range=[0,1],\n",
    "            tick0=0, dtick=0.2,\n",
    "            minor=dict(tick0=0, dtick=0.1),\n",
    "        ),\n",
    "        legend=dict(\n",
    "            xanchor='left', yanchor='top',\n",
    "            x=0.00, y=1.00,\n",
    "            orientation='h',\n",
    "            tracegroupgap=0,\n",
    "        )\n",
    "    )\n",
    ")\n",
    "\n",
    "# add difficulty thresholds\n",
    "diffs = ['Easy XP', 'Medium XP', 'Hard XP', 'Deadly XP']\n",
    "colors = ['#1F77B4','#FF7F0E', '#2CA02C', '#D62728']\n",
    "for diff, color in zip(diffs, colors):\n",
    "    fig.add_trace(go.Scatter(\n",
    "        x=dfP.index.to_numpy(), \n",
    "        y=2*dfP[diff]/dfP['Daily XP'],\n",
    "        mode='lines', \n",
    "        name=diff,\n",
    "        showlegend=False,\n",
    "        line=dict(color=color, dash='dash'),\n",
    "        hoverinfo='skip',\n",
    "    ))\n",
    "    fig.add_trace(go.Scatter(\n",
    "        x=np.array([20.5]),\n",
    "        y=np.array(np.mean(2*dfP[diff]/dfP['Daily XP'])),\n",
    "        mode='text',\n",
    "        showlegend=False,\n",
    "        text=[diff.split(' ')[0]],\n",
    "        textposition='middle right',\n",
    "        textfont=dict(color=color),\n",
    "    ))\n",
    "\n",
    "# load solo monster data\n",
    "dfS = pd.read_csv('./xgte-solo.csv')\n",
    "dfS = dfS[dfS['PC level'].between(4,20)]\n",
    "colors = ['rgb(98,83,119)','rgb(104,133,92)','rgb(156,156,94)']\n",
    "for n_pcs, color in zip([4,5,6], colors):\n",
    "    col = f'{n_pcs} PCs'\n",
    "    dfS[f'{col} - PC XP'] = dfS.apply(lambda row: 0.5*n_pcs*dfP.at[row['PC level'], 'Daily XP'], axis=1)\n",
    "    dfS[f'{col} - NPC XP'] = dfS.apply(lambda row: dfD.at[max(row[col]-3, 0.5), 'XP'], axis=1)\n",
    "    dfS[f'{col} - XP ratio'] = dfS[f'{col} - NPC XP']/dfS[f'{col} - PC XP']\n",
    "    fig.add_trace(go.Scatter(\n",
    "        x=dfS['PC level'], \n",
    "        y=dfS[f'{col} - XP ratio'],\n",
    "        mode='markers+lines', \n",
    "        line=dict(color=color),\n",
    "        name=col,\n",
    "        hovertemplate= \n",
    "            f'<b>{col}</b><br>'\n",
    "            'Level %{x}<br>'+\n",
    "            'XP ratio %{y:,.2f}' + \n",
    "            '<extra></extra>'\n",
    "    ))\n",
    "\n",
    "# show figure\n",
    "fig.update_layout(width=600, height=450)\n",
    "fig.show(config=TFB_CONFIG)\n",
    "\n",
    "# save figures\n",
    "if SAVEFIGS:\n",
    "    fig.update_layout(autosize=True, width=None, height=None)\n",
    "    save_fig_html(fig, format='large', name='fig-solo-monster-xp-ratios-easier-large', style='aspect-ratio: 600/500;')\n",
    "    save_fig_html(fig, format='small', name='fig-solo-monster-xp-ratios-easier-small', style='aspect-ratio: 600/500;')"
   ]
  },
  {
   "cell_type": "code",
   "execution_count": 54,
   "metadata": {},
   "outputs": [
    {
     "name": "stdout",
     "output_type": "stream",
     "text": [
      "['1:2', '1:1', '3:1', '5:1', '1:3', '6:1', '1:5', '2:1', '4:1', '1:8', '1:4', '1:12', '1:9', '1:6', '1:7', '1:10']\n",
      "[2.0, 1.0, 0.3333333333333333, 0.2, 3.0, 0.16666666666666666, 5.0, 0.5, 0.25, 8.0, 4.0, 12.0, 9.0, 6.0, 7.0, 10.0]\n"
     ]
    }
   ],
   "source": [
    "print(list(dfX['ratio'].unique()))\n",
    "print(list(dfX['decimal'].unique()))\n",
    "\n",
    "tickvals=[2.0, 1.0, 0.3333333333333333, 0.2, 3.0, 0.16666666666666666, 5.0, 0.5, 0.25, 8.0, 4.0, 12.0, 9.0, 6.0, 7.0, 10.0]\n",
    "ticktext=['1:2', '1:1', '3:1', '5:1', '1:3', '6:1', '1:5', '2:1', '4:1', '1:8', '1:4', '1:12', '1:9', '1:6', '1:7', '1:10']\n",
    "\n"
   ]
  },
  {
   "cell_type": "code",
   "execution_count": 92,
   "metadata": {},
   "outputs": [
    {
     "data": {
      "application/vnd.plotly.v1+json": {
       "config": {
        "autosizable": true,
        "displayModeBar": "hover",
        "displaylogo": false,
        "modeBarButtonsToRemove": [
         "select2d",
         "lasso2d",
         "zoom2d",
         "zoomIn2d",
         "zoomOut2d",
         "pan2d",
         "autoScale2d",
         "hoverClosestCartesian",
         "hoverCompareCartesian",
         "toggleSpikelines",
         "resetScale2d"
        ],
        "plotlyServerURL": "https://plot.ly",
        "responsive": true,
        "showAxisDragHandles": false,
        "toImageButtonOptions": {
         "filename": "tfb-plot",
         "format": "png",
         "height": 450,
         "scale": 2,
         "width": 600
        }
       },
       "data": [
        {
         "hovertemplate": "%{hovertext}<extra></extra>",
         "hovertext": [
          "<b>PCs : Monsters</b><br>XGtE 1:2<br>Calculated 1:1.5",
          "<b>PCs : Monsters</b><br>XGtE 1:1<br>Calculated 1:0.8",
          "<b>PCs : Monsters</b><br>XGtE 3:1<br>Calculated 2.7:1",
          "<b>PCs : Monsters</b><br>XGtE 5:1<br>Calculated 5.3:1",
          "<b>PCs : Monsters</b><br>XGtE 1:3<br>Calculated 1:3.0",
          "<b>PCs : Monsters</b><br>XGtE 1:2<br>Calculated 1:1.5",
          "<b>PCs : Monsters</b><br>XGtE 1:1<br>Calculated 1:0.8",
          "<b>PCs : Monsters</b><br>XGtE 3:1<br>Calculated 2.7:1",
          "<b>PCs : Monsters</b><br>XGtE 6:1<br>Calculated 6.0:1",
          "<b>PCs : Monsters</b><br>XGtE 1:5<br>Calculated 1:4.5",
          "<b>PCs : Monsters</b><br>XGtE 1:2<br>Calculated 1:2.2",
          "<b>PCs : Monsters</b><br>XGtE 1:1<br>Calculated 1:1.1",
          "<b>PCs : Monsters</b><br>XGtE 2:1<br>Calculated 1.8:1",
          "<b>PCs : Monsters</b><br>XGtE 4:1<br>Calculated 4.0:1",
          "<b>PCs : Monsters</b><br>XGtE 6:1<br>Calculated 6.2:1",
          "<b>PCs : Monsters</b><br>XGtE 1:8<br>Calculated 1:7.5",
          "<b>PCs : Monsters</b><br>XGtE 1:4<br>Calculated 1:3.8",
          "<b>PCs : Monsters</b><br>XGtE 1:2<br>Calculated 1:1.9",
          "<b>PCs : Monsters</b><br>XGtE 1:1<br>Calculated 1:0.9",
          "<b>PCs : Monsters</b><br>XGtE 2:1<br>Calculated 2.4:1",
          "<b>PCs : Monsters</b><br>XGtE 4:1<br>Calculated 3.7:1",
          "<b>PCs : Monsters</b><br>XGtE 6:1<br>Calculated 5.9:1",
          "<b>PCs : Monsters</b><br>XGtE 1:12<br>Calculated 1:12.0",
          "<b>PCs : Monsters</b><br>XGtE 1:8<br>Calculated 1:7.5",
          "<b>PCs : Monsters</b><br>XGtE 1:4<br>Calculated 1:3.8",
          "<b>PCs : Monsters</b><br>XGtE 1:2<br>Calculated 1:1.9",
          "<b>PCs : Monsters</b><br>XGtE 1:1<br>Calculated 1:0.8",
          "<b>PCs : Monsters</b><br>XGtE 2:1<br>Calculated 1.9:1",
          "<b>PCs : Monsters</b><br>XGtE 3:1<br>Calculated 2.9:1",
          "<b>PCs : Monsters</b><br>XGtE 5:1<br>Calculated 4.8:1",
          "<b>PCs : Monsters</b><br>XGtE 6:1<br>Calculated 6.1:1",
          "<b>PCs : Monsters</b><br>XGtE 1:12<br>Calculated 1:12.0",
          "<b>PCs : Monsters</b><br>XGtE 1:9<br>Calculated 1:9.0",
          "<b>PCs : Monsters</b><br>XGtE 1:5<br>Calculated 1:4.5",
          "<b>PCs : Monsters</b><br>XGtE 1:2<br>Calculated 1:2.2",
          "<b>PCs : Monsters</b><br>XGtE 1:1<br>Calculated 1:1.0",
          "<b>PCs : Monsters</b><br>XGtE 2:1<br>Calculated 1.6:1",
          "<b>PCs : Monsters</b><br>XGtE 2:1<br>Calculated 2.4:1",
          "<b>PCs : Monsters</b><br>XGtE 4:1<br>Calculated 4.0:1",
          "<b>PCs : Monsters</b><br>XGtE 5:1<br>Calculated 5.1:1",
          "<b>PCs : Monsters</b><br>XGtE 6:1<br>Calculated 6.4:1",
          "<b>PCs : Monsters</b><br>XGtE 1:12<br>Calculated 1:12.0",
          "<b>PCs : Monsters</b><br>XGtE 1:12<br>Calculated 1:11.0",
          "<b>PCs : Monsters</b><br>XGtE 1:6<br>Calculated 1:5.5",
          "<b>PCs : Monsters</b><br>XGtE 1:3<br>Calculated 1:2.8",
          "<b>PCs : Monsters</b><br>XGtE 1:1<br>Calculated 1:1.2",
          "<b>PCs : Monsters</b><br>XGtE 1:1<br>Calculated 1:0.8",
          "<b>PCs : Monsters</b><br>XGtE 2:1<br>Calculated 2.0:1",
          "<b>PCs : Monsters</b><br>XGtE 3:1<br>Calculated 3.3:1",
          "<b>PCs : Monsters</b><br>XGtE 4:1<br>Calculated 4.2:1",
          "<b>PCs : Monsters</b><br>XGtE 5:1<br>Calculated 5.3:1",
          "<b>PCs : Monsters</b><br>XGtE 1:12<br>Calculated 1:12.0",
          "<b>PCs : Monsters</b><br>XGtE 1:12<br>Calculated 1:12.0",
          "<b>PCs : Monsters</b><br>XGtE 1:7<br>Calculated 1:7.0",
          "<b>PCs : Monsters</b><br>XGtE 1:4<br>Calculated 1:3.5",
          "<b>PCs : Monsters</b><br>XGtE 1:2<br>Calculated 1:1.6",
          "<b>PCs : Monsters</b><br>XGtE 1:1<br>Calculated 1:1.0",
          "<b>PCs : Monsters</b><br>XGtE 2:1<br>Calculated 1.6:1",
          "<b>PCs : Monsters</b><br>XGtE 3:1<br>Calculated 2.6:1",
          "<b>PCs : Monsters</b><br>XGtE 3:1<br>Calculated 3.3:1",
          "<b>PCs : Monsters</b><br>XGtE 4:1<br>Calculated 4.1:1",
          "<b>PCs : Monsters</b><br>XGtE 6:1<br>Calculated 5.6:1",
          "<b>PCs : Monsters</b><br>XGtE 1:12<br>Calculated 1:12.0",
          "<b>PCs : Monsters</b><br>XGtE 1:12<br>Calculated 1:12.0",
          "<b>PCs : Monsters</b><br>XGtE 1:8<br>Calculated 1:8.0",
          "<b>PCs : Monsters</b><br>XGtE 1:4<br>Calculated 1:4.0",
          "<b>PCs : Monsters</b><br>XGtE 1:2<br>Calculated 1:1.8",
          "<b>PCs : Monsters</b><br>XGtE 1:1<br>Calculated 1:1.1",
          "<b>PCs : Monsters</b><br>XGtE 1:1<br>Calculated 1:0.7",
          "<b>PCs : Monsters</b><br>XGtE 2:1<br>Calculated 2.2:1",
          "<b>PCs : Monsters</b><br>XGtE 3:1<br>Calculated 2.9:1",
          "<b>PCs : Monsters</b><br>XGtE 4:1<br>Calculated 3.6:1",
          "<b>PCs : Monsters</b><br>XGtE 5:1<br>Calculated 4.9:1",
          "<b>PCs : Monsters</b><br>XGtE 6:1<br>Calculated 6.2:1",
          "<b>PCs : Monsters</b><br>XGtE 1:12<br>Calculated 1:12.0",
          "<b>PCs : Monsters</b><br>XGtE 1:12<br>Calculated 1:12.0",
          "<b>PCs : Monsters</b><br>XGtE 1:10<br>Calculated 1:9.5",
          "<b>PCs : Monsters</b><br>XGtE 1:5<br>Calculated 1:4.8",
          "<b>PCs : Monsters</b><br>XGtE 1:2<br>Calculated 1:2.1",
          "<b>PCs : Monsters</b><br>XGtE 1:1<br>Calculated 1:1.4",
          "<b>PCs : Monsters</b><br>XGtE 1:1<br>Calculated 1:0.9",
          "<b>PCs : Monsters</b><br>XGtE 2:1<br>Calculated 1.9:1",
          "<b>PCs : Monsters</b><br>XGtE 2:1<br>Calculated 2.4:1",
          "<b>PCs : Monsters</b><br>XGtE 3:1<br>Calculated 3.1:1",
          "<b>PCs : Monsters</b><br>XGtE 4:1<br>Calculated 4.1:1",
          "<b>PCs : Monsters</b><br>XGtE 5:1<br>Calculated 5.3:1",
          "<b>PCs : Monsters</b><br>XGtE 6:1<br>Calculated 6.2:1",
          "<b>PCs : Monsters</b><br>XGtE 1:12<br>Calculated 1:12.0",
          "<b>PCs : Monsters</b><br>XGtE 1:12<br>Calculated 1:12.0",
          "<b>PCs : Monsters</b><br>XGtE 1:12<br>Calculated 1:12.0",
          "<b>PCs : Monsters</b><br>XGtE 1:6<br>Calculated 1:6.0",
          "<b>PCs : Monsters</b><br>XGtE 1:3<br>Calculated 1:2.7",
          "<b>PCs : Monsters</b><br>XGtE 1:2<br>Calculated 1:1.7",
          "<b>PCs : Monsters</b><br>XGtE 1:1<br>Calculated 1:1.1",
          "<b>PCs : Monsters</b><br>XGtE 2:1<br>Calculated 1.5:1",
          "<b>PCs : Monsters</b><br>XGtE 2:1<br>Calculated 1.9:1",
          "<b>PCs : Monsters</b><br>XGtE 2:1<br>Calculated 2.4:1",
          "<b>PCs : Monsters</b><br>XGtE 3:1<br>Calculated 3.2:1",
          "<b>PCs : Monsters</b><br>XGtE 4:1<br>Calculated 4.2:1",
          "<b>PCs : Monsters</b><br>XGtE 5:1<br>Calculated 4.9:1",
          "<b>PCs : Monsters</b><br>XGtE 6:1<br>Calculated 6.0:1",
          "<b>PCs : Monsters</b><br>XGtE 1:12<br>Calculated 1:12.0",
          "<b>PCs : Monsters</b><br>XGtE 1:12<br>Calculated 1:12.0",
          "<b>PCs : Monsters</b><br>XGtE 1:12<br>Calculated 1:12.0",
          "<b>PCs : Monsters</b><br>XGtE 1:8<br>Calculated 1:7.5",
          "<b>PCs : Monsters</b><br>XGtE 1:3<br>Calculated 1:3.3",
          "<b>PCs : Monsters</b><br>XGtE 1:2<br>Calculated 1:2.1",
          "<b>PCs : Monsters</b><br>XGtE 1:1<br>Calculated 1:1.4",
          "<b>PCs : Monsters</b><br>XGtE 1:1<br>Calculated 1:0.8",
          "<b>PCs : Monsters</b><br>XGtE 2:1<br>Calculated 1.5:1",
          "<b>PCs : Monsters</b><br>XGtE 2:1<br>Calculated 1.9:1",
          "<b>PCs : Monsters</b><br>XGtE 3:1<br>Calculated 2.6:1",
          "<b>PCs : Monsters</b><br>XGtE 3:1<br>Calculated 3.3:1",
          "<b>PCs : Monsters</b><br>XGtE 4:1<br>Calculated 3.9:1",
          "<b>PCs : Monsters</b><br>XGtE 5:1<br>Calculated 4.8:1",
          "<b>PCs : Monsters</b><br>XGtE 6:1<br>Calculated 5.6:1",
          "<b>PCs : Monsters</b><br>XGtE 1:12<br>Calculated 1:12.0",
          "<b>PCs : Monsters</b><br>XGtE 1:12<br>Calculated 1:12.0",
          "<b>PCs : Monsters</b><br>XGtE 1:12<br>Calculated 1:12.0",
          "<b>PCs : Monsters</b><br>XGtE 1:9<br>Calculated 1:8.5",
          "<b>PCs : Monsters</b><br>XGtE 1:4<br>Calculated 1:3.8",
          "<b>PCs : Monsters</b><br>XGtE 1:2<br>Calculated 1:2.4",
          "<b>PCs : Monsters</b><br>XGtE 1:2<br>Calculated 1:1.5",
          "<b>PCs : Monsters</b><br>XGtE 1:1<br>Calculated 1:0.9",
          "<b>PCs : Monsters</b><br>XGtE 1:1<br>Calculated 1:0.7",
          "<b>PCs : Monsters</b><br>XGtE 2:1<br>Calculated 1.7:1",
          "<b>PCs : Monsters</b><br>XGtE 2:1<br>Calculated 2.3:1",
          "<b>PCs : Monsters</b><br>XGtE 3:1<br>Calculated 2.9:1",
          "<b>PCs : Monsters</b><br>XGtE 3:1<br>Calculated 3.5:1",
          "<b>PCs : Monsters</b><br>XGtE 4:1<br>Calculated 4.2:1",
          "<b>PCs : Monsters</b><br>XGtE 5:1<br>Calculated 4.9:1",
          "<b>PCs : Monsters</b><br>XGtE 6:1<br>Calculated 5.9:1",
          "<b>PCs : Monsters</b><br>XGtE 1:12<br>Calculated 1:12.0",
          "<b>PCs : Monsters</b><br>XGtE 1:12<br>Calculated 1:12.0",
          "<b>PCs : Monsters</b><br>XGtE 1:12<br>Calculated 1:12.0",
          "<b>PCs : Monsters</b><br>XGtE 1:10<br>Calculated 1:9.5",
          "<b>PCs : Monsters</b><br>XGtE 1:4<br>Calculated 1:4.2",
          "<b>PCs : Monsters</b><br>XGtE 1:3<br>Calculated 1:2.7",
          "<b>PCs : Monsters</b><br>XGtE 1:2<br>Calculated 1:1.7",
          "<b>PCs : Monsters</b><br>XGtE 1:1<br>Calculated 1:1.1",
          "<b>PCs : Monsters</b><br>XGtE 1:1<br>Calculated 1:0.8",
          "<b>PCs : Monsters</b><br>XGtE 2:1<br>Calculated 1.5:1",
          "<b>PCs : Monsters</b><br>XGtE 2:1<br>Calculated 2.1:1",
          "<b>PCs : Monsters</b><br>XGtE 3:1<br>Calculated 2.6:1",
          "<b>PCs : Monsters</b><br>XGtE 3:1<br>Calculated 3.1:1",
          "<b>PCs : Monsters</b><br>XGtE 4:1<br>Calculated 3.8:1",
          "<b>PCs : Monsters</b><br>XGtE 4:1<br>Calculated 4.4:1",
          "<b>PCs : Monsters</b><br>XGtE 5:1<br>Calculated 5.3:1",
          "<b>PCs : Monsters</b><br>XGtE 6:1<br>Calculated 6.1:1",
          "<b>PCs : Monsters</b><br>XGtE 1:12<br>Calculated 1:12.0",
          "<b>PCs : Monsters</b><br>XGtE 1:12<br>Calculated 1:12.0",
          "<b>PCs : Monsters</b><br>XGtE 1:12<br>Calculated 1:12.0",
          "<b>PCs : Monsters</b><br>XGtE 1:12<br>Calculated 1:10.8",
          "<b>PCs : Monsters</b><br>XGtE 1:5<br>Calculated 1:4.8",
          "<b>PCs : Monsters</b><br>XGtE 1:3<br>Calculated 1:3.1",
          "<b>PCs : Monsters</b><br>XGtE 1:2<br>Calculated 1:2.0",
          "<b>PCs : Monsters</b><br>XGtE 1:1<br>Calculated 1:1.2",
          "<b>PCs : Monsters</b><br>XGtE 1:1<br>Calculated 1:0.9",
          "<b>PCs : Monsters</b><br>XGtE 1:1<br>Calculated 1:0.7",
          "<b>PCs : Monsters</b><br>XGtE 2:1<br>Calculated 1.8:1",
          "<b>PCs : Monsters</b><br>XGtE 2:1<br>Calculated 2.3:1",
          "<b>PCs : Monsters</b><br>XGtE 3:1<br>Calculated 2.7:1",
          "<b>PCs : Monsters</b><br>XGtE 3:1<br>Calculated 3.3:1",
          "<b>PCs : Monsters</b><br>XGtE 4:1<br>Calculated 3.9:1",
          "<b>PCs : Monsters</b><br>XGtE 5:1<br>Calculated 4.7:1",
          "<b>PCs : Monsters</b><br>XGtE 5:1<br>Calculated 5.3:1",
          "<b>PCs : Monsters</b><br>XGtE 6:1<br>Calculated 6.0:1",
          "<b>PCs : Monsters</b><br>XGtE 1:12<br>Calculated 1:12.0",
          "<b>PCs : Monsters</b><br>XGtE 1:12<br>Calculated 1:12.0",
          "<b>PCs : Monsters</b><br>XGtE 1:12<br>Calculated 1:12.0",
          "<b>PCs : Monsters</b><br>XGtE 1:12<br>Calculated 1:12.0",
          "<b>PCs : Monsters</b><br>XGtE 1:5<br>Calculated 1:5.3",
          "<b>PCs : Monsters</b><br>XGtE 1:3<br>Calculated 1:3.4",
          "<b>PCs : Monsters</b><br>XGtE 1:2<br>Calculated 1:2.2",
          "<b>PCs : Monsters</b><br>XGtE 1:1<br>Calculated 1:1.3",
          "<b>PCs : Monsters</b><br>XGtE 1:1<br>Calculated 1:1.0",
          "<b>PCs : Monsters</b><br>XGtE 1:1<br>Calculated 1:0.8",
          "<b>PCs : Monsters</b><br>XGtE 2:1<br>Calculated 1.6:1",
          "<b>PCs : Monsters</b><br>XGtE 2:1<br>Calculated 2.1:1",
          "<b>PCs : Monsters</b><br>XGtE 2:1<br>Calculated 2.5:1",
          "<b>PCs : Monsters</b><br>XGtE 3:1<br>Calculated 3.0:1",
          "<b>PCs : Monsters</b><br>XGtE 4:1<br>Calculated 3.5:1",
          "<b>PCs : Monsters</b><br>XGtE 4:1<br>Calculated 4.2:1",
          "<b>PCs : Monsters</b><br>XGtE 5:1<br>Calculated 4.8:1",
          "<b>PCs : Monsters</b><br>XGtE 5:1<br>Calculated 5.4:1",
          "<b>PCs : Monsters</b><br>XGtE 6:1<br>Calculated 6.2:1",
          "<b>PCs : Monsters</b><br>XGtE 1:12<br>Calculated 1:12.0",
          "<b>PCs : Monsters</b><br>XGtE 1:12<br>Calculated 1:12.0",
          "<b>PCs : Monsters</b><br>XGtE 1:12<br>Calculated 1:12.0",
          "<b>PCs : Monsters</b><br>XGtE 1:12<br>Calculated 1:12.0",
          "<b>PCs : Monsters</b><br>XGtE 1:7<br>Calculated 1:6.6",
          "<b>PCs : Monsters</b><br>XGtE 1:4<br>Calculated 1:4.2",
          "<b>PCs : Monsters</b><br>XGtE 1:3<br>Calculated 1:2.7",
          "<b>PCs : Monsters</b><br>XGtE 1:2<br>Calculated 1:1.6",
          "<b>PCs : Monsters</b><br>XGtE 1:1<br>Calculated 1:1.3",
          "<b>PCs : Monsters</b><br>XGtE 1:1<br>Calculated 1:1.0",
          "<b>PCs : Monsters</b><br>XGtE 1:1<br>Calculated 1:0.8",
          "<b>PCs : Monsters</b><br>XGtE 2:1<br>Calculated 1.7:1",
          "<b>PCs : Monsters</b><br>XGtE 2:1<br>Calculated 2.0:1",
          "<b>PCs : Monsters</b><br>XGtE 2:1<br>Calculated 2.4:1",
          "<b>PCs : Monsters</b><br>XGtE 3:1<br>Calculated 2.8:1",
          "<b>PCs : Monsters</b><br>XGtE 3:1<br>Calculated 3.4:1",
          "<b>PCs : Monsters</b><br>XGtE 4:1<br>Calculated 3.9:1",
          "<b>PCs : Monsters</b><br>XGtE 4:1<br>Calculated 4.4:1",
          "<b>PCs : Monsters</b><br>XGtE 5:1<br>Calculated 5.1:1",
          "<b>PCs : Monsters</b><br>XGtE 6:1<br>Calculated 6.1:1",
          "<b>PCs : Monsters</b><br>XGtE 1:12<br>Calculated 1:12.0",
          "<b>PCs : Monsters</b><br>XGtE 1:12<br>Calculated 1:12.0",
          "<b>PCs : Monsters</b><br>XGtE 1:12<br>Calculated 1:12.0",
          "<b>PCs : Monsters</b><br>XGtE 1:12<br>Calculated 1:12.0",
          "<b>PCs : Monsters</b><br>XGtE 1:7<br>Calculated 1:7.0",
          "<b>PCs : Monsters</b><br>XGtE 1:5<br>Calculated 1:4.5",
          "<b>PCs : Monsters</b><br>XGtE 1:3<br>Calculated 1:2.9",
          "<b>PCs : Monsters</b><br>XGtE 1:2<br>Calculated 1:1.8",
          "<b>PCs : Monsters</b><br>XGtE 1:1<br>Calculated 1:1.4",
          "<b>PCs : Monsters</b><br>XGtE 1:1<br>Calculated 1:1.1",
          "<b>PCs : Monsters</b><br>XGtE 1:1<br>Calculated 1:0.8",
          "<b>PCs : Monsters</b><br>XGtE 2:1<br>Calculated 1.6:1",
          "<b>PCs : Monsters</b><br>XGtE 2:1<br>Calculated 1.9:1",
          "<b>PCs : Monsters</b><br>XGtE 2:1<br>Calculated 2.3:1",
          "<b>PCs : Monsters</b><br>XGtE 3:1<br>Calculated 2.7:1",
          "<b>PCs : Monsters</b><br>XGtE 3:1<br>Calculated 3.2:1",
          "<b>PCs : Monsters</b><br>XGtE 4:1<br>Calculated 3.7:1",
          "<b>PCs : Monsters</b><br>XGtE 4:1<br>Calculated 4.1:1",
          "<b>PCs : Monsters</b><br>XGtE 5:1<br>Calculated 4.8:1",
          "<b>PCs : Monsters</b><br>XGtE 6:1<br>Calculated 5.7:1",
          "<b>PCs : Monsters</b><br>XGtE 6:1<br>Calculated 6.3:1",
          "<b>PCs : Monsters</b><br>XGtE 1:12<br>Calculated 1:12.0",
          "<b>PCs : Monsters</b><br>XGtE 1:12<br>Calculated 1:12.0",
          "<b>PCs : Monsters</b><br>XGtE 1:12<br>Calculated 1:12.0",
          "<b>PCs : Monsters</b><br>XGtE 1:12<br>Calculated 1:12.0",
          "<b>PCs : Monsters</b><br>XGtE 1:8<br>Calculated 1:8.1",
          "<b>PCs : Monsters</b><br>XGtE 1:5<br>Calculated 1:5.2",
          "<b>PCs : Monsters</b><br>XGtE 1:3<br>Calculated 1:3.3",
          "<b>PCs : Monsters</b><br>XGtE 1:2<br>Calculated 1:2.0",
          "<b>PCs : Monsters</b><br>XGtE 1:2<br>Calculated 1:1.6",
          "<b>PCs : Monsters</b><br>XGtE 1:1<br>Calculated 1:1.3",
          "<b>PCs : Monsters</b><br>XGtE 1:1<br>Calculated 1:0.9",
          "<b>PCs : Monsters</b><br>XGtE 1:1<br>Calculated 1:0.7",
          "<b>PCs : Monsters</b><br>XGtE 2:1<br>Calculated 1.6:1",
          "<b>PCs : Monsters</b><br>XGtE 2:1<br>Calculated 2.0:1",
          "<b>PCs : Monsters</b><br>XGtE 2:1<br>Calculated 2.3:1",
          "<b>PCs : Monsters</b><br>XGtE 3:1<br>Calculated 2.7:1",
          "<b>PCs : Monsters</b><br>XGtE 3:1<br>Calculated 3.2:1",
          "<b>PCs : Monsters</b><br>XGtE 4:1<br>Calculated 3.6:1",
          "<b>PCs : Monsters</b><br>XGtE 4:1<br>Calculated 4.1:1",
          "<b>PCs : Monsters</b><br>XGtE 5:1<br>Calculated 4.9:1",
          "<b>PCs : Monsters</b><br>XGtE 6:1<br>Calculated 5.5:1",
          "<b>PCs : Monsters</b><br>XGtE 6:1<br>Calculated 6.0:1",
          "<b>PCs : Monsters</b><br>XGtE 1:12<br>Calculated 1:12.0",
          "<b>PCs : Monsters</b><br>XGtE 1:12<br>Calculated 1:12.0",
          "<b>PCs : Monsters</b><br>XGtE 1:12<br>Calculated 1:12.0",
          "<b>PCs : Monsters</b><br>XGtE 1:12<br>Calculated 1:12.0",
          "<b>PCs : Monsters</b><br>XGtE 1:9<br>Calculated 1:9.4",
          "<b>PCs : Monsters</b><br>XGtE 1:6<br>Calculated 1:6.1",
          "<b>PCs : Monsters</b><br>XGtE 1:4<br>Calculated 1:3.9",
          "<b>PCs : Monsters</b><br>XGtE 1:2<br>Calculated 1:2.4",
          "<b>PCs : Monsters</b><br>XGtE 1:2<br>Calculated 1:1.8",
          "<b>PCs : Monsters</b><br>XGtE 1:1<br>Calculated 1:1.5",
          "<b>PCs : Monsters</b><br>XGtE 1:1<br>Calculated 1:1.1",
          "<b>PCs : Monsters</b><br>XGtE 1:1<br>Calculated 1:0.8",
          "<b>PCs : Monsters</b><br>XGtE 1:1<br>Calculated 1:0.7",
          "<b>PCs : Monsters</b><br>XGtE 2:1<br>Calculated 1.7:1",
          "<b>PCs : Monsters</b><br>XGtE 2:1<br>Calculated 2.0:1",
          "<b>PCs : Monsters</b><br>XGtE 2:1<br>Calculated 2.4:1",
          "<b>PCs : Monsters</b><br>XGtE 3:1<br>Calculated 2.7:1",
          "<b>PCs : Monsters</b><br>XGtE 3:1<br>Calculated 3.1:1",
          "<b>PCs : Monsters</b><br>XGtE 4:1<br>Calculated 3.5:1",
          "<b>PCs : Monsters</b><br>XGtE 4:1<br>Calculated 4.2:1",
          "<b>PCs : Monsters</b><br>XGtE 5:1<br>Calculated 4.7:1",
          "<b>PCs : Monsters</b><br>XGtE 5:1<br>Calculated 5.2:1",
          "<b>PCs : Monsters</b><br>XGtE 6:1<br>Calculated 5.9:1"
         ],
         "mode": "markers",
         "name": "Calculated monsters per PC",
         "showlegend": false,
         "type": "scatter",
         "x": [
          2,
          1,
          0.3333333333333333,
          0.2,
          3,
          2,
          1,
          0.3333333333333333,
          0.16666666666666666,
          5,
          2,
          1,
          0.5,
          0.25,
          0.16666666666666666,
          8,
          4,
          2,
          1,
          0.5,
          0.25,
          0.16666666666666666,
          12,
          8,
          4,
          2,
          1,
          0.5,
          0.3333333333333333,
          0.2,
          0.16666666666666666,
          12,
          9,
          5,
          2,
          1,
          0.5,
          0.5,
          0.25,
          0.2,
          0.16666666666666666,
          12,
          12,
          6,
          3,
          1,
          1,
          0.5,
          0.3333333333333333,
          0.25,
          0.2,
          12,
          12,
          7,
          4,
          2,
          1,
          0.5,
          0.3333333333333333,
          0.3333333333333333,
          0.25,
          0.16666666666666666,
          12,
          12,
          8,
          4,
          2,
          1,
          1,
          0.5,
          0.3333333333333333,
          0.25,
          0.2,
          0.16666666666666666,
          12,
          12,
          10,
          5,
          2,
          1,
          1,
          0.5,
          0.5,
          0.3333333333333333,
          0.25,
          0.2,
          0.16666666666666666,
          12,
          12,
          12,
          6,
          3,
          2,
          1,
          0.5,
          0.5,
          0.5,
          0.3333333333333333,
          0.25,
          0.2,
          0.16666666666666666,
          12,
          12,
          12,
          8,
          3,
          2,
          1,
          1,
          0.5,
          0.5,
          0.3333333333333333,
          0.3333333333333333,
          0.25,
          0.2,
          0.16666666666666666,
          12,
          12,
          12,
          9,
          4,
          2,
          2,
          1,
          1,
          0.5,
          0.5,
          0.3333333333333333,
          0.3333333333333333,
          0.25,
          0.2,
          0.16666666666666666,
          12,
          12,
          12,
          10,
          4,
          3,
          2,
          1,
          1,
          0.5,
          0.5,
          0.3333333333333333,
          0.3333333333333333,
          0.25,
          0.25,
          0.2,
          0.16666666666666666,
          12,
          12,
          12,
          12,
          5,
          3,
          2,
          1,
          1,
          1,
          0.5,
          0.5,
          0.3333333333333333,
          0.3333333333333333,
          0.25,
          0.2,
          0.2,
          0.16666666666666666,
          12,
          12,
          12,
          12,
          5,
          3,
          2,
          1,
          1,
          1,
          0.5,
          0.5,
          0.5,
          0.3333333333333333,
          0.25,
          0.25,
          0.2,
          0.2,
          0.16666666666666666,
          12,
          12,
          12,
          12,
          7,
          4,
          3,
          2,
          1,
          1,
          1,
          0.5,
          0.5,
          0.5,
          0.3333333333333333,
          0.3333333333333333,
          0.25,
          0.25,
          0.2,
          0.16666666666666666,
          12,
          12,
          12,
          12,
          7,
          5,
          3,
          2,
          1,
          1,
          1,
          0.5,
          0.5,
          0.5,
          0.3333333333333333,
          0.3333333333333333,
          0.25,
          0.25,
          0.2,
          0.16666666666666666,
          0.16666666666666666,
          12,
          12,
          12,
          12,
          8,
          5,
          3,
          2,
          2,
          1,
          1,
          1,
          0.5,
          0.5,
          0.5,
          0.3333333333333333,
          0.3333333333333333,
          0.25,
          0.25,
          0.2,
          0.16666666666666666,
          0.16666666666666666,
          12,
          12,
          12,
          12,
          9,
          6,
          4,
          2,
          2,
          1,
          1,
          1,
          1,
          0.5,
          0.5,
          0.5,
          0.3333333333333333,
          0.3333333333333333,
          0.25,
          0.25,
          0.2,
          0.2,
          0.16666666666666666
         ],
         "y": [
          1.5,
          0.75,
          0.375,
          0.1875,
          3,
          1.5,
          0.75,
          0.375,
          0.16666666666666666,
          4.5,
          2.25,
          1.125,
          0.5625,
          0.25,
          0.16071428571428573,
          7.5,
          3.75,
          1.875,
          0.9375,
          0.4166666666666667,
          0.26785714285714285,
          0.17045454545454544,
          12,
          7.5,
          3.75,
          1.875,
          0.8333333333333334,
          0.5357142857142857,
          0.3409090909090909,
          0.20833333333333334,
          0.16304347826086957,
          12,
          9,
          4.5,
          2.25,
          1,
          0.6428571428571429,
          0.4090909090909091,
          0.25,
          0.1956521739130435,
          0.15517241379310345,
          12,
          11,
          5.5,
          2.75,
          1.2222222222222223,
          0.7857142857142857,
          0.5,
          0.3055555555555556,
          0.2391304347826087,
          0.1896551724137931,
          12,
          12,
          7,
          3.5,
          1.5555555555555556,
          1,
          0.6363636363636364,
          0.3888888888888889,
          0.30434782608695654,
          0.2413793103448276,
          0.1794871794871795,
          12,
          12,
          8,
          4,
          1.7777777777777777,
          1.1428571428571428,
          0.7272727272727273,
          0.4444444444444444,
          0.34782608695652173,
          0.27586206896551724,
          0.20512820512820512,
          0.16,
          12,
          12,
          9.5,
          4.75,
          2.111111111111111,
          1.3571428571428572,
          0.8636363636363636,
          0.5277777777777778,
          0.41304347826086957,
          0.3275862068965517,
          0.24358974358974358,
          0.19,
          0.16101694915254236,
          12,
          12,
          12,
          6,
          2.6666666666666665,
          1.7142857142857142,
          1.0909090909090908,
          0.6666666666666666,
          0.5217391304347826,
          0.41379310344827586,
          0.3076923076923077,
          0.24,
          0.2033898305084746,
          0.16666666666666666,
          12,
          12,
          12,
          7.5,
          3.3333333333333335,
          2.142857142857143,
          1.3636363636363635,
          0.8333333333333334,
          0.6521739130434783,
          0.5172413793103449,
          0.38461538461538464,
          0.3,
          0.2542372881355932,
          0.20833333333333334,
          0.17857142857142858,
          12,
          12,
          12,
          8.5,
          3.7777777777777777,
          2.4285714285714284,
          1.5454545454545454,
          0.9444444444444444,
          0.7391304347826086,
          0.5862068965517241,
          0.4358974358974359,
          0.34,
          0.288135593220339,
          0.2361111111111111,
          0.20238095238095238,
          0.17,
          12,
          12,
          12,
          9.5,
          4.222222222222222,
          2.7142857142857144,
          1.7272727272727273,
          1.0555555555555556,
          0.8260869565217391,
          0.6551724137931034,
          0.48717948717948717,
          0.38,
          0.3220338983050847,
          0.2638888888888889,
          0.2261904761904762,
          0.19,
          0.16521739130434782,
          12,
          12,
          12,
          10.75,
          4.777777777777778,
          3.0714285714285716,
          1.9545454545454546,
          1.1944444444444444,
          0.9347826086956522,
          0.7413793103448276,
          0.5512820512820513,
          0.43,
          0.3644067796610169,
          0.2986111111111111,
          0.25595238095238093,
          0.215,
          0.18695652173913044,
          0.16538461538461538,
          12,
          12,
          12,
          12,
          5.333333333333333,
          3.4285714285714284,
          2.1818181818181817,
          1.3333333333333333,
          1.0434782608695652,
          0.8275862068965517,
          0.6153846153846154,
          0.48,
          0.4067796610169492,
          0.3333333333333333,
          0.2857142857142857,
          0.24,
          0.20869565217391303,
          0.18461538461538463,
          0.16,
          12,
          12,
          12,
          12,
          6.555555555555555,
          4.214285714285714,
          2.6818181818181817,
          1.6388888888888888,
          1.2826086956521738,
          1.0172413793103448,
          0.7564102564102564,
          0.59,
          0.5,
          0.4097222222222222,
          0.35119047619047616,
          0.295,
          0.2565217391304348,
          0.22692307692307692,
          0.19666666666666666,
          0.1638888888888889,
          12,
          12,
          12,
          12,
          7,
          4.5,
          2.8636363636363638,
          1.75,
          1.3695652173913044,
          1.0862068965517242,
          0.8076923076923077,
          0.63,
          0.5338983050847458,
          0.4375,
          0.375,
          0.315,
          0.27391304347826084,
          0.2423076923076923,
          0.21,
          0.175,
          0.1575,
          12,
          12,
          12,
          12,
          8.11111111111111,
          5.214285714285714,
          3.3181818181818183,
          2.0277777777777777,
          1.5869565217391304,
          1.2586206896551724,
          0.9358974358974359,
          0.73,
          0.6186440677966102,
          0.5069444444444444,
          0.43452380952380953,
          0.365,
          0.3173913043478261,
          0.28076923076923077,
          0.24333333333333335,
          0.20277777777777778,
          0.1825,
          0.16590909090909092,
          12,
          12,
          12,
          12,
          9.444444444444445,
          6.071428571428571,
          3.8636363636363638,
          2.361111111111111,
          1.8478260869565217,
          1.4655172413793103,
          1.0897435897435896,
          0.85,
          0.7203389830508474,
          0.5902777777777778,
          0.5059523809523809,
          0.425,
          0.3695652173913043,
          0.3269230769230769,
          0.2833333333333333,
          0.2361111111111111,
          0.2125,
          0.19318181818181818,
          0.17
         ]
        },
        {
         "hoverinfo": "skip",
         "line": {
          "color": "black",
          "dash": "dash"
         },
         "mode": "lines",
         "name": "fit",
         "showlegend": false,
         "type": "scatter",
         "x": [
          0,
          13
         ],
         "y": [
          0,
          13
         ]
        }
       ],
       "layout": {
        "height": 450,
        "legend": {
         "orientation": "v",
         "tracegroupgap": 0,
         "x": 0,
         "xanchor": "left",
         "y": 1,
         "yanchor": "top"
        },
        "template": {
         "layout": {
          "autosize": false,
          "font": {
           "family": "sans-serif",
           "size": 14
          },
          "hoverlabel": {
           "align": "left"
          },
          "hovermode": "closest",
          "margin": {
           "b": 55,
           "l": 60,
           "pad": 4,
           "r": 25,
           "t": 20
          },
          "template": {
           "data": {
            "bar": [
             {
              "error_x": {
               "color": "#2a3f5f"
              },
              "error_y": {
               "color": "#2a3f5f"
              },
              "marker": {
               "line": {
                "color": "white",
                "width": 0.5
               },
               "pattern": {
                "fillmode": "overlay",
                "size": 10,
                "solidity": 0.2
               }
              },
              "type": "bar"
             }
            ],
            "barpolar": [
             {
              "marker": {
               "line": {
                "color": "white",
                "width": 0.5
               },
               "pattern": {
                "fillmode": "overlay",
                "size": 10,
                "solidity": 0.2
               }
              },
              "type": "barpolar"
             }
            ],
            "carpet": [
             {
              "aaxis": {
               "endlinecolor": "#2a3f5f",
               "gridcolor": "#C8D4E3",
               "linecolor": "#C8D4E3",
               "minorgridcolor": "#C8D4E3",
               "startlinecolor": "#2a3f5f"
              },
              "baxis": {
               "endlinecolor": "#2a3f5f",
               "gridcolor": "#C8D4E3",
               "linecolor": "#C8D4E3",
               "minorgridcolor": "#C8D4E3",
               "startlinecolor": "#2a3f5f"
              },
              "type": "carpet"
             }
            ],
            "choropleth": [
             {
              "colorbar": {
               "outlinewidth": 0,
               "ticks": ""
              },
              "type": "choropleth"
             }
            ],
            "contour": [
             {
              "colorbar": {
               "outlinewidth": 0,
               "ticks": ""
              },
              "colorscale": [
               [
                0,
                "#0d0887"
               ],
               [
                0.1111111111111111,
                "#46039f"
               ],
               [
                0.2222222222222222,
                "#7201a8"
               ],
               [
                0.3333333333333333,
                "#9c179e"
               ],
               [
                0.4444444444444444,
                "#bd3786"
               ],
               [
                0.5555555555555556,
                "#d8576b"
               ],
               [
                0.6666666666666666,
                "#ed7953"
               ],
               [
                0.7777777777777778,
                "#fb9f3a"
               ],
               [
                0.8888888888888888,
                "#fdca26"
               ],
               [
                1,
                "#f0f921"
               ]
              ],
              "type": "contour"
             }
            ],
            "contourcarpet": [
             {
              "colorbar": {
               "outlinewidth": 0,
               "ticks": ""
              },
              "type": "contourcarpet"
             }
            ],
            "heatmap": [
             {
              "colorbar": {
               "outlinewidth": 0,
               "ticks": ""
              },
              "colorscale": [
               [
                0,
                "#0d0887"
               ],
               [
                0.1111111111111111,
                "#46039f"
               ],
               [
                0.2222222222222222,
                "#7201a8"
               ],
               [
                0.3333333333333333,
                "#9c179e"
               ],
               [
                0.4444444444444444,
                "#bd3786"
               ],
               [
                0.5555555555555556,
                "#d8576b"
               ],
               [
                0.6666666666666666,
                "#ed7953"
               ],
               [
                0.7777777777777778,
                "#fb9f3a"
               ],
               [
                0.8888888888888888,
                "#fdca26"
               ],
               [
                1,
                "#f0f921"
               ]
              ],
              "type": "heatmap"
             }
            ],
            "heatmapgl": [
             {
              "colorbar": {
               "outlinewidth": 0,
               "ticks": ""
              },
              "colorscale": [
               [
                0,
                "#0d0887"
               ],
               [
                0.1111111111111111,
                "#46039f"
               ],
               [
                0.2222222222222222,
                "#7201a8"
               ],
               [
                0.3333333333333333,
                "#9c179e"
               ],
               [
                0.4444444444444444,
                "#bd3786"
               ],
               [
                0.5555555555555556,
                "#d8576b"
               ],
               [
                0.6666666666666666,
                "#ed7953"
               ],
               [
                0.7777777777777778,
                "#fb9f3a"
               ],
               [
                0.8888888888888888,
                "#fdca26"
               ],
               [
                1,
                "#f0f921"
               ]
              ],
              "type": "heatmapgl"
             }
            ],
            "histogram": [
             {
              "marker": {
               "pattern": {
                "fillmode": "overlay",
                "size": 10,
                "solidity": 0.2
               }
              },
              "type": "histogram"
             }
            ],
            "histogram2d": [
             {
              "colorbar": {
               "outlinewidth": 0,
               "ticks": ""
              },
              "colorscale": [
               [
                0,
                "#0d0887"
               ],
               [
                0.1111111111111111,
                "#46039f"
               ],
               [
                0.2222222222222222,
                "#7201a8"
               ],
               [
                0.3333333333333333,
                "#9c179e"
               ],
               [
                0.4444444444444444,
                "#bd3786"
               ],
               [
                0.5555555555555556,
                "#d8576b"
               ],
               [
                0.6666666666666666,
                "#ed7953"
               ],
               [
                0.7777777777777778,
                "#fb9f3a"
               ],
               [
                0.8888888888888888,
                "#fdca26"
               ],
               [
                1,
                "#f0f921"
               ]
              ],
              "type": "histogram2d"
             }
            ],
            "histogram2dcontour": [
             {
              "colorbar": {
               "outlinewidth": 0,
               "ticks": ""
              },
              "colorscale": [
               [
                0,
                "#0d0887"
               ],
               [
                0.1111111111111111,
                "#46039f"
               ],
               [
                0.2222222222222222,
                "#7201a8"
               ],
               [
                0.3333333333333333,
                "#9c179e"
               ],
               [
                0.4444444444444444,
                "#bd3786"
               ],
               [
                0.5555555555555556,
                "#d8576b"
               ],
               [
                0.6666666666666666,
                "#ed7953"
               ],
               [
                0.7777777777777778,
                "#fb9f3a"
               ],
               [
                0.8888888888888888,
                "#fdca26"
               ],
               [
                1,
                "#f0f921"
               ]
              ],
              "type": "histogram2dcontour"
             }
            ],
            "mesh3d": [
             {
              "colorbar": {
               "outlinewidth": 0,
               "ticks": ""
              },
              "type": "mesh3d"
             }
            ],
            "parcoords": [
             {
              "line": {
               "colorbar": {
                "outlinewidth": 0,
                "ticks": ""
               }
              },
              "type": "parcoords"
             }
            ],
            "pie": [
             {
              "automargin": true,
              "type": "pie"
             }
            ],
            "scatter": [
             {
              "fillpattern": {
               "fillmode": "overlay",
               "size": 10,
               "solidity": 0.2
              },
              "type": "scatter"
             }
            ],
            "scatter3d": [
             {
              "line": {
               "colorbar": {
                "outlinewidth": 0,
                "ticks": ""
               }
              },
              "marker": {
               "colorbar": {
                "outlinewidth": 0,
                "ticks": ""
               }
              },
              "type": "scatter3d"
             }
            ],
            "scattercarpet": [
             {
              "marker": {
               "colorbar": {
                "outlinewidth": 0,
                "ticks": ""
               }
              },
              "type": "scattercarpet"
             }
            ],
            "scattergeo": [
             {
              "marker": {
               "colorbar": {
                "outlinewidth": 0,
                "ticks": ""
               }
              },
              "type": "scattergeo"
             }
            ],
            "scattergl": [
             {
              "marker": {
               "colorbar": {
                "outlinewidth": 0,
                "ticks": ""
               }
              },
              "type": "scattergl"
             }
            ],
            "scattermapbox": [
             {
              "marker": {
               "colorbar": {
                "outlinewidth": 0,
                "ticks": ""
               }
              },
              "type": "scattermapbox"
             }
            ],
            "scatterpolar": [
             {
              "marker": {
               "colorbar": {
                "outlinewidth": 0,
                "ticks": ""
               }
              },
              "type": "scatterpolar"
             }
            ],
            "scatterpolargl": [
             {
              "marker": {
               "colorbar": {
                "outlinewidth": 0,
                "ticks": ""
               }
              },
              "type": "scatterpolargl"
             }
            ],
            "scatterternary": [
             {
              "marker": {
               "colorbar": {
                "outlinewidth": 0,
                "ticks": ""
               }
              },
              "type": "scatterternary"
             }
            ],
            "surface": [
             {
              "colorbar": {
               "outlinewidth": 0,
               "ticks": ""
              },
              "colorscale": [
               [
                0,
                "#0d0887"
               ],
               [
                0.1111111111111111,
                "#46039f"
               ],
               [
                0.2222222222222222,
                "#7201a8"
               ],
               [
                0.3333333333333333,
                "#9c179e"
               ],
               [
                0.4444444444444444,
                "#bd3786"
               ],
               [
                0.5555555555555556,
                "#d8576b"
               ],
               [
                0.6666666666666666,
                "#ed7953"
               ],
               [
                0.7777777777777778,
                "#fb9f3a"
               ],
               [
                0.8888888888888888,
                "#fdca26"
               ],
               [
                1,
                "#f0f921"
               ]
              ],
              "type": "surface"
             }
            ],
            "table": [
             {
              "cells": {
               "fill": {
                "color": "#EBF0F8"
               },
               "line": {
                "color": "white"
               }
              },
              "header": {
               "fill": {
                "color": "#C8D4E3"
               },
               "line": {
                "color": "white"
               }
              },
              "type": "table"
             }
            ]
           },
           "layout": {
            "annotationdefaults": {
             "arrowcolor": "#2a3f5f",
             "arrowhead": 0,
             "arrowwidth": 1
            },
            "autotypenumbers": "strict",
            "coloraxis": {
             "colorbar": {
              "outlinewidth": 0,
              "ticks": ""
             }
            },
            "colorscale": {
             "diverging": [
              [
               0,
               "#8e0152"
              ],
              [
               0.1,
               "#c51b7d"
              ],
              [
               0.2,
               "#de77ae"
              ],
              [
               0.3,
               "#f1b6da"
              ],
              [
               0.4,
               "#fde0ef"
              ],
              [
               0.5,
               "#f7f7f7"
              ],
              [
               0.6,
               "#e6f5d0"
              ],
              [
               0.7,
               "#b8e186"
              ],
              [
               0.8,
               "#7fbc41"
              ],
              [
               0.9,
               "#4d9221"
              ],
              [
               1,
               "#276419"
              ]
             ],
             "sequential": [
              [
               0,
               "#0d0887"
              ],
              [
               0.1111111111111111,
               "#46039f"
              ],
              [
               0.2222222222222222,
               "#7201a8"
              ],
              [
               0.3333333333333333,
               "#9c179e"
              ],
              [
               0.4444444444444444,
               "#bd3786"
              ],
              [
               0.5555555555555556,
               "#d8576b"
              ],
              [
               0.6666666666666666,
               "#ed7953"
              ],
              [
               0.7777777777777778,
               "#fb9f3a"
              ],
              [
               0.8888888888888888,
               "#fdca26"
              ],
              [
               1,
               "#f0f921"
              ]
             ],
             "sequentialminus": [
              [
               0,
               "#0d0887"
              ],
              [
               0.1111111111111111,
               "#46039f"
              ],
              [
               0.2222222222222222,
               "#7201a8"
              ],
              [
               0.3333333333333333,
               "#9c179e"
              ],
              [
               0.4444444444444444,
               "#bd3786"
              ],
              [
               0.5555555555555556,
               "#d8576b"
              ],
              [
               0.6666666666666666,
               "#ed7953"
              ],
              [
               0.7777777777777778,
               "#fb9f3a"
              ],
              [
               0.8888888888888888,
               "#fdca26"
              ],
              [
               1,
               "#f0f921"
              ]
             ]
            },
            "colorway": [
             "#636efa",
             "#EF553B",
             "#00cc96",
             "#ab63fa",
             "#FFA15A",
             "#19d3f3",
             "#FF6692",
             "#B6E880",
             "#FF97FF",
             "#FECB52"
            ],
            "font": {
             "color": "#2a3f5f"
            },
            "geo": {
             "bgcolor": "white",
             "lakecolor": "white",
             "landcolor": "white",
             "showlakes": true,
             "showland": true,
             "subunitcolor": "#C8D4E3"
            },
            "hoverlabel": {
             "align": "left"
            },
            "hovermode": "closest",
            "mapbox": {
             "style": "light"
            },
            "paper_bgcolor": "white",
            "plot_bgcolor": "white",
            "polar": {
             "angularaxis": {
              "gridcolor": "#EBF0F8",
              "linecolor": "#EBF0F8",
              "ticks": ""
             },
             "bgcolor": "white",
             "radialaxis": {
              "gridcolor": "#EBF0F8",
              "linecolor": "#EBF0F8",
              "ticks": ""
             }
            },
            "scene": {
             "xaxis": {
              "backgroundcolor": "white",
              "gridcolor": "#DFE8F3",
              "gridwidth": 2,
              "linecolor": "#EBF0F8",
              "showbackground": true,
              "ticks": "",
              "zerolinecolor": "#EBF0F8"
             },
             "yaxis": {
              "backgroundcolor": "white",
              "gridcolor": "#DFE8F3",
              "gridwidth": 2,
              "linecolor": "#EBF0F8",
              "showbackground": true,
              "ticks": "",
              "zerolinecolor": "#EBF0F8"
             },
             "zaxis": {
              "backgroundcolor": "white",
              "gridcolor": "#DFE8F3",
              "gridwidth": 2,
              "linecolor": "#EBF0F8",
              "showbackground": true,
              "ticks": "",
              "zerolinecolor": "#EBF0F8"
             }
            },
            "shapedefaults": {
             "line": {
              "color": "#2a3f5f"
             }
            },
            "ternary": {
             "aaxis": {
              "gridcolor": "#DFE8F3",
              "linecolor": "#A2B1C6",
              "ticks": ""
             },
             "baxis": {
              "gridcolor": "#DFE8F3",
              "linecolor": "#A2B1C6",
              "ticks": ""
             },
             "bgcolor": "white",
             "caxis": {
              "gridcolor": "#DFE8F3",
              "linecolor": "#A2B1C6",
              "ticks": ""
             }
            },
            "title": {
             "x": 0.05
            },
            "xaxis": {
             "automargin": true,
             "gridcolor": "#EBF0F8",
             "linecolor": "#EBF0F8",
             "ticks": "",
             "title": {
              "standoff": 15
             },
             "zerolinecolor": "#EBF0F8",
             "zerolinewidth": 2
            },
            "yaxis": {
             "automargin": true,
             "gridcolor": "#EBF0F8",
             "linecolor": "#EBF0F8",
             "ticks": "",
             "title": {
              "standoff": 15
             },
             "zerolinecolor": "#EBF0F8",
             "zerolinewidth": 2
            }
           }
          },
          "xaxis": {
           "automargin": false,
           "linecolor": "#444",
           "linewidth": 2,
           "minor": {
            "tickmode": "linear",
            "ticks": "outside"
           },
           "mirror": true,
           "showline": true,
           "ticks": "outside",
           "zeroline": false
          },
          "yaxis": {
           "automargin": false,
           "linecolor": "#444",
           "linewidth": 2,
           "minor": {
            "tickmode": "linear",
            "ticks": "outside"
           },
           "mirror": true,
           "showline": true,
           "ticks": "outside",
           "zeroline": false
          }
         }
        },
        "width": 600,
        "xaxis": {
         "ticktext": [
          "1:2",
          "1:1",
          "3:1",
          "5:1",
          "1:3",
          "",
          "1:5",
          "2:1",
          "",
          "",
          "",
          "1:12",
          "1:9",
          "",
          "1:7",
          ""
         ],
         "tickvals": [
          2,
          1,
          0.3333333333333333,
          0.2,
          3,
          0.16666666666666666,
          5,
          0.5,
          0.25,
          8,
          4,
          12,
          9,
          6,
          7,
          10
         ],
         "title": {
          "text": "XGtE ratio"
         },
         "type": "log"
        },
        "yaxis": {
         "ticktext": [
          "1:2",
          "1:1",
          "3:1",
          "5:1",
          "1:3",
          "",
          "1:5",
          "2:1",
          "",
          "",
          "",
          "1:12",
          "1:9",
          "",
          "1:7",
          ""
         ],
         "tickvals": [
          2,
          1,
          0.3333333333333333,
          0.2,
          3,
          0.16666666666666666,
          5,
          0.5,
          0.25,
          8,
          4,
          12,
          9,
          6,
          7,
          10
         ],
         "title": {
          "text": "calculated ratio"
         },
         "type": "log"
        }
       }
      }
     },
     "metadata": {},
     "output_type": "display_data"
    }
   ],
   "source": [
    "# plots XGtE ratios vs calculated ratios\n",
    "tickvals=[2.0, 1.0, 0.3333333333333333, 0.2, 3.0, 0.16666666666666666, 5.0, 0.5, 0.25, 8.0, 4.0, 12.0, 9.0, 6.0, 7.0, 10.0]\n",
    "ticktext=['1:2', '1:1', '3:1', '5:1', '1:3', '', '1:5', '2:1', '', '', '', '1:12', '1:9', '', '1:7', '']\n",
    "\n",
    "# create figure\n",
    "fig = go.Figure(\n",
    "    layout=go.Layout(\n",
    "        template=TFB_TEMPLATE,\n",
    "        xaxis=dict(\n",
    "            title_text='XGtE ratio',\n",
    "            type='log',\n",
    "            tickvals=tickvals,\n",
    "            ticktext=ticktext,\n",
    "        ),\n",
    "        yaxis=dict(\n",
    "            title_text='calculated ratio',\n",
    "            type='log',\n",
    "            tickvals=tickvals,\n",
    "            ticktext=ticktext,\n",
    "        ),\n",
    "        legend=dict(\n",
    "            xanchor='left', yanchor='top',\n",
    "            x=0.00, y=1.00,\n",
    "            orientation='v',\n",
    "            tracegroupgap=0,\n",
    "        )\n",
    "    )\n",
    ")\n",
    "\n",
    "def make_hovertext(row):\n",
    "    ratio = row['ratio']\n",
    "    cratio = row['calc ratio']\n",
    "    text = f'<b>PCs : Monsters</b><br>XGtE {ratio}<br>Calculated {cratio}'\n",
    "    return text\n",
    "    \n",
    "hovertext = dfX.apply(lambda row: make_hovertext(row), axis=1)\n",
    "\n",
    "# plot conversion ratios\n",
    "fig.add_trace(go.Scatter(\n",
    "    x=dfX['decimal'], \n",
    "    y=dfX['calc decimal'],\n",
    "    mode='markers', \n",
    "    name='Calculated monsters per PC',\n",
    "    showlegend=False,\n",
    "    hovertext=hovertext,\n",
    "    hovertemplate='%{hovertext}<extra></extra>',\n",
    "))\n",
    "\n",
    "coefs = np.polyfit(dfX['decimal'], dfX['calc decimal'], 1)\n",
    "poly = np.poly1d(coefs)\n",
    "fig.add_trace(go.Scatter(\n",
    "    x=[0,13], \n",
    "    y=[0,13],\n",
    "    mode='lines', \n",
    "    name='fit',\n",
    "    showlegend=False,\n",
    "    line=dict(color='black', dash='dash'),\n",
    "    hoverinfo='skip',\n",
    "))\n",
    "\n",
    "# show figure\n",
    "fig.update_layout(width=600, height=450)\n",
    "fig.show(config=TFB_CONFIG)\n",
    "\n",
    "# save figures\n",
    "if SAVEFIGS:\n",
    "    fig.update_layout(autosize=True, width=None, height=None)\n",
    "    save_fig_html(fig, format='large', name='fig-multi-monster-ratios-large')\n",
    "    save_fig_html(fig, format='small', name='fig-multi-monster-ratios-small')"
   ]
  },
  {
   "cell_type": "code",
   "execution_count": 63,
   "metadata": {},
   "outputs": [
    {
     "data": {
      "application/vnd.plotly.v1+json": {
       "config": {
        "autosizable": true,
        "displayModeBar": "hover",
        "displaylogo": false,
        "modeBarButtonsToRemove": [
         "select2d",
         "lasso2d",
         "zoom2d",
         "zoomIn2d",
         "zoomOut2d",
         "pan2d",
         "autoScale2d",
         "hoverClosestCartesian",
         "hoverCompareCartesian",
         "toggleSpikelines",
         "resetScale2d"
        ],
        "plotlyServerURL": "https://plot.ly",
        "responsive": true,
        "showAxisDragHandles": false,
        "toImageButtonOptions": {
         "filename": "tfb-plot",
         "format": "png",
         "height": 450,
         "scale": 2,
         "width": 600
        }
       },
       "data": [
        {
         "hovertemplate": "<b>Medium XP</b><br>Level %{x}<br>XP ratio %{y:,.2f}<extra></extra>",
         "line": {
          "color": "#FF7F0E"
         },
         "mode": "lines+markers",
         "name": "Medium XP",
         "type": "scatter",
         "x": [
          1,
          2,
          3,
          4,
          5,
          6,
          7,
          8,
          9,
          10,
          11,
          12,
          13,
          14,
          15,
          16,
          17,
          18,
          19,
          20
         ],
         "y": [
          0.6666666666666666,
          0.6666666666666666,
          0.6666666666666666,
          0.6666666666666666,
          0.6666666666666666,
          0.6666666666666666,
          0.6818181818181818,
          0.6428571428571429,
          0.6875,
          0.631578947368421,
          0.6666666666666666,
          0.6666666666666666,
          0.6470588235294118,
          0.6578947368421053,
          0.6511627906976745,
          0.6666666666666666,
          0.6610169491525424,
          0.6666666666666666,
          0.6712328767123288,
          0.6705882352941176
         ]
        },
        {
         "hovertemplate": "<b>Hard XP</b><br>Level %{x}<br>XP ratio %{y:,.2f}<extra></extra>",
         "line": {
          "color": "#2CA02C"
         },
         "mode": "lines+markers",
         "name": "Hard XP",
         "type": "scatter",
         "x": [
          1,
          2,
          3,
          4,
          5,
          6,
          7,
          8,
          9,
          10,
          11,
          12,
          13,
          14,
          15,
          16,
          17,
          18,
          19,
          20
         ],
         "y": [
          1,
          1,
          1,
          1,
          1,
          1,
          1,
          1,
          1,
          1,
          1,
          1,
          1,
          1,
          1,
          1,
          1,
          1,
          1,
          1
         ]
        },
        {
         "hovertemplate": "<b>Deadly XP</b><br>Level %{x}<br>XP ratio %{y:,.2f}<extra></extra>",
         "line": {
          "color": "#D62728"
         },
         "mode": "lines+markers",
         "name": "Deadly XP",
         "type": "scatter",
         "x": [
          1,
          2,
          3,
          4,
          5,
          6,
          7,
          8,
          9,
          10,
          11,
          12,
          13,
          14,
          15,
          16,
          17,
          18,
          19,
          20
         ],
         "y": [
          1.3333333333333333,
          1.3333333333333333,
          1.7777777777777777,
          1.3333333333333333,
          1.4666666666666666,
          1.5555555555555556,
          1.5454545454545454,
          1.5,
          1.5,
          1.4736842105263157,
          1.5,
          1.5,
          1.5,
          1.5,
          1.4883720930232558,
          1.5,
          1.4915254237288136,
          1.507936507936508,
          1.4931506849315068,
          1.4941176470588236
         ]
        }
       ],
       "layout": {
        "height": 450,
        "legend": {
         "orientation": "h",
         "tracegroupgap": 0,
         "x": 0,
         "xanchor": "left",
         "y": 0.02,
         "yanchor": "bottom"
        },
        "template": {
         "layout": {
          "autosize": false,
          "font": {
           "family": "sans-serif",
           "size": 14
          },
          "hoverlabel": {
           "align": "left"
          },
          "hovermode": "closest",
          "margin": {
           "b": 55,
           "l": 60,
           "pad": 4,
           "r": 25,
           "t": 20
          },
          "template": {
           "data": {
            "bar": [
             {
              "error_x": {
               "color": "#2a3f5f"
              },
              "error_y": {
               "color": "#2a3f5f"
              },
              "marker": {
               "line": {
                "color": "white",
                "width": 0.5
               },
               "pattern": {
                "fillmode": "overlay",
                "size": 10,
                "solidity": 0.2
               }
              },
              "type": "bar"
             }
            ],
            "barpolar": [
             {
              "marker": {
               "line": {
                "color": "white",
                "width": 0.5
               },
               "pattern": {
                "fillmode": "overlay",
                "size": 10,
                "solidity": 0.2
               }
              },
              "type": "barpolar"
             }
            ],
            "carpet": [
             {
              "aaxis": {
               "endlinecolor": "#2a3f5f",
               "gridcolor": "#C8D4E3",
               "linecolor": "#C8D4E3",
               "minorgridcolor": "#C8D4E3",
               "startlinecolor": "#2a3f5f"
              },
              "baxis": {
               "endlinecolor": "#2a3f5f",
               "gridcolor": "#C8D4E3",
               "linecolor": "#C8D4E3",
               "minorgridcolor": "#C8D4E3",
               "startlinecolor": "#2a3f5f"
              },
              "type": "carpet"
             }
            ],
            "choropleth": [
             {
              "colorbar": {
               "outlinewidth": 0,
               "ticks": ""
              },
              "type": "choropleth"
             }
            ],
            "contour": [
             {
              "colorbar": {
               "outlinewidth": 0,
               "ticks": ""
              },
              "colorscale": [
               [
                0,
                "#0d0887"
               ],
               [
                0.1111111111111111,
                "#46039f"
               ],
               [
                0.2222222222222222,
                "#7201a8"
               ],
               [
                0.3333333333333333,
                "#9c179e"
               ],
               [
                0.4444444444444444,
                "#bd3786"
               ],
               [
                0.5555555555555556,
                "#d8576b"
               ],
               [
                0.6666666666666666,
                "#ed7953"
               ],
               [
                0.7777777777777778,
                "#fb9f3a"
               ],
               [
                0.8888888888888888,
                "#fdca26"
               ],
               [
                1,
                "#f0f921"
               ]
              ],
              "type": "contour"
             }
            ],
            "contourcarpet": [
             {
              "colorbar": {
               "outlinewidth": 0,
               "ticks": ""
              },
              "type": "contourcarpet"
             }
            ],
            "heatmap": [
             {
              "colorbar": {
               "outlinewidth": 0,
               "ticks": ""
              },
              "colorscale": [
               [
                0,
                "#0d0887"
               ],
               [
                0.1111111111111111,
                "#46039f"
               ],
               [
                0.2222222222222222,
                "#7201a8"
               ],
               [
                0.3333333333333333,
                "#9c179e"
               ],
               [
                0.4444444444444444,
                "#bd3786"
               ],
               [
                0.5555555555555556,
                "#d8576b"
               ],
               [
                0.6666666666666666,
                "#ed7953"
               ],
               [
                0.7777777777777778,
                "#fb9f3a"
               ],
               [
                0.8888888888888888,
                "#fdca26"
               ],
               [
                1,
                "#f0f921"
               ]
              ],
              "type": "heatmap"
             }
            ],
            "heatmapgl": [
             {
              "colorbar": {
               "outlinewidth": 0,
               "ticks": ""
              },
              "colorscale": [
               [
                0,
                "#0d0887"
               ],
               [
                0.1111111111111111,
                "#46039f"
               ],
               [
                0.2222222222222222,
                "#7201a8"
               ],
               [
                0.3333333333333333,
                "#9c179e"
               ],
               [
                0.4444444444444444,
                "#bd3786"
               ],
               [
                0.5555555555555556,
                "#d8576b"
               ],
               [
                0.6666666666666666,
                "#ed7953"
               ],
               [
                0.7777777777777778,
                "#fb9f3a"
               ],
               [
                0.8888888888888888,
                "#fdca26"
               ],
               [
                1,
                "#f0f921"
               ]
              ],
              "type": "heatmapgl"
             }
            ],
            "histogram": [
             {
              "marker": {
               "pattern": {
                "fillmode": "overlay",
                "size": 10,
                "solidity": 0.2
               }
              },
              "type": "histogram"
             }
            ],
            "histogram2d": [
             {
              "colorbar": {
               "outlinewidth": 0,
               "ticks": ""
              },
              "colorscale": [
               [
                0,
                "#0d0887"
               ],
               [
                0.1111111111111111,
                "#46039f"
               ],
               [
                0.2222222222222222,
                "#7201a8"
               ],
               [
                0.3333333333333333,
                "#9c179e"
               ],
               [
                0.4444444444444444,
                "#bd3786"
               ],
               [
                0.5555555555555556,
                "#d8576b"
               ],
               [
                0.6666666666666666,
                "#ed7953"
               ],
               [
                0.7777777777777778,
                "#fb9f3a"
               ],
               [
                0.8888888888888888,
                "#fdca26"
               ],
               [
                1,
                "#f0f921"
               ]
              ],
              "type": "histogram2d"
             }
            ],
            "histogram2dcontour": [
             {
              "colorbar": {
               "outlinewidth": 0,
               "ticks": ""
              },
              "colorscale": [
               [
                0,
                "#0d0887"
               ],
               [
                0.1111111111111111,
                "#46039f"
               ],
               [
                0.2222222222222222,
                "#7201a8"
               ],
               [
                0.3333333333333333,
                "#9c179e"
               ],
               [
                0.4444444444444444,
                "#bd3786"
               ],
               [
                0.5555555555555556,
                "#d8576b"
               ],
               [
                0.6666666666666666,
                "#ed7953"
               ],
               [
                0.7777777777777778,
                "#fb9f3a"
               ],
               [
                0.8888888888888888,
                "#fdca26"
               ],
               [
                1,
                "#f0f921"
               ]
              ],
              "type": "histogram2dcontour"
             }
            ],
            "mesh3d": [
             {
              "colorbar": {
               "outlinewidth": 0,
               "ticks": ""
              },
              "type": "mesh3d"
             }
            ],
            "parcoords": [
             {
              "line": {
               "colorbar": {
                "outlinewidth": 0,
                "ticks": ""
               }
              },
              "type": "parcoords"
             }
            ],
            "pie": [
             {
              "automargin": true,
              "type": "pie"
             }
            ],
            "scatter": [
             {
              "fillpattern": {
               "fillmode": "overlay",
               "size": 10,
               "solidity": 0.2
              },
              "type": "scatter"
             }
            ],
            "scatter3d": [
             {
              "line": {
               "colorbar": {
                "outlinewidth": 0,
                "ticks": ""
               }
              },
              "marker": {
               "colorbar": {
                "outlinewidth": 0,
                "ticks": ""
               }
              },
              "type": "scatter3d"
             }
            ],
            "scattercarpet": [
             {
              "marker": {
               "colorbar": {
                "outlinewidth": 0,
                "ticks": ""
               }
              },
              "type": "scattercarpet"
             }
            ],
            "scattergeo": [
             {
              "marker": {
               "colorbar": {
                "outlinewidth": 0,
                "ticks": ""
               }
              },
              "type": "scattergeo"
             }
            ],
            "scattergl": [
             {
              "marker": {
               "colorbar": {
                "outlinewidth": 0,
                "ticks": ""
               }
              },
              "type": "scattergl"
             }
            ],
            "scattermapbox": [
             {
              "marker": {
               "colorbar": {
                "outlinewidth": 0,
                "ticks": ""
               }
              },
              "type": "scattermapbox"
             }
            ],
            "scatterpolar": [
             {
              "marker": {
               "colorbar": {
                "outlinewidth": 0,
                "ticks": ""
               }
              },
              "type": "scatterpolar"
             }
            ],
            "scatterpolargl": [
             {
              "marker": {
               "colorbar": {
                "outlinewidth": 0,
                "ticks": ""
               }
              },
              "type": "scatterpolargl"
             }
            ],
            "scatterternary": [
             {
              "marker": {
               "colorbar": {
                "outlinewidth": 0,
                "ticks": ""
               }
              },
              "type": "scatterternary"
             }
            ],
            "surface": [
             {
              "colorbar": {
               "outlinewidth": 0,
               "ticks": ""
              },
              "colorscale": [
               [
                0,
                "#0d0887"
               ],
               [
                0.1111111111111111,
                "#46039f"
               ],
               [
                0.2222222222222222,
                "#7201a8"
               ],
               [
                0.3333333333333333,
                "#9c179e"
               ],
               [
                0.4444444444444444,
                "#bd3786"
               ],
               [
                0.5555555555555556,
                "#d8576b"
               ],
               [
                0.6666666666666666,
                "#ed7953"
               ],
               [
                0.7777777777777778,
                "#fb9f3a"
               ],
               [
                0.8888888888888888,
                "#fdca26"
               ],
               [
                1,
                "#f0f921"
               ]
              ],
              "type": "surface"
             }
            ],
            "table": [
             {
              "cells": {
               "fill": {
                "color": "#EBF0F8"
               },
               "line": {
                "color": "white"
               }
              },
              "header": {
               "fill": {
                "color": "#C8D4E3"
               },
               "line": {
                "color": "white"
               }
              },
              "type": "table"
             }
            ]
           },
           "layout": {
            "annotationdefaults": {
             "arrowcolor": "#2a3f5f",
             "arrowhead": 0,
             "arrowwidth": 1
            },
            "autotypenumbers": "strict",
            "coloraxis": {
             "colorbar": {
              "outlinewidth": 0,
              "ticks": ""
             }
            },
            "colorscale": {
             "diverging": [
              [
               0,
               "#8e0152"
              ],
              [
               0.1,
               "#c51b7d"
              ],
              [
               0.2,
               "#de77ae"
              ],
              [
               0.3,
               "#f1b6da"
              ],
              [
               0.4,
               "#fde0ef"
              ],
              [
               0.5,
               "#f7f7f7"
              ],
              [
               0.6,
               "#e6f5d0"
              ],
              [
               0.7,
               "#b8e186"
              ],
              [
               0.8,
               "#7fbc41"
              ],
              [
               0.9,
               "#4d9221"
              ],
              [
               1,
               "#276419"
              ]
             ],
             "sequential": [
              [
               0,
               "#0d0887"
              ],
              [
               0.1111111111111111,
               "#46039f"
              ],
              [
               0.2222222222222222,
               "#7201a8"
              ],
              [
               0.3333333333333333,
               "#9c179e"
              ],
              [
               0.4444444444444444,
               "#bd3786"
              ],
              [
               0.5555555555555556,
               "#d8576b"
              ],
              [
               0.6666666666666666,
               "#ed7953"
              ],
              [
               0.7777777777777778,
               "#fb9f3a"
              ],
              [
               0.8888888888888888,
               "#fdca26"
              ],
              [
               1,
               "#f0f921"
              ]
             ],
             "sequentialminus": [
              [
               0,
               "#0d0887"
              ],
              [
               0.1111111111111111,
               "#46039f"
              ],
              [
               0.2222222222222222,
               "#7201a8"
              ],
              [
               0.3333333333333333,
               "#9c179e"
              ],
              [
               0.4444444444444444,
               "#bd3786"
              ],
              [
               0.5555555555555556,
               "#d8576b"
              ],
              [
               0.6666666666666666,
               "#ed7953"
              ],
              [
               0.7777777777777778,
               "#fb9f3a"
              ],
              [
               0.8888888888888888,
               "#fdca26"
              ],
              [
               1,
               "#f0f921"
              ]
             ]
            },
            "colorway": [
             "#636efa",
             "#EF553B",
             "#00cc96",
             "#ab63fa",
             "#FFA15A",
             "#19d3f3",
             "#FF6692",
             "#B6E880",
             "#FF97FF",
             "#FECB52"
            ],
            "font": {
             "color": "#2a3f5f"
            },
            "geo": {
             "bgcolor": "white",
             "lakecolor": "white",
             "landcolor": "white",
             "showlakes": true,
             "showland": true,
             "subunitcolor": "#C8D4E3"
            },
            "hoverlabel": {
             "align": "left"
            },
            "hovermode": "closest",
            "mapbox": {
             "style": "light"
            },
            "paper_bgcolor": "white",
            "plot_bgcolor": "white",
            "polar": {
             "angularaxis": {
              "gridcolor": "#EBF0F8",
              "linecolor": "#EBF0F8",
              "ticks": ""
             },
             "bgcolor": "white",
             "radialaxis": {
              "gridcolor": "#EBF0F8",
              "linecolor": "#EBF0F8",
              "ticks": ""
             }
            },
            "scene": {
             "xaxis": {
              "backgroundcolor": "white",
              "gridcolor": "#DFE8F3",
              "gridwidth": 2,
              "linecolor": "#EBF0F8",
              "showbackground": true,
              "ticks": "",
              "zerolinecolor": "#EBF0F8"
             },
             "yaxis": {
              "backgroundcolor": "white",
              "gridcolor": "#DFE8F3",
              "gridwidth": 2,
              "linecolor": "#EBF0F8",
              "showbackground": true,
              "ticks": "",
              "zerolinecolor": "#EBF0F8"
             },
             "zaxis": {
              "backgroundcolor": "white",
              "gridcolor": "#DFE8F3",
              "gridwidth": 2,
              "linecolor": "#EBF0F8",
              "showbackground": true,
              "ticks": "",
              "zerolinecolor": "#EBF0F8"
             }
            },
            "shapedefaults": {
             "line": {
              "color": "#2a3f5f"
             }
            },
            "ternary": {
             "aaxis": {
              "gridcolor": "#DFE8F3",
              "linecolor": "#A2B1C6",
              "ticks": ""
             },
             "baxis": {
              "gridcolor": "#DFE8F3",
              "linecolor": "#A2B1C6",
              "ticks": ""
             },
             "bgcolor": "white",
             "caxis": {
              "gridcolor": "#DFE8F3",
              "linecolor": "#A2B1C6",
              "ticks": ""
             }
            },
            "title": {
             "x": 0.05
            },
            "xaxis": {
             "automargin": true,
             "gridcolor": "#EBF0F8",
             "linecolor": "#EBF0F8",
             "ticks": "",
             "title": {
              "standoff": 15
             },
             "zerolinecolor": "#EBF0F8",
             "zerolinewidth": 2
            },
            "yaxis": {
             "automargin": true,
             "gridcolor": "#EBF0F8",
             "linecolor": "#EBF0F8",
             "ticks": "",
             "title": {
              "standoff": 15
             },
             "zerolinecolor": "#EBF0F8",
             "zerolinewidth": 2
            }
           }
          },
          "xaxis": {
           "automargin": false,
           "linecolor": "#444",
           "linewidth": 2,
           "minor": {
            "tickmode": "linear",
            "ticks": "outside"
           },
           "mirror": true,
           "showline": true,
           "tickmode": "linear",
           "ticks": "outside",
           "zeroline": false
          },
          "yaxis": {
           "automargin": false,
           "linecolor": "#444",
           "linewidth": 2,
           "minor": {
            "tickmode": "linear",
            "ticks": "outside"
           },
           "mirror": true,
           "showline": true,
           "ticks": "outside",
           "zeroline": false
          }
         }
        },
        "width": 600,
        "xaxis": {
         "dtick": 5,
         "minor": {
          "dtick": 1,
          "tick0": 0
         },
         "range": [
          0,
          21
         ],
         "tick0": 0,
         "title": {
          "text": "level"
         }
        },
        "yaxis": {
         "dtick": 0.5,
         "minor": {
          "dtick": 0.1,
          "tick0": 0
         },
         "range": [
          0,
          1.8
         ],
         "tick0": 0,
         "title": {
          "text": "XP ratio"
         }
        }
       }
      }
     },
     "metadata": {},
     "output_type": "display_data"
    }
   ],
   "source": [
    "# plots threshold XP relative to the Hard XP threshold\n",
    "\n",
    "# create figure\n",
    "fig = go.Figure(\n",
    "    layout=go.Layout(\n",
    "        template=TFB_TEMPLATE,\n",
    "        xaxis=dict(\n",
    "            title_text='level',\n",
    "            range=[0,21],\n",
    "            tick0=0, dtick=5,\n",
    "            minor=dict(tick0=0, dtick=1),\n",
    "        ),\n",
    "        yaxis=dict(\n",
    "            title_text='XP ratio',\n",
    "            range=[0,1.8],\n",
    "            tick0=0, dtick=0.5,\n",
    "            minor=dict(tick0=0, dtick=0.1),\n",
    "        ),\n",
    "        legend=dict(\n",
    "            xanchor='left', yanchor='bottom',\n",
    "            x=0.00, y=0.02,\n",
    "            orientation='h',\n",
    "            tracegroupgap=0,\n",
    "        )\n",
    "    )\n",
    ")\n",
    "\n",
    "diffs = ['Medium XP', 'Hard XP', 'Deadly XP']\n",
    "colors = ['#FF7F0E', '#2CA02C', '#D62728']\n",
    "for diff, color in zip(diffs, colors):\n",
    "    fig.add_trace(go.Scatter(\n",
    "        x=dfP.index.to_numpy(), \n",
    "        y=dfP[diff]/dfP['Hard XP'],\n",
    "        mode='lines+markers', \n",
    "        name=diff,\n",
    "        line=dict(color=color),\n",
    "        hovertemplate= \n",
    "            f'<b>{diff}</b><br>'\n",
    "            'Level %{x}<br>'+\n",
    "            'XP ratio %{y:,.2f}' + \n",
    "            '<extra></extra>'\n",
    "    ))\n",
    "\n",
    "# show figure\n",
    "fig.update_layout(width=600, height=450)\n",
    "fig.show(config=TFB_CONFIG)\n",
    "\n",
    "# save figures\n",
    "if SAVEFIGS:\n",
    "    fig.update_layout(autosize=True, width=None, height=None)\n",
    "    save_fig_html(fig, format='large', name='fig-xp-threshold-ratios-large')\n",
    "    save_fig_html(fig, format='small', name='fig-xp-threshold-ratios-small')"
   ]
  },
  {
   "cell_type": "code",
   "execution_count": 66,
   "metadata": {},
   "outputs": [
    {
     "data": {
      "application/vnd.plotly.v1+json": {
       "config": {
        "autosizable": true,
        "displayModeBar": "hover",
        "displaylogo": false,
        "modeBarButtonsToRemove": [
         "select2d",
         "lasso2d",
         "zoom2d",
         "zoomIn2d",
         "zoomOut2d",
         "pan2d",
         "autoScale2d",
         "hoverClosestCartesian",
         "hoverCompareCartesian",
         "toggleSpikelines",
         "resetScale2d"
        ],
        "plotlyServerURL": "https://plot.ly",
        "responsive": true,
        "showAxisDragHandles": false,
        "toImageButtonOptions": {
         "filename": "tfb-plot",
         "format": "png",
         "height": 450,
         "scale": 2,
         "width": 600
        }
       },
       "data": [
        {
         "hovertemplate": "<b>Basic Rules</b><br>NPCs %{x}<br>Multiplier %{y:,.2f}<extra></extra>",
         "mode": "markers+lines",
         "name": "1 monster per group (Basic Rules)",
         "type": "scatter",
         "x": [
          1,
          2,
          3,
          4,
          5,
          6,
          7,
          8,
          9,
          10,
          11,
          12,
          13,
          14,
          15,
          16,
          17,
          18,
          19,
          20
         ],
         "y": [
          1,
          1.5,
          2,
          2,
          2,
          2,
          2.5,
          2.5,
          2.5,
          2.5,
          3,
          3,
          3,
          3,
          4,
          4,
          4,
          4,
          4,
          4
         ]
        },
        {
         "hovertemplate": "<b>XGtE</b><br>NPCs %{x}<br>Multiplier %{y:,.2f}<extra></extra>",
         "mode": "markers+lines",
         "name": "1 monster per PC (XGtE)",
         "type": "scatter",
         "x": [
          1,
          2,
          3,
          4,
          5,
          6,
          7,
          8,
          9,
          10,
          11,
          12,
          13,
          14,
          15,
          16,
          17,
          18,
          19,
          20
         ],
         "y": [
          0.5,
          0.75,
          1,
          1,
          1,
          1,
          1.25,
          1.25,
          1.25,
          1.25,
          1.5,
          1.5,
          1.5,
          1.5,
          2,
          2,
          2,
          2,
          2,
          2
         ]
        }
       ],
       "layout": {
        "height": 450,
        "legend": {
         "orientation": "v",
         "tracegroupgap": 0,
         "x": 0,
         "xanchor": "left",
         "y": 1,
         "yanchor": "top"
        },
        "template": {
         "layout": {
          "autosize": false,
          "font": {
           "family": "sans-serif",
           "size": 14
          },
          "hoverlabel": {
           "align": "left"
          },
          "hovermode": "closest",
          "margin": {
           "b": 55,
           "l": 60,
           "pad": 4,
           "r": 25,
           "t": 20
          },
          "template": {
           "data": {
            "bar": [
             {
              "error_x": {
               "color": "#2a3f5f"
              },
              "error_y": {
               "color": "#2a3f5f"
              },
              "marker": {
               "line": {
                "color": "white",
                "width": 0.5
               },
               "pattern": {
                "fillmode": "overlay",
                "size": 10,
                "solidity": 0.2
               }
              },
              "type": "bar"
             }
            ],
            "barpolar": [
             {
              "marker": {
               "line": {
                "color": "white",
                "width": 0.5
               },
               "pattern": {
                "fillmode": "overlay",
                "size": 10,
                "solidity": 0.2
               }
              },
              "type": "barpolar"
             }
            ],
            "carpet": [
             {
              "aaxis": {
               "endlinecolor": "#2a3f5f",
               "gridcolor": "#C8D4E3",
               "linecolor": "#C8D4E3",
               "minorgridcolor": "#C8D4E3",
               "startlinecolor": "#2a3f5f"
              },
              "baxis": {
               "endlinecolor": "#2a3f5f",
               "gridcolor": "#C8D4E3",
               "linecolor": "#C8D4E3",
               "minorgridcolor": "#C8D4E3",
               "startlinecolor": "#2a3f5f"
              },
              "type": "carpet"
             }
            ],
            "choropleth": [
             {
              "colorbar": {
               "outlinewidth": 0,
               "ticks": ""
              },
              "type": "choropleth"
             }
            ],
            "contour": [
             {
              "colorbar": {
               "outlinewidth": 0,
               "ticks": ""
              },
              "colorscale": [
               [
                0,
                "#0d0887"
               ],
               [
                0.1111111111111111,
                "#46039f"
               ],
               [
                0.2222222222222222,
                "#7201a8"
               ],
               [
                0.3333333333333333,
                "#9c179e"
               ],
               [
                0.4444444444444444,
                "#bd3786"
               ],
               [
                0.5555555555555556,
                "#d8576b"
               ],
               [
                0.6666666666666666,
                "#ed7953"
               ],
               [
                0.7777777777777778,
                "#fb9f3a"
               ],
               [
                0.8888888888888888,
                "#fdca26"
               ],
               [
                1,
                "#f0f921"
               ]
              ],
              "type": "contour"
             }
            ],
            "contourcarpet": [
             {
              "colorbar": {
               "outlinewidth": 0,
               "ticks": ""
              },
              "type": "contourcarpet"
             }
            ],
            "heatmap": [
             {
              "colorbar": {
               "outlinewidth": 0,
               "ticks": ""
              },
              "colorscale": [
               [
                0,
                "#0d0887"
               ],
               [
                0.1111111111111111,
                "#46039f"
               ],
               [
                0.2222222222222222,
                "#7201a8"
               ],
               [
                0.3333333333333333,
                "#9c179e"
               ],
               [
                0.4444444444444444,
                "#bd3786"
               ],
               [
                0.5555555555555556,
                "#d8576b"
               ],
               [
                0.6666666666666666,
                "#ed7953"
               ],
               [
                0.7777777777777778,
                "#fb9f3a"
               ],
               [
                0.8888888888888888,
                "#fdca26"
               ],
               [
                1,
                "#f0f921"
               ]
              ],
              "type": "heatmap"
             }
            ],
            "heatmapgl": [
             {
              "colorbar": {
               "outlinewidth": 0,
               "ticks": ""
              },
              "colorscale": [
               [
                0,
                "#0d0887"
               ],
               [
                0.1111111111111111,
                "#46039f"
               ],
               [
                0.2222222222222222,
                "#7201a8"
               ],
               [
                0.3333333333333333,
                "#9c179e"
               ],
               [
                0.4444444444444444,
                "#bd3786"
               ],
               [
                0.5555555555555556,
                "#d8576b"
               ],
               [
                0.6666666666666666,
                "#ed7953"
               ],
               [
                0.7777777777777778,
                "#fb9f3a"
               ],
               [
                0.8888888888888888,
                "#fdca26"
               ],
               [
                1,
                "#f0f921"
               ]
              ],
              "type": "heatmapgl"
             }
            ],
            "histogram": [
             {
              "marker": {
               "pattern": {
                "fillmode": "overlay",
                "size": 10,
                "solidity": 0.2
               }
              },
              "type": "histogram"
             }
            ],
            "histogram2d": [
             {
              "colorbar": {
               "outlinewidth": 0,
               "ticks": ""
              },
              "colorscale": [
               [
                0,
                "#0d0887"
               ],
               [
                0.1111111111111111,
                "#46039f"
               ],
               [
                0.2222222222222222,
                "#7201a8"
               ],
               [
                0.3333333333333333,
                "#9c179e"
               ],
               [
                0.4444444444444444,
                "#bd3786"
               ],
               [
                0.5555555555555556,
                "#d8576b"
               ],
               [
                0.6666666666666666,
                "#ed7953"
               ],
               [
                0.7777777777777778,
                "#fb9f3a"
               ],
               [
                0.8888888888888888,
                "#fdca26"
               ],
               [
                1,
                "#f0f921"
               ]
              ],
              "type": "histogram2d"
             }
            ],
            "histogram2dcontour": [
             {
              "colorbar": {
               "outlinewidth": 0,
               "ticks": ""
              },
              "colorscale": [
               [
                0,
                "#0d0887"
               ],
               [
                0.1111111111111111,
                "#46039f"
               ],
               [
                0.2222222222222222,
                "#7201a8"
               ],
               [
                0.3333333333333333,
                "#9c179e"
               ],
               [
                0.4444444444444444,
                "#bd3786"
               ],
               [
                0.5555555555555556,
                "#d8576b"
               ],
               [
                0.6666666666666666,
                "#ed7953"
               ],
               [
                0.7777777777777778,
                "#fb9f3a"
               ],
               [
                0.8888888888888888,
                "#fdca26"
               ],
               [
                1,
                "#f0f921"
               ]
              ],
              "type": "histogram2dcontour"
             }
            ],
            "mesh3d": [
             {
              "colorbar": {
               "outlinewidth": 0,
               "ticks": ""
              },
              "type": "mesh3d"
             }
            ],
            "parcoords": [
             {
              "line": {
               "colorbar": {
                "outlinewidth": 0,
                "ticks": ""
               }
              },
              "type": "parcoords"
             }
            ],
            "pie": [
             {
              "automargin": true,
              "type": "pie"
             }
            ],
            "scatter": [
             {
              "fillpattern": {
               "fillmode": "overlay",
               "size": 10,
               "solidity": 0.2
              },
              "type": "scatter"
             }
            ],
            "scatter3d": [
             {
              "line": {
               "colorbar": {
                "outlinewidth": 0,
                "ticks": ""
               }
              },
              "marker": {
               "colorbar": {
                "outlinewidth": 0,
                "ticks": ""
               }
              },
              "type": "scatter3d"
             }
            ],
            "scattercarpet": [
             {
              "marker": {
               "colorbar": {
                "outlinewidth": 0,
                "ticks": ""
               }
              },
              "type": "scattercarpet"
             }
            ],
            "scattergeo": [
             {
              "marker": {
               "colorbar": {
                "outlinewidth": 0,
                "ticks": ""
               }
              },
              "type": "scattergeo"
             }
            ],
            "scattergl": [
             {
              "marker": {
               "colorbar": {
                "outlinewidth": 0,
                "ticks": ""
               }
              },
              "type": "scattergl"
             }
            ],
            "scattermapbox": [
             {
              "marker": {
               "colorbar": {
                "outlinewidth": 0,
                "ticks": ""
               }
              },
              "type": "scattermapbox"
             }
            ],
            "scatterpolar": [
             {
              "marker": {
               "colorbar": {
                "outlinewidth": 0,
                "ticks": ""
               }
              },
              "type": "scatterpolar"
             }
            ],
            "scatterpolargl": [
             {
              "marker": {
               "colorbar": {
                "outlinewidth": 0,
                "ticks": ""
               }
              },
              "type": "scatterpolargl"
             }
            ],
            "scatterternary": [
             {
              "marker": {
               "colorbar": {
                "outlinewidth": 0,
                "ticks": ""
               }
              },
              "type": "scatterternary"
             }
            ],
            "surface": [
             {
              "colorbar": {
               "outlinewidth": 0,
               "ticks": ""
              },
              "colorscale": [
               [
                0,
                "#0d0887"
               ],
               [
                0.1111111111111111,
                "#46039f"
               ],
               [
                0.2222222222222222,
                "#7201a8"
               ],
               [
                0.3333333333333333,
                "#9c179e"
               ],
               [
                0.4444444444444444,
                "#bd3786"
               ],
               [
                0.5555555555555556,
                "#d8576b"
               ],
               [
                0.6666666666666666,
                "#ed7953"
               ],
               [
                0.7777777777777778,
                "#fb9f3a"
               ],
               [
                0.8888888888888888,
                "#fdca26"
               ],
               [
                1,
                "#f0f921"
               ]
              ],
              "type": "surface"
             }
            ],
            "table": [
             {
              "cells": {
               "fill": {
                "color": "#EBF0F8"
               },
               "line": {
                "color": "white"
               }
              },
              "header": {
               "fill": {
                "color": "#C8D4E3"
               },
               "line": {
                "color": "white"
               }
              },
              "type": "table"
             }
            ]
           },
           "layout": {
            "annotationdefaults": {
             "arrowcolor": "#2a3f5f",
             "arrowhead": 0,
             "arrowwidth": 1
            },
            "autotypenumbers": "strict",
            "coloraxis": {
             "colorbar": {
              "outlinewidth": 0,
              "ticks": ""
             }
            },
            "colorscale": {
             "diverging": [
              [
               0,
               "#8e0152"
              ],
              [
               0.1,
               "#c51b7d"
              ],
              [
               0.2,
               "#de77ae"
              ],
              [
               0.3,
               "#f1b6da"
              ],
              [
               0.4,
               "#fde0ef"
              ],
              [
               0.5,
               "#f7f7f7"
              ],
              [
               0.6,
               "#e6f5d0"
              ],
              [
               0.7,
               "#b8e186"
              ],
              [
               0.8,
               "#7fbc41"
              ],
              [
               0.9,
               "#4d9221"
              ],
              [
               1,
               "#276419"
              ]
             ],
             "sequential": [
              [
               0,
               "#0d0887"
              ],
              [
               0.1111111111111111,
               "#46039f"
              ],
              [
               0.2222222222222222,
               "#7201a8"
              ],
              [
               0.3333333333333333,
               "#9c179e"
              ],
              [
               0.4444444444444444,
               "#bd3786"
              ],
              [
               0.5555555555555556,
               "#d8576b"
              ],
              [
               0.6666666666666666,
               "#ed7953"
              ],
              [
               0.7777777777777778,
               "#fb9f3a"
              ],
              [
               0.8888888888888888,
               "#fdca26"
              ],
              [
               1,
               "#f0f921"
              ]
             ],
             "sequentialminus": [
              [
               0,
               "#0d0887"
              ],
              [
               0.1111111111111111,
               "#46039f"
              ],
              [
               0.2222222222222222,
               "#7201a8"
              ],
              [
               0.3333333333333333,
               "#9c179e"
              ],
              [
               0.4444444444444444,
               "#bd3786"
              ],
              [
               0.5555555555555556,
               "#d8576b"
              ],
              [
               0.6666666666666666,
               "#ed7953"
              ],
              [
               0.7777777777777778,
               "#fb9f3a"
              ],
              [
               0.8888888888888888,
               "#fdca26"
              ],
              [
               1,
               "#f0f921"
              ]
             ]
            },
            "colorway": [
             "#636efa",
             "#EF553B",
             "#00cc96",
             "#ab63fa",
             "#FFA15A",
             "#19d3f3",
             "#FF6692",
             "#B6E880",
             "#FF97FF",
             "#FECB52"
            ],
            "font": {
             "color": "#2a3f5f"
            },
            "geo": {
             "bgcolor": "white",
             "lakecolor": "white",
             "landcolor": "white",
             "showlakes": true,
             "showland": true,
             "subunitcolor": "#C8D4E3"
            },
            "hoverlabel": {
             "align": "left"
            },
            "hovermode": "closest",
            "mapbox": {
             "style": "light"
            },
            "paper_bgcolor": "white",
            "plot_bgcolor": "white",
            "polar": {
             "angularaxis": {
              "gridcolor": "#EBF0F8",
              "linecolor": "#EBF0F8",
              "ticks": ""
             },
             "bgcolor": "white",
             "radialaxis": {
              "gridcolor": "#EBF0F8",
              "linecolor": "#EBF0F8",
              "ticks": ""
             }
            },
            "scene": {
             "xaxis": {
              "backgroundcolor": "white",
              "gridcolor": "#DFE8F3",
              "gridwidth": 2,
              "linecolor": "#EBF0F8",
              "showbackground": true,
              "ticks": "",
              "zerolinecolor": "#EBF0F8"
             },
             "yaxis": {
              "backgroundcolor": "white",
              "gridcolor": "#DFE8F3",
              "gridwidth": 2,
              "linecolor": "#EBF0F8",
              "showbackground": true,
              "ticks": "",
              "zerolinecolor": "#EBF0F8"
             },
             "zaxis": {
              "backgroundcolor": "white",
              "gridcolor": "#DFE8F3",
              "gridwidth": 2,
              "linecolor": "#EBF0F8",
              "showbackground": true,
              "ticks": "",
              "zerolinecolor": "#EBF0F8"
             }
            },
            "shapedefaults": {
             "line": {
              "color": "#2a3f5f"
             }
            },
            "ternary": {
             "aaxis": {
              "gridcolor": "#DFE8F3",
              "linecolor": "#A2B1C6",
              "ticks": ""
             },
             "baxis": {
              "gridcolor": "#DFE8F3",
              "linecolor": "#A2B1C6",
              "ticks": ""
             },
             "bgcolor": "white",
             "caxis": {
              "gridcolor": "#DFE8F3",
              "linecolor": "#A2B1C6",
              "ticks": ""
             }
            },
            "title": {
             "x": 0.05
            },
            "xaxis": {
             "automargin": true,
             "gridcolor": "#EBF0F8",
             "linecolor": "#EBF0F8",
             "ticks": "",
             "title": {
              "standoff": 15
             },
             "zerolinecolor": "#EBF0F8",
             "zerolinewidth": 2
            },
            "yaxis": {
             "automargin": true,
             "gridcolor": "#EBF0F8",
             "linecolor": "#EBF0F8",
             "ticks": "",
             "title": {
              "standoff": 15
             },
             "zerolinecolor": "#EBF0F8",
             "zerolinewidth": 2
            }
           }
          },
          "xaxis": {
           "automargin": false,
           "linecolor": "#444",
           "linewidth": 2,
           "minor": {
            "tickmode": "linear",
            "ticks": "outside"
           },
           "mirror": true,
           "showline": true,
           "tickmode": "linear",
           "ticks": "outside",
           "zeroline": false
          },
          "yaxis": {
           "automargin": false,
           "linecolor": "#444",
           "linewidth": 2,
           "minor": {
            "tickmode": "linear",
            "ticks": "outside"
           },
           "mirror": true,
           "showline": true,
           "ticks": "outside",
           "zeroline": false
          }
         }
        },
        "width": 600,
        "xaxis": {
         "dtick": 5,
         "minor": {
          "dtick": 1,
          "tick0": 0
         },
         "range": [
          0,
          21
         ],
         "tick0": 0,
         "title": {
          "text": "NPCs"
         }
        },
        "yaxis": {
         "dtick": 1,
         "minor": {
          "dtick": 0.5,
          "tick0": 0
         },
         "range": [
          0,
          4.5
         ],
         "tick0": 0,
         "title": {
          "text": "encounter multiplier"
         }
        }
       }
      }
     },
     "metadata": {},
     "output_type": "display_data"
    }
   ],
   "source": [
    "def encounter_multiplier_DMG(pc_count, npc_count):\n",
    "    \"\"\"Returns the encounter multiplier given by the DMG\n",
    "    pc_count -- number of PCs in the encounter\n",
    "    npc_count -- number of NPCs in the encounter\n",
    "    \"\"\"\n",
    "    n_array = np.asarray([1,2,3,7,11,15])\n",
    "    m_array = np.asarray([0.5, 1.0, 1.5, 2.0, 2.5, 3.0, 4.0, 5.0])\n",
    "    i = 1 + n_array[n_array <= max(npc_count,1)].argmax()\n",
    "    if pc_count >= 6:\n",
    "        i -= 1\n",
    "    elif pc_count <= 2:\n",
    "        i += 1\n",
    "    return m_array[i]\n",
    "\n",
    "\n",
    "# create figure\n",
    "fig = go.Figure(\n",
    "    layout=go.Layout(\n",
    "        template=TFB_TEMPLATE,\n",
    "        xaxis=dict(\n",
    "            title_text='NPCs',\n",
    "            range=[0,21],\n",
    "            tick0=0, dtick=5,\n",
    "            minor=dict(tick0=0, dtick=1),\n",
    "        ),\n",
    "        yaxis=dict(\n",
    "            title_text='encounter multiplier',\n",
    "            range=[0,4.5],\n",
    "            tick0=0, dtick=1,\n",
    "            minor=dict(tick0=0, dtick=0.5),\n",
    "        ),\n",
    "        legend=dict(\n",
    "            xanchor='left', yanchor='top',\n",
    "            x=0.00, y=1.00,\n",
    "            orientation='v',\n",
    "            tracegroupgap=0,\n",
    "        )\n",
    "    )\n",
    ")\n",
    "\n",
    "# plot encounter multiplier\n",
    "x = np.linspace(1, 20, 20)\n",
    "y = np.array([encounter_multiplier_DMG(4, n) for n in x])\n",
    "fig.add_trace(go.Scatter(\n",
    "    x=x, \n",
    "    y=y,\n",
    "    mode='markers+lines', \n",
    "    name='1 monster per group (Basic Rules)',\n",
    "    hovertemplate= \n",
    "        f'<b>Basic Rules</b><br>'\n",
    "        'NPCs %{x}<br>'+\n",
    "        'Multiplier %{y:,.2f}' + \n",
    "        '<extra></extra>'\n",
    "))\n",
    "\n",
    "fig.add_trace(go.Scatter(\n",
    "    x=x, \n",
    "    y=0.5*y,\n",
    "    mode='markers+lines', \n",
    "    name='1 monster per PC (XGtE)',\n",
    "    hovertemplate= \n",
    "        f'<b>XGtE</b><br>'\n",
    "        'NPCs %{x}<br>'+\n",
    "        'Multiplier %{y:,.2f}' + \n",
    "        '<extra></extra>'\n",
    "))\n",
    "\n",
    "# show figure\n",
    "fig.update_layout(width=600, height=450)\n",
    "fig.show(config=TFB_CONFIG)\n",
    "\n",
    "# save figures\n",
    "if SAVEFIGS:\n",
    "    fig.update_layout(autosize=True, width=None, height=None)\n",
    "    save_fig_html(fig, format='large', name='fig-encounter-multiplier-large')\n",
    "    save_fig_html(fig, format='small', name='fig-encounter-multiplier-small')"
   ]
  }
 ],
 "metadata": {
  "kernelspec": {
   "display_name": "thefinishedbook",
   "language": "python",
   "name": "python3"
  },
  "language_info": {
   "codemirror_mode": {
    "name": "ipython",
    "version": 3
   },
   "file_extension": ".py",
   "mimetype": "text/x-python",
   "name": "python",
   "nbconvert_exporter": "python",
   "pygments_lexer": "ipython3",
   "version": "3.10.5"
  },
  "metadata": {
   "interpreter": {
    "hash": "aee8b7b246df8f9039afb4144a1f6fd8d2ca17a180786b69acc140d282b71a49"
   }
  },
  "orig_nbformat": 2,
  "vscode": {
   "interpreter": {
    "hash": "e4b90a08ac11b7f80ea6e39e6f46c6e22a0b6d86a47874aaa13784019f162251"
   }
  }
 },
 "nbformat": 4,
 "nbformat_minor": 2
}
