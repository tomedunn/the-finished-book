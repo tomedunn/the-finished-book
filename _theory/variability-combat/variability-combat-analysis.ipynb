{
 "cells": [
  {
   "cell_type": "code",
   "execution_count": 1,
   "metadata": {},
   "outputs": [],
   "source": [
    "import numpy as np\n",
    "import plotly.graph_objects as go\n",
    "import sys\n",
    "sys.path.append('../../assets/python/')\n",
    "import combat_probability as cp\n",
    "import tfb\n",
    "from icepool import d\n",
    "\n",
    "METADATA = {'Contributor': 'T. Dunn'}\n",
    "SAVEFIGS = False\n",
    "\n",
    "COLOR_LIST = [\n",
    "    '#1f77b4',  # muted blue\n",
    "    '#ff7f0e',  # safety orange\n",
    "    '#2ca02c',  # cooked asparagus green\n",
    "    '#d62728',  # brick red\n",
    "    '#9467bd',  # muted purple\n",
    "    '#8c564b',  # chestnut brown\n",
    "    '#e377c2',  # raspberry yogurt pink\n",
    "    '#7f7f7f',  # middle gray\n",
    "    '#bcbd22',  # curry yellow-green\n",
    "    '#17becf'   # blue-teal\n",
    "]"
   ]
  },
  {
   "cell_type": "code",
   "execution_count": 5,
   "metadata": {},
   "outputs": [
    {
     "data": {
      "application/vnd.plotly.v1+json": {
       "config": {
        "autosizable": true,
        "displayModeBar": "hover",
        "displaylogo": false,
        "doubleClick": "reset",
        "modeBarButtonsToRemove": [
         "select2d",
         "lasso2d",
         "zoom2d",
         "zoomIn2d",
         "zoomOut2d",
         "pan2d",
         "autoScale2d",
         "hoverClosestCartesian",
         "hoverCompareCartesian",
         "toggleSpikelines",
         "resetScale2d"
        ],
        "plotlyServerURL": "https://plot.ly",
        "responsive": true,
        "showAxisDragHandles": false,
        "toImageButtonOptions": {
         "filename": "tfb-plot",
         "format": "png",
         "height": 450,
         "scale": 2,
         "width": 600
        }
       },
       "data": [
        {
         "fill": "tozeroy",
         "hoveron": "points",
         "hovertemplate": "<b>round 1</b><br>damage %{x:.0f}<br>probability %{y:.1%}<extra></extra>",
         "line": {
          "color": "#1f77b4",
          "shape": "hvh"
         },
         "mode": "lines",
         "name": "round 1",
         "type": "scatter",
         "x": [
          -1,
          0,
          1,
          2,
          3,
          4,
          5,
          6,
          7,
          8,
          9,
          10,
          11,
          12,
          13,
          14,
          15,
          16,
          17,
          18,
          19,
          20,
          21,
          22,
          23,
          24,
          25,
          26,
          27,
          28,
          29,
          30,
          31,
          32,
          33
         ],
         "y": [
          0,
          0.09,
          0,
          0,
          0,
          0,
          0.065,
          0.06583333333333333,
          0.06666666666666667,
          0.0675,
          0.06833333333333333,
          0.08090277777777778,
          0.02877314814814815,
          0.04027970679012346,
          0.05209104938271605,
          0.0642091049382716,
          0.0766358024691358,
          0.0659008487654321,
          0.05457561728395062,
          0.043487654320987654,
          0.03179783950617284,
          0.019500385802469135,
          0.006589506172839506,
          0.0047955246913580244,
          0.003279320987654321,
          0.0020466820987654322,
          0.001103395061728395,
          0.0004552469135802469,
          0.0001080246913580247,
          0.00006751543209876543,
          0.000038580246913580246,
          0.000019290123456790123,
          0.00000771604938271605,
          0.0000019290123456790124,
          0
         ]
        },
        {
         "fill": "tozeroy",
         "hoveron": "points",
         "hovertemplate": "<b>round 2</b><br>damage %{x:.0f}<br>probability %{y:.1%}<extra></extra>",
         "line": {
          "color": "#ff7f0e",
          "shape": "hvh"
         },
         "mode": "lines",
         "name": "round 2",
         "type": "scatter",
         "x": [
          -1,
          0,
          1,
          2,
          3,
          4,
          5,
          6,
          7,
          8,
          9,
          10,
          11,
          12,
          13,
          14,
          15,
          16,
          17,
          18,
          19,
          20,
          21,
          22,
          23,
          24,
          25,
          26,
          27,
          28,
          29,
          30,
          31,
          32,
          33,
          34,
          35,
          36,
          37,
          38,
          39,
          40,
          41,
          42,
          43,
          44,
          45,
          46,
          47,
          48,
          49,
          50,
          51,
          52,
          53,
          54,
          55,
          56,
          57,
          58,
          59,
          60,
          61,
          62,
          63,
          64,
          65
         ],
         "y": [
          0,
          0.0081,
          0,
          0,
          0,
          0,
          0.0117,
          0.01185,
          0.012,
          0.01215,
          0.0123,
          0.0187875,
          0.0137375,
          0.020251041666666667,
          0.026929166666666667,
          0.033772916666666666,
          0.04230902777777778,
          0.03992222222222222,
          0.03886047453703704,
          0.039330848122427986,
          0.04124116512345679,
          0.04478774594907407,
          0.04559765625,
          0.049985790412808644,
          0.05208388908536237,
          0.0518844112620087,
          0.04938440753719898,
          0.04403469931520062,
          0.03983271596007659,
          0.03651972323584676,
          0.033650151284579335,
          0.03091177404537704,
          0.027966715011050143,
          0.025277197120502543,
          0.02182338951284103,
          0.017921429660112786,
          0.013926300743741427,
          0.010234199126467001,
          0.007282835927974013,
          0.005001852566300868,
          0.003294510322597546,
          0.002095050226510107,
          0.0013124305198331048,
          0.0008290083120189377,
          0.0004991980905159275,
          0.0002858432597093621,
          0.0001564086672191739,
          0.00008360641658569577,
          0.00004528633330475537,
          0.000025076553956380508,
          0.000013041343973860692,
          0.000006356274291266575,
          0.000002937486901768023,
          0.0000013369722603261698,
          6.31215706447188e-7,
          3.063497847126962e-7,
          1.3651929964944367e-7,
          5.538096207704618e-8,
          2.0659484072549916e-8,
          7.516599032159732e-9,
          2.94710219478738e-9,
          1.227959247828075e-9,
          4.4653063557384543e-10,
          1.3395919067215363e-10,
          2.976870903825636e-11,
          3.721088629782045e-12,
          0
         ]
        },
        {
         "fill": "tozeroy",
         "hoveron": "points",
         "hovertemplate": "<b>round 3</b><br>damage %{x:.0f}<br>probability %{y:.1%}<extra></extra>",
         "line": {
          "color": "#2ca02c",
          "shape": "hvh"
         },
         "mode": "lines",
         "name": "round 3",
         "type": "scatter",
         "x": [
          -1,
          0,
          1,
          2,
          3,
          4,
          5,
          6,
          7,
          8,
          9,
          10,
          11,
          12,
          13,
          14,
          15,
          16,
          17,
          18,
          19,
          20,
          21,
          22,
          23,
          24,
          25,
          26,
          27,
          28,
          29,
          30,
          31,
          32,
          33,
          34,
          35,
          36,
          37,
          38,
          39,
          40,
          41,
          42,
          43,
          44,
          45,
          46,
          47,
          48,
          49,
          50,
          51,
          52,
          53,
          54,
          55,
          56,
          57,
          58,
          59,
          60,
          61,
          62,
          63,
          64,
          65,
          66,
          67,
          68,
          69,
          70,
          71,
          72,
          73,
          74,
          75,
          76,
          77,
          78,
          79,
          80,
          81,
          82,
          83,
          84,
          85,
          86,
          87,
          88,
          89,
          90,
          91,
          92,
          93,
          94,
          95,
          96,
          97
         ],
         "y": [
          0,
          0.000729,
          0,
          0,
          0,
          0,
          0.0015795,
          0.00159975,
          0.00162,
          0.00164025,
          0.0016605,
          0.0031066875,
          0.0030099375,
          0.004488984375,
          0.0060050625,
          0.00755840625,
          0.0098358125,
          0.010012046875,
          0.010856276041666666,
          0.012415131655092592,
          0.014695086805555556,
          0.017909151475694444,
          0.02022052806712963,
          0.023182483723958335,
          0.025614656515239198,
          0.02766307846760063,
          0.02950955875450103,
          0.030629811800733025,
          0.03255119275253986,
          0.03489265590170611,
          0.037233759434355085,
          0.03918945939915545,
          0.040242959612234286,
          0.040853979162126935,
          0.04074434663527011,
          0.04016057724225933,
          0.03928452171892013,
          0.03821873971334715,
          0.037239015270785006,
          0.036059564040895865,
          0.0344903253612537,
          0.03246844488349308,
          0.030038437336683058,
          0.027381113871480407,
          0.024576298488812365,
          0.021788107813844527,
          0.01912703801870808,
          0.016654150699698795,
          0.014386124060819539,
          0.012269576878089099,
          0.010286676576787567,
          0.008449120402445035,
          0.006780811861180617,
          0.005307084311614317,
          0.004041880864429479,
          0.002997012866961251,
          0.0021666115343210294,
          0.001530304748697717,
          0.001057813488434553,
          0.00071527434372445,
          0.000473243304624728,
          0.00030681421396511384,
          0.00019507656369684682,
          0.00012155290896834931,
          0.00007411804598035612,
          0.00004432680152555369,
          0.000026072111983662293,
          0.000015109401539257758,
          0.000008616943729761137,
          0.000004815705959186966,
          0.0000026298215555140374,
          0.000001410296846553311,
          7.463285527598107e-7,
          3.9043319148349384e-7,
          2.0112053551917466e-7,
          1.0123561717931912e-7,
          4.9627439874631546e-8,
          2.3879973378456797e-8,
          1.1362469890053352e-8,
          5.354992906718442e-9,
          2.480900954444349e-9,
          1.1158976947086914e-9,
          4.850367248661834e-10,
          2.06108687386923e-10,
          8.665803850955174e-11,
          3.615921936624903e-11,
          1.477539208587183e-11,
          5.776903961425751e-12,
          2.1350320255446984e-12,
          7.575257859865324e-13,
          2.6435233807409946e-13,
          9.210842842855557e-14,
          3.135361715834872e-14,
          9.798005361983973e-15,
          2.612801429862393e-15,
          5.598860206847985e-16,
          8.613631087458439e-17,
          7.178025906215365e-18,
          0
         ]
        }
       ],
       "layout": {
        "height": 450,
        "legend": {
         "orientation": "v",
         "tracegroupgap": 0,
         "x": 1,
         "xanchor": "right",
         "y": 1,
         "yanchor": "top"
        },
        "template": {
         "layout": {
          "autosize": false,
          "font": {
           "family": "sans-serif",
           "size": 14
          },
          "hoverlabel": {
           "align": "left"
          },
          "hovermode": "closest",
          "margin": {
           "b": 55,
           "l": 60,
           "pad": 4,
           "r": 25,
           "t": 20
          },
          "template": {
           "data": {
            "bar": [
             {
              "error_x": {
               "color": "#2a3f5f"
              },
              "error_y": {
               "color": "#2a3f5f"
              },
              "marker": {
               "line": {
                "color": "white",
                "width": 0.5
               },
               "pattern": {
                "fillmode": "overlay",
                "size": 10,
                "solidity": 0.2
               }
              },
              "type": "bar"
             }
            ],
            "barpolar": [
             {
              "marker": {
               "line": {
                "color": "white",
                "width": 0.5
               },
               "pattern": {
                "fillmode": "overlay",
                "size": 10,
                "solidity": 0.2
               }
              },
              "type": "barpolar"
             }
            ],
            "carpet": [
             {
              "aaxis": {
               "endlinecolor": "#2a3f5f",
               "gridcolor": "#C8D4E3",
               "linecolor": "#C8D4E3",
               "minorgridcolor": "#C8D4E3",
               "startlinecolor": "#2a3f5f"
              },
              "baxis": {
               "endlinecolor": "#2a3f5f",
               "gridcolor": "#C8D4E3",
               "linecolor": "#C8D4E3",
               "minorgridcolor": "#C8D4E3",
               "startlinecolor": "#2a3f5f"
              },
              "type": "carpet"
             }
            ],
            "choropleth": [
             {
              "colorbar": {
               "outlinewidth": 0,
               "ticks": ""
              },
              "type": "choropleth"
             }
            ],
            "contour": [
             {
              "colorbar": {
               "outlinewidth": 0,
               "ticks": ""
              },
              "colorscale": [
               [
                0,
                "#0d0887"
               ],
               [
                0.1111111111111111,
                "#46039f"
               ],
               [
                0.2222222222222222,
                "#7201a8"
               ],
               [
                0.3333333333333333,
                "#9c179e"
               ],
               [
                0.4444444444444444,
                "#bd3786"
               ],
               [
                0.5555555555555556,
                "#d8576b"
               ],
               [
                0.6666666666666666,
                "#ed7953"
               ],
               [
                0.7777777777777778,
                "#fb9f3a"
               ],
               [
                0.8888888888888888,
                "#fdca26"
               ],
               [
                1,
                "#f0f921"
               ]
              ],
              "type": "contour"
             }
            ],
            "contourcarpet": [
             {
              "colorbar": {
               "outlinewidth": 0,
               "ticks": ""
              },
              "type": "contourcarpet"
             }
            ],
            "heatmap": [
             {
              "colorbar": {
               "outlinewidth": 0,
               "ticks": ""
              },
              "colorscale": [
               [
                0,
                "#0d0887"
               ],
               [
                0.1111111111111111,
                "#46039f"
               ],
               [
                0.2222222222222222,
                "#7201a8"
               ],
               [
                0.3333333333333333,
                "#9c179e"
               ],
               [
                0.4444444444444444,
                "#bd3786"
               ],
               [
                0.5555555555555556,
                "#d8576b"
               ],
               [
                0.6666666666666666,
                "#ed7953"
               ],
               [
                0.7777777777777778,
                "#fb9f3a"
               ],
               [
                0.8888888888888888,
                "#fdca26"
               ],
               [
                1,
                "#f0f921"
               ]
              ],
              "type": "heatmap"
             }
            ],
            "heatmapgl": [
             {
              "colorbar": {
               "outlinewidth": 0,
               "ticks": ""
              },
              "colorscale": [
               [
                0,
                "#0d0887"
               ],
               [
                0.1111111111111111,
                "#46039f"
               ],
               [
                0.2222222222222222,
                "#7201a8"
               ],
               [
                0.3333333333333333,
                "#9c179e"
               ],
               [
                0.4444444444444444,
                "#bd3786"
               ],
               [
                0.5555555555555556,
                "#d8576b"
               ],
               [
                0.6666666666666666,
                "#ed7953"
               ],
               [
                0.7777777777777778,
                "#fb9f3a"
               ],
               [
                0.8888888888888888,
                "#fdca26"
               ],
               [
                1,
                "#f0f921"
               ]
              ],
              "type": "heatmapgl"
             }
            ],
            "histogram": [
             {
              "marker": {
               "pattern": {
                "fillmode": "overlay",
                "size": 10,
                "solidity": 0.2
               }
              },
              "type": "histogram"
             }
            ],
            "histogram2d": [
             {
              "colorbar": {
               "outlinewidth": 0,
               "ticks": ""
              },
              "colorscale": [
               [
                0,
                "#0d0887"
               ],
               [
                0.1111111111111111,
                "#46039f"
               ],
               [
                0.2222222222222222,
                "#7201a8"
               ],
               [
                0.3333333333333333,
                "#9c179e"
               ],
               [
                0.4444444444444444,
                "#bd3786"
               ],
               [
                0.5555555555555556,
                "#d8576b"
               ],
               [
                0.6666666666666666,
                "#ed7953"
               ],
               [
                0.7777777777777778,
                "#fb9f3a"
               ],
               [
                0.8888888888888888,
                "#fdca26"
               ],
               [
                1,
                "#f0f921"
               ]
              ],
              "type": "histogram2d"
             }
            ],
            "histogram2dcontour": [
             {
              "colorbar": {
               "outlinewidth": 0,
               "ticks": ""
              },
              "colorscale": [
               [
                0,
                "#0d0887"
               ],
               [
                0.1111111111111111,
                "#46039f"
               ],
               [
                0.2222222222222222,
                "#7201a8"
               ],
               [
                0.3333333333333333,
                "#9c179e"
               ],
               [
                0.4444444444444444,
                "#bd3786"
               ],
               [
                0.5555555555555556,
                "#d8576b"
               ],
               [
                0.6666666666666666,
                "#ed7953"
               ],
               [
                0.7777777777777778,
                "#fb9f3a"
               ],
               [
                0.8888888888888888,
                "#fdca26"
               ],
               [
                1,
                "#f0f921"
               ]
              ],
              "type": "histogram2dcontour"
             }
            ],
            "mesh3d": [
             {
              "colorbar": {
               "outlinewidth": 0,
               "ticks": ""
              },
              "type": "mesh3d"
             }
            ],
            "parcoords": [
             {
              "line": {
               "colorbar": {
                "outlinewidth": 0,
                "ticks": ""
               }
              },
              "type": "parcoords"
             }
            ],
            "pie": [
             {
              "automargin": true,
              "type": "pie"
             }
            ],
            "scatter": [
             {
              "fillpattern": {
               "fillmode": "overlay",
               "size": 10,
               "solidity": 0.2
              },
              "type": "scatter"
             }
            ],
            "scatter3d": [
             {
              "line": {
               "colorbar": {
                "outlinewidth": 0,
                "ticks": ""
               }
              },
              "marker": {
               "colorbar": {
                "outlinewidth": 0,
                "ticks": ""
               }
              },
              "type": "scatter3d"
             }
            ],
            "scattercarpet": [
             {
              "marker": {
               "colorbar": {
                "outlinewidth": 0,
                "ticks": ""
               }
              },
              "type": "scattercarpet"
             }
            ],
            "scattergeo": [
             {
              "marker": {
               "colorbar": {
                "outlinewidth": 0,
                "ticks": ""
               }
              },
              "type": "scattergeo"
             }
            ],
            "scattergl": [
             {
              "marker": {
               "colorbar": {
                "outlinewidth": 0,
                "ticks": ""
               }
              },
              "type": "scattergl"
             }
            ],
            "scattermapbox": [
             {
              "marker": {
               "colorbar": {
                "outlinewidth": 0,
                "ticks": ""
               }
              },
              "type": "scattermapbox"
             }
            ],
            "scatterpolar": [
             {
              "marker": {
               "colorbar": {
                "outlinewidth": 0,
                "ticks": ""
               }
              },
              "type": "scatterpolar"
             }
            ],
            "scatterpolargl": [
             {
              "marker": {
               "colorbar": {
                "outlinewidth": 0,
                "ticks": ""
               }
              },
              "type": "scatterpolargl"
             }
            ],
            "scatterternary": [
             {
              "marker": {
               "colorbar": {
                "outlinewidth": 0,
                "ticks": ""
               }
              },
              "type": "scatterternary"
             }
            ],
            "surface": [
             {
              "colorbar": {
               "outlinewidth": 0,
               "ticks": ""
              },
              "colorscale": [
               [
                0,
                "#0d0887"
               ],
               [
                0.1111111111111111,
                "#46039f"
               ],
               [
                0.2222222222222222,
                "#7201a8"
               ],
               [
                0.3333333333333333,
                "#9c179e"
               ],
               [
                0.4444444444444444,
                "#bd3786"
               ],
               [
                0.5555555555555556,
                "#d8576b"
               ],
               [
                0.6666666666666666,
                "#ed7953"
               ],
               [
                0.7777777777777778,
                "#fb9f3a"
               ],
               [
                0.8888888888888888,
                "#fdca26"
               ],
               [
                1,
                "#f0f921"
               ]
              ],
              "type": "surface"
             }
            ],
            "table": [
             {
              "cells": {
               "fill": {
                "color": "#EBF0F8"
               },
               "line": {
                "color": "white"
               }
              },
              "header": {
               "fill": {
                "color": "#C8D4E3"
               },
               "line": {
                "color": "white"
               }
              },
              "type": "table"
             }
            ]
           },
           "layout": {
            "annotationdefaults": {
             "arrowcolor": "#2a3f5f",
             "arrowhead": 0,
             "arrowwidth": 1
            },
            "autotypenumbers": "strict",
            "coloraxis": {
             "colorbar": {
              "outlinewidth": 0,
              "ticks": ""
             }
            },
            "colorscale": {
             "diverging": [
              [
               0,
               "#8e0152"
              ],
              [
               0.1,
               "#c51b7d"
              ],
              [
               0.2,
               "#de77ae"
              ],
              [
               0.3,
               "#f1b6da"
              ],
              [
               0.4,
               "#fde0ef"
              ],
              [
               0.5,
               "#f7f7f7"
              ],
              [
               0.6,
               "#e6f5d0"
              ],
              [
               0.7,
               "#b8e186"
              ],
              [
               0.8,
               "#7fbc41"
              ],
              [
               0.9,
               "#4d9221"
              ],
              [
               1,
               "#276419"
              ]
             ],
             "sequential": [
              [
               0,
               "#0d0887"
              ],
              [
               0.1111111111111111,
               "#46039f"
              ],
              [
               0.2222222222222222,
               "#7201a8"
              ],
              [
               0.3333333333333333,
               "#9c179e"
              ],
              [
               0.4444444444444444,
               "#bd3786"
              ],
              [
               0.5555555555555556,
               "#d8576b"
              ],
              [
               0.6666666666666666,
               "#ed7953"
              ],
              [
               0.7777777777777778,
               "#fb9f3a"
              ],
              [
               0.8888888888888888,
               "#fdca26"
              ],
              [
               1,
               "#f0f921"
              ]
             ],
             "sequentialminus": [
              [
               0,
               "#0d0887"
              ],
              [
               0.1111111111111111,
               "#46039f"
              ],
              [
               0.2222222222222222,
               "#7201a8"
              ],
              [
               0.3333333333333333,
               "#9c179e"
              ],
              [
               0.4444444444444444,
               "#bd3786"
              ],
              [
               0.5555555555555556,
               "#d8576b"
              ],
              [
               0.6666666666666666,
               "#ed7953"
              ],
              [
               0.7777777777777778,
               "#fb9f3a"
              ],
              [
               0.8888888888888888,
               "#fdca26"
              ],
              [
               1,
               "#f0f921"
              ]
             ]
            },
            "colorway": [
             "#636efa",
             "#EF553B",
             "#00cc96",
             "#ab63fa",
             "#FFA15A",
             "#19d3f3",
             "#FF6692",
             "#B6E880",
             "#FF97FF",
             "#FECB52"
            ],
            "font": {
             "color": "#2a3f5f"
            },
            "geo": {
             "bgcolor": "white",
             "lakecolor": "white",
             "landcolor": "white",
             "showlakes": true,
             "showland": true,
             "subunitcolor": "#C8D4E3"
            },
            "hoverlabel": {
             "align": "left"
            },
            "hovermode": "closest",
            "mapbox": {
             "style": "light"
            },
            "paper_bgcolor": "white",
            "plot_bgcolor": "white",
            "polar": {
             "angularaxis": {
              "gridcolor": "#EBF0F8",
              "linecolor": "#EBF0F8",
              "ticks": ""
             },
             "bgcolor": "white",
             "radialaxis": {
              "gridcolor": "#EBF0F8",
              "linecolor": "#EBF0F8",
              "ticks": ""
             }
            },
            "scene": {
             "xaxis": {
              "backgroundcolor": "white",
              "gridcolor": "#DFE8F3",
              "gridwidth": 2,
              "linecolor": "#EBF0F8",
              "showbackground": true,
              "ticks": "",
              "zerolinecolor": "#EBF0F8"
             },
             "yaxis": {
              "backgroundcolor": "white",
              "gridcolor": "#DFE8F3",
              "gridwidth": 2,
              "linecolor": "#EBF0F8",
              "showbackground": true,
              "ticks": "",
              "zerolinecolor": "#EBF0F8"
             },
             "zaxis": {
              "backgroundcolor": "white",
              "gridcolor": "#DFE8F3",
              "gridwidth": 2,
              "linecolor": "#EBF0F8",
              "showbackground": true,
              "ticks": "",
              "zerolinecolor": "#EBF0F8"
             }
            },
            "shapedefaults": {
             "line": {
              "color": "#2a3f5f"
             }
            },
            "ternary": {
             "aaxis": {
              "gridcolor": "#DFE8F3",
              "linecolor": "#A2B1C6",
              "ticks": ""
             },
             "baxis": {
              "gridcolor": "#DFE8F3",
              "linecolor": "#A2B1C6",
              "ticks": ""
             },
             "bgcolor": "white",
             "caxis": {
              "gridcolor": "#DFE8F3",
              "linecolor": "#A2B1C6",
              "ticks": ""
             }
            },
            "title": {
             "x": 0.05
            },
            "xaxis": {
             "automargin": true,
             "gridcolor": "#EBF0F8",
             "linecolor": "#EBF0F8",
             "ticks": "",
             "title": {
              "standoff": 15
             },
             "zerolinecolor": "#EBF0F8",
             "zerolinewidth": 2
            },
            "yaxis": {
             "automargin": true,
             "gridcolor": "#EBF0F8",
             "linecolor": "#EBF0F8",
             "ticks": "",
             "title": {
              "standoff": 15
             },
             "zerolinecolor": "#EBF0F8",
             "zerolinewidth": 2
            }
           }
          },
          "xaxis": {
           "automargin": false,
           "linecolor": "#444",
           "linewidth": 2,
           "minor": {
            "tickmode": "linear",
            "ticks": "outside"
           },
           "mirror": true,
           "showline": true,
           "tickmode": "linear",
           "ticks": "outside",
           "zeroline": false
          },
          "yaxis": {
           "automargin": true,
           "linecolor": "#444",
           "linewidth": 2,
           "minor": {
            "tickmode": "linear",
            "ticks": "outside"
           },
           "mirror": true,
           "showline": true,
           "ticks": "outside",
           "zeroline": false
          }
         }
        },
        "width": 600,
        "xaxis": {
         "dtick": 10,
         "minor": {
          "dtick": 5,
          "tick0": 0
         },
         "range": [
          -0.5,
          60.5
         ],
         "tick0": 0,
         "title": {
          "text": "damage"
         }
        },
        "yaxis": {
         "tickformat": ".0%",
         "title": {
          "text": "probability"
         }
        }
       }
      }
     },
     "metadata": {},
     "output_type": "display_data"
    }
   ],
   "source": [
    "# Fig. 1: plots the damage distribution for an example combat encounter after two rounds of combat\n",
    "combatants = [\n",
    "    cp.Combatant(\n",
    "        group='c1',\n",
    "        name='c1',\n",
    "        opponent='c2',\n",
    "        level=5,\n",
    "        hit_points = 30,\n",
    "        damage = [2 @ cp.attack(5, 1 @ d(6) + 4, 2 @ d(6) + 4).damage(12)],\n",
    "    ),\n",
    "    cp.Combatant(\n",
    "        group='c2',\n",
    "        name='c2',\n",
    "        opponent='c1',\n",
    "        level=5,\n",
    "        hit_points = 30,\n",
    "        damage = [1 @ cp.attack(5, 1 @ d(8) + 5, 2 @ d(8) + 5).damage(12)],\n",
    "    )\n",
    "]\n",
    "e = cp.Encounter(combatants, rounds=8)\n",
    "\n",
    "# create figure\n",
    "x_min = -1\n",
    "#x_max = max([c.hit_points for c in combatants])\n",
    "x_max = 61\n",
    "fig = go.Figure(\n",
    "    layout=go.Layout(\n",
    "        template=tfb.FIG_TEMPLATE,\n",
    "        xaxis=dict(\n",
    "            title_text='damage',\n",
    "            range=[x_min+0.5,x_max-0.5],\n",
    "            tick0=0, dtick=10,\n",
    "            minor=dict(tick0=0, dtick=5.0),\n",
    "        ),\n",
    "        yaxis=dict(\n",
    "            title_text='probability',\n",
    "            #range=[0,0.1],\n",
    "            tickformat='.0%'\n",
    "        ),\n",
    "        legend=dict(\n",
    "            xanchor='right', yanchor='top',\n",
    "            x=1.00, y=1.00,\n",
    "            orientation='v',\n",
    "            tracegroupgap=0,\n",
    "        )\n",
    "    )\n",
    ")\n",
    "i = -1\n",
    "for round in [1,2,3]:\n",
    "    for group in ['c1']:\n",
    "        i += 1\n",
    "        damage = e.group_damage(group, e.get_turn(group, round), clip=False)\n",
    "        x = np.linspace(-1, damage.max_outcome()+1, damage.max_outcome() + 3)\n",
    "        y = np.array([damage.probability(d) for d in x])\n",
    "        fig.add_trace(go.Scatter(\n",
    "            x=x, \n",
    "            y=y,\n",
    "            name=f'round {round:.0f}',\n",
    "            line_shape='hvh',\n",
    "            line_color=COLOR_LIST[i],\n",
    "            mode='lines',\n",
    "            fill='tozeroy',\n",
    "            hoveron='points',\n",
    "            hovertemplate=\n",
    "                f'<b>round {round:.0f}</b><br>'+\n",
    "                'damage %{x:.0f}<br>'+\n",
    "                'probability %{y:.1%}<extra></extra>',\n",
    "        ))\n",
    "\n",
    "# show figure\n",
    "fig.update_layout(width=600, height=450)\n",
    "fig.show(config=tfb.FIG_CONFIG)\n",
    "\n",
    "# save figures\n",
    "if SAVEFIGS:\n",
    "    fig.update_layout(autosize=True, width=None, height=None)\n",
    "    tfb.save_fig_html(fig, format='large', name=f'./fig-example-damage-distribution-large')\n",
    "    tfb.save_fig_html(fig, format='small', name=f'./fig-example-damage-distribution-small')"
   ]
  },
  {
   "cell_type": "code",
   "execution_count": 6,
   "metadata": {},
   "outputs": [
    {
     "data": {
      "application/vnd.plotly.v1+json": {
       "config": {
        "autosizable": true,
        "displayModeBar": "hover",
        "displaylogo": false,
        "doubleClick": "reset",
        "modeBarButtonsToRemove": [
         "select2d",
         "lasso2d",
         "zoom2d",
         "zoomIn2d",
         "zoomOut2d",
         "pan2d",
         "autoScale2d",
         "hoverClosestCartesian",
         "hoverCompareCartesian",
         "toggleSpikelines",
         "resetScale2d"
        ],
        "plotlyServerURL": "https://plot.ly",
        "responsive": true,
        "showAxisDragHandles": false,
        "toImageButtonOptions": {
         "filename": "tfb-plot",
         "format": "png",
         "height": 450,
         "scale": 2,
         "width": 600
        }
       },
       "data": [
        {
         "customdata": [
          0,
          1,
          3,
          5,
          7,
          9,
          11,
          13,
          15
         ],
         "fill": "tozeroy",
         "hoveron": "points",
         "hovertemplate": "<b>PDF</b><br>round %{x:.0f} (turn %{customdata:.0f})<br>probability %{y:.1%}<extra></extra>",
         "line": {
          "color": "#1f77b4",
          "shape": "hvh"
         },
         "mode": "lines",
         "name": "PDF",
         "type": "scatter",
         "x": [
          0,
          1,
          2,
          3,
          4,
          5,
          6,
          7,
          8
         ],
         "y": [
          0,
          0.000028935185185185186,
          0.16896801173973694,
          0.46078374417930573,
          0.2614063501696705,
          0.08394650145684979,
          0.020044482026216892,
          0.00398833105068741,
          0.0007012066279641349
         ]
        },
        {
         "customdata": [
          0,
          1,
          3,
          5,
          7,
          9,
          11,
          13,
          15
         ],
         "hovertemplate": "<b>CDF</b><br>round %{x:.0f} (turn %{customdata:.0f})<br>probability %{y:.1%}<extra></extra>",
         "line": {
          "color": "#1f77b4"
         },
         "name": "CDF",
         "type": "scatter",
         "x": [
          0,
          1,
          2,
          3,
          4,
          5,
          6,
          7,
          8
         ],
         "y": [
          0,
          0.000028935185185185186,
          0.16899694692492212,
          0.6297806911042279,
          0.8911870412738984,
          0.9751335427307481,
          0.995178024756965,
          0.9991663558076525,
          0.9998675624356166
         ]
        }
       ],
       "layout": {
        "height": 450,
        "legend": {
         "orientation": "v",
         "tracegroupgap": 0,
         "x": 0,
         "xanchor": "left",
         "y": 1,
         "yanchor": "top"
        },
        "template": {
         "layout": {
          "autosize": false,
          "font": {
           "family": "sans-serif",
           "size": 14
          },
          "hoverlabel": {
           "align": "left"
          },
          "hovermode": "closest",
          "margin": {
           "b": 55,
           "l": 60,
           "pad": 4,
           "r": 25,
           "t": 20
          },
          "template": {
           "data": {
            "bar": [
             {
              "error_x": {
               "color": "#2a3f5f"
              },
              "error_y": {
               "color": "#2a3f5f"
              },
              "marker": {
               "line": {
                "color": "white",
                "width": 0.5
               },
               "pattern": {
                "fillmode": "overlay",
                "size": 10,
                "solidity": 0.2
               }
              },
              "type": "bar"
             }
            ],
            "barpolar": [
             {
              "marker": {
               "line": {
                "color": "white",
                "width": 0.5
               },
               "pattern": {
                "fillmode": "overlay",
                "size": 10,
                "solidity": 0.2
               }
              },
              "type": "barpolar"
             }
            ],
            "carpet": [
             {
              "aaxis": {
               "endlinecolor": "#2a3f5f",
               "gridcolor": "#C8D4E3",
               "linecolor": "#C8D4E3",
               "minorgridcolor": "#C8D4E3",
               "startlinecolor": "#2a3f5f"
              },
              "baxis": {
               "endlinecolor": "#2a3f5f",
               "gridcolor": "#C8D4E3",
               "linecolor": "#C8D4E3",
               "minorgridcolor": "#C8D4E3",
               "startlinecolor": "#2a3f5f"
              },
              "type": "carpet"
             }
            ],
            "choropleth": [
             {
              "colorbar": {
               "outlinewidth": 0,
               "ticks": ""
              },
              "type": "choropleth"
             }
            ],
            "contour": [
             {
              "colorbar": {
               "outlinewidth": 0,
               "ticks": ""
              },
              "colorscale": [
               [
                0,
                "#0d0887"
               ],
               [
                0.1111111111111111,
                "#46039f"
               ],
               [
                0.2222222222222222,
                "#7201a8"
               ],
               [
                0.3333333333333333,
                "#9c179e"
               ],
               [
                0.4444444444444444,
                "#bd3786"
               ],
               [
                0.5555555555555556,
                "#d8576b"
               ],
               [
                0.6666666666666666,
                "#ed7953"
               ],
               [
                0.7777777777777778,
                "#fb9f3a"
               ],
               [
                0.8888888888888888,
                "#fdca26"
               ],
               [
                1,
                "#f0f921"
               ]
              ],
              "type": "contour"
             }
            ],
            "contourcarpet": [
             {
              "colorbar": {
               "outlinewidth": 0,
               "ticks": ""
              },
              "type": "contourcarpet"
             }
            ],
            "heatmap": [
             {
              "colorbar": {
               "outlinewidth": 0,
               "ticks": ""
              },
              "colorscale": [
               [
                0,
                "#0d0887"
               ],
               [
                0.1111111111111111,
                "#46039f"
               ],
               [
                0.2222222222222222,
                "#7201a8"
               ],
               [
                0.3333333333333333,
                "#9c179e"
               ],
               [
                0.4444444444444444,
                "#bd3786"
               ],
               [
                0.5555555555555556,
                "#d8576b"
               ],
               [
                0.6666666666666666,
                "#ed7953"
               ],
               [
                0.7777777777777778,
                "#fb9f3a"
               ],
               [
                0.8888888888888888,
                "#fdca26"
               ],
               [
                1,
                "#f0f921"
               ]
              ],
              "type": "heatmap"
             }
            ],
            "heatmapgl": [
             {
              "colorbar": {
               "outlinewidth": 0,
               "ticks": ""
              },
              "colorscale": [
               [
                0,
                "#0d0887"
               ],
               [
                0.1111111111111111,
                "#46039f"
               ],
               [
                0.2222222222222222,
                "#7201a8"
               ],
               [
                0.3333333333333333,
                "#9c179e"
               ],
               [
                0.4444444444444444,
                "#bd3786"
               ],
               [
                0.5555555555555556,
                "#d8576b"
               ],
               [
                0.6666666666666666,
                "#ed7953"
               ],
               [
                0.7777777777777778,
                "#fb9f3a"
               ],
               [
                0.8888888888888888,
                "#fdca26"
               ],
               [
                1,
                "#f0f921"
               ]
              ],
              "type": "heatmapgl"
             }
            ],
            "histogram": [
             {
              "marker": {
               "pattern": {
                "fillmode": "overlay",
                "size": 10,
                "solidity": 0.2
               }
              },
              "type": "histogram"
             }
            ],
            "histogram2d": [
             {
              "colorbar": {
               "outlinewidth": 0,
               "ticks": ""
              },
              "colorscale": [
               [
                0,
                "#0d0887"
               ],
               [
                0.1111111111111111,
                "#46039f"
               ],
               [
                0.2222222222222222,
                "#7201a8"
               ],
               [
                0.3333333333333333,
                "#9c179e"
               ],
               [
                0.4444444444444444,
                "#bd3786"
               ],
               [
                0.5555555555555556,
                "#d8576b"
               ],
               [
                0.6666666666666666,
                "#ed7953"
               ],
               [
                0.7777777777777778,
                "#fb9f3a"
               ],
               [
                0.8888888888888888,
                "#fdca26"
               ],
               [
                1,
                "#f0f921"
               ]
              ],
              "type": "histogram2d"
             }
            ],
            "histogram2dcontour": [
             {
              "colorbar": {
               "outlinewidth": 0,
               "ticks": ""
              },
              "colorscale": [
               [
                0,
                "#0d0887"
               ],
               [
                0.1111111111111111,
                "#46039f"
               ],
               [
                0.2222222222222222,
                "#7201a8"
               ],
               [
                0.3333333333333333,
                "#9c179e"
               ],
               [
                0.4444444444444444,
                "#bd3786"
               ],
               [
                0.5555555555555556,
                "#d8576b"
               ],
               [
                0.6666666666666666,
                "#ed7953"
               ],
               [
                0.7777777777777778,
                "#fb9f3a"
               ],
               [
                0.8888888888888888,
                "#fdca26"
               ],
               [
                1,
                "#f0f921"
               ]
              ],
              "type": "histogram2dcontour"
             }
            ],
            "mesh3d": [
             {
              "colorbar": {
               "outlinewidth": 0,
               "ticks": ""
              },
              "type": "mesh3d"
             }
            ],
            "parcoords": [
             {
              "line": {
               "colorbar": {
                "outlinewidth": 0,
                "ticks": ""
               }
              },
              "type": "parcoords"
             }
            ],
            "pie": [
             {
              "automargin": true,
              "type": "pie"
             }
            ],
            "scatter": [
             {
              "fillpattern": {
               "fillmode": "overlay",
               "size": 10,
               "solidity": 0.2
              },
              "type": "scatter"
             }
            ],
            "scatter3d": [
             {
              "line": {
               "colorbar": {
                "outlinewidth": 0,
                "ticks": ""
               }
              },
              "marker": {
               "colorbar": {
                "outlinewidth": 0,
                "ticks": ""
               }
              },
              "type": "scatter3d"
             }
            ],
            "scattercarpet": [
             {
              "marker": {
               "colorbar": {
                "outlinewidth": 0,
                "ticks": ""
               }
              },
              "type": "scattercarpet"
             }
            ],
            "scattergeo": [
             {
              "marker": {
               "colorbar": {
                "outlinewidth": 0,
                "ticks": ""
               }
              },
              "type": "scattergeo"
             }
            ],
            "scattergl": [
             {
              "marker": {
               "colorbar": {
                "outlinewidth": 0,
                "ticks": ""
               }
              },
              "type": "scattergl"
             }
            ],
            "scattermapbox": [
             {
              "marker": {
               "colorbar": {
                "outlinewidth": 0,
                "ticks": ""
               }
              },
              "type": "scattermapbox"
             }
            ],
            "scatterpolar": [
             {
              "marker": {
               "colorbar": {
                "outlinewidth": 0,
                "ticks": ""
               }
              },
              "type": "scatterpolar"
             }
            ],
            "scatterpolargl": [
             {
              "marker": {
               "colorbar": {
                "outlinewidth": 0,
                "ticks": ""
               }
              },
              "type": "scatterpolargl"
             }
            ],
            "scatterternary": [
             {
              "marker": {
               "colorbar": {
                "outlinewidth": 0,
                "ticks": ""
               }
              },
              "type": "scatterternary"
             }
            ],
            "surface": [
             {
              "colorbar": {
               "outlinewidth": 0,
               "ticks": ""
              },
              "colorscale": [
               [
                0,
                "#0d0887"
               ],
               [
                0.1111111111111111,
                "#46039f"
               ],
               [
                0.2222222222222222,
                "#7201a8"
               ],
               [
                0.3333333333333333,
                "#9c179e"
               ],
               [
                0.4444444444444444,
                "#bd3786"
               ],
               [
                0.5555555555555556,
                "#d8576b"
               ],
               [
                0.6666666666666666,
                "#ed7953"
               ],
               [
                0.7777777777777778,
                "#fb9f3a"
               ],
               [
                0.8888888888888888,
                "#fdca26"
               ],
               [
                1,
                "#f0f921"
               ]
              ],
              "type": "surface"
             }
            ],
            "table": [
             {
              "cells": {
               "fill": {
                "color": "#EBF0F8"
               },
               "line": {
                "color": "white"
               }
              },
              "header": {
               "fill": {
                "color": "#C8D4E3"
               },
               "line": {
                "color": "white"
               }
              },
              "type": "table"
             }
            ]
           },
           "layout": {
            "annotationdefaults": {
             "arrowcolor": "#2a3f5f",
             "arrowhead": 0,
             "arrowwidth": 1
            },
            "autotypenumbers": "strict",
            "coloraxis": {
             "colorbar": {
              "outlinewidth": 0,
              "ticks": ""
             }
            },
            "colorscale": {
             "diverging": [
              [
               0,
               "#8e0152"
              ],
              [
               0.1,
               "#c51b7d"
              ],
              [
               0.2,
               "#de77ae"
              ],
              [
               0.3,
               "#f1b6da"
              ],
              [
               0.4,
               "#fde0ef"
              ],
              [
               0.5,
               "#f7f7f7"
              ],
              [
               0.6,
               "#e6f5d0"
              ],
              [
               0.7,
               "#b8e186"
              ],
              [
               0.8,
               "#7fbc41"
              ],
              [
               0.9,
               "#4d9221"
              ],
              [
               1,
               "#276419"
              ]
             ],
             "sequential": [
              [
               0,
               "#0d0887"
              ],
              [
               0.1111111111111111,
               "#46039f"
              ],
              [
               0.2222222222222222,
               "#7201a8"
              ],
              [
               0.3333333333333333,
               "#9c179e"
              ],
              [
               0.4444444444444444,
               "#bd3786"
              ],
              [
               0.5555555555555556,
               "#d8576b"
              ],
              [
               0.6666666666666666,
               "#ed7953"
              ],
              [
               0.7777777777777778,
               "#fb9f3a"
              ],
              [
               0.8888888888888888,
               "#fdca26"
              ],
              [
               1,
               "#f0f921"
              ]
             ],
             "sequentialminus": [
              [
               0,
               "#0d0887"
              ],
              [
               0.1111111111111111,
               "#46039f"
              ],
              [
               0.2222222222222222,
               "#7201a8"
              ],
              [
               0.3333333333333333,
               "#9c179e"
              ],
              [
               0.4444444444444444,
               "#bd3786"
              ],
              [
               0.5555555555555556,
               "#d8576b"
              ],
              [
               0.6666666666666666,
               "#ed7953"
              ],
              [
               0.7777777777777778,
               "#fb9f3a"
              ],
              [
               0.8888888888888888,
               "#fdca26"
              ],
              [
               1,
               "#f0f921"
              ]
             ]
            },
            "colorway": [
             "#636efa",
             "#EF553B",
             "#00cc96",
             "#ab63fa",
             "#FFA15A",
             "#19d3f3",
             "#FF6692",
             "#B6E880",
             "#FF97FF",
             "#FECB52"
            ],
            "font": {
             "color": "#2a3f5f"
            },
            "geo": {
             "bgcolor": "white",
             "lakecolor": "white",
             "landcolor": "white",
             "showlakes": true,
             "showland": true,
             "subunitcolor": "#C8D4E3"
            },
            "hoverlabel": {
             "align": "left"
            },
            "hovermode": "closest",
            "mapbox": {
             "style": "light"
            },
            "paper_bgcolor": "white",
            "plot_bgcolor": "white",
            "polar": {
             "angularaxis": {
              "gridcolor": "#EBF0F8",
              "linecolor": "#EBF0F8",
              "ticks": ""
             },
             "bgcolor": "white",
             "radialaxis": {
              "gridcolor": "#EBF0F8",
              "linecolor": "#EBF0F8",
              "ticks": ""
             }
            },
            "scene": {
             "xaxis": {
              "backgroundcolor": "white",
              "gridcolor": "#DFE8F3",
              "gridwidth": 2,
              "linecolor": "#EBF0F8",
              "showbackground": true,
              "ticks": "",
              "zerolinecolor": "#EBF0F8"
             },
             "yaxis": {
              "backgroundcolor": "white",
              "gridcolor": "#DFE8F3",
              "gridwidth": 2,
              "linecolor": "#EBF0F8",
              "showbackground": true,
              "ticks": "",
              "zerolinecolor": "#EBF0F8"
             },
             "zaxis": {
              "backgroundcolor": "white",
              "gridcolor": "#DFE8F3",
              "gridwidth": 2,
              "linecolor": "#EBF0F8",
              "showbackground": true,
              "ticks": "",
              "zerolinecolor": "#EBF0F8"
             }
            },
            "shapedefaults": {
             "line": {
              "color": "#2a3f5f"
             }
            },
            "ternary": {
             "aaxis": {
              "gridcolor": "#DFE8F3",
              "linecolor": "#A2B1C6",
              "ticks": ""
             },
             "baxis": {
              "gridcolor": "#DFE8F3",
              "linecolor": "#A2B1C6",
              "ticks": ""
             },
             "bgcolor": "white",
             "caxis": {
              "gridcolor": "#DFE8F3",
              "linecolor": "#A2B1C6",
              "ticks": ""
             }
            },
            "title": {
             "x": 0.05
            },
            "xaxis": {
             "automargin": true,
             "gridcolor": "#EBF0F8",
             "linecolor": "#EBF0F8",
             "ticks": "",
             "title": {
              "standoff": 15
             },
             "zerolinecolor": "#EBF0F8",
             "zerolinewidth": 2
            },
            "yaxis": {
             "automargin": true,
             "gridcolor": "#EBF0F8",
             "linecolor": "#EBF0F8",
             "ticks": "",
             "title": {
              "standoff": 15
             },
             "zerolinecolor": "#EBF0F8",
             "zerolinewidth": 2
            }
           }
          },
          "xaxis": {
           "automargin": false,
           "linecolor": "#444",
           "linewidth": 2,
           "minor": {
            "tickmode": "linear",
            "ticks": "outside"
           },
           "mirror": true,
           "showline": true,
           "tickmode": "linear",
           "ticks": "outside",
           "zeroline": false
          },
          "yaxis": {
           "automargin": true,
           "linecolor": "#444",
           "linewidth": 2,
           "minor": {
            "tickmode": "linear",
            "ticks": "outside"
           },
           "mirror": true,
           "showline": true,
           "ticks": "outside",
           "zeroline": false
          }
         }
        },
        "width": 600,
        "xaxis": {
         "dtick": 1,
         "range": [
          -0.5,
          7.5
         ],
         "tick0": 0,
         "title": {
          "text": "round"
         }
        },
        "yaxis": {
         "tickformat": ".0%",
         "title": {
          "text": "probability"
         }
        }
       }
      }
     },
     "metadata": {},
     "output_type": "display_data"
    }
   ],
   "source": [
    "# Fig. 2: plots the damage distribution for an example combat encounter after two rounds of combat\n",
    "combatants = [\n",
    "    cp.Combatant(\n",
    "        group='combatant 1',\n",
    "        name='combatant 1',\n",
    "        opponent='combatant 2',\n",
    "        level=5,\n",
    "        hit_points = 30,\n",
    "        damage = [2 @ cp.attack(5, 1 @ d(6) + 4, 2 @ d(6) + 4).damage(12)],\n",
    "    ),\n",
    "    cp.Combatant(\n",
    "        group='combatant 2',\n",
    "        name='combatant 2',\n",
    "        opponent='combatant 1',\n",
    "        level=5,\n",
    "        hit_points = 30,\n",
    "        damage = [1 @ cp.attack(5, 1 @ d(8) + 5, 2 @ d(8) + 5).damage(12)],\n",
    "    )\n",
    "]\n",
    "e = cp.Encounter(combatants, rounds=8)\n",
    "\n",
    "# create figure\n",
    "x_min = -1\n",
    "#x_max = max([c.hit_points for c in combatants])\n",
    "x_max = 8\n",
    "fig = go.Figure(\n",
    "    layout=go.Layout(\n",
    "        template=tfb.FIG_TEMPLATE,\n",
    "        xaxis=dict(\n",
    "            title_text='round',\n",
    "            range=[x_min+0.5,x_max-0.5],\n",
    "            tick0=0, dtick=1,\n",
    "            #minor=dict(tick0=0, dtick=5.0),\n",
    "        ),\n",
    "        yaxis=dict(\n",
    "            title_text='probability',\n",
    "            #range=[0,0.1],\n",
    "            tickformat='.0%'\n",
    "        ),\n",
    "        legend=dict(\n",
    "            xanchor='left', yanchor='top',\n",
    "            x=0.00, y=1.00,\n",
    "            orientation='v',\n",
    "            tracegroupgap=0,\n",
    "        )\n",
    "    )\n",
    ")\n",
    "colors = iter(COLOR_LIST)\n",
    "for group in ['combatant 1']:\n",
    "    color = next(colors)\n",
    "    t = [0] + [t['turn'] for t in e.turns if t['group'] == group]\n",
    "    x = [0] + [t['round'] for t in e.turns if t['group'] == group]\n",
    "    y = e.group_damage_pdf(group)\n",
    "    y = [0] + [y[i] for i in range(len(e.turns)) if e.turns[i]['group'] == group]\n",
    "    fig.add_trace(go.Scatter(\n",
    "        x=x, \n",
    "        y=y,\n",
    "        name=f'PDF',\n",
    "        mode='lines',\n",
    "        line_shape='hvh',\n",
    "        line_color=color,\n",
    "        fill='tozeroy',\n",
    "        customdata=t,\n",
    "        hoveron='points',\n",
    "        hovertemplate=\n",
    "            f'<b>PDF</b><br>'+\n",
    "            'round %{x:.0f} (turn %{customdata:.0f})<br>'+\n",
    "            'probability %{y:.1%}<extra></extra>',\n",
    "    ))\n",
    "\n",
    "    x = [0] + [t['round'] for t in e.turns if t['group'] == group]\n",
    "    y = e.group_damage_cdf(group)\n",
    "    y = [0] + [y[i] for i in range(len(e.turns)) if e.turns[i]['group'] == group]\n",
    "    fig.add_trace(go.Scatter(\n",
    "        x=x, \n",
    "        y=y,\n",
    "        name=f'CDF',\n",
    "        line_color=color,\n",
    "        customdata=t,\n",
    "        hovertemplate=\n",
    "            f'<b>CDF</b><br>'+\n",
    "            'round %{x:.0f} (turn %{customdata:.0f})<br>'+\n",
    "            'probability %{y:.1%}<extra></extra>',\n",
    "    ))\n",
    "\n",
    "# show figure\n",
    "fig.update_layout(width=600, height=450)\n",
    "fig.show(config=tfb.FIG_CONFIG)\n",
    "\n",
    "# save figures\n",
    "if SAVEFIGS:\n",
    "    fig.update_layout(autosize=True, width=None, height=None)\n",
    "    tfb.save_fig_html(fig, format='large', name=f'./fig-example-dt-distribution-large')\n",
    "    tfb.save_fig_html(fig, format='small', name=f'./fig-example-dt-distribution-small')"
   ]
  },
  {
   "cell_type": "code",
   "execution_count": 2,
   "metadata": {},
   "outputs": [
    {
     "name": "stdout",
     "output_type": "stream",
     "text": [
      "mean 2.754796213908374\n",
      "variance 0.7115691975433006\n",
      "sigma 0.8435456108256983\n",
      "combatant 1 - 29.3\n",
      "combatant 2 - 15.5\n"
     ]
    },
    {
     "data": {
      "application/vnd.plotly.v1+json": {
       "config": {
        "autosizable": true,
        "displayModeBar": "hover",
        "displaylogo": false,
        "doubleClick": "reset",
        "modeBarButtonsToRemove": [
         "select2d",
         "lasso2d",
         "zoom2d",
         "zoomIn2d",
         "zoomOut2d",
         "pan2d",
         "autoScale2d",
         "hoverClosestCartesian",
         "hoverCompareCartesian",
         "toggleSpikelines",
         "resetScale2d"
        ],
        "plotlyServerURL": "https://plot.ly",
        "responsive": true,
        "showAxisDragHandles": false,
        "toImageButtonOptions": {
         "filename": "tfb-plot",
         "format": "png",
         "height": 450,
         "scale": 2,
         "width": 600
        }
       },
       "data": [
        {
         "customdata": [
          0,
          1,
          3,
          5,
          7,
          9,
          11,
          13,
          15
         ],
         "fill": "tozeroy",
         "hoveron": "points",
         "hovertemplate": "<b>combatant 1 - PDF</b><br>round %{x:.0f} (turn %{customdata:.0f})<br>probability %{y:.1%}<extra></extra>",
         "legendgroup": "combatant 1",
         "legendgrouptitle": {
          "text": "combatant 1"
         },
         "line": {
          "color": "#1f77b4",
          "shape": "hvh"
         },
         "mode": "lines",
         "name": "PDF",
         "type": "scatter",
         "x": [
          0,
          1,
          2,
          3,
          4,
          5,
          6,
          7,
          8
         ],
         "y": [
          0,
          0.000028935185185185186,
          0.16896801173973694,
          0.45830320668927793,
          0.21698503912580536,
          0.047395602348450604,
          0.006620787595383415,
          0.0006923337889481275,
          0.000059146612016028404
         ]
        },
        {
         "customdata": [
          0,
          1,
          3,
          5,
          7,
          9,
          11,
          13,
          15
         ],
         "hovertemplate": "<b>combatant 1 - CDF</b><br>round %{x:.0f} (turn %{customdata:.0f})<br>probability %{y:.1%}<extra></extra>",
         "legendgroup": "combatant 1",
         "legendgrouptitle": {
          "text": "combatant 1"
         },
         "line": {
          "color": "#1f77b4"
         },
         "name": "CDF",
         "type": "scatter",
         "x": [
          0,
          1,
          2,
          3,
          4,
          5,
          6,
          7,
          8
         ],
         "y": [
          0,
          0.000028935185185185186,
          0.16899694692492212,
          0.6273001536142,
          0.8442851927400054,
          0.891680795088456,
          0.8983015826838394,
          0.8989939164727876,
          0.8990530630848036
         ]
        },
        {
         "customdata": [
          0,
          2,
          4,
          6,
          8,
          10,
          12,
          14,
          16
         ],
         "fill": "tozeroy",
         "hoveron": "points",
         "hovertemplate": "<b>combatant 2 - PDF</b><br>round %{x:.0f} (turn %{customdata:.0f})<br>probability %{y:.1%}<extra></extra>",
         "legendgroup": "combatant 2",
         "legendgrouptitle": {
          "text": "combatant 2"
         },
         "line": {
          "color": "#ff7f0e",
          "shape": "hvh"
         },
         "mode": "lines",
         "name": "PDF",
         "type": "scatter",
         "x": [
          0,
          1,
          2,
          3,
          4,
          5,
          6,
          7,
          8
         ],
         "y": [
          0,
          0,
          0.004473539384840202,
          0.06091911582623587,
          0.028887123398062608,
          0.005825917386881205,
          0.0007556753608667703,
          0.00007439448130539867,
          0.000006055396544995183
         ]
        },
        {
         "customdata": [
          0,
          2,
          4,
          6,
          8,
          10,
          12,
          14,
          16
         ],
         "hovertemplate": "<b>combatant 2 - CDF</b><br>round %{x:.0f} (turn %{customdata:.0f})<br>probability %{y:.1%}<extra></extra>",
         "legendgroup": "combatant 2",
         "legendgrouptitle": {
          "text": "combatant 2"
         },
         "line": {
          "color": "#ff7f0e"
         },
         "name": "CDF",
         "type": "scatter",
         "x": [
          0,
          1,
          2,
          3,
          4,
          5,
          6,
          7,
          8
         ],
         "y": [
          0,
          0,
          0.004473539384840202,
          0.06539265521107607,
          0.09427977860913868,
          0.10010569599601989,
          0.10086137135688665,
          0.10093576583819205,
          0.10094182123473705
         ]
        }
       ],
       "layout": {
        "height": 450,
        "legend": {
         "orientation": "v",
         "tracegroupgap": 0,
         "x": 0,
         "xanchor": "left",
         "y": 1,
         "yanchor": "top"
        },
        "template": {
         "layout": {
          "autosize": false,
          "font": {
           "family": "sans-serif",
           "size": 14
          },
          "hoverlabel": {
           "align": "left"
          },
          "hovermode": "closest",
          "margin": {
           "b": 55,
           "l": 60,
           "pad": 4,
           "r": 25,
           "t": 20
          },
          "template": {
           "data": {
            "bar": [
             {
              "error_x": {
               "color": "#2a3f5f"
              },
              "error_y": {
               "color": "#2a3f5f"
              },
              "marker": {
               "line": {
                "color": "white",
                "width": 0.5
               },
               "pattern": {
                "fillmode": "overlay",
                "size": 10,
                "solidity": 0.2
               }
              },
              "type": "bar"
             }
            ],
            "barpolar": [
             {
              "marker": {
               "line": {
                "color": "white",
                "width": 0.5
               },
               "pattern": {
                "fillmode": "overlay",
                "size": 10,
                "solidity": 0.2
               }
              },
              "type": "barpolar"
             }
            ],
            "carpet": [
             {
              "aaxis": {
               "endlinecolor": "#2a3f5f",
               "gridcolor": "#C8D4E3",
               "linecolor": "#C8D4E3",
               "minorgridcolor": "#C8D4E3",
               "startlinecolor": "#2a3f5f"
              },
              "baxis": {
               "endlinecolor": "#2a3f5f",
               "gridcolor": "#C8D4E3",
               "linecolor": "#C8D4E3",
               "minorgridcolor": "#C8D4E3",
               "startlinecolor": "#2a3f5f"
              },
              "type": "carpet"
             }
            ],
            "choropleth": [
             {
              "colorbar": {
               "outlinewidth": 0,
               "ticks": ""
              },
              "type": "choropleth"
             }
            ],
            "contour": [
             {
              "colorbar": {
               "outlinewidth": 0,
               "ticks": ""
              },
              "colorscale": [
               [
                0,
                "#0d0887"
               ],
               [
                0.1111111111111111,
                "#46039f"
               ],
               [
                0.2222222222222222,
                "#7201a8"
               ],
               [
                0.3333333333333333,
                "#9c179e"
               ],
               [
                0.4444444444444444,
                "#bd3786"
               ],
               [
                0.5555555555555556,
                "#d8576b"
               ],
               [
                0.6666666666666666,
                "#ed7953"
               ],
               [
                0.7777777777777778,
                "#fb9f3a"
               ],
               [
                0.8888888888888888,
                "#fdca26"
               ],
               [
                1,
                "#f0f921"
               ]
              ],
              "type": "contour"
             }
            ],
            "contourcarpet": [
             {
              "colorbar": {
               "outlinewidth": 0,
               "ticks": ""
              },
              "type": "contourcarpet"
             }
            ],
            "heatmap": [
             {
              "colorbar": {
               "outlinewidth": 0,
               "ticks": ""
              },
              "colorscale": [
               [
                0,
                "#0d0887"
               ],
               [
                0.1111111111111111,
                "#46039f"
               ],
               [
                0.2222222222222222,
                "#7201a8"
               ],
               [
                0.3333333333333333,
                "#9c179e"
               ],
               [
                0.4444444444444444,
                "#bd3786"
               ],
               [
                0.5555555555555556,
                "#d8576b"
               ],
               [
                0.6666666666666666,
                "#ed7953"
               ],
               [
                0.7777777777777778,
                "#fb9f3a"
               ],
               [
                0.8888888888888888,
                "#fdca26"
               ],
               [
                1,
                "#f0f921"
               ]
              ],
              "type": "heatmap"
             }
            ],
            "heatmapgl": [
             {
              "colorbar": {
               "outlinewidth": 0,
               "ticks": ""
              },
              "colorscale": [
               [
                0,
                "#0d0887"
               ],
               [
                0.1111111111111111,
                "#46039f"
               ],
               [
                0.2222222222222222,
                "#7201a8"
               ],
               [
                0.3333333333333333,
                "#9c179e"
               ],
               [
                0.4444444444444444,
                "#bd3786"
               ],
               [
                0.5555555555555556,
                "#d8576b"
               ],
               [
                0.6666666666666666,
                "#ed7953"
               ],
               [
                0.7777777777777778,
                "#fb9f3a"
               ],
               [
                0.8888888888888888,
                "#fdca26"
               ],
               [
                1,
                "#f0f921"
               ]
              ],
              "type": "heatmapgl"
             }
            ],
            "histogram": [
             {
              "marker": {
               "pattern": {
                "fillmode": "overlay",
                "size": 10,
                "solidity": 0.2
               }
              },
              "type": "histogram"
             }
            ],
            "histogram2d": [
             {
              "colorbar": {
               "outlinewidth": 0,
               "ticks": ""
              },
              "colorscale": [
               [
                0,
                "#0d0887"
               ],
               [
                0.1111111111111111,
                "#46039f"
               ],
               [
                0.2222222222222222,
                "#7201a8"
               ],
               [
                0.3333333333333333,
                "#9c179e"
               ],
               [
                0.4444444444444444,
                "#bd3786"
               ],
               [
                0.5555555555555556,
                "#d8576b"
               ],
               [
                0.6666666666666666,
                "#ed7953"
               ],
               [
                0.7777777777777778,
                "#fb9f3a"
               ],
               [
                0.8888888888888888,
                "#fdca26"
               ],
               [
                1,
                "#f0f921"
               ]
              ],
              "type": "histogram2d"
             }
            ],
            "histogram2dcontour": [
             {
              "colorbar": {
               "outlinewidth": 0,
               "ticks": ""
              },
              "colorscale": [
               [
                0,
                "#0d0887"
               ],
               [
                0.1111111111111111,
                "#46039f"
               ],
               [
                0.2222222222222222,
                "#7201a8"
               ],
               [
                0.3333333333333333,
                "#9c179e"
               ],
               [
                0.4444444444444444,
                "#bd3786"
               ],
               [
                0.5555555555555556,
                "#d8576b"
               ],
               [
                0.6666666666666666,
                "#ed7953"
               ],
               [
                0.7777777777777778,
                "#fb9f3a"
               ],
               [
                0.8888888888888888,
                "#fdca26"
               ],
               [
                1,
                "#f0f921"
               ]
              ],
              "type": "histogram2dcontour"
             }
            ],
            "mesh3d": [
             {
              "colorbar": {
               "outlinewidth": 0,
               "ticks": ""
              },
              "type": "mesh3d"
             }
            ],
            "parcoords": [
             {
              "line": {
               "colorbar": {
                "outlinewidth": 0,
                "ticks": ""
               }
              },
              "type": "parcoords"
             }
            ],
            "pie": [
             {
              "automargin": true,
              "type": "pie"
             }
            ],
            "scatter": [
             {
              "fillpattern": {
               "fillmode": "overlay",
               "size": 10,
               "solidity": 0.2
              },
              "type": "scatter"
             }
            ],
            "scatter3d": [
             {
              "line": {
               "colorbar": {
                "outlinewidth": 0,
                "ticks": ""
               }
              },
              "marker": {
               "colorbar": {
                "outlinewidth": 0,
                "ticks": ""
               }
              },
              "type": "scatter3d"
             }
            ],
            "scattercarpet": [
             {
              "marker": {
               "colorbar": {
                "outlinewidth": 0,
                "ticks": ""
               }
              },
              "type": "scattercarpet"
             }
            ],
            "scattergeo": [
             {
              "marker": {
               "colorbar": {
                "outlinewidth": 0,
                "ticks": ""
               }
              },
              "type": "scattergeo"
             }
            ],
            "scattergl": [
             {
              "marker": {
               "colorbar": {
                "outlinewidth": 0,
                "ticks": ""
               }
              },
              "type": "scattergl"
             }
            ],
            "scattermapbox": [
             {
              "marker": {
               "colorbar": {
                "outlinewidth": 0,
                "ticks": ""
               }
              },
              "type": "scattermapbox"
             }
            ],
            "scatterpolar": [
             {
              "marker": {
               "colorbar": {
                "outlinewidth": 0,
                "ticks": ""
               }
              },
              "type": "scatterpolar"
             }
            ],
            "scatterpolargl": [
             {
              "marker": {
               "colorbar": {
                "outlinewidth": 0,
                "ticks": ""
               }
              },
              "type": "scatterpolargl"
             }
            ],
            "scatterternary": [
             {
              "marker": {
               "colorbar": {
                "outlinewidth": 0,
                "ticks": ""
               }
              },
              "type": "scatterternary"
             }
            ],
            "surface": [
             {
              "colorbar": {
               "outlinewidth": 0,
               "ticks": ""
              },
              "colorscale": [
               [
                0,
                "#0d0887"
               ],
               [
                0.1111111111111111,
                "#46039f"
               ],
               [
                0.2222222222222222,
                "#7201a8"
               ],
               [
                0.3333333333333333,
                "#9c179e"
               ],
               [
                0.4444444444444444,
                "#bd3786"
               ],
               [
                0.5555555555555556,
                "#d8576b"
               ],
               [
                0.6666666666666666,
                "#ed7953"
               ],
               [
                0.7777777777777778,
                "#fb9f3a"
               ],
               [
                0.8888888888888888,
                "#fdca26"
               ],
               [
                1,
                "#f0f921"
               ]
              ],
              "type": "surface"
             }
            ],
            "table": [
             {
              "cells": {
               "fill": {
                "color": "#EBF0F8"
               },
               "line": {
                "color": "white"
               }
              },
              "header": {
               "fill": {
                "color": "#C8D4E3"
               },
               "line": {
                "color": "white"
               }
              },
              "type": "table"
             }
            ]
           },
           "layout": {
            "annotationdefaults": {
             "arrowcolor": "#2a3f5f",
             "arrowhead": 0,
             "arrowwidth": 1
            },
            "autotypenumbers": "strict",
            "coloraxis": {
             "colorbar": {
              "outlinewidth": 0,
              "ticks": ""
             }
            },
            "colorscale": {
             "diverging": [
              [
               0,
               "#8e0152"
              ],
              [
               0.1,
               "#c51b7d"
              ],
              [
               0.2,
               "#de77ae"
              ],
              [
               0.3,
               "#f1b6da"
              ],
              [
               0.4,
               "#fde0ef"
              ],
              [
               0.5,
               "#f7f7f7"
              ],
              [
               0.6,
               "#e6f5d0"
              ],
              [
               0.7,
               "#b8e186"
              ],
              [
               0.8,
               "#7fbc41"
              ],
              [
               0.9,
               "#4d9221"
              ],
              [
               1,
               "#276419"
              ]
             ],
             "sequential": [
              [
               0,
               "#0d0887"
              ],
              [
               0.1111111111111111,
               "#46039f"
              ],
              [
               0.2222222222222222,
               "#7201a8"
              ],
              [
               0.3333333333333333,
               "#9c179e"
              ],
              [
               0.4444444444444444,
               "#bd3786"
              ],
              [
               0.5555555555555556,
               "#d8576b"
              ],
              [
               0.6666666666666666,
               "#ed7953"
              ],
              [
               0.7777777777777778,
               "#fb9f3a"
              ],
              [
               0.8888888888888888,
               "#fdca26"
              ],
              [
               1,
               "#f0f921"
              ]
             ],
             "sequentialminus": [
              [
               0,
               "#0d0887"
              ],
              [
               0.1111111111111111,
               "#46039f"
              ],
              [
               0.2222222222222222,
               "#7201a8"
              ],
              [
               0.3333333333333333,
               "#9c179e"
              ],
              [
               0.4444444444444444,
               "#bd3786"
              ],
              [
               0.5555555555555556,
               "#d8576b"
              ],
              [
               0.6666666666666666,
               "#ed7953"
              ],
              [
               0.7777777777777778,
               "#fb9f3a"
              ],
              [
               0.8888888888888888,
               "#fdca26"
              ],
              [
               1,
               "#f0f921"
              ]
             ]
            },
            "colorway": [
             "#636efa",
             "#EF553B",
             "#00cc96",
             "#ab63fa",
             "#FFA15A",
             "#19d3f3",
             "#FF6692",
             "#B6E880",
             "#FF97FF",
             "#FECB52"
            ],
            "font": {
             "color": "#2a3f5f"
            },
            "geo": {
             "bgcolor": "white",
             "lakecolor": "white",
             "landcolor": "white",
             "showlakes": true,
             "showland": true,
             "subunitcolor": "#C8D4E3"
            },
            "hoverlabel": {
             "align": "left"
            },
            "hovermode": "closest",
            "mapbox": {
             "style": "light"
            },
            "paper_bgcolor": "white",
            "plot_bgcolor": "white",
            "polar": {
             "angularaxis": {
              "gridcolor": "#EBF0F8",
              "linecolor": "#EBF0F8",
              "ticks": ""
             },
             "bgcolor": "white",
             "radialaxis": {
              "gridcolor": "#EBF0F8",
              "linecolor": "#EBF0F8",
              "ticks": ""
             }
            },
            "scene": {
             "xaxis": {
              "backgroundcolor": "white",
              "gridcolor": "#DFE8F3",
              "gridwidth": 2,
              "linecolor": "#EBF0F8",
              "showbackground": true,
              "ticks": "",
              "zerolinecolor": "#EBF0F8"
             },
             "yaxis": {
              "backgroundcolor": "white",
              "gridcolor": "#DFE8F3",
              "gridwidth": 2,
              "linecolor": "#EBF0F8",
              "showbackground": true,
              "ticks": "",
              "zerolinecolor": "#EBF0F8"
             },
             "zaxis": {
              "backgroundcolor": "white",
              "gridcolor": "#DFE8F3",
              "gridwidth": 2,
              "linecolor": "#EBF0F8",
              "showbackground": true,
              "ticks": "",
              "zerolinecolor": "#EBF0F8"
             }
            },
            "shapedefaults": {
             "line": {
              "color": "#2a3f5f"
             }
            },
            "ternary": {
             "aaxis": {
              "gridcolor": "#DFE8F3",
              "linecolor": "#A2B1C6",
              "ticks": ""
             },
             "baxis": {
              "gridcolor": "#DFE8F3",
              "linecolor": "#A2B1C6",
              "ticks": ""
             },
             "bgcolor": "white",
             "caxis": {
              "gridcolor": "#DFE8F3",
              "linecolor": "#A2B1C6",
              "ticks": ""
             }
            },
            "title": {
             "x": 0.05
            },
            "xaxis": {
             "automargin": true,
             "gridcolor": "#EBF0F8",
             "linecolor": "#EBF0F8",
             "ticks": "",
             "title": {
              "standoff": 15
             },
             "zerolinecolor": "#EBF0F8",
             "zerolinewidth": 2
            },
            "yaxis": {
             "automargin": true,
             "gridcolor": "#EBF0F8",
             "linecolor": "#EBF0F8",
             "ticks": "",
             "title": {
              "standoff": 15
             },
             "zerolinecolor": "#EBF0F8",
             "zerolinewidth": 2
            }
           }
          },
          "xaxis": {
           "automargin": false,
           "linecolor": "#444",
           "linewidth": 2,
           "minor": {
            "tickmode": "linear",
            "ticks": "outside"
           },
           "mirror": true,
           "showline": true,
           "tickmode": "linear",
           "ticks": "outside",
           "zeroline": false
          },
          "yaxis": {
           "automargin": true,
           "linecolor": "#444",
           "linewidth": 2,
           "minor": {
            "tickmode": "linear",
            "ticks": "outside"
           },
           "mirror": true,
           "showline": true,
           "ticks": "outside",
           "zeroline": false
          }
         }
        },
        "width": 600,
        "xaxis": {
         "dtick": 1,
         "range": [
          -0.5,
          7.5
         ],
         "tick0": 0,
         "title": {
          "text": "round"
         }
        },
        "yaxis": {
         "range": [
          -0.02,
          1.02
         ],
         "tickformat": ".0%",
         "title": {
          "text": "probability"
         }
        }
       }
      }
     },
     "metadata": {},
     "output_type": "display_data"
    }
   ],
   "source": [
    "# Fig. 3: plots the damage distribution for an example combat encounter after two rounds of combat\n",
    "combatants = [\n",
    "    cp.Combatant(\n",
    "        group='combatant 1',\n",
    "        name='combatant 1',\n",
    "        opponent='combatant 2',\n",
    "        level=5,\n",
    "        hit_points = 30,\n",
    "        damage = [2 @ cp.attack(5, 1 @ d(6) + 4, 2 @ d(6) + 4).damage(12)],\n",
    "    ),\n",
    "    cp.Combatant(\n",
    "        group='combatant 2',\n",
    "        name='combatant 2',\n",
    "        opponent='combatant 1',\n",
    "        level=5,\n",
    "        hit_points = 30,\n",
    "        damage = [1 @ cp.attack(5, 1 @ d(8) + 5, 2 @ d(8) + 5).damage(12)],\n",
    "    )\n",
    "]\n",
    "e = cp.Encounter(combatants, rounds=8)\n",
    "\n",
    "print('mean', e.encounter_length(units='rounds'))\n",
    "print('variance', e.encounter_length_variance(units='rounds'))\n",
    "print('sigma', e.encounter_length_sigma(units='rounds'))\n",
    "\n",
    "# create figure\n",
    "x_min = -1\n",
    "#x_max = max([c.hit_points for c in combatants])\n",
    "x_max = 8\n",
    "fig = go.Figure(\n",
    "    layout=go.Layout(\n",
    "        template=tfb.FIG_TEMPLATE,\n",
    "        xaxis=dict(\n",
    "            title_text='round',\n",
    "            range=[x_min+0.5,x_max-0.5],\n",
    "            tick0=0, dtick=1,\n",
    "            #minor=dict(tick0=0, dtick=5.0),\n",
    "        ),\n",
    "        yaxis=dict(\n",
    "            title_text='probability',\n",
    "            range=[-0.02,1.02],\n",
    "            tickformat='.0%'\n",
    "        ),\n",
    "        legend=dict(\n",
    "            xanchor='left', yanchor='top',\n",
    "            x=0.00, y=1.00,\n",
    "            orientation='v',\n",
    "            tracegroupgap=0,\n",
    "        )\n",
    "    )\n",
    ")\n",
    "\n",
    "colors = iter(COLOR_LIST)\n",
    "for group in ['combatant 1','combatant 2']:\n",
    "    color = next(colors)\n",
    "    t = [0] + [t['turn'] for t in e.turns if t['group'] == group]\n",
    "    x = [0] + [t['round'] for t in e.turns if t['group'] == group]\n",
    "    y = e.group_win_pdf(group)\n",
    "    y = [0] + [y[i] for i in range(len(e.turns)) if e.turns[i]['group'] == group]\n",
    "    fig.add_trace(go.Scatter(\n",
    "        x=x, \n",
    "        y=y,\n",
    "        legendgroup=group,\n",
    "        legendgrouptitle_text=group,\n",
    "        name=f'PDF',\n",
    "        mode='lines',\n",
    "        line_shape='hvh',\n",
    "        line_color=color,\n",
    "        fill='tozeroy',\n",
    "        customdata=t,\n",
    "        hoveron='points',\n",
    "        hovertemplate=\n",
    "            f'<b>{group} - PDF</b><br>'+\n",
    "            'round %{x:.0f} (turn %{customdata:.0f})<br>'+\n",
    "            'probability %{y:.1%}<extra></extra>',\n",
    "    ))\n",
    "\n",
    "    x = [0] + [t['round'] for t in e.turns if t['group'] == group]\n",
    "    y = e.group_win_cdf(group)\n",
    "    y = [0] + [y[i] for i in range(len(e.turns)) if e.turns[i]['group'] == group]\n",
    "    fig.add_trace(go.Scatter(\n",
    "        x=x, \n",
    "        y=y,\n",
    "        name=f'CDF',\n",
    "        legendgroup=group,\n",
    "        legendgrouptitle_text=group,\n",
    "        line_color=color,\n",
    "        customdata=t,\n",
    "        hovertemplate=\n",
    "            f'<b>{group} - CDF</b><br>'+\n",
    "            'round %{x:.0f} (turn %{customdata:.0f})<br>'+\n",
    "            'probability %{y:.1%}<extra></extra>',\n",
    "    ))\n",
    "\n",
    "    print(f'{group} - {e.group_damage_mean(group, clip=True):.1f}')\n",
    "\n",
    "# show figure\n",
    "fig.update_layout(width=600, height=450)\n",
    "fig.show(config=tfb.FIG_CONFIG)\n",
    "\n",
    "# save figures\n",
    "if SAVEFIGS:\n",
    "    fig.update_layout(autosize=True, width=None, height=None)\n",
    "    tfb.save_fig_html(fig, format='large', name=f'./fig-example-win-distribution-large')\n",
    "    tfb.save_fig_html(fig, format='small', name=f'./fig-example-win-distribution-small')"
   ]
  },
  {
   "cell_type": "code",
   "execution_count": 8,
   "metadata": {},
   "outputs": [
    {
     "name": "stdout",
     "output_type": "stream",
     "text": [
      "combatant 2 15.496107504175148 8.832251054933918\n",
      "combatant 2 15.540309054475653 8.726940408256919\n"
     ]
    },
    {
     "data": {
      "application/vnd.plotly.v1+json": {
       "config": {
        "autosizable": true,
        "displayModeBar": "hover",
        "displaylogo": false,
        "doubleClick": "reset",
        "modeBarButtonsToRemove": [
         "select2d",
         "lasso2d",
         "zoom2d",
         "zoomIn2d",
         "zoomOut2d",
         "pan2d",
         "autoScale2d",
         "hoverClosestCartesian",
         "hoverCompareCartesian",
         "toggleSpikelines",
         "resetScale2d"
        ],
        "plotlyServerURL": "https://plot.ly",
        "responsive": true,
        "showAxisDragHandles": false,
        "toImageButtonOptions": {
         "filename": "tfb-plot",
         "format": "png",
         "height": 450,
         "scale": 2,
         "width": 600
        }
       },
       "data": [
        {
         "fill": "tozeroy",
         "hoveron": "points",
         "hovertemplate": "<b>combatant 2</b><br>damage %{x:.0f}<br>probability %{y:.1%}<extra></extra>",
         "line": {
          "color": "#ff7f0e",
          "shape": "hvh"
         },
         "name": "combatant 2",
         "type": "scatter",
         "x": [
          -1,
          0,
          1,
          2,
          3,
          4,
          5,
          6,
          7,
          8,
          9,
          10,
          11,
          12,
          13,
          14,
          15,
          16,
          17,
          18,
          19,
          20,
          21,
          22,
          23,
          24,
          25,
          26,
          27,
          28,
          29,
          30,
          31
         ],
         "y": [
          0,
          0.09998011489361468,
          0,
          0,
          0,
          0,
          0,
          0.04273428862844416,
          0.04314519082677092,
          0.043556103025151185,
          0.04396700522347795,
          0.044377917421858204,
          0.044788819620184966,
          0.05013318821255694,
          0.05557242731248612,
          0.018372708293989373,
          0.023181254019709007,
          0.028086040260315394,
          0.03308751701821605,
          0.03839134539369786,
          0.044003885420787,
          0.04006464434584725,
          0.03616242346896556,
          0.032301932815340564,
          0.02889885460887216,
          0.025552366705161873,
          0.022272789159422005,
          0.018455158735099234,
          0.014086655363606196,
          0.014087905370293731,
          0.01379721381509391,
          0.10094225004103773,
          0
         ]
        }
       ],
       "layout": {
        "height": 450,
        "legend": {
         "orientation": "v",
         "tracegroupgap": 0,
         "x": 0,
         "xanchor": "left",
         "y": 1,
         "yanchor": "top"
        },
        "template": {
         "layout": {
          "autosize": false,
          "font": {
           "family": "sans-serif",
           "size": 14
          },
          "hoverlabel": {
           "align": "left"
          },
          "hovermode": "closest",
          "margin": {
           "b": 55,
           "l": 60,
           "pad": 4,
           "r": 25,
           "t": 20
          },
          "template": {
           "data": {
            "bar": [
             {
              "error_x": {
               "color": "#2a3f5f"
              },
              "error_y": {
               "color": "#2a3f5f"
              },
              "marker": {
               "line": {
                "color": "white",
                "width": 0.5
               },
               "pattern": {
                "fillmode": "overlay",
                "size": 10,
                "solidity": 0.2
               }
              },
              "type": "bar"
             }
            ],
            "barpolar": [
             {
              "marker": {
               "line": {
                "color": "white",
                "width": 0.5
               },
               "pattern": {
                "fillmode": "overlay",
                "size": 10,
                "solidity": 0.2
               }
              },
              "type": "barpolar"
             }
            ],
            "carpet": [
             {
              "aaxis": {
               "endlinecolor": "#2a3f5f",
               "gridcolor": "#C8D4E3",
               "linecolor": "#C8D4E3",
               "minorgridcolor": "#C8D4E3",
               "startlinecolor": "#2a3f5f"
              },
              "baxis": {
               "endlinecolor": "#2a3f5f",
               "gridcolor": "#C8D4E3",
               "linecolor": "#C8D4E3",
               "minorgridcolor": "#C8D4E3",
               "startlinecolor": "#2a3f5f"
              },
              "type": "carpet"
             }
            ],
            "choropleth": [
             {
              "colorbar": {
               "outlinewidth": 0,
               "ticks": ""
              },
              "type": "choropleth"
             }
            ],
            "contour": [
             {
              "colorbar": {
               "outlinewidth": 0,
               "ticks": ""
              },
              "colorscale": [
               [
                0,
                "#0d0887"
               ],
               [
                0.1111111111111111,
                "#46039f"
               ],
               [
                0.2222222222222222,
                "#7201a8"
               ],
               [
                0.3333333333333333,
                "#9c179e"
               ],
               [
                0.4444444444444444,
                "#bd3786"
               ],
               [
                0.5555555555555556,
                "#d8576b"
               ],
               [
                0.6666666666666666,
                "#ed7953"
               ],
               [
                0.7777777777777778,
                "#fb9f3a"
               ],
               [
                0.8888888888888888,
                "#fdca26"
               ],
               [
                1,
                "#f0f921"
               ]
              ],
              "type": "contour"
             }
            ],
            "contourcarpet": [
             {
              "colorbar": {
               "outlinewidth": 0,
               "ticks": ""
              },
              "type": "contourcarpet"
             }
            ],
            "heatmap": [
             {
              "colorbar": {
               "outlinewidth": 0,
               "ticks": ""
              },
              "colorscale": [
               [
                0,
                "#0d0887"
               ],
               [
                0.1111111111111111,
                "#46039f"
               ],
               [
                0.2222222222222222,
                "#7201a8"
               ],
               [
                0.3333333333333333,
                "#9c179e"
               ],
               [
                0.4444444444444444,
                "#bd3786"
               ],
               [
                0.5555555555555556,
                "#d8576b"
               ],
               [
                0.6666666666666666,
                "#ed7953"
               ],
               [
                0.7777777777777778,
                "#fb9f3a"
               ],
               [
                0.8888888888888888,
                "#fdca26"
               ],
               [
                1,
                "#f0f921"
               ]
              ],
              "type": "heatmap"
             }
            ],
            "heatmapgl": [
             {
              "colorbar": {
               "outlinewidth": 0,
               "ticks": ""
              },
              "colorscale": [
               [
                0,
                "#0d0887"
               ],
               [
                0.1111111111111111,
                "#46039f"
               ],
               [
                0.2222222222222222,
                "#7201a8"
               ],
               [
                0.3333333333333333,
                "#9c179e"
               ],
               [
                0.4444444444444444,
                "#bd3786"
               ],
               [
                0.5555555555555556,
                "#d8576b"
               ],
               [
                0.6666666666666666,
                "#ed7953"
               ],
               [
                0.7777777777777778,
                "#fb9f3a"
               ],
               [
                0.8888888888888888,
                "#fdca26"
               ],
               [
                1,
                "#f0f921"
               ]
              ],
              "type": "heatmapgl"
             }
            ],
            "histogram": [
             {
              "marker": {
               "pattern": {
                "fillmode": "overlay",
                "size": 10,
                "solidity": 0.2
               }
              },
              "type": "histogram"
             }
            ],
            "histogram2d": [
             {
              "colorbar": {
               "outlinewidth": 0,
               "ticks": ""
              },
              "colorscale": [
               [
                0,
                "#0d0887"
               ],
               [
                0.1111111111111111,
                "#46039f"
               ],
               [
                0.2222222222222222,
                "#7201a8"
               ],
               [
                0.3333333333333333,
                "#9c179e"
               ],
               [
                0.4444444444444444,
                "#bd3786"
               ],
               [
                0.5555555555555556,
                "#d8576b"
               ],
               [
                0.6666666666666666,
                "#ed7953"
               ],
               [
                0.7777777777777778,
                "#fb9f3a"
               ],
               [
                0.8888888888888888,
                "#fdca26"
               ],
               [
                1,
                "#f0f921"
               ]
              ],
              "type": "histogram2d"
             }
            ],
            "histogram2dcontour": [
             {
              "colorbar": {
               "outlinewidth": 0,
               "ticks": ""
              },
              "colorscale": [
               [
                0,
                "#0d0887"
               ],
               [
                0.1111111111111111,
                "#46039f"
               ],
               [
                0.2222222222222222,
                "#7201a8"
               ],
               [
                0.3333333333333333,
                "#9c179e"
               ],
               [
                0.4444444444444444,
                "#bd3786"
               ],
               [
                0.5555555555555556,
                "#d8576b"
               ],
               [
                0.6666666666666666,
                "#ed7953"
               ],
               [
                0.7777777777777778,
                "#fb9f3a"
               ],
               [
                0.8888888888888888,
                "#fdca26"
               ],
               [
                1,
                "#f0f921"
               ]
              ],
              "type": "histogram2dcontour"
             }
            ],
            "mesh3d": [
             {
              "colorbar": {
               "outlinewidth": 0,
               "ticks": ""
              },
              "type": "mesh3d"
             }
            ],
            "parcoords": [
             {
              "line": {
               "colorbar": {
                "outlinewidth": 0,
                "ticks": ""
               }
              },
              "type": "parcoords"
             }
            ],
            "pie": [
             {
              "automargin": true,
              "type": "pie"
             }
            ],
            "scatter": [
             {
              "fillpattern": {
               "fillmode": "overlay",
               "size": 10,
               "solidity": 0.2
              },
              "type": "scatter"
             }
            ],
            "scatter3d": [
             {
              "line": {
               "colorbar": {
                "outlinewidth": 0,
                "ticks": ""
               }
              },
              "marker": {
               "colorbar": {
                "outlinewidth": 0,
                "ticks": ""
               }
              },
              "type": "scatter3d"
             }
            ],
            "scattercarpet": [
             {
              "marker": {
               "colorbar": {
                "outlinewidth": 0,
                "ticks": ""
               }
              },
              "type": "scattercarpet"
             }
            ],
            "scattergeo": [
             {
              "marker": {
               "colorbar": {
                "outlinewidth": 0,
                "ticks": ""
               }
              },
              "type": "scattergeo"
             }
            ],
            "scattergl": [
             {
              "marker": {
               "colorbar": {
                "outlinewidth": 0,
                "ticks": ""
               }
              },
              "type": "scattergl"
             }
            ],
            "scattermapbox": [
             {
              "marker": {
               "colorbar": {
                "outlinewidth": 0,
                "ticks": ""
               }
              },
              "type": "scattermapbox"
             }
            ],
            "scatterpolar": [
             {
              "marker": {
               "colorbar": {
                "outlinewidth": 0,
                "ticks": ""
               }
              },
              "type": "scatterpolar"
             }
            ],
            "scatterpolargl": [
             {
              "marker": {
               "colorbar": {
                "outlinewidth": 0,
                "ticks": ""
               }
              },
              "type": "scatterpolargl"
             }
            ],
            "scatterternary": [
             {
              "marker": {
               "colorbar": {
                "outlinewidth": 0,
                "ticks": ""
               }
              },
              "type": "scatterternary"
             }
            ],
            "surface": [
             {
              "colorbar": {
               "outlinewidth": 0,
               "ticks": ""
              },
              "colorscale": [
               [
                0,
                "#0d0887"
               ],
               [
                0.1111111111111111,
                "#46039f"
               ],
               [
                0.2222222222222222,
                "#7201a8"
               ],
               [
                0.3333333333333333,
                "#9c179e"
               ],
               [
                0.4444444444444444,
                "#bd3786"
               ],
               [
                0.5555555555555556,
                "#d8576b"
               ],
               [
                0.6666666666666666,
                "#ed7953"
               ],
               [
                0.7777777777777778,
                "#fb9f3a"
               ],
               [
                0.8888888888888888,
                "#fdca26"
               ],
               [
                1,
                "#f0f921"
               ]
              ],
              "type": "surface"
             }
            ],
            "table": [
             {
              "cells": {
               "fill": {
                "color": "#EBF0F8"
               },
               "line": {
                "color": "white"
               }
              },
              "header": {
               "fill": {
                "color": "#C8D4E3"
               },
               "line": {
                "color": "white"
               }
              },
              "type": "table"
             }
            ]
           },
           "layout": {
            "annotationdefaults": {
             "arrowcolor": "#2a3f5f",
             "arrowhead": 0,
             "arrowwidth": 1
            },
            "autotypenumbers": "strict",
            "coloraxis": {
             "colorbar": {
              "outlinewidth": 0,
              "ticks": ""
             }
            },
            "colorscale": {
             "diverging": [
              [
               0,
               "#8e0152"
              ],
              [
               0.1,
               "#c51b7d"
              ],
              [
               0.2,
               "#de77ae"
              ],
              [
               0.3,
               "#f1b6da"
              ],
              [
               0.4,
               "#fde0ef"
              ],
              [
               0.5,
               "#f7f7f7"
              ],
              [
               0.6,
               "#e6f5d0"
              ],
              [
               0.7,
               "#b8e186"
              ],
              [
               0.8,
               "#7fbc41"
              ],
              [
               0.9,
               "#4d9221"
              ],
              [
               1,
               "#276419"
              ]
             ],
             "sequential": [
              [
               0,
               "#0d0887"
              ],
              [
               0.1111111111111111,
               "#46039f"
              ],
              [
               0.2222222222222222,
               "#7201a8"
              ],
              [
               0.3333333333333333,
               "#9c179e"
              ],
              [
               0.4444444444444444,
               "#bd3786"
              ],
              [
               0.5555555555555556,
               "#d8576b"
              ],
              [
               0.6666666666666666,
               "#ed7953"
              ],
              [
               0.7777777777777778,
               "#fb9f3a"
              ],
              [
               0.8888888888888888,
               "#fdca26"
              ],
              [
               1,
               "#f0f921"
              ]
             ],
             "sequentialminus": [
              [
               0,
               "#0d0887"
              ],
              [
               0.1111111111111111,
               "#46039f"
              ],
              [
               0.2222222222222222,
               "#7201a8"
              ],
              [
               0.3333333333333333,
               "#9c179e"
              ],
              [
               0.4444444444444444,
               "#bd3786"
              ],
              [
               0.5555555555555556,
               "#d8576b"
              ],
              [
               0.6666666666666666,
               "#ed7953"
              ],
              [
               0.7777777777777778,
               "#fb9f3a"
              ],
              [
               0.8888888888888888,
               "#fdca26"
              ],
              [
               1,
               "#f0f921"
              ]
             ]
            },
            "colorway": [
             "#636efa",
             "#EF553B",
             "#00cc96",
             "#ab63fa",
             "#FFA15A",
             "#19d3f3",
             "#FF6692",
             "#B6E880",
             "#FF97FF",
             "#FECB52"
            ],
            "font": {
             "color": "#2a3f5f"
            },
            "geo": {
             "bgcolor": "white",
             "lakecolor": "white",
             "landcolor": "white",
             "showlakes": true,
             "showland": true,
             "subunitcolor": "#C8D4E3"
            },
            "hoverlabel": {
             "align": "left"
            },
            "hovermode": "closest",
            "mapbox": {
             "style": "light"
            },
            "paper_bgcolor": "white",
            "plot_bgcolor": "white",
            "polar": {
             "angularaxis": {
              "gridcolor": "#EBF0F8",
              "linecolor": "#EBF0F8",
              "ticks": ""
             },
             "bgcolor": "white",
             "radialaxis": {
              "gridcolor": "#EBF0F8",
              "linecolor": "#EBF0F8",
              "ticks": ""
             }
            },
            "scene": {
             "xaxis": {
              "backgroundcolor": "white",
              "gridcolor": "#DFE8F3",
              "gridwidth": 2,
              "linecolor": "#EBF0F8",
              "showbackground": true,
              "ticks": "",
              "zerolinecolor": "#EBF0F8"
             },
             "yaxis": {
              "backgroundcolor": "white",
              "gridcolor": "#DFE8F3",
              "gridwidth": 2,
              "linecolor": "#EBF0F8",
              "showbackground": true,
              "ticks": "",
              "zerolinecolor": "#EBF0F8"
             },
             "zaxis": {
              "backgroundcolor": "white",
              "gridcolor": "#DFE8F3",
              "gridwidth": 2,
              "linecolor": "#EBF0F8",
              "showbackground": true,
              "ticks": "",
              "zerolinecolor": "#EBF0F8"
             }
            },
            "shapedefaults": {
             "line": {
              "color": "#2a3f5f"
             }
            },
            "ternary": {
             "aaxis": {
              "gridcolor": "#DFE8F3",
              "linecolor": "#A2B1C6",
              "ticks": ""
             },
             "baxis": {
              "gridcolor": "#DFE8F3",
              "linecolor": "#A2B1C6",
              "ticks": ""
             },
             "bgcolor": "white",
             "caxis": {
              "gridcolor": "#DFE8F3",
              "linecolor": "#A2B1C6",
              "ticks": ""
             }
            },
            "title": {
             "x": 0.05
            },
            "xaxis": {
             "automargin": true,
             "gridcolor": "#EBF0F8",
             "linecolor": "#EBF0F8",
             "ticks": "",
             "title": {
              "standoff": 15
             },
             "zerolinecolor": "#EBF0F8",
             "zerolinewidth": 2
            },
            "yaxis": {
             "automargin": true,
             "gridcolor": "#EBF0F8",
             "linecolor": "#EBF0F8",
             "ticks": "",
             "title": {
              "standoff": 15
             },
             "zerolinecolor": "#EBF0F8",
             "zerolinewidth": 2
            }
           }
          },
          "xaxis": {
           "automargin": false,
           "linecolor": "#444",
           "linewidth": 2,
           "minor": {
            "tickmode": "linear",
            "ticks": "outside"
           },
           "mirror": true,
           "showline": true,
           "tickmode": "linear",
           "ticks": "outside",
           "zeroline": false
          },
          "yaxis": {
           "automargin": true,
           "linecolor": "#444",
           "linewidth": 2,
           "minor": {
            "tickmode": "linear",
            "ticks": "outside"
           },
           "mirror": true,
           "showline": true,
           "ticks": "outside",
           "zeroline": false
          }
         }
        },
        "width": 600,
        "xaxis": {
         "dtick": 5,
         "minor": {
          "dtick": 1,
          "tick0": 0
         },
         "range": [
          -0.5,
          31.5
         ],
         "tick0": 0,
         "title": {
          "text": "final damage"
         }
        },
        "yaxis": {
         "range": [
          0,
          0.11
         ],
         "tickformat": ".0%",
         "title": {
          "text": "probability"
         }
        }
       }
      }
     },
     "metadata": {},
     "output_type": "display_data"
    }
   ],
   "source": [
    "# Fig. 4: plots the final damage distribution for an example combat encounter\n",
    "combatants = [\n",
    "    cp.Combatant(\n",
    "        group='combatant 1',\n",
    "        name='combatant 1',\n",
    "        opponent='combatant 2',\n",
    "        level=5,\n",
    "        hit_points = 30,\n",
    "        damage = [2 @ cp.attack(5, 1 @ d(6) + 4, 2 @ d(6) + 4).damage(12)],\n",
    "    ),\n",
    "    cp.Combatant(\n",
    "        group='combatant 2',\n",
    "        name='combatant 2',\n",
    "        opponent='combatant 1',\n",
    "        level=5,\n",
    "        hit_points = 30,\n",
    "        damage = [1 @ cp.attack(5, 1 @ d(8) + 5, 2 @ d(8) + 5).damage(12)],\n",
    "    )\n",
    "]\n",
    "e = cp.Encounter(combatants, initiative=['combatant 1','combatant 2'], rounds=8)\n",
    "\n",
    "# create figure\n",
    "x_min = -1\n",
    "x_max = max([c.hit_points for c in combatants]) + 2\n",
    "#x_max = 100\n",
    "fig = go.Figure(\n",
    "    layout=go.Layout(\n",
    "        template=tfb.FIG_TEMPLATE,\n",
    "        xaxis=dict(\n",
    "            title_text='final damage',\n",
    "            #range=[x_min+0.5,x_max-0.5],\n",
    "            range=[-0.5,31.5],\n",
    "            tick0=0, dtick=5,\n",
    "            minor=dict(tick0=0, dtick=1.0),\n",
    "        ),\n",
    "        yaxis=dict(\n",
    "            title_text='probability',\n",
    "            range=[0,0.11],\n",
    "            tickformat='.0%'\n",
    "        ),\n",
    "        legend=dict(\n",
    "            xanchor='left', yanchor='top',\n",
    "            x=0.00, y=1.00,\n",
    "            orientation='v',\n",
    "            tracegroupgap=0,\n",
    "        )\n",
    "    )\n",
    ")\n",
    "colors = iter(COLOR_LIST)\n",
    "color = next(colors)\n",
    "for group in ['combatant 2']:\n",
    "    color = next(colors)\n",
    "    #damage = e.group_damage(group, 6)\n",
    "    damage = e.group_damage_distribution(group, clip=True)\n",
    "    print(group, damage.mean(), damage.sd())\n",
    "    d_mean = e.group_damage_mean(group, method='approx', clip=True)\n",
    "    d_sigma = e.group_damage_sigma(group, method='approx', clip=True)\n",
    "    print(group, d_mean, d_sigma)\n",
    "    x = np.linspace(-1, damage.max_outcome()+1, damage.max_outcome() + 3)\n",
    "    y = np.array([damage.probability(d) for d in x])\n",
    "    fig.add_trace(go.Scatter(\n",
    "        x=x, \n",
    "        y=y,\n",
    "        name=f'{group}',\n",
    "        line_shape='hvh',\n",
    "        line_color=color,\n",
    "        fill='tozeroy',\n",
    "        hoveron='points',\n",
    "        hovertemplate=\n",
    "            f'<b>{group}</b><br>'+\n",
    "            'damage %{x:.0f}<br>'+\n",
    "            'probability %{y:.1%}<extra></extra>',\n",
    "    ))\n",
    "\n",
    "# show figure\n",
    "fig.update_layout(width=600, height=450)\n",
    "fig.show(config=tfb.FIG_CONFIG)\n",
    "\n",
    "# save figures\n",
    "if SAVEFIGS:\n",
    "    fig.update_layout(autosize=True, width=None, height=None)\n",
    "    tfb.save_fig_html(fig, format='large', name=f'./fig-final-damage-distribution-large')\n",
    "    tfb.save_fig_html(fig, format='small', name=f'./fig-final-damage-distribution-small')"
   ]
  },
  {
   "cell_type": "code",
   "execution_count": 10,
   "metadata": {},
   "outputs": [
    {
     "data": {
      "application/vnd.plotly.v1+json": {
       "config": {
        "autosizable": true,
        "displayModeBar": "hover",
        "displaylogo": false,
        "doubleClick": "reset",
        "modeBarButtonsToRemove": [
         "select2d",
         "lasso2d",
         "zoom2d",
         "zoomIn2d",
         "zoomOut2d",
         "pan2d",
         "autoScale2d",
         "hoverClosestCartesian",
         "hoverCompareCartesian",
         "toggleSpikelines",
         "resetScale2d"
        ],
        "plotlyServerURL": "https://plot.ly",
        "responsive": true,
        "showAxisDragHandles": false,
        "toImageButtonOptions": {
         "filename": "tfb-plot",
         "format": "png",
         "height": 450,
         "scale": 2,
         "width": 600
        }
       },
       "data": [
        {
         "fill": "tozeroy",
         "hoveron": "points",
         "hovertemplate": "<b>round 1</b><br>damage %{x:.0f}<br>probability %{y:.1%}<extra></extra>",
         "legendgroup": "round 1",
         "line": {
          "color": "#1f77b4",
          "shape": "hvh"
         },
         "mode": "lines",
         "name": "round 1",
         "type": "scatter",
         "x": [
          -1,
          0,
          1,
          2,
          3,
          4,
          5,
          6,
          7,
          8,
          9,
          10,
          11,
          12,
          13,
          14,
          15,
          16,
          17,
          18,
          19,
          20,
          21,
          22,
          23,
          24,
          25,
          26,
          27,
          28,
          29,
          30,
          31,
          32,
          33
         ],
         "y": [
          0,
          0.09,
          0,
          0,
          0,
          0,
          0.065,
          0.06583333333333333,
          0.06666666666666667,
          0.0675,
          0.06833333333333333,
          0.08090277777777778,
          0.02877314814814815,
          0.04027970679012346,
          0.05209104938271605,
          0.0642091049382716,
          0.0766358024691358,
          0.0659008487654321,
          0.05457561728395062,
          0.043487654320987654,
          0.03179783950617284,
          0.019500385802469135,
          0.006589506172839506,
          0.0047955246913580244,
          0.003279320987654321,
          0.0020466820987654322,
          0.001103395061728395,
          0.0004552469135802469,
          0.0001080246913580247,
          0.00006751543209876543,
          0.000038580246913580246,
          0.000019290123456790123,
          0.00000771604938271605,
          0.0000019290123456790124,
          0
         ]
        },
        {
         "hovertemplate": "<b>round 1</b><br>damage %{x:.0f}<br>probability %{y:.1%}<extra></extra>",
         "legendgroup": "round 1",
         "line": {
          "color": "#1f77b4"
         },
         "mode": "lines",
         "showlegend": false,
         "type": "scatter",
         "x": [
          -1,
          0,
          1,
          2,
          3,
          4,
          5,
          6,
          7,
          8,
          9,
          10,
          11,
          12,
          13,
          14,
          15,
          16,
          17,
          18,
          19,
          20,
          21,
          22,
          23,
          24,
          25,
          26,
          27,
          28,
          29,
          30,
          31,
          32,
          33,
          34,
          35,
          36,
          37,
          38,
          39,
          40,
          41,
          42,
          43,
          44,
          45
         ],
         "y": [
          0.007329639731682984,
          0.010603319994894759,
          0.014848156287575373,
          0.020126795489134507,
          0.02640876900130208,
          0.033542322060900895,
          0.041239133123532605,
          0.04907918700977235,
          0.05654010641669461,
          0.06305032403935541,
          0.06805960973924269,
          0.07111529530470731,
          0.07192966189364258,
          0.07042461005779777,
          0.06674401311337994,
          0.06123103677643124,
          0.054375385053887164,
          0.046741700253467695,
          0.038893596441519226,
          0.03132731239996817,
          0.024425282707135176,
          0.01843433624158379,
          0.013467495025559582,
          0.009523960666689682,
          0.0065195823772881386,
          0.004320096497859151,
          0.0027710126568413376,
          0.001720501404606375,
          0.0010340530216450732,
          0.0006015924162252022,
          0.0003387922164159026,
          0.0001846862774401488,
          0.00009745597631599769,
          0.0000497799670858431,
          0.000024613527880816085,
          0.00001178019551174852,
          0.000005457900579409903,
          0.0000024478629097003365,
          0.0000010624002931173408,
          4.4638181253050125e-7,
          1.8179492754160493e-7,
          7.179162743681213e-8,
          2.7211342657501376e-8,
          9.842400535691986e-9,
          3.4737884243618775e-9,
          1.1579294747872926e-9,
          0
         ]
        },
        {
         "fill": "tozeroy",
         "hoveron": "points",
         "hovertemplate": "<b>round 2</b><br>damage %{x:.0f}<br>probability %{y:.1%}<extra></extra>",
         "legendgroup": "round 2",
         "line": {
          "color": "#ff7f0e",
          "shape": "hvh"
         },
         "mode": "lines",
         "name": "round 2",
         "type": "scatter",
         "x": [
          -1,
          0,
          1,
          2,
          3,
          4,
          5,
          6,
          7,
          8,
          9,
          10,
          11,
          12,
          13,
          14,
          15,
          16,
          17,
          18,
          19,
          20,
          21,
          22,
          23,
          24,
          25,
          26,
          27,
          28,
          29,
          30,
          31,
          32,
          33,
          34,
          35,
          36,
          37,
          38,
          39,
          40,
          41,
          42,
          43,
          44,
          45,
          46,
          47,
          48,
          49,
          50,
          51,
          52,
          53,
          54,
          55,
          56,
          57,
          58,
          59,
          60,
          61,
          62,
          63,
          64,
          65
         ],
         "y": [
          0,
          0.0081,
          0,
          0,
          0,
          0,
          0.0117,
          0.01185,
          0.012,
          0.01215,
          0.0123,
          0.0187875,
          0.0137375,
          0.020251041666666667,
          0.026929166666666667,
          0.033772916666666666,
          0.04230902777777778,
          0.03992222222222222,
          0.03886047453703704,
          0.039330848122427986,
          0.04124116512345679,
          0.04478774594907407,
          0.04559765625,
          0.049985790412808644,
          0.05208388908536237,
          0.0518844112620087,
          0.04938440753719898,
          0.04403469931520062,
          0.03983271596007659,
          0.03651972323584676,
          0.033650151284579335,
          0.03091177404537704,
          0.027966715011050143,
          0.025277197120502543,
          0.02182338951284103,
          0.017921429660112786,
          0.013926300743741427,
          0.010234199126467001,
          0.007282835927974013,
          0.005001852566300868,
          0.003294510322597546,
          0.002095050226510107,
          0.0013124305198331048,
          0.0008290083120189377,
          0.0004991980905159275,
          0.0002858432597093621,
          0.0001564086672191739,
          0.00008360641658569577,
          0.00004528633330475537,
          0.000025076553956380508,
          0.000013041343973860692,
          0.000006356274291266575,
          0.000002937486901768023,
          0.0000013369722603261698,
          6.31215706447188e-7,
          3.063497847126962e-7,
          1.3651929964944367e-7,
          5.538096207704618e-8,
          2.0659484072549916e-8,
          7.516599032159732e-9,
          2.94710219478738e-9,
          1.227959247828075e-9,
          4.4653063557384543e-10,
          1.3395919067215363e-10,
          2.976870903825636e-11,
          3.721088629782045e-12,
          0
         ]
        },
        {
         "hovertemplate": "<b>round 2</b><br>damage %{x:.0f}<br>probability %{y:.1%}<extra></extra>",
         "legendgroup": "round 2",
         "line": {
          "color": "#ff7f0e"
         },
         "mode": "lines",
         "showlegend": false,
         "type": "scatter",
         "x": [
          -1,
          0,
          1,
          2,
          3,
          4,
          5,
          6,
          7,
          8,
          9,
          10,
          11,
          12,
          13,
          14,
          15,
          16,
          17,
          18,
          19,
          20,
          21,
          22,
          23,
          24,
          25,
          26,
          27,
          28,
          29,
          30,
          31,
          32,
          33,
          34,
          35,
          36,
          37,
          38,
          39,
          40,
          41,
          42,
          43,
          44,
          45,
          46,
          47,
          48,
          49,
          50,
          51,
          52,
          53,
          54,
          55,
          56,
          57,
          58,
          59,
          60,
          61,
          62,
          63,
          64,
          65,
          66,
          67,
          68,
          69
         ],
         "y": [
          0.0007699715490679864,
          0.0011048459886589868,
          0.0015597843052179044,
          0.0021665219550931845,
          0.0029607201749592953,
          0.003980772114375116,
          0.0052659042451795686,
          0.006853530493107507,
          0.008775896034645002,
          0.011056159466466934,
          0.01370417288385724,
          0.016712333507001687,
          0.020051970747241736,
          0.023670790124255946,
          0.02749186224318151,
          0.03141458191021264,
          0.035317839153016395,
          0.039065436750819305,
          0.0425135092343921,
          0.045519443923724534,
          0.047951550646379286,
          0.049698591165899815,
          0.05067820406070895,
          0.050843340291571254,
          0.050186007540255394,
          0.04873791414038689,
          0.04656793123232254,
          0.04377666447750129,
          0.04048872548531161,
          0.03684353253369024,
          0.0329855809937246,
          0.0290551234008978,
          0.025180075660462948,
          0.021469753568981374,
          0.01801079131215639,
          0.014865319566066137,
          0.012071227371729719,
          0.009644157993407535,
          0.0075807631777184935,
          0.00586269440260754,
          0.004460846648216269,
          0.0033394352227176126,
          0.002459600278665215,
          0.0017823444844655082,
          0.0012707337059994215,
          0.0008913602307605755,
          0.0006151592553417889,
          0.0004176932063925804,
          0.00027903810576279843,
          0.00018340244948228718,
          0.00011859924993026327,
          0.0000754563504283934,
          0.00004723281906487095,
          0.00002908912033117795,
          0.000017625561199299544,
          0.000010507716965542457,
          0.000006162937333728706,
          0.0000035563501345327275,
          0.000002019239958042382,
          0.000001127931166928723,
          6.200815619185268e-7,
          3.352929712636378e-7,
          1.781682315919749e-7,
          9.35266307569422e-8,
          4.816621483982524e-8,
          2.4316923996804973e-8,
          1.2158461998402486e-8,
          6.079230999201243e-9,
          2.805798922708266e-9,
          1.402899461354133e-9,
          0
         ]
        },
        {
         "fill": "tozeroy",
         "hoveron": "points",
         "hovertemplate": "<b>round 3</b><br>damage %{x:.0f}<br>probability %{y:.1%}<extra></extra>",
         "legendgroup": "round 3",
         "line": {
          "color": "#2ca02c",
          "shape": "hvh"
         },
         "mode": "lines",
         "name": "round 3",
         "type": "scatter",
         "x": [
          -1,
          0,
          1,
          2,
          3,
          4,
          5,
          6,
          7,
          8,
          9,
          10,
          11,
          12,
          13,
          14,
          15,
          16,
          17,
          18,
          19,
          20,
          21,
          22,
          23,
          24,
          25,
          26,
          27,
          28,
          29,
          30,
          31,
          32,
          33,
          34,
          35,
          36,
          37,
          38,
          39,
          40,
          41,
          42,
          43,
          44,
          45,
          46,
          47,
          48,
          49,
          50,
          51,
          52,
          53,
          54,
          55,
          56,
          57,
          58,
          59,
          60,
          61,
          62,
          63,
          64,
          65,
          66,
          67,
          68,
          69,
          70,
          71,
          72,
          73,
          74,
          75,
          76,
          77,
          78,
          79,
          80,
          81,
          82,
          83,
          84,
          85,
          86,
          87,
          88,
          89,
          90,
          91,
          92,
          93,
          94,
          95,
          96,
          97
         ],
         "y": [
          0,
          0.000729,
          0,
          0,
          0,
          0,
          0.0015795,
          0.00159975,
          0.00162,
          0.00164025,
          0.0016605,
          0.0031066875,
          0.0030099375,
          0.004488984375,
          0.0060050625,
          0.00755840625,
          0.0098358125,
          0.010012046875,
          0.010856276041666666,
          0.012415131655092592,
          0.014695086805555556,
          0.017909151475694444,
          0.02022052806712963,
          0.023182483723958335,
          0.025614656515239198,
          0.02766307846760063,
          0.02950955875450103,
          0.030629811800733025,
          0.03255119275253986,
          0.03489265590170611,
          0.037233759434355085,
          0.03918945939915545,
          0.040242959612234286,
          0.040853979162126935,
          0.04074434663527011,
          0.04016057724225933,
          0.03928452171892013,
          0.03821873971334715,
          0.037239015270785006,
          0.036059564040895865,
          0.0344903253612537,
          0.03246844488349308,
          0.030038437336683058,
          0.027381113871480407,
          0.024576298488812365,
          0.021788107813844527,
          0.01912703801870808,
          0.016654150699698795,
          0.014386124060819539,
          0.012269576878089099,
          0.010286676576787567,
          0.008449120402445035,
          0.006780811861180617,
          0.005307084311614317,
          0.004041880864429479,
          0.002997012866961251,
          0.0021666115343210294,
          0.001530304748697717,
          0.001057813488434553,
          0.00071527434372445,
          0.000473243304624728,
          0.00030681421396511384,
          0.00019507656369684682,
          0.00012155290896834931,
          0.00007411804598035612,
          0.00004432680152555369,
          0.000026072111983662293,
          0.000015109401539257758,
          0.000008616943729761137,
          0.000004815705959186966,
          0.0000026298215555140374,
          0.000001410296846553311,
          7.463285527598107e-7,
          3.9043319148349384e-7,
          2.0112053551917466e-7,
          1.0123561717931912e-7,
          4.9627439874631546e-8,
          2.3879973378456797e-8,
          1.1362469890053352e-8,
          5.354992906718442e-9,
          2.480900954444349e-9,
          1.1158976947086914e-9,
          4.850367248661834e-10,
          2.06108687386923e-10,
          8.665803850955174e-11,
          3.615921936624903e-11,
          1.477539208587183e-11,
          5.776903961425751e-12,
          2.1350320255446984e-12,
          7.575257859865324e-13,
          2.6435233807409946e-13,
          9.210842842855557e-14,
          3.135361715834872e-14,
          9.798005361983973e-15,
          2.612801429862393e-15,
          5.598860206847985e-16,
          8.613631087458439e-17,
          7.178025906215365e-18,
          0
         ]
        },
        {
         "hovertemplate": "<b>round 3</b><br>damage %{x:.0f}<br>probability %{y:.1%}<extra></extra>",
         "legendgroup": "round 3",
         "line": {
          "color": "#2ca02c"
         },
         "mode": "lines",
         "showlegend": false,
         "type": "scatter",
         "x": [
          -1,
          0,
          1,
          2,
          3,
          4,
          5,
          6,
          7,
          8,
          9,
          10,
          11,
          12,
          13,
          14,
          15,
          16,
          17,
          18,
          19,
          20,
          21,
          22,
          23,
          24,
          25,
          26,
          27,
          28,
          29,
          30,
          31,
          32,
          33,
          34,
          35,
          36,
          37,
          38,
          39,
          40,
          41,
          42,
          43,
          44,
          45,
          46,
          47,
          48,
          49,
          50,
          51,
          52,
          53,
          54,
          55,
          56,
          57,
          58,
          59,
          60,
          61,
          62,
          63,
          64,
          65,
          66,
          67,
          68,
          69,
          70,
          71,
          72,
          73,
          74,
          75,
          76,
          77,
          78,
          79,
          80,
          81,
          82,
          83,
          84,
          85,
          86,
          87,
          88,
          89,
          90,
          91
         ],
         "y": [
          0.00009289263598500712,
          0.000132932456147787,
          0.00018817913653206779,
          0.00026351289728293787,
          0.0003650254854172757,
          0.0005001896830827344,
          0.0006780108802955481,
          0.0009091371498058059,
          0.0012059028550312986,
          0.0015822892622463032,
          0.002053761010829656,
          0.002636965429527343,
          0.003349264102840534,
          0.004208088247293799,
          0.005230109105661361,
          0.006430239536288142,
          0.007820491063210715,
          0.009408738083580384,
          0.011197452182550976,
          0.0131824920131146,
          0.015352047562090281,
          0.017685835161732236,
          0.020154652618469247,
          0.022720377102843366,
          0.025336477542732598,
          0.027949073170777338,
          0.030498541039425665,
          0.03292162010374141,
          0.035153923952753664,
          0.03713273136554607,
          0.03879988694221138,
          0.040104628937690706,
          0.04100615263459451,
          0.041475728493086186,
          0.0414982228017365,
          0.04107290794106858,
          0.040213501068015446,
          0.03894742875955159,
          0.03731437564218507,
          0.03536421688354554,
          0.03315449280066685,
          0.030747598961669072,
          0.028207883796419433,
          0.025598839753245,
          0.022980556103248347,
          0.020407568787827433,
          0.017927200503774325,
          0.015578446942577687,
          0.013391410590636529,
          0.011387252901203748,
          0.009578601184543055,
          0.00797031878030902,
          0.006560542504360349,
          0.005341882218617569,
          0.004302682999406371,
          0.003428268666926018,
          0.0027020963404656238,
          0.002106771026219863,
          0.001624891048522578,
          0.0012397144775454863,
          0.0009356416299855806,
          0.0006985347433543764,
          0.000515889594298212,
          0.0003768914152231003,
          0.000272374099775969,
          0.00019471821654776093,
          0.00013770084304317172,
          0.00009632922251363751,
          0.00006666070539177444,
          0.00004563218600173613,
          0.00003090044125303297,
          0.000020698998147986875,
          0.0000137157502254517,
          0.000008990619587027838,
          0.000005829747736912203,
          0.0000037393803273564247,
          0.0000023724122720160292,
          0.0000014893516116199057,
          9.245585329276817e-7,
          5.6795817066497e-7,
          3.449950250293099e-7,
          2.0748936265779089e-7,
          1.2343858693709254e-7,
          7.244543848729648e-8,
          4.2201226303279506e-8,
          2.4265705124385715e-8,
          1.3715398548565839e-8,
          7.736891488934575e-9,
          4.22012263032795e-9,
          2.4617382010246378e-9,
          1.40670754344265e-9,
          7.03353771721325e-10,
          0
         ]
        }
       ],
       "layout": {
        "height": 450,
        "legend": {
         "orientation": "v",
         "tracegroupgap": 0,
         "x": 1,
         "xanchor": "right",
         "y": 1,
         "yanchor": "top"
        },
        "template": {
         "layout": {
          "autosize": false,
          "font": {
           "family": "sans-serif",
           "size": 14
          },
          "hoverlabel": {
           "align": "left"
          },
          "hovermode": "closest",
          "margin": {
           "b": 55,
           "l": 60,
           "pad": 4,
           "r": 25,
           "t": 20
          },
          "template": {
           "data": {
            "bar": [
             {
              "error_x": {
               "color": "#2a3f5f"
              },
              "error_y": {
               "color": "#2a3f5f"
              },
              "marker": {
               "line": {
                "color": "white",
                "width": 0.5
               },
               "pattern": {
                "fillmode": "overlay",
                "size": 10,
                "solidity": 0.2
               }
              },
              "type": "bar"
             }
            ],
            "barpolar": [
             {
              "marker": {
               "line": {
                "color": "white",
                "width": 0.5
               },
               "pattern": {
                "fillmode": "overlay",
                "size": 10,
                "solidity": 0.2
               }
              },
              "type": "barpolar"
             }
            ],
            "carpet": [
             {
              "aaxis": {
               "endlinecolor": "#2a3f5f",
               "gridcolor": "#C8D4E3",
               "linecolor": "#C8D4E3",
               "minorgridcolor": "#C8D4E3",
               "startlinecolor": "#2a3f5f"
              },
              "baxis": {
               "endlinecolor": "#2a3f5f",
               "gridcolor": "#C8D4E3",
               "linecolor": "#C8D4E3",
               "minorgridcolor": "#C8D4E3",
               "startlinecolor": "#2a3f5f"
              },
              "type": "carpet"
             }
            ],
            "choropleth": [
             {
              "colorbar": {
               "outlinewidth": 0,
               "ticks": ""
              },
              "type": "choropleth"
             }
            ],
            "contour": [
             {
              "colorbar": {
               "outlinewidth": 0,
               "ticks": ""
              },
              "colorscale": [
               [
                0,
                "#0d0887"
               ],
               [
                0.1111111111111111,
                "#46039f"
               ],
               [
                0.2222222222222222,
                "#7201a8"
               ],
               [
                0.3333333333333333,
                "#9c179e"
               ],
               [
                0.4444444444444444,
                "#bd3786"
               ],
               [
                0.5555555555555556,
                "#d8576b"
               ],
               [
                0.6666666666666666,
                "#ed7953"
               ],
               [
                0.7777777777777778,
                "#fb9f3a"
               ],
               [
                0.8888888888888888,
                "#fdca26"
               ],
               [
                1,
                "#f0f921"
               ]
              ],
              "type": "contour"
             }
            ],
            "contourcarpet": [
             {
              "colorbar": {
               "outlinewidth": 0,
               "ticks": ""
              },
              "type": "contourcarpet"
             }
            ],
            "heatmap": [
             {
              "colorbar": {
               "outlinewidth": 0,
               "ticks": ""
              },
              "colorscale": [
               [
                0,
                "#0d0887"
               ],
               [
                0.1111111111111111,
                "#46039f"
               ],
               [
                0.2222222222222222,
                "#7201a8"
               ],
               [
                0.3333333333333333,
                "#9c179e"
               ],
               [
                0.4444444444444444,
                "#bd3786"
               ],
               [
                0.5555555555555556,
                "#d8576b"
               ],
               [
                0.6666666666666666,
                "#ed7953"
               ],
               [
                0.7777777777777778,
                "#fb9f3a"
               ],
               [
                0.8888888888888888,
                "#fdca26"
               ],
               [
                1,
                "#f0f921"
               ]
              ],
              "type": "heatmap"
             }
            ],
            "heatmapgl": [
             {
              "colorbar": {
               "outlinewidth": 0,
               "ticks": ""
              },
              "colorscale": [
               [
                0,
                "#0d0887"
               ],
               [
                0.1111111111111111,
                "#46039f"
               ],
               [
                0.2222222222222222,
                "#7201a8"
               ],
               [
                0.3333333333333333,
                "#9c179e"
               ],
               [
                0.4444444444444444,
                "#bd3786"
               ],
               [
                0.5555555555555556,
                "#d8576b"
               ],
               [
                0.6666666666666666,
                "#ed7953"
               ],
               [
                0.7777777777777778,
                "#fb9f3a"
               ],
               [
                0.8888888888888888,
                "#fdca26"
               ],
               [
                1,
                "#f0f921"
               ]
              ],
              "type": "heatmapgl"
             }
            ],
            "histogram": [
             {
              "marker": {
               "pattern": {
                "fillmode": "overlay",
                "size": 10,
                "solidity": 0.2
               }
              },
              "type": "histogram"
             }
            ],
            "histogram2d": [
             {
              "colorbar": {
               "outlinewidth": 0,
               "ticks": ""
              },
              "colorscale": [
               [
                0,
                "#0d0887"
               ],
               [
                0.1111111111111111,
                "#46039f"
               ],
               [
                0.2222222222222222,
                "#7201a8"
               ],
               [
                0.3333333333333333,
                "#9c179e"
               ],
               [
                0.4444444444444444,
                "#bd3786"
               ],
               [
                0.5555555555555556,
                "#d8576b"
               ],
               [
                0.6666666666666666,
                "#ed7953"
               ],
               [
                0.7777777777777778,
                "#fb9f3a"
               ],
               [
                0.8888888888888888,
                "#fdca26"
               ],
               [
                1,
                "#f0f921"
               ]
              ],
              "type": "histogram2d"
             }
            ],
            "histogram2dcontour": [
             {
              "colorbar": {
               "outlinewidth": 0,
               "ticks": ""
              },
              "colorscale": [
               [
                0,
                "#0d0887"
               ],
               [
                0.1111111111111111,
                "#46039f"
               ],
               [
                0.2222222222222222,
                "#7201a8"
               ],
               [
                0.3333333333333333,
                "#9c179e"
               ],
               [
                0.4444444444444444,
                "#bd3786"
               ],
               [
                0.5555555555555556,
                "#d8576b"
               ],
               [
                0.6666666666666666,
                "#ed7953"
               ],
               [
                0.7777777777777778,
                "#fb9f3a"
               ],
               [
                0.8888888888888888,
                "#fdca26"
               ],
               [
                1,
                "#f0f921"
               ]
              ],
              "type": "histogram2dcontour"
             }
            ],
            "mesh3d": [
             {
              "colorbar": {
               "outlinewidth": 0,
               "ticks": ""
              },
              "type": "mesh3d"
             }
            ],
            "parcoords": [
             {
              "line": {
               "colorbar": {
                "outlinewidth": 0,
                "ticks": ""
               }
              },
              "type": "parcoords"
             }
            ],
            "pie": [
             {
              "automargin": true,
              "type": "pie"
             }
            ],
            "scatter": [
             {
              "fillpattern": {
               "fillmode": "overlay",
               "size": 10,
               "solidity": 0.2
              },
              "type": "scatter"
             }
            ],
            "scatter3d": [
             {
              "line": {
               "colorbar": {
                "outlinewidth": 0,
                "ticks": ""
               }
              },
              "marker": {
               "colorbar": {
                "outlinewidth": 0,
                "ticks": ""
               }
              },
              "type": "scatter3d"
             }
            ],
            "scattercarpet": [
             {
              "marker": {
               "colorbar": {
                "outlinewidth": 0,
                "ticks": ""
               }
              },
              "type": "scattercarpet"
             }
            ],
            "scattergeo": [
             {
              "marker": {
               "colorbar": {
                "outlinewidth": 0,
                "ticks": ""
               }
              },
              "type": "scattergeo"
             }
            ],
            "scattergl": [
             {
              "marker": {
               "colorbar": {
                "outlinewidth": 0,
                "ticks": ""
               }
              },
              "type": "scattergl"
             }
            ],
            "scattermapbox": [
             {
              "marker": {
               "colorbar": {
                "outlinewidth": 0,
                "ticks": ""
               }
              },
              "type": "scattermapbox"
             }
            ],
            "scatterpolar": [
             {
              "marker": {
               "colorbar": {
                "outlinewidth": 0,
                "ticks": ""
               }
              },
              "type": "scatterpolar"
             }
            ],
            "scatterpolargl": [
             {
              "marker": {
               "colorbar": {
                "outlinewidth": 0,
                "ticks": ""
               }
              },
              "type": "scatterpolargl"
             }
            ],
            "scatterternary": [
             {
              "marker": {
               "colorbar": {
                "outlinewidth": 0,
                "ticks": ""
               }
              },
              "type": "scatterternary"
             }
            ],
            "surface": [
             {
              "colorbar": {
               "outlinewidth": 0,
               "ticks": ""
              },
              "colorscale": [
               [
                0,
                "#0d0887"
               ],
               [
                0.1111111111111111,
                "#46039f"
               ],
               [
                0.2222222222222222,
                "#7201a8"
               ],
               [
                0.3333333333333333,
                "#9c179e"
               ],
               [
                0.4444444444444444,
                "#bd3786"
               ],
               [
                0.5555555555555556,
                "#d8576b"
               ],
               [
                0.6666666666666666,
                "#ed7953"
               ],
               [
                0.7777777777777778,
                "#fb9f3a"
               ],
               [
                0.8888888888888888,
                "#fdca26"
               ],
               [
                1,
                "#f0f921"
               ]
              ],
              "type": "surface"
             }
            ],
            "table": [
             {
              "cells": {
               "fill": {
                "color": "#EBF0F8"
               },
               "line": {
                "color": "white"
               }
              },
              "header": {
               "fill": {
                "color": "#C8D4E3"
               },
               "line": {
                "color": "white"
               }
              },
              "type": "table"
             }
            ]
           },
           "layout": {
            "annotationdefaults": {
             "arrowcolor": "#2a3f5f",
             "arrowhead": 0,
             "arrowwidth": 1
            },
            "autotypenumbers": "strict",
            "coloraxis": {
             "colorbar": {
              "outlinewidth": 0,
              "ticks": ""
             }
            },
            "colorscale": {
             "diverging": [
              [
               0,
               "#8e0152"
              ],
              [
               0.1,
               "#c51b7d"
              ],
              [
               0.2,
               "#de77ae"
              ],
              [
               0.3,
               "#f1b6da"
              ],
              [
               0.4,
               "#fde0ef"
              ],
              [
               0.5,
               "#f7f7f7"
              ],
              [
               0.6,
               "#e6f5d0"
              ],
              [
               0.7,
               "#b8e186"
              ],
              [
               0.8,
               "#7fbc41"
              ],
              [
               0.9,
               "#4d9221"
              ],
              [
               1,
               "#276419"
              ]
             ],
             "sequential": [
              [
               0,
               "#0d0887"
              ],
              [
               0.1111111111111111,
               "#46039f"
              ],
              [
               0.2222222222222222,
               "#7201a8"
              ],
              [
               0.3333333333333333,
               "#9c179e"
              ],
              [
               0.4444444444444444,
               "#bd3786"
              ],
              [
               0.5555555555555556,
               "#d8576b"
              ],
              [
               0.6666666666666666,
               "#ed7953"
              ],
              [
               0.7777777777777778,
               "#fb9f3a"
              ],
              [
               0.8888888888888888,
               "#fdca26"
              ],
              [
               1,
               "#f0f921"
              ]
             ],
             "sequentialminus": [
              [
               0,
               "#0d0887"
              ],
              [
               0.1111111111111111,
               "#46039f"
              ],
              [
               0.2222222222222222,
               "#7201a8"
              ],
              [
               0.3333333333333333,
               "#9c179e"
              ],
              [
               0.4444444444444444,
               "#bd3786"
              ],
              [
               0.5555555555555556,
               "#d8576b"
              ],
              [
               0.6666666666666666,
               "#ed7953"
              ],
              [
               0.7777777777777778,
               "#fb9f3a"
              ],
              [
               0.8888888888888888,
               "#fdca26"
              ],
              [
               1,
               "#f0f921"
              ]
             ]
            },
            "colorway": [
             "#636efa",
             "#EF553B",
             "#00cc96",
             "#ab63fa",
             "#FFA15A",
             "#19d3f3",
             "#FF6692",
             "#B6E880",
             "#FF97FF",
             "#FECB52"
            ],
            "font": {
             "color": "#2a3f5f"
            },
            "geo": {
             "bgcolor": "white",
             "lakecolor": "white",
             "landcolor": "white",
             "showlakes": true,
             "showland": true,
             "subunitcolor": "#C8D4E3"
            },
            "hoverlabel": {
             "align": "left"
            },
            "hovermode": "closest",
            "mapbox": {
             "style": "light"
            },
            "paper_bgcolor": "white",
            "plot_bgcolor": "white",
            "polar": {
             "angularaxis": {
              "gridcolor": "#EBF0F8",
              "linecolor": "#EBF0F8",
              "ticks": ""
             },
             "bgcolor": "white",
             "radialaxis": {
              "gridcolor": "#EBF0F8",
              "linecolor": "#EBF0F8",
              "ticks": ""
             }
            },
            "scene": {
             "xaxis": {
              "backgroundcolor": "white",
              "gridcolor": "#DFE8F3",
              "gridwidth": 2,
              "linecolor": "#EBF0F8",
              "showbackground": true,
              "ticks": "",
              "zerolinecolor": "#EBF0F8"
             },
             "yaxis": {
              "backgroundcolor": "white",
              "gridcolor": "#DFE8F3",
              "gridwidth": 2,
              "linecolor": "#EBF0F8",
              "showbackground": true,
              "ticks": "",
              "zerolinecolor": "#EBF0F8"
             },
             "zaxis": {
              "backgroundcolor": "white",
              "gridcolor": "#DFE8F3",
              "gridwidth": 2,
              "linecolor": "#EBF0F8",
              "showbackground": true,
              "ticks": "",
              "zerolinecolor": "#EBF0F8"
             }
            },
            "shapedefaults": {
             "line": {
              "color": "#2a3f5f"
             }
            },
            "ternary": {
             "aaxis": {
              "gridcolor": "#DFE8F3",
              "linecolor": "#A2B1C6",
              "ticks": ""
             },
             "baxis": {
              "gridcolor": "#DFE8F3",
              "linecolor": "#A2B1C6",
              "ticks": ""
             },
             "bgcolor": "white",
             "caxis": {
              "gridcolor": "#DFE8F3",
              "linecolor": "#A2B1C6",
              "ticks": ""
             }
            },
            "title": {
             "x": 0.05
            },
            "xaxis": {
             "automargin": true,
             "gridcolor": "#EBF0F8",
             "linecolor": "#EBF0F8",
             "ticks": "",
             "title": {
              "standoff": 15
             },
             "zerolinecolor": "#EBF0F8",
             "zerolinewidth": 2
            },
            "yaxis": {
             "automargin": true,
             "gridcolor": "#EBF0F8",
             "linecolor": "#EBF0F8",
             "ticks": "",
             "title": {
              "standoff": 15
             },
             "zerolinecolor": "#EBF0F8",
             "zerolinewidth": 2
            }
           }
          },
          "xaxis": {
           "automargin": false,
           "linecolor": "#444",
           "linewidth": 2,
           "minor": {
            "tickmode": "linear",
            "ticks": "outside"
           },
           "mirror": true,
           "showline": true,
           "tickmode": "linear",
           "ticks": "outside",
           "zeroline": false
          },
          "yaxis": {
           "automargin": true,
           "linecolor": "#444",
           "linewidth": 2,
           "minor": {
            "tickmode": "linear",
            "ticks": "outside"
           },
           "mirror": true,
           "showline": true,
           "ticks": "outside",
           "zeroline": false
          }
         }
        },
        "width": 600,
        "xaxis": {
         "dtick": 10,
         "minor": {
          "dtick": 5,
          "tick0": 0
         },
         "range": [
          -0.5,
          60.5
         ],
         "tick0": 0,
         "title": {
          "text": "damage"
         }
        },
        "yaxis": {
         "dtick": 0.02,
         "minor": {
          "dtick": 0.01,
          "tick0": 0
         },
         "tick0": 0,
         "tickformat": ".0%",
         "title": {
          "text": "probability"
         }
        }
       }
      }
     },
     "metadata": {},
     "output_type": "display_data"
    }
   ],
   "source": [
    "# Fig. 5: plots the damage distribution for an example combat encounter after two rounds of combat\n",
    "combatants = [\n",
    "    cp.Combatant(\n",
    "        group='c1',\n",
    "        name='c1',\n",
    "        opponent='c2',\n",
    "        level=5,\n",
    "        hit_points = 30,\n",
    "        damage = [2 @ cp.attack(5, 1 @ d(6) + 4, 2 @ d(6) + 4).damage(12)],\n",
    "    ),\n",
    "    cp.Combatant(\n",
    "        group='c2',\n",
    "        name='c2',\n",
    "        opponent='c1',\n",
    "        level=5,\n",
    "        hit_points = 30,\n",
    "        damage = [1 @ cp.attack(5, 1 @ d(8) + 5, 2 @ d(8) + 5).damage(12)],\n",
    "    )\n",
    "]\n",
    "e = cp.Encounter(combatants, rounds=8)\n",
    "\n",
    "# create figure\n",
    "x_min = -1\n",
    "#x_max = max([c.hit_points for c in combatants])\n",
    "x_max = 61\n",
    "fig = go.Figure(\n",
    "    layout=go.Layout(\n",
    "        template=tfb.FIG_TEMPLATE,\n",
    "        xaxis=dict(\n",
    "            title_text='damage',\n",
    "            range=[x_min+0.5,x_max-0.5],\n",
    "            tick0=0, dtick=10,\n",
    "            minor=dict(tick0=0, dtick=5.0),\n",
    "        ),\n",
    "        yaxis=dict(\n",
    "            title_text='probability',\n",
    "            #range=[0,0.1],\n",
    "            tickformat='.0%',\n",
    "            tick0=0, dtick=0.02,\n",
    "            minor=dict(tick0=0, dtick=0.01),\n",
    "        ),\n",
    "        legend=dict(\n",
    "            xanchor='right', yanchor='top',\n",
    "            x=1.00, y=1.00,\n",
    "            orientation='v',\n",
    "            tracegroupgap=0,\n",
    "        )\n",
    "    )\n",
    ")\n",
    "i = -1\n",
    "for round in [1,2,3]:\n",
    "    for group in ['c1']:\n",
    "        i += 1\n",
    "        damage = e.group_damage(group, e.get_turn(group, round), clip=False)\n",
    "        x = np.linspace(-1, damage.max_outcome()+1, damage.max_outcome() + 3)\n",
    "        y = np.array([damage.probability(d) for d in x])\n",
    "        fig.add_trace(go.Scatter(\n",
    "            x=x, \n",
    "            y=y,\n",
    "            #name=f'damage distribution',\n",
    "            name=f'round {round:.0f}',\n",
    "            legendgroup=f'round {round:.0f}',\n",
    "            legendgrouptitle_text=None,\n",
    "            line_shape='hvh',\n",
    "            line_color=COLOR_LIST[i],\n",
    "            mode='lines',\n",
    "            fill='tozeroy',\n",
    "            hoveron='points',\n",
    "            hovertemplate=\n",
    "                f'<b>round {round:.0f}</b><br>'+\n",
    "                'damage %{x:.0f}<br>'+\n",
    "                'probability %{y:.1%}<extra></extra>',\n",
    "        ))\n",
    "        #_, r2 = gaussian_fit(damage)\n",
    "        #print(f'{round:.0f} - R squared = {r2:.4f}')\n",
    "        \n",
    "        damage = cp.gaussian_die_approximation(damage)\n",
    "        x = np.linspace(-1, damage.max_outcome()+1, damage.max_outcome() + 3)\n",
    "        y = np.array([damage.probability(d) for d in x])\n",
    "        fig.add_trace(go.Scatter(\n",
    "            x=x, \n",
    "            y=y,\n",
    "            #name=f'Gaussian fit',\n",
    "            legendgroup=f'round {round:.0f}',\n",
    "            #legendgrouptitle_text=None,\n",
    "            showlegend=False,\n",
    "            line_color=COLOR_LIST[i],\n",
    "            mode='lines',\n",
    "            hovertemplate=\n",
    "                f'<b>round {round:.0f}</b><br>'+\n",
    "                'damage %{x:.0f}<br>'+\n",
    "                'probability %{y:.1%}<extra></extra>',\n",
    "        ))\n",
    "\n",
    "# show figure\n",
    "fig.update_layout(width=600, height=450)\n",
    "fig.show(config=tfb.FIG_CONFIG)\n",
    "\n",
    "# save figures\n",
    "if SAVEFIGS:\n",
    "    fig.update_layout(autosize=True, width=None, height=None)\n",
    "    tfb.save_fig_html(fig, format='large', name=f'./fig-example-gaussian-fit-large')\n",
    "    tfb.save_fig_html(fig, format='small', name=f'./fig-example-gaussian-fit-small')"
   ]
  },
  {
   "cell_type": "code",
   "execution_count": 13,
   "metadata": {},
   "outputs": [
    {
     "name": "stdout",
     "output_type": "stream",
     "text": [
      "0.84 + -0.47*phit\n",
      "1.08 + -0.74*phit\n",
      "1.16 + -0.83*phit\n",
      "1.24 + -0.99*phit\n",
      "1.23 + -0.97*phit\n"
     ]
    },
    {
     "data": {
      "application/vnd.plotly.v1+json": {
       "config": {
        "autosizable": true,
        "displayModeBar": "hover",
        "displaylogo": false,
        "doubleClick": "reset",
        "modeBarButtonsToRemove": [
         "select2d",
         "lasso2d",
         "zoom2d",
         "zoomIn2d",
         "zoomOut2d",
         "pan2d",
         "autoScale2d",
         "hoverClosestCartesian",
         "hoverCompareCartesian",
         "toggleSpikelines",
         "resetScale2d"
        ],
        "plotlyServerURL": "https://plot.ly",
        "responsive": true,
        "showAxisDragHandles": false,
        "toImageButtonOptions": {
         "filename": "tfb-plot",
         "format": "png",
         "height": 450,
         "scale": 2,
         "width": 600
        }
       },
       "data": [
        {
         "hovertemplate": "<b>d4</b><br>hit %{x:.0%}<br>attacks %{y:.0f}<extra></extra>",
         "name": "d4",
         "type": "scatter",
         "x": [
          0.2,
          0.25,
          0.30000000000000004,
          0.35000000000000003,
          0.4,
          0.45,
          0.5,
          0.55,
          0.6000000000000001,
          0.65,
          0.7000000000000001,
          0.75,
          0.8,
          0.8500000000000001,
          0.9,
          0.9500000000000001
         ],
         "y": [
          7,
          6,
          5,
          6,
          4,
          4,
          3,
          3,
          3,
          3,
          3,
          3,
          3,
          3,
          3,
          3
         ]
        },
        {
         "hovertemplate": "<b>d6</b><br>hit %{x:.0%}<br>attacks %{y:.0f}<extra></extra>",
         "name": "d6",
         "type": "scatter",
         "x": [
          0.2,
          0.25,
          0.30000000000000004,
          0.35000000000000003,
          0.4,
          0.45,
          0.5,
          0.55,
          0.6000000000000001,
          0.65,
          0.7000000000000001,
          0.75,
          0.8,
          0.8500000000000001,
          0.9,
          0.9500000000000001
         ],
         "y": [
          9,
          9,
          8,
          7,
          6,
          5,
          5,
          4,
          4,
          3,
          3,
          3,
          3,
          3,
          3,
          3
         ]
        },
        {
         "hovertemplate": "<b>d8</b><br>hit %{x:.0%}<br>attacks %{y:.0f}<extra></extra>",
         "name": "d8",
         "type": "scatter",
         "x": [
          0.2,
          0.25,
          0.30000000000000004,
          0.35000000000000003,
          0.4,
          0.45,
          0.5,
          0.55,
          0.6000000000000001,
          0.65,
          0.7000000000000001,
          0.75,
          0.8,
          0.8500000000000001,
          0.9,
          0.9500000000000001
         ],
         "y": [
          10,
          10,
          9,
          8,
          7,
          6,
          5,
          5,
          4,
          4,
          3,
          3,
          3,
          3,
          3,
          3
         ]
        },
        {
         "hovertemplate": "<b>d10</b><br>hit %{x:.0%}<br>attacks %{y:.0f}<extra></extra>",
         "name": "d10",
         "type": "scatter",
         "x": [
          0.2,
          0.25,
          0.30000000000000004,
          0.35000000000000003,
          0.4,
          0.45,
          0.5,
          0.55,
          0.6000000000000001,
          0.65,
          0.7000000000000001,
          0.75,
          0.8,
          0.8500000000000001,
          0.9,
          0.9500000000000001
         ],
         "y": [
          11,
          11,
          10,
          8,
          7,
          6,
          6,
          5,
          4,
          4,
          3,
          3,
          2,
          2,
          3,
          3
         ]
        },
        {
         "hovertemplate": "<b>d12</b><br>hit %{x:.0%}<br>attacks %{y:.0f}<extra></extra>",
         "name": "d12",
         "type": "scatter",
         "x": [
          0.2,
          0.25,
          0.30000000000000004,
          0.35000000000000003,
          0.4,
          0.45,
          0.5,
          0.55,
          0.6000000000000001,
          0.65,
          0.7000000000000001,
          0.75,
          0.8,
          0.8500000000000001,
          0.9,
          0.9500000000000001
         ],
         "y": [
          11,
          11,
          9,
          8,
          7,
          6,
          6,
          5,
          4,
          4,
          3,
          3,
          2,
          2,
          3,
          3
         ]
        }
       ],
       "layout": {
        "height": 450,
        "legend": {
         "orientation": "v",
         "tracegroupgap": 0,
         "x": 1,
         "xanchor": "right",
         "y": 1,
         "yanchor": "top"
        },
        "template": {
         "layout": {
          "autosize": false,
          "font": {
           "family": "sans-serif",
           "size": 14
          },
          "hoverlabel": {
           "align": "left"
          },
          "hovermode": "closest",
          "margin": {
           "b": 55,
           "l": 60,
           "pad": 4,
           "r": 25,
           "t": 20
          },
          "template": {
           "data": {
            "bar": [
             {
              "error_x": {
               "color": "#2a3f5f"
              },
              "error_y": {
               "color": "#2a3f5f"
              },
              "marker": {
               "line": {
                "color": "white",
                "width": 0.5
               },
               "pattern": {
                "fillmode": "overlay",
                "size": 10,
                "solidity": 0.2
               }
              },
              "type": "bar"
             }
            ],
            "barpolar": [
             {
              "marker": {
               "line": {
                "color": "white",
                "width": 0.5
               },
               "pattern": {
                "fillmode": "overlay",
                "size": 10,
                "solidity": 0.2
               }
              },
              "type": "barpolar"
             }
            ],
            "carpet": [
             {
              "aaxis": {
               "endlinecolor": "#2a3f5f",
               "gridcolor": "#C8D4E3",
               "linecolor": "#C8D4E3",
               "minorgridcolor": "#C8D4E3",
               "startlinecolor": "#2a3f5f"
              },
              "baxis": {
               "endlinecolor": "#2a3f5f",
               "gridcolor": "#C8D4E3",
               "linecolor": "#C8D4E3",
               "minorgridcolor": "#C8D4E3",
               "startlinecolor": "#2a3f5f"
              },
              "type": "carpet"
             }
            ],
            "choropleth": [
             {
              "colorbar": {
               "outlinewidth": 0,
               "ticks": ""
              },
              "type": "choropleth"
             }
            ],
            "contour": [
             {
              "colorbar": {
               "outlinewidth": 0,
               "ticks": ""
              },
              "colorscale": [
               [
                0,
                "#0d0887"
               ],
               [
                0.1111111111111111,
                "#46039f"
               ],
               [
                0.2222222222222222,
                "#7201a8"
               ],
               [
                0.3333333333333333,
                "#9c179e"
               ],
               [
                0.4444444444444444,
                "#bd3786"
               ],
               [
                0.5555555555555556,
                "#d8576b"
               ],
               [
                0.6666666666666666,
                "#ed7953"
               ],
               [
                0.7777777777777778,
                "#fb9f3a"
               ],
               [
                0.8888888888888888,
                "#fdca26"
               ],
               [
                1,
                "#f0f921"
               ]
              ],
              "type": "contour"
             }
            ],
            "contourcarpet": [
             {
              "colorbar": {
               "outlinewidth": 0,
               "ticks": ""
              },
              "type": "contourcarpet"
             }
            ],
            "heatmap": [
             {
              "colorbar": {
               "outlinewidth": 0,
               "ticks": ""
              },
              "colorscale": [
               [
                0,
                "#0d0887"
               ],
               [
                0.1111111111111111,
                "#46039f"
               ],
               [
                0.2222222222222222,
                "#7201a8"
               ],
               [
                0.3333333333333333,
                "#9c179e"
               ],
               [
                0.4444444444444444,
                "#bd3786"
               ],
               [
                0.5555555555555556,
                "#d8576b"
               ],
               [
                0.6666666666666666,
                "#ed7953"
               ],
               [
                0.7777777777777778,
                "#fb9f3a"
               ],
               [
                0.8888888888888888,
                "#fdca26"
               ],
               [
                1,
                "#f0f921"
               ]
              ],
              "type": "heatmap"
             }
            ],
            "heatmapgl": [
             {
              "colorbar": {
               "outlinewidth": 0,
               "ticks": ""
              },
              "colorscale": [
               [
                0,
                "#0d0887"
               ],
               [
                0.1111111111111111,
                "#46039f"
               ],
               [
                0.2222222222222222,
                "#7201a8"
               ],
               [
                0.3333333333333333,
                "#9c179e"
               ],
               [
                0.4444444444444444,
                "#bd3786"
               ],
               [
                0.5555555555555556,
                "#d8576b"
               ],
               [
                0.6666666666666666,
                "#ed7953"
               ],
               [
                0.7777777777777778,
                "#fb9f3a"
               ],
               [
                0.8888888888888888,
                "#fdca26"
               ],
               [
                1,
                "#f0f921"
               ]
              ],
              "type": "heatmapgl"
             }
            ],
            "histogram": [
             {
              "marker": {
               "pattern": {
                "fillmode": "overlay",
                "size": 10,
                "solidity": 0.2
               }
              },
              "type": "histogram"
             }
            ],
            "histogram2d": [
             {
              "colorbar": {
               "outlinewidth": 0,
               "ticks": ""
              },
              "colorscale": [
               [
                0,
                "#0d0887"
               ],
               [
                0.1111111111111111,
                "#46039f"
               ],
               [
                0.2222222222222222,
                "#7201a8"
               ],
               [
                0.3333333333333333,
                "#9c179e"
               ],
               [
                0.4444444444444444,
                "#bd3786"
               ],
               [
                0.5555555555555556,
                "#d8576b"
               ],
               [
                0.6666666666666666,
                "#ed7953"
               ],
               [
                0.7777777777777778,
                "#fb9f3a"
               ],
               [
                0.8888888888888888,
                "#fdca26"
               ],
               [
                1,
                "#f0f921"
               ]
              ],
              "type": "histogram2d"
             }
            ],
            "histogram2dcontour": [
             {
              "colorbar": {
               "outlinewidth": 0,
               "ticks": ""
              },
              "colorscale": [
               [
                0,
                "#0d0887"
               ],
               [
                0.1111111111111111,
                "#46039f"
               ],
               [
                0.2222222222222222,
                "#7201a8"
               ],
               [
                0.3333333333333333,
                "#9c179e"
               ],
               [
                0.4444444444444444,
                "#bd3786"
               ],
               [
                0.5555555555555556,
                "#d8576b"
               ],
               [
                0.6666666666666666,
                "#ed7953"
               ],
               [
                0.7777777777777778,
                "#fb9f3a"
               ],
               [
                0.8888888888888888,
                "#fdca26"
               ],
               [
                1,
                "#f0f921"
               ]
              ],
              "type": "histogram2dcontour"
             }
            ],
            "mesh3d": [
             {
              "colorbar": {
               "outlinewidth": 0,
               "ticks": ""
              },
              "type": "mesh3d"
             }
            ],
            "parcoords": [
             {
              "line": {
               "colorbar": {
                "outlinewidth": 0,
                "ticks": ""
               }
              },
              "type": "parcoords"
             }
            ],
            "pie": [
             {
              "automargin": true,
              "type": "pie"
             }
            ],
            "scatter": [
             {
              "fillpattern": {
               "fillmode": "overlay",
               "size": 10,
               "solidity": 0.2
              },
              "type": "scatter"
             }
            ],
            "scatter3d": [
             {
              "line": {
               "colorbar": {
                "outlinewidth": 0,
                "ticks": ""
               }
              },
              "marker": {
               "colorbar": {
                "outlinewidth": 0,
                "ticks": ""
               }
              },
              "type": "scatter3d"
             }
            ],
            "scattercarpet": [
             {
              "marker": {
               "colorbar": {
                "outlinewidth": 0,
                "ticks": ""
               }
              },
              "type": "scattercarpet"
             }
            ],
            "scattergeo": [
             {
              "marker": {
               "colorbar": {
                "outlinewidth": 0,
                "ticks": ""
               }
              },
              "type": "scattergeo"
             }
            ],
            "scattergl": [
             {
              "marker": {
               "colorbar": {
                "outlinewidth": 0,
                "ticks": ""
               }
              },
              "type": "scattergl"
             }
            ],
            "scattermapbox": [
             {
              "marker": {
               "colorbar": {
                "outlinewidth": 0,
                "ticks": ""
               }
              },
              "type": "scattermapbox"
             }
            ],
            "scatterpolar": [
             {
              "marker": {
               "colorbar": {
                "outlinewidth": 0,
                "ticks": ""
               }
              },
              "type": "scatterpolar"
             }
            ],
            "scatterpolargl": [
             {
              "marker": {
               "colorbar": {
                "outlinewidth": 0,
                "ticks": ""
               }
              },
              "type": "scatterpolargl"
             }
            ],
            "scatterternary": [
             {
              "marker": {
               "colorbar": {
                "outlinewidth": 0,
                "ticks": ""
               }
              },
              "type": "scatterternary"
             }
            ],
            "surface": [
             {
              "colorbar": {
               "outlinewidth": 0,
               "ticks": ""
              },
              "colorscale": [
               [
                0,
                "#0d0887"
               ],
               [
                0.1111111111111111,
                "#46039f"
               ],
               [
                0.2222222222222222,
                "#7201a8"
               ],
               [
                0.3333333333333333,
                "#9c179e"
               ],
               [
                0.4444444444444444,
                "#bd3786"
               ],
               [
                0.5555555555555556,
                "#d8576b"
               ],
               [
                0.6666666666666666,
                "#ed7953"
               ],
               [
                0.7777777777777778,
                "#fb9f3a"
               ],
               [
                0.8888888888888888,
                "#fdca26"
               ],
               [
                1,
                "#f0f921"
               ]
              ],
              "type": "surface"
             }
            ],
            "table": [
             {
              "cells": {
               "fill": {
                "color": "#EBF0F8"
               },
               "line": {
                "color": "white"
               }
              },
              "header": {
               "fill": {
                "color": "#C8D4E3"
               },
               "line": {
                "color": "white"
               }
              },
              "type": "table"
             }
            ]
           },
           "layout": {
            "annotationdefaults": {
             "arrowcolor": "#2a3f5f",
             "arrowhead": 0,
             "arrowwidth": 1
            },
            "autotypenumbers": "strict",
            "coloraxis": {
             "colorbar": {
              "outlinewidth": 0,
              "ticks": ""
             }
            },
            "colorscale": {
             "diverging": [
              [
               0,
               "#8e0152"
              ],
              [
               0.1,
               "#c51b7d"
              ],
              [
               0.2,
               "#de77ae"
              ],
              [
               0.3,
               "#f1b6da"
              ],
              [
               0.4,
               "#fde0ef"
              ],
              [
               0.5,
               "#f7f7f7"
              ],
              [
               0.6,
               "#e6f5d0"
              ],
              [
               0.7,
               "#b8e186"
              ],
              [
               0.8,
               "#7fbc41"
              ],
              [
               0.9,
               "#4d9221"
              ],
              [
               1,
               "#276419"
              ]
             ],
             "sequential": [
              [
               0,
               "#0d0887"
              ],
              [
               0.1111111111111111,
               "#46039f"
              ],
              [
               0.2222222222222222,
               "#7201a8"
              ],
              [
               0.3333333333333333,
               "#9c179e"
              ],
              [
               0.4444444444444444,
               "#bd3786"
              ],
              [
               0.5555555555555556,
               "#d8576b"
              ],
              [
               0.6666666666666666,
               "#ed7953"
              ],
              [
               0.7777777777777778,
               "#fb9f3a"
              ],
              [
               0.8888888888888888,
               "#fdca26"
              ],
              [
               1,
               "#f0f921"
              ]
             ],
             "sequentialminus": [
              [
               0,
               "#0d0887"
              ],
              [
               0.1111111111111111,
               "#46039f"
              ],
              [
               0.2222222222222222,
               "#7201a8"
              ],
              [
               0.3333333333333333,
               "#9c179e"
              ],
              [
               0.4444444444444444,
               "#bd3786"
              ],
              [
               0.5555555555555556,
               "#d8576b"
              ],
              [
               0.6666666666666666,
               "#ed7953"
              ],
              [
               0.7777777777777778,
               "#fb9f3a"
              ],
              [
               0.8888888888888888,
               "#fdca26"
              ],
              [
               1,
               "#f0f921"
              ]
             ]
            },
            "colorway": [
             "#636efa",
             "#EF553B",
             "#00cc96",
             "#ab63fa",
             "#FFA15A",
             "#19d3f3",
             "#FF6692",
             "#B6E880",
             "#FF97FF",
             "#FECB52"
            ],
            "font": {
             "color": "#2a3f5f"
            },
            "geo": {
             "bgcolor": "white",
             "lakecolor": "white",
             "landcolor": "white",
             "showlakes": true,
             "showland": true,
             "subunitcolor": "#C8D4E3"
            },
            "hoverlabel": {
             "align": "left"
            },
            "hovermode": "closest",
            "mapbox": {
             "style": "light"
            },
            "paper_bgcolor": "white",
            "plot_bgcolor": "white",
            "polar": {
             "angularaxis": {
              "gridcolor": "#EBF0F8",
              "linecolor": "#EBF0F8",
              "ticks": ""
             },
             "bgcolor": "white",
             "radialaxis": {
              "gridcolor": "#EBF0F8",
              "linecolor": "#EBF0F8",
              "ticks": ""
             }
            },
            "scene": {
             "xaxis": {
              "backgroundcolor": "white",
              "gridcolor": "#DFE8F3",
              "gridwidth": 2,
              "linecolor": "#EBF0F8",
              "showbackground": true,
              "ticks": "",
              "zerolinecolor": "#EBF0F8"
             },
             "yaxis": {
              "backgroundcolor": "white",
              "gridcolor": "#DFE8F3",
              "gridwidth": 2,
              "linecolor": "#EBF0F8",
              "showbackground": true,
              "ticks": "",
              "zerolinecolor": "#EBF0F8"
             },
             "zaxis": {
              "backgroundcolor": "white",
              "gridcolor": "#DFE8F3",
              "gridwidth": 2,
              "linecolor": "#EBF0F8",
              "showbackground": true,
              "ticks": "",
              "zerolinecolor": "#EBF0F8"
             }
            },
            "shapedefaults": {
             "line": {
              "color": "#2a3f5f"
             }
            },
            "ternary": {
             "aaxis": {
              "gridcolor": "#DFE8F3",
              "linecolor": "#A2B1C6",
              "ticks": ""
             },
             "baxis": {
              "gridcolor": "#DFE8F3",
              "linecolor": "#A2B1C6",
              "ticks": ""
             },
             "bgcolor": "white",
             "caxis": {
              "gridcolor": "#DFE8F3",
              "linecolor": "#A2B1C6",
              "ticks": ""
             }
            },
            "title": {
             "x": 0.05
            },
            "xaxis": {
             "automargin": true,
             "gridcolor": "#EBF0F8",
             "linecolor": "#EBF0F8",
             "ticks": "",
             "title": {
              "standoff": 15
             },
             "zerolinecolor": "#EBF0F8",
             "zerolinewidth": 2
            },
            "yaxis": {
             "automargin": true,
             "gridcolor": "#EBF0F8",
             "linecolor": "#EBF0F8",
             "ticks": "",
             "title": {
              "standoff": 15
             },
             "zerolinecolor": "#EBF0F8",
             "zerolinewidth": 2
            }
           }
          },
          "xaxis": {
           "automargin": false,
           "linecolor": "#444",
           "linewidth": 2,
           "minor": {
            "tickmode": "linear",
            "ticks": "outside"
           },
           "mirror": true,
           "showline": true,
           "tickmode": "linear",
           "ticks": "outside",
           "zeroline": false
          },
          "yaxis": {
           "automargin": true,
           "linecolor": "#444",
           "linewidth": 2,
           "minor": {
            "tickmode": "linear",
            "ticks": "outside"
           },
           "mirror": true,
           "showline": true,
           "ticks": "outside",
           "zeroline": false
          }
         }
        },
        "width": 600,
        "xaxis": {
         "dtick": 0.2,
         "minor": {
          "dtick": 0.05,
          "tick0": 0
         },
         "range": [
          0,
          1
         ],
         "tick0": 0,
         "title": {
          "text": "chance to hit"
         }
        },
        "yaxis": {
         "dtick": 5,
         "minor": {
          "dtick": 1,
          "tick0": 0
         },
         "range": [
          0,
          20
         ],
         "tick0": 0,
         "title": {
          "text": "saves"
         }
        }
       }
      }
     },
     "metadata": {},
     "output_type": "display_data"
    }
   ],
   "source": [
    "# plots the number of turns it takes for a save to be sufficiently Gaussian\n",
    "from icepool import d\n",
    "import numpy as np\n",
    "\n",
    "\"\"\"\n",
    "0.99    55.99 + -68.24*phit\n",
    "0.95    16.79 + -18.44*phit\n",
    "\"\"\"\n",
    "\n",
    "# create figure\n",
    "fig = go.Figure(\n",
    "    layout=go.Layout(\n",
    "        template=tfb.FIG_TEMPLATE,\n",
    "        xaxis=dict(\n",
    "            title_text='chance to hit',\n",
    "            range=[0,1],\n",
    "            tick0=0, dtick=0.2,\n",
    "            minor=dict(tick0=0, dtick=0.05),\n",
    "        ),\n",
    "        yaxis=dict(\n",
    "            title_text='saves',\n",
    "            #type='log',\n",
    "            range=[0,20],\n",
    "            tick0=0, dtick=5,\n",
    "            minor=dict(tick0=0, dtick=1),\n",
    "            #tickformat='.0%'\n",
    "        ),\n",
    "        legend=dict(\n",
    "            xanchor='right', yanchor='top',\n",
    "            x=1.00, y=1.00,\n",
    "            orientation='v',\n",
    "            tracegroupgap=0,\n",
    "        )\n",
    "    )\n",
    ")\n",
    "\n",
    "\n",
    "for roll in [4, 6, 8, 10, 12]:\n",
    "    pc = cp.baseline_pc(16)\n",
    "    x = []\n",
    "    y = []\n",
    "    for ab in list(range(0, 16)):\n",
    "        dc = ab + 8 + 2\n",
    "        dpr = cp.save(dc, 1 @ d(roll), 0.5)\n",
    "        dmg = dpr.damage(pc['save bonus'], 1)\n",
    "        rnd = cp.rounds_to_gaussian(dmg, rsquared=0.99, method='top-half')\n",
    "\n",
    "        #p_miss = dmg.probability(0)\n",
    "        #p_hit = 1 - p_miss\n",
    "        p_hit = 0.05*(dc - pc['save bonus'] - 1)\n",
    "        x.append(p_hit)\n",
    "        y.append(rnd)\n",
    "        #print(f'{p_hit:.2f}, {rnd:.0f}')\n",
    "\n",
    "    coefs = np.polyfit(x, np.log10(y), 1)\n",
    "    poly = np.poly1d(coefs)\n",
    "    print(f'{coefs[1]:.2f} + {coefs[0]:.2f}*phit')\n",
    "\n",
    "    fig.add_trace(go.Scatter(\n",
    "        x=x, \n",
    "        y=y,\n",
    "        name=f'd{roll:.0f}',\n",
    "        hovertemplate=\n",
    "            f'<b>d{roll:.0f}</b><br>'+\n",
    "            'hit %{x:.0%}<br>'+\n",
    "            'attacks %{y:.0f}<extra></extra>',\n",
    "    ))\n",
    "\n",
    "# show figure\n",
    "fig.update_layout(width=600, height=450)\n",
    "fig.show(config=tfb.FIG_CONFIG)\n",
    "\n",
    "# save figures\n",
    "if SAVEFIGS:\n",
    "    fig.update_layout(autosize=True, width=None, height=None)\n",
    "    #tfb.save_fig_html(fig, sformat='large', name=f'./fig-simple-hits-large')\n",
    "    #tfb.save_fig_html(fig, format='small', name=f'./fig-simple-hits-small')"
   ]
  },
  {
   "cell_type": "code",
   "execution_count": 16,
   "metadata": {},
   "outputs": [
    {
     "data": {
      "application/vnd.plotly.v1+json": {
       "config": {
        "autosizable": true,
        "displayModeBar": "hover",
        "displaylogo": false,
        "doubleClick": "reset",
        "modeBarButtonsToRemove": [
         "select2d",
         "lasso2d",
         "zoom2d",
         "zoomIn2d",
         "zoomOut2d",
         "pan2d",
         "autoScale2d",
         "hoverClosestCartesian",
         "hoverCompareCartesian",
         "toggleSpikelines",
         "resetScale2d"
        ],
        "plotlyServerURL": "https://plot.ly",
        "responsive": true,
        "showAxisDragHandles": false,
        "toImageButtonOptions": {
         "filename": "tfb-plot",
         "format": "png",
         "height": 450,
         "scale": 2,
         "width": 600
        }
       },
       "data": [
        {
         "hovertemplate": "<b>d4</b><br>hit %{x:.0%}<br>attacks %{y:.0f}<extra></extra>",
         "name": "d4",
         "type": "scatter",
         "x": [
          0.19999999999999996,
          0.25,
          0.30000000000000004,
          0.35,
          0.4,
          0.44999999999999996,
          0.5,
          0.55,
          0.6,
          0.65,
          0.7,
          0.75,
          0.8,
          0.85,
          0.9,
          0.95
         ],
         "y": [
          17,
          13,
          10,
          8,
          7,
          6,
          5,
          4,
          3,
          3,
          3,
          2,
          2,
          2,
          2,
          2
         ]
        },
        {
         "hovertemplate": "<b>d6</b><br>hit %{x:.0%}<br>attacks %{y:.0f}<extra></extra>",
         "name": "d6",
         "type": "scatter",
         "x": [
          0.19999999999999996,
          0.25,
          0.30000000000000004,
          0.35,
          0.4,
          0.44999999999999996,
          0.5,
          0.55,
          0.6,
          0.65,
          0.7,
          0.75,
          0.8,
          0.85,
          0.9,
          0.95
         ],
         "y": [
          18,
          14,
          11,
          9,
          7,
          6,
          5,
          4,
          4,
          3,
          3,
          3,
          2,
          2,
          2,
          2
         ]
        },
        {
         "hovertemplate": "<b>d8</b><br>hit %{x:.0%}<br>attacks %{y:.0f}<extra></extra>",
         "name": "d8",
         "type": "scatter",
         "x": [
          0.19999999999999996,
          0.25,
          0.30000000000000004,
          0.35,
          0.4,
          0.44999999999999996,
          0.5,
          0.55,
          0.6,
          0.65,
          0.7,
          0.75,
          0.8,
          0.85,
          0.9,
          0.95
         ],
         "y": [
          19,
          14,
          11,
          9,
          8,
          6,
          5,
          5,
          4,
          4,
          3,
          3,
          2,
          2,
          2,
          2
         ]
        },
        {
         "hovertemplate": "<b>d10</b><br>hit %{x:.0%}<br>attacks %{y:.0f}<extra></extra>",
         "name": "d10",
         "type": "scatter",
         "x": [
          0.19999999999999996,
          0.25,
          0.30000000000000004,
          0.35,
          0.4,
          0.44999999999999996,
          0.5,
          0.55,
          0.6,
          0.65,
          0.7,
          0.75,
          0.8,
          0.85,
          0.9,
          0.95
         ],
         "y": [
          19,
          15,
          12,
          10,
          8,
          7,
          6,
          5,
          4,
          4,
          3,
          3,
          2,
          2,
          2,
          2
         ]
        },
        {
         "hovertemplate": "<b>d12</b><br>hit %{x:.0%}<br>attacks %{y:.0f}<extra></extra>",
         "name": "d12",
         "type": "scatter",
         "x": [
          0.19999999999999996,
          0.25,
          0.30000000000000004,
          0.35,
          0.4,
          0.44999999999999996,
          0.5,
          0.55,
          0.6,
          0.65,
          0.7,
          0.75,
          0.8,
          0.85,
          0.9,
          0.95
         ],
         "y": [
          20,
          15,
          12,
          10,
          8,
          7,
          6,
          5,
          4,
          4,
          3,
          3,
          3,
          2,
          2,
          2
         ]
        }
       ],
       "layout": {
        "height": 450,
        "legend": {
         "orientation": "v",
         "tracegroupgap": 0,
         "x": 1,
         "xanchor": "right",
         "y": 1,
         "yanchor": "top"
        },
        "template": {
         "layout": {
          "autosize": false,
          "font": {
           "family": "sans-serif",
           "size": 14
          },
          "hoverlabel": {
           "align": "left"
          },
          "hovermode": "closest",
          "margin": {
           "b": 55,
           "l": 60,
           "pad": 4,
           "r": 25,
           "t": 20
          },
          "template": {
           "data": {
            "bar": [
             {
              "error_x": {
               "color": "#2a3f5f"
              },
              "error_y": {
               "color": "#2a3f5f"
              },
              "marker": {
               "line": {
                "color": "white",
                "width": 0.5
               },
               "pattern": {
                "fillmode": "overlay",
                "size": 10,
                "solidity": 0.2
               }
              },
              "type": "bar"
             }
            ],
            "barpolar": [
             {
              "marker": {
               "line": {
                "color": "white",
                "width": 0.5
               },
               "pattern": {
                "fillmode": "overlay",
                "size": 10,
                "solidity": 0.2
               }
              },
              "type": "barpolar"
             }
            ],
            "carpet": [
             {
              "aaxis": {
               "endlinecolor": "#2a3f5f",
               "gridcolor": "#C8D4E3",
               "linecolor": "#C8D4E3",
               "minorgridcolor": "#C8D4E3",
               "startlinecolor": "#2a3f5f"
              },
              "baxis": {
               "endlinecolor": "#2a3f5f",
               "gridcolor": "#C8D4E3",
               "linecolor": "#C8D4E3",
               "minorgridcolor": "#C8D4E3",
               "startlinecolor": "#2a3f5f"
              },
              "type": "carpet"
             }
            ],
            "choropleth": [
             {
              "colorbar": {
               "outlinewidth": 0,
               "ticks": ""
              },
              "type": "choropleth"
             }
            ],
            "contour": [
             {
              "colorbar": {
               "outlinewidth": 0,
               "ticks": ""
              },
              "colorscale": [
               [
                0,
                "#0d0887"
               ],
               [
                0.1111111111111111,
                "#46039f"
               ],
               [
                0.2222222222222222,
                "#7201a8"
               ],
               [
                0.3333333333333333,
                "#9c179e"
               ],
               [
                0.4444444444444444,
                "#bd3786"
               ],
               [
                0.5555555555555556,
                "#d8576b"
               ],
               [
                0.6666666666666666,
                "#ed7953"
               ],
               [
                0.7777777777777778,
                "#fb9f3a"
               ],
               [
                0.8888888888888888,
                "#fdca26"
               ],
               [
                1,
                "#f0f921"
               ]
              ],
              "type": "contour"
             }
            ],
            "contourcarpet": [
             {
              "colorbar": {
               "outlinewidth": 0,
               "ticks": ""
              },
              "type": "contourcarpet"
             }
            ],
            "heatmap": [
             {
              "colorbar": {
               "outlinewidth": 0,
               "ticks": ""
              },
              "colorscale": [
               [
                0,
                "#0d0887"
               ],
               [
                0.1111111111111111,
                "#46039f"
               ],
               [
                0.2222222222222222,
                "#7201a8"
               ],
               [
                0.3333333333333333,
                "#9c179e"
               ],
               [
                0.4444444444444444,
                "#bd3786"
               ],
               [
                0.5555555555555556,
                "#d8576b"
               ],
               [
                0.6666666666666666,
                "#ed7953"
               ],
               [
                0.7777777777777778,
                "#fb9f3a"
               ],
               [
                0.8888888888888888,
                "#fdca26"
               ],
               [
                1,
                "#f0f921"
               ]
              ],
              "type": "heatmap"
             }
            ],
            "heatmapgl": [
             {
              "colorbar": {
               "outlinewidth": 0,
               "ticks": ""
              },
              "colorscale": [
               [
                0,
                "#0d0887"
               ],
               [
                0.1111111111111111,
                "#46039f"
               ],
               [
                0.2222222222222222,
                "#7201a8"
               ],
               [
                0.3333333333333333,
                "#9c179e"
               ],
               [
                0.4444444444444444,
                "#bd3786"
               ],
               [
                0.5555555555555556,
                "#d8576b"
               ],
               [
                0.6666666666666666,
                "#ed7953"
               ],
               [
                0.7777777777777778,
                "#fb9f3a"
               ],
               [
                0.8888888888888888,
                "#fdca26"
               ],
               [
                1,
                "#f0f921"
               ]
              ],
              "type": "heatmapgl"
             }
            ],
            "histogram": [
             {
              "marker": {
               "pattern": {
                "fillmode": "overlay",
                "size": 10,
                "solidity": 0.2
               }
              },
              "type": "histogram"
             }
            ],
            "histogram2d": [
             {
              "colorbar": {
               "outlinewidth": 0,
               "ticks": ""
              },
              "colorscale": [
               [
                0,
                "#0d0887"
               ],
               [
                0.1111111111111111,
                "#46039f"
               ],
               [
                0.2222222222222222,
                "#7201a8"
               ],
               [
                0.3333333333333333,
                "#9c179e"
               ],
               [
                0.4444444444444444,
                "#bd3786"
               ],
               [
                0.5555555555555556,
                "#d8576b"
               ],
               [
                0.6666666666666666,
                "#ed7953"
               ],
               [
                0.7777777777777778,
                "#fb9f3a"
               ],
               [
                0.8888888888888888,
                "#fdca26"
               ],
               [
                1,
                "#f0f921"
               ]
              ],
              "type": "histogram2d"
             }
            ],
            "histogram2dcontour": [
             {
              "colorbar": {
               "outlinewidth": 0,
               "ticks": ""
              },
              "colorscale": [
               [
                0,
                "#0d0887"
               ],
               [
                0.1111111111111111,
                "#46039f"
               ],
               [
                0.2222222222222222,
                "#7201a8"
               ],
               [
                0.3333333333333333,
                "#9c179e"
               ],
               [
                0.4444444444444444,
                "#bd3786"
               ],
               [
                0.5555555555555556,
                "#d8576b"
               ],
               [
                0.6666666666666666,
                "#ed7953"
               ],
               [
                0.7777777777777778,
                "#fb9f3a"
               ],
               [
                0.8888888888888888,
                "#fdca26"
               ],
               [
                1,
                "#f0f921"
               ]
              ],
              "type": "histogram2dcontour"
             }
            ],
            "mesh3d": [
             {
              "colorbar": {
               "outlinewidth": 0,
               "ticks": ""
              },
              "type": "mesh3d"
             }
            ],
            "parcoords": [
             {
              "line": {
               "colorbar": {
                "outlinewidth": 0,
                "ticks": ""
               }
              },
              "type": "parcoords"
             }
            ],
            "pie": [
             {
              "automargin": true,
              "type": "pie"
             }
            ],
            "scatter": [
             {
              "fillpattern": {
               "fillmode": "overlay",
               "size": 10,
               "solidity": 0.2
              },
              "type": "scatter"
             }
            ],
            "scatter3d": [
             {
              "line": {
               "colorbar": {
                "outlinewidth": 0,
                "ticks": ""
               }
              },
              "marker": {
               "colorbar": {
                "outlinewidth": 0,
                "ticks": ""
               }
              },
              "type": "scatter3d"
             }
            ],
            "scattercarpet": [
             {
              "marker": {
               "colorbar": {
                "outlinewidth": 0,
                "ticks": ""
               }
              },
              "type": "scattercarpet"
             }
            ],
            "scattergeo": [
             {
              "marker": {
               "colorbar": {
                "outlinewidth": 0,
                "ticks": ""
               }
              },
              "type": "scattergeo"
             }
            ],
            "scattergl": [
             {
              "marker": {
               "colorbar": {
                "outlinewidth": 0,
                "ticks": ""
               }
              },
              "type": "scattergl"
             }
            ],
            "scattermapbox": [
             {
              "marker": {
               "colorbar": {
                "outlinewidth": 0,
                "ticks": ""
               }
              },
              "type": "scattermapbox"
             }
            ],
            "scatterpolar": [
             {
              "marker": {
               "colorbar": {
                "outlinewidth": 0,
                "ticks": ""
               }
              },
              "type": "scatterpolar"
             }
            ],
            "scatterpolargl": [
             {
              "marker": {
               "colorbar": {
                "outlinewidth": 0,
                "ticks": ""
               }
              },
              "type": "scatterpolargl"
             }
            ],
            "scatterternary": [
             {
              "marker": {
               "colorbar": {
                "outlinewidth": 0,
                "ticks": ""
               }
              },
              "type": "scatterternary"
             }
            ],
            "surface": [
             {
              "colorbar": {
               "outlinewidth": 0,
               "ticks": ""
              },
              "colorscale": [
               [
                0,
                "#0d0887"
               ],
               [
                0.1111111111111111,
                "#46039f"
               ],
               [
                0.2222222222222222,
                "#7201a8"
               ],
               [
                0.3333333333333333,
                "#9c179e"
               ],
               [
                0.4444444444444444,
                "#bd3786"
               ],
               [
                0.5555555555555556,
                "#d8576b"
               ],
               [
                0.6666666666666666,
                "#ed7953"
               ],
               [
                0.7777777777777778,
                "#fb9f3a"
               ],
               [
                0.8888888888888888,
                "#fdca26"
               ],
               [
                1,
                "#f0f921"
               ]
              ],
              "type": "surface"
             }
            ],
            "table": [
             {
              "cells": {
               "fill": {
                "color": "#EBF0F8"
               },
               "line": {
                "color": "white"
               }
              },
              "header": {
               "fill": {
                "color": "#C8D4E3"
               },
               "line": {
                "color": "white"
               }
              },
              "type": "table"
             }
            ]
           },
           "layout": {
            "annotationdefaults": {
             "arrowcolor": "#2a3f5f",
             "arrowhead": 0,
             "arrowwidth": 1
            },
            "autotypenumbers": "strict",
            "coloraxis": {
             "colorbar": {
              "outlinewidth": 0,
              "ticks": ""
             }
            },
            "colorscale": {
             "diverging": [
              [
               0,
               "#8e0152"
              ],
              [
               0.1,
               "#c51b7d"
              ],
              [
               0.2,
               "#de77ae"
              ],
              [
               0.3,
               "#f1b6da"
              ],
              [
               0.4,
               "#fde0ef"
              ],
              [
               0.5,
               "#f7f7f7"
              ],
              [
               0.6,
               "#e6f5d0"
              ],
              [
               0.7,
               "#b8e186"
              ],
              [
               0.8,
               "#7fbc41"
              ],
              [
               0.9,
               "#4d9221"
              ],
              [
               1,
               "#276419"
              ]
             ],
             "sequential": [
              [
               0,
               "#0d0887"
              ],
              [
               0.1111111111111111,
               "#46039f"
              ],
              [
               0.2222222222222222,
               "#7201a8"
              ],
              [
               0.3333333333333333,
               "#9c179e"
              ],
              [
               0.4444444444444444,
               "#bd3786"
              ],
              [
               0.5555555555555556,
               "#d8576b"
              ],
              [
               0.6666666666666666,
               "#ed7953"
              ],
              [
               0.7777777777777778,
               "#fb9f3a"
              ],
              [
               0.8888888888888888,
               "#fdca26"
              ],
              [
               1,
               "#f0f921"
              ]
             ],
             "sequentialminus": [
              [
               0,
               "#0d0887"
              ],
              [
               0.1111111111111111,
               "#46039f"
              ],
              [
               0.2222222222222222,
               "#7201a8"
              ],
              [
               0.3333333333333333,
               "#9c179e"
              ],
              [
               0.4444444444444444,
               "#bd3786"
              ],
              [
               0.5555555555555556,
               "#d8576b"
              ],
              [
               0.6666666666666666,
               "#ed7953"
              ],
              [
               0.7777777777777778,
               "#fb9f3a"
              ],
              [
               0.8888888888888888,
               "#fdca26"
              ],
              [
               1,
               "#f0f921"
              ]
             ]
            },
            "colorway": [
             "#636efa",
             "#EF553B",
             "#00cc96",
             "#ab63fa",
             "#FFA15A",
             "#19d3f3",
             "#FF6692",
             "#B6E880",
             "#FF97FF",
             "#FECB52"
            ],
            "font": {
             "color": "#2a3f5f"
            },
            "geo": {
             "bgcolor": "white",
             "lakecolor": "white",
             "landcolor": "white",
             "showlakes": true,
             "showland": true,
             "subunitcolor": "#C8D4E3"
            },
            "hoverlabel": {
             "align": "left"
            },
            "hovermode": "closest",
            "mapbox": {
             "style": "light"
            },
            "paper_bgcolor": "white",
            "plot_bgcolor": "white",
            "polar": {
             "angularaxis": {
              "gridcolor": "#EBF0F8",
              "linecolor": "#EBF0F8",
              "ticks": ""
             },
             "bgcolor": "white",
             "radialaxis": {
              "gridcolor": "#EBF0F8",
              "linecolor": "#EBF0F8",
              "ticks": ""
             }
            },
            "scene": {
             "xaxis": {
              "backgroundcolor": "white",
              "gridcolor": "#DFE8F3",
              "gridwidth": 2,
              "linecolor": "#EBF0F8",
              "showbackground": true,
              "ticks": "",
              "zerolinecolor": "#EBF0F8"
             },
             "yaxis": {
              "backgroundcolor": "white",
              "gridcolor": "#DFE8F3",
              "gridwidth": 2,
              "linecolor": "#EBF0F8",
              "showbackground": true,
              "ticks": "",
              "zerolinecolor": "#EBF0F8"
             },
             "zaxis": {
              "backgroundcolor": "white",
              "gridcolor": "#DFE8F3",
              "gridwidth": 2,
              "linecolor": "#EBF0F8",
              "showbackground": true,
              "ticks": "",
              "zerolinecolor": "#EBF0F8"
             }
            },
            "shapedefaults": {
             "line": {
              "color": "#2a3f5f"
             }
            },
            "ternary": {
             "aaxis": {
              "gridcolor": "#DFE8F3",
              "linecolor": "#A2B1C6",
              "ticks": ""
             },
             "baxis": {
              "gridcolor": "#DFE8F3",
              "linecolor": "#A2B1C6",
              "ticks": ""
             },
             "bgcolor": "white",
             "caxis": {
              "gridcolor": "#DFE8F3",
              "linecolor": "#A2B1C6",
              "ticks": ""
             }
            },
            "title": {
             "x": 0.05
            },
            "xaxis": {
             "automargin": true,
             "gridcolor": "#EBF0F8",
             "linecolor": "#EBF0F8",
             "ticks": "",
             "title": {
              "standoff": 15
             },
             "zerolinecolor": "#EBF0F8",
             "zerolinewidth": 2
            },
            "yaxis": {
             "automargin": true,
             "gridcolor": "#EBF0F8",
             "linecolor": "#EBF0F8",
             "ticks": "",
             "title": {
              "standoff": 15
             },
             "zerolinecolor": "#EBF0F8",
             "zerolinewidth": 2
            }
           }
          },
          "xaxis": {
           "automargin": false,
           "linecolor": "#444",
           "linewidth": 2,
           "minor": {
            "tickmode": "linear",
            "ticks": "outside"
           },
           "mirror": true,
           "showline": true,
           "tickmode": "linear",
           "ticks": "outside",
           "zeroline": false
          },
          "yaxis": {
           "automargin": true,
           "linecolor": "#444",
           "linewidth": 2,
           "minor": {
            "tickmode": "linear",
            "ticks": "outside"
           },
           "mirror": true,
           "showline": true,
           "ticks": "outside",
           "zeroline": false
          }
         }
        },
        "width": 600,
        "xaxis": {
         "dtick": 0.2,
         "minor": {
          "dtick": 0.05,
          "tick0": 0
         },
         "range": [
          0,
          1
         ],
         "tick0": 0,
         "title": {
          "text": "chance to hit"
         }
        },
        "yaxis": {
         "dtick": 5,
         "minor": {
          "dtick": 1,
          "tick0": 0
         },
         "range": [
          0,
          20
         ],
         "tick0": 0,
         "title": {
          "text": "attacks"
         }
        }
       }
      }
     },
     "metadata": {},
     "output_type": "display_data"
    }
   ],
   "source": [
    "# Fig. 6: plots the number of turns it takes for an attack to be sufficiently Gaussian\n",
    "\n",
    "# create figure\n",
    "fig = go.Figure(\n",
    "    layout=go.Layout(\n",
    "        template=tfb.FIG_TEMPLATE,\n",
    "        xaxis=dict(\n",
    "            title_text='chance to hit',\n",
    "            range=[0,1],\n",
    "            tick0=0, dtick=0.2,\n",
    "            minor=dict(tick0=0, dtick=0.05),\n",
    "        ),\n",
    "        yaxis=dict(\n",
    "            title_text='attacks',\n",
    "            #type='log',\n",
    "            range=[0,20],\n",
    "            tick0=0, dtick=5,\n",
    "            minor=dict(tick0=0, dtick=1),\n",
    "            #tickformat='.0f'\n",
    "        ),\n",
    "        legend=dict(\n",
    "            xanchor='right', yanchor='top',\n",
    "            x=1.00, y=1.00,\n",
    "            orientation='v',\n",
    "            tracegroupgap=0,\n",
    "        )\n",
    "    )\n",
    ")\n",
    "\n",
    "r2 = 0.95\n",
    "m = 1\n",
    "#roll = 12\n",
    "#for method in ['save','attack']:\n",
    "method = 'attack'\n",
    "die_sizes = [4, 6, 8, 10, 12]\n",
    "for roll in die_sizes:\n",
    "    pc = cp.baseline_pc(16)\n",
    "    x = []\n",
    "    y = []\n",
    "    for ab in list(range(0, 16)):\n",
    "        if method == 'attack':\n",
    "            dpr = cp.attack(ab, m @ d(roll), (2*m) @ d(roll))\n",
    "            dmg = dpr.damage(pc['armor class'])\n",
    "            rnd = cp.rounds_to_gaussian(dmg, rsquared=r2, method='range')\n",
    "            p_miss = dmg.probability(0)\n",
    "            p_hit = 1 - p_miss\n",
    "        else:\n",
    "            dc = ab + 8 + 2\n",
    "            dpr = cp.save(dc, m @ d(roll), 0.5)\n",
    "            dmg = dpr.damage(pc['save bonus'], 1)\n",
    "            rnd = cp.rounds_to_gaussian(dmg, rsquared=r2, method='range')\n",
    "            p_hit = 0.05*(dc - pc['save bonus'] - 1)\n",
    "\n",
    "        x.append(p_hit)\n",
    "        y.append(rnd)\n",
    "        #print(f'{p_hit:.2f}, {rnd:.0f}')\n",
    "\n",
    "    coefs = np.polyfit(x, np.log10(y), 1)\n",
    "    poly = np.poly1d(coefs)\n",
    "    #print(f'{coefs[1]:.2f} + {coefs[0]:.2f}*phit')\n",
    "\n",
    "    fig.add_trace(go.Scatter(\n",
    "        x=x, \n",
    "        y=y,\n",
    "        name=f'd{roll:.0f}',\n",
    "        hovertemplate=\n",
    "            f'<b>d{roll:.0f}</b><br>'+\n",
    "            'hit %{x:.0%}<br>'+\n",
    "            'attacks %{y:.0f}<extra></extra>',\n",
    "    ))\n",
    "\n",
    "# show figure\n",
    "fig.update_layout(width=600, height=450)\n",
    "fig.show(config=tfb.FIG_CONFIG)\n",
    "\n",
    "# save figures\n",
    "if SAVEFIGS:\n",
    "    fig.update_layout(autosize=True, width=None, height=None)\n",
    "    tfb.save_fig_html(fig, format='large', name=f'./fig-attacks-for-gaussian-large')\n",
    "    tfb.save_fig_html(fig, format='small', name=f'./fig-attacks-for-gaussian-small')"
   ]
  },
  {
   "cell_type": "code",
   "execution_count": 17,
   "metadata": {},
   "outputs": [
    {
     "name": "stdout",
     "output_type": "stream",
     "text": [
      "exact 3.331591977974537\n",
      "approx 3.3908433397702415\n"
     ]
    },
    {
     "data": {
      "application/vnd.plotly.v1+json": {
       "config": {
        "autosizable": true,
        "displayModeBar": "hover",
        "displaylogo": false,
        "doubleClick": "reset",
        "modeBarButtonsToRemove": [
         "select2d",
         "lasso2d",
         "zoom2d",
         "zoomIn2d",
         "zoomOut2d",
         "pan2d",
         "autoScale2d",
         "hoverClosestCartesian",
         "hoverCompareCartesian",
         "toggleSpikelines",
         "resetScale2d"
        ],
        "plotlyServerURL": "https://plot.ly",
        "responsive": true,
        "showAxisDragHandles": false,
        "toImageButtonOptions": {
         "filename": "tfb-plot",
         "format": "png",
         "height": 450,
         "scale": 2,
         "width": 600
        }
       },
       "data": [
        {
         "customdata": [
          0,
          1,
          3,
          5,
          7,
          9,
          11,
          13,
          15
         ],
         "fill": "tozeroy",
         "hoveron": "points",
         "hovertemplate": "<b>exact - PDF</b><br>round %{x:.0f} (turn %{customdata:.0f})<br>probability %{y:.1%}<extra></extra>",
         "legendgroup": "exact",
         "legendgrouptitle": {
          "text": "exact"
         },
         "line": {
          "color": "#1f77b4",
          "shape": "hvh"
         },
         "mode": "lines",
         "name": "PDF",
         "type": "scatter",
         "x": [
          0,
          1,
          2,
          3,
          4,
          5,
          6,
          7,
          8
         ],
         "y": [
          0,
          0.004166666666666667,
          0.306244212962963,
          0.31083391203703703,
          0.19717708333333328,
          0.1018028125,
          0.04677723437500003,
          0.019936532812499963,
          0.00806170218750002
         ]
        },
        {
         "customdata": [
          0,
          1,
          3,
          5,
          7,
          9,
          11,
          13,
          15
         ],
         "hovertemplate": "<b>exact - CDF</b><br>round %{x:.0f} (turn %{customdata:.0f})<br>probability %{y:.1%}<extra></extra>",
         "legendgroup": "exact",
         "legendgrouptitle": {
          "text": "exact"
         },
         "line": {
          "color": "#1f77b4"
         },
         "name": "CDF",
         "type": "scatter",
         "x": [
          0,
          1,
          2,
          3,
          4,
          5,
          6,
          7,
          8
         ],
         "y": [
          0,
          0.004166666666666667,
          0.31041087962962965,
          0.6212447916666667,
          0.818421875,
          0.9202246875,
          0.967001921875,
          0.9869384546875,
          0.995000156875
         ]
        },
        {
         "customdata": [
          0,
          1,
          3,
          5,
          7,
          9,
          11,
          13,
          15
         ],
         "fill": "tozeroy",
         "hoveron": "points",
         "hovertemplate": "<b>Gaussian - PDF</b><br>round %{x:.0f} (turn %{customdata:.0f})<br>probability %{y:.1%}<extra></extra>",
         "legendgroup": "Gaussian",
         "legendgrouptitle": {
          "text": "Gaussian"
         },
         "line": {
          "color": "#ff7f0e",
          "shape": "hvh"
         },
         "mode": "lines",
         "name": "PDF",
         "type": "scatter",
         "x": [
          0,
          1,
          2,
          3,
          4,
          5,
          6,
          7,
          8
         ],
         "y": [
          0,
          0.010311202179290824,
          0.24484887181259407,
          0.34794883574766855,
          0.21765453963478598,
          0.10432901664813421,
          0.0448286005652635,
          0.018268141673787097,
          0.007234506229356397
         ]
        },
        {
         "customdata": [
          0,
          1,
          3,
          5,
          7,
          9,
          11,
          13,
          15
         ],
         "hovertemplate": "<b>Gaussian - CDF</b><br>round %{x:.0f} (turn %{customdata:.0f})<br>probability %{y:.1%}<extra></extra>",
         "legendgroup": "Gaussian",
         "legendgrouptitle": {
          "text": "Gaussian"
         },
         "line": {
          "color": "#ff7f0e"
         },
         "name": "CDF",
         "type": "scatter",
         "x": [
          0,
          1,
          2,
          3,
          4,
          5,
          6,
          7,
          8
         ],
         "y": [
          0,
          0.010311202179290824,
          0.2551600739918849,
          0.6031089097395534,
          0.8207634493743394,
          0.9250924660224736,
          0.9699210665877371,
          0.9881892082615242,
          0.9954237144908806
         ]
        }
       ],
       "layout": {
        "height": 450,
        "legend": {
         "orientation": "v",
         "tracegroupgap": 0,
         "x": 0,
         "xanchor": "left",
         "y": 1,
         "yanchor": "top"
        },
        "template": {
         "layout": {
          "autosize": false,
          "font": {
           "family": "sans-serif",
           "size": 14
          },
          "hoverlabel": {
           "align": "left"
          },
          "hovermode": "closest",
          "margin": {
           "b": 55,
           "l": 60,
           "pad": 4,
           "r": 25,
           "t": 20
          },
          "template": {
           "data": {
            "bar": [
             {
              "error_x": {
               "color": "#2a3f5f"
              },
              "error_y": {
               "color": "#2a3f5f"
              },
              "marker": {
               "line": {
                "color": "white",
                "width": 0.5
               },
               "pattern": {
                "fillmode": "overlay",
                "size": 10,
                "solidity": 0.2
               }
              },
              "type": "bar"
             }
            ],
            "barpolar": [
             {
              "marker": {
               "line": {
                "color": "white",
                "width": 0.5
               },
               "pattern": {
                "fillmode": "overlay",
                "size": 10,
                "solidity": 0.2
               }
              },
              "type": "barpolar"
             }
            ],
            "carpet": [
             {
              "aaxis": {
               "endlinecolor": "#2a3f5f",
               "gridcolor": "#C8D4E3",
               "linecolor": "#C8D4E3",
               "minorgridcolor": "#C8D4E3",
               "startlinecolor": "#2a3f5f"
              },
              "baxis": {
               "endlinecolor": "#2a3f5f",
               "gridcolor": "#C8D4E3",
               "linecolor": "#C8D4E3",
               "minorgridcolor": "#C8D4E3",
               "startlinecolor": "#2a3f5f"
              },
              "type": "carpet"
             }
            ],
            "choropleth": [
             {
              "colorbar": {
               "outlinewidth": 0,
               "ticks": ""
              },
              "type": "choropleth"
             }
            ],
            "contour": [
             {
              "colorbar": {
               "outlinewidth": 0,
               "ticks": ""
              },
              "colorscale": [
               [
                0,
                "#0d0887"
               ],
               [
                0.1111111111111111,
                "#46039f"
               ],
               [
                0.2222222222222222,
                "#7201a8"
               ],
               [
                0.3333333333333333,
                "#9c179e"
               ],
               [
                0.4444444444444444,
                "#bd3786"
               ],
               [
                0.5555555555555556,
                "#d8576b"
               ],
               [
                0.6666666666666666,
                "#ed7953"
               ],
               [
                0.7777777777777778,
                "#fb9f3a"
               ],
               [
                0.8888888888888888,
                "#fdca26"
               ],
               [
                1,
                "#f0f921"
               ]
              ],
              "type": "contour"
             }
            ],
            "contourcarpet": [
             {
              "colorbar": {
               "outlinewidth": 0,
               "ticks": ""
              },
              "type": "contourcarpet"
             }
            ],
            "heatmap": [
             {
              "colorbar": {
               "outlinewidth": 0,
               "ticks": ""
              },
              "colorscale": [
               [
                0,
                "#0d0887"
               ],
               [
                0.1111111111111111,
                "#46039f"
               ],
               [
                0.2222222222222222,
                "#7201a8"
               ],
               [
                0.3333333333333333,
                "#9c179e"
               ],
               [
                0.4444444444444444,
                "#bd3786"
               ],
               [
                0.5555555555555556,
                "#d8576b"
               ],
               [
                0.6666666666666666,
                "#ed7953"
               ],
               [
                0.7777777777777778,
                "#fb9f3a"
               ],
               [
                0.8888888888888888,
                "#fdca26"
               ],
               [
                1,
                "#f0f921"
               ]
              ],
              "type": "heatmap"
             }
            ],
            "heatmapgl": [
             {
              "colorbar": {
               "outlinewidth": 0,
               "ticks": ""
              },
              "colorscale": [
               [
                0,
                "#0d0887"
               ],
               [
                0.1111111111111111,
                "#46039f"
               ],
               [
                0.2222222222222222,
                "#7201a8"
               ],
               [
                0.3333333333333333,
                "#9c179e"
               ],
               [
                0.4444444444444444,
                "#bd3786"
               ],
               [
                0.5555555555555556,
                "#d8576b"
               ],
               [
                0.6666666666666666,
                "#ed7953"
               ],
               [
                0.7777777777777778,
                "#fb9f3a"
               ],
               [
                0.8888888888888888,
                "#fdca26"
               ],
               [
                1,
                "#f0f921"
               ]
              ],
              "type": "heatmapgl"
             }
            ],
            "histogram": [
             {
              "marker": {
               "pattern": {
                "fillmode": "overlay",
                "size": 10,
                "solidity": 0.2
               }
              },
              "type": "histogram"
             }
            ],
            "histogram2d": [
             {
              "colorbar": {
               "outlinewidth": 0,
               "ticks": ""
              },
              "colorscale": [
               [
                0,
                "#0d0887"
               ],
               [
                0.1111111111111111,
                "#46039f"
               ],
               [
                0.2222222222222222,
                "#7201a8"
               ],
               [
                0.3333333333333333,
                "#9c179e"
               ],
               [
                0.4444444444444444,
                "#bd3786"
               ],
               [
                0.5555555555555556,
                "#d8576b"
               ],
               [
                0.6666666666666666,
                "#ed7953"
               ],
               [
                0.7777777777777778,
                "#fb9f3a"
               ],
               [
                0.8888888888888888,
                "#fdca26"
               ],
               [
                1,
                "#f0f921"
               ]
              ],
              "type": "histogram2d"
             }
            ],
            "histogram2dcontour": [
             {
              "colorbar": {
               "outlinewidth": 0,
               "ticks": ""
              },
              "colorscale": [
               [
                0,
                "#0d0887"
               ],
               [
                0.1111111111111111,
                "#46039f"
               ],
               [
                0.2222222222222222,
                "#7201a8"
               ],
               [
                0.3333333333333333,
                "#9c179e"
               ],
               [
                0.4444444444444444,
                "#bd3786"
               ],
               [
                0.5555555555555556,
                "#d8576b"
               ],
               [
                0.6666666666666666,
                "#ed7953"
               ],
               [
                0.7777777777777778,
                "#fb9f3a"
               ],
               [
                0.8888888888888888,
                "#fdca26"
               ],
               [
                1,
                "#f0f921"
               ]
              ],
              "type": "histogram2dcontour"
             }
            ],
            "mesh3d": [
             {
              "colorbar": {
               "outlinewidth": 0,
               "ticks": ""
              },
              "type": "mesh3d"
             }
            ],
            "parcoords": [
             {
              "line": {
               "colorbar": {
                "outlinewidth": 0,
                "ticks": ""
               }
              },
              "type": "parcoords"
             }
            ],
            "pie": [
             {
              "automargin": true,
              "type": "pie"
             }
            ],
            "scatter": [
             {
              "fillpattern": {
               "fillmode": "overlay",
               "size": 10,
               "solidity": 0.2
              },
              "type": "scatter"
             }
            ],
            "scatter3d": [
             {
              "line": {
               "colorbar": {
                "outlinewidth": 0,
                "ticks": ""
               }
              },
              "marker": {
               "colorbar": {
                "outlinewidth": 0,
                "ticks": ""
               }
              },
              "type": "scatter3d"
             }
            ],
            "scattercarpet": [
             {
              "marker": {
               "colorbar": {
                "outlinewidth": 0,
                "ticks": ""
               }
              },
              "type": "scattercarpet"
             }
            ],
            "scattergeo": [
             {
              "marker": {
               "colorbar": {
                "outlinewidth": 0,
                "ticks": ""
               }
              },
              "type": "scattergeo"
             }
            ],
            "scattergl": [
             {
              "marker": {
               "colorbar": {
                "outlinewidth": 0,
                "ticks": ""
               }
              },
              "type": "scattergl"
             }
            ],
            "scattermapbox": [
             {
              "marker": {
               "colorbar": {
                "outlinewidth": 0,
                "ticks": ""
               }
              },
              "type": "scattermapbox"
             }
            ],
            "scatterpolar": [
             {
              "marker": {
               "colorbar": {
                "outlinewidth": 0,
                "ticks": ""
               }
              },
              "type": "scatterpolar"
             }
            ],
            "scatterpolargl": [
             {
              "marker": {
               "colorbar": {
                "outlinewidth": 0,
                "ticks": ""
               }
              },
              "type": "scatterpolargl"
             }
            ],
            "scatterternary": [
             {
              "marker": {
               "colorbar": {
                "outlinewidth": 0,
                "ticks": ""
               }
              },
              "type": "scatterternary"
             }
            ],
            "surface": [
             {
              "colorbar": {
               "outlinewidth": 0,
               "ticks": ""
              },
              "colorscale": [
               [
                0,
                "#0d0887"
               ],
               [
                0.1111111111111111,
                "#46039f"
               ],
               [
                0.2222222222222222,
                "#7201a8"
               ],
               [
                0.3333333333333333,
                "#9c179e"
               ],
               [
                0.4444444444444444,
                "#bd3786"
               ],
               [
                0.5555555555555556,
                "#d8576b"
               ],
               [
                0.6666666666666666,
                "#ed7953"
               ],
               [
                0.7777777777777778,
                "#fb9f3a"
               ],
               [
                0.8888888888888888,
                "#fdca26"
               ],
               [
                1,
                "#f0f921"
               ]
              ],
              "type": "surface"
             }
            ],
            "table": [
             {
              "cells": {
               "fill": {
                "color": "#EBF0F8"
               },
               "line": {
                "color": "white"
               }
              },
              "header": {
               "fill": {
                "color": "#C8D4E3"
               },
               "line": {
                "color": "white"
               }
              },
              "type": "table"
             }
            ]
           },
           "layout": {
            "annotationdefaults": {
             "arrowcolor": "#2a3f5f",
             "arrowhead": 0,
             "arrowwidth": 1
            },
            "autotypenumbers": "strict",
            "coloraxis": {
             "colorbar": {
              "outlinewidth": 0,
              "ticks": ""
             }
            },
            "colorscale": {
             "diverging": [
              [
               0,
               "#8e0152"
              ],
              [
               0.1,
               "#c51b7d"
              ],
              [
               0.2,
               "#de77ae"
              ],
              [
               0.3,
               "#f1b6da"
              ],
              [
               0.4,
               "#fde0ef"
              ],
              [
               0.5,
               "#f7f7f7"
              ],
              [
               0.6,
               "#e6f5d0"
              ],
              [
               0.7,
               "#b8e186"
              ],
              [
               0.8,
               "#7fbc41"
              ],
              [
               0.9,
               "#4d9221"
              ],
              [
               1,
               "#276419"
              ]
             ],
             "sequential": [
              [
               0,
               "#0d0887"
              ],
              [
               0.1111111111111111,
               "#46039f"
              ],
              [
               0.2222222222222222,
               "#7201a8"
              ],
              [
               0.3333333333333333,
               "#9c179e"
              ],
              [
               0.4444444444444444,
               "#bd3786"
              ],
              [
               0.5555555555555556,
               "#d8576b"
              ],
              [
               0.6666666666666666,
               "#ed7953"
              ],
              [
               0.7777777777777778,
               "#fb9f3a"
              ],
              [
               0.8888888888888888,
               "#fdca26"
              ],
              [
               1,
               "#f0f921"
              ]
             ],
             "sequentialminus": [
              [
               0,
               "#0d0887"
              ],
              [
               0.1111111111111111,
               "#46039f"
              ],
              [
               0.2222222222222222,
               "#7201a8"
              ],
              [
               0.3333333333333333,
               "#9c179e"
              ],
              [
               0.4444444444444444,
               "#bd3786"
              ],
              [
               0.5555555555555556,
               "#d8576b"
              ],
              [
               0.6666666666666666,
               "#ed7953"
              ],
              [
               0.7777777777777778,
               "#fb9f3a"
              ],
              [
               0.8888888888888888,
               "#fdca26"
              ],
              [
               1,
               "#f0f921"
              ]
             ]
            },
            "colorway": [
             "#636efa",
             "#EF553B",
             "#00cc96",
             "#ab63fa",
             "#FFA15A",
             "#19d3f3",
             "#FF6692",
             "#B6E880",
             "#FF97FF",
             "#FECB52"
            ],
            "font": {
             "color": "#2a3f5f"
            },
            "geo": {
             "bgcolor": "white",
             "lakecolor": "white",
             "landcolor": "white",
             "showlakes": true,
             "showland": true,
             "subunitcolor": "#C8D4E3"
            },
            "hoverlabel": {
             "align": "left"
            },
            "hovermode": "closest",
            "mapbox": {
             "style": "light"
            },
            "paper_bgcolor": "white",
            "plot_bgcolor": "white",
            "polar": {
             "angularaxis": {
              "gridcolor": "#EBF0F8",
              "linecolor": "#EBF0F8",
              "ticks": ""
             },
             "bgcolor": "white",
             "radialaxis": {
              "gridcolor": "#EBF0F8",
              "linecolor": "#EBF0F8",
              "ticks": ""
             }
            },
            "scene": {
             "xaxis": {
              "backgroundcolor": "white",
              "gridcolor": "#DFE8F3",
              "gridwidth": 2,
              "linecolor": "#EBF0F8",
              "showbackground": true,
              "ticks": "",
              "zerolinecolor": "#EBF0F8"
             },
             "yaxis": {
              "backgroundcolor": "white",
              "gridcolor": "#DFE8F3",
              "gridwidth": 2,
              "linecolor": "#EBF0F8",
              "showbackground": true,
              "ticks": "",
              "zerolinecolor": "#EBF0F8"
             },
             "zaxis": {
              "backgroundcolor": "white",
              "gridcolor": "#DFE8F3",
              "gridwidth": 2,
              "linecolor": "#EBF0F8",
              "showbackground": true,
              "ticks": "",
              "zerolinecolor": "#EBF0F8"
             }
            },
            "shapedefaults": {
             "line": {
              "color": "#2a3f5f"
             }
            },
            "ternary": {
             "aaxis": {
              "gridcolor": "#DFE8F3",
              "linecolor": "#A2B1C6",
              "ticks": ""
             },
             "baxis": {
              "gridcolor": "#DFE8F3",
              "linecolor": "#A2B1C6",
              "ticks": ""
             },
             "bgcolor": "white",
             "caxis": {
              "gridcolor": "#DFE8F3",
              "linecolor": "#A2B1C6",
              "ticks": ""
             }
            },
            "title": {
             "x": 0.05
            },
            "xaxis": {
             "automargin": true,
             "gridcolor": "#EBF0F8",
             "linecolor": "#EBF0F8",
             "ticks": "",
             "title": {
              "standoff": 15
             },
             "zerolinecolor": "#EBF0F8",
             "zerolinewidth": 2
            },
            "yaxis": {
             "automargin": true,
             "gridcolor": "#EBF0F8",
             "linecolor": "#EBF0F8",
             "ticks": "",
             "title": {
              "standoff": 15
             },
             "zerolinecolor": "#EBF0F8",
             "zerolinewidth": 2
            }
           }
          },
          "xaxis": {
           "automargin": false,
           "linecolor": "#444",
           "linewidth": 2,
           "minor": {
            "tickmode": "linear",
            "ticks": "outside"
           },
           "mirror": true,
           "showline": true,
           "tickmode": "linear",
           "ticks": "outside",
           "zeroline": false
          },
          "yaxis": {
           "automargin": true,
           "linecolor": "#444",
           "linewidth": 2,
           "minor": {
            "tickmode": "linear",
            "ticks": "outside"
           },
           "mirror": true,
           "showline": true,
           "ticks": "outside",
           "zeroline": false
          }
         }
        },
        "width": 600,
        "xaxis": {
         "dtick": 1,
         "range": [
          -0.5,
          7.5
         ],
         "tick0": 0,
         "title": {
          "text": "rounds"
         }
        },
        "yaxis": {
         "tickformat": ".0%",
         "title": {
          "text": "probability"
         }
        }
       }
      }
     },
     "metadata": {},
     "output_type": "display_data"
    }
   ],
   "source": [
    "# Fig. 7: plots the damage distribution for an example combat encounter after two rounds of combat\n",
    "\n",
    "# create figure\n",
    "fig = go.Figure(\n",
    "    layout=go.Layout(\n",
    "        template=tfb.FIG_TEMPLATE,\n",
    "        xaxis=dict(\n",
    "            title_text='rounds',\n",
    "            range=[-0.5, 7.5],\n",
    "            tick0=0, dtick=1,\n",
    "            #minor=dict(tick0=0, dtick=5.0),\n",
    "        ),\n",
    "        yaxis=dict(\n",
    "            title_text='probability',\n",
    "            #range=[0,0.1],\n",
    "            tickformat='.0%'\n",
    "        ),\n",
    "        legend=dict(\n",
    "            xanchor='left', yanchor='top',\n",
    "            x=0.00, y=1.00,\n",
    "            orientation='v',\n",
    "            tracegroupgap=0,\n",
    "        )\n",
    "    )\n",
    ")\n",
    "\n",
    "dpr1 = 1 @ cp.attack(5, 1 @ d(6) + 4, 2 @ d(6) + 4).damage(12)\n",
    "hp1 = 30\n",
    "\n",
    "dpr2 = 1 @ cp.attack(5, 1 @ d(8) + 5, 2 @ d(8) + 5).damage(12)\n",
    "hp2 = 15\n",
    "\n",
    "# original\n",
    "combatants = [\n",
    "    cp.Combatant(\n",
    "        group='combatant 1',\n",
    "        name='combatant 1',\n",
    "        opponent='combatant 2',\n",
    "        level=5,\n",
    "        hit_points = hp1,\n",
    "        damage = [dpr1],\n",
    "    ),\n",
    "    cp.Combatant(\n",
    "        group='combatant 2',\n",
    "        name='combatant 2',\n",
    "        opponent='combatant 1',\n",
    "        level=5,\n",
    "        hit_points = hp2,\n",
    "        damage = [dpr2],\n",
    "    )\n",
    "]\n",
    "e = cp.Encounter(combatants, rounds=8)\n",
    "\n",
    "colors = iter(COLOR_LIST)\n",
    "for method, lgroup in [('exact','exact'),('approx','Gaussian')]:\n",
    "    for group in ['combatant 1']:\n",
    "        color = next(colors)\n",
    "        \n",
    "        t = [0] + [t['turn'] for t in e.turns if t['group'] == group]\n",
    "        x = [0] + [t['round'] for t in e.turns if t['group'] == group]\n",
    "        y = e.group_damage_pdf(group, method=method)\n",
    "        y = [0] + [y[i] for i in range(len(e.turns)) if e.turns[i]['group'] == group]\n",
    "        fig.add_trace(go.Scatter(\n",
    "            x=x, \n",
    "            y=y,\n",
    "            name=f'PDF',\n",
    "            legendgroup=lgroup,\n",
    "            legendgrouptitle_text=lgroup,\n",
    "            mode='lines',\n",
    "            line_shape='hvh',\n",
    "            line_color=color,\n",
    "            fill='tozeroy',\n",
    "            customdata=t,\n",
    "            hoveron='points',\n",
    "            hovertemplate=\n",
    "                f'<b>{lgroup} - PDF</b><br>'+\n",
    "                'round %{x:.0f} (turn %{customdata:.0f})<br>'+\n",
    "                'probability %{y:.1%}<extra></extra>',\n",
    "        ))\n",
    "        print(method, sum(np.array(x)*np.array(y)))\n",
    "\n",
    "        t = [0] + [t['turn'] for t in e.turns if t['group'] == group]\n",
    "        x = [0] + [t['round'] for t in e.turns if t['group'] == group]\n",
    "        y = e.group_damage_cdf(group, method=method)\n",
    "        y = [0] + [y[i] for i in range(len(e.turns)) if e.turns[i]['group'] == group]\n",
    "        fig.add_trace(go.Scatter(\n",
    "            x=x, \n",
    "            y=y,\n",
    "            name=f'CDF',\n",
    "            legendgroup=lgroup,\n",
    "            legendgrouptitle_text=lgroup,\n",
    "            line_color=color,\n",
    "            customdata=t,\n",
    "            hovertemplate=\n",
    "                f'<b>{lgroup} - CDF</b><br>'+\n",
    "                'round %{x:.0f} (turn %{customdata:.0f})<br>'+\n",
    "                'probability %{y:.1%}<extra></extra>',\n",
    "        ))\n",
    "\n",
    "# show figure\n",
    "fig.update_layout(width=600, height=450)\n",
    "fig.show(config=tfb.FIG_CONFIG)\n",
    "\n",
    "# save figures\n",
    "if SAVEFIGS:\n",
    "    fig.update_layout(autosize=True, width=None, height=None)\n",
    "    tfb.save_fig_html(fig, format='large', name=f'./fig-example-gaussian-dt-distribution-large')\n",
    "    tfb.save_fig_html(fig, format='small', name=f'./fig-example-gaussian-dt-distribution-small')"
   ]
  }
 ],
 "metadata": {
  "kernelspec": {
   "display_name": "thefinishedbook",
   "language": "python",
   "name": "python3"
  },
  "language_info": {
   "codemirror_mode": {
    "name": "ipython",
    "version": 3
   },
   "file_extension": ".py",
   "mimetype": "text/x-python",
   "name": "python",
   "nbconvert_exporter": "python",
   "pygments_lexer": "ipython3",
   "version": "3.10.5"
  }
 },
 "nbformat": 4,
 "nbformat_minor": 2
}
