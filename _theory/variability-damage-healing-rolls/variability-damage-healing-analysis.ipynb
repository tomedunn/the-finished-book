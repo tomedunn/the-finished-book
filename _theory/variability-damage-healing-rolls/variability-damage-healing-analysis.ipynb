{
 "cells": [
  {
   "cell_type": "code",
   "execution_count": 49,
   "metadata": {},
   "outputs": [],
   "source": [
    "import numpy as np\n",
    "import plotly.graph_objects as go\n",
    "import sys\n",
    "sys.path.append('../../assets/python/')\n",
    "import tfb\n",
    "from dice_roller import *\n",
    "\n",
    "METADATA = {'Contributor': 'T. Dunn'}\n",
    "SAVEFIGS = False"
   ]
  },
  {
   "cell_type": "code",
   "execution_count": 50,
   "metadata": {},
   "outputs": [
    {
     "data": {
      "application/vnd.plotly.v1+json": {
       "config": {
        "autosizable": true,
        "displayModeBar": "hover",
        "displaylogo": false,
        "modeBarButtonsToRemove": [
         "select2d",
         "lasso2d",
         "zoom2d",
         "zoomIn2d",
         "zoomOut2d",
         "pan2d",
         "autoScale2d",
         "hoverClosestCartesian",
         "hoverCompareCartesian",
         "toggleSpikelines",
         "resetScale2d"
        ],
        "plotlyServerURL": "https://plot.ly",
        "responsive": true,
        "showAxisDragHandles": false,
        "toImageButtonOptions": {
         "filename": "tfb-plot",
         "format": "png",
         "height": 450,
         "scale": 2,
         "width": 600
        }
       },
       "data": [
        {
         "fill": "tozeroy",
         "hovertemplate": "<b>d4</b><br>roll %{x:.0f}<br>probability %{y:,.1%}<extra></extra>",
         "line": {
          "shape": "hvh"
         },
         "mode": "lines",
         "name": "d4",
         "type": "scatter",
         "x": [
          0,
          1,
          2,
          3,
          4,
          5,
          6,
          7,
          8,
          9,
          10,
          11,
          12,
          13,
          14,
          15,
          16,
          17,
          18,
          19,
          20,
          21
         ],
         "y": [
          0,
          0.25,
          0.25,
          0.25,
          0.25,
          0,
          0,
          0,
          0,
          0,
          0,
          0,
          0,
          0,
          0,
          0,
          0,
          0,
          0,
          0,
          0,
          0
         ]
        },
        {
         "fill": "tozeroy",
         "hovertemplate": "<b>d6</b><br>roll %{x:.0f}<br>probability %{y:,.1%}<extra></extra>",
         "line": {
          "shape": "hvh"
         },
         "mode": "lines",
         "name": "d6",
         "type": "scatter",
         "x": [
          0,
          1,
          2,
          3,
          4,
          5,
          6,
          7,
          8,
          9,
          10,
          11,
          12,
          13,
          14,
          15,
          16,
          17,
          18,
          19,
          20,
          21
         ],
         "y": [
          0,
          0.16666666666666666,
          0.16666666666666666,
          0.16666666666666666,
          0.16666666666666666,
          0.16666666666666666,
          0.16666666666666666,
          0,
          0,
          0,
          0,
          0,
          0,
          0,
          0,
          0,
          0,
          0,
          0,
          0,
          0,
          0
         ]
        },
        {
         "fill": "tozeroy",
         "hovertemplate": "<b>d8</b><br>roll %{x:.0f}<br>probability %{y:,.1%}<extra></extra>",
         "line": {
          "shape": "hvh"
         },
         "mode": "lines",
         "name": "d8",
         "type": "scatter",
         "x": [
          0,
          1,
          2,
          3,
          4,
          5,
          6,
          7,
          8,
          9,
          10,
          11,
          12,
          13,
          14,
          15,
          16,
          17,
          18,
          19,
          20,
          21
         ],
         "y": [
          0,
          0.125,
          0.125,
          0.125,
          0.125,
          0.125,
          0.125,
          0.125,
          0.125,
          0,
          0,
          0,
          0,
          0,
          0,
          0,
          0,
          0,
          0,
          0,
          0,
          0
         ]
        },
        {
         "fill": "tozeroy",
         "hovertemplate": "<b>d10</b><br>roll %{x:.0f}<br>probability %{y:,.1%}<extra></extra>",
         "line": {
          "shape": "hvh"
         },
         "mode": "lines",
         "name": "d10",
         "type": "scatter",
         "x": [
          0,
          1,
          2,
          3,
          4,
          5,
          6,
          7,
          8,
          9,
          10,
          11,
          12,
          13,
          14,
          15,
          16,
          17,
          18,
          19,
          20,
          21
         ],
         "y": [
          0,
          0.1,
          0.1,
          0.1,
          0.1,
          0.1,
          0.1,
          0.1,
          0.1,
          0.1,
          0.1,
          0,
          0,
          0,
          0,
          0,
          0,
          0,
          0,
          0,
          0,
          0
         ]
        },
        {
         "fill": "tozeroy",
         "hovertemplate": "<b>d12</b><br>roll %{x:.0f}<br>probability %{y:,.1%}<extra></extra>",
         "line": {
          "shape": "hvh"
         },
         "mode": "lines",
         "name": "d12",
         "type": "scatter",
         "x": [
          0,
          1,
          2,
          3,
          4,
          5,
          6,
          7,
          8,
          9,
          10,
          11,
          12,
          13,
          14,
          15,
          16,
          17,
          18,
          19,
          20,
          21
         ],
         "y": [
          0,
          0.08333333333333333,
          0.08333333333333333,
          0.08333333333333333,
          0.08333333333333333,
          0.08333333333333333,
          0.08333333333333333,
          0.08333333333333333,
          0.08333333333333333,
          0.08333333333333333,
          0.08333333333333333,
          0.08333333333333333,
          0.08333333333333333,
          0,
          0,
          0,
          0,
          0,
          0,
          0,
          0,
          0
         ]
        },
        {
         "fill": "tozeroy",
         "hovertemplate": "<b>d20</b><br>roll %{x:.0f}<br>probability %{y:,.1%}<extra></extra>",
         "line": {
          "shape": "hvh"
         },
         "mode": "lines",
         "name": "d20",
         "type": "scatter",
         "x": [
          0,
          1,
          2,
          3,
          4,
          5,
          6,
          7,
          8,
          9,
          10,
          11,
          12,
          13,
          14,
          15,
          16,
          17,
          18,
          19,
          20,
          21
         ],
         "y": [
          0,
          0.05,
          0.05,
          0.05,
          0.05,
          0.05,
          0.05,
          0.05,
          0.05,
          0.05,
          0.05,
          0.05,
          0.05,
          0.05,
          0.05,
          0.05,
          0.05,
          0.05,
          0.05,
          0.05,
          0.05,
          0
         ]
        }
       ],
       "layout": {
        "barmode": "group",
        "height": 450,
        "legend": {
         "orientation": "v",
         "tracegroupgap": 0,
         "x": 1,
         "xanchor": "right",
         "y": 1,
         "yanchor": "top"
        },
        "template": {
         "layout": {
          "autosize": false,
          "font": {
           "family": "sans-serif",
           "size": 14
          },
          "hoverlabel": {
           "align": "left"
          },
          "hovermode": "closest",
          "margin": {
           "b": 55,
           "l": 60,
           "pad": 4,
           "r": 25,
           "t": 20
          },
          "template": {
           "data": {
            "bar": [
             {
              "error_x": {
               "color": "#2a3f5f"
              },
              "error_y": {
               "color": "#2a3f5f"
              },
              "marker": {
               "line": {
                "color": "white",
                "width": 0.5
               },
               "pattern": {
                "fillmode": "overlay",
                "size": 10,
                "solidity": 0.2
               }
              },
              "type": "bar"
             }
            ],
            "barpolar": [
             {
              "marker": {
               "line": {
                "color": "white",
                "width": 0.5
               },
               "pattern": {
                "fillmode": "overlay",
                "size": 10,
                "solidity": 0.2
               }
              },
              "type": "barpolar"
             }
            ],
            "carpet": [
             {
              "aaxis": {
               "endlinecolor": "#2a3f5f",
               "gridcolor": "#C8D4E3",
               "linecolor": "#C8D4E3",
               "minorgridcolor": "#C8D4E3",
               "startlinecolor": "#2a3f5f"
              },
              "baxis": {
               "endlinecolor": "#2a3f5f",
               "gridcolor": "#C8D4E3",
               "linecolor": "#C8D4E3",
               "minorgridcolor": "#C8D4E3",
               "startlinecolor": "#2a3f5f"
              },
              "type": "carpet"
             }
            ],
            "choropleth": [
             {
              "colorbar": {
               "outlinewidth": 0,
               "ticks": ""
              },
              "type": "choropleth"
             }
            ],
            "contour": [
             {
              "colorbar": {
               "outlinewidth": 0,
               "ticks": ""
              },
              "colorscale": [
               [
                0,
                "#0d0887"
               ],
               [
                0.1111111111111111,
                "#46039f"
               ],
               [
                0.2222222222222222,
                "#7201a8"
               ],
               [
                0.3333333333333333,
                "#9c179e"
               ],
               [
                0.4444444444444444,
                "#bd3786"
               ],
               [
                0.5555555555555556,
                "#d8576b"
               ],
               [
                0.6666666666666666,
                "#ed7953"
               ],
               [
                0.7777777777777778,
                "#fb9f3a"
               ],
               [
                0.8888888888888888,
                "#fdca26"
               ],
               [
                1,
                "#f0f921"
               ]
              ],
              "type": "contour"
             }
            ],
            "contourcarpet": [
             {
              "colorbar": {
               "outlinewidth": 0,
               "ticks": ""
              },
              "type": "contourcarpet"
             }
            ],
            "heatmap": [
             {
              "colorbar": {
               "outlinewidth": 0,
               "ticks": ""
              },
              "colorscale": [
               [
                0,
                "#0d0887"
               ],
               [
                0.1111111111111111,
                "#46039f"
               ],
               [
                0.2222222222222222,
                "#7201a8"
               ],
               [
                0.3333333333333333,
                "#9c179e"
               ],
               [
                0.4444444444444444,
                "#bd3786"
               ],
               [
                0.5555555555555556,
                "#d8576b"
               ],
               [
                0.6666666666666666,
                "#ed7953"
               ],
               [
                0.7777777777777778,
                "#fb9f3a"
               ],
               [
                0.8888888888888888,
                "#fdca26"
               ],
               [
                1,
                "#f0f921"
               ]
              ],
              "type": "heatmap"
             }
            ],
            "heatmapgl": [
             {
              "colorbar": {
               "outlinewidth": 0,
               "ticks": ""
              },
              "colorscale": [
               [
                0,
                "#0d0887"
               ],
               [
                0.1111111111111111,
                "#46039f"
               ],
               [
                0.2222222222222222,
                "#7201a8"
               ],
               [
                0.3333333333333333,
                "#9c179e"
               ],
               [
                0.4444444444444444,
                "#bd3786"
               ],
               [
                0.5555555555555556,
                "#d8576b"
               ],
               [
                0.6666666666666666,
                "#ed7953"
               ],
               [
                0.7777777777777778,
                "#fb9f3a"
               ],
               [
                0.8888888888888888,
                "#fdca26"
               ],
               [
                1,
                "#f0f921"
               ]
              ],
              "type": "heatmapgl"
             }
            ],
            "histogram": [
             {
              "marker": {
               "pattern": {
                "fillmode": "overlay",
                "size": 10,
                "solidity": 0.2
               }
              },
              "type": "histogram"
             }
            ],
            "histogram2d": [
             {
              "colorbar": {
               "outlinewidth": 0,
               "ticks": ""
              },
              "colorscale": [
               [
                0,
                "#0d0887"
               ],
               [
                0.1111111111111111,
                "#46039f"
               ],
               [
                0.2222222222222222,
                "#7201a8"
               ],
               [
                0.3333333333333333,
                "#9c179e"
               ],
               [
                0.4444444444444444,
                "#bd3786"
               ],
               [
                0.5555555555555556,
                "#d8576b"
               ],
               [
                0.6666666666666666,
                "#ed7953"
               ],
               [
                0.7777777777777778,
                "#fb9f3a"
               ],
               [
                0.8888888888888888,
                "#fdca26"
               ],
               [
                1,
                "#f0f921"
               ]
              ],
              "type": "histogram2d"
             }
            ],
            "histogram2dcontour": [
             {
              "colorbar": {
               "outlinewidth": 0,
               "ticks": ""
              },
              "colorscale": [
               [
                0,
                "#0d0887"
               ],
               [
                0.1111111111111111,
                "#46039f"
               ],
               [
                0.2222222222222222,
                "#7201a8"
               ],
               [
                0.3333333333333333,
                "#9c179e"
               ],
               [
                0.4444444444444444,
                "#bd3786"
               ],
               [
                0.5555555555555556,
                "#d8576b"
               ],
               [
                0.6666666666666666,
                "#ed7953"
               ],
               [
                0.7777777777777778,
                "#fb9f3a"
               ],
               [
                0.8888888888888888,
                "#fdca26"
               ],
               [
                1,
                "#f0f921"
               ]
              ],
              "type": "histogram2dcontour"
             }
            ],
            "mesh3d": [
             {
              "colorbar": {
               "outlinewidth": 0,
               "ticks": ""
              },
              "type": "mesh3d"
             }
            ],
            "parcoords": [
             {
              "line": {
               "colorbar": {
                "outlinewidth": 0,
                "ticks": ""
               }
              },
              "type": "parcoords"
             }
            ],
            "pie": [
             {
              "automargin": true,
              "type": "pie"
             }
            ],
            "scatter": [
             {
              "fillpattern": {
               "fillmode": "overlay",
               "size": 10,
               "solidity": 0.2
              },
              "type": "scatter"
             }
            ],
            "scatter3d": [
             {
              "line": {
               "colorbar": {
                "outlinewidth": 0,
                "ticks": ""
               }
              },
              "marker": {
               "colorbar": {
                "outlinewidth": 0,
                "ticks": ""
               }
              },
              "type": "scatter3d"
             }
            ],
            "scattercarpet": [
             {
              "marker": {
               "colorbar": {
                "outlinewidth": 0,
                "ticks": ""
               }
              },
              "type": "scattercarpet"
             }
            ],
            "scattergeo": [
             {
              "marker": {
               "colorbar": {
                "outlinewidth": 0,
                "ticks": ""
               }
              },
              "type": "scattergeo"
             }
            ],
            "scattergl": [
             {
              "marker": {
               "colorbar": {
                "outlinewidth": 0,
                "ticks": ""
               }
              },
              "type": "scattergl"
             }
            ],
            "scattermapbox": [
             {
              "marker": {
               "colorbar": {
                "outlinewidth": 0,
                "ticks": ""
               }
              },
              "type": "scattermapbox"
             }
            ],
            "scatterpolar": [
             {
              "marker": {
               "colorbar": {
                "outlinewidth": 0,
                "ticks": ""
               }
              },
              "type": "scatterpolar"
             }
            ],
            "scatterpolargl": [
             {
              "marker": {
               "colorbar": {
                "outlinewidth": 0,
                "ticks": ""
               }
              },
              "type": "scatterpolargl"
             }
            ],
            "scatterternary": [
             {
              "marker": {
               "colorbar": {
                "outlinewidth": 0,
                "ticks": ""
               }
              },
              "type": "scatterternary"
             }
            ],
            "surface": [
             {
              "colorbar": {
               "outlinewidth": 0,
               "ticks": ""
              },
              "colorscale": [
               [
                0,
                "#0d0887"
               ],
               [
                0.1111111111111111,
                "#46039f"
               ],
               [
                0.2222222222222222,
                "#7201a8"
               ],
               [
                0.3333333333333333,
                "#9c179e"
               ],
               [
                0.4444444444444444,
                "#bd3786"
               ],
               [
                0.5555555555555556,
                "#d8576b"
               ],
               [
                0.6666666666666666,
                "#ed7953"
               ],
               [
                0.7777777777777778,
                "#fb9f3a"
               ],
               [
                0.8888888888888888,
                "#fdca26"
               ],
               [
                1,
                "#f0f921"
               ]
              ],
              "type": "surface"
             }
            ],
            "table": [
             {
              "cells": {
               "fill": {
                "color": "#EBF0F8"
               },
               "line": {
                "color": "white"
               }
              },
              "header": {
               "fill": {
                "color": "#C8D4E3"
               },
               "line": {
                "color": "white"
               }
              },
              "type": "table"
             }
            ]
           },
           "layout": {
            "annotationdefaults": {
             "arrowcolor": "#2a3f5f",
             "arrowhead": 0,
             "arrowwidth": 1
            },
            "autotypenumbers": "strict",
            "coloraxis": {
             "colorbar": {
              "outlinewidth": 0,
              "ticks": ""
             }
            },
            "colorscale": {
             "diverging": [
              [
               0,
               "#8e0152"
              ],
              [
               0.1,
               "#c51b7d"
              ],
              [
               0.2,
               "#de77ae"
              ],
              [
               0.3,
               "#f1b6da"
              ],
              [
               0.4,
               "#fde0ef"
              ],
              [
               0.5,
               "#f7f7f7"
              ],
              [
               0.6,
               "#e6f5d0"
              ],
              [
               0.7,
               "#b8e186"
              ],
              [
               0.8,
               "#7fbc41"
              ],
              [
               0.9,
               "#4d9221"
              ],
              [
               1,
               "#276419"
              ]
             ],
             "sequential": [
              [
               0,
               "#0d0887"
              ],
              [
               0.1111111111111111,
               "#46039f"
              ],
              [
               0.2222222222222222,
               "#7201a8"
              ],
              [
               0.3333333333333333,
               "#9c179e"
              ],
              [
               0.4444444444444444,
               "#bd3786"
              ],
              [
               0.5555555555555556,
               "#d8576b"
              ],
              [
               0.6666666666666666,
               "#ed7953"
              ],
              [
               0.7777777777777778,
               "#fb9f3a"
              ],
              [
               0.8888888888888888,
               "#fdca26"
              ],
              [
               1,
               "#f0f921"
              ]
             ],
             "sequentialminus": [
              [
               0,
               "#0d0887"
              ],
              [
               0.1111111111111111,
               "#46039f"
              ],
              [
               0.2222222222222222,
               "#7201a8"
              ],
              [
               0.3333333333333333,
               "#9c179e"
              ],
              [
               0.4444444444444444,
               "#bd3786"
              ],
              [
               0.5555555555555556,
               "#d8576b"
              ],
              [
               0.6666666666666666,
               "#ed7953"
              ],
              [
               0.7777777777777778,
               "#fb9f3a"
              ],
              [
               0.8888888888888888,
               "#fdca26"
              ],
              [
               1,
               "#f0f921"
              ]
             ]
            },
            "colorway": [
             "#636efa",
             "#EF553B",
             "#00cc96",
             "#ab63fa",
             "#FFA15A",
             "#19d3f3",
             "#FF6692",
             "#B6E880",
             "#FF97FF",
             "#FECB52"
            ],
            "font": {
             "color": "#2a3f5f"
            },
            "geo": {
             "bgcolor": "white",
             "lakecolor": "white",
             "landcolor": "white",
             "showlakes": true,
             "showland": true,
             "subunitcolor": "#C8D4E3"
            },
            "hoverlabel": {
             "align": "left"
            },
            "hovermode": "closest",
            "mapbox": {
             "style": "light"
            },
            "paper_bgcolor": "white",
            "plot_bgcolor": "white",
            "polar": {
             "angularaxis": {
              "gridcolor": "#EBF0F8",
              "linecolor": "#EBF0F8",
              "ticks": ""
             },
             "bgcolor": "white",
             "radialaxis": {
              "gridcolor": "#EBF0F8",
              "linecolor": "#EBF0F8",
              "ticks": ""
             }
            },
            "scene": {
             "xaxis": {
              "backgroundcolor": "white",
              "gridcolor": "#DFE8F3",
              "gridwidth": 2,
              "linecolor": "#EBF0F8",
              "showbackground": true,
              "ticks": "",
              "zerolinecolor": "#EBF0F8"
             },
             "yaxis": {
              "backgroundcolor": "white",
              "gridcolor": "#DFE8F3",
              "gridwidth": 2,
              "linecolor": "#EBF0F8",
              "showbackground": true,
              "ticks": "",
              "zerolinecolor": "#EBF0F8"
             },
             "zaxis": {
              "backgroundcolor": "white",
              "gridcolor": "#DFE8F3",
              "gridwidth": 2,
              "linecolor": "#EBF0F8",
              "showbackground": true,
              "ticks": "",
              "zerolinecolor": "#EBF0F8"
             }
            },
            "shapedefaults": {
             "line": {
              "color": "#2a3f5f"
             }
            },
            "ternary": {
             "aaxis": {
              "gridcolor": "#DFE8F3",
              "linecolor": "#A2B1C6",
              "ticks": ""
             },
             "baxis": {
              "gridcolor": "#DFE8F3",
              "linecolor": "#A2B1C6",
              "ticks": ""
             },
             "bgcolor": "white",
             "caxis": {
              "gridcolor": "#DFE8F3",
              "linecolor": "#A2B1C6",
              "ticks": ""
             }
            },
            "title": {
             "x": 0.05
            },
            "xaxis": {
             "automargin": true,
             "gridcolor": "#EBF0F8",
             "linecolor": "#EBF0F8",
             "ticks": "",
             "title": {
              "standoff": 15
             },
             "zerolinecolor": "#EBF0F8",
             "zerolinewidth": 2
            },
            "yaxis": {
             "automargin": true,
             "gridcolor": "#EBF0F8",
             "linecolor": "#EBF0F8",
             "ticks": "",
             "title": {
              "standoff": 15
             },
             "zerolinecolor": "#EBF0F8",
             "zerolinewidth": 2
            }
           }
          },
          "xaxis": {
           "automargin": false,
           "linecolor": "#444",
           "linewidth": 2,
           "minor": {
            "tickmode": "linear",
            "ticks": "outside"
           },
           "mirror": true,
           "showline": true,
           "tickmode": "linear",
           "ticks": "outside",
           "zeroline": false
          },
          "yaxis": {
           "automargin": false,
           "linecolor": "#444",
           "linewidth": 2,
           "minor": {
            "tickmode": "linear",
            "ticks": "outside"
           },
           "mirror": true,
           "showline": true,
           "ticks": "outside",
           "zeroline": false
          }
         }
        },
        "width": 600,
        "xaxis": {
         "dtick": 5,
         "minor": {
          "dtick": 1,
          "tick0": 0
         },
         "range": [
          0,
          21
         ],
         "tick0": 0,
         "title": {
          "text": "value"
         }
        },
        "yaxis": {
         "tickformat": "0.2f",
         "title": {
          "text": "probability"
         }
        }
       }
      }
     },
     "metadata": {},
     "output_type": "display_data"
    }
   ],
   "source": [
    "# Attack damage distribution with one or two attacks\n",
    "\n",
    "# create figure\n",
    "fig = go.Figure(\n",
    "    layout=go.Layout(\n",
    "        template=tfb.FIG_TEMPLATE,\n",
    "        xaxis=dict(\n",
    "            title_text='value',\n",
    "            range=[0,21],\n",
    "            tick0=0, dtick=5,\n",
    "            minor=dict(tick0=0, dtick=1),\n",
    "        ),\n",
    "        yaxis=dict(\n",
    "            title_text='probability',\n",
    "            tickformat='0.2f',\n",
    "        ),\n",
    "        legend=dict(\n",
    "            xanchor='right', yanchor='top',\n",
    "            x=1.00, y=1.00,\n",
    "            orientation='v',\n",
    "            tracegroupgap=0,\n",
    "        )\n",
    "    )\n",
    ")\n",
    "\n",
    "# one attacks\n",
    "\"\"\"for n in [4,6,8,10,12,20]:\n",
    "    roll = Dice_Roller(f'1d{n}').value\n",
    "    fig.add_trace(go.Scatter(\n",
    "        x=np.array(roll.outcomes()), \n",
    "        y=np.array(roll.probabilities()),\n",
    "        name=f'd{n}',\n",
    "        mode='markers+lines',\n",
    "        line_shape='hvh',\n",
    "        fill='tozeroy',\n",
    "    ))\"\"\"\n",
    "\n",
    "x_list = list(range(22))\n",
    "for deq in ['d4','d6','d8','d10','d12','d20']:\n",
    "    roll = Dice_Roller(deq).value\n",
    "    fig.add_trace(go.Scatter(\n",
    "        x=np.array(x_list),\n",
    "        y=np.array([roll.probability(x) for x in x_list]),\n",
    "        #name=f'{deq} (std dev {roll.sd():.2f})',\n",
    "        name=f'{deq}',\n",
    "        mode='lines',\n",
    "        line_shape='hvh',\n",
    "        fill='tozeroy',\n",
    "        hovertemplate=\n",
    "            '<b>'+deq+'</b><br>'+\n",
    "            'roll %{x:.0f}<br>'+\n",
    "            'probability %{y:,.1%}' + \n",
    "            '<extra></extra>'\n",
    "    ))\n",
    "\n",
    "# show figure\n",
    "fig.update_layout(width=600, height=450, barmode='group')\n",
    "fig.show(config=tfb.FIG_CONFIG)\n",
    "\n",
    "# save figures\n",
    "if SAVEFIGS:\n",
    "    fig.update_layout(autosize=True, width=None, height=None)\n",
    "    tfb.save_fig_html(fig, format='large', name=f'./fig-die-pd-large')\n",
    "    tfb.save_fig_html(fig, format='small', name=f'./fig-die-pd-small')"
   ]
  },
  {
   "cell_type": "code",
   "execution_count": 51,
   "metadata": {},
   "outputs": [
    {
     "data": {
      "text/html": [
       "<style type=\"text/css\">\n",
       "#T_fa41b th {\n",
       "  text-align: center;\n",
       "}\n",
       "#T_fa41b td {\n",
       "  text-align: center;\n",
       "}\n",
       "</style>\n",
       "<table id=\"T_fa41b\">\n",
       "  <thead>\n",
       "    <tr>\n",
       "      <th id=\"T_fa41b_level0_col0\" class=\"col_heading level0 col0\" >die</th>\n",
       "      <th id=\"T_fa41b_level0_col1\" class=\"col_heading level0 col1\" >mean</th>\n",
       "      <th id=\"T_fa41b_level0_col2\" class=\"col_heading level0 col2\" >std dev</th>\n",
       "      <th id=\"T_fa41b_level0_col3\" class=\"col_heading level0 col3\" >std dev/mean</th>\n",
       "    </tr>\n",
       "  </thead>\n",
       "  <tbody>\n",
       "    <tr>\n",
       "      <td id=\"T_fa41b_row0_col0\" class=\"data row0 col0\" >d1</td>\n",
       "      <td id=\"T_fa41b_row0_col1\" class=\"data row0 col1\" >1.0</td>\n",
       "      <td id=\"T_fa41b_row0_col2\" class=\"data row0 col2\" >0.00</td>\n",
       "      <td id=\"T_fa41b_row0_col3\" class=\"data row0 col3\" >0.00</td>\n",
       "    </tr>\n",
       "    <tr>\n",
       "      <td id=\"T_fa41b_row1_col0\" class=\"data row1 col0\" >d4</td>\n",
       "      <td id=\"T_fa41b_row1_col1\" class=\"data row1 col1\" >2.5</td>\n",
       "      <td id=\"T_fa41b_row1_col2\" class=\"data row1 col2\" >1.12</td>\n",
       "      <td id=\"T_fa41b_row1_col3\" class=\"data row1 col3\" >0.45</td>\n",
       "    </tr>\n",
       "    <tr>\n",
       "      <td id=\"T_fa41b_row2_col0\" class=\"data row2 col0\" >d6</td>\n",
       "      <td id=\"T_fa41b_row2_col1\" class=\"data row2 col1\" >3.5</td>\n",
       "      <td id=\"T_fa41b_row2_col2\" class=\"data row2 col2\" >1.71</td>\n",
       "      <td id=\"T_fa41b_row2_col3\" class=\"data row2 col3\" >0.49</td>\n",
       "    </tr>\n",
       "    <tr>\n",
       "      <td id=\"T_fa41b_row3_col0\" class=\"data row3 col0\" >d8</td>\n",
       "      <td id=\"T_fa41b_row3_col1\" class=\"data row3 col1\" >4.5</td>\n",
       "      <td id=\"T_fa41b_row3_col2\" class=\"data row3 col2\" >2.29</td>\n",
       "      <td id=\"T_fa41b_row3_col3\" class=\"data row3 col3\" >0.51</td>\n",
       "    </tr>\n",
       "    <tr>\n",
       "      <td id=\"T_fa41b_row4_col0\" class=\"data row4 col0\" >d10</td>\n",
       "      <td id=\"T_fa41b_row4_col1\" class=\"data row4 col1\" >5.5</td>\n",
       "      <td id=\"T_fa41b_row4_col2\" class=\"data row4 col2\" >2.87</td>\n",
       "      <td id=\"T_fa41b_row4_col3\" class=\"data row4 col3\" >0.52</td>\n",
       "    </tr>\n",
       "    <tr>\n",
       "      <td id=\"T_fa41b_row5_col0\" class=\"data row5 col0\" >d12</td>\n",
       "      <td id=\"T_fa41b_row5_col1\" class=\"data row5 col1\" >6.5</td>\n",
       "      <td id=\"T_fa41b_row5_col2\" class=\"data row5 col2\" >3.45</td>\n",
       "      <td id=\"T_fa41b_row5_col3\" class=\"data row5 col3\" >0.53</td>\n",
       "    </tr>\n",
       "    <tr>\n",
       "      <td id=\"T_fa41b_row6_col0\" class=\"data row6 col0\" >d20</td>\n",
       "      <td id=\"T_fa41b_row6_col1\" class=\"data row6 col1\" >10.5</td>\n",
       "      <td id=\"T_fa41b_row6_col2\" class=\"data row6 col2\" >5.77</td>\n",
       "      <td id=\"T_fa41b_row6_col3\" class=\"data row6 col3\" >0.55</td>\n",
       "    </tr>\n",
       "  </tbody>\n",
       "</table>\n"
      ],
      "text/plain": [
       "<pandas.io.formats.style.Styler at 0x12d3224a0>"
      ]
     },
     "execution_count": 51,
     "metadata": {},
     "output_type": "execute_result"
    }
   ],
   "source": [
    "# creates a table with mean, sigma, and sigma/mean values for common dice\n",
    "import pandas as pd\n",
    "import numpy as np\n",
    "\n",
    "n = np.array([1, 4, 6, 8, 10, 12, 20])\n",
    "m = 0.5*(n + 1)\n",
    "s = np.sqrt((n*n - 1)/12)\n",
    "\n",
    "df = pd.DataFrame({'die': [f'd{d}' for d in list(n)], 'mean': list(m), 'std dev': list(s)})\n",
    "df['std dev/mean'] = df['std dev']/df['mean']\n",
    "\n",
    "df = df.style.format({\n",
    "    'mean': '{:,.1f}',\n",
    "    'std dev': '{:,.2f}',\n",
    "    'std dev/mean': '{:,.2f}',\n",
    "}).hide().set_table_styles([\n",
    "        {'selector': 'th', 'props': 'text-align: center;'},\n",
    "        {'selector': 'td', 'props': 'text-align: center;'},\n",
    "    ], overwrite=False)\n",
    "df.to_html(\n",
    "    './tab-die-stats.html',\n",
    "    index=False, classes='wide', border=0)\n",
    "df"
   ]
  },
  {
   "cell_type": "code",
   "execution_count": 52,
   "metadata": {},
   "outputs": [
    {
     "data": {
      "application/vnd.plotly.v1+json": {
       "config": {
        "autosizable": true,
        "displayModeBar": "hover",
        "displaylogo": false,
        "modeBarButtonsToRemove": [
         "select2d",
         "lasso2d",
         "zoom2d",
         "zoomIn2d",
         "zoomOut2d",
         "pan2d",
         "autoScale2d",
         "hoverClosestCartesian",
         "hoverCompareCartesian",
         "toggleSpikelines",
         "resetScale2d"
        ],
        "plotlyServerURL": "https://plot.ly",
        "responsive": true,
        "showAxisDragHandles": false,
        "toImageButtonOptions": {
         "filename": "tfb-plot",
         "format": "png",
         "height": 450,
         "scale": 2,
         "width": 600
        }
       },
       "data": [
        {
         "hoverinfo": "skip",
         "line": {
          "color": "black",
          "dash": "dashdot",
          "width": 1
         },
         "mode": "lines+text",
         "name": "CV 0.10",
         "showlegend": false,
         "type": "scatter",
         "x": [
          0,
          13.927150363278889,
          29.711254108328298,
          55.708601453115556
         ],
         "y": [
          0,
          1.392715036327889,
          2.97112541083283,
          5.570860145311556
         ]
        },
        {
         "hoverinfo": "skip",
         "line": {
          "color": "black",
          "dash": "dashdot",
          "width": 1
         },
         "mode": "lines+text",
         "name": "CV 0.20",
         "showlegend": false,
         "type": "scatter",
         "x": [
          0,
          11.713032141645455,
          24.98780190217697,
          46.85212856658182
         ],
         "y": [
          0,
          2.342606428329091,
          4.997560380435394,
          9.370425713316363
         ]
        },
        {
         "hoverinfo": "skip",
         "line": {
          "color": "black",
          "dash": "dashdot",
          "width": 1
         },
         "mode": "lines+text",
         "name": "CV 0.40",
         "showlegend": false,
         "type": "scatter",
         "x": [
          0,
          7.949984100047701,
          16.95996608010176,
          31.799936400190806
         ],
         "y": [
          0,
          3.1799936400190805,
          6.783986432040704,
          12.719974560076322
         ]
        },
        {
         "hoverinfo": "skip",
         "line": {
          "color": "black",
          "dash": "dashdot",
          "width": 1
         },
         "mode": "lines+text",
         "name": "CV 0.60",
         "showlegend": false,
         "type": "scatter",
         "x": [
          0,
          5.769230769230769,
          12.307692307692308,
          23.076923076923077
         ],
         "y": [
          0,
          3.4615384615384617,
          7.384615384615385,
          13.846153846153847
         ]
        },
        {
         "hoverinfo": "text",
         "hovertext": [
          "1d4<br>mean 2.50<br>std dev 1.12<br>CV 0.45",
          "2d4<br>mean 5.00<br>std dev 1.58<br>CV 0.32",
          "3d4<br>mean 7.50<br>std dev 1.94<br>CV 0.26",
          "4d4<br>mean 10.00<br>std dev 2.24<br>CV 0.22",
          "5d4<br>mean 12.50<br>std dev 2.50<br>CV 0.20",
          "6d4<br>mean 15.00<br>std dev 2.74<br>CV 0.18",
          "7d4<br>mean 17.50<br>std dev 2.96<br>CV 0.17",
          "8d4<br>mean 20.00<br>std dev 3.16<br>CV 0.16",
          "9d4<br>mean 22.50<br>std dev 3.35<br>CV 0.15",
          "10d4<br>mean 25.00<br>std dev 3.54<br>CV 0.14",
          "11d4<br>mean 27.50<br>std dev 3.71<br>CV 0.13",
          "12d4<br>mean 30.00<br>std dev 3.87<br>CV 0.13",
          "13d4<br>mean 32.50<br>std dev 4.03<br>CV 0.12",
          "14d4<br>mean 35.00<br>std dev 4.18<br>CV 0.12",
          "15d4<br>mean 37.50<br>std dev 4.33<br>CV 0.12",
          "16d4<br>mean 40.00<br>std dev 4.47<br>CV 0.11",
          "17d4<br>mean 42.50<br>std dev 4.61<br>CV 0.11",
          "18d4<br>mean 45.00<br>std dev 4.74<br>CV 0.11",
          "19d4<br>mean 47.50<br>std dev 4.87<br>CV 0.10"
         ],
         "marker": {
          "line": {
           "color": "black",
           "width": 1
          },
          "size": 10,
          "symbol": "triangle-up"
         },
         "mode": "markers+lines",
         "name": "d4",
         "type": "scatter",
         "x": [
          2.5,
          5,
          7.5,
          10,
          12.5,
          15,
          17.5,
          20,
          22.5,
          25,
          27.5,
          30,
          32.5,
          35,
          37.5,
          40,
          42.5,
          45,
          47.5
         ],
         "y": [
          1.118033988749895,
          1.5811388300841898,
          1.9364916731037085,
          2.23606797749979,
          2.5,
          2.7386127875258306,
          2.958039891549808,
          3.1622776601683795,
          3.3541019662496847,
          3.5355339059327378,
          3.7080992435478315,
          3.872983346207417,
          4.031128874149275,
          4.183300132670378,
          4.330127018922194,
          4.47213595499958,
          4.6097722286464435,
          4.743416490252569,
          4.873397172404482
         ]
        },
        {
         "hoverinfo": "text",
         "hovertext": [
          "1d6<br>mean 3.50<br>std dev 1.71<br>CV 0.49",
          "2d6<br>mean 7.00<br>std dev 2.42<br>CV 0.35",
          "3d6<br>mean 10.50<br>std dev 2.96<br>CV 0.28",
          "4d6<br>mean 14.00<br>std dev 3.42<br>CV 0.24",
          "5d6<br>mean 17.50<br>std dev 3.82<br>CV 0.22",
          "6d6<br>mean 21.00<br>std dev 4.18<br>CV 0.20",
          "7d6<br>mean 24.50<br>std dev 4.52<br>CV 0.18",
          "8d6<br>mean 28.00<br>std dev 4.83<br>CV 0.17",
          "9d6<br>mean 31.50<br>std dev 5.12<br>CV 0.16",
          "10d6<br>mean 35.00<br>std dev 5.40<br>CV 0.15",
          "11d6<br>mean 38.50<br>std dev 5.66<br>CV 0.15",
          "12d6<br>mean 42.00<br>std dev 5.92<br>CV 0.14",
          "13d6<br>mean 45.50<br>std dev 6.16<br>CV 0.14",
          "14d6<br>mean 49.00<br>std dev 6.39<br>CV 0.13",
          "15d6<br>mean 52.50<br>std dev 6.61<br>CV 0.13",
          "16d6<br>mean 56.00<br>std dev 6.83<br>CV 0.12",
          "17d6<br>mean 59.50<br>std dev 7.04<br>CV 0.12",
          "18d6<br>mean 63.00<br>std dev 7.25<br>CV 0.12",
          "19d6<br>mean 66.50<br>std dev 7.44<br>CV 0.11"
         ],
         "marker": {
          "line": {
           "color": "black",
           "width": 1
          },
          "size": 10,
          "symbol": "square"
         },
         "mode": "markers+lines",
         "name": "d6",
         "type": "scatter",
         "x": [
          3.5,
          7,
          10.5,
          14,
          17.5,
          21,
          24.5,
          28,
          31.5,
          35,
          38.5,
          42,
          45.5,
          49,
          52.5,
          56,
          59.5,
          63,
          66.5
         ],
         "y": [
          1.707825127659933,
          2.4152294576982403,
          2.958039891549808,
          3.4156502553198647,
          3.818813079129864,
          4.183300132670378,
          4.518480570575315,
          4.830458915396483,
          5.123475382979799,
          5.400617248673224,
          5.664215155988803,
          5.916079783099616,
          6.15765106730371,
          6.39009650422695,
          6.614378277661476,
          6.831300510639721,
          7.04154339142588,
          7.245688373094719,
          7.444237144709119
         ]
        },
        {
         "hoverinfo": "text",
         "hovertext": [
          "1d8<br>mean 4.50<br>std dev 2.29<br>CV 0.51",
          "2d8<br>mean 9.00<br>std dev 3.24<br>CV 0.36",
          "3d8<br>mean 13.50<br>std dev 3.97<br>CV 0.29",
          "4d8<br>mean 18.00<br>std dev 4.58<br>CV 0.25",
          "5d8<br>mean 22.50<br>std dev 5.12<br>CV 0.23",
          "6d8<br>mean 27.00<br>std dev 5.61<br>CV 0.21",
          "7d8<br>mean 31.50<br>std dev 6.06<br>CV 0.19",
          "8d8<br>mean 36.00<br>std dev 6.48<br>CV 0.18",
          "9d8<br>mean 40.50<br>std dev 6.87<br>CV 0.17",
          "10d8<br>mean 45.00<br>std dev 7.25<br>CV 0.16",
          "11d8<br>mean 49.50<br>std dev 7.60<br>CV 0.15",
          "12d8<br>mean 54.00<br>std dev 7.94<br>CV 0.15",
          "13d8<br>mean 58.50<br>std dev 8.26<br>CV 0.14",
          "14d8<br>mean 63.00<br>std dev 8.57<br>CV 0.14",
          "15d8<br>mean 67.50<br>std dev 8.87<br>CV 0.13",
          "16d8<br>mean 72.00<br>std dev 9.17<br>CV 0.13",
          "17d8<br>mean 76.50<br>std dev 9.45<br>CV 0.12",
          "18d8<br>mean 81.00<br>std dev 9.72<br>CV 0.12",
          "19d8<br>mean 85.50<br>std dev 9.99<br>CV 0.12"
         ],
         "marker": {
          "line": {
           "color": "black",
           "width": 1
          },
          "size": 10,
          "symbol": "diamond"
         },
         "mode": "markers+lines",
         "name": "d8",
         "type": "scatter",
         "x": [
          4.5,
          9,
          13.5,
          18,
          22.5,
          27,
          31.5,
          36,
          40.5,
          45,
          49.5,
          54,
          58.5,
          63,
          67.5,
          72,
          76.5,
          81,
          85.5
         ],
         "y": [
          2.29128784747792,
          3.24037034920393,
          3.968626966596886,
          4.58257569495584,
          5.123475382979799,
          5.612486080160912,
          6.06217782649107,
          6.48074069840786,
          6.87386354243376,
          7.245688373094719,
          7.599342076785332,
          7.937253933193772,
          8.261355820929152,
          8.573214099741124,
          8.874119674649425,
          9.16515138991168,
          9.447221813845593,
          9.72111104761179,
          9.987492177719089
         ]
        },
        {
         "hoverinfo": "text",
         "hovertext": [
          "1d10<br>mean 5.50<br>std dev 2.87<br>CV 0.52",
          "2d10<br>mean 11.00<br>std dev 4.06<br>CV 0.37",
          "3d10<br>mean 16.50<br>std dev 4.97<br>CV 0.30",
          "4d10<br>mean 22.00<br>std dev 5.74<br>CV 0.26",
          "5d10<br>mean 27.50<br>std dev 6.42<br>CV 0.23",
          "6d10<br>mean 33.00<br>std dev 7.04<br>CV 0.21",
          "7d10<br>mean 38.50<br>std dev 7.60<br>CV 0.20",
          "8d10<br>mean 44.00<br>std dev 8.12<br>CV 0.18",
          "9d10<br>mean 49.50<br>std dev 8.62<br>CV 0.17",
          "10d10<br>mean 55.00<br>std dev 9.08<br>CV 0.17",
          "11d10<br>mean 60.50<br>std dev 9.53<br>CV 0.16",
          "12d10<br>mean 66.00<br>std dev 9.95<br>CV 0.15",
          "13d10<br>mean 71.50<br>std dev 10.36<br>CV 0.14",
          "14d10<br>mean 77.00<br>std dev 10.75<br>CV 0.14",
          "15d10<br>mean 82.50<br>std dev 11.12<br>CV 0.13",
          "16d10<br>mean 88.00<br>std dev 11.49<br>CV 0.13",
          "17d10<br>mean 93.50<br>std dev 11.84<br>CV 0.13",
          "18d10<br>mean 99.00<br>std dev 12.19<br>CV 0.12",
          "19d10<br>mean 104.50<br>std dev 12.52<br>CV 0.12"
         ],
         "marker": {
          "line": {
           "color": "black",
           "width": 1
          },
          "size": 10,
          "symbol": "pentagon"
         },
         "mode": "markers+lines",
         "name": "d10",
         "type": "scatter",
         "x": [
          5.5,
          11,
          16.5,
          22,
          27.5,
          33,
          38.5,
          44,
          49.5,
          55,
          60.5,
          66,
          71.5,
          77,
          82.5,
          88,
          93.5,
          99,
          104.5
         ],
         "y": [
          2.8722813232690143,
          4.06201920231798,
          4.9749371855331,
          5.744562646538029,
          6.422616289332565,
          7.035623639735144,
          7.599342076785332,
          8.12403840463596,
          8.616843969807043,
          9.082951062292475,
          9.526279441628825,
          9.9498743710662,
          10.35615758860399,
          10.747092630102339,
          11.124297730643494,
          11.489125293076057,
          11.84271928232701,
          12.186057606953941,
          12.519984025548915
         ]
        },
        {
         "hoverinfo": "text",
         "hovertext": [
          "1d12<br>mean 6.50<br>std dev 3.45<br>CV 0.53",
          "2d12<br>mean 13.00<br>std dev 4.88<br>CV 0.38",
          "3d12<br>mean 19.50<br>std dev 5.98<br>CV 0.31",
          "4d12<br>mean 26.00<br>std dev 6.90<br>CV 0.27",
          "5d12<br>mean 32.50<br>std dev 7.72<br>CV 0.24",
          "6d12<br>mean 39.00<br>std dev 8.46<br>CV 0.22",
          "7d12<br>mean 45.50<br>std dev 9.13<br>CV 0.20",
          "8d12<br>mean 52.00<br>std dev 9.76<br>CV 0.19",
          "9d12<br>mean 58.50<br>std dev 10.36<br>CV 0.18",
          "10d12<br>mean 65.00<br>std dev 10.92<br>CV 0.17",
          "11d12<br>mean 71.50<br>std dev 11.45<br>CV 0.16",
          "12d12<br>mean 78.00<br>std dev 11.96<br>CV 0.15",
          "13d12<br>mean 84.50<br>std dev 12.45<br>CV 0.15",
          "14d12<br>mean 91.00<br>std dev 12.92<br>CV 0.14",
          "15d12<br>mean 97.50<br>std dev 13.37<br>CV 0.14",
          "16d12<br>mean 104.00<br>std dev 13.81<br>CV 0.13",
          "17d12<br>mean 110.50<br>std dev 14.23<br>CV 0.13",
          "18d12<br>mean 117.00<br>std dev 14.65<br>CV 0.13",
          "19d12<br>mean 123.50<br>std dev 15.05<br>CV 0.12"
         ],
         "marker": {
          "line": {
           "color": "black",
           "width": 1
          },
          "size": 10,
          "symbol": "hexagon"
         },
         "mode": "markers+lines",
         "name": "d12",
         "type": "scatter",
         "x": [
          6.5,
          13,
          19.5,
          26,
          32.5,
          39,
          45.5,
          52,
          58.5,
          65,
          71.5,
          78,
          84.5,
          91,
          97.5,
          104,
          110.5,
          117,
          123.5
         ],
         "y": [
          3.452052529534663,
          4.881939505292271,
          5.979130371550699,
          6.904105059069324,
          7.719024117939602,
          8.455767262643882,
          9.133272505880162,
          9.763879010584548,
          10.35615758860399,
          10.916348595875224,
          11.449162997063716,
          11.958260743101398,
          12.446552400832408,
          12.916397846665065,
          13.369741957120938,
          13.80821011813863,
          14.233177204452067,
          14.64581851587681,
          15.047148124035534
         ]
        }
       ],
       "layout": {
        "annotations": [
         {
          "bgcolor": "white",
          "showarrow": false,
          "text": "0.10",
          "x": 29.711254108328298,
          "y": 2.97112541083283
         },
         {
          "bgcolor": "white",
          "showarrow": false,
          "text": "0.20",
          "x": 24.98780190217697,
          "y": 4.997560380435394
         },
         {
          "bgcolor": "white",
          "showarrow": false,
          "text": "0.40",
          "x": 16.95996608010176,
          "y": 6.783986432040704
         },
         {
          "bgcolor": "white",
          "showarrow": false,
          "text": "0.60",
          "x": 12.307692307692308,
          "y": 7.384615384615385
         }
        ],
        "height": 500,
        "legend": {
         "orientation": "v",
         "tracegroupgap": 0,
         "x": 0,
         "xanchor": "left",
         "y": 1,
         "yanchor": "top"
        },
        "template": {
         "layout": {
          "autosize": false,
          "font": {
           "family": "sans-serif",
           "size": 14
          },
          "hoverlabel": {
           "align": "left"
          },
          "hovermode": "closest",
          "margin": {
           "b": 55,
           "l": 60,
           "pad": 4,
           "r": 25,
           "t": 20
          },
          "template": {
           "data": {
            "bar": [
             {
              "error_x": {
               "color": "#2a3f5f"
              },
              "error_y": {
               "color": "#2a3f5f"
              },
              "marker": {
               "line": {
                "color": "white",
                "width": 0.5
               },
               "pattern": {
                "fillmode": "overlay",
                "size": 10,
                "solidity": 0.2
               }
              },
              "type": "bar"
             }
            ],
            "barpolar": [
             {
              "marker": {
               "line": {
                "color": "white",
                "width": 0.5
               },
               "pattern": {
                "fillmode": "overlay",
                "size": 10,
                "solidity": 0.2
               }
              },
              "type": "barpolar"
             }
            ],
            "carpet": [
             {
              "aaxis": {
               "endlinecolor": "#2a3f5f",
               "gridcolor": "#C8D4E3",
               "linecolor": "#C8D4E3",
               "minorgridcolor": "#C8D4E3",
               "startlinecolor": "#2a3f5f"
              },
              "baxis": {
               "endlinecolor": "#2a3f5f",
               "gridcolor": "#C8D4E3",
               "linecolor": "#C8D4E3",
               "minorgridcolor": "#C8D4E3",
               "startlinecolor": "#2a3f5f"
              },
              "type": "carpet"
             }
            ],
            "choropleth": [
             {
              "colorbar": {
               "outlinewidth": 0,
               "ticks": ""
              },
              "type": "choropleth"
             }
            ],
            "contour": [
             {
              "colorbar": {
               "outlinewidth": 0,
               "ticks": ""
              },
              "colorscale": [
               [
                0,
                "#0d0887"
               ],
               [
                0.1111111111111111,
                "#46039f"
               ],
               [
                0.2222222222222222,
                "#7201a8"
               ],
               [
                0.3333333333333333,
                "#9c179e"
               ],
               [
                0.4444444444444444,
                "#bd3786"
               ],
               [
                0.5555555555555556,
                "#d8576b"
               ],
               [
                0.6666666666666666,
                "#ed7953"
               ],
               [
                0.7777777777777778,
                "#fb9f3a"
               ],
               [
                0.8888888888888888,
                "#fdca26"
               ],
               [
                1,
                "#f0f921"
               ]
              ],
              "type": "contour"
             }
            ],
            "contourcarpet": [
             {
              "colorbar": {
               "outlinewidth": 0,
               "ticks": ""
              },
              "type": "contourcarpet"
             }
            ],
            "heatmap": [
             {
              "colorbar": {
               "outlinewidth": 0,
               "ticks": ""
              },
              "colorscale": [
               [
                0,
                "#0d0887"
               ],
               [
                0.1111111111111111,
                "#46039f"
               ],
               [
                0.2222222222222222,
                "#7201a8"
               ],
               [
                0.3333333333333333,
                "#9c179e"
               ],
               [
                0.4444444444444444,
                "#bd3786"
               ],
               [
                0.5555555555555556,
                "#d8576b"
               ],
               [
                0.6666666666666666,
                "#ed7953"
               ],
               [
                0.7777777777777778,
                "#fb9f3a"
               ],
               [
                0.8888888888888888,
                "#fdca26"
               ],
               [
                1,
                "#f0f921"
               ]
              ],
              "type": "heatmap"
             }
            ],
            "heatmapgl": [
             {
              "colorbar": {
               "outlinewidth": 0,
               "ticks": ""
              },
              "colorscale": [
               [
                0,
                "#0d0887"
               ],
               [
                0.1111111111111111,
                "#46039f"
               ],
               [
                0.2222222222222222,
                "#7201a8"
               ],
               [
                0.3333333333333333,
                "#9c179e"
               ],
               [
                0.4444444444444444,
                "#bd3786"
               ],
               [
                0.5555555555555556,
                "#d8576b"
               ],
               [
                0.6666666666666666,
                "#ed7953"
               ],
               [
                0.7777777777777778,
                "#fb9f3a"
               ],
               [
                0.8888888888888888,
                "#fdca26"
               ],
               [
                1,
                "#f0f921"
               ]
              ],
              "type": "heatmapgl"
             }
            ],
            "histogram": [
             {
              "marker": {
               "pattern": {
                "fillmode": "overlay",
                "size": 10,
                "solidity": 0.2
               }
              },
              "type": "histogram"
             }
            ],
            "histogram2d": [
             {
              "colorbar": {
               "outlinewidth": 0,
               "ticks": ""
              },
              "colorscale": [
               [
                0,
                "#0d0887"
               ],
               [
                0.1111111111111111,
                "#46039f"
               ],
               [
                0.2222222222222222,
                "#7201a8"
               ],
               [
                0.3333333333333333,
                "#9c179e"
               ],
               [
                0.4444444444444444,
                "#bd3786"
               ],
               [
                0.5555555555555556,
                "#d8576b"
               ],
               [
                0.6666666666666666,
                "#ed7953"
               ],
               [
                0.7777777777777778,
                "#fb9f3a"
               ],
               [
                0.8888888888888888,
                "#fdca26"
               ],
               [
                1,
                "#f0f921"
               ]
              ],
              "type": "histogram2d"
             }
            ],
            "histogram2dcontour": [
             {
              "colorbar": {
               "outlinewidth": 0,
               "ticks": ""
              },
              "colorscale": [
               [
                0,
                "#0d0887"
               ],
               [
                0.1111111111111111,
                "#46039f"
               ],
               [
                0.2222222222222222,
                "#7201a8"
               ],
               [
                0.3333333333333333,
                "#9c179e"
               ],
               [
                0.4444444444444444,
                "#bd3786"
               ],
               [
                0.5555555555555556,
                "#d8576b"
               ],
               [
                0.6666666666666666,
                "#ed7953"
               ],
               [
                0.7777777777777778,
                "#fb9f3a"
               ],
               [
                0.8888888888888888,
                "#fdca26"
               ],
               [
                1,
                "#f0f921"
               ]
              ],
              "type": "histogram2dcontour"
             }
            ],
            "mesh3d": [
             {
              "colorbar": {
               "outlinewidth": 0,
               "ticks": ""
              },
              "type": "mesh3d"
             }
            ],
            "parcoords": [
             {
              "line": {
               "colorbar": {
                "outlinewidth": 0,
                "ticks": ""
               }
              },
              "type": "parcoords"
             }
            ],
            "pie": [
             {
              "automargin": true,
              "type": "pie"
             }
            ],
            "scatter": [
             {
              "fillpattern": {
               "fillmode": "overlay",
               "size": 10,
               "solidity": 0.2
              },
              "type": "scatter"
             }
            ],
            "scatter3d": [
             {
              "line": {
               "colorbar": {
                "outlinewidth": 0,
                "ticks": ""
               }
              },
              "marker": {
               "colorbar": {
                "outlinewidth": 0,
                "ticks": ""
               }
              },
              "type": "scatter3d"
             }
            ],
            "scattercarpet": [
             {
              "marker": {
               "colorbar": {
                "outlinewidth": 0,
                "ticks": ""
               }
              },
              "type": "scattercarpet"
             }
            ],
            "scattergeo": [
             {
              "marker": {
               "colorbar": {
                "outlinewidth": 0,
                "ticks": ""
               }
              },
              "type": "scattergeo"
             }
            ],
            "scattergl": [
             {
              "marker": {
               "colorbar": {
                "outlinewidth": 0,
                "ticks": ""
               }
              },
              "type": "scattergl"
             }
            ],
            "scattermapbox": [
             {
              "marker": {
               "colorbar": {
                "outlinewidth": 0,
                "ticks": ""
               }
              },
              "type": "scattermapbox"
             }
            ],
            "scatterpolar": [
             {
              "marker": {
               "colorbar": {
                "outlinewidth": 0,
                "ticks": ""
               }
              },
              "type": "scatterpolar"
             }
            ],
            "scatterpolargl": [
             {
              "marker": {
               "colorbar": {
                "outlinewidth": 0,
                "ticks": ""
               }
              },
              "type": "scatterpolargl"
             }
            ],
            "scatterternary": [
             {
              "marker": {
               "colorbar": {
                "outlinewidth": 0,
                "ticks": ""
               }
              },
              "type": "scatterternary"
             }
            ],
            "surface": [
             {
              "colorbar": {
               "outlinewidth": 0,
               "ticks": ""
              },
              "colorscale": [
               [
                0,
                "#0d0887"
               ],
               [
                0.1111111111111111,
                "#46039f"
               ],
               [
                0.2222222222222222,
                "#7201a8"
               ],
               [
                0.3333333333333333,
                "#9c179e"
               ],
               [
                0.4444444444444444,
                "#bd3786"
               ],
               [
                0.5555555555555556,
                "#d8576b"
               ],
               [
                0.6666666666666666,
                "#ed7953"
               ],
               [
                0.7777777777777778,
                "#fb9f3a"
               ],
               [
                0.8888888888888888,
                "#fdca26"
               ],
               [
                1,
                "#f0f921"
               ]
              ],
              "type": "surface"
             }
            ],
            "table": [
             {
              "cells": {
               "fill": {
                "color": "#EBF0F8"
               },
               "line": {
                "color": "white"
               }
              },
              "header": {
               "fill": {
                "color": "#C8D4E3"
               },
               "line": {
                "color": "white"
               }
              },
              "type": "table"
             }
            ]
           },
           "layout": {
            "annotationdefaults": {
             "arrowcolor": "#2a3f5f",
             "arrowhead": 0,
             "arrowwidth": 1
            },
            "autotypenumbers": "strict",
            "coloraxis": {
             "colorbar": {
              "outlinewidth": 0,
              "ticks": ""
             }
            },
            "colorscale": {
             "diverging": [
              [
               0,
               "#8e0152"
              ],
              [
               0.1,
               "#c51b7d"
              ],
              [
               0.2,
               "#de77ae"
              ],
              [
               0.3,
               "#f1b6da"
              ],
              [
               0.4,
               "#fde0ef"
              ],
              [
               0.5,
               "#f7f7f7"
              ],
              [
               0.6,
               "#e6f5d0"
              ],
              [
               0.7,
               "#b8e186"
              ],
              [
               0.8,
               "#7fbc41"
              ],
              [
               0.9,
               "#4d9221"
              ],
              [
               1,
               "#276419"
              ]
             ],
             "sequential": [
              [
               0,
               "#0d0887"
              ],
              [
               0.1111111111111111,
               "#46039f"
              ],
              [
               0.2222222222222222,
               "#7201a8"
              ],
              [
               0.3333333333333333,
               "#9c179e"
              ],
              [
               0.4444444444444444,
               "#bd3786"
              ],
              [
               0.5555555555555556,
               "#d8576b"
              ],
              [
               0.6666666666666666,
               "#ed7953"
              ],
              [
               0.7777777777777778,
               "#fb9f3a"
              ],
              [
               0.8888888888888888,
               "#fdca26"
              ],
              [
               1,
               "#f0f921"
              ]
             ],
             "sequentialminus": [
              [
               0,
               "#0d0887"
              ],
              [
               0.1111111111111111,
               "#46039f"
              ],
              [
               0.2222222222222222,
               "#7201a8"
              ],
              [
               0.3333333333333333,
               "#9c179e"
              ],
              [
               0.4444444444444444,
               "#bd3786"
              ],
              [
               0.5555555555555556,
               "#d8576b"
              ],
              [
               0.6666666666666666,
               "#ed7953"
              ],
              [
               0.7777777777777778,
               "#fb9f3a"
              ],
              [
               0.8888888888888888,
               "#fdca26"
              ],
              [
               1,
               "#f0f921"
              ]
             ]
            },
            "colorway": [
             "#636efa",
             "#EF553B",
             "#00cc96",
             "#ab63fa",
             "#FFA15A",
             "#19d3f3",
             "#FF6692",
             "#B6E880",
             "#FF97FF",
             "#FECB52"
            ],
            "font": {
             "color": "#2a3f5f"
            },
            "geo": {
             "bgcolor": "white",
             "lakecolor": "white",
             "landcolor": "white",
             "showlakes": true,
             "showland": true,
             "subunitcolor": "#C8D4E3"
            },
            "hoverlabel": {
             "align": "left"
            },
            "hovermode": "closest",
            "mapbox": {
             "style": "light"
            },
            "paper_bgcolor": "white",
            "plot_bgcolor": "white",
            "polar": {
             "angularaxis": {
              "gridcolor": "#EBF0F8",
              "linecolor": "#EBF0F8",
              "ticks": ""
             },
             "bgcolor": "white",
             "radialaxis": {
              "gridcolor": "#EBF0F8",
              "linecolor": "#EBF0F8",
              "ticks": ""
             }
            },
            "scene": {
             "xaxis": {
              "backgroundcolor": "white",
              "gridcolor": "#DFE8F3",
              "gridwidth": 2,
              "linecolor": "#EBF0F8",
              "showbackground": true,
              "ticks": "",
              "zerolinecolor": "#EBF0F8"
             },
             "yaxis": {
              "backgroundcolor": "white",
              "gridcolor": "#DFE8F3",
              "gridwidth": 2,
              "linecolor": "#EBF0F8",
              "showbackground": true,
              "ticks": "",
              "zerolinecolor": "#EBF0F8"
             },
             "zaxis": {
              "backgroundcolor": "white",
              "gridcolor": "#DFE8F3",
              "gridwidth": 2,
              "linecolor": "#EBF0F8",
              "showbackground": true,
              "ticks": "",
              "zerolinecolor": "#EBF0F8"
             }
            },
            "shapedefaults": {
             "line": {
              "color": "#2a3f5f"
             }
            },
            "ternary": {
             "aaxis": {
              "gridcolor": "#DFE8F3",
              "linecolor": "#A2B1C6",
              "ticks": ""
             },
             "baxis": {
              "gridcolor": "#DFE8F3",
              "linecolor": "#A2B1C6",
              "ticks": ""
             },
             "bgcolor": "white",
             "caxis": {
              "gridcolor": "#DFE8F3",
              "linecolor": "#A2B1C6",
              "ticks": ""
             }
            },
            "title": {
             "x": 0.05
            },
            "xaxis": {
             "automargin": true,
             "gridcolor": "#EBF0F8",
             "linecolor": "#EBF0F8",
             "ticks": "",
             "title": {
              "standoff": 15
             },
             "zerolinecolor": "#EBF0F8",
             "zerolinewidth": 2
            },
            "yaxis": {
             "automargin": true,
             "gridcolor": "#EBF0F8",
             "linecolor": "#EBF0F8",
             "ticks": "",
             "title": {
              "standoff": 15
             },
             "zerolinecolor": "#EBF0F8",
             "zerolinewidth": 2
            }
           }
          },
          "xaxis": {
           "automargin": false,
           "linecolor": "#444",
           "linewidth": 2,
           "minor": {
            "tickmode": "linear",
            "ticks": "outside"
           },
           "mirror": true,
           "showline": true,
           "tickmode": "linear",
           "ticks": "outside",
           "zeroline": false
          },
          "yaxis": {
           "automargin": false,
           "linecolor": "#444",
           "linewidth": 2,
           "minor": {
            "tickmode": "linear",
            "ticks": "outside"
           },
           "mirror": true,
           "showline": true,
           "ticks": "outside",
           "zeroline": false
          }
         }
        },
        "width": 600,
        "xaxis": {
         "dtick": 10,
         "minor": {
          "dtick": 5,
          "tick0": 0
         },
         "range": [
          0,
          40
         ],
         "showspikes": true,
         "spikecolor": "black",
         "spikesnap": "cursor",
         "spikethickness": 1,
         "tick0": 0,
         "title": {
          "text": "mean"
         }
        },
        "yaxis": {
         "dtick": 2,
         "minor": {
          "dtick": 1,
          "tick0": 0
         },
         "range": [
          0,
          10
         ],
         "showspikes": true,
         "spikecolor": "black",
         "spikesnap": "cursor",
         "spikethickness": 1,
         "tick0": 0,
         "title": {
          "text": "standard deviation"
         }
        }
       }
      }
     },
     "metadata": {},
     "output_type": "display_data"
    }
   ],
   "source": [
    "# average damage vs variance\n",
    "# create figure\n",
    "fig = go.Figure(\n",
    "    layout=go.Layout(\n",
    "        template=tfb.FIG_TEMPLATE,\n",
    "        xaxis=dict(\n",
    "            title_text='mean',\n",
    "            range=[0, 40],\n",
    "            tick0=0, dtick=10,\n",
    "            minor=dict(tick0=0, dtick=5),\n",
    "            showspikes=True,\n",
    "            spikesnap='cursor',\n",
    "            spikecolor='black', \n",
    "            spikethickness=1,\n",
    "        ),\n",
    "        yaxis=dict(\n",
    "            title_text='standard deviation',\n",
    "            range=[0, 10],\n",
    "            tick0=0, dtick=2,\n",
    "            minor=dict(tick0=0, dtick=1),\n",
    "            showspikes=True,\n",
    "            spikesnap='cursor',\n",
    "            spikecolor='black', \n",
    "            spikethickness=1,\n",
    "            #tickformat='0.1f',\n",
    "        ),\n",
    "        legend=dict(\n",
    "            xanchor='left', yanchor='top',\n",
    "            x=0.00, y=1.00,\n",
    "            orientation='v',\n",
    "            tracegroupgap=0,\n",
    "        ),\n",
    "    )\n",
    ")\n",
    "\n",
    "for cv in [0.1,0.2,0.4,0.6]:\n",
    "    angle = np.arctan(cv)\n",
    "    r = [0,15,32,60]\n",
    "    text = [''] + 2*[f'{cv:.2f}'] + ['']\n",
    "    b = 10\n",
    "    a = 40\n",
    "    rp = (np.array(r)/40)*a*b/np.sqrt((b*np.cos(angle))**2 + (a*np.sin(angle))**2)\n",
    "    xp = rp*np.cos(angle)\n",
    "    yp = rp*np.sin(angle)\n",
    "    fig.add_trace(go.Scatter(\n",
    "        x=xp, \n",
    "        y=yp,\n",
    "        name=f'CV {cv:.2f}',\n",
    "        mode='lines+text',\n",
    "        line=dict(dash='dashdot', color='black', width=1),\n",
    "        showlegend=False,\n",
    "        hoverinfo='skip',\n",
    "    ))\n",
    "    fig.add_annotation(\n",
    "        x=xp[2], \n",
    "        y=yp[2],\n",
    "        showarrow=False,\n",
    "        text=f'{cv:.2f}',\n",
    "        bgcolor='white',\n",
    "    )\n",
    "\n",
    "for d, s in zip([4,6,8,10,12],['triangle-up','square','diamond','pentagon','hexagon']):\n",
    "    x = []\n",
    "    y = []\n",
    "    t = []\n",
    "    ht = []\n",
    "    for n in range(1, 20):\n",
    "        deq = f'{n}d{d}'\n",
    "        roll = Dice_Roller(deq).value\n",
    "        x.append(roll.mean())\n",
    "        y.append(roll.sd())\n",
    "        t.append(deq)\n",
    "        ht.append(f'{deq}<br>mean {roll.mean():.2f}<br>std dev {roll.sd():.2f}<br>CV {roll.sd()/roll.mean():.2f}')\n",
    "\n",
    "    fig.add_trace(go.Scatter(\n",
    "        #x=np.array(roll.outcomes()), \n",
    "        #y=np.array(roll.probabilities()),\n",
    "        x=x,\n",
    "        y=y,\n",
    "        name=f'd{d}',\n",
    "        mode='markers+lines',\n",
    "        hoverinfo='text',\n",
    "        hovertext=ht,\n",
    "        marker=dict(size=10, symbol=s, line=dict(width=1, color='black')),\n",
    "    ))\n",
    "\n",
    "# show figure\n",
    "fig.update_layout(width=600, height=500)\n",
    "fig.show(config=tfb.FIG_CONFIG)\n",
    "\n",
    "# save figures\n",
    "if SAVEFIGS:\n",
    "    fig.update_layout(autosize=True, width=None, height=None)\n",
    "    tfb.save_fig_html(fig, format='large', name=f'./fig-cv-die-sigma-vs-mean-large', style='aspect-ratio:600/500;')\n",
    "    tfb.save_fig_html(fig, format='small', name=f'./fig-cv-die-sigma-vs-mean-small', style='aspect-ratio:600/500;')"
   ]
  },
  {
   "cell_type": "code",
   "execution_count": 53,
   "metadata": {},
   "outputs": [
    {
     "data": {
      "application/vnd.plotly.v1+json": {
       "config": {
        "autosizable": true,
        "displayModeBar": "hover",
        "displaylogo": false,
        "modeBarButtonsToRemove": [
         "select2d",
         "lasso2d",
         "zoom2d",
         "zoomIn2d",
         "zoomOut2d",
         "pan2d",
         "autoScale2d",
         "hoverClosestCartesian",
         "hoverCompareCartesian",
         "toggleSpikelines",
         "resetScale2d"
        ],
        "plotlyServerURL": "https://plot.ly",
        "responsive": true,
        "showAxisDragHandles": false,
        "toImageButtonOptions": {
         "filename": "tfb-plot",
         "format": "png",
         "height": 450,
         "scale": 2,
         "width": 600
        }
       },
       "data": [
        {
         "fill": "tozeroy",
         "hovertemplate": "<b>1d10 + 10</b><br>result %{x:.0f}<br>probability %{y:,.1%}<extra></extra>",
         "line": {
          "shape": "hvh"
         },
         "mode": "lines",
         "name": "1d10 + 10 (mean 15.5, std dev 2.9)",
         "type": "scatter",
         "x": [
          0,
          1,
          2,
          3,
          4,
          5,
          6,
          7,
          8,
          9,
          10,
          11,
          12,
          13,
          14,
          15,
          16,
          17,
          18,
          19,
          20,
          21,
          22,
          23,
          24,
          25,
          26,
          27,
          28,
          29
         ],
         "y": [
          0,
          0,
          0,
          0,
          0,
          0,
          0,
          0,
          0,
          0,
          0,
          0.1,
          0.1,
          0.1,
          0.1,
          0.1,
          0.1,
          0.1,
          0.1,
          0.1,
          0.1,
          0,
          0,
          0,
          0,
          0,
          0,
          0,
          0,
          0
         ]
        },
        {
         "fill": "tozeroy",
         "hovertemplate": "<b>3d6 + 5</b><br>result %{x:.0f}<br>probability %{y:,.1%}<extra></extra>",
         "line": {
          "shape": "hvh"
         },
         "mode": "lines",
         "name": "3d6 + 5 (mean 15.5, std dev 3.0)",
         "type": "scatter",
         "x": [
          0,
          1,
          2,
          3,
          4,
          5,
          6,
          7,
          8,
          9,
          10,
          11,
          12,
          13,
          14,
          15,
          16,
          17,
          18,
          19,
          20,
          21,
          22,
          23,
          24,
          25,
          26,
          27,
          28,
          29
         ],
         "y": [
          0,
          0,
          0,
          0,
          0,
          0,
          0,
          0,
          0.004629629629629629,
          0.013888888888888888,
          0.027777777777777776,
          0.046296296296296294,
          0.06944444444444445,
          0.09722222222222222,
          0.11574074074074074,
          0.125,
          0.125,
          0.11574074074074074,
          0.09722222222222222,
          0.06944444444444445,
          0.046296296296296294,
          0.027777777777777776,
          0.013888888888888888,
          0.004629629629629629,
          0,
          0,
          0,
          0,
          0,
          0
         ]
        }
       ],
       "layout": {
        "barmode": "group",
        "height": 450,
        "legend": {
         "orientation": "v",
         "tracegroupgap": 0,
         "x": 0,
         "xanchor": "left",
         "y": 1,
         "yanchor": "top"
        },
        "template": {
         "layout": {
          "autosize": false,
          "font": {
           "family": "sans-serif",
           "size": 14
          },
          "hoverlabel": {
           "align": "left"
          },
          "hovermode": "closest",
          "margin": {
           "b": 55,
           "l": 60,
           "pad": 4,
           "r": 25,
           "t": 20
          },
          "template": {
           "data": {
            "bar": [
             {
              "error_x": {
               "color": "#2a3f5f"
              },
              "error_y": {
               "color": "#2a3f5f"
              },
              "marker": {
               "line": {
                "color": "white",
                "width": 0.5
               },
               "pattern": {
                "fillmode": "overlay",
                "size": 10,
                "solidity": 0.2
               }
              },
              "type": "bar"
             }
            ],
            "barpolar": [
             {
              "marker": {
               "line": {
                "color": "white",
                "width": 0.5
               },
               "pattern": {
                "fillmode": "overlay",
                "size": 10,
                "solidity": 0.2
               }
              },
              "type": "barpolar"
             }
            ],
            "carpet": [
             {
              "aaxis": {
               "endlinecolor": "#2a3f5f",
               "gridcolor": "#C8D4E3",
               "linecolor": "#C8D4E3",
               "minorgridcolor": "#C8D4E3",
               "startlinecolor": "#2a3f5f"
              },
              "baxis": {
               "endlinecolor": "#2a3f5f",
               "gridcolor": "#C8D4E3",
               "linecolor": "#C8D4E3",
               "minorgridcolor": "#C8D4E3",
               "startlinecolor": "#2a3f5f"
              },
              "type": "carpet"
             }
            ],
            "choropleth": [
             {
              "colorbar": {
               "outlinewidth": 0,
               "ticks": ""
              },
              "type": "choropleth"
             }
            ],
            "contour": [
             {
              "colorbar": {
               "outlinewidth": 0,
               "ticks": ""
              },
              "colorscale": [
               [
                0,
                "#0d0887"
               ],
               [
                0.1111111111111111,
                "#46039f"
               ],
               [
                0.2222222222222222,
                "#7201a8"
               ],
               [
                0.3333333333333333,
                "#9c179e"
               ],
               [
                0.4444444444444444,
                "#bd3786"
               ],
               [
                0.5555555555555556,
                "#d8576b"
               ],
               [
                0.6666666666666666,
                "#ed7953"
               ],
               [
                0.7777777777777778,
                "#fb9f3a"
               ],
               [
                0.8888888888888888,
                "#fdca26"
               ],
               [
                1,
                "#f0f921"
               ]
              ],
              "type": "contour"
             }
            ],
            "contourcarpet": [
             {
              "colorbar": {
               "outlinewidth": 0,
               "ticks": ""
              },
              "type": "contourcarpet"
             }
            ],
            "heatmap": [
             {
              "colorbar": {
               "outlinewidth": 0,
               "ticks": ""
              },
              "colorscale": [
               [
                0,
                "#0d0887"
               ],
               [
                0.1111111111111111,
                "#46039f"
               ],
               [
                0.2222222222222222,
                "#7201a8"
               ],
               [
                0.3333333333333333,
                "#9c179e"
               ],
               [
                0.4444444444444444,
                "#bd3786"
               ],
               [
                0.5555555555555556,
                "#d8576b"
               ],
               [
                0.6666666666666666,
                "#ed7953"
               ],
               [
                0.7777777777777778,
                "#fb9f3a"
               ],
               [
                0.8888888888888888,
                "#fdca26"
               ],
               [
                1,
                "#f0f921"
               ]
              ],
              "type": "heatmap"
             }
            ],
            "heatmapgl": [
             {
              "colorbar": {
               "outlinewidth": 0,
               "ticks": ""
              },
              "colorscale": [
               [
                0,
                "#0d0887"
               ],
               [
                0.1111111111111111,
                "#46039f"
               ],
               [
                0.2222222222222222,
                "#7201a8"
               ],
               [
                0.3333333333333333,
                "#9c179e"
               ],
               [
                0.4444444444444444,
                "#bd3786"
               ],
               [
                0.5555555555555556,
                "#d8576b"
               ],
               [
                0.6666666666666666,
                "#ed7953"
               ],
               [
                0.7777777777777778,
                "#fb9f3a"
               ],
               [
                0.8888888888888888,
                "#fdca26"
               ],
               [
                1,
                "#f0f921"
               ]
              ],
              "type": "heatmapgl"
             }
            ],
            "histogram": [
             {
              "marker": {
               "pattern": {
                "fillmode": "overlay",
                "size": 10,
                "solidity": 0.2
               }
              },
              "type": "histogram"
             }
            ],
            "histogram2d": [
             {
              "colorbar": {
               "outlinewidth": 0,
               "ticks": ""
              },
              "colorscale": [
               [
                0,
                "#0d0887"
               ],
               [
                0.1111111111111111,
                "#46039f"
               ],
               [
                0.2222222222222222,
                "#7201a8"
               ],
               [
                0.3333333333333333,
                "#9c179e"
               ],
               [
                0.4444444444444444,
                "#bd3786"
               ],
               [
                0.5555555555555556,
                "#d8576b"
               ],
               [
                0.6666666666666666,
                "#ed7953"
               ],
               [
                0.7777777777777778,
                "#fb9f3a"
               ],
               [
                0.8888888888888888,
                "#fdca26"
               ],
               [
                1,
                "#f0f921"
               ]
              ],
              "type": "histogram2d"
             }
            ],
            "histogram2dcontour": [
             {
              "colorbar": {
               "outlinewidth": 0,
               "ticks": ""
              },
              "colorscale": [
               [
                0,
                "#0d0887"
               ],
               [
                0.1111111111111111,
                "#46039f"
               ],
               [
                0.2222222222222222,
                "#7201a8"
               ],
               [
                0.3333333333333333,
                "#9c179e"
               ],
               [
                0.4444444444444444,
                "#bd3786"
               ],
               [
                0.5555555555555556,
                "#d8576b"
               ],
               [
                0.6666666666666666,
                "#ed7953"
               ],
               [
                0.7777777777777778,
                "#fb9f3a"
               ],
               [
                0.8888888888888888,
                "#fdca26"
               ],
               [
                1,
                "#f0f921"
               ]
              ],
              "type": "histogram2dcontour"
             }
            ],
            "mesh3d": [
             {
              "colorbar": {
               "outlinewidth": 0,
               "ticks": ""
              },
              "type": "mesh3d"
             }
            ],
            "parcoords": [
             {
              "line": {
               "colorbar": {
                "outlinewidth": 0,
                "ticks": ""
               }
              },
              "type": "parcoords"
             }
            ],
            "pie": [
             {
              "automargin": true,
              "type": "pie"
             }
            ],
            "scatter": [
             {
              "fillpattern": {
               "fillmode": "overlay",
               "size": 10,
               "solidity": 0.2
              },
              "type": "scatter"
             }
            ],
            "scatter3d": [
             {
              "line": {
               "colorbar": {
                "outlinewidth": 0,
                "ticks": ""
               }
              },
              "marker": {
               "colorbar": {
                "outlinewidth": 0,
                "ticks": ""
               }
              },
              "type": "scatter3d"
             }
            ],
            "scattercarpet": [
             {
              "marker": {
               "colorbar": {
                "outlinewidth": 0,
                "ticks": ""
               }
              },
              "type": "scattercarpet"
             }
            ],
            "scattergeo": [
             {
              "marker": {
               "colorbar": {
                "outlinewidth": 0,
                "ticks": ""
               }
              },
              "type": "scattergeo"
             }
            ],
            "scattergl": [
             {
              "marker": {
               "colorbar": {
                "outlinewidth": 0,
                "ticks": ""
               }
              },
              "type": "scattergl"
             }
            ],
            "scattermapbox": [
             {
              "marker": {
               "colorbar": {
                "outlinewidth": 0,
                "ticks": ""
               }
              },
              "type": "scattermapbox"
             }
            ],
            "scatterpolar": [
             {
              "marker": {
               "colorbar": {
                "outlinewidth": 0,
                "ticks": ""
               }
              },
              "type": "scatterpolar"
             }
            ],
            "scatterpolargl": [
             {
              "marker": {
               "colorbar": {
                "outlinewidth": 0,
                "ticks": ""
               }
              },
              "type": "scatterpolargl"
             }
            ],
            "scatterternary": [
             {
              "marker": {
               "colorbar": {
                "outlinewidth": 0,
                "ticks": ""
               }
              },
              "type": "scatterternary"
             }
            ],
            "surface": [
             {
              "colorbar": {
               "outlinewidth": 0,
               "ticks": ""
              },
              "colorscale": [
               [
                0,
                "#0d0887"
               ],
               [
                0.1111111111111111,
                "#46039f"
               ],
               [
                0.2222222222222222,
                "#7201a8"
               ],
               [
                0.3333333333333333,
                "#9c179e"
               ],
               [
                0.4444444444444444,
                "#bd3786"
               ],
               [
                0.5555555555555556,
                "#d8576b"
               ],
               [
                0.6666666666666666,
                "#ed7953"
               ],
               [
                0.7777777777777778,
                "#fb9f3a"
               ],
               [
                0.8888888888888888,
                "#fdca26"
               ],
               [
                1,
                "#f0f921"
               ]
              ],
              "type": "surface"
             }
            ],
            "table": [
             {
              "cells": {
               "fill": {
                "color": "#EBF0F8"
               },
               "line": {
                "color": "white"
               }
              },
              "header": {
               "fill": {
                "color": "#C8D4E3"
               },
               "line": {
                "color": "white"
               }
              },
              "type": "table"
             }
            ]
           },
           "layout": {
            "annotationdefaults": {
             "arrowcolor": "#2a3f5f",
             "arrowhead": 0,
             "arrowwidth": 1
            },
            "autotypenumbers": "strict",
            "coloraxis": {
             "colorbar": {
              "outlinewidth": 0,
              "ticks": ""
             }
            },
            "colorscale": {
             "diverging": [
              [
               0,
               "#8e0152"
              ],
              [
               0.1,
               "#c51b7d"
              ],
              [
               0.2,
               "#de77ae"
              ],
              [
               0.3,
               "#f1b6da"
              ],
              [
               0.4,
               "#fde0ef"
              ],
              [
               0.5,
               "#f7f7f7"
              ],
              [
               0.6,
               "#e6f5d0"
              ],
              [
               0.7,
               "#b8e186"
              ],
              [
               0.8,
               "#7fbc41"
              ],
              [
               0.9,
               "#4d9221"
              ],
              [
               1,
               "#276419"
              ]
             ],
             "sequential": [
              [
               0,
               "#0d0887"
              ],
              [
               0.1111111111111111,
               "#46039f"
              ],
              [
               0.2222222222222222,
               "#7201a8"
              ],
              [
               0.3333333333333333,
               "#9c179e"
              ],
              [
               0.4444444444444444,
               "#bd3786"
              ],
              [
               0.5555555555555556,
               "#d8576b"
              ],
              [
               0.6666666666666666,
               "#ed7953"
              ],
              [
               0.7777777777777778,
               "#fb9f3a"
              ],
              [
               0.8888888888888888,
               "#fdca26"
              ],
              [
               1,
               "#f0f921"
              ]
             ],
             "sequentialminus": [
              [
               0,
               "#0d0887"
              ],
              [
               0.1111111111111111,
               "#46039f"
              ],
              [
               0.2222222222222222,
               "#7201a8"
              ],
              [
               0.3333333333333333,
               "#9c179e"
              ],
              [
               0.4444444444444444,
               "#bd3786"
              ],
              [
               0.5555555555555556,
               "#d8576b"
              ],
              [
               0.6666666666666666,
               "#ed7953"
              ],
              [
               0.7777777777777778,
               "#fb9f3a"
              ],
              [
               0.8888888888888888,
               "#fdca26"
              ],
              [
               1,
               "#f0f921"
              ]
             ]
            },
            "colorway": [
             "#636efa",
             "#EF553B",
             "#00cc96",
             "#ab63fa",
             "#FFA15A",
             "#19d3f3",
             "#FF6692",
             "#B6E880",
             "#FF97FF",
             "#FECB52"
            ],
            "font": {
             "color": "#2a3f5f"
            },
            "geo": {
             "bgcolor": "white",
             "lakecolor": "white",
             "landcolor": "white",
             "showlakes": true,
             "showland": true,
             "subunitcolor": "#C8D4E3"
            },
            "hoverlabel": {
             "align": "left"
            },
            "hovermode": "closest",
            "mapbox": {
             "style": "light"
            },
            "paper_bgcolor": "white",
            "plot_bgcolor": "white",
            "polar": {
             "angularaxis": {
              "gridcolor": "#EBF0F8",
              "linecolor": "#EBF0F8",
              "ticks": ""
             },
             "bgcolor": "white",
             "radialaxis": {
              "gridcolor": "#EBF0F8",
              "linecolor": "#EBF0F8",
              "ticks": ""
             }
            },
            "scene": {
             "xaxis": {
              "backgroundcolor": "white",
              "gridcolor": "#DFE8F3",
              "gridwidth": 2,
              "linecolor": "#EBF0F8",
              "showbackground": true,
              "ticks": "",
              "zerolinecolor": "#EBF0F8"
             },
             "yaxis": {
              "backgroundcolor": "white",
              "gridcolor": "#DFE8F3",
              "gridwidth": 2,
              "linecolor": "#EBF0F8",
              "showbackground": true,
              "ticks": "",
              "zerolinecolor": "#EBF0F8"
             },
             "zaxis": {
              "backgroundcolor": "white",
              "gridcolor": "#DFE8F3",
              "gridwidth": 2,
              "linecolor": "#EBF0F8",
              "showbackground": true,
              "ticks": "",
              "zerolinecolor": "#EBF0F8"
             }
            },
            "shapedefaults": {
             "line": {
              "color": "#2a3f5f"
             }
            },
            "ternary": {
             "aaxis": {
              "gridcolor": "#DFE8F3",
              "linecolor": "#A2B1C6",
              "ticks": ""
             },
             "baxis": {
              "gridcolor": "#DFE8F3",
              "linecolor": "#A2B1C6",
              "ticks": ""
             },
             "bgcolor": "white",
             "caxis": {
              "gridcolor": "#DFE8F3",
              "linecolor": "#A2B1C6",
              "ticks": ""
             }
            },
            "title": {
             "x": 0.05
            },
            "xaxis": {
             "automargin": true,
             "gridcolor": "#EBF0F8",
             "linecolor": "#EBF0F8",
             "ticks": "",
             "title": {
              "standoff": 15
             },
             "zerolinecolor": "#EBF0F8",
             "zerolinewidth": 2
            },
            "yaxis": {
             "automargin": true,
             "gridcolor": "#EBF0F8",
             "linecolor": "#EBF0F8",
             "ticks": "",
             "title": {
              "standoff": 15
             },
             "zerolinecolor": "#EBF0F8",
             "zerolinewidth": 2
            }
           }
          },
          "xaxis": {
           "automargin": false,
           "linecolor": "#444",
           "linewidth": 2,
           "minor": {
            "tickmode": "linear",
            "ticks": "outside"
           },
           "mirror": true,
           "showline": true,
           "tickmode": "linear",
           "ticks": "outside",
           "zeroline": false
          },
          "yaxis": {
           "automargin": false,
           "linecolor": "#444",
           "linewidth": 2,
           "minor": {
            "tickmode": "linear",
            "ticks": "outside"
           },
           "mirror": true,
           "showline": true,
           "ticks": "outside",
           "zeroline": false
          }
         }
        },
        "width": 600,
        "xaxis": {
         "dtick": 5,
         "minor": {
          "dtick": 1,
          "tick0": 0
         },
         "range": [
          0,
          25
         ],
         "tick0": 0,
         "title": {
          "text": "value"
         }
        },
        "yaxis": {
         "range": [
          -0.002,
          0.18
         ],
         "tickformat": "0.0%",
         "title": {
          "text": "probability"
         }
        }
       }
      }
     },
     "metadata": {},
     "output_type": "display_data"
    }
   ],
   "source": [
    "# Compares the probability distribution of 4d4 + 1 and 2d8 + 2\n",
    "\n",
    "# create figure\n",
    "fig = go.Figure(\n",
    "    layout=go.Layout(\n",
    "        template=tfb.FIG_TEMPLATE,\n",
    "        xaxis=dict(\n",
    "            title_text='value',\n",
    "            range=[0,25],\n",
    "            tick0=0, dtick=5,\n",
    "            minor=dict(tick0=0, dtick=1),\n",
    "        ),\n",
    "        yaxis=dict(\n",
    "            range=[-0.002,0.18],\n",
    "            title_text='probability',\n",
    "            tickformat='0.0%',\n",
    "        ),\n",
    "        legend=dict(\n",
    "            xanchor='left', yanchor='top',\n",
    "            x=0.00, y=1.00,\n",
    "            orientation='v',\n",
    "            tracegroupgap=0,\n",
    "        )\n",
    "    )\n",
    ")\n",
    "\n",
    "def guassian(x, m, s):\n",
    "    return (1/(s*np.sqrt(2*np.pi)))*np.exp(-0.5*((x - m)/s)**2)\n",
    "\n",
    "# one attacks\n",
    "x_list = list(range(30))\n",
    "for deq in ['1d10 + 10','3d6 + 5']:\n",
    "    roll = Dice_Roller(deq).value\n",
    "    fig.add_trace(go.Scatter(\n",
    "        x=np.array(x_list),\n",
    "        y=np.array([roll.probability(x) for x in x_list]),\n",
    "        name=f'{deq} (mean {roll.mean():.1f}, std dev {roll.sd():.1f})',\n",
    "        mode='lines',\n",
    "        line_shape='hvh',\n",
    "        fill='tozeroy',\n",
    "        hovertemplate=\n",
    "            '<b>'+deq+'</b><br>'+\n",
    "            'result %{x:.0f}<br>'+\n",
    "            'probability %{y:,.1%}' + \n",
    "            '<extra></extra>'\n",
    "    ))\n",
    "\n",
    "    \"\"\"fig.add_trace(go.Scatter(\n",
    "        x=np.array(x_list),\n",
    "        y=guassian(np.array(x_list), roll.mean(), roll.sd()),\n",
    "        mode='lines',\n",
    "    ))\"\"\"\n",
    "\n",
    "# show figure\n",
    "fig.update_layout(width=600, height=450, barmode='group')\n",
    "fig.show(config=tfb.FIG_CONFIG)\n",
    "\n",
    "# save figures\n",
    "if SAVEFIGS:\n",
    "    fig.update_layout(autosize=True, width=None, height=None)\n",
    "    tfb.save_fig_html(fig, format='large', name=f'./fig-damage-roll-example-large')\n",
    "    tfb.save_fig_html(fig, format='small', name=f'./fig-damage-roll-example-small')"
   ]
  },
  {
   "cell_type": "code",
   "execution_count": 54,
   "metadata": {},
   "outputs": [
    {
     "data": {
      "application/vnd.plotly.v1+json": {
       "config": {
        "autosizable": true,
        "displayModeBar": "hover",
        "displaylogo": false,
        "modeBarButtonsToRemove": [
         "select2d",
         "lasso2d",
         "zoom2d",
         "zoomIn2d",
         "zoomOut2d",
         "pan2d",
         "autoScale2d",
         "hoverClosestCartesian",
         "hoverCompareCartesian",
         "toggleSpikelines",
         "resetScale2d"
        ],
        "plotlyServerURL": "https://plot.ly",
        "responsive": true,
        "showAxisDragHandles": false,
        "toImageButtonOptions": {
         "filename": "tfb-plot",
         "format": "png",
         "height": 450,
         "scale": 2,
         "width": 600
        }
       },
       "data": [
        {
         "customdata": [
          8.351190567016602,
          10.411255836486816,
          11.33920669555664,
          14.170940399169922,
          15.25120735168457,
          17.160377502441406,
          16.386598587036133,
          24.160377502441406,
          22.765432357788086,
          23.460525512695312,
          25.058822631835938,
          27.1875,
          31.564516067504883,
          33.89130401611328,
          33.568180084228516,
          30.91666603088379,
          33.79166793823242,
          28.45833396911621,
          34,
          38.41666793823242,
          44.900001525878906,
          28.299999237060547,
          32.64285659790039,
          42.400001525878906,
          65,
          40.91666793823242,
          49.099998474121094
         ],
         "hovertemplate": "CR %{x:.0f}<br>CV %{y:,.2f}<br>damage %{customdata:,.1f}<extra></extra>",
         "mode": "markers+lines",
         "name": "monsters",
         "type": "scatter",
         "x": [
          1,
          2,
          3,
          4,
          5,
          6,
          7,
          8,
          9,
          10,
          11,
          12,
          13,
          14,
          15,
          16,
          17,
          18,
          19,
          20,
          21,
          22,
          23,
          24,
          25,
          26,
          27
         ],
         "y": [
          0.28667396306991577,
          0.266324907541275,
          0.25850287079811096,
          0.24471700191497803,
          0.231968954205513,
          0.23998261988162994,
          0.23965072631835938,
          0.21824505925178528,
          0.21704240143299103,
          0.20460720360279083,
          0.19595207273960114,
          0.20021824538707733,
          0.19576303660869598,
          0.16182997822761536,
          0.17272697389125824,
          0.1913733333349228,
          0.1887672394514084,
          0.1709909588098526,
          0.18146272003650665,
          0.1262398213148117,
          0.19387508928775787,
          0.19553592801094055,
          0.17593638598918915,
          0.16379711031913757,
          0.13896898925304413,
          0.15922731161117554,
          0.16069114208221436
         ]
        }
       ],
       "layout": {
        "barmode": "group",
        "height": 450,
        "legend": {
         "orientation": "v",
         "tracegroupgap": 0,
         "x": 0,
         "xanchor": "left",
         "y": 1,
         "yanchor": "top"
        },
        "template": {
         "layout": {
          "autosize": false,
          "font": {
           "family": "sans-serif",
           "size": 14
          },
          "hoverlabel": {
           "align": "left"
          },
          "hovermode": "closest",
          "margin": {
           "b": 55,
           "l": 60,
           "pad": 4,
           "r": 25,
           "t": 20
          },
          "template": {
           "data": {
            "bar": [
             {
              "error_x": {
               "color": "#2a3f5f"
              },
              "error_y": {
               "color": "#2a3f5f"
              },
              "marker": {
               "line": {
                "color": "white",
                "width": 0.5
               },
               "pattern": {
                "fillmode": "overlay",
                "size": 10,
                "solidity": 0.2
               }
              },
              "type": "bar"
             }
            ],
            "barpolar": [
             {
              "marker": {
               "line": {
                "color": "white",
                "width": 0.5
               },
               "pattern": {
                "fillmode": "overlay",
                "size": 10,
                "solidity": 0.2
               }
              },
              "type": "barpolar"
             }
            ],
            "carpet": [
             {
              "aaxis": {
               "endlinecolor": "#2a3f5f",
               "gridcolor": "#C8D4E3",
               "linecolor": "#C8D4E3",
               "minorgridcolor": "#C8D4E3",
               "startlinecolor": "#2a3f5f"
              },
              "baxis": {
               "endlinecolor": "#2a3f5f",
               "gridcolor": "#C8D4E3",
               "linecolor": "#C8D4E3",
               "minorgridcolor": "#C8D4E3",
               "startlinecolor": "#2a3f5f"
              },
              "type": "carpet"
             }
            ],
            "choropleth": [
             {
              "colorbar": {
               "outlinewidth": 0,
               "ticks": ""
              },
              "type": "choropleth"
             }
            ],
            "contour": [
             {
              "colorbar": {
               "outlinewidth": 0,
               "ticks": ""
              },
              "colorscale": [
               [
                0,
                "#0d0887"
               ],
               [
                0.1111111111111111,
                "#46039f"
               ],
               [
                0.2222222222222222,
                "#7201a8"
               ],
               [
                0.3333333333333333,
                "#9c179e"
               ],
               [
                0.4444444444444444,
                "#bd3786"
               ],
               [
                0.5555555555555556,
                "#d8576b"
               ],
               [
                0.6666666666666666,
                "#ed7953"
               ],
               [
                0.7777777777777778,
                "#fb9f3a"
               ],
               [
                0.8888888888888888,
                "#fdca26"
               ],
               [
                1,
                "#f0f921"
               ]
              ],
              "type": "contour"
             }
            ],
            "contourcarpet": [
             {
              "colorbar": {
               "outlinewidth": 0,
               "ticks": ""
              },
              "type": "contourcarpet"
             }
            ],
            "heatmap": [
             {
              "colorbar": {
               "outlinewidth": 0,
               "ticks": ""
              },
              "colorscale": [
               [
                0,
                "#0d0887"
               ],
               [
                0.1111111111111111,
                "#46039f"
               ],
               [
                0.2222222222222222,
                "#7201a8"
               ],
               [
                0.3333333333333333,
                "#9c179e"
               ],
               [
                0.4444444444444444,
                "#bd3786"
               ],
               [
                0.5555555555555556,
                "#d8576b"
               ],
               [
                0.6666666666666666,
                "#ed7953"
               ],
               [
                0.7777777777777778,
                "#fb9f3a"
               ],
               [
                0.8888888888888888,
                "#fdca26"
               ],
               [
                1,
                "#f0f921"
               ]
              ],
              "type": "heatmap"
             }
            ],
            "heatmapgl": [
             {
              "colorbar": {
               "outlinewidth": 0,
               "ticks": ""
              },
              "colorscale": [
               [
                0,
                "#0d0887"
               ],
               [
                0.1111111111111111,
                "#46039f"
               ],
               [
                0.2222222222222222,
                "#7201a8"
               ],
               [
                0.3333333333333333,
                "#9c179e"
               ],
               [
                0.4444444444444444,
                "#bd3786"
               ],
               [
                0.5555555555555556,
                "#d8576b"
               ],
               [
                0.6666666666666666,
                "#ed7953"
               ],
               [
                0.7777777777777778,
                "#fb9f3a"
               ],
               [
                0.8888888888888888,
                "#fdca26"
               ],
               [
                1,
                "#f0f921"
               ]
              ],
              "type": "heatmapgl"
             }
            ],
            "histogram": [
             {
              "marker": {
               "pattern": {
                "fillmode": "overlay",
                "size": 10,
                "solidity": 0.2
               }
              },
              "type": "histogram"
             }
            ],
            "histogram2d": [
             {
              "colorbar": {
               "outlinewidth": 0,
               "ticks": ""
              },
              "colorscale": [
               [
                0,
                "#0d0887"
               ],
               [
                0.1111111111111111,
                "#46039f"
               ],
               [
                0.2222222222222222,
                "#7201a8"
               ],
               [
                0.3333333333333333,
                "#9c179e"
               ],
               [
                0.4444444444444444,
                "#bd3786"
               ],
               [
                0.5555555555555556,
                "#d8576b"
               ],
               [
                0.6666666666666666,
                "#ed7953"
               ],
               [
                0.7777777777777778,
                "#fb9f3a"
               ],
               [
                0.8888888888888888,
                "#fdca26"
               ],
               [
                1,
                "#f0f921"
               ]
              ],
              "type": "histogram2d"
             }
            ],
            "histogram2dcontour": [
             {
              "colorbar": {
               "outlinewidth": 0,
               "ticks": ""
              },
              "colorscale": [
               [
                0,
                "#0d0887"
               ],
               [
                0.1111111111111111,
                "#46039f"
               ],
               [
                0.2222222222222222,
                "#7201a8"
               ],
               [
                0.3333333333333333,
                "#9c179e"
               ],
               [
                0.4444444444444444,
                "#bd3786"
               ],
               [
                0.5555555555555556,
                "#d8576b"
               ],
               [
                0.6666666666666666,
                "#ed7953"
               ],
               [
                0.7777777777777778,
                "#fb9f3a"
               ],
               [
                0.8888888888888888,
                "#fdca26"
               ],
               [
                1,
                "#f0f921"
               ]
              ],
              "type": "histogram2dcontour"
             }
            ],
            "mesh3d": [
             {
              "colorbar": {
               "outlinewidth": 0,
               "ticks": ""
              },
              "type": "mesh3d"
             }
            ],
            "parcoords": [
             {
              "line": {
               "colorbar": {
                "outlinewidth": 0,
                "ticks": ""
               }
              },
              "type": "parcoords"
             }
            ],
            "pie": [
             {
              "automargin": true,
              "type": "pie"
             }
            ],
            "scatter": [
             {
              "fillpattern": {
               "fillmode": "overlay",
               "size": 10,
               "solidity": 0.2
              },
              "type": "scatter"
             }
            ],
            "scatter3d": [
             {
              "line": {
               "colorbar": {
                "outlinewidth": 0,
                "ticks": ""
               }
              },
              "marker": {
               "colorbar": {
                "outlinewidth": 0,
                "ticks": ""
               }
              },
              "type": "scatter3d"
             }
            ],
            "scattercarpet": [
             {
              "marker": {
               "colorbar": {
                "outlinewidth": 0,
                "ticks": ""
               }
              },
              "type": "scattercarpet"
             }
            ],
            "scattergeo": [
             {
              "marker": {
               "colorbar": {
                "outlinewidth": 0,
                "ticks": ""
               }
              },
              "type": "scattergeo"
             }
            ],
            "scattergl": [
             {
              "marker": {
               "colorbar": {
                "outlinewidth": 0,
                "ticks": ""
               }
              },
              "type": "scattergl"
             }
            ],
            "scattermapbox": [
             {
              "marker": {
               "colorbar": {
                "outlinewidth": 0,
                "ticks": ""
               }
              },
              "type": "scattermapbox"
             }
            ],
            "scatterpolar": [
             {
              "marker": {
               "colorbar": {
                "outlinewidth": 0,
                "ticks": ""
               }
              },
              "type": "scatterpolar"
             }
            ],
            "scatterpolargl": [
             {
              "marker": {
               "colorbar": {
                "outlinewidth": 0,
                "ticks": ""
               }
              },
              "type": "scatterpolargl"
             }
            ],
            "scatterternary": [
             {
              "marker": {
               "colorbar": {
                "outlinewidth": 0,
                "ticks": ""
               }
              },
              "type": "scatterternary"
             }
            ],
            "surface": [
             {
              "colorbar": {
               "outlinewidth": 0,
               "ticks": ""
              },
              "colorscale": [
               [
                0,
                "#0d0887"
               ],
               [
                0.1111111111111111,
                "#46039f"
               ],
               [
                0.2222222222222222,
                "#7201a8"
               ],
               [
                0.3333333333333333,
                "#9c179e"
               ],
               [
                0.4444444444444444,
                "#bd3786"
               ],
               [
                0.5555555555555556,
                "#d8576b"
               ],
               [
                0.6666666666666666,
                "#ed7953"
               ],
               [
                0.7777777777777778,
                "#fb9f3a"
               ],
               [
                0.8888888888888888,
                "#fdca26"
               ],
               [
                1,
                "#f0f921"
               ]
              ],
              "type": "surface"
             }
            ],
            "table": [
             {
              "cells": {
               "fill": {
                "color": "#EBF0F8"
               },
               "line": {
                "color": "white"
               }
              },
              "header": {
               "fill": {
                "color": "#C8D4E3"
               },
               "line": {
                "color": "white"
               }
              },
              "type": "table"
             }
            ]
           },
           "layout": {
            "annotationdefaults": {
             "arrowcolor": "#2a3f5f",
             "arrowhead": 0,
             "arrowwidth": 1
            },
            "autotypenumbers": "strict",
            "coloraxis": {
             "colorbar": {
              "outlinewidth": 0,
              "ticks": ""
             }
            },
            "colorscale": {
             "diverging": [
              [
               0,
               "#8e0152"
              ],
              [
               0.1,
               "#c51b7d"
              ],
              [
               0.2,
               "#de77ae"
              ],
              [
               0.3,
               "#f1b6da"
              ],
              [
               0.4,
               "#fde0ef"
              ],
              [
               0.5,
               "#f7f7f7"
              ],
              [
               0.6,
               "#e6f5d0"
              ],
              [
               0.7,
               "#b8e186"
              ],
              [
               0.8,
               "#7fbc41"
              ],
              [
               0.9,
               "#4d9221"
              ],
              [
               1,
               "#276419"
              ]
             ],
             "sequential": [
              [
               0,
               "#0d0887"
              ],
              [
               0.1111111111111111,
               "#46039f"
              ],
              [
               0.2222222222222222,
               "#7201a8"
              ],
              [
               0.3333333333333333,
               "#9c179e"
              ],
              [
               0.4444444444444444,
               "#bd3786"
              ],
              [
               0.5555555555555556,
               "#d8576b"
              ],
              [
               0.6666666666666666,
               "#ed7953"
              ],
              [
               0.7777777777777778,
               "#fb9f3a"
              ],
              [
               0.8888888888888888,
               "#fdca26"
              ],
              [
               1,
               "#f0f921"
              ]
             ],
             "sequentialminus": [
              [
               0,
               "#0d0887"
              ],
              [
               0.1111111111111111,
               "#46039f"
              ],
              [
               0.2222222222222222,
               "#7201a8"
              ],
              [
               0.3333333333333333,
               "#9c179e"
              ],
              [
               0.4444444444444444,
               "#bd3786"
              ],
              [
               0.5555555555555556,
               "#d8576b"
              ],
              [
               0.6666666666666666,
               "#ed7953"
              ],
              [
               0.7777777777777778,
               "#fb9f3a"
              ],
              [
               0.8888888888888888,
               "#fdca26"
              ],
              [
               1,
               "#f0f921"
              ]
             ]
            },
            "colorway": [
             "#636efa",
             "#EF553B",
             "#00cc96",
             "#ab63fa",
             "#FFA15A",
             "#19d3f3",
             "#FF6692",
             "#B6E880",
             "#FF97FF",
             "#FECB52"
            ],
            "font": {
             "color": "#2a3f5f"
            },
            "geo": {
             "bgcolor": "white",
             "lakecolor": "white",
             "landcolor": "white",
             "showlakes": true,
             "showland": true,
             "subunitcolor": "#C8D4E3"
            },
            "hoverlabel": {
             "align": "left"
            },
            "hovermode": "closest",
            "mapbox": {
             "style": "light"
            },
            "paper_bgcolor": "white",
            "plot_bgcolor": "white",
            "polar": {
             "angularaxis": {
              "gridcolor": "#EBF0F8",
              "linecolor": "#EBF0F8",
              "ticks": ""
             },
             "bgcolor": "white",
             "radialaxis": {
              "gridcolor": "#EBF0F8",
              "linecolor": "#EBF0F8",
              "ticks": ""
             }
            },
            "scene": {
             "xaxis": {
              "backgroundcolor": "white",
              "gridcolor": "#DFE8F3",
              "gridwidth": 2,
              "linecolor": "#EBF0F8",
              "showbackground": true,
              "ticks": "",
              "zerolinecolor": "#EBF0F8"
             },
             "yaxis": {
              "backgroundcolor": "white",
              "gridcolor": "#DFE8F3",
              "gridwidth": 2,
              "linecolor": "#EBF0F8",
              "showbackground": true,
              "ticks": "",
              "zerolinecolor": "#EBF0F8"
             },
             "zaxis": {
              "backgroundcolor": "white",
              "gridcolor": "#DFE8F3",
              "gridwidth": 2,
              "linecolor": "#EBF0F8",
              "showbackground": true,
              "ticks": "",
              "zerolinecolor": "#EBF0F8"
             }
            },
            "shapedefaults": {
             "line": {
              "color": "#2a3f5f"
             }
            },
            "ternary": {
             "aaxis": {
              "gridcolor": "#DFE8F3",
              "linecolor": "#A2B1C6",
              "ticks": ""
             },
             "baxis": {
              "gridcolor": "#DFE8F3",
              "linecolor": "#A2B1C6",
              "ticks": ""
             },
             "bgcolor": "white",
             "caxis": {
              "gridcolor": "#DFE8F3",
              "linecolor": "#A2B1C6",
              "ticks": ""
             }
            },
            "title": {
             "x": 0.05
            },
            "xaxis": {
             "automargin": true,
             "gridcolor": "#EBF0F8",
             "linecolor": "#EBF0F8",
             "ticks": "",
             "title": {
              "standoff": 15
             },
             "zerolinecolor": "#EBF0F8",
             "zerolinewidth": 2
            },
            "yaxis": {
             "automargin": true,
             "gridcolor": "#EBF0F8",
             "linecolor": "#EBF0F8",
             "ticks": "",
             "title": {
              "standoff": 15
             },
             "zerolinecolor": "#EBF0F8",
             "zerolinewidth": 2
            }
           }
          },
          "xaxis": {
           "automargin": false,
           "linecolor": "#444",
           "linewidth": 2,
           "minor": {
            "tickmode": "linear",
            "ticks": "outside"
           },
           "mirror": true,
           "showline": true,
           "tickmode": "linear",
           "ticks": "outside",
           "zeroline": false
          },
          "yaxis": {
           "automargin": false,
           "linecolor": "#444",
           "linewidth": 2,
           "minor": {
            "tickmode": "linear",
            "ticks": "outside"
           },
           "mirror": true,
           "showline": true,
           "ticks": "outside",
           "zeroline": false
          }
         }
        },
        "width": 600,
        "xaxis": {
         "dtick": 5,
         "minor": {
          "dtick": 1,
          "tick0": 0
         },
         "range": [
          0,
          30
         ],
         "tick0": 0,
         "title": {
          "text": "challenge rating"
         }
        },
        "yaxis": {
         "range": [
          -0.002,
          0.4
         ],
         "tickformat": "0.2f",
         "title": {
          "text": "CV"
         }
        }
       }
      }
     },
     "metadata": {},
     "output_type": "display_data"
    }
   ],
   "source": [
    "# plot monster damage average CV vs CR\n",
    "import pandas as pd\n",
    "\n",
    "# create figure\n",
    "fig = go.Figure(\n",
    "    layout=go.Layout(\n",
    "        template=tfb.FIG_TEMPLATE,\n",
    "        xaxis=dict(\n",
    "            title_text='challenge rating',\n",
    "            range=[0,30],\n",
    "            tick0=0, dtick=5,\n",
    "            minor=dict(tick0=0, dtick=1),\n",
    "        ),\n",
    "        yaxis=dict(\n",
    "            range=[-0.002,0.40],\n",
    "            title_text='CV',\n",
    "            tickformat='0.2f',\n",
    "        ),\n",
    "        legend=dict(\n",
    "            xanchor='left', yanchor='top',\n",
    "            x=0.00, y=1.00,\n",
    "            orientation='v',\n",
    "            tracegroupgap=0,\n",
    "        )\n",
    "    )\n",
    ")\n",
    "\n",
    "# load data\n",
    "df = pd.read_csv('../../assets/data/monster-damage-variability.csv')\n",
    "df = df.astype({\n",
    "    'monster': 'str', \n",
    "    'id': 'str',\n",
    "    'CR': 'float32', \n",
    "    'feature': 'str', \n",
    "    'mean': 'float32', \n",
    "    'variance': 'float32', \n",
    "    'standard deviation': 'float32', \n",
    "    'sigma/mean': 'float32', \n",
    "})\n",
    "dfG = df[['CR','mean','variance','standard deviation','sigma/mean']].groupby(['CR']).mean().reset_index()\n",
    "dfG.sort_values('CR', inplace=True)\n",
    "dfG = dfG[dfG['CR'].between(1,30)]\n",
    "\n",
    "fig.add_trace(go.Scatter(\n",
    "    x=dfG['CR'], \n",
    "    y=dfG['sigma/mean'],\n",
    "    name=f'monsters',\n",
    "    mode='markers+lines',\n",
    "    customdata=dfG['mean'],\n",
    "    hovertemplate=\n",
    "        'CR %{x:.0f}<br>'+\n",
    "        'CV %{y:,.2f}<br>' + \n",
    "        'damage %{customdata:,.1f}' + \n",
    "        '<extra></extra>'\n",
    "))\n",
    "\n",
    "# show figure\n",
    "fig.update_layout(width=600, height=450, barmode='group')\n",
    "fig.show(config=tfb.FIG_CONFIG)\n",
    "\n",
    "# save figures\n",
    "if SAVEFIGS:\n",
    "    fig.update_layout(autosize=True, width=None, height=None)\n",
    "    tfb.save_fig_html(fig, format='large', name=f'./fig-monster-damage-cv-vs-cr-large')\n",
    "    tfb.save_fig_html(fig, format='small', name=f'./fig-monster-damage-cv-vs-cr-small')"
   ]
  },
  {
   "cell_type": "code",
   "execution_count": 55,
   "metadata": {},
   "outputs": [
    {
     "data": {
      "application/vnd.plotly.v1+json": {
       "config": {
        "autosizable": true,
        "displayModeBar": "hover",
        "displaylogo": false,
        "modeBarButtonsToRemove": [
         "select2d",
         "lasso2d",
         "zoom2d",
         "zoomIn2d",
         "zoomOut2d",
         "pan2d",
         "autoScale2d",
         "hoverClosestCartesian",
         "hoverCompareCartesian",
         "toggleSpikelines",
         "resetScale2d"
        ],
        "plotlyServerURL": "https://plot.ly",
        "responsive": true,
        "showAxisDragHandles": false,
        "toImageButtonOptions": {
         "filename": "tfb-plot",
         "format": "png",
         "height": 450,
         "scale": 2,
         "width": 600
        }
       },
       "data": [
        {
         "hoverinfo": "skip",
         "line": {
          "color": "black",
          "dash": "dashdot",
          "width": 1
         },
         "mode": "lines+text",
         "name": "CV 0.10",
         "showlegend": false,
         "type": "scatter",
         "x": [
          0,
          20.4264871994757,
          37.13906763541037,
          55.708601453115556
         ],
         "y": [
          0,
          2.0426487199475707,
          3.713906763541037,
          5.570860145311556
         ]
        },
        {
         "hoverinfo": "skip",
         "line": {
          "color": "black",
          "dash": "dashdot",
          "width": 1
         },
         "mode": "lines+text",
         "name": "CV 0.20",
         "showlegend": false,
         "type": "scatter",
         "x": [
          0,
          17.179113807746667,
          31.23475237772121,
          46.85212856658182
         ],
         "y": [
          0,
          3.4358227615493337,
          6.246950475544243,
          9.370425713316363
         ]
        },
        {
         "hoverinfo": "skip",
         "line": {
          "color": "black",
          "dash": "dashdot",
          "width": 1
         },
         "mode": "lines+text",
         "name": "CV 0.40",
         "showlegend": false,
         "type": "scatter",
         "x": [
          0,
          11.65997668006996,
          21.199957600127203,
          31.799936400190806
         ],
         "y": [
          0,
          4.6639906720279845,
          8.47998304005088,
          12.719974560076322
         ]
        },
        {
         "hoverinfo": "skip",
         "line": {
          "color": "black",
          "dash": "dashdot",
          "width": 1
         },
         "mode": "lines+text",
         "name": "CV 0.60",
         "showlegend": false,
         "type": "scatter",
         "x": [
          0,
          8.461538461538462,
          15.384615384615385,
          23.076923076923077
         ],
         "y": [
          0,
          5.0769230769230775,
          9.230769230769232,
          13.846153846153847
         ]
        },
        {
         "hoverinfo": "text",
         "hovertext": [
          "1d4<br>mean 2.50<br>std dev 1.12<br>CV 0.45",
          "2d4<br>mean 5.00<br>std dev 1.58<br>CV 0.32",
          "3d4<br>mean 7.50<br>std dev 1.94<br>CV 0.26",
          "4d4<br>mean 10.00<br>std dev 2.24<br>CV 0.22",
          "5d4<br>mean 12.50<br>std dev 2.50<br>CV 0.20",
          "6d4<br>mean 15.00<br>std dev 2.74<br>CV 0.18",
          "7d4<br>mean 17.50<br>std dev 2.96<br>CV 0.17",
          "8d4<br>mean 20.00<br>std dev 3.16<br>CV 0.16",
          "9d4<br>mean 22.50<br>std dev 3.35<br>CV 0.15",
          "10d4<br>mean 25.00<br>std dev 3.54<br>CV 0.14",
          "11d4<br>mean 27.50<br>std dev 3.71<br>CV 0.13",
          "12d4<br>mean 30.00<br>std dev 3.87<br>CV 0.13",
          "13d4<br>mean 32.50<br>std dev 4.03<br>CV 0.12",
          "14d4<br>mean 35.00<br>std dev 4.18<br>CV 0.12",
          "15d4<br>mean 37.50<br>std dev 4.33<br>CV 0.12",
          "16d4<br>mean 40.00<br>std dev 4.47<br>CV 0.11",
          "17d4<br>mean 42.50<br>std dev 4.61<br>CV 0.11",
          "18d4<br>mean 45.00<br>std dev 4.74<br>CV 0.11",
          "19d4<br>mean 47.50<br>std dev 4.87<br>CV 0.10"
         ],
         "legendgroup": "2",
         "marker": {
          "line": {
           "color": "black",
           "width": 0
          },
          "size": 6,
          "symbol": "triangle-up"
         },
         "mode": "markers+lines",
         "name": "d4",
         "type": "scatter",
         "x": [
          2.5,
          5,
          7.5,
          10,
          12.5,
          15,
          17.5,
          20,
          22.5,
          25,
          27.5,
          30,
          32.5,
          35,
          37.5,
          40,
          42.5,
          45,
          47.5
         ],
         "y": [
          1.118033988749895,
          1.5811388300841898,
          1.9364916731037085,
          2.23606797749979,
          2.5,
          2.7386127875258306,
          2.958039891549808,
          3.1622776601683795,
          3.3541019662496847,
          3.5355339059327378,
          3.7080992435478315,
          3.872983346207417,
          4.031128874149275,
          4.183300132670378,
          4.330127018922194,
          4.47213595499958,
          4.6097722286464435,
          4.743416490252569,
          4.873397172404482
         ]
        },
        {
         "hoverinfo": "text",
         "hovertext": [
          "1d6<br>mean 3.50<br>std dev 1.71<br>CV 0.49",
          "2d6<br>mean 7.00<br>std dev 2.42<br>CV 0.35",
          "3d6<br>mean 10.50<br>std dev 2.96<br>CV 0.28",
          "4d6<br>mean 14.00<br>std dev 3.42<br>CV 0.24",
          "5d6<br>mean 17.50<br>std dev 3.82<br>CV 0.22",
          "6d6<br>mean 21.00<br>std dev 4.18<br>CV 0.20",
          "7d6<br>mean 24.50<br>std dev 4.52<br>CV 0.18",
          "8d6<br>mean 28.00<br>std dev 4.83<br>CV 0.17",
          "9d6<br>mean 31.50<br>std dev 5.12<br>CV 0.16",
          "10d6<br>mean 35.00<br>std dev 5.40<br>CV 0.15",
          "11d6<br>mean 38.50<br>std dev 5.66<br>CV 0.15",
          "12d6<br>mean 42.00<br>std dev 5.92<br>CV 0.14",
          "13d6<br>mean 45.50<br>std dev 6.16<br>CV 0.14",
          "14d6<br>mean 49.00<br>std dev 6.39<br>CV 0.13",
          "15d6<br>mean 52.50<br>std dev 6.61<br>CV 0.13",
          "16d6<br>mean 56.00<br>std dev 6.83<br>CV 0.12",
          "17d6<br>mean 59.50<br>std dev 7.04<br>CV 0.12",
          "18d6<br>mean 63.00<br>std dev 7.25<br>CV 0.12",
          "19d6<br>mean 66.50<br>std dev 7.44<br>CV 0.11"
         ],
         "legendgroup": "2",
         "marker": {
          "line": {
           "color": "black",
           "width": 0
          },
          "size": 6,
          "symbol": "square"
         },
         "mode": "markers+lines",
         "name": "d6",
         "type": "scatter",
         "x": [
          3.5,
          7,
          10.5,
          14,
          17.5,
          21,
          24.5,
          28,
          31.5,
          35,
          38.5,
          42,
          45.5,
          49,
          52.5,
          56,
          59.5,
          63,
          66.5
         ],
         "y": [
          1.707825127659933,
          2.4152294576982403,
          2.958039891549808,
          3.4156502553198647,
          3.818813079129864,
          4.183300132670378,
          4.518480570575315,
          4.830458915396483,
          5.123475382979799,
          5.400617248673224,
          5.664215155988803,
          5.916079783099616,
          6.15765106730371,
          6.39009650422695,
          6.614378277661476,
          6.831300510639721,
          7.04154339142588,
          7.245688373094719,
          7.444237144709119
         ]
        },
        {
         "hoverinfo": "text",
         "hovertext": [
          "1d8<br>mean 4.50<br>std dev 2.29<br>CV 0.51",
          "2d8<br>mean 9.00<br>std dev 3.24<br>CV 0.36",
          "3d8<br>mean 13.50<br>std dev 3.97<br>CV 0.29",
          "4d8<br>mean 18.00<br>std dev 4.58<br>CV 0.25",
          "5d8<br>mean 22.50<br>std dev 5.12<br>CV 0.23",
          "6d8<br>mean 27.00<br>std dev 5.61<br>CV 0.21",
          "7d8<br>mean 31.50<br>std dev 6.06<br>CV 0.19",
          "8d8<br>mean 36.00<br>std dev 6.48<br>CV 0.18",
          "9d8<br>mean 40.50<br>std dev 6.87<br>CV 0.17",
          "10d8<br>mean 45.00<br>std dev 7.25<br>CV 0.16",
          "11d8<br>mean 49.50<br>std dev 7.60<br>CV 0.15",
          "12d8<br>mean 54.00<br>std dev 7.94<br>CV 0.15",
          "13d8<br>mean 58.50<br>std dev 8.26<br>CV 0.14",
          "14d8<br>mean 63.00<br>std dev 8.57<br>CV 0.14",
          "15d8<br>mean 67.50<br>std dev 8.87<br>CV 0.13",
          "16d8<br>mean 72.00<br>std dev 9.17<br>CV 0.13",
          "17d8<br>mean 76.50<br>std dev 9.45<br>CV 0.12",
          "18d8<br>mean 81.00<br>std dev 9.72<br>CV 0.12",
          "19d8<br>mean 85.50<br>std dev 9.99<br>CV 0.12"
         ],
         "legendgroup": "2",
         "marker": {
          "line": {
           "color": "black",
           "width": 0
          },
          "size": 6,
          "symbol": "diamond"
         },
         "mode": "markers+lines",
         "name": "d8",
         "type": "scatter",
         "x": [
          4.5,
          9,
          13.5,
          18,
          22.5,
          27,
          31.5,
          36,
          40.5,
          45,
          49.5,
          54,
          58.5,
          63,
          67.5,
          72,
          76.5,
          81,
          85.5
         ],
         "y": [
          2.29128784747792,
          3.24037034920393,
          3.968626966596886,
          4.58257569495584,
          5.123475382979799,
          5.612486080160912,
          6.06217782649107,
          6.48074069840786,
          6.87386354243376,
          7.245688373094719,
          7.599342076785332,
          7.937253933193772,
          8.261355820929152,
          8.573214099741124,
          8.874119674649425,
          9.16515138991168,
          9.447221813845593,
          9.72111104761179,
          9.987492177719089
         ]
        },
        {
         "hoverinfo": "text",
         "hovertext": [
          "1d10<br>mean 5.50<br>std dev 2.87<br>CV 0.52",
          "2d10<br>mean 11.00<br>std dev 4.06<br>CV 0.37",
          "3d10<br>mean 16.50<br>std dev 4.97<br>CV 0.30",
          "4d10<br>mean 22.00<br>std dev 5.74<br>CV 0.26",
          "5d10<br>mean 27.50<br>std dev 6.42<br>CV 0.23",
          "6d10<br>mean 33.00<br>std dev 7.04<br>CV 0.21",
          "7d10<br>mean 38.50<br>std dev 7.60<br>CV 0.20",
          "8d10<br>mean 44.00<br>std dev 8.12<br>CV 0.18",
          "9d10<br>mean 49.50<br>std dev 8.62<br>CV 0.17",
          "10d10<br>mean 55.00<br>std dev 9.08<br>CV 0.17",
          "11d10<br>mean 60.50<br>std dev 9.53<br>CV 0.16",
          "12d10<br>mean 66.00<br>std dev 9.95<br>CV 0.15",
          "13d10<br>mean 71.50<br>std dev 10.36<br>CV 0.14",
          "14d10<br>mean 77.00<br>std dev 10.75<br>CV 0.14",
          "15d10<br>mean 82.50<br>std dev 11.12<br>CV 0.13",
          "16d10<br>mean 88.00<br>std dev 11.49<br>CV 0.13",
          "17d10<br>mean 93.50<br>std dev 11.84<br>CV 0.13",
          "18d10<br>mean 99.00<br>std dev 12.19<br>CV 0.12",
          "19d10<br>mean 104.50<br>std dev 12.52<br>CV 0.12"
         ],
         "legendgroup": "2",
         "marker": {
          "line": {
           "color": "black",
           "width": 0
          },
          "size": 6,
          "symbol": "pentagon"
         },
         "mode": "markers+lines",
         "name": "d10",
         "type": "scatter",
         "x": [
          5.5,
          11,
          16.5,
          22,
          27.5,
          33,
          38.5,
          44,
          49.5,
          55,
          60.5,
          66,
          71.5,
          77,
          82.5,
          88,
          93.5,
          99,
          104.5
         ],
         "y": [
          2.8722813232690143,
          4.06201920231798,
          4.9749371855331,
          5.744562646538029,
          6.422616289332565,
          7.035623639735144,
          7.599342076785332,
          8.12403840463596,
          8.616843969807043,
          9.082951062292475,
          9.526279441628825,
          9.9498743710662,
          10.35615758860399,
          10.747092630102339,
          11.124297730643494,
          11.489125293076057,
          11.84271928232701,
          12.186057606953941,
          12.519984025548915
         ]
        },
        {
         "hoverinfo": "text",
         "hovertext": [
          "1d12<br>mean 6.50<br>std dev 3.45<br>CV 0.53",
          "2d12<br>mean 13.00<br>std dev 4.88<br>CV 0.38",
          "3d12<br>mean 19.50<br>std dev 5.98<br>CV 0.31",
          "4d12<br>mean 26.00<br>std dev 6.90<br>CV 0.27",
          "5d12<br>mean 32.50<br>std dev 7.72<br>CV 0.24",
          "6d12<br>mean 39.00<br>std dev 8.46<br>CV 0.22",
          "7d12<br>mean 45.50<br>std dev 9.13<br>CV 0.20",
          "8d12<br>mean 52.00<br>std dev 9.76<br>CV 0.19",
          "9d12<br>mean 58.50<br>std dev 10.36<br>CV 0.18",
          "10d12<br>mean 65.00<br>std dev 10.92<br>CV 0.17",
          "11d12<br>mean 71.50<br>std dev 11.45<br>CV 0.16",
          "12d12<br>mean 78.00<br>std dev 11.96<br>CV 0.15",
          "13d12<br>mean 84.50<br>std dev 12.45<br>CV 0.15",
          "14d12<br>mean 91.00<br>std dev 12.92<br>CV 0.14",
          "15d12<br>mean 97.50<br>std dev 13.37<br>CV 0.14",
          "16d12<br>mean 104.00<br>std dev 13.81<br>CV 0.13",
          "17d12<br>mean 110.50<br>std dev 14.23<br>CV 0.13",
          "18d12<br>mean 117.00<br>std dev 14.65<br>CV 0.13",
          "19d12<br>mean 123.50<br>std dev 15.05<br>CV 0.12"
         ],
         "legendgroup": "2",
         "marker": {
          "line": {
           "color": "black",
           "width": 0
          },
          "size": 6,
          "symbol": "hexagon"
         },
         "mode": "markers+lines",
         "name": "d12",
         "type": "scatter",
         "x": [
          6.5,
          13,
          19.5,
          26,
          32.5,
          39,
          45.5,
          52,
          58.5,
          65,
          71.5,
          78,
          84.5,
          91,
          97.5,
          104,
          110.5,
          117,
          123.5
         ],
         "y": [
          3.452052529534663,
          4.881939505292271,
          5.979130371550699,
          6.904105059069324,
          7.719024117939602,
          8.455767262643882,
          9.133272505880162,
          9.763879010584548,
          10.35615758860399,
          10.916348595875224,
          11.449162997063716,
          11.958260743101398,
          12.446552400832408,
          12.916397846665065,
          13.369741957120938,
          13.80821011813863,
          14.233177204452067,
          14.64581851587681,
          15.047148124035534
         ]
        },
        {
         "customdata": [
          1,
          2,
          3,
          4,
          5,
          6,
          7,
          8,
          9,
          10,
          11,
          12,
          13,
          14,
          15,
          16,
          17,
          18,
          19,
          20,
          21,
          22,
          23,
          24,
          25,
          26,
          27
         ],
         "hovertemplate": "CR %{customdata:.0f}<br>mean %{x:.1f}<br>std dev %{y:,.1f}<extra></extra>",
         "legendgroup": "1",
         "marker": {
          "color": "#636EFA",
          "line": {
           "color": "black",
           "width": 1
          },
          "size": 8
         },
         "mode": "markers",
         "name": "monsters",
         "type": "scatter",
         "x": [
          7.5,
          9.5,
          9,
          11.5,
          13,
          15,
          12,
          20,
          18,
          19.5,
          20.5,
          24.5,
          27.5,
          30,
          29,
          22.5,
          25.75,
          24.25,
          28,
          28.5,
          27.5,
          27.5,
          30,
          41,
          47.5,
          40,
          50
         ],
         "y": [
          2.291287899017334,
          2.415229558944702,
          2.415229558944702,
          2.9580399990081787,
          3.240370273590088,
          3.4156503677368164,
          3.240370273590088,
          4.118046760559082,
          3.9686269760131836,
          4.396958351135254,
          4.062019348144531,
          5.214646339416504,
          4.890466690063477,
          5.180089950561523,
          4.890103340148926,
          4.915843486785889,
          5.456053733825684,
          4.366672992706299,
          5.612485885620117,
          4.9769673347473145,
          5.979130268096924,
          5.74456262588501,
          5.612485885620117,
          7.035623550415039,
          6.677072525024414,
          6.5866899490356445,
          7.348469257354736
         ]
        }
       ],
       "layout": {
        "annotations": [
         {
          "bgcolor": "white",
          "showarrow": false,
          "text": "0.10",
          "x": 20.4264871994757,
          "y": 2.0426487199475707
         },
         {
          "bgcolor": "white",
          "showarrow": false,
          "text": "0.20",
          "x": 17.179113807746667,
          "y": 3.4358227615493337
         },
         {
          "bgcolor": "white",
          "showarrow": false,
          "text": "0.40",
          "x": 11.65997668006996,
          "y": 4.6639906720279845
         },
         {
          "bgcolor": "white",
          "showarrow": false,
          "text": "0.60",
          "x": 8.461538461538462,
          "y": 5.0769230769230775
         }
        ],
        "barmode": "group",
        "height": 500,
        "legend": {
         "bgcolor": "rgba(0,0,0,0)",
         "orientation": "h",
         "tracegroupgap": 0,
         "traceorder": "grouped",
         "x": 0,
         "xanchor": "left",
         "y": 1,
         "yanchor": "top"
        },
        "template": {
         "layout": {
          "autosize": false,
          "font": {
           "family": "sans-serif",
           "size": 14
          },
          "hoverlabel": {
           "align": "left"
          },
          "hovermode": "closest",
          "margin": {
           "b": 55,
           "l": 60,
           "pad": 4,
           "r": 25,
           "t": 20
          },
          "template": {
           "data": {
            "bar": [
             {
              "error_x": {
               "color": "#2a3f5f"
              },
              "error_y": {
               "color": "#2a3f5f"
              },
              "marker": {
               "line": {
                "color": "white",
                "width": 0.5
               },
               "pattern": {
                "fillmode": "overlay",
                "size": 10,
                "solidity": 0.2
               }
              },
              "type": "bar"
             }
            ],
            "barpolar": [
             {
              "marker": {
               "line": {
                "color": "white",
                "width": 0.5
               },
               "pattern": {
                "fillmode": "overlay",
                "size": 10,
                "solidity": 0.2
               }
              },
              "type": "barpolar"
             }
            ],
            "carpet": [
             {
              "aaxis": {
               "endlinecolor": "#2a3f5f",
               "gridcolor": "#C8D4E3",
               "linecolor": "#C8D4E3",
               "minorgridcolor": "#C8D4E3",
               "startlinecolor": "#2a3f5f"
              },
              "baxis": {
               "endlinecolor": "#2a3f5f",
               "gridcolor": "#C8D4E3",
               "linecolor": "#C8D4E3",
               "minorgridcolor": "#C8D4E3",
               "startlinecolor": "#2a3f5f"
              },
              "type": "carpet"
             }
            ],
            "choropleth": [
             {
              "colorbar": {
               "outlinewidth": 0,
               "ticks": ""
              },
              "type": "choropleth"
             }
            ],
            "contour": [
             {
              "colorbar": {
               "outlinewidth": 0,
               "ticks": ""
              },
              "colorscale": [
               [
                0,
                "#0d0887"
               ],
               [
                0.1111111111111111,
                "#46039f"
               ],
               [
                0.2222222222222222,
                "#7201a8"
               ],
               [
                0.3333333333333333,
                "#9c179e"
               ],
               [
                0.4444444444444444,
                "#bd3786"
               ],
               [
                0.5555555555555556,
                "#d8576b"
               ],
               [
                0.6666666666666666,
                "#ed7953"
               ],
               [
                0.7777777777777778,
                "#fb9f3a"
               ],
               [
                0.8888888888888888,
                "#fdca26"
               ],
               [
                1,
                "#f0f921"
               ]
              ],
              "type": "contour"
             }
            ],
            "contourcarpet": [
             {
              "colorbar": {
               "outlinewidth": 0,
               "ticks": ""
              },
              "type": "contourcarpet"
             }
            ],
            "heatmap": [
             {
              "colorbar": {
               "outlinewidth": 0,
               "ticks": ""
              },
              "colorscale": [
               [
                0,
                "#0d0887"
               ],
               [
                0.1111111111111111,
                "#46039f"
               ],
               [
                0.2222222222222222,
                "#7201a8"
               ],
               [
                0.3333333333333333,
                "#9c179e"
               ],
               [
                0.4444444444444444,
                "#bd3786"
               ],
               [
                0.5555555555555556,
                "#d8576b"
               ],
               [
                0.6666666666666666,
                "#ed7953"
               ],
               [
                0.7777777777777778,
                "#fb9f3a"
               ],
               [
                0.8888888888888888,
                "#fdca26"
               ],
               [
                1,
                "#f0f921"
               ]
              ],
              "type": "heatmap"
             }
            ],
            "heatmapgl": [
             {
              "colorbar": {
               "outlinewidth": 0,
               "ticks": ""
              },
              "colorscale": [
               [
                0,
                "#0d0887"
               ],
               [
                0.1111111111111111,
                "#46039f"
               ],
               [
                0.2222222222222222,
                "#7201a8"
               ],
               [
                0.3333333333333333,
                "#9c179e"
               ],
               [
                0.4444444444444444,
                "#bd3786"
               ],
               [
                0.5555555555555556,
                "#d8576b"
               ],
               [
                0.6666666666666666,
                "#ed7953"
               ],
               [
                0.7777777777777778,
                "#fb9f3a"
               ],
               [
                0.8888888888888888,
                "#fdca26"
               ],
               [
                1,
                "#f0f921"
               ]
              ],
              "type": "heatmapgl"
             }
            ],
            "histogram": [
             {
              "marker": {
               "pattern": {
                "fillmode": "overlay",
                "size": 10,
                "solidity": 0.2
               }
              },
              "type": "histogram"
             }
            ],
            "histogram2d": [
             {
              "colorbar": {
               "outlinewidth": 0,
               "ticks": ""
              },
              "colorscale": [
               [
                0,
                "#0d0887"
               ],
               [
                0.1111111111111111,
                "#46039f"
               ],
               [
                0.2222222222222222,
                "#7201a8"
               ],
               [
                0.3333333333333333,
                "#9c179e"
               ],
               [
                0.4444444444444444,
                "#bd3786"
               ],
               [
                0.5555555555555556,
                "#d8576b"
               ],
               [
                0.6666666666666666,
                "#ed7953"
               ],
               [
                0.7777777777777778,
                "#fb9f3a"
               ],
               [
                0.8888888888888888,
                "#fdca26"
               ],
               [
                1,
                "#f0f921"
               ]
              ],
              "type": "histogram2d"
             }
            ],
            "histogram2dcontour": [
             {
              "colorbar": {
               "outlinewidth": 0,
               "ticks": ""
              },
              "colorscale": [
               [
                0,
                "#0d0887"
               ],
               [
                0.1111111111111111,
                "#46039f"
               ],
               [
                0.2222222222222222,
                "#7201a8"
               ],
               [
                0.3333333333333333,
                "#9c179e"
               ],
               [
                0.4444444444444444,
                "#bd3786"
               ],
               [
                0.5555555555555556,
                "#d8576b"
               ],
               [
                0.6666666666666666,
                "#ed7953"
               ],
               [
                0.7777777777777778,
                "#fb9f3a"
               ],
               [
                0.8888888888888888,
                "#fdca26"
               ],
               [
                1,
                "#f0f921"
               ]
              ],
              "type": "histogram2dcontour"
             }
            ],
            "mesh3d": [
             {
              "colorbar": {
               "outlinewidth": 0,
               "ticks": ""
              },
              "type": "mesh3d"
             }
            ],
            "parcoords": [
             {
              "line": {
               "colorbar": {
                "outlinewidth": 0,
                "ticks": ""
               }
              },
              "type": "parcoords"
             }
            ],
            "pie": [
             {
              "automargin": true,
              "type": "pie"
             }
            ],
            "scatter": [
             {
              "fillpattern": {
               "fillmode": "overlay",
               "size": 10,
               "solidity": 0.2
              },
              "type": "scatter"
             }
            ],
            "scatter3d": [
             {
              "line": {
               "colorbar": {
                "outlinewidth": 0,
                "ticks": ""
               }
              },
              "marker": {
               "colorbar": {
                "outlinewidth": 0,
                "ticks": ""
               }
              },
              "type": "scatter3d"
             }
            ],
            "scattercarpet": [
             {
              "marker": {
               "colorbar": {
                "outlinewidth": 0,
                "ticks": ""
               }
              },
              "type": "scattercarpet"
             }
            ],
            "scattergeo": [
             {
              "marker": {
               "colorbar": {
                "outlinewidth": 0,
                "ticks": ""
               }
              },
              "type": "scattergeo"
             }
            ],
            "scattergl": [
             {
              "marker": {
               "colorbar": {
                "outlinewidth": 0,
                "ticks": ""
               }
              },
              "type": "scattergl"
             }
            ],
            "scattermapbox": [
             {
              "marker": {
               "colorbar": {
                "outlinewidth": 0,
                "ticks": ""
               }
              },
              "type": "scattermapbox"
             }
            ],
            "scatterpolar": [
             {
              "marker": {
               "colorbar": {
                "outlinewidth": 0,
                "ticks": ""
               }
              },
              "type": "scatterpolar"
             }
            ],
            "scatterpolargl": [
             {
              "marker": {
               "colorbar": {
                "outlinewidth": 0,
                "ticks": ""
               }
              },
              "type": "scatterpolargl"
             }
            ],
            "scatterternary": [
             {
              "marker": {
               "colorbar": {
                "outlinewidth": 0,
                "ticks": ""
               }
              },
              "type": "scatterternary"
             }
            ],
            "surface": [
             {
              "colorbar": {
               "outlinewidth": 0,
               "ticks": ""
              },
              "colorscale": [
               [
                0,
                "#0d0887"
               ],
               [
                0.1111111111111111,
                "#46039f"
               ],
               [
                0.2222222222222222,
                "#7201a8"
               ],
               [
                0.3333333333333333,
                "#9c179e"
               ],
               [
                0.4444444444444444,
                "#bd3786"
               ],
               [
                0.5555555555555556,
                "#d8576b"
               ],
               [
                0.6666666666666666,
                "#ed7953"
               ],
               [
                0.7777777777777778,
                "#fb9f3a"
               ],
               [
                0.8888888888888888,
                "#fdca26"
               ],
               [
                1,
                "#f0f921"
               ]
              ],
              "type": "surface"
             }
            ],
            "table": [
             {
              "cells": {
               "fill": {
                "color": "#EBF0F8"
               },
               "line": {
                "color": "white"
               }
              },
              "header": {
               "fill": {
                "color": "#C8D4E3"
               },
               "line": {
                "color": "white"
               }
              },
              "type": "table"
             }
            ]
           },
           "layout": {
            "annotationdefaults": {
             "arrowcolor": "#2a3f5f",
             "arrowhead": 0,
             "arrowwidth": 1
            },
            "autotypenumbers": "strict",
            "coloraxis": {
             "colorbar": {
              "outlinewidth": 0,
              "ticks": ""
             }
            },
            "colorscale": {
             "diverging": [
              [
               0,
               "#8e0152"
              ],
              [
               0.1,
               "#c51b7d"
              ],
              [
               0.2,
               "#de77ae"
              ],
              [
               0.3,
               "#f1b6da"
              ],
              [
               0.4,
               "#fde0ef"
              ],
              [
               0.5,
               "#f7f7f7"
              ],
              [
               0.6,
               "#e6f5d0"
              ],
              [
               0.7,
               "#b8e186"
              ],
              [
               0.8,
               "#7fbc41"
              ],
              [
               0.9,
               "#4d9221"
              ],
              [
               1,
               "#276419"
              ]
             ],
             "sequential": [
              [
               0,
               "#0d0887"
              ],
              [
               0.1111111111111111,
               "#46039f"
              ],
              [
               0.2222222222222222,
               "#7201a8"
              ],
              [
               0.3333333333333333,
               "#9c179e"
              ],
              [
               0.4444444444444444,
               "#bd3786"
              ],
              [
               0.5555555555555556,
               "#d8576b"
              ],
              [
               0.6666666666666666,
               "#ed7953"
              ],
              [
               0.7777777777777778,
               "#fb9f3a"
              ],
              [
               0.8888888888888888,
               "#fdca26"
              ],
              [
               1,
               "#f0f921"
              ]
             ],
             "sequentialminus": [
              [
               0,
               "#0d0887"
              ],
              [
               0.1111111111111111,
               "#46039f"
              ],
              [
               0.2222222222222222,
               "#7201a8"
              ],
              [
               0.3333333333333333,
               "#9c179e"
              ],
              [
               0.4444444444444444,
               "#bd3786"
              ],
              [
               0.5555555555555556,
               "#d8576b"
              ],
              [
               0.6666666666666666,
               "#ed7953"
              ],
              [
               0.7777777777777778,
               "#fb9f3a"
              ],
              [
               0.8888888888888888,
               "#fdca26"
              ],
              [
               1,
               "#f0f921"
              ]
             ]
            },
            "colorway": [
             "#636efa",
             "#EF553B",
             "#00cc96",
             "#ab63fa",
             "#FFA15A",
             "#19d3f3",
             "#FF6692",
             "#B6E880",
             "#FF97FF",
             "#FECB52"
            ],
            "font": {
             "color": "#2a3f5f"
            },
            "geo": {
             "bgcolor": "white",
             "lakecolor": "white",
             "landcolor": "white",
             "showlakes": true,
             "showland": true,
             "subunitcolor": "#C8D4E3"
            },
            "hoverlabel": {
             "align": "left"
            },
            "hovermode": "closest",
            "mapbox": {
             "style": "light"
            },
            "paper_bgcolor": "white",
            "plot_bgcolor": "white",
            "polar": {
             "angularaxis": {
              "gridcolor": "#EBF0F8",
              "linecolor": "#EBF0F8",
              "ticks": ""
             },
             "bgcolor": "white",
             "radialaxis": {
              "gridcolor": "#EBF0F8",
              "linecolor": "#EBF0F8",
              "ticks": ""
             }
            },
            "scene": {
             "xaxis": {
              "backgroundcolor": "white",
              "gridcolor": "#DFE8F3",
              "gridwidth": 2,
              "linecolor": "#EBF0F8",
              "showbackground": true,
              "ticks": "",
              "zerolinecolor": "#EBF0F8"
             },
             "yaxis": {
              "backgroundcolor": "white",
              "gridcolor": "#DFE8F3",
              "gridwidth": 2,
              "linecolor": "#EBF0F8",
              "showbackground": true,
              "ticks": "",
              "zerolinecolor": "#EBF0F8"
             },
             "zaxis": {
              "backgroundcolor": "white",
              "gridcolor": "#DFE8F3",
              "gridwidth": 2,
              "linecolor": "#EBF0F8",
              "showbackground": true,
              "ticks": "",
              "zerolinecolor": "#EBF0F8"
             }
            },
            "shapedefaults": {
             "line": {
              "color": "#2a3f5f"
             }
            },
            "ternary": {
             "aaxis": {
              "gridcolor": "#DFE8F3",
              "linecolor": "#A2B1C6",
              "ticks": ""
             },
             "baxis": {
              "gridcolor": "#DFE8F3",
              "linecolor": "#A2B1C6",
              "ticks": ""
             },
             "bgcolor": "white",
             "caxis": {
              "gridcolor": "#DFE8F3",
              "linecolor": "#A2B1C6",
              "ticks": ""
             }
            },
            "title": {
             "x": 0.05
            },
            "xaxis": {
             "automargin": true,
             "gridcolor": "#EBF0F8",
             "linecolor": "#EBF0F8",
             "ticks": "",
             "title": {
              "standoff": 15
             },
             "zerolinecolor": "#EBF0F8",
             "zerolinewidth": 2
            },
            "yaxis": {
             "automargin": true,
             "gridcolor": "#EBF0F8",
             "linecolor": "#EBF0F8",
             "ticks": "",
             "title": {
              "standoff": 15
             },
             "zerolinecolor": "#EBF0F8",
             "zerolinewidth": 2
            }
           }
          },
          "xaxis": {
           "automargin": false,
           "linecolor": "#444",
           "linewidth": 2,
           "minor": {
            "tickmode": "linear",
            "ticks": "outside"
           },
           "mirror": true,
           "showline": true,
           "tickmode": "linear",
           "ticks": "outside",
           "zeroline": false
          },
          "yaxis": {
           "automargin": false,
           "linecolor": "#444",
           "linewidth": 2,
           "minor": {
            "tickmode": "linear",
            "ticks": "outside"
           },
           "mirror": true,
           "showline": true,
           "ticks": "outside",
           "zeroline": false
          }
         }
        },
        "width": 600,
        "xaxis": {
         "dtick": 10,
         "minor": {
          "dtick": 5,
          "tick0": 0
         },
         "range": [
          0,
          40
         ],
         "tick0": 0,
         "title": {
          "text": "mean"
         }
        },
        "yaxis": {
         "range": [
          0,
          10
         ],
         "title": {
          "text": "standard deviation"
         }
        }
       }
      }
     },
     "metadata": {},
     "output_type": "display_data"
    }
   ],
   "source": [
    "# plot monster damage average CV vs CR\n",
    "import pandas as pd\n",
    "\n",
    "# create figure\n",
    "fig = go.Figure(\n",
    "    layout=go.Layout(\n",
    "        template=tfb.FIG_TEMPLATE,\n",
    "        xaxis=dict(\n",
    "            title_text='mean',\n",
    "            range=[0,40],\n",
    "            tick0=0, dtick=10,\n",
    "            minor=dict(tick0=0, dtick=5),\n",
    "        ),\n",
    "        yaxis=dict(\n",
    "            range=[0,10],\n",
    "            title_text='standard deviation',\n",
    "        ),\n",
    "        legend=dict(\n",
    "            xanchor='left', yanchor='top',\n",
    "            x=0.00, y=1.00,\n",
    "            orientation='h',\n",
    "            tracegroupgap=0,\n",
    "            traceorder='grouped',\n",
    "            bgcolor='rgba(0,0,0,0)',\n",
    "        )\n",
    "    )\n",
    ")\n",
    "\n",
    "for cv in [0.1,0.2,0.4,0.6]:\n",
    "    angle = np.arctan(cv)\n",
    "    r = [0,22,40,60]\n",
    "    text = 1*[''] + 1*[f'{cv:.2f}'] + 2*['']\n",
    "    b = 10\n",
    "    a = 40\n",
    "    rp = (np.array(r)/40)*a*b/np.sqrt((b*np.cos(angle))**2 + (a*np.sin(angle))**2)\n",
    "    xp = rp*np.cos(angle)\n",
    "    yp = rp*np.sin(angle)\n",
    "    fig.add_trace(go.Scatter(\n",
    "        x=xp, \n",
    "        y=yp,\n",
    "        name=f'CV {cv:.2f}',\n",
    "        mode='lines+text',\n",
    "        line=dict(dash='dashdot', color='black', width=1),\n",
    "        showlegend=False,\n",
    "        hoverinfo='skip',\n",
    "    ))\n",
    "    for i in range(len(text)):\n",
    "        if len(text[i]) > 0:\n",
    "            fig.add_annotation(\n",
    "                x=xp[i], \n",
    "                y=yp[i],\n",
    "                showarrow=False,\n",
    "                text=text[i],\n",
    "                bgcolor='white',\n",
    "            )\n",
    "\n",
    "for d, s in zip([4,6,8,10,12],['triangle-up','square','diamond','pentagon','hexagon']):\n",
    "    x = []\n",
    "    y = []\n",
    "    t = []\n",
    "    ht = []\n",
    "    for n in range(1, 20):\n",
    "        deq = f'{n}d{d}'\n",
    "        roll = Dice_Roller(deq).value\n",
    "        x.append(roll.mean())\n",
    "        y.append(roll.sd())\n",
    "        t.append(deq)\n",
    "        ht.append(f'{deq}<br>mean {roll.mean():.2f}<br>std dev {roll.sd():.2f}<br>CV {roll.sd()/roll.mean():.2f}')\n",
    "\n",
    "    fig.add_trace(go.Scatter(\n",
    "        x=x,\n",
    "        y=y,\n",
    "        name=f'd{d}',\n",
    "        legendgroup='2',\n",
    "        mode='markers+lines',\n",
    "        hoverinfo='text',\n",
    "        hovertext=ht,\n",
    "        marker=dict(size=6, symbol=s, line=dict(width=0, color='black')),\n",
    "    ))\n",
    "\n",
    "# load data\n",
    "df = pd.read_csv('../../assets/data/monster-damage-variability.csv')\n",
    "df = df.astype({\n",
    "    'monster': 'str', \n",
    "    'id': 'str',\n",
    "    'CR': 'float32', \n",
    "    'feature': 'str', \n",
    "    'mean': 'float32', \n",
    "    'variance': 'float32', \n",
    "    'standard deviation': 'float32', \n",
    "    'sigma/mean': 'float32', \n",
    "})\n",
    "dfG = df[['CR','mean','variance','standard deviation','sigma/mean']].groupby(['CR']).median().reset_index()\n",
    "dfG.sort_values('CR', inplace=True)\n",
    "dfG = dfG[dfG['CR'].between(1,30)]\n",
    "\n",
    "fig.add_trace(go.Scatter(\n",
    "    x=dfG['mean'], \n",
    "    y=dfG['standard deviation'],\n",
    "    name=f'monsters',\n",
    "    legendgroup='1',\n",
    "    mode='markers',\n",
    "    marker=dict(color='#636EFA', size=8, line=dict(width=1, color='black')),\n",
    "    customdata=dfG['CR'],\n",
    "    hovertemplate=\n",
    "        'CR %{customdata:.0f}<br>'+\n",
    "        'mean %{x:.1f}<br>'+\n",
    "        'std dev %{y:,.1f}' + \n",
    "        '<extra></extra>'\n",
    "))\n",
    "\n",
    "# show figure\n",
    "fig.update_layout(width=600, height=500, barmode='group')\n",
    "fig.show(config=tfb.FIG_CONFIG)\n",
    "\n",
    "# save figures\n",
    "if SAVEFIGS:\n",
    "    fig.update_layout(autosize=True, width=None, height=None)\n",
    "    tfb.save_fig_html(fig, format='large', name=f'./fig-monster-damage-sigma-vs-mean-large', style='aspect-ratio:600/500;', selector=dict(name='monsters'))\n",
    "    tfb.save_fig_html(fig, format='small', name=f'./fig-monster-damage-sigma-vs-mean-small', style='aspect-ratio:600/500;', selector=dict(name='monsters'))"
   ]
  }
 ],
 "metadata": {
  "kernelspec": {
   "display_name": "thefinishedbook",
   "language": "python",
   "name": "python3"
  },
  "language_info": {
   "codemirror_mode": {
    "name": "ipython",
    "version": 3
   },
   "file_extension": ".py",
   "mimetype": "text/x-python",
   "name": "python",
   "nbconvert_exporter": "python",
   "pygments_lexer": "ipython3",
   "version": "3.10.5"
  },
  "orig_nbformat": 4
 },
 "nbformat": 4,
 "nbformat_minor": 2
}
